{
 "cells": [
  {
   "cell_type": "code",
   "execution_count": 1,
   "metadata": {},
   "outputs": [],
   "source": [
    "# Q1\n",
    "ACCESS_TOKEN = '...'"
   ]
  },
  {
   "cell_type": "code",
   "execution_count": 7,
   "metadata": {},
   "outputs": [
    {
     "name": "stdout",
     "output_type": "stream",
     "text": [
      "17\n"
     ]
    }
   ],
   "source": [
    "# Q2\n",
    "# Consider your favorite GitHub repository. Use PyGithub to query for the number of stargazers. \n",
    "from github import Github\n",
    "REPO = \"scikit-learn/administrative\"\n",
    "client = Github(ACCESS_TOKEN, per_page=10)\n",
    "#user = client.get_user(USER)\n",
    "repo = client.get_repo(REPO)\n",
    "\n",
    "# get a list of people who have bookmarked the repo\n",
    "stargazers = [s for s in repo.get_stargazers()]\n",
    "print(len(stargazers))"
   ]
  },
  {
   "cell_type": "code",
   "execution_count": 9,
   "metadata": {},
   "outputs": [
    {
     "name": "stdout",
     "output_type": "stream",
     "text": [
      "Number of nodes: 6\n",
      "Number of edges: 6\n",
      "Average in-degree: 1.00\n",
      "Average out-degree: 1.00\n",
      "Degree Centrality:\n",
      "  A: 0.20\n",
      "  B: 0.60\n",
      "  C: 0.40\n",
      "  E: 0.60\n",
      "  D: 0.40\n",
      "  F: 0.20\n",
      "Betweenness Centrality:\n",
      "  A: 0.00\n",
      "  B: 0.40\n",
      "  C: 0.40\n",
      "  E: 0.40\n",
      "  D: 0.15\n",
      "  F: 0.00\n",
      "Closeness Centrality:\n",
      "  A: 0.00\n",
      "  B: 0.46\n",
      "  C: 0.40\n",
      "  E: 0.36\n",
      "  D: 0.32\n",
      "  F: 0.36\n"
     ]
    }
   ],
   "source": [
    "# Q3\n",
    "import networkx as nx\n",
    "\n",
    "# graph object\n",
    "g = nx.DiGraph()\n",
    "# add edges\n",
    "g.add_edge('A', 'B')\n",
    "g.add_edge('B', 'C')\n",
    "g.add_edge('C', 'E')\n",
    "g.add_edge('E', 'D')\n",
    "g.add_edge('E', 'F')\n",
    "g.add_edge('D', 'B')\n",
    "\n",
    "# Compute metrics\n",
    "num_nodes = g.number_of_nodes()\n",
    "num_edges = g.number_of_edges()\n",
    "avg_in_degree = sum(dict(g.in_degree()).values()) / float(num_nodes)\n",
    "avg_out_degree = sum(dict(g.out_degree()).values()) / float(num_nodes)\n",
    "degree_centrality = nx.degree_centrality(g)\n",
    "betweenness_centrality = nx.betweenness_centrality(g)\n",
    "closeness_centrality = nx.closeness_centrality(g)\n",
    "\n",
    "# Print results\n",
    "print(f\"Number of nodes: {num_nodes}\")\n",
    "print(f\"Number of edges: {num_edges}\")\n",
    "print(f\"Average in-degree: {avg_in_degree:.2f}\")\n",
    "print(f\"Average out-degree: {avg_out_degree:.2f}\")\n",
    "print(\"Degree Centrality:\")\n",
    "for node, centrality in degree_centrality.items():\n",
    "    print(f\"  {node}: {centrality:.2f}\")\n",
    "print(\"Betweenness Centrality:\")\n",
    "for node, centrality in betweenness_centrality.items():\n",
    "    print(f\"  {node}: {centrality:.2f}\")\n",
    "print(\"Closeness Centrality:\")\n",
    "for node, centrality in closeness_centrality.items():\n",
    "    print(f\"  {node}: {centrality:.2f}\")"
   ]
  },
  {
   "cell_type": "code",
   "execution_count": null,
   "metadata": {},
   "outputs": [],
   "source": []
  }
 ],
 "metadata": {
  "kernelspec": {
   "display_name": "Python 3",
   "language": "python",
   "name": "python3"
  },
  "language_info": {
   "codemirror_mode": {
    "name": "ipython",
    "version": 3
   },
   "file_extension": ".py",
   "mimetype": "text/x-python",
   "name": "python",
   "nbconvert_exporter": "python",
   "pygments_lexer": "ipython3",
   "version": "3.11.8"
  }
 },
 "nbformat": 4,
 "nbformat_minor": 2
}
