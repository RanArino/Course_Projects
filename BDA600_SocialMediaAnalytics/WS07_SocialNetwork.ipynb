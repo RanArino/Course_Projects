{
 "cells": [
  {
   "cell_type": "code",
   "execution_count": 12,
   "metadata": {},
   "outputs": [],
   "source": [
    "import networkx as nx\n",
    "import numpy as np"
   ]
  },
  {
   "cell_type": "code",
   "execution_count": 11,
   "metadata": {},
   "outputs": [
    {
     "data": {
      "text/plain": [
       "{'A': 1.1603458216871265e-11,\n",
       " 'B': 3.406371987829287e-06,\n",
       " 'C': 0.9999999999941983}"
      ]
     },
     "execution_count": 11,
     "metadata": {},
     "output_type": "execute_result"
    }
   ],
   "source": [
    "G = nx.DiGraph()\n",
    "G.add_edges_from([(\"A\", \"B\"), (\"A\", \"B\"), (\"B\", \"C\")])\n",
    "eigenvector_centrality = nx.eigenvector_centrality_numpy(G)\n",
    "\n",
    "eigenvector_centrality"
   ]
  },
  {
   "cell_type": "code",
   "execution_count": 36,
   "metadata": {},
   "outputs": [
    {
     "data": {
      "text/plain": [
       "array([1., 1., 1., 1.])"
      ]
     },
     "execution_count": 36,
     "metadata": {},
     "output_type": "execute_result"
    }
   ],
   "source": [
    "# Adjacency matrix\n",
    "A = np.array([\n",
    "    [0, 1, 1, 0], \n",
    "    [1, 0, 0, 0], \n",
    "    [1, 0, 0, 1], \n",
    "    [1, 1, 0, 0,]\n",
    "])\n",
    "\n",
    "def PageRank(A, alpha, beta):\n",
    "    # Out-degree for each node\n",
    "    D = np.diag(np.sum(A, axis=0))\n",
    "    # indentity matrix\n",
    "    N = len(A)\n",
    "    I = np.eye(N)\n",
    "    # PageRank\n",
    "    C_p = beta * np.linalg.inv(I - alpha * A.T @ np.linalg.inv(D)) @ np.ones(N)\n",
    "\n",
    "    return C_p\n",
    "\n",
    "PageRank(A, 0, 1)"
   ]
  },
  {
   "cell_type": "code",
   "execution_count": null,
   "metadata": {},
   "outputs": [],
   "source": []
  }
 ],
 "metadata": {
  "kernelspec": {
   "display_name": "Python 3",
   "language": "python",
   "name": "python3"
  },
  "language_info": {
   "codemirror_mode": {
    "name": "ipython",
    "version": 3
   },
   "file_extension": ".py",
   "mimetype": "text/x-python",
   "name": "python",
   "nbconvert_exporter": "python",
   "pygments_lexer": "ipython3",
   "version": "3.11.8"
  }
 },
 "nbformat": 4,
 "nbformat_minor": 2
}
