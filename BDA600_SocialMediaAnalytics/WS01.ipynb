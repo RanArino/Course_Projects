{
 "cells": [
  {
   "cell_type": "markdown",
   "metadata": {},
   "source": [
    "# Workshop 01\n",
    "\n",
    "- Name: Ran Arino\n",
    "- Student ID: 153073200\n",
    "- Email: rarino@myseneca.ca\n",
    "- Course: Social Media Analytics\n",
    "- Course ID: BDA600NAA.07578.2241\n",
    "- Professor: Dr. Pantea Koochemeshkian"
   ]
  },
  {
   "cell_type": "code",
   "execution_count": 33,
   "metadata": {},
   "outputs": [],
   "source": [
    "import numpy as np\n",
    "import pandas as pd\n",
    "import nltk\n",
    "from nltk.corpus import stopwords\n",
    "from nltk.tokenize import word_tokenize\n",
    "import string\n",
    "from sklearn.feature_extraction.text import TfidfVectorizer"
   ]
  },
  {
   "cell_type": "markdown",
   "metadata": {},
   "source": [
    "### Part 1"
   ]
  },
  {
   "cell_type": "code",
   "execution_count": 2,
   "metadata": {},
   "outputs": [
    {
     "data": {
      "text/html": [
       "<div>\n",
       "<style scoped>\n",
       "    .dataframe tbody tr th:only-of-type {\n",
       "        vertical-align: middle;\n",
       "    }\n",
       "\n",
       "    .dataframe tbody tr th {\n",
       "        vertical-align: top;\n",
       "    }\n",
       "\n",
       "    .dataframe thead th {\n",
       "        text-align: right;\n",
       "    }\n",
       "</style>\n",
       "<table border=\"1\" class=\"dataframe\">\n",
       "  <thead>\n",
       "    <tr style=\"text-align: right;\">\n",
       "      <th></th>\n",
       "      <th>TweetText</th>\n",
       "    </tr>\n",
       "  </thead>\n",
       "  <tbody>\n",
       "    <tr>\n",
       "      <th>0</th>\n",
       "      <td>Now all @Apple has to do is get swype on the i...</td>\n",
       "    </tr>\n",
       "    <tr>\n",
       "      <th>1</th>\n",
       "      <td>@Apple will be adding more carrier support to ...</td>\n",
       "    </tr>\n",
       "    <tr>\n",
       "      <th>2</th>\n",
       "      <td>Hilarious @youtube video - guy does a duet wit...</td>\n",
       "    </tr>\n",
       "    <tr>\n",
       "      <th>3</th>\n",
       "      <td>@RIM you made it too easy for me to switch to ...</td>\n",
       "    </tr>\n",
       "    <tr>\n",
       "      <th>4</th>\n",
       "      <td>I just realized that the reason I got into twi...</td>\n",
       "    </tr>\n",
       "  </tbody>\n",
       "</table>\n",
       "</div>"
      ],
      "text/plain": [
       "                                           TweetText\n",
       "0  Now all @Apple has to do is get swype on the i...\n",
       "1  @Apple will be adding more carrier support to ...\n",
       "2  Hilarious @youtube video - guy does a duet wit...\n",
       "3  @RIM you made it too easy for me to switch to ...\n",
       "4  I just realized that the reason I got into twi..."
      ]
     },
     "execution_count": 2,
     "metadata": {},
     "output_type": "execute_result"
    }
   ],
   "source": [
    "# load data set\n",
    "data = pd.read_csv(\"full-corpus-x.csv\")\n",
    "data.head()"
   ]
  },
  {
   "cell_type": "code",
   "execution_count": 34,
   "metadata": {},
   "outputs": [
    {
     "data": {
      "text/plain": [
       "['apple get swype iphone crack iphone',\n",
       " 'apple adding carrier support iphone 4s announced',\n",
       " \"hilarious youtube video guy duet apple 's siri pretty much sums love affair http //t.co/8exbnqjy\",\n",
       " 'rim made easy switch apple iphone see ya',\n",
       " 'realized reason got twitter ios5 thanks apple']"
      ]
     },
     "execution_count": 34,
     "metadata": {},
     "output_type": "execute_result"
    }
   ],
   "source": [
    "def clean_texts(raw_texts: list or np.array):\n",
    "    # define result\n",
    "    result = []\n",
    "\n",
    "    # set of stopwords\n",
    "    stop_words = set(stopwords.words('english'))\n",
    "\n",
    "    # traversing all sentences\n",
    "    for sent in raw_texts:\n",
    "        # tokenize\n",
    "        tokens = word_tokenize(sent)\n",
    "        # defined cleaned sentence\n",
    "        clean_sent = ''\n",
    "        # cleaning each sentence\n",
    "        for w in tokens:\n",
    "            # if 'w' is one of punctuations, skip to the next word\n",
    "            if w in string.punctuation:\n",
    "                continue\n",
    "            # if 'w' is one of stop words, skip to the next word\n",
    "            if w.lower() in stop_words:\n",
    "                continue\n",
    "            # add words without stemming\n",
    "            clean_sent += w.lower() + ' '\n",
    "\n",
    "        # add clean_sent to result (make sure that the last item is always blank)\n",
    "        result += [clean_sent[:-1]]\n",
    "\n",
    "    return result\n",
    "\n",
    "# get the clean tweet data as list\n",
    "sent_list = clean_texts(data['TweetText'].values)\n",
    "sent_list[:5]"
   ]
  },
  {
   "cell_type": "code",
   "execution_count": 42,
   "metadata": {},
   "outputs": [
    {
     "name": "stdout",
     "output_type": "stream",
     "text": [
      "['twitter', 'microsoft', 'http', 'co', 'google', 'apple', 'rt', 'android', 'de', 'en', 'new', 'que', 'samsung', 'nexus', 'iphone', 'facebook', 'el', 'windows', 'get', 'galaxy', 'sandwich', 'via', 'phone', 'like', 'cream', 'ice', 'ics', 'la', 'siri', 'un', 'steve', 'ballmer', 'app', 'store', 'ios5', 'time', 'icecreamsandwich', 'es', 'nexusprime', 'para', 'one', '4s', 'se', 'great', 'cloud', 'galaxynexus', 'con', 'yahoo', 'video', 'por']\n"
     ]
    }
   ],
   "source": [
    "# create TF-IDF vectrizer\n",
    "tfidf_vect = TfidfVectorizer(max_features=50)\n",
    "# fit and transform data\n",
    "matrix = tfidf_vect.fit_transform(sent_list)\n",
    "# get the words based on the tfidf score\n",
    "words = tfidf_vect.get_feature_names_out()\n",
    "# get the tfidf score\n",
    "scores = matrix.toarray()\n",
    "# combine words and scores\n",
    "word_scores = list(zip(words, scores.sum(axis=0)))\n",
    "# sort words based on its scores\n",
    "sorted_words = sorted(word_scores, key=lambda x: x[1], reverse=True)\n",
    "# get the top 50 words\n",
    "top50_words = [word[0] for word in sorted_words[:50]]\n",
    "print(top50_words)"
   ]
  },
  {
   "cell_type": "code",
   "execution_count": 45,
   "metadata": {},
   "outputs": [
    {
     "name": "stdout",
     "output_type": "stream",
     "text": [
      "['twitter', 'microsoft', 'http', 'google', 'apple', 'android', 'new', 'que', 'samsung', 'nexus', 'iphone', 'facebook', 'windows', 'get', 'galaxy', 'sandwich', 'via', 'phone', 'like', 'cream', 'ice', 'ics', 'siri', 'steve', 'ballmer', 'app', 'store', 'ios5', 'time', 'icecreamsandwich', 'nexusprime', 'para', 'one', 'great', 'cloud', 'galaxynexus', 'con', 'yahoo', 'video', 'por']\n"
     ]
    }
   ],
   "source": [
    "# However, the words with only two characters are likely to have less information and importance.\n",
    "#  So, try to get the top 50 important words by filtering the word length\n",
    "\n",
    "# sort words by scores + filter word length\n",
    "sorted_words_2 = sorted([(w, s) for w, s in word_scores if len(w) > 2], key=lambda x: x[1], reverse=True)\n",
    "# get the top 50 words\n",
    "top50_words_2 = [word[0] for word in sorted_words_2[:50]]\n",
    "print(top50_words_2)"
   ]
  },
  {
   "cell_type": "markdown",
   "metadata": {},
   "source": [
    "<b>Observations</b>\n",
    "\n",
    "- The retrieved tweets data indicates the technology-related discussions, such as several iPhone producers, the jargon about the iPhone, and famous tech companies.\n",
    "- However, there are some curious words, including \"ice\", \"cream\", and \"sandwich\"; we need to conduct further research on how they are related to the technology topics."
   ]
  }
 ],
 "metadata": {
  "kernelspec": {
   "display_name": "Python 3",
   "language": "python",
   "name": "python3"
  },
  "language_info": {
   "codemirror_mode": {
    "name": "ipython",
    "version": 3
   },
   "file_extension": ".py",
   "mimetype": "text/x-python",
   "name": "python",
   "nbconvert_exporter": "python",
   "pygments_lexer": "ipython3",
   "version": "3.11.7"
  }
 },
 "nbformat": 4,
 "nbformat_minor": 2
}
