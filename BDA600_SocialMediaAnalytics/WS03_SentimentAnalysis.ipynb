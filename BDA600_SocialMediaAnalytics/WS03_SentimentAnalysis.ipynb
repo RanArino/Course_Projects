{
 "cells": [
  {
   "cell_type": "markdown",
   "metadata": {},
   "source": [
    "# Workshop 03\n",
    "\n",
    "- Name: Ran Arino\n",
    "- Student ID: 153073200\n",
    "- Email: rarino@myseneca.ca\n",
    "- Course: Social Media Analytics\n",
    "- Course ID: BDA600NAA.07578.2241\n",
    "- Professor: Dr. Pantea Koochemeshkian"
   ]
  },
  {
   "cell_type": "code",
   "execution_count": 18,
   "metadata": {},
   "outputs": [],
   "source": [
    "import pandas as pd\n",
    "import numpy as np\n",
    "import re\n",
    "\n",
    "import nltk\n",
    "from nltk.corpus import stopwords\n",
    "from sklearn.feature_extraction.text import TfidfVectorizer\n",
    "\n",
    "from sklearn.model_selection import StratifiedKFold\n",
    "from sklearn.naive_bayes import MultinomialNB\n",
    "from sklearn.ensemble import RandomForestClassifier\n",
    "from sklearn.model_selection import cross_val_predict\n",
    "from sklearn.metrics import accuracy_score, precision_score, recall_score, f1_score, confusion_matrix"
   ]
  },
  {
   "cell_type": "code",
   "execution_count": 3,
   "metadata": {},
   "outputs": [
    {
     "data": {
      "text/html": [
       "<div>\n",
       "<style scoped>\n",
       "    .dataframe tbody tr th:only-of-type {\n",
       "        vertical-align: middle;\n",
       "    }\n",
       "\n",
       "    .dataframe tbody tr th {\n",
       "        vertical-align: top;\n",
       "    }\n",
       "\n",
       "    .dataframe thead th {\n",
       "        text-align: right;\n",
       "    }\n",
       "</style>\n",
       "<table border=\"1\" class=\"dataframe\">\n",
       "  <thead>\n",
       "    <tr style=\"text-align: right;\">\n",
       "      <th></th>\n",
       "      <th>Sentiment</th>\n",
       "      <th>TweetId</th>\n",
       "      <th>TweetText</th>\n",
       "    </tr>\n",
       "  </thead>\n",
       "  <tbody>\n",
       "    <tr>\n",
       "      <th>0</th>\n",
       "      <td>positive</td>\n",
       "      <td>1.260000e+17</td>\n",
       "      <td>Now all @Apple has to do is get swype on the i...</td>\n",
       "    </tr>\n",
       "    <tr>\n",
       "      <th>1</th>\n",
       "      <td>positive</td>\n",
       "      <td>1.260000e+17</td>\n",
       "      <td>@Apple will be adding more carrier support to ...</td>\n",
       "    </tr>\n",
       "    <tr>\n",
       "      <th>2</th>\n",
       "      <td>positive</td>\n",
       "      <td>1.260000e+17</td>\n",
       "      <td>Hilarious @youtube video - guy does a duet wit...</td>\n",
       "    </tr>\n",
       "    <tr>\n",
       "      <th>3</th>\n",
       "      <td>positive</td>\n",
       "      <td>1.260000e+17</td>\n",
       "      <td>@RIM you made it too easy for me to switch to ...</td>\n",
       "    </tr>\n",
       "    <tr>\n",
       "      <th>4</th>\n",
       "      <td>positive</td>\n",
       "      <td>1.260000e+17</td>\n",
       "      <td>I just realized that the reason I got into twi...</td>\n",
       "    </tr>\n",
       "  </tbody>\n",
       "</table>\n",
       "</div>"
      ],
      "text/plain": [
       "  Sentiment       TweetId                                          TweetText\n",
       "0  positive  1.260000e+17  Now all @Apple has to do is get swype on the i...\n",
       "1  positive  1.260000e+17  @Apple will be adding more carrier support to ...\n",
       "2  positive  1.260000e+17  Hilarious @youtube video - guy does a duet wit...\n",
       "3  positive  1.260000e+17  @RIM you made it too easy for me to switch to ...\n",
       "4  positive  1.260000e+17  I just realized that the reason I got into twi..."
      ]
     },
     "execution_count": 3,
     "metadata": {},
     "output_type": "execute_result"
    }
   ],
   "source": [
    "# read the data set\n",
    "data = pd.read_csv(\"full-corpus-training.csv\")\n",
    "data.head()"
   ]
  },
  {
   "cell_type": "code",
   "execution_count": 4,
   "metadata": {},
   "outputs": [
    {
     "data": {
      "text/plain": [
       "Sentiment\n",
       "neutral     2228\n",
       "negative     437\n",
       "positive     329\n",
       "Name: count, dtype: int64"
      ]
     },
     "execution_count": 4,
     "metadata": {},
     "output_type": "execute_result"
    }
   ],
   "source": [
    "# remove the rows whose \"Sentiment\" column is \"irrelevant\"\n",
    "new_data = data[data['Sentiment'] != 'irrelevant']\n",
    "new_data['Sentiment'].value_counts()"
   ]
  },
  {
   "cell_type": "code",
   "execution_count": 5,
   "metadata": {},
   "outputs": [
    {
     "data": {
      "text/plain": [
       "['appl get swype iphon crack iphon',\n",
       " 'appl ad carrier support iphon 4s announc',\n",
       " 'hilari youtub video guy duet appl siri pretti much sum love affair http co 8exbnqj',\n",
       " 'ri made easi switch appl iphon see ya',\n",
       " 'realiz reason got twitter ios5 thank appl']"
      ]
     },
     "execution_count": 5,
     "metadata": {},
     "output_type": "execute_result"
    }
   ],
   "source": [
    "# cleaning the texts\n",
    "def clean_texts(raw_texts: list or np.array):\n",
    "    # define result\n",
    "    result = []\n",
    "\n",
    "    # set of stopwords\n",
    "    stop_words = set(stopwords.words('english'))\n",
    "    # set the porter stemming\n",
    "    porter = nltk.PorterStemmer()\n",
    "\n",
    "    # traversing all sentences\n",
    "    for sent in raw_texts:\n",
    "        # (1): white space removal\n",
    "        sent = sent.strip()\n",
    "        # (2): URL removal\n",
    "        sent = re.sub(r\"http[s]?://[\\w?\\W?]+\\s\", '', sent)\n",
    "        # (3): HTML tag removal\n",
    "        sent = re.sub(r'<[^>]+>', '', sent)\n",
    "        # (4): Repeated words (at least four times)\n",
    "        sent = re.sub(r'(.)\\1{4,}', r'\\1', sent)\n",
    "        # (5): split attached words (at least two characters and follow the capitalized word)\n",
    "        sent = re.sub(r\"([\\w]{2,})([A-Z])\", r\"\\1 \\2\", sent)\n",
    "        # (6): toknize exclude punct\n",
    "        tokens = nltk.regexp_tokenize(sent, r\"\\w+(?:'\\w+)?\")\n",
    "\n",
    "        # defined cleaned sentence\n",
    "        clean_sent = ''\n",
    "    \n",
    "        # cleaning each sentence\n",
    "        for w in tokens:\n",
    "            # if 'w' is one of stop words, skip to the next word\n",
    "            if w.lower() in stop_words:\n",
    "                continue\n",
    "            # add words without stemming\n",
    "            clean_sent += porter.stem(w.lower()) + ' '\n",
    "\n",
    "        # add clean_sent to result (make sure that the last item is always blank)\n",
    "        result += [clean_sent[:-1]]\n",
    "\n",
    "    return result\n",
    "\n",
    "# get the clean tweet data as list\n",
    "sent_list = clean_texts(np.array(new_data['TweetText'].values))\n",
    "sent_list[:5]"
   ]
  },
  {
   "cell_type": "code",
   "execution_count": 6,
   "metadata": {},
   "outputs": [
    {
     "name": "stderr",
     "output_type": "stream",
     "text": [
      "C:\\Users\\runru\\AppData\\Local\\Temp\\ipykernel_9252\\219418358.py:2: SettingWithCopyWarning: \n",
      "A value is trying to be set on a copy of a slice from a DataFrame.\n",
      "Try using .loc[row_indexer,col_indexer] = value instead\n",
      "\n",
      "See the caveats in the documentation: https://pandas.pydata.org/pandas-docs/stable/user_guide/indexing.html#returning-a-view-versus-a-copy\n",
      "  new_data.loc[:, 'CleanText'] = sent_list\n"
     ]
    },
    {
     "data": {
      "text/html": [
       "<div>\n",
       "<style scoped>\n",
       "    .dataframe tbody tr th:only-of-type {\n",
       "        vertical-align: middle;\n",
       "    }\n",
       "\n",
       "    .dataframe tbody tr th {\n",
       "        vertical-align: top;\n",
       "    }\n",
       "\n",
       "    .dataframe thead th {\n",
       "        text-align: right;\n",
       "    }\n",
       "</style>\n",
       "<table border=\"1\" class=\"dataframe\">\n",
       "  <thead>\n",
       "    <tr style=\"text-align: right;\">\n",
       "      <th></th>\n",
       "      <th>Sentiment</th>\n",
       "      <th>TweetId</th>\n",
       "      <th>TweetText</th>\n",
       "      <th>CleanText</th>\n",
       "    </tr>\n",
       "  </thead>\n",
       "  <tbody>\n",
       "    <tr>\n",
       "      <th>0</th>\n",
       "      <td>positive</td>\n",
       "      <td>1.260000e+17</td>\n",
       "      <td>Now all @Apple has to do is get swype on the i...</td>\n",
       "      <td>appl get swype iphon crack iphon</td>\n",
       "    </tr>\n",
       "    <tr>\n",
       "      <th>1</th>\n",
       "      <td>positive</td>\n",
       "      <td>1.260000e+17</td>\n",
       "      <td>@Apple will be adding more carrier support to ...</td>\n",
       "      <td>appl ad carrier support iphon 4s announc</td>\n",
       "    </tr>\n",
       "    <tr>\n",
       "      <th>2</th>\n",
       "      <td>positive</td>\n",
       "      <td>1.260000e+17</td>\n",
       "      <td>Hilarious @youtube video - guy does a duet wit...</td>\n",
       "      <td>hilari youtub video guy duet appl siri pretti ...</td>\n",
       "    </tr>\n",
       "    <tr>\n",
       "      <th>3</th>\n",
       "      <td>positive</td>\n",
       "      <td>1.260000e+17</td>\n",
       "      <td>@RIM you made it too easy for me to switch to ...</td>\n",
       "      <td>ri made easi switch appl iphon see ya</td>\n",
       "    </tr>\n",
       "    <tr>\n",
       "      <th>4</th>\n",
       "      <td>positive</td>\n",
       "      <td>1.260000e+17</td>\n",
       "      <td>I just realized that the reason I got into twi...</td>\n",
       "      <td>realiz reason got twitter ios5 thank appl</td>\n",
       "    </tr>\n",
       "  </tbody>\n",
       "</table>\n",
       "</div>"
      ],
      "text/plain": [
       "  Sentiment       TweetId                                          TweetText  \\\n",
       "0  positive  1.260000e+17  Now all @Apple has to do is get swype on the i...   \n",
       "1  positive  1.260000e+17  @Apple will be adding more carrier support to ...   \n",
       "2  positive  1.260000e+17  Hilarious @youtube video - guy does a duet wit...   \n",
       "3  positive  1.260000e+17  @RIM you made it too easy for me to switch to ...   \n",
       "4  positive  1.260000e+17  I just realized that the reason I got into twi...   \n",
       "\n",
       "                                           CleanText  \n",
       "0                   appl get swype iphon crack iphon  \n",
       "1           appl ad carrier support iphon 4s announc  \n",
       "2  hilari youtub video guy duet appl siri pretti ...  \n",
       "3              ri made easi switch appl iphon see ya  \n",
       "4          realiz reason got twitter ios5 thank appl  "
      ]
     },
     "execution_count": 6,
     "metadata": {},
     "output_type": "execute_result"
    }
   ],
   "source": [
    "# add clean text to the dataset\n",
    "new_data.loc[:, 'CleanText'] = sent_list\n",
    "new_data.head()"
   ]
  },
  {
   "cell_type": "code",
   "execution_count": 7,
   "metadata": {},
   "outputs": [
    {
     "data": {
      "text/plain": [
       "Sentiment\n",
       "neutral     2228\n",
       "negative     437\n",
       "positive     329\n",
       "Name: count, dtype: int64"
      ]
     },
     "execution_count": 7,
     "metadata": {},
     "output_type": "execute_result"
    }
   ],
   "source": [
    "new_data['Sentiment'].value_counts()"
   ]
  },
  {
   "cell_type": "code",
   "execution_count": 8,
   "metadata": {},
   "outputs": [],
   "source": [
    "# apply tf-idf\n",
    "# create TF-IDF vectrizer\n",
    "tfidf_vect = TfidfVectorizer()\n",
    "# fit and transform data\n",
    "matrix = tfidf_vect.fit_transform(sent_list)\n",
    "\n",
    "# get the explanatory and target variables for machine learning\n",
    "X = matrix.toarray()\n",
    "y = np.array(new_data['Sentiment'])"
   ]
  },
  {
   "cell_type": "code",
   "execution_count": 9,
   "metadata": {},
   "outputs": [
    {
     "name": "stdout",
     "output_type": "stream",
     "text": [
      "Explnatory Variable format: \n",
      "[[0. 0. 0. ... 0. 0. 0.]\n",
      " [0. 0. 0. ... 0. 0. 0.]\n",
      " [0. 0. 0. ... 0. 0. 0.]\n",
      " [0. 0. 0. ... 0. 0. 0.]\n",
      " [0. 0. 0. ... 0. 0. 0.]]\n",
      "\n",
      "Target Variable format: \n",
      "['positive' 'positive' 'positive' 'positive' 'positive']\n"
     ]
    }
   ],
   "source": [
    "print(\"Explnatory Variable format: \")\n",
    "print(X[:5])\n",
    "\n",
    "print(\"\\nTarget Variable format: \")\n",
    "print(y[:5])"
   ]
  },
  {
   "cell_type": "code",
   "execution_count": 15,
   "metadata": {},
   "outputs": [],
   "source": [
    "# define statifired k-fold processes\n",
    "def strat_kfold(classifier, k=5):\n",
    "    # stratified k-fold cross validation\n",
    "    skf = StratifiedKFold(n_splits=k, shuffle=True, random_state=42)\n",
    "    # fold number\n",
    "    i = 1\n",
    "    # performance func\n",
    "    perf_func = {\"Acc\": accuracy_score, \"Pre\": precision_score, \"Rec\": recall_score, \n",
    "                 \"F1\": f1_score, \"Conf\": confusion_matrix}\n",
    "    # set the dict of the performance results\n",
    "    results = {key: [] for key in perf_func.keys()}\n",
    "    # apply k-hold cross validation\n",
    "    for train_index, test_index in skf.split(X, y):\n",
    "        print(f\"start fold {i}\")\n",
    "        # set the train and test data\n",
    "        X_train, X_test = X[train_index], X[test_index]\n",
    "        y_train, y_test = y[train_index], y[test_index]\n",
    "        # train the data into the model\n",
    "        classifier.fit(X_train, y_train)\n",
    "        # predict the target classes\n",
    "        y_pred = classifier.predict(X_test)\n",
    "        # calculate classificaiton performances\n",
    "        for key in perf_func.keys():\n",
    "            if key in [\"Acc\", \"Conf\"]:\n",
    "                params = {}\n",
    "            else:\n",
    "                params = {'average': 'macro'}\n",
    "                \n",
    "            results[key].append(perf_func[key](y_test, y_pred, **params))\n",
    "        \n",
    "        # increment fold\n",
    "        i += 1\n",
    "\n",
    "    # create the min-max confusion matrix\n",
    "    stacked_arrays = np.stack(results['Conf'], axis=0)\n",
    "    # Combine min and max values into a tuple for each component\n",
    "    min_max_conf = np.dstack((np.min(stacked_arrays, axis=0), np.max(stacked_arrays, axis=0)))\n",
    "\n",
    "    # delete \"Conf\" key from dict\n",
    "    del results['Conf']\n",
    "\n",
    "    return pd.DataFrame(results), min_max_conf\n",
    "\n"
   ]
  },
  {
   "cell_type": "code",
   "execution_count": 16,
   "metadata": {},
   "outputs": [
    {
     "name": "stdout",
     "output_type": "stream",
     "text": [
      "start fold 1\n"
     ]
    },
    {
     "name": "stderr",
     "output_type": "stream",
     "text": [
      "C:\\Users\\runru\\AppData\\Local\\Packages\\PythonSoftwareFoundation.Python.3.11_qbz5n2kfra8p0\\LocalCache\\local-packages\\Python311\\site-packages\\sklearn\\metrics\\_classification.py:1469: UndefinedMetricWarning: Precision is ill-defined and being set to 0.0 in labels with no predicted samples. Use `zero_division` parameter to control this behavior.\n",
      "  _warn_prf(average, modifier, msg_start, len(result))\n",
      "C:\\Users\\runru\\AppData\\Local\\Packages\\PythonSoftwareFoundation.Python.3.11_qbz5n2kfra8p0\\LocalCache\\local-packages\\Python311\\site-packages\\sklearn\\metrics\\_classification.py:1469: UndefinedMetricWarning: Precision is ill-defined and being set to 0.0 in labels with no predicted samples. Use `zero_division` parameter to control this behavior.\n",
      "  _warn_prf(average, modifier, msg_start, len(result))\n"
     ]
    },
    {
     "name": "stdout",
     "output_type": "stream",
     "text": [
      "start fold 2\n",
      "start fold 3\n"
     ]
    },
    {
     "name": "stderr",
     "output_type": "stream",
     "text": [
      "C:\\Users\\runru\\AppData\\Local\\Packages\\PythonSoftwareFoundation.Python.3.11_qbz5n2kfra8p0\\LocalCache\\local-packages\\Python311\\site-packages\\sklearn\\metrics\\_classification.py:1469: UndefinedMetricWarning: Precision is ill-defined and being set to 0.0 in labels with no predicted samples. Use `zero_division` parameter to control this behavior.\n",
      "  _warn_prf(average, modifier, msg_start, len(result))\n"
     ]
    },
    {
     "name": "stdout",
     "output_type": "stream",
     "text": [
      "start fold 4\n"
     ]
    },
    {
     "name": "stderr",
     "output_type": "stream",
     "text": [
      "C:\\Users\\runru\\AppData\\Local\\Packages\\PythonSoftwareFoundation.Python.3.11_qbz5n2kfra8p0\\LocalCache\\local-packages\\Python311\\site-packages\\sklearn\\metrics\\_classification.py:1469: UndefinedMetricWarning: Precision is ill-defined and being set to 0.0 in labels with no predicted samples. Use `zero_division` parameter to control this behavior.\n",
      "  _warn_prf(average, modifier, msg_start, len(result))\n"
     ]
    },
    {
     "name": "stdout",
     "output_type": "stream",
     "text": [
      "start fold 5\n",
      "[[[  1   1]\n",
      "  [ 86  87]\n",
      "  [  0   0]]\n",
      "\n",
      " [[  0   1]\n",
      "  [445 446]\n",
      "  [  0   0]]\n",
      "\n",
      " [[  0   0]\n",
      "  [ 65  66]\n",
      "  [  0   0]]]\n"
     ]
    },
    {
     "name": "stderr",
     "output_type": "stream",
     "text": [
      "C:\\Users\\runru\\AppData\\Local\\Packages\\PythonSoftwareFoundation.Python.3.11_qbz5n2kfra8p0\\LocalCache\\local-packages\\Python311\\site-packages\\sklearn\\metrics\\_classification.py:1469: UndefinedMetricWarning: Precision is ill-defined and being set to 0.0 in labels with no predicted samples. Use `zero_division` parameter to control this behavior.\n",
      "  _warn_prf(average, modifier, msg_start, len(result))\n"
     ]
    },
    {
     "data": {
      "text/html": [
       "<div>\n",
       "<style scoped>\n",
       "    .dataframe tbody tr th:only-of-type {\n",
       "        vertical-align: middle;\n",
       "    }\n",
       "\n",
       "    .dataframe tbody tr th {\n",
       "        vertical-align: top;\n",
       "    }\n",
       "\n",
       "    .dataframe thead th {\n",
       "        text-align: right;\n",
       "    }\n",
       "</style>\n",
       "<table border=\"1\" class=\"dataframe\">\n",
       "  <thead>\n",
       "    <tr style=\"text-align: right;\">\n",
       "      <th></th>\n",
       "      <th>Acc</th>\n",
       "      <th>Pre</th>\n",
       "      <th>Rec</th>\n",
       "      <th>F1</th>\n",
       "    </tr>\n",
       "  </thead>\n",
       "  <tbody>\n",
       "    <tr>\n",
       "      <th>0</th>\n",
       "      <td>0.744574</td>\n",
       "      <td>0.581382</td>\n",
       "      <td>0.337121</td>\n",
       "      <td>0.291927</td>\n",
       "    </tr>\n",
       "    <tr>\n",
       "      <th>1</th>\n",
       "      <td>0.746244</td>\n",
       "      <td>0.581940</td>\n",
       "      <td>0.337165</td>\n",
       "      <td>0.292378</td>\n",
       "    </tr>\n",
       "    <tr>\n",
       "      <th>2</th>\n",
       "      <td>0.746244</td>\n",
       "      <td>0.581940</td>\n",
       "      <td>0.337165</td>\n",
       "      <td>0.292378</td>\n",
       "    </tr>\n",
       "    <tr>\n",
       "      <th>3</th>\n",
       "      <td>0.744574</td>\n",
       "      <td>0.415131</td>\n",
       "      <td>0.336417</td>\n",
       "      <td>0.291927</td>\n",
       "    </tr>\n",
       "    <tr>\n",
       "      <th>4</th>\n",
       "      <td>0.745819</td>\n",
       "      <td>0.581798</td>\n",
       "      <td>0.337121</td>\n",
       "      <td>0.292200</td>\n",
       "    </tr>\n",
       "  </tbody>\n",
       "</table>\n",
       "</div>"
      ],
      "text/plain": [
       "        Acc       Pre       Rec        F1\n",
       "0  0.744574  0.581382  0.337121  0.291927\n",
       "1  0.746244  0.581940  0.337165  0.292378\n",
       "2  0.746244  0.581940  0.337165  0.292378\n",
       "3  0.744574  0.415131  0.336417  0.291927\n",
       "4  0.745819  0.581798  0.337121  0.292200"
      ]
     },
     "execution_count": 16,
     "metadata": {},
     "output_type": "execute_result"
    }
   ],
   "source": [
    "# Naive Bayes Classifiers\n",
    "nb_model = MultinomialNB()\n",
    "nb_results, nb_conf = strat_kfold(nb_model)\n",
    "print(nb_conf)\n",
    "nb_results"
   ]
  },
  {
   "cell_type": "code",
   "execution_count": 17,
   "metadata": {},
   "outputs": [
    {
     "name": "stdout",
     "output_type": "stream",
     "text": [
      "start fold 1\n",
      "start fold 2\n",
      "start fold 3\n",
      "start fold 4\n",
      "start fold 5\n",
      "[[[ 29  35]\n",
      "  [ 52  59]\n",
      "  [  0   0]]\n",
      "\n",
      " [[ 12  16]\n",
      "  [425 432]\n",
      "  [  1   8]]\n",
      "\n",
      " [[  0   1]\n",
      "  [ 57  62]\n",
      "  [  4   8]]]\n"
     ]
    },
    {
     "data": {
      "text/html": [
       "<div>\n",
       "<style scoped>\n",
       "    .dataframe tbody tr th:only-of-type {\n",
       "        vertical-align: middle;\n",
       "    }\n",
       "\n",
       "    .dataframe tbody tr th {\n",
       "        vertical-align: top;\n",
       "    }\n",
       "\n",
       "    .dataframe thead th {\n",
       "        text-align: right;\n",
       "    }\n",
       "</style>\n",
       "<table border=\"1\" class=\"dataframe\">\n",
       "  <thead>\n",
       "    <tr style=\"text-align: right;\">\n",
       "      <th></th>\n",
       "      <th>Acc</th>\n",
       "      <th>Pre</th>\n",
       "      <th>Rec</th>\n",
       "      <th>F1</th>\n",
       "    </tr>\n",
       "  </thead>\n",
       "  <tbody>\n",
       "    <tr>\n",
       "      <th>0</th>\n",
       "      <td>0.769616</td>\n",
       "      <td>0.614432</td>\n",
       "      <td>0.459766</td>\n",
       "      <td>0.482579</td>\n",
       "    </tr>\n",
       "    <tr>\n",
       "      <th>1</th>\n",
       "      <td>0.787980</td>\n",
       "      <td>0.797554</td>\n",
       "      <td>0.485879</td>\n",
       "      <td>0.523343</td>\n",
       "    </tr>\n",
       "    <tr>\n",
       "      <th>2</th>\n",
       "      <td>0.786311</td>\n",
       "      <td>0.785240</td>\n",
       "      <td>0.490081</td>\n",
       "      <td>0.522206</td>\n",
       "    </tr>\n",
       "    <tr>\n",
       "      <th>3</th>\n",
       "      <td>0.787980</td>\n",
       "      <td>0.767924</td>\n",
       "      <td>0.484660</td>\n",
       "      <td>0.519504</td>\n",
       "    </tr>\n",
       "    <tr>\n",
       "      <th>4</th>\n",
       "      <td>0.777592</td>\n",
       "      <td>0.768867</td>\n",
       "      <td>0.467094</td>\n",
       "      <td>0.498179</td>\n",
       "    </tr>\n",
       "  </tbody>\n",
       "</table>\n",
       "</div>"
      ],
      "text/plain": [
       "        Acc       Pre       Rec        F1\n",
       "0  0.769616  0.614432  0.459766  0.482579\n",
       "1  0.787980  0.797554  0.485879  0.523343\n",
       "2  0.786311  0.785240  0.490081  0.522206\n",
       "3  0.787980  0.767924  0.484660  0.519504\n",
       "4  0.777592  0.768867  0.467094  0.498179"
      ]
     },
     "execution_count": 17,
     "metadata": {},
     "output_type": "execute_result"
    }
   ],
   "source": [
    "# Randon forest\n",
    "rf_model = RandomForestClassifier(\n",
    "    n_estimators=100, class_weight='balanced',\n",
    "    random_state=42, n_jobs=-1)\n",
    "\n",
    "rf_results, rf_conf = strat_kfold(rf_model)\n",
    "print(rf_conf)\n",
    "rf_results"
   ]
  },
  {
   "cell_type": "code",
   "execution_count": null,
   "metadata": {},
   "outputs": [],
   "source": []
  }
 ],
 "metadata": {
  "kernelspec": {
   "display_name": "Python 3",
   "language": "python",
   "name": "python3"
  },
  "language_info": {
   "codemirror_mode": {
    "name": "ipython",
    "version": 3
   },
   "file_extension": ".py",
   "mimetype": "text/x-python",
   "name": "python",
   "nbconvert_exporter": "python",
   "pygments_lexer": "ipython3",
   "version": "3.11.7"
  }
 },
 "nbformat": 4,
 "nbformat_minor": 2
}
