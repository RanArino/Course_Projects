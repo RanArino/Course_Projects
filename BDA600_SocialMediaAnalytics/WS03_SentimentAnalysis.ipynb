{
 "cells": [
  {
   "cell_type": "markdown",
   "metadata": {},
   "source": [
    "# Workshop 03\n",
    "\n",
    "- Name: Ran Arino\n",
    "- Student ID: 153073200\n",
    "- Email: rarino@myseneca.ca\n",
    "- Course: Social Media Analytics\n",
    "- Course ID: BDA600NAA.07578.2241\n",
    "- Professor: Dr. Pantea Koochemeshkian"
   ]
  },
  {
   "cell_type": "code",
   "execution_count": 169,
   "metadata": {},
   "outputs": [],
   "source": [
    "import pandas as pd\n",
    "import numpy as np\n",
    "import re\n",
    "\n",
    "import emoji\n",
    "import nltk\n",
    "from nltk.corpus import stopwords\n",
    "from nltk.tokenize import TweetTokenizer\n",
    "from sklearn.feature_extraction.text import TfidfVectorizer\n",
    "\n",
    "from sklearn.model_selection import StratifiedKFold\n",
    "from sklearn.naive_bayes import MultinomialNB\n",
    "from sklearn.ensemble import RandomForestClassifier\n",
    "from keras import Sequential\n",
    "from keras.layers import Dense, Dropout\n",
    "from keras.regularizers import l2\n",
    "from keras.utils import to_categorical\n",
    "from sklearn.preprocessing import LabelEncoder\n",
    "from sklearn.metrics import accuracy_score, precision_score, recall_score, f1_score, confusion_matrix"
   ]
  },
  {
   "cell_type": "code",
   "execution_count": 2,
   "metadata": {},
   "outputs": [
    {
     "data": {
      "text/html": [
       "<div>\n",
       "<style scoped>\n",
       "    .dataframe tbody tr th:only-of-type {\n",
       "        vertical-align: middle;\n",
       "    }\n",
       "\n",
       "    .dataframe tbody tr th {\n",
       "        vertical-align: top;\n",
       "    }\n",
       "\n",
       "    .dataframe thead th {\n",
       "        text-align: right;\n",
       "    }\n",
       "</style>\n",
       "<table border=\"1\" class=\"dataframe\">\n",
       "  <thead>\n",
       "    <tr style=\"text-align: right;\">\n",
       "      <th></th>\n",
       "      <th>Sentiment</th>\n",
       "      <th>TweetId</th>\n",
       "      <th>TweetText</th>\n",
       "    </tr>\n",
       "  </thead>\n",
       "  <tbody>\n",
       "    <tr>\n",
       "      <th>0</th>\n",
       "      <td>positive</td>\n",
       "      <td>1.260000e+17</td>\n",
       "      <td>Now all @Apple has to do is get swype on the i...</td>\n",
       "    </tr>\n",
       "    <tr>\n",
       "      <th>1</th>\n",
       "      <td>positive</td>\n",
       "      <td>1.260000e+17</td>\n",
       "      <td>@Apple will be adding more carrier support to ...</td>\n",
       "    </tr>\n",
       "    <tr>\n",
       "      <th>2</th>\n",
       "      <td>positive</td>\n",
       "      <td>1.260000e+17</td>\n",
       "      <td>Hilarious @youtube video - guy does a duet wit...</td>\n",
       "    </tr>\n",
       "    <tr>\n",
       "      <th>3</th>\n",
       "      <td>positive</td>\n",
       "      <td>1.260000e+17</td>\n",
       "      <td>@RIM you made it too easy for me to switch to ...</td>\n",
       "    </tr>\n",
       "    <tr>\n",
       "      <th>4</th>\n",
       "      <td>positive</td>\n",
       "      <td>1.260000e+17</td>\n",
       "      <td>I just realized that the reason I got into twi...</td>\n",
       "    </tr>\n",
       "  </tbody>\n",
       "</table>\n",
       "</div>"
      ],
      "text/plain": [
       "  Sentiment       TweetId                                          TweetText\n",
       "0  positive  1.260000e+17  Now all @Apple has to do is get swype on the i...\n",
       "1  positive  1.260000e+17  @Apple will be adding more carrier support to ...\n",
       "2  positive  1.260000e+17  Hilarious @youtube video - guy does a duet wit...\n",
       "3  positive  1.260000e+17  @RIM you made it too easy for me to switch to ...\n",
       "4  positive  1.260000e+17  I just realized that the reason I got into twi..."
      ]
     },
     "execution_count": 2,
     "metadata": {},
     "output_type": "execute_result"
    }
   ],
   "source": [
    "# read the data set from data folder\n",
    "data = pd.read_csv(\"data/full-corpus-training.csv\")\n",
    "data.head()"
   ]
  },
  {
   "cell_type": "code",
   "execution_count": 3,
   "metadata": {},
   "outputs": [
    {
     "data": {
      "text/plain": [
       "Sentiment\n",
       "neutral     2228\n",
       "negative     437\n",
       "positive     329\n",
       "Name: count, dtype: int64"
      ]
     },
     "execution_count": 3,
     "metadata": {},
     "output_type": "execute_result"
    }
   ],
   "source": [
    "# remove the rows whose \"Sentiment\" column is \"irrelevant\"\n",
    "new_data = data[data['Sentiment'] != 'irrelevant']\n",
    "new_data['Sentiment'].value_counts()"
   ]
  },
  {
   "cell_type": "code",
   "execution_count": 46,
   "metadata": {},
   "outputs": [
    {
     "data": {
      "text/plain": [
       "['appl get swype iphon crack iphon',\n",
       " 'appl ad carrier support iphon 4s announc',\n",
       " 'hilari youtub video guy duet appl siri pretti much sum love affair',\n",
       " 'ri made easi switch appl iphon see ya',\n",
       " 'realiz reason got twitter io 5 thank appl']"
      ]
     },
     "execution_count": 46,
     "metadata": {},
     "output_type": "execute_result"
    }
   ],
   "source": [
    "# cleaning the texts\n",
    "def clean_texts(raw_texts: list or np.array):\n",
    "    # define result\n",
    "    result = []\n",
    "\n",
    "    # set of stopwords\n",
    "    stop_words = set(stopwords.words('english'))\n",
    "    # set the porter stemming\n",
    "    porter = nltk.PorterStemmer()\n",
    "    # initialize tweet tokenizer\n",
    "    tweet_tokenizer = TweetTokenizer()\n",
    "\n",
    "    # function to convert emojis to text\n",
    "    def convert_emojis(text):\n",
    "        return emoji.demojize(text, delimiters=(\"\", \"\"))\n",
    "\n",
    "    # traversing all sentences\n",
    "    for sent in raw_texts:\n",
    "        # (1): white space removal\n",
    "        sent = sent.strip()\n",
    "        # (2): URL removal\n",
    "        sent = re.sub(r\"http[s]?://[\\w?\\W?]+\", '', sent)\n",
    "        # (3): HTML tag removal\n",
    "        sent = re.sub(r'<[^>]+>', '', sent)\n",
    "        # (4): Repeated words (at least four times)\n",
    "        sent = re.sub(r'(.)\\1{4,}', r'\\1', sent)\n",
    "        # (5): split attached words (at least two characters and follow the capitalized word)\n",
    "        sent = re.sub(r\"([\\w]{2,})([A-Z])\", r\"\\1 \\2\", sent)\n",
    "        # (6): Punctuation removal without @ and #\n",
    "        sent = re.sub(r'[^\\w\\s]', '', sent)\n",
    "        # (7): Emoji to text\n",
    "        sent = convert_emojis(sent)\n",
    "        # (8): toknize exclude punct\n",
    "        #tokens = nltk.regexp_tokenize(sent, r\"\\w+(?:'\\w+)?\")\n",
    "        #(8): tokenize with TweetTokenizer\n",
    "        tokens = tweet_tokenizer.tokenize(sent)\n",
    "\n",
    "        # defined cleaned sentence\n",
    "        clean_sent = ''\n",
    "    \n",
    "        # cleaning each sentence\n",
    "        for w in tokens:\n",
    "            # if 'w' is one of stop words, skip to the next word\n",
    "            if w.lower() in stop_words:\n",
    "                continue\n",
    "            # add words without stemming\n",
    "            clean_sent += porter.stem(w.lower()) + ' '\n",
    "\n",
    "        # add clean_sent to result (make sure that the last item is always blank)\n",
    "        result += [clean_sent[:-1]]\n",
    "\n",
    "    return result\n",
    "\n",
    "# get the clean tweet data as list\n",
    "sent_list = clean_texts(np.array(new_data['TweetText'].values))\n",
    "sent_list[:5]"
   ]
  },
  {
   "cell_type": "code",
   "execution_count": 53,
   "metadata": {},
   "outputs": [
    {
     "data": {
      "text/html": [
       "<div>\n",
       "<style scoped>\n",
       "    .dataframe tbody tr th:only-of-type {\n",
       "        vertical-align: middle;\n",
       "    }\n",
       "\n",
       "    .dataframe tbody tr th {\n",
       "        vertical-align: top;\n",
       "    }\n",
       "\n",
       "    .dataframe thead th {\n",
       "        text-align: right;\n",
       "    }\n",
       "</style>\n",
       "<table border=\"1\" class=\"dataframe\">\n",
       "  <thead>\n",
       "    <tr style=\"text-align: right;\">\n",
       "      <th></th>\n",
       "      <th>Sentiment</th>\n",
       "      <th>TweetId</th>\n",
       "      <th>TweetText</th>\n",
       "      <th>CleanText</th>\n",
       "    </tr>\n",
       "  </thead>\n",
       "  <tbody>\n",
       "    <tr>\n",
       "      <th>0</th>\n",
       "      <td>positive</td>\n",
       "      <td>1.260000e+17</td>\n",
       "      <td>Now all @Apple has to do is get swype on the i...</td>\n",
       "      <td>appl get swype iphon crack iphon</td>\n",
       "    </tr>\n",
       "    <tr>\n",
       "      <th>1</th>\n",
       "      <td>positive</td>\n",
       "      <td>1.260000e+17</td>\n",
       "      <td>@Apple will be adding more carrier support to ...</td>\n",
       "      <td>appl ad carrier support iphon 4s announc</td>\n",
       "    </tr>\n",
       "    <tr>\n",
       "      <th>2</th>\n",
       "      <td>positive</td>\n",
       "      <td>1.260000e+17</td>\n",
       "      <td>Hilarious @youtube video - guy does a duet wit...</td>\n",
       "      <td>hilari youtub video guy duet appl siri pretti ...</td>\n",
       "    </tr>\n",
       "    <tr>\n",
       "      <th>3</th>\n",
       "      <td>positive</td>\n",
       "      <td>1.260000e+17</td>\n",
       "      <td>@RIM you made it too easy for me to switch to ...</td>\n",
       "      <td>ri made easi switch appl iphon see ya</td>\n",
       "    </tr>\n",
       "    <tr>\n",
       "      <th>4</th>\n",
       "      <td>positive</td>\n",
       "      <td>1.260000e+17</td>\n",
       "      <td>I just realized that the reason I got into twi...</td>\n",
       "      <td>realiz reason got twitter io 5 thank appl</td>\n",
       "    </tr>\n",
       "  </tbody>\n",
       "</table>\n",
       "</div>"
      ],
      "text/plain": [
       "  Sentiment       TweetId                                          TweetText  \\\n",
       "0  positive  1.260000e+17  Now all @Apple has to do is get swype on the i...   \n",
       "1  positive  1.260000e+17  @Apple will be adding more carrier support to ...   \n",
       "2  positive  1.260000e+17  Hilarious @youtube video - guy does a duet wit...   \n",
       "3  positive  1.260000e+17  @RIM you made it too easy for me to switch to ...   \n",
       "4  positive  1.260000e+17  I just realized that the reason I got into twi...   \n",
       "\n",
       "                                           CleanText  \n",
       "0                   appl get swype iphon crack iphon  \n",
       "1           appl ad carrier support iphon 4s announc  \n",
       "2  hilari youtub video guy duet appl siri pretti ...  \n",
       "3              ri made easi switch appl iphon see ya  \n",
       "4          realiz reason got twitter io 5 thank appl  "
      ]
     },
     "execution_count": 53,
     "metadata": {},
     "output_type": "execute_result"
    }
   ],
   "source": [
    "# add clean text to the dataset\n",
    "new_data.loc[:, 'CleanText'] = sent_list\n",
    "new_data.head()"
   ]
  },
  {
   "cell_type": "code",
   "execution_count": 58,
   "metadata": {},
   "outputs": [
    {
     "data": {
      "text/plain": [
       "Sentiment\n",
       "neutral     2228\n",
       "negative     437\n",
       "positive     329\n",
       "Name: count, dtype: int64"
      ]
     },
     "execution_count": 58,
     "metadata": {},
     "output_type": "execute_result"
    }
   ],
   "source": [
    "new_data['Sentiment'].value_counts()"
   ]
  },
  {
   "cell_type": "code",
   "execution_count": 107,
   "metadata": {},
   "outputs": [],
   "source": [
    "# apply tf-idf\n",
    "# create TF-IDF vectrizer\n",
    "tfidf_vect = TfidfVectorizer()\n",
    "# fit and transform data\n",
    "matrix = tfidf_vect.fit_transform(sent_list)\n",
    "\n",
    "# get the explanatory and target variables for machine learning\n",
    "X = matrix.toarray()\n",
    "y = np.array(new_data['Sentiment'])\n",
    "# Encord the target varieble for nueral network\n",
    "label_encoder = LabelEncoder()\n",
    "y_encoded = label_encoder.fit_transform(y)\n",
    "y_cat = to_categorical(y_encoded)"
   ]
  },
  {
   "cell_type": "code",
   "execution_count": 109,
   "metadata": {},
   "outputs": [
    {
     "name": "stdout",
     "output_type": "stream",
     "text": [
      "Explnatory Variable format: \n",
      "[[0. 0. 0. ... 0. 0. 0.]\n",
      " [0. 0. 0. ... 0. 0. 0.]\n",
      " [0. 0. 0. ... 0. 0. 0.]\n",
      " [0. 0. 0. ... 0. 0. 0.]\n",
      " [0. 0. 0. ... 0. 0. 0.]]\n",
      "\n",
      "Target Variable format: \n",
      "['positive' 'positive' 'positive' 'positive' 'positive']\n",
      "\n",
      "Encorded Target Variable: \n",
      "['negative' 'neutral' 'positive']\n",
      "[[0. 0. 1.]\n",
      " [0. 0. 1.]\n",
      " [0. 0. 1.]\n",
      " [0. 0. 1.]\n",
      " [0. 0. 1.]]\n"
     ]
    }
   ],
   "source": [
    "print(\"Explnatory Variable format: \")\n",
    "print(X[:5])\n",
    "\n",
    "print(\"\\nTarget Variable format: \")\n",
    "print(y[:5])\n",
    "\n",
    "print(\"\\nEncorded Target Variable: \")\n",
    "print(label_encoder.classes_)\n",
    "print(y_cat[:5])"
   ]
  },
  {
   "cell_type": "code",
   "execution_count": 172,
   "metadata": {},
   "outputs": [],
   "source": [
    "# define the encoder for neural nerwork\n",
    "label_encoder = LabelEncoder()\n",
    "label_encoder.fit(y)\n",
    "\n",
    "# define statifired k-fold processes\n",
    "def strat_kfold(model_name: str, k=5):\n",
    "    # stratified k-fold cross validation\n",
    "    skf = StratifiedKFold(n_splits=k, shuffle=True, random_state=42)\n",
    "    # fold number\n",
    "    i = 1\n",
    "    # performance func\n",
    "    perf_func = {\"Acc\": accuracy_score, \"Pre\": precision_score, \"Rec\": recall_score, \n",
    "                 \"F1\": f1_score, \"Conf\": confusion_matrix}\n",
    "    # set the dict of the performance results\n",
    "    results = {key: [] for key in perf_func.keys()}\n",
    "    # trained model at each validation\n",
    "    models = []\n",
    "    # apply k-hold cross validation\n",
    "    for train_index, test_index in skf.split(X, y):\n",
    "        print(f\"start fold {i}\")\n",
    "        # set train data\n",
    "        X_train, X_test = X[train_index], X[test_index]\n",
    "        # Neural Network\n",
    "        if model_name == 'neural_network':\n",
    "            # set test data\n",
    "            y_train, y_test = y_cat[train_index], y_cat[test_index]\n",
    "            # Neural Network Model\n",
    "            model = Sequential()\n",
    "            model.add(Dense(128, activation='relu', input_shape=(X.shape[1],)))\n",
    "            model.add(Dense(64, activation='relu'))\n",
    "            model.add(Dense(3, activation='softmax'))  # 3 units for 3 classes\n",
    "            # Compile the model\n",
    "            model.compile(optimizer='adam', loss='categorical_crossentropy', metrics=['accuracy'])\n",
    "            # Train the model\n",
    "            model.fit(X_train, y_train, epochs=10, batch_size=16, validation_split=0.2)\n",
    "            # predict the target classes\n",
    "            y_pred = np.argmax(model.predict(X_test), axis=1)\n",
    "            # convert the y_test to\n",
    "            y_test = np.argmax(y_test, axis=1)\n",
    "            # add model\n",
    "            models.append(model)\n",
    "        # random forest\n",
    "        elif model_name == 'random_forest':\n",
    "            # set the test data\n",
    "            y_train, y_test = y[train_index], y[test_index]\n",
    "            # set model\n",
    "            model = RandomForestClassifier(\n",
    "                n_estimators=100, class_weight='balanced',\n",
    "                random_state=42, n_jobs=-1\n",
    "                )\n",
    "            # train the data into the model\n",
    "            model.fit(X_train, y_train)\n",
    "            # predict the target classes\n",
    "            y_pred = model.predict(X_test)\n",
    "            # add model\n",
    "            models.append(model)\n",
    "        # naive bayes\n",
    "        elif model_name == \"naive_bayes\":\n",
    "            # set the test data\n",
    "            y_train, y_test = y[train_index], y[test_index]\n",
    "            # set model\n",
    "            model = MultinomialNB()\n",
    "            # train the data into the model\n",
    "            model.fit(X_train, y_train)\n",
    "            # predict the target classes\n",
    "            y_pred = model.predict(X_test)\n",
    "            # add model\n",
    "            models.append(model)\n",
    "\n",
    "        else:\n",
    "            return None, None, None\n",
    "\n",
    "        # calculate classificaiton performances\n",
    "        for key in perf_func.keys():\n",
    "            if key in [\"Acc\", \"Conf\"]:\n",
    "                params = {}\n",
    "            else:\n",
    "                params = {'average': 'macro'}\n",
    "                \n",
    "            results[key].append(perf_func[key](y_test, y_pred, **params))\n",
    "        \n",
    "        # increment fold\n",
    "        i += 1\n",
    "\n",
    "    # create the min-max confusion matrix\n",
    "    stacked_arrays = np.stack(results['Conf'], axis=0)\n",
    "    # Combine min and max values into a tuple for each component\n",
    "    min_max_conf = np.dstack((np.min(stacked_arrays, axis=0), np.max(stacked_arrays, axis=0)))\n",
    "\n",
    "    # delete \"Conf\" key from dict\n",
    "    del results['Conf']\n",
    "\n",
    "    return pd.DataFrame(results), min_max_conf, models\n"
   ]
  },
  {
   "cell_type": "code",
   "execution_count": 161,
   "metadata": {},
   "outputs": [
    {
     "name": "stdout",
     "output_type": "stream",
     "text": [
      "start fold 1\n"
     ]
    },
    {
     "name": "stderr",
     "output_type": "stream",
     "text": [
      "C:\\Users\\runru\\AppData\\Local\\Packages\\PythonSoftwareFoundation.Python.3.11_qbz5n2kfra8p0\\LocalCache\\local-packages\\Python311\\site-packages\\sklearn\\metrics\\_classification.py:1469: UndefinedMetricWarning: Precision is ill-defined and being set to 0.0 in labels with no predicted samples. Use `zero_division` parameter to control this behavior.\n",
      "  _warn_prf(average, modifier, msg_start, len(result))\n",
      "C:\\Users\\runru\\AppData\\Local\\Packages\\PythonSoftwareFoundation.Python.3.11_qbz5n2kfra8p0\\LocalCache\\local-packages\\Python311\\site-packages\\sklearn\\metrics\\_classification.py:1469: UndefinedMetricWarning: Precision is ill-defined and being set to 0.0 in labels with no predicted samples. Use `zero_division` parameter to control this behavior.\n",
      "  _warn_prf(average, modifier, msg_start, len(result))\n"
     ]
    },
    {
     "name": "stdout",
     "output_type": "stream",
     "text": [
      "start fold 2\n",
      "start fold 3\n"
     ]
    },
    {
     "name": "stderr",
     "output_type": "stream",
     "text": [
      "C:\\Users\\runru\\AppData\\Local\\Packages\\PythonSoftwareFoundation.Python.3.11_qbz5n2kfra8p0\\LocalCache\\local-packages\\Python311\\site-packages\\sklearn\\metrics\\_classification.py:1469: UndefinedMetricWarning: Precision is ill-defined and being set to 0.0 in labels with no predicted samples. Use `zero_division` parameter to control this behavior.\n",
      "  _warn_prf(average, modifier, msg_start, len(result))\n",
      "C:\\Users\\runru\\AppData\\Local\\Packages\\PythonSoftwareFoundation.Python.3.11_qbz5n2kfra8p0\\LocalCache\\local-packages\\Python311\\site-packages\\sklearn\\metrics\\_classification.py:1469: UndefinedMetricWarning: Precision is ill-defined and being set to 0.0 in labels with no predicted samples. Use `zero_division` parameter to control this behavior.\n",
      "  _warn_prf(average, modifier, msg_start, len(result))\n"
     ]
    },
    {
     "name": "stdout",
     "output_type": "stream",
     "text": [
      "start fold 4\n",
      "start fold 5\n",
      "[[[  1   2]\n",
      "  [ 86  87]\n",
      "  [  0   0]]\n",
      "\n",
      " [[  0   1]\n",
      "  [445 446]\n",
      "  [  0   0]]\n",
      "\n",
      " [[  0   0]\n",
      "  [ 65  66]\n",
      "  [  0   0]]]\n"
     ]
    },
    {
     "name": "stderr",
     "output_type": "stream",
     "text": [
      "C:\\Users\\runru\\AppData\\Local\\Packages\\PythonSoftwareFoundation.Python.3.11_qbz5n2kfra8p0\\LocalCache\\local-packages\\Python311\\site-packages\\sklearn\\metrics\\_classification.py:1469: UndefinedMetricWarning: Precision is ill-defined and being set to 0.0 in labels with no predicted samples. Use `zero_division` parameter to control this behavior.\n",
      "  _warn_prf(average, modifier, msg_start, len(result))\n"
     ]
    },
    {
     "data": {
      "text/html": [
       "<div>\n",
       "<style scoped>\n",
       "    .dataframe tbody tr th:only-of-type {\n",
       "        vertical-align: middle;\n",
       "    }\n",
       "\n",
       "    .dataframe tbody tr th {\n",
       "        vertical-align: top;\n",
       "    }\n",
       "\n",
       "    .dataframe thead th {\n",
       "        text-align: right;\n",
       "    }\n",
       "</style>\n",
       "<table border=\"1\" class=\"dataframe\">\n",
       "  <thead>\n",
       "    <tr style=\"text-align: right;\">\n",
       "      <th></th>\n",
       "      <th>Acc</th>\n",
       "      <th>Pre</th>\n",
       "      <th>Rec</th>\n",
       "      <th>F1</th>\n",
       "    </tr>\n",
       "  </thead>\n",
       "  <tbody>\n",
       "    <tr>\n",
       "      <th>0</th>\n",
       "      <td>0.746244</td>\n",
       "      <td>0.581798</td>\n",
       "      <td>0.340909</td>\n",
       "      <td>0.299524</td>\n",
       "    </tr>\n",
       "    <tr>\n",
       "      <th>1</th>\n",
       "      <td>0.746244</td>\n",
       "      <td>0.581940</td>\n",
       "      <td>0.337165</td>\n",
       "      <td>0.292378</td>\n",
       "    </tr>\n",
       "    <tr>\n",
       "      <th>2</th>\n",
       "      <td>0.746244</td>\n",
       "      <td>0.581940</td>\n",
       "      <td>0.337165</td>\n",
       "      <td>0.292378</td>\n",
       "    </tr>\n",
       "    <tr>\n",
       "      <th>3</th>\n",
       "      <td>0.744574</td>\n",
       "      <td>0.415131</td>\n",
       "      <td>0.336417</td>\n",
       "      <td>0.291927</td>\n",
       "    </tr>\n",
       "    <tr>\n",
       "      <th>4</th>\n",
       "      <td>0.745819</td>\n",
       "      <td>0.581798</td>\n",
       "      <td>0.337121</td>\n",
       "      <td>0.292200</td>\n",
       "    </tr>\n",
       "  </tbody>\n",
       "</table>\n",
       "</div>"
      ],
      "text/plain": [
       "        Acc       Pre       Rec        F1\n",
       "0  0.746244  0.581798  0.340909  0.299524\n",
       "1  0.746244  0.581940  0.337165  0.292378\n",
       "2  0.746244  0.581940  0.337165  0.292378\n",
       "3  0.744574  0.415131  0.336417  0.291927\n",
       "4  0.745819  0.581798  0.337121  0.292200"
      ]
     },
     "execution_count": 161,
     "metadata": {},
     "output_type": "execute_result"
    }
   ],
   "source": [
    "# Naive Bayes Classifiers\n",
    "nb_results, nb_conf, nb_models = strat_kfold(\"naive_bayes\")\n",
    "print(nb_conf)\n",
    "nb_results"
   ]
  },
  {
   "cell_type": "code",
   "execution_count": 162,
   "metadata": {},
   "outputs": [
    {
     "name": "stdout",
     "output_type": "stream",
     "text": [
      "start fold 1\n",
      "start fold 2\n",
      "start fold 3\n",
      "start fold 4\n",
      "start fold 5\n",
      "[[[ 28  37]\n",
      "  [ 50  58]\n",
      "  [  0   2]]\n",
      "\n",
      " [[  5  15]\n",
      "  [425 434]\n",
      "  [  2  12]]\n",
      "\n",
      " [[  0   0]\n",
      "  [ 56  63]\n",
      "  [  3  10]]]\n"
     ]
    },
    {
     "data": {
      "text/html": [
       "<div>\n",
       "<style scoped>\n",
       "    .dataframe tbody tr th:only-of-type {\n",
       "        vertical-align: middle;\n",
       "    }\n",
       "\n",
       "    .dataframe tbody tr th {\n",
       "        vertical-align: top;\n",
       "    }\n",
       "\n",
       "    .dataframe thead th {\n",
       "        text-align: right;\n",
       "    }\n",
       "</style>\n",
       "<table border=\"1\" class=\"dataframe\">\n",
       "  <thead>\n",
       "    <tr style=\"text-align: right;\">\n",
       "      <th></th>\n",
       "      <th>Acc</th>\n",
       "      <th>Pre</th>\n",
       "      <th>Rec</th>\n",
       "      <th>F1</th>\n",
       "    </tr>\n",
       "  </thead>\n",
       "  <tbody>\n",
       "    <tr>\n",
       "      <th>0</th>\n",
       "      <td>0.779633</td>\n",
       "      <td>0.717071</td>\n",
       "      <td>0.453882</td>\n",
       "      <td>0.474983</td>\n",
       "    </tr>\n",
       "    <tr>\n",
       "      <th>1</th>\n",
       "      <td>0.784641</td>\n",
       "      <td>0.750272</td>\n",
       "      <td>0.470829</td>\n",
       "      <td>0.506274</td>\n",
       "    </tr>\n",
       "    <tr>\n",
       "      <th>2</th>\n",
       "      <td>0.796327</td>\n",
       "      <td>0.731607</td>\n",
       "      <td>0.513643</td>\n",
       "      <td>0.557706</td>\n",
       "    </tr>\n",
       "    <tr>\n",
       "      <th>3</th>\n",
       "      <td>0.771285</td>\n",
       "      <td>0.656357</td>\n",
       "      <td>0.470373</td>\n",
       "      <td>0.503527</td>\n",
       "    </tr>\n",
       "    <tr>\n",
       "      <th>4</th>\n",
       "      <td>0.779264</td>\n",
       "      <td>0.672582</td>\n",
       "      <td>0.473921</td>\n",
       "      <td>0.511021</td>\n",
       "    </tr>\n",
       "  </tbody>\n",
       "</table>\n",
       "</div>"
      ],
      "text/plain": [
       "        Acc       Pre       Rec        F1\n",
       "0  0.779633  0.717071  0.453882  0.474983\n",
       "1  0.784641  0.750272  0.470829  0.506274\n",
       "2  0.796327  0.731607  0.513643  0.557706\n",
       "3  0.771285  0.656357  0.470373  0.503527\n",
       "4  0.779264  0.672582  0.473921  0.511021"
      ]
     },
     "execution_count": 162,
     "metadata": {},
     "output_type": "execute_result"
    }
   ],
   "source": [
    "# Randon forest\n",
    "rf_results, rf_conf, rf_models = strat_kfold(\"random_forest\")\n",
    "print(rf_conf)\n",
    "rf_results"
   ]
  },
  {
   "cell_type": "code",
   "execution_count": 173,
   "metadata": {},
   "outputs": [
    {
     "name": "stdout",
     "output_type": "stream",
     "text": [
      "start fold 1\n",
      "Epoch 1/10\n",
      "120/120 [==============================] - 4s 16ms/step - loss: 1.4880 - accuracy: 0.6879 - val_loss: 0.6282 - val_accuracy: 0.9562\n",
      "Epoch 2/10\n",
      "120/120 [==============================] - 2s 13ms/step - loss: 0.9075 - accuracy: 0.6915 - val_loss: 0.6379 - val_accuracy: 0.9562\n",
      "Epoch 3/10\n",
      "120/120 [==============================] - 2s 13ms/step - loss: 0.8635 - accuracy: 0.6915 - val_loss: 0.6494 - val_accuracy: 0.9562\n",
      "Epoch 4/10\n",
      "120/120 [==============================] - 1s 13ms/step - loss: 0.8598 - accuracy: 0.6915 - val_loss: 0.7916 - val_accuracy: 0.9562\n",
      "Epoch 5/10\n",
      "120/120 [==============================] - 1s 12ms/step - loss: 0.8583 - accuracy: 0.6921 - val_loss: 0.7613 - val_accuracy: 0.9562\n",
      "Epoch 6/10\n",
      "120/120 [==============================] - 2s 13ms/step - loss: 0.8557 - accuracy: 0.6952 - val_loss: 0.8489 - val_accuracy: 0.9332\n",
      "Epoch 7/10\n",
      "120/120 [==============================] - 2s 13ms/step - loss: 0.8517 - accuracy: 0.6983 - val_loss: 0.8775 - val_accuracy: 0.8747\n",
      "Epoch 8/10\n",
      "120/120 [==============================] - 2s 13ms/step - loss: 0.8417 - accuracy: 0.7281 - val_loss: 0.8375 - val_accuracy: 0.8706\n",
      "Epoch 9/10\n",
      "120/120 [==============================] - 2s 13ms/step - loss: 0.8306 - accuracy: 0.7338 - val_loss: 0.8685 - val_accuracy: 0.8622\n",
      "Epoch 10/10\n",
      "120/120 [==============================] - 2s 13ms/step - loss: 0.8210 - accuracy: 0.7427 - val_loss: 0.9701 - val_accuracy: 0.7557\n",
      "19/19 [==============================] - 0s 3ms/step\n",
      "start fold 2\n"
     ]
    },
    {
     "name": "stderr",
     "output_type": "stream",
     "text": [
      "C:\\Users\\runru\\AppData\\Local\\Packages\\PythonSoftwareFoundation.Python.3.11_qbz5n2kfra8p0\\LocalCache\\local-packages\\Python311\\site-packages\\sklearn\\metrics\\_classification.py:1469: UndefinedMetricWarning: Precision is ill-defined and being set to 0.0 in labels with no predicted samples. Use `zero_division` parameter to control this behavior.\n",
      "  _warn_prf(average, modifier, msg_start, len(result))\n"
     ]
    },
    {
     "name": "stdout",
     "output_type": "stream",
     "text": [
      "Epoch 1/10\n",
      "120/120 [==============================] - 3s 16ms/step - loss: 1.5130 - accuracy: 0.6597 - val_loss: 0.6291 - val_accuracy: 0.9749\n",
      "Epoch 2/10\n",
      "120/120 [==============================] - 2s 14ms/step - loss: 0.9060 - accuracy: 0.6863 - val_loss: 0.5537 - val_accuracy: 0.9749\n",
      "Epoch 3/10\n",
      "120/120 [==============================] - 2s 14ms/step - loss: 0.8765 - accuracy: 0.6863 - val_loss: 0.5548 - val_accuracy: 0.9749\n",
      "Epoch 4/10\n",
      "120/120 [==============================] - 2s 15ms/step - loss: 0.8683 - accuracy: 0.6863 - val_loss: 0.5547 - val_accuracy: 0.9749\n",
      "Epoch 5/10\n",
      "120/120 [==============================] - 2s 14ms/step - loss: 0.8653 - accuracy: 0.6863 - val_loss: 0.5820 - val_accuracy: 0.9749\n",
      "Epoch 6/10\n",
      "120/120 [==============================] - 2s 13ms/step - loss: 0.8656 - accuracy: 0.6863 - val_loss: 0.6066 - val_accuracy: 0.9749\n",
      "Epoch 7/10\n",
      "120/120 [==============================] - 2s 13ms/step - loss: 0.8677 - accuracy: 0.6863 - val_loss: 0.5941 - val_accuracy: 0.9749\n",
      "Epoch 8/10\n",
      "120/120 [==============================] - 2s 13ms/step - loss: 0.8622 - accuracy: 0.6868 - val_loss: 0.7095 - val_accuracy: 0.9749\n",
      "Epoch 9/10\n",
      "120/120 [==============================] - 2s 14ms/step - loss: 0.8681 - accuracy: 0.6889 - val_loss: 0.7199 - val_accuracy: 0.9749\n",
      "Epoch 10/10\n",
      "120/120 [==============================] - 2s 13ms/step - loss: 0.8551 - accuracy: 0.6973 - val_loss: 0.7014 - val_accuracy: 0.9749\n",
      "19/19 [==============================] - 0s 4ms/step\n",
      "start fold 3\n"
     ]
    },
    {
     "name": "stderr",
     "output_type": "stream",
     "text": [
      "C:\\Users\\runru\\AppData\\Local\\Packages\\PythonSoftwareFoundation.Python.3.11_qbz5n2kfra8p0\\LocalCache\\local-packages\\Python311\\site-packages\\sklearn\\metrics\\_classification.py:1469: UndefinedMetricWarning: Precision is ill-defined and being set to 0.0 in labels with no predicted samples. Use `zero_division` parameter to control this behavior.\n",
      "  _warn_prf(average, modifier, msg_start, len(result))\n"
     ]
    },
    {
     "name": "stdout",
     "output_type": "stream",
     "text": [
      "Epoch 1/10\n",
      "120/120 [==============================] - 6s 15ms/step - loss: 1.4904 - accuracy: 0.6874 - val_loss: 0.6652 - val_accuracy: 0.9374\n",
      "Epoch 2/10\n",
      "120/120 [==============================] - 2s 13ms/step - loss: 0.8984 - accuracy: 0.6957 - val_loss: 0.5933 - val_accuracy: 0.9374\n",
      "Epoch 3/10\n",
      "120/120 [==============================] - 2s 13ms/step - loss: 0.8617 - accuracy: 0.6957 - val_loss: 0.6200 - val_accuracy: 0.9374\n",
      "Epoch 4/10\n",
      "120/120 [==============================] - 2s 13ms/step - loss: 0.8583 - accuracy: 0.6957 - val_loss: 0.6987 - val_accuracy: 0.9374\n",
      "Epoch 5/10\n",
      "120/120 [==============================] - 2s 14ms/step - loss: 0.8587 - accuracy: 0.6957 - val_loss: 0.6943 - val_accuracy: 0.9374\n",
      "Epoch 6/10\n",
      "120/120 [==============================] - 2s 13ms/step - loss: 0.8575 - accuracy: 0.6957 - val_loss: 0.6960 - val_accuracy: 0.9374\n",
      "Epoch 7/10\n",
      "120/120 [==============================] - 1s 12ms/step - loss: 0.8499 - accuracy: 0.6957 - val_loss: 0.7644 - val_accuracy: 0.9374\n",
      "Epoch 8/10\n",
      "120/120 [==============================] - 1s 12ms/step - loss: 0.8415 - accuracy: 0.6957 - val_loss: 0.8315 - val_accuracy: 0.9374\n",
      "Epoch 9/10\n",
      "120/120 [==============================] - 2s 13ms/step - loss: 0.8518 - accuracy: 0.6957 - val_loss: 0.8560 - val_accuracy: 0.9374\n",
      "Epoch 10/10\n",
      "120/120 [==============================] - 1s 12ms/step - loss: 0.8324 - accuracy: 0.7046 - val_loss: 0.8539 - val_accuracy: 0.9040\n",
      "19/19 [==============================] - 0s 3ms/step\n",
      "start fold 4\n"
     ]
    },
    {
     "name": "stderr",
     "output_type": "stream",
     "text": [
      "C:\\Users\\runru\\AppData\\Local\\Packages\\PythonSoftwareFoundation.Python.3.11_qbz5n2kfra8p0\\LocalCache\\local-packages\\Python311\\site-packages\\sklearn\\metrics\\_classification.py:1469: UndefinedMetricWarning: Precision is ill-defined and being set to 0.0 in labels with no predicted samples. Use `zero_division` parameter to control this behavior.\n",
      "  _warn_prf(average, modifier, msg_start, len(result))\n"
     ]
    },
    {
     "name": "stdout",
     "output_type": "stream",
     "text": [
      "Epoch 1/10\n",
      "120/120 [==============================] - 3s 15ms/step - loss: 1.4994 - accuracy: 0.6639 - val_loss: 0.6609 - val_accuracy: 0.9896\n",
      "Epoch 2/10\n",
      "120/120 [==============================] - 2s 13ms/step - loss: 0.9096 - accuracy: 0.6827 - val_loss: 0.5447 - val_accuracy: 0.9896\n",
      "Epoch 3/10\n",
      "120/120 [==============================] - 2s 13ms/step - loss: 0.8742 - accuracy: 0.6827 - val_loss: 0.5365 - val_accuracy: 0.9896\n",
      "Epoch 4/10\n",
      "120/120 [==============================] - 2s 13ms/step - loss: 0.8794 - accuracy: 0.6827 - val_loss: 0.5949 - val_accuracy: 0.9896\n",
      "Epoch 5/10\n",
      "120/120 [==============================] - 1s 12ms/step - loss: 0.8735 - accuracy: 0.6827 - val_loss: 0.6496 - val_accuracy: 0.9896\n",
      "Epoch 6/10\n",
      "120/120 [==============================] - 2s 13ms/step - loss: 0.8704 - accuracy: 0.6827 - val_loss: 0.7290 - val_accuracy: 0.9896\n",
      "Epoch 7/10\n",
      "120/120 [==============================] - 1s 12ms/step - loss: 0.8629 - accuracy: 0.6827 - val_loss: 0.7371 - val_accuracy: 0.9896\n",
      "Epoch 8/10\n",
      "120/120 [==============================] - 2s 13ms/step - loss: 0.8577 - accuracy: 0.6827 - val_loss: 0.8214 - val_accuracy: 0.9896\n",
      "Epoch 9/10\n",
      "120/120 [==============================] - 2s 13ms/step - loss: 0.8503 - accuracy: 0.6827 - val_loss: 0.7898 - val_accuracy: 0.9896\n",
      "Epoch 10/10\n",
      "120/120 [==============================] - 2s 13ms/step - loss: 0.8504 - accuracy: 0.6832 - val_loss: 0.9041 - val_accuracy: 0.9896\n",
      "19/19 [==============================] - 0s 4ms/step\n",
      "start fold 5\n"
     ]
    },
    {
     "name": "stderr",
     "output_type": "stream",
     "text": [
      "C:\\Users\\runru\\AppData\\Local\\Packages\\PythonSoftwareFoundation.Python.3.11_qbz5n2kfra8p0\\LocalCache\\local-packages\\Python311\\site-packages\\sklearn\\metrics\\_classification.py:1469: UndefinedMetricWarning: Precision is ill-defined and being set to 0.0 in labels with no predicted samples. Use `zero_division` parameter to control this behavior.\n",
      "  _warn_prf(average, modifier, msg_start, len(result))\n"
     ]
    },
    {
     "name": "stdout",
     "output_type": "stream",
     "text": [
      "Epoch 1/10\n",
      "120/120 [==============================] - 3s 14ms/step - loss: 1.4794 - accuracy: 0.6910 - val_loss: 0.6525 - val_accuracy: 0.9333\n",
      "Epoch 2/10\n",
      "120/120 [==============================] - 2s 13ms/step - loss: 0.8956 - accuracy: 0.6968 - val_loss: 0.6122 - val_accuracy: 0.9333\n",
      "Epoch 3/10\n",
      "120/120 [==============================] - 1s 12ms/step - loss: 0.8636 - accuracy: 0.6968 - val_loss: 0.5881 - val_accuracy: 0.9333\n",
      "Epoch 4/10\n",
      "120/120 [==============================] - 1s 12ms/step - loss: 0.8592 - accuracy: 0.6968 - val_loss: 0.6828 - val_accuracy: 0.9333\n",
      "Epoch 5/10\n",
      "120/120 [==============================] - 2s 13ms/step - loss: 0.8675 - accuracy: 0.6968 - val_loss: 0.7323 - val_accuracy: 0.9333\n",
      "Epoch 6/10\n",
      "120/120 [==============================] - 2s 13ms/step - loss: 0.8601 - accuracy: 0.6973 - val_loss: 0.6876 - val_accuracy: 0.9333\n",
      "Epoch 7/10\n",
      "120/120 [==============================] - 2s 13ms/step - loss: 0.8527 - accuracy: 0.6978 - val_loss: 0.6939 - val_accuracy: 0.9333\n",
      "Epoch 8/10\n",
      "120/120 [==============================] - 2s 13ms/step - loss: 0.8543 - accuracy: 0.7088 - val_loss: 0.8735 - val_accuracy: 0.8875\n",
      "Epoch 9/10\n",
      "120/120 [==============================] - 2s 13ms/step - loss: 0.8573 - accuracy: 0.7213 - val_loss: 0.8084 - val_accuracy: 0.8938\n",
      "Epoch 10/10\n",
      "120/120 [==============================] - 2s 13ms/step - loss: 0.8434 - accuracy: 0.7385 - val_loss: 0.8035 - val_accuracy: 0.8833\n",
      "19/19 [==============================] - 0s 3ms/step\n",
      "[[[  0  25]\n",
      "  [ 63  87]\n",
      "  [  0   0]]\n",
      "\n",
      " [[  0  33]\n",
      "  [412 446]\n",
      "  [  0   0]]\n",
      "\n",
      " [[  0   9]\n",
      "  [ 57  66]\n",
      "  [  0   0]]]\n"
     ]
    },
    {
     "name": "stderr",
     "output_type": "stream",
     "text": [
      "C:\\Users\\runru\\AppData\\Local\\Packages\\PythonSoftwareFoundation.Python.3.11_qbz5n2kfra8p0\\LocalCache\\local-packages\\Python311\\site-packages\\sklearn\\metrics\\_classification.py:1469: UndefinedMetricWarning: Precision is ill-defined and being set to 0.0 in labels with no predicted samples. Use `zero_division` parameter to control this behavior.\n",
      "  _warn_prf(average, modifier, msg_start, len(result))\n"
     ]
    },
    {
     "data": {
      "text/html": [
       "<div>\n",
       "<style scoped>\n",
       "    .dataframe tbody tr th:only-of-type {\n",
       "        vertical-align: middle;\n",
       "    }\n",
       "\n",
       "    .dataframe tbody tr th {\n",
       "        vertical-align: top;\n",
       "    }\n",
       "\n",
       "    .dataframe thead th {\n",
       "        text-align: right;\n",
       "    }\n",
       "</style>\n",
       "<table border=\"1\" class=\"dataframe\">\n",
       "  <thead>\n",
       "    <tr style=\"text-align: right;\">\n",
       "      <th></th>\n",
       "      <th>Acc</th>\n",
       "      <th>Pre</th>\n",
       "      <th>Rec</th>\n",
       "      <th>F1</th>\n",
       "    </tr>\n",
       "  </thead>\n",
       "  <tbody>\n",
       "    <tr>\n",
       "      <th>0</th>\n",
       "      <td>0.729549</td>\n",
       "      <td>0.382523</td>\n",
       "      <td>0.403311</td>\n",
       "      <td>0.388660</td>\n",
       "    </tr>\n",
       "    <tr>\n",
       "      <th>1</th>\n",
       "      <td>0.744574</td>\n",
       "      <td>0.248191</td>\n",
       "      <td>0.333333</td>\n",
       "      <td>0.284530</td>\n",
       "    </tr>\n",
       "    <tr>\n",
       "      <th>2</th>\n",
       "      <td>0.732888</td>\n",
       "      <td>0.274788</td>\n",
       "      <td>0.331186</td>\n",
       "      <td>0.289612</td>\n",
       "    </tr>\n",
       "    <tr>\n",
       "      <th>3</th>\n",
       "      <td>0.744574</td>\n",
       "      <td>0.248191</td>\n",
       "      <td>0.333333</td>\n",
       "      <td>0.284530</td>\n",
       "    </tr>\n",
       "    <tr>\n",
       "      <th>4</th>\n",
       "      <td>0.744147</td>\n",
       "      <td>0.399046</td>\n",
       "      <td>0.381954</td>\n",
       "      <td>0.369628</td>\n",
       "    </tr>\n",
       "  </tbody>\n",
       "</table>\n",
       "</div>"
      ],
      "text/plain": [
       "        Acc       Pre       Rec        F1\n",
       "0  0.729549  0.382523  0.403311  0.388660\n",
       "1  0.744574  0.248191  0.333333  0.284530\n",
       "2  0.732888  0.274788  0.331186  0.289612\n",
       "3  0.744574  0.248191  0.333333  0.284530\n",
       "4  0.744147  0.399046  0.381954  0.369628"
      ]
     },
     "execution_count": 173,
     "metadata": {},
     "output_type": "execute_result"
    }
   ],
   "source": [
    "# neural network\n",
    "nw_results, nw_conf, nw_models = strat_kfold(\"neural_network\")\n",
    "print(nw_conf)\n",
    "nw_results"
   ]
  },
  {
   "cell_type": "code",
   "execution_count": 164,
   "metadata": {},
   "outputs": [],
   "source": [
    "import numpy as np\n",
    "\n",
    "# Averaging weights of the models\n",
    "weights = [model.get_weights() for model in nw_models]\n",
    "new_weights = list()\n",
    "\n",
    "for weights_list_tuple in zip(*weights):\n",
    "    new_weights.append(\n",
    "        np.array([np.array(weights_).mean(axis=0) for weights_ in zip(*weights_list_tuple)])\n",
    "    )\n",
    "\n",
    "# Create a new model with the same architecture\n",
    "aggregated_model = Sequential([\n",
    "    Dense(128, activation='relu', input_shape=(X.shape[1],), kernel_regularizer=l2(0.01)),\n",
    "    Dense(64, activation='relu', kernel_regularizer=l2(0.01)),\n",
    "    Dense(3, activation='softmax')\n",
    "])\n",
    "\n",
    "# Set the averaged weights\n",
    "aggregated_model.set_weights(new_weights)\n"
   ]
  },
  {
   "cell_type": "markdown",
   "metadata": {},
   "source": [
    "### Load Test Data"
   ]
  },
  {
   "cell_type": "code",
   "execution_count": 165,
   "metadata": {},
   "outputs": [
    {
     "data": {
      "text/html": [
       "<div>\n",
       "<style scoped>\n",
       "    .dataframe tbody tr th:only-of-type {\n",
       "        vertical-align: middle;\n",
       "    }\n",
       "\n",
       "    .dataframe tbody tr th {\n",
       "        vertical-align: top;\n",
       "    }\n",
       "\n",
       "    .dataframe thead th {\n",
       "        text-align: right;\n",
       "    }\n",
       "</style>\n",
       "<table border=\"1\" class=\"dataframe\">\n",
       "  <thead>\n",
       "    <tr style=\"text-align: right;\">\n",
       "      <th></th>\n",
       "      <th>TweetId</th>\n",
       "      <th>TweetText</th>\n",
       "    </tr>\n",
       "  </thead>\n",
       "  <tbody>\n",
       "    <tr>\n",
       "      <th>0</th>\n",
       "      <td>126352268705538000</td>\n",
       "      <td>Come to the dark side üì±‚Äú@gretcheneclark: ...</td>\n",
       "    </tr>\n",
       "    <tr>\n",
       "      <th>1</th>\n",
       "      <td>126350302113824000</td>\n",
       "      <td>Hey @apple, if you send me a free iPhone (any ...</td>\n",
       "    </tr>\n",
       "    <tr>\n",
       "      <th>2</th>\n",
       "      <td>126349695676203008</td>\n",
       "      <td>Thank you @apple for Find My Mac - just locate...</td>\n",
       "    </tr>\n",
       "    <tr>\n",
       "      <th>3</th>\n",
       "      <td>126342268603998000</td>\n",
       "      <td>Thanks to @Apple Covent Garden #GeniusBar for ...</td>\n",
       "    </tr>\n",
       "    <tr>\n",
       "      <th>4</th>\n",
       "      <td>126325800080392000</td>\n",
       "      <td>@DailyDealChat @apple Thanks!!</td>\n",
       "    </tr>\n",
       "  </tbody>\n",
       "</table>\n",
       "</div>"
      ],
      "text/plain": [
       "              TweetId                                          TweetText\n",
       "0  126352268705538000  Come to the dark side üì±‚Äú@gretcheneclark: ...\n",
       "1  126350302113824000  Hey @apple, if you send me a free iPhone (any ...\n",
       "2  126349695676203008  Thank you @apple for Find My Mac - just locate...\n",
       "3  126342268603998000  Thanks to @Apple Covent Garden #GeniusBar for ...\n",
       "4  126325800080392000                     @DailyDealChat @apple Thanks!!"
      ]
     },
     "execution_count": 165,
     "metadata": {},
     "output_type": "execute_result"
    }
   ],
   "source": [
    "# check the apply test data\n",
    "testing = pd.read_excel('data/testing_data.xlsx', header=None)\n",
    "testing = testing.rename(columns={i: col for i, col in enumerate(['TweetId', \"TweetText\"])})\n",
    "testing.head()"
   ]
  },
  {
   "cell_type": "code",
   "execution_count": 166,
   "metadata": {},
   "outputs": [
    {
     "data": {
      "text/plain": [
       "array([[0., 0., 0., ..., 0., 0., 0.],\n",
       "       [0., 0., 0., ..., 0., 0., 0.],\n",
       "       [0., 0., 0., ..., 0., 0., 0.],\n",
       "       ...,\n",
       "       [0., 0., 0., ..., 0., 0., 0.],\n",
       "       [0., 0., 0., ..., 0., 0., 0.],\n",
       "       [0., 0., 0., ..., 0., 0., 0.]])"
      ]
     },
     "execution_count": 166,
     "metadata": {},
     "output_type": "execute_result"
    }
   ],
   "source": [
    "# get the clean tweet data as list\n",
    "sent_list_test = clean_texts(np.array(testing['TweetText'].values))\n",
    "# transform to the TF-IDF\n",
    "matrix_test = tfidf_vect.transform(sent_list_test)\n",
    "test_data = matrix_test.toarray()\n",
    "test_data"
   ]
  },
  {
   "cell_type": "code",
   "execution_count": 167,
   "metadata": {},
   "outputs": [
    {
     "name": "stdout",
     "output_type": "stream",
     "text": [
      "15/15 [==============================] - 0s 5ms/step\n"
     ]
    }
   ],
   "source": [
    "# show the predicted labels\n",
    "test_data_pred = aggregated_model.predict(test_data)\n",
    "# convert to the label and invert the encoded labels\n",
    "test_data_pred_cat = label_encoder.inverse_transform(np.argmax(test_data_pred, axis=1))\n"
   ]
  },
  {
   "cell_type": "code",
   "execution_count": 168,
   "metadata": {},
   "outputs": [
    {
     "data": {
      "text/plain": [
       "104"
      ]
     },
     "execution_count": 168,
     "metadata": {},
     "output_type": "execute_result"
    }
   ],
   "source": [
    "sum(testing_answer[1].values == test_data_pred_cat)"
   ]
  },
  {
   "cell_type": "code",
   "execution_count": null,
   "metadata": {},
   "outputs": [],
   "source": []
  }
 ],
 "metadata": {
  "kernelspec": {
   "display_name": "Python 3",
   "language": "python",
   "name": "python3"
  },
  "language_info": {
   "codemirror_mode": {
    "name": "ipython",
    "version": 3
   },
   "file_extension": ".py",
   "mimetype": "text/x-python",
   "name": "python",
   "nbconvert_exporter": "python",
   "pygments_lexer": "ipython3",
   "version": "3.11.7"
  }
 },
 "nbformat": 4,
 "nbformat_minor": 2
}
