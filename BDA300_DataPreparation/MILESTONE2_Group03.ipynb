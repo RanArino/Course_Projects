{
 "cells": [
  {
   "cell_type": "markdown",
   "metadata": {},
   "source": [
    "# COVID  Case Study\n",
    "\n",
    "## Milestone 2:  Normality test\n",
    "The head of disease control wants to know which customers have the highest hit by COVID. The goal of this assignment is to check errors in numerical variables and correct them. \n"
   ]
  },
  {
   "cell_type": "markdown",
   "metadata": {},
   "source": [
    "### Learning outcomes \n",
    "- Find missing values\n",
    "- apply normal test to check for normality. \n"
   ]
  },
  {
   "cell_type": "markdown",
   "metadata": {},
   "source": [
    "# Total: 70pts, weight: 15%"
   ]
  },
  {
   "cell_type": "code",
   "execution_count": 3,
   "metadata": {},
   "outputs": [],
   "source": [
    "from scipy import stats\n",
    "import numpy as np\n",
    "import pandas as pd\n",
    "import matplotlib.pyplot as plt"
   ]
  },
  {
   "cell_type": "code",
   "execution_count": 226,
   "metadata": {},
   "outputs": [
    {
     "data": {
      "text/plain": [
       "'\\nIn terms of the second dataset, we created the daily count of the doses.\\nThe calculation was subsituting the total doses count by one of the yesterday.\\n'"
      ]
     },
     "execution_count": 226,
     "metadata": {},
     "output_type": "execute_result"
    }
   ],
   "source": [
    "# load data\n",
    "df_first = pd.read_csv('First_Dataset.csv')\n",
    "df_second = pd.read_csv('Second_Dataset.csv')\n",
    "\n",
    "\"\"\"\n",
    "In terms of the second dataset, we created the daily count of the doses.\n",
    "The calculation was subsituting the total doses count by one of the yesterday.\n",
    "\"\"\""
   ]
  },
  {
   "cell_type": "code",
   "execution_count": 6,
   "metadata": {},
   "outputs": [
    {
     "data": {
      "text/html": [
       "<div>\n",
       "<style scoped>\n",
       "    .dataframe tbody tr th:only-of-type {\n",
       "        vertical-align: middle;\n",
       "    }\n",
       "\n",
       "    .dataframe tbody tr th {\n",
       "        vertical-align: top;\n",
       "    }\n",
       "\n",
       "    .dataframe thead th {\n",
       "        text-align: right;\n",
       "    }\n",
       "</style>\n",
       "<table border=\"1\" class=\"dataframe\">\n",
       "  <thead>\n",
       "    <tr style=\"text-align: right;\">\n",
       "      <th></th>\n",
       "      <th>iso_code</th>\n",
       "      <th>date</th>\n",
       "      <th>total_cases</th>\n",
       "      <th>new_cases</th>\n",
       "      <th>total_deaths</th>\n",
       "      <th>new_deaths</th>\n",
       "      <th>icu_patients</th>\n",
       "      <th>hosp_patients</th>\n",
       "    </tr>\n",
       "  </thead>\n",
       "  <tbody>\n",
       "    <tr>\n",
       "      <th>0</th>\n",
       "      <td>CAN</td>\n",
       "      <td>1/23/2020</td>\n",
       "      <td>2</td>\n",
       "      <td>2.0</td>\n",
       "      <td>NaN</td>\n",
       "      <td>NaN</td>\n",
       "      <td>NaN</td>\n",
       "      <td>NaN</td>\n",
       "    </tr>\n",
       "    <tr>\n",
       "      <th>1</th>\n",
       "      <td>CAN</td>\n",
       "      <td>1/24/2020</td>\n",
       "      <td>3</td>\n",
       "      <td>1.0</td>\n",
       "      <td>NaN</td>\n",
       "      <td>NaN</td>\n",
       "      <td>NaN</td>\n",
       "      <td>NaN</td>\n",
       "    </tr>\n",
       "    <tr>\n",
       "      <th>2</th>\n",
       "      <td>CAN</td>\n",
       "      <td>1/25/2020</td>\n",
       "      <td>3</td>\n",
       "      <td>0.0</td>\n",
       "      <td>NaN</td>\n",
       "      <td>NaN</td>\n",
       "      <td>NaN</td>\n",
       "      <td>NaN</td>\n",
       "    </tr>\n",
       "    <tr>\n",
       "      <th>3</th>\n",
       "      <td>CAN</td>\n",
       "      <td>1/26/2020</td>\n",
       "      <td>3</td>\n",
       "      <td>0.0</td>\n",
       "      <td>NaN</td>\n",
       "      <td>NaN</td>\n",
       "      <td>NaN</td>\n",
       "      <td>NaN</td>\n",
       "    </tr>\n",
       "    <tr>\n",
       "      <th>4</th>\n",
       "      <td>CAN</td>\n",
       "      <td>1/27/2020</td>\n",
       "      <td>3</td>\n",
       "      <td>0.0</td>\n",
       "      <td>NaN</td>\n",
       "      <td>NaN</td>\n",
       "      <td>NaN</td>\n",
       "      <td>NaN</td>\n",
       "    </tr>\n",
       "  </tbody>\n",
       "</table>\n",
       "</div>"
      ],
      "text/plain": [
       "  iso_code       date  total_cases  new_cases  total_deaths  new_deaths  \\\n",
       "0      CAN  1/23/2020            2        2.0           NaN         NaN   \n",
       "1      CAN  1/24/2020            3        1.0           NaN         NaN   \n",
       "2      CAN  1/25/2020            3        0.0           NaN         NaN   \n",
       "3      CAN  1/26/2020            3        0.0           NaN         NaN   \n",
       "4      CAN  1/27/2020            3        0.0           NaN         NaN   \n",
       "\n",
       "   icu_patients  hosp_patients  \n",
       "0           NaN            NaN  \n",
       "1           NaN            NaN  \n",
       "2           NaN            NaN  \n",
       "3           NaN            NaN  \n",
       "4           NaN            NaN  "
      ]
     },
     "execution_count": 6,
     "metadata": {},
     "output_type": "execute_result"
    }
   ],
   "source": [
    "df_first.head()"
   ]
  },
  {
   "cell_type": "code",
   "execution_count": 7,
   "metadata": {},
   "outputs": [
    {
     "data": {
      "text/html": [
       "<div>\n",
       "<style scoped>\n",
       "    .dataframe tbody tr th:only-of-type {\n",
       "        vertical-align: middle;\n",
       "    }\n",
       "\n",
       "    .dataframe tbody tr th {\n",
       "        vertical-align: top;\n",
       "    }\n",
       "\n",
       "    .dataframe thead th {\n",
       "        text-align: right;\n",
       "    }\n",
       "</style>\n",
       "<table border=\"1\" class=\"dataframe\">\n",
       "  <thead>\n",
       "    <tr style=\"text-align: right;\">\n",
       "      <th></th>\n",
       "      <th>pruid</th>\n",
       "      <th>prename</th>\n",
       "      <th>report_date</th>\n",
       "      <th>numtotal_all_administered</th>\n",
       "      <th>as_of_date</th>\n",
       "      <th>numtotal_dose1_administered</th>\n",
       "      <th>numtotal_dose2_administered</th>\n",
       "      <th>numtotal_dose3_administered</th>\n",
       "      <th>numtotal_dose4_administered</th>\n",
       "      <th>updated</th>\n",
       "      <th>num_dose1_daily_count</th>\n",
       "      <th>num_dose2_daily_count</th>\n",
       "      <th>num_dose3_daily_count</th>\n",
       "      <th>num_dose4_daily_count</th>\n",
       "    </tr>\n",
       "  </thead>\n",
       "  <tbody>\n",
       "    <tr>\n",
       "      <th>0</th>\n",
       "      <td>1</td>\n",
       "      <td>Canada</td>\n",
       "      <td>1/19/2021</td>\n",
       "      <td>685801</td>\n",
       "      <td>1/19/2021</td>\n",
       "      <td>253039</td>\n",
       "      <td>16193</td>\n",
       "      <td>0</td>\n",
       "      <td>0</td>\n",
       "      <td>1</td>\n",
       "      <td>NaN</td>\n",
       "      <td>NaN</td>\n",
       "      <td>NaN</td>\n",
       "      <td>NaN</td>\n",
       "    </tr>\n",
       "    <tr>\n",
       "      <th>1</th>\n",
       "      <td>1</td>\n",
       "      <td>Canada</td>\n",
       "      <td>1/20/2021</td>\n",
       "      <td>727355</td>\n",
       "      <td>1/20/2021</td>\n",
       "      <td>259348</td>\n",
       "      <td>20119</td>\n",
       "      <td>0</td>\n",
       "      <td>0</td>\n",
       "      <td>1</td>\n",
       "      <td>6309.0</td>\n",
       "      <td>3926.0</td>\n",
       "      <td>0.0</td>\n",
       "      <td>0.0</td>\n",
       "    </tr>\n",
       "    <tr>\n",
       "      <th>2</th>\n",
       "      <td>1</td>\n",
       "      <td>Canada</td>\n",
       "      <td>1/21/2021</td>\n",
       "      <td>766466</td>\n",
       "      <td>1/21/2021</td>\n",
       "      <td>264637</td>\n",
       "      <td>27218</td>\n",
       "      <td>0</td>\n",
       "      <td>0</td>\n",
       "      <td>1</td>\n",
       "      <td>5289.0</td>\n",
       "      <td>7099.0</td>\n",
       "      <td>0.0</td>\n",
       "      <td>0.0</td>\n",
       "    </tr>\n",
       "    <tr>\n",
       "      <th>3</th>\n",
       "      <td>1</td>\n",
       "      <td>Canada</td>\n",
       "      <td>1/22/2021</td>\n",
       "      <td>799783</td>\n",
       "      <td>1/22/2021</td>\n",
       "      <td>267072</td>\n",
       "      <td>31526</td>\n",
       "      <td>0</td>\n",
       "      <td>0</td>\n",
       "      <td>1</td>\n",
       "      <td>2435.0</td>\n",
       "      <td>4308.0</td>\n",
       "      <td>0.0</td>\n",
       "      <td>0.0</td>\n",
       "    </tr>\n",
       "    <tr>\n",
       "      <th>4</th>\n",
       "      <td>1</td>\n",
       "      <td>Canada</td>\n",
       "      <td>1/23/2021</td>\n",
       "      <td>817229</td>\n",
       "      <td>1/23/2021</td>\n",
       "      <td>268561</td>\n",
       "      <td>34012</td>\n",
       "      <td>0</td>\n",
       "      <td>0</td>\n",
       "      <td>1</td>\n",
       "      <td>1489.0</td>\n",
       "      <td>2486.0</td>\n",
       "      <td>0.0</td>\n",
       "      <td>0.0</td>\n",
       "    </tr>\n",
       "  </tbody>\n",
       "</table>\n",
       "</div>"
      ],
      "text/plain": [
       "   pruid prename report_date  numtotal_all_administered as_of_date  \\\n",
       "0      1  Canada   1/19/2021                     685801  1/19/2021   \n",
       "1      1  Canada   1/20/2021                     727355  1/20/2021   \n",
       "2      1  Canada   1/21/2021                     766466  1/21/2021   \n",
       "3      1  Canada   1/22/2021                     799783  1/22/2021   \n",
       "4      1  Canada   1/23/2021                     817229  1/23/2021   \n",
       "\n",
       "   numtotal_dose1_administered  numtotal_dose2_administered  \\\n",
       "0                       253039                        16193   \n",
       "1                       259348                        20119   \n",
       "2                       264637                        27218   \n",
       "3                       267072                        31526   \n",
       "4                       268561                        34012   \n",
       "\n",
       "   numtotal_dose3_administered  numtotal_dose4_administered  updated  \\\n",
       "0                            0                            0        1   \n",
       "1                            0                            0        1   \n",
       "2                            0                            0        1   \n",
       "3                            0                            0        1   \n",
       "4                            0                            0        1   \n",
       "\n",
       "   num_dose1_daily_count  num_dose2_daily_count  num_dose3_daily_count  \\\n",
       "0                    NaN                    NaN                    NaN   \n",
       "1                 6309.0                 3926.0                    0.0   \n",
       "2                 5289.0                 7099.0                    0.0   \n",
       "3                 2435.0                 4308.0                    0.0   \n",
       "4                 1489.0                 2486.0                    0.0   \n",
       "\n",
       "   num_dose4_daily_count  \n",
       "0                    NaN  \n",
       "1                    0.0  \n",
       "2                    0.0  \n",
       "3                    0.0  \n",
       "4                    0.0  "
      ]
     },
     "execution_count": 7,
     "metadata": {},
     "output_type": "execute_result"
    }
   ],
   "source": [
    "df_second.head()"
   ]
  },
  {
   "cell_type": "markdown",
   "metadata": {},
   "source": [
    "#### normality test \n",
    "\n",
    "    p <= alpha: reject H0, not normal.\n",
    "    p > alpha: fail to reject H0, normal.\n",
    "\n",
    "Reference: https://docs.scipy.org/doc/scipy/reference/generated/scipy.stats.normaltest.html\n"
   ]
  },
  {
   "cell_type": "markdown",
   "metadata": {},
   "source": [
    "    1. Find the Kurtosis, zscore and pvalue of the 2 dataframes for different variables. Each team member can pick a variable in both dataframes to show the normal distribution and explain the scores [10pts]\n",
    "    "
   ]
  },
  {
   "cell_type": "markdown",
   "metadata": {},
   "source": [
    "### First dataset (ignore the Null value)\n",
    "\n",
    "#### Code: Ran"
   ]
  },
  {
   "cell_type": "code",
   "execution_count": 46,
   "metadata": {},
   "outputs": [
    {
     "name": "stdout",
     "output_type": "stream",
     "text": [
      "Kurtosis:  25.480661531654793\n",
      "Z-score: 17.198713191721193\n",
      "P_value:  2.714940096239284e-66\n"
     ]
    }
   ],
   "source": [
    "# Kurtosis of \"new_cases\"\n",
    "print(\"Kurtosis: \", stats.kurtosis(df_first['new_cases'].values, nan_policy='omit'))\n",
    "\n",
    "# Z-score and P_value of \"new_cases\"\n",
    "zscore, p = stats.kurtosistest(df_first['new_cases'].values, nan_policy='omit')\n",
    "print(\"Z-score:\", zscore)\n",
    "print(\"P_value: \", p)"
   ]
  },
  {
   "cell_type": "code",
   "execution_count": 89,
   "metadata": {},
   "outputs": [
    {
     "data": {
      "text/plain": [
       "(array([833., 148.,  21.,   9.,   8.,   4.,   6.,   2.,   1.,   2.]),\n",
       " array([    0. ,  6367.8, 12735.6, 19103.4, 25471.2, 31839. , 38206.8,\n",
       "        44574.6, 50942.4, 57310.2, 63678. ]),\n",
       " <BarContainer object of 10 artists>)"
      ]
     },
     "execution_count": 89,
     "metadata": {},
     "output_type": "execute_result"
    },
    {
     "data": {
      "image/png": "[encoded data removed]",
      "text/plain": [
       "<Figure size 640x480 with 1 Axes>"
      ]
     },
     "metadata": {},
     "output_type": "display_data"
    }
   ],
   "source": [
    "# show histogram of \"new_cases\"\n",
    "plt.hist(df_first['new_cases'].values)"
   ]
  },
  {
   "cell_type": "code",
   "execution_count": 85,
   "metadata": {},
   "outputs": [
    {
     "name": "stdout",
     "output_type": "stream",
     "text": [
      "Kurtosis:  1.710172822678813\n",
      "Z-score: 6.409915807030484\n",
      "P_value:  1.4560001969641317e-10\n"
     ]
    }
   ],
   "source": [
    "# Kurtosis of \"new_deaths\"\n",
    "print(\"Kurtosis: \", stats.kurtosis(df_first['new_deaths'].values, nan_policy='omit'))\n",
    "\n",
    "# Z-score and P_value of \"new_deaths\"\n",
    "zscore, p = stats.kurtosistest(df_first['new_deaths'].values, nan_policy='omit')\n",
    "print(\"Z-score:\", zscore)\n",
    "print(\"P_value: \", p)"
   ]
  },
  {
   "cell_type": "code",
   "execution_count": 90,
   "metadata": {},
   "outputs": [
    {
     "data": {
      "text/plain": [
       "(array([464., 244.,  89.,  73.,  68.,  30.,  13.,   3.,   2.,   1.]),\n",
       " array([  0.,  30.,  60.,  90., 120., 150., 180., 210., 240., 270., 300.]),\n",
       " <BarContainer object of 10 artists>)"
      ]
     },
     "execution_count": 90,
     "metadata": {},
     "output_type": "execute_result"
    },
    {
     "data": {
      "image/png": "[encoded data removed]",
      "text/plain": [
       "<Figure size 640x480 with 1 Axes>"
      ]
     },
     "metadata": {},
     "output_type": "display_data"
    }
   ],
   "source": [
    "# show histogram of \"new_deaths\"\n",
    "plt.hist(df_first['new_deaths'].values)"
   ]
  },
  {
   "cell_type": "markdown",
   "metadata": {},
   "source": [
    "#### Observations of First Dataset\n",
    "- The kurtosis of both variables in the first dataset were more than 1, which indicates that two variables were highly skewed.\n",
    "- Also, the p-value of both variables are less than or equal to 0.05, which means that both variables are not normal.\n",
    "- Considering the histogram of both variables, we can understand that they are not normaly distributed. "
   ]
  },
  {
   "cell_type": "markdown",
   "metadata": {},
   "source": [
    "### Second Dataset (ignore the Null value)\n",
    "\n",
    "#### Code: Aleksandr"
   ]
  },
  {
   "cell_type": "code",
   "execution_count": null,
   "metadata": {},
   "outputs": [],
   "source": []
  },
  {
   "cell_type": "code",
   "execution_count": null,
   "metadata": {},
   "outputs": [],
   "source": []
  },
  {
   "cell_type": "markdown",
   "metadata": {},
   "source": [
    "#### Observations of Second Dataset\n",
    "- \n",
    "- "
   ]
  },
  {
   "cell_type": "markdown",
   "metadata": {},
   "source": [
    "#### Binning [10pts]"
   ]
  },
  {
   "cell_type": "markdown",
   "metadata": {},
   "source": [
    "    2. Each team can pick 2 numerical variables to create binning.  Create a binning named combinedvariables_binned of the 2 columns in your file (mention them in your answers) and  give the percentile points in pcts. [5pts]  \n",
    "pcts = [0, .25, .5, .75, 1].  \n",
    "3.  Show the frequency table for the combinedvariables_binned variable. [5pts]\n"
   ]
  },
  {
   "cell_type": "markdown",
   "metadata": {},
   "source": [
    "### First Dataset\n",
    "\n",
    "#### Code: Ran"
   ]
  },
  {
   "cell_type": "code",
   "execution_count": 94,
   "metadata": {},
   "outputs": [],
   "source": [
    "# define percentile points\n",
    "pcts = [0, .25, .5, .75, 1]\n",
    "\n",
    "# create empty DataFrame\n",
    "combinedvariables_binned_1st = pd.DataFrame()"
   ]
  },
  {
   "cell_type": "code",
   "execution_count": 143,
   "metadata": {},
   "outputs": [
    {
     "data": {
      "text/html": [
       "<div>\n",
       "<style scoped>\n",
       "    .dataframe tbody tr th:only-of-type {\n",
       "        vertical-align: middle;\n",
       "    }\n",
       "\n",
       "    .dataframe tbody tr th {\n",
       "        vertical-align: top;\n",
       "    }\n",
       "\n",
       "    .dataframe thead th {\n",
       "        text-align: right;\n",
       "    }\n",
       "</style>\n",
       "<table border=\"1\" class=\"dataframe\">\n",
       "  <thead>\n",
       "    <tr style=\"text-align: right;\">\n",
       "      <th>col_0</th>\n",
       "      <th>Frequency</th>\n",
       "    </tr>\n",
       "    <tr>\n",
       "      <th>icu_patients</th>\n",
       "      <th></th>\n",
       "    </tr>\n",
       "  </thead>\n",
       "  <tbody>\n",
       "    <tr>\n",
       "      <th>(41.999, 228.0]</th>\n",
       "      <td>247</td>\n",
       "    </tr>\n",
       "    <tr>\n",
       "      <th>(228.0, 402.0]</th>\n",
       "      <td>236</td>\n",
       "    </tr>\n",
       "    <tr>\n",
       "      <th>(402.0, 609.0]</th>\n",
       "      <td>241</td>\n",
       "    </tr>\n",
       "    <tr>\n",
       "      <th>(609.0, 1387.0]</th>\n",
       "      <td>241</td>\n",
       "    </tr>\n",
       "  </tbody>\n",
       "</table>\n",
       "</div>"
      ],
      "text/plain": [
       "col_0            Frequency\n",
       "icu_patients              \n",
       "(41.999, 228.0]        247\n",
       "(228.0, 402.0]         236\n",
       "(402.0, 609.0]         241\n",
       "(609.0, 1387.0]        241"
      ]
     },
     "execution_count": 143,
     "metadata": {},
     "output_type": "execute_result"
    }
   ],
   "source": [
    "# Column: \"icu_patients\"\n",
    "binned_ICU = pd.qcut(df_first['icu_patients'], q=pcts)\n",
    "combinedvariables_binned_1st['icu_patients'] = binned_ICU\n",
    "\n",
    "# frequency table\n",
    "pd.crosstab(index=combinedvariables_binned_1st['icu_patients'], columns='Frequency')"
   ]
  },
  {
   "cell_type": "code",
   "execution_count": 144,
   "metadata": {},
   "outputs": [
    {
     "data": {
      "text/html": [
       "<div>\n",
       "<style scoped>\n",
       "    .dataframe tbody tr th:only-of-type {\n",
       "        vertical-align: middle;\n",
       "    }\n",
       "\n",
       "    .dataframe tbody tr th {\n",
       "        vertical-align: top;\n",
       "    }\n",
       "\n",
       "    .dataframe thead th {\n",
       "        text-align: right;\n",
       "    }\n",
       "</style>\n",
       "<table border=\"1\" class=\"dataframe\">\n",
       "  <thead>\n",
       "    <tr style=\"text-align: right;\">\n",
       "      <th>col_0</th>\n",
       "      <th>Frequency</th>\n",
       "    </tr>\n",
       "    <tr>\n",
       "      <th>hosp_patients</th>\n",
       "      <th></th>\n",
       "    </tr>\n",
       "  </thead>\n",
       "  <tbody>\n",
       "    <tr>\n",
       "      <th>(225.999, 1521.0]</th>\n",
       "      <td>242</td>\n",
       "    </tr>\n",
       "    <tr>\n",
       "      <th>(1521.0, 2708.0]</th>\n",
       "      <td>241</td>\n",
       "    </tr>\n",
       "    <tr>\n",
       "      <th>(2708.0, 4691.0]</th>\n",
       "      <td>242</td>\n",
       "    </tr>\n",
       "    <tr>\n",
       "      <th>(4691.0, 11022.0]</th>\n",
       "      <td>240</td>\n",
       "    </tr>\n",
       "  </tbody>\n",
       "</table>\n",
       "</div>"
      ],
      "text/plain": [
       "col_0              Frequency\n",
       "hosp_patients               \n",
       "(225.999, 1521.0]        242\n",
       "(1521.0, 2708.0]         241\n",
       "(2708.0, 4691.0]         242\n",
       "(4691.0, 11022.0]        240"
      ]
     },
     "execution_count": 144,
     "metadata": {},
     "output_type": "execute_result"
    }
   ],
   "source": [
    "# Column: \"hosp_patients\"\n",
    "binned_hosp = pd.qcut(df_first['hosp_patients'], q=pcts)\n",
    "combinedvariables_binned_1st['hosp_patients'] = binned_hosp\n",
    "\n",
    "# frequency table\n",
    "pd.crosstab(index=combinedvariables_binned_1st['hosp_patients'], columns='Frequency')"
   ]
  },
  {
   "cell_type": "markdown",
   "metadata": {},
   "source": [
    "### Second Dataset\n",
    "\n",
    "#### Code: Aleksandr"
   ]
  },
  {
   "cell_type": "code",
   "execution_count": null,
   "metadata": {},
   "outputs": [],
   "source": [
    "# create empty DataFrame\n",
    "combinedvariables_binned_2nd = pd.DataFrame()"
   ]
  },
  {
   "cell_type": "code",
   "execution_count": null,
   "metadata": {},
   "outputs": [],
   "source": []
  },
  {
   "cell_type": "code",
   "execution_count": null,
   "metadata": {},
   "outputs": [],
   "source": []
  },
  {
   "cell_type": "markdown",
   "metadata": {},
   "source": [
    "#### Missing values [10pts]"
   ]
  },
  {
   "cell_type": "markdown",
   "metadata": {},
   "source": [
    "    4.  Count of missing values in each of the columns of 2 datasets."
   ]
  },
  {
   "cell_type": "markdown",
   "metadata": {},
   "source": [
    "### First Dataset\n",
    "\n",
    "#### Code: Ran"
   ]
  },
  {
   "cell_type": "code",
   "execution_count": 145,
   "metadata": {},
   "outputs": [
    {
     "data": {
      "text/plain": [
       "71"
      ]
     },
     "execution_count": 145,
     "metadata": {},
     "output_type": "execute_result"
    }
   ],
   "source": [
    "# column: \"icu_patients\"\n",
    "df_first['icu_patients'].isna().sum()"
   ]
  },
  {
   "cell_type": "code",
   "execution_count": 146,
   "metadata": {},
   "outputs": [
    {
     "data": {
      "text/plain": [
       "71"
      ]
     },
     "execution_count": 146,
     "metadata": {},
     "output_type": "execute_result"
    }
   ],
   "source": [
    "# column: \"hosp_patients\"\n",
    "df_first['hosp_patients'].isna().sum()"
   ]
  },
  {
   "cell_type": "markdown",
   "metadata": {},
   "source": [
    "### Second Dataset\n",
    "#### Code: Aleksandr"
   ]
  },
  {
   "cell_type": "code",
   "execution_count": null,
   "metadata": {},
   "outputs": [],
   "source": []
  },
  {
   "cell_type": "code",
   "execution_count": null,
   "metadata": {},
   "outputs": [],
   "source": []
  },
  {
   "cell_type": "markdown",
   "metadata": {},
   "source": [
    "#### 5. Calculate and print the median value foreach of the numerical variables in both the datasets? [10 pts]"
   ]
  },
  {
   "cell_type": "markdown",
   "metadata": {},
   "source": [
    "### First Dataset\n",
    "\n",
    "#### Code: Ran"
   ]
  },
  {
   "cell_type": "code",
   "execution_count": 167,
   "metadata": {},
   "outputs": [
    {
     "name": "stdout",
     "output_type": "stream",
     "text": [
      "total_cases: 1415943.0\n",
      "new_cases: 2510.0\n",
      "total_deaths: 26492.0\n",
      "new_deaths: 32.0\n",
      "icu_patients: 402.0\n",
      "hosp_patients: 2708.0\n"
     ]
    }
   ],
   "source": [
    "for column in df_first:\n",
    "    if (df_first[column].dtypes == 'float64' or (df_first[column].dtypes == 'int64'):\n",
    "        print(f'{column}:', df_first[column].median())"
   ]
  },
  {
   "cell_type": "markdown",
   "metadata": {},
   "source": [
    "### Second Dataset\n",
    "\n",
    "#### Code: Aleksandr"
   ]
  },
  {
   "cell_type": "code",
   "execution_count": null,
   "metadata": {},
   "outputs": [],
   "source": []
  },
  {
   "cell_type": "markdown",
   "metadata": {},
   "source": [
    "#### 6. In a COVID dataset if you have an age missing value, replace the missing value with average ? If you don't have an age variable, pick a numerical column in both datasets and replace with the mean value.  [10 pts]\n",
    "\n",
    "#### Code: Ran"
   ]
  },
  {
   "cell_type": "code",
   "execution_count": 178,
   "metadata": {},
   "outputs": [
    {
     "name": "stdout",
     "output_type": "stream",
     "text": [
      "Number of missing values:  2\n",
      "Number of missing values after fillna:  0\n"
     ]
    }
   ],
   "source": [
    "# df: df_first, column: new_cases\n",
    "print('Number of missing values: ', df_first['new_cases'].isna().sum())\n",
    "mean = np.mean(df_first['new_cases'])\n",
    "df_first['fillna_new_cases'] = df_first['new_cases'].fillna(mean)\n",
    "print('Number of missing values after fillna: ', df_first['fillna_new_cases'].isna().sum())"
   ]
  },
  {
   "cell_type": "markdown",
   "metadata": {},
   "source": [
    "#### 7.Outlier detection using Mean and standard deviation: Write 2 functions avg(), std_dev() to calculate average and standard deviation of a given series. Apply that function to show for atleast 2 columns in each of your dataset. [10 pts]\n",
    "\n",
    "#### Code: Aleksandr"
   ]
  },
  {
   "cell_type": "code",
   "execution_count": 181,
   "metadata": {},
   "outputs": [],
   "source": [
    "# define function \"avg\" \n",
    "def avg(x):\n",
    "    return\n",
    "    \n",
    "# define function \"std_dev\"\n",
    "def std_dev(x):\n",
    "    return\n",
    "\n",
    "# apply function\n",
    "\n"
   ]
  },
  {
   "cell_type": "markdown",
   "metadata": {},
   "source": [
    "#### 8.Outlier detection: [20 pts]\n",
    "a. Show the statistics for the age variable or vaccination or death rate (or pick one column in each dataset). \n",
    "b. Use the interquartile range to show the outliers for the selected column. [5pts]\n",
    "     - also print the lower and upper fence values \n",
    "     - print the outliers subset. [10 pts]\n",
    "c. Remove the outliers from the  dataframe.[5pts]\n",
    "     "
   ]
  },
  {
   "cell_type": "code",
   "execution_count": 227,
   "metadata": {},
   "outputs": [
    {
     "data": {
      "text/plain": [
       "count    987.000000\n",
       "mean      48.777102\n",
       "std       49.038100\n",
       "min        0.000000\n",
       "25%       12.000000\n",
       "50%       32.000000\n",
       "75%       68.500000\n",
       "max      300.000000\n",
       "Name: new_deaths, dtype: float64"
      ]
     },
     "execution_count": 227,
     "metadata": {},
     "output_type": "execute_result"
    }
   ],
   "source": [
    "# (a): Show the basic statistics of number of deaths\n",
    "df_first['new_deaths'].describe()"
   ]
  },
  {
   "cell_type": "code",
   "execution_count": 228,
   "metadata": {},
   "outputs": [
    {
     "name": "stdout",
     "output_type": "stream",
     "text": [
      "Upper Fence of IQR:  68.5\n",
      "Lower Fence of IQR:  12.0\n"
     ]
    },
    {
     "data": {
      "text/html": [
       "<div>\n",
       "<style scoped>\n",
       "    .dataframe tbody tr th:only-of-type {\n",
       "        vertical-align: middle;\n",
       "    }\n",
       "\n",
       "    .dataframe tbody tr th {\n",
       "        vertical-align: top;\n",
       "    }\n",
       "\n",
       "    .dataframe thead th {\n",
       "        text-align: right;\n",
       "    }\n",
       "</style>\n",
       "<table border=\"1\" class=\"dataframe\">\n",
       "  <thead>\n",
       "    <tr style=\"text-align: right;\">\n",
       "      <th></th>\n",
       "      <th>iso_code</th>\n",
       "      <th>date</th>\n",
       "      <th>total_cases</th>\n",
       "      <th>new_cases</th>\n",
       "      <th>total_deaths</th>\n",
       "      <th>new_deaths</th>\n",
       "      <th>icu_patients</th>\n",
       "      <th>hosp_patients</th>\n",
       "    </tr>\n",
       "  </thead>\n",
       "  <tbody>\n",
       "    <tr>\n",
       "      <th>46</th>\n",
       "      <td>CAN</td>\n",
       "      <td>3/9/2020</td>\n",
       "      <td>144</td>\n",
       "      <td>24.0</td>\n",
       "      <td>1.0</td>\n",
       "      <td>1.0</td>\n",
       "      <td>NaN</td>\n",
       "      <td>NaN</td>\n",
       "    </tr>\n",
       "    <tr>\n",
       "      <th>47</th>\n",
       "      <td>CAN</td>\n",
       "      <td>3/10/2020</td>\n",
       "      <td>165</td>\n",
       "      <td>21.0</td>\n",
       "      <td>1.0</td>\n",
       "      <td>0.0</td>\n",
       "      <td>NaN</td>\n",
       "      <td>NaN</td>\n",
       "    </tr>\n",
       "    <tr>\n",
       "      <th>48</th>\n",
       "      <td>CAN</td>\n",
       "      <td>3/11/2020</td>\n",
       "      <td>228</td>\n",
       "      <td>63.0</td>\n",
       "      <td>1.0</td>\n",
       "      <td>0.0</td>\n",
       "      <td>NaN</td>\n",
       "      <td>NaN</td>\n",
       "    </tr>\n",
       "    <tr>\n",
       "      <th>49</th>\n",
       "      <td>CAN</td>\n",
       "      <td>3/12/2020</td>\n",
       "      <td>289</td>\n",
       "      <td>61.0</td>\n",
       "      <td>1.0</td>\n",
       "      <td>0.0</td>\n",
       "      <td>NaN</td>\n",
       "      <td>NaN</td>\n",
       "    </tr>\n",
       "    <tr>\n",
       "      <th>50</th>\n",
       "      <td>CAN</td>\n",
       "      <td>3/13/2020</td>\n",
       "      <td>386</td>\n",
       "      <td>97.0</td>\n",
       "      <td>1.0</td>\n",
       "      <td>0.0</td>\n",
       "      <td>NaN</td>\n",
       "      <td>NaN</td>\n",
       "    </tr>\n",
       "    <tr>\n",
       "      <th>...</th>\n",
       "      <td>...</td>\n",
       "      <td>...</td>\n",
       "      <td>...</td>\n",
       "      <td>...</td>\n",
       "      <td>...</td>\n",
       "      <td>...</td>\n",
       "      <td>...</td>\n",
       "      <td>...</td>\n",
       "    </tr>\n",
       "    <tr>\n",
       "      <th>1027</th>\n",
       "      <td>CAN</td>\n",
       "      <td>11/15/2022</td>\n",
       "      <td>4408841</td>\n",
       "      <td>4950.0</td>\n",
       "      <td>47419.0</td>\n",
       "      <td>135.0</td>\n",
       "      <td>252.0</td>\n",
       "      <td>5708.0</td>\n",
       "    </tr>\n",
       "    <tr>\n",
       "      <th>1028</th>\n",
       "      <td>CAN</td>\n",
       "      <td>11/16/2022</td>\n",
       "      <td>4411356</td>\n",
       "      <td>2515.0</td>\n",
       "      <td>47517.0</td>\n",
       "      <td>98.0</td>\n",
       "      <td>252.0</td>\n",
       "      <td>5702.0</td>\n",
       "    </tr>\n",
       "    <tr>\n",
       "      <th>1029</th>\n",
       "      <td>CAN</td>\n",
       "      <td>11/17/2022</td>\n",
       "      <td>4417357</td>\n",
       "      <td>6001.0</td>\n",
       "      <td>47661.0</td>\n",
       "      <td>144.0</td>\n",
       "      <td>245.0</td>\n",
       "      <td>5565.0</td>\n",
       "    </tr>\n",
       "    <tr>\n",
       "      <th>1031</th>\n",
       "      <td>CAN</td>\n",
       "      <td>11/19/2022</td>\n",
       "      <td>4419028</td>\n",
       "      <td>665.0</td>\n",
       "      <td>47688.0</td>\n",
       "      <td>6.0</td>\n",
       "      <td>255.0</td>\n",
       "      <td>5470.0</td>\n",
       "    </tr>\n",
       "    <tr>\n",
       "      <th>1032</th>\n",
       "      <td>CAN</td>\n",
       "      <td>11/20/2022</td>\n",
       "      <td>4419612</td>\n",
       "      <td>584.0</td>\n",
       "      <td>47688.0</td>\n",
       "      <td>0.0</td>\n",
       "      <td>263.0</td>\n",
       "      <td>5506.0</td>\n",
       "    </tr>\n",
       "  </tbody>\n",
       "</table>\n",
       "<p>510 rows × 8 columns</p>\n",
       "</div>"
      ],
      "text/plain": [
       "     iso_code        date  total_cases  new_cases  total_deaths  new_deaths  \\\n",
       "46        CAN    3/9/2020          144       24.0           1.0         1.0   \n",
       "47        CAN   3/10/2020          165       21.0           1.0         0.0   \n",
       "48        CAN   3/11/2020          228       63.0           1.0         0.0   \n",
       "49        CAN   3/12/2020          289       61.0           1.0         0.0   \n",
       "50        CAN   3/13/2020          386       97.0           1.0         0.0   \n",
       "...       ...         ...          ...        ...           ...         ...   \n",
       "1027      CAN  11/15/2022      4408841     4950.0       47419.0       135.0   \n",
       "1028      CAN  11/16/2022      4411356     2515.0       47517.0        98.0   \n",
       "1029      CAN  11/17/2022      4417357     6001.0       47661.0       144.0   \n",
       "1031      CAN  11/19/2022      4419028      665.0       47688.0         6.0   \n",
       "1032      CAN  11/20/2022      4419612      584.0       47688.0         0.0   \n",
       "\n",
       "      icu_patients  hosp_patients  \n",
       "46             NaN            NaN  \n",
       "47             NaN            NaN  \n",
       "48             NaN            NaN  \n",
       "49             NaN            NaN  \n",
       "50             NaN            NaN  \n",
       "...            ...            ...  \n",
       "1027         252.0         5708.0  \n",
       "1028         252.0         5702.0  \n",
       "1029         245.0         5565.0  \n",
       "1031         255.0         5470.0  \n",
       "1032         263.0         5506.0  \n",
       "\n",
       "[510 rows x 8 columns]"
      ]
     },
     "execution_count": 228,
     "metadata": {},
     "output_type": "execute_result"
    }
   ],
   "source": [
    "# (b): Show outlier subset\n",
    "def outlier_subset(df, column, show_IQR=False):\n",
    "    \"\"\" Return outlier subset based on interquartile range (IQR) \"\"\"\n",
    "    basis_stats = df[column].describe()\n",
    "    upper_fence = basis_stats['75%']\n",
    "    lower_fence = basis_stats['25%']\n",
    "    if show_IQR == True:\n",
    "        print(\"Upper Fence of IQR: \", upper_fence)\n",
    "        print(\"Lower Fence of IQR: \", lower_fence)\n",
    "    \n",
    "    outlier_df = df.loc[(df[column] <= lower_fence) | (df[column] >= upper_fence)]\n",
    "    return outlier_df\n",
    "\n",
    "outlier_subset(df=df_first, column='new_deaths', show_IQR=True)"
   ]
  },
  {
   "cell_type": "code",
   "execution_count": 229,
   "metadata": {},
   "outputs": [
    {
     "data": {
      "text/html": [
       "<div>\n",
       "<style scoped>\n",
       "    .dataframe tbody tr th:only-of-type {\n",
       "        vertical-align: middle;\n",
       "    }\n",
       "\n",
       "    .dataframe tbody tr th {\n",
       "        vertical-align: top;\n",
       "    }\n",
       "\n",
       "    .dataframe thead th {\n",
       "        text-align: right;\n",
       "    }\n",
       "</style>\n",
       "<table border=\"1\" class=\"dataframe\">\n",
       "  <thead>\n",
       "    <tr style=\"text-align: right;\">\n",
       "      <th></th>\n",
       "      <th>index</th>\n",
       "      <th>iso_code</th>\n",
       "      <th>date</th>\n",
       "      <th>total_cases</th>\n",
       "      <th>new_cases</th>\n",
       "      <th>total_deaths</th>\n",
       "      <th>new_deaths</th>\n",
       "      <th>icu_patients</th>\n",
       "      <th>hosp_patients</th>\n",
       "    </tr>\n",
       "  </thead>\n",
       "  <tbody>\n",
       "    <tr>\n",
       "      <th>0</th>\n",
       "      <td>0</td>\n",
       "      <td>CAN</td>\n",
       "      <td>1/23/2020</td>\n",
       "      <td>2</td>\n",
       "      <td>2.0</td>\n",
       "      <td>NaN</td>\n",
       "      <td>NaN</td>\n",
       "      <td>NaN</td>\n",
       "      <td>NaN</td>\n",
       "    </tr>\n",
       "    <tr>\n",
       "      <th>1</th>\n",
       "      <td>1</td>\n",
       "      <td>CAN</td>\n",
       "      <td>1/24/2020</td>\n",
       "      <td>3</td>\n",
       "      <td>1.0</td>\n",
       "      <td>NaN</td>\n",
       "      <td>NaN</td>\n",
       "      <td>NaN</td>\n",
       "      <td>NaN</td>\n",
       "    </tr>\n",
       "    <tr>\n",
       "      <th>2</th>\n",
       "      <td>2</td>\n",
       "      <td>CAN</td>\n",
       "      <td>1/25/2020</td>\n",
       "      <td>3</td>\n",
       "      <td>0.0</td>\n",
       "      <td>NaN</td>\n",
       "      <td>NaN</td>\n",
       "      <td>NaN</td>\n",
       "      <td>NaN</td>\n",
       "    </tr>\n",
       "    <tr>\n",
       "      <th>3</th>\n",
       "      <td>3</td>\n",
       "      <td>CAN</td>\n",
       "      <td>1/26/2020</td>\n",
       "      <td>3</td>\n",
       "      <td>0.0</td>\n",
       "      <td>NaN</td>\n",
       "      <td>NaN</td>\n",
       "      <td>NaN</td>\n",
       "      <td>NaN</td>\n",
       "    </tr>\n",
       "    <tr>\n",
       "      <th>4</th>\n",
       "      <td>4</td>\n",
       "      <td>CAN</td>\n",
       "      <td>1/27/2020</td>\n",
       "      <td>3</td>\n",
       "      <td>0.0</td>\n",
       "      <td>NaN</td>\n",
       "      <td>NaN</td>\n",
       "      <td>NaN</td>\n",
       "      <td>NaN</td>\n",
       "    </tr>\n",
       "    <tr>\n",
       "      <th>...</th>\n",
       "      <td>...</td>\n",
       "      <td>...</td>\n",
       "      <td>...</td>\n",
       "      <td>...</td>\n",
       "      <td>...</td>\n",
       "      <td>...</td>\n",
       "      <td>...</td>\n",
       "      <td>...</td>\n",
       "      <td>...</td>\n",
       "    </tr>\n",
       "    <tr>\n",
       "      <th>521</th>\n",
       "      <td>1023</td>\n",
       "      <td>CAN</td>\n",
       "      <td>11/11/2022</td>\n",
       "      <td>4402177</td>\n",
       "      <td>1081.0</td>\n",
       "      <td>47272.0</td>\n",
       "      <td>32.0</td>\n",
       "      <td>261.0</td>\n",
       "      <td>5685.0</td>\n",
       "    </tr>\n",
       "    <tr>\n",
       "      <th>522</th>\n",
       "      <td>1030</td>\n",
       "      <td>CAN</td>\n",
       "      <td>11/18/2022</td>\n",
       "      <td>4418363</td>\n",
       "      <td>1006.0</td>\n",
       "      <td>47682.0</td>\n",
       "      <td>21.0</td>\n",
       "      <td>250.0</td>\n",
       "      <td>5475.0</td>\n",
       "    </tr>\n",
       "    <tr>\n",
       "      <th>523</th>\n",
       "      <td>1033</td>\n",
       "      <td>CAN</td>\n",
       "      <td>11/21/2022</td>\n",
       "      <td>4421434</td>\n",
       "      <td>1822.0</td>\n",
       "      <td>47717.0</td>\n",
       "      <td>29.0</td>\n",
       "      <td>267.0</td>\n",
       "      <td>5457.0</td>\n",
       "    </tr>\n",
       "    <tr>\n",
       "      <th>524</th>\n",
       "      <td>1034</td>\n",
       "      <td>CAN</td>\n",
       "      <td>11/22/2022</td>\n",
       "      <td>4422890</td>\n",
       "      <td>1456.0</td>\n",
       "      <td>47741.0</td>\n",
       "      <td>24.0</td>\n",
       "      <td>NaN</td>\n",
       "      <td>NaN</td>\n",
       "    </tr>\n",
       "    <tr>\n",
       "      <th>525</th>\n",
       "      <td>1035</td>\n",
       "      <td>CAN</td>\n",
       "      <td>11/23/2022</td>\n",
       "      <td>4425570</td>\n",
       "      <td>2680.0</td>\n",
       "      <td>47783.0</td>\n",
       "      <td>42.0</td>\n",
       "      <td>NaN</td>\n",
       "      <td>NaN</td>\n",
       "    </tr>\n",
       "  </tbody>\n",
       "</table>\n",
       "<p>526 rows × 9 columns</p>\n",
       "</div>"
      ],
      "text/plain": [
       "     index iso_code        date  total_cases  new_cases  total_deaths  \\\n",
       "0        0      CAN   1/23/2020            2        2.0           NaN   \n",
       "1        1      CAN   1/24/2020            3        1.0           NaN   \n",
       "2        2      CAN   1/25/2020            3        0.0           NaN   \n",
       "3        3      CAN   1/26/2020            3        0.0           NaN   \n",
       "4        4      CAN   1/27/2020            3        0.0           NaN   \n",
       "..     ...      ...         ...          ...        ...           ...   \n",
       "521   1023      CAN  11/11/2022      4402177     1081.0       47272.0   \n",
       "522   1030      CAN  11/18/2022      4418363     1006.0       47682.0   \n",
       "523   1033      CAN  11/21/2022      4421434     1822.0       47717.0   \n",
       "524   1034      CAN  11/22/2022      4422890     1456.0       47741.0   \n",
       "525   1035      CAN  11/23/2022      4425570     2680.0       47783.0   \n",
       "\n",
       "     new_deaths  icu_patients  hosp_patients  \n",
       "0           NaN           NaN            NaN  \n",
       "1           NaN           NaN            NaN  \n",
       "2           NaN           NaN            NaN  \n",
       "3           NaN           NaN            NaN  \n",
       "4           NaN           NaN            NaN  \n",
       "..          ...           ...            ...  \n",
       "521        32.0         261.0         5685.0  \n",
       "522        21.0         250.0         5475.0  \n",
       "523        29.0         267.0         5457.0  \n",
       "524        24.0           NaN            NaN  \n",
       "525        42.0           NaN            NaN  \n",
       "\n",
       "[526 rows x 9 columns]"
      ]
     },
     "execution_count": 229,
     "metadata": {},
     "output_type": "execute_result"
    }
   ],
   "source": [
    "# (c): Removed outliers from the dataset\n",
    "outliers = outlier_subset(df=df_first, column='new_deaths', show_IQR=False)\n",
    "df_first.drop(outliers.index, inplace=True)\n",
    "df_first.reset_index(inplace=True)\n",
    "df_first"
   ]
  },
  {
   "cell_type": "code",
   "execution_count": null,
   "metadata": {},
   "outputs": [],
   "source": []
  }
 ],
 "metadata": {
  "kernelspec": {
   "display_name": "Python 3 (ipykernel)",
   "language": "python",
   "name": "python3"
  },
  "language_info": {
   "codemirror_mode": {
    "name": "ipython",
    "version": 3
   },
   "file_extension": ".py",
   "mimetype": "text/x-python",
   "name": "python",
   "nbconvert_exporter": "python",
   "pygments_lexer": "ipython3",
   "version": "3.8.5"
  }
 },
 "nbformat": 4,
 "nbformat_minor": 2
}
