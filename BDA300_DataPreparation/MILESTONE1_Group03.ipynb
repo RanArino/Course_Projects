{
 "cells": [
  {
   "cell_type": "markdown",
   "metadata": {},
   "source": [
    "# COVID  Case Study\n",
    "## Milestone 1: loading and merging data\n",
    "### Learning outcomes\n",
    "1. Load data using input Files in Various Formats to combine information from your data sources\n",
    "2. Rename columns and convert column types from character to numeric to prepare for merging\n",
    "3. Merge datasets to prepare for analysis\n",
    "\n",
    "### Introduction \n",
    "The head of disease control wants to know which customers have been affected the highest due to COVID. The goal of this assignment is to create part of an analytical data chart by combining information from your data sources. \n"
   ]
  },
  {
   "cell_type": "markdown",
   "metadata": {},
   "source": [
    "#### Total: 50 pts "
   ]
  },
  {
   "cell_type": "markdown",
   "metadata": {},
   "source": [
    "### Group 03 - members\n",
    "\n",
    "#### Ran Arino\n",
    "#### Aleksandr Iakovlev"
   ]
  },
  {
   "cell_type": "code",
   "execution_count": 1,
   "metadata": {},
   "outputs": [],
   "source": [
    "# load packages\n",
    "import numpy as np\n",
    "import pandas as pd\n",
    "import matplotlib.pyplot as plt\n",
    "%matplotlib inline"
   ]
  },
  {
   "cell_type": "markdown",
   "metadata": {},
   "source": [
    "#### 1. Load the first data file from your data sources [13pts]"
   ]
  },
  {
   "cell_type": "markdown",
   "metadata": {},
   "source": [
    "    1.1. load the data and print the first five rows. [5pts] "
   ]
  },
  {
   "cell_type": "code",
   "execution_count": 2,
   "metadata": {},
   "outputs": [
    {
     "data": {
      "text/html": [
       "<div>\n",
       "<style scoped>\n",
       "    .dataframe tbody tr th:only-of-type {\n",
       "        vertical-align: middle;\n",
       "    }\n",
       "\n",
       "    .dataframe tbody tr th {\n",
       "        vertical-align: top;\n",
       "    }\n",
       "\n",
       "    .dataframe thead th {\n",
       "        text-align: right;\n",
       "    }\n",
       "</style>\n",
       "<table border=\"1\" class=\"dataframe\">\n",
       "  <thead>\n",
       "    <tr style=\"text-align: right;\">\n",
       "      <th></th>\n",
       "      <th>iso_code</th>\n",
       "      <th>date</th>\n",
       "      <th>total_cases</th>\n",
       "      <th>new_cases</th>\n",
       "      <th>total_deaths</th>\n",
       "      <th>new_deaths</th>\n",
       "      <th>icu_patients</th>\n",
       "      <th>hosp_patients</th>\n",
       "    </tr>\n",
       "  </thead>\n",
       "  <tbody>\n",
       "    <tr>\n",
       "      <th>0</th>\n",
       "      <td>CAN</td>\n",
       "      <td>2020-01-23</td>\n",
       "      <td>2.0</td>\n",
       "      <td>2.0</td>\n",
       "      <td>NaN</td>\n",
       "      <td>NaN</td>\n",
       "      <td>NaN</td>\n",
       "      <td>NaN</td>\n",
       "    </tr>\n",
       "    <tr>\n",
       "      <th>1</th>\n",
       "      <td>CAN</td>\n",
       "      <td>2020-01-24</td>\n",
       "      <td>3.0</td>\n",
       "      <td>1.0</td>\n",
       "      <td>NaN</td>\n",
       "      <td>NaN</td>\n",
       "      <td>NaN</td>\n",
       "      <td>NaN</td>\n",
       "    </tr>\n",
       "    <tr>\n",
       "      <th>2</th>\n",
       "      <td>CAN</td>\n",
       "      <td>2020-01-25</td>\n",
       "      <td>3.0</td>\n",
       "      <td>0.0</td>\n",
       "      <td>NaN</td>\n",
       "      <td>NaN</td>\n",
       "      <td>NaN</td>\n",
       "      <td>NaN</td>\n",
       "    </tr>\n",
       "    <tr>\n",
       "      <th>3</th>\n",
       "      <td>CAN</td>\n",
       "      <td>2020-01-26</td>\n",
       "      <td>3.0</td>\n",
       "      <td>0.0</td>\n",
       "      <td>NaN</td>\n",
       "      <td>NaN</td>\n",
       "      <td>NaN</td>\n",
       "      <td>NaN</td>\n",
       "    </tr>\n",
       "    <tr>\n",
       "      <th>4</th>\n",
       "      <td>CAN</td>\n",
       "      <td>2020-01-27</td>\n",
       "      <td>3.0</td>\n",
       "      <td>0.0</td>\n",
       "      <td>NaN</td>\n",
       "      <td>NaN</td>\n",
       "      <td>NaN</td>\n",
       "      <td>NaN</td>\n",
       "    </tr>\n",
       "  </tbody>\n",
       "</table>\n",
       "</div>"
      ],
      "text/plain": [
       "  iso_code        date  total_cases  new_cases  total_deaths  new_deaths  \\\n",
       "0      CAN  2020-01-23          2.0        2.0           NaN         NaN   \n",
       "1      CAN  2020-01-24          3.0        1.0           NaN         NaN   \n",
       "2      CAN  2020-01-25          3.0        0.0           NaN         NaN   \n",
       "3      CAN  2020-01-26          3.0        0.0           NaN         NaN   \n",
       "4      CAN  2020-01-27          3.0        0.0           NaN         NaN   \n",
       "\n",
       "   icu_patients  hosp_patients  \n",
       "0           NaN            NaN  \n",
       "1           NaN            NaN  \n",
       "2           NaN            NaN  \n",
       "3           NaN            NaN  \n",
       "4           NaN            NaN  "
      ]
     },
     "execution_count": 2,
     "metadata": {},
     "output_type": "execute_result"
    }
   ],
   "source": [
    "# first data: covid cases, deaths, hospital info \n",
    "url_first = 'https://covid.ourworldindata.org/data/owid-covid-data.csv'\n",
    "used_columns = ['iso_code','date', 'total_cases', 'new_cases', 'total_deaths', 'new_deaths','icu_patients', 'hosp_patients']\n",
    "df_first_whole = pd.read_csv(url_first, usecols=used_columns)\n",
    "df_first = df_first_whole[df_first_whole.iso_code == \"CAN\"].reset_index(drop=True)\n",
    "df_first.head()"
   ]
  },
  {
   "cell_type": "markdown",
   "metadata": {},
   "source": [
    "    1.2. show the list of columns and their types. [1pts]"
   ]
  },
  {
   "cell_type": "code",
   "execution_count": 3,
   "metadata": {},
   "outputs": [
    {
     "data": {
      "text/plain": [
       "iso_code          object\n",
       "date              object\n",
       "total_cases      float64\n",
       "new_cases        float64\n",
       "total_deaths     float64\n",
       "new_deaths       float64\n",
       "icu_patients     float64\n",
       "hosp_patients    float64\n",
       "dtype: object"
      ]
     },
     "execution_count": 3,
     "metadata": {},
     "output_type": "execute_result"
    }
   ],
   "source": [
    "# list of columns and types\n",
    "df_first.dtypes"
   ]
  },
  {
   "cell_type": "markdown",
   "metadata": {},
   "source": [
    "Column deletion/renaming\n",
    "  \n",
    "  "
   ]
  },
  {
   "cell_type": "markdown",
   "metadata": {},
   "source": [
    "    1.3. Rename  one of the columns in your data frame to \"renamedcol_originalname\" . [3pts] "
   ]
  },
  {
   "cell_type": "code",
   "execution_count": 4,
   "metadata": {},
   "outputs": [],
   "source": [
    "# rename\n",
    "\n",
    "df_first.rename(columns = {'iso_code':'renamedcol_iso_code'}, inplace = True)"
   ]
  },
  {
   "cell_type": "markdown",
   "metadata": {},
   "source": [
    "    1.4. Drop a least significant column from one of your dataset. [3pts]\n"
   ]
  },
  {
   "cell_type": "code",
   "execution_count": 5,
   "metadata": {},
   "outputs": [],
   "source": [
    "# drop the last column\n",
    "\n",
    "df_first.drop(df_first.columns[-1], axis=1, inplace=True)"
   ]
  },
  {
   "cell_type": "markdown",
   "metadata": {},
   "source": [
    "    1.5. Show the list of columns and their types after the deletion and renaming. [1pts]"
   ]
  },
  {
   "cell_type": "code",
   "execution_count": 6,
   "metadata": {},
   "outputs": [
    {
     "data": {
      "text/plain": [
       "renamedcol_iso_code     object\n",
       "date                    object\n",
       "total_cases            float64\n",
       "new_cases              float64\n",
       "total_deaths           float64\n",
       "new_deaths             float64\n",
       "icu_patients           float64\n",
       "dtype: object"
      ]
     },
     "execution_count": 6,
     "metadata": {},
     "output_type": "execute_result"
    }
   ],
   "source": [
    "# show columns and data types\n",
    "df_first.dtypes"
   ]
  },
  {
   "cell_type": "markdown",
   "metadata": {},
   "source": [
    "#### 2. Load the second data set from your data source [10pts]\n",
    "\n",
    "    2.1. load the data and print the first five rows. [3pts]"
   ]
  },
  {
   "cell_type": "code",
   "execution_count": 7,
   "metadata": {
    "scrolled": true
   },
   "outputs": [
    {
     "data": {
      "text/html": [
       "<div>\n",
       "<style scoped>\n",
       "    .dataframe tbody tr th:only-of-type {\n",
       "        vertical-align: middle;\n",
       "    }\n",
       "\n",
       "    .dataframe tbody tr th {\n",
       "        vertical-align: top;\n",
       "    }\n",
       "\n",
       "    .dataframe thead th {\n",
       "        text-align: right;\n",
       "    }\n",
       "</style>\n",
       "<table border=\"1\" class=\"dataframe\">\n",
       "  <thead>\n",
       "    <tr style=\"text-align: right;\">\n",
       "      <th></th>\n",
       "      <th>pruid</th>\n",
       "      <th>prename</th>\n",
       "      <th>report_date</th>\n",
       "      <th>numtotal_all_administered</th>\n",
       "      <th>as_of_date</th>\n",
       "      <th>numtotal_dose1_administered</th>\n",
       "      <th>numtotal_dose2_administered</th>\n",
       "      <th>numtotal_dose3_administered</th>\n",
       "      <th>numtotal_dose4_administered</th>\n",
       "      <th>updated</th>\n",
       "    </tr>\n",
       "  </thead>\n",
       "  <tbody>\n",
       "    <tr>\n",
       "      <th>0</th>\n",
       "      <td>1</td>\n",
       "      <td>Canada</td>\n",
       "      <td>2021-01-19</td>\n",
       "      <td>685801</td>\n",
       "      <td>2021-01-19</td>\n",
       "      <td>253039</td>\n",
       "      <td>16193</td>\n",
       "      <td>0</td>\n",
       "      <td>0.0</td>\n",
       "      <td>1</td>\n",
       "    </tr>\n",
       "    <tr>\n",
       "      <th>1</th>\n",
       "      <td>1</td>\n",
       "      <td>Canada</td>\n",
       "      <td>2021-01-20</td>\n",
       "      <td>727355</td>\n",
       "      <td>2021-01-20</td>\n",
       "      <td>259348</td>\n",
       "      <td>20119</td>\n",
       "      <td>0</td>\n",
       "      <td>0.0</td>\n",
       "      <td>1</td>\n",
       "    </tr>\n",
       "    <tr>\n",
       "      <th>2</th>\n",
       "      <td>1</td>\n",
       "      <td>Canada</td>\n",
       "      <td>2021-01-21</td>\n",
       "      <td>766466</td>\n",
       "      <td>2021-01-21</td>\n",
       "      <td>264637</td>\n",
       "      <td>27218</td>\n",
       "      <td>0</td>\n",
       "      <td>0.0</td>\n",
       "      <td>1</td>\n",
       "    </tr>\n",
       "    <tr>\n",
       "      <th>3</th>\n",
       "      <td>1</td>\n",
       "      <td>Canada</td>\n",
       "      <td>2021-01-22</td>\n",
       "      <td>799783</td>\n",
       "      <td>2021-01-22</td>\n",
       "      <td>267072</td>\n",
       "      <td>31526</td>\n",
       "      <td>0</td>\n",
       "      <td>0.0</td>\n",
       "      <td>1</td>\n",
       "    </tr>\n",
       "    <tr>\n",
       "      <th>4</th>\n",
       "      <td>1</td>\n",
       "      <td>Canada</td>\n",
       "      <td>2021-01-23</td>\n",
       "      <td>817229</td>\n",
       "      <td>2021-01-23</td>\n",
       "      <td>268561</td>\n",
       "      <td>34012</td>\n",
       "      <td>0</td>\n",
       "      <td>0.0</td>\n",
       "      <td>1</td>\n",
       "    </tr>\n",
       "  </tbody>\n",
       "</table>\n",
       "</div>"
      ],
      "text/plain": [
       "   pruid prename report_date  numtotal_all_administered  as_of_date  \\\n",
       "0      1  Canada  2021-01-19                     685801  2021-01-19   \n",
       "1      1  Canada  2021-01-20                     727355  2021-01-20   \n",
       "2      1  Canada  2021-01-21                     766466  2021-01-21   \n",
       "3      1  Canada  2021-01-22                     799783  2021-01-22   \n",
       "4      1  Canada  2021-01-23                     817229  2021-01-23   \n",
       "\n",
       "  numtotal_dose1_administered numtotal_dose2_administered  \\\n",
       "0                      253039                       16193   \n",
       "1                      259348                       20119   \n",
       "2                      264637                       27218   \n",
       "3                      267072                       31526   \n",
       "4                      268561                       34012   \n",
       "\n",
       "  numtotal_dose3_administered  numtotal_dose4_administered  updated  \n",
       "0                           0                          0.0        1  \n",
       "1                           0                          0.0        1  \n",
       "2                           0                          0.0        1  \n",
       "3                           0                          0.0        1  \n",
       "4                           0                          0.0        1  "
      ]
     },
     "execution_count": 7,
     "metadata": {},
     "output_type": "execute_result"
    }
   ],
   "source": [
    "# second data: vaccine doses \n",
    "url_second = 'https://health-infobase.canada.ca/src/data/covidLive/vaccination-administration.csv'\n",
    "df_second_whole = pd.read_csv(url_second)\n",
    "df_second = df_second_whole[df_second_whole.prename == 'Canada'].reset_index(drop=True)\n",
    "df_second.head()"
   ]
  },
  {
   "cell_type": "markdown",
   "metadata": {},
   "source": [
    "    2.2. show the list of columns and their types. [2 pts]\n",
    "\n"
   ]
  },
  {
   "cell_type": "code",
   "execution_count": 8,
   "metadata": {},
   "outputs": [
    {
     "data": {
      "text/plain": [
       "pruid                            int64\n",
       "prename                         object\n",
       "report_date                     object\n",
       "numtotal_all_administered        int64\n",
       "as_of_date                      object\n",
       "numtotal_dose1_administered     object\n",
       "numtotal_dose2_administered     object\n",
       "numtotal_dose3_administered     object\n",
       "numtotal_dose4_administered    float64\n",
       "updated                          int64\n",
       "dtype: object"
      ]
     },
     "execution_count": 8,
     "metadata": {},
     "output_type": "execute_result"
    }
   ],
   "source": [
    "# show columns and data type\n",
    "df_second.dtypes"
   ]
  },
  {
   "cell_type": "markdown",
   "metadata": {},
   "source": [
    "    2.3. Describe the statistics of of your dataset1 and dataset2 [5pts]"
   ]
  },
  {
   "cell_type": "code",
   "execution_count": 9,
   "metadata": {},
   "outputs": [],
   "source": [
    "# before start, we change some data type\n",
    "\n",
    "# change to date format\n",
    "df_first['date'] = pd.to_datetime(df_first.date)\n",
    "df_second[\"report_date\"] = pd.to_datetime(df_second.report_date)\n",
    "\n",
    "# change to integer\n",
    "for col in ['numtotal_dose1_administered', 'numtotal_dose2_administered', 'numtotal_dose3_administered', 'numtotal_dose4_administered']:\n",
    "    df_second[col] = df_second[col].astype('int')"
   ]
  },
  {
   "cell_type": "code",
   "execution_count": 10,
   "metadata": {},
   "outputs": [
    {
     "data": {
      "text/html": [
       "<div>\n",
       "<style scoped>\n",
       "    .dataframe tbody tr th:only-of-type {\n",
       "        vertical-align: middle;\n",
       "    }\n",
       "\n",
       "    .dataframe tbody tr th {\n",
       "        vertical-align: top;\n",
       "    }\n",
       "\n",
       "    .dataframe thead th {\n",
       "        text-align: right;\n",
       "    }\n",
       "</style>\n",
       "<table border=\"1\" class=\"dataframe\">\n",
       "  <thead>\n",
       "    <tr style=\"text-align: right;\">\n",
       "      <th></th>\n",
       "      <th>total_cases</th>\n",
       "      <th>new_cases</th>\n",
       "      <th>total_deaths</th>\n",
       "      <th>new_deaths</th>\n",
       "      <th>icu_patients</th>\n",
       "    </tr>\n",
       "  </thead>\n",
       "  <tbody>\n",
       "    <tr>\n",
       "      <th>count</th>\n",
       "      <td>1.037000e+03</td>\n",
       "      <td>1035.000000</td>\n",
       "      <td>991.000000</td>\n",
       "      <td>988.000000</td>\n",
       "      <td>965.000000</td>\n",
       "    </tr>\n",
       "    <tr>\n",
       "      <th>mean</th>\n",
       "      <td>1.722028e+06</td>\n",
       "      <td>4292.949758</td>\n",
       "      <td>25249.227043</td>\n",
       "      <td>48.795547</td>\n",
       "      <td>455.473575</td>\n",
       "    </tr>\n",
       "    <tr>\n",
       "      <th>std</th>\n",
       "      <td>1.542125e+06</td>\n",
       "      <td>6544.190538</td>\n",
       "      <td>13547.665721</td>\n",
       "      <td>49.016680</td>\n",
       "      <td>307.803847</td>\n",
       "    </tr>\n",
       "    <tr>\n",
       "      <th>min</th>\n",
       "      <td>2.000000e+00</td>\n",
       "      <td>0.000000</td>\n",
       "      <td>1.000000</td>\n",
       "      <td>0.000000</td>\n",
       "      <td>42.000000</td>\n",
       "    </tr>\n",
       "    <tr>\n",
       "      <th>25%</th>\n",
       "      <td>1.791210e+05</td>\n",
       "      <td>797.000000</td>\n",
       "      <td>10808.000000</td>\n",
       "      <td>12.000000</td>\n",
       "      <td>228.000000</td>\n",
       "    </tr>\n",
       "    <tr>\n",
       "      <th>50%</th>\n",
       "      <td>1.416297e+06</td>\n",
       "      <td>2505.000000</td>\n",
       "      <td>26494.000000</td>\n",
       "      <td>32.000000</td>\n",
       "      <td>402.000000</td>\n",
       "    </tr>\n",
       "    <tr>\n",
       "      <th>75%</th>\n",
       "      <td>3.362047e+06</td>\n",
       "      <td>5376.000000</td>\n",
       "      <td>37226.000000</td>\n",
       "      <td>68.250000</td>\n",
       "      <td>609.000000</td>\n",
       "    </tr>\n",
       "    <tr>\n",
       "      <th>max</th>\n",
       "      <td>4.427242e+06</td>\n",
       "      <td>63678.000000</td>\n",
       "      <td>47850.000000</td>\n",
       "      <td>300.000000</td>\n",
       "      <td>1387.000000</td>\n",
       "    </tr>\n",
       "  </tbody>\n",
       "</table>\n",
       "</div>"
      ],
      "text/plain": [
       "        total_cases     new_cases  total_deaths  new_deaths  icu_patients\n",
       "count  1.037000e+03   1035.000000    991.000000  988.000000    965.000000\n",
       "mean   1.722028e+06   4292.949758  25249.227043   48.795547    455.473575\n",
       "std    1.542125e+06   6544.190538  13547.665721   49.016680    307.803847\n",
       "min    2.000000e+00      0.000000      1.000000    0.000000     42.000000\n",
       "25%    1.791210e+05    797.000000  10808.000000   12.000000    228.000000\n",
       "50%    1.416297e+06   2505.000000  26494.000000   32.000000    402.000000\n",
       "75%    3.362047e+06   5376.000000  37226.000000   68.250000    609.000000\n",
       "max    4.427242e+06  63678.000000  47850.000000  300.000000   1387.000000"
      ]
     },
     "execution_count": 10,
     "metadata": {},
     "output_type": "execute_result"
    }
   ],
   "source": [
    "# statistics of first dataset\n",
    "df_first.describe()"
   ]
  },
  {
   "cell_type": "code",
   "execution_count": 11,
   "metadata": {},
   "outputs": [
    {
     "data": {
      "text/html": [
       "<div>\n",
       "<style scoped>\n",
       "    .dataframe tbody tr th:only-of-type {\n",
       "        vertical-align: middle;\n",
       "    }\n",
       "\n",
       "    .dataframe tbody tr th {\n",
       "        vertical-align: top;\n",
       "    }\n",
       "\n",
       "    .dataframe thead th {\n",
       "        text-align: right;\n",
       "    }\n",
       "</style>\n",
       "<table border=\"1\" class=\"dataframe\">\n",
       "  <thead>\n",
       "    <tr style=\"text-align: right;\">\n",
       "      <th></th>\n",
       "      <th>pruid</th>\n",
       "      <th>numtotal_all_administered</th>\n",
       "      <th>numtotal_dose1_administered</th>\n",
       "      <th>numtotal_dose2_administered</th>\n",
       "      <th>numtotal_dose3_administered</th>\n",
       "      <th>numtotal_dose4_administered</th>\n",
       "      <th>updated</th>\n",
       "    </tr>\n",
       "  </thead>\n",
       "  <tbody>\n",
       "    <tr>\n",
       "      <th>count</th>\n",
       "      <td>653.0</td>\n",
       "      <td>6.530000e+02</td>\n",
       "      <td>6.530000e+02</td>\n",
       "      <td>6.530000e+02</td>\n",
       "      <td>6.530000e+02</td>\n",
       "      <td>6.530000e+02</td>\n",
       "      <td>653.0</td>\n",
       "    </tr>\n",
       "    <tr>\n",
       "      <th>mean</th>\n",
       "      <td>1.0</td>\n",
       "      <td>6.078507e+07</td>\n",
       "      <td>2.642216e+07</td>\n",
       "      <td>2.292340e+07</td>\n",
       "      <td>9.247755e+06</td>\n",
       "      <td>1.490391e+06</td>\n",
       "      <td>1.0</td>\n",
       "    </tr>\n",
       "    <tr>\n",
       "      <th>std</th>\n",
       "      <td>0.0</td>\n",
       "      <td>2.892548e+07</td>\n",
       "      <td>1.008448e+07</td>\n",
       "      <td>1.159876e+07</td>\n",
       "      <td>8.898023e+06</td>\n",
       "      <td>2.471260e+06</td>\n",
       "      <td>0.0</td>\n",
       "    </tr>\n",
       "    <tr>\n",
       "      <th>min</th>\n",
       "      <td>1.0</td>\n",
       "      <td>6.858010e+05</td>\n",
       "      <td>2.530390e+05</td>\n",
       "      <td>1.619300e+04</td>\n",
       "      <td>0.000000e+00</td>\n",
       "      <td>0.000000e+00</td>\n",
       "      <td>1.0</td>\n",
       "    </tr>\n",
       "    <tr>\n",
       "      <th>25%</th>\n",
       "      <td>1.0</td>\n",
       "      <td>4.705060e+07</td>\n",
       "      <td>2.684002e+07</td>\n",
       "      <td>2.020683e+07</td>\n",
       "      <td>3.840000e+02</td>\n",
       "      <td>1.300000e+01</td>\n",
       "      <td>1.0</td>\n",
       "    </tr>\n",
       "    <tr>\n",
       "      <th>50%</th>\n",
       "      <td>1.0</td>\n",
       "      <td>6.842803e+07</td>\n",
       "      <td>3.161169e+07</td>\n",
       "      <td>2.895950e+07</td>\n",
       "      <td>7.567964e+06</td>\n",
       "      <td>1.851000e+03</td>\n",
       "      <td>1.0</td>\n",
       "    </tr>\n",
       "    <tr>\n",
       "      <th>75%</th>\n",
       "      <td>1.0</td>\n",
       "      <td>8.502039e+07</td>\n",
       "      <td>3.241961e+07</td>\n",
       "      <td>3.096486e+07</td>\n",
       "      <td>1.873527e+07</td>\n",
       "      <td>1.877906e+06</td>\n",
       "      <td>1.0</td>\n",
       "    </tr>\n",
       "    <tr>\n",
       "      <th>max</th>\n",
       "      <td>1.0</td>\n",
       "      <td>9.396800e+07</td>\n",
       "      <td>3.257761e+07</td>\n",
       "      <td>3.120339e+07</td>\n",
       "      <td>1.948719e+07</td>\n",
       "      <td>8.367586e+06</td>\n",
       "      <td>1.0</td>\n",
       "    </tr>\n",
       "  </tbody>\n",
       "</table>\n",
       "</div>"
      ],
      "text/plain": [
       "       pruid  numtotal_all_administered  numtotal_dose1_administered  \\\n",
       "count  653.0               6.530000e+02                 6.530000e+02   \n",
       "mean     1.0               6.078507e+07                 2.642216e+07   \n",
       "std      0.0               2.892548e+07                 1.008448e+07   \n",
       "min      1.0               6.858010e+05                 2.530390e+05   \n",
       "25%      1.0               4.705060e+07                 2.684002e+07   \n",
       "50%      1.0               6.842803e+07                 3.161169e+07   \n",
       "75%      1.0               8.502039e+07                 3.241961e+07   \n",
       "max      1.0               9.396800e+07                 3.257761e+07   \n",
       "\n",
       "       numtotal_dose2_administered  numtotal_dose3_administered  \\\n",
       "count                 6.530000e+02                 6.530000e+02   \n",
       "mean                  2.292340e+07                 9.247755e+06   \n",
       "std                   1.159876e+07                 8.898023e+06   \n",
       "min                   1.619300e+04                 0.000000e+00   \n",
       "25%                   2.020683e+07                 3.840000e+02   \n",
       "50%                   2.895950e+07                 7.567964e+06   \n",
       "75%                   3.096486e+07                 1.873527e+07   \n",
       "max                   3.120339e+07                 1.948719e+07   \n",
       "\n",
       "       numtotal_dose4_administered  updated  \n",
       "count                 6.530000e+02    653.0  \n",
       "mean                  1.490391e+06      1.0  \n",
       "std                   2.471260e+06      0.0  \n",
       "min                   0.000000e+00      1.0  \n",
       "25%                   1.300000e+01      1.0  \n",
       "50%                   1.851000e+03      1.0  \n",
       "75%                   1.877906e+06      1.0  \n",
       "max                   8.367586e+06      1.0  "
      ]
     },
     "execution_count": 11,
     "metadata": {},
     "output_type": "execute_result"
    }
   ],
   "source": [
    "# statistics of second dataset \n",
    "df_second.describe()"
   ]
  },
  {
   "cell_type": "markdown",
   "metadata": {},
   "source": [
    "#### 3.  Merging [15pts]\n",
    "- merge the two dataframes into a single dataframe. name the new dataset as \"covid_all\". [10pts] \n",
    "- print the first five observations. [1pt] \n",
    "- show the list of columns and their types. [1pt]\n",
    "- Save the merged dataframe into a csv file and name it covid_collection.csv. [3pts]\n"
   ]
  },
  {
   "cell_type": "code",
   "execution_count": 12,
   "metadata": {},
   "outputs": [],
   "source": [
    "# merge-> how:inner\n",
    "covid_all = pd.merge(df_first, df_second, left_on='date', right_on='report_date')"
   ]
  },
  {
   "cell_type": "code",
   "execution_count": 13,
   "metadata": {},
   "outputs": [
    {
     "data": {
      "text/html": [
       "<div>\n",
       "<style scoped>\n",
       "    .dataframe tbody tr th:only-of-type {\n",
       "        vertical-align: middle;\n",
       "    }\n",
       "\n",
       "    .dataframe tbody tr th {\n",
       "        vertical-align: top;\n",
       "    }\n",
       "\n",
       "    .dataframe thead th {\n",
       "        text-align: right;\n",
       "    }\n",
       "</style>\n",
       "<table border=\"1\" class=\"dataframe\">\n",
       "  <thead>\n",
       "    <tr style=\"text-align: right;\">\n",
       "      <th></th>\n",
       "      <th>renamedcol_iso_code</th>\n",
       "      <th>date</th>\n",
       "      <th>total_cases</th>\n",
       "      <th>new_cases</th>\n",
       "      <th>total_deaths</th>\n",
       "      <th>new_deaths</th>\n",
       "      <th>icu_patients</th>\n",
       "      <th>pruid</th>\n",
       "      <th>prename</th>\n",
       "      <th>report_date</th>\n",
       "      <th>numtotal_all_administered</th>\n",
       "      <th>as_of_date</th>\n",
       "      <th>numtotal_dose1_administered</th>\n",
       "      <th>numtotal_dose2_administered</th>\n",
       "      <th>numtotal_dose3_administered</th>\n",
       "      <th>numtotal_dose4_administered</th>\n",
       "      <th>updated</th>\n",
       "    </tr>\n",
       "  </thead>\n",
       "  <tbody>\n",
       "    <tr>\n",
       "      <th>0</th>\n",
       "      <td>CAN</td>\n",
       "      <td>2021-01-19</td>\n",
       "      <td>726920.0</td>\n",
       "      <td>5316.0</td>\n",
       "      <td>18360.0</td>\n",
       "      <td>138.0</td>\n",
       "      <td>876.0</td>\n",
       "      <td>1</td>\n",
       "      <td>Canada</td>\n",
       "      <td>2021-01-19</td>\n",
       "      <td>685801</td>\n",
       "      <td>2021-01-19</td>\n",
       "      <td>253039</td>\n",
       "      <td>16193</td>\n",
       "      <td>0</td>\n",
       "      <td>0</td>\n",
       "      <td>1</td>\n",
       "    </tr>\n",
       "    <tr>\n",
       "      <th>1</th>\n",
       "      <td>CAN</td>\n",
       "      <td>2021-01-20</td>\n",
       "      <td>732754.0</td>\n",
       "      <td>5834.0</td>\n",
       "      <td>18548.0</td>\n",
       "      <td>188.0</td>\n",
       "      <td>860.0</td>\n",
       "      <td>1</td>\n",
       "      <td>Canada</td>\n",
       "      <td>2021-01-20</td>\n",
       "      <td>727355</td>\n",
       "      <td>2021-01-20</td>\n",
       "      <td>259348</td>\n",
       "      <td>20119</td>\n",
       "      <td>0</td>\n",
       "      <td>0</td>\n",
       "      <td>1</td>\n",
       "    </tr>\n",
       "    <tr>\n",
       "      <th>2</th>\n",
       "      <td>CAN</td>\n",
       "      <td>2021-01-21</td>\n",
       "      <td>738597.0</td>\n",
       "      <td>5843.0</td>\n",
       "      <td>18688.0</td>\n",
       "      <td>140.0</td>\n",
       "      <td>849.0</td>\n",
       "      <td>1</td>\n",
       "      <td>Canada</td>\n",
       "      <td>2021-01-21</td>\n",
       "      <td>766466</td>\n",
       "      <td>2021-01-21</td>\n",
       "      <td>264637</td>\n",
       "      <td>27218</td>\n",
       "      <td>0</td>\n",
       "      <td>0</td>\n",
       "      <td>1</td>\n",
       "    </tr>\n",
       "    <tr>\n",
       "      <th>3</th>\n",
       "      <td>CAN</td>\n",
       "      <td>2021-01-22</td>\n",
       "      <td>744265.0</td>\n",
       "      <td>5668.0</td>\n",
       "      <td>18864.0</td>\n",
       "      <td>176.0</td>\n",
       "      <td>876.0</td>\n",
       "      <td>1</td>\n",
       "      <td>Canada</td>\n",
       "      <td>2021-01-22</td>\n",
       "      <td>799783</td>\n",
       "      <td>2021-01-22</td>\n",
       "      <td>267072</td>\n",
       "      <td>31526</td>\n",
       "      <td>0</td>\n",
       "      <td>0</td>\n",
       "      <td>1</td>\n",
       "    </tr>\n",
       "    <tr>\n",
       "      <th>4</th>\n",
       "      <td>CAN</td>\n",
       "      <td>2021-01-23</td>\n",
       "      <td>748567.0</td>\n",
       "      <td>4302.0</td>\n",
       "      <td>18981.0</td>\n",
       "      <td>117.0</td>\n",
       "      <td>873.0</td>\n",
       "      <td>1</td>\n",
       "      <td>Canada</td>\n",
       "      <td>2021-01-23</td>\n",
       "      <td>817229</td>\n",
       "      <td>2021-01-23</td>\n",
       "      <td>268561</td>\n",
       "      <td>34012</td>\n",
       "      <td>0</td>\n",
       "      <td>0</td>\n",
       "      <td>1</td>\n",
       "    </tr>\n",
       "  </tbody>\n",
       "</table>\n",
       "</div>"
      ],
      "text/plain": [
       "  renamedcol_iso_code       date  total_cases  new_cases  total_deaths  \\\n",
       "0                 CAN 2021-01-19     726920.0     5316.0       18360.0   \n",
       "1                 CAN 2021-01-20     732754.0     5834.0       18548.0   \n",
       "2                 CAN 2021-01-21     738597.0     5843.0       18688.0   \n",
       "3                 CAN 2021-01-22     744265.0     5668.0       18864.0   \n",
       "4                 CAN 2021-01-23     748567.0     4302.0       18981.0   \n",
       "\n",
       "   new_deaths  icu_patients  pruid prename report_date  \\\n",
       "0       138.0         876.0      1  Canada  2021-01-19   \n",
       "1       188.0         860.0      1  Canada  2021-01-20   \n",
       "2       140.0         849.0      1  Canada  2021-01-21   \n",
       "3       176.0         876.0      1  Canada  2021-01-22   \n",
       "4       117.0         873.0      1  Canada  2021-01-23   \n",
       "\n",
       "   numtotal_all_administered  as_of_date  numtotal_dose1_administered  \\\n",
       "0                     685801  2021-01-19                       253039   \n",
       "1                     727355  2021-01-20                       259348   \n",
       "2                     766466  2021-01-21                       264637   \n",
       "3                     799783  2021-01-22                       267072   \n",
       "4                     817229  2021-01-23                       268561   \n",
       "\n",
       "   numtotal_dose2_administered  numtotal_dose3_administered  \\\n",
       "0                        16193                            0   \n",
       "1                        20119                            0   \n",
       "2                        27218                            0   \n",
       "3                        31526                            0   \n",
       "4                        34012                            0   \n",
       "\n",
       "   numtotal_dose4_administered  updated  \n",
       "0                            0        1  \n",
       "1                            0        1  \n",
       "2                            0        1  \n",
       "3                            0        1  \n",
       "4                            0        1  "
      ]
     },
     "execution_count": 13,
     "metadata": {},
     "output_type": "execute_result"
    }
   ],
   "source": [
    "# first five obs\n",
    "covid_all.head()"
   ]
  },
  {
   "cell_type": "code",
   "execution_count": 14,
   "metadata": {},
   "outputs": [
    {
     "data": {
      "text/plain": [
       "renamedcol_iso_code                    object\n",
       "date                           datetime64[ns]\n",
       "total_cases                           float64\n",
       "new_cases                             float64\n",
       "total_deaths                          float64\n",
       "new_deaths                            float64\n",
       "icu_patients                          float64\n",
       "pruid                                   int64\n",
       "prename                                object\n",
       "report_date                    datetime64[ns]\n",
       "numtotal_all_administered               int64\n",
       "as_of_date                             object\n",
       "numtotal_dose1_administered             int32\n",
       "numtotal_dose2_administered             int32\n",
       "numtotal_dose3_administered             int32\n",
       "numtotal_dose4_administered             int32\n",
       "updated                                 int64\n",
       "dtype: object"
      ]
     },
     "execution_count": 14,
     "metadata": {},
     "output_type": "execute_result"
    }
   ],
   "source": [
    "# list of columns and data type\n",
    "covid_all.dtypes"
   ]
  },
  {
   "cell_type": "code",
   "execution_count": 15,
   "metadata": {},
   "outputs": [],
   "source": [
    "# save as a csv file\n",
    "covid_all.to_csv('covid_collection.csv')"
   ]
  },
  {
   "cell_type": "markdown",
   "metadata": {},
   "source": [
    "#### 4. Plotting v [12pts] \n",
    "    - Using import matplotlib.pyplot as plt\n",
    "     - Create 3 different plots for each of the dataset(total of 6 plots). Your plot can be based on age, death rates,             area, provinces. Pick your column from your own dataset and create the following plots\n",
    "    - .scatter()  [4pt] \n",
    "    - .box() [4 pt]\n",
    "    - .hist() [4 pts]\n"
   ]
  },
  {
   "cell_type": "markdown",
   "metadata": {},
   "source": [
    "### First Dataset"
   ]
  },
  {
   "cell_type": "code",
   "execution_count": 16,
   "metadata": {},
   "outputs": [
    {
     "data": {
      "text/plain": [
       "<matplotlib.collections.PathCollection at 0x26d151e7a00>"
      ]
     },
     "execution_count": 16,
     "metadata": {},
     "output_type": "execute_result"
    },
    {
     "data": {
      "image/png": "[encoded data removed]",
      "text/plain": [
       "<Figure size 640x480 with 1 Axes>"
      ]
     },
     "metadata": {},
     "output_type": "display_data"
    }
   ],
   "source": [
    "# df_first -> scatter (x: new_cases, y: new_deaths)\n",
    "plt.scatter(df_first.new_cases, df_first.new_deaths)"
   ]
  },
  {
   "cell_type": "code",
   "execution_count": 17,
   "metadata": {},
   "outputs": [
    {
     "data": {
      "text/plain": [
       "<AxesSubplot:>"
      ]
     },
     "execution_count": 17,
     "metadata": {},
     "output_type": "execute_result"
    },
    {
     "data": {
      "image/png": "[encoded data removed]",
      "text/plain": [
       "<Figure size 640x480 with 1 Axes>"
      ]
     },
     "metadata": {},
     "output_type": "display_data"
    }
   ],
   "source": [
    "# df_first -> boxlpot (data: ['new_deaths', 'icu_patients'])\n",
    "df_first[['new_deaths', 'icu_patients']].boxplot()"
   ]
  },
  {
   "cell_type": "code",
   "execution_count": 18,
   "metadata": {},
   "outputs": [
    {
     "data": {
      "text/plain": [
       "(array([148., 259., 129., 161., 100.,  54.,  38.,  23.,  26.,  27.]),\n",
       " array([  42. ,  176.5,  311. ,  445.5,  580. ,  714.5,  849. ,  983.5,\n",
       "        1118. , 1252.5, 1387. ]),\n",
       " <BarContainer object of 10 artists>)"
      ]
     },
     "execution_count": 18,
     "metadata": {},
     "output_type": "execute_result"
    },
    {
     "data": {
      "image/png": "[encoded data removed]",
      "text/plain": [
       "<Figure size 640x480 with 1 Axes>"
      ]
     },
     "metadata": {},
     "output_type": "display_data"
    }
   ],
   "source": [
    "# df_first -> histogram (data: 'icu_patients')\n",
    "plt.hist(df_first['icu_patients'])"
   ]
  },
  {
   "cell_type": "markdown",
   "metadata": {},
   "source": [
    "### Second Dataset"
   ]
  },
  {
   "cell_type": "code",
   "execution_count": 19,
   "metadata": {},
   "outputs": [
    {
     "data": {
      "text/plain": [
       "<matplotlib.collections.PathCollection at 0x26d10fd0280>"
      ]
     },
     "execution_count": 19,
     "metadata": {},
     "output_type": "execute_result"
    },
    {
     "data": {
      "image/png": "[encoded data removed]",
      "text/plain": [
       "<Figure size 640x480 with 1 Axes>"
      ]
     },
     "metadata": {},
     "output_type": "display_data"
    }
   ],
   "source": [
    "# df_second -> scatter (x: report_date, y: numtotal_all_administered)\n",
    "plt.scatter(df_second.report_date, df_second.numtotal_all_administered)"
   ]
  },
  {
   "cell_type": "code",
   "execution_count": 20,
   "metadata": {},
   "outputs": [
    {
     "data": {
      "text/plain": [
       "<AxesSubplot:>"
      ]
     },
     "execution_count": 20,
     "metadata": {},
     "output_type": "execute_result"
    },
    {
     "data": {
      "image/png": "[encoded data removed]",
      "text/plain": [
       "<Figure size 640x480 with 1 Axes>"
      ]
     },
     "metadata": {},
     "output_type": "display_data"
    }
   ],
   "source": [
    "# df_second -> boxplot (data: ['numtotal_all_administered', 'numtotal_dose4_administered'])\n",
    "df_second[['numtotal_all_administered', 'numtotal_dose4_administered']].boxplot()"
   ]
  },
  {
   "cell_type": "code",
   "execution_count": 21,
   "metadata": {},
   "outputs": [
    {
     "data": {
      "text/plain": [
       "(array([ 67.,  31.,  24.,  20.,  24.,  75.,  75.,  32., 128., 177.]),\n",
       " array([  685801. , 10014020.5, 19342240. , 28670459.5, 37998679. ,\n",
       "        47326898.5, 56655118. , 65983337.5, 75311557. , 84639776.5,\n",
       "        93967996. ]),\n",
       " <BarContainer object of 10 artists>)"
      ]
     },
     "execution_count": 21,
     "metadata": {},
     "output_type": "execute_result"
    },
    {
     "data": {
      "image/png": "[encoded data removed]",
      "text/plain": [
       "<Figure size 640x480 with 1 Axes>"
      ]
     },
     "metadata": {},
     "output_type": "display_data"
    }
   ],
   "source": [
    "# df_second: histogram (data: numtotal_all_administered)\n",
    "plt.hist(df_second['numtotal_all_administered'])"
   ]
  },
  {
   "cell_type": "code",
   "execution_count": null,
   "metadata": {},
   "outputs": [],
   "source": []
  }
 ],
 "metadata": {
  "kernelspec": {
   "display_name": "Python 3 (ipykernel)",
   "language": "python",
   "name": "python3"
  },
  "language_info": {
   "codemirror_mode": {
    "name": "ipython",
    "version": 3
   },
   "file_extension": ".py",
   "mimetype": "text/x-python",
   "name": "python",
   "nbconvert_exporter": "python",
   "pygments_lexer": "ipython3",
   "version": "3.8.5"
  }
 },
 "nbformat": 4,
 "nbformat_minor": 4
}
