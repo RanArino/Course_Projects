{
 "cells": [
  {
   "cell_type": "code",
   "execution_count": 2,
   "metadata": {},
   "outputs": [],
   "source": [
    "import os\n",
    "import math"
   ]
  },
  {
   "cell_type": "code",
   "execution_count": 3,
   "metadata": {},
   "outputs": [
    {
     "name": "stdout",
     "output_type": "stream",
     "text": [
      "Menu:\n",
      "Please enter 1 for indexing, 2 to search, and 3 to exit\n",
      "1. Indexzing\n",
      "2. Searching\n",
      "3. Exit\n",
      "\n",
      "1\n"
     ]
    },
    {
     "data": {
      "text/plain": [
       "1"
      ]
     },
     "execution_count": 3,
     "metadata": {},
     "output_type": "execute_result"
    }
   ],
   "source": [
    "#This function displays the menu as follows\n",
    "#    1. Indexing\n",
    "#    3. Exit\n",
    "\n",
    "def printMenu():\n",
    "    print('Menu:')\n",
    "    print('Please enter 1 for indexing, 2 to search, and 3 to exit')\n",
    "    result_menu = int(input('1. Indexzing\\n2. Searching\\n3. Exit\\n\\n'))\n",
    "    return result_menu\n",
    "printMenu()"
   ]
  },
  {
   "cell_type": "code",
   "execution_count": 5,
   "metadata": {},
   "outputs": [],
   "source": [
    "# This function takes a text file as input and replaces all punctuations into blank, \" \"\n",
    "# Input: text\n",
    "# Output: text with no punctuations\n",
    "\n",
    "def punctuationsRemoval(text: str) -> str:\n",
    "    \"\"\"\n",
    "    (str) -> str\n",
    "    Return a text after replacing any punctuations to blank, \" \".\n",
    "    \n",
    "    >>>punctuationsRemoval('abcdefg##@@higklmn,*()%opqr\"\"stu')\n",
    "    'abcdefg    higklmn     opqr  stu'\n",
    "    \"\"\"\n",
    "    PUNCTUATIONS = [\"!\", \"(\", \")\", \"—\", \"–\", \"-\", \"[\", \"]\", \"{\", \"}\", \";\", \":\", \"​\", \"•\", \"\\'\", '\\\"', \"‘\", \"’\",  \"\\\\\", \",\", \"<\", \">\", \".\", \"…\", \"/\", '?', '@', \"#\", \"$\", \"%\", \"^\", \"&\", \"+\", \"*\", \"=\", \"_\", \"~\"]\n",
    "    \n",
    "    clear_text = \"\"\n",
    "    for word in text:\n",
    "        clear_text += word if word not in PUNCTUATIONS else \" \"\n",
    "            # if a variable \"word\" is not punctuation, then append \"word\" itself; otherwise, append blank.\n",
    "    \n",
    "    return clear_text"
   ]
  },
  {
   "cell_type": "code",
   "execution_count": 7,
   "metadata": {},
   "outputs": [
    {
     "data": {
      "text/plain": [
       "['The', 'monkeys', 'jump', 'bed.']"
      ]
     },
     "execution_count": 7,
     "metadata": {},
     "output_type": "execute_result"
    }
   ],
   "source": [
    "# This function takes a text as input and removes all stopwords.\n",
    "# Input: text\n",
    "# Output: text with nostop words\n",
    "def stopWordRemoval(text: str) -> list:\n",
    "    \"\"\"\n",
    "    (str) -> list\n",
    "    Return word list based on the input data(txt format), which are excluded stored words in 'Stop_Words.txt'.\n",
    "    Before running this function, should be removed punctuations from the text.\n",
    "    \n",
    "    >>>stopWordRemoval(\"The monkeys jump on the bed.\")\n",
    "    ['monkeys', 'jump', 'bed.']\n",
    "    \"\"\"\n",
    "    word_list = list(filter(lambda word: word != \"\", text.split(\" \")))\n",
    "        # excluding \"\" from the text after splitting by the blnk and change a word into a lower case\n",
    "   \n",
    "    with open('Stop_Words.txt', 'r') as f: # load stopwords file\n",
    "        Stop_Words = f.read()\n",
    "    \n",
    "    remove_list = [i.strip(\"''\").strip('\"\"') for i in Stop_Words.split(\", \")] # clear format\n",
    "    clean_list = list(filter(lambda word: word not in remove_list, word_list)) # excluding the removewords from word_list\n",
    "        \n",
    "    return clean_list\n",
    "\n",
    "stopWordRemoval(\"The monkeys jump on the bed.\")"
   ]
  },
  {
   "cell_type": "code",
   "execution_count": 9,
   "metadata": {},
   "outputs": [],
   "source": [
    "def appendTermDocFreq(docid: int, cleanText: list, termDocFreqFile: file_name):\n",
    "    \"\"\"\n",
    "    Appends TermDocFreqFile with the term(lower case), the document number, and their frequency.\n",
    "    The format is like below.\n",
    "    \n",
    "    ontario 1 2\\n\n",
    "    government 1 3\\n\n",
    "    \"\"\"\n",
    "    term_freq = {} # format -> {term: freqency}\n",
    "    for word in cleanText:\n",
    "        word = word.lower() # every word changes lower case\n",
    "        if word not in term_freq:\n",
    "            term_freq[word] = 1 \n",
    "        else:\n",
    "            term_freq[word] += 1\n",
    "            \n",
    "    append_text = ''\n",
    "    for k, v in term_freq.items():\n",
    "        append_text += '{} {} {}\\n'.format(k, docid, v)\n",
    "    \n",
    "    termDocFreqFile.write(append_text)"
   ]
  },
  {
   "cell_type": "code",
   "execution_count": 10,
   "metadata": {},
   "outputs": [],
   "source": [
    "def genIndex(termDocFreqFile):\n",
    "    index_file = {}\n",
    "    # Format -> {term_01: {doc#: freq, doc#: freq,...}, term_02:{doc#: freq, ...}}\n",
    "    \n",
    "    termDocFreqFile = open(\"TermDocFreq.txt\", 'r', encoding='utf-8')    \n",
    "    for line in termDocFreqFile: # read text document line by line\n",
    "        read = line[:-1].split(\" \") # apply split method after removing the last word('\\n') of each\n",
    "        if read[0] not in index_file: # read[0], read[1], read[2] = term, doc#, freq\n",
    "            index_file[read[0]] = {read[1]: read[2]}    \n",
    "        else:\n",
    "            index_file[read[0]][read[1]] = read[2]\n",
    "    \n",
    "    return index_file"
   ]
  },
  {
   "cell_type": "code",
   "execution_count": 11,
   "metadata": {},
   "outputs": [],
   "source": [
    "def readFolderContent():\n",
    "    files = []\n",
    "    file_list = os.listdir('dataset')\n",
    "    for filename in sorted(file_list):\n",
    "        with open('dataset' + '/' + filename, 'r', encoding='utf-8') as infile:\n",
    "            files.append(infile.read())\n",
    "    return files"
   ]
  },
  {
   "cell_type": "code",
   "execution_count": 12,
   "metadata": {},
   "outputs": [],
   "source": [
    "def indexing():\n",
    "    termDocFreqFile = open(\"TermDocFreq.txt\", 'w', encoding='utf-8') \n",
    "        \n",
    "    # readFolderContent is called to create a list of files.\n",
    "    files = readFolderContent()\n",
    "    id=1\n",
    "    for file in files:        \n",
    "        puncRemoved = punctuationsRemoval(file) # remove all punctuations\n",
    "        stopWordsRemoved = stopWordRemoval(puncRemoved) # remove all stop words.\n",
    "        appendTermDocFreq(id, stopWordsRemoved, termDocFreqFile)  # Call appendTermDocFreq function to append to termDocFreqFile\n",
    "        id += 1\n",
    "    \n",
    "    global global_index_file\n",
    "    global_index_file = genIndex(termDocFreqFile) # Call genIndex function to append to the global index file\n",
    "    termDocFreqFile.close() "
   ]
  },
  {
   "cell_type": "code",
   "execution_count": 32,
   "metadata": {},
   "outputs": [],
   "source": [
    "def search(query: str) -> str:\n",
    "    \"\"\"\n",
    "    Returns the document with the highest score as the most relevant one.\n",
    "    Before running this function, must run \"index()\" function at first.\n",
    "    \"\"\"\n",
    "    query_words = stopWordRemoval(punctuationsRemoval(query.lower())) # deal with punctuations and unnecessary words.\n",
    "    \n",
    "    file_list = os.listdir('dataset')\n",
    "    num_docs_total = len(file_list) # the total number of documents in the collection \n",
    "    global scores\n",
    "    scores = {} # {document_number: scores}, which will be updated\n",
    "    for query in query_words:\n",
    "        num_docs_query= len([doc for doc in global_index_file[query].keys()]) # number of documents that contain query word\n",
    "        for doc, freq in global_index_file[query].items(): # document number, query frequency per document\n",
    "            scores[int(doc)] = 0 if int(doc) not in scores else scores[int(doc)]\n",
    "            scores[int(doc)] += int(freq) * math.log(num_docs_total/num_docs_query)\n",
    "\n",
    "    most_relevant_doc_num = max(scores, key=scores.get)\n",
    "    file_name = 'dataset/'+ file_list[most_relevant_doc_num-1]\n",
    "    \n",
    "    with open(file_name, 'r', encoding='utf-8') as f:\n",
    "        most_relevant_document = f.read()\n",
    "    \n",
    "    return most_relevant_document"
   ]
  },
  {
   "cell_type": "markdown",
   "metadata": {},
   "source": [
    "If I obeyed your instruction or its formula on MS2, a programmer might execute the \"for\" loop against all files, just like this.\n",
    "\n",
    "\n",
    "    for D in range(len(os.listdir('dataset'))):\n",
    "    ...\n",
    "\n",
    "\n",
    "However, the above code repeats all files, even if query words are not contained. I think it takes more time, so I tried to calculate the score of query each word at first. That is, the computer does not need to search around all the files to find user-specified query words. If a file(document) contains multiple query words, the score of each words are adding up (referring to <b>code line 13&14</b>)."
   ]
  },
  {
   "cell_type": "code",
   "execution_count": 33,
   "metadata": {},
   "outputs": [],
   "source": [
    "def main():\n",
    "    option=printMenu()\n",
    "    if option == 1:\n",
    "        indexing()\n",
    "    elif option == 2:\n",
    "        query= input(\"What's your query word or sentence?\\n\")\n",
    "        return search(query)\n",
    "\n",
    "#if __name__ == \"__main__\":\n",
    "#       main()"
   ]
  },
  {
   "cell_type": "code",
   "execution_count": 34,
   "metadata": {},
   "outputs": [
    {
     "name": "stdout",
     "output_type": "stream",
     "text": [
      "Menu:\n",
      "Please enter 1 for indexing, 2 to search, and 3 to exit\n",
      "1. Indexzing\n",
      "2. Searching\n",
      "3. Exit\n",
      "\n",
      "2\n",
      "What's your query word or sentence?\n",
      "Ontario document\n"
     ]
    },
    {
     "data": {
      "text/plain": [
       "'London, Ont., Mayor Joe Fontana says in retrospect it was \"stupid\" of him to alter a document he submitted for expenses while he was a Liberal member of Parliament, but insists it was no forgery.Fontana took the stand Wednesday in his own defence after pleading not guilty to fraud, breach of trust and uttering forged documents from his time as a cabinet minister.He admitted making seven changes — including whiting out his wife\\'s signature and replacing it with his own — to an existing contract for a hall rental for his son\\'s 2005 wedding to reflect an event he planned for then-finance minister Ralph Goodale at the same venue.Other alterations on the contract were changing the date of the event from June 25, 2005 to Feb. 25, 2004, the word \"wedding\" to \"reception\" and the addition of a yellow sticky note saying \"misc constituents reception.\"The event didn\\'t end up going ahead at the Marconi Club, but Fontana believed the club was owed a $1,700 deposit from his MP budget. Since he had only spoken with the club\\'s president over the phone and didn\\'t have any paperwork, Fontana changed several details on the wedding contract from a few months prior and submitted it, he testified.One of the changes was to write the word original in quotation marks at the top of the document.\"I took a document that I thought was null and void...put \\'original\\' there so it wouldn\\'t be confused with anything else,\" Fontana said.During a testy cross-examination, Fontana used various terms to describe what he did to the contract — modified, changed, altered, and his most common refrain, that he just created a new document — but he bristled at Crown attorney Timothy Zuber\\'s suggestion that it was a forgery.\"Yeah, excuse me?\" Fontana said after his lawyer objected. \"Dumb, stupid, yes. I was busy, it was available...Things were harried at the time in Ottawa — a minority government.\"Zuber asked Fontana why he wouldn\\'t have just gone to the Marconi Club and asked for an invoice that he could submit.\"I submitted that document as proof,\" Fontana replied.Zuber wondered if there were any other occasions in which third-party service providers for MP functions didn\\'t provide him with a bill.\"Well no, because they wouldn\\'t be paid,\" Fontana said.\"My point exactly,\" Zuber replied.Since the Marconi Club never sent Fontana or the government a bill, Zuber suggested that meant they didn\\'t expect to be paid. Fontana suggested he took it upon himself to see that they be paid a deposit — he decided to use the same amount as he deposited for his son\\'s wedding — for reserving the hall.\"They held their hall for me on a Friday night and therefore they couldn\\'t use it for anything else,\" he testified. \"Therefore I felt obligated to pay them for the use of that hall.\"As the current mayor of London — Fontana has refused to step down — would Fontana stop doing business with someone if he got wind they were submitted altered documents, Zuber wondered.\"Probably,\" Fontana replied.Closing arguments are scheduled for Thursday, and Ontario Superior Court Judge Bruce Thomas asked the lawyers to address in their submissions, if he is to accept the defence theory, \"Did Mr. Fontana nonetheless commit an offence as set out in count 3 (forgery)?\"The Crown said that a $1,700 Government of Canada cheque was ultimately sent to the Marconi Club, where it was listed on their books as payment for Fontana\\'s son\\'s wedding.The court has heard conflicting evidence about whether government officials had been instructed to reimburse Fontana or the Marconi Club the $1,700. Fontana insisted it was intended for the club, but the Crown suggested otherwise.Zuber suggested that Fontana didn\\'t intend for the Marconi Club to put the money toward his son\\'s wedding, but that the cheque was supposed to be sent to him to \"line your pockets with $1,700 cash.\" Fontana disagreed.The president of the Marconi Club at the time testified Wednesday that he explained to the general manager that the government cheque was for a cancelled reception, but the general manager testified he did not recall that conversation.'"
      ]
     },
     "execution_count": 34,
     "metadata": {},
     "output_type": "execute_result"
    }
   ],
   "source": [
    "main()"
   ]
  },
  {
   "cell_type": "code",
   "execution_count": null,
   "metadata": {},
   "outputs": [],
   "source": []
  }
 ],
 "metadata": {
  "kernelspec": {
   "display_name": "Python 3",
   "language": "python",
   "name": "python3"
  },
  "language_info": {
   "codemirror_mode": {
    "name": "ipython",
    "version": 3
   },
   "file_extension": ".py",
   "mimetype": "text/x-python",
   "name": "python",
   "nbconvert_exporter": "python",
   "pygments_lexer": "ipython3",
   "version": "3.8.5"
  }
 },
 "nbformat": 4,
 "nbformat_minor": 4
}
