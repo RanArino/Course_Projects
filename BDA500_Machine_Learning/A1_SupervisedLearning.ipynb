{
 "cells": [
  {
   "cell_type": "markdown",
   "metadata": {},
   "source": [
    "# Assignment 01\n",
    "\n",
    "- Name: Ran Arino\n",
    "- Student ID: 153073200\n",
    "- Email: rarino@myseneca.ca\n",
    "- Course: Machine Learning\n",
    "- Course ID: BDA500NAA.05380.2237\n",
    "- Professor: Dr. Amir Moslemi"
   ]
  },
  {
   "cell_type": "code",
   "execution_count": 1,
   "metadata": {},
   "outputs": [],
   "source": [
    "import numpy as np\n",
    "import pandas as pd\n",
    "import matplotlib.pyplot as plt\n",
    "\n",
    "from sklearn.model_selection import train_test_split\n",
    "from sklearn.metrics import confusion_matrix"
   ]
  },
  {
   "cell_type": "markdown",
   "metadata": {},
   "source": [
    "# 1. Data Preparation & Observation"
   ]
  },
  {
   "cell_type": "code",
   "execution_count": 2,
   "metadata": {},
   "outputs": [
    {
     "data": {
      "text/html": [
       "<div>\n",
       "<style scoped>\n",
       "    .dataframe tbody tr th:only-of-type {\n",
       "        vertical-align: middle;\n",
       "    }\n",
       "\n",
       "    .dataframe tbody tr th {\n",
       "        vertical-align: top;\n",
       "    }\n",
       "\n",
       "    .dataframe thead th {\n",
       "        text-align: right;\n",
       "    }\n",
       "</style>\n",
       "<table border=\"1\" class=\"dataframe\">\n",
       "  <thead>\n",
       "    <tr style=\"text-align: right;\">\n",
       "      <th></th>\n",
       "      <th>age</th>\n",
       "      <th>year</th>\n",
       "      <th>axillary</th>\n",
       "      <th>survival</th>\n",
       "    </tr>\n",
       "  </thead>\n",
       "  <tbody>\n",
       "    <tr>\n",
       "      <th>0</th>\n",
       "      <td>30</td>\n",
       "      <td>64</td>\n",
       "      <td>1</td>\n",
       "      <td>1</td>\n",
       "    </tr>\n",
       "    <tr>\n",
       "      <th>1</th>\n",
       "      <td>30</td>\n",
       "      <td>62</td>\n",
       "      <td>3</td>\n",
       "      <td>1</td>\n",
       "    </tr>\n",
       "    <tr>\n",
       "      <th>2</th>\n",
       "      <td>30</td>\n",
       "      <td>65</td>\n",
       "      <td>0</td>\n",
       "      <td>1</td>\n",
       "    </tr>\n",
       "    <tr>\n",
       "      <th>3</th>\n",
       "      <td>31</td>\n",
       "      <td>59</td>\n",
       "      <td>2</td>\n",
       "      <td>1</td>\n",
       "    </tr>\n",
       "    <tr>\n",
       "      <th>4</th>\n",
       "      <td>31</td>\n",
       "      <td>65</td>\n",
       "      <td>4</td>\n",
       "      <td>1</td>\n",
       "    </tr>\n",
       "  </tbody>\n",
       "</table>\n",
       "</div>"
      ],
      "text/plain": [
       "   age  year  axillary  survival\n",
       "0   30    64         1         1\n",
       "1   30    62         3         1\n",
       "2   30    65         0         1\n",
       "3   31    59         2         1\n",
       "4   31    65         4         1"
      ]
     },
     "execution_count": 2,
     "metadata": {},
     "output_type": "execute_result"
    }
   ],
   "source": [
    "# 1-1: load dataset\n",
    "\n",
    "col_names = ['age', 'year', 'axillary', 'survival']\n",
    "df = pd.read_csv('haberman.csv', header=None, names=col_names)\n",
    "df.head()"
   ]
  },
  {
   "cell_type": "code",
   "execution_count": 3,
   "metadata": {},
   "outputs": [
    {
     "name": "stdout",
     "output_type": "stream",
     "text": [
      "Dimenison:  (306, 4)\n",
      "\n",
      "Data Types:\n",
      "age         int64\n",
      "year        int64\n",
      "axillary    int64\n",
      "survival    int64\n",
      "dtype: object\n",
      "\n",
      "Missing Data: \n",
      "age         0\n",
      "year        0\n",
      "axillary    0\n",
      "survival    0\n",
      "dtype: int64\n"
     ]
    }
   ],
   "source": [
    "# 1-2: check meta data and missing values\n",
    "\n",
    "# dimention\n",
    "print(\"Dimenison: \", df.shape)\n",
    "print('')\n",
    "# dtypes\n",
    "print('Data Types:')\n",
    "print(df.dtypes)\n",
    "print('')\n",
    "# missing data \n",
    "print('Missing Data: ')\n",
    "print(df.isna().sum())"
   ]
  },
  {
   "cell_type": "code",
   "execution_count": 4,
   "metadata": {},
   "outputs": [
    {
     "name": "stdout",
     "output_type": "stream",
     "text": [
      "survival\n",
      "1    225\n",
      "0     81\n",
      "Name: count, dtype: int64\n"
     ]
    }
   ],
   "source": [
    "# 1-3: change target label\n",
    "\n",
    "df['survival'] = df['survival'].map({1: 1, 2: 0})\n",
    "print(df['survival'].value_counts())"
   ]
  },
  {
   "cell_type": "code",
   "execution_count": 5,
   "metadata": {},
   "outputs": [
    {
     "data": {
      "text/html": [
       "<div>\n",
       "<style scoped>\n",
       "    .dataframe tbody tr th:only-of-type {\n",
       "        vertical-align: middle;\n",
       "    }\n",
       "\n",
       "    .dataframe tbody tr th {\n",
       "        vertical-align: top;\n",
       "    }\n",
       "\n",
       "    .dataframe thead th {\n",
       "        text-align: right;\n",
       "    }\n",
       "</style>\n",
       "<table border=\"1\" class=\"dataframe\">\n",
       "  <thead>\n",
       "    <tr style=\"text-align: right;\">\n",
       "      <th></th>\n",
       "      <th>age</th>\n",
       "      <th>year</th>\n",
       "      <th>axillary</th>\n",
       "      <th>survival</th>\n",
       "    </tr>\n",
       "  </thead>\n",
       "  <tbody>\n",
       "    <tr>\n",
       "      <th>count</th>\n",
       "      <td>306.000000</td>\n",
       "      <td>306.000000</td>\n",
       "      <td>306.000000</td>\n",
       "      <td>306.000000</td>\n",
       "    </tr>\n",
       "    <tr>\n",
       "      <th>mean</th>\n",
       "      <td>52.457516</td>\n",
       "      <td>62.852941</td>\n",
       "      <td>4.026144</td>\n",
       "      <td>0.735294</td>\n",
       "    </tr>\n",
       "    <tr>\n",
       "      <th>std</th>\n",
       "      <td>10.803452</td>\n",
       "      <td>3.249405</td>\n",
       "      <td>7.189654</td>\n",
       "      <td>0.441899</td>\n",
       "    </tr>\n",
       "    <tr>\n",
       "      <th>min</th>\n",
       "      <td>30.000000</td>\n",
       "      <td>58.000000</td>\n",
       "      <td>0.000000</td>\n",
       "      <td>0.000000</td>\n",
       "    </tr>\n",
       "    <tr>\n",
       "      <th>25%</th>\n",
       "      <td>44.000000</td>\n",
       "      <td>60.000000</td>\n",
       "      <td>0.000000</td>\n",
       "      <td>0.000000</td>\n",
       "    </tr>\n",
       "    <tr>\n",
       "      <th>50%</th>\n",
       "      <td>52.000000</td>\n",
       "      <td>63.000000</td>\n",
       "      <td>1.000000</td>\n",
       "      <td>1.000000</td>\n",
       "    </tr>\n",
       "    <tr>\n",
       "      <th>75%</th>\n",
       "      <td>60.750000</td>\n",
       "      <td>65.750000</td>\n",
       "      <td>4.000000</td>\n",
       "      <td>1.000000</td>\n",
       "    </tr>\n",
       "    <tr>\n",
       "      <th>max</th>\n",
       "      <td>83.000000</td>\n",
       "      <td>69.000000</td>\n",
       "      <td>52.000000</td>\n",
       "      <td>1.000000</td>\n",
       "    </tr>\n",
       "  </tbody>\n",
       "</table>\n",
       "</div>"
      ],
      "text/plain": [
       "              age        year    axillary    survival\n",
       "count  306.000000  306.000000  306.000000  306.000000\n",
       "mean    52.457516   62.852941    4.026144    0.735294\n",
       "std     10.803452    3.249405    7.189654    0.441899\n",
       "min     30.000000   58.000000    0.000000    0.000000\n",
       "25%     44.000000   60.000000    0.000000    0.000000\n",
       "50%     52.000000   63.000000    1.000000    1.000000\n",
       "75%     60.750000   65.750000    4.000000    1.000000\n",
       "max     83.000000   69.000000   52.000000    1.000000"
      ]
     },
     "execution_count": 5,
     "metadata": {},
     "output_type": "execute_result"
    }
   ],
   "source": [
    "# 1-4: fundamental statistics\n",
    "df.describe()"
   ]
  },
  {
   "cell_type": "code",
   "execution_count": 6,
   "metadata": {},
   "outputs": [
    {
     "name": "stdout",
     "output_type": "stream",
     "text": [
      "New dimention:  (305, 4)\n"
     ]
    }
   ],
   "source": [
    "# 1-4 Cont.: removing an outlier \n",
    "df = df[df['axillary'] != 52]\n",
    "print(\"New dimention: \", df.shape)"
   ]
  },
  {
   "cell_type": "code",
   "execution_count": 7,
   "metadata": {},
   "outputs": [
    {
     "data": {
      "image/png": "[encoded data removed]",
      "text/plain": [
       "<Figure size 1500x1000 with 4 Axes>"
      ]
     },
     "metadata": {},
     "output_type": "display_data"
    }
   ],
   "source": [
    "# 1-5: histogram for each data\n",
    "R, C = 2, 2\n",
    "fig, ax = plt.subplots(nrows=R, ncols=C, figsize=(15, 10))\n",
    "\n",
    "\n",
    "for i, col in enumerate(df.columns):\n",
    "    x, y = i // R, i % C\n",
    "    data_survived = df[df['survival'] == 1][col]\n",
    "    data_died = df[df['survival'] == 0][col]\n",
    "\n",
    "    ax[x][y].hist([data_survived, data_died], color=['green', 'red'], alpha=0.7, stacked=True)\n",
    "    ax[x][y].set_title(f'Hist({col})')\n",
    "\n",
    "fig.suptitle(\"Histogram of each attribute; green = 'survived' & red = 'died'.\", size=20)\n",
    "plt.show()"
   ]
  },
  {
   "cell_type": "markdown",
   "metadata": {},
   "source": [
    "# 2. Model Creation"
   ]
  },
  {
   "cell_type": "code",
   "execution_count": 36,
   "metadata": {},
   "outputs": [],
   "source": [
    "from sklearn.linear_model import LogisticRegression\n",
    "from sklearn.svm import LinearSVC\n",
    "from sklearn.model_selection import GridSearchCV\n",
    "from sklearn.svm import SVC\n",
    "from sklearn.preprocessing import StandardScaler"
   ]
  },
  {
   "cell_type": "code",
   "execution_count": 37,
   "metadata": {},
   "outputs": [
    {
     "name": "stdout",
     "output_type": "stream",
     "text": [
      "Train -> x: 213, y: 213\n",
      "Test -> x: 92, y: 92\n"
     ]
    }
   ],
   "source": [
    "# 2-1: splitting dataset\n",
    "\n",
    "X = np.array(df[['axillary', 'age', 'year']])\n",
    "y = np.array(df['survival'])\n",
    "\n",
    "# scale changes\n",
    "scaler = StandardScaler()\n",
    "X_ss = scaler.fit_transform(X)\n",
    "\n",
    "# train-test splitting\n",
    "X_train, X_test, y_train, y_test = train_test_split(X_ss, y, test_size=0.3, random_state=42)\n",
    "\n",
    "print(f'Train -> x: {len(X_train)}, y: {len(y_train)}')\n",
    "print(f'Test -> x: {len(X_test)}, y: {len(y_test)}')"
   ]
  },
  {
   "cell_type": "code",
   "execution_count": 38,
   "metadata": {},
   "outputs": [
    {
     "data": {
      "text/plain": [
       "array([[ 6, 17],\n",
       "       [ 8, 61]], dtype=int64)"
      ]
     },
     "execution_count": 38,
     "metadata": {},
     "output_type": "execute_result"
    }
   ],
   "source": [
    "# 2-2: apply logistic regression\n",
    "log_reg = LogisticRegression()\n",
    "log_reg.fit(X_train, y_train)\n",
    "yhat_log_reg = log_reg.predict(X_test)\n",
    "cm_log_reg = confusion_matrix(y_test, yhat_log_reg)\n",
    "cm_log_reg"
   ]
  },
  {
   "cell_type": "code",
   "execution_count": 45,
   "metadata": {},
   "outputs": [
    {
     "name": "stdout",
     "output_type": "stream",
     "text": [
      "Best C:  0.1\n"
     ]
    },
    {
     "data": {
      "text/plain": [
       "array([[ 6, 17],\n",
       "       [ 9, 60]], dtype=int64)"
      ]
     },
     "execution_count": 45,
     "metadata": {},
     "output_type": "execute_result"
    }
   ],
   "source": [
    "# 2-3: apply Linear SVM model\n",
    "\n",
    "# find the best parameter \"C\"\n",
    "gridsearchCV = GridSearchCV(LinearSVC(dual='auto'), {'C': [0.1, 1, 10, 100]}, cv=5)\n",
    "grid_search = gridsearchCV.fit(X_ss, y)\n",
    "best_C = grid_search.best_estimator_.C\n",
    "print('Best C: ', best_C)\n",
    "\n",
    "# fit model on training data based on the best parameter \n",
    "lr_svm = LinearSVC(C=best_C, loss='hinge', dual='auto')\n",
    "lr_svm.fit(X_train, y_train)\n",
    "yhat_lr_svm = lr_svm.predict(X_test)\n",
    "cm_lr_svm = confusion_matrix(y_test, yhat_lr_svm)\n",
    "cm_lr_svm"
   ]
  },
  {
   "cell_type": "code",
   "execution_count": 46,
   "metadata": {},
   "outputs": [
    {
     "name": "stdout",
     "output_type": "stream",
     "text": [
      "Best coef0: 0.1, \n",
      "Best C: 10\n"
     ]
    },
    {
     "data": {
      "text/plain": [
       "array([[ 6, 17],\n",
       "       [10, 59]], dtype=int64)"
      ]
     },
     "execution_count": 46,
     "metadata": {},
     "output_type": "execute_result"
    }
   ],
   "source": [
    "# 2-4 apply SVM model with polynomial kernel trick\n",
    "\n",
    "# find the best hyperparameters; coef0 and C\n",
    "gridsearchCV = GridSearchCV(SVC(kernel='poly', degree=2), \n",
    "                            {'coef0': [0.1, 1, 10, 100], 'C': [0.1, 1, 10, 100]}, \n",
    "                            cv=5)\n",
    "grid_search = gridsearchCV.fit(X_ss, y)\n",
    "best_coef0 = grid_search.best_estimator_.coef0\n",
    "best_C = grid_search.best_estimator_.C\n",
    "print(f'Best coef0: {best_coef0}, \\nBest C: {best_C}')\n",
    "\n",
    "# set classifier\n",
    "poly_kernel_svm = SVC(kernel='poly', degree=2, coef0=best_coef0, C=best_C)\n",
    "poly_kernel_svm.fit(X_train, y_train)\n",
    "yhat_poly_svm = poly_kernel_svm.predict(X_test)\n",
    "cm_poly_svm = confusion_matrix(y_test, yhat_poly_svm)\n",
    "cm_poly_svm"
   ]
  },
  {
   "cell_type": "markdown",
   "metadata": {},
   "source": [
    "# Model Evaluations"
   ]
  },
  {
   "cell_type": "code",
   "execution_count": 58,
   "metadata": {},
   "outputs": [
    {
     "data": {
      "text/html": [
       "<div>\n",
       "<style scoped>\n",
       "    .dataframe tbody tr th:only-of-type {\n",
       "        vertical-align: middle;\n",
       "    }\n",
       "\n",
       "    .dataframe tbody tr th {\n",
       "        vertical-align: top;\n",
       "    }\n",
       "\n",
       "    .dataframe thead th {\n",
       "        text-align: right;\n",
       "    }\n",
       "</style>\n",
       "<table border=\"1\" class=\"dataframe\">\n",
       "  <thead>\n",
       "    <tr style=\"text-align: right;\">\n",
       "      <th></th>\n",
       "      <th>model</th>\n",
       "      <th>measure</th>\n",
       "      <th>score</th>\n",
       "    </tr>\n",
       "  </thead>\n",
       "  <tbody>\n",
       "    <tr>\n",
       "      <th>0</th>\n",
       "      <td>LR</td>\n",
       "      <td>accuracy</td>\n",
       "      <td>0.728261</td>\n",
       "    </tr>\n",
       "    <tr>\n",
       "      <th>1</th>\n",
       "      <td>LR</td>\n",
       "      <td>recall</td>\n",
       "      <td>0.884058</td>\n",
       "    </tr>\n",
       "    <tr>\n",
       "      <th>2</th>\n",
       "      <td>LR</td>\n",
       "      <td>precision</td>\n",
       "      <td>0.782051</td>\n",
       "    </tr>\n",
       "    <tr>\n",
       "      <th>3</th>\n",
       "      <td>LR</td>\n",
       "      <td>f1</td>\n",
       "      <td>0.829932</td>\n",
       "    </tr>\n",
       "    <tr>\n",
       "      <th>4</th>\n",
       "      <td>LSVM</td>\n",
       "      <td>accuracy</td>\n",
       "      <td>0.717391</td>\n",
       "    </tr>\n",
       "    <tr>\n",
       "      <th>5</th>\n",
       "      <td>LSVM</td>\n",
       "      <td>recall</td>\n",
       "      <td>0.869565</td>\n",
       "    </tr>\n",
       "    <tr>\n",
       "      <th>6</th>\n",
       "      <td>LSVM</td>\n",
       "      <td>precision</td>\n",
       "      <td>0.779221</td>\n",
       "    </tr>\n",
       "    <tr>\n",
       "      <th>7</th>\n",
       "      <td>LSVM</td>\n",
       "      <td>f1</td>\n",
       "      <td>0.821918</td>\n",
       "    </tr>\n",
       "    <tr>\n",
       "      <th>8</th>\n",
       "      <td>PSVM</td>\n",
       "      <td>accuracy</td>\n",
       "      <td>0.706522</td>\n",
       "    </tr>\n",
       "    <tr>\n",
       "      <th>9</th>\n",
       "      <td>PSVM</td>\n",
       "      <td>recall</td>\n",
       "      <td>0.855072</td>\n",
       "    </tr>\n",
       "    <tr>\n",
       "      <th>10</th>\n",
       "      <td>PSVM</td>\n",
       "      <td>precision</td>\n",
       "      <td>0.776316</td>\n",
       "    </tr>\n",
       "    <tr>\n",
       "      <th>11</th>\n",
       "      <td>PSVM</td>\n",
       "      <td>f1</td>\n",
       "      <td>0.813793</td>\n",
       "    </tr>\n",
       "  </tbody>\n",
       "</table>\n",
       "</div>"
      ],
      "text/plain": [
       "   model    measure     score\n",
       "0     LR   accuracy  0.728261\n",
       "1     LR     recall  0.884058\n",
       "2     LR  precision  0.782051\n",
       "3     LR         f1  0.829932\n",
       "4   LSVM   accuracy  0.717391\n",
       "5   LSVM     recall  0.869565\n",
       "6   LSVM  precision  0.779221\n",
       "7   LSVM         f1  0.821918\n",
       "8   PSVM   accuracy  0.706522\n",
       "9   PSVM     recall  0.855072\n",
       "10  PSVM  precision  0.776316\n",
       "11  PSVM         f1  0.813793"
      ]
     },
     "execution_count": 58,
     "metadata": {},
     "output_type": "execute_result"
    }
   ],
   "source": [
    "# 3-1: Score data frame\n",
    "\n",
    "# create the confusion matrix of each model\n",
    "cm_dict = {'LR': cm_log_reg, 'LSVM': cm_lr_svm, \"PSVM\": cm_poly_svm}\n",
    "# define names of three models abd four measures\n",
    "models = list(cm_dict.keys())\n",
    "measures = ['accuracy', 'recall', 'precision', 'f1']\n",
    "\n",
    "\n",
    "# calculate accuracy, precision, recall and f1 score for each model\n",
    "scores = []\n",
    "for key in cm_dict.keys():\n",
    "    cm = cm_dict[key]\n",
    "    accuracy = np.trace(cm) / np.sum(cm)\n",
    "    recall = cm[1, 1] / np.sum(cm[1, :])\n",
    "    precision = cm[1,1] / np.sum(cm[:, 1])\n",
    "    f1 = 2 * (precision*recall) / (precision + recall)\n",
    "    scores.extend([accuracy, recall, precision, f1])\n",
    "    \n",
    "# define data frame for all score\n",
    "score_df = pd.DataFrame(\n",
    "    {'model': np.repeat(models, len(measures)),\n",
    "    'measure': np.tile(measures, len(models)),\n",
    "    'score': scores\n",
    "    })\n",
    "\n",
    "score_df"
   ]
  },
  {
   "cell_type": "code",
   "execution_count": 66,
   "metadata": {},
   "outputs": [
    {
     "data": {
      "image/png": "[encoded data removed]",
      "text/plain": [
       "<Figure size 1000x800 with 4 Axes>"
      ]
     },
     "metadata": {},
     "output_type": "display_data"
    }
   ],
   "source": [
    "# show visualization\n",
    "fig, ax = plt.subplots(nrows=2, ncols=2, figsize=(10, 8))\n",
    "\n",
    "for i, ms in enumerate(measures):\n",
    "    r, c = i // 2, i % 2\n",
    "    # df for each measure\n",
    "    part_df = score_df[score_df['measure'] == ms]\n",
    "    \n",
    "    ax[r][c].scatter(x=part_df['model'], y=part_df['score'])\n",
    "    ax[r][c].set_title(f'{ms}')"
   ]
  },
  {
   "cell_type": "code",
   "execution_count": null,
   "metadata": {},
   "outputs": [],
   "source": []
  }
 ],
 "metadata": {
  "kernelspec": {
   "display_name": "Python 3",
   "language": "python",
   "name": "python3"
  },
  "language_info": {
   "codemirror_mode": {
    "name": "ipython",
    "version": 3
   },
   "file_extension": ".py",
   "mimetype": "text/x-python",
   "name": "python",
   "nbconvert_exporter": "python",
   "pygments_lexer": "ipython3",
   "version": "3.11.7"
  }
 },
 "nbformat": 4,
 "nbformat_minor": 2
}
