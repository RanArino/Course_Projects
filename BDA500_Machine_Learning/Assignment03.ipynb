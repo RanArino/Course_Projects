{
 "cells": [
  {
   "cell_type": "markdown",
   "metadata": {},
   "source": [
    "# Assignment 02\n",
    "\n",
    "- Name: Ran Arino\n",
    "- Student ID: 153073200\n",
    "- Email: rarino@myseneca.ca\n",
    "- Course: Machine Learning\n",
    "- Course ID: BDA500NAA.05380.2237\n",
    "- Professor: Dr. Amir Moslemi"
   ]
  },
  {
   "cell_type": "code",
   "execution_count": 17,
   "metadata": {},
   "outputs": [],
   "source": [
    "import numpy as np\n",
    "import pandas as pd\n",
    "import matplotlib.pyplot as plt\n",
    "\n",
    "from keras.applications.vgg16 import VGG16, preprocess_input\n",
    "from keras.models import Model, Sequential\n",
    "from keras.layers import Dense, Flatten, Dropout, Input\n",
    "from keras.optimizers import Adam\n",
    "from sklearn.model_selection import train_test_split"
   ]
  },
  {
   "cell_type": "code",
   "execution_count": 2,
   "metadata": {},
   "outputs": [],
   "source": [
    "# load dataset\n",
    "from mat4py import loadmat \n",
    "data = loadmat('CatDog.mat')"
   ]
  },
  {
   "cell_type": "code",
   "execution_count": 3,
   "metadata": {},
   "outputs": [
    {
     "name": "stdout",
     "output_type": "stream",
     "text": [
      "Observations: 242, Features: 4096\n",
      "Dimension: (242,)\n"
     ]
    }
   ],
   "source": [
    "# get the feature matrix\n",
    "X = np.array(data['X']).T\n",
    "print(f\"Observations: {X.shape[0]}, Features: {X.shape[1]}\")\n",
    "\n",
    "# get the target vector\n",
    "y = np.array(data['G'])\n",
    "print(f'Dimension: {y.shape}')"
   ]
  },
  {
   "cell_type": "code",
   "execution_count": 46,
   "metadata": {},
   "outputs": [
    {
     "name": "stdout",
     "output_type": "stream",
     "text": [
      "(242, 64, 64, 3)\n"
     ]
    }
   ],
   "source": [
    "# normalizing data\n",
    "X_min, X_max = X.min(), X.max()\n",
    "X_norm = (X - X_min) / (X_max - X_min)\n",
    "# reshape data\n",
    "X_norm_ = X_norm.reshape(242, 64, 64, 1)\n",
    "# converting from gray scale to the RGB scale\n",
    "X_norm_ = np.repeat(X_norm_, 3, axis=-1)\n",
    "# transpose the data\n",
    "trans_X_norm_ = np.transpose(X_norm_, (0, 2, 1, 3))\n",
    "# Flip along the second axis\n",
    "comp_X = np.flip(trans_X_norm_, axis=2)\n",
    "\n",
    "print(comp_X.shape)"
   ]
  },
  {
   "cell_type": "code",
   "execution_count": 51,
   "metadata": {},
   "outputs": [
    {
     "data": {
      "text/plain": [
       "<matplotlib.image.AxesImage at 0x1b8b1373c10>"
      ]
     },
     "execution_count": 51,
     "metadata": {},
     "output_type": "execute_result"
    },
    {
     "data": {
      "image/png": "[encoded data removed]",
      "text/plain": [
       "<Figure size 640x480 with 1 Axes>"
      ]
     },
     "metadata": {},
     "output_type": "display_data"
    }
   ],
   "source": [
    "# show result\n",
    "plt.imshow(comp_X[0])"
   ]
  },
  {
   "cell_type": "code",
   "execution_count": 63,
   "metadata": {},
   "outputs": [
    {
     "name": "stdout",
     "output_type": "stream",
     "text": [
      "Training: \n",
      "X: (169, 64, 64, 3), y: (169,)\n",
      "Test: \n",
      "X: (73, 64, 64, 3), y: (73,)\n"
     ]
    }
   ],
   "source": [
    "# apply preprocessing data, then change the ready-to-fit the model\n",
    "X_ready = preprocess_input(comp_X)\n",
    "\n",
    "# train and test split\n",
    "X_train, X_test, y_train, y_test = train_test_split(X_ready, y, test_size=0.3, random_state=0)\n",
    "\n",
    "print('Training: ')\n",
    "print(f'X: {X_train.shape}, y: {y_train.shape}')\n",
    "print('Test: ')\n",
    "print(f'X: {X_test.shape}, y: {y_test.shape}')"
   ]
  },
  {
   "cell_type": "code",
   "execution_count": 60,
   "metadata": {},
   "outputs": [
    {
     "name": "stdout",
     "output_type": "stream",
     "text": [
      "Model: \"vgg16\"\n",
      "_________________________________________________________________\n",
      " Layer (type)                Output Shape              Param #   \n",
      "=================================================================\n",
      " input_4 (InputLayer)        [(None, 64, 64, 3)]       0         \n",
      "                                                                 \n",
      " block1_conv1 (Conv2D)       (None, 64, 64, 64)        1792      \n",
      "                                                                 \n",
      " block1_conv2 (Conv2D)       (None, 64, 64, 64)        36928     \n",
      "                                                                 \n",
      " block1_pool (MaxPooling2D)  (None, 32, 32, 64)        0         \n",
      "                                                                 \n",
      " block2_conv1 (Conv2D)       (None, 32, 32, 128)       73856     \n",
      "                                                                 \n",
      " block2_conv2 (Conv2D)       (None, 32, 32, 128)       147584    \n",
      "                                                                 \n",
      " block2_pool (MaxPooling2D)  (None, 16, 16, 128)       0         \n",
      "                                                                 \n",
      " block3_conv1 (Conv2D)       (None, 16, 16, 256)       295168    \n",
      "                                                                 \n",
      " block3_conv2 (Conv2D)       (None, 16, 16, 256)       590080    \n",
      "                                                                 \n",
      " block3_conv3 (Conv2D)       (None, 16, 16, 256)       590080    \n",
      "                                                                 \n",
      " block3_pool (MaxPooling2D)  (None, 8, 8, 256)         0         \n",
      "                                                                 \n",
      " block4_conv1 (Conv2D)       (None, 8, 8, 512)         1180160   \n",
      "                                                                 \n",
      " block4_conv2 (Conv2D)       (None, 8, 8, 512)         2359808   \n",
      "                                                                 \n",
      " block4_conv3 (Conv2D)       (None, 8, 8, 512)         2359808   \n",
      "                                                                 \n",
      " block4_pool (MaxPooling2D)  (None, 4, 4, 512)         0         \n",
      "                                                                 \n",
      " block5_conv1 (Conv2D)       (None, 4, 4, 512)         2359808   \n",
      "                                                                 \n",
      " block5_conv2 (Conv2D)       (None, 4, 4, 512)         2359808   \n",
      "                                                                 \n",
      " block5_conv3 (Conv2D)       (None, 4, 4, 512)         2359808   \n",
      "                                                                 \n",
      " block5_pool (MaxPooling2D)  (None, 2, 2, 512)         0         \n",
      "                                                                 \n",
      "=================================================================\n",
      "Total params: 14714688 (56.13 MB)\n",
      "Trainable params: 14714688 (56.13 MB)\n",
      "Non-trainable params: 0 (0.00 Byte)\n",
      "_________________________________________________________________\n"
     ]
    }
   ],
   "source": [
    "# loading VGG16\n",
    "base_model = VGG16(weights='imagenet', include_top=False, input_tensor=Input(shape=(64, 64, 3)))\n",
    "\n",
    "# Freeze the layers of VGG16\n",
    "for layer in base_model.layers:\n",
    "    layer.trainable = False\n",
    "\n",
    "# show summary\n",
    "base_model.summary()"
   ]
  },
  {
   "cell_type": "code",
   "execution_count": null,
   "metadata": {},
   "outputs": [],
   "source": [
    "base_model.fit()"
   ]
  },
  {
   "cell_type": "code",
   "execution_count": 68,
   "metadata": {},
   "outputs": [
    {
     "name": "stdout",
     "output_type": "stream",
     "text": [
      "Model: \"sequential_6\"\n",
      "_________________________________________________________________\n",
      " Layer (type)                Output Shape              Param #   \n",
      "=================================================================\n",
      " vgg16 (Functional)          (None, 2, 2, 512)         14714688  \n",
      "                                                                 \n",
      " flatten_6 (Flatten)         (None, 2048)              0         \n",
      "                                                                 \n",
      " dense_18 (Dense)            (None, 128)               262272    \n",
      "                                                                 \n",
      " dense_19 (Dense)            (None, 64)                8256      \n",
      "                                                                 \n",
      " dense_20 (Dense)            (None, 1)                 65        \n",
      "                                                                 \n",
      "=================================================================\n",
      "Total params: 14985281 (57.16 MB)\n",
      "Trainable params: 14985281 (57.16 MB)\n",
      "Non-trainable params: 0 (0.00 Byte)\n",
      "_________________________________________________________________\n"
     ]
    }
   ],
   "source": [
    "# create new model\n",
    "model = Sequential()\n",
    "# add VGG16 model\n",
    "model.add(base_model)\n",
    "\n",
    "# new layers for binary classification\n",
    "model.add(Flatten())\n",
    "model.add(Dense(128, activation='relu'))\n",
    "model.add(Dense(64, activation='relu'))\n",
    "model.add(Dense(1, activation='sigmoid'))\n",
    "\n",
    "# compile the model\n",
    "model.compile(optimizer='rmsprop', loss='binary_crossentropy', metrics=['accuracy'])\n",
    "\n",
    "# model summary\n",
    "model.summary()"
   ]
  },
  {
   "cell_type": "code",
   "execution_count": 69,
   "metadata": {},
   "outputs": [
    {
     "name": "stdout",
     "output_type": "stream",
     "text": [
      "Epoch 1/10\n",
      "11/11 [==============================] - 12s 830ms/step - loss: 0.6933 - accuracy: 0.4438 - val_loss: 0.6931 - val_accuracy: 0.5342\n",
      "Epoch 2/10\n",
      "11/11 [==============================] - 9s 802ms/step - loss: 0.6932 - accuracy: 0.4675 - val_loss: 0.6931 - val_accuracy: 0.5342\n",
      "Epoch 3/10\n",
      "11/11 [==============================] - 11s 1s/step - loss: 0.6932 - accuracy: 0.4852 - val_loss: 0.6932 - val_accuracy: 0.4658\n",
      "Epoch 4/10\n",
      "11/11 [==============================] - 15s 1s/step - loss: 0.6932 - accuracy: 0.5148 - val_loss: 0.6932 - val_accuracy: 0.4658\n",
      "Epoch 5/10\n",
      "11/11 [==============================] - 19s 2s/step - loss: 0.6931 - accuracy: 0.5148 - val_loss: 0.6933 - val_accuracy: 0.4658\n",
      "Epoch 6/10\n",
      "11/11 [==============================] - 14s 1s/step - loss: 0.6931 - accuracy: 0.5148 - val_loss: 0.6933 - val_accuracy: 0.4658\n",
      "Epoch 7/10\n",
      "11/11 [==============================] - 12s 1s/step - loss: 0.6932 - accuracy: 0.5148 - val_loss: 0.6934 - val_accuracy: 0.4658\n",
      "Epoch 8/10\n",
      "11/11 [==============================] - 11s 1s/step - loss: 0.6931 - accuracy: 0.5148 - val_loss: 0.6934 - val_accuracy: 0.4658\n",
      "Epoch 9/10\n",
      "11/11 [==============================] - 14s 1s/step - loss: 0.6931 - accuracy: 0.5148 - val_loss: 0.6935 - val_accuracy: 0.4658\n",
      "Epoch 10/10\n",
      "11/11 [==============================] - ETA: 0s - loss: 0.6931 - accuracy: 0.5148"
     ]
    }
   ],
   "source": [
    "model.fit(X_train, y_train, epochs=10, batch_size=16, validation_data=(X_test, y_test))"
   ]
  },
  {
   "cell_type": "code",
   "execution_count": null,
   "metadata": {},
   "outputs": [],
   "source": []
  }
 ],
 "metadata": {
  "kernelspec": {
   "display_name": "Python 3",
   "language": "python",
   "name": "python3"
  },
  "language_info": {
   "codemirror_mode": {
    "name": "ipython",
    "version": 3
   },
   "file_extension": ".py",
   "mimetype": "text/x-python",
   "name": "python",
   "nbconvert_exporter": "python",
   "pygments_lexer": "ipython3",
   "version": "3.11.6"
  }
 },
 "nbformat": 4,
 "nbformat_minor": 2
}
