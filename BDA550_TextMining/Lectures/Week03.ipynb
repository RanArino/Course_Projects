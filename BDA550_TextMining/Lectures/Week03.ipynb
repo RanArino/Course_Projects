{
 "cells": [
  {
   "cell_type": "code",
   "execution_count": 3,
   "metadata": {},
   "outputs": [
    {
     "name": "stdout",
     "output_type": "stream",
     "text": [
      "*** Introductory Examples for the NLTK Book ***\n",
      "Loading text1, ..., text9 and sent1, ..., sent9\n",
      "Type the name of the text or sentence to view it.\n",
      "Type: 'texts()' or 'sents()' to list the materials.\n",
      "text1: Moby Dick by Herman Melville 1851\n",
      "text2: Sense and Sensibility by Jane Austen 1811\n",
      "text3: The Book of Genesis\n",
      "text4: Inaugural Address Corpus\n",
      "text5: Chat Corpus\n",
      "text6: Monty Python and the Holy Grail\n",
      "text7: Wall Street Journal\n",
      "text8: Personals Corpus\n",
      "text9: The Man Who Was Thursday by G . K . Chesterton 1908\n"
     ]
    }
   ],
   "source": [
    "import re\n",
    "import nltk\n",
    "from nltk.book import *"
   ]
  },
  {
   "cell_type": "code",
   "execution_count": null,
   "metadata": {},
   "outputs": [],
   "source": [
    "chat_words = sorted(set(w for w in nltk.corpus.nps_chat.words))"
   ]
  },
  {
   "cell_type": "code",
   "execution_count": null,
   "metadata": {},
   "outputs": [],
   "source": []
  },
  {
   "cell_type": "code",
   "execution_count": 6,
   "metadata": {},
   "outputs": [
    {
     "data": {
      "text/plain": [
       "FreqDist({' ': 11, 'e': 6, 'o': 5, 'l': 5, 'i': 5, 'k': 4, 's': 4, 'b': 3, 'r': 3, 'y': 2, ...})"
      ]
     },
     "execution_count": 6,
     "metadata": {},
     "output_type": "execute_result"
    }
   ],
   "source": [
    "text = \"A boy likes a girl\\nThe girl likes to read\\nThe boy likes books.\"\n",
    "\n",
    "fdist1 = FreqDist(text)\n",
    "\n",
    "fdist1"
   ]
  },
  {
   "cell_type": "code",
   "execution_count": 26,
   "metadata": {},
   "outputs": [
    {
     "name": "stdout",
     "output_type": "stream",
     "text": [
      "['The', 'cool', 'boy', 'is', 'playing', 'in', 'the', 'park', '.']\n",
      "boy\n",
      "['A', 'cute', 'girl', 'is', 'reading', 'a', 'book', '.']\n",
      "girl\n",
      "['The', 'cool', 'boy', 'and', 'the', 'girl', 'are', 'friends', '.']\n",
      "boy\n",
      "girl\n",
      "['The', 'beautiful', 'girl', 'likes', 'the', 'boy', '.']\n",
      "girl\n",
      "boy\n"
     ]
    }
   ],
   "source": [
    "from nltk.probability import ConditionalFreqDist\n",
    "from nltk.tokenize import word_tokenize\n",
    "\n",
    "sentences = [\"The cool boy is playing in the park.\", \n",
    "             \"A cute girl is reading a book.\", \n",
    "             \"The cool boy and the girl are friends.\", \n",
    "             \"The beautiful girl likes the boy.\"]\n",
    "\n",
    "cfdist = ConditionalFreqDist()\n",
    "\n",
    "for sent in sentences:\n",
    "    words = word_tokenize(sent)\n",
    "    print(words)\n",
    "    for i in range(len(words) - 1):\n",
    "        if words[i] in ['boy', 'girl']:\n",
    "            print(words[i])\n",
    "            condition = words[i]\n",
    "            cfdist[condition][words[i-1]] += 1\n"
   ]
  },
  {
   "cell_type": "code",
   "execution_count": 27,
   "metadata": {},
   "outputs": [
    {
     "data": {
      "text/plain": [
       "FreqDist({'cool': 2, 'the': 1})"
      ]
     },
     "execution_count": 27,
     "metadata": {},
     "output_type": "execute_result"
    }
   ],
   "source": [
    "cfdist['boy']"
   ]
  },
  {
   "cell_type": "code",
   "execution_count": null,
   "metadata": {},
   "outputs": [],
   "source": []
  }
 ],
 "metadata": {
  "kernelspec": {
   "display_name": "Python 3",
   "language": "python",
   "name": "python3"
  },
  "language_info": {
   "codemirror_mode": {
    "name": "ipython",
    "version": 3
   },
   "file_extension": ".py",
   "mimetype": "text/x-python",
   "name": "python",
   "nbconvert_exporter": "python",
   "pygments_lexer": "ipython3",
   "version": "3.11.5"
  },
  "orig_nbformat": 4
 },
 "nbformat": 4,
 "nbformat_minor": 2
}
