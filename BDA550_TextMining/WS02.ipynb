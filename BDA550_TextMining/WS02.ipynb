{
 "cells": [
  {
   "cell_type": "code",
   "execution_count": 2,
   "metadata": {},
   "outputs": [],
   "source": [
    "import nltk\n",
    "import string"
   ]
  },
  {
   "cell_type": "markdown",
   "metadata": {},
   "source": [
    "# Question 01"
   ]
  },
  {
   "cell_type": "code",
   "execution_count": 9,
   "metadata": {},
   "outputs": [
    {
     "name": "stdout",
     "output_type": "stream",
     "text": [
      "Return:  None\n",
      "Original:  ['apple', 'banana', 'blueberry', 'cherry', 'mango', 'orange', 'pear', 'pineapple', 'raspberry', 'strawberry']\n",
      "\n",
      "- list.sort() returns None.\n",
      "- The orignial list was sorted alphabetically after running the code.\n",
      "\n"
     ]
    }
   ],
   "source": [
    "# (1): list.sort()\n",
    "words = [\n",
    "    \"mango\", \"apple\", \"banana\", \"cherry\", \"orange\", \n",
    "    \"pineapple\", \"pear\", \"strawberry\", \"blueberry\", \"raspberry\"\n",
    "]\n",
    "print(\"Return: \", words.sort())\n",
    "print(\"Original: \", words)\n",
    "\n",
    "print(\"\"\"\n",
    "- list.sort() returns None.\n",
    "- The orignial list was sorted alphabetically after running the code.\n",
    "\"\"\")"
   ]
  },
  {
   "cell_type": "code",
   "execution_count": 8,
   "metadata": {},
   "outputs": [
    {
     "name": "stdout",
     "output_type": "stream",
     "text": [
      "Return:  ['apple', 'banana', 'blueberry', 'cherry', 'mango', 'orange', 'pear', 'pineapple', 'raspberry', 'strawberry']\n",
      "Original:  ['mango', 'apple', 'banana', 'cherry', 'orange', 'pineapple', 'pear', 'strawberry', 'blueberry', 'raspberry']\n",
      "\n",
      "- The sorted(list) returns the sorted list based on alphabetical order.\n",
      "- However, the original list would not be affected by sorted() method.\n",
      "\n"
     ]
    }
   ],
   "source": [
    "# (2): sorted(list)\n",
    "words = [\n",
    "    \"mango\", \"apple\", \"banana\", \"cherry\", \"orange\", \n",
    "    \"pineapple\", \"pear\", \"strawberry\", \"blueberry\", \"raspberry\"\n",
    "]\n",
    "print(\"Return: \", sorted(words))\n",
    "print(\"Original: \", words)\n",
    "\n",
    "print(\"\"\"\n",
    "- The sorted(list) returns the sorted list based on alphabetical order.\n",
    "- However, the original list would not be affected by sorted() method.\n",
    "\"\"\")"
   ]
  },
  {
   "cell_type": "markdown",
   "metadata": {},
   "source": [
    "# Question 02"
   ]
  },
  {
   "cell_type": "code",
   "execution_count": 53,
   "metadata": {},
   "outputs": [],
   "source": [
    "# writing some text into a file 'corpus.txt'\n",
    "with open('corpus.txt', 'w') as f:\n",
    "    f.write('John Doe, the CEO of Acme Corporation, announced on January 1, 2023, that the company had a record-breaking year with profits exceeding $1 million! He said, ‘We’re thrilled with our performance and can’t wait to see what 2023 brings.’ Meanwhile, Jane Smith, the CFO, cautioned, ‘While we’re proud of our results, we must continue to invest wisely for our future.')"
   ]
  },
  {
   "cell_type": "code",
   "execution_count": 61,
   "metadata": {},
   "outputs": [
    {
     "data": {
      "text/plain": [
       "'John Doe, the CEO of Acme Corporation, announced on January 1, 2023, that the company had a record-breaking year with profits exceeding $1 million! He said, ‘We’re thrilled with our performance and can’t wait to see what 2023 brings.’ Meanwhile, Jane Smith, the CFO, cautioned, ‘While we’re proud of our results, we must continue to invest wisely for our future.'"
      ]
     },
     "execution_count": 61,
     "metadata": {},
     "output_type": "execute_result"
    }
   ],
   "source": [
    "# define function load(f)\n",
    "def load(f: str):\n",
    "    \"\"\"\n",
    "    Read the file and return a string containing the text of the file.\n",
    "\n",
    "    Prameter:\n",
    "    - 'f': the name of the file\n",
    "    \"\"\"\n",
    "    # read the file\n",
    "    with open(f) as f_read:\n",
    "        text = f_read.read()\n",
    "\n",
    "    return text\n",
    "\n",
    "text = load('corpus.txt')\n",
    "text"
   ]
  },
  {
   "cell_type": "code",
   "execution_count": 60,
   "metadata": {},
   "outputs": [
    {
     "data": {
      "text/plain": [
       "['John Doe',\n",
       " 'the',\n",
       " 'CEO',\n",
       " 'of',\n",
       " 'Acme Corporation',\n",
       " 'announced',\n",
       " 'on',\n",
       " 'January 1, 2023',\n",
       " 'that',\n",
       " 'the',\n",
       " 'company',\n",
       " 'had',\n",
       " 'a',\n",
       " 'record',\n",
       " 'breaking',\n",
       " 'year',\n",
       " 'with',\n",
       " 'profits',\n",
       " 'exceeding',\n",
       " '$1',\n",
       " 'million',\n",
       " 'He',\n",
       " 'said',\n",
       " 'We',\n",
       " 're',\n",
       " 'thrilled',\n",
       " 'with',\n",
       " 'our',\n",
       " 'performance',\n",
       " 'and',\n",
       " 'can',\n",
       " 't',\n",
       " 'wait',\n",
       " 'to',\n",
       " 'see',\n",
       " 'what',\n",
       " '2023',\n",
       " 'brings',\n",
       " 'Meanwhile',\n",
       " 'Jane Smith',\n",
       " 'the',\n",
       " 'CFO',\n",
       " 'cautioned',\n",
       " 'While',\n",
       " 'we',\n",
       " 're',\n",
       " 'proud',\n",
       " 'of',\n",
       " 'our',\n",
       " 'results',\n",
       " 'we',\n",
       " 'must',\n",
       " 'continue',\n",
       " 'to',\n",
       " 'invest',\n",
       " 'wisely',\n",
       " 'for',\n",
       " 'our',\n",
       " 'future']"
      ]
     },
     "execution_count": 60,
     "metadata": {},
     "output_type": "execute_result"
    }
   ],
   "source": [
    "# define each tokenization\n",
    "puncs = r\"[\\!\\\"\\#\\$\\%\\&\\\\\\'\\(\\)\\*\\+\\,\\-\\.\\/\\:\\;\\<\\=\\>\\?\\@\\[\\\\\\\\]\\^\\_\\`\\{\\|\\}\\~\\]\"  # from string\n",
    "accounts = r\"\\$?[0-9]+(?:\\,[0-9]{3})*(?:\\.[0-9]+)?\" # monetary accounts\n",
    "date1 = r\"\\d{1,2}[-\\/]\\d{1,2}[-\\/]\\d{4}\"  # dd-mm-yyyy, dd/mm/yyyy, mm-dd-yyyy, and mm/dd/yyyy\n",
    "date2 = r\"\\d{4}[-\\/]\\d{1,2}[-\\/]\\d{1,2}\" # yyyy-mm-dd or yyyy/mm/dd\n",
    "date3 = r\"(?:January|February|March|April|May|June|July|August|September|October|November|December)\\s\\d{1,2}(?:st|nd|rd|th)?,\\s\\d{4}\"\n",
    "date4 = r\"(?:Jan|Feb|Mar|Apr|May|Jun|Jul|Aug|Sep|Oct|Nov|Dec)\\s\\d{1,2}(?:st|nd|rd|th)?,\\s\\d{4}\"\n",
    "names = r\"[A-Z][a-z]*\\s(?:[A-Z]?\\.?\\s)?[A-Z][a-z]*\"  # name or organiation (both start with a capital letter)\n",
    "words = r\"[a-zA-Z]+\"  # one or more characters\n",
    "\n",
    "# combine all expressions \n",
    "pattern = f\"{puncs}|{accounts}|{date1}|{date2}|{date3}|{date4}|{names}|{words}\"\n",
    "\n",
    "# tokenizes various kinds of punctuation in the text \n",
    "token = nltk.regexp_tokenize(text, pattern)\n",
    "token"
   ]
  },
  {
   "cell_type": "markdown",
   "metadata": {},
   "source": [
    "# Question 03\n"
   ]
  },
  {
   "cell_type": "code",
   "execution_count": null,
   "metadata": {},
   "outputs": [],
   "source": [
    "# define all wh-words\n",
    "wh_words = ['who', 'what', 'where', 'when', 'why', 'which', 'whose', 'whom']\n"
   ]
  },
  {
   "cell_type": "code",
   "execution_count": null,
   "metadata": {},
   "outputs": [],
   "source": []
  }
 ],
 "metadata": {
  "kernelspec": {
   "display_name": "Python 3",
   "language": "python",
   "name": "python3"
  },
  "language_info": {
   "codemirror_mode": {
    "name": "ipython",
    "version": 3
   },
   "file_extension": ".py",
   "mimetype": "text/x-python",
   "name": "python",
   "nbconvert_exporter": "python",
   "pygments_lexer": "ipython3",
   "version": "3.11.5"
  },
  "orig_nbformat": 4
 },
 "nbformat": 4,
 "nbformat_minor": 2
}
