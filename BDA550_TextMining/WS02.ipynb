{
 "cells": [
  {
   "cell_type": "code",
   "execution_count": 18,
   "metadata": {},
   "outputs": [],
   "source": [
    "import nltk\n",
    "import string"
   ]
  },
  {
   "cell_type": "markdown",
   "metadata": {},
   "source": [
    "# Question 01"
   ]
  },
  {
   "cell_type": "code",
   "execution_count": 9,
   "metadata": {},
   "outputs": [
    {
     "name": "stdout",
     "output_type": "stream",
     "text": [
      "Return:  None\n",
      "Original:  ['apple', 'banana', 'blueberry', 'cherry', 'mango', 'orange', 'pear', 'pineapple', 'raspberry', 'strawberry']\n",
      "\n",
      "- list.sort() returns None.\n",
      "- The orignial list was sorted alphabetically after running the code.\n",
      "\n"
     ]
    }
   ],
   "source": [
    "# (1): list.sort()\n",
    "words = [\n",
    "    \"mango\", \"apple\", \"banana\", \"cherry\", \"orange\", \n",
    "    \"pineapple\", \"pear\", \"strawberry\", \"blueberry\", \"raspberry\"\n",
    "]\n",
    "print(\"Return: \", words.sort())\n",
    "print(\"Original: \", words)\n",
    "\n",
    "print(\"\"\"\n",
    "- list.sort() returns None.\n",
    "- The orignial list was sorted alphabetically after running the code.\n",
    "\"\"\")"
   ]
  },
  {
   "cell_type": "code",
   "execution_count": 8,
   "metadata": {},
   "outputs": [
    {
     "name": "stdout",
     "output_type": "stream",
     "text": [
      "Return:  ['apple', 'banana', 'blueberry', 'cherry', 'mango', 'orange', 'pear', 'pineapple', 'raspberry', 'strawberry']\n",
      "Original:  ['mango', 'apple', 'banana', 'cherry', 'orange', 'pineapple', 'pear', 'strawberry', 'blueberry', 'raspberry']\n",
      "\n",
      "- The sorted(list) returns the sorted list based on alphabetical order.\n",
      "- However, the original list would not be affected by sorted() method.\n",
      "\n"
     ]
    }
   ],
   "source": [
    "# (2): sorted(list)\n",
    "words = [\n",
    "    \"mango\", \"apple\", \"banana\", \"cherry\", \"orange\", \n",
    "    \"pineapple\", \"pear\", \"strawberry\", \"blueberry\", \"raspberry\"\n",
    "]\n",
    "print(\"Return: \", sorted(words))\n",
    "print(\"Original: \", words)\n",
    "\n",
    "print(\"\"\"\n",
    "- The sorted(list) returns the sorted list based on alphabetical order.\n",
    "- However, the original list would not be affected by sorted() method.\n",
    "\"\"\")"
   ]
  },
  {
   "cell_type": "markdown",
   "metadata": {},
   "source": [
    "# Question 02"
   ]
  },
  {
   "cell_type": "code",
   "execution_count": 37,
   "metadata": {},
   "outputs": [],
   "source": [
    "# writing some text into a file 'corpus.txt'\n",
    "with open('corpus.txt', 'w') as f:\n",
    "    f.write('This is an example text file for the workship 02 in the Text Mining course - BDM550.')"
   ]
  },
  {
   "cell_type": "code",
   "execution_count": 38,
   "metadata": {},
   "outputs": [],
   "source": [
    "# define function load(f)\n",
    "def load(f: str):\n",
    "    \"\"\"\n",
    "    Read the file and return a string containing the text of the file.\n",
    "\n",
    "    Prameter:\n",
    "    - 'f': the name of the file\n",
    "    \"\"\"\n",
    "    # read the file\n",
    "    with open(f) as f_read:\n",
    "        text = f_read.read()\n",
    "\n",
    "    # \n",
    "\n",
    "    return text\n",
    "\n",
    "text = load('corpus.txt')"
   ]
  },
  {
   "cell_type": "code",
   "execution_count": 86,
   "metadata": {},
   "outputs": [
    {
     "data": {
      "text/plain": [
       "['John',\n",
       " 'has',\n",
       " 'a',\n",
       " 'checking',\n",
       " 'account',\n",
       " 'with',\n",
       " '$100',\n",
       " 'a',\n",
       " 'savings',\n",
       " 'account',\n",
       " 'with',\n",
       " '$102.00',\n",
       " 'and',\n",
       " 'a',\n",
       " 'retirement',\n",
       " 'account',\n",
       " 'with',\n",
       " '$1,000.95',\n",
       " 'or',\n",
       " '$100000']"
      ]
     },
     "execution_count": 86,
     "metadata": {},
     "output_type": "execute_result"
    }
   ],
   "source": [
    "text = \"John has a checking account with $100, a savings account with $102.00, and a retirement account with $1,000.95 or $100000.\"\n",
    "\n",
    "# tokenizes various kinds of punctuation in the text \n",
    "\n",
    "# define pattern\n",
    "pattern_puncs = r'''(?x)\n",
    "    \\w+  # one or more word characters\n",
    "    | \n",
    "    [\\!\\\"\\#\\$\\%\\&\\\\\\'\\(\\)\\*\\+\\,\\-\\.\\/\\:\\;\\<\\=\\>\\?\\@\\[\\\\\\\\]\\^\\_\\`\\{\\|\\}\\~]  # punctuations (from string)\n",
    "    |\n",
    "    \\$ ?[0-9]+ (?:\\,[0-9]{3})* (?:\\.[0-9]+) ?  # monetary accounts\n",
    "    |\n",
    "    #[]  # date\n",
    "\n",
    "'''\n",
    "\n",
    "\n",
    "nltk.regexp_tokenize(text, pattern_puncs)"
   ]
  },
  {
   "cell_type": "code",
   "execution_count": 78,
   "metadata": {},
   "outputs": [
    {
     "data": {
      "text/plain": [
       "'!\"#$%&\\'()*+,-./:;<=>?@[\\\\]^_`{|}~'"
      ]
     },
     "execution_count": 78,
     "metadata": {},
     "output_type": "execute_result"
    }
   ],
   "source": [
    "string.punctuation\n"
   ]
  },
  {
   "cell_type": "code",
   "execution_count": 49,
   "metadata": {},
   "outputs": [
    {
     "name": "stdout",
     "output_type": "stream",
     "text": [
      "['This', 'is', 'an', 'example', 'text', 'file', 'for', 'the', 'workship', '02', 'in', 'the', 'Text', 'Mining', 'course', '-', 'BDM550', ',', 'which', 'is', 'worth', 'to', '$10', ',', '496', '.', '43', '.']\n"
     ]
    }
   ],
   "source": [
    "\n",
    "\n",
    "text = \"This is an example text file for the workship 02 in the Text Mining course - BDM550, which is worth to $10496.43.\"\n",
    "\n",
    "pattern = r'''(?x)    # verbose flag for multiline regex with inline comments\n",
    "            \\w+       # match one or more word characters\n",
    "            |         # OR\n",
    "            \\$?\\d+(?:\\.\\d+)?%?  # match monetary amounts\n",
    "            |         # OR\n",
    "            \\d{1,2}[/-]\\d{1,2}[/-]\\d{2,4}  # match dates\n",
    "            |         # OR\n",
    "            [A-Z][a-z]*\\.?  # match names of people\n",
    "            |         # OR\n",
    "            [A-Za-z]+\\'[A-Za-z]+  # match contractions\n",
    "            |         # OR\n",
    "            [^\\w\\s]   # match any other non-whitespace and non-word character\n",
    "            '''\n",
    "\n",
    "tokens = nltk.regexp_tokenize(text, pattern)\n",
    "\n",
    "print(tokens)"
   ]
  },
  {
   "cell_type": "code",
   "execution_count": null,
   "metadata": {},
   "outputs": [],
   "source": []
  }
 ],
 "metadata": {
  "kernelspec": {
   "display_name": "Python 3",
   "language": "python",
   "name": "python3"
  },
  "language_info": {
   "codemirror_mode": {
    "name": "ipython",
    "version": 3
   },
   "file_extension": ".py",
   "mimetype": "text/x-python",
   "name": "python",
   "nbconvert_exporter": "python",
   "pygments_lexer": "ipython3",
   "version": "3.11.5"
  },
  "orig_nbformat": 4
 },
 "nbformat": 4,
 "nbformat_minor": 2
}
