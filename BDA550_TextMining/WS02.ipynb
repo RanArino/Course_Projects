{
 "cells": [
  {
   "cell_type": "code",
   "execution_count": 18,
   "metadata": {},
   "outputs": [],
   "source": [
    "import nltk\n",
    "import string"
   ]
  },
  {
   "cell_type": "markdown",
   "metadata": {},
   "source": [
    "# Question 01"
   ]
  },
  {
   "cell_type": "code",
   "execution_count": 9,
   "metadata": {},
   "outputs": [
    {
     "name": "stdout",
     "output_type": "stream",
     "text": [
      "Return:  None\n",
      "Original:  ['apple', 'banana', 'blueberry', 'cherry', 'mango', 'orange', 'pear', 'pineapple', 'raspberry', 'strawberry']\n",
      "\n",
      "- list.sort() returns None.\n",
      "- The orignial list was sorted alphabetically after running the code.\n",
      "\n"
     ]
    }
   ],
   "source": [
    "# (1): list.sort()\n",
    "words = [\n",
    "    \"mango\", \"apple\", \"banana\", \"cherry\", \"orange\", \n",
    "    \"pineapple\", \"pear\", \"strawberry\", \"blueberry\", \"raspberry\"\n",
    "]\n",
    "print(\"Return: \", words.sort())\n",
    "print(\"Original: \", words)\n",
    "\n",
    "print(\"\"\"\n",
    "- list.sort() returns None.\n",
    "- The orignial list was sorted alphabetically after running the code.\n",
    "\"\"\")"
   ]
  },
  {
   "cell_type": "code",
   "execution_count": 8,
   "metadata": {},
   "outputs": [
    {
     "name": "stdout",
     "output_type": "stream",
     "text": [
      "Return:  ['apple', 'banana', 'blueberry', 'cherry', 'mango', 'orange', 'pear', 'pineapple', 'raspberry', 'strawberry']\n",
      "Original:  ['mango', 'apple', 'banana', 'cherry', 'orange', 'pineapple', 'pear', 'strawberry', 'blueberry', 'raspberry']\n",
      "\n",
      "- The sorted(list) returns the sorted list based on alphabetical order.\n",
      "- However, the original list would not be affected by sorted() method.\n",
      "\n"
     ]
    }
   ],
   "source": [
    "# (2): sorted(list)\n",
    "words = [\n",
    "    \"mango\", \"apple\", \"banana\", \"cherry\", \"orange\", \n",
    "    \"pineapple\", \"pear\", \"strawberry\", \"blueberry\", \"raspberry\"\n",
    "]\n",
    "print(\"Return: \", sorted(words))\n",
    "print(\"Original: \", words)\n",
    "\n",
    "print(\"\"\"\n",
    "- The sorted(list) returns the sorted list based on alphabetical order.\n",
    "- However, the original list would not be affected by sorted() method.\n",
    "\"\"\")"
   ]
  },
  {
   "cell_type": "markdown",
   "metadata": {},
   "source": [
    "# Question 02"
   ]
  },
  {
   "cell_type": "code",
   "execution_count": 37,
   "metadata": {},
   "outputs": [],
   "source": [
    "# writing some text into a file 'corpus.txt'\n",
    "with open('corpus.txt', 'w') as f:\n",
    "    f.write('This is an example text file for the workship 02 in the Text Mining course - BDM550.')"
   ]
  },
  {
   "cell_type": "code",
   "execution_count": 38,
   "metadata": {},
   "outputs": [],
   "source": [
    "# define function load(f)\n",
    "def load(f: str):\n",
    "    \"\"\"\n",
    "    Read the file and return a string containing the text of the file.\n",
    "\n",
    "    Prameter:\n",
    "    - 'f': the name of the file\n",
    "    \"\"\"\n",
    "    # read the file\n",
    "    with open(f) as f_read:\n",
    "        text = f_read.read()\n",
    "\n",
    "    # \n",
    "\n",
    "    return text\n",
    "\n",
    "text = load('corpus.txt')"
   ]
  },
  {
   "cell_type": "code",
   "execution_count": 172,
   "metadata": {},
   "outputs": [
    {
     "data": {
      "text/plain": [
       "['During',\n",
       " 'our',\n",
       " 'trip',\n",
       " 'we',\n",
       " 'visited',\n",
       " 'Rome',\n",
       " 'on',\n",
       " '25-09-2023',\n",
       " 'then',\n",
       " 'New',\n",
       " 'York',\n",
       " 'on',\n",
       " '09/25/2023',\n",
       " 'and',\n",
       " '2023-9-5',\n",
       " 'We',\n",
       " 'celebrated',\n",
       " 'the',\n",
       " 'New',\n",
       " 'Year',\n",
       " 'in',\n",
       " 'Tokyo',\n",
       " 'on',\n",
       " 'September',\n",
       " 'th',\n",
       " 'What',\n",
       " 'a',\n",
       " 'journey',\n",
       " 'it',\n",
       " 'was']"
      ]
     },
     "execution_count": 172,
     "metadata": {},
     "output_type": "execute_result"
    }
   ],
   "source": [
    "#text = \"John has a checking account with $100, a savings account with $102.00, and a retirement account with $1,000.95 or $100000.\"\n",
    "text = \"During our trip, we visited Rome on 25-09-2023, then New York on 09/25/2023 and 2023-9-5. We celebrated the New Year in Tokyo on September 25th, 2023. What a journey it was!\"\n",
    "\n",
    "# define each tokenization\n",
    "words = r\"[a-zA-z]+\"  # one or more characters\n",
    "accounts = r\"\\$ ?[0-9]+ (?:\\,[0-9]{3})* (?:\\.[0-9]+) ? \" # monetary accounts\n",
    "puncs = r\"[\\!\\\"\\#\\$\\%\\&\\\\\\'\\(\\)\\*\\+\\,\\-\\.\\/\\:\\;\\<\\=\\>\\?\\@\\[\\\\\\\\]\\^\\_\\`\\{\\|\\}\\~\\]\"  # from string\n",
    "#dates = r\"(0?[1-9]|[1-2][1-9]|3[0-1])[-\\/](0?[1-9]|1[0-2])[-\\/](19|20)\\d{2}\"  # dd-mm-yyyy or dd/mm/yyyy\n",
    "date1 = r\"\\d{,2}[-\\/]\\d{,2}[-\\/]\\d{4}\"  # dd-mm-yyyy or dd/mm/yyyy\n",
    "date2 = r\"\\d{4}[-\\/]\\d{,2}[-\\/]\\d{,2}\" # yyyy-mm-dd\n",
    "\n",
    "# combine all expressions \n",
    "pattern = f\"{words}|{accounts}|{puncs}|{date1}|{date2}\"\n",
    "\n",
    "# tokenizes various kinds of punctuation in the text \n",
    "nltk.regexp_tokenize(text, pattern)"
   ]
  },
  {
   "cell_type": "code",
   "execution_count": 49,
   "metadata": {},
   "outputs": [
    {
     "name": "stdout",
     "output_type": "stream",
     "text": [
      "['This', 'is', 'an', 'example', 'text', 'file', 'for', 'the', 'workship', '02', 'in', 'the', 'Text', 'Mining', 'course', '-', 'BDM550', ',', 'which', 'is', 'worth', 'to', '$10', ',', '496', '.', '43', '.']\n"
     ]
    }
   ],
   "source": [
    "\n",
    "\n",
    "text = \"This is an example text file for the workship 02 in the Text Mining course - BDM550, which is worth to $10496.43.\"\n",
    "\n",
    "pattern = r'''(?x)    # verbose flag for multiline regex with inline comments\n",
    "            \\w+       # match one or more word characters\n",
    "            |         # OR\n",
    "            \\$?\\d+(?:\\.\\d+)?%?  # match monetary amounts\n",
    "            |         # OR\n",
    "            \\d{1,2}[/-]\\d{1,2}[/-]\\d{2,4}  # match dates\n",
    "            |         # OR\n",
    "            [A-Z][a-z]*\\.?  # match names of people\n",
    "            |         # OR\n",
    "            [A-Za-z]+\\'[A-Za-z]+  # match contractions\n",
    "            |         # OR\n",
    "            [^\\w\\s]   # match any other non-whitespace and non-word character\n",
    "            '''\n",
    "\n",
    "tokens = nltk.regexp_tokenize(text, pattern)\n",
    "\n",
    "print(tokens)"
   ]
  },
  {
   "cell_type": "code",
   "execution_count": null,
   "metadata": {},
   "outputs": [],
   "source": []
  }
 ],
 "metadata": {
  "kernelspec": {
   "display_name": "Python 3",
   "language": "python",
   "name": "python3"
  },
  "language_info": {
   "codemirror_mode": {
    "name": "ipython",
    "version": 3
   },
   "file_extension": ".py",
   "mimetype": "text/x-python",
   "name": "python",
   "nbconvert_exporter": "python",
   "pygments_lexer": "ipython3",
   "version": "3.11.5"
  },
  "orig_nbformat": 4
 },
 "nbformat": 4,
 "nbformat_minor": 2
}
