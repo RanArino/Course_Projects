{
 "cells": [
  {
   "cell_type": "code",
   "execution_count": 121,
   "metadata": {},
   "outputs": [],
   "source": [
    "import nltk\n",
    "import re"
   ]
  },
  {
   "cell_type": "markdown",
   "metadata": {},
   "source": [
    "# Question 01"
   ]
  },
  {
   "cell_type": "code",
   "execution_count": 71,
   "metadata": {},
   "outputs": [
    {
     "name": "stdout",
     "output_type": "stream",
     "text": [
      "Error in booked/VB (sent1); Correct tag is VBD.\n",
      "The word 'flight' is not found in the Penn Treebank tagset.\n",
      "The word 'Calgary' is not found in the Penn Treebank tagset.\n",
      "The word 'Does' is not found in the Penn Treebank tagset.\n",
      "The word 'flight' is not found in the Penn Treebank tagset.\n",
      "The word 'complementary' is not found in the Penn Treebank tagset.\n",
      "Error in ?/? (sent2); Correct tag is ..\n",
      "Error in living/VB (sent3); Correct tag is NN.\n"
     ]
    }
   ],
   "source": [
    "# define sentences\n",
    "sent1 = 'I/PRP booked/VB a/DT flight/NNP from/IN Toronto/NNP to/TO Calgary/NNP ./.'\n",
    "sent2 = 'Does/VBZ this/DT flight/NNP serve/VB complementary/JJ drinks/NNS ?/?'\n",
    "sent3 = 'I/PRP have/VBP a/DT friend/NN living/VB in/IN Toronto/NNP ./.'\n",
    "\n",
    "# changes to tag tuples\n",
    "tags1 = [nltk.tag.str2tuple(w) for w in sent1.split()]\n",
    "tags2 = [nltk.tag.str2tuple(w) for w in sent2.split()]\n",
    "tags3 = [nltk.tag.str2tuple(w) for w in sent3.split()]\n",
    "\n",
    "# get the tagset of the Penn Treebank\n",
    "treebank_tagset = nltk.corpus.treebank.tagged_words()\n",
    "\n",
    "# get the conditional freq dist between word and tag\n",
    "cfd = nltk.ConditionalFreqDist(treebank_tagset)\n",
    "\n",
    "# find tagging erros compared to the Penn Treebank tagset\n",
    "for i, tag_tuple in enumerate([tags1, tags2, tags3]):\n",
    "    for word, tag in tag_tuple:\n",
    "        # if word cannot be specified in the Penn Treebank\n",
    "        if not cfd[word].most_common():\n",
    "            print(f\"The word '{word}' is not found in the Penn Treebank tagset.\")\n",
    "            continue\n",
    "        # check the correct tag in Penn Treebank\n",
    "        corrent_tag = cfd[word].most_common()[0][0]\n",
    "        # check the error\n",
    "        if corrent_tag != tag:\n",
    "            print(f\"Error in {word}/{tag} (sent{i+1}); Correct tag is {corrent_tag}.\")"
   ]
  },
  {
   "cell_type": "markdown",
   "metadata": {},
   "source": [
    "# Question 02"
   ]
  },
  {
   "cell_type": "code",
   "execution_count": 80,
   "metadata": {},
   "outputs": [
    {
     "name": "stdout",
     "output_type": "stream",
     "text": [
      "Humor: \n",
      "[('Finally', None), (',', ','), ('at', 'IN'), ('Ye', None), ('Olde', None), ('Gasse', None), ('Filling', None), ('Station', None), ('on', 'IN'), ('Avocado', None), ('Avenue', None), (',', ','), ('they', 'PPSS'), ('learned', None), ('that', 'CS'), ('their', 'PP$'), ('man', 'NN'), (',', ','), ('having', None), ('paused', None), ('to', 'TO'), ('get', 'VB'), ('oil', None), ('for', 'IN'), ('his', 'PP$'), ('car', None), (',', ','), ('had', 'HVD'), ('asked', None), ('about', 'IN'), ('the', 'AT'), ('route', None), ('to', 'TO'), ('San', None), ('Diego', None), ('.', '.')]\n",
      "\n",
      "Learned: \n",
      "[('Of', None), ('the', 'AT'), ('remaining', None), ('planets', None), (',', ','), ('only', 'RB'), ('Mars', None), ('and', 'CC'), ('Saturn', None), ('have', 'HV'), ('been', 'BEN'), ('observed', None), ('as', 'CS'), ('radio', None), ('sources', None), (',', ','), ('and', 'CC'), ('not', '*'), ('very', 'QL'), ('much', 'AP'), ('information', None), ('is', 'BEZ'), ('available', None), ('.', '.')]\n",
      "\n",
      "- We can observe that some words do not have a tag.      \n",
      "- The reason why a tag is not assigned in some words is that those words are not found in the trained texts.\n",
      "- In this case, for example, the word \"Ye\" does not exist in the adventure category of the broan text.\n",
      "\n"
     ]
    }
   ],
   "source": [
    "# Train a unigram tagger based on the brown 'adventure'\n",
    "#  freq dist\n",
    "fd = nltk.FreqDist(nltk.corpus.brown.words(categories='adventure'))\n",
    "#  conditional freq dist\n",
    "cfd = nltk.ConditionalFreqDist(nltk.corpus.brown.tagged_words(categories='adventure'))\n",
    "#  most frequency words (top 200)\n",
    "most_freq_words = fd.most_common(200)\n",
    "#  define likely tags\n",
    "likely_tags = dict((word, cfd[word].max()) for (word, _) in most_freq_words)\n",
    "#  create tag model\n",
    "baseline_tagger = nltk.UnigramTagger(model=likely_tags)\n",
    "\n",
    "# Get some new texts\n",
    "new_sent1 = nltk.corpus.brown.sents(categories='humor')[5]\n",
    "new_sent2 = nltk.corpus.brown.sents(categories='learned')[10]\n",
    "\n",
    "# apply the tag model to new texts\n",
    "print('Humor: ')\n",
    "print(baseline_tagger.tag(new_sent1))\n",
    "print('')\n",
    "\n",
    "print('Learned: ')\n",
    "print(baseline_tagger.tag(new_sent2))\n",
    "\n",
    "\n",
    "print(\"\"\"\n",
    "- We can observe that some words do not have a tag.      \n",
    "- The reason why a tag is not assigned in some words is that those words are not found in the trained word-tag pairs.\n",
    "- In this case, for example, the word \"Finally\" does not exist in the adventure category of the broan text.\n",
    "\"\"\")"
   ]
  },
  {
   "cell_type": "markdown",
   "metadata": {},
   "source": [
    "# Question 03"
   ]
  },
  {
   "cell_type": "code",
   "execution_count": 151,
   "metadata": {},
   "outputs": [
    {
     "name": "stdout",
     "output_type": "stream",
     "text": [
      "More common plural form nouns:\n",
      "[('years', 102), ('members', 69), ('sales', 51), ('Dallas', 49), ('Texas', 48), ('Miss', 46), ('business', 42), ('months', 42), ('days', 38), ('States', 38), ('Laos', 38), ('James', 37), ('schools', 37), ('Maris', 36), ('laws', 30), ('runs', 30), ('bonds', 29), ('funds', 28), ('countries', 28), ('series', 25), ('weeks', 25), ('minutes', 25), ('persons', 24), ('Yankees', 23), ('Charles', 22), ('Hughes', 22), ('Jones', 22), ('hours', 22), ('states', 22), ('efforts', 22), ('leaders', 22), ('games', 22), ('yards', 22), ('libraries', 22), ('Congress', 21), ('students', 21), ('Thomas', 21), ('Belgians', 20), ('prices', 19), ('problems', 19), ('shares', 19), ('services', 18), ('companies', 18), ('cases', 18), ('cars', 18), ('headquarters', 18), ('officers', 18), ('times', 18), ('costs', 17), ('lines', 17), ('relations', 16), ('plans', 16), ('bills', 16), ('forces', 16), ('products', 16), ('Republicans', 15), ('dollars', 15), ('firms', 15), ('others', 15), ('workers', 15), ('basis', 15), ('Kansas', 15), ('Williams', 14), ('Louis', 14), ('parties', 14), ('Los', 14), ('guests', 14), ('counties', 13), ('fees', 13), ('Davis', 13), ('means', 13), ('grants', 13), ('groups', 13), ('Nations', 13), ('revenues', 13), ('churches', 13), ('news', 13), ('unions', 13), ('secrets', 13), ('voters', 12), ('officials', 12), ('areas', 12), ('books', 12), ('letters', 12), ('address', 12), ('Americans', 12), ('programs', 12), ('nations', 12), ('reasons', 12), ('hands', 12), ('Angeles', 12), ('players', 12), ('rules', 11), ('Corps', 11), ('negotiations', 11), ('Democrats', 11), ('Orleans', 11), ('friends', 11), ('loss', 11), ('owners', 11), ('hits', 11), ('bus', 11), ('employees', 11), ('wages', 11), ('candidates', 10), ('roads', 10), ('stocks', 10), ('taxes', 10), ('Paris', 10), ('methods', 10), ('facilities', 10), ('changes', 10), ('points', 10), ('status', 10), ('things', 10), ('manufacturers', 10), ('ways', 10), ('jobs', 10), ('Mays', 10), ('Masters', 10), ('miles', 10), ('operations', 10), ('troops', 10), ('institutions', 10), ('dealers', 10), ('turnpikes', 10), ('reports', 9), ('homes', 9), ('employes', 9), ('millions', 9), ('gas', 9), ('proposals', 9), ('Massachusetts', 9), ('defendants', 9), ('statements', 9), ('arms', 9), ('Communists', 9), ('issues', 9), ('Rules', 9), ('colleges', 9), ('charges', 9), ('rates', 9), ('boys', 9), ('Bears', 9), ('Giants', 9), ('words', 9), ('activities', 9), ('class', 9), ('designs', 9), ('payments', 9), ('Holmes', 9), ('legislators', 8), ('policies', 8), ('steps', 8), ('ones', 8), ('bankers', 8), ('questions', 8), ('Harris', 8), ('needs', 8), ('systems', 8), ('contributions', 8), ('errors', 8), ('managers', 8), ('units', 8), ('families', 8), ('agencies', 8), ('affairs', 8), ('records', 8), ('Barnes', 8), ('Illinois', 8), ('Orioles', 8), ('Mills', 8), ('strokes', 8), ('acres', 8), ('Foods', 8), ('authorities', 7), ('calls', 7), ('witnesses', 7), ('customers', 7), ('acts', 7), ('Texans', 7), ('teachers', 7), ('advisers', 7), ('Karns', 7), ('Morris', 7), ('conditions', 7), ('thousands', 7), ('machines', 7), ('terms', 7), ('talks', 7), ('expenses', 7), ('builders', 7), ('delegates', 7), ('champions', 7), ('bases', 7), ('Hodges', 7), ('Pirates', 7), ('streets', 7), ('Francis', 7), ('prospects', 7), ('Hills', 7), ('Simpkins', 7), ('earnings', 7), ('investors', 7), ('gains', 7), ('orders', 7), ('pieces', 7), ('thanks', 6), ('practices', 6), ('recommendations', 6), ('citizens', 6), ('actions', 6), ('names', 6), ('courts', 6), ('sessions', 6), ('votes', 6), ('cities', 6), ('press', 6), ('decisions', 6), ('parts', 6), ('troubles', 6), ('positions', 6), ('neighbors', 6), ('Arkansas', 6), ('residents', 6), ('trucks', 6), ('resources', 6), ('intentions', 6), ('mates', 6), ('progress', 6), ('loans', 6), ('ceremonies', 6), ('buildings', 6), ('Douglas', 6), ('hotels', 6), ('houses', 6), ('apartments', 6), ('centers', 6), ('Birds', 6), ('starts', 6), ('balls', 6), ('Columbus', 6), ('sports', 6), ('Christmas', 6), ('Arts', 6), ('concerts', 6), ('dress', 6), ('Annapolis', 6), ('supplies', 6), ('detectives', 6), ('narcotics', 6), ('girls', 6), ('theaters', 6), ('appeals', 6), ('weapons', 6), ('debentures', 6), ('exports', 6), ('governments', 5), ('taxpayers', 5), ('procedures', 5), ('servants', 5), ('petitions', 5), ('signatures', 5), ('courses', 5), ('representatives', 5), ('places', 5), ('projects', 5), ('Bellows', 5), ('attorneys', 5), ('aspects', 5), ('demands', 5), ('individuals', 5), ('judges', 5), ('meetings', 5), ('allies', 5), ('circumstances', 5), ('submarines', 5), ('emphasis', 5), ('ideas', 5), ('Relations', 5), ('Citizens', 5), ('views', 5), ('posts', 5), ('Plains', 5), ('works', 5), ('factors', 5), ('hundreds', 5), ('spectators', 5), ('eyes', 5), ('directors', 5), ('rooms', 5), ('agreements', 5), ('teamsters', 5), ('doors', 5), ('goods', 5), ('Assemblies', 5), ('volunteers', 5), ('Brooks', 5), ('pounds', 5), ('pass', 5), ('kids', 5), ('Eagles', 5), ('Dodgers', 5), ('strings', 5), ('teams', 5), ('Hemus', 5), ('honors', 5), ('costumes', 5), ('Members', 5), ('tickets', 5), ('paintings', 5), ('artists', 5), ('levels', 5), ('Others', 5), ('panels', 5), ('burns', 5), ('Jenkins', 5), ('Survivors', 5), ('daughters', 5), ('plants', 5), ('farmers', 5), ('puppets', 5), ('conferences', 5), ('liberals', 5), ('holes', 5), ('Beardens', 5), ('textiles', 5), ('offices', 4), ('items', 4), ('jurors', 4), ('precincts', 4), ('banks', 4), ('obligations', 4), ('Senators', 4), ('committees', 4), ('districts', 4), ('senators', 4), ('Collins', 4), ('parents', 4), ('crisis', 4), ('process', 4), ('requests', 4), ('scholarships', 4), ('benefits', 4), ('requirements', 4), ('events', 4), ('waters', 4), ('attacks', 4), ('reforms', 4), ('victories', 4), ('losses', 4), ('communities', 4), ('types', 4), ('stores', 4), ('increases', 4), ('Sheets', 4), ('Appeals', 4), ('weakness', 4), ('reporters', 4), ('politicians', 4), ('universities', 4), ('goals', 4), ('technicians', 4), ('seats', 4), ('bids', 4), ('Goodis', 4), ('parks', 4), ('Reynolds', 4), ('sons', 4), ('motions', 4), ('pitchers', 4), ('doubles', 4), ('chores', 4), ('coaches', 4), ('tries', 4), ('Longhorns', 4), ('movies', 4), ('passes', 4), ('tests', 4), ('Indians', 4), ('Sports', 4), ('Series', 4), ('Cardinals', 4), ('awards', 4), ('writers', 4), ('shots', 4), ('Stevens', 4), ('Press', 4), ('success', 4), ('Guests', 4), ('motels', 4), ('pools', 4), ('chairs', 4), ('festivities', 4), ('arrangements', 4), ('cuts', 4), ('bodies', 4), ('suits', 4), ('improvements', 4), ('brothers', 4), ('youths', 4), ('Services', 4), ('moves', 4), ('Cubans', 4), ('standards', 4), ('applications', 4), ('Savings', 4), ('Hutchins', 4), ('blues', 4), ('collections', 4), ('birds', 4), ('Investors', 4), ('Headquarters', 4), ('woods', 4), ('fabrics', 4), ('marriages', 4), ('Kings', 4), ('drums', 4), ('toys', 4), ('hopes', 4), ('employers', 4), ('cents', 4), ('tribes', 4), ('Rickards', 4), ('librarians', 4), ('irregularities', 3), ('deputies', 3), ('matters', 3), ('farms', 3), ('contracts', 3), ('highways', 3), ('allowances', 3), ('details', 3), ('raises', 3), ('polls', 3), ('Bankers', 3), ('savings', 3), ('gifts', 3), ('sites', 3), ('elections', 3), ('Affairs', 3), ('Roberts', 3), ('Springs', 3), ('subjects', 3), ('causes', 3), ('skills', 3), ('Parsons', 3), ('rights', 3), ('hearings', 3), ('processes', 3), ('illness', 3), ('excess', 3), ('hospitals', 3), ('elements', 3), ('Legislators', 3), ('discussions', 3), ('difficulties', 3), ('politics', 3), ('opinions', 3), ('grounds', 3), ('intervals', 3), ('classes', 3), ('Falls', 3), ('motorists', 3), ('offenses', 3), ('carcass', 3), ('results', 3), ('Cross', 3), ('signs', 3), ('interviews', 3), ('languages', 3), ('corps', 3), ('estimates', 3), ('experts', 3), ('Princess', 3), ('principles', 3), ('Miles', 3), ('branches', 3), ('commitments', 3), ('purposes', 3), ('Business', 3), ('dogs', 3), ('fighters', 3), ('lots', 3), ('beliefs', 3), ('lives', 3), ('mass', 3), ('mails', 3), ('clubs', 3), ('Braves', 3), ('homers', 3), ('crowds', 3), ('stages', 3), ('plays', 3), ('completions', 3), ('attempts', 3), ('performances', 3), ('averages', 3), ('checks', 3), ('leagues', 3), ('Indianapolis', 3), ('innings', 3), ('Twins', 3), ('fans', 3), ('chances', 3), ('masses', 3), ('Phillies', 3), ('seasons', 3), ('injuries', 3), ('Vikings', 3), ('majors', 3), ('tournaments', 3), ('dates', 3), ('Redbirds', 3), ('trips', 3), ('careers', 3), ('Sims', 3), ('dancers', 3), ('appearances', 3), ('boss', 3), ('suggestions', 3), ('boxes', 3), ('schedules', 3), ('cookies', 3), ('adults', 3), ('Rhodes', 3), ('hats', 3), ('flowers', 3), ('bundles', 3), ('aides', 3), ('Lewis', 3), ('ladies', 3), ('Eustis', 3), ('Negroes', 3), ('boards', 3), ('tires', 3), ('victims', 3), ('agents', 3), ('Krogers', 3), ('Fuchs', 3), ('lawyers', 3), ('comments', 3), ('Simms', 3), ('meals', 3), ('Students', 3), ('rebels', 3), ('privileges', 3), ('sisters', 3), ('scratches', 3), ('crops', 3), ('commissioners', 3), ('teenagers', 3), ('youngsters', 3), ('shows', 3), ('ribbons', 3), ('economics', 3), ('beds', 3), ('connections', 3), ('restrictions', 3), ('pilots', 3), ('Allies', 3), ('missiles', 3), ('inquiries', 3), ('driers', 3), ('Moss', 3), ('Hayes', 3), ('pickers', 3), ('Farmers', 3), ('tractors', 3), ('implements', 3), ('materials', 3), ('clothes', 3), ('pictures', 3), ('trustees', 3), ('patrons', 3), ('Mmes', 3), ('arts', 3), ('reservations', 3), ('passengers', 3), ('legs', 3), ('numbers', 3), ('addresses', 3), ('Stars', 3), ('faces', 3), ('films', 3), ('musicians', 3), ('sculptures', 3), ('titles', 3), ('giants', 3), ('organizations', 3), ('monopolies', 3), ('fronts', 3), ('staffs', 3), ('rounds', 3), ('golfers', 3), ('pars', 3), ('provinces', 3), ('Airlines', 3), ('hostages', 3), ('access', 3), ('imports', 3), ('quotas', 3), ('miners', 3), ('mines', 3), ('volumes', 3), ('topics', 2), ('departments', 2), ('guardians', 2), ('criticisms', 2), ('Attorneys', 2), ('adjustments', 2), ('chambers', 2), ('Roads', 2), ('accounts', 2), ('corporations', 2), ('pockets', 2), ('folks', 2), ('donations', 2), ('retailers', 2), ('brokers', 2), ('Representatives', 2), ('Hays', 2), ('recipients', 2), ('relatives', 2), ('observers', 2), ('drafts', 2), ('Hyannis', 2), ('proceedings', 2), ('Officials', 2), ('doctors', 2), ('appointments', 2), ('ministers', 2), ('surprises', 2), ('correspondents', 2), ('spots', 2), ('societies', 2), ('Policies', 2), ('arrests', 2), ('instances', 2), ('foods', 2), ('supermarkets', 2), ('licenses', 2), ('conservatives', 2), ('utilities', 2), ('canvassers', 2), ('awareness', 2), ('boos', 2), ('Clubs', 2), ('remains', 2), ('vehicles', 2), ('Roos', 2), ('fires', 2), ('techniques', 2), ('wardens', 2), ('hoodlums', 2), ('Acres', 2), ('elephants', 2), ('Queens', 2), ('Campus', 2), ('Times', 2), ('newspapers', 2), ('forecasts', 2), ('mortgages', 2), ('dormitories', 2), ('mathematics', 2), ('inhabitants', 2), ('soldiers', 2), ('developments', 2), ('Ross', 2), ('foes', 2), ('lawmakers', 2), ('odds', 2), ('camps', 2), ('ranks', 2), ('finances', 2), ('followers', 2), ('affiliations', 2), ('contractors', 2), ('disclosures', 2), ('violations', 2), ('joints', 2), ('dwellings', 2), ('Builders', 2), ('hazards', 2), ('pedestrians', 2), ('clusters', 2), ('bridges', 2), ('Fighters', 2), ('ankles', 2), ('guards', 2), ('Menderes', 2), ('paths', 2), ('mothers', 2), ('speakers', 2), ('trends', 2), ('babies', 2), ('graduates', 2), ('conspirators', 2), ('Athletics', 2), ('frames', 2), ('tallies', 2), ('teammates', 2), ('races', 2), ('stewards', 2), ('Games', 2), ('Waters', 2), ('conversions', 2), ('stops', 2), ('reserves', 2), ('Aggies', 2), ('Myers', 2), ('Bills', 2), ('Leaguers', 2), ('Broncs', 2), ('strikes', 2), ('statistics', 2), ('viewers', 2), ('lights', 2), ('reflexes', 2), ('tongues', 2), ('rookies', 2), ('sluggers', 2), ('merits', 2), ('Reds', 2), ('bleachers', 2), ('ends', 2), ('Steelers', 2), ('Packers', 2), ('personalities', 2), ('barriers', 2), ('matches', 2), ('frustrations', 2), ('bounds', 2), ('duffers', 2), ('nerves', 2), ('competitors', 2), ('Minneapolis', 2), ('bats', 2), ('Burgess', 2), ('triumphs', 2), ('Billikens', 2), ('talents', 2), ('heights', 2), ('Grounds', 2), ('holidays', 2), ('Arms', 2), ('bushes', 2), ('Damascus', 2), ('invitations', 2), ('Burkes', 2), ('Sethness', 2), ('trees', 2), ('Memphis', 2), ('charities', 2), ('holders', 2), ('Mets', 2), ('roles', 2), ('Gods', 2), ('Grandparents', 2), ('Cocktails', 2), ('juniors', 2), ('decorations', 2), ('Carruthers', 2), ('qualities', 2), ('tasks', 2), ('alcoholics', 2), ('parolees', 2), ('stations', 2), ('stands', 2), ('accommodations', 2), ('ants', 2), ('Parents', 2), ('Perkins', 2), ('stephanotis', 2), ('Corpus', 2), ('studies', 2), ('oysters', 2), ('effects', 2), ('reproductions', 2), ('duties', 2), ('decades', 2), ('posters', 2), ('Comus', 2), ('hostess', 2), ('dances', 2), ('Streets', 2), ('remarks', 2), ('discrepancies', 2), ('laborers', 2), ('Tawes', 2), ('Delegates', 2), ('Pantas', 2), ('structures', 2), ('Nautilus', 2), ('clients', 2), ('Polaris', 2), ('destroyers', 2), ('ships', 2), ('indictments', 2), ('peddlers', 2), ('rivalries', 2), ('Sears', 2), ('witness', 2), ('Pullings', 2), ('Jenks', 2), ('proceeds', 2), ('Sarkees', 2), ('assaults', 2), ('claims', 2), ('executions', 2), ('rifles', 2), ('Trustees', 2), ('obstacles', 2), ('endowments', 2), ('operators', 2), ('profits', 2), ('counts', 2), ('pensions', 2), ('planes', 2), ('humans', 2), ('engineers', 2), ('flames', 2), ('Juras', 2), ('Employes', 2), ('businesses', 2), ('advisors', 2), ('skies', 2), ('pains', 2), ('coins', 2), ('rings', 2), ('earrings', 2), ('Workers', 2), ('lieutenants', 2), ('dimes', 2), ('quarters', 2), ('mistakes', 2), ('grapes', 2), ('Friends', 2), ('Gus', 2), ('prosecutors', 2), ('janitors', 2), ('factories', 2), ('amounts', 2), ('underwriters', 2), ('mergers', 2), ('buyers', 2), ('cleaners', 2), ('saws', 2), ('models', 2), ('dangers', 2), ('situations', 2), ('securities', 2), ('dividends', 2), ('shareholders', 2), ('railroads', 2), ('exceptions', 2), ('appliances', 2), ('shipments', 2), ('gross', 2), ('returns', 2), ('deductions', 2), ('Requests', 2), ('greens', 2), ('supporters', 2), ('snacks', 2), ('tables', 2), ('potatoes', 2), ('breasts', 2), ('walls', 2), ('dressers', 2), ('tones', 2), ('shades', 2), ('Days', 2), ('couples', 2), ('Vegas', 2), ('Wells', 2), ('finals', 2), ('Robbins', 2), ('Flowers', 2), ('Changes', 2), ('Chases', 2), ('Lockies', 2), ('Newcomers', 2), ('inches', 2), ('decorators', 2), ('antiques', 2), ('Winds', 2), ('features', 2), ('ballets', 2), ('Gables', 2), ('relationships', 2), ('workshops', 2), ('assemblies', 2), ('vows', 2), ('Lois', 2), ('assignments', 2), ('frankness', 2), ('Toys', 2), ('ages', 2), ('Luis', 2), ('credits', 2), ('sofas', 2), ('visitors', 2), ('Masons', 2), ('outsiders', 2), ('exchanges', 2), ('heads', 2), ('announcements', 2), ('aims', 2), ('toughness', 2), ('debates', 2), ('willingness', 2), ('Developments', 2), ('Russians', 2), ('organs', 2), ('conversations', 2), ('mechanisms', 2), ('qualifications', 2), ('Professors', 2), ('interests', 2), ('grips', 2), ('disputes', 2), ('abuses', 2), ('managements', 2), ('penalties', 2), ('commodities', 2), ('bags', 2), ('mechanics', 2), ('measures', 2), ('chaos', 2), ('tanks', 2), ('gates', 2), ('electors', 2), ('whites', 2), ('caucus', 2), ('Committees', 2), ('winnings', 2), ('birdies', 2), ('fairways', 2), ('boldness', 2), ('ties', 2), ('seconds', 2), ('Klees', 2), ('grads', 2), ('boundaries', 2), ('groupings', 2), ('Brussels', 2), ('wars', 2), ('Progress', 2), ('stewardess', 2), ('pirates', 2), ('guns', 2), ('Simmons', 2), ('tolls', 2), ('Wales', 2), ('seams', 2), ('budgets', 2), ('displays', 2), ('presentments', 1), ('appraisers', 1), ('administrators', 1), ('Wards', 1), ('juries', 1), ('wards', 1), ('influences', 1), ('concessionaires', 1), ('Snodgrass', 1), ('responses', 1), ('dissents', 1), ('threats', 1), ('protests', 1), ('Legislatures', 1), ('depositors', 1), ('scholastics', 1), ('parimutuels', 1), ('ponies', 1), ('correctness', 1), ('reservoirs', 1), ('vacancies', 1), ('majorities', 1), ('Opponents', 1), ('Statements', 1), ('defenders', 1), ('Dumas', 1), ('physics', 1), ('regents', 1), ('Principals', 1), ('breakups', 1), ('Clements', 1), ('portions', 1), ('aids', 1), ('Decisions', 1), ('subpoenas', 1), ('subpenas', 1), ('boosts', 1), ('Outlays', 1), ('figures', 1), ('stays', 1), ('Contributions', 1), ('ayes', 1), ('noes', 1), ('selections', 1), ('Ministers', 1), ('powers', 1), ('tragedies', 1), ('critics', 1), ('manifestations', 1), ('speeches', 1), ('analysis', 1), ('setbacks', 1), ('vagueness', 1), ('impetus', 1), ('directions', 1), ('modifications', 1), ('confrontations', 1), ('blunders', 1), ('Brandeis', 1), ('educators', 1), ('professors', 1), ('channels', 1), ('Offenses', 1), ('offenders', 1), ('radios', 1), ('sirens', 1), ('revisions', 1), ('statutes', 1), ('shops', 1), ('outlets', 1), ('Liberals', 1), ('justices', 1), ('pretenses', 1), ('signers', 1), ('fines', 1), ('chorus', 1), ('closeness', 1), ('uses', 1), ('surplus', 1), ('joblessness', 1), ('barbs', 1), ('crises', 1), ('opponents', 1), ('ballots', 1), ('plows', 1), ('slogans', 1), ('tracts', 1), ('municipalities', 1), ('colleagues', 1), ('tusks', 1), ('retirements', 1), ('choices', 1), ('Counties', 1), ('Feis', 1), ('scandals', 1), ('investigations', 1), ('Works', 1), ('slums', 1), ('Interviews', 1), ('overseas', 1), ('Questions', 1), ('neutralists', 1), ('delegations', 1), ('Princes', 1), ('diplomats', 1), ('Tactics', 1), ('consultations', 1), ('tactics', 1), ('Laotians', 1), ('Tims', 1), ('Thousands', 1), ('shrines', 1), ('monuments', 1), ('chapters', 1), ('suffragettes', 1), ('Seats', 1), ('Archives', 1), ('tracks', 1), ('statues', 1), ('academies', 1), ('representations', 1), ('Marines', 1), ('Islands', 1), ('territories', 1), ('edges', 1), ('Districts', 1), ('crossroads', 1), ('loyalists', 1), ('independents', 1), ('Stennis', 1), ('Reports', 1), ('stresses', 1), ('tardiness', 1), ('effectiveness', 1), ('inconsistencies', 1), ('politicos', 1), ('alternatives', 1), ('trims', 1), ('allegations', 1), ('Estimates', 1), ('Shortcuts', 1), ('shortcuts', 1), ('vouchers', 1), ('Industries', 1), ('Pleas', 1), ('Travelers', 1), ('repairs', 1), ('Sons', 1), ('permits', 1), ('accomodations', 1), ('males', 1), ('females', 1), ('catchers', 1), ('bites', 1), ('Licenses', 1), ('Inspections', 1), ('Gillis', 1), ('Petitions', 1), ('Hess', 1), ('redevelopers', 1), ('Dicks', 1), ('Constantinos', 1), ('Doxiadis', 1), ('sectors', 1), ('walkways', 1), ('Grovers', 1), ('fractures', 1), ('pledges', 1), ('peoples', 1), ('Mears', 1), ('Kiwanis', 1), ('blueprints', 1), ('specifications', 1), ('Polls', 1), ('Steeves', 1), ('truths', 1), ('scriptures', 1), ('Jesus', 1), ('miracles', 1), ('cross', 1), ('missions', 1), ('Surveys', 1), ('pastors', 1), ('apprentices', 1), ('Denials', 1), ('trials', 1), ('Indications', 1), ('batters', 1), ('blows', 1), ('offerings', 1), ('safeties', 1), ('grass', 1), ('pitches', 1), ('Russ', 1), ('runners', 1), ('toss', 1), ('hitters', 1), ('specialists', 1), ('Pappas', 1), ('Richards', 1), ('hurlers', 1), ('colts', 1), ('furlongs', 1), ('Milties', 1), ('celebrants', 1), ('horses', 1), ('Knights', 1), ('thirds', 1), ('tenths', 1), ('pads', 1), ('Footnotes', 1), ('Mustangs', 1), ('thrusts', 1), ('Owls', 1), ('Nichols', 1), ('idleness', 1), ('Broncos', 1), ('reckonings', 1), ('collectors', 1), ('quarterbacks', 1), ('Oilers', 1), ('Spikes', 1), ('linebackers', 1), ('touchdowns', 1), ('Haynes', 1), ('tosses', 1), ('liveliness', 1), ('baseballs', 1), ('flies', 1), ('Gaines', 1), ('Bingles', 1), ('bobbles', 1), ('Dobbs', 1), ('Tsitouris', 1), ('Sievers', 1), ('heroics', 1), ('feats', 1), ('achievements', 1), ('hearts', 1), ('guys', 1), ('laurels', 1), ('lefthanders', 1), ('Enos', 1), ('Ebbetts', 1), ('rulers', 1), ('afternoons', 1), ('champs', 1), ('Yanks', 1), ('Edwards', 1), ('aerials', 1), ('cufflinks', 1), ('dais', 1), ('disappointments', 1), ('Sands', 1), ('Writers', 1), ('Golfers', 1), ('incompetents', 1), ('athletics', 1), ('pixies', 1), ('zombies', 1), ('banshees', 1), ('hackers', 1), ('echoes', 1), ('rains', 1), ('fathers', 1), ('amendments', 1), ('Cubs', 1), ('Bucks', 1), ('plunkers', 1), ('Bucs', 1), ('Cards', 1), ('Speakers', 1), ('faults', 1), ('Burnes', 1), ('defeats', 1), ('Teachers', 1), ('cows', 1), ('expectations', 1), ('peaks', 1), ('professionals', 1), ('Class', 1), ('oats', 1), ('sights', 1), ('Commies', 1), ('Wendells', 1), ('measles', 1), ('Beadles', 1), ('uncles', 1), ('aunts', 1), ('Butlers', 1), ('Robertsons', 1), ('Porters', 1), ('Tennis', 1), ('tennis', 1), ('huzzahs', 1), ('ears', 1), ('embassies', 1), ('dervishes', 1), ('singers', 1), ('songs', 1), ('Harveys', 1), ('Rostagnos', 1), ('Actress', 1), ('trains', 1), ('shelters', 1), ('pubs', 1), ('nights', 1), ('ethics', 1), ('morals', 1), ('gals', 1), ('phonies', 1), ('phones', 1), ('contribs', 1), ('Doris', 1), ('exhibitors', 1), ('screenings', 1), ('touches', 1), ('goodness', 1), ('Yards', 1), ('Packs', 1), ('Kriss', 1), ('clashes', 1), ('bombs', 1), ('peasants', 1), ('struggles', 1), ('medics', 1), ('doings', 1), ('lessons', 1), ('Uhles', 1), ('suites', 1), ('Bassis', 1), ('Neusteters', 1), ('Cris', 1), ('Dobbins', 1), ('Glass', 1), ('Hicks', 1), ('sweets', 1), ('suitcases', 1), ('Scots', 1), ('wagons', 1), ('restaurants', 1), ('tastes', 1), ('peculiarities', 1), ('Motorists', 1), ('tourists', 1), ('towels', 1), ('Ferris', 1), ('Baines', 1), ('attendants', 1), ('McRoberts', 1), ('Frances', 1), ('Elvis', 1), ('Semmes', 1), ('appliques', 1), ('gardenias', 1), ('bridesmaids', 1), ('newlyweds', 1), ('headdress', 1), ('orchids', 1), ('specialties', 1), ('Brothers', 1), ('shelves', 1), ('suburbs', 1), ('dinners', 1), ('Agencies', 1), ('husbands', 1), ('hostesses', 1), ('controllers', 1), ('Coles', 1), ('Models', 1), ('Mrs', 1), ('temperatures', 1), ('sponsors', 1), ('Proceeds', 1), ('Nicholas', 1), ('Jacques', 1), ('Kamens', 1), ('Liss', 1), ('Evans', 1), ('Voorhees', 1), ('Fairless', 1), ('Hoaps', 1), ('Majesties', 1), ('hosts', 1), ('Walkers', 1), ('Achaeans', 1), ('Misses', 1), ('ballgowns', 1), ('tiers', 1), ('slippers', 1), ('maids', 1), ('ashes', 1), ('roses', 1), ('threads', 1), ('sequins', 1), ('beads', 1), ('supervisors', 1), ('Commissioners', 1), ('misunderstandings', 1), ('Doctors', 1), ('deficiencies', 1), ('crews', 1), ('storms', 1), ('chains', 1), ('merchants', 1), ('observations', 1), ('blades', 1), ('shootings', 1), ('Dresbachs', 1), ('spirits', 1), ('seekers', 1), ('components', 1), ('Apartments', 1), ('stairs', 1), ('balconies', 1), ('subs', 1), ('strongrooms', 1), ('dots', 1), ('marks', 1), ('Klaus', 1), ('Symonds', 1), ('drawings', 1), ('reactors', 1), ('turbines', 1), ('torpedoes', 1), ('Designs', 1), ('signals', 1), ('wavelengths', 1), ('codes', 1), ('lighters', 1), ('addicts', 1), ('criminals', 1), ('jealousies', 1), ('grievances', 1), ('mentions', 1), ('compensations', 1), ('Otis', 1), ('Moses', 1), ('Mardis', 1), ('express', 1), ('Johns', 1), ('Charges', 1), ('homeowners', 1), ('caskets', 1), ('fumes', 1), ('Dennis', 1), ('arrears', 1), ('Homeowners', 1), ('canvass', 1), ('surpluses', 1), ('Funds', 1), ('fondness', 1), ('Scripps', 1), ('sources', 1), ('squads', 1), ('tribunals', 1), ('collaborators', 1), ('jails', 1), ('priests', 1), ('prisoners', 1), ('provisions', 1), ('documents', 1), ('Hammons', 1), ('occupants', 1), ('lacerations', 1), ('bruises', 1), ('Rights', 1), ('uniforms', 1), ('entries', 1), ('transfers', 1), ('employments', 1), ('computers', 1), ('cameras', 1), ('Expressways', 1), ('crashes', 1), ('Troopers', 1), ('Ennis', 1), ('wheels', 1), ('arguments', 1), ('Physicians', 1), ('weaknesses', 1), ('communications', 1), ('robberies', 1), ('papers', 1), ('Bess', 1), ('Dalles', 1), ('Clerks', 1), ('functions', 1), ('entertainers', 1), ('Silvers', 1), ('Elks', 1), ('Heights', 1), ('spices', 1), ('stockholders', 1), ('Youngsters', 1), ('Participants', 1), ('Advisors', 1), ('fairgoers', 1), ('Walters', 1), ('Finalists', 1), ('Results', 1), ('Phyllis', 1), ('Banks', 1), ('eggs', 1), ('Corneilus', 1), ('championships', 1), ('Jaross', 1), ('assessors', 1), ('assessments', 1), ('properties', 1), ('Thieves', 1), ('furs', 1), ('jewels', 1), ('intruders', 1), ('Kochaneks', 1), ('Nunes', 1), ('thieves', 1), ('Drawers', 1), ('cabinets', 1), ('bedrooms', 1), ('ribs', 1), ('Tougas', 1), ('damages', 1), ('Atwells', 1), ('Claus', 1), ('Persons', 1), ('Scores', 1), ('contributors', 1), ('pennies', 1), ('nickels', 1), ('alterations', 1), ('Uncas', 1), ('Riders', 1), ('Grooms', 1), ('incidents', 1), ('Sciences', 1), ('controls', 1), ('experiments', 1), ('enemies', 1), ('insects', 1), ('rodents', 1), ('blueberries', 1), ('Wilderness', 1), ('Reyes', 1), ('wetlands', 1), ('pesticides', 1), ('Rogers', 1), ('tidelands', 1), ('animals', 1), ('Missiles', 1), ('surfaces', 1), ('wings', 1), ('ailerons', 1), ('Moments', 1), ('flights', 1), ('Pilots', 1), ('gliders', 1), ('Elios', 1), ('Governments', 1), ('buddies', 1), ('chiefs', 1), ('gangsters', 1), ('Curtis', 1), ('liens', 1), ('Letters', 1), ('reams', 1), ('kinds', 1), ('ratios', 1), ('executives', 1), ('abilities', 1), ('tons', 1), ('gins', 1), ('Factories', 1), ('Lummus', 1), ('heaters', 1), ('extractors', 1), ('separators', 1), ('bearings', 1), ('doldrums', 1), ('Registrations', 1), ('makers', 1), ('compacts', 1), ('Sales', 1), ('Executives', 1), ('fields', 1), ('seniors', 1), ('Owens', 1), ('Adams', 1), ('Deloris', 1), ('Samuels', 1), ('appropriations', 1), ('conferees', 1), ('Thesis', 1), ('thesis', 1), ('phases', 1), ('Sacrifices', 1), ('Analysts', 1), ('sidelines', 1), ('Streeters', 1), ('highs', 1), ('lows', 1), ('Creations', 1), ('expenditures', 1), ('equalizers', 1), ('holdings', 1), ('Gains', 1), ('queries', 1), ('movements', 1), ('Railroads', 1), ('Starts', 1), ('Leaders', 1), ('Ehlers', 1), ('yields', 1), ('Fields', 1), ('supports', 1), ('sections', 1), ('chemicals', 1), ('affects', 1), ('inventories', 1), ('shortages', 1), ('economists', 1), ('subsidies', 1), ('receipts', 1), ('marketings', 1), ('percentages', 1), ('producers', 1), ('assets', 1), ('industries', 1), ('particulars', 1), ('revenuers', 1), ('liquidations', 1), ('invoices', 1), ('kickbacks', 1), ('boats', 1), ('distributions', 1), ('upshots', 1), ('briefs', 1), ('Voters', 1), ('entities', 1), ('fashions', 1), ('casuals', 1), ('shoes', 1), ('toes', 1), ('heels', 1), ('plaques', 1), ('luncheons', 1), ('Marcus', 1), ('showings', 1), ('Pecos', 1), ('creations', 1), ('designers', 1), ('actress', 1), ('pinks', 1), ('reds', 1), ('Isles', 1), ('Chips', 1), ('Honors', 1), ('Waxworks', 1), ('princess', 1), ('Tuberculosis', 1), ('Associations', 1), ('Boys', 1), ('coeds', 1), ('groceries', 1), ('cafeterias', 1), ('mastodons', 1), ('stomachs', 1), ('duress', 1), ('condiments', 1), ('plates', 1), ('hotdogs', 1), ('characters', 1), ('monks', 1), ('robes', 1), ('mushrooms', 1), ('facets', 1), ('varieties', 1), ('tiles', 1), ('floors', 1), ('windows', 1), ('outdoors', 1), ('insets', 1), ('arches', 1), ('tops', 1), ('chests', 1), ('wrinkles', 1), ('forms', 1), ('bookcases', 1), ('accessories', 1), ('Vagabonds', 1), ('Invitations', 1), ('dignitaries', 1), ('Ginghams', 1), ('Stetsons', 1), ('vests', 1), ('bluebonnets', 1), ('silhouettes', 1), ('Messrs', 1), ('Las', 1), ('buses', 1), ('slides', 1), ('renderings', 1), ('Examiners', 1), ('needles', 1), ('tapestries', 1), ('continents', 1), ('uprisings', 1), ('raincoats', 1), ('crackpots', 1), ('notices', 1), ('residences', 1), ('Coopers', 1), ('Currys', 1), ('Brownings', 1), ('Huntingtons', 1), ('listings', 1), ('Haskins', 1), ('Pauleys', 1), ('Moultons', 1), ('Beesemyers', 1), ('Esnards', 1), ('Wangemans', 1), ('Olerichs', 1), ('Aderholds', 1), ('Chapelles', 1), ('Berteros', 1), ('Armisteads', 1), ('Carbones', 1), ('Geddes', 1), ('MacGregors', 1), ('Althaus', 1), ('lamps', 1), ('whims', 1), ('circus', 1), ('cabinetmakers', 1), ('knocks', 1), ('homemakers', 1), ('Housewives', 1), ('skits', 1), ('vocals', 1), ('instrumentals', 1), ('instruments', 1), ('props', 1), ('nightclubs', 1), ('Cumbancheros', 1), ('Phillips', 1), ('capers', 1), ('ringsiders', 1), ('Toppers', 1), ('Wes', 1), ('bass', 1), ('chandeliers', 1), ('steaks', 1), ('chops', 1), ('brunches', 1), ('buffets', 1), ('Searles', 1), ('Michaels', 1), ('productions', 1), ('Performers', 1), ('Dancers', 1), ('Aquinas', 1), ('schoolers', 1), ('fundamentals', 1), ('prayers', 1), ('stories', 1), ('engagements', 1), ('performers', 1), ('conductors', 1), ('violinists', 1), ('pianists', 1), ('winners', 1), ('contests', 1), ('friendliness', 1), ('Dukes', 1), ('lightness', 1), ('dreams', 1), ('harmonies', 1), ('soloists', 1), ('solos', 1), ('auspices', 1), ('Players', 1), ('Franciscans', 1), ('firehouses', 1), ('Casals', 1), ('sins', 1), ('Romans', 1), ('watchers', 1), ('Adventures', 1), ('nymphomaniacs', 1), ('actors', 1), ('unknowns', 1), ('knees', 1), ('feathers', 1), ('fairies', 1), ('glories', 1), ('Weeks', 1), ('poets', 1), ('Gas', 1), ('fins', 1), ('oases', 1), ('gallons', 1), ('headlights', 1), ('Tires', 1), ('caps', 1), ('Cadillacs', 1), ('Presidents', 1), ('furnishings', 1), ('Decorators', 1), ('heirs', 1), ('descendants', 1), ('sidechairs', 1), ('armchairs', 1), ('antiquarians', 1), ('associates', 1), ('Concerts', 1), ('dozens', 1), ('nuns', 1), ('Stripes', 1), ('tours', 1), ('Rheims', 1), ('benches', 1), ('downstairs', 1), ('Bales', 1), ('sphynxes', 1), ('antagonisms', 1), ('evenings', 1), ('Blacks', 1), ('Givers', 1), ('rangers', 1), ('colors', 1), ('realities', 1), ('stakes', 1), ('encounters', 1), ('inroads', 1), ('concessions', 1), ('smiles', 1), ('tensions', 1), ('councils', 1), ('pressures', 1), ('episodes', 1), ('warnings', 1), ('deliberations', 1), ('reactions', 1), ('instincts', 1), ('adversaries', 1), ('notions', 1), ('feelings', 1), ('onus', 1), ('Mollusks', 1), ('centuries', 1), ('minorities', 1), ('Catholics', 1), ('resourcefulness', 1), ('sacrifices', 1), ('totals', 1), ('anomalies', 1), ('enrollments', 1), ('capabilities', 1), ('partners', 1), ('Expressions', 1), ('salaries', 1), ('intangibles', 1), ('stimulus', 1), ('conclusions', 1), ('campus', 1), ('squabbles', 1), ('stoppages', 1), ('sums', 1), ('Machinists', 1), ('enterprises', 1), ('muscles', 1), ('survivors', 1), ('fellows', 1), ('enforcers', 1), ('facts', 1), ('scapegoats', 1), ('usefulness', 1), ('empires', 1), ('sentences', 1), ('prosecutions', 1), ('ineptness', 1), ('organizers', 1), ('customs', 1), ('conspiracies', 1), ('combinations', 1), ('hypocrisies', 1), ('injunctions', 1), ('Aeronautics', 1), ('airlines', 1), ('Hatters', 1), ('consumers', 1), ('offensives', 1), ('Hours', 1), ('battalions', 1), ('readiness', 1), ('carriers', 1), ('troopships', 1), ('marines', 1), ('sorts', 1), ('Dulles', 1), ('drops', 1), ('transports', 1), ('noses', 1), ('Meyers', 1), ('godliness', 1), ('constituents', 1), ('Reprisals', 1), ('Dixiecrats', 1), ('News', 1), ('Appropriations', 1), ('cloakrooms', 1), ('caucuses', 1), ('Mississippians', 1), ('arenas', 1), ('Southerners', 1), ('chairmanships', 1), ('filibusters', 1), ('Congresses', 1), ('pros', 1), ('tears', 1), ('jitters', 1), ('footnotes', 1), ('duels', 1), ('consequences', 1), ('Nicklaus', 1), ('treacheries', 1), ('focus', 1), ('scoreboards', 1), ('moments', 1), ('aggressiveness', 1), ('bogeys', 1), ('Angels', 1), ('Pitchers', 1), ('Experts', 1), ('paces', 1), ('Roommates', 1), ('roommates', 1), ('backgrounds', 1), ('stars', 1), ('halfbacks', 1), ('minors', 1), ('backs', 1), ('shoulders', 1), ('opus', 1), ('minds', 1), ('passages', 1), ('photographers', 1), ('occasions', 1), ('idols', 1), ('heroes', 1), ('stances', 1), ('swings', 1), ('bunters', 1), ('fielders', 1), ('cats', 1), ('ensembles', 1), ('vines', 1), ('weeds', 1), ('socks', 1), ('buss', 1), ('tutors', 1), ('classmates', 1), ('rallies', 1), ('crowns', 1), ('virtues', 1), ('eulogizers', 1), ('impressions', 1), ('jetliners', 1), ('headlines', 1), ('drivers', 1), ('bellboys', 1), ('Cezannes', 1), ('Braques', 1), ('Matisses', 1), ('Legers', 1), ('prizes', 1), ('treasures', 1), ('classrooms', 1), ('pretexts', 1), ('skins', 1), ('investigators', 1), ('plaintiffs', 1), ('successors', 1), ('scholars', 1), ('genes', 1), ('researchers', 1), ('wilderness', 1), ('explorers', 1), ('dialects', 1), ('religions', 1), ('patients', 1), ('disparities', 1), ('beneficiaries', 1), ('cartels', 1), ('colossus', 1), ('carpenters', 1), ('colonies', 1), ('mess', 1), ('motivations', 1), ('moderates', 1), ('frictions', 1), ('civilians', 1), ('paratroops', 1), ('mercenaries', 1), ('Tunis', 1), ('emissaries', 1), ('stopovers', 1), ('skyjackers', 1), ('recruits', 1), ('hijackers', 1), ('shadows', 1), ('Mountains', 1), ('slugs', 1), ('engines', 1), ('Ambulances', 1), ('stewardesses', 1), ('mutterers', 1), ('bombers', 1), ('smelts', 1), ('crabs', 1), ('Dubois', 1), ('Holders', 1), ('Things', 1), ('streams', 1), ('speculations', 1), ('investments', 1), ('rises', 1), ('declines', 1), ('lags', 1), ('Costs', 1), ('successes', 1), ('Success', 1), ('extensions', 1), ('bypass', 1), ('opportunities', 1), ('planners', 1), ('margins', 1), ('typewriters', 1), ('Pakistanis', 1), ('mouths', 1), ('takings', 1), ('markets', 1), ('rentals', 1), ('variations', 1), ('readers', 1), ('lovers', 1), ('wants', 1), ('limitations', 1), ('contrasts', 1), ('advantages', 1), ('nucleus', 1), ('tools', 1), ('periodicals', 1), ('canvas', 1), ('discounts', 1), ('Books', 1), ('Schools', 1), ('classics', 1), ('Workshops', 1), ('responsibilities', 1), ('conducts', 1), ('visits', 1), ('copies', 1), ('lists', 1), ('grassroots', 1), ('booklists', 1), ('brochures', 1), ('Librarians', 1), ('newcomers', 1), ('advances', 1), ('pupils', 1)]\n",
      "\n",
      "The word whose distinct tags are the largest: \n",
      "Word: 'that', Tags: FreqDist({'ADP': 545, 'PRON': 128, 'DET': 124, 'ADV': 5})\n",
      "Therefore, the word 'that' has 4 distinct tags: Adposition, Pronoun, Determiner(Article), and Adverb\n",
      "\n",
      "Return the 20 most frequent tags: \n",
      "['NOUN', 'VERB', 'ADP', '.', 'DET', 'ADJ', 'ADV', 'CONJ', 'PRON', 'PRT', 'NUM', 'X']\n",
      "\n",
      "Return the 5 most common tags followed by noun: \n",
      "[('NOUN', 7959), ('.', 7732), ('ADP', 6519), ('VERB', 4192), ('CONJ', 1457)]\n",
      "They reprecent Noun, Period, Adposition, Verb, Conjunctions\n",
      "\n"
     ]
    }
   ],
   "source": [
    "# load brown corpos tags\n",
    "tags = nltk.corpus.brown.tagged_words(categories='news', tagset='universal')\n",
    "\n",
    "# (a): Which nouns are more common in their plural form\n",
    "#  define freq dist of nouns whose format is plural \n",
    "plural_nouns_fd = nltk.FreqDist([word for (word, tag) in tags if tag == 'NOUN' and re.search(r'^[A-Za-z]+s$', word)])\n",
    "print(\"More common plural form nouns:\")\n",
    "print(plural_nouns_fd.most_common())\n",
    "print('')\n",
    "\n",
    "# (b): Which word has the greatest number of distinct tags?\n",
    "#  define freq dist of tags conditioned by each word\n",
    "cfd = nltk.ConditionalFreqDist(tags)\n",
    "#  get the word the greatest number of distinct\n",
    "word = max(cfd.conditions(), key=lambda w: len(cfd[w]))\n",
    "print(\"The word whose distinct tags are the largest: \")\n",
    "print(f\"Word: '{word}', Tags: {cfd[word].__repr__()}\")\n",
    "print(\"Therefore, the word 'that' has 4 distinct tags: Adposition, Pronoun, Determiner(Article), and Adverb\")\n",
    "print('')\n",
    "\n",
    "# (c): List tags in order of decreasing frequency\n",
    "tags_dec_freq = list(nltk.FreqDist([tag for (word, tag) in tags]))\n",
    "print(\"Return the 20 most frequent tags: \")\n",
    "print(tags_dec_freq[:20])\n",
    "print(\"\")\n",
    "\n",
    "# (d): Which tags are nouns most commonly found after? What do these tags represent?\n",
    "tags_after_noun_freq = nltk.FreqDist([b[1] for (a, b) in nltk.bigrams(tags) if a[1] == 'NOUN'])\n",
    "print(\"Return the 5 most common tags followed by noun: \")\n",
    "print(tags_after_noun_freq.most_common(5))\n",
    "print(\"They reprecent Noun, Period, Adposition, Verb, Conjunctions\")\n",
    "print('')"
   ]
  },
  {
   "cell_type": "code",
   "execution_count": null,
   "metadata": {},
   "outputs": [],
   "source": []
  }
 ],
 "metadata": {
  "kernelspec": {
   "display_name": "Python 3",
   "language": "python",
   "name": "python3"
  },
  "language_info": {
   "codemirror_mode": {
    "name": "ipython",
    "version": 3
   },
   "file_extension": ".py",
   "mimetype": "text/x-python",
   "name": "python",
   "nbconvert_exporter": "python",
   "pygments_lexer": "ipython3",
   "version": "3.11.5"
  },
  "orig_nbformat": 4
 },
 "nbformat": 4,
 "nbformat_minor": 2
}
