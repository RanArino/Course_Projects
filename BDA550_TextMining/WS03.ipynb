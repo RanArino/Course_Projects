{
 "cells": [
  {
   "cell_type": "code",
   "execution_count": 1,
   "metadata": {},
   "outputs": [],
   "source": [
    "import nltk\n",
    "import re"
   ]
  },
  {
   "cell_type": "markdown",
   "metadata": {},
   "source": [
    "# Question 01"
   ]
  },
  {
   "cell_type": "code",
   "execution_count": 71,
   "metadata": {},
   "outputs": [
    {
     "name": "stdout",
     "output_type": "stream",
     "text": [
      "Error in booked/VB (sent1); Correct tag is VBD.\n",
      "The word 'flight' is not found in the Penn Treebank tagset.\n",
      "The word 'Calgary' is not found in the Penn Treebank tagset.\n",
      "The word 'Does' is not found in the Penn Treebank tagset.\n",
      "The word 'flight' is not found in the Penn Treebank tagset.\n",
      "The word 'complementary' is not found in the Penn Treebank tagset.\n",
      "Error in ?/? (sent2); Correct tag is ..\n",
      "Error in living/VB (sent3); Correct tag is NN.\n"
     ]
    }
   ],
   "source": [
    "# define sentences\n",
    "sent1 = 'I/PRP booked/VB a/DT flight/NNP from/IN Toronto/NNP to/TO Calgary/NNP ./.'\n",
    "sent2 = 'Does/VBZ this/DT flight/NNP serve/VB complementary/JJ drinks/NNS ?/?'\n",
    "sent3 = 'I/PRP have/VBP a/DT friend/NN living/VB in/IN Toronto/NNP ./.'\n",
    "\n",
    "# changes to tag tuples\n",
    "tags1 = [nltk.tag.str2tuple(w) for w in sent1.split()]\n",
    "tags2 = [nltk.tag.str2tuple(w) for w in sent2.split()]\n",
    "tags3 = [nltk.tag.str2tuple(w) for w in sent3.split()]\n",
    "\n",
    "# get the tagset of the Penn Treebank\n",
    "treebank_tagset = nltk.corpus.treebank.tagged_words()\n",
    "\n",
    "# get the conditional freq dist between word and tag\n",
    "cfd = nltk.ConditionalFreqDist(treebank_tagset)\n",
    "\n",
    "# find tagging erros compared to the Penn Treebank tagset\n",
    "for i, tag_tuple in enumerate([tags1, tags2, tags3]):\n",
    "    for word, tag in tag_tuple:\n",
    "        # if word cannot be specified in the Penn Treebank\n",
    "        if not cfd[word].most_common():\n",
    "            print(f\"The word '{word}' is not found in the Penn Treebank tagset.\")\n",
    "            continue\n",
    "        # check the correct tag in Penn Treebank\n",
    "        corrent_tag = cfd[word].most_common()[0][0]\n",
    "        # check the error\n",
    "        if corrent_tag != tag:\n",
    "            print(f\"Error in {word}/{tag} (sent{i+1}); Correct tag is {corrent_tag}.\")"
   ]
  },
  {
   "cell_type": "markdown",
   "metadata": {},
   "source": [
    "# Question 02"
   ]
  },
  {
   "cell_type": "code",
   "execution_count": 80,
   "metadata": {},
   "outputs": [
    {
     "name": "stdout",
     "output_type": "stream",
     "text": [
      "Humor: \n",
      "[('Finally', None), (',', ','), ('at', 'IN'), ('Ye', None), ('Olde', None), ('Gasse', None), ('Filling', None), ('Station', None), ('on', 'IN'), ('Avocado', None), ('Avenue', None), (',', ','), ('they', 'PPSS'), ('learned', None), ('that', 'CS'), ('their', 'PP$'), ('man', 'NN'), (',', ','), ('having', None), ('paused', None), ('to', 'TO'), ('get', 'VB'), ('oil', None), ('for', 'IN'), ('his', 'PP$'), ('car', None), (',', ','), ('had', 'HVD'), ('asked', None), ('about', 'IN'), ('the', 'AT'), ('route', None), ('to', 'TO'), ('San', None), ('Diego', None), ('.', '.')]\n",
      "\n",
      "Learned: \n",
      "[('Of', None), ('the', 'AT'), ('remaining', None), ('planets', None), (',', ','), ('only', 'RB'), ('Mars', None), ('and', 'CC'), ('Saturn', None), ('have', 'HV'), ('been', 'BEN'), ('observed', None), ('as', 'CS'), ('radio', None), ('sources', None), (',', ','), ('and', 'CC'), ('not', '*'), ('very', 'QL'), ('much', 'AP'), ('information', None), ('is', 'BEZ'), ('available', None), ('.', '.')]\n",
      "\n",
      "- We can observe that some words do not have a tag.      \n",
      "- The reason why a tag is not assigned in some words is that those words are not found in the trained texts.\n",
      "- In this case, for example, the word \"Ye\" does not exist in the adventure category of the broan text.\n",
      "\n"
     ]
    }
   ],
   "source": [
    "# Train a unigram tagger based on the brown 'adventure'\n",
    "#  freq dist\n",
    "fd = nltk.FreqDist(nltk.corpus.brown.words(categories='adventure'))\n",
    "#  conditional freq dist\n",
    "cfd = nltk.ConditionalFreqDist(nltk.corpus.brown.tagged_words(categories='adventure'))\n",
    "#  most frequency words (top 200)\n",
    "most_freq_words = fd.most_common(200)\n",
    "#  define likely tags\n",
    "likely_tags = dict((word, cfd[word].max()) for (word, _) in most_freq_words)\n",
    "#  create tag model\n",
    "baseline_tagger = nltk.UnigramTagger(model=likely_tags)\n",
    "\n",
    "# Get some new texts\n",
    "new_sent1 = nltk.corpus.brown.sents(categories='humor')[5]\n",
    "new_sent2 = nltk.corpus.brown.sents(categories='learned')[10]\n",
    "\n",
    "# apply the tag model to new texts\n",
    "print('Humor: ')\n",
    "print(baseline_tagger.tag(new_sent1))\n",
    "print('')\n",
    "\n",
    "print('Learned: ')\n",
    "print(baseline_tagger.tag(new_sent2))\n",
    "\n",
    "\n",
    "print(\"\"\"\n",
    "- We can observe that some words do not have a tag.      \n",
    "- The reason why a tag is not assigned in some words is that those words are not found in the trained word-tag pairs.\n",
    "- In this case, for example, the word \"Finally\" does not exist in the adventure category of the broan text.\n",
    "\"\"\")"
   ]
  },
  {
   "cell_type": "markdown",
   "metadata": {},
   "source": [
    "# Question 03"
   ]
  },
  {
   "cell_type": "code",
   "execution_count": 2,
   "metadata": {},
   "outputs": [
    {
     "name": "stdout",
     "output_type": "stream",
     "text": [
      "More common plural form nouns (show the first 20 items): \n",
      "[('years', 102), ('members', 69), ('sales', 51), ('Dallas', 49), ('Texas', 48), ('Miss', 46), ('business', 42), ('months', 42), ('days', 38), ('States', 38), ('Laos', 38), ('James', 37), ('schools', 37), ('Maris', 36), ('laws', 30), ('runs', 30), ('bonds', 29), ('funds', 28), ('countries', 28), ('series', 25)]\n",
      "\n",
      "The word whose distinct tags are the largest: \n",
      "Word: 'that', Tags: FreqDist({'ADP': 545, 'PRON': 128, 'DET': 124, 'ADV': 5})\n",
      "Therefore, the word 'that' has 4 distinct tags: Adposition, Pronoun, Determiner(Article), and Adverb\n",
      "\n",
      "Return the 20 most frequent tags: \n",
      "['NOUN', 'VERB', 'ADP', '.', 'DET', 'ADJ', 'ADV', 'CONJ', 'PRON', 'PRT', 'NUM', 'X']\n",
      "\n",
      "Return the 5 most common tags followed by noun: \n",
      "[('NOUN', 7959), ('.', 7732), ('ADP', 6519), ('VERB', 4192), ('CONJ', 1457)]\n",
      "They reprecent Noun, Period, Adposition, Verb, Conjunctions\n",
      "\n"
     ]
    }
   ],
   "source": [
    "# load brown corpos tags\n",
    "tags = nltk.corpus.brown.tagged_words(categories='news', tagset='universal')\n",
    "\n",
    "# (a): Which nouns are more common in their plural form\n",
    "#  define freq dist of nouns whose format is plural \n",
    "plural_nouns_fd = nltk.FreqDist([word for (word, tag) in tags if tag == 'NOUN' and re.search(r'^[A-Za-z]+s$', word)])\n",
    "print(\"More common plural form nouns (show the first 20 items): \")\n",
    "print(plural_nouns_fd.most_common(20))\n",
    "print('')\n",
    "\n",
    "# (b): Which word has the greatest number of distinct tags?\n",
    "#  define freq dist of tags conditioned by each word\n",
    "cfd = nltk.ConditionalFreqDist(tags)\n",
    "#  get the word the greatest number of distinct\n",
    "word = max(cfd.conditions(), key=lambda w: len(cfd[w]))\n",
    "print(\"The word whose distinct tags are the largest: \")\n",
    "print(f\"Word: '{word}', Tags: {cfd[word].__repr__()}\")\n",
    "print(\"Therefore, the word 'that' has 4 distinct tags: Adposition, Pronoun, Determiner(Article), and Adverb\")\n",
    "print('')\n",
    "\n",
    "# (c): List tags in order of decreasing frequency\n",
    "tags_dec_freq = list(nltk.FreqDist([tag for (word, tag) in tags]))\n",
    "print(\"Return the 20 most frequent tags: \")\n",
    "print(tags_dec_freq[:20])\n",
    "print(\"\")\n",
    "\n",
    "# (d): Which tags are nouns most commonly found after? What do these tags represent?\n",
    "tags_after_noun_freq = nltk.FreqDist([b[1] for (a, b) in nltk.bigrams(tags) if a[1] == 'NOUN'])\n",
    "print(\"Return the 5 most common tags followed by noun: \")\n",
    "print(tags_after_noun_freq.most_common(5))\n",
    "print(\"They reprecent Noun, Period, Adposition, Verb, Conjunctions\")\n",
    "print('')"
   ]
  },
  {
   "cell_type": "code",
   "execution_count": null,
   "metadata": {},
   "outputs": [],
   "source": []
  }
 ],
 "metadata": {
  "kernelspec": {
   "display_name": "Python 3",
   "language": "python",
   "name": "python3"
  },
  "language_info": {
   "codemirror_mode": {
    "name": "ipython",
    "version": 3
   },
   "file_extension": ".py",
   "mimetype": "text/x-python",
   "name": "python",
   "nbconvert_exporter": "python",
   "pygments_lexer": "ipython3",
   "version": "3.11.5"
  },
  "orig_nbformat": 4
 },
 "nbformat": 4,
 "nbformat_minor": 2
}
