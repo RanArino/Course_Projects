{
 "cells": [
  {
   "cell_type": "markdown",
   "metadata": {},
   "source": [
    "# Workship 04"
   ]
  },
  {
   "cell_type": "markdown",
   "metadata": {},
   "source": [
    "### Question 1"
   ]
  },
  {
   "cell_type": "code",
   "execution_count": 21,
   "metadata": {},
   "outputs": [],
   "source": [
    "import numpy as np"
   ]
  },
  {
   "cell_type": "code",
   "execution_count": 28,
   "metadata": {},
   "outputs": [
    {
     "name": "stdout",
     "output_type": "stream",
     "text": [
      "[0.        1.5849625 1.5849625 0.        0.        0.       ]\n",
      "\n",
      "[0.        0.        0.        0.5849625 1.5849625 0.       ]\n",
      "\n",
      "[0.        0.        0.        0.5849625 0.        1.5849625]\n"
     ]
    }
   ],
   "source": [
    "# Part 1\n",
    "vocabulary = ['information', 'data', 'train', 'computer', 'cpu', 'retrieval']\n",
    "\n",
    "tf = [[1,1,1,0,0,0],\n",
    "      [1,0,0,1,1,0],\n",
    "      [1,0,0,1,0,1]]\n",
    "\n",
    "idf = [np.log2(3/3),np.log2(3/1),np.log2(3/1),np.log2(3/2),np.log2(3/1),np.log2(3/1)]\n",
    "\n",
    "d1_vec = np.multiply(tf[0], idf)\n",
    "d2_vec = np.multiply(tf[1], idf)\n",
    "d3_vec = np.multiply(tf[2], idf)\n",
    "\n",
    "print(d1_vec)\n",
    "print('')\n",
    "print(d2_vec)\n",
    "print('')\n",
    "print(d3_vec)"
   ]
  },
  {
   "cell_type": "code",
   "execution_count": 40,
   "metadata": {},
   "outputs": [
    {
     "data": {
      "text/plain": [
       "{\"sigma('d1', 'd2')\": 0.0,\n",
       " \"sigma('d1', 'd3')\": 0.0,\n",
       " \"sigma('d2', 'd3')\": 0.11988321306398911}"
      ]
     },
     "execution_count": 40,
     "metadata": {},
     "output_type": "execute_result"
    }
   ],
   "source": [
    "# part 2\n",
    "from itertools import combinations\n",
    "\n",
    "vectors = {'d1': d1_vec, 'd2': d2_vec, 'd3': d3_vec}\n",
    "\n",
    "def cosine_similarity(vectors):\n",
    "    # define similarities\n",
    "    similarity = {}\n",
    "    # travesing all vector combinations\n",
    "    for pair in combinations(vectors.keys(), 2):\n",
    "        # get vector\n",
    "        A, B = vectors[pair[0]], vectors[pair[1]]\n",
    "        # calculate dot product\n",
    "        similarity[f'sigma{pair}'] = np.dot(A, B) / (np.linalg.norm(A)*np.linalg.norm(B))\n",
    "\n",
    "    return similarity\n",
    "\n",
    "cosine_similarity(vectors)"
   ]
  },
  {
   "cell_type": "markdown",
   "metadata": {},
   "source": [
    "### Question 2"
   ]
  },
  {
   "cell_type": "code",
   "execution_count": 18,
   "metadata": {},
   "outputs": [
    {
     "name": "stdout",
     "output_type": "stream",
     "text": [
      "['In the shadows of the forest that flanks the crimson plain by the side of the Lost Sea of Korus in the Valley Dor, beneath the hurtling moons of Mars, speeding their meteoric way close above the bosom of the dying planet, I crept stealthily along the trail of a shadowy form that hugged the darker places with a persistency that proclaimed the sinister nature of its errand.\\n', \"Had Phaidor's slim blade found that beloved heart?  \\n\", 'Time only would reveal the truth.\\n', 'Half of them had passed, or would on the morrow, yet vivid in my memory, obliterating every event that had come before or after, there remained the last scene before the gust of smoke blinded my eyes and the narrow slit that had given me sight of the interior of her cell closed between me and the Princess of Helium for a long Martian year.\\n', 'As if it were yesterday, I still saw the beautiful face of Phaidor, daughter of Matai Shang, distorted with jealous rage and hatred as she sprang forward with raised dagger upon the woman I loved.\\n', 'I saw the red girl, Thuvia of Ptarth, leap forward to prevent the hideous deed.\\n']\n"
     ]
    }
   ],
   "source": [
    "# load corpus\n",
    "with open('corpus5.txt', 'r') as f:\n",
    "    corpus = f.readlines()\n",
    "\n",
    "print(corpus)"
   ]
  },
  {
   "cell_type": "code",
   "execution_count": 14,
   "metadata": {},
   "outputs": [
    {
     "name": "stdout",
     "output_type": "stream",
     "text": [
      "Words list:\n",
      "['above' 'after' 'along' 'and' 'as' 'beautiful' 'before' 'beloved'\n",
      " 'beneath' 'between' 'blade' 'blinded' 'bosom' 'by' 'cell' 'close'\n",
      " 'closed' 'come' 'crept' 'crimson' 'dagger' 'darker' 'daughter' 'deed'\n",
      " 'distorted' 'dor' 'dying' 'errand' 'event' 'every' 'eyes' 'face' 'flanks'\n",
      " 'for' 'forest' 'form' 'forward' 'found' 'girl' 'given' 'gust' 'had'\n",
      " 'half' 'hatred' 'heart' 'helium' 'her' 'hideous' 'hugged' 'hurtling' 'if'\n",
      " 'in' 'interior' 'it' 'its' 'jealous' 'korus' 'last' 'leap' 'long' 'lost'\n",
      " 'loved' 'mars' 'martian' 'matai' 'me' 'memory' 'meteoric' 'moons'\n",
      " 'morrow' 'my' 'narrow' 'nature' 'obliterating' 'of' 'on' 'only' 'or'\n",
      " 'passed' 'persistency' 'phaidor' 'places' 'plain' 'planet' 'prevent'\n",
      " 'princess' 'proclaimed' 'ptarth' 'rage' 'raised' 'red' 'remained'\n",
      " 'reveal' 'saw' 'scene' 'sea' 'shadows' 'shadowy' 'shang' 'she' 'side'\n",
      " 'sight' 'sinister' 'slim' 'slit' 'smoke' 'speeding' 'sprang' 'stealthily'\n",
      " 'still' 'that' 'the' 'their' 'them' 'there' 'thuvia' 'time' 'to' 'trail'\n",
      " 'truth' 'upon' 'valley' 'vivid' 'way' 'were' 'with' 'woman' 'would'\n",
      " 'year' 'yesterday' 'yet']\n",
      "\n",
      "Frequency Vectors:\n",
      "[[ 1  0  1  0  0  0  0  0  1  0  0  0  1  1  0  1  0  0  1  1  0  1  0  0\n",
      "   0  1  1  1  0  0  0  0  1  0  1  1  0  0  0  0  0  0  0  0  0  0  0  0\n",
      "   1  1  0  2  0  0  1  0  1  0  0  0  1  0  1  0  0  0  0  1  1  0  0  0\n",
      "   1  0  7  0  0  0  0  1  0  1  1  1  0  0  1  0  0  0  0  0  0  0  0  1\n",
      "   1  1  0  0  1  0  1  0  0  0  1  0  1  0  3 12  1  0  0  0  0  0  1  0\n",
      "   0  1  0  1  0  1  0  0  0  0  0]\n",
      " [ 0  0  0  0  0  0  0  1  0  0  1  0  0  0  0  0  0  0  0  0  0  0  0  0\n",
      "   0  0  0  0  0  0  0  0  0  0  0  0  0  1  0  0  0  1  0  0  1  0  0  0\n",
      "   0  0  0  0  0  0  0  0  0  0  0  0  0  0  0  0  0  0  0  0  0  0  0  0\n",
      "   0  0  0  0  0  0  0  0  1  0  0  0  0  0  0  0  0  0  0  0  0  0  0  0\n",
      "   0  0  0  0  0  0  0  1  0  0  0  0  0  0  1  0  0  0  0  0  0  0  0  0\n",
      "   0  0  0  0  0  0  0  0  0  0  0]\n",
      " [ 0  0  0  0  0  0  0  0  0  0  0  0  0  0  0  0  0  0  0  0  0  0  0  0\n",
      "   0  0  0  0  0  0  0  0  0  0  0  0  0  0  0  0  0  0  0  0  0  0  0  0\n",
      "   0  0  0  0  0  0  0  0  0  0  0  0  0  0  0  0  0  0  0  0  0  0  0  0\n",
      "   0  0  0  0  1  0  0  0  0  0  0  0  0  0  0  0  0  0  0  0  1  0  0  0\n",
      "   0  0  0  0  0  0  0  0  0  0  0  0  0  0  0  1  0  0  0  0  1  0  0  1\n",
      "   0  0  0  0  0  0  0  1  0  0  0]\n",
      " [ 0  1  0  2  0  0  2  0  0  1  0  1  0  0  1  0  1  1  0  0  0  0  0  0\n",
      "   0  0  0  0  1  1  1  0  0  1  0  0  0  0  0  1  1  3  1  0  0  1  1  0\n",
      "   0  0  0  1  1  0  0  0  0  1  0  1  0  0  0  1  0  2  1  0  0  1  2  1\n",
      "   0  1  5  1  0  2  1  0  0  0  0  0  0  1  0  0  0  0  0  1  0  0  1  0\n",
      "   0  0  0  0  0  1  0  0  1  1  0  0  0  0  2  6  0  1  1  0  0  0  0  0\n",
      "   0  0  1  0  0  0  0  1  1  0  1]\n",
      " [ 0  0  0  1  2  1  0  0  0  0  0  0  0  0  0  0  0  0  0  0  1  0  1  0\n",
      "   1  0  0  0  0  0  0  1  0  0  0  0  1  0  0  0  0  0  0  1  0  0  0  0\n",
      "   0  0  1  0  0  1  0  1  0  0  0  0  0  1  0  0  1  0  0  0  0  0  0  0\n",
      "   0  0  2  0  0  0  0  0  1  0  0  0  0  0  0  0  1  1  0  0  0  1  0  0\n",
      "   0  0  1  1  0  0  0  0  0  0  0  1  0  1  0  2  0  0  0  0  0  0  0  0\n",
      "   1  0  0  0  1  2  1  0  0  1  0]\n",
      " [ 0  0  0  0  0  0  0  0  0  0  0  0  0  0  0  0  0  0  0  0  0  0  0  1\n",
      "   0  0  0  0  0  0  0  0  0  0  0  0  1  0  1  0  0  0  0  0  0  0  0  1\n",
      "   0  0  0  0  0  0  0  0  0  0  1  0  0  0  0  0  0  0  0  0  0  0  0  0\n",
      "   0  0  1  0  0  0  0  0  0  0  0  0  1  0  0  1  0  0  1  0  0  1  0  0\n",
      "   0  0  0  0  0  0  0  0  0  0  0  0  0  0  0  2  0  0  0  1  0  1  0  0\n",
      "   0  0  0  0  0  0  0  0  0  0  0]]\n"
     ]
    }
   ],
   "source": [
    "# freuqency approach\n",
    "\n",
    "from sklearn.feature_extraction.text import CountVectorizer\n",
    "\n",
    "vectorizer = CountVectorizer()\n",
    "vectors = vectorizer.fit_transform(corpus)\n",
    "print('Words list:')\n",
    "print(vectorizer.get_feature_names_out())\n",
    "print('')\n",
    "print('Frequency Vectors:')\n",
    "print(vectors.todense())"
   ]
  },
  {
   "cell_type": "code",
   "execution_count": 19,
   "metadata": {},
   "outputs": [
    {
     "name": "stdout",
     "output_type": "stream",
     "text": [
      "Words list: \n",
      "['above' 'after' 'along' 'and' 'as' 'beautiful' 'before' 'beloved'\n",
      " 'beneath' 'between' 'blade' 'blinded' 'bosom' 'by' 'cell' 'close'\n",
      " 'closed' 'come' 'crept' 'crimson' 'dagger' 'darker' 'daughter' 'deed'\n",
      " 'distorted' 'dor' 'dying' 'errand' 'event' 'every' 'eyes' 'face' 'flanks'\n",
      " 'for' 'forest' 'form' 'forward' 'found' 'girl' 'given' 'gust' 'had'\n",
      " 'half' 'hatred' 'heart' 'helium' 'her' 'hideous' 'hugged' 'hurtling' 'if'\n",
      " 'in' 'interior' 'it' 'its' 'jealous' 'korus' 'last' 'leap' 'long' 'lost'\n",
      " 'loved' 'mars' 'martian' 'matai' 'me' 'memory' 'meteoric' 'moons'\n",
      " 'morrow' 'my' 'narrow' 'nature' 'obliterating' 'of' 'on' 'only' 'or'\n",
      " 'passed' 'persistency' 'phaidor' 'places' 'plain' 'planet' 'prevent'\n",
      " 'princess' 'proclaimed' 'ptarth' 'rage' 'raised' 'red' 'remained'\n",
      " 'reveal' 'saw' 'scene' 'sea' 'shadows' 'shadowy' 'shang' 'she' 'side'\n",
      " 'sight' 'sinister' 'slim' 'slit' 'smoke' 'speeding' 'sprang' 'stealthily'\n",
      " 'still' 'that' 'the' 'their' 'them' 'there' 'thuvia' 'time' 'to' 'trail'\n",
      " 'truth' 'upon' 'valley' 'vivid' 'way' 'were' 'with' 'woman' 'would'\n",
      " 'year' 'yesterday' 'yet']\n",
      " \n",
      "Vector\n",
      "[[0.09866781 0.         0.09866781 0.         0.         0.\n",
      "  0.         0.         0.09866781 0.         0.         0.\n",
      "  0.09866781 0.09866781 0.         0.09866781 0.         0.\n",
      "  0.09866781 0.09866781 0.         0.09866781 0.         0.\n",
      "  0.         0.09866781 0.09866781 0.09866781 0.         0.\n",
      "  0.         0.         0.09866781 0.         0.09866781 0.09866781\n",
      "  0.         0.         0.         0.         0.         0.\n",
      "  0.         0.         0.         0.         0.         0.\n",
      "  0.09866781 0.09866781 0.         0.16181803 0.         0.\n",
      "  0.09866781 0.         0.09866781 0.         0.         0.\n",
      "  0.09866781 0.         0.09866781 0.         0.         0.\n",
      "  0.         0.09866781 0.09866781 0.         0.         0.\n",
      "  0.09866781 0.         0.40974907 0.         0.         0.\n",
      "  0.         0.09866781 0.         0.09866781 0.09866781 0.09866781\n",
      "  0.         0.         0.09866781 0.         0.         0.\n",
      "  0.         0.         0.         0.         0.         0.09866781\n",
      "  0.09866781 0.09866781 0.         0.         0.09866781 0.\n",
      "  0.09866781 0.         0.         0.         0.09866781 0.\n",
      "  0.09866781 0.         0.20492686 0.60660189 0.09866781 0.\n",
      "  0.         0.         0.         0.         0.09866781 0.\n",
      "  0.         0.09866781 0.         0.09866781 0.         0.08090902\n",
      "  0.         0.         0.         0.         0.        ]\n",
      " [0.         0.         0.         0.         0.         0.\n",
      "  0.         0.38280352 0.         0.         0.38280352 0.\n",
      "  0.         0.         0.         0.         0.         0.\n",
      "  0.         0.         0.         0.         0.         0.\n",
      "  0.         0.         0.         0.         0.         0.\n",
      "  0.         0.         0.         0.         0.         0.\n",
      "  0.         0.38280352 0.         0.         0.         0.31390437\n",
      "  0.         0.         0.38280352 0.         0.         0.\n",
      "  0.         0.         0.         0.         0.         0.\n",
      "  0.         0.         0.         0.         0.         0.\n",
      "  0.         0.         0.         0.         0.         0.\n",
      "  0.         0.         0.         0.         0.         0.\n",
      "  0.         0.         0.         0.         0.         0.\n",
      "  0.         0.         0.31390437 0.         0.         0.\n",
      "  0.         0.         0.         0.         0.         0.\n",
      "  0.         0.         0.         0.         0.         0.\n",
      "  0.         0.         0.         0.         0.         0.\n",
      "  0.         0.38280352 0.         0.         0.         0.\n",
      "  0.         0.         0.26501964 0.         0.         0.\n",
      "  0.         0.         0.         0.         0.         0.\n",
      "  0.         0.         0.         0.         0.         0.\n",
      "  0.         0.         0.         0.         0.        ]\n",
      " [0.         0.         0.         0.         0.         0.\n",
      "  0.         0.         0.         0.         0.         0.\n",
      "  0.         0.         0.         0.         0.         0.\n",
      "  0.         0.         0.         0.         0.         0.\n",
      "  0.         0.         0.         0.         0.         0.\n",
      "  0.         0.         0.         0.         0.         0.\n",
      "  0.         0.         0.         0.         0.         0.\n",
      "  0.         0.         0.         0.         0.         0.\n",
      "  0.         0.         0.         0.         0.         0.\n",
      "  0.         0.         0.         0.         0.         0.\n",
      "  0.         0.         0.         0.         0.         0.\n",
      "  0.         0.         0.         0.         0.         0.\n",
      "  0.         0.         0.         0.         0.4501536  0.\n",
      "  0.         0.         0.         0.         0.         0.\n",
      "  0.         0.         0.         0.         0.         0.\n",
      "  0.         0.         0.4501536  0.         0.         0.\n",
      "  0.         0.         0.         0.         0.         0.\n",
      "  0.         0.         0.         0.         0.         0.\n",
      "  0.         0.         0.         0.23062572 0.         0.\n",
      "  0.         0.         0.4501536  0.         0.         0.4501536\n",
      "  0.         0.         0.         0.         0.         0.\n",
      "  0.         0.36913239 0.         0.         0.        ]\n",
      " [0.         0.11026244 0.         0.18083356 0.         0.\n",
      "  0.22052489 0.         0.         0.11026244 0.         0.11026244\n",
      "  0.         0.         0.11026244 0.         0.11026244 0.11026244\n",
      "  0.         0.         0.         0.         0.         0.\n",
      "  0.         0.         0.         0.         0.11026244 0.11026244\n",
      "  0.11026244 0.         0.         0.11026244 0.         0.\n",
      "  0.         0.         0.         0.11026244 0.11026244 0.27125034\n",
      "  0.11026244 0.         0.         0.11026244 0.11026244 0.\n",
      "  0.         0.         0.         0.09041678 0.11026244 0.\n",
      "  0.         0.         0.         0.11026244 0.         0.11026244\n",
      "  0.         0.         0.         0.11026244 0.         0.22052489\n",
      "  0.11026244 0.         0.         0.11026244 0.22052489 0.11026244\n",
      "  0.         0.11026244 0.32707101 0.11026244 0.         0.22052489\n",
      "  0.11026244 0.         0.         0.         0.         0.\n",
      "  0.         0.11026244 0.         0.         0.         0.\n",
      "  0.         0.11026244 0.         0.         0.11026244 0.\n",
      "  0.         0.         0.         0.         0.         0.11026244\n",
      "  0.         0.         0.11026244 0.11026244 0.         0.\n",
      "  0.         0.         0.15267212 0.33894238 0.         0.11026244\n",
      "  0.11026244 0.         0.         0.         0.         0.\n",
      "  0.         0.         0.11026244 0.         0.         0.\n",
      "  0.         0.09041678 0.11026244 0.         0.11026244]\n",
      " [0.         0.         0.         0.14309974 0.34901767 0.17450883\n",
      "  0.         0.         0.         0.         0.         0.\n",
      "  0.         0.         0.         0.         0.         0.\n",
      "  0.         0.         0.17450883 0.         0.17450883 0.\n",
      "  0.17450883 0.         0.         0.         0.         0.\n",
      "  0.         0.17450883 0.         0.         0.         0.\n",
      "  0.14309974 0.         0.         0.         0.         0.\n",
      "  0.         0.17450883 0.         0.         0.         0.\n",
      "  0.         0.         0.17450883 0.         0.         0.17450883\n",
      "  0.         0.17450883 0.         0.         0.         0.\n",
      "  0.         0.17450883 0.         0.         0.17450883 0.\n",
      "  0.         0.         0.         0.         0.         0.\n",
      "  0.         0.         0.20705792 0.         0.         0.\n",
      "  0.         0.         0.14309974 0.         0.         0.\n",
      "  0.         0.         0.         0.         0.17450883 0.17450883\n",
      "  0.         0.         0.         0.14309974 0.         0.\n",
      "  0.         0.         0.17450883 0.17450883 0.         0.\n",
      "  0.         0.         0.         0.         0.         0.17450883\n",
      "  0.         0.17450883 0.         0.17881108 0.         0.\n",
      "  0.         0.         0.         0.         0.         0.\n",
      "  0.17450883 0.         0.         0.         0.17450883 0.28619948\n",
      "  0.17450883 0.         0.         0.17450883 0.        ]\n",
      " [0.         0.         0.         0.         0.         0.\n",
      "  0.         0.         0.         0.         0.         0.\n",
      "  0.         0.         0.         0.         0.         0.\n",
      "  0.         0.         0.         0.         0.         0.29177073\n",
      "  0.         0.         0.         0.         0.         0.\n",
      "  0.         0.         0.         0.         0.         0.\n",
      "  0.23925618 0.         0.29177073 0.         0.         0.\n",
      "  0.         0.         0.         0.         0.         0.29177073\n",
      "  0.         0.         0.         0.         0.         0.\n",
      "  0.         0.         0.         0.         0.29177073 0.\n",
      "  0.         0.         0.         0.         0.         0.\n",
      "  0.         0.         0.         0.         0.         0.\n",
      "  0.         0.         0.17309566 0.         0.         0.\n",
      "  0.         0.         0.         0.         0.         0.\n",
      "  0.29177073 0.         0.         0.29177073 0.         0.\n",
      "  0.29177073 0.         0.         0.23925618 0.         0.\n",
      "  0.         0.         0.         0.         0.         0.\n",
      "  0.         0.         0.         0.         0.         0.\n",
      "  0.         0.         0.         0.29896389 0.         0.\n",
      "  0.         0.29177073 0.         0.29177073 0.         0.\n",
      "  0.         0.         0.         0.         0.         0.\n",
      "  0.         0.         0.         0.         0.        ]]\n"
     ]
    }
   ],
   "source": [
    "# TF-IDF approach\n",
    "from sklearn.feature_extraction.text import TfidfVectorizer\n",
    "\n",
    "tfidf = TfidfVectorizer()\n",
    "result = tfidf.fit_transform(corpus)\n",
    "\n",
    "print('Words list: ')\n",
    "print(tfidf.get_feature_names_out())\n",
    "print(' ')\n",
    "print('Vector')\n",
    "print(result.toarray())"
   ]
  },
  {
   "cell_type": "code",
   "execution_count": null,
   "metadata": {},
   "outputs": [],
   "source": []
  }
 ],
 "metadata": {
  "kernelspec": {
   "display_name": "Python 3",
   "language": "python",
   "name": "python3"
  },
  "language_info": {
   "codemirror_mode": {
    "name": "ipython",
    "version": 3
   },
   "file_extension": ".py",
   "mimetype": "text/x-python",
   "name": "python",
   "nbconvert_exporter": "python",
   "pygments_lexer": "ipython3",
   "version": "3.11.6"
  }
 },
 "nbformat": 4,
 "nbformat_minor": 2
}
