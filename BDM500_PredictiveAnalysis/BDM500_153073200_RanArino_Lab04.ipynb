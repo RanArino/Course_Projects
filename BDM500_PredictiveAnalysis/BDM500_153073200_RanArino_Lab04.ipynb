{
 "cells": [
  {
   "cell_type": "markdown",
   "metadata": {},
   "source": [
    "\n",
    "\n",
    "<center> <h1> <b><span style=\"color:red\"> \n",
    "Predictive Analysis <br><br>\n",
    "Lab 5<br><br>\n",
    "Understanding Logistic Regression Tables<br></span></b></h1>\n"
   ]
  },
  {
   "cell_type": "markdown",
   "metadata": {},
   "source": [
    "## Import the relevant libraries"
   ]
  },
  {
   "cell_type": "markdown",
   "metadata": {},
   "source": [
    "\n",
    "\n",
    "### information about the dataset: \n",
    "Create a logistic regression based on the bank data provided in BB.\n",
    "\n",
    "The data is based on the marketing campaign efforts of a Portuguese banking institution.The classification goal is to predict if the client will subscribe a term deposit (variable y).\n",
    "Note that <i> interest rate</i> indicates the 3-month interest rate between banks and <i> duration </i> indicates the time since the last contact was made with a given consumer. The <i> previous </i> variable shows whether the last marketing campaign was successful with this customer. The <i>March</i> and <i> May </i> are Boolean variables that account for when the call was made to the specific customer and <i> credit </i> shows if the customer has enough credit to avoid defaulting. we  use the dependent variable  'duration' to predict 'y'. \n",
    "\n",
    "<i> Notes: \n",
    "    <li> the first column of the dataset is an index one; </li>\n",
    "    <li> you don't need the graph for this exercise; </li>\n",
    "    \n",
    "</i>"
   ]
  },
  {
   "cell_type": "code",
   "execution_count": 7,
   "metadata": {},
   "outputs": [],
   "source": [
    "import numpy as np\n",
    "import pandas as pd\n",
    "import matplotlib.pyplot as plt\n",
    "from sklearn.linear_model import LogisticRegression\n",
    "from sklearn.metrics import classification_report, confusion_matrix\n",
    "from sklearn.metrics import r2_score"
   ]
  },
  {
   "cell_type": "markdown",
   "metadata": {},
   "source": [
    "## Load the data"
   ]
  },
  {
   "cell_type": "markdown",
   "metadata": {},
   "source": [
    "Load the ‘Bank_data.csv’ dataset under BB.\n",
    "\n",
    "\n",
    "#Make sure to create a copy of the data before we start altering it. Note that we don't change the original data we loaded.\n",
    "\n",
    "#Remove the index column thata comes with the data\n",
    "\n",
    "#Use the map function to change any 'yes' values to 1 and 'no'values to 0. "
   ]
  },
  {
   "cell_type": "code",
   "execution_count": 2,
   "metadata": {},
   "outputs": [
    {
     "data": {
      "text/html": [
       "<div>\n",
       "<style scoped>\n",
       "    .dataframe tbody tr th:only-of-type {\n",
       "        vertical-align: middle;\n",
       "    }\n",
       "\n",
       "    .dataframe tbody tr th {\n",
       "        vertical-align: top;\n",
       "    }\n",
       "\n",
       "    .dataframe thead th {\n",
       "        text-align: right;\n",
       "    }\n",
       "</style>\n",
       "<table border=\"1\" class=\"dataframe\">\n",
       "  <thead>\n",
       "    <tr style=\"text-align: right;\">\n",
       "      <th></th>\n",
       "      <th>interest_rate</th>\n",
       "      <th>credit</th>\n",
       "      <th>march</th>\n",
       "      <th>may</th>\n",
       "      <th>previous</th>\n",
       "      <th>duration</th>\n",
       "      <th>y</th>\n",
       "    </tr>\n",
       "  </thead>\n",
       "  <tbody>\n",
       "    <tr>\n",
       "      <th>0</th>\n",
       "      <td>1.334</td>\n",
       "      <td>0.0</td>\n",
       "      <td>1.0</td>\n",
       "      <td>0.0</td>\n",
       "      <td>0.0</td>\n",
       "      <td>117.0</td>\n",
       "      <td>0</td>\n",
       "    </tr>\n",
       "    <tr>\n",
       "      <th>1</th>\n",
       "      <td>0.767</td>\n",
       "      <td>0.0</td>\n",
       "      <td>0.0</td>\n",
       "      <td>2.0</td>\n",
       "      <td>1.0</td>\n",
       "      <td>274.0</td>\n",
       "      <td>1</td>\n",
       "    </tr>\n",
       "    <tr>\n",
       "      <th>2</th>\n",
       "      <td>4.858</td>\n",
       "      <td>0.0</td>\n",
       "      <td>1.0</td>\n",
       "      <td>0.0</td>\n",
       "      <td>0.0</td>\n",
       "      <td>167.0</td>\n",
       "      <td>0</td>\n",
       "    </tr>\n",
       "    <tr>\n",
       "      <th>3</th>\n",
       "      <td>4.120</td>\n",
       "      <td>0.0</td>\n",
       "      <td>0.0</td>\n",
       "      <td>0.0</td>\n",
       "      <td>0.0</td>\n",
       "      <td>686.0</td>\n",
       "      <td>1</td>\n",
       "    </tr>\n",
       "    <tr>\n",
       "      <th>4</th>\n",
       "      <td>4.856</td>\n",
       "      <td>0.0</td>\n",
       "      <td>1.0</td>\n",
       "      <td>0.0</td>\n",
       "      <td>0.0</td>\n",
       "      <td>157.0</td>\n",
       "      <td>0</td>\n",
       "    </tr>\n",
       "  </tbody>\n",
       "</table>\n",
       "</div>"
      ],
      "text/plain": [
       "   interest_rate  credit  march  may  previous  duration  y\n",
       "0          1.334     0.0    1.0  0.0       0.0     117.0  0\n",
       "1          0.767     0.0    0.0  2.0       1.0     274.0  1\n",
       "2          4.858     0.0    1.0  0.0       0.0     167.0  0\n",
       "3          4.120     0.0    0.0  0.0       0.0     686.0  1\n",
       "4          4.856     0.0    1.0  0.0       0.0     157.0  0"
      ]
     },
     "execution_count": 2,
     "metadata": {},
     "output_type": "execute_result"
    }
   ],
   "source": [
    "df_origin = pd.read_csv('Bank_data.csv')\n",
    "\n",
    "# remove index\n",
    "df = df_origin.drop(['Unnamed: 0'], axis=1)\n",
    "\n",
    "# convert \"y\" variables\n",
    "df['y'] = df['y'].map({'no': 0, 'yes': 1})\n",
    "df.head()"
   ]
  },
  {
   "cell_type": "markdown",
   "metadata": {},
   "source": [
    "### Declare the dependent and independent variables"
   ]
  },
  {
   "cell_type": "markdown",
   "metadata": {},
   "source": [
    "Model1: 'duration' as the independent variable.\n",
    "\n",
    "Model2: 'interest_rate' as the independent variable."
   ]
  },
  {
   "cell_type": "markdown",
   "metadata": {},
   "source": [
    "### Simple Logistic Regression"
   ]
  },
  {
   "cell_type": "markdown",
   "metadata": {},
   "source": [
    "Run the regression and visualize it on a scatter plot."
   ]
  },
  {
   "cell_type": "code",
   "execution_count": 71,
   "metadata": {},
   "outputs": [],
   "source": [
    "def sigmoid(x):\n",
    "    return 1 / (1 + np.exp(-x))\n",
    "\n",
    "# Define linear regression function\n",
    "def lin_reg(x, b0, b1):\n",
    "    return b0 + b1 * x"
   ]
  },
  {
   "cell_type": "code",
   "execution_count": 118,
   "metadata": {},
   "outputs": [
    {
     "name": "stdout",
     "output_type": "stream",
     "text": [
      "Intercept:  [-1.63233799] Coefficient:  [[0.00494578]]\n",
      "Score:  0.694980694980695\n",
      "Confusion Matrix: \n",
      "[[204  55]\n",
      " [103 156]]\n",
      "Decision Boundary:  [330.04672216]\n"
     ]
    },
    {
     "data": {
      "text/plain": [
       "<matplotlib.legend.Legend at 0x1cc328c68d0>"
      ]
     },
     "execution_count": 118,
     "metadata": {},
     "output_type": "execute_result"
    },
    {
     "data": {
      "image/png": "[encoded data removed]",
      "text/plain": [
       "<Figure size 640x480 with 1 Axes>"
      ]
     },
     "metadata": {},
     "output_type": "display_data"
    }
   ],
   "source": [
    "# define indepenent and dependent variable\n",
    "x = np.array(df['duration']).reshape(-1, 1)\n",
    "y = np.array(df['y'])\n",
    "\n",
    "# create the model\n",
    "model1 = LogisticRegression(solver='liblinear', random_state=0)\n",
    "\n",
    "# fit the data\n",
    "model1.fit(x, y)\n",
    "\n",
    "# check intercept and coefficient\n",
    "print(\"Intercept: \", model1.intercept_, \"Coefficient: \", model1.coef_)\n",
    "\n",
    "# get predicted values (probability & binomial)\n",
    "y_hat_p_M1 = model1.predict_proba(x)\n",
    "y_hat_c_M1 = model1.predict(x)\n",
    "\n",
    "# score\n",
    "print(\"Score: \", model1.score(x, y))\n",
    "\n",
    "# confusion matrix\n",
    "print('Confusion Matrix: ')\n",
    "print(confusion_matrix(y, y_hat_c_M1))\n",
    "\n",
    "# decision boundary\n",
    "boundary_M1 = -(model1.intercept_ / model1.coef_[0])\n",
    "print(\"Decision Boundary: \", boundary_M1)\n",
    "\n",
    "# plotting the points & lines\n",
    "#plt.scatter(x, y, s=5, alpha=0.3, label='Actual')\n",
    "plt.scatter(x, y_hat_c_M1, color='red', s=5, alpha=0.3, label='Prediction')\n",
    "sample = np.linspace(min(df['duration']), max(df['duration']), 1000)\n",
    "y_lin = lin_reg(sample, model1.intercept_, model1.coef_)\n",
    "plt.plot(sample, y_lin[0], label='Regression')\n",
    "plt.plot(sample, sigmoid(y_lin)[0], label='Sigmoid')\n",
    "plt.ylim((-0.1, 1.1))\n",
    "plt.vlines(x=boundary_M1, ymin=-0.05, ymax=1.05, color='grey', linestyles='--')\n",
    "\n",
    "plt.legend()"
   ]
  },
  {
   "cell_type": "code",
   "execution_count": 120,
   "metadata": {},
   "outputs": [
    {
     "name": "stdout",
     "output_type": "stream",
     "text": [
      "Intercept:  [1.55917822] Coefficient:  [[-0.55905463]]\n",
      "Score:  0.7335907335907336\n",
      "Confusion Matrix: \n",
      "[[183  76]\n",
      " [ 62 197]]\n",
      "Decision Boundary:  [2.78895501]\n"
     ]
    },
    {
     "data": {
      "text/plain": [
       "<matplotlib.legend.Legend at 0x1cc32c116d0>"
      ]
     },
     "execution_count": 120,
     "metadata": {},
     "output_type": "execute_result"
    },
    {
     "data": {
      "image/png": "[encoded data removed]",
      "text/plain": [
       "<Figure size 640x480 with 1 Axes>"
      ]
     },
     "metadata": {},
     "output_type": "display_data"
    }
   ],
   "source": [
    "# define indepenent and dependent variable\n",
    "x = np.array(df['interest_rate']).reshape(-1, 1)\n",
    "y = np.array(df['y'])\n",
    "\n",
    "# create the model\n",
    "model2 = LogisticRegression(solver='liblinear', random_state=0)\n",
    "\n",
    "# fit the data\n",
    "model2.fit(x, y)\n",
    "\n",
    "# check intercept and coefficient\n",
    "print(\"Intercept: \", model2.intercept_, \"Coefficient: \", model2.coef_)\n",
    "\n",
    "# get predicted values (probability & binomial)\n",
    "y_hat_p_M2 = model2.predict_proba(x)\n",
    "y_hat_c_M2 = model2.predict(x)\n",
    "\n",
    "# score\n",
    "print(\"Score: \", model2.score(x, y))\n",
    "\n",
    "# confusion matrix\n",
    "print('Confusion Matrix: ')\n",
    "print(confusion_matrix(y, y_hat_c_M2))\n",
    "\n",
    "# decision boundary\n",
    "boundary_M2 = -(model2.intercept_ / model2.coef_[0])\n",
    "print(\"Decision Boundary: \", boundary_M2)\n",
    "\n",
    "# plotting the points & lines\n",
    "#plt.scatter(x, y, s=5, alpha=0.3, label='Actual')\n",
    "plt.scatter(x, y_hat_c_M2, color='red', s=5, alpha=0.3, label='Prediction')\n",
    "sample = np.linspace(min(df['interest_rate']), max(df['interest_rate']), 1000)\n",
    "y_lin = lin_reg(sample, model2.intercept_, model2.coef_)\n",
    "plt.plot(sample, y_lin[0], label='Regression')\n",
    "plt.plot(sample, sigmoid(y_lin)[0], label='Sigmoid')\n",
    "plt.vlines(x=boundary_M2, ymin=-0.05, ymax=1.05, color='grey', linestyles='--')\n",
    "plt.ylim((-0.1, 1.1))\n",
    "\n",
    "plt.legend()"
   ]
  },
  {
   "cell_type": "markdown",
   "metadata": {},
   "source": [
    "### Interpretation\n",
    "What is the model used, \n",
    "What method is used.\n",
    "what is the value of Pseudo R-squared? What does it mean?\n",
    "What is the coefficient of the duration variable. what does it mean?"
   ]
  },
  {
   "cell_type": "markdown",
   "metadata": {},
   "source": [
    "I applied the logistic regression with an independent variable as \"duration\" and \"interest_rate\".\n",
    "The followings are comparing two models based on the same evaluation scores and measures.\n",
    "\n",
    "*In this analysis, I will consider the accuracy as the value of Pseudo R-squared.\n",
    "\n",
    "Model1: \"duration\" as independent\n",
    "- The coefficient showed \"0.00494578\", which means that the linear equation will be increased by 0.00494578 per the changes in '1' duration, also indicates that the longer the duration is, the higher the probability that the client will subscribe a term deposit.\n",
    "- The model corrently predicts the 69.50% of data point, which can be calculated by (\"True positive\" + \"True Negative\") / Num of data points.\n",
    "- The number of the uncorrectly predicted as 1 and 0 are 55 and 103, respectively; it shows that the model is more sensitive to the negative (0) label.\n",
    "- In terms of the decision boundary, I found that if the 'duration' is above 330.04672216, the model predicts 1; otherwise 0.\n",
    "\n",
    "Model2\n",
    "- The coefficient showed \"-0.55905463\", which means that the linear equation will be decreased by -0.55905463 if the interest rate changes by 1%, also imply that the the higher the interest rate, the lower the probability that the client will syvscribe a tem deposit.\n",
    "- The model corrently predicts the 73.36% of data point.\n",
    "- Focusing on the confusion matrix, the model does not skew toward either 1 or 0 label; in other words, the model predicted target equally and failed to predict almost the same numbers between two classes; we may conclude that the model shows less bias in terms of the sensitivity toward a specific class.\n",
    "- As for the decision boundary, I found that id the 'interest_rate' is above 2.78895501, the model predicts 0; otherwise 1."
   ]
  },
  {
   "cell_type": "code",
   "execution_count": null,
   "metadata": {},
   "outputs": [],
   "source": []
  },
  {
   "cell_type": "code",
   "execution_count": null,
   "metadata": {},
   "outputs": [],
   "source": []
  }
 ],
 "metadata": {
  "kernelspec": {
   "display_name": "Python 3",
   "language": "python",
   "name": "python3"
  },
  "language_info": {
   "codemirror_mode": {
    "name": "ipython",
    "version": 3
   },
   "file_extension": ".py",
   "mimetype": "text/x-python",
   "name": "python",
   "nbconvert_exporter": "python",
   "pygments_lexer": "ipython3",
   "version": "3.11.6"
  }
 },
 "nbformat": 4,
 "nbformat_minor": 2
}
