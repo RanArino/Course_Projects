{
 "cells": [
  {
   "cell_type": "markdown",
   "metadata": {},
   "source": [
    "\n",
    "\n",
    "<center> <h1> <b><span style=\"color:red\"> \n",
    "Predictive Analysis <br><br>\n",
    "Lab 5<br><br>\n",
    "Understanding Logistic Regression Tables<br></span></b></h1>\n"
   ]
  },
  {
   "cell_type": "markdown",
   "metadata": {},
   "source": [
    "## Import the relevant libraries"
   ]
  },
  {
   "cell_type": "markdown",
   "metadata": {},
   "source": [
    "\n",
    "\n",
    "### information about the dataset: \n",
    "Create a logistic regression based on the bank data provided in BB.\n",
    "\n",
    "The data is based on the marketing campaign efforts of a Portuguese banking institution.The classification goal is to predict if the client will subscribe a term deposit (variable y).\n",
    "Note that <i> interest rate</i> indicates the 3-month interest rate between banks and <i> duration </i> indicates the time since the last contact was made with a given consumer. The <i> previous </i> variable shows whether the last marketing campaign was successful with this customer. The <i>March</i> and <i> May </i> are Boolean variables that account for when the call was made to the specific customer and <i> credit </i> shows if the customer has enough credit to avoid defaulting. we  use the dependent variable  'duration' to predict 'y'. \n",
    "\n",
    "<i> Notes: \n",
    "    <li> the first column of the dataset is an index one; </li>\n",
    "    <li> you don't need the graph for this exercise; </li>\n",
    "    \n",
    "</i>"
   ]
  },
  {
   "cell_type": "code",
   "execution_count": 12,
   "metadata": {},
   "outputs": [],
   "source": [
    "import numpy as np\n",
    "import pandas as pd\n",
    "import matplotlib.pyplot as plt\n",
    "from sklearn.linear_model import LogisticRegression\n",
    "from sklearn.metrics import classification_report, confusion_matrix"
   ]
  },
  {
   "cell_type": "markdown",
   "metadata": {},
   "source": [
    "## Load the data"
   ]
  },
  {
   "cell_type": "markdown",
   "metadata": {},
   "source": [
    "Load the ‘Bank_data.csv’ dataset under BB.\n",
    "\n",
    "\n",
    "#Make sure to create a copy of the data before we start altering it. Note that we don't change the original data we loaded.\n",
    "\n",
    "#Remove the index column thata comes with the data\n",
    "\n",
    "#Use the map function to change any 'yes' values to 1 and 'no'values to 0. "
   ]
  },
  {
   "cell_type": "code",
   "execution_count": 6,
   "metadata": {},
   "outputs": [
    {
     "data": {
      "text/html": [
       "<div>\n",
       "<style scoped>\n",
       "    .dataframe tbody tr th:only-of-type {\n",
       "        vertical-align: middle;\n",
       "    }\n",
       "\n",
       "    .dataframe tbody tr th {\n",
       "        vertical-align: top;\n",
       "    }\n",
       "\n",
       "    .dataframe thead th {\n",
       "        text-align: right;\n",
       "    }\n",
       "</style>\n",
       "<table border=\"1\" class=\"dataframe\">\n",
       "  <thead>\n",
       "    <tr style=\"text-align: right;\">\n",
       "      <th></th>\n",
       "      <th>interest_rate</th>\n",
       "      <th>credit</th>\n",
       "      <th>march</th>\n",
       "      <th>may</th>\n",
       "      <th>previous</th>\n",
       "      <th>duration</th>\n",
       "      <th>y</th>\n",
       "    </tr>\n",
       "  </thead>\n",
       "  <tbody>\n",
       "    <tr>\n",
       "      <th>0</th>\n",
       "      <td>1.334</td>\n",
       "      <td>0.0</td>\n",
       "      <td>1.0</td>\n",
       "      <td>0.0</td>\n",
       "      <td>0.0</td>\n",
       "      <td>117.0</td>\n",
       "      <td>0</td>\n",
       "    </tr>\n",
       "    <tr>\n",
       "      <th>1</th>\n",
       "      <td>0.767</td>\n",
       "      <td>0.0</td>\n",
       "      <td>0.0</td>\n",
       "      <td>2.0</td>\n",
       "      <td>1.0</td>\n",
       "      <td>274.0</td>\n",
       "      <td>1</td>\n",
       "    </tr>\n",
       "    <tr>\n",
       "      <th>2</th>\n",
       "      <td>4.858</td>\n",
       "      <td>0.0</td>\n",
       "      <td>1.0</td>\n",
       "      <td>0.0</td>\n",
       "      <td>0.0</td>\n",
       "      <td>167.0</td>\n",
       "      <td>0</td>\n",
       "    </tr>\n",
       "    <tr>\n",
       "      <th>3</th>\n",
       "      <td>4.120</td>\n",
       "      <td>0.0</td>\n",
       "      <td>0.0</td>\n",
       "      <td>0.0</td>\n",
       "      <td>0.0</td>\n",
       "      <td>686.0</td>\n",
       "      <td>1</td>\n",
       "    </tr>\n",
       "    <tr>\n",
       "      <th>4</th>\n",
       "      <td>4.856</td>\n",
       "      <td>0.0</td>\n",
       "      <td>1.0</td>\n",
       "      <td>0.0</td>\n",
       "      <td>0.0</td>\n",
       "      <td>157.0</td>\n",
       "      <td>0</td>\n",
       "    </tr>\n",
       "  </tbody>\n",
       "</table>\n",
       "</div>"
      ],
      "text/plain": [
       "   interest_rate  credit  march  may  previous  duration  y\n",
       "0          1.334     0.0    1.0  0.0       0.0     117.0  0\n",
       "1          0.767     0.0    0.0  2.0       1.0     274.0  1\n",
       "2          4.858     0.0    1.0  0.0       0.0     167.0  0\n",
       "3          4.120     0.0    0.0  0.0       0.0     686.0  1\n",
       "4          4.856     0.0    1.0  0.0       0.0     157.0  0"
      ]
     },
     "execution_count": 6,
     "metadata": {},
     "output_type": "execute_result"
    }
   ],
   "source": [
    "df_origin = pd.read_csv('Bank_data.csv')\n",
    "\n",
    "# remove index\n",
    "df = df_origin.drop(['Unnamed: 0'], axis=1)\n",
    "\n",
    "# convert \"y\" variables\n",
    "df['y'] = df['y'].map({'no': 0, 'yes': 1})\n",
    "df.head()"
   ]
  },
  {
   "cell_type": "markdown",
   "metadata": {},
   "source": [
    "### Declare the dependent and independent variables"
   ]
  },
  {
   "cell_type": "markdown",
   "metadata": {},
   "source": [
    "Use 'duration' as the independent variable."
   ]
  },
  {
   "cell_type": "code",
   "execution_count": 68,
   "metadata": {},
   "outputs": [],
   "source": [
    "x = np.array(df['duration']).reshape(-1, 1)\n",
    "y = np.array(df['y'])"
   ]
  },
  {
   "cell_type": "markdown",
   "metadata": {},
   "source": [
    "### Simple Logistic Regression"
   ]
  },
  {
   "cell_type": "markdown",
   "metadata": {},
   "source": [
    "Run the regression and visualize it on a scatter plot."
   ]
  },
  {
   "cell_type": "code",
   "execution_count": 101,
   "metadata": {},
   "outputs": [
    {
     "name": "stdout",
     "output_type": "stream",
     "text": [
      "Intercept:  [-1.63233799] Coefficient:  [[0.00494578]]\n",
      "Score:  0.694980694980695\n",
      "Confusion Matrix: \n",
      "[[204  55]\n",
      " [103 156]]\n"
     ]
    },
    {
     "data": {
      "text/plain": [
       "(-0.1, 1.1)"
      ]
     },
     "execution_count": 101,
     "metadata": {},
     "output_type": "execute_result"
    },
    {
     "data": {
      "image/png": "[encoded data removed]",
      "text/plain": [
       "<Figure size 640x480 with 1 Axes>"
      ]
     },
     "metadata": {},
     "output_type": "display_data"
    }
   ],
   "source": [
    "# create the model\n",
    "model1 = LogisticRegression(solver='liblinear', random_state=0)\n",
    "\n",
    "# fit the data\n",
    "model1.fit(x, y)\n",
    "\n",
    "# check intercept and coefficient\n",
    "print(\"Intercept: \", model1.intercept_, \"Coefficient: \", model1.coef_)\n",
    "\n",
    "# get predicted values (probability & binomial)\n",
    "y_hat_proba = model1.predict_proba(x)\n",
    "y_hat = model1.predict(x)\n",
    "\n",
    "# score\n",
    "print(\"Score: \", model1.score(x, y))\n",
    "\n",
    "# confusion matrix\n",
    "print('Confusion Matrix: ')\n",
    "print(confusion_matrix(y, y_hat))\n",
    "\n",
    "# plotting the points & lines\n",
    "plt.scatter(x, y, s=5, alpha=0.3)\n",
    "plt.scatter(x, y_hat, color='red', s=5, alpha=0.3)\n",
    "plt.scatter(x, y_hat_proba[:, 1], s=5, alpha=0.5)\n",
    "plt.plot(x, x * model1.coef_ + model1.intercept_)\n",
    "plt.ylim((-0.1, 1.1))"
   ]
  },
  {
   "cell_type": "code",
   "execution_count": 107,
   "metadata": {},
   "outputs": [
    {
     "name": "stdout",
     "output_type": "stream",
     "text": [
      "Intercept:  [-1.4384407] Coefficient:  [[0.00447124]]\n",
      "Score:  0.7046332046332047\n",
      "Confusion Matrix: \n",
      "[[203  56]\n",
      " [ 97 162]]\n"
     ]
    },
    {
     "name": "stderr",
     "output_type": "stream",
     "text": [
      "C:\\Users\\runru\\AppData\\Local\\Packages\\PythonSoftwareFoundation.Python.3.11_qbz5n2kfra8p0\\LocalCache\\local-packages\\Python311\\site-packages\\sklearn\\svm\\_base.py:1242: ConvergenceWarning: Liblinear failed to converge, increase the number of iterations.\n",
      "  warnings.warn(\n"
     ]
    },
    {
     "data": {
      "text/plain": [
       "(-0.1, 1.1)"
      ]
     },
     "execution_count": 107,
     "metadata": {},
     "output_type": "execute_result"
    },
    {
     "data": {
      "image/png": "[encoded data removed]",
      "text/plain": [
       "<Figure size 640x480 with 1 Axes>"
      ]
     },
     "metadata": {},
     "output_type": "display_data"
    }
   ],
   "source": [
    "# create the model (smaller iteration)\n",
    "model2 = LogisticRegression(solver='liblinear', random_state=0, max_iter=10)\n",
    "\n",
    "# fit the data\n",
    "model2.fit(x, y)\n",
    "\n",
    "# check intercept and coefficient\n",
    "print(\"Intercept: \", model2.intercept_, \"Coefficient: \", model2.coef_)\n",
    "\n",
    "# get predicted values (probability & binomial)\n",
    "y_hat_proba = model2.predict_proba(x)\n",
    "y_hat = model2.predict(x)\n",
    "# score\n",
    "print(\"Score: \", model2.score(x, y))\n",
    "\n",
    "# confusion matrix\n",
    "print('Confusion Matrix: ')\n",
    "print(confusion_matrix(y, y_hat))\n",
    "\n",
    "# plotting the points\n",
    "plt.scatter(x, y, s=5, alpha=0.3)\n",
    "plt.scatter(x, y_hat, color='red', s=5, alpha=0.3)\n",
    "plt.scatter(x, y_hat_proba[:, 1], s=5, alpha=0.5)\n",
    "plt.plot(x, x * model2.coef_ + model2.intercept_)\n",
    "plt.ylim((-0.1, 1.1))"
   ]
  },
  {
   "cell_type": "code",
   "execution_count": 108,
   "metadata": {},
   "outputs": [
    {
     "name": "stdout",
     "output_type": "stream",
     "text": [
      "Intercept:  [-0.02689575] Coefficient:  [[0.0014716]]\n",
      "Score:  0.5115830115830116\n",
      "Confusion Matrix: \n",
      "[[  6 253]\n",
      " [  0 259]]\n"
     ]
    },
    {
     "name": "stderr",
     "output_type": "stream",
     "text": [
      "C:\\Users\\runru\\AppData\\Local\\Packages\\PythonSoftwareFoundation.Python.3.11_qbz5n2kfra8p0\\LocalCache\\local-packages\\Python311\\site-packages\\sklearn\\svm\\_base.py:1242: ConvergenceWarning: Liblinear failed to converge, increase the number of iterations.\n",
      "  warnings.warn(\n"
     ]
    },
    {
     "data": {
      "text/plain": [
       "(-0.1, 1.1)"
      ]
     },
     "execution_count": 108,
     "metadata": {},
     "output_type": "execute_result"
    },
    {
     "data": {
      "image/png": "[encoded data removed]",
      "text/plain": [
       "<Figure size 640x480 with 1 Axes>"
      ]
     },
     "metadata": {},
     "output_type": "display_data"
    }
   ],
   "source": [
    "# create the model (more smaller iteration)\n",
    "model3 = LogisticRegression(solver='liblinear', random_state=0, max_iter=5)\n",
    "\n",
    "# fit the data\n",
    "model3.fit(x, y)\n",
    "\n",
    "# check intercept and coefficient\n",
    "print(\"Intercept: \", model3.intercept_, \"Coefficient: \", model3.coef_)\n",
    "\n",
    "# get predicted values (probability & binomial)\n",
    "y_hat_proba = model3.predict_proba(x)\n",
    "y_hat = model3.predict(x)\n",
    "\n",
    "# score\n",
    "print(\"Score: \", model3.score(x, y))\n",
    "\n",
    "# confusion matrix\n",
    "print('Confusion Matrix: ')\n",
    "print(confusion_matrix(y, y_hat))\n",
    "\n",
    "# plotting the points\n",
    "plt.scatter(x, y, s=5, alpha=0.3, label='Actual')\n",
    "plt.scatter(x, y_hat, color='red', s=5, alpha=0.3, label='Predicted')\n",
    "plt.scatter(x, y_hat_proba[:, 1], s=5, alpha=0.5)\n",
    "plt.plot(x, x * model3.coef_ + model3.intercept_)\n",
    "plt.ylim((-0.1, 1.1))"
   ]
  },
  {
   "cell_type": "markdown",
   "metadata": {},
   "source": [
    "### Interpretation\n",
    "What is the model used, \n",
    "What method is used.\n",
    "what is the value of Pseudo R-squared? What does it mean?\n",
    "What is the coefficient of the duration variable. what does it mean?"
   ]
  },
  {
   "cell_type": "markdown",
   "metadata": {},
   "source": [
    "- Model1: Default (solver = 'liblinear', max_iter = 100)\n",
    " \n",
    "\n",
    "- Model2: Smaller Iteration (solver = 'liblinear', max_iter = 10)\n",
    "\n",
    "\n",
    "- Model2: More Smaller Iteration (solver = 'liblinear', max_iter = 5)"
   ]
  }
 ],
 "metadata": {
  "kernelspec": {
   "display_name": "Python 3",
   "language": "python",
   "name": "python3"
  },
  "language_info": {
   "codemirror_mode": {
    "name": "ipython",
    "version": 3
   },
   "file_extension": ".py",
   "mimetype": "text/x-python",
   "name": "python",
   "nbconvert_exporter": "python",
   "pygments_lexer": "ipython3",
   "version": "3.11.6"
  }
 },
 "nbformat": 4,
 "nbformat_minor": 2
}
