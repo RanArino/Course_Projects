{
  "cells": [
    {
      "cell_type": "markdown",
      "metadata": {},
      "source": [
        "# Lab 05\n",
        "\n",
        "- Name: Ran Arino\n",
        "- Student ID: 153073200\n",
        "- Email: rarino@myseneca.ca\n",
        "- Course: Predictive Analytics\n",
        "- Course ID: BDM500NAA.05379.2237\n",
        "- Professor: Dr. Tamanna Eini Keleshteri\n",
        "\n",
        "<b>All my observations are highlighted by <font color='limegreen'>this color</font> and comment out in the code.</b>"
      ]
    },
    {
      "cell_type": "markdown",
      "metadata": {},
      "source": [
        "This lab on Decision Trees is a Python adaptation of p. 324-331 of \"Introduction to Statistical Learning with\n",
        "Applications in R\" by Gareth James, Daniela Witten, Trevor Hastie and Robert Tibshirani. Original adaptation by J. Warmenhoven, updated by R. Jordan Crouser at Smith\n",
        "College for SDS293: Machine Learning (Spring 2016)."
      ]
    },
    {
      "cell_type": "code",
      "execution_count": 1,
      "metadata": {
        "collapsed": false,
        "jupyter": {
          "outputs_hidden": false
        }
      },
      "outputs": [],
      "source": [
        "import pandas as pd\n",
        "import numpy as np\n",
        "import matplotlib.pyplot as plt\n",
        "\n",
        "%matplotlib inline"
      ]
    },
    {
      "cell_type": "markdown",
      "metadata": {},
      "source": [
        "# 1 Fitting Classification Trees\n",
        "\n",
        "The `sklearn` library has a lot of useful tools for constructing classification and regression trees:"
      ]
    },
    {
      "cell_type": "code",
      "execution_count": 2,
      "metadata": {
        "collapsed": false,
        "jupyter": {
          "outputs_hidden": false
        }
      },
      "outputs": [],
      "source": [
        "from sklearn.model_selection import train_test_split\n",
        "from sklearn.tree import DecisionTreeRegressor, DecisionTreeClassifier, export_graphviz\n",
        "from sklearn.ensemble import RandomForestRegressor, GradientBoostingRegressor\n",
        "from sklearn.metrics import confusion_matrix, mean_squared_error"
      ]
    },
    {
      "cell_type": "markdown",
      "metadata": {},
      "source": [
        "We'll start by using **classification trees** to analyze the `Carseats` data set. In these\n",
        "data, `Sales` is a continuous variable, and so we begin by converting it to a\n",
        "binary variable. We use the `ifelse()` function to create a variable, called\n",
        "`High`, which takes on a value of `Yes` if the `Sales` variable exceeds 8, and\n",
        "takes on a value of `No` otherwise. We'll append this onto our dataFrame using the `.map()` function, and then do a little data cleaning to tidy things up:"
      ]
    },
    {
      "cell_type": "code",
      "execution_count": 3,
      "metadata": {
        "collapsed": false,
        "jupyter": {
          "outputs_hidden": false
        }
      },
      "outputs": [
        {
          "name": "stdout",
          "output_type": "stream",
          "text": [
            "<class 'pandas.core.frame.DataFrame'>\n",
            "RangeIndex: 400 entries, 0 to 399\n",
            "Data columns (total 12 columns):\n",
            " #   Column       Non-Null Count  Dtype  \n",
            "---  ------       --------------  -----  \n",
            " 0   Sales        400 non-null    float64\n",
            " 1   CompPrice    400 non-null    int64  \n",
            " 2   Income       400 non-null    int64  \n",
            " 3   Advertising  400 non-null    int64  \n",
            " 4   Population   400 non-null    int64  \n",
            " 5   Price        400 non-null    int64  \n",
            " 6   ShelveLoc    400 non-null    int64  \n",
            " 7   Age          400 non-null    int64  \n",
            " 8   Education    400 non-null    int64  \n",
            " 9   Urban        400 non-null    int64  \n",
            " 10  US           400 non-null    int64  \n",
            " 11  High         400 non-null    int64  \n",
            "dtypes: float64(1), int64(11)\n",
            "memory usage: 37.6 KB\n"
          ]
        }
      ],
      "source": [
        "df3 = pd.read_csv('Carseats.csv')#.drop('Unnamed: 0', axis=1)\n",
        "df3['High'] = df3.Sales.map(lambda x: 1 if x>8 else 0)\n",
        "df3.ShelveLoc = pd.factorize(df3.ShelveLoc)[0]\n",
        "df3.Urban = df3.Urban.map({'No':0, 'Yes':1})\n",
        "df3.US = df3.US.map({'No':0, 'Yes':1})\n",
        "df3.info()"
      ]
    },
    {
      "cell_type": "markdown",
      "metadata": {},
      "source": [
        "In order to properly evaluate the performance of a classification tree on\n",
        "the data, we must estimate the test error rather than simply computing\n",
        "the training error. We first split the observations into a training set and a test\n",
        "set:"
      ]
    },
    {
      "cell_type": "code",
      "execution_count": 4,
      "metadata": {
        "collapsed": false,
        "jupyter": {
          "outputs_hidden": false
        }
      },
      "outputs": [],
      "source": [
        "X = df3.drop(['Sales', 'High'], axis = 1)\n",
        "y = df3.High\n",
        "\n",
        "X_train, X_test, y_train, y_test = train_test_split(X, y, train_size = 0.8, random_state = 0)"
      ]
    },
    {
      "cell_type": "markdown",
      "metadata": {},
      "source": [
        "We now use the `DecisionTreeClassifier()` function to fit a classification tree in order to predict\n",
        "`High`. Unfortunately, manual pruning is not implemented in `sklearn`: http://scikit-learn.org/stable/modules/tree.html\n",
        "\n",
        "However, we can limit the depth of a tree using the `max_depth` parameter:"
      ]
    },
    {
      "cell_type": "code",
      "execution_count": 5,
      "metadata": {
        "collapsed": false,
        "jupyter": {
          "outputs_hidden": false
        }
      },
      "outputs": [
        {
          "data": {
            "text/plain": [
              "0.921875"
            ]
          },
          "execution_count": 5,
          "metadata": {},
          "output_type": "execute_result"
        }
      ],
      "source": [
        "classification_tree_carseats = DecisionTreeClassifier(max_depth = 6)\n",
        "classification_tree_carseats.fit(X_train, y_train)\n",
        "classification_tree_carseats.score(X_train, y_train)"
      ]
    },
    {
      "cell_type": "markdown",
      "metadata": {},
      "source": [
        "We see that the training accuracy is 92.2%.\n",
        "\n",
        "One of the most attractive properties of trees is that they can be\n",
        "graphically displayed. Unfortunately, this is a bit of a roundabout process in `sklearn`. We use the `export_graphviz()` function to export the tree structure to a temporary `.dot` file,\n",
        "and the `graphviz.Source()` function to display the image:"
      ]
    },
    {
      "cell_type": "code",
      "execution_count": 6,
      "metadata": {
        "collapsed": false,
        "jupyter": {
          "outputs_hidden": false
        }
      },
      "outputs": [],
      "source": [
        "export_graphviz(classification_tree_carseats, \n",
        "                out_file = \"carseat_tree.dot\", \n",
        "                feature_names = X_train.columns)\n",
        "\n",
        "#with open(\"carseat_tree.dot\") as f:\n",
        "#    dot_graph = f.read()\n",
        "#graphviz.Source(dot_graph)\n",
        "\n",
        "# Instead of showing the tree graph here, I observed it by installing the extention (Graphviz (dot) language support for Visual Studio Code) in VS code."
      ]
    },
    {
      "cell_type": "markdown",
      "metadata": {},
      "source": [
        "The most important indicator of `High` sales appears to be `Price`."
      ]
    },
    {
      "cell_type": "markdown",
      "metadata": {},
      "source": [
        "Finally, let's evaluate the tree's performance on\n",
        "the test data. The `predict()` function can be used for this purpose. We can then build a confusion matrix, which shows that we are making correct predictions for\n",
        "around 72.5% of the test data set:"
      ]
    },
    {
      "cell_type": "code",
      "execution_count": 7,
      "metadata": {
        "collapsed": false,
        "jupyter": {
          "outputs_hidden": false
        }
      },
      "outputs": [
        {
          "name": "stdout",
          "output_type": "stream",
          "text": [
            "     No  Yes\n",
            "No   36   15\n",
            "Yes   7   22\n"
          ]
        }
      ],
      "source": [
        "pred = classification_tree_carseats.predict(X_test)\n",
        "cm = pd.DataFrame(confusion_matrix(y_test, pred).T, \n",
        "                  index = ['No', 'Yes'], \n",
        "                  columns = ['No', 'Yes'])\n",
        "print(cm) \n",
        "# (37+21)/80 = 0.745"
      ]
    },
    {
      "cell_type": "markdown",
      "metadata": {},
      "source": [
        "# 2 Fitting Regression Trees\n",
        "\n",
        "Now let's try fitting a **regression tree** to the `Boston` data set from the `MASS` library. First, we create a\n",
        "training set, and fit the tree to the training data using `medv` (median home value) as our response:"
      ]
    },
    {
      "cell_type": "code",
      "execution_count": 8,
      "metadata": {
        "collapsed": false,
        "jupyter": {
          "outputs_hidden": false
        }
      },
      "outputs": [
        {
          "data": {
            "text/html": [
              "<style>#sk-container-id-1 {color: black;}#sk-container-id-1 pre{padding: 0;}#sk-container-id-1 div.sk-toggleable {background-color: white;}#sk-container-id-1 label.sk-toggleable__label {cursor: pointer;display: block;width: 100%;margin-bottom: 0;padding: 0.3em;box-sizing: border-box;text-align: center;}#sk-container-id-1 label.sk-toggleable__label-arrow:before {content: \"▸\";float: left;margin-right: 0.25em;color: #696969;}#sk-container-id-1 label.sk-toggleable__label-arrow:hover:before {color: black;}#sk-container-id-1 div.sk-estimator:hover label.sk-toggleable__label-arrow:before {color: black;}#sk-container-id-1 div.sk-toggleable__content {max-height: 0;max-width: 0;overflow: hidden;text-align: left;background-color: #f0f8ff;}#sk-container-id-1 div.sk-toggleable__content pre {margin: 0.2em;color: black;border-radius: 0.25em;background-color: #f0f8ff;}#sk-container-id-1 input.sk-toggleable__control:checked~div.sk-toggleable__content {max-height: 200px;max-width: 100%;overflow: auto;}#sk-container-id-1 input.sk-toggleable__control:checked~label.sk-toggleable__label-arrow:before {content: \"▾\";}#sk-container-id-1 div.sk-estimator input.sk-toggleable__control:checked~label.sk-toggleable__label {background-color: #d4ebff;}#sk-container-id-1 div.sk-label input.sk-toggleable__control:checked~label.sk-toggleable__label {background-color: #d4ebff;}#sk-container-id-1 input.sk-hidden--visually {border: 0;clip: rect(1px 1px 1px 1px);clip: rect(1px, 1px, 1px, 1px);height: 1px;margin: -1px;overflow: hidden;padding: 0;position: absolute;width: 1px;}#sk-container-id-1 div.sk-estimator {font-family: monospace;background-color: #f0f8ff;border: 1px dotted black;border-radius: 0.25em;box-sizing: border-box;margin-bottom: 0.5em;}#sk-container-id-1 div.sk-estimator:hover {background-color: #d4ebff;}#sk-container-id-1 div.sk-parallel-item::after {content: \"\";width: 100%;border-bottom: 1px solid gray;flex-grow: 1;}#sk-container-id-1 div.sk-label:hover label.sk-toggleable__label {background-color: #d4ebff;}#sk-container-id-1 div.sk-serial::before {content: \"\";position: absolute;border-left: 1px solid gray;box-sizing: border-box;top: 0;bottom: 0;left: 50%;z-index: 0;}#sk-container-id-1 div.sk-serial {display: flex;flex-direction: column;align-items: center;background-color: white;padding-right: 0.2em;padding-left: 0.2em;position: relative;}#sk-container-id-1 div.sk-item {position: relative;z-index: 1;}#sk-container-id-1 div.sk-parallel {display: flex;align-items: stretch;justify-content: center;background-color: white;position: relative;}#sk-container-id-1 div.sk-item::before, #sk-container-id-1 div.sk-parallel-item::before {content: \"\";position: absolute;border-left: 1px solid gray;box-sizing: border-box;top: 0;bottom: 0;left: 50%;z-index: -1;}#sk-container-id-1 div.sk-parallel-item {display: flex;flex-direction: column;z-index: 1;position: relative;background-color: white;}#sk-container-id-1 div.sk-parallel-item:first-child::after {align-self: flex-end;width: 50%;}#sk-container-id-1 div.sk-parallel-item:last-child::after {align-self: flex-start;width: 50%;}#sk-container-id-1 div.sk-parallel-item:only-child::after {width: 0;}#sk-container-id-1 div.sk-dashed-wrapped {border: 1px dashed gray;margin: 0 0.4em 0.5em 0.4em;box-sizing: border-box;padding-bottom: 0.4em;background-color: white;}#sk-container-id-1 div.sk-label label {font-family: monospace;font-weight: bold;display: inline-block;line-height: 1.2em;}#sk-container-id-1 div.sk-label-container {text-align: center;}#sk-container-id-1 div.sk-container {/* jupyter's `normalize.less` sets `[hidden] { display: none; }` but bootstrap.min.css set `[hidden] { display: none !important; }` so we also need the `!important` here to be able to override the default hidden behavior on the sphinx rendered scikit-learn.org. See: https://github.com/scikit-learn/scikit-learn/issues/21755 */display: inline-block !important;position: relative;}#sk-container-id-1 div.sk-text-repr-fallback {display: none;}</style><div id=\"sk-container-id-1\" class=\"sk-top-container\"><div class=\"sk-text-repr-fallback\"><pre>DecisionTreeRegressor(max_depth=2)</pre><b>In a Jupyter environment, please rerun this cell to show the HTML representation or trust the notebook. <br />On GitHub, the HTML representation is unable to render, please try loading this page with nbviewer.org.</b></div><div class=\"sk-container\" hidden><div class=\"sk-item\"><div class=\"sk-estimator sk-toggleable\"><input class=\"sk-toggleable__control sk-hidden--visually\" id=\"sk-estimator-id-1\" type=\"checkbox\" checked><label for=\"sk-estimator-id-1\" class=\"sk-toggleable__label sk-toggleable__label-arrow\">DecisionTreeRegressor</label><div class=\"sk-toggleable__content\"><pre>DecisionTreeRegressor(max_depth=2)</pre></div></div></div></div></div>"
            ],
            "text/plain": [
              "DecisionTreeRegressor(max_depth=2)"
            ]
          },
          "execution_count": 8,
          "metadata": {},
          "output_type": "execute_result"
        }
      ],
      "source": [
        "boston_df = pd.read_csv('Boston.csv')\n",
        "#boston_df = boston = load_boston()\n",
        "X = boston_df.drop('medv', axis = 1)\n",
        "y = boston_df.medv\n",
        "X_train, X_test, y_train, y_test = train_test_split(X, y, train_size = 0.8, random_state = 0)\n",
        "\n",
        "# Pruning not supported. Choosing max depth 2)\n",
        "regr_tree_boston = DecisionTreeRegressor(max_depth = 2)\n",
        "regr_tree_boston.fit(X_train, y_train)"
      ]
    },
    {
      "cell_type": "markdown",
      "metadata": {},
      "source": [
        "<font color='limegreen'>\n",
        "\n",
        "Comment:\n",
        "- sklearn.datasets.load_boston() is out of date, so I manually downloaded the Boston datasets from Github that you provided in the lecture.\n",
        "\n",
        "Link: https://github.com/selva86/datasets/tree/master\n",
        "\n",
        "</font>"
      ]
    },
    {
      "cell_type": "markdown",
      "metadata": {},
      "source": [
        "Let's take a look at the tree:"
      ]
    },
    {
      "cell_type": "code",
      "execution_count": 9,
      "metadata": {
        "collapsed": false,
        "jupyter": {
          "outputs_hidden": false
        }
      },
      "outputs": [],
      "source": [
        "export_graphviz(regr_tree_boston, \n",
        "                out_file = \"boston_tree.dot\", \n",
        "                feature_names = X_train.columns)\n",
        "\n",
        "#with open(\"boston_tree.dot\") as f:\n",
        "#    dot_graph = f.read()\n",
        "#graphviz.Source(dot_graph)"
      ]
    },
    {
      "cell_type": "markdown",
      "metadata": {},
      "source": [
        "The variable `lstat` measures the percentage of individuals with lower\n",
        "socioeconomic status. The tree indicates that lower values of `lstat` correspond\n",
        "to more expensive houses. The tree predicts a median house price\n",
        "of \\$45,766 for larger homes (`rm>=7.4351`) in suburbs in which residents have high socioeconomic\n",
        "status (`lstat<7.81`).\n",
        "\n",
        "Now let's see how it does on the test data:"
      ]
    },
    {
      "cell_type": "code",
      "execution_count": 10,
      "metadata": {
        "collapsed": false,
        "jupyter": {
          "outputs_hidden": false
        }
      },
      "outputs": [
        {
          "data": {
            "text/plain": [
              "35.406215828790266"
            ]
          },
          "execution_count": 10,
          "metadata": {},
          "output_type": "execute_result"
        },
        {
          "data": {
            "image/png": "[encoded data removed]",
            "text/plain": [
              "<Figure size 640x480 with 1 Axes>"
            ]
          },
          "metadata": {},
          "output_type": "display_data"
        }
      ],
      "source": [
        "pred = regr_tree_boston.predict(X_test)\n",
        "\n",
        "plt.scatter(pred, \n",
        "            y_test, \n",
        "            label = 'medv')\n",
        "\n",
        "plt.plot([0, 1], \n",
        "         [0, 1], \n",
        "         '--k', \n",
        "         transform = plt.gca().transAxes)\n",
        "\n",
        "plt.xlabel('pred')\n",
        "plt.ylabel('y_test')\n",
        "\n",
        "mean_squared_error(y_test, pred)"
      ]
    },
    {
      "cell_type": "markdown",
      "metadata": {},
      "source": [
        "<font color='limegreen'>\n",
        "\n",
        "# Apply Iris Data\n",
        "\n",
        "As you said, the following processes are exactly the same operations as the link toward Iris data.\n",
        "\n",
        "</font>\n",
        "\n",
        "References:\n",
        "- https://www.youtube.com/watch?v=nnUHcLZ8Q_k&t=450s\n",
        "- https://www.youtube.com/watch?v=s5Plqr0Y7D8&t=1091s"
      ]
    },
    {
      "cell_type": "code",
      "execution_count": 9,
      "metadata": {},
      "outputs": [],
      "source": [
        "# loading dataset and assign data to feature matrix and a target vector\n",
        "from sklearn import datasets\n",
        "iris = datasets.load_iris()\n",
        "iris_X = iris['data']\n",
        "iris_y = iris['target']"
      ]
    },
    {
      "cell_type": "code",
      "execution_count": 10,
      "metadata": {},
      "outputs": [
        {
          "data": {
            "text/html": [
              "<div>\n",
              "<style scoped>\n",
              "    .dataframe tbody tr th:only-of-type {\n",
              "        vertical-align: middle;\n",
              "    }\n",
              "\n",
              "    .dataframe tbody tr th {\n",
              "        vertical-align: top;\n",
              "    }\n",
              "\n",
              "    .dataframe thead th {\n",
              "        text-align: right;\n",
              "    }\n",
              "</style>\n",
              "<table border=\"1\" class=\"dataframe\">\n",
              "  <thead>\n",
              "    <tr style=\"text-align: right;\">\n",
              "      <th></th>\n",
              "      <th>sepal length (cm)</th>\n",
              "      <th>sepal width (cm)</th>\n",
              "      <th>petal length (cm)</th>\n",
              "      <th>petal width (cm)</th>\n",
              "      <th>target</th>\n",
              "    </tr>\n",
              "  </thead>\n",
              "  <tbody>\n",
              "    <tr>\n",
              "      <th>0</th>\n",
              "      <td>5.1</td>\n",
              "      <td>3.5</td>\n",
              "      <td>1.4</td>\n",
              "      <td>0.2</td>\n",
              "      <td>0.0</td>\n",
              "    </tr>\n",
              "    <tr>\n",
              "      <th>1</th>\n",
              "      <td>4.9</td>\n",
              "      <td>3.0</td>\n",
              "      <td>1.4</td>\n",
              "      <td>0.2</td>\n",
              "      <td>0.0</td>\n",
              "    </tr>\n",
              "    <tr>\n",
              "      <th>2</th>\n",
              "      <td>4.7</td>\n",
              "      <td>3.2</td>\n",
              "      <td>1.3</td>\n",
              "      <td>0.2</td>\n",
              "      <td>0.0</td>\n",
              "    </tr>\n",
              "    <tr>\n",
              "      <th>3</th>\n",
              "      <td>4.6</td>\n",
              "      <td>3.1</td>\n",
              "      <td>1.5</td>\n",
              "      <td>0.2</td>\n",
              "      <td>0.0</td>\n",
              "    </tr>\n",
              "    <tr>\n",
              "      <th>4</th>\n",
              "      <td>5.0</td>\n",
              "      <td>3.6</td>\n",
              "      <td>1.4</td>\n",
              "      <td>0.2</td>\n",
              "      <td>0.0</td>\n",
              "    </tr>\n",
              "  </tbody>\n",
              "</table>\n",
              "</div>"
            ],
            "text/plain": [
              "   sepal length (cm)  sepal width (cm)  petal length (cm)  petal width (cm)  \\\n",
              "0                5.1               3.5                1.4               0.2   \n",
              "1                4.9               3.0                1.4               0.2   \n",
              "2                4.7               3.2                1.3               0.2   \n",
              "3                4.6               3.1                1.5               0.2   \n",
              "4                5.0               3.6                1.4               0.2   \n",
              "\n",
              "   target  \n",
              "0     0.0  \n",
              "1     0.0  \n",
              "2     0.0  \n",
              "3     0.0  \n",
              "4     0.0  "
            ]
          },
          "execution_count": 10,
          "metadata": {},
          "output_type": "execute_result"
        }
      ],
      "source": [
        "# get the feature matrix and target vector as df\n",
        "iris_df = pd.DataFrame(np.c_[iris_X, iris_y], columns=iris['feature_names'] + ['target'])\n",
        "iris_df.head()"
      ]
    },
    {
      "cell_type": "code",
      "execution_count": 22,
      "metadata": {},
      "outputs": [
        {
          "name": "stdout",
          "output_type": "stream",
          "text": [
            "Gini(sepal length (cm) > 5.843333333333335) = 1  - (44/70)**2 - (26/70)**2\n",
            "Gini(sepal length (cm) <= 5.843333333333335) = 1  - (50/80)**2 - (24/80)**2 - (6/80)**2\n",
            "Gini(sepal length (cm)) = (70/150 * 0.46693877551020413) + (80/150 * 0.51375)\n",
            "\n",
            "Gini(sepal width (cm) > 3.057333333333334) = 1  - (42/67)**2 - (17/67)**2 - (8/67)**2\n",
            "Gini(sepal width (cm) <= 3.057333333333334) = 1  - (42/83)**2 - (33/83)**2 - (8/83)**2\n",
            "Gini(sepal width (cm)) = (67/150 * 0.5284027623078638) + (83/150 * 0.5765713456234577)\n",
            "\n",
            "Gini(petal length (cm) > 3.7580000000000027) = 1  - (50/93)**2 - (43/93)**2\n",
            "Gini(petal length (cm) <= 3.7580000000000027) = 1  - (50/57)**2 - (7/57)**2\n",
            "Gini(petal length (cm)) = (93/150 * 0.4971673025783328) + (57/150 * 0.21545090797168373)\n",
            "\n",
            "Gini(petal width (cm) > 1.199333333333334) = 1  - (50/90)**2 - (40/90)**2\n",
            "Gini(petal width (cm) <= 1.199333333333334) = 1  - (50/60)**2 - (10/60)**2\n",
            "Gini(petal width (cm)) = (90/150 * 0.49382716049382713) + (60/150 * 0.2777777777777777)\n",
            "\n"
          ]
        },
        {
          "data": {
            "text/plain": [
              "{'sepal length (cm)': 0.49190476190476196,\n",
              " 'sepal width (cm)': 0.5550560450758257,\n",
              " 'petal length (cm)': 0.39011507262780615,\n",
              " 'petal width (cm)': 0.40740740740740733}"
            ]
          },
          "execution_count": 22,
          "metadata": {},
          "output_type": "execute_result"
        }
      ],
      "source": [
        "# calculating Gini Index based on given thresholds\n",
        "\n",
        "def calculate_gini(df: pd.DataFrame, thresholds: list, y_name: str):\n",
        "    \"\"\"\n",
        "    Calculate the Gini index based on thresholds for each features\n",
        "    \"\"\"\n",
        "    # total rows\n",
        "    n = len(df)\n",
        "    # column names\n",
        "    cols = df.columns\n",
        "    # gini(key: feature, values: Gini index)\n",
        "    gini = {}\n",
        "    for i, t in enumerate(thresholds):\n",
        "        # feature name\n",
        "        X_name = cols[i]\n",
        "        # assign numerical values\n",
        "        gini[X_name] = 0\n",
        "        # define output1\n",
        "        output1 = f'Gini({X_name}) = '\n",
        "        # filterd dfs\n",
        "        filter1 = df[df[X_name] > t][y_name].value_counts()\n",
        "        filter2 = df[df[X_name] <= t][y_name].value_counts()\n",
        "        # calculate gini index based on each feature\n",
        "        for j, f in enumerate([filter1, filter2]):\n",
        "            # number of instances\n",
        "            num_insts = sum(f)\n",
        "            # define output2\n",
        "            math2_ = '>' if j == 0 else '<='\n",
        "            output2 = f'Gini({X_name} {math2_} {t}) = 1 '\n",
        "            # gini index of each feature category\n",
        "            gini_each_cat = 1\n",
        "            # update gini_each_cat\n",
        "            for v in f.values:\n",
        "                output2 += f' - ({v}/{num_insts})**2'\n",
        "                gini_each_cat -= (v/num_insts)**2\n",
        "            print(output2)\n",
        "            # update the weighted sum of gini index\n",
        "            math1_ = ' + ' if j == 0 else ''\n",
        "            output1 += f'({num_insts}/{n} * {gini_each_cat})' + math1_\n",
        "            gini[X_name] += (num_insts/n) * gini_each_cat\n",
        "\n",
        "        print(output1)\n",
        "        print('')\n",
        "\n",
        "\n",
        "    return gini\n",
        "\n",
        "mean_features = list(iris_df.iloc[:, :-1].mean(axis=0).values)\n",
        "calculate_gini(iris_df, mean_features, 'target')"
      ]
    },
    {
      "cell_type": "markdown",
      "metadata": {},
      "source": [
        "<font color='limegreen'>\n",
        "\n",
        "Observations:\n",
        "\n",
        "- Based on the Gini calculation that is shown above, the feature \"petal length (cm)\" showed the lowest gini index value.\n",
        "- Therefore, this feature should be on the top of the tree, and we can think that this feature is the most important one.\n",
        "- However, if we change the thresholds, the result might be drastically changed; in this case, I just applied the mean of each feature as each threshold.\n",
        "\n",
        "\n",
        "</font>"
      ]
    },
    {
      "cell_type": "code",
      "execution_count": 12,
      "metadata": {},
      "outputs": [
        {
          "name": "stdout",
          "output_type": "stream",
          "text": [
            "Y-hat:  [2 1 0 2 0 2 0 1 1 1 2 1 1 1 1 0 1 1 0 0 2 1 0 0 2 0 0 1 1 0]\n",
            "Actual: [2 1 0 2 0 2 0 1 1 1 2 1 1 1 1 0 1 1 0 0 2 1 0 0 2 0 0 1 1 0]\n"
          ]
        }
      ],
      "source": [
        "# This section is the same operation as the second reference\n",
        "\n",
        "# split train and test split\n",
        "iris_X_train, iris_X_test, iris_y_train, iris_y_test = train_test_split(iris_X, iris_y, train_size = 0.8, random_state = 0)\n",
        "\n",
        "# create model\n",
        "model = DecisionTreeClassifier(criterion='gini')\n",
        "model.fit(iris_X_train, iris_y_train)\n",
        "# get predicted labels\n",
        "iris_y_hat = model.predict(iris_X_test)\n",
        "print('Y-hat: ', iris_y_hat)\n",
        "print('Actual:', iris_y_test)"
      ]
    },
    {
      "cell_type": "code",
      "execution_count": 69,
      "metadata": {},
      "outputs": [],
      "source": [
        "export_graphviz(model, \n",
        "                out_file = \"iris_tree.dot\", \n",
        "                feature_names = iris['feature_names'])\n",
        "\n",
        "# attach pdf file as \"iris_tree.pdf\""
      ]
    },
    {
      "cell_type": "markdown",
      "metadata": {},
      "source": [
        "<font color='limegreen'>\n",
        "\n",
        "Observations:\n",
        "\n",
        "- We can confirm that the feature \"petal length (cm)\" is at the top of the generated tree diagram.\n",
        "- The picture of the tree diagram is attached on my submissions as \"iris_tree.pdf\"\n",
        "\n",
        "\n",
        "</font>"
      ]
    },
    {
      "cell_type": "markdown",
      "metadata": {},
      "source": [
        "The test set MSE associated with the regression tree is\n",
        "35.4. The square root of the MSE is therefore around 5.95, indicating\n",
        "that this model leads to test predictions that are within around \\$5,950 of\n",
        "the true median home value for the suburb.\n",
        "    \n",
        "# 3 Bagging and Random Forests\n",
        "\n",
        "Let's see if we can improve on this result using **bagging** and **random forests**. The exact results obtained in this section may\n",
        "depend on the version of `python` and the version of the `RandomForestRegressor` package\n",
        "installed on your computer, so don't stress out if you don't match up exactly with the book. Recall that **bagging** is simply a special case of\n",
        "a **random forest** with $m = p$. Therefore, the `RandomForestRegressor()` function can\n",
        "be used to perform both random forests and bagging. Let's start with bagging:"
      ]
    },
    {
      "cell_type": "code",
      "execution_count": 76,
      "metadata": {
        "collapsed": false,
        "jupyter": {
          "outputs_hidden": false
        }
      },
      "outputs": [
        {
          "data": {
            "text/html": [
              "<style>#sk-container-id-6 {color: black;}#sk-container-id-6 pre{padding: 0;}#sk-container-id-6 div.sk-toggleable {background-color: white;}#sk-container-id-6 label.sk-toggleable__label {cursor: pointer;display: block;width: 100%;margin-bottom: 0;padding: 0.3em;box-sizing: border-box;text-align: center;}#sk-container-id-6 label.sk-toggleable__label-arrow:before {content: \"▸\";float: left;margin-right: 0.25em;color: #696969;}#sk-container-id-6 label.sk-toggleable__label-arrow:hover:before {color: black;}#sk-container-id-6 div.sk-estimator:hover label.sk-toggleable__label-arrow:before {color: black;}#sk-container-id-6 div.sk-toggleable__content {max-height: 0;max-width: 0;overflow: hidden;text-align: left;background-color: #f0f8ff;}#sk-container-id-6 div.sk-toggleable__content pre {margin: 0.2em;color: black;border-radius: 0.25em;background-color: #f0f8ff;}#sk-container-id-6 input.sk-toggleable__control:checked~div.sk-toggleable__content {max-height: 200px;max-width: 100%;overflow: auto;}#sk-container-id-6 input.sk-toggleable__control:checked~label.sk-toggleable__label-arrow:before {content: \"▾\";}#sk-container-id-6 div.sk-estimator input.sk-toggleable__control:checked~label.sk-toggleable__label {background-color: #d4ebff;}#sk-container-id-6 div.sk-label input.sk-toggleable__control:checked~label.sk-toggleable__label {background-color: #d4ebff;}#sk-container-id-6 input.sk-hidden--visually {border: 0;clip: rect(1px 1px 1px 1px);clip: rect(1px, 1px, 1px, 1px);height: 1px;margin: -1px;overflow: hidden;padding: 0;position: absolute;width: 1px;}#sk-container-id-6 div.sk-estimator {font-family: monospace;background-color: #f0f8ff;border: 1px dotted black;border-radius: 0.25em;box-sizing: border-box;margin-bottom: 0.5em;}#sk-container-id-6 div.sk-estimator:hover {background-color: #d4ebff;}#sk-container-id-6 div.sk-parallel-item::after {content: \"\";width: 100%;border-bottom: 1px solid gray;flex-grow: 1;}#sk-container-id-6 div.sk-label:hover label.sk-toggleable__label {background-color: #d4ebff;}#sk-container-id-6 div.sk-serial::before {content: \"\";position: absolute;border-left: 1px solid gray;box-sizing: border-box;top: 0;bottom: 0;left: 50%;z-index: 0;}#sk-container-id-6 div.sk-serial {display: flex;flex-direction: column;align-items: center;background-color: white;padding-right: 0.2em;padding-left: 0.2em;position: relative;}#sk-container-id-6 div.sk-item {position: relative;z-index: 1;}#sk-container-id-6 div.sk-parallel {display: flex;align-items: stretch;justify-content: center;background-color: white;position: relative;}#sk-container-id-6 div.sk-item::before, #sk-container-id-6 div.sk-parallel-item::before {content: \"\";position: absolute;border-left: 1px solid gray;box-sizing: border-box;top: 0;bottom: 0;left: 50%;z-index: -1;}#sk-container-id-6 div.sk-parallel-item {display: flex;flex-direction: column;z-index: 1;position: relative;background-color: white;}#sk-container-id-6 div.sk-parallel-item:first-child::after {align-self: flex-end;width: 50%;}#sk-container-id-6 div.sk-parallel-item:last-child::after {align-self: flex-start;width: 50%;}#sk-container-id-6 div.sk-parallel-item:only-child::after {width: 0;}#sk-container-id-6 div.sk-dashed-wrapped {border: 1px dashed gray;margin: 0 0.4em 0.5em 0.4em;box-sizing: border-box;padding-bottom: 0.4em;background-color: white;}#sk-container-id-6 div.sk-label label {font-family: monospace;font-weight: bold;display: inline-block;line-height: 1.2em;}#sk-container-id-6 div.sk-label-container {text-align: center;}#sk-container-id-6 div.sk-container {/* jupyter's `normalize.less` sets `[hidden] { display: none; }` but bootstrap.min.css set `[hidden] { display: none !important; }` so we also need the `!important` here to be able to override the default hidden behavior on the sphinx rendered scikit-learn.org. See: https://github.com/scikit-learn/scikit-learn/issues/21755 */display: inline-block !important;position: relative;}#sk-container-id-6 div.sk-text-repr-fallback {display: none;}</style><div id=\"sk-container-id-6\" class=\"sk-top-container\"><div class=\"sk-text-repr-fallback\"><pre>RandomForestRegressor(max_features=13, random_state=1)</pre><b>In a Jupyter environment, please rerun this cell to show the HTML representation or trust the notebook. <br />On GitHub, the HTML representation is unable to render, please try loading this page with nbviewer.org.</b></div><div class=\"sk-container\" hidden><div class=\"sk-item\"><div class=\"sk-estimator sk-toggleable\"><input class=\"sk-toggleable__control sk-hidden--visually\" id=\"sk-estimator-id-6\" type=\"checkbox\" checked><label for=\"sk-estimator-id-6\" class=\"sk-toggleable__label sk-toggleable__label-arrow\">RandomForestRegressor</label><div class=\"sk-toggleable__content\"><pre>RandomForestRegressor(max_features=13, random_state=1)</pre></div></div></div></div></div>"
            ],
            "text/plain": [
              "RandomForestRegressor(max_features=13, random_state=1)"
            ]
          },
          "execution_count": 76,
          "metadata": {},
          "output_type": "execute_result"
        }
      ],
      "source": [
        "# Bagging: using all features\n",
        "bagged_boston = RandomForestRegressor(max_features = 13, random_state = 1)\n",
        "bagged_boston.fit(X_train, y_train)"
      ]
    },
    {
      "cell_type": "markdown",
      "metadata": {},
      "source": [
        "The argument `max_features = 13` indicates that all 13 predictors should be considered\n",
        "for each split of the tree -- in other words, that bagging should be done. How\n",
        "well does this bagged model perform on the test set?"
      ]
    },
    {
      "cell_type": "code",
      "execution_count": 77,
      "metadata": {
        "collapsed": false,
        "jupyter": {
          "outputs_hidden": false
        }
      },
      "outputs": [
        {
          "data": {
            "text/plain": [
              "19.460850500000006"
            ]
          },
          "execution_count": 77,
          "metadata": {},
          "output_type": "execute_result"
        },
        {
          "data": {
            "image/png": "[encoded data removed]",
            "text/plain": [
              "<Figure size 640x480 with 1 Axes>"
            ]
          },
          "metadata": {},
          "output_type": "display_data"
        }
      ],
      "source": [
        "pred = bagged_boston.predict(X_test)\n",
        "\n",
        "plt.scatter(pred, \n",
        "            y_test, \n",
        "            label = 'medv')\n",
        "\n",
        "plt.plot([0, 1], \n",
        "         [0, 1], \n",
        "         '--k', \n",
        "         transform = plt.gca().transAxes)\n",
        "\n",
        "plt.xlabel('pred')\n",
        "plt.ylabel('y_test')\n",
        "\n",
        "mean_squared_error(y_test, pred)"
      ]
    },
    {
      "cell_type": "markdown",
      "metadata": {},
      "source": [
        "The test set MSE associated with the bagged regression tree is significantly lower than our single tree!"
      ]
    },
    {
      "cell_type": "markdown",
      "metadata": {},
      "source": [
        "We can grow a random forest in exactly the same way, except that\n",
        "we'll use a smaller value of the `max_features` argument. Here we'll\n",
        "use `max_features = 6`:"
      ]
    },
    {
      "cell_type": "code",
      "execution_count": 78,
      "metadata": {
        "collapsed": false,
        "jupyter": {
          "outputs_hidden": false
        }
      },
      "outputs": [
        {
          "data": {
            "text/plain": [
              "22.080069764705893"
            ]
          },
          "execution_count": 78,
          "metadata": {},
          "output_type": "execute_result"
        }
      ],
      "source": [
        "# Random forests: using 6 features\n",
        "random_forest_boston = RandomForestRegressor(max_features = 6, random_state = 1)\n",
        "\n",
        "random_forest_boston.fit(X_train, y_train)\n",
        "\n",
        "pred = random_forest_boston.predict(X_test)\n",
        "mean_squared_error(y_test, pred)"
      ]
    },
    {
      "cell_type": "markdown",
      "metadata": {},
      "source": [
        "The test set MSE is even lower; this indicates that random forests yielded an\n",
        "improvement over bagging in this case.\n",
        "\n",
        "Using the `feature_importances_` attribute of the `RandomForestRegressor`, we can view the importance of each\n",
        "variable:"
      ]
    },
    {
      "cell_type": "code",
      "execution_count": 79,
      "metadata": {
        "collapsed": false,
        "jupyter": {
          "outputs_hidden": false
        }
      },
      "outputs": [
        {
          "data": {
            "image/png": "[encoded data removed]",
            "text/plain": [
              "<Figure size 640x480 with 1 Axes>"
            ]
          },
          "metadata": {},
          "output_type": "display_data"
        }
      ],
      "source": [
        "Importance = pd.DataFrame({'Importance':random_forest_boston.feature_importances_*100}, \n",
        "                          index = X.columns)\n",
        "\n",
        "Importance.sort_values(by = 'Importance', \n",
        "                       axis = 0, \n",
        "                       ascending = True).plot(kind = 'barh', \n",
        "                                              color = 'r', )\n",
        "\n",
        "plt.xlabel('Variable Importance')\n",
        "plt.gca().legend_ = None"
      ]
    },
    {
      "cell_type": "markdown",
      "metadata": {},
      "source": [
        "The results indicate that across all of the trees considered in the random\n",
        "forest, the wealth level of the community (`lstat`) and the house size (`rm`)\n",
        "are by far the two most important variables."
      ]
    },
    {
      "cell_type": "markdown",
      "metadata": {},
      "source": [
        "# 4 Boosting\n",
        "\n",
        "Now we'll use the `GradientBoostingRegressor` package to fit **boosted\n",
        "regression trees** to the `Boston` data set. The\n",
        "argument `n_estimators = 500` indicates that we want 500 trees, and the option\n",
        "`interaction.depth = 4` limits the depth of each tree:"
      ]
    },
    {
      "cell_type": "code",
      "execution_count": 80,
      "metadata": {
        "collapsed": false,
        "jupyter": {
          "outputs_hidden": false
        }
      },
      "outputs": [
        {
          "data": {
            "text/html": [
              "<style>#sk-container-id-7 {color: black;}#sk-container-id-7 pre{padding: 0;}#sk-container-id-7 div.sk-toggleable {background-color: white;}#sk-container-id-7 label.sk-toggleable__label {cursor: pointer;display: block;width: 100%;margin-bottom: 0;padding: 0.3em;box-sizing: border-box;text-align: center;}#sk-container-id-7 label.sk-toggleable__label-arrow:before {content: \"▸\";float: left;margin-right: 0.25em;color: #696969;}#sk-container-id-7 label.sk-toggleable__label-arrow:hover:before {color: black;}#sk-container-id-7 div.sk-estimator:hover label.sk-toggleable__label-arrow:before {color: black;}#sk-container-id-7 div.sk-toggleable__content {max-height: 0;max-width: 0;overflow: hidden;text-align: left;background-color: #f0f8ff;}#sk-container-id-7 div.sk-toggleable__content pre {margin: 0.2em;color: black;border-radius: 0.25em;background-color: #f0f8ff;}#sk-container-id-7 input.sk-toggleable__control:checked~div.sk-toggleable__content {max-height: 200px;max-width: 100%;overflow: auto;}#sk-container-id-7 input.sk-toggleable__control:checked~label.sk-toggleable__label-arrow:before {content: \"▾\";}#sk-container-id-7 div.sk-estimator input.sk-toggleable__control:checked~label.sk-toggleable__label {background-color: #d4ebff;}#sk-container-id-7 div.sk-label input.sk-toggleable__control:checked~label.sk-toggleable__label {background-color: #d4ebff;}#sk-container-id-7 input.sk-hidden--visually {border: 0;clip: rect(1px 1px 1px 1px);clip: rect(1px, 1px, 1px, 1px);height: 1px;margin: -1px;overflow: hidden;padding: 0;position: absolute;width: 1px;}#sk-container-id-7 div.sk-estimator {font-family: monospace;background-color: #f0f8ff;border: 1px dotted black;border-radius: 0.25em;box-sizing: border-box;margin-bottom: 0.5em;}#sk-container-id-7 div.sk-estimator:hover {background-color: #d4ebff;}#sk-container-id-7 div.sk-parallel-item::after {content: \"\";width: 100%;border-bottom: 1px solid gray;flex-grow: 1;}#sk-container-id-7 div.sk-label:hover label.sk-toggleable__label {background-color: #d4ebff;}#sk-container-id-7 div.sk-serial::before {content: \"\";position: absolute;border-left: 1px solid gray;box-sizing: border-box;top: 0;bottom: 0;left: 50%;z-index: 0;}#sk-container-id-7 div.sk-serial {display: flex;flex-direction: column;align-items: center;background-color: white;padding-right: 0.2em;padding-left: 0.2em;position: relative;}#sk-container-id-7 div.sk-item {position: relative;z-index: 1;}#sk-container-id-7 div.sk-parallel {display: flex;align-items: stretch;justify-content: center;background-color: white;position: relative;}#sk-container-id-7 div.sk-item::before, #sk-container-id-7 div.sk-parallel-item::before {content: \"\";position: absolute;border-left: 1px solid gray;box-sizing: border-box;top: 0;bottom: 0;left: 50%;z-index: -1;}#sk-container-id-7 div.sk-parallel-item {display: flex;flex-direction: column;z-index: 1;position: relative;background-color: white;}#sk-container-id-7 div.sk-parallel-item:first-child::after {align-self: flex-end;width: 50%;}#sk-container-id-7 div.sk-parallel-item:last-child::after {align-self: flex-start;width: 50%;}#sk-container-id-7 div.sk-parallel-item:only-child::after {width: 0;}#sk-container-id-7 div.sk-dashed-wrapped {border: 1px dashed gray;margin: 0 0.4em 0.5em 0.4em;box-sizing: border-box;padding-bottom: 0.4em;background-color: white;}#sk-container-id-7 div.sk-label label {font-family: monospace;font-weight: bold;display: inline-block;line-height: 1.2em;}#sk-container-id-7 div.sk-label-container {text-align: center;}#sk-container-id-7 div.sk-container {/* jupyter's `normalize.less` sets `[hidden] { display: none; }` but bootstrap.min.css set `[hidden] { display: none !important; }` so we also need the `!important` here to be able to override the default hidden behavior on the sphinx rendered scikit-learn.org. See: https://github.com/scikit-learn/scikit-learn/issues/21755 */display: inline-block !important;position: relative;}#sk-container-id-7 div.sk-text-repr-fallback {display: none;}</style><div id=\"sk-container-id-7\" class=\"sk-top-container\"><div class=\"sk-text-repr-fallback\"><pre>GradientBoostingRegressor(learning_rate=0.01, max_depth=4, n_estimators=500,\n",
              "                          random_state=1)</pre><b>In a Jupyter environment, please rerun this cell to show the HTML representation or trust the notebook. <br />On GitHub, the HTML representation is unable to render, please try loading this page with nbviewer.org.</b></div><div class=\"sk-container\" hidden><div class=\"sk-item\"><div class=\"sk-estimator sk-toggleable\"><input class=\"sk-toggleable__control sk-hidden--visually\" id=\"sk-estimator-id-7\" type=\"checkbox\" checked><label for=\"sk-estimator-id-7\" class=\"sk-toggleable__label sk-toggleable__label-arrow\">GradientBoostingRegressor</label><div class=\"sk-toggleable__content\"><pre>GradientBoostingRegressor(learning_rate=0.01, max_depth=4, n_estimators=500,\n",
              "                          random_state=1)</pre></div></div></div></div></div>"
            ],
            "text/plain": [
              "GradientBoostingRegressor(learning_rate=0.01, max_depth=4, n_estimators=500,\n",
              "                          random_state=1)"
            ]
          },
          "execution_count": 80,
          "metadata": {},
          "output_type": "execute_result"
        }
      ],
      "source": [
        "boosted_boston = GradientBoostingRegressor(n_estimators = 500, \n",
        "                                           learning_rate = 0.01, \n",
        "                                           max_depth = 4, \n",
        "                                           random_state = 1)\n",
        "\n",
        "boosted_boston.fit(X_train, y_train)"
      ]
    },
    {
      "cell_type": "markdown",
      "metadata": {},
      "source": [
        "Let's check out the feature importances again:"
      ]
    },
    {
      "cell_type": "code",
      "execution_count": 81,
      "metadata": {
        "collapsed": false,
        "jupyter": {
          "outputs_hidden": false
        }
      },
      "outputs": [
        {
          "data": {
            "image/png": "[encoded data removed]",
            "text/plain": [
              "<Figure size 640x480 with 1 Axes>"
            ]
          },
          "metadata": {},
          "output_type": "display_data"
        }
      ],
      "source": [
        "feature_importance = boosted_boston.feature_importances_*100\n",
        "\n",
        "rel_imp = pd.Series(feature_importance, \n",
        "                    index = X.columns).sort_values(inplace = False)\n",
        "\n",
        "rel_imp.T.plot(kind = 'barh', \n",
        "               color = 'r', )\n",
        "\n",
        "plt.xlabel('Variable Importance')\n",
        "\n",
        "plt.gca().legend_ = None"
      ]
    },
    {
      "cell_type": "markdown",
      "metadata": {},
      "source": [
        "We see that `lstat` and `rm` are again the most important variables by far. Now let's use the boosted model to predict `medv` on the test set:"
      ]
    },
    {
      "cell_type": "code",
      "execution_count": 82,
      "metadata": {
        "collapsed": false,
        "jupyter": {
          "outputs_hidden": false
        }
      },
      "outputs": [
        {
          "data": {
            "text/plain": [
              "19.046377762502416"
            ]
          },
          "execution_count": 82,
          "metadata": {},
          "output_type": "execute_result"
        }
      ],
      "source": [
        "mean_squared_error(y_test, boosted_boston.predict(X_test))"
      ]
    },
    {
      "cell_type": "markdown",
      "metadata": {},
      "source": [
        "The test MSE obtained is similar to the test MSE for random forests\n",
        "and superior to that for bagging. If we want to, we can perform boosting\n",
        "with a different value of the shrinkage parameter $\\lambda$. Here we take $\\lambda = 0.2$:"
      ]
    },
    {
      "cell_type": "code",
      "execution_count": 83,
      "metadata": {
        "collapsed": false,
        "jupyter": {
          "outputs_hidden": false
        }
      },
      "outputs": [
        {
          "data": {
            "text/plain": [
              "17.667086952596446"
            ]
          },
          "execution_count": 83,
          "metadata": {},
          "output_type": "execute_result"
        }
      ],
      "source": [
        "boosted_boston2 = GradientBoostingRegressor(n_estimators = 500, \n",
        "                                            learning_rate = 0.2, \n",
        "                                            max_depth = 4, \n",
        "                                            random_state = 1)\n",
        "boosted_boston2.fit(X_train, y_train)\n",
        "\n",
        "mean_squared_error(y_test, boosted_boston2.predict(X_test))"
      ]
    },
    {
      "cell_type": "markdown",
      "metadata": {},
      "source": [
        "In this case, using $\\lambda = 0.2$ leads to a slightly lower test MSE than $\\lambda = 0.01$.\n",
        "\n",
        "To get credit for this lab, post your responses to the following questions:\n",
        "\n",
        "\n",
        "<font color='limegreen'>\n",
        "\n",
        "Here are my observations:\n",
        "\n",
        "- What's one real-world scenario where you might try using Bagging?\n",
        "    - To aggregate multiple machine learning algorithms, then predict the data more accurately.\n",
        "    - For example, in order to predict target labels, we can output predicted values by employing the majority votes; each predicted value will be generated from each algorithm.\n",
        "    \n",
        "<br><br>\n",
        "\n",
        "- What's one real-world scenario where you might try using Random Forests?\n",
        "    - One of the advantages of a random forest could be reducing the overfitting that will be caused by a single tree.\n",
        "    - Considering that the tree diagram is likely to be more straightforward for those who do not have expertise in the machine learning algorithm, the application of random forest will be broader.\n",
        "    - For example, the random forest can be utilized to predict who will be highly likely to default in the bank.\n",
        "    - Even though there are many independent variables, the ouverfitting risk will be mitigated compared to a single tree diagram.\n",
        "    \n",
        "<br><br>\n",
        "\n",
        "- What's one real-world scenario where you might try using Boosting?\n",
        "    - Boosting can be used for stock market predictions.\n",
        "    - Considering that the stocks are highly affected by various factors, such as economic indicators, money flows, and investor sentiment, it would be a good strategy to strive to predict the errors between the actual and predicted values from the previous algorithm.\n",
        "    - For example, we initially apply the Consumer Price Index (CPI) as an independent variable in the first algorithm, and then we can apply different economic indicators to capture the unpredicted fluctuations that the development of the CPI cannot explain.\n",
        "    - Once we add more data, the aggregated model could perform better prediction.\n",
        "\n",
        " </font>"
      ]
    },
    {
      "cell_type": "markdown",
      "metadata": {},
      "source": []
    }
  ],
  "metadata": {
    "anaconda-cloud": {},
    "kernelspec": {
      "display_name": "Python 3",
      "language": "python",
      "name": "python3"
    },
    "language_info": {
      "codemirror_mode": {
        "name": "ipython",
        "version": 3
      },
      "file_extension": ".py",
      "mimetype": "text/x-python",
      "name": "python",
      "nbconvert_exporter": "python",
      "pygments_lexer": "ipython3",
      "version": "3.11.6"
    }
  },
  "nbformat": 4,
  "nbformat_minor": 4
}
