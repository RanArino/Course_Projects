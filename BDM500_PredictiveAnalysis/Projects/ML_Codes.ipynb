{
 "cells": [
  {
   "cell_type": "code",
   "execution_count": 1,
   "metadata": {},
   "outputs": [],
   "source": [
    "\n",
    "import numpy as np\n",
    "import pandas as pd\n",
    "import matplotlib.pyplot as plt\n",
    "from plotly.subplots import make_subplots\n",
    "import plotly.graph_objects as go\n",
    "\n",
    "from Functions import PredictiveAnalysis\n",
    "\n",
    "import dash\n",
    "from dash import html, dcc, ALL, MATCH, Output, Input, State, no_update, ctx, Patch\n",
    "import dash_mantine_components as dmc\n",
    "import dash_bootstrap_components as dbc\n"
   ]
  },
  {
   "cell_type": "code",
   "execution_count": 2,
   "metadata": {},
   "outputs": [
    {
     "data": {
      "text/html": [
       "<div>\n",
       "<style scoped>\n",
       "    .dataframe tbody tr th:only-of-type {\n",
       "        vertical-align: middle;\n",
       "    }\n",
       "\n",
       "    .dataframe tbody tr th {\n",
       "        vertical-align: top;\n",
       "    }\n",
       "\n",
       "    .dataframe thead th {\n",
       "        text-align: right;\n",
       "    }\n",
       "</style>\n",
       "<table border=\"1\" class=\"dataframe\">\n",
       "  <thead>\n",
       "    <tr style=\"text-align: right;\">\n",
       "      <th></th>\n",
       "      <th>Date</th>\n",
       "      <th>Year</th>\n",
       "      <th>Month</th>\n",
       "      <th>CSENT</th>\n",
       "      <th>IPM</th>\n",
       "      <th>HOUSE</th>\n",
       "      <th>UNEMP</th>\n",
       "      <th>LRIR</th>\n",
       "      <th>SP500</th>\n",
       "      <th>SP500_Price</th>\n",
       "      <th>SP500_Rise</th>\n",
       "    </tr>\n",
       "  </thead>\n",
       "  <tbody>\n",
       "    <tr>\n",
       "      <th>0</th>\n",
       "      <td>1979-01-31</td>\n",
       "      <td>1979</td>\n",
       "      <td>1</td>\n",
       "      <td>-13.859020</td>\n",
       "      <td>7.862464</td>\n",
       "      <td>-5.157233</td>\n",
       "      <td>5.9</td>\n",
       "      <td>-0.300399</td>\n",
       "      <td>11.966387</td>\n",
       "      <td>99.930000</td>\n",
       "      <td>1.0</td>\n",
       "    </tr>\n",
       "    <tr>\n",
       "      <th>1</th>\n",
       "      <td>1979-02-28</td>\n",
       "      <td>1979</td>\n",
       "      <td>2</td>\n",
       "      <td>-12.336892</td>\n",
       "      <td>7.786828</td>\n",
       "      <td>-8.596713</td>\n",
       "      <td>5.9</td>\n",
       "      <td>-0.671270</td>\n",
       "      <td>10.615806</td>\n",
       "      <td>96.279999</td>\n",
       "      <td>1.0</td>\n",
       "    </tr>\n",
       "    <tr>\n",
       "      <th>2</th>\n",
       "      <td>1979-03-31</td>\n",
       "      <td>1979</td>\n",
       "      <td>3</td>\n",
       "      <td>-13.197970</td>\n",
       "      <td>6.418676</td>\n",
       "      <td>-2.579853</td>\n",
       "      <td>5.8</td>\n",
       "      <td>-1.142366</td>\n",
       "      <td>13.877365</td>\n",
       "      <td>101.589996</td>\n",
       "      <td>1.0</td>\n",
       "    </tr>\n",
       "    <tr>\n",
       "      <th>3</th>\n",
       "      <td>1979-04-30</td>\n",
       "      <td>1979</td>\n",
       "      <td>4</td>\n",
       "      <td>-19.117647</td>\n",
       "      <td>2.997984</td>\n",
       "      <td>-13.425926</td>\n",
       "      <td>5.8</td>\n",
       "      <td>-1.135133</td>\n",
       "      <td>5.091398</td>\n",
       "      <td>101.760002</td>\n",
       "      <td>1.0</td>\n",
       "    </tr>\n",
       "    <tr>\n",
       "      <th>4</th>\n",
       "      <td>1979-05-31</td>\n",
       "      <td>1979</td>\n",
       "      <td>5</td>\n",
       "      <td>-17.852835</td>\n",
       "      <td>3.917937</td>\n",
       "      <td>-15.169195</td>\n",
       "      <td>5.6</td>\n",
       "      <td>-1.637674</td>\n",
       "      <td>1.892230</td>\n",
       "      <td>99.080002</td>\n",
       "      <td>1.0</td>\n",
       "    </tr>\n",
       "  </tbody>\n",
       "</table>\n",
       "</div>"
      ],
      "text/plain": [
       "         Date  Year  Month      CSENT       IPM      HOUSE  UNEMP      LRIR  \\\n",
       "0  1979-01-31  1979      1 -13.859020  7.862464  -5.157233    5.9 -0.300399   \n",
       "1  1979-02-28  1979      2 -12.336892  7.786828  -8.596713    5.9 -0.671270   \n",
       "2  1979-03-31  1979      3 -13.197970  6.418676  -2.579853    5.8 -1.142366   \n",
       "3  1979-04-30  1979      4 -19.117647  2.997984 -13.425926    5.8 -1.135133   \n",
       "4  1979-05-31  1979      5 -17.852835  3.917937 -15.169195    5.6 -1.637674   \n",
       "\n",
       "       SP500  SP500_Price  SP500_Rise  \n",
       "0  11.966387    99.930000         1.0  \n",
       "1  10.615806    96.279999         1.0  \n",
       "2  13.877365   101.589996         1.0  \n",
       "3   5.091398   101.760002         1.0  \n",
       "4   1.892230    99.080002         1.0  "
      ]
     },
     "execution_count": 2,
     "metadata": {},
     "output_type": "execute_result"
    }
   ],
   "source": [
    "# load the clean data frame\n",
    "df = pd.read_csv('final.csv')\n",
    "df.head()"
   ]
  },
  {
   "cell_type": "markdown",
   "metadata": {},
   "source": [
    "# Dataset Creation\n",
    "- Six types of moving averages ; from one to six months.\n",
    "- Six types of dataset shifts; from one to six months."
   ]
  },
  {
   "cell_type": "code",
   "execution_count": 3,
   "metadata": {},
   "outputs": [
    {
     "data": {
      "text/plain": [
       "'\\nclass PredictiveAnalysis_Test(PredictiveAnalysis):\\n    def __init__(self, df):\\n        super().__init__(df)\\n'"
      ]
     },
     "execution_count": 3,
     "metadata": {},
     "output_type": "execute_result"
    }
   ],
   "source": [
    "\"\"\"\n",
    "class PredictiveAnalysis_Test(PredictiveAnalysis):\n",
    "    def __init__(self, df):\n",
    "        super().__init__(df)\n",
    "\"\"\""
   ]
  },
  {
   "cell_type": "code",
   "execution_count": 4,
   "metadata": {},
   "outputs": [],
   "source": [
    "PA = PredictiveAnalysis(df)\n",
    "PA.create_data(['CSENT', 'IPM', 'HOUSE', 'UNEMP', 'LRIR'], 'SP500', ma=[1,2,3,4,5,6], fp=[1,2,3,4,5,6], poly_d=1)"
   ]
  },
  {
   "cell_type": "code",
   "execution_count": 5,
   "metadata": {},
   "outputs": [
    {
     "name": "stdout",
     "output_type": "stream",
     "text": [
      "[[ 1.         -1.07697478  1.02863002 -0.24524403 -1.02032316 -1.34994328]\n",
      " [ 1.         -0.97845534  1.01416757 -0.38013943 -1.02032316 -1.45430278]\n",
      " [ 1.         -1.0341884   0.75256061 -0.14415995 -1.09159136 -1.58686461]\n",
      " [ 1.         -1.41733832  0.09848356 -0.56953973 -1.09159136 -1.58482934]\n",
      " [ 1.         -1.3354736   0.2743895  -0.63791022 -1.23412778 -1.72623957]]\n",
      "[[10.61580626]\n",
      " [13.87736507]\n",
      " [ 5.09139751]\n",
      " [ 1.89222954]\n",
      " [ 7.7253271 ]]\n",
      "[[1]\n",
      " [1]\n",
      " [1]\n",
      " [1]\n",
      " [1]]\n"
     ]
    }
   ],
   "source": [
    "# check the format of each X and y matrix\n",
    "print(PA.datasets['1MA_1FP']['X'][:5])\n",
    "print(PA.datasets['1MA_1FP']['y'][:5])\n",
    "print(PA.datasets['1MA_1FP']['y_cat'][:5])"
   ]
  },
  {
   "cell_type": "markdown",
   "metadata": {},
   "source": [
    "# Model Creation & Evaluation\n",
    "\n",
    "- Four machine learning models\n",
    "    1. Multiple Linear Regression\n",
    "    3. Logistic Regression\n",
    "    4. Classification and Regression Tree\n",
    "\n",
    "<br>\n",
    "\n",
    "- Evaluations\n",
    "    - Regressions:\n",
    "        - <b>Root Mean Square Error (RMSE)</b>: How much errors could occur between the predicted prices and the actual ones.\n",
    "        - <b>Standard Error of Estimate (SE)</b>: How much variation could occur in the actual target based on the same condition of independent variables. \n",
    "        - <b>Coffeficient of Determination (R2)</b>: How well the regression model explains the variation of a target value.\n",
    "        - <b>Adjusted R2</b>: R2 with the penalty for the number of independent variables.\n",
    "        <br><br>\n",
    "        \n",
    "    - Classification\n",
    "        - <b>Accuracy</b>: How the model can correctly predict the target values.\n",
    "        - <b>Precision</b>: How the model can avoid false positives.\n",
    "        - <b>Recall</b>: How the model can avoid false negatives.\n",
    "        - <b>F1 Score</b>: How the model can balance precision and recall.\n",
    "        - <b>AUC (Area Under the ROC Curve)</b>: How the model can summarize the ROC curve."
   ]
  },
  {
   "cell_type": "markdown",
   "metadata": {},
   "source": [
    "### Multiple linear Regression\n",
    "- Applying different scopes for parameter adjustments; [1,2,3,4,5,6]\n",
    "- Feature selection by backward elimination for whole models."
   ]
  },
  {
   "cell_type": "code",
   "execution_count": 6,
   "metadata": {},
   "outputs": [
    {
     "data": {
      "text/plain": [
       "'fig1_1_ha = make_subplots(cols=5)\\nfor i, f in enumerate(fig1_1):\\n    for d in f.data:\\n        fig1_1_ha.add_trace(d, row=1, col=i+1)'"
      ]
     },
     "execution_count": 6,
     "metadata": {},
     "output_type": "execute_result"
    }
   ],
   "source": [
    "\"\"\"fig1_1_ha = make_subplots(cols=5)\n",
    "for i, f in enumerate(fig1_1):\n",
    "    for d in f.data:\n",
    "        fig1_1_ha.add_trace(d, row=1, col=i+1)\"\"\""
   ]
  },
  {
   "cell_type": "code",
   "execution_count": 7,
   "metadata": {},
   "outputs": [
    {
     "data": {
      "application/vnd.plotly.v1+json": {
       "config": {
        "plotlyServerURL": "https://plot.ly"
       },
       "data": [
        {
         "error_y": {
          "array": [
           0.1835969245133411,
           0.2880241254992626,
           0.2908548286084063,
           0.317253827208817,
           0.37229531404267124,
           0.3227661805253552
          ],
          "arrayminus": [
           0.129559883553247,
           0.5827624259419526,
           0.5155699449210411,
           0.35978750651501556,
           0.3246484042429141,
           0.25596923426732543
          ]
         },
         "hovertemplate": "SC=1<br>MA=%{x}<br>RMSE_mean=%{y}<extra></extra>",
         "legendgroup": "1",
         "marker": {
          "color": "#636efa",
          "symbol": "circle"
         },
         "mode": "markers",
         "name": "1",
         "orientation": "v",
         "showlegend": true,
         "type": "scatter",
         "x": [
          1,
          2,
          3,
          4,
          5,
          6
         ],
         "xaxis": "x",
         "y": [
          7.374836940086845,
          5.716188524933614,
          5.0016598739210965,
          4.589920485930207,
          4.29142376177271,
          4.006175870575137
         ],
         "yaxis": "y"
        },
        {
         "error_y": {
          "array": [
           0.1805028047164381,
           0.384972277040573,
           0.43003327878854236,
           0.4387378092115064,
           0.4617398776489372,
           0.39427914504919226
          ],
          "arrayminus": [
           0.273312083555723,
           1.0720772701967078,
           0.762168675526854,
           0.49599520464790015,
           0.358106830534588,
           0.2524628414525001
          ]
         },
         "hovertemplate": "SC=3<br>MA=%{x}<br>RMSE_mean=%{y}<extra></extra>",
         "legendgroup": "3",
         "marker": {
          "color": "#EF553B",
          "symbol": "circle"
         },
         "mode": "markers",
         "name": "3",
         "orientation": "v",
         "showlegend": true,
         "type": "scatter",
         "x": [
          1,
          2,
          3,
          4,
          5,
          6
         ],
         "xaxis": "x",
         "y": [
          8.4791130523351,
          7.0649218889309084,
          6.168014510875217,
          5.497287749689657,
          5.004416614902048,
          4.576728483077427
         ],
         "yaxis": "y"
        },
        {
         "error_y": {
          "array": [
           0.16510293429772993,
           0.6073757424798796,
           0.6645020972964035,
           0.684764527780116,
           0.7125592419659537,
           0.6406224594732937
          ],
          "arrayminus": [
           0.32735961775394706,
           1.3530017762947235,
           1.0423581528675658,
           0.7354678451757692,
           0.5603008479341902,
           0.38036474243222784
          ]
         },
         "hovertemplate": "SC=6<br>MA=%{x}<br>RMSE_mean=%{y}<extra></extra>",
         "legendgroup": "6",
         "marker": {
          "color": "#00cc96",
          "symbol": "circle"
         },
         "mode": "markers",
         "name": "6",
         "orientation": "v",
         "showlegend": true,
         "type": "scatter",
         "x": [
          1,
          2,
          3,
          4,
          5,
          6
         ],
         "xaxis": "x",
         "y": [
          9.6450703369645,
          8.288851162988632,
          7.423772132420825,
          6.727059385007668,
          6.170870642021253,
          5.687257427772266
         ],
         "yaxis": "y"
        }
       ],
       "layout": {
        "height": 300,
        "legend": {
         "title": {
          "text": "SC"
         },
         "tracegroupgap": 0
        },
        "margin": {
         "b": 50,
         "l": 30,
         "r": 30,
         "t": 50
        },
        "showlegend": false,
        "template": {
         "data": {
          "bar": [
           {
            "error_x": {
             "color": "#f2f5fa"
            },
            "error_y": {
             "color": "#f2f5fa"
            },
            "marker": {
             "line": {
              "color": "rgb(17,17,17)",
              "width": 0.5
             },
             "pattern": {
              "fillmode": "overlay",
              "size": 10,
              "solidity": 0.2
             }
            },
            "type": "bar"
           }
          ],
          "barpolar": [
           {
            "marker": {
             "line": {
              "color": "rgb(17,17,17)",
              "width": 0.5
             },
             "pattern": {
              "fillmode": "overlay",
              "size": 10,
              "solidity": 0.2
             }
            },
            "type": "barpolar"
           }
          ],
          "carpet": [
           {
            "aaxis": {
             "endlinecolor": "#A2B1C6",
             "gridcolor": "#506784",
             "linecolor": "#506784",
             "minorgridcolor": "#506784",
             "startlinecolor": "#A2B1C6"
            },
            "baxis": {
             "endlinecolor": "#A2B1C6",
             "gridcolor": "#506784",
             "linecolor": "#506784",
             "minorgridcolor": "#506784",
             "startlinecolor": "#A2B1C6"
            },
            "type": "carpet"
           }
          ],
          "choropleth": [
           {
            "colorbar": {
             "outlinewidth": 0,
             "ticks": ""
            },
            "type": "choropleth"
           }
          ],
          "contour": [
           {
            "colorbar": {
             "outlinewidth": 0,
             "ticks": ""
            },
            "colorscale": [
             [
              0,
              "#0d0887"
             ],
             [
              0.1111111111111111,
              "#46039f"
             ],
             [
              0.2222222222222222,
              "#7201a8"
             ],
             [
              0.3333333333333333,
              "#9c179e"
             ],
             [
              0.4444444444444444,
              "#bd3786"
             ],
             [
              0.5555555555555556,
              "#d8576b"
             ],
             [
              0.6666666666666666,
              "#ed7953"
             ],
             [
              0.7777777777777778,
              "#fb9f3a"
             ],
             [
              0.8888888888888888,
              "#fdca26"
             ],
             [
              1,
              "#f0f921"
             ]
            ],
            "type": "contour"
           }
          ],
          "contourcarpet": [
           {
            "colorbar": {
             "outlinewidth": 0,
             "ticks": ""
            },
            "type": "contourcarpet"
           }
          ],
          "heatmap": [
           {
            "colorbar": {
             "outlinewidth": 0,
             "ticks": ""
            },
            "colorscale": [
             [
              0,
              "#0d0887"
             ],
             [
              0.1111111111111111,
              "#46039f"
             ],
             [
              0.2222222222222222,
              "#7201a8"
             ],
             [
              0.3333333333333333,
              "#9c179e"
             ],
             [
              0.4444444444444444,
              "#bd3786"
             ],
             [
              0.5555555555555556,
              "#d8576b"
             ],
             [
              0.6666666666666666,
              "#ed7953"
             ],
             [
              0.7777777777777778,
              "#fb9f3a"
             ],
             [
              0.8888888888888888,
              "#fdca26"
             ],
             [
              1,
              "#f0f921"
             ]
            ],
            "type": "heatmap"
           }
          ],
          "heatmapgl": [
           {
            "colorbar": {
             "outlinewidth": 0,
             "ticks": ""
            },
            "colorscale": [
             [
              0,
              "#0d0887"
             ],
             [
              0.1111111111111111,
              "#46039f"
             ],
             [
              0.2222222222222222,
              "#7201a8"
             ],
             [
              0.3333333333333333,
              "#9c179e"
             ],
             [
              0.4444444444444444,
              "#bd3786"
             ],
             [
              0.5555555555555556,
              "#d8576b"
             ],
             [
              0.6666666666666666,
              "#ed7953"
             ],
             [
              0.7777777777777778,
              "#fb9f3a"
             ],
             [
              0.8888888888888888,
              "#fdca26"
             ],
             [
              1,
              "#f0f921"
             ]
            ],
            "type": "heatmapgl"
           }
          ],
          "histogram": [
           {
            "marker": {
             "pattern": {
              "fillmode": "overlay",
              "size": 10,
              "solidity": 0.2
             }
            },
            "type": "histogram"
           }
          ],
          "histogram2d": [
           {
            "colorbar": {
             "outlinewidth": 0,
             "ticks": ""
            },
            "colorscale": [
             [
              0,
              "#0d0887"
             ],
             [
              0.1111111111111111,
              "#46039f"
             ],
             [
              0.2222222222222222,
              "#7201a8"
             ],
             [
              0.3333333333333333,
              "#9c179e"
             ],
             [
              0.4444444444444444,
              "#bd3786"
             ],
             [
              0.5555555555555556,
              "#d8576b"
             ],
             [
              0.6666666666666666,
              "#ed7953"
             ],
             [
              0.7777777777777778,
              "#fb9f3a"
             ],
             [
              0.8888888888888888,
              "#fdca26"
             ],
             [
              1,
              "#f0f921"
             ]
            ],
            "type": "histogram2d"
           }
          ],
          "histogram2dcontour": [
           {
            "colorbar": {
             "outlinewidth": 0,
             "ticks": ""
            },
            "colorscale": [
             [
              0,
              "#0d0887"
             ],
             [
              0.1111111111111111,
              "#46039f"
             ],
             [
              0.2222222222222222,
              "#7201a8"
             ],
             [
              0.3333333333333333,
              "#9c179e"
             ],
             [
              0.4444444444444444,
              "#bd3786"
             ],
             [
              0.5555555555555556,
              "#d8576b"
             ],
             [
              0.6666666666666666,
              "#ed7953"
             ],
             [
              0.7777777777777778,
              "#fb9f3a"
             ],
             [
              0.8888888888888888,
              "#fdca26"
             ],
             [
              1,
              "#f0f921"
             ]
            ],
            "type": "histogram2dcontour"
           }
          ],
          "mesh3d": [
           {
            "colorbar": {
             "outlinewidth": 0,
             "ticks": ""
            },
            "type": "mesh3d"
           }
          ],
          "parcoords": [
           {
            "line": {
             "colorbar": {
              "outlinewidth": 0,
              "ticks": ""
             }
            },
            "type": "parcoords"
           }
          ],
          "pie": [
           {
            "automargin": true,
            "type": "pie"
           }
          ],
          "scatter": [
           {
            "marker": {
             "line": {
              "color": "#283442"
             }
            },
            "type": "scatter"
           }
          ],
          "scatter3d": [
           {
            "line": {
             "colorbar": {
              "outlinewidth": 0,
              "ticks": ""
             }
            },
            "marker": {
             "colorbar": {
              "outlinewidth": 0,
              "ticks": ""
             }
            },
            "type": "scatter3d"
           }
          ],
          "scattercarpet": [
           {
            "marker": {
             "colorbar": {
              "outlinewidth": 0,
              "ticks": ""
             }
            },
            "type": "scattercarpet"
           }
          ],
          "scattergeo": [
           {
            "marker": {
             "colorbar": {
              "outlinewidth": 0,
              "ticks": ""
             }
            },
            "type": "scattergeo"
           }
          ],
          "scattergl": [
           {
            "marker": {
             "line": {
              "color": "#283442"
             }
            },
            "type": "scattergl"
           }
          ],
          "scattermapbox": [
           {
            "marker": {
             "colorbar": {
              "outlinewidth": 0,
              "ticks": ""
             }
            },
            "type": "scattermapbox"
           }
          ],
          "scatterpolar": [
           {
            "marker": {
             "colorbar": {
              "outlinewidth": 0,
              "ticks": ""
             }
            },
            "type": "scatterpolar"
           }
          ],
          "scatterpolargl": [
           {
            "marker": {
             "colorbar": {
              "outlinewidth": 0,
              "ticks": ""
             }
            },
            "type": "scatterpolargl"
           }
          ],
          "scatterternary": [
           {
            "marker": {
             "colorbar": {
              "outlinewidth": 0,
              "ticks": ""
             }
            },
            "type": "scatterternary"
           }
          ],
          "surface": [
           {
            "colorbar": {
             "outlinewidth": 0,
             "ticks": ""
            },
            "colorscale": [
             [
              0,
              "#0d0887"
             ],
             [
              0.1111111111111111,
              "#46039f"
             ],
             [
              0.2222222222222222,
              "#7201a8"
             ],
             [
              0.3333333333333333,
              "#9c179e"
             ],
             [
              0.4444444444444444,
              "#bd3786"
             ],
             [
              0.5555555555555556,
              "#d8576b"
             ],
             [
              0.6666666666666666,
              "#ed7953"
             ],
             [
              0.7777777777777778,
              "#fb9f3a"
             ],
             [
              0.8888888888888888,
              "#fdca26"
             ],
             [
              1,
              "#f0f921"
             ]
            ],
            "type": "surface"
           }
          ],
          "table": [
           {
            "cells": {
             "fill": {
              "color": "#506784"
             },
             "line": {
              "color": "rgb(17,17,17)"
             }
            },
            "header": {
             "fill": {
              "color": "#2a3f5f"
             },
             "line": {
              "color": "rgb(17,17,17)"
             }
            },
            "type": "table"
           }
          ]
         },
         "layout": {
          "annotationdefaults": {
           "arrowcolor": "#f2f5fa",
           "arrowhead": 0,
           "arrowwidth": 1
          },
          "autotypenumbers": "strict",
          "coloraxis": {
           "colorbar": {
            "outlinewidth": 0,
            "ticks": ""
           }
          },
          "colorscale": {
           "diverging": [
            [
             0,
             "#8e0152"
            ],
            [
             0.1,
             "#c51b7d"
            ],
            [
             0.2,
             "#de77ae"
            ],
            [
             0.3,
             "#f1b6da"
            ],
            [
             0.4,
             "#fde0ef"
            ],
            [
             0.5,
             "#f7f7f7"
            ],
            [
             0.6,
             "#e6f5d0"
            ],
            [
             0.7,
             "#b8e186"
            ],
            [
             0.8,
             "#7fbc41"
            ],
            [
             0.9,
             "#4d9221"
            ],
            [
             1,
             "#276419"
            ]
           ],
           "sequential": [
            [
             0,
             "#0d0887"
            ],
            [
             0.1111111111111111,
             "#46039f"
            ],
            [
             0.2222222222222222,
             "#7201a8"
            ],
            [
             0.3333333333333333,
             "#9c179e"
            ],
            [
             0.4444444444444444,
             "#bd3786"
            ],
            [
             0.5555555555555556,
             "#d8576b"
            ],
            [
             0.6666666666666666,
             "#ed7953"
            ],
            [
             0.7777777777777778,
             "#fb9f3a"
            ],
            [
             0.8888888888888888,
             "#fdca26"
            ],
            [
             1,
             "#f0f921"
            ]
           ],
           "sequentialminus": [
            [
             0,
             "#0d0887"
            ],
            [
             0.1111111111111111,
             "#46039f"
            ],
            [
             0.2222222222222222,
             "#7201a8"
            ],
            [
             0.3333333333333333,
             "#9c179e"
            ],
            [
             0.4444444444444444,
             "#bd3786"
            ],
            [
             0.5555555555555556,
             "#d8576b"
            ],
            [
             0.6666666666666666,
             "#ed7953"
            ],
            [
             0.7777777777777778,
             "#fb9f3a"
            ],
            [
             0.8888888888888888,
             "#fdca26"
            ],
            [
             1,
             "#f0f921"
            ]
           ]
          },
          "colorway": [
           "#636efa",
           "#EF553B",
           "#00cc96",
           "#ab63fa",
           "#FFA15A",
           "#19d3f3",
           "#FF6692",
           "#B6E880",
           "#FF97FF",
           "#FECB52"
          ],
          "font": {
           "color": "#f2f5fa"
          },
          "geo": {
           "bgcolor": "rgb(17,17,17)",
           "lakecolor": "rgb(17,17,17)",
           "landcolor": "rgb(17,17,17)",
           "showlakes": true,
           "showland": true,
           "subunitcolor": "#506784"
          },
          "hoverlabel": {
           "align": "left"
          },
          "hovermode": "closest",
          "mapbox": {
           "style": "dark"
          },
          "paper_bgcolor": "rgb(17,17,17)",
          "plot_bgcolor": "rgb(17,17,17)",
          "polar": {
           "angularaxis": {
            "gridcolor": "#506784",
            "linecolor": "#506784",
            "ticks": ""
           },
           "bgcolor": "rgb(17,17,17)",
           "radialaxis": {
            "gridcolor": "#506784",
            "linecolor": "#506784",
            "ticks": ""
           }
          },
          "scene": {
           "xaxis": {
            "backgroundcolor": "rgb(17,17,17)",
            "gridcolor": "#506784",
            "gridwidth": 2,
            "linecolor": "#506784",
            "showbackground": true,
            "ticks": "",
            "zerolinecolor": "#C8D4E3"
           },
           "yaxis": {
            "backgroundcolor": "rgb(17,17,17)",
            "gridcolor": "#506784",
            "gridwidth": 2,
            "linecolor": "#506784",
            "showbackground": true,
            "ticks": "",
            "zerolinecolor": "#C8D4E3"
           },
           "zaxis": {
            "backgroundcolor": "rgb(17,17,17)",
            "gridcolor": "#506784",
            "gridwidth": 2,
            "linecolor": "#506784",
            "showbackground": true,
            "ticks": "",
            "zerolinecolor": "#C8D4E3"
           }
          },
          "shapedefaults": {
           "line": {
            "color": "#f2f5fa"
           }
          },
          "sliderdefaults": {
           "bgcolor": "#C8D4E3",
           "bordercolor": "rgb(17,17,17)",
           "borderwidth": 1,
           "tickwidth": 0
          },
          "ternary": {
           "aaxis": {
            "gridcolor": "#506784",
            "linecolor": "#506784",
            "ticks": ""
           },
           "baxis": {
            "gridcolor": "#506784",
            "linecolor": "#506784",
            "ticks": ""
           },
           "bgcolor": "rgb(17,17,17)",
           "caxis": {
            "gridcolor": "#506784",
            "linecolor": "#506784",
            "ticks": ""
           }
          },
          "title": {
           "x": 0.05
          },
          "updatemenudefaults": {
           "bgcolor": "#506784",
           "borderwidth": 0
          },
          "xaxis": {
           "automargin": true,
           "gridcolor": "#283442",
           "linecolor": "#506784",
           "ticks": "",
           "title": {
            "standoff": 15
           },
           "zerolinecolor": "#283442",
           "zerolinewidth": 2
          },
          "yaxis": {
           "automargin": true,
           "gridcolor": "#283442",
           "linecolor": "#506784",
           "ticks": "",
           "title": {
            "standoff": 15
           },
           "zerolinecolor": "#283442",
           "zerolinewidth": 2
          }
         }
        },
        "title": {
         "text": "RMSE",
         "x": 0.5,
         "xanchor": "center"
        },
        "width": 400,
        "xaxis": {
         "anchor": "y",
         "domain": [
          0,
          1
         ],
         "title": {
          "font": {
           "color": "lightgrey"
          },
          "text": "Moving Averages"
         }
        },
        "yaxis": {
         "anchor": "x",
         "domain": [
          0,
          1
         ],
         "title": {
          "text": ""
         }
        }
       }
      }
     },
     "metadata": {},
     "output_type": "display_data"
    },
    {
     "data": {
      "application/vnd.plotly.v1+json": {
       "config": {
        "plotlyServerURL": "https://plot.ly"
       },
       "data": [
        {
         "error_y": {
          "array": [
           0.18487668487617004,
           0.2901939262693798,
           0.29304257334715533,
           0.3198206191699473,
           0.3752670692994844,
           0.32536305114868824
          ],
          "arrayminus": [
           0.13044440147670588,
           0.5872967388247172,
           0.5195921830543098,
           0.36265392921175366,
           0.3272488575266759,
           0.25805391551147583
          ]
         },
         "hovertemplate": "SC=1<br>MA=%{x}<br>SE_mean=%{y}<extra></extra>",
         "legendgroup": "1",
         "marker": {
          "color": "#636efa",
          "symbol": "circle"
         },
         "mode": "markers",
         "name": "1",
         "orientation": "v",
         "showlegend": true,
         "type": "scatter",
         "x": [
          1,
          2,
          3,
          4,
          5,
          6
         ],
         "xaxis": "x",
         "y": [
          7.428931061871828,
          5.758330857799378,
          5.038628135532378,
          4.623929412338335,
          4.323299707111823,
          4.036005985345436
         ],
         "yaxis": "y"
        },
        {
         "error_y": {
          "array": [
           0.18144395056185125,
           0.3879999728232164,
           0.4334986293087857,
           0.4421388782121305,
           0.4654108245379325,
           0.39743782663987126
          ],
          "arrayminus": [
           0.275092225172191,
           1.080262471663624,
           0.7680593702838321,
           0.4999089336529394,
           0.3609888896958129,
           0.254469061634091
          ]
         },
         "hovertemplate": "SC=3<br>MA=%{x}<br>SE_mean=%{y}<extra></extra>",
         "legendgroup": "3",
         "marker": {
          "color": "#EF553B",
          "symbol": "circle"
         },
         "mode": "markers",
         "name": "3",
         "orientation": "v",
         "showlegend": true,
         "type": "scatter",
         "x": [
          1,
          2,
          3,
          4,
          5,
          6
         ],
         "xaxis": "x",
         "y": [
          8.541304814193465,
          7.117011300925106,
          6.213605953193805,
          5.538021307386522,
          5.041589248375919,
          4.610806334072792
         ],
         "yaxis": "y"
        },
        {
         "error_y": {
          "array": [
           0.16639978495765106,
           0.6120752431669807,
           0.6697612451090231,
           0.6901589481067978,
           0.7181530681030557,
           0.6456743054276926
          ],
          "arrayminus": [
           0.33017832447420936,
           1.363307132063893,
           1.0503703419847579,
           0.7410986096625836,
           0.5646314909029906,
           0.38335396157029233
          ]
         },
         "hovertemplate": "SC=6<br>MA=%{x}<br>SE_mean=%{y}<extra></extra>",
         "legendgroup": "6",
         "marker": {
          "color": "#00cc96",
          "symbol": "circle"
         },
         "mode": "markers",
         "name": "6",
         "orientation": "v",
         "showlegend": true,
         "type": "scatter",
         "x": [
          1,
          2,
          3,
          4,
          5,
          6
         ],
         "xaxis": "x",
         "y": [
          9.715819790331844,
          8.349969281482698,
          7.4786496804855025,
          6.776909137139019,
          6.216710382051147,
          5.729606093595152
         ],
         "yaxis": "y"
        }
       ],
       "layout": {
        "height": 300,
        "legend": {
         "title": {
          "text": "SC"
         },
         "tracegroupgap": 0
        },
        "margin": {
         "b": 50,
         "l": 30,
         "r": 30,
         "t": 50
        },
        "showlegend": false,
        "template": {
         "data": {
          "bar": [
           {
            "error_x": {
             "color": "#f2f5fa"
            },
            "error_y": {
             "color": "#f2f5fa"
            },
            "marker": {
             "line": {
              "color": "rgb(17,17,17)",
              "width": 0.5
             },
             "pattern": {
              "fillmode": "overlay",
              "size": 10,
              "solidity": 0.2
             }
            },
            "type": "bar"
           }
          ],
          "barpolar": [
           {
            "marker": {
             "line": {
              "color": "rgb(17,17,17)",
              "width": 0.5
             },
             "pattern": {
              "fillmode": "overlay",
              "size": 10,
              "solidity": 0.2
             }
            },
            "type": "barpolar"
           }
          ],
          "carpet": [
           {
            "aaxis": {
             "endlinecolor": "#A2B1C6",
             "gridcolor": "#506784",
             "linecolor": "#506784",
             "minorgridcolor": "#506784",
             "startlinecolor": "#A2B1C6"
            },
            "baxis": {
             "endlinecolor": "#A2B1C6",
             "gridcolor": "#506784",
             "linecolor": "#506784",
             "minorgridcolor": "#506784",
             "startlinecolor": "#A2B1C6"
            },
            "type": "carpet"
           }
          ],
          "choropleth": [
           {
            "colorbar": {
             "outlinewidth": 0,
             "ticks": ""
            },
            "type": "choropleth"
           }
          ],
          "contour": [
           {
            "colorbar": {
             "outlinewidth": 0,
             "ticks": ""
            },
            "colorscale": [
             [
              0,
              "#0d0887"
             ],
             [
              0.1111111111111111,
              "#46039f"
             ],
             [
              0.2222222222222222,
              "#7201a8"
             ],
             [
              0.3333333333333333,
              "#9c179e"
             ],
             [
              0.4444444444444444,
              "#bd3786"
             ],
             [
              0.5555555555555556,
              "#d8576b"
             ],
             [
              0.6666666666666666,
              "#ed7953"
             ],
             [
              0.7777777777777778,
              "#fb9f3a"
             ],
             [
              0.8888888888888888,
              "#fdca26"
             ],
             [
              1,
              "#f0f921"
             ]
            ],
            "type": "contour"
           }
          ],
          "contourcarpet": [
           {
            "colorbar": {
             "outlinewidth": 0,
             "ticks": ""
            },
            "type": "contourcarpet"
           }
          ],
          "heatmap": [
           {
            "colorbar": {
             "outlinewidth": 0,
             "ticks": ""
            },
            "colorscale": [
             [
              0,
              "#0d0887"
             ],
             [
              0.1111111111111111,
              "#46039f"
             ],
             [
              0.2222222222222222,
              "#7201a8"
             ],
             [
              0.3333333333333333,
              "#9c179e"
             ],
             [
              0.4444444444444444,
              "#bd3786"
             ],
             [
              0.5555555555555556,
              "#d8576b"
             ],
             [
              0.6666666666666666,
              "#ed7953"
             ],
             [
              0.7777777777777778,
              "#fb9f3a"
             ],
             [
              0.8888888888888888,
              "#fdca26"
             ],
             [
              1,
              "#f0f921"
             ]
            ],
            "type": "heatmap"
           }
          ],
          "heatmapgl": [
           {
            "colorbar": {
             "outlinewidth": 0,
             "ticks": ""
            },
            "colorscale": [
             [
              0,
              "#0d0887"
             ],
             [
              0.1111111111111111,
              "#46039f"
             ],
             [
              0.2222222222222222,
              "#7201a8"
             ],
             [
              0.3333333333333333,
              "#9c179e"
             ],
             [
              0.4444444444444444,
              "#bd3786"
             ],
             [
              0.5555555555555556,
              "#d8576b"
             ],
             [
              0.6666666666666666,
              "#ed7953"
             ],
             [
              0.7777777777777778,
              "#fb9f3a"
             ],
             [
              0.8888888888888888,
              "#fdca26"
             ],
             [
              1,
              "#f0f921"
             ]
            ],
            "type": "heatmapgl"
           }
          ],
          "histogram": [
           {
            "marker": {
             "pattern": {
              "fillmode": "overlay",
              "size": 10,
              "solidity": 0.2
             }
            },
            "type": "histogram"
           }
          ],
          "histogram2d": [
           {
            "colorbar": {
             "outlinewidth": 0,
             "ticks": ""
            },
            "colorscale": [
             [
              0,
              "#0d0887"
             ],
             [
              0.1111111111111111,
              "#46039f"
             ],
             [
              0.2222222222222222,
              "#7201a8"
             ],
             [
              0.3333333333333333,
              "#9c179e"
             ],
             [
              0.4444444444444444,
              "#bd3786"
             ],
             [
              0.5555555555555556,
              "#d8576b"
             ],
             [
              0.6666666666666666,
              "#ed7953"
             ],
             [
              0.7777777777777778,
              "#fb9f3a"
             ],
             [
              0.8888888888888888,
              "#fdca26"
             ],
             [
              1,
              "#f0f921"
             ]
            ],
            "type": "histogram2d"
           }
          ],
          "histogram2dcontour": [
           {
            "colorbar": {
             "outlinewidth": 0,
             "ticks": ""
            },
            "colorscale": [
             [
              0,
              "#0d0887"
             ],
             [
              0.1111111111111111,
              "#46039f"
             ],
             [
              0.2222222222222222,
              "#7201a8"
             ],
             [
              0.3333333333333333,
              "#9c179e"
             ],
             [
              0.4444444444444444,
              "#bd3786"
             ],
             [
              0.5555555555555556,
              "#d8576b"
             ],
             [
              0.6666666666666666,
              "#ed7953"
             ],
             [
              0.7777777777777778,
              "#fb9f3a"
             ],
             [
              0.8888888888888888,
              "#fdca26"
             ],
             [
              1,
              "#f0f921"
             ]
            ],
            "type": "histogram2dcontour"
           }
          ],
          "mesh3d": [
           {
            "colorbar": {
             "outlinewidth": 0,
             "ticks": ""
            },
            "type": "mesh3d"
           }
          ],
          "parcoords": [
           {
            "line": {
             "colorbar": {
              "outlinewidth": 0,
              "ticks": ""
             }
            },
            "type": "parcoords"
           }
          ],
          "pie": [
           {
            "automargin": true,
            "type": "pie"
           }
          ],
          "scatter": [
           {
            "marker": {
             "line": {
              "color": "#283442"
             }
            },
            "type": "scatter"
           }
          ],
          "scatter3d": [
           {
            "line": {
             "colorbar": {
              "outlinewidth": 0,
              "ticks": ""
             }
            },
            "marker": {
             "colorbar": {
              "outlinewidth": 0,
              "ticks": ""
             }
            },
            "type": "scatter3d"
           }
          ],
          "scattercarpet": [
           {
            "marker": {
             "colorbar": {
              "outlinewidth": 0,
              "ticks": ""
             }
            },
            "type": "scattercarpet"
           }
          ],
          "scattergeo": [
           {
            "marker": {
             "colorbar": {
              "outlinewidth": 0,
              "ticks": ""
             }
            },
            "type": "scattergeo"
           }
          ],
          "scattergl": [
           {
            "marker": {
             "line": {
              "color": "#283442"
             }
            },
            "type": "scattergl"
           }
          ],
          "scattermapbox": [
           {
            "marker": {
             "colorbar": {
              "outlinewidth": 0,
              "ticks": ""
             }
            },
            "type": "scattermapbox"
           }
          ],
          "scatterpolar": [
           {
            "marker": {
             "colorbar": {
              "outlinewidth": 0,
              "ticks": ""
             }
            },
            "type": "scatterpolar"
           }
          ],
          "scatterpolargl": [
           {
            "marker": {
             "colorbar": {
              "outlinewidth": 0,
              "ticks": ""
             }
            },
            "type": "scatterpolargl"
           }
          ],
          "scatterternary": [
           {
            "marker": {
             "colorbar": {
              "outlinewidth": 0,
              "ticks": ""
             }
            },
            "type": "scatterternary"
           }
          ],
          "surface": [
           {
            "colorbar": {
             "outlinewidth": 0,
             "ticks": ""
            },
            "colorscale": [
             [
              0,
              "#0d0887"
             ],
             [
              0.1111111111111111,
              "#46039f"
             ],
             [
              0.2222222222222222,
              "#7201a8"
             ],
             [
              0.3333333333333333,
              "#9c179e"
             ],
             [
              0.4444444444444444,
              "#bd3786"
             ],
             [
              0.5555555555555556,
              "#d8576b"
             ],
             [
              0.6666666666666666,
              "#ed7953"
             ],
             [
              0.7777777777777778,
              "#fb9f3a"
             ],
             [
              0.8888888888888888,
              "#fdca26"
             ],
             [
              1,
              "#f0f921"
             ]
            ],
            "type": "surface"
           }
          ],
          "table": [
           {
            "cells": {
             "fill": {
              "color": "#506784"
             },
             "line": {
              "color": "rgb(17,17,17)"
             }
            },
            "header": {
             "fill": {
              "color": "#2a3f5f"
             },
             "line": {
              "color": "rgb(17,17,17)"
             }
            },
            "type": "table"
           }
          ]
         },
         "layout": {
          "annotationdefaults": {
           "arrowcolor": "#f2f5fa",
           "arrowhead": 0,
           "arrowwidth": 1
          },
          "autotypenumbers": "strict",
          "coloraxis": {
           "colorbar": {
            "outlinewidth": 0,
            "ticks": ""
           }
          },
          "colorscale": {
           "diverging": [
            [
             0,
             "#8e0152"
            ],
            [
             0.1,
             "#c51b7d"
            ],
            [
             0.2,
             "#de77ae"
            ],
            [
             0.3,
             "#f1b6da"
            ],
            [
             0.4,
             "#fde0ef"
            ],
            [
             0.5,
             "#f7f7f7"
            ],
            [
             0.6,
             "#e6f5d0"
            ],
            [
             0.7,
             "#b8e186"
            ],
            [
             0.8,
             "#7fbc41"
            ],
            [
             0.9,
             "#4d9221"
            ],
            [
             1,
             "#276419"
            ]
           ],
           "sequential": [
            [
             0,
             "#0d0887"
            ],
            [
             0.1111111111111111,
             "#46039f"
            ],
            [
             0.2222222222222222,
             "#7201a8"
            ],
            [
             0.3333333333333333,
             "#9c179e"
            ],
            [
             0.4444444444444444,
             "#bd3786"
            ],
            [
             0.5555555555555556,
             "#d8576b"
            ],
            [
             0.6666666666666666,
             "#ed7953"
            ],
            [
             0.7777777777777778,
             "#fb9f3a"
            ],
            [
             0.8888888888888888,
             "#fdca26"
            ],
            [
             1,
             "#f0f921"
            ]
           ],
           "sequentialminus": [
            [
             0,
             "#0d0887"
            ],
            [
             0.1111111111111111,
             "#46039f"
            ],
            [
             0.2222222222222222,
             "#7201a8"
            ],
            [
             0.3333333333333333,
             "#9c179e"
            ],
            [
             0.4444444444444444,
             "#bd3786"
            ],
            [
             0.5555555555555556,
             "#d8576b"
            ],
            [
             0.6666666666666666,
             "#ed7953"
            ],
            [
             0.7777777777777778,
             "#fb9f3a"
            ],
            [
             0.8888888888888888,
             "#fdca26"
            ],
            [
             1,
             "#f0f921"
            ]
           ]
          },
          "colorway": [
           "#636efa",
           "#EF553B",
           "#00cc96",
           "#ab63fa",
           "#FFA15A",
           "#19d3f3",
           "#FF6692",
           "#B6E880",
           "#FF97FF",
           "#FECB52"
          ],
          "font": {
           "color": "#f2f5fa"
          },
          "geo": {
           "bgcolor": "rgb(17,17,17)",
           "lakecolor": "rgb(17,17,17)",
           "landcolor": "rgb(17,17,17)",
           "showlakes": true,
           "showland": true,
           "subunitcolor": "#506784"
          },
          "hoverlabel": {
           "align": "left"
          },
          "hovermode": "closest",
          "mapbox": {
           "style": "dark"
          },
          "paper_bgcolor": "rgb(17,17,17)",
          "plot_bgcolor": "rgb(17,17,17)",
          "polar": {
           "angularaxis": {
            "gridcolor": "#506784",
            "linecolor": "#506784",
            "ticks": ""
           },
           "bgcolor": "rgb(17,17,17)",
           "radialaxis": {
            "gridcolor": "#506784",
            "linecolor": "#506784",
            "ticks": ""
           }
          },
          "scene": {
           "xaxis": {
            "backgroundcolor": "rgb(17,17,17)",
            "gridcolor": "#506784",
            "gridwidth": 2,
            "linecolor": "#506784",
            "showbackground": true,
            "ticks": "",
            "zerolinecolor": "#C8D4E3"
           },
           "yaxis": {
            "backgroundcolor": "rgb(17,17,17)",
            "gridcolor": "#506784",
            "gridwidth": 2,
            "linecolor": "#506784",
            "showbackground": true,
            "ticks": "",
            "zerolinecolor": "#C8D4E3"
           },
           "zaxis": {
            "backgroundcolor": "rgb(17,17,17)",
            "gridcolor": "#506784",
            "gridwidth": 2,
            "linecolor": "#506784",
            "showbackground": true,
            "ticks": "",
            "zerolinecolor": "#C8D4E3"
           }
          },
          "shapedefaults": {
           "line": {
            "color": "#f2f5fa"
           }
          },
          "sliderdefaults": {
           "bgcolor": "#C8D4E3",
           "bordercolor": "rgb(17,17,17)",
           "borderwidth": 1,
           "tickwidth": 0
          },
          "ternary": {
           "aaxis": {
            "gridcolor": "#506784",
            "linecolor": "#506784",
            "ticks": ""
           },
           "baxis": {
            "gridcolor": "#506784",
            "linecolor": "#506784",
            "ticks": ""
           },
           "bgcolor": "rgb(17,17,17)",
           "caxis": {
            "gridcolor": "#506784",
            "linecolor": "#506784",
            "ticks": ""
           }
          },
          "title": {
           "x": 0.05
          },
          "updatemenudefaults": {
           "bgcolor": "#506784",
           "borderwidth": 0
          },
          "xaxis": {
           "automargin": true,
           "gridcolor": "#283442",
           "linecolor": "#506784",
           "ticks": "",
           "title": {
            "standoff": 15
           },
           "zerolinecolor": "#283442",
           "zerolinewidth": 2
          },
          "yaxis": {
           "automargin": true,
           "gridcolor": "#283442",
           "linecolor": "#506784",
           "ticks": "",
           "title": {
            "standoff": 15
           },
           "zerolinecolor": "#283442",
           "zerolinewidth": 2
          }
         }
        },
        "title": {
         "text": "SE",
         "x": 0.5,
         "xanchor": "center"
        },
        "width": 400,
        "xaxis": {
         "anchor": "y",
         "domain": [
          0,
          1
         ],
         "title": {
          "font": {
           "color": "lightgrey"
          },
          "text": "Moving Averages"
         }
        },
        "yaxis": {
         "anchor": "x",
         "domain": [
          0,
          1
         ],
         "title": {
          "text": ""
         }
        }
       }
      }
     },
     "metadata": {},
     "output_type": "display_data"
    },
    {
     "data": {
      "application/vnd.plotly.v1+json": {
       "config": {
        "plotlyServerURL": "https://plot.ly"
       },
       "data": [
        {
         "error_y": {
          "array": [
           0.007870972510549357,
           0.025999947789647537,
           0.020984460602101684,
           0.01409136042457615,
           0.01233551926734433,
           0.009448311690515854
          ],
          "arrayminus": [
           0.010924559575529513,
           0.013493012635787283,
           0.012236522174337017,
           0.012904386505783294,
           0.0148944651391123,
           0.012493350446308615
          ]
         },
         "hovertemplate": "SC=1<br>MA=%{x}<br>R2_mean=%{y}<extra></extra>",
         "legendgroup": "1",
         "marker": {
          "color": "#636efa",
          "symbol": "circle"
         },
         "mode": "markers",
         "name": "1",
         "orientation": "v",
         "showlegend": true,
         "type": "scatter",
         "x": [
          1,
          2,
          3,
          4,
          5,
          6
         ],
         "xaxis": "x",
         "y": [
          0.7834989503732913,
          0.8644258283276628,
          0.8925933015262878,
          0.9066891099945086,
          0.91583126618595,
          0.9243129301580407
         ],
         "yaxis": "y"
        },
        {
         "error_y": {
          "array": [
           0.01887591224949159,
           0.058270645943913846,
           0.03813336264490097,
           0.023276830100559254,
           0.01599174087168731,
           0.010858921642215025
          ],
          "arrayminus": [
           0.013631241615473466,
           0.02155527213338937,
           0.022258064042666392,
           0.02128964393009558,
           0.02154149261546745,
           0.017494976048563426
          ]
         },
         "hovertemplate": "SC=3<br>MA=%{x}<br>R2_mean=%{y}<extra></extra>",
         "legendgroup": "3",
         "marker": {
          "color": "#EF553B",
          "symbol": "circle"
         },
         "mode": "markers",
         "name": "3",
         "orientation": "v",
         "showlegend": true,
         "type": "scatter",
         "x": [
          1,
          2,
          3,
          4,
          5,
          6
         ],
         "xaxis": "x",
         "y": [
          0.7137336427986795,
          0.7923949718103582,
          0.8363743977629229,
          0.8659871942110083,
          0.8854560388779649,
          0.9012169958805097
         ],
         "yaxis": "y"
        },
        {
         "error_y": {
          "array": [
           0.023128615464087843,
           0.08629714584260273,
           0.06283382837270046,
           0.04270477564045205,
           0.031208786234345753,
           0.020400184418288392
          ],
          "arrayminus": [
           0.012761295965965647,
           0.04045034655003987,
           0.04162579040142156,
           0.04099568864428482,
           0.041177050517841374,
           0.03559588766526334
          ]
         },
         "hovertemplate": "SC=6<br>MA=%{x}<br>R2_mean=%{y}<extra></extra>",
         "legendgroup": "6",
         "marker": {
          "color": "#00cc96",
          "symbol": "circle"
         },
         "mode": "markers",
         "name": "6",
         "orientation": "v",
         "showlegend": true,
         "type": "scatter",
         "x": [
          1,
          2,
          3,
          4,
          5,
          6
         ],
         "xaxis": "x",
         "y": [
          0.6296598209037082,
          0.7136737996160432,
          0.76229291566656,
          0.7986840919426877,
          0.8253741043769066,
          0.8471767230256867
         ],
         "yaxis": "y"
        }
       ],
       "layout": {
        "height": 300,
        "legend": {
         "title": {
          "text": "SC"
         },
         "tracegroupgap": 0
        },
        "margin": {
         "b": 50,
         "l": 30,
         "r": 30,
         "t": 50
        },
        "showlegend": false,
        "template": {
         "data": {
          "bar": [
           {
            "error_x": {
             "color": "#f2f5fa"
            },
            "error_y": {
             "color": "#f2f5fa"
            },
            "marker": {
             "line": {
              "color": "rgb(17,17,17)",
              "width": 0.5
             },
             "pattern": {
              "fillmode": "overlay",
              "size": 10,
              "solidity": 0.2
             }
            },
            "type": "bar"
           }
          ],
          "barpolar": [
           {
            "marker": {
             "line": {
              "color": "rgb(17,17,17)",
              "width": 0.5
             },
             "pattern": {
              "fillmode": "overlay",
              "size": 10,
              "solidity": 0.2
             }
            },
            "type": "barpolar"
           }
          ],
          "carpet": [
           {
            "aaxis": {
             "endlinecolor": "#A2B1C6",
             "gridcolor": "#506784",
             "linecolor": "#506784",
             "minorgridcolor": "#506784",
             "startlinecolor": "#A2B1C6"
            },
            "baxis": {
             "endlinecolor": "#A2B1C6",
             "gridcolor": "#506784",
             "linecolor": "#506784",
             "minorgridcolor": "#506784",
             "startlinecolor": "#A2B1C6"
            },
            "type": "carpet"
           }
          ],
          "choropleth": [
           {
            "colorbar": {
             "outlinewidth": 0,
             "ticks": ""
            },
            "type": "choropleth"
           }
          ],
          "contour": [
           {
            "colorbar": {
             "outlinewidth": 0,
             "ticks": ""
            },
            "colorscale": [
             [
              0,
              "#0d0887"
             ],
             [
              0.1111111111111111,
              "#46039f"
             ],
             [
              0.2222222222222222,
              "#7201a8"
             ],
             [
              0.3333333333333333,
              "#9c179e"
             ],
             [
              0.4444444444444444,
              "#bd3786"
             ],
             [
              0.5555555555555556,
              "#d8576b"
             ],
             [
              0.6666666666666666,
              "#ed7953"
             ],
             [
              0.7777777777777778,
              "#fb9f3a"
             ],
             [
              0.8888888888888888,
              "#fdca26"
             ],
             [
              1,
              "#f0f921"
             ]
            ],
            "type": "contour"
           }
          ],
          "contourcarpet": [
           {
            "colorbar": {
             "outlinewidth": 0,
             "ticks": ""
            },
            "type": "contourcarpet"
           }
          ],
          "heatmap": [
           {
            "colorbar": {
             "outlinewidth": 0,
             "ticks": ""
            },
            "colorscale": [
             [
              0,
              "#0d0887"
             ],
             [
              0.1111111111111111,
              "#46039f"
             ],
             [
              0.2222222222222222,
              "#7201a8"
             ],
             [
              0.3333333333333333,
              "#9c179e"
             ],
             [
              0.4444444444444444,
              "#bd3786"
             ],
             [
              0.5555555555555556,
              "#d8576b"
             ],
             [
              0.6666666666666666,
              "#ed7953"
             ],
             [
              0.7777777777777778,
              "#fb9f3a"
             ],
             [
              0.8888888888888888,
              "#fdca26"
             ],
             [
              1,
              "#f0f921"
             ]
            ],
            "type": "heatmap"
           }
          ],
          "heatmapgl": [
           {
            "colorbar": {
             "outlinewidth": 0,
             "ticks": ""
            },
            "colorscale": [
             [
              0,
              "#0d0887"
             ],
             [
              0.1111111111111111,
              "#46039f"
             ],
             [
              0.2222222222222222,
              "#7201a8"
             ],
             [
              0.3333333333333333,
              "#9c179e"
             ],
             [
              0.4444444444444444,
              "#bd3786"
             ],
             [
              0.5555555555555556,
              "#d8576b"
             ],
             [
              0.6666666666666666,
              "#ed7953"
             ],
             [
              0.7777777777777778,
              "#fb9f3a"
             ],
             [
              0.8888888888888888,
              "#fdca26"
             ],
             [
              1,
              "#f0f921"
             ]
            ],
            "type": "heatmapgl"
           }
          ],
          "histogram": [
           {
            "marker": {
             "pattern": {
              "fillmode": "overlay",
              "size": 10,
              "solidity": 0.2
             }
            },
            "type": "histogram"
           }
          ],
          "histogram2d": [
           {
            "colorbar": {
             "outlinewidth": 0,
             "ticks": ""
            },
            "colorscale": [
             [
              0,
              "#0d0887"
             ],
             [
              0.1111111111111111,
              "#46039f"
             ],
             [
              0.2222222222222222,
              "#7201a8"
             ],
             [
              0.3333333333333333,
              "#9c179e"
             ],
             [
              0.4444444444444444,
              "#bd3786"
             ],
             [
              0.5555555555555556,
              "#d8576b"
             ],
             [
              0.6666666666666666,
              "#ed7953"
             ],
             [
              0.7777777777777778,
              "#fb9f3a"
             ],
             [
              0.8888888888888888,
              "#fdca26"
             ],
             [
              1,
              "#f0f921"
             ]
            ],
            "type": "histogram2d"
           }
          ],
          "histogram2dcontour": [
           {
            "colorbar": {
             "outlinewidth": 0,
             "ticks": ""
            },
            "colorscale": [
             [
              0,
              "#0d0887"
             ],
             [
              0.1111111111111111,
              "#46039f"
             ],
             [
              0.2222222222222222,
              "#7201a8"
             ],
             [
              0.3333333333333333,
              "#9c179e"
             ],
             [
              0.4444444444444444,
              "#bd3786"
             ],
             [
              0.5555555555555556,
              "#d8576b"
             ],
             [
              0.6666666666666666,
              "#ed7953"
             ],
             [
              0.7777777777777778,
              "#fb9f3a"
             ],
             [
              0.8888888888888888,
              "#fdca26"
             ],
             [
              1,
              "#f0f921"
             ]
            ],
            "type": "histogram2dcontour"
           }
          ],
          "mesh3d": [
           {
            "colorbar": {
             "outlinewidth": 0,
             "ticks": ""
            },
            "type": "mesh3d"
           }
          ],
          "parcoords": [
           {
            "line": {
             "colorbar": {
              "outlinewidth": 0,
              "ticks": ""
             }
            },
            "type": "parcoords"
           }
          ],
          "pie": [
           {
            "automargin": true,
            "type": "pie"
           }
          ],
          "scatter": [
           {
            "marker": {
             "line": {
              "color": "#283442"
             }
            },
            "type": "scatter"
           }
          ],
          "scatter3d": [
           {
            "line": {
             "colorbar": {
              "outlinewidth": 0,
              "ticks": ""
             }
            },
            "marker": {
             "colorbar": {
              "outlinewidth": 0,
              "ticks": ""
             }
            },
            "type": "scatter3d"
           }
          ],
          "scattercarpet": [
           {
            "marker": {
             "colorbar": {
              "outlinewidth": 0,
              "ticks": ""
             }
            },
            "type": "scattercarpet"
           }
          ],
          "scattergeo": [
           {
            "marker": {
             "colorbar": {
              "outlinewidth": 0,
              "ticks": ""
             }
            },
            "type": "scattergeo"
           }
          ],
          "scattergl": [
           {
            "marker": {
             "line": {
              "color": "#283442"
             }
            },
            "type": "scattergl"
           }
          ],
          "scattermapbox": [
           {
            "marker": {
             "colorbar": {
              "outlinewidth": 0,
              "ticks": ""
             }
            },
            "type": "scattermapbox"
           }
          ],
          "scatterpolar": [
           {
            "marker": {
             "colorbar": {
              "outlinewidth": 0,
              "ticks": ""
             }
            },
            "type": "scatterpolar"
           }
          ],
          "scatterpolargl": [
           {
            "marker": {
             "colorbar": {
              "outlinewidth": 0,
              "ticks": ""
             }
            },
            "type": "scatterpolargl"
           }
          ],
          "scatterternary": [
           {
            "marker": {
             "colorbar": {
              "outlinewidth": 0,
              "ticks": ""
             }
            },
            "type": "scatterternary"
           }
          ],
          "surface": [
           {
            "colorbar": {
             "outlinewidth": 0,
             "ticks": ""
            },
            "colorscale": [
             [
              0,
              "#0d0887"
             ],
             [
              0.1111111111111111,
              "#46039f"
             ],
             [
              0.2222222222222222,
              "#7201a8"
             ],
             [
              0.3333333333333333,
              "#9c179e"
             ],
             [
              0.4444444444444444,
              "#bd3786"
             ],
             [
              0.5555555555555556,
              "#d8576b"
             ],
             [
              0.6666666666666666,
              "#ed7953"
             ],
             [
              0.7777777777777778,
              "#fb9f3a"
             ],
             [
              0.8888888888888888,
              "#fdca26"
             ],
             [
              1,
              "#f0f921"
             ]
            ],
            "type": "surface"
           }
          ],
          "table": [
           {
            "cells": {
             "fill": {
              "color": "#506784"
             },
             "line": {
              "color": "rgb(17,17,17)"
             }
            },
            "header": {
             "fill": {
              "color": "#2a3f5f"
             },
             "line": {
              "color": "rgb(17,17,17)"
             }
            },
            "type": "table"
           }
          ]
         },
         "layout": {
          "annotationdefaults": {
           "arrowcolor": "#f2f5fa",
           "arrowhead": 0,
           "arrowwidth": 1
          },
          "autotypenumbers": "strict",
          "coloraxis": {
           "colorbar": {
            "outlinewidth": 0,
            "ticks": ""
           }
          },
          "colorscale": {
           "diverging": [
            [
             0,
             "#8e0152"
            ],
            [
             0.1,
             "#c51b7d"
            ],
            [
             0.2,
             "#de77ae"
            ],
            [
             0.3,
             "#f1b6da"
            ],
            [
             0.4,
             "#fde0ef"
            ],
            [
             0.5,
             "#f7f7f7"
            ],
            [
             0.6,
             "#e6f5d0"
            ],
            [
             0.7,
             "#b8e186"
            ],
            [
             0.8,
             "#7fbc41"
            ],
            [
             0.9,
             "#4d9221"
            ],
            [
             1,
             "#276419"
            ]
           ],
           "sequential": [
            [
             0,
             "#0d0887"
            ],
            [
             0.1111111111111111,
             "#46039f"
            ],
            [
             0.2222222222222222,
             "#7201a8"
            ],
            [
             0.3333333333333333,
             "#9c179e"
            ],
            [
             0.4444444444444444,
             "#bd3786"
            ],
            [
             0.5555555555555556,
             "#d8576b"
            ],
            [
             0.6666666666666666,
             "#ed7953"
            ],
            [
             0.7777777777777778,
             "#fb9f3a"
            ],
            [
             0.8888888888888888,
             "#fdca26"
            ],
            [
             1,
             "#f0f921"
            ]
           ],
           "sequentialminus": [
            [
             0,
             "#0d0887"
            ],
            [
             0.1111111111111111,
             "#46039f"
            ],
            [
             0.2222222222222222,
             "#7201a8"
            ],
            [
             0.3333333333333333,
             "#9c179e"
            ],
            [
             0.4444444444444444,
             "#bd3786"
            ],
            [
             0.5555555555555556,
             "#d8576b"
            ],
            [
             0.6666666666666666,
             "#ed7953"
            ],
            [
             0.7777777777777778,
             "#fb9f3a"
            ],
            [
             0.8888888888888888,
             "#fdca26"
            ],
            [
             1,
             "#f0f921"
            ]
           ]
          },
          "colorway": [
           "#636efa",
           "#EF553B",
           "#00cc96",
           "#ab63fa",
           "#FFA15A",
           "#19d3f3",
           "#FF6692",
           "#B6E880",
           "#FF97FF",
           "#FECB52"
          ],
          "font": {
           "color": "#f2f5fa"
          },
          "geo": {
           "bgcolor": "rgb(17,17,17)",
           "lakecolor": "rgb(17,17,17)",
           "landcolor": "rgb(17,17,17)",
           "showlakes": true,
           "showland": true,
           "subunitcolor": "#506784"
          },
          "hoverlabel": {
           "align": "left"
          },
          "hovermode": "closest",
          "mapbox": {
           "style": "dark"
          },
          "paper_bgcolor": "rgb(17,17,17)",
          "plot_bgcolor": "rgb(17,17,17)",
          "polar": {
           "angularaxis": {
            "gridcolor": "#506784",
            "linecolor": "#506784",
            "ticks": ""
           },
           "bgcolor": "rgb(17,17,17)",
           "radialaxis": {
            "gridcolor": "#506784",
            "linecolor": "#506784",
            "ticks": ""
           }
          },
          "scene": {
           "xaxis": {
            "backgroundcolor": "rgb(17,17,17)",
            "gridcolor": "#506784",
            "gridwidth": 2,
            "linecolor": "#506784",
            "showbackground": true,
            "ticks": "",
            "zerolinecolor": "#C8D4E3"
           },
           "yaxis": {
            "backgroundcolor": "rgb(17,17,17)",
            "gridcolor": "#506784",
            "gridwidth": 2,
            "linecolor": "#506784",
            "showbackground": true,
            "ticks": "",
            "zerolinecolor": "#C8D4E3"
           },
           "zaxis": {
            "backgroundcolor": "rgb(17,17,17)",
            "gridcolor": "#506784",
            "gridwidth": 2,
            "linecolor": "#506784",
            "showbackground": true,
            "ticks": "",
            "zerolinecolor": "#C8D4E3"
           }
          },
          "shapedefaults": {
           "line": {
            "color": "#f2f5fa"
           }
          },
          "sliderdefaults": {
           "bgcolor": "#C8D4E3",
           "bordercolor": "rgb(17,17,17)",
           "borderwidth": 1,
           "tickwidth": 0
          },
          "ternary": {
           "aaxis": {
            "gridcolor": "#506784",
            "linecolor": "#506784",
            "ticks": ""
           },
           "baxis": {
            "gridcolor": "#506784",
            "linecolor": "#506784",
            "ticks": ""
           },
           "bgcolor": "rgb(17,17,17)",
           "caxis": {
            "gridcolor": "#506784",
            "linecolor": "#506784",
            "ticks": ""
           }
          },
          "title": {
           "x": 0.05
          },
          "updatemenudefaults": {
           "bgcolor": "#506784",
           "borderwidth": 0
          },
          "xaxis": {
           "automargin": true,
           "gridcolor": "#283442",
           "linecolor": "#506784",
           "ticks": "",
           "title": {
            "standoff": 15
           },
           "zerolinecolor": "#283442",
           "zerolinewidth": 2
          },
          "yaxis": {
           "automargin": true,
           "gridcolor": "#283442",
           "linecolor": "#506784",
           "ticks": "",
           "title": {
            "standoff": 15
           },
           "zerolinecolor": "#283442",
           "zerolinewidth": 2
          }
         }
        },
        "title": {
         "text": "R2",
         "x": 0.5,
         "xanchor": "center"
        },
        "width": 400,
        "xaxis": {
         "anchor": "y",
         "domain": [
          0,
          1
         ],
         "title": {
          "font": {
           "color": "lightgrey"
          },
          "text": "Moving Averages"
         }
        },
        "yaxis": {
         "anchor": "x",
         "domain": [
          0,
          1
         ],
         "title": {
          "text": ""
         }
        }
       }
      }
     },
     "metadata": {},
     "output_type": "display_data"
    },
    {
     "data": {
      "application/vnd.plotly.v1+json": {
       "config": {
        "plotlyServerURL": "https://plot.ly"
       },
       "data": [
        {
         "error_y": {
          "array": [
           0.007964249826445613,
           0.02632936607037073,
           0.02125106124035636,
           0.014272606991431513,
           0.012494802300160646,
           0.00957150975787524
          ],
          "arrayminus": [
           0.011055337743383298,
           0.013661108592695093,
           0.012388956210943824,
           0.013071909975094553,
           0.015086642283991925,
           0.012655383566262612
          ]
         },
         "hovertemplate": "SC=1<br>MA=%{x}<br>Adj-R2_mean=%{y}<extra></extra>",
         "legendgroup": "1",
         "marker": {
          "color": "#636efa",
          "symbol": "circle"
         },
         "mode": "markers",
         "name": "1",
         "orientation": "v",
         "showlegend": true,
         "type": "scatter",
         "x": [
          1,
          2,
          3,
          4,
          5,
          6
         ],
         "xaxis": "x",
         "y": [
          0.780842649997,
          0.8627535886758282,
          0.8912650026340824,
          0.9055322534574449,
          0.9147851533439147,
          0.9233699454798961
         ],
         "yaxis": "y"
        },
        {
         "error_y": {
          "array": [
           0.019094948693764158,
           0.05900159613716871,
           0.038615452610797796,
           0.02357468124576001,
           0.016198741992379695,
           0.010998748651981805
          ],
          "arrayminus": [
           0.013776507186380682,
           0.02183038605706944,
           0.02254628627070765,
           0.021559671750877696,
           0.021818865589328884,
           0.01772139707511855
          ]
         },
         "hovertemplate": "SC=3<br>MA=%{x}<br>Adj-R2_mean=%{y}<extra></extra>",
         "legendgroup": "3",
         "marker": {
          "color": "#EF553B",
          "symbol": "circle"
         },
         "mode": "markers",
         "name": "3",
         "orientation": "v",
         "showlegend": true,
         "type": "scatter",
         "x": [
          1,
          2,
          3,
          4,
          5,
          6
         ],
         "xaxis": "x",
         "y": [
          0.7102216205791377,
          0.7898339434033078,
          0.8343506340919622,
          0.8643255995228468,
          0.8840323436801079,
          0.8999862993610993
         ],
         "yaxis": "y"
        },
        {
         "error_y": {
          "array": [
           0.023438531905913274,
           0.0873784827779216,
           0.06362595437878382,
           0.04324306965489322,
           0.03160455472545698,
           0.02066136224140347
          ],
          "arrayminus": [
           0.012911963180691655,
           0.040961937356736144,
           0.042159633784292216,
           0.04152057410599841,
           0.04170385462838355,
           0.03605288584729449
          ]
         },
         "hovertemplate": "SC=6<br>MA=%{x}<br>Adj-R2_mean=%{y}<extra></extra>",
         "legendgroup": "6",
         "marker": {
          "color": "#00cc96",
          "symbol": "circle"
         },
         "mode": "markers",
         "name": "6",
         "orientation": "v",
         "showlegend": true,
         "type": "scatter",
         "x": [
          1,
          2,
          3,
          4,
          5,
          6
         ],
         "xaxis": "x",
         "y": [
          0.6251156171005144,
          0.7101411262280117,
          0.7593524695626788,
          0.7961876357996434,
          0.8232033716606871,
          0.845272578793688
         ],
         "yaxis": "y"
        }
       ],
       "layout": {
        "height": 300,
        "legend": {
         "title": {
          "text": "SC"
         },
         "tracegroupgap": 0
        },
        "margin": {
         "b": 50,
         "l": 30,
         "r": 30,
         "t": 50
        },
        "showlegend": false,
        "template": {
         "data": {
          "bar": [
           {
            "error_x": {
             "color": "#f2f5fa"
            },
            "error_y": {
             "color": "#f2f5fa"
            },
            "marker": {
             "line": {
              "color": "rgb(17,17,17)",
              "width": 0.5
             },
             "pattern": {
              "fillmode": "overlay",
              "size": 10,
              "solidity": 0.2
             }
            },
            "type": "bar"
           }
          ],
          "barpolar": [
           {
            "marker": {
             "line": {
              "color": "rgb(17,17,17)",
              "width": 0.5
             },
             "pattern": {
              "fillmode": "overlay",
              "size": 10,
              "solidity": 0.2
             }
            },
            "type": "barpolar"
           }
          ],
          "carpet": [
           {
            "aaxis": {
             "endlinecolor": "#A2B1C6",
             "gridcolor": "#506784",
             "linecolor": "#506784",
             "minorgridcolor": "#506784",
             "startlinecolor": "#A2B1C6"
            },
            "baxis": {
             "endlinecolor": "#A2B1C6",
             "gridcolor": "#506784",
             "linecolor": "#506784",
             "minorgridcolor": "#506784",
             "startlinecolor": "#A2B1C6"
            },
            "type": "carpet"
           }
          ],
          "choropleth": [
           {
            "colorbar": {
             "outlinewidth": 0,
             "ticks": ""
            },
            "type": "choropleth"
           }
          ],
          "contour": [
           {
            "colorbar": {
             "outlinewidth": 0,
             "ticks": ""
            },
            "colorscale": [
             [
              0,
              "#0d0887"
             ],
             [
              0.1111111111111111,
              "#46039f"
             ],
             [
              0.2222222222222222,
              "#7201a8"
             ],
             [
              0.3333333333333333,
              "#9c179e"
             ],
             [
              0.4444444444444444,
              "#bd3786"
             ],
             [
              0.5555555555555556,
              "#d8576b"
             ],
             [
              0.6666666666666666,
              "#ed7953"
             ],
             [
              0.7777777777777778,
              "#fb9f3a"
             ],
             [
              0.8888888888888888,
              "#fdca26"
             ],
             [
              1,
              "#f0f921"
             ]
            ],
            "type": "contour"
           }
          ],
          "contourcarpet": [
           {
            "colorbar": {
             "outlinewidth": 0,
             "ticks": ""
            },
            "type": "contourcarpet"
           }
          ],
          "heatmap": [
           {
            "colorbar": {
             "outlinewidth": 0,
             "ticks": ""
            },
            "colorscale": [
             [
              0,
              "#0d0887"
             ],
             [
              0.1111111111111111,
              "#46039f"
             ],
             [
              0.2222222222222222,
              "#7201a8"
             ],
             [
              0.3333333333333333,
              "#9c179e"
             ],
             [
              0.4444444444444444,
              "#bd3786"
             ],
             [
              0.5555555555555556,
              "#d8576b"
             ],
             [
              0.6666666666666666,
              "#ed7953"
             ],
             [
              0.7777777777777778,
              "#fb9f3a"
             ],
             [
              0.8888888888888888,
              "#fdca26"
             ],
             [
              1,
              "#f0f921"
             ]
            ],
            "type": "heatmap"
           }
          ],
          "heatmapgl": [
           {
            "colorbar": {
             "outlinewidth": 0,
             "ticks": ""
            },
            "colorscale": [
             [
              0,
              "#0d0887"
             ],
             [
              0.1111111111111111,
              "#46039f"
             ],
             [
              0.2222222222222222,
              "#7201a8"
             ],
             [
              0.3333333333333333,
              "#9c179e"
             ],
             [
              0.4444444444444444,
              "#bd3786"
             ],
             [
              0.5555555555555556,
              "#d8576b"
             ],
             [
              0.6666666666666666,
              "#ed7953"
             ],
             [
              0.7777777777777778,
              "#fb9f3a"
             ],
             [
              0.8888888888888888,
              "#fdca26"
             ],
             [
              1,
              "#f0f921"
             ]
            ],
            "type": "heatmapgl"
           }
          ],
          "histogram": [
           {
            "marker": {
             "pattern": {
              "fillmode": "overlay",
              "size": 10,
              "solidity": 0.2
             }
            },
            "type": "histogram"
           }
          ],
          "histogram2d": [
           {
            "colorbar": {
             "outlinewidth": 0,
             "ticks": ""
            },
            "colorscale": [
             [
              0,
              "#0d0887"
             ],
             [
              0.1111111111111111,
              "#46039f"
             ],
             [
              0.2222222222222222,
              "#7201a8"
             ],
             [
              0.3333333333333333,
              "#9c179e"
             ],
             [
              0.4444444444444444,
              "#bd3786"
             ],
             [
              0.5555555555555556,
              "#d8576b"
             ],
             [
              0.6666666666666666,
              "#ed7953"
             ],
             [
              0.7777777777777778,
              "#fb9f3a"
             ],
             [
              0.8888888888888888,
              "#fdca26"
             ],
             [
              1,
              "#f0f921"
             ]
            ],
            "type": "histogram2d"
           }
          ],
          "histogram2dcontour": [
           {
            "colorbar": {
             "outlinewidth": 0,
             "ticks": ""
            },
            "colorscale": [
             [
              0,
              "#0d0887"
             ],
             [
              0.1111111111111111,
              "#46039f"
             ],
             [
              0.2222222222222222,
              "#7201a8"
             ],
             [
              0.3333333333333333,
              "#9c179e"
             ],
             [
              0.4444444444444444,
              "#bd3786"
             ],
             [
              0.5555555555555556,
              "#d8576b"
             ],
             [
              0.6666666666666666,
              "#ed7953"
             ],
             [
              0.7777777777777778,
              "#fb9f3a"
             ],
             [
              0.8888888888888888,
              "#fdca26"
             ],
             [
              1,
              "#f0f921"
             ]
            ],
            "type": "histogram2dcontour"
           }
          ],
          "mesh3d": [
           {
            "colorbar": {
             "outlinewidth": 0,
             "ticks": ""
            },
            "type": "mesh3d"
           }
          ],
          "parcoords": [
           {
            "line": {
             "colorbar": {
              "outlinewidth": 0,
              "ticks": ""
             }
            },
            "type": "parcoords"
           }
          ],
          "pie": [
           {
            "automargin": true,
            "type": "pie"
           }
          ],
          "scatter": [
           {
            "marker": {
             "line": {
              "color": "#283442"
             }
            },
            "type": "scatter"
           }
          ],
          "scatter3d": [
           {
            "line": {
             "colorbar": {
              "outlinewidth": 0,
              "ticks": ""
             }
            },
            "marker": {
             "colorbar": {
              "outlinewidth": 0,
              "ticks": ""
             }
            },
            "type": "scatter3d"
           }
          ],
          "scattercarpet": [
           {
            "marker": {
             "colorbar": {
              "outlinewidth": 0,
              "ticks": ""
             }
            },
            "type": "scattercarpet"
           }
          ],
          "scattergeo": [
           {
            "marker": {
             "colorbar": {
              "outlinewidth": 0,
              "ticks": ""
             }
            },
            "type": "scattergeo"
           }
          ],
          "scattergl": [
           {
            "marker": {
             "line": {
              "color": "#283442"
             }
            },
            "type": "scattergl"
           }
          ],
          "scattermapbox": [
           {
            "marker": {
             "colorbar": {
              "outlinewidth": 0,
              "ticks": ""
             }
            },
            "type": "scattermapbox"
           }
          ],
          "scatterpolar": [
           {
            "marker": {
             "colorbar": {
              "outlinewidth": 0,
              "ticks": ""
             }
            },
            "type": "scatterpolar"
           }
          ],
          "scatterpolargl": [
           {
            "marker": {
             "colorbar": {
              "outlinewidth": 0,
              "ticks": ""
             }
            },
            "type": "scatterpolargl"
           }
          ],
          "scatterternary": [
           {
            "marker": {
             "colorbar": {
              "outlinewidth": 0,
              "ticks": ""
             }
            },
            "type": "scatterternary"
           }
          ],
          "surface": [
           {
            "colorbar": {
             "outlinewidth": 0,
             "ticks": ""
            },
            "colorscale": [
             [
              0,
              "#0d0887"
             ],
             [
              0.1111111111111111,
              "#46039f"
             ],
             [
              0.2222222222222222,
              "#7201a8"
             ],
             [
              0.3333333333333333,
              "#9c179e"
             ],
             [
              0.4444444444444444,
              "#bd3786"
             ],
             [
              0.5555555555555556,
              "#d8576b"
             ],
             [
              0.6666666666666666,
              "#ed7953"
             ],
             [
              0.7777777777777778,
              "#fb9f3a"
             ],
             [
              0.8888888888888888,
              "#fdca26"
             ],
             [
              1,
              "#f0f921"
             ]
            ],
            "type": "surface"
           }
          ],
          "table": [
           {
            "cells": {
             "fill": {
              "color": "#506784"
             },
             "line": {
              "color": "rgb(17,17,17)"
             }
            },
            "header": {
             "fill": {
              "color": "#2a3f5f"
             },
             "line": {
              "color": "rgb(17,17,17)"
             }
            },
            "type": "table"
           }
          ]
         },
         "layout": {
          "annotationdefaults": {
           "arrowcolor": "#f2f5fa",
           "arrowhead": 0,
           "arrowwidth": 1
          },
          "autotypenumbers": "strict",
          "coloraxis": {
           "colorbar": {
            "outlinewidth": 0,
            "ticks": ""
           }
          },
          "colorscale": {
           "diverging": [
            [
             0,
             "#8e0152"
            ],
            [
             0.1,
             "#c51b7d"
            ],
            [
             0.2,
             "#de77ae"
            ],
            [
             0.3,
             "#f1b6da"
            ],
            [
             0.4,
             "#fde0ef"
            ],
            [
             0.5,
             "#f7f7f7"
            ],
            [
             0.6,
             "#e6f5d0"
            ],
            [
             0.7,
             "#b8e186"
            ],
            [
             0.8,
             "#7fbc41"
            ],
            [
             0.9,
             "#4d9221"
            ],
            [
             1,
             "#276419"
            ]
           ],
           "sequential": [
            [
             0,
             "#0d0887"
            ],
            [
             0.1111111111111111,
             "#46039f"
            ],
            [
             0.2222222222222222,
             "#7201a8"
            ],
            [
             0.3333333333333333,
             "#9c179e"
            ],
            [
             0.4444444444444444,
             "#bd3786"
            ],
            [
             0.5555555555555556,
             "#d8576b"
            ],
            [
             0.6666666666666666,
             "#ed7953"
            ],
            [
             0.7777777777777778,
             "#fb9f3a"
            ],
            [
             0.8888888888888888,
             "#fdca26"
            ],
            [
             1,
             "#f0f921"
            ]
           ],
           "sequentialminus": [
            [
             0,
             "#0d0887"
            ],
            [
             0.1111111111111111,
             "#46039f"
            ],
            [
             0.2222222222222222,
             "#7201a8"
            ],
            [
             0.3333333333333333,
             "#9c179e"
            ],
            [
             0.4444444444444444,
             "#bd3786"
            ],
            [
             0.5555555555555556,
             "#d8576b"
            ],
            [
             0.6666666666666666,
             "#ed7953"
            ],
            [
             0.7777777777777778,
             "#fb9f3a"
            ],
            [
             0.8888888888888888,
             "#fdca26"
            ],
            [
             1,
             "#f0f921"
            ]
           ]
          },
          "colorway": [
           "#636efa",
           "#EF553B",
           "#00cc96",
           "#ab63fa",
           "#FFA15A",
           "#19d3f3",
           "#FF6692",
           "#B6E880",
           "#FF97FF",
           "#FECB52"
          ],
          "font": {
           "color": "#f2f5fa"
          },
          "geo": {
           "bgcolor": "rgb(17,17,17)",
           "lakecolor": "rgb(17,17,17)",
           "landcolor": "rgb(17,17,17)",
           "showlakes": true,
           "showland": true,
           "subunitcolor": "#506784"
          },
          "hoverlabel": {
           "align": "left"
          },
          "hovermode": "closest",
          "mapbox": {
           "style": "dark"
          },
          "paper_bgcolor": "rgb(17,17,17)",
          "plot_bgcolor": "rgb(17,17,17)",
          "polar": {
           "angularaxis": {
            "gridcolor": "#506784",
            "linecolor": "#506784",
            "ticks": ""
           },
           "bgcolor": "rgb(17,17,17)",
           "radialaxis": {
            "gridcolor": "#506784",
            "linecolor": "#506784",
            "ticks": ""
           }
          },
          "scene": {
           "xaxis": {
            "backgroundcolor": "rgb(17,17,17)",
            "gridcolor": "#506784",
            "gridwidth": 2,
            "linecolor": "#506784",
            "showbackground": true,
            "ticks": "",
            "zerolinecolor": "#C8D4E3"
           },
           "yaxis": {
            "backgroundcolor": "rgb(17,17,17)",
            "gridcolor": "#506784",
            "gridwidth": 2,
            "linecolor": "#506784",
            "showbackground": true,
            "ticks": "",
            "zerolinecolor": "#C8D4E3"
           },
           "zaxis": {
            "backgroundcolor": "rgb(17,17,17)",
            "gridcolor": "#506784",
            "gridwidth": 2,
            "linecolor": "#506784",
            "showbackground": true,
            "ticks": "",
            "zerolinecolor": "#C8D4E3"
           }
          },
          "shapedefaults": {
           "line": {
            "color": "#f2f5fa"
           }
          },
          "sliderdefaults": {
           "bgcolor": "#C8D4E3",
           "bordercolor": "rgb(17,17,17)",
           "borderwidth": 1,
           "tickwidth": 0
          },
          "ternary": {
           "aaxis": {
            "gridcolor": "#506784",
            "linecolor": "#506784",
            "ticks": ""
           },
           "baxis": {
            "gridcolor": "#506784",
            "linecolor": "#506784",
            "ticks": ""
           },
           "bgcolor": "rgb(17,17,17)",
           "caxis": {
            "gridcolor": "#506784",
            "linecolor": "#506784",
            "ticks": ""
           }
          },
          "title": {
           "x": 0.05
          },
          "updatemenudefaults": {
           "bgcolor": "#506784",
           "borderwidth": 0
          },
          "xaxis": {
           "automargin": true,
           "gridcolor": "#283442",
           "linecolor": "#506784",
           "ticks": "",
           "title": {
            "standoff": 15
           },
           "zerolinecolor": "#283442",
           "zerolinewidth": 2
          },
          "yaxis": {
           "automargin": true,
           "gridcolor": "#283442",
           "linecolor": "#506784",
           "ticks": "",
           "title": {
            "standoff": 15
           },
           "zerolinecolor": "#283442",
           "zerolinewidth": 2
          }
         }
        },
        "title": {
         "text": "Adj-R2",
         "x": 0.5,
         "xanchor": "center"
        },
        "width": 400,
        "xaxis": {
         "anchor": "y",
         "domain": [
          0,
          1
         ],
         "title": {
          "font": {
           "color": "lightgrey"
          },
          "text": "Moving Averages"
         }
        },
        "yaxis": {
         "anchor": "x",
         "domain": [
          0,
          1
         ],
         "title": {
          "text": ""
         }
        }
       }
      }
     },
     "metadata": {},
     "output_type": "display_data"
    },
    {
     "data": {
      "application/vnd.plotly.v1+json": {
       "config": {
        "plotlyServerURL": "https://plot.ly"
       },
       "data": [
        {
         "alignmentgroup": "True",
         "boxpoints": "all",
         "fillcolor": "rgba(255,255,255,0)",
         "hoveron": "points",
         "hovertemplate": "sc=1<br>theta=%{x}<br>diff=%{y}<extra></extra>",
         "legendgroup": "1",
         "line": {
          "color": "rgba(255,255,255,0)"
         },
         "marker": {
          "color": "#636efa",
          "opacity": 0.5,
          "size": 5
         },
         "name": "1",
         "offsetgroup": "1",
         "orientation": "v",
         "pointpos": 0,
         "showlegend": true,
         "type": "box",
         "x": [
          "CSENT",
          "IPM",
          "HOUSE",
          "UNEMP",
          "LRIR",
          "CSENT",
          "IPM",
          "HOUSE",
          "UNEMP",
          "LRIR",
          "CSENT",
          "IPM",
          "HOUSE",
          "UNEMP",
          "LRIR",
          "CSENT",
          "IPM",
          "HOUSE",
          "UNEMP",
          "LRIR",
          "CSENT",
          "IPM",
          "HOUSE",
          "UNEMP",
          "LRIR",
          "CSENT",
          "IPM",
          "HOUSE",
          "UNEMP",
          "LRIR",
          "CSENT",
          "IPM",
          "HOUSE",
          "UNEMP",
          "LRIR",
          "CSENT",
          "IPM",
          "HOUSE",
          "UNEMP",
          "LRIR",
          "CSENT",
          "IPM",
          "HOUSE",
          "UNEMP",
          "LRIR",
          "CSENT",
          "IPM",
          "HOUSE",
          "UNEMP",
          "LRIR",
          "CSENT",
          "IPM",
          "HOUSE",
          "UNEMP",
          "LRIR",
          "CSENT",
          "IPM",
          "HOUSE",
          "UNEMP",
          "LRIR",
          "CSENT",
          "IPM",
          "HOUSE",
          "UNEMP",
          "LRIR",
          "CSENT",
          "IPM",
          "HOUSE",
          "UNEMP",
          "LRIR",
          "CSENT",
          "IPM",
          "HOUSE",
          "UNEMP",
          "LRIR",
          "CSENT",
          "IPM",
          "HOUSE",
          "UNEMP",
          "LRIR",
          "CSENT",
          "IPM",
          "HOUSE",
          "UNEMP",
          "LRIR",
          "CSENT",
          "IPM",
          "HOUSE",
          "UNEMP",
          "LRIR",
          "CSENT",
          "IPM",
          "HOUSE",
          "UNEMP",
          "LRIR",
          "CSENT",
          "IPM",
          "HOUSE",
          "UNEMP",
          "LRIR",
          "CSENT",
          "IPM",
          "HOUSE",
          "UNEMP",
          "LRIR",
          "CSENT",
          "IPM",
          "HOUSE",
          "UNEMP",
          "LRIR",
          "CSENT",
          "IPM",
          "HOUSE",
          "UNEMP",
          "LRIR",
          "CSENT",
          "IPM",
          "HOUSE",
          "UNEMP",
          "LRIR",
          "CSENT",
          "IPM",
          "HOUSE",
          "UNEMP",
          "LRIR",
          "CSENT",
          "IPM",
          "HOUSE",
          "UNEMP",
          "LRIR",
          "CSENT",
          "IPM",
          "HOUSE",
          "UNEMP",
          "LRIR",
          "CSENT",
          "IPM",
          "HOUSE",
          "UNEMP",
          "LRIR",
          "CSENT",
          "IPM",
          "HOUSE",
          "UNEMP",
          "LRIR",
          "CSENT",
          "IPM",
          "HOUSE",
          "UNEMP",
          "LRIR",
          "CSENT",
          "IPM",
          "HOUSE",
          "UNEMP",
          "LRIR",
          "CSENT",
          "IPM",
          "HOUSE",
          "UNEMP",
          "LRIR",
          "CSENT",
          "IPM",
          "HOUSE",
          "UNEMP",
          "LRIR",
          "CSENT",
          "IPM",
          "HOUSE",
          "UNEMP",
          "LRIR",
          "CSENT",
          "IPM",
          "HOUSE",
          "UNEMP",
          "LRIR",
          "CSENT",
          "IPM",
          "HOUSE",
          "UNEMP",
          "LRIR"
         ],
         "x0": " ",
         "xaxis": "x",
         "y": [
          -3.4397144265132087,
          -2.812822388896051,
          -2.684123773621594,
          -0.9828953909752522,
          -0.9242737464097646,
          -3.8781568754524027,
          -2.840826182876609,
          -3.105460387693202,
          -0.8658690670632341,
          -1.4282561553784756,
          -4.0692743432663665,
          -2.965727961494472,
          -3.1553905592820763,
          -1.150644278081959,
          -1.1023976934651625,
          -3.727128652205276,
          -2.423033016700746,
          -2.642952335962539,
          -1.0518265206646982,
          -1.0446103698305453,
          -4.287521234398346,
          -2.783977374106972,
          -2.4179098873446447,
          -1.0412012875728172,
          -1.4343038353215656,
          -4.5609040853600575,
          -2.76731122228746,
          -2.1890793927699352,
          -1.185650205119293,
          -1.2850395455114283,
          -1.8416340773361468,
          -0.8529463572852984,
          -0.751403666023279,
          1.3789345222504972,
          1.332177231413164,
          -2.0536348491969156,
          -1.227670575999034,
          -0.7237170773046975,
          0.8823053941035717,
          1.0827645915588286,
          -2.2160409712485496,
          -1.3290888790080713,
          -1.4470321549999516,
          0.5361325350088375,
          0.29435421731222355,
          -2.6059127131506896,
          -1.475909545944135,
          -1.7038573370143348,
          0.36731887975392574,
          0.19191052251729168,
          -2.469017809328992,
          -1.2445342257981977,
          -1.4827568233738235,
          0.2785750354121763,
          0.380410273485686,
          -2.638570594615992,
          -1.2067958384732362,
          -1.1666226586702724,
          0.2674189499179409,
          0.18224025734352534,
          -1.2461206632565607,
          -0.1712862377810609,
          -0.6416124820180853,
          1.9701297854812525,
          1.7314479975357022,
          -1.4897802043626829,
          -0.3774281322113593,
          -0.28014698892489864,
          1.6556330221482343,
          1.6821245021541866,
          -1.5705550432186555,
          -0.61208465898219,
          -0.44374638946343303,
          1.3430185109767434,
          1.3794748461220623,
          -1.8220608186493479,
          -0.8077430604437659,
          -0.9475433915861675,
          0.9667507373338049,
          0.9069118443641759,
          -1.9287067276473255,
          -0.7255807011462503,
          -0.9532269989155342,
          0.8575526091252126,
          0.8612556278690873,
          -2.0456520298189176,
          -0.715521106388195,
          -0.7609340255303181,
          0.7649043222469869,
          0.8400848423577836,
          -1.2695715402043684,
          0.17009609223250077,
          -0.727581949877492,
          2.1032145871919052,
          1.8453657880348517,
          -1.2109316420043337,
          0.028755344864414667,
          -0.2991916663416352,
          2.0009208654780055,
          1.8967697265121082,
          -1.3068006048890717,
          -0.10773507745110411,
          -0.18497227181283016,
          1.781142811299616,
          1.7443835757273982,
          -1.452072019668396,
          -0.4040435379388345,
          -0.33468142055857353,
          1.4208081030227202,
          1.5485645808614636,
          -1.503182724463556,
          -0.40780357697654424,
          -0.535893529284273,
          1.152287610358317,
          1.2581581821948964,
          -1.7136500127061969,
          -0.4156193130430905,
          -0.48564309046855403,
          1.0770128744797178,
          1.126614044659295,
          -1.2529002426397593,
          0.4561567380951126,
          -0.7064041820594404,
          2.3162371503603025,
          2.0189719466192826,
          -1.1861963904844828,
          0.310319782396129,
          -0.41455019081363176,
          2.1338957662265923,
          1.998836193437639,
          -1.1499629198875616,
          0.16148888321224053,
          -0.22377291825521795,
          2.026228770396912,
          1.8919829327630655,
          -1.2802788731914254,
          -0.03966373670937884,
          -0.1623523250002652,
          1.7364041550573308,
          1.7941107785628105,
          -1.210006591736989,
          -0.18442012128262064,
          -0.1679774670716494,
          1.4636333117438998,
          1.6570643882828096,
          -1.430033185676118,
          -0.26202503341683325,
          -0.2511501365921358,
          1.241306333311269,
          1.3687504316588983,
          -1.259327507544691,
          0.6660168600266272,
          -0.6449193503649697,
          2.497213621370537,
          2.0619863717202063,
          -1.1431185774512547,
          0.5794479897258666,
          -0.394765076204183,
          2.3305129574582484,
          2.158352138727899,
          -1.0712259804681312,
          0.4500380112859097,
          -0.2618180123655116,
          2.177083092828204,
          2.035873680843903,
          -1.1235756728919566,
          0.23374361504007268,
          -0.12018963073760736,
          1.9805543710155193,
          1.9607946932725753,
          -1.1099140777418772,
          0.14808454305180696,
          0.03655161297123044,
          1.742692588563508,
          1.89427779442706,
          -1.1535142938793381,
          -0.03020299937745019,
          0.09783450969772556,
          1.5281122377747343,
          1.7582156599391858
         ],
         "y0": " ",
         "yaxis": "y"
        },
        {
         "alignmentgroup": "True",
         "boxpoints": "all",
         "fillcolor": "rgba(255,255,255,0)",
         "hoveron": "points",
         "hovertemplate": "sc=1<br>theta=%{x}<br>diff=%{y}<extra></extra>",
         "legendgroup": "1",
         "line": {
          "color": "rgba(255,255,255,0)"
         },
         "marker": {
          "color": "#636efa",
          "opacity": 0.5,
          "size": 5
         },
         "name": "1",
         "offsetgroup": "1",
         "orientation": "v",
         "pointpos": 0,
         "showlegend": false,
         "type": "box",
         "x": [
          "CSENT",
          "IPM",
          "HOUSE",
          "UNEMP",
          "LRIR",
          "CSENT",
          "IPM",
          "HOUSE",
          "UNEMP",
          "LRIR",
          "CSENT",
          "IPM",
          "HOUSE",
          "UNEMP",
          "LRIR",
          "CSENT",
          "IPM",
          "HOUSE",
          "UNEMP",
          "LRIR",
          "CSENT",
          "IPM",
          "HOUSE",
          "UNEMP",
          "LRIR",
          "CSENT",
          "IPM",
          "HOUSE",
          "UNEMP",
          "LRIR",
          "CSENT",
          "IPM",
          "HOUSE",
          "UNEMP",
          "LRIR",
          "CSENT",
          "IPM",
          "HOUSE",
          "UNEMP",
          "LRIR",
          "CSENT",
          "IPM",
          "HOUSE",
          "UNEMP",
          "LRIR",
          "CSENT",
          "IPM",
          "HOUSE",
          "UNEMP",
          "LRIR",
          "CSENT",
          "IPM",
          "HOUSE",
          "UNEMP",
          "LRIR",
          "CSENT",
          "IPM",
          "HOUSE",
          "UNEMP",
          "LRIR",
          "CSENT",
          "IPM",
          "HOUSE",
          "UNEMP",
          "LRIR",
          "CSENT",
          "IPM",
          "HOUSE",
          "UNEMP",
          "LRIR",
          "CSENT",
          "IPM",
          "HOUSE",
          "UNEMP",
          "LRIR",
          "CSENT",
          "IPM",
          "HOUSE",
          "UNEMP",
          "LRIR",
          "CSENT",
          "IPM",
          "HOUSE",
          "UNEMP",
          "LRIR",
          "CSENT",
          "IPM",
          "HOUSE",
          "UNEMP",
          "LRIR",
          "CSENT",
          "IPM",
          "HOUSE",
          "UNEMP",
          "LRIR",
          "CSENT",
          "IPM",
          "HOUSE",
          "UNEMP",
          "LRIR",
          "CSENT",
          "IPM",
          "HOUSE",
          "UNEMP",
          "LRIR",
          "CSENT",
          "IPM",
          "HOUSE",
          "UNEMP",
          "LRIR",
          "CSENT",
          "IPM",
          "HOUSE",
          "UNEMP",
          "LRIR",
          "CSENT",
          "IPM",
          "HOUSE",
          "UNEMP",
          "LRIR",
          "CSENT",
          "IPM",
          "HOUSE",
          "UNEMP",
          "LRIR",
          "CSENT",
          "IPM",
          "HOUSE",
          "UNEMP",
          "LRIR",
          "CSENT",
          "IPM",
          "HOUSE",
          "UNEMP",
          "LRIR",
          "CSENT",
          "IPM",
          "HOUSE",
          "UNEMP",
          "LRIR",
          "CSENT",
          "IPM",
          "HOUSE",
          "UNEMP",
          "LRIR",
          "CSENT",
          "IPM",
          "HOUSE",
          "UNEMP",
          "LRIR",
          "CSENT",
          "IPM",
          "HOUSE",
          "UNEMP",
          "LRIR",
          "CSENT",
          "IPM",
          "HOUSE",
          "UNEMP",
          "LRIR",
          "CSENT",
          "IPM",
          "HOUSE",
          "UNEMP",
          "LRIR",
          "CSENT",
          "IPM",
          "HOUSE",
          "UNEMP",
          "LRIR",
          "CSENT",
          "IPM",
          "HOUSE",
          "UNEMP",
          "LRIR",
          "CSENT",
          "IPM",
          "HOUSE",
          "UNEMP",
          "LRIR"
         ],
         "x0": " ",
         "xaxis": "x2",
         "y": [
          0.15812703688290086,
          0.13644617195459152,
          0.13160152953320636,
          0.0549597453062437,
          0.05190117776922498,
          0.17198489307445652,
          0.13788322824023957,
          0.14740872624510115,
          0.04893211830664712,
          0.07746997631133579,
          0.18115497776680978,
          0.14521582571567493,
          0.15209101492185972,
          0.06475684610128885,
          0.062255911447379186,
          0.16139668938915475,
          0.11763786375208252,
          0.125976491768097,
          0.05686852947332288,
          0.05650870480612591,
          0.1783366371583326,
          0.1326245145964985,
          0.11874373072918776,
          0.05689577866858142,
          0.07611005860521924,
          0.1837162304430937,
          0.13138304466758566,
          0.10900898976276452,
          0.06381479417764568,
          0.0686517623171965,
          0.06530826688583569,
          0.03379677279548843,
          0.03009443799270095,
          -0.06759213117475515,
          -0.06503802135681824,
          0.0781784432137097,
          0.050993294835173564,
          0.031592258091967085,
          -0.04446520094764983,
          -0.055479078378380065,
          0.08851035518973527,
          0.058025301986194266,
          0.062459199479301564,
          -0.02759745296588756,
          -0.014853634695272122,
          0.1025657923719211,
          0.06507146890894588,
          0.07349567249145861,
          -0.019028884320733352,
          -0.009800975970055914,
          0.0962774321580997,
          0.05489966767157284,
          0.06393178914517783,
          -0.014062269851826459,
          -0.019364771850361562,
          0.09936626987695296,
          0.05266318287055871,
          0.05110580846642876,
          -0.013316345877793956,
          -0.009009972215828665,
          0.041851448437190575,
          0.006553021701464767,
          0.023234843396230942,
          -0.09371221464260271,
          -0.08056247831614693,
          0.05101600786740035,
          0.014745604662074752,
          0.01106316834021337,
          -0.0792828652137797,
          -0.08074473659540626,
          0.0572047784719979,
          0.024834655908013925,
          0.01832799941841734,
          -0.06586210559992356,
          -0.06786771787489387,
          0.06904305756441775,
          0.03415053107285071,
          0.03948832929497825,
          -0.04829134688617476,
          -0.04506759290721318,
          0.0720573959295222,
          0.030880018863287395,
          0.03963080124853691,
          -0.0423627355951498,
          -0.042559443512985795,
          0.0749498626351599,
          0.03033000005379849,
          0.032105609710566196,
          -0.03731851094916028,
          -0.041259481411601406,
          0.04091363048624175,
          -0.006579052598703505,
          0.02521460603305148,
          -0.09957048652370004,
          -0.08523090336906503,
          0.03980685956235619,
          -0.0011047163643151947,
          0.011055412742076332,
          -0.09452119821201665,
          -0.08871761621634233,
          0.044389981552997115,
          0.004236436196411786,
          0.007209817061695101,
          -0.08506251101931106,
          -0.08302066077267534,
          0.052395067270814666,
          0.016468172966298877,
          0.013744646010395045,
          -0.06947667110022804,
          -0.07660648313245211,
          0.055583285319363296,
          0.017072670063694506,
          0.022128846323079987,
          -0.05626213797554269,
          -0.06202580640839306,
          0.06199408828695574,
          0.017444982436190748,
          0.02023225421265762,
          -0.052385216412128344,
          -0.05504734428599234,
          0.03868246715969015,
          -0.017686415911126963,
          0.023593862483716643,
          -0.10971773208927604,
          -0.09286292981497701,
          0.0378081923508532,
          -0.01203296943603882,
          0.014688601488226927,
          -0.10069242013409696,
          -0.09307416800597856,
          0.03795366961851909,
          -0.006305447469672543,
          0.008340223581860817,
          -0.09652139985591324,
          -0.08895641053197556,
          0.044021158136655636,
          0.001590456743855384,
          0.006418337259936013,
          -0.08383248546737954,
          -0.08709540973045904,
          0.043889230439747684,
          0.007560976098255012,
          0.006899579040648862,
          -0.07112416839916003,
          -0.0820010660796685,
          0.05208025952717177,
          0.010954006654250614,
          0.010511974599061835,
          -0.06049855265521442,
          -0.06751432590325601,
          0.03747508003506661,
          -0.025933504143796915,
          0.021080838762524423,
          -0.11904094033677037,
          -0.09401483961148704,
          0.03512883754902085,
          -0.022558321921966384,
          0.013537727029309998,
          -0.11015491117550469,
          -0.10024862681659152,
          0.03432015304372571,
          -0.0176756590646856,
          0.009396419218087537,
          -0.10339554169178888,
          -0.09532135995102364,
          0.03745457259725671,
          -0.009301683728397792,
          0.004580436961978518,
          -0.0952787899567098,
          -0.09414382990105674,
          0.03843541911450643,
          -0.00601497324199296,
          -0.0014652628098933418,
          -0.08401595529351447,
          -0.09269103615013186,
          0.04124338454303644,
          0.0012415415185282885,
          -0.0040813229208864765,
          -0.07416104810289093,
          -0.0872558119365624
         ],
         "y0": " ",
         "yaxis": "y2"
        },
        {
         "alignmentgroup": "True",
         "boxpoints": "all",
         "fillcolor": "rgba(255,255,255,0)",
         "hoveron": "points",
         "hovertemplate": "sc=3<br>theta=%{x}<br>diff=%{y}<extra></extra>",
         "legendgroup": "3",
         "line": {
          "color": "rgba(255,255,255,0)"
         },
         "marker": {
          "color": "#EF553B",
          "opacity": 0.5,
          "size": 5
         },
         "name": "3",
         "offsetgroup": "3",
         "orientation": "v",
         "pointpos": 0,
         "showlegend": true,
         "type": "box",
         "x": [
          "CSENT",
          "IPM",
          "HOUSE",
          "UNEMP",
          "LRIR",
          "CSENT",
          "IPM",
          "HOUSE",
          "UNEMP",
          "LRIR",
          "CSENT",
          "IPM",
          "HOUSE",
          "UNEMP",
          "LRIR",
          "CSENT",
          "IPM",
          "HOUSE",
          "UNEMP",
          "LRIR",
          "CSENT",
          "IPM",
          "HOUSE",
          "UNEMP",
          "LRIR",
          "CSENT",
          "IPM",
          "HOUSE",
          "UNEMP",
          "LRIR",
          "CSENT",
          "IPM",
          "HOUSE",
          "UNEMP",
          "LRIR",
          "CSENT",
          "IPM",
          "HOUSE",
          "UNEMP",
          "LRIR",
          "CSENT",
          "IPM",
          "HOUSE",
          "UNEMP",
          "LRIR",
          "CSENT",
          "IPM",
          "HOUSE",
          "UNEMP",
          "LRIR",
          "CSENT",
          "IPM",
          "HOUSE",
          "UNEMP",
          "LRIR",
          "CSENT",
          "IPM",
          "HOUSE",
          "UNEMP",
          "LRIR",
          "CSENT",
          "IPM",
          "HOUSE",
          "UNEMP",
          "LRIR",
          "CSENT",
          "IPM",
          "HOUSE",
          "UNEMP",
          "LRIR",
          "CSENT",
          "IPM",
          "HOUSE",
          "UNEMP",
          "LRIR",
          "CSENT",
          "IPM",
          "HOUSE",
          "UNEMP",
          "LRIR",
          "CSENT",
          "IPM",
          "HOUSE",
          "UNEMP",
          "LRIR",
          "CSENT",
          "IPM",
          "HOUSE",
          "UNEMP",
          "LRIR",
          "CSENT",
          "IPM",
          "HOUSE",
          "UNEMP",
          "LRIR",
          "CSENT",
          "IPM",
          "HOUSE",
          "UNEMP",
          "LRIR",
          "CSENT",
          "IPM",
          "HOUSE",
          "UNEMP",
          "LRIR",
          "CSENT",
          "IPM",
          "HOUSE",
          "UNEMP",
          "LRIR",
          "CSENT",
          "IPM",
          "HOUSE",
          "UNEMP",
          "LRIR",
          "CSENT",
          "IPM",
          "HOUSE",
          "UNEMP",
          "LRIR",
          "CSENT",
          "IPM",
          "HOUSE",
          "UNEMP",
          "LRIR",
          "CSENT",
          "IPM",
          "HOUSE",
          "UNEMP",
          "LRIR",
          "CSENT",
          "IPM",
          "HOUSE",
          "UNEMP",
          "LRIR",
          "CSENT",
          "IPM",
          "HOUSE",
          "UNEMP",
          "LRIR",
          "CSENT",
          "IPM",
          "HOUSE",
          "UNEMP",
          "LRIR",
          "CSENT",
          "IPM",
          "HOUSE",
          "UNEMP",
          "LRIR",
          "CSENT",
          "IPM",
          "HOUSE",
          "UNEMP",
          "LRIR",
          "CSENT",
          "IPM",
          "HOUSE",
          "UNEMP",
          "LRIR",
          "CSENT",
          "IPM",
          "HOUSE",
          "UNEMP",
          "LRIR",
          "CSENT",
          "IPM",
          "HOUSE",
          "UNEMP",
          "LRIR",
          "CSENT",
          "IPM",
          "HOUSE",
          "UNEMP",
          "LRIR",
          "CSENT",
          "IPM",
          "HOUSE",
          "UNEMP",
          "LRIR"
         ],
         "x0": " ",
         "xaxis": "x",
         "y": [
          -2.44349106550281,
          -1.9524458577288772,
          -2.90615328096181,
          -1.3063846238468875,
          -1.3407370658615028,
          -2.2463510526215265,
          -1.3914701844898953,
          -2.9748796774097315,
          0.03525132675067333,
          -2.4498779386905536,
          -1.8588294608227143,
          -1.8722562013460964,
          -3.2722712115362294,
          -0.4769956062862306,
          -0.46852166407080986,
          -1.461106370456485,
          -1.4656156563289207,
          -3.2352663862618165,
          -1.2484922586839673,
          -0.8793999610537924,
          -1.8665127728388349,
          -1.002631085122447,
          -2.760828204468358,
          -0.15127973329031086,
          -1.0289027936204418,
          -2.401837061929017,
          -1.602066840301215,
          -1.9181510858175361,
          -0.3521374020847867,
          -1.4084725783930887,
          -0.30683383069314374,
          -0.0007843458331260322,
          -1.2374302860930824,
          0.7862046550491835,
          1.8121356813439933,
          -1.5713421040530937,
          -0.7074480919644373,
          -1.6387211672945048,
          0.011483436306148675,
          0.8775783245285131,
          -1.8356594722413409,
          -0.9933736148350301,
          -2.5042684791250167,
          0.14519976972533755,
          -1.3373438738165095,
          -1.586673723611118,
          -0.8301678626381648,
          -2.650015985828234,
          0.6776511658276849,
          -0.7406297096037946,
          -1.1141536410335107,
          -1.0741396491867388,
          -2.847040598646143,
          -0.1341970940582522,
          -0.012352336738596037,
          -1.1986151887557899,
          -0.5697696799265,
          -2.686562970558689,
          -0.07354863161598058,
          -0.41949149521961093,
          -0.36919386389995523,
          0.22800217451702842,
          -1.275876169313868,
          0.9832725986032784,
          1.6891440526863333,
          -0.677919566993678,
          0.08809036107211288,
          -1.2063074127138647,
          0.8726893403650022,
          1.5473690845654984,
          -1.4385619794191724,
          -0.30845001163452235,
          -1.647070106795688,
          0.83124957732442,
          0.38203451479383066,
          -1.3503219622603861,
          -0.4833094304467478,
          -2.15789469830821,
          0.8742584304150247,
          -0.2907047760250627,
          -0.9621858134926953,
          -0.3712840639435635,
          -2.395318516471532,
          0.8355284574517876,
          -0.10438534151681722,
          -0.858053512160251,
          -0.3678171237028929,
          -2.4312027355449084,
          0.5484562924348033,
          0.1299053215165742,
          -0.5074728157855457,
          0.8585917391163775,
          -1.247011172939156,
          1.2401432058443254,
          1.8544110168943897,
          -0.4335173413303668,
          0.4586715281076126,
          -1.096699704642928,
          1.1839828904599363,
          1.6897040063724234,
          -0.8350641716120695,
          0.3078084285114846,
          -1.276819720154557,
          1.3174812961286424,
          1.1133348157146754,
          -1.131975299382682,
          -0.029949622303043988,
          -1.5382896152826175,
          1.2435732859136834,
          0.8349582897564973,
          -0.7297541892138417,
          -0.04389858511110045,
          -1.907389955245991,
          1.1285801646098585,
          0.21958150382739916,
          -0.5879771437700878,
          0.17115932263506384,
          -2.054762825103607,
          1.2825188879274716,
          0.1669135226834637,
          -0.4834676911516338,
          1.0404778497168712,
          -1.234402759782697,
          1.7898656946863705,
          2.1306062126317977,
          -0.3905058838473714,
          1.0249377881312522,
          -1.0374594489333546,
          1.4202603782008163,
          1.9115290945851076,
          -0.5196836446336057,
          0.6400019234449728,
          -1.1234411557973298,
          1.5146953781173202,
          1.4002466657128592,
          -0.7928040931523093,
          0.41431178529003976,
          -1.2801386728918822,
          1.5283688009144534,
          1.3331591322196434,
          -0.6774330718632893,
          0.22000373064298273,
          -1.4274717656444955,
          1.3822307973904175,
          1.0297857104884924,
          -0.4093992214185418,
          0.40625124394832035,
          -1.7033361317531344,
          1.4707958031908488,
          0.38922380115570476,
          -0.727602714356868,
          1.1094955492437828,
          -1.1850248765480913,
          2.1295419351613427,
          1.8009194921342129,
          -0.30662491687847737,
          1.1975656659535439,
          -1.0144076907049833,
          1.8808420145418694,
          2.18221491120078,
          -0.3335767246434225,
          1.1749069337399467,
          -0.9743242317197796,
          1.7219136221417424,
          1.7377435498371208,
          -0.49674785011078804,
          0.7497126255283986,
          -1.089845208986974,
          1.734016448520114,
          1.6286485096434324,
          -0.4999177918835267,
          0.6229309496543598,
          -1.1875509543648426,
          1.6242016456981574,
          1.4184936795871508,
          -0.36074863990809813,
          0.6418544742255605,
          -1.2512512438258097,
          1.6802311848628175,
          1.0825087694293813
         ],
         "y0": " ",
         "yaxis": "y"
        },
        {
         "alignmentgroup": "True",
         "boxpoints": "all",
         "fillcolor": "rgba(255,255,255,0)",
         "hoveron": "points",
         "hovertemplate": "sc=3<br>theta=%{x}<br>diff=%{y}<extra></extra>",
         "legendgroup": "3",
         "line": {
          "color": "rgba(255,255,255,0)"
         },
         "marker": {
          "color": "#EF553B",
          "opacity": 0.5,
          "size": 5
         },
         "name": "3",
         "offsetgroup": "3",
         "orientation": "v",
         "pointpos": 0,
         "showlegend": false,
         "type": "box",
         "x": [
          "CSENT",
          "IPM",
          "HOUSE",
          "UNEMP",
          "LRIR",
          "CSENT",
          "IPM",
          "HOUSE",
          "UNEMP",
          "LRIR",
          "CSENT",
          "IPM",
          "HOUSE",
          "UNEMP",
          "LRIR",
          "CSENT",
          "IPM",
          "HOUSE",
          "UNEMP",
          "LRIR",
          "CSENT",
          "IPM",
          "HOUSE",
          "UNEMP",
          "LRIR",
          "CSENT",
          "IPM",
          "HOUSE",
          "UNEMP",
          "LRIR",
          "CSENT",
          "IPM",
          "HOUSE",
          "UNEMP",
          "LRIR",
          "CSENT",
          "IPM",
          "HOUSE",
          "UNEMP",
          "LRIR",
          "CSENT",
          "IPM",
          "HOUSE",
          "UNEMP",
          "LRIR",
          "CSENT",
          "IPM",
          "HOUSE",
          "UNEMP",
          "LRIR",
          "CSENT",
          "IPM",
          "HOUSE",
          "UNEMP",
          "LRIR",
          "CSENT",
          "IPM",
          "HOUSE",
          "UNEMP",
          "LRIR",
          "CSENT",
          "IPM",
          "HOUSE",
          "UNEMP",
          "LRIR",
          "CSENT",
          "IPM",
          "HOUSE",
          "UNEMP",
          "LRIR",
          "CSENT",
          "IPM",
          "HOUSE",
          "UNEMP",
          "LRIR",
          "CSENT",
          "IPM",
          "HOUSE",
          "UNEMP",
          "LRIR",
          "CSENT",
          "IPM",
          "HOUSE",
          "UNEMP",
          "LRIR",
          "CSENT",
          "IPM",
          "HOUSE",
          "UNEMP",
          "LRIR",
          "CSENT",
          "IPM",
          "HOUSE",
          "UNEMP",
          "LRIR",
          "CSENT",
          "IPM",
          "HOUSE",
          "UNEMP",
          "LRIR",
          "CSENT",
          "IPM",
          "HOUSE",
          "UNEMP",
          "LRIR",
          "CSENT",
          "IPM",
          "HOUSE",
          "UNEMP",
          "LRIR",
          "CSENT",
          "IPM",
          "HOUSE",
          "UNEMP",
          "LRIR",
          "CSENT",
          "IPM",
          "HOUSE",
          "UNEMP",
          "LRIR",
          "CSENT",
          "IPM",
          "HOUSE",
          "UNEMP",
          "LRIR",
          "CSENT",
          "IPM",
          "HOUSE",
          "UNEMP",
          "LRIR",
          "CSENT",
          "IPM",
          "HOUSE",
          "UNEMP",
          "LRIR",
          "CSENT",
          "IPM",
          "HOUSE",
          "UNEMP",
          "LRIR",
          "CSENT",
          "IPM",
          "HOUSE",
          "UNEMP",
          "LRIR",
          "CSENT",
          "IPM",
          "HOUSE",
          "UNEMP",
          "LRIR",
          "CSENT",
          "IPM",
          "HOUSE",
          "UNEMP",
          "LRIR",
          "CSENT",
          "IPM",
          "HOUSE",
          "UNEMP",
          "LRIR",
          "CSENT",
          "IPM",
          "HOUSE",
          "UNEMP",
          "LRIR",
          "CSENT",
          "IPM",
          "HOUSE",
          "UNEMP",
          "LRIR",
          "CSENT",
          "IPM",
          "HOUSE",
          "UNEMP",
          "LRIR",
          "CSENT",
          "IPM",
          "HOUSE",
          "UNEMP",
          "LRIR"
         ],
         "x0": " ",
         "xaxis": "x2",
         "y": [
          0.14713951761044097,
          0.12145125676441093,
          0.1695568115632462,
          0.0846797546607283,
          0.08672003650401672,
          0.1342604257104978,
          0.08796965258966538,
          0.16905074662800657,
          -0.002431722668526537,
          0.1444112146565426,
          0.11452448299073636,
          0.11525042077475067,
          0.18297042805408426,
          0.032044259941385045,
          0.03149098447614607,
          0.09282226888304812,
          0.09308214947114268,
          0.18243986048292749,
          0.08038310104122037,
          0.05792525424993089,
          0.10913575781091034,
          0.06210613644491303,
          0.15150130209208224,
          0.009888481639684588,
          0.06362482588255625,
          0.1365543207835942,
          0.09622477463704315,
          0.11277716680249661,
          0.022916318449621942,
          0.0856909386152146,
          0.01508298110102635,
          0.00003956633728730008,
          0.055981241481095734,
          -0.04226438715225056,
          -0.10524100939895564,
          0.08103092602686424,
          0.039047981322412606,
          0.08404188286704917,
          -0.0006685013799706541,
          -0.054279284996538446,
          0.09982429759069178,
          0.057526882340672825,
          0.12916639337176428,
          -0.009101463786172603,
          0.07551853605527303,
          0.08634313085675072,
          0.04780474124197265,
          0.1324121608116824,
          -0.043299301391004796,
          0.042926330626308906,
          0.06420265219509202,
          0.062076523098113956,
          0.1434368853844301,
          0.008282759903219694,
          0.0007686880846764499,
          0.067304778123081,
          0.0334901790654778,
          0.13416101866356112,
          0.004475499560010143,
          0.02492034472505744,
          0.01675912079727826,
          -0.010941790190181044,
          0.05288819310161752,
          -0.05041536670717228,
          -0.09179057718141193,
          0.03131182546280786,
          -0.00436140357886905,
          0.052952444480942384,
          -0.046177174006631794,
          -0.08640503811325084,
          0.06882438489326304,
          0.016266535590367948,
          0.07731273890521273,
          -0.04793964350003077,
          -0.02128943879030709,
          0.06844937874308732,
          0.02631150592622089,
          0.10185057364636851,
          -0.05272712684115666,
          0.016068169286074907,
          0.05055456758079635,
          0.020455745090399824,
          0.11102056268778382,
          -0.050389962373590835,
          0.005871449287211505,
          0.0457656138792758,
          0.020397596407601748,
          0.11313827662050602,
          -0.03258751772256063,
          -0.0074835118834368775,
          0.021594984392781513,
          -0.041793004834991154,
          0.048932225741865176,
          -0.06248612029984668,
          -0.0985418435963955,
          0.018791209785994023,
          -0.021711901967318648,
          0.04428435183446189,
          -0.05988663154758311,
          -0.08928841789182251,
          0.03655284189796948,
          -0.015044398120886315,
          0.05337092470064497,
          -0.07033296932255317,
          -0.05841982334086937,
          0.05233813762515993,
          0.0015319965171662897,
          0.06833616433896339,
          -0.07067707585614136,
          -0.04593185648063158,
          0.03628327349601457,
          0.002316981558794895,
          0.08481197267529961,
          -0.06547145495320361,
          -0.01184774877494954,
          0.029531369177668076,
          -0.009176804800752225,
          0.08974156334350902,
          -0.07512835800027962,
          -0.008945998936159993,
          0.019682509791527414,
          -0.049686943838011866,
          0.045970026478349135,
          -0.09167196245962328,
          -0.11247885109661737,
          0.016125047970692585,
          -0.04901389541321921,
          0.03974371458527082,
          -0.07050844496252529,
          -0.0992287553954172,
          0.021701538321893254,
          -0.030145014651342006,
          0.04378927540218236,
          -0.07744771485211976,
          -0.07085759935982705,
          0.034175754392223645,
          -0.020163563523155403,
          0.052309920601273596,
          -0.08222491557860168,
          -0.07052407217337964,
          0.03144529611693203,
          -0.01112216608938943,
          0.061326333398428856,
          -0.07728184205782307,
          -0.055903557835406126,
          0.01986669567089283,
          -0.021241998981341825,
          0.07249307650889913,
          -0.0841250916248435,
          -0.020321108141465594,
          0.028107480850932287,
          -0.05257865435054099,
          0.0431932465723881,
          -0.1112757187235539,
          -0.09128223371822075,
          0.01217617794099557,
          -0.05613085738038648,
          0.03686463614169144,
          -0.09427424705010112,
          -0.1125107784923044,
          0.013356353869664606,
          -0.05547528049464534,
          0.03604155747950377,
          -0.08578442881184456,
          -0.08670394039915241,
          0.02041128925868696,
          -0.035252620597900575,
          0.04170554240436686,
          -0.08965841077136516,
          -0.08339364805509497,
          0.021707149363045408,
          -0.030378669332548514,
          0.04767734500282117,
          -0.08695059249310721,
          -0.07454891215353376,
          0.016468146325302024,
          -0.032366679555893785,
          0.05181071300361173,
          -0.09304139438532455,
          -0.05686019712128598
         ],
         "y0": " ",
         "yaxis": "y2"
        },
        {
         "alignmentgroup": "True",
         "boxpoints": "all",
         "fillcolor": "rgba(255,255,255,0)",
         "hoveron": "points",
         "hovertemplate": "sc=6<br>theta=%{x}<br>diff=%{y}<extra></extra>",
         "legendgroup": "6",
         "line": {
          "color": "rgba(255,255,255,0)"
         },
         "marker": {
          "color": "#00cc96",
          "opacity": 0.5,
          "size": 5
         },
         "name": "6",
         "offsetgroup": "6",
         "orientation": "v",
         "pointpos": 0,
         "showlegend": true,
         "type": "box",
         "x": [
          "CSENT",
          "IPM",
          "HOUSE",
          "UNEMP",
          "LRIR",
          "CSENT",
          "IPM",
          "HOUSE",
          "UNEMP",
          "LRIR",
          "CSENT",
          "IPM",
          "HOUSE",
          "UNEMP",
          "LRIR",
          "CSENT",
          "IPM",
          "HOUSE",
          "UNEMP",
          "LRIR",
          "CSENT",
          "IPM",
          "HOUSE",
          "UNEMP",
          "LRIR",
          "CSENT",
          "IPM",
          "HOUSE",
          "UNEMP",
          "LRIR",
          "CSENT",
          "IPM",
          "HOUSE",
          "UNEMP",
          "LRIR",
          "CSENT",
          "IPM",
          "HOUSE",
          "UNEMP",
          "LRIR",
          "CSENT",
          "IPM",
          "HOUSE",
          "UNEMP",
          "LRIR",
          "CSENT",
          "IPM",
          "HOUSE",
          "UNEMP",
          "LRIR",
          "CSENT",
          "IPM",
          "HOUSE",
          "UNEMP",
          "LRIR",
          "CSENT",
          "IPM",
          "HOUSE",
          "UNEMP",
          "LRIR",
          "CSENT",
          "IPM",
          "HOUSE",
          "UNEMP",
          "LRIR",
          "CSENT",
          "IPM",
          "HOUSE",
          "UNEMP",
          "LRIR",
          "CSENT",
          "IPM",
          "HOUSE",
          "UNEMP",
          "LRIR",
          "CSENT",
          "IPM",
          "HOUSE",
          "UNEMP",
          "LRIR",
          "CSENT",
          "IPM",
          "HOUSE",
          "UNEMP",
          "LRIR",
          "CSENT",
          "IPM",
          "HOUSE",
          "UNEMP",
          "LRIR",
          "CSENT",
          "IPM",
          "HOUSE",
          "UNEMP",
          "LRIR",
          "CSENT",
          "IPM",
          "HOUSE",
          "UNEMP",
          "LRIR",
          "CSENT",
          "IPM",
          "HOUSE",
          "UNEMP",
          "LRIR",
          "CSENT",
          "IPM",
          "HOUSE",
          "UNEMP",
          "LRIR",
          "CSENT",
          "IPM",
          "HOUSE",
          "UNEMP",
          "LRIR",
          "CSENT",
          "IPM",
          "HOUSE",
          "UNEMP",
          "LRIR",
          "CSENT",
          "IPM",
          "HOUSE",
          "UNEMP",
          "LRIR",
          "CSENT",
          "IPM",
          "HOUSE",
          "UNEMP",
          "LRIR",
          "CSENT",
          "IPM",
          "HOUSE",
          "UNEMP",
          "LRIR",
          "CSENT",
          "IPM",
          "HOUSE",
          "UNEMP",
          "LRIR",
          "CSENT",
          "IPM",
          "HOUSE",
          "UNEMP",
          "LRIR",
          "CSENT",
          "IPM",
          "HOUSE",
          "UNEMP",
          "LRIR",
          "CSENT",
          "IPM",
          "HOUSE",
          "UNEMP",
          "LRIR",
          "CSENT",
          "IPM",
          "HOUSE",
          "UNEMP",
          "LRIR",
          "CSENT",
          "IPM",
          "HOUSE",
          "UNEMP",
          "LRIR",
          "CSENT",
          "IPM",
          "HOUSE",
          "UNEMP",
          "LRIR",
          "CSENT",
          "IPM",
          "HOUSE",
          "UNEMP",
          "LRIR",
          "CSENT",
          "IPM",
          "HOUSE",
          "UNEMP",
          "LRIR"
         ],
         "x0": " ",
         "xaxis": "x",
         "y": [
          -1.0564293632760773,
          -0.7883447183046535,
          -2.43246726079387,
          -0.6221643072769325,
          -1.6497112279654775,
          -0.8136955923386715,
          -0.36789889753949545,
          -3.0521514096295705,
          0.2322864533570268,
          -2.698501327624884,
          -0.46079061147775846,
          -0.8229404573383015,
          -2.856969049180945,
          0.08345236899513964,
          -1.3085805472085337,
          -0.8506524908456043,
          -0.7230004482965207,
          -2.7384932068365906,
          -0.8798696293576551,
          -1.1000953621041258,
          -1.3260481734346623,
          -0.8525543781895042,
          -2.8457381826275414,
          -0.44365706629625024,
          -0.8436367528722446,
          -1.866538923890837,
          -1.2261071591582553,
          -2.1568392596627213,
          -0.8060744036990961,
          -0.9401087230824015,
          0.7424826339176995,
          0.34961488762993387,
          -0.9681189324980455,
          0.6667296411434842,
          1.4546727279627145,
          -0.36460256251450485,
          0.049832329077669435,
          -1.3807892915042403,
          0.24613080709632928,
          0.2762471609531163,
          -0.5412913153073227,
          -0.17951336817572638,
          -2.4241109167636656,
          0.33714980753901536,
          -1.8564347463189295,
          -0.2503176403888805,
          -0.0732146912985403,
          -2.651977563117324,
          0.7185948951814556,
          -1.6365293251892608,
          -0.282179949799783,
          -0.4008300841822052,
          -2.5166555664003214,
          0.040120241857694694,
          -0.7859816524498964,
          -0.7597101361067287,
          -0.37310649081484115,
          -2.6135889358517854,
          -0.2922940845255404,
          -0.6955787802712834,
          0.6453649812577584,
          0.5310820658828481,
          -1.097597659099681,
          0.6483399473362201,
          1.310042124697854,
          0.4184520156678655,
          0.5069410482017993,
          -1.0149755908726608,
          0.7606464160104691,
          0.9634683040093117,
          -0.31860140626705125,
          0.24697093235206946,
          -1.649106535851847,
          0.7336363071801904,
          -0.43105279060730606,
          -0.13242201434290024,
          0.09369832483049212,
          -2.265526392759015,
          0.7700562905810893,
          -1.2742050058416785,
          -0.018003271323097536,
          0.15466359653500739,
          -2.317920917700496,
          0.7102255440536762,
          -0.9705596943538746,
          -0.21008642841403713,
          -0.08644745147531019,
          -2.3519469099308674,
          0.35023991204323224,
          -0.5164485482262746,
          0.4093110703934544,
          1.1387763609364363,
          -1.0784563604726296,
          0.7550817303163733,
          1.5394837895953204,
          0.6248897801962281,
          0.7516952155613117,
          -0.9745794917638433,
          0.8949275724122634,
          1.1204327731587798,
          0.22127400489748972,
          0.6294346917727269,
          -1.254403915492503,
          1.1074270013432468,
          0.3653892930351148,
          -0.11849418400524847,
          0.3101673666128528,
          -1.7469429879746317,
          0.9580024207409101,
          -0.31304077016442644,
          0.10421154963208323,
          0.3231790853209411,
          -2.0456282241465704,
          0.8507823891792157,
          -0.7920470000605597,
          0.12793141371601902,
          0.3731319324207396,
          -2.12729502685091,
          0.946706144412576,
          -0.5820146155400732,
          0.2562658717783872,
          1.2844212203771184,
          -1.0959535806078575,
          1.2011670148582407,
          1.7100644792011472,
          0.5657668220041003,
          1.2428177796332927,
          -0.9271178399406024,
          0.997460938745105,
          1.4269594775195138,
          0.5340131118829676,
          0.9060486701668058,
          -1.0829514003566212,
          1.243348600555377,
          0.7149519787051686,
          0.18134115684852326,
          0.6141487316149092,
          -1.4306656227012233,
          1.2142614264367522,
          0.29918575971299877,
          0.05690599177005762,
          0.4405129241626291,
          -1.6745852613640508,
          0.999841114061411,
          -0.12250406206919617,
          0.26156323926378544,
          0.5169319622405153,
          -1.9125469048881518,
          1.074372685602496,
          -0.5024805295735,
          0.0031277605922390705,
          1.3748806232891946,
          -1.1074508687421778,
          1.5574537688212207,
          1.2831603179429347,
          0.5013469520731579,
          1.3794450440281878,
          -0.9072120133028561,
          1.3787528991454883,
          1.660847479240699,
          0.6050801581014591,
          1.3298962259855855,
          -0.9312155274489626,
          1.305920026910215,
          1.1059750946999714,
          0.4806225762252776,
          0.9369520891270913,
          -1.18861050960155,
          1.4085358244557202,
          0.6978151321122068,
          0.24757080642694973,
          0.6929170587353255,
          -1.4098147581607918,
          1.236837992914606,
          0.34384249731087557,
          0.25487496863480086,
          0.6579132270244195,
          -1.554843312591271,
          1.213542550503993,
          0.01490916076006954
         ],
         "y0": " ",
         "yaxis": "y"
        },
        {
         "alignmentgroup": "True",
         "boxpoints": "all",
         "fillcolor": "rgba(255,255,255,0)",
         "hoveron": "points",
         "hovertemplate": "sc=6<br>theta=%{x}<br>diff=%{y}<extra></extra>",
         "legendgroup": "6",
         "line": {
          "color": "rgba(255,255,255,0)"
         },
         "marker": {
          "color": "#00cc96",
          "opacity": 0.5,
          "size": 5
         },
         "name": "6",
         "offsetgroup": "6",
         "orientation": "v",
         "pointpos": 0,
         "showlegend": false,
         "type": "box",
         "x": [
          "CSENT",
          "IPM",
          "HOUSE",
          "UNEMP",
          "LRIR",
          "CSENT",
          "IPM",
          "HOUSE",
          "UNEMP",
          "LRIR",
          "CSENT",
          "IPM",
          "HOUSE",
          "UNEMP",
          "LRIR",
          "CSENT",
          "IPM",
          "HOUSE",
          "UNEMP",
          "LRIR",
          "CSENT",
          "IPM",
          "HOUSE",
          "UNEMP",
          "LRIR",
          "CSENT",
          "IPM",
          "HOUSE",
          "UNEMP",
          "LRIR",
          "CSENT",
          "IPM",
          "HOUSE",
          "UNEMP",
          "LRIR",
          "CSENT",
          "IPM",
          "HOUSE",
          "UNEMP",
          "LRIR",
          "CSENT",
          "IPM",
          "HOUSE",
          "UNEMP",
          "LRIR",
          "CSENT",
          "IPM",
          "HOUSE",
          "UNEMP",
          "LRIR",
          "CSENT",
          "IPM",
          "HOUSE",
          "UNEMP",
          "LRIR",
          "CSENT",
          "IPM",
          "HOUSE",
          "UNEMP",
          "LRIR",
          "CSENT",
          "IPM",
          "HOUSE",
          "UNEMP",
          "LRIR",
          "CSENT",
          "IPM",
          "HOUSE",
          "UNEMP",
          "LRIR",
          "CSENT",
          "IPM",
          "HOUSE",
          "UNEMP",
          "LRIR",
          "CSENT",
          "IPM",
          "HOUSE",
          "UNEMP",
          "LRIR",
          "CSENT",
          "IPM",
          "HOUSE",
          "UNEMP",
          "LRIR",
          "CSENT",
          "IPM",
          "HOUSE",
          "UNEMP",
          "LRIR",
          "CSENT",
          "IPM",
          "HOUSE",
          "UNEMP",
          "LRIR",
          "CSENT",
          "IPM",
          "HOUSE",
          "UNEMP",
          "LRIR",
          "CSENT",
          "IPM",
          "HOUSE",
          "UNEMP",
          "LRIR",
          "CSENT",
          "IPM",
          "HOUSE",
          "UNEMP",
          "LRIR",
          "CSENT",
          "IPM",
          "HOUSE",
          "UNEMP",
          "LRIR",
          "CSENT",
          "IPM",
          "HOUSE",
          "UNEMP",
          "LRIR",
          "CSENT",
          "IPM",
          "HOUSE",
          "UNEMP",
          "LRIR",
          "CSENT",
          "IPM",
          "HOUSE",
          "UNEMP",
          "LRIR",
          "CSENT",
          "IPM",
          "HOUSE",
          "UNEMP",
          "LRIR",
          "CSENT",
          "IPM",
          "HOUSE",
          "UNEMP",
          "LRIR",
          "CSENT",
          "IPM",
          "HOUSE",
          "UNEMP",
          "LRIR",
          "CSENT",
          "IPM",
          "HOUSE",
          "UNEMP",
          "LRIR",
          "CSENT",
          "IPM",
          "HOUSE",
          "UNEMP",
          "LRIR",
          "CSENT",
          "IPM",
          "HOUSE",
          "UNEMP",
          "LRIR",
          "CSENT",
          "IPM",
          "HOUSE",
          "UNEMP",
          "LRIR",
          "CSENT",
          "IPM",
          "HOUSE",
          "UNEMP",
          "LRIR",
          "CSENT",
          "IPM",
          "HOUSE",
          "UNEMP",
          "LRIR",
          "CSENT",
          "IPM",
          "HOUSE",
          "UNEMP",
          "LRIR"
         ],
         "x0": " ",
         "xaxis": "x2",
         "y": [
          0.07517516823172987,
          0.05695386839252259,
          0.1595442592582046,
          0.04536671315228824,
          0.11343096194345148,
          0.061649620283474205,
          0.02853619219339465,
          0.20365480357440813,
          -0.01858039577915005,
          0.18391152864882854,
          0.035575160309852416,
          0.06233385575198325,
          0.19298508619550236,
          -0.0066259271570991984,
          0.09655797137871602,
          0.06423609064863567,
          0.0549678960485418,
          0.18599510794473395,
          0.0663389657959268,
          0.08196849040925525,
          0.09460844475198005,
          0.06244924755081849,
          0.18564769224894617,
          0.033226950715129266,
          0.06182627823788023,
          0.12993048486186698,
          0.08850026200471128,
          0.14762628274049572,
          0.0595407672546695,
          0.06893567012966062,
          -0.04567141397997976,
          -0.020927304635278365,
          0.05258024311627574,
          -0.04079912873279723,
          -0.09384006682884027,
          0.023321887323894286,
          -0.003274257187810825,
          0.0824305938874339,
          -0.016375022807668005,
          -0.018413591099856852,
          0.037556826679117084,
          0.012727491252494616,
          0.1490656190201628,
          -0.024633947692758618,
          0.11857424135812211,
          0.018178557913980375,
          0.005371272322888809,
          0.16593058564606555,
          -0.055100293219281005,
          0.1093517196957896,
          0.02065381153097534,
          0.029139464068938192,
          0.16069738679228818,
          -0.0029906025406060133,
          0.05587374224041164,
          0.05314178737621411,
          0.02670125794267797,
          0.16258475458040555,
          0.02101659313611748,
          0.04884209803878625,
          -0.037615601512165475,
          -0.03069069585074702,
          0.055658161115508364,
          -0.0377973842313184,
          -0.08014202344239041,
          -0.024825073823766086,
          -0.030269339899726688,
          0.05390403315682912,
          -0.04625505429541599,
          -0.05943626423247095,
          0.019996048872324756,
          -0.016105256041358817,
          0.09399953788306714,
          -0.049387381775910066,
          0.026843810827035908,
          0.009032983534853045,
          -0.006483118181946912,
          0.13364257885399988,
          -0.05553346180967378,
          0.08062699072884949,
          0.001256258068047189,
          -0.010907728507526748,
          0.138708457896362,
          -0.0517939260316751,
          0.06373039251674084,
          0.014500579632262589,
          0.006012978309090089,
          0.14055904878607106,
          -0.025022619575152616,
          0.0349623214654774,
          -0.022872739754398408,
          -0.06735895392589397,
          0.053074486239286345,
          -0.04336487116424381,
          -0.09382558025848309,
          -0.035239540223415466,
          -0.0428168473378866,
          0.04798744232359886,
          -0.051548750483797146,
          -0.06566819180110706,
          -0.012863233664155316,
          -0.037737877966625866,
          0.06465592632931616,
          -0.0687597071332452,
          -0.02147616885372461,
          0.007466600496911613,
          -0.020137528269035143,
          0.09738783508367976,
          -0.06496676708803306,
          0.0194537533895226,
          -0.006939138396531819,
          -0.02183531324732524,
          0.11658830569945045,
          -0.05948537152450095,
          0.04957239740324726,
          -0.008542204030336897,
          -0.025323262746657527,
          0.12061807165315375,
          -0.06667489056101328,
          0.03701684168923114,
          -0.013892052826819268,
          -0.07573089727250848,
          0.05256227049615059,
          -0.07035998123719567,
          -0.10419114931600404,
          -0.030758579878304215,
          -0.07144837927717873,
          0.04401989362953884,
          -0.05621423864291186,
          -0.08324647795152484,
          -0.029515011485670817,
          -0.05163032470786044,
          0.05178819462295858,
          -0.07278300131947735,
          -0.04011147214303934,
          -0.010656436585417817,
          -0.03731454627075581,
          0.07344953966512957,
          -0.07713276833837468,
          -0.017743926301396984,
          -0.003568283481552803,
          -0.028401128970714895,
          0.09164122221095072,
          -0.06704005884151143,
          0.007580307664191821,
          -0.01692108376655299,
          -0.0340501876960857,
          0.10455169918165308,
          -0.0735305037306978,
          0.030736101637018898,
          -0.00016398307185816474,
          -0.08107519625343418,
          0.05219741344736628,
          -0.09319713408753039,
          -0.07510538641750675,
          -0.026527190007257895,
          -0.07875512272024998,
          0.0419191980362581,
          -0.07871106408197592,
          -0.0970457440828646,
          -0.03231801321221561,
          -0.07561735078151144,
          0.04293079278850098,
          -0.0741051055262194,
          -0.061707036523092396,
          -0.026759558148697016,
          -0.05420122740371636,
          0.056736298451074196,
          -0.08464262229926578,
          -0.03957340555930777,
          -0.014606589217073918,
          -0.04235104487962138,
          0.07205399711210991,
          -0.07879837753809082,
          -0.020444184467497628,
          -0.015678043654446805,
          -0.04173338320992992,
          0.08223610908795664,
          -0.08019120013286973,
          -0.0009000566202965743
         ],
         "y0": " ",
         "yaxis": "y2"
        }
       ],
       "layout": {
        "annotations": [
         {
          "font": {
           "color": "grey",
           "size": 11
          },
          "showarrow": false,
          "text": "RMSE",
          "x": 0.225,
          "xanchor": "center",
          "xref": "paper",
          "y": 0.95,
          "yanchor": "bottom",
          "yref": "paper"
         },
         {
          "font": {
           "color": "grey",
           "size": 11
          },
          "showarrow": false,
          "text": "Adj-R2",
          "x": 0.775,
          "xanchor": "center",
          "xref": "paper",
          "y": 0.95,
          "yanchor": "bottom",
          "yref": "paper"
         }
        ],
        "height": 400,
        "legend": {
         "orientation": "h",
         "title": {
          "text": "Scopes:"
         },
         "x": 0.5,
         "xanchor": "center",
         "y": -0.1,
         "yanchor": "top"
        },
        "margin": {
         "b": 60,
         "l": 80,
         "r": 40,
         "t": 80
        },
        "template": {
         "data": {
          "bar": [
           {
            "error_x": {
             "color": "#f2f5fa"
            },
            "error_y": {
             "color": "#f2f5fa"
            },
            "marker": {
             "line": {
              "color": "rgb(17,17,17)",
              "width": 0.5
             },
             "pattern": {
              "fillmode": "overlay",
              "size": 10,
              "solidity": 0.2
             }
            },
            "type": "bar"
           }
          ],
          "barpolar": [
           {
            "marker": {
             "line": {
              "color": "rgb(17,17,17)",
              "width": 0.5
             },
             "pattern": {
              "fillmode": "overlay",
              "size": 10,
              "solidity": 0.2
             }
            },
            "type": "barpolar"
           }
          ],
          "carpet": [
           {
            "aaxis": {
             "endlinecolor": "#A2B1C6",
             "gridcolor": "#506784",
             "linecolor": "#506784",
             "minorgridcolor": "#506784",
             "startlinecolor": "#A2B1C6"
            },
            "baxis": {
             "endlinecolor": "#A2B1C6",
             "gridcolor": "#506784",
             "linecolor": "#506784",
             "minorgridcolor": "#506784",
             "startlinecolor": "#A2B1C6"
            },
            "type": "carpet"
           }
          ],
          "choropleth": [
           {
            "colorbar": {
             "outlinewidth": 0,
             "ticks": ""
            },
            "type": "choropleth"
           }
          ],
          "contour": [
           {
            "colorbar": {
             "outlinewidth": 0,
             "ticks": ""
            },
            "colorscale": [
             [
              0,
              "#0d0887"
             ],
             [
              0.1111111111111111,
              "#46039f"
             ],
             [
              0.2222222222222222,
              "#7201a8"
             ],
             [
              0.3333333333333333,
              "#9c179e"
             ],
             [
              0.4444444444444444,
              "#bd3786"
             ],
             [
              0.5555555555555556,
              "#d8576b"
             ],
             [
              0.6666666666666666,
              "#ed7953"
             ],
             [
              0.7777777777777778,
              "#fb9f3a"
             ],
             [
              0.8888888888888888,
              "#fdca26"
             ],
             [
              1,
              "#f0f921"
             ]
            ],
            "type": "contour"
           }
          ],
          "contourcarpet": [
           {
            "colorbar": {
             "outlinewidth": 0,
             "ticks": ""
            },
            "type": "contourcarpet"
           }
          ],
          "heatmap": [
           {
            "colorbar": {
             "outlinewidth": 0,
             "ticks": ""
            },
            "colorscale": [
             [
              0,
              "#0d0887"
             ],
             [
              0.1111111111111111,
              "#46039f"
             ],
             [
              0.2222222222222222,
              "#7201a8"
             ],
             [
              0.3333333333333333,
              "#9c179e"
             ],
             [
              0.4444444444444444,
              "#bd3786"
             ],
             [
              0.5555555555555556,
              "#d8576b"
             ],
             [
              0.6666666666666666,
              "#ed7953"
             ],
             [
              0.7777777777777778,
              "#fb9f3a"
             ],
             [
              0.8888888888888888,
              "#fdca26"
             ],
             [
              1,
              "#f0f921"
             ]
            ],
            "type": "heatmap"
           }
          ],
          "heatmapgl": [
           {
            "colorbar": {
             "outlinewidth": 0,
             "ticks": ""
            },
            "colorscale": [
             [
              0,
              "#0d0887"
             ],
             [
              0.1111111111111111,
              "#46039f"
             ],
             [
              0.2222222222222222,
              "#7201a8"
             ],
             [
              0.3333333333333333,
              "#9c179e"
             ],
             [
              0.4444444444444444,
              "#bd3786"
             ],
             [
              0.5555555555555556,
              "#d8576b"
             ],
             [
              0.6666666666666666,
              "#ed7953"
             ],
             [
              0.7777777777777778,
              "#fb9f3a"
             ],
             [
              0.8888888888888888,
              "#fdca26"
             ],
             [
              1,
              "#f0f921"
             ]
            ],
            "type": "heatmapgl"
           }
          ],
          "histogram": [
           {
            "marker": {
             "pattern": {
              "fillmode": "overlay",
              "size": 10,
              "solidity": 0.2
             }
            },
            "type": "histogram"
           }
          ],
          "histogram2d": [
           {
            "colorbar": {
             "outlinewidth": 0,
             "ticks": ""
            },
            "colorscale": [
             [
              0,
              "#0d0887"
             ],
             [
              0.1111111111111111,
              "#46039f"
             ],
             [
              0.2222222222222222,
              "#7201a8"
             ],
             [
              0.3333333333333333,
              "#9c179e"
             ],
             [
              0.4444444444444444,
              "#bd3786"
             ],
             [
              0.5555555555555556,
              "#d8576b"
             ],
             [
              0.6666666666666666,
              "#ed7953"
             ],
             [
              0.7777777777777778,
              "#fb9f3a"
             ],
             [
              0.8888888888888888,
              "#fdca26"
             ],
             [
              1,
              "#f0f921"
             ]
            ],
            "type": "histogram2d"
           }
          ],
          "histogram2dcontour": [
           {
            "colorbar": {
             "outlinewidth": 0,
             "ticks": ""
            },
            "colorscale": [
             [
              0,
              "#0d0887"
             ],
             [
              0.1111111111111111,
              "#46039f"
             ],
             [
              0.2222222222222222,
              "#7201a8"
             ],
             [
              0.3333333333333333,
              "#9c179e"
             ],
             [
              0.4444444444444444,
              "#bd3786"
             ],
             [
              0.5555555555555556,
              "#d8576b"
             ],
             [
              0.6666666666666666,
              "#ed7953"
             ],
             [
              0.7777777777777778,
              "#fb9f3a"
             ],
             [
              0.8888888888888888,
              "#fdca26"
             ],
             [
              1,
              "#f0f921"
             ]
            ],
            "type": "histogram2dcontour"
           }
          ],
          "mesh3d": [
           {
            "colorbar": {
             "outlinewidth": 0,
             "ticks": ""
            },
            "type": "mesh3d"
           }
          ],
          "parcoords": [
           {
            "line": {
             "colorbar": {
              "outlinewidth": 0,
              "ticks": ""
             }
            },
            "type": "parcoords"
           }
          ],
          "pie": [
           {
            "automargin": true,
            "type": "pie"
           }
          ],
          "scatter": [
           {
            "marker": {
             "line": {
              "color": "#283442"
             }
            },
            "type": "scatter"
           }
          ],
          "scatter3d": [
           {
            "line": {
             "colorbar": {
              "outlinewidth": 0,
              "ticks": ""
             }
            },
            "marker": {
             "colorbar": {
              "outlinewidth": 0,
              "ticks": ""
             }
            },
            "type": "scatter3d"
           }
          ],
          "scattercarpet": [
           {
            "marker": {
             "colorbar": {
              "outlinewidth": 0,
              "ticks": ""
             }
            },
            "type": "scattercarpet"
           }
          ],
          "scattergeo": [
           {
            "marker": {
             "colorbar": {
              "outlinewidth": 0,
              "ticks": ""
             }
            },
            "type": "scattergeo"
           }
          ],
          "scattergl": [
           {
            "marker": {
             "line": {
              "color": "#283442"
             }
            },
            "type": "scattergl"
           }
          ],
          "scattermapbox": [
           {
            "marker": {
             "colorbar": {
              "outlinewidth": 0,
              "ticks": ""
             }
            },
            "type": "scattermapbox"
           }
          ],
          "scatterpolar": [
           {
            "marker": {
             "colorbar": {
              "outlinewidth": 0,
              "ticks": ""
             }
            },
            "type": "scatterpolar"
           }
          ],
          "scatterpolargl": [
           {
            "marker": {
             "colorbar": {
              "outlinewidth": 0,
              "ticks": ""
             }
            },
            "type": "scatterpolargl"
           }
          ],
          "scatterternary": [
           {
            "marker": {
             "colorbar": {
              "outlinewidth": 0,
              "ticks": ""
             }
            },
            "type": "scatterternary"
           }
          ],
          "surface": [
           {
            "colorbar": {
             "outlinewidth": 0,
             "ticks": ""
            },
            "colorscale": [
             [
              0,
              "#0d0887"
             ],
             [
              0.1111111111111111,
              "#46039f"
             ],
             [
              0.2222222222222222,
              "#7201a8"
             ],
             [
              0.3333333333333333,
              "#9c179e"
             ],
             [
              0.4444444444444444,
              "#bd3786"
             ],
             [
              0.5555555555555556,
              "#d8576b"
             ],
             [
              0.6666666666666666,
              "#ed7953"
             ],
             [
              0.7777777777777778,
              "#fb9f3a"
             ],
             [
              0.8888888888888888,
              "#fdca26"
             ],
             [
              1,
              "#f0f921"
             ]
            ],
            "type": "surface"
           }
          ],
          "table": [
           {
            "cells": {
             "fill": {
              "color": "#506784"
             },
             "line": {
              "color": "rgb(17,17,17)"
             }
            },
            "header": {
             "fill": {
              "color": "#2a3f5f"
             },
             "line": {
              "color": "rgb(17,17,17)"
             }
            },
            "type": "table"
           }
          ]
         },
         "layout": {
          "annotationdefaults": {
           "arrowcolor": "#f2f5fa",
           "arrowhead": 0,
           "arrowwidth": 1
          },
          "autotypenumbers": "strict",
          "coloraxis": {
           "colorbar": {
            "outlinewidth": 0,
            "ticks": ""
           }
          },
          "colorscale": {
           "diverging": [
            [
             0,
             "#8e0152"
            ],
            [
             0.1,
             "#c51b7d"
            ],
            [
             0.2,
             "#de77ae"
            ],
            [
             0.3,
             "#f1b6da"
            ],
            [
             0.4,
             "#fde0ef"
            ],
            [
             0.5,
             "#f7f7f7"
            ],
            [
             0.6,
             "#e6f5d0"
            ],
            [
             0.7,
             "#b8e186"
            ],
            [
             0.8,
             "#7fbc41"
            ],
            [
             0.9,
             "#4d9221"
            ],
            [
             1,
             "#276419"
            ]
           ],
           "sequential": [
            [
             0,
             "#0d0887"
            ],
            [
             0.1111111111111111,
             "#46039f"
            ],
            [
             0.2222222222222222,
             "#7201a8"
            ],
            [
             0.3333333333333333,
             "#9c179e"
            ],
            [
             0.4444444444444444,
             "#bd3786"
            ],
            [
             0.5555555555555556,
             "#d8576b"
            ],
            [
             0.6666666666666666,
             "#ed7953"
            ],
            [
             0.7777777777777778,
             "#fb9f3a"
            ],
            [
             0.8888888888888888,
             "#fdca26"
            ],
            [
             1,
             "#f0f921"
            ]
           ],
           "sequentialminus": [
            [
             0,
             "#0d0887"
            ],
            [
             0.1111111111111111,
             "#46039f"
            ],
            [
             0.2222222222222222,
             "#7201a8"
            ],
            [
             0.3333333333333333,
             "#9c179e"
            ],
            [
             0.4444444444444444,
             "#bd3786"
            ],
            [
             0.5555555555555556,
             "#d8576b"
            ],
            [
             0.6666666666666666,
             "#ed7953"
            ],
            [
             0.7777777777777778,
             "#fb9f3a"
            ],
            [
             0.8888888888888888,
             "#fdca26"
            ],
            [
             1,
             "#f0f921"
            ]
           ]
          },
          "colorway": [
           "#636efa",
           "#EF553B",
           "#00cc96",
           "#ab63fa",
           "#FFA15A",
           "#19d3f3",
           "#FF6692",
           "#B6E880",
           "#FF97FF",
           "#FECB52"
          ],
          "font": {
           "color": "#f2f5fa"
          },
          "geo": {
           "bgcolor": "rgb(17,17,17)",
           "lakecolor": "rgb(17,17,17)",
           "landcolor": "rgb(17,17,17)",
           "showlakes": true,
           "showland": true,
           "subunitcolor": "#506784"
          },
          "hoverlabel": {
           "align": "left"
          },
          "hovermode": "closest",
          "mapbox": {
           "style": "dark"
          },
          "paper_bgcolor": "rgb(17,17,17)",
          "plot_bgcolor": "rgb(17,17,17)",
          "polar": {
           "angularaxis": {
            "gridcolor": "#506784",
            "linecolor": "#506784",
            "ticks": ""
           },
           "bgcolor": "rgb(17,17,17)",
           "radialaxis": {
            "gridcolor": "#506784",
            "linecolor": "#506784",
            "ticks": ""
           }
          },
          "scene": {
           "xaxis": {
            "backgroundcolor": "rgb(17,17,17)",
            "gridcolor": "#506784",
            "gridwidth": 2,
            "linecolor": "#506784",
            "showbackground": true,
            "ticks": "",
            "zerolinecolor": "#C8D4E3"
           },
           "yaxis": {
            "backgroundcolor": "rgb(17,17,17)",
            "gridcolor": "#506784",
            "gridwidth": 2,
            "linecolor": "#506784",
            "showbackground": true,
            "ticks": "",
            "zerolinecolor": "#C8D4E3"
           },
           "zaxis": {
            "backgroundcolor": "rgb(17,17,17)",
            "gridcolor": "#506784",
            "gridwidth": 2,
            "linecolor": "#506784",
            "showbackground": true,
            "ticks": "",
            "zerolinecolor": "#C8D4E3"
           }
          },
          "shapedefaults": {
           "line": {
            "color": "#f2f5fa"
           }
          },
          "sliderdefaults": {
           "bgcolor": "#C8D4E3",
           "bordercolor": "rgb(17,17,17)",
           "borderwidth": 1,
           "tickwidth": 0
          },
          "ternary": {
           "aaxis": {
            "gridcolor": "#506784",
            "linecolor": "#506784",
            "ticks": ""
           },
           "baxis": {
            "gridcolor": "#506784",
            "linecolor": "#506784",
            "ticks": ""
           },
           "bgcolor": "rgb(17,17,17)",
           "caxis": {
            "gridcolor": "#506784",
            "linecolor": "#506784",
            "ticks": ""
           }
          },
          "title": {
           "x": 0.05
          },
          "updatemenudefaults": {
           "bgcolor": "#506784",
           "borderwidth": 0
          },
          "xaxis": {
           "automargin": true,
           "gridcolor": "#283442",
           "linecolor": "#506784",
           "ticks": "",
           "title": {
            "standoff": 15
           },
           "zerolinecolor": "#283442",
           "zerolinewidth": 2
          },
          "yaxis": {
           "automargin": true,
           "gridcolor": "#283442",
           "linecolor": "#506784",
           "ticks": "",
           "title": {
            "standoff": 15
           },
           "zerolinecolor": "#283442",
           "zerolinewidth": 2
          }
         }
        },
        "title": {
         "text": "Observe Backward Elimination in All Models With Repect to Scopes<br><span style=\"font-size: 12.5px; color: lightgrey;\"> -- How meansures are changed by removing the impact of each coefficient</span>"
        },
        "width": 800,
        "xaxis": {
         "anchor": "y",
         "domain": [
          0,
          0.45
         ]
        },
        "xaxis2": {
         "anchor": "y2",
         "domain": [
          0.55,
          1
         ]
        },
        "yaxis": {
         "anchor": "x",
         "domain": [
          0,
          1
         ],
         "title": {
          "text": "Difference"
         }
        },
        "yaxis2": {
         "anchor": "x2",
         "domain": [
          0,
          1
         ]
        }
       }
      }
     },
     "metadata": {},
     "output_type": "display_data"
    },
    {
     "data": {
      "application/vnd.plotly.v1+json": {
       "config": {
        "plotlyServerURL": "https://plot.ly"
       },
       "data": [
        {
         "alignmentgroup": "True",
         "boxpoints": "all",
         "fillcolor": "rgba(255,255,255,0)",
         "hoveron": "points",
         "hovertemplate": "ma=1<br>theta=%{x}<br>diff=%{y}<extra></extra>",
         "legendgroup": "1",
         "line": {
          "color": "rgba(255,255,255,0)"
         },
         "marker": {
          "color": "#636efa",
          "opacity": 0.5,
          "size": 5
         },
         "name": "1",
         "offsetgroup": "1",
         "orientation": "v",
         "pointpos": 0,
         "showlegend": true,
         "type": "box",
         "x": [
          "CSENT",
          "IPM",
          "HOUSE",
          "UNEMP",
          "LRIR",
          "CSENT",
          "IPM",
          "HOUSE",
          "UNEMP",
          "LRIR",
          "CSENT",
          "IPM",
          "HOUSE",
          "UNEMP",
          "LRIR",
          "CSENT",
          "IPM",
          "HOUSE",
          "UNEMP",
          "LRIR",
          "CSENT",
          "IPM",
          "HOUSE",
          "UNEMP",
          "LRIR",
          "CSENT",
          "IPM",
          "HOUSE",
          "UNEMP",
          "LRIR",
          "CSENT",
          "IPM",
          "HOUSE",
          "UNEMP",
          "LRIR",
          "CSENT",
          "IPM",
          "HOUSE",
          "UNEMP",
          "LRIR",
          "CSENT",
          "IPM",
          "HOUSE",
          "UNEMP",
          "LRIR",
          "CSENT",
          "IPM",
          "HOUSE",
          "UNEMP",
          "LRIR",
          "CSENT",
          "IPM",
          "HOUSE",
          "UNEMP",
          "LRIR",
          "CSENT",
          "IPM",
          "HOUSE",
          "UNEMP",
          "LRIR",
          "CSENT",
          "IPM",
          "HOUSE",
          "UNEMP",
          "LRIR",
          "CSENT",
          "IPM",
          "HOUSE",
          "UNEMP",
          "LRIR",
          "CSENT",
          "IPM",
          "HOUSE",
          "UNEMP",
          "LRIR",
          "CSENT",
          "IPM",
          "HOUSE",
          "UNEMP",
          "LRIR",
          "CSENT",
          "IPM",
          "HOUSE",
          "UNEMP",
          "LRIR",
          "CSENT",
          "IPM",
          "HOUSE",
          "UNEMP",
          "LRIR"
         ],
         "x0": " ",
         "xaxis": "x",
         "y": [
          -3.4397144265132087,
          -2.812822388896051,
          -2.684123773621594,
          -0.9828953909752522,
          -0.9242737464097646,
          -3.8781568754524027,
          -2.840826182876609,
          -3.105460387693202,
          -0.8658690670632341,
          -1.4282561553784756,
          -4.0692743432663665,
          -2.965727961494472,
          -3.1553905592820763,
          -1.150644278081959,
          -1.1023976934651625,
          -3.727128652205276,
          -2.423033016700746,
          -2.642952335962539,
          -1.0518265206646982,
          -1.0446103698305453,
          -4.287521234398346,
          -2.783977374106972,
          -2.4179098873446447,
          -1.0412012875728172,
          -1.4343038353215656,
          -4.5609040853600575,
          -2.76731122228746,
          -2.1890793927699352,
          -1.185650205119293,
          -1.2850395455114283,
          -2.44349106550281,
          -1.9524458577288772,
          -2.90615328096181,
          -1.3063846238468875,
          -1.3407370658615028,
          -2.2463510526215265,
          -1.3914701844898953,
          -2.9748796774097315,
          0.03525132675067333,
          -2.4498779386905536,
          -1.8588294608227143,
          -1.8722562013460964,
          -3.2722712115362294,
          -0.4769956062862306,
          -0.46852166407080986,
          -1.461106370456485,
          -1.4656156563289207,
          -3.2352663862618165,
          -1.2484922586839673,
          -0.8793999610537924,
          -1.8665127728388349,
          -1.002631085122447,
          -2.760828204468358,
          -0.15127973329031086,
          -1.0289027936204418,
          -2.401837061929017,
          -1.602066840301215,
          -1.9181510858175361,
          -0.3521374020847867,
          -1.4084725783930887,
          -1.0564293632760773,
          -0.7883447183046535,
          -2.43246726079387,
          -0.6221643072769325,
          -1.6497112279654775,
          -0.8136955923386715,
          -0.36789889753949545,
          -3.0521514096295705,
          0.2322864533570268,
          -2.698501327624884,
          -0.46079061147775846,
          -0.8229404573383015,
          -2.856969049180945,
          0.08345236899513964,
          -1.3085805472085337,
          -0.8506524908456043,
          -0.7230004482965207,
          -2.7384932068365906,
          -0.8798696293576551,
          -1.1000953621041258,
          -1.3260481734346623,
          -0.8525543781895042,
          -2.8457381826275414,
          -0.44365706629625024,
          -0.8436367528722446,
          -1.866538923890837,
          -1.2261071591582553,
          -2.1568392596627213,
          -0.8060744036990961,
          -0.9401087230824015
         ],
         "y0": " ",
         "yaxis": "y"
        },
        {
         "alignmentgroup": "True",
         "boxpoints": "all",
         "fillcolor": "rgba(255,255,255,0)",
         "hoveron": "points",
         "hovertemplate": "ma=1<br>theta=%{x}<br>diff=%{y}<extra></extra>",
         "legendgroup": "1",
         "line": {
          "color": "rgba(255,255,255,0)"
         },
         "marker": {
          "color": "#636efa",
          "opacity": 0.5,
          "size": 5
         },
         "name": "1",
         "offsetgroup": "1",
         "orientation": "v",
         "pointpos": 0,
         "showlegend": false,
         "type": "box",
         "x": [
          "CSENT",
          "IPM",
          "HOUSE",
          "UNEMP",
          "LRIR",
          "CSENT",
          "IPM",
          "HOUSE",
          "UNEMP",
          "LRIR",
          "CSENT",
          "IPM",
          "HOUSE",
          "UNEMP",
          "LRIR",
          "CSENT",
          "IPM",
          "HOUSE",
          "UNEMP",
          "LRIR",
          "CSENT",
          "IPM",
          "HOUSE",
          "UNEMP",
          "LRIR",
          "CSENT",
          "IPM",
          "HOUSE",
          "UNEMP",
          "LRIR",
          "CSENT",
          "IPM",
          "HOUSE",
          "UNEMP",
          "LRIR",
          "CSENT",
          "IPM",
          "HOUSE",
          "UNEMP",
          "LRIR",
          "CSENT",
          "IPM",
          "HOUSE",
          "UNEMP",
          "LRIR",
          "CSENT",
          "IPM",
          "HOUSE",
          "UNEMP",
          "LRIR",
          "CSENT",
          "IPM",
          "HOUSE",
          "UNEMP",
          "LRIR",
          "CSENT",
          "IPM",
          "HOUSE",
          "UNEMP",
          "LRIR",
          "CSENT",
          "IPM",
          "HOUSE",
          "UNEMP",
          "LRIR",
          "CSENT",
          "IPM",
          "HOUSE",
          "UNEMP",
          "LRIR",
          "CSENT",
          "IPM",
          "HOUSE",
          "UNEMP",
          "LRIR",
          "CSENT",
          "IPM",
          "HOUSE",
          "UNEMP",
          "LRIR",
          "CSENT",
          "IPM",
          "HOUSE",
          "UNEMP",
          "LRIR",
          "CSENT",
          "IPM",
          "HOUSE",
          "UNEMP",
          "LRIR"
         ],
         "x0": " ",
         "xaxis": "x2",
         "y": [
          0.15812703688290086,
          0.13644617195459152,
          0.13160152953320636,
          0.0549597453062437,
          0.05190117776922498,
          0.17198489307445652,
          0.13788322824023957,
          0.14740872624510115,
          0.04893211830664712,
          0.07746997631133579,
          0.18115497776680978,
          0.14521582571567493,
          0.15209101492185972,
          0.06475684610128885,
          0.062255911447379186,
          0.16139668938915475,
          0.11763786375208252,
          0.125976491768097,
          0.05686852947332288,
          0.05650870480612591,
          0.1783366371583326,
          0.1326245145964985,
          0.11874373072918776,
          0.05689577866858142,
          0.07611005860521924,
          0.1837162304430937,
          0.13138304466758566,
          0.10900898976276452,
          0.06381479417764568,
          0.0686517623171965,
          0.14713951761044097,
          0.12145125676441093,
          0.1695568115632462,
          0.0846797546607283,
          0.08672003650401672,
          0.1342604257104978,
          0.08796965258966538,
          0.16905074662800657,
          -0.002431722668526537,
          0.1444112146565426,
          0.11452448299073636,
          0.11525042077475067,
          0.18297042805408426,
          0.032044259941385045,
          0.03149098447614607,
          0.09282226888304812,
          0.09308214947114268,
          0.18243986048292749,
          0.08038310104122037,
          0.05792525424993089,
          0.10913575781091034,
          0.06210613644491303,
          0.15150130209208224,
          0.009888481639684588,
          0.06362482588255625,
          0.1365543207835942,
          0.09622477463704315,
          0.11277716680249661,
          0.022916318449621942,
          0.0856909386152146,
          0.07517516823172987,
          0.05695386839252259,
          0.1595442592582046,
          0.04536671315228824,
          0.11343096194345148,
          0.061649620283474205,
          0.02853619219339465,
          0.20365480357440813,
          -0.01858039577915005,
          0.18391152864882854,
          0.035575160309852416,
          0.06233385575198325,
          0.19298508619550236,
          -0.0066259271570991984,
          0.09655797137871602,
          0.06423609064863567,
          0.0549678960485418,
          0.18599510794473395,
          0.0663389657959268,
          0.08196849040925525,
          0.09460844475198005,
          0.06244924755081849,
          0.18564769224894617,
          0.033226950715129266,
          0.06182627823788023,
          0.12993048486186698,
          0.08850026200471128,
          0.14762628274049572,
          0.0595407672546695,
          0.06893567012966062
         ],
         "y0": " ",
         "yaxis": "y2"
        },
        {
         "alignmentgroup": "True",
         "boxpoints": "all",
         "fillcolor": "rgba(255,255,255,0)",
         "hoveron": "points",
         "hovertemplate": "ma=2<br>theta=%{x}<br>diff=%{y}<extra></extra>",
         "legendgroup": "2",
         "line": {
          "color": "rgba(255,255,255,0)"
         },
         "marker": {
          "color": "#EF553B",
          "opacity": 0.5,
          "size": 5
         },
         "name": "2",
         "offsetgroup": "2",
         "orientation": "v",
         "pointpos": 0,
         "showlegend": true,
         "type": "box",
         "x": [
          "CSENT",
          "IPM",
          "HOUSE",
          "UNEMP",
          "LRIR",
          "CSENT",
          "IPM",
          "HOUSE",
          "UNEMP",
          "LRIR",
          "CSENT",
          "IPM",
          "HOUSE",
          "UNEMP",
          "LRIR",
          "CSENT",
          "IPM",
          "HOUSE",
          "UNEMP",
          "LRIR",
          "CSENT",
          "IPM",
          "HOUSE",
          "UNEMP",
          "LRIR",
          "CSENT",
          "IPM",
          "HOUSE",
          "UNEMP",
          "LRIR",
          "CSENT",
          "IPM",
          "HOUSE",
          "UNEMP",
          "LRIR",
          "CSENT",
          "IPM",
          "HOUSE",
          "UNEMP",
          "LRIR",
          "CSENT",
          "IPM",
          "HOUSE",
          "UNEMP",
          "LRIR",
          "CSENT",
          "IPM",
          "HOUSE",
          "UNEMP",
          "LRIR",
          "CSENT",
          "IPM",
          "HOUSE",
          "UNEMP",
          "LRIR",
          "CSENT",
          "IPM",
          "HOUSE",
          "UNEMP",
          "LRIR",
          "CSENT",
          "IPM",
          "HOUSE",
          "UNEMP",
          "LRIR",
          "CSENT",
          "IPM",
          "HOUSE",
          "UNEMP",
          "LRIR",
          "CSENT",
          "IPM",
          "HOUSE",
          "UNEMP",
          "LRIR",
          "CSENT",
          "IPM",
          "HOUSE",
          "UNEMP",
          "LRIR",
          "CSENT",
          "IPM",
          "HOUSE",
          "UNEMP",
          "LRIR",
          "CSENT",
          "IPM",
          "HOUSE",
          "UNEMP",
          "LRIR"
         ],
         "x0": " ",
         "xaxis": "x",
         "y": [
          -1.8416340773361468,
          -0.8529463572852984,
          -0.751403666023279,
          1.3789345222504972,
          1.332177231413164,
          -2.0536348491969156,
          -1.227670575999034,
          -0.7237170773046975,
          0.8823053941035717,
          1.0827645915588286,
          -2.2160409712485496,
          -1.3290888790080713,
          -1.4470321549999516,
          0.5361325350088375,
          0.29435421731222355,
          -2.6059127131506896,
          -1.475909545944135,
          -1.7038573370143348,
          0.36731887975392574,
          0.19191052251729168,
          -2.469017809328992,
          -1.2445342257981977,
          -1.4827568233738235,
          0.2785750354121763,
          0.380410273485686,
          -2.638570594615992,
          -1.2067958384732362,
          -1.1666226586702724,
          0.2674189499179409,
          0.18224025734352534,
          -0.30683383069314374,
          -0.0007843458331260322,
          -1.2374302860930824,
          0.7862046550491835,
          1.8121356813439933,
          -1.5713421040530937,
          -0.7074480919644373,
          -1.6387211672945048,
          0.011483436306148675,
          0.8775783245285131,
          -1.8356594722413409,
          -0.9933736148350301,
          -2.5042684791250167,
          0.14519976972533755,
          -1.3373438738165095,
          -1.586673723611118,
          -0.8301678626381648,
          -2.650015985828234,
          0.6776511658276849,
          -0.7406297096037946,
          -1.1141536410335107,
          -1.0741396491867388,
          -2.847040598646143,
          -0.1341970940582522,
          -0.012352336738596037,
          -1.1986151887557899,
          -0.5697696799265,
          -2.686562970558689,
          -0.07354863161598058,
          -0.41949149521961093,
          0.7424826339176995,
          0.34961488762993387,
          -0.9681189324980455,
          0.6667296411434842,
          1.4546727279627145,
          -0.36460256251450485,
          0.049832329077669435,
          -1.3807892915042403,
          0.24613080709632928,
          0.2762471609531163,
          -0.5412913153073227,
          -0.17951336817572638,
          -2.4241109167636656,
          0.33714980753901536,
          -1.8564347463189295,
          -0.2503176403888805,
          -0.0732146912985403,
          -2.651977563117324,
          0.7185948951814556,
          -1.6365293251892608,
          -0.282179949799783,
          -0.4008300841822052,
          -2.5166555664003214,
          0.040120241857694694,
          -0.7859816524498964,
          -0.7597101361067287,
          -0.37310649081484115,
          -2.6135889358517854,
          -0.2922940845255404,
          -0.6955787802712834
         ],
         "y0": " ",
         "yaxis": "y"
        },
        {
         "alignmentgroup": "True",
         "boxpoints": "all",
         "fillcolor": "rgba(255,255,255,0)",
         "hoveron": "points",
         "hovertemplate": "ma=2<br>theta=%{x}<br>diff=%{y}<extra></extra>",
         "legendgroup": "2",
         "line": {
          "color": "rgba(255,255,255,0)"
         },
         "marker": {
          "color": "#EF553B",
          "opacity": 0.5,
          "size": 5
         },
         "name": "2",
         "offsetgroup": "2",
         "orientation": "v",
         "pointpos": 0,
         "showlegend": false,
         "type": "box",
         "x": [
          "CSENT",
          "IPM",
          "HOUSE",
          "UNEMP",
          "LRIR",
          "CSENT",
          "IPM",
          "HOUSE",
          "UNEMP",
          "LRIR",
          "CSENT",
          "IPM",
          "HOUSE",
          "UNEMP",
          "LRIR",
          "CSENT",
          "IPM",
          "HOUSE",
          "UNEMP",
          "LRIR",
          "CSENT",
          "IPM",
          "HOUSE",
          "UNEMP",
          "LRIR",
          "CSENT",
          "IPM",
          "HOUSE",
          "UNEMP",
          "LRIR",
          "CSENT",
          "IPM",
          "HOUSE",
          "UNEMP",
          "LRIR",
          "CSENT",
          "IPM",
          "HOUSE",
          "UNEMP",
          "LRIR",
          "CSENT",
          "IPM",
          "HOUSE",
          "UNEMP",
          "LRIR",
          "CSENT",
          "IPM",
          "HOUSE",
          "UNEMP",
          "LRIR",
          "CSENT",
          "IPM",
          "HOUSE",
          "UNEMP",
          "LRIR",
          "CSENT",
          "IPM",
          "HOUSE",
          "UNEMP",
          "LRIR",
          "CSENT",
          "IPM",
          "HOUSE",
          "UNEMP",
          "LRIR",
          "CSENT",
          "IPM",
          "HOUSE",
          "UNEMP",
          "LRIR",
          "CSENT",
          "IPM",
          "HOUSE",
          "UNEMP",
          "LRIR",
          "CSENT",
          "IPM",
          "HOUSE",
          "UNEMP",
          "LRIR",
          "CSENT",
          "IPM",
          "HOUSE",
          "UNEMP",
          "LRIR",
          "CSENT",
          "IPM",
          "HOUSE",
          "UNEMP",
          "LRIR"
         ],
         "x0": " ",
         "xaxis": "x2",
         "y": [
          0.06530826688583569,
          0.03379677279548843,
          0.03009443799270095,
          -0.06759213117475515,
          -0.06503802135681824,
          0.0781784432137097,
          0.050993294835173564,
          0.031592258091967085,
          -0.04446520094764983,
          -0.055479078378380065,
          0.08851035518973527,
          0.058025301986194266,
          0.062459199479301564,
          -0.02759745296588756,
          -0.014853634695272122,
          0.1025657923719211,
          0.06507146890894588,
          0.07349567249145861,
          -0.019028884320733352,
          -0.009800975970055914,
          0.0962774321580997,
          0.05489966767157284,
          0.06393178914517783,
          -0.014062269851826459,
          -0.019364771850361562,
          0.09936626987695296,
          0.05266318287055871,
          0.05110580846642876,
          -0.013316345877793956,
          -0.009009972215828665,
          0.01508298110102635,
          0.00003956633728730008,
          0.055981241481095734,
          -0.04226438715225056,
          -0.10524100939895564,
          0.08103092602686424,
          0.039047981322412606,
          0.08404188286704917,
          -0.0006685013799706541,
          -0.054279284996538446,
          0.09982429759069178,
          0.057526882340672825,
          0.12916639337176428,
          -0.009101463786172603,
          0.07551853605527303,
          0.08634313085675072,
          0.04780474124197265,
          0.1324121608116824,
          -0.043299301391004796,
          0.042926330626308906,
          0.06420265219509202,
          0.062076523098113956,
          0.1434368853844301,
          0.008282759903219694,
          0.0007686880846764499,
          0.067304778123081,
          0.0334901790654778,
          0.13416101866356112,
          0.004475499560010143,
          0.02492034472505744,
          -0.04567141397997976,
          -0.020927304635278365,
          0.05258024311627574,
          -0.04079912873279723,
          -0.09384006682884027,
          0.023321887323894286,
          -0.003274257187810825,
          0.0824305938874339,
          -0.016375022807668005,
          -0.018413591099856852,
          0.037556826679117084,
          0.012727491252494616,
          0.1490656190201628,
          -0.024633947692758618,
          0.11857424135812211,
          0.018178557913980375,
          0.005371272322888809,
          0.16593058564606555,
          -0.055100293219281005,
          0.1093517196957896,
          0.02065381153097534,
          0.029139464068938192,
          0.16069738679228818,
          -0.0029906025406060133,
          0.05587374224041164,
          0.05314178737621411,
          0.02670125794267797,
          0.16258475458040555,
          0.02101659313611748,
          0.04884209803878625
         ],
         "y0": " ",
         "yaxis": "y2"
        },
        {
         "alignmentgroup": "True",
         "boxpoints": "all",
         "fillcolor": "rgba(255,255,255,0)",
         "hoveron": "points",
         "hovertemplate": "ma=3<br>theta=%{x}<br>diff=%{y}<extra></extra>",
         "legendgroup": "3",
         "line": {
          "color": "rgba(255,255,255,0)"
         },
         "marker": {
          "color": "#00cc96",
          "opacity": 0.5,
          "size": 5
         },
         "name": "3",
         "offsetgroup": "3",
         "orientation": "v",
         "pointpos": 0,
         "showlegend": true,
         "type": "box",
         "x": [
          "CSENT",
          "IPM",
          "HOUSE",
          "UNEMP",
          "LRIR",
          "CSENT",
          "IPM",
          "HOUSE",
          "UNEMP",
          "LRIR",
          "CSENT",
          "IPM",
          "HOUSE",
          "UNEMP",
          "LRIR",
          "CSENT",
          "IPM",
          "HOUSE",
          "UNEMP",
          "LRIR",
          "CSENT",
          "IPM",
          "HOUSE",
          "UNEMP",
          "LRIR",
          "CSENT",
          "IPM",
          "HOUSE",
          "UNEMP",
          "LRIR",
          "CSENT",
          "IPM",
          "HOUSE",
          "UNEMP",
          "LRIR",
          "CSENT",
          "IPM",
          "HOUSE",
          "UNEMP",
          "LRIR",
          "CSENT",
          "IPM",
          "HOUSE",
          "UNEMP",
          "LRIR",
          "CSENT",
          "IPM",
          "HOUSE",
          "UNEMP",
          "LRIR",
          "CSENT",
          "IPM",
          "HOUSE",
          "UNEMP",
          "LRIR",
          "CSENT",
          "IPM",
          "HOUSE",
          "UNEMP",
          "LRIR",
          "CSENT",
          "IPM",
          "HOUSE",
          "UNEMP",
          "LRIR",
          "CSENT",
          "IPM",
          "HOUSE",
          "UNEMP",
          "LRIR",
          "CSENT",
          "IPM",
          "HOUSE",
          "UNEMP",
          "LRIR",
          "CSENT",
          "IPM",
          "HOUSE",
          "UNEMP",
          "LRIR",
          "CSENT",
          "IPM",
          "HOUSE",
          "UNEMP",
          "LRIR",
          "CSENT",
          "IPM",
          "HOUSE",
          "UNEMP",
          "LRIR"
         ],
         "x0": " ",
         "xaxis": "x",
         "y": [
          -1.2461206632565607,
          -0.1712862377810609,
          -0.6416124820180853,
          1.9701297854812525,
          1.7314479975357022,
          -1.4897802043626829,
          -0.3774281322113593,
          -0.28014698892489864,
          1.6556330221482343,
          1.6821245021541866,
          -1.5705550432186555,
          -0.61208465898219,
          -0.44374638946343303,
          1.3430185109767434,
          1.3794748461220623,
          -1.8220608186493479,
          -0.8077430604437659,
          -0.9475433915861675,
          0.9667507373338049,
          0.9069118443641759,
          -1.9287067276473255,
          -0.7255807011462503,
          -0.9532269989155342,
          0.8575526091252126,
          0.8612556278690873,
          -2.0456520298189176,
          -0.715521106388195,
          -0.7609340255303181,
          0.7649043222469869,
          0.8400848423577836,
          -0.36919386389995523,
          0.22800217451702842,
          -1.275876169313868,
          0.9832725986032784,
          1.6891440526863333,
          -0.677919566993678,
          0.08809036107211288,
          -1.2063074127138647,
          0.8726893403650022,
          1.5473690845654984,
          -1.4385619794191724,
          -0.30845001163452235,
          -1.647070106795688,
          0.83124957732442,
          0.38203451479383066,
          -1.3503219622603861,
          -0.4833094304467478,
          -2.15789469830821,
          0.8742584304150247,
          -0.2907047760250627,
          -0.9621858134926953,
          -0.3712840639435635,
          -2.395318516471532,
          0.8355284574517876,
          -0.10438534151681722,
          -0.858053512160251,
          -0.3678171237028929,
          -2.4312027355449084,
          0.5484562924348033,
          0.1299053215165742,
          0.6453649812577584,
          0.5310820658828481,
          -1.097597659099681,
          0.6483399473362201,
          1.310042124697854,
          0.4184520156678655,
          0.5069410482017993,
          -1.0149755908726608,
          0.7606464160104691,
          0.9634683040093117,
          -0.31860140626705125,
          0.24697093235206946,
          -1.649106535851847,
          0.7336363071801904,
          -0.43105279060730606,
          -0.13242201434290024,
          0.09369832483049212,
          -2.265526392759015,
          0.7700562905810893,
          -1.2742050058416785,
          -0.018003271323097536,
          0.15466359653500739,
          -2.317920917700496,
          0.7102255440536762,
          -0.9705596943538746,
          -0.21008642841403713,
          -0.08644745147531019,
          -2.3519469099308674,
          0.35023991204323224,
          -0.5164485482262746
         ],
         "y0": " ",
         "yaxis": "y"
        },
        {
         "alignmentgroup": "True",
         "boxpoints": "all",
         "fillcolor": "rgba(255,255,255,0)",
         "hoveron": "points",
         "hovertemplate": "ma=3<br>theta=%{x}<br>diff=%{y}<extra></extra>",
         "legendgroup": "3",
         "line": {
          "color": "rgba(255,255,255,0)"
         },
         "marker": {
          "color": "#00cc96",
          "opacity": 0.5,
          "size": 5
         },
         "name": "3",
         "offsetgroup": "3",
         "orientation": "v",
         "pointpos": 0,
         "showlegend": false,
         "type": "box",
         "x": [
          "CSENT",
          "IPM",
          "HOUSE",
          "UNEMP",
          "LRIR",
          "CSENT",
          "IPM",
          "HOUSE",
          "UNEMP",
          "LRIR",
          "CSENT",
          "IPM",
          "HOUSE",
          "UNEMP",
          "LRIR",
          "CSENT",
          "IPM",
          "HOUSE",
          "UNEMP",
          "LRIR",
          "CSENT",
          "IPM",
          "HOUSE",
          "UNEMP",
          "LRIR",
          "CSENT",
          "IPM",
          "HOUSE",
          "UNEMP",
          "LRIR",
          "CSENT",
          "IPM",
          "HOUSE",
          "UNEMP",
          "LRIR",
          "CSENT",
          "IPM",
          "HOUSE",
          "UNEMP",
          "LRIR",
          "CSENT",
          "IPM",
          "HOUSE",
          "UNEMP",
          "LRIR",
          "CSENT",
          "IPM",
          "HOUSE",
          "UNEMP",
          "LRIR",
          "CSENT",
          "IPM",
          "HOUSE",
          "UNEMP",
          "LRIR",
          "CSENT",
          "IPM",
          "HOUSE",
          "UNEMP",
          "LRIR",
          "CSENT",
          "IPM",
          "HOUSE",
          "UNEMP",
          "LRIR",
          "CSENT",
          "IPM",
          "HOUSE",
          "UNEMP",
          "LRIR",
          "CSENT",
          "IPM",
          "HOUSE",
          "UNEMP",
          "LRIR",
          "CSENT",
          "IPM",
          "HOUSE",
          "UNEMP",
          "LRIR",
          "CSENT",
          "IPM",
          "HOUSE",
          "UNEMP",
          "LRIR",
          "CSENT",
          "IPM",
          "HOUSE",
          "UNEMP",
          "LRIR"
         ],
         "x0": " ",
         "xaxis": "x2",
         "y": [
          0.041851448437190575,
          0.006553021701464767,
          0.023234843396230942,
          -0.09371221464260271,
          -0.08056247831614693,
          0.05101600786740035,
          0.014745604662074752,
          0.01106316834021337,
          -0.0792828652137797,
          -0.08074473659540626,
          0.0572047784719979,
          0.024834655908013925,
          0.01832799941841734,
          -0.06586210559992356,
          -0.06786771787489387,
          0.06904305756441775,
          0.03415053107285071,
          0.03948832929497825,
          -0.04829134688617476,
          -0.04506759290721318,
          0.0720573959295222,
          0.030880018863287395,
          0.03963080124853691,
          -0.0423627355951498,
          -0.042559443512985795,
          0.0749498626351599,
          0.03033000005379849,
          0.032105609710566196,
          -0.03731851094916028,
          -0.041259481411601406,
          0.01675912079727826,
          -0.010941790190181044,
          0.05288819310161752,
          -0.05041536670717228,
          -0.09179057718141193,
          0.03131182546280786,
          -0.00436140357886905,
          0.052952444480942384,
          -0.046177174006631794,
          -0.08640503811325084,
          0.06882438489326304,
          0.016266535590367948,
          0.07731273890521273,
          -0.04793964350003077,
          -0.02128943879030709,
          0.06844937874308732,
          0.02631150592622089,
          0.10185057364636851,
          -0.05272712684115666,
          0.016068169286074907,
          0.05055456758079635,
          0.020455745090399824,
          0.11102056268778382,
          -0.050389962373590835,
          0.005871449287211505,
          0.0457656138792758,
          0.020397596407601748,
          0.11313827662050602,
          -0.03258751772256063,
          -0.0074835118834368775,
          -0.037615601512165475,
          -0.03069069585074702,
          0.055658161115508364,
          -0.0377973842313184,
          -0.08014202344239041,
          -0.024825073823766086,
          -0.030269339899726688,
          0.05390403315682912,
          -0.04625505429541599,
          -0.05943626423247095,
          0.019996048872324756,
          -0.016105256041358817,
          0.09399953788306714,
          -0.049387381775910066,
          0.026843810827035908,
          0.009032983534853045,
          -0.006483118181946912,
          0.13364257885399988,
          -0.05553346180967378,
          0.08062699072884949,
          0.001256258068047189,
          -0.010907728507526748,
          0.138708457896362,
          -0.0517939260316751,
          0.06373039251674084,
          0.014500579632262589,
          0.006012978309090089,
          0.14055904878607106,
          -0.025022619575152616,
          0.0349623214654774
         ],
         "y0": " ",
         "yaxis": "y2"
        },
        {
         "alignmentgroup": "True",
         "boxpoints": "all",
         "fillcolor": "rgba(255,255,255,0)",
         "hoveron": "points",
         "hovertemplate": "ma=4<br>theta=%{x}<br>diff=%{y}<extra></extra>",
         "legendgroup": "4",
         "line": {
          "color": "rgba(255,255,255,0)"
         },
         "marker": {
          "color": "#ab63fa",
          "opacity": 0.5,
          "size": 5
         },
         "name": "4",
         "offsetgroup": "4",
         "orientation": "v",
         "pointpos": 0,
         "showlegend": true,
         "type": "box",
         "x": [
          "CSENT",
          "IPM",
          "HOUSE",
          "UNEMP",
          "LRIR",
          "CSENT",
          "IPM",
          "HOUSE",
          "UNEMP",
          "LRIR",
          "CSENT",
          "IPM",
          "HOUSE",
          "UNEMP",
          "LRIR",
          "CSENT",
          "IPM",
          "HOUSE",
          "UNEMP",
          "LRIR",
          "CSENT",
          "IPM",
          "HOUSE",
          "UNEMP",
          "LRIR",
          "CSENT",
          "IPM",
          "HOUSE",
          "UNEMP",
          "LRIR",
          "CSENT",
          "IPM",
          "HOUSE",
          "UNEMP",
          "LRIR",
          "CSENT",
          "IPM",
          "HOUSE",
          "UNEMP",
          "LRIR",
          "CSENT",
          "IPM",
          "HOUSE",
          "UNEMP",
          "LRIR",
          "CSENT",
          "IPM",
          "HOUSE",
          "UNEMP",
          "LRIR",
          "CSENT",
          "IPM",
          "HOUSE",
          "UNEMP",
          "LRIR",
          "CSENT",
          "IPM",
          "HOUSE",
          "UNEMP",
          "LRIR",
          "CSENT",
          "IPM",
          "HOUSE",
          "UNEMP",
          "LRIR",
          "CSENT",
          "IPM",
          "HOUSE",
          "UNEMP",
          "LRIR",
          "CSENT",
          "IPM",
          "HOUSE",
          "UNEMP",
          "LRIR",
          "CSENT",
          "IPM",
          "HOUSE",
          "UNEMP",
          "LRIR",
          "CSENT",
          "IPM",
          "HOUSE",
          "UNEMP",
          "LRIR",
          "CSENT",
          "IPM",
          "HOUSE",
          "UNEMP",
          "LRIR"
         ],
         "x0": " ",
         "xaxis": "x",
         "y": [
          -1.2695715402043684,
          0.17009609223250077,
          -0.727581949877492,
          2.1032145871919052,
          1.8453657880348517,
          -1.2109316420043337,
          0.028755344864414667,
          -0.2991916663416352,
          2.0009208654780055,
          1.8967697265121082,
          -1.3068006048890717,
          -0.10773507745110411,
          -0.18497227181283016,
          1.781142811299616,
          1.7443835757273982,
          -1.452072019668396,
          -0.4040435379388345,
          -0.33468142055857353,
          1.4208081030227202,
          1.5485645808614636,
          -1.503182724463556,
          -0.40780357697654424,
          -0.535893529284273,
          1.152287610358317,
          1.2581581821948964,
          -1.7136500127061969,
          -0.4156193130430905,
          -0.48564309046855403,
          1.0770128744797178,
          1.126614044659295,
          -0.5074728157855457,
          0.8585917391163775,
          -1.247011172939156,
          1.2401432058443254,
          1.8544110168943897,
          -0.4335173413303668,
          0.4586715281076126,
          -1.096699704642928,
          1.1839828904599363,
          1.6897040063724234,
          -0.8350641716120695,
          0.3078084285114846,
          -1.276819720154557,
          1.3174812961286424,
          1.1133348157146754,
          -1.131975299382682,
          -0.029949622303043988,
          -1.5382896152826175,
          1.2435732859136834,
          0.8349582897564973,
          -0.7297541892138417,
          -0.04389858511110045,
          -1.907389955245991,
          1.1285801646098585,
          0.21958150382739916,
          -0.5879771437700878,
          0.17115932263506384,
          -2.054762825103607,
          1.2825188879274716,
          0.1669135226834637,
          0.4093110703934544,
          1.1387763609364363,
          -1.0784563604726296,
          0.7550817303163733,
          1.5394837895953204,
          0.6248897801962281,
          0.7516952155613117,
          -0.9745794917638433,
          0.8949275724122634,
          1.1204327731587798,
          0.22127400489748972,
          0.6294346917727269,
          -1.254403915492503,
          1.1074270013432468,
          0.3653892930351148,
          -0.11849418400524847,
          0.3101673666128528,
          -1.7469429879746317,
          0.9580024207409101,
          -0.31304077016442644,
          0.10421154963208323,
          0.3231790853209411,
          -2.0456282241465704,
          0.8507823891792157,
          -0.7920470000605597,
          0.12793141371601902,
          0.3731319324207396,
          -2.12729502685091,
          0.946706144412576,
          -0.5820146155400732
         ],
         "y0": " ",
         "yaxis": "y"
        },
        {
         "alignmentgroup": "True",
         "boxpoints": "all",
         "fillcolor": "rgba(255,255,255,0)",
         "hoveron": "points",
         "hovertemplate": "ma=4<br>theta=%{x}<br>diff=%{y}<extra></extra>",
         "legendgroup": "4",
         "line": {
          "color": "rgba(255,255,255,0)"
         },
         "marker": {
          "color": "#ab63fa",
          "opacity": 0.5,
          "size": 5
         },
         "name": "4",
         "offsetgroup": "4",
         "orientation": "v",
         "pointpos": 0,
         "showlegend": false,
         "type": "box",
         "x": [
          "CSENT",
          "IPM",
          "HOUSE",
          "UNEMP",
          "LRIR",
          "CSENT",
          "IPM",
          "HOUSE",
          "UNEMP",
          "LRIR",
          "CSENT",
          "IPM",
          "HOUSE",
          "UNEMP",
          "LRIR",
          "CSENT",
          "IPM",
          "HOUSE",
          "UNEMP",
          "LRIR",
          "CSENT",
          "IPM",
          "HOUSE",
          "UNEMP",
          "LRIR",
          "CSENT",
          "IPM",
          "HOUSE",
          "UNEMP",
          "LRIR",
          "CSENT",
          "IPM",
          "HOUSE",
          "UNEMP",
          "LRIR",
          "CSENT",
          "IPM",
          "HOUSE",
          "UNEMP",
          "LRIR",
          "CSENT",
          "IPM",
          "HOUSE",
          "UNEMP",
          "LRIR",
          "CSENT",
          "IPM",
          "HOUSE",
          "UNEMP",
          "LRIR",
          "CSENT",
          "IPM",
          "HOUSE",
          "UNEMP",
          "LRIR",
          "CSENT",
          "IPM",
          "HOUSE",
          "UNEMP",
          "LRIR",
          "CSENT",
          "IPM",
          "HOUSE",
          "UNEMP",
          "LRIR",
          "CSENT",
          "IPM",
          "HOUSE",
          "UNEMP",
          "LRIR",
          "CSENT",
          "IPM",
          "HOUSE",
          "UNEMP",
          "LRIR",
          "CSENT",
          "IPM",
          "HOUSE",
          "UNEMP",
          "LRIR",
          "CSENT",
          "IPM",
          "HOUSE",
          "UNEMP",
          "LRIR",
          "CSENT",
          "IPM",
          "HOUSE",
          "UNEMP",
          "LRIR"
         ],
         "x0": " ",
         "xaxis": "x2",
         "y": [
          0.04091363048624175,
          -0.006579052598703505,
          0.02521460603305148,
          -0.09957048652370004,
          -0.08523090336906503,
          0.03980685956235619,
          -0.0011047163643151947,
          0.011055412742076332,
          -0.09452119821201665,
          -0.08871761621634233,
          0.044389981552997115,
          0.004236436196411786,
          0.007209817061695101,
          -0.08506251101931106,
          -0.08302066077267534,
          0.052395067270814666,
          0.016468172966298877,
          0.013744646010395045,
          -0.06947667110022804,
          -0.07660648313245211,
          0.055583285319363296,
          0.017072670063694506,
          0.022128846323079987,
          -0.05626213797554269,
          -0.06202580640839306,
          0.06199408828695574,
          0.017444982436190748,
          0.02023225421265762,
          -0.052385216412128344,
          -0.05504734428599234,
          0.021594984392781513,
          -0.041793004834991154,
          0.048932225741865176,
          -0.06248612029984668,
          -0.0985418435963955,
          0.018791209785994023,
          -0.021711901967318648,
          0.04428435183446189,
          -0.05988663154758311,
          -0.08928841789182251,
          0.03655284189796948,
          -0.015044398120886315,
          0.05337092470064497,
          -0.07033296932255317,
          -0.05841982334086937,
          0.05233813762515993,
          0.0015319965171662897,
          0.06833616433896339,
          -0.07067707585614136,
          -0.04593185648063158,
          0.03628327349601457,
          0.002316981558794895,
          0.08481197267529961,
          -0.06547145495320361,
          -0.01184774877494954,
          0.029531369177668076,
          -0.009176804800752225,
          0.08974156334350902,
          -0.07512835800027962,
          -0.008945998936159993,
          -0.022872739754398408,
          -0.06735895392589397,
          0.053074486239286345,
          -0.04336487116424381,
          -0.09382558025848309,
          -0.035239540223415466,
          -0.0428168473378866,
          0.04798744232359886,
          -0.051548750483797146,
          -0.06566819180110706,
          -0.012863233664155316,
          -0.037737877966625866,
          0.06465592632931616,
          -0.0687597071332452,
          -0.02147616885372461,
          0.007466600496911613,
          -0.020137528269035143,
          0.09738783508367976,
          -0.06496676708803306,
          0.0194537533895226,
          -0.006939138396531819,
          -0.02183531324732524,
          0.11658830569945045,
          -0.05948537152450095,
          0.04957239740324726,
          -0.008542204030336897,
          -0.025323262746657527,
          0.12061807165315375,
          -0.06667489056101328,
          0.03701684168923114
         ],
         "y0": " ",
         "yaxis": "y2"
        },
        {
         "alignmentgroup": "True",
         "boxpoints": "all",
         "fillcolor": "rgba(255,255,255,0)",
         "hoveron": "points",
         "hovertemplate": "ma=5<br>theta=%{x}<br>diff=%{y}<extra></extra>",
         "legendgroup": "5",
         "line": {
          "color": "rgba(255,255,255,0)"
         },
         "marker": {
          "color": "#FFA15A",
          "opacity": 0.5,
          "size": 5
         },
         "name": "5",
         "offsetgroup": "5",
         "orientation": "v",
         "pointpos": 0,
         "showlegend": true,
         "type": "box",
         "x": [
          "CSENT",
          "IPM",
          "HOUSE",
          "UNEMP",
          "LRIR",
          "CSENT",
          "IPM",
          "HOUSE",
          "UNEMP",
          "LRIR",
          "CSENT",
          "IPM",
          "HOUSE",
          "UNEMP",
          "LRIR",
          "CSENT",
          "IPM",
          "HOUSE",
          "UNEMP",
          "LRIR",
          "CSENT",
          "IPM",
          "HOUSE",
          "UNEMP",
          "LRIR",
          "CSENT",
          "IPM",
          "HOUSE",
          "UNEMP",
          "LRIR",
          "CSENT",
          "IPM",
          "HOUSE",
          "UNEMP",
          "LRIR",
          "CSENT",
          "IPM",
          "HOUSE",
          "UNEMP",
          "LRIR",
          "CSENT",
          "IPM",
          "HOUSE",
          "UNEMP",
          "LRIR",
          "CSENT",
          "IPM",
          "HOUSE",
          "UNEMP",
          "LRIR",
          "CSENT",
          "IPM",
          "HOUSE",
          "UNEMP",
          "LRIR",
          "CSENT",
          "IPM",
          "HOUSE",
          "UNEMP",
          "LRIR",
          "CSENT",
          "IPM",
          "HOUSE",
          "UNEMP",
          "LRIR",
          "CSENT",
          "IPM",
          "HOUSE",
          "UNEMP",
          "LRIR",
          "CSENT",
          "IPM",
          "HOUSE",
          "UNEMP",
          "LRIR",
          "CSENT",
          "IPM",
          "HOUSE",
          "UNEMP",
          "LRIR",
          "CSENT",
          "IPM",
          "HOUSE",
          "UNEMP",
          "LRIR",
          "CSENT",
          "IPM",
          "HOUSE",
          "UNEMP",
          "LRIR"
         ],
         "x0": " ",
         "xaxis": "x",
         "y": [
          -1.2529002426397593,
          0.4561567380951126,
          -0.7064041820594404,
          2.3162371503603025,
          2.0189719466192826,
          -1.1861963904844828,
          0.310319782396129,
          -0.41455019081363176,
          2.1338957662265923,
          1.998836193437639,
          -1.1499629198875616,
          0.16148888321224053,
          -0.22377291825521795,
          2.026228770396912,
          1.8919829327630655,
          -1.2802788731914254,
          -0.03966373670937884,
          -0.1623523250002652,
          1.7364041550573308,
          1.7941107785628105,
          -1.210006591736989,
          -0.18442012128262064,
          -0.1679774670716494,
          1.4636333117438998,
          1.6570643882828096,
          -1.430033185676118,
          -0.26202503341683325,
          -0.2511501365921358,
          1.241306333311269,
          1.3687504316588983,
          -0.4834676911516338,
          1.0404778497168712,
          -1.234402759782697,
          1.7898656946863705,
          2.1306062126317977,
          -0.3905058838473714,
          1.0249377881312522,
          -1.0374594489333546,
          1.4202603782008163,
          1.9115290945851076,
          -0.5196836446336057,
          0.6400019234449728,
          -1.1234411557973298,
          1.5146953781173202,
          1.4002466657128592,
          -0.7928040931523093,
          0.41431178529003976,
          -1.2801386728918822,
          1.5283688009144534,
          1.3331591322196434,
          -0.6774330718632893,
          0.22000373064298273,
          -1.4274717656444955,
          1.3822307973904175,
          1.0297857104884924,
          -0.4093992214185418,
          0.40625124394832035,
          -1.7033361317531344,
          1.4707958031908488,
          0.38922380115570476,
          0.2562658717783872,
          1.2844212203771184,
          -1.0959535806078575,
          1.2011670148582407,
          1.7100644792011472,
          0.5657668220041003,
          1.2428177796332927,
          -0.9271178399406024,
          0.997460938745105,
          1.4269594775195138,
          0.5340131118829676,
          0.9060486701668058,
          -1.0829514003566212,
          1.243348600555377,
          0.7149519787051686,
          0.18134115684852326,
          0.6141487316149092,
          -1.4306656227012233,
          1.2142614264367522,
          0.29918575971299877,
          0.05690599177005762,
          0.4405129241626291,
          -1.6745852613640508,
          0.999841114061411,
          -0.12250406206919617,
          0.26156323926378544,
          0.5169319622405153,
          -1.9125469048881518,
          1.074372685602496,
          -0.5024805295735
         ],
         "y0": " ",
         "yaxis": "y"
        },
        {
         "alignmentgroup": "True",
         "boxpoints": "all",
         "fillcolor": "rgba(255,255,255,0)",
         "hoveron": "points",
         "hovertemplate": "ma=5<br>theta=%{x}<br>diff=%{y}<extra></extra>",
         "legendgroup": "5",
         "line": {
          "color": "rgba(255,255,255,0)"
         },
         "marker": {
          "color": "#FFA15A",
          "opacity": 0.5,
          "size": 5
         },
         "name": "5",
         "offsetgroup": "5",
         "orientation": "v",
         "pointpos": 0,
         "showlegend": false,
         "type": "box",
         "x": [
          "CSENT",
          "IPM",
          "HOUSE",
          "UNEMP",
          "LRIR",
          "CSENT",
          "IPM",
          "HOUSE",
          "UNEMP",
          "LRIR",
          "CSENT",
          "IPM",
          "HOUSE",
          "UNEMP",
          "LRIR",
          "CSENT",
          "IPM",
          "HOUSE",
          "UNEMP",
          "LRIR",
          "CSENT",
          "IPM",
          "HOUSE",
          "UNEMP",
          "LRIR",
          "CSENT",
          "IPM",
          "HOUSE",
          "UNEMP",
          "LRIR",
          "CSENT",
          "IPM",
          "HOUSE",
          "UNEMP",
          "LRIR",
          "CSENT",
          "IPM",
          "HOUSE",
          "UNEMP",
          "LRIR",
          "CSENT",
          "IPM",
          "HOUSE",
          "UNEMP",
          "LRIR",
          "CSENT",
          "IPM",
          "HOUSE",
          "UNEMP",
          "LRIR",
          "CSENT",
          "IPM",
          "HOUSE",
          "UNEMP",
          "LRIR",
          "CSENT",
          "IPM",
          "HOUSE",
          "UNEMP",
          "LRIR",
          "CSENT",
          "IPM",
          "HOUSE",
          "UNEMP",
          "LRIR",
          "CSENT",
          "IPM",
          "HOUSE",
          "UNEMP",
          "LRIR",
          "CSENT",
          "IPM",
          "HOUSE",
          "UNEMP",
          "LRIR",
          "CSENT",
          "IPM",
          "HOUSE",
          "UNEMP",
          "LRIR",
          "CSENT",
          "IPM",
          "HOUSE",
          "UNEMP",
          "LRIR",
          "CSENT",
          "IPM",
          "HOUSE",
          "UNEMP",
          "LRIR"
         ],
         "x0": " ",
         "xaxis": "x2",
         "y": [
          0.03868246715969015,
          -0.017686415911126963,
          0.023593862483716643,
          -0.10971773208927604,
          -0.09286292981497701,
          0.0378081923508532,
          -0.01203296943603882,
          0.014688601488226927,
          -0.10069242013409696,
          -0.09307416800597856,
          0.03795366961851909,
          -0.006305447469672543,
          0.008340223581860817,
          -0.09652139985591324,
          -0.08895641053197556,
          0.044021158136655636,
          0.001590456743855384,
          0.006418337259936013,
          -0.08383248546737954,
          -0.08709540973045904,
          0.043889230439747684,
          0.007560976098255012,
          0.006899579040648862,
          -0.07112416839916003,
          -0.0820010660796685,
          0.05208025952717177,
          0.010954006654250614,
          0.010511974599061835,
          -0.06049855265521442,
          -0.06751432590325601,
          0.019682509791527414,
          -0.049686943838011866,
          0.045970026478349135,
          -0.09167196245962328,
          -0.11247885109661737,
          0.016125047970692585,
          -0.04901389541321921,
          0.03974371458527082,
          -0.07050844496252529,
          -0.0992287553954172,
          0.021701538321893254,
          -0.030145014651342006,
          0.04378927540218236,
          -0.07744771485211976,
          -0.07085759935982705,
          0.034175754392223645,
          -0.020163563523155403,
          0.052309920601273596,
          -0.08222491557860168,
          -0.07052407217337964,
          0.03144529611693203,
          -0.01112216608938943,
          0.061326333398428856,
          -0.07728184205782307,
          -0.055903557835406126,
          0.01986669567089283,
          -0.021241998981341825,
          0.07249307650889913,
          -0.0841250916248435,
          -0.020321108141465594,
          -0.013892052826819268,
          -0.07573089727250848,
          0.05256227049615059,
          -0.07035998123719567,
          -0.10419114931600404,
          -0.030758579878304215,
          -0.07144837927717873,
          0.04401989362953884,
          -0.05621423864291186,
          -0.08324647795152484,
          -0.029515011485670817,
          -0.05163032470786044,
          0.05178819462295858,
          -0.07278300131947735,
          -0.04011147214303934,
          -0.010656436585417817,
          -0.03731454627075581,
          0.07344953966512957,
          -0.07713276833837468,
          -0.017743926301396984,
          -0.003568283481552803,
          -0.028401128970714895,
          0.09164122221095072,
          -0.06704005884151143,
          0.007580307664191821,
          -0.01692108376655299,
          -0.0340501876960857,
          0.10455169918165308,
          -0.0735305037306978,
          0.030736101637018898
         ],
         "y0": " ",
         "yaxis": "y2"
        },
        {
         "alignmentgroup": "True",
         "boxpoints": "all",
         "fillcolor": "rgba(255,255,255,0)",
         "hoveron": "points",
         "hovertemplate": "ma=6<br>theta=%{x}<br>diff=%{y}<extra></extra>",
         "legendgroup": "6",
         "line": {
          "color": "rgba(255,255,255,0)"
         },
         "marker": {
          "color": "#19d3f3",
          "opacity": 0.5,
          "size": 5
         },
         "name": "6",
         "offsetgroup": "6",
         "orientation": "v",
         "pointpos": 0,
         "showlegend": true,
         "type": "box",
         "x": [
          "CSENT",
          "IPM",
          "HOUSE",
          "UNEMP",
          "LRIR",
          "CSENT",
          "IPM",
          "HOUSE",
          "UNEMP",
          "LRIR",
          "CSENT",
          "IPM",
          "HOUSE",
          "UNEMP",
          "LRIR",
          "CSENT",
          "IPM",
          "HOUSE",
          "UNEMP",
          "LRIR",
          "CSENT",
          "IPM",
          "HOUSE",
          "UNEMP",
          "LRIR",
          "CSENT",
          "IPM",
          "HOUSE",
          "UNEMP",
          "LRIR",
          "CSENT",
          "IPM",
          "HOUSE",
          "UNEMP",
          "LRIR",
          "CSENT",
          "IPM",
          "HOUSE",
          "UNEMP",
          "LRIR",
          "CSENT",
          "IPM",
          "HOUSE",
          "UNEMP",
          "LRIR",
          "CSENT",
          "IPM",
          "HOUSE",
          "UNEMP",
          "LRIR",
          "CSENT",
          "IPM",
          "HOUSE",
          "UNEMP",
          "LRIR",
          "CSENT",
          "IPM",
          "HOUSE",
          "UNEMP",
          "LRIR",
          "CSENT",
          "IPM",
          "HOUSE",
          "UNEMP",
          "LRIR",
          "CSENT",
          "IPM",
          "HOUSE",
          "UNEMP",
          "LRIR",
          "CSENT",
          "IPM",
          "HOUSE",
          "UNEMP",
          "LRIR",
          "CSENT",
          "IPM",
          "HOUSE",
          "UNEMP",
          "LRIR",
          "CSENT",
          "IPM",
          "HOUSE",
          "UNEMP",
          "LRIR",
          "CSENT",
          "IPM",
          "HOUSE",
          "UNEMP",
          "LRIR"
         ],
         "x0": " ",
         "xaxis": "x",
         "y": [
          -1.259327507544691,
          0.6660168600266272,
          -0.6449193503649697,
          2.497213621370537,
          2.0619863717202063,
          -1.1431185774512547,
          0.5794479897258666,
          -0.394765076204183,
          2.3305129574582484,
          2.158352138727899,
          -1.0712259804681312,
          0.4500380112859097,
          -0.2618180123655116,
          2.177083092828204,
          2.035873680843903,
          -1.1235756728919566,
          0.23374361504007268,
          -0.12018963073760736,
          1.9805543710155193,
          1.9607946932725753,
          -1.1099140777418772,
          0.14808454305180696,
          0.03655161297123044,
          1.742692588563508,
          1.89427779442706,
          -1.1535142938793381,
          -0.03020299937745019,
          0.09783450969772556,
          1.5281122377747343,
          1.7582156599391858,
          -0.727602714356868,
          1.1094955492437828,
          -1.1850248765480913,
          2.1295419351613427,
          1.8009194921342129,
          -0.30662491687847737,
          1.1975656659535439,
          -1.0144076907049833,
          1.8808420145418694,
          2.18221491120078,
          -0.3335767246434225,
          1.1749069337399467,
          -0.9743242317197796,
          1.7219136221417424,
          1.7377435498371208,
          -0.49674785011078804,
          0.7497126255283986,
          -1.089845208986974,
          1.734016448520114,
          1.6286485096434324,
          -0.4999177918835267,
          0.6229309496543598,
          -1.1875509543648426,
          1.6242016456981574,
          1.4184936795871508,
          -0.36074863990809813,
          0.6418544742255605,
          -1.2512512438258097,
          1.6802311848628175,
          1.0825087694293813,
          0.0031277605922390705,
          1.3748806232891946,
          -1.1074508687421778,
          1.5574537688212207,
          1.2831603179429347,
          0.5013469520731579,
          1.3794450440281878,
          -0.9072120133028561,
          1.3787528991454883,
          1.660847479240699,
          0.6050801581014591,
          1.3298962259855855,
          -0.9312155274489626,
          1.305920026910215,
          1.1059750946999714,
          0.4806225762252776,
          0.9369520891270913,
          -1.18861050960155,
          1.4085358244557202,
          0.6978151321122068,
          0.24757080642694973,
          0.6929170587353255,
          -1.4098147581607918,
          1.236837992914606,
          0.34384249731087557,
          0.25487496863480086,
          0.6579132270244195,
          -1.554843312591271,
          1.213542550503993,
          0.01490916076006954
         ],
         "y0": " ",
         "yaxis": "y"
        },
        {
         "alignmentgroup": "True",
         "boxpoints": "all",
         "fillcolor": "rgba(255,255,255,0)",
         "hoveron": "points",
         "hovertemplate": "ma=6<br>theta=%{x}<br>diff=%{y}<extra></extra>",
         "legendgroup": "6",
         "line": {
          "color": "rgba(255,255,255,0)"
         },
         "marker": {
          "color": "#19d3f3",
          "opacity": 0.5,
          "size": 5
         },
         "name": "6",
         "offsetgroup": "6",
         "orientation": "v",
         "pointpos": 0,
         "showlegend": false,
         "type": "box",
         "x": [
          "CSENT",
          "IPM",
          "HOUSE",
          "UNEMP",
          "LRIR",
          "CSENT",
          "IPM",
          "HOUSE",
          "UNEMP",
          "LRIR",
          "CSENT",
          "IPM",
          "HOUSE",
          "UNEMP",
          "LRIR",
          "CSENT",
          "IPM",
          "HOUSE",
          "UNEMP",
          "LRIR",
          "CSENT",
          "IPM",
          "HOUSE",
          "UNEMP",
          "LRIR",
          "CSENT",
          "IPM",
          "HOUSE",
          "UNEMP",
          "LRIR",
          "CSENT",
          "IPM",
          "HOUSE",
          "UNEMP",
          "LRIR",
          "CSENT",
          "IPM",
          "HOUSE",
          "UNEMP",
          "LRIR",
          "CSENT",
          "IPM",
          "HOUSE",
          "UNEMP",
          "LRIR",
          "CSENT",
          "IPM",
          "HOUSE",
          "UNEMP",
          "LRIR",
          "CSENT",
          "IPM",
          "HOUSE",
          "UNEMP",
          "LRIR",
          "CSENT",
          "IPM",
          "HOUSE",
          "UNEMP",
          "LRIR",
          "CSENT",
          "IPM",
          "HOUSE",
          "UNEMP",
          "LRIR",
          "CSENT",
          "IPM",
          "HOUSE",
          "UNEMP",
          "LRIR",
          "CSENT",
          "IPM",
          "HOUSE",
          "UNEMP",
          "LRIR",
          "CSENT",
          "IPM",
          "HOUSE",
          "UNEMP",
          "LRIR",
          "CSENT",
          "IPM",
          "HOUSE",
          "UNEMP",
          "LRIR",
          "CSENT",
          "IPM",
          "HOUSE",
          "UNEMP",
          "LRIR"
         ],
         "x0": " ",
         "xaxis": "x2",
         "y": [
          0.03747508003506661,
          -0.025933504143796915,
          0.021080838762524423,
          -0.11904094033677037,
          -0.09401483961148704,
          0.03512883754902085,
          -0.022558321921966384,
          0.013537727029309998,
          -0.11015491117550469,
          -0.10024862681659152,
          0.03432015304372571,
          -0.0176756590646856,
          0.009396419218087537,
          -0.10339554169178888,
          -0.09532135995102364,
          0.03745457259725671,
          -0.009301683728397792,
          0.004580436961978518,
          -0.0952787899567098,
          -0.09414382990105674,
          0.03843541911450643,
          -0.00601497324199296,
          -0.0014652628098933418,
          -0.08401595529351447,
          -0.09269103615013186,
          0.04124338454303644,
          0.0012415415185282885,
          -0.0040813229208864765,
          -0.07416104810289093,
          -0.0872558119365624,
          0.028107480850932287,
          -0.05257865435054099,
          0.0431932465723881,
          -0.1112757187235539,
          -0.09128223371822075,
          0.01217617794099557,
          -0.05613085738038648,
          0.03686463614169144,
          -0.09427424705010112,
          -0.1125107784923044,
          0.013356353869664606,
          -0.05547528049464534,
          0.03604155747950377,
          -0.08578442881184456,
          -0.08670394039915241,
          0.02041128925868696,
          -0.035252620597900575,
          0.04170554240436686,
          -0.08965841077136516,
          -0.08339364805509497,
          0.021707149363045408,
          -0.030378669332548514,
          0.04767734500282117,
          -0.08695059249310721,
          -0.07454891215353376,
          0.016468146325302024,
          -0.032366679555893785,
          0.05181071300361173,
          -0.09304139438532455,
          -0.05686019712128598,
          -0.00016398307185816474,
          -0.08107519625343418,
          0.05219741344736628,
          -0.09319713408753039,
          -0.07510538641750675,
          -0.026527190007257895,
          -0.07875512272024998,
          0.0419191980362581,
          -0.07871106408197592,
          -0.0970457440828646,
          -0.03231801321221561,
          -0.07561735078151144,
          0.04293079278850098,
          -0.0741051055262194,
          -0.061707036523092396,
          -0.026759558148697016,
          -0.05420122740371636,
          0.056736298451074196,
          -0.08464262229926578,
          -0.03957340555930777,
          -0.014606589217073918,
          -0.04235104487962138,
          0.07205399711210991,
          -0.07879837753809082,
          -0.020444184467497628,
          -0.015678043654446805,
          -0.04173338320992992,
          0.08223610908795664,
          -0.08019120013286973,
          -0.0009000566202965743
         ],
         "y0": " ",
         "yaxis": "y2"
        }
       ],
       "layout": {
        "annotations": [
         {
          "font": {
           "color": "grey",
           "size": 11
          },
          "showarrow": false,
          "text": "RMSE",
          "x": 0.225,
          "xanchor": "center",
          "xref": "paper",
          "y": 0.95,
          "yanchor": "bottom",
          "yref": "paper"
         },
         {
          "font": {
           "color": "grey",
           "size": 11
          },
          "showarrow": false,
          "text": "Adj-R2",
          "x": 0.775,
          "xanchor": "center",
          "xref": "paper",
          "y": 0.95,
          "yanchor": "bottom",
          "yref": "paper"
         }
        ],
        "height": 400,
        "legend": {
         "orientation": "h",
         "title": {
          "text": "Moving Averages:"
         },
         "x": 0.5,
         "xanchor": "center",
         "y": -0.1,
         "yanchor": "top"
        },
        "margin": {
         "b": 60,
         "l": 80,
         "r": 40,
         "t": 80
        },
        "template": {
         "data": {
          "bar": [
           {
            "error_x": {
             "color": "#f2f5fa"
            },
            "error_y": {
             "color": "#f2f5fa"
            },
            "marker": {
             "line": {
              "color": "rgb(17,17,17)",
              "width": 0.5
             },
             "pattern": {
              "fillmode": "overlay",
              "size": 10,
              "solidity": 0.2
             }
            },
            "type": "bar"
           }
          ],
          "barpolar": [
           {
            "marker": {
             "line": {
              "color": "rgb(17,17,17)",
              "width": 0.5
             },
             "pattern": {
              "fillmode": "overlay",
              "size": 10,
              "solidity": 0.2
             }
            },
            "type": "barpolar"
           }
          ],
          "carpet": [
           {
            "aaxis": {
             "endlinecolor": "#A2B1C6",
             "gridcolor": "#506784",
             "linecolor": "#506784",
             "minorgridcolor": "#506784",
             "startlinecolor": "#A2B1C6"
            },
            "baxis": {
             "endlinecolor": "#A2B1C6",
             "gridcolor": "#506784",
             "linecolor": "#506784",
             "minorgridcolor": "#506784",
             "startlinecolor": "#A2B1C6"
            },
            "type": "carpet"
           }
          ],
          "choropleth": [
           {
            "colorbar": {
             "outlinewidth": 0,
             "ticks": ""
            },
            "type": "choropleth"
           }
          ],
          "contour": [
           {
            "colorbar": {
             "outlinewidth": 0,
             "ticks": ""
            },
            "colorscale": [
             [
              0,
              "#0d0887"
             ],
             [
              0.1111111111111111,
              "#46039f"
             ],
             [
              0.2222222222222222,
              "#7201a8"
             ],
             [
              0.3333333333333333,
              "#9c179e"
             ],
             [
              0.4444444444444444,
              "#bd3786"
             ],
             [
              0.5555555555555556,
              "#d8576b"
             ],
             [
              0.6666666666666666,
              "#ed7953"
             ],
             [
              0.7777777777777778,
              "#fb9f3a"
             ],
             [
              0.8888888888888888,
              "#fdca26"
             ],
             [
              1,
              "#f0f921"
             ]
            ],
            "type": "contour"
           }
          ],
          "contourcarpet": [
           {
            "colorbar": {
             "outlinewidth": 0,
             "ticks": ""
            },
            "type": "contourcarpet"
           }
          ],
          "heatmap": [
           {
            "colorbar": {
             "outlinewidth": 0,
             "ticks": ""
            },
            "colorscale": [
             [
              0,
              "#0d0887"
             ],
             [
              0.1111111111111111,
              "#46039f"
             ],
             [
              0.2222222222222222,
              "#7201a8"
             ],
             [
              0.3333333333333333,
              "#9c179e"
             ],
             [
              0.4444444444444444,
              "#bd3786"
             ],
             [
              0.5555555555555556,
              "#d8576b"
             ],
             [
              0.6666666666666666,
              "#ed7953"
             ],
             [
              0.7777777777777778,
              "#fb9f3a"
             ],
             [
              0.8888888888888888,
              "#fdca26"
             ],
             [
              1,
              "#f0f921"
             ]
            ],
            "type": "heatmap"
           }
          ],
          "heatmapgl": [
           {
            "colorbar": {
             "outlinewidth": 0,
             "ticks": ""
            },
            "colorscale": [
             [
              0,
              "#0d0887"
             ],
             [
              0.1111111111111111,
              "#46039f"
             ],
             [
              0.2222222222222222,
              "#7201a8"
             ],
             [
              0.3333333333333333,
              "#9c179e"
             ],
             [
              0.4444444444444444,
              "#bd3786"
             ],
             [
              0.5555555555555556,
              "#d8576b"
             ],
             [
              0.6666666666666666,
              "#ed7953"
             ],
             [
              0.7777777777777778,
              "#fb9f3a"
             ],
             [
              0.8888888888888888,
              "#fdca26"
             ],
             [
              1,
              "#f0f921"
             ]
            ],
            "type": "heatmapgl"
           }
          ],
          "histogram": [
           {
            "marker": {
             "pattern": {
              "fillmode": "overlay",
              "size": 10,
              "solidity": 0.2
             }
            },
            "type": "histogram"
           }
          ],
          "histogram2d": [
           {
            "colorbar": {
             "outlinewidth": 0,
             "ticks": ""
            },
            "colorscale": [
             [
              0,
              "#0d0887"
             ],
             [
              0.1111111111111111,
              "#46039f"
             ],
             [
              0.2222222222222222,
              "#7201a8"
             ],
             [
              0.3333333333333333,
              "#9c179e"
             ],
             [
              0.4444444444444444,
              "#bd3786"
             ],
             [
              0.5555555555555556,
              "#d8576b"
             ],
             [
              0.6666666666666666,
              "#ed7953"
             ],
             [
              0.7777777777777778,
              "#fb9f3a"
             ],
             [
              0.8888888888888888,
              "#fdca26"
             ],
             [
              1,
              "#f0f921"
             ]
            ],
            "type": "histogram2d"
           }
          ],
          "histogram2dcontour": [
           {
            "colorbar": {
             "outlinewidth": 0,
             "ticks": ""
            },
            "colorscale": [
             [
              0,
              "#0d0887"
             ],
             [
              0.1111111111111111,
              "#46039f"
             ],
             [
              0.2222222222222222,
              "#7201a8"
             ],
             [
              0.3333333333333333,
              "#9c179e"
             ],
             [
              0.4444444444444444,
              "#bd3786"
             ],
             [
              0.5555555555555556,
              "#d8576b"
             ],
             [
              0.6666666666666666,
              "#ed7953"
             ],
             [
              0.7777777777777778,
              "#fb9f3a"
             ],
             [
              0.8888888888888888,
              "#fdca26"
             ],
             [
              1,
              "#f0f921"
             ]
            ],
            "type": "histogram2dcontour"
           }
          ],
          "mesh3d": [
           {
            "colorbar": {
             "outlinewidth": 0,
             "ticks": ""
            },
            "type": "mesh3d"
           }
          ],
          "parcoords": [
           {
            "line": {
             "colorbar": {
              "outlinewidth": 0,
              "ticks": ""
             }
            },
            "type": "parcoords"
           }
          ],
          "pie": [
           {
            "automargin": true,
            "type": "pie"
           }
          ],
          "scatter": [
           {
            "marker": {
             "line": {
              "color": "#283442"
             }
            },
            "type": "scatter"
           }
          ],
          "scatter3d": [
           {
            "line": {
             "colorbar": {
              "outlinewidth": 0,
              "ticks": ""
             }
            },
            "marker": {
             "colorbar": {
              "outlinewidth": 0,
              "ticks": ""
             }
            },
            "type": "scatter3d"
           }
          ],
          "scattercarpet": [
           {
            "marker": {
             "colorbar": {
              "outlinewidth": 0,
              "ticks": ""
             }
            },
            "type": "scattercarpet"
           }
          ],
          "scattergeo": [
           {
            "marker": {
             "colorbar": {
              "outlinewidth": 0,
              "ticks": ""
             }
            },
            "type": "scattergeo"
           }
          ],
          "scattergl": [
           {
            "marker": {
             "line": {
              "color": "#283442"
             }
            },
            "type": "scattergl"
           }
          ],
          "scattermapbox": [
           {
            "marker": {
             "colorbar": {
              "outlinewidth": 0,
              "ticks": ""
             }
            },
            "type": "scattermapbox"
           }
          ],
          "scatterpolar": [
           {
            "marker": {
             "colorbar": {
              "outlinewidth": 0,
              "ticks": ""
             }
            },
            "type": "scatterpolar"
           }
          ],
          "scatterpolargl": [
           {
            "marker": {
             "colorbar": {
              "outlinewidth": 0,
              "ticks": ""
             }
            },
            "type": "scatterpolargl"
           }
          ],
          "scatterternary": [
           {
            "marker": {
             "colorbar": {
              "outlinewidth": 0,
              "ticks": ""
             }
            },
            "type": "scatterternary"
           }
          ],
          "surface": [
           {
            "colorbar": {
             "outlinewidth": 0,
             "ticks": ""
            },
            "colorscale": [
             [
              0,
              "#0d0887"
             ],
             [
              0.1111111111111111,
              "#46039f"
             ],
             [
              0.2222222222222222,
              "#7201a8"
             ],
             [
              0.3333333333333333,
              "#9c179e"
             ],
             [
              0.4444444444444444,
              "#bd3786"
             ],
             [
              0.5555555555555556,
              "#d8576b"
             ],
             [
              0.6666666666666666,
              "#ed7953"
             ],
             [
              0.7777777777777778,
              "#fb9f3a"
             ],
             [
              0.8888888888888888,
              "#fdca26"
             ],
             [
              1,
              "#f0f921"
             ]
            ],
            "type": "surface"
           }
          ],
          "table": [
           {
            "cells": {
             "fill": {
              "color": "#506784"
             },
             "line": {
              "color": "rgb(17,17,17)"
             }
            },
            "header": {
             "fill": {
              "color": "#2a3f5f"
             },
             "line": {
              "color": "rgb(17,17,17)"
             }
            },
            "type": "table"
           }
          ]
         },
         "layout": {
          "annotationdefaults": {
           "arrowcolor": "#f2f5fa",
           "arrowhead": 0,
           "arrowwidth": 1
          },
          "autotypenumbers": "strict",
          "coloraxis": {
           "colorbar": {
            "outlinewidth": 0,
            "ticks": ""
           }
          },
          "colorscale": {
           "diverging": [
            [
             0,
             "#8e0152"
            ],
            [
             0.1,
             "#c51b7d"
            ],
            [
             0.2,
             "#de77ae"
            ],
            [
             0.3,
             "#f1b6da"
            ],
            [
             0.4,
             "#fde0ef"
            ],
            [
             0.5,
             "#f7f7f7"
            ],
            [
             0.6,
             "#e6f5d0"
            ],
            [
             0.7,
             "#b8e186"
            ],
            [
             0.8,
             "#7fbc41"
            ],
            [
             0.9,
             "#4d9221"
            ],
            [
             1,
             "#276419"
            ]
           ],
           "sequential": [
            [
             0,
             "#0d0887"
            ],
            [
             0.1111111111111111,
             "#46039f"
            ],
            [
             0.2222222222222222,
             "#7201a8"
            ],
            [
             0.3333333333333333,
             "#9c179e"
            ],
            [
             0.4444444444444444,
             "#bd3786"
            ],
            [
             0.5555555555555556,
             "#d8576b"
            ],
            [
             0.6666666666666666,
             "#ed7953"
            ],
            [
             0.7777777777777778,
             "#fb9f3a"
            ],
            [
             0.8888888888888888,
             "#fdca26"
            ],
            [
             1,
             "#f0f921"
            ]
           ],
           "sequentialminus": [
            [
             0,
             "#0d0887"
            ],
            [
             0.1111111111111111,
             "#46039f"
            ],
            [
             0.2222222222222222,
             "#7201a8"
            ],
            [
             0.3333333333333333,
             "#9c179e"
            ],
            [
             0.4444444444444444,
             "#bd3786"
            ],
            [
             0.5555555555555556,
             "#d8576b"
            ],
            [
             0.6666666666666666,
             "#ed7953"
            ],
            [
             0.7777777777777778,
             "#fb9f3a"
            ],
            [
             0.8888888888888888,
             "#fdca26"
            ],
            [
             1,
             "#f0f921"
            ]
           ]
          },
          "colorway": [
           "#636efa",
           "#EF553B",
           "#00cc96",
           "#ab63fa",
           "#FFA15A",
           "#19d3f3",
           "#FF6692",
           "#B6E880",
           "#FF97FF",
           "#FECB52"
          ],
          "font": {
           "color": "#f2f5fa"
          },
          "geo": {
           "bgcolor": "rgb(17,17,17)",
           "lakecolor": "rgb(17,17,17)",
           "landcolor": "rgb(17,17,17)",
           "showlakes": true,
           "showland": true,
           "subunitcolor": "#506784"
          },
          "hoverlabel": {
           "align": "left"
          },
          "hovermode": "closest",
          "mapbox": {
           "style": "dark"
          },
          "paper_bgcolor": "rgb(17,17,17)",
          "plot_bgcolor": "rgb(17,17,17)",
          "polar": {
           "angularaxis": {
            "gridcolor": "#506784",
            "linecolor": "#506784",
            "ticks": ""
           },
           "bgcolor": "rgb(17,17,17)",
           "radialaxis": {
            "gridcolor": "#506784",
            "linecolor": "#506784",
            "ticks": ""
           }
          },
          "scene": {
           "xaxis": {
            "backgroundcolor": "rgb(17,17,17)",
            "gridcolor": "#506784",
            "gridwidth": 2,
            "linecolor": "#506784",
            "showbackground": true,
            "ticks": "",
            "zerolinecolor": "#C8D4E3"
           },
           "yaxis": {
            "backgroundcolor": "rgb(17,17,17)",
            "gridcolor": "#506784",
            "gridwidth": 2,
            "linecolor": "#506784",
            "showbackground": true,
            "ticks": "",
            "zerolinecolor": "#C8D4E3"
           },
           "zaxis": {
            "backgroundcolor": "rgb(17,17,17)",
            "gridcolor": "#506784",
            "gridwidth": 2,
            "linecolor": "#506784",
            "showbackground": true,
            "ticks": "",
            "zerolinecolor": "#C8D4E3"
           }
          },
          "shapedefaults": {
           "line": {
            "color": "#f2f5fa"
           }
          },
          "sliderdefaults": {
           "bgcolor": "#C8D4E3",
           "bordercolor": "rgb(17,17,17)",
           "borderwidth": 1,
           "tickwidth": 0
          },
          "ternary": {
           "aaxis": {
            "gridcolor": "#506784",
            "linecolor": "#506784",
            "ticks": ""
           },
           "baxis": {
            "gridcolor": "#506784",
            "linecolor": "#506784",
            "ticks": ""
           },
           "bgcolor": "rgb(17,17,17)",
           "caxis": {
            "gridcolor": "#506784",
            "linecolor": "#506784",
            "ticks": ""
           }
          },
          "title": {
           "x": 0.05
          },
          "updatemenudefaults": {
           "bgcolor": "#506784",
           "borderwidth": 0
          },
          "xaxis": {
           "automargin": true,
           "gridcolor": "#283442",
           "linecolor": "#506784",
           "ticks": "",
           "title": {
            "standoff": 15
           },
           "zerolinecolor": "#283442",
           "zerolinewidth": 2
          },
          "yaxis": {
           "automargin": true,
           "gridcolor": "#283442",
           "linecolor": "#506784",
           "ticks": "",
           "title": {
            "standoff": 15
           },
           "zerolinecolor": "#283442",
           "zerolinewidth": 2
          }
         }
        },
        "title": {
         "text": "Observe Backward Elimination in All Models With Repect to Moving Averages<br><span style=\"font-size: 12.5px; color: lightgrey;\"> -- How meansures are changed by removing the impact of each coefficient</span>"
        },
        "width": 800,
        "xaxis": {
         "anchor": "y",
         "domain": [
          0,
          0.45
         ]
        },
        "xaxis2": {
         "anchor": "y2",
         "domain": [
          0.55,
          1
         ]
        },
        "yaxis": {
         "anchor": "x",
         "domain": [
          0,
          1
         ],
         "title": {
          "text": "Difference"
         }
        },
        "yaxis2": {
         "anchor": "x2",
         "domain": [
          0,
          1
         ]
        }
       }
      }
     },
     "metadata": {},
     "output_type": "display_data"
    }
   ],
   "source": [
    "# comparing model performance & backward elimination test\n",
    "fig1_1, fig1_2, fig1_3 = PA.model_learning([1,3,6], model='LinR')\n",
    "\n",
    "for f in fig1_1:\n",
    "    f.show()\n",
    "fig1_2.show()\n",
    "fig1_3.show()"
   ]
  },
  {
   "cell_type": "code",
   "execution_count": 40,
   "metadata": {},
   "outputs": [
    {
     "data": {
      "application/vnd.plotly.v1+json": {
       "config": {
        "plotlyServerURL": "https://plot.ly"
       },
       "data": [
        {
         "mode": "lines",
         "name": "Actual",
         "type": "scatter",
         "x": [
          "1989-06-30T00:00:00",
          "1989-07-31T00:00:00",
          "1989-08-31T00:00:00",
          "1989-09-30T00:00:00",
          "1989-10-31T00:00:00",
          "1989-11-30T00:00:00",
          "1989-12-31T00:00:00",
          "1990-01-31T00:00:00",
          "1990-02-28T00:00:00",
          "1990-03-31T00:00:00",
          "1990-04-30T00:00:00",
          "1990-05-31T00:00:00",
          "1990-06-30T00:00:00",
          "1990-07-31T00:00:00",
          "1990-08-31T00:00:00",
          "1990-09-30T00:00:00",
          "1990-10-31T00:00:00",
          "1990-11-30T00:00:00",
          "1990-12-31T00:00:00",
          "1991-01-31T00:00:00",
          "1991-02-28T00:00:00",
          "1991-03-31T00:00:00",
          "1991-04-30T00:00:00",
          "1991-05-31T00:00:00",
          "1991-06-30T00:00:00",
          "1991-07-31T00:00:00",
          "1991-08-31T00:00:00",
          "1991-09-30T00:00:00",
          "1991-10-31T00:00:00",
          "1991-11-30T00:00:00",
          "1991-12-31T00:00:00",
          "1992-01-31T00:00:00",
          "1992-02-29T00:00:00",
          "1992-03-31T00:00:00",
          "1992-04-30T00:00:00",
          "1992-05-31T00:00:00",
          "1992-06-30T00:00:00",
          "1992-07-31T00:00:00",
          "1992-08-31T00:00:00",
          "1992-09-30T00:00:00",
          "1992-10-31T00:00:00",
          "1992-11-30T00:00:00",
          "1992-12-31T00:00:00",
          "1993-01-31T00:00:00",
          "1993-02-28T00:00:00",
          "1993-03-31T00:00:00",
          "1993-04-30T00:00:00",
          "1993-05-31T00:00:00",
          "1993-06-30T00:00:00",
          "1993-07-31T00:00:00",
          "1993-08-31T00:00:00",
          "1993-09-30T00:00:00",
          "1993-10-31T00:00:00",
          "1993-11-30T00:00:00",
          "1993-12-31T00:00:00",
          "1994-01-31T00:00:00",
          "1994-02-28T00:00:00",
          "1994-03-31T00:00:00",
          "1994-04-30T00:00:00",
          "1994-05-31T00:00:00",
          "1994-06-30T00:00:00",
          "1994-07-31T00:00:00",
          "1994-08-31T00:00:00",
          "1994-09-30T00:00:00",
          "1994-10-31T00:00:00",
          "1994-11-30T00:00:00",
          "1994-12-31T00:00:00",
          "1995-01-31T00:00:00",
          "1995-02-28T00:00:00",
          "1995-03-31T00:00:00",
          "1995-04-30T00:00:00",
          "1995-05-31T00:00:00",
          "1995-06-30T00:00:00",
          "1995-07-31T00:00:00",
          "1995-08-31T00:00:00",
          "1995-09-30T00:00:00",
          "1995-10-31T00:00:00",
          "1995-11-30T00:00:00",
          "1995-12-31T00:00:00",
          "1996-01-31T00:00:00",
          "1996-02-29T00:00:00",
          "1996-03-31T00:00:00",
          "1996-04-30T00:00:00",
          "1996-05-31T00:00:00",
          "1996-06-30T00:00:00",
          "1996-07-31T00:00:00",
          "1996-08-31T00:00:00",
          "1996-09-30T00:00:00",
          "1996-10-31T00:00:00",
          "1996-11-30T00:00:00",
          "1996-12-31T00:00:00",
          "1997-01-31T00:00:00",
          "1997-02-28T00:00:00",
          "1997-03-31T00:00:00",
          "1997-04-30T00:00:00",
          "1997-05-31T00:00:00",
          "1997-06-30T00:00:00",
          "1997-07-31T00:00:00",
          "1997-08-31T00:00:00",
          "1997-09-30T00:00:00",
          "1997-10-31T00:00:00",
          "1997-11-30T00:00:00",
          "1997-12-31T00:00:00",
          "1998-01-31T00:00:00",
          "1998-02-28T00:00:00",
          "1998-03-31T00:00:00",
          "1998-04-30T00:00:00",
          "1998-05-31T00:00:00",
          "1998-06-30T00:00:00",
          "1998-07-31T00:00:00",
          "1998-08-31T00:00:00",
          "1998-09-30T00:00:00",
          "1998-10-31T00:00:00",
          "1998-11-30T00:00:00",
          "1998-12-31T00:00:00",
          "1999-01-31T00:00:00",
          "1999-02-28T00:00:00",
          "1999-03-31T00:00:00",
          "1999-04-30T00:00:00",
          "1999-05-31T00:00:00",
          "1999-06-30T00:00:00",
          "1999-07-31T00:00:00",
          "1999-08-31T00:00:00",
          "1999-09-30T00:00:00",
          "1999-10-31T00:00:00",
          "1999-11-30T00:00:00",
          "1999-12-31T00:00:00",
          "2000-01-31T00:00:00",
          "2000-02-29T00:00:00",
          "2000-03-31T00:00:00",
          "2000-04-30T00:00:00",
          "2000-05-31T00:00:00",
          "2000-06-30T00:00:00",
          "2000-07-31T00:00:00",
          "2000-08-31T00:00:00",
          "2000-09-30T00:00:00",
          "2000-10-31T00:00:00",
          "2000-11-30T00:00:00",
          "2000-12-31T00:00:00",
          "2001-01-31T00:00:00",
          "2001-02-28T00:00:00",
          "2001-03-31T00:00:00",
          "2001-04-30T00:00:00",
          "2001-05-31T00:00:00",
          "2001-06-30T00:00:00",
          "2001-07-31T00:00:00",
          "2001-08-31T00:00:00",
          "2001-09-30T00:00:00",
          "2001-10-31T00:00:00",
          "2001-11-30T00:00:00",
          "2001-12-31T00:00:00",
          "2002-01-31T00:00:00",
          "2002-02-28T00:00:00",
          "2002-03-31T00:00:00",
          "2002-04-30T00:00:00",
          "2002-05-31T00:00:00",
          "2002-06-30T00:00:00",
          "2002-07-31T00:00:00",
          "2002-08-31T00:00:00",
          "2002-09-30T00:00:00",
          "2002-10-31T00:00:00",
          "2002-11-30T00:00:00",
          "2002-12-31T00:00:00",
          "2003-01-31T00:00:00",
          "2003-02-28T00:00:00",
          "2003-03-31T00:00:00",
          "2003-04-30T00:00:00",
          "2003-05-31T00:00:00",
          "2003-06-30T00:00:00",
          "2003-07-31T00:00:00",
          "2003-08-31T00:00:00",
          "2003-09-30T00:00:00",
          "2003-10-31T00:00:00",
          "2003-11-30T00:00:00",
          "2003-12-31T00:00:00",
          "2004-01-31T00:00:00",
          "2004-02-29T00:00:00",
          "2004-03-31T00:00:00",
          "2004-04-30T00:00:00",
          "2004-05-31T00:00:00",
          "2004-06-30T00:00:00",
          "2004-07-31T00:00:00",
          "2004-08-31T00:00:00",
          "2004-09-30T00:00:00",
          "2004-10-31T00:00:00",
          "2004-11-30T00:00:00",
          "2004-12-31T00:00:00",
          "2005-01-31T00:00:00",
          "2005-02-28T00:00:00",
          "2005-03-31T00:00:00",
          "2005-04-30T00:00:00",
          "2005-05-31T00:00:00",
          "2005-06-30T00:00:00",
          "2005-07-31T00:00:00",
          "2005-08-31T00:00:00",
          "2005-09-30T00:00:00",
          "2005-10-31T00:00:00",
          "2005-11-30T00:00:00",
          "2005-12-31T00:00:00",
          "2006-01-31T00:00:00",
          "2006-02-28T00:00:00",
          "2006-03-31T00:00:00",
          "2006-04-30T00:00:00",
          "2006-05-31T00:00:00",
          "2006-06-30T00:00:00",
          "2006-07-31T00:00:00",
          "2006-08-31T00:00:00",
          "2006-09-30T00:00:00",
          "2006-10-31T00:00:00",
          "2006-11-30T00:00:00",
          "2006-12-31T00:00:00",
          "2007-01-31T00:00:00",
          "2007-02-28T00:00:00",
          "2007-03-31T00:00:00",
          "2007-04-30T00:00:00",
          "2007-05-31T00:00:00",
          "2007-06-30T00:00:00",
          "2007-07-31T00:00:00",
          "2007-08-31T00:00:00",
          "2007-09-30T00:00:00",
          "2007-10-31T00:00:00",
          "2007-11-30T00:00:00",
          "2007-12-31T00:00:00",
          "2008-01-31T00:00:00",
          "2008-02-29T00:00:00",
          "2008-03-31T00:00:00",
          "2008-04-30T00:00:00",
          "2008-05-31T00:00:00",
          "2008-06-30T00:00:00",
          "2008-07-31T00:00:00",
          "2008-08-31T00:00:00",
          "2008-09-30T00:00:00",
          "2008-10-31T00:00:00",
          "2008-11-30T00:00:00",
          "2008-12-31T00:00:00",
          "2009-01-31T00:00:00",
          "2009-02-28T00:00:00",
          "2009-03-31T00:00:00",
          "2009-04-30T00:00:00",
          "2009-05-31T00:00:00",
          "2009-06-30T00:00:00",
          "2009-07-31T00:00:00",
          "2009-08-31T00:00:00",
          "2009-09-30T00:00:00",
          "2009-10-31T00:00:00",
          "2009-11-30T00:00:00",
          "2009-12-31T00:00:00",
          "2010-01-31T00:00:00",
          "2010-02-28T00:00:00",
          "2010-03-31T00:00:00",
          "2010-04-30T00:00:00",
          "2010-05-31T00:00:00",
          "2010-06-30T00:00:00",
          "2010-07-31T00:00:00",
          "2010-08-31T00:00:00",
          "2010-09-30T00:00:00",
          "2010-10-31T00:00:00",
          "2010-11-30T00:00:00",
          "2010-12-31T00:00:00",
          "2011-01-31T00:00:00",
          "2011-02-28T00:00:00",
          "2011-03-31T00:00:00",
          "2011-04-30T00:00:00",
          "2011-05-31T00:00:00",
          "2011-06-30T00:00:00",
          "2011-07-31T00:00:00",
          "2011-08-31T00:00:00",
          "2011-09-30T00:00:00",
          "2011-10-31T00:00:00",
          "2011-11-30T00:00:00",
          "2011-12-31T00:00:00",
          "2012-01-31T00:00:00",
          "2012-02-29T00:00:00",
          "2012-03-31T00:00:00",
          "2012-04-30T00:00:00",
          "2012-05-31T00:00:00",
          "2012-06-30T00:00:00",
          "2012-07-31T00:00:00",
          "2012-08-31T00:00:00",
          "2012-09-30T00:00:00",
          "2012-10-31T00:00:00",
          "2012-11-30T00:00:00",
          "2012-12-31T00:00:00",
          "2013-01-31T00:00:00",
          "2013-02-28T00:00:00",
          "2013-03-31T00:00:00",
          "2013-04-30T00:00:00",
          "2013-05-31T00:00:00",
          "2013-06-30T00:00:00",
          "2013-07-31T00:00:00",
          "2013-08-31T00:00:00",
          "2013-09-30T00:00:00",
          "2013-10-31T00:00:00",
          "2013-11-30T00:00:00",
          "2013-12-31T00:00:00",
          "2014-01-31T00:00:00",
          "2014-02-28T00:00:00",
          "2014-03-31T00:00:00",
          "2014-04-30T00:00:00",
          "2014-05-31T00:00:00",
          "2014-06-30T00:00:00",
          "2014-07-31T00:00:00",
          "2014-08-31T00:00:00",
          "2014-09-30T00:00:00",
          "2014-10-31T00:00:00",
          "2014-11-30T00:00:00",
          "2014-12-31T00:00:00",
          "2015-01-31T00:00:00",
          "2015-02-28T00:00:00",
          "2015-03-31T00:00:00",
          "2015-04-30T00:00:00",
          "2015-05-31T00:00:00",
          "2015-06-30T00:00:00",
          "2015-07-31T00:00:00",
          "2015-08-31T00:00:00",
          "2015-09-30T00:00:00",
          "2015-10-31T00:00:00",
          "2015-11-30T00:00:00",
          "2015-12-31T00:00:00",
          "2016-01-31T00:00:00",
          "2016-02-29T00:00:00",
          "2016-03-31T00:00:00",
          "2016-04-30T00:00:00",
          "2016-05-31T00:00:00",
          "2016-06-30T00:00:00",
          "2016-07-31T00:00:00",
          "2016-08-31T00:00:00",
          "2016-09-30T00:00:00",
          "2016-10-31T00:00:00",
          "2016-11-30T00:00:00",
          "2016-12-31T00:00:00",
          "2017-01-31T00:00:00",
          "2017-02-28T00:00:00",
          "2017-03-31T00:00:00",
          "2017-04-30T00:00:00",
          "2017-05-31T00:00:00",
          "2017-06-30T00:00:00",
          "2017-07-31T00:00:00",
          "2017-08-31T00:00:00",
          "2017-09-30T00:00:00",
          "2017-10-31T00:00:00",
          "2017-11-30T00:00:00",
          "2017-12-31T00:00:00",
          "2018-01-31T00:00:00",
          "2018-02-28T00:00:00",
          "2018-03-31T00:00:00",
          "2018-04-30T00:00:00",
          "2018-05-31T00:00:00",
          "2018-06-30T00:00:00",
          "2018-07-31T00:00:00",
          "2018-08-31T00:00:00",
          "2018-09-30T00:00:00",
          "2018-10-31T00:00:00",
          "2018-11-30T00:00:00",
          "2018-12-31T00:00:00",
          "2019-01-31T00:00:00",
          "2019-02-28T00:00:00",
          "2019-03-31T00:00:00",
          "2019-04-30T00:00:00",
          "2019-05-31T00:00:00",
          "2019-06-30T00:00:00",
          "2019-07-31T00:00:00",
          "2019-08-31T00:00:00",
          "2019-09-30T00:00:00",
          "2019-10-31T00:00:00",
          "2019-11-30T00:00:00",
          "2019-12-31T00:00:00",
          "2020-01-31T00:00:00",
          "2020-02-29T00:00:00",
          "2020-03-31T00:00:00",
          "2020-04-30T00:00:00",
          "2020-05-31T00:00:00",
          "2020-06-30T00:00:00",
          "2020-07-31T00:00:00",
          "2020-08-31T00:00:00",
          "2020-09-30T00:00:00",
          "2020-10-31T00:00:00",
          "2020-11-30T00:00:00",
          "2020-12-31T00:00:00",
          "2021-01-31T00:00:00",
          "2021-02-28T00:00:00",
          "2021-03-31T00:00:00",
          "2021-04-30T00:00:00",
          "2021-05-31T00:00:00",
          "2021-06-30T00:00:00",
          "2021-07-31T00:00:00",
          "2021-08-31T00:00:00",
          "2021-09-30T00:00:00",
          "2021-10-31T00:00:00",
          "2021-11-30T00:00:00",
          "2021-12-31T00:00:00",
          "2022-01-31T00:00:00",
          "2022-02-28T00:00:00",
          "2022-03-31T00:00:00",
          "2022-04-30T00:00:00",
          "2022-05-31T00:00:00",
          "2022-06-30T00:00:00",
          "2022-07-31T00:00:00",
          "2022-08-31T00:00:00",
          "2022-09-30T00:00:00",
          "2022-10-31T00:00:00",
          "2022-11-30T00:00:00",
          "2022-12-31T00:00:00",
          "2023-01-31T00:00:00",
          "2023-02-28T00:00:00",
          "2023-03-31T00:00:00",
          "2023-04-30T00:00:00",
          "2023-05-31T00:00:00",
          "2023-06-30T00:00:00",
          "2023-07-31T00:00:00",
          "2023-08-31T00:00:00",
          "2023-09-30T00:00:00"
         ],
         "y": [
          18.2150705336739,
          19.003561210609032,
          21.916802076155147,
          25.958878420877763,
          30.006610392491282,
          28.266612127355803,
          25.608173194803285,
          25.222843626534598,
          21.42962095921598,
          17.59108085361416,
          13.602493896824567,
          12.338312810233186,
          11.606560222356768,
          10.708985256467914,
          9.4009854794729,
          2.4271597663958517,
          -5.884922293232606,
          -10.415767853012515,
          -9.96573565896483,
          -8.037359398673265,
          -2.9722310111456096,
          2.8511132074708976,
          8.496926355937958,
          11.480842827010319,
          10.586673316794089,
          8.350636185991263,
          6.825696868225954,
          11.716949581374436,
          19.403861701518167,
          26.139156610187758,
          24.091571525644344,
          23.95016367816571,
          20.53689184530339,
          19.197719625688077,
          12.958001590193653,
          10.190508123920564,
          8.229033450274029,
          9.020970798074764,
          8.631949193338938,
          8.017713628556168,
          7.2696869923710645,
          6.368890573476996,
          9.787385010753491,
          8.702379044870257,
          8.920799759376957,
          6.412381172240404,
          8.88608018890047,
          8.467329222763802,
          8.785374555467707,
          8.285633729871863,
          8.137654370922162,
          9.329252893640845,
          9.148681852353336,
          11.182200057195288,
          9.546871332317005,
          8.617115211647617,
          7.957741322469914,
          7.3917152381670705,
          4.604573554113582,
          2.162626683743,
          0.8435577906996524,
          0.8158217902765053,
          0.7575529706266367,
          1.148196202732099,
          1.8859067230424298,
          1.4544604883128587,
          0.011925520190799363,
          -0.7757230797909612,
          -1.8722624480896268,
          0.1573822511494294,
          4.77872669754353,
          10.26960001341177,
          14.439826900113694,
          17.870539515587797,
          20.70444776777728,
          21.14546779450815,
          22.373696978010994,
          22.52602018321697,
          27.613983085084147,
          30.217012341791246,
          34.2485863007339,
          33.571046953870706,
          31.839808510894994,
          29.137233508462412,
          27.15203772019778,
          25.215673848434648,
          20.803371703560092,
          17.667677236833466,
          15.835371781409021,
          18.310924566198818,
          21.315447970699122,
          22.19969263860114,
          22.97354455827956,
          22.45083223404092,
          21.460283821331384,
          21.090633695504614,
          22.18823667684717,
          27.086343841073283,
          35.961466162876015,
          39.68885395366145,
          41.633493760589,
          35.15385325663871,
          31.236436349580327,
          28.965742983225383,
          27.301916197472377,
          29.46349263983643,
          34.30028035581983,
          38.981673465627786,
          37.61562346872719,
          31.80852322758658,
          24.707234380719935,
          17.318954827461553,
          10.40689798148137,
          11.303771744027657,
          16.426415792098343,
          22.862254299700567,
          26.333952460080962,
          25.072389466223115,
          21.768518778418535,
          18.288164714643784,
          18.73306955236939,
          20.16985937726395,
          19.659069677057943,
          25.85521525411421,
          27.54129920927385,
          29.37061198951773,
          23.179474986068943,
          20.979624394790335,
          15.952995593675459,
          12.947551788323851,
          11.937804860591655,
          11.87405663991025,
          11.466955607033162,
          7.956544644840798,
          7.590961799431106,
          9.530156396991854,
          11.53837992954582,
          10.602430594695255,
          3.8473964297338035,
          -3.5290796544745464,
          -5.834814136901496,
          -7.14523650295575,
          -11.28929768873244,
          -15.267399259098534,
          -16.04840408837656,
          -13.8002912599391,
          -14.25803007479933,
          -18.82771155743173,
          -22.73099569242238,
          -26.234551475027956,
          -22.24726635285727,
          -17.41587002948879,
          -14.550632554787265,
          -13.682880406732904,
          -9.707047675384688,
          -8.555871151500083,
          -9.982931901407985,
          -15.997017189281285,
          -19.63930118750537,
          -21.027113681034507,
          -21.86745529577962,
          -19.095581690436116,
          -18.642254110366217,
          -19.20475020054967,
          -21.827197469316697,
          -23.88350406722576,
          -24.78733171970391,
          -21.643817731319995,
          -16.87938085797958,
          -8.702817515195955,
          -0.8731252570380246,
          5.706826880297389,
          13.61038914336082,
          16.940567081524176,
          17.934489847775627,
          19.34031319104786,
          23.86206687855132,
          31.56136730783341,
          33.69443240063512,
          29.886204210523562,
          23.281723693194078,
          18.04494621711832,
          14.873950625325408,
          12.621934322530572,
          10.901844102299803,
          9.67362742873999,
          10.133484336226642,
          9.161637765773767,
          8.117430020619665,
          6.18320164035883,
          4.794912492735537,
          4.808947571822057,
          5.207599770875741,
          5.07329998584168,
          7.589361481698205,
          8.987274036300471,
          10.928283215776096,
          9.185990331369517,
          7.8301620327311765,
          5.414265201639819,
          5.937122813072519,
          5.922735844330192,
          8.149031148820603,
          9.791213018796434,
          9.855686479201326,
          8.835827532771308,
          5.55272537745716,
          5.634627646264516,
          6.331470215590019,
          9.904628463293237,
          11.656442807954223,
          13.292633573946063,
          12.690649041227482,
          11.94202532652215,
          10.645525934311687,
          10.895481903015487,
          14.449334924806498,
          17.324483648808883,
          17.61950437466569,
          15.132480945354436,
          13.777530607396793,
          13.261315628904105,
          10.826807683455305,
          7.239822465650114,
          1.7091646827266274,
          -2.0121302221455175,
          -5.491486083201157,
          -6.2843291051231285,
          -7.315400172190279,
          -9.964841462076036,
          -12.092265011718025,
          -13.578902738492879,
          -16.494978060427524,
          -24.682972445330876,
          -33.52329607136,
          -38.483545640902186,
          -39.35544116067741,
          -41.11090376033345,
          -41.50853463184456,
          -40.4809957710898,
          -37.01723437039096,
          -33.18371395450941,
          -28.20933821747236,
          -23.567673269122547,
          -17.29807264819647,
          -7.615914215628621,
          6.6132035809149246,
          17.554374598700893,
          25.242981615913234,
          34.577965704437425,
          42.2829013964801,
          44.261114078062185,
          33.68530876769622,
          22.20116267116703,
          14.06605868941879,
          8.828746990960878,
          7.442484009645696,
          8.32137095286823,
          9.967305469589718,
          11.575619977197894,
          13.432823980441649,
          17.571181000937695,
          17.76828570267006,
          16.149531611203784,
          17.254133773391334,
          22.1725111095034,
          22.972735574906753,
          20.532474004479536,
          10.870425833204704,
          7.0737157888486,
          3.562531737723603,
          3.8471320311027104,
          2.555429520216686,
          1.6462482625273793,
          3.725002134736499,
          3.882085396916169,
          2.052094729815923,
          1.02237929963932,
          2.429042725283885,
          8.425912932834516,
          16.488905054953825,
          18.46889158782345,
          17.859618348926066,
          13.217212649112485,
          13.708613364595388,
          12.82184794384491,
          12.156938244005152,
          12.201340393147278,
          16.71544270096715,
          18.88563395034591,
          21.529576883603863,
          18.743725809729174,
          18.343213338989287,
          19.06727399111435,
          22.873165938907153,
          27.166916409009147,
          25.367751037407288,
          23.784134727833187,
          20.35668038417126,
          20.002252817614895,
          18.400579470125866,
          19.306078178610075,
          18.174155339580718,
          19.74939625886336,
          18.167601774444215,
          18.286796284276083,
          15.557556717786463,
          13.591101575191248,
          12.600254081418731,
          12.16150445392006,
          11.84600865160476,
          11.440526189000002,
          10.233044924519374,
          8.501119544970377,
          7.924661567510342,
          4.220307897718464,
          1.5876137509844366,
          -0.38950059826942834,
          0.336623462437143,
          0.9776609552586413,
          -0.9498253174248646,
          -3.885589223444482,
          -3.7747615973000728,
          -3.1829919202076122,
          -0.6195264167718614,
          0.08945278001736286,
          1.5177552717485405,
          5.042450583817248,
          8.774498316310527,
          8.419284913058968,
          6.956786241347139,
          5.825472481875564,
          10.89307265252839,
          16.438357547851442,
          18.16322421416415,
          17.492507154085207,
          15.055047594823721,
          15.306222070244287,
          14.709326006133956,
          14.321461979905175,
          14.56447179800285,
          17.055471844094246,
          19.241671645532502,
          20.317601637702975,
          21.247455628920466,
          19.382802299529775,
          16.83363214142821,
          12.551593673799204,
          11.669051094722093,
          11.80199548400526,
          12.781789160606282,
          14.523103239408954,
          15.68717254538688,
          12.78506180606668,
          8.405237036784337,
          1.104985041988604,
          -2.0746698577413367,
          -2.624289757292198,
          1.8975496461256736,
          7.059070731528649,
          6.767701233129347,
          7.0642111042404325,
          5.257943491612261,
          4.967929810149959,
          2.946585716991009,
          5.0094898021915215,
          9.321846148090893,
          18.22995099164726,
          20.652418013501528,
          18.08539586056737,
          5.521539365107441,
          -1.2839200881817188,
          0.22400245697653234,
          4.958152814104186,
          8.58780320675905,
          11.584370407718373,
          14.113366635347724,
          13.411944692735853,
          11.97645356023836,
          13.070781081123863,
          15.571044465212898,
          20.13918844768443,
          32.62438285082005,
          42.09480672999017,
          45.1249126862225,
          40.09209833193552,
          37.02631548727515,
          34.06321268943222,
          30.553269519353552,
          32.711083585155045,
          31.676235717557265,
          31.278404040675664,
          24.856724569912725,
          21.07788842877467,
          16.79134768003978,
          9.20746564530871,
          3.7146013958649284,
          -4.935336902597617,
          -6.552296632160555,
          -10.165695201195687,
          -11.779944955606377,
          -15.078717440589154,
          -14.448447807191629,
          -15.342907627183678,
          -13.27490630594499,
          -12.798466025508915,
          -9.415845727169362,
          -5.872639411109263,
          -2.4107705917218665,
          6.543414688068036,
          9.942167304308747,
          14.215442340961578
         ]
        },
        {
         "line": {
          "color": "lightgreen"
         },
         "mode": "lines",
         "name": "Predict",
         "type": "scatter",
         "x": [
          "1989-06-30T00:00:00",
          "1989-07-31T00:00:00",
          "1989-08-31T00:00:00",
          "1989-09-30T00:00:00",
          "1989-10-31T00:00:00",
          "1989-11-30T00:00:00",
          "1989-12-31T00:00:00",
          "1990-01-31T00:00:00",
          "1990-02-28T00:00:00",
          "1990-03-31T00:00:00",
          "1990-04-30T00:00:00",
          "1990-05-31T00:00:00",
          "1990-06-30T00:00:00",
          "1990-07-31T00:00:00",
          "1990-08-31T00:00:00",
          "1990-09-30T00:00:00",
          "1990-10-31T00:00:00",
          "1990-11-30T00:00:00",
          "1990-12-31T00:00:00",
          "1991-01-31T00:00:00",
          "1991-02-28T00:00:00",
          "1991-03-31T00:00:00",
          "1991-04-30T00:00:00",
          "1991-05-31T00:00:00",
          "1991-06-30T00:00:00",
          "1991-07-31T00:00:00",
          "1991-08-31T00:00:00",
          "1991-09-30T00:00:00",
          "1991-10-31T00:00:00",
          "1991-11-30T00:00:00",
          "1991-12-31T00:00:00",
          "1992-01-31T00:00:00",
          "1992-02-29T00:00:00",
          "1992-03-31T00:00:00",
          "1992-04-30T00:00:00",
          "1992-05-31T00:00:00",
          "1992-06-30T00:00:00",
          "1992-07-31T00:00:00",
          "1992-08-31T00:00:00",
          "1992-09-30T00:00:00",
          "1992-10-31T00:00:00",
          "1992-11-30T00:00:00",
          "1992-12-31T00:00:00",
          "1993-01-31T00:00:00",
          "1993-02-28T00:00:00",
          "1993-03-31T00:00:00",
          "1993-04-30T00:00:00",
          "1993-05-31T00:00:00",
          "1993-06-30T00:00:00",
          "1993-07-31T00:00:00",
          "1993-08-31T00:00:00",
          "1993-09-30T00:00:00",
          "1993-10-31T00:00:00",
          "1993-11-30T00:00:00",
          "1993-12-31T00:00:00",
          "1994-01-31T00:00:00",
          "1994-02-28T00:00:00",
          "1994-03-31T00:00:00",
          "1994-04-30T00:00:00",
          "1994-05-31T00:00:00",
          "1994-06-30T00:00:00",
          "1994-07-31T00:00:00",
          "1994-08-31T00:00:00",
          "1994-09-30T00:00:00",
          "1994-10-31T00:00:00",
          "1994-11-30T00:00:00",
          "1994-12-31T00:00:00",
          "1995-01-31T00:00:00",
          "1995-02-28T00:00:00",
          "1995-03-31T00:00:00",
          "1995-04-30T00:00:00",
          "1995-05-31T00:00:00",
          "1995-06-30T00:00:00",
          "1995-07-31T00:00:00",
          "1995-08-31T00:00:00",
          "1995-09-30T00:00:00",
          "1995-10-31T00:00:00",
          "1995-11-30T00:00:00",
          "1995-12-31T00:00:00",
          "1996-01-31T00:00:00",
          "1996-02-29T00:00:00",
          "1996-03-31T00:00:00",
          "1996-04-30T00:00:00",
          "1996-05-31T00:00:00",
          "1996-06-30T00:00:00",
          "1996-07-31T00:00:00",
          "1996-08-31T00:00:00",
          "1996-09-30T00:00:00",
          "1996-10-31T00:00:00",
          "1996-11-30T00:00:00",
          "1996-12-31T00:00:00",
          "1997-01-31T00:00:00",
          "1997-02-28T00:00:00",
          "1997-03-31T00:00:00",
          "1997-04-30T00:00:00",
          "1997-05-31T00:00:00",
          "1997-06-30T00:00:00",
          "1997-07-31T00:00:00",
          "1997-08-31T00:00:00",
          "1997-09-30T00:00:00",
          "1997-10-31T00:00:00",
          "1997-11-30T00:00:00",
          "1997-12-31T00:00:00",
          "1998-01-31T00:00:00",
          "1998-02-28T00:00:00",
          "1998-03-31T00:00:00",
          "1998-04-30T00:00:00",
          "1998-05-31T00:00:00",
          "1998-06-30T00:00:00",
          "1998-07-31T00:00:00",
          "1998-08-31T00:00:00",
          "1998-09-30T00:00:00",
          "1998-10-31T00:00:00",
          "1998-11-30T00:00:00",
          "1998-12-31T00:00:00",
          "1999-01-31T00:00:00",
          "1999-02-28T00:00:00",
          "1999-03-31T00:00:00",
          "1999-04-30T00:00:00",
          "1999-05-31T00:00:00",
          "1999-06-30T00:00:00",
          "1999-07-31T00:00:00",
          "1999-08-31T00:00:00",
          "1999-09-30T00:00:00",
          "1999-10-31T00:00:00",
          "1999-11-30T00:00:00",
          "1999-12-31T00:00:00",
          "2000-01-31T00:00:00",
          "2000-02-29T00:00:00",
          "2000-03-31T00:00:00",
          "2000-04-30T00:00:00",
          "2000-05-31T00:00:00",
          "2000-06-30T00:00:00",
          "2000-07-31T00:00:00",
          "2000-08-31T00:00:00",
          "2000-09-30T00:00:00",
          "2000-10-31T00:00:00",
          "2000-11-30T00:00:00",
          "2000-12-31T00:00:00",
          "2001-01-31T00:00:00",
          "2001-02-28T00:00:00",
          "2001-03-31T00:00:00",
          "2001-04-30T00:00:00",
          "2001-05-31T00:00:00",
          "2001-06-30T00:00:00",
          "2001-07-31T00:00:00",
          "2001-08-31T00:00:00",
          "2001-09-30T00:00:00",
          "2001-10-31T00:00:00",
          "2001-11-30T00:00:00",
          "2001-12-31T00:00:00",
          "2002-01-31T00:00:00",
          "2002-02-28T00:00:00",
          "2002-03-31T00:00:00",
          "2002-04-30T00:00:00",
          "2002-05-31T00:00:00",
          "2002-06-30T00:00:00",
          "2002-07-31T00:00:00",
          "2002-08-31T00:00:00",
          "2002-09-30T00:00:00",
          "2002-10-31T00:00:00",
          "2002-11-30T00:00:00",
          "2002-12-31T00:00:00",
          "2003-01-31T00:00:00",
          "2003-02-28T00:00:00",
          "2003-03-31T00:00:00",
          "2003-04-30T00:00:00",
          "2003-05-31T00:00:00",
          "2003-06-30T00:00:00",
          "2003-07-31T00:00:00",
          "2003-08-31T00:00:00",
          "2003-09-30T00:00:00",
          "2003-10-31T00:00:00",
          "2003-11-30T00:00:00",
          "2003-12-31T00:00:00",
          "2004-01-31T00:00:00",
          "2004-02-29T00:00:00",
          "2004-03-31T00:00:00",
          "2004-04-30T00:00:00",
          "2004-05-31T00:00:00",
          "2004-06-30T00:00:00",
          "2004-07-31T00:00:00",
          "2004-08-31T00:00:00",
          "2004-09-30T00:00:00",
          "2004-10-31T00:00:00",
          "2004-11-30T00:00:00",
          "2004-12-31T00:00:00",
          "2005-01-31T00:00:00",
          "2005-02-28T00:00:00",
          "2005-03-31T00:00:00",
          "2005-04-30T00:00:00",
          "2005-05-31T00:00:00",
          "2005-06-30T00:00:00",
          "2005-07-31T00:00:00",
          "2005-08-31T00:00:00",
          "2005-09-30T00:00:00",
          "2005-10-31T00:00:00",
          "2005-11-30T00:00:00",
          "2005-12-31T00:00:00",
          "2006-01-31T00:00:00",
          "2006-02-28T00:00:00",
          "2006-03-31T00:00:00",
          "2006-04-30T00:00:00",
          "2006-05-31T00:00:00",
          "2006-06-30T00:00:00",
          "2006-07-31T00:00:00",
          "2006-08-31T00:00:00",
          "2006-09-30T00:00:00",
          "2006-10-31T00:00:00",
          "2006-11-30T00:00:00",
          "2006-12-31T00:00:00",
          "2007-01-31T00:00:00",
          "2007-02-28T00:00:00",
          "2007-03-31T00:00:00",
          "2007-04-30T00:00:00",
          "2007-05-31T00:00:00",
          "2007-06-30T00:00:00",
          "2007-07-31T00:00:00",
          "2007-08-31T00:00:00",
          "2007-09-30T00:00:00",
          "2007-10-31T00:00:00",
          "2007-11-30T00:00:00",
          "2007-12-31T00:00:00",
          "2008-01-31T00:00:00",
          "2008-02-29T00:00:00",
          "2008-03-31T00:00:00",
          "2008-04-30T00:00:00",
          "2008-05-31T00:00:00",
          "2008-06-30T00:00:00",
          "2008-07-31T00:00:00",
          "2008-08-31T00:00:00",
          "2008-09-30T00:00:00",
          "2008-10-31T00:00:00",
          "2008-11-30T00:00:00",
          "2008-12-31T00:00:00",
          "2009-01-31T00:00:00",
          "2009-02-28T00:00:00",
          "2009-03-31T00:00:00",
          "2009-04-30T00:00:00",
          "2009-05-31T00:00:00",
          "2009-06-30T00:00:00",
          "2009-07-31T00:00:00",
          "2009-08-31T00:00:00",
          "2009-09-30T00:00:00",
          "2009-10-31T00:00:00",
          "2009-11-30T00:00:00",
          "2009-12-31T00:00:00",
          "2010-01-31T00:00:00",
          "2010-02-28T00:00:00",
          "2010-03-31T00:00:00",
          "2010-04-30T00:00:00",
          "2010-05-31T00:00:00",
          "2010-06-30T00:00:00",
          "2010-07-31T00:00:00",
          "2010-08-31T00:00:00",
          "2010-09-30T00:00:00",
          "2010-10-31T00:00:00",
          "2010-11-30T00:00:00",
          "2010-12-31T00:00:00",
          "2011-01-31T00:00:00",
          "2011-02-28T00:00:00",
          "2011-03-31T00:00:00",
          "2011-04-30T00:00:00",
          "2011-05-31T00:00:00",
          "2011-06-30T00:00:00",
          "2011-07-31T00:00:00",
          "2011-08-31T00:00:00",
          "2011-09-30T00:00:00",
          "2011-10-31T00:00:00",
          "2011-11-30T00:00:00",
          "2011-12-31T00:00:00",
          "2012-01-31T00:00:00",
          "2012-02-29T00:00:00",
          "2012-03-31T00:00:00",
          "2012-04-30T00:00:00",
          "2012-05-31T00:00:00",
          "2012-06-30T00:00:00",
          "2012-07-31T00:00:00",
          "2012-08-31T00:00:00",
          "2012-09-30T00:00:00",
          "2012-10-31T00:00:00",
          "2012-11-30T00:00:00",
          "2012-12-31T00:00:00",
          "2013-01-31T00:00:00",
          "2013-02-28T00:00:00",
          "2013-03-31T00:00:00",
          "2013-04-30T00:00:00",
          "2013-05-31T00:00:00",
          "2013-06-30T00:00:00",
          "2013-07-31T00:00:00",
          "2013-08-31T00:00:00",
          "2013-09-30T00:00:00",
          "2013-10-31T00:00:00",
          "2013-11-30T00:00:00",
          "2013-12-31T00:00:00",
          "2014-01-31T00:00:00",
          "2014-02-28T00:00:00",
          "2014-03-31T00:00:00",
          "2014-04-30T00:00:00",
          "2014-05-31T00:00:00",
          "2014-06-30T00:00:00",
          "2014-07-31T00:00:00",
          "2014-08-31T00:00:00",
          "2014-09-30T00:00:00",
          "2014-10-31T00:00:00",
          "2014-11-30T00:00:00",
          "2014-12-31T00:00:00",
          "2015-01-31T00:00:00",
          "2015-02-28T00:00:00",
          "2015-03-31T00:00:00",
          "2015-04-30T00:00:00",
          "2015-05-31T00:00:00",
          "2015-06-30T00:00:00",
          "2015-07-31T00:00:00",
          "2015-08-31T00:00:00",
          "2015-09-30T00:00:00",
          "2015-10-31T00:00:00",
          "2015-11-30T00:00:00",
          "2015-12-31T00:00:00",
          "2016-01-31T00:00:00",
          "2016-02-29T00:00:00",
          "2016-03-31T00:00:00",
          "2016-04-30T00:00:00",
          "2016-05-31T00:00:00",
          "2016-06-30T00:00:00",
          "2016-07-31T00:00:00",
          "2016-08-31T00:00:00",
          "2016-09-30T00:00:00",
          "2016-10-31T00:00:00",
          "2016-11-30T00:00:00",
          "2016-12-31T00:00:00",
          "2017-01-31T00:00:00",
          "2017-02-28T00:00:00",
          "2017-03-31T00:00:00",
          "2017-04-30T00:00:00",
          "2017-05-31T00:00:00",
          "2017-06-30T00:00:00",
          "2017-07-31T00:00:00",
          "2017-08-31T00:00:00",
          "2017-09-30T00:00:00",
          "2017-10-31T00:00:00",
          "2017-11-30T00:00:00",
          "2017-12-31T00:00:00",
          "2018-01-31T00:00:00",
          "2018-02-28T00:00:00",
          "2018-03-31T00:00:00",
          "2018-04-30T00:00:00",
          "2018-05-31T00:00:00",
          "2018-06-30T00:00:00",
          "2018-07-31T00:00:00",
          "2018-08-31T00:00:00",
          "2018-09-30T00:00:00",
          "2018-10-31T00:00:00",
          "2018-11-30T00:00:00",
          "2018-12-31T00:00:00",
          "2019-01-31T00:00:00",
          "2019-02-28T00:00:00",
          "2019-03-31T00:00:00",
          "2019-04-30T00:00:00",
          "2019-05-31T00:00:00",
          "2019-06-30T00:00:00",
          "2019-07-31T00:00:00",
          "2019-08-31T00:00:00",
          "2019-09-30T00:00:00",
          "2019-10-31T00:00:00",
          "2019-11-30T00:00:00",
          "2019-12-31T00:00:00",
          "2020-01-31T00:00:00",
          "2020-02-29T00:00:00",
          "2020-03-31T00:00:00",
          "2020-04-30T00:00:00",
          "2020-05-31T00:00:00",
          "2020-06-30T00:00:00",
          "2020-07-31T00:00:00",
          "2020-08-31T00:00:00",
          "2020-09-30T00:00:00",
          "2020-10-31T00:00:00",
          "2020-11-30T00:00:00",
          "2020-12-31T00:00:00",
          "2021-01-31T00:00:00",
          "2021-02-28T00:00:00",
          "2021-03-31T00:00:00",
          "2021-04-30T00:00:00",
          "2021-05-31T00:00:00",
          "2021-06-30T00:00:00",
          "2021-07-31T00:00:00",
          "2021-08-31T00:00:00",
          "2021-09-30T00:00:00",
          "2021-10-31T00:00:00",
          "2021-11-30T00:00:00",
          "2021-12-31T00:00:00",
          "2022-01-31T00:00:00",
          "2022-02-28T00:00:00",
          "2022-03-31T00:00:00",
          "2022-04-30T00:00:00",
          "2022-05-31T00:00:00",
          "2022-06-30T00:00:00",
          "2022-07-31T00:00:00",
          "2022-08-31T00:00:00",
          "2022-09-30T00:00:00",
          "2022-10-31T00:00:00",
          "2022-11-30T00:00:00",
          "2022-12-31T00:00:00",
          "2023-01-31T00:00:00",
          "2023-02-28T00:00:00",
          "2023-03-31T00:00:00",
          "2023-04-30T00:00:00",
          "2023-05-31T00:00:00",
          "2023-06-30T00:00:00",
          "2023-07-31T00:00:00",
          "2023-08-31T00:00:00",
          "2023-09-30T00:00:00"
         ],
         "y": [
          10.905379445620712,
          18.051917905332996,
          17.15915793754858,
          20.541944868123075,
          23.62249215034644,
          25.615297301791077,
          26.597842906303725,
          22.594207941244182,
          23.294908975210127,
          20.850951989330483,
          15.67747272497377,
          12.194903828777619,
          9.733422902271855,
          10.71119422962073,
          10.376239888612664,
          8.586231621442678,
          1.9086643240269978,
          -6.621017563310374,
          -11.802747257610132,
          -8.914486376813741,
          -7.759185072520291,
          -2.6622582686726792,
          2.0786148200909076,
          5.714005135426484,
          10.80839008479203,
          9.8796408262649,
          6.347070059452513,
          5.432178339493665,
          8.587165357512422,
          16.198466720705845,
          23.14654686282944,
          14.277507889421065,
          22.745464996501013,
          21.464313446009267,
          11.80853788051703,
          7.334065383320304,
          7.716353621595348,
          6.24488133656386,
          8.05674046613329,
          8.519388512106524,
          6.941989504209845,
          7.0763664940984325,
          4.788439230916154,
          3.831635084366402,
          9.23826883299272,
          8.376793954955504,
          5.475277649579546,
          5.668217517133566,
          7.366150383051475,
          5.975356949720473,
          7.360731722807908,
          6.61567361030057,
          8.847852793941664,
          8.000456776866496,
          10.027930195822767,
          7.376761668694703,
          8.01763915851706,
          4.357032473636978,
          6.455452197413871,
          3.768485164368507,
          1.0304389330348658,
          0.540132721076572,
          0.5154507883854049,
          0.5865456675397309,
          1.0957657184700758,
          1.5537616810517216,
          1.058129849954738,
          0.003199619133868524,
          -0.5946180658380014,
          -1.281025773185267,
          0.032660486825561254,
          3.8660351226299854,
          6.582559289620427,
          12.119292492687887,
          13.475085923001133,
          15.32111119963463,
          15.8616449298854,
          18.114461577451348,
          20.24828869739536,
          23.65176607848896,
          27.80000724351674,
          35.28022657682692,
          30.87531376524099,
          19.789241114447734,
          24.478125014021945,
          19.88277802079301,
          20.64437407394176,
          18.60182798559092,
          19.973203467620372,
          13.552032273552026,
          15.215087716016695,
          22.63717764095445,
          18.955610648049134,
          22.32542073552124,
          19.981032880842225,
          20.19364644137729,
          16.75460738673838,
          23.739987766087474,
          23.030607962067922,
          33.44836931668758,
          38.61451745333005,
          39.36484628788342,
          36.68746836823736,
          30.52081292901948,
          24.8570290051568,
          28.817849397916845,
          25.46002889382326,
          27.232108350118303,
          43.064275513349465,
          32.182093406206214,
          25.745229006759,
          19.757416861899255,
          16.60122169473372,
          8.538743214450754,
          10.742255584700214,
          14.683323247410721,
          22.183924270932454,
          21.53798866650494,
          18.441968223639034,
          21.89067799585062,
          17.079428694331725,
          16.392337264904786,
          17.348527137768404,
          18.34530848852238,
          22.65085966649914,
          24.781119140452734,
          27.9704383567369,
          22.110376689464875,
          19.495045320161974,
          13.897233973396455,
          11.024455467808068,
          12.041023343835558,
          9.775186112246374,
          9.739118604700815,
          8.586525415293575,
          6.510301490262148,
          8.914358146402403,
          10.808232424605563,
          10.081686262157957,
          3.941101309194069,
          -3.9085861551492105,
          -5.9656626212618775,
          -7.253302467689834,
          -9.113994463989174,
          -15.804735227297739,
          -16.36716096825433,
          -12.359318752671292,
          -14.2550929116304,
          -18.133573360166015,
          -25.132503604285002,
          -24.492918877472857,
          -19.58498012049127,
          -12.498526464661133,
          -10.987588947119878,
          -11.558290471664726,
          -7.839711062271462,
          -6.7016040651132744,
          -7.395871822830885,
          -10.825172140908233,
          -13.83216779774775,
          -19.451189189574137,
          -19.750892111128838,
          -17.27336880084039,
          -15.122056320782262,
          -21.760096260286517,
          -22.454279241406116,
          -25.2609626032298,
          -23.4966235899099,
          -13.186169963605279,
          -16.79399475709067,
          -7.7255798414292105,
          -0.1257141278589461,
          4.767373340133079,
          10.374940608515178,
          13.65119238455135,
          13.66020869191637,
          15.849966930354134,
          34.621925910557565,
          25.32014098696854,
          39.61256002723401,
          16.217332778788272,
          15.853970138221323,
          12.789118386277803,
          12.182783744746192,
          11.40017854717563,
          9.21960760792865,
          10.952286763470518,
          9.502614253399107,
          8.066102082635057,
          6.264207123256541,
          5.294287866771598,
          4.164603177435352,
          5.183062542631894,
          4.143549778178592,
          3.9204514094187948,
          7.161362689616014,
          7.6497744134992525,
          13.110288806746983,
          7.3000006385078064,
          4.858552340410897,
          4.295960178211901,
          6.370464663087884,
          5.860244705553434,
          6.197770855215822,
          7.555333684575685,
          11.197467351503198,
          8.504237681699173,
          7.646381852915471,
          3.534066949298227,
          4.5420535929380375,
          13.736764100133904,
          6.982423756431826,
          10.452672332763933,
          13.90207285365864,
          10.433134550139608,
          10.723288459091881,
          8.770673591446824,
          14.130416031455677,
          16.03699939219344,
          13.4680338314738,
          19.349685291411976,
          12.622906595336156,
          9.372188660185433,
          14.933513369550083,
          6.9510670203379545,
          1.211249011811676,
          -1.8878296399955028,
          -5.257682023319461,
          -6.2529244103770365,
          -7.2302509736829705,
          -10.389700475375166,
          -12.002445663809647,
          -12.054667063344015,
          -15.499678671124006,
          -24.173175282006433,
          -31.785979391361657,
          -39.94536898136788,
          -42.15211836390712,
          -38.009460828618316,
          -40.83812628250147,
          -37.034378528719884,
          -35.67703367121898,
          -31.219163361647414,
          -24.77148236163462,
          -20.83645126230342,
          -15.196319898579182,
          -6.881214397492546,
          5.637345083718457,
          16.04618450297045,
          23.48035027041792,
          35.30667278109648,
          39.788946401151414,
          35.074128884563926,
          24.74821426943129,
          20.5421435399497,
          12.515924648304882,
          8.405714493790978,
          6.173509685921209,
          7.716800459290335,
          9.651589403656027,
          9.16536365340817,
          11.527162422601887,
          16.09707180751815,
          15.505363603237496,
          15.239983063077755,
          13.165162245350672,
          20.46252430090722,
          23.050701205147902,
          21.974443945226465,
          10.729137068690969,
          5.848359085899666,
          3.142763210000195,
          3.2122763515646424,
          2.202244573456348,
          1.2407805785460921,
          2.384575178709431,
          3.1743399446969613,
          1.7989004684062189,
          0.6928795859394491,
          2.228120780124718,
          9.650391432864161,
          15.543426924216217,
          16.844558331153237,
          15.543300350091533,
          5.860478785902999,
          13.980950303692218,
          10.63319872952333,
          10.91482456322488,
          10.620065432658542,
          12.169829295042835,
          23.14971240638013,
          10.983615472460233,
          13.331396810005813,
          11.169114002006221,
          19.464824241227273,
          17.260112665029805,
          16.008793437601412,
          17.188192960039448,
          16.979005392079834,
          14.213129064946923,
          17.713248459845918,
          12.163612261218653,
          14.050466894259927,
          15.216629668056845,
          18.6138484477768,
          15.809042937280879,
          15.522173951080823,
          12.386866189623108,
          13.251927168144487,
          13.141076379486384,
          12.078632847689633,
          9.754414017611786,
          11.069631951084391,
          7.2191940539538075,
          8.966675611087746,
          7.87624860225617,
          3.1063216796997173,
          0.741200844748877,
          -0.13010522491298496,
          0.0858142375899168,
          0.6405275946208197,
          -0.6026290774017197,
          -3.1461658592739803,
          -3.076867411970625,
          -2.6356678563248925,
          -0.405439855258022,
          0.004448076130940229,
          1.3197243514572996,
          3.599513688031864,
          8.761753799873079,
          7.479486227890967,
          5.815667391561424,
          4.541454249137111,
          10.68465886099674,
          15.918792970339897,
          17.278458471009255,
          14.19213567138133,
          13.653344540369478,
          13.881399390723526,
          11.858968010424025,
          12.98467734070821,
          13.543012093706244,
          15.779878434029087,
          17.671379314766213,
          17.079814153854297,
          18.388816409736588,
          17.393462328731616,
          15.963199701837011,
          11.441931321764422,
          11.113743858786666,
          10.339293091093099,
          12.16317123044214,
          13.21337350542248,
          13.788927803867383,
          11.39745583204959,
          7.611144785248781,
          0.9018018166596312,
          -1.2779107216420909,
          -2.3242704225182607,
          1.4402227731387063,
          6.489379385151383,
          5.510998648563947,
          5.373758488964787,
          4.63976992096484,
          4.551798772352497,
          2.832596526413353,
          4.853560203246246,
          6.698838190466264,
          19.05793997539557,
          18.145387627442584,
          16.13157444868673,
          5.679586167647295,
          -1.7907063912281453,
          0.11379079752531135,
          3.1542829829987378,
          7.032637263445796,
          8.456810397384256,
          11.77765449213811,
          12.00622893707621,
          8.639360525712226,
          12.199581575312264,
          15.358130461373623,
          16.672499894346537,
          11.311347073036014,
          39.37785368547918,
          28.050913714982123,
          26.488926337871597,
          33.251609434403484,
          31.120799376912785,
          27.316712538403696,
          36.781794242579245,
          27.999993759150712,
          29.03238205656297,
          23.983987272335845,
          19.79212701951662,
          16.827412376257218,
          7.53017050102351,
          3.557053634417783,
          -5.625528823502843,
          -5.814093731149426,
          -6.156635502938486,
          -11.6239112788354,
          -11.737398553553469,
          -14.339550700966997,
          -12.99551746000395,
          -10.469201427645162,
          -9.902597996467348,
          -6.55244385937252,
          -2.5457845652023137,
          -1.4807165858185527,
          7.234803968507416,
          11.924587825435818
         ]
        },
        {
         "line": {
          "color": "lightgreen",
          "dash": "dot"
         },
         "mode": "lines",
         "name": "Future",
         "type": "scatter",
         "x": [
          "2023-09-30T00:00:00",
          "2023-10-31T00:00:00",
          "2023-11-30T00:00:00"
         ],
         "y": [
          11.924587825435818,
          6.846816510412758,
          8.424357407296243
         ]
        }
       ],
       "layout": {
        "height": 400,
        "hovermode": "x unified",
        "legend": {
         "orientation": "h",
         "x": 0,
         "xanchor": "left",
         "y": 0.05,
         "yanchor": "bottom"
        },
        "margin": {
         "b": 40,
         "l": 80,
         "r": 40,
         "t": 80
        },
        "template": {
         "data": {
          "bar": [
           {
            "error_x": {
             "color": "#f2f5fa"
            },
            "error_y": {
             "color": "#f2f5fa"
            },
            "marker": {
             "line": {
              "color": "rgb(17,17,17)",
              "width": 0.5
             },
             "pattern": {
              "fillmode": "overlay",
              "size": 10,
              "solidity": 0.2
             }
            },
            "type": "bar"
           }
          ],
          "barpolar": [
           {
            "marker": {
             "line": {
              "color": "rgb(17,17,17)",
              "width": 0.5
             },
             "pattern": {
              "fillmode": "overlay",
              "size": 10,
              "solidity": 0.2
             }
            },
            "type": "barpolar"
           }
          ],
          "carpet": [
           {
            "aaxis": {
             "endlinecolor": "#A2B1C6",
             "gridcolor": "#506784",
             "linecolor": "#506784",
             "minorgridcolor": "#506784",
             "startlinecolor": "#A2B1C6"
            },
            "baxis": {
             "endlinecolor": "#A2B1C6",
             "gridcolor": "#506784",
             "linecolor": "#506784",
             "minorgridcolor": "#506784",
             "startlinecolor": "#A2B1C6"
            },
            "type": "carpet"
           }
          ],
          "choropleth": [
           {
            "colorbar": {
             "outlinewidth": 0,
             "ticks": ""
            },
            "type": "choropleth"
           }
          ],
          "contour": [
           {
            "colorbar": {
             "outlinewidth": 0,
             "ticks": ""
            },
            "colorscale": [
             [
              0,
              "#0d0887"
             ],
             [
              0.1111111111111111,
              "#46039f"
             ],
             [
              0.2222222222222222,
              "#7201a8"
             ],
             [
              0.3333333333333333,
              "#9c179e"
             ],
             [
              0.4444444444444444,
              "#bd3786"
             ],
             [
              0.5555555555555556,
              "#d8576b"
             ],
             [
              0.6666666666666666,
              "#ed7953"
             ],
             [
              0.7777777777777778,
              "#fb9f3a"
             ],
             [
              0.8888888888888888,
              "#fdca26"
             ],
             [
              1,
              "#f0f921"
             ]
            ],
            "type": "contour"
           }
          ],
          "contourcarpet": [
           {
            "colorbar": {
             "outlinewidth": 0,
             "ticks": ""
            },
            "type": "contourcarpet"
           }
          ],
          "heatmap": [
           {
            "colorbar": {
             "outlinewidth": 0,
             "ticks": ""
            },
            "colorscale": [
             [
              0,
              "#0d0887"
             ],
             [
              0.1111111111111111,
              "#46039f"
             ],
             [
              0.2222222222222222,
              "#7201a8"
             ],
             [
              0.3333333333333333,
              "#9c179e"
             ],
             [
              0.4444444444444444,
              "#bd3786"
             ],
             [
              0.5555555555555556,
              "#d8576b"
             ],
             [
              0.6666666666666666,
              "#ed7953"
             ],
             [
              0.7777777777777778,
              "#fb9f3a"
             ],
             [
              0.8888888888888888,
              "#fdca26"
             ],
             [
              1,
              "#f0f921"
             ]
            ],
            "type": "heatmap"
           }
          ],
          "heatmapgl": [
           {
            "colorbar": {
             "outlinewidth": 0,
             "ticks": ""
            },
            "colorscale": [
             [
              0,
              "#0d0887"
             ],
             [
              0.1111111111111111,
              "#46039f"
             ],
             [
              0.2222222222222222,
              "#7201a8"
             ],
             [
              0.3333333333333333,
              "#9c179e"
             ],
             [
              0.4444444444444444,
              "#bd3786"
             ],
             [
              0.5555555555555556,
              "#d8576b"
             ],
             [
              0.6666666666666666,
              "#ed7953"
             ],
             [
              0.7777777777777778,
              "#fb9f3a"
             ],
             [
              0.8888888888888888,
              "#fdca26"
             ],
             [
              1,
              "#f0f921"
             ]
            ],
            "type": "heatmapgl"
           }
          ],
          "histogram": [
           {
            "marker": {
             "pattern": {
              "fillmode": "overlay",
              "size": 10,
              "solidity": 0.2
             }
            },
            "type": "histogram"
           }
          ],
          "histogram2d": [
           {
            "colorbar": {
             "outlinewidth": 0,
             "ticks": ""
            },
            "colorscale": [
             [
              0,
              "#0d0887"
             ],
             [
              0.1111111111111111,
              "#46039f"
             ],
             [
              0.2222222222222222,
              "#7201a8"
             ],
             [
              0.3333333333333333,
              "#9c179e"
             ],
             [
              0.4444444444444444,
              "#bd3786"
             ],
             [
              0.5555555555555556,
              "#d8576b"
             ],
             [
              0.6666666666666666,
              "#ed7953"
             ],
             [
              0.7777777777777778,
              "#fb9f3a"
             ],
             [
              0.8888888888888888,
              "#fdca26"
             ],
             [
              1,
              "#f0f921"
             ]
            ],
            "type": "histogram2d"
           }
          ],
          "histogram2dcontour": [
           {
            "colorbar": {
             "outlinewidth": 0,
             "ticks": ""
            },
            "colorscale": [
             [
              0,
              "#0d0887"
             ],
             [
              0.1111111111111111,
              "#46039f"
             ],
             [
              0.2222222222222222,
              "#7201a8"
             ],
             [
              0.3333333333333333,
              "#9c179e"
             ],
             [
              0.4444444444444444,
              "#bd3786"
             ],
             [
              0.5555555555555556,
              "#d8576b"
             ],
             [
              0.6666666666666666,
              "#ed7953"
             ],
             [
              0.7777777777777778,
              "#fb9f3a"
             ],
             [
              0.8888888888888888,
              "#fdca26"
             ],
             [
              1,
              "#f0f921"
             ]
            ],
            "type": "histogram2dcontour"
           }
          ],
          "mesh3d": [
           {
            "colorbar": {
             "outlinewidth": 0,
             "ticks": ""
            },
            "type": "mesh3d"
           }
          ],
          "parcoords": [
           {
            "line": {
             "colorbar": {
              "outlinewidth": 0,
              "ticks": ""
             }
            },
            "type": "parcoords"
           }
          ],
          "pie": [
           {
            "automargin": true,
            "type": "pie"
           }
          ],
          "scatter": [
           {
            "marker": {
             "line": {
              "color": "#283442"
             }
            },
            "type": "scatter"
           }
          ],
          "scatter3d": [
           {
            "line": {
             "colorbar": {
              "outlinewidth": 0,
              "ticks": ""
             }
            },
            "marker": {
             "colorbar": {
              "outlinewidth": 0,
              "ticks": ""
             }
            },
            "type": "scatter3d"
           }
          ],
          "scattercarpet": [
           {
            "marker": {
             "colorbar": {
              "outlinewidth": 0,
              "ticks": ""
             }
            },
            "type": "scattercarpet"
           }
          ],
          "scattergeo": [
           {
            "marker": {
             "colorbar": {
              "outlinewidth": 0,
              "ticks": ""
             }
            },
            "type": "scattergeo"
           }
          ],
          "scattergl": [
           {
            "marker": {
             "line": {
              "color": "#283442"
             }
            },
            "type": "scattergl"
           }
          ],
          "scattermapbox": [
           {
            "marker": {
             "colorbar": {
              "outlinewidth": 0,
              "ticks": ""
             }
            },
            "type": "scattermapbox"
           }
          ],
          "scatterpolar": [
           {
            "marker": {
             "colorbar": {
              "outlinewidth": 0,
              "ticks": ""
             }
            },
            "type": "scatterpolar"
           }
          ],
          "scatterpolargl": [
           {
            "marker": {
             "colorbar": {
              "outlinewidth": 0,
              "ticks": ""
             }
            },
            "type": "scatterpolargl"
           }
          ],
          "scatterternary": [
           {
            "marker": {
             "colorbar": {
              "outlinewidth": 0,
              "ticks": ""
             }
            },
            "type": "scatterternary"
           }
          ],
          "surface": [
           {
            "colorbar": {
             "outlinewidth": 0,
             "ticks": ""
            },
            "colorscale": [
             [
              0,
              "#0d0887"
             ],
             [
              0.1111111111111111,
              "#46039f"
             ],
             [
              0.2222222222222222,
              "#7201a8"
             ],
             [
              0.3333333333333333,
              "#9c179e"
             ],
             [
              0.4444444444444444,
              "#bd3786"
             ],
             [
              0.5555555555555556,
              "#d8576b"
             ],
             [
              0.6666666666666666,
              "#ed7953"
             ],
             [
              0.7777777777777778,
              "#fb9f3a"
             ],
             [
              0.8888888888888888,
              "#fdca26"
             ],
             [
              1,
              "#f0f921"
             ]
            ],
            "type": "surface"
           }
          ],
          "table": [
           {
            "cells": {
             "fill": {
              "color": "#506784"
             },
             "line": {
              "color": "rgb(17,17,17)"
             }
            },
            "header": {
             "fill": {
              "color": "#2a3f5f"
             },
             "line": {
              "color": "rgb(17,17,17)"
             }
            },
            "type": "table"
           }
          ]
         },
         "layout": {
          "annotationdefaults": {
           "arrowcolor": "#f2f5fa",
           "arrowhead": 0,
           "arrowwidth": 1
          },
          "autotypenumbers": "strict",
          "coloraxis": {
           "colorbar": {
            "outlinewidth": 0,
            "ticks": ""
           }
          },
          "colorscale": {
           "diverging": [
            [
             0,
             "#8e0152"
            ],
            [
             0.1,
             "#c51b7d"
            ],
            [
             0.2,
             "#de77ae"
            ],
            [
             0.3,
             "#f1b6da"
            ],
            [
             0.4,
             "#fde0ef"
            ],
            [
             0.5,
             "#f7f7f7"
            ],
            [
             0.6,
             "#e6f5d0"
            ],
            [
             0.7,
             "#b8e186"
            ],
            [
             0.8,
             "#7fbc41"
            ],
            [
             0.9,
             "#4d9221"
            ],
            [
             1,
             "#276419"
            ]
           ],
           "sequential": [
            [
             0,
             "#0d0887"
            ],
            [
             0.1111111111111111,
             "#46039f"
            ],
            [
             0.2222222222222222,
             "#7201a8"
            ],
            [
             0.3333333333333333,
             "#9c179e"
            ],
            [
             0.4444444444444444,
             "#bd3786"
            ],
            [
             0.5555555555555556,
             "#d8576b"
            ],
            [
             0.6666666666666666,
             "#ed7953"
            ],
            [
             0.7777777777777778,
             "#fb9f3a"
            ],
            [
             0.8888888888888888,
             "#fdca26"
            ],
            [
             1,
             "#f0f921"
            ]
           ],
           "sequentialminus": [
            [
             0,
             "#0d0887"
            ],
            [
             0.1111111111111111,
             "#46039f"
            ],
            [
             0.2222222222222222,
             "#7201a8"
            ],
            [
             0.3333333333333333,
             "#9c179e"
            ],
            [
             0.4444444444444444,
             "#bd3786"
            ],
            [
             0.5555555555555556,
             "#d8576b"
            ],
            [
             0.6666666666666666,
             "#ed7953"
            ],
            [
             0.7777777777777778,
             "#fb9f3a"
            ],
            [
             0.8888888888888888,
             "#fdca26"
            ],
            [
             1,
             "#f0f921"
            ]
           ]
          },
          "colorway": [
           "#636efa",
           "#EF553B",
           "#00cc96",
           "#ab63fa",
           "#FFA15A",
           "#19d3f3",
           "#FF6692",
           "#B6E880",
           "#FF97FF",
           "#FECB52"
          ],
          "font": {
           "color": "#f2f5fa"
          },
          "geo": {
           "bgcolor": "rgb(17,17,17)",
           "lakecolor": "rgb(17,17,17)",
           "landcolor": "rgb(17,17,17)",
           "showlakes": true,
           "showland": true,
           "subunitcolor": "#506784"
          },
          "hoverlabel": {
           "align": "left"
          },
          "hovermode": "closest",
          "mapbox": {
           "style": "dark"
          },
          "paper_bgcolor": "rgb(17,17,17)",
          "plot_bgcolor": "rgb(17,17,17)",
          "polar": {
           "angularaxis": {
            "gridcolor": "#506784",
            "linecolor": "#506784",
            "ticks": ""
           },
           "bgcolor": "rgb(17,17,17)",
           "radialaxis": {
            "gridcolor": "#506784",
            "linecolor": "#506784",
            "ticks": ""
           }
          },
          "scene": {
           "xaxis": {
            "backgroundcolor": "rgb(17,17,17)",
            "gridcolor": "#506784",
            "gridwidth": 2,
            "linecolor": "#506784",
            "showbackground": true,
            "ticks": "",
            "zerolinecolor": "#C8D4E3"
           },
           "yaxis": {
            "backgroundcolor": "rgb(17,17,17)",
            "gridcolor": "#506784",
            "gridwidth": 2,
            "linecolor": "#506784",
            "showbackground": true,
            "ticks": "",
            "zerolinecolor": "#C8D4E3"
           },
           "zaxis": {
            "backgroundcolor": "rgb(17,17,17)",
            "gridcolor": "#506784",
            "gridwidth": 2,
            "linecolor": "#506784",
            "showbackground": true,
            "ticks": "",
            "zerolinecolor": "#C8D4E3"
           }
          },
          "shapedefaults": {
           "line": {
            "color": "#f2f5fa"
           }
          },
          "sliderdefaults": {
           "bgcolor": "#C8D4E3",
           "bordercolor": "rgb(17,17,17)",
           "borderwidth": 1,
           "tickwidth": 0
          },
          "ternary": {
           "aaxis": {
            "gridcolor": "#506784",
            "linecolor": "#506784",
            "ticks": ""
           },
           "baxis": {
            "gridcolor": "#506784",
            "linecolor": "#506784",
            "ticks": ""
           },
           "bgcolor": "rgb(17,17,17)",
           "caxis": {
            "gridcolor": "#506784",
            "linecolor": "#506784",
            "ticks": ""
           }
          },
          "title": {
           "x": 0.05
          },
          "updatemenudefaults": {
           "bgcolor": "#506784",
           "borderwidth": 0
          },
          "xaxis": {
           "automargin": true,
           "gridcolor": "#283442",
           "linecolor": "#506784",
           "ticks": "",
           "title": {
            "standoff": 15
           },
           "zerolinecolor": "#283442",
           "zerolinewidth": 2
          },
          "yaxis": {
           "automargin": true,
           "gridcolor": "#283442",
           "linecolor": "#506784",
           "ticks": "",
           "title": {
            "standoff": 15
           },
           "zerolinecolor": "#283442",
           "zerolinewidth": 2
          }
         }
        },
        "title": {
         "text": "Prediction of %YoY S&P500 in 2-Month Based on Current Data<br><span style=\"font-size: 12.5px; color: lightgrey;\"> --Model predicts 3-month moving averaged target prices</span>"
        },
        "width": 700
       }
      }
     },
     "metadata": {},
     "output_type": "display_data"
    },
    {
     "data": {
      "application/vnd.plotly.v1+json": {
       "config": {
        "plotlyServerURL": "https://plot.ly"
       },
       "data": [
        {
         "hoverinfo": "name+y+text",
         "marker": {
          "color": "red",
          "opacity": 0.5
         },
         "mode": "markers",
         "name": "Error",
         "text": [
          "Date: Jun 1989",
          "Date: Jul 1989",
          "Date: Aug 1989",
          "Date: Sep 1989",
          "Date: Oct 1989",
          "Date: Nov 1989",
          "Date: Dec 1989",
          "Date: Jan 1990",
          "Date: Feb 1990",
          "Date: Mar 1990",
          "Date: Apr 1990",
          "Date: May 1990",
          "Date: Jun 1990",
          "Date: Jul 1990",
          "Date: Aug 1990",
          "Date: Sep 1990",
          "Date: Oct 1990",
          "Date: Nov 1990",
          "Date: Dec 1990",
          "Date: Jan 1991",
          "Date: Feb 1991",
          "Date: Mar 1991",
          "Date: Apr 1991",
          "Date: May 1991",
          "Date: Jun 1991",
          "Date: Jul 1991",
          "Date: Aug 1991",
          "Date: Sep 1991",
          "Date: Oct 1991",
          "Date: Nov 1991",
          "Date: Dec 1991",
          "Date: Jan 1992",
          "Date: Feb 1992",
          "Date: Mar 1992",
          "Date: Apr 1992",
          "Date: May 1992",
          "Date: Jun 1992",
          "Date: Jul 1992",
          "Date: Aug 1992",
          "Date: Sep 1992",
          "Date: Oct 1992",
          "Date: Nov 1992",
          "Date: Dec 1992",
          "Date: Jan 1993",
          "Date: Feb 1993",
          "Date: Mar 1993",
          "Date: Apr 1993",
          "Date: May 1993",
          "Date: Jun 1993",
          "Date: Jul 1993",
          "Date: Aug 1993",
          "Date: Sep 1993",
          "Date: Oct 1993",
          "Date: Nov 1993",
          "Date: Dec 1993",
          "Date: Jan 1994",
          "Date: Feb 1994",
          "Date: Mar 1994",
          "Date: Apr 1994",
          "Date: May 1994",
          "Date: Jun 1994",
          "Date: Jul 1994",
          "Date: Aug 1994",
          "Date: Sep 1994",
          "Date: Oct 1994",
          "Date: Nov 1994",
          "Date: Dec 1994",
          "Date: Jan 1995",
          "Date: Feb 1995",
          "Date: Mar 1995",
          "Date: Apr 1995",
          "Date: May 1995",
          "Date: Jun 1995",
          "Date: Jul 1995",
          "Date: Aug 1995",
          "Date: Sep 1995",
          "Date: Oct 1995",
          "Date: Nov 1995",
          "Date: Dec 1995",
          "Date: Jan 1996",
          "Date: Feb 1996",
          "Date: Mar 1996",
          "Date: Apr 1996",
          "Date: May 1996",
          "Date: Jun 1996",
          "Date: Jul 1996",
          "Date: Aug 1996",
          "Date: Sep 1996",
          "Date: Oct 1996",
          "Date: Nov 1996",
          "Date: Dec 1996",
          "Date: Jan 1997",
          "Date: Feb 1997",
          "Date: Mar 1997",
          "Date: Apr 1997",
          "Date: May 1997",
          "Date: Jun 1997",
          "Date: Jul 1997",
          "Date: Aug 1997",
          "Date: Sep 1997",
          "Date: Oct 1997",
          "Date: Nov 1997",
          "Date: Dec 1997",
          "Date: Jan 1998",
          "Date: Feb 1998",
          "Date: Mar 1998",
          "Date: Apr 1998",
          "Date: May 1998",
          "Date: Jun 1998",
          "Date: Jul 1998",
          "Date: Aug 1998",
          "Date: Sep 1998",
          "Date: Oct 1998",
          "Date: Nov 1998",
          "Date: Dec 1998",
          "Date: Jan 1999",
          "Date: Feb 1999",
          "Date: Mar 1999",
          "Date: Apr 1999",
          "Date: May 1999",
          "Date: Jun 1999",
          "Date: Jul 1999",
          "Date: Aug 1999",
          "Date: Sep 1999",
          "Date: Oct 1999",
          "Date: Nov 1999",
          "Date: Dec 1999",
          "Date: Jan 2000",
          "Date: Feb 2000",
          "Date: Mar 2000",
          "Date: Apr 2000",
          "Date: May 2000",
          "Date: Jun 2000",
          "Date: Jul 2000",
          "Date: Aug 2000",
          "Date: Sep 2000",
          "Date: Oct 2000",
          "Date: Nov 2000",
          "Date: Dec 2000",
          "Date: Jan 2001",
          "Date: Feb 2001",
          "Date: Mar 2001",
          "Date: Apr 2001",
          "Date: May 2001",
          "Date: Jun 2001",
          "Date: Jul 2001",
          "Date: Aug 2001",
          "Date: Sep 2001",
          "Date: Oct 2001",
          "Date: Nov 2001",
          "Date: Dec 2001",
          "Date: Jan 2002",
          "Date: Feb 2002",
          "Date: Mar 2002",
          "Date: Apr 2002",
          "Date: May 2002",
          "Date: Jun 2002",
          "Date: Jul 2002",
          "Date: Aug 2002",
          "Date: Sep 2002",
          "Date: Oct 2002",
          "Date: Nov 2002",
          "Date: Dec 2002",
          "Date: Jan 2003",
          "Date: Feb 2003",
          "Date: Mar 2003",
          "Date: Apr 2003",
          "Date: May 2003",
          "Date: Jun 2003",
          "Date: Jul 2003",
          "Date: Aug 2003",
          "Date: Sep 2003",
          "Date: Oct 2003",
          "Date: Nov 2003",
          "Date: Dec 2003",
          "Date: Jan 2004",
          "Date: Feb 2004",
          "Date: Mar 2004",
          "Date: Apr 2004",
          "Date: May 2004",
          "Date: Jun 2004",
          "Date: Jul 2004",
          "Date: Aug 2004",
          "Date: Sep 2004",
          "Date: Oct 2004",
          "Date: Nov 2004",
          "Date: Dec 2004",
          "Date: Jan 2005",
          "Date: Feb 2005",
          "Date: Mar 2005",
          "Date: Apr 2005",
          "Date: May 2005",
          "Date: Jun 2005",
          "Date: Jul 2005",
          "Date: Aug 2005",
          "Date: Sep 2005",
          "Date: Oct 2005",
          "Date: Nov 2005",
          "Date: Dec 2005",
          "Date: Jan 2006",
          "Date: Feb 2006",
          "Date: Mar 2006",
          "Date: Apr 2006",
          "Date: May 2006",
          "Date: Jun 2006",
          "Date: Jul 2006",
          "Date: Aug 2006",
          "Date: Sep 2006",
          "Date: Oct 2006",
          "Date: Nov 2006",
          "Date: Dec 2006",
          "Date: Jan 2007",
          "Date: Feb 2007",
          "Date: Mar 2007",
          "Date: Apr 2007",
          "Date: May 2007",
          "Date: Jun 2007",
          "Date: Jul 2007",
          "Date: Aug 2007",
          "Date: Sep 2007",
          "Date: Oct 2007",
          "Date: Nov 2007",
          "Date: Dec 2007",
          "Date: Jan 2008",
          "Date: Feb 2008",
          "Date: Mar 2008",
          "Date: Apr 2008",
          "Date: May 2008",
          "Date: Jun 2008",
          "Date: Jul 2008",
          "Date: Aug 2008",
          "Date: Sep 2008",
          "Date: Oct 2008",
          "Date: Nov 2008",
          "Date: Dec 2008",
          "Date: Jan 2009",
          "Date: Feb 2009",
          "Date: Mar 2009",
          "Date: Apr 2009",
          "Date: May 2009",
          "Date: Jun 2009",
          "Date: Jul 2009",
          "Date: Aug 2009",
          "Date: Sep 2009",
          "Date: Oct 2009",
          "Date: Nov 2009",
          "Date: Dec 2009",
          "Date: Jan 2010",
          "Date: Feb 2010",
          "Date: Mar 2010",
          "Date: Apr 2010",
          "Date: May 2010",
          "Date: Jun 2010",
          "Date: Jul 2010",
          "Date: Aug 2010",
          "Date: Sep 2010",
          "Date: Oct 2010",
          "Date: Nov 2010",
          "Date: Dec 2010",
          "Date: Jan 2011",
          "Date: Feb 2011",
          "Date: Mar 2011",
          "Date: Apr 2011",
          "Date: May 2011",
          "Date: Jun 2011",
          "Date: Jul 2011",
          "Date: Aug 2011",
          "Date: Sep 2011",
          "Date: Oct 2011",
          "Date: Nov 2011",
          "Date: Dec 2011",
          "Date: Jan 2012",
          "Date: Feb 2012",
          "Date: Mar 2012",
          "Date: Apr 2012",
          "Date: May 2012",
          "Date: Jun 2012",
          "Date: Jul 2012",
          "Date: Aug 2012",
          "Date: Sep 2012",
          "Date: Oct 2012",
          "Date: Nov 2012",
          "Date: Dec 2012",
          "Date: Jan 2013",
          "Date: Feb 2013",
          "Date: Mar 2013",
          "Date: Apr 2013",
          "Date: May 2013",
          "Date: Jun 2013",
          "Date: Jul 2013",
          "Date: Aug 2013",
          "Date: Sep 2013",
          "Date: Oct 2013",
          "Date: Nov 2013",
          "Date: Dec 2013",
          "Date: Jan 2014",
          "Date: Feb 2014",
          "Date: Mar 2014",
          "Date: Apr 2014",
          "Date: May 2014",
          "Date: Jun 2014",
          "Date: Jul 2014",
          "Date: Aug 2014",
          "Date: Sep 2014",
          "Date: Oct 2014",
          "Date: Nov 2014",
          "Date: Dec 2014",
          "Date: Jan 2015",
          "Date: Feb 2015",
          "Date: Mar 2015",
          "Date: Apr 2015",
          "Date: May 2015",
          "Date: Jun 2015",
          "Date: Jul 2015",
          "Date: Aug 2015",
          "Date: Sep 2015",
          "Date: Oct 2015",
          "Date: Nov 2015",
          "Date: Dec 2015",
          "Date: Jan 2016",
          "Date: Feb 2016",
          "Date: Mar 2016",
          "Date: Apr 2016",
          "Date: May 2016",
          "Date: Jun 2016",
          "Date: Jul 2016",
          "Date: Aug 2016",
          "Date: Sep 2016",
          "Date: Oct 2016",
          "Date: Nov 2016",
          "Date: Dec 2016",
          "Date: Jan 2017",
          "Date: Feb 2017",
          "Date: Mar 2017",
          "Date: Apr 2017",
          "Date: May 2017",
          "Date: Jun 2017",
          "Date: Jul 2017",
          "Date: Aug 2017",
          "Date: Sep 2017",
          "Date: Oct 2017",
          "Date: Nov 2017",
          "Date: Dec 2017",
          "Date: Jan 2018",
          "Date: Feb 2018",
          "Date: Mar 2018",
          "Date: Apr 2018",
          "Date: May 2018",
          "Date: Jun 2018",
          "Date: Jul 2018",
          "Date: Aug 2018",
          "Date: Sep 2018",
          "Date: Oct 2018",
          "Date: Nov 2018",
          "Date: Dec 2018",
          "Date: Jan 2019",
          "Date: Feb 2019",
          "Date: Mar 2019",
          "Date: Apr 2019",
          "Date: May 2019",
          "Date: Jun 2019",
          "Date: Jul 2019",
          "Date: Aug 2019",
          "Date: Sep 2019",
          "Date: Oct 2019",
          "Date: Nov 2019",
          "Date: Dec 2019",
          "Date: Jan 2020",
          "Date: Feb 2020",
          "Date: Mar 2020",
          "Date: Apr 2020",
          "Date: May 2020",
          "Date: Jun 2020",
          "Date: Jul 2020",
          "Date: Aug 2020",
          "Date: Sep 2020",
          "Date: Oct 2020",
          "Date: Nov 2020",
          "Date: Dec 2020",
          "Date: Jan 2021",
          "Date: Feb 2021",
          "Date: Mar 2021",
          "Date: Apr 2021",
          "Date: May 2021",
          "Date: Jun 2021",
          "Date: Jul 2021",
          "Date: Aug 2021",
          "Date: Sep 2021",
          "Date: Oct 2021",
          "Date: Nov 2021",
          "Date: Dec 2021",
          "Date: Jan 2022",
          "Date: Feb 2022",
          "Date: Mar 2022",
          "Date: Apr 2022",
          "Date: May 2022",
          "Date: Jun 2022",
          "Date: Jul 2022",
          "Date: Aug 2022",
          "Date: Sep 2022",
          "Date: Oct 2022",
          "Date: Nov 2022",
          "Date: Dec 2022",
          "Date: Jan 2023",
          "Date: Feb 2023",
          "Date: Mar 2023",
          "Date: Apr 2023",
          "Date: May 2023",
          "Date: Jun 2023",
          "Date: Jul 2023",
          "Date: Aug 2023",
          "Date: Sep 2023"
         ],
         "type": "scatter",
         "x": [
          0,
          0.3333333333333333,
          0.6666666666666666,
          1,
          1.3333333333333333,
          1.6666666666666667,
          2,
          2.3333333333333335,
          2.6666666666666665,
          3,
          3.3333333333333335,
          3.6666666666666665,
          4,
          4.333333333333333,
          4.666666666666667,
          5,
          5.333333333333333,
          5.666666666666667,
          6,
          6.333333333333333,
          6.666666666666667,
          7,
          7.333333333333333,
          7.666666666666667,
          8,
          8.333333333333334,
          8.666666666666666,
          9,
          9.333333333333334,
          9.666666666666666,
          10,
          10.333333333333334,
          10.666666666666666,
          11,
          11.333333333333334,
          11.666666666666666,
          12,
          12.333333333333334,
          12.666666666666666,
          13,
          13.333333333333334,
          13.666666666666666,
          14,
          14.333333333333334,
          14.666666666666666,
          15,
          15.333333333333334,
          15.666666666666666,
          16,
          16.333333333333332,
          16.666666666666668,
          17,
          17.333333333333332,
          17.666666666666668,
          18,
          18.333333333333332,
          18.666666666666668,
          19,
          19.333333333333332,
          19.666666666666668,
          20,
          20.333333333333332,
          20.666666666666668,
          21,
          21.333333333333332,
          21.666666666666668,
          22,
          22.333333333333332,
          22.666666666666668,
          23,
          23.333333333333332,
          23.666666666666668,
          24,
          24.333333333333332,
          24.666666666666668,
          25,
          25.333333333333332,
          25.666666666666668,
          26,
          26.333333333333332,
          26.666666666666668,
          27,
          27.333333333333332,
          27.666666666666668,
          28,
          28.333333333333332,
          28.666666666666668,
          29,
          29.333333333333332,
          29.666666666666668,
          30,
          30.333333333333332,
          30.666666666666668,
          31,
          31.333333333333332,
          31.666666666666668,
          32,
          32.333333333333336,
          32.666666666666664,
          33,
          33.333333333333336,
          33.666666666666664,
          34,
          34.333333333333336,
          34.666666666666664,
          35,
          35.333333333333336,
          35.666666666666664,
          36,
          36.333333333333336,
          36.666666666666664,
          37,
          37.333333333333336,
          37.666666666666664,
          38,
          38.333333333333336,
          38.666666666666664,
          39,
          39.333333333333336,
          39.666666666666664,
          40,
          40.333333333333336,
          40.666666666666664,
          41,
          41.333333333333336,
          41.666666666666664,
          42,
          42.333333333333336,
          42.666666666666664,
          43,
          43.333333333333336,
          43.666666666666664,
          44,
          44.333333333333336,
          44.666666666666664,
          45,
          45.333333333333336,
          45.666666666666664,
          46,
          46.333333333333336,
          46.666666666666664,
          47,
          47.333333333333336,
          47.666666666666664,
          48,
          48.333333333333336,
          48.666666666666664,
          49,
          49.333333333333336,
          49.666666666666664,
          50,
          50.333333333333336,
          50.666666666666664,
          51,
          51.333333333333336,
          51.666666666666664,
          52,
          52.333333333333336,
          52.666666666666664,
          53,
          53.333333333333336,
          53.666666666666664,
          54,
          54.333333333333336,
          54.666666666666664,
          55,
          55.333333333333336,
          55.666666666666664,
          56,
          56.333333333333336,
          56.666666666666664,
          57,
          57.333333333333336,
          57.666666666666664,
          58,
          58.333333333333336,
          58.666666666666664,
          59,
          59.333333333333336,
          59.666666666666664,
          60,
          60.333333333333336,
          60.666666666666664,
          61,
          61.333333333333336,
          61.666666666666664,
          62,
          62.333333333333336,
          62.666666666666664,
          63,
          63.333333333333336,
          63.666666666666664,
          64,
          64.33333333333333,
          64.66666666666667,
          65,
          65.33333333333333,
          65.66666666666667,
          66,
          66.33333333333333,
          66.66666666666667,
          67,
          67.33333333333333,
          67.66666666666667,
          68,
          68.33333333333333,
          68.66666666666667,
          69,
          69.33333333333333,
          69.66666666666667,
          70,
          70.33333333333333,
          70.66666666666667,
          71,
          71.33333333333333,
          71.66666666666667,
          72,
          72.33333333333333,
          72.66666666666667,
          73,
          73.33333333333333,
          73.66666666666667,
          74,
          74.33333333333333,
          74.66666666666667,
          75,
          75.33333333333333,
          75.66666666666667,
          76,
          76.33333333333333,
          76.66666666666667,
          77,
          77.33333333333333,
          77.66666666666667,
          78,
          78.33333333333333,
          78.66666666666667,
          79,
          79.33333333333333,
          79.66666666666667,
          80,
          80.33333333333333,
          80.66666666666667,
          81,
          81.33333333333333,
          81.66666666666667,
          82,
          82.33333333333333,
          82.66666666666667,
          83,
          83.33333333333333,
          83.66666666666667,
          84,
          84.33333333333333,
          84.66666666666667,
          85,
          85.33333333333333,
          85.66666666666667,
          86,
          86.33333333333333,
          86.66666666666667,
          87,
          87.33333333333333,
          87.66666666666667,
          88,
          88.33333333333333,
          88.66666666666667,
          89,
          89.33333333333333,
          89.66666666666667,
          90,
          90.33333333333333,
          90.66666666666667,
          91,
          91.33333333333333,
          91.66666666666667,
          92,
          92.33333333333333,
          92.66666666666667,
          93,
          93.33333333333333,
          93.66666666666667,
          94,
          94.33333333333333,
          94.66666666666667,
          95,
          95.33333333333333,
          95.66666666666667,
          96,
          96.33333333333333,
          96.66666666666667,
          97,
          97.33333333333333,
          97.66666666666667,
          98,
          98.33333333333333,
          98.66666666666667,
          99,
          99.33333333333333,
          99.66666666666667,
          100,
          100.33333333333333,
          100.66666666666667,
          101,
          101.33333333333333,
          101.66666666666667,
          102,
          102.33333333333333,
          102.66666666666667,
          103,
          103.33333333333333,
          103.66666666666667,
          104,
          104.33333333333333,
          104.66666666666667,
          105,
          105.33333333333333,
          105.66666666666667,
          106,
          106.33333333333333,
          106.66666666666667,
          107,
          107.33333333333333,
          107.66666666666667,
          108,
          108.33333333333333,
          108.66666666666667,
          109,
          109.33333333333333,
          109.66666666666667,
          110,
          110.33333333333333,
          110.66666666666667,
          111,
          111.33333333333333,
          111.66666666666667,
          112,
          112.33333333333333,
          112.66666666666667,
          113,
          113.33333333333333,
          113.66666666666667,
          114,
          114.33333333333333,
          114.66666666666667,
          115,
          115.33333333333333,
          115.66666666666667,
          116,
          116.33333333333333,
          116.66666666666667,
          117,
          117.33333333333333,
          117.66666666666667,
          118,
          118.33333333333333,
          118.66666666666667,
          119,
          119.33333333333333,
          119.66666666666667,
          120,
          120.33333333333333,
          120.66666666666667,
          121,
          121.33333333333333,
          121.66666666666667,
          122,
          122.33333333333333,
          122.66666666666667,
          123,
          123.33333333333333,
          123.66666666666667,
          124,
          124.33333333333333,
          124.66666666666667,
          125,
          125.33333333333333,
          125.66666666666667,
          126,
          126.33333333333333,
          126.66666666666667,
          127,
          127.33333333333333,
          127.66666666666667,
          128,
          128.33333333333334,
          128.66666666666666,
          129,
          129.33333333333334,
          129.66666666666666,
          130,
          130.33333333333334,
          130.66666666666666,
          131,
          131.33333333333334,
          131.66666666666666,
          132,
          132.33333333333334,
          132.66666666666666,
          133,
          133.33333333333334,
          133.66666666666666,
          134,
          134.33333333333334,
          134.66666666666666,
          135,
          135.33333333333334,
          135.66666666666666,
          136,
          136.33333333333334,
          136.66666666666666,
          137
         ],
         "y": [
          -7.309691088053187,
          -0.9516433052760362,
          -4.757644138606565,
          -5.4169335527546885,
          -6.384118242144844,
          -2.651314825564725,
          0.98966971150044,
          -2.6286356852904156,
          1.865288015994146,
          3.259871135716324,
          2.0749788281492023,
          -0.14340898145556658,
          -1.873137320084913,
          0.00220897315281654,
          0.9752544091397635,
          6.159071855046827,
          7.793586617259604,
          3.794750289702141,
          -1.8370115986453026,
          -0.8771269781404758,
          -4.786954061374681,
          -5.513371476143577,
          -6.418311535847051,
          -5.766837691583835,
          0.2217167679979415,
          1.5290046402736372,
          -0.4786268087734413,
          -6.2847712418807715,
          -10.816696344005745,
          -9.940689889481913,
          -0.9450246628149053,
          -9.672655788744644,
          2.2085731511976228,
          2.266593820321191,
          -1.149463709676624,
          -2.8564427406002597,
          -0.5126798286786807,
          -2.776089461510904,
          -0.5752087272056485,
          0.5016748835503559,
          -0.3276974881612196,
          0.7074759206214365,
          -4.998945779837337,
          -4.870743960503855,
          0.31746907361576326,
          1.9644127827151001,
          -3.4108025393209243,
          -2.799111705630236,
          -1.4192241724162313,
          -2.3102767801513906,
          -0.7769226481142537,
          -2.713579283340275,
          -0.3008290584116722,
          -3.181743280328792,
          0.481058863505762,
          -1.2403535429529136,
          0.0598978360471456,
          -3.0346827645300927,
          1.8508786433002893,
          1.605858480625507,
          0.18688114233521336,
          -0.2756890691999333,
          -0.2421021822412318,
          -0.5616505351923682,
          -0.790141004572354,
          0.09930119273886295,
          1.0462043297639387,
          0.7789226989248298,
          1.2776443822516255,
          -1.4384080243346964,
          -4.746066210717969,
          -6.403564890781785,
          -7.857267610493267,
          -5.751247022899911,
          -7.229361844776145,
          -5.824356594873519,
          -6.512052048125593,
          -4.411558605765624,
          -7.365694387688787,
          -6.565246263302285,
          -6.4485790572171595,
          1.7091796229562135,
          -0.9644947456540045,
          -9.347992394014678,
          -2.673912706175834,
          -5.332895827641639,
          -0.15899762961833375,
          0.9341507487574532,
          4.137831686211351,
          -4.758892292646792,
          -6.1003602546824265,
          0.4374850023533128,
          -4.0179339102304255,
          -0.1254114985196786,
          -1.479250940489159,
          -0.8969872541273247,
          -5.43362929010879,
          -3.3463560749858097,
          -12.930858200808093,
          -6.240484636973868,
          -3.0189763072589457,
          4.210993031244705,
          5.451032018657035,
          1.5550699457940986,
          -2.4448871923155764,
          -0.6456432419195863,
          -8.84025146199657,
          -11.749565115509483,
          5.448652044622271,
          0.3735701786196337,
          1.0379946260390653,
          2.438462034437702,
          6.19432371325235,
          -2.7650285295769024,
          -5.684160207398129,
          -8.178931052289846,
          -4.150028189148507,
          -3.534400799718174,
          -3.3265505547795016,
          3.6025132812068357,
          -1.6536408580376651,
          -3.777522112359165,
          -2.310542539289539,
          -7.509906765591829,
          -4.890439542774708,
          -4.589492849064996,
          4.790963370667956,
          1.13075229467454,
          3.542049726486516,
          0.9496821850726036,
          -0.9133493927835872,
          0.16696670392530777,
          -1.6917694947867883,
          1.7825739598600174,
          0.9955636158624692,
          -3.019854906729706,
          -2.6240217831434176,
          0.2058018299103086,
          6.234289832424153,
          7.470180963668616,
          1.9262279817522856,
          1.1795738816938721,
          4.035995221042605,
          6.15340479510936,
          0.24366886107882202,
          -2.566869708315229,
          1.8987113221280367,
          4.572618645801329,
          4.5974223322563645,
          1.102047870742954,
          -2.2456525246155863,
          -2.16911009100248,
          2.0521060901261325,
          2.695291459613026,
          -1.8512427962800384,
          0.7161600892286213,
          3.281327836294711,
          8.6011453664504,
          8.814129046597138,
          7.194945883286756,
          2.4162661062054838,
          -0.6553104206927216,
          1.368885309525826,
          4.08269387976741,
          0.0671012090301808,
          1.4292248258196452,
          -0.4736308835258889,
          -1.8528058585899032,
          3.6932108943743014,
          -8.091177241894714,
          -6.852454584391186,
          -5.832541008156335,
          -8.84301580322774,
          -6.565626473008997,
          -4.283297463224276,
          -5.680104499131488,
          -8.012099948197188,
          3.0605586027241536,
          -8.374291413666583,
          9.726355816710448,
          -7.064390914405806,
          -2.1909760788969965,
          -2.0848322390476053,
          -0.43915057778438005,
          0.4983344448758267,
          -0.4540198208113413,
          0.8188024272438756,
          0.3409764876253405,
          -0.051327937984607885,
          0.08100548289771048,
          0.49937537403606136,
          -0.6443443943867049,
          -0.02453722824384741,
          -0.9297502076630879,
          -3.6689100722794104,
          -1.8259113466844576,
          -3.2785088022768436,
          3.9242984753774657,
          -0.53016139422337,
          -0.5557128612289217,
          -1.6411626348606179,
          0.44772881875769244,
          -2.2887864432671687,
          -3.5934421635806117,
          -2.300352794625641,
          2.3616398187318897,
          2.951512304242013,
          2.011754206650955,
          -2.7974032662917923,
          -5.3625748703552,
          2.080321292179681,
          -6.310209817514236,
          -2.237976708463549,
          1.9600475271364886,
          -0.21239138417207926,
          -0.17219344392360547,
          -5.678661333359674,
          -3.1940676173532054,
          -1.5825049824722512,
          -1.6644471138806356,
          5.572154684015183,
          -0.6384090335679495,
          -1.4546190232698724,
          7.693690903899968,
          5.241902337611327,
          3.2233792339571936,
          3.6036564432056544,
          1.0266470818036675,
          1.0624757618132428,
          2.7345904883930654,
          1.7025645363428588,
          1.5764570746832316,
          4.440310997083509,
          9.18329377420687,
          9.350120789353568,
          6.697566249540529,
          -0.5899278206904697,
          -1.0412146035736711,
          3.4990738032262456,
          -0.3571305114116683,
          -0.01714415832892513,
          -2.4933197167095713,
          -3.0098251441750534,
          -1.2038090925120741,
          -3.53837861410695,
          -7.580405682950561,
          -13.494417978407471,
          -11.917029514982435,
          -9.196797112942782,
          -11.097615434019506,
          -6.976228615383619,
          -4.472167676910772,
          1.3888201168677057,
          2.547051598264261,
          6.476084850530908,
          3.6871776573440034,
          0.9632304841452815,
          -2.1478612669470216,
          -2.250505010299383,
          -1.9240305735418666,
          -4.267460327033479,
          -6.044018578335809,
          -1.671213895151908,
          -0.6441680079662877,
          -2.0141507103135794,
          -9.007348864152728,
          -2.510211273999534,
          2.518227200668367,
          11.10401811202176,
          3.6554212798423693,
          2.2858273481760634,
          -0.7043688211025154,
          0.6568468313479565,
          0.5559963109289687,
          -2.4842215561904073,
          -1.4975102182067377,
          1.1222452148810382,
          0.7765211687668989,
          -1.736163139344436,
          -6.197792152709798,
          -6.838513622089664,
          -2.925464663607233,
          -1.0150600177728286,
          2.3260877009790484,
          -7.848134578692389,
          1.1591023598473083,
          -1.5237395144818215,
          -1.2865158299223989,
          -6.0953772683086065,
          -6.715804655303074,
          1.6201355227762662,
          -7.760110337268941,
          -5.0118165289834735,
          -7.89815998910813,
          -3.40834169767988,
          -9.906803743979342,
          -9.358957599805876,
          -6.5959417677937395,
          -3.377674992091425,
          -5.789123752667972,
          -0.6873310102799479,
          -7.142465917391423,
          -4.123688445320791,
          -4.532766590806515,
          0.4462466733325847,
          -2.477753346995204,
          -0.03538276670563967,
          -1.2042353855681398,
          0.6516730867257561,
          0.979571925566324,
          0.23262419608487228,
          -1.6861121713882152,
          0.8365870265650166,
          -1.2819254910165698,
          1.042014043577404,
          3.6559407045377057,
          1.5187079287152807,
          1.1307014430183053,
          -0.46672868735012796,
          -0.8918467176687245,
          1.5903529120456843,
          3.2829601460427624,
          0.6285957380260925,
          0.10612450823698705,
          -2.016141439553031,
          -0.49489263527538485,
          -1.5133071956176003,
          -3.722726232359949,
          -5.174984628278663,
          0.34246888681411036,
          0.5226999865438282,
          -0.00980509031414023,
          -6.35161840339128,
          -5.753698686854703,
          -2.244431243824252,
          -0.21404868307595137,
          -0.8629119234423914,
          -1.652877529874809,
          -0.8279266154104299,
          -2.46249396948115,
          -1.579794457294641,
          -3.512459750388002,
          -3.461793211503416,
          -2.6462223229367616,
          -4.167641475066169,
          -0.993985889793187,
          0.5598301873034046,
          3.4116060280378075,
          -0.22711977295767127,
          -0.6882516252185944,
          -2.442496069513183,
          -2.3599320089668137,
          -2.473799039964401,
          1.0038659978007018,
          2.992218795265252,
          6.506159743260177,
          2.976471674400968,
          1.346379035650107,
          -4.221820068643934,
          -5.618847958389943,
          -0.27832184797796344,
          -1.5532124556764852,
          0.1158149973525262,
          -0.3281598891851196,
          1.6052130553614883,
          -2.1768932757781685,
          -4.468285944844647,
          -11.531112801180996,
          -1.594478038105958,
          0.059991766875214125,
          10.610035083579291,
          6.963506255829014,
          -2.0147088482046778,
          -4.8443620165788746,
          -5.433520223760312,
          -4.551733144272577,
          -5.656556237963468,
          -1.6342902005977429,
          0.029775376837850587,
          -4.431420555411638,
          -3.3714628899006343,
          -4.781057986310806,
          -15.951882956473511,
          -30.783459656954154,
          -5.74705900074332,
          -12.041184616953394,
          -10.537389149403552,
          -0.8116032550287358,
          0.5675298575592329,
          -5.394371046751349,
          5.10555852502198,
          -3.278410281524952,
          4.175657486650245,
          2.9060988435611748,
          3.000779339476839,
          7.619946730948508,
          3.8155691051585814,
          8.4923905370154,
          0.9267678086577122,
          4.351601470046261,
          5.623309452667891,
          3.454806161753753,
          2.7110492536381603,
          1.0033569262166804,
          0.27938884594104074,
          2.3292645978637534,
          -0.48675226929798576,
          -0.6798044482632575,
          -0.1350139734804472,
          -8.024131273886589,
          -2.7073633358013307,
          -2.2908545155257602
         ]
        },
        {
         "histnorm": "",
         "marker": {
          "color": "grey",
          "opacity": 0.5
         },
         "name": "Distribution",
         "nbinsy": 20,
         "type": "histogram",
         "y": [
          -7.309691088053187,
          -0.9516433052760362,
          -4.757644138606565,
          -5.4169335527546885,
          -6.384118242144844,
          -2.651314825564725,
          0.98966971150044,
          -2.6286356852904156,
          1.865288015994146,
          3.259871135716324,
          2.0749788281492023,
          -0.14340898145556658,
          -1.873137320084913,
          0.00220897315281654,
          0.9752544091397635,
          6.159071855046827,
          7.793586617259604,
          3.794750289702141,
          -1.8370115986453026,
          -0.8771269781404758,
          -4.786954061374681,
          -5.513371476143577,
          -6.418311535847051,
          -5.766837691583835,
          0.2217167679979415,
          1.5290046402736372,
          -0.4786268087734413,
          -6.2847712418807715,
          -10.816696344005745,
          -9.940689889481913,
          -0.9450246628149053,
          -9.672655788744644,
          2.2085731511976228,
          2.266593820321191,
          -1.149463709676624,
          -2.8564427406002597,
          -0.5126798286786807,
          -2.776089461510904,
          -0.5752087272056485,
          0.5016748835503559,
          -0.3276974881612196,
          0.7074759206214365,
          -4.998945779837337,
          -4.870743960503855,
          0.31746907361576326,
          1.9644127827151001,
          -3.4108025393209243,
          -2.799111705630236,
          -1.4192241724162313,
          -2.3102767801513906,
          -0.7769226481142537,
          -2.713579283340275,
          -0.3008290584116722,
          -3.181743280328792,
          0.481058863505762,
          -1.2403535429529136,
          0.0598978360471456,
          -3.0346827645300927,
          1.8508786433002893,
          1.605858480625507,
          0.18688114233521336,
          -0.2756890691999333,
          -0.2421021822412318,
          -0.5616505351923682,
          -0.790141004572354,
          0.09930119273886295,
          1.0462043297639387,
          0.7789226989248298,
          1.2776443822516255,
          -1.4384080243346964,
          -4.746066210717969,
          -6.403564890781785,
          -7.857267610493267,
          -5.751247022899911,
          -7.229361844776145,
          -5.824356594873519,
          -6.512052048125593,
          -4.411558605765624,
          -7.365694387688787,
          -6.565246263302285,
          -6.4485790572171595,
          1.7091796229562135,
          -0.9644947456540045,
          -9.347992394014678,
          -2.673912706175834,
          -5.332895827641639,
          -0.15899762961833375,
          0.9341507487574532,
          4.137831686211351,
          -4.758892292646792,
          -6.1003602546824265,
          0.4374850023533128,
          -4.0179339102304255,
          -0.1254114985196786,
          -1.479250940489159,
          -0.8969872541273247,
          -5.43362929010879,
          -3.3463560749858097,
          -12.930858200808093,
          -6.240484636973868,
          -3.0189763072589457,
          4.210993031244705,
          5.451032018657035,
          1.5550699457940986,
          -2.4448871923155764,
          -0.6456432419195863,
          -8.84025146199657,
          -11.749565115509483,
          5.448652044622271,
          0.3735701786196337,
          1.0379946260390653,
          2.438462034437702,
          6.19432371325235,
          -2.7650285295769024,
          -5.684160207398129,
          -8.178931052289846,
          -4.150028189148507,
          -3.534400799718174,
          -3.3265505547795016,
          3.6025132812068357,
          -1.6536408580376651,
          -3.777522112359165,
          -2.310542539289539,
          -7.509906765591829,
          -4.890439542774708,
          -4.589492849064996,
          4.790963370667956,
          1.13075229467454,
          3.542049726486516,
          0.9496821850726036,
          -0.9133493927835872,
          0.16696670392530777,
          -1.6917694947867883,
          1.7825739598600174,
          0.9955636158624692,
          -3.019854906729706,
          -2.6240217831434176,
          0.2058018299103086,
          6.234289832424153,
          7.470180963668616,
          1.9262279817522856,
          1.1795738816938721,
          4.035995221042605,
          6.15340479510936,
          0.24366886107882202,
          -2.566869708315229,
          1.8987113221280367,
          4.572618645801329,
          4.5974223322563645,
          1.102047870742954,
          -2.2456525246155863,
          -2.16911009100248,
          2.0521060901261325,
          2.695291459613026,
          -1.8512427962800384,
          0.7161600892286213,
          3.281327836294711,
          8.6011453664504,
          8.814129046597138,
          7.194945883286756,
          2.4162661062054838,
          -0.6553104206927216,
          1.368885309525826,
          4.08269387976741,
          0.0671012090301808,
          1.4292248258196452,
          -0.4736308835258889,
          -1.8528058585899032,
          3.6932108943743014,
          -8.091177241894714,
          -6.852454584391186,
          -5.832541008156335,
          -8.84301580322774,
          -6.565626473008997,
          -4.283297463224276,
          -5.680104499131488,
          -8.012099948197188,
          3.0605586027241536,
          -8.374291413666583,
          9.726355816710448,
          -7.064390914405806,
          -2.1909760788969965,
          -2.0848322390476053,
          -0.43915057778438005,
          0.4983344448758267,
          -0.4540198208113413,
          0.8188024272438756,
          0.3409764876253405,
          -0.051327937984607885,
          0.08100548289771048,
          0.49937537403606136,
          -0.6443443943867049,
          -0.02453722824384741,
          -0.9297502076630879,
          -3.6689100722794104,
          -1.8259113466844576,
          -3.2785088022768436,
          3.9242984753774657,
          -0.53016139422337,
          -0.5557128612289217,
          -1.6411626348606179,
          0.44772881875769244,
          -2.2887864432671687,
          -3.5934421635806117,
          -2.300352794625641,
          2.3616398187318897,
          2.951512304242013,
          2.011754206650955,
          -2.7974032662917923,
          -5.3625748703552,
          2.080321292179681,
          -6.310209817514236,
          -2.237976708463549,
          1.9600475271364886,
          -0.21239138417207926,
          -0.17219344392360547,
          -5.678661333359674,
          -3.1940676173532054,
          -1.5825049824722512,
          -1.6644471138806356,
          5.572154684015183,
          -0.6384090335679495,
          -1.4546190232698724,
          7.693690903899968,
          5.241902337611327,
          3.2233792339571936,
          3.6036564432056544,
          1.0266470818036675,
          1.0624757618132428,
          2.7345904883930654,
          1.7025645363428588,
          1.5764570746832316,
          4.440310997083509,
          9.18329377420687,
          9.350120789353568,
          6.697566249540529,
          -0.5899278206904697,
          -1.0412146035736711,
          3.4990738032262456,
          -0.3571305114116683,
          -0.01714415832892513,
          -2.4933197167095713,
          -3.0098251441750534,
          -1.2038090925120741,
          -3.53837861410695,
          -7.580405682950561,
          -13.494417978407471,
          -11.917029514982435,
          -9.196797112942782,
          -11.097615434019506,
          -6.976228615383619,
          -4.472167676910772,
          1.3888201168677057,
          2.547051598264261,
          6.476084850530908,
          3.6871776573440034,
          0.9632304841452815,
          -2.1478612669470216,
          -2.250505010299383,
          -1.9240305735418666,
          -4.267460327033479,
          -6.044018578335809,
          -1.671213895151908,
          -0.6441680079662877,
          -2.0141507103135794,
          -9.007348864152728,
          -2.510211273999534,
          2.518227200668367,
          11.10401811202176,
          3.6554212798423693,
          2.2858273481760634,
          -0.7043688211025154,
          0.6568468313479565,
          0.5559963109289687,
          -2.4842215561904073,
          -1.4975102182067377,
          1.1222452148810382,
          0.7765211687668989,
          -1.736163139344436,
          -6.197792152709798,
          -6.838513622089664,
          -2.925464663607233,
          -1.0150600177728286,
          2.3260877009790484,
          -7.848134578692389,
          1.1591023598473083,
          -1.5237395144818215,
          -1.2865158299223989,
          -6.0953772683086065,
          -6.715804655303074,
          1.6201355227762662,
          -7.760110337268941,
          -5.0118165289834735,
          -7.89815998910813,
          -3.40834169767988,
          -9.906803743979342,
          -9.358957599805876,
          -6.5959417677937395,
          -3.377674992091425,
          -5.789123752667972,
          -0.6873310102799479,
          -7.142465917391423,
          -4.123688445320791,
          -4.532766590806515,
          0.4462466733325847,
          -2.477753346995204,
          -0.03538276670563967,
          -1.2042353855681398,
          0.6516730867257561,
          0.979571925566324,
          0.23262419608487228,
          -1.6861121713882152,
          0.8365870265650166,
          -1.2819254910165698,
          1.042014043577404,
          3.6559407045377057,
          1.5187079287152807,
          1.1307014430183053,
          -0.46672868735012796,
          -0.8918467176687245,
          1.5903529120456843,
          3.2829601460427624,
          0.6285957380260925,
          0.10612450823698705,
          -2.016141439553031,
          -0.49489263527538485,
          -1.5133071956176003,
          -3.722726232359949,
          -5.174984628278663,
          0.34246888681411036,
          0.5226999865438282,
          -0.00980509031414023,
          -6.35161840339128,
          -5.753698686854703,
          -2.244431243824252,
          -0.21404868307595137,
          -0.8629119234423914,
          -1.652877529874809,
          -0.8279266154104299,
          -2.46249396948115,
          -1.579794457294641,
          -3.512459750388002,
          -3.461793211503416,
          -2.6462223229367616,
          -4.167641475066169,
          -0.993985889793187,
          0.5598301873034046,
          3.4116060280378075,
          -0.22711977295767127,
          -0.6882516252185944,
          -2.442496069513183,
          -2.3599320089668137,
          -2.473799039964401,
          1.0038659978007018,
          2.992218795265252,
          6.506159743260177,
          2.976471674400968,
          1.346379035650107,
          -4.221820068643934,
          -5.618847958389943,
          -0.27832184797796344,
          -1.5532124556764852,
          0.1158149973525262,
          -0.3281598891851196,
          1.6052130553614883,
          -2.1768932757781685,
          -4.468285944844647,
          -11.531112801180996,
          -1.594478038105958,
          0.059991766875214125,
          10.610035083579291,
          6.963506255829014,
          -2.0147088482046778,
          -4.8443620165788746,
          -5.433520223760312,
          -4.551733144272577,
          -5.656556237963468,
          -1.6342902005977429,
          0.029775376837850587,
          -4.431420555411638,
          -3.3714628899006343,
          -4.781057986310806,
          -15.951882956473511,
          -30.783459656954154,
          -5.74705900074332,
          -12.041184616953394,
          -10.537389149403552,
          -0.8116032550287358,
          0.5675298575592329,
          -5.394371046751349,
          5.10555852502198,
          -3.278410281524952,
          4.175657486650245,
          2.9060988435611748,
          3.000779339476839,
          7.619946730948508,
          3.8155691051585814,
          8.4923905370154,
          0.9267678086577122,
          4.351601470046261,
          5.623309452667891,
          3.454806161753753,
          2.7110492536381603,
          1.0033569262166804,
          0.27938884594104074,
          2.3292645978637534,
          -0.48675226929798576,
          -0.6798044482632575,
          -0.1350139734804472,
          -8.024131273886589,
          -2.7073633358013307,
          -2.2908545155257602
         ]
        }
       ],
       "layout": {
        "height": 400,
        "hovermode": "x unified",
        "legend": {
         "orientation": "h",
         "x": 0.95,
         "xanchor": "right",
         "y": 1.05,
         "yanchor": "bottom"
        },
        "margin": {
         "b": 40,
         "l": 80,
         "r": 40,
         "t": 80
        },
        "template": {
         "data": {
          "bar": [
           {
            "error_x": {
             "color": "#f2f5fa"
            },
            "error_y": {
             "color": "#f2f5fa"
            },
            "marker": {
             "line": {
              "color": "rgb(17,17,17)",
              "width": 0.5
             },
             "pattern": {
              "fillmode": "overlay",
              "size": 10,
              "solidity": 0.2
             }
            },
            "type": "bar"
           }
          ],
          "barpolar": [
           {
            "marker": {
             "line": {
              "color": "rgb(17,17,17)",
              "width": 0.5
             },
             "pattern": {
              "fillmode": "overlay",
              "size": 10,
              "solidity": 0.2
             }
            },
            "type": "barpolar"
           }
          ],
          "carpet": [
           {
            "aaxis": {
             "endlinecolor": "#A2B1C6",
             "gridcolor": "#506784",
             "linecolor": "#506784",
             "minorgridcolor": "#506784",
             "startlinecolor": "#A2B1C6"
            },
            "baxis": {
             "endlinecolor": "#A2B1C6",
             "gridcolor": "#506784",
             "linecolor": "#506784",
             "minorgridcolor": "#506784",
             "startlinecolor": "#A2B1C6"
            },
            "type": "carpet"
           }
          ],
          "choropleth": [
           {
            "colorbar": {
             "outlinewidth": 0,
             "ticks": ""
            },
            "type": "choropleth"
           }
          ],
          "contour": [
           {
            "colorbar": {
             "outlinewidth": 0,
             "ticks": ""
            },
            "colorscale": [
             [
              0,
              "#0d0887"
             ],
             [
              0.1111111111111111,
              "#46039f"
             ],
             [
              0.2222222222222222,
              "#7201a8"
             ],
             [
              0.3333333333333333,
              "#9c179e"
             ],
             [
              0.4444444444444444,
              "#bd3786"
             ],
             [
              0.5555555555555556,
              "#d8576b"
             ],
             [
              0.6666666666666666,
              "#ed7953"
             ],
             [
              0.7777777777777778,
              "#fb9f3a"
             ],
             [
              0.8888888888888888,
              "#fdca26"
             ],
             [
              1,
              "#f0f921"
             ]
            ],
            "type": "contour"
           }
          ],
          "contourcarpet": [
           {
            "colorbar": {
             "outlinewidth": 0,
             "ticks": ""
            },
            "type": "contourcarpet"
           }
          ],
          "heatmap": [
           {
            "colorbar": {
             "outlinewidth": 0,
             "ticks": ""
            },
            "colorscale": [
             [
              0,
              "#0d0887"
             ],
             [
              0.1111111111111111,
              "#46039f"
             ],
             [
              0.2222222222222222,
              "#7201a8"
             ],
             [
              0.3333333333333333,
              "#9c179e"
             ],
             [
              0.4444444444444444,
              "#bd3786"
             ],
             [
              0.5555555555555556,
              "#d8576b"
             ],
             [
              0.6666666666666666,
              "#ed7953"
             ],
             [
              0.7777777777777778,
              "#fb9f3a"
             ],
             [
              0.8888888888888888,
              "#fdca26"
             ],
             [
              1,
              "#f0f921"
             ]
            ],
            "type": "heatmap"
           }
          ],
          "heatmapgl": [
           {
            "colorbar": {
             "outlinewidth": 0,
             "ticks": ""
            },
            "colorscale": [
             [
              0,
              "#0d0887"
             ],
             [
              0.1111111111111111,
              "#46039f"
             ],
             [
              0.2222222222222222,
              "#7201a8"
             ],
             [
              0.3333333333333333,
              "#9c179e"
             ],
             [
              0.4444444444444444,
              "#bd3786"
             ],
             [
              0.5555555555555556,
              "#d8576b"
             ],
             [
              0.6666666666666666,
              "#ed7953"
             ],
             [
              0.7777777777777778,
              "#fb9f3a"
             ],
             [
              0.8888888888888888,
              "#fdca26"
             ],
             [
              1,
              "#f0f921"
             ]
            ],
            "type": "heatmapgl"
           }
          ],
          "histogram": [
           {
            "marker": {
             "pattern": {
              "fillmode": "overlay",
              "size": 10,
              "solidity": 0.2
             }
            },
            "type": "histogram"
           }
          ],
          "histogram2d": [
           {
            "colorbar": {
             "outlinewidth": 0,
             "ticks": ""
            },
            "colorscale": [
             [
              0,
              "#0d0887"
             ],
             [
              0.1111111111111111,
              "#46039f"
             ],
             [
              0.2222222222222222,
              "#7201a8"
             ],
             [
              0.3333333333333333,
              "#9c179e"
             ],
             [
              0.4444444444444444,
              "#bd3786"
             ],
             [
              0.5555555555555556,
              "#d8576b"
             ],
             [
              0.6666666666666666,
              "#ed7953"
             ],
             [
              0.7777777777777778,
              "#fb9f3a"
             ],
             [
              0.8888888888888888,
              "#fdca26"
             ],
             [
              1,
              "#f0f921"
             ]
            ],
            "type": "histogram2d"
           }
          ],
          "histogram2dcontour": [
           {
            "colorbar": {
             "outlinewidth": 0,
             "ticks": ""
            },
            "colorscale": [
             [
              0,
              "#0d0887"
             ],
             [
              0.1111111111111111,
              "#46039f"
             ],
             [
              0.2222222222222222,
              "#7201a8"
             ],
             [
              0.3333333333333333,
              "#9c179e"
             ],
             [
              0.4444444444444444,
              "#bd3786"
             ],
             [
              0.5555555555555556,
              "#d8576b"
             ],
             [
              0.6666666666666666,
              "#ed7953"
             ],
             [
              0.7777777777777778,
              "#fb9f3a"
             ],
             [
              0.8888888888888888,
              "#fdca26"
             ],
             [
              1,
              "#f0f921"
             ]
            ],
            "type": "histogram2dcontour"
           }
          ],
          "mesh3d": [
           {
            "colorbar": {
             "outlinewidth": 0,
             "ticks": ""
            },
            "type": "mesh3d"
           }
          ],
          "parcoords": [
           {
            "line": {
             "colorbar": {
              "outlinewidth": 0,
              "ticks": ""
             }
            },
            "type": "parcoords"
           }
          ],
          "pie": [
           {
            "automargin": true,
            "type": "pie"
           }
          ],
          "scatter": [
           {
            "marker": {
             "line": {
              "color": "#283442"
             }
            },
            "type": "scatter"
           }
          ],
          "scatter3d": [
           {
            "line": {
             "colorbar": {
              "outlinewidth": 0,
              "ticks": ""
             }
            },
            "marker": {
             "colorbar": {
              "outlinewidth": 0,
              "ticks": ""
             }
            },
            "type": "scatter3d"
           }
          ],
          "scattercarpet": [
           {
            "marker": {
             "colorbar": {
              "outlinewidth": 0,
              "ticks": ""
             }
            },
            "type": "scattercarpet"
           }
          ],
          "scattergeo": [
           {
            "marker": {
             "colorbar": {
              "outlinewidth": 0,
              "ticks": ""
             }
            },
            "type": "scattergeo"
           }
          ],
          "scattergl": [
           {
            "marker": {
             "line": {
              "color": "#283442"
             }
            },
            "type": "scattergl"
           }
          ],
          "scattermapbox": [
           {
            "marker": {
             "colorbar": {
              "outlinewidth": 0,
              "ticks": ""
             }
            },
            "type": "scattermapbox"
           }
          ],
          "scatterpolar": [
           {
            "marker": {
             "colorbar": {
              "outlinewidth": 0,
              "ticks": ""
             }
            },
            "type": "scatterpolar"
           }
          ],
          "scatterpolargl": [
           {
            "marker": {
             "colorbar": {
              "outlinewidth": 0,
              "ticks": ""
             }
            },
            "type": "scatterpolargl"
           }
          ],
          "scatterternary": [
           {
            "marker": {
             "colorbar": {
              "outlinewidth": 0,
              "ticks": ""
             }
            },
            "type": "scatterternary"
           }
          ],
          "surface": [
           {
            "colorbar": {
             "outlinewidth": 0,
             "ticks": ""
            },
            "colorscale": [
             [
              0,
              "#0d0887"
             ],
             [
              0.1111111111111111,
              "#46039f"
             ],
             [
              0.2222222222222222,
              "#7201a8"
             ],
             [
              0.3333333333333333,
              "#9c179e"
             ],
             [
              0.4444444444444444,
              "#bd3786"
             ],
             [
              0.5555555555555556,
              "#d8576b"
             ],
             [
              0.6666666666666666,
              "#ed7953"
             ],
             [
              0.7777777777777778,
              "#fb9f3a"
             ],
             [
              0.8888888888888888,
              "#fdca26"
             ],
             [
              1,
              "#f0f921"
             ]
            ],
            "type": "surface"
           }
          ],
          "table": [
           {
            "cells": {
             "fill": {
              "color": "#506784"
             },
             "line": {
              "color": "rgb(17,17,17)"
             }
            },
            "header": {
             "fill": {
              "color": "#2a3f5f"
             },
             "line": {
              "color": "rgb(17,17,17)"
             }
            },
            "type": "table"
           }
          ]
         },
         "layout": {
          "annotationdefaults": {
           "arrowcolor": "#f2f5fa",
           "arrowhead": 0,
           "arrowwidth": 1
          },
          "autotypenumbers": "strict",
          "coloraxis": {
           "colorbar": {
            "outlinewidth": 0,
            "ticks": ""
           }
          },
          "colorscale": {
           "diverging": [
            [
             0,
             "#8e0152"
            ],
            [
             0.1,
             "#c51b7d"
            ],
            [
             0.2,
             "#de77ae"
            ],
            [
             0.3,
             "#f1b6da"
            ],
            [
             0.4,
             "#fde0ef"
            ],
            [
             0.5,
             "#f7f7f7"
            ],
            [
             0.6,
             "#e6f5d0"
            ],
            [
             0.7,
             "#b8e186"
            ],
            [
             0.8,
             "#7fbc41"
            ],
            [
             0.9,
             "#4d9221"
            ],
            [
             1,
             "#276419"
            ]
           ],
           "sequential": [
            [
             0,
             "#0d0887"
            ],
            [
             0.1111111111111111,
             "#46039f"
            ],
            [
             0.2222222222222222,
             "#7201a8"
            ],
            [
             0.3333333333333333,
             "#9c179e"
            ],
            [
             0.4444444444444444,
             "#bd3786"
            ],
            [
             0.5555555555555556,
             "#d8576b"
            ],
            [
             0.6666666666666666,
             "#ed7953"
            ],
            [
             0.7777777777777778,
             "#fb9f3a"
            ],
            [
             0.8888888888888888,
             "#fdca26"
            ],
            [
             1,
             "#f0f921"
            ]
           ],
           "sequentialminus": [
            [
             0,
             "#0d0887"
            ],
            [
             0.1111111111111111,
             "#46039f"
            ],
            [
             0.2222222222222222,
             "#7201a8"
            ],
            [
             0.3333333333333333,
             "#9c179e"
            ],
            [
             0.4444444444444444,
             "#bd3786"
            ],
            [
             0.5555555555555556,
             "#d8576b"
            ],
            [
             0.6666666666666666,
             "#ed7953"
            ],
            [
             0.7777777777777778,
             "#fb9f3a"
            ],
            [
             0.8888888888888888,
             "#fdca26"
            ],
            [
             1,
             "#f0f921"
            ]
           ]
          },
          "colorway": [
           "#636efa",
           "#EF553B",
           "#00cc96",
           "#ab63fa",
           "#FFA15A",
           "#19d3f3",
           "#FF6692",
           "#B6E880",
           "#FF97FF",
           "#FECB52"
          ],
          "font": {
           "color": "#f2f5fa"
          },
          "geo": {
           "bgcolor": "rgb(17,17,17)",
           "lakecolor": "rgb(17,17,17)",
           "landcolor": "rgb(17,17,17)",
           "showlakes": true,
           "showland": true,
           "subunitcolor": "#506784"
          },
          "hoverlabel": {
           "align": "left"
          },
          "hovermode": "closest",
          "mapbox": {
           "style": "dark"
          },
          "paper_bgcolor": "rgb(17,17,17)",
          "plot_bgcolor": "rgb(17,17,17)",
          "polar": {
           "angularaxis": {
            "gridcolor": "#506784",
            "linecolor": "#506784",
            "ticks": ""
           },
           "bgcolor": "rgb(17,17,17)",
           "radialaxis": {
            "gridcolor": "#506784",
            "linecolor": "#506784",
            "ticks": ""
           }
          },
          "scene": {
           "xaxis": {
            "backgroundcolor": "rgb(17,17,17)",
            "gridcolor": "#506784",
            "gridwidth": 2,
            "linecolor": "#506784",
            "showbackground": true,
            "ticks": "",
            "zerolinecolor": "#C8D4E3"
           },
           "yaxis": {
            "backgroundcolor": "rgb(17,17,17)",
            "gridcolor": "#506784",
            "gridwidth": 2,
            "linecolor": "#506784",
            "showbackground": true,
            "ticks": "",
            "zerolinecolor": "#C8D4E3"
           },
           "zaxis": {
            "backgroundcolor": "rgb(17,17,17)",
            "gridcolor": "#506784",
            "gridwidth": 2,
            "linecolor": "#506784",
            "showbackground": true,
            "ticks": "",
            "zerolinecolor": "#C8D4E3"
           }
          },
          "shapedefaults": {
           "line": {
            "color": "#f2f5fa"
           }
          },
          "sliderdefaults": {
           "bgcolor": "#C8D4E3",
           "bordercolor": "rgb(17,17,17)",
           "borderwidth": 1,
           "tickwidth": 0
          },
          "ternary": {
           "aaxis": {
            "gridcolor": "#506784",
            "linecolor": "#506784",
            "ticks": ""
           },
           "baxis": {
            "gridcolor": "#506784",
            "linecolor": "#506784",
            "ticks": ""
           },
           "bgcolor": "rgb(17,17,17)",
           "caxis": {
            "gridcolor": "#506784",
            "linecolor": "#506784",
            "ticks": ""
           }
          },
          "title": {
           "x": 0.05
          },
          "updatemenudefaults": {
           "bgcolor": "#506784",
           "borderwidth": 0
          },
          "xaxis": {
           "automargin": true,
           "gridcolor": "#283442",
           "linecolor": "#506784",
           "ticks": "",
           "title": {
            "standoff": 15
           },
           "zerolinecolor": "#283442",
           "zerolinewidth": 2
          },
          "yaxis": {
           "automargin": true,
           "gridcolor": "#283442",
           "linecolor": "#506784",
           "ticks": "",
           "title": {
            "standoff": 15
           },
           "zerolinecolor": "#283442",
           "zerolinewidth": 2
          }
         }
        },
        "title": {
         "text": "Distribution of the Predicted Errors<br><span style=\"font-size: 12.5px; color: lightgrey;\"> -- Histogram shows the frequency of each predicted error.</span>"
        },
        "width": 700,
        "xaxis": {
         "tickmode": "array",
         "ticktext": [
          "1990",
          "1995",
          "2000",
          "2005",
          "2010",
          "2015",
          "2020"
         ],
         "tickvals": [
          2.3333333333333335,
          22.333333333333332,
          42.333333333333336,
          62.333333333333336,
          82.33333333333333,
          102.33333333333333,
          122.33333333333333
         ],
         "title": {
          "text": "Time Ranges"
         }
        },
        "yaxis": {
         "title": {
          "text": "YoY Growth (%)"
         }
        }
       }
      }
     },
     "metadata": {},
     "output_type": "display_data"
    }
   ],
   "source": [
    "# detailed performance\n",
    "fig2_1, fig2_2 = PA.detail_perf(model='LinR', ma=1, fp=6, sc=1)\n",
    "fig2_1.show()\n",
    "fig2_2.show()"
   ]
  },
  {
   "cell_type": "code",
   "execution_count": 34,
   "metadata": {},
   "outputs": [
    {
     "name": "stdout",
     "output_type": "stream",
     "text": [
      "YoY:  [10.45534854]\n",
      "[4276.80898272]\n",
      "\n",
      "YoY:  [ 8.1850261  12.02588889]\n",
      "[4188.90255238 4570.77961544]\n",
      "\n",
      "YoY:  [21.41639496 12.96854863 14.58075536]\n",
      "[4701.21850594 4609.24117078 4399.32810187]\n",
      "\n",
      "YoY:  [17.45185943 20.36523967 13.78572902 15.21136703]\n",
      "[4547.71248392 4911.0343094  4368.80306562 4696.70670068]\n",
      "\n",
      "YoY:  [9.20293186 9.20945138 9.7572966  8.59658663 8.28658288]\n",
      "[4228.31565964 4455.86586396 4214.13140311 4427.04855656 4299.13966452]\n",
      "\n",
      "YoY:  [ 5.35690994  5.85340076  6.70465889  3.49387255  9.03674754 -0.17945234]\n",
      "[4079.39846082 4318.93530326 4096.925378   4219.03130928 4328.92232612\n",
      " 4101.93580538]\n",
      "\n"
     ]
    }
   ],
   "source": [
    "future = PA.futures['LinR']\n",
    "for i in future.keys():\n",
    "    for j in future[i].keys():\n",
    "        if j == '1MA':\n",
    "            yoy_mean = np.min(future[i][j], axis=0)\n",
    "            print(\"YoY: \", yoy_mean)\n",
    "            r = 12 - int(i[0])\n",
    "            act_prices = df['SP500_Price'][-12:-r].values * (yoy_mean/100+1)\n",
    "            print(act_prices)\n",
    "            print('')"
   ]
  },
  {
   "cell_type": "markdown",
   "metadata": {},
   "source": [
    "### Logistic Regression"
   ]
  },
  {
   "cell_type": "code",
   "execution_count": 8,
   "metadata": {},
   "outputs": [
    {
     "data": {
      "application/vnd.plotly.v1+json": {
       "config": {
        "plotlyServerURL": "https://plot.ly"
       },
       "data": [
        {
         "error_y": {
          "array": [
           0.004096447489261856,
           0.001838881946692239,
           0.0022325587059486285,
           0.00412348754717462,
           0.0032176820309863796,
           0.0036319848061339144
          ],
          "arrayminus": [
           0.0035215383895936814,
           0.002845821706323859,
           0.002230137427172596,
           0.0033247800895359614,
           0.0017866538557024247,
           0.003415417363219486
          ]
         },
         "hovertemplate": "SC=1<br>MA=%{x}<br>ACC_mean=%{y}<extra></extra>",
         "legendgroup": "1",
         "marker": {
          "color": "#636efa",
          "symbol": "circle"
         },
         "mode": "markers",
         "name": "1",
         "orientation": "v",
         "showlegend": true,
         "type": "scatter",
         "x": [
          1,
          2,
          3,
          4,
          5,
          6
         ],
         "xaxis": "x",
         "y": [
          0.9189804755876613,
          0.9376284304019761,
          0.9439777102427066,
          0.9495350490381912,
          0.9600176120866607,
          0.9595129783388291
         ],
         "yaxis": "y"
        },
        {
         "error_y": {
          "array": [
           0.009979474605742222,
           0.009041904529464295,
           0.004349285406381798,
           0.005549301824735786,
           0.0034850175691308882,
           0.0045767559667659885
          ],
          "arrayminus": [
           0.010211668996418233,
           0.013568297953503894,
           0.008427556049216745,
           0.007381346142408485,
           0.004317463404081789,
           0.003248225877823696
          ]
         },
         "hovertemplate": "SC=3<br>MA=%{x}<br>ACC_mean=%{y}<extra></extra>",
         "legendgroup": "3",
         "marker": {
          "color": "#EF553B",
          "symbol": "circle"
         },
         "mode": "markers",
         "name": "3",
         "orientation": "v",
         "showlegend": true,
         "type": "scatter",
         "x": [
          1,
          2,
          3,
          4,
          5,
          6
         ],
         "xaxis": "x",
         "y": [
          0.8770397561634885,
          0.9084338236258755,
          0.9204079961470161,
          0.9287572675183298,
          0.9379783970650154,
          0.939050695013626
         ],
         "yaxis": "y"
        },
        {
         "error_y": {
          "array": [
           0.024639661593291784,
           0.018124271760972976,
           0.014614041580191417,
           0.017471409384538283,
           0.0080875449394191,
           0.008461492279737137
          ],
          "arrayminus": [
           0.013494345518817563,
           0.017434354793720352,
           0.01577335609732622,
           0.012921292541010376,
           0.014896955841549375,
           0.007077763357318023
          ]
         },
         "hovertemplate": "SC=6<br>MA=%{x}<br>ACC_mean=%{y}<extra></extra>",
         "legendgroup": "6",
         "marker": {
          "color": "#00cc96",
          "symbol": "circle"
         },
         "mode": "markers",
         "name": "6",
         "orientation": "v",
         "showlegend": true,
         "type": "scatter",
         "x": [
          1,
          2,
          3,
          4,
          5,
          6
         ],
         "xaxis": "x",
         "y": [
          0.8407449537913236,
          0.8731800760651139,
          0.8858713953130125,
          0.8900711696908875,
          0.9089856257922883,
          0.918188874468429
         ],
         "yaxis": "y"
        }
       ],
       "layout": {
        "height": 300,
        "legend": {
         "title": {
          "text": "SC"
         },
         "tracegroupgap": 0
        },
        "margin": {
         "b": 50,
         "l": 30,
         "r": 30,
         "t": 50
        },
        "showlegend": false,
        "template": {
         "data": {
          "bar": [
           {
            "error_x": {
             "color": "#f2f5fa"
            },
            "error_y": {
             "color": "#f2f5fa"
            },
            "marker": {
             "line": {
              "color": "rgb(17,17,17)",
              "width": 0.5
             },
             "pattern": {
              "fillmode": "overlay",
              "size": 10,
              "solidity": 0.2
             }
            },
            "type": "bar"
           }
          ],
          "barpolar": [
           {
            "marker": {
             "line": {
              "color": "rgb(17,17,17)",
              "width": 0.5
             },
             "pattern": {
              "fillmode": "overlay",
              "size": 10,
              "solidity": 0.2
             }
            },
            "type": "barpolar"
           }
          ],
          "carpet": [
           {
            "aaxis": {
             "endlinecolor": "#A2B1C6",
             "gridcolor": "#506784",
             "linecolor": "#506784",
             "minorgridcolor": "#506784",
             "startlinecolor": "#A2B1C6"
            },
            "baxis": {
             "endlinecolor": "#A2B1C6",
             "gridcolor": "#506784",
             "linecolor": "#506784",
             "minorgridcolor": "#506784",
             "startlinecolor": "#A2B1C6"
            },
            "type": "carpet"
           }
          ],
          "choropleth": [
           {
            "colorbar": {
             "outlinewidth": 0,
             "ticks": ""
            },
            "type": "choropleth"
           }
          ],
          "contour": [
           {
            "colorbar": {
             "outlinewidth": 0,
             "ticks": ""
            },
            "colorscale": [
             [
              0,
              "#0d0887"
             ],
             [
              0.1111111111111111,
              "#46039f"
             ],
             [
              0.2222222222222222,
              "#7201a8"
             ],
             [
              0.3333333333333333,
              "#9c179e"
             ],
             [
              0.4444444444444444,
              "#bd3786"
             ],
             [
              0.5555555555555556,
              "#d8576b"
             ],
             [
              0.6666666666666666,
              "#ed7953"
             ],
             [
              0.7777777777777778,
              "#fb9f3a"
             ],
             [
              0.8888888888888888,
              "#fdca26"
             ],
             [
              1,
              "#f0f921"
             ]
            ],
            "type": "contour"
           }
          ],
          "contourcarpet": [
           {
            "colorbar": {
             "outlinewidth": 0,
             "ticks": ""
            },
            "type": "contourcarpet"
           }
          ],
          "heatmap": [
           {
            "colorbar": {
             "outlinewidth": 0,
             "ticks": ""
            },
            "colorscale": [
             [
              0,
              "#0d0887"
             ],
             [
              0.1111111111111111,
              "#46039f"
             ],
             [
              0.2222222222222222,
              "#7201a8"
             ],
             [
              0.3333333333333333,
              "#9c179e"
             ],
             [
              0.4444444444444444,
              "#bd3786"
             ],
             [
              0.5555555555555556,
              "#d8576b"
             ],
             [
              0.6666666666666666,
              "#ed7953"
             ],
             [
              0.7777777777777778,
              "#fb9f3a"
             ],
             [
              0.8888888888888888,
              "#fdca26"
             ],
             [
              1,
              "#f0f921"
             ]
            ],
            "type": "heatmap"
           }
          ],
          "heatmapgl": [
           {
            "colorbar": {
             "outlinewidth": 0,
             "ticks": ""
            },
            "colorscale": [
             [
              0,
              "#0d0887"
             ],
             [
              0.1111111111111111,
              "#46039f"
             ],
             [
              0.2222222222222222,
              "#7201a8"
             ],
             [
              0.3333333333333333,
              "#9c179e"
             ],
             [
              0.4444444444444444,
              "#bd3786"
             ],
             [
              0.5555555555555556,
              "#d8576b"
             ],
             [
              0.6666666666666666,
              "#ed7953"
             ],
             [
              0.7777777777777778,
              "#fb9f3a"
             ],
             [
              0.8888888888888888,
              "#fdca26"
             ],
             [
              1,
              "#f0f921"
             ]
            ],
            "type": "heatmapgl"
           }
          ],
          "histogram": [
           {
            "marker": {
             "pattern": {
              "fillmode": "overlay",
              "size": 10,
              "solidity": 0.2
             }
            },
            "type": "histogram"
           }
          ],
          "histogram2d": [
           {
            "colorbar": {
             "outlinewidth": 0,
             "ticks": ""
            },
            "colorscale": [
             [
              0,
              "#0d0887"
             ],
             [
              0.1111111111111111,
              "#46039f"
             ],
             [
              0.2222222222222222,
              "#7201a8"
             ],
             [
              0.3333333333333333,
              "#9c179e"
             ],
             [
              0.4444444444444444,
              "#bd3786"
             ],
             [
              0.5555555555555556,
              "#d8576b"
             ],
             [
              0.6666666666666666,
              "#ed7953"
             ],
             [
              0.7777777777777778,
              "#fb9f3a"
             ],
             [
              0.8888888888888888,
              "#fdca26"
             ],
             [
              1,
              "#f0f921"
             ]
            ],
            "type": "histogram2d"
           }
          ],
          "histogram2dcontour": [
           {
            "colorbar": {
             "outlinewidth": 0,
             "ticks": ""
            },
            "colorscale": [
             [
              0,
              "#0d0887"
             ],
             [
              0.1111111111111111,
              "#46039f"
             ],
             [
              0.2222222222222222,
              "#7201a8"
             ],
             [
              0.3333333333333333,
              "#9c179e"
             ],
             [
              0.4444444444444444,
              "#bd3786"
             ],
             [
              0.5555555555555556,
              "#d8576b"
             ],
             [
              0.6666666666666666,
              "#ed7953"
             ],
             [
              0.7777777777777778,
              "#fb9f3a"
             ],
             [
              0.8888888888888888,
              "#fdca26"
             ],
             [
              1,
              "#f0f921"
             ]
            ],
            "type": "histogram2dcontour"
           }
          ],
          "mesh3d": [
           {
            "colorbar": {
             "outlinewidth": 0,
             "ticks": ""
            },
            "type": "mesh3d"
           }
          ],
          "parcoords": [
           {
            "line": {
             "colorbar": {
              "outlinewidth": 0,
              "ticks": ""
             }
            },
            "type": "parcoords"
           }
          ],
          "pie": [
           {
            "automargin": true,
            "type": "pie"
           }
          ],
          "scatter": [
           {
            "marker": {
             "line": {
              "color": "#283442"
             }
            },
            "type": "scatter"
           }
          ],
          "scatter3d": [
           {
            "line": {
             "colorbar": {
              "outlinewidth": 0,
              "ticks": ""
             }
            },
            "marker": {
             "colorbar": {
              "outlinewidth": 0,
              "ticks": ""
             }
            },
            "type": "scatter3d"
           }
          ],
          "scattercarpet": [
           {
            "marker": {
             "colorbar": {
              "outlinewidth": 0,
              "ticks": ""
             }
            },
            "type": "scattercarpet"
           }
          ],
          "scattergeo": [
           {
            "marker": {
             "colorbar": {
              "outlinewidth": 0,
              "ticks": ""
             }
            },
            "type": "scattergeo"
           }
          ],
          "scattergl": [
           {
            "marker": {
             "line": {
              "color": "#283442"
             }
            },
            "type": "scattergl"
           }
          ],
          "scattermapbox": [
           {
            "marker": {
             "colorbar": {
              "outlinewidth": 0,
              "ticks": ""
             }
            },
            "type": "scattermapbox"
           }
          ],
          "scatterpolar": [
           {
            "marker": {
             "colorbar": {
              "outlinewidth": 0,
              "ticks": ""
             }
            },
            "type": "scatterpolar"
           }
          ],
          "scatterpolargl": [
           {
            "marker": {
             "colorbar": {
              "outlinewidth": 0,
              "ticks": ""
             }
            },
            "type": "scatterpolargl"
           }
          ],
          "scatterternary": [
           {
            "marker": {
             "colorbar": {
              "outlinewidth": 0,
              "ticks": ""
             }
            },
            "type": "scatterternary"
           }
          ],
          "surface": [
           {
            "colorbar": {
             "outlinewidth": 0,
             "ticks": ""
            },
            "colorscale": [
             [
              0,
              "#0d0887"
             ],
             [
              0.1111111111111111,
              "#46039f"
             ],
             [
              0.2222222222222222,
              "#7201a8"
             ],
             [
              0.3333333333333333,
              "#9c179e"
             ],
             [
              0.4444444444444444,
              "#bd3786"
             ],
             [
              0.5555555555555556,
              "#d8576b"
             ],
             [
              0.6666666666666666,
              "#ed7953"
             ],
             [
              0.7777777777777778,
              "#fb9f3a"
             ],
             [
              0.8888888888888888,
              "#fdca26"
             ],
             [
              1,
              "#f0f921"
             ]
            ],
            "type": "surface"
           }
          ],
          "table": [
           {
            "cells": {
             "fill": {
              "color": "#506784"
             },
             "line": {
              "color": "rgb(17,17,17)"
             }
            },
            "header": {
             "fill": {
              "color": "#2a3f5f"
             },
             "line": {
              "color": "rgb(17,17,17)"
             }
            },
            "type": "table"
           }
          ]
         },
         "layout": {
          "annotationdefaults": {
           "arrowcolor": "#f2f5fa",
           "arrowhead": 0,
           "arrowwidth": 1
          },
          "autotypenumbers": "strict",
          "coloraxis": {
           "colorbar": {
            "outlinewidth": 0,
            "ticks": ""
           }
          },
          "colorscale": {
           "diverging": [
            [
             0,
             "#8e0152"
            ],
            [
             0.1,
             "#c51b7d"
            ],
            [
             0.2,
             "#de77ae"
            ],
            [
             0.3,
             "#f1b6da"
            ],
            [
             0.4,
             "#fde0ef"
            ],
            [
             0.5,
             "#f7f7f7"
            ],
            [
             0.6,
             "#e6f5d0"
            ],
            [
             0.7,
             "#b8e186"
            ],
            [
             0.8,
             "#7fbc41"
            ],
            [
             0.9,
             "#4d9221"
            ],
            [
             1,
             "#276419"
            ]
           ],
           "sequential": [
            [
             0,
             "#0d0887"
            ],
            [
             0.1111111111111111,
             "#46039f"
            ],
            [
             0.2222222222222222,
             "#7201a8"
            ],
            [
             0.3333333333333333,
             "#9c179e"
            ],
            [
             0.4444444444444444,
             "#bd3786"
            ],
            [
             0.5555555555555556,
             "#d8576b"
            ],
            [
             0.6666666666666666,
             "#ed7953"
            ],
            [
             0.7777777777777778,
             "#fb9f3a"
            ],
            [
             0.8888888888888888,
             "#fdca26"
            ],
            [
             1,
             "#f0f921"
            ]
           ],
           "sequentialminus": [
            [
             0,
             "#0d0887"
            ],
            [
             0.1111111111111111,
             "#46039f"
            ],
            [
             0.2222222222222222,
             "#7201a8"
            ],
            [
             0.3333333333333333,
             "#9c179e"
            ],
            [
             0.4444444444444444,
             "#bd3786"
            ],
            [
             0.5555555555555556,
             "#d8576b"
            ],
            [
             0.6666666666666666,
             "#ed7953"
            ],
            [
             0.7777777777777778,
             "#fb9f3a"
            ],
            [
             0.8888888888888888,
             "#fdca26"
            ],
            [
             1,
             "#f0f921"
            ]
           ]
          },
          "colorway": [
           "#636efa",
           "#EF553B",
           "#00cc96",
           "#ab63fa",
           "#FFA15A",
           "#19d3f3",
           "#FF6692",
           "#B6E880",
           "#FF97FF",
           "#FECB52"
          ],
          "font": {
           "color": "#f2f5fa"
          },
          "geo": {
           "bgcolor": "rgb(17,17,17)",
           "lakecolor": "rgb(17,17,17)",
           "landcolor": "rgb(17,17,17)",
           "showlakes": true,
           "showland": true,
           "subunitcolor": "#506784"
          },
          "hoverlabel": {
           "align": "left"
          },
          "hovermode": "closest",
          "mapbox": {
           "style": "dark"
          },
          "paper_bgcolor": "rgb(17,17,17)",
          "plot_bgcolor": "rgb(17,17,17)",
          "polar": {
           "angularaxis": {
            "gridcolor": "#506784",
            "linecolor": "#506784",
            "ticks": ""
           },
           "bgcolor": "rgb(17,17,17)",
           "radialaxis": {
            "gridcolor": "#506784",
            "linecolor": "#506784",
            "ticks": ""
           }
          },
          "scene": {
           "xaxis": {
            "backgroundcolor": "rgb(17,17,17)",
            "gridcolor": "#506784",
            "gridwidth": 2,
            "linecolor": "#506784",
            "showbackground": true,
            "ticks": "",
            "zerolinecolor": "#C8D4E3"
           },
           "yaxis": {
            "backgroundcolor": "rgb(17,17,17)",
            "gridcolor": "#506784",
            "gridwidth": 2,
            "linecolor": "#506784",
            "showbackground": true,
            "ticks": "",
            "zerolinecolor": "#C8D4E3"
           },
           "zaxis": {
            "backgroundcolor": "rgb(17,17,17)",
            "gridcolor": "#506784",
            "gridwidth": 2,
            "linecolor": "#506784",
            "showbackground": true,
            "ticks": "",
            "zerolinecolor": "#C8D4E3"
           }
          },
          "shapedefaults": {
           "line": {
            "color": "#f2f5fa"
           }
          },
          "sliderdefaults": {
           "bgcolor": "#C8D4E3",
           "bordercolor": "rgb(17,17,17)",
           "borderwidth": 1,
           "tickwidth": 0
          },
          "ternary": {
           "aaxis": {
            "gridcolor": "#506784",
            "linecolor": "#506784",
            "ticks": ""
           },
           "baxis": {
            "gridcolor": "#506784",
            "linecolor": "#506784",
            "ticks": ""
           },
           "bgcolor": "rgb(17,17,17)",
           "caxis": {
            "gridcolor": "#506784",
            "linecolor": "#506784",
            "ticks": ""
           }
          },
          "title": {
           "x": 0.05
          },
          "updatemenudefaults": {
           "bgcolor": "#506784",
           "borderwidth": 0
          },
          "xaxis": {
           "automargin": true,
           "gridcolor": "#283442",
           "linecolor": "#506784",
           "ticks": "",
           "title": {
            "standoff": 15
           },
           "zerolinecolor": "#283442",
           "zerolinewidth": 2
          },
          "yaxis": {
           "automargin": true,
           "gridcolor": "#283442",
           "linecolor": "#506784",
           "ticks": "",
           "title": {
            "standoff": 15
           },
           "zerolinecolor": "#283442",
           "zerolinewidth": 2
          }
         }
        },
        "title": {
         "text": "Accuracy",
         "x": 0.5,
         "xanchor": "center"
        },
        "width": 400,
        "xaxis": {
         "anchor": "y",
         "domain": [
          0,
          1
         ],
         "title": {
          "font": {
           "color": "lightgrey"
          },
          "text": "Moving Averages"
         }
        },
        "yaxis": {
         "anchor": "x",
         "domain": [
          0,
          1
         ],
         "title": {
          "text": ""
         }
        }
       }
      }
     },
     "metadata": {},
     "output_type": "display_data"
    },
    {
     "data": {
      "application/vnd.plotly.v1+json": {
       "config": {
        "plotlyServerURL": "https://plot.ly"
       },
       "data": [
        {
         "error_y": {
          "array": [
           0.000548920062420799,
           0.00021380286906724777,
           0.00012785636900070063,
           0.00016587010884427933,
           0.00010330619306508915,
           0.00005599969683522943
          ],
          "arrayminus": [
           0.0004172635124584101,
           0.0002822288769644965,
           0.00012855875759243407,
           0.0001408636558334342,
           0.00012252939862411605,
           0.0001684566978339408
          ]
         },
         "hovertemplate": "SC=1<br>MA=%{x}<br>PRE_mean=%{y}<extra></extra>",
         "legendgroup": "1",
         "marker": {
          "color": "#636efa",
          "symbol": "circle"
         },
         "mode": "markers",
         "name": "1",
         "orientation": "v",
         "showlegend": true,
         "type": "scatter",
         "x": [
          1,
          2,
          3,
          4,
          5,
          6
         ],
         "xaxis": "x",
         "y": [
          0.9559728190680139,
          0.9685361971309326,
          0.9722647816678093,
          0.9752187452757711,
          0.9816040108801056,
          0.9817069182362955
         ],
         "yaxis": "y"
        },
        {
         "error_y": {
          "array": [
           0.005951402125390692,
           0.003492339284824064,
           0.0016834962890242,
           0.0012752342833988184,
           0.00281130950048758,
           0.0031840119646106
          ],
          "arrayminus": [
           0.010736028207046444,
           0.007021980832145003,
           0.00195193637866653,
           0.002296339651234214,
           0.0028482121023204465,
           0.0028555212575851474
          ]
         },
         "hovertemplate": "SC=3<br>MA=%{x}<br>PRE_mean=%{y}<extra></extra>",
         "legendgroup": "3",
         "marker": {
          "color": "#EF553B",
          "symbol": "circle"
         },
         "mode": "markers",
         "name": "3",
         "orientation": "v",
         "showlegend": true,
         "type": "scatter",
         "x": [
          1,
          2,
          3,
          4,
          5,
          6
         ],
         "xaxis": "x",
         "y": [
          0.9544446374785699,
          0.9672868814943966,
          0.9729196783141504,
          0.976572866982424,
          0.9780804102447354,
          0.9782401366422006
         ],
         "yaxis": "y"
        },
        {
         "error_y": {
          "array": [
           0.011330860349115235,
           0.007984364912771102,
           0.008860002169244208,
           0.008533051323033392,
           0.008343234145200551,
           0.004701769390093591
          ],
          "arrayminus": [
           0.010518939173342678,
           0.007110876285291501,
           0.005225692837503404,
           0.005517228302999944,
           0.007898303510306293,
           0.0048413133629171545
          ]
         },
         "hovertemplate": "SC=6<br>MA=%{x}<br>PRE_mean=%{y}<extra></extra>",
         "legendgroup": "6",
         "marker": {
          "color": "#00cc96",
          "symbol": "circle"
         },
         "mode": "markers",
         "name": "6",
         "orientation": "v",
         "showlegend": true,
         "type": "scatter",
         "x": [
          1,
          2,
          3,
          4,
          5,
          6
         ],
         "xaxis": "x",
         "y": [
          0.9356890072005536,
          0.9467081917215331,
          0.9558835875743453,
          0.9593126078409537,
          0.9660976604234895,
          0.9701409979055041
         ],
         "yaxis": "y"
        }
       ],
       "layout": {
        "height": 300,
        "legend": {
         "title": {
          "text": "SC"
         },
         "tracegroupgap": 0
        },
        "margin": {
         "b": 50,
         "l": 30,
         "r": 30,
         "t": 50
        },
        "showlegend": false,
        "template": {
         "data": {
          "bar": [
           {
            "error_x": {
             "color": "#f2f5fa"
            },
            "error_y": {
             "color": "#f2f5fa"
            },
            "marker": {
             "line": {
              "color": "rgb(17,17,17)",
              "width": 0.5
             },
             "pattern": {
              "fillmode": "overlay",
              "size": 10,
              "solidity": 0.2
             }
            },
            "type": "bar"
           }
          ],
          "barpolar": [
           {
            "marker": {
             "line": {
              "color": "rgb(17,17,17)",
              "width": 0.5
             },
             "pattern": {
              "fillmode": "overlay",
              "size": 10,
              "solidity": 0.2
             }
            },
            "type": "barpolar"
           }
          ],
          "carpet": [
           {
            "aaxis": {
             "endlinecolor": "#A2B1C6",
             "gridcolor": "#506784",
             "linecolor": "#506784",
             "minorgridcolor": "#506784",
             "startlinecolor": "#A2B1C6"
            },
            "baxis": {
             "endlinecolor": "#A2B1C6",
             "gridcolor": "#506784",
             "linecolor": "#506784",
             "minorgridcolor": "#506784",
             "startlinecolor": "#A2B1C6"
            },
            "type": "carpet"
           }
          ],
          "choropleth": [
           {
            "colorbar": {
             "outlinewidth": 0,
             "ticks": ""
            },
            "type": "choropleth"
           }
          ],
          "contour": [
           {
            "colorbar": {
             "outlinewidth": 0,
             "ticks": ""
            },
            "colorscale": [
             [
              0,
              "#0d0887"
             ],
             [
              0.1111111111111111,
              "#46039f"
             ],
             [
              0.2222222222222222,
              "#7201a8"
             ],
             [
              0.3333333333333333,
              "#9c179e"
             ],
             [
              0.4444444444444444,
              "#bd3786"
             ],
             [
              0.5555555555555556,
              "#d8576b"
             ],
             [
              0.6666666666666666,
              "#ed7953"
             ],
             [
              0.7777777777777778,
              "#fb9f3a"
             ],
             [
              0.8888888888888888,
              "#fdca26"
             ],
             [
              1,
              "#f0f921"
             ]
            ],
            "type": "contour"
           }
          ],
          "contourcarpet": [
           {
            "colorbar": {
             "outlinewidth": 0,
             "ticks": ""
            },
            "type": "contourcarpet"
           }
          ],
          "heatmap": [
           {
            "colorbar": {
             "outlinewidth": 0,
             "ticks": ""
            },
            "colorscale": [
             [
              0,
              "#0d0887"
             ],
             [
              0.1111111111111111,
              "#46039f"
             ],
             [
              0.2222222222222222,
              "#7201a8"
             ],
             [
              0.3333333333333333,
              "#9c179e"
             ],
             [
              0.4444444444444444,
              "#bd3786"
             ],
             [
              0.5555555555555556,
              "#d8576b"
             ],
             [
              0.6666666666666666,
              "#ed7953"
             ],
             [
              0.7777777777777778,
              "#fb9f3a"
             ],
             [
              0.8888888888888888,
              "#fdca26"
             ],
             [
              1,
              "#f0f921"
             ]
            ],
            "type": "heatmap"
           }
          ],
          "heatmapgl": [
           {
            "colorbar": {
             "outlinewidth": 0,
             "ticks": ""
            },
            "colorscale": [
             [
              0,
              "#0d0887"
             ],
             [
              0.1111111111111111,
              "#46039f"
             ],
             [
              0.2222222222222222,
              "#7201a8"
             ],
             [
              0.3333333333333333,
              "#9c179e"
             ],
             [
              0.4444444444444444,
              "#bd3786"
             ],
             [
              0.5555555555555556,
              "#d8576b"
             ],
             [
              0.6666666666666666,
              "#ed7953"
             ],
             [
              0.7777777777777778,
              "#fb9f3a"
             ],
             [
              0.8888888888888888,
              "#fdca26"
             ],
             [
              1,
              "#f0f921"
             ]
            ],
            "type": "heatmapgl"
           }
          ],
          "histogram": [
           {
            "marker": {
             "pattern": {
              "fillmode": "overlay",
              "size": 10,
              "solidity": 0.2
             }
            },
            "type": "histogram"
           }
          ],
          "histogram2d": [
           {
            "colorbar": {
             "outlinewidth": 0,
             "ticks": ""
            },
            "colorscale": [
             [
              0,
              "#0d0887"
             ],
             [
              0.1111111111111111,
              "#46039f"
             ],
             [
              0.2222222222222222,
              "#7201a8"
             ],
             [
              0.3333333333333333,
              "#9c179e"
             ],
             [
              0.4444444444444444,
              "#bd3786"
             ],
             [
              0.5555555555555556,
              "#d8576b"
             ],
             [
              0.6666666666666666,
              "#ed7953"
             ],
             [
              0.7777777777777778,
              "#fb9f3a"
             ],
             [
              0.8888888888888888,
              "#fdca26"
             ],
             [
              1,
              "#f0f921"
             ]
            ],
            "type": "histogram2d"
           }
          ],
          "histogram2dcontour": [
           {
            "colorbar": {
             "outlinewidth": 0,
             "ticks": ""
            },
            "colorscale": [
             [
              0,
              "#0d0887"
             ],
             [
              0.1111111111111111,
              "#46039f"
             ],
             [
              0.2222222222222222,
              "#7201a8"
             ],
             [
              0.3333333333333333,
              "#9c179e"
             ],
             [
              0.4444444444444444,
              "#bd3786"
             ],
             [
              0.5555555555555556,
              "#d8576b"
             ],
             [
              0.6666666666666666,
              "#ed7953"
             ],
             [
              0.7777777777777778,
              "#fb9f3a"
             ],
             [
              0.8888888888888888,
              "#fdca26"
             ],
             [
              1,
              "#f0f921"
             ]
            ],
            "type": "histogram2dcontour"
           }
          ],
          "mesh3d": [
           {
            "colorbar": {
             "outlinewidth": 0,
             "ticks": ""
            },
            "type": "mesh3d"
           }
          ],
          "parcoords": [
           {
            "line": {
             "colorbar": {
              "outlinewidth": 0,
              "ticks": ""
             }
            },
            "type": "parcoords"
           }
          ],
          "pie": [
           {
            "automargin": true,
            "type": "pie"
           }
          ],
          "scatter": [
           {
            "marker": {
             "line": {
              "color": "#283442"
             }
            },
            "type": "scatter"
           }
          ],
          "scatter3d": [
           {
            "line": {
             "colorbar": {
              "outlinewidth": 0,
              "ticks": ""
             }
            },
            "marker": {
             "colorbar": {
              "outlinewidth": 0,
              "ticks": ""
             }
            },
            "type": "scatter3d"
           }
          ],
          "scattercarpet": [
           {
            "marker": {
             "colorbar": {
              "outlinewidth": 0,
              "ticks": ""
             }
            },
            "type": "scattercarpet"
           }
          ],
          "scattergeo": [
           {
            "marker": {
             "colorbar": {
              "outlinewidth": 0,
              "ticks": ""
             }
            },
            "type": "scattergeo"
           }
          ],
          "scattergl": [
           {
            "marker": {
             "line": {
              "color": "#283442"
             }
            },
            "type": "scattergl"
           }
          ],
          "scattermapbox": [
           {
            "marker": {
             "colorbar": {
              "outlinewidth": 0,
              "ticks": ""
             }
            },
            "type": "scattermapbox"
           }
          ],
          "scatterpolar": [
           {
            "marker": {
             "colorbar": {
              "outlinewidth": 0,
              "ticks": ""
             }
            },
            "type": "scatterpolar"
           }
          ],
          "scatterpolargl": [
           {
            "marker": {
             "colorbar": {
              "outlinewidth": 0,
              "ticks": ""
             }
            },
            "type": "scatterpolargl"
           }
          ],
          "scatterternary": [
           {
            "marker": {
             "colorbar": {
              "outlinewidth": 0,
              "ticks": ""
             }
            },
            "type": "scatterternary"
           }
          ],
          "surface": [
           {
            "colorbar": {
             "outlinewidth": 0,
             "ticks": ""
            },
            "colorscale": [
             [
              0,
              "#0d0887"
             ],
             [
              0.1111111111111111,
              "#46039f"
             ],
             [
              0.2222222222222222,
              "#7201a8"
             ],
             [
              0.3333333333333333,
              "#9c179e"
             ],
             [
              0.4444444444444444,
              "#bd3786"
             ],
             [
              0.5555555555555556,
              "#d8576b"
             ],
             [
              0.6666666666666666,
              "#ed7953"
             ],
             [
              0.7777777777777778,
              "#fb9f3a"
             ],
             [
              0.8888888888888888,
              "#fdca26"
             ],
             [
              1,
              "#f0f921"
             ]
            ],
            "type": "surface"
           }
          ],
          "table": [
           {
            "cells": {
             "fill": {
              "color": "#506784"
             },
             "line": {
              "color": "rgb(17,17,17)"
             }
            },
            "header": {
             "fill": {
              "color": "#2a3f5f"
             },
             "line": {
              "color": "rgb(17,17,17)"
             }
            },
            "type": "table"
           }
          ]
         },
         "layout": {
          "annotationdefaults": {
           "arrowcolor": "#f2f5fa",
           "arrowhead": 0,
           "arrowwidth": 1
          },
          "autotypenumbers": "strict",
          "coloraxis": {
           "colorbar": {
            "outlinewidth": 0,
            "ticks": ""
           }
          },
          "colorscale": {
           "diverging": [
            [
             0,
             "#8e0152"
            ],
            [
             0.1,
             "#c51b7d"
            ],
            [
             0.2,
             "#de77ae"
            ],
            [
             0.3,
             "#f1b6da"
            ],
            [
             0.4,
             "#fde0ef"
            ],
            [
             0.5,
             "#f7f7f7"
            ],
            [
             0.6,
             "#e6f5d0"
            ],
            [
             0.7,
             "#b8e186"
            ],
            [
             0.8,
             "#7fbc41"
            ],
            [
             0.9,
             "#4d9221"
            ],
            [
             1,
             "#276419"
            ]
           ],
           "sequential": [
            [
             0,
             "#0d0887"
            ],
            [
             0.1111111111111111,
             "#46039f"
            ],
            [
             0.2222222222222222,
             "#7201a8"
            ],
            [
             0.3333333333333333,
             "#9c179e"
            ],
            [
             0.4444444444444444,
             "#bd3786"
            ],
            [
             0.5555555555555556,
             "#d8576b"
            ],
            [
             0.6666666666666666,
             "#ed7953"
            ],
            [
             0.7777777777777778,
             "#fb9f3a"
            ],
            [
             0.8888888888888888,
             "#fdca26"
            ],
            [
             1,
             "#f0f921"
            ]
           ],
           "sequentialminus": [
            [
             0,
             "#0d0887"
            ],
            [
             0.1111111111111111,
             "#46039f"
            ],
            [
             0.2222222222222222,
             "#7201a8"
            ],
            [
             0.3333333333333333,
             "#9c179e"
            ],
            [
             0.4444444444444444,
             "#bd3786"
            ],
            [
             0.5555555555555556,
             "#d8576b"
            ],
            [
             0.6666666666666666,
             "#ed7953"
            ],
            [
             0.7777777777777778,
             "#fb9f3a"
            ],
            [
             0.8888888888888888,
             "#fdca26"
            ],
            [
             1,
             "#f0f921"
            ]
           ]
          },
          "colorway": [
           "#636efa",
           "#EF553B",
           "#00cc96",
           "#ab63fa",
           "#FFA15A",
           "#19d3f3",
           "#FF6692",
           "#B6E880",
           "#FF97FF",
           "#FECB52"
          ],
          "font": {
           "color": "#f2f5fa"
          },
          "geo": {
           "bgcolor": "rgb(17,17,17)",
           "lakecolor": "rgb(17,17,17)",
           "landcolor": "rgb(17,17,17)",
           "showlakes": true,
           "showland": true,
           "subunitcolor": "#506784"
          },
          "hoverlabel": {
           "align": "left"
          },
          "hovermode": "closest",
          "mapbox": {
           "style": "dark"
          },
          "paper_bgcolor": "rgb(17,17,17)",
          "plot_bgcolor": "rgb(17,17,17)",
          "polar": {
           "angularaxis": {
            "gridcolor": "#506784",
            "linecolor": "#506784",
            "ticks": ""
           },
           "bgcolor": "rgb(17,17,17)",
           "radialaxis": {
            "gridcolor": "#506784",
            "linecolor": "#506784",
            "ticks": ""
           }
          },
          "scene": {
           "xaxis": {
            "backgroundcolor": "rgb(17,17,17)",
            "gridcolor": "#506784",
            "gridwidth": 2,
            "linecolor": "#506784",
            "showbackground": true,
            "ticks": "",
            "zerolinecolor": "#C8D4E3"
           },
           "yaxis": {
            "backgroundcolor": "rgb(17,17,17)",
            "gridcolor": "#506784",
            "gridwidth": 2,
            "linecolor": "#506784",
            "showbackground": true,
            "ticks": "",
            "zerolinecolor": "#C8D4E3"
           },
           "zaxis": {
            "backgroundcolor": "rgb(17,17,17)",
            "gridcolor": "#506784",
            "gridwidth": 2,
            "linecolor": "#506784",
            "showbackground": true,
            "ticks": "",
            "zerolinecolor": "#C8D4E3"
           }
          },
          "shapedefaults": {
           "line": {
            "color": "#f2f5fa"
           }
          },
          "sliderdefaults": {
           "bgcolor": "#C8D4E3",
           "bordercolor": "rgb(17,17,17)",
           "borderwidth": 1,
           "tickwidth": 0
          },
          "ternary": {
           "aaxis": {
            "gridcolor": "#506784",
            "linecolor": "#506784",
            "ticks": ""
           },
           "baxis": {
            "gridcolor": "#506784",
            "linecolor": "#506784",
            "ticks": ""
           },
           "bgcolor": "rgb(17,17,17)",
           "caxis": {
            "gridcolor": "#506784",
            "linecolor": "#506784",
            "ticks": ""
           }
          },
          "title": {
           "x": 0.05
          },
          "updatemenudefaults": {
           "bgcolor": "#506784",
           "borderwidth": 0
          },
          "xaxis": {
           "automargin": true,
           "gridcolor": "#283442",
           "linecolor": "#506784",
           "ticks": "",
           "title": {
            "standoff": 15
           },
           "zerolinecolor": "#283442",
           "zerolinewidth": 2
          },
          "yaxis": {
           "automargin": true,
           "gridcolor": "#283442",
           "linecolor": "#506784",
           "ticks": "",
           "title": {
            "standoff": 15
           },
           "zerolinecolor": "#283442",
           "zerolinewidth": 2
          }
         }
        },
        "title": {
         "text": "Precision",
         "x": 0.5,
         "xanchor": "center"
        },
        "width": 400,
        "xaxis": {
         "anchor": "y",
         "domain": [
          0,
          1
         ],
         "title": {
          "font": {
           "color": "lightgrey"
          },
          "text": "Moving Averages"
         }
        },
        "yaxis": {
         "anchor": "x",
         "domain": [
          0,
          1
         ],
         "title": {
          "text": ""
         }
        }
       }
      }
     },
     "metadata": {},
     "output_type": "display_data"
    },
    {
     "data": {
      "application/vnd.plotly.v1+json": {
       "config": {
        "plotlyServerURL": "https://plot.ly"
       },
       "data": [
        {
         "error_y": {
          "array": [
           0.005069115543903213,
           0.002271406786454988,
           0.0028433328872694563,
           0.005135092097587002,
           0.003990827054979218,
           0.004464617051686215
          ],
          "arrayminus": [
           0.004530975344531174,
           0.003721986323502624,
           0.002839741315073696,
           0.004141778194051704,
           0.00217109612822064,
           0.0042478447357621185
          ]
         },
         "hovertemplate": "SC=1<br>MA=%{x}<br>REC_mean=%{y}<extra></extra>",
         "legendgroup": "1",
         "marker": {
          "color": "#636efa",
          "symbol": "circle"
         },
         "mode": "markers",
         "name": "1",
         "orientation": "v",
         "showlegend": true,
         "type": "scatter",
         "x": [
          1,
          2,
          3,
          4,
          5,
          6
         ],
         "xaxis": "x",
         "y": [
          0.9397161605297164,
          0.9515747470596989,
          0.957522520771267,
          0.9613283225365592,
          0.9687364456722936,
          0.968426949213374
         ],
         "yaxis": "y"
        },
        {
         "error_y": {
          "array": [
           0.007553541682900011,
           0.008876453025804976,
           0.006903983157485527,
           0.008943411018713765,
           0.004283468690434833,
           0.005597290728435733
          ],
          "arrayminus": [
           0.012019479647039755,
           0.011009639132519289,
           0.008947833215663059,
           0.010228906025943618,
           0.005487321788554378,
           0.003930418799273805
          ]
         },
         "hovertemplate": "SC=3<br>MA=%{x}<br>REC_mean=%{y}<extra></extra>",
         "legendgroup": "3",
         "marker": {
          "color": "#EF553B",
          "symbol": "circle"
         },
         "mode": "markers",
         "name": "3",
         "orientation": "v",
         "showlegend": true,
         "type": "scatter",
         "x": [
          1,
          2,
          3,
          4,
          5,
          6
         ],
         "xaxis": "x",
         "y": [
          0.885084495126916,
          0.9144364304097778,
          0.9266307600449316,
          0.9333058291028666,
          0.9445117120324568,
          0.9463546612235162
         ],
         "yaxis": "y"
        },
        {
         "error_y": {
          "array": [
           0.022114270889058374,
           0.016248071238249784,
           0.010345686631374806,
           0.014177264154601965,
           0.010939428654593186,
           0.008822770036861938
          ],
          "arrayminus": [
           0.013081079449979494,
           0.016385760919692238,
           0.015500818655829085,
           0.01148558363590535,
           0.011246877545818212,
           0.010121160284313868
          ]
         },
         "hovertemplate": "SC=6<br>MA=%{x}<br>REC_mean=%{y}<extra></extra>",
         "legendgroup": "6",
         "marker": {
          "color": "#00cc96",
          "symbol": "circle"
         },
         "mode": "markers",
         "name": "6",
         "orientation": "v",
         "showlegend": true,
         "type": "scatter",
         "x": [
          1,
          2,
          3,
          4,
          5,
          6
         ],
         "xaxis": "x",
         "y": [
          0.8551863426078742,
          0.8886599042218729,
          0.8992928675854927,
          0.9007163528666746,
          0.919783462911672,
          0.9283029784661322
         ],
         "yaxis": "y"
        }
       ],
       "layout": {
        "height": 300,
        "legend": {
         "title": {
          "text": "SC"
         },
         "tracegroupgap": 0
        },
        "margin": {
         "b": 50,
         "l": 30,
         "r": 30,
         "t": 50
        },
        "showlegend": false,
        "template": {
         "data": {
          "bar": [
           {
            "error_x": {
             "color": "#f2f5fa"
            },
            "error_y": {
             "color": "#f2f5fa"
            },
            "marker": {
             "line": {
              "color": "rgb(17,17,17)",
              "width": 0.5
             },
             "pattern": {
              "fillmode": "overlay",
              "size": 10,
              "solidity": 0.2
             }
            },
            "type": "bar"
           }
          ],
          "barpolar": [
           {
            "marker": {
             "line": {
              "color": "rgb(17,17,17)",
              "width": 0.5
             },
             "pattern": {
              "fillmode": "overlay",
              "size": 10,
              "solidity": 0.2
             }
            },
            "type": "barpolar"
           }
          ],
          "carpet": [
           {
            "aaxis": {
             "endlinecolor": "#A2B1C6",
             "gridcolor": "#506784",
             "linecolor": "#506784",
             "minorgridcolor": "#506784",
             "startlinecolor": "#A2B1C6"
            },
            "baxis": {
             "endlinecolor": "#A2B1C6",
             "gridcolor": "#506784",
             "linecolor": "#506784",
             "minorgridcolor": "#506784",
             "startlinecolor": "#A2B1C6"
            },
            "type": "carpet"
           }
          ],
          "choropleth": [
           {
            "colorbar": {
             "outlinewidth": 0,
             "ticks": ""
            },
            "type": "choropleth"
           }
          ],
          "contour": [
           {
            "colorbar": {
             "outlinewidth": 0,
             "ticks": ""
            },
            "colorscale": [
             [
              0,
              "#0d0887"
             ],
             [
              0.1111111111111111,
              "#46039f"
             ],
             [
              0.2222222222222222,
              "#7201a8"
             ],
             [
              0.3333333333333333,
              "#9c179e"
             ],
             [
              0.4444444444444444,
              "#bd3786"
             ],
             [
              0.5555555555555556,
              "#d8576b"
             ],
             [
              0.6666666666666666,
              "#ed7953"
             ],
             [
              0.7777777777777778,
              "#fb9f3a"
             ],
             [
              0.8888888888888888,
              "#fdca26"
             ],
             [
              1,
              "#f0f921"
             ]
            ],
            "type": "contour"
           }
          ],
          "contourcarpet": [
           {
            "colorbar": {
             "outlinewidth": 0,
             "ticks": ""
            },
            "type": "contourcarpet"
           }
          ],
          "heatmap": [
           {
            "colorbar": {
             "outlinewidth": 0,
             "ticks": ""
            },
            "colorscale": [
             [
              0,
              "#0d0887"
             ],
             [
              0.1111111111111111,
              "#46039f"
             ],
             [
              0.2222222222222222,
              "#7201a8"
             ],
             [
              0.3333333333333333,
              "#9c179e"
             ],
             [
              0.4444444444444444,
              "#bd3786"
             ],
             [
              0.5555555555555556,
              "#d8576b"
             ],
             [
              0.6666666666666666,
              "#ed7953"
             ],
             [
              0.7777777777777778,
              "#fb9f3a"
             ],
             [
              0.8888888888888888,
              "#fdca26"
             ],
             [
              1,
              "#f0f921"
             ]
            ],
            "type": "heatmap"
           }
          ],
          "heatmapgl": [
           {
            "colorbar": {
             "outlinewidth": 0,
             "ticks": ""
            },
            "colorscale": [
             [
              0,
              "#0d0887"
             ],
             [
              0.1111111111111111,
              "#46039f"
             ],
             [
              0.2222222222222222,
              "#7201a8"
             ],
             [
              0.3333333333333333,
              "#9c179e"
             ],
             [
              0.4444444444444444,
              "#bd3786"
             ],
             [
              0.5555555555555556,
              "#d8576b"
             ],
             [
              0.6666666666666666,
              "#ed7953"
             ],
             [
              0.7777777777777778,
              "#fb9f3a"
             ],
             [
              0.8888888888888888,
              "#fdca26"
             ],
             [
              1,
              "#f0f921"
             ]
            ],
            "type": "heatmapgl"
           }
          ],
          "histogram": [
           {
            "marker": {
             "pattern": {
              "fillmode": "overlay",
              "size": 10,
              "solidity": 0.2
             }
            },
            "type": "histogram"
           }
          ],
          "histogram2d": [
           {
            "colorbar": {
             "outlinewidth": 0,
             "ticks": ""
            },
            "colorscale": [
             [
              0,
              "#0d0887"
             ],
             [
              0.1111111111111111,
              "#46039f"
             ],
             [
              0.2222222222222222,
              "#7201a8"
             ],
             [
              0.3333333333333333,
              "#9c179e"
             ],
             [
              0.4444444444444444,
              "#bd3786"
             ],
             [
              0.5555555555555556,
              "#d8576b"
             ],
             [
              0.6666666666666666,
              "#ed7953"
             ],
             [
              0.7777777777777778,
              "#fb9f3a"
             ],
             [
              0.8888888888888888,
              "#fdca26"
             ],
             [
              1,
              "#f0f921"
             ]
            ],
            "type": "histogram2d"
           }
          ],
          "histogram2dcontour": [
           {
            "colorbar": {
             "outlinewidth": 0,
             "ticks": ""
            },
            "colorscale": [
             [
              0,
              "#0d0887"
             ],
             [
              0.1111111111111111,
              "#46039f"
             ],
             [
              0.2222222222222222,
              "#7201a8"
             ],
             [
              0.3333333333333333,
              "#9c179e"
             ],
             [
              0.4444444444444444,
              "#bd3786"
             ],
             [
              0.5555555555555556,
              "#d8576b"
             ],
             [
              0.6666666666666666,
              "#ed7953"
             ],
             [
              0.7777777777777778,
              "#fb9f3a"
             ],
             [
              0.8888888888888888,
              "#fdca26"
             ],
             [
              1,
              "#f0f921"
             ]
            ],
            "type": "histogram2dcontour"
           }
          ],
          "mesh3d": [
           {
            "colorbar": {
             "outlinewidth": 0,
             "ticks": ""
            },
            "type": "mesh3d"
           }
          ],
          "parcoords": [
           {
            "line": {
             "colorbar": {
              "outlinewidth": 0,
              "ticks": ""
             }
            },
            "type": "parcoords"
           }
          ],
          "pie": [
           {
            "automargin": true,
            "type": "pie"
           }
          ],
          "scatter": [
           {
            "marker": {
             "line": {
              "color": "#283442"
             }
            },
            "type": "scatter"
           }
          ],
          "scatter3d": [
           {
            "line": {
             "colorbar": {
              "outlinewidth": 0,
              "ticks": ""
             }
            },
            "marker": {
             "colorbar": {
              "outlinewidth": 0,
              "ticks": ""
             }
            },
            "type": "scatter3d"
           }
          ],
          "scattercarpet": [
           {
            "marker": {
             "colorbar": {
              "outlinewidth": 0,
              "ticks": ""
             }
            },
            "type": "scattercarpet"
           }
          ],
          "scattergeo": [
           {
            "marker": {
             "colorbar": {
              "outlinewidth": 0,
              "ticks": ""
             }
            },
            "type": "scattergeo"
           }
          ],
          "scattergl": [
           {
            "marker": {
             "line": {
              "color": "#283442"
             }
            },
            "type": "scattergl"
           }
          ],
          "scattermapbox": [
           {
            "marker": {
             "colorbar": {
              "outlinewidth": 0,
              "ticks": ""
             }
            },
            "type": "scattermapbox"
           }
          ],
          "scatterpolar": [
           {
            "marker": {
             "colorbar": {
              "outlinewidth": 0,
              "ticks": ""
             }
            },
            "type": "scatterpolar"
           }
          ],
          "scatterpolargl": [
           {
            "marker": {
             "colorbar": {
              "outlinewidth": 0,
              "ticks": ""
             }
            },
            "type": "scatterpolargl"
           }
          ],
          "scatterternary": [
           {
            "marker": {
             "colorbar": {
              "outlinewidth": 0,
              "ticks": ""
             }
            },
            "type": "scatterternary"
           }
          ],
          "surface": [
           {
            "colorbar": {
             "outlinewidth": 0,
             "ticks": ""
            },
            "colorscale": [
             [
              0,
              "#0d0887"
             ],
             [
              0.1111111111111111,
              "#46039f"
             ],
             [
              0.2222222222222222,
              "#7201a8"
             ],
             [
              0.3333333333333333,
              "#9c179e"
             ],
             [
              0.4444444444444444,
              "#bd3786"
             ],
             [
              0.5555555555555556,
              "#d8576b"
             ],
             [
              0.6666666666666666,
              "#ed7953"
             ],
             [
              0.7777777777777778,
              "#fb9f3a"
             ],
             [
              0.8888888888888888,
              "#fdca26"
             ],
             [
              1,
              "#f0f921"
             ]
            ],
            "type": "surface"
           }
          ],
          "table": [
           {
            "cells": {
             "fill": {
              "color": "#506784"
             },
             "line": {
              "color": "rgb(17,17,17)"
             }
            },
            "header": {
             "fill": {
              "color": "#2a3f5f"
             },
             "line": {
              "color": "rgb(17,17,17)"
             }
            },
            "type": "table"
           }
          ]
         },
         "layout": {
          "annotationdefaults": {
           "arrowcolor": "#f2f5fa",
           "arrowhead": 0,
           "arrowwidth": 1
          },
          "autotypenumbers": "strict",
          "coloraxis": {
           "colorbar": {
            "outlinewidth": 0,
            "ticks": ""
           }
          },
          "colorscale": {
           "diverging": [
            [
             0,
             "#8e0152"
            ],
            [
             0.1,
             "#c51b7d"
            ],
            [
             0.2,
             "#de77ae"
            ],
            [
             0.3,
             "#f1b6da"
            ],
            [
             0.4,
             "#fde0ef"
            ],
            [
             0.5,
             "#f7f7f7"
            ],
            [
             0.6,
             "#e6f5d0"
            ],
            [
             0.7,
             "#b8e186"
            ],
            [
             0.8,
             "#7fbc41"
            ],
            [
             0.9,
             "#4d9221"
            ],
            [
             1,
             "#276419"
            ]
           ],
           "sequential": [
            [
             0,
             "#0d0887"
            ],
            [
             0.1111111111111111,
             "#46039f"
            ],
            [
             0.2222222222222222,
             "#7201a8"
            ],
            [
             0.3333333333333333,
             "#9c179e"
            ],
            [
             0.4444444444444444,
             "#bd3786"
            ],
            [
             0.5555555555555556,
             "#d8576b"
            ],
            [
             0.6666666666666666,
             "#ed7953"
            ],
            [
             0.7777777777777778,
             "#fb9f3a"
            ],
            [
             0.8888888888888888,
             "#fdca26"
            ],
            [
             1,
             "#f0f921"
            ]
           ],
           "sequentialminus": [
            [
             0,
             "#0d0887"
            ],
            [
             0.1111111111111111,
             "#46039f"
            ],
            [
             0.2222222222222222,
             "#7201a8"
            ],
            [
             0.3333333333333333,
             "#9c179e"
            ],
            [
             0.4444444444444444,
             "#bd3786"
            ],
            [
             0.5555555555555556,
             "#d8576b"
            ],
            [
             0.6666666666666666,
             "#ed7953"
            ],
            [
             0.7777777777777778,
             "#fb9f3a"
            ],
            [
             0.8888888888888888,
             "#fdca26"
            ],
            [
             1,
             "#f0f921"
            ]
           ]
          },
          "colorway": [
           "#636efa",
           "#EF553B",
           "#00cc96",
           "#ab63fa",
           "#FFA15A",
           "#19d3f3",
           "#FF6692",
           "#B6E880",
           "#FF97FF",
           "#FECB52"
          ],
          "font": {
           "color": "#f2f5fa"
          },
          "geo": {
           "bgcolor": "rgb(17,17,17)",
           "lakecolor": "rgb(17,17,17)",
           "landcolor": "rgb(17,17,17)",
           "showlakes": true,
           "showland": true,
           "subunitcolor": "#506784"
          },
          "hoverlabel": {
           "align": "left"
          },
          "hovermode": "closest",
          "mapbox": {
           "style": "dark"
          },
          "paper_bgcolor": "rgb(17,17,17)",
          "plot_bgcolor": "rgb(17,17,17)",
          "polar": {
           "angularaxis": {
            "gridcolor": "#506784",
            "linecolor": "#506784",
            "ticks": ""
           },
           "bgcolor": "rgb(17,17,17)",
           "radialaxis": {
            "gridcolor": "#506784",
            "linecolor": "#506784",
            "ticks": ""
           }
          },
          "scene": {
           "xaxis": {
            "backgroundcolor": "rgb(17,17,17)",
            "gridcolor": "#506784",
            "gridwidth": 2,
            "linecolor": "#506784",
            "showbackground": true,
            "ticks": "",
            "zerolinecolor": "#C8D4E3"
           },
           "yaxis": {
            "backgroundcolor": "rgb(17,17,17)",
            "gridcolor": "#506784",
            "gridwidth": 2,
            "linecolor": "#506784",
            "showbackground": true,
            "ticks": "",
            "zerolinecolor": "#C8D4E3"
           },
           "zaxis": {
            "backgroundcolor": "rgb(17,17,17)",
            "gridcolor": "#506784",
            "gridwidth": 2,
            "linecolor": "#506784",
            "showbackground": true,
            "ticks": "",
            "zerolinecolor": "#C8D4E3"
           }
          },
          "shapedefaults": {
           "line": {
            "color": "#f2f5fa"
           }
          },
          "sliderdefaults": {
           "bgcolor": "#C8D4E3",
           "bordercolor": "rgb(17,17,17)",
           "borderwidth": 1,
           "tickwidth": 0
          },
          "ternary": {
           "aaxis": {
            "gridcolor": "#506784",
            "linecolor": "#506784",
            "ticks": ""
           },
           "baxis": {
            "gridcolor": "#506784",
            "linecolor": "#506784",
            "ticks": ""
           },
           "bgcolor": "rgb(17,17,17)",
           "caxis": {
            "gridcolor": "#506784",
            "linecolor": "#506784",
            "ticks": ""
           }
          },
          "title": {
           "x": 0.05
          },
          "updatemenudefaults": {
           "bgcolor": "#506784",
           "borderwidth": 0
          },
          "xaxis": {
           "automargin": true,
           "gridcolor": "#283442",
           "linecolor": "#506784",
           "ticks": "",
           "title": {
            "standoff": 15
           },
           "zerolinecolor": "#283442",
           "zerolinewidth": 2
          },
          "yaxis": {
           "automargin": true,
           "gridcolor": "#283442",
           "linecolor": "#506784",
           "ticks": "",
           "title": {
            "standoff": 15
           },
           "zerolinecolor": "#283442",
           "zerolinewidth": 2
          }
         }
        },
        "title": {
         "text": "Recall",
         "x": 0.5,
         "xanchor": "center"
        },
        "width": 400,
        "xaxis": {
         "anchor": "y",
         "domain": [
          0,
          1
         ],
         "title": {
          "font": {
           "color": "lightgrey"
          },
          "text": "Moving Averages"
         }
        },
        "yaxis": {
         "anchor": "x",
         "domain": [
          0,
          1
         ],
         "title": {
          "text": ""
         }
        }
       }
      }
     },
     "metadata": {},
     "output_type": "display_data"
    },
    {
     "data": {
      "application/vnd.plotly.v1+json": {
       "config": {
        "plotlyServerURL": "https://plot.ly"
       },
       "data": [
        {
         "error_y": {
          "array": [
           0.0028446676939732907,
           0.0012610252919099674,
           0.001421763879334681,
           0.0026825963589105495,
           0.0020424232480293902,
           0.002287417292569427
          ],
          "arrayminus": [
           0.0023748003440073884,
           0.00183974990188851,
           0.0014212706859801916,
           0.0021715431302468113,
           0.0011602171821593066,
           0.0021281268810995346
          ]
         },
         "hovertemplate": "SC=1<br>MA=%{x}<br>F1_mean=%{y}<extra></extra>",
         "legendgroup": "1",
         "marker": {
          "color": "#636efa",
          "symbol": "circle"
         },
         "mode": "markers",
         "name": "1",
         "orientation": "v",
         "showlegend": true,
         "type": "scatter",
         "x": [
          1,
          2,
          3,
          4,
          5,
          6
         ],
         "xaxis": "x",
         "y": [
          0.9477726162566439,
          0.9599792847856093,
          0.9648359048323217,
          0.9682209258462962,
          0.9751265265236602,
          0.9750196931461598
         ],
         "yaxis": "y"
        },
        {
         "error_y": {
          "array": [
           0.006837561362321498,
           0.006097116725428564,
           0.0030322509395832586,
           0.003830661863356344,
           0.0023062387461366685,
           0.0029634459080795095
          ],
          "arrayminus": [
           0.007293646724982894,
           0.009126281693816796,
           0.00562828782031255,
           0.005071183068461327,
           0.0028569786637203665,
           0.0021524005319678574
          ]
         },
         "hovertemplate": "SC=3<br>MA=%{x}<br>F1_mean=%{y}<extra></extra>",
         "legendgroup": "3",
         "marker": {
          "color": "#EF553B",
          "symbol": "circle"
         },
         "mode": "markers",
         "name": "3",
         "orientation": "v",
         "showlegend": true,
         "type": "scatter",
         "x": [
          1,
          2,
          3,
          4,
          5,
          6
         ],
         "xaxis": "x",
         "y": [
          0.9184406580335449,
          0.940105414920141,
          0.9492019555319113,
          0.9544382716760564,
          0.9609965135474413,
          0.9620289437418444
         ],
         "yaxis": "y"
        },
        {
         "error_y": {
          "array": [
           0.017216675590358888,
           0.012382475188344788,
           0.009526603836043313,
           0.01154511275452108,
           0.005495218936010016,
           0.005516122288640735
          ],
          "arrayminus": [
           0.00905850435889266,
           0.012066407312005034,
           0.010703448932649295,
           0.008697721640383516,
           0.009650186557619622,
           0.004826936749426358
          ]
         },
         "hovertemplate": "SC=6<br>MA=%{x}<br>F1_mean=%{y}<extra></extra>",
         "legendgroup": "6",
         "marker": {
          "color": "#00cc96",
          "symbol": "circle"
         },
         "mode": "markers",
         "name": "6",
         "orientation": "v",
         "showlegend": true,
         "type": "scatter",
         "x": [
          1,
          2,
          3,
          4,
          5,
          6
         ],
         "xaxis": "x",
         "y": [
          0.893611349887348,
          0.9167513830793718,
          0.9267097880768649,
          0.9290798872454787,
          0.9423575418001863,
          0.948752170394286
         ],
         "yaxis": "y"
        }
       ],
       "layout": {
        "height": 300,
        "legend": {
         "title": {
          "text": "SC"
         },
         "tracegroupgap": 0
        },
        "margin": {
         "b": 50,
         "l": 30,
         "r": 30,
         "t": 50
        },
        "showlegend": false,
        "template": {
         "data": {
          "bar": [
           {
            "error_x": {
             "color": "#f2f5fa"
            },
            "error_y": {
             "color": "#f2f5fa"
            },
            "marker": {
             "line": {
              "color": "rgb(17,17,17)",
              "width": 0.5
             },
             "pattern": {
              "fillmode": "overlay",
              "size": 10,
              "solidity": 0.2
             }
            },
            "type": "bar"
           }
          ],
          "barpolar": [
           {
            "marker": {
             "line": {
              "color": "rgb(17,17,17)",
              "width": 0.5
             },
             "pattern": {
              "fillmode": "overlay",
              "size": 10,
              "solidity": 0.2
             }
            },
            "type": "barpolar"
           }
          ],
          "carpet": [
           {
            "aaxis": {
             "endlinecolor": "#A2B1C6",
             "gridcolor": "#506784",
             "linecolor": "#506784",
             "minorgridcolor": "#506784",
             "startlinecolor": "#A2B1C6"
            },
            "baxis": {
             "endlinecolor": "#A2B1C6",
             "gridcolor": "#506784",
             "linecolor": "#506784",
             "minorgridcolor": "#506784",
             "startlinecolor": "#A2B1C6"
            },
            "type": "carpet"
           }
          ],
          "choropleth": [
           {
            "colorbar": {
             "outlinewidth": 0,
             "ticks": ""
            },
            "type": "choropleth"
           }
          ],
          "contour": [
           {
            "colorbar": {
             "outlinewidth": 0,
             "ticks": ""
            },
            "colorscale": [
             [
              0,
              "#0d0887"
             ],
             [
              0.1111111111111111,
              "#46039f"
             ],
             [
              0.2222222222222222,
              "#7201a8"
             ],
             [
              0.3333333333333333,
              "#9c179e"
             ],
             [
              0.4444444444444444,
              "#bd3786"
             ],
             [
              0.5555555555555556,
              "#d8576b"
             ],
             [
              0.6666666666666666,
              "#ed7953"
             ],
             [
              0.7777777777777778,
              "#fb9f3a"
             ],
             [
              0.8888888888888888,
              "#fdca26"
             ],
             [
              1,
              "#f0f921"
             ]
            ],
            "type": "contour"
           }
          ],
          "contourcarpet": [
           {
            "colorbar": {
             "outlinewidth": 0,
             "ticks": ""
            },
            "type": "contourcarpet"
           }
          ],
          "heatmap": [
           {
            "colorbar": {
             "outlinewidth": 0,
             "ticks": ""
            },
            "colorscale": [
             [
              0,
              "#0d0887"
             ],
             [
              0.1111111111111111,
              "#46039f"
             ],
             [
              0.2222222222222222,
              "#7201a8"
             ],
             [
              0.3333333333333333,
              "#9c179e"
             ],
             [
              0.4444444444444444,
              "#bd3786"
             ],
             [
              0.5555555555555556,
              "#d8576b"
             ],
             [
              0.6666666666666666,
              "#ed7953"
             ],
             [
              0.7777777777777778,
              "#fb9f3a"
             ],
             [
              0.8888888888888888,
              "#fdca26"
             ],
             [
              1,
              "#f0f921"
             ]
            ],
            "type": "heatmap"
           }
          ],
          "heatmapgl": [
           {
            "colorbar": {
             "outlinewidth": 0,
             "ticks": ""
            },
            "colorscale": [
             [
              0,
              "#0d0887"
             ],
             [
              0.1111111111111111,
              "#46039f"
             ],
             [
              0.2222222222222222,
              "#7201a8"
             ],
             [
              0.3333333333333333,
              "#9c179e"
             ],
             [
              0.4444444444444444,
              "#bd3786"
             ],
             [
              0.5555555555555556,
              "#d8576b"
             ],
             [
              0.6666666666666666,
              "#ed7953"
             ],
             [
              0.7777777777777778,
              "#fb9f3a"
             ],
             [
              0.8888888888888888,
              "#fdca26"
             ],
             [
              1,
              "#f0f921"
             ]
            ],
            "type": "heatmapgl"
           }
          ],
          "histogram": [
           {
            "marker": {
             "pattern": {
              "fillmode": "overlay",
              "size": 10,
              "solidity": 0.2
             }
            },
            "type": "histogram"
           }
          ],
          "histogram2d": [
           {
            "colorbar": {
             "outlinewidth": 0,
             "ticks": ""
            },
            "colorscale": [
             [
              0,
              "#0d0887"
             ],
             [
              0.1111111111111111,
              "#46039f"
             ],
             [
              0.2222222222222222,
              "#7201a8"
             ],
             [
              0.3333333333333333,
              "#9c179e"
             ],
             [
              0.4444444444444444,
              "#bd3786"
             ],
             [
              0.5555555555555556,
              "#d8576b"
             ],
             [
              0.6666666666666666,
              "#ed7953"
             ],
             [
              0.7777777777777778,
              "#fb9f3a"
             ],
             [
              0.8888888888888888,
              "#fdca26"
             ],
             [
              1,
              "#f0f921"
             ]
            ],
            "type": "histogram2d"
           }
          ],
          "histogram2dcontour": [
           {
            "colorbar": {
             "outlinewidth": 0,
             "ticks": ""
            },
            "colorscale": [
             [
              0,
              "#0d0887"
             ],
             [
              0.1111111111111111,
              "#46039f"
             ],
             [
              0.2222222222222222,
              "#7201a8"
             ],
             [
              0.3333333333333333,
              "#9c179e"
             ],
             [
              0.4444444444444444,
              "#bd3786"
             ],
             [
              0.5555555555555556,
              "#d8576b"
             ],
             [
              0.6666666666666666,
              "#ed7953"
             ],
             [
              0.7777777777777778,
              "#fb9f3a"
             ],
             [
              0.8888888888888888,
              "#fdca26"
             ],
             [
              1,
              "#f0f921"
             ]
            ],
            "type": "histogram2dcontour"
           }
          ],
          "mesh3d": [
           {
            "colorbar": {
             "outlinewidth": 0,
             "ticks": ""
            },
            "type": "mesh3d"
           }
          ],
          "parcoords": [
           {
            "line": {
             "colorbar": {
              "outlinewidth": 0,
              "ticks": ""
             }
            },
            "type": "parcoords"
           }
          ],
          "pie": [
           {
            "automargin": true,
            "type": "pie"
           }
          ],
          "scatter": [
           {
            "marker": {
             "line": {
              "color": "#283442"
             }
            },
            "type": "scatter"
           }
          ],
          "scatter3d": [
           {
            "line": {
             "colorbar": {
              "outlinewidth": 0,
              "ticks": ""
             }
            },
            "marker": {
             "colorbar": {
              "outlinewidth": 0,
              "ticks": ""
             }
            },
            "type": "scatter3d"
           }
          ],
          "scattercarpet": [
           {
            "marker": {
             "colorbar": {
              "outlinewidth": 0,
              "ticks": ""
             }
            },
            "type": "scattercarpet"
           }
          ],
          "scattergeo": [
           {
            "marker": {
             "colorbar": {
              "outlinewidth": 0,
              "ticks": ""
             }
            },
            "type": "scattergeo"
           }
          ],
          "scattergl": [
           {
            "marker": {
             "line": {
              "color": "#283442"
             }
            },
            "type": "scattergl"
           }
          ],
          "scattermapbox": [
           {
            "marker": {
             "colorbar": {
              "outlinewidth": 0,
              "ticks": ""
             }
            },
            "type": "scattermapbox"
           }
          ],
          "scatterpolar": [
           {
            "marker": {
             "colorbar": {
              "outlinewidth": 0,
              "ticks": ""
             }
            },
            "type": "scatterpolar"
           }
          ],
          "scatterpolargl": [
           {
            "marker": {
             "colorbar": {
              "outlinewidth": 0,
              "ticks": ""
             }
            },
            "type": "scatterpolargl"
           }
          ],
          "scatterternary": [
           {
            "marker": {
             "colorbar": {
              "outlinewidth": 0,
              "ticks": ""
             }
            },
            "type": "scatterternary"
           }
          ],
          "surface": [
           {
            "colorbar": {
             "outlinewidth": 0,
             "ticks": ""
            },
            "colorscale": [
             [
              0,
              "#0d0887"
             ],
             [
              0.1111111111111111,
              "#46039f"
             ],
             [
              0.2222222222222222,
              "#7201a8"
             ],
             [
              0.3333333333333333,
              "#9c179e"
             ],
             [
              0.4444444444444444,
              "#bd3786"
             ],
             [
              0.5555555555555556,
              "#d8576b"
             ],
             [
              0.6666666666666666,
              "#ed7953"
             ],
             [
              0.7777777777777778,
              "#fb9f3a"
             ],
             [
              0.8888888888888888,
              "#fdca26"
             ],
             [
              1,
              "#f0f921"
             ]
            ],
            "type": "surface"
           }
          ],
          "table": [
           {
            "cells": {
             "fill": {
              "color": "#506784"
             },
             "line": {
              "color": "rgb(17,17,17)"
             }
            },
            "header": {
             "fill": {
              "color": "#2a3f5f"
             },
             "line": {
              "color": "rgb(17,17,17)"
             }
            },
            "type": "table"
           }
          ]
         },
         "layout": {
          "annotationdefaults": {
           "arrowcolor": "#f2f5fa",
           "arrowhead": 0,
           "arrowwidth": 1
          },
          "autotypenumbers": "strict",
          "coloraxis": {
           "colorbar": {
            "outlinewidth": 0,
            "ticks": ""
           }
          },
          "colorscale": {
           "diverging": [
            [
             0,
             "#8e0152"
            ],
            [
             0.1,
             "#c51b7d"
            ],
            [
             0.2,
             "#de77ae"
            ],
            [
             0.3,
             "#f1b6da"
            ],
            [
             0.4,
             "#fde0ef"
            ],
            [
             0.5,
             "#f7f7f7"
            ],
            [
             0.6,
             "#e6f5d0"
            ],
            [
             0.7,
             "#b8e186"
            ],
            [
             0.8,
             "#7fbc41"
            ],
            [
             0.9,
             "#4d9221"
            ],
            [
             1,
             "#276419"
            ]
           ],
           "sequential": [
            [
             0,
             "#0d0887"
            ],
            [
             0.1111111111111111,
             "#46039f"
            ],
            [
             0.2222222222222222,
             "#7201a8"
            ],
            [
             0.3333333333333333,
             "#9c179e"
            ],
            [
             0.4444444444444444,
             "#bd3786"
            ],
            [
             0.5555555555555556,
             "#d8576b"
            ],
            [
             0.6666666666666666,
             "#ed7953"
            ],
            [
             0.7777777777777778,
             "#fb9f3a"
            ],
            [
             0.8888888888888888,
             "#fdca26"
            ],
            [
             1,
             "#f0f921"
            ]
           ],
           "sequentialminus": [
            [
             0,
             "#0d0887"
            ],
            [
             0.1111111111111111,
             "#46039f"
            ],
            [
             0.2222222222222222,
             "#7201a8"
            ],
            [
             0.3333333333333333,
             "#9c179e"
            ],
            [
             0.4444444444444444,
             "#bd3786"
            ],
            [
             0.5555555555555556,
             "#d8576b"
            ],
            [
             0.6666666666666666,
             "#ed7953"
            ],
            [
             0.7777777777777778,
             "#fb9f3a"
            ],
            [
             0.8888888888888888,
             "#fdca26"
            ],
            [
             1,
             "#f0f921"
            ]
           ]
          },
          "colorway": [
           "#636efa",
           "#EF553B",
           "#00cc96",
           "#ab63fa",
           "#FFA15A",
           "#19d3f3",
           "#FF6692",
           "#B6E880",
           "#FF97FF",
           "#FECB52"
          ],
          "font": {
           "color": "#f2f5fa"
          },
          "geo": {
           "bgcolor": "rgb(17,17,17)",
           "lakecolor": "rgb(17,17,17)",
           "landcolor": "rgb(17,17,17)",
           "showlakes": true,
           "showland": true,
           "subunitcolor": "#506784"
          },
          "hoverlabel": {
           "align": "left"
          },
          "hovermode": "closest",
          "mapbox": {
           "style": "dark"
          },
          "paper_bgcolor": "rgb(17,17,17)",
          "plot_bgcolor": "rgb(17,17,17)",
          "polar": {
           "angularaxis": {
            "gridcolor": "#506784",
            "linecolor": "#506784",
            "ticks": ""
           },
           "bgcolor": "rgb(17,17,17)",
           "radialaxis": {
            "gridcolor": "#506784",
            "linecolor": "#506784",
            "ticks": ""
           }
          },
          "scene": {
           "xaxis": {
            "backgroundcolor": "rgb(17,17,17)",
            "gridcolor": "#506784",
            "gridwidth": 2,
            "linecolor": "#506784",
            "showbackground": true,
            "ticks": "",
            "zerolinecolor": "#C8D4E3"
           },
           "yaxis": {
            "backgroundcolor": "rgb(17,17,17)",
            "gridcolor": "#506784",
            "gridwidth": 2,
            "linecolor": "#506784",
            "showbackground": true,
            "ticks": "",
            "zerolinecolor": "#C8D4E3"
           },
           "zaxis": {
            "backgroundcolor": "rgb(17,17,17)",
            "gridcolor": "#506784",
            "gridwidth": 2,
            "linecolor": "#506784",
            "showbackground": true,
            "ticks": "",
            "zerolinecolor": "#C8D4E3"
           }
          },
          "shapedefaults": {
           "line": {
            "color": "#f2f5fa"
           }
          },
          "sliderdefaults": {
           "bgcolor": "#C8D4E3",
           "bordercolor": "rgb(17,17,17)",
           "borderwidth": 1,
           "tickwidth": 0
          },
          "ternary": {
           "aaxis": {
            "gridcolor": "#506784",
            "linecolor": "#506784",
            "ticks": ""
           },
           "baxis": {
            "gridcolor": "#506784",
            "linecolor": "#506784",
            "ticks": ""
           },
           "bgcolor": "rgb(17,17,17)",
           "caxis": {
            "gridcolor": "#506784",
            "linecolor": "#506784",
            "ticks": ""
           }
          },
          "title": {
           "x": 0.05
          },
          "updatemenudefaults": {
           "bgcolor": "#506784",
           "borderwidth": 0
          },
          "xaxis": {
           "automargin": true,
           "gridcolor": "#283442",
           "linecolor": "#506784",
           "ticks": "",
           "title": {
            "standoff": 15
           },
           "zerolinecolor": "#283442",
           "zerolinewidth": 2
          },
          "yaxis": {
           "automargin": true,
           "gridcolor": "#283442",
           "linecolor": "#506784",
           "ticks": "",
           "title": {
            "standoff": 15
           },
           "zerolinecolor": "#283442",
           "zerolinewidth": 2
          }
         }
        },
        "title": {
         "text": "F1 score",
         "x": 0.5,
         "xanchor": "center"
        },
        "width": 400,
        "xaxis": {
         "anchor": "y",
         "domain": [
          0,
          1
         ],
         "title": {
          "font": {
           "color": "lightgrey"
          },
          "text": "Moving Averages"
         }
        },
        "yaxis": {
         "anchor": "x",
         "domain": [
          0,
          1
         ],
         "title": {
          "text": ""
         }
        }
       }
      }
     },
     "metadata": {},
     "output_type": "display_data"
    },
    {
     "data": {
      "application/vnd.plotly.v1+json": {
       "config": {
        "plotlyServerURL": "https://plot.ly"
       },
       "data": [
        {
         "error_y": {
          "array": [
           0.002534557771951662,
           0.0011357033932275495,
           0.0014216664436349502,
           0.002567546048793612,
           0.0019954135274896645,
           0.0022323085258431075
          ],
          "arrayminus": [
           0.0022654876722654205,
           0.0018609931617512565,
           0.0014198706575367925,
           0.0020708890970256855,
           0.00108554806411032,
           0.0021239223678811703
          ]
         },
         "hovertemplate": "SC=1<br>MA=%{x}<br>AUC_mean=%{y}<extra></extra>",
         "legendgroup": "1",
         "marker": {
          "color": "#636efa",
          "symbol": "circle"
         },
         "mode": "markers",
         "name": "1",
         "orientation": "v",
         "showlegend": true,
         "type": "scatter",
         "x": [
          1,
          2,
          3,
          4,
          5,
          6
         ],
         "xaxis": "x",
         "y": [
          0.8920803024870804,
          0.9189691917116676,
          0.923205704830078,
          0.9318836734634016,
          0.9459066843746085,
          0.9442134746066871
         ],
         "yaxis": "y"
        },
        {
         "error_y": {
          "array": [
           0.013036030100709195,
           0.009883356063349003,
           0.004922554882135777,
           0.0035614239555881166,
           0.003666595515979254,
           0.006623664413117569
          ],
          "arrayminus": [
           0.01851418223104484,
           0.016868455929896053,
           0.0075603363609181296,
           0.005994028821471709,
           0.005693139453511797,
           0.005293099074831886
          ]
         },
         "hovertemplate": "SC=3<br>MA=%{x}<br>AUC_mean=%{y}<extra></extra>",
         "legendgroup": "3",
         "marker": {
          "color": "#EF553B",
          "symbol": "circle"
         },
         "mode": "markers",
         "name": "3",
         "orientation": "v",
         "showlegend": true,
         "type": "scatter",
         "x": [
          1,
          2,
          3,
          4,
          5,
          6
         ],
         "xaxis": "x",
         "y": [
          0.8666163216375322,
          0.900400033386707,
          0.9108462442199965,
          0.9219374673969618,
          0.9273840611444335,
          0.9265106639450913
         ],
         "yaxis": "y"
        },
        {
         "error_y": {
          "array": [
           0.02772380211119596,
           0.020434641679730747,
           0.021497251013241403,
           0.022332534516325442,
           0.017927361166881983,
           0.012715980646451852
          ],
          "arrayminus": [
           0.020583825509544407,
           0.01860954712651297,
           0.01598086200281157,
           0.014889133281367317,
           0.020580703730174177,
           0.011915839686238439
          ]
         },
         "hovertemplate": "SC=6<br>MA=%{x}<br>AUC_mean=%{y}<extra></extra>",
         "legendgroup": "6",
         "marker": {
          "color": "#00cc96",
          "symbol": "circle"
         },
         "mode": "markers",
         "name": "6",
         "orientation": "v",
         "showlegend": true,
         "type": "scatter",
         "x": [
          1,
          2,
          3,
          4,
          5,
          6
         ],
         "xaxis": "x",
         "y": [
          0.8220376157483815,
          0.8524738915048758,
          0.8652842938750508,
          0.8741386642382153,
          0.8915156630797676,
          0.9008181558997328
         ],
         "yaxis": "y"
        }
       ],
       "layout": {
        "height": 300,
        "legend": {
         "title": {
          "text": "SC"
         },
         "tracegroupgap": 0
        },
        "margin": {
         "b": 50,
         "l": 30,
         "r": 30,
         "t": 50
        },
        "showlegend": false,
        "template": {
         "data": {
          "bar": [
           {
            "error_x": {
             "color": "#f2f5fa"
            },
            "error_y": {
             "color": "#f2f5fa"
            },
            "marker": {
             "line": {
              "color": "rgb(17,17,17)",
              "width": 0.5
             },
             "pattern": {
              "fillmode": "overlay",
              "size": 10,
              "solidity": 0.2
             }
            },
            "type": "bar"
           }
          ],
          "barpolar": [
           {
            "marker": {
             "line": {
              "color": "rgb(17,17,17)",
              "width": 0.5
             },
             "pattern": {
              "fillmode": "overlay",
              "size": 10,
              "solidity": 0.2
             }
            },
            "type": "barpolar"
           }
          ],
          "carpet": [
           {
            "aaxis": {
             "endlinecolor": "#A2B1C6",
             "gridcolor": "#506784",
             "linecolor": "#506784",
             "minorgridcolor": "#506784",
             "startlinecolor": "#A2B1C6"
            },
            "baxis": {
             "endlinecolor": "#A2B1C6",
             "gridcolor": "#506784",
             "linecolor": "#506784",
             "minorgridcolor": "#506784",
             "startlinecolor": "#A2B1C6"
            },
            "type": "carpet"
           }
          ],
          "choropleth": [
           {
            "colorbar": {
             "outlinewidth": 0,
             "ticks": ""
            },
            "type": "choropleth"
           }
          ],
          "contour": [
           {
            "colorbar": {
             "outlinewidth": 0,
             "ticks": ""
            },
            "colorscale": [
             [
              0,
              "#0d0887"
             ],
             [
              0.1111111111111111,
              "#46039f"
             ],
             [
              0.2222222222222222,
              "#7201a8"
             ],
             [
              0.3333333333333333,
              "#9c179e"
             ],
             [
              0.4444444444444444,
              "#bd3786"
             ],
             [
              0.5555555555555556,
              "#d8576b"
             ],
             [
              0.6666666666666666,
              "#ed7953"
             ],
             [
              0.7777777777777778,
              "#fb9f3a"
             ],
             [
              0.8888888888888888,
              "#fdca26"
             ],
             [
              1,
              "#f0f921"
             ]
            ],
            "type": "contour"
           }
          ],
          "contourcarpet": [
           {
            "colorbar": {
             "outlinewidth": 0,
             "ticks": ""
            },
            "type": "contourcarpet"
           }
          ],
          "heatmap": [
           {
            "colorbar": {
             "outlinewidth": 0,
             "ticks": ""
            },
            "colorscale": [
             [
              0,
              "#0d0887"
             ],
             [
              0.1111111111111111,
              "#46039f"
             ],
             [
              0.2222222222222222,
              "#7201a8"
             ],
             [
              0.3333333333333333,
              "#9c179e"
             ],
             [
              0.4444444444444444,
              "#bd3786"
             ],
             [
              0.5555555555555556,
              "#d8576b"
             ],
             [
              0.6666666666666666,
              "#ed7953"
             ],
             [
              0.7777777777777778,
              "#fb9f3a"
             ],
             [
              0.8888888888888888,
              "#fdca26"
             ],
             [
              1,
              "#f0f921"
             ]
            ],
            "type": "heatmap"
           }
          ],
          "heatmapgl": [
           {
            "colorbar": {
             "outlinewidth": 0,
             "ticks": ""
            },
            "colorscale": [
             [
              0,
              "#0d0887"
             ],
             [
              0.1111111111111111,
              "#46039f"
             ],
             [
              0.2222222222222222,
              "#7201a8"
             ],
             [
              0.3333333333333333,
              "#9c179e"
             ],
             [
              0.4444444444444444,
              "#bd3786"
             ],
             [
              0.5555555555555556,
              "#d8576b"
             ],
             [
              0.6666666666666666,
              "#ed7953"
             ],
             [
              0.7777777777777778,
              "#fb9f3a"
             ],
             [
              0.8888888888888888,
              "#fdca26"
             ],
             [
              1,
              "#f0f921"
             ]
            ],
            "type": "heatmapgl"
           }
          ],
          "histogram": [
           {
            "marker": {
             "pattern": {
              "fillmode": "overlay",
              "size": 10,
              "solidity": 0.2
             }
            },
            "type": "histogram"
           }
          ],
          "histogram2d": [
           {
            "colorbar": {
             "outlinewidth": 0,
             "ticks": ""
            },
            "colorscale": [
             [
              0,
              "#0d0887"
             ],
             [
              0.1111111111111111,
              "#46039f"
             ],
             [
              0.2222222222222222,
              "#7201a8"
             ],
             [
              0.3333333333333333,
              "#9c179e"
             ],
             [
              0.4444444444444444,
              "#bd3786"
             ],
             [
              0.5555555555555556,
              "#d8576b"
             ],
             [
              0.6666666666666666,
              "#ed7953"
             ],
             [
              0.7777777777777778,
              "#fb9f3a"
             ],
             [
              0.8888888888888888,
              "#fdca26"
             ],
             [
              1,
              "#f0f921"
             ]
            ],
            "type": "histogram2d"
           }
          ],
          "histogram2dcontour": [
           {
            "colorbar": {
             "outlinewidth": 0,
             "ticks": ""
            },
            "colorscale": [
             [
              0,
              "#0d0887"
             ],
             [
              0.1111111111111111,
              "#46039f"
             ],
             [
              0.2222222222222222,
              "#7201a8"
             ],
             [
              0.3333333333333333,
              "#9c179e"
             ],
             [
              0.4444444444444444,
              "#bd3786"
             ],
             [
              0.5555555555555556,
              "#d8576b"
             ],
             [
              0.6666666666666666,
              "#ed7953"
             ],
             [
              0.7777777777777778,
              "#fb9f3a"
             ],
             [
              0.8888888888888888,
              "#fdca26"
             ],
             [
              1,
              "#f0f921"
             ]
            ],
            "type": "histogram2dcontour"
           }
          ],
          "mesh3d": [
           {
            "colorbar": {
             "outlinewidth": 0,
             "ticks": ""
            },
            "type": "mesh3d"
           }
          ],
          "parcoords": [
           {
            "line": {
             "colorbar": {
              "outlinewidth": 0,
              "ticks": ""
             }
            },
            "type": "parcoords"
           }
          ],
          "pie": [
           {
            "automargin": true,
            "type": "pie"
           }
          ],
          "scatter": [
           {
            "marker": {
             "line": {
              "color": "#283442"
             }
            },
            "type": "scatter"
           }
          ],
          "scatter3d": [
           {
            "line": {
             "colorbar": {
              "outlinewidth": 0,
              "ticks": ""
             }
            },
            "marker": {
             "colorbar": {
              "outlinewidth": 0,
              "ticks": ""
             }
            },
            "type": "scatter3d"
           }
          ],
          "scattercarpet": [
           {
            "marker": {
             "colorbar": {
              "outlinewidth": 0,
              "ticks": ""
             }
            },
            "type": "scattercarpet"
           }
          ],
          "scattergeo": [
           {
            "marker": {
             "colorbar": {
              "outlinewidth": 0,
              "ticks": ""
             }
            },
            "type": "scattergeo"
           }
          ],
          "scattergl": [
           {
            "marker": {
             "line": {
              "color": "#283442"
             }
            },
            "type": "scattergl"
           }
          ],
          "scattermapbox": [
           {
            "marker": {
             "colorbar": {
              "outlinewidth": 0,
              "ticks": ""
             }
            },
            "type": "scattermapbox"
           }
          ],
          "scatterpolar": [
           {
            "marker": {
             "colorbar": {
              "outlinewidth": 0,
              "ticks": ""
             }
            },
            "type": "scatterpolar"
           }
          ],
          "scatterpolargl": [
           {
            "marker": {
             "colorbar": {
              "outlinewidth": 0,
              "ticks": ""
             }
            },
            "type": "scatterpolargl"
           }
          ],
          "scatterternary": [
           {
            "marker": {
             "colorbar": {
              "outlinewidth": 0,
              "ticks": ""
             }
            },
            "type": "scatterternary"
           }
          ],
          "surface": [
           {
            "colorbar": {
             "outlinewidth": 0,
             "ticks": ""
            },
            "colorscale": [
             [
              0,
              "#0d0887"
             ],
             [
              0.1111111111111111,
              "#46039f"
             ],
             [
              0.2222222222222222,
              "#7201a8"
             ],
             [
              0.3333333333333333,
              "#9c179e"
             ],
             [
              0.4444444444444444,
              "#bd3786"
             ],
             [
              0.5555555555555556,
              "#d8576b"
             ],
             [
              0.6666666666666666,
              "#ed7953"
             ],
             [
              0.7777777777777778,
              "#fb9f3a"
             ],
             [
              0.8888888888888888,
              "#fdca26"
             ],
             [
              1,
              "#f0f921"
             ]
            ],
            "type": "surface"
           }
          ],
          "table": [
           {
            "cells": {
             "fill": {
              "color": "#506784"
             },
             "line": {
              "color": "rgb(17,17,17)"
             }
            },
            "header": {
             "fill": {
              "color": "#2a3f5f"
             },
             "line": {
              "color": "rgb(17,17,17)"
             }
            },
            "type": "table"
           }
          ]
         },
         "layout": {
          "annotationdefaults": {
           "arrowcolor": "#f2f5fa",
           "arrowhead": 0,
           "arrowwidth": 1
          },
          "autotypenumbers": "strict",
          "coloraxis": {
           "colorbar": {
            "outlinewidth": 0,
            "ticks": ""
           }
          },
          "colorscale": {
           "diverging": [
            [
             0,
             "#8e0152"
            ],
            [
             0.1,
             "#c51b7d"
            ],
            [
             0.2,
             "#de77ae"
            ],
            [
             0.3,
             "#f1b6da"
            ],
            [
             0.4,
             "#fde0ef"
            ],
            [
             0.5,
             "#f7f7f7"
            ],
            [
             0.6,
             "#e6f5d0"
            ],
            [
             0.7,
             "#b8e186"
            ],
            [
             0.8,
             "#7fbc41"
            ],
            [
             0.9,
             "#4d9221"
            ],
            [
             1,
             "#276419"
            ]
           ],
           "sequential": [
            [
             0,
             "#0d0887"
            ],
            [
             0.1111111111111111,
             "#46039f"
            ],
            [
             0.2222222222222222,
             "#7201a8"
            ],
            [
             0.3333333333333333,
             "#9c179e"
            ],
            [
             0.4444444444444444,
             "#bd3786"
            ],
            [
             0.5555555555555556,
             "#d8576b"
            ],
            [
             0.6666666666666666,
             "#ed7953"
            ],
            [
             0.7777777777777778,
             "#fb9f3a"
            ],
            [
             0.8888888888888888,
             "#fdca26"
            ],
            [
             1,
             "#f0f921"
            ]
           ],
           "sequentialminus": [
            [
             0,
             "#0d0887"
            ],
            [
             0.1111111111111111,
             "#46039f"
            ],
            [
             0.2222222222222222,
             "#7201a8"
            ],
            [
             0.3333333333333333,
             "#9c179e"
            ],
            [
             0.4444444444444444,
             "#bd3786"
            ],
            [
             0.5555555555555556,
             "#d8576b"
            ],
            [
             0.6666666666666666,
             "#ed7953"
            ],
            [
             0.7777777777777778,
             "#fb9f3a"
            ],
            [
             0.8888888888888888,
             "#fdca26"
            ],
            [
             1,
             "#f0f921"
            ]
           ]
          },
          "colorway": [
           "#636efa",
           "#EF553B",
           "#00cc96",
           "#ab63fa",
           "#FFA15A",
           "#19d3f3",
           "#FF6692",
           "#B6E880",
           "#FF97FF",
           "#FECB52"
          ],
          "font": {
           "color": "#f2f5fa"
          },
          "geo": {
           "bgcolor": "rgb(17,17,17)",
           "lakecolor": "rgb(17,17,17)",
           "landcolor": "rgb(17,17,17)",
           "showlakes": true,
           "showland": true,
           "subunitcolor": "#506784"
          },
          "hoverlabel": {
           "align": "left"
          },
          "hovermode": "closest",
          "mapbox": {
           "style": "dark"
          },
          "paper_bgcolor": "rgb(17,17,17)",
          "plot_bgcolor": "rgb(17,17,17)",
          "polar": {
           "angularaxis": {
            "gridcolor": "#506784",
            "linecolor": "#506784",
            "ticks": ""
           },
           "bgcolor": "rgb(17,17,17)",
           "radialaxis": {
            "gridcolor": "#506784",
            "linecolor": "#506784",
            "ticks": ""
           }
          },
          "scene": {
           "xaxis": {
            "backgroundcolor": "rgb(17,17,17)",
            "gridcolor": "#506784",
            "gridwidth": 2,
            "linecolor": "#506784",
            "showbackground": true,
            "ticks": "",
            "zerolinecolor": "#C8D4E3"
           },
           "yaxis": {
            "backgroundcolor": "rgb(17,17,17)",
            "gridcolor": "#506784",
            "gridwidth": 2,
            "linecolor": "#506784",
            "showbackground": true,
            "ticks": "",
            "zerolinecolor": "#C8D4E3"
           },
           "zaxis": {
            "backgroundcolor": "rgb(17,17,17)",
            "gridcolor": "#506784",
            "gridwidth": 2,
            "linecolor": "#506784",
            "showbackground": true,
            "ticks": "",
            "zerolinecolor": "#C8D4E3"
           }
          },
          "shapedefaults": {
           "line": {
            "color": "#f2f5fa"
           }
          },
          "sliderdefaults": {
           "bgcolor": "#C8D4E3",
           "bordercolor": "rgb(17,17,17)",
           "borderwidth": 1,
           "tickwidth": 0
          },
          "ternary": {
           "aaxis": {
            "gridcolor": "#506784",
            "linecolor": "#506784",
            "ticks": ""
           },
           "baxis": {
            "gridcolor": "#506784",
            "linecolor": "#506784",
            "ticks": ""
           },
           "bgcolor": "rgb(17,17,17)",
           "caxis": {
            "gridcolor": "#506784",
            "linecolor": "#506784",
            "ticks": ""
           }
          },
          "title": {
           "x": 0.05
          },
          "updatemenudefaults": {
           "bgcolor": "#506784",
           "borderwidth": 0
          },
          "xaxis": {
           "automargin": true,
           "gridcolor": "#283442",
           "linecolor": "#506784",
           "ticks": "",
           "title": {
            "standoff": 15
           },
           "zerolinecolor": "#283442",
           "zerolinewidth": 2
          },
          "yaxis": {
           "automargin": true,
           "gridcolor": "#283442",
           "linecolor": "#506784",
           "ticks": "",
           "title": {
            "standoff": 15
           },
           "zerolinecolor": "#283442",
           "zerolinewidth": 2
          }
         }
        },
        "title": {
         "text": "Area Under ROC Curve",
         "x": 0.5,
         "xanchor": "center"
        },
        "width": 400,
        "xaxis": {
         "anchor": "y",
         "domain": [
          0,
          1
         ],
         "title": {
          "font": {
           "color": "lightgrey"
          },
          "text": "Moving Averages"
         }
        },
        "yaxis": {
         "anchor": "x",
         "domain": [
          0,
          1
         ],
         "title": {
          "text": ""
         }
        }
       }
      }
     },
     "metadata": {},
     "output_type": "display_data"
    },
    {
     "data": {
      "application/vnd.plotly.v1+json": {
       "config": {
        "plotlyServerURL": "https://plot.ly"
       },
       "data": [
        {
         "alignmentgroup": "True",
         "boxpoints": "all",
         "fillcolor": "rgba(255,255,255,0)",
         "hoveron": "points",
         "hovertemplate": "sc=1<br>theta=%{x}<br>diff=%{y}<extra></extra>",
         "legendgroup": "1",
         "line": {
          "color": "rgba(255,255,255,0)"
         },
         "marker": {
          "color": "#636efa",
          "opacity": 0.5,
          "size": 5
         },
         "name": "1",
         "offsetgroup": "1",
         "orientation": "v",
         "pointpos": 0,
         "showlegend": true,
         "type": "box",
         "x": [
          "CSENT",
          "IPM",
          "HOUSE",
          "UNEMP",
          "LRIR",
          "CSENT",
          "IPM",
          "HOUSE",
          "UNEMP",
          "LRIR",
          "CSENT",
          "IPM",
          "HOUSE",
          "UNEMP",
          "LRIR",
          "CSENT",
          "IPM",
          "HOUSE",
          "UNEMP",
          "LRIR",
          "CSENT",
          "IPM",
          "HOUSE",
          "UNEMP",
          "LRIR",
          "CSENT",
          "IPM",
          "HOUSE",
          "UNEMP",
          "LRIR",
          "CSENT",
          "IPM",
          "HOUSE",
          "UNEMP",
          "LRIR",
          "CSENT",
          "IPM",
          "HOUSE",
          "UNEMP",
          "LRIR",
          "CSENT",
          "IPM",
          "HOUSE",
          "UNEMP",
          "LRIR",
          "CSENT",
          "IPM",
          "HOUSE",
          "UNEMP",
          "LRIR",
          "CSENT",
          "IPM",
          "HOUSE",
          "UNEMP",
          "LRIR",
          "CSENT",
          "IPM",
          "HOUSE",
          "UNEMP",
          "LRIR",
          "CSENT",
          "IPM",
          "HOUSE",
          "UNEMP",
          "LRIR",
          "CSENT",
          "IPM",
          "HOUSE",
          "UNEMP",
          "LRIR",
          "CSENT",
          "IPM",
          "HOUSE",
          "UNEMP",
          "LRIR",
          "CSENT",
          "IPM",
          "HOUSE",
          "UNEMP",
          "LRIR",
          "CSENT",
          "IPM",
          "HOUSE",
          "UNEMP",
          "LRIR",
          "CSENT",
          "IPM",
          "HOUSE",
          "UNEMP",
          "LRIR",
          "CSENT",
          "IPM",
          "HOUSE",
          "UNEMP",
          "LRIR",
          "CSENT",
          "IPM",
          "HOUSE",
          "UNEMP",
          "LRIR",
          "CSENT",
          "IPM",
          "HOUSE",
          "UNEMP",
          "LRIR",
          "CSENT",
          "IPM",
          "HOUSE",
          "UNEMP",
          "LRIR",
          "CSENT",
          "IPM",
          "HOUSE",
          "UNEMP",
          "LRIR",
          "CSENT",
          "IPM",
          "HOUSE",
          "UNEMP",
          "LRIR",
          "CSENT",
          "IPM",
          "HOUSE",
          "UNEMP",
          "LRIR",
          "CSENT",
          "IPM",
          "HOUSE",
          "UNEMP",
          "LRIR",
          "CSENT",
          "IPM",
          "HOUSE",
          "UNEMP",
          "LRIR",
          "CSENT",
          "IPM",
          "HOUSE",
          "UNEMP",
          "LRIR",
          "CSENT",
          "IPM",
          "HOUSE",
          "UNEMP",
          "LRIR",
          "CSENT",
          "IPM",
          "HOUSE",
          "UNEMP",
          "LRIR",
          "CSENT",
          "IPM",
          "HOUSE",
          "UNEMP",
          "LRIR",
          "CSENT",
          "IPM",
          "HOUSE",
          "UNEMP",
          "LRIR",
          "CSENT",
          "IPM",
          "HOUSE",
          "UNEMP",
          "LRIR",
          "CSENT",
          "IPM",
          "HOUSE",
          "UNEMP",
          "LRIR",
          "CSENT",
          "IPM",
          "HOUSE",
          "UNEMP",
          "LRIR",
          "CSENT",
          "IPM",
          "HOUSE",
          "UNEMP",
          "LRIR"
         ],
         "x0": " ",
         "xaxis": "x",
         "y": [
          0.06730769230769229,
          0.0625,
          0.06971153846153844,
          0.06971153846153844,
          0.06730769230769229,
          0.06987951807228909,
          0.07469879518072287,
          0.06987951807228909,
          0.07469879518072287,
          0.07228915662650603,
          0.0748792270531401,
          0.07971014492753625,
          0.07004830917874405,
          0.0748792270531401,
          0.07729468599033817,
          0.06295399515738498,
          0.07021791767554475,
          0.07263922518159804,
          0.07263922518159804,
          0.06779661016949146,
          0.07038834951456308,
          0.07038834951456308,
          0.07038834951456308,
          0.07281553398058249,
          0.06796116504854366,
          0.07055961070559613,
          0.07055961070559613,
          0.07542579075425793,
          0.07542579075425793,
          0.07299270072992703,
          0.05314009661835739,
          0.05555555555555547,
          0.050724637681159424,
          0.05555555555555547,
          0.05314009661835739,
          0.053268765133171914,
          0.05084745762711862,
          0.05084745762711862,
          0.0556900726392251,
          0.0556900726392251,
          0.05339805825242716,
          0.05582524271844658,
          0.05582524271844658,
          0.05339805825242716,
          0.050970873786407744,
          0.051094890510948954,
          0.05596107055961075,
          0.051094890510948954,
          0.05352798053527985,
          0.05352798053527985,
          0.051219512195122,
          0.056097560975609806,
          0.0536585365853659,
          0.056097560975609806,
          0.0536585365853659,
          0.05623471882640585,
          0.05867970660146693,
          0.05867970660146693,
          0.05867970660146693,
          0.05623471882640585,
          0.04842615012106544,
          0.053268765133171914,
          0.04600484261501214,
          0.053268765133171914,
          0.04842615012106544,
          0.04611650485436891,
          0.04854368932038833,
          0.04611650485436891,
          0.05339805825242716,
          0.050970873786407744,
          0.048661800486618056,
          0.04622871046228716,
          0.048661800486618056,
          0.051094890510948954,
          0.048661800486618056,
          0.04634146341463419,
          0.04878048780487809,
          0.051219512195122,
          0.04634146341463419,
          0.04634146341463419,
          0.041564792176039145,
          0.0488997555012225,
          0.04645476772616142,
          0.04645476772616142,
          0.04645476772616142,
          0.04166666666666674,
          0.04656862745098045,
          0.04656862745098045,
          0.05392156862745101,
          0.04656862745098045,
          0.03883495145631066,
          0.03883495145631066,
          0.04126213592233008,
          0.04611650485436891,
          0.036407766990291246,
          0.04379562043795626,
          0.04379562043795626,
          0.03892944038929447,
          0.048661800486618056,
          0.041362530413625365,
          0.03658536585365857,
          0.034146341463414664,
          0.03170731707317076,
          0.04634146341463419,
          0.039024390243902474,
          0.044009779951100225,
          0.044009779951100225,
          0.04645476772616142,
          0.044009779951100225,
          0.044009779951100225,
          0.03676470588235303,
          0.044117647058823595,
          0.04166666666666674,
          0.04166666666666674,
          0.04166666666666674,
          0.03685503685503677,
          0.04422604422604415,
          0.041769041769041726,
          0.04668304668304668,
          0.04422604422604415,
          0.031630170316301665,
          0.03649635036496346,
          0.031630170316301665,
          0.038929440389294356,
          0.03649635036496346,
          0.03170731707317076,
          0.034146341463414664,
          0.03170731707317076,
          0.03658536585365857,
          0.029268292682926855,
          0.03422982885085579,
          0.03667481662591687,
          0.0317848410757946,
          0.03667481662591687,
          0.03667481662591687,
          0.031862745098039214,
          0.031862745098039214,
          0.02941176470588236,
          0.03431372549019607,
          0.02941176470588236,
          0.03439803439803435,
          0.039312039312039304,
          0.03439803439803435,
          0.03685503685503677,
          0.03685503685503677,
          0.029556650246305383,
          0.03448275862068961,
          0.03201970443349744,
          0.03694581280788167,
          0.03201970443349744,
          0.03658536585365857,
          0.039024390243902474,
          0.03658536585365857,
          0.039024390243902474,
          0.03658536585365857,
          0.03422982885085579,
          0.039119804400978064,
          0.03422982885085579,
          0.039119804400978064,
          0.03422982885085579,
          0.031862745098039214,
          0.03431372549019607,
          0.031862745098039214,
          0.03676470588235292,
          0.031862745098039214,
          0.03194103194103193,
          0.03194103194103193,
          0.027027027027027084,
          0.03439803439803446,
          0.03194103194103193,
          0.03201970443349744,
          0.03448275862068961,
          0.03201970443349744,
          0.03448275862068961,
          0.029556650246305383,
          0.032098765432098775,
          0.03950617283950619,
          0.03456790123456788,
          0.03703703703703698,
          0.03703703703703698
         ],
         "y0": " ",
         "yaxis": "y"
        },
        {
         "alignmentgroup": "True",
         "boxpoints": "all",
         "fillcolor": "rgba(255,255,255,0)",
         "hoveron": "points",
         "hovertemplate": "sc=1<br>theta=%{x}<br>diff=%{y}<extra></extra>",
         "legendgroup": "1",
         "line": {
          "color": "rgba(255,255,255,0)"
         },
         "marker": {
          "color": "#636efa",
          "opacity": 0.5,
          "size": 5
         },
         "name": "1",
         "offsetgroup": "1",
         "orientation": "v",
         "pointpos": 0,
         "showlegend": false,
         "type": "box",
         "x": [
          "CSENT",
          "IPM",
          "HOUSE",
          "UNEMP",
          "LRIR",
          "CSENT",
          "IPM",
          "HOUSE",
          "UNEMP",
          "LRIR",
          "CSENT",
          "IPM",
          "HOUSE",
          "UNEMP",
          "LRIR",
          "CSENT",
          "IPM",
          "HOUSE",
          "UNEMP",
          "LRIR",
          "CSENT",
          "IPM",
          "HOUSE",
          "UNEMP",
          "LRIR",
          "CSENT",
          "IPM",
          "HOUSE",
          "UNEMP",
          "LRIR",
          "CSENT",
          "IPM",
          "HOUSE",
          "UNEMP",
          "LRIR",
          "CSENT",
          "IPM",
          "HOUSE",
          "UNEMP",
          "LRIR",
          "CSENT",
          "IPM",
          "HOUSE",
          "UNEMP",
          "LRIR",
          "CSENT",
          "IPM",
          "HOUSE",
          "UNEMP",
          "LRIR",
          "CSENT",
          "IPM",
          "HOUSE",
          "UNEMP",
          "LRIR",
          "CSENT",
          "IPM",
          "HOUSE",
          "UNEMP",
          "LRIR",
          "CSENT",
          "IPM",
          "HOUSE",
          "UNEMP",
          "LRIR",
          "CSENT",
          "IPM",
          "HOUSE",
          "UNEMP",
          "LRIR",
          "CSENT",
          "IPM",
          "HOUSE",
          "UNEMP",
          "LRIR",
          "CSENT",
          "IPM",
          "HOUSE",
          "UNEMP",
          "LRIR",
          "CSENT",
          "IPM",
          "HOUSE",
          "UNEMP",
          "LRIR",
          "CSENT",
          "IPM",
          "HOUSE",
          "UNEMP",
          "LRIR",
          "CSENT",
          "IPM",
          "HOUSE",
          "UNEMP",
          "LRIR",
          "CSENT",
          "IPM",
          "HOUSE",
          "UNEMP",
          "LRIR",
          "CSENT",
          "IPM",
          "HOUSE",
          "UNEMP",
          "LRIR",
          "CSENT",
          "IPM",
          "HOUSE",
          "UNEMP",
          "LRIR",
          "CSENT",
          "IPM",
          "HOUSE",
          "UNEMP",
          "LRIR",
          "CSENT",
          "IPM",
          "HOUSE",
          "UNEMP",
          "LRIR",
          "CSENT",
          "IPM",
          "HOUSE",
          "UNEMP",
          "LRIR",
          "CSENT",
          "IPM",
          "HOUSE",
          "UNEMP",
          "LRIR",
          "CSENT",
          "IPM",
          "HOUSE",
          "UNEMP",
          "LRIR",
          "CSENT",
          "IPM",
          "HOUSE",
          "UNEMP",
          "LRIR",
          "CSENT",
          "IPM",
          "HOUSE",
          "UNEMP",
          "LRIR",
          "CSENT",
          "IPM",
          "HOUSE",
          "UNEMP",
          "LRIR",
          "CSENT",
          "IPM",
          "HOUSE",
          "UNEMP",
          "LRIR",
          "CSENT",
          "IPM",
          "HOUSE",
          "UNEMP",
          "LRIR",
          "CSENT",
          "IPM",
          "HOUSE",
          "UNEMP",
          "LRIR",
          "CSENT",
          "IPM",
          "HOUSE",
          "UNEMP",
          "LRIR",
          "CSENT",
          "IPM",
          "HOUSE",
          "UNEMP",
          "LRIR",
          "CSENT",
          "IPM",
          "HOUSE",
          "UNEMP",
          "LRIR"
         ],
         "x0": " ",
         "xaxis": "x2",
         "y": [
          0.04320987654320996,
          0.04009479035278829,
          0.04476021990146295,
          0.04476021990146295,
          0.04320987654320996,
          0.04504309307140453,
          0.04815824589361317,
          0.04504309307140453,
          0.04815824589361317,
          0.04660308059150431,
          0.04839100396313989,
          0.051506208855165325,
          0.04525638969484025,
          0.04839100396313989,
          0.04995102129666584,
          0.04052744269395181,
          0.045251529687355685,
          0.04681642942234021,
          0.04681642942234021,
          0.043681747269890825,
          0.0453931924882629,
          0.0453931924882629,
          0.0453931924882629,
          0.04696300528077457,
          0.04381846635367759,
          0.045609825933276005,
          0.045609825933276005,
          0.048764283816104204,
          0.048764283816104204,
          0.04718952702036627,
          0.034132489845800085,
          0.0356876256101063,
          0.03257253941968463,
          0.0356876256101063,
          0.034132489845800085,
          0.034122904760193196,
          0.03256773945808433,
          0.03256773945808433,
          0.035673270169394256,
          0.035673270169394256,
          0.034287262243377636,
          0.03584727957690359,
          0.03584727957690359,
          0.034287262243377636,
          0.03272239260088272,
          0.03277103046738694,
          0.03589597000029077,
          0.03277103046738694,
          0.03433593020237147,
          0.03433593020237147,
          0.03287363067292659,
          0.03600836587541867,
          0.03444344346543826,
          0.03600836587541867,
          0.03444344346543826,
          0.03618566746390306,
          0.037755503144654146,
          0.037755503144654146,
          0.037755503144654146,
          0.03618566746390306,
          0.03041355807313262,
          0.033453016097484856,
          0.02888691071947458,
          0.033453016097484856,
          0.03041355807313262,
          0.028975015777555013,
          0.0305063384980353,
          0.028975015777555013,
          0.03355506282335541,
          0.03203301380510004,
          0.030548293771131885,
          0.02901694284118428,
          0.030548293771131885,
          0.03207499013898241,
          0.030548293771131885,
          0.029105844116311008,
          0.03064189939562567,
          0.0321732715795765,
          0.029105844116311008,
          0.029105844116311008,
          0.02606183973688425,
          0.0306842273128084,
          0.029148150583902632,
          0.029148150583902632,
          0.029148150583902632,
          0.026141993599620772,
          0.029237858915278303,
          0.029237858915278303,
          0.03384615384615386,
          0.029237858915278303,
          0.02442748091603053,
          0.02442748091603053,
          0.025963507726680435,
          0.029021555024478563,
          0.022886756775684525,
          0.0276261233372731,
          0.0276261233372731,
          0.024539877300613466,
          0.030693550800538594,
          0.026085363447608367,
          0.022961508469639957,
          0.021415986243333962,
          0.01986570856402403,
          0.029096477794793296,
          0.024502297090352343,
          0.02779677113010459,
          0.02779677113010459,
          0.0293423223530751,
          0.02779677113010459,
          0.02779677113010459,
          0.023136222260385142,
          0.027787274453941135,
          0.02624170138294435,
          0.02624170138294435,
          0.02624170138294435,
          0.02320781433748531,
          0.027873332568895015,
          0.026322967159693955,
          0.029418920272674787,
          0.027873332568895015,
          0.01967631209693277,
          0.02270655997666926,
          0.01967631209693277,
          0.024214848770944042,
          0.02270655997666926,
          0.019703846330170083,
          0.021221276206170425,
          0.019703846330170083,
          0.022734128616481497,
          0.018181818181818188,
          0.02132283821019343,
          0.022844887228448796,
          0.01979616290312869,
          0.022844887228448796,
          0.022844887228448796,
          0.019791536550498923,
          0.019791536550498923,
          0.0182648401826484,
          0.02131359954545753,
          0.0182648401826484,
          0.02145353798674343,
          0.024511620643278498,
          0.02145353798674343,
          0.02298491017069426,
          0.02298491017069426,
          0.018404907975460127,
          0.02148177332507828,
          0.019945696596172513,
          0.02301315974336149,
          0.019945696596172513,
          0.02261068261050203,
          0.02411442175889178,
          0.02261068261050203,
          0.02411442175889178,
          0.02261068261050203,
          0.02112974744553686,
          0.024141775266213084,
          0.02112974744553686,
          0.024141775266213084,
          0.02112974744553686,
          0.019644297412201972,
          0.02115713609725911,
          0.019644297412201972,
          0.022665424891533892,
          0.019644297412201972,
          0.01967174152501705,
          0.01967174152501705,
          0.016632283500664813,
          0.021184593935328122,
          0.01967174152501705,
          0.019763757373933988,
          0.021285806392189355,
          0.019763757373933988,
          0.021285806392189355,
          0.018237082066869248,
          0.019856637497672858,
          0.02443674779042959,
          0.021387988427620463,
          0.022914684795470985,
          0.022914684795470985
         ],
         "y0": " ",
         "yaxis": "y2"
        },
        {
         "alignmentgroup": "True",
         "boxpoints": "all",
         "fillcolor": "rgba(255,255,255,0)",
         "hoveron": "points",
         "hovertemplate": "sc=3<br>theta=%{x}<br>diff=%{y}<extra></extra>",
         "legendgroup": "3",
         "line": {
          "color": "rgba(255,255,255,0)"
         },
         "marker": {
          "color": "#EF553B",
          "opacity": 0.5,
          "size": 5
         },
         "name": "3",
         "offsetgroup": "3",
         "orientation": "v",
         "pointpos": 0,
         "showlegend": true,
         "type": "box",
         "x": [
          "CSENT",
          "IPM",
          "HOUSE",
          "UNEMP",
          "LRIR",
          "CSENT",
          "IPM",
          "HOUSE",
          "UNEMP",
          "LRIR",
          "CSENT",
          "IPM",
          "HOUSE",
          "UNEMP",
          "LRIR",
          "CSENT",
          "IPM",
          "HOUSE",
          "UNEMP",
          "LRIR",
          "CSENT",
          "IPM",
          "HOUSE",
          "UNEMP",
          "LRIR",
          "CSENT",
          "IPM",
          "HOUSE",
          "UNEMP",
          "LRIR",
          "CSENT",
          "IPM",
          "HOUSE",
          "UNEMP",
          "LRIR",
          "CSENT",
          "IPM",
          "HOUSE",
          "UNEMP",
          "LRIR",
          "CSENT",
          "IPM",
          "HOUSE",
          "UNEMP",
          "LRIR",
          "CSENT",
          "IPM",
          "HOUSE",
          "UNEMP",
          "LRIR",
          "CSENT",
          "IPM",
          "HOUSE",
          "UNEMP",
          "LRIR",
          "CSENT",
          "IPM",
          "HOUSE",
          "UNEMP",
          "LRIR",
          "CSENT",
          "IPM",
          "HOUSE",
          "UNEMP",
          "LRIR",
          "CSENT",
          "IPM",
          "HOUSE",
          "UNEMP",
          "LRIR",
          "CSENT",
          "IPM",
          "HOUSE",
          "UNEMP",
          "LRIR",
          "CSENT",
          "IPM",
          "HOUSE",
          "UNEMP",
          "LRIR",
          "CSENT",
          "IPM",
          "HOUSE",
          "UNEMP",
          "LRIR",
          "CSENT",
          "IPM",
          "HOUSE",
          "UNEMP",
          "LRIR",
          "CSENT",
          "IPM",
          "HOUSE",
          "UNEMP",
          "LRIR",
          "CSENT",
          "IPM",
          "HOUSE",
          "UNEMP",
          "LRIR",
          "CSENT",
          "IPM",
          "HOUSE",
          "UNEMP",
          "LRIR",
          "CSENT",
          "IPM",
          "HOUSE",
          "UNEMP",
          "LRIR",
          "CSENT",
          "IPM",
          "HOUSE",
          "UNEMP",
          "LRIR",
          "CSENT",
          "IPM",
          "HOUSE",
          "UNEMP",
          "LRIR",
          "CSENT",
          "IPM",
          "HOUSE",
          "UNEMP",
          "LRIR",
          "CSENT",
          "IPM",
          "HOUSE",
          "UNEMP",
          "LRIR",
          "CSENT",
          "IPM",
          "HOUSE",
          "UNEMP",
          "LRIR",
          "CSENT",
          "IPM",
          "HOUSE",
          "UNEMP",
          "LRIR",
          "CSENT",
          "IPM",
          "HOUSE",
          "UNEMP",
          "LRIR",
          "CSENT",
          "IPM",
          "HOUSE",
          "UNEMP",
          "LRIR",
          "CSENT",
          "IPM",
          "HOUSE",
          "UNEMP",
          "LRIR",
          "CSENT",
          "IPM",
          "HOUSE",
          "UNEMP",
          "LRIR",
          "CSENT",
          "IPM",
          "HOUSE",
          "UNEMP",
          "LRIR",
          "CSENT",
          "IPM",
          "HOUSE",
          "UNEMP",
          "LRIR",
          "CSENT",
          "IPM",
          "HOUSE",
          "UNEMP",
          "LRIR",
          "CSENT",
          "IPM",
          "HOUSE",
          "UNEMP",
          "LRIR"
         ],
         "x0": " ",
         "xaxis": "x",
         "y": [
          0.04807692307692313,
          0.04807692307692313,
          0.04567307692307698,
          0.04807692307692313,
          0.050480769230769273,
          0.04578313253012045,
          0.053012048192771055,
          0.04578313253012045,
          0.04578313253012045,
          0.04578313253012045,
          0.050724637681159424,
          0.060386473429951626,
          0.05555555555555558,
          0.060386473429951626,
          0.060386473429951626,
          0.05811138014527839,
          0.07021791767554475,
          0.06779661016949146,
          0.06295399515738498,
          0.05084745762711862,
          0.05339805825242727,
          0.06067961165048552,
          0.06067961165048552,
          0.058252427184466105,
          0.050970873786407855,
          0.048661800486617945,
          0.05352798053527974,
          0.05596107055961064,
          0.05352798053527974,
          0.04379562043795615,
          0.033816425120772986,
          0.036231884057971064,
          0.036231884057971064,
          0.0434782608695653,
          0.03140096618357491,
          0.03389830508474578,
          0.03874092009685226,
          0.03147699757869249,
          0.041162227602905554,
          0.029055690072639195,
          0.036407766990291246,
          0.03883495145631066,
          0.03398058252427183,
          0.03398058252427183,
          0.036407766990291246,
          0.04622871046228705,
          0.04622871046228705,
          0.04379562043795615,
          0.041362530413625254,
          0.041362530413625254,
          0.04146341463414627,
          0.04390243902439017,
          0.04390243902439017,
          0.04390243902439017,
          0.03170731707317076,
          0.044009779951100225,
          0.05134474327628358,
          0.046454767726161306,
          0.046454767726161306,
          0.03667481662591687,
          0.021791767554479424,
          0.03874092009685237,
          0.03389830508474578,
          0.04842615012106544,
          0.03631961259079908,
          0.03155339805825241,
          0.03155339805825241,
          0.03398058252427183,
          0.03883495145631066,
          0.03155339805825241,
          0.029197080291970767,
          0.03406326034063267,
          0.024330900243308973,
          0.04622871046228716,
          0.02676399026763987,
          0.03170731707317065,
          0.03902439024390236,
          0.03414634146341455,
          0.03414634146341455,
          0.03658536585365846,
          0.03911980440097795,
          0.044009779951100225,
          0.044009779951100225,
          0.041564792176039034,
          0.0317848410757946,
          0.02450980392156865,
          0.026960784313725505,
          0.03676470588235303,
          0.03921568627450989,
          0.01715686274509809,
          0.014563106796116498,
          0.02669902912621358,
          0.03155339805825241,
          0.04126213592233008,
          0.024271844660194164,
          0.021897810218978186,
          0.024330900243309084,
          0.021897810218978186,
          0.02919708029197088,
          0.02676399026763998,
          0.024390243902438935,
          0.024390243902438935,
          0.019512195121951126,
          0.03414634146341455,
          0.029268292682926744,
          0.02444987775061125,
          0.02444987775061125,
          0.02444987775061125,
          0.03667481662591687,
          0.02933985330073352,
          0.03676470588235292,
          0.03431372549019607,
          0.03676470588235292,
          0.03431372549019607,
          0.03676470588235292,
          0.029484029484029506,
          0.03194103194103193,
          0.03685503685503688,
          0.03685503685503688,
          0.029484029484029506,
          0.02676399026763998,
          0.031630170316301776,
          0.031630170316301776,
          0.041362530413625365,
          0.03406326034063267,
          0.02195121951219514,
          0.029268292682926855,
          0.03170731707317076,
          0.03658536585365857,
          0.034146341463414664,
          0.022004889975550168,
          0.022004889975550168,
          0.02689486552567244,
          0.03178484107579471,
          0.02689486552567244,
          0.026960784313725505,
          0.026960784313725505,
          0.022058823529411797,
          0.03431372549019607,
          0.02941176470588236,
          0.027027027027027084,
          0.03439803439803446,
          0.03439803439803446,
          0.03439803439803446,
          0.03194103194103204,
          0.029556650246305494,
          0.029556650246305494,
          0.034482758620689724,
          0.036945812807881784,
          0.03201970443349755,
          0.019512195121951237,
          0.029268292682926855,
          0.029268292682926855,
          0.03658536585365857,
          0.024390243902439046,
          0.02689486552567233,
          0.03422982885085579,
          0.03422982885085579,
          0.041564792176039145,
          0.03667481662591687,
          0.022058823529411797,
          0.02941176470588236,
          0.02450980392156865,
          0.031862745098039214,
          0.02941176470588236,
          0.02457002457002455,
          0.029484029484029506,
          0.02457002457002455,
          0.03439803439803446,
          0.029484029484029506,
          0.027093596059113323,
          0.027093596059113323,
          0.027093596059113323,
          0.029556650246305494,
          0.029556650246305494,
          0.02716049382716046,
          0.022222222222222254,
          0.032098765432098775,
          0.029629629629629672,
          0.029629629629629672
         ],
         "y0": " ",
         "yaxis": "y"
        },
        {
         "alignmentgroup": "True",
         "boxpoints": "all",
         "fillcolor": "rgba(255,255,255,0)",
         "hoveron": "points",
         "hovertemplate": "sc=3<br>theta=%{x}<br>diff=%{y}<extra></extra>",
         "legendgroup": "3",
         "line": {
          "color": "rgba(255,255,255,0)"
         },
         "marker": {
          "color": "#EF553B",
          "opacity": 0.5,
          "size": 5
         },
         "name": "3",
         "offsetgroup": "3",
         "orientation": "v",
         "pointpos": 0,
         "showlegend": false,
         "type": "box",
         "x": [
          "CSENT",
          "IPM",
          "HOUSE",
          "UNEMP",
          "LRIR",
          "CSENT",
          "IPM",
          "HOUSE",
          "UNEMP",
          "LRIR",
          "CSENT",
          "IPM",
          "HOUSE",
          "UNEMP",
          "LRIR",
          "CSENT",
          "IPM",
          "HOUSE",
          "UNEMP",
          "LRIR",
          "CSENT",
          "IPM",
          "HOUSE",
          "UNEMP",
          "LRIR",
          "CSENT",
          "IPM",
          "HOUSE",
          "UNEMP",
          "LRIR",
          "CSENT",
          "IPM",
          "HOUSE",
          "UNEMP",
          "LRIR",
          "CSENT",
          "IPM",
          "HOUSE",
          "UNEMP",
          "LRIR",
          "CSENT",
          "IPM",
          "HOUSE",
          "UNEMP",
          "LRIR",
          "CSENT",
          "IPM",
          "HOUSE",
          "UNEMP",
          "LRIR",
          "CSENT",
          "IPM",
          "HOUSE",
          "UNEMP",
          "LRIR",
          "CSENT",
          "IPM",
          "HOUSE",
          "UNEMP",
          "LRIR",
          "CSENT",
          "IPM",
          "HOUSE",
          "UNEMP",
          "LRIR",
          "CSENT",
          "IPM",
          "HOUSE",
          "UNEMP",
          "LRIR",
          "CSENT",
          "IPM",
          "HOUSE",
          "UNEMP",
          "LRIR",
          "CSENT",
          "IPM",
          "HOUSE",
          "UNEMP",
          "LRIR",
          "CSENT",
          "IPM",
          "HOUSE",
          "UNEMP",
          "LRIR",
          "CSENT",
          "IPM",
          "HOUSE",
          "UNEMP",
          "LRIR",
          "CSENT",
          "IPM",
          "HOUSE",
          "UNEMP",
          "LRIR",
          "CSENT",
          "IPM",
          "HOUSE",
          "UNEMP",
          "LRIR",
          "CSENT",
          "IPM",
          "HOUSE",
          "UNEMP",
          "LRIR",
          "CSENT",
          "IPM",
          "HOUSE",
          "UNEMP",
          "LRIR",
          "CSENT",
          "IPM",
          "HOUSE",
          "UNEMP",
          "LRIR",
          "CSENT",
          "IPM",
          "HOUSE",
          "UNEMP",
          "LRIR",
          "CSENT",
          "IPM",
          "HOUSE",
          "UNEMP",
          "LRIR",
          "CSENT",
          "IPM",
          "HOUSE",
          "UNEMP",
          "LRIR",
          "CSENT",
          "IPM",
          "HOUSE",
          "UNEMP",
          "LRIR",
          "CSENT",
          "IPM",
          "HOUSE",
          "UNEMP",
          "LRIR",
          "CSENT",
          "IPM",
          "HOUSE",
          "UNEMP",
          "LRIR",
          "CSENT",
          "IPM",
          "HOUSE",
          "UNEMP",
          "LRIR",
          "CSENT",
          "IPM",
          "HOUSE",
          "UNEMP",
          "LRIR",
          "CSENT",
          "IPM",
          "HOUSE",
          "UNEMP",
          "LRIR",
          "CSENT",
          "IPM",
          "HOUSE",
          "UNEMP",
          "LRIR",
          "CSENT",
          "IPM",
          "HOUSE",
          "UNEMP",
          "LRIR",
          "CSENT",
          "IPM",
          "HOUSE",
          "UNEMP",
          "LRIR",
          "CSENT",
          "IPM",
          "HOUSE",
          "UNEMP",
          "LRIR"
         ],
         "x0": " ",
         "xaxis": "x2",
         "y": [
          0.03206775216811453,
          0.03193255714929977,
          0.030417983135779147,
          0.031796502384737746,
          0.03371231688173604,
          0.0305723878360602,
          0.0352760424085794,
          0.030425322673515054,
          0.030277316293929712,
          0.031008024955346936,
          0.033563932994036816,
          0.04005468215994534,
          0.03701067974885419,
          0.039811262108218504,
          0.040175236710879414,
          0.03909375915692748,
          0.04731944236555918,
          0.04579078773450007,
          0.04215411590560858,
          0.034190609270216,
          0.03492555831265509,
          0.039989504877145365,
          0.04013846153846157,
          0.0383069502844422,
          0.03356895913075675,
          0.03296863907796388,
          0.03602848764139088,
          0.03786662775426819,
          0.03602848764139088,
          0.029399403185810802,
          0.022081205179796726,
          0.023597092562609667,
          0.023597092562609667,
          0.028340986087465048,
          0.020244739487641827,
          0.022325226116695518,
          0.025558299772304283,
          0.020809500463038755,
          0.02690109189129941,
          0.019071786642783528,
          0.023876208511910746,
          0.025406301162001488,
          0.022350927473927307,
          0.022251727029509394,
          0.023781670566120794,
          0.03035761002998527,
          0.03035761002998527,
          0.028827824200001295,
          0.02697133251648054,
          0.02697133251648054,
          0.02774270392957745,
          0.02949855508974719,
          0.02938804675139084,
          0.029276834538267793,
          0.021246480715087834,
          0.02889245585874789,
          0.033877096805624674,
          0.030925628678437733,
          0.030559328312137257,
          0.024004789603257803,
          0.014008717163387807,
          0.024765937426487805,
          0.021538461538461395,
          0.03099368716389994,
          0.02311709795580752,
          0.02015843156531516,
          0.020073485836197724,
          0.02165212225354385,
          0.024724318874127404,
          0.019988015750727728,
          0.018695709476055256,
          0.021867870665663314,
          0.015604519367863667,
          0.029600477042337592,
          0.01710226318189456,
          0.0202030511126986,
          0.025076434902539302,
          0.021980459670341235,
          0.021893926201118297,
          0.023487647612837614,
          0.025176332288401215,
          0.02838894911083112,
          0.02838894911083112,
          0.02678514664097531,
          0.020319581895936634,
          0.01584156463792119,
          0.017689290569950278,
          0.02381793384942954,
          0.02533411949685549,
          0.010939434457485353,
          0.00949749940462008,
          0.017068537331144884,
          0.020231172511174456,
          0.026498324001156814,
          0.015479876160990558,
          0.01395328868280965,
          0.015292497253744375,
          0.013867289370804059,
          0.018547140649149974,
          0.01688634596369276,
          0.01566339660610294,
          0.01574993007532588,
          0.01255780654399119,
          0.021941880539722125,
          0.018768986668214693,
          0.015742225933168652,
          0.015834422467064346,
          0.015742225933168652,
          0.02357655799804015,
          0.018862350738160893,
          0.023587250188235487,
          0.022061551236601584,
          0.0237435017141292,
          0.022061551236601584,
          0.023587250188235487,
          0.019284949009959806,
          0.020898952080980915,
          0.02394531327623539,
          0.024028842534814965,
          0.01908717006748395,
          0.016872386098671255,
          0.019847236143594404,
          0.019847236143594404,
          0.02597709019578831,
          0.021341463414634165,
          0.013935487463629825,
          0.018404564779592736,
          0.019903354576650933,
          0.022998617569435775,
          0.021453345267397728,
          0.013909052592141702,
          0.013838912428715044,
          0.016901699565009087,
          0.01996448670130324,
          0.016901699565009087,
          0.01698233969420415,
          0.017048408594628972,
          0.013905416617281174,
          0.02162371981945521,
          0.018551523198871656,
          0.017169107091587588,
          0.021829648475292895,
          0.021829648475292895,
          0.0217677294130334,
          0.02025552684467402,
          0.018759311932818545,
          0.018826615742214226,
          0.02197992384908276,
          0.023444178801709792,
          0.020343403607911315,
          0.012377778591569855,
          0.01829234595192042,
          0.018237082066869137,
          0.02289950350025438,
          0.01513270071910433,
          0.01678823081754388,
          0.02124430955993939,
          0.021294814726388278,
          0.025851674926305135,
          0.022784751919805002,
          0.01379548913795492,
          0.01826484018264829,
          0.015220700152207,
          0.019810041961018432,
          0.01826484018264829,
          0.015384075844896872,
          0.01849792900580627,
          0.015313935681470214,
          0.021490946073904338,
          0.018437510959400716,
          0.017029096477794714,
          0.017029096477794714,
          0.017029096477794714,
          0.018461538461538418,
          0.018527607361963017,
          0.01701097605052393,
          0.014009785515161854,
          0.0201541787563293,
          0.01851851851851849,
          0.018584995251661796
         ],
         "y0": " ",
         "yaxis": "y2"
        },
        {
         "alignmentgroup": "True",
         "boxpoints": "all",
         "fillcolor": "rgba(255,255,255,0)",
         "hoveron": "points",
         "hovertemplate": "sc=6<br>theta=%{x}<br>diff=%{y}<extra></extra>",
         "legendgroup": "6",
         "line": {
          "color": "rgba(255,255,255,0)"
         },
         "marker": {
          "color": "#00cc96",
          "opacity": 0.5,
          "size": 5
         },
         "name": "6",
         "offsetgroup": "6",
         "orientation": "v",
         "pointpos": 0,
         "showlegend": true,
         "type": "box",
         "x": [
          "CSENT",
          "IPM",
          "HOUSE",
          "UNEMP",
          "LRIR",
          "CSENT",
          "IPM",
          "HOUSE",
          "UNEMP",
          "LRIR",
          "CSENT",
          "IPM",
          "HOUSE",
          "UNEMP",
          "LRIR",
          "CSENT",
          "IPM",
          "HOUSE",
          "UNEMP",
          "LRIR",
          "CSENT",
          "IPM",
          "HOUSE",
          "UNEMP",
          "LRIR",
          "CSENT",
          "IPM",
          "HOUSE",
          "UNEMP",
          "LRIR",
          "CSENT",
          "IPM",
          "HOUSE",
          "UNEMP",
          "LRIR",
          "CSENT",
          "IPM",
          "HOUSE",
          "UNEMP",
          "LRIR",
          "CSENT",
          "IPM",
          "HOUSE",
          "UNEMP",
          "LRIR",
          "CSENT",
          "IPM",
          "HOUSE",
          "UNEMP",
          "LRIR",
          "CSENT",
          "IPM",
          "HOUSE",
          "UNEMP",
          "LRIR",
          "CSENT",
          "IPM",
          "HOUSE",
          "UNEMP",
          "LRIR",
          "CSENT",
          "IPM",
          "HOUSE",
          "UNEMP",
          "LRIR",
          "CSENT",
          "IPM",
          "HOUSE",
          "UNEMP",
          "LRIR",
          "CSENT",
          "IPM",
          "HOUSE",
          "UNEMP",
          "LRIR",
          "CSENT",
          "IPM",
          "HOUSE",
          "UNEMP",
          "LRIR",
          "CSENT",
          "IPM",
          "HOUSE",
          "UNEMP",
          "LRIR",
          "CSENT",
          "IPM",
          "HOUSE",
          "UNEMP",
          "LRIR",
          "CSENT",
          "IPM",
          "HOUSE",
          "UNEMP",
          "LRIR",
          "CSENT",
          "IPM",
          "HOUSE",
          "UNEMP",
          "LRIR",
          "CSENT",
          "IPM",
          "HOUSE",
          "UNEMP",
          "LRIR",
          "CSENT",
          "IPM",
          "HOUSE",
          "UNEMP",
          "LRIR",
          "CSENT",
          "IPM",
          "HOUSE",
          "UNEMP",
          "LRIR",
          "CSENT",
          "IPM",
          "HOUSE",
          "UNEMP",
          "LRIR",
          "CSENT",
          "IPM",
          "HOUSE",
          "UNEMP",
          "LRIR",
          "CSENT",
          "IPM",
          "HOUSE",
          "UNEMP",
          "LRIR",
          "CSENT",
          "IPM",
          "HOUSE",
          "UNEMP",
          "LRIR",
          "CSENT",
          "IPM",
          "HOUSE",
          "UNEMP",
          "LRIR",
          "CSENT",
          "IPM",
          "HOUSE",
          "UNEMP",
          "LRIR",
          "CSENT",
          "IPM",
          "HOUSE",
          "UNEMP",
          "LRIR",
          "CSENT",
          "IPM",
          "HOUSE",
          "UNEMP",
          "LRIR",
          "CSENT",
          "IPM",
          "HOUSE",
          "UNEMP",
          "LRIR",
          "CSENT",
          "IPM",
          "HOUSE",
          "UNEMP",
          "LRIR",
          "CSENT",
          "IPM",
          "HOUSE",
          "UNEMP",
          "LRIR",
          "CSENT",
          "IPM",
          "HOUSE",
          "UNEMP",
          "LRIR",
          "CSENT",
          "IPM",
          "HOUSE",
          "UNEMP",
          "LRIR"
         ],
         "x0": " ",
         "xaxis": "x",
         "y": [
          0.04086538461538458,
          0.024038461538461453,
          0.043269230769230727,
          0.04567307692307687,
          0.028846153846153855,
          0.050602409638554224,
          0.04819277108433728,
          0.04819277108433728,
          0.03855421686746985,
          0.028915662650602414,
          0.050724637681159424,
          0.0531400966183575,
          0.0531400966183575,
          0.04106280193236722,
          0.04589371980676338,
          0.04358353510895885,
          0.05084745762711862,
          0.05811138014527839,
          0.048426150121065326,
          0.03631961259079908,
          0.05582524271844669,
          0.04854368932038844,
          0.043689320388349606,
          0.05582524271844669,
          0.03398058252427183,
          0.05596107055961075,
          0.07055961070559613,
          0.05596107055961075,
          0.06082725060827254,
          0.024330900243308973,
          0.024154589371980673,
          0.024154589371980673,
          0.01449275362318847,
          0.04106280193236722,
          0.007246376811594235,
          0.03631961259079908,
          0.03147699757869249,
          0.03631961259079908,
          0.05084745762711862,
          0.026634382566586012,
          0.03398058252427183,
          0.03883495145631066,
          0.036407766990291246,
          0.036407766990291246,
          0.03398058252427183,
          0.03406326034063256,
          0.04379562043795615,
          0.03649635036496346,
          0.031630170316301665,
          0.03406326034063256,
          0.039024390243902474,
          0.04390243902439028,
          0.03658536585365857,
          0.024390243902439046,
          0.017073170731707332,
          0.039119804400978064,
          0.041564792176039145,
          0.04645476772616142,
          0.0488997555012225,
          0.02444987775061125,
          0.029055690072639195,
          0.029055690072639195,
          0.026634382566586012,
          0.04358353510895885,
          0.014527845036319653,
          0.01941747572815533,
          0.02669902912621358,
          0.029126213592232997,
          0.036407766990291246,
          0.02669902912621358,
          0.02676399026763987,
          0.031630170316301665,
          0.03406326034063256,
          0.04379562043795615,
          0.021897810218978075,
          0.03658536585365857,
          0.03658536585365857,
          0.024390243902439046,
          0.029268292682926855,
          0.029268292682926855,
          0.041564792176039034,
          0.041564792176039034,
          0.03911980440097795,
          0.0317848410757946,
          0.019559902200488977,
          0.039215686274509776,
          0.04901960784313719,
          0.039215686274509776,
          0.04656862745098034,
          0.019607843137254832,
          0.016990291262135915,
          0.016990291262135915,
          0.021844660194174748,
          0.04126213592233008,
          0.014563106796116498,
          0.01703163017031628,
          0.012165450121654486,
          0.019464720194647178,
          0.029197080291970767,
          0.014598540145985384,
          0.029268292682926855,
          0.02682926829268295,
          0.024390243902439046,
          0.04878048780487798,
          0.02195121951219514,
          0.0317848410757946,
          0.03422982885085568,
          0.02689486552567233,
          0.044009779951100225,
          0.02689486552567233,
          0.039215686274509776,
          0.039215686274509776,
          0.03431372549019607,
          0.03431372549019607,
          0.02941176470588236,
          0.03685503685503688,
          0.03439803439803446,
          0.03439803439803446,
          0.039312039312039304,
          0.014742014742014753,
          0.009732360097323589,
          0.014598540145985384,
          0.014598540145985384,
          0.031630170316301665,
          0.009732360097323589,
          0.014634146341463428,
          0.017073170731707332,
          0.024390243902438935,
          0.03170731707317065,
          0.012195121951219523,
          0.012224938875305624,
          0.012224938875305624,
          0.02933985330073352,
          0.03178484107579471,
          0.017114914425427896,
          0.02450980392156865,
          0.02450980392156865,
          0.022058823529411797,
          0.039215686274509776,
          0.022058823529411797,
          0.027027027027026973,
          0.03194103194103193,
          0.02211302211302202,
          0.027027027027026973,
          0.02211302211302202,
          0.034482758620689724,
          0.034482758620689724,
          0.036945812807881784,
          0.03201970443349755,
          0.024630541871921263,
          0.017073170731707332,
          0.017073170731707332,
          0.029268292682926744,
          0.03658536585365846,
          0.012195121951219523,
          0.012224938875305624,
          0.012224938875305624,
          0.017114914425427896,
          0.02689486552567233,
          0.009779951100244544,
          0.019607843137254943,
          0.022058823529411797,
          0.03431372549019618,
          0.03431372549019618,
          0.031862745098039214,
          0.0073710073710073765,
          0.004914004914004955,
          0.012285012285012331,
          0.027027027027027084,
          0.00982800982800991,
          0.022167487684729092,
          0.027093596059113323,
          0.027093596059113323,
          0.024630541871921152,
          0.024630541871921152,
          0.024691358024691357,
          0.029629629629629672,
          0.022222222222222254,
          0.024691358024691357,
          0.01728395061728394
         ],
         "y0": " ",
         "yaxis": "y"
        },
        {
         "alignmentgroup": "True",
         "boxpoints": "all",
         "fillcolor": "rgba(255,255,255,0)",
         "hoveron": "points",
         "hovertemplate": "sc=6<br>theta=%{x}<br>diff=%{y}<extra></extra>",
         "legendgroup": "6",
         "line": {
          "color": "rgba(255,255,255,0)"
         },
         "marker": {
          "color": "#00cc96",
          "opacity": 0.5,
          "size": 5
         },
         "name": "6",
         "offsetgroup": "6",
         "orientation": "v",
         "pointpos": 0,
         "showlegend": false,
         "type": "box",
         "x": [
          "CSENT",
          "IPM",
          "HOUSE",
          "UNEMP",
          "LRIR",
          "CSENT",
          "IPM",
          "HOUSE",
          "UNEMP",
          "LRIR",
          "CSENT",
          "IPM",
          "HOUSE",
          "UNEMP",
          "LRIR",
          "CSENT",
          "IPM",
          "HOUSE",
          "UNEMP",
          "LRIR",
          "CSENT",
          "IPM",
          "HOUSE",
          "UNEMP",
          "LRIR",
          "CSENT",
          "IPM",
          "HOUSE",
          "UNEMP",
          "LRIR",
          "CSENT",
          "IPM",
          "HOUSE",
          "UNEMP",
          "LRIR",
          "CSENT",
          "IPM",
          "HOUSE",
          "UNEMP",
          "LRIR",
          "CSENT",
          "IPM",
          "HOUSE",
          "UNEMP",
          "LRIR",
          "CSENT",
          "IPM",
          "HOUSE",
          "UNEMP",
          "LRIR",
          "CSENT",
          "IPM",
          "HOUSE",
          "UNEMP",
          "LRIR",
          "CSENT",
          "IPM",
          "HOUSE",
          "UNEMP",
          "LRIR",
          "CSENT",
          "IPM",
          "HOUSE",
          "UNEMP",
          "LRIR",
          "CSENT",
          "IPM",
          "HOUSE",
          "UNEMP",
          "LRIR",
          "CSENT",
          "IPM",
          "HOUSE",
          "UNEMP",
          "LRIR",
          "CSENT",
          "IPM",
          "HOUSE",
          "UNEMP",
          "LRIR",
          "CSENT",
          "IPM",
          "HOUSE",
          "UNEMP",
          "LRIR",
          "CSENT",
          "IPM",
          "HOUSE",
          "UNEMP",
          "LRIR",
          "CSENT",
          "IPM",
          "HOUSE",
          "UNEMP",
          "LRIR",
          "CSENT",
          "IPM",
          "HOUSE",
          "UNEMP",
          "LRIR",
          "CSENT",
          "IPM",
          "HOUSE",
          "UNEMP",
          "LRIR",
          "CSENT",
          "IPM",
          "HOUSE",
          "UNEMP",
          "LRIR",
          "CSENT",
          "IPM",
          "HOUSE",
          "UNEMP",
          "LRIR",
          "CSENT",
          "IPM",
          "HOUSE",
          "UNEMP",
          "LRIR",
          "CSENT",
          "IPM",
          "HOUSE",
          "UNEMP",
          "LRIR",
          "CSENT",
          "IPM",
          "HOUSE",
          "UNEMP",
          "LRIR",
          "CSENT",
          "IPM",
          "HOUSE",
          "UNEMP",
          "LRIR",
          "CSENT",
          "IPM",
          "HOUSE",
          "UNEMP",
          "LRIR",
          "CSENT",
          "IPM",
          "HOUSE",
          "UNEMP",
          "LRIR",
          "CSENT",
          "IPM",
          "HOUSE",
          "UNEMP",
          "LRIR",
          "CSENT",
          "IPM",
          "HOUSE",
          "UNEMP",
          "LRIR",
          "CSENT",
          "IPM",
          "HOUSE",
          "UNEMP",
          "LRIR",
          "CSENT",
          "IPM",
          "HOUSE",
          "UNEMP",
          "LRIR",
          "CSENT",
          "IPM",
          "HOUSE",
          "UNEMP",
          "LRIR",
          "CSENT",
          "IPM",
          "HOUSE",
          "UNEMP",
          "LRIR",
          "CSENT",
          "IPM",
          "HOUSE",
          "UNEMP",
          "LRIR"
         ],
         "x0": " ",
         "xaxis": "x2",
         "y": [
          0.02775465168764757,
          0.015689546407277155,
          0.029045392243812085,
          0.030160810247970904,
          0.018884434586190824,
          0.03442580645161275,
          0.03293826651551057,
          0.03271298593879224,
          0.024794433902593283,
          0.018810222036028446,
          0.03369695080775037,
          0.03634836882918724,
          0.0358904991948471,
          0.026191152789618255,
          0.031213182900917347,
          0.029315960912052352,
          0.0348465792783359,
          0.040051530735151,
          0.032573289902280145,
          0.023990148045869186,
          0.03739254037439743,
          0.0329055713454276,
          0.02917341977309562,
          0.03692871359261751,
          0.02212991875120629,
          0.037271258706072286,
          0.04748598942300086,
          0.03802779963283487,
          0.04028375577873422,
          0.01361076048156129,
          0.016263957644919946,
          0.01609305879018641,
          0.009059485630857123,
          0.026978994396860245,
          0.003558449424591048,
          0.023950043220364203,
          0.020626828332361624,
          0.023950043220364203,
          0.033522015381796444,
          0.016706287317858615,
          0.02251618350689555,
          0.02604745383493201,
          0.024196855775803217,
          0.02364740522635278,
          0.022139712918660348,
          0.02212950558213711,
          0.029237246498408975,
          0.024019951442009746,
          0.020220823910111374,
          0.02212950558213711,
          0.025723472668810254,
          0.029522600200708515,
          0.024221560440354506,
          0.015356829665511329,
          0.010357357592868599,
          0.025396325045641377,
          0.02800733192494098,
          0.031006342560607525,
          0.032105948057592704,
          0.015380277087445715,
          0.01912074676302311,
          0.01851851851851849,
          0.01641917528552983,
          0.028023933954404168,
          0.007964326050550974,
          0.013072363847460355,
          0.01775133814844143,
          0.01907947865719961,
          0.02364015129696828,
          0.016888608087091694,
          0.017189416844565986,
          0.020295006906677737,
          0.02192243239659053,
          0.027993779160186638,
          0.013380674315560892,
          0.023939122737520635,
          0.024093918503856337,
          0.01588038610171394,
          0.018665249261424766,
          0.018665249261424766,
          0.027023424579764588,
          0.027355459072288868,
          0.025196850393700898,
          0.020188378351440384,
          0.012169160312964,
          0.02554184411012872,
          0.03251160157341304,
          0.025725944320351357,
          0.030702124805627617,
          0.01199366085578446,
          0.011489412609163807,
          0.010624027993779372,
          0.013414908496923839,
          0.02662634997520341,
          0.008050498582014676,
          0.011461553323029339,
          0.007892940717628694,
          0.012499999999999845,
          0.01900232919254652,
          0.00890181388012612,
          0.019141990169402767,
          0.017503924646781854,
          0.01586073215851891,
          0.0316224893893714,
          0.013706456292351454,
          0.021141617638319343,
          0.022628070314669957,
          0.017666699890361737,
          0.028620772271692574,
          0.017140930953291278,
          0.025737319112713486,
          0.025905959868224082,
          0.02258274498022128,
          0.02240305404862364,
          0.018662203965718382,
          0.023973955221613608,
          0.022655809078448885,
          0.02247497725204739,
          0.025649580426650664,
          0.009105013882083957,
          0.006290240247657675,
          0.009353027383951718,
          0.008941184291435977,
          0.020124297129328172,
          0.005250138825786288,
          0.009464312434535382,
          0.010672584885923597,
          0.015110202226766734,
          0.019987974332716374,
          0.006905429591416823,
          0.008248180057436882,
          0.008248180057436882,
          0.018948877209746917,
          0.02053696653977166,
          0.010804362315620764,
          0.015479876160990669,
          0.015479876160990669,
          0.013722440764797339,
          0.024872912127814062,
          0.013581719739377829,
          0.017689210598991312,
          0.020660193042311814,
          0.01415786384976514,
          0.017282863849765295,
          0.014010920276097516,
          0.02205083508504646,
          0.02219155611046597,
          0.023542644757433395,
          0.020270701183765727,
          0.015324140820425547,
          0.011010872079574408,
          0.010752187674548552,
          0.018320610687022842,
          0.02303997772570132,
          0.0069954860208445435,
          0.00791022471495506,
          0.007679956936555654,
          0.010617203500279282,
          0.01698738053946336,
          0.005484029298497228,
          0.012484237368334039,
          0.013838740042429465,
          0.021528354161065133,
          0.021528354161065133,
          0.019766756979620714,
          0.004932472108044705,
          0.003209060877772618,
          0.007751388396549874,
          0.01714621256605986,
          0.006030389363722688,
          0.013953090224276599,
          0.01715309779825902,
          0.017034754322890033,
          0.015307877536979708,
          0.015307877536979708,
          0.016074766355140158,
          0.019151689432063246,
          0.014214301238861138,
          0.015702095547686756,
          0.010973677708172924
         ],
         "y0": " ",
         "yaxis": "y2"
        }
       ],
       "layout": {
        "annotations": [
         {
          "font": {
           "color": "grey",
           "size": 11
          },
          "showarrow": false,
          "text": "Acc",
          "x": 0.225,
          "xanchor": "center",
          "xref": "paper",
          "y": 0.95,
          "yanchor": "bottom",
          "yref": "paper"
         },
         {
          "font": {
           "color": "grey",
           "size": 11
          },
          "showarrow": false,
          "text": "F1",
          "x": 0.775,
          "xanchor": "center",
          "xref": "paper",
          "y": 0.95,
          "yanchor": "bottom",
          "yref": "paper"
         }
        ],
        "height": 400,
        "legend": {
         "orientation": "h",
         "title": {
          "text": "Scopes:"
         },
         "x": 0.5,
         "xanchor": "center",
         "y": -0.1,
         "yanchor": "top"
        },
        "margin": {
         "b": 60,
         "l": 80,
         "r": 40,
         "t": 80
        },
        "template": {
         "data": {
          "bar": [
           {
            "error_x": {
             "color": "#f2f5fa"
            },
            "error_y": {
             "color": "#f2f5fa"
            },
            "marker": {
             "line": {
              "color": "rgb(17,17,17)",
              "width": 0.5
             },
             "pattern": {
              "fillmode": "overlay",
              "size": 10,
              "solidity": 0.2
             }
            },
            "type": "bar"
           }
          ],
          "barpolar": [
           {
            "marker": {
             "line": {
              "color": "rgb(17,17,17)",
              "width": 0.5
             },
             "pattern": {
              "fillmode": "overlay",
              "size": 10,
              "solidity": 0.2
             }
            },
            "type": "barpolar"
           }
          ],
          "carpet": [
           {
            "aaxis": {
             "endlinecolor": "#A2B1C6",
             "gridcolor": "#506784",
             "linecolor": "#506784",
             "minorgridcolor": "#506784",
             "startlinecolor": "#A2B1C6"
            },
            "baxis": {
             "endlinecolor": "#A2B1C6",
             "gridcolor": "#506784",
             "linecolor": "#506784",
             "minorgridcolor": "#506784",
             "startlinecolor": "#A2B1C6"
            },
            "type": "carpet"
           }
          ],
          "choropleth": [
           {
            "colorbar": {
             "outlinewidth": 0,
             "ticks": ""
            },
            "type": "choropleth"
           }
          ],
          "contour": [
           {
            "colorbar": {
             "outlinewidth": 0,
             "ticks": ""
            },
            "colorscale": [
             [
              0,
              "#0d0887"
             ],
             [
              0.1111111111111111,
              "#46039f"
             ],
             [
              0.2222222222222222,
              "#7201a8"
             ],
             [
              0.3333333333333333,
              "#9c179e"
             ],
             [
              0.4444444444444444,
              "#bd3786"
             ],
             [
              0.5555555555555556,
              "#d8576b"
             ],
             [
              0.6666666666666666,
              "#ed7953"
             ],
             [
              0.7777777777777778,
              "#fb9f3a"
             ],
             [
              0.8888888888888888,
              "#fdca26"
             ],
             [
              1,
              "#f0f921"
             ]
            ],
            "type": "contour"
           }
          ],
          "contourcarpet": [
           {
            "colorbar": {
             "outlinewidth": 0,
             "ticks": ""
            },
            "type": "contourcarpet"
           }
          ],
          "heatmap": [
           {
            "colorbar": {
             "outlinewidth": 0,
             "ticks": ""
            },
            "colorscale": [
             [
              0,
              "#0d0887"
             ],
             [
              0.1111111111111111,
              "#46039f"
             ],
             [
              0.2222222222222222,
              "#7201a8"
             ],
             [
              0.3333333333333333,
              "#9c179e"
             ],
             [
              0.4444444444444444,
              "#bd3786"
             ],
             [
              0.5555555555555556,
              "#d8576b"
             ],
             [
              0.6666666666666666,
              "#ed7953"
             ],
             [
              0.7777777777777778,
              "#fb9f3a"
             ],
             [
              0.8888888888888888,
              "#fdca26"
             ],
             [
              1,
              "#f0f921"
             ]
            ],
            "type": "heatmap"
           }
          ],
          "heatmapgl": [
           {
            "colorbar": {
             "outlinewidth": 0,
             "ticks": ""
            },
            "colorscale": [
             [
              0,
              "#0d0887"
             ],
             [
              0.1111111111111111,
              "#46039f"
             ],
             [
              0.2222222222222222,
              "#7201a8"
             ],
             [
              0.3333333333333333,
              "#9c179e"
             ],
             [
              0.4444444444444444,
              "#bd3786"
             ],
             [
              0.5555555555555556,
              "#d8576b"
             ],
             [
              0.6666666666666666,
              "#ed7953"
             ],
             [
              0.7777777777777778,
              "#fb9f3a"
             ],
             [
              0.8888888888888888,
              "#fdca26"
             ],
             [
              1,
              "#f0f921"
             ]
            ],
            "type": "heatmapgl"
           }
          ],
          "histogram": [
           {
            "marker": {
             "pattern": {
              "fillmode": "overlay",
              "size": 10,
              "solidity": 0.2
             }
            },
            "type": "histogram"
           }
          ],
          "histogram2d": [
           {
            "colorbar": {
             "outlinewidth": 0,
             "ticks": ""
            },
            "colorscale": [
             [
              0,
              "#0d0887"
             ],
             [
              0.1111111111111111,
              "#46039f"
             ],
             [
              0.2222222222222222,
              "#7201a8"
             ],
             [
              0.3333333333333333,
              "#9c179e"
             ],
             [
              0.4444444444444444,
              "#bd3786"
             ],
             [
              0.5555555555555556,
              "#d8576b"
             ],
             [
              0.6666666666666666,
              "#ed7953"
             ],
             [
              0.7777777777777778,
              "#fb9f3a"
             ],
             [
              0.8888888888888888,
              "#fdca26"
             ],
             [
              1,
              "#f0f921"
             ]
            ],
            "type": "histogram2d"
           }
          ],
          "histogram2dcontour": [
           {
            "colorbar": {
             "outlinewidth": 0,
             "ticks": ""
            },
            "colorscale": [
             [
              0,
              "#0d0887"
             ],
             [
              0.1111111111111111,
              "#46039f"
             ],
             [
              0.2222222222222222,
              "#7201a8"
             ],
             [
              0.3333333333333333,
              "#9c179e"
             ],
             [
              0.4444444444444444,
              "#bd3786"
             ],
             [
              0.5555555555555556,
              "#d8576b"
             ],
             [
              0.6666666666666666,
              "#ed7953"
             ],
             [
              0.7777777777777778,
              "#fb9f3a"
             ],
             [
              0.8888888888888888,
              "#fdca26"
             ],
             [
              1,
              "#f0f921"
             ]
            ],
            "type": "histogram2dcontour"
           }
          ],
          "mesh3d": [
           {
            "colorbar": {
             "outlinewidth": 0,
             "ticks": ""
            },
            "type": "mesh3d"
           }
          ],
          "parcoords": [
           {
            "line": {
             "colorbar": {
              "outlinewidth": 0,
              "ticks": ""
             }
            },
            "type": "parcoords"
           }
          ],
          "pie": [
           {
            "automargin": true,
            "type": "pie"
           }
          ],
          "scatter": [
           {
            "marker": {
             "line": {
              "color": "#283442"
             }
            },
            "type": "scatter"
           }
          ],
          "scatter3d": [
           {
            "line": {
             "colorbar": {
              "outlinewidth": 0,
              "ticks": ""
             }
            },
            "marker": {
             "colorbar": {
              "outlinewidth": 0,
              "ticks": ""
             }
            },
            "type": "scatter3d"
           }
          ],
          "scattercarpet": [
           {
            "marker": {
             "colorbar": {
              "outlinewidth": 0,
              "ticks": ""
             }
            },
            "type": "scattercarpet"
           }
          ],
          "scattergeo": [
           {
            "marker": {
             "colorbar": {
              "outlinewidth": 0,
              "ticks": ""
             }
            },
            "type": "scattergeo"
           }
          ],
          "scattergl": [
           {
            "marker": {
             "line": {
              "color": "#283442"
             }
            },
            "type": "scattergl"
           }
          ],
          "scattermapbox": [
           {
            "marker": {
             "colorbar": {
              "outlinewidth": 0,
              "ticks": ""
             }
            },
            "type": "scattermapbox"
           }
          ],
          "scatterpolar": [
           {
            "marker": {
             "colorbar": {
              "outlinewidth": 0,
              "ticks": ""
             }
            },
            "type": "scatterpolar"
           }
          ],
          "scatterpolargl": [
           {
            "marker": {
             "colorbar": {
              "outlinewidth": 0,
              "ticks": ""
             }
            },
            "type": "scatterpolargl"
           }
          ],
          "scatterternary": [
           {
            "marker": {
             "colorbar": {
              "outlinewidth": 0,
              "ticks": ""
             }
            },
            "type": "scatterternary"
           }
          ],
          "surface": [
           {
            "colorbar": {
             "outlinewidth": 0,
             "ticks": ""
            },
            "colorscale": [
             [
              0,
              "#0d0887"
             ],
             [
              0.1111111111111111,
              "#46039f"
             ],
             [
              0.2222222222222222,
              "#7201a8"
             ],
             [
              0.3333333333333333,
              "#9c179e"
             ],
             [
              0.4444444444444444,
              "#bd3786"
             ],
             [
              0.5555555555555556,
              "#d8576b"
             ],
             [
              0.6666666666666666,
              "#ed7953"
             ],
             [
              0.7777777777777778,
              "#fb9f3a"
             ],
             [
              0.8888888888888888,
              "#fdca26"
             ],
             [
              1,
              "#f0f921"
             ]
            ],
            "type": "surface"
           }
          ],
          "table": [
           {
            "cells": {
             "fill": {
              "color": "#506784"
             },
             "line": {
              "color": "rgb(17,17,17)"
             }
            },
            "header": {
             "fill": {
              "color": "#2a3f5f"
             },
             "line": {
              "color": "rgb(17,17,17)"
             }
            },
            "type": "table"
           }
          ]
         },
         "layout": {
          "annotationdefaults": {
           "arrowcolor": "#f2f5fa",
           "arrowhead": 0,
           "arrowwidth": 1
          },
          "autotypenumbers": "strict",
          "coloraxis": {
           "colorbar": {
            "outlinewidth": 0,
            "ticks": ""
           }
          },
          "colorscale": {
           "diverging": [
            [
             0,
             "#8e0152"
            ],
            [
             0.1,
             "#c51b7d"
            ],
            [
             0.2,
             "#de77ae"
            ],
            [
             0.3,
             "#f1b6da"
            ],
            [
             0.4,
             "#fde0ef"
            ],
            [
             0.5,
             "#f7f7f7"
            ],
            [
             0.6,
             "#e6f5d0"
            ],
            [
             0.7,
             "#b8e186"
            ],
            [
             0.8,
             "#7fbc41"
            ],
            [
             0.9,
             "#4d9221"
            ],
            [
             1,
             "#276419"
            ]
           ],
           "sequential": [
            [
             0,
             "#0d0887"
            ],
            [
             0.1111111111111111,
             "#46039f"
            ],
            [
             0.2222222222222222,
             "#7201a8"
            ],
            [
             0.3333333333333333,
             "#9c179e"
            ],
            [
             0.4444444444444444,
             "#bd3786"
            ],
            [
             0.5555555555555556,
             "#d8576b"
            ],
            [
             0.6666666666666666,
             "#ed7953"
            ],
            [
             0.7777777777777778,
             "#fb9f3a"
            ],
            [
             0.8888888888888888,
             "#fdca26"
            ],
            [
             1,
             "#f0f921"
            ]
           ],
           "sequentialminus": [
            [
             0,
             "#0d0887"
            ],
            [
             0.1111111111111111,
             "#46039f"
            ],
            [
             0.2222222222222222,
             "#7201a8"
            ],
            [
             0.3333333333333333,
             "#9c179e"
            ],
            [
             0.4444444444444444,
             "#bd3786"
            ],
            [
             0.5555555555555556,
             "#d8576b"
            ],
            [
             0.6666666666666666,
             "#ed7953"
            ],
            [
             0.7777777777777778,
             "#fb9f3a"
            ],
            [
             0.8888888888888888,
             "#fdca26"
            ],
            [
             1,
             "#f0f921"
            ]
           ]
          },
          "colorway": [
           "#636efa",
           "#EF553B",
           "#00cc96",
           "#ab63fa",
           "#FFA15A",
           "#19d3f3",
           "#FF6692",
           "#B6E880",
           "#FF97FF",
           "#FECB52"
          ],
          "font": {
           "color": "#f2f5fa"
          },
          "geo": {
           "bgcolor": "rgb(17,17,17)",
           "lakecolor": "rgb(17,17,17)",
           "landcolor": "rgb(17,17,17)",
           "showlakes": true,
           "showland": true,
           "subunitcolor": "#506784"
          },
          "hoverlabel": {
           "align": "left"
          },
          "hovermode": "closest",
          "mapbox": {
           "style": "dark"
          },
          "paper_bgcolor": "rgb(17,17,17)",
          "plot_bgcolor": "rgb(17,17,17)",
          "polar": {
           "angularaxis": {
            "gridcolor": "#506784",
            "linecolor": "#506784",
            "ticks": ""
           },
           "bgcolor": "rgb(17,17,17)",
           "radialaxis": {
            "gridcolor": "#506784",
            "linecolor": "#506784",
            "ticks": ""
           }
          },
          "scene": {
           "xaxis": {
            "backgroundcolor": "rgb(17,17,17)",
            "gridcolor": "#506784",
            "gridwidth": 2,
            "linecolor": "#506784",
            "showbackground": true,
            "ticks": "",
            "zerolinecolor": "#C8D4E3"
           },
           "yaxis": {
            "backgroundcolor": "rgb(17,17,17)",
            "gridcolor": "#506784",
            "gridwidth": 2,
            "linecolor": "#506784",
            "showbackground": true,
            "ticks": "",
            "zerolinecolor": "#C8D4E3"
           },
           "zaxis": {
            "backgroundcolor": "rgb(17,17,17)",
            "gridcolor": "#506784",
            "gridwidth": 2,
            "linecolor": "#506784",
            "showbackground": true,
            "ticks": "",
            "zerolinecolor": "#C8D4E3"
           }
          },
          "shapedefaults": {
           "line": {
            "color": "#f2f5fa"
           }
          },
          "sliderdefaults": {
           "bgcolor": "#C8D4E3",
           "bordercolor": "rgb(17,17,17)",
           "borderwidth": 1,
           "tickwidth": 0
          },
          "ternary": {
           "aaxis": {
            "gridcolor": "#506784",
            "linecolor": "#506784",
            "ticks": ""
           },
           "baxis": {
            "gridcolor": "#506784",
            "linecolor": "#506784",
            "ticks": ""
           },
           "bgcolor": "rgb(17,17,17)",
           "caxis": {
            "gridcolor": "#506784",
            "linecolor": "#506784",
            "ticks": ""
           }
          },
          "title": {
           "x": 0.05
          },
          "updatemenudefaults": {
           "bgcolor": "#506784",
           "borderwidth": 0
          },
          "xaxis": {
           "automargin": true,
           "gridcolor": "#283442",
           "linecolor": "#506784",
           "ticks": "",
           "title": {
            "standoff": 15
           },
           "zerolinecolor": "#283442",
           "zerolinewidth": 2
          },
          "yaxis": {
           "automargin": true,
           "gridcolor": "#283442",
           "linecolor": "#506784",
           "ticks": "",
           "title": {
            "standoff": 15
           },
           "zerolinecolor": "#283442",
           "zerolinewidth": 2
          }
         }
        },
        "title": {
         "text": "Observe Backward Elimination in All Models With Repect to Scopes<br><span style=\"font-size: 12.5px; color: lightgrey;\"> -- How meansures are changed by removing the impact of each coefficient</span>"
        },
        "width": 800,
        "xaxis": {
         "anchor": "y",
         "domain": [
          0,
          0.45
         ]
        },
        "xaxis2": {
         "anchor": "y2",
         "domain": [
          0.55,
          1
         ]
        },
        "yaxis": {
         "anchor": "x",
         "domain": [
          0,
          1
         ],
         "title": {
          "text": "Difference"
         }
        },
        "yaxis2": {
         "anchor": "x2",
         "domain": [
          0,
          1
         ]
        }
       }
      }
     },
     "metadata": {},
     "output_type": "display_data"
    },
    {
     "data": {
      "application/vnd.plotly.v1+json": {
       "config": {
        "plotlyServerURL": "https://plot.ly"
       },
       "data": [
        {
         "alignmentgroup": "True",
         "boxpoints": "all",
         "fillcolor": "rgba(255,255,255,0)",
         "hoveron": "points",
         "hovertemplate": "ma=1<br>theta=%{x}<br>diff=%{y}<extra></extra>",
         "legendgroup": "1",
         "line": {
          "color": "rgba(255,255,255,0)"
         },
         "marker": {
          "color": "#636efa",
          "opacity": 0.5,
          "size": 5
         },
         "name": "1",
         "offsetgroup": "1",
         "orientation": "v",
         "pointpos": 0,
         "showlegend": true,
         "type": "box",
         "x": [
          "CSENT",
          "IPM",
          "HOUSE",
          "UNEMP",
          "LRIR",
          "CSENT",
          "IPM",
          "HOUSE",
          "UNEMP",
          "LRIR",
          "CSENT",
          "IPM",
          "HOUSE",
          "UNEMP",
          "LRIR",
          "CSENT",
          "IPM",
          "HOUSE",
          "UNEMP",
          "LRIR",
          "CSENT",
          "IPM",
          "HOUSE",
          "UNEMP",
          "LRIR",
          "CSENT",
          "IPM",
          "HOUSE",
          "UNEMP",
          "LRIR",
          "CSENT",
          "IPM",
          "HOUSE",
          "UNEMP",
          "LRIR",
          "CSENT",
          "IPM",
          "HOUSE",
          "UNEMP",
          "LRIR",
          "CSENT",
          "IPM",
          "HOUSE",
          "UNEMP",
          "LRIR",
          "CSENT",
          "IPM",
          "HOUSE",
          "UNEMP",
          "LRIR",
          "CSENT",
          "IPM",
          "HOUSE",
          "UNEMP",
          "LRIR",
          "CSENT",
          "IPM",
          "HOUSE",
          "UNEMP",
          "LRIR",
          "CSENT",
          "IPM",
          "HOUSE",
          "UNEMP",
          "LRIR",
          "CSENT",
          "IPM",
          "HOUSE",
          "UNEMP",
          "LRIR",
          "CSENT",
          "IPM",
          "HOUSE",
          "UNEMP",
          "LRIR",
          "CSENT",
          "IPM",
          "HOUSE",
          "UNEMP",
          "LRIR",
          "CSENT",
          "IPM",
          "HOUSE",
          "UNEMP",
          "LRIR",
          "CSENT",
          "IPM",
          "HOUSE",
          "UNEMP",
          "LRIR"
         ],
         "x0": " ",
         "xaxis": "x",
         "y": [
          0.06730769230769229,
          0.0625,
          0.06971153846153844,
          0.06971153846153844,
          0.06730769230769229,
          0.06987951807228909,
          0.07469879518072287,
          0.06987951807228909,
          0.07469879518072287,
          0.07228915662650603,
          0.0748792270531401,
          0.07971014492753625,
          0.07004830917874405,
          0.0748792270531401,
          0.07729468599033817,
          0.06295399515738498,
          0.07021791767554475,
          0.07263922518159804,
          0.07263922518159804,
          0.06779661016949146,
          0.07038834951456308,
          0.07038834951456308,
          0.07038834951456308,
          0.07281553398058249,
          0.06796116504854366,
          0.07055961070559613,
          0.07055961070559613,
          0.07542579075425793,
          0.07542579075425793,
          0.07299270072992703,
          0.04807692307692313,
          0.04807692307692313,
          0.04567307692307698,
          0.04807692307692313,
          0.050480769230769273,
          0.04578313253012045,
          0.053012048192771055,
          0.04578313253012045,
          0.04578313253012045,
          0.04578313253012045,
          0.050724637681159424,
          0.060386473429951626,
          0.05555555555555558,
          0.060386473429951626,
          0.060386473429951626,
          0.05811138014527839,
          0.07021791767554475,
          0.06779661016949146,
          0.06295399515738498,
          0.05084745762711862,
          0.05339805825242727,
          0.06067961165048552,
          0.06067961165048552,
          0.058252427184466105,
          0.050970873786407855,
          0.048661800486617945,
          0.05352798053527974,
          0.05596107055961064,
          0.05352798053527974,
          0.04379562043795615,
          0.04086538461538458,
          0.024038461538461453,
          0.043269230769230727,
          0.04567307692307687,
          0.028846153846153855,
          0.050602409638554224,
          0.04819277108433728,
          0.04819277108433728,
          0.03855421686746985,
          0.028915662650602414,
          0.050724637681159424,
          0.0531400966183575,
          0.0531400966183575,
          0.04106280193236722,
          0.04589371980676338,
          0.04358353510895885,
          0.05084745762711862,
          0.05811138014527839,
          0.048426150121065326,
          0.03631961259079908,
          0.05582524271844669,
          0.04854368932038844,
          0.043689320388349606,
          0.05582524271844669,
          0.03398058252427183,
          0.05596107055961075,
          0.07055961070559613,
          0.05596107055961075,
          0.06082725060827254,
          0.024330900243308973
         ],
         "y0": " ",
         "yaxis": "y"
        },
        {
         "alignmentgroup": "True",
         "boxpoints": "all",
         "fillcolor": "rgba(255,255,255,0)",
         "hoveron": "points",
         "hovertemplate": "ma=1<br>theta=%{x}<br>diff=%{y}<extra></extra>",
         "legendgroup": "1",
         "line": {
          "color": "rgba(255,255,255,0)"
         },
         "marker": {
          "color": "#636efa",
          "opacity": 0.5,
          "size": 5
         },
         "name": "1",
         "offsetgroup": "1",
         "orientation": "v",
         "pointpos": 0,
         "showlegend": false,
         "type": "box",
         "x": [
          "CSENT",
          "IPM",
          "HOUSE",
          "UNEMP",
          "LRIR",
          "CSENT",
          "IPM",
          "HOUSE",
          "UNEMP",
          "LRIR",
          "CSENT",
          "IPM",
          "HOUSE",
          "UNEMP",
          "LRIR",
          "CSENT",
          "IPM",
          "HOUSE",
          "UNEMP",
          "LRIR",
          "CSENT",
          "IPM",
          "HOUSE",
          "UNEMP",
          "LRIR",
          "CSENT",
          "IPM",
          "HOUSE",
          "UNEMP",
          "LRIR",
          "CSENT",
          "IPM",
          "HOUSE",
          "UNEMP",
          "LRIR",
          "CSENT",
          "IPM",
          "HOUSE",
          "UNEMP",
          "LRIR",
          "CSENT",
          "IPM",
          "HOUSE",
          "UNEMP",
          "LRIR",
          "CSENT",
          "IPM",
          "HOUSE",
          "UNEMP",
          "LRIR",
          "CSENT",
          "IPM",
          "HOUSE",
          "UNEMP",
          "LRIR",
          "CSENT",
          "IPM",
          "HOUSE",
          "UNEMP",
          "LRIR",
          "CSENT",
          "IPM",
          "HOUSE",
          "UNEMP",
          "LRIR",
          "CSENT",
          "IPM",
          "HOUSE",
          "UNEMP",
          "LRIR",
          "CSENT",
          "IPM",
          "HOUSE",
          "UNEMP",
          "LRIR",
          "CSENT",
          "IPM",
          "HOUSE",
          "UNEMP",
          "LRIR",
          "CSENT",
          "IPM",
          "HOUSE",
          "UNEMP",
          "LRIR",
          "CSENT",
          "IPM",
          "HOUSE",
          "UNEMP",
          "LRIR"
         ],
         "x0": " ",
         "xaxis": "x2",
         "y": [
          0.04320987654320996,
          0.04009479035278829,
          0.04476021990146295,
          0.04476021990146295,
          0.04320987654320996,
          0.04504309307140453,
          0.04815824589361317,
          0.04504309307140453,
          0.04815824589361317,
          0.04660308059150431,
          0.04839100396313989,
          0.051506208855165325,
          0.04525638969484025,
          0.04839100396313989,
          0.04995102129666584,
          0.04052744269395181,
          0.045251529687355685,
          0.04681642942234021,
          0.04681642942234021,
          0.043681747269890825,
          0.0453931924882629,
          0.0453931924882629,
          0.0453931924882629,
          0.04696300528077457,
          0.04381846635367759,
          0.045609825933276005,
          0.045609825933276005,
          0.048764283816104204,
          0.048764283816104204,
          0.04718952702036627,
          0.03206775216811453,
          0.03193255714929977,
          0.030417983135779147,
          0.031796502384737746,
          0.03371231688173604,
          0.0305723878360602,
          0.0352760424085794,
          0.030425322673515054,
          0.030277316293929712,
          0.031008024955346936,
          0.033563932994036816,
          0.04005468215994534,
          0.03701067974885419,
          0.039811262108218504,
          0.040175236710879414,
          0.03909375915692748,
          0.04731944236555918,
          0.04579078773450007,
          0.04215411590560858,
          0.034190609270216,
          0.03492555831265509,
          0.039989504877145365,
          0.04013846153846157,
          0.0383069502844422,
          0.03356895913075675,
          0.03296863907796388,
          0.03602848764139088,
          0.03786662775426819,
          0.03602848764139088,
          0.029399403185810802,
          0.02775465168764757,
          0.015689546407277155,
          0.029045392243812085,
          0.030160810247970904,
          0.018884434586190824,
          0.03442580645161275,
          0.03293826651551057,
          0.03271298593879224,
          0.024794433902593283,
          0.018810222036028446,
          0.03369695080775037,
          0.03634836882918724,
          0.0358904991948471,
          0.026191152789618255,
          0.031213182900917347,
          0.029315960912052352,
          0.0348465792783359,
          0.040051530735151,
          0.032573289902280145,
          0.023990148045869186,
          0.03739254037439743,
          0.0329055713454276,
          0.02917341977309562,
          0.03692871359261751,
          0.02212991875120629,
          0.037271258706072286,
          0.04748598942300086,
          0.03802779963283487,
          0.04028375577873422,
          0.01361076048156129
         ],
         "y0": " ",
         "yaxis": "y2"
        },
        {
         "alignmentgroup": "True",
         "boxpoints": "all",
         "fillcolor": "rgba(255,255,255,0)",
         "hoveron": "points",
         "hovertemplate": "ma=2<br>theta=%{x}<br>diff=%{y}<extra></extra>",
         "legendgroup": "2",
         "line": {
          "color": "rgba(255,255,255,0)"
         },
         "marker": {
          "color": "#EF553B",
          "opacity": 0.5,
          "size": 5
         },
         "name": "2",
         "offsetgroup": "2",
         "orientation": "v",
         "pointpos": 0,
         "showlegend": true,
         "type": "box",
         "x": [
          "CSENT",
          "IPM",
          "HOUSE",
          "UNEMP",
          "LRIR",
          "CSENT",
          "IPM",
          "HOUSE",
          "UNEMP",
          "LRIR",
          "CSENT",
          "IPM",
          "HOUSE",
          "UNEMP",
          "LRIR",
          "CSENT",
          "IPM",
          "HOUSE",
          "UNEMP",
          "LRIR",
          "CSENT",
          "IPM",
          "HOUSE",
          "UNEMP",
          "LRIR",
          "CSENT",
          "IPM",
          "HOUSE",
          "UNEMP",
          "LRIR",
          "CSENT",
          "IPM",
          "HOUSE",
          "UNEMP",
          "LRIR",
          "CSENT",
          "IPM",
          "HOUSE",
          "UNEMP",
          "LRIR",
          "CSENT",
          "IPM",
          "HOUSE",
          "UNEMP",
          "LRIR",
          "CSENT",
          "IPM",
          "HOUSE",
          "UNEMP",
          "LRIR",
          "CSENT",
          "IPM",
          "HOUSE",
          "UNEMP",
          "LRIR",
          "CSENT",
          "IPM",
          "HOUSE",
          "UNEMP",
          "LRIR",
          "CSENT",
          "IPM",
          "HOUSE",
          "UNEMP",
          "LRIR",
          "CSENT",
          "IPM",
          "HOUSE",
          "UNEMP",
          "LRIR",
          "CSENT",
          "IPM",
          "HOUSE",
          "UNEMP",
          "LRIR",
          "CSENT",
          "IPM",
          "HOUSE",
          "UNEMP",
          "LRIR",
          "CSENT",
          "IPM",
          "HOUSE",
          "UNEMP",
          "LRIR",
          "CSENT",
          "IPM",
          "HOUSE",
          "UNEMP",
          "LRIR"
         ],
         "x0": " ",
         "xaxis": "x",
         "y": [
          0.05314009661835739,
          0.05555555555555547,
          0.050724637681159424,
          0.05555555555555547,
          0.05314009661835739,
          0.053268765133171914,
          0.05084745762711862,
          0.05084745762711862,
          0.0556900726392251,
          0.0556900726392251,
          0.05339805825242716,
          0.05582524271844658,
          0.05582524271844658,
          0.05339805825242716,
          0.050970873786407744,
          0.051094890510948954,
          0.05596107055961075,
          0.051094890510948954,
          0.05352798053527985,
          0.05352798053527985,
          0.051219512195122,
          0.056097560975609806,
          0.0536585365853659,
          0.056097560975609806,
          0.0536585365853659,
          0.05623471882640585,
          0.05867970660146693,
          0.05867970660146693,
          0.05867970660146693,
          0.05623471882640585,
          0.033816425120772986,
          0.036231884057971064,
          0.036231884057971064,
          0.0434782608695653,
          0.03140096618357491,
          0.03389830508474578,
          0.03874092009685226,
          0.03147699757869249,
          0.041162227602905554,
          0.029055690072639195,
          0.036407766990291246,
          0.03883495145631066,
          0.03398058252427183,
          0.03398058252427183,
          0.036407766990291246,
          0.04622871046228705,
          0.04622871046228705,
          0.04379562043795615,
          0.041362530413625254,
          0.041362530413625254,
          0.04146341463414627,
          0.04390243902439017,
          0.04390243902439017,
          0.04390243902439017,
          0.03170731707317076,
          0.044009779951100225,
          0.05134474327628358,
          0.046454767726161306,
          0.046454767726161306,
          0.03667481662591687,
          0.024154589371980673,
          0.024154589371980673,
          0.01449275362318847,
          0.04106280193236722,
          0.007246376811594235,
          0.03631961259079908,
          0.03147699757869249,
          0.03631961259079908,
          0.05084745762711862,
          0.026634382566586012,
          0.03398058252427183,
          0.03883495145631066,
          0.036407766990291246,
          0.036407766990291246,
          0.03398058252427183,
          0.03406326034063256,
          0.04379562043795615,
          0.03649635036496346,
          0.031630170316301665,
          0.03406326034063256,
          0.039024390243902474,
          0.04390243902439028,
          0.03658536585365857,
          0.024390243902439046,
          0.017073170731707332,
          0.039119804400978064,
          0.041564792176039145,
          0.04645476772616142,
          0.0488997555012225,
          0.02444987775061125
         ],
         "y0": " ",
         "yaxis": "y"
        },
        {
         "alignmentgroup": "True",
         "boxpoints": "all",
         "fillcolor": "rgba(255,255,255,0)",
         "hoveron": "points",
         "hovertemplate": "ma=2<br>theta=%{x}<br>diff=%{y}<extra></extra>",
         "legendgroup": "2",
         "line": {
          "color": "rgba(255,255,255,0)"
         },
         "marker": {
          "color": "#EF553B",
          "opacity": 0.5,
          "size": 5
         },
         "name": "2",
         "offsetgroup": "2",
         "orientation": "v",
         "pointpos": 0,
         "showlegend": false,
         "type": "box",
         "x": [
          "CSENT",
          "IPM",
          "HOUSE",
          "UNEMP",
          "LRIR",
          "CSENT",
          "IPM",
          "HOUSE",
          "UNEMP",
          "LRIR",
          "CSENT",
          "IPM",
          "HOUSE",
          "UNEMP",
          "LRIR",
          "CSENT",
          "IPM",
          "HOUSE",
          "UNEMP",
          "LRIR",
          "CSENT",
          "IPM",
          "HOUSE",
          "UNEMP",
          "LRIR",
          "CSENT",
          "IPM",
          "HOUSE",
          "UNEMP",
          "LRIR",
          "CSENT",
          "IPM",
          "HOUSE",
          "UNEMP",
          "LRIR",
          "CSENT",
          "IPM",
          "HOUSE",
          "UNEMP",
          "LRIR",
          "CSENT",
          "IPM",
          "HOUSE",
          "UNEMP",
          "LRIR",
          "CSENT",
          "IPM",
          "HOUSE",
          "UNEMP",
          "LRIR",
          "CSENT",
          "IPM",
          "HOUSE",
          "UNEMP",
          "LRIR",
          "CSENT",
          "IPM",
          "HOUSE",
          "UNEMP",
          "LRIR",
          "CSENT",
          "IPM",
          "HOUSE",
          "UNEMP",
          "LRIR",
          "CSENT",
          "IPM",
          "HOUSE",
          "UNEMP",
          "LRIR",
          "CSENT",
          "IPM",
          "HOUSE",
          "UNEMP",
          "LRIR",
          "CSENT",
          "IPM",
          "HOUSE",
          "UNEMP",
          "LRIR",
          "CSENT",
          "IPM",
          "HOUSE",
          "UNEMP",
          "LRIR",
          "CSENT",
          "IPM",
          "HOUSE",
          "UNEMP",
          "LRIR"
         ],
         "x0": " ",
         "xaxis": "x2",
         "y": [
          0.034132489845800085,
          0.0356876256101063,
          0.03257253941968463,
          0.0356876256101063,
          0.034132489845800085,
          0.034122904760193196,
          0.03256773945808433,
          0.03256773945808433,
          0.035673270169394256,
          0.035673270169394256,
          0.034287262243377636,
          0.03584727957690359,
          0.03584727957690359,
          0.034287262243377636,
          0.03272239260088272,
          0.03277103046738694,
          0.03589597000029077,
          0.03277103046738694,
          0.03433593020237147,
          0.03433593020237147,
          0.03287363067292659,
          0.03600836587541867,
          0.03444344346543826,
          0.03600836587541867,
          0.03444344346543826,
          0.03618566746390306,
          0.037755503144654146,
          0.037755503144654146,
          0.037755503144654146,
          0.03618566746390306,
          0.022081205179796726,
          0.023597092562609667,
          0.023597092562609667,
          0.028340986087465048,
          0.020244739487641827,
          0.022325226116695518,
          0.025558299772304283,
          0.020809500463038755,
          0.02690109189129941,
          0.019071786642783528,
          0.023876208511910746,
          0.025406301162001488,
          0.022350927473927307,
          0.022251727029509394,
          0.023781670566120794,
          0.03035761002998527,
          0.03035761002998527,
          0.028827824200001295,
          0.02697133251648054,
          0.02697133251648054,
          0.02774270392957745,
          0.02949855508974719,
          0.02938804675139084,
          0.029276834538267793,
          0.021246480715087834,
          0.02889245585874789,
          0.033877096805624674,
          0.030925628678437733,
          0.030559328312137257,
          0.024004789603257803,
          0.016263957644919946,
          0.01609305879018641,
          0.009059485630857123,
          0.026978994396860245,
          0.003558449424591048,
          0.023950043220364203,
          0.020626828332361624,
          0.023950043220364203,
          0.033522015381796444,
          0.016706287317858615,
          0.02251618350689555,
          0.02604745383493201,
          0.024196855775803217,
          0.02364740522635278,
          0.022139712918660348,
          0.02212950558213711,
          0.029237246498408975,
          0.024019951442009746,
          0.020220823910111374,
          0.02212950558213711,
          0.025723472668810254,
          0.029522600200708515,
          0.024221560440354506,
          0.015356829665511329,
          0.010357357592868599,
          0.025396325045641377,
          0.02800733192494098,
          0.031006342560607525,
          0.032105948057592704,
          0.015380277087445715
         ],
         "y0": " ",
         "yaxis": "y2"
        },
        {
         "alignmentgroup": "True",
         "boxpoints": "all",
         "fillcolor": "rgba(255,255,255,0)",
         "hoveron": "points",
         "hovertemplate": "ma=3<br>theta=%{x}<br>diff=%{y}<extra></extra>",
         "legendgroup": "3",
         "line": {
          "color": "rgba(255,255,255,0)"
         },
         "marker": {
          "color": "#00cc96",
          "opacity": 0.5,
          "size": 5
         },
         "name": "3",
         "offsetgroup": "3",
         "orientation": "v",
         "pointpos": 0,
         "showlegend": true,
         "type": "box",
         "x": [
          "CSENT",
          "IPM",
          "HOUSE",
          "UNEMP",
          "LRIR",
          "CSENT",
          "IPM",
          "HOUSE",
          "UNEMP",
          "LRIR",
          "CSENT",
          "IPM",
          "HOUSE",
          "UNEMP",
          "LRIR",
          "CSENT",
          "IPM",
          "HOUSE",
          "UNEMP",
          "LRIR",
          "CSENT",
          "IPM",
          "HOUSE",
          "UNEMP",
          "LRIR",
          "CSENT",
          "IPM",
          "HOUSE",
          "UNEMP",
          "LRIR",
          "CSENT",
          "IPM",
          "HOUSE",
          "UNEMP",
          "LRIR",
          "CSENT",
          "IPM",
          "HOUSE",
          "UNEMP",
          "LRIR",
          "CSENT",
          "IPM",
          "HOUSE",
          "UNEMP",
          "LRIR",
          "CSENT",
          "IPM",
          "HOUSE",
          "UNEMP",
          "LRIR",
          "CSENT",
          "IPM",
          "HOUSE",
          "UNEMP",
          "LRIR",
          "CSENT",
          "IPM",
          "HOUSE",
          "UNEMP",
          "LRIR",
          "CSENT",
          "IPM",
          "HOUSE",
          "UNEMP",
          "LRIR",
          "CSENT",
          "IPM",
          "HOUSE",
          "UNEMP",
          "LRIR",
          "CSENT",
          "IPM",
          "HOUSE",
          "UNEMP",
          "LRIR",
          "CSENT",
          "IPM",
          "HOUSE",
          "UNEMP",
          "LRIR",
          "CSENT",
          "IPM",
          "HOUSE",
          "UNEMP",
          "LRIR",
          "CSENT",
          "IPM",
          "HOUSE",
          "UNEMP",
          "LRIR"
         ],
         "x0": " ",
         "xaxis": "x",
         "y": [
          0.04842615012106544,
          0.053268765133171914,
          0.04600484261501214,
          0.053268765133171914,
          0.04842615012106544,
          0.04611650485436891,
          0.04854368932038833,
          0.04611650485436891,
          0.05339805825242716,
          0.050970873786407744,
          0.048661800486618056,
          0.04622871046228716,
          0.048661800486618056,
          0.051094890510948954,
          0.048661800486618056,
          0.04634146341463419,
          0.04878048780487809,
          0.051219512195122,
          0.04634146341463419,
          0.04634146341463419,
          0.041564792176039145,
          0.0488997555012225,
          0.04645476772616142,
          0.04645476772616142,
          0.04645476772616142,
          0.04166666666666674,
          0.04656862745098045,
          0.04656862745098045,
          0.05392156862745101,
          0.04656862745098045,
          0.021791767554479424,
          0.03874092009685237,
          0.03389830508474578,
          0.04842615012106544,
          0.03631961259079908,
          0.03155339805825241,
          0.03155339805825241,
          0.03398058252427183,
          0.03883495145631066,
          0.03155339805825241,
          0.029197080291970767,
          0.03406326034063267,
          0.024330900243308973,
          0.04622871046228716,
          0.02676399026763987,
          0.03170731707317065,
          0.03902439024390236,
          0.03414634146341455,
          0.03414634146341455,
          0.03658536585365846,
          0.03911980440097795,
          0.044009779951100225,
          0.044009779951100225,
          0.041564792176039034,
          0.0317848410757946,
          0.02450980392156865,
          0.026960784313725505,
          0.03676470588235303,
          0.03921568627450989,
          0.01715686274509809,
          0.029055690072639195,
          0.029055690072639195,
          0.026634382566586012,
          0.04358353510895885,
          0.014527845036319653,
          0.01941747572815533,
          0.02669902912621358,
          0.029126213592232997,
          0.036407766990291246,
          0.02669902912621358,
          0.02676399026763987,
          0.031630170316301665,
          0.03406326034063256,
          0.04379562043795615,
          0.021897810218978075,
          0.03658536585365857,
          0.03658536585365857,
          0.024390243902439046,
          0.029268292682926855,
          0.029268292682926855,
          0.041564792176039034,
          0.041564792176039034,
          0.03911980440097795,
          0.0317848410757946,
          0.019559902200488977,
          0.039215686274509776,
          0.04901960784313719,
          0.039215686274509776,
          0.04656862745098034,
          0.019607843137254832
         ],
         "y0": " ",
         "yaxis": "y"
        },
        {
         "alignmentgroup": "True",
         "boxpoints": "all",
         "fillcolor": "rgba(255,255,255,0)",
         "hoveron": "points",
         "hovertemplate": "ma=3<br>theta=%{x}<br>diff=%{y}<extra></extra>",
         "legendgroup": "3",
         "line": {
          "color": "rgba(255,255,255,0)"
         },
         "marker": {
          "color": "#00cc96",
          "opacity": 0.5,
          "size": 5
         },
         "name": "3",
         "offsetgroup": "3",
         "orientation": "v",
         "pointpos": 0,
         "showlegend": false,
         "type": "box",
         "x": [
          "CSENT",
          "IPM",
          "HOUSE",
          "UNEMP",
          "LRIR",
          "CSENT",
          "IPM",
          "HOUSE",
          "UNEMP",
          "LRIR",
          "CSENT",
          "IPM",
          "HOUSE",
          "UNEMP",
          "LRIR",
          "CSENT",
          "IPM",
          "HOUSE",
          "UNEMP",
          "LRIR",
          "CSENT",
          "IPM",
          "HOUSE",
          "UNEMP",
          "LRIR",
          "CSENT",
          "IPM",
          "HOUSE",
          "UNEMP",
          "LRIR",
          "CSENT",
          "IPM",
          "HOUSE",
          "UNEMP",
          "LRIR",
          "CSENT",
          "IPM",
          "HOUSE",
          "UNEMP",
          "LRIR",
          "CSENT",
          "IPM",
          "HOUSE",
          "UNEMP",
          "LRIR",
          "CSENT",
          "IPM",
          "HOUSE",
          "UNEMP",
          "LRIR",
          "CSENT",
          "IPM",
          "HOUSE",
          "UNEMP",
          "LRIR",
          "CSENT",
          "IPM",
          "HOUSE",
          "UNEMP",
          "LRIR",
          "CSENT",
          "IPM",
          "HOUSE",
          "UNEMP",
          "LRIR",
          "CSENT",
          "IPM",
          "HOUSE",
          "UNEMP",
          "LRIR",
          "CSENT",
          "IPM",
          "HOUSE",
          "UNEMP",
          "LRIR",
          "CSENT",
          "IPM",
          "HOUSE",
          "UNEMP",
          "LRIR",
          "CSENT",
          "IPM",
          "HOUSE",
          "UNEMP",
          "LRIR",
          "CSENT",
          "IPM",
          "HOUSE",
          "UNEMP",
          "LRIR"
         ],
         "x0": " ",
         "xaxis": "x2",
         "y": [
          0.03041355807313262,
          0.033453016097484856,
          0.02888691071947458,
          0.033453016097484856,
          0.03041355807313262,
          0.028975015777555013,
          0.0305063384980353,
          0.028975015777555013,
          0.03355506282335541,
          0.03203301380510004,
          0.030548293771131885,
          0.02901694284118428,
          0.030548293771131885,
          0.03207499013898241,
          0.030548293771131885,
          0.029105844116311008,
          0.03064189939562567,
          0.0321732715795765,
          0.029105844116311008,
          0.029105844116311008,
          0.02606183973688425,
          0.0306842273128084,
          0.029148150583902632,
          0.029148150583902632,
          0.029148150583902632,
          0.026141993599620772,
          0.029237858915278303,
          0.029237858915278303,
          0.03384615384615386,
          0.029237858915278303,
          0.014008717163387807,
          0.024765937426487805,
          0.021538461538461395,
          0.03099368716389994,
          0.02311709795580752,
          0.02015843156531516,
          0.020073485836197724,
          0.02165212225354385,
          0.024724318874127404,
          0.019988015750727728,
          0.018695709476055256,
          0.021867870665663314,
          0.015604519367863667,
          0.029600477042337592,
          0.01710226318189456,
          0.0202030511126986,
          0.025076434902539302,
          0.021980459670341235,
          0.021893926201118297,
          0.023487647612837614,
          0.025176332288401215,
          0.02838894911083112,
          0.02838894911083112,
          0.02678514664097531,
          0.020319581895936634,
          0.01584156463792119,
          0.017689290569950278,
          0.02381793384942954,
          0.02533411949685549,
          0.010939434457485353,
          0.01912074676302311,
          0.01851851851851849,
          0.01641917528552983,
          0.028023933954404168,
          0.007964326050550974,
          0.013072363847460355,
          0.01775133814844143,
          0.01907947865719961,
          0.02364015129696828,
          0.016888608087091694,
          0.017189416844565986,
          0.020295006906677737,
          0.02192243239659053,
          0.027993779160186638,
          0.013380674315560892,
          0.023939122737520635,
          0.024093918503856337,
          0.01588038610171394,
          0.018665249261424766,
          0.018665249261424766,
          0.027023424579764588,
          0.027355459072288868,
          0.025196850393700898,
          0.020188378351440384,
          0.012169160312964,
          0.02554184411012872,
          0.03251160157341304,
          0.025725944320351357,
          0.030702124805627617,
          0.01199366085578446
         ],
         "y0": " ",
         "yaxis": "y2"
        },
        {
         "alignmentgroup": "True",
         "boxpoints": "all",
         "fillcolor": "rgba(255,255,255,0)",
         "hoveron": "points",
         "hovertemplate": "ma=4<br>theta=%{x}<br>diff=%{y}<extra></extra>",
         "legendgroup": "4",
         "line": {
          "color": "rgba(255,255,255,0)"
         },
         "marker": {
          "color": "#ab63fa",
          "opacity": 0.5,
          "size": 5
         },
         "name": "4",
         "offsetgroup": "4",
         "orientation": "v",
         "pointpos": 0,
         "showlegend": true,
         "type": "box",
         "x": [
          "CSENT",
          "IPM",
          "HOUSE",
          "UNEMP",
          "LRIR",
          "CSENT",
          "IPM",
          "HOUSE",
          "UNEMP",
          "LRIR",
          "CSENT",
          "IPM",
          "HOUSE",
          "UNEMP",
          "LRIR",
          "CSENT",
          "IPM",
          "HOUSE",
          "UNEMP",
          "LRIR",
          "CSENT",
          "IPM",
          "HOUSE",
          "UNEMP",
          "LRIR",
          "CSENT",
          "IPM",
          "HOUSE",
          "UNEMP",
          "LRIR",
          "CSENT",
          "IPM",
          "HOUSE",
          "UNEMP",
          "LRIR",
          "CSENT",
          "IPM",
          "HOUSE",
          "UNEMP",
          "LRIR",
          "CSENT",
          "IPM",
          "HOUSE",
          "UNEMP",
          "LRIR",
          "CSENT",
          "IPM",
          "HOUSE",
          "UNEMP",
          "LRIR",
          "CSENT",
          "IPM",
          "HOUSE",
          "UNEMP",
          "LRIR",
          "CSENT",
          "IPM",
          "HOUSE",
          "UNEMP",
          "LRIR",
          "CSENT",
          "IPM",
          "HOUSE",
          "UNEMP",
          "LRIR",
          "CSENT",
          "IPM",
          "HOUSE",
          "UNEMP",
          "LRIR",
          "CSENT",
          "IPM",
          "HOUSE",
          "UNEMP",
          "LRIR",
          "CSENT",
          "IPM",
          "HOUSE",
          "UNEMP",
          "LRIR",
          "CSENT",
          "IPM",
          "HOUSE",
          "UNEMP",
          "LRIR",
          "CSENT",
          "IPM",
          "HOUSE",
          "UNEMP",
          "LRIR"
         ],
         "x0": " ",
         "xaxis": "x",
         "y": [
          0.03883495145631066,
          0.03883495145631066,
          0.04126213592233008,
          0.04611650485436891,
          0.036407766990291246,
          0.04379562043795626,
          0.04379562043795626,
          0.03892944038929447,
          0.048661800486618056,
          0.041362530413625365,
          0.03658536585365857,
          0.034146341463414664,
          0.03170731707317076,
          0.04634146341463419,
          0.039024390243902474,
          0.044009779951100225,
          0.044009779951100225,
          0.04645476772616142,
          0.044009779951100225,
          0.044009779951100225,
          0.03676470588235303,
          0.044117647058823595,
          0.04166666666666674,
          0.04166666666666674,
          0.04166666666666674,
          0.03685503685503677,
          0.04422604422604415,
          0.041769041769041726,
          0.04668304668304668,
          0.04422604422604415,
          0.014563106796116498,
          0.02669902912621358,
          0.03155339805825241,
          0.04126213592233008,
          0.024271844660194164,
          0.021897810218978186,
          0.024330900243309084,
          0.021897810218978186,
          0.02919708029197088,
          0.02676399026763998,
          0.024390243902438935,
          0.024390243902438935,
          0.019512195121951126,
          0.03414634146341455,
          0.029268292682926744,
          0.02444987775061125,
          0.02444987775061125,
          0.02444987775061125,
          0.03667481662591687,
          0.02933985330073352,
          0.03676470588235292,
          0.03431372549019607,
          0.03676470588235292,
          0.03431372549019607,
          0.03676470588235292,
          0.029484029484029506,
          0.03194103194103193,
          0.03685503685503688,
          0.03685503685503688,
          0.029484029484029506,
          0.016990291262135915,
          0.016990291262135915,
          0.021844660194174748,
          0.04126213592233008,
          0.014563106796116498,
          0.01703163017031628,
          0.012165450121654486,
          0.019464720194647178,
          0.029197080291970767,
          0.014598540145985384,
          0.029268292682926855,
          0.02682926829268295,
          0.024390243902439046,
          0.04878048780487798,
          0.02195121951219514,
          0.0317848410757946,
          0.03422982885085568,
          0.02689486552567233,
          0.044009779951100225,
          0.02689486552567233,
          0.039215686274509776,
          0.039215686274509776,
          0.03431372549019607,
          0.03431372549019607,
          0.02941176470588236,
          0.03685503685503688,
          0.03439803439803446,
          0.03439803439803446,
          0.039312039312039304,
          0.014742014742014753
         ],
         "y0": " ",
         "yaxis": "y"
        },
        {
         "alignmentgroup": "True",
         "boxpoints": "all",
         "fillcolor": "rgba(255,255,255,0)",
         "hoveron": "points",
         "hovertemplate": "ma=4<br>theta=%{x}<br>diff=%{y}<extra></extra>",
         "legendgroup": "4",
         "line": {
          "color": "rgba(255,255,255,0)"
         },
         "marker": {
          "color": "#ab63fa",
          "opacity": 0.5,
          "size": 5
         },
         "name": "4",
         "offsetgroup": "4",
         "orientation": "v",
         "pointpos": 0,
         "showlegend": false,
         "type": "box",
         "x": [
          "CSENT",
          "IPM",
          "HOUSE",
          "UNEMP",
          "LRIR",
          "CSENT",
          "IPM",
          "HOUSE",
          "UNEMP",
          "LRIR",
          "CSENT",
          "IPM",
          "HOUSE",
          "UNEMP",
          "LRIR",
          "CSENT",
          "IPM",
          "HOUSE",
          "UNEMP",
          "LRIR",
          "CSENT",
          "IPM",
          "HOUSE",
          "UNEMP",
          "LRIR",
          "CSENT",
          "IPM",
          "HOUSE",
          "UNEMP",
          "LRIR",
          "CSENT",
          "IPM",
          "HOUSE",
          "UNEMP",
          "LRIR",
          "CSENT",
          "IPM",
          "HOUSE",
          "UNEMP",
          "LRIR",
          "CSENT",
          "IPM",
          "HOUSE",
          "UNEMP",
          "LRIR",
          "CSENT",
          "IPM",
          "HOUSE",
          "UNEMP",
          "LRIR",
          "CSENT",
          "IPM",
          "HOUSE",
          "UNEMP",
          "LRIR",
          "CSENT",
          "IPM",
          "HOUSE",
          "UNEMP",
          "LRIR",
          "CSENT",
          "IPM",
          "HOUSE",
          "UNEMP",
          "LRIR",
          "CSENT",
          "IPM",
          "HOUSE",
          "UNEMP",
          "LRIR",
          "CSENT",
          "IPM",
          "HOUSE",
          "UNEMP",
          "LRIR",
          "CSENT",
          "IPM",
          "HOUSE",
          "UNEMP",
          "LRIR",
          "CSENT",
          "IPM",
          "HOUSE",
          "UNEMP",
          "LRIR",
          "CSENT",
          "IPM",
          "HOUSE",
          "UNEMP",
          "LRIR"
         ],
         "x0": " ",
         "xaxis": "x2",
         "y": [
          0.02442748091603053,
          0.02442748091603053,
          0.025963507726680435,
          0.029021555024478563,
          0.022886756775684525,
          0.0276261233372731,
          0.0276261233372731,
          0.024539877300613466,
          0.030693550800538594,
          0.026085363447608367,
          0.022961508469639957,
          0.021415986243333962,
          0.01986570856402403,
          0.029096477794793296,
          0.024502297090352343,
          0.02779677113010459,
          0.02779677113010459,
          0.0293423223530751,
          0.02779677113010459,
          0.02779677113010459,
          0.023136222260385142,
          0.027787274453941135,
          0.02624170138294435,
          0.02624170138294435,
          0.02624170138294435,
          0.02320781433748531,
          0.027873332568895015,
          0.026322967159693955,
          0.029418920272674787,
          0.027873332568895015,
          0.00949749940462008,
          0.017068537331144884,
          0.020231172511174456,
          0.026498324001156814,
          0.015479876160990558,
          0.01395328868280965,
          0.015292497253744375,
          0.013867289370804059,
          0.018547140649149974,
          0.01688634596369276,
          0.01566339660610294,
          0.01574993007532588,
          0.01255780654399119,
          0.021941880539722125,
          0.018768986668214693,
          0.015742225933168652,
          0.015834422467064346,
          0.015742225933168652,
          0.02357655799804015,
          0.018862350738160893,
          0.023587250188235487,
          0.022061551236601584,
          0.0237435017141292,
          0.022061551236601584,
          0.023587250188235487,
          0.019284949009959806,
          0.020898952080980915,
          0.02394531327623539,
          0.024028842534814965,
          0.01908717006748395,
          0.011489412609163807,
          0.010624027993779372,
          0.013414908496923839,
          0.02662634997520341,
          0.008050498582014676,
          0.011461553323029339,
          0.007892940717628694,
          0.012499999999999845,
          0.01900232919254652,
          0.00890181388012612,
          0.019141990169402767,
          0.017503924646781854,
          0.01586073215851891,
          0.0316224893893714,
          0.013706456292351454,
          0.021141617638319343,
          0.022628070314669957,
          0.017666699890361737,
          0.028620772271692574,
          0.017140930953291278,
          0.025737319112713486,
          0.025905959868224082,
          0.02258274498022128,
          0.02240305404862364,
          0.018662203965718382,
          0.023973955221613608,
          0.022655809078448885,
          0.02247497725204739,
          0.025649580426650664,
          0.009105013882083957
         ],
         "y0": " ",
         "yaxis": "y2"
        },
        {
         "alignmentgroup": "True",
         "boxpoints": "all",
         "fillcolor": "rgba(255,255,255,0)",
         "hoveron": "points",
         "hovertemplate": "ma=5<br>theta=%{x}<br>diff=%{y}<extra></extra>",
         "legendgroup": "5",
         "line": {
          "color": "rgba(255,255,255,0)"
         },
         "marker": {
          "color": "#FFA15A",
          "opacity": 0.5,
          "size": 5
         },
         "name": "5",
         "offsetgroup": "5",
         "orientation": "v",
         "pointpos": 0,
         "showlegend": true,
         "type": "box",
         "x": [
          "CSENT",
          "IPM",
          "HOUSE",
          "UNEMP",
          "LRIR",
          "CSENT",
          "IPM",
          "HOUSE",
          "UNEMP",
          "LRIR",
          "CSENT",
          "IPM",
          "HOUSE",
          "UNEMP",
          "LRIR",
          "CSENT",
          "IPM",
          "HOUSE",
          "UNEMP",
          "LRIR",
          "CSENT",
          "IPM",
          "HOUSE",
          "UNEMP",
          "LRIR",
          "CSENT",
          "IPM",
          "HOUSE",
          "UNEMP",
          "LRIR",
          "CSENT",
          "IPM",
          "HOUSE",
          "UNEMP",
          "LRIR",
          "CSENT",
          "IPM",
          "HOUSE",
          "UNEMP",
          "LRIR",
          "CSENT",
          "IPM",
          "HOUSE",
          "UNEMP",
          "LRIR",
          "CSENT",
          "IPM",
          "HOUSE",
          "UNEMP",
          "LRIR",
          "CSENT",
          "IPM",
          "HOUSE",
          "UNEMP",
          "LRIR",
          "CSENT",
          "IPM",
          "HOUSE",
          "UNEMP",
          "LRIR",
          "CSENT",
          "IPM",
          "HOUSE",
          "UNEMP",
          "LRIR",
          "CSENT",
          "IPM",
          "HOUSE",
          "UNEMP",
          "LRIR",
          "CSENT",
          "IPM",
          "HOUSE",
          "UNEMP",
          "LRIR",
          "CSENT",
          "IPM",
          "HOUSE",
          "UNEMP",
          "LRIR",
          "CSENT",
          "IPM",
          "HOUSE",
          "UNEMP",
          "LRIR",
          "CSENT",
          "IPM",
          "HOUSE",
          "UNEMP",
          "LRIR"
         ],
         "x0": " ",
         "xaxis": "x",
         "y": [
          0.031630170316301665,
          0.03649635036496346,
          0.031630170316301665,
          0.038929440389294356,
          0.03649635036496346,
          0.03170731707317076,
          0.034146341463414664,
          0.03170731707317076,
          0.03658536585365857,
          0.029268292682926855,
          0.03422982885085579,
          0.03667481662591687,
          0.0317848410757946,
          0.03667481662591687,
          0.03667481662591687,
          0.031862745098039214,
          0.031862745098039214,
          0.02941176470588236,
          0.03431372549019607,
          0.02941176470588236,
          0.03439803439803435,
          0.039312039312039304,
          0.03439803439803435,
          0.03685503685503677,
          0.03685503685503677,
          0.029556650246305383,
          0.03448275862068961,
          0.03201970443349744,
          0.03694581280788167,
          0.03201970443349744,
          0.02676399026763998,
          0.031630170316301776,
          0.031630170316301776,
          0.041362530413625365,
          0.03406326034063267,
          0.02195121951219514,
          0.029268292682926855,
          0.03170731707317076,
          0.03658536585365857,
          0.034146341463414664,
          0.022004889975550168,
          0.022004889975550168,
          0.02689486552567244,
          0.03178484107579471,
          0.02689486552567244,
          0.026960784313725505,
          0.026960784313725505,
          0.022058823529411797,
          0.03431372549019607,
          0.02941176470588236,
          0.027027027027027084,
          0.03439803439803446,
          0.03439803439803446,
          0.03439803439803446,
          0.03194103194103204,
          0.029556650246305494,
          0.029556650246305494,
          0.034482758620689724,
          0.036945812807881784,
          0.03201970443349755,
          0.009732360097323589,
          0.014598540145985384,
          0.014598540145985384,
          0.031630170316301665,
          0.009732360097323589,
          0.014634146341463428,
          0.017073170731707332,
          0.024390243902438935,
          0.03170731707317065,
          0.012195121951219523,
          0.012224938875305624,
          0.012224938875305624,
          0.02933985330073352,
          0.03178484107579471,
          0.017114914425427896,
          0.02450980392156865,
          0.02450980392156865,
          0.022058823529411797,
          0.039215686274509776,
          0.022058823529411797,
          0.027027027027026973,
          0.03194103194103193,
          0.02211302211302202,
          0.027027027027026973,
          0.02211302211302202,
          0.034482758620689724,
          0.034482758620689724,
          0.036945812807881784,
          0.03201970443349755,
          0.024630541871921263
         ],
         "y0": " ",
         "yaxis": "y"
        },
        {
         "alignmentgroup": "True",
         "boxpoints": "all",
         "fillcolor": "rgba(255,255,255,0)",
         "hoveron": "points",
         "hovertemplate": "ma=5<br>theta=%{x}<br>diff=%{y}<extra></extra>",
         "legendgroup": "5",
         "line": {
          "color": "rgba(255,255,255,0)"
         },
         "marker": {
          "color": "#FFA15A",
          "opacity": 0.5,
          "size": 5
         },
         "name": "5",
         "offsetgroup": "5",
         "orientation": "v",
         "pointpos": 0,
         "showlegend": false,
         "type": "box",
         "x": [
          "CSENT",
          "IPM",
          "HOUSE",
          "UNEMP",
          "LRIR",
          "CSENT",
          "IPM",
          "HOUSE",
          "UNEMP",
          "LRIR",
          "CSENT",
          "IPM",
          "HOUSE",
          "UNEMP",
          "LRIR",
          "CSENT",
          "IPM",
          "HOUSE",
          "UNEMP",
          "LRIR",
          "CSENT",
          "IPM",
          "HOUSE",
          "UNEMP",
          "LRIR",
          "CSENT",
          "IPM",
          "HOUSE",
          "UNEMP",
          "LRIR",
          "CSENT",
          "IPM",
          "HOUSE",
          "UNEMP",
          "LRIR",
          "CSENT",
          "IPM",
          "HOUSE",
          "UNEMP",
          "LRIR",
          "CSENT",
          "IPM",
          "HOUSE",
          "UNEMP",
          "LRIR",
          "CSENT",
          "IPM",
          "HOUSE",
          "UNEMP",
          "LRIR",
          "CSENT",
          "IPM",
          "HOUSE",
          "UNEMP",
          "LRIR",
          "CSENT",
          "IPM",
          "HOUSE",
          "UNEMP",
          "LRIR",
          "CSENT",
          "IPM",
          "HOUSE",
          "UNEMP",
          "LRIR",
          "CSENT",
          "IPM",
          "HOUSE",
          "UNEMP",
          "LRIR",
          "CSENT",
          "IPM",
          "HOUSE",
          "UNEMP",
          "LRIR",
          "CSENT",
          "IPM",
          "HOUSE",
          "UNEMP",
          "LRIR",
          "CSENT",
          "IPM",
          "HOUSE",
          "UNEMP",
          "LRIR",
          "CSENT",
          "IPM",
          "HOUSE",
          "UNEMP",
          "LRIR"
         ],
         "x0": " ",
         "xaxis": "x2",
         "y": [
          0.01967631209693277,
          0.02270655997666926,
          0.01967631209693277,
          0.024214848770944042,
          0.02270655997666926,
          0.019703846330170083,
          0.021221276206170425,
          0.019703846330170083,
          0.022734128616481497,
          0.018181818181818188,
          0.02132283821019343,
          0.022844887228448796,
          0.01979616290312869,
          0.022844887228448796,
          0.022844887228448796,
          0.019791536550498923,
          0.019791536550498923,
          0.0182648401826484,
          0.02131359954545753,
          0.0182648401826484,
          0.02145353798674343,
          0.024511620643278498,
          0.02145353798674343,
          0.02298491017069426,
          0.02298491017069426,
          0.018404907975460127,
          0.02148177332507828,
          0.019945696596172513,
          0.02301315974336149,
          0.019945696596172513,
          0.016872386098671255,
          0.019847236143594404,
          0.019847236143594404,
          0.02597709019578831,
          0.021341463414634165,
          0.013935487463629825,
          0.018404564779592736,
          0.019903354576650933,
          0.022998617569435775,
          0.021453345267397728,
          0.013909052592141702,
          0.013838912428715044,
          0.016901699565009087,
          0.01996448670130324,
          0.016901699565009087,
          0.01698233969420415,
          0.017048408594628972,
          0.013905416617281174,
          0.02162371981945521,
          0.018551523198871656,
          0.017169107091587588,
          0.021829648475292895,
          0.021829648475292895,
          0.0217677294130334,
          0.02025552684467402,
          0.018759311932818545,
          0.018826615742214226,
          0.02197992384908276,
          0.023444178801709792,
          0.020343403607911315,
          0.006290240247657675,
          0.009353027383951718,
          0.008941184291435977,
          0.020124297129328172,
          0.005250138825786288,
          0.009464312434535382,
          0.010672584885923597,
          0.015110202226766734,
          0.019987974332716374,
          0.006905429591416823,
          0.008248180057436882,
          0.008248180057436882,
          0.018948877209746917,
          0.02053696653977166,
          0.010804362315620764,
          0.015479876160990669,
          0.015479876160990669,
          0.013722440764797339,
          0.024872912127814062,
          0.013581719739377829,
          0.017689210598991312,
          0.020660193042311814,
          0.01415786384976514,
          0.017282863849765295,
          0.014010920276097516,
          0.02205083508504646,
          0.02219155611046597,
          0.023542644757433395,
          0.020270701183765727,
          0.015324140820425547
         ],
         "y0": " ",
         "yaxis": "y2"
        },
        {
         "alignmentgroup": "True",
         "boxpoints": "all",
         "fillcolor": "rgba(255,255,255,0)",
         "hoveron": "points",
         "hovertemplate": "ma=6<br>theta=%{x}<br>diff=%{y}<extra></extra>",
         "legendgroup": "6",
         "line": {
          "color": "rgba(255,255,255,0)"
         },
         "marker": {
          "color": "#19d3f3",
          "opacity": 0.5,
          "size": 5
         },
         "name": "6",
         "offsetgroup": "6",
         "orientation": "v",
         "pointpos": 0,
         "showlegend": true,
         "type": "box",
         "x": [
          "CSENT",
          "IPM",
          "HOUSE",
          "UNEMP",
          "LRIR",
          "CSENT",
          "IPM",
          "HOUSE",
          "UNEMP",
          "LRIR",
          "CSENT",
          "IPM",
          "HOUSE",
          "UNEMP",
          "LRIR",
          "CSENT",
          "IPM",
          "HOUSE",
          "UNEMP",
          "LRIR",
          "CSENT",
          "IPM",
          "HOUSE",
          "UNEMP",
          "LRIR",
          "CSENT",
          "IPM",
          "HOUSE",
          "UNEMP",
          "LRIR",
          "CSENT",
          "IPM",
          "HOUSE",
          "UNEMP",
          "LRIR",
          "CSENT",
          "IPM",
          "HOUSE",
          "UNEMP",
          "LRIR",
          "CSENT",
          "IPM",
          "HOUSE",
          "UNEMP",
          "LRIR",
          "CSENT",
          "IPM",
          "HOUSE",
          "UNEMP",
          "LRIR",
          "CSENT",
          "IPM",
          "HOUSE",
          "UNEMP",
          "LRIR",
          "CSENT",
          "IPM",
          "HOUSE",
          "UNEMP",
          "LRIR",
          "CSENT",
          "IPM",
          "HOUSE",
          "UNEMP",
          "LRIR",
          "CSENT",
          "IPM",
          "HOUSE",
          "UNEMP",
          "LRIR",
          "CSENT",
          "IPM",
          "HOUSE",
          "UNEMP",
          "LRIR",
          "CSENT",
          "IPM",
          "HOUSE",
          "UNEMP",
          "LRIR",
          "CSENT",
          "IPM",
          "HOUSE",
          "UNEMP",
          "LRIR",
          "CSENT",
          "IPM",
          "HOUSE",
          "UNEMP",
          "LRIR"
         ],
         "x0": " ",
         "xaxis": "x",
         "y": [
          0.03658536585365857,
          0.039024390243902474,
          0.03658536585365857,
          0.039024390243902474,
          0.03658536585365857,
          0.03422982885085579,
          0.039119804400978064,
          0.03422982885085579,
          0.039119804400978064,
          0.03422982885085579,
          0.031862745098039214,
          0.03431372549019607,
          0.031862745098039214,
          0.03676470588235292,
          0.031862745098039214,
          0.03194103194103193,
          0.03194103194103193,
          0.027027027027027084,
          0.03439803439803446,
          0.03194103194103193,
          0.03201970443349744,
          0.03448275862068961,
          0.03201970443349744,
          0.03448275862068961,
          0.029556650246305383,
          0.032098765432098775,
          0.03950617283950619,
          0.03456790123456788,
          0.03703703703703698,
          0.03703703703703698,
          0.019512195121951237,
          0.029268292682926855,
          0.029268292682926855,
          0.03658536585365857,
          0.024390243902439046,
          0.02689486552567233,
          0.03422982885085579,
          0.03422982885085579,
          0.041564792176039145,
          0.03667481662591687,
          0.022058823529411797,
          0.02941176470588236,
          0.02450980392156865,
          0.031862745098039214,
          0.02941176470588236,
          0.02457002457002455,
          0.029484029484029506,
          0.02457002457002455,
          0.03439803439803446,
          0.029484029484029506,
          0.027093596059113323,
          0.027093596059113323,
          0.027093596059113323,
          0.029556650246305494,
          0.029556650246305494,
          0.02716049382716046,
          0.022222222222222254,
          0.032098765432098775,
          0.029629629629629672,
          0.029629629629629672,
          0.017073170731707332,
          0.017073170731707332,
          0.029268292682926744,
          0.03658536585365846,
          0.012195121951219523,
          0.012224938875305624,
          0.012224938875305624,
          0.017114914425427896,
          0.02689486552567233,
          0.009779951100244544,
          0.019607843137254943,
          0.022058823529411797,
          0.03431372549019618,
          0.03431372549019618,
          0.031862745098039214,
          0.0073710073710073765,
          0.004914004914004955,
          0.012285012285012331,
          0.027027027027027084,
          0.00982800982800991,
          0.022167487684729092,
          0.027093596059113323,
          0.027093596059113323,
          0.024630541871921152,
          0.024630541871921152,
          0.024691358024691357,
          0.029629629629629672,
          0.022222222222222254,
          0.024691358024691357,
          0.01728395061728394
         ],
         "y0": " ",
         "yaxis": "y"
        },
        {
         "alignmentgroup": "True",
         "boxpoints": "all",
         "fillcolor": "rgba(255,255,255,0)",
         "hoveron": "points",
         "hovertemplate": "ma=6<br>theta=%{x}<br>diff=%{y}<extra></extra>",
         "legendgroup": "6",
         "line": {
          "color": "rgba(255,255,255,0)"
         },
         "marker": {
          "color": "#19d3f3",
          "opacity": 0.5,
          "size": 5
         },
         "name": "6",
         "offsetgroup": "6",
         "orientation": "v",
         "pointpos": 0,
         "showlegend": false,
         "type": "box",
         "x": [
          "CSENT",
          "IPM",
          "HOUSE",
          "UNEMP",
          "LRIR",
          "CSENT",
          "IPM",
          "HOUSE",
          "UNEMP",
          "LRIR",
          "CSENT",
          "IPM",
          "HOUSE",
          "UNEMP",
          "LRIR",
          "CSENT",
          "IPM",
          "HOUSE",
          "UNEMP",
          "LRIR",
          "CSENT",
          "IPM",
          "HOUSE",
          "UNEMP",
          "LRIR",
          "CSENT",
          "IPM",
          "HOUSE",
          "UNEMP",
          "LRIR",
          "CSENT",
          "IPM",
          "HOUSE",
          "UNEMP",
          "LRIR",
          "CSENT",
          "IPM",
          "HOUSE",
          "UNEMP",
          "LRIR",
          "CSENT",
          "IPM",
          "HOUSE",
          "UNEMP",
          "LRIR",
          "CSENT",
          "IPM",
          "HOUSE",
          "UNEMP",
          "LRIR",
          "CSENT",
          "IPM",
          "HOUSE",
          "UNEMP",
          "LRIR",
          "CSENT",
          "IPM",
          "HOUSE",
          "UNEMP",
          "LRIR",
          "CSENT",
          "IPM",
          "HOUSE",
          "UNEMP",
          "LRIR",
          "CSENT",
          "IPM",
          "HOUSE",
          "UNEMP",
          "LRIR",
          "CSENT",
          "IPM",
          "HOUSE",
          "UNEMP",
          "LRIR",
          "CSENT",
          "IPM",
          "HOUSE",
          "UNEMP",
          "LRIR",
          "CSENT",
          "IPM",
          "HOUSE",
          "UNEMP",
          "LRIR",
          "CSENT",
          "IPM",
          "HOUSE",
          "UNEMP",
          "LRIR"
         ],
         "x0": " ",
         "xaxis": "x2",
         "y": [
          0.02261068261050203,
          0.02411442175889178,
          0.02261068261050203,
          0.02411442175889178,
          0.02261068261050203,
          0.02112974744553686,
          0.024141775266213084,
          0.02112974744553686,
          0.024141775266213084,
          0.02112974744553686,
          0.019644297412201972,
          0.02115713609725911,
          0.019644297412201972,
          0.022665424891533892,
          0.019644297412201972,
          0.01967174152501705,
          0.01967174152501705,
          0.016632283500664813,
          0.021184593935328122,
          0.01967174152501705,
          0.019763757373933988,
          0.021285806392189355,
          0.019763757373933988,
          0.021285806392189355,
          0.018237082066869248,
          0.019856637497672858,
          0.02443674779042959,
          0.021387988427620463,
          0.022914684795470985,
          0.022914684795470985,
          0.012377778591569855,
          0.01829234595192042,
          0.018237082066869137,
          0.02289950350025438,
          0.01513270071910433,
          0.01678823081754388,
          0.02124430955993939,
          0.021294814726388278,
          0.025851674926305135,
          0.022784751919805002,
          0.01379548913795492,
          0.01826484018264829,
          0.015220700152207,
          0.019810041961018432,
          0.01826484018264829,
          0.015384075844896872,
          0.01849792900580627,
          0.015313935681470214,
          0.021490946073904338,
          0.018437510959400716,
          0.017029096477794714,
          0.017029096477794714,
          0.017029096477794714,
          0.018461538461538418,
          0.018527607361963017,
          0.01701097605052393,
          0.014009785515161854,
          0.0201541787563293,
          0.01851851851851849,
          0.018584995251661796,
          0.011010872079574408,
          0.010752187674548552,
          0.018320610687022842,
          0.02303997772570132,
          0.0069954860208445435,
          0.00791022471495506,
          0.007679956936555654,
          0.010617203500279282,
          0.01698738053946336,
          0.005484029298497228,
          0.012484237368334039,
          0.013838740042429465,
          0.021528354161065133,
          0.021528354161065133,
          0.019766756979620714,
          0.004932472108044705,
          0.003209060877772618,
          0.007751388396549874,
          0.01714621256605986,
          0.006030389363722688,
          0.013953090224276599,
          0.01715309779825902,
          0.017034754322890033,
          0.015307877536979708,
          0.015307877536979708,
          0.016074766355140158,
          0.019151689432063246,
          0.014214301238861138,
          0.015702095547686756,
          0.010973677708172924
         ],
         "y0": " ",
         "yaxis": "y2"
        }
       ],
       "layout": {
        "annotations": [
         {
          "font": {
           "color": "grey",
           "size": 11
          },
          "showarrow": false,
          "text": "Acc",
          "x": 0.225,
          "xanchor": "center",
          "xref": "paper",
          "y": 0.95,
          "yanchor": "bottom",
          "yref": "paper"
         },
         {
          "font": {
           "color": "grey",
           "size": 11
          },
          "showarrow": false,
          "text": "F1",
          "x": 0.775,
          "xanchor": "center",
          "xref": "paper",
          "y": 0.95,
          "yanchor": "bottom",
          "yref": "paper"
         }
        ],
        "height": 400,
        "legend": {
         "orientation": "h",
         "title": {
          "text": "Moving Averages:"
         },
         "x": 0.5,
         "xanchor": "center",
         "y": -0.1,
         "yanchor": "top"
        },
        "margin": {
         "b": 60,
         "l": 80,
         "r": 40,
         "t": 80
        },
        "template": {
         "data": {
          "bar": [
           {
            "error_x": {
             "color": "#f2f5fa"
            },
            "error_y": {
             "color": "#f2f5fa"
            },
            "marker": {
             "line": {
              "color": "rgb(17,17,17)",
              "width": 0.5
             },
             "pattern": {
              "fillmode": "overlay",
              "size": 10,
              "solidity": 0.2
             }
            },
            "type": "bar"
           }
          ],
          "barpolar": [
           {
            "marker": {
             "line": {
              "color": "rgb(17,17,17)",
              "width": 0.5
             },
             "pattern": {
              "fillmode": "overlay",
              "size": 10,
              "solidity": 0.2
             }
            },
            "type": "barpolar"
           }
          ],
          "carpet": [
           {
            "aaxis": {
             "endlinecolor": "#A2B1C6",
             "gridcolor": "#506784",
             "linecolor": "#506784",
             "minorgridcolor": "#506784",
             "startlinecolor": "#A2B1C6"
            },
            "baxis": {
             "endlinecolor": "#A2B1C6",
             "gridcolor": "#506784",
             "linecolor": "#506784",
             "minorgridcolor": "#506784",
             "startlinecolor": "#A2B1C6"
            },
            "type": "carpet"
           }
          ],
          "choropleth": [
           {
            "colorbar": {
             "outlinewidth": 0,
             "ticks": ""
            },
            "type": "choropleth"
           }
          ],
          "contour": [
           {
            "colorbar": {
             "outlinewidth": 0,
             "ticks": ""
            },
            "colorscale": [
             [
              0,
              "#0d0887"
             ],
             [
              0.1111111111111111,
              "#46039f"
             ],
             [
              0.2222222222222222,
              "#7201a8"
             ],
             [
              0.3333333333333333,
              "#9c179e"
             ],
             [
              0.4444444444444444,
              "#bd3786"
             ],
             [
              0.5555555555555556,
              "#d8576b"
             ],
             [
              0.6666666666666666,
              "#ed7953"
             ],
             [
              0.7777777777777778,
              "#fb9f3a"
             ],
             [
              0.8888888888888888,
              "#fdca26"
             ],
             [
              1,
              "#f0f921"
             ]
            ],
            "type": "contour"
           }
          ],
          "contourcarpet": [
           {
            "colorbar": {
             "outlinewidth": 0,
             "ticks": ""
            },
            "type": "contourcarpet"
           }
          ],
          "heatmap": [
           {
            "colorbar": {
             "outlinewidth": 0,
             "ticks": ""
            },
            "colorscale": [
             [
              0,
              "#0d0887"
             ],
             [
              0.1111111111111111,
              "#46039f"
             ],
             [
              0.2222222222222222,
              "#7201a8"
             ],
             [
              0.3333333333333333,
              "#9c179e"
             ],
             [
              0.4444444444444444,
              "#bd3786"
             ],
             [
              0.5555555555555556,
              "#d8576b"
             ],
             [
              0.6666666666666666,
              "#ed7953"
             ],
             [
              0.7777777777777778,
              "#fb9f3a"
             ],
             [
              0.8888888888888888,
              "#fdca26"
             ],
             [
              1,
              "#f0f921"
             ]
            ],
            "type": "heatmap"
           }
          ],
          "heatmapgl": [
           {
            "colorbar": {
             "outlinewidth": 0,
             "ticks": ""
            },
            "colorscale": [
             [
              0,
              "#0d0887"
             ],
             [
              0.1111111111111111,
              "#46039f"
             ],
             [
              0.2222222222222222,
              "#7201a8"
             ],
             [
              0.3333333333333333,
              "#9c179e"
             ],
             [
              0.4444444444444444,
              "#bd3786"
             ],
             [
              0.5555555555555556,
              "#d8576b"
             ],
             [
              0.6666666666666666,
              "#ed7953"
             ],
             [
              0.7777777777777778,
              "#fb9f3a"
             ],
             [
              0.8888888888888888,
              "#fdca26"
             ],
             [
              1,
              "#f0f921"
             ]
            ],
            "type": "heatmapgl"
           }
          ],
          "histogram": [
           {
            "marker": {
             "pattern": {
              "fillmode": "overlay",
              "size": 10,
              "solidity": 0.2
             }
            },
            "type": "histogram"
           }
          ],
          "histogram2d": [
           {
            "colorbar": {
             "outlinewidth": 0,
             "ticks": ""
            },
            "colorscale": [
             [
              0,
              "#0d0887"
             ],
             [
              0.1111111111111111,
              "#46039f"
             ],
             [
              0.2222222222222222,
              "#7201a8"
             ],
             [
              0.3333333333333333,
              "#9c179e"
             ],
             [
              0.4444444444444444,
              "#bd3786"
             ],
             [
              0.5555555555555556,
              "#d8576b"
             ],
             [
              0.6666666666666666,
              "#ed7953"
             ],
             [
              0.7777777777777778,
              "#fb9f3a"
             ],
             [
              0.8888888888888888,
              "#fdca26"
             ],
             [
              1,
              "#f0f921"
             ]
            ],
            "type": "histogram2d"
           }
          ],
          "histogram2dcontour": [
           {
            "colorbar": {
             "outlinewidth": 0,
             "ticks": ""
            },
            "colorscale": [
             [
              0,
              "#0d0887"
             ],
             [
              0.1111111111111111,
              "#46039f"
             ],
             [
              0.2222222222222222,
              "#7201a8"
             ],
             [
              0.3333333333333333,
              "#9c179e"
             ],
             [
              0.4444444444444444,
              "#bd3786"
             ],
             [
              0.5555555555555556,
              "#d8576b"
             ],
             [
              0.6666666666666666,
              "#ed7953"
             ],
             [
              0.7777777777777778,
              "#fb9f3a"
             ],
             [
              0.8888888888888888,
              "#fdca26"
             ],
             [
              1,
              "#f0f921"
             ]
            ],
            "type": "histogram2dcontour"
           }
          ],
          "mesh3d": [
           {
            "colorbar": {
             "outlinewidth": 0,
             "ticks": ""
            },
            "type": "mesh3d"
           }
          ],
          "parcoords": [
           {
            "line": {
             "colorbar": {
              "outlinewidth": 0,
              "ticks": ""
             }
            },
            "type": "parcoords"
           }
          ],
          "pie": [
           {
            "automargin": true,
            "type": "pie"
           }
          ],
          "scatter": [
           {
            "marker": {
             "line": {
              "color": "#283442"
             }
            },
            "type": "scatter"
           }
          ],
          "scatter3d": [
           {
            "line": {
             "colorbar": {
              "outlinewidth": 0,
              "ticks": ""
             }
            },
            "marker": {
             "colorbar": {
              "outlinewidth": 0,
              "ticks": ""
             }
            },
            "type": "scatter3d"
           }
          ],
          "scattercarpet": [
           {
            "marker": {
             "colorbar": {
              "outlinewidth": 0,
              "ticks": ""
             }
            },
            "type": "scattercarpet"
           }
          ],
          "scattergeo": [
           {
            "marker": {
             "colorbar": {
              "outlinewidth": 0,
              "ticks": ""
             }
            },
            "type": "scattergeo"
           }
          ],
          "scattergl": [
           {
            "marker": {
             "line": {
              "color": "#283442"
             }
            },
            "type": "scattergl"
           }
          ],
          "scattermapbox": [
           {
            "marker": {
             "colorbar": {
              "outlinewidth": 0,
              "ticks": ""
             }
            },
            "type": "scattermapbox"
           }
          ],
          "scatterpolar": [
           {
            "marker": {
             "colorbar": {
              "outlinewidth": 0,
              "ticks": ""
             }
            },
            "type": "scatterpolar"
           }
          ],
          "scatterpolargl": [
           {
            "marker": {
             "colorbar": {
              "outlinewidth": 0,
              "ticks": ""
             }
            },
            "type": "scatterpolargl"
           }
          ],
          "scatterternary": [
           {
            "marker": {
             "colorbar": {
              "outlinewidth": 0,
              "ticks": ""
             }
            },
            "type": "scatterternary"
           }
          ],
          "surface": [
           {
            "colorbar": {
             "outlinewidth": 0,
             "ticks": ""
            },
            "colorscale": [
             [
              0,
              "#0d0887"
             ],
             [
              0.1111111111111111,
              "#46039f"
             ],
             [
              0.2222222222222222,
              "#7201a8"
             ],
             [
              0.3333333333333333,
              "#9c179e"
             ],
             [
              0.4444444444444444,
              "#bd3786"
             ],
             [
              0.5555555555555556,
              "#d8576b"
             ],
             [
              0.6666666666666666,
              "#ed7953"
             ],
             [
              0.7777777777777778,
              "#fb9f3a"
             ],
             [
              0.8888888888888888,
              "#fdca26"
             ],
             [
              1,
              "#f0f921"
             ]
            ],
            "type": "surface"
           }
          ],
          "table": [
           {
            "cells": {
             "fill": {
              "color": "#506784"
             },
             "line": {
              "color": "rgb(17,17,17)"
             }
            },
            "header": {
             "fill": {
              "color": "#2a3f5f"
             },
             "line": {
              "color": "rgb(17,17,17)"
             }
            },
            "type": "table"
           }
          ]
         },
         "layout": {
          "annotationdefaults": {
           "arrowcolor": "#f2f5fa",
           "arrowhead": 0,
           "arrowwidth": 1
          },
          "autotypenumbers": "strict",
          "coloraxis": {
           "colorbar": {
            "outlinewidth": 0,
            "ticks": ""
           }
          },
          "colorscale": {
           "diverging": [
            [
             0,
             "#8e0152"
            ],
            [
             0.1,
             "#c51b7d"
            ],
            [
             0.2,
             "#de77ae"
            ],
            [
             0.3,
             "#f1b6da"
            ],
            [
             0.4,
             "#fde0ef"
            ],
            [
             0.5,
             "#f7f7f7"
            ],
            [
             0.6,
             "#e6f5d0"
            ],
            [
             0.7,
             "#b8e186"
            ],
            [
             0.8,
             "#7fbc41"
            ],
            [
             0.9,
             "#4d9221"
            ],
            [
             1,
             "#276419"
            ]
           ],
           "sequential": [
            [
             0,
             "#0d0887"
            ],
            [
             0.1111111111111111,
             "#46039f"
            ],
            [
             0.2222222222222222,
             "#7201a8"
            ],
            [
             0.3333333333333333,
             "#9c179e"
            ],
            [
             0.4444444444444444,
             "#bd3786"
            ],
            [
             0.5555555555555556,
             "#d8576b"
            ],
            [
             0.6666666666666666,
             "#ed7953"
            ],
            [
             0.7777777777777778,
             "#fb9f3a"
            ],
            [
             0.8888888888888888,
             "#fdca26"
            ],
            [
             1,
             "#f0f921"
            ]
           ],
           "sequentialminus": [
            [
             0,
             "#0d0887"
            ],
            [
             0.1111111111111111,
             "#46039f"
            ],
            [
             0.2222222222222222,
             "#7201a8"
            ],
            [
             0.3333333333333333,
             "#9c179e"
            ],
            [
             0.4444444444444444,
             "#bd3786"
            ],
            [
             0.5555555555555556,
             "#d8576b"
            ],
            [
             0.6666666666666666,
             "#ed7953"
            ],
            [
             0.7777777777777778,
             "#fb9f3a"
            ],
            [
             0.8888888888888888,
             "#fdca26"
            ],
            [
             1,
             "#f0f921"
            ]
           ]
          },
          "colorway": [
           "#636efa",
           "#EF553B",
           "#00cc96",
           "#ab63fa",
           "#FFA15A",
           "#19d3f3",
           "#FF6692",
           "#B6E880",
           "#FF97FF",
           "#FECB52"
          ],
          "font": {
           "color": "#f2f5fa"
          },
          "geo": {
           "bgcolor": "rgb(17,17,17)",
           "lakecolor": "rgb(17,17,17)",
           "landcolor": "rgb(17,17,17)",
           "showlakes": true,
           "showland": true,
           "subunitcolor": "#506784"
          },
          "hoverlabel": {
           "align": "left"
          },
          "hovermode": "closest",
          "mapbox": {
           "style": "dark"
          },
          "paper_bgcolor": "rgb(17,17,17)",
          "plot_bgcolor": "rgb(17,17,17)",
          "polar": {
           "angularaxis": {
            "gridcolor": "#506784",
            "linecolor": "#506784",
            "ticks": ""
           },
           "bgcolor": "rgb(17,17,17)",
           "radialaxis": {
            "gridcolor": "#506784",
            "linecolor": "#506784",
            "ticks": ""
           }
          },
          "scene": {
           "xaxis": {
            "backgroundcolor": "rgb(17,17,17)",
            "gridcolor": "#506784",
            "gridwidth": 2,
            "linecolor": "#506784",
            "showbackground": true,
            "ticks": "",
            "zerolinecolor": "#C8D4E3"
           },
           "yaxis": {
            "backgroundcolor": "rgb(17,17,17)",
            "gridcolor": "#506784",
            "gridwidth": 2,
            "linecolor": "#506784",
            "showbackground": true,
            "ticks": "",
            "zerolinecolor": "#C8D4E3"
           },
           "zaxis": {
            "backgroundcolor": "rgb(17,17,17)",
            "gridcolor": "#506784",
            "gridwidth": 2,
            "linecolor": "#506784",
            "showbackground": true,
            "ticks": "",
            "zerolinecolor": "#C8D4E3"
           }
          },
          "shapedefaults": {
           "line": {
            "color": "#f2f5fa"
           }
          },
          "sliderdefaults": {
           "bgcolor": "#C8D4E3",
           "bordercolor": "rgb(17,17,17)",
           "borderwidth": 1,
           "tickwidth": 0
          },
          "ternary": {
           "aaxis": {
            "gridcolor": "#506784",
            "linecolor": "#506784",
            "ticks": ""
           },
           "baxis": {
            "gridcolor": "#506784",
            "linecolor": "#506784",
            "ticks": ""
           },
           "bgcolor": "rgb(17,17,17)",
           "caxis": {
            "gridcolor": "#506784",
            "linecolor": "#506784",
            "ticks": ""
           }
          },
          "title": {
           "x": 0.05
          },
          "updatemenudefaults": {
           "bgcolor": "#506784",
           "borderwidth": 0
          },
          "xaxis": {
           "automargin": true,
           "gridcolor": "#283442",
           "linecolor": "#506784",
           "ticks": "",
           "title": {
            "standoff": 15
           },
           "zerolinecolor": "#283442",
           "zerolinewidth": 2
          },
          "yaxis": {
           "automargin": true,
           "gridcolor": "#283442",
           "linecolor": "#506784",
           "ticks": "",
           "title": {
            "standoff": 15
           },
           "zerolinecolor": "#283442",
           "zerolinewidth": 2
          }
         }
        },
        "title": {
         "text": "Observe Backward Elimination in All Models With Repect to Moving Averages<br><span style=\"font-size: 12.5px; color: lightgrey;\"> -- How meansures are changed by removing the impact of each coefficient</span>"
        },
        "width": 800,
        "xaxis": {
         "anchor": "y",
         "domain": [
          0,
          0.45
         ]
        },
        "xaxis2": {
         "anchor": "y2",
         "domain": [
          0.55,
          1
         ]
        },
        "yaxis": {
         "anchor": "x",
         "domain": [
          0,
          1
         ],
         "title": {
          "text": "Difference"
         }
        },
        "yaxis2": {
         "anchor": "x2",
         "domain": [
          0,
          1
         ]
        }
       }
      }
     },
     "metadata": {},
     "output_type": "display_data"
    }
   ],
   "source": [
    "# comparing model performance & backward elimination test\n",
    "fig2_1, fig2_2, fig2_3 = PA.model_learning([1,3,6], model='LogR')\n",
    "\n",
    "for f in fig2_1:\n",
    "    f.show()\n",
    "fig2_2.show()\n",
    "fig2_3.show()"
   ]
  },
  {
   "cell_type": "code",
   "execution_count": null,
   "metadata": {},
   "outputs": [],
   "source": []
  },
  {
   "cell_type": "code",
   "execution_count": 30,
   "metadata": {},
   "outputs": [],
   "source": [
    "sc_opts = PA.sc_opts\n",
    "colors = ['#636EFA', '#EF553B', '#00CC96', '#AB63FA', '#FFA15A', '#19D3F3', '#FF6692', '#B6E880', '#FF97FF', '#FECB52']\n",
    "figs = fig1_1"
   ]
  },
  {
   "cell_type": "code",
   "execution_count": 32,
   "metadata": {},
   "outputs": [
    {
     "data": {
      "text/html": [
       "\n",
       "        <iframe\n",
       "            width=\"100%\"\n",
       "            height=\"650\"\n",
       "            src=\"http://127.0.0.1:8050/\"\n",
       "            frameborder=\"0\"\n",
       "            allowfullscreen\n",
       "            \n",
       "        ></iframe>\n",
       "        "
      ],
      "text/plain": [
       "<IPython.lib.display.IFrame at 0x1d377b80b90>"
      ]
     },
     "metadata": {},
     "output_type": "display_data"
    }
   ],
   "source": [
    "app = dash.Dash(__name__)\n",
    "\n",
    "# Sep up each component\n",
    "legends = dmc.ChipGroup(\n",
    "    id={'func': 'compare_perf', 'obj': 'legend'},\n",
    "    children=[\n",
    "        dmc.Chip(\n",
    "            children=str(sc),\n",
    "            value=str(sc),\n",
    "            variant=\"outline\", \n",
    "            color=colors[i]\n",
    "            ) for i, sc in enumerate(sc_opts)\n",
    "    ],\n",
    "    value=[str(sc) for sc in sc_opts],\n",
    "    multiple=True,\n",
    "    style={'display': 'flex', 'justifyContent': 'center'}\n",
    ")\n",
    "\n",
    "graphs = html.Div(\n",
    "    dbc.Row(\n",
    "        [\n",
    "            dbc.Col(\n",
    "                dbc.Card(\n",
    "                    dbc.CardBody([\n",
    "                        dcc.Graph(\n",
    "                            id={'func': 'compare_perf', 'obj': 'fig', 'id': str(i)},\n",
    "                            figure=fig,\n",
    "                        )\n",
    "                    ]),\n",
    "                    style={'margin': '5px'}\n",
    "                ),\n",
    "                width='auto'\n",
    "            ) for i, fig in enumerate(figs)\n",
    "        ],\n",
    "        style={'display': 'flex', 'overflowX': 'auto', 'width': '100%'},\n",
    "    ),\n",
    "    style={'maxWidth': '100vw'}\n",
    ")\n",
    "\n",
    "@app.callback(\n",
    "    output=Output({'func': 'compare_perf', 'obj': 'fig', 'id': ALL}, 'figure'),\n",
    "    inputs=Input({'func': 'compare_perf', 'obj': 'legend'}, 'value'),\n",
    "    state=State({'func': 'compare_perf', 'obj': 'fig', 'id': ALL}, 'figure')\n",
    ")\n",
    "def update_visibility(value, fig):\n",
    "    # Determine which input was triggered\n",
    "    triggered_id = ctx.triggered_id\n",
    "    if triggered_id:\n",
    "        # define output\n",
    "        outputs = []\n",
    "        # get the checked value as set \n",
    "        checked = set(value)\n",
    "        # traversing all figure data\n",
    "        for f in fig:\n",
    "            # define patch\n",
    "            p = Patch()\n",
    "            for i in range(len(f['data'])):\n",
    "                p['data'][i].update({'visible': f['data'][i]['name'] in checked})\n",
    "            \n",
    "            outputs.append(p)\n",
    "        \n",
    "        return outputs\n",
    "    \n",
    "    else:\n",
    "        return no_update\n",
    "\n",
    "\n",
    "# Set up the Dash app layout \n",
    "app.layout = html.Div([\n",
    "    legends, graphs\n",
    "])\n",
    "\n",
    "if __name__ == '__main__':\n",
    "    app.run_server(debug=False)"
   ]
  },
  {
   "cell_type": "markdown",
   "metadata": {},
   "source": [
    "html.H3('Comparing the Logistic Regression Model Results on Different Conditions', \n",
    "            style={ 'color': 'white'}),\n",
    "    html.Div(id='fixed-legend', style={'color': 'white'}, children=[\n",
    "        dcc.Markdown(\"\"\"\n",
    "            - Scopes: how many months of the latest data is used for parameter adjustments.\n",
    "            - Error Bars: Showing mean, min, and max of each measure among various future predictions.\n",
    "        \"\"\")\n",
    "    ]),"
   ]
  },
  {
   "cell_type": "code",
   "execution_count": null,
   "metadata": {},
   "outputs": [],
   "source": []
  },
  {
   "cell_type": "code",
   "execution_count": null,
   "metadata": {},
   "outputs": [],
   "source": []
  },
  {
   "cell_type": "code",
   "execution_count": null,
   "metadata": {},
   "outputs": [],
   "source": []
  },
  {
   "cell_type": "markdown",
   "metadata": {},
   "source": [
    "### Memo"
   ]
  },
  {
   "cell_type": "code",
   "execution_count": 24,
   "metadata": {},
   "outputs": [
    {
     "data": {
      "text/plain": [
       "[<matplotlib.lines.Line2D at 0x2375f9a4650>]"
      ]
     },
     "execution_count": 24,
     "metadata": {},
     "output_type": "execute_result"
    },
    {
     "data": {
      "image/png": "[encoded data removed]",
      "text/plain": [
       "<Figure size 640x480 with 1 Axes>"
      ]
     },
     "metadata": {},
     "output_type": "display_data"
    }
   ],
   "source": [
    "# how the coefficient of the first parameter (CSENT) changed over time\n",
    "plt.plot(PA.results['LinR']['1FP']['1MA_1SC']['theta'][:, 0])\n"
   ]
  },
  {
   "cell_type": "code",
   "execution_count": 4,
   "metadata": {},
   "outputs": [],
   "source": [
    "import dash\n",
    "from dash import Dash, html, dcc, Input, Output, State, ctx\n",
    "import pandas as pd\n",
    "import numpy as np\n",
    "from plotly.subplots import make_subplots\n",
    "import plotly.graph_objects as go"
   ]
  },
  {
   "cell_type": "code",
   "execution_count": 20,
   "metadata": {},
   "outputs": [
    {
     "data": {
      "text/html": [
       "\n",
       "        <iframe\n",
       "            width=\"100%\"\n",
       "            height=\"650\"\n",
       "            src=\"http://127.0.0.1:8050/\"\n",
       "            frameborder=\"0\"\n",
       "            allowfullscreen\n",
       "            \n",
       "        ></iframe>\n",
       "        "
      ],
      "text/plain": [
       "<IPython.lib.display.IFrame at 0x22a9e8a2b10>"
      ]
     },
     "metadata": {},
     "output_type": "display_data"
    }
   ],
   "source": [
    "# Assuming 'sample' is your DataFrame with the data you want to plot\n",
    "# And it has columns 'X', 'Y1', 'Y2', ... for your data\n",
    "\n",
    "# Sample data for three dataframes with similar structure\n",
    "s1 = pd.DataFrame({\n",
    "    'X': pd.date_range(start='1/1/2020', periods=100),\n",
    "    'Y1': np.random.randn(100).cumsum(),\n",
    "    'Y2': np.random.randn(100).cumsum(),\n",
    "    'Y3': np.random.randn(100).cumsum()\n",
    "})\n",
    "s2 = pd.DataFrame({\n",
    "    'X': pd.date_range(start='1/1/2020', periods=100),\n",
    "    'Y1': np.random.randn(100).cumsum()*0.5,\n",
    "    'Y2': np.random.randn(100).cumsum()*0.5,\n",
    "    'Y3': np.random.randn(100).cumsum()*0.5\n",
    "})  # Just for example, modify as needed\n",
    "\n",
    "s3 = pd.DataFrame({\n",
    "    'X': pd.date_range(start='1/1/2020', periods=100),\n",
    "    'Y1': np.random.randn(100).cumsum()*2,\n",
    "    'Y2': np.random.randn(100).cumsum()*2,\n",
    "    'Y3': np.random.randn(100).cumsum()*2\n",
    "})   # Just for example, modify as needed\n",
    "\n",
    "\n",
    "# Define the number of graphs you want to create\n",
    "fig = make_subplots(rows=1, cols=3, shared_yaxes=True)\n",
    "\n",
    "# Define colors for traces to ensure consistency across subplots\n",
    "colors = {'Y1': 'blue', 'Y2': 'red', 'Y3': 'green'}\n",
    "\n",
    "for i, s in enumerate([s1, s2, s3], start=1):\n",
    "    for col in ['Y1', 'Y2', 'Y3']:\n",
    "        fig.add_trace(\n",
    "            go.Scatter(\n",
    "                x=s['X'],\n",
    "                y=s[col],\n",
    "                name=col,\n",
    "                mode='lines+markers',\n",
    "                marker=dict(color=colors[col]),\n",
    "                showlegend=False, # Only the first subplot shows the legend,\n",
    "                visible=True\n",
    "            ),\n",
    "            row=1, col=i\n",
    "        )\n",
    "\n",
    "# Update layout to Plotly's dark theme\n",
    "fig.update_layout(\n",
    "    plot_bgcolor='black',\n",
    "    paper_bgcolor='black',\n",
    "    font={'color': 'white'},\n",
    "    legend=dict(orientation=\"h\", yanchor=\"bottom\", y=1.02, xanchor=\"right\", x=1),\n",
    "    uirevision='constant' # keeps the user-selected legend state consistent across updates\n",
    ")\n",
    "\n",
    "\n",
    "app = dash.Dash(__name__)\n",
    "# Set up the Dash app layout\n",
    "app.layout = html.Div([\n",
    "    html.Div(id='custom-legend', children=[\n",
    "        html.Button('Y1', id='legend-y1', n_clicks=0),\n",
    "        html.Button('Y2', id='legend-y2', n_clicks=0),\n",
    "        html.Button('Y3', id='legend-y3', n_clicks=0)\n",
    "    ], style={'display': 'flex', 'justifyContent': 'center'}),\n",
    "    html.Div(style={'width': '600px', 'overflowX': 'scroll'}, children=[\n",
    "        dcc.Graph(id='subplots-graph', figure=fig, style={'width': '1500px'})\n",
    "    ])\n",
    "])\n",
    "\n",
    "\n",
    "@app.callback(\n",
    "    output=Output('subplots-graph', 'figure'),\n",
    "    inputs=dict(\n",
    "        data=dict(\n",
    "            y1=Input('legend-y1', 'n_clicks'),\n",
    "            y2=Input('legend-y2', 'n_clicks'),\n",
    "            y3=Input('legend-y3', 'n_clicks'),\n",
    "        ),\n",
    "    ),\n",
    "    state=dict(fig=State('subplots-graph', 'figure'))\n",
    ")\n",
    "def update_graph_visibility(data, fig):\n",
    "    # Determine which input was triggered\n",
    "    triggered_id = ctx.triggered_id\n",
    "\n",
    "    if triggered_id in {'legend-y1', 'legend-y2', 'legend-y3'}:\n",
    "        # Get series name (e.g., 'Y1', 'Y2', 'Y3')\n",
    "        series_name = triggered_id.split('-')[-1]\n",
    "        # Toggle visibility\n",
    "        visibility = False if data[series_name] % 2 == 1 else True\n",
    "    \n",
    "        # Update traces\n",
    "        for trace in fig['data']:\n",
    "            if trace['name'].lower() == series_name:\n",
    "                trace['visible'] = visibility\n",
    "\n",
    "    return fig\n",
    "\n",
    "\n",
    "if __name__ == '__main__':\n",
    "    app.run_server(debug=True)\n"
   ]
  },
  {
   "cell_type": "code",
   "execution_count": null,
   "metadata": {},
   "outputs": [],
   "source": []
  }
 ],
 "metadata": {
  "kernelspec": {
   "display_name": "Python 3",
   "language": "python",
   "name": "python3"
  },
  "language_info": {
   "codemirror_mode": {
    "name": "ipython",
    "version": 3
   },
   "file_extension": ".py",
   "mimetype": "text/x-python",
   "name": "python",
   "nbconvert_exporter": "python",
   "pygments_lexer": "ipython3",
   "version": "3.11.6"
  }
 },
 "nbformat": 4,
 "nbformat_minor": 2
}
