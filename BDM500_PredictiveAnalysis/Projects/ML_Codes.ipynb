{
 "cells": [
  {
   "cell_type": "code",
   "execution_count": 11,
   "metadata": {},
   "outputs": [],
   "source": [
    "import re\n",
    "\n",
    "import numpy as np\n",
    "import pandas as pd\n",
    "import matplotlib.pyplot as plt\n",
    "from plotly.subplots import make_subplots\n",
    "\n",
    "from Functions import PredictiveAnalysis\n",
    "\n",
    "import dash\n",
    "from dash import html, dcc, ALL, MATCH, Output, Input, State, no_update, ctx, Patch\n",
    "import dash_mantine_components as dmc\n",
    "import dash_bootstrap_components as dbc\n"
   ]
  },
  {
   "cell_type": "code",
   "execution_count": 2,
   "metadata": {},
   "outputs": [
    {
     "data": {
      "text/html": [
       "<div>\n",
       "<style scoped>\n",
       "    .dataframe tbody tr th:only-of-type {\n",
       "        vertical-align: middle;\n",
       "    }\n",
       "\n",
       "    .dataframe tbody tr th {\n",
       "        vertical-align: top;\n",
       "    }\n",
       "\n",
       "    .dataframe thead th {\n",
       "        text-align: right;\n",
       "    }\n",
       "</style>\n",
       "<table border=\"1\" class=\"dataframe\">\n",
       "  <thead>\n",
       "    <tr style=\"text-align: right;\">\n",
       "      <th></th>\n",
       "      <th>Date</th>\n",
       "      <th>Year</th>\n",
       "      <th>Month</th>\n",
       "      <th>CSENT</th>\n",
       "      <th>IPM</th>\n",
       "      <th>HOUSE</th>\n",
       "      <th>UNEMP</th>\n",
       "      <th>LRIR</th>\n",
       "      <th>SP500</th>\n",
       "      <th>SP500_Price</th>\n",
       "      <th>SP500_Rise</th>\n",
       "    </tr>\n",
       "  </thead>\n",
       "  <tbody>\n",
       "    <tr>\n",
       "      <th>0</th>\n",
       "      <td>1979-01-31</td>\n",
       "      <td>1979</td>\n",
       "      <td>1</td>\n",
       "      <td>-13.859020</td>\n",
       "      <td>7.862464</td>\n",
       "      <td>-5.157233</td>\n",
       "      <td>5.9</td>\n",
       "      <td>-0.300399</td>\n",
       "      <td>11.966387</td>\n",
       "      <td>99.930000</td>\n",
       "      <td>1.0</td>\n",
       "    </tr>\n",
       "    <tr>\n",
       "      <th>1</th>\n",
       "      <td>1979-02-28</td>\n",
       "      <td>1979</td>\n",
       "      <td>2</td>\n",
       "      <td>-12.336892</td>\n",
       "      <td>7.786828</td>\n",
       "      <td>-8.596713</td>\n",
       "      <td>5.9</td>\n",
       "      <td>-0.671270</td>\n",
       "      <td>10.615806</td>\n",
       "      <td>96.279999</td>\n",
       "      <td>1.0</td>\n",
       "    </tr>\n",
       "    <tr>\n",
       "      <th>2</th>\n",
       "      <td>1979-03-31</td>\n",
       "      <td>1979</td>\n",
       "      <td>3</td>\n",
       "      <td>-13.197970</td>\n",
       "      <td>6.418676</td>\n",
       "      <td>-2.579853</td>\n",
       "      <td>5.8</td>\n",
       "      <td>-1.142366</td>\n",
       "      <td>13.877365</td>\n",
       "      <td>101.589996</td>\n",
       "      <td>1.0</td>\n",
       "    </tr>\n",
       "    <tr>\n",
       "      <th>3</th>\n",
       "      <td>1979-04-30</td>\n",
       "      <td>1979</td>\n",
       "      <td>4</td>\n",
       "      <td>-19.117647</td>\n",
       "      <td>2.997984</td>\n",
       "      <td>-13.425926</td>\n",
       "      <td>5.8</td>\n",
       "      <td>-1.135133</td>\n",
       "      <td>5.091398</td>\n",
       "      <td>101.760002</td>\n",
       "      <td>1.0</td>\n",
       "    </tr>\n",
       "    <tr>\n",
       "      <th>4</th>\n",
       "      <td>1979-05-31</td>\n",
       "      <td>1979</td>\n",
       "      <td>5</td>\n",
       "      <td>-17.852835</td>\n",
       "      <td>3.917937</td>\n",
       "      <td>-15.169195</td>\n",
       "      <td>5.6</td>\n",
       "      <td>-1.637674</td>\n",
       "      <td>1.892230</td>\n",
       "      <td>99.080002</td>\n",
       "      <td>1.0</td>\n",
       "    </tr>\n",
       "  </tbody>\n",
       "</table>\n",
       "</div>"
      ],
      "text/plain": [
       "         Date  Year  Month      CSENT       IPM      HOUSE  UNEMP      LRIR  \\\n",
       "0  1979-01-31  1979      1 -13.859020  7.862464  -5.157233    5.9 -0.300399   \n",
       "1  1979-02-28  1979      2 -12.336892  7.786828  -8.596713    5.9 -0.671270   \n",
       "2  1979-03-31  1979      3 -13.197970  6.418676  -2.579853    5.8 -1.142366   \n",
       "3  1979-04-30  1979      4 -19.117647  2.997984 -13.425926    5.8 -1.135133   \n",
       "4  1979-05-31  1979      5 -17.852835  3.917937 -15.169195    5.6 -1.637674   \n",
       "\n",
       "       SP500  SP500_Price  SP500_Rise  \n",
       "0  11.966387    99.930000         1.0  \n",
       "1  10.615806    96.279999         1.0  \n",
       "2  13.877365   101.589996         1.0  \n",
       "3   5.091398   101.760002         1.0  \n",
       "4   1.892230    99.080002         1.0  "
      ]
     },
     "execution_count": 2,
     "metadata": {},
     "output_type": "execute_result"
    }
   ],
   "source": [
    "# load the clean data frame\n",
    "df = pd.read_csv('final.csv')\n",
    "df.head()"
   ]
  },
  {
   "cell_type": "markdown",
   "metadata": {},
   "source": [
    "# Dataset Creation\n",
    "- Six types of moving averages ; from one to six months.\n",
    "- Six types of dataset shifts; from one to six months."
   ]
  },
  {
   "cell_type": "code",
   "execution_count": 3,
   "metadata": {},
   "outputs": [
    {
     "data": {
      "text/plain": [
       "'\\nclass PredictiveAnalysis_Test(PredictiveAnalysis):\\n    def __init__(self, df):\\n        super().__init__(df)\\n'"
      ]
     },
     "execution_count": 3,
     "metadata": {},
     "output_type": "execute_result"
    }
   ],
   "source": [
    "\"\"\"\n",
    "class PredictiveAnalysis_Test(PredictiveAnalysis):\n",
    "    def __init__(self, df):\n",
    "        super().__init__(df)\n",
    "\"\"\""
   ]
  },
  {
   "cell_type": "code",
   "execution_count": 4,
   "metadata": {},
   "outputs": [],
   "source": [
    "PA = PredictiveAnalysis(df)\n",
    "PA.create_data(['CSENT', 'IPM', 'HOUSE', 'UNEMP', 'LRIR'], 'SP500', ma=[1,2,3,4,5,6], fp=[1,2,3,4,5,6], poly_d=1)"
   ]
  },
  {
   "cell_type": "code",
   "execution_count": 5,
   "metadata": {},
   "outputs": [
    {
     "name": "stdout",
     "output_type": "stream",
     "text": [
      "[[ 1.         -1.07697478  1.02863002 -0.24524403 -1.02032316 -1.34994328]\n",
      " [ 1.         -0.97845534  1.01416757 -0.38013943 -1.02032316 -1.45430278]\n",
      " [ 1.         -1.0341884   0.75256061 -0.14415995 -1.09159136 -1.58686461]\n",
      " [ 1.         -1.41733832  0.09848356 -0.56953973 -1.09159136 -1.58482934]\n",
      " [ 1.         -1.3354736   0.2743895  -0.63791022 -1.23412778 -1.72623957]]\n",
      "[[10.61580626]\n",
      " [13.87736507]\n",
      " [ 5.09139751]\n",
      " [ 1.89222954]\n",
      " [ 7.7253271 ]]\n",
      "[[1]\n",
      " [1]\n",
      " [1]\n",
      " [1]\n",
      " [1]]\n"
     ]
    }
   ],
   "source": [
    "# check the format of each X and y matrix\n",
    "print(PA.datasets['1MA_1FP']['X'][:5])\n",
    "print(PA.datasets['1MA_1FP']['y'][:5])\n",
    "print(PA.datasets['1MA_1FP']['y_cat'][:5])"
   ]
  },
  {
   "cell_type": "markdown",
   "metadata": {},
   "source": [
    "# Model Creation & Evaluation\n",
    "\n",
    "- Four machine learning models\n",
    "    1. Multiple Linear Regression\n",
    "    3. Logistic Regression\n",
    "    4. Classification and Regression Tree\n",
    "\n",
    "<br>\n",
    "\n",
    "- Evaluations\n",
    "    - Regressions:\n",
    "        - <b>Root Mean Square Error (RMSE)</b>: How much errors could occur between the predicted prices and the actual ones.\n",
    "        - <b>Standard Error of Estimate (SE)</b>: How much variation could occur in the actual target based on the same condition of independent variables. \n",
    "        - <b>Coffeficient of Determination (R2)</b>: How well the regression model explains the variation of a target value.\n",
    "        - <b>Adjusted R2</b>: R2 with the penalty for the number of independent variables.\n",
    "        <br><br>\n",
    "        \n",
    "    - Classification\n",
    "        - <b>Accuracy</b>: How the model can correctly predict the target values.\n",
    "        - <b>Precision</b>: How the model can avoid false positives.\n",
    "        - <b>Recall</b>: How the model can avoid false negatives.\n",
    "        - <b>F1 Score</b>: How the model can balance precision and recall.\n",
    "        - <b>AUC (Area Under the ROC Curve)</b>: How the model can summarize the ROC curve."
   ]
  },
  {
   "cell_type": "markdown",
   "metadata": {},
   "source": [
    "### Multiple linear Regression\n",
    "- Applying different scopes for parameter adjustments; [1,2,3,4,5,6]\n",
    "- Feature selection by backward elimination for whole models."
   ]
  },
  {
   "cell_type": "code",
   "execution_count": 6,
   "metadata": {},
   "outputs": [
    {
     "data": {
      "application/vnd.plotly.v1+json": {
       "config": {
        "plotlyServerURL": "https://plot.ly"
       },
       "data": [
        {
         "error_y": {
          "array": [
           0.04177960511099066,
           0.26666916450286315,
           0.3457946621511496,
           0.38815276286956824,
           0.4145848730926227,
           0.39233005410907307
          ],
          "arrayminus": [
           0.12040469464317649,
           0.6860741637343439,
           0.4761271571037744,
           0.404877506806403,
           0.29893647579554194,
           0.21005784456917365
          ]
         },
         "hovertemplate": "SC=1<br>MA=%{x}<br>RMSE_mean=%{y}<extra></extra>",
         "legendgroup": "1",
         "marker": {
          "color": "#636efa",
          "symbol": "circle"
         },
         "mode": "markers",
         "name": "1",
         "orientation": "v",
         "showlegend": true,
         "type": "scatter",
         "x": [
          1,
          2,
          3,
          4,
          5,
          6
         ],
         "xaxis": "x",
         "y": [
          7.690272936396407,
          6.378161551744127,
          5.703326991079184,
          5.26631517131526,
          4.921881871751112,
          4.6203547796193565
         ],
         "yaxis": "y"
        },
        {
         "error_y": {
          "array": [
           0.14260268959822398,
           0.5334179487695572,
           0.6704585028796428,
           0.724242358694358,
           0.7716887204080853,
           0.687774259326563
          ],
          "arrayminus": [
           0.2776492928170917,
           1.2533144499784177,
           1.0262392588275153,
           0.7442048846058889,
           0.5752011354576201,
           0.37721386096774445
          ]
         },
         "hovertemplate": "SC=3<br>MA=%{x}<br>RMSE_mean=%{y}<extra></extra>",
         "legendgroup": "3",
         "marker": {
          "color": "#EF553B",
          "symbol": "circle"
         },
         "mode": "markers",
         "name": "3",
         "orientation": "v",
         "showlegend": true,
         "type": "scatter",
         "x": [
          1,
          2,
          3,
          4,
          5,
          6
         ],
         "xaxis": "x",
         "y": [
          9.303124839494982,
          8.2019306922256,
          7.4734890252401724,
          6.870349895661314,
          6.388195012318527,
          5.966314399790305
         ],
         "yaxis": "y"
        },
        {
         "error_y": {
          "array": [
           0.31949239167845356,
           0.8325117640325317,
           1.00160349600986,
           1.119263816975609,
           1.1523678336395946,
           1.0275206849321457
          ],
          "arrayminus": [
           0.6546591745527923,
           1.6674508930252614,
           1.4261947768922845,
           1.0563791144202526,
           0.818823608259776,
           0.5441429921630832
          ]
         },
         "hovertemplate": "SC=6<br>MA=%{x}<br>RMSE_mean=%{y}<extra></extra>",
         "legendgroup": "6",
         "marker": {
          "color": "#00cc96",
          "symbol": "circle"
         },
         "mode": "markers",
         "name": "6",
         "orientation": "v",
         "showlegend": true,
         "type": "scatter",
         "x": [
          1,
          2,
          3,
          4,
          5,
          6
         ],
         "xaxis": "x",
         "y": [
          10.96162706309268,
          9.895239634125653,
          9.209297963228286,
          8.602354946911676,
          8.067020249076494,
          7.583555025966873
         ],
         "yaxis": "y"
        }
       ],
       "layout": {
        "height": 300,
        "legend": {
         "title": {
          "text": "SC"
         },
         "tracegroupgap": 0
        },
        "margin": {
         "b": 50,
         "l": 30,
         "r": 30,
         "t": 50
        },
        "showlegend": false,
        "template": {
         "data": {
          "bar": [
           {
            "error_x": {
             "color": "#f2f5fa"
            },
            "error_y": {
             "color": "#f2f5fa"
            },
            "marker": {
             "line": {
              "color": "rgb(17,17,17)",
              "width": 0.5
             },
             "pattern": {
              "fillmode": "overlay",
              "size": 10,
              "solidity": 0.2
             }
            },
            "type": "bar"
           }
          ],
          "barpolar": [
           {
            "marker": {
             "line": {
              "color": "rgb(17,17,17)",
              "width": 0.5
             },
             "pattern": {
              "fillmode": "overlay",
              "size": 10,
              "solidity": 0.2
             }
            },
            "type": "barpolar"
           }
          ],
          "carpet": [
           {
            "aaxis": {
             "endlinecolor": "#A2B1C6",
             "gridcolor": "#506784",
             "linecolor": "#506784",
             "minorgridcolor": "#506784",
             "startlinecolor": "#A2B1C6"
            },
            "baxis": {
             "endlinecolor": "#A2B1C6",
             "gridcolor": "#506784",
             "linecolor": "#506784",
             "minorgridcolor": "#506784",
             "startlinecolor": "#A2B1C6"
            },
            "type": "carpet"
           }
          ],
          "choropleth": [
           {
            "colorbar": {
             "outlinewidth": 0,
             "ticks": ""
            },
            "type": "choropleth"
           }
          ],
          "contour": [
           {
            "colorbar": {
             "outlinewidth": 0,
             "ticks": ""
            },
            "colorscale": [
             [
              0,
              "#0d0887"
             ],
             [
              0.1111111111111111,
              "#46039f"
             ],
             [
              0.2222222222222222,
              "#7201a8"
             ],
             [
              0.3333333333333333,
              "#9c179e"
             ],
             [
              0.4444444444444444,
              "#bd3786"
             ],
             [
              0.5555555555555556,
              "#d8576b"
             ],
             [
              0.6666666666666666,
              "#ed7953"
             ],
             [
              0.7777777777777778,
              "#fb9f3a"
             ],
             [
              0.8888888888888888,
              "#fdca26"
             ],
             [
              1,
              "#f0f921"
             ]
            ],
            "type": "contour"
           }
          ],
          "contourcarpet": [
           {
            "colorbar": {
             "outlinewidth": 0,
             "ticks": ""
            },
            "type": "contourcarpet"
           }
          ],
          "heatmap": [
           {
            "colorbar": {
             "outlinewidth": 0,
             "ticks": ""
            },
            "colorscale": [
             [
              0,
              "#0d0887"
             ],
             [
              0.1111111111111111,
              "#46039f"
             ],
             [
              0.2222222222222222,
              "#7201a8"
             ],
             [
              0.3333333333333333,
              "#9c179e"
             ],
             [
              0.4444444444444444,
              "#bd3786"
             ],
             [
              0.5555555555555556,
              "#d8576b"
             ],
             [
              0.6666666666666666,
              "#ed7953"
             ],
             [
              0.7777777777777778,
              "#fb9f3a"
             ],
             [
              0.8888888888888888,
              "#fdca26"
             ],
             [
              1,
              "#f0f921"
             ]
            ],
            "type": "heatmap"
           }
          ],
          "heatmapgl": [
           {
            "colorbar": {
             "outlinewidth": 0,
             "ticks": ""
            },
            "colorscale": [
             [
              0,
              "#0d0887"
             ],
             [
              0.1111111111111111,
              "#46039f"
             ],
             [
              0.2222222222222222,
              "#7201a8"
             ],
             [
              0.3333333333333333,
              "#9c179e"
             ],
             [
              0.4444444444444444,
              "#bd3786"
             ],
             [
              0.5555555555555556,
              "#d8576b"
             ],
             [
              0.6666666666666666,
              "#ed7953"
             ],
             [
              0.7777777777777778,
              "#fb9f3a"
             ],
             [
              0.8888888888888888,
              "#fdca26"
             ],
             [
              1,
              "#f0f921"
             ]
            ],
            "type": "heatmapgl"
           }
          ],
          "histogram": [
           {
            "marker": {
             "pattern": {
              "fillmode": "overlay",
              "size": 10,
              "solidity": 0.2
             }
            },
            "type": "histogram"
           }
          ],
          "histogram2d": [
           {
            "colorbar": {
             "outlinewidth": 0,
             "ticks": ""
            },
            "colorscale": [
             [
              0,
              "#0d0887"
             ],
             [
              0.1111111111111111,
              "#46039f"
             ],
             [
              0.2222222222222222,
              "#7201a8"
             ],
             [
              0.3333333333333333,
              "#9c179e"
             ],
             [
              0.4444444444444444,
              "#bd3786"
             ],
             [
              0.5555555555555556,
              "#d8576b"
             ],
             [
              0.6666666666666666,
              "#ed7953"
             ],
             [
              0.7777777777777778,
              "#fb9f3a"
             ],
             [
              0.8888888888888888,
              "#fdca26"
             ],
             [
              1,
              "#f0f921"
             ]
            ],
            "type": "histogram2d"
           }
          ],
          "histogram2dcontour": [
           {
            "colorbar": {
             "outlinewidth": 0,
             "ticks": ""
            },
            "colorscale": [
             [
              0,
              "#0d0887"
             ],
             [
              0.1111111111111111,
              "#46039f"
             ],
             [
              0.2222222222222222,
              "#7201a8"
             ],
             [
              0.3333333333333333,
              "#9c179e"
             ],
             [
              0.4444444444444444,
              "#bd3786"
             ],
             [
              0.5555555555555556,
              "#d8576b"
             ],
             [
              0.6666666666666666,
              "#ed7953"
             ],
             [
              0.7777777777777778,
              "#fb9f3a"
             ],
             [
              0.8888888888888888,
              "#fdca26"
             ],
             [
              1,
              "#f0f921"
             ]
            ],
            "type": "histogram2dcontour"
           }
          ],
          "mesh3d": [
           {
            "colorbar": {
             "outlinewidth": 0,
             "ticks": ""
            },
            "type": "mesh3d"
           }
          ],
          "parcoords": [
           {
            "line": {
             "colorbar": {
              "outlinewidth": 0,
              "ticks": ""
             }
            },
            "type": "parcoords"
           }
          ],
          "pie": [
           {
            "automargin": true,
            "type": "pie"
           }
          ],
          "scatter": [
           {
            "marker": {
             "line": {
              "color": "#283442"
             }
            },
            "type": "scatter"
           }
          ],
          "scatter3d": [
           {
            "line": {
             "colorbar": {
              "outlinewidth": 0,
              "ticks": ""
             }
            },
            "marker": {
             "colorbar": {
              "outlinewidth": 0,
              "ticks": ""
             }
            },
            "type": "scatter3d"
           }
          ],
          "scattercarpet": [
           {
            "marker": {
             "colorbar": {
              "outlinewidth": 0,
              "ticks": ""
             }
            },
            "type": "scattercarpet"
           }
          ],
          "scattergeo": [
           {
            "marker": {
             "colorbar": {
              "outlinewidth": 0,
              "ticks": ""
             }
            },
            "type": "scattergeo"
           }
          ],
          "scattergl": [
           {
            "marker": {
             "line": {
              "color": "#283442"
             }
            },
            "type": "scattergl"
           }
          ],
          "scattermapbox": [
           {
            "marker": {
             "colorbar": {
              "outlinewidth": 0,
              "ticks": ""
             }
            },
            "type": "scattermapbox"
           }
          ],
          "scatterpolar": [
           {
            "marker": {
             "colorbar": {
              "outlinewidth": 0,
              "ticks": ""
             }
            },
            "type": "scatterpolar"
           }
          ],
          "scatterpolargl": [
           {
            "marker": {
             "colorbar": {
              "outlinewidth": 0,
              "ticks": ""
             }
            },
            "type": "scatterpolargl"
           }
          ],
          "scatterternary": [
           {
            "marker": {
             "colorbar": {
              "outlinewidth": 0,
              "ticks": ""
             }
            },
            "type": "scatterternary"
           }
          ],
          "surface": [
           {
            "colorbar": {
             "outlinewidth": 0,
             "ticks": ""
            },
            "colorscale": [
             [
              0,
              "#0d0887"
             ],
             [
              0.1111111111111111,
              "#46039f"
             ],
             [
              0.2222222222222222,
              "#7201a8"
             ],
             [
              0.3333333333333333,
              "#9c179e"
             ],
             [
              0.4444444444444444,
              "#bd3786"
             ],
             [
              0.5555555555555556,
              "#d8576b"
             ],
             [
              0.6666666666666666,
              "#ed7953"
             ],
             [
              0.7777777777777778,
              "#fb9f3a"
             ],
             [
              0.8888888888888888,
              "#fdca26"
             ],
             [
              1,
              "#f0f921"
             ]
            ],
            "type": "surface"
           }
          ],
          "table": [
           {
            "cells": {
             "fill": {
              "color": "#506784"
             },
             "line": {
              "color": "rgb(17,17,17)"
             }
            },
            "header": {
             "fill": {
              "color": "#2a3f5f"
             },
             "line": {
              "color": "rgb(17,17,17)"
             }
            },
            "type": "table"
           }
          ]
         },
         "layout": {
          "annotationdefaults": {
           "arrowcolor": "#f2f5fa",
           "arrowhead": 0,
           "arrowwidth": 1
          },
          "autotypenumbers": "strict",
          "coloraxis": {
           "colorbar": {
            "outlinewidth": 0,
            "ticks": ""
           }
          },
          "colorscale": {
           "diverging": [
            [
             0,
             "#8e0152"
            ],
            [
             0.1,
             "#c51b7d"
            ],
            [
             0.2,
             "#de77ae"
            ],
            [
             0.3,
             "#f1b6da"
            ],
            [
             0.4,
             "#fde0ef"
            ],
            [
             0.5,
             "#f7f7f7"
            ],
            [
             0.6,
             "#e6f5d0"
            ],
            [
             0.7,
             "#b8e186"
            ],
            [
             0.8,
             "#7fbc41"
            ],
            [
             0.9,
             "#4d9221"
            ],
            [
             1,
             "#276419"
            ]
           ],
           "sequential": [
            [
             0,
             "#0d0887"
            ],
            [
             0.1111111111111111,
             "#46039f"
            ],
            [
             0.2222222222222222,
             "#7201a8"
            ],
            [
             0.3333333333333333,
             "#9c179e"
            ],
            [
             0.4444444444444444,
             "#bd3786"
            ],
            [
             0.5555555555555556,
             "#d8576b"
            ],
            [
             0.6666666666666666,
             "#ed7953"
            ],
            [
             0.7777777777777778,
             "#fb9f3a"
            ],
            [
             0.8888888888888888,
             "#fdca26"
            ],
            [
             1,
             "#f0f921"
            ]
           ],
           "sequentialminus": [
            [
             0,
             "#0d0887"
            ],
            [
             0.1111111111111111,
             "#46039f"
            ],
            [
             0.2222222222222222,
             "#7201a8"
            ],
            [
             0.3333333333333333,
             "#9c179e"
            ],
            [
             0.4444444444444444,
             "#bd3786"
            ],
            [
             0.5555555555555556,
             "#d8576b"
            ],
            [
             0.6666666666666666,
             "#ed7953"
            ],
            [
             0.7777777777777778,
             "#fb9f3a"
            ],
            [
             0.8888888888888888,
             "#fdca26"
            ],
            [
             1,
             "#f0f921"
            ]
           ]
          },
          "colorway": [
           "#636efa",
           "#EF553B",
           "#00cc96",
           "#ab63fa",
           "#FFA15A",
           "#19d3f3",
           "#FF6692",
           "#B6E880",
           "#FF97FF",
           "#FECB52"
          ],
          "font": {
           "color": "#f2f5fa"
          },
          "geo": {
           "bgcolor": "rgb(17,17,17)",
           "lakecolor": "rgb(17,17,17)",
           "landcolor": "rgb(17,17,17)",
           "showlakes": true,
           "showland": true,
           "subunitcolor": "#506784"
          },
          "hoverlabel": {
           "align": "left"
          },
          "hovermode": "closest",
          "mapbox": {
           "style": "dark"
          },
          "paper_bgcolor": "rgb(17,17,17)",
          "plot_bgcolor": "rgb(17,17,17)",
          "polar": {
           "angularaxis": {
            "gridcolor": "#506784",
            "linecolor": "#506784",
            "ticks": ""
           },
           "bgcolor": "rgb(17,17,17)",
           "radialaxis": {
            "gridcolor": "#506784",
            "linecolor": "#506784",
            "ticks": ""
           }
          },
          "scene": {
           "xaxis": {
            "backgroundcolor": "rgb(17,17,17)",
            "gridcolor": "#506784",
            "gridwidth": 2,
            "linecolor": "#506784",
            "showbackground": true,
            "ticks": "",
            "zerolinecolor": "#C8D4E3"
           },
           "yaxis": {
            "backgroundcolor": "rgb(17,17,17)",
            "gridcolor": "#506784",
            "gridwidth": 2,
            "linecolor": "#506784",
            "showbackground": true,
            "ticks": "",
            "zerolinecolor": "#C8D4E3"
           },
           "zaxis": {
            "backgroundcolor": "rgb(17,17,17)",
            "gridcolor": "#506784",
            "gridwidth": 2,
            "linecolor": "#506784",
            "showbackground": true,
            "ticks": "",
            "zerolinecolor": "#C8D4E3"
           }
          },
          "shapedefaults": {
           "line": {
            "color": "#f2f5fa"
           }
          },
          "sliderdefaults": {
           "bgcolor": "#C8D4E3",
           "bordercolor": "rgb(17,17,17)",
           "borderwidth": 1,
           "tickwidth": 0
          },
          "ternary": {
           "aaxis": {
            "gridcolor": "#506784",
            "linecolor": "#506784",
            "ticks": ""
           },
           "baxis": {
            "gridcolor": "#506784",
            "linecolor": "#506784",
            "ticks": ""
           },
           "bgcolor": "rgb(17,17,17)",
           "caxis": {
            "gridcolor": "#506784",
            "linecolor": "#506784",
            "ticks": ""
           }
          },
          "title": {
           "x": 0.05
          },
          "updatemenudefaults": {
           "bgcolor": "#506784",
           "borderwidth": 0
          },
          "xaxis": {
           "automargin": true,
           "gridcolor": "#283442",
           "linecolor": "#506784",
           "ticks": "",
           "title": {
            "standoff": 15
           },
           "zerolinecolor": "#283442",
           "zerolinewidth": 2
          },
          "yaxis": {
           "automargin": true,
           "gridcolor": "#283442",
           "linecolor": "#506784",
           "ticks": "",
           "title": {
            "standoff": 15
           },
           "zerolinecolor": "#283442",
           "zerolinewidth": 2
          }
         }
        },
        "title": {
         "text": "RMSE",
         "x": 0.5,
         "xanchor": "center"
        },
        "width": 400,
        "xaxis": {
         "anchor": "y",
         "domain": [
          0,
          1
         ],
         "title": {
          "font": {
           "color": "lightgrey"
          },
          "text": "Moving Averages"
         }
        },
        "yaxis": {
         "anchor": "x",
         "domain": [
          0,
          1
         ],
         "title": {
          "text": ""
         }
        }
       }
      }
     },
     "metadata": {},
     "output_type": "display_data"
    },
    {
     "data": {
      "application/vnd.plotly.v1+json": {
       "config": {
        "plotlyServerURL": "https://plot.ly"
       },
       "data": [
        {
         "error_y": {
          "array": [
           0.04243275525111745,
           0.2689274627942728,
           0.3485049260834341,
           0.39127820966496785,
           0.4179021247359911,
           0.3954776070766908
          ],
          "arrayminus": [
           0.12162733160211481,
           0.6913975192633854,
           0.4798924394690056,
           0.40801949031102414,
           0.3012914700300229,
           0.21166825408878776
          ]
         },
         "hovertemplate": "SC=1<br>MA=%{x}<br>SE_mean=%{y}<extra></extra>",
         "legendgroup": "1",
         "marker": {
          "color": "#636efa",
          "symbol": "circle"
         },
         "mode": "markers",
         "name": "1",
         "orientation": "v",
         "showlegend": true,
         "type": "scatter",
         "x": [
          1,
          2,
          3,
          4,
          5,
          6
         ],
         "xaxis": "x",
         "y": [
          7.746683678800831,
          6.425185738668266,
          5.745481037642196,
          5.305335410303836,
          4.958439147784331,
          4.65475595240677
         ],
         "yaxis": "y"
        },
        {
         "error_y": {
          "array": [
           0.14356147404176056,
           0.5375694882101758,
           0.6756151744941095,
           0.7299371677168089,
           0.7777343443019422,
           0.6931923016131654
          ],
          "arrayminus": [
           0.2800906957235991,
           1.2628839980006417,
           1.034134660433117,
           0.7499044997354929,
           0.5796480578515757,
           0.38008465300372407
          ]
         },
         "hovertemplate": "SC=3<br>MA=%{x}<br>SE_mean=%{y}<extra></extra>",
         "legendgroup": "3",
         "marker": {
          "color": "#EF553B",
          "symbol": "circle"
         },
         "mode": "markers",
         "name": "3",
         "orientation": "v",
         "showlegend": true,
         "type": "scatter",
         "x": [
          1,
          2,
          3,
          4,
          5,
          6
         ],
         "xaxis": "x",
         "y": [
          9.371366449255598,
          8.262406534300437,
          7.528733286439454,
          6.921261526455137,
          6.435648640966178,
          6.010740414829965
         ],
         "yaxis": "y"
        },
        {
         "error_y": {
          "array": [
           0.3217291223172509,
           0.8389138757418415,
           1.0092546708699608,
           1.1279737657936213,
           1.161327781234295,
           1.0355525037601092
          ],
          "arrayminus": [
           0.6599261890115002,
           1.6801390583505285,
           1.4371150198635547,
           1.0645754922258632,
           0.8251268287382247,
           0.548405551797603
          ]
         },
         "hovertemplate": "SC=6<br>MA=%{x}<br>SE_mean=%{y}<extra></extra>",
         "legendgroup": "6",
         "marker": {
          "color": "#00cc96",
          "symbol": "circle"
         },
         "mode": "markers",
         "name": "6",
         "orientation": "v",
         "showlegend": true,
         "type": "scatter",
         "x": [
          1,
          2,
          3,
          4,
          5,
          6
         ],
         "xaxis": "x",
         "y": [
          11.042037001112263,
          9.968205445885138,
          9.277377626622942,
          8.66610527101472,
          8.126948343484614,
          7.640026548372087
         ],
         "yaxis": "y"
        }
       ],
       "layout": {
        "height": 300,
        "legend": {
         "title": {
          "text": "SC"
         },
         "tracegroupgap": 0
        },
        "margin": {
         "b": 50,
         "l": 30,
         "r": 30,
         "t": 50
        },
        "showlegend": false,
        "template": {
         "data": {
          "bar": [
           {
            "error_x": {
             "color": "#f2f5fa"
            },
            "error_y": {
             "color": "#f2f5fa"
            },
            "marker": {
             "line": {
              "color": "rgb(17,17,17)",
              "width": 0.5
             },
             "pattern": {
              "fillmode": "overlay",
              "size": 10,
              "solidity": 0.2
             }
            },
            "type": "bar"
           }
          ],
          "barpolar": [
           {
            "marker": {
             "line": {
              "color": "rgb(17,17,17)",
              "width": 0.5
             },
             "pattern": {
              "fillmode": "overlay",
              "size": 10,
              "solidity": 0.2
             }
            },
            "type": "barpolar"
           }
          ],
          "carpet": [
           {
            "aaxis": {
             "endlinecolor": "#A2B1C6",
             "gridcolor": "#506784",
             "linecolor": "#506784",
             "minorgridcolor": "#506784",
             "startlinecolor": "#A2B1C6"
            },
            "baxis": {
             "endlinecolor": "#A2B1C6",
             "gridcolor": "#506784",
             "linecolor": "#506784",
             "minorgridcolor": "#506784",
             "startlinecolor": "#A2B1C6"
            },
            "type": "carpet"
           }
          ],
          "choropleth": [
           {
            "colorbar": {
             "outlinewidth": 0,
             "ticks": ""
            },
            "type": "choropleth"
           }
          ],
          "contour": [
           {
            "colorbar": {
             "outlinewidth": 0,
             "ticks": ""
            },
            "colorscale": [
             [
              0,
              "#0d0887"
             ],
             [
              0.1111111111111111,
              "#46039f"
             ],
             [
              0.2222222222222222,
              "#7201a8"
             ],
             [
              0.3333333333333333,
              "#9c179e"
             ],
             [
              0.4444444444444444,
              "#bd3786"
             ],
             [
              0.5555555555555556,
              "#d8576b"
             ],
             [
              0.6666666666666666,
              "#ed7953"
             ],
             [
              0.7777777777777778,
              "#fb9f3a"
             ],
             [
              0.8888888888888888,
              "#fdca26"
             ],
             [
              1,
              "#f0f921"
             ]
            ],
            "type": "contour"
           }
          ],
          "contourcarpet": [
           {
            "colorbar": {
             "outlinewidth": 0,
             "ticks": ""
            },
            "type": "contourcarpet"
           }
          ],
          "heatmap": [
           {
            "colorbar": {
             "outlinewidth": 0,
             "ticks": ""
            },
            "colorscale": [
             [
              0,
              "#0d0887"
             ],
             [
              0.1111111111111111,
              "#46039f"
             ],
             [
              0.2222222222222222,
              "#7201a8"
             ],
             [
              0.3333333333333333,
              "#9c179e"
             ],
             [
              0.4444444444444444,
              "#bd3786"
             ],
             [
              0.5555555555555556,
              "#d8576b"
             ],
             [
              0.6666666666666666,
              "#ed7953"
             ],
             [
              0.7777777777777778,
              "#fb9f3a"
             ],
             [
              0.8888888888888888,
              "#fdca26"
             ],
             [
              1,
              "#f0f921"
             ]
            ],
            "type": "heatmap"
           }
          ],
          "heatmapgl": [
           {
            "colorbar": {
             "outlinewidth": 0,
             "ticks": ""
            },
            "colorscale": [
             [
              0,
              "#0d0887"
             ],
             [
              0.1111111111111111,
              "#46039f"
             ],
             [
              0.2222222222222222,
              "#7201a8"
             ],
             [
              0.3333333333333333,
              "#9c179e"
             ],
             [
              0.4444444444444444,
              "#bd3786"
             ],
             [
              0.5555555555555556,
              "#d8576b"
             ],
             [
              0.6666666666666666,
              "#ed7953"
             ],
             [
              0.7777777777777778,
              "#fb9f3a"
             ],
             [
              0.8888888888888888,
              "#fdca26"
             ],
             [
              1,
              "#f0f921"
             ]
            ],
            "type": "heatmapgl"
           }
          ],
          "histogram": [
           {
            "marker": {
             "pattern": {
              "fillmode": "overlay",
              "size": 10,
              "solidity": 0.2
             }
            },
            "type": "histogram"
           }
          ],
          "histogram2d": [
           {
            "colorbar": {
             "outlinewidth": 0,
             "ticks": ""
            },
            "colorscale": [
             [
              0,
              "#0d0887"
             ],
             [
              0.1111111111111111,
              "#46039f"
             ],
             [
              0.2222222222222222,
              "#7201a8"
             ],
             [
              0.3333333333333333,
              "#9c179e"
             ],
             [
              0.4444444444444444,
              "#bd3786"
             ],
             [
              0.5555555555555556,
              "#d8576b"
             ],
             [
              0.6666666666666666,
              "#ed7953"
             ],
             [
              0.7777777777777778,
              "#fb9f3a"
             ],
             [
              0.8888888888888888,
              "#fdca26"
             ],
             [
              1,
              "#f0f921"
             ]
            ],
            "type": "histogram2d"
           }
          ],
          "histogram2dcontour": [
           {
            "colorbar": {
             "outlinewidth": 0,
             "ticks": ""
            },
            "colorscale": [
             [
              0,
              "#0d0887"
             ],
             [
              0.1111111111111111,
              "#46039f"
             ],
             [
              0.2222222222222222,
              "#7201a8"
             ],
             [
              0.3333333333333333,
              "#9c179e"
             ],
             [
              0.4444444444444444,
              "#bd3786"
             ],
             [
              0.5555555555555556,
              "#d8576b"
             ],
             [
              0.6666666666666666,
              "#ed7953"
             ],
             [
              0.7777777777777778,
              "#fb9f3a"
             ],
             [
              0.8888888888888888,
              "#fdca26"
             ],
             [
              1,
              "#f0f921"
             ]
            ],
            "type": "histogram2dcontour"
           }
          ],
          "mesh3d": [
           {
            "colorbar": {
             "outlinewidth": 0,
             "ticks": ""
            },
            "type": "mesh3d"
           }
          ],
          "parcoords": [
           {
            "line": {
             "colorbar": {
              "outlinewidth": 0,
              "ticks": ""
             }
            },
            "type": "parcoords"
           }
          ],
          "pie": [
           {
            "automargin": true,
            "type": "pie"
           }
          ],
          "scatter": [
           {
            "marker": {
             "line": {
              "color": "#283442"
             }
            },
            "type": "scatter"
           }
          ],
          "scatter3d": [
           {
            "line": {
             "colorbar": {
              "outlinewidth": 0,
              "ticks": ""
             }
            },
            "marker": {
             "colorbar": {
              "outlinewidth": 0,
              "ticks": ""
             }
            },
            "type": "scatter3d"
           }
          ],
          "scattercarpet": [
           {
            "marker": {
             "colorbar": {
              "outlinewidth": 0,
              "ticks": ""
             }
            },
            "type": "scattercarpet"
           }
          ],
          "scattergeo": [
           {
            "marker": {
             "colorbar": {
              "outlinewidth": 0,
              "ticks": ""
             }
            },
            "type": "scattergeo"
           }
          ],
          "scattergl": [
           {
            "marker": {
             "line": {
              "color": "#283442"
             }
            },
            "type": "scattergl"
           }
          ],
          "scattermapbox": [
           {
            "marker": {
             "colorbar": {
              "outlinewidth": 0,
              "ticks": ""
             }
            },
            "type": "scattermapbox"
           }
          ],
          "scatterpolar": [
           {
            "marker": {
             "colorbar": {
              "outlinewidth": 0,
              "ticks": ""
             }
            },
            "type": "scatterpolar"
           }
          ],
          "scatterpolargl": [
           {
            "marker": {
             "colorbar": {
              "outlinewidth": 0,
              "ticks": ""
             }
            },
            "type": "scatterpolargl"
           }
          ],
          "scatterternary": [
           {
            "marker": {
             "colorbar": {
              "outlinewidth": 0,
              "ticks": ""
             }
            },
            "type": "scatterternary"
           }
          ],
          "surface": [
           {
            "colorbar": {
             "outlinewidth": 0,
             "ticks": ""
            },
            "colorscale": [
             [
              0,
              "#0d0887"
             ],
             [
              0.1111111111111111,
              "#46039f"
             ],
             [
              0.2222222222222222,
              "#7201a8"
             ],
             [
              0.3333333333333333,
              "#9c179e"
             ],
             [
              0.4444444444444444,
              "#bd3786"
             ],
             [
              0.5555555555555556,
              "#d8576b"
             ],
             [
              0.6666666666666666,
              "#ed7953"
             ],
             [
              0.7777777777777778,
              "#fb9f3a"
             ],
             [
              0.8888888888888888,
              "#fdca26"
             ],
             [
              1,
              "#f0f921"
             ]
            ],
            "type": "surface"
           }
          ],
          "table": [
           {
            "cells": {
             "fill": {
              "color": "#506784"
             },
             "line": {
              "color": "rgb(17,17,17)"
             }
            },
            "header": {
             "fill": {
              "color": "#2a3f5f"
             },
             "line": {
              "color": "rgb(17,17,17)"
             }
            },
            "type": "table"
           }
          ]
         },
         "layout": {
          "annotationdefaults": {
           "arrowcolor": "#f2f5fa",
           "arrowhead": 0,
           "arrowwidth": 1
          },
          "autotypenumbers": "strict",
          "coloraxis": {
           "colorbar": {
            "outlinewidth": 0,
            "ticks": ""
           }
          },
          "colorscale": {
           "diverging": [
            [
             0,
             "#8e0152"
            ],
            [
             0.1,
             "#c51b7d"
            ],
            [
             0.2,
             "#de77ae"
            ],
            [
             0.3,
             "#f1b6da"
            ],
            [
             0.4,
             "#fde0ef"
            ],
            [
             0.5,
             "#f7f7f7"
            ],
            [
             0.6,
             "#e6f5d0"
            ],
            [
             0.7,
             "#b8e186"
            ],
            [
             0.8,
             "#7fbc41"
            ],
            [
             0.9,
             "#4d9221"
            ],
            [
             1,
             "#276419"
            ]
           ],
           "sequential": [
            [
             0,
             "#0d0887"
            ],
            [
             0.1111111111111111,
             "#46039f"
            ],
            [
             0.2222222222222222,
             "#7201a8"
            ],
            [
             0.3333333333333333,
             "#9c179e"
            ],
            [
             0.4444444444444444,
             "#bd3786"
            ],
            [
             0.5555555555555556,
             "#d8576b"
            ],
            [
             0.6666666666666666,
             "#ed7953"
            ],
            [
             0.7777777777777778,
             "#fb9f3a"
            ],
            [
             0.8888888888888888,
             "#fdca26"
            ],
            [
             1,
             "#f0f921"
            ]
           ],
           "sequentialminus": [
            [
             0,
             "#0d0887"
            ],
            [
             0.1111111111111111,
             "#46039f"
            ],
            [
             0.2222222222222222,
             "#7201a8"
            ],
            [
             0.3333333333333333,
             "#9c179e"
            ],
            [
             0.4444444444444444,
             "#bd3786"
            ],
            [
             0.5555555555555556,
             "#d8576b"
            ],
            [
             0.6666666666666666,
             "#ed7953"
            ],
            [
             0.7777777777777778,
             "#fb9f3a"
            ],
            [
             0.8888888888888888,
             "#fdca26"
            ],
            [
             1,
             "#f0f921"
            ]
           ]
          },
          "colorway": [
           "#636efa",
           "#EF553B",
           "#00cc96",
           "#ab63fa",
           "#FFA15A",
           "#19d3f3",
           "#FF6692",
           "#B6E880",
           "#FF97FF",
           "#FECB52"
          ],
          "font": {
           "color": "#f2f5fa"
          },
          "geo": {
           "bgcolor": "rgb(17,17,17)",
           "lakecolor": "rgb(17,17,17)",
           "landcolor": "rgb(17,17,17)",
           "showlakes": true,
           "showland": true,
           "subunitcolor": "#506784"
          },
          "hoverlabel": {
           "align": "left"
          },
          "hovermode": "closest",
          "mapbox": {
           "style": "dark"
          },
          "paper_bgcolor": "rgb(17,17,17)",
          "plot_bgcolor": "rgb(17,17,17)",
          "polar": {
           "angularaxis": {
            "gridcolor": "#506784",
            "linecolor": "#506784",
            "ticks": ""
           },
           "bgcolor": "rgb(17,17,17)",
           "radialaxis": {
            "gridcolor": "#506784",
            "linecolor": "#506784",
            "ticks": ""
           }
          },
          "scene": {
           "xaxis": {
            "backgroundcolor": "rgb(17,17,17)",
            "gridcolor": "#506784",
            "gridwidth": 2,
            "linecolor": "#506784",
            "showbackground": true,
            "ticks": "",
            "zerolinecolor": "#C8D4E3"
           },
           "yaxis": {
            "backgroundcolor": "rgb(17,17,17)",
            "gridcolor": "#506784",
            "gridwidth": 2,
            "linecolor": "#506784",
            "showbackground": true,
            "ticks": "",
            "zerolinecolor": "#C8D4E3"
           },
           "zaxis": {
            "backgroundcolor": "rgb(17,17,17)",
            "gridcolor": "#506784",
            "gridwidth": 2,
            "linecolor": "#506784",
            "showbackground": true,
            "ticks": "",
            "zerolinecolor": "#C8D4E3"
           }
          },
          "shapedefaults": {
           "line": {
            "color": "#f2f5fa"
           }
          },
          "sliderdefaults": {
           "bgcolor": "#C8D4E3",
           "bordercolor": "rgb(17,17,17)",
           "borderwidth": 1,
           "tickwidth": 0
          },
          "ternary": {
           "aaxis": {
            "gridcolor": "#506784",
            "linecolor": "#506784",
            "ticks": ""
           },
           "baxis": {
            "gridcolor": "#506784",
            "linecolor": "#506784",
            "ticks": ""
           },
           "bgcolor": "rgb(17,17,17)",
           "caxis": {
            "gridcolor": "#506784",
            "linecolor": "#506784",
            "ticks": ""
           }
          },
          "title": {
           "x": 0.05
          },
          "updatemenudefaults": {
           "bgcolor": "#506784",
           "borderwidth": 0
          },
          "xaxis": {
           "automargin": true,
           "gridcolor": "#283442",
           "linecolor": "#506784",
           "ticks": "",
           "title": {
            "standoff": 15
           },
           "zerolinecolor": "#283442",
           "zerolinewidth": 2
          },
          "yaxis": {
           "automargin": true,
           "gridcolor": "#283442",
           "linecolor": "#506784",
           "ticks": "",
           "title": {
            "standoff": 15
           },
           "zerolinecolor": "#283442",
           "zerolinewidth": 2
          }
         }
        },
        "title": {
         "text": "SE",
         "x": 0.5,
         "xanchor": "center"
        },
        "width": 400,
        "xaxis": {
         "anchor": "y",
         "domain": [
          0,
          1
         ],
         "title": {
          "font": {
           "color": "lightgrey"
          },
          "text": "Moving Averages"
         }
        },
        "yaxis": {
         "anchor": "x",
         "domain": [
          0,
          1
         ],
         "title": {
          "text": ""
         }
        }
       }
      }
     },
     "metadata": {},
     "output_type": "display_data"
    },
    {
     "data": {
      "application/vnd.plotly.v1+json": {
       "config": {
        "plotlyServerURL": "https://plot.ly"
       },
       "data": [
        {
         "error_y": {
          "array": [
           0.006200141126988856,
           0.034105725577653345,
           0.022269052405689327,
           0.0184133615502885,
           0.013302729076123954,
           0.009215762919170811
          ],
          "arrayminus": [
           0.002889852707576579,
           0.013318502749849248,
           0.016567519163607325,
           0.018196535976034545,
           0.01903195513445055,
           0.01761625106129372
          ]
         },
         "hovertemplate": "SC=1<br>MA=%{x}<br>R2_mean=%{y}<extra></extra>",
         "legendgroup": "1",
         "marker": {
          "color": "#636efa",
          "symbol": "circle"
         },
         "mode": "markers",
         "name": "1",
         "orientation": "v",
         "showlegend": true,
         "type": "scatter",
         "x": [
          1,
          2,
          3,
          4,
          5,
          6
         ],
         "xaxis": "x",
         "y": [
          0.7646327027894116,
          0.8311727797035037,
          0.8603958972195117,
          0.8771678353314657,
          0.8893274090344683,
          0.8993803352753177
         ],
         "yaxis": "y"
        },
        {
         "error_y": {
          "array": [
           0.01872920374279119,
           0.07931872823560482,
           0.06226394494349963,
           0.044151140920240306,
           0.03312673713361314,
           0.021331571679797823
          ],
          "arrayminus": [
           0.010675580514369454,
           0.0349797887768436,
           0.042301731008072774,
           0.0444431330650118,
           0.046406048181679926,
           0.04021916612402965
          ]
         },
         "hovertemplate": "SC=3<br>MA=%{x}<br>R2_mean=%{y}<extra></extra>",
         "legendgroup": "3",
         "marker": {
          "color": "#EF553B",
          "symbol": "circle"
         },
         "mode": "markers",
         "name": "3",
         "orientation": "v",
         "showlegend": true,
         "type": "scatter",
         "x": [
          1,
          2,
          3,
          4,
          5,
          6
         ],
         "xaxis": "x",
         "y": [
          0.655497169890716,
          0.7199151503559021,
          0.7592359205713887,
          0.7900338597542146,
          0.8129207587194364,
          0.8318728690198963
         ],
         "yaxis": "y"
        },
        {
         "error_y": {
          "array": [
           0.05371958095151863,
           0.1270846302681068,
           0.10641906846855897,
           0.07796026012072799,
           0.05965201626680905,
           0.039095023192290634
          ],
          "arrayminus": [
           0.02804593415999046,
           0.06660554664707441,
           0.0784334094189133,
           0.08682059778629714,
           0.0881160253182024,
           0.07682304377423976
          ]
         },
         "hovertemplate": "SC=6<br>MA=%{x}<br>R2_mean=%{y}<extra></extra>",
         "legendgroup": "6",
         "marker": {
          "color": "#00cc96",
          "symbol": "circle"
         },
         "mode": "markers",
         "name": "6",
         "orientation": "v",
         "showlegend": true,
         "type": "scatter",
         "x": [
          1,
          2,
          3,
          4,
          5,
          6
         ],
         "xaxis": "x",
         "y": [
          0.5214285037374906,
          0.5914272702339248,
          0.6334481205409722,
          0.6699500762760572,
          0.7009905276013443,
          0.7279049948143951
         ],
         "yaxis": "y"
        }
       ],
       "layout": {
        "height": 300,
        "legend": {
         "title": {
          "text": "SC"
         },
         "tracegroupgap": 0
        },
        "margin": {
         "b": 50,
         "l": 30,
         "r": 30,
         "t": 50
        },
        "showlegend": false,
        "template": {
         "data": {
          "bar": [
           {
            "error_x": {
             "color": "#f2f5fa"
            },
            "error_y": {
             "color": "#f2f5fa"
            },
            "marker": {
             "line": {
              "color": "rgb(17,17,17)",
              "width": 0.5
             },
             "pattern": {
              "fillmode": "overlay",
              "size": 10,
              "solidity": 0.2
             }
            },
            "type": "bar"
           }
          ],
          "barpolar": [
           {
            "marker": {
             "line": {
              "color": "rgb(17,17,17)",
              "width": 0.5
             },
             "pattern": {
              "fillmode": "overlay",
              "size": 10,
              "solidity": 0.2
             }
            },
            "type": "barpolar"
           }
          ],
          "carpet": [
           {
            "aaxis": {
             "endlinecolor": "#A2B1C6",
             "gridcolor": "#506784",
             "linecolor": "#506784",
             "minorgridcolor": "#506784",
             "startlinecolor": "#A2B1C6"
            },
            "baxis": {
             "endlinecolor": "#A2B1C6",
             "gridcolor": "#506784",
             "linecolor": "#506784",
             "minorgridcolor": "#506784",
             "startlinecolor": "#A2B1C6"
            },
            "type": "carpet"
           }
          ],
          "choropleth": [
           {
            "colorbar": {
             "outlinewidth": 0,
             "ticks": ""
            },
            "type": "choropleth"
           }
          ],
          "contour": [
           {
            "colorbar": {
             "outlinewidth": 0,
             "ticks": ""
            },
            "colorscale": [
             [
              0,
              "#0d0887"
             ],
             [
              0.1111111111111111,
              "#46039f"
             ],
             [
              0.2222222222222222,
              "#7201a8"
             ],
             [
              0.3333333333333333,
              "#9c179e"
             ],
             [
              0.4444444444444444,
              "#bd3786"
             ],
             [
              0.5555555555555556,
              "#d8576b"
             ],
             [
              0.6666666666666666,
              "#ed7953"
             ],
             [
              0.7777777777777778,
              "#fb9f3a"
             ],
             [
              0.8888888888888888,
              "#fdca26"
             ],
             [
              1,
              "#f0f921"
             ]
            ],
            "type": "contour"
           }
          ],
          "contourcarpet": [
           {
            "colorbar": {
             "outlinewidth": 0,
             "ticks": ""
            },
            "type": "contourcarpet"
           }
          ],
          "heatmap": [
           {
            "colorbar": {
             "outlinewidth": 0,
             "ticks": ""
            },
            "colorscale": [
             [
              0,
              "#0d0887"
             ],
             [
              0.1111111111111111,
              "#46039f"
             ],
             [
              0.2222222222222222,
              "#7201a8"
             ],
             [
              0.3333333333333333,
              "#9c179e"
             ],
             [
              0.4444444444444444,
              "#bd3786"
             ],
             [
              0.5555555555555556,
              "#d8576b"
             ],
             [
              0.6666666666666666,
              "#ed7953"
             ],
             [
              0.7777777777777778,
              "#fb9f3a"
             ],
             [
              0.8888888888888888,
              "#fdca26"
             ],
             [
              1,
              "#f0f921"
             ]
            ],
            "type": "heatmap"
           }
          ],
          "heatmapgl": [
           {
            "colorbar": {
             "outlinewidth": 0,
             "ticks": ""
            },
            "colorscale": [
             [
              0,
              "#0d0887"
             ],
             [
              0.1111111111111111,
              "#46039f"
             ],
             [
              0.2222222222222222,
              "#7201a8"
             ],
             [
              0.3333333333333333,
              "#9c179e"
             ],
             [
              0.4444444444444444,
              "#bd3786"
             ],
             [
              0.5555555555555556,
              "#d8576b"
             ],
             [
              0.6666666666666666,
              "#ed7953"
             ],
             [
              0.7777777777777778,
              "#fb9f3a"
             ],
             [
              0.8888888888888888,
              "#fdca26"
             ],
             [
              1,
              "#f0f921"
             ]
            ],
            "type": "heatmapgl"
           }
          ],
          "histogram": [
           {
            "marker": {
             "pattern": {
              "fillmode": "overlay",
              "size": 10,
              "solidity": 0.2
             }
            },
            "type": "histogram"
           }
          ],
          "histogram2d": [
           {
            "colorbar": {
             "outlinewidth": 0,
             "ticks": ""
            },
            "colorscale": [
             [
              0,
              "#0d0887"
             ],
             [
              0.1111111111111111,
              "#46039f"
             ],
             [
              0.2222222222222222,
              "#7201a8"
             ],
             [
              0.3333333333333333,
              "#9c179e"
             ],
             [
              0.4444444444444444,
              "#bd3786"
             ],
             [
              0.5555555555555556,
              "#d8576b"
             ],
             [
              0.6666666666666666,
              "#ed7953"
             ],
             [
              0.7777777777777778,
              "#fb9f3a"
             ],
             [
              0.8888888888888888,
              "#fdca26"
             ],
             [
              1,
              "#f0f921"
             ]
            ],
            "type": "histogram2d"
           }
          ],
          "histogram2dcontour": [
           {
            "colorbar": {
             "outlinewidth": 0,
             "ticks": ""
            },
            "colorscale": [
             [
              0,
              "#0d0887"
             ],
             [
              0.1111111111111111,
              "#46039f"
             ],
             [
              0.2222222222222222,
              "#7201a8"
             ],
             [
              0.3333333333333333,
              "#9c179e"
             ],
             [
              0.4444444444444444,
              "#bd3786"
             ],
             [
              0.5555555555555556,
              "#d8576b"
             ],
             [
              0.6666666666666666,
              "#ed7953"
             ],
             [
              0.7777777777777778,
              "#fb9f3a"
             ],
             [
              0.8888888888888888,
              "#fdca26"
             ],
             [
              1,
              "#f0f921"
             ]
            ],
            "type": "histogram2dcontour"
           }
          ],
          "mesh3d": [
           {
            "colorbar": {
             "outlinewidth": 0,
             "ticks": ""
            },
            "type": "mesh3d"
           }
          ],
          "parcoords": [
           {
            "line": {
             "colorbar": {
              "outlinewidth": 0,
              "ticks": ""
             }
            },
            "type": "parcoords"
           }
          ],
          "pie": [
           {
            "automargin": true,
            "type": "pie"
           }
          ],
          "scatter": [
           {
            "marker": {
             "line": {
              "color": "#283442"
             }
            },
            "type": "scatter"
           }
          ],
          "scatter3d": [
           {
            "line": {
             "colorbar": {
              "outlinewidth": 0,
              "ticks": ""
             }
            },
            "marker": {
             "colorbar": {
              "outlinewidth": 0,
              "ticks": ""
             }
            },
            "type": "scatter3d"
           }
          ],
          "scattercarpet": [
           {
            "marker": {
             "colorbar": {
              "outlinewidth": 0,
              "ticks": ""
             }
            },
            "type": "scattercarpet"
           }
          ],
          "scattergeo": [
           {
            "marker": {
             "colorbar": {
              "outlinewidth": 0,
              "ticks": ""
             }
            },
            "type": "scattergeo"
           }
          ],
          "scattergl": [
           {
            "marker": {
             "line": {
              "color": "#283442"
             }
            },
            "type": "scattergl"
           }
          ],
          "scattermapbox": [
           {
            "marker": {
             "colorbar": {
              "outlinewidth": 0,
              "ticks": ""
             }
            },
            "type": "scattermapbox"
           }
          ],
          "scatterpolar": [
           {
            "marker": {
             "colorbar": {
              "outlinewidth": 0,
              "ticks": ""
             }
            },
            "type": "scatterpolar"
           }
          ],
          "scatterpolargl": [
           {
            "marker": {
             "colorbar": {
              "outlinewidth": 0,
              "ticks": ""
             }
            },
            "type": "scatterpolargl"
           }
          ],
          "scatterternary": [
           {
            "marker": {
             "colorbar": {
              "outlinewidth": 0,
              "ticks": ""
             }
            },
            "type": "scatterternary"
           }
          ],
          "surface": [
           {
            "colorbar": {
             "outlinewidth": 0,
             "ticks": ""
            },
            "colorscale": [
             [
              0,
              "#0d0887"
             ],
             [
              0.1111111111111111,
              "#46039f"
             ],
             [
              0.2222222222222222,
              "#7201a8"
             ],
             [
              0.3333333333333333,
              "#9c179e"
             ],
             [
              0.4444444444444444,
              "#bd3786"
             ],
             [
              0.5555555555555556,
              "#d8576b"
             ],
             [
              0.6666666666666666,
              "#ed7953"
             ],
             [
              0.7777777777777778,
              "#fb9f3a"
             ],
             [
              0.8888888888888888,
              "#fdca26"
             ],
             [
              1,
              "#f0f921"
             ]
            ],
            "type": "surface"
           }
          ],
          "table": [
           {
            "cells": {
             "fill": {
              "color": "#506784"
             },
             "line": {
              "color": "rgb(17,17,17)"
             }
            },
            "header": {
             "fill": {
              "color": "#2a3f5f"
             },
             "line": {
              "color": "rgb(17,17,17)"
             }
            },
            "type": "table"
           }
          ]
         },
         "layout": {
          "annotationdefaults": {
           "arrowcolor": "#f2f5fa",
           "arrowhead": 0,
           "arrowwidth": 1
          },
          "autotypenumbers": "strict",
          "coloraxis": {
           "colorbar": {
            "outlinewidth": 0,
            "ticks": ""
           }
          },
          "colorscale": {
           "diverging": [
            [
             0,
             "#8e0152"
            ],
            [
             0.1,
             "#c51b7d"
            ],
            [
             0.2,
             "#de77ae"
            ],
            [
             0.3,
             "#f1b6da"
            ],
            [
             0.4,
             "#fde0ef"
            ],
            [
             0.5,
             "#f7f7f7"
            ],
            [
             0.6,
             "#e6f5d0"
            ],
            [
             0.7,
             "#b8e186"
            ],
            [
             0.8,
             "#7fbc41"
            ],
            [
             0.9,
             "#4d9221"
            ],
            [
             1,
             "#276419"
            ]
           ],
           "sequential": [
            [
             0,
             "#0d0887"
            ],
            [
             0.1111111111111111,
             "#46039f"
            ],
            [
             0.2222222222222222,
             "#7201a8"
            ],
            [
             0.3333333333333333,
             "#9c179e"
            ],
            [
             0.4444444444444444,
             "#bd3786"
            ],
            [
             0.5555555555555556,
             "#d8576b"
            ],
            [
             0.6666666666666666,
             "#ed7953"
            ],
            [
             0.7777777777777778,
             "#fb9f3a"
            ],
            [
             0.8888888888888888,
             "#fdca26"
            ],
            [
             1,
             "#f0f921"
            ]
           ],
           "sequentialminus": [
            [
             0,
             "#0d0887"
            ],
            [
             0.1111111111111111,
             "#46039f"
            ],
            [
             0.2222222222222222,
             "#7201a8"
            ],
            [
             0.3333333333333333,
             "#9c179e"
            ],
            [
             0.4444444444444444,
             "#bd3786"
            ],
            [
             0.5555555555555556,
             "#d8576b"
            ],
            [
             0.6666666666666666,
             "#ed7953"
            ],
            [
             0.7777777777777778,
             "#fb9f3a"
            ],
            [
             0.8888888888888888,
             "#fdca26"
            ],
            [
             1,
             "#f0f921"
            ]
           ]
          },
          "colorway": [
           "#636efa",
           "#EF553B",
           "#00cc96",
           "#ab63fa",
           "#FFA15A",
           "#19d3f3",
           "#FF6692",
           "#B6E880",
           "#FF97FF",
           "#FECB52"
          ],
          "font": {
           "color": "#f2f5fa"
          },
          "geo": {
           "bgcolor": "rgb(17,17,17)",
           "lakecolor": "rgb(17,17,17)",
           "landcolor": "rgb(17,17,17)",
           "showlakes": true,
           "showland": true,
           "subunitcolor": "#506784"
          },
          "hoverlabel": {
           "align": "left"
          },
          "hovermode": "closest",
          "mapbox": {
           "style": "dark"
          },
          "paper_bgcolor": "rgb(17,17,17)",
          "plot_bgcolor": "rgb(17,17,17)",
          "polar": {
           "angularaxis": {
            "gridcolor": "#506784",
            "linecolor": "#506784",
            "ticks": ""
           },
           "bgcolor": "rgb(17,17,17)",
           "radialaxis": {
            "gridcolor": "#506784",
            "linecolor": "#506784",
            "ticks": ""
           }
          },
          "scene": {
           "xaxis": {
            "backgroundcolor": "rgb(17,17,17)",
            "gridcolor": "#506784",
            "gridwidth": 2,
            "linecolor": "#506784",
            "showbackground": true,
            "ticks": "",
            "zerolinecolor": "#C8D4E3"
           },
           "yaxis": {
            "backgroundcolor": "rgb(17,17,17)",
            "gridcolor": "#506784",
            "gridwidth": 2,
            "linecolor": "#506784",
            "showbackground": true,
            "ticks": "",
            "zerolinecolor": "#C8D4E3"
           },
           "zaxis": {
            "backgroundcolor": "rgb(17,17,17)",
            "gridcolor": "#506784",
            "gridwidth": 2,
            "linecolor": "#506784",
            "showbackground": true,
            "ticks": "",
            "zerolinecolor": "#C8D4E3"
           }
          },
          "shapedefaults": {
           "line": {
            "color": "#f2f5fa"
           }
          },
          "sliderdefaults": {
           "bgcolor": "#C8D4E3",
           "bordercolor": "rgb(17,17,17)",
           "borderwidth": 1,
           "tickwidth": 0
          },
          "ternary": {
           "aaxis": {
            "gridcolor": "#506784",
            "linecolor": "#506784",
            "ticks": ""
           },
           "baxis": {
            "gridcolor": "#506784",
            "linecolor": "#506784",
            "ticks": ""
           },
           "bgcolor": "rgb(17,17,17)",
           "caxis": {
            "gridcolor": "#506784",
            "linecolor": "#506784",
            "ticks": ""
           }
          },
          "title": {
           "x": 0.05
          },
          "updatemenudefaults": {
           "bgcolor": "#506784",
           "borderwidth": 0
          },
          "xaxis": {
           "automargin": true,
           "gridcolor": "#283442",
           "linecolor": "#506784",
           "ticks": "",
           "title": {
            "standoff": 15
           },
           "zerolinecolor": "#283442",
           "zerolinewidth": 2
          },
          "yaxis": {
           "automargin": true,
           "gridcolor": "#283442",
           "linecolor": "#506784",
           "ticks": "",
           "title": {
            "standoff": 15
           },
           "zerolinecolor": "#283442",
           "zerolinewidth": 2
          }
         }
        },
        "title": {
         "text": "R2",
         "x": 0.5,
         "xanchor": "center"
        },
        "width": 400,
        "xaxis": {
         "anchor": "y",
         "domain": [
          0,
          1
         ],
         "title": {
          "font": {
           "color": "lightgrey"
          },
          "text": "Moving Averages"
         }
        },
        "yaxis": {
         "anchor": "x",
         "domain": [
          0,
          1
         ],
         "title": {
          "text": ""
         }
        }
       }
      }
     },
     "metadata": {},
     "output_type": "display_data"
    },
    {
     "data": {
      "application/vnd.plotly.v1+json": {
       "config": {
        "plotlyServerURL": "https://plot.ly"
       },
       "data": [
        {
         "error_y": {
          "array": [
           0.006293492747958651,
           0.03453725843575617,
           0.022554048250994385,
           0.01864706944358796,
           0.01347306465334408,
           0.009332368032872629
          ],
          "arrayminus": [
           0.0029144587653072707,
           0.013495843676328279,
           0.016778673958470436,
           0.0184321696581371,
           0.019277853835343972,
           0.01784443457729934
          ]
         },
         "hovertemplate": "SC=1<br>MA=%{x}<br>Adj-R2_mean=%{y}<extra></extra>",
         "legendgroup": "1",
         "marker": {
          "color": "#636efa",
          "symbol": "circle"
         },
         "mode": "markers",
         "name": "1",
         "orientation": "v",
         "showlegend": true,
         "type": "scatter",
         "x": [
          1,
          2,
          3,
          4,
          5,
          6
         ],
         "xaxis": "x",
         "y": [
          0.7617446297527883,
          0.8290902481356112,
          0.8586694388388897,
          0.875645006412015,
          0.8879520009091117,
          0.8981268657112985
         ],
         "yaxis": "y"
        },
        {
         "error_y": {
          "array": [
           0.018983579339761802,
           0.08031388273146178,
           0.06304924581883287,
           0.04470777472555454,
           0.033546878524032486,
           0.021600530758226766
          ],
          "arrayminus": [
           0.010801032416148604,
           0.035423579978020925,
           0.04283553654747385,
           0.04501158595534516,
           0.04699912013544283,
           0.04073524748485302
          ]
         },
         "hovertemplate": "SC=3<br>MA=%{x}<br>Adj-R2_mean=%{y}<extra></extra>",
         "legendgroup": "3",
         "marker": {
          "color": "#EF553B",
          "symbol": "circle"
         },
         "mode": "markers",
         "name": "3",
         "orientation": "v",
         "showlegend": true,
         "type": "scatter",
         "x": [
          1,
          2,
          3,
          4,
          5,
          6
         ],
         "xaxis": "x",
         "y": [
          0.6512699451917151,
          0.7164596267251371,
          0.7562577433510295,
          0.7874301271917948,
          0.8105952645549214,
          0.8297780945272847
         ],
         "yaxis": "y"
        },
        {
         "error_y": {
          "array": [
           0.054411149367827316,
           0.12867636477299593,
           0.1077580179806692,
           0.0789490678032766,
           0.060406966419068175,
           0.03959476817846652
          ],
          "arrayminus": [
           0.0283817917667073,
           0.06744512234224898,
           0.07941963441933997,
           0.08792512439819322,
           0.08923779913329699,
           0.07780488678148056
          ]
         },
         "hovertemplate": "SC=6<br>MA=%{x}<br>Adj-R2_mean=%{y}<extra></extra>",
         "legendgroup": "6",
         "marker": {
          "color": "#00cc96",
          "symbol": "circle"
         },
         "mode": "markers",
         "name": "6",
         "orientation": "v",
         "showlegend": true,
         "type": "scatter",
         "x": [
          1,
          2,
          3,
          4,
          5,
          6
         ],
         "xaxis": "x",
         "y": [
          0.5155558144027553,
          0.5863859266665605,
          0.6289134362501093,
          0.6658567160860799,
          0.6972732326949781,
          0.7245144311930666
         ],
         "yaxis": "y"
        }
       ],
       "layout": {
        "height": 300,
        "legend": {
         "title": {
          "text": "SC"
         },
         "tracegroupgap": 0
        },
        "margin": {
         "b": 50,
         "l": 30,
         "r": 30,
         "t": 50
        },
        "showlegend": false,
        "template": {
         "data": {
          "bar": [
           {
            "error_x": {
             "color": "#f2f5fa"
            },
            "error_y": {
             "color": "#f2f5fa"
            },
            "marker": {
             "line": {
              "color": "rgb(17,17,17)",
              "width": 0.5
             },
             "pattern": {
              "fillmode": "overlay",
              "size": 10,
              "solidity": 0.2
             }
            },
            "type": "bar"
           }
          ],
          "barpolar": [
           {
            "marker": {
             "line": {
              "color": "rgb(17,17,17)",
              "width": 0.5
             },
             "pattern": {
              "fillmode": "overlay",
              "size": 10,
              "solidity": 0.2
             }
            },
            "type": "barpolar"
           }
          ],
          "carpet": [
           {
            "aaxis": {
             "endlinecolor": "#A2B1C6",
             "gridcolor": "#506784",
             "linecolor": "#506784",
             "minorgridcolor": "#506784",
             "startlinecolor": "#A2B1C6"
            },
            "baxis": {
             "endlinecolor": "#A2B1C6",
             "gridcolor": "#506784",
             "linecolor": "#506784",
             "minorgridcolor": "#506784",
             "startlinecolor": "#A2B1C6"
            },
            "type": "carpet"
           }
          ],
          "choropleth": [
           {
            "colorbar": {
             "outlinewidth": 0,
             "ticks": ""
            },
            "type": "choropleth"
           }
          ],
          "contour": [
           {
            "colorbar": {
             "outlinewidth": 0,
             "ticks": ""
            },
            "colorscale": [
             [
              0,
              "#0d0887"
             ],
             [
              0.1111111111111111,
              "#46039f"
             ],
             [
              0.2222222222222222,
              "#7201a8"
             ],
             [
              0.3333333333333333,
              "#9c179e"
             ],
             [
              0.4444444444444444,
              "#bd3786"
             ],
             [
              0.5555555555555556,
              "#d8576b"
             ],
             [
              0.6666666666666666,
              "#ed7953"
             ],
             [
              0.7777777777777778,
              "#fb9f3a"
             ],
             [
              0.8888888888888888,
              "#fdca26"
             ],
             [
              1,
              "#f0f921"
             ]
            ],
            "type": "contour"
           }
          ],
          "contourcarpet": [
           {
            "colorbar": {
             "outlinewidth": 0,
             "ticks": ""
            },
            "type": "contourcarpet"
           }
          ],
          "heatmap": [
           {
            "colorbar": {
             "outlinewidth": 0,
             "ticks": ""
            },
            "colorscale": [
             [
              0,
              "#0d0887"
             ],
             [
              0.1111111111111111,
              "#46039f"
             ],
             [
              0.2222222222222222,
              "#7201a8"
             ],
             [
              0.3333333333333333,
              "#9c179e"
             ],
             [
              0.4444444444444444,
              "#bd3786"
             ],
             [
              0.5555555555555556,
              "#d8576b"
             ],
             [
              0.6666666666666666,
              "#ed7953"
             ],
             [
              0.7777777777777778,
              "#fb9f3a"
             ],
             [
              0.8888888888888888,
              "#fdca26"
             ],
             [
              1,
              "#f0f921"
             ]
            ],
            "type": "heatmap"
           }
          ],
          "heatmapgl": [
           {
            "colorbar": {
             "outlinewidth": 0,
             "ticks": ""
            },
            "colorscale": [
             [
              0,
              "#0d0887"
             ],
             [
              0.1111111111111111,
              "#46039f"
             ],
             [
              0.2222222222222222,
              "#7201a8"
             ],
             [
              0.3333333333333333,
              "#9c179e"
             ],
             [
              0.4444444444444444,
              "#bd3786"
             ],
             [
              0.5555555555555556,
              "#d8576b"
             ],
             [
              0.6666666666666666,
              "#ed7953"
             ],
             [
              0.7777777777777778,
              "#fb9f3a"
             ],
             [
              0.8888888888888888,
              "#fdca26"
             ],
             [
              1,
              "#f0f921"
             ]
            ],
            "type": "heatmapgl"
           }
          ],
          "histogram": [
           {
            "marker": {
             "pattern": {
              "fillmode": "overlay",
              "size": 10,
              "solidity": 0.2
             }
            },
            "type": "histogram"
           }
          ],
          "histogram2d": [
           {
            "colorbar": {
             "outlinewidth": 0,
             "ticks": ""
            },
            "colorscale": [
             [
              0,
              "#0d0887"
             ],
             [
              0.1111111111111111,
              "#46039f"
             ],
             [
              0.2222222222222222,
              "#7201a8"
             ],
             [
              0.3333333333333333,
              "#9c179e"
             ],
             [
              0.4444444444444444,
              "#bd3786"
             ],
             [
              0.5555555555555556,
              "#d8576b"
             ],
             [
              0.6666666666666666,
              "#ed7953"
             ],
             [
              0.7777777777777778,
              "#fb9f3a"
             ],
             [
              0.8888888888888888,
              "#fdca26"
             ],
             [
              1,
              "#f0f921"
             ]
            ],
            "type": "histogram2d"
           }
          ],
          "histogram2dcontour": [
           {
            "colorbar": {
             "outlinewidth": 0,
             "ticks": ""
            },
            "colorscale": [
             [
              0,
              "#0d0887"
             ],
             [
              0.1111111111111111,
              "#46039f"
             ],
             [
              0.2222222222222222,
              "#7201a8"
             ],
             [
              0.3333333333333333,
              "#9c179e"
             ],
             [
              0.4444444444444444,
              "#bd3786"
             ],
             [
              0.5555555555555556,
              "#d8576b"
             ],
             [
              0.6666666666666666,
              "#ed7953"
             ],
             [
              0.7777777777777778,
              "#fb9f3a"
             ],
             [
              0.8888888888888888,
              "#fdca26"
             ],
             [
              1,
              "#f0f921"
             ]
            ],
            "type": "histogram2dcontour"
           }
          ],
          "mesh3d": [
           {
            "colorbar": {
             "outlinewidth": 0,
             "ticks": ""
            },
            "type": "mesh3d"
           }
          ],
          "parcoords": [
           {
            "line": {
             "colorbar": {
              "outlinewidth": 0,
              "ticks": ""
             }
            },
            "type": "parcoords"
           }
          ],
          "pie": [
           {
            "automargin": true,
            "type": "pie"
           }
          ],
          "scatter": [
           {
            "marker": {
             "line": {
              "color": "#283442"
             }
            },
            "type": "scatter"
           }
          ],
          "scatter3d": [
           {
            "line": {
             "colorbar": {
              "outlinewidth": 0,
              "ticks": ""
             }
            },
            "marker": {
             "colorbar": {
              "outlinewidth": 0,
              "ticks": ""
             }
            },
            "type": "scatter3d"
           }
          ],
          "scattercarpet": [
           {
            "marker": {
             "colorbar": {
              "outlinewidth": 0,
              "ticks": ""
             }
            },
            "type": "scattercarpet"
           }
          ],
          "scattergeo": [
           {
            "marker": {
             "colorbar": {
              "outlinewidth": 0,
              "ticks": ""
             }
            },
            "type": "scattergeo"
           }
          ],
          "scattergl": [
           {
            "marker": {
             "line": {
              "color": "#283442"
             }
            },
            "type": "scattergl"
           }
          ],
          "scattermapbox": [
           {
            "marker": {
             "colorbar": {
              "outlinewidth": 0,
              "ticks": ""
             }
            },
            "type": "scattermapbox"
           }
          ],
          "scatterpolar": [
           {
            "marker": {
             "colorbar": {
              "outlinewidth": 0,
              "ticks": ""
             }
            },
            "type": "scatterpolar"
           }
          ],
          "scatterpolargl": [
           {
            "marker": {
             "colorbar": {
              "outlinewidth": 0,
              "ticks": ""
             }
            },
            "type": "scatterpolargl"
           }
          ],
          "scatterternary": [
           {
            "marker": {
             "colorbar": {
              "outlinewidth": 0,
              "ticks": ""
             }
            },
            "type": "scatterternary"
           }
          ],
          "surface": [
           {
            "colorbar": {
             "outlinewidth": 0,
             "ticks": ""
            },
            "colorscale": [
             [
              0,
              "#0d0887"
             ],
             [
              0.1111111111111111,
              "#46039f"
             ],
             [
              0.2222222222222222,
              "#7201a8"
             ],
             [
              0.3333333333333333,
              "#9c179e"
             ],
             [
              0.4444444444444444,
              "#bd3786"
             ],
             [
              0.5555555555555556,
              "#d8576b"
             ],
             [
              0.6666666666666666,
              "#ed7953"
             ],
             [
              0.7777777777777778,
              "#fb9f3a"
             ],
             [
              0.8888888888888888,
              "#fdca26"
             ],
             [
              1,
              "#f0f921"
             ]
            ],
            "type": "surface"
           }
          ],
          "table": [
           {
            "cells": {
             "fill": {
              "color": "#506784"
             },
             "line": {
              "color": "rgb(17,17,17)"
             }
            },
            "header": {
             "fill": {
              "color": "#2a3f5f"
             },
             "line": {
              "color": "rgb(17,17,17)"
             }
            },
            "type": "table"
           }
          ]
         },
         "layout": {
          "annotationdefaults": {
           "arrowcolor": "#f2f5fa",
           "arrowhead": 0,
           "arrowwidth": 1
          },
          "autotypenumbers": "strict",
          "coloraxis": {
           "colorbar": {
            "outlinewidth": 0,
            "ticks": ""
           }
          },
          "colorscale": {
           "diverging": [
            [
             0,
             "#8e0152"
            ],
            [
             0.1,
             "#c51b7d"
            ],
            [
             0.2,
             "#de77ae"
            ],
            [
             0.3,
             "#f1b6da"
            ],
            [
             0.4,
             "#fde0ef"
            ],
            [
             0.5,
             "#f7f7f7"
            ],
            [
             0.6,
             "#e6f5d0"
            ],
            [
             0.7,
             "#b8e186"
            ],
            [
             0.8,
             "#7fbc41"
            ],
            [
             0.9,
             "#4d9221"
            ],
            [
             1,
             "#276419"
            ]
           ],
           "sequential": [
            [
             0,
             "#0d0887"
            ],
            [
             0.1111111111111111,
             "#46039f"
            ],
            [
             0.2222222222222222,
             "#7201a8"
            ],
            [
             0.3333333333333333,
             "#9c179e"
            ],
            [
             0.4444444444444444,
             "#bd3786"
            ],
            [
             0.5555555555555556,
             "#d8576b"
            ],
            [
             0.6666666666666666,
             "#ed7953"
            ],
            [
             0.7777777777777778,
             "#fb9f3a"
            ],
            [
             0.8888888888888888,
             "#fdca26"
            ],
            [
             1,
             "#f0f921"
            ]
           ],
           "sequentialminus": [
            [
             0,
             "#0d0887"
            ],
            [
             0.1111111111111111,
             "#46039f"
            ],
            [
             0.2222222222222222,
             "#7201a8"
            ],
            [
             0.3333333333333333,
             "#9c179e"
            ],
            [
             0.4444444444444444,
             "#bd3786"
            ],
            [
             0.5555555555555556,
             "#d8576b"
            ],
            [
             0.6666666666666666,
             "#ed7953"
            ],
            [
             0.7777777777777778,
             "#fb9f3a"
            ],
            [
             0.8888888888888888,
             "#fdca26"
            ],
            [
             1,
             "#f0f921"
            ]
           ]
          },
          "colorway": [
           "#636efa",
           "#EF553B",
           "#00cc96",
           "#ab63fa",
           "#FFA15A",
           "#19d3f3",
           "#FF6692",
           "#B6E880",
           "#FF97FF",
           "#FECB52"
          ],
          "font": {
           "color": "#f2f5fa"
          },
          "geo": {
           "bgcolor": "rgb(17,17,17)",
           "lakecolor": "rgb(17,17,17)",
           "landcolor": "rgb(17,17,17)",
           "showlakes": true,
           "showland": true,
           "subunitcolor": "#506784"
          },
          "hoverlabel": {
           "align": "left"
          },
          "hovermode": "closest",
          "mapbox": {
           "style": "dark"
          },
          "paper_bgcolor": "rgb(17,17,17)",
          "plot_bgcolor": "rgb(17,17,17)",
          "polar": {
           "angularaxis": {
            "gridcolor": "#506784",
            "linecolor": "#506784",
            "ticks": ""
           },
           "bgcolor": "rgb(17,17,17)",
           "radialaxis": {
            "gridcolor": "#506784",
            "linecolor": "#506784",
            "ticks": ""
           }
          },
          "scene": {
           "xaxis": {
            "backgroundcolor": "rgb(17,17,17)",
            "gridcolor": "#506784",
            "gridwidth": 2,
            "linecolor": "#506784",
            "showbackground": true,
            "ticks": "",
            "zerolinecolor": "#C8D4E3"
           },
           "yaxis": {
            "backgroundcolor": "rgb(17,17,17)",
            "gridcolor": "#506784",
            "gridwidth": 2,
            "linecolor": "#506784",
            "showbackground": true,
            "ticks": "",
            "zerolinecolor": "#C8D4E3"
           },
           "zaxis": {
            "backgroundcolor": "rgb(17,17,17)",
            "gridcolor": "#506784",
            "gridwidth": 2,
            "linecolor": "#506784",
            "showbackground": true,
            "ticks": "",
            "zerolinecolor": "#C8D4E3"
           }
          },
          "shapedefaults": {
           "line": {
            "color": "#f2f5fa"
           }
          },
          "sliderdefaults": {
           "bgcolor": "#C8D4E3",
           "bordercolor": "rgb(17,17,17)",
           "borderwidth": 1,
           "tickwidth": 0
          },
          "ternary": {
           "aaxis": {
            "gridcolor": "#506784",
            "linecolor": "#506784",
            "ticks": ""
           },
           "baxis": {
            "gridcolor": "#506784",
            "linecolor": "#506784",
            "ticks": ""
           },
           "bgcolor": "rgb(17,17,17)",
           "caxis": {
            "gridcolor": "#506784",
            "linecolor": "#506784",
            "ticks": ""
           }
          },
          "title": {
           "x": 0.05
          },
          "updatemenudefaults": {
           "bgcolor": "#506784",
           "borderwidth": 0
          },
          "xaxis": {
           "automargin": true,
           "gridcolor": "#283442",
           "linecolor": "#506784",
           "ticks": "",
           "title": {
            "standoff": 15
           },
           "zerolinecolor": "#283442",
           "zerolinewidth": 2
          },
          "yaxis": {
           "automargin": true,
           "gridcolor": "#283442",
           "linecolor": "#506784",
           "ticks": "",
           "title": {
            "standoff": 15
           },
           "zerolinecolor": "#283442",
           "zerolinewidth": 2
          }
         }
        },
        "title": {
         "text": "Adj-R2",
         "x": 0.5,
         "xanchor": "center"
        },
        "width": 400,
        "xaxis": {
         "anchor": "y",
         "domain": [
          0,
          1
         ],
         "title": {
          "font": {
           "color": "lightgrey"
          },
          "text": "Moving Averages"
         }
        },
        "yaxis": {
         "anchor": "x",
         "domain": [
          0,
          1
         ],
         "title": {
          "text": ""
         }
        }
       }
      }
     },
     "metadata": {},
     "output_type": "display_data"
    },
    {
     "data": {
      "application/vnd.plotly.v1+json": {
       "config": {
        "plotlyServerURL": "https://plot.ly"
       },
       "data": [
        {
         "alignmentgroup": "True",
         "boxpoints": "all",
         "fillcolor": "rgba(255,255,255,0)",
         "hoveron": "points",
         "hovertemplate": "sc=1<br>theta=%{x}<br>diff=%{y}<extra></extra>",
         "legendgroup": "1",
         "line": {
          "color": "rgba(255,255,255,0)"
         },
         "marker": {
          "color": "#636efa",
          "opacity": 0.5,
          "size": 5
         },
         "name": "1",
         "offsetgroup": "1",
         "orientation": "v",
         "pointpos": 0,
         "showlegend": true,
         "type": "box",
         "x": [
          "CSENT",
          "IPM",
          "HOUSE",
          "UNEMP",
          "LRIR",
          "CSENT",
          "IPM",
          "HOUSE",
          "UNEMP",
          "LRIR",
          "CSENT",
          "IPM",
          "HOUSE",
          "UNEMP",
          "LRIR",
          "CSENT",
          "IPM",
          "HOUSE",
          "UNEMP",
          "LRIR",
          "CSENT",
          "IPM",
          "HOUSE",
          "UNEMP",
          "LRIR",
          "CSENT",
          "IPM",
          "HOUSE",
          "UNEMP",
          "LRIR",
          "CSENT",
          "IPM",
          "HOUSE",
          "UNEMP",
          "LRIR",
          "CSENT",
          "IPM",
          "HOUSE",
          "UNEMP",
          "LRIR",
          "CSENT",
          "IPM",
          "HOUSE",
          "UNEMP",
          "LRIR",
          "CSENT",
          "IPM",
          "HOUSE",
          "UNEMP",
          "LRIR",
          "CSENT",
          "IPM",
          "HOUSE",
          "UNEMP",
          "LRIR",
          "CSENT",
          "IPM",
          "HOUSE",
          "UNEMP",
          "LRIR",
          "CSENT",
          "IPM",
          "HOUSE",
          "UNEMP",
          "LRIR",
          "CSENT",
          "IPM",
          "HOUSE",
          "UNEMP",
          "LRIR",
          "CSENT",
          "IPM",
          "HOUSE",
          "UNEMP",
          "LRIR",
          "CSENT",
          "IPM",
          "HOUSE",
          "UNEMP",
          "LRIR",
          "CSENT",
          "IPM",
          "HOUSE",
          "UNEMP",
          "LRIR",
          "CSENT",
          "IPM",
          "HOUSE",
          "UNEMP",
          "LRIR",
          "CSENT",
          "IPM",
          "HOUSE",
          "UNEMP",
          "LRIR",
          "CSENT",
          "IPM",
          "HOUSE",
          "UNEMP",
          "LRIR",
          "CSENT",
          "IPM",
          "HOUSE",
          "UNEMP",
          "LRIR",
          "CSENT",
          "IPM",
          "HOUSE",
          "UNEMP",
          "LRIR",
          "CSENT",
          "IPM",
          "HOUSE",
          "UNEMP",
          "LRIR",
          "CSENT",
          "IPM",
          "HOUSE",
          "UNEMP",
          "LRIR",
          "CSENT",
          "IPM",
          "HOUSE",
          "UNEMP",
          "LRIR",
          "CSENT",
          "IPM",
          "HOUSE",
          "UNEMP",
          "LRIR",
          "CSENT",
          "IPM",
          "HOUSE",
          "UNEMP",
          "LRIR",
          "CSENT",
          "IPM",
          "HOUSE",
          "UNEMP",
          "LRIR",
          "CSENT",
          "IPM",
          "HOUSE",
          "UNEMP",
          "LRIR",
          "CSENT",
          "IPM",
          "HOUSE",
          "UNEMP",
          "LRIR",
          "CSENT",
          "IPM",
          "HOUSE",
          "UNEMP",
          "LRIR",
          "CSENT",
          "IPM",
          "HOUSE",
          "UNEMP",
          "LRIR",
          "CSENT",
          "IPM",
          "HOUSE",
          "UNEMP",
          "LRIR",
          "CSENT",
          "IPM",
          "HOUSE",
          "UNEMP",
          "LRIR",
          "CSENT",
          "IPM",
          "HOUSE",
          "UNEMP",
          "LRIR",
          "CSENT",
          "IPM",
          "HOUSE",
          "UNEMP",
          "LRIR"
         ],
         "x0": " ",
         "xaxis": "x",
         "y": [
          -2.2177404144378743,
          -0.6374795109383538,
          -1.3737131231569633,
          -0.5295132252796124,
          -1.4373762074750314,
          -3.1174670744754067,
          -0.6149397561461312,
          -2.2206417257292355,
          -0.19766370943602762,
          -1.894041164971208,
          -3.1443952898567105,
          -0.7088622291996671,
          -1.8677462548636434,
          0.2612263932411869,
          -1.3447732945078688,
          -3.0515478852364115,
          -0.9825990364420543,
          -1.6750625965730706,
          0.3863028848870558,
          -1.2704119442510127,
          -3.5603831474123675,
          -1.4426980866197976,
          -1.39501475179594,
          0.49351109774953006,
          -1.596948282124531,
          -3.5971663944602295,
          -1.7633002036266054,
          -1.0653691712477436,
          0.4159638938805239,
          -1.4646336827887394,
          0.08938467694074603,
          -0.12884468712444086,
          -0.06059168742911769,
          0.7276020380001853,
          0.7900131040769516,
          -1.1674854271856283,
          -0.09391297392227482,
          0.15419986902833038,
          0.5134150550514027,
          -0.033767439295144364,
          -1.81409910105367,
          0.3101493394293282,
          -0.8779142987983573,
          0.6096321319026394,
          -0.7547352700574246,
          -2.3698767447854845,
          0.2822088979315307,
          -1.1521050736063483,
          0.9400336230830293,
          -0.7223212865700575,
          -2.2604829772304162,
          0.06993591663470689,
          -0.9022965779146386,
          1.2018170417421263,
          -0.4315075393320553,
          -2.5991520307598197,
          -0.31491168977260564,
          -0.6895867070542989,
          1.2819962310409485,
          -0.6146584245952607,
          0.36801387208349556,
          0.4361926455813778,
          -0.3688319014406165,
          0.7783786323331912,
          0.988626689547285,
          -0.24851606263399084,
          0.5459741208658908,
          0.39369348516506,
          1.0611386251919699,
          0.743129631973451,
          -1.1489991790820673,
          0.5759864970498523,
          0.10136784492278927,
          0.9833038504001523,
          0.08767187316446279,
          -1.6586644596813747,
          0.7859935366050648,
          -0.4427506039811959,
          1.205895531875309,
          -0.17585435653982007,
          -1.9427849621791005,
          0.6383194336608051,
          -0.5636857633068413,
          1.4532717471072045,
          -0.1546783296052423,
          -2.040050455864562,
          0.3703846517359164,
          -0.2758539150414947,
          1.672333733896175,
          -0.08044795039107822,
          0.11971031268949872,
          1.0382993689294366,
          -0.6943458168918806,
          0.7222893639159418,
          0.8582820725921998,
          0.04929595531506159,
          0.9106918009871423,
          0.15967432070393084,
          1.0556434597103141,
          0.9946729860718149,
          -0.5299013083728887,
          0.9540115629997423,
          0.3330343184907383,
          1.2462303140634052,
          0.6299669730113937,
          -1.2302954360335265,
          0.9258172324377902,
          0.20629714518480569,
          1.3115490901831324,
          0.33167105395060137,
          -1.528038020674197,
          0.9745418666686536,
          -0.11174885554313008,
          1.5055285771894305,
          0.14550977700407408,
          -1.811592196738815,
          0.7639480154197607,
          -0.09918047715489564,
          1.7527519420831057,
          0.09177111838938767,
          -0.11119860285460614,
          1.4196168892204515,
          -0.8721128525605883,
          0.7925853758078301,
          0.821937441688898,
          0.0005127506335496079,
          1.3940601909248382,
          -0.1723188141496692,
          0.9702724719140283,
          0.9672309138275947,
          -0.2250225892237605,
          1.2433820933584254,
          0.20449332118387797,
          1.197108640191498,
          0.9012673817614063,
          -0.7453880309799157,
          1.217071324241406,
          0.3937156313596537,
          1.4250015326115992,
          0.7317547938628417,
          -1.2490998108426816,
          1.0686958242494988,
          0.3464741112201306,
          1.5101260382035901,
          0.48619036662123793,
          -1.501054040853354,
          1.0562316375575937,
          0.1936586429878524,
          1.7409822301687177,
          0.3155587528005963,
          -0.3270736055469152,
          1.7632732408346428,
          -0.9143099362185336,
          0.9147157260039336,
          0.7544138198913846,
          -0.11961278983974477,
          1.716755730300755,
          -0.3599678687580372,
          1.018010291233752,
          0.9682145410949614,
          -0.16367035016706133,
          1.640364420576053,
          0.008753820991709738,
          1.1394656642741632,
          0.9479970548963159,
          -0.459289485301408,
          1.452547183920978,
          0.36043652727328546,
          1.3776333788708515,
          0.9702139693891016,
          -0.8957188138786227,
          1.2935689549997376,
          0.5291585602836513,
          1.5560590333440452,
          0.7784991856844625,
          -1.2460329558955507,
          1.1439234407188907,
          0.5896601818852432,
          1.7055793014381022,
          0.591251007032584
         ],
         "y0": " ",
         "yaxis": "y"
        },
        {
         "alignmentgroup": "True",
         "boxpoints": "all",
         "fillcolor": "rgba(255,255,255,0)",
         "hoveron": "points",
         "hovertemplate": "sc=1<br>theta=%{x}<br>diff=%{y}<extra></extra>",
         "legendgroup": "1",
         "line": {
          "color": "rgba(255,255,255,0)"
         },
         "marker": {
          "color": "#636efa",
          "opacity": 0.5,
          "size": 5
         },
         "name": "1",
         "offsetgroup": "1",
         "orientation": "v",
         "pointpos": 0,
         "showlegend": false,
         "type": "box",
         "x": [
          "CSENT",
          "IPM",
          "HOUSE",
          "UNEMP",
          "LRIR",
          "CSENT",
          "IPM",
          "HOUSE",
          "UNEMP",
          "LRIR",
          "CSENT",
          "IPM",
          "HOUSE",
          "UNEMP",
          "LRIR",
          "CSENT",
          "IPM",
          "HOUSE",
          "UNEMP",
          "LRIR",
          "CSENT",
          "IPM",
          "HOUSE",
          "UNEMP",
          "LRIR",
          "CSENT",
          "IPM",
          "HOUSE",
          "UNEMP",
          "LRIR",
          "CSENT",
          "IPM",
          "HOUSE",
          "UNEMP",
          "LRIR",
          "CSENT",
          "IPM",
          "HOUSE",
          "UNEMP",
          "LRIR",
          "CSENT",
          "IPM",
          "HOUSE",
          "UNEMP",
          "LRIR",
          "CSENT",
          "IPM",
          "HOUSE",
          "UNEMP",
          "LRIR",
          "CSENT",
          "IPM",
          "HOUSE",
          "UNEMP",
          "LRIR",
          "CSENT",
          "IPM",
          "HOUSE",
          "UNEMP",
          "LRIR",
          "CSENT",
          "IPM",
          "HOUSE",
          "UNEMP",
          "LRIR",
          "CSENT",
          "IPM",
          "HOUSE",
          "UNEMP",
          "LRIR",
          "CSENT",
          "IPM",
          "HOUSE",
          "UNEMP",
          "LRIR",
          "CSENT",
          "IPM",
          "HOUSE",
          "UNEMP",
          "LRIR",
          "CSENT",
          "IPM",
          "HOUSE",
          "UNEMP",
          "LRIR",
          "CSENT",
          "IPM",
          "HOUSE",
          "UNEMP",
          "LRIR",
          "CSENT",
          "IPM",
          "HOUSE",
          "UNEMP",
          "LRIR",
          "CSENT",
          "IPM",
          "HOUSE",
          "UNEMP",
          "LRIR",
          "CSENT",
          "IPM",
          "HOUSE",
          "UNEMP",
          "LRIR",
          "CSENT",
          "IPM",
          "HOUSE",
          "UNEMP",
          "LRIR",
          "CSENT",
          "IPM",
          "HOUSE",
          "UNEMP",
          "LRIR",
          "CSENT",
          "IPM",
          "HOUSE",
          "UNEMP",
          "LRIR",
          "CSENT",
          "IPM",
          "HOUSE",
          "UNEMP",
          "LRIR",
          "CSENT",
          "IPM",
          "HOUSE",
          "UNEMP",
          "LRIR",
          "CSENT",
          "IPM",
          "HOUSE",
          "UNEMP",
          "LRIR",
          "CSENT",
          "IPM",
          "HOUSE",
          "UNEMP",
          "LRIR",
          "CSENT",
          "IPM",
          "HOUSE",
          "UNEMP",
          "LRIR",
          "CSENT",
          "IPM",
          "HOUSE",
          "UNEMP",
          "LRIR",
          "CSENT",
          "IPM",
          "HOUSE",
          "UNEMP",
          "LRIR",
          "CSENT",
          "IPM",
          "HOUSE",
          "UNEMP",
          "LRIR",
          "CSENT",
          "IPM",
          "HOUSE",
          "UNEMP",
          "LRIR",
          "CSENT",
          "IPM",
          "HOUSE",
          "UNEMP",
          "LRIR",
          "CSENT",
          "IPM",
          "HOUSE",
          "UNEMP",
          "LRIR",
          "CSENT",
          "IPM",
          "HOUSE",
          "UNEMP",
          "LRIR"
         ],
         "x0": " ",
         "xaxis": "x2",
         "y": [
          0.11600595664975055,
          0.03742327591471484,
          0.07654988168121046,
          0.031316530295195766,
          0.0797270708471477,
          0.15533352787470167,
          0.036855340752231514,
          0.11869030886164478,
          0.012179724831421601,
          0.10373213432945416,
          0.15539553025581,
          0.04198885374690542,
          0.10191221904977721,
          -0.016494684831601658,
          0.07621054037213615,
          0.15144122989539566,
          0.05694302399028173,
          0.09240571179704293,
          -0.024514308631473414,
          0.072151154665553,
          0.1698626106992649,
          0.0811114460639153,
          0.07869799345792816,
          -0.03158742396189096,
          0.08879347801546944,
          0.17126716626405813,
          0.09692754769393463,
          0.0615459355592205,
          -0.02650225971123965,
          0.0822650831980718,
          -0.004316630832318147,
          0.006103914121009635,
          0.0028878895669742777,
          -0.0370924422730049,
          -0.04048162691861801,
          0.05505996464931018,
          0.004852407048146046,
          -0.008128034852186938,
          -0.027837063228981607,
          0.0017532643393466385,
          0.08504544474055875,
          -0.01730104302508817,
          0.044601377424874245,
          -0.03477223975461019,
          0.038733040416441544,
          0.10768688808360771,
          -0.0159565107631382,
          0.058224458719873695,
          -0.05573942378811836,
          0.03780378847659094,
          0.10374612026444552,
          -0.003891011602636274,
          0.046533994470882356,
          -0.07255144746732078,
          0.02310324041419587,
          0.11604764600162165,
          0.017064517950301616,
          0.03628843627766132,
          -0.07801928400594149,
          0.03253779824366865,
          -0.017313332858638786,
          -0.020650102124703862,
          0.016170416032953217,
          -0.03800760089048716,
          -0.04917740332328824,
          0.011085404250008812,
          -0.026235350830821402,
          -0.018657872981756807,
          -0.053361285966939676,
          -0.0363446146714731,
          0.05109705501140449,
          -0.02991724448732891,
          -0.005056792579341551,
          -0.05280808086892963,
          -0.004368361453523595,
          0.07345217474475885,
          -0.043115769255474334,
          0.021934654112283902,
          -0.06833913692498284,
          0.008915094089999243,
          0.08525048584888884,
          -0.03512876698865064,
          0.028093807779498325,
          -0.08509563488569105,
          0.007982447123762837,
          0.08815902446188151,
          -0.019865318836151058,
          0.014024591140680664,
          -0.09910673402896975,
          0.0041579823110247105,
          -0.005402053268533935,
          -0.05112883240246313,
          0.02879987828898145,
          -0.03454465090483305,
          -0.04157182214014843,
          -0.002154668484503852,
          -0.043314021254853285,
          -0.00705800860823369,
          -0.05089257742590769,
          -0.0476819353810044,
          0.022637769677748,
          -0.0470775651527241,
          -0.015510759871212976,
          -0.0631238342516629,
          -0.030175401671153956,
          0.05287222845162509,
          -0.04869246657376214,
          -0.010187804750878326,
          -0.07123660186068348,
          -0.01656479480833295,
          0.06631791270809595,
          -0.05317866842184105,
          0.005556214534508719,
          -0.08572068197614158,
          -0.007401864875343223,
          0.07683662304077765,
          -0.041188929524555884,
          0.0049651000434230985,
          -0.10224108055975345,
          -0.004672437304172217,
          0.004849246022819331,
          -0.07195111500549745,
          0.03496504755659369,
          -0.03787422662502293,
          -0.039388330133774074,
          -0.00002186794729386321,
          -0.06841480951465584,
          0.007211738244457533,
          -0.04572045081876619,
          -0.04556355957107305,
          0.009442941387393655,
          -0.06058864092538829,
          -0.008986062617173718,
          -0.058078601921845,
          -0.04249735560072054,
          0.031043729220962435,
          -0.061689869862375124,
          -0.018463151416093893,
          -0.07359406745399011,
          -0.035454762919312044,
          0.05311120652186241,
          -0.056856668570973934,
          -0.01727981407977275,
          -0.08341392146251236,
          -0.024560999564202546,
          0.06348882377903875,
          -0.05713061348792525,
          -0.00970449333714496,
          -0.09966570572019717,
          -0.01599045980935121,
          0.013690570482944087,
          -0.09138112714612345,
          0.035710911817076085,
          -0.04370394623141094,
          -0.035468303281499414,
          0.004977914461959054,
          -0.08645350382338446,
          0.01456888428680414,
          -0.04787945075018629,
          -0.0453079276534295,
          0.00674110392514371,
          -0.08164117407417337,
          -0.00036772546930385897,
          -0.05399587802639372,
          -0.04405917305156004,
          0.018789745119513923,
          -0.07263975658677602,
          -0.016151659918368533,
          -0.06840229958719668,
          -0.046292014593015574,
          0.03701024615304738,
          -0.06693214420328586,
          -0.02545404966953435,
          -0.08245859490208274,
          -0.03837221494091514,
          0.05212047009573617,
          -0.06087510689735276,
          -0.02982222971919457,
          -0.09532836663839717,
          -0.029907167525402012
         ],
         "y0": " ",
         "yaxis": "y2"
        },
        {
         "alignmentgroup": "True",
         "boxpoints": "all",
         "fillcolor": "rgba(255,255,255,0)",
         "hoveron": "points",
         "hovertemplate": "sc=3<br>theta=%{x}<br>diff=%{y}<extra></extra>",
         "legendgroup": "3",
         "line": {
          "color": "rgba(255,255,255,0)"
         },
         "marker": {
          "color": "#EF553B",
          "opacity": 0.5,
          "size": 5
         },
         "name": "3",
         "offsetgroup": "3",
         "orientation": "v",
         "pointpos": 0,
         "showlegend": true,
         "type": "box",
         "x": [
          "CSENT",
          "IPM",
          "HOUSE",
          "UNEMP",
          "LRIR",
          "CSENT",
          "IPM",
          "HOUSE",
          "UNEMP",
          "LRIR",
          "CSENT",
          "IPM",
          "HOUSE",
          "UNEMP",
          "LRIR",
          "CSENT",
          "IPM",
          "HOUSE",
          "UNEMP",
          "LRIR",
          "CSENT",
          "IPM",
          "HOUSE",
          "UNEMP",
          "LRIR",
          "CSENT",
          "IPM",
          "HOUSE",
          "UNEMP",
          "LRIR",
          "CSENT",
          "IPM",
          "HOUSE",
          "UNEMP",
          "LRIR",
          "CSENT",
          "IPM",
          "HOUSE",
          "UNEMP",
          "LRIR",
          "CSENT",
          "IPM",
          "HOUSE",
          "UNEMP",
          "LRIR",
          "CSENT",
          "IPM",
          "HOUSE",
          "UNEMP",
          "LRIR",
          "CSENT",
          "IPM",
          "HOUSE",
          "UNEMP",
          "LRIR",
          "CSENT",
          "IPM",
          "HOUSE",
          "UNEMP",
          "LRIR",
          "CSENT",
          "IPM",
          "HOUSE",
          "UNEMP",
          "LRIR",
          "CSENT",
          "IPM",
          "HOUSE",
          "UNEMP",
          "LRIR",
          "CSENT",
          "IPM",
          "HOUSE",
          "UNEMP",
          "LRIR",
          "CSENT",
          "IPM",
          "HOUSE",
          "UNEMP",
          "LRIR",
          "CSENT",
          "IPM",
          "HOUSE",
          "UNEMP",
          "LRIR",
          "CSENT",
          "IPM",
          "HOUSE",
          "UNEMP",
          "LRIR",
          "CSENT",
          "IPM",
          "HOUSE",
          "UNEMP",
          "LRIR",
          "CSENT",
          "IPM",
          "HOUSE",
          "UNEMP",
          "LRIR",
          "CSENT",
          "IPM",
          "HOUSE",
          "UNEMP",
          "LRIR",
          "CSENT",
          "IPM",
          "HOUSE",
          "UNEMP",
          "LRIR",
          "CSENT",
          "IPM",
          "HOUSE",
          "UNEMP",
          "LRIR",
          "CSENT",
          "IPM",
          "HOUSE",
          "UNEMP",
          "LRIR",
          "CSENT",
          "IPM",
          "HOUSE",
          "UNEMP",
          "LRIR",
          "CSENT",
          "IPM",
          "HOUSE",
          "UNEMP",
          "LRIR",
          "CSENT",
          "IPM",
          "HOUSE",
          "UNEMP",
          "LRIR",
          "CSENT",
          "IPM",
          "HOUSE",
          "UNEMP",
          "LRIR",
          "CSENT",
          "IPM",
          "HOUSE",
          "UNEMP",
          "LRIR",
          "CSENT",
          "IPM",
          "HOUSE",
          "UNEMP",
          "LRIR",
          "CSENT",
          "IPM",
          "HOUSE",
          "UNEMP",
          "LRIR",
          "CSENT",
          "IPM",
          "HOUSE",
          "UNEMP",
          "LRIR",
          "CSENT",
          "IPM",
          "HOUSE",
          "UNEMP",
          "LRIR",
          "CSENT",
          "IPM",
          "HOUSE",
          "UNEMP",
          "LRIR",
          "CSENT",
          "IPM",
          "HOUSE",
          "UNEMP",
          "LRIR",
          "CSENT",
          "IPM",
          "HOUSE",
          "UNEMP",
          "LRIR"
         ],
         "x0": " ",
         "xaxis": "x",
         "y": [
          -1.8666628709846398,
          -0.8324067333569634,
          -1.4671224110306245,
          -0.6960334424025714,
          -1.2916662856815462,
          -2.440906375092723,
          -0.7338454093926199,
          -2.1423067901499167,
          -0.5795081710456564,
          -1.6827465352720345,
          -2.340723078015171,
          -0.8277112403464475,
          -1.9642244096092494,
          -0.2353458145447842,
          -1.2850968459443184,
          -2.023657997839864,
          -1.0109011878311964,
          -2.0270673248430215,
          -0.2695779684392061,
          -1.0380238868815894,
          -2.2132511006629203,
          -1.24366674780374,
          -1.6963566529525345,
          0.024926299044345512,
          -1.0276633177726335,
          -2.2835858181862374,
          -1.6294616531339488,
          -1.167306176247127,
          0.13769035870748603,
          -1.0163128629456644,
          0.19366942878340776,
          -0.3046410532618351,
          -0.6203112015220951,
          0.4281780467570364,
          0.5394295612328444,
          -1.176997748428863,
          -0.600614113058362,
          -0.7854319585751233,
          -0.013301282211225285,
          -0.4284328623630671,
          -2.0364008006995977,
          -0.5268853542918057,
          -1.6347905721621796,
          -0.342183169417865,
          -1.3104703663864719,
          -2.3438779578384796,
          -0.5411743665401829,
          -1.9000077806731879,
          -0.1310204310250267,
          -1.3103213784288403,
          -2.065809586419852,
          -0.7108394034448402,
          -1.8566208879000232,
          0.010763279381292179,
          -0.9772509552580075,
          -2.030357507289339,
          -0.9182106246831383,
          -1.7104568486436031,
          0.10946711833181588,
          -0.8523956864888733,
          0.17140669291894284,
          0.09826264988351152,
          -0.8037083169456132,
          0.4477008160064484,
          0.49705711307059275,
          -0.4171667298720658,
          -0.12257182917741982,
          -0.5244354027366169,
          0.5010696270972366,
          0.17983021332329496,
          -1.5024260518004517,
          -0.3430193427777839,
          -1.0083701109722591,
          0.11661410265601191,
          -0.6576612471806431,
          -2.0555942861070537,
          -0.335325586003834,
          -1.514635499232953,
          0.0064186399903851665,
          -1.0435268575748422,
          -2.088959244418856,
          -0.4120274584926342,
          -1.7134204523323158,
          0.14463297674552855,
          -0.9438908415754321,
          -1.929271809517421,
          -0.6015565846787938,
          -1.5486090638078194,
          0.31946695162283767,
          -0.7520503614963632,
          -0.11304052171923118,
          0.6345559254979669,
          -0.9774366749322381,
          0.4342501252452706,
          0.3671282365648132,
          -0.16051350923328567,
          0.3384971592289041,
          -0.5505395728353779,
          0.6085920858561487,
          0.3970576325191235,
          -0.8452290485179521,
          0.1042638759491048,
          -0.668704119088626,
          0.5217051584830994,
          -0.09331188426652748,
          -1.6236958268925124,
          -0.12111225585294783,
          -1.0071066310564243,
          0.2864021048626384,
          -0.5369341445712283,
          -1.8776053349064998,
          -0.18074925056675362,
          -1.3648133269598537,
          0.25228422818524976,
          -0.7427378188024525,
          -1.861345347190384,
          -0.2741926096232552,
          -1.3948543568812601,
          0.4563218462383709,
          -0.6584556270914295,
          -0.3604476987254257,
          0.8675036588797527,
          -1.0896100332738774,
          0.4956473665788348,
          0.30179290413550675,
          -0.23350094825883616,
          0.8283030474786379,
          -0.6884927736090951,
          0.6119254183944358,
          0.39810919960413127,
          -0.5053065712860887,
          0.540499764579093,
          -0.5831386168390127,
          0.6340869239172857,
          0.21494889517432103,
          -1.1191544655127954,
          0.2597364044354995,
          -0.6903555717131944,
          0.5696878436519865,
          -0.07718235306833954,
          -1.577703772523896,
          0.009193191299421422,
          -0.9467912616758465,
          0.4231814309129218,
          -0.38881580629744494,
          -1.695422229069612,
          -0.032479349943081104,
          -1.126324464766264,
          0.49058018715429164,
          -0.5124351332737271,
          -0.6140992895257664,
          1.162016529027139,
          -1.11818200984714,
          0.5542782995119087,
          0.1549509351570979,
          -0.3632807520310104,
          1.059030259062828,
          -0.8033142574040877,
          0.6719324408972422,
          0.38660482258398243,
          -0.4330685207430047,
          1.014017741645378,
          -0.6191487632765815,
          0.6868741564347252,
          0.30922965825341553,
          -0.7746538117157256,
          0.6584139366037007,
          -0.5489069846255594,
          0.6767856058583099,
          0.22355546820805827,
          -1.2012177728732283,
          0.34809008674665964,
          -0.6524010650573411,
          0.6262852768383951,
          -0.028671499604191908,
          -1.4490878127654385,
          0.134801916954431,
          -0.7646705960759173,
          0.6109848959566895,
          -0.24822403711663288
         ],
         "y0": " ",
         "yaxis": "y"
        },
        {
         "alignmentgroup": "True",
         "boxpoints": "all",
         "fillcolor": "rgba(255,255,255,0)",
         "hoveron": "points",
         "hovertemplate": "sc=3<br>theta=%{x}<br>diff=%{y}<extra></extra>",
         "legendgroup": "3",
         "line": {
          "color": "rgba(255,255,255,0)"
         },
         "marker": {
          "color": "#EF553B",
          "opacity": 0.5,
          "size": 5
         },
         "name": "3",
         "offsetgroup": "3",
         "orientation": "v",
         "pointpos": 0,
         "showlegend": false,
         "type": "box",
         "x": [
          "CSENT",
          "IPM",
          "HOUSE",
          "UNEMP",
          "LRIR",
          "CSENT",
          "IPM",
          "HOUSE",
          "UNEMP",
          "LRIR",
          "CSENT",
          "IPM",
          "HOUSE",
          "UNEMP",
          "LRIR",
          "CSENT",
          "IPM",
          "HOUSE",
          "UNEMP",
          "LRIR",
          "CSENT",
          "IPM",
          "HOUSE",
          "UNEMP",
          "LRIR",
          "CSENT",
          "IPM",
          "HOUSE",
          "UNEMP",
          "LRIR",
          "CSENT",
          "IPM",
          "HOUSE",
          "UNEMP",
          "LRIR",
          "CSENT",
          "IPM",
          "HOUSE",
          "UNEMP",
          "LRIR",
          "CSENT",
          "IPM",
          "HOUSE",
          "UNEMP",
          "LRIR",
          "CSENT",
          "IPM",
          "HOUSE",
          "UNEMP",
          "LRIR",
          "CSENT",
          "IPM",
          "HOUSE",
          "UNEMP",
          "LRIR",
          "CSENT",
          "IPM",
          "HOUSE",
          "UNEMP",
          "LRIR",
          "CSENT",
          "IPM",
          "HOUSE",
          "UNEMP",
          "LRIR",
          "CSENT",
          "IPM",
          "HOUSE",
          "UNEMP",
          "LRIR",
          "CSENT",
          "IPM",
          "HOUSE",
          "UNEMP",
          "LRIR",
          "CSENT",
          "IPM",
          "HOUSE",
          "UNEMP",
          "LRIR",
          "CSENT",
          "IPM",
          "HOUSE",
          "UNEMP",
          "LRIR",
          "CSENT",
          "IPM",
          "HOUSE",
          "UNEMP",
          "LRIR",
          "CSENT",
          "IPM",
          "HOUSE",
          "UNEMP",
          "LRIR",
          "CSENT",
          "IPM",
          "HOUSE",
          "UNEMP",
          "LRIR",
          "CSENT",
          "IPM",
          "HOUSE",
          "UNEMP",
          "LRIR",
          "CSENT",
          "IPM",
          "HOUSE",
          "UNEMP",
          "LRIR",
          "CSENT",
          "IPM",
          "HOUSE",
          "UNEMP",
          "LRIR",
          "CSENT",
          "IPM",
          "HOUSE",
          "UNEMP",
          "LRIR",
          "CSENT",
          "IPM",
          "HOUSE",
          "UNEMP",
          "LRIR",
          "CSENT",
          "IPM",
          "HOUSE",
          "UNEMP",
          "LRIR",
          "CSENT",
          "IPM",
          "HOUSE",
          "UNEMP",
          "LRIR",
          "CSENT",
          "IPM",
          "HOUSE",
          "UNEMP",
          "LRIR",
          "CSENT",
          "IPM",
          "HOUSE",
          "UNEMP",
          "LRIR",
          "CSENT",
          "IPM",
          "HOUSE",
          "UNEMP",
          "LRIR",
          "CSENT",
          "IPM",
          "HOUSE",
          "UNEMP",
          "LRIR",
          "CSENT",
          "IPM",
          "HOUSE",
          "UNEMP",
          "LRIR",
          "CSENT",
          "IPM",
          "HOUSE",
          "UNEMP",
          "LRIR",
          "CSENT",
          "IPM",
          "HOUSE",
          "UNEMP",
          "LRIR",
          "CSENT",
          "IPM",
          "HOUSE",
          "UNEMP",
          "LRIR",
          "CSENT",
          "IPM",
          "HOUSE",
          "UNEMP",
          "LRIR"
         ],
         "x0": " ",
         "xaxis": "x2",
         "y": [
          0.1222923998849077,
          0.05801923428401734,
          0.0984897711547188,
          0.04889817364604765,
          0.08762858117322536,
          0.16063728907481933,
          0.053353824094457325,
          0.14356968405711656,
          0.04249402138908587,
          0.11589466530253933,
          0.1561107691012954,
          0.060249332378441434,
          0.1339808214413476,
          0.017692661792328757,
          0.09117400065449599,
          0.13703290115833788,
          0.07257254583569961,
          0.1372359612982934,
          0.02015699942111926,
          0.07440641432970829,
          0.14530744728273015,
          0.08649834874003692,
          0.11489640691581826,
          -0.0018607665734785561,
          0.07236742156122788,
          0.14910857843703917,
          0.11067342221266152,
          0.0814481636109885,
          -0.010328192240920187,
          0.07152837305545368,
          -0.01148638917337319,
          0.017429075629846635,
          0.03466495711805395,
          -0.02581755652527251,
          -0.0327782071638445,
          0.07099175410298575,
          0.037680278419738866,
          0.04866550944945791,
          0.0008672759580025113,
          0.027188031126242573,
          0.12647936502986878,
          0.03605772357139747,
          0.10428722840242577,
          0.02368239397647165,
          0.08537927746428031,
          0.14758549231598617,
          0.038159547457581544,
          0.1231668851324409,
          0.00946352501265657,
          0.08817524099320073,
          0.13302398208667632,
          0.049799266336592374,
          0.1211771269500207,
          -0.0007865085487442913,
          0.06737497770165812,
          0.12924411490801457,
          0.0627143879308063,
          0.11116581830763039,
          -0.007946512630206515,
          0.058453484313341963,
          -0.009735531739790027,
          -0.005549863801095012,
          0.04224210469503964,
          -0.02596615875569619,
          -0.02893541530207555,
          0.023541749220040487,
          0.007073648642456298,
          0.02935118574828388,
          -0.03027221285520376,
          -0.010613912736273212,
          0.0873537082191842,
          0.021665964379943725,
          0.06078581132526262,
          -0.007597750701685557,
          0.040643449132644505,
          0.12368202038414644,
          0.022670452731334167,
          0.09467640029647051,
          -0.0004434321069988201,
          0.06735431687059856,
          0.12816173063898872,
          0.028264169450371468,
          0.1079019901216437,
          -0.010269381950251621,
          0.06257964306705144,
          0.11879286283842627,
          0.04049291778491493,
          0.09790231890730494,
          -0.022776424678053075,
          0.050133925305603566,
          0.0061857251679872105,
          -0.03684979797815102,
          0.0497000824834366,
          -0.02482785335018567,
          -0.020879781943350828,
          0.008681200822761692,
          -0.019062770225564796,
          0.028814923788162194,
          -0.03500863350547734,
          -0.022464656338888167,
          0.04625688206544254,
          -0.006148115367108908,
          0.03712330153073262,
          -0.0317357998962261,
          0.005419986213388572,
          0.09279787595585876,
          0.007733689812087441,
          0.060328678002893876,
          -0.01880904184158938,
          0.033290182314652084,
          0.1111495159547693,
          0.012068501641709473,
          0.08391650127271044,
          -0.01733233342634788,
          0.04772949332694332,
          0.1107879115190793,
          0.018263518176113602,
          0.08592808908455185,
          -0.03188354175838459,
          0.042728690917462786,
          0.019347659665258643,
          -0.05148779151781835,
          0.05481496165386579,
          -0.028565720434121977,
          -0.01712290330385169,
          0.012269762381514115,
          -0.047581401570549464,
          0.034733313984059544,
          -0.03454099392542298,
          -0.022079216205357355,
          0.02657089156723158,
          -0.031025448371887254,
          0.030454505659952336,
          -0.03667085520676405,
          -0.012016008202005324,
          0.06064324999086457,
          -0.015723937584537495,
          0.03877159972518052,
          -0.035301131134049646,
          0.0045526903689994125,
          0.08985013170989076,
          -0.000590788312915258,
          0.0566727551017181,
          -0.028002627781976708,
          0.02427350793240679,
          0.09870277228422919,
          0.002139930883678365,
          0.06852740369221078,
          -0.03350563653503058,
          0.03262806293974496,
          0.03202742879412612,
          -0.07044396188642288,
          0.05562954897677286,
          -0.03199539488555059,
          -0.008649422728608802,
          0.01880759573831914,
          -0.06199796688714543,
          0.03990608728683864,
          -0.03809822470563706,
          -0.021395186300058988,
          0.022139398846842684,
          -0.05882009646759834,
          0.03110408152815547,
          -0.03877440149719347,
          -0.016900574839114335,
          0.04031119980236619,
          -0.03875253072652274,
          0.029153538543851276,
          -0.03989300892624936,
          -0.012695265106977605,
          0.06523935414856785,
          -0.02147272322376992,
          0.03713723006719216,
          -0.039463327749241106,
          0.0017172364322129985,
          0.08187722974999756,
          -0.008633933222555235,
          0.04569939460679706,
          -0.04051918112160058,
          0.015445520474349439
         ],
         "y0": " ",
         "yaxis": "y2"
        },
        {
         "alignmentgroup": "True",
         "boxpoints": "all",
         "fillcolor": "rgba(255,255,255,0)",
         "hoveron": "points",
         "hovertemplate": "sc=6<br>theta=%{x}<br>diff=%{y}<extra></extra>",
         "legendgroup": "6",
         "line": {
          "color": "rgba(255,255,255,0)"
         },
         "marker": {
          "color": "#00cc96",
          "opacity": 0.5,
          "size": 5
         },
         "name": "6",
         "offsetgroup": "6",
         "orientation": "v",
         "pointpos": 0,
         "showlegend": true,
         "type": "box",
         "x": [
          "CSENT",
          "IPM",
          "HOUSE",
          "UNEMP",
          "LRIR",
          "CSENT",
          "IPM",
          "HOUSE",
          "UNEMP",
          "LRIR",
          "CSENT",
          "IPM",
          "HOUSE",
          "UNEMP",
          "LRIR",
          "CSENT",
          "IPM",
          "HOUSE",
          "UNEMP",
          "LRIR",
          "CSENT",
          "IPM",
          "HOUSE",
          "UNEMP",
          "LRIR",
          "CSENT",
          "IPM",
          "HOUSE",
          "UNEMP",
          "LRIR",
          "CSENT",
          "IPM",
          "HOUSE",
          "UNEMP",
          "LRIR",
          "CSENT",
          "IPM",
          "HOUSE",
          "UNEMP",
          "LRIR",
          "CSENT",
          "IPM",
          "HOUSE",
          "UNEMP",
          "LRIR",
          "CSENT",
          "IPM",
          "HOUSE",
          "UNEMP",
          "LRIR",
          "CSENT",
          "IPM",
          "HOUSE",
          "UNEMP",
          "LRIR",
          "CSENT",
          "IPM",
          "HOUSE",
          "UNEMP",
          "LRIR",
          "CSENT",
          "IPM",
          "HOUSE",
          "UNEMP",
          "LRIR",
          "CSENT",
          "IPM",
          "HOUSE",
          "UNEMP",
          "LRIR",
          "CSENT",
          "IPM",
          "HOUSE",
          "UNEMP",
          "LRIR",
          "CSENT",
          "IPM",
          "HOUSE",
          "UNEMP",
          "LRIR",
          "CSENT",
          "IPM",
          "HOUSE",
          "UNEMP",
          "LRIR",
          "CSENT",
          "IPM",
          "HOUSE",
          "UNEMP",
          "LRIR",
          "CSENT",
          "IPM",
          "HOUSE",
          "UNEMP",
          "LRIR",
          "CSENT",
          "IPM",
          "HOUSE",
          "UNEMP",
          "LRIR",
          "CSENT",
          "IPM",
          "HOUSE",
          "UNEMP",
          "LRIR",
          "CSENT",
          "IPM",
          "HOUSE",
          "UNEMP",
          "LRIR",
          "CSENT",
          "IPM",
          "HOUSE",
          "UNEMP",
          "LRIR",
          "CSENT",
          "IPM",
          "HOUSE",
          "UNEMP",
          "LRIR",
          "CSENT",
          "IPM",
          "HOUSE",
          "UNEMP",
          "LRIR",
          "CSENT",
          "IPM",
          "HOUSE",
          "UNEMP",
          "LRIR",
          "CSENT",
          "IPM",
          "HOUSE",
          "UNEMP",
          "LRIR",
          "CSENT",
          "IPM",
          "HOUSE",
          "UNEMP",
          "LRIR",
          "CSENT",
          "IPM",
          "HOUSE",
          "UNEMP",
          "LRIR",
          "CSENT",
          "IPM",
          "HOUSE",
          "UNEMP",
          "LRIR",
          "CSENT",
          "IPM",
          "HOUSE",
          "UNEMP",
          "LRIR",
          "CSENT",
          "IPM",
          "HOUSE",
          "UNEMP",
          "LRIR",
          "CSENT",
          "IPM",
          "HOUSE",
          "UNEMP",
          "LRIR",
          "CSENT",
          "IPM",
          "HOUSE",
          "UNEMP",
          "LRIR",
          "CSENT",
          "IPM",
          "HOUSE",
          "UNEMP",
          "LRIR",
          "CSENT",
          "IPM",
          "HOUSE",
          "UNEMP",
          "LRIR"
         ],
         "x0": " ",
         "xaxis": "x",
         "y": [
          -1.121386539983039,
          -0.7732590277353903,
          -1.1933344316657895,
          -0.6267771707736429,
          -1.4298500079667225,
          -1.7455873921854987,
          -0.763671637856703,
          -1.9485924147479796,
          -0.8470060513972548,
          -1.6454137002416402,
          -1.5929499139810215,
          -0.8090376292401853,
          -1.9378390213186272,
          -0.6304007215688383,
          -1.3780870563398278,
          -1.3304979801456955,
          -0.899520757244801,
          -1.9514334005430456,
          -0.5804877181202883,
          -1.0307317499858062,
          -1.4217193908616945,
          -1.2805058481363982,
          -1.7345567364804992,
          -0.40564181934005994,
          -0.8658248080820528,
          -1.3959958011250464,
          -1.5694971663699508,
          -1.1385931777352898,
          -0.27917808472544614,
          -0.6924547522296329,
          0.7033503514454633,
          -0.24123995813634647,
          -0.664100900097945,
          0.20043292327399342,
          0.16693907438251365,
          -0.43042118691820974,
          -0.5784688023946636,
          -0.8008200747151974,
          -0.18657284096939541,
          -0.8168989788837937,
          -1.3941588368813385,
          -0.6427335808275068,
          -1.4954993027172918,
          -0.6277708101376938,
          -1.4941639181711075,
          -1.6782267347781339,
          -0.6888359919639679,
          -1.9068327019051061,
          -0.6566938845371286,
          -1.4584121065707798,
          -1.4126851376271947,
          -0.7578029953390182,
          -1.9049058103616634,
          -0.5012315324710261,
          -1.133478485589288,
          -1.2988659099055138,
          -0.9966155302576052,
          -1.7927584952463285,
          -0.3924750162422832,
          -0.8701134025804826,
          0.5214140731823065,
          0.07994917033954341,
          -0.8364791798546864,
          0.16988161136243463,
          0.1009805682809306,
          0.16733545276185247,
          -0.21578187166359264,
          -0.6578837691006774,
          0.1390928348625522,
          -0.3199083916870551,
          -0.849273525955196,
          -0.4897629345230694,
          -1.0817819505722994,
          -0.2878890041424924,
          -1.0958577757513375,
          -1.482045110274937,
          -0.5739565392926487,
          -1.581766656773615,
          -0.5479719962014205,
          -1.369558187936864,
          -1.5349810822864178,
          -0.6571970479992402,
          -1.8541699339033162,
          -0.515008930202546,
          -1.2243344424247695,
          -1.286114132054914,
          -0.8102485486367286,
          -1.7514982184820962,
          -0.3492161026594651,
          -0.9468169615908657,
          0.18075842861017577,
          0.5038624832380627,
          -1.0071159335965234,
          0.14303737829088803,
          -0.05233366880560908,
          0.25288459045305967,
          0.10932341414912727,
          -0.735720628484672,
          0.22311783013298125,
          -0.16687041682899206,
          -0.3008402694451373,
          -0.16387674988121947,
          -0.8590549212815013,
          0.02758680696901905,
          -0.666206399646339,
          -1.0904703332677599,
          -0.439017647496728,
          -1.227431266345711,
          -0.30289910826129507,
          -1.0932806711539378,
          -1.4497898673933562,
          -0.5491662102566295,
          -1.602097250577457,
          -0.46382307123616684,
          -1.2030257719364421,
          -1.3626373250732673,
          -0.6747237087342057,
          -1.7150859505420222,
          -0.36039287747781223,
          -1.02125738394958,
          -0.13111598230371424,
          0.7077288869070255,
          -1.1277545071898425,
          0.20884877190660767,
          -0.14373155985190245,
          0.10106241937654303,
          0.518315420423396,
          -0.8733355927528343,
          0.25228327458752275,
          -0.1798662551236916,
          -0.08127478531486254,
          0.1681659623939451,
          -0.8239558208818023,
          0.1596108774538436,
          -0.4241039002970721,
          -0.6358055998213548,
          -0.14051129460644418,
          -0.9925094908678957,
          -0.038150308037927516,
          -0.7525114529723158,
          -1.1791668731642169,
          -0.42802716671901386,
          -1.3007908289309134,
          -0.28466185721316606,
          -1.0257755171433391,
          -1.3125839004250928,
          -0.5530524305376225,
          -1.5241033645325874,
          -0.3372254706421991,
          -1.0304273510895783,
          -0.4303659378396274,
          0.9359794198500984,
          -1.1845427897613918,
          0.27210745691395566,
          -0.3096131185620381,
          -0.09717924108462395,
          0.7489654027861787,
          -0.9767002044154385,
          0.33571850051925267,
          -0.2023905212817887,
          -0.07452661596516297,
          0.58048685145428,
          -0.8681157324685014,
          0.2532245409089606,
          -0.3468390384565385,
          -0.37576638760484027,
          0.19143991085231793,
          -0.8897544771978874,
          0.09869657369477913,
          -0.505891474106491,
          -0.8284424890955622,
          -0.1519828655555706,
          -1.0686893395751094,
          -0.07846873185001435,
          -0.762307656047879,
          -1.1051498012952354,
          -0.41035034016012517,
          -1.2497066151197904,
          -0.22631432089514192,
          -0.9173028845769879
         ],
         "y0": " ",
         "yaxis": "y"
        },
        {
         "alignmentgroup": "True",
         "boxpoints": "all",
         "fillcolor": "rgba(255,255,255,0)",
         "hoveron": "points",
         "hovertemplate": "sc=6<br>theta=%{x}<br>diff=%{y}<extra></extra>",
         "legendgroup": "6",
         "line": {
          "color": "rgba(255,255,255,0)"
         },
         "marker": {
          "color": "#00cc96",
          "opacity": 0.5,
          "size": 5
         },
         "name": "6",
         "offsetgroup": "6",
         "orientation": "v",
         "pointpos": 0,
         "showlegend": false,
         "type": "box",
         "x": [
          "CSENT",
          "IPM",
          "HOUSE",
          "UNEMP",
          "LRIR",
          "CSENT",
          "IPM",
          "HOUSE",
          "UNEMP",
          "LRIR",
          "CSENT",
          "IPM",
          "HOUSE",
          "UNEMP",
          "LRIR",
          "CSENT",
          "IPM",
          "HOUSE",
          "UNEMP",
          "LRIR",
          "CSENT",
          "IPM",
          "HOUSE",
          "UNEMP",
          "LRIR",
          "CSENT",
          "IPM",
          "HOUSE",
          "UNEMP",
          "LRIR",
          "CSENT",
          "IPM",
          "HOUSE",
          "UNEMP",
          "LRIR",
          "CSENT",
          "IPM",
          "HOUSE",
          "UNEMP",
          "LRIR",
          "CSENT",
          "IPM",
          "HOUSE",
          "UNEMP",
          "LRIR",
          "CSENT",
          "IPM",
          "HOUSE",
          "UNEMP",
          "LRIR",
          "CSENT",
          "IPM",
          "HOUSE",
          "UNEMP",
          "LRIR",
          "CSENT",
          "IPM",
          "HOUSE",
          "UNEMP",
          "LRIR",
          "CSENT",
          "IPM",
          "HOUSE",
          "UNEMP",
          "LRIR",
          "CSENT",
          "IPM",
          "HOUSE",
          "UNEMP",
          "LRIR",
          "CSENT",
          "IPM",
          "HOUSE",
          "UNEMP",
          "LRIR",
          "CSENT",
          "IPM",
          "HOUSE",
          "UNEMP",
          "LRIR",
          "CSENT",
          "IPM",
          "HOUSE",
          "UNEMP",
          "LRIR",
          "CSENT",
          "IPM",
          "HOUSE",
          "UNEMP",
          "LRIR",
          "CSENT",
          "IPM",
          "HOUSE",
          "UNEMP",
          "LRIR",
          "CSENT",
          "IPM",
          "HOUSE",
          "UNEMP",
          "LRIR",
          "CSENT",
          "IPM",
          "HOUSE",
          "UNEMP",
          "LRIR",
          "CSENT",
          "IPM",
          "HOUSE",
          "UNEMP",
          "LRIR",
          "CSENT",
          "IPM",
          "HOUSE",
          "UNEMP",
          "LRIR",
          "CSENT",
          "IPM",
          "HOUSE",
          "UNEMP",
          "LRIR",
          "CSENT",
          "IPM",
          "HOUSE",
          "UNEMP",
          "LRIR",
          "CSENT",
          "IPM",
          "HOUSE",
          "UNEMP",
          "LRIR",
          "CSENT",
          "IPM",
          "HOUSE",
          "UNEMP",
          "LRIR",
          "CSENT",
          "IPM",
          "HOUSE",
          "UNEMP",
          "LRIR",
          "CSENT",
          "IPM",
          "HOUSE",
          "UNEMP",
          "LRIR",
          "CSENT",
          "IPM",
          "HOUSE",
          "UNEMP",
          "LRIR",
          "CSENT",
          "IPM",
          "HOUSE",
          "UNEMP",
          "LRIR",
          "CSENT",
          "IPM",
          "HOUSE",
          "UNEMP",
          "LRIR",
          "CSENT",
          "IPM",
          "HOUSE",
          "UNEMP",
          "LRIR",
          "CSENT",
          "IPM",
          "HOUSE",
          "UNEMP",
          "LRIR",
          "CSENT",
          "IPM",
          "HOUSE",
          "UNEMP",
          "LRIR",
          "CSENT",
          "IPM",
          "HOUSE",
          "UNEMP",
          "LRIR"
         ],
         "x0": " ",
         "xaxis": "x2",
         "y": [
          0.08848383827660111,
          0.062104269107650545,
          0.09381338779555715,
          0.05071123682662115,
          0.11103798294320044,
          0.14284868159780273,
          0.06552273092513072,
          0.15786390815479712,
          0.07238773597286474,
          0.13531670328336698,
          0.13460197937254048,
          0.07091817001097034,
          0.16105144952169181,
          0.05571310395777129,
          0.11763955012537874,
          0.1133612295802231,
          0.07820074171625269,
          0.1613912879154904,
          0.051210355911407546,
          0.08906359271481357,
          0.11831834229337002,
          0.10729317268831706,
          0.1421719369781993,
          0.03541519997621767,
          0.073990506154759,
          0.11384353886578624,
          0.1269000428581616,
          0.09402820214781127,
          0.0240179348962567,
          0.05842431561360406,
          -0.05079787203662267,
          0.016463877152173345,
          0.044140827719404196,
          -0.01405153298875883,
          -0.011679881553250504,
          0.03234716103996238,
          0.043113672219382115,
          0.05893795893735687,
          0.01421242599533934,
          0.06006616372334417,
          0.10936281614928689,
          0.052442426892089,
          0.11667716347716361,
          0.05126093932595055,
          0.11658134047550017,
          0.13732587910014304,
          0.05921892059094791,
          0.15420750902642655,
          0.05654403406873987,
          0.12068084305824323,
          0.11835463513105116,
          0.06556310612058613,
          0.15567348543713566,
          0.043902784483416224,
          0.0962856057865733,
          0.10777426969868997,
          0.0839529000763477,
          0.14505739224420344,
          0.03405158677116915,
          0.07375631946830075,
          -0.03646421969660196,
          -0.005437684038524404,
          0.05356020164876241,
          -0.011620786201182676,
          -0.006877351159869538,
          -0.011952498504811282,
          0.015054379531446171,
          0.04463682515372158,
          -0.009918135758301805,
          0.022174457386025637,
          0.06374223172031956,
          0.037521644031165424,
          0.08010394536906618,
          0.022307382603801162,
          0.08107943654854799,
          0.11691893003688592,
          0.04753337116719125,
          0.12410390603061083,
          0.04544298014254444,
          0.1087109821645329,
          0.12526637544185082,
          0.05612500114041252,
          0.14875743389058738,
          0.04429846546640004,
          0.10155858249299943,
          0.10579956049302663,
          0.06832023847389124,
          0.1405597269161004,
          0.030141928906458837,
          0.07927672236189542,
          -0.012372420514363158,
          -0.03521762631785008,
          0.06357278835832947,
          -0.009766336744982729,
          0.003527426669747813,
          -0.017418115355750885,
          -0.007459749514505232,
          0.04742153960667661,
          -0.01533814263064781,
          0.011180359823167452,
          0.0214826852491532,
          0.011802491207215438,
          0.05920289035386517,
          -0.0020104021165323616,
          0.04648618049170272,
          0.08259452754372898,
          0.034528018673708916,
          0.09221826835436997,
          0.024006453892739588,
          0.0827936815492738,
          0.11473910594394077,
          0.04566905000060706,
          0.12570415739886098,
          0.038748488999078456,
          0.09653441300192556,
          0.11002688012225303,
          0.05655376589044159,
          0.1357860078293598,
          0.030713194392285592,
          0.0840189391824806,
          0.00887802683950667,
          -0.05066484876307786,
          0.07116731604910553,
          -0.01446954015640034,
          0.009723863456171267,
          -0.006804493852924365,
          -0.035895500236816535,
          0.05487628781251086,
          -0.017162102056517803,
          0.01187726207417017,
          0.0055807878591358495,
          -0.011740467877468297,
          0.05375848057472121,
          -0.011136906232279031,
          0.02845158953556548,
          0.04593819284867595,
          0.01047277781231748,
          0.0700800157504089,
          0.0028614578753380915,
          0.05396589360823478,
          0.09020664482596663,
          0.03422599346069388,
          0.09878176538132433,
          0.022950277464586333,
          0.07919733407181817,
          0.10366460654785281,
          0.04561581503048373,
          0.118883241543291,
          0.02815002375688236,
          0.0827213423609614,
          0.028658447312703506,
          -0.06842545756894491,
          0.07462016010221606,
          -0.019031286062362263,
          0.02079567324423326,
          0.006467999842655225,
          -0.05286599368001077,
          0.06091737927746188,
          -0.02303638730484525,
          0.01336922588319045,
          0.0049858684030616995,
          -0.04064387091099253,
          0.05479967098654903,
          -0.017335714128656643,
          0.022754349173953248,
          0.02607064764953748,
          -0.013798828701083066,
          0.05955479253504081,
          -0.007070406953572528,
          0.03478544902503988,
          0.06068502830548317,
          0.011622520464354746,
          0.07706119707296555,
          0.006028169745454504,
          0.056080548725826906,
          0.0848638028144193,
          0.03286897264564448,
          0.09510351184142285,
          0.018326168938535004,
          0.07126013117292773
         ],
         "y0": " ",
         "yaxis": "y2"
        }
       ],
       "layout": {
        "annotations": [
         {
          "font": {
           "color": "grey",
           "size": 11
          },
          "showarrow": false,
          "text": "RMSE",
          "x": 0.225,
          "xanchor": "center",
          "xref": "paper",
          "y": 0.95,
          "yanchor": "bottom",
          "yref": "paper"
         },
         {
          "font": {
           "color": "grey",
           "size": 11
          },
          "showarrow": false,
          "text": "Adj-R2",
          "x": 0.775,
          "xanchor": "center",
          "xref": "paper",
          "y": 0.95,
          "yanchor": "bottom",
          "yref": "paper"
         }
        ],
        "height": 400,
        "legend": {
         "orientation": "h",
         "title": {
          "text": "Scopes:"
         },
         "x": 0.5,
         "xanchor": "center",
         "y": -0.1,
         "yanchor": "top"
        },
        "margin": {
         "b": 60,
         "l": 80,
         "r": 40,
         "t": 80
        },
        "template": {
         "data": {
          "bar": [
           {
            "error_x": {
             "color": "#f2f5fa"
            },
            "error_y": {
             "color": "#f2f5fa"
            },
            "marker": {
             "line": {
              "color": "rgb(17,17,17)",
              "width": 0.5
             },
             "pattern": {
              "fillmode": "overlay",
              "size": 10,
              "solidity": 0.2
             }
            },
            "type": "bar"
           }
          ],
          "barpolar": [
           {
            "marker": {
             "line": {
              "color": "rgb(17,17,17)",
              "width": 0.5
             },
             "pattern": {
              "fillmode": "overlay",
              "size": 10,
              "solidity": 0.2
             }
            },
            "type": "barpolar"
           }
          ],
          "carpet": [
           {
            "aaxis": {
             "endlinecolor": "#A2B1C6",
             "gridcolor": "#506784",
             "linecolor": "#506784",
             "minorgridcolor": "#506784",
             "startlinecolor": "#A2B1C6"
            },
            "baxis": {
             "endlinecolor": "#A2B1C6",
             "gridcolor": "#506784",
             "linecolor": "#506784",
             "minorgridcolor": "#506784",
             "startlinecolor": "#A2B1C6"
            },
            "type": "carpet"
           }
          ],
          "choropleth": [
           {
            "colorbar": {
             "outlinewidth": 0,
             "ticks": ""
            },
            "type": "choropleth"
           }
          ],
          "contour": [
           {
            "colorbar": {
             "outlinewidth": 0,
             "ticks": ""
            },
            "colorscale": [
             [
              0,
              "#0d0887"
             ],
             [
              0.1111111111111111,
              "#46039f"
             ],
             [
              0.2222222222222222,
              "#7201a8"
             ],
             [
              0.3333333333333333,
              "#9c179e"
             ],
             [
              0.4444444444444444,
              "#bd3786"
             ],
             [
              0.5555555555555556,
              "#d8576b"
             ],
             [
              0.6666666666666666,
              "#ed7953"
             ],
             [
              0.7777777777777778,
              "#fb9f3a"
             ],
             [
              0.8888888888888888,
              "#fdca26"
             ],
             [
              1,
              "#f0f921"
             ]
            ],
            "type": "contour"
           }
          ],
          "contourcarpet": [
           {
            "colorbar": {
             "outlinewidth": 0,
             "ticks": ""
            },
            "type": "contourcarpet"
           }
          ],
          "heatmap": [
           {
            "colorbar": {
             "outlinewidth": 0,
             "ticks": ""
            },
            "colorscale": [
             [
              0,
              "#0d0887"
             ],
             [
              0.1111111111111111,
              "#46039f"
             ],
             [
              0.2222222222222222,
              "#7201a8"
             ],
             [
              0.3333333333333333,
              "#9c179e"
             ],
             [
              0.4444444444444444,
              "#bd3786"
             ],
             [
              0.5555555555555556,
              "#d8576b"
             ],
             [
              0.6666666666666666,
              "#ed7953"
             ],
             [
              0.7777777777777778,
              "#fb9f3a"
             ],
             [
              0.8888888888888888,
              "#fdca26"
             ],
             [
              1,
              "#f0f921"
             ]
            ],
            "type": "heatmap"
           }
          ],
          "heatmapgl": [
           {
            "colorbar": {
             "outlinewidth": 0,
             "ticks": ""
            },
            "colorscale": [
             [
              0,
              "#0d0887"
             ],
             [
              0.1111111111111111,
              "#46039f"
             ],
             [
              0.2222222222222222,
              "#7201a8"
             ],
             [
              0.3333333333333333,
              "#9c179e"
             ],
             [
              0.4444444444444444,
              "#bd3786"
             ],
             [
              0.5555555555555556,
              "#d8576b"
             ],
             [
              0.6666666666666666,
              "#ed7953"
             ],
             [
              0.7777777777777778,
              "#fb9f3a"
             ],
             [
              0.8888888888888888,
              "#fdca26"
             ],
             [
              1,
              "#f0f921"
             ]
            ],
            "type": "heatmapgl"
           }
          ],
          "histogram": [
           {
            "marker": {
             "pattern": {
              "fillmode": "overlay",
              "size": 10,
              "solidity": 0.2
             }
            },
            "type": "histogram"
           }
          ],
          "histogram2d": [
           {
            "colorbar": {
             "outlinewidth": 0,
             "ticks": ""
            },
            "colorscale": [
             [
              0,
              "#0d0887"
             ],
             [
              0.1111111111111111,
              "#46039f"
             ],
             [
              0.2222222222222222,
              "#7201a8"
             ],
             [
              0.3333333333333333,
              "#9c179e"
             ],
             [
              0.4444444444444444,
              "#bd3786"
             ],
             [
              0.5555555555555556,
              "#d8576b"
             ],
             [
              0.6666666666666666,
              "#ed7953"
             ],
             [
              0.7777777777777778,
              "#fb9f3a"
             ],
             [
              0.8888888888888888,
              "#fdca26"
             ],
             [
              1,
              "#f0f921"
             ]
            ],
            "type": "histogram2d"
           }
          ],
          "histogram2dcontour": [
           {
            "colorbar": {
             "outlinewidth": 0,
             "ticks": ""
            },
            "colorscale": [
             [
              0,
              "#0d0887"
             ],
             [
              0.1111111111111111,
              "#46039f"
             ],
             [
              0.2222222222222222,
              "#7201a8"
             ],
             [
              0.3333333333333333,
              "#9c179e"
             ],
             [
              0.4444444444444444,
              "#bd3786"
             ],
             [
              0.5555555555555556,
              "#d8576b"
             ],
             [
              0.6666666666666666,
              "#ed7953"
             ],
             [
              0.7777777777777778,
              "#fb9f3a"
             ],
             [
              0.8888888888888888,
              "#fdca26"
             ],
             [
              1,
              "#f0f921"
             ]
            ],
            "type": "histogram2dcontour"
           }
          ],
          "mesh3d": [
           {
            "colorbar": {
             "outlinewidth": 0,
             "ticks": ""
            },
            "type": "mesh3d"
           }
          ],
          "parcoords": [
           {
            "line": {
             "colorbar": {
              "outlinewidth": 0,
              "ticks": ""
             }
            },
            "type": "parcoords"
           }
          ],
          "pie": [
           {
            "automargin": true,
            "type": "pie"
           }
          ],
          "scatter": [
           {
            "marker": {
             "line": {
              "color": "#283442"
             }
            },
            "type": "scatter"
           }
          ],
          "scatter3d": [
           {
            "line": {
             "colorbar": {
              "outlinewidth": 0,
              "ticks": ""
             }
            },
            "marker": {
             "colorbar": {
              "outlinewidth": 0,
              "ticks": ""
             }
            },
            "type": "scatter3d"
           }
          ],
          "scattercarpet": [
           {
            "marker": {
             "colorbar": {
              "outlinewidth": 0,
              "ticks": ""
             }
            },
            "type": "scattercarpet"
           }
          ],
          "scattergeo": [
           {
            "marker": {
             "colorbar": {
              "outlinewidth": 0,
              "ticks": ""
             }
            },
            "type": "scattergeo"
           }
          ],
          "scattergl": [
           {
            "marker": {
             "line": {
              "color": "#283442"
             }
            },
            "type": "scattergl"
           }
          ],
          "scattermapbox": [
           {
            "marker": {
             "colorbar": {
              "outlinewidth": 0,
              "ticks": ""
             }
            },
            "type": "scattermapbox"
           }
          ],
          "scatterpolar": [
           {
            "marker": {
             "colorbar": {
              "outlinewidth": 0,
              "ticks": ""
             }
            },
            "type": "scatterpolar"
           }
          ],
          "scatterpolargl": [
           {
            "marker": {
             "colorbar": {
              "outlinewidth": 0,
              "ticks": ""
             }
            },
            "type": "scatterpolargl"
           }
          ],
          "scatterternary": [
           {
            "marker": {
             "colorbar": {
              "outlinewidth": 0,
              "ticks": ""
             }
            },
            "type": "scatterternary"
           }
          ],
          "surface": [
           {
            "colorbar": {
             "outlinewidth": 0,
             "ticks": ""
            },
            "colorscale": [
             [
              0,
              "#0d0887"
             ],
             [
              0.1111111111111111,
              "#46039f"
             ],
             [
              0.2222222222222222,
              "#7201a8"
             ],
             [
              0.3333333333333333,
              "#9c179e"
             ],
             [
              0.4444444444444444,
              "#bd3786"
             ],
             [
              0.5555555555555556,
              "#d8576b"
             ],
             [
              0.6666666666666666,
              "#ed7953"
             ],
             [
              0.7777777777777778,
              "#fb9f3a"
             ],
             [
              0.8888888888888888,
              "#fdca26"
             ],
             [
              1,
              "#f0f921"
             ]
            ],
            "type": "surface"
           }
          ],
          "table": [
           {
            "cells": {
             "fill": {
              "color": "#506784"
             },
             "line": {
              "color": "rgb(17,17,17)"
             }
            },
            "header": {
             "fill": {
              "color": "#2a3f5f"
             },
             "line": {
              "color": "rgb(17,17,17)"
             }
            },
            "type": "table"
           }
          ]
         },
         "layout": {
          "annotationdefaults": {
           "arrowcolor": "#f2f5fa",
           "arrowhead": 0,
           "arrowwidth": 1
          },
          "autotypenumbers": "strict",
          "coloraxis": {
           "colorbar": {
            "outlinewidth": 0,
            "ticks": ""
           }
          },
          "colorscale": {
           "diverging": [
            [
             0,
             "#8e0152"
            ],
            [
             0.1,
             "#c51b7d"
            ],
            [
             0.2,
             "#de77ae"
            ],
            [
             0.3,
             "#f1b6da"
            ],
            [
             0.4,
             "#fde0ef"
            ],
            [
             0.5,
             "#f7f7f7"
            ],
            [
             0.6,
             "#e6f5d0"
            ],
            [
             0.7,
             "#b8e186"
            ],
            [
             0.8,
             "#7fbc41"
            ],
            [
             0.9,
             "#4d9221"
            ],
            [
             1,
             "#276419"
            ]
           ],
           "sequential": [
            [
             0,
             "#0d0887"
            ],
            [
             0.1111111111111111,
             "#46039f"
            ],
            [
             0.2222222222222222,
             "#7201a8"
            ],
            [
             0.3333333333333333,
             "#9c179e"
            ],
            [
             0.4444444444444444,
             "#bd3786"
            ],
            [
             0.5555555555555556,
             "#d8576b"
            ],
            [
             0.6666666666666666,
             "#ed7953"
            ],
            [
             0.7777777777777778,
             "#fb9f3a"
            ],
            [
             0.8888888888888888,
             "#fdca26"
            ],
            [
             1,
             "#f0f921"
            ]
           ],
           "sequentialminus": [
            [
             0,
             "#0d0887"
            ],
            [
             0.1111111111111111,
             "#46039f"
            ],
            [
             0.2222222222222222,
             "#7201a8"
            ],
            [
             0.3333333333333333,
             "#9c179e"
            ],
            [
             0.4444444444444444,
             "#bd3786"
            ],
            [
             0.5555555555555556,
             "#d8576b"
            ],
            [
             0.6666666666666666,
             "#ed7953"
            ],
            [
             0.7777777777777778,
             "#fb9f3a"
            ],
            [
             0.8888888888888888,
             "#fdca26"
            ],
            [
             1,
             "#f0f921"
            ]
           ]
          },
          "colorway": [
           "#636efa",
           "#EF553B",
           "#00cc96",
           "#ab63fa",
           "#FFA15A",
           "#19d3f3",
           "#FF6692",
           "#B6E880",
           "#FF97FF",
           "#FECB52"
          ],
          "font": {
           "color": "#f2f5fa"
          },
          "geo": {
           "bgcolor": "rgb(17,17,17)",
           "lakecolor": "rgb(17,17,17)",
           "landcolor": "rgb(17,17,17)",
           "showlakes": true,
           "showland": true,
           "subunitcolor": "#506784"
          },
          "hoverlabel": {
           "align": "left"
          },
          "hovermode": "closest",
          "mapbox": {
           "style": "dark"
          },
          "paper_bgcolor": "rgb(17,17,17)",
          "plot_bgcolor": "rgb(17,17,17)",
          "polar": {
           "angularaxis": {
            "gridcolor": "#506784",
            "linecolor": "#506784",
            "ticks": ""
           },
           "bgcolor": "rgb(17,17,17)",
           "radialaxis": {
            "gridcolor": "#506784",
            "linecolor": "#506784",
            "ticks": ""
           }
          },
          "scene": {
           "xaxis": {
            "backgroundcolor": "rgb(17,17,17)",
            "gridcolor": "#506784",
            "gridwidth": 2,
            "linecolor": "#506784",
            "showbackground": true,
            "ticks": "",
            "zerolinecolor": "#C8D4E3"
           },
           "yaxis": {
            "backgroundcolor": "rgb(17,17,17)",
            "gridcolor": "#506784",
            "gridwidth": 2,
            "linecolor": "#506784",
            "showbackground": true,
            "ticks": "",
            "zerolinecolor": "#C8D4E3"
           },
           "zaxis": {
            "backgroundcolor": "rgb(17,17,17)",
            "gridcolor": "#506784",
            "gridwidth": 2,
            "linecolor": "#506784",
            "showbackground": true,
            "ticks": "",
            "zerolinecolor": "#C8D4E3"
           }
          },
          "shapedefaults": {
           "line": {
            "color": "#f2f5fa"
           }
          },
          "sliderdefaults": {
           "bgcolor": "#C8D4E3",
           "bordercolor": "rgb(17,17,17)",
           "borderwidth": 1,
           "tickwidth": 0
          },
          "ternary": {
           "aaxis": {
            "gridcolor": "#506784",
            "linecolor": "#506784",
            "ticks": ""
           },
           "baxis": {
            "gridcolor": "#506784",
            "linecolor": "#506784",
            "ticks": ""
           },
           "bgcolor": "rgb(17,17,17)",
           "caxis": {
            "gridcolor": "#506784",
            "linecolor": "#506784",
            "ticks": ""
           }
          },
          "title": {
           "x": 0.05
          },
          "updatemenudefaults": {
           "bgcolor": "#506784",
           "borderwidth": 0
          },
          "xaxis": {
           "automargin": true,
           "gridcolor": "#283442",
           "linecolor": "#506784",
           "ticks": "",
           "title": {
            "standoff": 15
           },
           "zerolinecolor": "#283442",
           "zerolinewidth": 2
          },
          "yaxis": {
           "automargin": true,
           "gridcolor": "#283442",
           "linecolor": "#506784",
           "ticks": "",
           "title": {
            "standoff": 15
           },
           "zerolinecolor": "#283442",
           "zerolinewidth": 2
          }
         }
        },
        "title": {
         "text": "Observe Backward Elimination in All Models With Repect to Scopes<br><span style=\"font-size: 12.5px; color: lightgrey;\"> -- How meansures are changed by removing the impact of each coefficient</span>"
        },
        "width": 800,
        "xaxis": {
         "anchor": "y",
         "domain": [
          0,
          0.45
         ]
        },
        "xaxis2": {
         "anchor": "y2",
         "domain": [
          0.55,
          1
         ]
        },
        "yaxis": {
         "anchor": "x",
         "domain": [
          0,
          1
         ],
         "title": {
          "text": "Difference"
         }
        },
        "yaxis2": {
         "anchor": "x2",
         "domain": [
          0,
          1
         ]
        }
       }
      }
     },
     "metadata": {},
     "output_type": "display_data"
    },
    {
     "data": {
      "application/vnd.plotly.v1+json": {
       "config": {
        "plotlyServerURL": "https://plot.ly"
       },
       "data": [
        {
         "alignmentgroup": "True",
         "boxpoints": "all",
         "fillcolor": "rgba(255,255,255,0)",
         "hoveron": "points",
         "hovertemplate": "ma=1<br>theta=%{x}<br>diff=%{y}<extra></extra>",
         "legendgroup": "1",
         "line": {
          "color": "rgba(255,255,255,0)"
         },
         "marker": {
          "color": "#636efa",
          "opacity": 0.5,
          "size": 5
         },
         "name": "1",
         "offsetgroup": "1",
         "orientation": "v",
         "pointpos": 0,
         "showlegend": true,
         "type": "box",
         "x": [
          "CSENT",
          "IPM",
          "HOUSE",
          "UNEMP",
          "LRIR",
          "CSENT",
          "IPM",
          "HOUSE",
          "UNEMP",
          "LRIR",
          "CSENT",
          "IPM",
          "HOUSE",
          "UNEMP",
          "LRIR",
          "CSENT",
          "IPM",
          "HOUSE",
          "UNEMP",
          "LRIR",
          "CSENT",
          "IPM",
          "HOUSE",
          "UNEMP",
          "LRIR",
          "CSENT",
          "IPM",
          "HOUSE",
          "UNEMP",
          "LRIR",
          "CSENT",
          "IPM",
          "HOUSE",
          "UNEMP",
          "LRIR",
          "CSENT",
          "IPM",
          "HOUSE",
          "UNEMP",
          "LRIR",
          "CSENT",
          "IPM",
          "HOUSE",
          "UNEMP",
          "LRIR",
          "CSENT",
          "IPM",
          "HOUSE",
          "UNEMP",
          "LRIR",
          "CSENT",
          "IPM",
          "HOUSE",
          "UNEMP",
          "LRIR",
          "CSENT",
          "IPM",
          "HOUSE",
          "UNEMP",
          "LRIR",
          "CSENT",
          "IPM",
          "HOUSE",
          "UNEMP",
          "LRIR",
          "CSENT",
          "IPM",
          "HOUSE",
          "UNEMP",
          "LRIR",
          "CSENT",
          "IPM",
          "HOUSE",
          "UNEMP",
          "LRIR",
          "CSENT",
          "IPM",
          "HOUSE",
          "UNEMP",
          "LRIR",
          "CSENT",
          "IPM",
          "HOUSE",
          "UNEMP",
          "LRIR",
          "CSENT",
          "IPM",
          "HOUSE",
          "UNEMP",
          "LRIR"
         ],
         "x0": " ",
         "xaxis": "x",
         "y": [
          -2.2177404144378743,
          -0.6374795109383538,
          -1.3737131231569633,
          -0.5295132252796124,
          -1.4373762074750314,
          -3.1174670744754067,
          -0.6149397561461312,
          -2.2206417257292355,
          -0.19766370943602762,
          -1.894041164971208,
          -3.1443952898567105,
          -0.7088622291996671,
          -1.8677462548636434,
          0.2612263932411869,
          -1.3447732945078688,
          -3.0515478852364115,
          -0.9825990364420543,
          -1.6750625965730706,
          0.3863028848870558,
          -1.2704119442510127,
          -3.5603831474123675,
          -1.4426980866197976,
          -1.39501475179594,
          0.49351109774953006,
          -1.596948282124531,
          -3.5971663944602295,
          -1.7633002036266054,
          -1.0653691712477436,
          0.4159638938805239,
          -1.4646336827887394,
          -1.8666628709846398,
          -0.8324067333569634,
          -1.4671224110306245,
          -0.6960334424025714,
          -1.2916662856815462,
          -2.440906375092723,
          -0.7338454093926199,
          -2.1423067901499167,
          -0.5795081710456564,
          -1.6827465352720345,
          -2.340723078015171,
          -0.8277112403464475,
          -1.9642244096092494,
          -0.2353458145447842,
          -1.2850968459443184,
          -2.023657997839864,
          -1.0109011878311964,
          -2.0270673248430215,
          -0.2695779684392061,
          -1.0380238868815894,
          -2.2132511006629203,
          -1.24366674780374,
          -1.6963566529525345,
          0.024926299044345512,
          -1.0276633177726335,
          -2.2835858181862374,
          -1.6294616531339488,
          -1.167306176247127,
          0.13769035870748603,
          -1.0163128629456644,
          -1.121386539983039,
          -0.7732590277353903,
          -1.1933344316657895,
          -0.6267771707736429,
          -1.4298500079667225,
          -1.7455873921854987,
          -0.763671637856703,
          -1.9485924147479796,
          -0.8470060513972548,
          -1.6454137002416402,
          -1.5929499139810215,
          -0.8090376292401853,
          -1.9378390213186272,
          -0.6304007215688383,
          -1.3780870563398278,
          -1.3304979801456955,
          -0.899520757244801,
          -1.9514334005430456,
          -0.5804877181202883,
          -1.0307317499858062,
          -1.4217193908616945,
          -1.2805058481363982,
          -1.7345567364804992,
          -0.40564181934005994,
          -0.8658248080820528,
          -1.3959958011250464,
          -1.5694971663699508,
          -1.1385931777352898,
          -0.27917808472544614,
          -0.6924547522296329
         ],
         "y0": " ",
         "yaxis": "y"
        },
        {
         "alignmentgroup": "True",
         "boxpoints": "all",
         "fillcolor": "rgba(255,255,255,0)",
         "hoveron": "points",
         "hovertemplate": "ma=1<br>theta=%{x}<br>diff=%{y}<extra></extra>",
         "legendgroup": "1",
         "line": {
          "color": "rgba(255,255,255,0)"
         },
         "marker": {
          "color": "#636efa",
          "opacity": 0.5,
          "size": 5
         },
         "name": "1",
         "offsetgroup": "1",
         "orientation": "v",
         "pointpos": 0,
         "showlegend": false,
         "type": "box",
         "x": [
          "CSENT",
          "IPM",
          "HOUSE",
          "UNEMP",
          "LRIR",
          "CSENT",
          "IPM",
          "HOUSE",
          "UNEMP",
          "LRIR",
          "CSENT",
          "IPM",
          "HOUSE",
          "UNEMP",
          "LRIR",
          "CSENT",
          "IPM",
          "HOUSE",
          "UNEMP",
          "LRIR",
          "CSENT",
          "IPM",
          "HOUSE",
          "UNEMP",
          "LRIR",
          "CSENT",
          "IPM",
          "HOUSE",
          "UNEMP",
          "LRIR",
          "CSENT",
          "IPM",
          "HOUSE",
          "UNEMP",
          "LRIR",
          "CSENT",
          "IPM",
          "HOUSE",
          "UNEMP",
          "LRIR",
          "CSENT",
          "IPM",
          "HOUSE",
          "UNEMP",
          "LRIR",
          "CSENT",
          "IPM",
          "HOUSE",
          "UNEMP",
          "LRIR",
          "CSENT",
          "IPM",
          "HOUSE",
          "UNEMP",
          "LRIR",
          "CSENT",
          "IPM",
          "HOUSE",
          "UNEMP",
          "LRIR",
          "CSENT",
          "IPM",
          "HOUSE",
          "UNEMP",
          "LRIR",
          "CSENT",
          "IPM",
          "HOUSE",
          "UNEMP",
          "LRIR",
          "CSENT",
          "IPM",
          "HOUSE",
          "UNEMP",
          "LRIR",
          "CSENT",
          "IPM",
          "HOUSE",
          "UNEMP",
          "LRIR",
          "CSENT",
          "IPM",
          "HOUSE",
          "UNEMP",
          "LRIR",
          "CSENT",
          "IPM",
          "HOUSE",
          "UNEMP",
          "LRIR"
         ],
         "x0": " ",
         "xaxis": "x2",
         "y": [
          0.11600595664975055,
          0.03742327591471484,
          0.07654988168121046,
          0.031316530295195766,
          0.0797270708471477,
          0.15533352787470167,
          0.036855340752231514,
          0.11869030886164478,
          0.012179724831421601,
          0.10373213432945416,
          0.15539553025581,
          0.04198885374690542,
          0.10191221904977721,
          -0.016494684831601658,
          0.07621054037213615,
          0.15144122989539566,
          0.05694302399028173,
          0.09240571179704293,
          -0.024514308631473414,
          0.072151154665553,
          0.1698626106992649,
          0.0811114460639153,
          0.07869799345792816,
          -0.03158742396189096,
          0.08879347801546944,
          0.17126716626405813,
          0.09692754769393463,
          0.0615459355592205,
          -0.02650225971123965,
          0.0822650831980718,
          0.1222923998849077,
          0.05801923428401734,
          0.0984897711547188,
          0.04889817364604765,
          0.08762858117322536,
          0.16063728907481933,
          0.053353824094457325,
          0.14356968405711656,
          0.04249402138908587,
          0.11589466530253933,
          0.1561107691012954,
          0.060249332378441434,
          0.1339808214413476,
          0.017692661792328757,
          0.09117400065449599,
          0.13703290115833788,
          0.07257254583569961,
          0.1372359612982934,
          0.02015699942111926,
          0.07440641432970829,
          0.14530744728273015,
          0.08649834874003692,
          0.11489640691581826,
          -0.0018607665734785561,
          0.07236742156122788,
          0.14910857843703917,
          0.11067342221266152,
          0.0814481636109885,
          -0.010328192240920187,
          0.07152837305545368,
          0.08848383827660111,
          0.062104269107650545,
          0.09381338779555715,
          0.05071123682662115,
          0.11103798294320044,
          0.14284868159780273,
          0.06552273092513072,
          0.15786390815479712,
          0.07238773597286474,
          0.13531670328336698,
          0.13460197937254048,
          0.07091817001097034,
          0.16105144952169181,
          0.05571310395777129,
          0.11763955012537874,
          0.1133612295802231,
          0.07820074171625269,
          0.1613912879154904,
          0.051210355911407546,
          0.08906359271481357,
          0.11831834229337002,
          0.10729317268831706,
          0.1421719369781993,
          0.03541519997621767,
          0.073990506154759,
          0.11384353886578624,
          0.1269000428581616,
          0.09402820214781127,
          0.0240179348962567,
          0.05842431561360406
         ],
         "y0": " ",
         "yaxis": "y2"
        },
        {
         "alignmentgroup": "True",
         "boxpoints": "all",
         "fillcolor": "rgba(255,255,255,0)",
         "hoveron": "points",
         "hovertemplate": "ma=2<br>theta=%{x}<br>diff=%{y}<extra></extra>",
         "legendgroup": "2",
         "line": {
          "color": "rgba(255,255,255,0)"
         },
         "marker": {
          "color": "#EF553B",
          "opacity": 0.5,
          "size": 5
         },
         "name": "2",
         "offsetgroup": "2",
         "orientation": "v",
         "pointpos": 0,
         "showlegend": true,
         "type": "box",
         "x": [
          "CSENT",
          "IPM",
          "HOUSE",
          "UNEMP",
          "LRIR",
          "CSENT",
          "IPM",
          "HOUSE",
          "UNEMP",
          "LRIR",
          "CSENT",
          "IPM",
          "HOUSE",
          "UNEMP",
          "LRIR",
          "CSENT",
          "IPM",
          "HOUSE",
          "UNEMP",
          "LRIR",
          "CSENT",
          "IPM",
          "HOUSE",
          "UNEMP",
          "LRIR",
          "CSENT",
          "IPM",
          "HOUSE",
          "UNEMP",
          "LRIR",
          "CSENT",
          "IPM",
          "HOUSE",
          "UNEMP",
          "LRIR",
          "CSENT",
          "IPM",
          "HOUSE",
          "UNEMP",
          "LRIR",
          "CSENT",
          "IPM",
          "HOUSE",
          "UNEMP",
          "LRIR",
          "CSENT",
          "IPM",
          "HOUSE",
          "UNEMP",
          "LRIR",
          "CSENT",
          "IPM",
          "HOUSE",
          "UNEMP",
          "LRIR",
          "CSENT",
          "IPM",
          "HOUSE",
          "UNEMP",
          "LRIR",
          "CSENT",
          "IPM",
          "HOUSE",
          "UNEMP",
          "LRIR",
          "CSENT",
          "IPM",
          "HOUSE",
          "UNEMP",
          "LRIR",
          "CSENT",
          "IPM",
          "HOUSE",
          "UNEMP",
          "LRIR",
          "CSENT",
          "IPM",
          "HOUSE",
          "UNEMP",
          "LRIR",
          "CSENT",
          "IPM",
          "HOUSE",
          "UNEMP",
          "LRIR",
          "CSENT",
          "IPM",
          "HOUSE",
          "UNEMP",
          "LRIR"
         ],
         "x0": " ",
         "xaxis": "x",
         "y": [
          0.08938467694074603,
          -0.12884468712444086,
          -0.06059168742911769,
          0.7276020380001853,
          0.7900131040769516,
          -1.1674854271856283,
          -0.09391297392227482,
          0.15419986902833038,
          0.5134150550514027,
          -0.033767439295144364,
          -1.81409910105367,
          0.3101493394293282,
          -0.8779142987983573,
          0.6096321319026394,
          -0.7547352700574246,
          -2.3698767447854845,
          0.2822088979315307,
          -1.1521050736063483,
          0.9400336230830293,
          -0.7223212865700575,
          -2.2604829772304162,
          0.06993591663470689,
          -0.9022965779146386,
          1.2018170417421263,
          -0.4315075393320553,
          -2.5991520307598197,
          -0.31491168977260564,
          -0.6895867070542989,
          1.2819962310409485,
          -0.6146584245952607,
          0.19366942878340776,
          -0.3046410532618351,
          -0.6203112015220951,
          0.4281780467570364,
          0.5394295612328444,
          -1.176997748428863,
          -0.600614113058362,
          -0.7854319585751233,
          -0.013301282211225285,
          -0.4284328623630671,
          -2.0364008006995977,
          -0.5268853542918057,
          -1.6347905721621796,
          -0.342183169417865,
          -1.3104703663864719,
          -2.3438779578384796,
          -0.5411743665401829,
          -1.9000077806731879,
          -0.1310204310250267,
          -1.3103213784288403,
          -2.065809586419852,
          -0.7108394034448402,
          -1.8566208879000232,
          0.010763279381292179,
          -0.9772509552580075,
          -2.030357507289339,
          -0.9182106246831383,
          -1.7104568486436031,
          0.10946711833181588,
          -0.8523956864888733,
          0.7033503514454633,
          -0.24123995813634647,
          -0.664100900097945,
          0.20043292327399342,
          0.16693907438251365,
          -0.43042118691820974,
          -0.5784688023946636,
          -0.8008200747151974,
          -0.18657284096939541,
          -0.8168989788837937,
          -1.3941588368813385,
          -0.6427335808275068,
          -1.4954993027172918,
          -0.6277708101376938,
          -1.4941639181711075,
          -1.6782267347781339,
          -0.6888359919639679,
          -1.9068327019051061,
          -0.6566938845371286,
          -1.4584121065707798,
          -1.4126851376271947,
          -0.7578029953390182,
          -1.9049058103616634,
          -0.5012315324710261,
          -1.133478485589288,
          -1.2988659099055138,
          -0.9966155302576052,
          -1.7927584952463285,
          -0.3924750162422832,
          -0.8701134025804826
         ],
         "y0": " ",
         "yaxis": "y"
        },
        {
         "alignmentgroup": "True",
         "boxpoints": "all",
         "fillcolor": "rgba(255,255,255,0)",
         "hoveron": "points",
         "hovertemplate": "ma=2<br>theta=%{x}<br>diff=%{y}<extra></extra>",
         "legendgroup": "2",
         "line": {
          "color": "rgba(255,255,255,0)"
         },
         "marker": {
          "color": "#EF553B",
          "opacity": 0.5,
          "size": 5
         },
         "name": "2",
         "offsetgroup": "2",
         "orientation": "v",
         "pointpos": 0,
         "showlegend": false,
         "type": "box",
         "x": [
          "CSENT",
          "IPM",
          "HOUSE",
          "UNEMP",
          "LRIR",
          "CSENT",
          "IPM",
          "HOUSE",
          "UNEMP",
          "LRIR",
          "CSENT",
          "IPM",
          "HOUSE",
          "UNEMP",
          "LRIR",
          "CSENT",
          "IPM",
          "HOUSE",
          "UNEMP",
          "LRIR",
          "CSENT",
          "IPM",
          "HOUSE",
          "UNEMP",
          "LRIR",
          "CSENT",
          "IPM",
          "HOUSE",
          "UNEMP",
          "LRIR",
          "CSENT",
          "IPM",
          "HOUSE",
          "UNEMP",
          "LRIR",
          "CSENT",
          "IPM",
          "HOUSE",
          "UNEMP",
          "LRIR",
          "CSENT",
          "IPM",
          "HOUSE",
          "UNEMP",
          "LRIR",
          "CSENT",
          "IPM",
          "HOUSE",
          "UNEMP",
          "LRIR",
          "CSENT",
          "IPM",
          "HOUSE",
          "UNEMP",
          "LRIR",
          "CSENT",
          "IPM",
          "HOUSE",
          "UNEMP",
          "LRIR",
          "CSENT",
          "IPM",
          "HOUSE",
          "UNEMP",
          "LRIR",
          "CSENT",
          "IPM",
          "HOUSE",
          "UNEMP",
          "LRIR",
          "CSENT",
          "IPM",
          "HOUSE",
          "UNEMP",
          "LRIR",
          "CSENT",
          "IPM",
          "HOUSE",
          "UNEMP",
          "LRIR",
          "CSENT",
          "IPM",
          "HOUSE",
          "UNEMP",
          "LRIR",
          "CSENT",
          "IPM",
          "HOUSE",
          "UNEMP",
          "LRIR"
         ],
         "x0": " ",
         "xaxis": "x2",
         "y": [
          -0.004316630832318147,
          0.006103914121009635,
          0.0028878895669742777,
          -0.0370924422730049,
          -0.04048162691861801,
          0.05505996464931018,
          0.004852407048146046,
          -0.008128034852186938,
          -0.027837063228981607,
          0.0017532643393466385,
          0.08504544474055875,
          -0.01730104302508817,
          0.044601377424874245,
          -0.03477223975461019,
          0.038733040416441544,
          0.10768688808360771,
          -0.0159565107631382,
          0.058224458719873695,
          -0.05573942378811836,
          0.03780378847659094,
          0.10374612026444552,
          -0.003891011602636274,
          0.046533994470882356,
          -0.07255144746732078,
          0.02310324041419587,
          0.11604764600162165,
          0.017064517950301616,
          0.03628843627766132,
          -0.07801928400594149,
          0.03253779824366865,
          -0.01148638917337319,
          0.017429075629846635,
          0.03466495711805395,
          -0.02581755652527251,
          -0.0327782071638445,
          0.07099175410298575,
          0.037680278419738866,
          0.04866550944945791,
          0.0008672759580025113,
          0.027188031126242573,
          0.12647936502986878,
          0.03605772357139747,
          0.10428722840242577,
          0.02368239397647165,
          0.08537927746428031,
          0.14758549231598617,
          0.038159547457581544,
          0.1231668851324409,
          0.00946352501265657,
          0.08817524099320073,
          0.13302398208667632,
          0.049799266336592374,
          0.1211771269500207,
          -0.0007865085487442913,
          0.06737497770165812,
          0.12924411490801457,
          0.0627143879308063,
          0.11116581830763039,
          -0.007946512630206515,
          0.058453484313341963,
          -0.05079787203662267,
          0.016463877152173345,
          0.044140827719404196,
          -0.01405153298875883,
          -0.011679881553250504,
          0.03234716103996238,
          0.043113672219382115,
          0.05893795893735687,
          0.01421242599533934,
          0.06006616372334417,
          0.10936281614928689,
          0.052442426892089,
          0.11667716347716361,
          0.05126093932595055,
          0.11658134047550017,
          0.13732587910014304,
          0.05921892059094791,
          0.15420750902642655,
          0.05654403406873987,
          0.12068084305824323,
          0.11835463513105116,
          0.06556310612058613,
          0.15567348543713566,
          0.043902784483416224,
          0.0962856057865733,
          0.10777426969868997,
          0.0839529000763477,
          0.14505739224420344,
          0.03405158677116915,
          0.07375631946830075
         ],
         "y0": " ",
         "yaxis": "y2"
        },
        {
         "alignmentgroup": "True",
         "boxpoints": "all",
         "fillcolor": "rgba(255,255,255,0)",
         "hoveron": "points",
         "hovertemplate": "ma=3<br>theta=%{x}<br>diff=%{y}<extra></extra>",
         "legendgroup": "3",
         "line": {
          "color": "rgba(255,255,255,0)"
         },
         "marker": {
          "color": "#00cc96",
          "opacity": 0.5,
          "size": 5
         },
         "name": "3",
         "offsetgroup": "3",
         "orientation": "v",
         "pointpos": 0,
         "showlegend": true,
         "type": "box",
         "x": [
          "CSENT",
          "IPM",
          "HOUSE",
          "UNEMP",
          "LRIR",
          "CSENT",
          "IPM",
          "HOUSE",
          "UNEMP",
          "LRIR",
          "CSENT",
          "IPM",
          "HOUSE",
          "UNEMP",
          "LRIR",
          "CSENT",
          "IPM",
          "HOUSE",
          "UNEMP",
          "LRIR",
          "CSENT",
          "IPM",
          "HOUSE",
          "UNEMP",
          "LRIR",
          "CSENT",
          "IPM",
          "HOUSE",
          "UNEMP",
          "LRIR",
          "CSENT",
          "IPM",
          "HOUSE",
          "UNEMP",
          "LRIR",
          "CSENT",
          "IPM",
          "HOUSE",
          "UNEMP",
          "LRIR",
          "CSENT",
          "IPM",
          "HOUSE",
          "UNEMP",
          "LRIR",
          "CSENT",
          "IPM",
          "HOUSE",
          "UNEMP",
          "LRIR",
          "CSENT",
          "IPM",
          "HOUSE",
          "UNEMP",
          "LRIR",
          "CSENT",
          "IPM",
          "HOUSE",
          "UNEMP",
          "LRIR",
          "CSENT",
          "IPM",
          "HOUSE",
          "UNEMP",
          "LRIR",
          "CSENT",
          "IPM",
          "HOUSE",
          "UNEMP",
          "LRIR",
          "CSENT",
          "IPM",
          "HOUSE",
          "UNEMP",
          "LRIR",
          "CSENT",
          "IPM",
          "HOUSE",
          "UNEMP",
          "LRIR",
          "CSENT",
          "IPM",
          "HOUSE",
          "UNEMP",
          "LRIR",
          "CSENT",
          "IPM",
          "HOUSE",
          "UNEMP",
          "LRIR"
         ],
         "x0": " ",
         "xaxis": "x",
         "y": [
          0.36801387208349556,
          0.4361926455813778,
          -0.3688319014406165,
          0.7783786323331912,
          0.988626689547285,
          -0.24851606263399084,
          0.5459741208658908,
          0.39369348516506,
          1.0611386251919699,
          0.743129631973451,
          -1.1489991790820673,
          0.5759864970498523,
          0.10136784492278927,
          0.9833038504001523,
          0.08767187316446279,
          -1.6586644596813747,
          0.7859935366050648,
          -0.4427506039811959,
          1.205895531875309,
          -0.17585435653982007,
          -1.9427849621791005,
          0.6383194336608051,
          -0.5636857633068413,
          1.4532717471072045,
          -0.1546783296052423,
          -2.040050455864562,
          0.3703846517359164,
          -0.2758539150414947,
          1.672333733896175,
          -0.08044795039107822,
          0.17140669291894284,
          0.09826264988351152,
          -0.8037083169456132,
          0.4477008160064484,
          0.49705711307059275,
          -0.4171667298720658,
          -0.12257182917741982,
          -0.5244354027366169,
          0.5010696270972366,
          0.17983021332329496,
          -1.5024260518004517,
          -0.3430193427777839,
          -1.0083701109722591,
          0.11661410265601191,
          -0.6576612471806431,
          -2.0555942861070537,
          -0.335325586003834,
          -1.514635499232953,
          0.0064186399903851665,
          -1.0435268575748422,
          -2.088959244418856,
          -0.4120274584926342,
          -1.7134204523323158,
          0.14463297674552855,
          -0.9438908415754321,
          -1.929271809517421,
          -0.6015565846787938,
          -1.5486090638078194,
          0.31946695162283767,
          -0.7520503614963632,
          0.5214140731823065,
          0.07994917033954341,
          -0.8364791798546864,
          0.16988161136243463,
          0.1009805682809306,
          0.16733545276185247,
          -0.21578187166359264,
          -0.6578837691006774,
          0.1390928348625522,
          -0.3199083916870551,
          -0.849273525955196,
          -0.4897629345230694,
          -1.0817819505722994,
          -0.2878890041424924,
          -1.0958577757513375,
          -1.482045110274937,
          -0.5739565392926487,
          -1.581766656773615,
          -0.5479719962014205,
          -1.369558187936864,
          -1.5349810822864178,
          -0.6571970479992402,
          -1.8541699339033162,
          -0.515008930202546,
          -1.2243344424247695,
          -1.286114132054914,
          -0.8102485486367286,
          -1.7514982184820962,
          -0.3492161026594651,
          -0.9468169615908657
         ],
         "y0": " ",
         "yaxis": "y"
        },
        {
         "alignmentgroup": "True",
         "boxpoints": "all",
         "fillcolor": "rgba(255,255,255,0)",
         "hoveron": "points",
         "hovertemplate": "ma=3<br>theta=%{x}<br>diff=%{y}<extra></extra>",
         "legendgroup": "3",
         "line": {
          "color": "rgba(255,255,255,0)"
         },
         "marker": {
          "color": "#00cc96",
          "opacity": 0.5,
          "size": 5
         },
         "name": "3",
         "offsetgroup": "3",
         "orientation": "v",
         "pointpos": 0,
         "showlegend": false,
         "type": "box",
         "x": [
          "CSENT",
          "IPM",
          "HOUSE",
          "UNEMP",
          "LRIR",
          "CSENT",
          "IPM",
          "HOUSE",
          "UNEMP",
          "LRIR",
          "CSENT",
          "IPM",
          "HOUSE",
          "UNEMP",
          "LRIR",
          "CSENT",
          "IPM",
          "HOUSE",
          "UNEMP",
          "LRIR",
          "CSENT",
          "IPM",
          "HOUSE",
          "UNEMP",
          "LRIR",
          "CSENT",
          "IPM",
          "HOUSE",
          "UNEMP",
          "LRIR",
          "CSENT",
          "IPM",
          "HOUSE",
          "UNEMP",
          "LRIR",
          "CSENT",
          "IPM",
          "HOUSE",
          "UNEMP",
          "LRIR",
          "CSENT",
          "IPM",
          "HOUSE",
          "UNEMP",
          "LRIR",
          "CSENT",
          "IPM",
          "HOUSE",
          "UNEMP",
          "LRIR",
          "CSENT",
          "IPM",
          "HOUSE",
          "UNEMP",
          "LRIR",
          "CSENT",
          "IPM",
          "HOUSE",
          "UNEMP",
          "LRIR",
          "CSENT",
          "IPM",
          "HOUSE",
          "UNEMP",
          "LRIR",
          "CSENT",
          "IPM",
          "HOUSE",
          "UNEMP",
          "LRIR",
          "CSENT",
          "IPM",
          "HOUSE",
          "UNEMP",
          "LRIR",
          "CSENT",
          "IPM",
          "HOUSE",
          "UNEMP",
          "LRIR",
          "CSENT",
          "IPM",
          "HOUSE",
          "UNEMP",
          "LRIR",
          "CSENT",
          "IPM",
          "HOUSE",
          "UNEMP",
          "LRIR"
         ],
         "x0": " ",
         "xaxis": "x2",
         "y": [
          -0.017313332858638786,
          -0.020650102124703862,
          0.016170416032953217,
          -0.03800760089048716,
          -0.04917740332328824,
          0.011085404250008812,
          -0.026235350830821402,
          -0.018657872981756807,
          -0.053361285966939676,
          -0.0363446146714731,
          0.05109705501140449,
          -0.02991724448732891,
          -0.005056792579341551,
          -0.05280808086892963,
          -0.004368361453523595,
          0.07345217474475885,
          -0.043115769255474334,
          0.021934654112283902,
          -0.06833913692498284,
          0.008915094089999243,
          0.08525048584888884,
          -0.03512876698865064,
          0.028093807779498325,
          -0.08509563488569105,
          0.007982447123762837,
          0.08815902446188151,
          -0.019865318836151058,
          0.014024591140680664,
          -0.09910673402896975,
          0.0041579823110247105,
          -0.009735531739790027,
          -0.005549863801095012,
          0.04224210469503964,
          -0.02596615875569619,
          -0.02893541530207555,
          0.023541749220040487,
          0.007073648642456298,
          0.02935118574828388,
          -0.03027221285520376,
          -0.010613912736273212,
          0.0873537082191842,
          0.021665964379943725,
          0.06078581132526262,
          -0.007597750701685557,
          0.040643449132644505,
          0.12368202038414644,
          0.022670452731334167,
          0.09467640029647051,
          -0.0004434321069988201,
          0.06735431687059856,
          0.12816173063898872,
          0.028264169450371468,
          0.1079019901216437,
          -0.010269381950251621,
          0.06257964306705144,
          0.11879286283842627,
          0.04049291778491493,
          0.09790231890730494,
          -0.022776424678053075,
          0.050133925305603566,
          -0.03646421969660196,
          -0.005437684038524404,
          0.05356020164876241,
          -0.011620786201182676,
          -0.006877351159869538,
          -0.011952498504811282,
          0.015054379531446171,
          0.04463682515372158,
          -0.009918135758301805,
          0.022174457386025637,
          0.06374223172031956,
          0.037521644031165424,
          0.08010394536906618,
          0.022307382603801162,
          0.08107943654854799,
          0.11691893003688592,
          0.04753337116719125,
          0.12410390603061083,
          0.04544298014254444,
          0.1087109821645329,
          0.12526637544185082,
          0.05612500114041252,
          0.14875743389058738,
          0.04429846546640004,
          0.10155858249299943,
          0.10579956049302663,
          0.06832023847389124,
          0.1405597269161004,
          0.030141928906458837,
          0.07927672236189542
         ],
         "y0": " ",
         "yaxis": "y2"
        },
        {
         "alignmentgroup": "True",
         "boxpoints": "all",
         "fillcolor": "rgba(255,255,255,0)",
         "hoveron": "points",
         "hovertemplate": "ma=4<br>theta=%{x}<br>diff=%{y}<extra></extra>",
         "legendgroup": "4",
         "line": {
          "color": "rgba(255,255,255,0)"
         },
         "marker": {
          "color": "#ab63fa",
          "opacity": 0.5,
          "size": 5
         },
         "name": "4",
         "offsetgroup": "4",
         "orientation": "v",
         "pointpos": 0,
         "showlegend": true,
         "type": "box",
         "x": [
          "CSENT",
          "IPM",
          "HOUSE",
          "UNEMP",
          "LRIR",
          "CSENT",
          "IPM",
          "HOUSE",
          "UNEMP",
          "LRIR",
          "CSENT",
          "IPM",
          "HOUSE",
          "UNEMP",
          "LRIR",
          "CSENT",
          "IPM",
          "HOUSE",
          "UNEMP",
          "LRIR",
          "CSENT",
          "IPM",
          "HOUSE",
          "UNEMP",
          "LRIR",
          "CSENT",
          "IPM",
          "HOUSE",
          "UNEMP",
          "LRIR",
          "CSENT",
          "IPM",
          "HOUSE",
          "UNEMP",
          "LRIR",
          "CSENT",
          "IPM",
          "HOUSE",
          "UNEMP",
          "LRIR",
          "CSENT",
          "IPM",
          "HOUSE",
          "UNEMP",
          "LRIR",
          "CSENT",
          "IPM",
          "HOUSE",
          "UNEMP",
          "LRIR",
          "CSENT",
          "IPM",
          "HOUSE",
          "UNEMP",
          "LRIR",
          "CSENT",
          "IPM",
          "HOUSE",
          "UNEMP",
          "LRIR",
          "CSENT",
          "IPM",
          "HOUSE",
          "UNEMP",
          "LRIR",
          "CSENT",
          "IPM",
          "HOUSE",
          "UNEMP",
          "LRIR",
          "CSENT",
          "IPM",
          "HOUSE",
          "UNEMP",
          "LRIR",
          "CSENT",
          "IPM",
          "HOUSE",
          "UNEMP",
          "LRIR",
          "CSENT",
          "IPM",
          "HOUSE",
          "UNEMP",
          "LRIR",
          "CSENT",
          "IPM",
          "HOUSE",
          "UNEMP",
          "LRIR"
         ],
         "x0": " ",
         "xaxis": "x",
         "y": [
          0.11971031268949872,
          1.0382993689294366,
          -0.6943458168918806,
          0.7222893639159418,
          0.8582820725921998,
          0.04929595531506159,
          0.9106918009871423,
          0.15967432070393084,
          1.0556434597103141,
          0.9946729860718149,
          -0.5299013083728887,
          0.9540115629997423,
          0.3330343184907383,
          1.2462303140634052,
          0.6299669730113937,
          -1.2302954360335265,
          0.9258172324377902,
          0.20629714518480569,
          1.3115490901831324,
          0.33167105395060137,
          -1.528038020674197,
          0.9745418666686536,
          -0.11174885554313008,
          1.5055285771894305,
          0.14550977700407408,
          -1.811592196738815,
          0.7639480154197607,
          -0.09918047715489564,
          1.7527519420831057,
          0.09177111838938767,
          -0.11304052171923118,
          0.6345559254979669,
          -0.9774366749322381,
          0.4342501252452706,
          0.3671282365648132,
          -0.16051350923328567,
          0.3384971592289041,
          -0.5505395728353779,
          0.6085920858561487,
          0.3970576325191235,
          -0.8452290485179521,
          0.1042638759491048,
          -0.668704119088626,
          0.5217051584830994,
          -0.09331188426652748,
          -1.6236958268925124,
          -0.12111225585294783,
          -1.0071066310564243,
          0.2864021048626384,
          -0.5369341445712283,
          -1.8776053349064998,
          -0.18074925056675362,
          -1.3648133269598537,
          0.25228422818524976,
          -0.7427378188024525,
          -1.861345347190384,
          -0.2741926096232552,
          -1.3948543568812601,
          0.4563218462383709,
          -0.6584556270914295,
          0.18075842861017577,
          0.5038624832380627,
          -1.0071159335965234,
          0.14303737829088803,
          -0.05233366880560908,
          0.25288459045305967,
          0.10932341414912727,
          -0.735720628484672,
          0.22311783013298125,
          -0.16687041682899206,
          -0.3008402694451373,
          -0.16387674988121947,
          -0.8590549212815013,
          0.02758680696901905,
          -0.666206399646339,
          -1.0904703332677599,
          -0.439017647496728,
          -1.227431266345711,
          -0.30289910826129507,
          -1.0932806711539378,
          -1.4497898673933562,
          -0.5491662102566295,
          -1.602097250577457,
          -0.46382307123616684,
          -1.2030257719364421,
          -1.3626373250732673,
          -0.6747237087342057,
          -1.7150859505420222,
          -0.36039287747781223,
          -1.02125738394958
         ],
         "y0": " ",
         "yaxis": "y"
        },
        {
         "alignmentgroup": "True",
         "boxpoints": "all",
         "fillcolor": "rgba(255,255,255,0)",
         "hoveron": "points",
         "hovertemplate": "ma=4<br>theta=%{x}<br>diff=%{y}<extra></extra>",
         "legendgroup": "4",
         "line": {
          "color": "rgba(255,255,255,0)"
         },
         "marker": {
          "color": "#ab63fa",
          "opacity": 0.5,
          "size": 5
         },
         "name": "4",
         "offsetgroup": "4",
         "orientation": "v",
         "pointpos": 0,
         "showlegend": false,
         "type": "box",
         "x": [
          "CSENT",
          "IPM",
          "HOUSE",
          "UNEMP",
          "LRIR",
          "CSENT",
          "IPM",
          "HOUSE",
          "UNEMP",
          "LRIR",
          "CSENT",
          "IPM",
          "HOUSE",
          "UNEMP",
          "LRIR",
          "CSENT",
          "IPM",
          "HOUSE",
          "UNEMP",
          "LRIR",
          "CSENT",
          "IPM",
          "HOUSE",
          "UNEMP",
          "LRIR",
          "CSENT",
          "IPM",
          "HOUSE",
          "UNEMP",
          "LRIR",
          "CSENT",
          "IPM",
          "HOUSE",
          "UNEMP",
          "LRIR",
          "CSENT",
          "IPM",
          "HOUSE",
          "UNEMP",
          "LRIR",
          "CSENT",
          "IPM",
          "HOUSE",
          "UNEMP",
          "LRIR",
          "CSENT",
          "IPM",
          "HOUSE",
          "UNEMP",
          "LRIR",
          "CSENT",
          "IPM",
          "HOUSE",
          "UNEMP",
          "LRIR",
          "CSENT",
          "IPM",
          "HOUSE",
          "UNEMP",
          "LRIR",
          "CSENT",
          "IPM",
          "HOUSE",
          "UNEMP",
          "LRIR",
          "CSENT",
          "IPM",
          "HOUSE",
          "UNEMP",
          "LRIR",
          "CSENT",
          "IPM",
          "HOUSE",
          "UNEMP",
          "LRIR",
          "CSENT",
          "IPM",
          "HOUSE",
          "UNEMP",
          "LRIR",
          "CSENT",
          "IPM",
          "HOUSE",
          "UNEMP",
          "LRIR",
          "CSENT",
          "IPM",
          "HOUSE",
          "UNEMP",
          "LRIR"
         ],
         "x0": " ",
         "xaxis": "x2",
         "y": [
          -0.005402053268533935,
          -0.05112883240246313,
          0.02879987828898145,
          -0.03454465090483305,
          -0.04157182214014843,
          -0.002154668484503852,
          -0.043314021254853285,
          -0.00705800860823369,
          -0.05089257742590769,
          -0.0476819353810044,
          0.022637769677748,
          -0.0470775651527241,
          -0.015510759871212976,
          -0.0631238342516629,
          -0.030175401671153956,
          0.05287222845162509,
          -0.04869246657376214,
          -0.010187804750878326,
          -0.07123660186068348,
          -0.01656479480833295,
          0.06631791270809595,
          -0.05317866842184105,
          0.005556214534508719,
          -0.08572068197614158,
          -0.007401864875343223,
          0.07683662304077765,
          -0.041188929524555884,
          0.0049651000434230985,
          -0.10224108055975345,
          -0.004672437304172217,
          0.0061857251679872105,
          -0.03684979797815102,
          0.0497000824834366,
          -0.02482785335018567,
          -0.020879781943350828,
          0.008681200822761692,
          -0.019062770225564796,
          0.028814923788162194,
          -0.03500863350547734,
          -0.022464656338888167,
          0.04625688206544254,
          -0.006148115367108908,
          0.03712330153073262,
          -0.0317357998962261,
          0.005419986213388572,
          0.09279787595585876,
          0.007733689812087441,
          0.060328678002893876,
          -0.01880904184158938,
          0.033290182314652084,
          0.1111495159547693,
          0.012068501641709473,
          0.08391650127271044,
          -0.01733233342634788,
          0.04772949332694332,
          0.1107879115190793,
          0.018263518176113602,
          0.08592808908455185,
          -0.03188354175838459,
          0.042728690917462786,
          -0.012372420514363158,
          -0.03521762631785008,
          0.06357278835832947,
          -0.009766336744982729,
          0.003527426669747813,
          -0.017418115355750885,
          -0.007459749514505232,
          0.04742153960667661,
          -0.01533814263064781,
          0.011180359823167452,
          0.0214826852491532,
          0.011802491207215438,
          0.05920289035386517,
          -0.0020104021165323616,
          0.04648618049170272,
          0.08259452754372898,
          0.034528018673708916,
          0.09221826835436997,
          0.024006453892739588,
          0.0827936815492738,
          0.11473910594394077,
          0.04566905000060706,
          0.12570415739886098,
          0.038748488999078456,
          0.09653441300192556,
          0.11002688012225303,
          0.05655376589044159,
          0.1357860078293598,
          0.030713194392285592,
          0.0840189391824806
         ],
         "y0": " ",
         "yaxis": "y2"
        },
        {
         "alignmentgroup": "True",
         "boxpoints": "all",
         "fillcolor": "rgba(255,255,255,0)",
         "hoveron": "points",
         "hovertemplate": "ma=5<br>theta=%{x}<br>diff=%{y}<extra></extra>",
         "legendgroup": "5",
         "line": {
          "color": "rgba(255,255,255,0)"
         },
         "marker": {
          "color": "#FFA15A",
          "opacity": 0.5,
          "size": 5
         },
         "name": "5",
         "offsetgroup": "5",
         "orientation": "v",
         "pointpos": 0,
         "showlegend": true,
         "type": "box",
         "x": [
          "CSENT",
          "IPM",
          "HOUSE",
          "UNEMP",
          "LRIR",
          "CSENT",
          "IPM",
          "HOUSE",
          "UNEMP",
          "LRIR",
          "CSENT",
          "IPM",
          "HOUSE",
          "UNEMP",
          "LRIR",
          "CSENT",
          "IPM",
          "HOUSE",
          "UNEMP",
          "LRIR",
          "CSENT",
          "IPM",
          "HOUSE",
          "UNEMP",
          "LRIR",
          "CSENT",
          "IPM",
          "HOUSE",
          "UNEMP",
          "LRIR",
          "CSENT",
          "IPM",
          "HOUSE",
          "UNEMP",
          "LRIR",
          "CSENT",
          "IPM",
          "HOUSE",
          "UNEMP",
          "LRIR",
          "CSENT",
          "IPM",
          "HOUSE",
          "UNEMP",
          "LRIR",
          "CSENT",
          "IPM",
          "HOUSE",
          "UNEMP",
          "LRIR",
          "CSENT",
          "IPM",
          "HOUSE",
          "UNEMP",
          "LRIR",
          "CSENT",
          "IPM",
          "HOUSE",
          "UNEMP",
          "LRIR",
          "CSENT",
          "IPM",
          "HOUSE",
          "UNEMP",
          "LRIR",
          "CSENT",
          "IPM",
          "HOUSE",
          "UNEMP",
          "LRIR",
          "CSENT",
          "IPM",
          "HOUSE",
          "UNEMP",
          "LRIR",
          "CSENT",
          "IPM",
          "HOUSE",
          "UNEMP",
          "LRIR",
          "CSENT",
          "IPM",
          "HOUSE",
          "UNEMP",
          "LRIR",
          "CSENT",
          "IPM",
          "HOUSE",
          "UNEMP",
          "LRIR"
         ],
         "x0": " ",
         "xaxis": "x",
         "y": [
          -0.11119860285460614,
          1.4196168892204515,
          -0.8721128525605883,
          0.7925853758078301,
          0.821937441688898,
          0.0005127506335496079,
          1.3940601909248382,
          -0.1723188141496692,
          0.9702724719140283,
          0.9672309138275947,
          -0.2250225892237605,
          1.2433820933584254,
          0.20449332118387797,
          1.197108640191498,
          0.9012673817614063,
          -0.7453880309799157,
          1.217071324241406,
          0.3937156313596537,
          1.4250015326115992,
          0.7317547938628417,
          -1.2490998108426816,
          1.0686958242494988,
          0.3464741112201306,
          1.5101260382035901,
          0.48619036662123793,
          -1.501054040853354,
          1.0562316375575937,
          0.1936586429878524,
          1.7409822301687177,
          0.3155587528005963,
          -0.3604476987254257,
          0.8675036588797527,
          -1.0896100332738774,
          0.4956473665788348,
          0.30179290413550675,
          -0.23350094825883616,
          0.8283030474786379,
          -0.6884927736090951,
          0.6119254183944358,
          0.39810919960413127,
          -0.5053065712860887,
          0.540499764579093,
          -0.5831386168390127,
          0.6340869239172857,
          0.21494889517432103,
          -1.1191544655127954,
          0.2597364044354995,
          -0.6903555717131944,
          0.5696878436519865,
          -0.07718235306833954,
          -1.577703772523896,
          0.009193191299421422,
          -0.9467912616758465,
          0.4231814309129218,
          -0.38881580629744494,
          -1.695422229069612,
          -0.032479349943081104,
          -1.126324464766264,
          0.49058018715429164,
          -0.5124351332737271,
          -0.13111598230371424,
          0.7077288869070255,
          -1.1277545071898425,
          0.20884877190660767,
          -0.14373155985190245,
          0.10106241937654303,
          0.518315420423396,
          -0.8733355927528343,
          0.25228327458752275,
          -0.1798662551236916,
          -0.08127478531486254,
          0.1681659623939451,
          -0.8239558208818023,
          0.1596108774538436,
          -0.4241039002970721,
          -0.6358055998213548,
          -0.14051129460644418,
          -0.9925094908678957,
          -0.038150308037927516,
          -0.7525114529723158,
          -1.1791668731642169,
          -0.42802716671901386,
          -1.3007908289309134,
          -0.28466185721316606,
          -1.0257755171433391,
          -1.3125839004250928,
          -0.5530524305376225,
          -1.5241033645325874,
          -0.3372254706421991,
          -1.0304273510895783
         ],
         "y0": " ",
         "yaxis": "y"
        },
        {
         "alignmentgroup": "True",
         "boxpoints": "all",
         "fillcolor": "rgba(255,255,255,0)",
         "hoveron": "points",
         "hovertemplate": "ma=5<br>theta=%{x}<br>diff=%{y}<extra></extra>",
         "legendgroup": "5",
         "line": {
          "color": "rgba(255,255,255,0)"
         },
         "marker": {
          "color": "#FFA15A",
          "opacity": 0.5,
          "size": 5
         },
         "name": "5",
         "offsetgroup": "5",
         "orientation": "v",
         "pointpos": 0,
         "showlegend": false,
         "type": "box",
         "x": [
          "CSENT",
          "IPM",
          "HOUSE",
          "UNEMP",
          "LRIR",
          "CSENT",
          "IPM",
          "HOUSE",
          "UNEMP",
          "LRIR",
          "CSENT",
          "IPM",
          "HOUSE",
          "UNEMP",
          "LRIR",
          "CSENT",
          "IPM",
          "HOUSE",
          "UNEMP",
          "LRIR",
          "CSENT",
          "IPM",
          "HOUSE",
          "UNEMP",
          "LRIR",
          "CSENT",
          "IPM",
          "HOUSE",
          "UNEMP",
          "LRIR",
          "CSENT",
          "IPM",
          "HOUSE",
          "UNEMP",
          "LRIR",
          "CSENT",
          "IPM",
          "HOUSE",
          "UNEMP",
          "LRIR",
          "CSENT",
          "IPM",
          "HOUSE",
          "UNEMP",
          "LRIR",
          "CSENT",
          "IPM",
          "HOUSE",
          "UNEMP",
          "LRIR",
          "CSENT",
          "IPM",
          "HOUSE",
          "UNEMP",
          "LRIR",
          "CSENT",
          "IPM",
          "HOUSE",
          "UNEMP",
          "LRIR",
          "CSENT",
          "IPM",
          "HOUSE",
          "UNEMP",
          "LRIR",
          "CSENT",
          "IPM",
          "HOUSE",
          "UNEMP",
          "LRIR",
          "CSENT",
          "IPM",
          "HOUSE",
          "UNEMP",
          "LRIR",
          "CSENT",
          "IPM",
          "HOUSE",
          "UNEMP",
          "LRIR",
          "CSENT",
          "IPM",
          "HOUSE",
          "UNEMP",
          "LRIR",
          "CSENT",
          "IPM",
          "HOUSE",
          "UNEMP",
          "LRIR"
         ],
         "x0": " ",
         "xaxis": "x2",
         "y": [
          0.004849246022819331,
          -0.07195111500549745,
          0.03496504755659369,
          -0.03787422662502293,
          -0.039388330133774074,
          -0.00002186794729386321,
          -0.06841480951465584,
          0.007211738244457533,
          -0.04572045081876619,
          -0.04556355957107305,
          0.009442941387393655,
          -0.06058864092538829,
          -0.008986062617173718,
          -0.058078601921845,
          -0.04249735560072054,
          0.031043729220962435,
          -0.061689869862375124,
          -0.018463151416093893,
          -0.07359406745399011,
          -0.035454762919312044,
          0.05311120652186241,
          -0.056856668570973934,
          -0.01727981407977275,
          -0.08341392146251236,
          -0.024560999564202546,
          0.06348882377903875,
          -0.05713061348792525,
          -0.00970449333714496,
          -0.09966570572019717,
          -0.01599045980935121,
          0.019347659665258643,
          -0.05148779151781835,
          0.05481496165386579,
          -0.028565720434121977,
          -0.01712290330385169,
          0.012269762381514115,
          -0.047581401570549464,
          0.034733313984059544,
          -0.03454099392542298,
          -0.022079216205357355,
          0.02657089156723158,
          -0.031025448371887254,
          0.030454505659952336,
          -0.03667085520676405,
          -0.012016008202005324,
          0.06064324999086457,
          -0.015723937584537495,
          0.03877159972518052,
          -0.035301131134049646,
          0.0045526903689994125,
          0.08985013170989076,
          -0.000590788312915258,
          0.0566727551017181,
          -0.028002627781976708,
          0.02427350793240679,
          0.09870277228422919,
          0.002139930883678365,
          0.06852740369221078,
          -0.03350563653503058,
          0.03262806293974496,
          0.00887802683950667,
          -0.05066484876307786,
          0.07116731604910553,
          -0.01446954015640034,
          0.009723863456171267,
          -0.006804493852924365,
          -0.035895500236816535,
          0.05487628781251086,
          -0.017162102056517803,
          0.01187726207417017,
          0.0055807878591358495,
          -0.011740467877468297,
          0.05375848057472121,
          -0.011136906232279031,
          0.02845158953556548,
          0.04593819284867595,
          0.01047277781231748,
          0.0700800157504089,
          0.0028614578753380915,
          0.05396589360823478,
          0.09020664482596663,
          0.03422599346069388,
          0.09878176538132433,
          0.022950277464586333,
          0.07919733407181817,
          0.10366460654785281,
          0.04561581503048373,
          0.118883241543291,
          0.02815002375688236,
          0.0827213423609614
         ],
         "y0": " ",
         "yaxis": "y2"
        },
        {
         "alignmentgroup": "True",
         "boxpoints": "all",
         "fillcolor": "rgba(255,255,255,0)",
         "hoveron": "points",
         "hovertemplate": "ma=6<br>theta=%{x}<br>diff=%{y}<extra></extra>",
         "legendgroup": "6",
         "line": {
          "color": "rgba(255,255,255,0)"
         },
         "marker": {
          "color": "#19d3f3",
          "opacity": 0.5,
          "size": 5
         },
         "name": "6",
         "offsetgroup": "6",
         "orientation": "v",
         "pointpos": 0,
         "showlegend": true,
         "type": "box",
         "x": [
          "CSENT",
          "IPM",
          "HOUSE",
          "UNEMP",
          "LRIR",
          "CSENT",
          "IPM",
          "HOUSE",
          "UNEMP",
          "LRIR",
          "CSENT",
          "IPM",
          "HOUSE",
          "UNEMP",
          "LRIR",
          "CSENT",
          "IPM",
          "HOUSE",
          "UNEMP",
          "LRIR",
          "CSENT",
          "IPM",
          "HOUSE",
          "UNEMP",
          "LRIR",
          "CSENT",
          "IPM",
          "HOUSE",
          "UNEMP",
          "LRIR",
          "CSENT",
          "IPM",
          "HOUSE",
          "UNEMP",
          "LRIR",
          "CSENT",
          "IPM",
          "HOUSE",
          "UNEMP",
          "LRIR",
          "CSENT",
          "IPM",
          "HOUSE",
          "UNEMP",
          "LRIR",
          "CSENT",
          "IPM",
          "HOUSE",
          "UNEMP",
          "LRIR",
          "CSENT",
          "IPM",
          "HOUSE",
          "UNEMP",
          "LRIR",
          "CSENT",
          "IPM",
          "HOUSE",
          "UNEMP",
          "LRIR",
          "CSENT",
          "IPM",
          "HOUSE",
          "UNEMP",
          "LRIR",
          "CSENT",
          "IPM",
          "HOUSE",
          "UNEMP",
          "LRIR",
          "CSENT",
          "IPM",
          "HOUSE",
          "UNEMP",
          "LRIR",
          "CSENT",
          "IPM",
          "HOUSE",
          "UNEMP",
          "LRIR",
          "CSENT",
          "IPM",
          "HOUSE",
          "UNEMP",
          "LRIR",
          "CSENT",
          "IPM",
          "HOUSE",
          "UNEMP",
          "LRIR"
         ],
         "x0": " ",
         "xaxis": "x",
         "y": [
          -0.3270736055469152,
          1.7632732408346428,
          -0.9143099362185336,
          0.9147157260039336,
          0.7544138198913846,
          -0.11961278983974477,
          1.716755730300755,
          -0.3599678687580372,
          1.018010291233752,
          0.9682145410949614,
          -0.16367035016706133,
          1.640364420576053,
          0.008753820991709738,
          1.1394656642741632,
          0.9479970548963159,
          -0.459289485301408,
          1.452547183920978,
          0.36043652727328546,
          1.3776333788708515,
          0.9702139693891016,
          -0.8957188138786227,
          1.2935689549997376,
          0.5291585602836513,
          1.5560590333440452,
          0.7784991856844625,
          -1.2460329558955507,
          1.1439234407188907,
          0.5896601818852432,
          1.7055793014381022,
          0.591251007032584,
          -0.6140992895257664,
          1.162016529027139,
          -1.11818200984714,
          0.5542782995119087,
          0.1549509351570979,
          -0.3632807520310104,
          1.059030259062828,
          -0.8033142574040877,
          0.6719324408972422,
          0.38660482258398243,
          -0.4330685207430047,
          1.014017741645378,
          -0.6191487632765815,
          0.6868741564347252,
          0.30922965825341553,
          -0.7746538117157256,
          0.6584139366037007,
          -0.5489069846255594,
          0.6767856058583099,
          0.22355546820805827,
          -1.2012177728732283,
          0.34809008674665964,
          -0.6524010650573411,
          0.6262852768383951,
          -0.028671499604191908,
          -1.4490878127654385,
          0.134801916954431,
          -0.7646705960759173,
          0.6109848959566895,
          -0.24822403711663288,
          -0.4303659378396274,
          0.9359794198500984,
          -1.1845427897613918,
          0.27210745691395566,
          -0.3096131185620381,
          -0.09717924108462395,
          0.7489654027861787,
          -0.9767002044154385,
          0.33571850051925267,
          -0.2023905212817887,
          -0.07452661596516297,
          0.58048685145428,
          -0.8681157324685014,
          0.2532245409089606,
          -0.3468390384565385,
          -0.37576638760484027,
          0.19143991085231793,
          -0.8897544771978874,
          0.09869657369477913,
          -0.505891474106491,
          -0.8284424890955622,
          -0.1519828655555706,
          -1.0686893395751094,
          -0.07846873185001435,
          -0.762307656047879,
          -1.1051498012952354,
          -0.41035034016012517,
          -1.2497066151197904,
          -0.22631432089514192,
          -0.9173028845769879
         ],
         "y0": " ",
         "yaxis": "y"
        },
        {
         "alignmentgroup": "True",
         "boxpoints": "all",
         "fillcolor": "rgba(255,255,255,0)",
         "hoveron": "points",
         "hovertemplate": "ma=6<br>theta=%{x}<br>diff=%{y}<extra></extra>",
         "legendgroup": "6",
         "line": {
          "color": "rgba(255,255,255,0)"
         },
         "marker": {
          "color": "#19d3f3",
          "opacity": 0.5,
          "size": 5
         },
         "name": "6",
         "offsetgroup": "6",
         "orientation": "v",
         "pointpos": 0,
         "showlegend": false,
         "type": "box",
         "x": [
          "CSENT",
          "IPM",
          "HOUSE",
          "UNEMP",
          "LRIR",
          "CSENT",
          "IPM",
          "HOUSE",
          "UNEMP",
          "LRIR",
          "CSENT",
          "IPM",
          "HOUSE",
          "UNEMP",
          "LRIR",
          "CSENT",
          "IPM",
          "HOUSE",
          "UNEMP",
          "LRIR",
          "CSENT",
          "IPM",
          "HOUSE",
          "UNEMP",
          "LRIR",
          "CSENT",
          "IPM",
          "HOUSE",
          "UNEMP",
          "LRIR",
          "CSENT",
          "IPM",
          "HOUSE",
          "UNEMP",
          "LRIR",
          "CSENT",
          "IPM",
          "HOUSE",
          "UNEMP",
          "LRIR",
          "CSENT",
          "IPM",
          "HOUSE",
          "UNEMP",
          "LRIR",
          "CSENT",
          "IPM",
          "HOUSE",
          "UNEMP",
          "LRIR",
          "CSENT",
          "IPM",
          "HOUSE",
          "UNEMP",
          "LRIR",
          "CSENT",
          "IPM",
          "HOUSE",
          "UNEMP",
          "LRIR",
          "CSENT",
          "IPM",
          "HOUSE",
          "UNEMP",
          "LRIR",
          "CSENT",
          "IPM",
          "HOUSE",
          "UNEMP",
          "LRIR",
          "CSENT",
          "IPM",
          "HOUSE",
          "UNEMP",
          "LRIR",
          "CSENT",
          "IPM",
          "HOUSE",
          "UNEMP",
          "LRIR",
          "CSENT",
          "IPM",
          "HOUSE",
          "UNEMP",
          "LRIR",
          "CSENT",
          "IPM",
          "HOUSE",
          "UNEMP",
          "LRIR"
         ],
         "x0": " ",
         "xaxis": "x2",
         "y": [
          0.013690570482944087,
          -0.09138112714612345,
          0.035710911817076085,
          -0.04370394623141094,
          -0.035468303281499414,
          0.004977914461959054,
          -0.08645350382338446,
          0.01456888428680414,
          -0.04787945075018629,
          -0.0453079276534295,
          0.00674110392514371,
          -0.08164117407417337,
          -0.00036772546930385897,
          -0.05399587802639372,
          -0.04405917305156004,
          0.018789745119513923,
          -0.07263975658677602,
          -0.016151659918368533,
          -0.06840229958719668,
          -0.046292014593015574,
          0.03701024615304738,
          -0.06693214420328586,
          -0.02545404966953435,
          -0.08245859490208274,
          -0.03837221494091514,
          0.05212047009573617,
          -0.06087510689735276,
          -0.02982222971919457,
          -0.09532836663839717,
          -0.029907167525402012,
          0.03202742879412612,
          -0.07044396188642288,
          0.05562954897677286,
          -0.03199539488555059,
          -0.008649422728608802,
          0.01880759573831914,
          -0.06199796688714543,
          0.03990608728683864,
          -0.03809822470563706,
          -0.021395186300058988,
          0.022139398846842684,
          -0.05882009646759834,
          0.03110408152815547,
          -0.03877440149719347,
          -0.016900574839114335,
          0.04031119980236619,
          -0.03875253072652274,
          0.029153538543851276,
          -0.03989300892624936,
          -0.012695265106977605,
          0.06523935414856785,
          -0.02147272322376992,
          0.03713723006719216,
          -0.039463327749241106,
          0.0017172364322129985,
          0.08187722974999756,
          -0.008633933222555235,
          0.04569939460679706,
          -0.04051918112160058,
          0.015445520474349439,
          0.028658447312703506,
          -0.06842545756894491,
          0.07462016010221606,
          -0.019031286062362263,
          0.02079567324423326,
          0.006467999842655225,
          -0.05286599368001077,
          0.06091737927746188,
          -0.02303638730484525,
          0.01336922588319045,
          0.0049858684030616995,
          -0.04064387091099253,
          0.05479967098654903,
          -0.017335714128656643,
          0.022754349173953248,
          0.02607064764953748,
          -0.013798828701083066,
          0.05955479253504081,
          -0.007070406953572528,
          0.03478544902503988,
          0.06068502830548317,
          0.011622520464354746,
          0.07706119707296555,
          0.006028169745454504,
          0.056080548725826906,
          0.0848638028144193,
          0.03286897264564448,
          0.09510351184142285,
          0.018326168938535004,
          0.07126013117292773
         ],
         "y0": " ",
         "yaxis": "y2"
        }
       ],
       "layout": {
        "annotations": [
         {
          "font": {
           "color": "grey",
           "size": 11
          },
          "showarrow": false,
          "text": "RMSE",
          "x": 0.225,
          "xanchor": "center",
          "xref": "paper",
          "y": 0.95,
          "yanchor": "bottom",
          "yref": "paper"
         },
         {
          "font": {
           "color": "grey",
           "size": 11
          },
          "showarrow": false,
          "text": "Adj-R2",
          "x": 0.775,
          "xanchor": "center",
          "xref": "paper",
          "y": 0.95,
          "yanchor": "bottom",
          "yref": "paper"
         }
        ],
        "height": 400,
        "legend": {
         "orientation": "h",
         "title": {
          "text": "Moving Averages:"
         },
         "x": 0.5,
         "xanchor": "center",
         "y": -0.1,
         "yanchor": "top"
        },
        "margin": {
         "b": 60,
         "l": 80,
         "r": 40,
         "t": 80
        },
        "template": {
         "data": {
          "bar": [
           {
            "error_x": {
             "color": "#f2f5fa"
            },
            "error_y": {
             "color": "#f2f5fa"
            },
            "marker": {
             "line": {
              "color": "rgb(17,17,17)",
              "width": 0.5
             },
             "pattern": {
              "fillmode": "overlay",
              "size": 10,
              "solidity": 0.2
             }
            },
            "type": "bar"
           }
          ],
          "barpolar": [
           {
            "marker": {
             "line": {
              "color": "rgb(17,17,17)",
              "width": 0.5
             },
             "pattern": {
              "fillmode": "overlay",
              "size": 10,
              "solidity": 0.2
             }
            },
            "type": "barpolar"
           }
          ],
          "carpet": [
           {
            "aaxis": {
             "endlinecolor": "#A2B1C6",
             "gridcolor": "#506784",
             "linecolor": "#506784",
             "minorgridcolor": "#506784",
             "startlinecolor": "#A2B1C6"
            },
            "baxis": {
             "endlinecolor": "#A2B1C6",
             "gridcolor": "#506784",
             "linecolor": "#506784",
             "minorgridcolor": "#506784",
             "startlinecolor": "#A2B1C6"
            },
            "type": "carpet"
           }
          ],
          "choropleth": [
           {
            "colorbar": {
             "outlinewidth": 0,
             "ticks": ""
            },
            "type": "choropleth"
           }
          ],
          "contour": [
           {
            "colorbar": {
             "outlinewidth": 0,
             "ticks": ""
            },
            "colorscale": [
             [
              0,
              "#0d0887"
             ],
             [
              0.1111111111111111,
              "#46039f"
             ],
             [
              0.2222222222222222,
              "#7201a8"
             ],
             [
              0.3333333333333333,
              "#9c179e"
             ],
             [
              0.4444444444444444,
              "#bd3786"
             ],
             [
              0.5555555555555556,
              "#d8576b"
             ],
             [
              0.6666666666666666,
              "#ed7953"
             ],
             [
              0.7777777777777778,
              "#fb9f3a"
             ],
             [
              0.8888888888888888,
              "#fdca26"
             ],
             [
              1,
              "#f0f921"
             ]
            ],
            "type": "contour"
           }
          ],
          "contourcarpet": [
           {
            "colorbar": {
             "outlinewidth": 0,
             "ticks": ""
            },
            "type": "contourcarpet"
           }
          ],
          "heatmap": [
           {
            "colorbar": {
             "outlinewidth": 0,
             "ticks": ""
            },
            "colorscale": [
             [
              0,
              "#0d0887"
             ],
             [
              0.1111111111111111,
              "#46039f"
             ],
             [
              0.2222222222222222,
              "#7201a8"
             ],
             [
              0.3333333333333333,
              "#9c179e"
             ],
             [
              0.4444444444444444,
              "#bd3786"
             ],
             [
              0.5555555555555556,
              "#d8576b"
             ],
             [
              0.6666666666666666,
              "#ed7953"
             ],
             [
              0.7777777777777778,
              "#fb9f3a"
             ],
             [
              0.8888888888888888,
              "#fdca26"
             ],
             [
              1,
              "#f0f921"
             ]
            ],
            "type": "heatmap"
           }
          ],
          "heatmapgl": [
           {
            "colorbar": {
             "outlinewidth": 0,
             "ticks": ""
            },
            "colorscale": [
             [
              0,
              "#0d0887"
             ],
             [
              0.1111111111111111,
              "#46039f"
             ],
             [
              0.2222222222222222,
              "#7201a8"
             ],
             [
              0.3333333333333333,
              "#9c179e"
             ],
             [
              0.4444444444444444,
              "#bd3786"
             ],
             [
              0.5555555555555556,
              "#d8576b"
             ],
             [
              0.6666666666666666,
              "#ed7953"
             ],
             [
              0.7777777777777778,
              "#fb9f3a"
             ],
             [
              0.8888888888888888,
              "#fdca26"
             ],
             [
              1,
              "#f0f921"
             ]
            ],
            "type": "heatmapgl"
           }
          ],
          "histogram": [
           {
            "marker": {
             "pattern": {
              "fillmode": "overlay",
              "size": 10,
              "solidity": 0.2
             }
            },
            "type": "histogram"
           }
          ],
          "histogram2d": [
           {
            "colorbar": {
             "outlinewidth": 0,
             "ticks": ""
            },
            "colorscale": [
             [
              0,
              "#0d0887"
             ],
             [
              0.1111111111111111,
              "#46039f"
             ],
             [
              0.2222222222222222,
              "#7201a8"
             ],
             [
              0.3333333333333333,
              "#9c179e"
             ],
             [
              0.4444444444444444,
              "#bd3786"
             ],
             [
              0.5555555555555556,
              "#d8576b"
             ],
             [
              0.6666666666666666,
              "#ed7953"
             ],
             [
              0.7777777777777778,
              "#fb9f3a"
             ],
             [
              0.8888888888888888,
              "#fdca26"
             ],
             [
              1,
              "#f0f921"
             ]
            ],
            "type": "histogram2d"
           }
          ],
          "histogram2dcontour": [
           {
            "colorbar": {
             "outlinewidth": 0,
             "ticks": ""
            },
            "colorscale": [
             [
              0,
              "#0d0887"
             ],
             [
              0.1111111111111111,
              "#46039f"
             ],
             [
              0.2222222222222222,
              "#7201a8"
             ],
             [
              0.3333333333333333,
              "#9c179e"
             ],
             [
              0.4444444444444444,
              "#bd3786"
             ],
             [
              0.5555555555555556,
              "#d8576b"
             ],
             [
              0.6666666666666666,
              "#ed7953"
             ],
             [
              0.7777777777777778,
              "#fb9f3a"
             ],
             [
              0.8888888888888888,
              "#fdca26"
             ],
             [
              1,
              "#f0f921"
             ]
            ],
            "type": "histogram2dcontour"
           }
          ],
          "mesh3d": [
           {
            "colorbar": {
             "outlinewidth": 0,
             "ticks": ""
            },
            "type": "mesh3d"
           }
          ],
          "parcoords": [
           {
            "line": {
             "colorbar": {
              "outlinewidth": 0,
              "ticks": ""
             }
            },
            "type": "parcoords"
           }
          ],
          "pie": [
           {
            "automargin": true,
            "type": "pie"
           }
          ],
          "scatter": [
           {
            "marker": {
             "line": {
              "color": "#283442"
             }
            },
            "type": "scatter"
           }
          ],
          "scatter3d": [
           {
            "line": {
             "colorbar": {
              "outlinewidth": 0,
              "ticks": ""
             }
            },
            "marker": {
             "colorbar": {
              "outlinewidth": 0,
              "ticks": ""
             }
            },
            "type": "scatter3d"
           }
          ],
          "scattercarpet": [
           {
            "marker": {
             "colorbar": {
              "outlinewidth": 0,
              "ticks": ""
             }
            },
            "type": "scattercarpet"
           }
          ],
          "scattergeo": [
           {
            "marker": {
             "colorbar": {
              "outlinewidth": 0,
              "ticks": ""
             }
            },
            "type": "scattergeo"
           }
          ],
          "scattergl": [
           {
            "marker": {
             "line": {
              "color": "#283442"
             }
            },
            "type": "scattergl"
           }
          ],
          "scattermapbox": [
           {
            "marker": {
             "colorbar": {
              "outlinewidth": 0,
              "ticks": ""
             }
            },
            "type": "scattermapbox"
           }
          ],
          "scatterpolar": [
           {
            "marker": {
             "colorbar": {
              "outlinewidth": 0,
              "ticks": ""
             }
            },
            "type": "scatterpolar"
           }
          ],
          "scatterpolargl": [
           {
            "marker": {
             "colorbar": {
              "outlinewidth": 0,
              "ticks": ""
             }
            },
            "type": "scatterpolargl"
           }
          ],
          "scatterternary": [
           {
            "marker": {
             "colorbar": {
              "outlinewidth": 0,
              "ticks": ""
             }
            },
            "type": "scatterternary"
           }
          ],
          "surface": [
           {
            "colorbar": {
             "outlinewidth": 0,
             "ticks": ""
            },
            "colorscale": [
             [
              0,
              "#0d0887"
             ],
             [
              0.1111111111111111,
              "#46039f"
             ],
             [
              0.2222222222222222,
              "#7201a8"
             ],
             [
              0.3333333333333333,
              "#9c179e"
             ],
             [
              0.4444444444444444,
              "#bd3786"
             ],
             [
              0.5555555555555556,
              "#d8576b"
             ],
             [
              0.6666666666666666,
              "#ed7953"
             ],
             [
              0.7777777777777778,
              "#fb9f3a"
             ],
             [
              0.8888888888888888,
              "#fdca26"
             ],
             [
              1,
              "#f0f921"
             ]
            ],
            "type": "surface"
           }
          ],
          "table": [
           {
            "cells": {
             "fill": {
              "color": "#506784"
             },
             "line": {
              "color": "rgb(17,17,17)"
             }
            },
            "header": {
             "fill": {
              "color": "#2a3f5f"
             },
             "line": {
              "color": "rgb(17,17,17)"
             }
            },
            "type": "table"
           }
          ]
         },
         "layout": {
          "annotationdefaults": {
           "arrowcolor": "#f2f5fa",
           "arrowhead": 0,
           "arrowwidth": 1
          },
          "autotypenumbers": "strict",
          "coloraxis": {
           "colorbar": {
            "outlinewidth": 0,
            "ticks": ""
           }
          },
          "colorscale": {
           "diverging": [
            [
             0,
             "#8e0152"
            ],
            [
             0.1,
             "#c51b7d"
            ],
            [
             0.2,
             "#de77ae"
            ],
            [
             0.3,
             "#f1b6da"
            ],
            [
             0.4,
             "#fde0ef"
            ],
            [
             0.5,
             "#f7f7f7"
            ],
            [
             0.6,
             "#e6f5d0"
            ],
            [
             0.7,
             "#b8e186"
            ],
            [
             0.8,
             "#7fbc41"
            ],
            [
             0.9,
             "#4d9221"
            ],
            [
             1,
             "#276419"
            ]
           ],
           "sequential": [
            [
             0,
             "#0d0887"
            ],
            [
             0.1111111111111111,
             "#46039f"
            ],
            [
             0.2222222222222222,
             "#7201a8"
            ],
            [
             0.3333333333333333,
             "#9c179e"
            ],
            [
             0.4444444444444444,
             "#bd3786"
            ],
            [
             0.5555555555555556,
             "#d8576b"
            ],
            [
             0.6666666666666666,
             "#ed7953"
            ],
            [
             0.7777777777777778,
             "#fb9f3a"
            ],
            [
             0.8888888888888888,
             "#fdca26"
            ],
            [
             1,
             "#f0f921"
            ]
           ],
           "sequentialminus": [
            [
             0,
             "#0d0887"
            ],
            [
             0.1111111111111111,
             "#46039f"
            ],
            [
             0.2222222222222222,
             "#7201a8"
            ],
            [
             0.3333333333333333,
             "#9c179e"
            ],
            [
             0.4444444444444444,
             "#bd3786"
            ],
            [
             0.5555555555555556,
             "#d8576b"
            ],
            [
             0.6666666666666666,
             "#ed7953"
            ],
            [
             0.7777777777777778,
             "#fb9f3a"
            ],
            [
             0.8888888888888888,
             "#fdca26"
            ],
            [
             1,
             "#f0f921"
            ]
           ]
          },
          "colorway": [
           "#636efa",
           "#EF553B",
           "#00cc96",
           "#ab63fa",
           "#FFA15A",
           "#19d3f3",
           "#FF6692",
           "#B6E880",
           "#FF97FF",
           "#FECB52"
          ],
          "font": {
           "color": "#f2f5fa"
          },
          "geo": {
           "bgcolor": "rgb(17,17,17)",
           "lakecolor": "rgb(17,17,17)",
           "landcolor": "rgb(17,17,17)",
           "showlakes": true,
           "showland": true,
           "subunitcolor": "#506784"
          },
          "hoverlabel": {
           "align": "left"
          },
          "hovermode": "closest",
          "mapbox": {
           "style": "dark"
          },
          "paper_bgcolor": "rgb(17,17,17)",
          "plot_bgcolor": "rgb(17,17,17)",
          "polar": {
           "angularaxis": {
            "gridcolor": "#506784",
            "linecolor": "#506784",
            "ticks": ""
           },
           "bgcolor": "rgb(17,17,17)",
           "radialaxis": {
            "gridcolor": "#506784",
            "linecolor": "#506784",
            "ticks": ""
           }
          },
          "scene": {
           "xaxis": {
            "backgroundcolor": "rgb(17,17,17)",
            "gridcolor": "#506784",
            "gridwidth": 2,
            "linecolor": "#506784",
            "showbackground": true,
            "ticks": "",
            "zerolinecolor": "#C8D4E3"
           },
           "yaxis": {
            "backgroundcolor": "rgb(17,17,17)",
            "gridcolor": "#506784",
            "gridwidth": 2,
            "linecolor": "#506784",
            "showbackground": true,
            "ticks": "",
            "zerolinecolor": "#C8D4E3"
           },
           "zaxis": {
            "backgroundcolor": "rgb(17,17,17)",
            "gridcolor": "#506784",
            "gridwidth": 2,
            "linecolor": "#506784",
            "showbackground": true,
            "ticks": "",
            "zerolinecolor": "#C8D4E3"
           }
          },
          "shapedefaults": {
           "line": {
            "color": "#f2f5fa"
           }
          },
          "sliderdefaults": {
           "bgcolor": "#C8D4E3",
           "bordercolor": "rgb(17,17,17)",
           "borderwidth": 1,
           "tickwidth": 0
          },
          "ternary": {
           "aaxis": {
            "gridcolor": "#506784",
            "linecolor": "#506784",
            "ticks": ""
           },
           "baxis": {
            "gridcolor": "#506784",
            "linecolor": "#506784",
            "ticks": ""
           },
           "bgcolor": "rgb(17,17,17)",
           "caxis": {
            "gridcolor": "#506784",
            "linecolor": "#506784",
            "ticks": ""
           }
          },
          "title": {
           "x": 0.05
          },
          "updatemenudefaults": {
           "bgcolor": "#506784",
           "borderwidth": 0
          },
          "xaxis": {
           "automargin": true,
           "gridcolor": "#283442",
           "linecolor": "#506784",
           "ticks": "",
           "title": {
            "standoff": 15
           },
           "zerolinecolor": "#283442",
           "zerolinewidth": 2
          },
          "yaxis": {
           "automargin": true,
           "gridcolor": "#283442",
           "linecolor": "#506784",
           "ticks": "",
           "title": {
            "standoff": 15
           },
           "zerolinecolor": "#283442",
           "zerolinewidth": 2
          }
         }
        },
        "title": {
         "text": "Observe Backward Elimination in All Models With Repect to Moving Averages<br><span style=\"font-size: 12.5px; color: lightgrey;\"> -- How meansures are changed by removing the impact of each coefficient</span>"
        },
        "width": 800,
        "xaxis": {
         "anchor": "y",
         "domain": [
          0,
          0.45
         ]
        },
        "xaxis2": {
         "anchor": "y2",
         "domain": [
          0.55,
          1
         ]
        },
        "yaxis": {
         "anchor": "x",
         "domain": [
          0,
          1
         ],
         "title": {
          "text": "Difference"
         }
        },
        "yaxis2": {
         "anchor": "x2",
         "domain": [
          0,
          1
         ]
        }
       }
      }
     },
     "metadata": {},
     "output_type": "display_data"
    }
   ],
   "source": [
    "# comparing model performance & backward elimination test\n",
    "fig1_1, fig1_2, fig1_3 = PA.model_learning([1,3,6], model='LinR')\n",
    "\n",
    "for f in fig1_1:\n",
    "    f.show()\n",
    "fig1_2.show()\n",
    "fig1_3.show()"
   ]
  },
  {
   "cell_type": "code",
   "execution_count": 8,
   "metadata": {},
   "outputs": [
    {
     "data": {
      "application/vnd.plotly.v1+json": {
       "config": {
        "plotlyServerURL": "https://plot.ly"
       },
       "data": [
        {
         "mode": "lines",
         "name": "Actual",
         "type": "scatter",
         "x": [
          "1989-07-31T00:00:00",
          "1989-08-31T00:00:00",
          "1989-09-30T00:00:00",
          "1989-10-31T00:00:00",
          "1989-11-30T00:00:00",
          "1989-12-31T00:00:00",
          "1990-01-31T00:00:00",
          "1990-02-28T00:00:00",
          "1990-03-31T00:00:00",
          "1990-04-30T00:00:00",
          "1990-05-31T00:00:00",
          "1990-06-30T00:00:00",
          "1990-07-31T00:00:00",
          "1990-08-31T00:00:00",
          "1990-09-30T00:00:00",
          "1990-10-31T00:00:00",
          "1990-11-30T00:00:00",
          "1990-12-31T00:00:00",
          "1991-01-31T00:00:00",
          "1991-02-28T00:00:00",
          "1991-03-31T00:00:00",
          "1991-04-30T00:00:00",
          "1991-05-31T00:00:00",
          "1991-06-30T00:00:00",
          "1991-07-31T00:00:00",
          "1991-08-31T00:00:00",
          "1991-09-30T00:00:00",
          "1991-10-31T00:00:00",
          "1991-11-30T00:00:00",
          "1991-12-31T00:00:00",
          "1992-01-31T00:00:00",
          "1992-02-29T00:00:00",
          "1992-03-31T00:00:00",
          "1992-04-30T00:00:00",
          "1992-05-31T00:00:00",
          "1992-06-30T00:00:00",
          "1992-07-31T00:00:00",
          "1992-08-31T00:00:00",
          "1992-09-30T00:00:00",
          "1992-10-31T00:00:00",
          "1992-11-30T00:00:00",
          "1992-12-31T00:00:00",
          "1993-01-31T00:00:00",
          "1993-02-28T00:00:00",
          "1993-03-31T00:00:00",
          "1993-04-30T00:00:00",
          "1993-05-31T00:00:00",
          "1993-06-30T00:00:00",
          "1993-07-31T00:00:00",
          "1993-08-31T00:00:00",
          "1993-09-30T00:00:00",
          "1993-10-31T00:00:00",
          "1993-11-30T00:00:00",
          "1993-12-31T00:00:00",
          "1994-01-31T00:00:00",
          "1994-02-28T00:00:00",
          "1994-03-31T00:00:00",
          "1994-04-30T00:00:00",
          "1994-05-31T00:00:00",
          "1994-06-30T00:00:00",
          "1994-07-31T00:00:00",
          "1994-08-31T00:00:00",
          "1994-09-30T00:00:00",
          "1994-10-31T00:00:00",
          "1994-11-30T00:00:00",
          "1994-12-31T00:00:00",
          "1995-01-31T00:00:00",
          "1995-02-28T00:00:00",
          "1995-03-31T00:00:00",
          "1995-04-30T00:00:00",
          "1995-05-31T00:00:00",
          "1995-06-30T00:00:00",
          "1995-07-31T00:00:00",
          "1995-08-31T00:00:00",
          "1995-09-30T00:00:00",
          "1995-10-31T00:00:00",
          "1995-11-30T00:00:00",
          "1995-12-31T00:00:00",
          "1996-01-31T00:00:00",
          "1996-02-29T00:00:00",
          "1996-03-31T00:00:00",
          "1996-04-30T00:00:00",
          "1996-05-31T00:00:00",
          "1996-06-30T00:00:00",
          "1996-07-31T00:00:00",
          "1996-08-31T00:00:00",
          "1996-09-30T00:00:00",
          "1996-10-31T00:00:00",
          "1996-11-30T00:00:00",
          "1996-12-31T00:00:00",
          "1997-01-31T00:00:00",
          "1997-02-28T00:00:00",
          "1997-03-31T00:00:00",
          "1997-04-30T00:00:00",
          "1997-05-31T00:00:00",
          "1997-06-30T00:00:00",
          "1997-07-31T00:00:00",
          "1997-08-31T00:00:00",
          "1997-09-30T00:00:00",
          "1997-10-31T00:00:00",
          "1997-11-30T00:00:00",
          "1997-12-31T00:00:00",
          "1998-01-31T00:00:00",
          "1998-02-28T00:00:00",
          "1998-03-31T00:00:00",
          "1998-04-30T00:00:00",
          "1998-05-31T00:00:00",
          "1998-06-30T00:00:00",
          "1998-07-31T00:00:00",
          "1998-08-31T00:00:00",
          "1998-09-30T00:00:00",
          "1998-10-31T00:00:00",
          "1998-11-30T00:00:00",
          "1998-12-31T00:00:00",
          "1999-01-31T00:00:00",
          "1999-02-28T00:00:00",
          "1999-03-31T00:00:00",
          "1999-04-30T00:00:00",
          "1999-05-31T00:00:00",
          "1999-06-30T00:00:00",
          "1999-07-31T00:00:00",
          "1999-08-31T00:00:00",
          "1999-09-30T00:00:00",
          "1999-10-31T00:00:00",
          "1999-11-30T00:00:00",
          "1999-12-31T00:00:00",
          "2000-01-31T00:00:00",
          "2000-02-29T00:00:00",
          "2000-03-31T00:00:00",
          "2000-04-30T00:00:00",
          "2000-05-31T00:00:00",
          "2000-06-30T00:00:00",
          "2000-07-31T00:00:00",
          "2000-08-31T00:00:00",
          "2000-09-30T00:00:00",
          "2000-10-31T00:00:00",
          "2000-11-30T00:00:00",
          "2000-12-31T00:00:00",
          "2001-01-31T00:00:00",
          "2001-02-28T00:00:00",
          "2001-03-31T00:00:00",
          "2001-04-30T00:00:00",
          "2001-05-31T00:00:00",
          "2001-06-30T00:00:00",
          "2001-07-31T00:00:00",
          "2001-08-31T00:00:00",
          "2001-09-30T00:00:00",
          "2001-10-31T00:00:00",
          "2001-11-30T00:00:00",
          "2001-12-31T00:00:00",
          "2002-01-31T00:00:00",
          "2002-02-28T00:00:00",
          "2002-03-31T00:00:00",
          "2002-04-30T00:00:00",
          "2002-05-31T00:00:00",
          "2002-06-30T00:00:00",
          "2002-07-31T00:00:00",
          "2002-08-31T00:00:00",
          "2002-09-30T00:00:00",
          "2002-10-31T00:00:00",
          "2002-11-30T00:00:00",
          "2002-12-31T00:00:00",
          "2003-01-31T00:00:00",
          "2003-02-28T00:00:00",
          "2003-03-31T00:00:00",
          "2003-04-30T00:00:00",
          "2003-05-31T00:00:00",
          "2003-06-30T00:00:00",
          "2003-07-31T00:00:00",
          "2003-08-31T00:00:00",
          "2003-09-30T00:00:00",
          "2003-10-31T00:00:00",
          "2003-11-30T00:00:00",
          "2003-12-31T00:00:00",
          "2004-01-31T00:00:00",
          "2004-02-29T00:00:00",
          "2004-03-31T00:00:00",
          "2004-04-30T00:00:00",
          "2004-05-31T00:00:00",
          "2004-06-30T00:00:00",
          "2004-07-31T00:00:00",
          "2004-08-31T00:00:00",
          "2004-09-30T00:00:00",
          "2004-10-31T00:00:00",
          "2004-11-30T00:00:00",
          "2004-12-31T00:00:00",
          "2005-01-31T00:00:00",
          "2005-02-28T00:00:00",
          "2005-03-31T00:00:00",
          "2005-04-30T00:00:00",
          "2005-05-31T00:00:00",
          "2005-06-30T00:00:00",
          "2005-07-31T00:00:00",
          "2005-08-31T00:00:00",
          "2005-09-30T00:00:00",
          "2005-10-31T00:00:00",
          "2005-11-30T00:00:00",
          "2005-12-31T00:00:00",
          "2006-01-31T00:00:00",
          "2006-02-28T00:00:00",
          "2006-03-31T00:00:00",
          "2006-04-30T00:00:00",
          "2006-05-31T00:00:00",
          "2006-06-30T00:00:00",
          "2006-07-31T00:00:00",
          "2006-08-31T00:00:00",
          "2006-09-30T00:00:00",
          "2006-10-31T00:00:00",
          "2006-11-30T00:00:00",
          "2006-12-31T00:00:00",
          "2007-01-31T00:00:00",
          "2007-02-28T00:00:00",
          "2007-03-31T00:00:00",
          "2007-04-30T00:00:00",
          "2007-05-31T00:00:00",
          "2007-06-30T00:00:00",
          "2007-07-31T00:00:00",
          "2007-08-31T00:00:00",
          "2007-09-30T00:00:00",
          "2007-10-31T00:00:00",
          "2007-11-30T00:00:00",
          "2007-12-31T00:00:00",
          "2008-01-31T00:00:00",
          "2008-02-29T00:00:00",
          "2008-03-31T00:00:00",
          "2008-04-30T00:00:00",
          "2008-05-31T00:00:00",
          "2008-06-30T00:00:00",
          "2008-07-31T00:00:00",
          "2008-08-31T00:00:00",
          "2008-09-30T00:00:00",
          "2008-10-31T00:00:00",
          "2008-11-30T00:00:00",
          "2008-12-31T00:00:00",
          "2009-01-31T00:00:00",
          "2009-02-28T00:00:00",
          "2009-03-31T00:00:00",
          "2009-04-30T00:00:00",
          "2009-05-31T00:00:00",
          "2009-06-30T00:00:00",
          "2009-07-31T00:00:00",
          "2009-08-31T00:00:00",
          "2009-09-30T00:00:00",
          "2009-10-31T00:00:00",
          "2009-11-30T00:00:00",
          "2009-12-31T00:00:00",
          "2010-01-31T00:00:00",
          "2010-02-28T00:00:00",
          "2010-03-31T00:00:00",
          "2010-04-30T00:00:00",
          "2010-05-31T00:00:00",
          "2010-06-30T00:00:00",
          "2010-07-31T00:00:00",
          "2010-08-31T00:00:00",
          "2010-09-30T00:00:00",
          "2010-10-31T00:00:00",
          "2010-11-30T00:00:00",
          "2010-12-31T00:00:00",
          "2011-01-31T00:00:00",
          "2011-02-28T00:00:00",
          "2011-03-31T00:00:00",
          "2011-04-30T00:00:00",
          "2011-05-31T00:00:00",
          "2011-06-30T00:00:00",
          "2011-07-31T00:00:00",
          "2011-08-31T00:00:00",
          "2011-09-30T00:00:00",
          "2011-10-31T00:00:00",
          "2011-11-30T00:00:00",
          "2011-12-31T00:00:00",
          "2012-01-31T00:00:00",
          "2012-02-29T00:00:00",
          "2012-03-31T00:00:00",
          "2012-04-30T00:00:00",
          "2012-05-31T00:00:00",
          "2012-06-30T00:00:00",
          "2012-07-31T00:00:00",
          "2012-08-31T00:00:00",
          "2012-09-30T00:00:00",
          "2012-10-31T00:00:00",
          "2012-11-30T00:00:00",
          "2012-12-31T00:00:00",
          "2013-01-31T00:00:00",
          "2013-02-28T00:00:00",
          "2013-03-31T00:00:00",
          "2013-04-30T00:00:00",
          "2013-05-31T00:00:00",
          "2013-06-30T00:00:00",
          "2013-07-31T00:00:00",
          "2013-08-31T00:00:00",
          "2013-09-30T00:00:00",
          "2013-10-31T00:00:00",
          "2013-11-30T00:00:00",
          "2013-12-31T00:00:00",
          "2014-01-31T00:00:00",
          "2014-02-28T00:00:00",
          "2014-03-31T00:00:00",
          "2014-04-30T00:00:00",
          "2014-05-31T00:00:00",
          "2014-06-30T00:00:00",
          "2014-07-31T00:00:00",
          "2014-08-31T00:00:00",
          "2014-09-30T00:00:00",
          "2014-10-31T00:00:00",
          "2014-11-30T00:00:00",
          "2014-12-31T00:00:00",
          "2015-01-31T00:00:00",
          "2015-02-28T00:00:00",
          "2015-03-31T00:00:00",
          "2015-04-30T00:00:00",
          "2015-05-31T00:00:00",
          "2015-06-30T00:00:00",
          "2015-07-31T00:00:00",
          "2015-08-31T00:00:00",
          "2015-09-30T00:00:00",
          "2015-10-31T00:00:00",
          "2015-11-30T00:00:00",
          "2015-12-31T00:00:00",
          "2016-01-31T00:00:00",
          "2016-02-29T00:00:00",
          "2016-03-31T00:00:00",
          "2016-04-30T00:00:00",
          "2016-05-31T00:00:00",
          "2016-06-30T00:00:00",
          "2016-07-31T00:00:00",
          "2016-08-31T00:00:00",
          "2016-09-30T00:00:00",
          "2016-10-31T00:00:00",
          "2016-11-30T00:00:00",
          "2016-12-31T00:00:00",
          "2017-01-31T00:00:00",
          "2017-02-28T00:00:00",
          "2017-03-31T00:00:00",
          "2017-04-30T00:00:00",
          "2017-05-31T00:00:00",
          "2017-06-30T00:00:00",
          "2017-07-31T00:00:00",
          "2017-08-31T00:00:00",
          "2017-09-30T00:00:00",
          "2017-10-31T00:00:00",
          "2017-11-30T00:00:00",
          "2017-12-31T00:00:00",
          "2018-01-31T00:00:00",
          "2018-02-28T00:00:00",
          "2018-03-31T00:00:00",
          "2018-04-30T00:00:00",
          "2018-05-31T00:00:00",
          "2018-06-30T00:00:00",
          "2018-07-31T00:00:00",
          "2018-08-31T00:00:00",
          "2018-09-30T00:00:00",
          "2018-10-31T00:00:00",
          "2018-11-30T00:00:00",
          "2018-12-31T00:00:00",
          "2019-01-31T00:00:00",
          "2019-02-28T00:00:00",
          "2019-03-31T00:00:00",
          "2019-04-30T00:00:00",
          "2019-05-31T00:00:00",
          "2019-06-30T00:00:00",
          "2019-07-31T00:00:00",
          "2019-08-31T00:00:00",
          "2019-09-30T00:00:00",
          "2019-10-31T00:00:00",
          "2019-11-30T00:00:00",
          "2019-12-31T00:00:00",
          "2020-01-31T00:00:00",
          "2020-02-29T00:00:00",
          "2020-03-31T00:00:00",
          "2020-04-30T00:00:00",
          "2020-05-31T00:00:00",
          "2020-06-30T00:00:00",
          "2020-07-31T00:00:00",
          "2020-08-31T00:00:00",
          "2020-09-30T00:00:00",
          "2020-10-31T00:00:00",
          "2020-11-30T00:00:00",
          "2020-12-31T00:00:00",
          "2021-01-31T00:00:00",
          "2021-02-28T00:00:00",
          "2021-03-31T00:00:00",
          "2021-04-30T00:00:00",
          "2021-05-31T00:00:00",
          "2021-06-30T00:00:00",
          "2021-07-31T00:00:00",
          "2021-08-31T00:00:00",
          "2021-09-30T00:00:00",
          "2021-10-31T00:00:00",
          "2021-11-30T00:00:00",
          "2021-12-31T00:00:00",
          "2022-01-31T00:00:00",
          "2022-02-28T00:00:00",
          "2022-03-31T00:00:00",
          "2022-04-30T00:00:00",
          "2022-05-31T00:00:00",
          "2022-06-30T00:00:00",
          "2022-07-31T00:00:00",
          "2022-08-31T00:00:00",
          "2022-09-30T00:00:00",
          "2022-10-31T00:00:00",
          "2022-11-30T00:00:00",
          "2022-12-31T00:00:00",
          "2023-01-31T00:00:00",
          "2023-02-28T00:00:00",
          "2023-03-31T00:00:00",
          "2023-04-30T00:00:00",
          "2023-05-31T00:00:00",
          "2023-06-30T00:00:00",
          "2023-07-31T00:00:00",
          "2023-08-31T00:00:00",
          "2023-09-30T00:00:00"
         ],
         "y": [
          27.22593947126124,
          34.38743766108754,
          28.406454045125077,
          22.005944675854792,
          26.41212086342999,
          27.250465340319007,
          10.62627667389895,
          14.896500546624525,
          15.284704469950228,
          6.83373341412481,
          12.70124278299527,
          12.591979572283662,
          2.90973408313977,
          -8.220234356235878,
          -12.344266606601709,
          -10.68280259619996,
          -6.870137774092822,
          -6.559137825727013,
          4.5125825663830055,
          10.5998948817567,
          10.378301619674168,
          13.464331979600086,
          7.917386351108013,
          3.6701902272656906,
          8.889514026304157,
          22.59114449055346,
          26.73092658769689,
          29.095398752312928,
          16.448389236923223,
          26.30670304526097,
          18.85558325372598,
          12.430872578077269,
          7.587548938777711,
          10.553102854906715,
          6.546448557137663,
          9.963360982179914,
          9.38603804069924,
          4.703741862789346,
          7.7192810736246065,
          6.683648784017038,
          14.95922517461883,
          4.464263175974903,
          7.3389109275371345,
          7.433969413209174,
          11.8853602259551,
          6.08265802912713,
          8.38810541132089,
          10.386137749167569,
          5.638719952278026,
          11.962900979476942,
          9.844424625305038,
          11.739274566803882,
          7.056914804842096,
          7.055156263296869,
          9.761152899270776,
          5.358836551933566,
          -1.306268788863596,
          2.4353122881590306,
          1.4016298728035226,
          -1.3894767901330374,
          2.260505829209425,
          2.57355956911991,
          0.8236547707979547,
          0.9661671250207116,
          -1.7540453352462682,
          -1.5392910291473272,
          -2.3234509798752856,
          4.334888762470901,
          12.324742310034974,
          14.14916896772944,
          16.845569422576666,
          22.616880156457285,
          22.650893724297877,
          18.168629502769296,
          26.30156770696581,
          23.107863339915813,
          33.43251820837083,
          34.11065547708709,
          35.20258521674376,
          31.399900167781247,
          28.916940148159973,
          27.094860209446004,
          25.444312802987355,
          23.107848532870577,
          13.857953774822352,
          16.037229402807473,
          17.610932166597237,
          21.28461212919175,
          25.05079961630838,
          20.263666170303285,
          23.606167888227027,
          23.482662643592445,
          17.29202093217468,
          22.497217510746715,
          26.775471587620103,
          31.98634242485303,
          49.1225844761549,
          37.95763495997642,
          37.82026184563567,
          29.683662964304048,
          26.20538423880125,
          31.00818174657085,
          24.69218260704502,
          32.69011356589342,
          45.51854489452105,
          38.73636193646888,
          28.59196357519165,
          28.097244171099224,
          17.43249539586893,
          6.427124915416504,
          7.361073633158677,
          20.123116683507792,
          21.795057059628565,
          26.66858915596535,
          30.538211164648963,
          18.010368078055027,
          16.756977092551615,
          20.097148973324707,
          19.345082591231844,
          21.0673465672353,
          18.564779872706684,
          37.93351932240064,
          26.125598432714227,
          24.05271821343833,
          19.36010831205428,
          19.526046658878403,
          8.972831810093695,
          10.343776895999458,
          16.496805875681808,
          8.781587148049486,
          9.12247379736819,
          5.965572989104717,
          7.68483861182041,
          14.940057590050436,
          11.990243586766614,
          4.876990607268716,
          -5.32504490483392,
          -10.139184665858435,
          -2.0402128400121344,
          -9.25631200299668,
          -22.571368223188504,
          -13.974517551110422,
          -11.599326490830764,
          -15.827029737876108,
          -15.347733995691115,
          -25.308370938727972,
          -27.53688214284804,
          -25.85840134350785,
          -13.346515572215925,
          -13.042693172742602,
          -17.262688919403267,
          -10.74325912805284,
          -1.1151949786979531,
          -13.809159347749455,
          -15.024441377776544,
          -19.157450842317857,
          -24.736011342421715,
          -19.18787885836395,
          -21.6784756865532,
          -16.420390526391206,
          -17.82789611815425,
          -23.365963957103563,
          -24.28773233269227,
          -23.99681591188145,
          -26.07744691453801,
          -14.857190367540529,
          -9.703505291860193,
          -1.547756886187146,
          8.631886406933265,
          10.036351120146048,
          22.162929903003143,
          18.62242022142333,
          13.018119418900408,
          26.38039993281984,
          32.18768128393372,
          36.11602070674667,
          32.77959521122498,
          20.762996713599048,
          16.302579154758213,
          17.069262782997697,
          11.250009938220318,
          9.546530246373708,
          11.908992122305383,
          7.565359917540881,
          10.926100968833662,
          8.993452410946755,
          4.432736682078575,
          5.123415828051159,
          4.828584968076877,
          4.474841919338135,
          6.319372425212211,
          4.425685612974695,
          12.02302640690771,
          10.513110089019008,
          10.248713151401567,
          6.796147753687976,
          6.445625193103988,
          3.0010226581274946,
          8.364720587986074,
          6.402464286877008,
          9.679908571598729,
          13.291266197913563,
          6.595884668091689,
          6.620331732308671,
          3.4419597319711226,
          6.841591474513753,
          8.71085944028518,
          14.161434475080782,
          12.097034508496709,
          13.6194317382607,
          12.35548087692504,
          9.85116336438072,
          9.7299335616293,
          13.10534878303644,
          20.51272242975375,
          18.355379733636457,
          13.99041096060687,
          13.05165214181998,
          14.290528719763527,
          12.441766025128809,
          5.748128305473577,
          3.5295730663479574,
          -4.150207323641652,
          -5.415756409142858,
          -6.908494516818964,
          -6.528736389407563,
          -8.508969610344309,
          -14.856818386476236,
          -12.911007038333532,
          -12.968882790668868,
          -23.605044352280167,
          -37.4749901930436,
          -39.48985366875623,
          -38.48579306090672,
          -40.09067675236928,
          -44.75624146772434,
          -39.67868567544007,
          -37.00806017010502,
          -34.364957265627794,
          -28.178124427795414,
          -22.084932958993875,
          -20.43996242057835,
          -9.36932256501718,
          6.96154233870967,
          22.247390969052283,
          23.45419048834072,
          30.02736339034669,
          50.25234323462486,
          46.56899756446875,
          35.96200143509296,
          18.52492730352693,
          12.1165592748812,
          11.55668948984825,
          2.812992208153186,
          7.957770330935654,
          14.19335031951585,
          7.750795758317652,
          12.782713853760177,
          19.764962329247115,
          20.16586681980579,
          13.37402795895728,
          14.908700054848278,
          23.479673306368444,
          28.12915996729348,
          17.30937345105834,
          16.158888595086786,
          -0.8569845465310144,
          5.919243317990031,
          5.625336441711792,
          -0.0031836663936912,
          2.044135785331957,
          2.8977926686438726,
          6.233077950233668,
          2.515385571870965,
          -2.592179332656863,
          3.143931659703858,
          6.735375848804659,
          15.39843128999503,
          27.332908026061787,
          12.675335447413527,
          13.570611573302882,
          13.40569092662105,
          14.149537593862238,
          10.910315311051445,
          11.410961827101772,
          14.28274404128862,
          24.452622234511058,
          17.921535575238057,
          22.214572841062477,
          16.095069012887,
          16.71999816301839,
          24.38675479743768,
          27.512744856265403,
          29.601249573324356,
          18.989258682632105,
          22.761895927543097,
          19.31888654233857,
          17.925975982963017,
          17.956875885076016,
          22.035382667791197,
          14.530207465874945,
          22.682598642923946,
          17.289999214533758,
          14.887790995370542,
          14.494879943455086,
          11.390633786748117,
          11.91524851405299,
          13.178631060959066,
          10.444146379802222,
          10.69880112623871,
          9.556187267517192,
          5.248370241155231,
          8.969427193858603,
          -1.5568737418584444,
          -2.6497121990468497,
          3.0380841460970087,
          0.62149844026127,
          -0.7265997205823549,
          -2.744374671953509,
          -8.185793277797583,
          -0.3941168421491281,
          -0.9690656406761256,
          -0.4953967674903303,
          1.7328207482185445,
          3.315841834517408,
          10.078689168715794,
          12.92896394569838,
          2.2502016247627266,
          5.6911931535803095,
          9.535022667283656,
          17.453002136721206,
          22.327047839549465,
          14.709622666221778,
          15.440850956484375,
          15.014669161765015,
          15.46314609248347,
          13.650162764153384,
          13.851077083078668,
          16.1921755467765,
          21.123162902427573,
          20.409676487393423,
          19.419965523287928,
          23.91272487608005,
          14.815716499221354,
          11.772455048983232,
          11.066609473193022,
          12.168088761990026,
          12.171288216832732,
          14.005990502996092,
          17.392030998398035,
          15.663496134766518,
          5.299658285035491,
          4.2525566905510015,
          -6.23725984962068,
          -4.239306414154331,
          2.6036969918984187,
          7.328258360632933,
          11.245256842054596,
          1.729588496700507,
          8.217787973966196,
          5.826454004170079,
          0.8595474523136026,
          2.153755694489345,
          12.015166259771616,
          13.796616490011717,
          28.87807022515845,
          19.28256732533442,
          6.095550031209251,
          -8.813499261221347,
          -1.133811034533061,
          10.619317666684005,
          5.388951810161613,
          9.755140143431529,
          19.609019269561976,
          12.975940493049665,
          7.650874315595924,
          15.302545872069494,
          16.258923055706177,
          15.151664467863023,
          29.00697781948409,
          53.71450626511303,
          43.56293610537338,
          38.0972956881811,
          38.61606320225206,
          34.365587571392275,
          29.207987294652327,
          28.08623369201606,
          40.83902976879674,
          26.103443691858995,
          26.89273866137125,
          21.573991356507925,
          14.766935268444836,
          14.03311641516658,
          -1.177654747685286,
          -1.711657479886508,
          -11.916698480221054,
          -6.028533936374103,
          -12.551853186991902,
          -16.759447743453126,
          -15.924851391322436,
          -10.661044286799326,
          -19.442827203429268,
          -9.720847427606383,
          -9.231723445491092,
          -9.294966308410611,
          0.9087715205739144,
          1.1538830126710975,
          17.567589530959093,
          11.105029369296048,
          13.973708122629592,
          19.59018703997495
         ]
        },
        {
         "line": {
          "color": "lightgreen"
         },
         "mode": "lines",
         "name": "Predict",
         "type": "scatter",
         "x": [
          "1989-07-31T00:00:00",
          "1989-08-31T00:00:00",
          "1989-09-30T00:00:00",
          "1989-10-31T00:00:00",
          "1989-11-30T00:00:00",
          "1989-12-31T00:00:00",
          "1990-01-31T00:00:00",
          "1990-02-28T00:00:00",
          "1990-03-31T00:00:00",
          "1990-04-30T00:00:00",
          "1990-05-31T00:00:00",
          "1990-06-30T00:00:00",
          "1990-07-31T00:00:00",
          "1990-08-31T00:00:00",
          "1990-09-30T00:00:00",
          "1990-10-31T00:00:00",
          "1990-11-30T00:00:00",
          "1990-12-31T00:00:00",
          "1991-01-31T00:00:00",
          "1991-02-28T00:00:00",
          "1991-03-31T00:00:00",
          "1991-04-30T00:00:00",
          "1991-05-31T00:00:00",
          "1991-06-30T00:00:00",
          "1991-07-31T00:00:00",
          "1991-08-31T00:00:00",
          "1991-09-30T00:00:00",
          "1991-10-31T00:00:00",
          "1991-11-30T00:00:00",
          "1991-12-31T00:00:00",
          "1992-01-31T00:00:00",
          "1992-02-29T00:00:00",
          "1992-03-31T00:00:00",
          "1992-04-30T00:00:00",
          "1992-05-31T00:00:00",
          "1992-06-30T00:00:00",
          "1992-07-31T00:00:00",
          "1992-08-31T00:00:00",
          "1992-09-30T00:00:00",
          "1992-10-31T00:00:00",
          "1992-11-30T00:00:00",
          "1992-12-31T00:00:00",
          "1993-01-31T00:00:00",
          "1993-02-28T00:00:00",
          "1993-03-31T00:00:00",
          "1993-04-30T00:00:00",
          "1993-05-31T00:00:00",
          "1993-06-30T00:00:00",
          "1993-07-31T00:00:00",
          "1993-08-31T00:00:00",
          "1993-09-30T00:00:00",
          "1993-10-31T00:00:00",
          "1993-11-30T00:00:00",
          "1993-12-31T00:00:00",
          "1994-01-31T00:00:00",
          "1994-02-28T00:00:00",
          "1994-03-31T00:00:00",
          "1994-04-30T00:00:00",
          "1994-05-31T00:00:00",
          "1994-06-30T00:00:00",
          "1994-07-31T00:00:00",
          "1994-08-31T00:00:00",
          "1994-09-30T00:00:00",
          "1994-10-31T00:00:00",
          "1994-11-30T00:00:00",
          "1994-12-31T00:00:00",
          "1995-01-31T00:00:00",
          "1995-02-28T00:00:00",
          "1995-03-31T00:00:00",
          "1995-04-30T00:00:00",
          "1995-05-31T00:00:00",
          "1995-06-30T00:00:00",
          "1995-07-31T00:00:00",
          "1995-08-31T00:00:00",
          "1995-09-30T00:00:00",
          "1995-10-31T00:00:00",
          "1995-11-30T00:00:00",
          "1995-12-31T00:00:00",
          "1996-01-31T00:00:00",
          "1996-02-29T00:00:00",
          "1996-03-31T00:00:00",
          "1996-04-30T00:00:00",
          "1996-05-31T00:00:00",
          "1996-06-30T00:00:00",
          "1996-07-31T00:00:00",
          "1996-08-31T00:00:00",
          "1996-09-30T00:00:00",
          "1996-10-31T00:00:00",
          "1996-11-30T00:00:00",
          "1996-12-31T00:00:00",
          "1997-01-31T00:00:00",
          "1997-02-28T00:00:00",
          "1997-03-31T00:00:00",
          "1997-04-30T00:00:00",
          "1997-05-31T00:00:00",
          "1997-06-30T00:00:00",
          "1997-07-31T00:00:00",
          "1997-08-31T00:00:00",
          "1997-09-30T00:00:00",
          "1997-10-31T00:00:00",
          "1997-11-30T00:00:00",
          "1997-12-31T00:00:00",
          "1998-01-31T00:00:00",
          "1998-02-28T00:00:00",
          "1998-03-31T00:00:00",
          "1998-04-30T00:00:00",
          "1998-05-31T00:00:00",
          "1998-06-30T00:00:00",
          "1998-07-31T00:00:00",
          "1998-08-31T00:00:00",
          "1998-09-30T00:00:00",
          "1998-10-31T00:00:00",
          "1998-11-30T00:00:00",
          "1998-12-31T00:00:00",
          "1999-01-31T00:00:00",
          "1999-02-28T00:00:00",
          "1999-03-31T00:00:00",
          "1999-04-30T00:00:00",
          "1999-05-31T00:00:00",
          "1999-06-30T00:00:00",
          "1999-07-31T00:00:00",
          "1999-08-31T00:00:00",
          "1999-09-30T00:00:00",
          "1999-10-31T00:00:00",
          "1999-11-30T00:00:00",
          "1999-12-31T00:00:00",
          "2000-01-31T00:00:00",
          "2000-02-29T00:00:00",
          "2000-03-31T00:00:00",
          "2000-04-30T00:00:00",
          "2000-05-31T00:00:00",
          "2000-06-30T00:00:00",
          "2000-07-31T00:00:00",
          "2000-08-31T00:00:00",
          "2000-09-30T00:00:00",
          "2000-10-31T00:00:00",
          "2000-11-30T00:00:00",
          "2000-12-31T00:00:00",
          "2001-01-31T00:00:00",
          "2001-02-28T00:00:00",
          "2001-03-31T00:00:00",
          "2001-04-30T00:00:00",
          "2001-05-31T00:00:00",
          "2001-06-30T00:00:00",
          "2001-07-31T00:00:00",
          "2001-08-31T00:00:00",
          "2001-09-30T00:00:00",
          "2001-10-31T00:00:00",
          "2001-11-30T00:00:00",
          "2001-12-31T00:00:00",
          "2002-01-31T00:00:00",
          "2002-02-28T00:00:00",
          "2002-03-31T00:00:00",
          "2002-04-30T00:00:00",
          "2002-05-31T00:00:00",
          "2002-06-30T00:00:00",
          "2002-07-31T00:00:00",
          "2002-08-31T00:00:00",
          "2002-09-30T00:00:00",
          "2002-10-31T00:00:00",
          "2002-11-30T00:00:00",
          "2002-12-31T00:00:00",
          "2003-01-31T00:00:00",
          "2003-02-28T00:00:00",
          "2003-03-31T00:00:00",
          "2003-04-30T00:00:00",
          "2003-05-31T00:00:00",
          "2003-06-30T00:00:00",
          "2003-07-31T00:00:00",
          "2003-08-31T00:00:00",
          "2003-09-30T00:00:00",
          "2003-10-31T00:00:00",
          "2003-11-30T00:00:00",
          "2003-12-31T00:00:00",
          "2004-01-31T00:00:00",
          "2004-02-29T00:00:00",
          "2004-03-31T00:00:00",
          "2004-04-30T00:00:00",
          "2004-05-31T00:00:00",
          "2004-06-30T00:00:00",
          "2004-07-31T00:00:00",
          "2004-08-31T00:00:00",
          "2004-09-30T00:00:00",
          "2004-10-31T00:00:00",
          "2004-11-30T00:00:00",
          "2004-12-31T00:00:00",
          "2005-01-31T00:00:00",
          "2005-02-28T00:00:00",
          "2005-03-31T00:00:00",
          "2005-04-30T00:00:00",
          "2005-05-31T00:00:00",
          "2005-06-30T00:00:00",
          "2005-07-31T00:00:00",
          "2005-08-31T00:00:00",
          "2005-09-30T00:00:00",
          "2005-10-31T00:00:00",
          "2005-11-30T00:00:00",
          "2005-12-31T00:00:00",
          "2006-01-31T00:00:00",
          "2006-02-28T00:00:00",
          "2006-03-31T00:00:00",
          "2006-04-30T00:00:00",
          "2006-05-31T00:00:00",
          "2006-06-30T00:00:00",
          "2006-07-31T00:00:00",
          "2006-08-31T00:00:00",
          "2006-09-30T00:00:00",
          "2006-10-31T00:00:00",
          "2006-11-30T00:00:00",
          "2006-12-31T00:00:00",
          "2007-01-31T00:00:00",
          "2007-02-28T00:00:00",
          "2007-03-31T00:00:00",
          "2007-04-30T00:00:00",
          "2007-05-31T00:00:00",
          "2007-06-30T00:00:00",
          "2007-07-31T00:00:00",
          "2007-08-31T00:00:00",
          "2007-09-30T00:00:00",
          "2007-10-31T00:00:00",
          "2007-11-30T00:00:00",
          "2007-12-31T00:00:00",
          "2008-01-31T00:00:00",
          "2008-02-29T00:00:00",
          "2008-03-31T00:00:00",
          "2008-04-30T00:00:00",
          "2008-05-31T00:00:00",
          "2008-06-30T00:00:00",
          "2008-07-31T00:00:00",
          "2008-08-31T00:00:00",
          "2008-09-30T00:00:00",
          "2008-10-31T00:00:00",
          "2008-11-30T00:00:00",
          "2008-12-31T00:00:00",
          "2009-01-31T00:00:00",
          "2009-02-28T00:00:00",
          "2009-03-31T00:00:00",
          "2009-04-30T00:00:00",
          "2009-05-31T00:00:00",
          "2009-06-30T00:00:00",
          "2009-07-31T00:00:00",
          "2009-08-31T00:00:00",
          "2009-09-30T00:00:00",
          "2009-10-31T00:00:00",
          "2009-11-30T00:00:00",
          "2009-12-31T00:00:00",
          "2010-01-31T00:00:00",
          "2010-02-28T00:00:00",
          "2010-03-31T00:00:00",
          "2010-04-30T00:00:00",
          "2010-05-31T00:00:00",
          "2010-06-30T00:00:00",
          "2010-07-31T00:00:00",
          "2010-08-31T00:00:00",
          "2010-09-30T00:00:00",
          "2010-10-31T00:00:00",
          "2010-11-30T00:00:00",
          "2010-12-31T00:00:00",
          "2011-01-31T00:00:00",
          "2011-02-28T00:00:00",
          "2011-03-31T00:00:00",
          "2011-04-30T00:00:00",
          "2011-05-31T00:00:00",
          "2011-06-30T00:00:00",
          "2011-07-31T00:00:00",
          "2011-08-31T00:00:00",
          "2011-09-30T00:00:00",
          "2011-10-31T00:00:00",
          "2011-11-30T00:00:00",
          "2011-12-31T00:00:00",
          "2012-01-31T00:00:00",
          "2012-02-29T00:00:00",
          "2012-03-31T00:00:00",
          "2012-04-30T00:00:00",
          "2012-05-31T00:00:00",
          "2012-06-30T00:00:00",
          "2012-07-31T00:00:00",
          "2012-08-31T00:00:00",
          "2012-09-30T00:00:00",
          "2012-10-31T00:00:00",
          "2012-11-30T00:00:00",
          "2012-12-31T00:00:00",
          "2013-01-31T00:00:00",
          "2013-02-28T00:00:00",
          "2013-03-31T00:00:00",
          "2013-04-30T00:00:00",
          "2013-05-31T00:00:00",
          "2013-06-30T00:00:00",
          "2013-07-31T00:00:00",
          "2013-08-31T00:00:00",
          "2013-09-30T00:00:00",
          "2013-10-31T00:00:00",
          "2013-11-30T00:00:00",
          "2013-12-31T00:00:00",
          "2014-01-31T00:00:00",
          "2014-02-28T00:00:00",
          "2014-03-31T00:00:00",
          "2014-04-30T00:00:00",
          "2014-05-31T00:00:00",
          "2014-06-30T00:00:00",
          "2014-07-31T00:00:00",
          "2014-08-31T00:00:00",
          "2014-09-30T00:00:00",
          "2014-10-31T00:00:00",
          "2014-11-30T00:00:00",
          "2014-12-31T00:00:00",
          "2015-01-31T00:00:00",
          "2015-02-28T00:00:00",
          "2015-03-31T00:00:00",
          "2015-04-30T00:00:00",
          "2015-05-31T00:00:00",
          "2015-06-30T00:00:00",
          "2015-07-31T00:00:00",
          "2015-08-31T00:00:00",
          "2015-09-30T00:00:00",
          "2015-10-31T00:00:00",
          "2015-11-30T00:00:00",
          "2015-12-31T00:00:00",
          "2016-01-31T00:00:00",
          "2016-02-29T00:00:00",
          "2016-03-31T00:00:00",
          "2016-04-30T00:00:00",
          "2016-05-31T00:00:00",
          "2016-06-30T00:00:00",
          "2016-07-31T00:00:00",
          "2016-08-31T00:00:00",
          "2016-09-30T00:00:00",
          "2016-10-31T00:00:00",
          "2016-11-30T00:00:00",
          "2016-12-31T00:00:00",
          "2017-01-31T00:00:00",
          "2017-02-28T00:00:00",
          "2017-03-31T00:00:00",
          "2017-04-30T00:00:00",
          "2017-05-31T00:00:00",
          "2017-06-30T00:00:00",
          "2017-07-31T00:00:00",
          "2017-08-31T00:00:00",
          "2017-09-30T00:00:00",
          "2017-10-31T00:00:00",
          "2017-11-30T00:00:00",
          "2017-12-31T00:00:00",
          "2018-01-31T00:00:00",
          "2018-02-28T00:00:00",
          "2018-03-31T00:00:00",
          "2018-04-30T00:00:00",
          "2018-05-31T00:00:00",
          "2018-06-30T00:00:00",
          "2018-07-31T00:00:00",
          "2018-08-31T00:00:00",
          "2018-09-30T00:00:00",
          "2018-10-31T00:00:00",
          "2018-11-30T00:00:00",
          "2018-12-31T00:00:00",
          "2019-01-31T00:00:00",
          "2019-02-28T00:00:00",
          "2019-03-31T00:00:00",
          "2019-04-30T00:00:00",
          "2019-05-31T00:00:00",
          "2019-06-30T00:00:00",
          "2019-07-31T00:00:00",
          "2019-08-31T00:00:00",
          "2019-09-30T00:00:00",
          "2019-10-31T00:00:00",
          "2019-11-30T00:00:00",
          "2019-12-31T00:00:00",
          "2020-01-31T00:00:00",
          "2020-02-29T00:00:00",
          "2020-03-31T00:00:00",
          "2020-04-30T00:00:00",
          "2020-05-31T00:00:00",
          "2020-06-30T00:00:00",
          "2020-07-31T00:00:00",
          "2020-08-31T00:00:00",
          "2020-09-30T00:00:00",
          "2020-10-31T00:00:00",
          "2020-11-30T00:00:00",
          "2020-12-31T00:00:00",
          "2021-01-31T00:00:00",
          "2021-02-28T00:00:00",
          "2021-03-31T00:00:00",
          "2021-04-30T00:00:00",
          "2021-05-31T00:00:00",
          "2021-06-30T00:00:00",
          "2021-07-31T00:00:00",
          "2021-08-31T00:00:00",
          "2021-09-30T00:00:00",
          "2021-10-31T00:00:00",
          "2021-11-30T00:00:00",
          "2021-12-31T00:00:00",
          "2022-01-31T00:00:00",
          "2022-02-28T00:00:00",
          "2022-03-31T00:00:00",
          "2022-04-30T00:00:00",
          "2022-05-31T00:00:00",
          "2022-06-30T00:00:00",
          "2022-07-31T00:00:00",
          "2022-08-31T00:00:00",
          "2022-09-30T00:00:00",
          "2022-10-31T00:00:00",
          "2022-11-30T00:00:00",
          "2022-12-31T00:00:00",
          "2023-01-31T00:00:00",
          "2023-02-28T00:00:00",
          "2023-03-31T00:00:00",
          "2023-04-30T00:00:00",
          "2023-05-31T00:00:00",
          "2023-06-30T00:00:00",
          "2023-07-31T00:00:00",
          "2023-08-31T00:00:00",
          "2023-09-30T00:00:00"
         ],
         "y": [
          17.791731402178875,
          13.65259121220253,
          22.999741667634066,
          26.153395987771358,
          29.24785095101613,
          24.63086485407682,
          33.557317055771314,
          20.2941134671072,
          12.897732243048946,
          13.372391065918952,
          16.654869084640016,
          10.125199975943387,
          9.166685161913597,
          7.180029351090141,
          0.5764091821801086,
          -7.855696371026319,
          -13.310781149157364,
          -10.982471118726526,
          -12.42673203117,
          -0.6985640617286556,
          9.252199579268577,
          10.595787576178479,
          12.091165703816808,
          8.455379401862123,
          3.4904075709743556,
          10.656686808097945,
          16.072753359353396,
          26.00088935867646,
          28.125594734123936,
          17.360775474927184,
          20.48884706094154,
          15.300908858448185,
          10.276697155563575,
          6.572650230996053,
          14.282592708850322,
          11.63232173312468,
          15.220054461442823,
          10.24528875140769,
          11.019594302871317,
          7.407483551466475,
          5.268331248485746,
          9.234632825605221,
          8.065707494718389,
          8.238383347650599,
          8.21617426716504,
          9.602795626997358,
          0.6737190042516846,
          3.2134211928682883,
          8.412094471044197,
          6.991578528965468,
          10.62862771265118,
          9.603808239641491,
          11.490871159466645,
          10.01495437198245,
          9.438887079748124,
          9.324947957628492,
          6.752892651603431,
          2.7968286492277192,
          2.330306898765911,
          1.1618348248125228,
          3.505605868215247,
          2.5586645986357532,
          1.0693027246626035,
          5.251409640659647,
          1.3163505185280957,
          1.2189710310860924,
          -2.305125983926365,
          -5.152811894968849,
          4.577238248516651,
          9.911666310270286,
          16.321903513759096,
          16.860541265629088,
          14.26335846980413,
          22.5308152594478,
          17.201412164493668,
          16.61412463274536,
          14.352697414202385,
          18.66855410997991,
          22.205581307945838,
          30.641406186985478,
          31.982469669313456,
          28.869747697748252,
          23.91820929930314,
          21.645598790319696,
          19.108707455853217,
          20.443324955436943,
          21.172809754543987,
          21.41694190024689,
          23.444421718970517,
          30.37775762718404,
          26.961547362733967,
          23.29985304670292,
          25.186456405759017,
          22.33228759868068,
          21.68615232588711,
          24.509093033255475,
          31.388651361566236,
          44.9969075434269,
          39.78028411709147,
          34.94926517092008,
          34.07942447819999,
          26.30996914115769,
          32.14430509429192,
          27.631684241925647,
          31.541507065123962,
          45.81691705627576,
          39.83229869500598,
          28.602447910993035,
          31.454292582000328,
          17.56947316613509,
          7.89690824867991,
          7.1209603771042405,
          17.44979907770005,
          18.093020228554625,
          20.318774521799078,
          28.27132549691007,
          20.745717363125575,
          19.053846308820507,
          19.579841885860375,
          20.705213061186175,
          17.864782859929598,
          16.909322874924435,
          30.279912192315624,
          27.71655797359563,
          25.468477738094595,
          21.60117080929892,
          21.733656512454587,
          13.53613095773738,
          12.178144852153183,
          14.838067187464073,
          10.374836215061451,
          9.738649768015405,
          8.063126700386933,
          8.826681805873859,
          15.789846310677014,
          9.942967108085043,
          6.872418581987513,
          -2.466510528166588,
          -5.077710521010479,
          -3.906032287640309,
          -3.9743114307496605,
          -18.94230762549774,
          -18.627839947957153,
          -12.401424068796414,
          -17.46305735339075,
          -14.440890261555655,
          -21.61607719682044,
          -26.326519936706653,
          -28.731780077301398,
          -8.342449921735513,
          -14.220323506260586,
          -15.903759238462959,
          -13.579937082418555,
          0.8797488239123303,
          -6.224984515189194,
          -7.231649447652953,
          -11.86295762966958,
          -18.378531739712894,
          -12.813089148936681,
          -15.064975805827062,
          -7.254846314086549,
          -9.482660238232764,
          -15.173499229750629,
          -15.138419687322715,
          -12.749903093311348,
          -27.21032099560068,
          -13.287000560034736,
          -17.71524897656624,
          -7.357404984184962,
          5.770693964008416,
          6.644034723502373,
          7.886619995455376,
          17.15040887551955,
          15.582119555549356,
          13.399083579447257,
          25.617684204863792,
          34.499186877391644,
          26.344484052264114,
          13.597668276185312,
          19.782505925485356,
          20.589814409843957,
          20.093886529738278,
          14.159432627929338,
          14.597430823038009,
          24.269592987294168,
          4.959077489683752,
          5.667809151206855,
          6.239387591200544,
          5.721268889098539,
          19.01785384059966,
          6.945154399332822,
          4.2592008960187115,
          12.076834862928957,
          9.084199808958283,
          7.906153731260303,
          13.982971091469516,
          3.90649944297772,
          4.329997261936765,
          4.136327036666901,
          9.25570385700967,
          12.031582048834625,
          9.459680269896692,
          8.120158080287224,
          0.6224485308405189,
          3.75770496162596,
          -0.6672729923232069,
          1.6581345424646612,
          3.559103975568887,
          18.890046286268724,
          15.507197063104497,
          18.471097524485238,
          9.215216404033216,
          -6.928572986190669,
          -0.7447006886997642,
          7.299786385349726,
          22.01913852181477,
          18.866099936759188,
          16.288591016356378,
          18.17012023826551,
          12.841931145152657,
          12.426851424615831,
          9.558543085093625,
          3.4731846732193126,
          -2.3534158418495017,
          0.07503894636776734,
          1.094940231844142,
          -3.629703841466498,
          -9.948585044665851,
          -11.05949130299989,
          -15.06236478054907,
          -16.347326036145173,
          -28.806585489937333,
          -36.52330384423648,
          -40.52454395027864,
          -38.94633289856234,
          -37.746860095913654,
          -48.434666738032156,
          -42.167422885857725,
          -34.69563091008064,
          -32.85834437153271,
          -28.861682089247626,
          -15.31800347672839,
          -18.37287374828296,
          -4.464195881906589,
          13.228953318121704,
          24.8751268968948,
          21.70550930957571,
          29.493558163314344,
          46.500313684194076,
          48.967567472609474,
          26.300238992135252,
          16.49222741499928,
          13.2773082213536,
          10.126611700904313,
          7.982679796783294,
          11.151169282144656,
          1.8068781102063411,
          8.25450417494366,
          9.263901683418075,
          16.68240229320656,
          19.562940966195978,
          13.538104295351175,
          16.9473423886429,
          20.240703883118826,
          21.96793048361613,
          17.02002721703055,
          13.12387530614796,
          1.525089213041414,
          5.235499333569268,
          4.239562601098729,
          -0.2640005455949233,
          -2.5132388016055667,
          0.8748454525858387,
          7.194765643091722,
          2.8039389703076822,
          -1.3587547322027713,
          2.369010019420701,
          8.088620590170581,
          12.010721801067685,
          21.24529662706471,
          16.479254234571155,
          13.526286506304857,
          15.62122813240759,
          16.357152903558212,
          9.664461124896516,
          8.871547434207077,
          13.408134549557063,
          14.370912842627781,
          17.930703502508216,
          17.318854368815735,
          16.223391077605726,
          14.863739501415164,
          17.45776407985393,
          30.736675543491632,
          16.582697535384078,
          13.899531512056855,
          12.427469023099388,
          19.380919888760857,
          12.591538523843264,
          18.98074289544524,
          13.278257343403912,
          9.13159564901111,
          9.708650596785125,
          13.040669035952876,
          14.878036422233217,
          5.4529027418729585,
          16.412375793981834,
          22.163009377393397,
          20.0776776361959,
          15.380753843066106,
          10.986960659158697,
          12.079797181911104,
          11.586666278872235,
          9.74896104304044,
          -0.5255012716820154,
          -1.722266065171907,
          0.09287090618494696,
          -0.47644108991694684,
          0.06652221911645888,
          -4.293783650340212,
          -9.853948109222843,
          -5.424405815759436,
          -1.7497984604725796,
          -2.8222220734435317,
          -4.253956761468332,
          -0.6993216447592395,
          6.267360690255803,
          10.083369775365824,
          5.705039223317139,
          5.891160148953982,
          8.527681804888052,
          10.831013111662863,
          19.80613329006974,
          15.775511008230245,
          13.149326239968328,
          11.36908718839558,
          16.317899872264277,
          14.906723531923777,
          14.873807516652954,
          11.648755339823339,
          17.892199953703333,
          18.514304068435127,
          13.43180563593859,
          20.544474662957704,
          22.04872980738696,
          15.218158672231807,
          16.059178719325683,
          11.472530952084481,
          9.904364963653844,
          12.203108587336455,
          15.247137186418744,
          15.381514526003327,
          9.550398219382418,
          6.567358292162492,
          0.4432296757857556,
          -2.4648772668498307,
          -1.9097804811091055,
          2.9912983799517785,
          7.81928200862945,
          4.024297519932108,
          8.45011852277247,
          7.2147242090971275,
          3.657854563340148,
          2.992505272771359,
          5.879285369413398,
          12.74201547006805,
          21.167824402776006,
          24.387955291808854,
          10.125286413558166,
          -5.10732245383181,
          -0.19418430860669508,
          8.083760589199006,
          7.347624450225708,
          8.9451288316761,
          12.917080314214216,
          10.427097275094274,
          6.889163097866321,
          14.583490674821297,
          14.636913122084174,
          15.682609307098966,
          26.883603879046355,
          46.07409941772775,
          36.24632611575874,
          38.0557988899985,
          37.299826131205386,
          33.26471542261537,
          30.71805318503914,
          6.488775938577737,
          27.10794221707918,
          18.5865440127742,
          25.62510838942229,
          17.777069876027127,
          17.531556833805418,
          12.693017675153756,
          12.196158666351812,
          1.5107741556948118,
          -13.502550522956817,
          -3.903617815754941,
          -23.199413799931314,
          -19.687409184610413,
          -7.6891055631528875,
          -16.67780266953479,
          -21.207311138334145,
          0.6274192427743618,
          -16.813150704863382,
          -4.475391451872847,
          -2.8145214168503463,
          1.6561500110321665,
          11.403305033753389,
          9.521774185701819,
          13.874165948988448
         ]
        },
        {
         "line": {
          "color": "lightgreen",
          "dash": "dot"
         },
         "mode": "lines",
         "name": "Future",
         "type": "scatter",
         "x": [
          "2023-09-30T00:00:00",
          "2023-10-31T00:00:00",
          "2023-11-30T00:00:00",
          "2023-12-31T00:00:00",
          "2024-01-31T00:00:00",
          "2024-02-29T00:00:00",
          "2024-03-31T00:00:00"
         ],
         "y": [
          13.874165948988448,
          18.07068703962953,
          15.907048165826748,
          12.212494510697427,
          12.38016438415183,
          12.629382231126527,
          13.92319242958899
         ]
        }
       ],
       "layout": {
        "height": 400,
        "hovermode": "x unified",
        "legend": {
         "orientation": "h",
         "x": 0,
         "xanchor": "left",
         "y": 0.05,
         "yanchor": "bottom"
        },
        "margin": {
         "b": 40,
         "l": 80,
         "r": 40,
         "t": 80
        },
        "template": {
         "data": {
          "bar": [
           {
            "error_x": {
             "color": "#f2f5fa"
            },
            "error_y": {
             "color": "#f2f5fa"
            },
            "marker": {
             "line": {
              "color": "rgb(17,17,17)",
              "width": 0.5
             },
             "pattern": {
              "fillmode": "overlay",
              "size": 10,
              "solidity": 0.2
             }
            },
            "type": "bar"
           }
          ],
          "barpolar": [
           {
            "marker": {
             "line": {
              "color": "rgb(17,17,17)",
              "width": 0.5
             },
             "pattern": {
              "fillmode": "overlay",
              "size": 10,
              "solidity": 0.2
             }
            },
            "type": "barpolar"
           }
          ],
          "carpet": [
           {
            "aaxis": {
             "endlinecolor": "#A2B1C6",
             "gridcolor": "#506784",
             "linecolor": "#506784",
             "minorgridcolor": "#506784",
             "startlinecolor": "#A2B1C6"
            },
            "baxis": {
             "endlinecolor": "#A2B1C6",
             "gridcolor": "#506784",
             "linecolor": "#506784",
             "minorgridcolor": "#506784",
             "startlinecolor": "#A2B1C6"
            },
            "type": "carpet"
           }
          ],
          "choropleth": [
           {
            "colorbar": {
             "outlinewidth": 0,
             "ticks": ""
            },
            "type": "choropleth"
           }
          ],
          "contour": [
           {
            "colorbar": {
             "outlinewidth": 0,
             "ticks": ""
            },
            "colorscale": [
             [
              0,
              "#0d0887"
             ],
             [
              0.1111111111111111,
              "#46039f"
             ],
             [
              0.2222222222222222,
              "#7201a8"
             ],
             [
              0.3333333333333333,
              "#9c179e"
             ],
             [
              0.4444444444444444,
              "#bd3786"
             ],
             [
              0.5555555555555556,
              "#d8576b"
             ],
             [
              0.6666666666666666,
              "#ed7953"
             ],
             [
              0.7777777777777778,
              "#fb9f3a"
             ],
             [
              0.8888888888888888,
              "#fdca26"
             ],
             [
              1,
              "#f0f921"
             ]
            ],
            "type": "contour"
           }
          ],
          "contourcarpet": [
           {
            "colorbar": {
             "outlinewidth": 0,
             "ticks": ""
            },
            "type": "contourcarpet"
           }
          ],
          "heatmap": [
           {
            "colorbar": {
             "outlinewidth": 0,
             "ticks": ""
            },
            "colorscale": [
             [
              0,
              "#0d0887"
             ],
             [
              0.1111111111111111,
              "#46039f"
             ],
             [
              0.2222222222222222,
              "#7201a8"
             ],
             [
              0.3333333333333333,
              "#9c179e"
             ],
             [
              0.4444444444444444,
              "#bd3786"
             ],
             [
              0.5555555555555556,
              "#d8576b"
             ],
             [
              0.6666666666666666,
              "#ed7953"
             ],
             [
              0.7777777777777778,
              "#fb9f3a"
             ],
             [
              0.8888888888888888,
              "#fdca26"
             ],
             [
              1,
              "#f0f921"
             ]
            ],
            "type": "heatmap"
           }
          ],
          "heatmapgl": [
           {
            "colorbar": {
             "outlinewidth": 0,
             "ticks": ""
            },
            "colorscale": [
             [
              0,
              "#0d0887"
             ],
             [
              0.1111111111111111,
              "#46039f"
             ],
             [
              0.2222222222222222,
              "#7201a8"
             ],
             [
              0.3333333333333333,
              "#9c179e"
             ],
             [
              0.4444444444444444,
              "#bd3786"
             ],
             [
              0.5555555555555556,
              "#d8576b"
             ],
             [
              0.6666666666666666,
              "#ed7953"
             ],
             [
              0.7777777777777778,
              "#fb9f3a"
             ],
             [
              0.8888888888888888,
              "#fdca26"
             ],
             [
              1,
              "#f0f921"
             ]
            ],
            "type": "heatmapgl"
           }
          ],
          "histogram": [
           {
            "marker": {
             "pattern": {
              "fillmode": "overlay",
              "size": 10,
              "solidity": 0.2
             }
            },
            "type": "histogram"
           }
          ],
          "histogram2d": [
           {
            "colorbar": {
             "outlinewidth": 0,
             "ticks": ""
            },
            "colorscale": [
             [
              0,
              "#0d0887"
             ],
             [
              0.1111111111111111,
              "#46039f"
             ],
             [
              0.2222222222222222,
              "#7201a8"
             ],
             [
              0.3333333333333333,
              "#9c179e"
             ],
             [
              0.4444444444444444,
              "#bd3786"
             ],
             [
              0.5555555555555556,
              "#d8576b"
             ],
             [
              0.6666666666666666,
              "#ed7953"
             ],
             [
              0.7777777777777778,
              "#fb9f3a"
             ],
             [
              0.8888888888888888,
              "#fdca26"
             ],
             [
              1,
              "#f0f921"
             ]
            ],
            "type": "histogram2d"
           }
          ],
          "histogram2dcontour": [
           {
            "colorbar": {
             "outlinewidth": 0,
             "ticks": ""
            },
            "colorscale": [
             [
              0,
              "#0d0887"
             ],
             [
              0.1111111111111111,
              "#46039f"
             ],
             [
              0.2222222222222222,
              "#7201a8"
             ],
             [
              0.3333333333333333,
              "#9c179e"
             ],
             [
              0.4444444444444444,
              "#bd3786"
             ],
             [
              0.5555555555555556,
              "#d8576b"
             ],
             [
              0.6666666666666666,
              "#ed7953"
             ],
             [
              0.7777777777777778,
              "#fb9f3a"
             ],
             [
              0.8888888888888888,
              "#fdca26"
             ],
             [
              1,
              "#f0f921"
             ]
            ],
            "type": "histogram2dcontour"
           }
          ],
          "mesh3d": [
           {
            "colorbar": {
             "outlinewidth": 0,
             "ticks": ""
            },
            "type": "mesh3d"
           }
          ],
          "parcoords": [
           {
            "line": {
             "colorbar": {
              "outlinewidth": 0,
              "ticks": ""
             }
            },
            "type": "parcoords"
           }
          ],
          "pie": [
           {
            "automargin": true,
            "type": "pie"
           }
          ],
          "scatter": [
           {
            "marker": {
             "line": {
              "color": "#283442"
             }
            },
            "type": "scatter"
           }
          ],
          "scatter3d": [
           {
            "line": {
             "colorbar": {
              "outlinewidth": 0,
              "ticks": ""
             }
            },
            "marker": {
             "colorbar": {
              "outlinewidth": 0,
              "ticks": ""
             }
            },
            "type": "scatter3d"
           }
          ],
          "scattercarpet": [
           {
            "marker": {
             "colorbar": {
              "outlinewidth": 0,
              "ticks": ""
             }
            },
            "type": "scattercarpet"
           }
          ],
          "scattergeo": [
           {
            "marker": {
             "colorbar": {
              "outlinewidth": 0,
              "ticks": ""
             }
            },
            "type": "scattergeo"
           }
          ],
          "scattergl": [
           {
            "marker": {
             "line": {
              "color": "#283442"
             }
            },
            "type": "scattergl"
           }
          ],
          "scattermapbox": [
           {
            "marker": {
             "colorbar": {
              "outlinewidth": 0,
              "ticks": ""
             }
            },
            "type": "scattermapbox"
           }
          ],
          "scatterpolar": [
           {
            "marker": {
             "colorbar": {
              "outlinewidth": 0,
              "ticks": ""
             }
            },
            "type": "scatterpolar"
           }
          ],
          "scatterpolargl": [
           {
            "marker": {
             "colorbar": {
              "outlinewidth": 0,
              "ticks": ""
             }
            },
            "type": "scatterpolargl"
           }
          ],
          "scatterternary": [
           {
            "marker": {
             "colorbar": {
              "outlinewidth": 0,
              "ticks": ""
             }
            },
            "type": "scatterternary"
           }
          ],
          "surface": [
           {
            "colorbar": {
             "outlinewidth": 0,
             "ticks": ""
            },
            "colorscale": [
             [
              0,
              "#0d0887"
             ],
             [
              0.1111111111111111,
              "#46039f"
             ],
             [
              0.2222222222222222,
              "#7201a8"
             ],
             [
              0.3333333333333333,
              "#9c179e"
             ],
             [
              0.4444444444444444,
              "#bd3786"
             ],
             [
              0.5555555555555556,
              "#d8576b"
             ],
             [
              0.6666666666666666,
              "#ed7953"
             ],
             [
              0.7777777777777778,
              "#fb9f3a"
             ],
             [
              0.8888888888888888,
              "#fdca26"
             ],
             [
              1,
              "#f0f921"
             ]
            ],
            "type": "surface"
           }
          ],
          "table": [
           {
            "cells": {
             "fill": {
              "color": "#506784"
             },
             "line": {
              "color": "rgb(17,17,17)"
             }
            },
            "header": {
             "fill": {
              "color": "#2a3f5f"
             },
             "line": {
              "color": "rgb(17,17,17)"
             }
            },
            "type": "table"
           }
          ]
         },
         "layout": {
          "annotationdefaults": {
           "arrowcolor": "#f2f5fa",
           "arrowhead": 0,
           "arrowwidth": 1
          },
          "autotypenumbers": "strict",
          "coloraxis": {
           "colorbar": {
            "outlinewidth": 0,
            "ticks": ""
           }
          },
          "colorscale": {
           "diverging": [
            [
             0,
             "#8e0152"
            ],
            [
             0.1,
             "#c51b7d"
            ],
            [
             0.2,
             "#de77ae"
            ],
            [
             0.3,
             "#f1b6da"
            ],
            [
             0.4,
             "#fde0ef"
            ],
            [
             0.5,
             "#f7f7f7"
            ],
            [
             0.6,
             "#e6f5d0"
            ],
            [
             0.7,
             "#b8e186"
            ],
            [
             0.8,
             "#7fbc41"
            ],
            [
             0.9,
             "#4d9221"
            ],
            [
             1,
             "#276419"
            ]
           ],
           "sequential": [
            [
             0,
             "#0d0887"
            ],
            [
             0.1111111111111111,
             "#46039f"
            ],
            [
             0.2222222222222222,
             "#7201a8"
            ],
            [
             0.3333333333333333,
             "#9c179e"
            ],
            [
             0.4444444444444444,
             "#bd3786"
            ],
            [
             0.5555555555555556,
             "#d8576b"
            ],
            [
             0.6666666666666666,
             "#ed7953"
            ],
            [
             0.7777777777777778,
             "#fb9f3a"
            ],
            [
             0.8888888888888888,
             "#fdca26"
            ],
            [
             1,
             "#f0f921"
            ]
           ],
           "sequentialminus": [
            [
             0,
             "#0d0887"
            ],
            [
             0.1111111111111111,
             "#46039f"
            ],
            [
             0.2222222222222222,
             "#7201a8"
            ],
            [
             0.3333333333333333,
             "#9c179e"
            ],
            [
             0.4444444444444444,
             "#bd3786"
            ],
            [
             0.5555555555555556,
             "#d8576b"
            ],
            [
             0.6666666666666666,
             "#ed7953"
            ],
            [
             0.7777777777777778,
             "#fb9f3a"
            ],
            [
             0.8888888888888888,
             "#fdca26"
            ],
            [
             1,
             "#f0f921"
            ]
           ]
          },
          "colorway": [
           "#636efa",
           "#EF553B",
           "#00cc96",
           "#ab63fa",
           "#FFA15A",
           "#19d3f3",
           "#FF6692",
           "#B6E880",
           "#FF97FF",
           "#FECB52"
          ],
          "font": {
           "color": "#f2f5fa"
          },
          "geo": {
           "bgcolor": "rgb(17,17,17)",
           "lakecolor": "rgb(17,17,17)",
           "landcolor": "rgb(17,17,17)",
           "showlakes": true,
           "showland": true,
           "subunitcolor": "#506784"
          },
          "hoverlabel": {
           "align": "left"
          },
          "hovermode": "closest",
          "mapbox": {
           "style": "dark"
          },
          "paper_bgcolor": "rgb(17,17,17)",
          "plot_bgcolor": "rgb(17,17,17)",
          "polar": {
           "angularaxis": {
            "gridcolor": "#506784",
            "linecolor": "#506784",
            "ticks": ""
           },
           "bgcolor": "rgb(17,17,17)",
           "radialaxis": {
            "gridcolor": "#506784",
            "linecolor": "#506784",
            "ticks": ""
           }
          },
          "scene": {
           "xaxis": {
            "backgroundcolor": "rgb(17,17,17)",
            "gridcolor": "#506784",
            "gridwidth": 2,
            "linecolor": "#506784",
            "showbackground": true,
            "ticks": "",
            "zerolinecolor": "#C8D4E3"
           },
           "yaxis": {
            "backgroundcolor": "rgb(17,17,17)",
            "gridcolor": "#506784",
            "gridwidth": 2,
            "linecolor": "#506784",
            "showbackground": true,
            "ticks": "",
            "zerolinecolor": "#C8D4E3"
           },
           "zaxis": {
            "backgroundcolor": "rgb(17,17,17)",
            "gridcolor": "#506784",
            "gridwidth": 2,
            "linecolor": "#506784",
            "showbackground": true,
            "ticks": "",
            "zerolinecolor": "#C8D4E3"
           }
          },
          "shapedefaults": {
           "line": {
            "color": "#f2f5fa"
           }
          },
          "sliderdefaults": {
           "bgcolor": "#C8D4E3",
           "bordercolor": "rgb(17,17,17)",
           "borderwidth": 1,
           "tickwidth": 0
          },
          "ternary": {
           "aaxis": {
            "gridcolor": "#506784",
            "linecolor": "#506784",
            "ticks": ""
           },
           "baxis": {
            "gridcolor": "#506784",
            "linecolor": "#506784",
            "ticks": ""
           },
           "bgcolor": "rgb(17,17,17)",
           "caxis": {
            "gridcolor": "#506784",
            "linecolor": "#506784",
            "ticks": ""
           }
          },
          "title": {
           "x": 0.05
          },
          "updatemenudefaults": {
           "bgcolor": "#506784",
           "borderwidth": 0
          },
          "xaxis": {
           "automargin": true,
           "gridcolor": "#283442",
           "linecolor": "#506784",
           "ticks": "",
           "title": {
            "standoff": 15
           },
           "zerolinecolor": "#283442",
           "zerolinewidth": 2
          },
          "yaxis": {
           "automargin": true,
           "gridcolor": "#283442",
           "linecolor": "#506784",
           "ticks": "",
           "title": {
            "standoff": 15
           },
           "zerolinecolor": "#283442",
           "zerolinewidth": 2
          }
         }
        },
        "title": {
         "text": "Prediction of %YoY S&P500 in 6-Month Based on Current Data<br><span style=\"font-size: 12.5px; color: lightgrey;\"> --Model predicts 1-month moving averaged target prices</span>"
        },
        "width": 700
       }
      }
     },
     "metadata": {},
     "output_type": "display_data"
    },
    {
     "data": {
      "application/vnd.plotly.v1+json": {
       "config": {
        "plotlyServerURL": "https://plot.ly"
       },
       "data": [
        {
         "marker": {
          "color": "red",
          "opacity": 0.5
         },
         "mode": "markers",
         "name": "Error",
         "type": "scatter",
         "x": [
          0,
          0.3333333333333333,
          0.6666666666666666,
          1,
          1.3333333333333333,
          1.6666666666666667,
          2,
          2.3333333333333335,
          2.6666666666666665,
          3,
          3.3333333333333335,
          3.6666666666666665,
          4,
          4.333333333333333,
          4.666666666666667,
          5,
          5.333333333333333,
          5.666666666666667,
          6,
          6.333333333333333,
          6.666666666666667,
          7,
          7.333333333333333,
          7.666666666666667,
          8,
          8.333333333333334,
          8.666666666666666,
          9,
          9.333333333333334,
          9.666666666666666,
          10,
          10.333333333333334,
          10.666666666666666,
          11,
          11.333333333333334,
          11.666666666666666,
          12,
          12.333333333333334,
          12.666666666666666,
          13,
          13.333333333333334,
          13.666666666666666,
          14,
          14.333333333333334,
          14.666666666666666,
          15,
          15.333333333333334,
          15.666666666666666,
          16,
          16.333333333333332,
          16.666666666666668,
          17,
          17.333333333333332,
          17.666666666666668,
          18,
          18.333333333333332,
          18.666666666666668,
          19,
          19.333333333333332,
          19.666666666666668,
          20,
          20.333333333333332,
          20.666666666666668,
          21,
          21.333333333333332,
          21.666666666666668,
          22,
          22.333333333333332,
          22.666666666666668,
          23,
          23.333333333333332,
          23.666666666666668,
          24,
          24.333333333333332,
          24.666666666666668,
          25,
          25.333333333333332,
          25.666666666666668,
          26,
          26.333333333333332,
          26.666666666666668,
          27,
          27.333333333333332,
          27.666666666666668,
          28,
          28.333333333333332,
          28.666666666666668,
          29,
          29.333333333333332,
          29.666666666666668,
          30,
          30.333333333333332,
          30.666666666666668,
          31,
          31.333333333333332,
          31.666666666666668,
          32,
          32.333333333333336,
          32.666666666666664,
          33,
          33.333333333333336,
          33.666666666666664,
          34,
          34.333333333333336,
          34.666666666666664,
          35,
          35.333333333333336,
          35.666666666666664,
          36,
          36.333333333333336,
          36.666666666666664,
          37,
          37.333333333333336,
          37.666666666666664,
          38,
          38.333333333333336,
          38.666666666666664,
          39,
          39.333333333333336,
          39.666666666666664,
          40,
          40.333333333333336,
          40.666666666666664,
          41,
          41.333333333333336,
          41.666666666666664,
          42,
          42.333333333333336,
          42.666666666666664,
          43,
          43.333333333333336,
          43.666666666666664,
          44,
          44.333333333333336,
          44.666666666666664,
          45,
          45.333333333333336,
          45.666666666666664,
          46,
          46.333333333333336,
          46.666666666666664,
          47,
          47.333333333333336,
          47.666666666666664,
          48,
          48.333333333333336,
          48.666666666666664,
          49,
          49.333333333333336,
          49.666666666666664,
          50,
          50.333333333333336,
          50.666666666666664,
          51,
          51.333333333333336,
          51.666666666666664,
          52,
          52.333333333333336,
          52.666666666666664,
          53,
          53.333333333333336,
          53.666666666666664,
          54,
          54.333333333333336,
          54.666666666666664,
          55,
          55.333333333333336,
          55.666666666666664,
          56,
          56.333333333333336,
          56.666666666666664,
          57,
          57.333333333333336,
          57.666666666666664,
          58,
          58.333333333333336,
          58.666666666666664,
          59,
          59.333333333333336,
          59.666666666666664,
          60,
          60.333333333333336,
          60.666666666666664,
          61,
          61.333333333333336,
          61.666666666666664,
          62,
          62.333333333333336,
          62.666666666666664,
          63,
          63.333333333333336,
          63.666666666666664,
          64,
          64.33333333333333,
          64.66666666666667,
          65,
          65.33333333333333,
          65.66666666666667,
          66,
          66.33333333333333,
          66.66666666666667,
          67,
          67.33333333333333,
          67.66666666666667,
          68,
          68.33333333333333,
          68.66666666666667,
          69,
          69.33333333333333,
          69.66666666666667,
          70,
          70.33333333333333,
          70.66666666666667,
          71,
          71.33333333333333,
          71.66666666666667,
          72,
          72.33333333333333,
          72.66666666666667,
          73,
          73.33333333333333,
          73.66666666666667,
          74,
          74.33333333333333,
          74.66666666666667,
          75,
          75.33333333333333,
          75.66666666666667,
          76,
          76.33333333333333,
          76.66666666666667,
          77,
          77.33333333333333,
          77.66666666666667,
          78,
          78.33333333333333,
          78.66666666666667,
          79,
          79.33333333333333,
          79.66666666666667,
          80,
          80.33333333333333,
          80.66666666666667,
          81,
          81.33333333333333,
          81.66666666666667,
          82,
          82.33333333333333,
          82.66666666666667,
          83,
          83.33333333333333,
          83.66666666666667,
          84,
          84.33333333333333,
          84.66666666666667,
          85,
          85.33333333333333,
          85.66666666666667,
          86,
          86.33333333333333,
          86.66666666666667,
          87,
          87.33333333333333,
          87.66666666666667,
          88,
          88.33333333333333,
          88.66666666666667,
          89,
          89.33333333333333,
          89.66666666666667,
          90,
          90.33333333333333,
          90.66666666666667,
          91,
          91.33333333333333,
          91.66666666666667,
          92,
          92.33333333333333,
          92.66666666666667,
          93,
          93.33333333333333,
          93.66666666666667,
          94,
          94.33333333333333,
          94.66666666666667,
          95,
          95.33333333333333,
          95.66666666666667,
          96,
          96.33333333333333,
          96.66666666666667,
          97,
          97.33333333333333,
          97.66666666666667,
          98,
          98.33333333333333,
          98.66666666666667,
          99,
          99.33333333333333,
          99.66666666666667,
          100,
          100.33333333333333,
          100.66666666666667,
          101,
          101.33333333333333,
          101.66666666666667,
          102,
          102.33333333333333,
          102.66666666666667,
          103,
          103.33333333333333,
          103.66666666666667,
          104,
          104.33333333333333,
          104.66666666666667,
          105,
          105.33333333333333,
          105.66666666666667,
          106,
          106.33333333333333,
          106.66666666666667,
          107,
          107.33333333333333,
          107.66666666666667,
          108,
          108.33333333333333,
          108.66666666666667,
          109,
          109.33333333333333,
          109.66666666666667,
          110,
          110.33333333333333,
          110.66666666666667,
          111,
          111.33333333333333,
          111.66666666666667,
          112,
          112.33333333333333,
          112.66666666666667,
          113,
          113.33333333333333,
          113.66666666666667,
          114,
          114.33333333333333,
          114.66666666666667,
          115,
          115.33333333333333,
          115.66666666666667,
          116,
          116.33333333333333,
          116.66666666666667,
          117,
          117.33333333333333,
          117.66666666666667,
          118,
          118.33333333333333,
          118.66666666666667,
          119,
          119.33333333333333,
          119.66666666666667,
          120,
          120.33333333333333,
          120.66666666666667,
          121,
          121.33333333333333,
          121.66666666666667,
          122,
          122.33333333333333,
          122.66666666666667,
          123,
          123.33333333333333,
          123.66666666666667,
          124,
          124.33333333333333,
          124.66666666666667,
          125,
          125.33333333333333,
          125.66666666666667,
          126,
          126.33333333333333,
          126.66666666666667,
          127,
          127.33333333333333,
          127.66666666666667,
          128,
          128.33333333333334,
          128.66666666666666,
          129,
          129.33333333333334,
          129.66666666666666,
          130,
          130.33333333333334,
          130.66666666666666,
          131,
          131.33333333333334,
          131.66666666666666,
          132,
          132.33333333333334,
          132.66666666666666,
          133,
          133.33333333333334,
          133.66666666666666,
          134,
          134.33333333333334,
          134.66666666666666,
          135,
          135.33333333333334,
          135.66666666666666,
          136,
          136.33333333333334,
          136.66666666666666
         ],
         "y": [
          -9.434208069082363,
          -20.73484644888501,
          -5.4067123774910115,
          4.147451311916566,
          2.835730087586139,
          -2.619600486242188,
          22.931040381872364,
          5.397612920482674,
          -2.386972226901282,
          6.538657651794143,
          3.9536263016447464,
          -2.4667795963402757,
          6.2569510787738265,
          15.400263707326019,
          12.920675788781818,
          2.8271062251736403,
          -6.440643375064543,
          -4.423333292999513,
          -16.939314597553004,
          -11.298458943485356,
          -1.1261020404055913,
          -2.868544403421607,
          4.173779352708794,
          4.785189174596432,
          -5.399106455329802,
          -11.934457682455516,
          -10.658173228343493,
          -3.094509393636468,
          11.677205497200713,
          -8.945927570333787,
          1.6332638072155596,
          2.8700362803709165,
          2.6891482167858642,
          -3.9804526239106623,
          7.736144151712659,
          1.6689607509447661,
          5.834016420743582,
          5.5415468886183445,
          3.3003132292467106,
          0.7238347674494374,
          -9.690893926133084,
          4.770369649630318,
          0.7267965671812542,
          0.804413934441425,
          -3.6691859587900595,
          3.520137597870227,
          -7.714386407069205,
          -7.17271655629928,
          2.773374518766171,
          -4.971322450511473,
          0.7842030873461425,
          -2.1354663271623906,
          4.433956354624549,
          2.9597981086855807,
          -0.3222658195226522,
          3.9661114056949263,
          8.059161440467026,
          0.3615163610686887,
          0.9286770259623882,
          2.5513116149455604,
          1.245100039005822,
          -0.014894970484156556,
          0.24564795386464877,
          4.285242515638935,
          3.0703958537743636,
          2.7582620602334194,
          0.018324995948920453,
          -9.487700657439749,
          -7.747504061518323,
          -4.237502657459153,
          -0.5236659088175699,
          -5.7563388908281965,
          -8.387535254493747,
          4.362185756678503,
          -9.100155542472141,
          -6.493738707170454,
          -19.079820794168445,
          -15.442101367107181,
          -12.997003908797925,
          -0.7584939807957696,
          3.0655295211534828,
          1.774887488302248,
          -1.5261035036842152,
          -1.4622497425508811,
          5.250753681030865,
          4.40609555262947,
          3.56187758794675,
          0.1323297710551401,
          -1.6063778973378646,
          10.114091456880754,
          3.3553794745069396,
          -0.18280959688952336,
          7.894435473584338,
          -0.1649299120660359,
          -5.089319261732992,
          -7.477249391597557,
          -17.733933114588663,
          7.039272583450483,
          1.9600222714557987,
          5.26560220661603,
          7.874040239398738,
          -4.698212605413158,
          7.452122487246903,
          -5.058429323967772,
          -13.977037829397087,
          7.080555119806881,
          11.240335119814333,
          0.5052037398938118,
          14.021797186131398,
          11.142348250718586,
          0.5358346155212335,
          -13.002156306403553,
          -4.3452579819285155,
          -8.575568927410725,
          -10.219436642849885,
          10.260957418855043,
          3.9887402705739596,
          -1.0433026645041998,
          0.23475929462853173,
          -0.3621335060491262,
          -0.6999970127770858,
          -21.024196447476207,
          4.154313759601397,
          3.663839760157302,
          6.108369426040316,
          2.0751241504205176,
          12.760824702360893,
          3.1923540617379214,
          -4.318661023528625,
          6.056480039414588,
          1.252362417693261,
          3.7730767789106876,
          0.3782880885665225,
          -6.1133757841765775,
          3.7996027239104,
          5.065976500816326,
          12.197463486821434,
          7.672674137691848,
          -3.0374976809983445,
          5.35027971535637,
          18.597056792438842,
          -4.9677900743873185,
          -7.0285134571263885,
          3.425605669079694,
          -2.1153233576996335,
          10.867480677172317,
          5.920804946027598,
          -0.46811859319880256,
          -15.385264505085473,
          4.700243251007089,
          3.042365413142681,
          -5.160500110410119,
          -12.464742103720601,
          14.688908171661785,
          8.79945686258735,
          11.925801394664905,
          12.873053712752135,
          0.8093471186510541,
          8.865386537616518,
          1.3554147205641431,
          10.5730498040677,
          13.883303718870799,
          9.11423310294164,
          8.858396224558733,
          13.327543821226664,
          -12.35313062806015,
          -3.583495268174543,
          -16.167492090379096,
          -15.989291391118227,
          -4.265657156137632,
          -15.51889517950077,
          -10.735800225967953,
          4.132289456619141,
          -10.798280377270485,
          -18.788597704486463,
          -10.498336501882875,
          1.7195916661666644,
          5.581487338665067,
          -2.7049108785729015,
          2.7132431424876593,
          9.339804471623639,
          10.54735628336457,
          2.2504405056239545,
          7.032070905497127,
          13.343492018460505,
          -4.034374921263003,
          1.23507246912828,
          1.1159717631493855,
          0.8926839210216624,
          14.543011921261524,
          0.6257819741206117,
          -0.1664847169559831,
          0.05380845602124573,
          -1.428910280060725,
          -2.3425594201412645,
          7.186823337781539,
          -2.5391257501262676,
          1.3289746038092707,
          -4.228393551319173,
          2.853239570132663,
          2.351673477235897,
          -3.831585928016871,
          1.5242734121955346,
          -5.997883201468152,
          0.31574522965483753,
          -7.50886446683696,
          -7.052724897820519,
          -10.602330499511895,
          6.793011777772016,
          1.887765324843798,
          6.1156166475601985,
          -0.6359469603475052,
          -16.658506547819968,
          -13.850049471736204,
          -13.212936044404024,
          3.6637587881783134,
          4.875688976152318,
          3.2369388745363974,
          3.879591518501984,
          0.4001651200238481,
          6.678723119142255,
          6.028970018745667,
          7.623391996860965,
          3.0623405672933566,
          6.983533463186731,
          7.623676621251706,
          4.879265768877811,
          4.908233341810385,
          1.851515735333642,
          -2.0934819898802015,
          7.257718316134994,
          8.668404703106269,
          2.9665498245197526,
          -2.0387508893719186,
          1.1443438538069444,
          7.009381371810683,
          -8.755981062592085,
          -5.159362715752707,
          -0.330673644452844,
          -4.6802199437372956,
          -6.7767491302537515,
          5.121958943849961,
          -9.00355118326578,
          -11.425738220616259,
          -9.01843765093058,
          1.420936408554077,
          -8.32185408077098,
          -20.758785071310516,
          -0.06868388027467631,
          13.005566037516516,
          7.775311688608323,
          4.375668140118082,
          1.7206187315053505,
          7.313619492751126,
          0.024909465847639645,
          -3.0421810373711953,
          -5.943917648111311,
          -4.528209678816516,
          -10.50106064582904,
          -3.483464526599228,
          6.188913007238698,
          -1.3705957594971032,
          -6.532330917725542,
          -7.888456084174653,
          4.658557032557788,
          0.8611386219437627,
          13.980859852678975,
          -4.394154104948616,
          -0.38983710814252426,
          4.242746267492421,
          -2.3081363309268803,
          -5.411031470249439,
          -5.35823249764783,
          4.679380071220757,
          5.396118302964545,
          -4.50268639190663,
          -4.366365829383958,
          -7.309810699824448,
          -15.322186224994102,
          8.569961179651184,
          2.9086426612682725,
          0.12059557968380652,
          1.4716905385453511,
          5.446837592506768,
          -1.7465007022052568,
          -5.411196607081543,
          -11.044487684953994,
          -3.5506227326102753,
          -4.283869338554261,
          1.2237853559287366,
          -0.49660708541266274,
          -9.523015296022514,
          -10.054980776411472,
          1.135425970167276,
          -2.406561147248027,
          -8.862364415486242,
          -6.891417519239184,
          1.4549439057978404,
          -5.365337361232752,
          -3.0546397723459577,
          -1.2519501224710332,
          -13.551002993912835,
          -7.581348617748633,
          -1.8471219594176667,
          0.3831564787781314,
          -5.937731044875158,
          4.4971272799288435,
          8.98437831643433,
          9.63353125639368,
          4.681952716827396,
          1.4307733916415053,
          6.831426940755873,
          2.6172390850136313,
          11.305834784898884,
          2.1242109273648344,
          -4.760350211268916,
          -0.528627534076323,
          0.25015863066540805,
          2.8108968910699677,
          3.8920096274573703,
          -9.459831267073715,
          -4.455340175083311,
          -1.2544016929822492,
          -4.555042821662076,
          -7.5697985959857395,
          -10.778010813475033,
          -6.661603255442577,
          7.833168150603098,
          0.01384606973682967,
          -3.643862518329674,
          -8.925320331833154,
          -11.496034727886602,
          5.096510623847964,
          0.3346600517458693,
          -1.865342921796687,
          -4.094058904087889,
          2.6677371081108934,
          1.0556464488451098,
          -1.3183680301235459,
          -9.474407562604235,
          -2.5174765336900897,
          -0.905661454852801,
          -10.480919240141459,
          5.72875816373635,
          10.276274758403726,
          4.151549199038785,
          3.891089957335657,
          -0.6987572647482505,
          -4.101625539342248,
          -5.188922411061579,
          -0.4163589483477743,
          10.081856240967836,
          5.297841528831416,
          12.804618141783173,
          4.682536089940087,
          -5.068574258748249,
          -9.23803884174204,
          -8.253958462102817,
          6.089693511928943,
          -4.193490454034088,
          2.623664518602391,
          6.355176756783525,
          1.5040988688508028,
          -9.022660987000258,
          -7.917331120598319,
          -16.1360547550904,
          1.8852570774415867,
          18.2924052605996,
          18.938785674779513,
          -3.9735114192987493,
          -10.8135019752907,
          2.694808779037393,
          -2.407515693205821,
          -10.663890437885875,
          -0.058860178835448806,
          2.7762229594983507,
          -8.413382774203173,
          -1.67543238088488,
          -0.5147513457788495,
          -13.324368512385123,
          -26.830902386066676,
          2.5111633123543697,
          -1.8509695724223576,
          -0.5602643122535582,
          2.93423855981311,
          4.056728127963041,
          2.6318194930230803,
          -34.350253830219,
          1.0044985252201855,
          -8.30619464859705,
          4.051117032914366,
          3.010134607582291,
          3.498440418638838,
          13.870672422839043,
          13.90781614623832,
          13.427472635915866,
          -7.474016586582714,
          8.64823537123696,
          -6.4399660564781875,
          -3.762557793287977,
          2.9719387236464385,
          2.765024533894479,
          -11.486463710727762,
          9.859142688265454,
          -7.518184396452771,
          -5.384162972446761,
          -3.968404429521444,
          -15.911439519926926,
          0.298275664457341,
          -4.451933936927773,
          -5.7160210909865015
         ]
        },
        {
         "histnorm": "",
         "marker": {
          "color": "grey",
          "opacity": 0.5
         },
         "name": "Distribution",
         "nbinsy": 20,
         "type": "histogram",
         "y": [
          -9.434208069082363,
          -20.73484644888501,
          -5.4067123774910115,
          4.147451311916566,
          2.835730087586139,
          -2.619600486242188,
          22.931040381872364,
          5.397612920482674,
          -2.386972226901282,
          6.538657651794143,
          3.9536263016447464,
          -2.4667795963402757,
          6.2569510787738265,
          15.400263707326019,
          12.920675788781818,
          2.8271062251736403,
          -6.440643375064543,
          -4.423333292999513,
          -16.939314597553004,
          -11.298458943485356,
          -1.1261020404055913,
          -2.868544403421607,
          4.173779352708794,
          4.785189174596432,
          -5.399106455329802,
          -11.934457682455516,
          -10.658173228343493,
          -3.094509393636468,
          11.677205497200713,
          -8.945927570333787,
          1.6332638072155596,
          2.8700362803709165,
          2.6891482167858642,
          -3.9804526239106623,
          7.736144151712659,
          1.6689607509447661,
          5.834016420743582,
          5.5415468886183445,
          3.3003132292467106,
          0.7238347674494374,
          -9.690893926133084,
          4.770369649630318,
          0.7267965671812542,
          0.804413934441425,
          -3.6691859587900595,
          3.520137597870227,
          -7.714386407069205,
          -7.17271655629928,
          2.773374518766171,
          -4.971322450511473,
          0.7842030873461425,
          -2.1354663271623906,
          4.433956354624549,
          2.9597981086855807,
          -0.3222658195226522,
          3.9661114056949263,
          8.059161440467026,
          0.3615163610686887,
          0.9286770259623882,
          2.5513116149455604,
          1.245100039005822,
          -0.014894970484156556,
          0.24564795386464877,
          4.285242515638935,
          3.0703958537743636,
          2.7582620602334194,
          0.018324995948920453,
          -9.487700657439749,
          -7.747504061518323,
          -4.237502657459153,
          -0.5236659088175699,
          -5.7563388908281965,
          -8.387535254493747,
          4.362185756678503,
          -9.100155542472141,
          -6.493738707170454,
          -19.079820794168445,
          -15.442101367107181,
          -12.997003908797925,
          -0.7584939807957696,
          3.0655295211534828,
          1.774887488302248,
          -1.5261035036842152,
          -1.4622497425508811,
          5.250753681030865,
          4.40609555262947,
          3.56187758794675,
          0.1323297710551401,
          -1.6063778973378646,
          10.114091456880754,
          3.3553794745069396,
          -0.18280959688952336,
          7.894435473584338,
          -0.1649299120660359,
          -5.089319261732992,
          -7.477249391597557,
          -17.733933114588663,
          7.039272583450483,
          1.9600222714557987,
          5.26560220661603,
          7.874040239398738,
          -4.698212605413158,
          7.452122487246903,
          -5.058429323967772,
          -13.977037829397087,
          7.080555119806881,
          11.240335119814333,
          0.5052037398938118,
          14.021797186131398,
          11.142348250718586,
          0.5358346155212335,
          -13.002156306403553,
          -4.3452579819285155,
          -8.575568927410725,
          -10.219436642849885,
          10.260957418855043,
          3.9887402705739596,
          -1.0433026645041998,
          0.23475929462853173,
          -0.3621335060491262,
          -0.6999970127770858,
          -21.024196447476207,
          4.154313759601397,
          3.663839760157302,
          6.108369426040316,
          2.0751241504205176,
          12.760824702360893,
          3.1923540617379214,
          -4.318661023528625,
          6.056480039414588,
          1.252362417693261,
          3.7730767789106876,
          0.3782880885665225,
          -6.1133757841765775,
          3.7996027239104,
          5.065976500816326,
          12.197463486821434,
          7.672674137691848,
          -3.0374976809983445,
          5.35027971535637,
          18.597056792438842,
          -4.9677900743873185,
          -7.0285134571263885,
          3.425605669079694,
          -2.1153233576996335,
          10.867480677172317,
          5.920804946027598,
          -0.46811859319880256,
          -15.385264505085473,
          4.700243251007089,
          3.042365413142681,
          -5.160500110410119,
          -12.464742103720601,
          14.688908171661785,
          8.79945686258735,
          11.925801394664905,
          12.873053712752135,
          0.8093471186510541,
          8.865386537616518,
          1.3554147205641431,
          10.5730498040677,
          13.883303718870799,
          9.11423310294164,
          8.858396224558733,
          13.327543821226664,
          -12.35313062806015,
          -3.583495268174543,
          -16.167492090379096,
          -15.989291391118227,
          -4.265657156137632,
          -15.51889517950077,
          -10.735800225967953,
          4.132289456619141,
          -10.798280377270485,
          -18.788597704486463,
          -10.498336501882875,
          1.7195916661666644,
          5.581487338665067,
          -2.7049108785729015,
          2.7132431424876593,
          9.339804471623639,
          10.54735628336457,
          2.2504405056239545,
          7.032070905497127,
          13.343492018460505,
          -4.034374921263003,
          1.23507246912828,
          1.1159717631493855,
          0.8926839210216624,
          14.543011921261524,
          0.6257819741206117,
          -0.1664847169559831,
          0.05380845602124573,
          -1.428910280060725,
          -2.3425594201412645,
          7.186823337781539,
          -2.5391257501262676,
          1.3289746038092707,
          -4.228393551319173,
          2.853239570132663,
          2.351673477235897,
          -3.831585928016871,
          1.5242734121955346,
          -5.997883201468152,
          0.31574522965483753,
          -7.50886446683696,
          -7.052724897820519,
          -10.602330499511895,
          6.793011777772016,
          1.887765324843798,
          6.1156166475601985,
          -0.6359469603475052,
          -16.658506547819968,
          -13.850049471736204,
          -13.212936044404024,
          3.6637587881783134,
          4.875688976152318,
          3.2369388745363974,
          3.879591518501984,
          0.4001651200238481,
          6.678723119142255,
          6.028970018745667,
          7.623391996860965,
          3.0623405672933566,
          6.983533463186731,
          7.623676621251706,
          4.879265768877811,
          4.908233341810385,
          1.851515735333642,
          -2.0934819898802015,
          7.257718316134994,
          8.668404703106269,
          2.9665498245197526,
          -2.0387508893719186,
          1.1443438538069444,
          7.009381371810683,
          -8.755981062592085,
          -5.159362715752707,
          -0.330673644452844,
          -4.6802199437372956,
          -6.7767491302537515,
          5.121958943849961,
          -9.00355118326578,
          -11.425738220616259,
          -9.01843765093058,
          1.420936408554077,
          -8.32185408077098,
          -20.758785071310516,
          -0.06868388027467631,
          13.005566037516516,
          7.775311688608323,
          4.375668140118082,
          1.7206187315053505,
          7.313619492751126,
          0.024909465847639645,
          -3.0421810373711953,
          -5.943917648111311,
          -4.528209678816516,
          -10.50106064582904,
          -3.483464526599228,
          6.188913007238698,
          -1.3705957594971032,
          -6.532330917725542,
          -7.888456084174653,
          4.658557032557788,
          0.8611386219437627,
          13.980859852678975,
          -4.394154104948616,
          -0.38983710814252426,
          4.242746267492421,
          -2.3081363309268803,
          -5.411031470249439,
          -5.35823249764783,
          4.679380071220757,
          5.396118302964545,
          -4.50268639190663,
          -4.366365829383958,
          -7.309810699824448,
          -15.322186224994102,
          8.569961179651184,
          2.9086426612682725,
          0.12059557968380652,
          1.4716905385453511,
          5.446837592506768,
          -1.7465007022052568,
          -5.411196607081543,
          -11.044487684953994,
          -3.5506227326102753,
          -4.283869338554261,
          1.2237853559287366,
          -0.49660708541266274,
          -9.523015296022514,
          -10.054980776411472,
          1.135425970167276,
          -2.406561147248027,
          -8.862364415486242,
          -6.891417519239184,
          1.4549439057978404,
          -5.365337361232752,
          -3.0546397723459577,
          -1.2519501224710332,
          -13.551002993912835,
          -7.581348617748633,
          -1.8471219594176667,
          0.3831564787781314,
          -5.937731044875158,
          4.4971272799288435,
          8.98437831643433,
          9.63353125639368,
          4.681952716827396,
          1.4307733916415053,
          6.831426940755873,
          2.6172390850136313,
          11.305834784898884,
          2.1242109273648344,
          -4.760350211268916,
          -0.528627534076323,
          0.25015863066540805,
          2.8108968910699677,
          3.8920096274573703,
          -9.459831267073715,
          -4.455340175083311,
          -1.2544016929822492,
          -4.555042821662076,
          -7.5697985959857395,
          -10.778010813475033,
          -6.661603255442577,
          7.833168150603098,
          0.01384606973682967,
          -3.643862518329674,
          -8.925320331833154,
          -11.496034727886602,
          5.096510623847964,
          0.3346600517458693,
          -1.865342921796687,
          -4.094058904087889,
          2.6677371081108934,
          1.0556464488451098,
          -1.3183680301235459,
          -9.474407562604235,
          -2.5174765336900897,
          -0.905661454852801,
          -10.480919240141459,
          5.72875816373635,
          10.276274758403726,
          4.151549199038785,
          3.891089957335657,
          -0.6987572647482505,
          -4.101625539342248,
          -5.188922411061579,
          -0.4163589483477743,
          10.081856240967836,
          5.297841528831416,
          12.804618141783173,
          4.682536089940087,
          -5.068574258748249,
          -9.23803884174204,
          -8.253958462102817,
          6.089693511928943,
          -4.193490454034088,
          2.623664518602391,
          6.355176756783525,
          1.5040988688508028,
          -9.022660987000258,
          -7.917331120598319,
          -16.1360547550904,
          1.8852570774415867,
          18.2924052605996,
          18.938785674779513,
          -3.9735114192987493,
          -10.8135019752907,
          2.694808779037393,
          -2.407515693205821,
          -10.663890437885875,
          -0.058860178835448806,
          2.7762229594983507,
          -8.413382774203173,
          -1.67543238088488,
          -0.5147513457788495,
          -13.324368512385123,
          -26.830902386066676,
          2.5111633123543697,
          -1.8509695724223576,
          -0.5602643122535582,
          2.93423855981311,
          4.056728127963041,
          2.6318194930230803,
          -34.350253830219,
          1.0044985252201855,
          -8.30619464859705,
          4.051117032914366,
          3.010134607582291,
          3.498440418638838,
          13.870672422839043,
          13.90781614623832,
          13.427472635915866,
          -7.474016586582714,
          8.64823537123696,
          -6.4399660564781875,
          -3.762557793287977,
          2.9719387236464385,
          2.765024533894479,
          -11.486463710727762,
          9.859142688265454,
          -7.518184396452771,
          -5.384162972446761,
          -3.968404429521444,
          -15.911439519926926,
          0.298275664457341,
          -4.451933936927773,
          -5.7160210909865015
         ]
        }
       ],
       "layout": {
        "height": 400,
        "hovermode": "x unified",
        "legend": {
         "orientation": "h",
         "x": 0.95,
         "xanchor": "right",
         "y": 1.05,
         "yanchor": "bottom"
        },
        "margin": {
         "b": 40,
         "l": 80,
         "r": 40,
         "t": 80
        },
        "template": {
         "data": {
          "bar": [
           {
            "error_x": {
             "color": "#f2f5fa"
            },
            "error_y": {
             "color": "#f2f5fa"
            },
            "marker": {
             "line": {
              "color": "rgb(17,17,17)",
              "width": 0.5
             },
             "pattern": {
              "fillmode": "overlay",
              "size": 10,
              "solidity": 0.2
             }
            },
            "type": "bar"
           }
          ],
          "barpolar": [
           {
            "marker": {
             "line": {
              "color": "rgb(17,17,17)",
              "width": 0.5
             },
             "pattern": {
              "fillmode": "overlay",
              "size": 10,
              "solidity": 0.2
             }
            },
            "type": "barpolar"
           }
          ],
          "carpet": [
           {
            "aaxis": {
             "endlinecolor": "#A2B1C6",
             "gridcolor": "#506784",
             "linecolor": "#506784",
             "minorgridcolor": "#506784",
             "startlinecolor": "#A2B1C6"
            },
            "baxis": {
             "endlinecolor": "#A2B1C6",
             "gridcolor": "#506784",
             "linecolor": "#506784",
             "minorgridcolor": "#506784",
             "startlinecolor": "#A2B1C6"
            },
            "type": "carpet"
           }
          ],
          "choropleth": [
           {
            "colorbar": {
             "outlinewidth": 0,
             "ticks": ""
            },
            "type": "choropleth"
           }
          ],
          "contour": [
           {
            "colorbar": {
             "outlinewidth": 0,
             "ticks": ""
            },
            "colorscale": [
             [
              0,
              "#0d0887"
             ],
             [
              0.1111111111111111,
              "#46039f"
             ],
             [
              0.2222222222222222,
              "#7201a8"
             ],
             [
              0.3333333333333333,
              "#9c179e"
             ],
             [
              0.4444444444444444,
              "#bd3786"
             ],
             [
              0.5555555555555556,
              "#d8576b"
             ],
             [
              0.6666666666666666,
              "#ed7953"
             ],
             [
              0.7777777777777778,
              "#fb9f3a"
             ],
             [
              0.8888888888888888,
              "#fdca26"
             ],
             [
              1,
              "#f0f921"
             ]
            ],
            "type": "contour"
           }
          ],
          "contourcarpet": [
           {
            "colorbar": {
             "outlinewidth": 0,
             "ticks": ""
            },
            "type": "contourcarpet"
           }
          ],
          "heatmap": [
           {
            "colorbar": {
             "outlinewidth": 0,
             "ticks": ""
            },
            "colorscale": [
             [
              0,
              "#0d0887"
             ],
             [
              0.1111111111111111,
              "#46039f"
             ],
             [
              0.2222222222222222,
              "#7201a8"
             ],
             [
              0.3333333333333333,
              "#9c179e"
             ],
             [
              0.4444444444444444,
              "#bd3786"
             ],
             [
              0.5555555555555556,
              "#d8576b"
             ],
             [
              0.6666666666666666,
              "#ed7953"
             ],
             [
              0.7777777777777778,
              "#fb9f3a"
             ],
             [
              0.8888888888888888,
              "#fdca26"
             ],
             [
              1,
              "#f0f921"
             ]
            ],
            "type": "heatmap"
           }
          ],
          "heatmapgl": [
           {
            "colorbar": {
             "outlinewidth": 0,
             "ticks": ""
            },
            "colorscale": [
             [
              0,
              "#0d0887"
             ],
             [
              0.1111111111111111,
              "#46039f"
             ],
             [
              0.2222222222222222,
              "#7201a8"
             ],
             [
              0.3333333333333333,
              "#9c179e"
             ],
             [
              0.4444444444444444,
              "#bd3786"
             ],
             [
              0.5555555555555556,
              "#d8576b"
             ],
             [
              0.6666666666666666,
              "#ed7953"
             ],
             [
              0.7777777777777778,
              "#fb9f3a"
             ],
             [
              0.8888888888888888,
              "#fdca26"
             ],
             [
              1,
              "#f0f921"
             ]
            ],
            "type": "heatmapgl"
           }
          ],
          "histogram": [
           {
            "marker": {
             "pattern": {
              "fillmode": "overlay",
              "size": 10,
              "solidity": 0.2
             }
            },
            "type": "histogram"
           }
          ],
          "histogram2d": [
           {
            "colorbar": {
             "outlinewidth": 0,
             "ticks": ""
            },
            "colorscale": [
             [
              0,
              "#0d0887"
             ],
             [
              0.1111111111111111,
              "#46039f"
             ],
             [
              0.2222222222222222,
              "#7201a8"
             ],
             [
              0.3333333333333333,
              "#9c179e"
             ],
             [
              0.4444444444444444,
              "#bd3786"
             ],
             [
              0.5555555555555556,
              "#d8576b"
             ],
             [
              0.6666666666666666,
              "#ed7953"
             ],
             [
              0.7777777777777778,
              "#fb9f3a"
             ],
             [
              0.8888888888888888,
              "#fdca26"
             ],
             [
              1,
              "#f0f921"
             ]
            ],
            "type": "histogram2d"
           }
          ],
          "histogram2dcontour": [
           {
            "colorbar": {
             "outlinewidth": 0,
             "ticks": ""
            },
            "colorscale": [
             [
              0,
              "#0d0887"
             ],
             [
              0.1111111111111111,
              "#46039f"
             ],
             [
              0.2222222222222222,
              "#7201a8"
             ],
             [
              0.3333333333333333,
              "#9c179e"
             ],
             [
              0.4444444444444444,
              "#bd3786"
             ],
             [
              0.5555555555555556,
              "#d8576b"
             ],
             [
              0.6666666666666666,
              "#ed7953"
             ],
             [
              0.7777777777777778,
              "#fb9f3a"
             ],
             [
              0.8888888888888888,
              "#fdca26"
             ],
             [
              1,
              "#f0f921"
             ]
            ],
            "type": "histogram2dcontour"
           }
          ],
          "mesh3d": [
           {
            "colorbar": {
             "outlinewidth": 0,
             "ticks": ""
            },
            "type": "mesh3d"
           }
          ],
          "parcoords": [
           {
            "line": {
             "colorbar": {
              "outlinewidth": 0,
              "ticks": ""
             }
            },
            "type": "parcoords"
           }
          ],
          "pie": [
           {
            "automargin": true,
            "type": "pie"
           }
          ],
          "scatter": [
           {
            "marker": {
             "line": {
              "color": "#283442"
             }
            },
            "type": "scatter"
           }
          ],
          "scatter3d": [
           {
            "line": {
             "colorbar": {
              "outlinewidth": 0,
              "ticks": ""
             }
            },
            "marker": {
             "colorbar": {
              "outlinewidth": 0,
              "ticks": ""
             }
            },
            "type": "scatter3d"
           }
          ],
          "scattercarpet": [
           {
            "marker": {
             "colorbar": {
              "outlinewidth": 0,
              "ticks": ""
             }
            },
            "type": "scattercarpet"
           }
          ],
          "scattergeo": [
           {
            "marker": {
             "colorbar": {
              "outlinewidth": 0,
              "ticks": ""
             }
            },
            "type": "scattergeo"
           }
          ],
          "scattergl": [
           {
            "marker": {
             "line": {
              "color": "#283442"
             }
            },
            "type": "scattergl"
           }
          ],
          "scattermapbox": [
           {
            "marker": {
             "colorbar": {
              "outlinewidth": 0,
              "ticks": ""
             }
            },
            "type": "scattermapbox"
           }
          ],
          "scatterpolar": [
           {
            "marker": {
             "colorbar": {
              "outlinewidth": 0,
              "ticks": ""
             }
            },
            "type": "scatterpolar"
           }
          ],
          "scatterpolargl": [
           {
            "marker": {
             "colorbar": {
              "outlinewidth": 0,
              "ticks": ""
             }
            },
            "type": "scatterpolargl"
           }
          ],
          "scatterternary": [
           {
            "marker": {
             "colorbar": {
              "outlinewidth": 0,
              "ticks": ""
             }
            },
            "type": "scatterternary"
           }
          ],
          "surface": [
           {
            "colorbar": {
             "outlinewidth": 0,
             "ticks": ""
            },
            "colorscale": [
             [
              0,
              "#0d0887"
             ],
             [
              0.1111111111111111,
              "#46039f"
             ],
             [
              0.2222222222222222,
              "#7201a8"
             ],
             [
              0.3333333333333333,
              "#9c179e"
             ],
             [
              0.4444444444444444,
              "#bd3786"
             ],
             [
              0.5555555555555556,
              "#d8576b"
             ],
             [
              0.6666666666666666,
              "#ed7953"
             ],
             [
              0.7777777777777778,
              "#fb9f3a"
             ],
             [
              0.8888888888888888,
              "#fdca26"
             ],
             [
              1,
              "#f0f921"
             ]
            ],
            "type": "surface"
           }
          ],
          "table": [
           {
            "cells": {
             "fill": {
              "color": "#506784"
             },
             "line": {
              "color": "rgb(17,17,17)"
             }
            },
            "header": {
             "fill": {
              "color": "#2a3f5f"
             },
             "line": {
              "color": "rgb(17,17,17)"
             }
            },
            "type": "table"
           }
          ]
         },
         "layout": {
          "annotationdefaults": {
           "arrowcolor": "#f2f5fa",
           "arrowhead": 0,
           "arrowwidth": 1
          },
          "autotypenumbers": "strict",
          "coloraxis": {
           "colorbar": {
            "outlinewidth": 0,
            "ticks": ""
           }
          },
          "colorscale": {
           "diverging": [
            [
             0,
             "#8e0152"
            ],
            [
             0.1,
             "#c51b7d"
            ],
            [
             0.2,
             "#de77ae"
            ],
            [
             0.3,
             "#f1b6da"
            ],
            [
             0.4,
             "#fde0ef"
            ],
            [
             0.5,
             "#f7f7f7"
            ],
            [
             0.6,
             "#e6f5d0"
            ],
            [
             0.7,
             "#b8e186"
            ],
            [
             0.8,
             "#7fbc41"
            ],
            [
             0.9,
             "#4d9221"
            ],
            [
             1,
             "#276419"
            ]
           ],
           "sequential": [
            [
             0,
             "#0d0887"
            ],
            [
             0.1111111111111111,
             "#46039f"
            ],
            [
             0.2222222222222222,
             "#7201a8"
            ],
            [
             0.3333333333333333,
             "#9c179e"
            ],
            [
             0.4444444444444444,
             "#bd3786"
            ],
            [
             0.5555555555555556,
             "#d8576b"
            ],
            [
             0.6666666666666666,
             "#ed7953"
            ],
            [
             0.7777777777777778,
             "#fb9f3a"
            ],
            [
             0.8888888888888888,
             "#fdca26"
            ],
            [
             1,
             "#f0f921"
            ]
           ],
           "sequentialminus": [
            [
             0,
             "#0d0887"
            ],
            [
             0.1111111111111111,
             "#46039f"
            ],
            [
             0.2222222222222222,
             "#7201a8"
            ],
            [
             0.3333333333333333,
             "#9c179e"
            ],
            [
             0.4444444444444444,
             "#bd3786"
            ],
            [
             0.5555555555555556,
             "#d8576b"
            ],
            [
             0.6666666666666666,
             "#ed7953"
            ],
            [
             0.7777777777777778,
             "#fb9f3a"
            ],
            [
             0.8888888888888888,
             "#fdca26"
            ],
            [
             1,
             "#f0f921"
            ]
           ]
          },
          "colorway": [
           "#636efa",
           "#EF553B",
           "#00cc96",
           "#ab63fa",
           "#FFA15A",
           "#19d3f3",
           "#FF6692",
           "#B6E880",
           "#FF97FF",
           "#FECB52"
          ],
          "font": {
           "color": "#f2f5fa"
          },
          "geo": {
           "bgcolor": "rgb(17,17,17)",
           "lakecolor": "rgb(17,17,17)",
           "landcolor": "rgb(17,17,17)",
           "showlakes": true,
           "showland": true,
           "subunitcolor": "#506784"
          },
          "hoverlabel": {
           "align": "left"
          },
          "hovermode": "closest",
          "mapbox": {
           "style": "dark"
          },
          "paper_bgcolor": "rgb(17,17,17)",
          "plot_bgcolor": "rgb(17,17,17)",
          "polar": {
           "angularaxis": {
            "gridcolor": "#506784",
            "linecolor": "#506784",
            "ticks": ""
           },
           "bgcolor": "rgb(17,17,17)",
           "radialaxis": {
            "gridcolor": "#506784",
            "linecolor": "#506784",
            "ticks": ""
           }
          },
          "scene": {
           "xaxis": {
            "backgroundcolor": "rgb(17,17,17)",
            "gridcolor": "#506784",
            "gridwidth": 2,
            "linecolor": "#506784",
            "showbackground": true,
            "ticks": "",
            "zerolinecolor": "#C8D4E3"
           },
           "yaxis": {
            "backgroundcolor": "rgb(17,17,17)",
            "gridcolor": "#506784",
            "gridwidth": 2,
            "linecolor": "#506784",
            "showbackground": true,
            "ticks": "",
            "zerolinecolor": "#C8D4E3"
           },
           "zaxis": {
            "backgroundcolor": "rgb(17,17,17)",
            "gridcolor": "#506784",
            "gridwidth": 2,
            "linecolor": "#506784",
            "showbackground": true,
            "ticks": "",
            "zerolinecolor": "#C8D4E3"
           }
          },
          "shapedefaults": {
           "line": {
            "color": "#f2f5fa"
           }
          },
          "sliderdefaults": {
           "bgcolor": "#C8D4E3",
           "bordercolor": "rgb(17,17,17)",
           "borderwidth": 1,
           "tickwidth": 0
          },
          "ternary": {
           "aaxis": {
            "gridcolor": "#506784",
            "linecolor": "#506784",
            "ticks": ""
           },
           "baxis": {
            "gridcolor": "#506784",
            "linecolor": "#506784",
            "ticks": ""
           },
           "bgcolor": "rgb(17,17,17)",
           "caxis": {
            "gridcolor": "#506784",
            "linecolor": "#506784",
            "ticks": ""
           }
          },
          "title": {
           "x": 0.05
          },
          "updatemenudefaults": {
           "bgcolor": "#506784",
           "borderwidth": 0
          },
          "xaxis": {
           "automargin": true,
           "gridcolor": "#283442",
           "linecolor": "#506784",
           "ticks": "",
           "title": {
            "standoff": 15
           },
           "zerolinecolor": "#283442",
           "zerolinewidth": 2
          },
          "yaxis": {
           "automargin": true,
           "gridcolor": "#283442",
           "linecolor": "#506784",
           "ticks": "",
           "title": {
            "standoff": 15
           },
           "zerolinecolor": "#283442",
           "zerolinewidth": 2
          }
         }
        },
        "title": {
         "text": "Distribution of the Predicted Errors<br><span style=\"font-size: 12.5px; color: lightgrey;\"> -- Histogram shows the frequency of each predicted error.</span>"
        },
        "width": 700,
        "xaxis": {
         "tickmode": "array",
         "ticktext": [
          "1990",
          "1995",
          "2000",
          "2005",
          "2010",
          "2015",
          "2020"
         ],
         "tickvals": [
          2,
          22,
          42,
          62,
          82,
          102,
          122
         ],
         "title": {
          "text": "Time Ranges"
         }
        },
        "yaxis": {
         "title": {
          "text": "YoY Growth (%)"
         }
        }
       }
      }
     },
     "metadata": {},
     "output_type": "display_data"
    }
   ],
   "source": [
    "# detailed performance\n",
    "fig2_1, fig2_2 = PA.detail_perf(model='LinR', ma=1, fp=6, sc=1)\n",
    "fig2_1.show()\n",
    "fig2_2.show()"
   ]
  },
  {
   "cell_type": "code",
   "execution_count": 9,
   "metadata": {},
   "outputs": [
    {
     "name": "stdout",
     "output_type": "stream",
     "text": [
      "YoY:  [17.12246611]\n",
      "[4534.95844043]\n",
      "\n",
      "YoY:  [11.34064904 18.6104934 ]\n",
      "[4311.08764087 4839.43872961]\n",
      "\n",
      "YoY:  [21.64352171 15.26841803 19.52974282]\n",
      "[4710.01280817 4703.07837486 4589.34447538]\n",
      "\n",
      "YoY:  [13.75609013 13.34912604 13.73182425 13.58160743]\n",
      "[4404.61303625 4624.76914831 4366.73339194 4630.2679193 ]\n",
      "\n",
      "YoY:  [13.0230205  13.65203047 14.79525783 12.74256379 16.0973068 ]\n",
      "[4376.22872697 4637.12798251 4407.56392436 4596.06346573 4609.23711242]\n",
      "\n",
      "YoY:  [11.59785535 13.98034165 12.21249451 12.38016438 12.62938223 13.92319243]\n",
      "[4321.04661773 4650.52344031 4308.39872674 4581.28989103 4471.55530866\n",
      " 4681.45720558]\n",
      "\n"
     ]
    }
   ],
   "source": [
    "future = PA.futures['LinR']\n",
    "for i in future.keys():\n",
    "    for j in future[i].keys():\n",
    "        if j == '1MA':\n",
    "            yoy_mean = np.min(future[i][j], axis=0)\n",
    "            print(\"YoY: \", yoy_mean)\n",
    "            r = 12 - int(i[0])\n",
    "            act_prices = df['SP500_Price'][-12:-r].values * (yoy_mean/100+1)\n",
    "            print(act_prices)\n",
    "            print('')"
   ]
  },
  {
   "cell_type": "markdown",
   "metadata": {},
   "source": [
    "### Logistic Regression"
   ]
  },
  {
   "cell_type": "code",
   "execution_count": 10,
   "metadata": {},
   "outputs": [
    {
     "data": {
      "application/vnd.plotly.v1+json": {
       "config": {
        "plotlyServerURL": "https://plot.ly"
       },
       "data": [
        {
         "error_y": {
          "array": [
           0.018238215857588336,
           0.03466817549523393,
           0.031409543308424936,
           0.01461886564229986,
           0.013800619419238158,
           0.013624511202887213
          ],
          "arrayminus": [
           0.015117342817313362,
           0.019909413758919525,
           0.025912538066497848,
           0.01818301387490817,
           0.026377201078178647,
           0.019055227359204285
          ]
         },
         "hovertemplate": "SC=1<br>MA=%{x}<br>ACC_mean=%{y}<extra></extra>",
         "legendgroup": "1",
         "marker": {
          "color": "#636efa",
          "symbol": "circle"
         },
         "mode": "markers",
         "name": "1",
         "orientation": "v",
         "showlegend": true,
         "type": "scatter",
         "x": [
          1,
          2,
          3,
          4,
          5,
          6
         ],
         "xaxis": "x",
         "y": [
          0.8399348610654885,
          0.8711289259540415,
          0.8911086164978705,
          0.8977898934817877,
          0.9081506000929571,
          0.9079441162480933
         ],
         "yaxis": "y"
        },
        {
         "error_y": {
          "array": [
           0.02359233470580302,
           0.034472610574498797,
           0.02105716130118207,
           0.015248630889643566,
           0.015916175332475246,
           0.011603464363003857
          ],
          "arrayminus": [
           0.01970029115981553,
           0.02043489502229634,
           0.01955315062019669,
           0.020030328779560014,
           0.02694096752466768,
           0.021257828302210457
          ]
         },
         "hovertemplate": "SC=3<br>MA=%{x}<br>ACC_mean=%{y}<extra></extra>",
         "legendgroup": "3",
         "marker": {
          "color": "#EF553B",
          "symbol": "circle"
         },
         "mode": "markers",
         "name": "3",
         "orientation": "v",
         "showlegend": true,
         "type": "scatter",
         "x": [
          1,
          2,
          3,
          4,
          5,
          6
         ],
         "xaxis": "x",
         "y": [
          0.8177538191403508,
          0.8375080657540036,
          0.8651413859143143,
          0.8652391739884052,
          0.8840838246675249,
          0.8854553591664079
         ],
         "yaxis": "y"
        },
        {
         "error_y": {
          "array": [
           0.024882700019824067,
           0.031004538512854674,
           0.02723175160297997,
           0.014821919432605246,
           0.018430201376283817,
           0.010800871761673103
          ],
          "arrayminus": [
           0.02098923522254914,
           0.026601211457688456,
           0.025781826709701083,
           0.028357955864058315,
           0.03198431262107293,
           0.017285547991413353
          ]
         },
         "hovertemplate": "SC=6<br>MA=%{x}<br>ACC_mean=%{y}<extra></extra>",
         "legendgroup": "6",
         "marker": {
          "color": "#00cc96",
          "symbol": "circle"
         },
         "mode": "markers",
         "name": "6",
         "orientation": "v",
         "showlegend": true,
         "type": "scatter",
         "x": [
          1,
          2,
          3,
          4,
          5,
          6
         ],
         "xaxis": "x",
         "y": [
          0.8044442230570991,
          0.814406089506469,
          0.8468602580822501,
          0.8416257691318716,
          0.864496627892009,
          0.8641991282383269
         ],
         "yaxis": "y"
        }
       ],
       "layout": {
        "height": 300,
        "legend": {
         "title": {
          "text": "SC"
         },
         "tracegroupgap": 0
        },
        "margin": {
         "b": 50,
         "l": 30,
         "r": 30,
         "t": 50
        },
        "showlegend": false,
        "template": {
         "data": {
          "bar": [
           {
            "error_x": {
             "color": "#f2f5fa"
            },
            "error_y": {
             "color": "#f2f5fa"
            },
            "marker": {
             "line": {
              "color": "rgb(17,17,17)",
              "width": 0.5
             },
             "pattern": {
              "fillmode": "overlay",
              "size": 10,
              "solidity": 0.2
             }
            },
            "type": "bar"
           }
          ],
          "barpolar": [
           {
            "marker": {
             "line": {
              "color": "rgb(17,17,17)",
              "width": 0.5
             },
             "pattern": {
              "fillmode": "overlay",
              "size": 10,
              "solidity": 0.2
             }
            },
            "type": "barpolar"
           }
          ],
          "carpet": [
           {
            "aaxis": {
             "endlinecolor": "#A2B1C6",
             "gridcolor": "#506784",
             "linecolor": "#506784",
             "minorgridcolor": "#506784",
             "startlinecolor": "#A2B1C6"
            },
            "baxis": {
             "endlinecolor": "#A2B1C6",
             "gridcolor": "#506784",
             "linecolor": "#506784",
             "minorgridcolor": "#506784",
             "startlinecolor": "#A2B1C6"
            },
            "type": "carpet"
           }
          ],
          "choropleth": [
           {
            "colorbar": {
             "outlinewidth": 0,
             "ticks": ""
            },
            "type": "choropleth"
           }
          ],
          "contour": [
           {
            "colorbar": {
             "outlinewidth": 0,
             "ticks": ""
            },
            "colorscale": [
             [
              0,
              "#0d0887"
             ],
             [
              0.1111111111111111,
              "#46039f"
             ],
             [
              0.2222222222222222,
              "#7201a8"
             ],
             [
              0.3333333333333333,
              "#9c179e"
             ],
             [
              0.4444444444444444,
              "#bd3786"
             ],
             [
              0.5555555555555556,
              "#d8576b"
             ],
             [
              0.6666666666666666,
              "#ed7953"
             ],
             [
              0.7777777777777778,
              "#fb9f3a"
             ],
             [
              0.8888888888888888,
              "#fdca26"
             ],
             [
              1,
              "#f0f921"
             ]
            ],
            "type": "contour"
           }
          ],
          "contourcarpet": [
           {
            "colorbar": {
             "outlinewidth": 0,
             "ticks": ""
            },
            "type": "contourcarpet"
           }
          ],
          "heatmap": [
           {
            "colorbar": {
             "outlinewidth": 0,
             "ticks": ""
            },
            "colorscale": [
             [
              0,
              "#0d0887"
             ],
             [
              0.1111111111111111,
              "#46039f"
             ],
             [
              0.2222222222222222,
              "#7201a8"
             ],
             [
              0.3333333333333333,
              "#9c179e"
             ],
             [
              0.4444444444444444,
              "#bd3786"
             ],
             [
              0.5555555555555556,
              "#d8576b"
             ],
             [
              0.6666666666666666,
              "#ed7953"
             ],
             [
              0.7777777777777778,
              "#fb9f3a"
             ],
             [
              0.8888888888888888,
              "#fdca26"
             ],
             [
              1,
              "#f0f921"
             ]
            ],
            "type": "heatmap"
           }
          ],
          "heatmapgl": [
           {
            "colorbar": {
             "outlinewidth": 0,
             "ticks": ""
            },
            "colorscale": [
             [
              0,
              "#0d0887"
             ],
             [
              0.1111111111111111,
              "#46039f"
             ],
             [
              0.2222222222222222,
              "#7201a8"
             ],
             [
              0.3333333333333333,
              "#9c179e"
             ],
             [
              0.4444444444444444,
              "#bd3786"
             ],
             [
              0.5555555555555556,
              "#d8576b"
             ],
             [
              0.6666666666666666,
              "#ed7953"
             ],
             [
              0.7777777777777778,
              "#fb9f3a"
             ],
             [
              0.8888888888888888,
              "#fdca26"
             ],
             [
              1,
              "#f0f921"
             ]
            ],
            "type": "heatmapgl"
           }
          ],
          "histogram": [
           {
            "marker": {
             "pattern": {
              "fillmode": "overlay",
              "size": 10,
              "solidity": 0.2
             }
            },
            "type": "histogram"
           }
          ],
          "histogram2d": [
           {
            "colorbar": {
             "outlinewidth": 0,
             "ticks": ""
            },
            "colorscale": [
             [
              0,
              "#0d0887"
             ],
             [
              0.1111111111111111,
              "#46039f"
             ],
             [
              0.2222222222222222,
              "#7201a8"
             ],
             [
              0.3333333333333333,
              "#9c179e"
             ],
             [
              0.4444444444444444,
              "#bd3786"
             ],
             [
              0.5555555555555556,
              "#d8576b"
             ],
             [
              0.6666666666666666,
              "#ed7953"
             ],
             [
              0.7777777777777778,
              "#fb9f3a"
             ],
             [
              0.8888888888888888,
              "#fdca26"
             ],
             [
              1,
              "#f0f921"
             ]
            ],
            "type": "histogram2d"
           }
          ],
          "histogram2dcontour": [
           {
            "colorbar": {
             "outlinewidth": 0,
             "ticks": ""
            },
            "colorscale": [
             [
              0,
              "#0d0887"
             ],
             [
              0.1111111111111111,
              "#46039f"
             ],
             [
              0.2222222222222222,
              "#7201a8"
             ],
             [
              0.3333333333333333,
              "#9c179e"
             ],
             [
              0.4444444444444444,
              "#bd3786"
             ],
             [
              0.5555555555555556,
              "#d8576b"
             ],
             [
              0.6666666666666666,
              "#ed7953"
             ],
             [
              0.7777777777777778,
              "#fb9f3a"
             ],
             [
              0.8888888888888888,
              "#fdca26"
             ],
             [
              1,
              "#f0f921"
             ]
            ],
            "type": "histogram2dcontour"
           }
          ],
          "mesh3d": [
           {
            "colorbar": {
             "outlinewidth": 0,
             "ticks": ""
            },
            "type": "mesh3d"
           }
          ],
          "parcoords": [
           {
            "line": {
             "colorbar": {
              "outlinewidth": 0,
              "ticks": ""
             }
            },
            "type": "parcoords"
           }
          ],
          "pie": [
           {
            "automargin": true,
            "type": "pie"
           }
          ],
          "scatter": [
           {
            "marker": {
             "line": {
              "color": "#283442"
             }
            },
            "type": "scatter"
           }
          ],
          "scatter3d": [
           {
            "line": {
             "colorbar": {
              "outlinewidth": 0,
              "ticks": ""
             }
            },
            "marker": {
             "colorbar": {
              "outlinewidth": 0,
              "ticks": ""
             }
            },
            "type": "scatter3d"
           }
          ],
          "scattercarpet": [
           {
            "marker": {
             "colorbar": {
              "outlinewidth": 0,
              "ticks": ""
             }
            },
            "type": "scattercarpet"
           }
          ],
          "scattergeo": [
           {
            "marker": {
             "colorbar": {
              "outlinewidth": 0,
              "ticks": ""
             }
            },
            "type": "scattergeo"
           }
          ],
          "scattergl": [
           {
            "marker": {
             "line": {
              "color": "#283442"
             }
            },
            "type": "scattergl"
           }
          ],
          "scattermapbox": [
           {
            "marker": {
             "colorbar": {
              "outlinewidth": 0,
              "ticks": ""
             }
            },
            "type": "scattermapbox"
           }
          ],
          "scatterpolar": [
           {
            "marker": {
             "colorbar": {
              "outlinewidth": 0,
              "ticks": ""
             }
            },
            "type": "scatterpolar"
           }
          ],
          "scatterpolargl": [
           {
            "marker": {
             "colorbar": {
              "outlinewidth": 0,
              "ticks": ""
             }
            },
            "type": "scatterpolargl"
           }
          ],
          "scatterternary": [
           {
            "marker": {
             "colorbar": {
              "outlinewidth": 0,
              "ticks": ""
             }
            },
            "type": "scatterternary"
           }
          ],
          "surface": [
           {
            "colorbar": {
             "outlinewidth": 0,
             "ticks": ""
            },
            "colorscale": [
             [
              0,
              "#0d0887"
             ],
             [
              0.1111111111111111,
              "#46039f"
             ],
             [
              0.2222222222222222,
              "#7201a8"
             ],
             [
              0.3333333333333333,
              "#9c179e"
             ],
             [
              0.4444444444444444,
              "#bd3786"
             ],
             [
              0.5555555555555556,
              "#d8576b"
             ],
             [
              0.6666666666666666,
              "#ed7953"
             ],
             [
              0.7777777777777778,
              "#fb9f3a"
             ],
             [
              0.8888888888888888,
              "#fdca26"
             ],
             [
              1,
              "#f0f921"
             ]
            ],
            "type": "surface"
           }
          ],
          "table": [
           {
            "cells": {
             "fill": {
              "color": "#506784"
             },
             "line": {
              "color": "rgb(17,17,17)"
             }
            },
            "header": {
             "fill": {
              "color": "#2a3f5f"
             },
             "line": {
              "color": "rgb(17,17,17)"
             }
            },
            "type": "table"
           }
          ]
         },
         "layout": {
          "annotationdefaults": {
           "arrowcolor": "#f2f5fa",
           "arrowhead": 0,
           "arrowwidth": 1
          },
          "autotypenumbers": "strict",
          "coloraxis": {
           "colorbar": {
            "outlinewidth": 0,
            "ticks": ""
           }
          },
          "colorscale": {
           "diverging": [
            [
             0,
             "#8e0152"
            ],
            [
             0.1,
             "#c51b7d"
            ],
            [
             0.2,
             "#de77ae"
            ],
            [
             0.3,
             "#f1b6da"
            ],
            [
             0.4,
             "#fde0ef"
            ],
            [
             0.5,
             "#f7f7f7"
            ],
            [
             0.6,
             "#e6f5d0"
            ],
            [
             0.7,
             "#b8e186"
            ],
            [
             0.8,
             "#7fbc41"
            ],
            [
             0.9,
             "#4d9221"
            ],
            [
             1,
             "#276419"
            ]
           ],
           "sequential": [
            [
             0,
             "#0d0887"
            ],
            [
             0.1111111111111111,
             "#46039f"
            ],
            [
             0.2222222222222222,
             "#7201a8"
            ],
            [
             0.3333333333333333,
             "#9c179e"
            ],
            [
             0.4444444444444444,
             "#bd3786"
            ],
            [
             0.5555555555555556,
             "#d8576b"
            ],
            [
             0.6666666666666666,
             "#ed7953"
            ],
            [
             0.7777777777777778,
             "#fb9f3a"
            ],
            [
             0.8888888888888888,
             "#fdca26"
            ],
            [
             1,
             "#f0f921"
            ]
           ],
           "sequentialminus": [
            [
             0,
             "#0d0887"
            ],
            [
             0.1111111111111111,
             "#46039f"
            ],
            [
             0.2222222222222222,
             "#7201a8"
            ],
            [
             0.3333333333333333,
             "#9c179e"
            ],
            [
             0.4444444444444444,
             "#bd3786"
            ],
            [
             0.5555555555555556,
             "#d8576b"
            ],
            [
             0.6666666666666666,
             "#ed7953"
            ],
            [
             0.7777777777777778,
             "#fb9f3a"
            ],
            [
             0.8888888888888888,
             "#fdca26"
            ],
            [
             1,
             "#f0f921"
            ]
           ]
          },
          "colorway": [
           "#636efa",
           "#EF553B",
           "#00cc96",
           "#ab63fa",
           "#FFA15A",
           "#19d3f3",
           "#FF6692",
           "#B6E880",
           "#FF97FF",
           "#FECB52"
          ],
          "font": {
           "color": "#f2f5fa"
          },
          "geo": {
           "bgcolor": "rgb(17,17,17)",
           "lakecolor": "rgb(17,17,17)",
           "landcolor": "rgb(17,17,17)",
           "showlakes": true,
           "showland": true,
           "subunitcolor": "#506784"
          },
          "hoverlabel": {
           "align": "left"
          },
          "hovermode": "closest",
          "mapbox": {
           "style": "dark"
          },
          "paper_bgcolor": "rgb(17,17,17)",
          "plot_bgcolor": "rgb(17,17,17)",
          "polar": {
           "angularaxis": {
            "gridcolor": "#506784",
            "linecolor": "#506784",
            "ticks": ""
           },
           "bgcolor": "rgb(17,17,17)",
           "radialaxis": {
            "gridcolor": "#506784",
            "linecolor": "#506784",
            "ticks": ""
           }
          },
          "scene": {
           "xaxis": {
            "backgroundcolor": "rgb(17,17,17)",
            "gridcolor": "#506784",
            "gridwidth": 2,
            "linecolor": "#506784",
            "showbackground": true,
            "ticks": "",
            "zerolinecolor": "#C8D4E3"
           },
           "yaxis": {
            "backgroundcolor": "rgb(17,17,17)",
            "gridcolor": "#506784",
            "gridwidth": 2,
            "linecolor": "#506784",
            "showbackground": true,
            "ticks": "",
            "zerolinecolor": "#C8D4E3"
           },
           "zaxis": {
            "backgroundcolor": "rgb(17,17,17)",
            "gridcolor": "#506784",
            "gridwidth": 2,
            "linecolor": "#506784",
            "showbackground": true,
            "ticks": "",
            "zerolinecolor": "#C8D4E3"
           }
          },
          "shapedefaults": {
           "line": {
            "color": "#f2f5fa"
           }
          },
          "sliderdefaults": {
           "bgcolor": "#C8D4E3",
           "bordercolor": "rgb(17,17,17)",
           "borderwidth": 1,
           "tickwidth": 0
          },
          "ternary": {
           "aaxis": {
            "gridcolor": "#506784",
            "linecolor": "#506784",
            "ticks": ""
           },
           "baxis": {
            "gridcolor": "#506784",
            "linecolor": "#506784",
            "ticks": ""
           },
           "bgcolor": "rgb(17,17,17)",
           "caxis": {
            "gridcolor": "#506784",
            "linecolor": "#506784",
            "ticks": ""
           }
          },
          "title": {
           "x": 0.05
          },
          "updatemenudefaults": {
           "bgcolor": "#506784",
           "borderwidth": 0
          },
          "xaxis": {
           "automargin": true,
           "gridcolor": "#283442",
           "linecolor": "#506784",
           "ticks": "",
           "title": {
            "standoff": 15
           },
           "zerolinecolor": "#283442",
           "zerolinewidth": 2
          },
          "yaxis": {
           "automargin": true,
           "gridcolor": "#283442",
           "linecolor": "#506784",
           "ticks": "",
           "title": {
            "standoff": 15
           },
           "zerolinecolor": "#283442",
           "zerolinewidth": 2
          }
         }
        },
        "title": {
         "text": "Accuracy",
         "x": 0.5,
         "xanchor": "center"
        },
        "width": 400,
        "xaxis": {
         "anchor": "y",
         "domain": [
          0,
          1
         ],
         "title": {
          "font": {
           "color": "lightgrey"
          },
          "text": "Moving Averages"
         }
        },
        "yaxis": {
         "anchor": "x",
         "domain": [
          0,
          1
         ],
         "title": {
          "text": ""
         }
        }
       }
      }
     },
     "metadata": {},
     "output_type": "display_data"
    },
    {
     "data": {
      "application/vnd.plotly.v1+json": {
       "config": {
        "plotlyServerURL": "https://plot.ly"
       },
       "data": [
        {
         "error_y": {
          "array": [
           0.010208993414962397,
           0.007887972658878528,
           0.008132860787499196,
           0.004043937193181413,
           0.0043379028750950566,
           0.002495701126499661
          ],
          "arrayminus": [
           0.007800619585025759,
           0.007218093505691359,
           0.006754621190812049,
           0.006120202144340392,
           0.0058931202272152206,
           0.0067504644342530895
          ]
         },
         "hovertemplate": "SC=1<br>MA=%{x}<br>PRE_mean=%{y}<extra></extra>",
         "legendgroup": "1",
         "marker": {
          "color": "#636efa",
          "symbol": "circle"
         },
         "mode": "markers",
         "name": "1",
         "orientation": "v",
         "showlegend": true,
         "type": "scatter",
         "x": [
          1,
          2,
          3,
          4,
          5,
          6
         ],
         "xaxis": "x",
         "y": [
          0.9385964673358909,
          0.9535268183379063,
          0.963565252420048,
          0.9662530925097889,
          0.9725597868938817,
          0.9722677058135635
         ],
         "yaxis": "y"
        },
        {
         "error_y": {
          "array": [
           0.00809067301661981,
           0.009736999658426893,
           0.010187653149141718,
           0.005481185512203557,
           0.007237268627213189,
           0.005708713296680212
          ],
          "arrayminus": [
           0.012835977060403514,
           0.008677239823773775,
           0.007541813891682181,
           0.00648467930753549,
           0.007820786525181589,
           0.00825136630290979
          ]
         },
         "hovertemplate": "SC=3<br>MA=%{x}<br>PRE_mean=%{y}<extra></extra>",
         "legendgroup": "3",
         "marker": {
          "color": "#EF553B",
          "symbol": "circle"
         },
         "mode": "markers",
         "name": "3",
         "orientation": "v",
         "showlegend": true,
         "type": "scatter",
         "x": [
          1,
          2,
          3,
          4,
          5,
          6
         ],
         "xaxis": "x",
         "y": [
          0.9231808046466105,
          0.9320105731571071,
          0.947741149439855,
          0.9459751251674081,
          0.9575063211163766,
          0.9554563352470091
         ],
         "yaxis": "y"
        },
        {
         "error_y": {
          "array": [
           0.005555710530544933,
           0.005988984558380928,
           0.0054901074404222205,
           0.009352468765228772,
           0.0065070552131504256,
           0.0035951995338379117
          ],
          "arrayminus": [
           0.009805374720153304,
           0.0054082340422274555,
           0.005751722624937283,
           0.009097790882464984,
           0.006830363087503177,
           0.00792242242776331
          ]
         },
         "hovertemplate": "SC=6<br>MA=%{x}<br>PRE_mean=%{y}<extra></extra>",
         "legendgroup": "6",
         "marker": {
          "color": "#00cc96",
          "symbol": "circle"
         },
         "mode": "markers",
         "name": "6",
         "orientation": "v",
         "showlegend": true,
         "type": "scatter",
         "x": [
          1,
          2,
          3,
          4,
          5,
          6
         ],
         "xaxis": "x",
         "y": [
          0.9070656486927561,
          0.9138828103134138,
          0.9324183892916037,
          0.9283524492675581,
          0.9412053630875031,
          0.9420917014246286
         ],
         "yaxis": "y"
        }
       ],
       "layout": {
        "height": 300,
        "legend": {
         "title": {
          "text": "SC"
         },
         "tracegroupgap": 0
        },
        "margin": {
         "b": 50,
         "l": 30,
         "r": 30,
         "t": 50
        },
        "showlegend": false,
        "template": {
         "data": {
          "bar": [
           {
            "error_x": {
             "color": "#f2f5fa"
            },
            "error_y": {
             "color": "#f2f5fa"
            },
            "marker": {
             "line": {
              "color": "rgb(17,17,17)",
              "width": 0.5
             },
             "pattern": {
              "fillmode": "overlay",
              "size": 10,
              "solidity": 0.2
             }
            },
            "type": "bar"
           }
          ],
          "barpolar": [
           {
            "marker": {
             "line": {
              "color": "rgb(17,17,17)",
              "width": 0.5
             },
             "pattern": {
              "fillmode": "overlay",
              "size": 10,
              "solidity": 0.2
             }
            },
            "type": "barpolar"
           }
          ],
          "carpet": [
           {
            "aaxis": {
             "endlinecolor": "#A2B1C6",
             "gridcolor": "#506784",
             "linecolor": "#506784",
             "minorgridcolor": "#506784",
             "startlinecolor": "#A2B1C6"
            },
            "baxis": {
             "endlinecolor": "#A2B1C6",
             "gridcolor": "#506784",
             "linecolor": "#506784",
             "minorgridcolor": "#506784",
             "startlinecolor": "#A2B1C6"
            },
            "type": "carpet"
           }
          ],
          "choropleth": [
           {
            "colorbar": {
             "outlinewidth": 0,
             "ticks": ""
            },
            "type": "choropleth"
           }
          ],
          "contour": [
           {
            "colorbar": {
             "outlinewidth": 0,
             "ticks": ""
            },
            "colorscale": [
             [
              0,
              "#0d0887"
             ],
             [
              0.1111111111111111,
              "#46039f"
             ],
             [
              0.2222222222222222,
              "#7201a8"
             ],
             [
              0.3333333333333333,
              "#9c179e"
             ],
             [
              0.4444444444444444,
              "#bd3786"
             ],
             [
              0.5555555555555556,
              "#d8576b"
             ],
             [
              0.6666666666666666,
              "#ed7953"
             ],
             [
              0.7777777777777778,
              "#fb9f3a"
             ],
             [
              0.8888888888888888,
              "#fdca26"
             ],
             [
              1,
              "#f0f921"
             ]
            ],
            "type": "contour"
           }
          ],
          "contourcarpet": [
           {
            "colorbar": {
             "outlinewidth": 0,
             "ticks": ""
            },
            "type": "contourcarpet"
           }
          ],
          "heatmap": [
           {
            "colorbar": {
             "outlinewidth": 0,
             "ticks": ""
            },
            "colorscale": [
             [
              0,
              "#0d0887"
             ],
             [
              0.1111111111111111,
              "#46039f"
             ],
             [
              0.2222222222222222,
              "#7201a8"
             ],
             [
              0.3333333333333333,
              "#9c179e"
             ],
             [
              0.4444444444444444,
              "#bd3786"
             ],
             [
              0.5555555555555556,
              "#d8576b"
             ],
             [
              0.6666666666666666,
              "#ed7953"
             ],
             [
              0.7777777777777778,
              "#fb9f3a"
             ],
             [
              0.8888888888888888,
              "#fdca26"
             ],
             [
              1,
              "#f0f921"
             ]
            ],
            "type": "heatmap"
           }
          ],
          "heatmapgl": [
           {
            "colorbar": {
             "outlinewidth": 0,
             "ticks": ""
            },
            "colorscale": [
             [
              0,
              "#0d0887"
             ],
             [
              0.1111111111111111,
              "#46039f"
             ],
             [
              0.2222222222222222,
              "#7201a8"
             ],
             [
              0.3333333333333333,
              "#9c179e"
             ],
             [
              0.4444444444444444,
              "#bd3786"
             ],
             [
              0.5555555555555556,
              "#d8576b"
             ],
             [
              0.6666666666666666,
              "#ed7953"
             ],
             [
              0.7777777777777778,
              "#fb9f3a"
             ],
             [
              0.8888888888888888,
              "#fdca26"
             ],
             [
              1,
              "#f0f921"
             ]
            ],
            "type": "heatmapgl"
           }
          ],
          "histogram": [
           {
            "marker": {
             "pattern": {
              "fillmode": "overlay",
              "size": 10,
              "solidity": 0.2
             }
            },
            "type": "histogram"
           }
          ],
          "histogram2d": [
           {
            "colorbar": {
             "outlinewidth": 0,
             "ticks": ""
            },
            "colorscale": [
             [
              0,
              "#0d0887"
             ],
             [
              0.1111111111111111,
              "#46039f"
             ],
             [
              0.2222222222222222,
              "#7201a8"
             ],
             [
              0.3333333333333333,
              "#9c179e"
             ],
             [
              0.4444444444444444,
              "#bd3786"
             ],
             [
              0.5555555555555556,
              "#d8576b"
             ],
             [
              0.6666666666666666,
              "#ed7953"
             ],
             [
              0.7777777777777778,
              "#fb9f3a"
             ],
             [
              0.8888888888888888,
              "#fdca26"
             ],
             [
              1,
              "#f0f921"
             ]
            ],
            "type": "histogram2d"
           }
          ],
          "histogram2dcontour": [
           {
            "colorbar": {
             "outlinewidth": 0,
             "ticks": ""
            },
            "colorscale": [
             [
              0,
              "#0d0887"
             ],
             [
              0.1111111111111111,
              "#46039f"
             ],
             [
              0.2222222222222222,
              "#7201a8"
             ],
             [
              0.3333333333333333,
              "#9c179e"
             ],
             [
              0.4444444444444444,
              "#bd3786"
             ],
             [
              0.5555555555555556,
              "#d8576b"
             ],
             [
              0.6666666666666666,
              "#ed7953"
             ],
             [
              0.7777777777777778,
              "#fb9f3a"
             ],
             [
              0.8888888888888888,
              "#fdca26"
             ],
             [
              1,
              "#f0f921"
             ]
            ],
            "type": "histogram2dcontour"
           }
          ],
          "mesh3d": [
           {
            "colorbar": {
             "outlinewidth": 0,
             "ticks": ""
            },
            "type": "mesh3d"
           }
          ],
          "parcoords": [
           {
            "line": {
             "colorbar": {
              "outlinewidth": 0,
              "ticks": ""
             }
            },
            "type": "parcoords"
           }
          ],
          "pie": [
           {
            "automargin": true,
            "type": "pie"
           }
          ],
          "scatter": [
           {
            "marker": {
             "line": {
              "color": "#283442"
             }
            },
            "type": "scatter"
           }
          ],
          "scatter3d": [
           {
            "line": {
             "colorbar": {
              "outlinewidth": 0,
              "ticks": ""
             }
            },
            "marker": {
             "colorbar": {
              "outlinewidth": 0,
              "ticks": ""
             }
            },
            "type": "scatter3d"
           }
          ],
          "scattercarpet": [
           {
            "marker": {
             "colorbar": {
              "outlinewidth": 0,
              "ticks": ""
             }
            },
            "type": "scattercarpet"
           }
          ],
          "scattergeo": [
           {
            "marker": {
             "colorbar": {
              "outlinewidth": 0,
              "ticks": ""
             }
            },
            "type": "scattergeo"
           }
          ],
          "scattergl": [
           {
            "marker": {
             "line": {
              "color": "#283442"
             }
            },
            "type": "scattergl"
           }
          ],
          "scattermapbox": [
           {
            "marker": {
             "colorbar": {
              "outlinewidth": 0,
              "ticks": ""
             }
            },
            "type": "scattermapbox"
           }
          ],
          "scatterpolar": [
           {
            "marker": {
             "colorbar": {
              "outlinewidth": 0,
              "ticks": ""
             }
            },
            "type": "scatterpolar"
           }
          ],
          "scatterpolargl": [
           {
            "marker": {
             "colorbar": {
              "outlinewidth": 0,
              "ticks": ""
             }
            },
            "type": "scatterpolargl"
           }
          ],
          "scatterternary": [
           {
            "marker": {
             "colorbar": {
              "outlinewidth": 0,
              "ticks": ""
             }
            },
            "type": "scatterternary"
           }
          ],
          "surface": [
           {
            "colorbar": {
             "outlinewidth": 0,
             "ticks": ""
            },
            "colorscale": [
             [
              0,
              "#0d0887"
             ],
             [
              0.1111111111111111,
              "#46039f"
             ],
             [
              0.2222222222222222,
              "#7201a8"
             ],
             [
              0.3333333333333333,
              "#9c179e"
             ],
             [
              0.4444444444444444,
              "#bd3786"
             ],
             [
              0.5555555555555556,
              "#d8576b"
             ],
             [
              0.6666666666666666,
              "#ed7953"
             ],
             [
              0.7777777777777778,
              "#fb9f3a"
             ],
             [
              0.8888888888888888,
              "#fdca26"
             ],
             [
              1,
              "#f0f921"
             ]
            ],
            "type": "surface"
           }
          ],
          "table": [
           {
            "cells": {
             "fill": {
              "color": "#506784"
             },
             "line": {
              "color": "rgb(17,17,17)"
             }
            },
            "header": {
             "fill": {
              "color": "#2a3f5f"
             },
             "line": {
              "color": "rgb(17,17,17)"
             }
            },
            "type": "table"
           }
          ]
         },
         "layout": {
          "annotationdefaults": {
           "arrowcolor": "#f2f5fa",
           "arrowhead": 0,
           "arrowwidth": 1
          },
          "autotypenumbers": "strict",
          "coloraxis": {
           "colorbar": {
            "outlinewidth": 0,
            "ticks": ""
           }
          },
          "colorscale": {
           "diverging": [
            [
             0,
             "#8e0152"
            ],
            [
             0.1,
             "#c51b7d"
            ],
            [
             0.2,
             "#de77ae"
            ],
            [
             0.3,
             "#f1b6da"
            ],
            [
             0.4,
             "#fde0ef"
            ],
            [
             0.5,
             "#f7f7f7"
            ],
            [
             0.6,
             "#e6f5d0"
            ],
            [
             0.7,
             "#b8e186"
            ],
            [
             0.8,
             "#7fbc41"
            ],
            [
             0.9,
             "#4d9221"
            ],
            [
             1,
             "#276419"
            ]
           ],
           "sequential": [
            [
             0,
             "#0d0887"
            ],
            [
             0.1111111111111111,
             "#46039f"
            ],
            [
             0.2222222222222222,
             "#7201a8"
            ],
            [
             0.3333333333333333,
             "#9c179e"
            ],
            [
             0.4444444444444444,
             "#bd3786"
            ],
            [
             0.5555555555555556,
             "#d8576b"
            ],
            [
             0.6666666666666666,
             "#ed7953"
            ],
            [
             0.7777777777777778,
             "#fb9f3a"
            ],
            [
             0.8888888888888888,
             "#fdca26"
            ],
            [
             1,
             "#f0f921"
            ]
           ],
           "sequentialminus": [
            [
             0,
             "#0d0887"
            ],
            [
             0.1111111111111111,
             "#46039f"
            ],
            [
             0.2222222222222222,
             "#7201a8"
            ],
            [
             0.3333333333333333,
             "#9c179e"
            ],
            [
             0.4444444444444444,
             "#bd3786"
            ],
            [
             0.5555555555555556,
             "#d8576b"
            ],
            [
             0.6666666666666666,
             "#ed7953"
            ],
            [
             0.7777777777777778,
             "#fb9f3a"
            ],
            [
             0.8888888888888888,
             "#fdca26"
            ],
            [
             1,
             "#f0f921"
            ]
           ]
          },
          "colorway": [
           "#636efa",
           "#EF553B",
           "#00cc96",
           "#ab63fa",
           "#FFA15A",
           "#19d3f3",
           "#FF6692",
           "#B6E880",
           "#FF97FF",
           "#FECB52"
          ],
          "font": {
           "color": "#f2f5fa"
          },
          "geo": {
           "bgcolor": "rgb(17,17,17)",
           "lakecolor": "rgb(17,17,17)",
           "landcolor": "rgb(17,17,17)",
           "showlakes": true,
           "showland": true,
           "subunitcolor": "#506784"
          },
          "hoverlabel": {
           "align": "left"
          },
          "hovermode": "closest",
          "mapbox": {
           "style": "dark"
          },
          "paper_bgcolor": "rgb(17,17,17)",
          "plot_bgcolor": "rgb(17,17,17)",
          "polar": {
           "angularaxis": {
            "gridcolor": "#506784",
            "linecolor": "#506784",
            "ticks": ""
           },
           "bgcolor": "rgb(17,17,17)",
           "radialaxis": {
            "gridcolor": "#506784",
            "linecolor": "#506784",
            "ticks": ""
           }
          },
          "scene": {
           "xaxis": {
            "backgroundcolor": "rgb(17,17,17)",
            "gridcolor": "#506784",
            "gridwidth": 2,
            "linecolor": "#506784",
            "showbackground": true,
            "ticks": "",
            "zerolinecolor": "#C8D4E3"
           },
           "yaxis": {
            "backgroundcolor": "rgb(17,17,17)",
            "gridcolor": "#506784",
            "gridwidth": 2,
            "linecolor": "#506784",
            "showbackground": true,
            "ticks": "",
            "zerolinecolor": "#C8D4E3"
           },
           "zaxis": {
            "backgroundcolor": "rgb(17,17,17)",
            "gridcolor": "#506784",
            "gridwidth": 2,
            "linecolor": "#506784",
            "showbackground": true,
            "ticks": "",
            "zerolinecolor": "#C8D4E3"
           }
          },
          "shapedefaults": {
           "line": {
            "color": "#f2f5fa"
           }
          },
          "sliderdefaults": {
           "bgcolor": "#C8D4E3",
           "bordercolor": "rgb(17,17,17)",
           "borderwidth": 1,
           "tickwidth": 0
          },
          "ternary": {
           "aaxis": {
            "gridcolor": "#506784",
            "linecolor": "#506784",
            "ticks": ""
           },
           "baxis": {
            "gridcolor": "#506784",
            "linecolor": "#506784",
            "ticks": ""
           },
           "bgcolor": "rgb(17,17,17)",
           "caxis": {
            "gridcolor": "#506784",
            "linecolor": "#506784",
            "ticks": ""
           }
          },
          "title": {
           "x": 0.05
          },
          "updatemenudefaults": {
           "bgcolor": "#506784",
           "borderwidth": 0
          },
          "xaxis": {
           "automargin": true,
           "gridcolor": "#283442",
           "linecolor": "#506784",
           "ticks": "",
           "title": {
            "standoff": 15
           },
           "zerolinecolor": "#283442",
           "zerolinewidth": 2
          },
          "yaxis": {
           "automargin": true,
           "gridcolor": "#283442",
           "linecolor": "#506784",
           "ticks": "",
           "title": {
            "standoff": 15
           },
           "zerolinecolor": "#283442",
           "zerolinewidth": 2
          }
         }
        },
        "title": {
         "text": "Precision",
         "x": 0.5,
         "xanchor": "center"
        },
        "width": 400,
        "xaxis": {
         "anchor": "y",
         "domain": [
          0,
          1
         ],
         "title": {
          "font": {
           "color": "lightgrey"
          },
          "text": "Moving Averages"
         }
        },
        "yaxis": {
         "anchor": "x",
         "domain": [
          0,
          1
         ],
         "title": {
          "text": ""
         }
        }
       }
      }
     },
     "metadata": {},
     "output_type": "display_data"
    },
    {
     "data": {
      "application/vnd.plotly.v1+json": {
       "config": {
        "plotlyServerURL": "https://plot.ly"
       },
       "data": [
        {
         "error_y": {
          "array": [
           0.02318766191539179,
           0.0383586911232604,
           0.03250455577354938,
           0.017478029841706877,
           0.015530872606332458,
           0.014700702738068339
          ],
          "arrayminus": [
           0.013039236389368991,
           0.024781955906423736,
           0.029716806740727963,
           0.02373409137041438,
           0.028033629303746865,
           0.025348437311071614
          ]
         },
         "hovertemplate": "SC=1<br>MA=%{x}<br>REC_mean=%{y}<extra></extra>",
         "legendgroup": "1",
         "marker": {
          "color": "#636efa",
          "symbol": "circle"
         },
         "mode": "markers",
         "name": "1",
         "orientation": "v",
         "showlegend": true,
         "type": "scatter",
         "x": [
          1,
          2,
          3,
          4,
          5,
          6
         ],
         "xaxis": "x",
         "y": [
          0.851045466918964,
          0.8788192229871692,
          0.8982183357927155,
          0.9037340913704144,
          0.9121799707671615,
          0.9132272251898595
         ],
         "yaxis": "y"
        },
        {
         "error_y": {
          "array": [
           0.025354794767411426,
           0.03700894994082449,
           0.03212018018175644,
           0.01784169177028272,
           0.022137995482495065,
           0.014221580056836158
          ],
          "arrayminus": [
           0.014178488874581618,
           0.029542130347252282,
           0.02426130907803503,
           0.02646974147732073,
           0.03373182526390517,
           0.02896706313180708
          ]
         },
         "hovertemplate": "SC=3<br>MA=%{x}<br>REC_mean=%{y}<extra></extra>",
         "legendgroup": "3",
         "marker": {
          "color": "#EF553B",
          "symbol": "circle"
         },
         "mode": "markers",
         "name": "3",
         "orientation": "v",
         "showlegend": true,
         "type": "scatter",
         "x": [
          1,
          2,
          3,
          4,
          5,
          6
         ],
         "xaxis": "x",
         "y": [
          0.8366083954166376,
          0.8556290868689914,
          0.8805304222278821,
          0.8818543568619361,
          0.8965367033126855,
          0.9016943358590797
         ],
         "yaxis": "y"
        },
        {
         "error_y": {
          "array": [
           0.029476597699009233,
           0.037136057705051684,
           0.0372275798665902,
           0.030585726229050758,
           0.021675733805860853,
           0.012720422250832697
          ],
          "arrayminus": [
           0.019354700200576058,
           0.03326319310243264,
           0.03449048505364116,
           0.038341091633937285,
           0.03735306431344565,
           0.02454411501370457
          ]
         },
         "hovertemplate": "SC=6<br>MA=%{x}<br>REC_mean=%{y}<extra></extra>",
         "legendgroup": "6",
         "marker": {
          "color": "#00cc96",
          "symbol": "circle"
         },
         "mode": "markers",
         "name": "6",
         "orientation": "v",
         "showlegend": true,
         "type": "scatter",
         "x": [
          1,
          2,
          3,
          4,
          5,
          6
         ],
         "xaxis": "x",
         "y": [
          0.8355540771476165,
          0.8432320404544575,
          0.8724109743502773,
          0.8691103224031681,
          0.8879628204110066,
          0.8881804786500682
         ],
         "yaxis": "y"
        }
       ],
       "layout": {
        "height": 300,
        "legend": {
         "title": {
          "text": "SC"
         },
         "tracegroupgap": 0
        },
        "margin": {
         "b": 50,
         "l": 30,
         "r": 30,
         "t": 50
        },
        "showlegend": false,
        "template": {
         "data": {
          "bar": [
           {
            "error_x": {
             "color": "#f2f5fa"
            },
            "error_y": {
             "color": "#f2f5fa"
            },
            "marker": {
             "line": {
              "color": "rgb(17,17,17)",
              "width": 0.5
             },
             "pattern": {
              "fillmode": "overlay",
              "size": 10,
              "solidity": 0.2
             }
            },
            "type": "bar"
           }
          ],
          "barpolar": [
           {
            "marker": {
             "line": {
              "color": "rgb(17,17,17)",
              "width": 0.5
             },
             "pattern": {
              "fillmode": "overlay",
              "size": 10,
              "solidity": 0.2
             }
            },
            "type": "barpolar"
           }
          ],
          "carpet": [
           {
            "aaxis": {
             "endlinecolor": "#A2B1C6",
             "gridcolor": "#506784",
             "linecolor": "#506784",
             "minorgridcolor": "#506784",
             "startlinecolor": "#A2B1C6"
            },
            "baxis": {
             "endlinecolor": "#A2B1C6",
             "gridcolor": "#506784",
             "linecolor": "#506784",
             "minorgridcolor": "#506784",
             "startlinecolor": "#A2B1C6"
            },
            "type": "carpet"
           }
          ],
          "choropleth": [
           {
            "colorbar": {
             "outlinewidth": 0,
             "ticks": ""
            },
            "type": "choropleth"
           }
          ],
          "contour": [
           {
            "colorbar": {
             "outlinewidth": 0,
             "ticks": ""
            },
            "colorscale": [
             [
              0,
              "#0d0887"
             ],
             [
              0.1111111111111111,
              "#46039f"
             ],
             [
              0.2222222222222222,
              "#7201a8"
             ],
             [
              0.3333333333333333,
              "#9c179e"
             ],
             [
              0.4444444444444444,
              "#bd3786"
             ],
             [
              0.5555555555555556,
              "#d8576b"
             ],
             [
              0.6666666666666666,
              "#ed7953"
             ],
             [
              0.7777777777777778,
              "#fb9f3a"
             ],
             [
              0.8888888888888888,
              "#fdca26"
             ],
             [
              1,
              "#f0f921"
             ]
            ],
            "type": "contour"
           }
          ],
          "contourcarpet": [
           {
            "colorbar": {
             "outlinewidth": 0,
             "ticks": ""
            },
            "type": "contourcarpet"
           }
          ],
          "heatmap": [
           {
            "colorbar": {
             "outlinewidth": 0,
             "ticks": ""
            },
            "colorscale": [
             [
              0,
              "#0d0887"
             ],
             [
              0.1111111111111111,
              "#46039f"
             ],
             [
              0.2222222222222222,
              "#7201a8"
             ],
             [
              0.3333333333333333,
              "#9c179e"
             ],
             [
              0.4444444444444444,
              "#bd3786"
             ],
             [
              0.5555555555555556,
              "#d8576b"
             ],
             [
              0.6666666666666666,
              "#ed7953"
             ],
             [
              0.7777777777777778,
              "#fb9f3a"
             ],
             [
              0.8888888888888888,
              "#fdca26"
             ],
             [
              1,
              "#f0f921"
             ]
            ],
            "type": "heatmap"
           }
          ],
          "heatmapgl": [
           {
            "colorbar": {
             "outlinewidth": 0,
             "ticks": ""
            },
            "colorscale": [
             [
              0,
              "#0d0887"
             ],
             [
              0.1111111111111111,
              "#46039f"
             ],
             [
              0.2222222222222222,
              "#7201a8"
             ],
             [
              0.3333333333333333,
              "#9c179e"
             ],
             [
              0.4444444444444444,
              "#bd3786"
             ],
             [
              0.5555555555555556,
              "#d8576b"
             ],
             [
              0.6666666666666666,
              "#ed7953"
             ],
             [
              0.7777777777777778,
              "#fb9f3a"
             ],
             [
              0.8888888888888888,
              "#fdca26"
             ],
             [
              1,
              "#f0f921"
             ]
            ],
            "type": "heatmapgl"
           }
          ],
          "histogram": [
           {
            "marker": {
             "pattern": {
              "fillmode": "overlay",
              "size": 10,
              "solidity": 0.2
             }
            },
            "type": "histogram"
           }
          ],
          "histogram2d": [
           {
            "colorbar": {
             "outlinewidth": 0,
             "ticks": ""
            },
            "colorscale": [
             [
              0,
              "#0d0887"
             ],
             [
              0.1111111111111111,
              "#46039f"
             ],
             [
              0.2222222222222222,
              "#7201a8"
             ],
             [
              0.3333333333333333,
              "#9c179e"
             ],
             [
              0.4444444444444444,
              "#bd3786"
             ],
             [
              0.5555555555555556,
              "#d8576b"
             ],
             [
              0.6666666666666666,
              "#ed7953"
             ],
             [
              0.7777777777777778,
              "#fb9f3a"
             ],
             [
              0.8888888888888888,
              "#fdca26"
             ],
             [
              1,
              "#f0f921"
             ]
            ],
            "type": "histogram2d"
           }
          ],
          "histogram2dcontour": [
           {
            "colorbar": {
             "outlinewidth": 0,
             "ticks": ""
            },
            "colorscale": [
             [
              0,
              "#0d0887"
             ],
             [
              0.1111111111111111,
              "#46039f"
             ],
             [
              0.2222222222222222,
              "#7201a8"
             ],
             [
              0.3333333333333333,
              "#9c179e"
             ],
             [
              0.4444444444444444,
              "#bd3786"
             ],
             [
              0.5555555555555556,
              "#d8576b"
             ],
             [
              0.6666666666666666,
              "#ed7953"
             ],
             [
              0.7777777777777778,
              "#fb9f3a"
             ],
             [
              0.8888888888888888,
              "#fdca26"
             ],
             [
              1,
              "#f0f921"
             ]
            ],
            "type": "histogram2dcontour"
           }
          ],
          "mesh3d": [
           {
            "colorbar": {
             "outlinewidth": 0,
             "ticks": ""
            },
            "type": "mesh3d"
           }
          ],
          "parcoords": [
           {
            "line": {
             "colorbar": {
              "outlinewidth": 0,
              "ticks": ""
             }
            },
            "type": "parcoords"
           }
          ],
          "pie": [
           {
            "automargin": true,
            "type": "pie"
           }
          ],
          "scatter": [
           {
            "marker": {
             "line": {
              "color": "#283442"
             }
            },
            "type": "scatter"
           }
          ],
          "scatter3d": [
           {
            "line": {
             "colorbar": {
              "outlinewidth": 0,
              "ticks": ""
             }
            },
            "marker": {
             "colorbar": {
              "outlinewidth": 0,
              "ticks": ""
             }
            },
            "type": "scatter3d"
           }
          ],
          "scattercarpet": [
           {
            "marker": {
             "colorbar": {
              "outlinewidth": 0,
              "ticks": ""
             }
            },
            "type": "scattercarpet"
           }
          ],
          "scattergeo": [
           {
            "marker": {
             "colorbar": {
              "outlinewidth": 0,
              "ticks": ""
             }
            },
            "type": "scattergeo"
           }
          ],
          "scattergl": [
           {
            "marker": {
             "line": {
              "color": "#283442"
             }
            },
            "type": "scattergl"
           }
          ],
          "scattermapbox": [
           {
            "marker": {
             "colorbar": {
              "outlinewidth": 0,
              "ticks": ""
             }
            },
            "type": "scattermapbox"
           }
          ],
          "scatterpolar": [
           {
            "marker": {
             "colorbar": {
              "outlinewidth": 0,
              "ticks": ""
             }
            },
            "type": "scatterpolar"
           }
          ],
          "scatterpolargl": [
           {
            "marker": {
             "colorbar": {
              "outlinewidth": 0,
              "ticks": ""
             }
            },
            "type": "scatterpolargl"
           }
          ],
          "scatterternary": [
           {
            "marker": {
             "colorbar": {
              "outlinewidth": 0,
              "ticks": ""
             }
            },
            "type": "scatterternary"
           }
          ],
          "surface": [
           {
            "colorbar": {
             "outlinewidth": 0,
             "ticks": ""
            },
            "colorscale": [
             [
              0,
              "#0d0887"
             ],
             [
              0.1111111111111111,
              "#46039f"
             ],
             [
              0.2222222222222222,
              "#7201a8"
             ],
             [
              0.3333333333333333,
              "#9c179e"
             ],
             [
              0.4444444444444444,
              "#bd3786"
             ],
             [
              0.5555555555555556,
              "#d8576b"
             ],
             [
              0.6666666666666666,
              "#ed7953"
             ],
             [
              0.7777777777777778,
              "#fb9f3a"
             ],
             [
              0.8888888888888888,
              "#fdca26"
             ],
             [
              1,
              "#f0f921"
             ]
            ],
            "type": "surface"
           }
          ],
          "table": [
           {
            "cells": {
             "fill": {
              "color": "#506784"
             },
             "line": {
              "color": "rgb(17,17,17)"
             }
            },
            "header": {
             "fill": {
              "color": "#2a3f5f"
             },
             "line": {
              "color": "rgb(17,17,17)"
             }
            },
            "type": "table"
           }
          ]
         },
         "layout": {
          "annotationdefaults": {
           "arrowcolor": "#f2f5fa",
           "arrowhead": 0,
           "arrowwidth": 1
          },
          "autotypenumbers": "strict",
          "coloraxis": {
           "colorbar": {
            "outlinewidth": 0,
            "ticks": ""
           }
          },
          "colorscale": {
           "diverging": [
            [
             0,
             "#8e0152"
            ],
            [
             0.1,
             "#c51b7d"
            ],
            [
             0.2,
             "#de77ae"
            ],
            [
             0.3,
             "#f1b6da"
            ],
            [
             0.4,
             "#fde0ef"
            ],
            [
             0.5,
             "#f7f7f7"
            ],
            [
             0.6,
             "#e6f5d0"
            ],
            [
             0.7,
             "#b8e186"
            ],
            [
             0.8,
             "#7fbc41"
            ],
            [
             0.9,
             "#4d9221"
            ],
            [
             1,
             "#276419"
            ]
           ],
           "sequential": [
            [
             0,
             "#0d0887"
            ],
            [
             0.1111111111111111,
             "#46039f"
            ],
            [
             0.2222222222222222,
             "#7201a8"
            ],
            [
             0.3333333333333333,
             "#9c179e"
            ],
            [
             0.4444444444444444,
             "#bd3786"
            ],
            [
             0.5555555555555556,
             "#d8576b"
            ],
            [
             0.6666666666666666,
             "#ed7953"
            ],
            [
             0.7777777777777778,
             "#fb9f3a"
            ],
            [
             0.8888888888888888,
             "#fdca26"
            ],
            [
             1,
             "#f0f921"
            ]
           ],
           "sequentialminus": [
            [
             0,
             "#0d0887"
            ],
            [
             0.1111111111111111,
             "#46039f"
            ],
            [
             0.2222222222222222,
             "#7201a8"
            ],
            [
             0.3333333333333333,
             "#9c179e"
            ],
            [
             0.4444444444444444,
             "#bd3786"
            ],
            [
             0.5555555555555556,
             "#d8576b"
            ],
            [
             0.6666666666666666,
             "#ed7953"
            ],
            [
             0.7777777777777778,
             "#fb9f3a"
            ],
            [
             0.8888888888888888,
             "#fdca26"
            ],
            [
             1,
             "#f0f921"
            ]
           ]
          },
          "colorway": [
           "#636efa",
           "#EF553B",
           "#00cc96",
           "#ab63fa",
           "#FFA15A",
           "#19d3f3",
           "#FF6692",
           "#B6E880",
           "#FF97FF",
           "#FECB52"
          ],
          "font": {
           "color": "#f2f5fa"
          },
          "geo": {
           "bgcolor": "rgb(17,17,17)",
           "lakecolor": "rgb(17,17,17)",
           "landcolor": "rgb(17,17,17)",
           "showlakes": true,
           "showland": true,
           "subunitcolor": "#506784"
          },
          "hoverlabel": {
           "align": "left"
          },
          "hovermode": "closest",
          "mapbox": {
           "style": "dark"
          },
          "paper_bgcolor": "rgb(17,17,17)",
          "plot_bgcolor": "rgb(17,17,17)",
          "polar": {
           "angularaxis": {
            "gridcolor": "#506784",
            "linecolor": "#506784",
            "ticks": ""
           },
           "bgcolor": "rgb(17,17,17)",
           "radialaxis": {
            "gridcolor": "#506784",
            "linecolor": "#506784",
            "ticks": ""
           }
          },
          "scene": {
           "xaxis": {
            "backgroundcolor": "rgb(17,17,17)",
            "gridcolor": "#506784",
            "gridwidth": 2,
            "linecolor": "#506784",
            "showbackground": true,
            "ticks": "",
            "zerolinecolor": "#C8D4E3"
           },
           "yaxis": {
            "backgroundcolor": "rgb(17,17,17)",
            "gridcolor": "#506784",
            "gridwidth": 2,
            "linecolor": "#506784",
            "showbackground": true,
            "ticks": "",
            "zerolinecolor": "#C8D4E3"
           },
           "zaxis": {
            "backgroundcolor": "rgb(17,17,17)",
            "gridcolor": "#506784",
            "gridwidth": 2,
            "linecolor": "#506784",
            "showbackground": true,
            "ticks": "",
            "zerolinecolor": "#C8D4E3"
           }
          },
          "shapedefaults": {
           "line": {
            "color": "#f2f5fa"
           }
          },
          "sliderdefaults": {
           "bgcolor": "#C8D4E3",
           "bordercolor": "rgb(17,17,17)",
           "borderwidth": 1,
           "tickwidth": 0
          },
          "ternary": {
           "aaxis": {
            "gridcolor": "#506784",
            "linecolor": "#506784",
            "ticks": ""
           },
           "baxis": {
            "gridcolor": "#506784",
            "linecolor": "#506784",
            "ticks": ""
           },
           "bgcolor": "rgb(17,17,17)",
           "caxis": {
            "gridcolor": "#506784",
            "linecolor": "#506784",
            "ticks": ""
           }
          },
          "title": {
           "x": 0.05
          },
          "updatemenudefaults": {
           "bgcolor": "#506784",
           "borderwidth": 0
          },
          "xaxis": {
           "automargin": true,
           "gridcolor": "#283442",
           "linecolor": "#506784",
           "ticks": "",
           "title": {
            "standoff": 15
           },
           "zerolinecolor": "#283442",
           "zerolinewidth": 2
          },
          "yaxis": {
           "automargin": true,
           "gridcolor": "#283442",
           "linecolor": "#506784",
           "ticks": "",
           "title": {
            "standoff": 15
           },
           "zerolinecolor": "#283442",
           "zerolinewidth": 2
          }
         }
        },
        "title": {
         "text": "Recall",
         "x": 0.5,
         "xanchor": "center"
        },
        "width": 400,
        "xaxis": {
         "anchor": "y",
         "domain": [
          0,
          1
         ],
         "title": {
          "font": {
           "color": "lightgrey"
          },
          "text": "Moving Averages"
         }
        },
        "yaxis": {
         "anchor": "x",
         "domain": [
          0,
          1
         ],
         "title": {
          "text": ""
         }
        }
       }
      }
     },
     "metadata": {},
     "output_type": "display_data"
    },
    {
     "data": {
      "application/vnd.plotly.v1+json": {
       "config": {
        "plotlyServerURL": "https://plot.ly"
       },
       "data": [
        {
         "error_y": {
          "array": [
           0.01355303508469885,
           0.02422744954446121,
           0.021124175195383788,
           0.01004553611775616,
           0.009272618711441583,
           0.008999919051468241
          ],
          "arrayminus": [
           0.010680069765570677,
           0.014384394538507483,
           0.017927559586688124,
           0.012784689475573874,
           0.017777786258283967,
           0.013084684142485203
          ]
         },
         "hovertemplate": "SC=1<br>MA=%{x}<br>F1_mean=%{y}<extra></extra>",
         "legendgroup": "1",
         "marker": {
          "color": "#636efa",
          "symbol": "circle"
         },
         "mode": "markers",
         "name": "1",
         "orientation": "v",
         "showlegend": true,
         "type": "scatter",
         "x": [
          1,
          2,
          3,
          4,
          5,
          6
         ],
         "xaxis": "x",
         "y": [
          0.8926472828803248,
          0.9145480606596205,
          0.929645055573847,
          0.9338796975271038,
          0.9413446652391757,
          0.9417693117177626
         ],
         "yaxis": "y"
        },
        {
         "error_y": {
          "array": [
           0.017174931000209392,
           0.024465817123688116,
           0.01522376952289839,
           0.010368085414574013,
           0.01111055160832497,
           0.007861631089241983
          ],
          "arrayminus": [
           0.013572408122248358,
           0.015628100296436576,
           0.013924328279809939,
           0.014485897436177897,
           0.018858135618426863,
           0.014884423960197402
          ]
         },
         "hovertemplate": "SC=3<br>MA=%{x}<br>F1_mean=%{y}<extra></extra>",
         "legendgroup": "3",
         "marker": {
          "color": "#EF553B",
          "symbol": "circle"
         },
         "mode": "markers",
         "name": "3",
         "orientation": "v",
         "showlegend": true,
         "type": "scatter",
         "x": [
          1,
          2,
          3,
          4,
          5,
          6
         ],
         "xaxis": "x",
         "y": [
          0.8777295275985165,
          0.892069615947178,
          0.9128007327741919,
          0.9127088376623492,
          0.9259094176697089,
          0.9277211909966477
         ],
         "yaxis": "y"
        },
        {
         "error_y": {
          "array": [
           0.0184214788264081,
           0.022743847940629225,
           0.019477275562551077,
           0.011789786921308387,
           0.01267155864624303,
           0.007364331674470037
          ],
          "arrayminus": [
           0.01495509950913032,
           0.01979981529268926,
           0.018806766698161503,
           0.02095703614809541,
           0.02233500753498352,
           0.012395920323429843
          ]
         },
         "hovertemplate": "SC=6<br>MA=%{x}<br>F1_mean=%{y}<extra></extra>",
         "legendgroup": "6",
         "marker": {
          "color": "#00cc96",
          "symbol": "circle"
         },
         "mode": "markers",
         "name": "6",
         "orientation": "v",
         "showlegend": true,
         "type": "scatter",
         "x": [
          1,
          2,
          3,
          4,
          5,
          6
         ],
         "xaxis": "x",
         "y": [
          0.8697674975515448,
          0.8769426724355464,
          0.9012544317545222,
          0.8975804127714722,
          0.9137088094519167,
          0.9142946545006452
         ],
         "yaxis": "y"
        }
       ],
       "layout": {
        "height": 300,
        "legend": {
         "title": {
          "text": "SC"
         },
         "tracegroupgap": 0
        },
        "margin": {
         "b": 50,
         "l": 30,
         "r": 30,
         "t": 50
        },
        "showlegend": false,
        "template": {
         "data": {
          "bar": [
           {
            "error_x": {
             "color": "#f2f5fa"
            },
            "error_y": {
             "color": "#f2f5fa"
            },
            "marker": {
             "line": {
              "color": "rgb(17,17,17)",
              "width": 0.5
             },
             "pattern": {
              "fillmode": "overlay",
              "size": 10,
              "solidity": 0.2
             }
            },
            "type": "bar"
           }
          ],
          "barpolar": [
           {
            "marker": {
             "line": {
              "color": "rgb(17,17,17)",
              "width": 0.5
             },
             "pattern": {
              "fillmode": "overlay",
              "size": 10,
              "solidity": 0.2
             }
            },
            "type": "barpolar"
           }
          ],
          "carpet": [
           {
            "aaxis": {
             "endlinecolor": "#A2B1C6",
             "gridcolor": "#506784",
             "linecolor": "#506784",
             "minorgridcolor": "#506784",
             "startlinecolor": "#A2B1C6"
            },
            "baxis": {
             "endlinecolor": "#A2B1C6",
             "gridcolor": "#506784",
             "linecolor": "#506784",
             "minorgridcolor": "#506784",
             "startlinecolor": "#A2B1C6"
            },
            "type": "carpet"
           }
          ],
          "choropleth": [
           {
            "colorbar": {
             "outlinewidth": 0,
             "ticks": ""
            },
            "type": "choropleth"
           }
          ],
          "contour": [
           {
            "colorbar": {
             "outlinewidth": 0,
             "ticks": ""
            },
            "colorscale": [
             [
              0,
              "#0d0887"
             ],
             [
              0.1111111111111111,
              "#46039f"
             ],
             [
              0.2222222222222222,
              "#7201a8"
             ],
             [
              0.3333333333333333,
              "#9c179e"
             ],
             [
              0.4444444444444444,
              "#bd3786"
             ],
             [
              0.5555555555555556,
              "#d8576b"
             ],
             [
              0.6666666666666666,
              "#ed7953"
             ],
             [
              0.7777777777777778,
              "#fb9f3a"
             ],
             [
              0.8888888888888888,
              "#fdca26"
             ],
             [
              1,
              "#f0f921"
             ]
            ],
            "type": "contour"
           }
          ],
          "contourcarpet": [
           {
            "colorbar": {
             "outlinewidth": 0,
             "ticks": ""
            },
            "type": "contourcarpet"
           }
          ],
          "heatmap": [
           {
            "colorbar": {
             "outlinewidth": 0,
             "ticks": ""
            },
            "colorscale": [
             [
              0,
              "#0d0887"
             ],
             [
              0.1111111111111111,
              "#46039f"
             ],
             [
              0.2222222222222222,
              "#7201a8"
             ],
             [
              0.3333333333333333,
              "#9c179e"
             ],
             [
              0.4444444444444444,
              "#bd3786"
             ],
             [
              0.5555555555555556,
              "#d8576b"
             ],
             [
              0.6666666666666666,
              "#ed7953"
             ],
             [
              0.7777777777777778,
              "#fb9f3a"
             ],
             [
              0.8888888888888888,
              "#fdca26"
             ],
             [
              1,
              "#f0f921"
             ]
            ],
            "type": "heatmap"
           }
          ],
          "heatmapgl": [
           {
            "colorbar": {
             "outlinewidth": 0,
             "ticks": ""
            },
            "colorscale": [
             [
              0,
              "#0d0887"
             ],
             [
              0.1111111111111111,
              "#46039f"
             ],
             [
              0.2222222222222222,
              "#7201a8"
             ],
             [
              0.3333333333333333,
              "#9c179e"
             ],
             [
              0.4444444444444444,
              "#bd3786"
             ],
             [
              0.5555555555555556,
              "#d8576b"
             ],
             [
              0.6666666666666666,
              "#ed7953"
             ],
             [
              0.7777777777777778,
              "#fb9f3a"
             ],
             [
              0.8888888888888888,
              "#fdca26"
             ],
             [
              1,
              "#f0f921"
             ]
            ],
            "type": "heatmapgl"
           }
          ],
          "histogram": [
           {
            "marker": {
             "pattern": {
              "fillmode": "overlay",
              "size": 10,
              "solidity": 0.2
             }
            },
            "type": "histogram"
           }
          ],
          "histogram2d": [
           {
            "colorbar": {
             "outlinewidth": 0,
             "ticks": ""
            },
            "colorscale": [
             [
              0,
              "#0d0887"
             ],
             [
              0.1111111111111111,
              "#46039f"
             ],
             [
              0.2222222222222222,
              "#7201a8"
             ],
             [
              0.3333333333333333,
              "#9c179e"
             ],
             [
              0.4444444444444444,
              "#bd3786"
             ],
             [
              0.5555555555555556,
              "#d8576b"
             ],
             [
              0.6666666666666666,
              "#ed7953"
             ],
             [
              0.7777777777777778,
              "#fb9f3a"
             ],
             [
              0.8888888888888888,
              "#fdca26"
             ],
             [
              1,
              "#f0f921"
             ]
            ],
            "type": "histogram2d"
           }
          ],
          "histogram2dcontour": [
           {
            "colorbar": {
             "outlinewidth": 0,
             "ticks": ""
            },
            "colorscale": [
             [
              0,
              "#0d0887"
             ],
             [
              0.1111111111111111,
              "#46039f"
             ],
             [
              0.2222222222222222,
              "#7201a8"
             ],
             [
              0.3333333333333333,
              "#9c179e"
             ],
             [
              0.4444444444444444,
              "#bd3786"
             ],
             [
              0.5555555555555556,
              "#d8576b"
             ],
             [
              0.6666666666666666,
              "#ed7953"
             ],
             [
              0.7777777777777778,
              "#fb9f3a"
             ],
             [
              0.8888888888888888,
              "#fdca26"
             ],
             [
              1,
              "#f0f921"
             ]
            ],
            "type": "histogram2dcontour"
           }
          ],
          "mesh3d": [
           {
            "colorbar": {
             "outlinewidth": 0,
             "ticks": ""
            },
            "type": "mesh3d"
           }
          ],
          "parcoords": [
           {
            "line": {
             "colorbar": {
              "outlinewidth": 0,
              "ticks": ""
             }
            },
            "type": "parcoords"
           }
          ],
          "pie": [
           {
            "automargin": true,
            "type": "pie"
           }
          ],
          "scatter": [
           {
            "marker": {
             "line": {
              "color": "#283442"
             }
            },
            "type": "scatter"
           }
          ],
          "scatter3d": [
           {
            "line": {
             "colorbar": {
              "outlinewidth": 0,
              "ticks": ""
             }
            },
            "marker": {
             "colorbar": {
              "outlinewidth": 0,
              "ticks": ""
             }
            },
            "type": "scatter3d"
           }
          ],
          "scattercarpet": [
           {
            "marker": {
             "colorbar": {
              "outlinewidth": 0,
              "ticks": ""
             }
            },
            "type": "scattercarpet"
           }
          ],
          "scattergeo": [
           {
            "marker": {
             "colorbar": {
              "outlinewidth": 0,
              "ticks": ""
             }
            },
            "type": "scattergeo"
           }
          ],
          "scattergl": [
           {
            "marker": {
             "line": {
              "color": "#283442"
             }
            },
            "type": "scattergl"
           }
          ],
          "scattermapbox": [
           {
            "marker": {
             "colorbar": {
              "outlinewidth": 0,
              "ticks": ""
             }
            },
            "type": "scattermapbox"
           }
          ],
          "scatterpolar": [
           {
            "marker": {
             "colorbar": {
              "outlinewidth": 0,
              "ticks": ""
             }
            },
            "type": "scatterpolar"
           }
          ],
          "scatterpolargl": [
           {
            "marker": {
             "colorbar": {
              "outlinewidth": 0,
              "ticks": ""
             }
            },
            "type": "scatterpolargl"
           }
          ],
          "scatterternary": [
           {
            "marker": {
             "colorbar": {
              "outlinewidth": 0,
              "ticks": ""
             }
            },
            "type": "scatterternary"
           }
          ],
          "surface": [
           {
            "colorbar": {
             "outlinewidth": 0,
             "ticks": ""
            },
            "colorscale": [
             [
              0,
              "#0d0887"
             ],
             [
              0.1111111111111111,
              "#46039f"
             ],
             [
              0.2222222222222222,
              "#7201a8"
             ],
             [
              0.3333333333333333,
              "#9c179e"
             ],
             [
              0.4444444444444444,
              "#bd3786"
             ],
             [
              0.5555555555555556,
              "#d8576b"
             ],
             [
              0.6666666666666666,
              "#ed7953"
             ],
             [
              0.7777777777777778,
              "#fb9f3a"
             ],
             [
              0.8888888888888888,
              "#fdca26"
             ],
             [
              1,
              "#f0f921"
             ]
            ],
            "type": "surface"
           }
          ],
          "table": [
           {
            "cells": {
             "fill": {
              "color": "#506784"
             },
             "line": {
              "color": "rgb(17,17,17)"
             }
            },
            "header": {
             "fill": {
              "color": "#2a3f5f"
             },
             "line": {
              "color": "rgb(17,17,17)"
             }
            },
            "type": "table"
           }
          ]
         },
         "layout": {
          "annotationdefaults": {
           "arrowcolor": "#f2f5fa",
           "arrowhead": 0,
           "arrowwidth": 1
          },
          "autotypenumbers": "strict",
          "coloraxis": {
           "colorbar": {
            "outlinewidth": 0,
            "ticks": ""
           }
          },
          "colorscale": {
           "diverging": [
            [
             0,
             "#8e0152"
            ],
            [
             0.1,
             "#c51b7d"
            ],
            [
             0.2,
             "#de77ae"
            ],
            [
             0.3,
             "#f1b6da"
            ],
            [
             0.4,
             "#fde0ef"
            ],
            [
             0.5,
             "#f7f7f7"
            ],
            [
             0.6,
             "#e6f5d0"
            ],
            [
             0.7,
             "#b8e186"
            ],
            [
             0.8,
             "#7fbc41"
            ],
            [
             0.9,
             "#4d9221"
            ],
            [
             1,
             "#276419"
            ]
           ],
           "sequential": [
            [
             0,
             "#0d0887"
            ],
            [
             0.1111111111111111,
             "#46039f"
            ],
            [
             0.2222222222222222,
             "#7201a8"
            ],
            [
             0.3333333333333333,
             "#9c179e"
            ],
            [
             0.4444444444444444,
             "#bd3786"
            ],
            [
             0.5555555555555556,
             "#d8576b"
            ],
            [
             0.6666666666666666,
             "#ed7953"
            ],
            [
             0.7777777777777778,
             "#fb9f3a"
            ],
            [
             0.8888888888888888,
             "#fdca26"
            ],
            [
             1,
             "#f0f921"
            ]
           ],
           "sequentialminus": [
            [
             0,
             "#0d0887"
            ],
            [
             0.1111111111111111,
             "#46039f"
            ],
            [
             0.2222222222222222,
             "#7201a8"
            ],
            [
             0.3333333333333333,
             "#9c179e"
            ],
            [
             0.4444444444444444,
             "#bd3786"
            ],
            [
             0.5555555555555556,
             "#d8576b"
            ],
            [
             0.6666666666666666,
             "#ed7953"
            ],
            [
             0.7777777777777778,
             "#fb9f3a"
            ],
            [
             0.8888888888888888,
             "#fdca26"
            ],
            [
             1,
             "#f0f921"
            ]
           ]
          },
          "colorway": [
           "#636efa",
           "#EF553B",
           "#00cc96",
           "#ab63fa",
           "#FFA15A",
           "#19d3f3",
           "#FF6692",
           "#B6E880",
           "#FF97FF",
           "#FECB52"
          ],
          "font": {
           "color": "#f2f5fa"
          },
          "geo": {
           "bgcolor": "rgb(17,17,17)",
           "lakecolor": "rgb(17,17,17)",
           "landcolor": "rgb(17,17,17)",
           "showlakes": true,
           "showland": true,
           "subunitcolor": "#506784"
          },
          "hoverlabel": {
           "align": "left"
          },
          "hovermode": "closest",
          "mapbox": {
           "style": "dark"
          },
          "paper_bgcolor": "rgb(17,17,17)",
          "plot_bgcolor": "rgb(17,17,17)",
          "polar": {
           "angularaxis": {
            "gridcolor": "#506784",
            "linecolor": "#506784",
            "ticks": ""
           },
           "bgcolor": "rgb(17,17,17)",
           "radialaxis": {
            "gridcolor": "#506784",
            "linecolor": "#506784",
            "ticks": ""
           }
          },
          "scene": {
           "xaxis": {
            "backgroundcolor": "rgb(17,17,17)",
            "gridcolor": "#506784",
            "gridwidth": 2,
            "linecolor": "#506784",
            "showbackground": true,
            "ticks": "",
            "zerolinecolor": "#C8D4E3"
           },
           "yaxis": {
            "backgroundcolor": "rgb(17,17,17)",
            "gridcolor": "#506784",
            "gridwidth": 2,
            "linecolor": "#506784",
            "showbackground": true,
            "ticks": "",
            "zerolinecolor": "#C8D4E3"
           },
           "zaxis": {
            "backgroundcolor": "rgb(17,17,17)",
            "gridcolor": "#506784",
            "gridwidth": 2,
            "linecolor": "#506784",
            "showbackground": true,
            "ticks": "",
            "zerolinecolor": "#C8D4E3"
           }
          },
          "shapedefaults": {
           "line": {
            "color": "#f2f5fa"
           }
          },
          "sliderdefaults": {
           "bgcolor": "#C8D4E3",
           "bordercolor": "rgb(17,17,17)",
           "borderwidth": 1,
           "tickwidth": 0
          },
          "ternary": {
           "aaxis": {
            "gridcolor": "#506784",
            "linecolor": "#506784",
            "ticks": ""
           },
           "baxis": {
            "gridcolor": "#506784",
            "linecolor": "#506784",
            "ticks": ""
           },
           "bgcolor": "rgb(17,17,17)",
           "caxis": {
            "gridcolor": "#506784",
            "linecolor": "#506784",
            "ticks": ""
           }
          },
          "title": {
           "x": 0.05
          },
          "updatemenudefaults": {
           "bgcolor": "#506784",
           "borderwidth": 0
          },
          "xaxis": {
           "automargin": true,
           "gridcolor": "#283442",
           "linecolor": "#506784",
           "ticks": "",
           "title": {
            "standoff": 15
           },
           "zerolinecolor": "#283442",
           "zerolinewidth": 2
          },
          "yaxis": {
           "automargin": true,
           "gridcolor": "#283442",
           "linecolor": "#506784",
           "ticks": "",
           "title": {
            "standoff": 15
           },
           "zerolinecolor": "#283442",
           "zerolinewidth": 2
          }
         }
        },
        "title": {
         "text": "F1 score",
         "x": 0.5,
         "xanchor": "center"
        },
        "width": 400,
        "xaxis": {
         "anchor": "y",
         "domain": [
          0,
          1
         ],
         "title": {
          "font": {
           "color": "lightgrey"
          },
          "text": "Moving Averages"
         }
        },
        "yaxis": {
         "anchor": "x",
         "domain": [
          0,
          1
         ],
         "title": {
          "text": ""
         }
        }
       }
      }
     },
     "metadata": {},
     "output_type": "display_data"
    },
    {
     "data": {
      "application/vnd.plotly.v1+json": {
       "config": {
        "plotlyServerURL": "https://plot.ly"
       },
       "data": [
        {
         "error_y": {
          "array": [
           0.01883624089949243,
           0.029596012228296886,
           0.029626763483482588,
           0.010651796828445859,
           0.010970564508294478,
           0.011794795813478642
          ],
          "arrayminus": [
           0.017630729305795567,
           0.015187709814252659,
           0.02140165008043904,
           0.01877811356889214,
           0.023632199267258014,
           0.012467675613171969
          ]
         },
         "hovertemplate": "SC=1<br>MA=%{x}<br>AUC_mean=%{y}<extra></extra>",
         "legendgroup": "1",
         "marker": {
          "color": "#636efa",
          "symbol": "circle"
         },
         "mode": "markers",
         "name": "1",
         "orientation": "v",
         "showlegend": true,
         "type": "scatter",
         "x": [
          1,
          2,
          3,
          4,
          5,
          6
         ],
         "xaxis": "x",
         "y": [
          0.825522733459482,
          0.8608111266450997,
          0.8801791267440944,
          0.8888589156039064,
          0.9016028058964013,
          0.8988358348171519
         ],
         "yaxis": "y"
        },
        {
         "error_y": {
          "array": [
           0.021010730717039072,
           0.030815081031018376,
           0.02538321677013633,
           0.01638989473976382,
           0.020303316688739637,
           0.011126648787479154
          ],
          "arrayminus": [
           0.026533688881735018,
           0.01644389248051137,
           0.021208451101896397,
           0.01146062149546001,
           0.015797536563576298,
           0.01562328733252516
          ]
         },
         "hovertemplate": "SC=3<br>MA=%{x}<br>AUC_mean=%{y}<extra></extra>",
         "legendgroup": "3",
         "marker": {
          "color": "#EF553B",
          "symbol": "circle"
         },
         "mode": "markers",
         "name": "3",
         "orientation": "v",
         "showlegend": true,
         "type": "scatter",
         "x": [
          1,
          2,
          3,
          4,
          5,
          6
         ],
         "xaxis": "x",
         "y": [
          0.7933041977083187,
          0.8132312101011623,
          0.8414997790151756,
          0.8403174223334071,
          0.8638666422546333,
          0.8575138345962064
         ],
         "yaxis": "y"
        },
        {
         "error_y": {
          "array": [
           0.01844200255320816,
           0.022355907640404626,
           0.011412143842760014,
           0.02104639022677446,
           0.012974619039682556,
           0.009470670982864027
          ],
          "arrayminus": [
           0.022640313063250983,
           0.018230456515578086,
           0.019626645460795622,
           0.01307298484135877,
           0.022950036430227083,
           0.01820300881093795
          ]
         },
         "hovertemplate": "SC=6<br>MA=%{x}<br>AUC_mean=%{y}<extra></extra>",
         "legendgroup": "6",
         "marker": {
          "color": "#00cc96",
          "symbol": "circle"
         },
         "mode": "markers",
         "name": "6",
         "orientation": "v",
         "showlegend": true,
         "type": "scatter",
         "x": [
          1,
          2,
          3,
          4,
          5,
          6
         ],
         "xaxis": "x",
         "y": [
          0.7640733348701046,
          0.7757826868938954,
          0.8076046641298712,
          0.8004088197381694,
          0.8264600426841358,
          0.822979128213923
         ],
         "yaxis": "y"
        }
       ],
       "layout": {
        "height": 300,
        "legend": {
         "title": {
          "text": "SC"
         },
         "tracegroupgap": 0
        },
        "margin": {
         "b": 50,
         "l": 30,
         "r": 30,
         "t": 50
        },
        "showlegend": false,
        "template": {
         "data": {
          "bar": [
           {
            "error_x": {
             "color": "#f2f5fa"
            },
            "error_y": {
             "color": "#f2f5fa"
            },
            "marker": {
             "line": {
              "color": "rgb(17,17,17)",
              "width": 0.5
             },
             "pattern": {
              "fillmode": "overlay",
              "size": 10,
              "solidity": 0.2
             }
            },
            "type": "bar"
           }
          ],
          "barpolar": [
           {
            "marker": {
             "line": {
              "color": "rgb(17,17,17)",
              "width": 0.5
             },
             "pattern": {
              "fillmode": "overlay",
              "size": 10,
              "solidity": 0.2
             }
            },
            "type": "barpolar"
           }
          ],
          "carpet": [
           {
            "aaxis": {
             "endlinecolor": "#A2B1C6",
             "gridcolor": "#506784",
             "linecolor": "#506784",
             "minorgridcolor": "#506784",
             "startlinecolor": "#A2B1C6"
            },
            "baxis": {
             "endlinecolor": "#A2B1C6",
             "gridcolor": "#506784",
             "linecolor": "#506784",
             "minorgridcolor": "#506784",
             "startlinecolor": "#A2B1C6"
            },
            "type": "carpet"
           }
          ],
          "choropleth": [
           {
            "colorbar": {
             "outlinewidth": 0,
             "ticks": ""
            },
            "type": "choropleth"
           }
          ],
          "contour": [
           {
            "colorbar": {
             "outlinewidth": 0,
             "ticks": ""
            },
            "colorscale": [
             [
              0,
              "#0d0887"
             ],
             [
              0.1111111111111111,
              "#46039f"
             ],
             [
              0.2222222222222222,
              "#7201a8"
             ],
             [
              0.3333333333333333,
              "#9c179e"
             ],
             [
              0.4444444444444444,
              "#bd3786"
             ],
             [
              0.5555555555555556,
              "#d8576b"
             ],
             [
              0.6666666666666666,
              "#ed7953"
             ],
             [
              0.7777777777777778,
              "#fb9f3a"
             ],
             [
              0.8888888888888888,
              "#fdca26"
             ],
             [
              1,
              "#f0f921"
             ]
            ],
            "type": "contour"
           }
          ],
          "contourcarpet": [
           {
            "colorbar": {
             "outlinewidth": 0,
             "ticks": ""
            },
            "type": "contourcarpet"
           }
          ],
          "heatmap": [
           {
            "colorbar": {
             "outlinewidth": 0,
             "ticks": ""
            },
            "colorscale": [
             [
              0,
              "#0d0887"
             ],
             [
              0.1111111111111111,
              "#46039f"
             ],
             [
              0.2222222222222222,
              "#7201a8"
             ],
             [
              0.3333333333333333,
              "#9c179e"
             ],
             [
              0.4444444444444444,
              "#bd3786"
             ],
             [
              0.5555555555555556,
              "#d8576b"
             ],
             [
              0.6666666666666666,
              "#ed7953"
             ],
             [
              0.7777777777777778,
              "#fb9f3a"
             ],
             [
              0.8888888888888888,
              "#fdca26"
             ],
             [
              1,
              "#f0f921"
             ]
            ],
            "type": "heatmap"
           }
          ],
          "heatmapgl": [
           {
            "colorbar": {
             "outlinewidth": 0,
             "ticks": ""
            },
            "colorscale": [
             [
              0,
              "#0d0887"
             ],
             [
              0.1111111111111111,
              "#46039f"
             ],
             [
              0.2222222222222222,
              "#7201a8"
             ],
             [
              0.3333333333333333,
              "#9c179e"
             ],
             [
              0.4444444444444444,
              "#bd3786"
             ],
             [
              0.5555555555555556,
              "#d8576b"
             ],
             [
              0.6666666666666666,
              "#ed7953"
             ],
             [
              0.7777777777777778,
              "#fb9f3a"
             ],
             [
              0.8888888888888888,
              "#fdca26"
             ],
             [
              1,
              "#f0f921"
             ]
            ],
            "type": "heatmapgl"
           }
          ],
          "histogram": [
           {
            "marker": {
             "pattern": {
              "fillmode": "overlay",
              "size": 10,
              "solidity": 0.2
             }
            },
            "type": "histogram"
           }
          ],
          "histogram2d": [
           {
            "colorbar": {
             "outlinewidth": 0,
             "ticks": ""
            },
            "colorscale": [
             [
              0,
              "#0d0887"
             ],
             [
              0.1111111111111111,
              "#46039f"
             ],
             [
              0.2222222222222222,
              "#7201a8"
             ],
             [
              0.3333333333333333,
              "#9c179e"
             ],
             [
              0.4444444444444444,
              "#bd3786"
             ],
             [
              0.5555555555555556,
              "#d8576b"
             ],
             [
              0.6666666666666666,
              "#ed7953"
             ],
             [
              0.7777777777777778,
              "#fb9f3a"
             ],
             [
              0.8888888888888888,
              "#fdca26"
             ],
             [
              1,
              "#f0f921"
             ]
            ],
            "type": "histogram2d"
           }
          ],
          "histogram2dcontour": [
           {
            "colorbar": {
             "outlinewidth": 0,
             "ticks": ""
            },
            "colorscale": [
             [
              0,
              "#0d0887"
             ],
             [
              0.1111111111111111,
              "#46039f"
             ],
             [
              0.2222222222222222,
              "#7201a8"
             ],
             [
              0.3333333333333333,
              "#9c179e"
             ],
             [
              0.4444444444444444,
              "#bd3786"
             ],
             [
              0.5555555555555556,
              "#d8576b"
             ],
             [
              0.6666666666666666,
              "#ed7953"
             ],
             [
              0.7777777777777778,
              "#fb9f3a"
             ],
             [
              0.8888888888888888,
              "#fdca26"
             ],
             [
              1,
              "#f0f921"
             ]
            ],
            "type": "histogram2dcontour"
           }
          ],
          "mesh3d": [
           {
            "colorbar": {
             "outlinewidth": 0,
             "ticks": ""
            },
            "type": "mesh3d"
           }
          ],
          "parcoords": [
           {
            "line": {
             "colorbar": {
              "outlinewidth": 0,
              "ticks": ""
             }
            },
            "type": "parcoords"
           }
          ],
          "pie": [
           {
            "automargin": true,
            "type": "pie"
           }
          ],
          "scatter": [
           {
            "marker": {
             "line": {
              "color": "#283442"
             }
            },
            "type": "scatter"
           }
          ],
          "scatter3d": [
           {
            "line": {
             "colorbar": {
              "outlinewidth": 0,
              "ticks": ""
             }
            },
            "marker": {
             "colorbar": {
              "outlinewidth": 0,
              "ticks": ""
             }
            },
            "type": "scatter3d"
           }
          ],
          "scattercarpet": [
           {
            "marker": {
             "colorbar": {
              "outlinewidth": 0,
              "ticks": ""
             }
            },
            "type": "scattercarpet"
           }
          ],
          "scattergeo": [
           {
            "marker": {
             "colorbar": {
              "outlinewidth": 0,
              "ticks": ""
             }
            },
            "type": "scattergeo"
           }
          ],
          "scattergl": [
           {
            "marker": {
             "line": {
              "color": "#283442"
             }
            },
            "type": "scattergl"
           }
          ],
          "scattermapbox": [
           {
            "marker": {
             "colorbar": {
              "outlinewidth": 0,
              "ticks": ""
             }
            },
            "type": "scattermapbox"
           }
          ],
          "scatterpolar": [
           {
            "marker": {
             "colorbar": {
              "outlinewidth": 0,
              "ticks": ""
             }
            },
            "type": "scatterpolar"
           }
          ],
          "scatterpolargl": [
           {
            "marker": {
             "colorbar": {
              "outlinewidth": 0,
              "ticks": ""
             }
            },
            "type": "scatterpolargl"
           }
          ],
          "scatterternary": [
           {
            "marker": {
             "colorbar": {
              "outlinewidth": 0,
              "ticks": ""
             }
            },
            "type": "scatterternary"
           }
          ],
          "surface": [
           {
            "colorbar": {
             "outlinewidth": 0,
             "ticks": ""
            },
            "colorscale": [
             [
              0,
              "#0d0887"
             ],
             [
              0.1111111111111111,
              "#46039f"
             ],
             [
              0.2222222222222222,
              "#7201a8"
             ],
             [
              0.3333333333333333,
              "#9c179e"
             ],
             [
              0.4444444444444444,
              "#bd3786"
             ],
             [
              0.5555555555555556,
              "#d8576b"
             ],
             [
              0.6666666666666666,
              "#ed7953"
             ],
             [
              0.7777777777777778,
              "#fb9f3a"
             ],
             [
              0.8888888888888888,
              "#fdca26"
             ],
             [
              1,
              "#f0f921"
             ]
            ],
            "type": "surface"
           }
          ],
          "table": [
           {
            "cells": {
             "fill": {
              "color": "#506784"
             },
             "line": {
              "color": "rgb(17,17,17)"
             }
            },
            "header": {
             "fill": {
              "color": "#2a3f5f"
             },
             "line": {
              "color": "rgb(17,17,17)"
             }
            },
            "type": "table"
           }
          ]
         },
         "layout": {
          "annotationdefaults": {
           "arrowcolor": "#f2f5fa",
           "arrowhead": 0,
           "arrowwidth": 1
          },
          "autotypenumbers": "strict",
          "coloraxis": {
           "colorbar": {
            "outlinewidth": 0,
            "ticks": ""
           }
          },
          "colorscale": {
           "diverging": [
            [
             0,
             "#8e0152"
            ],
            [
             0.1,
             "#c51b7d"
            ],
            [
             0.2,
             "#de77ae"
            ],
            [
             0.3,
             "#f1b6da"
            ],
            [
             0.4,
             "#fde0ef"
            ],
            [
             0.5,
             "#f7f7f7"
            ],
            [
             0.6,
             "#e6f5d0"
            ],
            [
             0.7,
             "#b8e186"
            ],
            [
             0.8,
             "#7fbc41"
            ],
            [
             0.9,
             "#4d9221"
            ],
            [
             1,
             "#276419"
            ]
           ],
           "sequential": [
            [
             0,
             "#0d0887"
            ],
            [
             0.1111111111111111,
             "#46039f"
            ],
            [
             0.2222222222222222,
             "#7201a8"
            ],
            [
             0.3333333333333333,
             "#9c179e"
            ],
            [
             0.4444444444444444,
             "#bd3786"
            ],
            [
             0.5555555555555556,
             "#d8576b"
            ],
            [
             0.6666666666666666,
             "#ed7953"
            ],
            [
             0.7777777777777778,
             "#fb9f3a"
            ],
            [
             0.8888888888888888,
             "#fdca26"
            ],
            [
             1,
             "#f0f921"
            ]
           ],
           "sequentialminus": [
            [
             0,
             "#0d0887"
            ],
            [
             0.1111111111111111,
             "#46039f"
            ],
            [
             0.2222222222222222,
             "#7201a8"
            ],
            [
             0.3333333333333333,
             "#9c179e"
            ],
            [
             0.4444444444444444,
             "#bd3786"
            ],
            [
             0.5555555555555556,
             "#d8576b"
            ],
            [
             0.6666666666666666,
             "#ed7953"
            ],
            [
             0.7777777777777778,
             "#fb9f3a"
            ],
            [
             0.8888888888888888,
             "#fdca26"
            ],
            [
             1,
             "#f0f921"
            ]
           ]
          },
          "colorway": [
           "#636efa",
           "#EF553B",
           "#00cc96",
           "#ab63fa",
           "#FFA15A",
           "#19d3f3",
           "#FF6692",
           "#B6E880",
           "#FF97FF",
           "#FECB52"
          ],
          "font": {
           "color": "#f2f5fa"
          },
          "geo": {
           "bgcolor": "rgb(17,17,17)",
           "lakecolor": "rgb(17,17,17)",
           "landcolor": "rgb(17,17,17)",
           "showlakes": true,
           "showland": true,
           "subunitcolor": "#506784"
          },
          "hoverlabel": {
           "align": "left"
          },
          "hovermode": "closest",
          "mapbox": {
           "style": "dark"
          },
          "paper_bgcolor": "rgb(17,17,17)",
          "plot_bgcolor": "rgb(17,17,17)",
          "polar": {
           "angularaxis": {
            "gridcolor": "#506784",
            "linecolor": "#506784",
            "ticks": ""
           },
           "bgcolor": "rgb(17,17,17)",
           "radialaxis": {
            "gridcolor": "#506784",
            "linecolor": "#506784",
            "ticks": ""
           }
          },
          "scene": {
           "xaxis": {
            "backgroundcolor": "rgb(17,17,17)",
            "gridcolor": "#506784",
            "gridwidth": 2,
            "linecolor": "#506784",
            "showbackground": true,
            "ticks": "",
            "zerolinecolor": "#C8D4E3"
           },
           "yaxis": {
            "backgroundcolor": "rgb(17,17,17)",
            "gridcolor": "#506784",
            "gridwidth": 2,
            "linecolor": "#506784",
            "showbackground": true,
            "ticks": "",
            "zerolinecolor": "#C8D4E3"
           },
           "zaxis": {
            "backgroundcolor": "rgb(17,17,17)",
            "gridcolor": "#506784",
            "gridwidth": 2,
            "linecolor": "#506784",
            "showbackground": true,
            "ticks": "",
            "zerolinecolor": "#C8D4E3"
           }
          },
          "shapedefaults": {
           "line": {
            "color": "#f2f5fa"
           }
          },
          "sliderdefaults": {
           "bgcolor": "#C8D4E3",
           "bordercolor": "rgb(17,17,17)",
           "borderwidth": 1,
           "tickwidth": 0
          },
          "ternary": {
           "aaxis": {
            "gridcolor": "#506784",
            "linecolor": "#506784",
            "ticks": ""
           },
           "baxis": {
            "gridcolor": "#506784",
            "linecolor": "#506784",
            "ticks": ""
           },
           "bgcolor": "rgb(17,17,17)",
           "caxis": {
            "gridcolor": "#506784",
            "linecolor": "#506784",
            "ticks": ""
           }
          },
          "title": {
           "x": 0.05
          },
          "updatemenudefaults": {
           "bgcolor": "#506784",
           "borderwidth": 0
          },
          "xaxis": {
           "automargin": true,
           "gridcolor": "#283442",
           "linecolor": "#506784",
           "ticks": "",
           "title": {
            "standoff": 15
           },
           "zerolinecolor": "#283442",
           "zerolinewidth": 2
          },
          "yaxis": {
           "automargin": true,
           "gridcolor": "#283442",
           "linecolor": "#506784",
           "ticks": "",
           "title": {
            "standoff": 15
           },
           "zerolinecolor": "#283442",
           "zerolinewidth": 2
          }
         }
        },
        "title": {
         "text": "Area Under ROC Curve",
         "x": 0.5,
         "xanchor": "center"
        },
        "width": 400,
        "xaxis": {
         "anchor": "y",
         "domain": [
          0,
          1
         ],
         "title": {
          "font": {
           "color": "lightgrey"
          },
          "text": "Moving Averages"
         }
        },
        "yaxis": {
         "anchor": "x",
         "domain": [
          0,
          1
         ],
         "title": {
          "text": ""
         }
        }
       }
      }
     },
     "metadata": {},
     "output_type": "display_data"
    },
    {
     "data": {
      "application/vnd.plotly.v1+json": {
       "config": {
        "plotlyServerURL": "https://plot.ly"
       },
       "data": [
        {
         "alignmentgroup": "True",
         "boxpoints": "all",
         "fillcolor": "rgba(255,255,255,0)",
         "hoveron": "points",
         "hovertemplate": "sc=1<br>theta=%{x}<br>diff=%{y}<extra></extra>",
         "legendgroup": "1",
         "line": {
          "color": "rgba(255,255,255,0)"
         },
         "marker": {
          "color": "#636efa",
          "opacity": 0.5,
          "size": 5
         },
         "name": "1",
         "offsetgroup": "1",
         "orientation": "v",
         "pointpos": 0,
         "showlegend": true,
         "type": "box",
         "x": [
          "CSENT",
          "IPM",
          "HOUSE",
          "UNEMP",
          "LRIR",
          "CSENT",
          "IPM",
          "HOUSE",
          "UNEMP",
          "LRIR",
          "CSENT",
          "IPM",
          "HOUSE",
          "UNEMP",
          "LRIR",
          "CSENT",
          "IPM",
          "HOUSE",
          "UNEMP",
          "LRIR",
          "CSENT",
          "IPM",
          "HOUSE",
          "UNEMP",
          "LRIR",
          "CSENT",
          "IPM",
          "HOUSE",
          "UNEMP",
          "LRIR",
          "CSENT",
          "IPM",
          "HOUSE",
          "UNEMP",
          "LRIR",
          "CSENT",
          "IPM",
          "HOUSE",
          "UNEMP",
          "LRIR",
          "CSENT",
          "IPM",
          "HOUSE",
          "UNEMP",
          "LRIR",
          "CSENT",
          "IPM",
          "HOUSE",
          "UNEMP",
          "LRIR",
          "CSENT",
          "IPM",
          "HOUSE",
          "UNEMP",
          "LRIR",
          "CSENT",
          "IPM",
          "HOUSE",
          "UNEMP",
          "LRIR",
          "CSENT",
          "IPM",
          "HOUSE",
          "UNEMP",
          "LRIR",
          "CSENT",
          "IPM",
          "HOUSE",
          "UNEMP",
          "LRIR",
          "CSENT",
          "IPM",
          "HOUSE",
          "UNEMP",
          "LRIR",
          "CSENT",
          "IPM",
          "HOUSE",
          "UNEMP",
          "LRIR",
          "CSENT",
          "IPM",
          "HOUSE",
          "UNEMP",
          "LRIR",
          "CSENT",
          "IPM",
          "HOUSE",
          "UNEMP",
          "LRIR",
          "CSENT",
          "IPM",
          "HOUSE",
          "UNEMP",
          "LRIR",
          "CSENT",
          "IPM",
          "HOUSE",
          "UNEMP",
          "LRIR",
          "CSENT",
          "IPM",
          "HOUSE",
          "UNEMP",
          "LRIR",
          "CSENT",
          "IPM",
          "HOUSE",
          "UNEMP",
          "LRIR",
          "CSENT",
          "IPM",
          "HOUSE",
          "UNEMP",
          "LRIR",
          "CSENT",
          "IPM",
          "HOUSE",
          "UNEMP",
          "LRIR",
          "CSENT",
          "IPM",
          "HOUSE",
          "UNEMP",
          "LRIR",
          "CSENT",
          "IPM",
          "HOUSE",
          "UNEMP",
          "LRIR",
          "CSENT",
          "IPM",
          "HOUSE",
          "UNEMP",
          "LRIR",
          "CSENT",
          "IPM",
          "HOUSE",
          "UNEMP",
          "LRIR",
          "CSENT",
          "IPM",
          "HOUSE",
          "UNEMP",
          "LRIR",
          "CSENT",
          "IPM",
          "HOUSE",
          "UNEMP",
          "LRIR",
          "CSENT",
          "IPM",
          "HOUSE",
          "UNEMP",
          "LRIR",
          "CSENT",
          "IPM",
          "HOUSE",
          "UNEMP",
          "LRIR",
          "CSENT",
          "IPM",
          "HOUSE",
          "UNEMP",
          "LRIR",
          "CSENT",
          "IPM",
          "HOUSE",
          "UNEMP",
          "LRIR",
          "CSENT",
          "IPM",
          "HOUSE",
          "UNEMP",
          "LRIR",
          "CSENT",
          "IPM",
          "HOUSE",
          "UNEMP",
          "LRIR"
         ],
         "x0": " ",
         "xaxis": "x",
         "y": [
          0.03125,
          0.04086538461538469,
          0.0360576923076924,
          0.04807692307692313,
          0.02163461538461542,
          0.036144578313252906,
          0.05060240963855411,
          0.03855421686746985,
          0.04096385542168668,
          0.01927710843373487,
          0.03864734299516914,
          0.05555555555555558,
          0.036231884057971064,
          0.04106280193236722,
          0.01449275362318847,
          0.03874092009685237,
          0.060532687651331796,
          0.03631961259079908,
          0.0314769975786926,
          0.014527845036319653,
          0.04611650485436891,
          0.05582524271844669,
          0.029126213592232997,
          0.04126213592233008,
          0.024271844660194164,
          0.04622871046228716,
          0.058394160583941646,
          0.02676399026763987,
          0.024330900243308973,
          0.024330900243308973,
          -0.01449275362318847,
          0.019323671497584516,
          0.019323671497584516,
          0.03140096618357491,
          -0.036231884057971064,
          0.009685230024213065,
          0.04358353510895885,
          0.029055690072639195,
          0.03874092009685237,
          -0.002421307506053294,
          0.024271844660194275,
          0.043689320388349606,
          0.029126213592233108,
          0.04126213592233019,
          0.01456310679611661,
          0.021897810218978186,
          0.04622871046228716,
          0.024330900243309084,
          0.04379562043795626,
          0.0097323600973237,
          0.02682926829268295,
          0.04634146341463419,
          0.03658536585365857,
          0.04146341463414638,
          0,
          0.03422982885085579,
          0.041564792176039145,
          0.017114914425427896,
          0.03422982885085579,
          0.004889975550122272,
          -0.01210653753026636,
          0.016949152542372947,
          0.01937046004842613,
          0.021791767554479424,
          -0.041162227602905554,
          0.012135922330097082,
          0.036407766990291246,
          0.03398058252427183,
          0.04611650485436891,
          -0.021844660194174748,
          0.014598540145985384,
          0.038929440389294356,
          0.021897810218978075,
          0.04379562043795615,
          0.007299270072992692,
          0.014634146341463428,
          0.03658536585365857,
          0.02682926829268295,
          0.03170731707317076,
          0.014634146341463428,
          0.02689486552567233,
          0.046454767726161306,
          0.03911980440097795,
          0.02933985330073352,
          0.009779951100244433,
          0.026960784313725505,
          0.04166666666666663,
          0.039215686274509776,
          0.02450980392156854,
          -0.004901960784313708,
          0,
          0.016990291262135915,
          0.03155339805825241,
          0.03398058252427183,
          -0.03640776699029136,
          -0.0048661800486617945,
          0.024330900243308973,
          0.024330900243308973,
          0.029197080291970767,
          -0.031630170316301665,
          0.009756097560975618,
          0.03414634146341455,
          0.017073170731707332,
          0.04146341463414627,
          -0.02195121951219514,
          0.017114914425427896,
          0.02933985330073352,
          0.022004889975550168,
          0.02689486552567244,
          -0.0024449877750610804,
          0.01715686274509809,
          0.03676470588235292,
          0.031862745098039214,
          0.03676470588235292,
          0,
          0.019656019656019708,
          0.03194103194103204,
          0.02211302211302213,
          0.017199017199017286,
          -0.014742014742014642,
          0.0048661800486617945,
          0.012165450121654486,
          0.03406326034063256,
          0.03892944038929447,
          -0.021897810218978075,
          -0.007317073170731714,
          0.01707317073170722,
          0.02682926829268284,
          0.03902439024390236,
          -0.03170731707317076,
          -0.004889975550122161,
          0.02444987775061125,
          0.02689486552567244,
          0.03667481662591687,
          -0.019559902200488977,
          0.01715686274509809,
          0.031862745098039214,
          0.02450980392156865,
          0.03676470588235292,
          0,
          0.0073710073710073765,
          0.03194103194103193,
          0.02211302211302213,
          0.02457002457002455,
          -0.002457002457002422,
          0.019704433497536922,
          0.039408866995073843,
          0.036945812807881784,
          0.029556650246305383,
          -0.007389162561576401,
          0.007317073170731714,
          0.02682926829268295,
          0.03414634146341455,
          0.03902439024390236,
          -0.014634146341463428,
          0.007334963325183463,
          0.02444987775061125,
          0.041564792176039145,
          0.041564792176039145,
          -0.014669926650366705,
          -0.004901960784313708,
          0.012254901960784381,
          0.02941176470588236,
          0.03676470588235303,
          -0.022058823529411686,
          -0.002457002457002422,
          0.019656019656019597,
          0.029484029484029506,
          0.03194103194103193,
          -0.017199017199017175,
          0.019704433497537033,
          0.034482758620689724,
          0.027093596059113323,
          0.029556650246305494,
          0.009852216748768461,
          0.01728395061728405,
          0.03950617283950619,
          0.032098765432098775,
          0.02716049382716057,
          0.0024691358024692134
         ],
         "y0": " ",
         "yaxis": "y"
        },
        {
         "alignmentgroup": "True",
         "boxpoints": "all",
         "fillcolor": "rgba(255,255,255,0)",
         "hoveron": "points",
         "hovertemplate": "sc=1<br>theta=%{x}<br>diff=%{y}<extra></extra>",
         "legendgroup": "1",
         "line": {
          "color": "rgba(255,255,255,0)"
         },
         "marker": {
          "color": "#636efa",
          "opacity": 0.5,
          "size": 5
         },
         "name": "1",
         "offsetgroup": "1",
         "orientation": "v",
         "pointpos": 0,
         "showlegend": false,
         "type": "box",
         "x": [
          "CSENT",
          "IPM",
          "HOUSE",
          "UNEMP",
          "LRIR",
          "CSENT",
          "IPM",
          "HOUSE",
          "UNEMP",
          "LRIR",
          "CSENT",
          "IPM",
          "HOUSE",
          "UNEMP",
          "LRIR",
          "CSENT",
          "IPM",
          "HOUSE",
          "UNEMP",
          "LRIR",
          "CSENT",
          "IPM",
          "HOUSE",
          "UNEMP",
          "LRIR",
          "CSENT",
          "IPM",
          "HOUSE",
          "UNEMP",
          "LRIR",
          "CSENT",
          "IPM",
          "HOUSE",
          "UNEMP",
          "LRIR",
          "CSENT",
          "IPM",
          "HOUSE",
          "UNEMP",
          "LRIR",
          "CSENT",
          "IPM",
          "HOUSE",
          "UNEMP",
          "LRIR",
          "CSENT",
          "IPM",
          "HOUSE",
          "UNEMP",
          "LRIR",
          "CSENT",
          "IPM",
          "HOUSE",
          "UNEMP",
          "LRIR",
          "CSENT",
          "IPM",
          "HOUSE",
          "UNEMP",
          "LRIR",
          "CSENT",
          "IPM",
          "HOUSE",
          "UNEMP",
          "LRIR",
          "CSENT",
          "IPM",
          "HOUSE",
          "UNEMP",
          "LRIR",
          "CSENT",
          "IPM",
          "HOUSE",
          "UNEMP",
          "LRIR",
          "CSENT",
          "IPM",
          "HOUSE",
          "UNEMP",
          "LRIR",
          "CSENT",
          "IPM",
          "HOUSE",
          "UNEMP",
          "LRIR",
          "CSENT",
          "IPM",
          "HOUSE",
          "UNEMP",
          "LRIR",
          "CSENT",
          "IPM",
          "HOUSE",
          "UNEMP",
          "LRIR",
          "CSENT",
          "IPM",
          "HOUSE",
          "UNEMP",
          "LRIR",
          "CSENT",
          "IPM",
          "HOUSE",
          "UNEMP",
          "LRIR",
          "CSENT",
          "IPM",
          "HOUSE",
          "UNEMP",
          "LRIR",
          "CSENT",
          "IPM",
          "HOUSE",
          "UNEMP",
          "LRIR",
          "CSENT",
          "IPM",
          "HOUSE",
          "UNEMP",
          "LRIR",
          "CSENT",
          "IPM",
          "HOUSE",
          "UNEMP",
          "LRIR",
          "CSENT",
          "IPM",
          "HOUSE",
          "UNEMP",
          "LRIR",
          "CSENT",
          "IPM",
          "HOUSE",
          "UNEMP",
          "LRIR",
          "CSENT",
          "IPM",
          "HOUSE",
          "UNEMP",
          "LRIR",
          "CSENT",
          "IPM",
          "HOUSE",
          "UNEMP",
          "LRIR",
          "CSENT",
          "IPM",
          "HOUSE",
          "UNEMP",
          "LRIR",
          "CSENT",
          "IPM",
          "HOUSE",
          "UNEMP",
          "LRIR",
          "CSENT",
          "IPM",
          "HOUSE",
          "UNEMP",
          "LRIR",
          "CSENT",
          "IPM",
          "HOUSE",
          "UNEMP",
          "LRIR",
          "CSENT",
          "IPM",
          "HOUSE",
          "UNEMP",
          "LRIR",
          "CSENT",
          "IPM",
          "HOUSE",
          "UNEMP",
          "LRIR",
          "CSENT",
          "IPM",
          "HOUSE",
          "UNEMP",
          "LRIR"
         ],
         "x0": " ",
         "xaxis": "x2",
         "y": [
          0.020551274391664154,
          0.02776194618591976,
          0.024617292097869448,
          0.03199302593355002,
          0.012893533167662397,
          0.024394706986422543,
          0.035347396386277485,
          0.027307751579596307,
          0.028092484948599394,
          0.01266128693313151,
          0.025591545939888438,
          0.03855238134189498,
          0.024879872416221582,
          0.0268321817789543,
          0.00876011669613952,
          0.026058631921824338,
          0.04216864340299964,
          0.025402969886754057,
          0.02043719880404149,
          0.009441996125268859,
          0.031235625728742056,
          0.03903252798374912,
          0.020578958956144366,
          0.027387156516495814,
          0.01669234240127293,
          0.03213327310890879,
          0.04061343204653611,
          0.01948674488201474,
          0.015042753662654507,
          0.016393442622950838,
          -0.009641651936365125,
          0.012862555318539193,
          0.013012981242263577,
          0.02047213869873954,
          -0.027591299677765857,
          0.0065860584178846215,
          0.029539496365228124,
          0.02017912195025162,
          0.025768729420806324,
          -0.0035317939130931064,
          0.01607717041800638,
          0.029973525921267452,
          0.020708204412626996,
          0.02813377428773789,
          0.00892596149830871,
          0.013356067064506982,
          0.03146997929606632,
          0.016827312021819973,
          0.029187118586239236,
          0.004759524999405129,
          0.018136987473658328,
          0.03252864157119473,
          0.02635390576387109,
          0.02863892287565073,
          -0.0013245284760052822,
          0.022950819672131084,
          0.029117499538026892,
          0.01301443995670637,
          0.022950819672131084,
          0.0020151407875386163,
          -0.007604868250029595,
          0.011294502159449049,
          0.012307692307692353,
          0.01411626541397526,
          -0.02992916614887542,
          0.008130967845933479,
          0.023468391158816937,
          0.021875749352440632,
          0.02941400957887297,
          -0.01689221089669357,
          0.009570335865077828,
          0.02569017942615459,
          0.014823508954964315,
          0.028412395923840927,
          0.004201162107591139,
          0.009292746634518845,
          0.024573301572927475,
          0.01835246175955274,
          0.021141617638319232,
          0.00909054261065867,
          0.017168079562366323,
          0.0313012297619224,
          0.02653842242719906,
          0.019284503110363005,
          0.005355739371084578,
          0.017769683500020617,
          0.02853407633988525,
          0.02724964016307596,
          0.016740373647181284,
          -0.004099991935295089,
          0,
          0.01121049493142523,
          0.020097260339929757,
          0.021925203951218997,
          -0.02760297917616661,
          -0.0027487630566244148,
          0.015827088336564432,
          0.015702095547686756,
          0.0189230635687625,
          -0.023859980790047475,
          0.00660162696901323,
          0.02240942574026783,
          0.011349619972990888,
          0.0267998180742276,
          -0.016613911991993024,
          0.011022787493375708,
          0.019644723092999028,
          0.015023474178403773,
          0.017693522906793047,
          -0.0025764895330113724,
          0.010188755206639644,
          0.024522160002817484,
          0.02136758587032528,
          0.024181666286929526,
          -0.001784826890004143,
          0.012882447665056418,
          0.021762134805613065,
          0.015412928456406738,
          0.011597299640777936,
          -0.01170456324098601,
          0.002924976258309453,
          0.007897278831428989,
          0.02172665255234052,
          0.02495206920738835,
          -0.016272849957060576,
          -0.004713110843971191,
          0.011330965668865267,
          0.017025243013943592,
          0.02491788424510133,
          -0.023081052066559304,
          -0.0031055900621118626,
          0.01587195413282383,
          0.017464769919187884,
          0.023519222119074756,
          -0.014297620701287816,
          0.010700365318687899,
          0.02057060610597805,
          0.016119843561076763,
          0.023666581338176118,
          -0.0007295078532998378,
          0.004467609828741725,
          0.021169454373111685,
          0.014929204763127313,
          0.01626919566683871,
          -0.002519454659975162,
          0.012330556916544166,
          0.02643312101910833,
          0.024789928530845384,
          0.019108280254777066,
          -0.006493708249184382,
          0.004505200650022689,
          0.01725677432488082,
          0.021406727828746197,
          0.025070942502135263,
          -0.011516277629388894,
          0.004834491695134835,
          0.0159440559440559,
          0.02635349383440988,
          0.02651103069919447,
          -0.011184371184371211,
          -0.003076923076923088,
          0.008134878819810343,
          0.018555922605002384,
          0.02327657075748668,
          -0.0161599803705067,
          -0.0014639882880936872,
          0.012788911513592738,
          0.018933304754760072,
          0.020312948607522197,
          -0.012403100775193798,
          0.012357416783976172,
          0.022302289187320357,
          0.01800890814975331,
          0.019061665656632032,
          0.005525670309938446,
          0.010805818284595259,
          0.026354132114645212,
          0.021471135664598018,
          0.01785625292786719,
          0.0005758225854942678
         ],
         "y0": " ",
         "yaxis": "y2"
        },
        {
         "alignmentgroup": "True",
         "boxpoints": "all",
         "fillcolor": "rgba(255,255,255,0)",
         "hoveron": "points",
         "hovertemplate": "sc=3<br>theta=%{x}<br>diff=%{y}<extra></extra>",
         "legendgroup": "3",
         "line": {
          "color": "rgba(255,255,255,0)"
         },
         "marker": {
          "color": "#EF553B",
          "opacity": 0.5,
          "size": 5
         },
         "name": "3",
         "offsetgroup": "3",
         "orientation": "v",
         "pointpos": 0,
         "showlegend": true,
         "type": "box",
         "x": [
          "CSENT",
          "IPM",
          "HOUSE",
          "UNEMP",
          "LRIR",
          "CSENT",
          "IPM",
          "HOUSE",
          "UNEMP",
          "LRIR",
          "CSENT",
          "IPM",
          "HOUSE",
          "UNEMP",
          "LRIR",
          "CSENT",
          "IPM",
          "HOUSE",
          "UNEMP",
          "LRIR",
          "CSENT",
          "IPM",
          "HOUSE",
          "UNEMP",
          "LRIR",
          "CSENT",
          "IPM",
          "HOUSE",
          "UNEMP",
          "LRIR",
          "CSENT",
          "IPM",
          "HOUSE",
          "UNEMP",
          "LRIR",
          "CSENT",
          "IPM",
          "HOUSE",
          "UNEMP",
          "LRIR",
          "CSENT",
          "IPM",
          "HOUSE",
          "UNEMP",
          "LRIR",
          "CSENT",
          "IPM",
          "HOUSE",
          "UNEMP",
          "LRIR",
          "CSENT",
          "IPM",
          "HOUSE",
          "UNEMP",
          "LRIR",
          "CSENT",
          "IPM",
          "HOUSE",
          "UNEMP",
          "LRIR",
          "CSENT",
          "IPM",
          "HOUSE",
          "UNEMP",
          "LRIR",
          "CSENT",
          "IPM",
          "HOUSE",
          "UNEMP",
          "LRIR",
          "CSENT",
          "IPM",
          "HOUSE",
          "UNEMP",
          "LRIR",
          "CSENT",
          "IPM",
          "HOUSE",
          "UNEMP",
          "LRIR",
          "CSENT",
          "IPM",
          "HOUSE",
          "UNEMP",
          "LRIR",
          "CSENT",
          "IPM",
          "HOUSE",
          "UNEMP",
          "LRIR",
          "CSENT",
          "IPM",
          "HOUSE",
          "UNEMP",
          "LRIR",
          "CSENT",
          "IPM",
          "HOUSE",
          "UNEMP",
          "LRIR",
          "CSENT",
          "IPM",
          "HOUSE",
          "UNEMP",
          "LRIR",
          "CSENT",
          "IPM",
          "HOUSE",
          "UNEMP",
          "LRIR",
          "CSENT",
          "IPM",
          "HOUSE",
          "UNEMP",
          "LRIR",
          "CSENT",
          "IPM",
          "HOUSE",
          "UNEMP",
          "LRIR",
          "CSENT",
          "IPM",
          "HOUSE",
          "UNEMP",
          "LRIR",
          "CSENT",
          "IPM",
          "HOUSE",
          "UNEMP",
          "LRIR",
          "CSENT",
          "IPM",
          "HOUSE",
          "UNEMP",
          "LRIR",
          "CSENT",
          "IPM",
          "HOUSE",
          "UNEMP",
          "LRIR",
          "CSENT",
          "IPM",
          "HOUSE",
          "UNEMP",
          "LRIR",
          "CSENT",
          "IPM",
          "HOUSE",
          "UNEMP",
          "LRIR",
          "CSENT",
          "IPM",
          "HOUSE",
          "UNEMP",
          "LRIR",
          "CSENT",
          "IPM",
          "HOUSE",
          "UNEMP",
          "LRIR",
          "CSENT",
          "IPM",
          "HOUSE",
          "UNEMP",
          "LRIR",
          "CSENT",
          "IPM",
          "HOUSE",
          "UNEMP",
          "LRIR",
          "CSENT",
          "IPM",
          "HOUSE",
          "UNEMP",
          "LRIR",
          "CSENT",
          "IPM",
          "HOUSE",
          "UNEMP",
          "LRIR"
         ],
         "x0": " ",
         "xaxis": "x",
         "y": [
          0.019230769230769273,
          0.02644230769230771,
          0.038461538461538436,
          0.03125,
          -0.009615384615384581,
          0.02168674698795181,
          0.028915662650602414,
          0.028915662650602414,
          0.03614457831325302,
          0.009638554216867434,
          0.019323671497584516,
          0.036231884057971064,
          0.02657004830917875,
          0.019323671497584516,
          0.0024154589371980784,
          0.0266343825665859,
          0.041162227602905554,
          0.024213075060532607,
          0.024213075060532607,
          -0.007263922518159882,
          0.03883495145631066,
          0.04611650485436891,
          0.016990291262135915,
          0.02669902912621358,
          0,
          0.041362530413625254,
          0.038929440389294356,
          0.012165450121654486,
          0.02676399026763987,
          0.01703163017031628,
          -0.004830917874396157,
          0.02657004830917875,
          0.012077294685990392,
          0.04106280193236711,
          -0.03140096618357491,
          0.004842615012106588,
          0.021791767554479424,
          0.03389830508474578,
          0.03874092009685237,
          -0.014527845036319542,
          0.036407766990291246,
          0.04854368932038844,
          0.050970873786407855,
          0.06067961165048552,
          0.012135922330097082,
          0.02676399026763987,
          0.03892944038929447,
          0.03649635036496357,
          0.041362530413625365,
          0.0024330900243308973,
          0.03170731707317076,
          0.04390243902439028,
          0.03658536585365857,
          0.03170731707317076,
          -0.014634146341463317,
          0.03667481662591676,
          0.041564792176039034,
          0.017114914425427785,
          0.022004889975550057,
          -0.017114914425427896,
          0.002421307506053183,
          0.014527845036319542,
          0.0266343825665859,
          0.03147699757869249,
          -0.03631961259079908,
          0.012135922330097082,
          0.029126213592232997,
          0.021844660194174748,
          0.03398058252427183,
          -0.019417475728155442,
          0.01703163017031628,
          0.031630170316301665,
          0.041362530413625254,
          0.04622871046228705,
          0.0048661800486617945,
          0.02195121951219514,
          0.02195121951219514,
          0.02682926829268295,
          0.02682926829268295,
          -0.007317073170731714,
          0.02444987775061125,
          0.03667481662591687,
          0.041564792176039145,
          0.02933985330073352,
          0.014669926650366705,
          0.019607843137254943,
          0.031862745098039214,
          0.02450980392156865,
          0.01715686274509809,
          -0.019607843137254943,
          0.016990291262136026,
          0.02184466019417486,
          0.03640776699029136,
          0.04126213592233019,
          -0.024271844660194164,
          0.0048661800486617945,
          0.014598540145985384,
          0.019464720194647178,
          0.04622871046228705,
          -0.02919708029197088,
          0.009756097560975618,
          0.019512195121951237,
          0.024390243902439046,
          0.039024390243902474,
          -0.017073170731707332,
          0.022004889975550168,
          0.02689486552567244,
          0.022004889975550168,
          0.044009779951100336,
          -0.004889975550122161,
          0.022058823529411797,
          0.031862745098039214,
          0.039215686274509776,
          0.03676470588235292,
          -0.004901960784313708,
          0.027027027027027084,
          0.03439803439803435,
          0.03194103194103193,
          0.029484029484029506,
          -0.012285012285012331,
          0.0048661800486617945,
          0.01703163017031628,
          0.03649635036496346,
          0.03406326034063256,
          -0.009732360097323589,
          -0.0024390243902439046,
          0.012195121951219523,
          0.019512195121951237,
          0.04146341463414627,
          -0.03170731707317076,
          -0.004889975550122272,
          0.014669926650366705,
          0.014669926650366705,
          0.02933985330073341,
          -0.02689486552567244,
          0,
          0.022058823529411797,
          0.026960784313725505,
          0.0490196078431373,
          -0.01225490196078427,
          0.0073710073710073765,
          0.014742014742014753,
          0.027027027027027084,
          0.029484029484029506,
          -0.0073710073710072654,
          0.017241379310344862,
          0.03201970443349755,
          0.034482758620689724,
          0.029556650246305494,
          -0.0049261083743842304,
          0.004878048780487809,
          0.0024390243902439046,
          0.034146341463414664,
          0.03170731707317076,
          -0.014634146341463428,
          0.007334963325183352,
          0.0317848410757946,
          0.02933985330073352,
          0.03667481662591687,
          -0.009779951100244544,
          0,
          0.01225490196078427,
          0.02941176470588236,
          0.039215686274509776,
          -0.026960784313725505,
          0.004914004914004844,
          0.014742014742014753,
          0.02457002457002455,
          0.03439803439803435,
          -0.014742014742014753,
          0,
          0.009852216748768461,
          0.01231527093596052,
          0.029556650246305383,
          0.0024630541871920597,
          0.014814814814814836,
          0.029629629629629672,
          0.041975308641975406,
          0.032098765432098775,
          0.004938271604938316
         ],
         "y0": " ",
         "yaxis": "y"
        },
        {
         "alignmentgroup": "True",
         "boxpoints": "all",
         "fillcolor": "rgba(255,255,255,0)",
         "hoveron": "points",
         "hovertemplate": "sc=3<br>theta=%{x}<br>diff=%{y}<extra></extra>",
         "legendgroup": "3",
         "line": {
          "color": "rgba(255,255,255,0)"
         },
         "marker": {
          "color": "#EF553B",
          "opacity": 0.5,
          "size": 5
         },
         "name": "3",
         "offsetgroup": "3",
         "orientation": "v",
         "pointpos": 0,
         "showlegend": false,
         "type": "box",
         "x": [
          "CSENT",
          "IPM",
          "HOUSE",
          "UNEMP",
          "LRIR",
          "CSENT",
          "IPM",
          "HOUSE",
          "UNEMP",
          "LRIR",
          "CSENT",
          "IPM",
          "HOUSE",
          "UNEMP",
          "LRIR",
          "CSENT",
          "IPM",
          "HOUSE",
          "UNEMP",
          "LRIR",
          "CSENT",
          "IPM",
          "HOUSE",
          "UNEMP",
          "LRIR",
          "CSENT",
          "IPM",
          "HOUSE",
          "UNEMP",
          "LRIR",
          "CSENT",
          "IPM",
          "HOUSE",
          "UNEMP",
          "LRIR",
          "CSENT",
          "IPM",
          "HOUSE",
          "UNEMP",
          "LRIR",
          "CSENT",
          "IPM",
          "HOUSE",
          "UNEMP",
          "LRIR",
          "CSENT",
          "IPM",
          "HOUSE",
          "UNEMP",
          "LRIR",
          "CSENT",
          "IPM",
          "HOUSE",
          "UNEMP",
          "LRIR",
          "CSENT",
          "IPM",
          "HOUSE",
          "UNEMP",
          "LRIR",
          "CSENT",
          "IPM",
          "HOUSE",
          "UNEMP",
          "LRIR",
          "CSENT",
          "IPM",
          "HOUSE",
          "UNEMP",
          "LRIR",
          "CSENT",
          "IPM",
          "HOUSE",
          "UNEMP",
          "LRIR",
          "CSENT",
          "IPM",
          "HOUSE",
          "UNEMP",
          "LRIR",
          "CSENT",
          "IPM",
          "HOUSE",
          "UNEMP",
          "LRIR",
          "CSENT",
          "IPM",
          "HOUSE",
          "UNEMP",
          "LRIR",
          "CSENT",
          "IPM",
          "HOUSE",
          "UNEMP",
          "LRIR",
          "CSENT",
          "IPM",
          "HOUSE",
          "UNEMP",
          "LRIR",
          "CSENT",
          "IPM",
          "HOUSE",
          "UNEMP",
          "LRIR",
          "CSENT",
          "IPM",
          "HOUSE",
          "UNEMP",
          "LRIR",
          "CSENT",
          "IPM",
          "HOUSE",
          "UNEMP",
          "LRIR",
          "CSENT",
          "IPM",
          "HOUSE",
          "UNEMP",
          "LRIR",
          "CSENT",
          "IPM",
          "HOUSE",
          "UNEMP",
          "LRIR",
          "CSENT",
          "IPM",
          "HOUSE",
          "UNEMP",
          "LRIR",
          "CSENT",
          "IPM",
          "HOUSE",
          "UNEMP",
          "LRIR",
          "CSENT",
          "IPM",
          "HOUSE",
          "UNEMP",
          "LRIR",
          "CSENT",
          "IPM",
          "HOUSE",
          "UNEMP",
          "LRIR",
          "CSENT",
          "IPM",
          "HOUSE",
          "UNEMP",
          "LRIR",
          "CSENT",
          "IPM",
          "HOUSE",
          "UNEMP",
          "LRIR",
          "CSENT",
          "IPM",
          "HOUSE",
          "UNEMP",
          "LRIR",
          "CSENT",
          "IPM",
          "HOUSE",
          "UNEMP",
          "LRIR",
          "CSENT",
          "IPM",
          "HOUSE",
          "UNEMP",
          "LRIR",
          "CSENT",
          "IPM",
          "HOUSE",
          "UNEMP",
          "LRIR",
          "CSENT",
          "IPM",
          "HOUSE",
          "UNEMP",
          "LRIR"
         ],
         "x0": " ",
         "xaxis": "x2",
         "y": [
          0.013612891559002471,
          0.018753312201901684,
          0.026725635445161045,
          0.020834810081718946,
          -0.009658556959381892,
          0.013964686998394926,
          0.020462309819313962,
          0.020462309819313962,
          0.024221097254805257,
          0.00466615518762814,
          0.013350726700135818,
          0.027504218438410777,
          0.019657653445544154,
          0.013008130081300862,
          0.0010521281683405492,
          0.018507890961262485,
          0.03047164811870684,
          0.017773561037318086,
          0.015975570556091334,
          -0.006433317128504257,
          0.02687850119090396,
          0.03352802455514725,
          0.012439687971602997,
          0.017058006946357618,
          -0.0013147394191881379,
          0.028700023380874407,
          0.028298739271725326,
          0.009219503900354864,
          0.016637582510486637,
          0.010430339269606237,
          -0.0031496062992126816,
          0.01824717562478606,
          0.008464566929133888,
          0.02738980057399365,
          -0.025446324159975053,
          0.003752288670047288,
          0.01615993048218123,
          0.02403224017451111,
          0.026295757388194452,
          -0.013284337734381313,
          0.023612659482224574,
          0.033809581223374296,
          0.03525641025641024,
          0.0406373568138273,
          0.006143598109340176,
          0.01764462138020384,
          0.027554322699953615,
          0.026105375450689583,
          0.028196377274592566,
          -0.00040519718707865415,
          0.022251294806775013,
          0.03235848434925859,
          0.02771183898184648,
          0.02290913369990799,
          -0.012119907610540492,
          0.024748463953207622,
          0.029227468947800594,
          0.01307238009481193,
          0.014928496686431925,
          -0.014366916549962916,
          0.0014233504636459449,
          0.010321362364563824,
          0.01709744892242193,
          0.020303765180113342,
          -0.02867385294644098,
          0.009150076569678256,
          0.019954128440366925,
          0.015275650842266453,
          0.02269230769230768,
          -0.015032154340836046,
          0.011331236948537549,
          0.02192437124052493,
          0.027866460569463958,
          0.030938657190047625,
          0.001512313840175472,
          0.014378422836967775,
          0.016611085724286156,
          0.01862740741837865,
          0.017980843026443094,
          -0.006385154133224269,
          0.015086751372276885,
          0.02515898251192361,
          0.028283982511923655,
          0.019590262132776703,
          0.00807497604988816,
          0.012841091492776902,
          0.022753689549505185,
          0.017659028576484048,
          0.011380005762028245,
          -0.015079350484561993,
          0.011207964134514747,
          0.014938221110403105,
          0.023385815397948928,
          0.02684014585267358,
          -0.020724231721674258,
          0.003578214364939325,
          0.010189312245386994,
          0.01225661993769478,
          0.030115826409189306,
          -0.02375772432460055,
          0.007155635062611743,
          0.01374896290150518,
          0.016457960644007175,
          0.025918440137914667,
          -0.013986013986014068,
          0.014172155348625926,
          0.019253698388165152,
          0.01529175050301812,
          0.029287953425884417,
          -0.0054909260120986625,
          0.013729032258064433,
          0.022364890282131622,
          0.02673385826771657,
          0.024815189873417798,
          -0.005509656301145638,
          0.0176346649518222,
          0.02412254313357509,
          0.022411980408749366,
          0.020177059773828776,
          -0.011179750857400417,
          0.003072196620583778,
          0.011221010827619948,
          0.02341613277883925,
          0.0224228649276087,
          -0.009665337682735364,
          -0.001635353893418512,
          0.008434576176511555,
          0.012288786482334668,
          0.02650586658822751,
          -0.023558430816495446,
          -0.0029030585795748465,
          0.010328493583275034,
          0.010164833201946166,
          0.019216757088628023,
          -0.019569725246241454,
          0,
          0.015092165898617615,
          0.01798921417565502,
          0.03192307692307694,
          -0.010072231139646837,
          0.0044061089969416045,
          0.011398738520068785,
          0.018464485487605597,
          0.019751543244322378,
          -0.006487878181752893,
          0.010823114083983731,
          0.022305075876504432,
          0.023983200707338725,
          0.019700310305405866,
          -0.005090497737556543,
          0.003044140030441511,
          0.001840321018403257,
          0.02115561132606003,
          0.020486239664321948,
          -0.012723440604181957,
          0.004692527080377151,
          0.020719939482278238,
          0.01853103117730248,
          0.02373198767504936,
          -0.009237209688567671,
          -0.00019820670127423945,
          0.008610239754231142,
          0.01840490797546024,
          0.024783031572647052,
          -0.020382822085889596,
          0.00330685453434465,
          0.01022545712764078,
          0.016168666975319712,
          0.022001648331959722,
          -0.011572271058195138,
          -0.0002253134796238454,
          0.007457822085889632,
          0.008505602782071242,
          0.01924342105263155,
          0.0007849526066351364,
          0.009013312708366472,
          0.020702645637429296,
          0.028157021783425717,
          0.021125497114493297,
          0.0015412620427097679
         ],
         "y0": " ",
         "yaxis": "y2"
        },
        {
         "alignmentgroup": "True",
         "boxpoints": "all",
         "fillcolor": "rgba(255,255,255,0)",
         "hoveron": "points",
         "hovertemplate": "sc=6<br>theta=%{x}<br>diff=%{y}<extra></extra>",
         "legendgroup": "6",
         "line": {
          "color": "rgba(255,255,255,0)"
         },
         "marker": {
          "color": "#00cc96",
          "opacity": 0.5,
          "size": 5
         },
         "name": "6",
         "offsetgroup": "6",
         "orientation": "v",
         "pointpos": 0,
         "showlegend": true,
         "type": "box",
         "x": [
          "CSENT",
          "IPM",
          "HOUSE",
          "UNEMP",
          "LRIR",
          "CSENT",
          "IPM",
          "HOUSE",
          "UNEMP",
          "LRIR",
          "CSENT",
          "IPM",
          "HOUSE",
          "UNEMP",
          "LRIR",
          "CSENT",
          "IPM",
          "HOUSE",
          "UNEMP",
          "LRIR",
          "CSENT",
          "IPM",
          "HOUSE",
          "UNEMP",
          "LRIR",
          "CSENT",
          "IPM",
          "HOUSE",
          "UNEMP",
          "LRIR",
          "CSENT",
          "IPM",
          "HOUSE",
          "UNEMP",
          "LRIR",
          "CSENT",
          "IPM",
          "HOUSE",
          "UNEMP",
          "LRIR",
          "CSENT",
          "IPM",
          "HOUSE",
          "UNEMP",
          "LRIR",
          "CSENT",
          "IPM",
          "HOUSE",
          "UNEMP",
          "LRIR",
          "CSENT",
          "IPM",
          "HOUSE",
          "UNEMP",
          "LRIR",
          "CSENT",
          "IPM",
          "HOUSE",
          "UNEMP",
          "LRIR",
          "CSENT",
          "IPM",
          "HOUSE",
          "UNEMP",
          "LRIR",
          "CSENT",
          "IPM",
          "HOUSE",
          "UNEMP",
          "LRIR",
          "CSENT",
          "IPM",
          "HOUSE",
          "UNEMP",
          "LRIR",
          "CSENT",
          "IPM",
          "HOUSE",
          "UNEMP",
          "LRIR",
          "CSENT",
          "IPM",
          "HOUSE",
          "UNEMP",
          "LRIR",
          "CSENT",
          "IPM",
          "HOUSE",
          "UNEMP",
          "LRIR",
          "CSENT",
          "IPM",
          "HOUSE",
          "UNEMP",
          "LRIR",
          "CSENT",
          "IPM",
          "HOUSE",
          "UNEMP",
          "LRIR",
          "CSENT",
          "IPM",
          "HOUSE",
          "UNEMP",
          "LRIR",
          "CSENT",
          "IPM",
          "HOUSE",
          "UNEMP",
          "LRIR",
          "CSENT",
          "IPM",
          "HOUSE",
          "UNEMP",
          "LRIR",
          "CSENT",
          "IPM",
          "HOUSE",
          "UNEMP",
          "LRIR",
          "CSENT",
          "IPM",
          "HOUSE",
          "UNEMP",
          "LRIR",
          "CSENT",
          "IPM",
          "HOUSE",
          "UNEMP",
          "LRIR",
          "CSENT",
          "IPM",
          "HOUSE",
          "UNEMP",
          "LRIR",
          "CSENT",
          "IPM",
          "HOUSE",
          "UNEMP",
          "LRIR",
          "CSENT",
          "IPM",
          "HOUSE",
          "UNEMP",
          "LRIR",
          "CSENT",
          "IPM",
          "HOUSE",
          "UNEMP",
          "LRIR",
          "CSENT",
          "IPM",
          "HOUSE",
          "UNEMP",
          "LRIR",
          "CSENT",
          "IPM",
          "HOUSE",
          "UNEMP",
          "LRIR",
          "CSENT",
          "IPM",
          "HOUSE",
          "UNEMP",
          "LRIR",
          "CSENT",
          "IPM",
          "HOUSE",
          "UNEMP",
          "LRIR",
          "CSENT",
          "IPM",
          "HOUSE",
          "UNEMP",
          "LRIR",
          "CSENT",
          "IPM",
          "HOUSE",
          "UNEMP",
          "LRIR"
         ],
         "x0": " ",
         "xaxis": "x",
         "y": [
          0.0024038461538461453,
          0.007211538461538436,
          0.03605769230769229,
          0.024038461538461453,
          -0.016826923076923128,
          0.016867469879518038,
          -0.002409638554216942,
          0.031325301204819245,
          0.01927710843373487,
          -0.02168674698795181,
          0.016908212560386437,
          0.009661835748792202,
          0.02657004830917875,
          0.007246376811594124,
          -0.0024154589371980784,
          0.016949152542372947,
          0.021791767554479424,
          0.016949152542372947,
          0.014527845036319653,
          -0.01210653753026636,
          0.03155339805825241,
          0.03155339805825241,
          0.01941747572815533,
          0.024271844660194164,
          -0.021844660194174748,
          0.03649635036496346,
          0.029197080291970767,
          0.009732360097323589,
          0.0048661800486617945,
          -0.012165450121654597,
          -0.009661835748792202,
          0.007246376811594235,
          0.009661835748792313,
          0.02898550724637683,
          -0.04589371980676327,
          -0.004842615012106588,
          0.002421307506053294,
          0.01210653753026636,
          0.0266343825665859,
          -0.029055690072639195,
          0.009708737864077666,
          0.007281553398058249,
          0.036407766990291246,
          0.02669902912621358,
          -0.016990291262135915,
          0.021897810218978075,
          0.029197080291970767,
          0.041362530413625254,
          0.04379562043795615,
          0,
          0.029268292682926744,
          0.029268292682926744,
          0.046341463414634076,
          0.024390243902439046,
          -0.012195121951219523,
          0.03422982885085568,
          0.041564792176039145,
          0.02444987775061125,
          0.0317848410757946,
          -0.02444987775061125,
          -0.007263922518159771,
          0.002421307506053294,
          0.004842615012106477,
          0.01210653753026636,
          -0.05569007263922521,
          0.0024271844660194164,
          0.02184466019417486,
          0.02184466019417486,
          0.03398058252427194,
          -0.012135922330097082,
          0.0024330900243308973,
          0.0097323600973237,
          0.031630170316301776,
          0.017031630170316392,
          -0.021897810218978075,
          0.0024390243902439046,
          0.012195121951219523,
          0.024390243902439046,
          0.02682926829268295,
          -0.02682926829268295,
          0.022004889975550168,
          0.02933985330073352,
          0.041564792176039145,
          0.02933985330073352,
          -0.012224938875305624,
          0.019607843137254943,
          0.02941176470588236,
          0.02450980392156865,
          0.022058823529411797,
          -0.022058823529411686,
          0.007281553398058249,
          0.009708737864077666,
          0.024271844660194164,
          0.031553398058252524,
          -0.036407766990291246,
          0.0048661800486617945,
          0.0048661800486617945,
          0.0048661800486617945,
          0.03406326034063267,
          -0.041362530413625254,
          0.017073170731707332,
          0.019512195121951237,
          0.017073170731707332,
          0.051219512195122,
          -0.02195121951219514,
          0.0024449877750610804,
          0.007334963325183352,
          0.02444987775061125,
          0.03422982885085579,
          -0.02933985330073352,
          0.007352941176470562,
          0.014705882352941124,
          0.03431372549019607,
          0.04166666666666663,
          -0.009803921568627527,
          0.019656019656019597,
          0.02457002457002455,
          0.03439803439803435,
          0.03439803439803435,
          -0.019656019656019708,
          0.0048661800486617945,
          -0.0024330900243308973,
          0.024330900243308973,
          0.024330900243308973,
          -0.02676399026763998,
          -0.007317073170731714,
          0,
          0.004878048780487809,
          0.017073170731707332,
          -0.04146341463414638,
          -0.012224938875305624,
          0.004889975550122272,
          0.007334963325183352,
          0.0317848410757946,
          -0.02689486552567233,
          0,
          0.007352941176470562,
          0.02450980392156854,
          0.04166666666666663,
          -0.012254901960784381,
          -0.00982800982800991,
          -0.0073710073710073765,
          0.017199017199017175,
          0.027027027027026973,
          -0.03194103194103204,
          0.017241379310344862,
          0.014778325123152691,
          0.039408866995073955,
          0.034482758620689724,
          -0.01231527093596052,
          0.009756097560975618,
          -0.012195121951219523,
          0.02682926829268295,
          0.02682926829268295,
          -0.009756097560975618,
          0.007334963325183463,
          0.014669926650366816,
          0.02444987775061125,
          0.02689486552567244,
          -0.019559902200488977,
          -0.002450980392156854,
          0.01225490196078427,
          0.014705882352941124,
          0.02450980392156865,
          -0.02941176470588236,
          -0.002457002457002422,
          0.0073710073710073765,
          0.027027027027027084,
          0.03194103194103193,
          -0.02211302211302213,
          -0.007389162561576401,
          0.0024630541871920597,
          0.01724137931034475,
          0.03201970443349744,
          -0.014778325123152802,
          0.0024691358024692134,
          0.007407407407407418,
          0.02716049382716057,
          0.024691358024691357,
          -0.012345679012345623
         ],
         "y0": " ",
         "yaxis": "y"
        },
        {
         "alignmentgroup": "True",
         "boxpoints": "all",
         "fillcolor": "rgba(255,255,255,0)",
         "hoveron": "points",
         "hovertemplate": "sc=6<br>theta=%{x}<br>diff=%{y}<extra></extra>",
         "legendgroup": "6",
         "line": {
          "color": "rgba(255,255,255,0)"
         },
         "marker": {
          "color": "#00cc96",
          "opacity": 0.5,
          "size": 5
         },
         "name": "6",
         "offsetgroup": "6",
         "orientation": "v",
         "pointpos": 0,
         "showlegend": false,
         "type": "box",
         "x": [
          "CSENT",
          "IPM",
          "HOUSE",
          "UNEMP",
          "LRIR",
          "CSENT",
          "IPM",
          "HOUSE",
          "UNEMP",
          "LRIR",
          "CSENT",
          "IPM",
          "HOUSE",
          "UNEMP",
          "LRIR",
          "CSENT",
          "IPM",
          "HOUSE",
          "UNEMP",
          "LRIR",
          "CSENT",
          "IPM",
          "HOUSE",
          "UNEMP",
          "LRIR",
          "CSENT",
          "IPM",
          "HOUSE",
          "UNEMP",
          "LRIR",
          "CSENT",
          "IPM",
          "HOUSE",
          "UNEMP",
          "LRIR",
          "CSENT",
          "IPM",
          "HOUSE",
          "UNEMP",
          "LRIR",
          "CSENT",
          "IPM",
          "HOUSE",
          "UNEMP",
          "LRIR",
          "CSENT",
          "IPM",
          "HOUSE",
          "UNEMP",
          "LRIR",
          "CSENT",
          "IPM",
          "HOUSE",
          "UNEMP",
          "LRIR",
          "CSENT",
          "IPM",
          "HOUSE",
          "UNEMP",
          "LRIR",
          "CSENT",
          "IPM",
          "HOUSE",
          "UNEMP",
          "LRIR",
          "CSENT",
          "IPM",
          "HOUSE",
          "UNEMP",
          "LRIR",
          "CSENT",
          "IPM",
          "HOUSE",
          "UNEMP",
          "LRIR",
          "CSENT",
          "IPM",
          "HOUSE",
          "UNEMP",
          "LRIR",
          "CSENT",
          "IPM",
          "HOUSE",
          "UNEMP",
          "LRIR",
          "CSENT",
          "IPM",
          "HOUSE",
          "UNEMP",
          "LRIR",
          "CSENT",
          "IPM",
          "HOUSE",
          "UNEMP",
          "LRIR",
          "CSENT",
          "IPM",
          "HOUSE",
          "UNEMP",
          "LRIR",
          "CSENT",
          "IPM",
          "HOUSE",
          "UNEMP",
          "LRIR",
          "CSENT",
          "IPM",
          "HOUSE",
          "UNEMP",
          "LRIR",
          "CSENT",
          "IPM",
          "HOUSE",
          "UNEMP",
          "LRIR",
          "CSENT",
          "IPM",
          "HOUSE",
          "UNEMP",
          "LRIR",
          "CSENT",
          "IPM",
          "HOUSE",
          "UNEMP",
          "LRIR",
          "CSENT",
          "IPM",
          "HOUSE",
          "UNEMP",
          "LRIR",
          "CSENT",
          "IPM",
          "HOUSE",
          "UNEMP",
          "LRIR",
          "CSENT",
          "IPM",
          "HOUSE",
          "UNEMP",
          "LRIR",
          "CSENT",
          "IPM",
          "HOUSE",
          "UNEMP",
          "LRIR",
          "CSENT",
          "IPM",
          "HOUSE",
          "UNEMP",
          "LRIR",
          "CSENT",
          "IPM",
          "HOUSE",
          "UNEMP",
          "LRIR",
          "CSENT",
          "IPM",
          "HOUSE",
          "UNEMP",
          "LRIR",
          "CSENT",
          "IPM",
          "HOUSE",
          "UNEMP",
          "LRIR",
          "CSENT",
          "IPM",
          "HOUSE",
          "UNEMP",
          "LRIR",
          "CSENT",
          "IPM",
          "HOUSE",
          "UNEMP",
          "LRIR",
          "CSENT",
          "IPM",
          "HOUSE",
          "UNEMP",
          "LRIR"
         ],
         "x0": " ",
         "xaxis": "x2",
         "y": [
          0.0006999125109361515,
          0.005227951521733609,
          0.024854501882916713,
          0.014831691348597187,
          -0.016057828836969268,
          0.01094203447144615,
          -0.0010230948619573965,
          0.02139732533433325,
          0.012364776059043625,
          -0.01927773855286219,
          0.010676746233107326,
          0.008322366168896922,
          0.018179580408104745,
          0.0030272768625073665,
          -0.003913175757194187,
          0.011604565557056246,
          0.017190592709193875,
          0.01281425881340914,
          0.00893896513056014,
          -0.010299620426952316,
          0.021766559848800604,
          0.022937242825249116,
          0.013872637382330133,
          0.014609604282903699,
          -0.017539879322173157,
          0.025057731827715424,
          0.021987601957585534,
          0.006976219843764397,
          0.0009089949924114826,
          -0.011479064709081,
          -0.005936520376175536,
          0.006322724616120268,
          0.00656347962382442,
          0.01931659488862192,
          -0.03965279356335938,
          -0.0034829769501559804,
          0.0023622047244096223,
          0.0086122047244096,
          0.01772270629180772,
          -0.0257575956083691,
          0.006745894466942071,
          0.007446432042585216,
          0.02616718087253833,
          0.01868479626909736,
          -0.01611749558914688,
          0.013986897150524924,
          0.022275989505170846,
          0.02967499064001755,
          0.02979219346715367,
          -0.003526540442322701,
          0.01929865850788437,
          0.022084195997239542,
          0.034230944774075844,
          0.0168342296001871,
          -0.011505273250239645,
          0.02426713259561253,
          0.03115977729394126,
          0.019333546257851553,
          0.02321500442727209,
          -0.01970197019701969,
          -0.004958353565159057,
          0.0030351088264244375,
          0.0030487804878046587,
          0.007731001967553719,
          -0.0434812981517706,
          0.0019593389608845158,
          0.01543253243407805,
          0.014737508803274624,
          0.021852665972855623,
          -0.0130444194956425,
          0.0014182316118935834,
          0.007860429447852701,
          0.021774502297090326,
          0.011833462132921135,
          -0.01808144246353316,
          0.0011262832652246813,
          0.010173421573836938,
          0.016993224684123787,
          0.018181372188289524,
          -0.021200851522224173,
          0.013849681528662394,
          0.022057088936069835,
          0.02884624939137692,
          0.02001245755389891,
          -0.011787100080532853,
          0.012882447665056307,
          0.022090676101698792,
          0.017710813549027593,
          0.015315913218399646,
          -0.01731608610899238,
          0.005364201016375025,
          0.007858657779124423,
          0.016273291925466005,
          0.02123500708626236,
          -0.03099943534726124,
          0.0025308822237574136,
          0.0038718094396396063,
          0.0022577072839637946,
          0.02150537634408589,
          -0.035616046868859996,
          0.011944577161968395,
          0.01415533618923448,
          0.011673684570880805,
          0.0336837075967511,
          -0.02070023000255561,
          0.0020233230339880004,
          0.006564615837503784,
          0.017055088923064843,
          0.0228363953811358,
          -0.023484343770819427,
          0.00429067524115756,
          0.011808450704225426,
          0.02378582677165353,
          0.028638993710691785,
          -0.010261157024793466,
          0.012627437708870981,
          0.018946243629787918,
          0.024963924963924855,
          0.023698166784983488,
          -0.01662337662337665,
          0.003310615713734699,
          -0.0008797367306375703,
          0.015733495563154287,
          0.015733495563154287,
          -0.02154258452114488,
          -0.004481440073657139,
          0.001330475275334475,
          0.0030674846625767804,
          0.011214761277791863,
          -0.03172882838989366,
          -0.008110824002297012,
          0.003989762119843365,
          0.004963873243443051,
          0.020498931805720932,
          -0.021704984292774787,
          0,
          0.005835901386748832,
          0.016947852760736182,
          0.02740755007704143,
          -0.010728663446054831,
          -0.006888203950734306,
          -0.0031691085053996426,
          0.012080011737663265,
          0.018078347683175178,
          -0.024135012439405967,
          0.010080156079835922,
          0.011141921353507334,
          0.026865191793758902,
          0.022911912368781318,
          -0.011242439026949325,
          0.006367942119788084,
          -0.006337609143869272,
          0.01648839470680241,
          0.01758062799853799,
          -0.009727683122178532,
          0.004959490469723327,
          0.010750013817498627,
          0.015748915157863363,
          0.01737307523508058,
          -0.015904028760110878,
          -0.0016589861751152846,
          0.008854608991047952,
          0.009428303258269044,
          0.016125535827919646,
          -0.023765955380949833,
          -0.001162790697674554,
          0.006412966878083015,
          0.01814615239175632,
          0.0211949328795612,
          -0.01815308195981047,
          -0.004811407409567536,
          0.002698939087241614,
          0.011915528948992837,
          0.020938035511138486,
          -0.012041696621135856,
          0.0011219335493347637,
          0.006911157631130815,
          0.018785558202255914,
          0.01659656362842732,
          -0.010841823608109702
         ],
         "y0": " ",
         "yaxis": "y2"
        }
       ],
       "layout": {
        "annotations": [
         {
          "font": {
           "color": "grey",
           "size": 11
          },
          "showarrow": false,
          "text": "Acc",
          "x": 0.225,
          "xanchor": "center",
          "xref": "paper",
          "y": 0.95,
          "yanchor": "bottom",
          "yref": "paper"
         },
         {
          "font": {
           "color": "grey",
           "size": 11
          },
          "showarrow": false,
          "text": "F1",
          "x": 0.775,
          "xanchor": "center",
          "xref": "paper",
          "y": 0.95,
          "yanchor": "bottom",
          "yref": "paper"
         }
        ],
        "height": 400,
        "legend": {
         "orientation": "h",
         "title": {
          "text": "Scopes:"
         },
         "x": 0.5,
         "xanchor": "center",
         "y": -0.1,
         "yanchor": "top"
        },
        "margin": {
         "b": 60,
         "l": 80,
         "r": 40,
         "t": 80
        },
        "template": {
         "data": {
          "bar": [
           {
            "error_x": {
             "color": "#f2f5fa"
            },
            "error_y": {
             "color": "#f2f5fa"
            },
            "marker": {
             "line": {
              "color": "rgb(17,17,17)",
              "width": 0.5
             },
             "pattern": {
              "fillmode": "overlay",
              "size": 10,
              "solidity": 0.2
             }
            },
            "type": "bar"
           }
          ],
          "barpolar": [
           {
            "marker": {
             "line": {
              "color": "rgb(17,17,17)",
              "width": 0.5
             },
             "pattern": {
              "fillmode": "overlay",
              "size": 10,
              "solidity": 0.2
             }
            },
            "type": "barpolar"
           }
          ],
          "carpet": [
           {
            "aaxis": {
             "endlinecolor": "#A2B1C6",
             "gridcolor": "#506784",
             "linecolor": "#506784",
             "minorgridcolor": "#506784",
             "startlinecolor": "#A2B1C6"
            },
            "baxis": {
             "endlinecolor": "#A2B1C6",
             "gridcolor": "#506784",
             "linecolor": "#506784",
             "minorgridcolor": "#506784",
             "startlinecolor": "#A2B1C6"
            },
            "type": "carpet"
           }
          ],
          "choropleth": [
           {
            "colorbar": {
             "outlinewidth": 0,
             "ticks": ""
            },
            "type": "choropleth"
           }
          ],
          "contour": [
           {
            "colorbar": {
             "outlinewidth": 0,
             "ticks": ""
            },
            "colorscale": [
             [
              0,
              "#0d0887"
             ],
             [
              0.1111111111111111,
              "#46039f"
             ],
             [
              0.2222222222222222,
              "#7201a8"
             ],
             [
              0.3333333333333333,
              "#9c179e"
             ],
             [
              0.4444444444444444,
              "#bd3786"
             ],
             [
              0.5555555555555556,
              "#d8576b"
             ],
             [
              0.6666666666666666,
              "#ed7953"
             ],
             [
              0.7777777777777778,
              "#fb9f3a"
             ],
             [
              0.8888888888888888,
              "#fdca26"
             ],
             [
              1,
              "#f0f921"
             ]
            ],
            "type": "contour"
           }
          ],
          "contourcarpet": [
           {
            "colorbar": {
             "outlinewidth": 0,
             "ticks": ""
            },
            "type": "contourcarpet"
           }
          ],
          "heatmap": [
           {
            "colorbar": {
             "outlinewidth": 0,
             "ticks": ""
            },
            "colorscale": [
             [
              0,
              "#0d0887"
             ],
             [
              0.1111111111111111,
              "#46039f"
             ],
             [
              0.2222222222222222,
              "#7201a8"
             ],
             [
              0.3333333333333333,
              "#9c179e"
             ],
             [
              0.4444444444444444,
              "#bd3786"
             ],
             [
              0.5555555555555556,
              "#d8576b"
             ],
             [
              0.6666666666666666,
              "#ed7953"
             ],
             [
              0.7777777777777778,
              "#fb9f3a"
             ],
             [
              0.8888888888888888,
              "#fdca26"
             ],
             [
              1,
              "#f0f921"
             ]
            ],
            "type": "heatmap"
           }
          ],
          "heatmapgl": [
           {
            "colorbar": {
             "outlinewidth": 0,
             "ticks": ""
            },
            "colorscale": [
             [
              0,
              "#0d0887"
             ],
             [
              0.1111111111111111,
              "#46039f"
             ],
             [
              0.2222222222222222,
              "#7201a8"
             ],
             [
              0.3333333333333333,
              "#9c179e"
             ],
             [
              0.4444444444444444,
              "#bd3786"
             ],
             [
              0.5555555555555556,
              "#d8576b"
             ],
             [
              0.6666666666666666,
              "#ed7953"
             ],
             [
              0.7777777777777778,
              "#fb9f3a"
             ],
             [
              0.8888888888888888,
              "#fdca26"
             ],
             [
              1,
              "#f0f921"
             ]
            ],
            "type": "heatmapgl"
           }
          ],
          "histogram": [
           {
            "marker": {
             "pattern": {
              "fillmode": "overlay",
              "size": 10,
              "solidity": 0.2
             }
            },
            "type": "histogram"
           }
          ],
          "histogram2d": [
           {
            "colorbar": {
             "outlinewidth": 0,
             "ticks": ""
            },
            "colorscale": [
             [
              0,
              "#0d0887"
             ],
             [
              0.1111111111111111,
              "#46039f"
             ],
             [
              0.2222222222222222,
              "#7201a8"
             ],
             [
              0.3333333333333333,
              "#9c179e"
             ],
             [
              0.4444444444444444,
              "#bd3786"
             ],
             [
              0.5555555555555556,
              "#d8576b"
             ],
             [
              0.6666666666666666,
              "#ed7953"
             ],
             [
              0.7777777777777778,
              "#fb9f3a"
             ],
             [
              0.8888888888888888,
              "#fdca26"
             ],
             [
              1,
              "#f0f921"
             ]
            ],
            "type": "histogram2d"
           }
          ],
          "histogram2dcontour": [
           {
            "colorbar": {
             "outlinewidth": 0,
             "ticks": ""
            },
            "colorscale": [
             [
              0,
              "#0d0887"
             ],
             [
              0.1111111111111111,
              "#46039f"
             ],
             [
              0.2222222222222222,
              "#7201a8"
             ],
             [
              0.3333333333333333,
              "#9c179e"
             ],
             [
              0.4444444444444444,
              "#bd3786"
             ],
             [
              0.5555555555555556,
              "#d8576b"
             ],
             [
              0.6666666666666666,
              "#ed7953"
             ],
             [
              0.7777777777777778,
              "#fb9f3a"
             ],
             [
              0.8888888888888888,
              "#fdca26"
             ],
             [
              1,
              "#f0f921"
             ]
            ],
            "type": "histogram2dcontour"
           }
          ],
          "mesh3d": [
           {
            "colorbar": {
             "outlinewidth": 0,
             "ticks": ""
            },
            "type": "mesh3d"
           }
          ],
          "parcoords": [
           {
            "line": {
             "colorbar": {
              "outlinewidth": 0,
              "ticks": ""
             }
            },
            "type": "parcoords"
           }
          ],
          "pie": [
           {
            "automargin": true,
            "type": "pie"
           }
          ],
          "scatter": [
           {
            "marker": {
             "line": {
              "color": "#283442"
             }
            },
            "type": "scatter"
           }
          ],
          "scatter3d": [
           {
            "line": {
             "colorbar": {
              "outlinewidth": 0,
              "ticks": ""
             }
            },
            "marker": {
             "colorbar": {
              "outlinewidth": 0,
              "ticks": ""
             }
            },
            "type": "scatter3d"
           }
          ],
          "scattercarpet": [
           {
            "marker": {
             "colorbar": {
              "outlinewidth": 0,
              "ticks": ""
             }
            },
            "type": "scattercarpet"
           }
          ],
          "scattergeo": [
           {
            "marker": {
             "colorbar": {
              "outlinewidth": 0,
              "ticks": ""
             }
            },
            "type": "scattergeo"
           }
          ],
          "scattergl": [
           {
            "marker": {
             "line": {
              "color": "#283442"
             }
            },
            "type": "scattergl"
           }
          ],
          "scattermapbox": [
           {
            "marker": {
             "colorbar": {
              "outlinewidth": 0,
              "ticks": ""
             }
            },
            "type": "scattermapbox"
           }
          ],
          "scatterpolar": [
           {
            "marker": {
             "colorbar": {
              "outlinewidth": 0,
              "ticks": ""
             }
            },
            "type": "scatterpolar"
           }
          ],
          "scatterpolargl": [
           {
            "marker": {
             "colorbar": {
              "outlinewidth": 0,
              "ticks": ""
             }
            },
            "type": "scatterpolargl"
           }
          ],
          "scatterternary": [
           {
            "marker": {
             "colorbar": {
              "outlinewidth": 0,
              "ticks": ""
             }
            },
            "type": "scatterternary"
           }
          ],
          "surface": [
           {
            "colorbar": {
             "outlinewidth": 0,
             "ticks": ""
            },
            "colorscale": [
             [
              0,
              "#0d0887"
             ],
             [
              0.1111111111111111,
              "#46039f"
             ],
             [
              0.2222222222222222,
              "#7201a8"
             ],
             [
              0.3333333333333333,
              "#9c179e"
             ],
             [
              0.4444444444444444,
              "#bd3786"
             ],
             [
              0.5555555555555556,
              "#d8576b"
             ],
             [
              0.6666666666666666,
              "#ed7953"
             ],
             [
              0.7777777777777778,
              "#fb9f3a"
             ],
             [
              0.8888888888888888,
              "#fdca26"
             ],
             [
              1,
              "#f0f921"
             ]
            ],
            "type": "surface"
           }
          ],
          "table": [
           {
            "cells": {
             "fill": {
              "color": "#506784"
             },
             "line": {
              "color": "rgb(17,17,17)"
             }
            },
            "header": {
             "fill": {
              "color": "#2a3f5f"
             },
             "line": {
              "color": "rgb(17,17,17)"
             }
            },
            "type": "table"
           }
          ]
         },
         "layout": {
          "annotationdefaults": {
           "arrowcolor": "#f2f5fa",
           "arrowhead": 0,
           "arrowwidth": 1
          },
          "autotypenumbers": "strict",
          "coloraxis": {
           "colorbar": {
            "outlinewidth": 0,
            "ticks": ""
           }
          },
          "colorscale": {
           "diverging": [
            [
             0,
             "#8e0152"
            ],
            [
             0.1,
             "#c51b7d"
            ],
            [
             0.2,
             "#de77ae"
            ],
            [
             0.3,
             "#f1b6da"
            ],
            [
             0.4,
             "#fde0ef"
            ],
            [
             0.5,
             "#f7f7f7"
            ],
            [
             0.6,
             "#e6f5d0"
            ],
            [
             0.7,
             "#b8e186"
            ],
            [
             0.8,
             "#7fbc41"
            ],
            [
             0.9,
             "#4d9221"
            ],
            [
             1,
             "#276419"
            ]
           ],
           "sequential": [
            [
             0,
             "#0d0887"
            ],
            [
             0.1111111111111111,
             "#46039f"
            ],
            [
             0.2222222222222222,
             "#7201a8"
            ],
            [
             0.3333333333333333,
             "#9c179e"
            ],
            [
             0.4444444444444444,
             "#bd3786"
            ],
            [
             0.5555555555555556,
             "#d8576b"
            ],
            [
             0.6666666666666666,
             "#ed7953"
            ],
            [
             0.7777777777777778,
             "#fb9f3a"
            ],
            [
             0.8888888888888888,
             "#fdca26"
            ],
            [
             1,
             "#f0f921"
            ]
           ],
           "sequentialminus": [
            [
             0,
             "#0d0887"
            ],
            [
             0.1111111111111111,
             "#46039f"
            ],
            [
             0.2222222222222222,
             "#7201a8"
            ],
            [
             0.3333333333333333,
             "#9c179e"
            ],
            [
             0.4444444444444444,
             "#bd3786"
            ],
            [
             0.5555555555555556,
             "#d8576b"
            ],
            [
             0.6666666666666666,
             "#ed7953"
            ],
            [
             0.7777777777777778,
             "#fb9f3a"
            ],
            [
             0.8888888888888888,
             "#fdca26"
            ],
            [
             1,
             "#f0f921"
            ]
           ]
          },
          "colorway": [
           "#636efa",
           "#EF553B",
           "#00cc96",
           "#ab63fa",
           "#FFA15A",
           "#19d3f3",
           "#FF6692",
           "#B6E880",
           "#FF97FF",
           "#FECB52"
          ],
          "font": {
           "color": "#f2f5fa"
          },
          "geo": {
           "bgcolor": "rgb(17,17,17)",
           "lakecolor": "rgb(17,17,17)",
           "landcolor": "rgb(17,17,17)",
           "showlakes": true,
           "showland": true,
           "subunitcolor": "#506784"
          },
          "hoverlabel": {
           "align": "left"
          },
          "hovermode": "closest",
          "mapbox": {
           "style": "dark"
          },
          "paper_bgcolor": "rgb(17,17,17)",
          "plot_bgcolor": "rgb(17,17,17)",
          "polar": {
           "angularaxis": {
            "gridcolor": "#506784",
            "linecolor": "#506784",
            "ticks": ""
           },
           "bgcolor": "rgb(17,17,17)",
           "radialaxis": {
            "gridcolor": "#506784",
            "linecolor": "#506784",
            "ticks": ""
           }
          },
          "scene": {
           "xaxis": {
            "backgroundcolor": "rgb(17,17,17)",
            "gridcolor": "#506784",
            "gridwidth": 2,
            "linecolor": "#506784",
            "showbackground": true,
            "ticks": "",
            "zerolinecolor": "#C8D4E3"
           },
           "yaxis": {
            "backgroundcolor": "rgb(17,17,17)",
            "gridcolor": "#506784",
            "gridwidth": 2,
            "linecolor": "#506784",
            "showbackground": true,
            "ticks": "",
            "zerolinecolor": "#C8D4E3"
           },
           "zaxis": {
            "backgroundcolor": "rgb(17,17,17)",
            "gridcolor": "#506784",
            "gridwidth": 2,
            "linecolor": "#506784",
            "showbackground": true,
            "ticks": "",
            "zerolinecolor": "#C8D4E3"
           }
          },
          "shapedefaults": {
           "line": {
            "color": "#f2f5fa"
           }
          },
          "sliderdefaults": {
           "bgcolor": "#C8D4E3",
           "bordercolor": "rgb(17,17,17)",
           "borderwidth": 1,
           "tickwidth": 0
          },
          "ternary": {
           "aaxis": {
            "gridcolor": "#506784",
            "linecolor": "#506784",
            "ticks": ""
           },
           "baxis": {
            "gridcolor": "#506784",
            "linecolor": "#506784",
            "ticks": ""
           },
           "bgcolor": "rgb(17,17,17)",
           "caxis": {
            "gridcolor": "#506784",
            "linecolor": "#506784",
            "ticks": ""
           }
          },
          "title": {
           "x": 0.05
          },
          "updatemenudefaults": {
           "bgcolor": "#506784",
           "borderwidth": 0
          },
          "xaxis": {
           "automargin": true,
           "gridcolor": "#283442",
           "linecolor": "#506784",
           "ticks": "",
           "title": {
            "standoff": 15
           },
           "zerolinecolor": "#283442",
           "zerolinewidth": 2
          },
          "yaxis": {
           "automargin": true,
           "gridcolor": "#283442",
           "linecolor": "#506784",
           "ticks": "",
           "title": {
            "standoff": 15
           },
           "zerolinecolor": "#283442",
           "zerolinewidth": 2
          }
         }
        },
        "title": {
         "text": "Observe Backward Elimination in All Models With Repect to Scopes<br><span style=\"font-size: 12.5px; color: lightgrey;\"> -- How meansures are changed by removing the impact of each coefficient</span>"
        },
        "width": 800,
        "xaxis": {
         "anchor": "y",
         "domain": [
          0,
          0.45
         ]
        },
        "xaxis2": {
         "anchor": "y2",
         "domain": [
          0.55,
          1
         ]
        },
        "yaxis": {
         "anchor": "x",
         "domain": [
          0,
          1
         ],
         "title": {
          "text": "Difference"
         }
        },
        "yaxis2": {
         "anchor": "x2",
         "domain": [
          0,
          1
         ]
        }
       }
      }
     },
     "metadata": {},
     "output_type": "display_data"
    },
    {
     "data": {
      "application/vnd.plotly.v1+json": {
       "config": {
        "plotlyServerURL": "https://plot.ly"
       },
       "data": [
        {
         "alignmentgroup": "True",
         "boxpoints": "all",
         "fillcolor": "rgba(255,255,255,0)",
         "hoveron": "points",
         "hovertemplate": "ma=1<br>theta=%{x}<br>diff=%{y}<extra></extra>",
         "legendgroup": "1",
         "line": {
          "color": "rgba(255,255,255,0)"
         },
         "marker": {
          "color": "#636efa",
          "opacity": 0.5,
          "size": 5
         },
         "name": "1",
         "offsetgroup": "1",
         "orientation": "v",
         "pointpos": 0,
         "showlegend": true,
         "type": "box",
         "x": [
          "CSENT",
          "IPM",
          "HOUSE",
          "UNEMP",
          "LRIR",
          "CSENT",
          "IPM",
          "HOUSE",
          "UNEMP",
          "LRIR",
          "CSENT",
          "IPM",
          "HOUSE",
          "UNEMP",
          "LRIR",
          "CSENT",
          "IPM",
          "HOUSE",
          "UNEMP",
          "LRIR",
          "CSENT",
          "IPM",
          "HOUSE",
          "UNEMP",
          "LRIR",
          "CSENT",
          "IPM",
          "HOUSE",
          "UNEMP",
          "LRIR",
          "CSENT",
          "IPM",
          "HOUSE",
          "UNEMP",
          "LRIR",
          "CSENT",
          "IPM",
          "HOUSE",
          "UNEMP",
          "LRIR",
          "CSENT",
          "IPM",
          "HOUSE",
          "UNEMP",
          "LRIR",
          "CSENT",
          "IPM",
          "HOUSE",
          "UNEMP",
          "LRIR",
          "CSENT",
          "IPM",
          "HOUSE",
          "UNEMP",
          "LRIR",
          "CSENT",
          "IPM",
          "HOUSE",
          "UNEMP",
          "LRIR",
          "CSENT",
          "IPM",
          "HOUSE",
          "UNEMP",
          "LRIR",
          "CSENT",
          "IPM",
          "HOUSE",
          "UNEMP",
          "LRIR",
          "CSENT",
          "IPM",
          "HOUSE",
          "UNEMP",
          "LRIR",
          "CSENT",
          "IPM",
          "HOUSE",
          "UNEMP",
          "LRIR",
          "CSENT",
          "IPM",
          "HOUSE",
          "UNEMP",
          "LRIR",
          "CSENT",
          "IPM",
          "HOUSE",
          "UNEMP",
          "LRIR"
         ],
         "x0": " ",
         "xaxis": "x",
         "y": [
          0.03125,
          0.04086538461538469,
          0.0360576923076924,
          0.04807692307692313,
          0.02163461538461542,
          0.036144578313252906,
          0.05060240963855411,
          0.03855421686746985,
          0.04096385542168668,
          0.01927710843373487,
          0.03864734299516914,
          0.05555555555555558,
          0.036231884057971064,
          0.04106280193236722,
          0.01449275362318847,
          0.03874092009685237,
          0.060532687651331796,
          0.03631961259079908,
          0.0314769975786926,
          0.014527845036319653,
          0.04611650485436891,
          0.05582524271844669,
          0.029126213592232997,
          0.04126213592233008,
          0.024271844660194164,
          0.04622871046228716,
          0.058394160583941646,
          0.02676399026763987,
          0.024330900243308973,
          0.024330900243308973,
          0.019230769230769273,
          0.02644230769230771,
          0.038461538461538436,
          0.03125,
          -0.009615384615384581,
          0.02168674698795181,
          0.028915662650602414,
          0.028915662650602414,
          0.03614457831325302,
          0.009638554216867434,
          0.019323671497584516,
          0.036231884057971064,
          0.02657004830917875,
          0.019323671497584516,
          0.0024154589371980784,
          0.0266343825665859,
          0.041162227602905554,
          0.024213075060532607,
          0.024213075060532607,
          -0.007263922518159882,
          0.03883495145631066,
          0.04611650485436891,
          0.016990291262135915,
          0.02669902912621358,
          0,
          0.041362530413625254,
          0.038929440389294356,
          0.012165450121654486,
          0.02676399026763987,
          0.01703163017031628,
          0.0024038461538461453,
          0.007211538461538436,
          0.03605769230769229,
          0.024038461538461453,
          -0.016826923076923128,
          0.016867469879518038,
          -0.002409638554216942,
          0.031325301204819245,
          0.01927710843373487,
          -0.02168674698795181,
          0.016908212560386437,
          0.009661835748792202,
          0.02657004830917875,
          0.007246376811594124,
          -0.0024154589371980784,
          0.016949152542372947,
          0.021791767554479424,
          0.016949152542372947,
          0.014527845036319653,
          -0.01210653753026636,
          0.03155339805825241,
          0.03155339805825241,
          0.01941747572815533,
          0.024271844660194164,
          -0.021844660194174748,
          0.03649635036496346,
          0.029197080291970767,
          0.009732360097323589,
          0.0048661800486617945,
          -0.012165450121654597
         ],
         "y0": " ",
         "yaxis": "y"
        },
        {
         "alignmentgroup": "True",
         "boxpoints": "all",
         "fillcolor": "rgba(255,255,255,0)",
         "hoveron": "points",
         "hovertemplate": "ma=1<br>theta=%{x}<br>diff=%{y}<extra></extra>",
         "legendgroup": "1",
         "line": {
          "color": "rgba(255,255,255,0)"
         },
         "marker": {
          "color": "#636efa",
          "opacity": 0.5,
          "size": 5
         },
         "name": "1",
         "offsetgroup": "1",
         "orientation": "v",
         "pointpos": 0,
         "showlegend": false,
         "type": "box",
         "x": [
          "CSENT",
          "IPM",
          "HOUSE",
          "UNEMP",
          "LRIR",
          "CSENT",
          "IPM",
          "HOUSE",
          "UNEMP",
          "LRIR",
          "CSENT",
          "IPM",
          "HOUSE",
          "UNEMP",
          "LRIR",
          "CSENT",
          "IPM",
          "HOUSE",
          "UNEMP",
          "LRIR",
          "CSENT",
          "IPM",
          "HOUSE",
          "UNEMP",
          "LRIR",
          "CSENT",
          "IPM",
          "HOUSE",
          "UNEMP",
          "LRIR",
          "CSENT",
          "IPM",
          "HOUSE",
          "UNEMP",
          "LRIR",
          "CSENT",
          "IPM",
          "HOUSE",
          "UNEMP",
          "LRIR",
          "CSENT",
          "IPM",
          "HOUSE",
          "UNEMP",
          "LRIR",
          "CSENT",
          "IPM",
          "HOUSE",
          "UNEMP",
          "LRIR",
          "CSENT",
          "IPM",
          "HOUSE",
          "UNEMP",
          "LRIR",
          "CSENT",
          "IPM",
          "HOUSE",
          "UNEMP",
          "LRIR",
          "CSENT",
          "IPM",
          "HOUSE",
          "UNEMP",
          "LRIR",
          "CSENT",
          "IPM",
          "HOUSE",
          "UNEMP",
          "LRIR",
          "CSENT",
          "IPM",
          "HOUSE",
          "UNEMP",
          "LRIR",
          "CSENT",
          "IPM",
          "HOUSE",
          "UNEMP",
          "LRIR",
          "CSENT",
          "IPM",
          "HOUSE",
          "UNEMP",
          "LRIR",
          "CSENT",
          "IPM",
          "HOUSE",
          "UNEMP",
          "LRIR"
         ],
         "x0": " ",
         "xaxis": "x2",
         "y": [
          0.020551274391664154,
          0.02776194618591976,
          0.024617292097869448,
          0.03199302593355002,
          0.012893533167662397,
          0.024394706986422543,
          0.035347396386277485,
          0.027307751579596307,
          0.028092484948599394,
          0.01266128693313151,
          0.025591545939888438,
          0.03855238134189498,
          0.024879872416221582,
          0.0268321817789543,
          0.00876011669613952,
          0.026058631921824338,
          0.04216864340299964,
          0.025402969886754057,
          0.02043719880404149,
          0.009441996125268859,
          0.031235625728742056,
          0.03903252798374912,
          0.020578958956144366,
          0.027387156516495814,
          0.01669234240127293,
          0.03213327310890879,
          0.04061343204653611,
          0.01948674488201474,
          0.015042753662654507,
          0.016393442622950838,
          0.013612891559002471,
          0.018753312201901684,
          0.026725635445161045,
          0.020834810081718946,
          -0.009658556959381892,
          0.013964686998394926,
          0.020462309819313962,
          0.020462309819313962,
          0.024221097254805257,
          0.00466615518762814,
          0.013350726700135818,
          0.027504218438410777,
          0.019657653445544154,
          0.013008130081300862,
          0.0010521281683405492,
          0.018507890961262485,
          0.03047164811870684,
          0.017773561037318086,
          0.015975570556091334,
          -0.006433317128504257,
          0.02687850119090396,
          0.03352802455514725,
          0.012439687971602997,
          0.017058006946357618,
          -0.0013147394191881379,
          0.028700023380874407,
          0.028298739271725326,
          0.009219503900354864,
          0.016637582510486637,
          0.010430339269606237,
          0.0006999125109361515,
          0.005227951521733609,
          0.024854501882916713,
          0.014831691348597187,
          -0.016057828836969268,
          0.01094203447144615,
          -0.0010230948619573965,
          0.02139732533433325,
          0.012364776059043625,
          -0.01927773855286219,
          0.010676746233107326,
          0.008322366168896922,
          0.018179580408104745,
          0.0030272768625073665,
          -0.003913175757194187,
          0.011604565557056246,
          0.017190592709193875,
          0.01281425881340914,
          0.00893896513056014,
          -0.010299620426952316,
          0.021766559848800604,
          0.022937242825249116,
          0.013872637382330133,
          0.014609604282903699,
          -0.017539879322173157,
          0.025057731827715424,
          0.021987601957585534,
          0.006976219843764397,
          0.0009089949924114826,
          -0.011479064709081
         ],
         "y0": " ",
         "yaxis": "y2"
        },
        {
         "alignmentgroup": "True",
         "boxpoints": "all",
         "fillcolor": "rgba(255,255,255,0)",
         "hoveron": "points",
         "hovertemplate": "ma=2<br>theta=%{x}<br>diff=%{y}<extra></extra>",
         "legendgroup": "2",
         "line": {
          "color": "rgba(255,255,255,0)"
         },
         "marker": {
          "color": "#EF553B",
          "opacity": 0.5,
          "size": 5
         },
         "name": "2",
         "offsetgroup": "2",
         "orientation": "v",
         "pointpos": 0,
         "showlegend": true,
         "type": "box",
         "x": [
          "CSENT",
          "IPM",
          "HOUSE",
          "UNEMP",
          "LRIR",
          "CSENT",
          "IPM",
          "HOUSE",
          "UNEMP",
          "LRIR",
          "CSENT",
          "IPM",
          "HOUSE",
          "UNEMP",
          "LRIR",
          "CSENT",
          "IPM",
          "HOUSE",
          "UNEMP",
          "LRIR",
          "CSENT",
          "IPM",
          "HOUSE",
          "UNEMP",
          "LRIR",
          "CSENT",
          "IPM",
          "HOUSE",
          "UNEMP",
          "LRIR",
          "CSENT",
          "IPM",
          "HOUSE",
          "UNEMP",
          "LRIR",
          "CSENT",
          "IPM",
          "HOUSE",
          "UNEMP",
          "LRIR",
          "CSENT",
          "IPM",
          "HOUSE",
          "UNEMP",
          "LRIR",
          "CSENT",
          "IPM",
          "HOUSE",
          "UNEMP",
          "LRIR",
          "CSENT",
          "IPM",
          "HOUSE",
          "UNEMP",
          "LRIR",
          "CSENT",
          "IPM",
          "HOUSE",
          "UNEMP",
          "LRIR",
          "CSENT",
          "IPM",
          "HOUSE",
          "UNEMP",
          "LRIR",
          "CSENT",
          "IPM",
          "HOUSE",
          "UNEMP",
          "LRIR",
          "CSENT",
          "IPM",
          "HOUSE",
          "UNEMP",
          "LRIR",
          "CSENT",
          "IPM",
          "HOUSE",
          "UNEMP",
          "LRIR",
          "CSENT",
          "IPM",
          "HOUSE",
          "UNEMP",
          "LRIR",
          "CSENT",
          "IPM",
          "HOUSE",
          "UNEMP",
          "LRIR"
         ],
         "x0": " ",
         "xaxis": "x",
         "y": [
          -0.01449275362318847,
          0.019323671497584516,
          0.019323671497584516,
          0.03140096618357491,
          -0.036231884057971064,
          0.009685230024213065,
          0.04358353510895885,
          0.029055690072639195,
          0.03874092009685237,
          -0.002421307506053294,
          0.024271844660194275,
          0.043689320388349606,
          0.029126213592233108,
          0.04126213592233019,
          0.01456310679611661,
          0.021897810218978186,
          0.04622871046228716,
          0.024330900243309084,
          0.04379562043795626,
          0.0097323600973237,
          0.02682926829268295,
          0.04634146341463419,
          0.03658536585365857,
          0.04146341463414638,
          0,
          0.03422982885085579,
          0.041564792176039145,
          0.017114914425427896,
          0.03422982885085579,
          0.004889975550122272,
          -0.004830917874396157,
          0.02657004830917875,
          0.012077294685990392,
          0.04106280193236711,
          -0.03140096618357491,
          0.004842615012106588,
          0.021791767554479424,
          0.03389830508474578,
          0.03874092009685237,
          -0.014527845036319542,
          0.036407766990291246,
          0.04854368932038844,
          0.050970873786407855,
          0.06067961165048552,
          0.012135922330097082,
          0.02676399026763987,
          0.03892944038929447,
          0.03649635036496357,
          0.041362530413625365,
          0.0024330900243308973,
          0.03170731707317076,
          0.04390243902439028,
          0.03658536585365857,
          0.03170731707317076,
          -0.014634146341463317,
          0.03667481662591676,
          0.041564792176039034,
          0.017114914425427785,
          0.022004889975550057,
          -0.017114914425427896,
          -0.009661835748792202,
          0.007246376811594235,
          0.009661835748792313,
          0.02898550724637683,
          -0.04589371980676327,
          -0.004842615012106588,
          0.002421307506053294,
          0.01210653753026636,
          0.0266343825665859,
          -0.029055690072639195,
          0.009708737864077666,
          0.007281553398058249,
          0.036407766990291246,
          0.02669902912621358,
          -0.016990291262135915,
          0.021897810218978075,
          0.029197080291970767,
          0.041362530413625254,
          0.04379562043795615,
          0,
          0.029268292682926744,
          0.029268292682926744,
          0.046341463414634076,
          0.024390243902439046,
          -0.012195121951219523,
          0.03422982885085568,
          0.041564792176039145,
          0.02444987775061125,
          0.0317848410757946,
          -0.02444987775061125
         ],
         "y0": " ",
         "yaxis": "y"
        },
        {
         "alignmentgroup": "True",
         "boxpoints": "all",
         "fillcolor": "rgba(255,255,255,0)",
         "hoveron": "points",
         "hovertemplate": "ma=2<br>theta=%{x}<br>diff=%{y}<extra></extra>",
         "legendgroup": "2",
         "line": {
          "color": "rgba(255,255,255,0)"
         },
         "marker": {
          "color": "#EF553B",
          "opacity": 0.5,
          "size": 5
         },
         "name": "2",
         "offsetgroup": "2",
         "orientation": "v",
         "pointpos": 0,
         "showlegend": false,
         "type": "box",
         "x": [
          "CSENT",
          "IPM",
          "HOUSE",
          "UNEMP",
          "LRIR",
          "CSENT",
          "IPM",
          "HOUSE",
          "UNEMP",
          "LRIR",
          "CSENT",
          "IPM",
          "HOUSE",
          "UNEMP",
          "LRIR",
          "CSENT",
          "IPM",
          "HOUSE",
          "UNEMP",
          "LRIR",
          "CSENT",
          "IPM",
          "HOUSE",
          "UNEMP",
          "LRIR",
          "CSENT",
          "IPM",
          "HOUSE",
          "UNEMP",
          "LRIR",
          "CSENT",
          "IPM",
          "HOUSE",
          "UNEMP",
          "LRIR",
          "CSENT",
          "IPM",
          "HOUSE",
          "UNEMP",
          "LRIR",
          "CSENT",
          "IPM",
          "HOUSE",
          "UNEMP",
          "LRIR",
          "CSENT",
          "IPM",
          "HOUSE",
          "UNEMP",
          "LRIR",
          "CSENT",
          "IPM",
          "HOUSE",
          "UNEMP",
          "LRIR",
          "CSENT",
          "IPM",
          "HOUSE",
          "UNEMP",
          "LRIR",
          "CSENT",
          "IPM",
          "HOUSE",
          "UNEMP",
          "LRIR",
          "CSENT",
          "IPM",
          "HOUSE",
          "UNEMP",
          "LRIR",
          "CSENT",
          "IPM",
          "HOUSE",
          "UNEMP",
          "LRIR",
          "CSENT",
          "IPM",
          "HOUSE",
          "UNEMP",
          "LRIR",
          "CSENT",
          "IPM",
          "HOUSE",
          "UNEMP",
          "LRIR",
          "CSENT",
          "IPM",
          "HOUSE",
          "UNEMP",
          "LRIR"
         ],
         "x0": " ",
         "xaxis": "x2",
         "y": [
          -0.009641651936365125,
          0.012862555318539193,
          0.013012981242263577,
          0.02047213869873954,
          -0.027591299677765857,
          0.0065860584178846215,
          0.029539496365228124,
          0.02017912195025162,
          0.025768729420806324,
          -0.0035317939130931064,
          0.01607717041800638,
          0.029973525921267452,
          0.020708204412626996,
          0.02813377428773789,
          0.00892596149830871,
          0.013356067064506982,
          0.03146997929606632,
          0.016827312021819973,
          0.029187118586239236,
          0.004759524999405129,
          0.018136987473658328,
          0.03252864157119473,
          0.02635390576387109,
          0.02863892287565073,
          -0.0013245284760052822,
          0.022950819672131084,
          0.029117499538026892,
          0.01301443995670637,
          0.022950819672131084,
          0.0020151407875386163,
          -0.0031496062992126816,
          0.01824717562478606,
          0.008464566929133888,
          0.02738980057399365,
          -0.025446324159975053,
          0.003752288670047288,
          0.01615993048218123,
          0.02403224017451111,
          0.026295757388194452,
          -0.013284337734381313,
          0.023612659482224574,
          0.033809581223374296,
          0.03525641025641024,
          0.0406373568138273,
          0.006143598109340176,
          0.01764462138020384,
          0.027554322699953615,
          0.026105375450689583,
          0.028196377274592566,
          -0.00040519718707865415,
          0.022251294806775013,
          0.03235848434925859,
          0.02771183898184648,
          0.02290913369990799,
          -0.012119907610540492,
          0.024748463953207622,
          0.029227468947800594,
          0.01307238009481193,
          0.014928496686431925,
          -0.014366916549962916,
          -0.005936520376175536,
          0.006322724616120268,
          0.00656347962382442,
          0.01931659488862192,
          -0.03965279356335938,
          -0.0034829769501559804,
          0.0023622047244096223,
          0.0086122047244096,
          0.01772270629180772,
          -0.0257575956083691,
          0.006745894466942071,
          0.007446432042585216,
          0.02616718087253833,
          0.01868479626909736,
          -0.01611749558914688,
          0.013986897150524924,
          0.022275989505170846,
          0.02967499064001755,
          0.02979219346715367,
          -0.003526540442322701,
          0.01929865850788437,
          0.022084195997239542,
          0.034230944774075844,
          0.0168342296001871,
          -0.011505273250239645,
          0.02426713259561253,
          0.03115977729394126,
          0.019333546257851553,
          0.02321500442727209,
          -0.01970197019701969
         ],
         "y0": " ",
         "yaxis": "y2"
        },
        {
         "alignmentgroup": "True",
         "boxpoints": "all",
         "fillcolor": "rgba(255,255,255,0)",
         "hoveron": "points",
         "hovertemplate": "ma=3<br>theta=%{x}<br>diff=%{y}<extra></extra>",
         "legendgroup": "3",
         "line": {
          "color": "rgba(255,255,255,0)"
         },
         "marker": {
          "color": "#00cc96",
          "opacity": 0.5,
          "size": 5
         },
         "name": "3",
         "offsetgroup": "3",
         "orientation": "v",
         "pointpos": 0,
         "showlegend": true,
         "type": "box",
         "x": [
          "CSENT",
          "IPM",
          "HOUSE",
          "UNEMP",
          "LRIR",
          "CSENT",
          "IPM",
          "HOUSE",
          "UNEMP",
          "LRIR",
          "CSENT",
          "IPM",
          "HOUSE",
          "UNEMP",
          "LRIR",
          "CSENT",
          "IPM",
          "HOUSE",
          "UNEMP",
          "LRIR",
          "CSENT",
          "IPM",
          "HOUSE",
          "UNEMP",
          "LRIR",
          "CSENT",
          "IPM",
          "HOUSE",
          "UNEMP",
          "LRIR",
          "CSENT",
          "IPM",
          "HOUSE",
          "UNEMP",
          "LRIR",
          "CSENT",
          "IPM",
          "HOUSE",
          "UNEMP",
          "LRIR",
          "CSENT",
          "IPM",
          "HOUSE",
          "UNEMP",
          "LRIR",
          "CSENT",
          "IPM",
          "HOUSE",
          "UNEMP",
          "LRIR",
          "CSENT",
          "IPM",
          "HOUSE",
          "UNEMP",
          "LRIR",
          "CSENT",
          "IPM",
          "HOUSE",
          "UNEMP",
          "LRIR",
          "CSENT",
          "IPM",
          "HOUSE",
          "UNEMP",
          "LRIR",
          "CSENT",
          "IPM",
          "HOUSE",
          "UNEMP",
          "LRIR",
          "CSENT",
          "IPM",
          "HOUSE",
          "UNEMP",
          "LRIR",
          "CSENT",
          "IPM",
          "HOUSE",
          "UNEMP",
          "LRIR",
          "CSENT",
          "IPM",
          "HOUSE",
          "UNEMP",
          "LRIR",
          "CSENT",
          "IPM",
          "HOUSE",
          "UNEMP",
          "LRIR"
         ],
         "x0": " ",
         "xaxis": "x",
         "y": [
          -0.01210653753026636,
          0.016949152542372947,
          0.01937046004842613,
          0.021791767554479424,
          -0.041162227602905554,
          0.012135922330097082,
          0.036407766990291246,
          0.03398058252427183,
          0.04611650485436891,
          -0.021844660194174748,
          0.014598540145985384,
          0.038929440389294356,
          0.021897810218978075,
          0.04379562043795615,
          0.007299270072992692,
          0.014634146341463428,
          0.03658536585365857,
          0.02682926829268295,
          0.03170731707317076,
          0.014634146341463428,
          0.02689486552567233,
          0.046454767726161306,
          0.03911980440097795,
          0.02933985330073352,
          0.009779951100244433,
          0.026960784313725505,
          0.04166666666666663,
          0.039215686274509776,
          0.02450980392156854,
          -0.004901960784313708,
          0.002421307506053183,
          0.014527845036319542,
          0.0266343825665859,
          0.03147699757869249,
          -0.03631961259079908,
          0.012135922330097082,
          0.029126213592232997,
          0.021844660194174748,
          0.03398058252427183,
          -0.019417475728155442,
          0.01703163017031628,
          0.031630170316301665,
          0.041362530413625254,
          0.04622871046228705,
          0.0048661800486617945,
          0.02195121951219514,
          0.02195121951219514,
          0.02682926829268295,
          0.02682926829268295,
          -0.007317073170731714,
          0.02444987775061125,
          0.03667481662591687,
          0.041564792176039145,
          0.02933985330073352,
          0.014669926650366705,
          0.019607843137254943,
          0.031862745098039214,
          0.02450980392156865,
          0.01715686274509809,
          -0.019607843137254943,
          -0.007263922518159771,
          0.002421307506053294,
          0.004842615012106477,
          0.01210653753026636,
          -0.05569007263922521,
          0.0024271844660194164,
          0.02184466019417486,
          0.02184466019417486,
          0.03398058252427194,
          -0.012135922330097082,
          0.0024330900243308973,
          0.0097323600973237,
          0.031630170316301776,
          0.017031630170316392,
          -0.021897810218978075,
          0.0024390243902439046,
          0.012195121951219523,
          0.024390243902439046,
          0.02682926829268295,
          -0.02682926829268295,
          0.022004889975550168,
          0.02933985330073352,
          0.041564792176039145,
          0.02933985330073352,
          -0.012224938875305624,
          0.019607843137254943,
          0.02941176470588236,
          0.02450980392156865,
          0.022058823529411797,
          -0.022058823529411686
         ],
         "y0": " ",
         "yaxis": "y"
        },
        {
         "alignmentgroup": "True",
         "boxpoints": "all",
         "fillcolor": "rgba(255,255,255,0)",
         "hoveron": "points",
         "hovertemplate": "ma=3<br>theta=%{x}<br>diff=%{y}<extra></extra>",
         "legendgroup": "3",
         "line": {
          "color": "rgba(255,255,255,0)"
         },
         "marker": {
          "color": "#00cc96",
          "opacity": 0.5,
          "size": 5
         },
         "name": "3",
         "offsetgroup": "3",
         "orientation": "v",
         "pointpos": 0,
         "showlegend": false,
         "type": "box",
         "x": [
          "CSENT",
          "IPM",
          "HOUSE",
          "UNEMP",
          "LRIR",
          "CSENT",
          "IPM",
          "HOUSE",
          "UNEMP",
          "LRIR",
          "CSENT",
          "IPM",
          "HOUSE",
          "UNEMP",
          "LRIR",
          "CSENT",
          "IPM",
          "HOUSE",
          "UNEMP",
          "LRIR",
          "CSENT",
          "IPM",
          "HOUSE",
          "UNEMP",
          "LRIR",
          "CSENT",
          "IPM",
          "HOUSE",
          "UNEMP",
          "LRIR",
          "CSENT",
          "IPM",
          "HOUSE",
          "UNEMP",
          "LRIR",
          "CSENT",
          "IPM",
          "HOUSE",
          "UNEMP",
          "LRIR",
          "CSENT",
          "IPM",
          "HOUSE",
          "UNEMP",
          "LRIR",
          "CSENT",
          "IPM",
          "HOUSE",
          "UNEMP",
          "LRIR",
          "CSENT",
          "IPM",
          "HOUSE",
          "UNEMP",
          "LRIR",
          "CSENT",
          "IPM",
          "HOUSE",
          "UNEMP",
          "LRIR",
          "CSENT",
          "IPM",
          "HOUSE",
          "UNEMP",
          "LRIR",
          "CSENT",
          "IPM",
          "HOUSE",
          "UNEMP",
          "LRIR",
          "CSENT",
          "IPM",
          "HOUSE",
          "UNEMP",
          "LRIR",
          "CSENT",
          "IPM",
          "HOUSE",
          "UNEMP",
          "LRIR",
          "CSENT",
          "IPM",
          "HOUSE",
          "UNEMP",
          "LRIR",
          "CSENT",
          "IPM",
          "HOUSE",
          "UNEMP",
          "LRIR"
         ],
         "x0": " ",
         "xaxis": "x2",
         "y": [
          -0.007604868250029595,
          0.011294502159449049,
          0.012307692307692353,
          0.01411626541397526,
          -0.02992916614887542,
          0.008130967845933479,
          0.023468391158816937,
          0.021875749352440632,
          0.02941400957887297,
          -0.01689221089669357,
          0.009570335865077828,
          0.02569017942615459,
          0.014823508954964315,
          0.028412395923840927,
          0.004201162107591139,
          0.009292746634518845,
          0.024573301572927475,
          0.01835246175955274,
          0.021141617638319232,
          0.00909054261065867,
          0.017168079562366323,
          0.0313012297619224,
          0.02653842242719906,
          0.019284503110363005,
          0.005355739371084578,
          0.017769683500020617,
          0.02853407633988525,
          0.02724964016307596,
          0.016740373647181284,
          -0.004099991935295089,
          0.0014233504636459449,
          0.010321362364563824,
          0.01709744892242193,
          0.020303765180113342,
          -0.02867385294644098,
          0.009150076569678256,
          0.019954128440366925,
          0.015275650842266453,
          0.02269230769230768,
          -0.015032154340836046,
          0.011331236948537549,
          0.02192437124052493,
          0.027866460569463958,
          0.030938657190047625,
          0.001512313840175472,
          0.014378422836967775,
          0.016611085724286156,
          0.01862740741837865,
          0.017980843026443094,
          -0.006385154133224269,
          0.015086751372276885,
          0.02515898251192361,
          0.028283982511923655,
          0.019590262132776703,
          0.00807497604988816,
          0.012841091492776902,
          0.022753689549505185,
          0.017659028576484048,
          0.011380005762028245,
          -0.015079350484561993,
          -0.004958353565159057,
          0.0030351088264244375,
          0.0030487804878046587,
          0.007731001967553719,
          -0.0434812981517706,
          0.0019593389608845158,
          0.01543253243407805,
          0.014737508803274624,
          0.021852665972855623,
          -0.0130444194956425,
          0.0014182316118935834,
          0.007860429447852701,
          0.021774502297090326,
          0.011833462132921135,
          -0.01808144246353316,
          0.0011262832652246813,
          0.010173421573836938,
          0.016993224684123787,
          0.018181372188289524,
          -0.021200851522224173,
          0.013849681528662394,
          0.022057088936069835,
          0.02884624939137692,
          0.02001245755389891,
          -0.011787100080532853,
          0.012882447665056307,
          0.022090676101698792,
          0.017710813549027593,
          0.015315913218399646,
          -0.01731608610899238
         ],
         "y0": " ",
         "yaxis": "y2"
        },
        {
         "alignmentgroup": "True",
         "boxpoints": "all",
         "fillcolor": "rgba(255,255,255,0)",
         "hoveron": "points",
         "hovertemplate": "ma=4<br>theta=%{x}<br>diff=%{y}<extra></extra>",
         "legendgroup": "4",
         "line": {
          "color": "rgba(255,255,255,0)"
         },
         "marker": {
          "color": "#ab63fa",
          "opacity": 0.5,
          "size": 5
         },
         "name": "4",
         "offsetgroup": "4",
         "orientation": "v",
         "pointpos": 0,
         "showlegend": true,
         "type": "box",
         "x": [
          "CSENT",
          "IPM",
          "HOUSE",
          "UNEMP",
          "LRIR",
          "CSENT",
          "IPM",
          "HOUSE",
          "UNEMP",
          "LRIR",
          "CSENT",
          "IPM",
          "HOUSE",
          "UNEMP",
          "LRIR",
          "CSENT",
          "IPM",
          "HOUSE",
          "UNEMP",
          "LRIR",
          "CSENT",
          "IPM",
          "HOUSE",
          "UNEMP",
          "LRIR",
          "CSENT",
          "IPM",
          "HOUSE",
          "UNEMP",
          "LRIR",
          "CSENT",
          "IPM",
          "HOUSE",
          "UNEMP",
          "LRIR",
          "CSENT",
          "IPM",
          "HOUSE",
          "UNEMP",
          "LRIR",
          "CSENT",
          "IPM",
          "HOUSE",
          "UNEMP",
          "LRIR",
          "CSENT",
          "IPM",
          "HOUSE",
          "UNEMP",
          "LRIR",
          "CSENT",
          "IPM",
          "HOUSE",
          "UNEMP",
          "LRIR",
          "CSENT",
          "IPM",
          "HOUSE",
          "UNEMP",
          "LRIR",
          "CSENT",
          "IPM",
          "HOUSE",
          "UNEMP",
          "LRIR",
          "CSENT",
          "IPM",
          "HOUSE",
          "UNEMP",
          "LRIR",
          "CSENT",
          "IPM",
          "HOUSE",
          "UNEMP",
          "LRIR",
          "CSENT",
          "IPM",
          "HOUSE",
          "UNEMP",
          "LRIR",
          "CSENT",
          "IPM",
          "HOUSE",
          "UNEMP",
          "LRIR",
          "CSENT",
          "IPM",
          "HOUSE",
          "UNEMP",
          "LRIR"
         ],
         "x0": " ",
         "xaxis": "x",
         "y": [
          0,
          0.016990291262135915,
          0.03155339805825241,
          0.03398058252427183,
          -0.03640776699029136,
          -0.0048661800486617945,
          0.024330900243308973,
          0.024330900243308973,
          0.029197080291970767,
          -0.031630170316301665,
          0.009756097560975618,
          0.03414634146341455,
          0.017073170731707332,
          0.04146341463414627,
          -0.02195121951219514,
          0.017114914425427896,
          0.02933985330073352,
          0.022004889975550168,
          0.02689486552567244,
          -0.0024449877750610804,
          0.01715686274509809,
          0.03676470588235292,
          0.031862745098039214,
          0.03676470588235292,
          0,
          0.019656019656019708,
          0.03194103194103204,
          0.02211302211302213,
          0.017199017199017286,
          -0.014742014742014642,
          0.016990291262136026,
          0.02184466019417486,
          0.03640776699029136,
          0.04126213592233019,
          -0.024271844660194164,
          0.0048661800486617945,
          0.014598540145985384,
          0.019464720194647178,
          0.04622871046228705,
          -0.02919708029197088,
          0.009756097560975618,
          0.019512195121951237,
          0.024390243902439046,
          0.039024390243902474,
          -0.017073170731707332,
          0.022004889975550168,
          0.02689486552567244,
          0.022004889975550168,
          0.044009779951100336,
          -0.004889975550122161,
          0.022058823529411797,
          0.031862745098039214,
          0.039215686274509776,
          0.03676470588235292,
          -0.004901960784313708,
          0.027027027027027084,
          0.03439803439803435,
          0.03194103194103193,
          0.029484029484029506,
          -0.012285012285012331,
          0.007281553398058249,
          0.009708737864077666,
          0.024271844660194164,
          0.031553398058252524,
          -0.036407766990291246,
          0.0048661800486617945,
          0.0048661800486617945,
          0.0048661800486617945,
          0.03406326034063267,
          -0.041362530413625254,
          0.017073170731707332,
          0.019512195121951237,
          0.017073170731707332,
          0.051219512195122,
          -0.02195121951219514,
          0.0024449877750610804,
          0.007334963325183352,
          0.02444987775061125,
          0.03422982885085579,
          -0.02933985330073352,
          0.007352941176470562,
          0.014705882352941124,
          0.03431372549019607,
          0.04166666666666663,
          -0.009803921568627527,
          0.019656019656019597,
          0.02457002457002455,
          0.03439803439803435,
          0.03439803439803435,
          -0.019656019656019708
         ],
         "y0": " ",
         "yaxis": "y"
        },
        {
         "alignmentgroup": "True",
         "boxpoints": "all",
         "fillcolor": "rgba(255,255,255,0)",
         "hoveron": "points",
         "hovertemplate": "ma=4<br>theta=%{x}<br>diff=%{y}<extra></extra>",
         "legendgroup": "4",
         "line": {
          "color": "rgba(255,255,255,0)"
         },
         "marker": {
          "color": "#ab63fa",
          "opacity": 0.5,
          "size": 5
         },
         "name": "4",
         "offsetgroup": "4",
         "orientation": "v",
         "pointpos": 0,
         "showlegend": false,
         "type": "box",
         "x": [
          "CSENT",
          "IPM",
          "HOUSE",
          "UNEMP",
          "LRIR",
          "CSENT",
          "IPM",
          "HOUSE",
          "UNEMP",
          "LRIR",
          "CSENT",
          "IPM",
          "HOUSE",
          "UNEMP",
          "LRIR",
          "CSENT",
          "IPM",
          "HOUSE",
          "UNEMP",
          "LRIR",
          "CSENT",
          "IPM",
          "HOUSE",
          "UNEMP",
          "LRIR",
          "CSENT",
          "IPM",
          "HOUSE",
          "UNEMP",
          "LRIR",
          "CSENT",
          "IPM",
          "HOUSE",
          "UNEMP",
          "LRIR",
          "CSENT",
          "IPM",
          "HOUSE",
          "UNEMP",
          "LRIR",
          "CSENT",
          "IPM",
          "HOUSE",
          "UNEMP",
          "LRIR",
          "CSENT",
          "IPM",
          "HOUSE",
          "UNEMP",
          "LRIR",
          "CSENT",
          "IPM",
          "HOUSE",
          "UNEMP",
          "LRIR",
          "CSENT",
          "IPM",
          "HOUSE",
          "UNEMP",
          "LRIR",
          "CSENT",
          "IPM",
          "HOUSE",
          "UNEMP",
          "LRIR",
          "CSENT",
          "IPM",
          "HOUSE",
          "UNEMP",
          "LRIR",
          "CSENT",
          "IPM",
          "HOUSE",
          "UNEMP",
          "LRIR",
          "CSENT",
          "IPM",
          "HOUSE",
          "UNEMP",
          "LRIR",
          "CSENT",
          "IPM",
          "HOUSE",
          "UNEMP",
          "LRIR",
          "CSENT",
          "IPM",
          "HOUSE",
          "UNEMP",
          "LRIR"
         ],
         "x0": " ",
         "xaxis": "x2",
         "y": [
          0,
          0.01121049493142523,
          0.020097260339929757,
          0.021925203951218997,
          -0.02760297917616661,
          -0.0027487630566244148,
          0.015827088336564432,
          0.015702095547686756,
          0.0189230635687625,
          -0.023859980790047475,
          0.00660162696901323,
          0.02240942574026783,
          0.011349619972990888,
          0.0267998180742276,
          -0.016613911991993024,
          0.011022787493375708,
          0.019644723092999028,
          0.015023474178403773,
          0.017693522906793047,
          -0.0025764895330113724,
          0.010188755206639644,
          0.024522160002817484,
          0.02136758587032528,
          0.024181666286929526,
          -0.001784826890004143,
          0.012882447665056418,
          0.021762134805613065,
          0.015412928456406738,
          0.011597299640777936,
          -0.01170456324098601,
          0.011207964134514747,
          0.014938221110403105,
          0.023385815397948928,
          0.02684014585267358,
          -0.020724231721674258,
          0.003578214364939325,
          0.010189312245386994,
          0.01225661993769478,
          0.030115826409189306,
          -0.02375772432460055,
          0.007155635062611743,
          0.01374896290150518,
          0.016457960644007175,
          0.025918440137914667,
          -0.013986013986014068,
          0.014172155348625926,
          0.019253698388165152,
          0.01529175050301812,
          0.029287953425884417,
          -0.0054909260120986625,
          0.013729032258064433,
          0.022364890282131622,
          0.02673385826771657,
          0.024815189873417798,
          -0.005509656301145638,
          0.0176346649518222,
          0.02412254313357509,
          0.022411980408749366,
          0.020177059773828776,
          -0.011179750857400417,
          0.005364201016375025,
          0.007858657779124423,
          0.016273291925466005,
          0.02123500708626236,
          -0.03099943534726124,
          0.0025308822237574136,
          0.0038718094396396063,
          0.0022577072839637946,
          0.02150537634408589,
          -0.035616046868859996,
          0.011944577161968395,
          0.01415533618923448,
          0.011673684570880805,
          0.0336837075967511,
          -0.02070023000255561,
          0.0020233230339880004,
          0.006564615837503784,
          0.017055088923064843,
          0.0228363953811358,
          -0.023484343770819427,
          0.00429067524115756,
          0.011808450704225426,
          0.02378582677165353,
          0.028638993710691785,
          -0.010261157024793466,
          0.012627437708870981,
          0.018946243629787918,
          0.024963924963924855,
          0.023698166784983488,
          -0.01662337662337665
         ],
         "y0": " ",
         "yaxis": "y2"
        },
        {
         "alignmentgroup": "True",
         "boxpoints": "all",
         "fillcolor": "rgba(255,255,255,0)",
         "hoveron": "points",
         "hovertemplate": "ma=5<br>theta=%{x}<br>diff=%{y}<extra></extra>",
         "legendgroup": "5",
         "line": {
          "color": "rgba(255,255,255,0)"
         },
         "marker": {
          "color": "#FFA15A",
          "opacity": 0.5,
          "size": 5
         },
         "name": "5",
         "offsetgroup": "5",
         "orientation": "v",
         "pointpos": 0,
         "showlegend": true,
         "type": "box",
         "x": [
          "CSENT",
          "IPM",
          "HOUSE",
          "UNEMP",
          "LRIR",
          "CSENT",
          "IPM",
          "HOUSE",
          "UNEMP",
          "LRIR",
          "CSENT",
          "IPM",
          "HOUSE",
          "UNEMP",
          "LRIR",
          "CSENT",
          "IPM",
          "HOUSE",
          "UNEMP",
          "LRIR",
          "CSENT",
          "IPM",
          "HOUSE",
          "UNEMP",
          "LRIR",
          "CSENT",
          "IPM",
          "HOUSE",
          "UNEMP",
          "LRIR",
          "CSENT",
          "IPM",
          "HOUSE",
          "UNEMP",
          "LRIR",
          "CSENT",
          "IPM",
          "HOUSE",
          "UNEMP",
          "LRIR",
          "CSENT",
          "IPM",
          "HOUSE",
          "UNEMP",
          "LRIR",
          "CSENT",
          "IPM",
          "HOUSE",
          "UNEMP",
          "LRIR",
          "CSENT",
          "IPM",
          "HOUSE",
          "UNEMP",
          "LRIR",
          "CSENT",
          "IPM",
          "HOUSE",
          "UNEMP",
          "LRIR",
          "CSENT",
          "IPM",
          "HOUSE",
          "UNEMP",
          "LRIR",
          "CSENT",
          "IPM",
          "HOUSE",
          "UNEMP",
          "LRIR",
          "CSENT",
          "IPM",
          "HOUSE",
          "UNEMP",
          "LRIR",
          "CSENT",
          "IPM",
          "HOUSE",
          "UNEMP",
          "LRIR",
          "CSENT",
          "IPM",
          "HOUSE",
          "UNEMP",
          "LRIR",
          "CSENT",
          "IPM",
          "HOUSE",
          "UNEMP",
          "LRIR"
         ],
         "x0": " ",
         "xaxis": "x",
         "y": [
          0.0048661800486617945,
          0.012165450121654486,
          0.03406326034063256,
          0.03892944038929447,
          -0.021897810218978075,
          -0.007317073170731714,
          0.01707317073170722,
          0.02682926829268284,
          0.03902439024390236,
          -0.03170731707317076,
          -0.004889975550122161,
          0.02444987775061125,
          0.02689486552567244,
          0.03667481662591687,
          -0.019559902200488977,
          0.01715686274509809,
          0.031862745098039214,
          0.02450980392156865,
          0.03676470588235292,
          0,
          0.0073710073710073765,
          0.03194103194103193,
          0.02211302211302213,
          0.02457002457002455,
          -0.002457002457002422,
          0.019704433497536922,
          0.039408866995073843,
          0.036945812807881784,
          0.029556650246305383,
          -0.007389162561576401,
          0.0048661800486617945,
          0.01703163017031628,
          0.03649635036496346,
          0.03406326034063256,
          -0.009732360097323589,
          -0.0024390243902439046,
          0.012195121951219523,
          0.019512195121951237,
          0.04146341463414627,
          -0.03170731707317076,
          -0.004889975550122272,
          0.014669926650366705,
          0.014669926650366705,
          0.02933985330073341,
          -0.02689486552567244,
          0,
          0.022058823529411797,
          0.026960784313725505,
          0.0490196078431373,
          -0.01225490196078427,
          0.0073710073710073765,
          0.014742014742014753,
          0.027027027027027084,
          0.029484029484029506,
          -0.0073710073710072654,
          0.017241379310344862,
          0.03201970443349755,
          0.034482758620689724,
          0.029556650246305494,
          -0.0049261083743842304,
          0.0048661800486617945,
          -0.0024330900243308973,
          0.024330900243308973,
          0.024330900243308973,
          -0.02676399026763998,
          -0.007317073170731714,
          0,
          0.004878048780487809,
          0.017073170731707332,
          -0.04146341463414638,
          -0.012224938875305624,
          0.004889975550122272,
          0.007334963325183352,
          0.0317848410757946,
          -0.02689486552567233,
          0,
          0.007352941176470562,
          0.02450980392156854,
          0.04166666666666663,
          -0.012254901960784381,
          -0.00982800982800991,
          -0.0073710073710073765,
          0.017199017199017175,
          0.027027027027026973,
          -0.03194103194103204,
          0.017241379310344862,
          0.014778325123152691,
          0.039408866995073955,
          0.034482758620689724,
          -0.01231527093596052
         ],
         "y0": " ",
         "yaxis": "y"
        },
        {
         "alignmentgroup": "True",
         "boxpoints": "all",
         "fillcolor": "rgba(255,255,255,0)",
         "hoveron": "points",
         "hovertemplate": "ma=5<br>theta=%{x}<br>diff=%{y}<extra></extra>",
         "legendgroup": "5",
         "line": {
          "color": "rgba(255,255,255,0)"
         },
         "marker": {
          "color": "#FFA15A",
          "opacity": 0.5,
          "size": 5
         },
         "name": "5",
         "offsetgroup": "5",
         "orientation": "v",
         "pointpos": 0,
         "showlegend": false,
         "type": "box",
         "x": [
          "CSENT",
          "IPM",
          "HOUSE",
          "UNEMP",
          "LRIR",
          "CSENT",
          "IPM",
          "HOUSE",
          "UNEMP",
          "LRIR",
          "CSENT",
          "IPM",
          "HOUSE",
          "UNEMP",
          "LRIR",
          "CSENT",
          "IPM",
          "HOUSE",
          "UNEMP",
          "LRIR",
          "CSENT",
          "IPM",
          "HOUSE",
          "UNEMP",
          "LRIR",
          "CSENT",
          "IPM",
          "HOUSE",
          "UNEMP",
          "LRIR",
          "CSENT",
          "IPM",
          "HOUSE",
          "UNEMP",
          "LRIR",
          "CSENT",
          "IPM",
          "HOUSE",
          "UNEMP",
          "LRIR",
          "CSENT",
          "IPM",
          "HOUSE",
          "UNEMP",
          "LRIR",
          "CSENT",
          "IPM",
          "HOUSE",
          "UNEMP",
          "LRIR",
          "CSENT",
          "IPM",
          "HOUSE",
          "UNEMP",
          "LRIR",
          "CSENT",
          "IPM",
          "HOUSE",
          "UNEMP",
          "LRIR",
          "CSENT",
          "IPM",
          "HOUSE",
          "UNEMP",
          "LRIR",
          "CSENT",
          "IPM",
          "HOUSE",
          "UNEMP",
          "LRIR",
          "CSENT",
          "IPM",
          "HOUSE",
          "UNEMP",
          "LRIR",
          "CSENT",
          "IPM",
          "HOUSE",
          "UNEMP",
          "LRIR",
          "CSENT",
          "IPM",
          "HOUSE",
          "UNEMP",
          "LRIR",
          "CSENT",
          "IPM",
          "HOUSE",
          "UNEMP",
          "LRIR"
         ],
         "x0": " ",
         "xaxis": "x2",
         "y": [
          0.002924976258309453,
          0.007897278831428989,
          0.02172665255234052,
          0.02495206920738835,
          -0.016272849957060576,
          -0.004713110843971191,
          0.011330965668865267,
          0.017025243013943592,
          0.02491788424510133,
          -0.023081052066559304,
          -0.0031055900621118626,
          0.01587195413282383,
          0.017464769919187884,
          0.023519222119074756,
          -0.014297620701287816,
          0.010700365318687899,
          0.02057060610597805,
          0.016119843561076763,
          0.023666581338176118,
          -0.0007295078532998378,
          0.004467609828741725,
          0.021169454373111685,
          0.014929204763127313,
          0.01626919566683871,
          -0.002519454659975162,
          0.012330556916544166,
          0.02643312101910833,
          0.024789928530845384,
          0.019108280254777066,
          -0.006493708249184382,
          0.003072196620583778,
          0.011221010827619948,
          0.02341613277883925,
          0.0224228649276087,
          -0.009665337682735364,
          -0.001635353893418512,
          0.008434576176511555,
          0.012288786482334668,
          0.02650586658822751,
          -0.023558430816495446,
          -0.0029030585795748465,
          0.010328493583275034,
          0.010164833201946166,
          0.019216757088628023,
          -0.019569725246241454,
          0,
          0.015092165898617615,
          0.01798921417565502,
          0.03192307692307694,
          -0.010072231139646837,
          0.0044061089969416045,
          0.011398738520068785,
          0.018464485487605597,
          0.019751543244322378,
          -0.006487878181752893,
          0.010823114083983731,
          0.022305075876504432,
          0.023983200707338725,
          0.019700310305405866,
          -0.005090497737556543,
          0.003310615713734699,
          -0.0008797367306375703,
          0.015733495563154287,
          0.015733495563154287,
          -0.02154258452114488,
          -0.004481440073657139,
          0.001330475275334475,
          0.0030674846625767804,
          0.011214761277791863,
          -0.03172882838989366,
          -0.008110824002297012,
          0.003989762119843365,
          0.004963873243443051,
          0.020498931805720932,
          -0.021704984292774787,
          0,
          0.005835901386748832,
          0.016947852760736182,
          0.02740755007704143,
          -0.010728663446054831,
          -0.006888203950734306,
          -0.0031691085053996426,
          0.012080011737663265,
          0.018078347683175178,
          -0.024135012439405967,
          0.010080156079835922,
          0.011141921353507334,
          0.026865191793758902,
          0.022911912368781318,
          -0.011242439026949325
         ],
         "y0": " ",
         "yaxis": "y2"
        },
        {
         "alignmentgroup": "True",
         "boxpoints": "all",
         "fillcolor": "rgba(255,255,255,0)",
         "hoveron": "points",
         "hovertemplate": "ma=6<br>theta=%{x}<br>diff=%{y}<extra></extra>",
         "legendgroup": "6",
         "line": {
          "color": "rgba(255,255,255,0)"
         },
         "marker": {
          "color": "#19d3f3",
          "opacity": 0.5,
          "size": 5
         },
         "name": "6",
         "offsetgroup": "6",
         "orientation": "v",
         "pointpos": 0,
         "showlegend": true,
         "type": "box",
         "x": [
          "CSENT",
          "IPM",
          "HOUSE",
          "UNEMP",
          "LRIR",
          "CSENT",
          "IPM",
          "HOUSE",
          "UNEMP",
          "LRIR",
          "CSENT",
          "IPM",
          "HOUSE",
          "UNEMP",
          "LRIR",
          "CSENT",
          "IPM",
          "HOUSE",
          "UNEMP",
          "LRIR",
          "CSENT",
          "IPM",
          "HOUSE",
          "UNEMP",
          "LRIR",
          "CSENT",
          "IPM",
          "HOUSE",
          "UNEMP",
          "LRIR",
          "CSENT",
          "IPM",
          "HOUSE",
          "UNEMP",
          "LRIR",
          "CSENT",
          "IPM",
          "HOUSE",
          "UNEMP",
          "LRIR",
          "CSENT",
          "IPM",
          "HOUSE",
          "UNEMP",
          "LRIR",
          "CSENT",
          "IPM",
          "HOUSE",
          "UNEMP",
          "LRIR",
          "CSENT",
          "IPM",
          "HOUSE",
          "UNEMP",
          "LRIR",
          "CSENT",
          "IPM",
          "HOUSE",
          "UNEMP",
          "LRIR",
          "CSENT",
          "IPM",
          "HOUSE",
          "UNEMP",
          "LRIR",
          "CSENT",
          "IPM",
          "HOUSE",
          "UNEMP",
          "LRIR",
          "CSENT",
          "IPM",
          "HOUSE",
          "UNEMP",
          "LRIR",
          "CSENT",
          "IPM",
          "HOUSE",
          "UNEMP",
          "LRIR",
          "CSENT",
          "IPM",
          "HOUSE",
          "UNEMP",
          "LRIR",
          "CSENT",
          "IPM",
          "HOUSE",
          "UNEMP",
          "LRIR"
         ],
         "x0": " ",
         "xaxis": "x",
         "y": [
          0.007317073170731714,
          0.02682926829268295,
          0.03414634146341455,
          0.03902439024390236,
          -0.014634146341463428,
          0.007334963325183463,
          0.02444987775061125,
          0.041564792176039145,
          0.041564792176039145,
          -0.014669926650366705,
          -0.004901960784313708,
          0.012254901960784381,
          0.02941176470588236,
          0.03676470588235303,
          -0.022058823529411686,
          -0.002457002457002422,
          0.019656019656019597,
          0.029484029484029506,
          0.03194103194103193,
          -0.017199017199017175,
          0.019704433497537033,
          0.034482758620689724,
          0.027093596059113323,
          0.029556650246305494,
          0.009852216748768461,
          0.01728395061728405,
          0.03950617283950619,
          0.032098765432098775,
          0.02716049382716057,
          0.0024691358024692134,
          0.004878048780487809,
          0.0024390243902439046,
          0.034146341463414664,
          0.03170731707317076,
          -0.014634146341463428,
          0.007334963325183352,
          0.0317848410757946,
          0.02933985330073352,
          0.03667481662591687,
          -0.009779951100244544,
          0,
          0.01225490196078427,
          0.02941176470588236,
          0.039215686274509776,
          -0.026960784313725505,
          0.004914004914004844,
          0.014742014742014753,
          0.02457002457002455,
          0.03439803439803435,
          -0.014742014742014753,
          0,
          0.009852216748768461,
          0.01231527093596052,
          0.029556650246305383,
          0.0024630541871920597,
          0.014814814814814836,
          0.029629629629629672,
          0.041975308641975406,
          0.032098765432098775,
          0.004938271604938316,
          0.009756097560975618,
          -0.012195121951219523,
          0.02682926829268295,
          0.02682926829268295,
          -0.009756097560975618,
          0.007334963325183463,
          0.014669926650366816,
          0.02444987775061125,
          0.02689486552567244,
          -0.019559902200488977,
          -0.002450980392156854,
          0.01225490196078427,
          0.014705882352941124,
          0.02450980392156865,
          -0.02941176470588236,
          -0.002457002457002422,
          0.0073710073710073765,
          0.027027027027027084,
          0.03194103194103193,
          -0.02211302211302213,
          -0.007389162561576401,
          0.0024630541871920597,
          0.01724137931034475,
          0.03201970443349744,
          -0.014778325123152802,
          0.0024691358024692134,
          0.007407407407407418,
          0.02716049382716057,
          0.024691358024691357,
          -0.012345679012345623
         ],
         "y0": " ",
         "yaxis": "y"
        },
        {
         "alignmentgroup": "True",
         "boxpoints": "all",
         "fillcolor": "rgba(255,255,255,0)",
         "hoveron": "points",
         "hovertemplate": "ma=6<br>theta=%{x}<br>diff=%{y}<extra></extra>",
         "legendgroup": "6",
         "line": {
          "color": "rgba(255,255,255,0)"
         },
         "marker": {
          "color": "#19d3f3",
          "opacity": 0.5,
          "size": 5
         },
         "name": "6",
         "offsetgroup": "6",
         "orientation": "v",
         "pointpos": 0,
         "showlegend": false,
         "type": "box",
         "x": [
          "CSENT",
          "IPM",
          "HOUSE",
          "UNEMP",
          "LRIR",
          "CSENT",
          "IPM",
          "HOUSE",
          "UNEMP",
          "LRIR",
          "CSENT",
          "IPM",
          "HOUSE",
          "UNEMP",
          "LRIR",
          "CSENT",
          "IPM",
          "HOUSE",
          "UNEMP",
          "LRIR",
          "CSENT",
          "IPM",
          "HOUSE",
          "UNEMP",
          "LRIR",
          "CSENT",
          "IPM",
          "HOUSE",
          "UNEMP",
          "LRIR",
          "CSENT",
          "IPM",
          "HOUSE",
          "UNEMP",
          "LRIR",
          "CSENT",
          "IPM",
          "HOUSE",
          "UNEMP",
          "LRIR",
          "CSENT",
          "IPM",
          "HOUSE",
          "UNEMP",
          "LRIR",
          "CSENT",
          "IPM",
          "HOUSE",
          "UNEMP",
          "LRIR",
          "CSENT",
          "IPM",
          "HOUSE",
          "UNEMP",
          "LRIR",
          "CSENT",
          "IPM",
          "HOUSE",
          "UNEMP",
          "LRIR",
          "CSENT",
          "IPM",
          "HOUSE",
          "UNEMP",
          "LRIR",
          "CSENT",
          "IPM",
          "HOUSE",
          "UNEMP",
          "LRIR",
          "CSENT",
          "IPM",
          "HOUSE",
          "UNEMP",
          "LRIR",
          "CSENT",
          "IPM",
          "HOUSE",
          "UNEMP",
          "LRIR",
          "CSENT",
          "IPM",
          "HOUSE",
          "UNEMP",
          "LRIR",
          "CSENT",
          "IPM",
          "HOUSE",
          "UNEMP",
          "LRIR"
         ],
         "x0": " ",
         "xaxis": "x2",
         "y": [
          0.004505200650022689,
          0.01725677432488082,
          0.021406727828746197,
          0.025070942502135263,
          -0.011516277629388894,
          0.004834491695134835,
          0.0159440559440559,
          0.02635349383440988,
          0.02651103069919447,
          -0.011184371184371211,
          -0.003076923076923088,
          0.008134878819810343,
          0.018555922605002384,
          0.02327657075748668,
          -0.0161599803705067,
          -0.0014639882880936872,
          0.012788911513592738,
          0.018933304754760072,
          0.020312948607522197,
          -0.012403100775193798,
          0.012357416783976172,
          0.022302289187320357,
          0.01800890814975331,
          0.019061665656632032,
          0.005525670309938446,
          0.010805818284595259,
          0.026354132114645212,
          0.021471135664598018,
          0.01785625292786719,
          0.0005758225854942678,
          0.003044140030441511,
          0.001840321018403257,
          0.02115561132606003,
          0.020486239664321948,
          -0.012723440604181957,
          0.004692527080377151,
          0.020719939482278238,
          0.01853103117730248,
          0.02373198767504936,
          -0.009237209688567671,
          -0.00019820670127423945,
          0.008610239754231142,
          0.01840490797546024,
          0.024783031572647052,
          -0.020382822085889596,
          0.00330685453434465,
          0.01022545712764078,
          0.016168666975319712,
          0.022001648331959722,
          -0.011572271058195138,
          -0.0002253134796238454,
          0.007457822085889632,
          0.008505602782071242,
          0.01924342105263155,
          0.0007849526066351364,
          0.009013312708366472,
          0.020702645637429296,
          0.028157021783425717,
          0.021125497114493297,
          0.0015412620427097679,
          0.006367942119788084,
          -0.006337609143869272,
          0.01648839470680241,
          0.01758062799853799,
          -0.009727683122178532,
          0.004959490469723327,
          0.010750013817498627,
          0.015748915157863363,
          0.01737307523508058,
          -0.015904028760110878,
          -0.0016589861751152846,
          0.008854608991047952,
          0.009428303258269044,
          0.016125535827919646,
          -0.023765955380949833,
          -0.001162790697674554,
          0.006412966878083015,
          0.01814615239175632,
          0.0211949328795612,
          -0.01815308195981047,
          -0.004811407409567536,
          0.002698939087241614,
          0.011915528948992837,
          0.020938035511138486,
          -0.012041696621135856,
          0.0011219335493347637,
          0.006911157631130815,
          0.018785558202255914,
          0.01659656362842732,
          -0.010841823608109702
         ],
         "y0": " ",
         "yaxis": "y2"
        }
       ],
       "layout": {
        "annotations": [
         {
          "font": {
           "color": "grey",
           "size": 11
          },
          "showarrow": false,
          "text": "Acc",
          "x": 0.225,
          "xanchor": "center",
          "xref": "paper",
          "y": 0.95,
          "yanchor": "bottom",
          "yref": "paper"
         },
         {
          "font": {
           "color": "grey",
           "size": 11
          },
          "showarrow": false,
          "text": "F1",
          "x": 0.775,
          "xanchor": "center",
          "xref": "paper",
          "y": 0.95,
          "yanchor": "bottom",
          "yref": "paper"
         }
        ],
        "height": 400,
        "legend": {
         "orientation": "h",
         "title": {
          "text": "Moving Averages:"
         },
         "x": 0.5,
         "xanchor": "center",
         "y": -0.1,
         "yanchor": "top"
        },
        "margin": {
         "b": 60,
         "l": 80,
         "r": 40,
         "t": 80
        },
        "template": {
         "data": {
          "bar": [
           {
            "error_x": {
             "color": "#f2f5fa"
            },
            "error_y": {
             "color": "#f2f5fa"
            },
            "marker": {
             "line": {
              "color": "rgb(17,17,17)",
              "width": 0.5
             },
             "pattern": {
              "fillmode": "overlay",
              "size": 10,
              "solidity": 0.2
             }
            },
            "type": "bar"
           }
          ],
          "barpolar": [
           {
            "marker": {
             "line": {
              "color": "rgb(17,17,17)",
              "width": 0.5
             },
             "pattern": {
              "fillmode": "overlay",
              "size": 10,
              "solidity": 0.2
             }
            },
            "type": "barpolar"
           }
          ],
          "carpet": [
           {
            "aaxis": {
             "endlinecolor": "#A2B1C6",
             "gridcolor": "#506784",
             "linecolor": "#506784",
             "minorgridcolor": "#506784",
             "startlinecolor": "#A2B1C6"
            },
            "baxis": {
             "endlinecolor": "#A2B1C6",
             "gridcolor": "#506784",
             "linecolor": "#506784",
             "minorgridcolor": "#506784",
             "startlinecolor": "#A2B1C6"
            },
            "type": "carpet"
           }
          ],
          "choropleth": [
           {
            "colorbar": {
             "outlinewidth": 0,
             "ticks": ""
            },
            "type": "choropleth"
           }
          ],
          "contour": [
           {
            "colorbar": {
             "outlinewidth": 0,
             "ticks": ""
            },
            "colorscale": [
             [
              0,
              "#0d0887"
             ],
             [
              0.1111111111111111,
              "#46039f"
             ],
             [
              0.2222222222222222,
              "#7201a8"
             ],
             [
              0.3333333333333333,
              "#9c179e"
             ],
             [
              0.4444444444444444,
              "#bd3786"
             ],
             [
              0.5555555555555556,
              "#d8576b"
             ],
             [
              0.6666666666666666,
              "#ed7953"
             ],
             [
              0.7777777777777778,
              "#fb9f3a"
             ],
             [
              0.8888888888888888,
              "#fdca26"
             ],
             [
              1,
              "#f0f921"
             ]
            ],
            "type": "contour"
           }
          ],
          "contourcarpet": [
           {
            "colorbar": {
             "outlinewidth": 0,
             "ticks": ""
            },
            "type": "contourcarpet"
           }
          ],
          "heatmap": [
           {
            "colorbar": {
             "outlinewidth": 0,
             "ticks": ""
            },
            "colorscale": [
             [
              0,
              "#0d0887"
             ],
             [
              0.1111111111111111,
              "#46039f"
             ],
             [
              0.2222222222222222,
              "#7201a8"
             ],
             [
              0.3333333333333333,
              "#9c179e"
             ],
             [
              0.4444444444444444,
              "#bd3786"
             ],
             [
              0.5555555555555556,
              "#d8576b"
             ],
             [
              0.6666666666666666,
              "#ed7953"
             ],
             [
              0.7777777777777778,
              "#fb9f3a"
             ],
             [
              0.8888888888888888,
              "#fdca26"
             ],
             [
              1,
              "#f0f921"
             ]
            ],
            "type": "heatmap"
           }
          ],
          "heatmapgl": [
           {
            "colorbar": {
             "outlinewidth": 0,
             "ticks": ""
            },
            "colorscale": [
             [
              0,
              "#0d0887"
             ],
             [
              0.1111111111111111,
              "#46039f"
             ],
             [
              0.2222222222222222,
              "#7201a8"
             ],
             [
              0.3333333333333333,
              "#9c179e"
             ],
             [
              0.4444444444444444,
              "#bd3786"
             ],
             [
              0.5555555555555556,
              "#d8576b"
             ],
             [
              0.6666666666666666,
              "#ed7953"
             ],
             [
              0.7777777777777778,
              "#fb9f3a"
             ],
             [
              0.8888888888888888,
              "#fdca26"
             ],
             [
              1,
              "#f0f921"
             ]
            ],
            "type": "heatmapgl"
           }
          ],
          "histogram": [
           {
            "marker": {
             "pattern": {
              "fillmode": "overlay",
              "size": 10,
              "solidity": 0.2
             }
            },
            "type": "histogram"
           }
          ],
          "histogram2d": [
           {
            "colorbar": {
             "outlinewidth": 0,
             "ticks": ""
            },
            "colorscale": [
             [
              0,
              "#0d0887"
             ],
             [
              0.1111111111111111,
              "#46039f"
             ],
             [
              0.2222222222222222,
              "#7201a8"
             ],
             [
              0.3333333333333333,
              "#9c179e"
             ],
             [
              0.4444444444444444,
              "#bd3786"
             ],
             [
              0.5555555555555556,
              "#d8576b"
             ],
             [
              0.6666666666666666,
              "#ed7953"
             ],
             [
              0.7777777777777778,
              "#fb9f3a"
             ],
             [
              0.8888888888888888,
              "#fdca26"
             ],
             [
              1,
              "#f0f921"
             ]
            ],
            "type": "histogram2d"
           }
          ],
          "histogram2dcontour": [
           {
            "colorbar": {
             "outlinewidth": 0,
             "ticks": ""
            },
            "colorscale": [
             [
              0,
              "#0d0887"
             ],
             [
              0.1111111111111111,
              "#46039f"
             ],
             [
              0.2222222222222222,
              "#7201a8"
             ],
             [
              0.3333333333333333,
              "#9c179e"
             ],
             [
              0.4444444444444444,
              "#bd3786"
             ],
             [
              0.5555555555555556,
              "#d8576b"
             ],
             [
              0.6666666666666666,
              "#ed7953"
             ],
             [
              0.7777777777777778,
              "#fb9f3a"
             ],
             [
              0.8888888888888888,
              "#fdca26"
             ],
             [
              1,
              "#f0f921"
             ]
            ],
            "type": "histogram2dcontour"
           }
          ],
          "mesh3d": [
           {
            "colorbar": {
             "outlinewidth": 0,
             "ticks": ""
            },
            "type": "mesh3d"
           }
          ],
          "parcoords": [
           {
            "line": {
             "colorbar": {
              "outlinewidth": 0,
              "ticks": ""
             }
            },
            "type": "parcoords"
           }
          ],
          "pie": [
           {
            "automargin": true,
            "type": "pie"
           }
          ],
          "scatter": [
           {
            "marker": {
             "line": {
              "color": "#283442"
             }
            },
            "type": "scatter"
           }
          ],
          "scatter3d": [
           {
            "line": {
             "colorbar": {
              "outlinewidth": 0,
              "ticks": ""
             }
            },
            "marker": {
             "colorbar": {
              "outlinewidth": 0,
              "ticks": ""
             }
            },
            "type": "scatter3d"
           }
          ],
          "scattercarpet": [
           {
            "marker": {
             "colorbar": {
              "outlinewidth": 0,
              "ticks": ""
             }
            },
            "type": "scattercarpet"
           }
          ],
          "scattergeo": [
           {
            "marker": {
             "colorbar": {
              "outlinewidth": 0,
              "ticks": ""
             }
            },
            "type": "scattergeo"
           }
          ],
          "scattergl": [
           {
            "marker": {
             "line": {
              "color": "#283442"
             }
            },
            "type": "scattergl"
           }
          ],
          "scattermapbox": [
           {
            "marker": {
             "colorbar": {
              "outlinewidth": 0,
              "ticks": ""
             }
            },
            "type": "scattermapbox"
           }
          ],
          "scatterpolar": [
           {
            "marker": {
             "colorbar": {
              "outlinewidth": 0,
              "ticks": ""
             }
            },
            "type": "scatterpolar"
           }
          ],
          "scatterpolargl": [
           {
            "marker": {
             "colorbar": {
              "outlinewidth": 0,
              "ticks": ""
             }
            },
            "type": "scatterpolargl"
           }
          ],
          "scatterternary": [
           {
            "marker": {
             "colorbar": {
              "outlinewidth": 0,
              "ticks": ""
             }
            },
            "type": "scatterternary"
           }
          ],
          "surface": [
           {
            "colorbar": {
             "outlinewidth": 0,
             "ticks": ""
            },
            "colorscale": [
             [
              0,
              "#0d0887"
             ],
             [
              0.1111111111111111,
              "#46039f"
             ],
             [
              0.2222222222222222,
              "#7201a8"
             ],
             [
              0.3333333333333333,
              "#9c179e"
             ],
             [
              0.4444444444444444,
              "#bd3786"
             ],
             [
              0.5555555555555556,
              "#d8576b"
             ],
             [
              0.6666666666666666,
              "#ed7953"
             ],
             [
              0.7777777777777778,
              "#fb9f3a"
             ],
             [
              0.8888888888888888,
              "#fdca26"
             ],
             [
              1,
              "#f0f921"
             ]
            ],
            "type": "surface"
           }
          ],
          "table": [
           {
            "cells": {
             "fill": {
              "color": "#506784"
             },
             "line": {
              "color": "rgb(17,17,17)"
             }
            },
            "header": {
             "fill": {
              "color": "#2a3f5f"
             },
             "line": {
              "color": "rgb(17,17,17)"
             }
            },
            "type": "table"
           }
          ]
         },
         "layout": {
          "annotationdefaults": {
           "arrowcolor": "#f2f5fa",
           "arrowhead": 0,
           "arrowwidth": 1
          },
          "autotypenumbers": "strict",
          "coloraxis": {
           "colorbar": {
            "outlinewidth": 0,
            "ticks": ""
           }
          },
          "colorscale": {
           "diverging": [
            [
             0,
             "#8e0152"
            ],
            [
             0.1,
             "#c51b7d"
            ],
            [
             0.2,
             "#de77ae"
            ],
            [
             0.3,
             "#f1b6da"
            ],
            [
             0.4,
             "#fde0ef"
            ],
            [
             0.5,
             "#f7f7f7"
            ],
            [
             0.6,
             "#e6f5d0"
            ],
            [
             0.7,
             "#b8e186"
            ],
            [
             0.8,
             "#7fbc41"
            ],
            [
             0.9,
             "#4d9221"
            ],
            [
             1,
             "#276419"
            ]
           ],
           "sequential": [
            [
             0,
             "#0d0887"
            ],
            [
             0.1111111111111111,
             "#46039f"
            ],
            [
             0.2222222222222222,
             "#7201a8"
            ],
            [
             0.3333333333333333,
             "#9c179e"
            ],
            [
             0.4444444444444444,
             "#bd3786"
            ],
            [
             0.5555555555555556,
             "#d8576b"
            ],
            [
             0.6666666666666666,
             "#ed7953"
            ],
            [
             0.7777777777777778,
             "#fb9f3a"
            ],
            [
             0.8888888888888888,
             "#fdca26"
            ],
            [
             1,
             "#f0f921"
            ]
           ],
           "sequentialminus": [
            [
             0,
             "#0d0887"
            ],
            [
             0.1111111111111111,
             "#46039f"
            ],
            [
             0.2222222222222222,
             "#7201a8"
            ],
            [
             0.3333333333333333,
             "#9c179e"
            ],
            [
             0.4444444444444444,
             "#bd3786"
            ],
            [
             0.5555555555555556,
             "#d8576b"
            ],
            [
             0.6666666666666666,
             "#ed7953"
            ],
            [
             0.7777777777777778,
             "#fb9f3a"
            ],
            [
             0.8888888888888888,
             "#fdca26"
            ],
            [
             1,
             "#f0f921"
            ]
           ]
          },
          "colorway": [
           "#636efa",
           "#EF553B",
           "#00cc96",
           "#ab63fa",
           "#FFA15A",
           "#19d3f3",
           "#FF6692",
           "#B6E880",
           "#FF97FF",
           "#FECB52"
          ],
          "font": {
           "color": "#f2f5fa"
          },
          "geo": {
           "bgcolor": "rgb(17,17,17)",
           "lakecolor": "rgb(17,17,17)",
           "landcolor": "rgb(17,17,17)",
           "showlakes": true,
           "showland": true,
           "subunitcolor": "#506784"
          },
          "hoverlabel": {
           "align": "left"
          },
          "hovermode": "closest",
          "mapbox": {
           "style": "dark"
          },
          "paper_bgcolor": "rgb(17,17,17)",
          "plot_bgcolor": "rgb(17,17,17)",
          "polar": {
           "angularaxis": {
            "gridcolor": "#506784",
            "linecolor": "#506784",
            "ticks": ""
           },
           "bgcolor": "rgb(17,17,17)",
           "radialaxis": {
            "gridcolor": "#506784",
            "linecolor": "#506784",
            "ticks": ""
           }
          },
          "scene": {
           "xaxis": {
            "backgroundcolor": "rgb(17,17,17)",
            "gridcolor": "#506784",
            "gridwidth": 2,
            "linecolor": "#506784",
            "showbackground": true,
            "ticks": "",
            "zerolinecolor": "#C8D4E3"
           },
           "yaxis": {
            "backgroundcolor": "rgb(17,17,17)",
            "gridcolor": "#506784",
            "gridwidth": 2,
            "linecolor": "#506784",
            "showbackground": true,
            "ticks": "",
            "zerolinecolor": "#C8D4E3"
           },
           "zaxis": {
            "backgroundcolor": "rgb(17,17,17)",
            "gridcolor": "#506784",
            "gridwidth": 2,
            "linecolor": "#506784",
            "showbackground": true,
            "ticks": "",
            "zerolinecolor": "#C8D4E3"
           }
          },
          "shapedefaults": {
           "line": {
            "color": "#f2f5fa"
           }
          },
          "sliderdefaults": {
           "bgcolor": "#C8D4E3",
           "bordercolor": "rgb(17,17,17)",
           "borderwidth": 1,
           "tickwidth": 0
          },
          "ternary": {
           "aaxis": {
            "gridcolor": "#506784",
            "linecolor": "#506784",
            "ticks": ""
           },
           "baxis": {
            "gridcolor": "#506784",
            "linecolor": "#506784",
            "ticks": ""
           },
           "bgcolor": "rgb(17,17,17)",
           "caxis": {
            "gridcolor": "#506784",
            "linecolor": "#506784",
            "ticks": ""
           }
          },
          "title": {
           "x": 0.05
          },
          "updatemenudefaults": {
           "bgcolor": "#506784",
           "borderwidth": 0
          },
          "xaxis": {
           "automargin": true,
           "gridcolor": "#283442",
           "linecolor": "#506784",
           "ticks": "",
           "title": {
            "standoff": 15
           },
           "zerolinecolor": "#283442",
           "zerolinewidth": 2
          },
          "yaxis": {
           "automargin": true,
           "gridcolor": "#283442",
           "linecolor": "#506784",
           "ticks": "",
           "title": {
            "standoff": 15
           },
           "zerolinecolor": "#283442",
           "zerolinewidth": 2
          }
         }
        },
        "title": {
         "text": "Observe Backward Elimination in All Models With Repect to Moving Averages<br><span style=\"font-size: 12.5px; color: lightgrey;\"> -- How meansures are changed by removing the impact of each coefficient</span>"
        },
        "width": 800,
        "xaxis": {
         "anchor": "y",
         "domain": [
          0,
          0.45
         ]
        },
        "xaxis2": {
         "anchor": "y2",
         "domain": [
          0.55,
          1
         ]
        },
        "yaxis": {
         "anchor": "x",
         "domain": [
          0,
          1
         ],
         "title": {
          "text": "Difference"
         }
        },
        "yaxis2": {
         "anchor": "x2",
         "domain": [
          0,
          1
         ]
        }
       }
      }
     },
     "metadata": {},
     "output_type": "display_data"
    }
   ],
   "source": [
    "# comparing model performance & backward elimination test\n",
    "fig2_1, fig2_2, fig2_3 = PA.model_learning([1,3,6], model='LogR')\n",
    "\n",
    "for f in fig2_1:\n",
    "    f.show()\n",
    "fig2_2.show()\n",
    "fig2_3.show()"
   ]
  },
  {
   "cell_type": "code",
   "execution_count": null,
   "metadata": {},
   "outputs": [],
   "source": []
  },
  {
   "cell_type": "code",
   "execution_count": 30,
   "metadata": {},
   "outputs": [],
   "source": [
    "sc_opts = PA.sc_opts\n",
    "colors = ['#636EFA', '#EF553B', '#00CC96', '#AB63FA', '#FFA15A', '#19D3F3', '#FF6692', '#B6E880', '#FF97FF', '#FECB52']\n",
    "figs = fig1_1"
   ]
  },
  {
   "cell_type": "code",
   "execution_count": 32,
   "metadata": {},
   "outputs": [
    {
     "data": {
      "text/html": [
       "\n",
       "        <iframe\n",
       "            width=\"100%\"\n",
       "            height=\"650\"\n",
       "            src=\"http://127.0.0.1:8050/\"\n",
       "            frameborder=\"0\"\n",
       "            allowfullscreen\n",
       "            \n",
       "        ></iframe>\n",
       "        "
      ],
      "text/plain": [
       "<IPython.lib.display.IFrame at 0x1d377b80b90>"
      ]
     },
     "metadata": {},
     "output_type": "display_data"
    }
   ],
   "source": [
    "app = dash.Dash(__name__)\n",
    "\n",
    "# Sep up each component\n",
    "legends = dmc.ChipGroup(\n",
    "    id={'func': 'compare_perf', 'obj': 'legend'},\n",
    "    children=[\n",
    "        dmc.Chip(\n",
    "            children=str(sc),\n",
    "            value=str(sc),\n",
    "            variant=\"outline\", \n",
    "            color=colors[i]\n",
    "            ) for i, sc in enumerate(sc_opts)\n",
    "    ],\n",
    "    value=[str(sc) for sc in sc_opts],\n",
    "    multiple=True,\n",
    "    style={'display': 'flex', 'justifyContent': 'center'}\n",
    ")\n",
    "\n",
    "graphs = html.Div(\n",
    "    dbc.Row(\n",
    "        [\n",
    "            dbc.Col(\n",
    "                dbc.Card(\n",
    "                    dbc.CardBody([\n",
    "                        dcc.Graph(\n",
    "                            id={'func': 'compare_perf', 'obj': 'fig', 'id': str(i)},\n",
    "                            figure=fig,\n",
    "                        )\n",
    "                    ]),\n",
    "                    style={'margin': '5px'}\n",
    "                ),\n",
    "                width='auto'\n",
    "            ) for i, fig in enumerate(figs)\n",
    "        ],\n",
    "        style={'display': 'flex', 'overflowX': 'auto', 'width': '100%'},\n",
    "    ),\n",
    "    style={'maxWidth': '100vw'}\n",
    ")\n",
    "\n",
    "@app.callback(\n",
    "    output=Output({'func': 'compare_perf', 'obj': 'fig', 'id': ALL}, 'figure'),\n",
    "    inputs=Input({'func': 'compare_perf', 'obj': 'legend'}, 'value'),\n",
    "    state=State({'func': 'compare_perf', 'obj': 'fig', 'id': ALL}, 'figure')\n",
    ")\n",
    "def update_visibility(value, fig):\n",
    "    # Determine which input was triggered\n",
    "    triggered_id = ctx.triggered_id\n",
    "    if triggered_id:\n",
    "        # define output\n",
    "        outputs = []\n",
    "        # get the checked value as set \n",
    "        checked = set(value)\n",
    "        # traversing all figure data\n",
    "        for f in fig:\n",
    "            # define patch\n",
    "            p = Patch()\n",
    "            for i in range(len(f['data'])):\n",
    "                p['data'][i].update({'visible': f['data'][i]['name'] in checked})\n",
    "            \n",
    "            outputs.append(p)\n",
    "        \n",
    "        return outputs\n",
    "    \n",
    "    else:\n",
    "        return no_update\n",
    "\n",
    "\n",
    "# Set up the Dash app layout \n",
    "app.layout = html.Div([\n",
    "    legends, graphs\n",
    "])\n",
    "\n",
    "if __name__ == '__main__':\n",
    "    app.run_server(debug=False)"
   ]
  },
  {
   "cell_type": "markdown",
   "metadata": {},
   "source": [
    "html.H3('Comparing the Logistic Regression Model Results on Different Conditions', \n",
    "            style={ 'color': 'white'}),\n",
    "    html.Div(id='fixed-legend', style={'color': 'white'}, children=[\n",
    "        dcc.Markdown(\"\"\"\n",
    "            - Scopes: how many months of the latest data is used for parameter adjustments.\n",
    "            - Error Bars: Showing mean, min, and max of each measure among various future predictions.\n",
    "        \"\"\")\n",
    "    ]),"
   ]
  },
  {
   "cell_type": "code",
   "execution_count": null,
   "metadata": {},
   "outputs": [],
   "source": []
  },
  {
   "cell_type": "code",
   "execution_count": null,
   "metadata": {},
   "outputs": [],
   "source": []
  },
  {
   "cell_type": "code",
   "execution_count": null,
   "metadata": {},
   "outputs": [],
   "source": []
  },
  {
   "cell_type": "markdown",
   "metadata": {},
   "source": [
    "### Memo"
   ]
  },
  {
   "cell_type": "code",
   "execution_count": 4,
   "metadata": {},
   "outputs": [],
   "source": [
    "import dash\n",
    "from dash import Dash, html, dcc, Input, Output, State, ctx\n",
    "import pandas as pd\n",
    "import numpy as np\n",
    "from plotly.subplots import make_subplots\n",
    "import plotly.graph_objects as go"
   ]
  },
  {
   "cell_type": "code",
   "execution_count": 20,
   "metadata": {},
   "outputs": [
    {
     "data": {
      "text/html": [
       "\n",
       "        <iframe\n",
       "            width=\"100%\"\n",
       "            height=\"650\"\n",
       "            src=\"http://127.0.0.1:8050/\"\n",
       "            frameborder=\"0\"\n",
       "            allowfullscreen\n",
       "            \n",
       "        ></iframe>\n",
       "        "
      ],
      "text/plain": [
       "<IPython.lib.display.IFrame at 0x22a9e8a2b10>"
      ]
     },
     "metadata": {},
     "output_type": "display_data"
    }
   ],
   "source": [
    "# Assuming 'sample' is your DataFrame with the data you want to plot\n",
    "# And it has columns 'X', 'Y1', 'Y2', ... for your data\n",
    "\n",
    "# Sample data for three dataframes with similar structure\n",
    "s1 = pd.DataFrame({\n",
    "    'X': pd.date_range(start='1/1/2020', periods=100),\n",
    "    'Y1': np.random.randn(100).cumsum(),\n",
    "    'Y2': np.random.randn(100).cumsum(),\n",
    "    'Y3': np.random.randn(100).cumsum()\n",
    "})\n",
    "s2 = pd.DataFrame({\n",
    "    'X': pd.date_range(start='1/1/2020', periods=100),\n",
    "    'Y1': np.random.randn(100).cumsum()*0.5,\n",
    "    'Y2': np.random.randn(100).cumsum()*0.5,\n",
    "    'Y3': np.random.randn(100).cumsum()*0.5\n",
    "})  # Just for example, modify as needed\n",
    "\n",
    "s3 = pd.DataFrame({\n",
    "    'X': pd.date_range(start='1/1/2020', periods=100),\n",
    "    'Y1': np.random.randn(100).cumsum()*2,\n",
    "    'Y2': np.random.randn(100).cumsum()*2,\n",
    "    'Y3': np.random.randn(100).cumsum()*2\n",
    "})   # Just for example, modify as needed\n",
    "\n",
    "\n",
    "# Define the number of graphs you want to create\n",
    "fig = make_subplots(rows=1, cols=3, shared_yaxes=True)\n",
    "\n",
    "# Define colors for traces to ensure consistency across subplots\n",
    "colors = {'Y1': 'blue', 'Y2': 'red', 'Y3': 'green'}\n",
    "\n",
    "for i, s in enumerate([s1, s2, s3], start=1):\n",
    "    for col in ['Y1', 'Y2', 'Y3']:\n",
    "        fig.add_trace(\n",
    "            go.Scatter(\n",
    "                x=s['X'],\n",
    "                y=s[col],\n",
    "                name=col,\n",
    "                mode='lines+markers',\n",
    "                marker=dict(color=colors[col]),\n",
    "                showlegend=False, # Only the first subplot shows the legend,\n",
    "                visible=True\n",
    "            ),\n",
    "            row=1, col=i\n",
    "        )\n",
    "\n",
    "# Update layout to Plotly's dark theme\n",
    "fig.update_layout(\n",
    "    plot_bgcolor='black',\n",
    "    paper_bgcolor='black',\n",
    "    font={'color': 'white'},\n",
    "    legend=dict(orientation=\"h\", yanchor=\"bottom\", y=1.02, xanchor=\"right\", x=1),\n",
    "    uirevision='constant' # keeps the user-selected legend state consistent across updates\n",
    ")\n",
    "\n",
    "\n",
    "app = dash.Dash(__name__)\n",
    "# Set up the Dash app layout\n",
    "app.layout = html.Div([\n",
    "    html.Div(id='custom-legend', children=[\n",
    "        html.Button('Y1', id='legend-y1', n_clicks=0),\n",
    "        html.Button('Y2', id='legend-y2', n_clicks=0),\n",
    "        html.Button('Y3', id='legend-y3', n_clicks=0)\n",
    "    ], style={'display': 'flex', 'justifyContent': 'center'}),\n",
    "    html.Div(style={'width': '600px', 'overflowX': 'scroll'}, children=[\n",
    "        dcc.Graph(id='subplots-graph', figure=fig, style={'width': '1500px'})\n",
    "    ])\n",
    "])\n",
    "\n",
    "\n",
    "@app.callback(\n",
    "    output=Output('subplots-graph', 'figure'),\n",
    "    inputs=dict(\n",
    "        data=dict(\n",
    "            y1=Input('legend-y1', 'n_clicks'),\n",
    "            y2=Input('legend-y2', 'n_clicks'),\n",
    "            y3=Input('legend-y3', 'n_clicks'),\n",
    "        ),\n",
    "    ),\n",
    "    state=dict(fig=State('subplots-graph', 'figure'))\n",
    ")\n",
    "def update_graph_visibility(data, fig):\n",
    "    # Determine which input was triggered\n",
    "    triggered_id = ctx.triggered_id\n",
    "\n",
    "    if triggered_id in {'legend-y1', 'legend-y2', 'legend-y3'}:\n",
    "        # Get series name (e.g., 'Y1', 'Y2', 'Y3')\n",
    "        series_name = triggered_id.split('-')[-1]\n",
    "        # Toggle visibility\n",
    "        visibility = False if data[series_name] % 2 == 1 else True\n",
    "    \n",
    "        # Update traces\n",
    "        for trace in fig['data']:\n",
    "            if trace['name'].lower() == series_name:\n",
    "                trace['visible'] = visibility\n",
    "\n",
    "    return fig\n",
    "\n",
    "\n",
    "if __name__ == '__main__':\n",
    "    app.run_server(debug=True)\n"
   ]
  },
  {
   "cell_type": "code",
   "execution_count": null,
   "metadata": {},
   "outputs": [],
   "source": []
  }
 ],
 "metadata": {
  "kernelspec": {
   "display_name": "Python 3",
   "language": "python",
   "name": "python3"
  },
  "language_info": {
   "codemirror_mode": {
    "name": "ipython",
    "version": 3
   },
   "file_extension": ".py",
   "mimetype": "text/x-python",
   "name": "python",
   "nbconvert_exporter": "python",
   "pygments_lexer": "ipython3",
   "version": "3.11.6"
  }
 },
 "nbformat": 4,
 "nbformat_minor": 2
}
