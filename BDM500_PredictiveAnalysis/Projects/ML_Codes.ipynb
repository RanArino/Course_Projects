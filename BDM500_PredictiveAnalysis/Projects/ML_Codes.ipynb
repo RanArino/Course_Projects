{
 "cells": [
  {
   "cell_type": "code",
   "execution_count": null,
   "metadata": {},
   "outputs": [],
   "source": []
  },
  {
   "cell_type": "code",
   "execution_count": 2,
   "metadata": {},
   "outputs": [],
   "source": [
    "%load_ext autoreload\n",
    "%autoreload 2\n",
    "from Functions import PredictiveAnalysis\n",
    "\n",
    "# reload\n",
    "# %reload_ext autoreload"
   ]
  },
  {
   "cell_type": "code",
   "execution_count": null,
   "metadata": {},
   "outputs": [],
   "source": [
    "import plotly.graph_objects as go\n",
    "import dash\n",
    "from dash import html, dcc, ALL, MATCH, Output, Input, State, no_update, ctx, Patch\n",
    "import dash_mantine_components as dmc\n",
    "import dash_bootstrap_components as dbc\n"
   ]
  },
  {
   "cell_type": "code",
   "execution_count": null,
   "metadata": {},
   "outputs": [],
   "source": [
    "\n",
    "# Sep up each component\n",
    "legends = dmc.ChipGroup(\n",
    "    id={'func': 'compare_perf', 'obj': 'legend'},\n",
    "    children=[\n",
    "        dmc.Chip(\n",
    "            children=str(sc),\n",
    "            value=str(sc),\n",
    "            variant=\"outline\", \n",
    "            color=colors[i]\n",
    "            ) for i, sc in enumerate(sc_opts)\n",
    "    ],\n",
    "    value=[str(sc) for sc in sc_opts],\n",
    "    multiple=True,\n",
    "    style={'display': 'flex', 'justifyContent': 'center'}\n",
    ")\n",
    "\n",
    "graphs = html.Div(\n",
    "    dbc.Row(\n",
    "        [\n",
    "            dbc.Col(\n",
    "                dbc.Card(\n",
    "                    dbc.CardBody([\n",
    "                        dcc.Graph(\n",
    "                            id={'func': 'compare_perf', 'obj': 'fig', 'id': str(i)},\n",
    "                            figure=fig,\n",
    "                        )\n",
    "                    ]),\n",
    "                    style={'margin': '5px'}\n",
    "                ),\n",
    "                width='auto'\n",
    "            ) for i, fig in enumerate(figs)\n",
    "        ],\n",
    "        style={'display': 'flex', 'overflowX': 'auto', 'width': '100%'},\n",
    "    ),\n",
    "    style={'maxWidth': '100vw'}\n",
    ")\n",
    "\n",
    "@app.callback(\n",
    "    output=Output({'func': 'compare_perf', 'obj': 'fig', 'id': ALL}, 'figure'),\n",
    "    inputs=Input({'func': 'compare_perf', 'obj': 'legend'}, 'value'),\n",
    "    state=State({'func': 'compare_perf', 'obj': 'fig', 'id': ALL}, 'figure')\n",
    ")\n",
    "def update_visibility(value, fig):\n",
    "    # Determine which input was triggered\n",
    "    triggered_id = ctx.triggered_id\n",
    "    if triggered_id:\n",
    "        # define output\n",
    "        outputs = []\n",
    "        # get the checked value as set \n",
    "        checked = set(value)\n",
    "        # traversing all figure data\n",
    "        for f in fig:\n",
    "            # define patch\n",
    "            p = Patch()\n",
    "            for i in range(len(f['data'])):\n",
    "                p['data'][i].update({'visible': f['data'][i]['name'] in checked})\n",
    "            \n",
    "            outputs.append(p)\n",
    "        \n",
    "        return outputs\n",
    "    \n",
    "    else:\n",
    "        return no_update"
   ]
  },
  {
   "cell_type": "code",
   "execution_count": null,
   "metadata": {},
   "outputs": [
    {
     "data": {
      "text/html": [
       "\n",
       "        <iframe\n",
       "            width=\"100%\"\n",
       "            height=\"650\"\n",
       "            src=\"http://127.0.0.1:8050/\"\n",
       "            frameborder=\"0\"\n",
       "            allowfullscreen\n",
       "            \n",
       "        ></iframe>\n",
       "        "
      ],
      "text/plain": [
       "<IPython.lib.display.IFrame at 0x1d377b80b90>"
      ]
     },
     "metadata": {},
     "output_type": "display_data"
    }
   ],
   "source": [
    "app = dash.Dash(__name__)\n",
    "# Set up the Dash app layout \n",
    "app.layout = html.Div([\n",
    "    legends, graphs\n",
    "])\n",
    "\n",
    "if __name__ == '__main__':\n",
    "    app.run_server(debug=False)"
   ]
  },
  {
   "cell_type": "markdown",
   "metadata": {},
   "source": [
    "html.H3('Comparing the Logistic Regression Model Results on Different Conditions', \n",
    "            style={ 'color': 'white'}),\n",
    "    html.Div(id='fixed-legend', style={'color': 'white'}, children=[\n",
    "        dcc.Markdown(\"\"\"\n",
    "            - Scopes: how many months of the latest data is used for parameter adjustments.\n",
    "            - Error Bars: Showing mean, min, and max of each measure among various future predictions.\n",
    "        \"\"\")\n",
    "    ]),"
   ]
  },
  {
   "cell_type": "code",
   "execution_count": null,
   "metadata": {},
   "outputs": [],
   "source": []
  },
  {
   "cell_type": "code",
   "execution_count": null,
   "metadata": {},
   "outputs": [],
   "source": []
  },
  {
   "cell_type": "code",
   "execution_count": null,
   "metadata": {},
   "outputs": [],
   "source": []
  },
  {
   "cell_type": "markdown",
   "metadata": {},
   "source": [
    "### Memo"
   ]
  },
  {
   "cell_type": "code",
   "execution_count": null,
   "metadata": {},
   "outputs": [],
   "source": [
    "import dash\n",
    "from dash import Dash, html, dcc, Input, Output, State, ctx\n",
    "import pandas as pd\n",
    "import numpy as np\n",
    "from plotly.subplots import make_subplots\n",
    "import plotly.graph_objects as go"
   ]
  },
  {
   "cell_type": "code",
   "execution_count": null,
   "metadata": {},
   "outputs": [
    {
     "data": {
      "text/html": [
       "\n",
       "        <iframe\n",
       "            width=\"100%\"\n",
       "            height=\"650\"\n",
       "            src=\"http://127.0.0.1:8050/\"\n",
       "            frameborder=\"0\"\n",
       "            allowfullscreen\n",
       "            \n",
       "        ></iframe>\n",
       "        "
      ],
      "text/plain": [
       "<IPython.lib.display.IFrame at 0x22a9e8a2b10>"
      ]
     },
     "metadata": {},
     "output_type": "display_data"
    }
   ],
   "source": [
    "# Assuming 'sample' is your DataFrame with the data you want to plot\n",
    "# And it has columns 'X', 'Y1', 'Y2', ... for your data\n",
    "\n",
    "# Sample data for three dataframes with similar structure\n",
    "s1 = pd.DataFrame({\n",
    "    'X': pd.date_range(start='1/1/2020', periods=100),\n",
    "    'Y1': np.random.randn(100).cumsum(),\n",
    "    'Y2': np.random.randn(100).cumsum(),\n",
    "    'Y3': np.random.randn(100).cumsum()\n",
    "})\n",
    "s2 = pd.DataFrame({\n",
    "    'X': pd.date_range(start='1/1/2020', periods=100),\n",
    "    'Y1': np.random.randn(100).cumsum()*0.5,\n",
    "    'Y2': np.random.randn(100).cumsum()*0.5,\n",
    "    'Y3': np.random.randn(100).cumsum()*0.5\n",
    "})  # Just for example, modify as needed\n",
    "\n",
    "s3 = pd.DataFrame({\n",
    "    'X': pd.date_range(start='1/1/2020', periods=100),\n",
    "    'Y1': np.random.randn(100).cumsum()*2,\n",
    "    'Y2': np.random.randn(100).cumsum()*2,\n",
    "    'Y3': np.random.randn(100).cumsum()*2\n",
    "})   # Just for example, modify as needed\n",
    "\n",
    "\n",
    "# Define the number of graphs you want to create\n",
    "fig = make_subplots(rows=1, cols=3, shared_yaxes=True)\n",
    "\n",
    "# Define colors for traces to ensure consistency across subplots\n",
    "colors = {'Y1': 'blue', 'Y2': 'red', 'Y3': 'green'}\n",
    "\n",
    "for i, s in enumerate([s1, s2, s3], start=1):\n",
    "    for col in ['Y1', 'Y2', 'Y3']:\n",
    "        fig.add_trace(\n",
    "            go.Scatter(\n",
    "                x=s['X'],\n",
    "                y=s[col],\n",
    "                name=col,\n",
    "                mode='lines+markers',\n",
    "                marker=dict(color=colors[col]),\n",
    "                showlegend=False, # Only the first subplot shows the legend,\n",
    "                visible=True\n",
    "            ),\n",
    "            row=1, col=i\n",
    "        )\n",
    "\n",
    "# Update layout to Plotly's dark theme\n",
    "fig.update_layout(\n",
    "    plot_bgcolor='black',\n",
    "    paper_bgcolor='black',\n",
    "    font={'color': 'white'},\n",
    "    legend=dict(orientation=\"h\", yanchor=\"bottom\", y=1.02, xanchor=\"right\", x=1),\n",
    "    uirevision='constant' # keeps the user-selected legend state consistent across updates\n",
    ")\n",
    "\n",
    "\n",
    "app = dash.Dash(__name__)\n",
    "# Set up the Dash app layout\n",
    "app.layout = html.Div([\n",
    "    html.Div(id='custom-legend', children=[\n",
    "        html.Button('Y1', id='legend-y1', n_clicks=0),\n",
    "        html.Button('Y2', id='legend-y2', n_clicks=0),\n",
    "        html.Button('Y3', id='legend-y3', n_clicks=0)\n",
    "    ], style={'display': 'flex', 'justifyContent': 'center'}),\n",
    "    html.Div(style={'width': '600px', 'overflowX': 'scroll'}, children=[\n",
    "        dcc.Graph(id='subplots-graph', figure=fig, style={'width': '1500px'})\n",
    "    ])\n",
    "])\n",
    "\n",
    "\n",
    "@app.callback(\n",
    "    output=Output('subplots-graph', 'figure'),\n",
    "    inputs=dict(\n",
    "        data=dict(\n",
    "            y1=Input('legend-y1', 'n_clicks'),\n",
    "            y2=Input('legend-y2', 'n_clicks'),\n",
    "            y3=Input('legend-y3', 'n_clicks'),\n",
    "        ),\n",
    "    ),\n",
    "    state=dict(fig=State('subplots-graph', 'figure'))\n",
    ")\n",
    "def update_graph_visibility(data, fig):\n",
    "    # Determine which input was triggered\n",
    "    triggered_id = ctx.triggered_id\n",
    "\n",
    "    if triggered_id in {'legend-y1', 'legend-y2', 'legend-y3'}:\n",
    "        # Get series name (e.g., 'Y1', 'Y2', 'Y3')\n",
    "        series_name = triggered_id.split('-')[-1]\n",
    "        # Toggle visibility\n",
    "        visibility = False if data[series_name] % 2 == 1 else True\n",
    "    \n",
    "        # Update traces\n",
    "        for trace in fig['data']:\n",
    "            if trace['name'].lower() == series_name:\n",
    "                trace['visible'] = visibility\n",
    "\n",
    "    return fig\n",
    "\n",
    "\n",
    "if __name__ == '__main__':\n",
    "    app.run_server(debug=True)\n"
   ]
  },
  {
   "cell_type": "code",
   "execution_count": null,
   "metadata": {},
   "outputs": [],
   "source": []
  }
 ],
 "metadata": {
  "kernelspec": {
   "display_name": "Python 3",
   "language": "python",
   "name": "python3"
  },
  "language_info": {
   "codemirror_mode": {
    "name": "ipython",
    "version": 3
   },
   "file_extension": ".py",
   "mimetype": "text/x-python",
   "name": "python",
   "nbconvert_exporter": "python",
   "pygments_lexer": "ipython3",
   "version": "3.11.7"
  }
 },
 "nbformat": 4,
 "nbformat_minor": 2
}
