{
 "cells": [
  {
   "cell_type": "code",
   "execution_count": 1,
   "metadata": {},
   "outputs": [],
   "source": [
    "import re\n",
    "\n",
    "import numpy as np\n",
    "import pandas as pd\n",
    "import matplotlib.pyplot as plt\n",
    "\n",
    "from Functions import PredictiveAnalysis\n",
    "\n",
    "import dash\n",
    "from dash import html, dcc, ALL, MATCH, Output, Input, State, no_update, ctx, Patch\n",
    "import dash_mantine_components as dmc\n",
    "import dash_bootstrap_components as dbc\n"
   ]
  },
  {
   "cell_type": "code",
   "execution_count": 2,
   "metadata": {},
   "outputs": [
    {
     "data": {
      "text/html": [
       "<div>\n",
       "<style scoped>\n",
       "    .dataframe tbody tr th:only-of-type {\n",
       "        vertical-align: middle;\n",
       "    }\n",
       "\n",
       "    .dataframe tbody tr th {\n",
       "        vertical-align: top;\n",
       "    }\n",
       "\n",
       "    .dataframe thead th {\n",
       "        text-align: right;\n",
       "    }\n",
       "</style>\n",
       "<table border=\"1\" class=\"dataframe\">\n",
       "  <thead>\n",
       "    <tr style=\"text-align: right;\">\n",
       "      <th></th>\n",
       "      <th>Date</th>\n",
       "      <th>Year</th>\n",
       "      <th>Month</th>\n",
       "      <th>CSENT</th>\n",
       "      <th>IPM</th>\n",
       "      <th>HOUSE</th>\n",
       "      <th>UNEMP</th>\n",
       "      <th>LRIR</th>\n",
       "      <th>SP500</th>\n",
       "      <th>SP500_Price</th>\n",
       "      <th>SP500_Rise</th>\n",
       "    </tr>\n",
       "  </thead>\n",
       "  <tbody>\n",
       "    <tr>\n",
       "      <th>0</th>\n",
       "      <td>1979-01-31</td>\n",
       "      <td>1979</td>\n",
       "      <td>1</td>\n",
       "      <td>-13.859020</td>\n",
       "      <td>7.862464</td>\n",
       "      <td>-5.157233</td>\n",
       "      <td>5.9</td>\n",
       "      <td>-0.300399</td>\n",
       "      <td>11.966387</td>\n",
       "      <td>99.930000</td>\n",
       "      <td>1.0</td>\n",
       "    </tr>\n",
       "    <tr>\n",
       "      <th>1</th>\n",
       "      <td>1979-02-28</td>\n",
       "      <td>1979</td>\n",
       "      <td>2</td>\n",
       "      <td>-12.336892</td>\n",
       "      <td>7.786828</td>\n",
       "      <td>-8.596713</td>\n",
       "      <td>5.9</td>\n",
       "      <td>-0.671270</td>\n",
       "      <td>10.615806</td>\n",
       "      <td>96.279999</td>\n",
       "      <td>1.0</td>\n",
       "    </tr>\n",
       "    <tr>\n",
       "      <th>2</th>\n",
       "      <td>1979-03-31</td>\n",
       "      <td>1979</td>\n",
       "      <td>3</td>\n",
       "      <td>-13.197970</td>\n",
       "      <td>6.418676</td>\n",
       "      <td>-2.579853</td>\n",
       "      <td>5.8</td>\n",
       "      <td>-1.142366</td>\n",
       "      <td>13.877365</td>\n",
       "      <td>101.589996</td>\n",
       "      <td>1.0</td>\n",
       "    </tr>\n",
       "    <tr>\n",
       "      <th>3</th>\n",
       "      <td>1979-04-30</td>\n",
       "      <td>1979</td>\n",
       "      <td>4</td>\n",
       "      <td>-19.117647</td>\n",
       "      <td>2.997984</td>\n",
       "      <td>-13.425926</td>\n",
       "      <td>5.8</td>\n",
       "      <td>-1.135133</td>\n",
       "      <td>5.091398</td>\n",
       "      <td>101.760002</td>\n",
       "      <td>1.0</td>\n",
       "    </tr>\n",
       "    <tr>\n",
       "      <th>4</th>\n",
       "      <td>1979-05-31</td>\n",
       "      <td>1979</td>\n",
       "      <td>5</td>\n",
       "      <td>-17.852835</td>\n",
       "      <td>3.917937</td>\n",
       "      <td>-15.169195</td>\n",
       "      <td>5.6</td>\n",
       "      <td>-1.637674</td>\n",
       "      <td>1.892230</td>\n",
       "      <td>99.080002</td>\n",
       "      <td>1.0</td>\n",
       "    </tr>\n",
       "  </tbody>\n",
       "</table>\n",
       "</div>"
      ],
      "text/plain": [
       "         Date  Year  Month      CSENT       IPM      HOUSE  UNEMP      LRIR  \\\n",
       "0  1979-01-31  1979      1 -13.859020  7.862464  -5.157233    5.9 -0.300399   \n",
       "1  1979-02-28  1979      2 -12.336892  7.786828  -8.596713    5.9 -0.671270   \n",
       "2  1979-03-31  1979      3 -13.197970  6.418676  -2.579853    5.8 -1.142366   \n",
       "3  1979-04-30  1979      4 -19.117647  2.997984 -13.425926    5.8 -1.135133   \n",
       "4  1979-05-31  1979      5 -17.852835  3.917937 -15.169195    5.6 -1.637674   \n",
       "\n",
       "       SP500  SP500_Price  SP500_Rise  \n",
       "0  11.966387    99.930000         1.0  \n",
       "1  10.615806    96.279999         1.0  \n",
       "2  13.877365   101.589996         1.0  \n",
       "3   5.091398   101.760002         1.0  \n",
       "4   1.892230    99.080002         1.0  "
      ]
     },
     "execution_count": 2,
     "metadata": {},
     "output_type": "execute_result"
    }
   ],
   "source": [
    "# load the clean data frame\n",
    "df = pd.read_csv('final.csv')\n",
    "df.head()"
   ]
  },
  {
   "cell_type": "markdown",
   "metadata": {},
   "source": [
    "# Dataset Creation\n",
    "- Six types of moving averages ; from one to six months.\n",
    "- Six types of dataset shifts; from one to six months."
   ]
  },
  {
   "cell_type": "code",
   "execution_count": 3,
   "metadata": {},
   "outputs": [
    {
     "data": {
      "text/plain": [
       "'\\nclass PredictiveAnalysis_Test(PredictiveAnalysis):\\n    def __init__(self, df):\\n        super().__init__(df)\\n'"
      ]
     },
     "execution_count": 3,
     "metadata": {},
     "output_type": "execute_result"
    }
   ],
   "source": [
    "\"\"\"\n",
    "class PredictiveAnalysis_Test(PredictiveAnalysis):\n",
    "    def __init__(self, df):\n",
    "        super().__init__(df)\n",
    "\"\"\""
   ]
  },
  {
   "cell_type": "code",
   "execution_count": 4,
   "metadata": {},
   "outputs": [],
   "source": [
    "PA = PredictiveAnalysis(df)\n",
    "PA.create_data(['CSENT', 'IPM', 'HOUSE', 'UNEMP', 'LRIR'], 'SP500', ma=[1,2,3,4,5,6], fp=[1,2,3,4,5,6], poly_d=1)"
   ]
  },
  {
   "cell_type": "code",
   "execution_count": 12,
   "metadata": {},
   "outputs": [
    {
     "name": "stdout",
     "output_type": "stream",
     "text": [
      "[[ 1.         -1.07697478  1.02863002 -0.24524403 -1.02032316 -1.34994328]\n",
      " [ 1.         -0.97845534  1.01416757 -0.38013943 -1.02032316 -1.45430278]\n",
      " [ 1.         -1.0341884   0.75256061 -0.14415995 -1.09159136 -1.58686461]\n",
      " [ 1.         -1.41733832  0.09848356 -0.56953973 -1.09159136 -1.58482934]\n",
      " [ 1.         -1.3354736   0.2743895  -0.63791022 -1.23412778 -1.72623957]]\n",
      "[[10.61580626]\n",
      " [13.87736507]\n",
      " [ 5.09139751]\n",
      " [ 1.89222954]\n",
      " [ 7.7253271 ]]\n",
      "[[1]\n",
      " [1]\n",
      " [1]\n",
      " [1]\n",
      " [1]]\n"
     ]
    }
   ],
   "source": [
    "# check the format of each X and y matrix\n",
    "print(PA.datasets['1MA_1FP']['X'][:5])\n",
    "print(PA.datasets['1MA_1FP']['y'][:5])\n",
    "print(PA.datasets['1MA_1FP']['y_cat'][:5])"
   ]
  },
  {
   "cell_type": "markdown",
   "metadata": {},
   "source": [
    "# Model Creation & Evaluation\n",
    "\n",
    "- Four machine learning models\n",
    "    1. Multiple Linear Regression\n",
    "    3. Logistic Regression\n",
    "    4. Classification and Regression Tree\n",
    "\n",
    "<br>\n",
    "\n",
    "- Evaluations\n",
    "    - Regressions:\n",
    "        - <b>Root Mean Square Error (RMSE)</b>: How much errors could occur between the predicted prices and the actual ones.\n",
    "        - <b>Standard Error of Estimate (SE)</b>: How much variation could occur in the actual target based on the same condition of independent variables. \n",
    "        - <b>Coffeficient of Determination (R2)</b>: How well the regression model explains the variation of a target value.\n",
    "        - <b>Adjusted R2</b>: R2 with the penalty for the number of independent variables.\n",
    "        <br><br>\n",
    "        \n",
    "    - Classification\n",
    "        - <b>Accuracy</b>: How the model can correctly predict the target values.\n",
    "        - <b>Precision</b>: How the model can avoid false positives.\n",
    "        - <b>Recall</b>: How the model can avoid false negatives.\n",
    "        - <b>F1 Score</b>: How the model can balance precision and recall.\n",
    "        - <b>ROC (Receiver Operating Characteristic)</b>: How the model can trade off between true positives and false positives.\n",
    "        - <b>AUC (Area Under the ROC Curve)</b>: How the model can summarize the ROC curve."
   ]
  },
  {
   "cell_type": "markdown",
   "metadata": {},
   "source": [
    "### Multiple linear Regression\n",
    "- Applying different scopes for parameter adjustments; [1,2,3,4,5,6]\n",
    "- Feature selection by backward elimination for whole models."
   ]
  },
  {
   "cell_type": "code",
   "execution_count": 9,
   "metadata": {},
   "outputs": [
    {
     "data": {
      "application/vnd.plotly.v1+json": {
       "config": {
        "plotlyServerURL": "https://plot.ly"
       },
       "data": [
        {
         "error_y": {
          "array": [
           0.04177960511099066,
           0.26666916450286315,
           0.3457946621511496,
           0.38815276286956824,
           0.4145848730926227,
           0.39233005410907307
          ],
          "arrayminus": [
           0.12040469464317649,
           0.6860741637343439,
           0.4761271571037744,
           0.404877506806403,
           0.29893647579554194,
           0.21005784456917365
          ]
         },
         "hovertemplate": "SC=1<br>MA=%{x}<br>RMSE_mean=%{y}<extra></extra>",
         "legendgroup": "1",
         "marker": {
          "color": "#636efa",
          "symbol": "circle"
         },
         "mode": "markers",
         "name": "1",
         "orientation": "v",
         "showlegend": true,
         "type": "scatter",
         "x": [
          1,
          2,
          3,
          4,
          5,
          6
         ],
         "xaxis": "x",
         "y": [
          7.690272936396407,
          6.378161551744127,
          5.703326991079184,
          5.26631517131526,
          4.921881871751112,
          4.6203547796193565
         ],
         "yaxis": "y"
        },
        {
         "error_y": {
          "array": [
           0.31949239167845356,
           0.8325117640325317,
           1.00160349600986,
           1.119263816975609,
           1.1523678336395946,
           1.0275206849321457
          ],
          "arrayminus": [
           0.6546591745527923,
           1.6674508930252614,
           1.4261947768922845,
           1.0563791144202526,
           0.818823608259776,
           0.5441429921630832
          ]
         },
         "hovertemplate": "SC=6<br>MA=%{x}<br>RMSE_mean=%{y}<extra></extra>",
         "legendgroup": "6",
         "marker": {
          "color": "#EF553B",
          "symbol": "circle"
         },
         "mode": "markers",
         "name": "6",
         "orientation": "v",
         "showlegend": true,
         "type": "scatter",
         "x": [
          1,
          2,
          3,
          4,
          5,
          6
         ],
         "xaxis": "x",
         "y": [
          10.96162706309268,
          9.895239634125653,
          9.209297963228286,
          8.602354946911676,
          8.067020249076494,
          7.583555025966873
         ],
         "yaxis": "y"
        },
        {
         "error_y": {
          "array": [
           0.43324531266508615,
           0.995681743772419,
           1.2041141561756135,
           1.3247638915372786,
           1.2880749687645618,
           1.0909257405957469
          ],
          "arrayminus": [
           0.9201639408684361,
           1.8318366489877533,
           1.5040693326999648,
           1.0827215103553467,
           0.828726383684856,
           0.5445462088860129
          ]
         },
         "hovertemplate": "SC=12<br>MA=%{x}<br>RMSE_mean=%{y}<extra></extra>",
         "legendgroup": "12",
         "marker": {
          "color": "#00cc96",
          "symbol": "circle"
         },
         "mode": "markers",
         "name": "12",
         "orientation": "v",
         "showlegend": true,
         "type": "scatter",
         "x": [
          1,
          2,
          3,
          4,
          5,
          6
         ],
         "xaxis": "x",
         "y": [
          12.89089438870124,
          11.774684958204759,
          11.122070216464657,
          10.536571730246143,
          10.015076007666464,
          9.54606387751671
         ],
         "yaxis": "y"
        },
        {
         "error_y": {
          "array": [
           0.04243275525111745,
           0.2689274627942728,
           0.3485049260834341,
           0.39127820966496785,
           0.4179021247359911,
           0.3954776070766908
          ],
          "arrayminus": [
           0.12162733160211481,
           0.6913975192633854,
           0.4798924394690056,
           0.40801949031102414,
           0.3012914700300229,
           0.21166825408878776
          ]
         },
         "hovertemplate": "SC=1<br>MA=%{x}<br>SE_mean=%{y}<extra></extra>",
         "legendgroup": "1",
         "marker": {
          "color": "#636efa",
          "symbol": "circle"
         },
         "mode": "markers",
         "name": "1",
         "orientation": "v",
         "showlegend": false,
         "type": "scatter",
         "x": [
          1,
          2,
          3,
          4,
          5,
          6
         ],
         "xaxis": "x2",
         "y": [
          7.746683678800831,
          6.425185738668266,
          5.745481037642196,
          5.305335410303836,
          4.958439147784331,
          4.65475595240677
         ],
         "yaxis": "y2"
        },
        {
         "error_y": {
          "array": [
           0.3217291223172509,
           0.8389138757418415,
           1.0092546708699608,
           1.1279737657936213,
           1.161327781234295,
           1.0355525037601092
          ],
          "arrayminus": [
           0.6599261890115002,
           1.6801390583505285,
           1.4371150198635547,
           1.0645754922258632,
           0.8251268287382247,
           0.548405551797603
          ]
         },
         "hovertemplate": "SC=6<br>MA=%{x}<br>SE_mean=%{y}<extra></extra>",
         "legendgroup": "6",
         "marker": {
          "color": "#EF553B",
          "symbol": "circle"
         },
         "mode": "markers",
         "name": "6",
         "orientation": "v",
         "showlegend": false,
         "type": "scatter",
         "x": [
          1,
          2,
          3,
          4,
          5,
          6
         ],
         "xaxis": "x2",
         "y": [
          11.042037001112263,
          9.968205445885138,
          9.277377626622942,
          8.66610527101472,
          8.126948343484614,
          7.640026548372087
         ],
         "yaxis": "y2"
        },
        {
         "error_y": {
          "array": [
           0.43653150110816696,
           1.0033369262211735,
           1.2135423284950644,
           1.3350920606982708,
           1.2981378301768398,
           1.0995234845118986
          ],
          "arrayminus": [
           0.9274581858275734,
           1.8458190698210668,
           1.515651933347618,
           1.0912021980463518,
           0.8351575598797165,
           0.5488661598650548
          ]
         },
         "hovertemplate": "SC=12<br>MA=%{x}<br>SE_mean=%{y}<extra></extra>",
         "legendgroup": "12",
         "marker": {
          "color": "#00cc96",
          "symbol": "circle"
         },
         "mode": "markers",
         "name": "12",
         "orientation": "v",
         "showlegend": false,
         "type": "scatter",
         "x": [
          1,
          2,
          3,
          4,
          5,
          6
         ],
         "xaxis": "x2",
         "y": [
          12.98546121399019,
          11.861509732407962,
          11.20428779945621,
          10.614652254867234,
          10.089471239594284,
          9.617145071989455
         ],
         "yaxis": "y2"
        },
        {
         "error_y": {
          "array": [
           0.006200141126988856,
           0.034105725577653345,
           0.022269052405689327,
           0.0184133615502885,
           0.013302729076123954,
           0.009215762919170811
          ],
          "arrayminus": [
           0.002889852707576579,
           0.013318502749849248,
           0.016567519163607325,
           0.018196535976034545,
           0.01903195513445055,
           0.01761625106129372
          ]
         },
         "hovertemplate": "SC=1<br>MA=%{x}<br>R2_mean=%{y}<extra></extra>",
         "legendgroup": "1",
         "marker": {
          "color": "#636efa",
          "symbol": "circle"
         },
         "mode": "markers",
         "name": "1",
         "orientation": "v",
         "showlegend": false,
         "type": "scatter",
         "x": [
          1,
          2,
          3,
          4,
          5,
          6
         ],
         "xaxis": "x3",
         "y": [
          0.7646327027894116,
          0.8311727797035037,
          0.8603958972195117,
          0.8771678353314657,
          0.8893274090344683,
          0.8993803352753177
         ],
         "yaxis": "y3"
        },
        {
         "error_y": {
          "array": [
           0.05371958095151863,
           0.1270846302681068,
           0.10641906846855897,
           0.07796026012072799,
           0.05965201626680905,
           0.039095023192290634
          ],
          "arrayminus": [
           0.02804593415999046,
           0.06660554664707441,
           0.0784334094189133,
           0.08682059778629714,
           0.0881160253182024,
           0.07682304377423976
          ]
         },
         "hovertemplate": "SC=6<br>MA=%{x}<br>R2_mean=%{y}<extra></extra>",
         "legendgroup": "6",
         "marker": {
          "color": "#EF553B",
          "symbol": "circle"
         },
         "mode": "markers",
         "name": "6",
         "orientation": "v",
         "showlegend": false,
         "type": "scatter",
         "x": [
          1,
          2,
          3,
          4,
          5,
          6
         ],
         "xaxis": "x3",
         "y": [
          0.5214285037374906,
          0.5914272702339248,
          0.6334481205409722,
          0.6699500762760572,
          0.7009905276013443,
          0.7279049948143951
         ],
         "yaxis": "y3"
        },
        {
         "error_y": {
          "array": [
           0.08894185096904067,
           0.16710990695436428,
           0.1365079331025123,
           0.09849370574521199,
           0.07523588586239915,
           0.04928366880872481
          ],
          "arrayminus": [
           0.04355419572054281,
           0.09517828091757813,
           0.11498184407729561,
           0.12658407706098262,
           0.1221825103085965,
           0.10213530206855148
          ]
         },
         "hovertemplate": "SC=12<br>MA=%{x}<br>R2_mean=%{y}<extra></extra>",
         "legendgroup": "12",
         "marker": {
          "color": "#00cc96",
          "symbol": "circle"
         },
         "mode": "markers",
         "name": "12",
         "orientation": "v",
         "showlegend": false,
         "type": "scatter",
         "x": [
          1,
          2,
          3,
          4,
          5,
          6
         ],
         "xaxis": "x3",
         "y": [
          0.3379757928892133,
          0.42182045353204306,
          0.4662463871424485,
          0.5060134684900596,
          0.540284810467874,
          0.5697254409526412
         ],
         "yaxis": "y3"
        },
        {
         "error_y": {
          "array": [
           0.006293492747958651,
           0.03453725843575617,
           0.022554048250994385,
           0.01864706944358796,
           0.01347306465334408,
           0.009332368032872629
          ],
          "arrayminus": [
           0.0029144587653072707,
           0.013495843676328279,
           0.016778673958470436,
           0.0184321696581371,
           0.019277853835343972,
           0.01784443457729934
          ]
         },
         "hovertemplate": "SC=1<br>MA=%{x}<br>Adj-R2_mean=%{y}<extra></extra>",
         "legendgroup": "1",
         "marker": {
          "color": "#636efa",
          "symbol": "circle"
         },
         "mode": "markers",
         "name": "1",
         "orientation": "v",
         "showlegend": false,
         "type": "scatter",
         "x": [
          1,
          2,
          3,
          4,
          5,
          6
         ],
         "xaxis": "x4",
         "y": [
          0.7617446297527883,
          0.8290902481356112,
          0.8586694388388897,
          0.875645006412015,
          0.8879520009091117,
          0.8981268657112985
         ],
         "yaxis": "y4"
        },
        {
         "error_y": {
          "array": [
           0.054411149367827316,
           0.12867636477299593,
           0.1077580179806692,
           0.0789490678032766,
           0.060406966419068175,
           0.03959476817846652
          ],
          "arrayminus": [
           0.0283817917667073,
           0.06744512234224898,
           0.07941963441933997,
           0.08792512439819322,
           0.08923779913329699,
           0.07780488678148056
          ]
         },
         "hovertemplate": "SC=6<br>MA=%{x}<br>Adj-R2_mean=%{y}<extra></extra>",
         "legendgroup": "6",
         "marker": {
          "color": "#EF553B",
          "symbol": "circle"
         },
         "mode": "markers",
         "name": "6",
         "orientation": "v",
         "showlegend": false,
         "type": "scatter",
         "x": [
          1,
          2,
          3,
          4,
          5,
          6
         ],
         "xaxis": "x4",
         "y": [
          0.5155558144027553,
          0.5863859266665605,
          0.6289134362501093,
          0.6658567160860799,
          0.6972732326949781,
          0.7245144311930666
         ],
         "yaxis": "y4"
        },
        {
         "error_y": {
          "array": [
           0.09007771205030363,
           0.16920648140968336,
           0.13823062832105415,
           0.09973704525907823,
           0.07619198027224927,
           0.049917702703575983
          ],
          "arrayminus": [
           0.04409756476486121,
           0.09637772480850876,
           0.1164478297696464,
           0.12819589820533417,
           0.12374172992312027,
           0.10344613682250903
          ]
         },
         "hovertemplate": "SC=12<br>MA=%{x}<br>Adj-R2_mean=%{y}<extra></extra>",
         "legendgroup": "12",
         "marker": {
          "color": "#00cc96",
          "symbol": "circle"
         },
         "mode": "markers",
         "name": "12",
         "orientation": "v",
         "showlegend": false,
         "type": "scatter",
         "x": [
          1,
          2,
          3,
          4,
          5,
          6
         ],
         "xaxis": "x4",
         "y": [
          0.3298511225867096,
          0.41468626094543,
          0.45964352386794793,
          0.4998875014976165,
          0.5345703088343888,
          0.5643644729357228
         ],
         "yaxis": "y4"
        }
       ],
       "layout": {
        "annotations": [
         {
          "font": {
           "color": "grey",
           "size": 11
          },
          "showarrow": false,
          "text": "RMSE",
          "x": 0.2375,
          "xanchor": "center",
          "xref": "paper",
          "y": 1,
          "yanchor": "bottom",
          "yref": "paper"
         },
         {
          "font": {
           "color": "grey",
           "size": 11
          },
          "showarrow": false,
          "text": "SE",
          "x": 0.7625,
          "xanchor": "center",
          "xref": "paper",
          "y": 1,
          "yanchor": "bottom",
          "yref": "paper"
         },
         {
          "font": {
           "color": "grey",
           "size": 11
          },
          "showarrow": false,
          "text": "R2",
          "x": 0.2375,
          "xanchor": "center",
          "xref": "paper",
          "y": 0.475,
          "yanchor": "bottom",
          "yref": "paper"
         },
         {
          "font": {
           "color": "grey",
           "size": 11
          },
          "showarrow": false,
          "text": "Adj-R2",
          "x": 0.7625,
          "xanchor": "center",
          "xref": "paper",
          "y": 0.475,
          "yanchor": "bottom",
          "yref": "paper"
         }
        ],
        "height": 500,
        "legend": {
         "title": {
          "font": {
           "color": "lightgrey"
          },
          "text": "Scopes"
         }
        },
        "margin": {
         "l": 40,
         "r": 40,
         "t": 100
        },
        "template": {
         "data": {
          "bar": [
           {
            "error_x": {
             "color": "#f2f5fa"
            },
            "error_y": {
             "color": "#f2f5fa"
            },
            "marker": {
             "line": {
              "color": "rgb(17,17,17)",
              "width": 0.5
             },
             "pattern": {
              "fillmode": "overlay",
              "size": 10,
              "solidity": 0.2
             }
            },
            "type": "bar"
           }
          ],
          "barpolar": [
           {
            "marker": {
             "line": {
              "color": "rgb(17,17,17)",
              "width": 0.5
             },
             "pattern": {
              "fillmode": "overlay",
              "size": 10,
              "solidity": 0.2
             }
            },
            "type": "barpolar"
           }
          ],
          "carpet": [
           {
            "aaxis": {
             "endlinecolor": "#A2B1C6",
             "gridcolor": "#506784",
             "linecolor": "#506784",
             "minorgridcolor": "#506784",
             "startlinecolor": "#A2B1C6"
            },
            "baxis": {
             "endlinecolor": "#A2B1C6",
             "gridcolor": "#506784",
             "linecolor": "#506784",
             "minorgridcolor": "#506784",
             "startlinecolor": "#A2B1C6"
            },
            "type": "carpet"
           }
          ],
          "choropleth": [
           {
            "colorbar": {
             "outlinewidth": 0,
             "ticks": ""
            },
            "type": "choropleth"
           }
          ],
          "contour": [
           {
            "colorbar": {
             "outlinewidth": 0,
             "ticks": ""
            },
            "colorscale": [
             [
              0,
              "#0d0887"
             ],
             [
              0.1111111111111111,
              "#46039f"
             ],
             [
              0.2222222222222222,
              "#7201a8"
             ],
             [
              0.3333333333333333,
              "#9c179e"
             ],
             [
              0.4444444444444444,
              "#bd3786"
             ],
             [
              0.5555555555555556,
              "#d8576b"
             ],
             [
              0.6666666666666666,
              "#ed7953"
             ],
             [
              0.7777777777777778,
              "#fb9f3a"
             ],
             [
              0.8888888888888888,
              "#fdca26"
             ],
             [
              1,
              "#f0f921"
             ]
            ],
            "type": "contour"
           }
          ],
          "contourcarpet": [
           {
            "colorbar": {
             "outlinewidth": 0,
             "ticks": ""
            },
            "type": "contourcarpet"
           }
          ],
          "heatmap": [
           {
            "colorbar": {
             "outlinewidth": 0,
             "ticks": ""
            },
            "colorscale": [
             [
              0,
              "#0d0887"
             ],
             [
              0.1111111111111111,
              "#46039f"
             ],
             [
              0.2222222222222222,
              "#7201a8"
             ],
             [
              0.3333333333333333,
              "#9c179e"
             ],
             [
              0.4444444444444444,
              "#bd3786"
             ],
             [
              0.5555555555555556,
              "#d8576b"
             ],
             [
              0.6666666666666666,
              "#ed7953"
             ],
             [
              0.7777777777777778,
              "#fb9f3a"
             ],
             [
              0.8888888888888888,
              "#fdca26"
             ],
             [
              1,
              "#f0f921"
             ]
            ],
            "type": "heatmap"
           }
          ],
          "heatmapgl": [
           {
            "colorbar": {
             "outlinewidth": 0,
             "ticks": ""
            },
            "colorscale": [
             [
              0,
              "#0d0887"
             ],
             [
              0.1111111111111111,
              "#46039f"
             ],
             [
              0.2222222222222222,
              "#7201a8"
             ],
             [
              0.3333333333333333,
              "#9c179e"
             ],
             [
              0.4444444444444444,
              "#bd3786"
             ],
             [
              0.5555555555555556,
              "#d8576b"
             ],
             [
              0.6666666666666666,
              "#ed7953"
             ],
             [
              0.7777777777777778,
              "#fb9f3a"
             ],
             [
              0.8888888888888888,
              "#fdca26"
             ],
             [
              1,
              "#f0f921"
             ]
            ],
            "type": "heatmapgl"
           }
          ],
          "histogram": [
           {
            "marker": {
             "pattern": {
              "fillmode": "overlay",
              "size": 10,
              "solidity": 0.2
             }
            },
            "type": "histogram"
           }
          ],
          "histogram2d": [
           {
            "colorbar": {
             "outlinewidth": 0,
             "ticks": ""
            },
            "colorscale": [
             [
              0,
              "#0d0887"
             ],
             [
              0.1111111111111111,
              "#46039f"
             ],
             [
              0.2222222222222222,
              "#7201a8"
             ],
             [
              0.3333333333333333,
              "#9c179e"
             ],
             [
              0.4444444444444444,
              "#bd3786"
             ],
             [
              0.5555555555555556,
              "#d8576b"
             ],
             [
              0.6666666666666666,
              "#ed7953"
             ],
             [
              0.7777777777777778,
              "#fb9f3a"
             ],
             [
              0.8888888888888888,
              "#fdca26"
             ],
             [
              1,
              "#f0f921"
             ]
            ],
            "type": "histogram2d"
           }
          ],
          "histogram2dcontour": [
           {
            "colorbar": {
             "outlinewidth": 0,
             "ticks": ""
            },
            "colorscale": [
             [
              0,
              "#0d0887"
             ],
             [
              0.1111111111111111,
              "#46039f"
             ],
             [
              0.2222222222222222,
              "#7201a8"
             ],
             [
              0.3333333333333333,
              "#9c179e"
             ],
             [
              0.4444444444444444,
              "#bd3786"
             ],
             [
              0.5555555555555556,
              "#d8576b"
             ],
             [
              0.6666666666666666,
              "#ed7953"
             ],
             [
              0.7777777777777778,
              "#fb9f3a"
             ],
             [
              0.8888888888888888,
              "#fdca26"
             ],
             [
              1,
              "#f0f921"
             ]
            ],
            "type": "histogram2dcontour"
           }
          ],
          "mesh3d": [
           {
            "colorbar": {
             "outlinewidth": 0,
             "ticks": ""
            },
            "type": "mesh3d"
           }
          ],
          "parcoords": [
           {
            "line": {
             "colorbar": {
              "outlinewidth": 0,
              "ticks": ""
             }
            },
            "type": "parcoords"
           }
          ],
          "pie": [
           {
            "automargin": true,
            "type": "pie"
           }
          ],
          "scatter": [
           {
            "marker": {
             "line": {
              "color": "#283442"
             }
            },
            "type": "scatter"
           }
          ],
          "scatter3d": [
           {
            "line": {
             "colorbar": {
              "outlinewidth": 0,
              "ticks": ""
             }
            },
            "marker": {
             "colorbar": {
              "outlinewidth": 0,
              "ticks": ""
             }
            },
            "type": "scatter3d"
           }
          ],
          "scattercarpet": [
           {
            "marker": {
             "colorbar": {
              "outlinewidth": 0,
              "ticks": ""
             }
            },
            "type": "scattercarpet"
           }
          ],
          "scattergeo": [
           {
            "marker": {
             "colorbar": {
              "outlinewidth": 0,
              "ticks": ""
             }
            },
            "type": "scattergeo"
           }
          ],
          "scattergl": [
           {
            "marker": {
             "line": {
              "color": "#283442"
             }
            },
            "type": "scattergl"
           }
          ],
          "scattermapbox": [
           {
            "marker": {
             "colorbar": {
              "outlinewidth": 0,
              "ticks": ""
             }
            },
            "type": "scattermapbox"
           }
          ],
          "scatterpolar": [
           {
            "marker": {
             "colorbar": {
              "outlinewidth": 0,
              "ticks": ""
             }
            },
            "type": "scatterpolar"
           }
          ],
          "scatterpolargl": [
           {
            "marker": {
             "colorbar": {
              "outlinewidth": 0,
              "ticks": ""
             }
            },
            "type": "scatterpolargl"
           }
          ],
          "scatterternary": [
           {
            "marker": {
             "colorbar": {
              "outlinewidth": 0,
              "ticks": ""
             }
            },
            "type": "scatterternary"
           }
          ],
          "surface": [
           {
            "colorbar": {
             "outlinewidth": 0,
             "ticks": ""
            },
            "colorscale": [
             [
              0,
              "#0d0887"
             ],
             [
              0.1111111111111111,
              "#46039f"
             ],
             [
              0.2222222222222222,
              "#7201a8"
             ],
             [
              0.3333333333333333,
              "#9c179e"
             ],
             [
              0.4444444444444444,
              "#bd3786"
             ],
             [
              0.5555555555555556,
              "#d8576b"
             ],
             [
              0.6666666666666666,
              "#ed7953"
             ],
             [
              0.7777777777777778,
              "#fb9f3a"
             ],
             [
              0.8888888888888888,
              "#fdca26"
             ],
             [
              1,
              "#f0f921"
             ]
            ],
            "type": "surface"
           }
          ],
          "table": [
           {
            "cells": {
             "fill": {
              "color": "#506784"
             },
             "line": {
              "color": "rgb(17,17,17)"
             }
            },
            "header": {
             "fill": {
              "color": "#2a3f5f"
             },
             "line": {
              "color": "rgb(17,17,17)"
             }
            },
            "type": "table"
           }
          ]
         },
         "layout": {
          "annotationdefaults": {
           "arrowcolor": "#f2f5fa",
           "arrowhead": 0,
           "arrowwidth": 1
          },
          "autotypenumbers": "strict",
          "coloraxis": {
           "colorbar": {
            "outlinewidth": 0,
            "ticks": ""
           }
          },
          "colorscale": {
           "diverging": [
            [
             0,
             "#8e0152"
            ],
            [
             0.1,
             "#c51b7d"
            ],
            [
             0.2,
             "#de77ae"
            ],
            [
             0.3,
             "#f1b6da"
            ],
            [
             0.4,
             "#fde0ef"
            ],
            [
             0.5,
             "#f7f7f7"
            ],
            [
             0.6,
             "#e6f5d0"
            ],
            [
             0.7,
             "#b8e186"
            ],
            [
             0.8,
             "#7fbc41"
            ],
            [
             0.9,
             "#4d9221"
            ],
            [
             1,
             "#276419"
            ]
           ],
           "sequential": [
            [
             0,
             "#0d0887"
            ],
            [
             0.1111111111111111,
             "#46039f"
            ],
            [
             0.2222222222222222,
             "#7201a8"
            ],
            [
             0.3333333333333333,
             "#9c179e"
            ],
            [
             0.4444444444444444,
             "#bd3786"
            ],
            [
             0.5555555555555556,
             "#d8576b"
            ],
            [
             0.6666666666666666,
             "#ed7953"
            ],
            [
             0.7777777777777778,
             "#fb9f3a"
            ],
            [
             0.8888888888888888,
             "#fdca26"
            ],
            [
             1,
             "#f0f921"
            ]
           ],
           "sequentialminus": [
            [
             0,
             "#0d0887"
            ],
            [
             0.1111111111111111,
             "#46039f"
            ],
            [
             0.2222222222222222,
             "#7201a8"
            ],
            [
             0.3333333333333333,
             "#9c179e"
            ],
            [
             0.4444444444444444,
             "#bd3786"
            ],
            [
             0.5555555555555556,
             "#d8576b"
            ],
            [
             0.6666666666666666,
             "#ed7953"
            ],
            [
             0.7777777777777778,
             "#fb9f3a"
            ],
            [
             0.8888888888888888,
             "#fdca26"
            ],
            [
             1,
             "#f0f921"
            ]
           ]
          },
          "colorway": [
           "#636efa",
           "#EF553B",
           "#00cc96",
           "#ab63fa",
           "#FFA15A",
           "#19d3f3",
           "#FF6692",
           "#B6E880",
           "#FF97FF",
           "#FECB52"
          ],
          "font": {
           "color": "#f2f5fa"
          },
          "geo": {
           "bgcolor": "rgb(17,17,17)",
           "lakecolor": "rgb(17,17,17)",
           "landcolor": "rgb(17,17,17)",
           "showlakes": true,
           "showland": true,
           "subunitcolor": "#506784"
          },
          "hoverlabel": {
           "align": "left"
          },
          "hovermode": "closest",
          "mapbox": {
           "style": "dark"
          },
          "paper_bgcolor": "rgb(17,17,17)",
          "plot_bgcolor": "rgb(17,17,17)",
          "polar": {
           "angularaxis": {
            "gridcolor": "#506784",
            "linecolor": "#506784",
            "ticks": ""
           },
           "bgcolor": "rgb(17,17,17)",
           "radialaxis": {
            "gridcolor": "#506784",
            "linecolor": "#506784",
            "ticks": ""
           }
          },
          "scene": {
           "xaxis": {
            "backgroundcolor": "rgb(17,17,17)",
            "gridcolor": "#506784",
            "gridwidth": 2,
            "linecolor": "#506784",
            "showbackground": true,
            "ticks": "",
            "zerolinecolor": "#C8D4E3"
           },
           "yaxis": {
            "backgroundcolor": "rgb(17,17,17)",
            "gridcolor": "#506784",
            "gridwidth": 2,
            "linecolor": "#506784",
            "showbackground": true,
            "ticks": "",
            "zerolinecolor": "#C8D4E3"
           },
           "zaxis": {
            "backgroundcolor": "rgb(17,17,17)",
            "gridcolor": "#506784",
            "gridwidth": 2,
            "linecolor": "#506784",
            "showbackground": true,
            "ticks": "",
            "zerolinecolor": "#C8D4E3"
           }
          },
          "shapedefaults": {
           "line": {
            "color": "#f2f5fa"
           }
          },
          "sliderdefaults": {
           "bgcolor": "#C8D4E3",
           "bordercolor": "rgb(17,17,17)",
           "borderwidth": 1,
           "tickwidth": 0
          },
          "ternary": {
           "aaxis": {
            "gridcolor": "#506784",
            "linecolor": "#506784",
            "ticks": ""
           },
           "baxis": {
            "gridcolor": "#506784",
            "linecolor": "#506784",
            "ticks": ""
           },
           "bgcolor": "rgb(17,17,17)",
           "caxis": {
            "gridcolor": "#506784",
            "linecolor": "#506784",
            "ticks": ""
           }
          },
          "title": {
           "x": 0.05
          },
          "updatemenudefaults": {
           "bgcolor": "#506784",
           "borderwidth": 0
          },
          "xaxis": {
           "automargin": true,
           "gridcolor": "#283442",
           "linecolor": "#506784",
           "ticks": "",
           "title": {
            "standoff": 15
           },
           "zerolinecolor": "#283442",
           "zerolinewidth": 2
          },
          "yaxis": {
           "automargin": true,
           "gridcolor": "#283442",
           "linecolor": "#506784",
           "ticks": "",
           "title": {
            "standoff": 15
           },
           "zerolinecolor": "#283442",
           "zerolinewidth": 2
          }
         }
        },
        "title": {
         "text": "Comparing the ['LinR'] Model Results on Different Conditions<br><span style=\"font-size: 12.5px; color: lightgrey;\"> -- Scopes: how many month of the latest data is used for parameter adjustments.</span><br><span style=\"font-size: 12.5px; color: lightgrey;\"> -- Error Bars: Showing mean, min and max of each measures among various future predictions.</span>",
         "y": 0.95,
         "yanchor": "top"
        },
        "width": 800,
        "xaxis": {
         "anchor": "y",
         "domain": [
          0,
          0.475
         ],
         "matches": "x3",
         "showticklabels": false
        },
        "xaxis2": {
         "anchor": "y2",
         "domain": [
          0.525,
          1
         ],
         "matches": "x4",
         "showticklabels": false
        },
        "xaxis3": {
         "anchor": "y3",
         "domain": [
          0,
          0.475
         ],
         "title": {
          "text": "Moving Averages"
         }
        },
        "xaxis4": {
         "anchor": "y4",
         "domain": [
          0.525,
          1
         ],
         "title": {
          "text": "Moving Averages"
         }
        },
        "yaxis": {
         "anchor": "x",
         "domain": [
          0.525,
          1
         ]
        },
        "yaxis2": {
         "anchor": "x2",
         "domain": [
          0.525,
          1
         ],
         "matches": "y",
         "showticklabels": false
        },
        "yaxis3": {
         "anchor": "x3",
         "domain": [
          0,
          0.475
         ]
        },
        "yaxis4": {
         "anchor": "x4",
         "domain": [
          0,
          0.475
         ],
         "matches": "y3",
         "showticklabels": false
        }
       }
      }
     },
     "metadata": {},
     "output_type": "display_data"
    },
    {
     "data": {
      "application/vnd.plotly.v1+json": {
       "config": {
        "plotlyServerURL": "https://plot.ly"
       },
       "data": [
        {
         "alignmentgroup": "True",
         "boxpoints": "all",
         "fillcolor": "rgba(255,255,255,0)",
         "hoveron": "points",
         "hovertemplate": "sc=1<br>theta=%{x}<br>diff=%{y}<extra></extra>",
         "legendgroup": "1",
         "line": {
          "color": "rgba(255,255,255,0)"
         },
         "marker": {
          "color": "#636efa",
          "opacity": 0.5,
          "size": 5
         },
         "name": "1",
         "offsetgroup": "1",
         "orientation": "v",
         "pointpos": 0,
         "showlegend": true,
         "type": "box",
         "x": [
          "CSENT",
          "IPM",
          "HOUSE",
          "UNEMP",
          "LRIR",
          "CSENT",
          "IPM",
          "HOUSE",
          "UNEMP",
          "LRIR",
          "CSENT",
          "IPM",
          "HOUSE",
          "UNEMP",
          "LRIR",
          "CSENT",
          "IPM",
          "HOUSE",
          "UNEMP",
          "LRIR",
          "CSENT",
          "IPM",
          "HOUSE",
          "UNEMP",
          "LRIR",
          "CSENT",
          "IPM",
          "HOUSE",
          "UNEMP",
          "LRIR",
          "CSENT",
          "IPM",
          "HOUSE",
          "UNEMP",
          "LRIR",
          "CSENT",
          "IPM",
          "HOUSE",
          "UNEMP",
          "LRIR",
          "CSENT",
          "IPM",
          "HOUSE",
          "UNEMP",
          "LRIR",
          "CSENT",
          "IPM",
          "HOUSE",
          "UNEMP",
          "LRIR",
          "CSENT",
          "IPM",
          "HOUSE",
          "UNEMP",
          "LRIR",
          "CSENT",
          "IPM",
          "HOUSE",
          "UNEMP",
          "LRIR",
          "CSENT",
          "IPM",
          "HOUSE",
          "UNEMP",
          "LRIR",
          "CSENT",
          "IPM",
          "HOUSE",
          "UNEMP",
          "LRIR",
          "CSENT",
          "IPM",
          "HOUSE",
          "UNEMP",
          "LRIR",
          "CSENT",
          "IPM",
          "HOUSE",
          "UNEMP",
          "LRIR",
          "CSENT",
          "IPM",
          "HOUSE",
          "UNEMP",
          "LRIR",
          "CSENT",
          "IPM",
          "HOUSE",
          "UNEMP",
          "LRIR",
          "CSENT",
          "IPM",
          "HOUSE",
          "UNEMP",
          "LRIR",
          "CSENT",
          "IPM",
          "HOUSE",
          "UNEMP",
          "LRIR",
          "CSENT",
          "IPM",
          "HOUSE",
          "UNEMP",
          "LRIR",
          "CSENT",
          "IPM",
          "HOUSE",
          "UNEMP",
          "LRIR",
          "CSENT",
          "IPM",
          "HOUSE",
          "UNEMP",
          "LRIR",
          "CSENT",
          "IPM",
          "HOUSE",
          "UNEMP",
          "LRIR",
          "CSENT",
          "IPM",
          "HOUSE",
          "UNEMP",
          "LRIR",
          "CSENT",
          "IPM",
          "HOUSE",
          "UNEMP",
          "LRIR",
          "CSENT",
          "IPM",
          "HOUSE",
          "UNEMP",
          "LRIR",
          "CSENT",
          "IPM",
          "HOUSE",
          "UNEMP",
          "LRIR",
          "CSENT",
          "IPM",
          "HOUSE",
          "UNEMP",
          "LRIR",
          "CSENT",
          "IPM",
          "HOUSE",
          "UNEMP",
          "LRIR",
          "CSENT",
          "IPM",
          "HOUSE",
          "UNEMP",
          "LRIR",
          "CSENT",
          "IPM",
          "HOUSE",
          "UNEMP",
          "LRIR",
          "CSENT",
          "IPM",
          "HOUSE",
          "UNEMP",
          "LRIR",
          "CSENT",
          "IPM",
          "HOUSE",
          "UNEMP",
          "LRIR",
          "CSENT",
          "IPM",
          "HOUSE",
          "UNEMP",
          "LRIR",
          "CSENT",
          "IPM",
          "HOUSE",
          "UNEMP",
          "LRIR"
         ],
         "x0": " ",
         "xaxis": "x",
         "y": [
          -2.2177404144378743,
          -0.6374795109383538,
          -1.3737131231569633,
          -0.5295132252796124,
          -1.4373762074750314,
          -3.1174670744754067,
          -0.6149397561461312,
          -2.2206417257292355,
          -0.19766370943602762,
          -1.894041164971208,
          -3.1443952898567105,
          -0.7088622291996671,
          -1.8677462548636434,
          0.2612263932411869,
          -1.3447732945078688,
          -3.0515478852364115,
          -0.9825990364420543,
          -1.6750625965730706,
          0.3863028848870558,
          -1.2704119442510127,
          -3.5603831474123675,
          -1.4426980866197976,
          -1.39501475179594,
          0.49351109774953006,
          -1.596948282124531,
          -3.5971663944602295,
          -1.7633002036266054,
          -1.0653691712477436,
          0.4159638938805239,
          -1.4646336827887394,
          0.08938467694074603,
          -0.12884468712444086,
          -0.06059168742911769,
          0.7276020380001853,
          0.7900131040769516,
          -1.1674854271856283,
          -0.09391297392227482,
          0.15419986902833038,
          0.5134150550514027,
          -0.033767439295144364,
          -1.81409910105367,
          0.3101493394293282,
          -0.8779142987983573,
          0.6096321319026394,
          -0.7547352700574246,
          -2.3698767447854845,
          0.2822088979315307,
          -1.1521050736063483,
          0.9400336230830293,
          -0.7223212865700575,
          -2.2604829772304162,
          0.06993591663470689,
          -0.9022965779146386,
          1.2018170417421263,
          -0.4315075393320553,
          -2.5991520307598197,
          -0.31491168977260564,
          -0.6895867070542989,
          1.2819962310409485,
          -0.6146584245952607,
          0.36801387208349556,
          0.4361926455813778,
          -0.3688319014406165,
          0.7783786323331912,
          0.988626689547285,
          -0.24851606263399084,
          0.5459741208658908,
          0.39369348516506,
          1.0611386251919699,
          0.743129631973451,
          -1.1489991790820673,
          0.5759864970498523,
          0.10136784492278927,
          0.9833038504001523,
          0.08767187316446279,
          -1.6586644596813747,
          0.7859935366050648,
          -0.4427506039811959,
          1.205895531875309,
          -0.17585435653982007,
          -1.9427849621791005,
          0.6383194336608051,
          -0.5636857633068413,
          1.4532717471072045,
          -0.1546783296052423,
          -2.040050455864562,
          0.3703846517359164,
          -0.2758539150414947,
          1.672333733896175,
          -0.08044795039107822,
          0.11971031268949872,
          1.0382993689294366,
          -0.6943458168918806,
          0.7222893639159418,
          0.8582820725921998,
          0.04929595531506159,
          0.9106918009871423,
          0.15967432070393084,
          1.0556434597103141,
          0.9946729860718149,
          -0.5299013083728887,
          0.9540115629997423,
          0.3330343184907383,
          1.2462303140634052,
          0.6299669730113937,
          -1.2302954360335265,
          0.9258172324377902,
          0.20629714518480569,
          1.3115490901831324,
          0.33167105395060137,
          -1.528038020674197,
          0.9745418666686536,
          -0.11174885554313008,
          1.5055285771894305,
          0.14550977700407408,
          -1.811592196738815,
          0.7639480154197607,
          -0.09918047715489564,
          1.7527519420831057,
          0.09177111838938767,
          -0.11119860285460614,
          1.4196168892204515,
          -0.8721128525605883,
          0.7925853758078301,
          0.821937441688898,
          0.0005127506335496079,
          1.3940601909248382,
          -0.1723188141496692,
          0.9702724719140283,
          0.9672309138275947,
          -0.2250225892237605,
          1.2433820933584254,
          0.20449332118387797,
          1.197108640191498,
          0.9012673817614063,
          -0.7453880309799157,
          1.217071324241406,
          0.3937156313596537,
          1.4250015326115992,
          0.7317547938628417,
          -1.2490998108426816,
          1.0686958242494988,
          0.3464741112201306,
          1.5101260382035901,
          0.48619036662123793,
          -1.501054040853354,
          1.0562316375575937,
          0.1936586429878524,
          1.7409822301687177,
          0.3155587528005963,
          -0.3270736055469152,
          1.7632732408346428,
          -0.9143099362185336,
          0.9147157260039336,
          0.7544138198913846,
          -0.11961278983974477,
          1.716755730300755,
          -0.3599678687580372,
          1.018010291233752,
          0.9682145410949614,
          -0.16367035016706133,
          1.640364420576053,
          0.008753820991709738,
          1.1394656642741632,
          0.9479970548963159,
          -0.459289485301408,
          1.452547183920978,
          0.36043652727328546,
          1.3776333788708515,
          0.9702139693891016,
          -0.8957188138786227,
          1.2935689549997376,
          0.5291585602836513,
          1.5560590333440452,
          0.7784991856844625,
          -1.2460329558955507,
          1.1439234407188907,
          0.5896601818852432,
          1.7055793014381022,
          0.591251007032584
         ],
         "y0": " ",
         "yaxis": "y"
        },
        {
         "alignmentgroup": "True",
         "boxpoints": "all",
         "fillcolor": "rgba(255,255,255,0)",
         "hoveron": "points",
         "hovertemplate": "sc=1<br>theta=%{x}<br>diff=%{y}<extra></extra>",
         "legendgroup": "1",
         "line": {
          "color": "rgba(255,255,255,0)"
         },
         "marker": {
          "color": "#636efa",
          "opacity": 0.5,
          "size": 5
         },
         "name": "1",
         "offsetgroup": "1",
         "orientation": "v",
         "pointpos": 0,
         "showlegend": false,
         "type": "box",
         "x": [
          "CSENT",
          "IPM",
          "HOUSE",
          "UNEMP",
          "LRIR",
          "CSENT",
          "IPM",
          "HOUSE",
          "UNEMP",
          "LRIR",
          "CSENT",
          "IPM",
          "HOUSE",
          "UNEMP",
          "LRIR",
          "CSENT",
          "IPM",
          "HOUSE",
          "UNEMP",
          "LRIR",
          "CSENT",
          "IPM",
          "HOUSE",
          "UNEMP",
          "LRIR",
          "CSENT",
          "IPM",
          "HOUSE",
          "UNEMP",
          "LRIR",
          "CSENT",
          "IPM",
          "HOUSE",
          "UNEMP",
          "LRIR",
          "CSENT",
          "IPM",
          "HOUSE",
          "UNEMP",
          "LRIR",
          "CSENT",
          "IPM",
          "HOUSE",
          "UNEMP",
          "LRIR",
          "CSENT",
          "IPM",
          "HOUSE",
          "UNEMP",
          "LRIR",
          "CSENT",
          "IPM",
          "HOUSE",
          "UNEMP",
          "LRIR",
          "CSENT",
          "IPM",
          "HOUSE",
          "UNEMP",
          "LRIR",
          "CSENT",
          "IPM",
          "HOUSE",
          "UNEMP",
          "LRIR",
          "CSENT",
          "IPM",
          "HOUSE",
          "UNEMP",
          "LRIR",
          "CSENT",
          "IPM",
          "HOUSE",
          "UNEMP",
          "LRIR",
          "CSENT",
          "IPM",
          "HOUSE",
          "UNEMP",
          "LRIR",
          "CSENT",
          "IPM",
          "HOUSE",
          "UNEMP",
          "LRIR",
          "CSENT",
          "IPM",
          "HOUSE",
          "UNEMP",
          "LRIR",
          "CSENT",
          "IPM",
          "HOUSE",
          "UNEMP",
          "LRIR",
          "CSENT",
          "IPM",
          "HOUSE",
          "UNEMP",
          "LRIR",
          "CSENT",
          "IPM",
          "HOUSE",
          "UNEMP",
          "LRIR",
          "CSENT",
          "IPM",
          "HOUSE",
          "UNEMP",
          "LRIR",
          "CSENT",
          "IPM",
          "HOUSE",
          "UNEMP",
          "LRIR",
          "CSENT",
          "IPM",
          "HOUSE",
          "UNEMP",
          "LRIR",
          "CSENT",
          "IPM",
          "HOUSE",
          "UNEMP",
          "LRIR",
          "CSENT",
          "IPM",
          "HOUSE",
          "UNEMP",
          "LRIR",
          "CSENT",
          "IPM",
          "HOUSE",
          "UNEMP",
          "LRIR",
          "CSENT",
          "IPM",
          "HOUSE",
          "UNEMP",
          "LRIR",
          "CSENT",
          "IPM",
          "HOUSE",
          "UNEMP",
          "LRIR",
          "CSENT",
          "IPM",
          "HOUSE",
          "UNEMP",
          "LRIR",
          "CSENT",
          "IPM",
          "HOUSE",
          "UNEMP",
          "LRIR",
          "CSENT",
          "IPM",
          "HOUSE",
          "UNEMP",
          "LRIR",
          "CSENT",
          "IPM",
          "HOUSE",
          "UNEMP",
          "LRIR",
          "CSENT",
          "IPM",
          "HOUSE",
          "UNEMP",
          "LRIR",
          "CSENT",
          "IPM",
          "HOUSE",
          "UNEMP",
          "LRIR",
          "CSENT",
          "IPM",
          "HOUSE",
          "UNEMP",
          "LRIR"
         ],
         "x0": " ",
         "xaxis": "x2",
         "y": [
          0.11600595664975055,
          0.03742327591471484,
          0.07654988168121046,
          0.031316530295195766,
          0.0797270708471477,
          0.15533352787470167,
          0.036855340752231514,
          0.11869030886164478,
          0.012179724831421601,
          0.10373213432945416,
          0.15539553025581,
          0.04198885374690542,
          0.10191221904977721,
          -0.016494684831601658,
          0.07621054037213615,
          0.15144122989539566,
          0.05694302399028173,
          0.09240571179704293,
          -0.024514308631473414,
          0.072151154665553,
          0.1698626106992649,
          0.0811114460639153,
          0.07869799345792816,
          -0.03158742396189096,
          0.08879347801546944,
          0.17126716626405813,
          0.09692754769393463,
          0.0615459355592205,
          -0.02650225971123965,
          0.0822650831980718,
          -0.004316630832318147,
          0.006103914121009635,
          0.0028878895669742777,
          -0.0370924422730049,
          -0.04048162691861801,
          0.05505996464931018,
          0.004852407048146046,
          -0.008128034852186938,
          -0.027837063228981607,
          0.0017532643393466385,
          0.08504544474055875,
          -0.01730104302508817,
          0.044601377424874245,
          -0.03477223975461019,
          0.038733040416441544,
          0.10768688808360771,
          -0.0159565107631382,
          0.058224458719873695,
          -0.05573942378811836,
          0.03780378847659094,
          0.10374612026444552,
          -0.003891011602636274,
          0.046533994470882356,
          -0.07255144746732078,
          0.02310324041419587,
          0.11604764600162165,
          0.017064517950301616,
          0.03628843627766132,
          -0.07801928400594149,
          0.03253779824366865,
          -0.017313332858638786,
          -0.020650102124703862,
          0.016170416032953217,
          -0.03800760089048716,
          -0.04917740332328824,
          0.011085404250008812,
          -0.026235350830821402,
          -0.018657872981756807,
          -0.053361285966939676,
          -0.0363446146714731,
          0.05109705501140449,
          -0.02991724448732891,
          -0.005056792579341551,
          -0.05280808086892963,
          -0.004368361453523595,
          0.07345217474475885,
          -0.043115769255474334,
          0.021934654112283902,
          -0.06833913692498284,
          0.008915094089999243,
          0.08525048584888884,
          -0.03512876698865064,
          0.028093807779498325,
          -0.08509563488569105,
          0.007982447123762837,
          0.08815902446188151,
          -0.019865318836151058,
          0.014024591140680664,
          -0.09910673402896975,
          0.0041579823110247105,
          -0.005402053268533935,
          -0.05112883240246313,
          0.02879987828898145,
          -0.03454465090483305,
          -0.04157182214014843,
          -0.002154668484503852,
          -0.043314021254853285,
          -0.00705800860823369,
          -0.05089257742590769,
          -0.0476819353810044,
          0.022637769677748,
          -0.0470775651527241,
          -0.015510759871212976,
          -0.0631238342516629,
          -0.030175401671153956,
          0.05287222845162509,
          -0.04869246657376214,
          -0.010187804750878326,
          -0.07123660186068348,
          -0.01656479480833295,
          0.06631791270809595,
          -0.05317866842184105,
          0.005556214534508719,
          -0.08572068197614158,
          -0.007401864875343223,
          0.07683662304077765,
          -0.041188929524555884,
          0.0049651000434230985,
          -0.10224108055975345,
          -0.004672437304172217,
          0.004849246022819331,
          -0.07195111500549745,
          0.03496504755659369,
          -0.03787422662502293,
          -0.039388330133774074,
          -0.00002186794729386321,
          -0.06841480951465584,
          0.007211738244457533,
          -0.04572045081876619,
          -0.04556355957107305,
          0.009442941387393655,
          -0.06058864092538829,
          -0.008986062617173718,
          -0.058078601921845,
          -0.04249735560072054,
          0.031043729220962435,
          -0.061689869862375124,
          -0.018463151416093893,
          -0.07359406745399011,
          -0.035454762919312044,
          0.05311120652186241,
          -0.056856668570973934,
          -0.01727981407977275,
          -0.08341392146251236,
          -0.024560999564202546,
          0.06348882377903875,
          -0.05713061348792525,
          -0.00970449333714496,
          -0.09966570572019717,
          -0.01599045980935121,
          0.013690570482944087,
          -0.09138112714612345,
          0.035710911817076085,
          -0.04370394623141094,
          -0.035468303281499414,
          0.004977914461959054,
          -0.08645350382338446,
          0.01456888428680414,
          -0.04787945075018629,
          -0.0453079276534295,
          0.00674110392514371,
          -0.08164117407417337,
          -0.00036772546930385897,
          -0.05399587802639372,
          -0.04405917305156004,
          0.018789745119513923,
          -0.07263975658677602,
          -0.016151659918368533,
          -0.06840229958719668,
          -0.046292014593015574,
          0.03701024615304738,
          -0.06693214420328586,
          -0.02545404966953435,
          -0.08245859490208274,
          -0.03837221494091514,
          0.05212047009573617,
          -0.06087510689735276,
          -0.02982222971919457,
          -0.09532836663839717,
          -0.029907167525402012
         ],
         "y0": " ",
         "yaxis": "y2"
        },
        {
         "alignmentgroup": "True",
         "boxpoints": "all",
         "fillcolor": "rgba(255,255,255,0)",
         "hoveron": "points",
         "hovertemplate": "sc=6<br>theta=%{x}<br>diff=%{y}<extra></extra>",
         "legendgroup": "6",
         "line": {
          "color": "rgba(255,255,255,0)"
         },
         "marker": {
          "color": "#EF553B",
          "opacity": 0.5,
          "size": 5
         },
         "name": "6",
         "offsetgroup": "6",
         "orientation": "v",
         "pointpos": 0,
         "showlegend": true,
         "type": "box",
         "x": [
          "CSENT",
          "IPM",
          "HOUSE",
          "UNEMP",
          "LRIR",
          "CSENT",
          "IPM",
          "HOUSE",
          "UNEMP",
          "LRIR",
          "CSENT",
          "IPM",
          "HOUSE",
          "UNEMP",
          "LRIR",
          "CSENT",
          "IPM",
          "HOUSE",
          "UNEMP",
          "LRIR",
          "CSENT",
          "IPM",
          "HOUSE",
          "UNEMP",
          "LRIR",
          "CSENT",
          "IPM",
          "HOUSE",
          "UNEMP",
          "LRIR",
          "CSENT",
          "IPM",
          "HOUSE",
          "UNEMP",
          "LRIR",
          "CSENT",
          "IPM",
          "HOUSE",
          "UNEMP",
          "LRIR",
          "CSENT",
          "IPM",
          "HOUSE",
          "UNEMP",
          "LRIR",
          "CSENT",
          "IPM",
          "HOUSE",
          "UNEMP",
          "LRIR",
          "CSENT",
          "IPM",
          "HOUSE",
          "UNEMP",
          "LRIR",
          "CSENT",
          "IPM",
          "HOUSE",
          "UNEMP",
          "LRIR",
          "CSENT",
          "IPM",
          "HOUSE",
          "UNEMP",
          "LRIR",
          "CSENT",
          "IPM",
          "HOUSE",
          "UNEMP",
          "LRIR",
          "CSENT",
          "IPM",
          "HOUSE",
          "UNEMP",
          "LRIR",
          "CSENT",
          "IPM",
          "HOUSE",
          "UNEMP",
          "LRIR",
          "CSENT",
          "IPM",
          "HOUSE",
          "UNEMP",
          "LRIR",
          "CSENT",
          "IPM",
          "HOUSE",
          "UNEMP",
          "LRIR",
          "CSENT",
          "IPM",
          "HOUSE",
          "UNEMP",
          "LRIR",
          "CSENT",
          "IPM",
          "HOUSE",
          "UNEMP",
          "LRIR",
          "CSENT",
          "IPM",
          "HOUSE",
          "UNEMP",
          "LRIR",
          "CSENT",
          "IPM",
          "HOUSE",
          "UNEMP",
          "LRIR",
          "CSENT",
          "IPM",
          "HOUSE",
          "UNEMP",
          "LRIR",
          "CSENT",
          "IPM",
          "HOUSE",
          "UNEMP",
          "LRIR",
          "CSENT",
          "IPM",
          "HOUSE",
          "UNEMP",
          "LRIR",
          "CSENT",
          "IPM",
          "HOUSE",
          "UNEMP",
          "LRIR",
          "CSENT",
          "IPM",
          "HOUSE",
          "UNEMP",
          "LRIR",
          "CSENT",
          "IPM",
          "HOUSE",
          "UNEMP",
          "LRIR",
          "CSENT",
          "IPM",
          "HOUSE",
          "UNEMP",
          "LRIR",
          "CSENT",
          "IPM",
          "HOUSE",
          "UNEMP",
          "LRIR",
          "CSENT",
          "IPM",
          "HOUSE",
          "UNEMP",
          "LRIR",
          "CSENT",
          "IPM",
          "HOUSE",
          "UNEMP",
          "LRIR",
          "CSENT",
          "IPM",
          "HOUSE",
          "UNEMP",
          "LRIR",
          "CSENT",
          "IPM",
          "HOUSE",
          "UNEMP",
          "LRIR",
          "CSENT",
          "IPM",
          "HOUSE",
          "UNEMP",
          "LRIR",
          "CSENT",
          "IPM",
          "HOUSE",
          "UNEMP",
          "LRIR"
         ],
         "x0": " ",
         "xaxis": "x",
         "y": [
          -1.121386539983039,
          -0.7732590277353903,
          -1.1933344316657895,
          -0.6267771707736429,
          -1.4298500079667225,
          -1.7455873921854987,
          -0.763671637856703,
          -1.9485924147479796,
          -0.8470060513972548,
          -1.6454137002416402,
          -1.5929499139810215,
          -0.8090376292401853,
          -1.9378390213186272,
          -0.6304007215688383,
          -1.3780870563398278,
          -1.3304979801456955,
          -0.899520757244801,
          -1.9514334005430456,
          -0.5804877181202883,
          -1.0307317499858062,
          -1.4217193908616945,
          -1.2805058481363982,
          -1.7345567364804992,
          -0.40564181934005994,
          -0.8658248080820528,
          -1.3959958011250464,
          -1.5694971663699508,
          -1.1385931777352898,
          -0.27917808472544614,
          -0.6924547522296329,
          0.7033503514454633,
          -0.24123995813634647,
          -0.664100900097945,
          0.20043292327399342,
          0.16693907438251365,
          -0.43042118691820974,
          -0.5784688023946636,
          -0.8008200747151974,
          -0.18657284096939541,
          -0.8168989788837937,
          -1.3941588368813385,
          -0.6427335808275068,
          -1.4954993027172918,
          -0.6277708101376938,
          -1.4941639181711075,
          -1.6782267347781339,
          -0.6888359919639679,
          -1.9068327019051061,
          -0.6566938845371286,
          -1.4584121065707798,
          -1.4126851376271947,
          -0.7578029953390182,
          -1.9049058103616634,
          -0.5012315324710261,
          -1.133478485589288,
          -1.2988659099055138,
          -0.9966155302576052,
          -1.7927584952463285,
          -0.3924750162422832,
          -0.8701134025804826,
          0.5214140731823065,
          0.07994917033954341,
          -0.8364791798546864,
          0.16988161136243463,
          0.1009805682809306,
          0.16733545276185247,
          -0.21578187166359264,
          -0.6578837691006774,
          0.1390928348625522,
          -0.3199083916870551,
          -0.849273525955196,
          -0.4897629345230694,
          -1.0817819505722994,
          -0.2878890041424924,
          -1.0958577757513375,
          -1.482045110274937,
          -0.5739565392926487,
          -1.581766656773615,
          -0.5479719962014205,
          -1.369558187936864,
          -1.5349810822864178,
          -0.6571970479992402,
          -1.8541699339033162,
          -0.515008930202546,
          -1.2243344424247695,
          -1.286114132054914,
          -0.8102485486367286,
          -1.7514982184820962,
          -0.3492161026594651,
          -0.9468169615908657,
          0.18075842861017577,
          0.5038624832380627,
          -1.0071159335965234,
          0.14303737829088803,
          -0.05233366880560908,
          0.25288459045305967,
          0.10932341414912727,
          -0.735720628484672,
          0.22311783013298125,
          -0.16687041682899206,
          -0.3008402694451373,
          -0.16387674988121947,
          -0.8590549212815013,
          0.02758680696901905,
          -0.666206399646339,
          -1.0904703332677599,
          -0.439017647496728,
          -1.227431266345711,
          -0.30289910826129507,
          -1.0932806711539378,
          -1.4497898673933562,
          -0.5491662102566295,
          -1.602097250577457,
          -0.46382307123616684,
          -1.2030257719364421,
          -1.3626373250732673,
          -0.6747237087342057,
          -1.7150859505420222,
          -0.36039287747781223,
          -1.02125738394958,
          -0.13111598230371424,
          0.7077288869070255,
          -1.1277545071898425,
          0.20884877190660767,
          -0.14373155985190245,
          0.10106241937654303,
          0.518315420423396,
          -0.8733355927528343,
          0.25228327458752275,
          -0.1798662551236916,
          -0.08127478531486254,
          0.1681659623939451,
          -0.8239558208818023,
          0.1596108774538436,
          -0.4241039002970721,
          -0.6358055998213548,
          -0.14051129460644418,
          -0.9925094908678957,
          -0.038150308037927516,
          -0.7525114529723158,
          -1.1791668731642169,
          -0.42802716671901386,
          -1.3007908289309134,
          -0.28466185721316606,
          -1.0257755171433391,
          -1.3125839004250928,
          -0.5530524305376225,
          -1.5241033645325874,
          -0.3372254706421991,
          -1.0304273510895783,
          -0.4303659378396274,
          0.9359794198500984,
          -1.1845427897613918,
          0.27210745691395566,
          -0.3096131185620381,
          -0.09717924108462395,
          0.7489654027861787,
          -0.9767002044154385,
          0.33571850051925267,
          -0.2023905212817887,
          -0.07452661596516297,
          0.58048685145428,
          -0.8681157324685014,
          0.2532245409089606,
          -0.3468390384565385,
          -0.37576638760484027,
          0.19143991085231793,
          -0.8897544771978874,
          0.09869657369477913,
          -0.505891474106491,
          -0.8284424890955622,
          -0.1519828655555706,
          -1.0686893395751094,
          -0.07846873185001435,
          -0.762307656047879,
          -1.1051498012952354,
          -0.41035034016012517,
          -1.2497066151197904,
          -0.22631432089514192,
          -0.9173028845769879
         ],
         "y0": " ",
         "yaxis": "y"
        },
        {
         "alignmentgroup": "True",
         "boxpoints": "all",
         "fillcolor": "rgba(255,255,255,0)",
         "hoveron": "points",
         "hovertemplate": "sc=6<br>theta=%{x}<br>diff=%{y}<extra></extra>",
         "legendgroup": "6",
         "line": {
          "color": "rgba(255,255,255,0)"
         },
         "marker": {
          "color": "#EF553B",
          "opacity": 0.5,
          "size": 5
         },
         "name": "6",
         "offsetgroup": "6",
         "orientation": "v",
         "pointpos": 0,
         "showlegend": false,
         "type": "box",
         "x": [
          "CSENT",
          "IPM",
          "HOUSE",
          "UNEMP",
          "LRIR",
          "CSENT",
          "IPM",
          "HOUSE",
          "UNEMP",
          "LRIR",
          "CSENT",
          "IPM",
          "HOUSE",
          "UNEMP",
          "LRIR",
          "CSENT",
          "IPM",
          "HOUSE",
          "UNEMP",
          "LRIR",
          "CSENT",
          "IPM",
          "HOUSE",
          "UNEMP",
          "LRIR",
          "CSENT",
          "IPM",
          "HOUSE",
          "UNEMP",
          "LRIR",
          "CSENT",
          "IPM",
          "HOUSE",
          "UNEMP",
          "LRIR",
          "CSENT",
          "IPM",
          "HOUSE",
          "UNEMP",
          "LRIR",
          "CSENT",
          "IPM",
          "HOUSE",
          "UNEMP",
          "LRIR",
          "CSENT",
          "IPM",
          "HOUSE",
          "UNEMP",
          "LRIR",
          "CSENT",
          "IPM",
          "HOUSE",
          "UNEMP",
          "LRIR",
          "CSENT",
          "IPM",
          "HOUSE",
          "UNEMP",
          "LRIR",
          "CSENT",
          "IPM",
          "HOUSE",
          "UNEMP",
          "LRIR",
          "CSENT",
          "IPM",
          "HOUSE",
          "UNEMP",
          "LRIR",
          "CSENT",
          "IPM",
          "HOUSE",
          "UNEMP",
          "LRIR",
          "CSENT",
          "IPM",
          "HOUSE",
          "UNEMP",
          "LRIR",
          "CSENT",
          "IPM",
          "HOUSE",
          "UNEMP",
          "LRIR",
          "CSENT",
          "IPM",
          "HOUSE",
          "UNEMP",
          "LRIR",
          "CSENT",
          "IPM",
          "HOUSE",
          "UNEMP",
          "LRIR",
          "CSENT",
          "IPM",
          "HOUSE",
          "UNEMP",
          "LRIR",
          "CSENT",
          "IPM",
          "HOUSE",
          "UNEMP",
          "LRIR",
          "CSENT",
          "IPM",
          "HOUSE",
          "UNEMP",
          "LRIR",
          "CSENT",
          "IPM",
          "HOUSE",
          "UNEMP",
          "LRIR",
          "CSENT",
          "IPM",
          "HOUSE",
          "UNEMP",
          "LRIR",
          "CSENT",
          "IPM",
          "HOUSE",
          "UNEMP",
          "LRIR",
          "CSENT",
          "IPM",
          "HOUSE",
          "UNEMP",
          "LRIR",
          "CSENT",
          "IPM",
          "HOUSE",
          "UNEMP",
          "LRIR",
          "CSENT",
          "IPM",
          "HOUSE",
          "UNEMP",
          "LRIR",
          "CSENT",
          "IPM",
          "HOUSE",
          "UNEMP",
          "LRIR",
          "CSENT",
          "IPM",
          "HOUSE",
          "UNEMP",
          "LRIR",
          "CSENT",
          "IPM",
          "HOUSE",
          "UNEMP",
          "LRIR",
          "CSENT",
          "IPM",
          "HOUSE",
          "UNEMP",
          "LRIR",
          "CSENT",
          "IPM",
          "HOUSE",
          "UNEMP",
          "LRIR",
          "CSENT",
          "IPM",
          "HOUSE",
          "UNEMP",
          "LRIR",
          "CSENT",
          "IPM",
          "HOUSE",
          "UNEMP",
          "LRIR",
          "CSENT",
          "IPM",
          "HOUSE",
          "UNEMP",
          "LRIR"
         ],
         "x0": " ",
         "xaxis": "x2",
         "y": [
          0.08848383827660111,
          0.062104269107650545,
          0.09381338779555715,
          0.05071123682662115,
          0.11103798294320044,
          0.14284868159780273,
          0.06552273092513072,
          0.15786390815479712,
          0.07238773597286474,
          0.13531670328336698,
          0.13460197937254048,
          0.07091817001097034,
          0.16105144952169181,
          0.05571310395777129,
          0.11763955012537874,
          0.1133612295802231,
          0.07820074171625269,
          0.1613912879154904,
          0.051210355911407546,
          0.08906359271481357,
          0.11831834229337002,
          0.10729317268831706,
          0.1421719369781993,
          0.03541519997621767,
          0.073990506154759,
          0.11384353886578624,
          0.1269000428581616,
          0.09402820214781127,
          0.0240179348962567,
          0.05842431561360406,
          -0.05079787203662267,
          0.016463877152173345,
          0.044140827719404196,
          -0.01405153298875883,
          -0.011679881553250504,
          0.03234716103996238,
          0.043113672219382115,
          0.05893795893735687,
          0.01421242599533934,
          0.06006616372334417,
          0.10936281614928689,
          0.052442426892089,
          0.11667716347716361,
          0.05126093932595055,
          0.11658134047550017,
          0.13732587910014304,
          0.05921892059094791,
          0.15420750902642655,
          0.05654403406873987,
          0.12068084305824323,
          0.11835463513105116,
          0.06556310612058613,
          0.15567348543713566,
          0.043902784483416224,
          0.0962856057865733,
          0.10777426969868997,
          0.0839529000763477,
          0.14505739224420344,
          0.03405158677116915,
          0.07375631946830075,
          -0.03646421969660196,
          -0.005437684038524404,
          0.05356020164876241,
          -0.011620786201182676,
          -0.006877351159869538,
          -0.011952498504811282,
          0.015054379531446171,
          0.04463682515372158,
          -0.009918135758301805,
          0.022174457386025637,
          0.06374223172031956,
          0.037521644031165424,
          0.08010394536906618,
          0.022307382603801162,
          0.08107943654854799,
          0.11691893003688592,
          0.04753337116719125,
          0.12410390603061083,
          0.04544298014254444,
          0.1087109821645329,
          0.12526637544185082,
          0.05612500114041252,
          0.14875743389058738,
          0.04429846546640004,
          0.10155858249299943,
          0.10579956049302663,
          0.06832023847389124,
          0.1405597269161004,
          0.030141928906458837,
          0.07927672236189542,
          -0.012372420514363158,
          -0.03521762631785008,
          0.06357278835832947,
          -0.009766336744982729,
          0.003527426669747813,
          -0.017418115355750885,
          -0.007459749514505232,
          0.04742153960667661,
          -0.01533814263064781,
          0.011180359823167452,
          0.0214826852491532,
          0.011802491207215438,
          0.05920289035386517,
          -0.0020104021165323616,
          0.04648618049170272,
          0.08259452754372898,
          0.034528018673708916,
          0.09221826835436997,
          0.024006453892739588,
          0.0827936815492738,
          0.11473910594394077,
          0.04566905000060706,
          0.12570415739886098,
          0.038748488999078456,
          0.09653441300192556,
          0.11002688012225303,
          0.05655376589044159,
          0.1357860078293598,
          0.030713194392285592,
          0.0840189391824806,
          0.00887802683950667,
          -0.05066484876307786,
          0.07116731604910553,
          -0.01446954015640034,
          0.009723863456171267,
          -0.006804493852924365,
          -0.035895500236816535,
          0.05487628781251086,
          -0.017162102056517803,
          0.01187726207417017,
          0.0055807878591358495,
          -0.011740467877468297,
          0.05375848057472121,
          -0.011136906232279031,
          0.02845158953556548,
          0.04593819284867595,
          0.01047277781231748,
          0.0700800157504089,
          0.0028614578753380915,
          0.05396589360823478,
          0.09020664482596663,
          0.03422599346069388,
          0.09878176538132433,
          0.022950277464586333,
          0.07919733407181817,
          0.10366460654785281,
          0.04561581503048373,
          0.118883241543291,
          0.02815002375688236,
          0.0827213423609614,
          0.028658447312703506,
          -0.06842545756894491,
          0.07462016010221606,
          -0.019031286062362263,
          0.02079567324423326,
          0.006467999842655225,
          -0.05286599368001077,
          0.06091737927746188,
          -0.02303638730484525,
          0.01336922588319045,
          0.0049858684030616995,
          -0.04064387091099253,
          0.05479967098654903,
          -0.017335714128656643,
          0.022754349173953248,
          0.02607064764953748,
          -0.013798828701083066,
          0.05955479253504081,
          -0.007070406953572528,
          0.03478544902503988,
          0.06068502830548317,
          0.011622520464354746,
          0.07706119707296555,
          0.006028169745454504,
          0.056080548725826906,
          0.0848638028144193,
          0.03286897264564448,
          0.09510351184142285,
          0.018326168938535004,
          0.07126013117292773
         ],
         "y0": " ",
         "yaxis": "y2"
        },
        {
         "alignmentgroup": "True",
         "boxpoints": "all",
         "fillcolor": "rgba(255,255,255,0)",
         "hoveron": "points",
         "hovertemplate": "sc=12<br>theta=%{x}<br>diff=%{y}<extra></extra>",
         "legendgroup": "12",
         "line": {
          "color": "rgba(255,255,255,0)"
         },
         "marker": {
          "color": "#00cc96",
          "opacity": 0.5,
          "size": 5
         },
         "name": "12",
         "offsetgroup": "12",
         "orientation": "v",
         "pointpos": 0,
         "showlegend": true,
         "type": "box",
         "x": [
          "CSENT",
          "IPM",
          "HOUSE",
          "UNEMP",
          "LRIR",
          "CSENT",
          "IPM",
          "HOUSE",
          "UNEMP",
          "LRIR",
          "CSENT",
          "IPM",
          "HOUSE",
          "UNEMP",
          "LRIR",
          "CSENT",
          "IPM",
          "HOUSE",
          "UNEMP",
          "LRIR",
          "CSENT",
          "IPM",
          "HOUSE",
          "UNEMP",
          "LRIR",
          "CSENT",
          "IPM",
          "HOUSE",
          "UNEMP",
          "LRIR",
          "CSENT",
          "IPM",
          "HOUSE",
          "UNEMP",
          "LRIR",
          "CSENT",
          "IPM",
          "HOUSE",
          "UNEMP",
          "LRIR",
          "CSENT",
          "IPM",
          "HOUSE",
          "UNEMP",
          "LRIR",
          "CSENT",
          "IPM",
          "HOUSE",
          "UNEMP",
          "LRIR",
          "CSENT",
          "IPM",
          "HOUSE",
          "UNEMP",
          "LRIR",
          "CSENT",
          "IPM",
          "HOUSE",
          "UNEMP",
          "LRIR",
          "CSENT",
          "IPM",
          "HOUSE",
          "UNEMP",
          "LRIR",
          "CSENT",
          "IPM",
          "HOUSE",
          "UNEMP",
          "LRIR",
          "CSENT",
          "IPM",
          "HOUSE",
          "UNEMP",
          "LRIR",
          "CSENT",
          "IPM",
          "HOUSE",
          "UNEMP",
          "LRIR",
          "CSENT",
          "IPM",
          "HOUSE",
          "UNEMP",
          "LRIR",
          "CSENT",
          "IPM",
          "HOUSE",
          "UNEMP",
          "LRIR",
          "CSENT",
          "IPM",
          "HOUSE",
          "UNEMP",
          "LRIR",
          "CSENT",
          "IPM",
          "HOUSE",
          "UNEMP",
          "LRIR",
          "CSENT",
          "IPM",
          "HOUSE",
          "UNEMP",
          "LRIR",
          "CSENT",
          "IPM",
          "HOUSE",
          "UNEMP",
          "LRIR",
          "CSENT",
          "IPM",
          "HOUSE",
          "UNEMP",
          "LRIR",
          "CSENT",
          "IPM",
          "HOUSE",
          "UNEMP",
          "LRIR",
          "CSENT",
          "IPM",
          "HOUSE",
          "UNEMP",
          "LRIR",
          "CSENT",
          "IPM",
          "HOUSE",
          "UNEMP",
          "LRIR",
          "CSENT",
          "IPM",
          "HOUSE",
          "UNEMP",
          "LRIR",
          "CSENT",
          "IPM",
          "HOUSE",
          "UNEMP",
          "LRIR",
          "CSENT",
          "IPM",
          "HOUSE",
          "UNEMP",
          "LRIR",
          "CSENT",
          "IPM",
          "HOUSE",
          "UNEMP",
          "LRIR",
          "CSENT",
          "IPM",
          "HOUSE",
          "UNEMP",
          "LRIR",
          "CSENT",
          "IPM",
          "HOUSE",
          "UNEMP",
          "LRIR",
          "CSENT",
          "IPM",
          "HOUSE",
          "UNEMP",
          "LRIR",
          "CSENT",
          "IPM",
          "HOUSE",
          "UNEMP",
          "LRIR",
          "CSENT",
          "IPM",
          "HOUSE",
          "UNEMP",
          "LRIR",
          "CSENT",
          "IPM",
          "HOUSE",
          "UNEMP",
          "LRIR"
         ],
         "x0": " ",
         "xaxis": "x",
         "y": [
          -0.21127594262355842,
          -0.6683826856534569,
          -1.2986235886603712,
          -0.45853365051879535,
          -1.667942977757182,
          -0.7715764798672016,
          -0.8075347658629806,
          -1.785672057102829,
          -0.8018077921208437,
          -1.543978977979485,
          -0.7746212110120698,
          -0.8055861163463884,
          -1.7727950975857496,
          -0.8030399011681748,
          -1.2949972649970363,
          -0.7318357112377019,
          -0.9734591519321469,
          -1.8858718487554782,
          -0.8930977533830848,
          -1.046932111260407,
          -0.7788689396501844,
          -1.4260143645253454,
          -1.741431503278342,
          -0.8999761836414546,
          -0.958135066021562,
          -0.7821311913061795,
          -1.6807875363585154,
          -1.2571543558652394,
          -0.9208757525350961,
          -0.7338117308864671,
          1.1742823949454575,
          -0.17923244309677955,
          -0.8650174675131463,
          0.2839572891822453,
          -0.51344812672159,
          0.3980741699071757,
          -0.47253049655002854,
          -0.9939184447205012,
          -0.08100811624702686,
          -1.3717697087162435,
          -0.4419186982368881,
          -0.6472358470330484,
          -1.4748040777879368,
          -0.5668899319835514,
          -1.5990494561098192,
          -0.7629989341272161,
          -0.7344574949796705,
          -1.7531660062983718,
          -0.7672387900539643,
          -1.3895442156335864,
          -0.7208829763791336,
          -0.836063168281326,
          -1.8240848376403278,
          -0.7927169821397779,
          -1.1244639986555924,
          -0.6747816666070232,
          -1.1453334644102906,
          -1.7966847830516333,
          -0.8332659091233765,
          -0.9536721239941244,
          0.8499115285154346,
          -0.0029270660144664618,
          -1.0362733291460788,
          0.2333203896140752,
          -0.5367231760433366,
          0.7886596224299325,
          -0.20498287564555184,
          -0.8903987848890118,
          0.17948488617540193,
          -0.982658177097484,
          0.06575170186783375,
          -0.48198100606259864,
          -1.1673442091122137,
          -0.2699393996738344,
          -1.5053209626895896,
          -0.5492137966883224,
          -0.6146750262073297,
          -1.5273224214379528,
          -0.6155857889725773,
          -1.4624880080518636,
          -0.7386262522784648,
          -0.7520731168794725,
          -1.7635696243479924,
          -0.7459971654208299,
          -1.2106387486611556,
          -0.6303875298689174,
          -0.9683065896771232,
          -1.7509688924553117,
          -0.7652632294043151,
          -1.0006740125971305,
          0.4354798086862477,
          0.31291608675681637,
          -1.1675941538648864,
          0.15624144630795023,
          -0.6779738059676976,
          0.7056246857789397,
          -0.0009805205068431633,
          -0.9818631786456624,
          0.2325248076052553,
          -0.8439952140274212,
          0.46151534710190134,
          -0.21638975500010105,
          -1.0043002030949477,
          0.007623773987075921,
          -1.2308940034259166,
          -0.155957534418679,
          -0.46120616972731554,
          -1.2539339728219332,
          -0.37582683569226916,
          -1.4348124996569585,
          -0.5945915776362991,
          -0.625854416978683,
          -1.5703174011226793,
          -0.6218960195706646,
          -1.296133565544558,
          -0.633577950628796,
          -0.8450554984067136,
          -1.70144970279007,
          -0.7237777428300749,
          -1.0606301857034435,
          0.08623548496745492,
          0.5068741805638677,
          -1.2621213659829493,
          0.13768059053069415,
          -0.7948975141247256,
          0.461081444029098,
          0.30365767729688997,
          -1.0852441926032714,
          0.236233919668841,
          -0.8672769575669186,
          0.5180695433190117,
          0.012942098011260228,
          -1.0140890609158877,
          0.11950449178753253,
          -1.0608413074284595,
          0.20127169591065552,
          -0.21627591209887065,
          -1.080604954945029,
          -0.13229187590345504,
          -1.2615162729054141,
          -0.29447875966327075,
          -0.468295241579046,
          -1.3308950030354385,
          -0.4466865144573866,
          -1.3150116892934722,
          -0.5249779649535391,
          -0.6985832221249915,
          -1.549094225308373,
          -0.6265163267608642,
          -1.1352012006189032,
          -0.20886871436489507,
          0.6982901865772533,
          -1.3067423143751862,
          0.09844321909757525,
          -0.9398166662791017,
          0.19913474308568269,
          0.513643924329557,
          -1.1610307847461074,
          0.25174783634724207,
          -0.9142394020344469,
          0.40331028431943494,
          0.3195419711742211,
          -1.0746791723708125,
          0.18002372331785743,
          -1.03384514807711,
          0.31209308776186795,
          0.03369531541891746,
          -1.0455164097346543,
          -0.012979719868450701,
          -1.1237211617525045,
          0.003996988246401045,
          -0.23453297227213454,
          -1.1562051071969321,
          -0.2482703572748708,
          -1.2123109843831408,
          -0.28325019718317357,
          -0.5217315185478846,
          -1.3318487588390049,
          -0.49454749517113505,
          -1.1790709004158941
         ],
         "y0": " ",
         "yaxis": "y"
        },
        {
         "alignmentgroup": "True",
         "boxpoints": "all",
         "fillcolor": "rgba(255,255,255,0)",
         "hoveron": "points",
         "hovertemplate": "sc=12<br>theta=%{x}<br>diff=%{y}<extra></extra>",
         "legendgroup": "12",
         "line": {
          "color": "rgba(255,255,255,0)"
         },
         "marker": {
          "color": "#00cc96",
          "opacity": 0.5,
          "size": 5
         },
         "name": "12",
         "offsetgroup": "12",
         "orientation": "v",
         "pointpos": 0,
         "showlegend": false,
         "type": "box",
         "x": [
          "CSENT",
          "IPM",
          "HOUSE",
          "UNEMP",
          "LRIR",
          "CSENT",
          "IPM",
          "HOUSE",
          "UNEMP",
          "LRIR",
          "CSENT",
          "IPM",
          "HOUSE",
          "UNEMP",
          "LRIR",
          "CSENT",
          "IPM",
          "HOUSE",
          "UNEMP",
          "LRIR",
          "CSENT",
          "IPM",
          "HOUSE",
          "UNEMP",
          "LRIR",
          "CSENT",
          "IPM",
          "HOUSE",
          "UNEMP",
          "LRIR",
          "CSENT",
          "IPM",
          "HOUSE",
          "UNEMP",
          "LRIR",
          "CSENT",
          "IPM",
          "HOUSE",
          "UNEMP",
          "LRIR",
          "CSENT",
          "IPM",
          "HOUSE",
          "UNEMP",
          "LRIR",
          "CSENT",
          "IPM",
          "HOUSE",
          "UNEMP",
          "LRIR",
          "CSENT",
          "IPM",
          "HOUSE",
          "UNEMP",
          "LRIR",
          "CSENT",
          "IPM",
          "HOUSE",
          "UNEMP",
          "LRIR",
          "CSENT",
          "IPM",
          "HOUSE",
          "UNEMP",
          "LRIR",
          "CSENT",
          "IPM",
          "HOUSE",
          "UNEMP",
          "LRIR",
          "CSENT",
          "IPM",
          "HOUSE",
          "UNEMP",
          "LRIR",
          "CSENT",
          "IPM",
          "HOUSE",
          "UNEMP",
          "LRIR",
          "CSENT",
          "IPM",
          "HOUSE",
          "UNEMP",
          "LRIR",
          "CSENT",
          "IPM",
          "HOUSE",
          "UNEMP",
          "LRIR",
          "CSENT",
          "IPM",
          "HOUSE",
          "UNEMP",
          "LRIR",
          "CSENT",
          "IPM",
          "HOUSE",
          "UNEMP",
          "LRIR",
          "CSENT",
          "IPM",
          "HOUSE",
          "UNEMP",
          "LRIR",
          "CSENT",
          "IPM",
          "HOUSE",
          "UNEMP",
          "LRIR",
          "CSENT",
          "IPM",
          "HOUSE",
          "UNEMP",
          "LRIR",
          "CSENT",
          "IPM",
          "HOUSE",
          "UNEMP",
          "LRIR",
          "CSENT",
          "IPM",
          "HOUSE",
          "UNEMP",
          "LRIR",
          "CSENT",
          "IPM",
          "HOUSE",
          "UNEMP",
          "LRIR",
          "CSENT",
          "IPM",
          "HOUSE",
          "UNEMP",
          "LRIR",
          "CSENT",
          "IPM",
          "HOUSE",
          "UNEMP",
          "LRIR",
          "CSENT",
          "IPM",
          "HOUSE",
          "UNEMP",
          "LRIR",
          "CSENT",
          "IPM",
          "HOUSE",
          "UNEMP",
          "LRIR",
          "CSENT",
          "IPM",
          "HOUSE",
          "UNEMP",
          "LRIR",
          "CSENT",
          "IPM",
          "HOUSE",
          "UNEMP",
          "LRIR",
          "CSENT",
          "IPM",
          "HOUSE",
          "UNEMP",
          "LRIR",
          "CSENT",
          "IPM",
          "HOUSE",
          "UNEMP",
          "LRIR",
          "CSENT",
          "IPM",
          "HOUSE",
          "UNEMP",
          "LRIR",
          "CSENT",
          "IPM",
          "HOUSE",
          "UNEMP",
          "LRIR"
         ],
         "x0": " ",
         "xaxis": "x2",
         "y": [
          0.020295097665819606,
          0.06296786879850613,
          0.11902936256520513,
          0.04358764648201641,
          0.15038689387112647,
          0.07711383257982285,
          0.08059035148223448,
          0.1711527464432988,
          0.08003735542206836,
          0.1494940324980364,
          0.07954911344580062,
          0.08262851112944192,
          0.17492512187425713,
          0.08237558672539003,
          0.13027320899535688,
          0.0763060082184529,
          0.10055296355710586,
          0.1878775012536118,
          0.09254082029002508,
          0.10783284716203012,
          0.08013748965685641,
          0.14301224631210774,
          0.1724367636752192,
          0.0921600137983748,
          0.0978916343771109,
          0.07897290363340947,
          0.16365139673361107,
          0.12454071819807488,
          0.0924695244862287,
          0.07423627830163382,
          -0.10409123162101463,
          0.014866508928420341,
          0.06925235718766876,
          -0.024106553884311044,
          0.04186588422435644,
          -0.037011293180895466,
          0.04220648219134138,
          0.08660087674381434,
          0.007368835386919903,
          0.11734685332470107,
          0.04299957388950748,
          0.06242041010131694,
          0.13711725638667305,
          0.05486261548767546,
          0.1478361063952005,
          0.07725234198023134,
          0.07445031871953278,
          0.17023848729099145,
          0.07766800320083289,
          0.1370446047185564,
          0.07479026104871167,
          0.08633746084635652,
          0.18083374269757224,
          0.08200487612380813,
          0.11476408091204038,
          0.07000897113049254,
          0.1165781351527837,
          0.17798856363016524,
          0.08590026029471254,
          0.09783320234735926,
          -0.07420918604908389,
          0.0002447223305614976,
          0.08198446988372465,
          -0.0197467618554108,
          0.04362822709369163,
          -0.07071181118060488,
          0.017495487874371385,
          0.07334934664622161,
          -0.015618513441057358,
          0.0805562770141115,
          -0.006217387084619275,
          0.044432212763242496,
          0.1041489557051064,
          0.025132675722930986,
          0.1320996369755384,
          0.054411154163856446,
          0.060722468392509166,
          0.1448534742919364,
          0.06081001637859218,
          0.13911450328427843,
          0.07571772784336706,
          0.07705248967394884,
          0.17297601706712495,
          0.07644957247349848,
          0.12163535290556071,
          0.06546288012250401,
          0.09913973455810832,
          0.17334811849515086,
          0.07902291507526416,
          0.10231364537081888,
          -0.03775164751434601,
          -0.02695474401045339,
          0.09282995424996088,
          -0.013349007070238894,
          0.055390218483842624,
          -0.06194795390346819,
          0.00008298258208738751,
          0.07878850719381825,
          -0.019921696219580287,
          0.06824590025137145,
          -0.04209959207138181,
          0.019084116023911357,
          0.08503905555989011,
          -0.0006799915080720753,
          0.10298042040741795,
          0.015041202849115032,
          0.04385261312638444,
          0.11479257564538792,
          0.03587768644427336,
          0.1301934761903809,
          0.05983074116615639,
          0.06288925389395383,
          0.1511760169580536,
          0.06250247740889092,
          0.1263658604935971,
          0.06532999241034976,
          0.08633793706158754,
          0.1673270659128594,
          0.07433919268490075,
          0.10734175201175711,
          -0.007484851833855055,
          -0.04497974174520525,
          0.1016817027095791,
          -0.011982789119213355,
          0.06575660860168431,
          -0.04005383670922891,
          -0.026158052087956074,
          0.08653414437352769,
          -0.020276486434925634,
          0.07002600800787806,
          -0.046105068154006834,
          -0.0011216529396593788,
          0.08309019516890703,
          -0.010415761737592288,
          0.08669240108503506,
          -0.018778089499626227,
          0.01976197963473325,
          0.09443697432444609,
          0.012139204655780556,
          0.10919607151813737,
          0.028988131724649757,
          0.04572326808972049,
          0.12465444344149135,
          0.04365792773979893,
          0.12326304216472816,
          0.05345751916630326,
          0.07057614338724072,
          0.1504254196556718,
          0.06350361676795035,
          0.11240089438123801,
          0.01811115883140091,
          -0.06356964234787543,
          0.10646810954569985,
          -0.008680331175934919,
          0.0782167220800234,
          -0.01725474073492539,
          -0.045275524616020024,
          0.09308415218562993,
          -0.02187664187896121,
          0.0743720290506299,
          -0.03539156457838044,
          -0.027913317494443257,
          0.08674902592531786,
          -0.015606322125392147,
          0.08365371992129811,
          -0.028362133792800392,
          -0.0030174936067826064,
          0.08825888997349451,
          0.0011594809770212322,
          0.09444245940014828,
          -0.0003817284679661359,
          0.022132498033423986,
          0.10403569429209303,
          0.02341263510515934,
          0.10876028632070245,
          0.028327929494430637,
          0.05158569739394825,
          0.1265445812975886,
          0.04896195637808465,
          0.11288676820928767
         ],
         "y0": " ",
         "yaxis": "y2"
        }
       ],
       "layout": {
        "annotations": [
         {
          "font": {
           "color": "grey",
           "size": 11
          },
          "showarrow": false,
          "text": "RMSE",
          "x": 0.225,
          "xanchor": "center",
          "xref": "paper",
          "y": 0.95,
          "yanchor": "bottom",
          "yref": "paper"
         },
         {
          "font": {
           "color": "grey",
           "size": 11
          },
          "showarrow": false,
          "text": "Adj-R2",
          "x": 0.775,
          "xanchor": "center",
          "xref": "paper",
          "y": 0.95,
          "yanchor": "bottom",
          "yref": "paper"
         }
        ],
        "height": 400,
        "legend": {
         "orientation": "h",
         "title": {
          "text": "Scopes:"
         },
         "x": 0.5,
         "xanchor": "center",
         "y": -0.1,
         "yanchor": "top"
        },
        "margin": {
         "b": 60,
         "l": 80,
         "r": 40,
         "t": 80
        },
        "template": {
         "data": {
          "bar": [
           {
            "error_x": {
             "color": "#f2f5fa"
            },
            "error_y": {
             "color": "#f2f5fa"
            },
            "marker": {
             "line": {
              "color": "rgb(17,17,17)",
              "width": 0.5
             },
             "pattern": {
              "fillmode": "overlay",
              "size": 10,
              "solidity": 0.2
             }
            },
            "type": "bar"
           }
          ],
          "barpolar": [
           {
            "marker": {
             "line": {
              "color": "rgb(17,17,17)",
              "width": 0.5
             },
             "pattern": {
              "fillmode": "overlay",
              "size": 10,
              "solidity": 0.2
             }
            },
            "type": "barpolar"
           }
          ],
          "carpet": [
           {
            "aaxis": {
             "endlinecolor": "#A2B1C6",
             "gridcolor": "#506784",
             "linecolor": "#506784",
             "minorgridcolor": "#506784",
             "startlinecolor": "#A2B1C6"
            },
            "baxis": {
             "endlinecolor": "#A2B1C6",
             "gridcolor": "#506784",
             "linecolor": "#506784",
             "minorgridcolor": "#506784",
             "startlinecolor": "#A2B1C6"
            },
            "type": "carpet"
           }
          ],
          "choropleth": [
           {
            "colorbar": {
             "outlinewidth": 0,
             "ticks": ""
            },
            "type": "choropleth"
           }
          ],
          "contour": [
           {
            "colorbar": {
             "outlinewidth": 0,
             "ticks": ""
            },
            "colorscale": [
             [
              0,
              "#0d0887"
             ],
             [
              0.1111111111111111,
              "#46039f"
             ],
             [
              0.2222222222222222,
              "#7201a8"
             ],
             [
              0.3333333333333333,
              "#9c179e"
             ],
             [
              0.4444444444444444,
              "#bd3786"
             ],
             [
              0.5555555555555556,
              "#d8576b"
             ],
             [
              0.6666666666666666,
              "#ed7953"
             ],
             [
              0.7777777777777778,
              "#fb9f3a"
             ],
             [
              0.8888888888888888,
              "#fdca26"
             ],
             [
              1,
              "#f0f921"
             ]
            ],
            "type": "contour"
           }
          ],
          "contourcarpet": [
           {
            "colorbar": {
             "outlinewidth": 0,
             "ticks": ""
            },
            "type": "contourcarpet"
           }
          ],
          "heatmap": [
           {
            "colorbar": {
             "outlinewidth": 0,
             "ticks": ""
            },
            "colorscale": [
             [
              0,
              "#0d0887"
             ],
             [
              0.1111111111111111,
              "#46039f"
             ],
             [
              0.2222222222222222,
              "#7201a8"
             ],
             [
              0.3333333333333333,
              "#9c179e"
             ],
             [
              0.4444444444444444,
              "#bd3786"
             ],
             [
              0.5555555555555556,
              "#d8576b"
             ],
             [
              0.6666666666666666,
              "#ed7953"
             ],
             [
              0.7777777777777778,
              "#fb9f3a"
             ],
             [
              0.8888888888888888,
              "#fdca26"
             ],
             [
              1,
              "#f0f921"
             ]
            ],
            "type": "heatmap"
           }
          ],
          "heatmapgl": [
           {
            "colorbar": {
             "outlinewidth": 0,
             "ticks": ""
            },
            "colorscale": [
             [
              0,
              "#0d0887"
             ],
             [
              0.1111111111111111,
              "#46039f"
             ],
             [
              0.2222222222222222,
              "#7201a8"
             ],
             [
              0.3333333333333333,
              "#9c179e"
             ],
             [
              0.4444444444444444,
              "#bd3786"
             ],
             [
              0.5555555555555556,
              "#d8576b"
             ],
             [
              0.6666666666666666,
              "#ed7953"
             ],
             [
              0.7777777777777778,
              "#fb9f3a"
             ],
             [
              0.8888888888888888,
              "#fdca26"
             ],
             [
              1,
              "#f0f921"
             ]
            ],
            "type": "heatmapgl"
           }
          ],
          "histogram": [
           {
            "marker": {
             "pattern": {
              "fillmode": "overlay",
              "size": 10,
              "solidity": 0.2
             }
            },
            "type": "histogram"
           }
          ],
          "histogram2d": [
           {
            "colorbar": {
             "outlinewidth": 0,
             "ticks": ""
            },
            "colorscale": [
             [
              0,
              "#0d0887"
             ],
             [
              0.1111111111111111,
              "#46039f"
             ],
             [
              0.2222222222222222,
              "#7201a8"
             ],
             [
              0.3333333333333333,
              "#9c179e"
             ],
             [
              0.4444444444444444,
              "#bd3786"
             ],
             [
              0.5555555555555556,
              "#d8576b"
             ],
             [
              0.6666666666666666,
              "#ed7953"
             ],
             [
              0.7777777777777778,
              "#fb9f3a"
             ],
             [
              0.8888888888888888,
              "#fdca26"
             ],
             [
              1,
              "#f0f921"
             ]
            ],
            "type": "histogram2d"
           }
          ],
          "histogram2dcontour": [
           {
            "colorbar": {
             "outlinewidth": 0,
             "ticks": ""
            },
            "colorscale": [
             [
              0,
              "#0d0887"
             ],
             [
              0.1111111111111111,
              "#46039f"
             ],
             [
              0.2222222222222222,
              "#7201a8"
             ],
             [
              0.3333333333333333,
              "#9c179e"
             ],
             [
              0.4444444444444444,
              "#bd3786"
             ],
             [
              0.5555555555555556,
              "#d8576b"
             ],
             [
              0.6666666666666666,
              "#ed7953"
             ],
             [
              0.7777777777777778,
              "#fb9f3a"
             ],
             [
              0.8888888888888888,
              "#fdca26"
             ],
             [
              1,
              "#f0f921"
             ]
            ],
            "type": "histogram2dcontour"
           }
          ],
          "mesh3d": [
           {
            "colorbar": {
             "outlinewidth": 0,
             "ticks": ""
            },
            "type": "mesh3d"
           }
          ],
          "parcoords": [
           {
            "line": {
             "colorbar": {
              "outlinewidth": 0,
              "ticks": ""
             }
            },
            "type": "parcoords"
           }
          ],
          "pie": [
           {
            "automargin": true,
            "type": "pie"
           }
          ],
          "scatter": [
           {
            "marker": {
             "line": {
              "color": "#283442"
             }
            },
            "type": "scatter"
           }
          ],
          "scatter3d": [
           {
            "line": {
             "colorbar": {
              "outlinewidth": 0,
              "ticks": ""
             }
            },
            "marker": {
             "colorbar": {
              "outlinewidth": 0,
              "ticks": ""
             }
            },
            "type": "scatter3d"
           }
          ],
          "scattercarpet": [
           {
            "marker": {
             "colorbar": {
              "outlinewidth": 0,
              "ticks": ""
             }
            },
            "type": "scattercarpet"
           }
          ],
          "scattergeo": [
           {
            "marker": {
             "colorbar": {
              "outlinewidth": 0,
              "ticks": ""
             }
            },
            "type": "scattergeo"
           }
          ],
          "scattergl": [
           {
            "marker": {
             "line": {
              "color": "#283442"
             }
            },
            "type": "scattergl"
           }
          ],
          "scattermapbox": [
           {
            "marker": {
             "colorbar": {
              "outlinewidth": 0,
              "ticks": ""
             }
            },
            "type": "scattermapbox"
           }
          ],
          "scatterpolar": [
           {
            "marker": {
             "colorbar": {
              "outlinewidth": 0,
              "ticks": ""
             }
            },
            "type": "scatterpolar"
           }
          ],
          "scatterpolargl": [
           {
            "marker": {
             "colorbar": {
              "outlinewidth": 0,
              "ticks": ""
             }
            },
            "type": "scatterpolargl"
           }
          ],
          "scatterternary": [
           {
            "marker": {
             "colorbar": {
              "outlinewidth": 0,
              "ticks": ""
             }
            },
            "type": "scatterternary"
           }
          ],
          "surface": [
           {
            "colorbar": {
             "outlinewidth": 0,
             "ticks": ""
            },
            "colorscale": [
             [
              0,
              "#0d0887"
             ],
             [
              0.1111111111111111,
              "#46039f"
             ],
             [
              0.2222222222222222,
              "#7201a8"
             ],
             [
              0.3333333333333333,
              "#9c179e"
             ],
             [
              0.4444444444444444,
              "#bd3786"
             ],
             [
              0.5555555555555556,
              "#d8576b"
             ],
             [
              0.6666666666666666,
              "#ed7953"
             ],
             [
              0.7777777777777778,
              "#fb9f3a"
             ],
             [
              0.8888888888888888,
              "#fdca26"
             ],
             [
              1,
              "#f0f921"
             ]
            ],
            "type": "surface"
           }
          ],
          "table": [
           {
            "cells": {
             "fill": {
              "color": "#506784"
             },
             "line": {
              "color": "rgb(17,17,17)"
             }
            },
            "header": {
             "fill": {
              "color": "#2a3f5f"
             },
             "line": {
              "color": "rgb(17,17,17)"
             }
            },
            "type": "table"
           }
          ]
         },
         "layout": {
          "annotationdefaults": {
           "arrowcolor": "#f2f5fa",
           "arrowhead": 0,
           "arrowwidth": 1
          },
          "autotypenumbers": "strict",
          "coloraxis": {
           "colorbar": {
            "outlinewidth": 0,
            "ticks": ""
           }
          },
          "colorscale": {
           "diverging": [
            [
             0,
             "#8e0152"
            ],
            [
             0.1,
             "#c51b7d"
            ],
            [
             0.2,
             "#de77ae"
            ],
            [
             0.3,
             "#f1b6da"
            ],
            [
             0.4,
             "#fde0ef"
            ],
            [
             0.5,
             "#f7f7f7"
            ],
            [
             0.6,
             "#e6f5d0"
            ],
            [
             0.7,
             "#b8e186"
            ],
            [
             0.8,
             "#7fbc41"
            ],
            [
             0.9,
             "#4d9221"
            ],
            [
             1,
             "#276419"
            ]
           ],
           "sequential": [
            [
             0,
             "#0d0887"
            ],
            [
             0.1111111111111111,
             "#46039f"
            ],
            [
             0.2222222222222222,
             "#7201a8"
            ],
            [
             0.3333333333333333,
             "#9c179e"
            ],
            [
             0.4444444444444444,
             "#bd3786"
            ],
            [
             0.5555555555555556,
             "#d8576b"
            ],
            [
             0.6666666666666666,
             "#ed7953"
            ],
            [
             0.7777777777777778,
             "#fb9f3a"
            ],
            [
             0.8888888888888888,
             "#fdca26"
            ],
            [
             1,
             "#f0f921"
            ]
           ],
           "sequentialminus": [
            [
             0,
             "#0d0887"
            ],
            [
             0.1111111111111111,
             "#46039f"
            ],
            [
             0.2222222222222222,
             "#7201a8"
            ],
            [
             0.3333333333333333,
             "#9c179e"
            ],
            [
             0.4444444444444444,
             "#bd3786"
            ],
            [
             0.5555555555555556,
             "#d8576b"
            ],
            [
             0.6666666666666666,
             "#ed7953"
            ],
            [
             0.7777777777777778,
             "#fb9f3a"
            ],
            [
             0.8888888888888888,
             "#fdca26"
            ],
            [
             1,
             "#f0f921"
            ]
           ]
          },
          "colorway": [
           "#636efa",
           "#EF553B",
           "#00cc96",
           "#ab63fa",
           "#FFA15A",
           "#19d3f3",
           "#FF6692",
           "#B6E880",
           "#FF97FF",
           "#FECB52"
          ],
          "font": {
           "color": "#f2f5fa"
          },
          "geo": {
           "bgcolor": "rgb(17,17,17)",
           "lakecolor": "rgb(17,17,17)",
           "landcolor": "rgb(17,17,17)",
           "showlakes": true,
           "showland": true,
           "subunitcolor": "#506784"
          },
          "hoverlabel": {
           "align": "left"
          },
          "hovermode": "closest",
          "mapbox": {
           "style": "dark"
          },
          "paper_bgcolor": "rgb(17,17,17)",
          "plot_bgcolor": "rgb(17,17,17)",
          "polar": {
           "angularaxis": {
            "gridcolor": "#506784",
            "linecolor": "#506784",
            "ticks": ""
           },
           "bgcolor": "rgb(17,17,17)",
           "radialaxis": {
            "gridcolor": "#506784",
            "linecolor": "#506784",
            "ticks": ""
           }
          },
          "scene": {
           "xaxis": {
            "backgroundcolor": "rgb(17,17,17)",
            "gridcolor": "#506784",
            "gridwidth": 2,
            "linecolor": "#506784",
            "showbackground": true,
            "ticks": "",
            "zerolinecolor": "#C8D4E3"
           },
           "yaxis": {
            "backgroundcolor": "rgb(17,17,17)",
            "gridcolor": "#506784",
            "gridwidth": 2,
            "linecolor": "#506784",
            "showbackground": true,
            "ticks": "",
            "zerolinecolor": "#C8D4E3"
           },
           "zaxis": {
            "backgroundcolor": "rgb(17,17,17)",
            "gridcolor": "#506784",
            "gridwidth": 2,
            "linecolor": "#506784",
            "showbackground": true,
            "ticks": "",
            "zerolinecolor": "#C8D4E3"
           }
          },
          "shapedefaults": {
           "line": {
            "color": "#f2f5fa"
           }
          },
          "sliderdefaults": {
           "bgcolor": "#C8D4E3",
           "bordercolor": "rgb(17,17,17)",
           "borderwidth": 1,
           "tickwidth": 0
          },
          "ternary": {
           "aaxis": {
            "gridcolor": "#506784",
            "linecolor": "#506784",
            "ticks": ""
           },
           "baxis": {
            "gridcolor": "#506784",
            "linecolor": "#506784",
            "ticks": ""
           },
           "bgcolor": "rgb(17,17,17)",
           "caxis": {
            "gridcolor": "#506784",
            "linecolor": "#506784",
            "ticks": ""
           }
          },
          "title": {
           "x": 0.05
          },
          "updatemenudefaults": {
           "bgcolor": "#506784",
           "borderwidth": 0
          },
          "xaxis": {
           "automargin": true,
           "gridcolor": "#283442",
           "linecolor": "#506784",
           "ticks": "",
           "title": {
            "standoff": 15
           },
           "zerolinecolor": "#283442",
           "zerolinewidth": 2
          },
          "yaxis": {
           "automargin": true,
           "gridcolor": "#283442",
           "linecolor": "#506784",
           "ticks": "",
           "title": {
            "standoff": 15
           },
           "zerolinecolor": "#283442",
           "zerolinewidth": 2
          }
         }
        },
        "title": {
         "text": "Observe Backward Elimination in All Models With Repect to Scopes<br><span style=\"font-size: 12.5px; color: lightgrey;\"> -- How meansures are changed by removing the impact of each coefficient</span>"
        },
        "width": 800,
        "xaxis": {
         "anchor": "y",
         "domain": [
          0,
          0.45
         ]
        },
        "xaxis2": {
         "anchor": "y2",
         "domain": [
          0.55,
          1
         ]
        },
        "yaxis": {
         "anchor": "x",
         "domain": [
          0,
          1
         ],
         "title": {
          "text": "Difference"
         }
        },
        "yaxis2": {
         "anchor": "x2",
         "domain": [
          0,
          1
         ]
        }
       }
      }
     },
     "metadata": {},
     "output_type": "display_data"
    },
    {
     "data": {
      "application/vnd.plotly.v1+json": {
       "config": {
        "plotlyServerURL": "https://plot.ly"
       },
       "data": [
        {
         "alignmentgroup": "True",
         "boxpoints": "all",
         "fillcolor": "rgba(255,255,255,0)",
         "hoveron": "points",
         "hovertemplate": "ma=1<br>theta=%{x}<br>diff=%{y}<extra></extra>",
         "legendgroup": "1",
         "line": {
          "color": "rgba(255,255,255,0)"
         },
         "marker": {
          "color": "#636efa",
          "opacity": 0.5,
          "size": 5
         },
         "name": "1",
         "offsetgroup": "1",
         "orientation": "v",
         "pointpos": 0,
         "showlegend": true,
         "type": "box",
         "x": [
          "CSENT",
          "IPM",
          "HOUSE",
          "UNEMP",
          "LRIR",
          "CSENT",
          "IPM",
          "HOUSE",
          "UNEMP",
          "LRIR",
          "CSENT",
          "IPM",
          "HOUSE",
          "UNEMP",
          "LRIR",
          "CSENT",
          "IPM",
          "HOUSE",
          "UNEMP",
          "LRIR",
          "CSENT",
          "IPM",
          "HOUSE",
          "UNEMP",
          "LRIR",
          "CSENT",
          "IPM",
          "HOUSE",
          "UNEMP",
          "LRIR",
          "CSENT",
          "IPM",
          "HOUSE",
          "UNEMP",
          "LRIR",
          "CSENT",
          "IPM",
          "HOUSE",
          "UNEMP",
          "LRIR",
          "CSENT",
          "IPM",
          "HOUSE",
          "UNEMP",
          "LRIR",
          "CSENT",
          "IPM",
          "HOUSE",
          "UNEMP",
          "LRIR",
          "CSENT",
          "IPM",
          "HOUSE",
          "UNEMP",
          "LRIR",
          "CSENT",
          "IPM",
          "HOUSE",
          "UNEMP",
          "LRIR",
          "CSENT",
          "IPM",
          "HOUSE",
          "UNEMP",
          "LRIR",
          "CSENT",
          "IPM",
          "HOUSE",
          "UNEMP",
          "LRIR",
          "CSENT",
          "IPM",
          "HOUSE",
          "UNEMP",
          "LRIR",
          "CSENT",
          "IPM",
          "HOUSE",
          "UNEMP",
          "LRIR",
          "CSENT",
          "IPM",
          "HOUSE",
          "UNEMP",
          "LRIR",
          "CSENT",
          "IPM",
          "HOUSE",
          "UNEMP",
          "LRIR"
         ],
         "x0": " ",
         "xaxis": "x",
         "y": [
          -2.2177404144378743,
          -0.6374795109383538,
          -1.3737131231569633,
          -0.5295132252796124,
          -1.4373762074750314,
          -3.1174670744754067,
          -0.6149397561461312,
          -2.2206417257292355,
          -0.19766370943602762,
          -1.894041164971208,
          -3.1443952898567105,
          -0.7088622291996671,
          -1.8677462548636434,
          0.2612263932411869,
          -1.3447732945078688,
          -3.0515478852364115,
          -0.9825990364420543,
          -1.6750625965730706,
          0.3863028848870558,
          -1.2704119442510127,
          -3.5603831474123675,
          -1.4426980866197976,
          -1.39501475179594,
          0.49351109774953006,
          -1.596948282124531,
          -3.5971663944602295,
          -1.7633002036266054,
          -1.0653691712477436,
          0.4159638938805239,
          -1.4646336827887394,
          -1.121386539983039,
          -0.7732590277353903,
          -1.1933344316657895,
          -0.6267771707736429,
          -1.4298500079667225,
          -1.7455873921854987,
          -0.763671637856703,
          -1.9485924147479796,
          -0.8470060513972548,
          -1.6454137002416402,
          -1.5929499139810215,
          -0.8090376292401853,
          -1.9378390213186272,
          -0.6304007215688383,
          -1.3780870563398278,
          -1.3304979801456955,
          -0.899520757244801,
          -1.9514334005430456,
          -0.5804877181202883,
          -1.0307317499858062,
          -1.4217193908616945,
          -1.2805058481363982,
          -1.7345567364804992,
          -0.40564181934005994,
          -0.8658248080820528,
          -1.3959958011250464,
          -1.5694971663699508,
          -1.1385931777352898,
          -0.27917808472544614,
          -0.6924547522296329,
          -0.21127594262355842,
          -0.6683826856534569,
          -1.2986235886603712,
          -0.45853365051879535,
          -1.667942977757182,
          -0.7715764798672016,
          -0.8075347658629806,
          -1.785672057102829,
          -0.8018077921208437,
          -1.543978977979485,
          -0.7746212110120698,
          -0.8055861163463884,
          -1.7727950975857496,
          -0.8030399011681748,
          -1.2949972649970363,
          -0.7318357112377019,
          -0.9734591519321469,
          -1.8858718487554782,
          -0.8930977533830848,
          -1.046932111260407,
          -0.7788689396501844,
          -1.4260143645253454,
          -1.741431503278342,
          -0.8999761836414546,
          -0.958135066021562,
          -0.7821311913061795,
          -1.6807875363585154,
          -1.2571543558652394,
          -0.9208757525350961,
          -0.7338117308864671
         ],
         "y0": " ",
         "yaxis": "y"
        },
        {
         "alignmentgroup": "True",
         "boxpoints": "all",
         "fillcolor": "rgba(255,255,255,0)",
         "hoveron": "points",
         "hovertemplate": "ma=1<br>theta=%{x}<br>diff=%{y}<extra></extra>",
         "legendgroup": "1",
         "line": {
          "color": "rgba(255,255,255,0)"
         },
         "marker": {
          "color": "#636efa",
          "opacity": 0.5,
          "size": 5
         },
         "name": "1",
         "offsetgroup": "1",
         "orientation": "v",
         "pointpos": 0,
         "showlegend": false,
         "type": "box",
         "x": [
          "CSENT",
          "IPM",
          "HOUSE",
          "UNEMP",
          "LRIR",
          "CSENT",
          "IPM",
          "HOUSE",
          "UNEMP",
          "LRIR",
          "CSENT",
          "IPM",
          "HOUSE",
          "UNEMP",
          "LRIR",
          "CSENT",
          "IPM",
          "HOUSE",
          "UNEMP",
          "LRIR",
          "CSENT",
          "IPM",
          "HOUSE",
          "UNEMP",
          "LRIR",
          "CSENT",
          "IPM",
          "HOUSE",
          "UNEMP",
          "LRIR",
          "CSENT",
          "IPM",
          "HOUSE",
          "UNEMP",
          "LRIR",
          "CSENT",
          "IPM",
          "HOUSE",
          "UNEMP",
          "LRIR",
          "CSENT",
          "IPM",
          "HOUSE",
          "UNEMP",
          "LRIR",
          "CSENT",
          "IPM",
          "HOUSE",
          "UNEMP",
          "LRIR",
          "CSENT",
          "IPM",
          "HOUSE",
          "UNEMP",
          "LRIR",
          "CSENT",
          "IPM",
          "HOUSE",
          "UNEMP",
          "LRIR",
          "CSENT",
          "IPM",
          "HOUSE",
          "UNEMP",
          "LRIR",
          "CSENT",
          "IPM",
          "HOUSE",
          "UNEMP",
          "LRIR",
          "CSENT",
          "IPM",
          "HOUSE",
          "UNEMP",
          "LRIR",
          "CSENT",
          "IPM",
          "HOUSE",
          "UNEMP",
          "LRIR",
          "CSENT",
          "IPM",
          "HOUSE",
          "UNEMP",
          "LRIR",
          "CSENT",
          "IPM",
          "HOUSE",
          "UNEMP",
          "LRIR"
         ],
         "x0": " ",
         "xaxis": "x2",
         "y": [
          0.11600595664975055,
          0.03742327591471484,
          0.07654988168121046,
          0.031316530295195766,
          0.0797270708471477,
          0.15533352787470167,
          0.036855340752231514,
          0.11869030886164478,
          0.012179724831421601,
          0.10373213432945416,
          0.15539553025581,
          0.04198885374690542,
          0.10191221904977721,
          -0.016494684831601658,
          0.07621054037213615,
          0.15144122989539566,
          0.05694302399028173,
          0.09240571179704293,
          -0.024514308631473414,
          0.072151154665553,
          0.1698626106992649,
          0.0811114460639153,
          0.07869799345792816,
          -0.03158742396189096,
          0.08879347801546944,
          0.17126716626405813,
          0.09692754769393463,
          0.0615459355592205,
          -0.02650225971123965,
          0.0822650831980718,
          0.08848383827660111,
          0.062104269107650545,
          0.09381338779555715,
          0.05071123682662115,
          0.11103798294320044,
          0.14284868159780273,
          0.06552273092513072,
          0.15786390815479712,
          0.07238773597286474,
          0.13531670328336698,
          0.13460197937254048,
          0.07091817001097034,
          0.16105144952169181,
          0.05571310395777129,
          0.11763955012537874,
          0.1133612295802231,
          0.07820074171625269,
          0.1613912879154904,
          0.051210355911407546,
          0.08906359271481357,
          0.11831834229337002,
          0.10729317268831706,
          0.1421719369781993,
          0.03541519997621767,
          0.073990506154759,
          0.11384353886578624,
          0.1269000428581616,
          0.09402820214781127,
          0.0240179348962567,
          0.05842431561360406,
          0.020295097665819606,
          0.06296786879850613,
          0.11902936256520513,
          0.04358764648201641,
          0.15038689387112647,
          0.07711383257982285,
          0.08059035148223448,
          0.1711527464432988,
          0.08003735542206836,
          0.1494940324980364,
          0.07954911344580062,
          0.08262851112944192,
          0.17492512187425713,
          0.08237558672539003,
          0.13027320899535688,
          0.0763060082184529,
          0.10055296355710586,
          0.1878775012536118,
          0.09254082029002508,
          0.10783284716203012,
          0.08013748965685641,
          0.14301224631210774,
          0.1724367636752192,
          0.0921600137983748,
          0.0978916343771109,
          0.07897290363340947,
          0.16365139673361107,
          0.12454071819807488,
          0.0924695244862287,
          0.07423627830163382
         ],
         "y0": " ",
         "yaxis": "y2"
        },
        {
         "alignmentgroup": "True",
         "boxpoints": "all",
         "fillcolor": "rgba(255,255,255,0)",
         "hoveron": "points",
         "hovertemplate": "ma=2<br>theta=%{x}<br>diff=%{y}<extra></extra>",
         "legendgroup": "2",
         "line": {
          "color": "rgba(255,255,255,0)"
         },
         "marker": {
          "color": "#EF553B",
          "opacity": 0.5,
          "size": 5
         },
         "name": "2",
         "offsetgroup": "2",
         "orientation": "v",
         "pointpos": 0,
         "showlegend": true,
         "type": "box",
         "x": [
          "CSENT",
          "IPM",
          "HOUSE",
          "UNEMP",
          "LRIR",
          "CSENT",
          "IPM",
          "HOUSE",
          "UNEMP",
          "LRIR",
          "CSENT",
          "IPM",
          "HOUSE",
          "UNEMP",
          "LRIR",
          "CSENT",
          "IPM",
          "HOUSE",
          "UNEMP",
          "LRIR",
          "CSENT",
          "IPM",
          "HOUSE",
          "UNEMP",
          "LRIR",
          "CSENT",
          "IPM",
          "HOUSE",
          "UNEMP",
          "LRIR",
          "CSENT",
          "IPM",
          "HOUSE",
          "UNEMP",
          "LRIR",
          "CSENT",
          "IPM",
          "HOUSE",
          "UNEMP",
          "LRIR",
          "CSENT",
          "IPM",
          "HOUSE",
          "UNEMP",
          "LRIR",
          "CSENT",
          "IPM",
          "HOUSE",
          "UNEMP",
          "LRIR",
          "CSENT",
          "IPM",
          "HOUSE",
          "UNEMP",
          "LRIR",
          "CSENT",
          "IPM",
          "HOUSE",
          "UNEMP",
          "LRIR",
          "CSENT",
          "IPM",
          "HOUSE",
          "UNEMP",
          "LRIR",
          "CSENT",
          "IPM",
          "HOUSE",
          "UNEMP",
          "LRIR",
          "CSENT",
          "IPM",
          "HOUSE",
          "UNEMP",
          "LRIR",
          "CSENT",
          "IPM",
          "HOUSE",
          "UNEMP",
          "LRIR",
          "CSENT",
          "IPM",
          "HOUSE",
          "UNEMP",
          "LRIR",
          "CSENT",
          "IPM",
          "HOUSE",
          "UNEMP",
          "LRIR"
         ],
         "x0": " ",
         "xaxis": "x",
         "y": [
          0.08938467694074603,
          -0.12884468712444086,
          -0.06059168742911769,
          0.7276020380001853,
          0.7900131040769516,
          -1.1674854271856283,
          -0.09391297392227482,
          0.15419986902833038,
          0.5134150550514027,
          -0.033767439295144364,
          -1.81409910105367,
          0.3101493394293282,
          -0.8779142987983573,
          0.6096321319026394,
          -0.7547352700574246,
          -2.3698767447854845,
          0.2822088979315307,
          -1.1521050736063483,
          0.9400336230830293,
          -0.7223212865700575,
          -2.2604829772304162,
          0.06993591663470689,
          -0.9022965779146386,
          1.2018170417421263,
          -0.4315075393320553,
          -2.5991520307598197,
          -0.31491168977260564,
          -0.6895867070542989,
          1.2819962310409485,
          -0.6146584245952607,
          0.7033503514454633,
          -0.24123995813634647,
          -0.664100900097945,
          0.20043292327399342,
          0.16693907438251365,
          -0.43042118691820974,
          -0.5784688023946636,
          -0.8008200747151974,
          -0.18657284096939541,
          -0.8168989788837937,
          -1.3941588368813385,
          -0.6427335808275068,
          -1.4954993027172918,
          -0.6277708101376938,
          -1.4941639181711075,
          -1.6782267347781339,
          -0.6888359919639679,
          -1.9068327019051061,
          -0.6566938845371286,
          -1.4584121065707798,
          -1.4126851376271947,
          -0.7578029953390182,
          -1.9049058103616634,
          -0.5012315324710261,
          -1.133478485589288,
          -1.2988659099055138,
          -0.9966155302576052,
          -1.7927584952463285,
          -0.3924750162422832,
          -0.8701134025804826,
          1.1742823949454575,
          -0.17923244309677955,
          -0.8650174675131463,
          0.2839572891822453,
          -0.51344812672159,
          0.3980741699071757,
          -0.47253049655002854,
          -0.9939184447205012,
          -0.08100811624702686,
          -1.3717697087162435,
          -0.4419186982368881,
          -0.6472358470330484,
          -1.4748040777879368,
          -0.5668899319835514,
          -1.5990494561098192,
          -0.7629989341272161,
          -0.7344574949796705,
          -1.7531660062983718,
          -0.7672387900539643,
          -1.3895442156335864,
          -0.7208829763791336,
          -0.836063168281326,
          -1.8240848376403278,
          -0.7927169821397779,
          -1.1244639986555924,
          -0.6747816666070232,
          -1.1453334644102906,
          -1.7966847830516333,
          -0.8332659091233765,
          -0.9536721239941244
         ],
         "y0": " ",
         "yaxis": "y"
        },
        {
         "alignmentgroup": "True",
         "boxpoints": "all",
         "fillcolor": "rgba(255,255,255,0)",
         "hoveron": "points",
         "hovertemplate": "ma=2<br>theta=%{x}<br>diff=%{y}<extra></extra>",
         "legendgroup": "2",
         "line": {
          "color": "rgba(255,255,255,0)"
         },
         "marker": {
          "color": "#EF553B",
          "opacity": 0.5,
          "size": 5
         },
         "name": "2",
         "offsetgroup": "2",
         "orientation": "v",
         "pointpos": 0,
         "showlegend": false,
         "type": "box",
         "x": [
          "CSENT",
          "IPM",
          "HOUSE",
          "UNEMP",
          "LRIR",
          "CSENT",
          "IPM",
          "HOUSE",
          "UNEMP",
          "LRIR",
          "CSENT",
          "IPM",
          "HOUSE",
          "UNEMP",
          "LRIR",
          "CSENT",
          "IPM",
          "HOUSE",
          "UNEMP",
          "LRIR",
          "CSENT",
          "IPM",
          "HOUSE",
          "UNEMP",
          "LRIR",
          "CSENT",
          "IPM",
          "HOUSE",
          "UNEMP",
          "LRIR",
          "CSENT",
          "IPM",
          "HOUSE",
          "UNEMP",
          "LRIR",
          "CSENT",
          "IPM",
          "HOUSE",
          "UNEMP",
          "LRIR",
          "CSENT",
          "IPM",
          "HOUSE",
          "UNEMP",
          "LRIR",
          "CSENT",
          "IPM",
          "HOUSE",
          "UNEMP",
          "LRIR",
          "CSENT",
          "IPM",
          "HOUSE",
          "UNEMP",
          "LRIR",
          "CSENT",
          "IPM",
          "HOUSE",
          "UNEMP",
          "LRIR",
          "CSENT",
          "IPM",
          "HOUSE",
          "UNEMP",
          "LRIR",
          "CSENT",
          "IPM",
          "HOUSE",
          "UNEMP",
          "LRIR",
          "CSENT",
          "IPM",
          "HOUSE",
          "UNEMP",
          "LRIR",
          "CSENT",
          "IPM",
          "HOUSE",
          "UNEMP",
          "LRIR",
          "CSENT",
          "IPM",
          "HOUSE",
          "UNEMP",
          "LRIR",
          "CSENT",
          "IPM",
          "HOUSE",
          "UNEMP",
          "LRIR"
         ],
         "x0": " ",
         "xaxis": "x2",
         "y": [
          -0.004316630832318147,
          0.006103914121009635,
          0.0028878895669742777,
          -0.0370924422730049,
          -0.04048162691861801,
          0.05505996464931018,
          0.004852407048146046,
          -0.008128034852186938,
          -0.027837063228981607,
          0.0017532643393466385,
          0.08504544474055875,
          -0.01730104302508817,
          0.044601377424874245,
          -0.03477223975461019,
          0.038733040416441544,
          0.10768688808360771,
          -0.0159565107631382,
          0.058224458719873695,
          -0.05573942378811836,
          0.03780378847659094,
          0.10374612026444552,
          -0.003891011602636274,
          0.046533994470882356,
          -0.07255144746732078,
          0.02310324041419587,
          0.11604764600162165,
          0.017064517950301616,
          0.03628843627766132,
          -0.07801928400594149,
          0.03253779824366865,
          -0.05079787203662267,
          0.016463877152173345,
          0.044140827719404196,
          -0.01405153298875883,
          -0.011679881553250504,
          0.03234716103996238,
          0.043113672219382115,
          0.05893795893735687,
          0.01421242599533934,
          0.06006616372334417,
          0.10936281614928689,
          0.052442426892089,
          0.11667716347716361,
          0.05126093932595055,
          0.11658134047550017,
          0.13732587910014304,
          0.05921892059094791,
          0.15420750902642655,
          0.05654403406873987,
          0.12068084305824323,
          0.11835463513105116,
          0.06556310612058613,
          0.15567348543713566,
          0.043902784483416224,
          0.0962856057865733,
          0.10777426969868997,
          0.0839529000763477,
          0.14505739224420344,
          0.03405158677116915,
          0.07375631946830075,
          -0.10409123162101463,
          0.014866508928420341,
          0.06925235718766876,
          -0.024106553884311044,
          0.04186588422435644,
          -0.037011293180895466,
          0.04220648219134138,
          0.08660087674381434,
          0.007368835386919903,
          0.11734685332470107,
          0.04299957388950748,
          0.06242041010131694,
          0.13711725638667305,
          0.05486261548767546,
          0.1478361063952005,
          0.07725234198023134,
          0.07445031871953278,
          0.17023848729099145,
          0.07766800320083289,
          0.1370446047185564,
          0.07479026104871167,
          0.08633746084635652,
          0.18083374269757224,
          0.08200487612380813,
          0.11476408091204038,
          0.07000897113049254,
          0.1165781351527837,
          0.17798856363016524,
          0.08590026029471254,
          0.09783320234735926
         ],
         "y0": " ",
         "yaxis": "y2"
        },
        {
         "alignmentgroup": "True",
         "boxpoints": "all",
         "fillcolor": "rgba(255,255,255,0)",
         "hoveron": "points",
         "hovertemplate": "ma=3<br>theta=%{x}<br>diff=%{y}<extra></extra>",
         "legendgroup": "3",
         "line": {
          "color": "rgba(255,255,255,0)"
         },
         "marker": {
          "color": "#00cc96",
          "opacity": 0.5,
          "size": 5
         },
         "name": "3",
         "offsetgroup": "3",
         "orientation": "v",
         "pointpos": 0,
         "showlegend": true,
         "type": "box",
         "x": [
          "CSENT",
          "IPM",
          "HOUSE",
          "UNEMP",
          "LRIR",
          "CSENT",
          "IPM",
          "HOUSE",
          "UNEMP",
          "LRIR",
          "CSENT",
          "IPM",
          "HOUSE",
          "UNEMP",
          "LRIR",
          "CSENT",
          "IPM",
          "HOUSE",
          "UNEMP",
          "LRIR",
          "CSENT",
          "IPM",
          "HOUSE",
          "UNEMP",
          "LRIR",
          "CSENT",
          "IPM",
          "HOUSE",
          "UNEMP",
          "LRIR",
          "CSENT",
          "IPM",
          "HOUSE",
          "UNEMP",
          "LRIR",
          "CSENT",
          "IPM",
          "HOUSE",
          "UNEMP",
          "LRIR",
          "CSENT",
          "IPM",
          "HOUSE",
          "UNEMP",
          "LRIR",
          "CSENT",
          "IPM",
          "HOUSE",
          "UNEMP",
          "LRIR",
          "CSENT",
          "IPM",
          "HOUSE",
          "UNEMP",
          "LRIR",
          "CSENT",
          "IPM",
          "HOUSE",
          "UNEMP",
          "LRIR",
          "CSENT",
          "IPM",
          "HOUSE",
          "UNEMP",
          "LRIR",
          "CSENT",
          "IPM",
          "HOUSE",
          "UNEMP",
          "LRIR",
          "CSENT",
          "IPM",
          "HOUSE",
          "UNEMP",
          "LRIR",
          "CSENT",
          "IPM",
          "HOUSE",
          "UNEMP",
          "LRIR",
          "CSENT",
          "IPM",
          "HOUSE",
          "UNEMP",
          "LRIR",
          "CSENT",
          "IPM",
          "HOUSE",
          "UNEMP",
          "LRIR"
         ],
         "x0": " ",
         "xaxis": "x",
         "y": [
          0.36801387208349556,
          0.4361926455813778,
          -0.3688319014406165,
          0.7783786323331912,
          0.988626689547285,
          -0.24851606263399084,
          0.5459741208658908,
          0.39369348516506,
          1.0611386251919699,
          0.743129631973451,
          -1.1489991790820673,
          0.5759864970498523,
          0.10136784492278927,
          0.9833038504001523,
          0.08767187316446279,
          -1.6586644596813747,
          0.7859935366050648,
          -0.4427506039811959,
          1.205895531875309,
          -0.17585435653982007,
          -1.9427849621791005,
          0.6383194336608051,
          -0.5636857633068413,
          1.4532717471072045,
          -0.1546783296052423,
          -2.040050455864562,
          0.3703846517359164,
          -0.2758539150414947,
          1.672333733896175,
          -0.08044795039107822,
          0.5214140731823065,
          0.07994917033954341,
          -0.8364791798546864,
          0.16988161136243463,
          0.1009805682809306,
          0.16733545276185247,
          -0.21578187166359264,
          -0.6578837691006774,
          0.1390928348625522,
          -0.3199083916870551,
          -0.849273525955196,
          -0.4897629345230694,
          -1.0817819505722994,
          -0.2878890041424924,
          -1.0958577757513375,
          -1.482045110274937,
          -0.5739565392926487,
          -1.581766656773615,
          -0.5479719962014205,
          -1.369558187936864,
          -1.5349810822864178,
          -0.6571970479992402,
          -1.8541699339033162,
          -0.515008930202546,
          -1.2243344424247695,
          -1.286114132054914,
          -0.8102485486367286,
          -1.7514982184820962,
          -0.3492161026594651,
          -0.9468169615908657,
          0.8499115285154346,
          -0.0029270660144664618,
          -1.0362733291460788,
          0.2333203896140752,
          -0.5367231760433366,
          0.7886596224299325,
          -0.20498287564555184,
          -0.8903987848890118,
          0.17948488617540193,
          -0.982658177097484,
          0.06575170186783375,
          -0.48198100606259864,
          -1.1673442091122137,
          -0.2699393996738344,
          -1.5053209626895896,
          -0.5492137966883224,
          -0.6146750262073297,
          -1.5273224214379528,
          -0.6155857889725773,
          -1.4624880080518636,
          -0.7386262522784648,
          -0.7520731168794725,
          -1.7635696243479924,
          -0.7459971654208299,
          -1.2106387486611556,
          -0.6303875298689174,
          -0.9683065896771232,
          -1.7509688924553117,
          -0.7652632294043151,
          -1.0006740125971305
         ],
         "y0": " ",
         "yaxis": "y"
        },
        {
         "alignmentgroup": "True",
         "boxpoints": "all",
         "fillcolor": "rgba(255,255,255,0)",
         "hoveron": "points",
         "hovertemplate": "ma=3<br>theta=%{x}<br>diff=%{y}<extra></extra>",
         "legendgroup": "3",
         "line": {
          "color": "rgba(255,255,255,0)"
         },
         "marker": {
          "color": "#00cc96",
          "opacity": 0.5,
          "size": 5
         },
         "name": "3",
         "offsetgroup": "3",
         "orientation": "v",
         "pointpos": 0,
         "showlegend": false,
         "type": "box",
         "x": [
          "CSENT",
          "IPM",
          "HOUSE",
          "UNEMP",
          "LRIR",
          "CSENT",
          "IPM",
          "HOUSE",
          "UNEMP",
          "LRIR",
          "CSENT",
          "IPM",
          "HOUSE",
          "UNEMP",
          "LRIR",
          "CSENT",
          "IPM",
          "HOUSE",
          "UNEMP",
          "LRIR",
          "CSENT",
          "IPM",
          "HOUSE",
          "UNEMP",
          "LRIR",
          "CSENT",
          "IPM",
          "HOUSE",
          "UNEMP",
          "LRIR",
          "CSENT",
          "IPM",
          "HOUSE",
          "UNEMP",
          "LRIR",
          "CSENT",
          "IPM",
          "HOUSE",
          "UNEMP",
          "LRIR",
          "CSENT",
          "IPM",
          "HOUSE",
          "UNEMP",
          "LRIR",
          "CSENT",
          "IPM",
          "HOUSE",
          "UNEMP",
          "LRIR",
          "CSENT",
          "IPM",
          "HOUSE",
          "UNEMP",
          "LRIR",
          "CSENT",
          "IPM",
          "HOUSE",
          "UNEMP",
          "LRIR",
          "CSENT",
          "IPM",
          "HOUSE",
          "UNEMP",
          "LRIR",
          "CSENT",
          "IPM",
          "HOUSE",
          "UNEMP",
          "LRIR",
          "CSENT",
          "IPM",
          "HOUSE",
          "UNEMP",
          "LRIR",
          "CSENT",
          "IPM",
          "HOUSE",
          "UNEMP",
          "LRIR",
          "CSENT",
          "IPM",
          "HOUSE",
          "UNEMP",
          "LRIR",
          "CSENT",
          "IPM",
          "HOUSE",
          "UNEMP",
          "LRIR"
         ],
         "x0": " ",
         "xaxis": "x2",
         "y": [
          -0.017313332858638786,
          -0.020650102124703862,
          0.016170416032953217,
          -0.03800760089048716,
          -0.04917740332328824,
          0.011085404250008812,
          -0.026235350830821402,
          -0.018657872981756807,
          -0.053361285966939676,
          -0.0363446146714731,
          0.05109705501140449,
          -0.02991724448732891,
          -0.005056792579341551,
          -0.05280808086892963,
          -0.004368361453523595,
          0.07345217474475885,
          -0.043115769255474334,
          0.021934654112283902,
          -0.06833913692498284,
          0.008915094089999243,
          0.08525048584888884,
          -0.03512876698865064,
          0.028093807779498325,
          -0.08509563488569105,
          0.007982447123762837,
          0.08815902446188151,
          -0.019865318836151058,
          0.014024591140680664,
          -0.09910673402896975,
          0.0041579823110247105,
          -0.03646421969660196,
          -0.005437684038524404,
          0.05356020164876241,
          -0.011620786201182676,
          -0.006877351159869538,
          -0.011952498504811282,
          0.015054379531446171,
          0.04463682515372158,
          -0.009918135758301805,
          0.022174457386025637,
          0.06374223172031956,
          0.037521644031165424,
          0.08010394536906618,
          0.022307382603801162,
          0.08107943654854799,
          0.11691893003688592,
          0.04753337116719125,
          0.12410390603061083,
          0.04544298014254444,
          0.1087109821645329,
          0.12526637544185082,
          0.05612500114041252,
          0.14875743389058738,
          0.04429846546640004,
          0.10155858249299943,
          0.10579956049302663,
          0.06832023847389124,
          0.1405597269161004,
          0.030141928906458837,
          0.07927672236189542,
          -0.07420918604908389,
          0.0002447223305614976,
          0.08198446988372465,
          -0.0197467618554108,
          0.04362822709369163,
          -0.07071181118060488,
          0.017495487874371385,
          0.07334934664622161,
          -0.015618513441057358,
          0.0805562770141115,
          -0.006217387084619275,
          0.044432212763242496,
          0.1041489557051064,
          0.025132675722930986,
          0.1320996369755384,
          0.054411154163856446,
          0.060722468392509166,
          0.1448534742919364,
          0.06081001637859218,
          0.13911450328427843,
          0.07571772784336706,
          0.07705248967394884,
          0.17297601706712495,
          0.07644957247349848,
          0.12163535290556071,
          0.06546288012250401,
          0.09913973455810832,
          0.17334811849515086,
          0.07902291507526416,
          0.10231364537081888
         ],
         "y0": " ",
         "yaxis": "y2"
        },
        {
         "alignmentgroup": "True",
         "boxpoints": "all",
         "fillcolor": "rgba(255,255,255,0)",
         "hoveron": "points",
         "hovertemplate": "ma=4<br>theta=%{x}<br>diff=%{y}<extra></extra>",
         "legendgroup": "4",
         "line": {
          "color": "rgba(255,255,255,0)"
         },
         "marker": {
          "color": "#ab63fa",
          "opacity": 0.5,
          "size": 5
         },
         "name": "4",
         "offsetgroup": "4",
         "orientation": "v",
         "pointpos": 0,
         "showlegend": true,
         "type": "box",
         "x": [
          "CSENT",
          "IPM",
          "HOUSE",
          "UNEMP",
          "LRIR",
          "CSENT",
          "IPM",
          "HOUSE",
          "UNEMP",
          "LRIR",
          "CSENT",
          "IPM",
          "HOUSE",
          "UNEMP",
          "LRIR",
          "CSENT",
          "IPM",
          "HOUSE",
          "UNEMP",
          "LRIR",
          "CSENT",
          "IPM",
          "HOUSE",
          "UNEMP",
          "LRIR",
          "CSENT",
          "IPM",
          "HOUSE",
          "UNEMP",
          "LRIR",
          "CSENT",
          "IPM",
          "HOUSE",
          "UNEMP",
          "LRIR",
          "CSENT",
          "IPM",
          "HOUSE",
          "UNEMP",
          "LRIR",
          "CSENT",
          "IPM",
          "HOUSE",
          "UNEMP",
          "LRIR",
          "CSENT",
          "IPM",
          "HOUSE",
          "UNEMP",
          "LRIR",
          "CSENT",
          "IPM",
          "HOUSE",
          "UNEMP",
          "LRIR",
          "CSENT",
          "IPM",
          "HOUSE",
          "UNEMP",
          "LRIR",
          "CSENT",
          "IPM",
          "HOUSE",
          "UNEMP",
          "LRIR",
          "CSENT",
          "IPM",
          "HOUSE",
          "UNEMP",
          "LRIR",
          "CSENT",
          "IPM",
          "HOUSE",
          "UNEMP",
          "LRIR",
          "CSENT",
          "IPM",
          "HOUSE",
          "UNEMP",
          "LRIR",
          "CSENT",
          "IPM",
          "HOUSE",
          "UNEMP",
          "LRIR",
          "CSENT",
          "IPM",
          "HOUSE",
          "UNEMP",
          "LRIR"
         ],
         "x0": " ",
         "xaxis": "x",
         "y": [
          0.11971031268949872,
          1.0382993689294366,
          -0.6943458168918806,
          0.7222893639159418,
          0.8582820725921998,
          0.04929595531506159,
          0.9106918009871423,
          0.15967432070393084,
          1.0556434597103141,
          0.9946729860718149,
          -0.5299013083728887,
          0.9540115629997423,
          0.3330343184907383,
          1.2462303140634052,
          0.6299669730113937,
          -1.2302954360335265,
          0.9258172324377902,
          0.20629714518480569,
          1.3115490901831324,
          0.33167105395060137,
          -1.528038020674197,
          0.9745418666686536,
          -0.11174885554313008,
          1.5055285771894305,
          0.14550977700407408,
          -1.811592196738815,
          0.7639480154197607,
          -0.09918047715489564,
          1.7527519420831057,
          0.09177111838938767,
          0.18075842861017577,
          0.5038624832380627,
          -1.0071159335965234,
          0.14303737829088803,
          -0.05233366880560908,
          0.25288459045305967,
          0.10932341414912727,
          -0.735720628484672,
          0.22311783013298125,
          -0.16687041682899206,
          -0.3008402694451373,
          -0.16387674988121947,
          -0.8590549212815013,
          0.02758680696901905,
          -0.666206399646339,
          -1.0904703332677599,
          -0.439017647496728,
          -1.227431266345711,
          -0.30289910826129507,
          -1.0932806711539378,
          -1.4497898673933562,
          -0.5491662102566295,
          -1.602097250577457,
          -0.46382307123616684,
          -1.2030257719364421,
          -1.3626373250732673,
          -0.6747237087342057,
          -1.7150859505420222,
          -0.36039287747781223,
          -1.02125738394958,
          0.4354798086862477,
          0.31291608675681637,
          -1.1675941538648864,
          0.15624144630795023,
          -0.6779738059676976,
          0.7056246857789397,
          -0.0009805205068431633,
          -0.9818631786456624,
          0.2325248076052553,
          -0.8439952140274212,
          0.46151534710190134,
          -0.21638975500010105,
          -1.0043002030949477,
          0.007623773987075921,
          -1.2308940034259166,
          -0.155957534418679,
          -0.46120616972731554,
          -1.2539339728219332,
          -0.37582683569226916,
          -1.4348124996569585,
          -0.5945915776362991,
          -0.625854416978683,
          -1.5703174011226793,
          -0.6218960195706646,
          -1.296133565544558,
          -0.633577950628796,
          -0.8450554984067136,
          -1.70144970279007,
          -0.7237777428300749,
          -1.0606301857034435
         ],
         "y0": " ",
         "yaxis": "y"
        },
        {
         "alignmentgroup": "True",
         "boxpoints": "all",
         "fillcolor": "rgba(255,255,255,0)",
         "hoveron": "points",
         "hovertemplate": "ma=4<br>theta=%{x}<br>diff=%{y}<extra></extra>",
         "legendgroup": "4",
         "line": {
          "color": "rgba(255,255,255,0)"
         },
         "marker": {
          "color": "#ab63fa",
          "opacity": 0.5,
          "size": 5
         },
         "name": "4",
         "offsetgroup": "4",
         "orientation": "v",
         "pointpos": 0,
         "showlegend": false,
         "type": "box",
         "x": [
          "CSENT",
          "IPM",
          "HOUSE",
          "UNEMP",
          "LRIR",
          "CSENT",
          "IPM",
          "HOUSE",
          "UNEMP",
          "LRIR",
          "CSENT",
          "IPM",
          "HOUSE",
          "UNEMP",
          "LRIR",
          "CSENT",
          "IPM",
          "HOUSE",
          "UNEMP",
          "LRIR",
          "CSENT",
          "IPM",
          "HOUSE",
          "UNEMP",
          "LRIR",
          "CSENT",
          "IPM",
          "HOUSE",
          "UNEMP",
          "LRIR",
          "CSENT",
          "IPM",
          "HOUSE",
          "UNEMP",
          "LRIR",
          "CSENT",
          "IPM",
          "HOUSE",
          "UNEMP",
          "LRIR",
          "CSENT",
          "IPM",
          "HOUSE",
          "UNEMP",
          "LRIR",
          "CSENT",
          "IPM",
          "HOUSE",
          "UNEMP",
          "LRIR",
          "CSENT",
          "IPM",
          "HOUSE",
          "UNEMP",
          "LRIR",
          "CSENT",
          "IPM",
          "HOUSE",
          "UNEMP",
          "LRIR",
          "CSENT",
          "IPM",
          "HOUSE",
          "UNEMP",
          "LRIR",
          "CSENT",
          "IPM",
          "HOUSE",
          "UNEMP",
          "LRIR",
          "CSENT",
          "IPM",
          "HOUSE",
          "UNEMP",
          "LRIR",
          "CSENT",
          "IPM",
          "HOUSE",
          "UNEMP",
          "LRIR",
          "CSENT",
          "IPM",
          "HOUSE",
          "UNEMP",
          "LRIR",
          "CSENT",
          "IPM",
          "HOUSE",
          "UNEMP",
          "LRIR"
         ],
         "x0": " ",
         "xaxis": "x2",
         "y": [
          -0.005402053268533935,
          -0.05112883240246313,
          0.02879987828898145,
          -0.03454465090483305,
          -0.04157182214014843,
          -0.002154668484503852,
          -0.043314021254853285,
          -0.00705800860823369,
          -0.05089257742590769,
          -0.0476819353810044,
          0.022637769677748,
          -0.0470775651527241,
          -0.015510759871212976,
          -0.0631238342516629,
          -0.030175401671153956,
          0.05287222845162509,
          -0.04869246657376214,
          -0.010187804750878326,
          -0.07123660186068348,
          -0.01656479480833295,
          0.06631791270809595,
          -0.05317866842184105,
          0.005556214534508719,
          -0.08572068197614158,
          -0.007401864875343223,
          0.07683662304077765,
          -0.041188929524555884,
          0.0049651000434230985,
          -0.10224108055975345,
          -0.004672437304172217,
          -0.012372420514363158,
          -0.03521762631785008,
          0.06357278835832947,
          -0.009766336744982729,
          0.003527426669747813,
          -0.017418115355750885,
          -0.007459749514505232,
          0.04742153960667661,
          -0.01533814263064781,
          0.011180359823167452,
          0.0214826852491532,
          0.011802491207215438,
          0.05920289035386517,
          -0.0020104021165323616,
          0.04648618049170272,
          0.08259452754372898,
          0.034528018673708916,
          0.09221826835436997,
          0.024006453892739588,
          0.0827936815492738,
          0.11473910594394077,
          0.04566905000060706,
          0.12570415739886098,
          0.038748488999078456,
          0.09653441300192556,
          0.11002688012225303,
          0.05655376589044159,
          0.1357860078293598,
          0.030713194392285592,
          0.0840189391824806,
          -0.03775164751434601,
          -0.02695474401045339,
          0.09282995424996088,
          -0.013349007070238894,
          0.055390218483842624,
          -0.06194795390346819,
          0.00008298258208738751,
          0.07878850719381825,
          -0.019921696219580287,
          0.06824590025137145,
          -0.04209959207138181,
          0.019084116023911357,
          0.08503905555989011,
          -0.0006799915080720753,
          0.10298042040741795,
          0.015041202849115032,
          0.04385261312638444,
          0.11479257564538792,
          0.03587768644427336,
          0.1301934761903809,
          0.05983074116615639,
          0.06288925389395383,
          0.1511760169580536,
          0.06250247740889092,
          0.1263658604935971,
          0.06532999241034976,
          0.08633793706158754,
          0.1673270659128594,
          0.07433919268490075,
          0.10734175201175711
         ],
         "y0": " ",
         "yaxis": "y2"
        },
        {
         "alignmentgroup": "True",
         "boxpoints": "all",
         "fillcolor": "rgba(255,255,255,0)",
         "hoveron": "points",
         "hovertemplate": "ma=5<br>theta=%{x}<br>diff=%{y}<extra></extra>",
         "legendgroup": "5",
         "line": {
          "color": "rgba(255,255,255,0)"
         },
         "marker": {
          "color": "#FFA15A",
          "opacity": 0.5,
          "size": 5
         },
         "name": "5",
         "offsetgroup": "5",
         "orientation": "v",
         "pointpos": 0,
         "showlegend": true,
         "type": "box",
         "x": [
          "CSENT",
          "IPM",
          "HOUSE",
          "UNEMP",
          "LRIR",
          "CSENT",
          "IPM",
          "HOUSE",
          "UNEMP",
          "LRIR",
          "CSENT",
          "IPM",
          "HOUSE",
          "UNEMP",
          "LRIR",
          "CSENT",
          "IPM",
          "HOUSE",
          "UNEMP",
          "LRIR",
          "CSENT",
          "IPM",
          "HOUSE",
          "UNEMP",
          "LRIR",
          "CSENT",
          "IPM",
          "HOUSE",
          "UNEMP",
          "LRIR",
          "CSENT",
          "IPM",
          "HOUSE",
          "UNEMP",
          "LRIR",
          "CSENT",
          "IPM",
          "HOUSE",
          "UNEMP",
          "LRIR",
          "CSENT",
          "IPM",
          "HOUSE",
          "UNEMP",
          "LRIR",
          "CSENT",
          "IPM",
          "HOUSE",
          "UNEMP",
          "LRIR",
          "CSENT",
          "IPM",
          "HOUSE",
          "UNEMP",
          "LRIR",
          "CSENT",
          "IPM",
          "HOUSE",
          "UNEMP",
          "LRIR",
          "CSENT",
          "IPM",
          "HOUSE",
          "UNEMP",
          "LRIR",
          "CSENT",
          "IPM",
          "HOUSE",
          "UNEMP",
          "LRIR",
          "CSENT",
          "IPM",
          "HOUSE",
          "UNEMP",
          "LRIR",
          "CSENT",
          "IPM",
          "HOUSE",
          "UNEMP",
          "LRIR",
          "CSENT",
          "IPM",
          "HOUSE",
          "UNEMP",
          "LRIR",
          "CSENT",
          "IPM",
          "HOUSE",
          "UNEMP",
          "LRIR"
         ],
         "x0": " ",
         "xaxis": "x",
         "y": [
          -0.11119860285460614,
          1.4196168892204515,
          -0.8721128525605883,
          0.7925853758078301,
          0.821937441688898,
          0.0005127506335496079,
          1.3940601909248382,
          -0.1723188141496692,
          0.9702724719140283,
          0.9672309138275947,
          -0.2250225892237605,
          1.2433820933584254,
          0.20449332118387797,
          1.197108640191498,
          0.9012673817614063,
          -0.7453880309799157,
          1.217071324241406,
          0.3937156313596537,
          1.4250015326115992,
          0.7317547938628417,
          -1.2490998108426816,
          1.0686958242494988,
          0.3464741112201306,
          1.5101260382035901,
          0.48619036662123793,
          -1.501054040853354,
          1.0562316375575937,
          0.1936586429878524,
          1.7409822301687177,
          0.3155587528005963,
          -0.13111598230371424,
          0.7077288869070255,
          -1.1277545071898425,
          0.20884877190660767,
          -0.14373155985190245,
          0.10106241937654303,
          0.518315420423396,
          -0.8733355927528343,
          0.25228327458752275,
          -0.1798662551236916,
          -0.08127478531486254,
          0.1681659623939451,
          -0.8239558208818023,
          0.1596108774538436,
          -0.4241039002970721,
          -0.6358055998213548,
          -0.14051129460644418,
          -0.9925094908678957,
          -0.038150308037927516,
          -0.7525114529723158,
          -1.1791668731642169,
          -0.42802716671901386,
          -1.3007908289309134,
          -0.28466185721316606,
          -1.0257755171433391,
          -1.3125839004250928,
          -0.5530524305376225,
          -1.5241033645325874,
          -0.3372254706421991,
          -1.0304273510895783,
          0.08623548496745492,
          0.5068741805638677,
          -1.2621213659829493,
          0.13768059053069415,
          -0.7948975141247256,
          0.461081444029098,
          0.30365767729688997,
          -1.0852441926032714,
          0.236233919668841,
          -0.8672769575669186,
          0.5180695433190117,
          0.012942098011260228,
          -1.0140890609158877,
          0.11950449178753253,
          -1.0608413074284595,
          0.20127169591065552,
          -0.21627591209887065,
          -1.080604954945029,
          -0.13229187590345504,
          -1.2615162729054141,
          -0.29447875966327075,
          -0.468295241579046,
          -1.3308950030354385,
          -0.4466865144573866,
          -1.3150116892934722,
          -0.5249779649535391,
          -0.6985832221249915,
          -1.549094225308373,
          -0.6265163267608642,
          -1.1352012006189032
         ],
         "y0": " ",
         "yaxis": "y"
        },
        {
         "alignmentgroup": "True",
         "boxpoints": "all",
         "fillcolor": "rgba(255,255,255,0)",
         "hoveron": "points",
         "hovertemplate": "ma=5<br>theta=%{x}<br>diff=%{y}<extra></extra>",
         "legendgroup": "5",
         "line": {
          "color": "rgba(255,255,255,0)"
         },
         "marker": {
          "color": "#FFA15A",
          "opacity": 0.5,
          "size": 5
         },
         "name": "5",
         "offsetgroup": "5",
         "orientation": "v",
         "pointpos": 0,
         "showlegend": false,
         "type": "box",
         "x": [
          "CSENT",
          "IPM",
          "HOUSE",
          "UNEMP",
          "LRIR",
          "CSENT",
          "IPM",
          "HOUSE",
          "UNEMP",
          "LRIR",
          "CSENT",
          "IPM",
          "HOUSE",
          "UNEMP",
          "LRIR",
          "CSENT",
          "IPM",
          "HOUSE",
          "UNEMP",
          "LRIR",
          "CSENT",
          "IPM",
          "HOUSE",
          "UNEMP",
          "LRIR",
          "CSENT",
          "IPM",
          "HOUSE",
          "UNEMP",
          "LRIR",
          "CSENT",
          "IPM",
          "HOUSE",
          "UNEMP",
          "LRIR",
          "CSENT",
          "IPM",
          "HOUSE",
          "UNEMP",
          "LRIR",
          "CSENT",
          "IPM",
          "HOUSE",
          "UNEMP",
          "LRIR",
          "CSENT",
          "IPM",
          "HOUSE",
          "UNEMP",
          "LRIR",
          "CSENT",
          "IPM",
          "HOUSE",
          "UNEMP",
          "LRIR",
          "CSENT",
          "IPM",
          "HOUSE",
          "UNEMP",
          "LRIR",
          "CSENT",
          "IPM",
          "HOUSE",
          "UNEMP",
          "LRIR",
          "CSENT",
          "IPM",
          "HOUSE",
          "UNEMP",
          "LRIR",
          "CSENT",
          "IPM",
          "HOUSE",
          "UNEMP",
          "LRIR",
          "CSENT",
          "IPM",
          "HOUSE",
          "UNEMP",
          "LRIR",
          "CSENT",
          "IPM",
          "HOUSE",
          "UNEMP",
          "LRIR",
          "CSENT",
          "IPM",
          "HOUSE",
          "UNEMP",
          "LRIR"
         ],
         "x0": " ",
         "xaxis": "x2",
         "y": [
          0.004849246022819331,
          -0.07195111500549745,
          0.03496504755659369,
          -0.03787422662502293,
          -0.039388330133774074,
          -0.00002186794729386321,
          -0.06841480951465584,
          0.007211738244457533,
          -0.04572045081876619,
          -0.04556355957107305,
          0.009442941387393655,
          -0.06058864092538829,
          -0.008986062617173718,
          -0.058078601921845,
          -0.04249735560072054,
          0.031043729220962435,
          -0.061689869862375124,
          -0.018463151416093893,
          -0.07359406745399011,
          -0.035454762919312044,
          0.05311120652186241,
          -0.056856668570973934,
          -0.01727981407977275,
          -0.08341392146251236,
          -0.024560999564202546,
          0.06348882377903875,
          -0.05713061348792525,
          -0.00970449333714496,
          -0.09966570572019717,
          -0.01599045980935121,
          0.00887802683950667,
          -0.05066484876307786,
          0.07116731604910553,
          -0.01446954015640034,
          0.009723863456171267,
          -0.006804493852924365,
          -0.035895500236816535,
          0.05487628781251086,
          -0.017162102056517803,
          0.01187726207417017,
          0.0055807878591358495,
          -0.011740467877468297,
          0.05375848057472121,
          -0.011136906232279031,
          0.02845158953556548,
          0.04593819284867595,
          0.01047277781231748,
          0.0700800157504089,
          0.0028614578753380915,
          0.05396589360823478,
          0.09020664482596663,
          0.03422599346069388,
          0.09878176538132433,
          0.022950277464586333,
          0.07919733407181817,
          0.10366460654785281,
          0.04561581503048373,
          0.118883241543291,
          0.02815002375688236,
          0.0827213423609614,
          -0.007484851833855055,
          -0.04497974174520525,
          0.1016817027095791,
          -0.011982789119213355,
          0.06575660860168431,
          -0.04005383670922891,
          -0.026158052087956074,
          0.08653414437352769,
          -0.020276486434925634,
          0.07002600800787806,
          -0.046105068154006834,
          -0.0011216529396593788,
          0.08309019516890703,
          -0.010415761737592288,
          0.08669240108503506,
          -0.018778089499626227,
          0.01976197963473325,
          0.09443697432444609,
          0.012139204655780556,
          0.10919607151813737,
          0.028988131724649757,
          0.04572326808972049,
          0.12465444344149135,
          0.04365792773979893,
          0.12326304216472816,
          0.05345751916630326,
          0.07057614338724072,
          0.1504254196556718,
          0.06350361676795035,
          0.11240089438123801
         ],
         "y0": " ",
         "yaxis": "y2"
        },
        {
         "alignmentgroup": "True",
         "boxpoints": "all",
         "fillcolor": "rgba(255,255,255,0)",
         "hoveron": "points",
         "hovertemplate": "ma=6<br>theta=%{x}<br>diff=%{y}<extra></extra>",
         "legendgroup": "6",
         "line": {
          "color": "rgba(255,255,255,0)"
         },
         "marker": {
          "color": "#19d3f3",
          "opacity": 0.5,
          "size": 5
         },
         "name": "6",
         "offsetgroup": "6",
         "orientation": "v",
         "pointpos": 0,
         "showlegend": true,
         "type": "box",
         "x": [
          "CSENT",
          "IPM",
          "HOUSE",
          "UNEMP",
          "LRIR",
          "CSENT",
          "IPM",
          "HOUSE",
          "UNEMP",
          "LRIR",
          "CSENT",
          "IPM",
          "HOUSE",
          "UNEMP",
          "LRIR",
          "CSENT",
          "IPM",
          "HOUSE",
          "UNEMP",
          "LRIR",
          "CSENT",
          "IPM",
          "HOUSE",
          "UNEMP",
          "LRIR",
          "CSENT",
          "IPM",
          "HOUSE",
          "UNEMP",
          "LRIR",
          "CSENT",
          "IPM",
          "HOUSE",
          "UNEMP",
          "LRIR",
          "CSENT",
          "IPM",
          "HOUSE",
          "UNEMP",
          "LRIR",
          "CSENT",
          "IPM",
          "HOUSE",
          "UNEMP",
          "LRIR",
          "CSENT",
          "IPM",
          "HOUSE",
          "UNEMP",
          "LRIR",
          "CSENT",
          "IPM",
          "HOUSE",
          "UNEMP",
          "LRIR",
          "CSENT",
          "IPM",
          "HOUSE",
          "UNEMP",
          "LRIR",
          "CSENT",
          "IPM",
          "HOUSE",
          "UNEMP",
          "LRIR",
          "CSENT",
          "IPM",
          "HOUSE",
          "UNEMP",
          "LRIR",
          "CSENT",
          "IPM",
          "HOUSE",
          "UNEMP",
          "LRIR",
          "CSENT",
          "IPM",
          "HOUSE",
          "UNEMP",
          "LRIR",
          "CSENT",
          "IPM",
          "HOUSE",
          "UNEMP",
          "LRIR",
          "CSENT",
          "IPM",
          "HOUSE",
          "UNEMP",
          "LRIR"
         ],
         "x0": " ",
         "xaxis": "x",
         "y": [
          -0.3270736055469152,
          1.7632732408346428,
          -0.9143099362185336,
          0.9147157260039336,
          0.7544138198913846,
          -0.11961278983974477,
          1.716755730300755,
          -0.3599678687580372,
          1.018010291233752,
          0.9682145410949614,
          -0.16367035016706133,
          1.640364420576053,
          0.008753820991709738,
          1.1394656642741632,
          0.9479970548963159,
          -0.459289485301408,
          1.452547183920978,
          0.36043652727328546,
          1.3776333788708515,
          0.9702139693891016,
          -0.8957188138786227,
          1.2935689549997376,
          0.5291585602836513,
          1.5560590333440452,
          0.7784991856844625,
          -1.2460329558955507,
          1.1439234407188907,
          0.5896601818852432,
          1.7055793014381022,
          0.591251007032584,
          -0.4303659378396274,
          0.9359794198500984,
          -1.1845427897613918,
          0.27210745691395566,
          -0.3096131185620381,
          -0.09717924108462395,
          0.7489654027861787,
          -0.9767002044154385,
          0.33571850051925267,
          -0.2023905212817887,
          -0.07452661596516297,
          0.58048685145428,
          -0.8681157324685014,
          0.2532245409089606,
          -0.3468390384565385,
          -0.37576638760484027,
          0.19143991085231793,
          -0.8897544771978874,
          0.09869657369477913,
          -0.505891474106491,
          -0.8284424890955622,
          -0.1519828655555706,
          -1.0686893395751094,
          -0.07846873185001435,
          -0.762307656047879,
          -1.1051498012952354,
          -0.41035034016012517,
          -1.2497066151197904,
          -0.22631432089514192,
          -0.9173028845769879,
          -0.20886871436489507,
          0.6982901865772533,
          -1.3067423143751862,
          0.09844321909757525,
          -0.9398166662791017,
          0.19913474308568269,
          0.513643924329557,
          -1.1610307847461074,
          0.25174783634724207,
          -0.9142394020344469,
          0.40331028431943494,
          0.3195419711742211,
          -1.0746791723708125,
          0.18002372331785743,
          -1.03384514807711,
          0.31209308776186795,
          0.03369531541891746,
          -1.0455164097346543,
          -0.012979719868450701,
          -1.1237211617525045,
          0.003996988246401045,
          -0.23453297227213454,
          -1.1562051071969321,
          -0.2482703572748708,
          -1.2123109843831408,
          -0.28325019718317357,
          -0.5217315185478846,
          -1.3318487588390049,
          -0.49454749517113505,
          -1.1790709004158941
         ],
         "y0": " ",
         "yaxis": "y"
        },
        {
         "alignmentgroup": "True",
         "boxpoints": "all",
         "fillcolor": "rgba(255,255,255,0)",
         "hoveron": "points",
         "hovertemplate": "ma=6<br>theta=%{x}<br>diff=%{y}<extra></extra>",
         "legendgroup": "6",
         "line": {
          "color": "rgba(255,255,255,0)"
         },
         "marker": {
          "color": "#19d3f3",
          "opacity": 0.5,
          "size": 5
         },
         "name": "6",
         "offsetgroup": "6",
         "orientation": "v",
         "pointpos": 0,
         "showlegend": false,
         "type": "box",
         "x": [
          "CSENT",
          "IPM",
          "HOUSE",
          "UNEMP",
          "LRIR",
          "CSENT",
          "IPM",
          "HOUSE",
          "UNEMP",
          "LRIR",
          "CSENT",
          "IPM",
          "HOUSE",
          "UNEMP",
          "LRIR",
          "CSENT",
          "IPM",
          "HOUSE",
          "UNEMP",
          "LRIR",
          "CSENT",
          "IPM",
          "HOUSE",
          "UNEMP",
          "LRIR",
          "CSENT",
          "IPM",
          "HOUSE",
          "UNEMP",
          "LRIR",
          "CSENT",
          "IPM",
          "HOUSE",
          "UNEMP",
          "LRIR",
          "CSENT",
          "IPM",
          "HOUSE",
          "UNEMP",
          "LRIR",
          "CSENT",
          "IPM",
          "HOUSE",
          "UNEMP",
          "LRIR",
          "CSENT",
          "IPM",
          "HOUSE",
          "UNEMP",
          "LRIR",
          "CSENT",
          "IPM",
          "HOUSE",
          "UNEMP",
          "LRIR",
          "CSENT",
          "IPM",
          "HOUSE",
          "UNEMP",
          "LRIR",
          "CSENT",
          "IPM",
          "HOUSE",
          "UNEMP",
          "LRIR",
          "CSENT",
          "IPM",
          "HOUSE",
          "UNEMP",
          "LRIR",
          "CSENT",
          "IPM",
          "HOUSE",
          "UNEMP",
          "LRIR",
          "CSENT",
          "IPM",
          "HOUSE",
          "UNEMP",
          "LRIR",
          "CSENT",
          "IPM",
          "HOUSE",
          "UNEMP",
          "LRIR",
          "CSENT",
          "IPM",
          "HOUSE",
          "UNEMP",
          "LRIR"
         ],
         "x0": " ",
         "xaxis": "x2",
         "y": [
          0.013690570482944087,
          -0.09138112714612345,
          0.035710911817076085,
          -0.04370394623141094,
          -0.035468303281499414,
          0.004977914461959054,
          -0.08645350382338446,
          0.01456888428680414,
          -0.04787945075018629,
          -0.0453079276534295,
          0.00674110392514371,
          -0.08164117407417337,
          -0.00036772546930385897,
          -0.05399587802639372,
          -0.04405917305156004,
          0.018789745119513923,
          -0.07263975658677602,
          -0.016151659918368533,
          -0.06840229958719668,
          -0.046292014593015574,
          0.03701024615304738,
          -0.06693214420328586,
          -0.02545404966953435,
          -0.08245859490208274,
          -0.03837221494091514,
          0.05212047009573617,
          -0.06087510689735276,
          -0.02982222971919457,
          -0.09532836663839717,
          -0.029907167525402012,
          0.028658447312703506,
          -0.06842545756894491,
          0.07462016010221606,
          -0.019031286062362263,
          0.02079567324423326,
          0.006467999842655225,
          -0.05286599368001077,
          0.06091737927746188,
          -0.02303638730484525,
          0.01336922588319045,
          0.0049858684030616995,
          -0.04064387091099253,
          0.05479967098654903,
          -0.017335714128656643,
          0.022754349173953248,
          0.02607064764953748,
          -0.013798828701083066,
          0.05955479253504081,
          -0.007070406953572528,
          0.03478544902503988,
          0.06068502830548317,
          0.011622520464354746,
          0.07706119707296555,
          0.006028169745454504,
          0.056080548725826906,
          0.0848638028144193,
          0.03286897264564448,
          0.09510351184142285,
          0.018326168938535004,
          0.07126013117292773,
          0.01811115883140091,
          -0.06356964234787543,
          0.10646810954569985,
          -0.008680331175934919,
          0.0782167220800234,
          -0.01725474073492539,
          -0.045275524616020024,
          0.09308415218562993,
          -0.02187664187896121,
          0.0743720290506299,
          -0.03539156457838044,
          -0.027913317494443257,
          0.08674902592531786,
          -0.015606322125392147,
          0.08365371992129811,
          -0.028362133792800392,
          -0.0030174936067826064,
          0.08825888997349451,
          0.0011594809770212322,
          0.09444245940014828,
          -0.0003817284679661359,
          0.022132498033423986,
          0.10403569429209303,
          0.02341263510515934,
          0.10876028632070245,
          0.028327929494430637,
          0.05158569739394825,
          0.1265445812975886,
          0.04896195637808465,
          0.11288676820928767
         ],
         "y0": " ",
         "yaxis": "y2"
        }
       ],
       "layout": {
        "annotations": [
         {
          "font": {
           "color": "grey",
           "size": 11
          },
          "showarrow": false,
          "text": "RMSE",
          "x": 0.225,
          "xanchor": "center",
          "xref": "paper",
          "y": 0.95,
          "yanchor": "bottom",
          "yref": "paper"
         },
         {
          "font": {
           "color": "grey",
           "size": 11
          },
          "showarrow": false,
          "text": "Adj-R2",
          "x": 0.775,
          "xanchor": "center",
          "xref": "paper",
          "y": 0.95,
          "yanchor": "bottom",
          "yref": "paper"
         }
        ],
        "height": 400,
        "legend": {
         "orientation": "h",
         "title": {
          "text": "Moving Averages:"
         },
         "x": 0.5,
         "xanchor": "center",
         "y": -0.1,
         "yanchor": "top"
        },
        "margin": {
         "b": 60,
         "l": 80,
         "r": 40,
         "t": 80
        },
        "template": {
         "data": {
          "bar": [
           {
            "error_x": {
             "color": "#f2f5fa"
            },
            "error_y": {
             "color": "#f2f5fa"
            },
            "marker": {
             "line": {
              "color": "rgb(17,17,17)",
              "width": 0.5
             },
             "pattern": {
              "fillmode": "overlay",
              "size": 10,
              "solidity": 0.2
             }
            },
            "type": "bar"
           }
          ],
          "barpolar": [
           {
            "marker": {
             "line": {
              "color": "rgb(17,17,17)",
              "width": 0.5
             },
             "pattern": {
              "fillmode": "overlay",
              "size": 10,
              "solidity": 0.2
             }
            },
            "type": "barpolar"
           }
          ],
          "carpet": [
           {
            "aaxis": {
             "endlinecolor": "#A2B1C6",
             "gridcolor": "#506784",
             "linecolor": "#506784",
             "minorgridcolor": "#506784",
             "startlinecolor": "#A2B1C6"
            },
            "baxis": {
             "endlinecolor": "#A2B1C6",
             "gridcolor": "#506784",
             "linecolor": "#506784",
             "minorgridcolor": "#506784",
             "startlinecolor": "#A2B1C6"
            },
            "type": "carpet"
           }
          ],
          "choropleth": [
           {
            "colorbar": {
             "outlinewidth": 0,
             "ticks": ""
            },
            "type": "choropleth"
           }
          ],
          "contour": [
           {
            "colorbar": {
             "outlinewidth": 0,
             "ticks": ""
            },
            "colorscale": [
             [
              0,
              "#0d0887"
             ],
             [
              0.1111111111111111,
              "#46039f"
             ],
             [
              0.2222222222222222,
              "#7201a8"
             ],
             [
              0.3333333333333333,
              "#9c179e"
             ],
             [
              0.4444444444444444,
              "#bd3786"
             ],
             [
              0.5555555555555556,
              "#d8576b"
             ],
             [
              0.6666666666666666,
              "#ed7953"
             ],
             [
              0.7777777777777778,
              "#fb9f3a"
             ],
             [
              0.8888888888888888,
              "#fdca26"
             ],
             [
              1,
              "#f0f921"
             ]
            ],
            "type": "contour"
           }
          ],
          "contourcarpet": [
           {
            "colorbar": {
             "outlinewidth": 0,
             "ticks": ""
            },
            "type": "contourcarpet"
           }
          ],
          "heatmap": [
           {
            "colorbar": {
             "outlinewidth": 0,
             "ticks": ""
            },
            "colorscale": [
             [
              0,
              "#0d0887"
             ],
             [
              0.1111111111111111,
              "#46039f"
             ],
             [
              0.2222222222222222,
              "#7201a8"
             ],
             [
              0.3333333333333333,
              "#9c179e"
             ],
             [
              0.4444444444444444,
              "#bd3786"
             ],
             [
              0.5555555555555556,
              "#d8576b"
             ],
             [
              0.6666666666666666,
              "#ed7953"
             ],
             [
              0.7777777777777778,
              "#fb9f3a"
             ],
             [
              0.8888888888888888,
              "#fdca26"
             ],
             [
              1,
              "#f0f921"
             ]
            ],
            "type": "heatmap"
           }
          ],
          "heatmapgl": [
           {
            "colorbar": {
             "outlinewidth": 0,
             "ticks": ""
            },
            "colorscale": [
             [
              0,
              "#0d0887"
             ],
             [
              0.1111111111111111,
              "#46039f"
             ],
             [
              0.2222222222222222,
              "#7201a8"
             ],
             [
              0.3333333333333333,
              "#9c179e"
             ],
             [
              0.4444444444444444,
              "#bd3786"
             ],
             [
              0.5555555555555556,
              "#d8576b"
             ],
             [
              0.6666666666666666,
              "#ed7953"
             ],
             [
              0.7777777777777778,
              "#fb9f3a"
             ],
             [
              0.8888888888888888,
              "#fdca26"
             ],
             [
              1,
              "#f0f921"
             ]
            ],
            "type": "heatmapgl"
           }
          ],
          "histogram": [
           {
            "marker": {
             "pattern": {
              "fillmode": "overlay",
              "size": 10,
              "solidity": 0.2
             }
            },
            "type": "histogram"
           }
          ],
          "histogram2d": [
           {
            "colorbar": {
             "outlinewidth": 0,
             "ticks": ""
            },
            "colorscale": [
             [
              0,
              "#0d0887"
             ],
             [
              0.1111111111111111,
              "#46039f"
             ],
             [
              0.2222222222222222,
              "#7201a8"
             ],
             [
              0.3333333333333333,
              "#9c179e"
             ],
             [
              0.4444444444444444,
              "#bd3786"
             ],
             [
              0.5555555555555556,
              "#d8576b"
             ],
             [
              0.6666666666666666,
              "#ed7953"
             ],
             [
              0.7777777777777778,
              "#fb9f3a"
             ],
             [
              0.8888888888888888,
              "#fdca26"
             ],
             [
              1,
              "#f0f921"
             ]
            ],
            "type": "histogram2d"
           }
          ],
          "histogram2dcontour": [
           {
            "colorbar": {
             "outlinewidth": 0,
             "ticks": ""
            },
            "colorscale": [
             [
              0,
              "#0d0887"
             ],
             [
              0.1111111111111111,
              "#46039f"
             ],
             [
              0.2222222222222222,
              "#7201a8"
             ],
             [
              0.3333333333333333,
              "#9c179e"
             ],
             [
              0.4444444444444444,
              "#bd3786"
             ],
             [
              0.5555555555555556,
              "#d8576b"
             ],
             [
              0.6666666666666666,
              "#ed7953"
             ],
             [
              0.7777777777777778,
              "#fb9f3a"
             ],
             [
              0.8888888888888888,
              "#fdca26"
             ],
             [
              1,
              "#f0f921"
             ]
            ],
            "type": "histogram2dcontour"
           }
          ],
          "mesh3d": [
           {
            "colorbar": {
             "outlinewidth": 0,
             "ticks": ""
            },
            "type": "mesh3d"
           }
          ],
          "parcoords": [
           {
            "line": {
             "colorbar": {
              "outlinewidth": 0,
              "ticks": ""
             }
            },
            "type": "parcoords"
           }
          ],
          "pie": [
           {
            "automargin": true,
            "type": "pie"
           }
          ],
          "scatter": [
           {
            "marker": {
             "line": {
              "color": "#283442"
             }
            },
            "type": "scatter"
           }
          ],
          "scatter3d": [
           {
            "line": {
             "colorbar": {
              "outlinewidth": 0,
              "ticks": ""
             }
            },
            "marker": {
             "colorbar": {
              "outlinewidth": 0,
              "ticks": ""
             }
            },
            "type": "scatter3d"
           }
          ],
          "scattercarpet": [
           {
            "marker": {
             "colorbar": {
              "outlinewidth": 0,
              "ticks": ""
             }
            },
            "type": "scattercarpet"
           }
          ],
          "scattergeo": [
           {
            "marker": {
             "colorbar": {
              "outlinewidth": 0,
              "ticks": ""
             }
            },
            "type": "scattergeo"
           }
          ],
          "scattergl": [
           {
            "marker": {
             "line": {
              "color": "#283442"
             }
            },
            "type": "scattergl"
           }
          ],
          "scattermapbox": [
           {
            "marker": {
             "colorbar": {
              "outlinewidth": 0,
              "ticks": ""
             }
            },
            "type": "scattermapbox"
           }
          ],
          "scatterpolar": [
           {
            "marker": {
             "colorbar": {
              "outlinewidth": 0,
              "ticks": ""
             }
            },
            "type": "scatterpolar"
           }
          ],
          "scatterpolargl": [
           {
            "marker": {
             "colorbar": {
              "outlinewidth": 0,
              "ticks": ""
             }
            },
            "type": "scatterpolargl"
           }
          ],
          "scatterternary": [
           {
            "marker": {
             "colorbar": {
              "outlinewidth": 0,
              "ticks": ""
             }
            },
            "type": "scatterternary"
           }
          ],
          "surface": [
           {
            "colorbar": {
             "outlinewidth": 0,
             "ticks": ""
            },
            "colorscale": [
             [
              0,
              "#0d0887"
             ],
             [
              0.1111111111111111,
              "#46039f"
             ],
             [
              0.2222222222222222,
              "#7201a8"
             ],
             [
              0.3333333333333333,
              "#9c179e"
             ],
             [
              0.4444444444444444,
              "#bd3786"
             ],
             [
              0.5555555555555556,
              "#d8576b"
             ],
             [
              0.6666666666666666,
              "#ed7953"
             ],
             [
              0.7777777777777778,
              "#fb9f3a"
             ],
             [
              0.8888888888888888,
              "#fdca26"
             ],
             [
              1,
              "#f0f921"
             ]
            ],
            "type": "surface"
           }
          ],
          "table": [
           {
            "cells": {
             "fill": {
              "color": "#506784"
             },
             "line": {
              "color": "rgb(17,17,17)"
             }
            },
            "header": {
             "fill": {
              "color": "#2a3f5f"
             },
             "line": {
              "color": "rgb(17,17,17)"
             }
            },
            "type": "table"
           }
          ]
         },
         "layout": {
          "annotationdefaults": {
           "arrowcolor": "#f2f5fa",
           "arrowhead": 0,
           "arrowwidth": 1
          },
          "autotypenumbers": "strict",
          "coloraxis": {
           "colorbar": {
            "outlinewidth": 0,
            "ticks": ""
           }
          },
          "colorscale": {
           "diverging": [
            [
             0,
             "#8e0152"
            ],
            [
             0.1,
             "#c51b7d"
            ],
            [
             0.2,
             "#de77ae"
            ],
            [
             0.3,
             "#f1b6da"
            ],
            [
             0.4,
             "#fde0ef"
            ],
            [
             0.5,
             "#f7f7f7"
            ],
            [
             0.6,
             "#e6f5d0"
            ],
            [
             0.7,
             "#b8e186"
            ],
            [
             0.8,
             "#7fbc41"
            ],
            [
             0.9,
             "#4d9221"
            ],
            [
             1,
             "#276419"
            ]
           ],
           "sequential": [
            [
             0,
             "#0d0887"
            ],
            [
             0.1111111111111111,
             "#46039f"
            ],
            [
             0.2222222222222222,
             "#7201a8"
            ],
            [
             0.3333333333333333,
             "#9c179e"
            ],
            [
             0.4444444444444444,
             "#bd3786"
            ],
            [
             0.5555555555555556,
             "#d8576b"
            ],
            [
             0.6666666666666666,
             "#ed7953"
            ],
            [
             0.7777777777777778,
             "#fb9f3a"
            ],
            [
             0.8888888888888888,
             "#fdca26"
            ],
            [
             1,
             "#f0f921"
            ]
           ],
           "sequentialminus": [
            [
             0,
             "#0d0887"
            ],
            [
             0.1111111111111111,
             "#46039f"
            ],
            [
             0.2222222222222222,
             "#7201a8"
            ],
            [
             0.3333333333333333,
             "#9c179e"
            ],
            [
             0.4444444444444444,
             "#bd3786"
            ],
            [
             0.5555555555555556,
             "#d8576b"
            ],
            [
             0.6666666666666666,
             "#ed7953"
            ],
            [
             0.7777777777777778,
             "#fb9f3a"
            ],
            [
             0.8888888888888888,
             "#fdca26"
            ],
            [
             1,
             "#f0f921"
            ]
           ]
          },
          "colorway": [
           "#636efa",
           "#EF553B",
           "#00cc96",
           "#ab63fa",
           "#FFA15A",
           "#19d3f3",
           "#FF6692",
           "#B6E880",
           "#FF97FF",
           "#FECB52"
          ],
          "font": {
           "color": "#f2f5fa"
          },
          "geo": {
           "bgcolor": "rgb(17,17,17)",
           "lakecolor": "rgb(17,17,17)",
           "landcolor": "rgb(17,17,17)",
           "showlakes": true,
           "showland": true,
           "subunitcolor": "#506784"
          },
          "hoverlabel": {
           "align": "left"
          },
          "hovermode": "closest",
          "mapbox": {
           "style": "dark"
          },
          "paper_bgcolor": "rgb(17,17,17)",
          "plot_bgcolor": "rgb(17,17,17)",
          "polar": {
           "angularaxis": {
            "gridcolor": "#506784",
            "linecolor": "#506784",
            "ticks": ""
           },
           "bgcolor": "rgb(17,17,17)",
           "radialaxis": {
            "gridcolor": "#506784",
            "linecolor": "#506784",
            "ticks": ""
           }
          },
          "scene": {
           "xaxis": {
            "backgroundcolor": "rgb(17,17,17)",
            "gridcolor": "#506784",
            "gridwidth": 2,
            "linecolor": "#506784",
            "showbackground": true,
            "ticks": "",
            "zerolinecolor": "#C8D4E3"
           },
           "yaxis": {
            "backgroundcolor": "rgb(17,17,17)",
            "gridcolor": "#506784",
            "gridwidth": 2,
            "linecolor": "#506784",
            "showbackground": true,
            "ticks": "",
            "zerolinecolor": "#C8D4E3"
           },
           "zaxis": {
            "backgroundcolor": "rgb(17,17,17)",
            "gridcolor": "#506784",
            "gridwidth": 2,
            "linecolor": "#506784",
            "showbackground": true,
            "ticks": "",
            "zerolinecolor": "#C8D4E3"
           }
          },
          "shapedefaults": {
           "line": {
            "color": "#f2f5fa"
           }
          },
          "sliderdefaults": {
           "bgcolor": "#C8D4E3",
           "bordercolor": "rgb(17,17,17)",
           "borderwidth": 1,
           "tickwidth": 0
          },
          "ternary": {
           "aaxis": {
            "gridcolor": "#506784",
            "linecolor": "#506784",
            "ticks": ""
           },
           "baxis": {
            "gridcolor": "#506784",
            "linecolor": "#506784",
            "ticks": ""
           },
           "bgcolor": "rgb(17,17,17)",
           "caxis": {
            "gridcolor": "#506784",
            "linecolor": "#506784",
            "ticks": ""
           }
          },
          "title": {
           "x": 0.05
          },
          "updatemenudefaults": {
           "bgcolor": "#506784",
           "borderwidth": 0
          },
          "xaxis": {
           "automargin": true,
           "gridcolor": "#283442",
           "linecolor": "#506784",
           "ticks": "",
           "title": {
            "standoff": 15
           },
           "zerolinecolor": "#283442",
           "zerolinewidth": 2
          },
          "yaxis": {
           "automargin": true,
           "gridcolor": "#283442",
           "linecolor": "#506784",
           "ticks": "",
           "title": {
            "standoff": 15
           },
           "zerolinecolor": "#283442",
           "zerolinewidth": 2
          }
         }
        },
        "title": {
         "text": "Observe Backward Elimination in All Models With Repect to Moving Averages<br><span style=\"font-size: 12.5px; color: lightgrey;\"> -- How meansures are changed by removing the impact of each coefficient</span>"
        },
        "width": 800,
        "xaxis": {
         "anchor": "y",
         "domain": [
          0,
          0.45
         ]
        },
        "xaxis2": {
         "anchor": "y2",
         "domain": [
          0.55,
          1
         ]
        },
        "yaxis": {
         "anchor": "x",
         "domain": [
          0,
          1
         ],
         "title": {
          "text": "Difference"
         }
        },
        "yaxis2": {
         "anchor": "x2",
         "domain": [
          0,
          1
         ]
        }
       }
      }
     },
     "metadata": {},
     "output_type": "display_data"
    }
   ],
   "source": [
    "# comparing model performance & backward elimination test\n",
    "fig1_1, fig1_2, fig1_3 = PA.model_learning([1,3,6], model='LinR')\n",
    "\n",
    "fig1_1.show()\n",
    "fig1_2.show()\n",
    "fig1_3.show()"
   ]
  },
  {
   "cell_type": "code",
   "execution_count": 10,
   "metadata": {},
   "outputs": [
    {
     "data": {
      "application/vnd.plotly.v1+json": {
       "config": {
        "plotlyServerURL": "https://plot.ly"
       },
       "data": [
        {
         "mode": "lines",
         "name": "Actual",
         "type": "scatter",
         "x": [
          "1989-07-31T00:00:00",
          "1989-08-31T00:00:00",
          "1989-09-30T00:00:00",
          "1989-10-31T00:00:00",
          "1989-11-30T00:00:00",
          "1989-12-31T00:00:00",
          "1990-01-31T00:00:00",
          "1990-02-28T00:00:00",
          "1990-03-31T00:00:00",
          "1990-04-30T00:00:00",
          "1990-05-31T00:00:00",
          "1990-06-30T00:00:00",
          "1990-07-31T00:00:00",
          "1990-08-31T00:00:00",
          "1990-09-30T00:00:00",
          "1990-10-31T00:00:00",
          "1990-11-30T00:00:00",
          "1990-12-31T00:00:00",
          "1991-01-31T00:00:00",
          "1991-02-28T00:00:00",
          "1991-03-31T00:00:00",
          "1991-04-30T00:00:00",
          "1991-05-31T00:00:00",
          "1991-06-30T00:00:00",
          "1991-07-31T00:00:00",
          "1991-08-31T00:00:00",
          "1991-09-30T00:00:00",
          "1991-10-31T00:00:00",
          "1991-11-30T00:00:00",
          "1991-12-31T00:00:00",
          "1992-01-31T00:00:00",
          "1992-02-29T00:00:00",
          "1992-03-31T00:00:00",
          "1992-04-30T00:00:00",
          "1992-05-31T00:00:00",
          "1992-06-30T00:00:00",
          "1992-07-31T00:00:00",
          "1992-08-31T00:00:00",
          "1992-09-30T00:00:00",
          "1992-10-31T00:00:00",
          "1992-11-30T00:00:00",
          "1992-12-31T00:00:00",
          "1993-01-31T00:00:00",
          "1993-02-28T00:00:00",
          "1993-03-31T00:00:00",
          "1993-04-30T00:00:00",
          "1993-05-31T00:00:00",
          "1993-06-30T00:00:00",
          "1993-07-31T00:00:00",
          "1993-08-31T00:00:00",
          "1993-09-30T00:00:00",
          "1993-10-31T00:00:00",
          "1993-11-30T00:00:00",
          "1993-12-31T00:00:00",
          "1994-01-31T00:00:00",
          "1994-02-28T00:00:00",
          "1994-03-31T00:00:00",
          "1994-04-30T00:00:00",
          "1994-05-31T00:00:00",
          "1994-06-30T00:00:00",
          "1994-07-31T00:00:00",
          "1994-08-31T00:00:00",
          "1994-09-30T00:00:00",
          "1994-10-31T00:00:00",
          "1994-11-30T00:00:00",
          "1994-12-31T00:00:00",
          "1995-01-31T00:00:00",
          "1995-02-28T00:00:00",
          "1995-03-31T00:00:00",
          "1995-04-30T00:00:00",
          "1995-05-31T00:00:00",
          "1995-06-30T00:00:00",
          "1995-07-31T00:00:00",
          "1995-08-31T00:00:00",
          "1995-09-30T00:00:00",
          "1995-10-31T00:00:00",
          "1995-11-30T00:00:00",
          "1995-12-31T00:00:00",
          "1996-01-31T00:00:00",
          "1996-02-29T00:00:00",
          "1996-03-31T00:00:00",
          "1996-04-30T00:00:00",
          "1996-05-31T00:00:00",
          "1996-06-30T00:00:00",
          "1996-07-31T00:00:00",
          "1996-08-31T00:00:00",
          "1996-09-30T00:00:00",
          "1996-10-31T00:00:00",
          "1996-11-30T00:00:00",
          "1996-12-31T00:00:00",
          "1997-01-31T00:00:00",
          "1997-02-28T00:00:00",
          "1997-03-31T00:00:00",
          "1997-04-30T00:00:00",
          "1997-05-31T00:00:00",
          "1997-06-30T00:00:00",
          "1997-07-31T00:00:00",
          "1997-08-31T00:00:00",
          "1997-09-30T00:00:00",
          "1997-10-31T00:00:00",
          "1997-11-30T00:00:00",
          "1997-12-31T00:00:00",
          "1998-01-31T00:00:00",
          "1998-02-28T00:00:00",
          "1998-03-31T00:00:00",
          "1998-04-30T00:00:00",
          "1998-05-31T00:00:00",
          "1998-06-30T00:00:00",
          "1998-07-31T00:00:00",
          "1998-08-31T00:00:00",
          "1998-09-30T00:00:00",
          "1998-10-31T00:00:00",
          "1998-11-30T00:00:00",
          "1998-12-31T00:00:00",
          "1999-01-31T00:00:00",
          "1999-02-28T00:00:00",
          "1999-03-31T00:00:00",
          "1999-04-30T00:00:00",
          "1999-05-31T00:00:00",
          "1999-06-30T00:00:00",
          "1999-07-31T00:00:00",
          "1999-08-31T00:00:00",
          "1999-09-30T00:00:00",
          "1999-10-31T00:00:00",
          "1999-11-30T00:00:00",
          "1999-12-31T00:00:00",
          "2000-01-31T00:00:00",
          "2000-02-29T00:00:00",
          "2000-03-31T00:00:00",
          "2000-04-30T00:00:00",
          "2000-05-31T00:00:00",
          "2000-06-30T00:00:00",
          "2000-07-31T00:00:00",
          "2000-08-31T00:00:00",
          "2000-09-30T00:00:00",
          "2000-10-31T00:00:00",
          "2000-11-30T00:00:00",
          "2000-12-31T00:00:00",
          "2001-01-31T00:00:00",
          "2001-02-28T00:00:00",
          "2001-03-31T00:00:00",
          "2001-04-30T00:00:00",
          "2001-05-31T00:00:00",
          "2001-06-30T00:00:00",
          "2001-07-31T00:00:00",
          "2001-08-31T00:00:00",
          "2001-09-30T00:00:00",
          "2001-10-31T00:00:00",
          "2001-11-30T00:00:00",
          "2001-12-31T00:00:00",
          "2002-01-31T00:00:00",
          "2002-02-28T00:00:00",
          "2002-03-31T00:00:00",
          "2002-04-30T00:00:00",
          "2002-05-31T00:00:00",
          "2002-06-30T00:00:00",
          "2002-07-31T00:00:00",
          "2002-08-31T00:00:00",
          "2002-09-30T00:00:00",
          "2002-10-31T00:00:00",
          "2002-11-30T00:00:00",
          "2002-12-31T00:00:00",
          "2003-01-31T00:00:00",
          "2003-02-28T00:00:00",
          "2003-03-31T00:00:00",
          "2003-04-30T00:00:00",
          "2003-05-31T00:00:00",
          "2003-06-30T00:00:00",
          "2003-07-31T00:00:00",
          "2003-08-31T00:00:00",
          "2003-09-30T00:00:00",
          "2003-10-31T00:00:00",
          "2003-11-30T00:00:00",
          "2003-12-31T00:00:00",
          "2004-01-31T00:00:00",
          "2004-02-29T00:00:00",
          "2004-03-31T00:00:00",
          "2004-04-30T00:00:00",
          "2004-05-31T00:00:00",
          "2004-06-30T00:00:00",
          "2004-07-31T00:00:00",
          "2004-08-31T00:00:00",
          "2004-09-30T00:00:00",
          "2004-10-31T00:00:00",
          "2004-11-30T00:00:00",
          "2004-12-31T00:00:00",
          "2005-01-31T00:00:00",
          "2005-02-28T00:00:00",
          "2005-03-31T00:00:00",
          "2005-04-30T00:00:00",
          "2005-05-31T00:00:00",
          "2005-06-30T00:00:00",
          "2005-07-31T00:00:00",
          "2005-08-31T00:00:00",
          "2005-09-30T00:00:00",
          "2005-10-31T00:00:00",
          "2005-11-30T00:00:00",
          "2005-12-31T00:00:00",
          "2006-01-31T00:00:00",
          "2006-02-28T00:00:00",
          "2006-03-31T00:00:00",
          "2006-04-30T00:00:00",
          "2006-05-31T00:00:00",
          "2006-06-30T00:00:00",
          "2006-07-31T00:00:00",
          "2006-08-31T00:00:00",
          "2006-09-30T00:00:00",
          "2006-10-31T00:00:00",
          "2006-11-30T00:00:00",
          "2006-12-31T00:00:00",
          "2007-01-31T00:00:00",
          "2007-02-28T00:00:00",
          "2007-03-31T00:00:00",
          "2007-04-30T00:00:00",
          "2007-05-31T00:00:00",
          "2007-06-30T00:00:00",
          "2007-07-31T00:00:00",
          "2007-08-31T00:00:00",
          "2007-09-30T00:00:00",
          "2007-10-31T00:00:00",
          "2007-11-30T00:00:00",
          "2007-12-31T00:00:00",
          "2008-01-31T00:00:00",
          "2008-02-29T00:00:00",
          "2008-03-31T00:00:00",
          "2008-04-30T00:00:00",
          "2008-05-31T00:00:00",
          "2008-06-30T00:00:00",
          "2008-07-31T00:00:00",
          "2008-08-31T00:00:00",
          "2008-09-30T00:00:00",
          "2008-10-31T00:00:00",
          "2008-11-30T00:00:00",
          "2008-12-31T00:00:00",
          "2009-01-31T00:00:00",
          "2009-02-28T00:00:00",
          "2009-03-31T00:00:00",
          "2009-04-30T00:00:00",
          "2009-05-31T00:00:00",
          "2009-06-30T00:00:00",
          "2009-07-31T00:00:00",
          "2009-08-31T00:00:00",
          "2009-09-30T00:00:00",
          "2009-10-31T00:00:00",
          "2009-11-30T00:00:00",
          "2009-12-31T00:00:00",
          "2010-01-31T00:00:00",
          "2010-02-28T00:00:00",
          "2010-03-31T00:00:00",
          "2010-04-30T00:00:00",
          "2010-05-31T00:00:00",
          "2010-06-30T00:00:00",
          "2010-07-31T00:00:00",
          "2010-08-31T00:00:00",
          "2010-09-30T00:00:00",
          "2010-10-31T00:00:00",
          "2010-11-30T00:00:00",
          "2010-12-31T00:00:00",
          "2011-01-31T00:00:00",
          "2011-02-28T00:00:00",
          "2011-03-31T00:00:00",
          "2011-04-30T00:00:00",
          "2011-05-31T00:00:00",
          "2011-06-30T00:00:00",
          "2011-07-31T00:00:00",
          "2011-08-31T00:00:00",
          "2011-09-30T00:00:00",
          "2011-10-31T00:00:00",
          "2011-11-30T00:00:00",
          "2011-12-31T00:00:00",
          "2012-01-31T00:00:00",
          "2012-02-29T00:00:00",
          "2012-03-31T00:00:00",
          "2012-04-30T00:00:00",
          "2012-05-31T00:00:00",
          "2012-06-30T00:00:00",
          "2012-07-31T00:00:00",
          "2012-08-31T00:00:00",
          "2012-09-30T00:00:00",
          "2012-10-31T00:00:00",
          "2012-11-30T00:00:00",
          "2012-12-31T00:00:00",
          "2013-01-31T00:00:00",
          "2013-02-28T00:00:00",
          "2013-03-31T00:00:00",
          "2013-04-30T00:00:00",
          "2013-05-31T00:00:00",
          "2013-06-30T00:00:00",
          "2013-07-31T00:00:00",
          "2013-08-31T00:00:00",
          "2013-09-30T00:00:00",
          "2013-10-31T00:00:00",
          "2013-11-30T00:00:00",
          "2013-12-31T00:00:00",
          "2014-01-31T00:00:00",
          "2014-02-28T00:00:00",
          "2014-03-31T00:00:00",
          "2014-04-30T00:00:00",
          "2014-05-31T00:00:00",
          "2014-06-30T00:00:00",
          "2014-07-31T00:00:00",
          "2014-08-31T00:00:00",
          "2014-09-30T00:00:00",
          "2014-10-31T00:00:00",
          "2014-11-30T00:00:00",
          "2014-12-31T00:00:00",
          "2015-01-31T00:00:00",
          "2015-02-28T00:00:00",
          "2015-03-31T00:00:00",
          "2015-04-30T00:00:00",
          "2015-05-31T00:00:00",
          "2015-06-30T00:00:00",
          "2015-07-31T00:00:00",
          "2015-08-31T00:00:00",
          "2015-09-30T00:00:00",
          "2015-10-31T00:00:00",
          "2015-11-30T00:00:00",
          "2015-12-31T00:00:00",
          "2016-01-31T00:00:00",
          "2016-02-29T00:00:00",
          "2016-03-31T00:00:00",
          "2016-04-30T00:00:00",
          "2016-05-31T00:00:00",
          "2016-06-30T00:00:00",
          "2016-07-31T00:00:00",
          "2016-08-31T00:00:00",
          "2016-09-30T00:00:00",
          "2016-10-31T00:00:00",
          "2016-11-30T00:00:00",
          "2016-12-31T00:00:00",
          "2017-01-31T00:00:00",
          "2017-02-28T00:00:00",
          "2017-03-31T00:00:00",
          "2017-04-30T00:00:00",
          "2017-05-31T00:00:00",
          "2017-06-30T00:00:00",
          "2017-07-31T00:00:00",
          "2017-08-31T00:00:00",
          "2017-09-30T00:00:00",
          "2017-10-31T00:00:00",
          "2017-11-30T00:00:00",
          "2017-12-31T00:00:00",
          "2018-01-31T00:00:00",
          "2018-02-28T00:00:00",
          "2018-03-31T00:00:00",
          "2018-04-30T00:00:00",
          "2018-05-31T00:00:00",
          "2018-06-30T00:00:00",
          "2018-07-31T00:00:00",
          "2018-08-31T00:00:00",
          "2018-09-30T00:00:00",
          "2018-10-31T00:00:00",
          "2018-11-30T00:00:00",
          "2018-12-31T00:00:00",
          "2019-01-31T00:00:00",
          "2019-02-28T00:00:00",
          "2019-03-31T00:00:00",
          "2019-04-30T00:00:00",
          "2019-05-31T00:00:00",
          "2019-06-30T00:00:00",
          "2019-07-31T00:00:00",
          "2019-08-31T00:00:00",
          "2019-09-30T00:00:00",
          "2019-10-31T00:00:00",
          "2019-11-30T00:00:00",
          "2019-12-31T00:00:00",
          "2020-01-31T00:00:00",
          "2020-02-29T00:00:00",
          "2020-03-31T00:00:00",
          "2020-04-30T00:00:00",
          "2020-05-31T00:00:00",
          "2020-06-30T00:00:00",
          "2020-07-31T00:00:00",
          "2020-08-31T00:00:00",
          "2020-09-30T00:00:00",
          "2020-10-31T00:00:00",
          "2020-11-30T00:00:00",
          "2020-12-31T00:00:00",
          "2021-01-31T00:00:00",
          "2021-02-28T00:00:00",
          "2021-03-31T00:00:00",
          "2021-04-30T00:00:00",
          "2021-05-31T00:00:00",
          "2021-06-30T00:00:00",
          "2021-07-31T00:00:00",
          "2021-08-31T00:00:00",
          "2021-09-30T00:00:00",
          "2021-10-31T00:00:00",
          "2021-11-30T00:00:00",
          "2021-12-31T00:00:00",
          "2022-01-31T00:00:00",
          "2022-02-28T00:00:00",
          "2022-03-31T00:00:00",
          "2022-04-30T00:00:00",
          "2022-05-31T00:00:00",
          "2022-06-30T00:00:00",
          "2022-07-31T00:00:00",
          "2022-08-31T00:00:00",
          "2022-09-30T00:00:00",
          "2022-10-31T00:00:00",
          "2022-11-30T00:00:00",
          "2022-12-31T00:00:00",
          "2023-01-31T00:00:00",
          "2023-02-28T00:00:00",
          "2023-03-31T00:00:00",
          "2023-04-30T00:00:00",
          "2023-05-31T00:00:00",
          "2023-06-30T00:00:00",
          "2023-07-31T00:00:00",
          "2023-08-31T00:00:00",
          "2023-09-30T00:00:00"
         ],
         "y": [
          27.22593947126124,
          34.38743766108754,
          28.406454045125077,
          22.005944675854792,
          26.41212086342999,
          27.250465340319007,
          10.62627667389895,
          14.896500546624525,
          15.284704469950228,
          6.83373341412481,
          12.70124278299527,
          12.591979572283662,
          2.90973408313977,
          -8.220234356235878,
          -12.344266606601709,
          -10.68280259619996,
          -6.870137774092822,
          -6.559137825727013,
          4.5125825663830055,
          10.5998948817567,
          10.378301619674168,
          13.464331979600086,
          7.917386351108013,
          3.6701902272656906,
          8.889514026304157,
          22.59114449055346,
          26.73092658769689,
          29.095398752312928,
          16.448389236923223,
          26.30670304526097,
          18.85558325372598,
          12.430872578077269,
          7.587548938777711,
          10.553102854906715,
          6.546448557137663,
          9.963360982179914,
          9.38603804069924,
          4.703741862789346,
          7.7192810736246065,
          6.683648784017038,
          14.95922517461883,
          4.464263175974903,
          7.3389109275371345,
          7.433969413209174,
          11.8853602259551,
          6.08265802912713,
          8.38810541132089,
          10.386137749167569,
          5.638719952278026,
          11.962900979476942,
          9.844424625305038,
          11.739274566803882,
          7.056914804842096,
          7.055156263296869,
          9.761152899270776,
          5.358836551933566,
          -1.306268788863596,
          2.4353122881590306,
          1.4016298728035226,
          -1.3894767901330374,
          2.260505829209425,
          2.57355956911991,
          0.8236547707979547,
          0.9661671250207116,
          -1.7540453352462682,
          -1.5392910291473272,
          -2.3234509798752856,
          4.334888762470901,
          12.324742310034974,
          14.14916896772944,
          16.845569422576666,
          22.616880156457285,
          22.650893724297877,
          18.168629502769296,
          26.30156770696581,
          23.107863339915813,
          33.43251820837083,
          34.11065547708709,
          35.20258521674376,
          31.399900167781247,
          28.916940148159973,
          27.094860209446004,
          25.444312802987355,
          23.107848532870577,
          13.857953774822352,
          16.037229402807473,
          17.610932166597237,
          21.28461212919175,
          25.05079961630838,
          20.263666170303285,
          23.606167888227027,
          23.482662643592445,
          17.29202093217468,
          22.497217510746715,
          26.775471587620103,
          31.98634242485303,
          49.1225844761549,
          37.95763495997642,
          37.82026184563567,
          29.683662964304048,
          26.20538423880125,
          31.00818174657085,
          24.69218260704502,
          32.69011356589342,
          45.51854489452105,
          38.73636193646888,
          28.59196357519165,
          28.097244171099224,
          17.43249539586893,
          6.427124915416504,
          7.361073633158677,
          20.123116683507792,
          21.795057059628565,
          26.66858915596535,
          30.538211164648963,
          18.010368078055027,
          16.756977092551615,
          20.097148973324707,
          19.345082591231844,
          21.0673465672353,
          18.564779872706684,
          37.93351932240064,
          26.125598432714227,
          24.05271821343833,
          19.36010831205428,
          19.526046658878403,
          8.972831810093695,
          10.343776895999458,
          16.496805875681808,
          8.781587148049486,
          9.12247379736819,
          5.965572989104717,
          7.68483861182041,
          14.940057590050436,
          11.990243586766614,
          4.876990607268716,
          -5.32504490483392,
          -10.139184665858435,
          -2.0402128400121344,
          -9.25631200299668,
          -22.571368223188504,
          -13.974517551110422,
          -11.599326490830764,
          -15.827029737876108,
          -15.347733995691115,
          -25.308370938727972,
          -27.53688214284804,
          -25.85840134350785,
          -13.346515572215925,
          -13.042693172742602,
          -17.262688919403267,
          -10.74325912805284,
          -1.1151949786979531,
          -13.809159347749455,
          -15.024441377776544,
          -19.157450842317857,
          -24.736011342421715,
          -19.18787885836395,
          -21.6784756865532,
          -16.420390526391206,
          -17.82789611815425,
          -23.365963957103563,
          -24.28773233269227,
          -23.99681591188145,
          -26.07744691453801,
          -14.857190367540529,
          -9.703505291860193,
          -1.547756886187146,
          8.631886406933265,
          10.036351120146048,
          22.162929903003143,
          18.62242022142333,
          13.018119418900408,
          26.38039993281984,
          32.18768128393372,
          36.11602070674667,
          32.77959521122498,
          20.762996713599048,
          16.302579154758213,
          17.069262782997697,
          11.250009938220318,
          9.546530246373708,
          11.908992122305383,
          7.565359917540881,
          10.926100968833662,
          8.993452410946755,
          4.432736682078575,
          5.123415828051159,
          4.828584968076877,
          4.474841919338135,
          6.319372425212211,
          4.425685612974695,
          12.02302640690771,
          10.513110089019008,
          10.248713151401567,
          6.796147753687976,
          6.445625193103988,
          3.0010226581274946,
          8.364720587986074,
          6.402464286877008,
          9.679908571598729,
          13.291266197913563,
          6.595884668091689,
          6.620331732308671,
          3.4419597319711226,
          6.841591474513753,
          8.71085944028518,
          14.161434475080782,
          12.097034508496709,
          13.6194317382607,
          12.35548087692504,
          9.85116336438072,
          9.7299335616293,
          13.10534878303644,
          20.51272242975375,
          18.355379733636457,
          13.99041096060687,
          13.05165214181998,
          14.290528719763527,
          12.441766025128809,
          5.748128305473577,
          3.5295730663479574,
          -4.150207323641652,
          -5.415756409142858,
          -6.908494516818964,
          -6.528736389407563,
          -8.508969610344309,
          -14.856818386476236,
          -12.911007038333532,
          -12.968882790668868,
          -23.605044352280167,
          -37.4749901930436,
          -39.48985366875623,
          -38.48579306090672,
          -40.09067675236928,
          -44.75624146772434,
          -39.67868567544007,
          -37.00806017010502,
          -34.364957265627794,
          -28.178124427795414,
          -22.084932958993875,
          -20.43996242057835,
          -9.36932256501718,
          6.96154233870967,
          22.247390969052283,
          23.45419048834072,
          30.02736339034669,
          50.25234323462486,
          46.56899756446875,
          35.96200143509296,
          18.52492730352693,
          12.1165592748812,
          11.55668948984825,
          2.812992208153186,
          7.957770330935654,
          14.19335031951585,
          7.750795758317652,
          12.782713853760177,
          19.764962329247115,
          20.16586681980579,
          13.37402795895728,
          14.908700054848278,
          23.479673306368444,
          28.12915996729348,
          17.30937345105834,
          16.158888595086786,
          -0.8569845465310144,
          5.919243317990031,
          5.625336441711792,
          -0.0031836663936912,
          2.044135785331957,
          2.8977926686438726,
          6.233077950233668,
          2.515385571870965,
          -2.592179332656863,
          3.143931659703858,
          6.735375848804659,
          15.39843128999503,
          27.332908026061787,
          12.675335447413527,
          13.570611573302882,
          13.40569092662105,
          14.149537593862238,
          10.910315311051445,
          11.410961827101772,
          14.28274404128862,
          24.452622234511058,
          17.921535575238057,
          22.214572841062477,
          16.095069012887,
          16.71999816301839,
          24.38675479743768,
          27.512744856265403,
          29.601249573324356,
          18.989258682632105,
          22.761895927543097,
          19.31888654233857,
          17.925975982963017,
          17.956875885076016,
          22.035382667791197,
          14.530207465874945,
          22.682598642923946,
          17.289999214533758,
          14.887790995370542,
          14.494879943455086,
          11.390633786748117,
          11.91524851405299,
          13.178631060959066,
          10.444146379802222,
          10.69880112623871,
          9.556187267517192,
          5.248370241155231,
          8.969427193858603,
          -1.5568737418584444,
          -2.6497121990468497,
          3.0380841460970087,
          0.62149844026127,
          -0.7265997205823549,
          -2.744374671953509,
          -8.185793277797583,
          -0.3941168421491281,
          -0.9690656406761256,
          -0.4953967674903303,
          1.7328207482185445,
          3.315841834517408,
          10.078689168715794,
          12.92896394569838,
          2.2502016247627266,
          5.6911931535803095,
          9.535022667283656,
          17.453002136721206,
          22.327047839549465,
          14.709622666221778,
          15.440850956484375,
          15.014669161765015,
          15.46314609248347,
          13.650162764153384,
          13.851077083078668,
          16.1921755467765,
          21.123162902427573,
          20.409676487393423,
          19.419965523287928,
          23.91272487608005,
          14.815716499221354,
          11.772455048983232,
          11.066609473193022,
          12.168088761990026,
          12.171288216832732,
          14.005990502996092,
          17.392030998398035,
          15.663496134766518,
          5.299658285035491,
          4.2525566905510015,
          -6.23725984962068,
          -4.239306414154331,
          2.6036969918984187,
          7.328258360632933,
          11.245256842054596,
          1.729588496700507,
          8.217787973966196,
          5.826454004170079,
          0.8595474523136026,
          2.153755694489345,
          12.015166259771616,
          13.796616490011717,
          28.87807022515845,
          19.28256732533442,
          6.095550031209251,
          -8.813499261221347,
          -1.133811034533061,
          10.619317666684005,
          5.388951810161613,
          9.755140143431529,
          19.609019269561976,
          12.975940493049665,
          7.650874315595924,
          15.302545872069494,
          16.258923055706177,
          15.151664467863023,
          29.00697781948409,
          53.71450626511303,
          43.56293610537338,
          38.0972956881811,
          38.61606320225206,
          34.365587571392275,
          29.207987294652327,
          28.08623369201606,
          40.83902976879674,
          26.103443691858995,
          26.89273866137125,
          21.573991356507925,
          14.766935268444836,
          14.03311641516658,
          -1.177654747685286,
          -1.711657479886508,
          -11.916698480221054,
          -6.028533936374103,
          -12.551853186991902,
          -16.759447743453126,
          -15.924851391322436,
          -10.661044286799326,
          -19.442827203429268,
          -9.720847427606383,
          -9.231723445491092,
          -9.294966308410611,
          0.9087715205739144,
          1.1538830126710975,
          17.567589530959093,
          11.105029369296048,
          13.973708122629592,
          19.59018703997495
         ]
        },
        {
         "line": {
          "color": "lightgreen"
         },
         "mode": "lines",
         "name": "Predict",
         "type": "scatter",
         "x": [
          "1989-07-31T00:00:00",
          "1989-08-31T00:00:00",
          "1989-09-30T00:00:00",
          "1989-10-31T00:00:00",
          "1989-11-30T00:00:00",
          "1989-12-31T00:00:00",
          "1990-01-31T00:00:00",
          "1990-02-28T00:00:00",
          "1990-03-31T00:00:00",
          "1990-04-30T00:00:00",
          "1990-05-31T00:00:00",
          "1990-06-30T00:00:00",
          "1990-07-31T00:00:00",
          "1990-08-31T00:00:00",
          "1990-09-30T00:00:00",
          "1990-10-31T00:00:00",
          "1990-11-30T00:00:00",
          "1990-12-31T00:00:00",
          "1991-01-31T00:00:00",
          "1991-02-28T00:00:00",
          "1991-03-31T00:00:00",
          "1991-04-30T00:00:00",
          "1991-05-31T00:00:00",
          "1991-06-30T00:00:00",
          "1991-07-31T00:00:00",
          "1991-08-31T00:00:00",
          "1991-09-30T00:00:00",
          "1991-10-31T00:00:00",
          "1991-11-30T00:00:00",
          "1991-12-31T00:00:00",
          "1992-01-31T00:00:00",
          "1992-02-29T00:00:00",
          "1992-03-31T00:00:00",
          "1992-04-30T00:00:00",
          "1992-05-31T00:00:00",
          "1992-06-30T00:00:00",
          "1992-07-31T00:00:00",
          "1992-08-31T00:00:00",
          "1992-09-30T00:00:00",
          "1992-10-31T00:00:00",
          "1992-11-30T00:00:00",
          "1992-12-31T00:00:00",
          "1993-01-31T00:00:00",
          "1993-02-28T00:00:00",
          "1993-03-31T00:00:00",
          "1993-04-30T00:00:00",
          "1993-05-31T00:00:00",
          "1993-06-30T00:00:00",
          "1993-07-31T00:00:00",
          "1993-08-31T00:00:00",
          "1993-09-30T00:00:00",
          "1993-10-31T00:00:00",
          "1993-11-30T00:00:00",
          "1993-12-31T00:00:00",
          "1994-01-31T00:00:00",
          "1994-02-28T00:00:00",
          "1994-03-31T00:00:00",
          "1994-04-30T00:00:00",
          "1994-05-31T00:00:00",
          "1994-06-30T00:00:00",
          "1994-07-31T00:00:00",
          "1994-08-31T00:00:00",
          "1994-09-30T00:00:00",
          "1994-10-31T00:00:00",
          "1994-11-30T00:00:00",
          "1994-12-31T00:00:00",
          "1995-01-31T00:00:00",
          "1995-02-28T00:00:00",
          "1995-03-31T00:00:00",
          "1995-04-30T00:00:00",
          "1995-05-31T00:00:00",
          "1995-06-30T00:00:00",
          "1995-07-31T00:00:00",
          "1995-08-31T00:00:00",
          "1995-09-30T00:00:00",
          "1995-10-31T00:00:00",
          "1995-11-30T00:00:00",
          "1995-12-31T00:00:00",
          "1996-01-31T00:00:00",
          "1996-02-29T00:00:00",
          "1996-03-31T00:00:00",
          "1996-04-30T00:00:00",
          "1996-05-31T00:00:00",
          "1996-06-30T00:00:00",
          "1996-07-31T00:00:00",
          "1996-08-31T00:00:00",
          "1996-09-30T00:00:00",
          "1996-10-31T00:00:00",
          "1996-11-30T00:00:00",
          "1996-12-31T00:00:00",
          "1997-01-31T00:00:00",
          "1997-02-28T00:00:00",
          "1997-03-31T00:00:00",
          "1997-04-30T00:00:00",
          "1997-05-31T00:00:00",
          "1997-06-30T00:00:00",
          "1997-07-31T00:00:00",
          "1997-08-31T00:00:00",
          "1997-09-30T00:00:00",
          "1997-10-31T00:00:00",
          "1997-11-30T00:00:00",
          "1997-12-31T00:00:00",
          "1998-01-31T00:00:00",
          "1998-02-28T00:00:00",
          "1998-03-31T00:00:00",
          "1998-04-30T00:00:00",
          "1998-05-31T00:00:00",
          "1998-06-30T00:00:00",
          "1998-07-31T00:00:00",
          "1998-08-31T00:00:00",
          "1998-09-30T00:00:00",
          "1998-10-31T00:00:00",
          "1998-11-30T00:00:00",
          "1998-12-31T00:00:00",
          "1999-01-31T00:00:00",
          "1999-02-28T00:00:00",
          "1999-03-31T00:00:00",
          "1999-04-30T00:00:00",
          "1999-05-31T00:00:00",
          "1999-06-30T00:00:00",
          "1999-07-31T00:00:00",
          "1999-08-31T00:00:00",
          "1999-09-30T00:00:00",
          "1999-10-31T00:00:00",
          "1999-11-30T00:00:00",
          "1999-12-31T00:00:00",
          "2000-01-31T00:00:00",
          "2000-02-29T00:00:00",
          "2000-03-31T00:00:00",
          "2000-04-30T00:00:00",
          "2000-05-31T00:00:00",
          "2000-06-30T00:00:00",
          "2000-07-31T00:00:00",
          "2000-08-31T00:00:00",
          "2000-09-30T00:00:00",
          "2000-10-31T00:00:00",
          "2000-11-30T00:00:00",
          "2000-12-31T00:00:00",
          "2001-01-31T00:00:00",
          "2001-02-28T00:00:00",
          "2001-03-31T00:00:00",
          "2001-04-30T00:00:00",
          "2001-05-31T00:00:00",
          "2001-06-30T00:00:00",
          "2001-07-31T00:00:00",
          "2001-08-31T00:00:00",
          "2001-09-30T00:00:00",
          "2001-10-31T00:00:00",
          "2001-11-30T00:00:00",
          "2001-12-31T00:00:00",
          "2002-01-31T00:00:00",
          "2002-02-28T00:00:00",
          "2002-03-31T00:00:00",
          "2002-04-30T00:00:00",
          "2002-05-31T00:00:00",
          "2002-06-30T00:00:00",
          "2002-07-31T00:00:00",
          "2002-08-31T00:00:00",
          "2002-09-30T00:00:00",
          "2002-10-31T00:00:00",
          "2002-11-30T00:00:00",
          "2002-12-31T00:00:00",
          "2003-01-31T00:00:00",
          "2003-02-28T00:00:00",
          "2003-03-31T00:00:00",
          "2003-04-30T00:00:00",
          "2003-05-31T00:00:00",
          "2003-06-30T00:00:00",
          "2003-07-31T00:00:00",
          "2003-08-31T00:00:00",
          "2003-09-30T00:00:00",
          "2003-10-31T00:00:00",
          "2003-11-30T00:00:00",
          "2003-12-31T00:00:00",
          "2004-01-31T00:00:00",
          "2004-02-29T00:00:00",
          "2004-03-31T00:00:00",
          "2004-04-30T00:00:00",
          "2004-05-31T00:00:00",
          "2004-06-30T00:00:00",
          "2004-07-31T00:00:00",
          "2004-08-31T00:00:00",
          "2004-09-30T00:00:00",
          "2004-10-31T00:00:00",
          "2004-11-30T00:00:00",
          "2004-12-31T00:00:00",
          "2005-01-31T00:00:00",
          "2005-02-28T00:00:00",
          "2005-03-31T00:00:00",
          "2005-04-30T00:00:00",
          "2005-05-31T00:00:00",
          "2005-06-30T00:00:00",
          "2005-07-31T00:00:00",
          "2005-08-31T00:00:00",
          "2005-09-30T00:00:00",
          "2005-10-31T00:00:00",
          "2005-11-30T00:00:00",
          "2005-12-31T00:00:00",
          "2006-01-31T00:00:00",
          "2006-02-28T00:00:00",
          "2006-03-31T00:00:00",
          "2006-04-30T00:00:00",
          "2006-05-31T00:00:00",
          "2006-06-30T00:00:00",
          "2006-07-31T00:00:00",
          "2006-08-31T00:00:00",
          "2006-09-30T00:00:00",
          "2006-10-31T00:00:00",
          "2006-11-30T00:00:00",
          "2006-12-31T00:00:00",
          "2007-01-31T00:00:00",
          "2007-02-28T00:00:00",
          "2007-03-31T00:00:00",
          "2007-04-30T00:00:00",
          "2007-05-31T00:00:00",
          "2007-06-30T00:00:00",
          "2007-07-31T00:00:00",
          "2007-08-31T00:00:00",
          "2007-09-30T00:00:00",
          "2007-10-31T00:00:00",
          "2007-11-30T00:00:00",
          "2007-12-31T00:00:00",
          "2008-01-31T00:00:00",
          "2008-02-29T00:00:00",
          "2008-03-31T00:00:00",
          "2008-04-30T00:00:00",
          "2008-05-31T00:00:00",
          "2008-06-30T00:00:00",
          "2008-07-31T00:00:00",
          "2008-08-31T00:00:00",
          "2008-09-30T00:00:00",
          "2008-10-31T00:00:00",
          "2008-11-30T00:00:00",
          "2008-12-31T00:00:00",
          "2009-01-31T00:00:00",
          "2009-02-28T00:00:00",
          "2009-03-31T00:00:00",
          "2009-04-30T00:00:00",
          "2009-05-31T00:00:00",
          "2009-06-30T00:00:00",
          "2009-07-31T00:00:00",
          "2009-08-31T00:00:00",
          "2009-09-30T00:00:00",
          "2009-10-31T00:00:00",
          "2009-11-30T00:00:00",
          "2009-12-31T00:00:00",
          "2010-01-31T00:00:00",
          "2010-02-28T00:00:00",
          "2010-03-31T00:00:00",
          "2010-04-30T00:00:00",
          "2010-05-31T00:00:00",
          "2010-06-30T00:00:00",
          "2010-07-31T00:00:00",
          "2010-08-31T00:00:00",
          "2010-09-30T00:00:00",
          "2010-10-31T00:00:00",
          "2010-11-30T00:00:00",
          "2010-12-31T00:00:00",
          "2011-01-31T00:00:00",
          "2011-02-28T00:00:00",
          "2011-03-31T00:00:00",
          "2011-04-30T00:00:00",
          "2011-05-31T00:00:00",
          "2011-06-30T00:00:00",
          "2011-07-31T00:00:00",
          "2011-08-31T00:00:00",
          "2011-09-30T00:00:00",
          "2011-10-31T00:00:00",
          "2011-11-30T00:00:00",
          "2011-12-31T00:00:00",
          "2012-01-31T00:00:00",
          "2012-02-29T00:00:00",
          "2012-03-31T00:00:00",
          "2012-04-30T00:00:00",
          "2012-05-31T00:00:00",
          "2012-06-30T00:00:00",
          "2012-07-31T00:00:00",
          "2012-08-31T00:00:00",
          "2012-09-30T00:00:00",
          "2012-10-31T00:00:00",
          "2012-11-30T00:00:00",
          "2012-12-31T00:00:00",
          "2013-01-31T00:00:00",
          "2013-02-28T00:00:00",
          "2013-03-31T00:00:00",
          "2013-04-30T00:00:00",
          "2013-05-31T00:00:00",
          "2013-06-30T00:00:00",
          "2013-07-31T00:00:00",
          "2013-08-31T00:00:00",
          "2013-09-30T00:00:00",
          "2013-10-31T00:00:00",
          "2013-11-30T00:00:00",
          "2013-12-31T00:00:00",
          "2014-01-31T00:00:00",
          "2014-02-28T00:00:00",
          "2014-03-31T00:00:00",
          "2014-04-30T00:00:00",
          "2014-05-31T00:00:00",
          "2014-06-30T00:00:00",
          "2014-07-31T00:00:00",
          "2014-08-31T00:00:00",
          "2014-09-30T00:00:00",
          "2014-10-31T00:00:00",
          "2014-11-30T00:00:00",
          "2014-12-31T00:00:00",
          "2015-01-31T00:00:00",
          "2015-02-28T00:00:00",
          "2015-03-31T00:00:00",
          "2015-04-30T00:00:00",
          "2015-05-31T00:00:00",
          "2015-06-30T00:00:00",
          "2015-07-31T00:00:00",
          "2015-08-31T00:00:00",
          "2015-09-30T00:00:00",
          "2015-10-31T00:00:00",
          "2015-11-30T00:00:00",
          "2015-12-31T00:00:00",
          "2016-01-31T00:00:00",
          "2016-02-29T00:00:00",
          "2016-03-31T00:00:00",
          "2016-04-30T00:00:00",
          "2016-05-31T00:00:00",
          "2016-06-30T00:00:00",
          "2016-07-31T00:00:00",
          "2016-08-31T00:00:00",
          "2016-09-30T00:00:00",
          "2016-10-31T00:00:00",
          "2016-11-30T00:00:00",
          "2016-12-31T00:00:00",
          "2017-01-31T00:00:00",
          "2017-02-28T00:00:00",
          "2017-03-31T00:00:00",
          "2017-04-30T00:00:00",
          "2017-05-31T00:00:00",
          "2017-06-30T00:00:00",
          "2017-07-31T00:00:00",
          "2017-08-31T00:00:00",
          "2017-09-30T00:00:00",
          "2017-10-31T00:00:00",
          "2017-11-30T00:00:00",
          "2017-12-31T00:00:00",
          "2018-01-31T00:00:00",
          "2018-02-28T00:00:00",
          "2018-03-31T00:00:00",
          "2018-04-30T00:00:00",
          "2018-05-31T00:00:00",
          "2018-06-30T00:00:00",
          "2018-07-31T00:00:00",
          "2018-08-31T00:00:00",
          "2018-09-30T00:00:00",
          "2018-10-31T00:00:00",
          "2018-11-30T00:00:00",
          "2018-12-31T00:00:00",
          "2019-01-31T00:00:00",
          "2019-02-28T00:00:00",
          "2019-03-31T00:00:00",
          "2019-04-30T00:00:00",
          "2019-05-31T00:00:00",
          "2019-06-30T00:00:00",
          "2019-07-31T00:00:00",
          "2019-08-31T00:00:00",
          "2019-09-30T00:00:00",
          "2019-10-31T00:00:00",
          "2019-11-30T00:00:00",
          "2019-12-31T00:00:00",
          "2020-01-31T00:00:00",
          "2020-02-29T00:00:00",
          "2020-03-31T00:00:00",
          "2020-04-30T00:00:00",
          "2020-05-31T00:00:00",
          "2020-06-30T00:00:00",
          "2020-07-31T00:00:00",
          "2020-08-31T00:00:00",
          "2020-09-30T00:00:00",
          "2020-10-31T00:00:00",
          "2020-11-30T00:00:00",
          "2020-12-31T00:00:00",
          "2021-01-31T00:00:00",
          "2021-02-28T00:00:00",
          "2021-03-31T00:00:00",
          "2021-04-30T00:00:00",
          "2021-05-31T00:00:00",
          "2021-06-30T00:00:00",
          "2021-07-31T00:00:00",
          "2021-08-31T00:00:00",
          "2021-09-30T00:00:00",
          "2021-10-31T00:00:00",
          "2021-11-30T00:00:00",
          "2021-12-31T00:00:00",
          "2022-01-31T00:00:00",
          "2022-02-28T00:00:00",
          "2022-03-31T00:00:00",
          "2022-04-30T00:00:00",
          "2022-05-31T00:00:00",
          "2022-06-30T00:00:00",
          "2022-07-31T00:00:00",
          "2022-08-31T00:00:00",
          "2022-09-30T00:00:00",
          "2022-10-31T00:00:00",
          "2022-11-30T00:00:00",
          "2022-12-31T00:00:00",
          "2023-01-31T00:00:00",
          "2023-02-28T00:00:00",
          "2023-03-31T00:00:00",
          "2023-04-30T00:00:00",
          "2023-05-31T00:00:00",
          "2023-06-30T00:00:00",
          "2023-07-31T00:00:00",
          "2023-08-31T00:00:00",
          "2023-09-30T00:00:00"
         ],
         "y": [
          17.791731402178875,
          13.65259121220253,
          22.999741667634066,
          26.153395987771358,
          29.24785095101613,
          24.63086485407682,
          33.557317055771314,
          20.2941134671072,
          12.897732243048946,
          13.372391065918952,
          16.654869084640016,
          10.125199975943387,
          9.166685161913597,
          7.180029351090141,
          0.5764091821801086,
          -7.855696371026319,
          -13.310781149157364,
          -10.982471118726526,
          -12.42673203117,
          -0.6985640617286556,
          9.252199579268577,
          10.595787576178479,
          12.091165703816808,
          8.455379401862123,
          3.4904075709743556,
          10.656686808097945,
          16.072753359353396,
          26.00088935867646,
          28.125594734123936,
          17.360775474927184,
          20.48884706094154,
          15.300908858448185,
          10.276697155563575,
          6.572650230996053,
          14.282592708850322,
          11.63232173312468,
          15.220054461442823,
          10.24528875140769,
          11.019594302871317,
          7.407483551466475,
          5.268331248485746,
          9.234632825605221,
          8.065707494718389,
          8.238383347650599,
          8.21617426716504,
          9.602795626997358,
          0.6737190042516846,
          3.2134211928682883,
          8.412094471044197,
          6.991578528965468,
          10.62862771265118,
          9.603808239641491,
          11.490871159466645,
          10.01495437198245,
          9.438887079748124,
          9.324947957628492,
          6.752892651603431,
          2.7968286492277192,
          2.330306898765911,
          1.1618348248125228,
          3.505605868215247,
          2.5586645986357532,
          1.0693027246626035,
          5.251409640659647,
          1.3163505185280957,
          1.2189710310860924,
          -2.305125983926365,
          -5.152811894968849,
          4.577238248516651,
          9.911666310270286,
          16.321903513759096,
          16.860541265629088,
          14.26335846980413,
          22.5308152594478,
          17.201412164493668,
          16.61412463274536,
          14.352697414202385,
          18.66855410997991,
          22.205581307945838,
          30.641406186985478,
          31.982469669313456,
          28.869747697748252,
          23.91820929930314,
          21.645598790319696,
          19.108707455853217,
          20.443324955436943,
          21.172809754543987,
          21.41694190024689,
          23.444421718970517,
          30.37775762718404,
          26.961547362733967,
          23.29985304670292,
          25.186456405759017,
          22.33228759868068,
          21.68615232588711,
          24.509093033255475,
          31.388651361566236,
          44.9969075434269,
          39.78028411709147,
          34.94926517092008,
          34.07942447819999,
          26.30996914115769,
          32.14430509429192,
          27.631684241925647,
          31.541507065123962,
          45.81691705627576,
          39.83229869500598,
          28.602447910993035,
          31.454292582000328,
          17.56947316613509,
          7.89690824867991,
          7.1209603771042405,
          17.44979907770005,
          18.093020228554625,
          20.318774521799078,
          28.27132549691007,
          20.745717363125575,
          19.053846308820507,
          19.579841885860375,
          20.705213061186175,
          17.864782859929598,
          16.909322874924435,
          30.279912192315624,
          27.71655797359563,
          25.468477738094595,
          21.60117080929892,
          21.733656512454587,
          13.53613095773738,
          12.178144852153183,
          14.838067187464073,
          10.374836215061451,
          9.738649768015405,
          8.063126700386933,
          8.826681805873859,
          15.789846310677014,
          9.942967108085043,
          6.872418581987513,
          -2.466510528166588,
          -5.077710521010479,
          -3.906032287640309,
          -3.9743114307496605,
          -18.94230762549774,
          -18.627839947957153,
          -12.401424068796414,
          -17.46305735339075,
          -14.440890261555655,
          -21.61607719682044,
          -26.326519936706653,
          -28.731780077301398,
          -8.342449921735513,
          -14.220323506260586,
          -15.903759238462959,
          -13.579937082418555,
          0.8797488239123303,
          -6.224984515189194,
          -7.231649447652953,
          -11.86295762966958,
          -18.378531739712894,
          -12.813089148936681,
          -15.064975805827062,
          -7.254846314086549,
          -9.482660238232764,
          -15.173499229750629,
          -15.138419687322715,
          -12.749903093311348,
          -27.21032099560068,
          -13.287000560034736,
          -17.71524897656624,
          -7.357404984184962,
          5.770693964008416,
          6.644034723502373,
          7.886619995455376,
          17.15040887551955,
          15.582119555549356,
          13.399083579447257,
          25.617684204863792,
          34.499186877391644,
          26.344484052264114,
          13.597668276185312,
          19.782505925485356,
          20.589814409843957,
          20.093886529738278,
          14.159432627929338,
          14.597430823038009,
          24.269592987294168,
          4.959077489683752,
          5.667809151206855,
          6.239387591200544,
          5.721268889098539,
          19.01785384059966,
          6.945154399332822,
          4.2592008960187115,
          12.076834862928957,
          9.084199808958283,
          7.906153731260303,
          13.982971091469516,
          3.90649944297772,
          4.329997261936765,
          4.136327036666901,
          9.25570385700967,
          12.031582048834625,
          9.459680269896692,
          8.120158080287224,
          0.6224485308405189,
          3.75770496162596,
          -0.6672729923232069,
          1.6581345424646612,
          3.559103975568887,
          18.890046286268724,
          15.507197063104497,
          18.471097524485238,
          9.215216404033216,
          -6.928572986190669,
          -0.7447006886997642,
          7.299786385349726,
          22.01913852181477,
          18.866099936759188,
          16.288591016356378,
          18.17012023826551,
          12.841931145152657,
          12.426851424615831,
          9.558543085093625,
          3.4731846732193126,
          -2.3534158418495017,
          0.07503894636776734,
          1.094940231844142,
          -3.629703841466498,
          -9.948585044665851,
          -11.05949130299989,
          -15.06236478054907,
          -16.347326036145173,
          -28.806585489937333,
          -36.52330384423648,
          -40.52454395027864,
          -38.94633289856234,
          -37.746860095913654,
          -48.434666738032156,
          -42.167422885857725,
          -34.69563091008064,
          -32.85834437153271,
          -28.861682089247626,
          -15.31800347672839,
          -18.37287374828296,
          -4.464195881906589,
          13.228953318121704,
          24.8751268968948,
          21.70550930957571,
          29.493558163314344,
          46.500313684194076,
          48.967567472609474,
          26.300238992135252,
          16.49222741499928,
          13.2773082213536,
          10.126611700904313,
          7.982679796783294,
          11.151169282144656,
          1.8068781102063411,
          8.25450417494366,
          9.263901683418075,
          16.68240229320656,
          19.562940966195978,
          13.538104295351175,
          16.9473423886429,
          20.240703883118826,
          21.96793048361613,
          17.02002721703055,
          13.12387530614796,
          1.525089213041414,
          5.235499333569268,
          4.239562601098729,
          -0.2640005455949233,
          -2.5132388016055667,
          0.8748454525858387,
          7.194765643091722,
          2.8039389703076822,
          -1.3587547322027713,
          2.369010019420701,
          8.088620590170581,
          12.010721801067685,
          21.24529662706471,
          16.479254234571155,
          13.526286506304857,
          15.62122813240759,
          16.357152903558212,
          9.664461124896516,
          8.871547434207077,
          13.408134549557063,
          14.370912842627781,
          17.930703502508216,
          17.318854368815735,
          16.223391077605726,
          14.863739501415164,
          17.45776407985393,
          30.736675543491632,
          16.582697535384078,
          13.899531512056855,
          12.427469023099388,
          19.380919888760857,
          12.591538523843264,
          18.98074289544524,
          13.278257343403912,
          9.13159564901111,
          9.708650596785125,
          13.040669035952876,
          14.878036422233217,
          5.4529027418729585,
          16.412375793981834,
          22.163009377393397,
          20.0776776361959,
          15.380753843066106,
          10.986960659158697,
          12.079797181911104,
          11.586666278872235,
          9.74896104304044,
          -0.5255012716820154,
          -1.722266065171907,
          0.09287090618494696,
          -0.47644108991694684,
          0.06652221911645888,
          -4.293783650340212,
          -9.853948109222843,
          -5.424405815759436,
          -1.7497984604725796,
          -2.8222220734435317,
          -4.253956761468332,
          -0.6993216447592395,
          6.267360690255803,
          10.083369775365824,
          5.705039223317139,
          5.891160148953982,
          8.527681804888052,
          10.831013111662863,
          19.80613329006974,
          15.775511008230245,
          13.149326239968328,
          11.36908718839558,
          16.317899872264277,
          14.906723531923777,
          14.873807516652954,
          11.648755339823339,
          17.892199953703333,
          18.514304068435127,
          13.43180563593859,
          20.544474662957704,
          22.04872980738696,
          15.218158672231807,
          16.059178719325683,
          11.472530952084481,
          9.904364963653844,
          12.203108587336455,
          15.247137186418744,
          15.381514526003327,
          9.550398219382418,
          6.567358292162492,
          0.4432296757857556,
          -2.4648772668498307,
          -1.9097804811091055,
          2.9912983799517785,
          7.81928200862945,
          4.024297519932108,
          8.45011852277247,
          7.2147242090971275,
          3.657854563340148,
          2.992505272771359,
          5.879285369413398,
          12.74201547006805,
          21.167824402776006,
          24.387955291808854,
          10.125286413558166,
          -5.10732245383181,
          -0.19418430860669508,
          8.083760589199006,
          7.347624450225708,
          8.9451288316761,
          12.917080314214216,
          10.427097275094274,
          6.889163097866321,
          14.583490674821297,
          14.636913122084174,
          15.682609307098966,
          26.883603879046355,
          46.07409941772775,
          36.24632611575874,
          38.0557988899985,
          37.299826131205386,
          33.26471542261537,
          30.71805318503914,
          6.488775938577737,
          27.10794221707918,
          18.5865440127742,
          25.62510838942229,
          17.777069876027127,
          17.531556833805418,
          12.693017675153756,
          12.196158666351812,
          1.5107741556948118,
          -13.502550522956817,
          -3.903617815754941,
          -23.199413799931314,
          -19.687409184610413,
          -7.6891055631528875,
          -16.67780266953479,
          -21.207311138334145,
          0.6274192427743618,
          -16.813150704863382,
          -4.475391451872847,
          -2.8145214168503463,
          1.6561500110321665,
          11.403305033753389,
          9.521774185701819,
          13.874165948988448
         ]
        },
        {
         "line": {
          "color": "lightgreen",
          "dash": "dot"
         },
         "mode": "lines",
         "name": "Future",
         "type": "scatter",
         "x": [
          "2023-09-30T00:00:00",
          "2023-10-31T00:00:00",
          "2023-11-30T00:00:00",
          "2023-12-31T00:00:00",
          "2024-01-31T00:00:00",
          "2024-02-29T00:00:00",
          "2024-03-31T00:00:00"
         ],
         "y": [
          13.874165948988448,
          18.07068703962953,
          15.907048165826748,
          12.212494510697427,
          12.38016438415183,
          12.629382231126527,
          13.92319242958899
         ]
        }
       ],
       "layout": {
        "height": 400,
        "hovermode": "x unified",
        "legend": {
         "orientation": "h",
         "x": 0,
         "xanchor": "left",
         "y": 0.05,
         "yanchor": "bottom"
        },
        "margin": {
         "b": 40,
         "l": 80,
         "r": 40,
         "t": 80
        },
        "template": {
         "data": {
          "bar": [
           {
            "error_x": {
             "color": "#f2f5fa"
            },
            "error_y": {
             "color": "#f2f5fa"
            },
            "marker": {
             "line": {
              "color": "rgb(17,17,17)",
              "width": 0.5
             },
             "pattern": {
              "fillmode": "overlay",
              "size": 10,
              "solidity": 0.2
             }
            },
            "type": "bar"
           }
          ],
          "barpolar": [
           {
            "marker": {
             "line": {
              "color": "rgb(17,17,17)",
              "width": 0.5
             },
             "pattern": {
              "fillmode": "overlay",
              "size": 10,
              "solidity": 0.2
             }
            },
            "type": "barpolar"
           }
          ],
          "carpet": [
           {
            "aaxis": {
             "endlinecolor": "#A2B1C6",
             "gridcolor": "#506784",
             "linecolor": "#506784",
             "minorgridcolor": "#506784",
             "startlinecolor": "#A2B1C6"
            },
            "baxis": {
             "endlinecolor": "#A2B1C6",
             "gridcolor": "#506784",
             "linecolor": "#506784",
             "minorgridcolor": "#506784",
             "startlinecolor": "#A2B1C6"
            },
            "type": "carpet"
           }
          ],
          "choropleth": [
           {
            "colorbar": {
             "outlinewidth": 0,
             "ticks": ""
            },
            "type": "choropleth"
           }
          ],
          "contour": [
           {
            "colorbar": {
             "outlinewidth": 0,
             "ticks": ""
            },
            "colorscale": [
             [
              0,
              "#0d0887"
             ],
             [
              0.1111111111111111,
              "#46039f"
             ],
             [
              0.2222222222222222,
              "#7201a8"
             ],
             [
              0.3333333333333333,
              "#9c179e"
             ],
             [
              0.4444444444444444,
              "#bd3786"
             ],
             [
              0.5555555555555556,
              "#d8576b"
             ],
             [
              0.6666666666666666,
              "#ed7953"
             ],
             [
              0.7777777777777778,
              "#fb9f3a"
             ],
             [
              0.8888888888888888,
              "#fdca26"
             ],
             [
              1,
              "#f0f921"
             ]
            ],
            "type": "contour"
           }
          ],
          "contourcarpet": [
           {
            "colorbar": {
             "outlinewidth": 0,
             "ticks": ""
            },
            "type": "contourcarpet"
           }
          ],
          "heatmap": [
           {
            "colorbar": {
             "outlinewidth": 0,
             "ticks": ""
            },
            "colorscale": [
             [
              0,
              "#0d0887"
             ],
             [
              0.1111111111111111,
              "#46039f"
             ],
             [
              0.2222222222222222,
              "#7201a8"
             ],
             [
              0.3333333333333333,
              "#9c179e"
             ],
             [
              0.4444444444444444,
              "#bd3786"
             ],
             [
              0.5555555555555556,
              "#d8576b"
             ],
             [
              0.6666666666666666,
              "#ed7953"
             ],
             [
              0.7777777777777778,
              "#fb9f3a"
             ],
             [
              0.8888888888888888,
              "#fdca26"
             ],
             [
              1,
              "#f0f921"
             ]
            ],
            "type": "heatmap"
           }
          ],
          "heatmapgl": [
           {
            "colorbar": {
             "outlinewidth": 0,
             "ticks": ""
            },
            "colorscale": [
             [
              0,
              "#0d0887"
             ],
             [
              0.1111111111111111,
              "#46039f"
             ],
             [
              0.2222222222222222,
              "#7201a8"
             ],
             [
              0.3333333333333333,
              "#9c179e"
             ],
             [
              0.4444444444444444,
              "#bd3786"
             ],
             [
              0.5555555555555556,
              "#d8576b"
             ],
             [
              0.6666666666666666,
              "#ed7953"
             ],
             [
              0.7777777777777778,
              "#fb9f3a"
             ],
             [
              0.8888888888888888,
              "#fdca26"
             ],
             [
              1,
              "#f0f921"
             ]
            ],
            "type": "heatmapgl"
           }
          ],
          "histogram": [
           {
            "marker": {
             "pattern": {
              "fillmode": "overlay",
              "size": 10,
              "solidity": 0.2
             }
            },
            "type": "histogram"
           }
          ],
          "histogram2d": [
           {
            "colorbar": {
             "outlinewidth": 0,
             "ticks": ""
            },
            "colorscale": [
             [
              0,
              "#0d0887"
             ],
             [
              0.1111111111111111,
              "#46039f"
             ],
             [
              0.2222222222222222,
              "#7201a8"
             ],
             [
              0.3333333333333333,
              "#9c179e"
             ],
             [
              0.4444444444444444,
              "#bd3786"
             ],
             [
              0.5555555555555556,
              "#d8576b"
             ],
             [
              0.6666666666666666,
              "#ed7953"
             ],
             [
              0.7777777777777778,
              "#fb9f3a"
             ],
             [
              0.8888888888888888,
              "#fdca26"
             ],
             [
              1,
              "#f0f921"
             ]
            ],
            "type": "histogram2d"
           }
          ],
          "histogram2dcontour": [
           {
            "colorbar": {
             "outlinewidth": 0,
             "ticks": ""
            },
            "colorscale": [
             [
              0,
              "#0d0887"
             ],
             [
              0.1111111111111111,
              "#46039f"
             ],
             [
              0.2222222222222222,
              "#7201a8"
             ],
             [
              0.3333333333333333,
              "#9c179e"
             ],
             [
              0.4444444444444444,
              "#bd3786"
             ],
             [
              0.5555555555555556,
              "#d8576b"
             ],
             [
              0.6666666666666666,
              "#ed7953"
             ],
             [
              0.7777777777777778,
              "#fb9f3a"
             ],
             [
              0.8888888888888888,
              "#fdca26"
             ],
             [
              1,
              "#f0f921"
             ]
            ],
            "type": "histogram2dcontour"
           }
          ],
          "mesh3d": [
           {
            "colorbar": {
             "outlinewidth": 0,
             "ticks": ""
            },
            "type": "mesh3d"
           }
          ],
          "parcoords": [
           {
            "line": {
             "colorbar": {
              "outlinewidth": 0,
              "ticks": ""
             }
            },
            "type": "parcoords"
           }
          ],
          "pie": [
           {
            "automargin": true,
            "type": "pie"
           }
          ],
          "scatter": [
           {
            "marker": {
             "line": {
              "color": "#283442"
             }
            },
            "type": "scatter"
           }
          ],
          "scatter3d": [
           {
            "line": {
             "colorbar": {
              "outlinewidth": 0,
              "ticks": ""
             }
            },
            "marker": {
             "colorbar": {
              "outlinewidth": 0,
              "ticks": ""
             }
            },
            "type": "scatter3d"
           }
          ],
          "scattercarpet": [
           {
            "marker": {
             "colorbar": {
              "outlinewidth": 0,
              "ticks": ""
             }
            },
            "type": "scattercarpet"
           }
          ],
          "scattergeo": [
           {
            "marker": {
             "colorbar": {
              "outlinewidth": 0,
              "ticks": ""
             }
            },
            "type": "scattergeo"
           }
          ],
          "scattergl": [
           {
            "marker": {
             "line": {
              "color": "#283442"
             }
            },
            "type": "scattergl"
           }
          ],
          "scattermapbox": [
           {
            "marker": {
             "colorbar": {
              "outlinewidth": 0,
              "ticks": ""
             }
            },
            "type": "scattermapbox"
           }
          ],
          "scatterpolar": [
           {
            "marker": {
             "colorbar": {
              "outlinewidth": 0,
              "ticks": ""
             }
            },
            "type": "scatterpolar"
           }
          ],
          "scatterpolargl": [
           {
            "marker": {
             "colorbar": {
              "outlinewidth": 0,
              "ticks": ""
             }
            },
            "type": "scatterpolargl"
           }
          ],
          "scatterternary": [
           {
            "marker": {
             "colorbar": {
              "outlinewidth": 0,
              "ticks": ""
             }
            },
            "type": "scatterternary"
           }
          ],
          "surface": [
           {
            "colorbar": {
             "outlinewidth": 0,
             "ticks": ""
            },
            "colorscale": [
             [
              0,
              "#0d0887"
             ],
             [
              0.1111111111111111,
              "#46039f"
             ],
             [
              0.2222222222222222,
              "#7201a8"
             ],
             [
              0.3333333333333333,
              "#9c179e"
             ],
             [
              0.4444444444444444,
              "#bd3786"
             ],
             [
              0.5555555555555556,
              "#d8576b"
             ],
             [
              0.6666666666666666,
              "#ed7953"
             ],
             [
              0.7777777777777778,
              "#fb9f3a"
             ],
             [
              0.8888888888888888,
              "#fdca26"
             ],
             [
              1,
              "#f0f921"
             ]
            ],
            "type": "surface"
           }
          ],
          "table": [
           {
            "cells": {
             "fill": {
              "color": "#506784"
             },
             "line": {
              "color": "rgb(17,17,17)"
             }
            },
            "header": {
             "fill": {
              "color": "#2a3f5f"
             },
             "line": {
              "color": "rgb(17,17,17)"
             }
            },
            "type": "table"
           }
          ]
         },
         "layout": {
          "annotationdefaults": {
           "arrowcolor": "#f2f5fa",
           "arrowhead": 0,
           "arrowwidth": 1
          },
          "autotypenumbers": "strict",
          "coloraxis": {
           "colorbar": {
            "outlinewidth": 0,
            "ticks": ""
           }
          },
          "colorscale": {
           "diverging": [
            [
             0,
             "#8e0152"
            ],
            [
             0.1,
             "#c51b7d"
            ],
            [
             0.2,
             "#de77ae"
            ],
            [
             0.3,
             "#f1b6da"
            ],
            [
             0.4,
             "#fde0ef"
            ],
            [
             0.5,
             "#f7f7f7"
            ],
            [
             0.6,
             "#e6f5d0"
            ],
            [
             0.7,
             "#b8e186"
            ],
            [
             0.8,
             "#7fbc41"
            ],
            [
             0.9,
             "#4d9221"
            ],
            [
             1,
             "#276419"
            ]
           ],
           "sequential": [
            [
             0,
             "#0d0887"
            ],
            [
             0.1111111111111111,
             "#46039f"
            ],
            [
             0.2222222222222222,
             "#7201a8"
            ],
            [
             0.3333333333333333,
             "#9c179e"
            ],
            [
             0.4444444444444444,
             "#bd3786"
            ],
            [
             0.5555555555555556,
             "#d8576b"
            ],
            [
             0.6666666666666666,
             "#ed7953"
            ],
            [
             0.7777777777777778,
             "#fb9f3a"
            ],
            [
             0.8888888888888888,
             "#fdca26"
            ],
            [
             1,
             "#f0f921"
            ]
           ],
           "sequentialminus": [
            [
             0,
             "#0d0887"
            ],
            [
             0.1111111111111111,
             "#46039f"
            ],
            [
             0.2222222222222222,
             "#7201a8"
            ],
            [
             0.3333333333333333,
             "#9c179e"
            ],
            [
             0.4444444444444444,
             "#bd3786"
            ],
            [
             0.5555555555555556,
             "#d8576b"
            ],
            [
             0.6666666666666666,
             "#ed7953"
            ],
            [
             0.7777777777777778,
             "#fb9f3a"
            ],
            [
             0.8888888888888888,
             "#fdca26"
            ],
            [
             1,
             "#f0f921"
            ]
           ]
          },
          "colorway": [
           "#636efa",
           "#EF553B",
           "#00cc96",
           "#ab63fa",
           "#FFA15A",
           "#19d3f3",
           "#FF6692",
           "#B6E880",
           "#FF97FF",
           "#FECB52"
          ],
          "font": {
           "color": "#f2f5fa"
          },
          "geo": {
           "bgcolor": "rgb(17,17,17)",
           "lakecolor": "rgb(17,17,17)",
           "landcolor": "rgb(17,17,17)",
           "showlakes": true,
           "showland": true,
           "subunitcolor": "#506784"
          },
          "hoverlabel": {
           "align": "left"
          },
          "hovermode": "closest",
          "mapbox": {
           "style": "dark"
          },
          "paper_bgcolor": "rgb(17,17,17)",
          "plot_bgcolor": "rgb(17,17,17)",
          "polar": {
           "angularaxis": {
            "gridcolor": "#506784",
            "linecolor": "#506784",
            "ticks": ""
           },
           "bgcolor": "rgb(17,17,17)",
           "radialaxis": {
            "gridcolor": "#506784",
            "linecolor": "#506784",
            "ticks": ""
           }
          },
          "scene": {
           "xaxis": {
            "backgroundcolor": "rgb(17,17,17)",
            "gridcolor": "#506784",
            "gridwidth": 2,
            "linecolor": "#506784",
            "showbackground": true,
            "ticks": "",
            "zerolinecolor": "#C8D4E3"
           },
           "yaxis": {
            "backgroundcolor": "rgb(17,17,17)",
            "gridcolor": "#506784",
            "gridwidth": 2,
            "linecolor": "#506784",
            "showbackground": true,
            "ticks": "",
            "zerolinecolor": "#C8D4E3"
           },
           "zaxis": {
            "backgroundcolor": "rgb(17,17,17)",
            "gridcolor": "#506784",
            "gridwidth": 2,
            "linecolor": "#506784",
            "showbackground": true,
            "ticks": "",
            "zerolinecolor": "#C8D4E3"
           }
          },
          "shapedefaults": {
           "line": {
            "color": "#f2f5fa"
           }
          },
          "sliderdefaults": {
           "bgcolor": "#C8D4E3",
           "bordercolor": "rgb(17,17,17)",
           "borderwidth": 1,
           "tickwidth": 0
          },
          "ternary": {
           "aaxis": {
            "gridcolor": "#506784",
            "linecolor": "#506784",
            "ticks": ""
           },
           "baxis": {
            "gridcolor": "#506784",
            "linecolor": "#506784",
            "ticks": ""
           },
           "bgcolor": "rgb(17,17,17)",
           "caxis": {
            "gridcolor": "#506784",
            "linecolor": "#506784",
            "ticks": ""
           }
          },
          "title": {
           "x": 0.05
          },
          "updatemenudefaults": {
           "bgcolor": "#506784",
           "borderwidth": 0
          },
          "xaxis": {
           "automargin": true,
           "gridcolor": "#283442",
           "linecolor": "#506784",
           "ticks": "",
           "title": {
            "standoff": 15
           },
           "zerolinecolor": "#283442",
           "zerolinewidth": 2
          },
          "yaxis": {
           "automargin": true,
           "gridcolor": "#283442",
           "linecolor": "#506784",
           "ticks": "",
           "title": {
            "standoff": 15
           },
           "zerolinecolor": "#283442",
           "zerolinewidth": 2
          }
         }
        },
        "title": {
         "text": "Prediction of %YoY S&P500 in 6-Month Based on Current Data<br><span style=\"font-size: 12.5px; color: lightgrey;\"> --Model predicts 1-month moving averaged target prices</span>"
        },
        "width": 700
       }
      }
     },
     "metadata": {},
     "output_type": "display_data"
    },
    {
     "data": {
      "application/vnd.plotly.v1+json": {
       "config": {
        "plotlyServerURL": "https://plot.ly"
       },
       "data": [
        {
         "marker": {
          "color": "red",
          "opacity": 0.5
         },
         "mode": "markers",
         "name": "Error",
         "type": "scatter",
         "x": [
          0,
          0.3333333333333333,
          0.6666666666666666,
          1,
          1.3333333333333333,
          1.6666666666666667,
          2,
          2.3333333333333335,
          2.6666666666666665,
          3,
          3.3333333333333335,
          3.6666666666666665,
          4,
          4.333333333333333,
          4.666666666666667,
          5,
          5.333333333333333,
          5.666666666666667,
          6,
          6.333333333333333,
          6.666666666666667,
          7,
          7.333333333333333,
          7.666666666666667,
          8,
          8.333333333333334,
          8.666666666666666,
          9,
          9.333333333333334,
          9.666666666666666,
          10,
          10.333333333333334,
          10.666666666666666,
          11,
          11.333333333333334,
          11.666666666666666,
          12,
          12.333333333333334,
          12.666666666666666,
          13,
          13.333333333333334,
          13.666666666666666,
          14,
          14.333333333333334,
          14.666666666666666,
          15,
          15.333333333333334,
          15.666666666666666,
          16,
          16.333333333333332,
          16.666666666666668,
          17,
          17.333333333333332,
          17.666666666666668,
          18,
          18.333333333333332,
          18.666666666666668,
          19,
          19.333333333333332,
          19.666666666666668,
          20,
          20.333333333333332,
          20.666666666666668,
          21,
          21.333333333333332,
          21.666666666666668,
          22,
          22.333333333333332,
          22.666666666666668,
          23,
          23.333333333333332,
          23.666666666666668,
          24,
          24.333333333333332,
          24.666666666666668,
          25,
          25.333333333333332,
          25.666666666666668,
          26,
          26.333333333333332,
          26.666666666666668,
          27,
          27.333333333333332,
          27.666666666666668,
          28,
          28.333333333333332,
          28.666666666666668,
          29,
          29.333333333333332,
          29.666666666666668,
          30,
          30.333333333333332,
          30.666666666666668,
          31,
          31.333333333333332,
          31.666666666666668,
          32,
          32.333333333333336,
          32.666666666666664,
          33,
          33.333333333333336,
          33.666666666666664,
          34,
          34.333333333333336,
          34.666666666666664,
          35,
          35.333333333333336,
          35.666666666666664,
          36,
          36.333333333333336,
          36.666666666666664,
          37,
          37.333333333333336,
          37.666666666666664,
          38,
          38.333333333333336,
          38.666666666666664,
          39,
          39.333333333333336,
          39.666666666666664,
          40,
          40.333333333333336,
          40.666666666666664,
          41,
          41.333333333333336,
          41.666666666666664,
          42,
          42.333333333333336,
          42.666666666666664,
          43,
          43.333333333333336,
          43.666666666666664,
          44,
          44.333333333333336,
          44.666666666666664,
          45,
          45.333333333333336,
          45.666666666666664,
          46,
          46.333333333333336,
          46.666666666666664,
          47,
          47.333333333333336,
          47.666666666666664,
          48,
          48.333333333333336,
          48.666666666666664,
          49,
          49.333333333333336,
          49.666666666666664,
          50,
          50.333333333333336,
          50.666666666666664,
          51,
          51.333333333333336,
          51.666666666666664,
          52,
          52.333333333333336,
          52.666666666666664,
          53,
          53.333333333333336,
          53.666666666666664,
          54,
          54.333333333333336,
          54.666666666666664,
          55,
          55.333333333333336,
          55.666666666666664,
          56,
          56.333333333333336,
          56.666666666666664,
          57,
          57.333333333333336,
          57.666666666666664,
          58,
          58.333333333333336,
          58.666666666666664,
          59,
          59.333333333333336,
          59.666666666666664,
          60,
          60.333333333333336,
          60.666666666666664,
          61,
          61.333333333333336,
          61.666666666666664,
          62,
          62.333333333333336,
          62.666666666666664,
          63,
          63.333333333333336,
          63.666666666666664,
          64,
          64.33333333333333,
          64.66666666666667,
          65,
          65.33333333333333,
          65.66666666666667,
          66,
          66.33333333333333,
          66.66666666666667,
          67,
          67.33333333333333,
          67.66666666666667,
          68,
          68.33333333333333,
          68.66666666666667,
          69,
          69.33333333333333,
          69.66666666666667,
          70,
          70.33333333333333,
          70.66666666666667,
          71,
          71.33333333333333,
          71.66666666666667,
          72,
          72.33333333333333,
          72.66666666666667,
          73,
          73.33333333333333,
          73.66666666666667,
          74,
          74.33333333333333,
          74.66666666666667,
          75,
          75.33333333333333,
          75.66666666666667,
          76,
          76.33333333333333,
          76.66666666666667,
          77,
          77.33333333333333,
          77.66666666666667,
          78,
          78.33333333333333,
          78.66666666666667,
          79,
          79.33333333333333,
          79.66666666666667,
          80,
          80.33333333333333,
          80.66666666666667,
          81,
          81.33333333333333,
          81.66666666666667,
          82,
          82.33333333333333,
          82.66666666666667,
          83,
          83.33333333333333,
          83.66666666666667,
          84,
          84.33333333333333,
          84.66666666666667,
          85,
          85.33333333333333,
          85.66666666666667,
          86,
          86.33333333333333,
          86.66666666666667,
          87,
          87.33333333333333,
          87.66666666666667,
          88,
          88.33333333333333,
          88.66666666666667,
          89,
          89.33333333333333,
          89.66666666666667,
          90,
          90.33333333333333,
          90.66666666666667,
          91,
          91.33333333333333,
          91.66666666666667,
          92,
          92.33333333333333,
          92.66666666666667,
          93,
          93.33333333333333,
          93.66666666666667,
          94,
          94.33333333333333,
          94.66666666666667,
          95,
          95.33333333333333,
          95.66666666666667,
          96,
          96.33333333333333,
          96.66666666666667,
          97,
          97.33333333333333,
          97.66666666666667,
          98,
          98.33333333333333,
          98.66666666666667,
          99,
          99.33333333333333,
          99.66666666666667,
          100,
          100.33333333333333,
          100.66666666666667,
          101,
          101.33333333333333,
          101.66666666666667,
          102,
          102.33333333333333,
          102.66666666666667,
          103,
          103.33333333333333,
          103.66666666666667,
          104,
          104.33333333333333,
          104.66666666666667,
          105,
          105.33333333333333,
          105.66666666666667,
          106,
          106.33333333333333,
          106.66666666666667,
          107,
          107.33333333333333,
          107.66666666666667,
          108,
          108.33333333333333,
          108.66666666666667,
          109,
          109.33333333333333,
          109.66666666666667,
          110,
          110.33333333333333,
          110.66666666666667,
          111,
          111.33333333333333,
          111.66666666666667,
          112,
          112.33333333333333,
          112.66666666666667,
          113,
          113.33333333333333,
          113.66666666666667,
          114,
          114.33333333333333,
          114.66666666666667,
          115,
          115.33333333333333,
          115.66666666666667,
          116,
          116.33333333333333,
          116.66666666666667,
          117,
          117.33333333333333,
          117.66666666666667,
          118,
          118.33333333333333,
          118.66666666666667,
          119,
          119.33333333333333,
          119.66666666666667,
          120,
          120.33333333333333,
          120.66666666666667,
          121,
          121.33333333333333,
          121.66666666666667,
          122,
          122.33333333333333,
          122.66666666666667,
          123,
          123.33333333333333,
          123.66666666666667,
          124,
          124.33333333333333,
          124.66666666666667,
          125,
          125.33333333333333,
          125.66666666666667,
          126,
          126.33333333333333,
          126.66666666666667,
          127,
          127.33333333333333,
          127.66666666666667,
          128,
          128.33333333333334,
          128.66666666666666,
          129,
          129.33333333333334,
          129.66666666666666,
          130,
          130.33333333333334,
          130.66666666666666,
          131,
          131.33333333333334,
          131.66666666666666,
          132,
          132.33333333333334,
          132.66666666666666,
          133,
          133.33333333333334,
          133.66666666666666,
          134,
          134.33333333333334,
          134.66666666666666,
          135,
          135.33333333333334,
          135.66666666666666,
          136,
          136.33333333333334,
          136.66666666666666
         ],
         "y": [
          -9.434208069082363,
          -20.73484644888501,
          -5.4067123774910115,
          4.147451311916566,
          2.835730087586139,
          -2.619600486242188,
          22.931040381872364,
          5.397612920482674,
          -2.386972226901282,
          6.538657651794143,
          3.9536263016447464,
          -2.4667795963402757,
          6.2569510787738265,
          15.400263707326019,
          12.920675788781818,
          2.8271062251736403,
          -6.440643375064543,
          -4.423333292999513,
          -16.939314597553004,
          -11.298458943485356,
          -1.1261020404055913,
          -2.868544403421607,
          4.173779352708794,
          4.785189174596432,
          -5.399106455329802,
          -11.934457682455516,
          -10.658173228343493,
          -3.094509393636468,
          11.677205497200713,
          -8.945927570333787,
          1.6332638072155596,
          2.8700362803709165,
          2.6891482167858642,
          -3.9804526239106623,
          7.736144151712659,
          1.6689607509447661,
          5.834016420743582,
          5.5415468886183445,
          3.3003132292467106,
          0.7238347674494374,
          -9.690893926133084,
          4.770369649630318,
          0.7267965671812542,
          0.804413934441425,
          -3.6691859587900595,
          3.520137597870227,
          -7.714386407069205,
          -7.17271655629928,
          2.773374518766171,
          -4.971322450511473,
          0.7842030873461425,
          -2.1354663271623906,
          4.433956354624549,
          2.9597981086855807,
          -0.3222658195226522,
          3.9661114056949263,
          8.059161440467026,
          0.3615163610686887,
          0.9286770259623882,
          2.5513116149455604,
          1.245100039005822,
          -0.014894970484156556,
          0.24564795386464877,
          4.285242515638935,
          3.0703958537743636,
          2.7582620602334194,
          0.018324995948920453,
          -9.487700657439749,
          -7.747504061518323,
          -4.237502657459153,
          -0.5236659088175699,
          -5.7563388908281965,
          -8.387535254493747,
          4.362185756678503,
          -9.100155542472141,
          -6.493738707170454,
          -19.079820794168445,
          -15.442101367107181,
          -12.997003908797925,
          -0.7584939807957696,
          3.0655295211534828,
          1.774887488302248,
          -1.5261035036842152,
          -1.4622497425508811,
          5.250753681030865,
          4.40609555262947,
          3.56187758794675,
          0.1323297710551401,
          -1.6063778973378646,
          10.114091456880754,
          3.3553794745069396,
          -0.18280959688952336,
          7.894435473584338,
          -0.1649299120660359,
          -5.089319261732992,
          -7.477249391597557,
          -17.733933114588663,
          7.039272583450483,
          1.9600222714557987,
          5.26560220661603,
          7.874040239398738,
          -4.698212605413158,
          7.452122487246903,
          -5.058429323967772,
          -13.977037829397087,
          7.080555119806881,
          11.240335119814333,
          0.5052037398938118,
          14.021797186131398,
          11.142348250718586,
          0.5358346155212335,
          -13.002156306403553,
          -4.3452579819285155,
          -8.575568927410725,
          -10.219436642849885,
          10.260957418855043,
          3.9887402705739596,
          -1.0433026645041998,
          0.23475929462853173,
          -0.3621335060491262,
          -0.6999970127770858,
          -21.024196447476207,
          4.154313759601397,
          3.663839760157302,
          6.108369426040316,
          2.0751241504205176,
          12.760824702360893,
          3.1923540617379214,
          -4.318661023528625,
          6.056480039414588,
          1.252362417693261,
          3.7730767789106876,
          0.3782880885665225,
          -6.1133757841765775,
          3.7996027239104,
          5.065976500816326,
          12.197463486821434,
          7.672674137691848,
          -3.0374976809983445,
          5.35027971535637,
          18.597056792438842,
          -4.9677900743873185,
          -7.0285134571263885,
          3.425605669079694,
          -2.1153233576996335,
          10.867480677172317,
          5.920804946027598,
          -0.46811859319880256,
          -15.385264505085473,
          4.700243251007089,
          3.042365413142681,
          -5.160500110410119,
          -12.464742103720601,
          14.688908171661785,
          8.79945686258735,
          11.925801394664905,
          12.873053712752135,
          0.8093471186510541,
          8.865386537616518,
          1.3554147205641431,
          10.5730498040677,
          13.883303718870799,
          9.11423310294164,
          8.858396224558733,
          13.327543821226664,
          -12.35313062806015,
          -3.583495268174543,
          -16.167492090379096,
          -15.989291391118227,
          -4.265657156137632,
          -15.51889517950077,
          -10.735800225967953,
          4.132289456619141,
          -10.798280377270485,
          -18.788597704486463,
          -10.498336501882875,
          1.7195916661666644,
          5.581487338665067,
          -2.7049108785729015,
          2.7132431424876593,
          9.339804471623639,
          10.54735628336457,
          2.2504405056239545,
          7.032070905497127,
          13.343492018460505,
          -4.034374921263003,
          1.23507246912828,
          1.1159717631493855,
          0.8926839210216624,
          14.543011921261524,
          0.6257819741206117,
          -0.1664847169559831,
          0.05380845602124573,
          -1.428910280060725,
          -2.3425594201412645,
          7.186823337781539,
          -2.5391257501262676,
          1.3289746038092707,
          -4.228393551319173,
          2.853239570132663,
          2.351673477235897,
          -3.831585928016871,
          1.5242734121955346,
          -5.997883201468152,
          0.31574522965483753,
          -7.50886446683696,
          -7.052724897820519,
          -10.602330499511895,
          6.793011777772016,
          1.887765324843798,
          6.1156166475601985,
          -0.6359469603475052,
          -16.658506547819968,
          -13.850049471736204,
          -13.212936044404024,
          3.6637587881783134,
          4.875688976152318,
          3.2369388745363974,
          3.879591518501984,
          0.4001651200238481,
          6.678723119142255,
          6.028970018745667,
          7.623391996860965,
          3.0623405672933566,
          6.983533463186731,
          7.623676621251706,
          4.879265768877811,
          4.908233341810385,
          1.851515735333642,
          -2.0934819898802015,
          7.257718316134994,
          8.668404703106269,
          2.9665498245197526,
          -2.0387508893719186,
          1.1443438538069444,
          7.009381371810683,
          -8.755981062592085,
          -5.159362715752707,
          -0.330673644452844,
          -4.6802199437372956,
          -6.7767491302537515,
          5.121958943849961,
          -9.00355118326578,
          -11.425738220616259,
          -9.01843765093058,
          1.420936408554077,
          -8.32185408077098,
          -20.758785071310516,
          -0.06868388027467631,
          13.005566037516516,
          7.775311688608323,
          4.375668140118082,
          1.7206187315053505,
          7.313619492751126,
          0.024909465847639645,
          -3.0421810373711953,
          -5.943917648111311,
          -4.528209678816516,
          -10.50106064582904,
          -3.483464526599228,
          6.188913007238698,
          -1.3705957594971032,
          -6.532330917725542,
          -7.888456084174653,
          4.658557032557788,
          0.8611386219437627,
          13.980859852678975,
          -4.394154104948616,
          -0.38983710814252426,
          4.242746267492421,
          -2.3081363309268803,
          -5.411031470249439,
          -5.35823249764783,
          4.679380071220757,
          5.396118302964545,
          -4.50268639190663,
          -4.366365829383958,
          -7.309810699824448,
          -15.322186224994102,
          8.569961179651184,
          2.9086426612682725,
          0.12059557968380652,
          1.4716905385453511,
          5.446837592506768,
          -1.7465007022052568,
          -5.411196607081543,
          -11.044487684953994,
          -3.5506227326102753,
          -4.283869338554261,
          1.2237853559287366,
          -0.49660708541266274,
          -9.523015296022514,
          -10.054980776411472,
          1.135425970167276,
          -2.406561147248027,
          -8.862364415486242,
          -6.891417519239184,
          1.4549439057978404,
          -5.365337361232752,
          -3.0546397723459577,
          -1.2519501224710332,
          -13.551002993912835,
          -7.581348617748633,
          -1.8471219594176667,
          0.3831564787781314,
          -5.937731044875158,
          4.4971272799288435,
          8.98437831643433,
          9.63353125639368,
          4.681952716827396,
          1.4307733916415053,
          6.831426940755873,
          2.6172390850136313,
          11.305834784898884,
          2.1242109273648344,
          -4.760350211268916,
          -0.528627534076323,
          0.25015863066540805,
          2.8108968910699677,
          3.8920096274573703,
          -9.459831267073715,
          -4.455340175083311,
          -1.2544016929822492,
          -4.555042821662076,
          -7.5697985959857395,
          -10.778010813475033,
          -6.661603255442577,
          7.833168150603098,
          0.01384606973682967,
          -3.643862518329674,
          -8.925320331833154,
          -11.496034727886602,
          5.096510623847964,
          0.3346600517458693,
          -1.865342921796687,
          -4.094058904087889,
          2.6677371081108934,
          1.0556464488451098,
          -1.3183680301235459,
          -9.474407562604235,
          -2.5174765336900897,
          -0.905661454852801,
          -10.480919240141459,
          5.72875816373635,
          10.276274758403726,
          4.151549199038785,
          3.891089957335657,
          -0.6987572647482505,
          -4.101625539342248,
          -5.188922411061579,
          -0.4163589483477743,
          10.081856240967836,
          5.297841528831416,
          12.804618141783173,
          4.682536089940087,
          -5.068574258748249,
          -9.23803884174204,
          -8.253958462102817,
          6.089693511928943,
          -4.193490454034088,
          2.623664518602391,
          6.355176756783525,
          1.5040988688508028,
          -9.022660987000258,
          -7.917331120598319,
          -16.1360547550904,
          1.8852570774415867,
          18.2924052605996,
          18.938785674779513,
          -3.9735114192987493,
          -10.8135019752907,
          2.694808779037393,
          -2.407515693205821,
          -10.663890437885875,
          -0.058860178835448806,
          2.7762229594983507,
          -8.413382774203173,
          -1.67543238088488,
          -0.5147513457788495,
          -13.324368512385123,
          -26.830902386066676,
          2.5111633123543697,
          -1.8509695724223576,
          -0.5602643122535582,
          2.93423855981311,
          4.056728127963041,
          2.6318194930230803,
          -34.350253830219,
          1.0044985252201855,
          -8.30619464859705,
          4.051117032914366,
          3.010134607582291,
          3.498440418638838,
          13.870672422839043,
          13.90781614623832,
          13.427472635915866,
          -7.474016586582714,
          8.64823537123696,
          -6.4399660564781875,
          -3.762557793287977,
          2.9719387236464385,
          2.765024533894479,
          -11.486463710727762,
          9.859142688265454,
          -7.518184396452771,
          -5.384162972446761,
          -3.968404429521444,
          -15.911439519926926,
          0.298275664457341,
          -4.451933936927773,
          -5.7160210909865015
         ]
        },
        {
         "histnorm": "",
         "marker": {
          "color": "grey",
          "opacity": 0.5
         },
         "name": "Distribution",
         "nbinsy": 20,
         "type": "histogram",
         "y": [
          -9.434208069082363,
          -20.73484644888501,
          -5.4067123774910115,
          4.147451311916566,
          2.835730087586139,
          -2.619600486242188,
          22.931040381872364,
          5.397612920482674,
          -2.386972226901282,
          6.538657651794143,
          3.9536263016447464,
          -2.4667795963402757,
          6.2569510787738265,
          15.400263707326019,
          12.920675788781818,
          2.8271062251736403,
          -6.440643375064543,
          -4.423333292999513,
          -16.939314597553004,
          -11.298458943485356,
          -1.1261020404055913,
          -2.868544403421607,
          4.173779352708794,
          4.785189174596432,
          -5.399106455329802,
          -11.934457682455516,
          -10.658173228343493,
          -3.094509393636468,
          11.677205497200713,
          -8.945927570333787,
          1.6332638072155596,
          2.8700362803709165,
          2.6891482167858642,
          -3.9804526239106623,
          7.736144151712659,
          1.6689607509447661,
          5.834016420743582,
          5.5415468886183445,
          3.3003132292467106,
          0.7238347674494374,
          -9.690893926133084,
          4.770369649630318,
          0.7267965671812542,
          0.804413934441425,
          -3.6691859587900595,
          3.520137597870227,
          -7.714386407069205,
          -7.17271655629928,
          2.773374518766171,
          -4.971322450511473,
          0.7842030873461425,
          -2.1354663271623906,
          4.433956354624549,
          2.9597981086855807,
          -0.3222658195226522,
          3.9661114056949263,
          8.059161440467026,
          0.3615163610686887,
          0.9286770259623882,
          2.5513116149455604,
          1.245100039005822,
          -0.014894970484156556,
          0.24564795386464877,
          4.285242515638935,
          3.0703958537743636,
          2.7582620602334194,
          0.018324995948920453,
          -9.487700657439749,
          -7.747504061518323,
          -4.237502657459153,
          -0.5236659088175699,
          -5.7563388908281965,
          -8.387535254493747,
          4.362185756678503,
          -9.100155542472141,
          -6.493738707170454,
          -19.079820794168445,
          -15.442101367107181,
          -12.997003908797925,
          -0.7584939807957696,
          3.0655295211534828,
          1.774887488302248,
          -1.5261035036842152,
          -1.4622497425508811,
          5.250753681030865,
          4.40609555262947,
          3.56187758794675,
          0.1323297710551401,
          -1.6063778973378646,
          10.114091456880754,
          3.3553794745069396,
          -0.18280959688952336,
          7.894435473584338,
          -0.1649299120660359,
          -5.089319261732992,
          -7.477249391597557,
          -17.733933114588663,
          7.039272583450483,
          1.9600222714557987,
          5.26560220661603,
          7.874040239398738,
          -4.698212605413158,
          7.452122487246903,
          -5.058429323967772,
          -13.977037829397087,
          7.080555119806881,
          11.240335119814333,
          0.5052037398938118,
          14.021797186131398,
          11.142348250718586,
          0.5358346155212335,
          -13.002156306403553,
          -4.3452579819285155,
          -8.575568927410725,
          -10.219436642849885,
          10.260957418855043,
          3.9887402705739596,
          -1.0433026645041998,
          0.23475929462853173,
          -0.3621335060491262,
          -0.6999970127770858,
          -21.024196447476207,
          4.154313759601397,
          3.663839760157302,
          6.108369426040316,
          2.0751241504205176,
          12.760824702360893,
          3.1923540617379214,
          -4.318661023528625,
          6.056480039414588,
          1.252362417693261,
          3.7730767789106876,
          0.3782880885665225,
          -6.1133757841765775,
          3.7996027239104,
          5.065976500816326,
          12.197463486821434,
          7.672674137691848,
          -3.0374976809983445,
          5.35027971535637,
          18.597056792438842,
          -4.9677900743873185,
          -7.0285134571263885,
          3.425605669079694,
          -2.1153233576996335,
          10.867480677172317,
          5.920804946027598,
          -0.46811859319880256,
          -15.385264505085473,
          4.700243251007089,
          3.042365413142681,
          -5.160500110410119,
          -12.464742103720601,
          14.688908171661785,
          8.79945686258735,
          11.925801394664905,
          12.873053712752135,
          0.8093471186510541,
          8.865386537616518,
          1.3554147205641431,
          10.5730498040677,
          13.883303718870799,
          9.11423310294164,
          8.858396224558733,
          13.327543821226664,
          -12.35313062806015,
          -3.583495268174543,
          -16.167492090379096,
          -15.989291391118227,
          -4.265657156137632,
          -15.51889517950077,
          -10.735800225967953,
          4.132289456619141,
          -10.798280377270485,
          -18.788597704486463,
          -10.498336501882875,
          1.7195916661666644,
          5.581487338665067,
          -2.7049108785729015,
          2.7132431424876593,
          9.339804471623639,
          10.54735628336457,
          2.2504405056239545,
          7.032070905497127,
          13.343492018460505,
          -4.034374921263003,
          1.23507246912828,
          1.1159717631493855,
          0.8926839210216624,
          14.543011921261524,
          0.6257819741206117,
          -0.1664847169559831,
          0.05380845602124573,
          -1.428910280060725,
          -2.3425594201412645,
          7.186823337781539,
          -2.5391257501262676,
          1.3289746038092707,
          -4.228393551319173,
          2.853239570132663,
          2.351673477235897,
          -3.831585928016871,
          1.5242734121955346,
          -5.997883201468152,
          0.31574522965483753,
          -7.50886446683696,
          -7.052724897820519,
          -10.602330499511895,
          6.793011777772016,
          1.887765324843798,
          6.1156166475601985,
          -0.6359469603475052,
          -16.658506547819968,
          -13.850049471736204,
          -13.212936044404024,
          3.6637587881783134,
          4.875688976152318,
          3.2369388745363974,
          3.879591518501984,
          0.4001651200238481,
          6.678723119142255,
          6.028970018745667,
          7.623391996860965,
          3.0623405672933566,
          6.983533463186731,
          7.623676621251706,
          4.879265768877811,
          4.908233341810385,
          1.851515735333642,
          -2.0934819898802015,
          7.257718316134994,
          8.668404703106269,
          2.9665498245197526,
          -2.0387508893719186,
          1.1443438538069444,
          7.009381371810683,
          -8.755981062592085,
          -5.159362715752707,
          -0.330673644452844,
          -4.6802199437372956,
          -6.7767491302537515,
          5.121958943849961,
          -9.00355118326578,
          -11.425738220616259,
          -9.01843765093058,
          1.420936408554077,
          -8.32185408077098,
          -20.758785071310516,
          -0.06868388027467631,
          13.005566037516516,
          7.775311688608323,
          4.375668140118082,
          1.7206187315053505,
          7.313619492751126,
          0.024909465847639645,
          -3.0421810373711953,
          -5.943917648111311,
          -4.528209678816516,
          -10.50106064582904,
          -3.483464526599228,
          6.188913007238698,
          -1.3705957594971032,
          -6.532330917725542,
          -7.888456084174653,
          4.658557032557788,
          0.8611386219437627,
          13.980859852678975,
          -4.394154104948616,
          -0.38983710814252426,
          4.242746267492421,
          -2.3081363309268803,
          -5.411031470249439,
          -5.35823249764783,
          4.679380071220757,
          5.396118302964545,
          -4.50268639190663,
          -4.366365829383958,
          -7.309810699824448,
          -15.322186224994102,
          8.569961179651184,
          2.9086426612682725,
          0.12059557968380652,
          1.4716905385453511,
          5.446837592506768,
          -1.7465007022052568,
          -5.411196607081543,
          -11.044487684953994,
          -3.5506227326102753,
          -4.283869338554261,
          1.2237853559287366,
          -0.49660708541266274,
          -9.523015296022514,
          -10.054980776411472,
          1.135425970167276,
          -2.406561147248027,
          -8.862364415486242,
          -6.891417519239184,
          1.4549439057978404,
          -5.365337361232752,
          -3.0546397723459577,
          -1.2519501224710332,
          -13.551002993912835,
          -7.581348617748633,
          -1.8471219594176667,
          0.3831564787781314,
          -5.937731044875158,
          4.4971272799288435,
          8.98437831643433,
          9.63353125639368,
          4.681952716827396,
          1.4307733916415053,
          6.831426940755873,
          2.6172390850136313,
          11.305834784898884,
          2.1242109273648344,
          -4.760350211268916,
          -0.528627534076323,
          0.25015863066540805,
          2.8108968910699677,
          3.8920096274573703,
          -9.459831267073715,
          -4.455340175083311,
          -1.2544016929822492,
          -4.555042821662076,
          -7.5697985959857395,
          -10.778010813475033,
          -6.661603255442577,
          7.833168150603098,
          0.01384606973682967,
          -3.643862518329674,
          -8.925320331833154,
          -11.496034727886602,
          5.096510623847964,
          0.3346600517458693,
          -1.865342921796687,
          -4.094058904087889,
          2.6677371081108934,
          1.0556464488451098,
          -1.3183680301235459,
          -9.474407562604235,
          -2.5174765336900897,
          -0.905661454852801,
          -10.480919240141459,
          5.72875816373635,
          10.276274758403726,
          4.151549199038785,
          3.891089957335657,
          -0.6987572647482505,
          -4.101625539342248,
          -5.188922411061579,
          -0.4163589483477743,
          10.081856240967836,
          5.297841528831416,
          12.804618141783173,
          4.682536089940087,
          -5.068574258748249,
          -9.23803884174204,
          -8.253958462102817,
          6.089693511928943,
          -4.193490454034088,
          2.623664518602391,
          6.355176756783525,
          1.5040988688508028,
          -9.022660987000258,
          -7.917331120598319,
          -16.1360547550904,
          1.8852570774415867,
          18.2924052605996,
          18.938785674779513,
          -3.9735114192987493,
          -10.8135019752907,
          2.694808779037393,
          -2.407515693205821,
          -10.663890437885875,
          -0.058860178835448806,
          2.7762229594983507,
          -8.413382774203173,
          -1.67543238088488,
          -0.5147513457788495,
          -13.324368512385123,
          -26.830902386066676,
          2.5111633123543697,
          -1.8509695724223576,
          -0.5602643122535582,
          2.93423855981311,
          4.056728127963041,
          2.6318194930230803,
          -34.350253830219,
          1.0044985252201855,
          -8.30619464859705,
          4.051117032914366,
          3.010134607582291,
          3.498440418638838,
          13.870672422839043,
          13.90781614623832,
          13.427472635915866,
          -7.474016586582714,
          8.64823537123696,
          -6.4399660564781875,
          -3.762557793287977,
          2.9719387236464385,
          2.765024533894479,
          -11.486463710727762,
          9.859142688265454,
          -7.518184396452771,
          -5.384162972446761,
          -3.968404429521444,
          -15.911439519926926,
          0.298275664457341,
          -4.451933936927773,
          -5.7160210909865015
         ]
        }
       ],
       "layout": {
        "height": 400,
        "hovermode": "x unified",
        "legend": {
         "orientation": "h",
         "x": 0.95,
         "xanchor": "right",
         "y": 1.05,
         "yanchor": "bottom"
        },
        "margin": {
         "b": 40,
         "l": 80,
         "r": 40,
         "t": 80
        },
        "template": {
         "data": {
          "bar": [
           {
            "error_x": {
             "color": "#f2f5fa"
            },
            "error_y": {
             "color": "#f2f5fa"
            },
            "marker": {
             "line": {
              "color": "rgb(17,17,17)",
              "width": 0.5
             },
             "pattern": {
              "fillmode": "overlay",
              "size": 10,
              "solidity": 0.2
             }
            },
            "type": "bar"
           }
          ],
          "barpolar": [
           {
            "marker": {
             "line": {
              "color": "rgb(17,17,17)",
              "width": 0.5
             },
             "pattern": {
              "fillmode": "overlay",
              "size": 10,
              "solidity": 0.2
             }
            },
            "type": "barpolar"
           }
          ],
          "carpet": [
           {
            "aaxis": {
             "endlinecolor": "#A2B1C6",
             "gridcolor": "#506784",
             "linecolor": "#506784",
             "minorgridcolor": "#506784",
             "startlinecolor": "#A2B1C6"
            },
            "baxis": {
             "endlinecolor": "#A2B1C6",
             "gridcolor": "#506784",
             "linecolor": "#506784",
             "minorgridcolor": "#506784",
             "startlinecolor": "#A2B1C6"
            },
            "type": "carpet"
           }
          ],
          "choropleth": [
           {
            "colorbar": {
             "outlinewidth": 0,
             "ticks": ""
            },
            "type": "choropleth"
           }
          ],
          "contour": [
           {
            "colorbar": {
             "outlinewidth": 0,
             "ticks": ""
            },
            "colorscale": [
             [
              0,
              "#0d0887"
             ],
             [
              0.1111111111111111,
              "#46039f"
             ],
             [
              0.2222222222222222,
              "#7201a8"
             ],
             [
              0.3333333333333333,
              "#9c179e"
             ],
             [
              0.4444444444444444,
              "#bd3786"
             ],
             [
              0.5555555555555556,
              "#d8576b"
             ],
             [
              0.6666666666666666,
              "#ed7953"
             ],
             [
              0.7777777777777778,
              "#fb9f3a"
             ],
             [
              0.8888888888888888,
              "#fdca26"
             ],
             [
              1,
              "#f0f921"
             ]
            ],
            "type": "contour"
           }
          ],
          "contourcarpet": [
           {
            "colorbar": {
             "outlinewidth": 0,
             "ticks": ""
            },
            "type": "contourcarpet"
           }
          ],
          "heatmap": [
           {
            "colorbar": {
             "outlinewidth": 0,
             "ticks": ""
            },
            "colorscale": [
             [
              0,
              "#0d0887"
             ],
             [
              0.1111111111111111,
              "#46039f"
             ],
             [
              0.2222222222222222,
              "#7201a8"
             ],
             [
              0.3333333333333333,
              "#9c179e"
             ],
             [
              0.4444444444444444,
              "#bd3786"
             ],
             [
              0.5555555555555556,
              "#d8576b"
             ],
             [
              0.6666666666666666,
              "#ed7953"
             ],
             [
              0.7777777777777778,
              "#fb9f3a"
             ],
             [
              0.8888888888888888,
              "#fdca26"
             ],
             [
              1,
              "#f0f921"
             ]
            ],
            "type": "heatmap"
           }
          ],
          "heatmapgl": [
           {
            "colorbar": {
             "outlinewidth": 0,
             "ticks": ""
            },
            "colorscale": [
             [
              0,
              "#0d0887"
             ],
             [
              0.1111111111111111,
              "#46039f"
             ],
             [
              0.2222222222222222,
              "#7201a8"
             ],
             [
              0.3333333333333333,
              "#9c179e"
             ],
             [
              0.4444444444444444,
              "#bd3786"
             ],
             [
              0.5555555555555556,
              "#d8576b"
             ],
             [
              0.6666666666666666,
              "#ed7953"
             ],
             [
              0.7777777777777778,
              "#fb9f3a"
             ],
             [
              0.8888888888888888,
              "#fdca26"
             ],
             [
              1,
              "#f0f921"
             ]
            ],
            "type": "heatmapgl"
           }
          ],
          "histogram": [
           {
            "marker": {
             "pattern": {
              "fillmode": "overlay",
              "size": 10,
              "solidity": 0.2
             }
            },
            "type": "histogram"
           }
          ],
          "histogram2d": [
           {
            "colorbar": {
             "outlinewidth": 0,
             "ticks": ""
            },
            "colorscale": [
             [
              0,
              "#0d0887"
             ],
             [
              0.1111111111111111,
              "#46039f"
             ],
             [
              0.2222222222222222,
              "#7201a8"
             ],
             [
              0.3333333333333333,
              "#9c179e"
             ],
             [
              0.4444444444444444,
              "#bd3786"
             ],
             [
              0.5555555555555556,
              "#d8576b"
             ],
             [
              0.6666666666666666,
              "#ed7953"
             ],
             [
              0.7777777777777778,
              "#fb9f3a"
             ],
             [
              0.8888888888888888,
              "#fdca26"
             ],
             [
              1,
              "#f0f921"
             ]
            ],
            "type": "histogram2d"
           }
          ],
          "histogram2dcontour": [
           {
            "colorbar": {
             "outlinewidth": 0,
             "ticks": ""
            },
            "colorscale": [
             [
              0,
              "#0d0887"
             ],
             [
              0.1111111111111111,
              "#46039f"
             ],
             [
              0.2222222222222222,
              "#7201a8"
             ],
             [
              0.3333333333333333,
              "#9c179e"
             ],
             [
              0.4444444444444444,
              "#bd3786"
             ],
             [
              0.5555555555555556,
              "#d8576b"
             ],
             [
              0.6666666666666666,
              "#ed7953"
             ],
             [
              0.7777777777777778,
              "#fb9f3a"
             ],
             [
              0.8888888888888888,
              "#fdca26"
             ],
             [
              1,
              "#f0f921"
             ]
            ],
            "type": "histogram2dcontour"
           }
          ],
          "mesh3d": [
           {
            "colorbar": {
             "outlinewidth": 0,
             "ticks": ""
            },
            "type": "mesh3d"
           }
          ],
          "parcoords": [
           {
            "line": {
             "colorbar": {
              "outlinewidth": 0,
              "ticks": ""
             }
            },
            "type": "parcoords"
           }
          ],
          "pie": [
           {
            "automargin": true,
            "type": "pie"
           }
          ],
          "scatter": [
           {
            "marker": {
             "line": {
              "color": "#283442"
             }
            },
            "type": "scatter"
           }
          ],
          "scatter3d": [
           {
            "line": {
             "colorbar": {
              "outlinewidth": 0,
              "ticks": ""
             }
            },
            "marker": {
             "colorbar": {
              "outlinewidth": 0,
              "ticks": ""
             }
            },
            "type": "scatter3d"
           }
          ],
          "scattercarpet": [
           {
            "marker": {
             "colorbar": {
              "outlinewidth": 0,
              "ticks": ""
             }
            },
            "type": "scattercarpet"
           }
          ],
          "scattergeo": [
           {
            "marker": {
             "colorbar": {
              "outlinewidth": 0,
              "ticks": ""
             }
            },
            "type": "scattergeo"
           }
          ],
          "scattergl": [
           {
            "marker": {
             "line": {
              "color": "#283442"
             }
            },
            "type": "scattergl"
           }
          ],
          "scattermapbox": [
           {
            "marker": {
             "colorbar": {
              "outlinewidth": 0,
              "ticks": ""
             }
            },
            "type": "scattermapbox"
           }
          ],
          "scatterpolar": [
           {
            "marker": {
             "colorbar": {
              "outlinewidth": 0,
              "ticks": ""
             }
            },
            "type": "scatterpolar"
           }
          ],
          "scatterpolargl": [
           {
            "marker": {
             "colorbar": {
              "outlinewidth": 0,
              "ticks": ""
             }
            },
            "type": "scatterpolargl"
           }
          ],
          "scatterternary": [
           {
            "marker": {
             "colorbar": {
              "outlinewidth": 0,
              "ticks": ""
             }
            },
            "type": "scatterternary"
           }
          ],
          "surface": [
           {
            "colorbar": {
             "outlinewidth": 0,
             "ticks": ""
            },
            "colorscale": [
             [
              0,
              "#0d0887"
             ],
             [
              0.1111111111111111,
              "#46039f"
             ],
             [
              0.2222222222222222,
              "#7201a8"
             ],
             [
              0.3333333333333333,
              "#9c179e"
             ],
             [
              0.4444444444444444,
              "#bd3786"
             ],
             [
              0.5555555555555556,
              "#d8576b"
             ],
             [
              0.6666666666666666,
              "#ed7953"
             ],
             [
              0.7777777777777778,
              "#fb9f3a"
             ],
             [
              0.8888888888888888,
              "#fdca26"
             ],
             [
              1,
              "#f0f921"
             ]
            ],
            "type": "surface"
           }
          ],
          "table": [
           {
            "cells": {
             "fill": {
              "color": "#506784"
             },
             "line": {
              "color": "rgb(17,17,17)"
             }
            },
            "header": {
             "fill": {
              "color": "#2a3f5f"
             },
             "line": {
              "color": "rgb(17,17,17)"
             }
            },
            "type": "table"
           }
          ]
         },
         "layout": {
          "annotationdefaults": {
           "arrowcolor": "#f2f5fa",
           "arrowhead": 0,
           "arrowwidth": 1
          },
          "autotypenumbers": "strict",
          "coloraxis": {
           "colorbar": {
            "outlinewidth": 0,
            "ticks": ""
           }
          },
          "colorscale": {
           "diverging": [
            [
             0,
             "#8e0152"
            ],
            [
             0.1,
             "#c51b7d"
            ],
            [
             0.2,
             "#de77ae"
            ],
            [
             0.3,
             "#f1b6da"
            ],
            [
             0.4,
             "#fde0ef"
            ],
            [
             0.5,
             "#f7f7f7"
            ],
            [
             0.6,
             "#e6f5d0"
            ],
            [
             0.7,
             "#b8e186"
            ],
            [
             0.8,
             "#7fbc41"
            ],
            [
             0.9,
             "#4d9221"
            ],
            [
             1,
             "#276419"
            ]
           ],
           "sequential": [
            [
             0,
             "#0d0887"
            ],
            [
             0.1111111111111111,
             "#46039f"
            ],
            [
             0.2222222222222222,
             "#7201a8"
            ],
            [
             0.3333333333333333,
             "#9c179e"
            ],
            [
             0.4444444444444444,
             "#bd3786"
            ],
            [
             0.5555555555555556,
             "#d8576b"
            ],
            [
             0.6666666666666666,
             "#ed7953"
            ],
            [
             0.7777777777777778,
             "#fb9f3a"
            ],
            [
             0.8888888888888888,
             "#fdca26"
            ],
            [
             1,
             "#f0f921"
            ]
           ],
           "sequentialminus": [
            [
             0,
             "#0d0887"
            ],
            [
             0.1111111111111111,
             "#46039f"
            ],
            [
             0.2222222222222222,
             "#7201a8"
            ],
            [
             0.3333333333333333,
             "#9c179e"
            ],
            [
             0.4444444444444444,
             "#bd3786"
            ],
            [
             0.5555555555555556,
             "#d8576b"
            ],
            [
             0.6666666666666666,
             "#ed7953"
            ],
            [
             0.7777777777777778,
             "#fb9f3a"
            ],
            [
             0.8888888888888888,
             "#fdca26"
            ],
            [
             1,
             "#f0f921"
            ]
           ]
          },
          "colorway": [
           "#636efa",
           "#EF553B",
           "#00cc96",
           "#ab63fa",
           "#FFA15A",
           "#19d3f3",
           "#FF6692",
           "#B6E880",
           "#FF97FF",
           "#FECB52"
          ],
          "font": {
           "color": "#f2f5fa"
          },
          "geo": {
           "bgcolor": "rgb(17,17,17)",
           "lakecolor": "rgb(17,17,17)",
           "landcolor": "rgb(17,17,17)",
           "showlakes": true,
           "showland": true,
           "subunitcolor": "#506784"
          },
          "hoverlabel": {
           "align": "left"
          },
          "hovermode": "closest",
          "mapbox": {
           "style": "dark"
          },
          "paper_bgcolor": "rgb(17,17,17)",
          "plot_bgcolor": "rgb(17,17,17)",
          "polar": {
           "angularaxis": {
            "gridcolor": "#506784",
            "linecolor": "#506784",
            "ticks": ""
           },
           "bgcolor": "rgb(17,17,17)",
           "radialaxis": {
            "gridcolor": "#506784",
            "linecolor": "#506784",
            "ticks": ""
           }
          },
          "scene": {
           "xaxis": {
            "backgroundcolor": "rgb(17,17,17)",
            "gridcolor": "#506784",
            "gridwidth": 2,
            "linecolor": "#506784",
            "showbackground": true,
            "ticks": "",
            "zerolinecolor": "#C8D4E3"
           },
           "yaxis": {
            "backgroundcolor": "rgb(17,17,17)",
            "gridcolor": "#506784",
            "gridwidth": 2,
            "linecolor": "#506784",
            "showbackground": true,
            "ticks": "",
            "zerolinecolor": "#C8D4E3"
           },
           "zaxis": {
            "backgroundcolor": "rgb(17,17,17)",
            "gridcolor": "#506784",
            "gridwidth": 2,
            "linecolor": "#506784",
            "showbackground": true,
            "ticks": "",
            "zerolinecolor": "#C8D4E3"
           }
          },
          "shapedefaults": {
           "line": {
            "color": "#f2f5fa"
           }
          },
          "sliderdefaults": {
           "bgcolor": "#C8D4E3",
           "bordercolor": "rgb(17,17,17)",
           "borderwidth": 1,
           "tickwidth": 0
          },
          "ternary": {
           "aaxis": {
            "gridcolor": "#506784",
            "linecolor": "#506784",
            "ticks": ""
           },
           "baxis": {
            "gridcolor": "#506784",
            "linecolor": "#506784",
            "ticks": ""
           },
           "bgcolor": "rgb(17,17,17)",
           "caxis": {
            "gridcolor": "#506784",
            "linecolor": "#506784",
            "ticks": ""
           }
          },
          "title": {
           "x": 0.05
          },
          "updatemenudefaults": {
           "bgcolor": "#506784",
           "borderwidth": 0
          },
          "xaxis": {
           "automargin": true,
           "gridcolor": "#283442",
           "linecolor": "#506784",
           "ticks": "",
           "title": {
            "standoff": 15
           },
           "zerolinecolor": "#283442",
           "zerolinewidth": 2
          },
          "yaxis": {
           "automargin": true,
           "gridcolor": "#283442",
           "linecolor": "#506784",
           "ticks": "",
           "title": {
            "standoff": 15
           },
           "zerolinecolor": "#283442",
           "zerolinewidth": 2
          }
         }
        },
        "title": {
         "text": "Distribution of the Predicted Errors<br><span style=\"font-size: 12.5px; color: lightgrey;\"> -- Histogram shows the frequency of each predicted error.</span>"
        },
        "width": 700,
        "xaxis": {
         "tickmode": "array",
         "ticktext": [
          "1990",
          "1995",
          "2000",
          "2005",
          "2010",
          "2015",
          "2020"
         ],
         "tickvals": [
          2,
          22,
          42,
          62,
          82,
          102,
          122
         ],
         "title": {
          "text": "Time Ranges"
         }
        },
        "yaxis": {
         "title": {
          "text": "YoY Growth (%)"
         }
        }
       }
      }
     },
     "metadata": {},
     "output_type": "display_data"
    }
   ],
   "source": [
    "# detailed performance\n",
    "fig2_1, fig2_2 = PA.detail_perf(model='LinR', ma=1, fp=6, sc=1)\n",
    "fig2_1.show()\n",
    "fig2_2.show()"
   ]
  },
  {
   "cell_type": "code",
   "execution_count": 11,
   "metadata": {},
   "outputs": [
    {
     "name": "stdout",
     "output_type": "stream",
     "text": [
      "YoY:  [15.24544663]\n",
      "[4462.28062197]\n",
      "\n",
      "YoY:  [11.34064904 17.12459041]\n",
      "[4311.08764087 4778.81225179]\n",
      "\n",
      "YoY:  [21.64352171 15.26841803 20.34408793]\n",
      "[4710.01280817 4703.07837486 4620.61125606]\n",
      "\n",
      "YoY:  [13.75609013 13.80482224 13.73182425 14.90094577]\n",
      "[4404.61303625 4643.36205486 4366.73339194 4684.05206732]\n",
      "\n",
      "YoY:  [10.07139323 13.65203047 14.79525783 12.74256379 16.56810761]\n",
      "[4261.94231015 4637.12798251 4407.56392436 4596.06346573 4627.92861041]\n",
      "\n",
      "YoY:  [ 7.73274    11.50625791 12.21249451 12.38016438 12.62938223 13.92319243]\n",
      "[4171.39012538 4549.5780992  4308.39872674 4581.28989103 4471.55530866\n",
      " 4681.45720558]\n",
      "\n"
     ]
    }
   ],
   "source": [
    "future = PA.futures['LinR']\n",
    "for i in future.keys():\n",
    "    for j in future[i].keys():\n",
    "        if j == '1MA':\n",
    "            yoy_mean = np.min(future[i][j], axis=0)\n",
    "            print(\"YoY: \", yoy_mean)\n",
    "            r = 12 - int(i[0])\n",
    "            act_prices = df['SP500_Price'][-12:-r].values * (yoy_mean/100+1)\n",
    "            print(act_prices)\n",
    "            print('')"
   ]
  },
  {
   "cell_type": "code",
   "execution_count": null,
   "metadata": {},
   "outputs": [],
   "source": []
  },
  {
   "cell_type": "markdown",
   "metadata": {},
   "source": [
    "### Logistic Regression"
   ]
  },
  {
   "cell_type": "code",
   "execution_count": 5,
   "metadata": {},
   "outputs": [],
   "source": [
    "from sklearn.metrics import confusion_matrix, auc\n",
    "from sklearn.linear_model import LogisticRegression\n",
    "\n",
    "import plotly.express as px\n",
    "import plotly.graph_objects as go\n",
    "from plotly.subplots import make_subplots"
   ]
  },
  {
   "cell_type": "code",
   "execution_count": 154,
   "metadata": {},
   "outputs": [],
   "source": [
    "class PredictiveAnalysis_Test(PredictiveAnalysis):\n",
    "    def __init__(self, df):\n",
    "        super().__init__(df)\n",
    "        self.colors = ['#636EFA', '#EF553B', '#00CC96', '#AB63FA', '#FFA15A', '#19D3F3', '#FF6692', '#B6E880', '#FF97FF', '#FECB52']\n",
    "        self.titles = {\n",
    "            'LinR': 'Linear Regression', 'LogR': 'Logistic Regression',\n",
    "            'RMSE': 'RMSE', 'SE': 'SE', 'R2': 'R2', 'Adj-R2': 'Adj',\n",
    "            'ACC': 'Accuracy', 'PRE': 'Precision', 'REC': 'Recall', 'F1': 'F1 score', 'AUC': 'Area Under ROC Curve'}\n",
    "        \n",
    "        self.results = {model: {} for model in ['LinR', 'LogR', 'CART']}  # theta, y_hat, sigma for each scope and dataset\n",
    "        self.futures = {model: {} for model in ['LinR', 'LogR', 'CART']}  # predicted values for each 'fp'\n",
    "        self.be_tests = {model: {'ma': {}, 'sc': {}} for model in ['LinR', 'LogR', 'CART']}  # backward elimination test results\n",
    "        self.perf_df = {'LinR': pd.DataFrame(data=[], columns=['SC', 'MA', 'FP', 'RMSE', 'SE', 'R2', 'Adj-R2']),\n",
    "                        'LogR': pd.DataFrame(data=[], columns=['SC', 'MA', 'FP', 'ACC', 'PRE', 'REC', 'F1', 'AUC']),\n",
    "                        'CART': pd.DataFrame(data=[], columns=['SC', 'MA', 'FP', 'RMSE', 'SE', 'R2', 'Adj-R2'])}\n",
    "\n",
    "\n",
    "    def model_learning2(self, scopes: list, model: str = '', eta_: float = 0.001, alpha_: float = 0.1, lambda_: float = 0.5, iter_: int = 100):\n",
    "        \"\"\"\n",
    "        \n",
    "\n",
    "        \"\"\"\n",
    "        # define variable\n",
    "        self.sc_opts = scopes\n",
    "\n",
    "        # set hyperparameters globally\n",
    "        self.eta_ = eta_\n",
    "        self.alpha_ = alpha_\n",
    "        self.lambda_ = lambda_\n",
    "        self.iter_ = iter_\n",
    " \n",
    "        # set spaces\n",
    "        self.be_tests[model]['ma'].update({ma: [] for ma in self.ma_opts})\n",
    "        self.be_tests[model]['sc'].update({sc: [] for sc in scopes})\n",
    "        self.futures[model] = {f'{k1}FP': {f'{k2}MA': np.zeros((len(scopes), k1)) for k2 in self.ma_opts} for k1 in self.fp_opts}\n",
    "\n",
    "        idx = 0\n",
    "        # each scope\n",
    "        for i, sc in enumerate(scopes):\n",
    "            # each dataset\n",
    "            for j, d_key in enumerate(self.datasets.keys()):\n",
    "                # acquire data\n",
    "                data = self.datasets[d_key]\n",
    "                if model == 'LinR':\n",
    "                    theta, y_hat, error, future = self.linear_reg(X=data['X'], y=data['y'], t=120, sc=sc)\n",
    "\n",
    "                elif model == 'LogR':\n",
    "                    theta, y_hat, error, future = self.logistic_reg(X=data['X'], y=data['y_cat'], t=120, sc=sc)\n",
    "\n",
    "                elif model == 'CART':\n",
    "                    theta, y_hat, error, future = None, None, None, None\n",
    "\n",
    "                else:\n",
    "                    raise TypeError('Choose one of following model names: \"LinR\", \"LogR\", and \"CART\".')\n",
    "                \n",
    "                # get moving average and future performance values from dataset keys\n",
    "                ma, fp = d_key.split('_')\n",
    "                # store all data\n",
    "                self.results[model][fp].update({f\"{ma}_{sc}SC\": {'theta': theta, 'y_hat': y_hat, 'error': error}})\n",
    "                # store future values\n",
    "                self.futures[model][fp][ma][i] = future\n",
    "\n",
    "                # get test result of backward elimination\n",
    "                y = data['y_cat'] if model == 'LogR' else data['y']\n",
    "                be_test_df = self.evaluation(model, data['X'], y, 120, theta, y_hat, error)\n",
    "                # retrienve only performance without any changes in each coefficient\n",
    "                ma_int = int(re.findall(r'\\d+', ma)[0])\n",
    "                self.perf_df[model].loc[idx] = [sc, ma_int, fp] + list(be_test_df.iloc[0])\n",
    "                # store its result as NDArray\n",
    "                self.be_tests[model]['sc'][sc].append(np.array(be_test_df))\n",
    "                ma_idx = self.ma_opts[j // len(self.fp_opts)]\n",
    "                self.be_tests[model]['ma'][ma_idx].append(np.array(be_test_df))\n",
    "\n",
    "                # increment idx\n",
    "                idx += 1\n",
    "        \n",
    "        return self.compare_perf2(model)\n",
    "\n",
    "        self.compere_perf_fig = self.compare_perf2(model)\n",
    "        self.be_test_sc_fig = self.backward_elimination(model, 'sc')\n",
    "        self.be_test_ma_fig = self.backward_elimination(model, 'ma')\n",
    "\n",
    "        return self.compere_perf_fig, self.be_test_sc_fig, self.be_test_ma_fig\n",
    "\n",
    "\n",
    "    def logistic_reg(self, X, y, t, sc):\n",
    "        \"\"\"\n",
    "        Return the following five matrix (dtype: np.array)\n",
    "        - \"thetas\"  -> parameters (intercept + coefficients) at each step\n",
    "        - dictionary: predicted y values:\n",
    "            - \"cat\" key: \"y_preds_c\" -> predicted labels at each step\n",
    "            - \"proba\" ley: \"y_preds_p\" -> predicted probability at each step (nagetige & positive class)\n",
    "        - \"errors\"  -> prediction errors (actual - predicted values); SSE\n",
    "        - dictionary: future y values \n",
    "            - \"cat\": predicted labels at each step\n",
    "            - \"proba\": probability of the positive class label\n",
    "\n",
    "        Parameters:\n",
    "        - \"X\": np.array -> independent variables\n",
    "        - \"y\": np.array -> target variables (shouold be categorical)\n",
    "        - \"t\": int -> number of data that were used for the initial parameter creation.\n",
    "        - \"sc\": int -> scope of the latest data for parameter updates.\n",
    "\n",
    "        Brief Steps:\n",
    "        - Initialize all matries to store ithe ncrementally updated values.\n",
    "        - Apply a given number of data (\"t\") to the mutiple linear regression (normal equation).\n",
    "        - Define the initial parameters from the trained model.\n",
    "        - At each step (total steps are len(y) - t):\n",
    "            - Get a single pair of unfamilar data; both X and y.\n",
    "            - Predict the target (\"y_hats\") based on the latest parameters(\"theta[i]\").\n",
    "            - Calculate the difference between actual and predicted values; \"error[i]\".\n",
    "            - Update parameters for the next step (\"theta[i+1]\").\n",
    "        \"\"\"\n",
    "        # define sigmoid function\n",
    "        def sigmoid(h):\n",
    "            return 1 / (1 + np.exp(-h))\n",
    "\n",
    "        # calculate the gradient vector\n",
    "        def gradient(X, y, theta, w, alpha_, lambda_):\n",
    "            m = len(y)\n",
    "            preds = sigmoid(np.dot(X, theta.reshape(-1,1)))\n",
    "            grad = -np.dot(X.T, np.multiply(y - preds, w)) / m\n",
    "            l1 = lambda_ * np.sign(theta)\n",
    "            l2 = (1 - lambda_) * theta\n",
    "\n",
    "            return grad.T + alpha_ * (l1 + l2)\n",
    "        \n",
    "        # initialize matrics to store values at each step\n",
    "        thetas = np.zeros((len(y[t:])+1, 6))\n",
    "        y_hats = np.zeros((len(y[120:]), 1))\n",
    "        errors = np.zeros((len(y[t:]), 1))\n",
    "        # initial training \n",
    "        logit = LogisticRegression(fit_intercept=False, class_weight='balanced')\n",
    "        logit.fit(X[:t], y[:t].flatten())\n",
    "        # set initial parameters\n",
    "        thetas[0] = logit.coef_\n",
    "        # define class weights\n",
    "        weights = {u: len(X) / (2*np.bincount(y.flatten())[u]) for u in np.unique(y)}\n",
    "        # define the vectorized function to converting class labels to weights\n",
    "        vfunc_weights = np.vectorize(lambda x: weights[x])\n",
    "\n",
    "        # start incremental learning\n",
    "        for idx, i in enumerate(range(120, len(y), 1)):\n",
    "            # apply sigmoid function\n",
    "            y_hats[idx] = sigmoid(np.dot(X[i:i+1], thetas[idx]))\n",
    "            # actual value\n",
    "            y_act = y[i][0]\n",
    "            # logistic loss\n",
    "            y_proba = {0: 1-y_hats[idx], 1: y_hats[idx]}\n",
    "            errors[idx] = -1 * weights[y_act] * np.log(y_proba[y_act])\n",
    "\n",
    "            # subset pf X and y\n",
    "            X_sub, y_sub = X[i+1-sc: i+1], y[i+1-sc: i+1]\n",
    "            # update parameter\n",
    "            theta_epoch = thetas[idx]\n",
    "            for i in range(self.iter_):\n",
    "                # get the partial derivative\n",
    "                grad = gradient(X_sub, y_sub, theta_epoch, vfunc_weights(y_sub), self.alpha_, self.lambda_)\n",
    "                # update the theta\n",
    "                theta_epoch -= self.eta_* grad.flatten()\n",
    "\n",
    "            thetas[idx+1] = theta_epoch\n",
    "\n",
    "        # predict the future labels\n",
    "        future = sigmoid(np.dot(X[len(y):], thetas[-1]))\n",
    "\n",
    "        return thetas, y_hats, errors, future\n",
    "\n",
    "    def compare_perf2(self, model: str):\n",
    "         # define custom function\n",
    "        def upper_error(x):\n",
    "            return x.max() - x.mean()\n",
    "\n",
    "        def lower_error(x):\n",
    "            return x.mean() - x.min()\n",
    "\n",
    "        # deine measures\n",
    "        measures = list(self.perf_df[model].columns)[3:]\n",
    "        # modity perf_df\n",
    "        perf_df = self.perf_df[model].drop('FP', axis=1).groupby(['SC', 'MA']).agg(['mean', upper_error, lower_error])\n",
    "        perf_df.columns = ['_'.join(col) for col in perf_df.columns]\n",
    "        perf_df = perf_df.reset_index()\n",
    "        perf_df['SC'] = perf_df['SC'].astype(str)\n",
    "\n",
    "        # define figures\n",
    "        figs = []\n",
    "        # traversing all measures\n",
    "        for i, ms in enumerate(measures):\n",
    "            # define fifure\n",
    "            fig = px.scatter(\n",
    "                perf_df, x='MA', y=f'{ms}_mean', color='SC',\n",
    "                error_y=f'{ms}_upper_error', error_y_minus=f'{ms}_lower_error'\n",
    "            )\n",
    "\n",
    "            fig.update_xaxes(title_text='Moving Averages', title_font={'color':'lightgrey'})\n",
    "            fig.update_layout(\n",
    "                height=300, width=400, template='plotly_dark',\n",
    "                title=dict(text=self.titles[ms],  xanchor=\"center\", x=0.50),\n",
    "                showlegend=False, yaxis_title='', \n",
    "                margin=go.layout.Margin(t=50, l=30, r=30, b=50)\n",
    "                ) \n",
    "\n",
    "            figs.append(fig)\n",
    "\n",
    "            \n",
    "        main_title = f'Comparing the {[model]} Model Results on Different Conditions'\n",
    "        sub_title1 = f'<br><span {self.SUB_CSS}> -- Scopes: how many month of the latest data is used for parameter adjustments.</span>'\n",
    "        sub_title2 = f'<br><span {self.SUB_CSS}> -- Error Bars: Showing mean, min and max of each measures among various future predictions.</span>'\n",
    "\n",
    "        return figs"
   ]
  },
  {
   "cell_type": "code",
   "execution_count": 148,
   "metadata": {},
   "outputs": [],
   "source": [
    "test = PredictiveAnalysis_Test(df)\n",
    "test.create_data(['CSENT', 'IPM', 'HOUSE', 'UNEMP', 'LRIR'], 'SP500', ma=[1,2,3,4,5,6], fp=[1,2,3,4,5,6], poly_d=1)"
   ]
  },
  {
   "cell_type": "code",
   "execution_count": 155,
   "metadata": {},
   "outputs": [],
   "source": [
    "figs = test.model_learning2(scopes=[1,2], model='LogR', iter_=1)\n",
    "#figs2 = test.model_learning2(scopes=[1,2], model='LinR', iter_=1)"
   ]
  },
  {
   "cell_type": "code",
   "execution_count": 88,
   "metadata": {},
   "outputs": [],
   "source": [
    "\n"
   ]
  },
  {
   "cell_type": "code",
   "execution_count": 150,
   "metadata": {},
   "outputs": [],
   "source": [
    "sc_opts = test.sc_opts\n",
    "colors = ['#636EFA', '#EF553B', '#00CC96', '#AB63FA', '#FFA15A', '#19D3F3', '#FF6692', '#B6E880', '#FF97FF', '#FECB52']"
   ]
  },
  {
   "cell_type": "code",
   "execution_count": null,
   "metadata": {},
   "outputs": [],
   "source": []
  },
  {
   "cell_type": "code",
   "execution_count": 156,
   "metadata": {},
   "outputs": [
    {
     "data": {
      "text/html": [
       "\n",
       "        <iframe\n",
       "            width=\"100%\"\n",
       "            height=\"650\"\n",
       "            src=\"http://127.0.0.1:8050/\"\n",
       "            frameborder=\"0\"\n",
       "            allowfullscreen\n",
       "            \n",
       "        ></iframe>\n",
       "        "
      ],
      "text/plain": [
       "<IPython.lib.display.IFrame at 0x23feb53f650>"
      ]
     },
     "metadata": {},
     "output_type": "display_data"
    }
   ],
   "source": [
    "app = dash.Dash(__name__)\n",
    "\n",
    "# Sep up each component\n",
    "legends = dmc.ChipGroup(\n",
    "    id={'func': 'compare_perf', 'obj': 'legend'},\n",
    "    children=[\n",
    "        dmc.Chip(\n",
    "            children=str(sc),\n",
    "            value=str(sc),\n",
    "            variant=\"outline\", \n",
    "            color=colors[i]\n",
    "            ) for i, sc in enumerate(sc_opts)\n",
    "    ],\n",
    "    value=[str(sc) for sc in sc_opts],\n",
    "    multiple=True,\n",
    "    style={'display': 'flex', 'justifyContent': 'center'}\n",
    ")\n",
    "\n",
    "graphs = html.Div(\n",
    "    dbc.Row(\n",
    "        [\n",
    "            dbc.Col(\n",
    "                dbc.Card(\n",
    "                    dbc.CardBody([\n",
    "                        dcc.Graph(\n",
    "                            id={'func': 'compare_perf', 'obj': 'fig', 'id': str(i)},\n",
    "                            figure=fig,\n",
    "                        )\n",
    "                    ]),\n",
    "                    style={'margin': '5px'}\n",
    "                ),\n",
    "                width='auto'\n",
    "            ) for i, fig in enumerate(figs)\n",
    "        ],\n",
    "        style={'display': 'flex', 'overflowX': 'auto', 'width': '100%'},\n",
    "    ),\n",
    "    style={'maxWidth': '100vw'}\n",
    ")\n",
    "\n",
    "@app.callback(\n",
    "    output=Output({'func': 'compare_perf', 'obj': 'fig', 'id': ALL}, 'figure'),\n",
    "    inputs=Input({'func': 'compare_perf', 'obj': 'legend'}, 'value'),\n",
    "    state=State({'func': 'compare_perf', 'obj': 'fig', 'id': ALL}, 'figure')\n",
    ")\n",
    "def update_visibility(value, fig):\n",
    "    # Determine which input was triggered\n",
    "    triggered_id = ctx.triggered_id\n",
    "    if triggered_id:\n",
    "        # define output\n",
    "        outputs = []\n",
    "        # get the checked value as set \n",
    "        checked = set(value)\n",
    "        # traversing all figure data\n",
    "        for f in fig:\n",
    "            # define patch\n",
    "            p = Patch()\n",
    "            for i in range(len(f['data'])):\n",
    "                p['data'][i].update({'visible': f['data'][i]['name'] in checked})\n",
    "            \n",
    "            outputs.append(p)\n",
    "        \n",
    "        return outputs\n",
    "    \n",
    "    else:\n",
    "        return no_update\n",
    "\n",
    "\n",
    "# Set up the Dash app layout \n",
    "app.layout = html.Div([\n",
    "    legends, graphs\n",
    "])\n",
    "\n",
    "if __name__ == '__main__':\n",
    "    app.run_server(debug=True)"
   ]
  },
  {
   "cell_type": "code",
   "execution_count": null,
   "metadata": {},
   "outputs": [],
   "source": []
  },
  {
   "cell_type": "code",
   "execution_count": 74,
   "metadata": {},
   "outputs": [
    {
     "data": {
      "application/vnd.plotly.v1+json": {
       "config": {
        "plotlyServerURL": "https://plot.ly"
       },
       "data": [
        {
         "error_y": {
          "array": [
           0.07605841380432687,
           0.05782549238183188,
           0.041208128236331465,
           0.04224413526187465,
           0.016461195935890793,
           0.02074835580196266
          ],
          "arrayminus": [
           0.07815621280993479,
           0.09136020236766051,
           0.07389276649049126,
           0.04780800113172523,
           0.03525092709666955,
           0.015598775643207996
          ]
         },
         "hovertemplate": "SC=1<br>MA=%{x}<br>ACC_mean=%{y}<extra></extra>",
         "legendgroup": "1",
         "marker": {
          "color": "#636efa",
          "symbol": "circle"
         },
         "mode": "markers",
         "name": "1",
         "orientation": "v",
         "showlegend": true,
         "type": "scatter",
         "x": [
          1,
          2,
          3,
          4,
          5,
          6
         ],
         "xaxis": "x",
         "y": [
          0.6474992785033655,
          0.6879372194825749,
          0.7185006096277462,
          0.7406826940064181,
          0.7347583162592312,
          0.7390555657666648
         ],
         "yaxis": "y"
        },
        {
         "error_y": {
          "array": [
           0.07567333641985885,
           0.05661681668136109,
           0.03877995951059343,
           0.04264866600621142,
           0.01686671093994574,
           0.022789879956951586
          ],
          "arrayminus": [
           0.07857053406488756,
           0.090147570562078,
           0.07389375075020987,
           0.04740347038738846,
           0.0348454120926146,
           0.015062822099480733
          ]
         },
         "hovertemplate": "SC=6<br>MA=%{x}<br>ACC_mean=%{y}<extra></extra>",
         "legendgroup": "6",
         "marker": {
          "color": "#EF553B",
          "symbol": "circle"
         },
         "mode": "markers",
         "name": "6",
         "orientation": "v",
         "showlegend": true,
         "type": "scatter",
         "x": [
          1,
          2,
          3,
          4,
          5,
          6
         ],
         "xaxis": "x",
         "y": [
          0.6454805097339873,
          0.6867245876769923,
          0.7185015938874648,
          0.7402781632620815,
          0.734352801255176,
          0.7370140416116758
         ],
         "yaxis": "y"
        },
        {
         "error_y": {
          "array": [
           0.07447626846169308,
           0.05541206855639802,
           0.039187457473103704,
           0.04223920439596507,
           0.01768174591421412,
           0.022789879956951586
          ],
          "arrayminus": [
           0.07736375586920718,
           0.08893101118098778,
           0.0734862527876996,
           0.045373907607390906,
           0.03527391911041644,
           0.015062822099480733
          ]
         },
         "hovertemplate": "SC=12<br>MA=%{x}<br>ACC_mean=%{y}<extra></extra>",
         "legendgroup": "12",
         "marker": {
          "color": "#00cc96",
          "symbol": "circle"
         },
         "mode": "markers",
         "name": "12",
         "orientation": "v",
         "showlegend": true,
         "type": "scatter",
         "x": [
          1,
          2,
          3,
          4,
          5,
          6
         ],
         "xaxis": "x",
         "y": [
          0.6442737315383069,
          0.6855080282959021,
          0.7180940959249545,
          0.7382486004820837,
          0.7323182540857859,
          0.7370140416116758
         ],
         "yaxis": "y"
        },
        {
         "error_y": {
          "array": [
           0.03293216699863255,
           0.026775263984382902,
           0.014412281252217718,
           0.019299038536277013,
           0.014430818921292943,
           0.010011680376088128
          ],
          "arrayminus": [
           0.04040912020226883,
           0.05270987401986338,
           0.029488107990528256,
           0.015206816871872975,
           0.0069255743939034,
           0.00830197116030229
          ]
         },
         "hovertemplate": "SC=1<br>MA=%{x}<br>PRE_mean=%{y}<extra></extra>",
         "legendgroup": "1",
         "marker": {
          "color": "#636efa",
          "symbol": "circle"
         },
         "mode": "markers",
         "name": "1",
         "orientation": "v",
         "showlegend": false,
         "type": "scatter",
         "x": [
          1,
          2,
          3,
          4,
          5,
          6
         ],
         "xaxis": "x2",
         "y": [
          0.7957282691384391,
          0.8235432073531967,
          0.8454603302127505,
          0.8576725702965305,
          0.8533111165625781,
          0.8596951600147914
         ],
         "yaxis": "y2"
        },
        {
         "error_y": {
          "array": [
           0.03226181301864528,
           0.025445226713165736,
           0.015223001291529425,
           0.019752497189092555,
           0.014865558597491724,
           0.008290367811446764
          ],
          "arrayminus": [
           0.04117496682464861,
           0.0513404875725485,
           0.029122236803708734,
           0.014753358219057433,
           0.006490834717704619,
           0.00676595473471564
          ]
         },
         "hovertemplate": "SC=6<br>MA=%{x}<br>PRE_mean=%{y}<extra></extra>",
         "legendgroup": "6",
         "marker": {
          "color": "#EF553B",
          "symbol": "circle"
         },
         "mode": "markers",
         "name": "6",
         "orientation": "v",
         "showlegend": false,
         "type": "scatter",
         "x": [
          1,
          2,
          3,
          4,
          5,
          6
         ],
         "xaxis": "x2",
         "y": [
          0.7938251435030939,
          0.8221738209058819,
          0.8450944590259309,
          0.857219111643715,
          0.8528763768863793,
          0.8581591435892048
         ],
         "yaxis": "y2"
        },
        {
         "error_y": {
          "array": [
           0.03235290848627237,
           0.02597564772527461,
           0.01569308676161485,
           0.018880585803189853,
           0.016022341714449828,
           0.008290367811446764
          ],
          "arrayminus": [
           0.040542086174846226,
           0.050324776903175494,
           0.02865215133362331,
           0.012867497250140025,
           0.006601748651576034,
           0.00676595473471564
          ]
         },
         "hovertemplate": "SC=12<br>MA=%{x}<br>PRE_mean=%{y}<extra></extra>",
         "legendgroup": "12",
         "marker": {
          "color": "#00cc96",
          "symbol": "circle"
         },
         "mode": "markers",
         "name": "12",
         "orientation": "v",
         "showlegend": false,
         "type": "scatter",
         "x": [
          1,
          2,
          3,
          4,
          5,
          6
         ],
         "xaxis": "x2",
         "y": [
          0.7931922628532915,
          0.8211581102365089,
          0.8446243735558454,
          0.8553332506747976,
          0.8517195937694212,
          0.8581591435892048
         ],
         "yaxis": "y2"
        },
        {
         "error_y": {
          "array": [
           0.07846889616506691,
           0.05515710638338944,
           0.04594512649671556,
           0.04099629610887301,
           0.03458514880218344,
           0.03683393107056743
          ],
          "arrayminus": [
           0.07393062221117297,
           0.07479257010834317,
           0.07527959333106982,
           0.05314445675528412,
           0.04655649092746683,
           0.02513713090049463
          ]
         },
         "hovertemplate": "SC=1<br>MA=%{x}<br>REC_mean=%{y}<extra></extra>",
         "legendgroup": "1",
         "marker": {
          "color": "#636efa",
          "symbol": "circle"
         },
         "mode": "markers",
         "name": "1",
         "orientation": "v",
         "showlegend": false,
         "type": "scatter",
         "x": [
          1,
          2,
          3,
          4,
          5,
          6
         ],
         "xaxis": "x3",
         "y": [
          0.7374820240803318,
          0.7663813551550721,
          0.7939340275818344,
          0.8100675336783608,
          0.8118003933664912,
          0.8130159187792825
         ],
         "yaxis": "y3"
        },
        {
         "error_y": {
          "array": [
           0.07898649450875239,
           0.05515710638338944,
           0.04544007599166511,
           0.04099629610887301,
           0.0345821246299749,
           0.037834968181087336
          ],
          "arrayminus": [
           0.07341302386748749,
           0.07479257010834317,
           0.07578464383612027,
           0.05314445675528412,
           0.046559515099675375,
           0.024136093789974722
          ]
         },
         "hovertemplate": "SC=6<br>MA=%{x}<br>REC_mean=%{y}<extra></extra>",
         "legendgroup": "6",
         "marker": {
          "color": "#EF553B",
          "symbol": "circle"
         },
         "mode": "markers",
         "name": "6",
         "orientation": "v",
         "showlegend": false,
         "type": "scatter",
         "x": [
          1,
          2,
          3,
          4,
          5,
          6
         ],
         "xaxis": "x3",
         "y": [
          0.7369644257366463,
          0.7663813551550721,
          0.794439078086885,
          0.8100675336783608,
          0.8118034175386998,
          0.8120148816687626
         ],
         "yaxis": "y3"
        },
        {
         "error_y": {
          "array": [
           0.076943077802759,
           0.05259300381928689,
           0.04544007599166511,
           0.038463368044030166,
           0.03006254480919046,
           0.037834968181087336
          ],
          "arrayminus": [
           0.07238895591090422,
           0.07427974959552264,
           0.07578464383612027,
           0.05263787114231544,
           0.04505499853491768,
           0.024136093789974722
          ]
         },
         "hovertemplate": "SC=12<br>MA=%{x}<br>REC_mean=%{y}<extra></extra>",
         "legendgroup": "12",
         "marker": {
          "color": "#00cc96",
          "symbol": "circle"
         },
         "mode": "markers",
         "name": "12",
         "orientation": "v",
         "showlegend": false,
         "type": "scatter",
         "x": [
          1,
          2,
          3,
          4,
          5,
          6
         ],
         "xaxis": "x3",
         "y": [
          0.7359403577800632,
          0.7658685346422516,
          0.794439078086885,
          0.8095609480653924,
          0.8102989009739421,
          0.8120148816687626
         ],
         "yaxis": "y3"
        },
        {
         "error_y": {
          "array": [
           0.0570702457989829,
           0.04196720174343582,
           0.030269890756735585,
           0.02908568132627609,
           0.014599538775564747,
           0.01689336721645618
          ],
          "arrayminus": [
           0.0587186612884546,
           0.06464951002140595,
           0.05435742879890271,
           0.03552301541841241,
           0.027298823905930414,
           0.012731461211178408
          ]
         },
         "hovertemplate": "SC=1<br>MA=%{x}<br>F1_mean=%{y}<extra></extra>",
         "legendgroup": "1",
         "marker": {
          "color": "#636efa",
          "symbol": "circle"
         },
         "mode": "markers",
         "name": "1",
         "orientation": "v",
         "showlegend": false,
         "type": "scatter",
         "x": [
          1,
          2,
          3,
          4,
          5,
          6
         ],
         "xaxis": "x4",
         "y": [
          0.765186322979997,
          0.7937135494302728,
          0.8185850710753254,
          0.8329298225496927,
          0.8317860033931099,
          0.8355162713377607
         ],
         "yaxis": "y4"
        },
        {
         "error_y": {
          "array": [
           0.056959903285473845,
           0.04130193544106597,
           0.02889144211328254,
           0.029299521655590244,
           0.01482037021413185,
           0.01814756774618842
          ],
          "arrayminus": [
           0.05872973779048074,
           0.06400902515006679,
           0.05444189122005083,
           0.035309175089098255,
           0.02707799246736331,
           0.011477260681446166
          ]
         },
         "hovertemplate": "SC=6<br>MA=%{x}<br>F1_mean=%{y}<extra></extra>",
         "legendgroup": "6",
         "marker": {
          "color": "#EF553B",
          "symbol": "circle"
         },
         "mode": "markers",
         "name": "6",
         "orientation": "v",
         "showlegend": false,
         "type": "scatter",
         "x": [
          1,
          2,
          3,
          4,
          5,
          6
         ],
         "xaxis": "x4",
         "y": [
          0.7640277510355139,
          0.7930730645589338,
          0.8186695334964735,
          0.8327159822203787,
          0.8315651719545428,
          0.8342620708080285
         ],
         "yaxis": "y4"
        },
        {
         "error_y": {
          "array": [
           0.05595279346069315,
           0.04019704801967905,
           0.029105618743818562,
           0.02912759122283881,
           0.013445631481280196,
           0.01814756774618842
          ],
          "arrayminus": [
           0.057914571965062,
           0.06328977329132868,
           0.05422771458951481,
           0.0341467161969643,
           0.02705694818488058,
           0.011477260681446166
          ]
         },
         "hovertemplate": "SC=12<br>MA=%{x}<br>F1_mean=%{y}<extra></extra>",
         "legendgroup": "12",
         "marker": {
          "color": "#00cc96",
          "symbol": "circle"
         },
         "mode": "markers",
         "name": "12",
         "orientation": "v",
         "showlegend": false,
         "type": "scatter",
         "x": [
          1,
          2,
          3,
          4,
          5,
          6
         ],
         "xaxis": "x4",
         "y": [
          0.7632125852100952,
          0.7923538127001956,
          0.8184553568659375,
          0.8315535233282447,
          0.8302569481848804,
          0.8342620708080285
         ],
         "yaxis": "y4"
        },
        {
         "error_y": {
          "array": [
           0.07164185548994095,
           0.060722492585634114,
           0.034757640155958947,
           0.049234525843746435,
           0.034795219012169976,
           0.024593081228015623
          ],
          "arrayminus": [
           0.08233568147595682,
           0.11220689111477772,
           0.07056160736512351,
           0.03876735032886158,
           0.01579961298510102,
           0.017906888439172763
          ]
         },
         "hovertemplate": "SC=1<br>MA=%{x}<br>AUC_mean=%{y}<extra></extra>",
         "legendgroup": "1",
         "marker": {
          "color": "#636efa",
          "symbol": "circle"
         },
         "mode": "markers",
         "name": "1",
         "orientation": "v",
         "showlegend": false,
         "type": "scatter",
         "x": [
          1,
          2,
          3,
          4,
          5,
          6
         ],
         "xaxis": "x5",
         "y": [
          0.5307780490772028,
          0.5830012836381421,
          0.6027283306633452,
          0.6367410839123512,
          0.6099600257430747,
          0.6120635149451968
         ],
         "yaxis": "y5"
        },
        {
         "error_y": {
          "array": [
           0.07004880280993175,
           0.05788158349472505,
           0.03704907300294735,
           0.050250786006348025,
           0.035862082994441935,
           0.020249692431815514
          ],
          "arrayminus": [
           0.08392873415596597,
           0.10936598202386855,
           0.06978532603328669,
           0.03775109016625999,
           0.01473274900282906,
           0.014073036550579343
          ]
         },
         "hovertemplate": "SC=6<br>MA=%{x}<br>AUC_mean=%{y}<extra></extra>",
         "legendgroup": "6",
         "marker": {
          "color": "#EF553B",
          "symbol": "circle"
         },
         "mode": "markers",
         "name": "6",
         "orientation": "v",
         "showlegend": false,
         "type": "scatter",
         "x": [
          1,
          2,
          3,
          4,
          5,
          6
         ],
         "xaxis": "x5",
         "y": [
          0.5268155462016565,
          0.580160374547233,
          0.6019520493315084,
          0.6357248237497496,
          0.6088931617608028,
          0.6082296630566035
         ],
         "yaxis": "y5"
        },
        {
         "error_y": {
          "array": [
           0.069953020382861,
           0.05849347160661311,
           0.03807787958730957,
           0.048471558487629074,
           0.038751093413572746,
           0.020249692431815514
          ],
          "arrayminus": [
           0.08249077425174839,
           0.107215632373519,
           0.06875651944892447,
           0.03343275670936918,
           0.018253994993954747,
           0.014073036550579343
          ]
         },
         "hovertemplate": "SC=12<br>MA=%{x}<br>AUC_mean=%{y}<extra></extra>",
         "legendgroup": "12",
         "marker": {
          "color": "#00cc96",
          "symbol": "circle"
         },
         "mode": "markers",
         "name": "12",
         "orientation": "v",
         "showlegend": false,
         "type": "scatter",
         "x": [
          1,
          2,
          3,
          4,
          5,
          6
         ],
         "xaxis": "x5",
         "y": [
          0.5253775862974389,
          0.5780100248968834,
          0.6009232427471461,
          0.6314064902928588,
          0.606004151341672,
          0.6082296630566035
         ],
         "yaxis": "y5"
        }
       ],
       "layout": {
        "annotations": [
         {
          "font": {
           "color": "grey",
           "size": 11
          },
          "showarrow": false,
          "text": "ACC",
          "x": 0.08,
          "xanchor": "center",
          "xref": "paper",
          "y": 1,
          "yanchor": "bottom",
          "yref": "paper"
         },
         {
          "font": {
           "color": "grey",
           "size": 11
          },
          "showarrow": false,
          "text": "PRE",
          "x": 0.29000000000000004,
          "xanchor": "center",
          "xref": "paper",
          "y": 1,
          "yanchor": "bottom",
          "yref": "paper"
         },
         {
          "font": {
           "color": "grey",
           "size": 11
          },
          "showarrow": false,
          "text": "REC",
          "x": 0.5,
          "xanchor": "center",
          "xref": "paper",
          "y": 1,
          "yanchor": "bottom",
          "yref": "paper"
         },
         {
          "font": {
           "color": "grey",
           "size": 11
          },
          "showarrow": false,
          "text": "F1",
          "x": 0.71,
          "xanchor": "center",
          "xref": "paper",
          "y": 1,
          "yanchor": "bottom",
          "yref": "paper"
         },
         {
          "font": {
           "color": "grey",
           "size": 11
          },
          "showarrow": false,
          "text": "AUC",
          "x": 0.92,
          "xanchor": "center",
          "xref": "paper",
          "y": 1,
          "yanchor": "bottom",
          "yref": "paper"
         }
        ],
        "height": 400,
        "legend": {
         "orientation": "h",
         "title": {
          "font": {
           "color": "lightgrey"
          },
          "text": "Scopes"
         },
         "x": 0,
         "xanchor": "left",
         "y": 0.05,
         "yanchor": "bottom"
        },
        "margin": {
         "l": 40,
         "r": 40,
         "t": 100
        },
        "template": {
         "data": {
          "bar": [
           {
            "error_x": {
             "color": "#f2f5fa"
            },
            "error_y": {
             "color": "#f2f5fa"
            },
            "marker": {
             "line": {
              "color": "rgb(17,17,17)",
              "width": 0.5
             },
             "pattern": {
              "fillmode": "overlay",
              "size": 10,
              "solidity": 0.2
             }
            },
            "type": "bar"
           }
          ],
          "barpolar": [
           {
            "marker": {
             "line": {
              "color": "rgb(17,17,17)",
              "width": 0.5
             },
             "pattern": {
              "fillmode": "overlay",
              "size": 10,
              "solidity": 0.2
             }
            },
            "type": "barpolar"
           }
          ],
          "carpet": [
           {
            "aaxis": {
             "endlinecolor": "#A2B1C6",
             "gridcolor": "#506784",
             "linecolor": "#506784",
             "minorgridcolor": "#506784",
             "startlinecolor": "#A2B1C6"
            },
            "baxis": {
             "endlinecolor": "#A2B1C6",
             "gridcolor": "#506784",
             "linecolor": "#506784",
             "minorgridcolor": "#506784",
             "startlinecolor": "#A2B1C6"
            },
            "type": "carpet"
           }
          ],
          "choropleth": [
           {
            "colorbar": {
             "outlinewidth": 0,
             "ticks": ""
            },
            "type": "choropleth"
           }
          ],
          "contour": [
           {
            "colorbar": {
             "outlinewidth": 0,
             "ticks": ""
            },
            "colorscale": [
             [
              0,
              "#0d0887"
             ],
             [
              0.1111111111111111,
              "#46039f"
             ],
             [
              0.2222222222222222,
              "#7201a8"
             ],
             [
              0.3333333333333333,
              "#9c179e"
             ],
             [
              0.4444444444444444,
              "#bd3786"
             ],
             [
              0.5555555555555556,
              "#d8576b"
             ],
             [
              0.6666666666666666,
              "#ed7953"
             ],
             [
              0.7777777777777778,
              "#fb9f3a"
             ],
             [
              0.8888888888888888,
              "#fdca26"
             ],
             [
              1,
              "#f0f921"
             ]
            ],
            "type": "contour"
           }
          ],
          "contourcarpet": [
           {
            "colorbar": {
             "outlinewidth": 0,
             "ticks": ""
            },
            "type": "contourcarpet"
           }
          ],
          "heatmap": [
           {
            "colorbar": {
             "outlinewidth": 0,
             "ticks": ""
            },
            "colorscale": [
             [
              0,
              "#0d0887"
             ],
             [
              0.1111111111111111,
              "#46039f"
             ],
             [
              0.2222222222222222,
              "#7201a8"
             ],
             [
              0.3333333333333333,
              "#9c179e"
             ],
             [
              0.4444444444444444,
              "#bd3786"
             ],
             [
              0.5555555555555556,
              "#d8576b"
             ],
             [
              0.6666666666666666,
              "#ed7953"
             ],
             [
              0.7777777777777778,
              "#fb9f3a"
             ],
             [
              0.8888888888888888,
              "#fdca26"
             ],
             [
              1,
              "#f0f921"
             ]
            ],
            "type": "heatmap"
           }
          ],
          "heatmapgl": [
           {
            "colorbar": {
             "outlinewidth": 0,
             "ticks": ""
            },
            "colorscale": [
             [
              0,
              "#0d0887"
             ],
             [
              0.1111111111111111,
              "#46039f"
             ],
             [
              0.2222222222222222,
              "#7201a8"
             ],
             [
              0.3333333333333333,
              "#9c179e"
             ],
             [
              0.4444444444444444,
              "#bd3786"
             ],
             [
              0.5555555555555556,
              "#d8576b"
             ],
             [
              0.6666666666666666,
              "#ed7953"
             ],
             [
              0.7777777777777778,
              "#fb9f3a"
             ],
             [
              0.8888888888888888,
              "#fdca26"
             ],
             [
              1,
              "#f0f921"
             ]
            ],
            "type": "heatmapgl"
           }
          ],
          "histogram": [
           {
            "marker": {
             "pattern": {
              "fillmode": "overlay",
              "size": 10,
              "solidity": 0.2
             }
            },
            "type": "histogram"
           }
          ],
          "histogram2d": [
           {
            "colorbar": {
             "outlinewidth": 0,
             "ticks": ""
            },
            "colorscale": [
             [
              0,
              "#0d0887"
             ],
             [
              0.1111111111111111,
              "#46039f"
             ],
             [
              0.2222222222222222,
              "#7201a8"
             ],
             [
              0.3333333333333333,
              "#9c179e"
             ],
             [
              0.4444444444444444,
              "#bd3786"
             ],
             [
              0.5555555555555556,
              "#d8576b"
             ],
             [
              0.6666666666666666,
              "#ed7953"
             ],
             [
              0.7777777777777778,
              "#fb9f3a"
             ],
             [
              0.8888888888888888,
              "#fdca26"
             ],
             [
              1,
              "#f0f921"
             ]
            ],
            "type": "histogram2d"
           }
          ],
          "histogram2dcontour": [
           {
            "colorbar": {
             "outlinewidth": 0,
             "ticks": ""
            },
            "colorscale": [
             [
              0,
              "#0d0887"
             ],
             [
              0.1111111111111111,
              "#46039f"
             ],
             [
              0.2222222222222222,
              "#7201a8"
             ],
             [
              0.3333333333333333,
              "#9c179e"
             ],
             [
              0.4444444444444444,
              "#bd3786"
             ],
             [
              0.5555555555555556,
              "#d8576b"
             ],
             [
              0.6666666666666666,
              "#ed7953"
             ],
             [
              0.7777777777777778,
              "#fb9f3a"
             ],
             [
              0.8888888888888888,
              "#fdca26"
             ],
             [
              1,
              "#f0f921"
             ]
            ],
            "type": "histogram2dcontour"
           }
          ],
          "mesh3d": [
           {
            "colorbar": {
             "outlinewidth": 0,
             "ticks": ""
            },
            "type": "mesh3d"
           }
          ],
          "parcoords": [
           {
            "line": {
             "colorbar": {
              "outlinewidth": 0,
              "ticks": ""
             }
            },
            "type": "parcoords"
           }
          ],
          "pie": [
           {
            "automargin": true,
            "type": "pie"
           }
          ],
          "scatter": [
           {
            "marker": {
             "line": {
              "color": "#283442"
             }
            },
            "type": "scatter"
           }
          ],
          "scatter3d": [
           {
            "line": {
             "colorbar": {
              "outlinewidth": 0,
              "ticks": ""
             }
            },
            "marker": {
             "colorbar": {
              "outlinewidth": 0,
              "ticks": ""
             }
            },
            "type": "scatter3d"
           }
          ],
          "scattercarpet": [
           {
            "marker": {
             "colorbar": {
              "outlinewidth": 0,
              "ticks": ""
             }
            },
            "type": "scattercarpet"
           }
          ],
          "scattergeo": [
           {
            "marker": {
             "colorbar": {
              "outlinewidth": 0,
              "ticks": ""
             }
            },
            "type": "scattergeo"
           }
          ],
          "scattergl": [
           {
            "marker": {
             "line": {
              "color": "#283442"
             }
            },
            "type": "scattergl"
           }
          ],
          "scattermapbox": [
           {
            "marker": {
             "colorbar": {
              "outlinewidth": 0,
              "ticks": ""
             }
            },
            "type": "scattermapbox"
           }
          ],
          "scatterpolar": [
           {
            "marker": {
             "colorbar": {
              "outlinewidth": 0,
              "ticks": ""
             }
            },
            "type": "scatterpolar"
           }
          ],
          "scatterpolargl": [
           {
            "marker": {
             "colorbar": {
              "outlinewidth": 0,
              "ticks": ""
             }
            },
            "type": "scatterpolargl"
           }
          ],
          "scatterternary": [
           {
            "marker": {
             "colorbar": {
              "outlinewidth": 0,
              "ticks": ""
             }
            },
            "type": "scatterternary"
           }
          ],
          "surface": [
           {
            "colorbar": {
             "outlinewidth": 0,
             "ticks": ""
            },
            "colorscale": [
             [
              0,
              "#0d0887"
             ],
             [
              0.1111111111111111,
              "#46039f"
             ],
             [
              0.2222222222222222,
              "#7201a8"
             ],
             [
              0.3333333333333333,
              "#9c179e"
             ],
             [
              0.4444444444444444,
              "#bd3786"
             ],
             [
              0.5555555555555556,
              "#d8576b"
             ],
             [
              0.6666666666666666,
              "#ed7953"
             ],
             [
              0.7777777777777778,
              "#fb9f3a"
             ],
             [
              0.8888888888888888,
              "#fdca26"
             ],
             [
              1,
              "#f0f921"
             ]
            ],
            "type": "surface"
           }
          ],
          "table": [
           {
            "cells": {
             "fill": {
              "color": "#506784"
             },
             "line": {
              "color": "rgb(17,17,17)"
             }
            },
            "header": {
             "fill": {
              "color": "#2a3f5f"
             },
             "line": {
              "color": "rgb(17,17,17)"
             }
            },
            "type": "table"
           }
          ]
         },
         "layout": {
          "annotationdefaults": {
           "arrowcolor": "#f2f5fa",
           "arrowhead": 0,
           "arrowwidth": 1
          },
          "autotypenumbers": "strict",
          "coloraxis": {
           "colorbar": {
            "outlinewidth": 0,
            "ticks": ""
           }
          },
          "colorscale": {
           "diverging": [
            [
             0,
             "#8e0152"
            ],
            [
             0.1,
             "#c51b7d"
            ],
            [
             0.2,
             "#de77ae"
            ],
            [
             0.3,
             "#f1b6da"
            ],
            [
             0.4,
             "#fde0ef"
            ],
            [
             0.5,
             "#f7f7f7"
            ],
            [
             0.6,
             "#e6f5d0"
            ],
            [
             0.7,
             "#b8e186"
            ],
            [
             0.8,
             "#7fbc41"
            ],
            [
             0.9,
             "#4d9221"
            ],
            [
             1,
             "#276419"
            ]
           ],
           "sequential": [
            [
             0,
             "#0d0887"
            ],
            [
             0.1111111111111111,
             "#46039f"
            ],
            [
             0.2222222222222222,
             "#7201a8"
            ],
            [
             0.3333333333333333,
             "#9c179e"
            ],
            [
             0.4444444444444444,
             "#bd3786"
            ],
            [
             0.5555555555555556,
             "#d8576b"
            ],
            [
             0.6666666666666666,
             "#ed7953"
            ],
            [
             0.7777777777777778,
             "#fb9f3a"
            ],
            [
             0.8888888888888888,
             "#fdca26"
            ],
            [
             1,
             "#f0f921"
            ]
           ],
           "sequentialminus": [
            [
             0,
             "#0d0887"
            ],
            [
             0.1111111111111111,
             "#46039f"
            ],
            [
             0.2222222222222222,
             "#7201a8"
            ],
            [
             0.3333333333333333,
             "#9c179e"
            ],
            [
             0.4444444444444444,
             "#bd3786"
            ],
            [
             0.5555555555555556,
             "#d8576b"
            ],
            [
             0.6666666666666666,
             "#ed7953"
            ],
            [
             0.7777777777777778,
             "#fb9f3a"
            ],
            [
             0.8888888888888888,
             "#fdca26"
            ],
            [
             1,
             "#f0f921"
            ]
           ]
          },
          "colorway": [
           "#636efa",
           "#EF553B",
           "#00cc96",
           "#ab63fa",
           "#FFA15A",
           "#19d3f3",
           "#FF6692",
           "#B6E880",
           "#FF97FF",
           "#FECB52"
          ],
          "font": {
           "color": "#f2f5fa"
          },
          "geo": {
           "bgcolor": "rgb(17,17,17)",
           "lakecolor": "rgb(17,17,17)",
           "landcolor": "rgb(17,17,17)",
           "showlakes": true,
           "showland": true,
           "subunitcolor": "#506784"
          },
          "hoverlabel": {
           "align": "left"
          },
          "hovermode": "closest",
          "mapbox": {
           "style": "dark"
          },
          "paper_bgcolor": "rgb(17,17,17)",
          "plot_bgcolor": "rgb(17,17,17)",
          "polar": {
           "angularaxis": {
            "gridcolor": "#506784",
            "linecolor": "#506784",
            "ticks": ""
           },
           "bgcolor": "rgb(17,17,17)",
           "radialaxis": {
            "gridcolor": "#506784",
            "linecolor": "#506784",
            "ticks": ""
           }
          },
          "scene": {
           "xaxis": {
            "backgroundcolor": "rgb(17,17,17)",
            "gridcolor": "#506784",
            "gridwidth": 2,
            "linecolor": "#506784",
            "showbackground": true,
            "ticks": "",
            "zerolinecolor": "#C8D4E3"
           },
           "yaxis": {
            "backgroundcolor": "rgb(17,17,17)",
            "gridcolor": "#506784",
            "gridwidth": 2,
            "linecolor": "#506784",
            "showbackground": true,
            "ticks": "",
            "zerolinecolor": "#C8D4E3"
           },
           "zaxis": {
            "backgroundcolor": "rgb(17,17,17)",
            "gridcolor": "#506784",
            "gridwidth": 2,
            "linecolor": "#506784",
            "showbackground": true,
            "ticks": "",
            "zerolinecolor": "#C8D4E3"
           }
          },
          "shapedefaults": {
           "line": {
            "color": "#f2f5fa"
           }
          },
          "sliderdefaults": {
           "bgcolor": "#C8D4E3",
           "bordercolor": "rgb(17,17,17)",
           "borderwidth": 1,
           "tickwidth": 0
          },
          "ternary": {
           "aaxis": {
            "gridcolor": "#506784",
            "linecolor": "#506784",
            "ticks": ""
           },
           "baxis": {
            "gridcolor": "#506784",
            "linecolor": "#506784",
            "ticks": ""
           },
           "bgcolor": "rgb(17,17,17)",
           "caxis": {
            "gridcolor": "#506784",
            "linecolor": "#506784",
            "ticks": ""
           }
          },
          "title": {
           "x": 0.05
          },
          "updatemenudefaults": {
           "bgcolor": "#506784",
           "borderwidth": 0
          },
          "xaxis": {
           "automargin": true,
           "gridcolor": "#283442",
           "linecolor": "#506784",
           "ticks": "",
           "title": {
            "standoff": 15
           },
           "zerolinecolor": "#283442",
           "zerolinewidth": 2
          },
          "yaxis": {
           "automargin": true,
           "gridcolor": "#283442",
           "linecolor": "#506784",
           "ticks": "",
           "title": {
            "standoff": 15
           },
           "zerolinecolor": "#283442",
           "zerolinewidth": 2
          }
         }
        },
        "title": {
         "text": "Comparing the ['LogR'] Model Results on Different Conditions<br><span style=\"font-size: 12.5px; color: lightgrey;\"> -- Scopes: how many month of the latest data is used for parameter adjustments.</span><br><span style=\"font-size: 12.5px; color: lightgrey;\"> -- Error Bars: Showing mean, min and max of each measures among various future predictions.</span>",
         "y": 0.95,
         "yanchor": "top"
        },
        "width": 1000,
        "xaxis": {
         "anchor": "y",
         "domain": [
          0,
          0.16
         ]
        },
        "xaxis2": {
         "anchor": "y2",
         "domain": [
          0.21000000000000002,
          0.37
         ]
        },
        "xaxis3": {
         "anchor": "y3",
         "domain": [
          0.42000000000000004,
          0.5800000000000001
         ]
        },
        "xaxis4": {
         "anchor": "y4",
         "domain": [
          0.63,
          0.79
         ]
        },
        "xaxis5": {
         "anchor": "y5",
         "domain": [
          0.8400000000000001,
          1
         ]
        },
        "yaxis": {
         "anchor": "x",
         "domain": [
          0,
          1
         ]
        },
        "yaxis2": {
         "anchor": "x2",
         "domain": [
          0,
          1
         ],
         "matches": "y",
         "showticklabels": false
        },
        "yaxis3": {
         "anchor": "x3",
         "domain": [
          0,
          1
         ],
         "matches": "y",
         "showticklabels": false
        },
        "yaxis4": {
         "anchor": "x4",
         "domain": [
          0,
          1
         ],
         "matches": "y",
         "showticklabels": false
        },
        "yaxis5": {
         "anchor": "x5",
         "domain": [
          0,
          1
         ],
         "matches": "y",
         "showticklabels": false
        }
       }
      }
     },
     "metadata": {},
     "output_type": "display_data"
    }
   ],
   "source": [
    "fig.show()"
   ]
  },
  {
   "cell_type": "code",
   "execution_count": null,
   "metadata": {},
   "outputs": [],
   "source": []
  },
  {
   "cell_type": "markdown",
   "metadata": {},
   "source": [
    "html.H3('Comparing the Logistic Regression Model Results on Different Conditions', \n",
    "            style={ 'color': 'white'}),\n",
    "    html.Div(id='fixed-legend', style={'color': 'white'}, children=[\n",
    "        dcc.Markdown(\"\"\"\n",
    "            - Scopes: how many months of the latest data is used for parameter adjustments.\n",
    "            - Error Bars: Showing mean, min, and max of each measure among various future predictions.\n",
    "        \"\"\")\n",
    "    ]),"
   ]
  },
  {
   "cell_type": "code",
   "execution_count": null,
   "metadata": {},
   "outputs": [],
   "source": []
  },
  {
   "cell_type": "code",
   "execution_count": null,
   "metadata": {},
   "outputs": [],
   "source": []
  },
  {
   "cell_type": "code",
   "execution_count": 131,
   "metadata": {},
   "outputs": [
    {
     "data": {
      "application/vnd.plotly.v1+json": {
       "config": {
        "plotlyServerURL": "https://plot.ly"
       },
       "data": [
        {
         "error_y": {
          "array": [
           0.04177960511099066,
           0.26666916450286315,
           0.3457946621511496,
           0.38815276286956824,
           0.4145848730926227,
           0.39233005410907307
          ],
          "arrayminus": [
           0.12040469464317649,
           0.6860741637343439,
           0.4761271571037744,
           0.404877506806403,
           0.29893647579554194,
           0.21005784456917365
          ]
         },
         "hovertemplate": "SC=1<br>MA=%{x}<br>RMSE_mean=%{y}<extra></extra>",
         "legendgroup": "1",
         "marker": {
          "color": "#636efa",
          "symbol": "circle"
         },
         "mode": "markers",
         "name": "1",
         "orientation": "v",
         "showlegend": true,
         "type": "scatter",
         "x": [
          1,
          2,
          3,
          4,
          5,
          6
         ],
         "xaxis": "x",
         "y": [
          7.690272936396407,
          6.378161551744127,
          5.703326991079184,
          5.26631517131526,
          4.921881871751112,
          4.6203547796193565
         ],
         "yaxis": "y"
        },
        {
         "error_y": {
          "array": [
           0.31949239167845356,
           0.8325117640325317,
           1.00160349600986,
           1.119263816975609,
           1.1523678336395946,
           1.0275206849321457
          ],
          "arrayminus": [
           0.6546591745527923,
           1.6674508930252614,
           1.4261947768922845,
           1.0563791144202526,
           0.818823608259776,
           0.5441429921630832
          ]
         },
         "hovertemplate": "SC=6<br>MA=%{x}<br>RMSE_mean=%{y}<extra></extra>",
         "legendgroup": "6",
         "marker": {
          "color": "#EF553B",
          "symbol": "circle"
         },
         "mode": "markers",
         "name": "6",
         "orientation": "v",
         "showlegend": true,
         "type": "scatter",
         "x": [
          1,
          2,
          3,
          4,
          5,
          6
         ],
         "xaxis": "x",
         "y": [
          10.96162706309268,
          9.895239634125653,
          9.209297963228286,
          8.602354946911676,
          8.067020249076494,
          7.583555025966873
         ],
         "yaxis": "y"
        },
        {
         "error_y": {
          "array": [
           0.43324531266508615,
           0.995681743772419,
           1.2041141561756135,
           1.3247638915372786,
           1.2880749687645618,
           1.0909257405957469
          ],
          "arrayminus": [
           0.9201639408684361,
           1.8318366489877533,
           1.5040693326999648,
           1.0827215103553467,
           0.828726383684856,
           0.5445462088860129
          ]
         },
         "hovertemplate": "SC=12<br>MA=%{x}<br>RMSE_mean=%{y}<extra></extra>",
         "legendgroup": "12",
         "marker": {
          "color": "#00cc96",
          "symbol": "circle"
         },
         "mode": "markers",
         "name": "12",
         "orientation": "v",
         "showlegend": true,
         "type": "scatter",
         "x": [
          1,
          2,
          3,
          4,
          5,
          6
         ],
         "xaxis": "x",
         "y": [
          12.89089438870124,
          11.774684958204759,
          11.122070216464657,
          10.536571730246143,
          10.015076007666464,
          9.54606387751671
         ],
         "yaxis": "y"
        },
        {
         "error_y": {
          "array": [
           0.04243275525111745,
           0.2689274627942728,
           0.3485049260834341,
           0.39127820966496785,
           0.4179021247359911,
           0.3954776070766908
          ],
          "arrayminus": [
           0.12162733160211481,
           0.6913975192633854,
           0.4798924394690056,
           0.40801949031102414,
           0.3012914700300229,
           0.21166825408878776
          ]
         },
         "hovertemplate": "SC=1<br>MA=%{x}<br>SE_mean=%{y}<extra></extra>",
         "legendgroup": "1",
         "marker": {
          "color": "#636efa",
          "symbol": "circle"
         },
         "mode": "markers",
         "name": "1",
         "orientation": "v",
         "showlegend": false,
         "type": "scatter",
         "x": [
          1,
          2,
          3,
          4,
          5,
          6
         ],
         "xaxis": "x2",
         "y": [
          7.746683678800831,
          6.425185738668266,
          5.745481037642196,
          5.305335410303836,
          4.958439147784331,
          4.65475595240677
         ],
         "yaxis": "y2"
        },
        {
         "error_y": {
          "array": [
           0.3217291223172509,
           0.8389138757418415,
           1.0092546708699608,
           1.1279737657936213,
           1.161327781234295,
           1.0355525037601092
          ],
          "arrayminus": [
           0.6599261890115002,
           1.6801390583505285,
           1.4371150198635547,
           1.0645754922258632,
           0.8251268287382247,
           0.548405551797603
          ]
         },
         "hovertemplate": "SC=6<br>MA=%{x}<br>SE_mean=%{y}<extra></extra>",
         "legendgroup": "6",
         "marker": {
          "color": "#EF553B",
          "symbol": "circle"
         },
         "mode": "markers",
         "name": "6",
         "orientation": "v",
         "showlegend": false,
         "type": "scatter",
         "x": [
          1,
          2,
          3,
          4,
          5,
          6
         ],
         "xaxis": "x2",
         "y": [
          11.042037001112263,
          9.968205445885138,
          9.277377626622942,
          8.66610527101472,
          8.126948343484614,
          7.640026548372087
         ],
         "yaxis": "y2"
        },
        {
         "error_y": {
          "array": [
           0.43653150110816696,
           1.0033369262211735,
           1.2135423284950644,
           1.3350920606982708,
           1.2981378301768398,
           1.0995234845118986
          ],
          "arrayminus": [
           0.9274581858275734,
           1.8458190698210668,
           1.515651933347618,
           1.0912021980463518,
           0.8351575598797165,
           0.5488661598650548
          ]
         },
         "hovertemplate": "SC=12<br>MA=%{x}<br>SE_mean=%{y}<extra></extra>",
         "legendgroup": "12",
         "marker": {
          "color": "#00cc96",
          "symbol": "circle"
         },
         "mode": "markers",
         "name": "12",
         "orientation": "v",
         "showlegend": false,
         "type": "scatter",
         "x": [
          1,
          2,
          3,
          4,
          5,
          6
         ],
         "xaxis": "x2",
         "y": [
          12.98546121399019,
          11.861509732407962,
          11.20428779945621,
          10.614652254867234,
          10.089471239594284,
          9.617145071989455
         ],
         "yaxis": "y2"
        },
        {
         "error_y": {
          "array": [
           0.006200141126988856,
           0.034105725577653345,
           0.022269052405689327,
           0.0184133615502885,
           0.013302729076123954,
           0.009215762919170811
          ],
          "arrayminus": [
           0.002889852707576579,
           0.013318502749849248,
           0.016567519163607325,
           0.018196535976034545,
           0.01903195513445055,
           0.01761625106129372
          ]
         },
         "hovertemplate": "SC=1<br>MA=%{x}<br>R2_mean=%{y}<extra></extra>",
         "legendgroup": "1",
         "marker": {
          "color": "#636efa",
          "symbol": "circle"
         },
         "mode": "markers",
         "name": "1",
         "orientation": "v",
         "showlegend": false,
         "type": "scatter",
         "x": [
          1,
          2,
          3,
          4,
          5,
          6
         ],
         "xaxis": "x3",
         "y": [
          0.7646327027894116,
          0.8311727797035037,
          0.8603958972195117,
          0.8771678353314657,
          0.8893274090344683,
          0.8993803352753177
         ],
         "yaxis": "y3"
        },
        {
         "error_y": {
          "array": [
           0.05371958095151863,
           0.1270846302681068,
           0.10641906846855897,
           0.07796026012072799,
           0.05965201626680905,
           0.039095023192290634
          ],
          "arrayminus": [
           0.02804593415999046,
           0.06660554664707441,
           0.0784334094189133,
           0.08682059778629714,
           0.0881160253182024,
           0.07682304377423976
          ]
         },
         "hovertemplate": "SC=6<br>MA=%{x}<br>R2_mean=%{y}<extra></extra>",
         "legendgroup": "6",
         "marker": {
          "color": "#EF553B",
          "symbol": "circle"
         },
         "mode": "markers",
         "name": "6",
         "orientation": "v",
         "showlegend": false,
         "type": "scatter",
         "x": [
          1,
          2,
          3,
          4,
          5,
          6
         ],
         "xaxis": "x3",
         "y": [
          0.5214285037374906,
          0.5914272702339248,
          0.6334481205409722,
          0.6699500762760572,
          0.7009905276013443,
          0.7279049948143951
         ],
         "yaxis": "y3"
        },
        {
         "error_y": {
          "array": [
           0.08894185096904067,
           0.16710990695436428,
           0.1365079331025123,
           0.09849370574521199,
           0.07523588586239915,
           0.04928366880872481
          ],
          "arrayminus": [
           0.04355419572054281,
           0.09517828091757813,
           0.11498184407729561,
           0.12658407706098262,
           0.1221825103085965,
           0.10213530206855148
          ]
         },
         "hovertemplate": "SC=12<br>MA=%{x}<br>R2_mean=%{y}<extra></extra>",
         "legendgroup": "12",
         "marker": {
          "color": "#00cc96",
          "symbol": "circle"
         },
         "mode": "markers",
         "name": "12",
         "orientation": "v",
         "showlegend": false,
         "type": "scatter",
         "x": [
          1,
          2,
          3,
          4,
          5,
          6
         ],
         "xaxis": "x3",
         "y": [
          0.3379757928892133,
          0.42182045353204306,
          0.4662463871424485,
          0.5060134684900596,
          0.540284810467874,
          0.5697254409526412
         ],
         "yaxis": "y3"
        },
        {
         "error_y": {
          "array": [
           0.006293492747958651,
           0.03453725843575617,
           0.022554048250994385,
           0.01864706944358796,
           0.01347306465334408,
           0.009332368032872629
          ],
          "arrayminus": [
           0.0029144587653072707,
           0.013495843676328279,
           0.016778673958470436,
           0.0184321696581371,
           0.019277853835343972,
           0.01784443457729934
          ]
         },
         "hovertemplate": "SC=1<br>MA=%{x}<br>Adj-R2_mean=%{y}<extra></extra>",
         "legendgroup": "1",
         "marker": {
          "color": "#636efa",
          "symbol": "circle"
         },
         "mode": "markers",
         "name": "1",
         "orientation": "v",
         "showlegend": false,
         "type": "scatter",
         "x": [
          1,
          2,
          3,
          4,
          5,
          6
         ],
         "xaxis": "x4",
         "y": [
          0.7617446297527883,
          0.8290902481356112,
          0.8586694388388897,
          0.875645006412015,
          0.8879520009091117,
          0.8981268657112985
         ],
         "yaxis": "y4"
        },
        {
         "error_y": {
          "array": [
           0.054411149367827316,
           0.12867636477299593,
           0.1077580179806692,
           0.0789490678032766,
           0.060406966419068175,
           0.03959476817846652
          ],
          "arrayminus": [
           0.0283817917667073,
           0.06744512234224898,
           0.07941963441933997,
           0.08792512439819322,
           0.08923779913329699,
           0.07780488678148056
          ]
         },
         "hovertemplate": "SC=6<br>MA=%{x}<br>Adj-R2_mean=%{y}<extra></extra>",
         "legendgroup": "6",
         "marker": {
          "color": "#EF553B",
          "symbol": "circle"
         },
         "mode": "markers",
         "name": "6",
         "orientation": "v",
         "showlegend": false,
         "type": "scatter",
         "x": [
          1,
          2,
          3,
          4,
          5,
          6
         ],
         "xaxis": "x4",
         "y": [
          0.5155558144027553,
          0.5863859266665605,
          0.6289134362501093,
          0.6658567160860799,
          0.6972732326949781,
          0.7245144311930666
         ],
         "yaxis": "y4"
        },
        {
         "error_y": {
          "array": [
           0.09007771205030363,
           0.16920648140968336,
           0.13823062832105415,
           0.09973704525907823,
           0.07619198027224927,
           0.049917702703575983
          ],
          "arrayminus": [
           0.04409756476486121,
           0.09637772480850876,
           0.1164478297696464,
           0.12819589820533417,
           0.12374172992312027,
           0.10344613682250903
          ]
         },
         "hovertemplate": "SC=12<br>MA=%{x}<br>Adj-R2_mean=%{y}<extra></extra>",
         "legendgroup": "12",
         "marker": {
          "color": "#00cc96",
          "symbol": "circle"
         },
         "mode": "markers",
         "name": "12",
         "orientation": "v",
         "showlegend": false,
         "type": "scatter",
         "x": [
          1,
          2,
          3,
          4,
          5,
          6
         ],
         "xaxis": "x4",
         "y": [
          0.3298511225867096,
          0.41468626094543,
          0.45964352386794793,
          0.4998875014976165,
          0.5345703088343888,
          0.5643644729357228
         ],
         "yaxis": "y4"
        }
       ],
       "layout": {
        "annotations": [
         {
          "font": {
           "color": "grey",
           "size": 11
          },
          "showarrow": false,
          "text": "RMSE",
          "x": 0.2375,
          "xanchor": "center",
          "xref": "paper",
          "y": 1,
          "yanchor": "bottom",
          "yref": "paper"
         },
         {
          "font": {
           "color": "grey",
           "size": 11
          },
          "showarrow": false,
          "text": "SE",
          "x": 0.7625,
          "xanchor": "center",
          "xref": "paper",
          "y": 1,
          "yanchor": "bottom",
          "yref": "paper"
         },
         {
          "font": {
           "color": "grey",
           "size": 11
          },
          "showarrow": false,
          "text": "R2",
          "x": 0.2375,
          "xanchor": "center",
          "xref": "paper",
          "y": 0.475,
          "yanchor": "bottom",
          "yref": "paper"
         },
         {
          "font": {
           "color": "grey",
           "size": 11
          },
          "showarrow": false,
          "text": "Adj-R2",
          "x": 0.7625,
          "xanchor": "center",
          "xref": "paper",
          "y": 0.475,
          "yanchor": "bottom",
          "yref": "paper"
         }
        ],
        "height": 500,
        "legend": {
         "title": {
          "font": {
           "color": "lightgrey"
          },
          "text": "Scopes"
         }
        },
        "margin": {
         "l": 40,
         "r": 40,
         "t": 100
        },
        "template": {
         "data": {
          "bar": [
           {
            "error_x": {
             "color": "#f2f5fa"
            },
            "error_y": {
             "color": "#f2f5fa"
            },
            "marker": {
             "line": {
              "color": "rgb(17,17,17)",
              "width": 0.5
             },
             "pattern": {
              "fillmode": "overlay",
              "size": 10,
              "solidity": 0.2
             }
            },
            "type": "bar"
           }
          ],
          "barpolar": [
           {
            "marker": {
             "line": {
              "color": "rgb(17,17,17)",
              "width": 0.5
             },
             "pattern": {
              "fillmode": "overlay",
              "size": 10,
              "solidity": 0.2
             }
            },
            "type": "barpolar"
           }
          ],
          "carpet": [
           {
            "aaxis": {
             "endlinecolor": "#A2B1C6",
             "gridcolor": "#506784",
             "linecolor": "#506784",
             "minorgridcolor": "#506784",
             "startlinecolor": "#A2B1C6"
            },
            "baxis": {
             "endlinecolor": "#A2B1C6",
             "gridcolor": "#506784",
             "linecolor": "#506784",
             "minorgridcolor": "#506784",
             "startlinecolor": "#A2B1C6"
            },
            "type": "carpet"
           }
          ],
          "choropleth": [
           {
            "colorbar": {
             "outlinewidth": 0,
             "ticks": ""
            },
            "type": "choropleth"
           }
          ],
          "contour": [
           {
            "colorbar": {
             "outlinewidth": 0,
             "ticks": ""
            },
            "colorscale": [
             [
              0,
              "#0d0887"
             ],
             [
              0.1111111111111111,
              "#46039f"
             ],
             [
              0.2222222222222222,
              "#7201a8"
             ],
             [
              0.3333333333333333,
              "#9c179e"
             ],
             [
              0.4444444444444444,
              "#bd3786"
             ],
             [
              0.5555555555555556,
              "#d8576b"
             ],
             [
              0.6666666666666666,
              "#ed7953"
             ],
             [
              0.7777777777777778,
              "#fb9f3a"
             ],
             [
              0.8888888888888888,
              "#fdca26"
             ],
             [
              1,
              "#f0f921"
             ]
            ],
            "type": "contour"
           }
          ],
          "contourcarpet": [
           {
            "colorbar": {
             "outlinewidth": 0,
             "ticks": ""
            },
            "type": "contourcarpet"
           }
          ],
          "heatmap": [
           {
            "colorbar": {
             "outlinewidth": 0,
             "ticks": ""
            },
            "colorscale": [
             [
              0,
              "#0d0887"
             ],
             [
              0.1111111111111111,
              "#46039f"
             ],
             [
              0.2222222222222222,
              "#7201a8"
             ],
             [
              0.3333333333333333,
              "#9c179e"
             ],
             [
              0.4444444444444444,
              "#bd3786"
             ],
             [
              0.5555555555555556,
              "#d8576b"
             ],
             [
              0.6666666666666666,
              "#ed7953"
             ],
             [
              0.7777777777777778,
              "#fb9f3a"
             ],
             [
              0.8888888888888888,
              "#fdca26"
             ],
             [
              1,
              "#f0f921"
             ]
            ],
            "type": "heatmap"
           }
          ],
          "heatmapgl": [
           {
            "colorbar": {
             "outlinewidth": 0,
             "ticks": ""
            },
            "colorscale": [
             [
              0,
              "#0d0887"
             ],
             [
              0.1111111111111111,
              "#46039f"
             ],
             [
              0.2222222222222222,
              "#7201a8"
             ],
             [
              0.3333333333333333,
              "#9c179e"
             ],
             [
              0.4444444444444444,
              "#bd3786"
             ],
             [
              0.5555555555555556,
              "#d8576b"
             ],
             [
              0.6666666666666666,
              "#ed7953"
             ],
             [
              0.7777777777777778,
              "#fb9f3a"
             ],
             [
              0.8888888888888888,
              "#fdca26"
             ],
             [
              1,
              "#f0f921"
             ]
            ],
            "type": "heatmapgl"
           }
          ],
          "histogram": [
           {
            "marker": {
             "pattern": {
              "fillmode": "overlay",
              "size": 10,
              "solidity": 0.2
             }
            },
            "type": "histogram"
           }
          ],
          "histogram2d": [
           {
            "colorbar": {
             "outlinewidth": 0,
             "ticks": ""
            },
            "colorscale": [
             [
              0,
              "#0d0887"
             ],
             [
              0.1111111111111111,
              "#46039f"
             ],
             [
              0.2222222222222222,
              "#7201a8"
             ],
             [
              0.3333333333333333,
              "#9c179e"
             ],
             [
              0.4444444444444444,
              "#bd3786"
             ],
             [
              0.5555555555555556,
              "#d8576b"
             ],
             [
              0.6666666666666666,
              "#ed7953"
             ],
             [
              0.7777777777777778,
              "#fb9f3a"
             ],
             [
              0.8888888888888888,
              "#fdca26"
             ],
             [
              1,
              "#f0f921"
             ]
            ],
            "type": "histogram2d"
           }
          ],
          "histogram2dcontour": [
           {
            "colorbar": {
             "outlinewidth": 0,
             "ticks": ""
            },
            "colorscale": [
             [
              0,
              "#0d0887"
             ],
             [
              0.1111111111111111,
              "#46039f"
             ],
             [
              0.2222222222222222,
              "#7201a8"
             ],
             [
              0.3333333333333333,
              "#9c179e"
             ],
             [
              0.4444444444444444,
              "#bd3786"
             ],
             [
              0.5555555555555556,
              "#d8576b"
             ],
             [
              0.6666666666666666,
              "#ed7953"
             ],
             [
              0.7777777777777778,
              "#fb9f3a"
             ],
             [
              0.8888888888888888,
              "#fdca26"
             ],
             [
              1,
              "#f0f921"
             ]
            ],
            "type": "histogram2dcontour"
           }
          ],
          "mesh3d": [
           {
            "colorbar": {
             "outlinewidth": 0,
             "ticks": ""
            },
            "type": "mesh3d"
           }
          ],
          "parcoords": [
           {
            "line": {
             "colorbar": {
              "outlinewidth": 0,
              "ticks": ""
             }
            },
            "type": "parcoords"
           }
          ],
          "pie": [
           {
            "automargin": true,
            "type": "pie"
           }
          ],
          "scatter": [
           {
            "marker": {
             "line": {
              "color": "#283442"
             }
            },
            "type": "scatter"
           }
          ],
          "scatter3d": [
           {
            "line": {
             "colorbar": {
              "outlinewidth": 0,
              "ticks": ""
             }
            },
            "marker": {
             "colorbar": {
              "outlinewidth": 0,
              "ticks": ""
             }
            },
            "type": "scatter3d"
           }
          ],
          "scattercarpet": [
           {
            "marker": {
             "colorbar": {
              "outlinewidth": 0,
              "ticks": ""
             }
            },
            "type": "scattercarpet"
           }
          ],
          "scattergeo": [
           {
            "marker": {
             "colorbar": {
              "outlinewidth": 0,
              "ticks": ""
             }
            },
            "type": "scattergeo"
           }
          ],
          "scattergl": [
           {
            "marker": {
             "line": {
              "color": "#283442"
             }
            },
            "type": "scattergl"
           }
          ],
          "scattermapbox": [
           {
            "marker": {
             "colorbar": {
              "outlinewidth": 0,
              "ticks": ""
             }
            },
            "type": "scattermapbox"
           }
          ],
          "scatterpolar": [
           {
            "marker": {
             "colorbar": {
              "outlinewidth": 0,
              "ticks": ""
             }
            },
            "type": "scatterpolar"
           }
          ],
          "scatterpolargl": [
           {
            "marker": {
             "colorbar": {
              "outlinewidth": 0,
              "ticks": ""
             }
            },
            "type": "scatterpolargl"
           }
          ],
          "scatterternary": [
           {
            "marker": {
             "colorbar": {
              "outlinewidth": 0,
              "ticks": ""
             }
            },
            "type": "scatterternary"
           }
          ],
          "surface": [
           {
            "colorbar": {
             "outlinewidth": 0,
             "ticks": ""
            },
            "colorscale": [
             [
              0,
              "#0d0887"
             ],
             [
              0.1111111111111111,
              "#46039f"
             ],
             [
              0.2222222222222222,
              "#7201a8"
             ],
             [
              0.3333333333333333,
              "#9c179e"
             ],
             [
              0.4444444444444444,
              "#bd3786"
             ],
             [
              0.5555555555555556,
              "#d8576b"
             ],
             [
              0.6666666666666666,
              "#ed7953"
             ],
             [
              0.7777777777777778,
              "#fb9f3a"
             ],
             [
              0.8888888888888888,
              "#fdca26"
             ],
             [
              1,
              "#f0f921"
             ]
            ],
            "type": "surface"
           }
          ],
          "table": [
           {
            "cells": {
             "fill": {
              "color": "#506784"
             },
             "line": {
              "color": "rgb(17,17,17)"
             }
            },
            "header": {
             "fill": {
              "color": "#2a3f5f"
             },
             "line": {
              "color": "rgb(17,17,17)"
             }
            },
            "type": "table"
           }
          ]
         },
         "layout": {
          "annotationdefaults": {
           "arrowcolor": "#f2f5fa",
           "arrowhead": 0,
           "arrowwidth": 1
          },
          "autotypenumbers": "strict",
          "coloraxis": {
           "colorbar": {
            "outlinewidth": 0,
            "ticks": ""
           }
          },
          "colorscale": {
           "diverging": [
            [
             0,
             "#8e0152"
            ],
            [
             0.1,
             "#c51b7d"
            ],
            [
             0.2,
             "#de77ae"
            ],
            [
             0.3,
             "#f1b6da"
            ],
            [
             0.4,
             "#fde0ef"
            ],
            [
             0.5,
             "#f7f7f7"
            ],
            [
             0.6,
             "#e6f5d0"
            ],
            [
             0.7,
             "#b8e186"
            ],
            [
             0.8,
             "#7fbc41"
            ],
            [
             0.9,
             "#4d9221"
            ],
            [
             1,
             "#276419"
            ]
           ],
           "sequential": [
            [
             0,
             "#0d0887"
            ],
            [
             0.1111111111111111,
             "#46039f"
            ],
            [
             0.2222222222222222,
             "#7201a8"
            ],
            [
             0.3333333333333333,
             "#9c179e"
            ],
            [
             0.4444444444444444,
             "#bd3786"
            ],
            [
             0.5555555555555556,
             "#d8576b"
            ],
            [
             0.6666666666666666,
             "#ed7953"
            ],
            [
             0.7777777777777778,
             "#fb9f3a"
            ],
            [
             0.8888888888888888,
             "#fdca26"
            ],
            [
             1,
             "#f0f921"
            ]
           ],
           "sequentialminus": [
            [
             0,
             "#0d0887"
            ],
            [
             0.1111111111111111,
             "#46039f"
            ],
            [
             0.2222222222222222,
             "#7201a8"
            ],
            [
             0.3333333333333333,
             "#9c179e"
            ],
            [
             0.4444444444444444,
             "#bd3786"
            ],
            [
             0.5555555555555556,
             "#d8576b"
            ],
            [
             0.6666666666666666,
             "#ed7953"
            ],
            [
             0.7777777777777778,
             "#fb9f3a"
            ],
            [
             0.8888888888888888,
             "#fdca26"
            ],
            [
             1,
             "#f0f921"
            ]
           ]
          },
          "colorway": [
           "#636efa",
           "#EF553B",
           "#00cc96",
           "#ab63fa",
           "#FFA15A",
           "#19d3f3",
           "#FF6692",
           "#B6E880",
           "#FF97FF",
           "#FECB52"
          ],
          "font": {
           "color": "#f2f5fa"
          },
          "geo": {
           "bgcolor": "rgb(17,17,17)",
           "lakecolor": "rgb(17,17,17)",
           "landcolor": "rgb(17,17,17)",
           "showlakes": true,
           "showland": true,
           "subunitcolor": "#506784"
          },
          "hoverlabel": {
           "align": "left"
          },
          "hovermode": "closest",
          "mapbox": {
           "style": "dark"
          },
          "paper_bgcolor": "rgb(17,17,17)",
          "plot_bgcolor": "rgb(17,17,17)",
          "polar": {
           "angularaxis": {
            "gridcolor": "#506784",
            "linecolor": "#506784",
            "ticks": ""
           },
           "bgcolor": "rgb(17,17,17)",
           "radialaxis": {
            "gridcolor": "#506784",
            "linecolor": "#506784",
            "ticks": ""
           }
          },
          "scene": {
           "xaxis": {
            "backgroundcolor": "rgb(17,17,17)",
            "gridcolor": "#506784",
            "gridwidth": 2,
            "linecolor": "#506784",
            "showbackground": true,
            "ticks": "",
            "zerolinecolor": "#C8D4E3"
           },
           "yaxis": {
            "backgroundcolor": "rgb(17,17,17)",
            "gridcolor": "#506784",
            "gridwidth": 2,
            "linecolor": "#506784",
            "showbackground": true,
            "ticks": "",
            "zerolinecolor": "#C8D4E3"
           },
           "zaxis": {
            "backgroundcolor": "rgb(17,17,17)",
            "gridcolor": "#506784",
            "gridwidth": 2,
            "linecolor": "#506784",
            "showbackground": true,
            "ticks": "",
            "zerolinecolor": "#C8D4E3"
           }
          },
          "shapedefaults": {
           "line": {
            "color": "#f2f5fa"
           }
          },
          "sliderdefaults": {
           "bgcolor": "#C8D4E3",
           "bordercolor": "rgb(17,17,17)",
           "borderwidth": 1,
           "tickwidth": 0
          },
          "ternary": {
           "aaxis": {
            "gridcolor": "#506784",
            "linecolor": "#506784",
            "ticks": ""
           },
           "baxis": {
            "gridcolor": "#506784",
            "linecolor": "#506784",
            "ticks": ""
           },
           "bgcolor": "rgb(17,17,17)",
           "caxis": {
            "gridcolor": "#506784",
            "linecolor": "#506784",
            "ticks": ""
           }
          },
          "title": {
           "x": 0.05
          },
          "updatemenudefaults": {
           "bgcolor": "#506784",
           "borderwidth": 0
          },
          "xaxis": {
           "automargin": true,
           "gridcolor": "#283442",
           "linecolor": "#506784",
           "ticks": "",
           "title": {
            "standoff": 15
           },
           "zerolinecolor": "#283442",
           "zerolinewidth": 2
          },
          "yaxis": {
           "automargin": true,
           "gridcolor": "#283442",
           "linecolor": "#506784",
           "ticks": "",
           "title": {
            "standoff": 15
           },
           "zerolinecolor": "#283442",
           "zerolinewidth": 2
          }
         }
        },
        "title": {
         "text": "Comparing the ['LinR'] Model Results on Different Conditions<br><span style=\"font-size: 12.5px; color: lightgrey;\"> -- Scopes: how many month of the latest data is used for parameter adjustments.</span><br><span style=\"font-size: 12.5px; color: lightgrey;\"> -- Error Bars: Showing mean, min and max of each measures among various future predictions.</span>",
         "y": 0.95,
         "yanchor": "top"
        },
        "width": 800,
        "xaxis": {
         "anchor": "y",
         "domain": [
          0,
          0.475
         ],
         "matches": "x3",
         "showticklabels": false
        },
        "xaxis2": {
         "anchor": "y2",
         "domain": [
          0.525,
          1
         ],
         "matches": "x4",
         "showticklabels": false
        },
        "xaxis3": {
         "anchor": "y3",
         "domain": [
          0,
          0.475
         ],
         "title": {
          "text": "Moving Averages"
         }
        },
        "xaxis4": {
         "anchor": "y4",
         "domain": [
          0.525,
          1
         ],
         "title": {
          "text": "Moving Averages"
         }
        },
        "yaxis": {
         "anchor": "x",
         "domain": [
          0.525,
          1
         ]
        },
        "yaxis2": {
         "anchor": "x2",
         "domain": [
          0.525,
          1
         ],
         "matches": "y",
         "showticklabels": false
        },
        "yaxis3": {
         "anchor": "x3",
         "domain": [
          0,
          0.475
         ]
        },
        "yaxis4": {
         "anchor": "x4",
         "domain": [
          0,
          0.475
         ],
         "matches": "y3",
         "showticklabels": false
        }
       }
      }
     },
     "metadata": {},
     "output_type": "display_data"
    }
   ],
   "source": [
    "f1.show()"
   ]
  },
  {
   "cell_type": "code",
   "execution_count": 147,
   "metadata": {},
   "outputs": [
    {
     "data": {
      "application/vnd.plotly.v1+json": {
       "config": {
        "plotlyServerURL": "https://plot.ly"
       },
       "data": [
        {
         "alignmentgroup": "True",
         "boxpoints": "all",
         "fillcolor": "rgba(255,255,255,0)",
         "hoveron": "points",
         "hovertemplate": "sc=1<br>theta=%{x}<br>diff=%{y}<extra></extra>",
         "legendgroup": "1",
         "line": {
          "color": "rgba(255,255,255,0)"
         },
         "marker": {
          "color": "#636efa",
          "opacity": 0.5,
          "size": 5
         },
         "name": "1",
         "offsetgroup": "1",
         "orientation": "v",
         "pointpos": 0,
         "showlegend": true,
         "type": "box",
         "x": [
          "CSENT",
          "IPM",
          "HOUSE",
          "UNEMP",
          "LRIR",
          "CSENT",
          "IPM",
          "HOUSE",
          "UNEMP",
          "LRIR",
          "CSENT",
          "IPM",
          "HOUSE",
          "UNEMP",
          "LRIR",
          "CSENT",
          "IPM",
          "HOUSE",
          "UNEMP",
          "LRIR",
          "CSENT",
          "IPM",
          "HOUSE",
          "UNEMP",
          "LRIR",
          "CSENT",
          "IPM",
          "HOUSE",
          "UNEMP",
          "LRIR",
          "CSENT",
          "IPM",
          "HOUSE",
          "UNEMP",
          "LRIR",
          "CSENT",
          "IPM",
          "HOUSE",
          "UNEMP",
          "LRIR",
          "CSENT",
          "IPM",
          "HOUSE",
          "UNEMP",
          "LRIR",
          "CSENT",
          "IPM",
          "HOUSE",
          "UNEMP",
          "LRIR",
          "CSENT",
          "IPM",
          "HOUSE",
          "UNEMP",
          "LRIR",
          "CSENT",
          "IPM",
          "HOUSE",
          "UNEMP",
          "LRIR",
          "CSENT",
          "IPM",
          "HOUSE",
          "UNEMP",
          "LRIR",
          "CSENT",
          "IPM",
          "HOUSE",
          "UNEMP",
          "LRIR",
          "CSENT",
          "IPM",
          "HOUSE",
          "UNEMP",
          "LRIR",
          "CSENT",
          "IPM",
          "HOUSE",
          "UNEMP",
          "LRIR",
          "CSENT",
          "IPM",
          "HOUSE",
          "UNEMP",
          "LRIR",
          "CSENT",
          "IPM",
          "HOUSE",
          "UNEMP",
          "LRIR",
          "CSENT",
          "IPM",
          "HOUSE",
          "UNEMP",
          "LRIR",
          "CSENT",
          "IPM",
          "HOUSE",
          "UNEMP",
          "LRIR",
          "CSENT",
          "IPM",
          "HOUSE",
          "UNEMP",
          "LRIR",
          "CSENT",
          "IPM",
          "HOUSE",
          "UNEMP",
          "LRIR",
          "CSENT",
          "IPM",
          "HOUSE",
          "UNEMP",
          "LRIR",
          "CSENT",
          "IPM",
          "HOUSE",
          "UNEMP",
          "LRIR",
          "CSENT",
          "IPM",
          "HOUSE",
          "UNEMP",
          "LRIR",
          "CSENT",
          "IPM",
          "HOUSE",
          "UNEMP",
          "LRIR",
          "CSENT",
          "IPM",
          "HOUSE",
          "UNEMP",
          "LRIR",
          "CSENT",
          "IPM",
          "HOUSE",
          "UNEMP",
          "LRIR",
          "CSENT",
          "IPM",
          "HOUSE",
          "UNEMP",
          "LRIR",
          "CSENT",
          "IPM",
          "HOUSE",
          "UNEMP",
          "LRIR",
          "CSENT",
          "IPM",
          "HOUSE",
          "UNEMP",
          "LRIR",
          "CSENT",
          "IPM",
          "HOUSE",
          "UNEMP",
          "LRIR",
          "CSENT",
          "IPM",
          "HOUSE",
          "UNEMP",
          "LRIR",
          "CSENT",
          "IPM",
          "HOUSE",
          "UNEMP",
          "LRIR",
          "CSENT",
          "IPM",
          "HOUSE",
          "UNEMP",
          "LRIR",
          "CSENT",
          "IPM",
          "HOUSE",
          "UNEMP",
          "LRIR"
         ],
         "x0": " ",
         "xaxis": "x",
         "y": [
          -2.2177404144378743,
          -0.6374795109383538,
          -1.3737131231569633,
          -0.5295132252796124,
          -1.4373762074750314,
          -3.1174670744754067,
          -0.6149397561461312,
          -2.2206417257292355,
          -0.19766370943602762,
          -1.894041164971208,
          -3.1443952898567105,
          -0.7088622291996671,
          -1.8677462548636434,
          0.2612263932411869,
          -1.3447732945078688,
          -3.0515478852364115,
          -0.9825990364420543,
          -1.6750625965730706,
          0.3863028848870558,
          -1.2704119442510127,
          -3.5603831474123675,
          -1.4426980866197976,
          -1.39501475179594,
          0.49351109774953006,
          -1.596948282124531,
          -3.5971663944602295,
          -1.7633002036266054,
          -1.0653691712477436,
          0.4159638938805239,
          -1.4646336827887394,
          0.08938467694074603,
          -0.12884468712444086,
          -0.06059168742911769,
          0.7276020380001853,
          0.7900131040769516,
          -1.1674854271856283,
          -0.09391297392227482,
          0.15419986902833038,
          0.5134150550514027,
          -0.033767439295144364,
          -1.81409910105367,
          0.3101493394293282,
          -0.8779142987983573,
          0.6096321319026394,
          -0.7547352700574246,
          -2.3698767447854845,
          0.2822088979315307,
          -1.1521050736063483,
          0.9400336230830293,
          -0.7223212865700575,
          -2.2604829772304162,
          0.06993591663470689,
          -0.9022965779146386,
          1.2018170417421263,
          -0.4315075393320553,
          -2.5991520307598197,
          -0.31491168977260564,
          -0.6895867070542989,
          1.2819962310409485,
          -0.6146584245952607,
          0.36801387208349556,
          0.4361926455813778,
          -0.3688319014406165,
          0.7783786323331912,
          0.988626689547285,
          -0.24851606263399084,
          0.5459741208658908,
          0.39369348516506,
          1.0611386251919699,
          0.743129631973451,
          -1.1489991790820673,
          0.5759864970498523,
          0.10136784492278927,
          0.9833038504001523,
          0.08767187316446279,
          -1.6586644596813747,
          0.7859935366050648,
          -0.4427506039811959,
          1.205895531875309,
          -0.17585435653982007,
          -1.9427849621791005,
          0.6383194336608051,
          -0.5636857633068413,
          1.4532717471072045,
          -0.1546783296052423,
          -2.040050455864562,
          0.3703846517359164,
          -0.2758539150414947,
          1.672333733896175,
          -0.08044795039107822,
          0.11971031268949872,
          1.0382993689294366,
          -0.6943458168918806,
          0.7222893639159418,
          0.8582820725921998,
          0.04929595531506159,
          0.9106918009871423,
          0.15967432070393084,
          1.0556434597103141,
          0.9946729860718149,
          -0.5299013083728887,
          0.9540115629997423,
          0.3330343184907383,
          1.2462303140634052,
          0.6299669730113937,
          -1.2302954360335265,
          0.9258172324377902,
          0.20629714518480569,
          1.3115490901831324,
          0.33167105395060137,
          -1.528038020674197,
          0.9745418666686536,
          -0.11174885554313008,
          1.5055285771894305,
          0.14550977700407408,
          -1.811592196738815,
          0.7639480154197607,
          -0.09918047715489564,
          1.7527519420831057,
          0.09177111838938767,
          -0.11119860285460614,
          1.4196168892204515,
          -0.8721128525605883,
          0.7925853758078301,
          0.821937441688898,
          0.0005127506335496079,
          1.3940601909248382,
          -0.1723188141496692,
          0.9702724719140283,
          0.9672309138275947,
          -0.2250225892237605,
          1.2433820933584254,
          0.20449332118387797,
          1.197108640191498,
          0.9012673817614063,
          -0.7453880309799157,
          1.217071324241406,
          0.3937156313596537,
          1.4250015326115992,
          0.7317547938628417,
          -1.2490998108426816,
          1.0686958242494988,
          0.3464741112201306,
          1.5101260382035901,
          0.48619036662123793,
          -1.501054040853354,
          1.0562316375575937,
          0.1936586429878524,
          1.7409822301687177,
          0.3155587528005963,
          -0.3270736055469152,
          1.7632732408346428,
          -0.9143099362185336,
          0.9147157260039336,
          0.7544138198913846,
          -0.11961278983974477,
          1.716755730300755,
          -0.3599678687580372,
          1.018010291233752,
          0.9682145410949614,
          -0.16367035016706133,
          1.640364420576053,
          0.008753820991709738,
          1.1394656642741632,
          0.9479970548963159,
          -0.459289485301408,
          1.452547183920978,
          0.36043652727328546,
          1.3776333788708515,
          0.9702139693891016,
          -0.8957188138786227,
          1.2935689549997376,
          0.5291585602836513,
          1.5560590333440452,
          0.7784991856844625,
          -1.2460329558955507,
          1.1439234407188907,
          0.5896601818852432,
          1.7055793014381022,
          0.591251007032584
         ],
         "y0": " ",
         "yaxis": "y"
        },
        {
         "alignmentgroup": "True",
         "boxpoints": "all",
         "fillcolor": "rgba(255,255,255,0)",
         "hoveron": "points",
         "hovertemplate": "sc=1<br>theta=%{x}<br>diff=%{y}<extra></extra>",
         "legendgroup": "1",
         "line": {
          "color": "rgba(255,255,255,0)"
         },
         "marker": {
          "color": "#636efa",
          "opacity": 0.5,
          "size": 5
         },
         "name": "1",
         "offsetgroup": "1",
         "orientation": "v",
         "pointpos": 0,
         "showlegend": false,
         "type": "box",
         "x": [
          "CSENT",
          "IPM",
          "HOUSE",
          "UNEMP",
          "LRIR",
          "CSENT",
          "IPM",
          "HOUSE",
          "UNEMP",
          "LRIR",
          "CSENT",
          "IPM",
          "HOUSE",
          "UNEMP",
          "LRIR",
          "CSENT",
          "IPM",
          "HOUSE",
          "UNEMP",
          "LRIR",
          "CSENT",
          "IPM",
          "HOUSE",
          "UNEMP",
          "LRIR",
          "CSENT",
          "IPM",
          "HOUSE",
          "UNEMP",
          "LRIR",
          "CSENT",
          "IPM",
          "HOUSE",
          "UNEMP",
          "LRIR",
          "CSENT",
          "IPM",
          "HOUSE",
          "UNEMP",
          "LRIR",
          "CSENT",
          "IPM",
          "HOUSE",
          "UNEMP",
          "LRIR",
          "CSENT",
          "IPM",
          "HOUSE",
          "UNEMP",
          "LRIR",
          "CSENT",
          "IPM",
          "HOUSE",
          "UNEMP",
          "LRIR",
          "CSENT",
          "IPM",
          "HOUSE",
          "UNEMP",
          "LRIR",
          "CSENT",
          "IPM",
          "HOUSE",
          "UNEMP",
          "LRIR",
          "CSENT",
          "IPM",
          "HOUSE",
          "UNEMP",
          "LRIR",
          "CSENT",
          "IPM",
          "HOUSE",
          "UNEMP",
          "LRIR",
          "CSENT",
          "IPM",
          "HOUSE",
          "UNEMP",
          "LRIR",
          "CSENT",
          "IPM",
          "HOUSE",
          "UNEMP",
          "LRIR",
          "CSENT",
          "IPM",
          "HOUSE",
          "UNEMP",
          "LRIR",
          "CSENT",
          "IPM",
          "HOUSE",
          "UNEMP",
          "LRIR",
          "CSENT",
          "IPM",
          "HOUSE",
          "UNEMP",
          "LRIR",
          "CSENT",
          "IPM",
          "HOUSE",
          "UNEMP",
          "LRIR",
          "CSENT",
          "IPM",
          "HOUSE",
          "UNEMP",
          "LRIR",
          "CSENT",
          "IPM",
          "HOUSE",
          "UNEMP",
          "LRIR",
          "CSENT",
          "IPM",
          "HOUSE",
          "UNEMP",
          "LRIR",
          "CSENT",
          "IPM",
          "HOUSE",
          "UNEMP",
          "LRIR",
          "CSENT",
          "IPM",
          "HOUSE",
          "UNEMP",
          "LRIR",
          "CSENT",
          "IPM",
          "HOUSE",
          "UNEMP",
          "LRIR",
          "CSENT",
          "IPM",
          "HOUSE",
          "UNEMP",
          "LRIR",
          "CSENT",
          "IPM",
          "HOUSE",
          "UNEMP",
          "LRIR",
          "CSENT",
          "IPM",
          "HOUSE",
          "UNEMP",
          "LRIR",
          "CSENT",
          "IPM",
          "HOUSE",
          "UNEMP",
          "LRIR",
          "CSENT",
          "IPM",
          "HOUSE",
          "UNEMP",
          "LRIR",
          "CSENT",
          "IPM",
          "HOUSE",
          "UNEMP",
          "LRIR",
          "CSENT",
          "IPM",
          "HOUSE",
          "UNEMP",
          "LRIR",
          "CSENT",
          "IPM",
          "HOUSE",
          "UNEMP",
          "LRIR",
          "CSENT",
          "IPM",
          "HOUSE",
          "UNEMP",
          "LRIR"
         ],
         "x0": " ",
         "xaxis": "x2",
         "y": [
          0.11600595664975055,
          0.03742327591471484,
          0.07654988168121046,
          0.031316530295195766,
          0.0797270708471477,
          0.15533352787470167,
          0.036855340752231514,
          0.11869030886164478,
          0.012179724831421601,
          0.10373213432945416,
          0.15539553025581,
          0.04198885374690542,
          0.10191221904977721,
          -0.016494684831601658,
          0.07621054037213615,
          0.15144122989539566,
          0.05694302399028173,
          0.09240571179704293,
          -0.024514308631473414,
          0.072151154665553,
          0.1698626106992649,
          0.0811114460639153,
          0.07869799345792816,
          -0.03158742396189096,
          0.08879347801546944,
          0.17126716626405813,
          0.09692754769393463,
          0.0615459355592205,
          -0.02650225971123965,
          0.0822650831980718,
          -0.004316630832318147,
          0.006103914121009635,
          0.0028878895669742777,
          -0.0370924422730049,
          -0.04048162691861801,
          0.05505996464931018,
          0.004852407048146046,
          -0.008128034852186938,
          -0.027837063228981607,
          0.0017532643393466385,
          0.08504544474055875,
          -0.01730104302508817,
          0.044601377424874245,
          -0.03477223975461019,
          0.038733040416441544,
          0.10768688808360771,
          -0.0159565107631382,
          0.058224458719873695,
          -0.05573942378811836,
          0.03780378847659094,
          0.10374612026444552,
          -0.003891011602636274,
          0.046533994470882356,
          -0.07255144746732078,
          0.02310324041419587,
          0.11604764600162165,
          0.017064517950301616,
          0.03628843627766132,
          -0.07801928400594149,
          0.03253779824366865,
          -0.017313332858638786,
          -0.020650102124703862,
          0.016170416032953217,
          -0.03800760089048716,
          -0.04917740332328824,
          0.011085404250008812,
          -0.026235350830821402,
          -0.018657872981756807,
          -0.053361285966939676,
          -0.0363446146714731,
          0.05109705501140449,
          -0.02991724448732891,
          -0.005056792579341551,
          -0.05280808086892963,
          -0.004368361453523595,
          0.07345217474475885,
          -0.043115769255474334,
          0.021934654112283902,
          -0.06833913692498284,
          0.008915094089999243,
          0.08525048584888884,
          -0.03512876698865064,
          0.028093807779498325,
          -0.08509563488569105,
          0.007982447123762837,
          0.08815902446188151,
          -0.019865318836151058,
          0.014024591140680664,
          -0.09910673402896975,
          0.0041579823110247105,
          -0.005402053268533935,
          -0.05112883240246313,
          0.02879987828898145,
          -0.03454465090483305,
          -0.04157182214014843,
          -0.002154668484503852,
          -0.043314021254853285,
          -0.00705800860823369,
          -0.05089257742590769,
          -0.0476819353810044,
          0.022637769677748,
          -0.0470775651527241,
          -0.015510759871212976,
          -0.0631238342516629,
          -0.030175401671153956,
          0.05287222845162509,
          -0.04869246657376214,
          -0.010187804750878326,
          -0.07123660186068348,
          -0.01656479480833295,
          0.06631791270809595,
          -0.05317866842184105,
          0.005556214534508719,
          -0.08572068197614158,
          -0.007401864875343223,
          0.07683662304077765,
          -0.041188929524555884,
          0.0049651000434230985,
          -0.10224108055975345,
          -0.004672437304172217,
          0.004849246022819331,
          -0.07195111500549745,
          0.03496504755659369,
          -0.03787422662502293,
          -0.039388330133774074,
          -0.00002186794729386321,
          -0.06841480951465584,
          0.007211738244457533,
          -0.04572045081876619,
          -0.04556355957107305,
          0.009442941387393655,
          -0.06058864092538829,
          -0.008986062617173718,
          -0.058078601921845,
          -0.04249735560072054,
          0.031043729220962435,
          -0.061689869862375124,
          -0.018463151416093893,
          -0.07359406745399011,
          -0.035454762919312044,
          0.05311120652186241,
          -0.056856668570973934,
          -0.01727981407977275,
          -0.08341392146251236,
          -0.024560999564202546,
          0.06348882377903875,
          -0.05713061348792525,
          -0.00970449333714496,
          -0.09966570572019717,
          -0.01599045980935121,
          0.013690570482944087,
          -0.09138112714612345,
          0.035710911817076085,
          -0.04370394623141094,
          -0.035468303281499414,
          0.004977914461959054,
          -0.08645350382338446,
          0.01456888428680414,
          -0.04787945075018629,
          -0.0453079276534295,
          0.00674110392514371,
          -0.08164117407417337,
          -0.00036772546930385897,
          -0.05399587802639372,
          -0.04405917305156004,
          0.018789745119513923,
          -0.07263975658677602,
          -0.016151659918368533,
          -0.06840229958719668,
          -0.046292014593015574,
          0.03701024615304738,
          -0.06693214420328586,
          -0.02545404966953435,
          -0.08245859490208274,
          -0.03837221494091514,
          0.05212047009573617,
          -0.06087510689735276,
          -0.02982222971919457,
          -0.09532836663839717,
          -0.029907167525402012
         ],
         "y0": " ",
         "yaxis": "y2"
        },
        {
         "alignmentgroup": "True",
         "boxpoints": "all",
         "fillcolor": "rgba(255,255,255,0)",
         "hoveron": "points",
         "hovertemplate": "sc=6<br>theta=%{x}<br>diff=%{y}<extra></extra>",
         "legendgroup": "6",
         "line": {
          "color": "rgba(255,255,255,0)"
         },
         "marker": {
          "color": "#EF553B",
          "opacity": 0.5,
          "size": 5
         },
         "name": "6",
         "offsetgroup": "6",
         "orientation": "v",
         "pointpos": 0,
         "showlegend": true,
         "type": "box",
         "x": [
          "CSENT",
          "IPM",
          "HOUSE",
          "UNEMP",
          "LRIR",
          "CSENT",
          "IPM",
          "HOUSE",
          "UNEMP",
          "LRIR",
          "CSENT",
          "IPM",
          "HOUSE",
          "UNEMP",
          "LRIR",
          "CSENT",
          "IPM",
          "HOUSE",
          "UNEMP",
          "LRIR",
          "CSENT",
          "IPM",
          "HOUSE",
          "UNEMP",
          "LRIR",
          "CSENT",
          "IPM",
          "HOUSE",
          "UNEMP",
          "LRIR",
          "CSENT",
          "IPM",
          "HOUSE",
          "UNEMP",
          "LRIR",
          "CSENT",
          "IPM",
          "HOUSE",
          "UNEMP",
          "LRIR",
          "CSENT",
          "IPM",
          "HOUSE",
          "UNEMP",
          "LRIR",
          "CSENT",
          "IPM",
          "HOUSE",
          "UNEMP",
          "LRIR",
          "CSENT",
          "IPM",
          "HOUSE",
          "UNEMP",
          "LRIR",
          "CSENT",
          "IPM",
          "HOUSE",
          "UNEMP",
          "LRIR",
          "CSENT",
          "IPM",
          "HOUSE",
          "UNEMP",
          "LRIR",
          "CSENT",
          "IPM",
          "HOUSE",
          "UNEMP",
          "LRIR",
          "CSENT",
          "IPM",
          "HOUSE",
          "UNEMP",
          "LRIR",
          "CSENT",
          "IPM",
          "HOUSE",
          "UNEMP",
          "LRIR",
          "CSENT",
          "IPM",
          "HOUSE",
          "UNEMP",
          "LRIR",
          "CSENT",
          "IPM",
          "HOUSE",
          "UNEMP",
          "LRIR",
          "CSENT",
          "IPM",
          "HOUSE",
          "UNEMP",
          "LRIR",
          "CSENT",
          "IPM",
          "HOUSE",
          "UNEMP",
          "LRIR",
          "CSENT",
          "IPM",
          "HOUSE",
          "UNEMP",
          "LRIR",
          "CSENT",
          "IPM",
          "HOUSE",
          "UNEMP",
          "LRIR",
          "CSENT",
          "IPM",
          "HOUSE",
          "UNEMP",
          "LRIR",
          "CSENT",
          "IPM",
          "HOUSE",
          "UNEMP",
          "LRIR",
          "CSENT",
          "IPM",
          "HOUSE",
          "UNEMP",
          "LRIR",
          "CSENT",
          "IPM",
          "HOUSE",
          "UNEMP",
          "LRIR",
          "CSENT",
          "IPM",
          "HOUSE",
          "UNEMP",
          "LRIR",
          "CSENT",
          "IPM",
          "HOUSE",
          "UNEMP",
          "LRIR",
          "CSENT",
          "IPM",
          "HOUSE",
          "UNEMP",
          "LRIR",
          "CSENT",
          "IPM",
          "HOUSE",
          "UNEMP",
          "LRIR",
          "CSENT",
          "IPM",
          "HOUSE",
          "UNEMP",
          "LRIR",
          "CSENT",
          "IPM",
          "HOUSE",
          "UNEMP",
          "LRIR",
          "CSENT",
          "IPM",
          "HOUSE",
          "UNEMP",
          "LRIR",
          "CSENT",
          "IPM",
          "HOUSE",
          "UNEMP",
          "LRIR",
          "CSENT",
          "IPM",
          "HOUSE",
          "UNEMP",
          "LRIR",
          "CSENT",
          "IPM",
          "HOUSE",
          "UNEMP",
          "LRIR"
         ],
         "x0": " ",
         "xaxis": "x",
         "y": [
          -1.121386539983039,
          -0.7732590277353903,
          -1.1933344316657895,
          -0.6267771707736429,
          -1.4298500079667225,
          -1.7455873921854987,
          -0.763671637856703,
          -1.9485924147479796,
          -0.8470060513972548,
          -1.6454137002416402,
          -1.5929499139810215,
          -0.8090376292401853,
          -1.9378390213186272,
          -0.6304007215688383,
          -1.3780870563398278,
          -1.3304979801456955,
          -0.899520757244801,
          -1.9514334005430456,
          -0.5804877181202883,
          -1.0307317499858062,
          -1.4217193908616945,
          -1.2805058481363982,
          -1.7345567364804992,
          -0.40564181934005994,
          -0.8658248080820528,
          -1.3959958011250464,
          -1.5694971663699508,
          -1.1385931777352898,
          -0.27917808472544614,
          -0.6924547522296329,
          0.7033503514454633,
          -0.24123995813634647,
          -0.664100900097945,
          0.20043292327399342,
          0.16693907438251365,
          -0.43042118691820974,
          -0.5784688023946636,
          -0.8008200747151974,
          -0.18657284096939541,
          -0.8168989788837937,
          -1.3941588368813385,
          -0.6427335808275068,
          -1.4954993027172918,
          -0.6277708101376938,
          -1.4941639181711075,
          -1.6782267347781339,
          -0.6888359919639679,
          -1.9068327019051061,
          -0.6566938845371286,
          -1.4584121065707798,
          -1.4126851376271947,
          -0.7578029953390182,
          -1.9049058103616634,
          -0.5012315324710261,
          -1.133478485589288,
          -1.2988659099055138,
          -0.9966155302576052,
          -1.7927584952463285,
          -0.3924750162422832,
          -0.8701134025804826,
          0.5214140731823065,
          0.07994917033954341,
          -0.8364791798546864,
          0.16988161136243463,
          0.1009805682809306,
          0.16733545276185247,
          -0.21578187166359264,
          -0.6578837691006774,
          0.1390928348625522,
          -0.3199083916870551,
          -0.849273525955196,
          -0.4897629345230694,
          -1.0817819505722994,
          -0.2878890041424924,
          -1.0958577757513375,
          -1.482045110274937,
          -0.5739565392926487,
          -1.581766656773615,
          -0.5479719962014205,
          -1.369558187936864,
          -1.5349810822864178,
          -0.6571970479992402,
          -1.8541699339033162,
          -0.515008930202546,
          -1.2243344424247695,
          -1.286114132054914,
          -0.8102485486367286,
          -1.7514982184820962,
          -0.3492161026594651,
          -0.9468169615908657,
          0.18075842861017577,
          0.5038624832380627,
          -1.0071159335965234,
          0.14303737829088803,
          -0.05233366880560908,
          0.25288459045305967,
          0.10932341414912727,
          -0.735720628484672,
          0.22311783013298125,
          -0.16687041682899206,
          -0.3008402694451373,
          -0.16387674988121947,
          -0.8590549212815013,
          0.02758680696901905,
          -0.666206399646339,
          -1.0904703332677599,
          -0.439017647496728,
          -1.227431266345711,
          -0.30289910826129507,
          -1.0932806711539378,
          -1.4497898673933562,
          -0.5491662102566295,
          -1.602097250577457,
          -0.46382307123616684,
          -1.2030257719364421,
          -1.3626373250732673,
          -0.6747237087342057,
          -1.7150859505420222,
          -0.36039287747781223,
          -1.02125738394958,
          -0.13111598230371424,
          0.7077288869070255,
          -1.1277545071898425,
          0.20884877190660767,
          -0.14373155985190245,
          0.10106241937654303,
          0.518315420423396,
          -0.8733355927528343,
          0.25228327458752275,
          -0.1798662551236916,
          -0.08127478531486254,
          0.1681659623939451,
          -0.8239558208818023,
          0.1596108774538436,
          -0.4241039002970721,
          -0.6358055998213548,
          -0.14051129460644418,
          -0.9925094908678957,
          -0.038150308037927516,
          -0.7525114529723158,
          -1.1791668731642169,
          -0.42802716671901386,
          -1.3007908289309134,
          -0.28466185721316606,
          -1.0257755171433391,
          -1.3125839004250928,
          -0.5530524305376225,
          -1.5241033645325874,
          -0.3372254706421991,
          -1.0304273510895783,
          -0.4303659378396274,
          0.9359794198500984,
          -1.1845427897613918,
          0.27210745691395566,
          -0.3096131185620381,
          -0.09717924108462395,
          0.7489654027861787,
          -0.9767002044154385,
          0.33571850051925267,
          -0.2023905212817887,
          -0.07452661596516297,
          0.58048685145428,
          -0.8681157324685014,
          0.2532245409089606,
          -0.3468390384565385,
          -0.37576638760484027,
          0.19143991085231793,
          -0.8897544771978874,
          0.09869657369477913,
          -0.505891474106491,
          -0.8284424890955622,
          -0.1519828655555706,
          -1.0686893395751094,
          -0.07846873185001435,
          -0.762307656047879,
          -1.1051498012952354,
          -0.41035034016012517,
          -1.2497066151197904,
          -0.22631432089514192,
          -0.9173028845769879
         ],
         "y0": " ",
         "yaxis": "y"
        },
        {
         "alignmentgroup": "True",
         "boxpoints": "all",
         "fillcolor": "rgba(255,255,255,0)",
         "hoveron": "points",
         "hovertemplate": "sc=6<br>theta=%{x}<br>diff=%{y}<extra></extra>",
         "legendgroup": "6",
         "line": {
          "color": "rgba(255,255,255,0)"
         },
         "marker": {
          "color": "#EF553B",
          "opacity": 0.5,
          "size": 5
         },
         "name": "6",
         "offsetgroup": "6",
         "orientation": "v",
         "pointpos": 0,
         "showlegend": false,
         "type": "box",
         "x": [
          "CSENT",
          "IPM",
          "HOUSE",
          "UNEMP",
          "LRIR",
          "CSENT",
          "IPM",
          "HOUSE",
          "UNEMP",
          "LRIR",
          "CSENT",
          "IPM",
          "HOUSE",
          "UNEMP",
          "LRIR",
          "CSENT",
          "IPM",
          "HOUSE",
          "UNEMP",
          "LRIR",
          "CSENT",
          "IPM",
          "HOUSE",
          "UNEMP",
          "LRIR",
          "CSENT",
          "IPM",
          "HOUSE",
          "UNEMP",
          "LRIR",
          "CSENT",
          "IPM",
          "HOUSE",
          "UNEMP",
          "LRIR",
          "CSENT",
          "IPM",
          "HOUSE",
          "UNEMP",
          "LRIR",
          "CSENT",
          "IPM",
          "HOUSE",
          "UNEMP",
          "LRIR",
          "CSENT",
          "IPM",
          "HOUSE",
          "UNEMP",
          "LRIR",
          "CSENT",
          "IPM",
          "HOUSE",
          "UNEMP",
          "LRIR",
          "CSENT",
          "IPM",
          "HOUSE",
          "UNEMP",
          "LRIR",
          "CSENT",
          "IPM",
          "HOUSE",
          "UNEMP",
          "LRIR",
          "CSENT",
          "IPM",
          "HOUSE",
          "UNEMP",
          "LRIR",
          "CSENT",
          "IPM",
          "HOUSE",
          "UNEMP",
          "LRIR",
          "CSENT",
          "IPM",
          "HOUSE",
          "UNEMP",
          "LRIR",
          "CSENT",
          "IPM",
          "HOUSE",
          "UNEMP",
          "LRIR",
          "CSENT",
          "IPM",
          "HOUSE",
          "UNEMP",
          "LRIR",
          "CSENT",
          "IPM",
          "HOUSE",
          "UNEMP",
          "LRIR",
          "CSENT",
          "IPM",
          "HOUSE",
          "UNEMP",
          "LRIR",
          "CSENT",
          "IPM",
          "HOUSE",
          "UNEMP",
          "LRIR",
          "CSENT",
          "IPM",
          "HOUSE",
          "UNEMP",
          "LRIR",
          "CSENT",
          "IPM",
          "HOUSE",
          "UNEMP",
          "LRIR",
          "CSENT",
          "IPM",
          "HOUSE",
          "UNEMP",
          "LRIR",
          "CSENT",
          "IPM",
          "HOUSE",
          "UNEMP",
          "LRIR",
          "CSENT",
          "IPM",
          "HOUSE",
          "UNEMP",
          "LRIR",
          "CSENT",
          "IPM",
          "HOUSE",
          "UNEMP",
          "LRIR",
          "CSENT",
          "IPM",
          "HOUSE",
          "UNEMP",
          "LRIR",
          "CSENT",
          "IPM",
          "HOUSE",
          "UNEMP",
          "LRIR",
          "CSENT",
          "IPM",
          "HOUSE",
          "UNEMP",
          "LRIR",
          "CSENT",
          "IPM",
          "HOUSE",
          "UNEMP",
          "LRIR",
          "CSENT",
          "IPM",
          "HOUSE",
          "UNEMP",
          "LRIR",
          "CSENT",
          "IPM",
          "HOUSE",
          "UNEMP",
          "LRIR",
          "CSENT",
          "IPM",
          "HOUSE",
          "UNEMP",
          "LRIR",
          "CSENT",
          "IPM",
          "HOUSE",
          "UNEMP",
          "LRIR",
          "CSENT",
          "IPM",
          "HOUSE",
          "UNEMP",
          "LRIR"
         ],
         "x0": " ",
         "xaxis": "x2",
         "y": [
          0.08848383827660111,
          0.062104269107650545,
          0.09381338779555715,
          0.05071123682662115,
          0.11103798294320044,
          0.14284868159780273,
          0.06552273092513072,
          0.15786390815479712,
          0.07238773597286474,
          0.13531670328336698,
          0.13460197937254048,
          0.07091817001097034,
          0.16105144952169181,
          0.05571310395777129,
          0.11763955012537874,
          0.1133612295802231,
          0.07820074171625269,
          0.1613912879154904,
          0.051210355911407546,
          0.08906359271481357,
          0.11831834229337002,
          0.10729317268831706,
          0.1421719369781993,
          0.03541519997621767,
          0.073990506154759,
          0.11384353886578624,
          0.1269000428581616,
          0.09402820214781127,
          0.0240179348962567,
          0.05842431561360406,
          -0.05079787203662267,
          0.016463877152173345,
          0.044140827719404196,
          -0.01405153298875883,
          -0.011679881553250504,
          0.03234716103996238,
          0.043113672219382115,
          0.05893795893735687,
          0.01421242599533934,
          0.06006616372334417,
          0.10936281614928689,
          0.052442426892089,
          0.11667716347716361,
          0.05126093932595055,
          0.11658134047550017,
          0.13732587910014304,
          0.05921892059094791,
          0.15420750902642655,
          0.05654403406873987,
          0.12068084305824323,
          0.11835463513105116,
          0.06556310612058613,
          0.15567348543713566,
          0.043902784483416224,
          0.0962856057865733,
          0.10777426969868997,
          0.0839529000763477,
          0.14505739224420344,
          0.03405158677116915,
          0.07375631946830075,
          -0.03646421969660196,
          -0.005437684038524404,
          0.05356020164876241,
          -0.011620786201182676,
          -0.006877351159869538,
          -0.011952498504811282,
          0.015054379531446171,
          0.04463682515372158,
          -0.009918135758301805,
          0.022174457386025637,
          0.06374223172031956,
          0.037521644031165424,
          0.08010394536906618,
          0.022307382603801162,
          0.08107943654854799,
          0.11691893003688592,
          0.04753337116719125,
          0.12410390603061083,
          0.04544298014254444,
          0.1087109821645329,
          0.12526637544185082,
          0.05612500114041252,
          0.14875743389058738,
          0.04429846546640004,
          0.10155858249299943,
          0.10579956049302663,
          0.06832023847389124,
          0.1405597269161004,
          0.030141928906458837,
          0.07927672236189542,
          -0.012372420514363158,
          -0.03521762631785008,
          0.06357278835832947,
          -0.009766336744982729,
          0.003527426669747813,
          -0.017418115355750885,
          -0.007459749514505232,
          0.04742153960667661,
          -0.01533814263064781,
          0.011180359823167452,
          0.0214826852491532,
          0.011802491207215438,
          0.05920289035386517,
          -0.0020104021165323616,
          0.04648618049170272,
          0.08259452754372898,
          0.034528018673708916,
          0.09221826835436997,
          0.024006453892739588,
          0.0827936815492738,
          0.11473910594394077,
          0.04566905000060706,
          0.12570415739886098,
          0.038748488999078456,
          0.09653441300192556,
          0.11002688012225303,
          0.05655376589044159,
          0.1357860078293598,
          0.030713194392285592,
          0.0840189391824806,
          0.00887802683950667,
          -0.05066484876307786,
          0.07116731604910553,
          -0.01446954015640034,
          0.009723863456171267,
          -0.006804493852924365,
          -0.035895500236816535,
          0.05487628781251086,
          -0.017162102056517803,
          0.01187726207417017,
          0.0055807878591358495,
          -0.011740467877468297,
          0.05375848057472121,
          -0.011136906232279031,
          0.02845158953556548,
          0.04593819284867595,
          0.01047277781231748,
          0.0700800157504089,
          0.0028614578753380915,
          0.05396589360823478,
          0.09020664482596663,
          0.03422599346069388,
          0.09878176538132433,
          0.022950277464586333,
          0.07919733407181817,
          0.10366460654785281,
          0.04561581503048373,
          0.118883241543291,
          0.02815002375688236,
          0.0827213423609614,
          0.028658447312703506,
          -0.06842545756894491,
          0.07462016010221606,
          -0.019031286062362263,
          0.02079567324423326,
          0.006467999842655225,
          -0.05286599368001077,
          0.06091737927746188,
          -0.02303638730484525,
          0.01336922588319045,
          0.0049858684030616995,
          -0.04064387091099253,
          0.05479967098654903,
          -0.017335714128656643,
          0.022754349173953248,
          0.02607064764953748,
          -0.013798828701083066,
          0.05955479253504081,
          -0.007070406953572528,
          0.03478544902503988,
          0.06068502830548317,
          0.011622520464354746,
          0.07706119707296555,
          0.006028169745454504,
          0.056080548725826906,
          0.0848638028144193,
          0.03286897264564448,
          0.09510351184142285,
          0.018326168938535004,
          0.07126013117292773
         ],
         "y0": " ",
         "yaxis": "y2"
        },
        {
         "alignmentgroup": "True",
         "boxpoints": "all",
         "fillcolor": "rgba(255,255,255,0)",
         "hoveron": "points",
         "hovertemplate": "sc=12<br>theta=%{x}<br>diff=%{y}<extra></extra>",
         "legendgroup": "12",
         "line": {
          "color": "rgba(255,255,255,0)"
         },
         "marker": {
          "color": "#00cc96",
          "opacity": 0.5,
          "size": 5
         },
         "name": "12",
         "offsetgroup": "12",
         "orientation": "v",
         "pointpos": 0,
         "showlegend": true,
         "type": "box",
         "x": [
          "CSENT",
          "IPM",
          "HOUSE",
          "UNEMP",
          "LRIR",
          "CSENT",
          "IPM",
          "HOUSE",
          "UNEMP",
          "LRIR",
          "CSENT",
          "IPM",
          "HOUSE",
          "UNEMP",
          "LRIR",
          "CSENT",
          "IPM",
          "HOUSE",
          "UNEMP",
          "LRIR",
          "CSENT",
          "IPM",
          "HOUSE",
          "UNEMP",
          "LRIR",
          "CSENT",
          "IPM",
          "HOUSE",
          "UNEMP",
          "LRIR",
          "CSENT",
          "IPM",
          "HOUSE",
          "UNEMP",
          "LRIR",
          "CSENT",
          "IPM",
          "HOUSE",
          "UNEMP",
          "LRIR",
          "CSENT",
          "IPM",
          "HOUSE",
          "UNEMP",
          "LRIR",
          "CSENT",
          "IPM",
          "HOUSE",
          "UNEMP",
          "LRIR",
          "CSENT",
          "IPM",
          "HOUSE",
          "UNEMP",
          "LRIR",
          "CSENT",
          "IPM",
          "HOUSE",
          "UNEMP",
          "LRIR",
          "CSENT",
          "IPM",
          "HOUSE",
          "UNEMP",
          "LRIR",
          "CSENT",
          "IPM",
          "HOUSE",
          "UNEMP",
          "LRIR",
          "CSENT",
          "IPM",
          "HOUSE",
          "UNEMP",
          "LRIR",
          "CSENT",
          "IPM",
          "HOUSE",
          "UNEMP",
          "LRIR",
          "CSENT",
          "IPM",
          "HOUSE",
          "UNEMP",
          "LRIR",
          "CSENT",
          "IPM",
          "HOUSE",
          "UNEMP",
          "LRIR",
          "CSENT",
          "IPM",
          "HOUSE",
          "UNEMP",
          "LRIR",
          "CSENT",
          "IPM",
          "HOUSE",
          "UNEMP",
          "LRIR",
          "CSENT",
          "IPM",
          "HOUSE",
          "UNEMP",
          "LRIR",
          "CSENT",
          "IPM",
          "HOUSE",
          "UNEMP",
          "LRIR",
          "CSENT",
          "IPM",
          "HOUSE",
          "UNEMP",
          "LRIR",
          "CSENT",
          "IPM",
          "HOUSE",
          "UNEMP",
          "LRIR",
          "CSENT",
          "IPM",
          "HOUSE",
          "UNEMP",
          "LRIR",
          "CSENT",
          "IPM",
          "HOUSE",
          "UNEMP",
          "LRIR",
          "CSENT",
          "IPM",
          "HOUSE",
          "UNEMP",
          "LRIR",
          "CSENT",
          "IPM",
          "HOUSE",
          "UNEMP",
          "LRIR",
          "CSENT",
          "IPM",
          "HOUSE",
          "UNEMP",
          "LRIR",
          "CSENT",
          "IPM",
          "HOUSE",
          "UNEMP",
          "LRIR",
          "CSENT",
          "IPM",
          "HOUSE",
          "UNEMP",
          "LRIR",
          "CSENT",
          "IPM",
          "HOUSE",
          "UNEMP",
          "LRIR",
          "CSENT",
          "IPM",
          "HOUSE",
          "UNEMP",
          "LRIR",
          "CSENT",
          "IPM",
          "HOUSE",
          "UNEMP",
          "LRIR",
          "CSENT",
          "IPM",
          "HOUSE",
          "UNEMP",
          "LRIR",
          "CSENT",
          "IPM",
          "HOUSE",
          "UNEMP",
          "LRIR"
         ],
         "x0": " ",
         "xaxis": "x",
         "y": [
          -0.21127594262355842,
          -0.6683826856534569,
          -1.2986235886603712,
          -0.45853365051879535,
          -1.667942977757182,
          -0.7715764798672016,
          -0.8075347658629806,
          -1.785672057102829,
          -0.8018077921208437,
          -1.543978977979485,
          -0.7746212110120698,
          -0.8055861163463884,
          -1.7727950975857496,
          -0.8030399011681748,
          -1.2949972649970363,
          -0.7318357112377019,
          -0.9734591519321469,
          -1.8858718487554782,
          -0.8930977533830848,
          -1.046932111260407,
          -0.7788689396501844,
          -1.4260143645253454,
          -1.741431503278342,
          -0.8999761836414546,
          -0.958135066021562,
          -0.7821311913061795,
          -1.6807875363585154,
          -1.2571543558652394,
          -0.9208757525350961,
          -0.7338117308864671,
          1.1742823949454575,
          -0.17923244309677955,
          -0.8650174675131463,
          0.2839572891822453,
          -0.51344812672159,
          0.3980741699071757,
          -0.47253049655002854,
          -0.9939184447205012,
          -0.08100811624702686,
          -1.3717697087162435,
          -0.4419186982368881,
          -0.6472358470330484,
          -1.4748040777879368,
          -0.5668899319835514,
          -1.5990494561098192,
          -0.7629989341272161,
          -0.7344574949796705,
          -1.7531660062983718,
          -0.7672387900539643,
          -1.3895442156335864,
          -0.7208829763791336,
          -0.836063168281326,
          -1.8240848376403278,
          -0.7927169821397779,
          -1.1244639986555924,
          -0.6747816666070232,
          -1.1453334644102906,
          -1.7966847830516333,
          -0.8332659091233765,
          -0.9536721239941244,
          0.8499115285154346,
          -0.0029270660144664618,
          -1.0362733291460788,
          0.2333203896140752,
          -0.5367231760433366,
          0.7886596224299325,
          -0.20498287564555184,
          -0.8903987848890118,
          0.17948488617540193,
          -0.982658177097484,
          0.06575170186783375,
          -0.48198100606259864,
          -1.1673442091122137,
          -0.2699393996738344,
          -1.5053209626895896,
          -0.5492137966883224,
          -0.6146750262073297,
          -1.5273224214379528,
          -0.6155857889725773,
          -1.4624880080518636,
          -0.7386262522784648,
          -0.7520731168794725,
          -1.7635696243479924,
          -0.7459971654208299,
          -1.2106387486611556,
          -0.6303875298689174,
          -0.9683065896771232,
          -1.7509688924553117,
          -0.7652632294043151,
          -1.0006740125971305,
          0.4354798086862477,
          0.31291608675681637,
          -1.1675941538648864,
          0.15624144630795023,
          -0.6779738059676976,
          0.7056246857789397,
          -0.0009805205068431633,
          -0.9818631786456624,
          0.2325248076052553,
          -0.8439952140274212,
          0.46151534710190134,
          -0.21638975500010105,
          -1.0043002030949477,
          0.007623773987075921,
          -1.2308940034259166,
          -0.155957534418679,
          -0.46120616972731554,
          -1.2539339728219332,
          -0.37582683569226916,
          -1.4348124996569585,
          -0.5945915776362991,
          -0.625854416978683,
          -1.5703174011226793,
          -0.6218960195706646,
          -1.296133565544558,
          -0.633577950628796,
          -0.8450554984067136,
          -1.70144970279007,
          -0.7237777428300749,
          -1.0606301857034435,
          0.08623548496745492,
          0.5068741805638677,
          -1.2621213659829493,
          0.13768059053069415,
          -0.7948975141247256,
          0.461081444029098,
          0.30365767729688997,
          -1.0852441926032714,
          0.236233919668841,
          -0.8672769575669186,
          0.5180695433190117,
          0.012942098011260228,
          -1.0140890609158877,
          0.11950449178753253,
          -1.0608413074284595,
          0.20127169591065552,
          -0.21627591209887065,
          -1.080604954945029,
          -0.13229187590345504,
          -1.2615162729054141,
          -0.29447875966327075,
          -0.468295241579046,
          -1.3308950030354385,
          -0.4466865144573866,
          -1.3150116892934722,
          -0.5249779649535391,
          -0.6985832221249915,
          -1.549094225308373,
          -0.6265163267608642,
          -1.1352012006189032,
          -0.20886871436489507,
          0.6982901865772533,
          -1.3067423143751862,
          0.09844321909757525,
          -0.9398166662791017,
          0.19913474308568269,
          0.513643924329557,
          -1.1610307847461074,
          0.25174783634724207,
          -0.9142394020344469,
          0.40331028431943494,
          0.3195419711742211,
          -1.0746791723708125,
          0.18002372331785743,
          -1.03384514807711,
          0.31209308776186795,
          0.03369531541891746,
          -1.0455164097346543,
          -0.012979719868450701,
          -1.1237211617525045,
          0.003996988246401045,
          -0.23453297227213454,
          -1.1562051071969321,
          -0.2482703572748708,
          -1.2123109843831408,
          -0.28325019718317357,
          -0.5217315185478846,
          -1.3318487588390049,
          -0.49454749517113505,
          -1.1790709004158941
         ],
         "y0": " ",
         "yaxis": "y"
        },
        {
         "alignmentgroup": "True",
         "boxpoints": "all",
         "fillcolor": "rgba(255,255,255,0)",
         "hoveron": "points",
         "hovertemplate": "sc=12<br>theta=%{x}<br>diff=%{y}<extra></extra>",
         "legendgroup": "12",
         "line": {
          "color": "rgba(255,255,255,0)"
         },
         "marker": {
          "color": "#00cc96",
          "opacity": 0.5,
          "size": 5
         },
         "name": "12",
         "offsetgroup": "12",
         "orientation": "v",
         "pointpos": 0,
         "showlegend": false,
         "type": "box",
         "x": [
          "CSENT",
          "IPM",
          "HOUSE",
          "UNEMP",
          "LRIR",
          "CSENT",
          "IPM",
          "HOUSE",
          "UNEMP",
          "LRIR",
          "CSENT",
          "IPM",
          "HOUSE",
          "UNEMP",
          "LRIR",
          "CSENT",
          "IPM",
          "HOUSE",
          "UNEMP",
          "LRIR",
          "CSENT",
          "IPM",
          "HOUSE",
          "UNEMP",
          "LRIR",
          "CSENT",
          "IPM",
          "HOUSE",
          "UNEMP",
          "LRIR",
          "CSENT",
          "IPM",
          "HOUSE",
          "UNEMP",
          "LRIR",
          "CSENT",
          "IPM",
          "HOUSE",
          "UNEMP",
          "LRIR",
          "CSENT",
          "IPM",
          "HOUSE",
          "UNEMP",
          "LRIR",
          "CSENT",
          "IPM",
          "HOUSE",
          "UNEMP",
          "LRIR",
          "CSENT",
          "IPM",
          "HOUSE",
          "UNEMP",
          "LRIR",
          "CSENT",
          "IPM",
          "HOUSE",
          "UNEMP",
          "LRIR",
          "CSENT",
          "IPM",
          "HOUSE",
          "UNEMP",
          "LRIR",
          "CSENT",
          "IPM",
          "HOUSE",
          "UNEMP",
          "LRIR",
          "CSENT",
          "IPM",
          "HOUSE",
          "UNEMP",
          "LRIR",
          "CSENT",
          "IPM",
          "HOUSE",
          "UNEMP",
          "LRIR",
          "CSENT",
          "IPM",
          "HOUSE",
          "UNEMP",
          "LRIR",
          "CSENT",
          "IPM",
          "HOUSE",
          "UNEMP",
          "LRIR",
          "CSENT",
          "IPM",
          "HOUSE",
          "UNEMP",
          "LRIR",
          "CSENT",
          "IPM",
          "HOUSE",
          "UNEMP",
          "LRIR",
          "CSENT",
          "IPM",
          "HOUSE",
          "UNEMP",
          "LRIR",
          "CSENT",
          "IPM",
          "HOUSE",
          "UNEMP",
          "LRIR",
          "CSENT",
          "IPM",
          "HOUSE",
          "UNEMP",
          "LRIR",
          "CSENT",
          "IPM",
          "HOUSE",
          "UNEMP",
          "LRIR",
          "CSENT",
          "IPM",
          "HOUSE",
          "UNEMP",
          "LRIR",
          "CSENT",
          "IPM",
          "HOUSE",
          "UNEMP",
          "LRIR",
          "CSENT",
          "IPM",
          "HOUSE",
          "UNEMP",
          "LRIR",
          "CSENT",
          "IPM",
          "HOUSE",
          "UNEMP",
          "LRIR",
          "CSENT",
          "IPM",
          "HOUSE",
          "UNEMP",
          "LRIR",
          "CSENT",
          "IPM",
          "HOUSE",
          "UNEMP",
          "LRIR",
          "CSENT",
          "IPM",
          "HOUSE",
          "UNEMP",
          "LRIR",
          "CSENT",
          "IPM",
          "HOUSE",
          "UNEMP",
          "LRIR",
          "CSENT",
          "IPM",
          "HOUSE",
          "UNEMP",
          "LRIR",
          "CSENT",
          "IPM",
          "HOUSE",
          "UNEMP",
          "LRIR",
          "CSENT",
          "IPM",
          "HOUSE",
          "UNEMP",
          "LRIR",
          "CSENT",
          "IPM",
          "HOUSE",
          "UNEMP",
          "LRIR"
         ],
         "x0": " ",
         "xaxis": "x2",
         "y": [
          0.020295097665819606,
          0.06296786879850613,
          0.11902936256520513,
          0.04358764648201641,
          0.15038689387112647,
          0.07711383257982285,
          0.08059035148223448,
          0.1711527464432988,
          0.08003735542206836,
          0.1494940324980364,
          0.07954911344580062,
          0.08262851112944192,
          0.17492512187425713,
          0.08237558672539003,
          0.13027320899535688,
          0.0763060082184529,
          0.10055296355710586,
          0.1878775012536118,
          0.09254082029002508,
          0.10783284716203012,
          0.08013748965685641,
          0.14301224631210774,
          0.1724367636752192,
          0.0921600137983748,
          0.0978916343771109,
          0.07897290363340947,
          0.16365139673361107,
          0.12454071819807488,
          0.0924695244862287,
          0.07423627830163382,
          -0.10409123162101463,
          0.014866508928420341,
          0.06925235718766876,
          -0.024106553884311044,
          0.04186588422435644,
          -0.037011293180895466,
          0.04220648219134138,
          0.08660087674381434,
          0.007368835386919903,
          0.11734685332470107,
          0.04299957388950748,
          0.06242041010131694,
          0.13711725638667305,
          0.05486261548767546,
          0.1478361063952005,
          0.07725234198023134,
          0.07445031871953278,
          0.17023848729099145,
          0.07766800320083289,
          0.1370446047185564,
          0.07479026104871167,
          0.08633746084635652,
          0.18083374269757224,
          0.08200487612380813,
          0.11476408091204038,
          0.07000897113049254,
          0.1165781351527837,
          0.17798856363016524,
          0.08590026029471254,
          0.09783320234735926,
          -0.07420918604908389,
          0.0002447223305614976,
          0.08198446988372465,
          -0.0197467618554108,
          0.04362822709369163,
          -0.07071181118060488,
          0.017495487874371385,
          0.07334934664622161,
          -0.015618513441057358,
          0.0805562770141115,
          -0.006217387084619275,
          0.044432212763242496,
          0.1041489557051064,
          0.025132675722930986,
          0.1320996369755384,
          0.054411154163856446,
          0.060722468392509166,
          0.1448534742919364,
          0.06081001637859218,
          0.13911450328427843,
          0.07571772784336706,
          0.07705248967394884,
          0.17297601706712495,
          0.07644957247349848,
          0.12163535290556071,
          0.06546288012250401,
          0.09913973455810832,
          0.17334811849515086,
          0.07902291507526416,
          0.10231364537081888,
          -0.03775164751434601,
          -0.02695474401045339,
          0.09282995424996088,
          -0.013349007070238894,
          0.055390218483842624,
          -0.06194795390346819,
          0.00008298258208738751,
          0.07878850719381825,
          -0.019921696219580287,
          0.06824590025137145,
          -0.04209959207138181,
          0.019084116023911357,
          0.08503905555989011,
          -0.0006799915080720753,
          0.10298042040741795,
          0.015041202849115032,
          0.04385261312638444,
          0.11479257564538792,
          0.03587768644427336,
          0.1301934761903809,
          0.05983074116615639,
          0.06288925389395383,
          0.1511760169580536,
          0.06250247740889092,
          0.1263658604935971,
          0.06532999241034976,
          0.08633793706158754,
          0.1673270659128594,
          0.07433919268490075,
          0.10734175201175711,
          -0.007484851833855055,
          -0.04497974174520525,
          0.1016817027095791,
          -0.011982789119213355,
          0.06575660860168431,
          -0.04005383670922891,
          -0.026158052087956074,
          0.08653414437352769,
          -0.020276486434925634,
          0.07002600800787806,
          -0.046105068154006834,
          -0.0011216529396593788,
          0.08309019516890703,
          -0.010415761737592288,
          0.08669240108503506,
          -0.018778089499626227,
          0.01976197963473325,
          0.09443697432444609,
          0.012139204655780556,
          0.10919607151813737,
          0.028988131724649757,
          0.04572326808972049,
          0.12465444344149135,
          0.04365792773979893,
          0.12326304216472816,
          0.05345751916630326,
          0.07057614338724072,
          0.1504254196556718,
          0.06350361676795035,
          0.11240089438123801,
          0.01811115883140091,
          -0.06356964234787543,
          0.10646810954569985,
          -0.008680331175934919,
          0.0782167220800234,
          -0.01725474073492539,
          -0.045275524616020024,
          0.09308415218562993,
          -0.02187664187896121,
          0.0743720290506299,
          -0.03539156457838044,
          -0.027913317494443257,
          0.08674902592531786,
          -0.015606322125392147,
          0.08365371992129811,
          -0.028362133792800392,
          -0.0030174936067826064,
          0.08825888997349451,
          0.0011594809770212322,
          0.09444245940014828,
          -0.0003817284679661359,
          0.022132498033423986,
          0.10403569429209303,
          0.02341263510515934,
          0.10876028632070245,
          0.028327929494430637,
          0.05158569739394825,
          0.1265445812975886,
          0.04896195637808465,
          0.11288676820928767
         ],
         "y0": " ",
         "yaxis": "y2"
        }
       ],
       "layout": {
        "annotations": [
         {
          "font": {
           "color": "grey",
           "size": 11
          },
          "showarrow": false,
          "text": "RMSE",
          "x": 0.225,
          "xanchor": "center",
          "xref": "paper",
          "y": 0.95,
          "yanchor": "bottom",
          "yref": "paper"
         },
         {
          "font": {
           "color": "grey",
           "size": 11
          },
          "showarrow": false,
          "text": "Adj-R2",
          "x": 0.775,
          "xanchor": "center",
          "xref": "paper",
          "y": 0.95,
          "yanchor": "bottom",
          "yref": "paper"
         }
        ],
        "height": 400,
        "legend": {
         "orientation": "h",
         "title": {
          "text": "Scopes:"
         },
         "x": 0.5,
         "xanchor": "center",
         "y": -0.1,
         "yanchor": "top"
        },
        "margin": {
         "b": 60,
         "l": 80,
         "r": 40,
         "t": 80
        },
        "template": {
         "data": {
          "bar": [
           {
            "error_x": {
             "color": "#f2f5fa"
            },
            "error_y": {
             "color": "#f2f5fa"
            },
            "marker": {
             "line": {
              "color": "rgb(17,17,17)",
              "width": 0.5
             },
             "pattern": {
              "fillmode": "overlay",
              "size": 10,
              "solidity": 0.2
             }
            },
            "type": "bar"
           }
          ],
          "barpolar": [
           {
            "marker": {
             "line": {
              "color": "rgb(17,17,17)",
              "width": 0.5
             },
             "pattern": {
              "fillmode": "overlay",
              "size": 10,
              "solidity": 0.2
             }
            },
            "type": "barpolar"
           }
          ],
          "carpet": [
           {
            "aaxis": {
             "endlinecolor": "#A2B1C6",
             "gridcolor": "#506784",
             "linecolor": "#506784",
             "minorgridcolor": "#506784",
             "startlinecolor": "#A2B1C6"
            },
            "baxis": {
             "endlinecolor": "#A2B1C6",
             "gridcolor": "#506784",
             "linecolor": "#506784",
             "minorgridcolor": "#506784",
             "startlinecolor": "#A2B1C6"
            },
            "type": "carpet"
           }
          ],
          "choropleth": [
           {
            "colorbar": {
             "outlinewidth": 0,
             "ticks": ""
            },
            "type": "choropleth"
           }
          ],
          "contour": [
           {
            "colorbar": {
             "outlinewidth": 0,
             "ticks": ""
            },
            "colorscale": [
             [
              0,
              "#0d0887"
             ],
             [
              0.1111111111111111,
              "#46039f"
             ],
             [
              0.2222222222222222,
              "#7201a8"
             ],
             [
              0.3333333333333333,
              "#9c179e"
             ],
             [
              0.4444444444444444,
              "#bd3786"
             ],
             [
              0.5555555555555556,
              "#d8576b"
             ],
             [
              0.6666666666666666,
              "#ed7953"
             ],
             [
              0.7777777777777778,
              "#fb9f3a"
             ],
             [
              0.8888888888888888,
              "#fdca26"
             ],
             [
              1,
              "#f0f921"
             ]
            ],
            "type": "contour"
           }
          ],
          "contourcarpet": [
           {
            "colorbar": {
             "outlinewidth": 0,
             "ticks": ""
            },
            "type": "contourcarpet"
           }
          ],
          "heatmap": [
           {
            "colorbar": {
             "outlinewidth": 0,
             "ticks": ""
            },
            "colorscale": [
             [
              0,
              "#0d0887"
             ],
             [
              0.1111111111111111,
              "#46039f"
             ],
             [
              0.2222222222222222,
              "#7201a8"
             ],
             [
              0.3333333333333333,
              "#9c179e"
             ],
             [
              0.4444444444444444,
              "#bd3786"
             ],
             [
              0.5555555555555556,
              "#d8576b"
             ],
             [
              0.6666666666666666,
              "#ed7953"
             ],
             [
              0.7777777777777778,
              "#fb9f3a"
             ],
             [
              0.8888888888888888,
              "#fdca26"
             ],
             [
              1,
              "#f0f921"
             ]
            ],
            "type": "heatmap"
           }
          ],
          "heatmapgl": [
           {
            "colorbar": {
             "outlinewidth": 0,
             "ticks": ""
            },
            "colorscale": [
             [
              0,
              "#0d0887"
             ],
             [
              0.1111111111111111,
              "#46039f"
             ],
             [
              0.2222222222222222,
              "#7201a8"
             ],
             [
              0.3333333333333333,
              "#9c179e"
             ],
             [
              0.4444444444444444,
              "#bd3786"
             ],
             [
              0.5555555555555556,
              "#d8576b"
             ],
             [
              0.6666666666666666,
              "#ed7953"
             ],
             [
              0.7777777777777778,
              "#fb9f3a"
             ],
             [
              0.8888888888888888,
              "#fdca26"
             ],
             [
              1,
              "#f0f921"
             ]
            ],
            "type": "heatmapgl"
           }
          ],
          "histogram": [
           {
            "marker": {
             "pattern": {
              "fillmode": "overlay",
              "size": 10,
              "solidity": 0.2
             }
            },
            "type": "histogram"
           }
          ],
          "histogram2d": [
           {
            "colorbar": {
             "outlinewidth": 0,
             "ticks": ""
            },
            "colorscale": [
             [
              0,
              "#0d0887"
             ],
             [
              0.1111111111111111,
              "#46039f"
             ],
             [
              0.2222222222222222,
              "#7201a8"
             ],
             [
              0.3333333333333333,
              "#9c179e"
             ],
             [
              0.4444444444444444,
              "#bd3786"
             ],
             [
              0.5555555555555556,
              "#d8576b"
             ],
             [
              0.6666666666666666,
              "#ed7953"
             ],
             [
              0.7777777777777778,
              "#fb9f3a"
             ],
             [
              0.8888888888888888,
              "#fdca26"
             ],
             [
              1,
              "#f0f921"
             ]
            ],
            "type": "histogram2d"
           }
          ],
          "histogram2dcontour": [
           {
            "colorbar": {
             "outlinewidth": 0,
             "ticks": ""
            },
            "colorscale": [
             [
              0,
              "#0d0887"
             ],
             [
              0.1111111111111111,
              "#46039f"
             ],
             [
              0.2222222222222222,
              "#7201a8"
             ],
             [
              0.3333333333333333,
              "#9c179e"
             ],
             [
              0.4444444444444444,
              "#bd3786"
             ],
             [
              0.5555555555555556,
              "#d8576b"
             ],
             [
              0.6666666666666666,
              "#ed7953"
             ],
             [
              0.7777777777777778,
              "#fb9f3a"
             ],
             [
              0.8888888888888888,
              "#fdca26"
             ],
             [
              1,
              "#f0f921"
             ]
            ],
            "type": "histogram2dcontour"
           }
          ],
          "mesh3d": [
           {
            "colorbar": {
             "outlinewidth": 0,
             "ticks": ""
            },
            "type": "mesh3d"
           }
          ],
          "parcoords": [
           {
            "line": {
             "colorbar": {
              "outlinewidth": 0,
              "ticks": ""
             }
            },
            "type": "parcoords"
           }
          ],
          "pie": [
           {
            "automargin": true,
            "type": "pie"
           }
          ],
          "scatter": [
           {
            "marker": {
             "line": {
              "color": "#283442"
             }
            },
            "type": "scatter"
           }
          ],
          "scatter3d": [
           {
            "line": {
             "colorbar": {
              "outlinewidth": 0,
              "ticks": ""
             }
            },
            "marker": {
             "colorbar": {
              "outlinewidth": 0,
              "ticks": ""
             }
            },
            "type": "scatter3d"
           }
          ],
          "scattercarpet": [
           {
            "marker": {
             "colorbar": {
              "outlinewidth": 0,
              "ticks": ""
             }
            },
            "type": "scattercarpet"
           }
          ],
          "scattergeo": [
           {
            "marker": {
             "colorbar": {
              "outlinewidth": 0,
              "ticks": ""
             }
            },
            "type": "scattergeo"
           }
          ],
          "scattergl": [
           {
            "marker": {
             "line": {
              "color": "#283442"
             }
            },
            "type": "scattergl"
           }
          ],
          "scattermapbox": [
           {
            "marker": {
             "colorbar": {
              "outlinewidth": 0,
              "ticks": ""
             }
            },
            "type": "scattermapbox"
           }
          ],
          "scatterpolar": [
           {
            "marker": {
             "colorbar": {
              "outlinewidth": 0,
              "ticks": ""
             }
            },
            "type": "scatterpolar"
           }
          ],
          "scatterpolargl": [
           {
            "marker": {
             "colorbar": {
              "outlinewidth": 0,
              "ticks": ""
             }
            },
            "type": "scatterpolargl"
           }
          ],
          "scatterternary": [
           {
            "marker": {
             "colorbar": {
              "outlinewidth": 0,
              "ticks": ""
             }
            },
            "type": "scatterternary"
           }
          ],
          "surface": [
           {
            "colorbar": {
             "outlinewidth": 0,
             "ticks": ""
            },
            "colorscale": [
             [
              0,
              "#0d0887"
             ],
             [
              0.1111111111111111,
              "#46039f"
             ],
             [
              0.2222222222222222,
              "#7201a8"
             ],
             [
              0.3333333333333333,
              "#9c179e"
             ],
             [
              0.4444444444444444,
              "#bd3786"
             ],
             [
              0.5555555555555556,
              "#d8576b"
             ],
             [
              0.6666666666666666,
              "#ed7953"
             ],
             [
              0.7777777777777778,
              "#fb9f3a"
             ],
             [
              0.8888888888888888,
              "#fdca26"
             ],
             [
              1,
              "#f0f921"
             ]
            ],
            "type": "surface"
           }
          ],
          "table": [
           {
            "cells": {
             "fill": {
              "color": "#506784"
             },
             "line": {
              "color": "rgb(17,17,17)"
             }
            },
            "header": {
             "fill": {
              "color": "#2a3f5f"
             },
             "line": {
              "color": "rgb(17,17,17)"
             }
            },
            "type": "table"
           }
          ]
         },
         "layout": {
          "annotationdefaults": {
           "arrowcolor": "#f2f5fa",
           "arrowhead": 0,
           "arrowwidth": 1
          },
          "autotypenumbers": "strict",
          "coloraxis": {
           "colorbar": {
            "outlinewidth": 0,
            "ticks": ""
           }
          },
          "colorscale": {
           "diverging": [
            [
             0,
             "#8e0152"
            ],
            [
             0.1,
             "#c51b7d"
            ],
            [
             0.2,
             "#de77ae"
            ],
            [
             0.3,
             "#f1b6da"
            ],
            [
             0.4,
             "#fde0ef"
            ],
            [
             0.5,
             "#f7f7f7"
            ],
            [
             0.6,
             "#e6f5d0"
            ],
            [
             0.7,
             "#b8e186"
            ],
            [
             0.8,
             "#7fbc41"
            ],
            [
             0.9,
             "#4d9221"
            ],
            [
             1,
             "#276419"
            ]
           ],
           "sequential": [
            [
             0,
             "#0d0887"
            ],
            [
             0.1111111111111111,
             "#46039f"
            ],
            [
             0.2222222222222222,
             "#7201a8"
            ],
            [
             0.3333333333333333,
             "#9c179e"
            ],
            [
             0.4444444444444444,
             "#bd3786"
            ],
            [
             0.5555555555555556,
             "#d8576b"
            ],
            [
             0.6666666666666666,
             "#ed7953"
            ],
            [
             0.7777777777777778,
             "#fb9f3a"
            ],
            [
             0.8888888888888888,
             "#fdca26"
            ],
            [
             1,
             "#f0f921"
            ]
           ],
           "sequentialminus": [
            [
             0,
             "#0d0887"
            ],
            [
             0.1111111111111111,
             "#46039f"
            ],
            [
             0.2222222222222222,
             "#7201a8"
            ],
            [
             0.3333333333333333,
             "#9c179e"
            ],
            [
             0.4444444444444444,
             "#bd3786"
            ],
            [
             0.5555555555555556,
             "#d8576b"
            ],
            [
             0.6666666666666666,
             "#ed7953"
            ],
            [
             0.7777777777777778,
             "#fb9f3a"
            ],
            [
             0.8888888888888888,
             "#fdca26"
            ],
            [
             1,
             "#f0f921"
            ]
           ]
          },
          "colorway": [
           "#636efa",
           "#EF553B",
           "#00cc96",
           "#ab63fa",
           "#FFA15A",
           "#19d3f3",
           "#FF6692",
           "#B6E880",
           "#FF97FF",
           "#FECB52"
          ],
          "font": {
           "color": "#f2f5fa"
          },
          "geo": {
           "bgcolor": "rgb(17,17,17)",
           "lakecolor": "rgb(17,17,17)",
           "landcolor": "rgb(17,17,17)",
           "showlakes": true,
           "showland": true,
           "subunitcolor": "#506784"
          },
          "hoverlabel": {
           "align": "left"
          },
          "hovermode": "closest",
          "mapbox": {
           "style": "dark"
          },
          "paper_bgcolor": "rgb(17,17,17)",
          "plot_bgcolor": "rgb(17,17,17)",
          "polar": {
           "angularaxis": {
            "gridcolor": "#506784",
            "linecolor": "#506784",
            "ticks": ""
           },
           "bgcolor": "rgb(17,17,17)",
           "radialaxis": {
            "gridcolor": "#506784",
            "linecolor": "#506784",
            "ticks": ""
           }
          },
          "scene": {
           "xaxis": {
            "backgroundcolor": "rgb(17,17,17)",
            "gridcolor": "#506784",
            "gridwidth": 2,
            "linecolor": "#506784",
            "showbackground": true,
            "ticks": "",
            "zerolinecolor": "#C8D4E3"
           },
           "yaxis": {
            "backgroundcolor": "rgb(17,17,17)",
            "gridcolor": "#506784",
            "gridwidth": 2,
            "linecolor": "#506784",
            "showbackground": true,
            "ticks": "",
            "zerolinecolor": "#C8D4E3"
           },
           "zaxis": {
            "backgroundcolor": "rgb(17,17,17)",
            "gridcolor": "#506784",
            "gridwidth": 2,
            "linecolor": "#506784",
            "showbackground": true,
            "ticks": "",
            "zerolinecolor": "#C8D4E3"
           }
          },
          "shapedefaults": {
           "line": {
            "color": "#f2f5fa"
           }
          },
          "sliderdefaults": {
           "bgcolor": "#C8D4E3",
           "bordercolor": "rgb(17,17,17)",
           "borderwidth": 1,
           "tickwidth": 0
          },
          "ternary": {
           "aaxis": {
            "gridcolor": "#506784",
            "linecolor": "#506784",
            "ticks": ""
           },
           "baxis": {
            "gridcolor": "#506784",
            "linecolor": "#506784",
            "ticks": ""
           },
           "bgcolor": "rgb(17,17,17)",
           "caxis": {
            "gridcolor": "#506784",
            "linecolor": "#506784",
            "ticks": ""
           }
          },
          "title": {
           "x": 0.05
          },
          "updatemenudefaults": {
           "bgcolor": "#506784",
           "borderwidth": 0
          },
          "xaxis": {
           "automargin": true,
           "gridcolor": "#283442",
           "linecolor": "#506784",
           "ticks": "",
           "title": {
            "standoff": 15
           },
           "zerolinecolor": "#283442",
           "zerolinewidth": 2
          },
          "yaxis": {
           "automargin": true,
           "gridcolor": "#283442",
           "linecolor": "#506784",
           "ticks": "",
           "title": {
            "standoff": 15
           },
           "zerolinecolor": "#283442",
           "zerolinewidth": 2
          }
         }
        },
        "title": {
         "text": "Observe Backward Elimination in All Models With Repect to Scopes<br><span style=\"font-size: 12.5px; color: lightgrey;\"> -- How meansures are changed by removing the impact of each coefficient</span>"
        },
        "width": 800,
        "xaxis": {
         "anchor": "y",
         "domain": [
          0,
          0.45
         ]
        },
        "xaxis2": {
         "anchor": "y2",
         "domain": [
          0.55,
          1
         ]
        },
        "yaxis": {
         "anchor": "x",
         "domain": [
          0,
          1
         ],
         "title": {
          "text": "Difference"
         }
        },
        "yaxis2": {
         "anchor": "x2",
         "domain": [
          0,
          1
         ]
        }
       }
      }
     },
     "metadata": {},
     "output_type": "display_data"
    }
   ],
   "source": [
    "f2.show()"
   ]
  },
  {
   "cell_type": "code",
   "execution_count": null,
   "metadata": {},
   "outputs": [],
   "source": []
  },
  {
   "cell_type": "code",
   "execution_count": null,
   "metadata": {},
   "outputs": [],
   "source": []
  },
  {
   "cell_type": "markdown",
   "metadata": {},
   "source": [
    "### Memo"
   ]
  },
  {
   "cell_type": "code",
   "execution_count": 4,
   "metadata": {},
   "outputs": [],
   "source": [
    "import dash\n",
    "from dash import Dash, html, dcc, Input, Output, State, ctx\n",
    "import pandas as pd\n",
    "import numpy as np\n",
    "from plotly.subplots import make_subplots\n",
    "import plotly.graph_objects as go"
   ]
  },
  {
   "cell_type": "code",
   "execution_count": 20,
   "metadata": {},
   "outputs": [
    {
     "data": {
      "text/html": [
       "\n",
       "        <iframe\n",
       "            width=\"100%\"\n",
       "            height=\"650\"\n",
       "            src=\"http://127.0.0.1:8050/\"\n",
       "            frameborder=\"0\"\n",
       "            allowfullscreen\n",
       "            \n",
       "        ></iframe>\n",
       "        "
      ],
      "text/plain": [
       "<IPython.lib.display.IFrame at 0x22a9e8a2b10>"
      ]
     },
     "metadata": {},
     "output_type": "display_data"
    }
   ],
   "source": [
    "# Assuming 'sample' is your DataFrame with the data you want to plot\n",
    "# And it has columns 'X', 'Y1', 'Y2', ... for your data\n",
    "\n",
    "# Sample data for three dataframes with similar structure\n",
    "s1 = pd.DataFrame({\n",
    "    'X': pd.date_range(start='1/1/2020', periods=100),\n",
    "    'Y1': np.random.randn(100).cumsum(),\n",
    "    'Y2': np.random.randn(100).cumsum(),\n",
    "    'Y3': np.random.randn(100).cumsum()\n",
    "})\n",
    "s2 = pd.DataFrame({\n",
    "    'X': pd.date_range(start='1/1/2020', periods=100),\n",
    "    'Y1': np.random.randn(100).cumsum()*0.5,\n",
    "    'Y2': np.random.randn(100).cumsum()*0.5,\n",
    "    'Y3': np.random.randn(100).cumsum()*0.5\n",
    "})  # Just for example, modify as needed\n",
    "\n",
    "s3 = pd.DataFrame({\n",
    "    'X': pd.date_range(start='1/1/2020', periods=100),\n",
    "    'Y1': np.random.randn(100).cumsum()*2,\n",
    "    'Y2': np.random.randn(100).cumsum()*2,\n",
    "    'Y3': np.random.randn(100).cumsum()*2\n",
    "})   # Just for example, modify as needed\n",
    "\n",
    "\n",
    "# Define the number of graphs you want to create\n",
    "fig = make_subplots(rows=1, cols=3, shared_yaxes=True)\n",
    "\n",
    "# Define colors for traces to ensure consistency across subplots\n",
    "colors = {'Y1': 'blue', 'Y2': 'red', 'Y3': 'green'}\n",
    "\n",
    "for i, s in enumerate([s1, s2, s3], start=1):\n",
    "    for col in ['Y1', 'Y2', 'Y3']:\n",
    "        fig.add_trace(\n",
    "            go.Scatter(\n",
    "                x=s['X'],\n",
    "                y=s[col],\n",
    "                name=col,\n",
    "                mode='lines+markers',\n",
    "                marker=dict(color=colors[col]),\n",
    "                showlegend=False, # Only the first subplot shows the legend,\n",
    "                visible=True\n",
    "            ),\n",
    "            row=1, col=i\n",
    "        )\n",
    "\n",
    "# Update layout to Plotly's dark theme\n",
    "fig.update_layout(\n",
    "    plot_bgcolor='black',\n",
    "    paper_bgcolor='black',\n",
    "    font={'color': 'white'},\n",
    "    legend=dict(orientation=\"h\", yanchor=\"bottom\", y=1.02, xanchor=\"right\", x=1),\n",
    "    uirevision='constant' # keeps the user-selected legend state consistent across updates\n",
    ")\n",
    "\n",
    "\n",
    "app = dash.Dash(__name__)\n",
    "# Set up the Dash app layout\n",
    "app.layout = html.Div([\n",
    "    html.Div(id='custom-legend', children=[\n",
    "        html.Button('Y1', id='legend-y1', n_clicks=0),\n",
    "        html.Button('Y2', id='legend-y2', n_clicks=0),\n",
    "        html.Button('Y3', id='legend-y3', n_clicks=0)\n",
    "    ], style={'display': 'flex', 'justifyContent': 'center'}),\n",
    "    html.Div(style={'width': '600px', 'overflowX': 'scroll'}, children=[\n",
    "        dcc.Graph(id='subplots-graph', figure=fig, style={'width': '1500px'})\n",
    "    ])\n",
    "])\n",
    "\n",
    "\n",
    "@app.callback(\n",
    "    output=Output('subplots-graph', 'figure'),\n",
    "    inputs=dict(\n",
    "        data=dict(\n",
    "            y1=Input('legend-y1', 'n_clicks'),\n",
    "            y2=Input('legend-y2', 'n_clicks'),\n",
    "            y3=Input('legend-y3', 'n_clicks'),\n",
    "        ),\n",
    "    ),\n",
    "    state=dict(fig=State('subplots-graph', 'figure'))\n",
    ")\n",
    "def update_graph_visibility(data, fig):\n",
    "    # Determine which input was triggered\n",
    "    triggered_id = ctx.triggered_id\n",
    "\n",
    "    if triggered_id in {'legend-y1', 'legend-y2', 'legend-y3'}:\n",
    "        # Get series name (e.g., 'Y1', 'Y2', 'Y3')\n",
    "        series_name = triggered_id.split('-')[-1]\n",
    "        # Toggle visibility\n",
    "        visibility = False if data[series_name] % 2 == 1 else True\n",
    "    \n",
    "        # Update traces\n",
    "        for trace in fig['data']:\n",
    "            if trace['name'].lower() == series_name:\n",
    "                trace['visible'] = visibility\n",
    "\n",
    "    return fig\n",
    "\n",
    "\n",
    "if __name__ == '__main__':\n",
    "    app.run_server(debug=True)\n"
   ]
  },
  {
   "cell_type": "code",
   "execution_count": null,
   "metadata": {},
   "outputs": [],
   "source": []
  }
 ],
 "metadata": {
  "kernelspec": {
   "display_name": "Python 3",
   "language": "python",
   "name": "python3"
  },
  "language_info": {
   "codemirror_mode": {
    "name": "ipython",
    "version": 3
   },
   "file_extension": ".py",
   "mimetype": "text/x-python",
   "name": "python",
   "nbconvert_exporter": "python",
   "pygments_lexer": "ipython3",
   "version": "3.11.6"
  }
 },
 "nbformat": 4,
 "nbformat_minor": 2
}
