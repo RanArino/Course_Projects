{
 "cells": [
  {
   "cell_type": "code",
   "execution_count": 1,
   "metadata": {},
   "outputs": [],
   "source": [
    "import re\n",
    "\n",
    "import numpy as np\n",
    "import pandas as pd\n",
    "import matplotlib.pyplot as plt\n",
    "\n",
    "from Functions import PredictiveAnalysis\n",
    "\n",
    "import dash\n",
    "from dash import html, dcc, ALL, MATCH, Output, Input, State, no_update, ctx, Patch\n",
    "import dash_mantine_components as dmc\n",
    "import dash_bootstrap_components as dbc\n"
   ]
  },
  {
   "cell_type": "code",
   "execution_count": 2,
   "metadata": {},
   "outputs": [
    {
     "data": {
      "text/html": [
       "<div>\n",
       "<style scoped>\n",
       "    .dataframe tbody tr th:only-of-type {\n",
       "        vertical-align: middle;\n",
       "    }\n",
       "\n",
       "    .dataframe tbody tr th {\n",
       "        vertical-align: top;\n",
       "    }\n",
       "\n",
       "    .dataframe thead th {\n",
       "        text-align: right;\n",
       "    }\n",
       "</style>\n",
       "<table border=\"1\" class=\"dataframe\">\n",
       "  <thead>\n",
       "    <tr style=\"text-align: right;\">\n",
       "      <th></th>\n",
       "      <th>Date</th>\n",
       "      <th>Year</th>\n",
       "      <th>Month</th>\n",
       "      <th>CSENT</th>\n",
       "      <th>IPM</th>\n",
       "      <th>HOUSE</th>\n",
       "      <th>UNEMP</th>\n",
       "      <th>LRIR</th>\n",
       "      <th>SP500</th>\n",
       "      <th>SP500_Price</th>\n",
       "      <th>SP500_Rise</th>\n",
       "    </tr>\n",
       "  </thead>\n",
       "  <tbody>\n",
       "    <tr>\n",
       "      <th>0</th>\n",
       "      <td>1979-01-31</td>\n",
       "      <td>1979</td>\n",
       "      <td>1</td>\n",
       "      <td>-13.859020</td>\n",
       "      <td>7.862464</td>\n",
       "      <td>-5.157233</td>\n",
       "      <td>5.9</td>\n",
       "      <td>-0.300399</td>\n",
       "      <td>11.966387</td>\n",
       "      <td>99.930000</td>\n",
       "      <td>1.0</td>\n",
       "    </tr>\n",
       "    <tr>\n",
       "      <th>1</th>\n",
       "      <td>1979-02-28</td>\n",
       "      <td>1979</td>\n",
       "      <td>2</td>\n",
       "      <td>-12.336892</td>\n",
       "      <td>7.786828</td>\n",
       "      <td>-8.596713</td>\n",
       "      <td>5.9</td>\n",
       "      <td>-0.671270</td>\n",
       "      <td>10.615806</td>\n",
       "      <td>96.279999</td>\n",
       "      <td>1.0</td>\n",
       "    </tr>\n",
       "    <tr>\n",
       "      <th>2</th>\n",
       "      <td>1979-03-31</td>\n",
       "      <td>1979</td>\n",
       "      <td>3</td>\n",
       "      <td>-13.197970</td>\n",
       "      <td>6.418676</td>\n",
       "      <td>-2.579853</td>\n",
       "      <td>5.8</td>\n",
       "      <td>-1.142366</td>\n",
       "      <td>13.877365</td>\n",
       "      <td>101.589996</td>\n",
       "      <td>1.0</td>\n",
       "    </tr>\n",
       "    <tr>\n",
       "      <th>3</th>\n",
       "      <td>1979-04-30</td>\n",
       "      <td>1979</td>\n",
       "      <td>4</td>\n",
       "      <td>-19.117647</td>\n",
       "      <td>2.997984</td>\n",
       "      <td>-13.425926</td>\n",
       "      <td>5.8</td>\n",
       "      <td>-1.135133</td>\n",
       "      <td>5.091398</td>\n",
       "      <td>101.760002</td>\n",
       "      <td>1.0</td>\n",
       "    </tr>\n",
       "    <tr>\n",
       "      <th>4</th>\n",
       "      <td>1979-05-31</td>\n",
       "      <td>1979</td>\n",
       "      <td>5</td>\n",
       "      <td>-17.852835</td>\n",
       "      <td>3.917937</td>\n",
       "      <td>-15.169195</td>\n",
       "      <td>5.6</td>\n",
       "      <td>-1.637674</td>\n",
       "      <td>1.892230</td>\n",
       "      <td>99.080002</td>\n",
       "      <td>1.0</td>\n",
       "    </tr>\n",
       "  </tbody>\n",
       "</table>\n",
       "</div>"
      ],
      "text/plain": [
       "         Date  Year  Month      CSENT       IPM      HOUSE  UNEMP      LRIR  \\\n",
       "0  1979-01-31  1979      1 -13.859020  7.862464  -5.157233    5.9 -0.300399   \n",
       "1  1979-02-28  1979      2 -12.336892  7.786828  -8.596713    5.9 -0.671270   \n",
       "2  1979-03-31  1979      3 -13.197970  6.418676  -2.579853    5.8 -1.142366   \n",
       "3  1979-04-30  1979      4 -19.117647  2.997984 -13.425926    5.8 -1.135133   \n",
       "4  1979-05-31  1979      5 -17.852835  3.917937 -15.169195    5.6 -1.637674   \n",
       "\n",
       "       SP500  SP500_Price  SP500_Rise  \n",
       "0  11.966387    99.930000         1.0  \n",
       "1  10.615806    96.279999         1.0  \n",
       "2  13.877365   101.589996         1.0  \n",
       "3   5.091398   101.760002         1.0  \n",
       "4   1.892230    99.080002         1.0  "
      ]
     },
     "execution_count": 2,
     "metadata": {},
     "output_type": "execute_result"
    }
   ],
   "source": [
    "# load the clean data frame\n",
    "df = pd.read_csv('final.csv')\n",
    "df.head()"
   ]
  },
  {
   "cell_type": "markdown",
   "metadata": {},
   "source": [
    "# Dataset Creation\n",
    "- Six types of moving averages ; from one to six months.\n",
    "- Six types of dataset shifts; from one to six months."
   ]
  },
  {
   "cell_type": "code",
   "execution_count": 3,
   "metadata": {},
   "outputs": [
    {
     "data": {
      "text/plain": [
       "'\\nclass PredictiveAnalysis_Test(PredictiveAnalysis):\\n    def __init__(self, df):\\n        super().__init__(df)\\n'"
      ]
     },
     "execution_count": 3,
     "metadata": {},
     "output_type": "execute_result"
    }
   ],
   "source": [
    "\"\"\"\n",
    "class PredictiveAnalysis_Test(PredictiveAnalysis):\n",
    "    def __init__(self, df):\n",
    "        super().__init__(df)\n",
    "\"\"\""
   ]
  },
  {
   "cell_type": "code",
   "execution_count": 4,
   "metadata": {},
   "outputs": [],
   "source": [
    "PA = PredictiveAnalysis(df)\n",
    "PA.create_data(['CSENT', 'IPM', 'HOUSE', 'UNEMP', 'LRIR'], 'SP500', ma=[1,2,3,4,5,6], fp=[1,2,3,4,5,6], poly_d=1)"
   ]
  },
  {
   "cell_type": "code",
   "execution_count": 6,
   "metadata": {},
   "outputs": [
    {
     "name": "stdout",
     "output_type": "stream",
     "text": [
      "[[ 1.         -1.07697478  1.02863002 -0.24524403 -1.02032316 -1.34994328]\n",
      " [ 1.         -0.97845534  1.01416757 -0.38013943 -1.02032316 -1.45430278]\n",
      " [ 1.         -1.0341884   0.75256061 -0.14415995 -1.09159136 -1.58686461]\n",
      " [ 1.         -1.41733832  0.09848356 -0.56953973 -1.09159136 -1.58482934]\n",
      " [ 1.         -1.3354736   0.2743895  -0.63791022 -1.23412778 -1.72623957]]\n",
      "[[10.61580626]\n",
      " [13.87736507]\n",
      " [ 5.09139751]\n",
      " [ 1.89222954]\n",
      " [ 7.7253271 ]]\n",
      "[[1]\n",
      " [1]\n",
      " [1]\n",
      " [1]\n",
      " [1]]\n"
     ]
    }
   ],
   "source": [
    "# check the format of each X and y matrix\n",
    "print(PA.datasets['1MA_1FP']['X'][:5])\n",
    "print(PA.datasets['1MA_1FP']['y'][:5])\n",
    "print(PA.datasets['1MA_1FP']['y_cat'][:5])"
   ]
  },
  {
   "cell_type": "markdown",
   "metadata": {},
   "source": [
    "# Model Creation & Evaluation\n",
    "\n",
    "- Four machine learning models\n",
    "    1. Multiple Linear Regression\n",
    "    3. Logistic Regression\n",
    "    4. Classification and Regression Tree\n",
    "\n",
    "<br>\n",
    "\n",
    "- Evaluations\n",
    "    - Regressions:\n",
    "        - <b>Root Mean Square Error (RMSE)</b>: How much errors could occur between the predicted prices and the actual ones.\n",
    "        - <b>Standard Error of Estimate (SE)</b>: How much variation could occur in the actual target based on the same condition of independent variables. \n",
    "        - <b>Coffeficient of Determination (R2)</b>: How well the regression model explains the variation of a target value.\n",
    "        - <b>Adjusted R2</b>: R2 with the penalty for the number of independent variables.\n",
    "        <br><br>\n",
    "        \n",
    "    - Classification\n",
    "        - <b>Accuracy</b>: How the model can correctly predict the target values.\n",
    "        - <b>Precision</b>: How the model can avoid false positives.\n",
    "        - <b>Recall</b>: How the model can avoid false negatives.\n",
    "        - <b>F1 Score</b>: How the model can balance precision and recall.\n",
    "        - <b>AUC (Area Under the ROC Curve)</b>: How the model can summarize the ROC curve."
   ]
  },
  {
   "cell_type": "markdown",
   "metadata": {},
   "source": [
    "### Multiple linear Regression\n",
    "- Applying different scopes for parameter adjustments; [1,2,3,4,5,6]\n",
    "- Feature selection by backward elimination for whole models."
   ]
  },
  {
   "cell_type": "code",
   "execution_count": 6,
   "metadata": {},
   "outputs": [
    {
     "data": {
      "application/vnd.plotly.v1+json": {
       "config": {
        "plotlyServerURL": "https://plot.ly"
       },
       "data": [
        {
         "error_y": {
          "array": [
           0.04177960511099066,
           0.26666916450286315,
           0.3457946621511496,
           0.38815276286956824,
           0.4145848730926227,
           0.39233005410907307
          ],
          "arrayminus": [
           0.12040469464317649,
           0.6860741637343439,
           0.4761271571037744,
           0.404877506806403,
           0.29893647579554194,
           0.21005784456917365
          ]
         },
         "hovertemplate": "SC=1<br>MA=%{x}<br>RMSE_mean=%{y}<extra></extra>",
         "legendgroup": "1",
         "marker": {
          "color": "#636efa",
          "symbol": "circle"
         },
         "mode": "markers",
         "name": "1",
         "orientation": "v",
         "showlegend": true,
         "type": "scatter",
         "x": [
          1,
          2,
          3,
          4,
          5,
          6
         ],
         "xaxis": "x",
         "y": [
          7.690272936396407,
          6.378161551744127,
          5.703326991079184,
          5.26631517131526,
          4.921881871751112,
          4.6203547796193565
         ],
         "yaxis": "y"
        },
        {
         "error_y": {
          "array": [
           0.14260268959822398,
           0.5334179487695572,
           0.6704585028796428,
           0.724242358694358,
           0.7716887204080853,
           0.687774259326563
          ],
          "arrayminus": [
           0.2776492928170917,
           1.2533144499784177,
           1.0262392588275153,
           0.7442048846058889,
           0.5752011354576201,
           0.37721386096774445
          ]
         },
         "hovertemplate": "SC=3<br>MA=%{x}<br>RMSE_mean=%{y}<extra></extra>",
         "legendgroup": "3",
         "marker": {
          "color": "#EF553B",
          "symbol": "circle"
         },
         "mode": "markers",
         "name": "3",
         "orientation": "v",
         "showlegend": true,
         "type": "scatter",
         "x": [
          1,
          2,
          3,
          4,
          5,
          6
         ],
         "xaxis": "x",
         "y": [
          9.303124839494982,
          8.2019306922256,
          7.4734890252401724,
          6.870349895661314,
          6.388195012318527,
          5.966314399790305
         ],
         "yaxis": "y"
        },
        {
         "error_y": {
          "array": [
           0.31949239167845356,
           0.8325117640325317,
           1.00160349600986,
           1.119263816975609,
           1.1523678336395946,
           1.0275206849321457
          ],
          "arrayminus": [
           0.6546591745527923,
           1.6674508930252614,
           1.4261947768922845,
           1.0563791144202526,
           0.818823608259776,
           0.5441429921630832
          ]
         },
         "hovertemplate": "SC=6<br>MA=%{x}<br>RMSE_mean=%{y}<extra></extra>",
         "legendgroup": "6",
         "marker": {
          "color": "#00cc96",
          "symbol": "circle"
         },
         "mode": "markers",
         "name": "6",
         "orientation": "v",
         "showlegend": true,
         "type": "scatter",
         "x": [
          1,
          2,
          3,
          4,
          5,
          6
         ],
         "xaxis": "x",
         "y": [
          10.96162706309268,
          9.895239634125653,
          9.209297963228286,
          8.602354946911676,
          8.067020249076494,
          7.583555025966873
         ],
         "yaxis": "y"
        },
        {
         "error_y": {
          "array": [
           0.04243275525111745,
           0.2689274627942728,
           0.3485049260834341,
           0.39127820966496785,
           0.4179021247359911,
           0.3954776070766908
          ],
          "arrayminus": [
           0.12162733160211481,
           0.6913975192633854,
           0.4798924394690056,
           0.40801949031102414,
           0.3012914700300229,
           0.21166825408878776
          ]
         },
         "hovertemplate": "SC=1<br>MA=%{x}<br>SE_mean=%{y}<extra></extra>",
         "legendgroup": "1",
         "marker": {
          "color": "#636efa",
          "symbol": "circle"
         },
         "mode": "markers",
         "name": "1",
         "orientation": "v",
         "showlegend": false,
         "type": "scatter",
         "x": [
          1,
          2,
          3,
          4,
          5,
          6
         ],
         "xaxis": "x2",
         "y": [
          7.746683678800831,
          6.425185738668266,
          5.745481037642196,
          5.305335410303836,
          4.958439147784331,
          4.65475595240677
         ],
         "yaxis": "y2"
        },
        {
         "error_y": {
          "array": [
           0.14356147404176056,
           0.5375694882101758,
           0.6756151744941095,
           0.7299371677168089,
           0.7777343443019422,
           0.6931923016131654
          ],
          "arrayminus": [
           0.2800906957235991,
           1.2628839980006417,
           1.034134660433117,
           0.7499044997354929,
           0.5796480578515757,
           0.38008465300372407
          ]
         },
         "hovertemplate": "SC=3<br>MA=%{x}<br>SE_mean=%{y}<extra></extra>",
         "legendgroup": "3",
         "marker": {
          "color": "#EF553B",
          "symbol": "circle"
         },
         "mode": "markers",
         "name": "3",
         "orientation": "v",
         "showlegend": false,
         "type": "scatter",
         "x": [
          1,
          2,
          3,
          4,
          5,
          6
         ],
         "xaxis": "x2",
         "y": [
          9.371366449255598,
          8.262406534300437,
          7.528733286439454,
          6.921261526455137,
          6.435648640966178,
          6.010740414829965
         ],
         "yaxis": "y2"
        },
        {
         "error_y": {
          "array": [
           0.3217291223172509,
           0.8389138757418415,
           1.0092546708699608,
           1.1279737657936213,
           1.161327781234295,
           1.0355525037601092
          ],
          "arrayminus": [
           0.6599261890115002,
           1.6801390583505285,
           1.4371150198635547,
           1.0645754922258632,
           0.8251268287382247,
           0.548405551797603
          ]
         },
         "hovertemplate": "SC=6<br>MA=%{x}<br>SE_mean=%{y}<extra></extra>",
         "legendgroup": "6",
         "marker": {
          "color": "#00cc96",
          "symbol": "circle"
         },
         "mode": "markers",
         "name": "6",
         "orientation": "v",
         "showlegend": false,
         "type": "scatter",
         "x": [
          1,
          2,
          3,
          4,
          5,
          6
         ],
         "xaxis": "x2",
         "y": [
          11.042037001112263,
          9.968205445885138,
          9.277377626622942,
          8.66610527101472,
          8.126948343484614,
          7.640026548372087
         ],
         "yaxis": "y2"
        },
        {
         "error_y": {
          "array": [
           0.006200141126988856,
           0.034105725577653345,
           0.022269052405689327,
           0.0184133615502885,
           0.013302729076123954,
           0.009215762919170811
          ],
          "arrayminus": [
           0.002889852707576579,
           0.013318502749849248,
           0.016567519163607325,
           0.018196535976034545,
           0.01903195513445055,
           0.01761625106129372
          ]
         },
         "hovertemplate": "SC=1<br>MA=%{x}<br>R2_mean=%{y}<extra></extra>",
         "legendgroup": "1",
         "marker": {
          "color": "#636efa",
          "symbol": "circle"
         },
         "mode": "markers",
         "name": "1",
         "orientation": "v",
         "showlegend": false,
         "type": "scatter",
         "x": [
          1,
          2,
          3,
          4,
          5,
          6
         ],
         "xaxis": "x3",
         "y": [
          0.7646327027894116,
          0.8311727797035037,
          0.8603958972195117,
          0.8771678353314657,
          0.8893274090344683,
          0.8993803352753177
         ],
         "yaxis": "y3"
        },
        {
         "error_y": {
          "array": [
           0.01872920374279119,
           0.07931872823560482,
           0.06226394494349963,
           0.044151140920240306,
           0.03312673713361314,
           0.021331571679797823
          ],
          "arrayminus": [
           0.010675580514369454,
           0.0349797887768436,
           0.042301731008072774,
           0.0444431330650118,
           0.046406048181679926,
           0.04021916612402965
          ]
         },
         "hovertemplate": "SC=3<br>MA=%{x}<br>R2_mean=%{y}<extra></extra>",
         "legendgroup": "3",
         "marker": {
          "color": "#EF553B",
          "symbol": "circle"
         },
         "mode": "markers",
         "name": "3",
         "orientation": "v",
         "showlegend": false,
         "type": "scatter",
         "x": [
          1,
          2,
          3,
          4,
          5,
          6
         ],
         "xaxis": "x3",
         "y": [
          0.655497169890716,
          0.7199151503559021,
          0.7592359205713887,
          0.7900338597542146,
          0.8129207587194364,
          0.8318728690198963
         ],
         "yaxis": "y3"
        },
        {
         "error_y": {
          "array": [
           0.05371958095151863,
           0.1270846302681068,
           0.10641906846855897,
           0.07796026012072799,
           0.05965201626680905,
           0.039095023192290634
          ],
          "arrayminus": [
           0.02804593415999046,
           0.06660554664707441,
           0.0784334094189133,
           0.08682059778629714,
           0.0881160253182024,
           0.07682304377423976
          ]
         },
         "hovertemplate": "SC=6<br>MA=%{x}<br>R2_mean=%{y}<extra></extra>",
         "legendgroup": "6",
         "marker": {
          "color": "#00cc96",
          "symbol": "circle"
         },
         "mode": "markers",
         "name": "6",
         "orientation": "v",
         "showlegend": false,
         "type": "scatter",
         "x": [
          1,
          2,
          3,
          4,
          5,
          6
         ],
         "xaxis": "x3",
         "y": [
          0.5214285037374906,
          0.5914272702339248,
          0.6334481205409722,
          0.6699500762760572,
          0.7009905276013443,
          0.7279049948143951
         ],
         "yaxis": "y3"
        },
        {
         "error_y": {
          "array": [
           0.006293492747958651,
           0.03453725843575617,
           0.022554048250994385,
           0.01864706944358796,
           0.01347306465334408,
           0.009332368032872629
          ],
          "arrayminus": [
           0.0029144587653072707,
           0.013495843676328279,
           0.016778673958470436,
           0.0184321696581371,
           0.019277853835343972,
           0.01784443457729934
          ]
         },
         "hovertemplate": "SC=1<br>MA=%{x}<br>Adj-R2_mean=%{y}<extra></extra>",
         "legendgroup": "1",
         "marker": {
          "color": "#636efa",
          "symbol": "circle"
         },
         "mode": "markers",
         "name": "1",
         "orientation": "v",
         "showlegend": false,
         "type": "scatter",
         "x": [
          1,
          2,
          3,
          4,
          5,
          6
         ],
         "xaxis": "x4",
         "y": [
          0.7617446297527883,
          0.8290902481356112,
          0.8586694388388897,
          0.875645006412015,
          0.8879520009091117,
          0.8981268657112985
         ],
         "yaxis": "y4"
        },
        {
         "error_y": {
          "array": [
           0.018983579339761802,
           0.08031388273146178,
           0.06304924581883287,
           0.04470777472555454,
           0.033546878524032486,
           0.021600530758226766
          ],
          "arrayminus": [
           0.010801032416148604,
           0.035423579978020925,
           0.04283553654747385,
           0.04501158595534516,
           0.04699912013544283,
           0.04073524748485302
          ]
         },
         "hovertemplate": "SC=3<br>MA=%{x}<br>Adj-R2_mean=%{y}<extra></extra>",
         "legendgroup": "3",
         "marker": {
          "color": "#EF553B",
          "symbol": "circle"
         },
         "mode": "markers",
         "name": "3",
         "orientation": "v",
         "showlegend": false,
         "type": "scatter",
         "x": [
          1,
          2,
          3,
          4,
          5,
          6
         ],
         "xaxis": "x4",
         "y": [
          0.6512699451917151,
          0.7164596267251371,
          0.7562577433510295,
          0.7874301271917948,
          0.8105952645549214,
          0.8297780945272847
         ],
         "yaxis": "y4"
        },
        {
         "error_y": {
          "array": [
           0.054411149367827316,
           0.12867636477299593,
           0.1077580179806692,
           0.0789490678032766,
           0.060406966419068175,
           0.03959476817846652
          ],
          "arrayminus": [
           0.0283817917667073,
           0.06744512234224898,
           0.07941963441933997,
           0.08792512439819322,
           0.08923779913329699,
           0.07780488678148056
          ]
         },
         "hovertemplate": "SC=6<br>MA=%{x}<br>Adj-R2_mean=%{y}<extra></extra>",
         "legendgroup": "6",
         "marker": {
          "color": "#00cc96",
          "symbol": "circle"
         },
         "mode": "markers",
         "name": "6",
         "orientation": "v",
         "showlegend": false,
         "type": "scatter",
         "x": [
          1,
          2,
          3,
          4,
          5,
          6
         ],
         "xaxis": "x4",
         "y": [
          0.5155558144027553,
          0.5863859266665605,
          0.6289134362501093,
          0.6658567160860799,
          0.6972732326949781,
          0.7245144311930666
         ],
         "yaxis": "y4"
        }
       ],
       "layout": {
        "annotations": [
         {
          "font": {
           "color": "grey",
           "size": 11
          },
          "showarrow": false,
          "text": "RMSE",
          "x": 0.2375,
          "xanchor": "center",
          "xref": "paper",
          "y": 1,
          "yanchor": "bottom",
          "yref": "paper"
         },
         {
          "font": {
           "color": "grey",
           "size": 11
          },
          "showarrow": false,
          "text": "SE",
          "x": 0.7625,
          "xanchor": "center",
          "xref": "paper",
          "y": 1,
          "yanchor": "bottom",
          "yref": "paper"
         },
         {
          "font": {
           "color": "grey",
           "size": 11
          },
          "showarrow": false,
          "text": "R2",
          "x": 0.2375,
          "xanchor": "center",
          "xref": "paper",
          "y": 0.475,
          "yanchor": "bottom",
          "yref": "paper"
         },
         {
          "font": {
           "color": "grey",
           "size": 11
          },
          "showarrow": false,
          "text": "Adj-R2",
          "x": 0.7625,
          "xanchor": "center",
          "xref": "paper",
          "y": 0.475,
          "yanchor": "bottom",
          "yref": "paper"
         }
        ],
        "height": 500,
        "legend": {
         "title": {
          "font": {
           "color": "lightgrey"
          },
          "text": "Scopes"
         }
        },
        "margin": {
         "l": 40,
         "r": 40,
         "t": 100
        },
        "template": {
         "data": {
          "bar": [
           {
            "error_x": {
             "color": "#f2f5fa"
            },
            "error_y": {
             "color": "#f2f5fa"
            },
            "marker": {
             "line": {
              "color": "rgb(17,17,17)",
              "width": 0.5
             },
             "pattern": {
              "fillmode": "overlay",
              "size": 10,
              "solidity": 0.2
             }
            },
            "type": "bar"
           }
          ],
          "barpolar": [
           {
            "marker": {
             "line": {
              "color": "rgb(17,17,17)",
              "width": 0.5
             },
             "pattern": {
              "fillmode": "overlay",
              "size": 10,
              "solidity": 0.2
             }
            },
            "type": "barpolar"
           }
          ],
          "carpet": [
           {
            "aaxis": {
             "endlinecolor": "#A2B1C6",
             "gridcolor": "#506784",
             "linecolor": "#506784",
             "minorgridcolor": "#506784",
             "startlinecolor": "#A2B1C6"
            },
            "baxis": {
             "endlinecolor": "#A2B1C6",
             "gridcolor": "#506784",
             "linecolor": "#506784",
             "minorgridcolor": "#506784",
             "startlinecolor": "#A2B1C6"
            },
            "type": "carpet"
           }
          ],
          "choropleth": [
           {
            "colorbar": {
             "outlinewidth": 0,
             "ticks": ""
            },
            "type": "choropleth"
           }
          ],
          "contour": [
           {
            "colorbar": {
             "outlinewidth": 0,
             "ticks": ""
            },
            "colorscale": [
             [
              0,
              "#0d0887"
             ],
             [
              0.1111111111111111,
              "#46039f"
             ],
             [
              0.2222222222222222,
              "#7201a8"
             ],
             [
              0.3333333333333333,
              "#9c179e"
             ],
             [
              0.4444444444444444,
              "#bd3786"
             ],
             [
              0.5555555555555556,
              "#d8576b"
             ],
             [
              0.6666666666666666,
              "#ed7953"
             ],
             [
              0.7777777777777778,
              "#fb9f3a"
             ],
             [
              0.8888888888888888,
              "#fdca26"
             ],
             [
              1,
              "#f0f921"
             ]
            ],
            "type": "contour"
           }
          ],
          "contourcarpet": [
           {
            "colorbar": {
             "outlinewidth": 0,
             "ticks": ""
            },
            "type": "contourcarpet"
           }
          ],
          "heatmap": [
           {
            "colorbar": {
             "outlinewidth": 0,
             "ticks": ""
            },
            "colorscale": [
             [
              0,
              "#0d0887"
             ],
             [
              0.1111111111111111,
              "#46039f"
             ],
             [
              0.2222222222222222,
              "#7201a8"
             ],
             [
              0.3333333333333333,
              "#9c179e"
             ],
             [
              0.4444444444444444,
              "#bd3786"
             ],
             [
              0.5555555555555556,
              "#d8576b"
             ],
             [
              0.6666666666666666,
              "#ed7953"
             ],
             [
              0.7777777777777778,
              "#fb9f3a"
             ],
             [
              0.8888888888888888,
              "#fdca26"
             ],
             [
              1,
              "#f0f921"
             ]
            ],
            "type": "heatmap"
           }
          ],
          "heatmapgl": [
           {
            "colorbar": {
             "outlinewidth": 0,
             "ticks": ""
            },
            "colorscale": [
             [
              0,
              "#0d0887"
             ],
             [
              0.1111111111111111,
              "#46039f"
             ],
             [
              0.2222222222222222,
              "#7201a8"
             ],
             [
              0.3333333333333333,
              "#9c179e"
             ],
             [
              0.4444444444444444,
              "#bd3786"
             ],
             [
              0.5555555555555556,
              "#d8576b"
             ],
             [
              0.6666666666666666,
              "#ed7953"
             ],
             [
              0.7777777777777778,
              "#fb9f3a"
             ],
             [
              0.8888888888888888,
              "#fdca26"
             ],
             [
              1,
              "#f0f921"
             ]
            ],
            "type": "heatmapgl"
           }
          ],
          "histogram": [
           {
            "marker": {
             "pattern": {
              "fillmode": "overlay",
              "size": 10,
              "solidity": 0.2
             }
            },
            "type": "histogram"
           }
          ],
          "histogram2d": [
           {
            "colorbar": {
             "outlinewidth": 0,
             "ticks": ""
            },
            "colorscale": [
             [
              0,
              "#0d0887"
             ],
             [
              0.1111111111111111,
              "#46039f"
             ],
             [
              0.2222222222222222,
              "#7201a8"
             ],
             [
              0.3333333333333333,
              "#9c179e"
             ],
             [
              0.4444444444444444,
              "#bd3786"
             ],
             [
              0.5555555555555556,
              "#d8576b"
             ],
             [
              0.6666666666666666,
              "#ed7953"
             ],
             [
              0.7777777777777778,
              "#fb9f3a"
             ],
             [
              0.8888888888888888,
              "#fdca26"
             ],
             [
              1,
              "#f0f921"
             ]
            ],
            "type": "histogram2d"
           }
          ],
          "histogram2dcontour": [
           {
            "colorbar": {
             "outlinewidth": 0,
             "ticks": ""
            },
            "colorscale": [
             [
              0,
              "#0d0887"
             ],
             [
              0.1111111111111111,
              "#46039f"
             ],
             [
              0.2222222222222222,
              "#7201a8"
             ],
             [
              0.3333333333333333,
              "#9c179e"
             ],
             [
              0.4444444444444444,
              "#bd3786"
             ],
             [
              0.5555555555555556,
              "#d8576b"
             ],
             [
              0.6666666666666666,
              "#ed7953"
             ],
             [
              0.7777777777777778,
              "#fb9f3a"
             ],
             [
              0.8888888888888888,
              "#fdca26"
             ],
             [
              1,
              "#f0f921"
             ]
            ],
            "type": "histogram2dcontour"
           }
          ],
          "mesh3d": [
           {
            "colorbar": {
             "outlinewidth": 0,
             "ticks": ""
            },
            "type": "mesh3d"
           }
          ],
          "parcoords": [
           {
            "line": {
             "colorbar": {
              "outlinewidth": 0,
              "ticks": ""
             }
            },
            "type": "parcoords"
           }
          ],
          "pie": [
           {
            "automargin": true,
            "type": "pie"
           }
          ],
          "scatter": [
           {
            "marker": {
             "line": {
              "color": "#283442"
             }
            },
            "type": "scatter"
           }
          ],
          "scatter3d": [
           {
            "line": {
             "colorbar": {
              "outlinewidth": 0,
              "ticks": ""
             }
            },
            "marker": {
             "colorbar": {
              "outlinewidth": 0,
              "ticks": ""
             }
            },
            "type": "scatter3d"
           }
          ],
          "scattercarpet": [
           {
            "marker": {
             "colorbar": {
              "outlinewidth": 0,
              "ticks": ""
             }
            },
            "type": "scattercarpet"
           }
          ],
          "scattergeo": [
           {
            "marker": {
             "colorbar": {
              "outlinewidth": 0,
              "ticks": ""
             }
            },
            "type": "scattergeo"
           }
          ],
          "scattergl": [
           {
            "marker": {
             "line": {
              "color": "#283442"
             }
            },
            "type": "scattergl"
           }
          ],
          "scattermapbox": [
           {
            "marker": {
             "colorbar": {
              "outlinewidth": 0,
              "ticks": ""
             }
            },
            "type": "scattermapbox"
           }
          ],
          "scatterpolar": [
           {
            "marker": {
             "colorbar": {
              "outlinewidth": 0,
              "ticks": ""
             }
            },
            "type": "scatterpolar"
           }
          ],
          "scatterpolargl": [
           {
            "marker": {
             "colorbar": {
              "outlinewidth": 0,
              "ticks": ""
             }
            },
            "type": "scatterpolargl"
           }
          ],
          "scatterternary": [
           {
            "marker": {
             "colorbar": {
              "outlinewidth": 0,
              "ticks": ""
             }
            },
            "type": "scatterternary"
           }
          ],
          "surface": [
           {
            "colorbar": {
             "outlinewidth": 0,
             "ticks": ""
            },
            "colorscale": [
             [
              0,
              "#0d0887"
             ],
             [
              0.1111111111111111,
              "#46039f"
             ],
             [
              0.2222222222222222,
              "#7201a8"
             ],
             [
              0.3333333333333333,
              "#9c179e"
             ],
             [
              0.4444444444444444,
              "#bd3786"
             ],
             [
              0.5555555555555556,
              "#d8576b"
             ],
             [
              0.6666666666666666,
              "#ed7953"
             ],
             [
              0.7777777777777778,
              "#fb9f3a"
             ],
             [
              0.8888888888888888,
              "#fdca26"
             ],
             [
              1,
              "#f0f921"
             ]
            ],
            "type": "surface"
           }
          ],
          "table": [
           {
            "cells": {
             "fill": {
              "color": "#506784"
             },
             "line": {
              "color": "rgb(17,17,17)"
             }
            },
            "header": {
             "fill": {
              "color": "#2a3f5f"
             },
             "line": {
              "color": "rgb(17,17,17)"
             }
            },
            "type": "table"
           }
          ]
         },
         "layout": {
          "annotationdefaults": {
           "arrowcolor": "#f2f5fa",
           "arrowhead": 0,
           "arrowwidth": 1
          },
          "autotypenumbers": "strict",
          "coloraxis": {
           "colorbar": {
            "outlinewidth": 0,
            "ticks": ""
           }
          },
          "colorscale": {
           "diverging": [
            [
             0,
             "#8e0152"
            ],
            [
             0.1,
             "#c51b7d"
            ],
            [
             0.2,
             "#de77ae"
            ],
            [
             0.3,
             "#f1b6da"
            ],
            [
             0.4,
             "#fde0ef"
            ],
            [
             0.5,
             "#f7f7f7"
            ],
            [
             0.6,
             "#e6f5d0"
            ],
            [
             0.7,
             "#b8e186"
            ],
            [
             0.8,
             "#7fbc41"
            ],
            [
             0.9,
             "#4d9221"
            ],
            [
             1,
             "#276419"
            ]
           ],
           "sequential": [
            [
             0,
             "#0d0887"
            ],
            [
             0.1111111111111111,
             "#46039f"
            ],
            [
             0.2222222222222222,
             "#7201a8"
            ],
            [
             0.3333333333333333,
             "#9c179e"
            ],
            [
             0.4444444444444444,
             "#bd3786"
            ],
            [
             0.5555555555555556,
             "#d8576b"
            ],
            [
             0.6666666666666666,
             "#ed7953"
            ],
            [
             0.7777777777777778,
             "#fb9f3a"
            ],
            [
             0.8888888888888888,
             "#fdca26"
            ],
            [
             1,
             "#f0f921"
            ]
           ],
           "sequentialminus": [
            [
             0,
             "#0d0887"
            ],
            [
             0.1111111111111111,
             "#46039f"
            ],
            [
             0.2222222222222222,
             "#7201a8"
            ],
            [
             0.3333333333333333,
             "#9c179e"
            ],
            [
             0.4444444444444444,
             "#bd3786"
            ],
            [
             0.5555555555555556,
             "#d8576b"
            ],
            [
             0.6666666666666666,
             "#ed7953"
            ],
            [
             0.7777777777777778,
             "#fb9f3a"
            ],
            [
             0.8888888888888888,
             "#fdca26"
            ],
            [
             1,
             "#f0f921"
            ]
           ]
          },
          "colorway": [
           "#636efa",
           "#EF553B",
           "#00cc96",
           "#ab63fa",
           "#FFA15A",
           "#19d3f3",
           "#FF6692",
           "#B6E880",
           "#FF97FF",
           "#FECB52"
          ],
          "font": {
           "color": "#f2f5fa"
          },
          "geo": {
           "bgcolor": "rgb(17,17,17)",
           "lakecolor": "rgb(17,17,17)",
           "landcolor": "rgb(17,17,17)",
           "showlakes": true,
           "showland": true,
           "subunitcolor": "#506784"
          },
          "hoverlabel": {
           "align": "left"
          },
          "hovermode": "closest",
          "mapbox": {
           "style": "dark"
          },
          "paper_bgcolor": "rgb(17,17,17)",
          "plot_bgcolor": "rgb(17,17,17)",
          "polar": {
           "angularaxis": {
            "gridcolor": "#506784",
            "linecolor": "#506784",
            "ticks": ""
           },
           "bgcolor": "rgb(17,17,17)",
           "radialaxis": {
            "gridcolor": "#506784",
            "linecolor": "#506784",
            "ticks": ""
           }
          },
          "scene": {
           "xaxis": {
            "backgroundcolor": "rgb(17,17,17)",
            "gridcolor": "#506784",
            "gridwidth": 2,
            "linecolor": "#506784",
            "showbackground": true,
            "ticks": "",
            "zerolinecolor": "#C8D4E3"
           },
           "yaxis": {
            "backgroundcolor": "rgb(17,17,17)",
            "gridcolor": "#506784",
            "gridwidth": 2,
            "linecolor": "#506784",
            "showbackground": true,
            "ticks": "",
            "zerolinecolor": "#C8D4E3"
           },
           "zaxis": {
            "backgroundcolor": "rgb(17,17,17)",
            "gridcolor": "#506784",
            "gridwidth": 2,
            "linecolor": "#506784",
            "showbackground": true,
            "ticks": "",
            "zerolinecolor": "#C8D4E3"
           }
          },
          "shapedefaults": {
           "line": {
            "color": "#f2f5fa"
           }
          },
          "sliderdefaults": {
           "bgcolor": "#C8D4E3",
           "bordercolor": "rgb(17,17,17)",
           "borderwidth": 1,
           "tickwidth": 0
          },
          "ternary": {
           "aaxis": {
            "gridcolor": "#506784",
            "linecolor": "#506784",
            "ticks": ""
           },
           "baxis": {
            "gridcolor": "#506784",
            "linecolor": "#506784",
            "ticks": ""
           },
           "bgcolor": "rgb(17,17,17)",
           "caxis": {
            "gridcolor": "#506784",
            "linecolor": "#506784",
            "ticks": ""
           }
          },
          "title": {
           "x": 0.05
          },
          "updatemenudefaults": {
           "bgcolor": "#506784",
           "borderwidth": 0
          },
          "xaxis": {
           "automargin": true,
           "gridcolor": "#283442",
           "linecolor": "#506784",
           "ticks": "",
           "title": {
            "standoff": 15
           },
           "zerolinecolor": "#283442",
           "zerolinewidth": 2
          },
          "yaxis": {
           "automargin": true,
           "gridcolor": "#283442",
           "linecolor": "#506784",
           "ticks": "",
           "title": {
            "standoff": 15
           },
           "zerolinecolor": "#283442",
           "zerolinewidth": 2
          }
         }
        },
        "title": {
         "text": "Comparing the ['LinR'] Model Results on Different Conditions<br><span style=\"font-size: 12.5px; color: lightgrey;\"> -- Scopes: how many month of the latest data is used for parameter adjustments.</span><br><span style=\"font-size: 12.5px; color: lightgrey;\"> -- Error Bars: Showing mean, min and max of each measures among various future predictions.</span>",
         "y": 0.95,
         "yanchor": "top"
        },
        "width": 800,
        "xaxis": {
         "anchor": "y",
         "domain": [
          0,
          0.475
         ],
         "matches": "x3",
         "showticklabels": false
        },
        "xaxis2": {
         "anchor": "y2",
         "domain": [
          0.525,
          1
         ],
         "matches": "x4",
         "showticklabels": false
        },
        "xaxis3": {
         "anchor": "y3",
         "domain": [
          0,
          0.475
         ],
         "title": {
          "text": "Moving Averages"
         }
        },
        "xaxis4": {
         "anchor": "y4",
         "domain": [
          0.525,
          1
         ],
         "title": {
          "text": "Moving Averages"
         }
        },
        "yaxis": {
         "anchor": "x",
         "domain": [
          0.525,
          1
         ]
        },
        "yaxis2": {
         "anchor": "x2",
         "domain": [
          0.525,
          1
         ],
         "matches": "y",
         "showticklabels": false
        },
        "yaxis3": {
         "anchor": "x3",
         "domain": [
          0,
          0.475
         ]
        },
        "yaxis4": {
         "anchor": "x4",
         "domain": [
          0,
          0.475
         ],
         "matches": "y3",
         "showticklabels": false
        }
       }
      }
     },
     "metadata": {},
     "output_type": "display_data"
    },
    {
     "data": {
      "application/vnd.plotly.v1+json": {
       "config": {
        "plotlyServerURL": "https://plot.ly"
       },
       "data": [
        {
         "alignmentgroup": "True",
         "boxpoints": "all",
         "fillcolor": "rgba(255,255,255,0)",
         "hoveron": "points",
         "hovertemplate": "sc=1<br>theta=%{x}<br>diff=%{y}<extra></extra>",
         "legendgroup": "1",
         "line": {
          "color": "rgba(255,255,255,0)"
         },
         "marker": {
          "color": "#636efa",
          "opacity": 0.5,
          "size": 5
         },
         "name": "1",
         "offsetgroup": "1",
         "orientation": "v",
         "pointpos": 0,
         "showlegend": true,
         "type": "box",
         "x": [
          "CSENT",
          "IPM",
          "HOUSE",
          "UNEMP",
          "LRIR",
          "CSENT",
          "IPM",
          "HOUSE",
          "UNEMP",
          "LRIR",
          "CSENT",
          "IPM",
          "HOUSE",
          "UNEMP",
          "LRIR",
          "CSENT",
          "IPM",
          "HOUSE",
          "UNEMP",
          "LRIR",
          "CSENT",
          "IPM",
          "HOUSE",
          "UNEMP",
          "LRIR",
          "CSENT",
          "IPM",
          "HOUSE",
          "UNEMP",
          "LRIR",
          "CSENT",
          "IPM",
          "HOUSE",
          "UNEMP",
          "LRIR",
          "CSENT",
          "IPM",
          "HOUSE",
          "UNEMP",
          "LRIR",
          "CSENT",
          "IPM",
          "HOUSE",
          "UNEMP",
          "LRIR",
          "CSENT",
          "IPM",
          "HOUSE",
          "UNEMP",
          "LRIR",
          "CSENT",
          "IPM",
          "HOUSE",
          "UNEMP",
          "LRIR",
          "CSENT",
          "IPM",
          "HOUSE",
          "UNEMP",
          "LRIR",
          "CSENT",
          "IPM",
          "HOUSE",
          "UNEMP",
          "LRIR",
          "CSENT",
          "IPM",
          "HOUSE",
          "UNEMP",
          "LRIR",
          "CSENT",
          "IPM",
          "HOUSE",
          "UNEMP",
          "LRIR",
          "CSENT",
          "IPM",
          "HOUSE",
          "UNEMP",
          "LRIR",
          "CSENT",
          "IPM",
          "HOUSE",
          "UNEMP",
          "LRIR",
          "CSENT",
          "IPM",
          "HOUSE",
          "UNEMP",
          "LRIR",
          "CSENT",
          "IPM",
          "HOUSE",
          "UNEMP",
          "LRIR",
          "CSENT",
          "IPM",
          "HOUSE",
          "UNEMP",
          "LRIR",
          "CSENT",
          "IPM",
          "HOUSE",
          "UNEMP",
          "LRIR",
          "CSENT",
          "IPM",
          "HOUSE",
          "UNEMP",
          "LRIR",
          "CSENT",
          "IPM",
          "HOUSE",
          "UNEMP",
          "LRIR",
          "CSENT",
          "IPM",
          "HOUSE",
          "UNEMP",
          "LRIR",
          "CSENT",
          "IPM",
          "HOUSE",
          "UNEMP",
          "LRIR",
          "CSENT",
          "IPM",
          "HOUSE",
          "UNEMP",
          "LRIR",
          "CSENT",
          "IPM",
          "HOUSE",
          "UNEMP",
          "LRIR",
          "CSENT",
          "IPM",
          "HOUSE",
          "UNEMP",
          "LRIR",
          "CSENT",
          "IPM",
          "HOUSE",
          "UNEMP",
          "LRIR",
          "CSENT",
          "IPM",
          "HOUSE",
          "UNEMP",
          "LRIR",
          "CSENT",
          "IPM",
          "HOUSE",
          "UNEMP",
          "LRIR",
          "CSENT",
          "IPM",
          "HOUSE",
          "UNEMP",
          "LRIR",
          "CSENT",
          "IPM",
          "HOUSE",
          "UNEMP",
          "LRIR",
          "CSENT",
          "IPM",
          "HOUSE",
          "UNEMP",
          "LRIR",
          "CSENT",
          "IPM",
          "HOUSE",
          "UNEMP",
          "LRIR",
          "CSENT",
          "IPM",
          "HOUSE",
          "UNEMP",
          "LRIR"
         ],
         "x0": " ",
         "xaxis": "x",
         "y": [
          -2.2177404144378743,
          -0.6374795109383538,
          -1.3737131231569633,
          -0.5295132252796124,
          -1.4373762074750314,
          -3.1174670744754067,
          -0.6149397561461312,
          -2.2206417257292355,
          -0.19766370943602762,
          -1.894041164971208,
          -3.1443952898567105,
          -0.7088622291996671,
          -1.8677462548636434,
          0.2612263932411869,
          -1.3447732945078688,
          -3.0515478852364115,
          -0.9825990364420543,
          -1.6750625965730706,
          0.3863028848870558,
          -1.2704119442510127,
          -3.5603831474123675,
          -1.4426980866197976,
          -1.39501475179594,
          0.49351109774953006,
          -1.596948282124531,
          -3.5971663944602295,
          -1.7633002036266054,
          -1.0653691712477436,
          0.4159638938805239,
          -1.4646336827887394,
          0.08938467694074603,
          -0.12884468712444086,
          -0.06059168742911769,
          0.7276020380001853,
          0.7900131040769516,
          -1.1674854271856283,
          -0.09391297392227482,
          0.15419986902833038,
          0.5134150550514027,
          -0.033767439295144364,
          -1.81409910105367,
          0.3101493394293282,
          -0.8779142987983573,
          0.6096321319026394,
          -0.7547352700574246,
          -2.3698767447854845,
          0.2822088979315307,
          -1.1521050736063483,
          0.9400336230830293,
          -0.7223212865700575,
          -2.2604829772304162,
          0.06993591663470689,
          -0.9022965779146386,
          1.2018170417421263,
          -0.4315075393320553,
          -2.5991520307598197,
          -0.31491168977260564,
          -0.6895867070542989,
          1.2819962310409485,
          -0.6146584245952607,
          0.36801387208349556,
          0.4361926455813778,
          -0.3688319014406165,
          0.7783786323331912,
          0.988626689547285,
          -0.24851606263399084,
          0.5459741208658908,
          0.39369348516506,
          1.0611386251919699,
          0.743129631973451,
          -1.1489991790820673,
          0.5759864970498523,
          0.10136784492278927,
          0.9833038504001523,
          0.08767187316446279,
          -1.6586644596813747,
          0.7859935366050648,
          -0.4427506039811959,
          1.205895531875309,
          -0.17585435653982007,
          -1.9427849621791005,
          0.6383194336608051,
          -0.5636857633068413,
          1.4532717471072045,
          -0.1546783296052423,
          -2.040050455864562,
          0.3703846517359164,
          -0.2758539150414947,
          1.672333733896175,
          -0.08044795039107822,
          0.11971031268949872,
          1.0382993689294366,
          -0.6943458168918806,
          0.7222893639159418,
          0.8582820725921998,
          0.04929595531506159,
          0.9106918009871423,
          0.15967432070393084,
          1.0556434597103141,
          0.9946729860718149,
          -0.5299013083728887,
          0.9540115629997423,
          0.3330343184907383,
          1.2462303140634052,
          0.6299669730113937,
          -1.2302954360335265,
          0.9258172324377902,
          0.20629714518480569,
          1.3115490901831324,
          0.33167105395060137,
          -1.528038020674197,
          0.9745418666686536,
          -0.11174885554313008,
          1.5055285771894305,
          0.14550977700407408,
          -1.811592196738815,
          0.7639480154197607,
          -0.09918047715489564,
          1.7527519420831057,
          0.09177111838938767,
          -0.11119860285460614,
          1.4196168892204515,
          -0.8721128525605883,
          0.7925853758078301,
          0.821937441688898,
          0.0005127506335496079,
          1.3940601909248382,
          -0.1723188141496692,
          0.9702724719140283,
          0.9672309138275947,
          -0.2250225892237605,
          1.2433820933584254,
          0.20449332118387797,
          1.197108640191498,
          0.9012673817614063,
          -0.7453880309799157,
          1.217071324241406,
          0.3937156313596537,
          1.4250015326115992,
          0.7317547938628417,
          -1.2490998108426816,
          1.0686958242494988,
          0.3464741112201306,
          1.5101260382035901,
          0.48619036662123793,
          -1.501054040853354,
          1.0562316375575937,
          0.1936586429878524,
          1.7409822301687177,
          0.3155587528005963,
          -0.3270736055469152,
          1.7632732408346428,
          -0.9143099362185336,
          0.9147157260039336,
          0.7544138198913846,
          -0.11961278983974477,
          1.716755730300755,
          -0.3599678687580372,
          1.018010291233752,
          0.9682145410949614,
          -0.16367035016706133,
          1.640364420576053,
          0.008753820991709738,
          1.1394656642741632,
          0.9479970548963159,
          -0.459289485301408,
          1.452547183920978,
          0.36043652727328546,
          1.3776333788708515,
          0.9702139693891016,
          -0.8957188138786227,
          1.2935689549997376,
          0.5291585602836513,
          1.5560590333440452,
          0.7784991856844625,
          -1.2460329558955507,
          1.1439234407188907,
          0.5896601818852432,
          1.7055793014381022,
          0.591251007032584
         ],
         "y0": " ",
         "yaxis": "y"
        },
        {
         "alignmentgroup": "True",
         "boxpoints": "all",
         "fillcolor": "rgba(255,255,255,0)",
         "hoveron": "points",
         "hovertemplate": "sc=1<br>theta=%{x}<br>diff=%{y}<extra></extra>",
         "legendgroup": "1",
         "line": {
          "color": "rgba(255,255,255,0)"
         },
         "marker": {
          "color": "#636efa",
          "opacity": 0.5,
          "size": 5
         },
         "name": "1",
         "offsetgroup": "1",
         "orientation": "v",
         "pointpos": 0,
         "showlegend": false,
         "type": "box",
         "x": [
          "CSENT",
          "IPM",
          "HOUSE",
          "UNEMP",
          "LRIR",
          "CSENT",
          "IPM",
          "HOUSE",
          "UNEMP",
          "LRIR",
          "CSENT",
          "IPM",
          "HOUSE",
          "UNEMP",
          "LRIR",
          "CSENT",
          "IPM",
          "HOUSE",
          "UNEMP",
          "LRIR",
          "CSENT",
          "IPM",
          "HOUSE",
          "UNEMP",
          "LRIR",
          "CSENT",
          "IPM",
          "HOUSE",
          "UNEMP",
          "LRIR",
          "CSENT",
          "IPM",
          "HOUSE",
          "UNEMP",
          "LRIR",
          "CSENT",
          "IPM",
          "HOUSE",
          "UNEMP",
          "LRIR",
          "CSENT",
          "IPM",
          "HOUSE",
          "UNEMP",
          "LRIR",
          "CSENT",
          "IPM",
          "HOUSE",
          "UNEMP",
          "LRIR",
          "CSENT",
          "IPM",
          "HOUSE",
          "UNEMP",
          "LRIR",
          "CSENT",
          "IPM",
          "HOUSE",
          "UNEMP",
          "LRIR",
          "CSENT",
          "IPM",
          "HOUSE",
          "UNEMP",
          "LRIR",
          "CSENT",
          "IPM",
          "HOUSE",
          "UNEMP",
          "LRIR",
          "CSENT",
          "IPM",
          "HOUSE",
          "UNEMP",
          "LRIR",
          "CSENT",
          "IPM",
          "HOUSE",
          "UNEMP",
          "LRIR",
          "CSENT",
          "IPM",
          "HOUSE",
          "UNEMP",
          "LRIR",
          "CSENT",
          "IPM",
          "HOUSE",
          "UNEMP",
          "LRIR",
          "CSENT",
          "IPM",
          "HOUSE",
          "UNEMP",
          "LRIR",
          "CSENT",
          "IPM",
          "HOUSE",
          "UNEMP",
          "LRIR",
          "CSENT",
          "IPM",
          "HOUSE",
          "UNEMP",
          "LRIR",
          "CSENT",
          "IPM",
          "HOUSE",
          "UNEMP",
          "LRIR",
          "CSENT",
          "IPM",
          "HOUSE",
          "UNEMP",
          "LRIR",
          "CSENT",
          "IPM",
          "HOUSE",
          "UNEMP",
          "LRIR",
          "CSENT",
          "IPM",
          "HOUSE",
          "UNEMP",
          "LRIR",
          "CSENT",
          "IPM",
          "HOUSE",
          "UNEMP",
          "LRIR",
          "CSENT",
          "IPM",
          "HOUSE",
          "UNEMP",
          "LRIR",
          "CSENT",
          "IPM",
          "HOUSE",
          "UNEMP",
          "LRIR",
          "CSENT",
          "IPM",
          "HOUSE",
          "UNEMP",
          "LRIR",
          "CSENT",
          "IPM",
          "HOUSE",
          "UNEMP",
          "LRIR",
          "CSENT",
          "IPM",
          "HOUSE",
          "UNEMP",
          "LRIR",
          "CSENT",
          "IPM",
          "HOUSE",
          "UNEMP",
          "LRIR",
          "CSENT",
          "IPM",
          "HOUSE",
          "UNEMP",
          "LRIR",
          "CSENT",
          "IPM",
          "HOUSE",
          "UNEMP",
          "LRIR",
          "CSENT",
          "IPM",
          "HOUSE",
          "UNEMP",
          "LRIR",
          "CSENT",
          "IPM",
          "HOUSE",
          "UNEMP",
          "LRIR"
         ],
         "x0": " ",
         "xaxis": "x2",
         "y": [
          0.11600595664975055,
          0.03742327591471484,
          0.07654988168121046,
          0.031316530295195766,
          0.0797270708471477,
          0.15533352787470167,
          0.036855340752231514,
          0.11869030886164478,
          0.012179724831421601,
          0.10373213432945416,
          0.15539553025581,
          0.04198885374690542,
          0.10191221904977721,
          -0.016494684831601658,
          0.07621054037213615,
          0.15144122989539566,
          0.05694302399028173,
          0.09240571179704293,
          -0.024514308631473414,
          0.072151154665553,
          0.1698626106992649,
          0.0811114460639153,
          0.07869799345792816,
          -0.03158742396189096,
          0.08879347801546944,
          0.17126716626405813,
          0.09692754769393463,
          0.0615459355592205,
          -0.02650225971123965,
          0.0822650831980718,
          -0.004316630832318147,
          0.006103914121009635,
          0.0028878895669742777,
          -0.0370924422730049,
          -0.04048162691861801,
          0.05505996464931018,
          0.004852407048146046,
          -0.008128034852186938,
          -0.027837063228981607,
          0.0017532643393466385,
          0.08504544474055875,
          -0.01730104302508817,
          0.044601377424874245,
          -0.03477223975461019,
          0.038733040416441544,
          0.10768688808360771,
          -0.0159565107631382,
          0.058224458719873695,
          -0.05573942378811836,
          0.03780378847659094,
          0.10374612026444552,
          -0.003891011602636274,
          0.046533994470882356,
          -0.07255144746732078,
          0.02310324041419587,
          0.11604764600162165,
          0.017064517950301616,
          0.03628843627766132,
          -0.07801928400594149,
          0.03253779824366865,
          -0.017313332858638786,
          -0.020650102124703862,
          0.016170416032953217,
          -0.03800760089048716,
          -0.04917740332328824,
          0.011085404250008812,
          -0.026235350830821402,
          -0.018657872981756807,
          -0.053361285966939676,
          -0.0363446146714731,
          0.05109705501140449,
          -0.02991724448732891,
          -0.005056792579341551,
          -0.05280808086892963,
          -0.004368361453523595,
          0.07345217474475885,
          -0.043115769255474334,
          0.021934654112283902,
          -0.06833913692498284,
          0.008915094089999243,
          0.08525048584888884,
          -0.03512876698865064,
          0.028093807779498325,
          -0.08509563488569105,
          0.007982447123762837,
          0.08815902446188151,
          -0.019865318836151058,
          0.014024591140680664,
          -0.09910673402896975,
          0.0041579823110247105,
          -0.005402053268533935,
          -0.05112883240246313,
          0.02879987828898145,
          -0.03454465090483305,
          -0.04157182214014843,
          -0.002154668484503852,
          -0.043314021254853285,
          -0.00705800860823369,
          -0.05089257742590769,
          -0.0476819353810044,
          0.022637769677748,
          -0.0470775651527241,
          -0.015510759871212976,
          -0.0631238342516629,
          -0.030175401671153956,
          0.05287222845162509,
          -0.04869246657376214,
          -0.010187804750878326,
          -0.07123660186068348,
          -0.01656479480833295,
          0.06631791270809595,
          -0.05317866842184105,
          0.005556214534508719,
          -0.08572068197614158,
          -0.007401864875343223,
          0.07683662304077765,
          -0.041188929524555884,
          0.0049651000434230985,
          -0.10224108055975345,
          -0.004672437304172217,
          0.004849246022819331,
          -0.07195111500549745,
          0.03496504755659369,
          -0.03787422662502293,
          -0.039388330133774074,
          -0.00002186794729386321,
          -0.06841480951465584,
          0.007211738244457533,
          -0.04572045081876619,
          -0.04556355957107305,
          0.009442941387393655,
          -0.06058864092538829,
          -0.008986062617173718,
          -0.058078601921845,
          -0.04249735560072054,
          0.031043729220962435,
          -0.061689869862375124,
          -0.018463151416093893,
          -0.07359406745399011,
          -0.035454762919312044,
          0.05311120652186241,
          -0.056856668570973934,
          -0.01727981407977275,
          -0.08341392146251236,
          -0.024560999564202546,
          0.06348882377903875,
          -0.05713061348792525,
          -0.00970449333714496,
          -0.09966570572019717,
          -0.01599045980935121,
          0.013690570482944087,
          -0.09138112714612345,
          0.035710911817076085,
          -0.04370394623141094,
          -0.035468303281499414,
          0.004977914461959054,
          -0.08645350382338446,
          0.01456888428680414,
          -0.04787945075018629,
          -0.0453079276534295,
          0.00674110392514371,
          -0.08164117407417337,
          -0.00036772546930385897,
          -0.05399587802639372,
          -0.04405917305156004,
          0.018789745119513923,
          -0.07263975658677602,
          -0.016151659918368533,
          -0.06840229958719668,
          -0.046292014593015574,
          0.03701024615304738,
          -0.06693214420328586,
          -0.02545404966953435,
          -0.08245859490208274,
          -0.03837221494091514,
          0.05212047009573617,
          -0.06087510689735276,
          -0.02982222971919457,
          -0.09532836663839717,
          -0.029907167525402012
         ],
         "y0": " ",
         "yaxis": "y2"
        },
        {
         "alignmentgroup": "True",
         "boxpoints": "all",
         "fillcolor": "rgba(255,255,255,0)",
         "hoveron": "points",
         "hovertemplate": "sc=3<br>theta=%{x}<br>diff=%{y}<extra></extra>",
         "legendgroup": "3",
         "line": {
          "color": "rgba(255,255,255,0)"
         },
         "marker": {
          "color": "#EF553B",
          "opacity": 0.5,
          "size": 5
         },
         "name": "3",
         "offsetgroup": "3",
         "orientation": "v",
         "pointpos": 0,
         "showlegend": true,
         "type": "box",
         "x": [
          "CSENT",
          "IPM",
          "HOUSE",
          "UNEMP",
          "LRIR",
          "CSENT",
          "IPM",
          "HOUSE",
          "UNEMP",
          "LRIR",
          "CSENT",
          "IPM",
          "HOUSE",
          "UNEMP",
          "LRIR",
          "CSENT",
          "IPM",
          "HOUSE",
          "UNEMP",
          "LRIR",
          "CSENT",
          "IPM",
          "HOUSE",
          "UNEMP",
          "LRIR",
          "CSENT",
          "IPM",
          "HOUSE",
          "UNEMP",
          "LRIR",
          "CSENT",
          "IPM",
          "HOUSE",
          "UNEMP",
          "LRIR",
          "CSENT",
          "IPM",
          "HOUSE",
          "UNEMP",
          "LRIR",
          "CSENT",
          "IPM",
          "HOUSE",
          "UNEMP",
          "LRIR",
          "CSENT",
          "IPM",
          "HOUSE",
          "UNEMP",
          "LRIR",
          "CSENT",
          "IPM",
          "HOUSE",
          "UNEMP",
          "LRIR",
          "CSENT",
          "IPM",
          "HOUSE",
          "UNEMP",
          "LRIR",
          "CSENT",
          "IPM",
          "HOUSE",
          "UNEMP",
          "LRIR",
          "CSENT",
          "IPM",
          "HOUSE",
          "UNEMP",
          "LRIR",
          "CSENT",
          "IPM",
          "HOUSE",
          "UNEMP",
          "LRIR",
          "CSENT",
          "IPM",
          "HOUSE",
          "UNEMP",
          "LRIR",
          "CSENT",
          "IPM",
          "HOUSE",
          "UNEMP",
          "LRIR",
          "CSENT",
          "IPM",
          "HOUSE",
          "UNEMP",
          "LRIR",
          "CSENT",
          "IPM",
          "HOUSE",
          "UNEMP",
          "LRIR",
          "CSENT",
          "IPM",
          "HOUSE",
          "UNEMP",
          "LRIR",
          "CSENT",
          "IPM",
          "HOUSE",
          "UNEMP",
          "LRIR",
          "CSENT",
          "IPM",
          "HOUSE",
          "UNEMP",
          "LRIR",
          "CSENT",
          "IPM",
          "HOUSE",
          "UNEMP",
          "LRIR",
          "CSENT",
          "IPM",
          "HOUSE",
          "UNEMP",
          "LRIR",
          "CSENT",
          "IPM",
          "HOUSE",
          "UNEMP",
          "LRIR",
          "CSENT",
          "IPM",
          "HOUSE",
          "UNEMP",
          "LRIR",
          "CSENT",
          "IPM",
          "HOUSE",
          "UNEMP",
          "LRIR",
          "CSENT",
          "IPM",
          "HOUSE",
          "UNEMP",
          "LRIR",
          "CSENT",
          "IPM",
          "HOUSE",
          "UNEMP",
          "LRIR",
          "CSENT",
          "IPM",
          "HOUSE",
          "UNEMP",
          "LRIR",
          "CSENT",
          "IPM",
          "HOUSE",
          "UNEMP",
          "LRIR",
          "CSENT",
          "IPM",
          "HOUSE",
          "UNEMP",
          "LRIR",
          "CSENT",
          "IPM",
          "HOUSE",
          "UNEMP",
          "LRIR",
          "CSENT",
          "IPM",
          "HOUSE",
          "UNEMP",
          "LRIR",
          "CSENT",
          "IPM",
          "HOUSE",
          "UNEMP",
          "LRIR",
          "CSENT",
          "IPM",
          "HOUSE",
          "UNEMP",
          "LRIR"
         ],
         "x0": " ",
         "xaxis": "x",
         "y": [
          -1.8666628709846398,
          -0.8324067333569634,
          -1.4671224110306245,
          -0.6960334424025714,
          -1.2916662856815462,
          -2.440906375092723,
          -0.7338454093926199,
          -2.1423067901499167,
          -0.5795081710456564,
          -1.6827465352720345,
          -2.340723078015171,
          -0.8277112403464475,
          -1.9642244096092494,
          -0.2353458145447842,
          -1.2850968459443184,
          -2.023657997839864,
          -1.0109011878311964,
          -2.0270673248430215,
          -0.2695779684392061,
          -1.0380238868815894,
          -2.2132511006629203,
          -1.24366674780374,
          -1.6963566529525345,
          0.024926299044345512,
          -1.0276633177726335,
          -2.2835858181862374,
          -1.6294616531339488,
          -1.167306176247127,
          0.13769035870748603,
          -1.0163128629456644,
          0.19366942878340776,
          -0.3046410532618351,
          -0.6203112015220951,
          0.4281780467570364,
          0.5394295612328444,
          -1.176997748428863,
          -0.600614113058362,
          -0.7854319585751233,
          -0.013301282211225285,
          -0.4284328623630671,
          -2.0364008006995977,
          -0.5268853542918057,
          -1.6347905721621796,
          -0.342183169417865,
          -1.3104703663864719,
          -2.3438779578384796,
          -0.5411743665401829,
          -1.9000077806731879,
          -0.1310204310250267,
          -1.3103213784288403,
          -2.065809586419852,
          -0.7108394034448402,
          -1.8566208879000232,
          0.010763279381292179,
          -0.9772509552580075,
          -2.030357507289339,
          -0.9182106246831383,
          -1.7104568486436031,
          0.10946711833181588,
          -0.8523956864888733,
          0.17140669291894284,
          0.09826264988351152,
          -0.8037083169456132,
          0.4477008160064484,
          0.49705711307059275,
          -0.4171667298720658,
          -0.12257182917741982,
          -0.5244354027366169,
          0.5010696270972366,
          0.17983021332329496,
          -1.5024260518004517,
          -0.3430193427777839,
          -1.0083701109722591,
          0.11661410265601191,
          -0.6576612471806431,
          -2.0555942861070537,
          -0.335325586003834,
          -1.514635499232953,
          0.0064186399903851665,
          -1.0435268575748422,
          -2.088959244418856,
          -0.4120274584926342,
          -1.7134204523323158,
          0.14463297674552855,
          -0.9438908415754321,
          -1.929271809517421,
          -0.6015565846787938,
          -1.5486090638078194,
          0.31946695162283767,
          -0.7520503614963632,
          -0.11304052171923118,
          0.6345559254979669,
          -0.9774366749322381,
          0.4342501252452706,
          0.3671282365648132,
          -0.16051350923328567,
          0.3384971592289041,
          -0.5505395728353779,
          0.6085920858561487,
          0.3970576325191235,
          -0.8452290485179521,
          0.1042638759491048,
          -0.668704119088626,
          0.5217051584830994,
          -0.09331188426652748,
          -1.6236958268925124,
          -0.12111225585294783,
          -1.0071066310564243,
          0.2864021048626384,
          -0.5369341445712283,
          -1.8776053349064998,
          -0.18074925056675362,
          -1.3648133269598537,
          0.25228422818524976,
          -0.7427378188024525,
          -1.861345347190384,
          -0.2741926096232552,
          -1.3948543568812601,
          0.4563218462383709,
          -0.6584556270914295,
          -0.3604476987254257,
          0.8675036588797527,
          -1.0896100332738774,
          0.4956473665788348,
          0.30179290413550675,
          -0.23350094825883616,
          0.8283030474786379,
          -0.6884927736090951,
          0.6119254183944358,
          0.39810919960413127,
          -0.5053065712860887,
          0.540499764579093,
          -0.5831386168390127,
          0.6340869239172857,
          0.21494889517432103,
          -1.1191544655127954,
          0.2597364044354995,
          -0.6903555717131944,
          0.5696878436519865,
          -0.07718235306833954,
          -1.577703772523896,
          0.009193191299421422,
          -0.9467912616758465,
          0.4231814309129218,
          -0.38881580629744494,
          -1.695422229069612,
          -0.032479349943081104,
          -1.126324464766264,
          0.49058018715429164,
          -0.5124351332737271,
          -0.6140992895257664,
          1.162016529027139,
          -1.11818200984714,
          0.5542782995119087,
          0.1549509351570979,
          -0.3632807520310104,
          1.059030259062828,
          -0.8033142574040877,
          0.6719324408972422,
          0.38660482258398243,
          -0.4330685207430047,
          1.014017741645378,
          -0.6191487632765815,
          0.6868741564347252,
          0.30922965825341553,
          -0.7746538117157256,
          0.6584139366037007,
          -0.5489069846255594,
          0.6767856058583099,
          0.22355546820805827,
          -1.2012177728732283,
          0.34809008674665964,
          -0.6524010650573411,
          0.6262852768383951,
          -0.028671499604191908,
          -1.4490878127654385,
          0.134801916954431,
          -0.7646705960759173,
          0.6109848959566895,
          -0.24822403711663288
         ],
         "y0": " ",
         "yaxis": "y"
        },
        {
         "alignmentgroup": "True",
         "boxpoints": "all",
         "fillcolor": "rgba(255,255,255,0)",
         "hoveron": "points",
         "hovertemplate": "sc=3<br>theta=%{x}<br>diff=%{y}<extra></extra>",
         "legendgroup": "3",
         "line": {
          "color": "rgba(255,255,255,0)"
         },
         "marker": {
          "color": "#EF553B",
          "opacity": 0.5,
          "size": 5
         },
         "name": "3",
         "offsetgroup": "3",
         "orientation": "v",
         "pointpos": 0,
         "showlegend": false,
         "type": "box",
         "x": [
          "CSENT",
          "IPM",
          "HOUSE",
          "UNEMP",
          "LRIR",
          "CSENT",
          "IPM",
          "HOUSE",
          "UNEMP",
          "LRIR",
          "CSENT",
          "IPM",
          "HOUSE",
          "UNEMP",
          "LRIR",
          "CSENT",
          "IPM",
          "HOUSE",
          "UNEMP",
          "LRIR",
          "CSENT",
          "IPM",
          "HOUSE",
          "UNEMP",
          "LRIR",
          "CSENT",
          "IPM",
          "HOUSE",
          "UNEMP",
          "LRIR",
          "CSENT",
          "IPM",
          "HOUSE",
          "UNEMP",
          "LRIR",
          "CSENT",
          "IPM",
          "HOUSE",
          "UNEMP",
          "LRIR",
          "CSENT",
          "IPM",
          "HOUSE",
          "UNEMP",
          "LRIR",
          "CSENT",
          "IPM",
          "HOUSE",
          "UNEMP",
          "LRIR",
          "CSENT",
          "IPM",
          "HOUSE",
          "UNEMP",
          "LRIR",
          "CSENT",
          "IPM",
          "HOUSE",
          "UNEMP",
          "LRIR",
          "CSENT",
          "IPM",
          "HOUSE",
          "UNEMP",
          "LRIR",
          "CSENT",
          "IPM",
          "HOUSE",
          "UNEMP",
          "LRIR",
          "CSENT",
          "IPM",
          "HOUSE",
          "UNEMP",
          "LRIR",
          "CSENT",
          "IPM",
          "HOUSE",
          "UNEMP",
          "LRIR",
          "CSENT",
          "IPM",
          "HOUSE",
          "UNEMP",
          "LRIR",
          "CSENT",
          "IPM",
          "HOUSE",
          "UNEMP",
          "LRIR",
          "CSENT",
          "IPM",
          "HOUSE",
          "UNEMP",
          "LRIR",
          "CSENT",
          "IPM",
          "HOUSE",
          "UNEMP",
          "LRIR",
          "CSENT",
          "IPM",
          "HOUSE",
          "UNEMP",
          "LRIR",
          "CSENT",
          "IPM",
          "HOUSE",
          "UNEMP",
          "LRIR",
          "CSENT",
          "IPM",
          "HOUSE",
          "UNEMP",
          "LRIR",
          "CSENT",
          "IPM",
          "HOUSE",
          "UNEMP",
          "LRIR",
          "CSENT",
          "IPM",
          "HOUSE",
          "UNEMP",
          "LRIR",
          "CSENT",
          "IPM",
          "HOUSE",
          "UNEMP",
          "LRIR",
          "CSENT",
          "IPM",
          "HOUSE",
          "UNEMP",
          "LRIR",
          "CSENT",
          "IPM",
          "HOUSE",
          "UNEMP",
          "LRIR",
          "CSENT",
          "IPM",
          "HOUSE",
          "UNEMP",
          "LRIR",
          "CSENT",
          "IPM",
          "HOUSE",
          "UNEMP",
          "LRIR",
          "CSENT",
          "IPM",
          "HOUSE",
          "UNEMP",
          "LRIR",
          "CSENT",
          "IPM",
          "HOUSE",
          "UNEMP",
          "LRIR",
          "CSENT",
          "IPM",
          "HOUSE",
          "UNEMP",
          "LRIR",
          "CSENT",
          "IPM",
          "HOUSE",
          "UNEMP",
          "LRIR",
          "CSENT",
          "IPM",
          "HOUSE",
          "UNEMP",
          "LRIR",
          "CSENT",
          "IPM",
          "HOUSE",
          "UNEMP",
          "LRIR"
         ],
         "x0": " ",
         "xaxis": "x2",
         "y": [
          0.1222923998849077,
          0.05801923428401734,
          0.0984897711547188,
          0.04889817364604765,
          0.08762858117322536,
          0.16063728907481933,
          0.053353824094457325,
          0.14356968405711656,
          0.04249402138908587,
          0.11589466530253933,
          0.1561107691012954,
          0.060249332378441434,
          0.1339808214413476,
          0.017692661792328757,
          0.09117400065449599,
          0.13703290115833788,
          0.07257254583569961,
          0.1372359612982934,
          0.02015699942111926,
          0.07440641432970829,
          0.14530744728273015,
          0.08649834874003692,
          0.11489640691581826,
          -0.0018607665734785561,
          0.07236742156122788,
          0.14910857843703917,
          0.11067342221266152,
          0.0814481636109885,
          -0.010328192240920187,
          0.07152837305545368,
          -0.01148638917337319,
          0.017429075629846635,
          0.03466495711805395,
          -0.02581755652527251,
          -0.0327782071638445,
          0.07099175410298575,
          0.037680278419738866,
          0.04866550944945791,
          0.0008672759580025113,
          0.027188031126242573,
          0.12647936502986878,
          0.03605772357139747,
          0.10428722840242577,
          0.02368239397647165,
          0.08537927746428031,
          0.14758549231598617,
          0.038159547457581544,
          0.1231668851324409,
          0.00946352501265657,
          0.08817524099320073,
          0.13302398208667632,
          0.049799266336592374,
          0.1211771269500207,
          -0.0007865085487442913,
          0.06737497770165812,
          0.12924411490801457,
          0.0627143879308063,
          0.11116581830763039,
          -0.007946512630206515,
          0.058453484313341963,
          -0.009735531739790027,
          -0.005549863801095012,
          0.04224210469503964,
          -0.02596615875569619,
          -0.02893541530207555,
          0.023541749220040487,
          0.007073648642456298,
          0.02935118574828388,
          -0.03027221285520376,
          -0.010613912736273212,
          0.0873537082191842,
          0.021665964379943725,
          0.06078581132526262,
          -0.007597750701685557,
          0.040643449132644505,
          0.12368202038414644,
          0.022670452731334167,
          0.09467640029647051,
          -0.0004434321069988201,
          0.06735431687059856,
          0.12816173063898872,
          0.028264169450371468,
          0.1079019901216437,
          -0.010269381950251621,
          0.06257964306705144,
          0.11879286283842627,
          0.04049291778491493,
          0.09790231890730494,
          -0.022776424678053075,
          0.050133925305603566,
          0.0061857251679872105,
          -0.03684979797815102,
          0.0497000824834366,
          -0.02482785335018567,
          -0.020879781943350828,
          0.008681200822761692,
          -0.019062770225564796,
          0.028814923788162194,
          -0.03500863350547734,
          -0.022464656338888167,
          0.04625688206544254,
          -0.006148115367108908,
          0.03712330153073262,
          -0.0317357998962261,
          0.005419986213388572,
          0.09279787595585876,
          0.007733689812087441,
          0.060328678002893876,
          -0.01880904184158938,
          0.033290182314652084,
          0.1111495159547693,
          0.012068501641709473,
          0.08391650127271044,
          -0.01733233342634788,
          0.04772949332694332,
          0.1107879115190793,
          0.018263518176113602,
          0.08592808908455185,
          -0.03188354175838459,
          0.042728690917462786,
          0.019347659665258643,
          -0.05148779151781835,
          0.05481496165386579,
          -0.028565720434121977,
          -0.01712290330385169,
          0.012269762381514115,
          -0.047581401570549464,
          0.034733313984059544,
          -0.03454099392542298,
          -0.022079216205357355,
          0.02657089156723158,
          -0.031025448371887254,
          0.030454505659952336,
          -0.03667085520676405,
          -0.012016008202005324,
          0.06064324999086457,
          -0.015723937584537495,
          0.03877159972518052,
          -0.035301131134049646,
          0.0045526903689994125,
          0.08985013170989076,
          -0.000590788312915258,
          0.0566727551017181,
          -0.028002627781976708,
          0.02427350793240679,
          0.09870277228422919,
          0.002139930883678365,
          0.06852740369221078,
          -0.03350563653503058,
          0.03262806293974496,
          0.03202742879412612,
          -0.07044396188642288,
          0.05562954897677286,
          -0.03199539488555059,
          -0.008649422728608802,
          0.01880759573831914,
          -0.06199796688714543,
          0.03990608728683864,
          -0.03809822470563706,
          -0.021395186300058988,
          0.022139398846842684,
          -0.05882009646759834,
          0.03110408152815547,
          -0.03877440149719347,
          -0.016900574839114335,
          0.04031119980236619,
          -0.03875253072652274,
          0.029153538543851276,
          -0.03989300892624936,
          -0.012695265106977605,
          0.06523935414856785,
          -0.02147272322376992,
          0.03713723006719216,
          -0.039463327749241106,
          0.0017172364322129985,
          0.08187722974999756,
          -0.008633933222555235,
          0.04569939460679706,
          -0.04051918112160058,
          0.015445520474349439
         ],
         "y0": " ",
         "yaxis": "y2"
        },
        {
         "alignmentgroup": "True",
         "boxpoints": "all",
         "fillcolor": "rgba(255,255,255,0)",
         "hoveron": "points",
         "hovertemplate": "sc=6<br>theta=%{x}<br>diff=%{y}<extra></extra>",
         "legendgroup": "6",
         "line": {
          "color": "rgba(255,255,255,0)"
         },
         "marker": {
          "color": "#00cc96",
          "opacity": 0.5,
          "size": 5
         },
         "name": "6",
         "offsetgroup": "6",
         "orientation": "v",
         "pointpos": 0,
         "showlegend": true,
         "type": "box",
         "x": [
          "CSENT",
          "IPM",
          "HOUSE",
          "UNEMP",
          "LRIR",
          "CSENT",
          "IPM",
          "HOUSE",
          "UNEMP",
          "LRIR",
          "CSENT",
          "IPM",
          "HOUSE",
          "UNEMP",
          "LRIR",
          "CSENT",
          "IPM",
          "HOUSE",
          "UNEMP",
          "LRIR",
          "CSENT",
          "IPM",
          "HOUSE",
          "UNEMP",
          "LRIR",
          "CSENT",
          "IPM",
          "HOUSE",
          "UNEMP",
          "LRIR",
          "CSENT",
          "IPM",
          "HOUSE",
          "UNEMP",
          "LRIR",
          "CSENT",
          "IPM",
          "HOUSE",
          "UNEMP",
          "LRIR",
          "CSENT",
          "IPM",
          "HOUSE",
          "UNEMP",
          "LRIR",
          "CSENT",
          "IPM",
          "HOUSE",
          "UNEMP",
          "LRIR",
          "CSENT",
          "IPM",
          "HOUSE",
          "UNEMP",
          "LRIR",
          "CSENT",
          "IPM",
          "HOUSE",
          "UNEMP",
          "LRIR",
          "CSENT",
          "IPM",
          "HOUSE",
          "UNEMP",
          "LRIR",
          "CSENT",
          "IPM",
          "HOUSE",
          "UNEMP",
          "LRIR",
          "CSENT",
          "IPM",
          "HOUSE",
          "UNEMP",
          "LRIR",
          "CSENT",
          "IPM",
          "HOUSE",
          "UNEMP",
          "LRIR",
          "CSENT",
          "IPM",
          "HOUSE",
          "UNEMP",
          "LRIR",
          "CSENT",
          "IPM",
          "HOUSE",
          "UNEMP",
          "LRIR",
          "CSENT",
          "IPM",
          "HOUSE",
          "UNEMP",
          "LRIR",
          "CSENT",
          "IPM",
          "HOUSE",
          "UNEMP",
          "LRIR",
          "CSENT",
          "IPM",
          "HOUSE",
          "UNEMP",
          "LRIR",
          "CSENT",
          "IPM",
          "HOUSE",
          "UNEMP",
          "LRIR",
          "CSENT",
          "IPM",
          "HOUSE",
          "UNEMP",
          "LRIR",
          "CSENT",
          "IPM",
          "HOUSE",
          "UNEMP",
          "LRIR",
          "CSENT",
          "IPM",
          "HOUSE",
          "UNEMP",
          "LRIR",
          "CSENT",
          "IPM",
          "HOUSE",
          "UNEMP",
          "LRIR",
          "CSENT",
          "IPM",
          "HOUSE",
          "UNEMP",
          "LRIR",
          "CSENT",
          "IPM",
          "HOUSE",
          "UNEMP",
          "LRIR",
          "CSENT",
          "IPM",
          "HOUSE",
          "UNEMP",
          "LRIR",
          "CSENT",
          "IPM",
          "HOUSE",
          "UNEMP",
          "LRIR",
          "CSENT",
          "IPM",
          "HOUSE",
          "UNEMP",
          "LRIR",
          "CSENT",
          "IPM",
          "HOUSE",
          "UNEMP",
          "LRIR",
          "CSENT",
          "IPM",
          "HOUSE",
          "UNEMP",
          "LRIR",
          "CSENT",
          "IPM",
          "HOUSE",
          "UNEMP",
          "LRIR",
          "CSENT",
          "IPM",
          "HOUSE",
          "UNEMP",
          "LRIR",
          "CSENT",
          "IPM",
          "HOUSE",
          "UNEMP",
          "LRIR"
         ],
         "x0": " ",
         "xaxis": "x",
         "y": [
          -1.121386539983039,
          -0.7732590277353903,
          -1.1933344316657895,
          -0.6267771707736429,
          -1.4298500079667225,
          -1.7455873921854987,
          -0.763671637856703,
          -1.9485924147479796,
          -0.8470060513972548,
          -1.6454137002416402,
          -1.5929499139810215,
          -0.8090376292401853,
          -1.9378390213186272,
          -0.6304007215688383,
          -1.3780870563398278,
          -1.3304979801456955,
          -0.899520757244801,
          -1.9514334005430456,
          -0.5804877181202883,
          -1.0307317499858062,
          -1.4217193908616945,
          -1.2805058481363982,
          -1.7345567364804992,
          -0.40564181934005994,
          -0.8658248080820528,
          -1.3959958011250464,
          -1.5694971663699508,
          -1.1385931777352898,
          -0.27917808472544614,
          -0.6924547522296329,
          0.7033503514454633,
          -0.24123995813634647,
          -0.664100900097945,
          0.20043292327399342,
          0.16693907438251365,
          -0.43042118691820974,
          -0.5784688023946636,
          -0.8008200747151974,
          -0.18657284096939541,
          -0.8168989788837937,
          -1.3941588368813385,
          -0.6427335808275068,
          -1.4954993027172918,
          -0.6277708101376938,
          -1.4941639181711075,
          -1.6782267347781339,
          -0.6888359919639679,
          -1.9068327019051061,
          -0.6566938845371286,
          -1.4584121065707798,
          -1.4126851376271947,
          -0.7578029953390182,
          -1.9049058103616634,
          -0.5012315324710261,
          -1.133478485589288,
          -1.2988659099055138,
          -0.9966155302576052,
          -1.7927584952463285,
          -0.3924750162422832,
          -0.8701134025804826,
          0.5214140731823065,
          0.07994917033954341,
          -0.8364791798546864,
          0.16988161136243463,
          0.1009805682809306,
          0.16733545276185247,
          -0.21578187166359264,
          -0.6578837691006774,
          0.1390928348625522,
          -0.3199083916870551,
          -0.849273525955196,
          -0.4897629345230694,
          -1.0817819505722994,
          -0.2878890041424924,
          -1.0958577757513375,
          -1.482045110274937,
          -0.5739565392926487,
          -1.581766656773615,
          -0.5479719962014205,
          -1.369558187936864,
          -1.5349810822864178,
          -0.6571970479992402,
          -1.8541699339033162,
          -0.515008930202546,
          -1.2243344424247695,
          -1.286114132054914,
          -0.8102485486367286,
          -1.7514982184820962,
          -0.3492161026594651,
          -0.9468169615908657,
          0.18075842861017577,
          0.5038624832380627,
          -1.0071159335965234,
          0.14303737829088803,
          -0.05233366880560908,
          0.25288459045305967,
          0.10932341414912727,
          -0.735720628484672,
          0.22311783013298125,
          -0.16687041682899206,
          -0.3008402694451373,
          -0.16387674988121947,
          -0.8590549212815013,
          0.02758680696901905,
          -0.666206399646339,
          -1.0904703332677599,
          -0.439017647496728,
          -1.227431266345711,
          -0.30289910826129507,
          -1.0932806711539378,
          -1.4497898673933562,
          -0.5491662102566295,
          -1.602097250577457,
          -0.46382307123616684,
          -1.2030257719364421,
          -1.3626373250732673,
          -0.6747237087342057,
          -1.7150859505420222,
          -0.36039287747781223,
          -1.02125738394958,
          -0.13111598230371424,
          0.7077288869070255,
          -1.1277545071898425,
          0.20884877190660767,
          -0.14373155985190245,
          0.10106241937654303,
          0.518315420423396,
          -0.8733355927528343,
          0.25228327458752275,
          -0.1798662551236916,
          -0.08127478531486254,
          0.1681659623939451,
          -0.8239558208818023,
          0.1596108774538436,
          -0.4241039002970721,
          -0.6358055998213548,
          -0.14051129460644418,
          -0.9925094908678957,
          -0.038150308037927516,
          -0.7525114529723158,
          -1.1791668731642169,
          -0.42802716671901386,
          -1.3007908289309134,
          -0.28466185721316606,
          -1.0257755171433391,
          -1.3125839004250928,
          -0.5530524305376225,
          -1.5241033645325874,
          -0.3372254706421991,
          -1.0304273510895783,
          -0.4303659378396274,
          0.9359794198500984,
          -1.1845427897613918,
          0.27210745691395566,
          -0.3096131185620381,
          -0.09717924108462395,
          0.7489654027861787,
          -0.9767002044154385,
          0.33571850051925267,
          -0.2023905212817887,
          -0.07452661596516297,
          0.58048685145428,
          -0.8681157324685014,
          0.2532245409089606,
          -0.3468390384565385,
          -0.37576638760484027,
          0.19143991085231793,
          -0.8897544771978874,
          0.09869657369477913,
          -0.505891474106491,
          -0.8284424890955622,
          -0.1519828655555706,
          -1.0686893395751094,
          -0.07846873185001435,
          -0.762307656047879,
          -1.1051498012952354,
          -0.41035034016012517,
          -1.2497066151197904,
          -0.22631432089514192,
          -0.9173028845769879
         ],
         "y0": " ",
         "yaxis": "y"
        },
        {
         "alignmentgroup": "True",
         "boxpoints": "all",
         "fillcolor": "rgba(255,255,255,0)",
         "hoveron": "points",
         "hovertemplate": "sc=6<br>theta=%{x}<br>diff=%{y}<extra></extra>",
         "legendgroup": "6",
         "line": {
          "color": "rgba(255,255,255,0)"
         },
         "marker": {
          "color": "#00cc96",
          "opacity": 0.5,
          "size": 5
         },
         "name": "6",
         "offsetgroup": "6",
         "orientation": "v",
         "pointpos": 0,
         "showlegend": false,
         "type": "box",
         "x": [
          "CSENT",
          "IPM",
          "HOUSE",
          "UNEMP",
          "LRIR",
          "CSENT",
          "IPM",
          "HOUSE",
          "UNEMP",
          "LRIR",
          "CSENT",
          "IPM",
          "HOUSE",
          "UNEMP",
          "LRIR",
          "CSENT",
          "IPM",
          "HOUSE",
          "UNEMP",
          "LRIR",
          "CSENT",
          "IPM",
          "HOUSE",
          "UNEMP",
          "LRIR",
          "CSENT",
          "IPM",
          "HOUSE",
          "UNEMP",
          "LRIR",
          "CSENT",
          "IPM",
          "HOUSE",
          "UNEMP",
          "LRIR",
          "CSENT",
          "IPM",
          "HOUSE",
          "UNEMP",
          "LRIR",
          "CSENT",
          "IPM",
          "HOUSE",
          "UNEMP",
          "LRIR",
          "CSENT",
          "IPM",
          "HOUSE",
          "UNEMP",
          "LRIR",
          "CSENT",
          "IPM",
          "HOUSE",
          "UNEMP",
          "LRIR",
          "CSENT",
          "IPM",
          "HOUSE",
          "UNEMP",
          "LRIR",
          "CSENT",
          "IPM",
          "HOUSE",
          "UNEMP",
          "LRIR",
          "CSENT",
          "IPM",
          "HOUSE",
          "UNEMP",
          "LRIR",
          "CSENT",
          "IPM",
          "HOUSE",
          "UNEMP",
          "LRIR",
          "CSENT",
          "IPM",
          "HOUSE",
          "UNEMP",
          "LRIR",
          "CSENT",
          "IPM",
          "HOUSE",
          "UNEMP",
          "LRIR",
          "CSENT",
          "IPM",
          "HOUSE",
          "UNEMP",
          "LRIR",
          "CSENT",
          "IPM",
          "HOUSE",
          "UNEMP",
          "LRIR",
          "CSENT",
          "IPM",
          "HOUSE",
          "UNEMP",
          "LRIR",
          "CSENT",
          "IPM",
          "HOUSE",
          "UNEMP",
          "LRIR",
          "CSENT",
          "IPM",
          "HOUSE",
          "UNEMP",
          "LRIR",
          "CSENT",
          "IPM",
          "HOUSE",
          "UNEMP",
          "LRIR",
          "CSENT",
          "IPM",
          "HOUSE",
          "UNEMP",
          "LRIR",
          "CSENT",
          "IPM",
          "HOUSE",
          "UNEMP",
          "LRIR",
          "CSENT",
          "IPM",
          "HOUSE",
          "UNEMP",
          "LRIR",
          "CSENT",
          "IPM",
          "HOUSE",
          "UNEMP",
          "LRIR",
          "CSENT",
          "IPM",
          "HOUSE",
          "UNEMP",
          "LRIR",
          "CSENT",
          "IPM",
          "HOUSE",
          "UNEMP",
          "LRIR",
          "CSENT",
          "IPM",
          "HOUSE",
          "UNEMP",
          "LRIR",
          "CSENT",
          "IPM",
          "HOUSE",
          "UNEMP",
          "LRIR",
          "CSENT",
          "IPM",
          "HOUSE",
          "UNEMP",
          "LRIR",
          "CSENT",
          "IPM",
          "HOUSE",
          "UNEMP",
          "LRIR",
          "CSENT",
          "IPM",
          "HOUSE",
          "UNEMP",
          "LRIR",
          "CSENT",
          "IPM",
          "HOUSE",
          "UNEMP",
          "LRIR",
          "CSENT",
          "IPM",
          "HOUSE",
          "UNEMP",
          "LRIR"
         ],
         "x0": " ",
         "xaxis": "x2",
         "y": [
          0.08848383827660111,
          0.062104269107650545,
          0.09381338779555715,
          0.05071123682662115,
          0.11103798294320044,
          0.14284868159780273,
          0.06552273092513072,
          0.15786390815479712,
          0.07238773597286474,
          0.13531670328336698,
          0.13460197937254048,
          0.07091817001097034,
          0.16105144952169181,
          0.05571310395777129,
          0.11763955012537874,
          0.1133612295802231,
          0.07820074171625269,
          0.1613912879154904,
          0.051210355911407546,
          0.08906359271481357,
          0.11831834229337002,
          0.10729317268831706,
          0.1421719369781993,
          0.03541519997621767,
          0.073990506154759,
          0.11384353886578624,
          0.1269000428581616,
          0.09402820214781127,
          0.0240179348962567,
          0.05842431561360406,
          -0.05079787203662267,
          0.016463877152173345,
          0.044140827719404196,
          -0.01405153298875883,
          -0.011679881553250504,
          0.03234716103996238,
          0.043113672219382115,
          0.05893795893735687,
          0.01421242599533934,
          0.06006616372334417,
          0.10936281614928689,
          0.052442426892089,
          0.11667716347716361,
          0.05126093932595055,
          0.11658134047550017,
          0.13732587910014304,
          0.05921892059094791,
          0.15420750902642655,
          0.05654403406873987,
          0.12068084305824323,
          0.11835463513105116,
          0.06556310612058613,
          0.15567348543713566,
          0.043902784483416224,
          0.0962856057865733,
          0.10777426969868997,
          0.0839529000763477,
          0.14505739224420344,
          0.03405158677116915,
          0.07375631946830075,
          -0.03646421969660196,
          -0.005437684038524404,
          0.05356020164876241,
          -0.011620786201182676,
          -0.006877351159869538,
          -0.011952498504811282,
          0.015054379531446171,
          0.04463682515372158,
          -0.009918135758301805,
          0.022174457386025637,
          0.06374223172031956,
          0.037521644031165424,
          0.08010394536906618,
          0.022307382603801162,
          0.08107943654854799,
          0.11691893003688592,
          0.04753337116719125,
          0.12410390603061083,
          0.04544298014254444,
          0.1087109821645329,
          0.12526637544185082,
          0.05612500114041252,
          0.14875743389058738,
          0.04429846546640004,
          0.10155858249299943,
          0.10579956049302663,
          0.06832023847389124,
          0.1405597269161004,
          0.030141928906458837,
          0.07927672236189542,
          -0.012372420514363158,
          -0.03521762631785008,
          0.06357278835832947,
          -0.009766336744982729,
          0.003527426669747813,
          -0.017418115355750885,
          -0.007459749514505232,
          0.04742153960667661,
          -0.01533814263064781,
          0.011180359823167452,
          0.0214826852491532,
          0.011802491207215438,
          0.05920289035386517,
          -0.0020104021165323616,
          0.04648618049170272,
          0.08259452754372898,
          0.034528018673708916,
          0.09221826835436997,
          0.024006453892739588,
          0.0827936815492738,
          0.11473910594394077,
          0.04566905000060706,
          0.12570415739886098,
          0.038748488999078456,
          0.09653441300192556,
          0.11002688012225303,
          0.05655376589044159,
          0.1357860078293598,
          0.030713194392285592,
          0.0840189391824806,
          0.00887802683950667,
          -0.05066484876307786,
          0.07116731604910553,
          -0.01446954015640034,
          0.009723863456171267,
          -0.006804493852924365,
          -0.035895500236816535,
          0.05487628781251086,
          -0.017162102056517803,
          0.01187726207417017,
          0.0055807878591358495,
          -0.011740467877468297,
          0.05375848057472121,
          -0.011136906232279031,
          0.02845158953556548,
          0.04593819284867595,
          0.01047277781231748,
          0.0700800157504089,
          0.0028614578753380915,
          0.05396589360823478,
          0.09020664482596663,
          0.03422599346069388,
          0.09878176538132433,
          0.022950277464586333,
          0.07919733407181817,
          0.10366460654785281,
          0.04561581503048373,
          0.118883241543291,
          0.02815002375688236,
          0.0827213423609614,
          0.028658447312703506,
          -0.06842545756894491,
          0.07462016010221606,
          -0.019031286062362263,
          0.02079567324423326,
          0.006467999842655225,
          -0.05286599368001077,
          0.06091737927746188,
          -0.02303638730484525,
          0.01336922588319045,
          0.0049858684030616995,
          -0.04064387091099253,
          0.05479967098654903,
          -0.017335714128656643,
          0.022754349173953248,
          0.02607064764953748,
          -0.013798828701083066,
          0.05955479253504081,
          -0.007070406953572528,
          0.03478544902503988,
          0.06068502830548317,
          0.011622520464354746,
          0.07706119707296555,
          0.006028169745454504,
          0.056080548725826906,
          0.0848638028144193,
          0.03286897264564448,
          0.09510351184142285,
          0.018326168938535004,
          0.07126013117292773
         ],
         "y0": " ",
         "yaxis": "y2"
        }
       ],
       "layout": {
        "annotations": [
         {
          "font": {
           "color": "grey",
           "size": 11
          },
          "showarrow": false,
          "text": "RMSE",
          "x": 0.225,
          "xanchor": "center",
          "xref": "paper",
          "y": 0.95,
          "yanchor": "bottom",
          "yref": "paper"
         },
         {
          "font": {
           "color": "grey",
           "size": 11
          },
          "showarrow": false,
          "text": "Adj-R2",
          "x": 0.775,
          "xanchor": "center",
          "xref": "paper",
          "y": 0.95,
          "yanchor": "bottom",
          "yref": "paper"
         }
        ],
        "height": 400,
        "legend": {
         "orientation": "h",
         "title": {
          "text": "Scopes:"
         },
         "x": 0.5,
         "xanchor": "center",
         "y": -0.1,
         "yanchor": "top"
        },
        "margin": {
         "b": 60,
         "l": 80,
         "r": 40,
         "t": 80
        },
        "template": {
         "data": {
          "bar": [
           {
            "error_x": {
             "color": "#f2f5fa"
            },
            "error_y": {
             "color": "#f2f5fa"
            },
            "marker": {
             "line": {
              "color": "rgb(17,17,17)",
              "width": 0.5
             },
             "pattern": {
              "fillmode": "overlay",
              "size": 10,
              "solidity": 0.2
             }
            },
            "type": "bar"
           }
          ],
          "barpolar": [
           {
            "marker": {
             "line": {
              "color": "rgb(17,17,17)",
              "width": 0.5
             },
             "pattern": {
              "fillmode": "overlay",
              "size": 10,
              "solidity": 0.2
             }
            },
            "type": "barpolar"
           }
          ],
          "carpet": [
           {
            "aaxis": {
             "endlinecolor": "#A2B1C6",
             "gridcolor": "#506784",
             "linecolor": "#506784",
             "minorgridcolor": "#506784",
             "startlinecolor": "#A2B1C6"
            },
            "baxis": {
             "endlinecolor": "#A2B1C6",
             "gridcolor": "#506784",
             "linecolor": "#506784",
             "minorgridcolor": "#506784",
             "startlinecolor": "#A2B1C6"
            },
            "type": "carpet"
           }
          ],
          "choropleth": [
           {
            "colorbar": {
             "outlinewidth": 0,
             "ticks": ""
            },
            "type": "choropleth"
           }
          ],
          "contour": [
           {
            "colorbar": {
             "outlinewidth": 0,
             "ticks": ""
            },
            "colorscale": [
             [
              0,
              "#0d0887"
             ],
             [
              0.1111111111111111,
              "#46039f"
             ],
             [
              0.2222222222222222,
              "#7201a8"
             ],
             [
              0.3333333333333333,
              "#9c179e"
             ],
             [
              0.4444444444444444,
              "#bd3786"
             ],
             [
              0.5555555555555556,
              "#d8576b"
             ],
             [
              0.6666666666666666,
              "#ed7953"
             ],
             [
              0.7777777777777778,
              "#fb9f3a"
             ],
             [
              0.8888888888888888,
              "#fdca26"
             ],
             [
              1,
              "#f0f921"
             ]
            ],
            "type": "contour"
           }
          ],
          "contourcarpet": [
           {
            "colorbar": {
             "outlinewidth": 0,
             "ticks": ""
            },
            "type": "contourcarpet"
           }
          ],
          "heatmap": [
           {
            "colorbar": {
             "outlinewidth": 0,
             "ticks": ""
            },
            "colorscale": [
             [
              0,
              "#0d0887"
             ],
             [
              0.1111111111111111,
              "#46039f"
             ],
             [
              0.2222222222222222,
              "#7201a8"
             ],
             [
              0.3333333333333333,
              "#9c179e"
             ],
             [
              0.4444444444444444,
              "#bd3786"
             ],
             [
              0.5555555555555556,
              "#d8576b"
             ],
             [
              0.6666666666666666,
              "#ed7953"
             ],
             [
              0.7777777777777778,
              "#fb9f3a"
             ],
             [
              0.8888888888888888,
              "#fdca26"
             ],
             [
              1,
              "#f0f921"
             ]
            ],
            "type": "heatmap"
           }
          ],
          "heatmapgl": [
           {
            "colorbar": {
             "outlinewidth": 0,
             "ticks": ""
            },
            "colorscale": [
             [
              0,
              "#0d0887"
             ],
             [
              0.1111111111111111,
              "#46039f"
             ],
             [
              0.2222222222222222,
              "#7201a8"
             ],
             [
              0.3333333333333333,
              "#9c179e"
             ],
             [
              0.4444444444444444,
              "#bd3786"
             ],
             [
              0.5555555555555556,
              "#d8576b"
             ],
             [
              0.6666666666666666,
              "#ed7953"
             ],
             [
              0.7777777777777778,
              "#fb9f3a"
             ],
             [
              0.8888888888888888,
              "#fdca26"
             ],
             [
              1,
              "#f0f921"
             ]
            ],
            "type": "heatmapgl"
           }
          ],
          "histogram": [
           {
            "marker": {
             "pattern": {
              "fillmode": "overlay",
              "size": 10,
              "solidity": 0.2
             }
            },
            "type": "histogram"
           }
          ],
          "histogram2d": [
           {
            "colorbar": {
             "outlinewidth": 0,
             "ticks": ""
            },
            "colorscale": [
             [
              0,
              "#0d0887"
             ],
             [
              0.1111111111111111,
              "#46039f"
             ],
             [
              0.2222222222222222,
              "#7201a8"
             ],
             [
              0.3333333333333333,
              "#9c179e"
             ],
             [
              0.4444444444444444,
              "#bd3786"
             ],
             [
              0.5555555555555556,
              "#d8576b"
             ],
             [
              0.6666666666666666,
              "#ed7953"
             ],
             [
              0.7777777777777778,
              "#fb9f3a"
             ],
             [
              0.8888888888888888,
              "#fdca26"
             ],
             [
              1,
              "#f0f921"
             ]
            ],
            "type": "histogram2d"
           }
          ],
          "histogram2dcontour": [
           {
            "colorbar": {
             "outlinewidth": 0,
             "ticks": ""
            },
            "colorscale": [
             [
              0,
              "#0d0887"
             ],
             [
              0.1111111111111111,
              "#46039f"
             ],
             [
              0.2222222222222222,
              "#7201a8"
             ],
             [
              0.3333333333333333,
              "#9c179e"
             ],
             [
              0.4444444444444444,
              "#bd3786"
             ],
             [
              0.5555555555555556,
              "#d8576b"
             ],
             [
              0.6666666666666666,
              "#ed7953"
             ],
             [
              0.7777777777777778,
              "#fb9f3a"
             ],
             [
              0.8888888888888888,
              "#fdca26"
             ],
             [
              1,
              "#f0f921"
             ]
            ],
            "type": "histogram2dcontour"
           }
          ],
          "mesh3d": [
           {
            "colorbar": {
             "outlinewidth": 0,
             "ticks": ""
            },
            "type": "mesh3d"
           }
          ],
          "parcoords": [
           {
            "line": {
             "colorbar": {
              "outlinewidth": 0,
              "ticks": ""
             }
            },
            "type": "parcoords"
           }
          ],
          "pie": [
           {
            "automargin": true,
            "type": "pie"
           }
          ],
          "scatter": [
           {
            "marker": {
             "line": {
              "color": "#283442"
             }
            },
            "type": "scatter"
           }
          ],
          "scatter3d": [
           {
            "line": {
             "colorbar": {
              "outlinewidth": 0,
              "ticks": ""
             }
            },
            "marker": {
             "colorbar": {
              "outlinewidth": 0,
              "ticks": ""
             }
            },
            "type": "scatter3d"
           }
          ],
          "scattercarpet": [
           {
            "marker": {
             "colorbar": {
              "outlinewidth": 0,
              "ticks": ""
             }
            },
            "type": "scattercarpet"
           }
          ],
          "scattergeo": [
           {
            "marker": {
             "colorbar": {
              "outlinewidth": 0,
              "ticks": ""
             }
            },
            "type": "scattergeo"
           }
          ],
          "scattergl": [
           {
            "marker": {
             "line": {
              "color": "#283442"
             }
            },
            "type": "scattergl"
           }
          ],
          "scattermapbox": [
           {
            "marker": {
             "colorbar": {
              "outlinewidth": 0,
              "ticks": ""
             }
            },
            "type": "scattermapbox"
           }
          ],
          "scatterpolar": [
           {
            "marker": {
             "colorbar": {
              "outlinewidth": 0,
              "ticks": ""
             }
            },
            "type": "scatterpolar"
           }
          ],
          "scatterpolargl": [
           {
            "marker": {
             "colorbar": {
              "outlinewidth": 0,
              "ticks": ""
             }
            },
            "type": "scatterpolargl"
           }
          ],
          "scatterternary": [
           {
            "marker": {
             "colorbar": {
              "outlinewidth": 0,
              "ticks": ""
             }
            },
            "type": "scatterternary"
           }
          ],
          "surface": [
           {
            "colorbar": {
             "outlinewidth": 0,
             "ticks": ""
            },
            "colorscale": [
             [
              0,
              "#0d0887"
             ],
             [
              0.1111111111111111,
              "#46039f"
             ],
             [
              0.2222222222222222,
              "#7201a8"
             ],
             [
              0.3333333333333333,
              "#9c179e"
             ],
             [
              0.4444444444444444,
              "#bd3786"
             ],
             [
              0.5555555555555556,
              "#d8576b"
             ],
             [
              0.6666666666666666,
              "#ed7953"
             ],
             [
              0.7777777777777778,
              "#fb9f3a"
             ],
             [
              0.8888888888888888,
              "#fdca26"
             ],
             [
              1,
              "#f0f921"
             ]
            ],
            "type": "surface"
           }
          ],
          "table": [
           {
            "cells": {
             "fill": {
              "color": "#506784"
             },
             "line": {
              "color": "rgb(17,17,17)"
             }
            },
            "header": {
             "fill": {
              "color": "#2a3f5f"
             },
             "line": {
              "color": "rgb(17,17,17)"
             }
            },
            "type": "table"
           }
          ]
         },
         "layout": {
          "annotationdefaults": {
           "arrowcolor": "#f2f5fa",
           "arrowhead": 0,
           "arrowwidth": 1
          },
          "autotypenumbers": "strict",
          "coloraxis": {
           "colorbar": {
            "outlinewidth": 0,
            "ticks": ""
           }
          },
          "colorscale": {
           "diverging": [
            [
             0,
             "#8e0152"
            ],
            [
             0.1,
             "#c51b7d"
            ],
            [
             0.2,
             "#de77ae"
            ],
            [
             0.3,
             "#f1b6da"
            ],
            [
             0.4,
             "#fde0ef"
            ],
            [
             0.5,
             "#f7f7f7"
            ],
            [
             0.6,
             "#e6f5d0"
            ],
            [
             0.7,
             "#b8e186"
            ],
            [
             0.8,
             "#7fbc41"
            ],
            [
             0.9,
             "#4d9221"
            ],
            [
             1,
             "#276419"
            ]
           ],
           "sequential": [
            [
             0,
             "#0d0887"
            ],
            [
             0.1111111111111111,
             "#46039f"
            ],
            [
             0.2222222222222222,
             "#7201a8"
            ],
            [
             0.3333333333333333,
             "#9c179e"
            ],
            [
             0.4444444444444444,
             "#bd3786"
            ],
            [
             0.5555555555555556,
             "#d8576b"
            ],
            [
             0.6666666666666666,
             "#ed7953"
            ],
            [
             0.7777777777777778,
             "#fb9f3a"
            ],
            [
             0.8888888888888888,
             "#fdca26"
            ],
            [
             1,
             "#f0f921"
            ]
           ],
           "sequentialminus": [
            [
             0,
             "#0d0887"
            ],
            [
             0.1111111111111111,
             "#46039f"
            ],
            [
             0.2222222222222222,
             "#7201a8"
            ],
            [
             0.3333333333333333,
             "#9c179e"
            ],
            [
             0.4444444444444444,
             "#bd3786"
            ],
            [
             0.5555555555555556,
             "#d8576b"
            ],
            [
             0.6666666666666666,
             "#ed7953"
            ],
            [
             0.7777777777777778,
             "#fb9f3a"
            ],
            [
             0.8888888888888888,
             "#fdca26"
            ],
            [
             1,
             "#f0f921"
            ]
           ]
          },
          "colorway": [
           "#636efa",
           "#EF553B",
           "#00cc96",
           "#ab63fa",
           "#FFA15A",
           "#19d3f3",
           "#FF6692",
           "#B6E880",
           "#FF97FF",
           "#FECB52"
          ],
          "font": {
           "color": "#f2f5fa"
          },
          "geo": {
           "bgcolor": "rgb(17,17,17)",
           "lakecolor": "rgb(17,17,17)",
           "landcolor": "rgb(17,17,17)",
           "showlakes": true,
           "showland": true,
           "subunitcolor": "#506784"
          },
          "hoverlabel": {
           "align": "left"
          },
          "hovermode": "closest",
          "mapbox": {
           "style": "dark"
          },
          "paper_bgcolor": "rgb(17,17,17)",
          "plot_bgcolor": "rgb(17,17,17)",
          "polar": {
           "angularaxis": {
            "gridcolor": "#506784",
            "linecolor": "#506784",
            "ticks": ""
           },
           "bgcolor": "rgb(17,17,17)",
           "radialaxis": {
            "gridcolor": "#506784",
            "linecolor": "#506784",
            "ticks": ""
           }
          },
          "scene": {
           "xaxis": {
            "backgroundcolor": "rgb(17,17,17)",
            "gridcolor": "#506784",
            "gridwidth": 2,
            "linecolor": "#506784",
            "showbackground": true,
            "ticks": "",
            "zerolinecolor": "#C8D4E3"
           },
           "yaxis": {
            "backgroundcolor": "rgb(17,17,17)",
            "gridcolor": "#506784",
            "gridwidth": 2,
            "linecolor": "#506784",
            "showbackground": true,
            "ticks": "",
            "zerolinecolor": "#C8D4E3"
           },
           "zaxis": {
            "backgroundcolor": "rgb(17,17,17)",
            "gridcolor": "#506784",
            "gridwidth": 2,
            "linecolor": "#506784",
            "showbackground": true,
            "ticks": "",
            "zerolinecolor": "#C8D4E3"
           }
          },
          "shapedefaults": {
           "line": {
            "color": "#f2f5fa"
           }
          },
          "sliderdefaults": {
           "bgcolor": "#C8D4E3",
           "bordercolor": "rgb(17,17,17)",
           "borderwidth": 1,
           "tickwidth": 0
          },
          "ternary": {
           "aaxis": {
            "gridcolor": "#506784",
            "linecolor": "#506784",
            "ticks": ""
           },
           "baxis": {
            "gridcolor": "#506784",
            "linecolor": "#506784",
            "ticks": ""
           },
           "bgcolor": "rgb(17,17,17)",
           "caxis": {
            "gridcolor": "#506784",
            "linecolor": "#506784",
            "ticks": ""
           }
          },
          "title": {
           "x": 0.05
          },
          "updatemenudefaults": {
           "bgcolor": "#506784",
           "borderwidth": 0
          },
          "xaxis": {
           "automargin": true,
           "gridcolor": "#283442",
           "linecolor": "#506784",
           "ticks": "",
           "title": {
            "standoff": 15
           },
           "zerolinecolor": "#283442",
           "zerolinewidth": 2
          },
          "yaxis": {
           "automargin": true,
           "gridcolor": "#283442",
           "linecolor": "#506784",
           "ticks": "",
           "title": {
            "standoff": 15
           },
           "zerolinecolor": "#283442",
           "zerolinewidth": 2
          }
         }
        },
        "title": {
         "text": "Observe Backward Elimination in All Models With Repect to Scopes<br><span style=\"font-size: 12.5px; color: lightgrey;\"> -- How meansures are changed by removing the impact of each coefficient</span>"
        },
        "width": 800,
        "xaxis": {
         "anchor": "y",
         "domain": [
          0,
          0.45
         ]
        },
        "xaxis2": {
         "anchor": "y2",
         "domain": [
          0.55,
          1
         ]
        },
        "yaxis": {
         "anchor": "x",
         "domain": [
          0,
          1
         ],
         "title": {
          "text": "Difference"
         }
        },
        "yaxis2": {
         "anchor": "x2",
         "domain": [
          0,
          1
         ]
        }
       }
      }
     },
     "metadata": {},
     "output_type": "display_data"
    },
    {
     "data": {
      "application/vnd.plotly.v1+json": {
       "config": {
        "plotlyServerURL": "https://plot.ly"
       },
       "data": [
        {
         "alignmentgroup": "True",
         "boxpoints": "all",
         "fillcolor": "rgba(255,255,255,0)",
         "hoveron": "points",
         "hovertemplate": "ma=1<br>theta=%{x}<br>diff=%{y}<extra></extra>",
         "legendgroup": "1",
         "line": {
          "color": "rgba(255,255,255,0)"
         },
         "marker": {
          "color": "#636efa",
          "opacity": 0.5,
          "size": 5
         },
         "name": "1",
         "offsetgroup": "1",
         "orientation": "v",
         "pointpos": 0,
         "showlegend": true,
         "type": "box",
         "x": [
          "CSENT",
          "IPM",
          "HOUSE",
          "UNEMP",
          "LRIR",
          "CSENT",
          "IPM",
          "HOUSE",
          "UNEMP",
          "LRIR",
          "CSENT",
          "IPM",
          "HOUSE",
          "UNEMP",
          "LRIR",
          "CSENT",
          "IPM",
          "HOUSE",
          "UNEMP",
          "LRIR",
          "CSENT",
          "IPM",
          "HOUSE",
          "UNEMP",
          "LRIR",
          "CSENT",
          "IPM",
          "HOUSE",
          "UNEMP",
          "LRIR",
          "CSENT",
          "IPM",
          "HOUSE",
          "UNEMP",
          "LRIR",
          "CSENT",
          "IPM",
          "HOUSE",
          "UNEMP",
          "LRIR",
          "CSENT",
          "IPM",
          "HOUSE",
          "UNEMP",
          "LRIR",
          "CSENT",
          "IPM",
          "HOUSE",
          "UNEMP",
          "LRIR",
          "CSENT",
          "IPM",
          "HOUSE",
          "UNEMP",
          "LRIR",
          "CSENT",
          "IPM",
          "HOUSE",
          "UNEMP",
          "LRIR",
          "CSENT",
          "IPM",
          "HOUSE",
          "UNEMP",
          "LRIR",
          "CSENT",
          "IPM",
          "HOUSE",
          "UNEMP",
          "LRIR",
          "CSENT",
          "IPM",
          "HOUSE",
          "UNEMP",
          "LRIR",
          "CSENT",
          "IPM",
          "HOUSE",
          "UNEMP",
          "LRIR",
          "CSENT",
          "IPM",
          "HOUSE",
          "UNEMP",
          "LRIR",
          "CSENT",
          "IPM",
          "HOUSE",
          "UNEMP",
          "LRIR"
         ],
         "x0": " ",
         "xaxis": "x",
         "y": [
          -2.2177404144378743,
          -0.6374795109383538,
          -1.3737131231569633,
          -0.5295132252796124,
          -1.4373762074750314,
          -3.1174670744754067,
          -0.6149397561461312,
          -2.2206417257292355,
          -0.19766370943602762,
          -1.894041164971208,
          -3.1443952898567105,
          -0.7088622291996671,
          -1.8677462548636434,
          0.2612263932411869,
          -1.3447732945078688,
          -3.0515478852364115,
          -0.9825990364420543,
          -1.6750625965730706,
          0.3863028848870558,
          -1.2704119442510127,
          -3.5603831474123675,
          -1.4426980866197976,
          -1.39501475179594,
          0.49351109774953006,
          -1.596948282124531,
          -3.5971663944602295,
          -1.7633002036266054,
          -1.0653691712477436,
          0.4159638938805239,
          -1.4646336827887394,
          -1.8666628709846398,
          -0.8324067333569634,
          -1.4671224110306245,
          -0.6960334424025714,
          -1.2916662856815462,
          -2.440906375092723,
          -0.7338454093926199,
          -2.1423067901499167,
          -0.5795081710456564,
          -1.6827465352720345,
          -2.340723078015171,
          -0.8277112403464475,
          -1.9642244096092494,
          -0.2353458145447842,
          -1.2850968459443184,
          -2.023657997839864,
          -1.0109011878311964,
          -2.0270673248430215,
          -0.2695779684392061,
          -1.0380238868815894,
          -2.2132511006629203,
          -1.24366674780374,
          -1.6963566529525345,
          0.024926299044345512,
          -1.0276633177726335,
          -2.2835858181862374,
          -1.6294616531339488,
          -1.167306176247127,
          0.13769035870748603,
          -1.0163128629456644,
          -1.121386539983039,
          -0.7732590277353903,
          -1.1933344316657895,
          -0.6267771707736429,
          -1.4298500079667225,
          -1.7455873921854987,
          -0.763671637856703,
          -1.9485924147479796,
          -0.8470060513972548,
          -1.6454137002416402,
          -1.5929499139810215,
          -0.8090376292401853,
          -1.9378390213186272,
          -0.6304007215688383,
          -1.3780870563398278,
          -1.3304979801456955,
          -0.899520757244801,
          -1.9514334005430456,
          -0.5804877181202883,
          -1.0307317499858062,
          -1.4217193908616945,
          -1.2805058481363982,
          -1.7345567364804992,
          -0.40564181934005994,
          -0.8658248080820528,
          -1.3959958011250464,
          -1.5694971663699508,
          -1.1385931777352898,
          -0.27917808472544614,
          -0.6924547522296329
         ],
         "y0": " ",
         "yaxis": "y"
        },
        {
         "alignmentgroup": "True",
         "boxpoints": "all",
         "fillcolor": "rgba(255,255,255,0)",
         "hoveron": "points",
         "hovertemplate": "ma=1<br>theta=%{x}<br>diff=%{y}<extra></extra>",
         "legendgroup": "1",
         "line": {
          "color": "rgba(255,255,255,0)"
         },
         "marker": {
          "color": "#636efa",
          "opacity": 0.5,
          "size": 5
         },
         "name": "1",
         "offsetgroup": "1",
         "orientation": "v",
         "pointpos": 0,
         "showlegend": false,
         "type": "box",
         "x": [
          "CSENT",
          "IPM",
          "HOUSE",
          "UNEMP",
          "LRIR",
          "CSENT",
          "IPM",
          "HOUSE",
          "UNEMP",
          "LRIR",
          "CSENT",
          "IPM",
          "HOUSE",
          "UNEMP",
          "LRIR",
          "CSENT",
          "IPM",
          "HOUSE",
          "UNEMP",
          "LRIR",
          "CSENT",
          "IPM",
          "HOUSE",
          "UNEMP",
          "LRIR",
          "CSENT",
          "IPM",
          "HOUSE",
          "UNEMP",
          "LRIR",
          "CSENT",
          "IPM",
          "HOUSE",
          "UNEMP",
          "LRIR",
          "CSENT",
          "IPM",
          "HOUSE",
          "UNEMP",
          "LRIR",
          "CSENT",
          "IPM",
          "HOUSE",
          "UNEMP",
          "LRIR",
          "CSENT",
          "IPM",
          "HOUSE",
          "UNEMP",
          "LRIR",
          "CSENT",
          "IPM",
          "HOUSE",
          "UNEMP",
          "LRIR",
          "CSENT",
          "IPM",
          "HOUSE",
          "UNEMP",
          "LRIR",
          "CSENT",
          "IPM",
          "HOUSE",
          "UNEMP",
          "LRIR",
          "CSENT",
          "IPM",
          "HOUSE",
          "UNEMP",
          "LRIR",
          "CSENT",
          "IPM",
          "HOUSE",
          "UNEMP",
          "LRIR",
          "CSENT",
          "IPM",
          "HOUSE",
          "UNEMP",
          "LRIR",
          "CSENT",
          "IPM",
          "HOUSE",
          "UNEMP",
          "LRIR",
          "CSENT",
          "IPM",
          "HOUSE",
          "UNEMP",
          "LRIR"
         ],
         "x0": " ",
         "xaxis": "x2",
         "y": [
          0.11600595664975055,
          0.03742327591471484,
          0.07654988168121046,
          0.031316530295195766,
          0.0797270708471477,
          0.15533352787470167,
          0.036855340752231514,
          0.11869030886164478,
          0.012179724831421601,
          0.10373213432945416,
          0.15539553025581,
          0.04198885374690542,
          0.10191221904977721,
          -0.016494684831601658,
          0.07621054037213615,
          0.15144122989539566,
          0.05694302399028173,
          0.09240571179704293,
          -0.024514308631473414,
          0.072151154665553,
          0.1698626106992649,
          0.0811114460639153,
          0.07869799345792816,
          -0.03158742396189096,
          0.08879347801546944,
          0.17126716626405813,
          0.09692754769393463,
          0.0615459355592205,
          -0.02650225971123965,
          0.0822650831980718,
          0.1222923998849077,
          0.05801923428401734,
          0.0984897711547188,
          0.04889817364604765,
          0.08762858117322536,
          0.16063728907481933,
          0.053353824094457325,
          0.14356968405711656,
          0.04249402138908587,
          0.11589466530253933,
          0.1561107691012954,
          0.060249332378441434,
          0.1339808214413476,
          0.017692661792328757,
          0.09117400065449599,
          0.13703290115833788,
          0.07257254583569961,
          0.1372359612982934,
          0.02015699942111926,
          0.07440641432970829,
          0.14530744728273015,
          0.08649834874003692,
          0.11489640691581826,
          -0.0018607665734785561,
          0.07236742156122788,
          0.14910857843703917,
          0.11067342221266152,
          0.0814481636109885,
          -0.010328192240920187,
          0.07152837305545368,
          0.08848383827660111,
          0.062104269107650545,
          0.09381338779555715,
          0.05071123682662115,
          0.11103798294320044,
          0.14284868159780273,
          0.06552273092513072,
          0.15786390815479712,
          0.07238773597286474,
          0.13531670328336698,
          0.13460197937254048,
          0.07091817001097034,
          0.16105144952169181,
          0.05571310395777129,
          0.11763955012537874,
          0.1133612295802231,
          0.07820074171625269,
          0.1613912879154904,
          0.051210355911407546,
          0.08906359271481357,
          0.11831834229337002,
          0.10729317268831706,
          0.1421719369781993,
          0.03541519997621767,
          0.073990506154759,
          0.11384353886578624,
          0.1269000428581616,
          0.09402820214781127,
          0.0240179348962567,
          0.05842431561360406
         ],
         "y0": " ",
         "yaxis": "y2"
        },
        {
         "alignmentgroup": "True",
         "boxpoints": "all",
         "fillcolor": "rgba(255,255,255,0)",
         "hoveron": "points",
         "hovertemplate": "ma=2<br>theta=%{x}<br>diff=%{y}<extra></extra>",
         "legendgroup": "2",
         "line": {
          "color": "rgba(255,255,255,0)"
         },
         "marker": {
          "color": "#EF553B",
          "opacity": 0.5,
          "size": 5
         },
         "name": "2",
         "offsetgroup": "2",
         "orientation": "v",
         "pointpos": 0,
         "showlegend": true,
         "type": "box",
         "x": [
          "CSENT",
          "IPM",
          "HOUSE",
          "UNEMP",
          "LRIR",
          "CSENT",
          "IPM",
          "HOUSE",
          "UNEMP",
          "LRIR",
          "CSENT",
          "IPM",
          "HOUSE",
          "UNEMP",
          "LRIR",
          "CSENT",
          "IPM",
          "HOUSE",
          "UNEMP",
          "LRIR",
          "CSENT",
          "IPM",
          "HOUSE",
          "UNEMP",
          "LRIR",
          "CSENT",
          "IPM",
          "HOUSE",
          "UNEMP",
          "LRIR",
          "CSENT",
          "IPM",
          "HOUSE",
          "UNEMP",
          "LRIR",
          "CSENT",
          "IPM",
          "HOUSE",
          "UNEMP",
          "LRIR",
          "CSENT",
          "IPM",
          "HOUSE",
          "UNEMP",
          "LRIR",
          "CSENT",
          "IPM",
          "HOUSE",
          "UNEMP",
          "LRIR",
          "CSENT",
          "IPM",
          "HOUSE",
          "UNEMP",
          "LRIR",
          "CSENT",
          "IPM",
          "HOUSE",
          "UNEMP",
          "LRIR",
          "CSENT",
          "IPM",
          "HOUSE",
          "UNEMP",
          "LRIR",
          "CSENT",
          "IPM",
          "HOUSE",
          "UNEMP",
          "LRIR",
          "CSENT",
          "IPM",
          "HOUSE",
          "UNEMP",
          "LRIR",
          "CSENT",
          "IPM",
          "HOUSE",
          "UNEMP",
          "LRIR",
          "CSENT",
          "IPM",
          "HOUSE",
          "UNEMP",
          "LRIR",
          "CSENT",
          "IPM",
          "HOUSE",
          "UNEMP",
          "LRIR"
         ],
         "x0": " ",
         "xaxis": "x",
         "y": [
          0.08938467694074603,
          -0.12884468712444086,
          -0.06059168742911769,
          0.7276020380001853,
          0.7900131040769516,
          -1.1674854271856283,
          -0.09391297392227482,
          0.15419986902833038,
          0.5134150550514027,
          -0.033767439295144364,
          -1.81409910105367,
          0.3101493394293282,
          -0.8779142987983573,
          0.6096321319026394,
          -0.7547352700574246,
          -2.3698767447854845,
          0.2822088979315307,
          -1.1521050736063483,
          0.9400336230830293,
          -0.7223212865700575,
          -2.2604829772304162,
          0.06993591663470689,
          -0.9022965779146386,
          1.2018170417421263,
          -0.4315075393320553,
          -2.5991520307598197,
          -0.31491168977260564,
          -0.6895867070542989,
          1.2819962310409485,
          -0.6146584245952607,
          0.19366942878340776,
          -0.3046410532618351,
          -0.6203112015220951,
          0.4281780467570364,
          0.5394295612328444,
          -1.176997748428863,
          -0.600614113058362,
          -0.7854319585751233,
          -0.013301282211225285,
          -0.4284328623630671,
          -2.0364008006995977,
          -0.5268853542918057,
          -1.6347905721621796,
          -0.342183169417865,
          -1.3104703663864719,
          -2.3438779578384796,
          -0.5411743665401829,
          -1.9000077806731879,
          -0.1310204310250267,
          -1.3103213784288403,
          -2.065809586419852,
          -0.7108394034448402,
          -1.8566208879000232,
          0.010763279381292179,
          -0.9772509552580075,
          -2.030357507289339,
          -0.9182106246831383,
          -1.7104568486436031,
          0.10946711833181588,
          -0.8523956864888733,
          0.7033503514454633,
          -0.24123995813634647,
          -0.664100900097945,
          0.20043292327399342,
          0.16693907438251365,
          -0.43042118691820974,
          -0.5784688023946636,
          -0.8008200747151974,
          -0.18657284096939541,
          -0.8168989788837937,
          -1.3941588368813385,
          -0.6427335808275068,
          -1.4954993027172918,
          -0.6277708101376938,
          -1.4941639181711075,
          -1.6782267347781339,
          -0.6888359919639679,
          -1.9068327019051061,
          -0.6566938845371286,
          -1.4584121065707798,
          -1.4126851376271947,
          -0.7578029953390182,
          -1.9049058103616634,
          -0.5012315324710261,
          -1.133478485589288,
          -1.2988659099055138,
          -0.9966155302576052,
          -1.7927584952463285,
          -0.3924750162422832,
          -0.8701134025804826
         ],
         "y0": " ",
         "yaxis": "y"
        },
        {
         "alignmentgroup": "True",
         "boxpoints": "all",
         "fillcolor": "rgba(255,255,255,0)",
         "hoveron": "points",
         "hovertemplate": "ma=2<br>theta=%{x}<br>diff=%{y}<extra></extra>",
         "legendgroup": "2",
         "line": {
          "color": "rgba(255,255,255,0)"
         },
         "marker": {
          "color": "#EF553B",
          "opacity": 0.5,
          "size": 5
         },
         "name": "2",
         "offsetgroup": "2",
         "orientation": "v",
         "pointpos": 0,
         "showlegend": false,
         "type": "box",
         "x": [
          "CSENT",
          "IPM",
          "HOUSE",
          "UNEMP",
          "LRIR",
          "CSENT",
          "IPM",
          "HOUSE",
          "UNEMP",
          "LRIR",
          "CSENT",
          "IPM",
          "HOUSE",
          "UNEMP",
          "LRIR",
          "CSENT",
          "IPM",
          "HOUSE",
          "UNEMP",
          "LRIR",
          "CSENT",
          "IPM",
          "HOUSE",
          "UNEMP",
          "LRIR",
          "CSENT",
          "IPM",
          "HOUSE",
          "UNEMP",
          "LRIR",
          "CSENT",
          "IPM",
          "HOUSE",
          "UNEMP",
          "LRIR",
          "CSENT",
          "IPM",
          "HOUSE",
          "UNEMP",
          "LRIR",
          "CSENT",
          "IPM",
          "HOUSE",
          "UNEMP",
          "LRIR",
          "CSENT",
          "IPM",
          "HOUSE",
          "UNEMP",
          "LRIR",
          "CSENT",
          "IPM",
          "HOUSE",
          "UNEMP",
          "LRIR",
          "CSENT",
          "IPM",
          "HOUSE",
          "UNEMP",
          "LRIR",
          "CSENT",
          "IPM",
          "HOUSE",
          "UNEMP",
          "LRIR",
          "CSENT",
          "IPM",
          "HOUSE",
          "UNEMP",
          "LRIR",
          "CSENT",
          "IPM",
          "HOUSE",
          "UNEMP",
          "LRIR",
          "CSENT",
          "IPM",
          "HOUSE",
          "UNEMP",
          "LRIR",
          "CSENT",
          "IPM",
          "HOUSE",
          "UNEMP",
          "LRIR",
          "CSENT",
          "IPM",
          "HOUSE",
          "UNEMP",
          "LRIR"
         ],
         "x0": " ",
         "xaxis": "x2",
         "y": [
          -0.004316630832318147,
          0.006103914121009635,
          0.0028878895669742777,
          -0.0370924422730049,
          -0.04048162691861801,
          0.05505996464931018,
          0.004852407048146046,
          -0.008128034852186938,
          -0.027837063228981607,
          0.0017532643393466385,
          0.08504544474055875,
          -0.01730104302508817,
          0.044601377424874245,
          -0.03477223975461019,
          0.038733040416441544,
          0.10768688808360771,
          -0.0159565107631382,
          0.058224458719873695,
          -0.05573942378811836,
          0.03780378847659094,
          0.10374612026444552,
          -0.003891011602636274,
          0.046533994470882356,
          -0.07255144746732078,
          0.02310324041419587,
          0.11604764600162165,
          0.017064517950301616,
          0.03628843627766132,
          -0.07801928400594149,
          0.03253779824366865,
          -0.01148638917337319,
          0.017429075629846635,
          0.03466495711805395,
          -0.02581755652527251,
          -0.0327782071638445,
          0.07099175410298575,
          0.037680278419738866,
          0.04866550944945791,
          0.0008672759580025113,
          0.027188031126242573,
          0.12647936502986878,
          0.03605772357139747,
          0.10428722840242577,
          0.02368239397647165,
          0.08537927746428031,
          0.14758549231598617,
          0.038159547457581544,
          0.1231668851324409,
          0.00946352501265657,
          0.08817524099320073,
          0.13302398208667632,
          0.049799266336592374,
          0.1211771269500207,
          -0.0007865085487442913,
          0.06737497770165812,
          0.12924411490801457,
          0.0627143879308063,
          0.11116581830763039,
          -0.007946512630206515,
          0.058453484313341963,
          -0.05079787203662267,
          0.016463877152173345,
          0.044140827719404196,
          -0.01405153298875883,
          -0.011679881553250504,
          0.03234716103996238,
          0.043113672219382115,
          0.05893795893735687,
          0.01421242599533934,
          0.06006616372334417,
          0.10936281614928689,
          0.052442426892089,
          0.11667716347716361,
          0.05126093932595055,
          0.11658134047550017,
          0.13732587910014304,
          0.05921892059094791,
          0.15420750902642655,
          0.05654403406873987,
          0.12068084305824323,
          0.11835463513105116,
          0.06556310612058613,
          0.15567348543713566,
          0.043902784483416224,
          0.0962856057865733,
          0.10777426969868997,
          0.0839529000763477,
          0.14505739224420344,
          0.03405158677116915,
          0.07375631946830075
         ],
         "y0": " ",
         "yaxis": "y2"
        },
        {
         "alignmentgroup": "True",
         "boxpoints": "all",
         "fillcolor": "rgba(255,255,255,0)",
         "hoveron": "points",
         "hovertemplate": "ma=3<br>theta=%{x}<br>diff=%{y}<extra></extra>",
         "legendgroup": "3",
         "line": {
          "color": "rgba(255,255,255,0)"
         },
         "marker": {
          "color": "#00cc96",
          "opacity": 0.5,
          "size": 5
         },
         "name": "3",
         "offsetgroup": "3",
         "orientation": "v",
         "pointpos": 0,
         "showlegend": true,
         "type": "box",
         "x": [
          "CSENT",
          "IPM",
          "HOUSE",
          "UNEMP",
          "LRIR",
          "CSENT",
          "IPM",
          "HOUSE",
          "UNEMP",
          "LRIR",
          "CSENT",
          "IPM",
          "HOUSE",
          "UNEMP",
          "LRIR",
          "CSENT",
          "IPM",
          "HOUSE",
          "UNEMP",
          "LRIR",
          "CSENT",
          "IPM",
          "HOUSE",
          "UNEMP",
          "LRIR",
          "CSENT",
          "IPM",
          "HOUSE",
          "UNEMP",
          "LRIR",
          "CSENT",
          "IPM",
          "HOUSE",
          "UNEMP",
          "LRIR",
          "CSENT",
          "IPM",
          "HOUSE",
          "UNEMP",
          "LRIR",
          "CSENT",
          "IPM",
          "HOUSE",
          "UNEMP",
          "LRIR",
          "CSENT",
          "IPM",
          "HOUSE",
          "UNEMP",
          "LRIR",
          "CSENT",
          "IPM",
          "HOUSE",
          "UNEMP",
          "LRIR",
          "CSENT",
          "IPM",
          "HOUSE",
          "UNEMP",
          "LRIR",
          "CSENT",
          "IPM",
          "HOUSE",
          "UNEMP",
          "LRIR",
          "CSENT",
          "IPM",
          "HOUSE",
          "UNEMP",
          "LRIR",
          "CSENT",
          "IPM",
          "HOUSE",
          "UNEMP",
          "LRIR",
          "CSENT",
          "IPM",
          "HOUSE",
          "UNEMP",
          "LRIR",
          "CSENT",
          "IPM",
          "HOUSE",
          "UNEMP",
          "LRIR",
          "CSENT",
          "IPM",
          "HOUSE",
          "UNEMP",
          "LRIR"
         ],
         "x0": " ",
         "xaxis": "x",
         "y": [
          0.36801387208349556,
          0.4361926455813778,
          -0.3688319014406165,
          0.7783786323331912,
          0.988626689547285,
          -0.24851606263399084,
          0.5459741208658908,
          0.39369348516506,
          1.0611386251919699,
          0.743129631973451,
          -1.1489991790820673,
          0.5759864970498523,
          0.10136784492278927,
          0.9833038504001523,
          0.08767187316446279,
          -1.6586644596813747,
          0.7859935366050648,
          -0.4427506039811959,
          1.205895531875309,
          -0.17585435653982007,
          -1.9427849621791005,
          0.6383194336608051,
          -0.5636857633068413,
          1.4532717471072045,
          -0.1546783296052423,
          -2.040050455864562,
          0.3703846517359164,
          -0.2758539150414947,
          1.672333733896175,
          -0.08044795039107822,
          0.17140669291894284,
          0.09826264988351152,
          -0.8037083169456132,
          0.4477008160064484,
          0.49705711307059275,
          -0.4171667298720658,
          -0.12257182917741982,
          -0.5244354027366169,
          0.5010696270972366,
          0.17983021332329496,
          -1.5024260518004517,
          -0.3430193427777839,
          -1.0083701109722591,
          0.11661410265601191,
          -0.6576612471806431,
          -2.0555942861070537,
          -0.335325586003834,
          -1.514635499232953,
          0.0064186399903851665,
          -1.0435268575748422,
          -2.088959244418856,
          -0.4120274584926342,
          -1.7134204523323158,
          0.14463297674552855,
          -0.9438908415754321,
          -1.929271809517421,
          -0.6015565846787938,
          -1.5486090638078194,
          0.31946695162283767,
          -0.7520503614963632,
          0.5214140731823065,
          0.07994917033954341,
          -0.8364791798546864,
          0.16988161136243463,
          0.1009805682809306,
          0.16733545276185247,
          -0.21578187166359264,
          -0.6578837691006774,
          0.1390928348625522,
          -0.3199083916870551,
          -0.849273525955196,
          -0.4897629345230694,
          -1.0817819505722994,
          -0.2878890041424924,
          -1.0958577757513375,
          -1.482045110274937,
          -0.5739565392926487,
          -1.581766656773615,
          -0.5479719962014205,
          -1.369558187936864,
          -1.5349810822864178,
          -0.6571970479992402,
          -1.8541699339033162,
          -0.515008930202546,
          -1.2243344424247695,
          -1.286114132054914,
          -0.8102485486367286,
          -1.7514982184820962,
          -0.3492161026594651,
          -0.9468169615908657
         ],
         "y0": " ",
         "yaxis": "y"
        },
        {
         "alignmentgroup": "True",
         "boxpoints": "all",
         "fillcolor": "rgba(255,255,255,0)",
         "hoveron": "points",
         "hovertemplate": "ma=3<br>theta=%{x}<br>diff=%{y}<extra></extra>",
         "legendgroup": "3",
         "line": {
          "color": "rgba(255,255,255,0)"
         },
         "marker": {
          "color": "#00cc96",
          "opacity": 0.5,
          "size": 5
         },
         "name": "3",
         "offsetgroup": "3",
         "orientation": "v",
         "pointpos": 0,
         "showlegend": false,
         "type": "box",
         "x": [
          "CSENT",
          "IPM",
          "HOUSE",
          "UNEMP",
          "LRIR",
          "CSENT",
          "IPM",
          "HOUSE",
          "UNEMP",
          "LRIR",
          "CSENT",
          "IPM",
          "HOUSE",
          "UNEMP",
          "LRIR",
          "CSENT",
          "IPM",
          "HOUSE",
          "UNEMP",
          "LRIR",
          "CSENT",
          "IPM",
          "HOUSE",
          "UNEMP",
          "LRIR",
          "CSENT",
          "IPM",
          "HOUSE",
          "UNEMP",
          "LRIR",
          "CSENT",
          "IPM",
          "HOUSE",
          "UNEMP",
          "LRIR",
          "CSENT",
          "IPM",
          "HOUSE",
          "UNEMP",
          "LRIR",
          "CSENT",
          "IPM",
          "HOUSE",
          "UNEMP",
          "LRIR",
          "CSENT",
          "IPM",
          "HOUSE",
          "UNEMP",
          "LRIR",
          "CSENT",
          "IPM",
          "HOUSE",
          "UNEMP",
          "LRIR",
          "CSENT",
          "IPM",
          "HOUSE",
          "UNEMP",
          "LRIR",
          "CSENT",
          "IPM",
          "HOUSE",
          "UNEMP",
          "LRIR",
          "CSENT",
          "IPM",
          "HOUSE",
          "UNEMP",
          "LRIR",
          "CSENT",
          "IPM",
          "HOUSE",
          "UNEMP",
          "LRIR",
          "CSENT",
          "IPM",
          "HOUSE",
          "UNEMP",
          "LRIR",
          "CSENT",
          "IPM",
          "HOUSE",
          "UNEMP",
          "LRIR",
          "CSENT",
          "IPM",
          "HOUSE",
          "UNEMP",
          "LRIR"
         ],
         "x0": " ",
         "xaxis": "x2",
         "y": [
          -0.017313332858638786,
          -0.020650102124703862,
          0.016170416032953217,
          -0.03800760089048716,
          -0.04917740332328824,
          0.011085404250008812,
          -0.026235350830821402,
          -0.018657872981756807,
          -0.053361285966939676,
          -0.0363446146714731,
          0.05109705501140449,
          -0.02991724448732891,
          -0.005056792579341551,
          -0.05280808086892963,
          -0.004368361453523595,
          0.07345217474475885,
          -0.043115769255474334,
          0.021934654112283902,
          -0.06833913692498284,
          0.008915094089999243,
          0.08525048584888884,
          -0.03512876698865064,
          0.028093807779498325,
          -0.08509563488569105,
          0.007982447123762837,
          0.08815902446188151,
          -0.019865318836151058,
          0.014024591140680664,
          -0.09910673402896975,
          0.0041579823110247105,
          -0.009735531739790027,
          -0.005549863801095012,
          0.04224210469503964,
          -0.02596615875569619,
          -0.02893541530207555,
          0.023541749220040487,
          0.007073648642456298,
          0.02935118574828388,
          -0.03027221285520376,
          -0.010613912736273212,
          0.0873537082191842,
          0.021665964379943725,
          0.06078581132526262,
          -0.007597750701685557,
          0.040643449132644505,
          0.12368202038414644,
          0.022670452731334167,
          0.09467640029647051,
          -0.0004434321069988201,
          0.06735431687059856,
          0.12816173063898872,
          0.028264169450371468,
          0.1079019901216437,
          -0.010269381950251621,
          0.06257964306705144,
          0.11879286283842627,
          0.04049291778491493,
          0.09790231890730494,
          -0.022776424678053075,
          0.050133925305603566,
          -0.03646421969660196,
          -0.005437684038524404,
          0.05356020164876241,
          -0.011620786201182676,
          -0.006877351159869538,
          -0.011952498504811282,
          0.015054379531446171,
          0.04463682515372158,
          -0.009918135758301805,
          0.022174457386025637,
          0.06374223172031956,
          0.037521644031165424,
          0.08010394536906618,
          0.022307382603801162,
          0.08107943654854799,
          0.11691893003688592,
          0.04753337116719125,
          0.12410390603061083,
          0.04544298014254444,
          0.1087109821645329,
          0.12526637544185082,
          0.05612500114041252,
          0.14875743389058738,
          0.04429846546640004,
          0.10155858249299943,
          0.10579956049302663,
          0.06832023847389124,
          0.1405597269161004,
          0.030141928906458837,
          0.07927672236189542
         ],
         "y0": " ",
         "yaxis": "y2"
        },
        {
         "alignmentgroup": "True",
         "boxpoints": "all",
         "fillcolor": "rgba(255,255,255,0)",
         "hoveron": "points",
         "hovertemplate": "ma=4<br>theta=%{x}<br>diff=%{y}<extra></extra>",
         "legendgroup": "4",
         "line": {
          "color": "rgba(255,255,255,0)"
         },
         "marker": {
          "color": "#ab63fa",
          "opacity": 0.5,
          "size": 5
         },
         "name": "4",
         "offsetgroup": "4",
         "orientation": "v",
         "pointpos": 0,
         "showlegend": true,
         "type": "box",
         "x": [
          "CSENT",
          "IPM",
          "HOUSE",
          "UNEMP",
          "LRIR",
          "CSENT",
          "IPM",
          "HOUSE",
          "UNEMP",
          "LRIR",
          "CSENT",
          "IPM",
          "HOUSE",
          "UNEMP",
          "LRIR",
          "CSENT",
          "IPM",
          "HOUSE",
          "UNEMP",
          "LRIR",
          "CSENT",
          "IPM",
          "HOUSE",
          "UNEMP",
          "LRIR",
          "CSENT",
          "IPM",
          "HOUSE",
          "UNEMP",
          "LRIR",
          "CSENT",
          "IPM",
          "HOUSE",
          "UNEMP",
          "LRIR",
          "CSENT",
          "IPM",
          "HOUSE",
          "UNEMP",
          "LRIR",
          "CSENT",
          "IPM",
          "HOUSE",
          "UNEMP",
          "LRIR",
          "CSENT",
          "IPM",
          "HOUSE",
          "UNEMP",
          "LRIR",
          "CSENT",
          "IPM",
          "HOUSE",
          "UNEMP",
          "LRIR",
          "CSENT",
          "IPM",
          "HOUSE",
          "UNEMP",
          "LRIR",
          "CSENT",
          "IPM",
          "HOUSE",
          "UNEMP",
          "LRIR",
          "CSENT",
          "IPM",
          "HOUSE",
          "UNEMP",
          "LRIR",
          "CSENT",
          "IPM",
          "HOUSE",
          "UNEMP",
          "LRIR",
          "CSENT",
          "IPM",
          "HOUSE",
          "UNEMP",
          "LRIR",
          "CSENT",
          "IPM",
          "HOUSE",
          "UNEMP",
          "LRIR",
          "CSENT",
          "IPM",
          "HOUSE",
          "UNEMP",
          "LRIR"
         ],
         "x0": " ",
         "xaxis": "x",
         "y": [
          0.11971031268949872,
          1.0382993689294366,
          -0.6943458168918806,
          0.7222893639159418,
          0.8582820725921998,
          0.04929595531506159,
          0.9106918009871423,
          0.15967432070393084,
          1.0556434597103141,
          0.9946729860718149,
          -0.5299013083728887,
          0.9540115629997423,
          0.3330343184907383,
          1.2462303140634052,
          0.6299669730113937,
          -1.2302954360335265,
          0.9258172324377902,
          0.20629714518480569,
          1.3115490901831324,
          0.33167105395060137,
          -1.528038020674197,
          0.9745418666686536,
          -0.11174885554313008,
          1.5055285771894305,
          0.14550977700407408,
          -1.811592196738815,
          0.7639480154197607,
          -0.09918047715489564,
          1.7527519420831057,
          0.09177111838938767,
          -0.11304052171923118,
          0.6345559254979669,
          -0.9774366749322381,
          0.4342501252452706,
          0.3671282365648132,
          -0.16051350923328567,
          0.3384971592289041,
          -0.5505395728353779,
          0.6085920858561487,
          0.3970576325191235,
          -0.8452290485179521,
          0.1042638759491048,
          -0.668704119088626,
          0.5217051584830994,
          -0.09331188426652748,
          -1.6236958268925124,
          -0.12111225585294783,
          -1.0071066310564243,
          0.2864021048626384,
          -0.5369341445712283,
          -1.8776053349064998,
          -0.18074925056675362,
          -1.3648133269598537,
          0.25228422818524976,
          -0.7427378188024525,
          -1.861345347190384,
          -0.2741926096232552,
          -1.3948543568812601,
          0.4563218462383709,
          -0.6584556270914295,
          0.18075842861017577,
          0.5038624832380627,
          -1.0071159335965234,
          0.14303737829088803,
          -0.05233366880560908,
          0.25288459045305967,
          0.10932341414912727,
          -0.735720628484672,
          0.22311783013298125,
          -0.16687041682899206,
          -0.3008402694451373,
          -0.16387674988121947,
          -0.8590549212815013,
          0.02758680696901905,
          -0.666206399646339,
          -1.0904703332677599,
          -0.439017647496728,
          -1.227431266345711,
          -0.30289910826129507,
          -1.0932806711539378,
          -1.4497898673933562,
          -0.5491662102566295,
          -1.602097250577457,
          -0.46382307123616684,
          -1.2030257719364421,
          -1.3626373250732673,
          -0.6747237087342057,
          -1.7150859505420222,
          -0.36039287747781223,
          -1.02125738394958
         ],
         "y0": " ",
         "yaxis": "y"
        },
        {
         "alignmentgroup": "True",
         "boxpoints": "all",
         "fillcolor": "rgba(255,255,255,0)",
         "hoveron": "points",
         "hovertemplate": "ma=4<br>theta=%{x}<br>diff=%{y}<extra></extra>",
         "legendgroup": "4",
         "line": {
          "color": "rgba(255,255,255,0)"
         },
         "marker": {
          "color": "#ab63fa",
          "opacity": 0.5,
          "size": 5
         },
         "name": "4",
         "offsetgroup": "4",
         "orientation": "v",
         "pointpos": 0,
         "showlegend": false,
         "type": "box",
         "x": [
          "CSENT",
          "IPM",
          "HOUSE",
          "UNEMP",
          "LRIR",
          "CSENT",
          "IPM",
          "HOUSE",
          "UNEMP",
          "LRIR",
          "CSENT",
          "IPM",
          "HOUSE",
          "UNEMP",
          "LRIR",
          "CSENT",
          "IPM",
          "HOUSE",
          "UNEMP",
          "LRIR",
          "CSENT",
          "IPM",
          "HOUSE",
          "UNEMP",
          "LRIR",
          "CSENT",
          "IPM",
          "HOUSE",
          "UNEMP",
          "LRIR",
          "CSENT",
          "IPM",
          "HOUSE",
          "UNEMP",
          "LRIR",
          "CSENT",
          "IPM",
          "HOUSE",
          "UNEMP",
          "LRIR",
          "CSENT",
          "IPM",
          "HOUSE",
          "UNEMP",
          "LRIR",
          "CSENT",
          "IPM",
          "HOUSE",
          "UNEMP",
          "LRIR",
          "CSENT",
          "IPM",
          "HOUSE",
          "UNEMP",
          "LRIR",
          "CSENT",
          "IPM",
          "HOUSE",
          "UNEMP",
          "LRIR",
          "CSENT",
          "IPM",
          "HOUSE",
          "UNEMP",
          "LRIR",
          "CSENT",
          "IPM",
          "HOUSE",
          "UNEMP",
          "LRIR",
          "CSENT",
          "IPM",
          "HOUSE",
          "UNEMP",
          "LRIR",
          "CSENT",
          "IPM",
          "HOUSE",
          "UNEMP",
          "LRIR",
          "CSENT",
          "IPM",
          "HOUSE",
          "UNEMP",
          "LRIR",
          "CSENT",
          "IPM",
          "HOUSE",
          "UNEMP",
          "LRIR"
         ],
         "x0": " ",
         "xaxis": "x2",
         "y": [
          -0.005402053268533935,
          -0.05112883240246313,
          0.02879987828898145,
          -0.03454465090483305,
          -0.04157182214014843,
          -0.002154668484503852,
          -0.043314021254853285,
          -0.00705800860823369,
          -0.05089257742590769,
          -0.0476819353810044,
          0.022637769677748,
          -0.0470775651527241,
          -0.015510759871212976,
          -0.0631238342516629,
          -0.030175401671153956,
          0.05287222845162509,
          -0.04869246657376214,
          -0.010187804750878326,
          -0.07123660186068348,
          -0.01656479480833295,
          0.06631791270809595,
          -0.05317866842184105,
          0.005556214534508719,
          -0.08572068197614158,
          -0.007401864875343223,
          0.07683662304077765,
          -0.041188929524555884,
          0.0049651000434230985,
          -0.10224108055975345,
          -0.004672437304172217,
          0.0061857251679872105,
          -0.03684979797815102,
          0.0497000824834366,
          -0.02482785335018567,
          -0.020879781943350828,
          0.008681200822761692,
          -0.019062770225564796,
          0.028814923788162194,
          -0.03500863350547734,
          -0.022464656338888167,
          0.04625688206544254,
          -0.006148115367108908,
          0.03712330153073262,
          -0.0317357998962261,
          0.005419986213388572,
          0.09279787595585876,
          0.007733689812087441,
          0.060328678002893876,
          -0.01880904184158938,
          0.033290182314652084,
          0.1111495159547693,
          0.012068501641709473,
          0.08391650127271044,
          -0.01733233342634788,
          0.04772949332694332,
          0.1107879115190793,
          0.018263518176113602,
          0.08592808908455185,
          -0.03188354175838459,
          0.042728690917462786,
          -0.012372420514363158,
          -0.03521762631785008,
          0.06357278835832947,
          -0.009766336744982729,
          0.003527426669747813,
          -0.017418115355750885,
          -0.007459749514505232,
          0.04742153960667661,
          -0.01533814263064781,
          0.011180359823167452,
          0.0214826852491532,
          0.011802491207215438,
          0.05920289035386517,
          -0.0020104021165323616,
          0.04648618049170272,
          0.08259452754372898,
          0.034528018673708916,
          0.09221826835436997,
          0.024006453892739588,
          0.0827936815492738,
          0.11473910594394077,
          0.04566905000060706,
          0.12570415739886098,
          0.038748488999078456,
          0.09653441300192556,
          0.11002688012225303,
          0.05655376589044159,
          0.1357860078293598,
          0.030713194392285592,
          0.0840189391824806
         ],
         "y0": " ",
         "yaxis": "y2"
        },
        {
         "alignmentgroup": "True",
         "boxpoints": "all",
         "fillcolor": "rgba(255,255,255,0)",
         "hoveron": "points",
         "hovertemplate": "ma=5<br>theta=%{x}<br>diff=%{y}<extra></extra>",
         "legendgroup": "5",
         "line": {
          "color": "rgba(255,255,255,0)"
         },
         "marker": {
          "color": "#FFA15A",
          "opacity": 0.5,
          "size": 5
         },
         "name": "5",
         "offsetgroup": "5",
         "orientation": "v",
         "pointpos": 0,
         "showlegend": true,
         "type": "box",
         "x": [
          "CSENT",
          "IPM",
          "HOUSE",
          "UNEMP",
          "LRIR",
          "CSENT",
          "IPM",
          "HOUSE",
          "UNEMP",
          "LRIR",
          "CSENT",
          "IPM",
          "HOUSE",
          "UNEMP",
          "LRIR",
          "CSENT",
          "IPM",
          "HOUSE",
          "UNEMP",
          "LRIR",
          "CSENT",
          "IPM",
          "HOUSE",
          "UNEMP",
          "LRIR",
          "CSENT",
          "IPM",
          "HOUSE",
          "UNEMP",
          "LRIR",
          "CSENT",
          "IPM",
          "HOUSE",
          "UNEMP",
          "LRIR",
          "CSENT",
          "IPM",
          "HOUSE",
          "UNEMP",
          "LRIR",
          "CSENT",
          "IPM",
          "HOUSE",
          "UNEMP",
          "LRIR",
          "CSENT",
          "IPM",
          "HOUSE",
          "UNEMP",
          "LRIR",
          "CSENT",
          "IPM",
          "HOUSE",
          "UNEMP",
          "LRIR",
          "CSENT",
          "IPM",
          "HOUSE",
          "UNEMP",
          "LRIR",
          "CSENT",
          "IPM",
          "HOUSE",
          "UNEMP",
          "LRIR",
          "CSENT",
          "IPM",
          "HOUSE",
          "UNEMP",
          "LRIR",
          "CSENT",
          "IPM",
          "HOUSE",
          "UNEMP",
          "LRIR",
          "CSENT",
          "IPM",
          "HOUSE",
          "UNEMP",
          "LRIR",
          "CSENT",
          "IPM",
          "HOUSE",
          "UNEMP",
          "LRIR",
          "CSENT",
          "IPM",
          "HOUSE",
          "UNEMP",
          "LRIR"
         ],
         "x0": " ",
         "xaxis": "x",
         "y": [
          -0.11119860285460614,
          1.4196168892204515,
          -0.8721128525605883,
          0.7925853758078301,
          0.821937441688898,
          0.0005127506335496079,
          1.3940601909248382,
          -0.1723188141496692,
          0.9702724719140283,
          0.9672309138275947,
          -0.2250225892237605,
          1.2433820933584254,
          0.20449332118387797,
          1.197108640191498,
          0.9012673817614063,
          -0.7453880309799157,
          1.217071324241406,
          0.3937156313596537,
          1.4250015326115992,
          0.7317547938628417,
          -1.2490998108426816,
          1.0686958242494988,
          0.3464741112201306,
          1.5101260382035901,
          0.48619036662123793,
          -1.501054040853354,
          1.0562316375575937,
          0.1936586429878524,
          1.7409822301687177,
          0.3155587528005963,
          -0.3604476987254257,
          0.8675036588797527,
          -1.0896100332738774,
          0.4956473665788348,
          0.30179290413550675,
          -0.23350094825883616,
          0.8283030474786379,
          -0.6884927736090951,
          0.6119254183944358,
          0.39810919960413127,
          -0.5053065712860887,
          0.540499764579093,
          -0.5831386168390127,
          0.6340869239172857,
          0.21494889517432103,
          -1.1191544655127954,
          0.2597364044354995,
          -0.6903555717131944,
          0.5696878436519865,
          -0.07718235306833954,
          -1.577703772523896,
          0.009193191299421422,
          -0.9467912616758465,
          0.4231814309129218,
          -0.38881580629744494,
          -1.695422229069612,
          -0.032479349943081104,
          -1.126324464766264,
          0.49058018715429164,
          -0.5124351332737271,
          -0.13111598230371424,
          0.7077288869070255,
          -1.1277545071898425,
          0.20884877190660767,
          -0.14373155985190245,
          0.10106241937654303,
          0.518315420423396,
          -0.8733355927528343,
          0.25228327458752275,
          -0.1798662551236916,
          -0.08127478531486254,
          0.1681659623939451,
          -0.8239558208818023,
          0.1596108774538436,
          -0.4241039002970721,
          -0.6358055998213548,
          -0.14051129460644418,
          -0.9925094908678957,
          -0.038150308037927516,
          -0.7525114529723158,
          -1.1791668731642169,
          -0.42802716671901386,
          -1.3007908289309134,
          -0.28466185721316606,
          -1.0257755171433391,
          -1.3125839004250928,
          -0.5530524305376225,
          -1.5241033645325874,
          -0.3372254706421991,
          -1.0304273510895783
         ],
         "y0": " ",
         "yaxis": "y"
        },
        {
         "alignmentgroup": "True",
         "boxpoints": "all",
         "fillcolor": "rgba(255,255,255,0)",
         "hoveron": "points",
         "hovertemplate": "ma=5<br>theta=%{x}<br>diff=%{y}<extra></extra>",
         "legendgroup": "5",
         "line": {
          "color": "rgba(255,255,255,0)"
         },
         "marker": {
          "color": "#FFA15A",
          "opacity": 0.5,
          "size": 5
         },
         "name": "5",
         "offsetgroup": "5",
         "orientation": "v",
         "pointpos": 0,
         "showlegend": false,
         "type": "box",
         "x": [
          "CSENT",
          "IPM",
          "HOUSE",
          "UNEMP",
          "LRIR",
          "CSENT",
          "IPM",
          "HOUSE",
          "UNEMP",
          "LRIR",
          "CSENT",
          "IPM",
          "HOUSE",
          "UNEMP",
          "LRIR",
          "CSENT",
          "IPM",
          "HOUSE",
          "UNEMP",
          "LRIR",
          "CSENT",
          "IPM",
          "HOUSE",
          "UNEMP",
          "LRIR",
          "CSENT",
          "IPM",
          "HOUSE",
          "UNEMP",
          "LRIR",
          "CSENT",
          "IPM",
          "HOUSE",
          "UNEMP",
          "LRIR",
          "CSENT",
          "IPM",
          "HOUSE",
          "UNEMP",
          "LRIR",
          "CSENT",
          "IPM",
          "HOUSE",
          "UNEMP",
          "LRIR",
          "CSENT",
          "IPM",
          "HOUSE",
          "UNEMP",
          "LRIR",
          "CSENT",
          "IPM",
          "HOUSE",
          "UNEMP",
          "LRIR",
          "CSENT",
          "IPM",
          "HOUSE",
          "UNEMP",
          "LRIR",
          "CSENT",
          "IPM",
          "HOUSE",
          "UNEMP",
          "LRIR",
          "CSENT",
          "IPM",
          "HOUSE",
          "UNEMP",
          "LRIR",
          "CSENT",
          "IPM",
          "HOUSE",
          "UNEMP",
          "LRIR",
          "CSENT",
          "IPM",
          "HOUSE",
          "UNEMP",
          "LRIR",
          "CSENT",
          "IPM",
          "HOUSE",
          "UNEMP",
          "LRIR",
          "CSENT",
          "IPM",
          "HOUSE",
          "UNEMP",
          "LRIR"
         ],
         "x0": " ",
         "xaxis": "x2",
         "y": [
          0.004849246022819331,
          -0.07195111500549745,
          0.03496504755659369,
          -0.03787422662502293,
          -0.039388330133774074,
          -0.00002186794729386321,
          -0.06841480951465584,
          0.007211738244457533,
          -0.04572045081876619,
          -0.04556355957107305,
          0.009442941387393655,
          -0.06058864092538829,
          -0.008986062617173718,
          -0.058078601921845,
          -0.04249735560072054,
          0.031043729220962435,
          -0.061689869862375124,
          -0.018463151416093893,
          -0.07359406745399011,
          -0.035454762919312044,
          0.05311120652186241,
          -0.056856668570973934,
          -0.01727981407977275,
          -0.08341392146251236,
          -0.024560999564202546,
          0.06348882377903875,
          -0.05713061348792525,
          -0.00970449333714496,
          -0.09966570572019717,
          -0.01599045980935121,
          0.019347659665258643,
          -0.05148779151781835,
          0.05481496165386579,
          -0.028565720434121977,
          -0.01712290330385169,
          0.012269762381514115,
          -0.047581401570549464,
          0.034733313984059544,
          -0.03454099392542298,
          -0.022079216205357355,
          0.02657089156723158,
          -0.031025448371887254,
          0.030454505659952336,
          -0.03667085520676405,
          -0.012016008202005324,
          0.06064324999086457,
          -0.015723937584537495,
          0.03877159972518052,
          -0.035301131134049646,
          0.0045526903689994125,
          0.08985013170989076,
          -0.000590788312915258,
          0.0566727551017181,
          -0.028002627781976708,
          0.02427350793240679,
          0.09870277228422919,
          0.002139930883678365,
          0.06852740369221078,
          -0.03350563653503058,
          0.03262806293974496,
          0.00887802683950667,
          -0.05066484876307786,
          0.07116731604910553,
          -0.01446954015640034,
          0.009723863456171267,
          -0.006804493852924365,
          -0.035895500236816535,
          0.05487628781251086,
          -0.017162102056517803,
          0.01187726207417017,
          0.0055807878591358495,
          -0.011740467877468297,
          0.05375848057472121,
          -0.011136906232279031,
          0.02845158953556548,
          0.04593819284867595,
          0.01047277781231748,
          0.0700800157504089,
          0.0028614578753380915,
          0.05396589360823478,
          0.09020664482596663,
          0.03422599346069388,
          0.09878176538132433,
          0.022950277464586333,
          0.07919733407181817,
          0.10366460654785281,
          0.04561581503048373,
          0.118883241543291,
          0.02815002375688236,
          0.0827213423609614
         ],
         "y0": " ",
         "yaxis": "y2"
        },
        {
         "alignmentgroup": "True",
         "boxpoints": "all",
         "fillcolor": "rgba(255,255,255,0)",
         "hoveron": "points",
         "hovertemplate": "ma=6<br>theta=%{x}<br>diff=%{y}<extra></extra>",
         "legendgroup": "6",
         "line": {
          "color": "rgba(255,255,255,0)"
         },
         "marker": {
          "color": "#19d3f3",
          "opacity": 0.5,
          "size": 5
         },
         "name": "6",
         "offsetgroup": "6",
         "orientation": "v",
         "pointpos": 0,
         "showlegend": true,
         "type": "box",
         "x": [
          "CSENT",
          "IPM",
          "HOUSE",
          "UNEMP",
          "LRIR",
          "CSENT",
          "IPM",
          "HOUSE",
          "UNEMP",
          "LRIR",
          "CSENT",
          "IPM",
          "HOUSE",
          "UNEMP",
          "LRIR",
          "CSENT",
          "IPM",
          "HOUSE",
          "UNEMP",
          "LRIR",
          "CSENT",
          "IPM",
          "HOUSE",
          "UNEMP",
          "LRIR",
          "CSENT",
          "IPM",
          "HOUSE",
          "UNEMP",
          "LRIR",
          "CSENT",
          "IPM",
          "HOUSE",
          "UNEMP",
          "LRIR",
          "CSENT",
          "IPM",
          "HOUSE",
          "UNEMP",
          "LRIR",
          "CSENT",
          "IPM",
          "HOUSE",
          "UNEMP",
          "LRIR",
          "CSENT",
          "IPM",
          "HOUSE",
          "UNEMP",
          "LRIR",
          "CSENT",
          "IPM",
          "HOUSE",
          "UNEMP",
          "LRIR",
          "CSENT",
          "IPM",
          "HOUSE",
          "UNEMP",
          "LRIR",
          "CSENT",
          "IPM",
          "HOUSE",
          "UNEMP",
          "LRIR",
          "CSENT",
          "IPM",
          "HOUSE",
          "UNEMP",
          "LRIR",
          "CSENT",
          "IPM",
          "HOUSE",
          "UNEMP",
          "LRIR",
          "CSENT",
          "IPM",
          "HOUSE",
          "UNEMP",
          "LRIR",
          "CSENT",
          "IPM",
          "HOUSE",
          "UNEMP",
          "LRIR",
          "CSENT",
          "IPM",
          "HOUSE",
          "UNEMP",
          "LRIR"
         ],
         "x0": " ",
         "xaxis": "x",
         "y": [
          -0.3270736055469152,
          1.7632732408346428,
          -0.9143099362185336,
          0.9147157260039336,
          0.7544138198913846,
          -0.11961278983974477,
          1.716755730300755,
          -0.3599678687580372,
          1.018010291233752,
          0.9682145410949614,
          -0.16367035016706133,
          1.640364420576053,
          0.008753820991709738,
          1.1394656642741632,
          0.9479970548963159,
          -0.459289485301408,
          1.452547183920978,
          0.36043652727328546,
          1.3776333788708515,
          0.9702139693891016,
          -0.8957188138786227,
          1.2935689549997376,
          0.5291585602836513,
          1.5560590333440452,
          0.7784991856844625,
          -1.2460329558955507,
          1.1439234407188907,
          0.5896601818852432,
          1.7055793014381022,
          0.591251007032584,
          -0.6140992895257664,
          1.162016529027139,
          -1.11818200984714,
          0.5542782995119087,
          0.1549509351570979,
          -0.3632807520310104,
          1.059030259062828,
          -0.8033142574040877,
          0.6719324408972422,
          0.38660482258398243,
          -0.4330685207430047,
          1.014017741645378,
          -0.6191487632765815,
          0.6868741564347252,
          0.30922965825341553,
          -0.7746538117157256,
          0.6584139366037007,
          -0.5489069846255594,
          0.6767856058583099,
          0.22355546820805827,
          -1.2012177728732283,
          0.34809008674665964,
          -0.6524010650573411,
          0.6262852768383951,
          -0.028671499604191908,
          -1.4490878127654385,
          0.134801916954431,
          -0.7646705960759173,
          0.6109848959566895,
          -0.24822403711663288,
          -0.4303659378396274,
          0.9359794198500984,
          -1.1845427897613918,
          0.27210745691395566,
          -0.3096131185620381,
          -0.09717924108462395,
          0.7489654027861787,
          -0.9767002044154385,
          0.33571850051925267,
          -0.2023905212817887,
          -0.07452661596516297,
          0.58048685145428,
          -0.8681157324685014,
          0.2532245409089606,
          -0.3468390384565385,
          -0.37576638760484027,
          0.19143991085231793,
          -0.8897544771978874,
          0.09869657369477913,
          -0.505891474106491,
          -0.8284424890955622,
          -0.1519828655555706,
          -1.0686893395751094,
          -0.07846873185001435,
          -0.762307656047879,
          -1.1051498012952354,
          -0.41035034016012517,
          -1.2497066151197904,
          -0.22631432089514192,
          -0.9173028845769879
         ],
         "y0": " ",
         "yaxis": "y"
        },
        {
         "alignmentgroup": "True",
         "boxpoints": "all",
         "fillcolor": "rgba(255,255,255,0)",
         "hoveron": "points",
         "hovertemplate": "ma=6<br>theta=%{x}<br>diff=%{y}<extra></extra>",
         "legendgroup": "6",
         "line": {
          "color": "rgba(255,255,255,0)"
         },
         "marker": {
          "color": "#19d3f3",
          "opacity": 0.5,
          "size": 5
         },
         "name": "6",
         "offsetgroup": "6",
         "orientation": "v",
         "pointpos": 0,
         "showlegend": false,
         "type": "box",
         "x": [
          "CSENT",
          "IPM",
          "HOUSE",
          "UNEMP",
          "LRIR",
          "CSENT",
          "IPM",
          "HOUSE",
          "UNEMP",
          "LRIR",
          "CSENT",
          "IPM",
          "HOUSE",
          "UNEMP",
          "LRIR",
          "CSENT",
          "IPM",
          "HOUSE",
          "UNEMP",
          "LRIR",
          "CSENT",
          "IPM",
          "HOUSE",
          "UNEMP",
          "LRIR",
          "CSENT",
          "IPM",
          "HOUSE",
          "UNEMP",
          "LRIR",
          "CSENT",
          "IPM",
          "HOUSE",
          "UNEMP",
          "LRIR",
          "CSENT",
          "IPM",
          "HOUSE",
          "UNEMP",
          "LRIR",
          "CSENT",
          "IPM",
          "HOUSE",
          "UNEMP",
          "LRIR",
          "CSENT",
          "IPM",
          "HOUSE",
          "UNEMP",
          "LRIR",
          "CSENT",
          "IPM",
          "HOUSE",
          "UNEMP",
          "LRIR",
          "CSENT",
          "IPM",
          "HOUSE",
          "UNEMP",
          "LRIR",
          "CSENT",
          "IPM",
          "HOUSE",
          "UNEMP",
          "LRIR",
          "CSENT",
          "IPM",
          "HOUSE",
          "UNEMP",
          "LRIR",
          "CSENT",
          "IPM",
          "HOUSE",
          "UNEMP",
          "LRIR",
          "CSENT",
          "IPM",
          "HOUSE",
          "UNEMP",
          "LRIR",
          "CSENT",
          "IPM",
          "HOUSE",
          "UNEMP",
          "LRIR",
          "CSENT",
          "IPM",
          "HOUSE",
          "UNEMP",
          "LRIR"
         ],
         "x0": " ",
         "xaxis": "x2",
         "y": [
          0.013690570482944087,
          -0.09138112714612345,
          0.035710911817076085,
          -0.04370394623141094,
          -0.035468303281499414,
          0.004977914461959054,
          -0.08645350382338446,
          0.01456888428680414,
          -0.04787945075018629,
          -0.0453079276534295,
          0.00674110392514371,
          -0.08164117407417337,
          -0.00036772546930385897,
          -0.05399587802639372,
          -0.04405917305156004,
          0.018789745119513923,
          -0.07263975658677602,
          -0.016151659918368533,
          -0.06840229958719668,
          -0.046292014593015574,
          0.03701024615304738,
          -0.06693214420328586,
          -0.02545404966953435,
          -0.08245859490208274,
          -0.03837221494091514,
          0.05212047009573617,
          -0.06087510689735276,
          -0.02982222971919457,
          -0.09532836663839717,
          -0.029907167525402012,
          0.03202742879412612,
          -0.07044396188642288,
          0.05562954897677286,
          -0.03199539488555059,
          -0.008649422728608802,
          0.01880759573831914,
          -0.06199796688714543,
          0.03990608728683864,
          -0.03809822470563706,
          -0.021395186300058988,
          0.022139398846842684,
          -0.05882009646759834,
          0.03110408152815547,
          -0.03877440149719347,
          -0.016900574839114335,
          0.04031119980236619,
          -0.03875253072652274,
          0.029153538543851276,
          -0.03989300892624936,
          -0.012695265106977605,
          0.06523935414856785,
          -0.02147272322376992,
          0.03713723006719216,
          -0.039463327749241106,
          0.0017172364322129985,
          0.08187722974999756,
          -0.008633933222555235,
          0.04569939460679706,
          -0.04051918112160058,
          0.015445520474349439,
          0.028658447312703506,
          -0.06842545756894491,
          0.07462016010221606,
          -0.019031286062362263,
          0.02079567324423326,
          0.006467999842655225,
          -0.05286599368001077,
          0.06091737927746188,
          -0.02303638730484525,
          0.01336922588319045,
          0.0049858684030616995,
          -0.04064387091099253,
          0.05479967098654903,
          -0.017335714128656643,
          0.022754349173953248,
          0.02607064764953748,
          -0.013798828701083066,
          0.05955479253504081,
          -0.007070406953572528,
          0.03478544902503988,
          0.06068502830548317,
          0.011622520464354746,
          0.07706119707296555,
          0.006028169745454504,
          0.056080548725826906,
          0.0848638028144193,
          0.03286897264564448,
          0.09510351184142285,
          0.018326168938535004,
          0.07126013117292773
         ],
         "y0": " ",
         "yaxis": "y2"
        }
       ],
       "layout": {
        "annotations": [
         {
          "font": {
           "color": "grey",
           "size": 11
          },
          "showarrow": false,
          "text": "RMSE",
          "x": 0.225,
          "xanchor": "center",
          "xref": "paper",
          "y": 0.95,
          "yanchor": "bottom",
          "yref": "paper"
         },
         {
          "font": {
           "color": "grey",
           "size": 11
          },
          "showarrow": false,
          "text": "Adj-R2",
          "x": 0.775,
          "xanchor": "center",
          "xref": "paper",
          "y": 0.95,
          "yanchor": "bottom",
          "yref": "paper"
         }
        ],
        "height": 400,
        "legend": {
         "orientation": "h",
         "title": {
          "text": "Moving Averages:"
         },
         "x": 0.5,
         "xanchor": "center",
         "y": -0.1,
         "yanchor": "top"
        },
        "margin": {
         "b": 60,
         "l": 80,
         "r": 40,
         "t": 80
        },
        "template": {
         "data": {
          "bar": [
           {
            "error_x": {
             "color": "#f2f5fa"
            },
            "error_y": {
             "color": "#f2f5fa"
            },
            "marker": {
             "line": {
              "color": "rgb(17,17,17)",
              "width": 0.5
             },
             "pattern": {
              "fillmode": "overlay",
              "size": 10,
              "solidity": 0.2
             }
            },
            "type": "bar"
           }
          ],
          "barpolar": [
           {
            "marker": {
             "line": {
              "color": "rgb(17,17,17)",
              "width": 0.5
             },
             "pattern": {
              "fillmode": "overlay",
              "size": 10,
              "solidity": 0.2
             }
            },
            "type": "barpolar"
           }
          ],
          "carpet": [
           {
            "aaxis": {
             "endlinecolor": "#A2B1C6",
             "gridcolor": "#506784",
             "linecolor": "#506784",
             "minorgridcolor": "#506784",
             "startlinecolor": "#A2B1C6"
            },
            "baxis": {
             "endlinecolor": "#A2B1C6",
             "gridcolor": "#506784",
             "linecolor": "#506784",
             "minorgridcolor": "#506784",
             "startlinecolor": "#A2B1C6"
            },
            "type": "carpet"
           }
          ],
          "choropleth": [
           {
            "colorbar": {
             "outlinewidth": 0,
             "ticks": ""
            },
            "type": "choropleth"
           }
          ],
          "contour": [
           {
            "colorbar": {
             "outlinewidth": 0,
             "ticks": ""
            },
            "colorscale": [
             [
              0,
              "#0d0887"
             ],
             [
              0.1111111111111111,
              "#46039f"
             ],
             [
              0.2222222222222222,
              "#7201a8"
             ],
             [
              0.3333333333333333,
              "#9c179e"
             ],
             [
              0.4444444444444444,
              "#bd3786"
             ],
             [
              0.5555555555555556,
              "#d8576b"
             ],
             [
              0.6666666666666666,
              "#ed7953"
             ],
             [
              0.7777777777777778,
              "#fb9f3a"
             ],
             [
              0.8888888888888888,
              "#fdca26"
             ],
             [
              1,
              "#f0f921"
             ]
            ],
            "type": "contour"
           }
          ],
          "contourcarpet": [
           {
            "colorbar": {
             "outlinewidth": 0,
             "ticks": ""
            },
            "type": "contourcarpet"
           }
          ],
          "heatmap": [
           {
            "colorbar": {
             "outlinewidth": 0,
             "ticks": ""
            },
            "colorscale": [
             [
              0,
              "#0d0887"
             ],
             [
              0.1111111111111111,
              "#46039f"
             ],
             [
              0.2222222222222222,
              "#7201a8"
             ],
             [
              0.3333333333333333,
              "#9c179e"
             ],
             [
              0.4444444444444444,
              "#bd3786"
             ],
             [
              0.5555555555555556,
              "#d8576b"
             ],
             [
              0.6666666666666666,
              "#ed7953"
             ],
             [
              0.7777777777777778,
              "#fb9f3a"
             ],
             [
              0.8888888888888888,
              "#fdca26"
             ],
             [
              1,
              "#f0f921"
             ]
            ],
            "type": "heatmap"
           }
          ],
          "heatmapgl": [
           {
            "colorbar": {
             "outlinewidth": 0,
             "ticks": ""
            },
            "colorscale": [
             [
              0,
              "#0d0887"
             ],
             [
              0.1111111111111111,
              "#46039f"
             ],
             [
              0.2222222222222222,
              "#7201a8"
             ],
             [
              0.3333333333333333,
              "#9c179e"
             ],
             [
              0.4444444444444444,
              "#bd3786"
             ],
             [
              0.5555555555555556,
              "#d8576b"
             ],
             [
              0.6666666666666666,
              "#ed7953"
             ],
             [
              0.7777777777777778,
              "#fb9f3a"
             ],
             [
              0.8888888888888888,
              "#fdca26"
             ],
             [
              1,
              "#f0f921"
             ]
            ],
            "type": "heatmapgl"
           }
          ],
          "histogram": [
           {
            "marker": {
             "pattern": {
              "fillmode": "overlay",
              "size": 10,
              "solidity": 0.2
             }
            },
            "type": "histogram"
           }
          ],
          "histogram2d": [
           {
            "colorbar": {
             "outlinewidth": 0,
             "ticks": ""
            },
            "colorscale": [
             [
              0,
              "#0d0887"
             ],
             [
              0.1111111111111111,
              "#46039f"
             ],
             [
              0.2222222222222222,
              "#7201a8"
             ],
             [
              0.3333333333333333,
              "#9c179e"
             ],
             [
              0.4444444444444444,
              "#bd3786"
             ],
             [
              0.5555555555555556,
              "#d8576b"
             ],
             [
              0.6666666666666666,
              "#ed7953"
             ],
             [
              0.7777777777777778,
              "#fb9f3a"
             ],
             [
              0.8888888888888888,
              "#fdca26"
             ],
             [
              1,
              "#f0f921"
             ]
            ],
            "type": "histogram2d"
           }
          ],
          "histogram2dcontour": [
           {
            "colorbar": {
             "outlinewidth": 0,
             "ticks": ""
            },
            "colorscale": [
             [
              0,
              "#0d0887"
             ],
             [
              0.1111111111111111,
              "#46039f"
             ],
             [
              0.2222222222222222,
              "#7201a8"
             ],
             [
              0.3333333333333333,
              "#9c179e"
             ],
             [
              0.4444444444444444,
              "#bd3786"
             ],
             [
              0.5555555555555556,
              "#d8576b"
             ],
             [
              0.6666666666666666,
              "#ed7953"
             ],
             [
              0.7777777777777778,
              "#fb9f3a"
             ],
             [
              0.8888888888888888,
              "#fdca26"
             ],
             [
              1,
              "#f0f921"
             ]
            ],
            "type": "histogram2dcontour"
           }
          ],
          "mesh3d": [
           {
            "colorbar": {
             "outlinewidth": 0,
             "ticks": ""
            },
            "type": "mesh3d"
           }
          ],
          "parcoords": [
           {
            "line": {
             "colorbar": {
              "outlinewidth": 0,
              "ticks": ""
             }
            },
            "type": "parcoords"
           }
          ],
          "pie": [
           {
            "automargin": true,
            "type": "pie"
           }
          ],
          "scatter": [
           {
            "marker": {
             "line": {
              "color": "#283442"
             }
            },
            "type": "scatter"
           }
          ],
          "scatter3d": [
           {
            "line": {
             "colorbar": {
              "outlinewidth": 0,
              "ticks": ""
             }
            },
            "marker": {
             "colorbar": {
              "outlinewidth": 0,
              "ticks": ""
             }
            },
            "type": "scatter3d"
           }
          ],
          "scattercarpet": [
           {
            "marker": {
             "colorbar": {
              "outlinewidth": 0,
              "ticks": ""
             }
            },
            "type": "scattercarpet"
           }
          ],
          "scattergeo": [
           {
            "marker": {
             "colorbar": {
              "outlinewidth": 0,
              "ticks": ""
             }
            },
            "type": "scattergeo"
           }
          ],
          "scattergl": [
           {
            "marker": {
             "line": {
              "color": "#283442"
             }
            },
            "type": "scattergl"
           }
          ],
          "scattermapbox": [
           {
            "marker": {
             "colorbar": {
              "outlinewidth": 0,
              "ticks": ""
             }
            },
            "type": "scattermapbox"
           }
          ],
          "scatterpolar": [
           {
            "marker": {
             "colorbar": {
              "outlinewidth": 0,
              "ticks": ""
             }
            },
            "type": "scatterpolar"
           }
          ],
          "scatterpolargl": [
           {
            "marker": {
             "colorbar": {
              "outlinewidth": 0,
              "ticks": ""
             }
            },
            "type": "scatterpolargl"
           }
          ],
          "scatterternary": [
           {
            "marker": {
             "colorbar": {
              "outlinewidth": 0,
              "ticks": ""
             }
            },
            "type": "scatterternary"
           }
          ],
          "surface": [
           {
            "colorbar": {
             "outlinewidth": 0,
             "ticks": ""
            },
            "colorscale": [
             [
              0,
              "#0d0887"
             ],
             [
              0.1111111111111111,
              "#46039f"
             ],
             [
              0.2222222222222222,
              "#7201a8"
             ],
             [
              0.3333333333333333,
              "#9c179e"
             ],
             [
              0.4444444444444444,
              "#bd3786"
             ],
             [
              0.5555555555555556,
              "#d8576b"
             ],
             [
              0.6666666666666666,
              "#ed7953"
             ],
             [
              0.7777777777777778,
              "#fb9f3a"
             ],
             [
              0.8888888888888888,
              "#fdca26"
             ],
             [
              1,
              "#f0f921"
             ]
            ],
            "type": "surface"
           }
          ],
          "table": [
           {
            "cells": {
             "fill": {
              "color": "#506784"
             },
             "line": {
              "color": "rgb(17,17,17)"
             }
            },
            "header": {
             "fill": {
              "color": "#2a3f5f"
             },
             "line": {
              "color": "rgb(17,17,17)"
             }
            },
            "type": "table"
           }
          ]
         },
         "layout": {
          "annotationdefaults": {
           "arrowcolor": "#f2f5fa",
           "arrowhead": 0,
           "arrowwidth": 1
          },
          "autotypenumbers": "strict",
          "coloraxis": {
           "colorbar": {
            "outlinewidth": 0,
            "ticks": ""
           }
          },
          "colorscale": {
           "diverging": [
            [
             0,
             "#8e0152"
            ],
            [
             0.1,
             "#c51b7d"
            ],
            [
             0.2,
             "#de77ae"
            ],
            [
             0.3,
             "#f1b6da"
            ],
            [
             0.4,
             "#fde0ef"
            ],
            [
             0.5,
             "#f7f7f7"
            ],
            [
             0.6,
             "#e6f5d0"
            ],
            [
             0.7,
             "#b8e186"
            ],
            [
             0.8,
             "#7fbc41"
            ],
            [
             0.9,
             "#4d9221"
            ],
            [
             1,
             "#276419"
            ]
           ],
           "sequential": [
            [
             0,
             "#0d0887"
            ],
            [
             0.1111111111111111,
             "#46039f"
            ],
            [
             0.2222222222222222,
             "#7201a8"
            ],
            [
             0.3333333333333333,
             "#9c179e"
            ],
            [
             0.4444444444444444,
             "#bd3786"
            ],
            [
             0.5555555555555556,
             "#d8576b"
            ],
            [
             0.6666666666666666,
             "#ed7953"
            ],
            [
             0.7777777777777778,
             "#fb9f3a"
            ],
            [
             0.8888888888888888,
             "#fdca26"
            ],
            [
             1,
             "#f0f921"
            ]
           ],
           "sequentialminus": [
            [
             0,
             "#0d0887"
            ],
            [
             0.1111111111111111,
             "#46039f"
            ],
            [
             0.2222222222222222,
             "#7201a8"
            ],
            [
             0.3333333333333333,
             "#9c179e"
            ],
            [
             0.4444444444444444,
             "#bd3786"
            ],
            [
             0.5555555555555556,
             "#d8576b"
            ],
            [
             0.6666666666666666,
             "#ed7953"
            ],
            [
             0.7777777777777778,
             "#fb9f3a"
            ],
            [
             0.8888888888888888,
             "#fdca26"
            ],
            [
             1,
             "#f0f921"
            ]
           ]
          },
          "colorway": [
           "#636efa",
           "#EF553B",
           "#00cc96",
           "#ab63fa",
           "#FFA15A",
           "#19d3f3",
           "#FF6692",
           "#B6E880",
           "#FF97FF",
           "#FECB52"
          ],
          "font": {
           "color": "#f2f5fa"
          },
          "geo": {
           "bgcolor": "rgb(17,17,17)",
           "lakecolor": "rgb(17,17,17)",
           "landcolor": "rgb(17,17,17)",
           "showlakes": true,
           "showland": true,
           "subunitcolor": "#506784"
          },
          "hoverlabel": {
           "align": "left"
          },
          "hovermode": "closest",
          "mapbox": {
           "style": "dark"
          },
          "paper_bgcolor": "rgb(17,17,17)",
          "plot_bgcolor": "rgb(17,17,17)",
          "polar": {
           "angularaxis": {
            "gridcolor": "#506784",
            "linecolor": "#506784",
            "ticks": ""
           },
           "bgcolor": "rgb(17,17,17)",
           "radialaxis": {
            "gridcolor": "#506784",
            "linecolor": "#506784",
            "ticks": ""
           }
          },
          "scene": {
           "xaxis": {
            "backgroundcolor": "rgb(17,17,17)",
            "gridcolor": "#506784",
            "gridwidth": 2,
            "linecolor": "#506784",
            "showbackground": true,
            "ticks": "",
            "zerolinecolor": "#C8D4E3"
           },
           "yaxis": {
            "backgroundcolor": "rgb(17,17,17)",
            "gridcolor": "#506784",
            "gridwidth": 2,
            "linecolor": "#506784",
            "showbackground": true,
            "ticks": "",
            "zerolinecolor": "#C8D4E3"
           },
           "zaxis": {
            "backgroundcolor": "rgb(17,17,17)",
            "gridcolor": "#506784",
            "gridwidth": 2,
            "linecolor": "#506784",
            "showbackground": true,
            "ticks": "",
            "zerolinecolor": "#C8D4E3"
           }
          },
          "shapedefaults": {
           "line": {
            "color": "#f2f5fa"
           }
          },
          "sliderdefaults": {
           "bgcolor": "#C8D4E3",
           "bordercolor": "rgb(17,17,17)",
           "borderwidth": 1,
           "tickwidth": 0
          },
          "ternary": {
           "aaxis": {
            "gridcolor": "#506784",
            "linecolor": "#506784",
            "ticks": ""
           },
           "baxis": {
            "gridcolor": "#506784",
            "linecolor": "#506784",
            "ticks": ""
           },
           "bgcolor": "rgb(17,17,17)",
           "caxis": {
            "gridcolor": "#506784",
            "linecolor": "#506784",
            "ticks": ""
           }
          },
          "title": {
           "x": 0.05
          },
          "updatemenudefaults": {
           "bgcolor": "#506784",
           "borderwidth": 0
          },
          "xaxis": {
           "automargin": true,
           "gridcolor": "#283442",
           "linecolor": "#506784",
           "ticks": "",
           "title": {
            "standoff": 15
           },
           "zerolinecolor": "#283442",
           "zerolinewidth": 2
          },
          "yaxis": {
           "automargin": true,
           "gridcolor": "#283442",
           "linecolor": "#506784",
           "ticks": "",
           "title": {
            "standoff": 15
           },
           "zerolinecolor": "#283442",
           "zerolinewidth": 2
          }
         }
        },
        "title": {
         "text": "Observe Backward Elimination in All Models With Repect to Moving Averages<br><span style=\"font-size: 12.5px; color: lightgrey;\"> -- How meansures are changed by removing the impact of each coefficient</span>"
        },
        "width": 800,
        "xaxis": {
         "anchor": "y",
         "domain": [
          0,
          0.45
         ]
        },
        "xaxis2": {
         "anchor": "y2",
         "domain": [
          0.55,
          1
         ]
        },
        "yaxis": {
         "anchor": "x",
         "domain": [
          0,
          1
         ],
         "title": {
          "text": "Difference"
         }
        },
        "yaxis2": {
         "anchor": "x2",
         "domain": [
          0,
          1
         ]
        }
       }
      }
     },
     "metadata": {},
     "output_type": "display_data"
    }
   ],
   "source": [
    "# comparing model performance & backward elimination test\n",
    "fig1_1, fig1_2, fig1_3 = PA.model_learning([1,3,6], model='LinR')\n",
    "\n",
    "fig1_1.show()\n",
    "fig1_2.show()\n",
    "fig1_3.show()"
   ]
  },
  {
   "cell_type": "code",
   "execution_count": 7,
   "metadata": {},
   "outputs": [
    {
     "data": {
      "application/vnd.plotly.v1+json": {
       "config": {
        "plotlyServerURL": "https://plot.ly"
       },
       "data": [
        {
         "mode": "lines",
         "name": "Actual",
         "type": "scatter",
         "x": [
          "1989-07-31T00:00:00",
          "1989-08-31T00:00:00",
          "1989-09-30T00:00:00",
          "1989-10-31T00:00:00",
          "1989-11-30T00:00:00",
          "1989-12-31T00:00:00",
          "1990-01-31T00:00:00",
          "1990-02-28T00:00:00",
          "1990-03-31T00:00:00",
          "1990-04-30T00:00:00",
          "1990-05-31T00:00:00",
          "1990-06-30T00:00:00",
          "1990-07-31T00:00:00",
          "1990-08-31T00:00:00",
          "1990-09-30T00:00:00",
          "1990-10-31T00:00:00",
          "1990-11-30T00:00:00",
          "1990-12-31T00:00:00",
          "1991-01-31T00:00:00",
          "1991-02-28T00:00:00",
          "1991-03-31T00:00:00",
          "1991-04-30T00:00:00",
          "1991-05-31T00:00:00",
          "1991-06-30T00:00:00",
          "1991-07-31T00:00:00",
          "1991-08-31T00:00:00",
          "1991-09-30T00:00:00",
          "1991-10-31T00:00:00",
          "1991-11-30T00:00:00",
          "1991-12-31T00:00:00",
          "1992-01-31T00:00:00",
          "1992-02-29T00:00:00",
          "1992-03-31T00:00:00",
          "1992-04-30T00:00:00",
          "1992-05-31T00:00:00",
          "1992-06-30T00:00:00",
          "1992-07-31T00:00:00",
          "1992-08-31T00:00:00",
          "1992-09-30T00:00:00",
          "1992-10-31T00:00:00",
          "1992-11-30T00:00:00",
          "1992-12-31T00:00:00",
          "1993-01-31T00:00:00",
          "1993-02-28T00:00:00",
          "1993-03-31T00:00:00",
          "1993-04-30T00:00:00",
          "1993-05-31T00:00:00",
          "1993-06-30T00:00:00",
          "1993-07-31T00:00:00",
          "1993-08-31T00:00:00",
          "1993-09-30T00:00:00",
          "1993-10-31T00:00:00",
          "1993-11-30T00:00:00",
          "1993-12-31T00:00:00",
          "1994-01-31T00:00:00",
          "1994-02-28T00:00:00",
          "1994-03-31T00:00:00",
          "1994-04-30T00:00:00",
          "1994-05-31T00:00:00",
          "1994-06-30T00:00:00",
          "1994-07-31T00:00:00",
          "1994-08-31T00:00:00",
          "1994-09-30T00:00:00",
          "1994-10-31T00:00:00",
          "1994-11-30T00:00:00",
          "1994-12-31T00:00:00",
          "1995-01-31T00:00:00",
          "1995-02-28T00:00:00",
          "1995-03-31T00:00:00",
          "1995-04-30T00:00:00",
          "1995-05-31T00:00:00",
          "1995-06-30T00:00:00",
          "1995-07-31T00:00:00",
          "1995-08-31T00:00:00",
          "1995-09-30T00:00:00",
          "1995-10-31T00:00:00",
          "1995-11-30T00:00:00",
          "1995-12-31T00:00:00",
          "1996-01-31T00:00:00",
          "1996-02-29T00:00:00",
          "1996-03-31T00:00:00",
          "1996-04-30T00:00:00",
          "1996-05-31T00:00:00",
          "1996-06-30T00:00:00",
          "1996-07-31T00:00:00",
          "1996-08-31T00:00:00",
          "1996-09-30T00:00:00",
          "1996-10-31T00:00:00",
          "1996-11-30T00:00:00",
          "1996-12-31T00:00:00",
          "1997-01-31T00:00:00",
          "1997-02-28T00:00:00",
          "1997-03-31T00:00:00",
          "1997-04-30T00:00:00",
          "1997-05-31T00:00:00",
          "1997-06-30T00:00:00",
          "1997-07-31T00:00:00",
          "1997-08-31T00:00:00",
          "1997-09-30T00:00:00",
          "1997-10-31T00:00:00",
          "1997-11-30T00:00:00",
          "1997-12-31T00:00:00",
          "1998-01-31T00:00:00",
          "1998-02-28T00:00:00",
          "1998-03-31T00:00:00",
          "1998-04-30T00:00:00",
          "1998-05-31T00:00:00",
          "1998-06-30T00:00:00",
          "1998-07-31T00:00:00",
          "1998-08-31T00:00:00",
          "1998-09-30T00:00:00",
          "1998-10-31T00:00:00",
          "1998-11-30T00:00:00",
          "1998-12-31T00:00:00",
          "1999-01-31T00:00:00",
          "1999-02-28T00:00:00",
          "1999-03-31T00:00:00",
          "1999-04-30T00:00:00",
          "1999-05-31T00:00:00",
          "1999-06-30T00:00:00",
          "1999-07-31T00:00:00",
          "1999-08-31T00:00:00",
          "1999-09-30T00:00:00",
          "1999-10-31T00:00:00",
          "1999-11-30T00:00:00",
          "1999-12-31T00:00:00",
          "2000-01-31T00:00:00",
          "2000-02-29T00:00:00",
          "2000-03-31T00:00:00",
          "2000-04-30T00:00:00",
          "2000-05-31T00:00:00",
          "2000-06-30T00:00:00",
          "2000-07-31T00:00:00",
          "2000-08-31T00:00:00",
          "2000-09-30T00:00:00",
          "2000-10-31T00:00:00",
          "2000-11-30T00:00:00",
          "2000-12-31T00:00:00",
          "2001-01-31T00:00:00",
          "2001-02-28T00:00:00",
          "2001-03-31T00:00:00",
          "2001-04-30T00:00:00",
          "2001-05-31T00:00:00",
          "2001-06-30T00:00:00",
          "2001-07-31T00:00:00",
          "2001-08-31T00:00:00",
          "2001-09-30T00:00:00",
          "2001-10-31T00:00:00",
          "2001-11-30T00:00:00",
          "2001-12-31T00:00:00",
          "2002-01-31T00:00:00",
          "2002-02-28T00:00:00",
          "2002-03-31T00:00:00",
          "2002-04-30T00:00:00",
          "2002-05-31T00:00:00",
          "2002-06-30T00:00:00",
          "2002-07-31T00:00:00",
          "2002-08-31T00:00:00",
          "2002-09-30T00:00:00",
          "2002-10-31T00:00:00",
          "2002-11-30T00:00:00",
          "2002-12-31T00:00:00",
          "2003-01-31T00:00:00",
          "2003-02-28T00:00:00",
          "2003-03-31T00:00:00",
          "2003-04-30T00:00:00",
          "2003-05-31T00:00:00",
          "2003-06-30T00:00:00",
          "2003-07-31T00:00:00",
          "2003-08-31T00:00:00",
          "2003-09-30T00:00:00",
          "2003-10-31T00:00:00",
          "2003-11-30T00:00:00",
          "2003-12-31T00:00:00",
          "2004-01-31T00:00:00",
          "2004-02-29T00:00:00",
          "2004-03-31T00:00:00",
          "2004-04-30T00:00:00",
          "2004-05-31T00:00:00",
          "2004-06-30T00:00:00",
          "2004-07-31T00:00:00",
          "2004-08-31T00:00:00",
          "2004-09-30T00:00:00",
          "2004-10-31T00:00:00",
          "2004-11-30T00:00:00",
          "2004-12-31T00:00:00",
          "2005-01-31T00:00:00",
          "2005-02-28T00:00:00",
          "2005-03-31T00:00:00",
          "2005-04-30T00:00:00",
          "2005-05-31T00:00:00",
          "2005-06-30T00:00:00",
          "2005-07-31T00:00:00",
          "2005-08-31T00:00:00",
          "2005-09-30T00:00:00",
          "2005-10-31T00:00:00",
          "2005-11-30T00:00:00",
          "2005-12-31T00:00:00",
          "2006-01-31T00:00:00",
          "2006-02-28T00:00:00",
          "2006-03-31T00:00:00",
          "2006-04-30T00:00:00",
          "2006-05-31T00:00:00",
          "2006-06-30T00:00:00",
          "2006-07-31T00:00:00",
          "2006-08-31T00:00:00",
          "2006-09-30T00:00:00",
          "2006-10-31T00:00:00",
          "2006-11-30T00:00:00",
          "2006-12-31T00:00:00",
          "2007-01-31T00:00:00",
          "2007-02-28T00:00:00",
          "2007-03-31T00:00:00",
          "2007-04-30T00:00:00",
          "2007-05-31T00:00:00",
          "2007-06-30T00:00:00",
          "2007-07-31T00:00:00",
          "2007-08-31T00:00:00",
          "2007-09-30T00:00:00",
          "2007-10-31T00:00:00",
          "2007-11-30T00:00:00",
          "2007-12-31T00:00:00",
          "2008-01-31T00:00:00",
          "2008-02-29T00:00:00",
          "2008-03-31T00:00:00",
          "2008-04-30T00:00:00",
          "2008-05-31T00:00:00",
          "2008-06-30T00:00:00",
          "2008-07-31T00:00:00",
          "2008-08-31T00:00:00",
          "2008-09-30T00:00:00",
          "2008-10-31T00:00:00",
          "2008-11-30T00:00:00",
          "2008-12-31T00:00:00",
          "2009-01-31T00:00:00",
          "2009-02-28T00:00:00",
          "2009-03-31T00:00:00",
          "2009-04-30T00:00:00",
          "2009-05-31T00:00:00",
          "2009-06-30T00:00:00",
          "2009-07-31T00:00:00",
          "2009-08-31T00:00:00",
          "2009-09-30T00:00:00",
          "2009-10-31T00:00:00",
          "2009-11-30T00:00:00",
          "2009-12-31T00:00:00",
          "2010-01-31T00:00:00",
          "2010-02-28T00:00:00",
          "2010-03-31T00:00:00",
          "2010-04-30T00:00:00",
          "2010-05-31T00:00:00",
          "2010-06-30T00:00:00",
          "2010-07-31T00:00:00",
          "2010-08-31T00:00:00",
          "2010-09-30T00:00:00",
          "2010-10-31T00:00:00",
          "2010-11-30T00:00:00",
          "2010-12-31T00:00:00",
          "2011-01-31T00:00:00",
          "2011-02-28T00:00:00",
          "2011-03-31T00:00:00",
          "2011-04-30T00:00:00",
          "2011-05-31T00:00:00",
          "2011-06-30T00:00:00",
          "2011-07-31T00:00:00",
          "2011-08-31T00:00:00",
          "2011-09-30T00:00:00",
          "2011-10-31T00:00:00",
          "2011-11-30T00:00:00",
          "2011-12-31T00:00:00",
          "2012-01-31T00:00:00",
          "2012-02-29T00:00:00",
          "2012-03-31T00:00:00",
          "2012-04-30T00:00:00",
          "2012-05-31T00:00:00",
          "2012-06-30T00:00:00",
          "2012-07-31T00:00:00",
          "2012-08-31T00:00:00",
          "2012-09-30T00:00:00",
          "2012-10-31T00:00:00",
          "2012-11-30T00:00:00",
          "2012-12-31T00:00:00",
          "2013-01-31T00:00:00",
          "2013-02-28T00:00:00",
          "2013-03-31T00:00:00",
          "2013-04-30T00:00:00",
          "2013-05-31T00:00:00",
          "2013-06-30T00:00:00",
          "2013-07-31T00:00:00",
          "2013-08-31T00:00:00",
          "2013-09-30T00:00:00",
          "2013-10-31T00:00:00",
          "2013-11-30T00:00:00",
          "2013-12-31T00:00:00",
          "2014-01-31T00:00:00",
          "2014-02-28T00:00:00",
          "2014-03-31T00:00:00",
          "2014-04-30T00:00:00",
          "2014-05-31T00:00:00",
          "2014-06-30T00:00:00",
          "2014-07-31T00:00:00",
          "2014-08-31T00:00:00",
          "2014-09-30T00:00:00",
          "2014-10-31T00:00:00",
          "2014-11-30T00:00:00",
          "2014-12-31T00:00:00",
          "2015-01-31T00:00:00",
          "2015-02-28T00:00:00",
          "2015-03-31T00:00:00",
          "2015-04-30T00:00:00",
          "2015-05-31T00:00:00",
          "2015-06-30T00:00:00",
          "2015-07-31T00:00:00",
          "2015-08-31T00:00:00",
          "2015-09-30T00:00:00",
          "2015-10-31T00:00:00",
          "2015-11-30T00:00:00",
          "2015-12-31T00:00:00",
          "2016-01-31T00:00:00",
          "2016-02-29T00:00:00",
          "2016-03-31T00:00:00",
          "2016-04-30T00:00:00",
          "2016-05-31T00:00:00",
          "2016-06-30T00:00:00",
          "2016-07-31T00:00:00",
          "2016-08-31T00:00:00",
          "2016-09-30T00:00:00",
          "2016-10-31T00:00:00",
          "2016-11-30T00:00:00",
          "2016-12-31T00:00:00",
          "2017-01-31T00:00:00",
          "2017-02-28T00:00:00",
          "2017-03-31T00:00:00",
          "2017-04-30T00:00:00",
          "2017-05-31T00:00:00",
          "2017-06-30T00:00:00",
          "2017-07-31T00:00:00",
          "2017-08-31T00:00:00",
          "2017-09-30T00:00:00",
          "2017-10-31T00:00:00",
          "2017-11-30T00:00:00",
          "2017-12-31T00:00:00",
          "2018-01-31T00:00:00",
          "2018-02-28T00:00:00",
          "2018-03-31T00:00:00",
          "2018-04-30T00:00:00",
          "2018-05-31T00:00:00",
          "2018-06-30T00:00:00",
          "2018-07-31T00:00:00",
          "2018-08-31T00:00:00",
          "2018-09-30T00:00:00",
          "2018-10-31T00:00:00",
          "2018-11-30T00:00:00",
          "2018-12-31T00:00:00",
          "2019-01-31T00:00:00",
          "2019-02-28T00:00:00",
          "2019-03-31T00:00:00",
          "2019-04-30T00:00:00",
          "2019-05-31T00:00:00",
          "2019-06-30T00:00:00",
          "2019-07-31T00:00:00",
          "2019-08-31T00:00:00",
          "2019-09-30T00:00:00",
          "2019-10-31T00:00:00",
          "2019-11-30T00:00:00",
          "2019-12-31T00:00:00",
          "2020-01-31T00:00:00",
          "2020-02-29T00:00:00",
          "2020-03-31T00:00:00",
          "2020-04-30T00:00:00",
          "2020-05-31T00:00:00",
          "2020-06-30T00:00:00",
          "2020-07-31T00:00:00",
          "2020-08-31T00:00:00",
          "2020-09-30T00:00:00",
          "2020-10-31T00:00:00",
          "2020-11-30T00:00:00",
          "2020-12-31T00:00:00",
          "2021-01-31T00:00:00",
          "2021-02-28T00:00:00",
          "2021-03-31T00:00:00",
          "2021-04-30T00:00:00",
          "2021-05-31T00:00:00",
          "2021-06-30T00:00:00",
          "2021-07-31T00:00:00",
          "2021-08-31T00:00:00",
          "2021-09-30T00:00:00",
          "2021-10-31T00:00:00",
          "2021-11-30T00:00:00",
          "2021-12-31T00:00:00",
          "2022-01-31T00:00:00",
          "2022-02-28T00:00:00",
          "2022-03-31T00:00:00",
          "2022-04-30T00:00:00",
          "2022-05-31T00:00:00",
          "2022-06-30T00:00:00",
          "2022-07-31T00:00:00",
          "2022-08-31T00:00:00",
          "2022-09-30T00:00:00",
          "2022-10-31T00:00:00",
          "2022-11-30T00:00:00",
          "2022-12-31T00:00:00",
          "2023-01-31T00:00:00",
          "2023-02-28T00:00:00",
          "2023-03-31T00:00:00",
          "2023-04-30T00:00:00",
          "2023-05-31T00:00:00",
          "2023-06-30T00:00:00",
          "2023-07-31T00:00:00",
          "2023-08-31T00:00:00",
          "2023-09-30T00:00:00"
         ],
         "y": [
          27.22593947126124,
          34.38743766108754,
          28.406454045125077,
          22.005944675854792,
          26.41212086342999,
          27.250465340319007,
          10.62627667389895,
          14.896500546624525,
          15.284704469950228,
          6.83373341412481,
          12.70124278299527,
          12.591979572283662,
          2.90973408313977,
          -8.220234356235878,
          -12.344266606601709,
          -10.68280259619996,
          -6.870137774092822,
          -6.559137825727013,
          4.5125825663830055,
          10.5998948817567,
          10.378301619674168,
          13.464331979600086,
          7.917386351108013,
          3.6701902272656906,
          8.889514026304157,
          22.59114449055346,
          26.73092658769689,
          29.095398752312928,
          16.448389236923223,
          26.30670304526097,
          18.85558325372598,
          12.430872578077269,
          7.587548938777711,
          10.553102854906715,
          6.546448557137663,
          9.963360982179914,
          9.38603804069924,
          4.703741862789346,
          7.7192810736246065,
          6.683648784017038,
          14.95922517461883,
          4.464263175974903,
          7.3389109275371345,
          7.433969413209174,
          11.8853602259551,
          6.08265802912713,
          8.38810541132089,
          10.386137749167569,
          5.638719952278026,
          11.962900979476942,
          9.844424625305038,
          11.739274566803882,
          7.056914804842096,
          7.055156263296869,
          9.761152899270776,
          5.358836551933566,
          -1.306268788863596,
          2.4353122881590306,
          1.4016298728035226,
          -1.3894767901330374,
          2.260505829209425,
          2.57355956911991,
          0.8236547707979547,
          0.9661671250207116,
          -1.7540453352462682,
          -1.5392910291473272,
          -2.3234509798752856,
          4.334888762470901,
          12.324742310034974,
          14.14916896772944,
          16.845569422576666,
          22.616880156457285,
          22.650893724297877,
          18.168629502769296,
          26.30156770696581,
          23.107863339915813,
          33.43251820837083,
          34.11065547708709,
          35.20258521674376,
          31.399900167781247,
          28.916940148159973,
          27.094860209446004,
          25.444312802987355,
          23.107848532870577,
          13.857953774822352,
          16.037229402807473,
          17.610932166597237,
          21.28461212919175,
          25.05079961630838,
          20.263666170303285,
          23.606167888227027,
          23.482662643592445,
          17.29202093217468,
          22.497217510746715,
          26.775471587620103,
          31.98634242485303,
          49.1225844761549,
          37.95763495997642,
          37.82026184563567,
          29.683662964304048,
          26.20538423880125,
          31.00818174657085,
          24.69218260704502,
          32.69011356589342,
          45.51854489452105,
          38.73636193646888,
          28.59196357519165,
          28.097244171099224,
          17.43249539586893,
          6.427124915416504,
          7.361073633158677,
          20.123116683507792,
          21.795057059628565,
          26.66858915596535,
          30.538211164648963,
          18.010368078055027,
          16.756977092551615,
          20.097148973324707,
          19.345082591231844,
          21.0673465672353,
          18.564779872706684,
          37.93351932240064,
          26.125598432714227,
          24.05271821343833,
          19.36010831205428,
          19.526046658878403,
          8.972831810093695,
          10.343776895999458,
          16.496805875681808,
          8.781587148049486,
          9.12247379736819,
          5.965572989104717,
          7.68483861182041,
          14.940057590050436,
          11.990243586766614,
          4.876990607268716,
          -5.32504490483392,
          -10.139184665858435,
          -2.0402128400121344,
          -9.25631200299668,
          -22.571368223188504,
          -13.974517551110422,
          -11.599326490830764,
          -15.827029737876108,
          -15.347733995691115,
          -25.308370938727972,
          -27.53688214284804,
          -25.85840134350785,
          -13.346515572215925,
          -13.042693172742602,
          -17.262688919403267,
          -10.74325912805284,
          -1.1151949786979531,
          -13.809159347749455,
          -15.024441377776544,
          -19.157450842317857,
          -24.736011342421715,
          -19.18787885836395,
          -21.6784756865532,
          -16.420390526391206,
          -17.82789611815425,
          -23.365963957103563,
          -24.28773233269227,
          -23.99681591188145,
          -26.07744691453801,
          -14.857190367540529,
          -9.703505291860193,
          -1.547756886187146,
          8.631886406933265,
          10.036351120146048,
          22.162929903003143,
          18.62242022142333,
          13.018119418900408,
          26.38039993281984,
          32.18768128393372,
          36.11602070674667,
          32.77959521122498,
          20.762996713599048,
          16.302579154758213,
          17.069262782997697,
          11.250009938220318,
          9.546530246373708,
          11.908992122305383,
          7.565359917540881,
          10.926100968833662,
          8.993452410946755,
          4.432736682078575,
          5.123415828051159,
          4.828584968076877,
          4.474841919338135,
          6.319372425212211,
          4.425685612974695,
          12.02302640690771,
          10.513110089019008,
          10.248713151401567,
          6.796147753687976,
          6.445625193103988,
          3.0010226581274946,
          8.364720587986074,
          6.402464286877008,
          9.679908571598729,
          13.291266197913563,
          6.595884668091689,
          6.620331732308671,
          3.4419597319711226,
          6.841591474513753,
          8.71085944028518,
          14.161434475080782,
          12.097034508496709,
          13.6194317382607,
          12.35548087692504,
          9.85116336438072,
          9.7299335616293,
          13.10534878303644,
          20.51272242975375,
          18.355379733636457,
          13.99041096060687,
          13.05165214181998,
          14.290528719763527,
          12.441766025128809,
          5.748128305473577,
          3.5295730663479574,
          -4.150207323641652,
          -5.415756409142858,
          -6.908494516818964,
          -6.528736389407563,
          -8.508969610344309,
          -14.856818386476236,
          -12.911007038333532,
          -12.968882790668868,
          -23.605044352280167,
          -37.4749901930436,
          -39.48985366875623,
          -38.48579306090672,
          -40.09067675236928,
          -44.75624146772434,
          -39.67868567544007,
          -37.00806017010502,
          -34.364957265627794,
          -28.178124427795414,
          -22.084932958993875,
          -20.43996242057835,
          -9.36932256501718,
          6.96154233870967,
          22.247390969052283,
          23.45419048834072,
          30.02736339034669,
          50.25234323462486,
          46.56899756446875,
          35.96200143509296,
          18.52492730352693,
          12.1165592748812,
          11.55668948984825,
          2.812992208153186,
          7.957770330935654,
          14.19335031951585,
          7.750795758317652,
          12.782713853760177,
          19.764962329247115,
          20.16586681980579,
          13.37402795895728,
          14.908700054848278,
          23.479673306368444,
          28.12915996729348,
          17.30937345105834,
          16.158888595086786,
          -0.8569845465310144,
          5.919243317990031,
          5.625336441711792,
          -0.0031836663936912,
          2.044135785331957,
          2.8977926686438726,
          6.233077950233668,
          2.515385571870965,
          -2.592179332656863,
          3.143931659703858,
          6.735375848804659,
          15.39843128999503,
          27.332908026061787,
          12.675335447413527,
          13.570611573302882,
          13.40569092662105,
          14.149537593862238,
          10.910315311051445,
          11.410961827101772,
          14.28274404128862,
          24.452622234511058,
          17.921535575238057,
          22.214572841062477,
          16.095069012887,
          16.71999816301839,
          24.38675479743768,
          27.512744856265403,
          29.601249573324356,
          18.989258682632105,
          22.761895927543097,
          19.31888654233857,
          17.925975982963017,
          17.956875885076016,
          22.035382667791197,
          14.530207465874945,
          22.682598642923946,
          17.289999214533758,
          14.887790995370542,
          14.494879943455086,
          11.390633786748117,
          11.91524851405299,
          13.178631060959066,
          10.444146379802222,
          10.69880112623871,
          9.556187267517192,
          5.248370241155231,
          8.969427193858603,
          -1.5568737418584444,
          -2.6497121990468497,
          3.0380841460970087,
          0.62149844026127,
          -0.7265997205823549,
          -2.744374671953509,
          -8.185793277797583,
          -0.3941168421491281,
          -0.9690656406761256,
          -0.4953967674903303,
          1.7328207482185445,
          3.315841834517408,
          10.078689168715794,
          12.92896394569838,
          2.2502016247627266,
          5.6911931535803095,
          9.535022667283656,
          17.453002136721206,
          22.327047839549465,
          14.709622666221778,
          15.440850956484375,
          15.014669161765015,
          15.46314609248347,
          13.650162764153384,
          13.851077083078668,
          16.1921755467765,
          21.123162902427573,
          20.409676487393423,
          19.419965523287928,
          23.91272487608005,
          14.815716499221354,
          11.772455048983232,
          11.066609473193022,
          12.168088761990026,
          12.171288216832732,
          14.005990502996092,
          17.392030998398035,
          15.663496134766518,
          5.299658285035491,
          4.2525566905510015,
          -6.23725984962068,
          -4.239306414154331,
          2.6036969918984187,
          7.328258360632933,
          11.245256842054596,
          1.729588496700507,
          8.217787973966196,
          5.826454004170079,
          0.8595474523136026,
          2.153755694489345,
          12.015166259771616,
          13.796616490011717,
          28.87807022515845,
          19.28256732533442,
          6.095550031209251,
          -8.813499261221347,
          -1.133811034533061,
          10.619317666684005,
          5.388951810161613,
          9.755140143431529,
          19.609019269561976,
          12.975940493049665,
          7.650874315595924,
          15.302545872069494,
          16.258923055706177,
          15.151664467863023,
          29.00697781948409,
          53.71450626511303,
          43.56293610537338,
          38.0972956881811,
          38.61606320225206,
          34.365587571392275,
          29.207987294652327,
          28.08623369201606,
          40.83902976879674,
          26.103443691858995,
          26.89273866137125,
          21.573991356507925,
          14.766935268444836,
          14.03311641516658,
          -1.177654747685286,
          -1.711657479886508,
          -11.916698480221054,
          -6.028533936374103,
          -12.551853186991902,
          -16.759447743453126,
          -15.924851391322436,
          -10.661044286799326,
          -19.442827203429268,
          -9.720847427606383,
          -9.231723445491092,
          -9.294966308410611,
          0.9087715205739144,
          1.1538830126710975,
          17.567589530959093,
          11.105029369296048,
          13.973708122629592,
          19.59018703997495
         ]
        },
        {
         "line": {
          "color": "lightgreen"
         },
         "mode": "lines",
         "name": "Predict",
         "type": "scatter",
         "x": [
          "1989-07-31T00:00:00",
          "1989-08-31T00:00:00",
          "1989-09-30T00:00:00",
          "1989-10-31T00:00:00",
          "1989-11-30T00:00:00",
          "1989-12-31T00:00:00",
          "1990-01-31T00:00:00",
          "1990-02-28T00:00:00",
          "1990-03-31T00:00:00",
          "1990-04-30T00:00:00",
          "1990-05-31T00:00:00",
          "1990-06-30T00:00:00",
          "1990-07-31T00:00:00",
          "1990-08-31T00:00:00",
          "1990-09-30T00:00:00",
          "1990-10-31T00:00:00",
          "1990-11-30T00:00:00",
          "1990-12-31T00:00:00",
          "1991-01-31T00:00:00",
          "1991-02-28T00:00:00",
          "1991-03-31T00:00:00",
          "1991-04-30T00:00:00",
          "1991-05-31T00:00:00",
          "1991-06-30T00:00:00",
          "1991-07-31T00:00:00",
          "1991-08-31T00:00:00",
          "1991-09-30T00:00:00",
          "1991-10-31T00:00:00",
          "1991-11-30T00:00:00",
          "1991-12-31T00:00:00",
          "1992-01-31T00:00:00",
          "1992-02-29T00:00:00",
          "1992-03-31T00:00:00",
          "1992-04-30T00:00:00",
          "1992-05-31T00:00:00",
          "1992-06-30T00:00:00",
          "1992-07-31T00:00:00",
          "1992-08-31T00:00:00",
          "1992-09-30T00:00:00",
          "1992-10-31T00:00:00",
          "1992-11-30T00:00:00",
          "1992-12-31T00:00:00",
          "1993-01-31T00:00:00",
          "1993-02-28T00:00:00",
          "1993-03-31T00:00:00",
          "1993-04-30T00:00:00",
          "1993-05-31T00:00:00",
          "1993-06-30T00:00:00",
          "1993-07-31T00:00:00",
          "1993-08-31T00:00:00",
          "1993-09-30T00:00:00",
          "1993-10-31T00:00:00",
          "1993-11-30T00:00:00",
          "1993-12-31T00:00:00",
          "1994-01-31T00:00:00",
          "1994-02-28T00:00:00",
          "1994-03-31T00:00:00",
          "1994-04-30T00:00:00",
          "1994-05-31T00:00:00",
          "1994-06-30T00:00:00",
          "1994-07-31T00:00:00",
          "1994-08-31T00:00:00",
          "1994-09-30T00:00:00",
          "1994-10-31T00:00:00",
          "1994-11-30T00:00:00",
          "1994-12-31T00:00:00",
          "1995-01-31T00:00:00",
          "1995-02-28T00:00:00",
          "1995-03-31T00:00:00",
          "1995-04-30T00:00:00",
          "1995-05-31T00:00:00",
          "1995-06-30T00:00:00",
          "1995-07-31T00:00:00",
          "1995-08-31T00:00:00",
          "1995-09-30T00:00:00",
          "1995-10-31T00:00:00",
          "1995-11-30T00:00:00",
          "1995-12-31T00:00:00",
          "1996-01-31T00:00:00",
          "1996-02-29T00:00:00",
          "1996-03-31T00:00:00",
          "1996-04-30T00:00:00",
          "1996-05-31T00:00:00",
          "1996-06-30T00:00:00",
          "1996-07-31T00:00:00",
          "1996-08-31T00:00:00",
          "1996-09-30T00:00:00",
          "1996-10-31T00:00:00",
          "1996-11-30T00:00:00",
          "1996-12-31T00:00:00",
          "1997-01-31T00:00:00",
          "1997-02-28T00:00:00",
          "1997-03-31T00:00:00",
          "1997-04-30T00:00:00",
          "1997-05-31T00:00:00",
          "1997-06-30T00:00:00",
          "1997-07-31T00:00:00",
          "1997-08-31T00:00:00",
          "1997-09-30T00:00:00",
          "1997-10-31T00:00:00",
          "1997-11-30T00:00:00",
          "1997-12-31T00:00:00",
          "1998-01-31T00:00:00",
          "1998-02-28T00:00:00",
          "1998-03-31T00:00:00",
          "1998-04-30T00:00:00",
          "1998-05-31T00:00:00",
          "1998-06-30T00:00:00",
          "1998-07-31T00:00:00",
          "1998-08-31T00:00:00",
          "1998-09-30T00:00:00",
          "1998-10-31T00:00:00",
          "1998-11-30T00:00:00",
          "1998-12-31T00:00:00",
          "1999-01-31T00:00:00",
          "1999-02-28T00:00:00",
          "1999-03-31T00:00:00",
          "1999-04-30T00:00:00",
          "1999-05-31T00:00:00",
          "1999-06-30T00:00:00",
          "1999-07-31T00:00:00",
          "1999-08-31T00:00:00",
          "1999-09-30T00:00:00",
          "1999-10-31T00:00:00",
          "1999-11-30T00:00:00",
          "1999-12-31T00:00:00",
          "2000-01-31T00:00:00",
          "2000-02-29T00:00:00",
          "2000-03-31T00:00:00",
          "2000-04-30T00:00:00",
          "2000-05-31T00:00:00",
          "2000-06-30T00:00:00",
          "2000-07-31T00:00:00",
          "2000-08-31T00:00:00",
          "2000-09-30T00:00:00",
          "2000-10-31T00:00:00",
          "2000-11-30T00:00:00",
          "2000-12-31T00:00:00",
          "2001-01-31T00:00:00",
          "2001-02-28T00:00:00",
          "2001-03-31T00:00:00",
          "2001-04-30T00:00:00",
          "2001-05-31T00:00:00",
          "2001-06-30T00:00:00",
          "2001-07-31T00:00:00",
          "2001-08-31T00:00:00",
          "2001-09-30T00:00:00",
          "2001-10-31T00:00:00",
          "2001-11-30T00:00:00",
          "2001-12-31T00:00:00",
          "2002-01-31T00:00:00",
          "2002-02-28T00:00:00",
          "2002-03-31T00:00:00",
          "2002-04-30T00:00:00",
          "2002-05-31T00:00:00",
          "2002-06-30T00:00:00",
          "2002-07-31T00:00:00",
          "2002-08-31T00:00:00",
          "2002-09-30T00:00:00",
          "2002-10-31T00:00:00",
          "2002-11-30T00:00:00",
          "2002-12-31T00:00:00",
          "2003-01-31T00:00:00",
          "2003-02-28T00:00:00",
          "2003-03-31T00:00:00",
          "2003-04-30T00:00:00",
          "2003-05-31T00:00:00",
          "2003-06-30T00:00:00",
          "2003-07-31T00:00:00",
          "2003-08-31T00:00:00",
          "2003-09-30T00:00:00",
          "2003-10-31T00:00:00",
          "2003-11-30T00:00:00",
          "2003-12-31T00:00:00",
          "2004-01-31T00:00:00",
          "2004-02-29T00:00:00",
          "2004-03-31T00:00:00",
          "2004-04-30T00:00:00",
          "2004-05-31T00:00:00",
          "2004-06-30T00:00:00",
          "2004-07-31T00:00:00",
          "2004-08-31T00:00:00",
          "2004-09-30T00:00:00",
          "2004-10-31T00:00:00",
          "2004-11-30T00:00:00",
          "2004-12-31T00:00:00",
          "2005-01-31T00:00:00",
          "2005-02-28T00:00:00",
          "2005-03-31T00:00:00",
          "2005-04-30T00:00:00",
          "2005-05-31T00:00:00",
          "2005-06-30T00:00:00",
          "2005-07-31T00:00:00",
          "2005-08-31T00:00:00",
          "2005-09-30T00:00:00",
          "2005-10-31T00:00:00",
          "2005-11-30T00:00:00",
          "2005-12-31T00:00:00",
          "2006-01-31T00:00:00",
          "2006-02-28T00:00:00",
          "2006-03-31T00:00:00",
          "2006-04-30T00:00:00",
          "2006-05-31T00:00:00",
          "2006-06-30T00:00:00",
          "2006-07-31T00:00:00",
          "2006-08-31T00:00:00",
          "2006-09-30T00:00:00",
          "2006-10-31T00:00:00",
          "2006-11-30T00:00:00",
          "2006-12-31T00:00:00",
          "2007-01-31T00:00:00",
          "2007-02-28T00:00:00",
          "2007-03-31T00:00:00",
          "2007-04-30T00:00:00",
          "2007-05-31T00:00:00",
          "2007-06-30T00:00:00",
          "2007-07-31T00:00:00",
          "2007-08-31T00:00:00",
          "2007-09-30T00:00:00",
          "2007-10-31T00:00:00",
          "2007-11-30T00:00:00",
          "2007-12-31T00:00:00",
          "2008-01-31T00:00:00",
          "2008-02-29T00:00:00",
          "2008-03-31T00:00:00",
          "2008-04-30T00:00:00",
          "2008-05-31T00:00:00",
          "2008-06-30T00:00:00",
          "2008-07-31T00:00:00",
          "2008-08-31T00:00:00",
          "2008-09-30T00:00:00",
          "2008-10-31T00:00:00",
          "2008-11-30T00:00:00",
          "2008-12-31T00:00:00",
          "2009-01-31T00:00:00",
          "2009-02-28T00:00:00",
          "2009-03-31T00:00:00",
          "2009-04-30T00:00:00",
          "2009-05-31T00:00:00",
          "2009-06-30T00:00:00",
          "2009-07-31T00:00:00",
          "2009-08-31T00:00:00",
          "2009-09-30T00:00:00",
          "2009-10-31T00:00:00",
          "2009-11-30T00:00:00",
          "2009-12-31T00:00:00",
          "2010-01-31T00:00:00",
          "2010-02-28T00:00:00",
          "2010-03-31T00:00:00",
          "2010-04-30T00:00:00",
          "2010-05-31T00:00:00",
          "2010-06-30T00:00:00",
          "2010-07-31T00:00:00",
          "2010-08-31T00:00:00",
          "2010-09-30T00:00:00",
          "2010-10-31T00:00:00",
          "2010-11-30T00:00:00",
          "2010-12-31T00:00:00",
          "2011-01-31T00:00:00",
          "2011-02-28T00:00:00",
          "2011-03-31T00:00:00",
          "2011-04-30T00:00:00",
          "2011-05-31T00:00:00",
          "2011-06-30T00:00:00",
          "2011-07-31T00:00:00",
          "2011-08-31T00:00:00",
          "2011-09-30T00:00:00",
          "2011-10-31T00:00:00",
          "2011-11-30T00:00:00",
          "2011-12-31T00:00:00",
          "2012-01-31T00:00:00",
          "2012-02-29T00:00:00",
          "2012-03-31T00:00:00",
          "2012-04-30T00:00:00",
          "2012-05-31T00:00:00",
          "2012-06-30T00:00:00",
          "2012-07-31T00:00:00",
          "2012-08-31T00:00:00",
          "2012-09-30T00:00:00",
          "2012-10-31T00:00:00",
          "2012-11-30T00:00:00",
          "2012-12-31T00:00:00",
          "2013-01-31T00:00:00",
          "2013-02-28T00:00:00",
          "2013-03-31T00:00:00",
          "2013-04-30T00:00:00",
          "2013-05-31T00:00:00",
          "2013-06-30T00:00:00",
          "2013-07-31T00:00:00",
          "2013-08-31T00:00:00",
          "2013-09-30T00:00:00",
          "2013-10-31T00:00:00",
          "2013-11-30T00:00:00",
          "2013-12-31T00:00:00",
          "2014-01-31T00:00:00",
          "2014-02-28T00:00:00",
          "2014-03-31T00:00:00",
          "2014-04-30T00:00:00",
          "2014-05-31T00:00:00",
          "2014-06-30T00:00:00",
          "2014-07-31T00:00:00",
          "2014-08-31T00:00:00",
          "2014-09-30T00:00:00",
          "2014-10-31T00:00:00",
          "2014-11-30T00:00:00",
          "2014-12-31T00:00:00",
          "2015-01-31T00:00:00",
          "2015-02-28T00:00:00",
          "2015-03-31T00:00:00",
          "2015-04-30T00:00:00",
          "2015-05-31T00:00:00",
          "2015-06-30T00:00:00",
          "2015-07-31T00:00:00",
          "2015-08-31T00:00:00",
          "2015-09-30T00:00:00",
          "2015-10-31T00:00:00",
          "2015-11-30T00:00:00",
          "2015-12-31T00:00:00",
          "2016-01-31T00:00:00",
          "2016-02-29T00:00:00",
          "2016-03-31T00:00:00",
          "2016-04-30T00:00:00",
          "2016-05-31T00:00:00",
          "2016-06-30T00:00:00",
          "2016-07-31T00:00:00",
          "2016-08-31T00:00:00",
          "2016-09-30T00:00:00",
          "2016-10-31T00:00:00",
          "2016-11-30T00:00:00",
          "2016-12-31T00:00:00",
          "2017-01-31T00:00:00",
          "2017-02-28T00:00:00",
          "2017-03-31T00:00:00",
          "2017-04-30T00:00:00",
          "2017-05-31T00:00:00",
          "2017-06-30T00:00:00",
          "2017-07-31T00:00:00",
          "2017-08-31T00:00:00",
          "2017-09-30T00:00:00",
          "2017-10-31T00:00:00",
          "2017-11-30T00:00:00",
          "2017-12-31T00:00:00",
          "2018-01-31T00:00:00",
          "2018-02-28T00:00:00",
          "2018-03-31T00:00:00",
          "2018-04-30T00:00:00",
          "2018-05-31T00:00:00",
          "2018-06-30T00:00:00",
          "2018-07-31T00:00:00",
          "2018-08-31T00:00:00",
          "2018-09-30T00:00:00",
          "2018-10-31T00:00:00",
          "2018-11-30T00:00:00",
          "2018-12-31T00:00:00",
          "2019-01-31T00:00:00",
          "2019-02-28T00:00:00",
          "2019-03-31T00:00:00",
          "2019-04-30T00:00:00",
          "2019-05-31T00:00:00",
          "2019-06-30T00:00:00",
          "2019-07-31T00:00:00",
          "2019-08-31T00:00:00",
          "2019-09-30T00:00:00",
          "2019-10-31T00:00:00",
          "2019-11-30T00:00:00",
          "2019-12-31T00:00:00",
          "2020-01-31T00:00:00",
          "2020-02-29T00:00:00",
          "2020-03-31T00:00:00",
          "2020-04-30T00:00:00",
          "2020-05-31T00:00:00",
          "2020-06-30T00:00:00",
          "2020-07-31T00:00:00",
          "2020-08-31T00:00:00",
          "2020-09-30T00:00:00",
          "2020-10-31T00:00:00",
          "2020-11-30T00:00:00",
          "2020-12-31T00:00:00",
          "2021-01-31T00:00:00",
          "2021-02-28T00:00:00",
          "2021-03-31T00:00:00",
          "2021-04-30T00:00:00",
          "2021-05-31T00:00:00",
          "2021-06-30T00:00:00",
          "2021-07-31T00:00:00",
          "2021-08-31T00:00:00",
          "2021-09-30T00:00:00",
          "2021-10-31T00:00:00",
          "2021-11-30T00:00:00",
          "2021-12-31T00:00:00",
          "2022-01-31T00:00:00",
          "2022-02-28T00:00:00",
          "2022-03-31T00:00:00",
          "2022-04-30T00:00:00",
          "2022-05-31T00:00:00",
          "2022-06-30T00:00:00",
          "2022-07-31T00:00:00",
          "2022-08-31T00:00:00",
          "2022-09-30T00:00:00",
          "2022-10-31T00:00:00",
          "2022-11-30T00:00:00",
          "2022-12-31T00:00:00",
          "2023-01-31T00:00:00",
          "2023-02-28T00:00:00",
          "2023-03-31T00:00:00",
          "2023-04-30T00:00:00",
          "2023-05-31T00:00:00",
          "2023-06-30T00:00:00",
          "2023-07-31T00:00:00",
          "2023-08-31T00:00:00",
          "2023-09-30T00:00:00"
         ],
         "y": [
          17.791731402178875,
          11.786722879622861,
          13.937744769072916,
          18.44188355041816,
          26.08981260773085,
          24.646065346345008,
          32.874212432758846,
          30.756190677902772,
          23.164882683235316,
          20.224599858263474,
          22.814810221587756,
          16.554622681951418,
          12.299164114420089,
          11.316882517433065,
          9.582264229010226,
          3.6374915416245153,
          -2.38025162770176,
          -5.313664082450456,
          -11.479850168922196,
          -11.021736593045112,
          -6.629011871238199,
          -0.029932445041794466,
          6.700569067667914,
          9.827583939080618,
          9.556870049259723,
          10.911428713763472,
          8.584261999205493,
          13.805166614514862,
          16.699206479401724,
          15.377374456556023,
          16.32458621532044,
          14.846278497492486,
          11.189533121594783,
          9.156876026205985,
          14.218022015018846,
          14.471783901230488,
          20.439805695246477,
          13.112915663730446,
          11.431300922455291,
          7.931227274540512,
          5.862284971344116,
          8.17547666836399,
          8.568925742658863,
          8.973840393608437,
          10.380160946183112,
          8.908616449973573,
          1.8135042799025496,
          0.19463903322017864,
          1.5499318059083826,
          5.049598612971897,
          8.626689625228396,
          9.009604490693155,
          10.838098596942698,
          11.414601119289598,
          11.721374352219815,
          10.97270744003948,
          9.068802536838852,
          8.269172143473384,
          5.026382049384363,
          2.486519049454348,
          4.754366852900779,
          3.721949171968922,
          0.39558325321921395,
          3.1705432379486953,
          0.10955204892616144,
          0.31716221209492795,
          -1.5332420861911307,
          -4.8287197138627445,
          -1.5071777378893707,
          0.7180760560035684,
          4.997891768274249,
          8.18631488257469,
          6.906548510566577,
          13.142971868077476,
          14.713922471576609,
          12.288453495820882,
          9.096865682184289,
          8.351808517222569,
          11.316857116789194,
          18.675855366075854,
          23.63620609827375,
          25.24889435348525,
          24.526761462472344,
          24.386009516767885,
          22.65566190144071,
          27.078145287356396,
          24.41192342101799,
          23.99916456217979,
          23.753616246892296,
          28.200094216769948,
          27.837484037622612,
          26.11360283154573,
          26.791200968848848,
          26.511476400435804,
          25.630707043521063,
          23.989660088360832,
          26.208711346728922,
          30.837364046155855,
          32.67543186376962,
          32.589401656383096,
          36.36998237963668,
          33.55226221071033,
          35.30712032701165,
          33.463728831832995,
          33.133231512659236,
          37.689564228231156,
          37.90619950612373,
          33.373942646060925,
          36.462483483716106,
          30.40017141512387,
          21.44322953399706,
          21.332898937223266,
          19.37494132683496,
          16.131158092004863,
          13.777856666714909,
          18.371781834601236,
          21.261500112302997,
          23.154042719375106,
          22.228599472893748,
          24.150071518788224,
          18.890596530388862,
          14.784711148697673,
          18.73500854907018,
          22.254942865967667,
          21.708531168186592,
          21.81901236901909,
          24.261647361439106,
          21.827079264420142,
          18.915314633264366,
          17.55737601838463,
          14.626830390440082,
          12.716511854804256,
          10.606549929139778,
          12.128934077748335,
          16.920163911664,
          10.489115043308164,
          9.71538339121951,
          9.029308404590054,
          6.18273473854855,
          2.1042405447582833,
          3.7730790513031995,
          -4.480735001899269,
          -12.092112827675605,
          -13.605170231118503,
          -16.59214967885065,
          -16.822020417913038,
          -16.92025661610212,
          -17.230915692330647,
          -22.7371580004975,
          -17.447014857982875,
          -18.591373156899067,
          -17.566409524013054,
          -19.089183363971078,
          -10.921056364842151,
          -3.822655808449295,
          -0.7787291011893264,
          -0.6249045481847919,
          -4.135141468080504,
          -7.084047676193746,
          -8.347998606984206,
          -7.222665939958156,
          -5.043657482998001,
          -3.1165961901163985,
          -0.964581347536291,
          -3.608179428734733,
          -11.167290221342583,
          -11.672221559343456,
          -17.384283488575345,
          -18.028519076984534,
          -6.274270480894784,
          -3.728197864656461,
          -5.406939274196444,
          -3.246021177251826,
          -6.779589665911095,
          -4.285231686359056,
          6.290643755018001,
          16.769097701025554,
          15.371491501463911,
          11.414443157858644,
          16.320778971345295,
          21.949127851260926,
          24.02142422451043,
          24.35212931113032,
          17.372608124051464,
          24.714492562088942,
          14.749739379929837,
          9.82687264302156,
          7.843932356936889,
          8.344796122471108,
          16.55422493100647,
          12.227582227910272,
          8.498351285391259,
          9.072071673889074,
          8.098492541788557,
          5.547115149109803,
          8.714017361910916,
          5.265092670241284,
          3.4470638843030343,
          5.139632315412872,
          8.059066535008059,
          13.61815960870532,
          10.506717445183329,
          6.594665873657359,
          2.254605131752341,
          1.2558565835552888,
          -0.91533996029633,
          -1.4461384496789227,
          0.12163539394787083,
          6.087829467812138,
          9.566501834912485,
          15.133771267262867,
          10.97009723313974,
          -1.3509643779182843,
          -3.842279777376834,
          3.3171878962381602,
          8.165282534442174,
          11.23973956833171,
          12.412563473747003,
          14.204277258395289,
          13.007113801435683,
          15.261082645102762,
          14.176500736509729,
          9.795037446968932,
          9.996359562206331,
          8.756397775619202,
          5.935812987626157,
          3.693533591016521,
          -2.265830747186254,
          -6.631885174706535,
          -9.974807216336432,
          -10.925040692065282,
          -16.284918212197738,
          -21.322737433539178,
          -28.620018515717877,
          -32.43202848897419,
          -31.828270532177875,
          -36.483314102330986,
          -44.436652980778966,
          -40.252464396224035,
          -35.24656937557279,
          -32.539317115922444,
          -22.06806018759368,
          -17.61087781317004,
          -3.058885587199147,
          11.530472920529755,
          24.447591510781006,
          21.4811571337869,
          22.04371767590491,
          27.01438538676505,
          37.430888509636915,
          22.725202527133348,
          20.175587089693387,
          24.281641863013242,
          21.320654428835546,
          24.183034345004103,
          21.31234875870483,
          1.57481193468821,
          6.508161228909176,
          3.1777777108285865,
          3.5993046963413167,
          10.802569113355501,
          11.823224154640428,
          15.110824776843513,
          16.85200246324467,
          16.442722236924887,
          12.861370438790816,
          9.168224729715412,
          3.0876509244548074,
          -2.173356949427158,
          -0.22737826506500927,
          -3.453099288929536,
          -8.189795301661764,
          -7.693035065001989,
          0.6746718025151308,
          1.4854024364095648,
          1.0349888631048672,
          1.6941115106797269,
          6.328351612383381,
          7.203389626648017,
          10.028475782045485,
          13.152794686910035,
          14.547672810699542,
          18.13010464849543,
          20.522443804182117,
          15.870752490476784,
          9.84655346147441,
          10.870810209612655,
          10.45056047851065,
          13.758823486737075,
          10.79960416633101,
          13.845323186346798,
          15.341001292467402,
          15.78117439131023,
          22.820392132332483,
          13.79089220865498,
          14.295847860856455,
          14.329608709879714,
          20.486155105228004,
          14.953318158157597,
          18.020194726680312,
          12.196262998087713,
          10.750079782009056,
          8.866532791914373,
          9.141059487778676,
          10.518204008036589,
          4.374699073259096,
          13.340301993127033,
          19.541938741859592,
          21.021732065184615,
          18.867072335496957,
          15.505224152925145,
          16.885002376326824,
          18.10519614890643,
          15.445397360930784,
          8.304341380578773,
          5.916481576468133,
          3.256989905433955,
          0.5916762995066914,
          -0.4565872210468481,
          -2.789028579175575,
          -5.069698270160561,
          -4.623591171123782,
          -3.9269568458757766,
          -4.59420632028294,
          -5.7773189206770645,
          -3.7417342097810824,
          -0.728944802151251,
          2.279024890071556,
          1.8247747920542579,
          4.42081601099729,
          6.087522490216116,
          7.064616000751066,
          10.24947857542155,
          11.306055557171499,
          10.69045573264692,
          10.09244929718758,
          13.703731891154401,
          14.797666744141074,
          14.61470725157623,
          11.777325794932962,
          14.587917238882909,
          15.150579273188509,
          11.764014587013365,
          14.632787851860266,
          19.353678816267756,
          17.976538619845016,
          20.477531004094253,
          17.63336087397134,
          14.969776640205996,
          13.445550355405071,
          13.082371601845963,
          13.442382895217087,
          12.719517036552688,
          11.80833335209528,
          10.049327115793096,
          7.832615207219103,
          4.187702050036763,
          3.179198529261221,
          3.648205788106486,
          3.3771580231951406,
          6.308266353478001,
          7.0487183906977195,
          5.711048896798682,
          4.211795707620508,
          4.7605101226490065,
          4.464354421536718,
          8.502103604348362,
          12.352915260532503,
          14.514900903074636,
          12.468713624534258,
          9.087492804067821,
          7.435271331216044,
          6.309744266475959,
          6.444057641228931,
          8.005346793661944,
          14.411929014270829,
          2.891420161648235,
          7.665784301136786,
          6.229567888731004,
          12.75685490551396,
          17.61310554799893,
          23.44791718253992,
          21.444680293938493,
          25.73188501165808,
          29.86395923265646,
          27.252401330583428,
          41.804866362267106,
          34.54651587822281,
          28.80875872419588,
          23.59300628858405,
          24.54767470895043,
          23.779347578822865,
          23.524555427085172,
          20.3390719106466,
          24.874509361978927,
          19.875686057211947,
          7.7716405173770156,
          3.7685417271179698,
          -9.8359865868609,
          -11.718287282793195,
          -12.572439944140651,
          -18.820544575441478,
          -16.015761361528657,
          -3.8991575823722933,
          -6.597598682660735,
          -2.951803844254461,
          -2.390734005302347,
          0.1365005307278742,
          5.768264187529732,
          11.825752746368838,
          13.821740268768236
         ]
        },
        {
         "line": {
          "color": "lightgreen",
          "dash": "dot"
         },
         "mode": "lines",
         "name": "Future",
         "type": "scatter",
         "x": [
          "2023-09-30T00:00:00",
          "2023-10-31T00:00:00",
          "2023-11-30T00:00:00",
          "2023-12-31T00:00:00",
          "2024-01-31T00:00:00",
          "2024-02-29T00:00:00",
          "2024-03-31T00:00:00"
         ],
         "y": [
          13.821740268768236,
          11.597855348589029,
          13.980341654287598,
          23.81274380125923,
          26.024787606647788,
          21.073524802084602,
          19.31714112505567
         ]
        }
       ],
       "layout": {
        "height": 400,
        "hovermode": "x unified",
        "legend": {
         "orientation": "h",
         "x": 0,
         "xanchor": "left",
         "y": 0.05,
         "yanchor": "bottom"
        },
        "margin": {
         "b": 40,
         "l": 80,
         "r": 40,
         "t": 80
        },
        "template": {
         "data": {
          "bar": [
           {
            "error_x": {
             "color": "#f2f5fa"
            },
            "error_y": {
             "color": "#f2f5fa"
            },
            "marker": {
             "line": {
              "color": "rgb(17,17,17)",
              "width": 0.5
             },
             "pattern": {
              "fillmode": "overlay",
              "size": 10,
              "solidity": 0.2
             }
            },
            "type": "bar"
           }
          ],
          "barpolar": [
           {
            "marker": {
             "line": {
              "color": "rgb(17,17,17)",
              "width": 0.5
             },
             "pattern": {
              "fillmode": "overlay",
              "size": 10,
              "solidity": 0.2
             }
            },
            "type": "barpolar"
           }
          ],
          "carpet": [
           {
            "aaxis": {
             "endlinecolor": "#A2B1C6",
             "gridcolor": "#506784",
             "linecolor": "#506784",
             "minorgridcolor": "#506784",
             "startlinecolor": "#A2B1C6"
            },
            "baxis": {
             "endlinecolor": "#A2B1C6",
             "gridcolor": "#506784",
             "linecolor": "#506784",
             "minorgridcolor": "#506784",
             "startlinecolor": "#A2B1C6"
            },
            "type": "carpet"
           }
          ],
          "choropleth": [
           {
            "colorbar": {
             "outlinewidth": 0,
             "ticks": ""
            },
            "type": "choropleth"
           }
          ],
          "contour": [
           {
            "colorbar": {
             "outlinewidth": 0,
             "ticks": ""
            },
            "colorscale": [
             [
              0,
              "#0d0887"
             ],
             [
              0.1111111111111111,
              "#46039f"
             ],
             [
              0.2222222222222222,
              "#7201a8"
             ],
             [
              0.3333333333333333,
              "#9c179e"
             ],
             [
              0.4444444444444444,
              "#bd3786"
             ],
             [
              0.5555555555555556,
              "#d8576b"
             ],
             [
              0.6666666666666666,
              "#ed7953"
             ],
             [
              0.7777777777777778,
              "#fb9f3a"
             ],
             [
              0.8888888888888888,
              "#fdca26"
             ],
             [
              1,
              "#f0f921"
             ]
            ],
            "type": "contour"
           }
          ],
          "contourcarpet": [
           {
            "colorbar": {
             "outlinewidth": 0,
             "ticks": ""
            },
            "type": "contourcarpet"
           }
          ],
          "heatmap": [
           {
            "colorbar": {
             "outlinewidth": 0,
             "ticks": ""
            },
            "colorscale": [
             [
              0,
              "#0d0887"
             ],
             [
              0.1111111111111111,
              "#46039f"
             ],
             [
              0.2222222222222222,
              "#7201a8"
             ],
             [
              0.3333333333333333,
              "#9c179e"
             ],
             [
              0.4444444444444444,
              "#bd3786"
             ],
             [
              0.5555555555555556,
              "#d8576b"
             ],
             [
              0.6666666666666666,
              "#ed7953"
             ],
             [
              0.7777777777777778,
              "#fb9f3a"
             ],
             [
              0.8888888888888888,
              "#fdca26"
             ],
             [
              1,
              "#f0f921"
             ]
            ],
            "type": "heatmap"
           }
          ],
          "heatmapgl": [
           {
            "colorbar": {
             "outlinewidth": 0,
             "ticks": ""
            },
            "colorscale": [
             [
              0,
              "#0d0887"
             ],
             [
              0.1111111111111111,
              "#46039f"
             ],
             [
              0.2222222222222222,
              "#7201a8"
             ],
             [
              0.3333333333333333,
              "#9c179e"
             ],
             [
              0.4444444444444444,
              "#bd3786"
             ],
             [
              0.5555555555555556,
              "#d8576b"
             ],
             [
              0.6666666666666666,
              "#ed7953"
             ],
             [
              0.7777777777777778,
              "#fb9f3a"
             ],
             [
              0.8888888888888888,
              "#fdca26"
             ],
             [
              1,
              "#f0f921"
             ]
            ],
            "type": "heatmapgl"
           }
          ],
          "histogram": [
           {
            "marker": {
             "pattern": {
              "fillmode": "overlay",
              "size": 10,
              "solidity": 0.2
             }
            },
            "type": "histogram"
           }
          ],
          "histogram2d": [
           {
            "colorbar": {
             "outlinewidth": 0,
             "ticks": ""
            },
            "colorscale": [
             [
              0,
              "#0d0887"
             ],
             [
              0.1111111111111111,
              "#46039f"
             ],
             [
              0.2222222222222222,
              "#7201a8"
             ],
             [
              0.3333333333333333,
              "#9c179e"
             ],
             [
              0.4444444444444444,
              "#bd3786"
             ],
             [
              0.5555555555555556,
              "#d8576b"
             ],
             [
              0.6666666666666666,
              "#ed7953"
             ],
             [
              0.7777777777777778,
              "#fb9f3a"
             ],
             [
              0.8888888888888888,
              "#fdca26"
             ],
             [
              1,
              "#f0f921"
             ]
            ],
            "type": "histogram2d"
           }
          ],
          "histogram2dcontour": [
           {
            "colorbar": {
             "outlinewidth": 0,
             "ticks": ""
            },
            "colorscale": [
             [
              0,
              "#0d0887"
             ],
             [
              0.1111111111111111,
              "#46039f"
             ],
             [
              0.2222222222222222,
              "#7201a8"
             ],
             [
              0.3333333333333333,
              "#9c179e"
             ],
             [
              0.4444444444444444,
              "#bd3786"
             ],
             [
              0.5555555555555556,
              "#d8576b"
             ],
             [
              0.6666666666666666,
              "#ed7953"
             ],
             [
              0.7777777777777778,
              "#fb9f3a"
             ],
             [
              0.8888888888888888,
              "#fdca26"
             ],
             [
              1,
              "#f0f921"
             ]
            ],
            "type": "histogram2dcontour"
           }
          ],
          "mesh3d": [
           {
            "colorbar": {
             "outlinewidth": 0,
             "ticks": ""
            },
            "type": "mesh3d"
           }
          ],
          "parcoords": [
           {
            "line": {
             "colorbar": {
              "outlinewidth": 0,
              "ticks": ""
             }
            },
            "type": "parcoords"
           }
          ],
          "pie": [
           {
            "automargin": true,
            "type": "pie"
           }
          ],
          "scatter": [
           {
            "marker": {
             "line": {
              "color": "#283442"
             }
            },
            "type": "scatter"
           }
          ],
          "scatter3d": [
           {
            "line": {
             "colorbar": {
              "outlinewidth": 0,
              "ticks": ""
             }
            },
            "marker": {
             "colorbar": {
              "outlinewidth": 0,
              "ticks": ""
             }
            },
            "type": "scatter3d"
           }
          ],
          "scattercarpet": [
           {
            "marker": {
             "colorbar": {
              "outlinewidth": 0,
              "ticks": ""
             }
            },
            "type": "scattercarpet"
           }
          ],
          "scattergeo": [
           {
            "marker": {
             "colorbar": {
              "outlinewidth": 0,
              "ticks": ""
             }
            },
            "type": "scattergeo"
           }
          ],
          "scattergl": [
           {
            "marker": {
             "line": {
              "color": "#283442"
             }
            },
            "type": "scattergl"
           }
          ],
          "scattermapbox": [
           {
            "marker": {
             "colorbar": {
              "outlinewidth": 0,
              "ticks": ""
             }
            },
            "type": "scattermapbox"
           }
          ],
          "scatterpolar": [
           {
            "marker": {
             "colorbar": {
              "outlinewidth": 0,
              "ticks": ""
             }
            },
            "type": "scatterpolar"
           }
          ],
          "scatterpolargl": [
           {
            "marker": {
             "colorbar": {
              "outlinewidth": 0,
              "ticks": ""
             }
            },
            "type": "scatterpolargl"
           }
          ],
          "scatterternary": [
           {
            "marker": {
             "colorbar": {
              "outlinewidth": 0,
              "ticks": ""
             }
            },
            "type": "scatterternary"
           }
          ],
          "surface": [
           {
            "colorbar": {
             "outlinewidth": 0,
             "ticks": ""
            },
            "colorscale": [
             [
              0,
              "#0d0887"
             ],
             [
              0.1111111111111111,
              "#46039f"
             ],
             [
              0.2222222222222222,
              "#7201a8"
             ],
             [
              0.3333333333333333,
              "#9c179e"
             ],
             [
              0.4444444444444444,
              "#bd3786"
             ],
             [
              0.5555555555555556,
              "#d8576b"
             ],
             [
              0.6666666666666666,
              "#ed7953"
             ],
             [
              0.7777777777777778,
              "#fb9f3a"
             ],
             [
              0.8888888888888888,
              "#fdca26"
             ],
             [
              1,
              "#f0f921"
             ]
            ],
            "type": "surface"
           }
          ],
          "table": [
           {
            "cells": {
             "fill": {
              "color": "#506784"
             },
             "line": {
              "color": "rgb(17,17,17)"
             }
            },
            "header": {
             "fill": {
              "color": "#2a3f5f"
             },
             "line": {
              "color": "rgb(17,17,17)"
             }
            },
            "type": "table"
           }
          ]
         },
         "layout": {
          "annotationdefaults": {
           "arrowcolor": "#f2f5fa",
           "arrowhead": 0,
           "arrowwidth": 1
          },
          "autotypenumbers": "strict",
          "coloraxis": {
           "colorbar": {
            "outlinewidth": 0,
            "ticks": ""
           }
          },
          "colorscale": {
           "diverging": [
            [
             0,
             "#8e0152"
            ],
            [
             0.1,
             "#c51b7d"
            ],
            [
             0.2,
             "#de77ae"
            ],
            [
             0.3,
             "#f1b6da"
            ],
            [
             0.4,
             "#fde0ef"
            ],
            [
             0.5,
             "#f7f7f7"
            ],
            [
             0.6,
             "#e6f5d0"
            ],
            [
             0.7,
             "#b8e186"
            ],
            [
             0.8,
             "#7fbc41"
            ],
            [
             0.9,
             "#4d9221"
            ],
            [
             1,
             "#276419"
            ]
           ],
           "sequential": [
            [
             0,
             "#0d0887"
            ],
            [
             0.1111111111111111,
             "#46039f"
            ],
            [
             0.2222222222222222,
             "#7201a8"
            ],
            [
             0.3333333333333333,
             "#9c179e"
            ],
            [
             0.4444444444444444,
             "#bd3786"
            ],
            [
             0.5555555555555556,
             "#d8576b"
            ],
            [
             0.6666666666666666,
             "#ed7953"
            ],
            [
             0.7777777777777778,
             "#fb9f3a"
            ],
            [
             0.8888888888888888,
             "#fdca26"
            ],
            [
             1,
             "#f0f921"
            ]
           ],
           "sequentialminus": [
            [
             0,
             "#0d0887"
            ],
            [
             0.1111111111111111,
             "#46039f"
            ],
            [
             0.2222222222222222,
             "#7201a8"
            ],
            [
             0.3333333333333333,
             "#9c179e"
            ],
            [
             0.4444444444444444,
             "#bd3786"
            ],
            [
             0.5555555555555556,
             "#d8576b"
            ],
            [
             0.6666666666666666,
             "#ed7953"
            ],
            [
             0.7777777777777778,
             "#fb9f3a"
            ],
            [
             0.8888888888888888,
             "#fdca26"
            ],
            [
             1,
             "#f0f921"
            ]
           ]
          },
          "colorway": [
           "#636efa",
           "#EF553B",
           "#00cc96",
           "#ab63fa",
           "#FFA15A",
           "#19d3f3",
           "#FF6692",
           "#B6E880",
           "#FF97FF",
           "#FECB52"
          ],
          "font": {
           "color": "#f2f5fa"
          },
          "geo": {
           "bgcolor": "rgb(17,17,17)",
           "lakecolor": "rgb(17,17,17)",
           "landcolor": "rgb(17,17,17)",
           "showlakes": true,
           "showland": true,
           "subunitcolor": "#506784"
          },
          "hoverlabel": {
           "align": "left"
          },
          "hovermode": "closest",
          "mapbox": {
           "style": "dark"
          },
          "paper_bgcolor": "rgb(17,17,17)",
          "plot_bgcolor": "rgb(17,17,17)",
          "polar": {
           "angularaxis": {
            "gridcolor": "#506784",
            "linecolor": "#506784",
            "ticks": ""
           },
           "bgcolor": "rgb(17,17,17)",
           "radialaxis": {
            "gridcolor": "#506784",
            "linecolor": "#506784",
            "ticks": ""
           }
          },
          "scene": {
           "xaxis": {
            "backgroundcolor": "rgb(17,17,17)",
            "gridcolor": "#506784",
            "gridwidth": 2,
            "linecolor": "#506784",
            "showbackground": true,
            "ticks": "",
            "zerolinecolor": "#C8D4E3"
           },
           "yaxis": {
            "backgroundcolor": "rgb(17,17,17)",
            "gridcolor": "#506784",
            "gridwidth": 2,
            "linecolor": "#506784",
            "showbackground": true,
            "ticks": "",
            "zerolinecolor": "#C8D4E3"
           },
           "zaxis": {
            "backgroundcolor": "rgb(17,17,17)",
            "gridcolor": "#506784",
            "gridwidth": 2,
            "linecolor": "#506784",
            "showbackground": true,
            "ticks": "",
            "zerolinecolor": "#C8D4E3"
           }
          },
          "shapedefaults": {
           "line": {
            "color": "#f2f5fa"
           }
          },
          "sliderdefaults": {
           "bgcolor": "#C8D4E3",
           "bordercolor": "rgb(17,17,17)",
           "borderwidth": 1,
           "tickwidth": 0
          },
          "ternary": {
           "aaxis": {
            "gridcolor": "#506784",
            "linecolor": "#506784",
            "ticks": ""
           },
           "baxis": {
            "gridcolor": "#506784",
            "linecolor": "#506784",
            "ticks": ""
           },
           "bgcolor": "rgb(17,17,17)",
           "caxis": {
            "gridcolor": "#506784",
            "linecolor": "#506784",
            "ticks": ""
           }
          },
          "title": {
           "x": 0.05
          },
          "updatemenudefaults": {
           "bgcolor": "#506784",
           "borderwidth": 0
          },
          "xaxis": {
           "automargin": true,
           "gridcolor": "#283442",
           "linecolor": "#506784",
           "ticks": "",
           "title": {
            "standoff": 15
           },
           "zerolinecolor": "#283442",
           "zerolinewidth": 2
          },
          "yaxis": {
           "automargin": true,
           "gridcolor": "#283442",
           "linecolor": "#506784",
           "ticks": "",
           "title": {
            "standoff": 15
           },
           "zerolinecolor": "#283442",
           "zerolinewidth": 2
          }
         }
        },
        "title": {
         "text": "Prediction of %YoY S&P500 in 6-Month Based on Current Data<br><span style=\"font-size: 12.5px; color: lightgrey;\"> --Model predicts 1-month moving averaged target prices</span>"
        },
        "width": 700
       }
      }
     },
     "metadata": {},
     "output_type": "display_data"
    },
    {
     "data": {
      "application/vnd.plotly.v1+json": {
       "config": {
        "plotlyServerURL": "https://plot.ly"
       },
       "data": [
        {
         "marker": {
          "color": "red",
          "opacity": 0.5
         },
         "mode": "markers",
         "name": "Error",
         "type": "scatter",
         "x": [
          0,
          0.3333333333333333,
          0.6666666666666666,
          1,
          1.3333333333333333,
          1.6666666666666667,
          2,
          2.3333333333333335,
          2.6666666666666665,
          3,
          3.3333333333333335,
          3.6666666666666665,
          4,
          4.333333333333333,
          4.666666666666667,
          5,
          5.333333333333333,
          5.666666666666667,
          6,
          6.333333333333333,
          6.666666666666667,
          7,
          7.333333333333333,
          7.666666666666667,
          8,
          8.333333333333334,
          8.666666666666666,
          9,
          9.333333333333334,
          9.666666666666666,
          10,
          10.333333333333334,
          10.666666666666666,
          11,
          11.333333333333334,
          11.666666666666666,
          12,
          12.333333333333334,
          12.666666666666666,
          13,
          13.333333333333334,
          13.666666666666666,
          14,
          14.333333333333334,
          14.666666666666666,
          15,
          15.333333333333334,
          15.666666666666666,
          16,
          16.333333333333332,
          16.666666666666668,
          17,
          17.333333333333332,
          17.666666666666668,
          18,
          18.333333333333332,
          18.666666666666668,
          19,
          19.333333333333332,
          19.666666666666668,
          20,
          20.333333333333332,
          20.666666666666668,
          21,
          21.333333333333332,
          21.666666666666668,
          22,
          22.333333333333332,
          22.666666666666668,
          23,
          23.333333333333332,
          23.666666666666668,
          24,
          24.333333333333332,
          24.666666666666668,
          25,
          25.333333333333332,
          25.666666666666668,
          26,
          26.333333333333332,
          26.666666666666668,
          27,
          27.333333333333332,
          27.666666666666668,
          28,
          28.333333333333332,
          28.666666666666668,
          29,
          29.333333333333332,
          29.666666666666668,
          30,
          30.333333333333332,
          30.666666666666668,
          31,
          31.333333333333332,
          31.666666666666668,
          32,
          32.333333333333336,
          32.666666666666664,
          33,
          33.333333333333336,
          33.666666666666664,
          34,
          34.333333333333336,
          34.666666666666664,
          35,
          35.333333333333336,
          35.666666666666664,
          36,
          36.333333333333336,
          36.666666666666664,
          37,
          37.333333333333336,
          37.666666666666664,
          38,
          38.333333333333336,
          38.666666666666664,
          39,
          39.333333333333336,
          39.666666666666664,
          40,
          40.333333333333336,
          40.666666666666664,
          41,
          41.333333333333336,
          41.666666666666664,
          42,
          42.333333333333336,
          42.666666666666664,
          43,
          43.333333333333336,
          43.666666666666664,
          44,
          44.333333333333336,
          44.666666666666664,
          45,
          45.333333333333336,
          45.666666666666664,
          46,
          46.333333333333336,
          46.666666666666664,
          47,
          47.333333333333336,
          47.666666666666664,
          48,
          48.333333333333336,
          48.666666666666664,
          49,
          49.333333333333336,
          49.666666666666664,
          50,
          50.333333333333336,
          50.666666666666664,
          51,
          51.333333333333336,
          51.666666666666664,
          52,
          52.333333333333336,
          52.666666666666664,
          53,
          53.333333333333336,
          53.666666666666664,
          54,
          54.333333333333336,
          54.666666666666664,
          55,
          55.333333333333336,
          55.666666666666664,
          56,
          56.333333333333336,
          56.666666666666664,
          57,
          57.333333333333336,
          57.666666666666664,
          58,
          58.333333333333336,
          58.666666666666664,
          59,
          59.333333333333336,
          59.666666666666664,
          60,
          60.333333333333336,
          60.666666666666664,
          61,
          61.333333333333336,
          61.666666666666664,
          62,
          62.333333333333336,
          62.666666666666664,
          63,
          63.333333333333336,
          63.666666666666664,
          64,
          64.33333333333333,
          64.66666666666667,
          65,
          65.33333333333333,
          65.66666666666667,
          66,
          66.33333333333333,
          66.66666666666667,
          67,
          67.33333333333333,
          67.66666666666667,
          68,
          68.33333333333333,
          68.66666666666667,
          69,
          69.33333333333333,
          69.66666666666667,
          70,
          70.33333333333333,
          70.66666666666667,
          71,
          71.33333333333333,
          71.66666666666667,
          72,
          72.33333333333333,
          72.66666666666667,
          73,
          73.33333333333333,
          73.66666666666667,
          74,
          74.33333333333333,
          74.66666666666667,
          75,
          75.33333333333333,
          75.66666666666667,
          76,
          76.33333333333333,
          76.66666666666667,
          77,
          77.33333333333333,
          77.66666666666667,
          78,
          78.33333333333333,
          78.66666666666667,
          79,
          79.33333333333333,
          79.66666666666667,
          80,
          80.33333333333333,
          80.66666666666667,
          81,
          81.33333333333333,
          81.66666666666667,
          82,
          82.33333333333333,
          82.66666666666667,
          83,
          83.33333333333333,
          83.66666666666667,
          84,
          84.33333333333333,
          84.66666666666667,
          85,
          85.33333333333333,
          85.66666666666667,
          86,
          86.33333333333333,
          86.66666666666667,
          87,
          87.33333333333333,
          87.66666666666667,
          88,
          88.33333333333333,
          88.66666666666667,
          89,
          89.33333333333333,
          89.66666666666667,
          90,
          90.33333333333333,
          90.66666666666667,
          91,
          91.33333333333333,
          91.66666666666667,
          92,
          92.33333333333333,
          92.66666666666667,
          93,
          93.33333333333333,
          93.66666666666667,
          94,
          94.33333333333333,
          94.66666666666667,
          95,
          95.33333333333333,
          95.66666666666667,
          96,
          96.33333333333333,
          96.66666666666667,
          97,
          97.33333333333333,
          97.66666666666667,
          98,
          98.33333333333333,
          98.66666666666667,
          99,
          99.33333333333333,
          99.66666666666667,
          100,
          100.33333333333333,
          100.66666666666667,
          101,
          101.33333333333333,
          101.66666666666667,
          102,
          102.33333333333333,
          102.66666666666667,
          103,
          103.33333333333333,
          103.66666666666667,
          104,
          104.33333333333333,
          104.66666666666667,
          105,
          105.33333333333333,
          105.66666666666667,
          106,
          106.33333333333333,
          106.66666666666667,
          107,
          107.33333333333333,
          107.66666666666667,
          108,
          108.33333333333333,
          108.66666666666667,
          109,
          109.33333333333333,
          109.66666666666667,
          110,
          110.33333333333333,
          110.66666666666667,
          111,
          111.33333333333333,
          111.66666666666667,
          112,
          112.33333333333333,
          112.66666666666667,
          113,
          113.33333333333333,
          113.66666666666667,
          114,
          114.33333333333333,
          114.66666666666667,
          115,
          115.33333333333333,
          115.66666666666667,
          116,
          116.33333333333333,
          116.66666666666667,
          117,
          117.33333333333333,
          117.66666666666667,
          118,
          118.33333333333333,
          118.66666666666667,
          119,
          119.33333333333333,
          119.66666666666667,
          120,
          120.33333333333333,
          120.66666666666667,
          121,
          121.33333333333333,
          121.66666666666667,
          122,
          122.33333333333333,
          122.66666666666667,
          123,
          123.33333333333333,
          123.66666666666667,
          124,
          124.33333333333333,
          124.66666666666667,
          125,
          125.33333333333333,
          125.66666666666667,
          126,
          126.33333333333333,
          126.66666666666667,
          127,
          127.33333333333333,
          127.66666666666667,
          128,
          128.33333333333334,
          128.66666666666666,
          129,
          129.33333333333334,
          129.66666666666666,
          130,
          130.33333333333334,
          130.66666666666666,
          131,
          131.33333333333334,
          131.66666666666666,
          132,
          132.33333333333334,
          132.66666666666666,
          133,
          133.33333333333334,
          133.66666666666666,
          134,
          134.33333333333334,
          134.66666666666666,
          135,
          135.33333333333334,
          135.66666666666666,
          136,
          136.33333333333334,
          136.66666666666666
         ],
         "y": [
          -9.434208069082363,
          -22.600714781464678,
          -14.468709276052161,
          -3.5640611254366306,
          -0.32230825569914145,
          -2.604399993973999,
          22.247935758859896,
          15.859690131278247,
          7.880178213285088,
          13.390866444138664,
          10.113567438592487,
          3.9626431096677557,
          9.38943003128032,
          19.537116873668943,
          21.926530835611935,
          14.320294137824474,
          4.489886146391061,
          1.2454737432765564,
          -15.9924327353052,
          -21.621631474801813,
          -17.007313490912367,
          -13.49426442464188,
          -1.2168172834400997,
          6.157393711814928,
          0.6673560229555662,
          -11.679715776789989,
          -18.146664588491397,
          -15.290232137798066,
          0.2508172424785009,
          -10.929328588704948,
          -2.530997038405541,
          2.4154059194152175,
          3.6019841828170724,
          -1.3962268287007298,
          7.671573457881183,
          4.508422919050574,
          11.053767654547237,
          8.409173800941101,
          3.7120198488306846,
          1.2475784905234741,
          -9.096940203274713,
          3.7112134923890867,
          1.230014815121728,
          1.5398709803992636,
          -1.505199279771988,
          2.825958420846443,
          -6.574601131418341,
          -10.19149871594739,
          -4.088788146369644,
          -6.913302366505045,
          -1.217735000076642,
          -2.729670076110727,
          3.7811837921006024,
          4.359444855992729,
          1.960221452949039,
          5.6138708881059145,
          10.375071325702448,
          5.833859855314353,
          3.6247521765808406,
          3.8759958395873855,
          2.4938610236913545,
          1.1483896028490124,
          -0.42807151757874073,
          2.2043761129279837,
          1.8635973841724296,
          1.8564532412422552,
          0.7902088936841549,
          -9.163608476333646,
          -13.831920047924346,
          -13.431092911725871,
          -11.847677654302418,
          -14.430565273882594,
          -15.7443452137313,
          -5.02565763469182,
          -11.5876452353892,
          -10.819409844094931,
          -24.335652526186543,
          -25.758846959864524,
          -23.88572809995457,
          -12.724044801705393,
          -5.280734049886224,
          -1.8459658559607526,
          -0.9175513405150113,
          1.2781609838973083,
          8.797708126618357,
          11.040915884548923,
          6.800991254420751,
          2.7145524329880395,
          -1.2971833694160857,
          7.936428046466663,
          4.231316149395585,
          2.6309401879532857,
          9.499180036674169,
          4.0142588896890885,
          -1.14476454409904,
          -7.996682336492199,
          -22.913873129425976,
          -7.120270913820562,
          -5.144829981866053,
          2.905738692079048,
          10.16459814083543,
          2.5440804641394834,
          10.614937719966633,
          0.7736152659395756,
          -12.385313381861813,
          -1.046797708237726,
          9.314235930932078,
          5.276698474961702,
          19.029988087847176,
          23.973046499707365,
          14.082155900838382,
          1.209782253715474,
          -2.4201157327936045,
          -10.537431063960486,
          -16.760354497934053,
          0.36141375654620944,
          4.504523019751382,
          3.056893746050399,
          2.8835168816619046,
          3.0827249515529225,
          0.3258166576821786,
          -23.148808173702967,
          -7.390589883644047,
          -1.7977753474706617,
          2.348422856132313,
          2.292965710140688,
          15.288815551345412,
          11.483302368420684,
          2.4185087575825577,
          8.775788870335145,
          5.504356593071892,
          6.750938865699539,
          2.9217113173193674,
          -2.8111235123021014,
          4.929920324897388,
          5.612124436039448,
          15.04042829605343,
          19.16849307044849,
          8.222947578560685,
          11.360552547754963,
          26.344447274491703,
          9.493782549211152,
          -0.49278633684484063,
          2.221859506757605,
          -1.2444156831595343,
          8.486350520814934,
          10.61662552674592,
          8.627485651177203,
          -9.390642428281577,
          -4.404321685240273,
          -1.3286842374958,
          -6.823150395960214,
          -17.973988385273124,
          2.888102982907304,
          11.20178556932725,
          18.37872174112853,
          24.111106794236925,
          15.052737390283443,
          14.594428010359453,
          8.072391919407,
          10.605230178196095,
          18.322306474105563,
          21.171136142575868,
          23.032234564345156,
          22.46926748580328,
          3.689900146197946,
          -1.9687162674832628,
          -15.836526602388199,
          -26.6604054839178,
          -16.310621601040832,
          -25.891127767659604,
          -24.029359495619772,
          -16.264140596152235,
          -33.15998959873094,
          -36.472912970292775,
          -29.825376951728664,
          -16.010497510199425,
          -5.391505212135137,
          -4.888135996899569,
          -0.7484838116524024,
          10.699117913040608,
          14.474893978136722,
          12.443137188824936,
          9.807248206510582,
          13.78839159325528,
          5.756286968983082,
          5.394135960942984,
          2.72051652888573,
          3.516211154394231,
          12.079383011668334,
          5.908209802698061,
          4.072665672416564,
          -2.950954733018637,
          -2.414617547230451,
          -4.701598002291764,
          1.9178696082229392,
          -1.1805325228627037,
          0.44604122617553976,
          -3.2250882725732026,
          1.6566022481310512,
          3.938251037106591,
          -2.7845487527302346,
          -0.0012187944343304835,
          -4.36572660055633,
          -2.1861031484158335,
          -7.756931434810083,
          -10.156997889964103,
          -14.03979908113291,
          -6.009205040684571,
          -4.052929903348215,
          2.778290390337828,
          1.1189338687590187,
          -11.080897939547585,
          -16.947628560413275,
          -17.19553453351559,
          -10.190097199194284,
          -2.7506713922751587,
          -0.6390886680729775,
          -0.08625146136823858,
          0.5653477763068739,
          9.512954339629186,
          10.646927670161771,
          13.945244770610584,
          15.41211597134919,
          15.664892292438166,
          12.46454937703372,
          12.20250320136083,
          12.590987639289983,
          6.2791218636269965,
          2.9940755743324363,
          12.680003660214885,
          21.190071980845865,
          18.167116235217055,
          9.865774545188845,
          7.658648263395094,
          12.927970935546462,
          3.1953715731090853,
          -7.428592810673948,
          -5.887507130596241,
          -7.068444947777376,
          -10.454384156928569,
          -1.6280977670153298,
          -8.241555248152858,
          -10.020427925908816,
          -10.716918048522528,
          0.9934010224402847,
          -8.546206256559788,
          -28.208625558719948,
          -19.554612177703703,
          1.4688870745439573,
          4.200275223606418,
          8.059027814812188,
          12.724952373164992,
          18.50766222068236,
          16.22526401406845,
          7.118998439188978,
          -6.175983823629442,
          -6.274552624851,
          -16.58718461841853,
          -16.56656212346447,
          -2.5714588456017786,
          -3.0854759002078502,
          -8.36884852952493,
          -11.277157504048809,
          -0.866651214133455,
          -3.29751815629597,
          10.025209276246427,
          -2.831592393535223,
          -7.798693391138951,
          -0.22419459867131808,
          -5.497235074261493,
          -11.087587970305638,
          -13.926113015235657,
          -1.8407137693558342,
          4.077581769066428,
          -2.108942796598991,
          -5.0412643381249325,
          -9.070079677611648,
          -20.12951839941377,
          -2.6468596653680425,
          -0.4178168863928473,
          1.1419818840784917,
          3.980567054633191,
          9.612128493130673,
          4.459790663375012,
          -4.436190579814209,
          -13.581812024898403,
          -7.470975096727408,
          -8.455749354325402,
          -5.295464846555989,
          -2.8746749766715904,
          -9.045753504970277,
          -11.731570464955173,
          -6.780857440991873,
          -5.198366473977124,
          -8.466048066686643,
          -4.989277832458857,
          2.5601791222649872,
          -3.0035577269184195,
          -4.015187941110884,
          -2.333944467787232,
          -11.93251886091489,
          -8.423466422619384,
          -5.746731507591866,
          -3.9766759354184966,
          -7.01593471348902,
          1.4250534790740428,
          6.363307680900526,
          10.577585685382394,
          8.168271209258247,
          5.949036885407953,
          11.636632135171592,
          9.135768955047826,
          17.00227110278923,
          10.954053579625622,
          2.878397430371124,
          2.635491465172685,
          1.3182760200890464,
          2.2877874509066607,
          5.3967646986220075,
          -4.675581428011434,
          -3.6545255304476565,
          -3.4315600783854463,
          -6.327027068501485,
          -9.093160755194472,
          -13.820423378496876,
          -13.65790874784963,
          0.028823265308829615,
          -3.8664183615260517,
          -5.114206656286366,
          -11.36547964650509,
          -15.262431838798399,
          -4.4601440908002274,
          -4.1347953993128765,
          -4.324213429118096,
          -5.37069679529589,
          0.053569127001017236,
          0.946589661062406,
          -1.577468295200271,
          -9.345837107494612,
          -5.821759248510514,
          -4.269386250099419,
          -12.148710289066683,
          -0.18292864736108783,
          7.5812237672845235,
          6.909929146651994,
          8.309442242104227,
          5.462072657138609,
          0.9637861372099046,
          -3.946480642992963,
          -2.5811245329205548,
          8.142724610181595,
          8.466960346001686,
          18.04559320171596,
          14.288633529947427,
          5.228918215320684,
          -3.1405563105961702,
          -8.066058312793375,
          1.9186172914059791,
          -4.8406299507710555,
          0.48181234930792183,
          6.189170938384117,
          3.5572932023093373,
          -7.803370552151108,
          -9.03610636736271,
          -24.41371580362173,
          -10.780463720986058,
          6.257365229323252,
          23.328400164295985,
          13.602524659067319,
          -1.5318248626161832,
          2.046319521054431,
          -3.44539587695557,
          -13.164961628333046,
          -4.97059369938772,
          6.761054698674905,
          -12.41112571042126,
          -8.593138754569392,
          -8.92209657913202,
          -16.25012291397013,
          -36.1014007171141,
          -20.11501892283346,
          -16.652615394242606,
          -12.884178190593978,
          -4.5016283387358165,
          -1.9555859640688986,
          13.718632670251047,
          -6.292513890573929,
          2.705315032336884,
          -3.2997323727872008,
          2.9736833524425066,
          9.012412310378028,
          9.491439011918592,
          21.516726658331883,
          26.586166841865435,
          31.792384537433,
          13.800174453751119,
          16.320394914109873,
          6.923461156592227,
          4.206564108529241,
          -1.911395657341325,
          0.62228262798779,
          -6.294913933922274,
          5.332565863118798,
          2.6973676257498767,
          -3.8605753648283754,
          -3.5446170179734446,
          -17.431089000231218,
          -5.336765181766316,
          -2.1479553762607537,
          -5.768446771206714
         ]
        },
        {
         "histnorm": "",
         "marker": {
          "color": "grey",
          "opacity": 0.5
         },
         "name": "Distribution",
         "nbinsy": 20,
         "type": "histogram",
         "y": [
          -9.434208069082363,
          -22.600714781464678,
          -14.468709276052161,
          -3.5640611254366306,
          -0.32230825569914145,
          -2.604399993973999,
          22.247935758859896,
          15.859690131278247,
          7.880178213285088,
          13.390866444138664,
          10.113567438592487,
          3.9626431096677557,
          9.38943003128032,
          19.537116873668943,
          21.926530835611935,
          14.320294137824474,
          4.489886146391061,
          1.2454737432765564,
          -15.9924327353052,
          -21.621631474801813,
          -17.007313490912367,
          -13.49426442464188,
          -1.2168172834400997,
          6.157393711814928,
          0.6673560229555662,
          -11.679715776789989,
          -18.146664588491397,
          -15.290232137798066,
          0.2508172424785009,
          -10.929328588704948,
          -2.530997038405541,
          2.4154059194152175,
          3.6019841828170724,
          -1.3962268287007298,
          7.671573457881183,
          4.508422919050574,
          11.053767654547237,
          8.409173800941101,
          3.7120198488306846,
          1.2475784905234741,
          -9.096940203274713,
          3.7112134923890867,
          1.230014815121728,
          1.5398709803992636,
          -1.505199279771988,
          2.825958420846443,
          -6.574601131418341,
          -10.19149871594739,
          -4.088788146369644,
          -6.913302366505045,
          -1.217735000076642,
          -2.729670076110727,
          3.7811837921006024,
          4.359444855992729,
          1.960221452949039,
          5.6138708881059145,
          10.375071325702448,
          5.833859855314353,
          3.6247521765808406,
          3.8759958395873855,
          2.4938610236913545,
          1.1483896028490124,
          -0.42807151757874073,
          2.2043761129279837,
          1.8635973841724296,
          1.8564532412422552,
          0.7902088936841549,
          -9.163608476333646,
          -13.831920047924346,
          -13.431092911725871,
          -11.847677654302418,
          -14.430565273882594,
          -15.7443452137313,
          -5.02565763469182,
          -11.5876452353892,
          -10.819409844094931,
          -24.335652526186543,
          -25.758846959864524,
          -23.88572809995457,
          -12.724044801705393,
          -5.280734049886224,
          -1.8459658559607526,
          -0.9175513405150113,
          1.2781609838973083,
          8.797708126618357,
          11.040915884548923,
          6.800991254420751,
          2.7145524329880395,
          -1.2971833694160857,
          7.936428046466663,
          4.231316149395585,
          2.6309401879532857,
          9.499180036674169,
          4.0142588896890885,
          -1.14476454409904,
          -7.996682336492199,
          -22.913873129425976,
          -7.120270913820562,
          -5.144829981866053,
          2.905738692079048,
          10.16459814083543,
          2.5440804641394834,
          10.614937719966633,
          0.7736152659395756,
          -12.385313381861813,
          -1.046797708237726,
          9.314235930932078,
          5.276698474961702,
          19.029988087847176,
          23.973046499707365,
          14.082155900838382,
          1.209782253715474,
          -2.4201157327936045,
          -10.537431063960486,
          -16.760354497934053,
          0.36141375654620944,
          4.504523019751382,
          3.056893746050399,
          2.8835168816619046,
          3.0827249515529225,
          0.3258166576821786,
          -23.148808173702967,
          -7.390589883644047,
          -1.7977753474706617,
          2.348422856132313,
          2.292965710140688,
          15.288815551345412,
          11.483302368420684,
          2.4185087575825577,
          8.775788870335145,
          5.504356593071892,
          6.750938865699539,
          2.9217113173193674,
          -2.8111235123021014,
          4.929920324897388,
          5.612124436039448,
          15.04042829605343,
          19.16849307044849,
          8.222947578560685,
          11.360552547754963,
          26.344447274491703,
          9.493782549211152,
          -0.49278633684484063,
          2.221859506757605,
          -1.2444156831595343,
          8.486350520814934,
          10.61662552674592,
          8.627485651177203,
          -9.390642428281577,
          -4.404321685240273,
          -1.3286842374958,
          -6.823150395960214,
          -17.973988385273124,
          2.888102982907304,
          11.20178556932725,
          18.37872174112853,
          24.111106794236925,
          15.052737390283443,
          14.594428010359453,
          8.072391919407,
          10.605230178196095,
          18.322306474105563,
          21.171136142575868,
          23.032234564345156,
          22.46926748580328,
          3.689900146197946,
          -1.9687162674832628,
          -15.836526602388199,
          -26.6604054839178,
          -16.310621601040832,
          -25.891127767659604,
          -24.029359495619772,
          -16.264140596152235,
          -33.15998959873094,
          -36.472912970292775,
          -29.825376951728664,
          -16.010497510199425,
          -5.391505212135137,
          -4.888135996899569,
          -0.7484838116524024,
          10.699117913040608,
          14.474893978136722,
          12.443137188824936,
          9.807248206510582,
          13.78839159325528,
          5.756286968983082,
          5.394135960942984,
          2.72051652888573,
          3.516211154394231,
          12.079383011668334,
          5.908209802698061,
          4.072665672416564,
          -2.950954733018637,
          -2.414617547230451,
          -4.701598002291764,
          1.9178696082229392,
          -1.1805325228627037,
          0.44604122617553976,
          -3.2250882725732026,
          1.6566022481310512,
          3.938251037106591,
          -2.7845487527302346,
          -0.0012187944343304835,
          -4.36572660055633,
          -2.1861031484158335,
          -7.756931434810083,
          -10.156997889964103,
          -14.03979908113291,
          -6.009205040684571,
          -4.052929903348215,
          2.778290390337828,
          1.1189338687590187,
          -11.080897939547585,
          -16.947628560413275,
          -17.19553453351559,
          -10.190097199194284,
          -2.7506713922751587,
          -0.6390886680729775,
          -0.08625146136823858,
          0.5653477763068739,
          9.512954339629186,
          10.646927670161771,
          13.945244770610584,
          15.41211597134919,
          15.664892292438166,
          12.46454937703372,
          12.20250320136083,
          12.590987639289983,
          6.2791218636269965,
          2.9940755743324363,
          12.680003660214885,
          21.190071980845865,
          18.167116235217055,
          9.865774545188845,
          7.658648263395094,
          12.927970935546462,
          3.1953715731090853,
          -7.428592810673948,
          -5.887507130596241,
          -7.068444947777376,
          -10.454384156928569,
          -1.6280977670153298,
          -8.241555248152858,
          -10.020427925908816,
          -10.716918048522528,
          0.9934010224402847,
          -8.546206256559788,
          -28.208625558719948,
          -19.554612177703703,
          1.4688870745439573,
          4.200275223606418,
          8.059027814812188,
          12.724952373164992,
          18.50766222068236,
          16.22526401406845,
          7.118998439188978,
          -6.175983823629442,
          -6.274552624851,
          -16.58718461841853,
          -16.56656212346447,
          -2.5714588456017786,
          -3.0854759002078502,
          -8.36884852952493,
          -11.277157504048809,
          -0.866651214133455,
          -3.29751815629597,
          10.025209276246427,
          -2.831592393535223,
          -7.798693391138951,
          -0.22419459867131808,
          -5.497235074261493,
          -11.087587970305638,
          -13.926113015235657,
          -1.8407137693558342,
          4.077581769066428,
          -2.108942796598991,
          -5.0412643381249325,
          -9.070079677611648,
          -20.12951839941377,
          -2.6468596653680425,
          -0.4178168863928473,
          1.1419818840784917,
          3.980567054633191,
          9.612128493130673,
          4.459790663375012,
          -4.436190579814209,
          -13.581812024898403,
          -7.470975096727408,
          -8.455749354325402,
          -5.295464846555989,
          -2.8746749766715904,
          -9.045753504970277,
          -11.731570464955173,
          -6.780857440991873,
          -5.198366473977124,
          -8.466048066686643,
          -4.989277832458857,
          2.5601791222649872,
          -3.0035577269184195,
          -4.015187941110884,
          -2.333944467787232,
          -11.93251886091489,
          -8.423466422619384,
          -5.746731507591866,
          -3.9766759354184966,
          -7.01593471348902,
          1.4250534790740428,
          6.363307680900526,
          10.577585685382394,
          8.168271209258247,
          5.949036885407953,
          11.636632135171592,
          9.135768955047826,
          17.00227110278923,
          10.954053579625622,
          2.878397430371124,
          2.635491465172685,
          1.3182760200890464,
          2.2877874509066607,
          5.3967646986220075,
          -4.675581428011434,
          -3.6545255304476565,
          -3.4315600783854463,
          -6.327027068501485,
          -9.093160755194472,
          -13.820423378496876,
          -13.65790874784963,
          0.028823265308829615,
          -3.8664183615260517,
          -5.114206656286366,
          -11.36547964650509,
          -15.262431838798399,
          -4.4601440908002274,
          -4.1347953993128765,
          -4.324213429118096,
          -5.37069679529589,
          0.053569127001017236,
          0.946589661062406,
          -1.577468295200271,
          -9.345837107494612,
          -5.821759248510514,
          -4.269386250099419,
          -12.148710289066683,
          -0.18292864736108783,
          7.5812237672845235,
          6.909929146651994,
          8.309442242104227,
          5.462072657138609,
          0.9637861372099046,
          -3.946480642992963,
          -2.5811245329205548,
          8.142724610181595,
          8.466960346001686,
          18.04559320171596,
          14.288633529947427,
          5.228918215320684,
          -3.1405563105961702,
          -8.066058312793375,
          1.9186172914059791,
          -4.8406299507710555,
          0.48181234930792183,
          6.189170938384117,
          3.5572932023093373,
          -7.803370552151108,
          -9.03610636736271,
          -24.41371580362173,
          -10.780463720986058,
          6.257365229323252,
          23.328400164295985,
          13.602524659067319,
          -1.5318248626161832,
          2.046319521054431,
          -3.44539587695557,
          -13.164961628333046,
          -4.97059369938772,
          6.761054698674905,
          -12.41112571042126,
          -8.593138754569392,
          -8.92209657913202,
          -16.25012291397013,
          -36.1014007171141,
          -20.11501892283346,
          -16.652615394242606,
          -12.884178190593978,
          -4.5016283387358165,
          -1.9555859640688986,
          13.718632670251047,
          -6.292513890573929,
          2.705315032336884,
          -3.2997323727872008,
          2.9736833524425066,
          9.012412310378028,
          9.491439011918592,
          21.516726658331883,
          26.586166841865435,
          31.792384537433,
          13.800174453751119,
          16.320394914109873,
          6.923461156592227,
          4.206564108529241,
          -1.911395657341325,
          0.62228262798779,
          -6.294913933922274,
          5.332565863118798,
          2.6973676257498767,
          -3.8605753648283754,
          -3.5446170179734446,
          -17.431089000231218,
          -5.336765181766316,
          -2.1479553762607537,
          -5.768446771206714
         ]
        }
       ],
       "layout": {
        "height": 400,
        "hovermode": "x unified",
        "legend": {
         "orientation": "h",
         "x": 0.95,
         "xanchor": "right",
         "y": 1.05,
         "yanchor": "bottom"
        },
        "margin": {
         "b": 40,
         "l": 80,
         "r": 40,
         "t": 80
        },
        "template": {
         "data": {
          "bar": [
           {
            "error_x": {
             "color": "#f2f5fa"
            },
            "error_y": {
             "color": "#f2f5fa"
            },
            "marker": {
             "line": {
              "color": "rgb(17,17,17)",
              "width": 0.5
             },
             "pattern": {
              "fillmode": "overlay",
              "size": 10,
              "solidity": 0.2
             }
            },
            "type": "bar"
           }
          ],
          "barpolar": [
           {
            "marker": {
             "line": {
              "color": "rgb(17,17,17)",
              "width": 0.5
             },
             "pattern": {
              "fillmode": "overlay",
              "size": 10,
              "solidity": 0.2
             }
            },
            "type": "barpolar"
           }
          ],
          "carpet": [
           {
            "aaxis": {
             "endlinecolor": "#A2B1C6",
             "gridcolor": "#506784",
             "linecolor": "#506784",
             "minorgridcolor": "#506784",
             "startlinecolor": "#A2B1C6"
            },
            "baxis": {
             "endlinecolor": "#A2B1C6",
             "gridcolor": "#506784",
             "linecolor": "#506784",
             "minorgridcolor": "#506784",
             "startlinecolor": "#A2B1C6"
            },
            "type": "carpet"
           }
          ],
          "choropleth": [
           {
            "colorbar": {
             "outlinewidth": 0,
             "ticks": ""
            },
            "type": "choropleth"
           }
          ],
          "contour": [
           {
            "colorbar": {
             "outlinewidth": 0,
             "ticks": ""
            },
            "colorscale": [
             [
              0,
              "#0d0887"
             ],
             [
              0.1111111111111111,
              "#46039f"
             ],
             [
              0.2222222222222222,
              "#7201a8"
             ],
             [
              0.3333333333333333,
              "#9c179e"
             ],
             [
              0.4444444444444444,
              "#bd3786"
             ],
             [
              0.5555555555555556,
              "#d8576b"
             ],
             [
              0.6666666666666666,
              "#ed7953"
             ],
             [
              0.7777777777777778,
              "#fb9f3a"
             ],
             [
              0.8888888888888888,
              "#fdca26"
             ],
             [
              1,
              "#f0f921"
             ]
            ],
            "type": "contour"
           }
          ],
          "contourcarpet": [
           {
            "colorbar": {
             "outlinewidth": 0,
             "ticks": ""
            },
            "type": "contourcarpet"
           }
          ],
          "heatmap": [
           {
            "colorbar": {
             "outlinewidth": 0,
             "ticks": ""
            },
            "colorscale": [
             [
              0,
              "#0d0887"
             ],
             [
              0.1111111111111111,
              "#46039f"
             ],
             [
              0.2222222222222222,
              "#7201a8"
             ],
             [
              0.3333333333333333,
              "#9c179e"
             ],
             [
              0.4444444444444444,
              "#bd3786"
             ],
             [
              0.5555555555555556,
              "#d8576b"
             ],
             [
              0.6666666666666666,
              "#ed7953"
             ],
             [
              0.7777777777777778,
              "#fb9f3a"
             ],
             [
              0.8888888888888888,
              "#fdca26"
             ],
             [
              1,
              "#f0f921"
             ]
            ],
            "type": "heatmap"
           }
          ],
          "heatmapgl": [
           {
            "colorbar": {
             "outlinewidth": 0,
             "ticks": ""
            },
            "colorscale": [
             [
              0,
              "#0d0887"
             ],
             [
              0.1111111111111111,
              "#46039f"
             ],
             [
              0.2222222222222222,
              "#7201a8"
             ],
             [
              0.3333333333333333,
              "#9c179e"
             ],
             [
              0.4444444444444444,
              "#bd3786"
             ],
             [
              0.5555555555555556,
              "#d8576b"
             ],
             [
              0.6666666666666666,
              "#ed7953"
             ],
             [
              0.7777777777777778,
              "#fb9f3a"
             ],
             [
              0.8888888888888888,
              "#fdca26"
             ],
             [
              1,
              "#f0f921"
             ]
            ],
            "type": "heatmapgl"
           }
          ],
          "histogram": [
           {
            "marker": {
             "pattern": {
              "fillmode": "overlay",
              "size": 10,
              "solidity": 0.2
             }
            },
            "type": "histogram"
           }
          ],
          "histogram2d": [
           {
            "colorbar": {
             "outlinewidth": 0,
             "ticks": ""
            },
            "colorscale": [
             [
              0,
              "#0d0887"
             ],
             [
              0.1111111111111111,
              "#46039f"
             ],
             [
              0.2222222222222222,
              "#7201a8"
             ],
             [
              0.3333333333333333,
              "#9c179e"
             ],
             [
              0.4444444444444444,
              "#bd3786"
             ],
             [
              0.5555555555555556,
              "#d8576b"
             ],
             [
              0.6666666666666666,
              "#ed7953"
             ],
             [
              0.7777777777777778,
              "#fb9f3a"
             ],
             [
              0.8888888888888888,
              "#fdca26"
             ],
             [
              1,
              "#f0f921"
             ]
            ],
            "type": "histogram2d"
           }
          ],
          "histogram2dcontour": [
           {
            "colorbar": {
             "outlinewidth": 0,
             "ticks": ""
            },
            "colorscale": [
             [
              0,
              "#0d0887"
             ],
             [
              0.1111111111111111,
              "#46039f"
             ],
             [
              0.2222222222222222,
              "#7201a8"
             ],
             [
              0.3333333333333333,
              "#9c179e"
             ],
             [
              0.4444444444444444,
              "#bd3786"
             ],
             [
              0.5555555555555556,
              "#d8576b"
             ],
             [
              0.6666666666666666,
              "#ed7953"
             ],
             [
              0.7777777777777778,
              "#fb9f3a"
             ],
             [
              0.8888888888888888,
              "#fdca26"
             ],
             [
              1,
              "#f0f921"
             ]
            ],
            "type": "histogram2dcontour"
           }
          ],
          "mesh3d": [
           {
            "colorbar": {
             "outlinewidth": 0,
             "ticks": ""
            },
            "type": "mesh3d"
           }
          ],
          "parcoords": [
           {
            "line": {
             "colorbar": {
              "outlinewidth": 0,
              "ticks": ""
             }
            },
            "type": "parcoords"
           }
          ],
          "pie": [
           {
            "automargin": true,
            "type": "pie"
           }
          ],
          "scatter": [
           {
            "marker": {
             "line": {
              "color": "#283442"
             }
            },
            "type": "scatter"
           }
          ],
          "scatter3d": [
           {
            "line": {
             "colorbar": {
              "outlinewidth": 0,
              "ticks": ""
             }
            },
            "marker": {
             "colorbar": {
              "outlinewidth": 0,
              "ticks": ""
             }
            },
            "type": "scatter3d"
           }
          ],
          "scattercarpet": [
           {
            "marker": {
             "colorbar": {
              "outlinewidth": 0,
              "ticks": ""
             }
            },
            "type": "scattercarpet"
           }
          ],
          "scattergeo": [
           {
            "marker": {
             "colorbar": {
              "outlinewidth": 0,
              "ticks": ""
             }
            },
            "type": "scattergeo"
           }
          ],
          "scattergl": [
           {
            "marker": {
             "line": {
              "color": "#283442"
             }
            },
            "type": "scattergl"
           }
          ],
          "scattermapbox": [
           {
            "marker": {
             "colorbar": {
              "outlinewidth": 0,
              "ticks": ""
             }
            },
            "type": "scattermapbox"
           }
          ],
          "scatterpolar": [
           {
            "marker": {
             "colorbar": {
              "outlinewidth": 0,
              "ticks": ""
             }
            },
            "type": "scatterpolar"
           }
          ],
          "scatterpolargl": [
           {
            "marker": {
             "colorbar": {
              "outlinewidth": 0,
              "ticks": ""
             }
            },
            "type": "scatterpolargl"
           }
          ],
          "scatterternary": [
           {
            "marker": {
             "colorbar": {
              "outlinewidth": 0,
              "ticks": ""
             }
            },
            "type": "scatterternary"
           }
          ],
          "surface": [
           {
            "colorbar": {
             "outlinewidth": 0,
             "ticks": ""
            },
            "colorscale": [
             [
              0,
              "#0d0887"
             ],
             [
              0.1111111111111111,
              "#46039f"
             ],
             [
              0.2222222222222222,
              "#7201a8"
             ],
             [
              0.3333333333333333,
              "#9c179e"
             ],
             [
              0.4444444444444444,
              "#bd3786"
             ],
             [
              0.5555555555555556,
              "#d8576b"
             ],
             [
              0.6666666666666666,
              "#ed7953"
             ],
             [
              0.7777777777777778,
              "#fb9f3a"
             ],
             [
              0.8888888888888888,
              "#fdca26"
             ],
             [
              1,
              "#f0f921"
             ]
            ],
            "type": "surface"
           }
          ],
          "table": [
           {
            "cells": {
             "fill": {
              "color": "#506784"
             },
             "line": {
              "color": "rgb(17,17,17)"
             }
            },
            "header": {
             "fill": {
              "color": "#2a3f5f"
             },
             "line": {
              "color": "rgb(17,17,17)"
             }
            },
            "type": "table"
           }
          ]
         },
         "layout": {
          "annotationdefaults": {
           "arrowcolor": "#f2f5fa",
           "arrowhead": 0,
           "arrowwidth": 1
          },
          "autotypenumbers": "strict",
          "coloraxis": {
           "colorbar": {
            "outlinewidth": 0,
            "ticks": ""
           }
          },
          "colorscale": {
           "diverging": [
            [
             0,
             "#8e0152"
            ],
            [
             0.1,
             "#c51b7d"
            ],
            [
             0.2,
             "#de77ae"
            ],
            [
             0.3,
             "#f1b6da"
            ],
            [
             0.4,
             "#fde0ef"
            ],
            [
             0.5,
             "#f7f7f7"
            ],
            [
             0.6,
             "#e6f5d0"
            ],
            [
             0.7,
             "#b8e186"
            ],
            [
             0.8,
             "#7fbc41"
            ],
            [
             0.9,
             "#4d9221"
            ],
            [
             1,
             "#276419"
            ]
           ],
           "sequential": [
            [
             0,
             "#0d0887"
            ],
            [
             0.1111111111111111,
             "#46039f"
            ],
            [
             0.2222222222222222,
             "#7201a8"
            ],
            [
             0.3333333333333333,
             "#9c179e"
            ],
            [
             0.4444444444444444,
             "#bd3786"
            ],
            [
             0.5555555555555556,
             "#d8576b"
            ],
            [
             0.6666666666666666,
             "#ed7953"
            ],
            [
             0.7777777777777778,
             "#fb9f3a"
            ],
            [
             0.8888888888888888,
             "#fdca26"
            ],
            [
             1,
             "#f0f921"
            ]
           ],
           "sequentialminus": [
            [
             0,
             "#0d0887"
            ],
            [
             0.1111111111111111,
             "#46039f"
            ],
            [
             0.2222222222222222,
             "#7201a8"
            ],
            [
             0.3333333333333333,
             "#9c179e"
            ],
            [
             0.4444444444444444,
             "#bd3786"
            ],
            [
             0.5555555555555556,
             "#d8576b"
            ],
            [
             0.6666666666666666,
             "#ed7953"
            ],
            [
             0.7777777777777778,
             "#fb9f3a"
            ],
            [
             0.8888888888888888,
             "#fdca26"
            ],
            [
             1,
             "#f0f921"
            ]
           ]
          },
          "colorway": [
           "#636efa",
           "#EF553B",
           "#00cc96",
           "#ab63fa",
           "#FFA15A",
           "#19d3f3",
           "#FF6692",
           "#B6E880",
           "#FF97FF",
           "#FECB52"
          ],
          "font": {
           "color": "#f2f5fa"
          },
          "geo": {
           "bgcolor": "rgb(17,17,17)",
           "lakecolor": "rgb(17,17,17)",
           "landcolor": "rgb(17,17,17)",
           "showlakes": true,
           "showland": true,
           "subunitcolor": "#506784"
          },
          "hoverlabel": {
           "align": "left"
          },
          "hovermode": "closest",
          "mapbox": {
           "style": "dark"
          },
          "paper_bgcolor": "rgb(17,17,17)",
          "plot_bgcolor": "rgb(17,17,17)",
          "polar": {
           "angularaxis": {
            "gridcolor": "#506784",
            "linecolor": "#506784",
            "ticks": ""
           },
           "bgcolor": "rgb(17,17,17)",
           "radialaxis": {
            "gridcolor": "#506784",
            "linecolor": "#506784",
            "ticks": ""
           }
          },
          "scene": {
           "xaxis": {
            "backgroundcolor": "rgb(17,17,17)",
            "gridcolor": "#506784",
            "gridwidth": 2,
            "linecolor": "#506784",
            "showbackground": true,
            "ticks": "",
            "zerolinecolor": "#C8D4E3"
           },
           "yaxis": {
            "backgroundcolor": "rgb(17,17,17)",
            "gridcolor": "#506784",
            "gridwidth": 2,
            "linecolor": "#506784",
            "showbackground": true,
            "ticks": "",
            "zerolinecolor": "#C8D4E3"
           },
           "zaxis": {
            "backgroundcolor": "rgb(17,17,17)",
            "gridcolor": "#506784",
            "gridwidth": 2,
            "linecolor": "#506784",
            "showbackground": true,
            "ticks": "",
            "zerolinecolor": "#C8D4E3"
           }
          },
          "shapedefaults": {
           "line": {
            "color": "#f2f5fa"
           }
          },
          "sliderdefaults": {
           "bgcolor": "#C8D4E3",
           "bordercolor": "rgb(17,17,17)",
           "borderwidth": 1,
           "tickwidth": 0
          },
          "ternary": {
           "aaxis": {
            "gridcolor": "#506784",
            "linecolor": "#506784",
            "ticks": ""
           },
           "baxis": {
            "gridcolor": "#506784",
            "linecolor": "#506784",
            "ticks": ""
           },
           "bgcolor": "rgb(17,17,17)",
           "caxis": {
            "gridcolor": "#506784",
            "linecolor": "#506784",
            "ticks": ""
           }
          },
          "title": {
           "x": 0.05
          },
          "updatemenudefaults": {
           "bgcolor": "#506784",
           "borderwidth": 0
          },
          "xaxis": {
           "automargin": true,
           "gridcolor": "#283442",
           "linecolor": "#506784",
           "ticks": "",
           "title": {
            "standoff": 15
           },
           "zerolinecolor": "#283442",
           "zerolinewidth": 2
          },
          "yaxis": {
           "automargin": true,
           "gridcolor": "#283442",
           "linecolor": "#506784",
           "ticks": "",
           "title": {
            "standoff": 15
           },
           "zerolinecolor": "#283442",
           "zerolinewidth": 2
          }
         }
        },
        "title": {
         "text": "Distribution of the Predicted Errors<br><span style=\"font-size: 12.5px; color: lightgrey;\"> -- Histogram shows the frequency of each predicted error.</span>"
        },
        "width": 700,
        "xaxis": {
         "tickmode": "array",
         "ticktext": [
          "1990",
          "1995",
          "2000",
          "2005",
          "2010",
          "2015",
          "2020"
         ],
         "tickvals": [
          2,
          22,
          42,
          62,
          82,
          102,
          122
         ],
         "title": {
          "text": "Time Ranges"
         }
        },
        "yaxis": {
         "title": {
          "text": "YoY Growth (%)"
         }
        }
       }
      }
     },
     "metadata": {},
     "output_type": "display_data"
    }
   ],
   "source": [
    "# detailed performance\n",
    "fig2_1, fig2_2 = PA.detail_perf(model='LinR', ma=1, fp=6, sc=6)\n",
    "fig2_1.show()\n",
    "fig2_2.show()"
   ]
  },
  {
   "cell_type": "code",
   "execution_count": 8,
   "metadata": {},
   "outputs": [
    {
     "name": "stdout",
     "output_type": "stream",
     "text": [
      "YoY:  [17.12246611]\n",
      "[4534.95844043]\n",
      "\n",
      "YoY:  [11.34064904 18.6104934 ]\n",
      "[4311.08764087 4839.43872961]\n",
      "\n",
      "YoY:  [21.64352171 15.26841803 19.52974282]\n",
      "[4710.01280817 4703.07837486 4589.34447538]\n",
      "\n",
      "YoY:  [13.75609013 13.34912604 13.73182425 13.58160743]\n",
      "[4404.61303625 4624.76914831 4366.73339194 4630.2679193 ]\n",
      "\n",
      "YoY:  [13.0230205  13.65203047 14.79525783 12.74256379 16.0973068 ]\n",
      "[4376.22872697 4637.12798251 4407.56392436 4596.06346573 4609.23711242]\n",
      "\n",
      "YoY:  [11.59785535 13.98034165 12.21249451 12.38016438 12.62938223 13.92319243]\n",
      "[4321.04661773 4650.52344031 4308.39872674 4581.28989103 4471.55530866\n",
      " 4681.45720558]\n",
      "\n"
     ]
    }
   ],
   "source": [
    "future = PA.futures['LinR']\n",
    "for i in future.keys():\n",
    "    for j in future[i].keys():\n",
    "        if j == '1MA':\n",
    "            yoy_mean = np.min(future[i][j], axis=0)\n",
    "            print(\"YoY: \", yoy_mean)\n",
    "            r = 12 - int(i[0])\n",
    "            act_prices = df['SP500_Price'][-12:-r].values * (yoy_mean/100+1)\n",
    "            print(act_prices)\n",
    "            print('')"
   ]
  },
  {
   "cell_type": "code",
   "execution_count": null,
   "metadata": {},
   "outputs": [],
   "source": []
  },
  {
   "cell_type": "markdown",
   "metadata": {},
   "source": [
    "### Logistic Regression"
   ]
  },
  {
   "cell_type": "code",
   "execution_count": 7,
   "metadata": {},
   "outputs": [],
   "source": [
    "from sklearn.metrics import confusion_matrix, auc\n",
    "from sklearn.linear_model import LogisticRegression\n",
    "\n",
    "import plotly.express as px\n",
    "import plotly.graph_objects as go\n",
    "from plotly.subplots import make_subplots"
   ]
  },
  {
   "cell_type": "code",
   "execution_count": 41,
   "metadata": {},
   "outputs": [],
   "source": [
    "class PredictiveAnalysis_Test(PredictiveAnalysis):\n",
    "    def __init__(self, df):\n",
    "        super().__init__(df)\n",
    "        self.colors = ['#636EFA', '#EF553B', '#00CC96', '#AB63FA', '#FFA15A', '#19D3F3', '#FF6692', '#B6E880', '#FF97FF', '#FECB52']\n",
    "        self.titles = {\n",
    "            'LinR': 'Linear Regression', 'LogR': 'Logistic Regression',\n",
    "            'RMSE': 'RMSE', 'SE': 'SE', 'R2': 'R2', 'Adj-R2': 'Adj',\n",
    "            'ACC': 'Accuracy', 'PRE': 'Precision', 'REC': 'Recall', 'F1': 'F1 score', 'AUC': 'Area Under ROC Curve'}\n",
    "        \n",
    "        self.results = {model: {} for model in ['LinR', 'LogR', 'CART']}  # theta, y_hat, sigma for each scope and dataset\n",
    "        self.futures = {model: {} for model in ['LinR', 'LogR', 'CART']}  # predicted values for each 'fp'\n",
    "        self.be_tests = {model: {'ma': {}, 'sc': {}} for model in ['LinR', 'LogR', 'CART']}  # backward elimination test results\n",
    "        self.perf_df = {'LinR': pd.DataFrame(data=[], columns=['SC', 'MA', 'FP', 'RMSE', 'SE', 'R2', 'Adj-R2']),\n",
    "                        'LogR': pd.DataFrame(data=[], columns=['SC', 'MA', 'FP', 'ACC', 'PRE', 'REC', 'F1', 'AUC']),\n",
    "                        'CART': pd.DataFrame(data=[], columns=['SC', 'MA', 'FP', 'RMSE', 'SE', 'R2', 'Adj-R2'])}\n",
    "\n",
    "\n",
    "    def model_learning2(self, scopes: list, model: str = '', eta_: float = 0.001, alpha_: float = 0.1, lambda_: float = 0.5, iter_: int = 100):\n",
    "        \"\"\"\n",
    "        \n",
    "\n",
    "        \"\"\"\n",
    "        # define variable\n",
    "        self.sc_opts = scopes\n",
    "\n",
    "        # set hyperparameters globally\n",
    "        self.eta_ = eta_\n",
    "        self.alpha_ = alpha_\n",
    "        self.lambda_ = lambda_\n",
    "        self.iter_ = iter_\n",
    " \n",
    "        # set spaces\n",
    "        self.be_tests[model]['ma'].update({ma: [] for ma in self.ma_opts})\n",
    "        self.be_tests[model]['sc'].update({sc: [] for sc in scopes})\n",
    "        self.futures[model] = {f'{k1}FP': {f'{k2}MA': np.zeros((len(scopes), k1)) for k2 in self.ma_opts} for k1 in self.fp_opts}\n",
    "\n",
    "        idx = 0\n",
    "        # each scope\n",
    "        for i, sc in enumerate(scopes):\n",
    "            # each dataset\n",
    "            for j, d_key in enumerate(self.datasets.keys()):\n",
    "                # acquire data\n",
    "                data = self.datasets[d_key]\n",
    "                if model == 'LinR':\n",
    "                    theta, y_hat, error, future = self.linear_reg(X=data['X'], y=data['y'], t=120, sc=sc)\n",
    "\n",
    "                elif model == 'LogR':\n",
    "                    theta, y_hat, error, future = self.logistic_reg(X=data['X'], y=data['y_cat'], t=120, sc=sc)\n",
    "\n",
    "                elif model == 'CART':\n",
    "                    theta, y_hat, error, future = None, None, None, None\n",
    "\n",
    "                else:\n",
    "                    raise TypeError('Choose one of following model names: \"LinR\", \"LogR\", and \"CART\".')\n",
    "                \n",
    "                # get moving average and future performance values from dataset keys\n",
    "                ma, fp = d_key.split('_')\n",
    "                # store all data\n",
    "                self.results[model][fp].update({f\"{ma}_{sc}SC\": {'theta': theta, 'y_hat': y_hat, 'error': error}})\n",
    "                # store future values\n",
    "                self.futures[model][fp][ma][i] = future\n",
    "\n",
    "                # get test result of backward elimination\n",
    "                y = data['y_cat'] if model == 'LogR' else data['y']\n",
    "                be_test_df = self.evaluation(model, data['X'], y, 120, theta, y_hat, error)\n",
    "                # retrienve only performance without any changes in each coefficient\n",
    "                ma_int = int(re.findall(r'\\d+', ma)[0])\n",
    "                self.perf_df[model].loc[idx] = [sc, ma_int, fp] + list(be_test_df.iloc[0])\n",
    "                # store its result as NDArray\n",
    "                self.be_tests[model]['sc'][sc].append(np.array(be_test_df))\n",
    "                ma_idx = self.ma_opts[j // len(self.fp_opts)]\n",
    "                self.be_tests[model]['ma'][ma_idx].append(np.array(be_test_df))\n",
    "\n",
    "                # increment idx\n",
    "                idx += 1\n",
    "        \n",
    "        return self.compare_perf2(model), self.backward_elimination2(model, 'sc'), self.backward_elimination2(model, 'ma')\n",
    "\n",
    "        self.compere_perf_fig = self.compare_perf2(model)\n",
    "        self.be_test_sc_fig = self.backward_elimination(model, 'sc')\n",
    "        self.be_test_ma_fig = self.backward_elimination(model, 'ma')\n",
    "\n",
    "        return self.compere_perf_fig, self.be_test_sc_fig, self.be_test_ma_fig\n",
    "\n",
    "\n",
    "    def logistic_reg(self, X, y, t, sc):\n",
    "        \"\"\"\n",
    "        Return the following five matrix (dtype: np.array)\n",
    "        - \"thetas\"  -> parameters (intercept + coefficients) at each step\n",
    "        - dictionary: predicted y values:\n",
    "            - \"cat\" key: \"y_preds_c\" -> predicted labels at each step\n",
    "            - \"proba\" ley: \"y_preds_p\" -> predicted probability at each step (nagetige & positive class)\n",
    "        - \"errors\"  -> prediction errors (actual - predicted values); SSE\n",
    "        - dictionary: future y values \n",
    "            - \"cat\": predicted labels at each step\n",
    "            - \"proba\": probability of the positive class label\n",
    "\n",
    "        Parameters:\n",
    "        - \"X\": np.array -> independent variables\n",
    "        - \"y\": np.array -> target variables (shouold be categorical)\n",
    "        - \"t\": int -> number of data that were used for the initial parameter creation.\n",
    "        - \"sc\": int -> scope of the latest data for parameter updates.\n",
    "\n",
    "        Brief Steps:\n",
    "        - Initialize all matries to store ithe ncrementally updated values.\n",
    "        - Apply a given number of data (\"t\") to the mutiple linear regression (normal equation).\n",
    "        - Define the initial parameters from the trained model.\n",
    "        - At each step (total steps are len(y) - t):\n",
    "            - Get a single pair of unfamilar data; both X and y.\n",
    "            - Predict the target (\"y_hats\") based on the latest parameters(\"theta[i]\").\n",
    "            - Calculate the difference between actual and predicted values; \"error[i]\".\n",
    "            - Update parameters for the next step (\"theta[i+1]\").\n",
    "        \"\"\"\n",
    "        # define sigmoid function\n",
    "        def sigmoid(h):\n",
    "            return 1 / (1 + np.exp(-h))\n",
    "\n",
    "        # calculate the gradient vector\n",
    "        def gradient(X, y, theta, w, alpha_, lambda_):\n",
    "            m = len(y)\n",
    "            preds = sigmoid(np.dot(X, theta.reshape(-1,1)))\n",
    "            grad = -np.dot(X.T, np.multiply(y - preds, w)) / m\n",
    "            l1 = lambda_ * np.sign(theta)\n",
    "            l2 = (1 - lambda_) * theta\n",
    "\n",
    "            return grad.T + alpha_ * (l1 + l2)\n",
    "        \n",
    "        # initialize matrics to store values at each step\n",
    "        thetas = np.zeros((len(y[t:])+1, 6))\n",
    "        y_hats = np.zeros((len(y[120:]), 1))\n",
    "        errors = np.zeros((len(y[t:]), 1))\n",
    "        # initial training \n",
    "        logit = LogisticRegression(fit_intercept=False, class_weight='balanced')\n",
    "        logit.fit(X[:t], y[:t].flatten())\n",
    "        # set initial parameters\n",
    "        thetas[0] = logit.coef_\n",
    "        # define class weights\n",
    "        weights = {u: len(X) / (2*np.bincount(y.flatten())[u]) for u in np.unique(y)}\n",
    "        # define the vectorized function to converting class labels to weights\n",
    "        vfunc_weights = np.vectorize(lambda x: weights[x])\n",
    "\n",
    "        # start incremental learning\n",
    "        for idx, i in enumerate(range(120, len(y), 1)):\n",
    "            # apply sigmoid function\n",
    "            y_hats[idx] = sigmoid(np.dot(X[i:i+1], thetas[idx]))\n",
    "            # actual value\n",
    "            y_act = y[i][0]\n",
    "            # logistic loss\n",
    "            y_proba = {0: 1-y_hats[idx], 1: y_hats[idx]}\n",
    "            errors[idx] = -1 * weights[y_act] * np.log(y_proba[y_act])\n",
    "\n",
    "            # subset pf X and y\n",
    "            X_sub, y_sub = X[i+1-sc: i+1], y[i+1-sc: i+1]\n",
    "            # update parameter\n",
    "            theta_epoch = thetas[idx]\n",
    "            for i in range(self.iter_):\n",
    "                # get the partial derivative\n",
    "                grad = gradient(X_sub, y_sub, theta_epoch, vfunc_weights(y_sub), self.alpha_, self.lambda_)\n",
    "                # update the theta\n",
    "                theta_epoch -= self.eta_* grad.flatten()\n",
    "\n",
    "            thetas[idx+1] = theta_epoch\n",
    "\n",
    "        # predict the future labels\n",
    "        future = sigmoid(np.dot(X[len(y):], thetas[-1]))\n",
    "\n",
    "        return thetas, y_hats, errors, future\n",
    "\n",
    "    def backward_elimination2(self, model: str, type_: str):\n",
    "        \"\"\"\n",
    "        Evaluate the backward elimination for all models with the following focuses\n",
    "            - RMSE and adjusted R2 for regression\n",
    "            - Accuracy and f1 score and for classification\n",
    "        Visualize the scatter plots to show the difference from original result\n",
    "\n",
    "        Parameter:\n",
    "        - 'model': either one of models: 'LinR', 'LogR', 'CART'\n",
    "        - 'type': either one of 'sc' or 'ma'\n",
    "        \"\"\"\n",
    "        be_test = self.be_tests[model][type_]\n",
    "        # number of features; excluding bias term\n",
    "        n = len(self.X_name) - 1\n",
    "        # define dictionary for two measures\n",
    "        m1_d = {type_: [], 'theta': [], 'diff': []}  # rmse (reg), acc (cls)\n",
    "        m2_d = {type_: [], 'theta': [], 'diff': []}  # adj-r2 (reg), f1 (cls)\n",
    "        # define location of focusing measures\n",
    "        if model == 'LogR':\n",
    "            idx1 = 0\n",
    "            idx2 = -2\n",
    "            names = ['Acc', 'F1']\n",
    "        else:\n",
    "            idx1 = 0\n",
    "            idx2 = -1\n",
    "            names = ['RMSE', 'Adj-R2']\n",
    "        \n",
    "        #rmse_dict = {type_: [], 'theta': [], 'diff': []}\n",
    "        #r2_dict = {type_: [], 'theta': [], 'diff': []}\n",
    "\n",
    "        for key in be_test:\n",
    "            for matrix in be_test[key]:\n",
    "                # learning method\n",
    "                m1_d[type_] += [key] * (n)\n",
    "                m2_d[type_] += [key] * (n)\n",
    "                # add theta name\n",
    "                m1_d['theta'] += list(self.X_name[1:])\n",
    "                m2_d['theta'] += list(self.X_name[1:])\n",
    "                # first column is RMSE and last one is adjusted R2\n",
    "                diff = matrix[1:] - matrix[0]\n",
    "                # add error\n",
    "                m1_d['diff'] += list(diff[:, idx1])\n",
    "                m2_d['diff'] += list(diff[:, idx2])\n",
    "                \n",
    "\n",
    "        # plot data points\n",
    "        m1_df = pd.DataFrame(m1_d)\n",
    "        m2_df = pd.DataFrame(m2_d)\n",
    "        fig1 = px.strip(data_frame=m1_df, x='theta', y='diff', color=type_)\n",
    "        fig2 = px.strip(data_frame=m2_df, x='theta', y='diff', color=type_)\n",
    "\n",
    "        # set figure\n",
    "        fig = make_subplots(rows=1, cols=2, subplot_titles=names)\n",
    "        # Update y position of subplot titles\n",
    "        fig.layout.annotations[0].update(y=0.95, font=dict(size=11, color='grey'))\n",
    "        fig.layout.annotations[1].update(y=0.95, font=dict(size=11, color='grey'))\n",
    "\n",
    "        # add the trace objects to the subplots\n",
    "        for fig_loc in range(len(be_test.keys())):\n",
    "            # add figure data one by one\n",
    "            fig.add_trace(fig1.data[fig_loc], row=1, col=1)\n",
    "            # remove duplicated legend\n",
    "            fig2.data[fig_loc].showlegend = False\n",
    "            fig.add_trace(fig2.data[fig_loc], row=1, col=2)\n",
    "\n",
    "        fig.update_traces(marker=dict(opacity=0.5, size=5))\n",
    "\n",
    "        # add layout\n",
    "        be_type = 'Scopes' if type_ == 'sc' else 'Moving Averages'\n",
    "        main = f\"Observe Backward Elimination in All Models With Repect to {be_type}\" \n",
    "        sub = f\"<br><span {self.SUB_CSS}> -- How meansures are changed by removing the impact of each coefficient</span>\"\n",
    "        fig.update_layout(height=400, width=800, template='plotly_dark', \n",
    "                        title_text=main + sub, yaxis_title=\"Difference\",\n",
    "                        legend=dict(title_text=f'{be_type}:', orientation=\"h\", yanchor=\"top\", y=-0.1, xanchor=\"center\", x=0.5),\n",
    "                        margin=go.layout.Margin(t=80, b=60, l=80, r=40))\n",
    "    \n",
    "        return fig\n",
    "\n",
    "\n",
    "    def compare_perf2(self, model: str):\n",
    "         # define custom function\n",
    "        def upper_error(x):\n",
    "            return x.max() - x.mean()\n",
    "\n",
    "        def lower_error(x):\n",
    "            return x.mean() - x.min()\n",
    "\n",
    "        # deine measures\n",
    "        measures = list(self.perf_df[model].columns)[3:]\n",
    "        # modity perf_df\n",
    "        perf_df = self.perf_df[model].drop('FP', axis=1).groupby(['SC', 'MA']).agg(['mean', upper_error, lower_error])\n",
    "        perf_df.columns = ['_'.join(col) for col in perf_df.columns]\n",
    "        perf_df = perf_df.reset_index()\n",
    "        perf_df['SC'] = perf_df['SC'].astype(str)\n",
    "\n",
    "        # define figures\n",
    "        figs = []\n",
    "        # traversing all measures\n",
    "        for ms in measures:\n",
    "            # define fifure\n",
    "            fig = px.scatter(\n",
    "                perf_df, x='MA', y=f'{ms}_mean', color='SC',\n",
    "                error_y=f'{ms}_upper_error', error_y_minus=f'{ms}_lower_error'\n",
    "            )\n",
    "\n",
    "            fig.update_xaxes(title_text='Moving Averages', title_font={'color':'lightgrey'})\n",
    "            fig.update_layout(\n",
    "                height=300, width=400, template='plotly_dark',\n",
    "                title=dict(text=self.titles[ms],  xanchor=\"center\", x=0.50),\n",
    "                showlegend=False, yaxis_title='', \n",
    "                margin=go.layout.Margin(t=50, l=30, r=30, b=50)\n",
    "                ) \n",
    "\n",
    "            figs.append(fig)\n",
    "\n",
    "            \n",
    "        main_title = f'Comparing the {[model]} Model Results on Different Conditions'\n",
    "        sub_title1 = f'<br><span {self.SUB_CSS}> -- Scopes: how many month of the latest data is used for parameter adjustments.</span>'\n",
    "        sub_title2 = f'<br><span {self.SUB_CSS}> -- Error Bars: Showing mean, min and max of each measures among various future predictions.</span>'\n",
    "\n",
    "        return figs"
   ]
  },
  {
   "cell_type": "code",
   "execution_count": 42,
   "metadata": {},
   "outputs": [],
   "source": [
    "test = PredictiveAnalysis_Test(df)\n",
    "test.create_data(['CSENT', 'IPM', 'HOUSE', 'UNEMP', 'LRIR'], 'SP500', ma=[1,2,3,4,5,6], fp=[1,2,3,4,5,6], poly_d=1)"
   ]
  },
  {
   "cell_type": "code",
   "execution_count": 43,
   "metadata": {},
   "outputs": [],
   "source": [
    "fig1, fig2, fig3 = test.model_learning2(scopes=[1,3,6], model='LogR', iter_=100)\n",
    "#figs2 = test.model_learning2(scopes=[1,2], model='LinR', iter_=1)"
   ]
  },
  {
   "cell_type": "code",
   "execution_count": 44,
   "metadata": {},
   "outputs": [
    {
     "data": {
      "application/vnd.plotly.v1+json": {
       "config": {
        "plotlyServerURL": "https://plot.ly"
       },
       "data": [
        {
         "alignmentgroup": "True",
         "boxpoints": "all",
         "fillcolor": "rgba(255,255,255,0)",
         "hoveron": "points",
         "hovertemplate": "sc=1<br>theta=%{x}<br>diff=%{y}<extra></extra>",
         "legendgroup": "1",
         "line": {
          "color": "rgba(255,255,255,0)"
         },
         "marker": {
          "color": "#636efa",
          "opacity": 0.5,
          "size": 5
         },
         "name": "1",
         "offsetgroup": "1",
         "orientation": "v",
         "pointpos": 0,
         "showlegend": true,
         "type": "box",
         "x": [
          "CSENT",
          "IPM",
          "HOUSE",
          "UNEMP",
          "LRIR",
          "CSENT",
          "IPM",
          "HOUSE",
          "UNEMP",
          "LRIR",
          "CSENT",
          "IPM",
          "HOUSE",
          "UNEMP",
          "LRIR",
          "CSENT",
          "IPM",
          "HOUSE",
          "UNEMP",
          "LRIR",
          "CSENT",
          "IPM",
          "HOUSE",
          "UNEMP",
          "LRIR",
          "CSENT",
          "IPM",
          "HOUSE",
          "UNEMP",
          "LRIR",
          "CSENT",
          "IPM",
          "HOUSE",
          "UNEMP",
          "LRIR",
          "CSENT",
          "IPM",
          "HOUSE",
          "UNEMP",
          "LRIR",
          "CSENT",
          "IPM",
          "HOUSE",
          "UNEMP",
          "LRIR",
          "CSENT",
          "IPM",
          "HOUSE",
          "UNEMP",
          "LRIR",
          "CSENT",
          "IPM",
          "HOUSE",
          "UNEMP",
          "LRIR",
          "CSENT",
          "IPM",
          "HOUSE",
          "UNEMP",
          "LRIR",
          "CSENT",
          "IPM",
          "HOUSE",
          "UNEMP",
          "LRIR",
          "CSENT",
          "IPM",
          "HOUSE",
          "UNEMP",
          "LRIR",
          "CSENT",
          "IPM",
          "HOUSE",
          "UNEMP",
          "LRIR",
          "CSENT",
          "IPM",
          "HOUSE",
          "UNEMP",
          "LRIR",
          "CSENT",
          "IPM",
          "HOUSE",
          "UNEMP",
          "LRIR",
          "CSENT",
          "IPM",
          "HOUSE",
          "UNEMP",
          "LRIR",
          "CSENT",
          "IPM",
          "HOUSE",
          "UNEMP",
          "LRIR",
          "CSENT",
          "IPM",
          "HOUSE",
          "UNEMP",
          "LRIR",
          "CSENT",
          "IPM",
          "HOUSE",
          "UNEMP",
          "LRIR",
          "CSENT",
          "IPM",
          "HOUSE",
          "UNEMP",
          "LRIR",
          "CSENT",
          "IPM",
          "HOUSE",
          "UNEMP",
          "LRIR",
          "CSENT",
          "IPM",
          "HOUSE",
          "UNEMP",
          "LRIR",
          "CSENT",
          "IPM",
          "HOUSE",
          "UNEMP",
          "LRIR",
          "CSENT",
          "IPM",
          "HOUSE",
          "UNEMP",
          "LRIR",
          "CSENT",
          "IPM",
          "HOUSE",
          "UNEMP",
          "LRIR",
          "CSENT",
          "IPM",
          "HOUSE",
          "UNEMP",
          "LRIR",
          "CSENT",
          "IPM",
          "HOUSE",
          "UNEMP",
          "LRIR",
          "CSENT",
          "IPM",
          "HOUSE",
          "UNEMP",
          "LRIR",
          "CSENT",
          "IPM",
          "HOUSE",
          "UNEMP",
          "LRIR",
          "CSENT",
          "IPM",
          "HOUSE",
          "UNEMP",
          "LRIR",
          "CSENT",
          "IPM",
          "HOUSE",
          "UNEMP",
          "LRIR",
          "CSENT",
          "IPM",
          "HOUSE",
          "UNEMP",
          "LRIR",
          "CSENT",
          "IPM",
          "HOUSE",
          "UNEMP",
          "LRIR",
          "CSENT",
          "IPM",
          "HOUSE",
          "UNEMP",
          "LRIR"
         ],
         "x0": " ",
         "xaxis": "x",
         "y": [
          0.03125,
          0.04086538461538469,
          0.0360576923076924,
          0.04807692307692313,
          0.02163461538461542,
          0.036144578313252906,
          0.05060240963855411,
          0.03855421686746985,
          0.04096385542168668,
          0.01927710843373487,
          0.03864734299516914,
          0.05555555555555558,
          0.036231884057971064,
          0.04106280193236722,
          0.01449275362318847,
          0.03874092009685237,
          0.060532687651331796,
          0.03631961259079908,
          0.0314769975786926,
          0.014527845036319653,
          0.04611650485436891,
          0.05582524271844669,
          0.029126213592232997,
          0.04126213592233008,
          0.024271844660194164,
          0.04622871046228716,
          0.058394160583941646,
          0.02676399026763987,
          0.024330900243308973,
          0.024330900243308973,
          -0.01449275362318847,
          0.019323671497584516,
          0.019323671497584516,
          0.03140096618357491,
          -0.036231884057971064,
          0.009685230024213065,
          0.04358353510895885,
          0.029055690072639195,
          0.03874092009685237,
          -0.002421307506053294,
          0.024271844660194275,
          0.043689320388349606,
          0.029126213592233108,
          0.04126213592233019,
          0.01456310679611661,
          0.021897810218978186,
          0.04622871046228716,
          0.024330900243309084,
          0.04379562043795626,
          0.0097323600973237,
          0.02682926829268295,
          0.04634146341463419,
          0.03658536585365857,
          0.04146341463414638,
          0,
          0.03422982885085579,
          0.041564792176039145,
          0.017114914425427896,
          0.03422982885085579,
          0.004889975550122272,
          -0.01210653753026636,
          0.016949152542372947,
          0.01937046004842613,
          0.021791767554479424,
          -0.041162227602905554,
          0.012135922330097082,
          0.036407766990291246,
          0.03398058252427183,
          0.04611650485436891,
          -0.021844660194174748,
          0.014598540145985384,
          0.038929440389294356,
          0.021897810218978075,
          0.04379562043795615,
          0.007299270072992692,
          0.014634146341463428,
          0.03658536585365857,
          0.02682926829268295,
          0.03170731707317076,
          0.014634146341463428,
          0.02689486552567233,
          0.046454767726161306,
          0.03911980440097795,
          0.02933985330073352,
          0.009779951100244433,
          0.026960784313725505,
          0.04166666666666663,
          0.039215686274509776,
          0.02450980392156854,
          -0.004901960784313708,
          0,
          0.016990291262135915,
          0.03155339805825241,
          0.03398058252427183,
          -0.03640776699029136,
          -0.0048661800486617945,
          0.024330900243308973,
          0.024330900243308973,
          0.029197080291970767,
          -0.031630170316301665,
          0.009756097560975618,
          0.03414634146341455,
          0.017073170731707332,
          0.04146341463414627,
          -0.02195121951219514,
          0.017114914425427896,
          0.02933985330073352,
          0.022004889975550168,
          0.02689486552567244,
          -0.0024449877750610804,
          0.01715686274509809,
          0.03676470588235292,
          0.031862745098039214,
          0.03676470588235292,
          0,
          0.019656019656019708,
          0.03194103194103204,
          0.02211302211302213,
          0.017199017199017286,
          -0.014742014742014642,
          0.0048661800486617945,
          0.012165450121654486,
          0.03406326034063256,
          0.03892944038929447,
          -0.021897810218978075,
          -0.007317073170731714,
          0.01707317073170722,
          0.02682926829268284,
          0.03902439024390236,
          -0.03170731707317076,
          -0.004889975550122161,
          0.02444987775061125,
          0.02689486552567244,
          0.03667481662591687,
          -0.019559902200488977,
          0.01715686274509809,
          0.031862745098039214,
          0.02450980392156865,
          0.03676470588235292,
          0,
          0.0073710073710073765,
          0.03194103194103193,
          0.02211302211302213,
          0.02457002457002455,
          -0.002457002457002422,
          0.019704433497536922,
          0.039408866995073843,
          0.036945812807881784,
          0.029556650246305383,
          -0.007389162561576401,
          0.007317073170731714,
          0.02682926829268295,
          0.03414634146341455,
          0.03902439024390236,
          -0.014634146341463428,
          0.007334963325183463,
          0.02444987775061125,
          0.041564792176039145,
          0.041564792176039145,
          -0.014669926650366705,
          -0.004901960784313708,
          0.012254901960784381,
          0.02941176470588236,
          0.03676470588235303,
          -0.022058823529411686,
          -0.002457002457002422,
          0.019656019656019597,
          0.029484029484029506,
          0.03194103194103193,
          -0.017199017199017175,
          0.019704433497537033,
          0.034482758620689724,
          0.027093596059113323,
          0.029556650246305494,
          0.009852216748768461,
          0.01728395061728405,
          0.03950617283950619,
          0.032098765432098775,
          0.02716049382716057,
          0.0024691358024692134
         ],
         "y0": " ",
         "yaxis": "y"
        },
        {
         "alignmentgroup": "True",
         "boxpoints": "all",
         "fillcolor": "rgba(255,255,255,0)",
         "hoveron": "points",
         "hovertemplate": "sc=1<br>theta=%{x}<br>diff=%{y}<extra></extra>",
         "legendgroup": "1",
         "line": {
          "color": "rgba(255,255,255,0)"
         },
         "marker": {
          "color": "#636efa",
          "opacity": 0.5,
          "size": 5
         },
         "name": "1",
         "offsetgroup": "1",
         "orientation": "v",
         "pointpos": 0,
         "showlegend": false,
         "type": "box",
         "x": [
          "CSENT",
          "IPM",
          "HOUSE",
          "UNEMP",
          "LRIR",
          "CSENT",
          "IPM",
          "HOUSE",
          "UNEMP",
          "LRIR",
          "CSENT",
          "IPM",
          "HOUSE",
          "UNEMP",
          "LRIR",
          "CSENT",
          "IPM",
          "HOUSE",
          "UNEMP",
          "LRIR",
          "CSENT",
          "IPM",
          "HOUSE",
          "UNEMP",
          "LRIR",
          "CSENT",
          "IPM",
          "HOUSE",
          "UNEMP",
          "LRIR",
          "CSENT",
          "IPM",
          "HOUSE",
          "UNEMP",
          "LRIR",
          "CSENT",
          "IPM",
          "HOUSE",
          "UNEMP",
          "LRIR",
          "CSENT",
          "IPM",
          "HOUSE",
          "UNEMP",
          "LRIR",
          "CSENT",
          "IPM",
          "HOUSE",
          "UNEMP",
          "LRIR",
          "CSENT",
          "IPM",
          "HOUSE",
          "UNEMP",
          "LRIR",
          "CSENT",
          "IPM",
          "HOUSE",
          "UNEMP",
          "LRIR",
          "CSENT",
          "IPM",
          "HOUSE",
          "UNEMP",
          "LRIR",
          "CSENT",
          "IPM",
          "HOUSE",
          "UNEMP",
          "LRIR",
          "CSENT",
          "IPM",
          "HOUSE",
          "UNEMP",
          "LRIR",
          "CSENT",
          "IPM",
          "HOUSE",
          "UNEMP",
          "LRIR",
          "CSENT",
          "IPM",
          "HOUSE",
          "UNEMP",
          "LRIR",
          "CSENT",
          "IPM",
          "HOUSE",
          "UNEMP",
          "LRIR",
          "CSENT",
          "IPM",
          "HOUSE",
          "UNEMP",
          "LRIR",
          "CSENT",
          "IPM",
          "HOUSE",
          "UNEMP",
          "LRIR",
          "CSENT",
          "IPM",
          "HOUSE",
          "UNEMP",
          "LRIR",
          "CSENT",
          "IPM",
          "HOUSE",
          "UNEMP",
          "LRIR",
          "CSENT",
          "IPM",
          "HOUSE",
          "UNEMP",
          "LRIR",
          "CSENT",
          "IPM",
          "HOUSE",
          "UNEMP",
          "LRIR",
          "CSENT",
          "IPM",
          "HOUSE",
          "UNEMP",
          "LRIR",
          "CSENT",
          "IPM",
          "HOUSE",
          "UNEMP",
          "LRIR",
          "CSENT",
          "IPM",
          "HOUSE",
          "UNEMP",
          "LRIR",
          "CSENT",
          "IPM",
          "HOUSE",
          "UNEMP",
          "LRIR",
          "CSENT",
          "IPM",
          "HOUSE",
          "UNEMP",
          "LRIR",
          "CSENT",
          "IPM",
          "HOUSE",
          "UNEMP",
          "LRIR",
          "CSENT",
          "IPM",
          "HOUSE",
          "UNEMP",
          "LRIR",
          "CSENT",
          "IPM",
          "HOUSE",
          "UNEMP",
          "LRIR",
          "CSENT",
          "IPM",
          "HOUSE",
          "UNEMP",
          "LRIR",
          "CSENT",
          "IPM",
          "HOUSE",
          "UNEMP",
          "LRIR",
          "CSENT",
          "IPM",
          "HOUSE",
          "UNEMP",
          "LRIR",
          "CSENT",
          "IPM",
          "HOUSE",
          "UNEMP",
          "LRIR"
         ],
         "x0": " ",
         "xaxis": "x2",
         "y": [
          0.020551274391664154,
          0.02776194618591976,
          0.024617292097869448,
          0.03199302593355002,
          0.012893533167662397,
          0.024394706986422543,
          0.035347396386277485,
          0.027307751579596307,
          0.028092484948599394,
          0.01266128693313151,
          0.025591545939888438,
          0.03855238134189498,
          0.024879872416221582,
          0.0268321817789543,
          0.00876011669613952,
          0.026058631921824338,
          0.04216864340299964,
          0.025402969886754057,
          0.02043719880404149,
          0.009441996125268859,
          0.031235625728742056,
          0.03903252798374912,
          0.020578958956144366,
          0.027387156516495814,
          0.01669234240127293,
          0.03213327310890879,
          0.04061343204653611,
          0.01948674488201474,
          0.015042753662654507,
          0.016393442622950838,
          -0.009641651936365125,
          0.012862555318539193,
          0.013012981242263577,
          0.02047213869873954,
          -0.027591299677765857,
          0.0065860584178846215,
          0.029539496365228124,
          0.02017912195025162,
          0.025768729420806324,
          -0.0035317939130931064,
          0.01607717041800638,
          0.029973525921267452,
          0.020708204412626996,
          0.02813377428773789,
          0.00892596149830871,
          0.013356067064506982,
          0.03146997929606632,
          0.016827312021819973,
          0.029187118586239236,
          0.004759524999405129,
          0.018136987473658328,
          0.03252864157119473,
          0.02635390576387109,
          0.02863892287565073,
          -0.0013245284760052822,
          0.022950819672131084,
          0.029117499538026892,
          0.01301443995670637,
          0.022950819672131084,
          0.0020151407875386163,
          -0.007604868250029595,
          0.011294502159449049,
          0.012307692307692353,
          0.01411626541397526,
          -0.02992916614887542,
          0.008130967845933479,
          0.023468391158816937,
          0.021875749352440632,
          0.02941400957887297,
          -0.01689221089669357,
          0.009570335865077828,
          0.02569017942615459,
          0.014823508954964315,
          0.028412395923840927,
          0.004201162107591139,
          0.009292746634518845,
          0.024573301572927475,
          0.01835246175955274,
          0.021141617638319232,
          0.00909054261065867,
          0.017168079562366323,
          0.0313012297619224,
          0.02653842242719906,
          0.019284503110363005,
          0.005355739371084578,
          0.017769683500020617,
          0.02853407633988525,
          0.02724964016307596,
          0.016740373647181284,
          -0.004099991935295089,
          0,
          0.01121049493142523,
          0.020097260339929757,
          0.021925203951218997,
          -0.02760297917616661,
          -0.0027487630566244148,
          0.015827088336564432,
          0.015702095547686756,
          0.0189230635687625,
          -0.023859980790047475,
          0.00660162696901323,
          0.02240942574026783,
          0.011349619972990888,
          0.0267998180742276,
          -0.016613911991993024,
          0.011022787493375708,
          0.019644723092999028,
          0.015023474178403773,
          0.017693522906793047,
          -0.0025764895330113724,
          0.010188755206639644,
          0.024522160002817484,
          0.02136758587032528,
          0.024181666286929526,
          -0.001784826890004143,
          0.012882447665056418,
          0.021762134805613065,
          0.015412928456406738,
          0.011597299640777936,
          -0.01170456324098601,
          0.002924976258309453,
          0.007897278831428989,
          0.02172665255234052,
          0.02495206920738835,
          -0.016272849957060576,
          -0.004713110843971191,
          0.011330965668865267,
          0.017025243013943592,
          0.02491788424510133,
          -0.023081052066559304,
          -0.0031055900621118626,
          0.01587195413282383,
          0.017464769919187884,
          0.023519222119074756,
          -0.014297620701287816,
          0.010700365318687899,
          0.02057060610597805,
          0.016119843561076763,
          0.023666581338176118,
          -0.0007295078532998378,
          0.004467609828741725,
          0.021169454373111685,
          0.014929204763127313,
          0.01626919566683871,
          -0.002519454659975162,
          0.012330556916544166,
          0.02643312101910833,
          0.024789928530845384,
          0.019108280254777066,
          -0.006493708249184382,
          0.004505200650022689,
          0.01725677432488082,
          0.021406727828746197,
          0.025070942502135263,
          -0.011516277629388894,
          0.004834491695134835,
          0.0159440559440559,
          0.02635349383440988,
          0.02651103069919447,
          -0.011184371184371211,
          -0.003076923076923088,
          0.008134878819810343,
          0.018555922605002384,
          0.02327657075748668,
          -0.0161599803705067,
          -0.0014639882880936872,
          0.012788911513592738,
          0.018933304754760072,
          0.020312948607522197,
          -0.012403100775193798,
          0.012357416783976172,
          0.022302289187320357,
          0.01800890814975331,
          0.019061665656632032,
          0.005525670309938446,
          0.010805818284595259,
          0.026354132114645212,
          0.021471135664598018,
          0.01785625292786719,
          0.0005758225854942678
         ],
         "y0": " ",
         "yaxis": "y2"
        },
        {
         "alignmentgroup": "True",
         "boxpoints": "all",
         "fillcolor": "rgba(255,255,255,0)",
         "hoveron": "points",
         "hovertemplate": "sc=3<br>theta=%{x}<br>diff=%{y}<extra></extra>",
         "legendgroup": "3",
         "line": {
          "color": "rgba(255,255,255,0)"
         },
         "marker": {
          "color": "#EF553B",
          "opacity": 0.5,
          "size": 5
         },
         "name": "3",
         "offsetgroup": "3",
         "orientation": "v",
         "pointpos": 0,
         "showlegend": true,
         "type": "box",
         "x": [
          "CSENT",
          "IPM",
          "HOUSE",
          "UNEMP",
          "LRIR",
          "CSENT",
          "IPM",
          "HOUSE",
          "UNEMP",
          "LRIR",
          "CSENT",
          "IPM",
          "HOUSE",
          "UNEMP",
          "LRIR",
          "CSENT",
          "IPM",
          "HOUSE",
          "UNEMP",
          "LRIR",
          "CSENT",
          "IPM",
          "HOUSE",
          "UNEMP",
          "LRIR",
          "CSENT",
          "IPM",
          "HOUSE",
          "UNEMP",
          "LRIR",
          "CSENT",
          "IPM",
          "HOUSE",
          "UNEMP",
          "LRIR",
          "CSENT",
          "IPM",
          "HOUSE",
          "UNEMP",
          "LRIR",
          "CSENT",
          "IPM",
          "HOUSE",
          "UNEMP",
          "LRIR",
          "CSENT",
          "IPM",
          "HOUSE",
          "UNEMP",
          "LRIR",
          "CSENT",
          "IPM",
          "HOUSE",
          "UNEMP",
          "LRIR",
          "CSENT",
          "IPM",
          "HOUSE",
          "UNEMP",
          "LRIR",
          "CSENT",
          "IPM",
          "HOUSE",
          "UNEMP",
          "LRIR",
          "CSENT",
          "IPM",
          "HOUSE",
          "UNEMP",
          "LRIR",
          "CSENT",
          "IPM",
          "HOUSE",
          "UNEMP",
          "LRIR",
          "CSENT",
          "IPM",
          "HOUSE",
          "UNEMP",
          "LRIR",
          "CSENT",
          "IPM",
          "HOUSE",
          "UNEMP",
          "LRIR",
          "CSENT",
          "IPM",
          "HOUSE",
          "UNEMP",
          "LRIR",
          "CSENT",
          "IPM",
          "HOUSE",
          "UNEMP",
          "LRIR",
          "CSENT",
          "IPM",
          "HOUSE",
          "UNEMP",
          "LRIR",
          "CSENT",
          "IPM",
          "HOUSE",
          "UNEMP",
          "LRIR",
          "CSENT",
          "IPM",
          "HOUSE",
          "UNEMP",
          "LRIR",
          "CSENT",
          "IPM",
          "HOUSE",
          "UNEMP",
          "LRIR",
          "CSENT",
          "IPM",
          "HOUSE",
          "UNEMP",
          "LRIR",
          "CSENT",
          "IPM",
          "HOUSE",
          "UNEMP",
          "LRIR",
          "CSENT",
          "IPM",
          "HOUSE",
          "UNEMP",
          "LRIR",
          "CSENT",
          "IPM",
          "HOUSE",
          "UNEMP",
          "LRIR",
          "CSENT",
          "IPM",
          "HOUSE",
          "UNEMP",
          "LRIR",
          "CSENT",
          "IPM",
          "HOUSE",
          "UNEMP",
          "LRIR",
          "CSENT",
          "IPM",
          "HOUSE",
          "UNEMP",
          "LRIR",
          "CSENT",
          "IPM",
          "HOUSE",
          "UNEMP",
          "LRIR",
          "CSENT",
          "IPM",
          "HOUSE",
          "UNEMP",
          "LRIR",
          "CSENT",
          "IPM",
          "HOUSE",
          "UNEMP",
          "LRIR",
          "CSENT",
          "IPM",
          "HOUSE",
          "UNEMP",
          "LRIR",
          "CSENT",
          "IPM",
          "HOUSE",
          "UNEMP",
          "LRIR",
          "CSENT",
          "IPM",
          "HOUSE",
          "UNEMP",
          "LRIR"
         ],
         "x0": " ",
         "xaxis": "x",
         "y": [
          0.019230769230769273,
          0.02644230769230771,
          0.038461538461538436,
          0.03125,
          -0.009615384615384581,
          0.02168674698795181,
          0.028915662650602414,
          0.028915662650602414,
          0.03614457831325302,
          0.009638554216867434,
          0.019323671497584516,
          0.036231884057971064,
          0.02657004830917875,
          0.019323671497584516,
          0.0024154589371980784,
          0.0266343825665859,
          0.041162227602905554,
          0.024213075060532607,
          0.024213075060532607,
          -0.007263922518159882,
          0.03883495145631066,
          0.04611650485436891,
          0.016990291262135915,
          0.02669902912621358,
          0,
          0.041362530413625254,
          0.038929440389294356,
          0.012165450121654486,
          0.02676399026763987,
          0.01703163017031628,
          -0.004830917874396157,
          0.02657004830917875,
          0.012077294685990392,
          0.04106280193236711,
          -0.03140096618357491,
          0.004842615012106588,
          0.021791767554479424,
          0.03389830508474578,
          0.03874092009685237,
          -0.014527845036319542,
          0.036407766990291246,
          0.04854368932038844,
          0.050970873786407855,
          0.06067961165048552,
          0.012135922330097082,
          0.02676399026763987,
          0.03892944038929447,
          0.03649635036496357,
          0.041362530413625365,
          0.0024330900243308973,
          0.03170731707317076,
          0.04390243902439028,
          0.03658536585365857,
          0.03170731707317076,
          -0.014634146341463317,
          0.03667481662591676,
          0.041564792176039034,
          0.017114914425427785,
          0.022004889975550057,
          -0.017114914425427896,
          0.002421307506053183,
          0.014527845036319542,
          0.0266343825665859,
          0.03147699757869249,
          -0.03631961259079908,
          0.012135922330097082,
          0.029126213592232997,
          0.021844660194174748,
          0.03398058252427183,
          -0.019417475728155442,
          0.01703163017031628,
          0.031630170316301665,
          0.041362530413625254,
          0.04622871046228705,
          0.0048661800486617945,
          0.02195121951219514,
          0.02195121951219514,
          0.02682926829268295,
          0.02682926829268295,
          -0.007317073170731714,
          0.02444987775061125,
          0.03667481662591687,
          0.041564792176039145,
          0.02933985330073352,
          0.014669926650366705,
          0.019607843137254943,
          0.031862745098039214,
          0.02450980392156865,
          0.01715686274509809,
          -0.019607843137254943,
          0.016990291262136026,
          0.02184466019417486,
          0.03640776699029136,
          0.04126213592233019,
          -0.024271844660194164,
          0.0048661800486617945,
          0.014598540145985384,
          0.019464720194647178,
          0.04622871046228705,
          -0.02919708029197088,
          0.009756097560975618,
          0.019512195121951237,
          0.024390243902439046,
          0.039024390243902474,
          -0.017073170731707332,
          0.022004889975550168,
          0.02689486552567244,
          0.022004889975550168,
          0.044009779951100336,
          -0.004889975550122161,
          0.022058823529411797,
          0.031862745098039214,
          0.039215686274509776,
          0.03676470588235292,
          -0.004901960784313708,
          0.027027027027027084,
          0.03439803439803435,
          0.03194103194103193,
          0.029484029484029506,
          -0.012285012285012331,
          0.0048661800486617945,
          0.01703163017031628,
          0.03649635036496346,
          0.03406326034063256,
          -0.009732360097323589,
          -0.0024390243902439046,
          0.012195121951219523,
          0.019512195121951237,
          0.04146341463414627,
          -0.03170731707317076,
          -0.004889975550122272,
          0.014669926650366705,
          0.014669926650366705,
          0.02933985330073341,
          -0.02689486552567244,
          0,
          0.022058823529411797,
          0.026960784313725505,
          0.0490196078431373,
          -0.01225490196078427,
          0.0073710073710073765,
          0.014742014742014753,
          0.027027027027027084,
          0.029484029484029506,
          -0.0073710073710072654,
          0.017241379310344862,
          0.03201970443349755,
          0.034482758620689724,
          0.029556650246305494,
          -0.0049261083743842304,
          0.004878048780487809,
          0.0024390243902439046,
          0.034146341463414664,
          0.03170731707317076,
          -0.014634146341463428,
          0.007334963325183352,
          0.0317848410757946,
          0.02933985330073352,
          0.03667481662591687,
          -0.009779951100244544,
          0,
          0.01225490196078427,
          0.02941176470588236,
          0.039215686274509776,
          -0.026960784313725505,
          0.004914004914004844,
          0.014742014742014753,
          0.02457002457002455,
          0.03439803439803435,
          -0.014742014742014753,
          0,
          0.009852216748768461,
          0.01231527093596052,
          0.029556650246305383,
          0.0024630541871920597,
          0.014814814814814836,
          0.029629629629629672,
          0.041975308641975406,
          0.032098765432098775,
          0.004938271604938316
         ],
         "y0": " ",
         "yaxis": "y"
        },
        {
         "alignmentgroup": "True",
         "boxpoints": "all",
         "fillcolor": "rgba(255,255,255,0)",
         "hoveron": "points",
         "hovertemplate": "sc=3<br>theta=%{x}<br>diff=%{y}<extra></extra>",
         "legendgroup": "3",
         "line": {
          "color": "rgba(255,255,255,0)"
         },
         "marker": {
          "color": "#EF553B",
          "opacity": 0.5,
          "size": 5
         },
         "name": "3",
         "offsetgroup": "3",
         "orientation": "v",
         "pointpos": 0,
         "showlegend": false,
         "type": "box",
         "x": [
          "CSENT",
          "IPM",
          "HOUSE",
          "UNEMP",
          "LRIR",
          "CSENT",
          "IPM",
          "HOUSE",
          "UNEMP",
          "LRIR",
          "CSENT",
          "IPM",
          "HOUSE",
          "UNEMP",
          "LRIR",
          "CSENT",
          "IPM",
          "HOUSE",
          "UNEMP",
          "LRIR",
          "CSENT",
          "IPM",
          "HOUSE",
          "UNEMP",
          "LRIR",
          "CSENT",
          "IPM",
          "HOUSE",
          "UNEMP",
          "LRIR",
          "CSENT",
          "IPM",
          "HOUSE",
          "UNEMP",
          "LRIR",
          "CSENT",
          "IPM",
          "HOUSE",
          "UNEMP",
          "LRIR",
          "CSENT",
          "IPM",
          "HOUSE",
          "UNEMP",
          "LRIR",
          "CSENT",
          "IPM",
          "HOUSE",
          "UNEMP",
          "LRIR",
          "CSENT",
          "IPM",
          "HOUSE",
          "UNEMP",
          "LRIR",
          "CSENT",
          "IPM",
          "HOUSE",
          "UNEMP",
          "LRIR",
          "CSENT",
          "IPM",
          "HOUSE",
          "UNEMP",
          "LRIR",
          "CSENT",
          "IPM",
          "HOUSE",
          "UNEMP",
          "LRIR",
          "CSENT",
          "IPM",
          "HOUSE",
          "UNEMP",
          "LRIR",
          "CSENT",
          "IPM",
          "HOUSE",
          "UNEMP",
          "LRIR",
          "CSENT",
          "IPM",
          "HOUSE",
          "UNEMP",
          "LRIR",
          "CSENT",
          "IPM",
          "HOUSE",
          "UNEMP",
          "LRIR",
          "CSENT",
          "IPM",
          "HOUSE",
          "UNEMP",
          "LRIR",
          "CSENT",
          "IPM",
          "HOUSE",
          "UNEMP",
          "LRIR",
          "CSENT",
          "IPM",
          "HOUSE",
          "UNEMP",
          "LRIR",
          "CSENT",
          "IPM",
          "HOUSE",
          "UNEMP",
          "LRIR",
          "CSENT",
          "IPM",
          "HOUSE",
          "UNEMP",
          "LRIR",
          "CSENT",
          "IPM",
          "HOUSE",
          "UNEMP",
          "LRIR",
          "CSENT",
          "IPM",
          "HOUSE",
          "UNEMP",
          "LRIR",
          "CSENT",
          "IPM",
          "HOUSE",
          "UNEMP",
          "LRIR",
          "CSENT",
          "IPM",
          "HOUSE",
          "UNEMP",
          "LRIR",
          "CSENT",
          "IPM",
          "HOUSE",
          "UNEMP",
          "LRIR",
          "CSENT",
          "IPM",
          "HOUSE",
          "UNEMP",
          "LRIR",
          "CSENT",
          "IPM",
          "HOUSE",
          "UNEMP",
          "LRIR",
          "CSENT",
          "IPM",
          "HOUSE",
          "UNEMP",
          "LRIR",
          "CSENT",
          "IPM",
          "HOUSE",
          "UNEMP",
          "LRIR",
          "CSENT",
          "IPM",
          "HOUSE",
          "UNEMP",
          "LRIR",
          "CSENT",
          "IPM",
          "HOUSE",
          "UNEMP",
          "LRIR",
          "CSENT",
          "IPM",
          "HOUSE",
          "UNEMP",
          "LRIR",
          "CSENT",
          "IPM",
          "HOUSE",
          "UNEMP",
          "LRIR"
         ],
         "x0": " ",
         "xaxis": "x2",
         "y": [
          0.013612891559002471,
          0.018753312201901684,
          0.026725635445161045,
          0.020834810081718946,
          -0.009658556959381892,
          0.013964686998394926,
          0.020462309819313962,
          0.020462309819313962,
          0.024221097254805257,
          0.00466615518762814,
          0.013350726700135818,
          0.027504218438410777,
          0.019657653445544154,
          0.013008130081300862,
          0.0010521281683405492,
          0.018507890961262485,
          0.03047164811870684,
          0.017773561037318086,
          0.015975570556091334,
          -0.006433317128504257,
          0.02687850119090396,
          0.03352802455514725,
          0.012439687971602997,
          0.017058006946357618,
          -0.0013147394191881379,
          0.028700023380874407,
          0.028298739271725326,
          0.009219503900354864,
          0.016637582510486637,
          0.010430339269606237,
          -0.0031496062992126816,
          0.01824717562478606,
          0.008464566929133888,
          0.02738980057399365,
          -0.025446324159975053,
          0.003752288670047288,
          0.01615993048218123,
          0.02403224017451111,
          0.026295757388194452,
          -0.013284337734381313,
          0.023612659482224574,
          0.033809581223374296,
          0.03525641025641024,
          0.0406373568138273,
          0.006143598109340176,
          0.01764462138020384,
          0.027554322699953615,
          0.026105375450689583,
          0.028196377274592566,
          -0.00040519718707865415,
          0.022251294806775013,
          0.03235848434925859,
          0.02771183898184648,
          0.02290913369990799,
          -0.012119907610540492,
          0.024748463953207622,
          0.029227468947800594,
          0.01307238009481193,
          0.014928496686431925,
          -0.014366916549962916,
          0.0014233504636459449,
          0.010321362364563824,
          0.01709744892242193,
          0.020303765180113342,
          -0.02867385294644098,
          0.009150076569678256,
          0.019954128440366925,
          0.015275650842266453,
          0.02269230769230768,
          -0.015032154340836046,
          0.011331236948537549,
          0.02192437124052493,
          0.027866460569463958,
          0.030938657190047625,
          0.001512313840175472,
          0.014378422836967775,
          0.016611085724286156,
          0.01862740741837865,
          0.017980843026443094,
          -0.006385154133224269,
          0.015086751372276885,
          0.02515898251192361,
          0.028283982511923655,
          0.019590262132776703,
          0.00807497604988816,
          0.012841091492776902,
          0.022753689549505185,
          0.017659028576484048,
          0.011380005762028245,
          -0.015079350484561993,
          0.011207964134514747,
          0.014938221110403105,
          0.023385815397948928,
          0.02684014585267358,
          -0.020724231721674258,
          0.003578214364939325,
          0.010189312245386994,
          0.01225661993769478,
          0.030115826409189306,
          -0.02375772432460055,
          0.007155635062611743,
          0.01374896290150518,
          0.016457960644007175,
          0.025918440137914667,
          -0.013986013986014068,
          0.014172155348625926,
          0.019253698388165152,
          0.01529175050301812,
          0.029287953425884417,
          -0.0054909260120986625,
          0.013729032258064433,
          0.022364890282131622,
          0.02673385826771657,
          0.024815189873417798,
          -0.005509656301145638,
          0.0176346649518222,
          0.02412254313357509,
          0.022411980408749366,
          0.020177059773828776,
          -0.011179750857400417,
          0.003072196620583778,
          0.011221010827619948,
          0.02341613277883925,
          0.0224228649276087,
          -0.009665337682735364,
          -0.001635353893418512,
          0.008434576176511555,
          0.012288786482334668,
          0.02650586658822751,
          -0.023558430816495446,
          -0.0029030585795748465,
          0.010328493583275034,
          0.010164833201946166,
          0.019216757088628023,
          -0.019569725246241454,
          0,
          0.015092165898617615,
          0.01798921417565502,
          0.03192307692307694,
          -0.010072231139646837,
          0.0044061089969416045,
          0.011398738520068785,
          0.018464485487605597,
          0.019751543244322378,
          -0.006487878181752893,
          0.010823114083983731,
          0.022305075876504432,
          0.023983200707338725,
          0.019700310305405866,
          -0.005090497737556543,
          0.003044140030441511,
          0.001840321018403257,
          0.02115561132606003,
          0.020486239664321948,
          -0.012723440604181957,
          0.004692527080377151,
          0.020719939482278238,
          0.01853103117730248,
          0.02373198767504936,
          -0.009237209688567671,
          -0.00019820670127423945,
          0.008610239754231142,
          0.01840490797546024,
          0.024783031572647052,
          -0.020382822085889596,
          0.00330685453434465,
          0.01022545712764078,
          0.016168666975319712,
          0.022001648331959722,
          -0.011572271058195138,
          -0.0002253134796238454,
          0.007457822085889632,
          0.008505602782071242,
          0.01924342105263155,
          0.0007849526066351364,
          0.009013312708366472,
          0.020702645637429296,
          0.028157021783425717,
          0.021125497114493297,
          0.0015412620427097679
         ],
         "y0": " ",
         "yaxis": "y2"
        },
        {
         "alignmentgroup": "True",
         "boxpoints": "all",
         "fillcolor": "rgba(255,255,255,0)",
         "hoveron": "points",
         "hovertemplate": "sc=6<br>theta=%{x}<br>diff=%{y}<extra></extra>",
         "legendgroup": "6",
         "line": {
          "color": "rgba(255,255,255,0)"
         },
         "marker": {
          "color": "#00cc96",
          "opacity": 0.5,
          "size": 5
         },
         "name": "6",
         "offsetgroup": "6",
         "orientation": "v",
         "pointpos": 0,
         "showlegend": true,
         "type": "box",
         "x": [
          "CSENT",
          "IPM",
          "HOUSE",
          "UNEMP",
          "LRIR",
          "CSENT",
          "IPM",
          "HOUSE",
          "UNEMP",
          "LRIR",
          "CSENT",
          "IPM",
          "HOUSE",
          "UNEMP",
          "LRIR",
          "CSENT",
          "IPM",
          "HOUSE",
          "UNEMP",
          "LRIR",
          "CSENT",
          "IPM",
          "HOUSE",
          "UNEMP",
          "LRIR",
          "CSENT",
          "IPM",
          "HOUSE",
          "UNEMP",
          "LRIR",
          "CSENT",
          "IPM",
          "HOUSE",
          "UNEMP",
          "LRIR",
          "CSENT",
          "IPM",
          "HOUSE",
          "UNEMP",
          "LRIR",
          "CSENT",
          "IPM",
          "HOUSE",
          "UNEMP",
          "LRIR",
          "CSENT",
          "IPM",
          "HOUSE",
          "UNEMP",
          "LRIR",
          "CSENT",
          "IPM",
          "HOUSE",
          "UNEMP",
          "LRIR",
          "CSENT",
          "IPM",
          "HOUSE",
          "UNEMP",
          "LRIR",
          "CSENT",
          "IPM",
          "HOUSE",
          "UNEMP",
          "LRIR",
          "CSENT",
          "IPM",
          "HOUSE",
          "UNEMP",
          "LRIR",
          "CSENT",
          "IPM",
          "HOUSE",
          "UNEMP",
          "LRIR",
          "CSENT",
          "IPM",
          "HOUSE",
          "UNEMP",
          "LRIR",
          "CSENT",
          "IPM",
          "HOUSE",
          "UNEMP",
          "LRIR",
          "CSENT",
          "IPM",
          "HOUSE",
          "UNEMP",
          "LRIR",
          "CSENT",
          "IPM",
          "HOUSE",
          "UNEMP",
          "LRIR",
          "CSENT",
          "IPM",
          "HOUSE",
          "UNEMP",
          "LRIR",
          "CSENT",
          "IPM",
          "HOUSE",
          "UNEMP",
          "LRIR",
          "CSENT",
          "IPM",
          "HOUSE",
          "UNEMP",
          "LRIR",
          "CSENT",
          "IPM",
          "HOUSE",
          "UNEMP",
          "LRIR",
          "CSENT",
          "IPM",
          "HOUSE",
          "UNEMP",
          "LRIR",
          "CSENT",
          "IPM",
          "HOUSE",
          "UNEMP",
          "LRIR",
          "CSENT",
          "IPM",
          "HOUSE",
          "UNEMP",
          "LRIR",
          "CSENT",
          "IPM",
          "HOUSE",
          "UNEMP",
          "LRIR",
          "CSENT",
          "IPM",
          "HOUSE",
          "UNEMP",
          "LRIR",
          "CSENT",
          "IPM",
          "HOUSE",
          "UNEMP",
          "LRIR",
          "CSENT",
          "IPM",
          "HOUSE",
          "UNEMP",
          "LRIR",
          "CSENT",
          "IPM",
          "HOUSE",
          "UNEMP",
          "LRIR",
          "CSENT",
          "IPM",
          "HOUSE",
          "UNEMP",
          "LRIR",
          "CSENT",
          "IPM",
          "HOUSE",
          "UNEMP",
          "LRIR",
          "CSENT",
          "IPM",
          "HOUSE",
          "UNEMP",
          "LRIR",
          "CSENT",
          "IPM",
          "HOUSE",
          "UNEMP",
          "LRIR",
          "CSENT",
          "IPM",
          "HOUSE",
          "UNEMP",
          "LRIR"
         ],
         "x0": " ",
         "xaxis": "x",
         "y": [
          0.0024038461538461453,
          0.007211538461538436,
          0.03605769230769229,
          0.024038461538461453,
          -0.016826923076923128,
          0.016867469879518038,
          -0.002409638554216942,
          0.031325301204819245,
          0.01927710843373487,
          -0.02168674698795181,
          0.016908212560386437,
          0.009661835748792202,
          0.02657004830917875,
          0.007246376811594124,
          -0.0024154589371980784,
          0.016949152542372947,
          0.021791767554479424,
          0.016949152542372947,
          0.014527845036319653,
          -0.01210653753026636,
          0.03155339805825241,
          0.03155339805825241,
          0.01941747572815533,
          0.024271844660194164,
          -0.021844660194174748,
          0.03649635036496346,
          0.029197080291970767,
          0.009732360097323589,
          0.0048661800486617945,
          -0.012165450121654597,
          -0.009661835748792202,
          0.007246376811594235,
          0.009661835748792313,
          0.02898550724637683,
          -0.04589371980676327,
          -0.004842615012106588,
          0.002421307506053294,
          0.01210653753026636,
          0.0266343825665859,
          -0.029055690072639195,
          0.009708737864077666,
          0.007281553398058249,
          0.036407766990291246,
          0.02669902912621358,
          -0.016990291262135915,
          0.021897810218978075,
          0.029197080291970767,
          0.041362530413625254,
          0.04379562043795615,
          0,
          0.029268292682926744,
          0.029268292682926744,
          0.046341463414634076,
          0.024390243902439046,
          -0.012195121951219523,
          0.03422982885085568,
          0.041564792176039145,
          0.02444987775061125,
          0.0317848410757946,
          -0.02444987775061125,
          -0.007263922518159771,
          0.002421307506053294,
          0.004842615012106477,
          0.01210653753026636,
          -0.05569007263922521,
          0.0024271844660194164,
          0.02184466019417486,
          0.02184466019417486,
          0.03398058252427194,
          -0.012135922330097082,
          0.0024330900243308973,
          0.0097323600973237,
          0.031630170316301776,
          0.017031630170316392,
          -0.021897810218978075,
          0.0024390243902439046,
          0.012195121951219523,
          0.024390243902439046,
          0.02682926829268295,
          -0.02682926829268295,
          0.022004889975550168,
          0.02933985330073352,
          0.041564792176039145,
          0.02933985330073352,
          -0.012224938875305624,
          0.019607843137254943,
          0.02941176470588236,
          0.02450980392156865,
          0.022058823529411797,
          -0.022058823529411686,
          0.007281553398058249,
          0.009708737864077666,
          0.024271844660194164,
          0.031553398058252524,
          -0.036407766990291246,
          0.0048661800486617945,
          0.0048661800486617945,
          0.0048661800486617945,
          0.03406326034063267,
          -0.041362530413625254,
          0.017073170731707332,
          0.019512195121951237,
          0.017073170731707332,
          0.051219512195122,
          -0.02195121951219514,
          0.0024449877750610804,
          0.007334963325183352,
          0.02444987775061125,
          0.03422982885085579,
          -0.02933985330073352,
          0.007352941176470562,
          0.014705882352941124,
          0.03431372549019607,
          0.04166666666666663,
          -0.009803921568627527,
          0.019656019656019597,
          0.02457002457002455,
          0.03439803439803435,
          0.03439803439803435,
          -0.019656019656019708,
          0.0048661800486617945,
          -0.0024330900243308973,
          0.024330900243308973,
          0.024330900243308973,
          -0.02676399026763998,
          -0.007317073170731714,
          0,
          0.004878048780487809,
          0.017073170731707332,
          -0.04146341463414638,
          -0.012224938875305624,
          0.004889975550122272,
          0.007334963325183352,
          0.0317848410757946,
          -0.02689486552567233,
          0,
          0.007352941176470562,
          0.02450980392156854,
          0.04166666666666663,
          -0.012254901960784381,
          -0.00982800982800991,
          -0.0073710073710073765,
          0.017199017199017175,
          0.027027027027026973,
          -0.03194103194103204,
          0.017241379310344862,
          0.014778325123152691,
          0.039408866995073955,
          0.034482758620689724,
          -0.01231527093596052,
          0.009756097560975618,
          -0.012195121951219523,
          0.02682926829268295,
          0.02682926829268295,
          -0.009756097560975618,
          0.007334963325183463,
          0.014669926650366816,
          0.02444987775061125,
          0.02689486552567244,
          -0.019559902200488977,
          -0.002450980392156854,
          0.01225490196078427,
          0.014705882352941124,
          0.02450980392156865,
          -0.02941176470588236,
          -0.002457002457002422,
          0.0073710073710073765,
          0.027027027027027084,
          0.03194103194103193,
          -0.02211302211302213,
          -0.007389162561576401,
          0.0024630541871920597,
          0.01724137931034475,
          0.03201970443349744,
          -0.014778325123152802,
          0.0024691358024692134,
          0.007407407407407418,
          0.02716049382716057,
          0.024691358024691357,
          -0.012345679012345623
         ],
         "y0": " ",
         "yaxis": "y"
        },
        {
         "alignmentgroup": "True",
         "boxpoints": "all",
         "fillcolor": "rgba(255,255,255,0)",
         "hoveron": "points",
         "hovertemplate": "sc=6<br>theta=%{x}<br>diff=%{y}<extra></extra>",
         "legendgroup": "6",
         "line": {
          "color": "rgba(255,255,255,0)"
         },
         "marker": {
          "color": "#00cc96",
          "opacity": 0.5,
          "size": 5
         },
         "name": "6",
         "offsetgroup": "6",
         "orientation": "v",
         "pointpos": 0,
         "showlegend": false,
         "type": "box",
         "x": [
          "CSENT",
          "IPM",
          "HOUSE",
          "UNEMP",
          "LRIR",
          "CSENT",
          "IPM",
          "HOUSE",
          "UNEMP",
          "LRIR",
          "CSENT",
          "IPM",
          "HOUSE",
          "UNEMP",
          "LRIR",
          "CSENT",
          "IPM",
          "HOUSE",
          "UNEMP",
          "LRIR",
          "CSENT",
          "IPM",
          "HOUSE",
          "UNEMP",
          "LRIR",
          "CSENT",
          "IPM",
          "HOUSE",
          "UNEMP",
          "LRIR",
          "CSENT",
          "IPM",
          "HOUSE",
          "UNEMP",
          "LRIR",
          "CSENT",
          "IPM",
          "HOUSE",
          "UNEMP",
          "LRIR",
          "CSENT",
          "IPM",
          "HOUSE",
          "UNEMP",
          "LRIR",
          "CSENT",
          "IPM",
          "HOUSE",
          "UNEMP",
          "LRIR",
          "CSENT",
          "IPM",
          "HOUSE",
          "UNEMP",
          "LRIR",
          "CSENT",
          "IPM",
          "HOUSE",
          "UNEMP",
          "LRIR",
          "CSENT",
          "IPM",
          "HOUSE",
          "UNEMP",
          "LRIR",
          "CSENT",
          "IPM",
          "HOUSE",
          "UNEMP",
          "LRIR",
          "CSENT",
          "IPM",
          "HOUSE",
          "UNEMP",
          "LRIR",
          "CSENT",
          "IPM",
          "HOUSE",
          "UNEMP",
          "LRIR",
          "CSENT",
          "IPM",
          "HOUSE",
          "UNEMP",
          "LRIR",
          "CSENT",
          "IPM",
          "HOUSE",
          "UNEMP",
          "LRIR",
          "CSENT",
          "IPM",
          "HOUSE",
          "UNEMP",
          "LRIR",
          "CSENT",
          "IPM",
          "HOUSE",
          "UNEMP",
          "LRIR",
          "CSENT",
          "IPM",
          "HOUSE",
          "UNEMP",
          "LRIR",
          "CSENT",
          "IPM",
          "HOUSE",
          "UNEMP",
          "LRIR",
          "CSENT",
          "IPM",
          "HOUSE",
          "UNEMP",
          "LRIR",
          "CSENT",
          "IPM",
          "HOUSE",
          "UNEMP",
          "LRIR",
          "CSENT",
          "IPM",
          "HOUSE",
          "UNEMP",
          "LRIR",
          "CSENT",
          "IPM",
          "HOUSE",
          "UNEMP",
          "LRIR",
          "CSENT",
          "IPM",
          "HOUSE",
          "UNEMP",
          "LRIR",
          "CSENT",
          "IPM",
          "HOUSE",
          "UNEMP",
          "LRIR",
          "CSENT",
          "IPM",
          "HOUSE",
          "UNEMP",
          "LRIR",
          "CSENT",
          "IPM",
          "HOUSE",
          "UNEMP",
          "LRIR",
          "CSENT",
          "IPM",
          "HOUSE",
          "UNEMP",
          "LRIR",
          "CSENT",
          "IPM",
          "HOUSE",
          "UNEMP",
          "LRIR",
          "CSENT",
          "IPM",
          "HOUSE",
          "UNEMP",
          "LRIR",
          "CSENT",
          "IPM",
          "HOUSE",
          "UNEMP",
          "LRIR",
          "CSENT",
          "IPM",
          "HOUSE",
          "UNEMP",
          "LRIR",
          "CSENT",
          "IPM",
          "HOUSE",
          "UNEMP",
          "LRIR"
         ],
         "x0": " ",
         "xaxis": "x2",
         "y": [
          0.0006999125109361515,
          0.005227951521733609,
          0.024854501882916713,
          0.014831691348597187,
          -0.016057828836969268,
          0.01094203447144615,
          -0.0010230948619573965,
          0.02139732533433325,
          0.012364776059043625,
          -0.01927773855286219,
          0.010676746233107326,
          0.008322366168896922,
          0.018179580408104745,
          0.0030272768625073665,
          -0.003913175757194187,
          0.011604565557056246,
          0.017190592709193875,
          0.01281425881340914,
          0.00893896513056014,
          -0.010299620426952316,
          0.021766559848800604,
          0.022937242825249116,
          0.013872637382330133,
          0.014609604282903699,
          -0.017539879322173157,
          0.025057731827715424,
          0.021987601957585534,
          0.006976219843764397,
          0.0009089949924114826,
          -0.011479064709081,
          -0.005936520376175536,
          0.006322724616120268,
          0.00656347962382442,
          0.01931659488862192,
          -0.03965279356335938,
          -0.0034829769501559804,
          0.0023622047244096223,
          0.0086122047244096,
          0.01772270629180772,
          -0.0257575956083691,
          0.006745894466942071,
          0.007446432042585216,
          0.02616718087253833,
          0.01868479626909736,
          -0.01611749558914688,
          0.013986897150524924,
          0.022275989505170846,
          0.02967499064001755,
          0.02979219346715367,
          -0.003526540442322701,
          0.01929865850788437,
          0.022084195997239542,
          0.034230944774075844,
          0.0168342296001871,
          -0.011505273250239645,
          0.02426713259561253,
          0.03115977729394126,
          0.019333546257851553,
          0.02321500442727209,
          -0.01970197019701969,
          -0.004958353565159057,
          0.0030351088264244375,
          0.0030487804878046587,
          0.007731001967553719,
          -0.0434812981517706,
          0.0019593389608845158,
          0.01543253243407805,
          0.014737508803274624,
          0.021852665972855623,
          -0.0130444194956425,
          0.0014182316118935834,
          0.007860429447852701,
          0.021774502297090326,
          0.011833462132921135,
          -0.01808144246353316,
          0.0011262832652246813,
          0.010173421573836938,
          0.016993224684123787,
          0.018181372188289524,
          -0.021200851522224173,
          0.013849681528662394,
          0.022057088936069835,
          0.02884624939137692,
          0.02001245755389891,
          -0.011787100080532853,
          0.012882447665056307,
          0.022090676101698792,
          0.017710813549027593,
          0.015315913218399646,
          -0.01731608610899238,
          0.005364201016375025,
          0.007858657779124423,
          0.016273291925466005,
          0.02123500708626236,
          -0.03099943534726124,
          0.0025308822237574136,
          0.0038718094396396063,
          0.0022577072839637946,
          0.02150537634408589,
          -0.035616046868859996,
          0.011944577161968395,
          0.01415533618923448,
          0.011673684570880805,
          0.0336837075967511,
          -0.02070023000255561,
          0.0020233230339880004,
          0.006564615837503784,
          0.017055088923064843,
          0.0228363953811358,
          -0.023484343770819427,
          0.00429067524115756,
          0.011808450704225426,
          0.02378582677165353,
          0.028638993710691785,
          -0.010261157024793466,
          0.012627437708870981,
          0.018946243629787918,
          0.024963924963924855,
          0.023698166784983488,
          -0.01662337662337665,
          0.003310615713734699,
          -0.0008797367306375703,
          0.015733495563154287,
          0.015733495563154287,
          -0.02154258452114488,
          -0.004481440073657139,
          0.001330475275334475,
          0.0030674846625767804,
          0.011214761277791863,
          -0.03172882838989366,
          -0.008110824002297012,
          0.003989762119843365,
          0.004963873243443051,
          0.020498931805720932,
          -0.021704984292774787,
          0,
          0.005835901386748832,
          0.016947852760736182,
          0.02740755007704143,
          -0.010728663446054831,
          -0.006888203950734306,
          -0.0031691085053996426,
          0.012080011737663265,
          0.018078347683175178,
          -0.024135012439405967,
          0.010080156079835922,
          0.011141921353507334,
          0.026865191793758902,
          0.022911912368781318,
          -0.011242439026949325,
          0.006367942119788084,
          -0.006337609143869272,
          0.01648839470680241,
          0.01758062799853799,
          -0.009727683122178532,
          0.004959490469723327,
          0.010750013817498627,
          0.015748915157863363,
          0.01737307523508058,
          -0.015904028760110878,
          -0.0016589861751152846,
          0.008854608991047952,
          0.009428303258269044,
          0.016125535827919646,
          -0.023765955380949833,
          -0.001162790697674554,
          0.006412966878083015,
          0.01814615239175632,
          0.0211949328795612,
          -0.01815308195981047,
          -0.004811407409567536,
          0.002698939087241614,
          0.011915528948992837,
          0.020938035511138486,
          -0.012041696621135856,
          0.0011219335493347637,
          0.006911157631130815,
          0.018785558202255914,
          0.01659656362842732,
          -0.010841823608109702
         ],
         "y0": " ",
         "yaxis": "y2"
        }
       ],
       "layout": {
        "annotations": [
         {
          "font": {
           "color": "grey",
           "size": 11
          },
          "showarrow": false,
          "text": "Acc",
          "x": 0.225,
          "xanchor": "center",
          "xref": "paper",
          "y": 0.95,
          "yanchor": "bottom",
          "yref": "paper"
         },
         {
          "font": {
           "color": "grey",
           "size": 11
          },
          "showarrow": false,
          "text": "F1",
          "x": 0.775,
          "xanchor": "center",
          "xref": "paper",
          "y": 0.95,
          "yanchor": "bottom",
          "yref": "paper"
         }
        ],
        "height": 400,
        "legend": {
         "orientation": "h",
         "title": {
          "text": "Scopes:"
         },
         "x": 0.5,
         "xanchor": "center",
         "y": -0.1,
         "yanchor": "top"
        },
        "margin": {
         "b": 60,
         "l": 80,
         "r": 40,
         "t": 80
        },
        "template": {
         "data": {
          "bar": [
           {
            "error_x": {
             "color": "#f2f5fa"
            },
            "error_y": {
             "color": "#f2f5fa"
            },
            "marker": {
             "line": {
              "color": "rgb(17,17,17)",
              "width": 0.5
             },
             "pattern": {
              "fillmode": "overlay",
              "size": 10,
              "solidity": 0.2
             }
            },
            "type": "bar"
           }
          ],
          "barpolar": [
           {
            "marker": {
             "line": {
              "color": "rgb(17,17,17)",
              "width": 0.5
             },
             "pattern": {
              "fillmode": "overlay",
              "size": 10,
              "solidity": 0.2
             }
            },
            "type": "barpolar"
           }
          ],
          "carpet": [
           {
            "aaxis": {
             "endlinecolor": "#A2B1C6",
             "gridcolor": "#506784",
             "linecolor": "#506784",
             "minorgridcolor": "#506784",
             "startlinecolor": "#A2B1C6"
            },
            "baxis": {
             "endlinecolor": "#A2B1C6",
             "gridcolor": "#506784",
             "linecolor": "#506784",
             "minorgridcolor": "#506784",
             "startlinecolor": "#A2B1C6"
            },
            "type": "carpet"
           }
          ],
          "choropleth": [
           {
            "colorbar": {
             "outlinewidth": 0,
             "ticks": ""
            },
            "type": "choropleth"
           }
          ],
          "contour": [
           {
            "colorbar": {
             "outlinewidth": 0,
             "ticks": ""
            },
            "colorscale": [
             [
              0,
              "#0d0887"
             ],
             [
              0.1111111111111111,
              "#46039f"
             ],
             [
              0.2222222222222222,
              "#7201a8"
             ],
             [
              0.3333333333333333,
              "#9c179e"
             ],
             [
              0.4444444444444444,
              "#bd3786"
             ],
             [
              0.5555555555555556,
              "#d8576b"
             ],
             [
              0.6666666666666666,
              "#ed7953"
             ],
             [
              0.7777777777777778,
              "#fb9f3a"
             ],
             [
              0.8888888888888888,
              "#fdca26"
             ],
             [
              1,
              "#f0f921"
             ]
            ],
            "type": "contour"
           }
          ],
          "contourcarpet": [
           {
            "colorbar": {
             "outlinewidth": 0,
             "ticks": ""
            },
            "type": "contourcarpet"
           }
          ],
          "heatmap": [
           {
            "colorbar": {
             "outlinewidth": 0,
             "ticks": ""
            },
            "colorscale": [
             [
              0,
              "#0d0887"
             ],
             [
              0.1111111111111111,
              "#46039f"
             ],
             [
              0.2222222222222222,
              "#7201a8"
             ],
             [
              0.3333333333333333,
              "#9c179e"
             ],
             [
              0.4444444444444444,
              "#bd3786"
             ],
             [
              0.5555555555555556,
              "#d8576b"
             ],
             [
              0.6666666666666666,
              "#ed7953"
             ],
             [
              0.7777777777777778,
              "#fb9f3a"
             ],
             [
              0.8888888888888888,
              "#fdca26"
             ],
             [
              1,
              "#f0f921"
             ]
            ],
            "type": "heatmap"
           }
          ],
          "heatmapgl": [
           {
            "colorbar": {
             "outlinewidth": 0,
             "ticks": ""
            },
            "colorscale": [
             [
              0,
              "#0d0887"
             ],
             [
              0.1111111111111111,
              "#46039f"
             ],
             [
              0.2222222222222222,
              "#7201a8"
             ],
             [
              0.3333333333333333,
              "#9c179e"
             ],
             [
              0.4444444444444444,
              "#bd3786"
             ],
             [
              0.5555555555555556,
              "#d8576b"
             ],
             [
              0.6666666666666666,
              "#ed7953"
             ],
             [
              0.7777777777777778,
              "#fb9f3a"
             ],
             [
              0.8888888888888888,
              "#fdca26"
             ],
             [
              1,
              "#f0f921"
             ]
            ],
            "type": "heatmapgl"
           }
          ],
          "histogram": [
           {
            "marker": {
             "pattern": {
              "fillmode": "overlay",
              "size": 10,
              "solidity": 0.2
             }
            },
            "type": "histogram"
           }
          ],
          "histogram2d": [
           {
            "colorbar": {
             "outlinewidth": 0,
             "ticks": ""
            },
            "colorscale": [
             [
              0,
              "#0d0887"
             ],
             [
              0.1111111111111111,
              "#46039f"
             ],
             [
              0.2222222222222222,
              "#7201a8"
             ],
             [
              0.3333333333333333,
              "#9c179e"
             ],
             [
              0.4444444444444444,
              "#bd3786"
             ],
             [
              0.5555555555555556,
              "#d8576b"
             ],
             [
              0.6666666666666666,
              "#ed7953"
             ],
             [
              0.7777777777777778,
              "#fb9f3a"
             ],
             [
              0.8888888888888888,
              "#fdca26"
             ],
             [
              1,
              "#f0f921"
             ]
            ],
            "type": "histogram2d"
           }
          ],
          "histogram2dcontour": [
           {
            "colorbar": {
             "outlinewidth": 0,
             "ticks": ""
            },
            "colorscale": [
             [
              0,
              "#0d0887"
             ],
             [
              0.1111111111111111,
              "#46039f"
             ],
             [
              0.2222222222222222,
              "#7201a8"
             ],
             [
              0.3333333333333333,
              "#9c179e"
             ],
             [
              0.4444444444444444,
              "#bd3786"
             ],
             [
              0.5555555555555556,
              "#d8576b"
             ],
             [
              0.6666666666666666,
              "#ed7953"
             ],
             [
              0.7777777777777778,
              "#fb9f3a"
             ],
             [
              0.8888888888888888,
              "#fdca26"
             ],
             [
              1,
              "#f0f921"
             ]
            ],
            "type": "histogram2dcontour"
           }
          ],
          "mesh3d": [
           {
            "colorbar": {
             "outlinewidth": 0,
             "ticks": ""
            },
            "type": "mesh3d"
           }
          ],
          "parcoords": [
           {
            "line": {
             "colorbar": {
              "outlinewidth": 0,
              "ticks": ""
             }
            },
            "type": "parcoords"
           }
          ],
          "pie": [
           {
            "automargin": true,
            "type": "pie"
           }
          ],
          "scatter": [
           {
            "marker": {
             "line": {
              "color": "#283442"
             }
            },
            "type": "scatter"
           }
          ],
          "scatter3d": [
           {
            "line": {
             "colorbar": {
              "outlinewidth": 0,
              "ticks": ""
             }
            },
            "marker": {
             "colorbar": {
              "outlinewidth": 0,
              "ticks": ""
             }
            },
            "type": "scatter3d"
           }
          ],
          "scattercarpet": [
           {
            "marker": {
             "colorbar": {
              "outlinewidth": 0,
              "ticks": ""
             }
            },
            "type": "scattercarpet"
           }
          ],
          "scattergeo": [
           {
            "marker": {
             "colorbar": {
              "outlinewidth": 0,
              "ticks": ""
             }
            },
            "type": "scattergeo"
           }
          ],
          "scattergl": [
           {
            "marker": {
             "line": {
              "color": "#283442"
             }
            },
            "type": "scattergl"
           }
          ],
          "scattermapbox": [
           {
            "marker": {
             "colorbar": {
              "outlinewidth": 0,
              "ticks": ""
             }
            },
            "type": "scattermapbox"
           }
          ],
          "scatterpolar": [
           {
            "marker": {
             "colorbar": {
              "outlinewidth": 0,
              "ticks": ""
             }
            },
            "type": "scatterpolar"
           }
          ],
          "scatterpolargl": [
           {
            "marker": {
             "colorbar": {
              "outlinewidth": 0,
              "ticks": ""
             }
            },
            "type": "scatterpolargl"
           }
          ],
          "scatterternary": [
           {
            "marker": {
             "colorbar": {
              "outlinewidth": 0,
              "ticks": ""
             }
            },
            "type": "scatterternary"
           }
          ],
          "surface": [
           {
            "colorbar": {
             "outlinewidth": 0,
             "ticks": ""
            },
            "colorscale": [
             [
              0,
              "#0d0887"
             ],
             [
              0.1111111111111111,
              "#46039f"
             ],
             [
              0.2222222222222222,
              "#7201a8"
             ],
             [
              0.3333333333333333,
              "#9c179e"
             ],
             [
              0.4444444444444444,
              "#bd3786"
             ],
             [
              0.5555555555555556,
              "#d8576b"
             ],
             [
              0.6666666666666666,
              "#ed7953"
             ],
             [
              0.7777777777777778,
              "#fb9f3a"
             ],
             [
              0.8888888888888888,
              "#fdca26"
             ],
             [
              1,
              "#f0f921"
             ]
            ],
            "type": "surface"
           }
          ],
          "table": [
           {
            "cells": {
             "fill": {
              "color": "#506784"
             },
             "line": {
              "color": "rgb(17,17,17)"
             }
            },
            "header": {
             "fill": {
              "color": "#2a3f5f"
             },
             "line": {
              "color": "rgb(17,17,17)"
             }
            },
            "type": "table"
           }
          ]
         },
         "layout": {
          "annotationdefaults": {
           "arrowcolor": "#f2f5fa",
           "arrowhead": 0,
           "arrowwidth": 1
          },
          "autotypenumbers": "strict",
          "coloraxis": {
           "colorbar": {
            "outlinewidth": 0,
            "ticks": ""
           }
          },
          "colorscale": {
           "diverging": [
            [
             0,
             "#8e0152"
            ],
            [
             0.1,
             "#c51b7d"
            ],
            [
             0.2,
             "#de77ae"
            ],
            [
             0.3,
             "#f1b6da"
            ],
            [
             0.4,
             "#fde0ef"
            ],
            [
             0.5,
             "#f7f7f7"
            ],
            [
             0.6,
             "#e6f5d0"
            ],
            [
             0.7,
             "#b8e186"
            ],
            [
             0.8,
             "#7fbc41"
            ],
            [
             0.9,
             "#4d9221"
            ],
            [
             1,
             "#276419"
            ]
           ],
           "sequential": [
            [
             0,
             "#0d0887"
            ],
            [
             0.1111111111111111,
             "#46039f"
            ],
            [
             0.2222222222222222,
             "#7201a8"
            ],
            [
             0.3333333333333333,
             "#9c179e"
            ],
            [
             0.4444444444444444,
             "#bd3786"
            ],
            [
             0.5555555555555556,
             "#d8576b"
            ],
            [
             0.6666666666666666,
             "#ed7953"
            ],
            [
             0.7777777777777778,
             "#fb9f3a"
            ],
            [
             0.8888888888888888,
             "#fdca26"
            ],
            [
             1,
             "#f0f921"
            ]
           ],
           "sequentialminus": [
            [
             0,
             "#0d0887"
            ],
            [
             0.1111111111111111,
             "#46039f"
            ],
            [
             0.2222222222222222,
             "#7201a8"
            ],
            [
             0.3333333333333333,
             "#9c179e"
            ],
            [
             0.4444444444444444,
             "#bd3786"
            ],
            [
             0.5555555555555556,
             "#d8576b"
            ],
            [
             0.6666666666666666,
             "#ed7953"
            ],
            [
             0.7777777777777778,
             "#fb9f3a"
            ],
            [
             0.8888888888888888,
             "#fdca26"
            ],
            [
             1,
             "#f0f921"
            ]
           ]
          },
          "colorway": [
           "#636efa",
           "#EF553B",
           "#00cc96",
           "#ab63fa",
           "#FFA15A",
           "#19d3f3",
           "#FF6692",
           "#B6E880",
           "#FF97FF",
           "#FECB52"
          ],
          "font": {
           "color": "#f2f5fa"
          },
          "geo": {
           "bgcolor": "rgb(17,17,17)",
           "lakecolor": "rgb(17,17,17)",
           "landcolor": "rgb(17,17,17)",
           "showlakes": true,
           "showland": true,
           "subunitcolor": "#506784"
          },
          "hoverlabel": {
           "align": "left"
          },
          "hovermode": "closest",
          "mapbox": {
           "style": "dark"
          },
          "paper_bgcolor": "rgb(17,17,17)",
          "plot_bgcolor": "rgb(17,17,17)",
          "polar": {
           "angularaxis": {
            "gridcolor": "#506784",
            "linecolor": "#506784",
            "ticks": ""
           },
           "bgcolor": "rgb(17,17,17)",
           "radialaxis": {
            "gridcolor": "#506784",
            "linecolor": "#506784",
            "ticks": ""
           }
          },
          "scene": {
           "xaxis": {
            "backgroundcolor": "rgb(17,17,17)",
            "gridcolor": "#506784",
            "gridwidth": 2,
            "linecolor": "#506784",
            "showbackground": true,
            "ticks": "",
            "zerolinecolor": "#C8D4E3"
           },
           "yaxis": {
            "backgroundcolor": "rgb(17,17,17)",
            "gridcolor": "#506784",
            "gridwidth": 2,
            "linecolor": "#506784",
            "showbackground": true,
            "ticks": "",
            "zerolinecolor": "#C8D4E3"
           },
           "zaxis": {
            "backgroundcolor": "rgb(17,17,17)",
            "gridcolor": "#506784",
            "gridwidth": 2,
            "linecolor": "#506784",
            "showbackground": true,
            "ticks": "",
            "zerolinecolor": "#C8D4E3"
           }
          },
          "shapedefaults": {
           "line": {
            "color": "#f2f5fa"
           }
          },
          "sliderdefaults": {
           "bgcolor": "#C8D4E3",
           "bordercolor": "rgb(17,17,17)",
           "borderwidth": 1,
           "tickwidth": 0
          },
          "ternary": {
           "aaxis": {
            "gridcolor": "#506784",
            "linecolor": "#506784",
            "ticks": ""
           },
           "baxis": {
            "gridcolor": "#506784",
            "linecolor": "#506784",
            "ticks": ""
           },
           "bgcolor": "rgb(17,17,17)",
           "caxis": {
            "gridcolor": "#506784",
            "linecolor": "#506784",
            "ticks": ""
           }
          },
          "title": {
           "x": 0.05
          },
          "updatemenudefaults": {
           "bgcolor": "#506784",
           "borderwidth": 0
          },
          "xaxis": {
           "automargin": true,
           "gridcolor": "#283442",
           "linecolor": "#506784",
           "ticks": "",
           "title": {
            "standoff": 15
           },
           "zerolinecolor": "#283442",
           "zerolinewidth": 2
          },
          "yaxis": {
           "automargin": true,
           "gridcolor": "#283442",
           "linecolor": "#506784",
           "ticks": "",
           "title": {
            "standoff": 15
           },
           "zerolinecolor": "#283442",
           "zerolinewidth": 2
          }
         }
        },
        "title": {
         "text": "Observe Backward Elimination in All Models With Repect to Scopes<br><span style=\"font-size: 12.5px; color: lightgrey;\"> -- How meansures are changed by removing the impact of each coefficient</span>"
        },
        "width": 800,
        "xaxis": {
         "anchor": "y",
         "domain": [
          0,
          0.45
         ]
        },
        "xaxis2": {
         "anchor": "y2",
         "domain": [
          0.55,
          1
         ]
        },
        "yaxis": {
         "anchor": "x",
         "domain": [
          0,
          1
         ],
         "title": {
          "text": "Difference"
         }
        },
        "yaxis2": {
         "anchor": "x2",
         "domain": [
          0,
          1
         ]
        }
       }
      }
     },
     "metadata": {},
     "output_type": "display_data"
    },
    {
     "data": {
      "application/vnd.plotly.v1+json": {
       "config": {
        "plotlyServerURL": "https://plot.ly"
       },
       "data": [
        {
         "alignmentgroup": "True",
         "boxpoints": "all",
         "fillcolor": "rgba(255,255,255,0)",
         "hoveron": "points",
         "hovertemplate": "ma=1<br>theta=%{x}<br>diff=%{y}<extra></extra>",
         "legendgroup": "1",
         "line": {
          "color": "rgba(255,255,255,0)"
         },
         "marker": {
          "color": "#636efa",
          "opacity": 0.5,
          "size": 5
         },
         "name": "1",
         "offsetgroup": "1",
         "orientation": "v",
         "pointpos": 0,
         "showlegend": true,
         "type": "box",
         "x": [
          "CSENT",
          "IPM",
          "HOUSE",
          "UNEMP",
          "LRIR",
          "CSENT",
          "IPM",
          "HOUSE",
          "UNEMP",
          "LRIR",
          "CSENT",
          "IPM",
          "HOUSE",
          "UNEMP",
          "LRIR",
          "CSENT",
          "IPM",
          "HOUSE",
          "UNEMP",
          "LRIR",
          "CSENT",
          "IPM",
          "HOUSE",
          "UNEMP",
          "LRIR",
          "CSENT",
          "IPM",
          "HOUSE",
          "UNEMP",
          "LRIR",
          "CSENT",
          "IPM",
          "HOUSE",
          "UNEMP",
          "LRIR",
          "CSENT",
          "IPM",
          "HOUSE",
          "UNEMP",
          "LRIR",
          "CSENT",
          "IPM",
          "HOUSE",
          "UNEMP",
          "LRIR",
          "CSENT",
          "IPM",
          "HOUSE",
          "UNEMP",
          "LRIR",
          "CSENT",
          "IPM",
          "HOUSE",
          "UNEMP",
          "LRIR",
          "CSENT",
          "IPM",
          "HOUSE",
          "UNEMP",
          "LRIR",
          "CSENT",
          "IPM",
          "HOUSE",
          "UNEMP",
          "LRIR",
          "CSENT",
          "IPM",
          "HOUSE",
          "UNEMP",
          "LRIR",
          "CSENT",
          "IPM",
          "HOUSE",
          "UNEMP",
          "LRIR",
          "CSENT",
          "IPM",
          "HOUSE",
          "UNEMP",
          "LRIR",
          "CSENT",
          "IPM",
          "HOUSE",
          "UNEMP",
          "LRIR",
          "CSENT",
          "IPM",
          "HOUSE",
          "UNEMP",
          "LRIR"
         ],
         "x0": " ",
         "xaxis": "x",
         "y": [
          0.03125,
          0.04086538461538469,
          0.0360576923076924,
          0.04807692307692313,
          0.02163461538461542,
          0.036144578313252906,
          0.05060240963855411,
          0.03855421686746985,
          0.04096385542168668,
          0.01927710843373487,
          0.03864734299516914,
          0.05555555555555558,
          0.036231884057971064,
          0.04106280193236722,
          0.01449275362318847,
          0.03874092009685237,
          0.060532687651331796,
          0.03631961259079908,
          0.0314769975786926,
          0.014527845036319653,
          0.04611650485436891,
          0.05582524271844669,
          0.029126213592232997,
          0.04126213592233008,
          0.024271844660194164,
          0.04622871046228716,
          0.058394160583941646,
          0.02676399026763987,
          0.024330900243308973,
          0.024330900243308973,
          0.019230769230769273,
          0.02644230769230771,
          0.038461538461538436,
          0.03125,
          -0.009615384615384581,
          0.02168674698795181,
          0.028915662650602414,
          0.028915662650602414,
          0.03614457831325302,
          0.009638554216867434,
          0.019323671497584516,
          0.036231884057971064,
          0.02657004830917875,
          0.019323671497584516,
          0.0024154589371980784,
          0.0266343825665859,
          0.041162227602905554,
          0.024213075060532607,
          0.024213075060532607,
          -0.007263922518159882,
          0.03883495145631066,
          0.04611650485436891,
          0.016990291262135915,
          0.02669902912621358,
          0,
          0.041362530413625254,
          0.038929440389294356,
          0.012165450121654486,
          0.02676399026763987,
          0.01703163017031628,
          0.0024038461538461453,
          0.007211538461538436,
          0.03605769230769229,
          0.024038461538461453,
          -0.016826923076923128,
          0.016867469879518038,
          -0.002409638554216942,
          0.031325301204819245,
          0.01927710843373487,
          -0.02168674698795181,
          0.016908212560386437,
          0.009661835748792202,
          0.02657004830917875,
          0.007246376811594124,
          -0.0024154589371980784,
          0.016949152542372947,
          0.021791767554479424,
          0.016949152542372947,
          0.014527845036319653,
          -0.01210653753026636,
          0.03155339805825241,
          0.03155339805825241,
          0.01941747572815533,
          0.024271844660194164,
          -0.021844660194174748,
          0.03649635036496346,
          0.029197080291970767,
          0.009732360097323589,
          0.0048661800486617945,
          -0.012165450121654597
         ],
         "y0": " ",
         "yaxis": "y"
        },
        {
         "alignmentgroup": "True",
         "boxpoints": "all",
         "fillcolor": "rgba(255,255,255,0)",
         "hoveron": "points",
         "hovertemplate": "ma=1<br>theta=%{x}<br>diff=%{y}<extra></extra>",
         "legendgroup": "1",
         "line": {
          "color": "rgba(255,255,255,0)"
         },
         "marker": {
          "color": "#636efa",
          "opacity": 0.5,
          "size": 5
         },
         "name": "1",
         "offsetgroup": "1",
         "orientation": "v",
         "pointpos": 0,
         "showlegend": false,
         "type": "box",
         "x": [
          "CSENT",
          "IPM",
          "HOUSE",
          "UNEMP",
          "LRIR",
          "CSENT",
          "IPM",
          "HOUSE",
          "UNEMP",
          "LRIR",
          "CSENT",
          "IPM",
          "HOUSE",
          "UNEMP",
          "LRIR",
          "CSENT",
          "IPM",
          "HOUSE",
          "UNEMP",
          "LRIR",
          "CSENT",
          "IPM",
          "HOUSE",
          "UNEMP",
          "LRIR",
          "CSENT",
          "IPM",
          "HOUSE",
          "UNEMP",
          "LRIR",
          "CSENT",
          "IPM",
          "HOUSE",
          "UNEMP",
          "LRIR",
          "CSENT",
          "IPM",
          "HOUSE",
          "UNEMP",
          "LRIR",
          "CSENT",
          "IPM",
          "HOUSE",
          "UNEMP",
          "LRIR",
          "CSENT",
          "IPM",
          "HOUSE",
          "UNEMP",
          "LRIR",
          "CSENT",
          "IPM",
          "HOUSE",
          "UNEMP",
          "LRIR",
          "CSENT",
          "IPM",
          "HOUSE",
          "UNEMP",
          "LRIR",
          "CSENT",
          "IPM",
          "HOUSE",
          "UNEMP",
          "LRIR",
          "CSENT",
          "IPM",
          "HOUSE",
          "UNEMP",
          "LRIR",
          "CSENT",
          "IPM",
          "HOUSE",
          "UNEMP",
          "LRIR",
          "CSENT",
          "IPM",
          "HOUSE",
          "UNEMP",
          "LRIR",
          "CSENT",
          "IPM",
          "HOUSE",
          "UNEMP",
          "LRIR",
          "CSENT",
          "IPM",
          "HOUSE",
          "UNEMP",
          "LRIR"
         ],
         "x0": " ",
         "xaxis": "x2",
         "y": [
          0.020551274391664154,
          0.02776194618591976,
          0.024617292097869448,
          0.03199302593355002,
          0.012893533167662397,
          0.024394706986422543,
          0.035347396386277485,
          0.027307751579596307,
          0.028092484948599394,
          0.01266128693313151,
          0.025591545939888438,
          0.03855238134189498,
          0.024879872416221582,
          0.0268321817789543,
          0.00876011669613952,
          0.026058631921824338,
          0.04216864340299964,
          0.025402969886754057,
          0.02043719880404149,
          0.009441996125268859,
          0.031235625728742056,
          0.03903252798374912,
          0.020578958956144366,
          0.027387156516495814,
          0.01669234240127293,
          0.03213327310890879,
          0.04061343204653611,
          0.01948674488201474,
          0.015042753662654507,
          0.016393442622950838,
          0.013612891559002471,
          0.018753312201901684,
          0.026725635445161045,
          0.020834810081718946,
          -0.009658556959381892,
          0.013964686998394926,
          0.020462309819313962,
          0.020462309819313962,
          0.024221097254805257,
          0.00466615518762814,
          0.013350726700135818,
          0.027504218438410777,
          0.019657653445544154,
          0.013008130081300862,
          0.0010521281683405492,
          0.018507890961262485,
          0.03047164811870684,
          0.017773561037318086,
          0.015975570556091334,
          -0.006433317128504257,
          0.02687850119090396,
          0.03352802455514725,
          0.012439687971602997,
          0.017058006946357618,
          -0.0013147394191881379,
          0.028700023380874407,
          0.028298739271725326,
          0.009219503900354864,
          0.016637582510486637,
          0.010430339269606237,
          0.0006999125109361515,
          0.005227951521733609,
          0.024854501882916713,
          0.014831691348597187,
          -0.016057828836969268,
          0.01094203447144615,
          -0.0010230948619573965,
          0.02139732533433325,
          0.012364776059043625,
          -0.01927773855286219,
          0.010676746233107326,
          0.008322366168896922,
          0.018179580408104745,
          0.0030272768625073665,
          -0.003913175757194187,
          0.011604565557056246,
          0.017190592709193875,
          0.01281425881340914,
          0.00893896513056014,
          -0.010299620426952316,
          0.021766559848800604,
          0.022937242825249116,
          0.013872637382330133,
          0.014609604282903699,
          -0.017539879322173157,
          0.025057731827715424,
          0.021987601957585534,
          0.006976219843764397,
          0.0009089949924114826,
          -0.011479064709081
         ],
         "y0": " ",
         "yaxis": "y2"
        },
        {
         "alignmentgroup": "True",
         "boxpoints": "all",
         "fillcolor": "rgba(255,255,255,0)",
         "hoveron": "points",
         "hovertemplate": "ma=2<br>theta=%{x}<br>diff=%{y}<extra></extra>",
         "legendgroup": "2",
         "line": {
          "color": "rgba(255,255,255,0)"
         },
         "marker": {
          "color": "#EF553B",
          "opacity": 0.5,
          "size": 5
         },
         "name": "2",
         "offsetgroup": "2",
         "orientation": "v",
         "pointpos": 0,
         "showlegend": true,
         "type": "box",
         "x": [
          "CSENT",
          "IPM",
          "HOUSE",
          "UNEMP",
          "LRIR",
          "CSENT",
          "IPM",
          "HOUSE",
          "UNEMP",
          "LRIR",
          "CSENT",
          "IPM",
          "HOUSE",
          "UNEMP",
          "LRIR",
          "CSENT",
          "IPM",
          "HOUSE",
          "UNEMP",
          "LRIR",
          "CSENT",
          "IPM",
          "HOUSE",
          "UNEMP",
          "LRIR",
          "CSENT",
          "IPM",
          "HOUSE",
          "UNEMP",
          "LRIR",
          "CSENT",
          "IPM",
          "HOUSE",
          "UNEMP",
          "LRIR",
          "CSENT",
          "IPM",
          "HOUSE",
          "UNEMP",
          "LRIR",
          "CSENT",
          "IPM",
          "HOUSE",
          "UNEMP",
          "LRIR",
          "CSENT",
          "IPM",
          "HOUSE",
          "UNEMP",
          "LRIR",
          "CSENT",
          "IPM",
          "HOUSE",
          "UNEMP",
          "LRIR",
          "CSENT",
          "IPM",
          "HOUSE",
          "UNEMP",
          "LRIR",
          "CSENT",
          "IPM",
          "HOUSE",
          "UNEMP",
          "LRIR",
          "CSENT",
          "IPM",
          "HOUSE",
          "UNEMP",
          "LRIR",
          "CSENT",
          "IPM",
          "HOUSE",
          "UNEMP",
          "LRIR",
          "CSENT",
          "IPM",
          "HOUSE",
          "UNEMP",
          "LRIR",
          "CSENT",
          "IPM",
          "HOUSE",
          "UNEMP",
          "LRIR",
          "CSENT",
          "IPM",
          "HOUSE",
          "UNEMP",
          "LRIR"
         ],
         "x0": " ",
         "xaxis": "x",
         "y": [
          -0.01449275362318847,
          0.019323671497584516,
          0.019323671497584516,
          0.03140096618357491,
          -0.036231884057971064,
          0.009685230024213065,
          0.04358353510895885,
          0.029055690072639195,
          0.03874092009685237,
          -0.002421307506053294,
          0.024271844660194275,
          0.043689320388349606,
          0.029126213592233108,
          0.04126213592233019,
          0.01456310679611661,
          0.021897810218978186,
          0.04622871046228716,
          0.024330900243309084,
          0.04379562043795626,
          0.0097323600973237,
          0.02682926829268295,
          0.04634146341463419,
          0.03658536585365857,
          0.04146341463414638,
          0,
          0.03422982885085579,
          0.041564792176039145,
          0.017114914425427896,
          0.03422982885085579,
          0.004889975550122272,
          -0.004830917874396157,
          0.02657004830917875,
          0.012077294685990392,
          0.04106280193236711,
          -0.03140096618357491,
          0.004842615012106588,
          0.021791767554479424,
          0.03389830508474578,
          0.03874092009685237,
          -0.014527845036319542,
          0.036407766990291246,
          0.04854368932038844,
          0.050970873786407855,
          0.06067961165048552,
          0.012135922330097082,
          0.02676399026763987,
          0.03892944038929447,
          0.03649635036496357,
          0.041362530413625365,
          0.0024330900243308973,
          0.03170731707317076,
          0.04390243902439028,
          0.03658536585365857,
          0.03170731707317076,
          -0.014634146341463317,
          0.03667481662591676,
          0.041564792176039034,
          0.017114914425427785,
          0.022004889975550057,
          -0.017114914425427896,
          -0.009661835748792202,
          0.007246376811594235,
          0.009661835748792313,
          0.02898550724637683,
          -0.04589371980676327,
          -0.004842615012106588,
          0.002421307506053294,
          0.01210653753026636,
          0.0266343825665859,
          -0.029055690072639195,
          0.009708737864077666,
          0.007281553398058249,
          0.036407766990291246,
          0.02669902912621358,
          -0.016990291262135915,
          0.021897810218978075,
          0.029197080291970767,
          0.041362530413625254,
          0.04379562043795615,
          0,
          0.029268292682926744,
          0.029268292682926744,
          0.046341463414634076,
          0.024390243902439046,
          -0.012195121951219523,
          0.03422982885085568,
          0.041564792176039145,
          0.02444987775061125,
          0.0317848410757946,
          -0.02444987775061125
         ],
         "y0": " ",
         "yaxis": "y"
        },
        {
         "alignmentgroup": "True",
         "boxpoints": "all",
         "fillcolor": "rgba(255,255,255,0)",
         "hoveron": "points",
         "hovertemplate": "ma=2<br>theta=%{x}<br>diff=%{y}<extra></extra>",
         "legendgroup": "2",
         "line": {
          "color": "rgba(255,255,255,0)"
         },
         "marker": {
          "color": "#EF553B",
          "opacity": 0.5,
          "size": 5
         },
         "name": "2",
         "offsetgroup": "2",
         "orientation": "v",
         "pointpos": 0,
         "showlegend": false,
         "type": "box",
         "x": [
          "CSENT",
          "IPM",
          "HOUSE",
          "UNEMP",
          "LRIR",
          "CSENT",
          "IPM",
          "HOUSE",
          "UNEMP",
          "LRIR",
          "CSENT",
          "IPM",
          "HOUSE",
          "UNEMP",
          "LRIR",
          "CSENT",
          "IPM",
          "HOUSE",
          "UNEMP",
          "LRIR",
          "CSENT",
          "IPM",
          "HOUSE",
          "UNEMP",
          "LRIR",
          "CSENT",
          "IPM",
          "HOUSE",
          "UNEMP",
          "LRIR",
          "CSENT",
          "IPM",
          "HOUSE",
          "UNEMP",
          "LRIR",
          "CSENT",
          "IPM",
          "HOUSE",
          "UNEMP",
          "LRIR",
          "CSENT",
          "IPM",
          "HOUSE",
          "UNEMP",
          "LRIR",
          "CSENT",
          "IPM",
          "HOUSE",
          "UNEMP",
          "LRIR",
          "CSENT",
          "IPM",
          "HOUSE",
          "UNEMP",
          "LRIR",
          "CSENT",
          "IPM",
          "HOUSE",
          "UNEMP",
          "LRIR",
          "CSENT",
          "IPM",
          "HOUSE",
          "UNEMP",
          "LRIR",
          "CSENT",
          "IPM",
          "HOUSE",
          "UNEMP",
          "LRIR",
          "CSENT",
          "IPM",
          "HOUSE",
          "UNEMP",
          "LRIR",
          "CSENT",
          "IPM",
          "HOUSE",
          "UNEMP",
          "LRIR",
          "CSENT",
          "IPM",
          "HOUSE",
          "UNEMP",
          "LRIR",
          "CSENT",
          "IPM",
          "HOUSE",
          "UNEMP",
          "LRIR"
         ],
         "x0": " ",
         "xaxis": "x2",
         "y": [
          -0.009641651936365125,
          0.012862555318539193,
          0.013012981242263577,
          0.02047213869873954,
          -0.027591299677765857,
          0.0065860584178846215,
          0.029539496365228124,
          0.02017912195025162,
          0.025768729420806324,
          -0.0035317939130931064,
          0.01607717041800638,
          0.029973525921267452,
          0.020708204412626996,
          0.02813377428773789,
          0.00892596149830871,
          0.013356067064506982,
          0.03146997929606632,
          0.016827312021819973,
          0.029187118586239236,
          0.004759524999405129,
          0.018136987473658328,
          0.03252864157119473,
          0.02635390576387109,
          0.02863892287565073,
          -0.0013245284760052822,
          0.022950819672131084,
          0.029117499538026892,
          0.01301443995670637,
          0.022950819672131084,
          0.0020151407875386163,
          -0.0031496062992126816,
          0.01824717562478606,
          0.008464566929133888,
          0.02738980057399365,
          -0.025446324159975053,
          0.003752288670047288,
          0.01615993048218123,
          0.02403224017451111,
          0.026295757388194452,
          -0.013284337734381313,
          0.023612659482224574,
          0.033809581223374296,
          0.03525641025641024,
          0.0406373568138273,
          0.006143598109340176,
          0.01764462138020384,
          0.027554322699953615,
          0.026105375450689583,
          0.028196377274592566,
          -0.00040519718707865415,
          0.022251294806775013,
          0.03235848434925859,
          0.02771183898184648,
          0.02290913369990799,
          -0.012119907610540492,
          0.024748463953207622,
          0.029227468947800594,
          0.01307238009481193,
          0.014928496686431925,
          -0.014366916549962916,
          -0.005936520376175536,
          0.006322724616120268,
          0.00656347962382442,
          0.01931659488862192,
          -0.03965279356335938,
          -0.0034829769501559804,
          0.0023622047244096223,
          0.0086122047244096,
          0.01772270629180772,
          -0.0257575956083691,
          0.006745894466942071,
          0.007446432042585216,
          0.02616718087253833,
          0.01868479626909736,
          -0.01611749558914688,
          0.013986897150524924,
          0.022275989505170846,
          0.02967499064001755,
          0.02979219346715367,
          -0.003526540442322701,
          0.01929865850788437,
          0.022084195997239542,
          0.034230944774075844,
          0.0168342296001871,
          -0.011505273250239645,
          0.02426713259561253,
          0.03115977729394126,
          0.019333546257851553,
          0.02321500442727209,
          -0.01970197019701969
         ],
         "y0": " ",
         "yaxis": "y2"
        },
        {
         "alignmentgroup": "True",
         "boxpoints": "all",
         "fillcolor": "rgba(255,255,255,0)",
         "hoveron": "points",
         "hovertemplate": "ma=3<br>theta=%{x}<br>diff=%{y}<extra></extra>",
         "legendgroup": "3",
         "line": {
          "color": "rgba(255,255,255,0)"
         },
         "marker": {
          "color": "#00cc96",
          "opacity": 0.5,
          "size": 5
         },
         "name": "3",
         "offsetgroup": "3",
         "orientation": "v",
         "pointpos": 0,
         "showlegend": true,
         "type": "box",
         "x": [
          "CSENT",
          "IPM",
          "HOUSE",
          "UNEMP",
          "LRIR",
          "CSENT",
          "IPM",
          "HOUSE",
          "UNEMP",
          "LRIR",
          "CSENT",
          "IPM",
          "HOUSE",
          "UNEMP",
          "LRIR",
          "CSENT",
          "IPM",
          "HOUSE",
          "UNEMP",
          "LRIR",
          "CSENT",
          "IPM",
          "HOUSE",
          "UNEMP",
          "LRIR",
          "CSENT",
          "IPM",
          "HOUSE",
          "UNEMP",
          "LRIR",
          "CSENT",
          "IPM",
          "HOUSE",
          "UNEMP",
          "LRIR",
          "CSENT",
          "IPM",
          "HOUSE",
          "UNEMP",
          "LRIR",
          "CSENT",
          "IPM",
          "HOUSE",
          "UNEMP",
          "LRIR",
          "CSENT",
          "IPM",
          "HOUSE",
          "UNEMP",
          "LRIR",
          "CSENT",
          "IPM",
          "HOUSE",
          "UNEMP",
          "LRIR",
          "CSENT",
          "IPM",
          "HOUSE",
          "UNEMP",
          "LRIR",
          "CSENT",
          "IPM",
          "HOUSE",
          "UNEMP",
          "LRIR",
          "CSENT",
          "IPM",
          "HOUSE",
          "UNEMP",
          "LRIR",
          "CSENT",
          "IPM",
          "HOUSE",
          "UNEMP",
          "LRIR",
          "CSENT",
          "IPM",
          "HOUSE",
          "UNEMP",
          "LRIR",
          "CSENT",
          "IPM",
          "HOUSE",
          "UNEMP",
          "LRIR",
          "CSENT",
          "IPM",
          "HOUSE",
          "UNEMP",
          "LRIR"
         ],
         "x0": " ",
         "xaxis": "x",
         "y": [
          -0.01210653753026636,
          0.016949152542372947,
          0.01937046004842613,
          0.021791767554479424,
          -0.041162227602905554,
          0.012135922330097082,
          0.036407766990291246,
          0.03398058252427183,
          0.04611650485436891,
          -0.021844660194174748,
          0.014598540145985384,
          0.038929440389294356,
          0.021897810218978075,
          0.04379562043795615,
          0.007299270072992692,
          0.014634146341463428,
          0.03658536585365857,
          0.02682926829268295,
          0.03170731707317076,
          0.014634146341463428,
          0.02689486552567233,
          0.046454767726161306,
          0.03911980440097795,
          0.02933985330073352,
          0.009779951100244433,
          0.026960784313725505,
          0.04166666666666663,
          0.039215686274509776,
          0.02450980392156854,
          -0.004901960784313708,
          0.002421307506053183,
          0.014527845036319542,
          0.0266343825665859,
          0.03147699757869249,
          -0.03631961259079908,
          0.012135922330097082,
          0.029126213592232997,
          0.021844660194174748,
          0.03398058252427183,
          -0.019417475728155442,
          0.01703163017031628,
          0.031630170316301665,
          0.041362530413625254,
          0.04622871046228705,
          0.0048661800486617945,
          0.02195121951219514,
          0.02195121951219514,
          0.02682926829268295,
          0.02682926829268295,
          -0.007317073170731714,
          0.02444987775061125,
          0.03667481662591687,
          0.041564792176039145,
          0.02933985330073352,
          0.014669926650366705,
          0.019607843137254943,
          0.031862745098039214,
          0.02450980392156865,
          0.01715686274509809,
          -0.019607843137254943,
          -0.007263922518159771,
          0.002421307506053294,
          0.004842615012106477,
          0.01210653753026636,
          -0.05569007263922521,
          0.0024271844660194164,
          0.02184466019417486,
          0.02184466019417486,
          0.03398058252427194,
          -0.012135922330097082,
          0.0024330900243308973,
          0.0097323600973237,
          0.031630170316301776,
          0.017031630170316392,
          -0.021897810218978075,
          0.0024390243902439046,
          0.012195121951219523,
          0.024390243902439046,
          0.02682926829268295,
          -0.02682926829268295,
          0.022004889975550168,
          0.02933985330073352,
          0.041564792176039145,
          0.02933985330073352,
          -0.012224938875305624,
          0.019607843137254943,
          0.02941176470588236,
          0.02450980392156865,
          0.022058823529411797,
          -0.022058823529411686
         ],
         "y0": " ",
         "yaxis": "y"
        },
        {
         "alignmentgroup": "True",
         "boxpoints": "all",
         "fillcolor": "rgba(255,255,255,0)",
         "hoveron": "points",
         "hovertemplate": "ma=3<br>theta=%{x}<br>diff=%{y}<extra></extra>",
         "legendgroup": "3",
         "line": {
          "color": "rgba(255,255,255,0)"
         },
         "marker": {
          "color": "#00cc96",
          "opacity": 0.5,
          "size": 5
         },
         "name": "3",
         "offsetgroup": "3",
         "orientation": "v",
         "pointpos": 0,
         "showlegend": false,
         "type": "box",
         "x": [
          "CSENT",
          "IPM",
          "HOUSE",
          "UNEMP",
          "LRIR",
          "CSENT",
          "IPM",
          "HOUSE",
          "UNEMP",
          "LRIR",
          "CSENT",
          "IPM",
          "HOUSE",
          "UNEMP",
          "LRIR",
          "CSENT",
          "IPM",
          "HOUSE",
          "UNEMP",
          "LRIR",
          "CSENT",
          "IPM",
          "HOUSE",
          "UNEMP",
          "LRIR",
          "CSENT",
          "IPM",
          "HOUSE",
          "UNEMP",
          "LRIR",
          "CSENT",
          "IPM",
          "HOUSE",
          "UNEMP",
          "LRIR",
          "CSENT",
          "IPM",
          "HOUSE",
          "UNEMP",
          "LRIR",
          "CSENT",
          "IPM",
          "HOUSE",
          "UNEMP",
          "LRIR",
          "CSENT",
          "IPM",
          "HOUSE",
          "UNEMP",
          "LRIR",
          "CSENT",
          "IPM",
          "HOUSE",
          "UNEMP",
          "LRIR",
          "CSENT",
          "IPM",
          "HOUSE",
          "UNEMP",
          "LRIR",
          "CSENT",
          "IPM",
          "HOUSE",
          "UNEMP",
          "LRIR",
          "CSENT",
          "IPM",
          "HOUSE",
          "UNEMP",
          "LRIR",
          "CSENT",
          "IPM",
          "HOUSE",
          "UNEMP",
          "LRIR",
          "CSENT",
          "IPM",
          "HOUSE",
          "UNEMP",
          "LRIR",
          "CSENT",
          "IPM",
          "HOUSE",
          "UNEMP",
          "LRIR",
          "CSENT",
          "IPM",
          "HOUSE",
          "UNEMP",
          "LRIR"
         ],
         "x0": " ",
         "xaxis": "x2",
         "y": [
          -0.007604868250029595,
          0.011294502159449049,
          0.012307692307692353,
          0.01411626541397526,
          -0.02992916614887542,
          0.008130967845933479,
          0.023468391158816937,
          0.021875749352440632,
          0.02941400957887297,
          -0.01689221089669357,
          0.009570335865077828,
          0.02569017942615459,
          0.014823508954964315,
          0.028412395923840927,
          0.004201162107591139,
          0.009292746634518845,
          0.024573301572927475,
          0.01835246175955274,
          0.021141617638319232,
          0.00909054261065867,
          0.017168079562366323,
          0.0313012297619224,
          0.02653842242719906,
          0.019284503110363005,
          0.005355739371084578,
          0.017769683500020617,
          0.02853407633988525,
          0.02724964016307596,
          0.016740373647181284,
          -0.004099991935295089,
          0.0014233504636459449,
          0.010321362364563824,
          0.01709744892242193,
          0.020303765180113342,
          -0.02867385294644098,
          0.009150076569678256,
          0.019954128440366925,
          0.015275650842266453,
          0.02269230769230768,
          -0.015032154340836046,
          0.011331236948537549,
          0.02192437124052493,
          0.027866460569463958,
          0.030938657190047625,
          0.001512313840175472,
          0.014378422836967775,
          0.016611085724286156,
          0.01862740741837865,
          0.017980843026443094,
          -0.006385154133224269,
          0.015086751372276885,
          0.02515898251192361,
          0.028283982511923655,
          0.019590262132776703,
          0.00807497604988816,
          0.012841091492776902,
          0.022753689549505185,
          0.017659028576484048,
          0.011380005762028245,
          -0.015079350484561993,
          -0.004958353565159057,
          0.0030351088264244375,
          0.0030487804878046587,
          0.007731001967553719,
          -0.0434812981517706,
          0.0019593389608845158,
          0.01543253243407805,
          0.014737508803274624,
          0.021852665972855623,
          -0.0130444194956425,
          0.0014182316118935834,
          0.007860429447852701,
          0.021774502297090326,
          0.011833462132921135,
          -0.01808144246353316,
          0.0011262832652246813,
          0.010173421573836938,
          0.016993224684123787,
          0.018181372188289524,
          -0.021200851522224173,
          0.013849681528662394,
          0.022057088936069835,
          0.02884624939137692,
          0.02001245755389891,
          -0.011787100080532853,
          0.012882447665056307,
          0.022090676101698792,
          0.017710813549027593,
          0.015315913218399646,
          -0.01731608610899238
         ],
         "y0": " ",
         "yaxis": "y2"
        },
        {
         "alignmentgroup": "True",
         "boxpoints": "all",
         "fillcolor": "rgba(255,255,255,0)",
         "hoveron": "points",
         "hovertemplate": "ma=4<br>theta=%{x}<br>diff=%{y}<extra></extra>",
         "legendgroup": "4",
         "line": {
          "color": "rgba(255,255,255,0)"
         },
         "marker": {
          "color": "#ab63fa",
          "opacity": 0.5,
          "size": 5
         },
         "name": "4",
         "offsetgroup": "4",
         "orientation": "v",
         "pointpos": 0,
         "showlegend": true,
         "type": "box",
         "x": [
          "CSENT",
          "IPM",
          "HOUSE",
          "UNEMP",
          "LRIR",
          "CSENT",
          "IPM",
          "HOUSE",
          "UNEMP",
          "LRIR",
          "CSENT",
          "IPM",
          "HOUSE",
          "UNEMP",
          "LRIR",
          "CSENT",
          "IPM",
          "HOUSE",
          "UNEMP",
          "LRIR",
          "CSENT",
          "IPM",
          "HOUSE",
          "UNEMP",
          "LRIR",
          "CSENT",
          "IPM",
          "HOUSE",
          "UNEMP",
          "LRIR",
          "CSENT",
          "IPM",
          "HOUSE",
          "UNEMP",
          "LRIR",
          "CSENT",
          "IPM",
          "HOUSE",
          "UNEMP",
          "LRIR",
          "CSENT",
          "IPM",
          "HOUSE",
          "UNEMP",
          "LRIR",
          "CSENT",
          "IPM",
          "HOUSE",
          "UNEMP",
          "LRIR",
          "CSENT",
          "IPM",
          "HOUSE",
          "UNEMP",
          "LRIR",
          "CSENT",
          "IPM",
          "HOUSE",
          "UNEMP",
          "LRIR",
          "CSENT",
          "IPM",
          "HOUSE",
          "UNEMP",
          "LRIR",
          "CSENT",
          "IPM",
          "HOUSE",
          "UNEMP",
          "LRIR",
          "CSENT",
          "IPM",
          "HOUSE",
          "UNEMP",
          "LRIR",
          "CSENT",
          "IPM",
          "HOUSE",
          "UNEMP",
          "LRIR",
          "CSENT",
          "IPM",
          "HOUSE",
          "UNEMP",
          "LRIR",
          "CSENT",
          "IPM",
          "HOUSE",
          "UNEMP",
          "LRIR"
         ],
         "x0": " ",
         "xaxis": "x",
         "y": [
          0,
          0.016990291262135915,
          0.03155339805825241,
          0.03398058252427183,
          -0.03640776699029136,
          -0.0048661800486617945,
          0.024330900243308973,
          0.024330900243308973,
          0.029197080291970767,
          -0.031630170316301665,
          0.009756097560975618,
          0.03414634146341455,
          0.017073170731707332,
          0.04146341463414627,
          -0.02195121951219514,
          0.017114914425427896,
          0.02933985330073352,
          0.022004889975550168,
          0.02689486552567244,
          -0.0024449877750610804,
          0.01715686274509809,
          0.03676470588235292,
          0.031862745098039214,
          0.03676470588235292,
          0,
          0.019656019656019708,
          0.03194103194103204,
          0.02211302211302213,
          0.017199017199017286,
          -0.014742014742014642,
          0.016990291262136026,
          0.02184466019417486,
          0.03640776699029136,
          0.04126213592233019,
          -0.024271844660194164,
          0.0048661800486617945,
          0.014598540145985384,
          0.019464720194647178,
          0.04622871046228705,
          -0.02919708029197088,
          0.009756097560975618,
          0.019512195121951237,
          0.024390243902439046,
          0.039024390243902474,
          -0.017073170731707332,
          0.022004889975550168,
          0.02689486552567244,
          0.022004889975550168,
          0.044009779951100336,
          -0.004889975550122161,
          0.022058823529411797,
          0.031862745098039214,
          0.039215686274509776,
          0.03676470588235292,
          -0.004901960784313708,
          0.027027027027027084,
          0.03439803439803435,
          0.03194103194103193,
          0.029484029484029506,
          -0.012285012285012331,
          0.007281553398058249,
          0.009708737864077666,
          0.024271844660194164,
          0.031553398058252524,
          -0.036407766990291246,
          0.0048661800486617945,
          0.0048661800486617945,
          0.0048661800486617945,
          0.03406326034063267,
          -0.041362530413625254,
          0.017073170731707332,
          0.019512195121951237,
          0.017073170731707332,
          0.051219512195122,
          -0.02195121951219514,
          0.0024449877750610804,
          0.007334963325183352,
          0.02444987775061125,
          0.03422982885085579,
          -0.02933985330073352,
          0.007352941176470562,
          0.014705882352941124,
          0.03431372549019607,
          0.04166666666666663,
          -0.009803921568627527,
          0.019656019656019597,
          0.02457002457002455,
          0.03439803439803435,
          0.03439803439803435,
          -0.019656019656019708
         ],
         "y0": " ",
         "yaxis": "y"
        },
        {
         "alignmentgroup": "True",
         "boxpoints": "all",
         "fillcolor": "rgba(255,255,255,0)",
         "hoveron": "points",
         "hovertemplate": "ma=4<br>theta=%{x}<br>diff=%{y}<extra></extra>",
         "legendgroup": "4",
         "line": {
          "color": "rgba(255,255,255,0)"
         },
         "marker": {
          "color": "#ab63fa",
          "opacity": 0.5,
          "size": 5
         },
         "name": "4",
         "offsetgroup": "4",
         "orientation": "v",
         "pointpos": 0,
         "showlegend": false,
         "type": "box",
         "x": [
          "CSENT",
          "IPM",
          "HOUSE",
          "UNEMP",
          "LRIR",
          "CSENT",
          "IPM",
          "HOUSE",
          "UNEMP",
          "LRIR",
          "CSENT",
          "IPM",
          "HOUSE",
          "UNEMP",
          "LRIR",
          "CSENT",
          "IPM",
          "HOUSE",
          "UNEMP",
          "LRIR",
          "CSENT",
          "IPM",
          "HOUSE",
          "UNEMP",
          "LRIR",
          "CSENT",
          "IPM",
          "HOUSE",
          "UNEMP",
          "LRIR",
          "CSENT",
          "IPM",
          "HOUSE",
          "UNEMP",
          "LRIR",
          "CSENT",
          "IPM",
          "HOUSE",
          "UNEMP",
          "LRIR",
          "CSENT",
          "IPM",
          "HOUSE",
          "UNEMP",
          "LRIR",
          "CSENT",
          "IPM",
          "HOUSE",
          "UNEMP",
          "LRIR",
          "CSENT",
          "IPM",
          "HOUSE",
          "UNEMP",
          "LRIR",
          "CSENT",
          "IPM",
          "HOUSE",
          "UNEMP",
          "LRIR",
          "CSENT",
          "IPM",
          "HOUSE",
          "UNEMP",
          "LRIR",
          "CSENT",
          "IPM",
          "HOUSE",
          "UNEMP",
          "LRIR",
          "CSENT",
          "IPM",
          "HOUSE",
          "UNEMP",
          "LRIR",
          "CSENT",
          "IPM",
          "HOUSE",
          "UNEMP",
          "LRIR",
          "CSENT",
          "IPM",
          "HOUSE",
          "UNEMP",
          "LRIR",
          "CSENT",
          "IPM",
          "HOUSE",
          "UNEMP",
          "LRIR"
         ],
         "x0": " ",
         "xaxis": "x2",
         "y": [
          0,
          0.01121049493142523,
          0.020097260339929757,
          0.021925203951218997,
          -0.02760297917616661,
          -0.0027487630566244148,
          0.015827088336564432,
          0.015702095547686756,
          0.0189230635687625,
          -0.023859980790047475,
          0.00660162696901323,
          0.02240942574026783,
          0.011349619972990888,
          0.0267998180742276,
          -0.016613911991993024,
          0.011022787493375708,
          0.019644723092999028,
          0.015023474178403773,
          0.017693522906793047,
          -0.0025764895330113724,
          0.010188755206639644,
          0.024522160002817484,
          0.02136758587032528,
          0.024181666286929526,
          -0.001784826890004143,
          0.012882447665056418,
          0.021762134805613065,
          0.015412928456406738,
          0.011597299640777936,
          -0.01170456324098601,
          0.011207964134514747,
          0.014938221110403105,
          0.023385815397948928,
          0.02684014585267358,
          -0.020724231721674258,
          0.003578214364939325,
          0.010189312245386994,
          0.01225661993769478,
          0.030115826409189306,
          -0.02375772432460055,
          0.007155635062611743,
          0.01374896290150518,
          0.016457960644007175,
          0.025918440137914667,
          -0.013986013986014068,
          0.014172155348625926,
          0.019253698388165152,
          0.01529175050301812,
          0.029287953425884417,
          -0.0054909260120986625,
          0.013729032258064433,
          0.022364890282131622,
          0.02673385826771657,
          0.024815189873417798,
          -0.005509656301145638,
          0.0176346649518222,
          0.02412254313357509,
          0.022411980408749366,
          0.020177059773828776,
          -0.011179750857400417,
          0.005364201016375025,
          0.007858657779124423,
          0.016273291925466005,
          0.02123500708626236,
          -0.03099943534726124,
          0.0025308822237574136,
          0.0038718094396396063,
          0.0022577072839637946,
          0.02150537634408589,
          -0.035616046868859996,
          0.011944577161968395,
          0.01415533618923448,
          0.011673684570880805,
          0.0336837075967511,
          -0.02070023000255561,
          0.0020233230339880004,
          0.006564615837503784,
          0.017055088923064843,
          0.0228363953811358,
          -0.023484343770819427,
          0.00429067524115756,
          0.011808450704225426,
          0.02378582677165353,
          0.028638993710691785,
          -0.010261157024793466,
          0.012627437708870981,
          0.018946243629787918,
          0.024963924963924855,
          0.023698166784983488,
          -0.01662337662337665
         ],
         "y0": " ",
         "yaxis": "y2"
        },
        {
         "alignmentgroup": "True",
         "boxpoints": "all",
         "fillcolor": "rgba(255,255,255,0)",
         "hoveron": "points",
         "hovertemplate": "ma=5<br>theta=%{x}<br>diff=%{y}<extra></extra>",
         "legendgroup": "5",
         "line": {
          "color": "rgba(255,255,255,0)"
         },
         "marker": {
          "color": "#FFA15A",
          "opacity": 0.5,
          "size": 5
         },
         "name": "5",
         "offsetgroup": "5",
         "orientation": "v",
         "pointpos": 0,
         "showlegend": true,
         "type": "box",
         "x": [
          "CSENT",
          "IPM",
          "HOUSE",
          "UNEMP",
          "LRIR",
          "CSENT",
          "IPM",
          "HOUSE",
          "UNEMP",
          "LRIR",
          "CSENT",
          "IPM",
          "HOUSE",
          "UNEMP",
          "LRIR",
          "CSENT",
          "IPM",
          "HOUSE",
          "UNEMP",
          "LRIR",
          "CSENT",
          "IPM",
          "HOUSE",
          "UNEMP",
          "LRIR",
          "CSENT",
          "IPM",
          "HOUSE",
          "UNEMP",
          "LRIR",
          "CSENT",
          "IPM",
          "HOUSE",
          "UNEMP",
          "LRIR",
          "CSENT",
          "IPM",
          "HOUSE",
          "UNEMP",
          "LRIR",
          "CSENT",
          "IPM",
          "HOUSE",
          "UNEMP",
          "LRIR",
          "CSENT",
          "IPM",
          "HOUSE",
          "UNEMP",
          "LRIR",
          "CSENT",
          "IPM",
          "HOUSE",
          "UNEMP",
          "LRIR",
          "CSENT",
          "IPM",
          "HOUSE",
          "UNEMP",
          "LRIR",
          "CSENT",
          "IPM",
          "HOUSE",
          "UNEMP",
          "LRIR",
          "CSENT",
          "IPM",
          "HOUSE",
          "UNEMP",
          "LRIR",
          "CSENT",
          "IPM",
          "HOUSE",
          "UNEMP",
          "LRIR",
          "CSENT",
          "IPM",
          "HOUSE",
          "UNEMP",
          "LRIR",
          "CSENT",
          "IPM",
          "HOUSE",
          "UNEMP",
          "LRIR",
          "CSENT",
          "IPM",
          "HOUSE",
          "UNEMP",
          "LRIR"
         ],
         "x0": " ",
         "xaxis": "x",
         "y": [
          0.0048661800486617945,
          0.012165450121654486,
          0.03406326034063256,
          0.03892944038929447,
          -0.021897810218978075,
          -0.007317073170731714,
          0.01707317073170722,
          0.02682926829268284,
          0.03902439024390236,
          -0.03170731707317076,
          -0.004889975550122161,
          0.02444987775061125,
          0.02689486552567244,
          0.03667481662591687,
          -0.019559902200488977,
          0.01715686274509809,
          0.031862745098039214,
          0.02450980392156865,
          0.03676470588235292,
          0,
          0.0073710073710073765,
          0.03194103194103193,
          0.02211302211302213,
          0.02457002457002455,
          -0.002457002457002422,
          0.019704433497536922,
          0.039408866995073843,
          0.036945812807881784,
          0.029556650246305383,
          -0.007389162561576401,
          0.0048661800486617945,
          0.01703163017031628,
          0.03649635036496346,
          0.03406326034063256,
          -0.009732360097323589,
          -0.0024390243902439046,
          0.012195121951219523,
          0.019512195121951237,
          0.04146341463414627,
          -0.03170731707317076,
          -0.004889975550122272,
          0.014669926650366705,
          0.014669926650366705,
          0.02933985330073341,
          -0.02689486552567244,
          0,
          0.022058823529411797,
          0.026960784313725505,
          0.0490196078431373,
          -0.01225490196078427,
          0.0073710073710073765,
          0.014742014742014753,
          0.027027027027027084,
          0.029484029484029506,
          -0.0073710073710072654,
          0.017241379310344862,
          0.03201970443349755,
          0.034482758620689724,
          0.029556650246305494,
          -0.0049261083743842304,
          0.0048661800486617945,
          -0.0024330900243308973,
          0.024330900243308973,
          0.024330900243308973,
          -0.02676399026763998,
          -0.007317073170731714,
          0,
          0.004878048780487809,
          0.017073170731707332,
          -0.04146341463414638,
          -0.012224938875305624,
          0.004889975550122272,
          0.007334963325183352,
          0.0317848410757946,
          -0.02689486552567233,
          0,
          0.007352941176470562,
          0.02450980392156854,
          0.04166666666666663,
          -0.012254901960784381,
          -0.00982800982800991,
          -0.0073710073710073765,
          0.017199017199017175,
          0.027027027027026973,
          -0.03194103194103204,
          0.017241379310344862,
          0.014778325123152691,
          0.039408866995073955,
          0.034482758620689724,
          -0.01231527093596052
         ],
         "y0": " ",
         "yaxis": "y"
        },
        {
         "alignmentgroup": "True",
         "boxpoints": "all",
         "fillcolor": "rgba(255,255,255,0)",
         "hoveron": "points",
         "hovertemplate": "ma=5<br>theta=%{x}<br>diff=%{y}<extra></extra>",
         "legendgroup": "5",
         "line": {
          "color": "rgba(255,255,255,0)"
         },
         "marker": {
          "color": "#FFA15A",
          "opacity": 0.5,
          "size": 5
         },
         "name": "5",
         "offsetgroup": "5",
         "orientation": "v",
         "pointpos": 0,
         "showlegend": false,
         "type": "box",
         "x": [
          "CSENT",
          "IPM",
          "HOUSE",
          "UNEMP",
          "LRIR",
          "CSENT",
          "IPM",
          "HOUSE",
          "UNEMP",
          "LRIR",
          "CSENT",
          "IPM",
          "HOUSE",
          "UNEMP",
          "LRIR",
          "CSENT",
          "IPM",
          "HOUSE",
          "UNEMP",
          "LRIR",
          "CSENT",
          "IPM",
          "HOUSE",
          "UNEMP",
          "LRIR",
          "CSENT",
          "IPM",
          "HOUSE",
          "UNEMP",
          "LRIR",
          "CSENT",
          "IPM",
          "HOUSE",
          "UNEMP",
          "LRIR",
          "CSENT",
          "IPM",
          "HOUSE",
          "UNEMP",
          "LRIR",
          "CSENT",
          "IPM",
          "HOUSE",
          "UNEMP",
          "LRIR",
          "CSENT",
          "IPM",
          "HOUSE",
          "UNEMP",
          "LRIR",
          "CSENT",
          "IPM",
          "HOUSE",
          "UNEMP",
          "LRIR",
          "CSENT",
          "IPM",
          "HOUSE",
          "UNEMP",
          "LRIR",
          "CSENT",
          "IPM",
          "HOUSE",
          "UNEMP",
          "LRIR",
          "CSENT",
          "IPM",
          "HOUSE",
          "UNEMP",
          "LRIR",
          "CSENT",
          "IPM",
          "HOUSE",
          "UNEMP",
          "LRIR",
          "CSENT",
          "IPM",
          "HOUSE",
          "UNEMP",
          "LRIR",
          "CSENT",
          "IPM",
          "HOUSE",
          "UNEMP",
          "LRIR",
          "CSENT",
          "IPM",
          "HOUSE",
          "UNEMP",
          "LRIR"
         ],
         "x0": " ",
         "xaxis": "x2",
         "y": [
          0.002924976258309453,
          0.007897278831428989,
          0.02172665255234052,
          0.02495206920738835,
          -0.016272849957060576,
          -0.004713110843971191,
          0.011330965668865267,
          0.017025243013943592,
          0.02491788424510133,
          -0.023081052066559304,
          -0.0031055900621118626,
          0.01587195413282383,
          0.017464769919187884,
          0.023519222119074756,
          -0.014297620701287816,
          0.010700365318687899,
          0.02057060610597805,
          0.016119843561076763,
          0.023666581338176118,
          -0.0007295078532998378,
          0.004467609828741725,
          0.021169454373111685,
          0.014929204763127313,
          0.01626919566683871,
          -0.002519454659975162,
          0.012330556916544166,
          0.02643312101910833,
          0.024789928530845384,
          0.019108280254777066,
          -0.006493708249184382,
          0.003072196620583778,
          0.011221010827619948,
          0.02341613277883925,
          0.0224228649276087,
          -0.009665337682735364,
          -0.001635353893418512,
          0.008434576176511555,
          0.012288786482334668,
          0.02650586658822751,
          -0.023558430816495446,
          -0.0029030585795748465,
          0.010328493583275034,
          0.010164833201946166,
          0.019216757088628023,
          -0.019569725246241454,
          0,
          0.015092165898617615,
          0.01798921417565502,
          0.03192307692307694,
          -0.010072231139646837,
          0.0044061089969416045,
          0.011398738520068785,
          0.018464485487605597,
          0.019751543244322378,
          -0.006487878181752893,
          0.010823114083983731,
          0.022305075876504432,
          0.023983200707338725,
          0.019700310305405866,
          -0.005090497737556543,
          0.003310615713734699,
          -0.0008797367306375703,
          0.015733495563154287,
          0.015733495563154287,
          -0.02154258452114488,
          -0.004481440073657139,
          0.001330475275334475,
          0.0030674846625767804,
          0.011214761277791863,
          -0.03172882838989366,
          -0.008110824002297012,
          0.003989762119843365,
          0.004963873243443051,
          0.020498931805720932,
          -0.021704984292774787,
          0,
          0.005835901386748832,
          0.016947852760736182,
          0.02740755007704143,
          -0.010728663446054831,
          -0.006888203950734306,
          -0.0031691085053996426,
          0.012080011737663265,
          0.018078347683175178,
          -0.024135012439405967,
          0.010080156079835922,
          0.011141921353507334,
          0.026865191793758902,
          0.022911912368781318,
          -0.011242439026949325
         ],
         "y0": " ",
         "yaxis": "y2"
        },
        {
         "alignmentgroup": "True",
         "boxpoints": "all",
         "fillcolor": "rgba(255,255,255,0)",
         "hoveron": "points",
         "hovertemplate": "ma=6<br>theta=%{x}<br>diff=%{y}<extra></extra>",
         "legendgroup": "6",
         "line": {
          "color": "rgba(255,255,255,0)"
         },
         "marker": {
          "color": "#19d3f3",
          "opacity": 0.5,
          "size": 5
         },
         "name": "6",
         "offsetgroup": "6",
         "orientation": "v",
         "pointpos": 0,
         "showlegend": true,
         "type": "box",
         "x": [
          "CSENT",
          "IPM",
          "HOUSE",
          "UNEMP",
          "LRIR",
          "CSENT",
          "IPM",
          "HOUSE",
          "UNEMP",
          "LRIR",
          "CSENT",
          "IPM",
          "HOUSE",
          "UNEMP",
          "LRIR",
          "CSENT",
          "IPM",
          "HOUSE",
          "UNEMP",
          "LRIR",
          "CSENT",
          "IPM",
          "HOUSE",
          "UNEMP",
          "LRIR",
          "CSENT",
          "IPM",
          "HOUSE",
          "UNEMP",
          "LRIR",
          "CSENT",
          "IPM",
          "HOUSE",
          "UNEMP",
          "LRIR",
          "CSENT",
          "IPM",
          "HOUSE",
          "UNEMP",
          "LRIR",
          "CSENT",
          "IPM",
          "HOUSE",
          "UNEMP",
          "LRIR",
          "CSENT",
          "IPM",
          "HOUSE",
          "UNEMP",
          "LRIR",
          "CSENT",
          "IPM",
          "HOUSE",
          "UNEMP",
          "LRIR",
          "CSENT",
          "IPM",
          "HOUSE",
          "UNEMP",
          "LRIR",
          "CSENT",
          "IPM",
          "HOUSE",
          "UNEMP",
          "LRIR",
          "CSENT",
          "IPM",
          "HOUSE",
          "UNEMP",
          "LRIR",
          "CSENT",
          "IPM",
          "HOUSE",
          "UNEMP",
          "LRIR",
          "CSENT",
          "IPM",
          "HOUSE",
          "UNEMP",
          "LRIR",
          "CSENT",
          "IPM",
          "HOUSE",
          "UNEMP",
          "LRIR",
          "CSENT",
          "IPM",
          "HOUSE",
          "UNEMP",
          "LRIR"
         ],
         "x0": " ",
         "xaxis": "x",
         "y": [
          0.007317073170731714,
          0.02682926829268295,
          0.03414634146341455,
          0.03902439024390236,
          -0.014634146341463428,
          0.007334963325183463,
          0.02444987775061125,
          0.041564792176039145,
          0.041564792176039145,
          -0.014669926650366705,
          -0.004901960784313708,
          0.012254901960784381,
          0.02941176470588236,
          0.03676470588235303,
          -0.022058823529411686,
          -0.002457002457002422,
          0.019656019656019597,
          0.029484029484029506,
          0.03194103194103193,
          -0.017199017199017175,
          0.019704433497537033,
          0.034482758620689724,
          0.027093596059113323,
          0.029556650246305494,
          0.009852216748768461,
          0.01728395061728405,
          0.03950617283950619,
          0.032098765432098775,
          0.02716049382716057,
          0.0024691358024692134,
          0.004878048780487809,
          0.0024390243902439046,
          0.034146341463414664,
          0.03170731707317076,
          -0.014634146341463428,
          0.007334963325183352,
          0.0317848410757946,
          0.02933985330073352,
          0.03667481662591687,
          -0.009779951100244544,
          0,
          0.01225490196078427,
          0.02941176470588236,
          0.039215686274509776,
          -0.026960784313725505,
          0.004914004914004844,
          0.014742014742014753,
          0.02457002457002455,
          0.03439803439803435,
          -0.014742014742014753,
          0,
          0.009852216748768461,
          0.01231527093596052,
          0.029556650246305383,
          0.0024630541871920597,
          0.014814814814814836,
          0.029629629629629672,
          0.041975308641975406,
          0.032098765432098775,
          0.004938271604938316,
          0.009756097560975618,
          -0.012195121951219523,
          0.02682926829268295,
          0.02682926829268295,
          -0.009756097560975618,
          0.007334963325183463,
          0.014669926650366816,
          0.02444987775061125,
          0.02689486552567244,
          -0.019559902200488977,
          -0.002450980392156854,
          0.01225490196078427,
          0.014705882352941124,
          0.02450980392156865,
          -0.02941176470588236,
          -0.002457002457002422,
          0.0073710073710073765,
          0.027027027027027084,
          0.03194103194103193,
          -0.02211302211302213,
          -0.007389162561576401,
          0.0024630541871920597,
          0.01724137931034475,
          0.03201970443349744,
          -0.014778325123152802,
          0.0024691358024692134,
          0.007407407407407418,
          0.02716049382716057,
          0.024691358024691357,
          -0.012345679012345623
         ],
         "y0": " ",
         "yaxis": "y"
        },
        {
         "alignmentgroup": "True",
         "boxpoints": "all",
         "fillcolor": "rgba(255,255,255,0)",
         "hoveron": "points",
         "hovertemplate": "ma=6<br>theta=%{x}<br>diff=%{y}<extra></extra>",
         "legendgroup": "6",
         "line": {
          "color": "rgba(255,255,255,0)"
         },
         "marker": {
          "color": "#19d3f3",
          "opacity": 0.5,
          "size": 5
         },
         "name": "6",
         "offsetgroup": "6",
         "orientation": "v",
         "pointpos": 0,
         "showlegend": false,
         "type": "box",
         "x": [
          "CSENT",
          "IPM",
          "HOUSE",
          "UNEMP",
          "LRIR",
          "CSENT",
          "IPM",
          "HOUSE",
          "UNEMP",
          "LRIR",
          "CSENT",
          "IPM",
          "HOUSE",
          "UNEMP",
          "LRIR",
          "CSENT",
          "IPM",
          "HOUSE",
          "UNEMP",
          "LRIR",
          "CSENT",
          "IPM",
          "HOUSE",
          "UNEMP",
          "LRIR",
          "CSENT",
          "IPM",
          "HOUSE",
          "UNEMP",
          "LRIR",
          "CSENT",
          "IPM",
          "HOUSE",
          "UNEMP",
          "LRIR",
          "CSENT",
          "IPM",
          "HOUSE",
          "UNEMP",
          "LRIR",
          "CSENT",
          "IPM",
          "HOUSE",
          "UNEMP",
          "LRIR",
          "CSENT",
          "IPM",
          "HOUSE",
          "UNEMP",
          "LRIR",
          "CSENT",
          "IPM",
          "HOUSE",
          "UNEMP",
          "LRIR",
          "CSENT",
          "IPM",
          "HOUSE",
          "UNEMP",
          "LRIR",
          "CSENT",
          "IPM",
          "HOUSE",
          "UNEMP",
          "LRIR",
          "CSENT",
          "IPM",
          "HOUSE",
          "UNEMP",
          "LRIR",
          "CSENT",
          "IPM",
          "HOUSE",
          "UNEMP",
          "LRIR",
          "CSENT",
          "IPM",
          "HOUSE",
          "UNEMP",
          "LRIR",
          "CSENT",
          "IPM",
          "HOUSE",
          "UNEMP",
          "LRIR",
          "CSENT",
          "IPM",
          "HOUSE",
          "UNEMP",
          "LRIR"
         ],
         "x0": " ",
         "xaxis": "x2",
         "y": [
          0.004505200650022689,
          0.01725677432488082,
          0.021406727828746197,
          0.025070942502135263,
          -0.011516277629388894,
          0.004834491695134835,
          0.0159440559440559,
          0.02635349383440988,
          0.02651103069919447,
          -0.011184371184371211,
          -0.003076923076923088,
          0.008134878819810343,
          0.018555922605002384,
          0.02327657075748668,
          -0.0161599803705067,
          -0.0014639882880936872,
          0.012788911513592738,
          0.018933304754760072,
          0.020312948607522197,
          -0.012403100775193798,
          0.012357416783976172,
          0.022302289187320357,
          0.01800890814975331,
          0.019061665656632032,
          0.005525670309938446,
          0.010805818284595259,
          0.026354132114645212,
          0.021471135664598018,
          0.01785625292786719,
          0.0005758225854942678,
          0.003044140030441511,
          0.001840321018403257,
          0.02115561132606003,
          0.020486239664321948,
          -0.012723440604181957,
          0.004692527080377151,
          0.020719939482278238,
          0.01853103117730248,
          0.02373198767504936,
          -0.009237209688567671,
          -0.00019820670127423945,
          0.008610239754231142,
          0.01840490797546024,
          0.024783031572647052,
          -0.020382822085889596,
          0.00330685453434465,
          0.01022545712764078,
          0.016168666975319712,
          0.022001648331959722,
          -0.011572271058195138,
          -0.0002253134796238454,
          0.007457822085889632,
          0.008505602782071242,
          0.01924342105263155,
          0.0007849526066351364,
          0.009013312708366472,
          0.020702645637429296,
          0.028157021783425717,
          0.021125497114493297,
          0.0015412620427097679,
          0.006367942119788084,
          -0.006337609143869272,
          0.01648839470680241,
          0.01758062799853799,
          -0.009727683122178532,
          0.004959490469723327,
          0.010750013817498627,
          0.015748915157863363,
          0.01737307523508058,
          -0.015904028760110878,
          -0.0016589861751152846,
          0.008854608991047952,
          0.009428303258269044,
          0.016125535827919646,
          -0.023765955380949833,
          -0.001162790697674554,
          0.006412966878083015,
          0.01814615239175632,
          0.0211949328795612,
          -0.01815308195981047,
          -0.004811407409567536,
          0.002698939087241614,
          0.011915528948992837,
          0.020938035511138486,
          -0.012041696621135856,
          0.0011219335493347637,
          0.006911157631130815,
          0.018785558202255914,
          0.01659656362842732,
          -0.010841823608109702
         ],
         "y0": " ",
         "yaxis": "y2"
        }
       ],
       "layout": {
        "annotations": [
         {
          "font": {
           "color": "grey",
           "size": 11
          },
          "showarrow": false,
          "text": "Acc",
          "x": 0.225,
          "xanchor": "center",
          "xref": "paper",
          "y": 0.95,
          "yanchor": "bottom",
          "yref": "paper"
         },
         {
          "font": {
           "color": "grey",
           "size": 11
          },
          "showarrow": false,
          "text": "F1",
          "x": 0.775,
          "xanchor": "center",
          "xref": "paper",
          "y": 0.95,
          "yanchor": "bottom",
          "yref": "paper"
         }
        ],
        "height": 400,
        "legend": {
         "orientation": "h",
         "title": {
          "text": "Moving Averages:"
         },
         "x": 0.5,
         "xanchor": "center",
         "y": -0.1,
         "yanchor": "top"
        },
        "margin": {
         "b": 60,
         "l": 80,
         "r": 40,
         "t": 80
        },
        "template": {
         "data": {
          "bar": [
           {
            "error_x": {
             "color": "#f2f5fa"
            },
            "error_y": {
             "color": "#f2f5fa"
            },
            "marker": {
             "line": {
              "color": "rgb(17,17,17)",
              "width": 0.5
             },
             "pattern": {
              "fillmode": "overlay",
              "size": 10,
              "solidity": 0.2
             }
            },
            "type": "bar"
           }
          ],
          "barpolar": [
           {
            "marker": {
             "line": {
              "color": "rgb(17,17,17)",
              "width": 0.5
             },
             "pattern": {
              "fillmode": "overlay",
              "size": 10,
              "solidity": 0.2
             }
            },
            "type": "barpolar"
           }
          ],
          "carpet": [
           {
            "aaxis": {
             "endlinecolor": "#A2B1C6",
             "gridcolor": "#506784",
             "linecolor": "#506784",
             "minorgridcolor": "#506784",
             "startlinecolor": "#A2B1C6"
            },
            "baxis": {
             "endlinecolor": "#A2B1C6",
             "gridcolor": "#506784",
             "linecolor": "#506784",
             "minorgridcolor": "#506784",
             "startlinecolor": "#A2B1C6"
            },
            "type": "carpet"
           }
          ],
          "choropleth": [
           {
            "colorbar": {
             "outlinewidth": 0,
             "ticks": ""
            },
            "type": "choropleth"
           }
          ],
          "contour": [
           {
            "colorbar": {
             "outlinewidth": 0,
             "ticks": ""
            },
            "colorscale": [
             [
              0,
              "#0d0887"
             ],
             [
              0.1111111111111111,
              "#46039f"
             ],
             [
              0.2222222222222222,
              "#7201a8"
             ],
             [
              0.3333333333333333,
              "#9c179e"
             ],
             [
              0.4444444444444444,
              "#bd3786"
             ],
             [
              0.5555555555555556,
              "#d8576b"
             ],
             [
              0.6666666666666666,
              "#ed7953"
             ],
             [
              0.7777777777777778,
              "#fb9f3a"
             ],
             [
              0.8888888888888888,
              "#fdca26"
             ],
             [
              1,
              "#f0f921"
             ]
            ],
            "type": "contour"
           }
          ],
          "contourcarpet": [
           {
            "colorbar": {
             "outlinewidth": 0,
             "ticks": ""
            },
            "type": "contourcarpet"
           }
          ],
          "heatmap": [
           {
            "colorbar": {
             "outlinewidth": 0,
             "ticks": ""
            },
            "colorscale": [
             [
              0,
              "#0d0887"
             ],
             [
              0.1111111111111111,
              "#46039f"
             ],
             [
              0.2222222222222222,
              "#7201a8"
             ],
             [
              0.3333333333333333,
              "#9c179e"
             ],
             [
              0.4444444444444444,
              "#bd3786"
             ],
             [
              0.5555555555555556,
              "#d8576b"
             ],
             [
              0.6666666666666666,
              "#ed7953"
             ],
             [
              0.7777777777777778,
              "#fb9f3a"
             ],
             [
              0.8888888888888888,
              "#fdca26"
             ],
             [
              1,
              "#f0f921"
             ]
            ],
            "type": "heatmap"
           }
          ],
          "heatmapgl": [
           {
            "colorbar": {
             "outlinewidth": 0,
             "ticks": ""
            },
            "colorscale": [
             [
              0,
              "#0d0887"
             ],
             [
              0.1111111111111111,
              "#46039f"
             ],
             [
              0.2222222222222222,
              "#7201a8"
             ],
             [
              0.3333333333333333,
              "#9c179e"
             ],
             [
              0.4444444444444444,
              "#bd3786"
             ],
             [
              0.5555555555555556,
              "#d8576b"
             ],
             [
              0.6666666666666666,
              "#ed7953"
             ],
             [
              0.7777777777777778,
              "#fb9f3a"
             ],
             [
              0.8888888888888888,
              "#fdca26"
             ],
             [
              1,
              "#f0f921"
             ]
            ],
            "type": "heatmapgl"
           }
          ],
          "histogram": [
           {
            "marker": {
             "pattern": {
              "fillmode": "overlay",
              "size": 10,
              "solidity": 0.2
             }
            },
            "type": "histogram"
           }
          ],
          "histogram2d": [
           {
            "colorbar": {
             "outlinewidth": 0,
             "ticks": ""
            },
            "colorscale": [
             [
              0,
              "#0d0887"
             ],
             [
              0.1111111111111111,
              "#46039f"
             ],
             [
              0.2222222222222222,
              "#7201a8"
             ],
             [
              0.3333333333333333,
              "#9c179e"
             ],
             [
              0.4444444444444444,
              "#bd3786"
             ],
             [
              0.5555555555555556,
              "#d8576b"
             ],
             [
              0.6666666666666666,
              "#ed7953"
             ],
             [
              0.7777777777777778,
              "#fb9f3a"
             ],
             [
              0.8888888888888888,
              "#fdca26"
             ],
             [
              1,
              "#f0f921"
             ]
            ],
            "type": "histogram2d"
           }
          ],
          "histogram2dcontour": [
           {
            "colorbar": {
             "outlinewidth": 0,
             "ticks": ""
            },
            "colorscale": [
             [
              0,
              "#0d0887"
             ],
             [
              0.1111111111111111,
              "#46039f"
             ],
             [
              0.2222222222222222,
              "#7201a8"
             ],
             [
              0.3333333333333333,
              "#9c179e"
             ],
             [
              0.4444444444444444,
              "#bd3786"
             ],
             [
              0.5555555555555556,
              "#d8576b"
             ],
             [
              0.6666666666666666,
              "#ed7953"
             ],
             [
              0.7777777777777778,
              "#fb9f3a"
             ],
             [
              0.8888888888888888,
              "#fdca26"
             ],
             [
              1,
              "#f0f921"
             ]
            ],
            "type": "histogram2dcontour"
           }
          ],
          "mesh3d": [
           {
            "colorbar": {
             "outlinewidth": 0,
             "ticks": ""
            },
            "type": "mesh3d"
           }
          ],
          "parcoords": [
           {
            "line": {
             "colorbar": {
              "outlinewidth": 0,
              "ticks": ""
             }
            },
            "type": "parcoords"
           }
          ],
          "pie": [
           {
            "automargin": true,
            "type": "pie"
           }
          ],
          "scatter": [
           {
            "marker": {
             "line": {
              "color": "#283442"
             }
            },
            "type": "scatter"
           }
          ],
          "scatter3d": [
           {
            "line": {
             "colorbar": {
              "outlinewidth": 0,
              "ticks": ""
             }
            },
            "marker": {
             "colorbar": {
              "outlinewidth": 0,
              "ticks": ""
             }
            },
            "type": "scatter3d"
           }
          ],
          "scattercarpet": [
           {
            "marker": {
             "colorbar": {
              "outlinewidth": 0,
              "ticks": ""
             }
            },
            "type": "scattercarpet"
           }
          ],
          "scattergeo": [
           {
            "marker": {
             "colorbar": {
              "outlinewidth": 0,
              "ticks": ""
             }
            },
            "type": "scattergeo"
           }
          ],
          "scattergl": [
           {
            "marker": {
             "line": {
              "color": "#283442"
             }
            },
            "type": "scattergl"
           }
          ],
          "scattermapbox": [
           {
            "marker": {
             "colorbar": {
              "outlinewidth": 0,
              "ticks": ""
             }
            },
            "type": "scattermapbox"
           }
          ],
          "scatterpolar": [
           {
            "marker": {
             "colorbar": {
              "outlinewidth": 0,
              "ticks": ""
             }
            },
            "type": "scatterpolar"
           }
          ],
          "scatterpolargl": [
           {
            "marker": {
             "colorbar": {
              "outlinewidth": 0,
              "ticks": ""
             }
            },
            "type": "scatterpolargl"
           }
          ],
          "scatterternary": [
           {
            "marker": {
             "colorbar": {
              "outlinewidth": 0,
              "ticks": ""
             }
            },
            "type": "scatterternary"
           }
          ],
          "surface": [
           {
            "colorbar": {
             "outlinewidth": 0,
             "ticks": ""
            },
            "colorscale": [
             [
              0,
              "#0d0887"
             ],
             [
              0.1111111111111111,
              "#46039f"
             ],
             [
              0.2222222222222222,
              "#7201a8"
             ],
             [
              0.3333333333333333,
              "#9c179e"
             ],
             [
              0.4444444444444444,
              "#bd3786"
             ],
             [
              0.5555555555555556,
              "#d8576b"
             ],
             [
              0.6666666666666666,
              "#ed7953"
             ],
             [
              0.7777777777777778,
              "#fb9f3a"
             ],
             [
              0.8888888888888888,
              "#fdca26"
             ],
             [
              1,
              "#f0f921"
             ]
            ],
            "type": "surface"
           }
          ],
          "table": [
           {
            "cells": {
             "fill": {
              "color": "#506784"
             },
             "line": {
              "color": "rgb(17,17,17)"
             }
            },
            "header": {
             "fill": {
              "color": "#2a3f5f"
             },
             "line": {
              "color": "rgb(17,17,17)"
             }
            },
            "type": "table"
           }
          ]
         },
         "layout": {
          "annotationdefaults": {
           "arrowcolor": "#f2f5fa",
           "arrowhead": 0,
           "arrowwidth": 1
          },
          "autotypenumbers": "strict",
          "coloraxis": {
           "colorbar": {
            "outlinewidth": 0,
            "ticks": ""
           }
          },
          "colorscale": {
           "diverging": [
            [
             0,
             "#8e0152"
            ],
            [
             0.1,
             "#c51b7d"
            ],
            [
             0.2,
             "#de77ae"
            ],
            [
             0.3,
             "#f1b6da"
            ],
            [
             0.4,
             "#fde0ef"
            ],
            [
             0.5,
             "#f7f7f7"
            ],
            [
             0.6,
             "#e6f5d0"
            ],
            [
             0.7,
             "#b8e186"
            ],
            [
             0.8,
             "#7fbc41"
            ],
            [
             0.9,
             "#4d9221"
            ],
            [
             1,
             "#276419"
            ]
           ],
           "sequential": [
            [
             0,
             "#0d0887"
            ],
            [
             0.1111111111111111,
             "#46039f"
            ],
            [
             0.2222222222222222,
             "#7201a8"
            ],
            [
             0.3333333333333333,
             "#9c179e"
            ],
            [
             0.4444444444444444,
             "#bd3786"
            ],
            [
             0.5555555555555556,
             "#d8576b"
            ],
            [
             0.6666666666666666,
             "#ed7953"
            ],
            [
             0.7777777777777778,
             "#fb9f3a"
            ],
            [
             0.8888888888888888,
             "#fdca26"
            ],
            [
             1,
             "#f0f921"
            ]
           ],
           "sequentialminus": [
            [
             0,
             "#0d0887"
            ],
            [
             0.1111111111111111,
             "#46039f"
            ],
            [
             0.2222222222222222,
             "#7201a8"
            ],
            [
             0.3333333333333333,
             "#9c179e"
            ],
            [
             0.4444444444444444,
             "#bd3786"
            ],
            [
             0.5555555555555556,
             "#d8576b"
            ],
            [
             0.6666666666666666,
             "#ed7953"
            ],
            [
             0.7777777777777778,
             "#fb9f3a"
            ],
            [
             0.8888888888888888,
             "#fdca26"
            ],
            [
             1,
             "#f0f921"
            ]
           ]
          },
          "colorway": [
           "#636efa",
           "#EF553B",
           "#00cc96",
           "#ab63fa",
           "#FFA15A",
           "#19d3f3",
           "#FF6692",
           "#B6E880",
           "#FF97FF",
           "#FECB52"
          ],
          "font": {
           "color": "#f2f5fa"
          },
          "geo": {
           "bgcolor": "rgb(17,17,17)",
           "lakecolor": "rgb(17,17,17)",
           "landcolor": "rgb(17,17,17)",
           "showlakes": true,
           "showland": true,
           "subunitcolor": "#506784"
          },
          "hoverlabel": {
           "align": "left"
          },
          "hovermode": "closest",
          "mapbox": {
           "style": "dark"
          },
          "paper_bgcolor": "rgb(17,17,17)",
          "plot_bgcolor": "rgb(17,17,17)",
          "polar": {
           "angularaxis": {
            "gridcolor": "#506784",
            "linecolor": "#506784",
            "ticks": ""
           },
           "bgcolor": "rgb(17,17,17)",
           "radialaxis": {
            "gridcolor": "#506784",
            "linecolor": "#506784",
            "ticks": ""
           }
          },
          "scene": {
           "xaxis": {
            "backgroundcolor": "rgb(17,17,17)",
            "gridcolor": "#506784",
            "gridwidth": 2,
            "linecolor": "#506784",
            "showbackground": true,
            "ticks": "",
            "zerolinecolor": "#C8D4E3"
           },
           "yaxis": {
            "backgroundcolor": "rgb(17,17,17)",
            "gridcolor": "#506784",
            "gridwidth": 2,
            "linecolor": "#506784",
            "showbackground": true,
            "ticks": "",
            "zerolinecolor": "#C8D4E3"
           },
           "zaxis": {
            "backgroundcolor": "rgb(17,17,17)",
            "gridcolor": "#506784",
            "gridwidth": 2,
            "linecolor": "#506784",
            "showbackground": true,
            "ticks": "",
            "zerolinecolor": "#C8D4E3"
           }
          },
          "shapedefaults": {
           "line": {
            "color": "#f2f5fa"
           }
          },
          "sliderdefaults": {
           "bgcolor": "#C8D4E3",
           "bordercolor": "rgb(17,17,17)",
           "borderwidth": 1,
           "tickwidth": 0
          },
          "ternary": {
           "aaxis": {
            "gridcolor": "#506784",
            "linecolor": "#506784",
            "ticks": ""
           },
           "baxis": {
            "gridcolor": "#506784",
            "linecolor": "#506784",
            "ticks": ""
           },
           "bgcolor": "rgb(17,17,17)",
           "caxis": {
            "gridcolor": "#506784",
            "linecolor": "#506784",
            "ticks": ""
           }
          },
          "title": {
           "x": 0.05
          },
          "updatemenudefaults": {
           "bgcolor": "#506784",
           "borderwidth": 0
          },
          "xaxis": {
           "automargin": true,
           "gridcolor": "#283442",
           "linecolor": "#506784",
           "ticks": "",
           "title": {
            "standoff": 15
           },
           "zerolinecolor": "#283442",
           "zerolinewidth": 2
          },
          "yaxis": {
           "automargin": true,
           "gridcolor": "#283442",
           "linecolor": "#506784",
           "ticks": "",
           "title": {
            "standoff": 15
           },
           "zerolinecolor": "#283442",
           "zerolinewidth": 2
          }
         }
        },
        "title": {
         "text": "Observe Backward Elimination in All Models With Repect to Moving Averages<br><span style=\"font-size: 12.5px; color: lightgrey;\"> -- How meansures are changed by removing the impact of each coefficient</span>"
        },
        "width": 800,
        "xaxis": {
         "anchor": "y",
         "domain": [
          0,
          0.45
         ]
        },
        "xaxis2": {
         "anchor": "y2",
         "domain": [
          0.55,
          1
         ]
        },
        "yaxis": {
         "anchor": "x",
         "domain": [
          0,
          1
         ],
         "title": {
          "text": "Difference"
         }
        },
        "yaxis2": {
         "anchor": "x2",
         "domain": [
          0,
          1
         ]
        }
       }
      }
     },
     "metadata": {},
     "output_type": "display_data"
    }
   ],
   "source": [
    "fig2.show()\n",
    "fig3.show()"
   ]
  },
  {
   "cell_type": "code",
   "execution_count": 24,
   "metadata": {},
   "outputs": [
    {
     "data": {
      "application/vnd.plotly.v1+json": {
       "config": {
        "plotlyServerURL": "https://plot.ly"
       },
       "data": [
        {
         "error_y": {
          "array": [
           0.060565638865711424,
           0.050841804560744164,
           0.04356193292438537,
           0.03694834868017138,
           0.02485055808439085,
           0.01725058751313968
          ],
          "arrayminus": [
           0.056918686419708764,
           0.06879091446694396,
           0.051740751256082906,
           0.040746863161381985,
           0.0457770690730398,
           0.04667527804271776
          ]
         },
         "hovertemplate": "SC=1<br>MA=%{x}<br>ACC_mean=%{y}<extra></extra>",
         "legendgroup": "1",
         "marker": {
          "color": "#636efa",
          "symbol": "circle"
         },
         "mode": "markers",
         "name": "1",
         "orientation": "v",
         "showlegend": true,
         "type": "scatter",
         "x": [
          1,
          2,
          3,
          4,
          5,
          6
         ],
         "xaxis": "x",
         "y": [
          0.6822228226727499,
          0.716712674858142,
          0.7355642806678476,
          0.755734578149097,
          0.7502105666099856,
          0.760255524956298
         ],
         "yaxis": "y"
        },
        {
         "error_y": {
          "array": [
           0.06419374836386593,
           0.05245801131113381,
           0.043169343039608066,
           0.03248974920578829,
           0.022405692471719196,
           0.01711681642012386
          ],
          "arrayminus": [
           0.05815675697021605,
           0.06475340021050102,
           0.04975374852711567,
           0.04280239437903821,
           0.04583114614704342,
           0.04875101219280287
          ]
         },
         "hovertemplate": "SC=3<br>MA=%{x}<br>ACC_mean=%{y}<extra></extra>",
         "legendgroup": "3",
         "marker": {
          "color": "#EF553B",
          "symbol": "circle"
         },
         "mode": "markers",
         "name": "3",
         "orientation": "v",
         "showlegend": true,
         "type": "scatter",
         "x": [
          1,
          2,
          3,
          4,
          5,
          6
         ],
         "xaxis": "x",
         "y": [
          0.6785947131745956,
          0.7126751606016991,
          0.7286753171545666,
          0.7528761044527483,
          0.7428754811224129,
          0.7573929875014448
         ],
         "yaxis": "y"
        }
       ],
       "layout": {
        "height": 300,
        "legend": {
         "title": {
          "text": "SC"
         },
         "tracegroupgap": 0
        },
        "margin": {
         "b": 50,
         "l": 30,
         "r": 30,
         "t": 50
        },
        "showlegend": false,
        "template": {
         "data": {
          "bar": [
           {
            "error_x": {
             "color": "#f2f5fa"
            },
            "error_y": {
             "color": "#f2f5fa"
            },
            "marker": {
             "line": {
              "color": "rgb(17,17,17)",
              "width": 0.5
             },
             "pattern": {
              "fillmode": "overlay",
              "size": 10,
              "solidity": 0.2
             }
            },
            "type": "bar"
           }
          ],
          "barpolar": [
           {
            "marker": {
             "line": {
              "color": "rgb(17,17,17)",
              "width": 0.5
             },
             "pattern": {
              "fillmode": "overlay",
              "size": 10,
              "solidity": 0.2
             }
            },
            "type": "barpolar"
           }
          ],
          "carpet": [
           {
            "aaxis": {
             "endlinecolor": "#A2B1C6",
             "gridcolor": "#506784",
             "linecolor": "#506784",
             "minorgridcolor": "#506784",
             "startlinecolor": "#A2B1C6"
            },
            "baxis": {
             "endlinecolor": "#A2B1C6",
             "gridcolor": "#506784",
             "linecolor": "#506784",
             "minorgridcolor": "#506784",
             "startlinecolor": "#A2B1C6"
            },
            "type": "carpet"
           }
          ],
          "choropleth": [
           {
            "colorbar": {
             "outlinewidth": 0,
             "ticks": ""
            },
            "type": "choropleth"
           }
          ],
          "contour": [
           {
            "colorbar": {
             "outlinewidth": 0,
             "ticks": ""
            },
            "colorscale": [
             [
              0,
              "#0d0887"
             ],
             [
              0.1111111111111111,
              "#46039f"
             ],
             [
              0.2222222222222222,
              "#7201a8"
             ],
             [
              0.3333333333333333,
              "#9c179e"
             ],
             [
              0.4444444444444444,
              "#bd3786"
             ],
             [
              0.5555555555555556,
              "#d8576b"
             ],
             [
              0.6666666666666666,
              "#ed7953"
             ],
             [
              0.7777777777777778,
              "#fb9f3a"
             ],
             [
              0.8888888888888888,
              "#fdca26"
             ],
             [
              1,
              "#f0f921"
             ]
            ],
            "type": "contour"
           }
          ],
          "contourcarpet": [
           {
            "colorbar": {
             "outlinewidth": 0,
             "ticks": ""
            },
            "type": "contourcarpet"
           }
          ],
          "heatmap": [
           {
            "colorbar": {
             "outlinewidth": 0,
             "ticks": ""
            },
            "colorscale": [
             [
              0,
              "#0d0887"
             ],
             [
              0.1111111111111111,
              "#46039f"
             ],
             [
              0.2222222222222222,
              "#7201a8"
             ],
             [
              0.3333333333333333,
              "#9c179e"
             ],
             [
              0.4444444444444444,
              "#bd3786"
             ],
             [
              0.5555555555555556,
              "#d8576b"
             ],
             [
              0.6666666666666666,
              "#ed7953"
             ],
             [
              0.7777777777777778,
              "#fb9f3a"
             ],
             [
              0.8888888888888888,
              "#fdca26"
             ],
             [
              1,
              "#f0f921"
             ]
            ],
            "type": "heatmap"
           }
          ],
          "heatmapgl": [
           {
            "colorbar": {
             "outlinewidth": 0,
             "ticks": ""
            },
            "colorscale": [
             [
              0,
              "#0d0887"
             ],
             [
              0.1111111111111111,
              "#46039f"
             ],
             [
              0.2222222222222222,
              "#7201a8"
             ],
             [
              0.3333333333333333,
              "#9c179e"
             ],
             [
              0.4444444444444444,
              "#bd3786"
             ],
             [
              0.5555555555555556,
              "#d8576b"
             ],
             [
              0.6666666666666666,
              "#ed7953"
             ],
             [
              0.7777777777777778,
              "#fb9f3a"
             ],
             [
              0.8888888888888888,
              "#fdca26"
             ],
             [
              1,
              "#f0f921"
             ]
            ],
            "type": "heatmapgl"
           }
          ],
          "histogram": [
           {
            "marker": {
             "pattern": {
              "fillmode": "overlay",
              "size": 10,
              "solidity": 0.2
             }
            },
            "type": "histogram"
           }
          ],
          "histogram2d": [
           {
            "colorbar": {
             "outlinewidth": 0,
             "ticks": ""
            },
            "colorscale": [
             [
              0,
              "#0d0887"
             ],
             [
              0.1111111111111111,
              "#46039f"
             ],
             [
              0.2222222222222222,
              "#7201a8"
             ],
             [
              0.3333333333333333,
              "#9c179e"
             ],
             [
              0.4444444444444444,
              "#bd3786"
             ],
             [
              0.5555555555555556,
              "#d8576b"
             ],
             [
              0.6666666666666666,
              "#ed7953"
             ],
             [
              0.7777777777777778,
              "#fb9f3a"
             ],
             [
              0.8888888888888888,
              "#fdca26"
             ],
             [
              1,
              "#f0f921"
             ]
            ],
            "type": "histogram2d"
           }
          ],
          "histogram2dcontour": [
           {
            "colorbar": {
             "outlinewidth": 0,
             "ticks": ""
            },
            "colorscale": [
             [
              0,
              "#0d0887"
             ],
             [
              0.1111111111111111,
              "#46039f"
             ],
             [
              0.2222222222222222,
              "#7201a8"
             ],
             [
              0.3333333333333333,
              "#9c179e"
             ],
             [
              0.4444444444444444,
              "#bd3786"
             ],
             [
              0.5555555555555556,
              "#d8576b"
             ],
             [
              0.6666666666666666,
              "#ed7953"
             ],
             [
              0.7777777777777778,
              "#fb9f3a"
             ],
             [
              0.8888888888888888,
              "#fdca26"
             ],
             [
              1,
              "#f0f921"
             ]
            ],
            "type": "histogram2dcontour"
           }
          ],
          "mesh3d": [
           {
            "colorbar": {
             "outlinewidth": 0,
             "ticks": ""
            },
            "type": "mesh3d"
           }
          ],
          "parcoords": [
           {
            "line": {
             "colorbar": {
              "outlinewidth": 0,
              "ticks": ""
             }
            },
            "type": "parcoords"
           }
          ],
          "pie": [
           {
            "automargin": true,
            "type": "pie"
           }
          ],
          "scatter": [
           {
            "marker": {
             "line": {
              "color": "#283442"
             }
            },
            "type": "scatter"
           }
          ],
          "scatter3d": [
           {
            "line": {
             "colorbar": {
              "outlinewidth": 0,
              "ticks": ""
             }
            },
            "marker": {
             "colorbar": {
              "outlinewidth": 0,
              "ticks": ""
             }
            },
            "type": "scatter3d"
           }
          ],
          "scattercarpet": [
           {
            "marker": {
             "colorbar": {
              "outlinewidth": 0,
              "ticks": ""
             }
            },
            "type": "scattercarpet"
           }
          ],
          "scattergeo": [
           {
            "marker": {
             "colorbar": {
              "outlinewidth": 0,
              "ticks": ""
             }
            },
            "type": "scattergeo"
           }
          ],
          "scattergl": [
           {
            "marker": {
             "line": {
              "color": "#283442"
             }
            },
            "type": "scattergl"
           }
          ],
          "scattermapbox": [
           {
            "marker": {
             "colorbar": {
              "outlinewidth": 0,
              "ticks": ""
             }
            },
            "type": "scattermapbox"
           }
          ],
          "scatterpolar": [
           {
            "marker": {
             "colorbar": {
              "outlinewidth": 0,
              "ticks": ""
             }
            },
            "type": "scatterpolar"
           }
          ],
          "scatterpolargl": [
           {
            "marker": {
             "colorbar": {
              "outlinewidth": 0,
              "ticks": ""
             }
            },
            "type": "scatterpolargl"
           }
          ],
          "scatterternary": [
           {
            "marker": {
             "colorbar": {
              "outlinewidth": 0,
              "ticks": ""
             }
            },
            "type": "scatterternary"
           }
          ],
          "surface": [
           {
            "colorbar": {
             "outlinewidth": 0,
             "ticks": ""
            },
            "colorscale": [
             [
              0,
              "#0d0887"
             ],
             [
              0.1111111111111111,
              "#46039f"
             ],
             [
              0.2222222222222222,
              "#7201a8"
             ],
             [
              0.3333333333333333,
              "#9c179e"
             ],
             [
              0.4444444444444444,
              "#bd3786"
             ],
             [
              0.5555555555555556,
              "#d8576b"
             ],
             [
              0.6666666666666666,
              "#ed7953"
             ],
             [
              0.7777777777777778,
              "#fb9f3a"
             ],
             [
              0.8888888888888888,
              "#fdca26"
             ],
             [
              1,
              "#f0f921"
             ]
            ],
            "type": "surface"
           }
          ],
          "table": [
           {
            "cells": {
             "fill": {
              "color": "#506784"
             },
             "line": {
              "color": "rgb(17,17,17)"
             }
            },
            "header": {
             "fill": {
              "color": "#2a3f5f"
             },
             "line": {
              "color": "rgb(17,17,17)"
             }
            },
            "type": "table"
           }
          ]
         },
         "layout": {
          "annotationdefaults": {
           "arrowcolor": "#f2f5fa",
           "arrowhead": 0,
           "arrowwidth": 1
          },
          "autotypenumbers": "strict",
          "coloraxis": {
           "colorbar": {
            "outlinewidth": 0,
            "ticks": ""
           }
          },
          "colorscale": {
           "diverging": [
            [
             0,
             "#8e0152"
            ],
            [
             0.1,
             "#c51b7d"
            ],
            [
             0.2,
             "#de77ae"
            ],
            [
             0.3,
             "#f1b6da"
            ],
            [
             0.4,
             "#fde0ef"
            ],
            [
             0.5,
             "#f7f7f7"
            ],
            [
             0.6,
             "#e6f5d0"
            ],
            [
             0.7,
             "#b8e186"
            ],
            [
             0.8,
             "#7fbc41"
            ],
            [
             0.9,
             "#4d9221"
            ],
            [
             1,
             "#276419"
            ]
           ],
           "sequential": [
            [
             0,
             "#0d0887"
            ],
            [
             0.1111111111111111,
             "#46039f"
            ],
            [
             0.2222222222222222,
             "#7201a8"
            ],
            [
             0.3333333333333333,
             "#9c179e"
            ],
            [
             0.4444444444444444,
             "#bd3786"
            ],
            [
             0.5555555555555556,
             "#d8576b"
            ],
            [
             0.6666666666666666,
             "#ed7953"
            ],
            [
             0.7777777777777778,
             "#fb9f3a"
            ],
            [
             0.8888888888888888,
             "#fdca26"
            ],
            [
             1,
             "#f0f921"
            ]
           ],
           "sequentialminus": [
            [
             0,
             "#0d0887"
            ],
            [
             0.1111111111111111,
             "#46039f"
            ],
            [
             0.2222222222222222,
             "#7201a8"
            ],
            [
             0.3333333333333333,
             "#9c179e"
            ],
            [
             0.4444444444444444,
             "#bd3786"
            ],
            [
             0.5555555555555556,
             "#d8576b"
            ],
            [
             0.6666666666666666,
             "#ed7953"
            ],
            [
             0.7777777777777778,
             "#fb9f3a"
            ],
            [
             0.8888888888888888,
             "#fdca26"
            ],
            [
             1,
             "#f0f921"
            ]
           ]
          },
          "colorway": [
           "#636efa",
           "#EF553B",
           "#00cc96",
           "#ab63fa",
           "#FFA15A",
           "#19d3f3",
           "#FF6692",
           "#B6E880",
           "#FF97FF",
           "#FECB52"
          ],
          "font": {
           "color": "#f2f5fa"
          },
          "geo": {
           "bgcolor": "rgb(17,17,17)",
           "lakecolor": "rgb(17,17,17)",
           "landcolor": "rgb(17,17,17)",
           "showlakes": true,
           "showland": true,
           "subunitcolor": "#506784"
          },
          "hoverlabel": {
           "align": "left"
          },
          "hovermode": "closest",
          "mapbox": {
           "style": "dark"
          },
          "paper_bgcolor": "rgb(17,17,17)",
          "plot_bgcolor": "rgb(17,17,17)",
          "polar": {
           "angularaxis": {
            "gridcolor": "#506784",
            "linecolor": "#506784",
            "ticks": ""
           },
           "bgcolor": "rgb(17,17,17)",
           "radialaxis": {
            "gridcolor": "#506784",
            "linecolor": "#506784",
            "ticks": ""
           }
          },
          "scene": {
           "xaxis": {
            "backgroundcolor": "rgb(17,17,17)",
            "gridcolor": "#506784",
            "gridwidth": 2,
            "linecolor": "#506784",
            "showbackground": true,
            "ticks": "",
            "zerolinecolor": "#C8D4E3"
           },
           "yaxis": {
            "backgroundcolor": "rgb(17,17,17)",
            "gridcolor": "#506784",
            "gridwidth": 2,
            "linecolor": "#506784",
            "showbackground": true,
            "ticks": "",
            "zerolinecolor": "#C8D4E3"
           },
           "zaxis": {
            "backgroundcolor": "rgb(17,17,17)",
            "gridcolor": "#506784",
            "gridwidth": 2,
            "linecolor": "#506784",
            "showbackground": true,
            "ticks": "",
            "zerolinecolor": "#C8D4E3"
           }
          },
          "shapedefaults": {
           "line": {
            "color": "#f2f5fa"
           }
          },
          "sliderdefaults": {
           "bgcolor": "#C8D4E3",
           "bordercolor": "rgb(17,17,17)",
           "borderwidth": 1,
           "tickwidth": 0
          },
          "ternary": {
           "aaxis": {
            "gridcolor": "#506784",
            "linecolor": "#506784",
            "ticks": ""
           },
           "baxis": {
            "gridcolor": "#506784",
            "linecolor": "#506784",
            "ticks": ""
           },
           "bgcolor": "rgb(17,17,17)",
           "caxis": {
            "gridcolor": "#506784",
            "linecolor": "#506784",
            "ticks": ""
           }
          },
          "title": {
           "x": 0.05
          },
          "updatemenudefaults": {
           "bgcolor": "#506784",
           "borderwidth": 0
          },
          "xaxis": {
           "automargin": true,
           "gridcolor": "#283442",
           "linecolor": "#506784",
           "ticks": "",
           "title": {
            "standoff": 15
           },
           "zerolinecolor": "#283442",
           "zerolinewidth": 2
          },
          "yaxis": {
           "automargin": true,
           "gridcolor": "#283442",
           "linecolor": "#506784",
           "ticks": "",
           "title": {
            "standoff": 15
           },
           "zerolinecolor": "#283442",
           "zerolinewidth": 2
          }
         }
        },
        "title": {
         "text": "Accuracy",
         "x": 0.5,
         "xanchor": "center"
        },
        "width": 400,
        "xaxis": {
         "anchor": "y",
         "domain": [
          0,
          1
         ],
         "title": {
          "font": {
           "color": "lightgrey"
          },
          "text": "Moving Averages"
         }
        },
        "yaxis": {
         "anchor": "x",
         "domain": [
          0,
          1
         ],
         "title": {
          "text": ""
         }
        }
       }
      }
     },
     "metadata": {},
     "output_type": "display_data"
    },
    {
     "data": {
      "application/vnd.plotly.v1+json": {
       "config": {
        "plotlyServerURL": "https://plot.ly"
       },
       "data": [
        {
         "error_y": {
          "array": [
           0.01813121529467654,
           0.01721472622302911,
           0.007434312351236039,
           0.013863988913224823,
           0.007395404320676646,
           0.0047866946314295555
          ],
          "arrayminus": [
           0.015420197782113232,
           0.02585969616173811,
           0.019369811360104183,
           0.015719344420108472,
           0.012708103723167774,
           0.006066476068288362
          ]
         },
         "hovertemplate": "SC=1<br>MA=%{x}<br>PRE_mean=%{y}<extra></extra>",
         "legendgroup": "1",
         "marker": {
          "color": "#636efa",
          "symbol": "circle"
         },
         "mode": "markers",
         "name": "1",
         "orientation": "v",
         "showlegend": true,
         "type": "scatter",
         "x": [
          1,
          2,
          3,
          4,
          5,
          6
         ],
         "xaxis": "x",
         "y": [
          0.8480895204912767,
          0.864940155931853,
          0.8860364780267709,
          0.8923860110867752,
          0.8922701475187882,
          0.8982233388133865
         ],
         "yaxis": "y"
        },
        {
         "error_y": {
          "array": [
           0.02111076352796637,
           0.01792432956502732,
           0.010766736882670602,
           0.0134835657095842,
           0.009318742079410747,
           0.006132446558400062
          ],
          "arrayminus": [
           0.01902301573624765,
           0.022995210664857768,
           0.013972580230394271,
           0.010509742020747725,
           0.008694172840720715,
           0.007338465486608103
          ]
         },
         "hovertemplate": "SC=3<br>MA=%{x}<br>PRE_mean=%{y}<extra></extra>",
         "legendgroup": "3",
         "marker": {
          "color": "#EF553B",
          "symbol": "circle"
         },
         "mode": "markers",
         "name": "3",
         "orientation": "v",
         "showlegend": true,
         "type": "scatter",
         "x": [
          1,
          2,
          3,
          4,
          5,
          6
         ],
         "xaxis": "x",
         "y": [
          0.8451099722579868,
          0.8620756704349727,
          0.879644222021439,
          0.8896306211416266,
          0.8841520482985962,
          0.8941997793552211
         ],
         "yaxis": "y"
        }
       ],
       "layout": {
        "height": 300,
        "legend": {
         "title": {
          "text": "SC"
         },
         "tracegroupgap": 0
        },
        "margin": {
         "b": 50,
         "l": 30,
         "r": 30,
         "t": 50
        },
        "showlegend": false,
        "template": {
         "data": {
          "bar": [
           {
            "error_x": {
             "color": "#f2f5fa"
            },
            "error_y": {
             "color": "#f2f5fa"
            },
            "marker": {
             "line": {
              "color": "rgb(17,17,17)",
              "width": 0.5
             },
             "pattern": {
              "fillmode": "overlay",
              "size": 10,
              "solidity": 0.2
             }
            },
            "type": "bar"
           }
          ],
          "barpolar": [
           {
            "marker": {
             "line": {
              "color": "rgb(17,17,17)",
              "width": 0.5
             },
             "pattern": {
              "fillmode": "overlay",
              "size": 10,
              "solidity": 0.2
             }
            },
            "type": "barpolar"
           }
          ],
          "carpet": [
           {
            "aaxis": {
             "endlinecolor": "#A2B1C6",
             "gridcolor": "#506784",
             "linecolor": "#506784",
             "minorgridcolor": "#506784",
             "startlinecolor": "#A2B1C6"
            },
            "baxis": {
             "endlinecolor": "#A2B1C6",
             "gridcolor": "#506784",
             "linecolor": "#506784",
             "minorgridcolor": "#506784",
             "startlinecolor": "#A2B1C6"
            },
            "type": "carpet"
           }
          ],
          "choropleth": [
           {
            "colorbar": {
             "outlinewidth": 0,
             "ticks": ""
            },
            "type": "choropleth"
           }
          ],
          "contour": [
           {
            "colorbar": {
             "outlinewidth": 0,
             "ticks": ""
            },
            "colorscale": [
             [
              0,
              "#0d0887"
             ],
             [
              0.1111111111111111,
              "#46039f"
             ],
             [
              0.2222222222222222,
              "#7201a8"
             ],
             [
              0.3333333333333333,
              "#9c179e"
             ],
             [
              0.4444444444444444,
              "#bd3786"
             ],
             [
              0.5555555555555556,
              "#d8576b"
             ],
             [
              0.6666666666666666,
              "#ed7953"
             ],
             [
              0.7777777777777778,
              "#fb9f3a"
             ],
             [
              0.8888888888888888,
              "#fdca26"
             ],
             [
              1,
              "#f0f921"
             ]
            ],
            "type": "contour"
           }
          ],
          "contourcarpet": [
           {
            "colorbar": {
             "outlinewidth": 0,
             "ticks": ""
            },
            "type": "contourcarpet"
           }
          ],
          "heatmap": [
           {
            "colorbar": {
             "outlinewidth": 0,
             "ticks": ""
            },
            "colorscale": [
             [
              0,
              "#0d0887"
             ],
             [
              0.1111111111111111,
              "#46039f"
             ],
             [
              0.2222222222222222,
              "#7201a8"
             ],
             [
              0.3333333333333333,
              "#9c179e"
             ],
             [
              0.4444444444444444,
              "#bd3786"
             ],
             [
              0.5555555555555556,
              "#d8576b"
             ],
             [
              0.6666666666666666,
              "#ed7953"
             ],
             [
              0.7777777777777778,
              "#fb9f3a"
             ],
             [
              0.8888888888888888,
              "#fdca26"
             ],
             [
              1,
              "#f0f921"
             ]
            ],
            "type": "heatmap"
           }
          ],
          "heatmapgl": [
           {
            "colorbar": {
             "outlinewidth": 0,
             "ticks": ""
            },
            "colorscale": [
             [
              0,
              "#0d0887"
             ],
             [
              0.1111111111111111,
              "#46039f"
             ],
             [
              0.2222222222222222,
              "#7201a8"
             ],
             [
              0.3333333333333333,
              "#9c179e"
             ],
             [
              0.4444444444444444,
              "#bd3786"
             ],
             [
              0.5555555555555556,
              "#d8576b"
             ],
             [
              0.6666666666666666,
              "#ed7953"
             ],
             [
              0.7777777777777778,
              "#fb9f3a"
             ],
             [
              0.8888888888888888,
              "#fdca26"
             ],
             [
              1,
              "#f0f921"
             ]
            ],
            "type": "heatmapgl"
           }
          ],
          "histogram": [
           {
            "marker": {
             "pattern": {
              "fillmode": "overlay",
              "size": 10,
              "solidity": 0.2
             }
            },
            "type": "histogram"
           }
          ],
          "histogram2d": [
           {
            "colorbar": {
             "outlinewidth": 0,
             "ticks": ""
            },
            "colorscale": [
             [
              0,
              "#0d0887"
             ],
             [
              0.1111111111111111,
              "#46039f"
             ],
             [
              0.2222222222222222,
              "#7201a8"
             ],
             [
              0.3333333333333333,
              "#9c179e"
             ],
             [
              0.4444444444444444,
              "#bd3786"
             ],
             [
              0.5555555555555556,
              "#d8576b"
             ],
             [
              0.6666666666666666,
              "#ed7953"
             ],
             [
              0.7777777777777778,
              "#fb9f3a"
             ],
             [
              0.8888888888888888,
              "#fdca26"
             ],
             [
              1,
              "#f0f921"
             ]
            ],
            "type": "histogram2d"
           }
          ],
          "histogram2dcontour": [
           {
            "colorbar": {
             "outlinewidth": 0,
             "ticks": ""
            },
            "colorscale": [
             [
              0,
              "#0d0887"
             ],
             [
              0.1111111111111111,
              "#46039f"
             ],
             [
              0.2222222222222222,
              "#7201a8"
             ],
             [
              0.3333333333333333,
              "#9c179e"
             ],
             [
              0.4444444444444444,
              "#bd3786"
             ],
             [
              0.5555555555555556,
              "#d8576b"
             ],
             [
              0.6666666666666666,
              "#ed7953"
             ],
             [
              0.7777777777777778,
              "#fb9f3a"
             ],
             [
              0.8888888888888888,
              "#fdca26"
             ],
             [
              1,
              "#f0f921"
             ]
            ],
            "type": "histogram2dcontour"
           }
          ],
          "mesh3d": [
           {
            "colorbar": {
             "outlinewidth": 0,
             "ticks": ""
            },
            "type": "mesh3d"
           }
          ],
          "parcoords": [
           {
            "line": {
             "colorbar": {
              "outlinewidth": 0,
              "ticks": ""
             }
            },
            "type": "parcoords"
           }
          ],
          "pie": [
           {
            "automargin": true,
            "type": "pie"
           }
          ],
          "scatter": [
           {
            "marker": {
             "line": {
              "color": "#283442"
             }
            },
            "type": "scatter"
           }
          ],
          "scatter3d": [
           {
            "line": {
             "colorbar": {
              "outlinewidth": 0,
              "ticks": ""
             }
            },
            "marker": {
             "colorbar": {
              "outlinewidth": 0,
              "ticks": ""
             }
            },
            "type": "scatter3d"
           }
          ],
          "scattercarpet": [
           {
            "marker": {
             "colorbar": {
              "outlinewidth": 0,
              "ticks": ""
             }
            },
            "type": "scattercarpet"
           }
          ],
          "scattergeo": [
           {
            "marker": {
             "colorbar": {
              "outlinewidth": 0,
              "ticks": ""
             }
            },
            "type": "scattergeo"
           }
          ],
          "scattergl": [
           {
            "marker": {
             "line": {
              "color": "#283442"
             }
            },
            "type": "scattergl"
           }
          ],
          "scattermapbox": [
           {
            "marker": {
             "colorbar": {
              "outlinewidth": 0,
              "ticks": ""
             }
            },
            "type": "scattermapbox"
           }
          ],
          "scatterpolar": [
           {
            "marker": {
             "colorbar": {
              "outlinewidth": 0,
              "ticks": ""
             }
            },
            "type": "scatterpolar"
           }
          ],
          "scatterpolargl": [
           {
            "marker": {
             "colorbar": {
              "outlinewidth": 0,
              "ticks": ""
             }
            },
            "type": "scatterpolargl"
           }
          ],
          "scatterternary": [
           {
            "marker": {
             "colorbar": {
              "outlinewidth": 0,
              "ticks": ""
             }
            },
            "type": "scatterternary"
           }
          ],
          "surface": [
           {
            "colorbar": {
             "outlinewidth": 0,
             "ticks": ""
            },
            "colorscale": [
             [
              0,
              "#0d0887"
             ],
             [
              0.1111111111111111,
              "#46039f"
             ],
             [
              0.2222222222222222,
              "#7201a8"
             ],
             [
              0.3333333333333333,
              "#9c179e"
             ],
             [
              0.4444444444444444,
              "#bd3786"
             ],
             [
              0.5555555555555556,
              "#d8576b"
             ],
             [
              0.6666666666666666,
              "#ed7953"
             ],
             [
              0.7777777777777778,
              "#fb9f3a"
             ],
             [
              0.8888888888888888,
              "#fdca26"
             ],
             [
              1,
              "#f0f921"
             ]
            ],
            "type": "surface"
           }
          ],
          "table": [
           {
            "cells": {
             "fill": {
              "color": "#506784"
             },
             "line": {
              "color": "rgb(17,17,17)"
             }
            },
            "header": {
             "fill": {
              "color": "#2a3f5f"
             },
             "line": {
              "color": "rgb(17,17,17)"
             }
            },
            "type": "table"
           }
          ]
         },
         "layout": {
          "annotationdefaults": {
           "arrowcolor": "#f2f5fa",
           "arrowhead": 0,
           "arrowwidth": 1
          },
          "autotypenumbers": "strict",
          "coloraxis": {
           "colorbar": {
            "outlinewidth": 0,
            "ticks": ""
           }
          },
          "colorscale": {
           "diverging": [
            [
             0,
             "#8e0152"
            ],
            [
             0.1,
             "#c51b7d"
            ],
            [
             0.2,
             "#de77ae"
            ],
            [
             0.3,
             "#f1b6da"
            ],
            [
             0.4,
             "#fde0ef"
            ],
            [
             0.5,
             "#f7f7f7"
            ],
            [
             0.6,
             "#e6f5d0"
            ],
            [
             0.7,
             "#b8e186"
            ],
            [
             0.8,
             "#7fbc41"
            ],
            [
             0.9,
             "#4d9221"
            ],
            [
             1,
             "#276419"
            ]
           ],
           "sequential": [
            [
             0,
             "#0d0887"
            ],
            [
             0.1111111111111111,
             "#46039f"
            ],
            [
             0.2222222222222222,
             "#7201a8"
            ],
            [
             0.3333333333333333,
             "#9c179e"
            ],
            [
             0.4444444444444444,
             "#bd3786"
            ],
            [
             0.5555555555555556,
             "#d8576b"
            ],
            [
             0.6666666666666666,
             "#ed7953"
            ],
            [
             0.7777777777777778,
             "#fb9f3a"
            ],
            [
             0.8888888888888888,
             "#fdca26"
            ],
            [
             1,
             "#f0f921"
            ]
           ],
           "sequentialminus": [
            [
             0,
             "#0d0887"
            ],
            [
             0.1111111111111111,
             "#46039f"
            ],
            [
             0.2222222222222222,
             "#7201a8"
            ],
            [
             0.3333333333333333,
             "#9c179e"
            ],
            [
             0.4444444444444444,
             "#bd3786"
            ],
            [
             0.5555555555555556,
             "#d8576b"
            ],
            [
             0.6666666666666666,
             "#ed7953"
            ],
            [
             0.7777777777777778,
             "#fb9f3a"
            ],
            [
             0.8888888888888888,
             "#fdca26"
            ],
            [
             1,
             "#f0f921"
            ]
           ]
          },
          "colorway": [
           "#636efa",
           "#EF553B",
           "#00cc96",
           "#ab63fa",
           "#FFA15A",
           "#19d3f3",
           "#FF6692",
           "#B6E880",
           "#FF97FF",
           "#FECB52"
          ],
          "font": {
           "color": "#f2f5fa"
          },
          "geo": {
           "bgcolor": "rgb(17,17,17)",
           "lakecolor": "rgb(17,17,17)",
           "landcolor": "rgb(17,17,17)",
           "showlakes": true,
           "showland": true,
           "subunitcolor": "#506784"
          },
          "hoverlabel": {
           "align": "left"
          },
          "hovermode": "closest",
          "mapbox": {
           "style": "dark"
          },
          "paper_bgcolor": "rgb(17,17,17)",
          "plot_bgcolor": "rgb(17,17,17)",
          "polar": {
           "angularaxis": {
            "gridcolor": "#506784",
            "linecolor": "#506784",
            "ticks": ""
           },
           "bgcolor": "rgb(17,17,17)",
           "radialaxis": {
            "gridcolor": "#506784",
            "linecolor": "#506784",
            "ticks": ""
           }
          },
          "scene": {
           "xaxis": {
            "backgroundcolor": "rgb(17,17,17)",
            "gridcolor": "#506784",
            "gridwidth": 2,
            "linecolor": "#506784",
            "showbackground": true,
            "ticks": "",
            "zerolinecolor": "#C8D4E3"
           },
           "yaxis": {
            "backgroundcolor": "rgb(17,17,17)",
            "gridcolor": "#506784",
            "gridwidth": 2,
            "linecolor": "#506784",
            "showbackground": true,
            "ticks": "",
            "zerolinecolor": "#C8D4E3"
           },
           "zaxis": {
            "backgroundcolor": "rgb(17,17,17)",
            "gridcolor": "#506784",
            "gridwidth": 2,
            "linecolor": "#506784",
            "showbackground": true,
            "ticks": "",
            "zerolinecolor": "#C8D4E3"
           }
          },
          "shapedefaults": {
           "line": {
            "color": "#f2f5fa"
           }
          },
          "sliderdefaults": {
           "bgcolor": "#C8D4E3",
           "bordercolor": "rgb(17,17,17)",
           "borderwidth": 1,
           "tickwidth": 0
          },
          "ternary": {
           "aaxis": {
            "gridcolor": "#506784",
            "linecolor": "#506784",
            "ticks": ""
           },
           "baxis": {
            "gridcolor": "#506784",
            "linecolor": "#506784",
            "ticks": ""
           },
           "bgcolor": "rgb(17,17,17)",
           "caxis": {
            "gridcolor": "#506784",
            "linecolor": "#506784",
            "ticks": ""
           }
          },
          "title": {
           "x": 0.05
          },
          "updatemenudefaults": {
           "bgcolor": "#506784",
           "borderwidth": 0
          },
          "xaxis": {
           "automargin": true,
           "gridcolor": "#283442",
           "linecolor": "#506784",
           "ticks": "",
           "title": {
            "standoff": 15
           },
           "zerolinecolor": "#283442",
           "zerolinewidth": 2
          },
          "yaxis": {
           "automargin": true,
           "gridcolor": "#283442",
           "linecolor": "#506784",
           "ticks": "",
           "title": {
            "standoff": 15
           },
           "zerolinecolor": "#283442",
           "zerolinewidth": 2
          }
         }
        },
        "title": {
         "text": "Precision",
         "x": 0.5,
         "xanchor": "center"
        },
        "width": 400,
        "xaxis": {
         "anchor": "y",
         "domain": [
          0,
          1
         ],
         "title": {
          "font": {
           "color": "lightgrey"
          },
          "text": "Moving Averages"
         }
        },
        "yaxis": {
         "anchor": "x",
         "domain": [
          0,
          1
         ],
         "title": {
          "text": ""
         }
        }
       }
      }
     },
     "metadata": {},
     "output_type": "display_data"
    },
    {
     "data": {
      "application/vnd.plotly.v1+json": {
       "config": {
        "plotlyServerURL": "https://plot.ly"
       },
       "data": [
        {
         "error_y": {
          "array": [
           0.07190345359563899,
           0.058288109670959654,
           0.05560424865246061,
           0.042620196180576775,
           0.03270100793256925,
           0.02399739641203069
          ],
          "arrayminus": [
           0.07148473133259525,
           0.07485351505945015,
           0.05357283496959098,
           0.048158415451693304,
           0.051274012331228525,
           0.05999824866145875
          ]
         },
         "hovertemplate": "SC=1<br>MA=%{x}<br>REC_mean=%{y}<extra></extra>",
         "legendgroup": "1",
         "marker": {
          "color": "#636efa",
          "symbol": "circle"
         },
         "mode": "markers",
         "name": "1",
         "orientation": "v",
         "showlegend": true,
         "type": "scatter",
         "x": [
          1,
          2,
          3,
          4,
          5,
          6
         ],
         "xaxis": "x",
         "y": [
          0.722575074011723,
          0.7570965057136556,
          0.7691691652448204,
          0.7896968769901549,
          0.7860301098922041,
          0.7963618850250952
         ],
         "yaxis": "y"
        },
        {
         "error_y": {
          "array": [
           0.07395790120564205,
           0.057778503630249056,
           0.058134218321531206,
           0.04059236628689322,
           0.03371269051433068,
           0.02348785950442367
          ],
          "arrayminus": [
           0.06943028372259219,
           0.07228619802323766,
           0.05715907325159075,
           0.050214387934495064,
           0.056359890725076855,
           0.060507785569065775
          ]
         },
         "hovertemplate": "SC=3<br>MA=%{x}<br>REC_mean=%{y}<extra></extra>",
         "legendgroup": "3",
         "marker": {
          "color": "#EF553B",
          "symbol": "circle"
         },
         "mode": "markers",
         "name": "3",
         "orientation": "v",
         "showlegend": true,
         "type": "scatter",
         "x": [
          1,
          2,
          3,
          4,
          5,
          6
         ],
         "xaxis": "x",
         "y": [
          0.7205206264017199,
          0.7545291886774432,
          0.7666391955757498,
          0.7886759263960336,
          0.7850184273104427,
          0.7968714219327021
         ],
         "yaxis": "y"
        }
       ],
       "layout": {
        "height": 300,
        "legend": {
         "title": {
          "text": "SC"
         },
         "tracegroupgap": 0
        },
        "margin": {
         "b": 50,
         "l": 30,
         "r": 30,
         "t": 50
        },
        "showlegend": false,
        "template": {
         "data": {
          "bar": [
           {
            "error_x": {
             "color": "#f2f5fa"
            },
            "error_y": {
             "color": "#f2f5fa"
            },
            "marker": {
             "line": {
              "color": "rgb(17,17,17)",
              "width": 0.5
             },
             "pattern": {
              "fillmode": "overlay",
              "size": 10,
              "solidity": 0.2
             }
            },
            "type": "bar"
           }
          ],
          "barpolar": [
           {
            "marker": {
             "line": {
              "color": "rgb(17,17,17)",
              "width": 0.5
             },
             "pattern": {
              "fillmode": "overlay",
              "size": 10,
              "solidity": 0.2
             }
            },
            "type": "barpolar"
           }
          ],
          "carpet": [
           {
            "aaxis": {
             "endlinecolor": "#A2B1C6",
             "gridcolor": "#506784",
             "linecolor": "#506784",
             "minorgridcolor": "#506784",
             "startlinecolor": "#A2B1C6"
            },
            "baxis": {
             "endlinecolor": "#A2B1C6",
             "gridcolor": "#506784",
             "linecolor": "#506784",
             "minorgridcolor": "#506784",
             "startlinecolor": "#A2B1C6"
            },
            "type": "carpet"
           }
          ],
          "choropleth": [
           {
            "colorbar": {
             "outlinewidth": 0,
             "ticks": ""
            },
            "type": "choropleth"
           }
          ],
          "contour": [
           {
            "colorbar": {
             "outlinewidth": 0,
             "ticks": ""
            },
            "colorscale": [
             [
              0,
              "#0d0887"
             ],
             [
              0.1111111111111111,
              "#46039f"
             ],
             [
              0.2222222222222222,
              "#7201a8"
             ],
             [
              0.3333333333333333,
              "#9c179e"
             ],
             [
              0.4444444444444444,
              "#bd3786"
             ],
             [
              0.5555555555555556,
              "#d8576b"
             ],
             [
              0.6666666666666666,
              "#ed7953"
             ],
             [
              0.7777777777777778,
              "#fb9f3a"
             ],
             [
              0.8888888888888888,
              "#fdca26"
             ],
             [
              1,
              "#f0f921"
             ]
            ],
            "type": "contour"
           }
          ],
          "contourcarpet": [
           {
            "colorbar": {
             "outlinewidth": 0,
             "ticks": ""
            },
            "type": "contourcarpet"
           }
          ],
          "heatmap": [
           {
            "colorbar": {
             "outlinewidth": 0,
             "ticks": ""
            },
            "colorscale": [
             [
              0,
              "#0d0887"
             ],
             [
              0.1111111111111111,
              "#46039f"
             ],
             [
              0.2222222222222222,
              "#7201a8"
             ],
             [
              0.3333333333333333,
              "#9c179e"
             ],
             [
              0.4444444444444444,
              "#bd3786"
             ],
             [
              0.5555555555555556,
              "#d8576b"
             ],
             [
              0.6666666666666666,
              "#ed7953"
             ],
             [
              0.7777777777777778,
              "#fb9f3a"
             ],
             [
              0.8888888888888888,
              "#fdca26"
             ],
             [
              1,
              "#f0f921"
             ]
            ],
            "type": "heatmap"
           }
          ],
          "heatmapgl": [
           {
            "colorbar": {
             "outlinewidth": 0,
             "ticks": ""
            },
            "colorscale": [
             [
              0,
              "#0d0887"
             ],
             [
              0.1111111111111111,
              "#46039f"
             ],
             [
              0.2222222222222222,
              "#7201a8"
             ],
             [
              0.3333333333333333,
              "#9c179e"
             ],
             [
              0.4444444444444444,
              "#bd3786"
             ],
             [
              0.5555555555555556,
              "#d8576b"
             ],
             [
              0.6666666666666666,
              "#ed7953"
             ],
             [
              0.7777777777777778,
              "#fb9f3a"
             ],
             [
              0.8888888888888888,
              "#fdca26"
             ],
             [
              1,
              "#f0f921"
             ]
            ],
            "type": "heatmapgl"
           }
          ],
          "histogram": [
           {
            "marker": {
             "pattern": {
              "fillmode": "overlay",
              "size": 10,
              "solidity": 0.2
             }
            },
            "type": "histogram"
           }
          ],
          "histogram2d": [
           {
            "colorbar": {
             "outlinewidth": 0,
             "ticks": ""
            },
            "colorscale": [
             [
              0,
              "#0d0887"
             ],
             [
              0.1111111111111111,
              "#46039f"
             ],
             [
              0.2222222222222222,
              "#7201a8"
             ],
             [
              0.3333333333333333,
              "#9c179e"
             ],
             [
              0.4444444444444444,
              "#bd3786"
             ],
             [
              0.5555555555555556,
              "#d8576b"
             ],
             [
              0.6666666666666666,
              "#ed7953"
             ],
             [
              0.7777777777777778,
              "#fb9f3a"
             ],
             [
              0.8888888888888888,
              "#fdca26"
             ],
             [
              1,
              "#f0f921"
             ]
            ],
            "type": "histogram2d"
           }
          ],
          "histogram2dcontour": [
           {
            "colorbar": {
             "outlinewidth": 0,
             "ticks": ""
            },
            "colorscale": [
             [
              0,
              "#0d0887"
             ],
             [
              0.1111111111111111,
              "#46039f"
             ],
             [
              0.2222222222222222,
              "#7201a8"
             ],
             [
              0.3333333333333333,
              "#9c179e"
             ],
             [
              0.4444444444444444,
              "#bd3786"
             ],
             [
              0.5555555555555556,
              "#d8576b"
             ],
             [
              0.6666666666666666,
              "#ed7953"
             ],
             [
              0.7777777777777778,
              "#fb9f3a"
             ],
             [
              0.8888888888888888,
              "#fdca26"
             ],
             [
              1,
              "#f0f921"
             ]
            ],
            "type": "histogram2dcontour"
           }
          ],
          "mesh3d": [
           {
            "colorbar": {
             "outlinewidth": 0,
             "ticks": ""
            },
            "type": "mesh3d"
           }
          ],
          "parcoords": [
           {
            "line": {
             "colorbar": {
              "outlinewidth": 0,
              "ticks": ""
             }
            },
            "type": "parcoords"
           }
          ],
          "pie": [
           {
            "automargin": true,
            "type": "pie"
           }
          ],
          "scatter": [
           {
            "marker": {
             "line": {
              "color": "#283442"
             }
            },
            "type": "scatter"
           }
          ],
          "scatter3d": [
           {
            "line": {
             "colorbar": {
              "outlinewidth": 0,
              "ticks": ""
             }
            },
            "marker": {
             "colorbar": {
              "outlinewidth": 0,
              "ticks": ""
             }
            },
            "type": "scatter3d"
           }
          ],
          "scattercarpet": [
           {
            "marker": {
             "colorbar": {
              "outlinewidth": 0,
              "ticks": ""
             }
            },
            "type": "scattercarpet"
           }
          ],
          "scattergeo": [
           {
            "marker": {
             "colorbar": {
              "outlinewidth": 0,
              "ticks": ""
             }
            },
            "type": "scattergeo"
           }
          ],
          "scattergl": [
           {
            "marker": {
             "line": {
              "color": "#283442"
             }
            },
            "type": "scattergl"
           }
          ],
          "scattermapbox": [
           {
            "marker": {
             "colorbar": {
              "outlinewidth": 0,
              "ticks": ""
             }
            },
            "type": "scattermapbox"
           }
          ],
          "scatterpolar": [
           {
            "marker": {
             "colorbar": {
              "outlinewidth": 0,
              "ticks": ""
             }
            },
            "type": "scatterpolar"
           }
          ],
          "scatterpolargl": [
           {
            "marker": {
             "colorbar": {
              "outlinewidth": 0,
              "ticks": ""
             }
            },
            "type": "scatterpolargl"
           }
          ],
          "scatterternary": [
           {
            "marker": {
             "colorbar": {
              "outlinewidth": 0,
              "ticks": ""
             }
            },
            "type": "scatterternary"
           }
          ],
          "surface": [
           {
            "colorbar": {
             "outlinewidth": 0,
             "ticks": ""
            },
            "colorscale": [
             [
              0,
              "#0d0887"
             ],
             [
              0.1111111111111111,
              "#46039f"
             ],
             [
              0.2222222222222222,
              "#7201a8"
             ],
             [
              0.3333333333333333,
              "#9c179e"
             ],
             [
              0.4444444444444444,
              "#bd3786"
             ],
             [
              0.5555555555555556,
              "#d8576b"
             ],
             [
              0.6666666666666666,
              "#ed7953"
             ],
             [
              0.7777777777777778,
              "#fb9f3a"
             ],
             [
              0.8888888888888888,
              "#fdca26"
             ],
             [
              1,
              "#f0f921"
             ]
            ],
            "type": "surface"
           }
          ],
          "table": [
           {
            "cells": {
             "fill": {
              "color": "#506784"
             },
             "line": {
              "color": "rgb(17,17,17)"
             }
            },
            "header": {
             "fill": {
              "color": "#2a3f5f"
             },
             "line": {
              "color": "rgb(17,17,17)"
             }
            },
            "type": "table"
           }
          ]
         },
         "layout": {
          "annotationdefaults": {
           "arrowcolor": "#f2f5fa",
           "arrowhead": 0,
           "arrowwidth": 1
          },
          "autotypenumbers": "strict",
          "coloraxis": {
           "colorbar": {
            "outlinewidth": 0,
            "ticks": ""
           }
          },
          "colorscale": {
           "diverging": [
            [
             0,
             "#8e0152"
            ],
            [
             0.1,
             "#c51b7d"
            ],
            [
             0.2,
             "#de77ae"
            ],
            [
             0.3,
             "#f1b6da"
            ],
            [
             0.4,
             "#fde0ef"
            ],
            [
             0.5,
             "#f7f7f7"
            ],
            [
             0.6,
             "#e6f5d0"
            ],
            [
             0.7,
             "#b8e186"
            ],
            [
             0.8,
             "#7fbc41"
            ],
            [
             0.9,
             "#4d9221"
            ],
            [
             1,
             "#276419"
            ]
           ],
           "sequential": [
            [
             0,
             "#0d0887"
            ],
            [
             0.1111111111111111,
             "#46039f"
            ],
            [
             0.2222222222222222,
             "#7201a8"
            ],
            [
             0.3333333333333333,
             "#9c179e"
            ],
            [
             0.4444444444444444,
             "#bd3786"
            ],
            [
             0.5555555555555556,
             "#d8576b"
            ],
            [
             0.6666666666666666,
             "#ed7953"
            ],
            [
             0.7777777777777778,
             "#fb9f3a"
            ],
            [
             0.8888888888888888,
             "#fdca26"
            ],
            [
             1,
             "#f0f921"
            ]
           ],
           "sequentialminus": [
            [
             0,
             "#0d0887"
            ],
            [
             0.1111111111111111,
             "#46039f"
            ],
            [
             0.2222222222222222,
             "#7201a8"
            ],
            [
             0.3333333333333333,
             "#9c179e"
            ],
            [
             0.4444444444444444,
             "#bd3786"
            ],
            [
             0.5555555555555556,
             "#d8576b"
            ],
            [
             0.6666666666666666,
             "#ed7953"
            ],
            [
             0.7777777777777778,
             "#fb9f3a"
            ],
            [
             0.8888888888888888,
             "#fdca26"
            ],
            [
             1,
             "#f0f921"
            ]
           ]
          },
          "colorway": [
           "#636efa",
           "#EF553B",
           "#00cc96",
           "#ab63fa",
           "#FFA15A",
           "#19d3f3",
           "#FF6692",
           "#B6E880",
           "#FF97FF",
           "#FECB52"
          ],
          "font": {
           "color": "#f2f5fa"
          },
          "geo": {
           "bgcolor": "rgb(17,17,17)",
           "lakecolor": "rgb(17,17,17)",
           "landcolor": "rgb(17,17,17)",
           "showlakes": true,
           "showland": true,
           "subunitcolor": "#506784"
          },
          "hoverlabel": {
           "align": "left"
          },
          "hovermode": "closest",
          "mapbox": {
           "style": "dark"
          },
          "paper_bgcolor": "rgb(17,17,17)",
          "plot_bgcolor": "rgb(17,17,17)",
          "polar": {
           "angularaxis": {
            "gridcolor": "#506784",
            "linecolor": "#506784",
            "ticks": ""
           },
           "bgcolor": "rgb(17,17,17)",
           "radialaxis": {
            "gridcolor": "#506784",
            "linecolor": "#506784",
            "ticks": ""
           }
          },
          "scene": {
           "xaxis": {
            "backgroundcolor": "rgb(17,17,17)",
            "gridcolor": "#506784",
            "gridwidth": 2,
            "linecolor": "#506784",
            "showbackground": true,
            "ticks": "",
            "zerolinecolor": "#C8D4E3"
           },
           "yaxis": {
            "backgroundcolor": "rgb(17,17,17)",
            "gridcolor": "#506784",
            "gridwidth": 2,
            "linecolor": "#506784",
            "showbackground": true,
            "ticks": "",
            "zerolinecolor": "#C8D4E3"
           },
           "zaxis": {
            "backgroundcolor": "rgb(17,17,17)",
            "gridcolor": "#506784",
            "gridwidth": 2,
            "linecolor": "#506784",
            "showbackground": true,
            "ticks": "",
            "zerolinecolor": "#C8D4E3"
           }
          },
          "shapedefaults": {
           "line": {
            "color": "#f2f5fa"
           }
          },
          "sliderdefaults": {
           "bgcolor": "#C8D4E3",
           "bordercolor": "rgb(17,17,17)",
           "borderwidth": 1,
           "tickwidth": 0
          },
          "ternary": {
           "aaxis": {
            "gridcolor": "#506784",
            "linecolor": "#506784",
            "ticks": ""
           },
           "baxis": {
            "gridcolor": "#506784",
            "linecolor": "#506784",
            "ticks": ""
           },
           "bgcolor": "rgb(17,17,17)",
           "caxis": {
            "gridcolor": "#506784",
            "linecolor": "#506784",
            "ticks": ""
           }
          },
          "title": {
           "x": 0.05
          },
          "updatemenudefaults": {
           "bgcolor": "#506784",
           "borderwidth": 0
          },
          "xaxis": {
           "automargin": true,
           "gridcolor": "#283442",
           "linecolor": "#506784",
           "ticks": "",
           "title": {
            "standoff": 15
           },
           "zerolinecolor": "#283442",
           "zerolinewidth": 2
          },
          "yaxis": {
           "automargin": true,
           "gridcolor": "#283442",
           "linecolor": "#506784",
           "ticks": "",
           "title": {
            "standoff": 15
           },
           "zerolinecolor": "#283442",
           "zerolinewidth": 2
          }
         }
        },
        "title": {
         "text": "Recall",
         "x": 0.5,
         "xanchor": "center"
        },
        "width": 400,
        "xaxis": {
         "anchor": "y",
         "domain": [
          0,
          1
         ],
         "title": {
          "font": {
           "color": "lightgrey"
          },
          "text": "Moving Averages"
         }
        },
        "yaxis": {
         "anchor": "x",
         "domain": [
          0,
          1
         ],
         "title": {
          "text": ""
         }
        }
       }
      }
     },
     "metadata": {},
     "output_type": "display_data"
    },
    {
     "data": {
      "application/vnd.plotly.v1+json": {
       "config": {
        "plotlyServerURL": "https://plot.ly"
       },
       "data": [
        {
         "error_y": {
          "array": [
           0.048992301415307415,
           0.039645257820459134,
           0.033999854522990036,
           0.027660967543835846,
           0.01940003618453534,
           0.013644686787681826
          ],
          "arrayminus": [
           0.04903846781546195,
           0.0544227900040527,
           0.03922340462991736,
           0.031612150986500165,
           0.0348251018935849,
           0.036636327463198226
          ]
         },
         "hovertemplate": "SC=1<br>MA=%{x}<br>F1_mean=%{y}<extra></extra>",
         "legendgroup": "1",
         "marker": {
          "color": "#636efa",
          "symbol": "circle"
         },
         "mode": "markers",
         "name": "1",
         "orientation": "v",
         "showlegend": true,
         "type": "scatter",
         "x": [
          1,
          2,
          3,
          4,
          5,
          6
         ],
         "xaxis": "x",
         "y": [
          0.7798076985846926,
          0.8070001095916816,
          0.8231430026198671,
          0.8376322178761324,
          0.8354895537208274,
          0.843945297562866
         ],
         "yaxis": "y"
        },
        {
         "error_y": {
          "array": [
           0.05139242779847186,
           0.040506594115523153,
           0.03426944632367124,
           0.024899758635288927,
           0.018251820399477037,
           0.01243348969205349
          ],
          "arrayminus": [
           0.049184575685848664,
           0.051716086296848096,
           0.039023620903219536,
           0.03318414975131612,
           0.03593686199506907,
           0.03784494528640514
          ]
         },
         "hovertemplate": "SC=3<br>MA=%{x}<br>F1_mean=%{y}<extra></extra>",
         "legendgroup": "3",
         "marker": {
          "color": "#EF553B",
          "symbol": "circle"
         },
         "mode": "markers",
         "name": "3",
         "orientation": "v",
         "showlegend": true,
         "type": "scatter",
         "x": [
          1,
          2,
          3,
          4,
          5,
          6
         ],
         "xaxis": "x",
         "y": [
          0.7774075722015281,
          0.804293405884477,
          0.8188555536763288,
          0.835859735035597,
          0.8312779601647863,
          0.8424807068758091
         ],
         "yaxis": "y"
        }
       ],
       "layout": {
        "height": 300,
        "legend": {
         "title": {
          "text": "SC"
         },
         "tracegroupgap": 0
        },
        "margin": {
         "b": 50,
         "l": 30,
         "r": 30,
         "t": 50
        },
        "showlegend": false,
        "template": {
         "data": {
          "bar": [
           {
            "error_x": {
             "color": "#f2f5fa"
            },
            "error_y": {
             "color": "#f2f5fa"
            },
            "marker": {
             "line": {
              "color": "rgb(17,17,17)",
              "width": 0.5
             },
             "pattern": {
              "fillmode": "overlay",
              "size": 10,
              "solidity": 0.2
             }
            },
            "type": "bar"
           }
          ],
          "barpolar": [
           {
            "marker": {
             "line": {
              "color": "rgb(17,17,17)",
              "width": 0.5
             },
             "pattern": {
              "fillmode": "overlay",
              "size": 10,
              "solidity": 0.2
             }
            },
            "type": "barpolar"
           }
          ],
          "carpet": [
           {
            "aaxis": {
             "endlinecolor": "#A2B1C6",
             "gridcolor": "#506784",
             "linecolor": "#506784",
             "minorgridcolor": "#506784",
             "startlinecolor": "#A2B1C6"
            },
            "baxis": {
             "endlinecolor": "#A2B1C6",
             "gridcolor": "#506784",
             "linecolor": "#506784",
             "minorgridcolor": "#506784",
             "startlinecolor": "#A2B1C6"
            },
            "type": "carpet"
           }
          ],
          "choropleth": [
           {
            "colorbar": {
             "outlinewidth": 0,
             "ticks": ""
            },
            "type": "choropleth"
           }
          ],
          "contour": [
           {
            "colorbar": {
             "outlinewidth": 0,
             "ticks": ""
            },
            "colorscale": [
             [
              0,
              "#0d0887"
             ],
             [
              0.1111111111111111,
              "#46039f"
             ],
             [
              0.2222222222222222,
              "#7201a8"
             ],
             [
              0.3333333333333333,
              "#9c179e"
             ],
             [
              0.4444444444444444,
              "#bd3786"
             ],
             [
              0.5555555555555556,
              "#d8576b"
             ],
             [
              0.6666666666666666,
              "#ed7953"
             ],
             [
              0.7777777777777778,
              "#fb9f3a"
             ],
             [
              0.8888888888888888,
              "#fdca26"
             ],
             [
              1,
              "#f0f921"
             ]
            ],
            "type": "contour"
           }
          ],
          "contourcarpet": [
           {
            "colorbar": {
             "outlinewidth": 0,
             "ticks": ""
            },
            "type": "contourcarpet"
           }
          ],
          "heatmap": [
           {
            "colorbar": {
             "outlinewidth": 0,
             "ticks": ""
            },
            "colorscale": [
             [
              0,
              "#0d0887"
             ],
             [
              0.1111111111111111,
              "#46039f"
             ],
             [
              0.2222222222222222,
              "#7201a8"
             ],
             [
              0.3333333333333333,
              "#9c179e"
             ],
             [
              0.4444444444444444,
              "#bd3786"
             ],
             [
              0.5555555555555556,
              "#d8576b"
             ],
             [
              0.6666666666666666,
              "#ed7953"
             ],
             [
              0.7777777777777778,
              "#fb9f3a"
             ],
             [
              0.8888888888888888,
              "#fdca26"
             ],
             [
              1,
              "#f0f921"
             ]
            ],
            "type": "heatmap"
           }
          ],
          "heatmapgl": [
           {
            "colorbar": {
             "outlinewidth": 0,
             "ticks": ""
            },
            "colorscale": [
             [
              0,
              "#0d0887"
             ],
             [
              0.1111111111111111,
              "#46039f"
             ],
             [
              0.2222222222222222,
              "#7201a8"
             ],
             [
              0.3333333333333333,
              "#9c179e"
             ],
             [
              0.4444444444444444,
              "#bd3786"
             ],
             [
              0.5555555555555556,
              "#d8576b"
             ],
             [
              0.6666666666666666,
              "#ed7953"
             ],
             [
              0.7777777777777778,
              "#fb9f3a"
             ],
             [
              0.8888888888888888,
              "#fdca26"
             ],
             [
              1,
              "#f0f921"
             ]
            ],
            "type": "heatmapgl"
           }
          ],
          "histogram": [
           {
            "marker": {
             "pattern": {
              "fillmode": "overlay",
              "size": 10,
              "solidity": 0.2
             }
            },
            "type": "histogram"
           }
          ],
          "histogram2d": [
           {
            "colorbar": {
             "outlinewidth": 0,
             "ticks": ""
            },
            "colorscale": [
             [
              0,
              "#0d0887"
             ],
             [
              0.1111111111111111,
              "#46039f"
             ],
             [
              0.2222222222222222,
              "#7201a8"
             ],
             [
              0.3333333333333333,
              "#9c179e"
             ],
             [
              0.4444444444444444,
              "#bd3786"
             ],
             [
              0.5555555555555556,
              "#d8576b"
             ],
             [
              0.6666666666666666,
              "#ed7953"
             ],
             [
              0.7777777777777778,
              "#fb9f3a"
             ],
             [
              0.8888888888888888,
              "#fdca26"
             ],
             [
              1,
              "#f0f921"
             ]
            ],
            "type": "histogram2d"
           }
          ],
          "histogram2dcontour": [
           {
            "colorbar": {
             "outlinewidth": 0,
             "ticks": ""
            },
            "colorscale": [
             [
              0,
              "#0d0887"
             ],
             [
              0.1111111111111111,
              "#46039f"
             ],
             [
              0.2222222222222222,
              "#7201a8"
             ],
             [
              0.3333333333333333,
              "#9c179e"
             ],
             [
              0.4444444444444444,
              "#bd3786"
             ],
             [
              0.5555555555555556,
              "#d8576b"
             ],
             [
              0.6666666666666666,
              "#ed7953"
             ],
             [
              0.7777777777777778,
              "#fb9f3a"
             ],
             [
              0.8888888888888888,
              "#fdca26"
             ],
             [
              1,
              "#f0f921"
             ]
            ],
            "type": "histogram2dcontour"
           }
          ],
          "mesh3d": [
           {
            "colorbar": {
             "outlinewidth": 0,
             "ticks": ""
            },
            "type": "mesh3d"
           }
          ],
          "parcoords": [
           {
            "line": {
             "colorbar": {
              "outlinewidth": 0,
              "ticks": ""
             }
            },
            "type": "parcoords"
           }
          ],
          "pie": [
           {
            "automargin": true,
            "type": "pie"
           }
          ],
          "scatter": [
           {
            "marker": {
             "line": {
              "color": "#283442"
             }
            },
            "type": "scatter"
           }
          ],
          "scatter3d": [
           {
            "line": {
             "colorbar": {
              "outlinewidth": 0,
              "ticks": ""
             }
            },
            "marker": {
             "colorbar": {
              "outlinewidth": 0,
              "ticks": ""
             }
            },
            "type": "scatter3d"
           }
          ],
          "scattercarpet": [
           {
            "marker": {
             "colorbar": {
              "outlinewidth": 0,
              "ticks": ""
             }
            },
            "type": "scattercarpet"
           }
          ],
          "scattergeo": [
           {
            "marker": {
             "colorbar": {
              "outlinewidth": 0,
              "ticks": ""
             }
            },
            "type": "scattergeo"
           }
          ],
          "scattergl": [
           {
            "marker": {
             "line": {
              "color": "#283442"
             }
            },
            "type": "scattergl"
           }
          ],
          "scattermapbox": [
           {
            "marker": {
             "colorbar": {
              "outlinewidth": 0,
              "ticks": ""
             }
            },
            "type": "scattermapbox"
           }
          ],
          "scatterpolar": [
           {
            "marker": {
             "colorbar": {
              "outlinewidth": 0,
              "ticks": ""
             }
            },
            "type": "scatterpolar"
           }
          ],
          "scatterpolargl": [
           {
            "marker": {
             "colorbar": {
              "outlinewidth": 0,
              "ticks": ""
             }
            },
            "type": "scatterpolargl"
           }
          ],
          "scatterternary": [
           {
            "marker": {
             "colorbar": {
              "outlinewidth": 0,
              "ticks": ""
             }
            },
            "type": "scatterternary"
           }
          ],
          "surface": [
           {
            "colorbar": {
             "outlinewidth": 0,
             "ticks": ""
            },
            "colorscale": [
             [
              0,
              "#0d0887"
             ],
             [
              0.1111111111111111,
              "#46039f"
             ],
             [
              0.2222222222222222,
              "#7201a8"
             ],
             [
              0.3333333333333333,
              "#9c179e"
             ],
             [
              0.4444444444444444,
              "#bd3786"
             ],
             [
              0.5555555555555556,
              "#d8576b"
             ],
             [
              0.6666666666666666,
              "#ed7953"
             ],
             [
              0.7777777777777778,
              "#fb9f3a"
             ],
             [
              0.8888888888888888,
              "#fdca26"
             ],
             [
              1,
              "#f0f921"
             ]
            ],
            "type": "surface"
           }
          ],
          "table": [
           {
            "cells": {
             "fill": {
              "color": "#506784"
             },
             "line": {
              "color": "rgb(17,17,17)"
             }
            },
            "header": {
             "fill": {
              "color": "#2a3f5f"
             },
             "line": {
              "color": "rgb(17,17,17)"
             }
            },
            "type": "table"
           }
          ]
         },
         "layout": {
          "annotationdefaults": {
           "arrowcolor": "#f2f5fa",
           "arrowhead": 0,
           "arrowwidth": 1
          },
          "autotypenumbers": "strict",
          "coloraxis": {
           "colorbar": {
            "outlinewidth": 0,
            "ticks": ""
           }
          },
          "colorscale": {
           "diverging": [
            [
             0,
             "#8e0152"
            ],
            [
             0.1,
             "#c51b7d"
            ],
            [
             0.2,
             "#de77ae"
            ],
            [
             0.3,
             "#f1b6da"
            ],
            [
             0.4,
             "#fde0ef"
            ],
            [
             0.5,
             "#f7f7f7"
            ],
            [
             0.6,
             "#e6f5d0"
            ],
            [
             0.7,
             "#b8e186"
            ],
            [
             0.8,
             "#7fbc41"
            ],
            [
             0.9,
             "#4d9221"
            ],
            [
             1,
             "#276419"
            ]
           ],
           "sequential": [
            [
             0,
             "#0d0887"
            ],
            [
             0.1111111111111111,
             "#46039f"
            ],
            [
             0.2222222222222222,
             "#7201a8"
            ],
            [
             0.3333333333333333,
             "#9c179e"
            ],
            [
             0.4444444444444444,
             "#bd3786"
            ],
            [
             0.5555555555555556,
             "#d8576b"
            ],
            [
             0.6666666666666666,
             "#ed7953"
            ],
            [
             0.7777777777777778,
             "#fb9f3a"
            ],
            [
             0.8888888888888888,
             "#fdca26"
            ],
            [
             1,
             "#f0f921"
            ]
           ],
           "sequentialminus": [
            [
             0,
             "#0d0887"
            ],
            [
             0.1111111111111111,
             "#46039f"
            ],
            [
             0.2222222222222222,
             "#7201a8"
            ],
            [
             0.3333333333333333,
             "#9c179e"
            ],
            [
             0.4444444444444444,
             "#bd3786"
            ],
            [
             0.5555555555555556,
             "#d8576b"
            ],
            [
             0.6666666666666666,
             "#ed7953"
            ],
            [
             0.7777777777777778,
             "#fb9f3a"
            ],
            [
             0.8888888888888888,
             "#fdca26"
            ],
            [
             1,
             "#f0f921"
            ]
           ]
          },
          "colorway": [
           "#636efa",
           "#EF553B",
           "#00cc96",
           "#ab63fa",
           "#FFA15A",
           "#19d3f3",
           "#FF6692",
           "#B6E880",
           "#FF97FF",
           "#FECB52"
          ],
          "font": {
           "color": "#f2f5fa"
          },
          "geo": {
           "bgcolor": "rgb(17,17,17)",
           "lakecolor": "rgb(17,17,17)",
           "landcolor": "rgb(17,17,17)",
           "showlakes": true,
           "showland": true,
           "subunitcolor": "#506784"
          },
          "hoverlabel": {
           "align": "left"
          },
          "hovermode": "closest",
          "mapbox": {
           "style": "dark"
          },
          "paper_bgcolor": "rgb(17,17,17)",
          "plot_bgcolor": "rgb(17,17,17)",
          "polar": {
           "angularaxis": {
            "gridcolor": "#506784",
            "linecolor": "#506784",
            "ticks": ""
           },
           "bgcolor": "rgb(17,17,17)",
           "radialaxis": {
            "gridcolor": "#506784",
            "linecolor": "#506784",
            "ticks": ""
           }
          },
          "scene": {
           "xaxis": {
            "backgroundcolor": "rgb(17,17,17)",
            "gridcolor": "#506784",
            "gridwidth": 2,
            "linecolor": "#506784",
            "showbackground": true,
            "ticks": "",
            "zerolinecolor": "#C8D4E3"
           },
           "yaxis": {
            "backgroundcolor": "rgb(17,17,17)",
            "gridcolor": "#506784",
            "gridwidth": 2,
            "linecolor": "#506784",
            "showbackground": true,
            "ticks": "",
            "zerolinecolor": "#C8D4E3"
           },
           "zaxis": {
            "backgroundcolor": "rgb(17,17,17)",
            "gridcolor": "#506784",
            "gridwidth": 2,
            "linecolor": "#506784",
            "showbackground": true,
            "ticks": "",
            "zerolinecolor": "#C8D4E3"
           }
          },
          "shapedefaults": {
           "line": {
            "color": "#f2f5fa"
           }
          },
          "sliderdefaults": {
           "bgcolor": "#C8D4E3",
           "bordercolor": "rgb(17,17,17)",
           "borderwidth": 1,
           "tickwidth": 0
          },
          "ternary": {
           "aaxis": {
            "gridcolor": "#506784",
            "linecolor": "#506784",
            "ticks": ""
           },
           "baxis": {
            "gridcolor": "#506784",
            "linecolor": "#506784",
            "ticks": ""
           },
           "bgcolor": "rgb(17,17,17)",
           "caxis": {
            "gridcolor": "#506784",
            "linecolor": "#506784",
            "ticks": ""
           }
          },
          "title": {
           "x": 0.05
          },
          "updatemenudefaults": {
           "bgcolor": "#506784",
           "borderwidth": 0
          },
          "xaxis": {
           "automargin": true,
           "gridcolor": "#283442",
           "linecolor": "#506784",
           "ticks": "",
           "title": {
            "standoff": 15
           },
           "zerolinecolor": "#283442",
           "zerolinewidth": 2
          },
          "yaxis": {
           "automargin": true,
           "gridcolor": "#283442",
           "linecolor": "#506784",
           "ticks": "",
           "title": {
            "standoff": 15
           },
           "zerolinecolor": "#283442",
           "zerolinewidth": 2
          }
         }
        },
        "title": {
         "text": "F1 score",
         "x": 0.5,
         "xanchor": "center"
        },
        "width": 400,
        "xaxis": {
         "anchor": "y",
         "domain": [
          0,
          1
         ],
         "title": {
          "font": {
           "color": "lightgrey"
          },
          "text": "Moving Averages"
         }
        },
        "yaxis": {
         "anchor": "x",
         "domain": [
          0,
          1
         ],
         "title": {
          "text": ""
         }
        }
       }
      }
     },
     "metadata": {},
     "output_type": "display_data"
    },
    {
     "data": {
      "application/vnd.plotly.v1+json": {
       "config": {
        "plotlyServerURL": "https://plot.ly"
       },
       "data": [
        {
         "error_y": {
          "array": [
           0.04521098605707874,
           0.040507691199116014,
           0.02471570457314376,
           0.029640634377302577,
           0.020652435528617397,
           0.015112230178215502
          ],
          "arrayminus": [
           0.03759421751814962,
           0.06015403025699784,
           0.04839135575640041,
           0.031932695701285874,
           0.03632076684937491,
           0.023332457664062667
          ]
         },
         "hovertemplate": "SC=1<br>MA=%{x}<br>AUC_mean=%{y}<extra></extra>",
         "legendgroup": "1",
         "marker": {
          "color": "#636efa",
          "symbol": "circle"
         },
         "mode": "markers",
         "name": "1",
         "orientation": "v",
         "showlegend": true,
         "type": "scatter",
         "x": [
          1,
          2,
          3,
          4,
          5,
          6
         ],
         "xaxis": "x",
         "y": [
          0.6298060555243801,
          0.662639161947737,
          0.6839672986717931,
          0.7048077880885734,
          0.6921603540914013,
          0.6981809425125477
         ],
         "yaxis": "y"
        },
        {
         "error_y": {
          "array": [
           0.05086783949171003,
           0.044987736663609335,
           0.026051894916951035,
           0.029134849511761596,
           0.020660949514941906,
           0.017360084829444733
          ],
          "arrayminus": [
           0.0430484751946294,
           0.05413552325404303,
           0.03783879588505479,
           0.031204754942857238,
           0.028179945362538428,
           0.028031670562310707
          ]
         },
         "hovertemplate": "SC=3<br>MA=%{x}<br>AUC_mean=%{y}<extra></extra>",
         "legendgroup": "3",
         "marker": {
          "color": "#EF553B",
          "symbol": "circle"
         },
         "mode": "markers",
         "name": "3",
         "orientation": "v",
         "showlegend": true,
         "type": "scatter",
         "x": [
          1,
          2,
          3,
          4,
          5,
          6
         ],
         "xaxis": "x",
         "y": [
          0.6241492020897489,
          0.6566206549447822,
          0.670356634824912,
          0.6992160119785046,
          0.6745604957065033,
          0.6895468220774622
         ],
         "yaxis": "y"
        }
       ],
       "layout": {
        "height": 300,
        "legend": {
         "title": {
          "text": "SC"
         },
         "tracegroupgap": 0
        },
        "margin": {
         "b": 50,
         "l": 30,
         "r": 30,
         "t": 50
        },
        "showlegend": false,
        "template": {
         "data": {
          "bar": [
           {
            "error_x": {
             "color": "#f2f5fa"
            },
            "error_y": {
             "color": "#f2f5fa"
            },
            "marker": {
             "line": {
              "color": "rgb(17,17,17)",
              "width": 0.5
             },
             "pattern": {
              "fillmode": "overlay",
              "size": 10,
              "solidity": 0.2
             }
            },
            "type": "bar"
           }
          ],
          "barpolar": [
           {
            "marker": {
             "line": {
              "color": "rgb(17,17,17)",
              "width": 0.5
             },
             "pattern": {
              "fillmode": "overlay",
              "size": 10,
              "solidity": 0.2
             }
            },
            "type": "barpolar"
           }
          ],
          "carpet": [
           {
            "aaxis": {
             "endlinecolor": "#A2B1C6",
             "gridcolor": "#506784",
             "linecolor": "#506784",
             "minorgridcolor": "#506784",
             "startlinecolor": "#A2B1C6"
            },
            "baxis": {
             "endlinecolor": "#A2B1C6",
             "gridcolor": "#506784",
             "linecolor": "#506784",
             "minorgridcolor": "#506784",
             "startlinecolor": "#A2B1C6"
            },
            "type": "carpet"
           }
          ],
          "choropleth": [
           {
            "colorbar": {
             "outlinewidth": 0,
             "ticks": ""
            },
            "type": "choropleth"
           }
          ],
          "contour": [
           {
            "colorbar": {
             "outlinewidth": 0,
             "ticks": ""
            },
            "colorscale": [
             [
              0,
              "#0d0887"
             ],
             [
              0.1111111111111111,
              "#46039f"
             ],
             [
              0.2222222222222222,
              "#7201a8"
             ],
             [
              0.3333333333333333,
              "#9c179e"
             ],
             [
              0.4444444444444444,
              "#bd3786"
             ],
             [
              0.5555555555555556,
              "#d8576b"
             ],
             [
              0.6666666666666666,
              "#ed7953"
             ],
             [
              0.7777777777777778,
              "#fb9f3a"
             ],
             [
              0.8888888888888888,
              "#fdca26"
             ],
             [
              1,
              "#f0f921"
             ]
            ],
            "type": "contour"
           }
          ],
          "contourcarpet": [
           {
            "colorbar": {
             "outlinewidth": 0,
             "ticks": ""
            },
            "type": "contourcarpet"
           }
          ],
          "heatmap": [
           {
            "colorbar": {
             "outlinewidth": 0,
             "ticks": ""
            },
            "colorscale": [
             [
              0,
              "#0d0887"
             ],
             [
              0.1111111111111111,
              "#46039f"
             ],
             [
              0.2222222222222222,
              "#7201a8"
             ],
             [
              0.3333333333333333,
              "#9c179e"
             ],
             [
              0.4444444444444444,
              "#bd3786"
             ],
             [
              0.5555555555555556,
              "#d8576b"
             ],
             [
              0.6666666666666666,
              "#ed7953"
             ],
             [
              0.7777777777777778,
              "#fb9f3a"
             ],
             [
              0.8888888888888888,
              "#fdca26"
             ],
             [
              1,
              "#f0f921"
             ]
            ],
            "type": "heatmap"
           }
          ],
          "heatmapgl": [
           {
            "colorbar": {
             "outlinewidth": 0,
             "ticks": ""
            },
            "colorscale": [
             [
              0,
              "#0d0887"
             ],
             [
              0.1111111111111111,
              "#46039f"
             ],
             [
              0.2222222222222222,
              "#7201a8"
             ],
             [
              0.3333333333333333,
              "#9c179e"
             ],
             [
              0.4444444444444444,
              "#bd3786"
             ],
             [
              0.5555555555555556,
              "#d8576b"
             ],
             [
              0.6666666666666666,
              "#ed7953"
             ],
             [
              0.7777777777777778,
              "#fb9f3a"
             ],
             [
              0.8888888888888888,
              "#fdca26"
             ],
             [
              1,
              "#f0f921"
             ]
            ],
            "type": "heatmapgl"
           }
          ],
          "histogram": [
           {
            "marker": {
             "pattern": {
              "fillmode": "overlay",
              "size": 10,
              "solidity": 0.2
             }
            },
            "type": "histogram"
           }
          ],
          "histogram2d": [
           {
            "colorbar": {
             "outlinewidth": 0,
             "ticks": ""
            },
            "colorscale": [
             [
              0,
              "#0d0887"
             ],
             [
              0.1111111111111111,
              "#46039f"
             ],
             [
              0.2222222222222222,
              "#7201a8"
             ],
             [
              0.3333333333333333,
              "#9c179e"
             ],
             [
              0.4444444444444444,
              "#bd3786"
             ],
             [
              0.5555555555555556,
              "#d8576b"
             ],
             [
              0.6666666666666666,
              "#ed7953"
             ],
             [
              0.7777777777777778,
              "#fb9f3a"
             ],
             [
              0.8888888888888888,
              "#fdca26"
             ],
             [
              1,
              "#f0f921"
             ]
            ],
            "type": "histogram2d"
           }
          ],
          "histogram2dcontour": [
           {
            "colorbar": {
             "outlinewidth": 0,
             "ticks": ""
            },
            "colorscale": [
             [
              0,
              "#0d0887"
             ],
             [
              0.1111111111111111,
              "#46039f"
             ],
             [
              0.2222222222222222,
              "#7201a8"
             ],
             [
              0.3333333333333333,
              "#9c179e"
             ],
             [
              0.4444444444444444,
              "#bd3786"
             ],
             [
              0.5555555555555556,
              "#d8576b"
             ],
             [
              0.6666666666666666,
              "#ed7953"
             ],
             [
              0.7777777777777778,
              "#fb9f3a"
             ],
             [
              0.8888888888888888,
              "#fdca26"
             ],
             [
              1,
              "#f0f921"
             ]
            ],
            "type": "histogram2dcontour"
           }
          ],
          "mesh3d": [
           {
            "colorbar": {
             "outlinewidth": 0,
             "ticks": ""
            },
            "type": "mesh3d"
           }
          ],
          "parcoords": [
           {
            "line": {
             "colorbar": {
              "outlinewidth": 0,
              "ticks": ""
             }
            },
            "type": "parcoords"
           }
          ],
          "pie": [
           {
            "automargin": true,
            "type": "pie"
           }
          ],
          "scatter": [
           {
            "marker": {
             "line": {
              "color": "#283442"
             }
            },
            "type": "scatter"
           }
          ],
          "scatter3d": [
           {
            "line": {
             "colorbar": {
              "outlinewidth": 0,
              "ticks": ""
             }
            },
            "marker": {
             "colorbar": {
              "outlinewidth": 0,
              "ticks": ""
             }
            },
            "type": "scatter3d"
           }
          ],
          "scattercarpet": [
           {
            "marker": {
             "colorbar": {
              "outlinewidth": 0,
              "ticks": ""
             }
            },
            "type": "scattercarpet"
           }
          ],
          "scattergeo": [
           {
            "marker": {
             "colorbar": {
              "outlinewidth": 0,
              "ticks": ""
             }
            },
            "type": "scattergeo"
           }
          ],
          "scattergl": [
           {
            "marker": {
             "line": {
              "color": "#283442"
             }
            },
            "type": "scattergl"
           }
          ],
          "scattermapbox": [
           {
            "marker": {
             "colorbar": {
              "outlinewidth": 0,
              "ticks": ""
             }
            },
            "type": "scattermapbox"
           }
          ],
          "scatterpolar": [
           {
            "marker": {
             "colorbar": {
              "outlinewidth": 0,
              "ticks": ""
             }
            },
            "type": "scatterpolar"
           }
          ],
          "scatterpolargl": [
           {
            "marker": {
             "colorbar": {
              "outlinewidth": 0,
              "ticks": ""
             }
            },
            "type": "scatterpolargl"
           }
          ],
          "scatterternary": [
           {
            "marker": {
             "colorbar": {
              "outlinewidth": 0,
              "ticks": ""
             }
            },
            "type": "scatterternary"
           }
          ],
          "surface": [
           {
            "colorbar": {
             "outlinewidth": 0,
             "ticks": ""
            },
            "colorscale": [
             [
              0,
              "#0d0887"
             ],
             [
              0.1111111111111111,
              "#46039f"
             ],
             [
              0.2222222222222222,
              "#7201a8"
             ],
             [
              0.3333333333333333,
              "#9c179e"
             ],
             [
              0.4444444444444444,
              "#bd3786"
             ],
             [
              0.5555555555555556,
              "#d8576b"
             ],
             [
              0.6666666666666666,
              "#ed7953"
             ],
             [
              0.7777777777777778,
              "#fb9f3a"
             ],
             [
              0.8888888888888888,
              "#fdca26"
             ],
             [
              1,
              "#f0f921"
             ]
            ],
            "type": "surface"
           }
          ],
          "table": [
           {
            "cells": {
             "fill": {
              "color": "#506784"
             },
             "line": {
              "color": "rgb(17,17,17)"
             }
            },
            "header": {
             "fill": {
              "color": "#2a3f5f"
             },
             "line": {
              "color": "rgb(17,17,17)"
             }
            },
            "type": "table"
           }
          ]
         },
         "layout": {
          "annotationdefaults": {
           "arrowcolor": "#f2f5fa",
           "arrowhead": 0,
           "arrowwidth": 1
          },
          "autotypenumbers": "strict",
          "coloraxis": {
           "colorbar": {
            "outlinewidth": 0,
            "ticks": ""
           }
          },
          "colorscale": {
           "diverging": [
            [
             0,
             "#8e0152"
            ],
            [
             0.1,
             "#c51b7d"
            ],
            [
             0.2,
             "#de77ae"
            ],
            [
             0.3,
             "#f1b6da"
            ],
            [
             0.4,
             "#fde0ef"
            ],
            [
             0.5,
             "#f7f7f7"
            ],
            [
             0.6,
             "#e6f5d0"
            ],
            [
             0.7,
             "#b8e186"
            ],
            [
             0.8,
             "#7fbc41"
            ],
            [
             0.9,
             "#4d9221"
            ],
            [
             1,
             "#276419"
            ]
           ],
           "sequential": [
            [
             0,
             "#0d0887"
            ],
            [
             0.1111111111111111,
             "#46039f"
            ],
            [
             0.2222222222222222,
             "#7201a8"
            ],
            [
             0.3333333333333333,
             "#9c179e"
            ],
            [
             0.4444444444444444,
             "#bd3786"
            ],
            [
             0.5555555555555556,
             "#d8576b"
            ],
            [
             0.6666666666666666,
             "#ed7953"
            ],
            [
             0.7777777777777778,
             "#fb9f3a"
            ],
            [
             0.8888888888888888,
             "#fdca26"
            ],
            [
             1,
             "#f0f921"
            ]
           ],
           "sequentialminus": [
            [
             0,
             "#0d0887"
            ],
            [
             0.1111111111111111,
             "#46039f"
            ],
            [
             0.2222222222222222,
             "#7201a8"
            ],
            [
             0.3333333333333333,
             "#9c179e"
            ],
            [
             0.4444444444444444,
             "#bd3786"
            ],
            [
             0.5555555555555556,
             "#d8576b"
            ],
            [
             0.6666666666666666,
             "#ed7953"
            ],
            [
             0.7777777777777778,
             "#fb9f3a"
            ],
            [
             0.8888888888888888,
             "#fdca26"
            ],
            [
             1,
             "#f0f921"
            ]
           ]
          },
          "colorway": [
           "#636efa",
           "#EF553B",
           "#00cc96",
           "#ab63fa",
           "#FFA15A",
           "#19d3f3",
           "#FF6692",
           "#B6E880",
           "#FF97FF",
           "#FECB52"
          ],
          "font": {
           "color": "#f2f5fa"
          },
          "geo": {
           "bgcolor": "rgb(17,17,17)",
           "lakecolor": "rgb(17,17,17)",
           "landcolor": "rgb(17,17,17)",
           "showlakes": true,
           "showland": true,
           "subunitcolor": "#506784"
          },
          "hoverlabel": {
           "align": "left"
          },
          "hovermode": "closest",
          "mapbox": {
           "style": "dark"
          },
          "paper_bgcolor": "rgb(17,17,17)",
          "plot_bgcolor": "rgb(17,17,17)",
          "polar": {
           "angularaxis": {
            "gridcolor": "#506784",
            "linecolor": "#506784",
            "ticks": ""
           },
           "bgcolor": "rgb(17,17,17)",
           "radialaxis": {
            "gridcolor": "#506784",
            "linecolor": "#506784",
            "ticks": ""
           }
          },
          "scene": {
           "xaxis": {
            "backgroundcolor": "rgb(17,17,17)",
            "gridcolor": "#506784",
            "gridwidth": 2,
            "linecolor": "#506784",
            "showbackground": true,
            "ticks": "",
            "zerolinecolor": "#C8D4E3"
           },
           "yaxis": {
            "backgroundcolor": "rgb(17,17,17)",
            "gridcolor": "#506784",
            "gridwidth": 2,
            "linecolor": "#506784",
            "showbackground": true,
            "ticks": "",
            "zerolinecolor": "#C8D4E3"
           },
           "zaxis": {
            "backgroundcolor": "rgb(17,17,17)",
            "gridcolor": "#506784",
            "gridwidth": 2,
            "linecolor": "#506784",
            "showbackground": true,
            "ticks": "",
            "zerolinecolor": "#C8D4E3"
           }
          },
          "shapedefaults": {
           "line": {
            "color": "#f2f5fa"
           }
          },
          "sliderdefaults": {
           "bgcolor": "#C8D4E3",
           "bordercolor": "rgb(17,17,17)",
           "borderwidth": 1,
           "tickwidth": 0
          },
          "ternary": {
           "aaxis": {
            "gridcolor": "#506784",
            "linecolor": "#506784",
            "ticks": ""
           },
           "baxis": {
            "gridcolor": "#506784",
            "linecolor": "#506784",
            "ticks": ""
           },
           "bgcolor": "rgb(17,17,17)",
           "caxis": {
            "gridcolor": "#506784",
            "linecolor": "#506784",
            "ticks": ""
           }
          },
          "title": {
           "x": 0.05
          },
          "updatemenudefaults": {
           "bgcolor": "#506784",
           "borderwidth": 0
          },
          "xaxis": {
           "automargin": true,
           "gridcolor": "#283442",
           "linecolor": "#506784",
           "ticks": "",
           "title": {
            "standoff": 15
           },
           "zerolinecolor": "#283442",
           "zerolinewidth": 2
          },
          "yaxis": {
           "automargin": true,
           "gridcolor": "#283442",
           "linecolor": "#506784",
           "ticks": "",
           "title": {
            "standoff": 15
           },
           "zerolinecolor": "#283442",
           "zerolinewidth": 2
          }
         }
        },
        "title": {
         "text": "Area Under ROC Curve",
         "x": 0.5,
         "xanchor": "center"
        },
        "width": 400,
        "xaxis": {
         "anchor": "y",
         "domain": [
          0,
          1
         ],
         "title": {
          "font": {
           "color": "lightgrey"
          },
          "text": "Moving Averages"
         }
        },
        "yaxis": {
         "anchor": "x",
         "domain": [
          0,
          1
         ],
         "title": {
          "text": ""
         }
        }
       }
      }
     },
     "metadata": {},
     "output_type": "display_data"
    }
   ],
   "source": [
    "for i in range(len(figs)):\n",
    "    figs[i].show()"
   ]
  },
  {
   "cell_type": "code",
   "execution_count": 10,
   "metadata": {},
   "outputs": [],
   "source": [
    "sc_opts = test.sc_opts\n",
    "colors = ['#636EFA', '#EF553B', '#00CC96', '#AB63FA', '#FFA15A', '#19D3F3', '#FF6692', '#B6E880', '#FF97FF', '#FECB52']"
   ]
  },
  {
   "cell_type": "code",
   "execution_count": 11,
   "metadata": {},
   "outputs": [
    {
     "data": {
      "text/html": [
       "\n",
       "        <iframe\n",
       "            width=\"100%\"\n",
       "            height=\"650\"\n",
       "            src=\"http://127.0.0.1:8050/\"\n",
       "            frameborder=\"0\"\n",
       "            allowfullscreen\n",
       "            \n",
       "        ></iframe>\n",
       "        "
      ],
      "text/plain": [
       "<IPython.lib.display.IFrame at 0x184917fa950>"
      ]
     },
     "metadata": {},
     "output_type": "display_data"
    }
   ],
   "source": [
    "app = dash.Dash(__name__)\n",
    "\n",
    "# Sep up each component\n",
    "legends = dmc.ChipGroup(\n",
    "    id={'func': 'compare_perf', 'obj': 'legend'},\n",
    "    children=[\n",
    "        dmc.Chip(\n",
    "            children=str(sc),\n",
    "            value=str(sc),\n",
    "            variant=\"outline\", \n",
    "            color=colors[i]\n",
    "            ) for i, sc in enumerate(sc_opts)\n",
    "    ],\n",
    "    value=[str(sc) for sc in sc_opts],\n",
    "    multiple=True,\n",
    "    style={'display': 'flex', 'justifyContent': 'center'}\n",
    ")\n",
    "\n",
    "graphs = html.Div(\n",
    "    dbc.Row(\n",
    "        [\n",
    "            dbc.Col(\n",
    "                dbc.Card(\n",
    "                    dbc.CardBody([\n",
    "                        dcc.Graph(\n",
    "                            id={'func': 'compare_perf', 'obj': 'fig', 'id': str(i)},\n",
    "                            figure=fig,\n",
    "                        )\n",
    "                    ]),\n",
    "                    style={'margin': '5px'}\n",
    "                ),\n",
    "                width='auto'\n",
    "            ) for i, fig in enumerate(figs)\n",
    "        ],\n",
    "        style={'display': 'flex', 'overflowX': 'auto', 'width': '100%'},\n",
    "    ),\n",
    "    style={'maxWidth': '100vw'}\n",
    ")\n",
    "\n",
    "@app.callback(\n",
    "    output=Output({'func': 'compare_perf', 'obj': 'fig', 'id': ALL}, 'figure'),\n",
    "    inputs=Input({'func': 'compare_perf', 'obj': 'legend'}, 'value'),\n",
    "    state=State({'func': 'compare_perf', 'obj': 'fig', 'id': ALL}, 'figure')\n",
    ")\n",
    "def update_visibility(value, fig):\n",
    "    # Determine which input was triggered\n",
    "    triggered_id = ctx.triggered_id\n",
    "    if triggered_id:\n",
    "        # define output\n",
    "        outputs = []\n",
    "        # get the checked value as set \n",
    "        checked = set(value)\n",
    "        # traversing all figure data\n",
    "        for f in fig:\n",
    "            # define patch\n",
    "            p = Patch()\n",
    "            for i in range(len(f['data'])):\n",
    "                p['data'][i].update({'visible': f['data'][i]['name'] in checked})\n",
    "            \n",
    "            outputs.append(p)\n",
    "        \n",
    "        return outputs\n",
    "    \n",
    "    else:\n",
    "        return no_update\n",
    "\n",
    "\n",
    "# Set up the Dash app layout \n",
    "app.layout = html.Div([\n",
    "    legends, graphs\n",
    "])\n",
    "\n",
    "if __name__ == '__main__':\n",
    "    app.run_server(debug=True)"
   ]
  },
  {
   "cell_type": "code",
   "execution_count": null,
   "metadata": {},
   "outputs": [],
   "source": []
  },
  {
   "cell_type": "code",
   "execution_count": 74,
   "metadata": {},
   "outputs": [
    {
     "data": {
      "application/vnd.plotly.v1+json": {
       "config": {
        "plotlyServerURL": "https://plot.ly"
       },
       "data": [
        {
         "error_y": {
          "array": [
           0.07605841380432687,
           0.05782549238183188,
           0.041208128236331465,
           0.04224413526187465,
           0.016461195935890793,
           0.02074835580196266
          ],
          "arrayminus": [
           0.07815621280993479,
           0.09136020236766051,
           0.07389276649049126,
           0.04780800113172523,
           0.03525092709666955,
           0.015598775643207996
          ]
         },
         "hovertemplate": "SC=1<br>MA=%{x}<br>ACC_mean=%{y}<extra></extra>",
         "legendgroup": "1",
         "marker": {
          "color": "#636efa",
          "symbol": "circle"
         },
         "mode": "markers",
         "name": "1",
         "orientation": "v",
         "showlegend": true,
         "type": "scatter",
         "x": [
          1,
          2,
          3,
          4,
          5,
          6
         ],
         "xaxis": "x",
         "y": [
          0.6474992785033655,
          0.6879372194825749,
          0.7185006096277462,
          0.7406826940064181,
          0.7347583162592312,
          0.7390555657666648
         ],
         "yaxis": "y"
        },
        {
         "error_y": {
          "array": [
           0.07567333641985885,
           0.05661681668136109,
           0.03877995951059343,
           0.04264866600621142,
           0.01686671093994574,
           0.022789879956951586
          ],
          "arrayminus": [
           0.07857053406488756,
           0.090147570562078,
           0.07389375075020987,
           0.04740347038738846,
           0.0348454120926146,
           0.015062822099480733
          ]
         },
         "hovertemplate": "SC=6<br>MA=%{x}<br>ACC_mean=%{y}<extra></extra>",
         "legendgroup": "6",
         "marker": {
          "color": "#EF553B",
          "symbol": "circle"
         },
         "mode": "markers",
         "name": "6",
         "orientation": "v",
         "showlegend": true,
         "type": "scatter",
         "x": [
          1,
          2,
          3,
          4,
          5,
          6
         ],
         "xaxis": "x",
         "y": [
          0.6454805097339873,
          0.6867245876769923,
          0.7185015938874648,
          0.7402781632620815,
          0.734352801255176,
          0.7370140416116758
         ],
         "yaxis": "y"
        },
        {
         "error_y": {
          "array": [
           0.07447626846169308,
           0.05541206855639802,
           0.039187457473103704,
           0.04223920439596507,
           0.01768174591421412,
           0.022789879956951586
          ],
          "arrayminus": [
           0.07736375586920718,
           0.08893101118098778,
           0.0734862527876996,
           0.045373907607390906,
           0.03527391911041644,
           0.015062822099480733
          ]
         },
         "hovertemplate": "SC=12<br>MA=%{x}<br>ACC_mean=%{y}<extra></extra>",
         "legendgroup": "12",
         "marker": {
          "color": "#00cc96",
          "symbol": "circle"
         },
         "mode": "markers",
         "name": "12",
         "orientation": "v",
         "showlegend": true,
         "type": "scatter",
         "x": [
          1,
          2,
          3,
          4,
          5,
          6
         ],
         "xaxis": "x",
         "y": [
          0.6442737315383069,
          0.6855080282959021,
          0.7180940959249545,
          0.7382486004820837,
          0.7323182540857859,
          0.7370140416116758
         ],
         "yaxis": "y"
        },
        {
         "error_y": {
          "array": [
           0.03293216699863255,
           0.026775263984382902,
           0.014412281252217718,
           0.019299038536277013,
           0.014430818921292943,
           0.010011680376088128
          ],
          "arrayminus": [
           0.04040912020226883,
           0.05270987401986338,
           0.029488107990528256,
           0.015206816871872975,
           0.0069255743939034,
           0.00830197116030229
          ]
         },
         "hovertemplate": "SC=1<br>MA=%{x}<br>PRE_mean=%{y}<extra></extra>",
         "legendgroup": "1",
         "marker": {
          "color": "#636efa",
          "symbol": "circle"
         },
         "mode": "markers",
         "name": "1",
         "orientation": "v",
         "showlegend": false,
         "type": "scatter",
         "x": [
          1,
          2,
          3,
          4,
          5,
          6
         ],
         "xaxis": "x2",
         "y": [
          0.7957282691384391,
          0.8235432073531967,
          0.8454603302127505,
          0.8576725702965305,
          0.8533111165625781,
          0.8596951600147914
         ],
         "yaxis": "y2"
        },
        {
         "error_y": {
          "array": [
           0.03226181301864528,
           0.025445226713165736,
           0.015223001291529425,
           0.019752497189092555,
           0.014865558597491724,
           0.008290367811446764
          ],
          "arrayminus": [
           0.04117496682464861,
           0.0513404875725485,
           0.029122236803708734,
           0.014753358219057433,
           0.006490834717704619,
           0.00676595473471564
          ]
         },
         "hovertemplate": "SC=6<br>MA=%{x}<br>PRE_mean=%{y}<extra></extra>",
         "legendgroup": "6",
         "marker": {
          "color": "#EF553B",
          "symbol": "circle"
         },
         "mode": "markers",
         "name": "6",
         "orientation": "v",
         "showlegend": false,
         "type": "scatter",
         "x": [
          1,
          2,
          3,
          4,
          5,
          6
         ],
         "xaxis": "x2",
         "y": [
          0.7938251435030939,
          0.8221738209058819,
          0.8450944590259309,
          0.857219111643715,
          0.8528763768863793,
          0.8581591435892048
         ],
         "yaxis": "y2"
        },
        {
         "error_y": {
          "array": [
           0.03235290848627237,
           0.02597564772527461,
           0.01569308676161485,
           0.018880585803189853,
           0.016022341714449828,
           0.008290367811446764
          ],
          "arrayminus": [
           0.040542086174846226,
           0.050324776903175494,
           0.02865215133362331,
           0.012867497250140025,
           0.006601748651576034,
           0.00676595473471564
          ]
         },
         "hovertemplate": "SC=12<br>MA=%{x}<br>PRE_mean=%{y}<extra></extra>",
         "legendgroup": "12",
         "marker": {
          "color": "#00cc96",
          "symbol": "circle"
         },
         "mode": "markers",
         "name": "12",
         "orientation": "v",
         "showlegend": false,
         "type": "scatter",
         "x": [
          1,
          2,
          3,
          4,
          5,
          6
         ],
         "xaxis": "x2",
         "y": [
          0.7931922628532915,
          0.8211581102365089,
          0.8446243735558454,
          0.8553332506747976,
          0.8517195937694212,
          0.8581591435892048
         ],
         "yaxis": "y2"
        },
        {
         "error_y": {
          "array": [
           0.07846889616506691,
           0.05515710638338944,
           0.04594512649671556,
           0.04099629610887301,
           0.03458514880218344,
           0.03683393107056743
          ],
          "arrayminus": [
           0.07393062221117297,
           0.07479257010834317,
           0.07527959333106982,
           0.05314445675528412,
           0.04655649092746683,
           0.02513713090049463
          ]
         },
         "hovertemplate": "SC=1<br>MA=%{x}<br>REC_mean=%{y}<extra></extra>",
         "legendgroup": "1",
         "marker": {
          "color": "#636efa",
          "symbol": "circle"
         },
         "mode": "markers",
         "name": "1",
         "orientation": "v",
         "showlegend": false,
         "type": "scatter",
         "x": [
          1,
          2,
          3,
          4,
          5,
          6
         ],
         "xaxis": "x3",
         "y": [
          0.7374820240803318,
          0.7663813551550721,
          0.7939340275818344,
          0.8100675336783608,
          0.8118003933664912,
          0.8130159187792825
         ],
         "yaxis": "y3"
        },
        {
         "error_y": {
          "array": [
           0.07898649450875239,
           0.05515710638338944,
           0.04544007599166511,
           0.04099629610887301,
           0.0345821246299749,
           0.037834968181087336
          ],
          "arrayminus": [
           0.07341302386748749,
           0.07479257010834317,
           0.07578464383612027,
           0.05314445675528412,
           0.046559515099675375,
           0.024136093789974722
          ]
         },
         "hovertemplate": "SC=6<br>MA=%{x}<br>REC_mean=%{y}<extra></extra>",
         "legendgroup": "6",
         "marker": {
          "color": "#EF553B",
          "symbol": "circle"
         },
         "mode": "markers",
         "name": "6",
         "orientation": "v",
         "showlegend": false,
         "type": "scatter",
         "x": [
          1,
          2,
          3,
          4,
          5,
          6
         ],
         "xaxis": "x3",
         "y": [
          0.7369644257366463,
          0.7663813551550721,
          0.794439078086885,
          0.8100675336783608,
          0.8118034175386998,
          0.8120148816687626
         ],
         "yaxis": "y3"
        },
        {
         "error_y": {
          "array": [
           0.076943077802759,
           0.05259300381928689,
           0.04544007599166511,
           0.038463368044030166,
           0.03006254480919046,
           0.037834968181087336
          ],
          "arrayminus": [
           0.07238895591090422,
           0.07427974959552264,
           0.07578464383612027,
           0.05263787114231544,
           0.04505499853491768,
           0.024136093789974722
          ]
         },
         "hovertemplate": "SC=12<br>MA=%{x}<br>REC_mean=%{y}<extra></extra>",
         "legendgroup": "12",
         "marker": {
          "color": "#00cc96",
          "symbol": "circle"
         },
         "mode": "markers",
         "name": "12",
         "orientation": "v",
         "showlegend": false,
         "type": "scatter",
         "x": [
          1,
          2,
          3,
          4,
          5,
          6
         ],
         "xaxis": "x3",
         "y": [
          0.7359403577800632,
          0.7658685346422516,
          0.794439078086885,
          0.8095609480653924,
          0.8102989009739421,
          0.8120148816687626
         ],
         "yaxis": "y3"
        },
        {
         "error_y": {
          "array": [
           0.0570702457989829,
           0.04196720174343582,
           0.030269890756735585,
           0.02908568132627609,
           0.014599538775564747,
           0.01689336721645618
          ],
          "arrayminus": [
           0.0587186612884546,
           0.06464951002140595,
           0.05435742879890271,
           0.03552301541841241,
           0.027298823905930414,
           0.012731461211178408
          ]
         },
         "hovertemplate": "SC=1<br>MA=%{x}<br>F1_mean=%{y}<extra></extra>",
         "legendgroup": "1",
         "marker": {
          "color": "#636efa",
          "symbol": "circle"
         },
         "mode": "markers",
         "name": "1",
         "orientation": "v",
         "showlegend": false,
         "type": "scatter",
         "x": [
          1,
          2,
          3,
          4,
          5,
          6
         ],
         "xaxis": "x4",
         "y": [
          0.765186322979997,
          0.7937135494302728,
          0.8185850710753254,
          0.8329298225496927,
          0.8317860033931099,
          0.8355162713377607
         ],
         "yaxis": "y4"
        },
        {
         "error_y": {
          "array": [
           0.056959903285473845,
           0.04130193544106597,
           0.02889144211328254,
           0.029299521655590244,
           0.01482037021413185,
           0.01814756774618842
          ],
          "arrayminus": [
           0.05872973779048074,
           0.06400902515006679,
           0.05444189122005083,
           0.035309175089098255,
           0.02707799246736331,
           0.011477260681446166
          ]
         },
         "hovertemplate": "SC=6<br>MA=%{x}<br>F1_mean=%{y}<extra></extra>",
         "legendgroup": "6",
         "marker": {
          "color": "#EF553B",
          "symbol": "circle"
         },
         "mode": "markers",
         "name": "6",
         "orientation": "v",
         "showlegend": false,
         "type": "scatter",
         "x": [
          1,
          2,
          3,
          4,
          5,
          6
         ],
         "xaxis": "x4",
         "y": [
          0.7640277510355139,
          0.7930730645589338,
          0.8186695334964735,
          0.8327159822203787,
          0.8315651719545428,
          0.8342620708080285
         ],
         "yaxis": "y4"
        },
        {
         "error_y": {
          "array": [
           0.05595279346069315,
           0.04019704801967905,
           0.029105618743818562,
           0.02912759122283881,
           0.013445631481280196,
           0.01814756774618842
          ],
          "arrayminus": [
           0.057914571965062,
           0.06328977329132868,
           0.05422771458951481,
           0.0341467161969643,
           0.02705694818488058,
           0.011477260681446166
          ]
         },
         "hovertemplate": "SC=12<br>MA=%{x}<br>F1_mean=%{y}<extra></extra>",
         "legendgroup": "12",
         "marker": {
          "color": "#00cc96",
          "symbol": "circle"
         },
         "mode": "markers",
         "name": "12",
         "orientation": "v",
         "showlegend": false,
         "type": "scatter",
         "x": [
          1,
          2,
          3,
          4,
          5,
          6
         ],
         "xaxis": "x4",
         "y": [
          0.7632125852100952,
          0.7923538127001956,
          0.8184553568659375,
          0.8315535233282447,
          0.8302569481848804,
          0.8342620708080285
         ],
         "yaxis": "y4"
        },
        {
         "error_y": {
          "array": [
           0.07164185548994095,
           0.060722492585634114,
           0.034757640155958947,
           0.049234525843746435,
           0.034795219012169976,
           0.024593081228015623
          ],
          "arrayminus": [
           0.08233568147595682,
           0.11220689111477772,
           0.07056160736512351,
           0.03876735032886158,
           0.01579961298510102,
           0.017906888439172763
          ]
         },
         "hovertemplate": "SC=1<br>MA=%{x}<br>AUC_mean=%{y}<extra></extra>",
         "legendgroup": "1",
         "marker": {
          "color": "#636efa",
          "symbol": "circle"
         },
         "mode": "markers",
         "name": "1",
         "orientation": "v",
         "showlegend": false,
         "type": "scatter",
         "x": [
          1,
          2,
          3,
          4,
          5,
          6
         ],
         "xaxis": "x5",
         "y": [
          0.5307780490772028,
          0.5830012836381421,
          0.6027283306633452,
          0.6367410839123512,
          0.6099600257430747,
          0.6120635149451968
         ],
         "yaxis": "y5"
        },
        {
         "error_y": {
          "array": [
           0.07004880280993175,
           0.05788158349472505,
           0.03704907300294735,
           0.050250786006348025,
           0.035862082994441935,
           0.020249692431815514
          ],
          "arrayminus": [
           0.08392873415596597,
           0.10936598202386855,
           0.06978532603328669,
           0.03775109016625999,
           0.01473274900282906,
           0.014073036550579343
          ]
         },
         "hovertemplate": "SC=6<br>MA=%{x}<br>AUC_mean=%{y}<extra></extra>",
         "legendgroup": "6",
         "marker": {
          "color": "#EF553B",
          "symbol": "circle"
         },
         "mode": "markers",
         "name": "6",
         "orientation": "v",
         "showlegend": false,
         "type": "scatter",
         "x": [
          1,
          2,
          3,
          4,
          5,
          6
         ],
         "xaxis": "x5",
         "y": [
          0.5268155462016565,
          0.580160374547233,
          0.6019520493315084,
          0.6357248237497496,
          0.6088931617608028,
          0.6082296630566035
         ],
         "yaxis": "y5"
        },
        {
         "error_y": {
          "array": [
           0.069953020382861,
           0.05849347160661311,
           0.03807787958730957,
           0.048471558487629074,
           0.038751093413572746,
           0.020249692431815514
          ],
          "arrayminus": [
           0.08249077425174839,
           0.107215632373519,
           0.06875651944892447,
           0.03343275670936918,
           0.018253994993954747,
           0.014073036550579343
          ]
         },
         "hovertemplate": "SC=12<br>MA=%{x}<br>AUC_mean=%{y}<extra></extra>",
         "legendgroup": "12",
         "marker": {
          "color": "#00cc96",
          "symbol": "circle"
         },
         "mode": "markers",
         "name": "12",
         "orientation": "v",
         "showlegend": false,
         "type": "scatter",
         "x": [
          1,
          2,
          3,
          4,
          5,
          6
         ],
         "xaxis": "x5",
         "y": [
          0.5253775862974389,
          0.5780100248968834,
          0.6009232427471461,
          0.6314064902928588,
          0.606004151341672,
          0.6082296630566035
         ],
         "yaxis": "y5"
        }
       ],
       "layout": {
        "annotations": [
         {
          "font": {
           "color": "grey",
           "size": 11
          },
          "showarrow": false,
          "text": "ACC",
          "x": 0.08,
          "xanchor": "center",
          "xref": "paper",
          "y": 1,
          "yanchor": "bottom",
          "yref": "paper"
         },
         {
          "font": {
           "color": "grey",
           "size": 11
          },
          "showarrow": false,
          "text": "PRE",
          "x": 0.29000000000000004,
          "xanchor": "center",
          "xref": "paper",
          "y": 1,
          "yanchor": "bottom",
          "yref": "paper"
         },
         {
          "font": {
           "color": "grey",
           "size": 11
          },
          "showarrow": false,
          "text": "REC",
          "x": 0.5,
          "xanchor": "center",
          "xref": "paper",
          "y": 1,
          "yanchor": "bottom",
          "yref": "paper"
         },
         {
          "font": {
           "color": "grey",
           "size": 11
          },
          "showarrow": false,
          "text": "F1",
          "x": 0.71,
          "xanchor": "center",
          "xref": "paper",
          "y": 1,
          "yanchor": "bottom",
          "yref": "paper"
         },
         {
          "font": {
           "color": "grey",
           "size": 11
          },
          "showarrow": false,
          "text": "AUC",
          "x": 0.92,
          "xanchor": "center",
          "xref": "paper",
          "y": 1,
          "yanchor": "bottom",
          "yref": "paper"
         }
        ],
        "height": 400,
        "legend": {
         "orientation": "h",
         "title": {
          "font": {
           "color": "lightgrey"
          },
          "text": "Scopes"
         },
         "x": 0,
         "xanchor": "left",
         "y": 0.05,
         "yanchor": "bottom"
        },
        "margin": {
         "l": 40,
         "r": 40,
         "t": 100
        },
        "template": {
         "data": {
          "bar": [
           {
            "error_x": {
             "color": "#f2f5fa"
            },
            "error_y": {
             "color": "#f2f5fa"
            },
            "marker": {
             "line": {
              "color": "rgb(17,17,17)",
              "width": 0.5
             },
             "pattern": {
              "fillmode": "overlay",
              "size": 10,
              "solidity": 0.2
             }
            },
            "type": "bar"
           }
          ],
          "barpolar": [
           {
            "marker": {
             "line": {
              "color": "rgb(17,17,17)",
              "width": 0.5
             },
             "pattern": {
              "fillmode": "overlay",
              "size": 10,
              "solidity": 0.2
             }
            },
            "type": "barpolar"
           }
          ],
          "carpet": [
           {
            "aaxis": {
             "endlinecolor": "#A2B1C6",
             "gridcolor": "#506784",
             "linecolor": "#506784",
             "minorgridcolor": "#506784",
             "startlinecolor": "#A2B1C6"
            },
            "baxis": {
             "endlinecolor": "#A2B1C6",
             "gridcolor": "#506784",
             "linecolor": "#506784",
             "minorgridcolor": "#506784",
             "startlinecolor": "#A2B1C6"
            },
            "type": "carpet"
           }
          ],
          "choropleth": [
           {
            "colorbar": {
             "outlinewidth": 0,
             "ticks": ""
            },
            "type": "choropleth"
           }
          ],
          "contour": [
           {
            "colorbar": {
             "outlinewidth": 0,
             "ticks": ""
            },
            "colorscale": [
             [
              0,
              "#0d0887"
             ],
             [
              0.1111111111111111,
              "#46039f"
             ],
             [
              0.2222222222222222,
              "#7201a8"
             ],
             [
              0.3333333333333333,
              "#9c179e"
             ],
             [
              0.4444444444444444,
              "#bd3786"
             ],
             [
              0.5555555555555556,
              "#d8576b"
             ],
             [
              0.6666666666666666,
              "#ed7953"
             ],
             [
              0.7777777777777778,
              "#fb9f3a"
             ],
             [
              0.8888888888888888,
              "#fdca26"
             ],
             [
              1,
              "#f0f921"
             ]
            ],
            "type": "contour"
           }
          ],
          "contourcarpet": [
           {
            "colorbar": {
             "outlinewidth": 0,
             "ticks": ""
            },
            "type": "contourcarpet"
           }
          ],
          "heatmap": [
           {
            "colorbar": {
             "outlinewidth": 0,
             "ticks": ""
            },
            "colorscale": [
             [
              0,
              "#0d0887"
             ],
             [
              0.1111111111111111,
              "#46039f"
             ],
             [
              0.2222222222222222,
              "#7201a8"
             ],
             [
              0.3333333333333333,
              "#9c179e"
             ],
             [
              0.4444444444444444,
              "#bd3786"
             ],
             [
              0.5555555555555556,
              "#d8576b"
             ],
             [
              0.6666666666666666,
              "#ed7953"
             ],
             [
              0.7777777777777778,
              "#fb9f3a"
             ],
             [
              0.8888888888888888,
              "#fdca26"
             ],
             [
              1,
              "#f0f921"
             ]
            ],
            "type": "heatmap"
           }
          ],
          "heatmapgl": [
           {
            "colorbar": {
             "outlinewidth": 0,
             "ticks": ""
            },
            "colorscale": [
             [
              0,
              "#0d0887"
             ],
             [
              0.1111111111111111,
              "#46039f"
             ],
             [
              0.2222222222222222,
              "#7201a8"
             ],
             [
              0.3333333333333333,
              "#9c179e"
             ],
             [
              0.4444444444444444,
              "#bd3786"
             ],
             [
              0.5555555555555556,
              "#d8576b"
             ],
             [
              0.6666666666666666,
              "#ed7953"
             ],
             [
              0.7777777777777778,
              "#fb9f3a"
             ],
             [
              0.8888888888888888,
              "#fdca26"
             ],
             [
              1,
              "#f0f921"
             ]
            ],
            "type": "heatmapgl"
           }
          ],
          "histogram": [
           {
            "marker": {
             "pattern": {
              "fillmode": "overlay",
              "size": 10,
              "solidity": 0.2
             }
            },
            "type": "histogram"
           }
          ],
          "histogram2d": [
           {
            "colorbar": {
             "outlinewidth": 0,
             "ticks": ""
            },
            "colorscale": [
             [
              0,
              "#0d0887"
             ],
             [
              0.1111111111111111,
              "#46039f"
             ],
             [
              0.2222222222222222,
              "#7201a8"
             ],
             [
              0.3333333333333333,
              "#9c179e"
             ],
             [
              0.4444444444444444,
              "#bd3786"
             ],
             [
              0.5555555555555556,
              "#d8576b"
             ],
             [
              0.6666666666666666,
              "#ed7953"
             ],
             [
              0.7777777777777778,
              "#fb9f3a"
             ],
             [
              0.8888888888888888,
              "#fdca26"
             ],
             [
              1,
              "#f0f921"
             ]
            ],
            "type": "histogram2d"
           }
          ],
          "histogram2dcontour": [
           {
            "colorbar": {
             "outlinewidth": 0,
             "ticks": ""
            },
            "colorscale": [
             [
              0,
              "#0d0887"
             ],
             [
              0.1111111111111111,
              "#46039f"
             ],
             [
              0.2222222222222222,
              "#7201a8"
             ],
             [
              0.3333333333333333,
              "#9c179e"
             ],
             [
              0.4444444444444444,
              "#bd3786"
             ],
             [
              0.5555555555555556,
              "#d8576b"
             ],
             [
              0.6666666666666666,
              "#ed7953"
             ],
             [
              0.7777777777777778,
              "#fb9f3a"
             ],
             [
              0.8888888888888888,
              "#fdca26"
             ],
             [
              1,
              "#f0f921"
             ]
            ],
            "type": "histogram2dcontour"
           }
          ],
          "mesh3d": [
           {
            "colorbar": {
             "outlinewidth": 0,
             "ticks": ""
            },
            "type": "mesh3d"
           }
          ],
          "parcoords": [
           {
            "line": {
             "colorbar": {
              "outlinewidth": 0,
              "ticks": ""
             }
            },
            "type": "parcoords"
           }
          ],
          "pie": [
           {
            "automargin": true,
            "type": "pie"
           }
          ],
          "scatter": [
           {
            "marker": {
             "line": {
              "color": "#283442"
             }
            },
            "type": "scatter"
           }
          ],
          "scatter3d": [
           {
            "line": {
             "colorbar": {
              "outlinewidth": 0,
              "ticks": ""
             }
            },
            "marker": {
             "colorbar": {
              "outlinewidth": 0,
              "ticks": ""
             }
            },
            "type": "scatter3d"
           }
          ],
          "scattercarpet": [
           {
            "marker": {
             "colorbar": {
              "outlinewidth": 0,
              "ticks": ""
             }
            },
            "type": "scattercarpet"
           }
          ],
          "scattergeo": [
           {
            "marker": {
             "colorbar": {
              "outlinewidth": 0,
              "ticks": ""
             }
            },
            "type": "scattergeo"
           }
          ],
          "scattergl": [
           {
            "marker": {
             "line": {
              "color": "#283442"
             }
            },
            "type": "scattergl"
           }
          ],
          "scattermapbox": [
           {
            "marker": {
             "colorbar": {
              "outlinewidth": 0,
              "ticks": ""
             }
            },
            "type": "scattermapbox"
           }
          ],
          "scatterpolar": [
           {
            "marker": {
             "colorbar": {
              "outlinewidth": 0,
              "ticks": ""
             }
            },
            "type": "scatterpolar"
           }
          ],
          "scatterpolargl": [
           {
            "marker": {
             "colorbar": {
              "outlinewidth": 0,
              "ticks": ""
             }
            },
            "type": "scatterpolargl"
           }
          ],
          "scatterternary": [
           {
            "marker": {
             "colorbar": {
              "outlinewidth": 0,
              "ticks": ""
             }
            },
            "type": "scatterternary"
           }
          ],
          "surface": [
           {
            "colorbar": {
             "outlinewidth": 0,
             "ticks": ""
            },
            "colorscale": [
             [
              0,
              "#0d0887"
             ],
             [
              0.1111111111111111,
              "#46039f"
             ],
             [
              0.2222222222222222,
              "#7201a8"
             ],
             [
              0.3333333333333333,
              "#9c179e"
             ],
             [
              0.4444444444444444,
              "#bd3786"
             ],
             [
              0.5555555555555556,
              "#d8576b"
             ],
             [
              0.6666666666666666,
              "#ed7953"
             ],
             [
              0.7777777777777778,
              "#fb9f3a"
             ],
             [
              0.8888888888888888,
              "#fdca26"
             ],
             [
              1,
              "#f0f921"
             ]
            ],
            "type": "surface"
           }
          ],
          "table": [
           {
            "cells": {
             "fill": {
              "color": "#506784"
             },
             "line": {
              "color": "rgb(17,17,17)"
             }
            },
            "header": {
             "fill": {
              "color": "#2a3f5f"
             },
             "line": {
              "color": "rgb(17,17,17)"
             }
            },
            "type": "table"
           }
          ]
         },
         "layout": {
          "annotationdefaults": {
           "arrowcolor": "#f2f5fa",
           "arrowhead": 0,
           "arrowwidth": 1
          },
          "autotypenumbers": "strict",
          "coloraxis": {
           "colorbar": {
            "outlinewidth": 0,
            "ticks": ""
           }
          },
          "colorscale": {
           "diverging": [
            [
             0,
             "#8e0152"
            ],
            [
             0.1,
             "#c51b7d"
            ],
            [
             0.2,
             "#de77ae"
            ],
            [
             0.3,
             "#f1b6da"
            ],
            [
             0.4,
             "#fde0ef"
            ],
            [
             0.5,
             "#f7f7f7"
            ],
            [
             0.6,
             "#e6f5d0"
            ],
            [
             0.7,
             "#b8e186"
            ],
            [
             0.8,
             "#7fbc41"
            ],
            [
             0.9,
             "#4d9221"
            ],
            [
             1,
             "#276419"
            ]
           ],
           "sequential": [
            [
             0,
             "#0d0887"
            ],
            [
             0.1111111111111111,
             "#46039f"
            ],
            [
             0.2222222222222222,
             "#7201a8"
            ],
            [
             0.3333333333333333,
             "#9c179e"
            ],
            [
             0.4444444444444444,
             "#bd3786"
            ],
            [
             0.5555555555555556,
             "#d8576b"
            ],
            [
             0.6666666666666666,
             "#ed7953"
            ],
            [
             0.7777777777777778,
             "#fb9f3a"
            ],
            [
             0.8888888888888888,
             "#fdca26"
            ],
            [
             1,
             "#f0f921"
            ]
           ],
           "sequentialminus": [
            [
             0,
             "#0d0887"
            ],
            [
             0.1111111111111111,
             "#46039f"
            ],
            [
             0.2222222222222222,
             "#7201a8"
            ],
            [
             0.3333333333333333,
             "#9c179e"
            ],
            [
             0.4444444444444444,
             "#bd3786"
            ],
            [
             0.5555555555555556,
             "#d8576b"
            ],
            [
             0.6666666666666666,
             "#ed7953"
            ],
            [
             0.7777777777777778,
             "#fb9f3a"
            ],
            [
             0.8888888888888888,
             "#fdca26"
            ],
            [
             1,
             "#f0f921"
            ]
           ]
          },
          "colorway": [
           "#636efa",
           "#EF553B",
           "#00cc96",
           "#ab63fa",
           "#FFA15A",
           "#19d3f3",
           "#FF6692",
           "#B6E880",
           "#FF97FF",
           "#FECB52"
          ],
          "font": {
           "color": "#f2f5fa"
          },
          "geo": {
           "bgcolor": "rgb(17,17,17)",
           "lakecolor": "rgb(17,17,17)",
           "landcolor": "rgb(17,17,17)",
           "showlakes": true,
           "showland": true,
           "subunitcolor": "#506784"
          },
          "hoverlabel": {
           "align": "left"
          },
          "hovermode": "closest",
          "mapbox": {
           "style": "dark"
          },
          "paper_bgcolor": "rgb(17,17,17)",
          "plot_bgcolor": "rgb(17,17,17)",
          "polar": {
           "angularaxis": {
            "gridcolor": "#506784",
            "linecolor": "#506784",
            "ticks": ""
           },
           "bgcolor": "rgb(17,17,17)",
           "radialaxis": {
            "gridcolor": "#506784",
            "linecolor": "#506784",
            "ticks": ""
           }
          },
          "scene": {
           "xaxis": {
            "backgroundcolor": "rgb(17,17,17)",
            "gridcolor": "#506784",
            "gridwidth": 2,
            "linecolor": "#506784",
            "showbackground": true,
            "ticks": "",
            "zerolinecolor": "#C8D4E3"
           },
           "yaxis": {
            "backgroundcolor": "rgb(17,17,17)",
            "gridcolor": "#506784",
            "gridwidth": 2,
            "linecolor": "#506784",
            "showbackground": true,
            "ticks": "",
            "zerolinecolor": "#C8D4E3"
           },
           "zaxis": {
            "backgroundcolor": "rgb(17,17,17)",
            "gridcolor": "#506784",
            "gridwidth": 2,
            "linecolor": "#506784",
            "showbackground": true,
            "ticks": "",
            "zerolinecolor": "#C8D4E3"
           }
          },
          "shapedefaults": {
           "line": {
            "color": "#f2f5fa"
           }
          },
          "sliderdefaults": {
           "bgcolor": "#C8D4E3",
           "bordercolor": "rgb(17,17,17)",
           "borderwidth": 1,
           "tickwidth": 0
          },
          "ternary": {
           "aaxis": {
            "gridcolor": "#506784",
            "linecolor": "#506784",
            "ticks": ""
           },
           "baxis": {
            "gridcolor": "#506784",
            "linecolor": "#506784",
            "ticks": ""
           },
           "bgcolor": "rgb(17,17,17)",
           "caxis": {
            "gridcolor": "#506784",
            "linecolor": "#506784",
            "ticks": ""
           }
          },
          "title": {
           "x": 0.05
          },
          "updatemenudefaults": {
           "bgcolor": "#506784",
           "borderwidth": 0
          },
          "xaxis": {
           "automargin": true,
           "gridcolor": "#283442",
           "linecolor": "#506784",
           "ticks": "",
           "title": {
            "standoff": 15
           },
           "zerolinecolor": "#283442",
           "zerolinewidth": 2
          },
          "yaxis": {
           "automargin": true,
           "gridcolor": "#283442",
           "linecolor": "#506784",
           "ticks": "",
           "title": {
            "standoff": 15
           },
           "zerolinecolor": "#283442",
           "zerolinewidth": 2
          }
         }
        },
        "title": {
         "text": "Comparing the ['LogR'] Model Results on Different Conditions<br><span style=\"font-size: 12.5px; color: lightgrey;\"> -- Scopes: how many month of the latest data is used for parameter adjustments.</span><br><span style=\"font-size: 12.5px; color: lightgrey;\"> -- Error Bars: Showing mean, min and max of each measures among various future predictions.</span>",
         "y": 0.95,
         "yanchor": "top"
        },
        "width": 1000,
        "xaxis": {
         "anchor": "y",
         "domain": [
          0,
          0.16
         ]
        },
        "xaxis2": {
         "anchor": "y2",
         "domain": [
          0.21000000000000002,
          0.37
         ]
        },
        "xaxis3": {
         "anchor": "y3",
         "domain": [
          0.42000000000000004,
          0.5800000000000001
         ]
        },
        "xaxis4": {
         "anchor": "y4",
         "domain": [
          0.63,
          0.79
         ]
        },
        "xaxis5": {
         "anchor": "y5",
         "domain": [
          0.8400000000000001,
          1
         ]
        },
        "yaxis": {
         "anchor": "x",
         "domain": [
          0,
          1
         ]
        },
        "yaxis2": {
         "anchor": "x2",
         "domain": [
          0,
          1
         ],
         "matches": "y",
         "showticklabels": false
        },
        "yaxis3": {
         "anchor": "x3",
         "domain": [
          0,
          1
         ],
         "matches": "y",
         "showticklabels": false
        },
        "yaxis4": {
         "anchor": "x4",
         "domain": [
          0,
          1
         ],
         "matches": "y",
         "showticklabels": false
        },
        "yaxis5": {
         "anchor": "x5",
         "domain": [
          0,
          1
         ],
         "matches": "y",
         "showticklabels": false
        }
       }
      }
     },
     "metadata": {},
     "output_type": "display_data"
    }
   ],
   "source": [
    "fig.show()"
   ]
  },
  {
   "cell_type": "code",
   "execution_count": null,
   "metadata": {},
   "outputs": [],
   "source": []
  },
  {
   "cell_type": "markdown",
   "metadata": {},
   "source": [
    "html.H3('Comparing the Logistic Regression Model Results on Different Conditions', \n",
    "            style={ 'color': 'white'}),\n",
    "    html.Div(id='fixed-legend', style={'color': 'white'}, children=[\n",
    "        dcc.Markdown(\"\"\"\n",
    "            - Scopes: how many months of the latest data is used for parameter adjustments.\n",
    "            - Error Bars: Showing mean, min, and max of each measure among various future predictions.\n",
    "        \"\"\")\n",
    "    ]),"
   ]
  },
  {
   "cell_type": "code",
   "execution_count": null,
   "metadata": {},
   "outputs": [],
   "source": []
  },
  {
   "cell_type": "code",
   "execution_count": null,
   "metadata": {},
   "outputs": [],
   "source": []
  },
  {
   "cell_type": "code",
   "execution_count": 131,
   "metadata": {},
   "outputs": [
    {
     "data": {
      "application/vnd.plotly.v1+json": {
       "config": {
        "plotlyServerURL": "https://plot.ly"
       },
       "data": [
        {
         "error_y": {
          "array": [
           0.04177960511099066,
           0.26666916450286315,
           0.3457946621511496,
           0.38815276286956824,
           0.4145848730926227,
           0.39233005410907307
          ],
          "arrayminus": [
           0.12040469464317649,
           0.6860741637343439,
           0.4761271571037744,
           0.404877506806403,
           0.29893647579554194,
           0.21005784456917365
          ]
         },
         "hovertemplate": "SC=1<br>MA=%{x}<br>RMSE_mean=%{y}<extra></extra>",
         "legendgroup": "1",
         "marker": {
          "color": "#636efa",
          "symbol": "circle"
         },
         "mode": "markers",
         "name": "1",
         "orientation": "v",
         "showlegend": true,
         "type": "scatter",
         "x": [
          1,
          2,
          3,
          4,
          5,
          6
         ],
         "xaxis": "x",
         "y": [
          7.690272936396407,
          6.378161551744127,
          5.703326991079184,
          5.26631517131526,
          4.921881871751112,
          4.6203547796193565
         ],
         "yaxis": "y"
        },
        {
         "error_y": {
          "array": [
           0.31949239167845356,
           0.8325117640325317,
           1.00160349600986,
           1.119263816975609,
           1.1523678336395946,
           1.0275206849321457
          ],
          "arrayminus": [
           0.6546591745527923,
           1.6674508930252614,
           1.4261947768922845,
           1.0563791144202526,
           0.818823608259776,
           0.5441429921630832
          ]
         },
         "hovertemplate": "SC=6<br>MA=%{x}<br>RMSE_mean=%{y}<extra></extra>",
         "legendgroup": "6",
         "marker": {
          "color": "#EF553B",
          "symbol": "circle"
         },
         "mode": "markers",
         "name": "6",
         "orientation": "v",
         "showlegend": true,
         "type": "scatter",
         "x": [
          1,
          2,
          3,
          4,
          5,
          6
         ],
         "xaxis": "x",
         "y": [
          10.96162706309268,
          9.895239634125653,
          9.209297963228286,
          8.602354946911676,
          8.067020249076494,
          7.583555025966873
         ],
         "yaxis": "y"
        },
        {
         "error_y": {
          "array": [
           0.43324531266508615,
           0.995681743772419,
           1.2041141561756135,
           1.3247638915372786,
           1.2880749687645618,
           1.0909257405957469
          ],
          "arrayminus": [
           0.9201639408684361,
           1.8318366489877533,
           1.5040693326999648,
           1.0827215103553467,
           0.828726383684856,
           0.5445462088860129
          ]
         },
         "hovertemplate": "SC=12<br>MA=%{x}<br>RMSE_mean=%{y}<extra></extra>",
         "legendgroup": "12",
         "marker": {
          "color": "#00cc96",
          "symbol": "circle"
         },
         "mode": "markers",
         "name": "12",
         "orientation": "v",
         "showlegend": true,
         "type": "scatter",
         "x": [
          1,
          2,
          3,
          4,
          5,
          6
         ],
         "xaxis": "x",
         "y": [
          12.89089438870124,
          11.774684958204759,
          11.122070216464657,
          10.536571730246143,
          10.015076007666464,
          9.54606387751671
         ],
         "yaxis": "y"
        },
        {
         "error_y": {
          "array": [
           0.04243275525111745,
           0.2689274627942728,
           0.3485049260834341,
           0.39127820966496785,
           0.4179021247359911,
           0.3954776070766908
          ],
          "arrayminus": [
           0.12162733160211481,
           0.6913975192633854,
           0.4798924394690056,
           0.40801949031102414,
           0.3012914700300229,
           0.21166825408878776
          ]
         },
         "hovertemplate": "SC=1<br>MA=%{x}<br>SE_mean=%{y}<extra></extra>",
         "legendgroup": "1",
         "marker": {
          "color": "#636efa",
          "symbol": "circle"
         },
         "mode": "markers",
         "name": "1",
         "orientation": "v",
         "showlegend": false,
         "type": "scatter",
         "x": [
          1,
          2,
          3,
          4,
          5,
          6
         ],
         "xaxis": "x2",
         "y": [
          7.746683678800831,
          6.425185738668266,
          5.745481037642196,
          5.305335410303836,
          4.958439147784331,
          4.65475595240677
         ],
         "yaxis": "y2"
        },
        {
         "error_y": {
          "array": [
           0.3217291223172509,
           0.8389138757418415,
           1.0092546708699608,
           1.1279737657936213,
           1.161327781234295,
           1.0355525037601092
          ],
          "arrayminus": [
           0.6599261890115002,
           1.6801390583505285,
           1.4371150198635547,
           1.0645754922258632,
           0.8251268287382247,
           0.548405551797603
          ]
         },
         "hovertemplate": "SC=6<br>MA=%{x}<br>SE_mean=%{y}<extra></extra>",
         "legendgroup": "6",
         "marker": {
          "color": "#EF553B",
          "symbol": "circle"
         },
         "mode": "markers",
         "name": "6",
         "orientation": "v",
         "showlegend": false,
         "type": "scatter",
         "x": [
          1,
          2,
          3,
          4,
          5,
          6
         ],
         "xaxis": "x2",
         "y": [
          11.042037001112263,
          9.968205445885138,
          9.277377626622942,
          8.66610527101472,
          8.126948343484614,
          7.640026548372087
         ],
         "yaxis": "y2"
        },
        {
         "error_y": {
          "array": [
           0.43653150110816696,
           1.0033369262211735,
           1.2135423284950644,
           1.3350920606982708,
           1.2981378301768398,
           1.0995234845118986
          ],
          "arrayminus": [
           0.9274581858275734,
           1.8458190698210668,
           1.515651933347618,
           1.0912021980463518,
           0.8351575598797165,
           0.5488661598650548
          ]
         },
         "hovertemplate": "SC=12<br>MA=%{x}<br>SE_mean=%{y}<extra></extra>",
         "legendgroup": "12",
         "marker": {
          "color": "#00cc96",
          "symbol": "circle"
         },
         "mode": "markers",
         "name": "12",
         "orientation": "v",
         "showlegend": false,
         "type": "scatter",
         "x": [
          1,
          2,
          3,
          4,
          5,
          6
         ],
         "xaxis": "x2",
         "y": [
          12.98546121399019,
          11.861509732407962,
          11.20428779945621,
          10.614652254867234,
          10.089471239594284,
          9.617145071989455
         ],
         "yaxis": "y2"
        },
        {
         "error_y": {
          "array": [
           0.006200141126988856,
           0.034105725577653345,
           0.022269052405689327,
           0.0184133615502885,
           0.013302729076123954,
           0.009215762919170811
          ],
          "arrayminus": [
           0.002889852707576579,
           0.013318502749849248,
           0.016567519163607325,
           0.018196535976034545,
           0.01903195513445055,
           0.01761625106129372
          ]
         },
         "hovertemplate": "SC=1<br>MA=%{x}<br>R2_mean=%{y}<extra></extra>",
         "legendgroup": "1",
         "marker": {
          "color": "#636efa",
          "symbol": "circle"
         },
         "mode": "markers",
         "name": "1",
         "orientation": "v",
         "showlegend": false,
         "type": "scatter",
         "x": [
          1,
          2,
          3,
          4,
          5,
          6
         ],
         "xaxis": "x3",
         "y": [
          0.7646327027894116,
          0.8311727797035037,
          0.8603958972195117,
          0.8771678353314657,
          0.8893274090344683,
          0.8993803352753177
         ],
         "yaxis": "y3"
        },
        {
         "error_y": {
          "array": [
           0.05371958095151863,
           0.1270846302681068,
           0.10641906846855897,
           0.07796026012072799,
           0.05965201626680905,
           0.039095023192290634
          ],
          "arrayminus": [
           0.02804593415999046,
           0.06660554664707441,
           0.0784334094189133,
           0.08682059778629714,
           0.0881160253182024,
           0.07682304377423976
          ]
         },
         "hovertemplate": "SC=6<br>MA=%{x}<br>R2_mean=%{y}<extra></extra>",
         "legendgroup": "6",
         "marker": {
          "color": "#EF553B",
          "symbol": "circle"
         },
         "mode": "markers",
         "name": "6",
         "orientation": "v",
         "showlegend": false,
         "type": "scatter",
         "x": [
          1,
          2,
          3,
          4,
          5,
          6
         ],
         "xaxis": "x3",
         "y": [
          0.5214285037374906,
          0.5914272702339248,
          0.6334481205409722,
          0.6699500762760572,
          0.7009905276013443,
          0.7279049948143951
         ],
         "yaxis": "y3"
        },
        {
         "error_y": {
          "array": [
           0.08894185096904067,
           0.16710990695436428,
           0.1365079331025123,
           0.09849370574521199,
           0.07523588586239915,
           0.04928366880872481
          ],
          "arrayminus": [
           0.04355419572054281,
           0.09517828091757813,
           0.11498184407729561,
           0.12658407706098262,
           0.1221825103085965,
           0.10213530206855148
          ]
         },
         "hovertemplate": "SC=12<br>MA=%{x}<br>R2_mean=%{y}<extra></extra>",
         "legendgroup": "12",
         "marker": {
          "color": "#00cc96",
          "symbol": "circle"
         },
         "mode": "markers",
         "name": "12",
         "orientation": "v",
         "showlegend": false,
         "type": "scatter",
         "x": [
          1,
          2,
          3,
          4,
          5,
          6
         ],
         "xaxis": "x3",
         "y": [
          0.3379757928892133,
          0.42182045353204306,
          0.4662463871424485,
          0.5060134684900596,
          0.540284810467874,
          0.5697254409526412
         ],
         "yaxis": "y3"
        },
        {
         "error_y": {
          "array": [
           0.006293492747958651,
           0.03453725843575617,
           0.022554048250994385,
           0.01864706944358796,
           0.01347306465334408,
           0.009332368032872629
          ],
          "arrayminus": [
           0.0029144587653072707,
           0.013495843676328279,
           0.016778673958470436,
           0.0184321696581371,
           0.019277853835343972,
           0.01784443457729934
          ]
         },
         "hovertemplate": "SC=1<br>MA=%{x}<br>Adj-R2_mean=%{y}<extra></extra>",
         "legendgroup": "1",
         "marker": {
          "color": "#636efa",
          "symbol": "circle"
         },
         "mode": "markers",
         "name": "1",
         "orientation": "v",
         "showlegend": false,
         "type": "scatter",
         "x": [
          1,
          2,
          3,
          4,
          5,
          6
         ],
         "xaxis": "x4",
         "y": [
          0.7617446297527883,
          0.8290902481356112,
          0.8586694388388897,
          0.875645006412015,
          0.8879520009091117,
          0.8981268657112985
         ],
         "yaxis": "y4"
        },
        {
         "error_y": {
          "array": [
           0.054411149367827316,
           0.12867636477299593,
           0.1077580179806692,
           0.0789490678032766,
           0.060406966419068175,
           0.03959476817846652
          ],
          "arrayminus": [
           0.0283817917667073,
           0.06744512234224898,
           0.07941963441933997,
           0.08792512439819322,
           0.08923779913329699,
           0.07780488678148056
          ]
         },
         "hovertemplate": "SC=6<br>MA=%{x}<br>Adj-R2_mean=%{y}<extra></extra>",
         "legendgroup": "6",
         "marker": {
          "color": "#EF553B",
          "symbol": "circle"
         },
         "mode": "markers",
         "name": "6",
         "orientation": "v",
         "showlegend": false,
         "type": "scatter",
         "x": [
          1,
          2,
          3,
          4,
          5,
          6
         ],
         "xaxis": "x4",
         "y": [
          0.5155558144027553,
          0.5863859266665605,
          0.6289134362501093,
          0.6658567160860799,
          0.6972732326949781,
          0.7245144311930666
         ],
         "yaxis": "y4"
        },
        {
         "error_y": {
          "array": [
           0.09007771205030363,
           0.16920648140968336,
           0.13823062832105415,
           0.09973704525907823,
           0.07619198027224927,
           0.049917702703575983
          ],
          "arrayminus": [
           0.04409756476486121,
           0.09637772480850876,
           0.1164478297696464,
           0.12819589820533417,
           0.12374172992312027,
           0.10344613682250903
          ]
         },
         "hovertemplate": "SC=12<br>MA=%{x}<br>Adj-R2_mean=%{y}<extra></extra>",
         "legendgroup": "12",
         "marker": {
          "color": "#00cc96",
          "symbol": "circle"
         },
         "mode": "markers",
         "name": "12",
         "orientation": "v",
         "showlegend": false,
         "type": "scatter",
         "x": [
          1,
          2,
          3,
          4,
          5,
          6
         ],
         "xaxis": "x4",
         "y": [
          0.3298511225867096,
          0.41468626094543,
          0.45964352386794793,
          0.4998875014976165,
          0.5345703088343888,
          0.5643644729357228
         ],
         "yaxis": "y4"
        }
       ],
       "layout": {
        "annotations": [
         {
          "font": {
           "color": "grey",
           "size": 11
          },
          "showarrow": false,
          "text": "RMSE",
          "x": 0.2375,
          "xanchor": "center",
          "xref": "paper",
          "y": 1,
          "yanchor": "bottom",
          "yref": "paper"
         },
         {
          "font": {
           "color": "grey",
           "size": 11
          },
          "showarrow": false,
          "text": "SE",
          "x": 0.7625,
          "xanchor": "center",
          "xref": "paper",
          "y": 1,
          "yanchor": "bottom",
          "yref": "paper"
         },
         {
          "font": {
           "color": "grey",
           "size": 11
          },
          "showarrow": false,
          "text": "R2",
          "x": 0.2375,
          "xanchor": "center",
          "xref": "paper",
          "y": 0.475,
          "yanchor": "bottom",
          "yref": "paper"
         },
         {
          "font": {
           "color": "grey",
           "size": 11
          },
          "showarrow": false,
          "text": "Adj-R2",
          "x": 0.7625,
          "xanchor": "center",
          "xref": "paper",
          "y": 0.475,
          "yanchor": "bottom",
          "yref": "paper"
         }
        ],
        "height": 500,
        "legend": {
         "title": {
          "font": {
           "color": "lightgrey"
          },
          "text": "Scopes"
         }
        },
        "margin": {
         "l": 40,
         "r": 40,
         "t": 100
        },
        "template": {
         "data": {
          "bar": [
           {
            "error_x": {
             "color": "#f2f5fa"
            },
            "error_y": {
             "color": "#f2f5fa"
            },
            "marker": {
             "line": {
              "color": "rgb(17,17,17)",
              "width": 0.5
             },
             "pattern": {
              "fillmode": "overlay",
              "size": 10,
              "solidity": 0.2
             }
            },
            "type": "bar"
           }
          ],
          "barpolar": [
           {
            "marker": {
             "line": {
              "color": "rgb(17,17,17)",
              "width": 0.5
             },
             "pattern": {
              "fillmode": "overlay",
              "size": 10,
              "solidity": 0.2
             }
            },
            "type": "barpolar"
           }
          ],
          "carpet": [
           {
            "aaxis": {
             "endlinecolor": "#A2B1C6",
             "gridcolor": "#506784",
             "linecolor": "#506784",
             "minorgridcolor": "#506784",
             "startlinecolor": "#A2B1C6"
            },
            "baxis": {
             "endlinecolor": "#A2B1C6",
             "gridcolor": "#506784",
             "linecolor": "#506784",
             "minorgridcolor": "#506784",
             "startlinecolor": "#A2B1C6"
            },
            "type": "carpet"
           }
          ],
          "choropleth": [
           {
            "colorbar": {
             "outlinewidth": 0,
             "ticks": ""
            },
            "type": "choropleth"
           }
          ],
          "contour": [
           {
            "colorbar": {
             "outlinewidth": 0,
             "ticks": ""
            },
            "colorscale": [
             [
              0,
              "#0d0887"
             ],
             [
              0.1111111111111111,
              "#46039f"
             ],
             [
              0.2222222222222222,
              "#7201a8"
             ],
             [
              0.3333333333333333,
              "#9c179e"
             ],
             [
              0.4444444444444444,
              "#bd3786"
             ],
             [
              0.5555555555555556,
              "#d8576b"
             ],
             [
              0.6666666666666666,
              "#ed7953"
             ],
             [
              0.7777777777777778,
              "#fb9f3a"
             ],
             [
              0.8888888888888888,
              "#fdca26"
             ],
             [
              1,
              "#f0f921"
             ]
            ],
            "type": "contour"
           }
          ],
          "contourcarpet": [
           {
            "colorbar": {
             "outlinewidth": 0,
             "ticks": ""
            },
            "type": "contourcarpet"
           }
          ],
          "heatmap": [
           {
            "colorbar": {
             "outlinewidth": 0,
             "ticks": ""
            },
            "colorscale": [
             [
              0,
              "#0d0887"
             ],
             [
              0.1111111111111111,
              "#46039f"
             ],
             [
              0.2222222222222222,
              "#7201a8"
             ],
             [
              0.3333333333333333,
              "#9c179e"
             ],
             [
              0.4444444444444444,
              "#bd3786"
             ],
             [
              0.5555555555555556,
              "#d8576b"
             ],
             [
              0.6666666666666666,
              "#ed7953"
             ],
             [
              0.7777777777777778,
              "#fb9f3a"
             ],
             [
              0.8888888888888888,
              "#fdca26"
             ],
             [
              1,
              "#f0f921"
             ]
            ],
            "type": "heatmap"
           }
          ],
          "heatmapgl": [
           {
            "colorbar": {
             "outlinewidth": 0,
             "ticks": ""
            },
            "colorscale": [
             [
              0,
              "#0d0887"
             ],
             [
              0.1111111111111111,
              "#46039f"
             ],
             [
              0.2222222222222222,
              "#7201a8"
             ],
             [
              0.3333333333333333,
              "#9c179e"
             ],
             [
              0.4444444444444444,
              "#bd3786"
             ],
             [
              0.5555555555555556,
              "#d8576b"
             ],
             [
              0.6666666666666666,
              "#ed7953"
             ],
             [
              0.7777777777777778,
              "#fb9f3a"
             ],
             [
              0.8888888888888888,
              "#fdca26"
             ],
             [
              1,
              "#f0f921"
             ]
            ],
            "type": "heatmapgl"
           }
          ],
          "histogram": [
           {
            "marker": {
             "pattern": {
              "fillmode": "overlay",
              "size": 10,
              "solidity": 0.2
             }
            },
            "type": "histogram"
           }
          ],
          "histogram2d": [
           {
            "colorbar": {
             "outlinewidth": 0,
             "ticks": ""
            },
            "colorscale": [
             [
              0,
              "#0d0887"
             ],
             [
              0.1111111111111111,
              "#46039f"
             ],
             [
              0.2222222222222222,
              "#7201a8"
             ],
             [
              0.3333333333333333,
              "#9c179e"
             ],
             [
              0.4444444444444444,
              "#bd3786"
             ],
             [
              0.5555555555555556,
              "#d8576b"
             ],
             [
              0.6666666666666666,
              "#ed7953"
             ],
             [
              0.7777777777777778,
              "#fb9f3a"
             ],
             [
              0.8888888888888888,
              "#fdca26"
             ],
             [
              1,
              "#f0f921"
             ]
            ],
            "type": "histogram2d"
           }
          ],
          "histogram2dcontour": [
           {
            "colorbar": {
             "outlinewidth": 0,
             "ticks": ""
            },
            "colorscale": [
             [
              0,
              "#0d0887"
             ],
             [
              0.1111111111111111,
              "#46039f"
             ],
             [
              0.2222222222222222,
              "#7201a8"
             ],
             [
              0.3333333333333333,
              "#9c179e"
             ],
             [
              0.4444444444444444,
              "#bd3786"
             ],
             [
              0.5555555555555556,
              "#d8576b"
             ],
             [
              0.6666666666666666,
              "#ed7953"
             ],
             [
              0.7777777777777778,
              "#fb9f3a"
             ],
             [
              0.8888888888888888,
              "#fdca26"
             ],
             [
              1,
              "#f0f921"
             ]
            ],
            "type": "histogram2dcontour"
           }
          ],
          "mesh3d": [
           {
            "colorbar": {
             "outlinewidth": 0,
             "ticks": ""
            },
            "type": "mesh3d"
           }
          ],
          "parcoords": [
           {
            "line": {
             "colorbar": {
              "outlinewidth": 0,
              "ticks": ""
             }
            },
            "type": "parcoords"
           }
          ],
          "pie": [
           {
            "automargin": true,
            "type": "pie"
           }
          ],
          "scatter": [
           {
            "marker": {
             "line": {
              "color": "#283442"
             }
            },
            "type": "scatter"
           }
          ],
          "scatter3d": [
           {
            "line": {
             "colorbar": {
              "outlinewidth": 0,
              "ticks": ""
             }
            },
            "marker": {
             "colorbar": {
              "outlinewidth": 0,
              "ticks": ""
             }
            },
            "type": "scatter3d"
           }
          ],
          "scattercarpet": [
           {
            "marker": {
             "colorbar": {
              "outlinewidth": 0,
              "ticks": ""
             }
            },
            "type": "scattercarpet"
           }
          ],
          "scattergeo": [
           {
            "marker": {
             "colorbar": {
              "outlinewidth": 0,
              "ticks": ""
             }
            },
            "type": "scattergeo"
           }
          ],
          "scattergl": [
           {
            "marker": {
             "line": {
              "color": "#283442"
             }
            },
            "type": "scattergl"
           }
          ],
          "scattermapbox": [
           {
            "marker": {
             "colorbar": {
              "outlinewidth": 0,
              "ticks": ""
             }
            },
            "type": "scattermapbox"
           }
          ],
          "scatterpolar": [
           {
            "marker": {
             "colorbar": {
              "outlinewidth": 0,
              "ticks": ""
             }
            },
            "type": "scatterpolar"
           }
          ],
          "scatterpolargl": [
           {
            "marker": {
             "colorbar": {
              "outlinewidth": 0,
              "ticks": ""
             }
            },
            "type": "scatterpolargl"
           }
          ],
          "scatterternary": [
           {
            "marker": {
             "colorbar": {
              "outlinewidth": 0,
              "ticks": ""
             }
            },
            "type": "scatterternary"
           }
          ],
          "surface": [
           {
            "colorbar": {
             "outlinewidth": 0,
             "ticks": ""
            },
            "colorscale": [
             [
              0,
              "#0d0887"
             ],
             [
              0.1111111111111111,
              "#46039f"
             ],
             [
              0.2222222222222222,
              "#7201a8"
             ],
             [
              0.3333333333333333,
              "#9c179e"
             ],
             [
              0.4444444444444444,
              "#bd3786"
             ],
             [
              0.5555555555555556,
              "#d8576b"
             ],
             [
              0.6666666666666666,
              "#ed7953"
             ],
             [
              0.7777777777777778,
              "#fb9f3a"
             ],
             [
              0.8888888888888888,
              "#fdca26"
             ],
             [
              1,
              "#f0f921"
             ]
            ],
            "type": "surface"
           }
          ],
          "table": [
           {
            "cells": {
             "fill": {
              "color": "#506784"
             },
             "line": {
              "color": "rgb(17,17,17)"
             }
            },
            "header": {
             "fill": {
              "color": "#2a3f5f"
             },
             "line": {
              "color": "rgb(17,17,17)"
             }
            },
            "type": "table"
           }
          ]
         },
         "layout": {
          "annotationdefaults": {
           "arrowcolor": "#f2f5fa",
           "arrowhead": 0,
           "arrowwidth": 1
          },
          "autotypenumbers": "strict",
          "coloraxis": {
           "colorbar": {
            "outlinewidth": 0,
            "ticks": ""
           }
          },
          "colorscale": {
           "diverging": [
            [
             0,
             "#8e0152"
            ],
            [
             0.1,
             "#c51b7d"
            ],
            [
             0.2,
             "#de77ae"
            ],
            [
             0.3,
             "#f1b6da"
            ],
            [
             0.4,
             "#fde0ef"
            ],
            [
             0.5,
             "#f7f7f7"
            ],
            [
             0.6,
             "#e6f5d0"
            ],
            [
             0.7,
             "#b8e186"
            ],
            [
             0.8,
             "#7fbc41"
            ],
            [
             0.9,
             "#4d9221"
            ],
            [
             1,
             "#276419"
            ]
           ],
           "sequential": [
            [
             0,
             "#0d0887"
            ],
            [
             0.1111111111111111,
             "#46039f"
            ],
            [
             0.2222222222222222,
             "#7201a8"
            ],
            [
             0.3333333333333333,
             "#9c179e"
            ],
            [
             0.4444444444444444,
             "#bd3786"
            ],
            [
             0.5555555555555556,
             "#d8576b"
            ],
            [
             0.6666666666666666,
             "#ed7953"
            ],
            [
             0.7777777777777778,
             "#fb9f3a"
            ],
            [
             0.8888888888888888,
             "#fdca26"
            ],
            [
             1,
             "#f0f921"
            ]
           ],
           "sequentialminus": [
            [
             0,
             "#0d0887"
            ],
            [
             0.1111111111111111,
             "#46039f"
            ],
            [
             0.2222222222222222,
             "#7201a8"
            ],
            [
             0.3333333333333333,
             "#9c179e"
            ],
            [
             0.4444444444444444,
             "#bd3786"
            ],
            [
             0.5555555555555556,
             "#d8576b"
            ],
            [
             0.6666666666666666,
             "#ed7953"
            ],
            [
             0.7777777777777778,
             "#fb9f3a"
            ],
            [
             0.8888888888888888,
             "#fdca26"
            ],
            [
             1,
             "#f0f921"
            ]
           ]
          },
          "colorway": [
           "#636efa",
           "#EF553B",
           "#00cc96",
           "#ab63fa",
           "#FFA15A",
           "#19d3f3",
           "#FF6692",
           "#B6E880",
           "#FF97FF",
           "#FECB52"
          ],
          "font": {
           "color": "#f2f5fa"
          },
          "geo": {
           "bgcolor": "rgb(17,17,17)",
           "lakecolor": "rgb(17,17,17)",
           "landcolor": "rgb(17,17,17)",
           "showlakes": true,
           "showland": true,
           "subunitcolor": "#506784"
          },
          "hoverlabel": {
           "align": "left"
          },
          "hovermode": "closest",
          "mapbox": {
           "style": "dark"
          },
          "paper_bgcolor": "rgb(17,17,17)",
          "plot_bgcolor": "rgb(17,17,17)",
          "polar": {
           "angularaxis": {
            "gridcolor": "#506784",
            "linecolor": "#506784",
            "ticks": ""
           },
           "bgcolor": "rgb(17,17,17)",
           "radialaxis": {
            "gridcolor": "#506784",
            "linecolor": "#506784",
            "ticks": ""
           }
          },
          "scene": {
           "xaxis": {
            "backgroundcolor": "rgb(17,17,17)",
            "gridcolor": "#506784",
            "gridwidth": 2,
            "linecolor": "#506784",
            "showbackground": true,
            "ticks": "",
            "zerolinecolor": "#C8D4E3"
           },
           "yaxis": {
            "backgroundcolor": "rgb(17,17,17)",
            "gridcolor": "#506784",
            "gridwidth": 2,
            "linecolor": "#506784",
            "showbackground": true,
            "ticks": "",
            "zerolinecolor": "#C8D4E3"
           },
           "zaxis": {
            "backgroundcolor": "rgb(17,17,17)",
            "gridcolor": "#506784",
            "gridwidth": 2,
            "linecolor": "#506784",
            "showbackground": true,
            "ticks": "",
            "zerolinecolor": "#C8D4E3"
           }
          },
          "shapedefaults": {
           "line": {
            "color": "#f2f5fa"
           }
          },
          "sliderdefaults": {
           "bgcolor": "#C8D4E3",
           "bordercolor": "rgb(17,17,17)",
           "borderwidth": 1,
           "tickwidth": 0
          },
          "ternary": {
           "aaxis": {
            "gridcolor": "#506784",
            "linecolor": "#506784",
            "ticks": ""
           },
           "baxis": {
            "gridcolor": "#506784",
            "linecolor": "#506784",
            "ticks": ""
           },
           "bgcolor": "rgb(17,17,17)",
           "caxis": {
            "gridcolor": "#506784",
            "linecolor": "#506784",
            "ticks": ""
           }
          },
          "title": {
           "x": 0.05
          },
          "updatemenudefaults": {
           "bgcolor": "#506784",
           "borderwidth": 0
          },
          "xaxis": {
           "automargin": true,
           "gridcolor": "#283442",
           "linecolor": "#506784",
           "ticks": "",
           "title": {
            "standoff": 15
           },
           "zerolinecolor": "#283442",
           "zerolinewidth": 2
          },
          "yaxis": {
           "automargin": true,
           "gridcolor": "#283442",
           "linecolor": "#506784",
           "ticks": "",
           "title": {
            "standoff": 15
           },
           "zerolinecolor": "#283442",
           "zerolinewidth": 2
          }
         }
        },
        "title": {
         "text": "Comparing the ['LinR'] Model Results on Different Conditions<br><span style=\"font-size: 12.5px; color: lightgrey;\"> -- Scopes: how many month of the latest data is used for parameter adjustments.</span><br><span style=\"font-size: 12.5px; color: lightgrey;\"> -- Error Bars: Showing mean, min and max of each measures among various future predictions.</span>",
         "y": 0.95,
         "yanchor": "top"
        },
        "width": 800,
        "xaxis": {
         "anchor": "y",
         "domain": [
          0,
          0.475
         ],
         "matches": "x3",
         "showticklabels": false
        },
        "xaxis2": {
         "anchor": "y2",
         "domain": [
          0.525,
          1
         ],
         "matches": "x4",
         "showticklabels": false
        },
        "xaxis3": {
         "anchor": "y3",
         "domain": [
          0,
          0.475
         ],
         "title": {
          "text": "Moving Averages"
         }
        },
        "xaxis4": {
         "anchor": "y4",
         "domain": [
          0.525,
          1
         ],
         "title": {
          "text": "Moving Averages"
         }
        },
        "yaxis": {
         "anchor": "x",
         "domain": [
          0.525,
          1
         ]
        },
        "yaxis2": {
         "anchor": "x2",
         "domain": [
          0.525,
          1
         ],
         "matches": "y",
         "showticklabels": false
        },
        "yaxis3": {
         "anchor": "x3",
         "domain": [
          0,
          0.475
         ]
        },
        "yaxis4": {
         "anchor": "x4",
         "domain": [
          0,
          0.475
         ],
         "matches": "y3",
         "showticklabels": false
        }
       }
      }
     },
     "metadata": {},
     "output_type": "display_data"
    }
   ],
   "source": [
    "f1.show()"
   ]
  },
  {
   "cell_type": "code",
   "execution_count": 147,
   "metadata": {},
   "outputs": [
    {
     "data": {
      "application/vnd.plotly.v1+json": {
       "config": {
        "plotlyServerURL": "https://plot.ly"
       },
       "data": [
        {
         "alignmentgroup": "True",
         "boxpoints": "all",
         "fillcolor": "rgba(255,255,255,0)",
         "hoveron": "points",
         "hovertemplate": "sc=1<br>theta=%{x}<br>diff=%{y}<extra></extra>",
         "legendgroup": "1",
         "line": {
          "color": "rgba(255,255,255,0)"
         },
         "marker": {
          "color": "#636efa",
          "opacity": 0.5,
          "size": 5
         },
         "name": "1",
         "offsetgroup": "1",
         "orientation": "v",
         "pointpos": 0,
         "showlegend": true,
         "type": "box",
         "x": [
          "CSENT",
          "IPM",
          "HOUSE",
          "UNEMP",
          "LRIR",
          "CSENT",
          "IPM",
          "HOUSE",
          "UNEMP",
          "LRIR",
          "CSENT",
          "IPM",
          "HOUSE",
          "UNEMP",
          "LRIR",
          "CSENT",
          "IPM",
          "HOUSE",
          "UNEMP",
          "LRIR",
          "CSENT",
          "IPM",
          "HOUSE",
          "UNEMP",
          "LRIR",
          "CSENT",
          "IPM",
          "HOUSE",
          "UNEMP",
          "LRIR",
          "CSENT",
          "IPM",
          "HOUSE",
          "UNEMP",
          "LRIR",
          "CSENT",
          "IPM",
          "HOUSE",
          "UNEMP",
          "LRIR",
          "CSENT",
          "IPM",
          "HOUSE",
          "UNEMP",
          "LRIR",
          "CSENT",
          "IPM",
          "HOUSE",
          "UNEMP",
          "LRIR",
          "CSENT",
          "IPM",
          "HOUSE",
          "UNEMP",
          "LRIR",
          "CSENT",
          "IPM",
          "HOUSE",
          "UNEMP",
          "LRIR",
          "CSENT",
          "IPM",
          "HOUSE",
          "UNEMP",
          "LRIR",
          "CSENT",
          "IPM",
          "HOUSE",
          "UNEMP",
          "LRIR",
          "CSENT",
          "IPM",
          "HOUSE",
          "UNEMP",
          "LRIR",
          "CSENT",
          "IPM",
          "HOUSE",
          "UNEMP",
          "LRIR",
          "CSENT",
          "IPM",
          "HOUSE",
          "UNEMP",
          "LRIR",
          "CSENT",
          "IPM",
          "HOUSE",
          "UNEMP",
          "LRIR",
          "CSENT",
          "IPM",
          "HOUSE",
          "UNEMP",
          "LRIR",
          "CSENT",
          "IPM",
          "HOUSE",
          "UNEMP",
          "LRIR",
          "CSENT",
          "IPM",
          "HOUSE",
          "UNEMP",
          "LRIR",
          "CSENT",
          "IPM",
          "HOUSE",
          "UNEMP",
          "LRIR",
          "CSENT",
          "IPM",
          "HOUSE",
          "UNEMP",
          "LRIR",
          "CSENT",
          "IPM",
          "HOUSE",
          "UNEMP",
          "LRIR",
          "CSENT",
          "IPM",
          "HOUSE",
          "UNEMP",
          "LRIR",
          "CSENT",
          "IPM",
          "HOUSE",
          "UNEMP",
          "LRIR",
          "CSENT",
          "IPM",
          "HOUSE",
          "UNEMP",
          "LRIR",
          "CSENT",
          "IPM",
          "HOUSE",
          "UNEMP",
          "LRIR",
          "CSENT",
          "IPM",
          "HOUSE",
          "UNEMP",
          "LRIR",
          "CSENT",
          "IPM",
          "HOUSE",
          "UNEMP",
          "LRIR",
          "CSENT",
          "IPM",
          "HOUSE",
          "UNEMP",
          "LRIR",
          "CSENT",
          "IPM",
          "HOUSE",
          "UNEMP",
          "LRIR",
          "CSENT",
          "IPM",
          "HOUSE",
          "UNEMP",
          "LRIR",
          "CSENT",
          "IPM",
          "HOUSE",
          "UNEMP",
          "LRIR",
          "CSENT",
          "IPM",
          "HOUSE",
          "UNEMP",
          "LRIR",
          "CSENT",
          "IPM",
          "HOUSE",
          "UNEMP",
          "LRIR"
         ],
         "x0": " ",
         "xaxis": "x",
         "y": [
          -2.2177404144378743,
          -0.6374795109383538,
          -1.3737131231569633,
          -0.5295132252796124,
          -1.4373762074750314,
          -3.1174670744754067,
          -0.6149397561461312,
          -2.2206417257292355,
          -0.19766370943602762,
          -1.894041164971208,
          -3.1443952898567105,
          -0.7088622291996671,
          -1.8677462548636434,
          0.2612263932411869,
          -1.3447732945078688,
          -3.0515478852364115,
          -0.9825990364420543,
          -1.6750625965730706,
          0.3863028848870558,
          -1.2704119442510127,
          -3.5603831474123675,
          -1.4426980866197976,
          -1.39501475179594,
          0.49351109774953006,
          -1.596948282124531,
          -3.5971663944602295,
          -1.7633002036266054,
          -1.0653691712477436,
          0.4159638938805239,
          -1.4646336827887394,
          0.08938467694074603,
          -0.12884468712444086,
          -0.06059168742911769,
          0.7276020380001853,
          0.7900131040769516,
          -1.1674854271856283,
          -0.09391297392227482,
          0.15419986902833038,
          0.5134150550514027,
          -0.033767439295144364,
          -1.81409910105367,
          0.3101493394293282,
          -0.8779142987983573,
          0.6096321319026394,
          -0.7547352700574246,
          -2.3698767447854845,
          0.2822088979315307,
          -1.1521050736063483,
          0.9400336230830293,
          -0.7223212865700575,
          -2.2604829772304162,
          0.06993591663470689,
          -0.9022965779146386,
          1.2018170417421263,
          -0.4315075393320553,
          -2.5991520307598197,
          -0.31491168977260564,
          -0.6895867070542989,
          1.2819962310409485,
          -0.6146584245952607,
          0.36801387208349556,
          0.4361926455813778,
          -0.3688319014406165,
          0.7783786323331912,
          0.988626689547285,
          -0.24851606263399084,
          0.5459741208658908,
          0.39369348516506,
          1.0611386251919699,
          0.743129631973451,
          -1.1489991790820673,
          0.5759864970498523,
          0.10136784492278927,
          0.9833038504001523,
          0.08767187316446279,
          -1.6586644596813747,
          0.7859935366050648,
          -0.4427506039811959,
          1.205895531875309,
          -0.17585435653982007,
          -1.9427849621791005,
          0.6383194336608051,
          -0.5636857633068413,
          1.4532717471072045,
          -0.1546783296052423,
          -2.040050455864562,
          0.3703846517359164,
          -0.2758539150414947,
          1.672333733896175,
          -0.08044795039107822,
          0.11971031268949872,
          1.0382993689294366,
          -0.6943458168918806,
          0.7222893639159418,
          0.8582820725921998,
          0.04929595531506159,
          0.9106918009871423,
          0.15967432070393084,
          1.0556434597103141,
          0.9946729860718149,
          -0.5299013083728887,
          0.9540115629997423,
          0.3330343184907383,
          1.2462303140634052,
          0.6299669730113937,
          -1.2302954360335265,
          0.9258172324377902,
          0.20629714518480569,
          1.3115490901831324,
          0.33167105395060137,
          -1.528038020674197,
          0.9745418666686536,
          -0.11174885554313008,
          1.5055285771894305,
          0.14550977700407408,
          -1.811592196738815,
          0.7639480154197607,
          -0.09918047715489564,
          1.7527519420831057,
          0.09177111838938767,
          -0.11119860285460614,
          1.4196168892204515,
          -0.8721128525605883,
          0.7925853758078301,
          0.821937441688898,
          0.0005127506335496079,
          1.3940601909248382,
          -0.1723188141496692,
          0.9702724719140283,
          0.9672309138275947,
          -0.2250225892237605,
          1.2433820933584254,
          0.20449332118387797,
          1.197108640191498,
          0.9012673817614063,
          -0.7453880309799157,
          1.217071324241406,
          0.3937156313596537,
          1.4250015326115992,
          0.7317547938628417,
          -1.2490998108426816,
          1.0686958242494988,
          0.3464741112201306,
          1.5101260382035901,
          0.48619036662123793,
          -1.501054040853354,
          1.0562316375575937,
          0.1936586429878524,
          1.7409822301687177,
          0.3155587528005963,
          -0.3270736055469152,
          1.7632732408346428,
          -0.9143099362185336,
          0.9147157260039336,
          0.7544138198913846,
          -0.11961278983974477,
          1.716755730300755,
          -0.3599678687580372,
          1.018010291233752,
          0.9682145410949614,
          -0.16367035016706133,
          1.640364420576053,
          0.008753820991709738,
          1.1394656642741632,
          0.9479970548963159,
          -0.459289485301408,
          1.452547183920978,
          0.36043652727328546,
          1.3776333788708515,
          0.9702139693891016,
          -0.8957188138786227,
          1.2935689549997376,
          0.5291585602836513,
          1.5560590333440452,
          0.7784991856844625,
          -1.2460329558955507,
          1.1439234407188907,
          0.5896601818852432,
          1.7055793014381022,
          0.591251007032584
         ],
         "y0": " ",
         "yaxis": "y"
        },
        {
         "alignmentgroup": "True",
         "boxpoints": "all",
         "fillcolor": "rgba(255,255,255,0)",
         "hoveron": "points",
         "hovertemplate": "sc=1<br>theta=%{x}<br>diff=%{y}<extra></extra>",
         "legendgroup": "1",
         "line": {
          "color": "rgba(255,255,255,0)"
         },
         "marker": {
          "color": "#636efa",
          "opacity": 0.5,
          "size": 5
         },
         "name": "1",
         "offsetgroup": "1",
         "orientation": "v",
         "pointpos": 0,
         "showlegend": false,
         "type": "box",
         "x": [
          "CSENT",
          "IPM",
          "HOUSE",
          "UNEMP",
          "LRIR",
          "CSENT",
          "IPM",
          "HOUSE",
          "UNEMP",
          "LRIR",
          "CSENT",
          "IPM",
          "HOUSE",
          "UNEMP",
          "LRIR",
          "CSENT",
          "IPM",
          "HOUSE",
          "UNEMP",
          "LRIR",
          "CSENT",
          "IPM",
          "HOUSE",
          "UNEMP",
          "LRIR",
          "CSENT",
          "IPM",
          "HOUSE",
          "UNEMP",
          "LRIR",
          "CSENT",
          "IPM",
          "HOUSE",
          "UNEMP",
          "LRIR",
          "CSENT",
          "IPM",
          "HOUSE",
          "UNEMP",
          "LRIR",
          "CSENT",
          "IPM",
          "HOUSE",
          "UNEMP",
          "LRIR",
          "CSENT",
          "IPM",
          "HOUSE",
          "UNEMP",
          "LRIR",
          "CSENT",
          "IPM",
          "HOUSE",
          "UNEMP",
          "LRIR",
          "CSENT",
          "IPM",
          "HOUSE",
          "UNEMP",
          "LRIR",
          "CSENT",
          "IPM",
          "HOUSE",
          "UNEMP",
          "LRIR",
          "CSENT",
          "IPM",
          "HOUSE",
          "UNEMP",
          "LRIR",
          "CSENT",
          "IPM",
          "HOUSE",
          "UNEMP",
          "LRIR",
          "CSENT",
          "IPM",
          "HOUSE",
          "UNEMP",
          "LRIR",
          "CSENT",
          "IPM",
          "HOUSE",
          "UNEMP",
          "LRIR",
          "CSENT",
          "IPM",
          "HOUSE",
          "UNEMP",
          "LRIR",
          "CSENT",
          "IPM",
          "HOUSE",
          "UNEMP",
          "LRIR",
          "CSENT",
          "IPM",
          "HOUSE",
          "UNEMP",
          "LRIR",
          "CSENT",
          "IPM",
          "HOUSE",
          "UNEMP",
          "LRIR",
          "CSENT",
          "IPM",
          "HOUSE",
          "UNEMP",
          "LRIR",
          "CSENT",
          "IPM",
          "HOUSE",
          "UNEMP",
          "LRIR",
          "CSENT",
          "IPM",
          "HOUSE",
          "UNEMP",
          "LRIR",
          "CSENT",
          "IPM",
          "HOUSE",
          "UNEMP",
          "LRIR",
          "CSENT",
          "IPM",
          "HOUSE",
          "UNEMP",
          "LRIR",
          "CSENT",
          "IPM",
          "HOUSE",
          "UNEMP",
          "LRIR",
          "CSENT",
          "IPM",
          "HOUSE",
          "UNEMP",
          "LRIR",
          "CSENT",
          "IPM",
          "HOUSE",
          "UNEMP",
          "LRIR",
          "CSENT",
          "IPM",
          "HOUSE",
          "UNEMP",
          "LRIR",
          "CSENT",
          "IPM",
          "HOUSE",
          "UNEMP",
          "LRIR",
          "CSENT",
          "IPM",
          "HOUSE",
          "UNEMP",
          "LRIR",
          "CSENT",
          "IPM",
          "HOUSE",
          "UNEMP",
          "LRIR",
          "CSENT",
          "IPM",
          "HOUSE",
          "UNEMP",
          "LRIR",
          "CSENT",
          "IPM",
          "HOUSE",
          "UNEMP",
          "LRIR",
          "CSENT",
          "IPM",
          "HOUSE",
          "UNEMP",
          "LRIR"
         ],
         "x0": " ",
         "xaxis": "x2",
         "y": [
          0.11600595664975055,
          0.03742327591471484,
          0.07654988168121046,
          0.031316530295195766,
          0.0797270708471477,
          0.15533352787470167,
          0.036855340752231514,
          0.11869030886164478,
          0.012179724831421601,
          0.10373213432945416,
          0.15539553025581,
          0.04198885374690542,
          0.10191221904977721,
          -0.016494684831601658,
          0.07621054037213615,
          0.15144122989539566,
          0.05694302399028173,
          0.09240571179704293,
          -0.024514308631473414,
          0.072151154665553,
          0.1698626106992649,
          0.0811114460639153,
          0.07869799345792816,
          -0.03158742396189096,
          0.08879347801546944,
          0.17126716626405813,
          0.09692754769393463,
          0.0615459355592205,
          -0.02650225971123965,
          0.0822650831980718,
          -0.004316630832318147,
          0.006103914121009635,
          0.0028878895669742777,
          -0.0370924422730049,
          -0.04048162691861801,
          0.05505996464931018,
          0.004852407048146046,
          -0.008128034852186938,
          -0.027837063228981607,
          0.0017532643393466385,
          0.08504544474055875,
          -0.01730104302508817,
          0.044601377424874245,
          -0.03477223975461019,
          0.038733040416441544,
          0.10768688808360771,
          -0.0159565107631382,
          0.058224458719873695,
          -0.05573942378811836,
          0.03780378847659094,
          0.10374612026444552,
          -0.003891011602636274,
          0.046533994470882356,
          -0.07255144746732078,
          0.02310324041419587,
          0.11604764600162165,
          0.017064517950301616,
          0.03628843627766132,
          -0.07801928400594149,
          0.03253779824366865,
          -0.017313332858638786,
          -0.020650102124703862,
          0.016170416032953217,
          -0.03800760089048716,
          -0.04917740332328824,
          0.011085404250008812,
          -0.026235350830821402,
          -0.018657872981756807,
          -0.053361285966939676,
          -0.0363446146714731,
          0.05109705501140449,
          -0.02991724448732891,
          -0.005056792579341551,
          -0.05280808086892963,
          -0.004368361453523595,
          0.07345217474475885,
          -0.043115769255474334,
          0.021934654112283902,
          -0.06833913692498284,
          0.008915094089999243,
          0.08525048584888884,
          -0.03512876698865064,
          0.028093807779498325,
          -0.08509563488569105,
          0.007982447123762837,
          0.08815902446188151,
          -0.019865318836151058,
          0.014024591140680664,
          -0.09910673402896975,
          0.0041579823110247105,
          -0.005402053268533935,
          -0.05112883240246313,
          0.02879987828898145,
          -0.03454465090483305,
          -0.04157182214014843,
          -0.002154668484503852,
          -0.043314021254853285,
          -0.00705800860823369,
          -0.05089257742590769,
          -0.0476819353810044,
          0.022637769677748,
          -0.0470775651527241,
          -0.015510759871212976,
          -0.0631238342516629,
          -0.030175401671153956,
          0.05287222845162509,
          -0.04869246657376214,
          -0.010187804750878326,
          -0.07123660186068348,
          -0.01656479480833295,
          0.06631791270809595,
          -0.05317866842184105,
          0.005556214534508719,
          -0.08572068197614158,
          -0.007401864875343223,
          0.07683662304077765,
          -0.041188929524555884,
          0.0049651000434230985,
          -0.10224108055975345,
          -0.004672437304172217,
          0.004849246022819331,
          -0.07195111500549745,
          0.03496504755659369,
          -0.03787422662502293,
          -0.039388330133774074,
          -0.00002186794729386321,
          -0.06841480951465584,
          0.007211738244457533,
          -0.04572045081876619,
          -0.04556355957107305,
          0.009442941387393655,
          -0.06058864092538829,
          -0.008986062617173718,
          -0.058078601921845,
          -0.04249735560072054,
          0.031043729220962435,
          -0.061689869862375124,
          -0.018463151416093893,
          -0.07359406745399011,
          -0.035454762919312044,
          0.05311120652186241,
          -0.056856668570973934,
          -0.01727981407977275,
          -0.08341392146251236,
          -0.024560999564202546,
          0.06348882377903875,
          -0.05713061348792525,
          -0.00970449333714496,
          -0.09966570572019717,
          -0.01599045980935121,
          0.013690570482944087,
          -0.09138112714612345,
          0.035710911817076085,
          -0.04370394623141094,
          -0.035468303281499414,
          0.004977914461959054,
          -0.08645350382338446,
          0.01456888428680414,
          -0.04787945075018629,
          -0.0453079276534295,
          0.00674110392514371,
          -0.08164117407417337,
          -0.00036772546930385897,
          -0.05399587802639372,
          -0.04405917305156004,
          0.018789745119513923,
          -0.07263975658677602,
          -0.016151659918368533,
          -0.06840229958719668,
          -0.046292014593015574,
          0.03701024615304738,
          -0.06693214420328586,
          -0.02545404966953435,
          -0.08245859490208274,
          -0.03837221494091514,
          0.05212047009573617,
          -0.06087510689735276,
          -0.02982222971919457,
          -0.09532836663839717,
          -0.029907167525402012
         ],
         "y0": " ",
         "yaxis": "y2"
        },
        {
         "alignmentgroup": "True",
         "boxpoints": "all",
         "fillcolor": "rgba(255,255,255,0)",
         "hoveron": "points",
         "hovertemplate": "sc=6<br>theta=%{x}<br>diff=%{y}<extra></extra>",
         "legendgroup": "6",
         "line": {
          "color": "rgba(255,255,255,0)"
         },
         "marker": {
          "color": "#EF553B",
          "opacity": 0.5,
          "size": 5
         },
         "name": "6",
         "offsetgroup": "6",
         "orientation": "v",
         "pointpos": 0,
         "showlegend": true,
         "type": "box",
         "x": [
          "CSENT",
          "IPM",
          "HOUSE",
          "UNEMP",
          "LRIR",
          "CSENT",
          "IPM",
          "HOUSE",
          "UNEMP",
          "LRIR",
          "CSENT",
          "IPM",
          "HOUSE",
          "UNEMP",
          "LRIR",
          "CSENT",
          "IPM",
          "HOUSE",
          "UNEMP",
          "LRIR",
          "CSENT",
          "IPM",
          "HOUSE",
          "UNEMP",
          "LRIR",
          "CSENT",
          "IPM",
          "HOUSE",
          "UNEMP",
          "LRIR",
          "CSENT",
          "IPM",
          "HOUSE",
          "UNEMP",
          "LRIR",
          "CSENT",
          "IPM",
          "HOUSE",
          "UNEMP",
          "LRIR",
          "CSENT",
          "IPM",
          "HOUSE",
          "UNEMP",
          "LRIR",
          "CSENT",
          "IPM",
          "HOUSE",
          "UNEMP",
          "LRIR",
          "CSENT",
          "IPM",
          "HOUSE",
          "UNEMP",
          "LRIR",
          "CSENT",
          "IPM",
          "HOUSE",
          "UNEMP",
          "LRIR",
          "CSENT",
          "IPM",
          "HOUSE",
          "UNEMP",
          "LRIR",
          "CSENT",
          "IPM",
          "HOUSE",
          "UNEMP",
          "LRIR",
          "CSENT",
          "IPM",
          "HOUSE",
          "UNEMP",
          "LRIR",
          "CSENT",
          "IPM",
          "HOUSE",
          "UNEMP",
          "LRIR",
          "CSENT",
          "IPM",
          "HOUSE",
          "UNEMP",
          "LRIR",
          "CSENT",
          "IPM",
          "HOUSE",
          "UNEMP",
          "LRIR",
          "CSENT",
          "IPM",
          "HOUSE",
          "UNEMP",
          "LRIR",
          "CSENT",
          "IPM",
          "HOUSE",
          "UNEMP",
          "LRIR",
          "CSENT",
          "IPM",
          "HOUSE",
          "UNEMP",
          "LRIR",
          "CSENT",
          "IPM",
          "HOUSE",
          "UNEMP",
          "LRIR",
          "CSENT",
          "IPM",
          "HOUSE",
          "UNEMP",
          "LRIR",
          "CSENT",
          "IPM",
          "HOUSE",
          "UNEMP",
          "LRIR",
          "CSENT",
          "IPM",
          "HOUSE",
          "UNEMP",
          "LRIR",
          "CSENT",
          "IPM",
          "HOUSE",
          "UNEMP",
          "LRIR",
          "CSENT",
          "IPM",
          "HOUSE",
          "UNEMP",
          "LRIR",
          "CSENT",
          "IPM",
          "HOUSE",
          "UNEMP",
          "LRIR",
          "CSENT",
          "IPM",
          "HOUSE",
          "UNEMP",
          "LRIR",
          "CSENT",
          "IPM",
          "HOUSE",
          "UNEMP",
          "LRIR",
          "CSENT",
          "IPM",
          "HOUSE",
          "UNEMP",
          "LRIR",
          "CSENT",
          "IPM",
          "HOUSE",
          "UNEMP",
          "LRIR",
          "CSENT",
          "IPM",
          "HOUSE",
          "UNEMP",
          "LRIR",
          "CSENT",
          "IPM",
          "HOUSE",
          "UNEMP",
          "LRIR",
          "CSENT",
          "IPM",
          "HOUSE",
          "UNEMP",
          "LRIR",
          "CSENT",
          "IPM",
          "HOUSE",
          "UNEMP",
          "LRIR"
         ],
         "x0": " ",
         "xaxis": "x",
         "y": [
          -1.121386539983039,
          -0.7732590277353903,
          -1.1933344316657895,
          -0.6267771707736429,
          -1.4298500079667225,
          -1.7455873921854987,
          -0.763671637856703,
          -1.9485924147479796,
          -0.8470060513972548,
          -1.6454137002416402,
          -1.5929499139810215,
          -0.8090376292401853,
          -1.9378390213186272,
          -0.6304007215688383,
          -1.3780870563398278,
          -1.3304979801456955,
          -0.899520757244801,
          -1.9514334005430456,
          -0.5804877181202883,
          -1.0307317499858062,
          -1.4217193908616945,
          -1.2805058481363982,
          -1.7345567364804992,
          -0.40564181934005994,
          -0.8658248080820528,
          -1.3959958011250464,
          -1.5694971663699508,
          -1.1385931777352898,
          -0.27917808472544614,
          -0.6924547522296329,
          0.7033503514454633,
          -0.24123995813634647,
          -0.664100900097945,
          0.20043292327399342,
          0.16693907438251365,
          -0.43042118691820974,
          -0.5784688023946636,
          -0.8008200747151974,
          -0.18657284096939541,
          -0.8168989788837937,
          -1.3941588368813385,
          -0.6427335808275068,
          -1.4954993027172918,
          -0.6277708101376938,
          -1.4941639181711075,
          -1.6782267347781339,
          -0.6888359919639679,
          -1.9068327019051061,
          -0.6566938845371286,
          -1.4584121065707798,
          -1.4126851376271947,
          -0.7578029953390182,
          -1.9049058103616634,
          -0.5012315324710261,
          -1.133478485589288,
          -1.2988659099055138,
          -0.9966155302576052,
          -1.7927584952463285,
          -0.3924750162422832,
          -0.8701134025804826,
          0.5214140731823065,
          0.07994917033954341,
          -0.8364791798546864,
          0.16988161136243463,
          0.1009805682809306,
          0.16733545276185247,
          -0.21578187166359264,
          -0.6578837691006774,
          0.1390928348625522,
          -0.3199083916870551,
          -0.849273525955196,
          -0.4897629345230694,
          -1.0817819505722994,
          -0.2878890041424924,
          -1.0958577757513375,
          -1.482045110274937,
          -0.5739565392926487,
          -1.581766656773615,
          -0.5479719962014205,
          -1.369558187936864,
          -1.5349810822864178,
          -0.6571970479992402,
          -1.8541699339033162,
          -0.515008930202546,
          -1.2243344424247695,
          -1.286114132054914,
          -0.8102485486367286,
          -1.7514982184820962,
          -0.3492161026594651,
          -0.9468169615908657,
          0.18075842861017577,
          0.5038624832380627,
          -1.0071159335965234,
          0.14303737829088803,
          -0.05233366880560908,
          0.25288459045305967,
          0.10932341414912727,
          -0.735720628484672,
          0.22311783013298125,
          -0.16687041682899206,
          -0.3008402694451373,
          -0.16387674988121947,
          -0.8590549212815013,
          0.02758680696901905,
          -0.666206399646339,
          -1.0904703332677599,
          -0.439017647496728,
          -1.227431266345711,
          -0.30289910826129507,
          -1.0932806711539378,
          -1.4497898673933562,
          -0.5491662102566295,
          -1.602097250577457,
          -0.46382307123616684,
          -1.2030257719364421,
          -1.3626373250732673,
          -0.6747237087342057,
          -1.7150859505420222,
          -0.36039287747781223,
          -1.02125738394958,
          -0.13111598230371424,
          0.7077288869070255,
          -1.1277545071898425,
          0.20884877190660767,
          -0.14373155985190245,
          0.10106241937654303,
          0.518315420423396,
          -0.8733355927528343,
          0.25228327458752275,
          -0.1798662551236916,
          -0.08127478531486254,
          0.1681659623939451,
          -0.8239558208818023,
          0.1596108774538436,
          -0.4241039002970721,
          -0.6358055998213548,
          -0.14051129460644418,
          -0.9925094908678957,
          -0.038150308037927516,
          -0.7525114529723158,
          -1.1791668731642169,
          -0.42802716671901386,
          -1.3007908289309134,
          -0.28466185721316606,
          -1.0257755171433391,
          -1.3125839004250928,
          -0.5530524305376225,
          -1.5241033645325874,
          -0.3372254706421991,
          -1.0304273510895783,
          -0.4303659378396274,
          0.9359794198500984,
          -1.1845427897613918,
          0.27210745691395566,
          -0.3096131185620381,
          -0.09717924108462395,
          0.7489654027861787,
          -0.9767002044154385,
          0.33571850051925267,
          -0.2023905212817887,
          -0.07452661596516297,
          0.58048685145428,
          -0.8681157324685014,
          0.2532245409089606,
          -0.3468390384565385,
          -0.37576638760484027,
          0.19143991085231793,
          -0.8897544771978874,
          0.09869657369477913,
          -0.505891474106491,
          -0.8284424890955622,
          -0.1519828655555706,
          -1.0686893395751094,
          -0.07846873185001435,
          -0.762307656047879,
          -1.1051498012952354,
          -0.41035034016012517,
          -1.2497066151197904,
          -0.22631432089514192,
          -0.9173028845769879
         ],
         "y0": " ",
         "yaxis": "y"
        },
        {
         "alignmentgroup": "True",
         "boxpoints": "all",
         "fillcolor": "rgba(255,255,255,0)",
         "hoveron": "points",
         "hovertemplate": "sc=6<br>theta=%{x}<br>diff=%{y}<extra></extra>",
         "legendgroup": "6",
         "line": {
          "color": "rgba(255,255,255,0)"
         },
         "marker": {
          "color": "#EF553B",
          "opacity": 0.5,
          "size": 5
         },
         "name": "6",
         "offsetgroup": "6",
         "orientation": "v",
         "pointpos": 0,
         "showlegend": false,
         "type": "box",
         "x": [
          "CSENT",
          "IPM",
          "HOUSE",
          "UNEMP",
          "LRIR",
          "CSENT",
          "IPM",
          "HOUSE",
          "UNEMP",
          "LRIR",
          "CSENT",
          "IPM",
          "HOUSE",
          "UNEMP",
          "LRIR",
          "CSENT",
          "IPM",
          "HOUSE",
          "UNEMP",
          "LRIR",
          "CSENT",
          "IPM",
          "HOUSE",
          "UNEMP",
          "LRIR",
          "CSENT",
          "IPM",
          "HOUSE",
          "UNEMP",
          "LRIR",
          "CSENT",
          "IPM",
          "HOUSE",
          "UNEMP",
          "LRIR",
          "CSENT",
          "IPM",
          "HOUSE",
          "UNEMP",
          "LRIR",
          "CSENT",
          "IPM",
          "HOUSE",
          "UNEMP",
          "LRIR",
          "CSENT",
          "IPM",
          "HOUSE",
          "UNEMP",
          "LRIR",
          "CSENT",
          "IPM",
          "HOUSE",
          "UNEMP",
          "LRIR",
          "CSENT",
          "IPM",
          "HOUSE",
          "UNEMP",
          "LRIR",
          "CSENT",
          "IPM",
          "HOUSE",
          "UNEMP",
          "LRIR",
          "CSENT",
          "IPM",
          "HOUSE",
          "UNEMP",
          "LRIR",
          "CSENT",
          "IPM",
          "HOUSE",
          "UNEMP",
          "LRIR",
          "CSENT",
          "IPM",
          "HOUSE",
          "UNEMP",
          "LRIR",
          "CSENT",
          "IPM",
          "HOUSE",
          "UNEMP",
          "LRIR",
          "CSENT",
          "IPM",
          "HOUSE",
          "UNEMP",
          "LRIR",
          "CSENT",
          "IPM",
          "HOUSE",
          "UNEMP",
          "LRIR",
          "CSENT",
          "IPM",
          "HOUSE",
          "UNEMP",
          "LRIR",
          "CSENT",
          "IPM",
          "HOUSE",
          "UNEMP",
          "LRIR",
          "CSENT",
          "IPM",
          "HOUSE",
          "UNEMP",
          "LRIR",
          "CSENT",
          "IPM",
          "HOUSE",
          "UNEMP",
          "LRIR",
          "CSENT",
          "IPM",
          "HOUSE",
          "UNEMP",
          "LRIR",
          "CSENT",
          "IPM",
          "HOUSE",
          "UNEMP",
          "LRIR",
          "CSENT",
          "IPM",
          "HOUSE",
          "UNEMP",
          "LRIR",
          "CSENT",
          "IPM",
          "HOUSE",
          "UNEMP",
          "LRIR",
          "CSENT",
          "IPM",
          "HOUSE",
          "UNEMP",
          "LRIR",
          "CSENT",
          "IPM",
          "HOUSE",
          "UNEMP",
          "LRIR",
          "CSENT",
          "IPM",
          "HOUSE",
          "UNEMP",
          "LRIR",
          "CSENT",
          "IPM",
          "HOUSE",
          "UNEMP",
          "LRIR",
          "CSENT",
          "IPM",
          "HOUSE",
          "UNEMP",
          "LRIR",
          "CSENT",
          "IPM",
          "HOUSE",
          "UNEMP",
          "LRIR",
          "CSENT",
          "IPM",
          "HOUSE",
          "UNEMP",
          "LRIR",
          "CSENT",
          "IPM",
          "HOUSE",
          "UNEMP",
          "LRIR",
          "CSENT",
          "IPM",
          "HOUSE",
          "UNEMP",
          "LRIR"
         ],
         "x0": " ",
         "xaxis": "x2",
         "y": [
          0.08848383827660111,
          0.062104269107650545,
          0.09381338779555715,
          0.05071123682662115,
          0.11103798294320044,
          0.14284868159780273,
          0.06552273092513072,
          0.15786390815479712,
          0.07238773597286474,
          0.13531670328336698,
          0.13460197937254048,
          0.07091817001097034,
          0.16105144952169181,
          0.05571310395777129,
          0.11763955012537874,
          0.1133612295802231,
          0.07820074171625269,
          0.1613912879154904,
          0.051210355911407546,
          0.08906359271481357,
          0.11831834229337002,
          0.10729317268831706,
          0.1421719369781993,
          0.03541519997621767,
          0.073990506154759,
          0.11384353886578624,
          0.1269000428581616,
          0.09402820214781127,
          0.0240179348962567,
          0.05842431561360406,
          -0.05079787203662267,
          0.016463877152173345,
          0.044140827719404196,
          -0.01405153298875883,
          -0.011679881553250504,
          0.03234716103996238,
          0.043113672219382115,
          0.05893795893735687,
          0.01421242599533934,
          0.06006616372334417,
          0.10936281614928689,
          0.052442426892089,
          0.11667716347716361,
          0.05126093932595055,
          0.11658134047550017,
          0.13732587910014304,
          0.05921892059094791,
          0.15420750902642655,
          0.05654403406873987,
          0.12068084305824323,
          0.11835463513105116,
          0.06556310612058613,
          0.15567348543713566,
          0.043902784483416224,
          0.0962856057865733,
          0.10777426969868997,
          0.0839529000763477,
          0.14505739224420344,
          0.03405158677116915,
          0.07375631946830075,
          -0.03646421969660196,
          -0.005437684038524404,
          0.05356020164876241,
          -0.011620786201182676,
          -0.006877351159869538,
          -0.011952498504811282,
          0.015054379531446171,
          0.04463682515372158,
          -0.009918135758301805,
          0.022174457386025637,
          0.06374223172031956,
          0.037521644031165424,
          0.08010394536906618,
          0.022307382603801162,
          0.08107943654854799,
          0.11691893003688592,
          0.04753337116719125,
          0.12410390603061083,
          0.04544298014254444,
          0.1087109821645329,
          0.12526637544185082,
          0.05612500114041252,
          0.14875743389058738,
          0.04429846546640004,
          0.10155858249299943,
          0.10579956049302663,
          0.06832023847389124,
          0.1405597269161004,
          0.030141928906458837,
          0.07927672236189542,
          -0.012372420514363158,
          -0.03521762631785008,
          0.06357278835832947,
          -0.009766336744982729,
          0.003527426669747813,
          -0.017418115355750885,
          -0.007459749514505232,
          0.04742153960667661,
          -0.01533814263064781,
          0.011180359823167452,
          0.0214826852491532,
          0.011802491207215438,
          0.05920289035386517,
          -0.0020104021165323616,
          0.04648618049170272,
          0.08259452754372898,
          0.034528018673708916,
          0.09221826835436997,
          0.024006453892739588,
          0.0827936815492738,
          0.11473910594394077,
          0.04566905000060706,
          0.12570415739886098,
          0.038748488999078456,
          0.09653441300192556,
          0.11002688012225303,
          0.05655376589044159,
          0.1357860078293598,
          0.030713194392285592,
          0.0840189391824806,
          0.00887802683950667,
          -0.05066484876307786,
          0.07116731604910553,
          -0.01446954015640034,
          0.009723863456171267,
          -0.006804493852924365,
          -0.035895500236816535,
          0.05487628781251086,
          -0.017162102056517803,
          0.01187726207417017,
          0.0055807878591358495,
          -0.011740467877468297,
          0.05375848057472121,
          -0.011136906232279031,
          0.02845158953556548,
          0.04593819284867595,
          0.01047277781231748,
          0.0700800157504089,
          0.0028614578753380915,
          0.05396589360823478,
          0.09020664482596663,
          0.03422599346069388,
          0.09878176538132433,
          0.022950277464586333,
          0.07919733407181817,
          0.10366460654785281,
          0.04561581503048373,
          0.118883241543291,
          0.02815002375688236,
          0.0827213423609614,
          0.028658447312703506,
          -0.06842545756894491,
          0.07462016010221606,
          -0.019031286062362263,
          0.02079567324423326,
          0.006467999842655225,
          -0.05286599368001077,
          0.06091737927746188,
          -0.02303638730484525,
          0.01336922588319045,
          0.0049858684030616995,
          -0.04064387091099253,
          0.05479967098654903,
          -0.017335714128656643,
          0.022754349173953248,
          0.02607064764953748,
          -0.013798828701083066,
          0.05955479253504081,
          -0.007070406953572528,
          0.03478544902503988,
          0.06068502830548317,
          0.011622520464354746,
          0.07706119707296555,
          0.006028169745454504,
          0.056080548725826906,
          0.0848638028144193,
          0.03286897264564448,
          0.09510351184142285,
          0.018326168938535004,
          0.07126013117292773
         ],
         "y0": " ",
         "yaxis": "y2"
        },
        {
         "alignmentgroup": "True",
         "boxpoints": "all",
         "fillcolor": "rgba(255,255,255,0)",
         "hoveron": "points",
         "hovertemplate": "sc=12<br>theta=%{x}<br>diff=%{y}<extra></extra>",
         "legendgroup": "12",
         "line": {
          "color": "rgba(255,255,255,0)"
         },
         "marker": {
          "color": "#00cc96",
          "opacity": 0.5,
          "size": 5
         },
         "name": "12",
         "offsetgroup": "12",
         "orientation": "v",
         "pointpos": 0,
         "showlegend": true,
         "type": "box",
         "x": [
          "CSENT",
          "IPM",
          "HOUSE",
          "UNEMP",
          "LRIR",
          "CSENT",
          "IPM",
          "HOUSE",
          "UNEMP",
          "LRIR",
          "CSENT",
          "IPM",
          "HOUSE",
          "UNEMP",
          "LRIR",
          "CSENT",
          "IPM",
          "HOUSE",
          "UNEMP",
          "LRIR",
          "CSENT",
          "IPM",
          "HOUSE",
          "UNEMP",
          "LRIR",
          "CSENT",
          "IPM",
          "HOUSE",
          "UNEMP",
          "LRIR",
          "CSENT",
          "IPM",
          "HOUSE",
          "UNEMP",
          "LRIR",
          "CSENT",
          "IPM",
          "HOUSE",
          "UNEMP",
          "LRIR",
          "CSENT",
          "IPM",
          "HOUSE",
          "UNEMP",
          "LRIR",
          "CSENT",
          "IPM",
          "HOUSE",
          "UNEMP",
          "LRIR",
          "CSENT",
          "IPM",
          "HOUSE",
          "UNEMP",
          "LRIR",
          "CSENT",
          "IPM",
          "HOUSE",
          "UNEMP",
          "LRIR",
          "CSENT",
          "IPM",
          "HOUSE",
          "UNEMP",
          "LRIR",
          "CSENT",
          "IPM",
          "HOUSE",
          "UNEMP",
          "LRIR",
          "CSENT",
          "IPM",
          "HOUSE",
          "UNEMP",
          "LRIR",
          "CSENT",
          "IPM",
          "HOUSE",
          "UNEMP",
          "LRIR",
          "CSENT",
          "IPM",
          "HOUSE",
          "UNEMP",
          "LRIR",
          "CSENT",
          "IPM",
          "HOUSE",
          "UNEMP",
          "LRIR",
          "CSENT",
          "IPM",
          "HOUSE",
          "UNEMP",
          "LRIR",
          "CSENT",
          "IPM",
          "HOUSE",
          "UNEMP",
          "LRIR",
          "CSENT",
          "IPM",
          "HOUSE",
          "UNEMP",
          "LRIR",
          "CSENT",
          "IPM",
          "HOUSE",
          "UNEMP",
          "LRIR",
          "CSENT",
          "IPM",
          "HOUSE",
          "UNEMP",
          "LRIR",
          "CSENT",
          "IPM",
          "HOUSE",
          "UNEMP",
          "LRIR",
          "CSENT",
          "IPM",
          "HOUSE",
          "UNEMP",
          "LRIR",
          "CSENT",
          "IPM",
          "HOUSE",
          "UNEMP",
          "LRIR",
          "CSENT",
          "IPM",
          "HOUSE",
          "UNEMP",
          "LRIR",
          "CSENT",
          "IPM",
          "HOUSE",
          "UNEMP",
          "LRIR",
          "CSENT",
          "IPM",
          "HOUSE",
          "UNEMP",
          "LRIR",
          "CSENT",
          "IPM",
          "HOUSE",
          "UNEMP",
          "LRIR",
          "CSENT",
          "IPM",
          "HOUSE",
          "UNEMP",
          "LRIR",
          "CSENT",
          "IPM",
          "HOUSE",
          "UNEMP",
          "LRIR",
          "CSENT",
          "IPM",
          "HOUSE",
          "UNEMP",
          "LRIR",
          "CSENT",
          "IPM",
          "HOUSE",
          "UNEMP",
          "LRIR",
          "CSENT",
          "IPM",
          "HOUSE",
          "UNEMP",
          "LRIR",
          "CSENT",
          "IPM",
          "HOUSE",
          "UNEMP",
          "LRIR"
         ],
         "x0": " ",
         "xaxis": "x",
         "y": [
          -0.21127594262355842,
          -0.6683826856534569,
          -1.2986235886603712,
          -0.45853365051879535,
          -1.667942977757182,
          -0.7715764798672016,
          -0.8075347658629806,
          -1.785672057102829,
          -0.8018077921208437,
          -1.543978977979485,
          -0.7746212110120698,
          -0.8055861163463884,
          -1.7727950975857496,
          -0.8030399011681748,
          -1.2949972649970363,
          -0.7318357112377019,
          -0.9734591519321469,
          -1.8858718487554782,
          -0.8930977533830848,
          -1.046932111260407,
          -0.7788689396501844,
          -1.4260143645253454,
          -1.741431503278342,
          -0.8999761836414546,
          -0.958135066021562,
          -0.7821311913061795,
          -1.6807875363585154,
          -1.2571543558652394,
          -0.9208757525350961,
          -0.7338117308864671,
          1.1742823949454575,
          -0.17923244309677955,
          -0.8650174675131463,
          0.2839572891822453,
          -0.51344812672159,
          0.3980741699071757,
          -0.47253049655002854,
          -0.9939184447205012,
          -0.08100811624702686,
          -1.3717697087162435,
          -0.4419186982368881,
          -0.6472358470330484,
          -1.4748040777879368,
          -0.5668899319835514,
          -1.5990494561098192,
          -0.7629989341272161,
          -0.7344574949796705,
          -1.7531660062983718,
          -0.7672387900539643,
          -1.3895442156335864,
          -0.7208829763791336,
          -0.836063168281326,
          -1.8240848376403278,
          -0.7927169821397779,
          -1.1244639986555924,
          -0.6747816666070232,
          -1.1453334644102906,
          -1.7966847830516333,
          -0.8332659091233765,
          -0.9536721239941244,
          0.8499115285154346,
          -0.0029270660144664618,
          -1.0362733291460788,
          0.2333203896140752,
          -0.5367231760433366,
          0.7886596224299325,
          -0.20498287564555184,
          -0.8903987848890118,
          0.17948488617540193,
          -0.982658177097484,
          0.06575170186783375,
          -0.48198100606259864,
          -1.1673442091122137,
          -0.2699393996738344,
          -1.5053209626895896,
          -0.5492137966883224,
          -0.6146750262073297,
          -1.5273224214379528,
          -0.6155857889725773,
          -1.4624880080518636,
          -0.7386262522784648,
          -0.7520731168794725,
          -1.7635696243479924,
          -0.7459971654208299,
          -1.2106387486611556,
          -0.6303875298689174,
          -0.9683065896771232,
          -1.7509688924553117,
          -0.7652632294043151,
          -1.0006740125971305,
          0.4354798086862477,
          0.31291608675681637,
          -1.1675941538648864,
          0.15624144630795023,
          -0.6779738059676976,
          0.7056246857789397,
          -0.0009805205068431633,
          -0.9818631786456624,
          0.2325248076052553,
          -0.8439952140274212,
          0.46151534710190134,
          -0.21638975500010105,
          -1.0043002030949477,
          0.007623773987075921,
          -1.2308940034259166,
          -0.155957534418679,
          -0.46120616972731554,
          -1.2539339728219332,
          -0.37582683569226916,
          -1.4348124996569585,
          -0.5945915776362991,
          -0.625854416978683,
          -1.5703174011226793,
          -0.6218960195706646,
          -1.296133565544558,
          -0.633577950628796,
          -0.8450554984067136,
          -1.70144970279007,
          -0.7237777428300749,
          -1.0606301857034435,
          0.08623548496745492,
          0.5068741805638677,
          -1.2621213659829493,
          0.13768059053069415,
          -0.7948975141247256,
          0.461081444029098,
          0.30365767729688997,
          -1.0852441926032714,
          0.236233919668841,
          -0.8672769575669186,
          0.5180695433190117,
          0.012942098011260228,
          -1.0140890609158877,
          0.11950449178753253,
          -1.0608413074284595,
          0.20127169591065552,
          -0.21627591209887065,
          -1.080604954945029,
          -0.13229187590345504,
          -1.2615162729054141,
          -0.29447875966327075,
          -0.468295241579046,
          -1.3308950030354385,
          -0.4466865144573866,
          -1.3150116892934722,
          -0.5249779649535391,
          -0.6985832221249915,
          -1.549094225308373,
          -0.6265163267608642,
          -1.1352012006189032,
          -0.20886871436489507,
          0.6982901865772533,
          -1.3067423143751862,
          0.09844321909757525,
          -0.9398166662791017,
          0.19913474308568269,
          0.513643924329557,
          -1.1610307847461074,
          0.25174783634724207,
          -0.9142394020344469,
          0.40331028431943494,
          0.3195419711742211,
          -1.0746791723708125,
          0.18002372331785743,
          -1.03384514807711,
          0.31209308776186795,
          0.03369531541891746,
          -1.0455164097346543,
          -0.012979719868450701,
          -1.1237211617525045,
          0.003996988246401045,
          -0.23453297227213454,
          -1.1562051071969321,
          -0.2482703572748708,
          -1.2123109843831408,
          -0.28325019718317357,
          -0.5217315185478846,
          -1.3318487588390049,
          -0.49454749517113505,
          -1.1790709004158941
         ],
         "y0": " ",
         "yaxis": "y"
        },
        {
         "alignmentgroup": "True",
         "boxpoints": "all",
         "fillcolor": "rgba(255,255,255,0)",
         "hoveron": "points",
         "hovertemplate": "sc=12<br>theta=%{x}<br>diff=%{y}<extra></extra>",
         "legendgroup": "12",
         "line": {
          "color": "rgba(255,255,255,0)"
         },
         "marker": {
          "color": "#00cc96",
          "opacity": 0.5,
          "size": 5
         },
         "name": "12",
         "offsetgroup": "12",
         "orientation": "v",
         "pointpos": 0,
         "showlegend": false,
         "type": "box",
         "x": [
          "CSENT",
          "IPM",
          "HOUSE",
          "UNEMP",
          "LRIR",
          "CSENT",
          "IPM",
          "HOUSE",
          "UNEMP",
          "LRIR",
          "CSENT",
          "IPM",
          "HOUSE",
          "UNEMP",
          "LRIR",
          "CSENT",
          "IPM",
          "HOUSE",
          "UNEMP",
          "LRIR",
          "CSENT",
          "IPM",
          "HOUSE",
          "UNEMP",
          "LRIR",
          "CSENT",
          "IPM",
          "HOUSE",
          "UNEMP",
          "LRIR",
          "CSENT",
          "IPM",
          "HOUSE",
          "UNEMP",
          "LRIR",
          "CSENT",
          "IPM",
          "HOUSE",
          "UNEMP",
          "LRIR",
          "CSENT",
          "IPM",
          "HOUSE",
          "UNEMP",
          "LRIR",
          "CSENT",
          "IPM",
          "HOUSE",
          "UNEMP",
          "LRIR",
          "CSENT",
          "IPM",
          "HOUSE",
          "UNEMP",
          "LRIR",
          "CSENT",
          "IPM",
          "HOUSE",
          "UNEMP",
          "LRIR",
          "CSENT",
          "IPM",
          "HOUSE",
          "UNEMP",
          "LRIR",
          "CSENT",
          "IPM",
          "HOUSE",
          "UNEMP",
          "LRIR",
          "CSENT",
          "IPM",
          "HOUSE",
          "UNEMP",
          "LRIR",
          "CSENT",
          "IPM",
          "HOUSE",
          "UNEMP",
          "LRIR",
          "CSENT",
          "IPM",
          "HOUSE",
          "UNEMP",
          "LRIR",
          "CSENT",
          "IPM",
          "HOUSE",
          "UNEMP",
          "LRIR",
          "CSENT",
          "IPM",
          "HOUSE",
          "UNEMP",
          "LRIR",
          "CSENT",
          "IPM",
          "HOUSE",
          "UNEMP",
          "LRIR",
          "CSENT",
          "IPM",
          "HOUSE",
          "UNEMP",
          "LRIR",
          "CSENT",
          "IPM",
          "HOUSE",
          "UNEMP",
          "LRIR",
          "CSENT",
          "IPM",
          "HOUSE",
          "UNEMP",
          "LRIR",
          "CSENT",
          "IPM",
          "HOUSE",
          "UNEMP",
          "LRIR",
          "CSENT",
          "IPM",
          "HOUSE",
          "UNEMP",
          "LRIR",
          "CSENT",
          "IPM",
          "HOUSE",
          "UNEMP",
          "LRIR",
          "CSENT",
          "IPM",
          "HOUSE",
          "UNEMP",
          "LRIR",
          "CSENT",
          "IPM",
          "HOUSE",
          "UNEMP",
          "LRIR",
          "CSENT",
          "IPM",
          "HOUSE",
          "UNEMP",
          "LRIR",
          "CSENT",
          "IPM",
          "HOUSE",
          "UNEMP",
          "LRIR",
          "CSENT",
          "IPM",
          "HOUSE",
          "UNEMP",
          "LRIR",
          "CSENT",
          "IPM",
          "HOUSE",
          "UNEMP",
          "LRIR",
          "CSENT",
          "IPM",
          "HOUSE",
          "UNEMP",
          "LRIR",
          "CSENT",
          "IPM",
          "HOUSE",
          "UNEMP",
          "LRIR",
          "CSENT",
          "IPM",
          "HOUSE",
          "UNEMP",
          "LRIR",
          "CSENT",
          "IPM",
          "HOUSE",
          "UNEMP",
          "LRIR"
         ],
         "x0": " ",
         "xaxis": "x2",
         "y": [
          0.020295097665819606,
          0.06296786879850613,
          0.11902936256520513,
          0.04358764648201641,
          0.15038689387112647,
          0.07711383257982285,
          0.08059035148223448,
          0.1711527464432988,
          0.08003735542206836,
          0.1494940324980364,
          0.07954911344580062,
          0.08262851112944192,
          0.17492512187425713,
          0.08237558672539003,
          0.13027320899535688,
          0.0763060082184529,
          0.10055296355710586,
          0.1878775012536118,
          0.09254082029002508,
          0.10783284716203012,
          0.08013748965685641,
          0.14301224631210774,
          0.1724367636752192,
          0.0921600137983748,
          0.0978916343771109,
          0.07897290363340947,
          0.16365139673361107,
          0.12454071819807488,
          0.0924695244862287,
          0.07423627830163382,
          -0.10409123162101463,
          0.014866508928420341,
          0.06925235718766876,
          -0.024106553884311044,
          0.04186588422435644,
          -0.037011293180895466,
          0.04220648219134138,
          0.08660087674381434,
          0.007368835386919903,
          0.11734685332470107,
          0.04299957388950748,
          0.06242041010131694,
          0.13711725638667305,
          0.05486261548767546,
          0.1478361063952005,
          0.07725234198023134,
          0.07445031871953278,
          0.17023848729099145,
          0.07766800320083289,
          0.1370446047185564,
          0.07479026104871167,
          0.08633746084635652,
          0.18083374269757224,
          0.08200487612380813,
          0.11476408091204038,
          0.07000897113049254,
          0.1165781351527837,
          0.17798856363016524,
          0.08590026029471254,
          0.09783320234735926,
          -0.07420918604908389,
          0.0002447223305614976,
          0.08198446988372465,
          -0.0197467618554108,
          0.04362822709369163,
          -0.07071181118060488,
          0.017495487874371385,
          0.07334934664622161,
          -0.015618513441057358,
          0.0805562770141115,
          -0.006217387084619275,
          0.044432212763242496,
          0.1041489557051064,
          0.025132675722930986,
          0.1320996369755384,
          0.054411154163856446,
          0.060722468392509166,
          0.1448534742919364,
          0.06081001637859218,
          0.13911450328427843,
          0.07571772784336706,
          0.07705248967394884,
          0.17297601706712495,
          0.07644957247349848,
          0.12163535290556071,
          0.06546288012250401,
          0.09913973455810832,
          0.17334811849515086,
          0.07902291507526416,
          0.10231364537081888,
          -0.03775164751434601,
          -0.02695474401045339,
          0.09282995424996088,
          -0.013349007070238894,
          0.055390218483842624,
          -0.06194795390346819,
          0.00008298258208738751,
          0.07878850719381825,
          -0.019921696219580287,
          0.06824590025137145,
          -0.04209959207138181,
          0.019084116023911357,
          0.08503905555989011,
          -0.0006799915080720753,
          0.10298042040741795,
          0.015041202849115032,
          0.04385261312638444,
          0.11479257564538792,
          0.03587768644427336,
          0.1301934761903809,
          0.05983074116615639,
          0.06288925389395383,
          0.1511760169580536,
          0.06250247740889092,
          0.1263658604935971,
          0.06532999241034976,
          0.08633793706158754,
          0.1673270659128594,
          0.07433919268490075,
          0.10734175201175711,
          -0.007484851833855055,
          -0.04497974174520525,
          0.1016817027095791,
          -0.011982789119213355,
          0.06575660860168431,
          -0.04005383670922891,
          -0.026158052087956074,
          0.08653414437352769,
          -0.020276486434925634,
          0.07002600800787806,
          -0.046105068154006834,
          -0.0011216529396593788,
          0.08309019516890703,
          -0.010415761737592288,
          0.08669240108503506,
          -0.018778089499626227,
          0.01976197963473325,
          0.09443697432444609,
          0.012139204655780556,
          0.10919607151813737,
          0.028988131724649757,
          0.04572326808972049,
          0.12465444344149135,
          0.04365792773979893,
          0.12326304216472816,
          0.05345751916630326,
          0.07057614338724072,
          0.1504254196556718,
          0.06350361676795035,
          0.11240089438123801,
          0.01811115883140091,
          -0.06356964234787543,
          0.10646810954569985,
          -0.008680331175934919,
          0.0782167220800234,
          -0.01725474073492539,
          -0.045275524616020024,
          0.09308415218562993,
          -0.02187664187896121,
          0.0743720290506299,
          -0.03539156457838044,
          -0.027913317494443257,
          0.08674902592531786,
          -0.015606322125392147,
          0.08365371992129811,
          -0.028362133792800392,
          -0.0030174936067826064,
          0.08825888997349451,
          0.0011594809770212322,
          0.09444245940014828,
          -0.0003817284679661359,
          0.022132498033423986,
          0.10403569429209303,
          0.02341263510515934,
          0.10876028632070245,
          0.028327929494430637,
          0.05158569739394825,
          0.1265445812975886,
          0.04896195637808465,
          0.11288676820928767
         ],
         "y0": " ",
         "yaxis": "y2"
        }
       ],
       "layout": {
        "annotations": [
         {
          "font": {
           "color": "grey",
           "size": 11
          },
          "showarrow": false,
          "text": "RMSE",
          "x": 0.225,
          "xanchor": "center",
          "xref": "paper",
          "y": 0.95,
          "yanchor": "bottom",
          "yref": "paper"
         },
         {
          "font": {
           "color": "grey",
           "size": 11
          },
          "showarrow": false,
          "text": "Adj-R2",
          "x": 0.775,
          "xanchor": "center",
          "xref": "paper",
          "y": 0.95,
          "yanchor": "bottom",
          "yref": "paper"
         }
        ],
        "height": 400,
        "legend": {
         "orientation": "h",
         "title": {
          "text": "Scopes:"
         },
         "x": 0.5,
         "xanchor": "center",
         "y": -0.1,
         "yanchor": "top"
        },
        "margin": {
         "b": 60,
         "l": 80,
         "r": 40,
         "t": 80
        },
        "template": {
         "data": {
          "bar": [
           {
            "error_x": {
             "color": "#f2f5fa"
            },
            "error_y": {
             "color": "#f2f5fa"
            },
            "marker": {
             "line": {
              "color": "rgb(17,17,17)",
              "width": 0.5
             },
             "pattern": {
              "fillmode": "overlay",
              "size": 10,
              "solidity": 0.2
             }
            },
            "type": "bar"
           }
          ],
          "barpolar": [
           {
            "marker": {
             "line": {
              "color": "rgb(17,17,17)",
              "width": 0.5
             },
             "pattern": {
              "fillmode": "overlay",
              "size": 10,
              "solidity": 0.2
             }
            },
            "type": "barpolar"
           }
          ],
          "carpet": [
           {
            "aaxis": {
             "endlinecolor": "#A2B1C6",
             "gridcolor": "#506784",
             "linecolor": "#506784",
             "minorgridcolor": "#506784",
             "startlinecolor": "#A2B1C6"
            },
            "baxis": {
             "endlinecolor": "#A2B1C6",
             "gridcolor": "#506784",
             "linecolor": "#506784",
             "minorgridcolor": "#506784",
             "startlinecolor": "#A2B1C6"
            },
            "type": "carpet"
           }
          ],
          "choropleth": [
           {
            "colorbar": {
             "outlinewidth": 0,
             "ticks": ""
            },
            "type": "choropleth"
           }
          ],
          "contour": [
           {
            "colorbar": {
             "outlinewidth": 0,
             "ticks": ""
            },
            "colorscale": [
             [
              0,
              "#0d0887"
             ],
             [
              0.1111111111111111,
              "#46039f"
             ],
             [
              0.2222222222222222,
              "#7201a8"
             ],
             [
              0.3333333333333333,
              "#9c179e"
             ],
             [
              0.4444444444444444,
              "#bd3786"
             ],
             [
              0.5555555555555556,
              "#d8576b"
             ],
             [
              0.6666666666666666,
              "#ed7953"
             ],
             [
              0.7777777777777778,
              "#fb9f3a"
             ],
             [
              0.8888888888888888,
              "#fdca26"
             ],
             [
              1,
              "#f0f921"
             ]
            ],
            "type": "contour"
           }
          ],
          "contourcarpet": [
           {
            "colorbar": {
             "outlinewidth": 0,
             "ticks": ""
            },
            "type": "contourcarpet"
           }
          ],
          "heatmap": [
           {
            "colorbar": {
             "outlinewidth": 0,
             "ticks": ""
            },
            "colorscale": [
             [
              0,
              "#0d0887"
             ],
             [
              0.1111111111111111,
              "#46039f"
             ],
             [
              0.2222222222222222,
              "#7201a8"
             ],
             [
              0.3333333333333333,
              "#9c179e"
             ],
             [
              0.4444444444444444,
              "#bd3786"
             ],
             [
              0.5555555555555556,
              "#d8576b"
             ],
             [
              0.6666666666666666,
              "#ed7953"
             ],
             [
              0.7777777777777778,
              "#fb9f3a"
             ],
             [
              0.8888888888888888,
              "#fdca26"
             ],
             [
              1,
              "#f0f921"
             ]
            ],
            "type": "heatmap"
           }
          ],
          "heatmapgl": [
           {
            "colorbar": {
             "outlinewidth": 0,
             "ticks": ""
            },
            "colorscale": [
             [
              0,
              "#0d0887"
             ],
             [
              0.1111111111111111,
              "#46039f"
             ],
             [
              0.2222222222222222,
              "#7201a8"
             ],
             [
              0.3333333333333333,
              "#9c179e"
             ],
             [
              0.4444444444444444,
              "#bd3786"
             ],
             [
              0.5555555555555556,
              "#d8576b"
             ],
             [
              0.6666666666666666,
              "#ed7953"
             ],
             [
              0.7777777777777778,
              "#fb9f3a"
             ],
             [
              0.8888888888888888,
              "#fdca26"
             ],
             [
              1,
              "#f0f921"
             ]
            ],
            "type": "heatmapgl"
           }
          ],
          "histogram": [
           {
            "marker": {
             "pattern": {
              "fillmode": "overlay",
              "size": 10,
              "solidity": 0.2
             }
            },
            "type": "histogram"
           }
          ],
          "histogram2d": [
           {
            "colorbar": {
             "outlinewidth": 0,
             "ticks": ""
            },
            "colorscale": [
             [
              0,
              "#0d0887"
             ],
             [
              0.1111111111111111,
              "#46039f"
             ],
             [
              0.2222222222222222,
              "#7201a8"
             ],
             [
              0.3333333333333333,
              "#9c179e"
             ],
             [
              0.4444444444444444,
              "#bd3786"
             ],
             [
              0.5555555555555556,
              "#d8576b"
             ],
             [
              0.6666666666666666,
              "#ed7953"
             ],
             [
              0.7777777777777778,
              "#fb9f3a"
             ],
             [
              0.8888888888888888,
              "#fdca26"
             ],
             [
              1,
              "#f0f921"
             ]
            ],
            "type": "histogram2d"
           }
          ],
          "histogram2dcontour": [
           {
            "colorbar": {
             "outlinewidth": 0,
             "ticks": ""
            },
            "colorscale": [
             [
              0,
              "#0d0887"
             ],
             [
              0.1111111111111111,
              "#46039f"
             ],
             [
              0.2222222222222222,
              "#7201a8"
             ],
             [
              0.3333333333333333,
              "#9c179e"
             ],
             [
              0.4444444444444444,
              "#bd3786"
             ],
             [
              0.5555555555555556,
              "#d8576b"
             ],
             [
              0.6666666666666666,
              "#ed7953"
             ],
             [
              0.7777777777777778,
              "#fb9f3a"
             ],
             [
              0.8888888888888888,
              "#fdca26"
             ],
             [
              1,
              "#f0f921"
             ]
            ],
            "type": "histogram2dcontour"
           }
          ],
          "mesh3d": [
           {
            "colorbar": {
             "outlinewidth": 0,
             "ticks": ""
            },
            "type": "mesh3d"
           }
          ],
          "parcoords": [
           {
            "line": {
             "colorbar": {
              "outlinewidth": 0,
              "ticks": ""
             }
            },
            "type": "parcoords"
           }
          ],
          "pie": [
           {
            "automargin": true,
            "type": "pie"
           }
          ],
          "scatter": [
           {
            "marker": {
             "line": {
              "color": "#283442"
             }
            },
            "type": "scatter"
           }
          ],
          "scatter3d": [
           {
            "line": {
             "colorbar": {
              "outlinewidth": 0,
              "ticks": ""
             }
            },
            "marker": {
             "colorbar": {
              "outlinewidth": 0,
              "ticks": ""
             }
            },
            "type": "scatter3d"
           }
          ],
          "scattercarpet": [
           {
            "marker": {
             "colorbar": {
              "outlinewidth": 0,
              "ticks": ""
             }
            },
            "type": "scattercarpet"
           }
          ],
          "scattergeo": [
           {
            "marker": {
             "colorbar": {
              "outlinewidth": 0,
              "ticks": ""
             }
            },
            "type": "scattergeo"
           }
          ],
          "scattergl": [
           {
            "marker": {
             "line": {
              "color": "#283442"
             }
            },
            "type": "scattergl"
           }
          ],
          "scattermapbox": [
           {
            "marker": {
             "colorbar": {
              "outlinewidth": 0,
              "ticks": ""
             }
            },
            "type": "scattermapbox"
           }
          ],
          "scatterpolar": [
           {
            "marker": {
             "colorbar": {
              "outlinewidth": 0,
              "ticks": ""
             }
            },
            "type": "scatterpolar"
           }
          ],
          "scatterpolargl": [
           {
            "marker": {
             "colorbar": {
              "outlinewidth": 0,
              "ticks": ""
             }
            },
            "type": "scatterpolargl"
           }
          ],
          "scatterternary": [
           {
            "marker": {
             "colorbar": {
              "outlinewidth": 0,
              "ticks": ""
             }
            },
            "type": "scatterternary"
           }
          ],
          "surface": [
           {
            "colorbar": {
             "outlinewidth": 0,
             "ticks": ""
            },
            "colorscale": [
             [
              0,
              "#0d0887"
             ],
             [
              0.1111111111111111,
              "#46039f"
             ],
             [
              0.2222222222222222,
              "#7201a8"
             ],
             [
              0.3333333333333333,
              "#9c179e"
             ],
             [
              0.4444444444444444,
              "#bd3786"
             ],
             [
              0.5555555555555556,
              "#d8576b"
             ],
             [
              0.6666666666666666,
              "#ed7953"
             ],
             [
              0.7777777777777778,
              "#fb9f3a"
             ],
             [
              0.8888888888888888,
              "#fdca26"
             ],
             [
              1,
              "#f0f921"
             ]
            ],
            "type": "surface"
           }
          ],
          "table": [
           {
            "cells": {
             "fill": {
              "color": "#506784"
             },
             "line": {
              "color": "rgb(17,17,17)"
             }
            },
            "header": {
             "fill": {
              "color": "#2a3f5f"
             },
             "line": {
              "color": "rgb(17,17,17)"
             }
            },
            "type": "table"
           }
          ]
         },
         "layout": {
          "annotationdefaults": {
           "arrowcolor": "#f2f5fa",
           "arrowhead": 0,
           "arrowwidth": 1
          },
          "autotypenumbers": "strict",
          "coloraxis": {
           "colorbar": {
            "outlinewidth": 0,
            "ticks": ""
           }
          },
          "colorscale": {
           "diverging": [
            [
             0,
             "#8e0152"
            ],
            [
             0.1,
             "#c51b7d"
            ],
            [
             0.2,
             "#de77ae"
            ],
            [
             0.3,
             "#f1b6da"
            ],
            [
             0.4,
             "#fde0ef"
            ],
            [
             0.5,
             "#f7f7f7"
            ],
            [
             0.6,
             "#e6f5d0"
            ],
            [
             0.7,
             "#b8e186"
            ],
            [
             0.8,
             "#7fbc41"
            ],
            [
             0.9,
             "#4d9221"
            ],
            [
             1,
             "#276419"
            ]
           ],
           "sequential": [
            [
             0,
             "#0d0887"
            ],
            [
             0.1111111111111111,
             "#46039f"
            ],
            [
             0.2222222222222222,
             "#7201a8"
            ],
            [
             0.3333333333333333,
             "#9c179e"
            ],
            [
             0.4444444444444444,
             "#bd3786"
            ],
            [
             0.5555555555555556,
             "#d8576b"
            ],
            [
             0.6666666666666666,
             "#ed7953"
            ],
            [
             0.7777777777777778,
             "#fb9f3a"
            ],
            [
             0.8888888888888888,
             "#fdca26"
            ],
            [
             1,
             "#f0f921"
            ]
           ],
           "sequentialminus": [
            [
             0,
             "#0d0887"
            ],
            [
             0.1111111111111111,
             "#46039f"
            ],
            [
             0.2222222222222222,
             "#7201a8"
            ],
            [
             0.3333333333333333,
             "#9c179e"
            ],
            [
             0.4444444444444444,
             "#bd3786"
            ],
            [
             0.5555555555555556,
             "#d8576b"
            ],
            [
             0.6666666666666666,
             "#ed7953"
            ],
            [
             0.7777777777777778,
             "#fb9f3a"
            ],
            [
             0.8888888888888888,
             "#fdca26"
            ],
            [
             1,
             "#f0f921"
            ]
           ]
          },
          "colorway": [
           "#636efa",
           "#EF553B",
           "#00cc96",
           "#ab63fa",
           "#FFA15A",
           "#19d3f3",
           "#FF6692",
           "#B6E880",
           "#FF97FF",
           "#FECB52"
          ],
          "font": {
           "color": "#f2f5fa"
          },
          "geo": {
           "bgcolor": "rgb(17,17,17)",
           "lakecolor": "rgb(17,17,17)",
           "landcolor": "rgb(17,17,17)",
           "showlakes": true,
           "showland": true,
           "subunitcolor": "#506784"
          },
          "hoverlabel": {
           "align": "left"
          },
          "hovermode": "closest",
          "mapbox": {
           "style": "dark"
          },
          "paper_bgcolor": "rgb(17,17,17)",
          "plot_bgcolor": "rgb(17,17,17)",
          "polar": {
           "angularaxis": {
            "gridcolor": "#506784",
            "linecolor": "#506784",
            "ticks": ""
           },
           "bgcolor": "rgb(17,17,17)",
           "radialaxis": {
            "gridcolor": "#506784",
            "linecolor": "#506784",
            "ticks": ""
           }
          },
          "scene": {
           "xaxis": {
            "backgroundcolor": "rgb(17,17,17)",
            "gridcolor": "#506784",
            "gridwidth": 2,
            "linecolor": "#506784",
            "showbackground": true,
            "ticks": "",
            "zerolinecolor": "#C8D4E3"
           },
           "yaxis": {
            "backgroundcolor": "rgb(17,17,17)",
            "gridcolor": "#506784",
            "gridwidth": 2,
            "linecolor": "#506784",
            "showbackground": true,
            "ticks": "",
            "zerolinecolor": "#C8D4E3"
           },
           "zaxis": {
            "backgroundcolor": "rgb(17,17,17)",
            "gridcolor": "#506784",
            "gridwidth": 2,
            "linecolor": "#506784",
            "showbackground": true,
            "ticks": "",
            "zerolinecolor": "#C8D4E3"
           }
          },
          "shapedefaults": {
           "line": {
            "color": "#f2f5fa"
           }
          },
          "sliderdefaults": {
           "bgcolor": "#C8D4E3",
           "bordercolor": "rgb(17,17,17)",
           "borderwidth": 1,
           "tickwidth": 0
          },
          "ternary": {
           "aaxis": {
            "gridcolor": "#506784",
            "linecolor": "#506784",
            "ticks": ""
           },
           "baxis": {
            "gridcolor": "#506784",
            "linecolor": "#506784",
            "ticks": ""
           },
           "bgcolor": "rgb(17,17,17)",
           "caxis": {
            "gridcolor": "#506784",
            "linecolor": "#506784",
            "ticks": ""
           }
          },
          "title": {
           "x": 0.05
          },
          "updatemenudefaults": {
           "bgcolor": "#506784",
           "borderwidth": 0
          },
          "xaxis": {
           "automargin": true,
           "gridcolor": "#283442",
           "linecolor": "#506784",
           "ticks": "",
           "title": {
            "standoff": 15
           },
           "zerolinecolor": "#283442",
           "zerolinewidth": 2
          },
          "yaxis": {
           "automargin": true,
           "gridcolor": "#283442",
           "linecolor": "#506784",
           "ticks": "",
           "title": {
            "standoff": 15
           },
           "zerolinecolor": "#283442",
           "zerolinewidth": 2
          }
         }
        },
        "title": {
         "text": "Observe Backward Elimination in All Models With Repect to Scopes<br><span style=\"font-size: 12.5px; color: lightgrey;\"> -- How meansures are changed by removing the impact of each coefficient</span>"
        },
        "width": 800,
        "xaxis": {
         "anchor": "y",
         "domain": [
          0,
          0.45
         ]
        },
        "xaxis2": {
         "anchor": "y2",
         "domain": [
          0.55,
          1
         ]
        },
        "yaxis": {
         "anchor": "x",
         "domain": [
          0,
          1
         ],
         "title": {
          "text": "Difference"
         }
        },
        "yaxis2": {
         "anchor": "x2",
         "domain": [
          0,
          1
         ]
        }
       }
      }
     },
     "metadata": {},
     "output_type": "display_data"
    }
   ],
   "source": [
    "f2.show()"
   ]
  },
  {
   "cell_type": "code",
   "execution_count": null,
   "metadata": {},
   "outputs": [],
   "source": []
  },
  {
   "cell_type": "code",
   "execution_count": null,
   "metadata": {},
   "outputs": [],
   "source": []
  },
  {
   "cell_type": "markdown",
   "metadata": {},
   "source": [
    "### Memo"
   ]
  },
  {
   "cell_type": "code",
   "execution_count": 4,
   "metadata": {},
   "outputs": [],
   "source": [
    "import dash\n",
    "from dash import Dash, html, dcc, Input, Output, State, ctx\n",
    "import pandas as pd\n",
    "import numpy as np\n",
    "from plotly.subplots import make_subplots\n",
    "import plotly.graph_objects as go"
   ]
  },
  {
   "cell_type": "code",
   "execution_count": 20,
   "metadata": {},
   "outputs": [
    {
     "data": {
      "text/html": [
       "\n",
       "        <iframe\n",
       "            width=\"100%\"\n",
       "            height=\"650\"\n",
       "            src=\"http://127.0.0.1:8050/\"\n",
       "            frameborder=\"0\"\n",
       "            allowfullscreen\n",
       "            \n",
       "        ></iframe>\n",
       "        "
      ],
      "text/plain": [
       "<IPython.lib.display.IFrame at 0x22a9e8a2b10>"
      ]
     },
     "metadata": {},
     "output_type": "display_data"
    }
   ],
   "source": [
    "# Assuming 'sample' is your DataFrame with the data you want to plot\n",
    "# And it has columns 'X', 'Y1', 'Y2', ... for your data\n",
    "\n",
    "# Sample data for three dataframes with similar structure\n",
    "s1 = pd.DataFrame({\n",
    "    'X': pd.date_range(start='1/1/2020', periods=100),\n",
    "    'Y1': np.random.randn(100).cumsum(),\n",
    "    'Y2': np.random.randn(100).cumsum(),\n",
    "    'Y3': np.random.randn(100).cumsum()\n",
    "})\n",
    "s2 = pd.DataFrame({\n",
    "    'X': pd.date_range(start='1/1/2020', periods=100),\n",
    "    'Y1': np.random.randn(100).cumsum()*0.5,\n",
    "    'Y2': np.random.randn(100).cumsum()*0.5,\n",
    "    'Y3': np.random.randn(100).cumsum()*0.5\n",
    "})  # Just for example, modify as needed\n",
    "\n",
    "s3 = pd.DataFrame({\n",
    "    'X': pd.date_range(start='1/1/2020', periods=100),\n",
    "    'Y1': np.random.randn(100).cumsum()*2,\n",
    "    'Y2': np.random.randn(100).cumsum()*2,\n",
    "    'Y3': np.random.randn(100).cumsum()*2\n",
    "})   # Just for example, modify as needed\n",
    "\n",
    "\n",
    "# Define the number of graphs you want to create\n",
    "fig = make_subplots(rows=1, cols=3, shared_yaxes=True)\n",
    "\n",
    "# Define colors for traces to ensure consistency across subplots\n",
    "colors = {'Y1': 'blue', 'Y2': 'red', 'Y3': 'green'}\n",
    "\n",
    "for i, s in enumerate([s1, s2, s3], start=1):\n",
    "    for col in ['Y1', 'Y2', 'Y3']:\n",
    "        fig.add_trace(\n",
    "            go.Scatter(\n",
    "                x=s['X'],\n",
    "                y=s[col],\n",
    "                name=col,\n",
    "                mode='lines+markers',\n",
    "                marker=dict(color=colors[col]),\n",
    "                showlegend=False, # Only the first subplot shows the legend,\n",
    "                visible=True\n",
    "            ),\n",
    "            row=1, col=i\n",
    "        )\n",
    "\n",
    "# Update layout to Plotly's dark theme\n",
    "fig.update_layout(\n",
    "    plot_bgcolor='black',\n",
    "    paper_bgcolor='black',\n",
    "    font={'color': 'white'},\n",
    "    legend=dict(orientation=\"h\", yanchor=\"bottom\", y=1.02, xanchor=\"right\", x=1),\n",
    "    uirevision='constant' # keeps the user-selected legend state consistent across updates\n",
    ")\n",
    "\n",
    "\n",
    "app = dash.Dash(__name__)\n",
    "# Set up the Dash app layout\n",
    "app.layout = html.Div([\n",
    "    html.Div(id='custom-legend', children=[\n",
    "        html.Button('Y1', id='legend-y1', n_clicks=0),\n",
    "        html.Button('Y2', id='legend-y2', n_clicks=0),\n",
    "        html.Button('Y3', id='legend-y3', n_clicks=0)\n",
    "    ], style={'display': 'flex', 'justifyContent': 'center'}),\n",
    "    html.Div(style={'width': '600px', 'overflowX': 'scroll'}, children=[\n",
    "        dcc.Graph(id='subplots-graph', figure=fig, style={'width': '1500px'})\n",
    "    ])\n",
    "])\n",
    "\n",
    "\n",
    "@app.callback(\n",
    "    output=Output('subplots-graph', 'figure'),\n",
    "    inputs=dict(\n",
    "        data=dict(\n",
    "            y1=Input('legend-y1', 'n_clicks'),\n",
    "            y2=Input('legend-y2', 'n_clicks'),\n",
    "            y3=Input('legend-y3', 'n_clicks'),\n",
    "        ),\n",
    "    ),\n",
    "    state=dict(fig=State('subplots-graph', 'figure'))\n",
    ")\n",
    "def update_graph_visibility(data, fig):\n",
    "    # Determine which input was triggered\n",
    "    triggered_id = ctx.triggered_id\n",
    "\n",
    "    if triggered_id in {'legend-y1', 'legend-y2', 'legend-y3'}:\n",
    "        # Get series name (e.g., 'Y1', 'Y2', 'Y3')\n",
    "        series_name = triggered_id.split('-')[-1]\n",
    "        # Toggle visibility\n",
    "        visibility = False if data[series_name] % 2 == 1 else True\n",
    "    \n",
    "        # Update traces\n",
    "        for trace in fig['data']:\n",
    "            if trace['name'].lower() == series_name:\n",
    "                trace['visible'] = visibility\n",
    "\n",
    "    return fig\n",
    "\n",
    "\n",
    "if __name__ == '__main__':\n",
    "    app.run_server(debug=True)\n"
   ]
  },
  {
   "cell_type": "code",
   "execution_count": null,
   "metadata": {},
   "outputs": [],
   "source": []
  }
 ],
 "metadata": {
  "kernelspec": {
   "display_name": "Python 3",
   "language": "python",
   "name": "python3"
  },
  "language_info": {
   "codemirror_mode": {
    "name": "ipython",
    "version": 3
   },
   "file_extension": ".py",
   "mimetype": "text/x-python",
   "name": "python",
   "nbconvert_exporter": "python",
   "pygments_lexer": "ipython3",
   "version": "3.11.6"
  }
 },
 "nbformat": 4,
 "nbformat_minor": 2
}
