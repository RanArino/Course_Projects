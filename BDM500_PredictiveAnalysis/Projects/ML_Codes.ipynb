{
 "cells": [
  {
   "cell_type": "code",
   "execution_count": 1,
   "metadata": {},
   "outputs": [],
   "source": [
    "import numpy as np\n",
    "import pandas as pd\n",
    "import matplotlib.pyplot as plt\n",
    "from plotly.subplots import make_subplots\n",
    "import plotly.graph_objects as go\n",
    "\n",
    "from Functions import PredictiveAnalysis\n",
    "\n",
    "import dash\n",
    "from dash import html, dcc, ALL, MATCH, Output, Input, State, no_update, ctx, Patch\n",
    "import dash_mantine_components as dmc\n",
    "import dash_bootstrap_components as dbc\n"
   ]
  },
  {
   "cell_type": "code",
   "execution_count": 2,
   "metadata": {},
   "outputs": [
    {
     "data": {
      "text/html": [
       "<div>\n",
       "<style scoped>\n",
       "    .dataframe tbody tr th:only-of-type {\n",
       "        vertical-align: middle;\n",
       "    }\n",
       "\n",
       "    .dataframe tbody tr th {\n",
       "        vertical-align: top;\n",
       "    }\n",
       "\n",
       "    .dataframe thead th {\n",
       "        text-align: right;\n",
       "    }\n",
       "</style>\n",
       "<table border=\"1\" class=\"dataframe\">\n",
       "  <thead>\n",
       "    <tr style=\"text-align: right;\">\n",
       "      <th></th>\n",
       "      <th>Date</th>\n",
       "      <th>Year</th>\n",
       "      <th>Month</th>\n",
       "      <th>CSENT</th>\n",
       "      <th>IPM</th>\n",
       "      <th>HOUSE</th>\n",
       "      <th>UNEMP</th>\n",
       "      <th>LRIR</th>\n",
       "      <th>SP500</th>\n",
       "      <th>SP500_Price</th>\n",
       "      <th>SP500_Rise</th>\n",
       "    </tr>\n",
       "  </thead>\n",
       "  <tbody>\n",
       "    <tr>\n",
       "      <th>0</th>\n",
       "      <td>1979-01-31</td>\n",
       "      <td>1979</td>\n",
       "      <td>1</td>\n",
       "      <td>-13.859020</td>\n",
       "      <td>7.862464</td>\n",
       "      <td>-5.157233</td>\n",
       "      <td>1.774952</td>\n",
       "      <td>-0.300399</td>\n",
       "      <td>11.966387</td>\n",
       "      <td>99.930000</td>\n",
       "      <td>1.0</td>\n",
       "    </tr>\n",
       "    <tr>\n",
       "      <th>1</th>\n",
       "      <td>1979-02-28</td>\n",
       "      <td>1979</td>\n",
       "      <td>2</td>\n",
       "      <td>-12.336892</td>\n",
       "      <td>7.786828</td>\n",
       "      <td>-8.596713</td>\n",
       "      <td>1.774952</td>\n",
       "      <td>-0.671270</td>\n",
       "      <td>10.615806</td>\n",
       "      <td>96.279999</td>\n",
       "      <td>1.0</td>\n",
       "    </tr>\n",
       "    <tr>\n",
       "      <th>2</th>\n",
       "      <td>1979-03-31</td>\n",
       "      <td>1979</td>\n",
       "      <td>3</td>\n",
       "      <td>-13.197970</td>\n",
       "      <td>6.418676</td>\n",
       "      <td>-2.579853</td>\n",
       "      <td>1.757858</td>\n",
       "      <td>-1.142366</td>\n",
       "      <td>13.877365</td>\n",
       "      <td>101.589996</td>\n",
       "      <td>1.0</td>\n",
       "    </tr>\n",
       "    <tr>\n",
       "      <th>3</th>\n",
       "      <td>1979-04-30</td>\n",
       "      <td>1979</td>\n",
       "      <td>4</td>\n",
       "      <td>-19.117647</td>\n",
       "      <td>2.997984</td>\n",
       "      <td>-13.425926</td>\n",
       "      <td>1.757858</td>\n",
       "      <td>-1.135133</td>\n",
       "      <td>5.091398</td>\n",
       "      <td>101.760002</td>\n",
       "      <td>1.0</td>\n",
       "    </tr>\n",
       "    <tr>\n",
       "      <th>4</th>\n",
       "      <td>1979-05-31</td>\n",
       "      <td>1979</td>\n",
       "      <td>5</td>\n",
       "      <td>-17.852835</td>\n",
       "      <td>3.917937</td>\n",
       "      <td>-15.169195</td>\n",
       "      <td>1.722767</td>\n",
       "      <td>-1.637674</td>\n",
       "      <td>1.892230</td>\n",
       "      <td>99.080002</td>\n",
       "      <td>1.0</td>\n",
       "    </tr>\n",
       "  </tbody>\n",
       "</table>\n",
       "</div>"
      ],
      "text/plain": [
       "         Date  Year  Month      CSENT       IPM      HOUSE     UNEMP  \\\n",
       "0  1979-01-31  1979      1 -13.859020  7.862464  -5.157233  1.774952   \n",
       "1  1979-02-28  1979      2 -12.336892  7.786828  -8.596713  1.774952   \n",
       "2  1979-03-31  1979      3 -13.197970  6.418676  -2.579853  1.757858   \n",
       "3  1979-04-30  1979      4 -19.117647  2.997984 -13.425926  1.757858   \n",
       "4  1979-05-31  1979      5 -17.852835  3.917937 -15.169195  1.722767   \n",
       "\n",
       "       LRIR      SP500  SP500_Price  SP500_Rise  \n",
       "0 -0.300399  11.966387    99.930000         1.0  \n",
       "1 -0.671270  10.615806    96.279999         1.0  \n",
       "2 -1.142366  13.877365   101.589996         1.0  \n",
       "3 -1.135133   5.091398   101.760002         1.0  \n",
       "4 -1.637674   1.892230    99.080002         1.0  "
      ]
     },
     "execution_count": 2,
     "metadata": {},
     "output_type": "execute_result"
    }
   ],
   "source": [
    "# load the clean data frame\n",
    "df = pd.read_csv('final.csv')\n",
    "df.head()"
   ]
  },
  {
   "cell_type": "markdown",
   "metadata": {},
   "source": [
    "# Dataset Creation\n",
    "- Six types of moving averages ; from one to six months.\n",
    "- Six types of dataset shifts; from one to six months."
   ]
  },
  {
   "cell_type": "code",
   "execution_count": 3,
   "metadata": {},
   "outputs": [
    {
     "data": {
      "text/plain": [
       "'\\nclass PredictiveAnalysis_Test(PredictiveAnalysis):\\n    def __init__(self, df):\\n        super().__init__(df)\\n'"
      ]
     },
     "execution_count": 3,
     "metadata": {},
     "output_type": "execute_result"
    }
   ],
   "source": [
    "\"\"\"\n",
    "class PredictiveAnalysis_Test(PredictiveAnalysis):\n",
    "    def __init__(self, df):\n",
    "        super().__init__(df)\n",
    "\"\"\""
   ]
  },
  {
   "cell_type": "code",
   "execution_count": 4,
   "metadata": {},
   "outputs": [],
   "source": [
    "PA = PredictiveAnalysis(df)\n",
    "PA.create_data(['CSENT', 'IPM', 'HOUSE', 'UNEMP', 'LRIR'], 'SP500', ma=[1,2,3], fp=[1,2,3,4,5,6], poly_d=1)"
   ]
  },
  {
   "cell_type": "code",
   "execution_count": 5,
   "metadata": {},
   "outputs": [
    {
     "name": "stdout",
     "output_type": "stream",
     "text": [
      "[[ 1.         -1.07697478  1.02863002 -0.24524403 -1.08252718 -1.34994328]\n",
      " [ 1.         -0.97845534  1.01416757 -0.38013943 -1.08252718 -1.45430278]\n",
      " [ 1.         -1.0341884   0.75256061 -0.14415995 -1.17512361 -1.58686461]\n",
      " [ 1.         -1.41733832  0.09848356 -0.56953973 -1.17512361 -1.58482934]\n",
      " [ 1.         -1.3354736   0.2743895  -0.63791022 -1.36520485 -1.72623957]]\n",
      "[[10.61580626]\n",
      " [13.87736507]\n",
      " [ 5.09139751]\n",
      " [ 1.89222954]\n",
      " [ 7.7253271 ]]\n",
      "[[1]\n",
      " [1]\n",
      " [1]\n",
      " [1]\n",
      " [1]]\n"
     ]
    }
   ],
   "source": [
    "# check the format of each X and y matrix\n",
    "print(PA.datasets['1MA_1FP']['X'][:5])\n",
    "print(PA.datasets['1MA_1FP']['y'][:5])\n",
    "print(PA.datasets['1MA_1FP']['y_cat'][:5])"
   ]
  },
  {
   "cell_type": "markdown",
   "metadata": {},
   "source": [
    "# Model Creation & Evaluation\n",
    "\n",
    "- Four machine learning models\n",
    "    1. Multiple Linear Regression\n",
    "    3. Logistic Regression\n",
    "    4. Classification and Regression Tree\n",
    "\n",
    "<br>\n",
    "\n",
    "- Evaluations\n",
    "    - Regressions:\n",
    "        - <b>Root Mean Square Error (RMSE)</b>: How much errors could occur between the predicted prices and the actual ones.\n",
    "        - <b>Standard Error of Estimate (SE)</b>: How much variation could occur in the actual target based on the same condition of independent variables. \n",
    "        - <b>Coffeficient of Determination (R2)</b>: How well the regression model explains the variation of a target value.\n",
    "        - <b>Adjusted R2</b>: R2 with the penalty for the number of independent variables.\n",
    "        <br><br>\n",
    "        \n",
    "    - Classification\n",
    "        - <b>Accuracy</b>: How the model can correctly predict the target values.\n",
    "        - <b>Precision</b>: How the model can avoid false positives.\n",
    "        - <b>Recall</b>: How the model can avoid false negatives.\n",
    "        - <b>F1 Score</b>: How the model can balance precision and recall.\n",
    "        - <b>AUC (Area Under the ROC Curve)</b>: How the model can summarize the ROC curve."
   ]
  },
  {
   "cell_type": "markdown",
   "metadata": {},
   "source": [
    "### Multiple linear Regression\n",
    "- Applying different scopes for parameter adjustments; [1,2,3,4,5,6]\n",
    "- Feature selection by backward elimination for whole models."
   ]
  },
  {
   "cell_type": "code",
   "execution_count": 6,
   "metadata": {},
   "outputs": [],
   "source": [
    "# define function to plot vix horizontally\n",
    "\n",
    "def horizon_plots(figs, model):\n",
    "    perf_figs = make_subplots(rows=1, cols=len(figs))\n",
    "    perf_figs.update_layout(\n",
    "        height=400, \n",
    "        width=300*len(figs)\n",
    "    )\n",
    "\n",
    "    annotations = []\n",
    "\n",
    "    for i, f in enumerate(figs):\n",
    "        for j, f_d in enumerate(f.data):\n",
    "            f_d.showlegend = True if i == 0 else False\n",
    "            perf_figs.add_trace(f_d, row=1, col=i+1)\n",
    "\n",
    "            if j == 0:\n",
    "                annotations.append(dict(\n",
    "                    xref=f'x{i+1}', yref='paper', x=0.5, y=1.05,\n",
    "                    xanchor='center', yanchor='bottom', text=f.layout.title.text, \n",
    "                    font=dict(size=15), showarrow=False\n",
    "                ))\n",
    "\n",
    "    perf_figs.update_layout(\n",
    "        title=f\"Comparing the {model} Results on Different Conditions\", \n",
    "        annotations=annotations, template='plotly_dark',\n",
    "        legend_title_text='Scopes', \n",
    "        legend=dict(orientation='h', yanchor='bottom', y=-0.25, xanchor='center', x=0.5)\n",
    "        )\n",
    "    \n",
    "    return perf_figs"
   ]
  },
  {
   "cell_type": "code",
   "execution_count": 7,
   "metadata": {},
   "outputs": [
    {
     "data": {
      "application/vnd.plotly.v1+json": {
       "config": {
        "plotlyServerURL": "https://plot.ly"
       },
       "data": [
        {
         "error_y": {
          "array": [
           0.14641205815835434,
           0.2598201757018108,
           0.2920342153983473
          ],
          "arrayminus": [
           0.11422004055368173,
           0.5636144089775348,
           0.48444405826739256
          ]
         },
         "hovertemplate": "SC=1<br>MA=%{x}<br>RMSE_mean=%{y}<extra></extra>",
         "legendgroup": "1",
         "marker": {
          "color": "#636efa",
          "symbol": "circle"
         },
         "mode": "markers",
         "name": "1",
         "orientation": "v",
         "showlegend": true,
         "type": "scatter",
         "x": [
          1,
          2,
          3
         ],
         "xaxis": "x",
         "y": [
          7.545625806469668,
          6.300034941689556,
          5.6508662959468055
         ],
         "yaxis": "y"
        },
        {
         "error_y": {
          "array": [
           0.2337566352646796,
           0.43606099692794764,
           0.5202268820985116
          ],
          "arrayminus": [
           0.23334530218354566,
           0.9386241388449177,
           0.8502099895704616
          ]
         },
         "hovertemplate": "SC=3<br>MA=%{x}<br>RMSE_mean=%{y}<extra></extra>",
         "legendgroup": "3",
         "marker": {
          "color": "#EF553B",
          "symbol": "circle"
         },
         "mode": "markers",
         "name": "3",
         "orientation": "v",
         "showlegend": true,
         "type": "scatter",
         "x": [
          1,
          2,
          3
         ],
         "xaxis": "x",
         "y": [
          9.23294419428741,
          8.284389709808202,
          7.5954223477248695
         ],
         "yaxis": "y"
        },
        {
         "error_y": {
          "array": [
           0.38987202927883047,
           0.7420647842429311,
           0.8474274069359762
          ],
          "arrayminus": [
           0.5204609163573188,
           1.3587944453307532,
           1.2279293273075425
          ]
         },
         "hovertemplate": "SC=6<br>MA=%{x}<br>RMSE_mean=%{y}<extra></extra>",
         "legendgroup": "6",
         "marker": {
          "color": "#00cc96",
          "symbol": "circle"
         },
         "mode": "markers",
         "name": "6",
         "orientation": "v",
         "showlegend": true,
         "type": "scatter",
         "x": [
          1,
          2,
          3
         ],
         "xaxis": "x",
         "y": [
          10.795977159778909,
          9.874713594376033,
          9.23114691011234
         ],
         "yaxis": "y"
        },
        {
         "error_y": {
          "array": [
           0.14741603135329928,
           0.26178248092098055,
           0.29434005108905126
          ],
          "arrayminus": [
           0.11472099038026062,
           0.5680229263475844,
           0.48825627360700086
          ]
         },
         "hovertemplate": "SC=1<br>MA=%{x}<br>SE_mean=%{y}<extra></extra>",
         "legendgroup": "1",
         "marker": {
          "color": "#636efa",
          "symbol": "circle"
         },
         "mode": "markers",
         "name": "1",
         "orientation": "v",
         "showlegend": false,
         "type": "scatter",
         "x": [
          1,
          2,
          3
         ],
         "xaxis": "x2",
         "y": [
          7.6008372305938865,
          6.346366700352934,
          5.692528264454855
         ],
         "yaxis": "y2"
        },
        {
         "error_y": {
          "array": [
           0.2353833605971669,
           0.4394901674095557,
           0.5242668087748621
          ],
          "arrayminus": [
           0.2346480587660853,
           0.9458686612170784,
           0.8567965402397908
          ]
         },
         "hovertemplate": "SC=3<br>MA=%{x}<br>SE_mean=%{y}<extra></extra>",
         "legendgroup": "3",
         "marker": {
          "color": "#EF553B",
          "symbol": "circle"
         },
         "mode": "markers",
         "name": "3",
         "orientation": "v",
         "showlegend": false,
         "type": "scatter",
         "x": [
          1,
          2,
          3
         ],
         "xaxis": "x2",
         "y": [
          9.30050256109834,
          8.34531898223653,
          7.651425034180176
         ],
         "yaxis": "y2"
        },
        {
         "error_y": {
          "array": [
           0.3926222430780957,
           0.747786871315478,
           0.8539237706238119
          ],
          "arrayminus": [
           0.5247277626168323,
           1.3691894948898788,
           1.2373656173715872
          ]
         },
         "hovertemplate": "SC=6<br>MA=%{x}<br>SE_mean=%{y}<extra></extra>",
         "legendgroup": "6",
         "marker": {
          "color": "#00cc96",
          "symbol": "circle"
         },
         "mode": "markers",
         "name": "6",
         "orientation": "v",
         "showlegend": false,
         "type": "scatter",
         "x": [
          1,
          2,
          3
         ],
         "xaxis": "x2",
         "y": [
          10.87497601788772,
          9.947345178248499,
          9.299215614664936
         ],
         "yaxis": "y2"
        },
        {
         "error_y": {
          "array": [
           0.007785200060554498,
           0.027806611240853596,
           0.022347310387673125
          ],
          "arrayminus": [
           0.0089164637796878,
           0.013377695435875636,
           0.013843606144703147
          ]
         },
         "hovertemplate": "SC=1<br>MA=%{x}<br>R2_mean=%{y}<extra></extra>",
         "legendgroup": "1",
         "marker": {
          "color": "#636efa",
          "symbol": "circle"
         },
         "mode": "markers",
         "name": "1",
         "orientation": "v",
         "showlegend": false,
         "type": "scatter",
         "x": [
          1,
          2,
          3
         ],
         "xaxis": "x3",
         "y": [
          0.7728138165148294,
          0.8351087865953225,
          0.8627883217965571
         ],
         "yaxis": "y3"
        },
        {
         "error_y": {
          "array": [
           0.018428759310224918,
           0.06072789464112527,
           0.05258444107896176
          ],
          "arrayminus": [
           0.017417861857229155,
           0.029062940716877872,
           0.03332187903271022
          ]
         },
         "hovertemplate": "SC=3<br>MA=%{x}<br>R2_mean=%{y}<extra></extra>",
         "legendgroup": "3",
         "marker": {
          "color": "#EF553B",
          "symbol": "circle"
         },
         "mode": "markers",
         "name": "3",
         "orientation": "v",
         "showlegend": false,
         "type": "scatter",
         "x": [
          1,
          2,
          3
         ],
         "xaxis": "x3",
         "y": [
          0.6598031845533644,
          0.714480110433069,
          0.7516227275722196
         ],
         "yaxis": "y3"
        },
        {
         "error_y": {
          "array": [
           0.042081279171661934,
           0.10450081254866794,
           0.09225931506090002
          ],
          "arrayminus": [
           0.03393958420555743,
           0.05966150184469565,
           0.06655282531982143
          ]
         },
         "hovertemplate": "SC=6<br>MA=%{x}<br>R2_mean=%{y}<extra></extra>",
         "legendgroup": "6",
         "marker": {
          "color": "#00cc96",
          "symbol": "circle"
         },
         "mode": "markers",
         "name": "6",
         "orientation": "v",
         "showlegend": false,
         "type": "scatter",
         "x": [
          1,
          2,
          3
         ],
         "xaxis": "x3",
         "y": [
          0.53464604173284,
          0.5933859381529804,
          0.6321054197699857
         ],
         "yaxis": "y3"
        },
        {
         "error_y": {
          "array": [
           0.007863750047542695,
           0.02815951544500961,
           0.02263220675162092
          ],
          "arrayminus": [
           0.009022271669320014,
           0.013544370261350691,
           0.014020554307803246
          ]
         },
         "hovertemplate": "SC=1<br>MA=%{x}<br>Adj-R2_mean=%{y}<extra></extra>",
         "legendgroup": "1",
         "marker": {
          "color": "#636efa",
          "symbol": "circle"
         },
         "mode": "markers",
         "name": "1",
         "orientation": "v",
         "showlegend": false,
         "type": "scatter",
         "x": [
          1,
          2,
          3
         ],
         "xaxis": "x4",
         "y": [
          0.7700332839733508,
          0.8330800315089681,
          0.8610957738662396
         ],
         "yaxis": "y4"
        },
        {
         "error_y": {
          "array": [
           0.01862987156038587,
           0.06149321414971476,
           0.0532492710625625
          ],
          "arrayminus": [
           0.01762590638816286,
           0.029433291456141486,
           0.03374400273319278
          ]
         },
         "hovertemplate": "SC=3<br>MA=%{x}<br>Adj-R2_mean=%{y}<extra></extra>",
         "legendgroup": "3",
         "marker": {
          "color": "#EF553B",
          "symbol": "circle"
         },
         "mode": "markers",
         "name": "3",
         "orientation": "v",
         "showlegend": false,
         "type": "scatter",
         "x": [
          1,
          2,
          3
         ],
         "xaxis": "x4",
         "y": [
          0.6556394115133463,
          0.7109667225268536,
          0.7485584756358148
         ],
         "yaxis": "y4"
        },
        {
         "error_y": {
          "array": [
           0.04262809992013117,
           0.10581177041006995,
           0.09342089327471637
          ],
          "arrayminus": [
           0.03434729382925672,
           0.06041371641783977,
           0.06739018828053467
          ]
         },
         "hovertemplate": "SC=6<br>MA=%{x}<br>Adj-R2_mean=%{y}<extra></extra>",
         "legendgroup": "6",
         "marker": {
          "color": "#00cc96",
          "symbol": "circle"
         },
         "mode": "markers",
         "name": "6",
         "orientation": "v",
         "showlegend": false,
         "type": "scatter",
         "x": [
          1,
          2,
          3
         ],
         "xaxis": "x4",
         "y": [
          0.5289499183189755,
          0.5883816642854861,
          0.6275659584045871
         ],
         "yaxis": "y4"
        }
       ],
       "layout": {
        "annotations": [
         {
          "font": {
           "size": 15
          },
          "showarrow": false,
          "text": "RMSE",
          "x": 0.5,
          "xanchor": "center",
          "xref": "x",
          "y": 1.05,
          "yanchor": "bottom",
          "yref": "paper"
         },
         {
          "font": {
           "size": 15
          },
          "showarrow": false,
          "text": "SE",
          "x": 0.5,
          "xanchor": "center",
          "xref": "x2",
          "y": 1.05,
          "yanchor": "bottom",
          "yref": "paper"
         },
         {
          "font": {
           "size": 15
          },
          "showarrow": false,
          "text": "R2",
          "x": 0.5,
          "xanchor": "center",
          "xref": "x3",
          "y": 1.05,
          "yanchor": "bottom",
          "yref": "paper"
         },
         {
          "font": {
           "size": 15
          },
          "showarrow": false,
          "text": "Adj-R2",
          "x": 0.5,
          "xanchor": "center",
          "xref": "x4",
          "y": 1.05,
          "yanchor": "bottom",
          "yref": "paper"
         }
        ],
        "height": 400,
        "legend": {
         "orientation": "h",
         "title": {
          "text": "Scopes"
         },
         "x": 0.5,
         "xanchor": "center",
         "y": -0.25,
         "yanchor": "bottom"
        },
        "template": {
         "data": {
          "bar": [
           {
            "error_x": {
             "color": "#f2f5fa"
            },
            "error_y": {
             "color": "#f2f5fa"
            },
            "marker": {
             "line": {
              "color": "rgb(17,17,17)",
              "width": 0.5
             },
             "pattern": {
              "fillmode": "overlay",
              "size": 10,
              "solidity": 0.2
             }
            },
            "type": "bar"
           }
          ],
          "barpolar": [
           {
            "marker": {
             "line": {
              "color": "rgb(17,17,17)",
              "width": 0.5
             },
             "pattern": {
              "fillmode": "overlay",
              "size": 10,
              "solidity": 0.2
             }
            },
            "type": "barpolar"
           }
          ],
          "carpet": [
           {
            "aaxis": {
             "endlinecolor": "#A2B1C6",
             "gridcolor": "#506784",
             "linecolor": "#506784",
             "minorgridcolor": "#506784",
             "startlinecolor": "#A2B1C6"
            },
            "baxis": {
             "endlinecolor": "#A2B1C6",
             "gridcolor": "#506784",
             "linecolor": "#506784",
             "minorgridcolor": "#506784",
             "startlinecolor": "#A2B1C6"
            },
            "type": "carpet"
           }
          ],
          "choropleth": [
           {
            "colorbar": {
             "outlinewidth": 0,
             "ticks": ""
            },
            "type": "choropleth"
           }
          ],
          "contour": [
           {
            "colorbar": {
             "outlinewidth": 0,
             "ticks": ""
            },
            "colorscale": [
             [
              0,
              "#0d0887"
             ],
             [
              0.1111111111111111,
              "#46039f"
             ],
             [
              0.2222222222222222,
              "#7201a8"
             ],
             [
              0.3333333333333333,
              "#9c179e"
             ],
             [
              0.4444444444444444,
              "#bd3786"
             ],
             [
              0.5555555555555556,
              "#d8576b"
             ],
             [
              0.6666666666666666,
              "#ed7953"
             ],
             [
              0.7777777777777778,
              "#fb9f3a"
             ],
             [
              0.8888888888888888,
              "#fdca26"
             ],
             [
              1,
              "#f0f921"
             ]
            ],
            "type": "contour"
           }
          ],
          "contourcarpet": [
           {
            "colorbar": {
             "outlinewidth": 0,
             "ticks": ""
            },
            "type": "contourcarpet"
           }
          ],
          "heatmap": [
           {
            "colorbar": {
             "outlinewidth": 0,
             "ticks": ""
            },
            "colorscale": [
             [
              0,
              "#0d0887"
             ],
             [
              0.1111111111111111,
              "#46039f"
             ],
             [
              0.2222222222222222,
              "#7201a8"
             ],
             [
              0.3333333333333333,
              "#9c179e"
             ],
             [
              0.4444444444444444,
              "#bd3786"
             ],
             [
              0.5555555555555556,
              "#d8576b"
             ],
             [
              0.6666666666666666,
              "#ed7953"
             ],
             [
              0.7777777777777778,
              "#fb9f3a"
             ],
             [
              0.8888888888888888,
              "#fdca26"
             ],
             [
              1,
              "#f0f921"
             ]
            ],
            "type": "heatmap"
           }
          ],
          "heatmapgl": [
           {
            "colorbar": {
             "outlinewidth": 0,
             "ticks": ""
            },
            "colorscale": [
             [
              0,
              "#0d0887"
             ],
             [
              0.1111111111111111,
              "#46039f"
             ],
             [
              0.2222222222222222,
              "#7201a8"
             ],
             [
              0.3333333333333333,
              "#9c179e"
             ],
             [
              0.4444444444444444,
              "#bd3786"
             ],
             [
              0.5555555555555556,
              "#d8576b"
             ],
             [
              0.6666666666666666,
              "#ed7953"
             ],
             [
              0.7777777777777778,
              "#fb9f3a"
             ],
             [
              0.8888888888888888,
              "#fdca26"
             ],
             [
              1,
              "#f0f921"
             ]
            ],
            "type": "heatmapgl"
           }
          ],
          "histogram": [
           {
            "marker": {
             "pattern": {
              "fillmode": "overlay",
              "size": 10,
              "solidity": 0.2
             }
            },
            "type": "histogram"
           }
          ],
          "histogram2d": [
           {
            "colorbar": {
             "outlinewidth": 0,
             "ticks": ""
            },
            "colorscale": [
             [
              0,
              "#0d0887"
             ],
             [
              0.1111111111111111,
              "#46039f"
             ],
             [
              0.2222222222222222,
              "#7201a8"
             ],
             [
              0.3333333333333333,
              "#9c179e"
             ],
             [
              0.4444444444444444,
              "#bd3786"
             ],
             [
              0.5555555555555556,
              "#d8576b"
             ],
             [
              0.6666666666666666,
              "#ed7953"
             ],
             [
              0.7777777777777778,
              "#fb9f3a"
             ],
             [
              0.8888888888888888,
              "#fdca26"
             ],
             [
              1,
              "#f0f921"
             ]
            ],
            "type": "histogram2d"
           }
          ],
          "histogram2dcontour": [
           {
            "colorbar": {
             "outlinewidth": 0,
             "ticks": ""
            },
            "colorscale": [
             [
              0,
              "#0d0887"
             ],
             [
              0.1111111111111111,
              "#46039f"
             ],
             [
              0.2222222222222222,
              "#7201a8"
             ],
             [
              0.3333333333333333,
              "#9c179e"
             ],
             [
              0.4444444444444444,
              "#bd3786"
             ],
             [
              0.5555555555555556,
              "#d8576b"
             ],
             [
              0.6666666666666666,
              "#ed7953"
             ],
             [
              0.7777777777777778,
              "#fb9f3a"
             ],
             [
              0.8888888888888888,
              "#fdca26"
             ],
             [
              1,
              "#f0f921"
             ]
            ],
            "type": "histogram2dcontour"
           }
          ],
          "mesh3d": [
           {
            "colorbar": {
             "outlinewidth": 0,
             "ticks": ""
            },
            "type": "mesh3d"
           }
          ],
          "parcoords": [
           {
            "line": {
             "colorbar": {
              "outlinewidth": 0,
              "ticks": ""
             }
            },
            "type": "parcoords"
           }
          ],
          "pie": [
           {
            "automargin": true,
            "type": "pie"
           }
          ],
          "scatter": [
           {
            "marker": {
             "line": {
              "color": "#283442"
             }
            },
            "type": "scatter"
           }
          ],
          "scatter3d": [
           {
            "line": {
             "colorbar": {
              "outlinewidth": 0,
              "ticks": ""
             }
            },
            "marker": {
             "colorbar": {
              "outlinewidth": 0,
              "ticks": ""
             }
            },
            "type": "scatter3d"
           }
          ],
          "scattercarpet": [
           {
            "marker": {
             "colorbar": {
              "outlinewidth": 0,
              "ticks": ""
             }
            },
            "type": "scattercarpet"
           }
          ],
          "scattergeo": [
           {
            "marker": {
             "colorbar": {
              "outlinewidth": 0,
              "ticks": ""
             }
            },
            "type": "scattergeo"
           }
          ],
          "scattergl": [
           {
            "marker": {
             "line": {
              "color": "#283442"
             }
            },
            "type": "scattergl"
           }
          ],
          "scattermapbox": [
           {
            "marker": {
             "colorbar": {
              "outlinewidth": 0,
              "ticks": ""
             }
            },
            "type": "scattermapbox"
           }
          ],
          "scatterpolar": [
           {
            "marker": {
             "colorbar": {
              "outlinewidth": 0,
              "ticks": ""
             }
            },
            "type": "scatterpolar"
           }
          ],
          "scatterpolargl": [
           {
            "marker": {
             "colorbar": {
              "outlinewidth": 0,
              "ticks": ""
             }
            },
            "type": "scatterpolargl"
           }
          ],
          "scatterternary": [
           {
            "marker": {
             "colorbar": {
              "outlinewidth": 0,
              "ticks": ""
             }
            },
            "type": "scatterternary"
           }
          ],
          "surface": [
           {
            "colorbar": {
             "outlinewidth": 0,
             "ticks": ""
            },
            "colorscale": [
             [
              0,
              "#0d0887"
             ],
             [
              0.1111111111111111,
              "#46039f"
             ],
             [
              0.2222222222222222,
              "#7201a8"
             ],
             [
              0.3333333333333333,
              "#9c179e"
             ],
             [
              0.4444444444444444,
              "#bd3786"
             ],
             [
              0.5555555555555556,
              "#d8576b"
             ],
             [
              0.6666666666666666,
              "#ed7953"
             ],
             [
              0.7777777777777778,
              "#fb9f3a"
             ],
             [
              0.8888888888888888,
              "#fdca26"
             ],
             [
              1,
              "#f0f921"
             ]
            ],
            "type": "surface"
           }
          ],
          "table": [
           {
            "cells": {
             "fill": {
              "color": "#506784"
             },
             "line": {
              "color": "rgb(17,17,17)"
             }
            },
            "header": {
             "fill": {
              "color": "#2a3f5f"
             },
             "line": {
              "color": "rgb(17,17,17)"
             }
            },
            "type": "table"
           }
          ]
         },
         "layout": {
          "annotationdefaults": {
           "arrowcolor": "#f2f5fa",
           "arrowhead": 0,
           "arrowwidth": 1
          },
          "autotypenumbers": "strict",
          "coloraxis": {
           "colorbar": {
            "outlinewidth": 0,
            "ticks": ""
           }
          },
          "colorscale": {
           "diverging": [
            [
             0,
             "#8e0152"
            ],
            [
             0.1,
             "#c51b7d"
            ],
            [
             0.2,
             "#de77ae"
            ],
            [
             0.3,
             "#f1b6da"
            ],
            [
             0.4,
             "#fde0ef"
            ],
            [
             0.5,
             "#f7f7f7"
            ],
            [
             0.6,
             "#e6f5d0"
            ],
            [
             0.7,
             "#b8e186"
            ],
            [
             0.8,
             "#7fbc41"
            ],
            [
             0.9,
             "#4d9221"
            ],
            [
             1,
             "#276419"
            ]
           ],
           "sequential": [
            [
             0,
             "#0d0887"
            ],
            [
             0.1111111111111111,
             "#46039f"
            ],
            [
             0.2222222222222222,
             "#7201a8"
            ],
            [
             0.3333333333333333,
             "#9c179e"
            ],
            [
             0.4444444444444444,
             "#bd3786"
            ],
            [
             0.5555555555555556,
             "#d8576b"
            ],
            [
             0.6666666666666666,
             "#ed7953"
            ],
            [
             0.7777777777777778,
             "#fb9f3a"
            ],
            [
             0.8888888888888888,
             "#fdca26"
            ],
            [
             1,
             "#f0f921"
            ]
           ],
           "sequentialminus": [
            [
             0,
             "#0d0887"
            ],
            [
             0.1111111111111111,
             "#46039f"
            ],
            [
             0.2222222222222222,
             "#7201a8"
            ],
            [
             0.3333333333333333,
             "#9c179e"
            ],
            [
             0.4444444444444444,
             "#bd3786"
            ],
            [
             0.5555555555555556,
             "#d8576b"
            ],
            [
             0.6666666666666666,
             "#ed7953"
            ],
            [
             0.7777777777777778,
             "#fb9f3a"
            ],
            [
             0.8888888888888888,
             "#fdca26"
            ],
            [
             1,
             "#f0f921"
            ]
           ]
          },
          "colorway": [
           "#636efa",
           "#EF553B",
           "#00cc96",
           "#ab63fa",
           "#FFA15A",
           "#19d3f3",
           "#FF6692",
           "#B6E880",
           "#FF97FF",
           "#FECB52"
          ],
          "font": {
           "color": "#f2f5fa"
          },
          "geo": {
           "bgcolor": "rgb(17,17,17)",
           "lakecolor": "rgb(17,17,17)",
           "landcolor": "rgb(17,17,17)",
           "showlakes": true,
           "showland": true,
           "subunitcolor": "#506784"
          },
          "hoverlabel": {
           "align": "left"
          },
          "hovermode": "closest",
          "mapbox": {
           "style": "dark"
          },
          "paper_bgcolor": "rgb(17,17,17)",
          "plot_bgcolor": "rgb(17,17,17)",
          "polar": {
           "angularaxis": {
            "gridcolor": "#506784",
            "linecolor": "#506784",
            "ticks": ""
           },
           "bgcolor": "rgb(17,17,17)",
           "radialaxis": {
            "gridcolor": "#506784",
            "linecolor": "#506784",
            "ticks": ""
           }
          },
          "scene": {
           "xaxis": {
            "backgroundcolor": "rgb(17,17,17)",
            "gridcolor": "#506784",
            "gridwidth": 2,
            "linecolor": "#506784",
            "showbackground": true,
            "ticks": "",
            "zerolinecolor": "#C8D4E3"
           },
           "yaxis": {
            "backgroundcolor": "rgb(17,17,17)",
            "gridcolor": "#506784",
            "gridwidth": 2,
            "linecolor": "#506784",
            "showbackground": true,
            "ticks": "",
            "zerolinecolor": "#C8D4E3"
           },
           "zaxis": {
            "backgroundcolor": "rgb(17,17,17)",
            "gridcolor": "#506784",
            "gridwidth": 2,
            "linecolor": "#506784",
            "showbackground": true,
            "ticks": "",
            "zerolinecolor": "#C8D4E3"
           }
          },
          "shapedefaults": {
           "line": {
            "color": "#f2f5fa"
           }
          },
          "sliderdefaults": {
           "bgcolor": "#C8D4E3",
           "bordercolor": "rgb(17,17,17)",
           "borderwidth": 1,
           "tickwidth": 0
          },
          "ternary": {
           "aaxis": {
            "gridcolor": "#506784",
            "linecolor": "#506784",
            "ticks": ""
           },
           "baxis": {
            "gridcolor": "#506784",
            "linecolor": "#506784",
            "ticks": ""
           },
           "bgcolor": "rgb(17,17,17)",
           "caxis": {
            "gridcolor": "#506784",
            "linecolor": "#506784",
            "ticks": ""
           }
          },
          "title": {
           "x": 0.05
          },
          "updatemenudefaults": {
           "bgcolor": "#506784",
           "borderwidth": 0
          },
          "xaxis": {
           "automargin": true,
           "gridcolor": "#283442",
           "linecolor": "#506784",
           "ticks": "",
           "title": {
            "standoff": 15
           },
           "zerolinecolor": "#283442",
           "zerolinewidth": 2
          },
          "yaxis": {
           "automargin": true,
           "gridcolor": "#283442",
           "linecolor": "#506784",
           "ticks": "",
           "title": {
            "standoff": 15
           },
           "zerolinecolor": "#283442",
           "zerolinewidth": 2
          }
         }
        },
        "title": {
         "text": "Comparing the Linear Model Results on Different Conditions"
        },
        "width": 1200,
        "xaxis": {
         "anchor": "y",
         "domain": [
          0,
          0.2125
         ]
        },
        "xaxis2": {
         "anchor": "y2",
         "domain": [
          0.2625,
          0.475
         ]
        },
        "xaxis3": {
         "anchor": "y3",
         "domain": [
          0.525,
          0.7375
         ]
        },
        "xaxis4": {
         "anchor": "y4",
         "domain": [
          0.7875,
          1
         ]
        },
        "yaxis": {
         "anchor": "x",
         "domain": [
          0,
          1
         ]
        },
        "yaxis2": {
         "anchor": "x2",
         "domain": [
          0,
          1
         ]
        },
        "yaxis3": {
         "anchor": "x3",
         "domain": [
          0,
          1
         ]
        },
        "yaxis4": {
         "anchor": "x4",
         "domain": [
          0,
          1
         ]
        }
       }
      }
     },
     "metadata": {},
     "output_type": "display_data"
    },
    {
     "data": {
      "application/vnd.plotly.v1+json": {
       "config": {
        "plotlyServerURL": "https://plot.ly"
       },
       "data": [
        {
         "alignmentgroup": "True",
         "boxpoints": "all",
         "fillcolor": "rgba(255,255,255,0)",
         "hoveron": "points",
         "hovertemplate": "sc=1<br>theta=%{x}<br>diff=%{y}<extra></extra>",
         "legendgroup": "1",
         "line": {
          "color": "rgba(255,255,255,0)"
         },
         "marker": {
          "color": "#636efa",
          "opacity": 0.5,
          "size": 5
         },
         "name": "1",
         "offsetgroup": "1",
         "orientation": "v",
         "pointpos": 0,
         "showlegend": true,
         "type": "box",
         "x": [
          "CSENT",
          "IPM",
          "HOUSE",
          "UNEMP",
          "LRIR",
          "CSENT",
          "IPM",
          "HOUSE",
          "UNEMP",
          "LRIR",
          "CSENT",
          "IPM",
          "HOUSE",
          "UNEMP",
          "LRIR",
          "CSENT",
          "IPM",
          "HOUSE",
          "UNEMP",
          "LRIR",
          "CSENT",
          "IPM",
          "HOUSE",
          "UNEMP",
          "LRIR",
          "CSENT",
          "IPM",
          "HOUSE",
          "UNEMP",
          "LRIR",
          "CSENT",
          "IPM",
          "HOUSE",
          "UNEMP",
          "LRIR",
          "CSENT",
          "IPM",
          "HOUSE",
          "UNEMP",
          "LRIR",
          "CSENT",
          "IPM",
          "HOUSE",
          "UNEMP",
          "LRIR",
          "CSENT",
          "IPM",
          "HOUSE",
          "UNEMP",
          "LRIR",
          "CSENT",
          "IPM",
          "HOUSE",
          "UNEMP",
          "LRIR",
          "CSENT",
          "IPM",
          "HOUSE",
          "UNEMP",
          "LRIR",
          "CSENT",
          "IPM",
          "HOUSE",
          "UNEMP",
          "LRIR",
          "CSENT",
          "IPM",
          "HOUSE",
          "UNEMP",
          "LRIR",
          "CSENT",
          "IPM",
          "HOUSE",
          "UNEMP",
          "LRIR",
          "CSENT",
          "IPM",
          "HOUSE",
          "UNEMP",
          "LRIR",
          "CSENT",
          "IPM",
          "HOUSE",
          "UNEMP",
          "LRIR",
          "CSENT",
          "IPM",
          "HOUSE",
          "UNEMP",
          "LRIR"
         ],
         "x0": " ",
         "xaxis": "x",
         "y": [
          -2.6384483971335486,
          -2.007699340825803,
          -2.122991961493258,
          -0.08650391373962485,
          -0.5214165107356017,
          -2.929256066354447,
          -2.0586167352170293,
          -2.413562991121224,
          -0.08207742977222487,
          -0.8782472881171666,
          -3.0521151102387982,
          -2.1200413101743365,
          -2.437194399957794,
          -0.2069515915691431,
          -0.6703486118187172,
          -2.9027655594726554,
          -1.876161040257089,
          -2.2201629198566994,
          -0.2726524357903761,
          -0.6705131953174366,
          -3.1951049172968,
          -1.9434498658036814,
          -1.8776606132921838,
          -0.2465085907567346,
          -0.8709509817509575,
          -3.406538631557865,
          -1.9790825431742824,
          -1.6634626264307792,
          -0.4084748485925669,
          -0.9565453797775385,
          -1.363740396791874,
          -0.5525671384050321,
          -0.7338373763824864,
          1.5280447882842951,
          1.0789684302219582,
          -1.6868381039124092,
          -0.9407072716046763,
          -0.8301410796303719,
          1.1062477656521148,
          0.8206901000830253,
          -1.8871486723136188,
          -1.066466616100394,
          -1.3158165208494728,
          0.8584634580690249,
          0.277762581311789,
          -2.148066653403336,
          -1.1685573739405415,
          -1.5170907251592105,
          0.7496171616172251,
          0.17186212130908185,
          -2.1199678123536767,
          -1.0926157298108325,
          -1.4551506594678045,
          0.6209591060670565,
          0.25860780830703334,
          -2.204156019242612,
          -1.0112201046414606,
          -1.1817172312271031,
          0.5766924757282004,
          0.1469807074366125,
          -1.004326319960728,
          0.007482125344300705,
          -0.5635191409456324,
          1.9913654851480853,
          1.4632174303380312,
          -1.172794063812348,
          -0.24369850472043897,
          -0.40686654100197917,
          1.7397957541922606,
          1.3698457034726177,
          -1.3439418401066483,
          -0.4604946936743399,
          -0.5426917534381284,
          1.4831140394260354,
          1.0975735659459076,
          -1.5683401222730593,
          -0.6362709080820768,
          -0.9137520049053602,
          1.229454005905393,
          0.7665043876015352,
          -1.692795764834159,
          -0.6405602699310755,
          -0.9972125003366754,
          1.102018786745532,
          0.6802329692182383,
          -1.7252543964404108,
          -0.5788540219678229,
          -0.8058588429262077,
          1.0270977552030613,
          0.6954405573437166
         ],
         "y0": " ",
         "yaxis": "y"
        },
        {
         "alignmentgroup": "True",
         "boxpoints": "all",
         "fillcolor": "rgba(255,255,255,0)",
         "hoveron": "points",
         "hovertemplate": "sc=1<br>theta=%{x}<br>diff=%{y}<extra></extra>",
         "legendgroup": "1",
         "line": {
          "color": "rgba(255,255,255,0)"
         },
         "marker": {
          "color": "#636efa",
          "opacity": 0.5,
          "size": 5
         },
         "name": "1",
         "offsetgroup": "1",
         "orientation": "v",
         "pointpos": 0,
         "showlegend": false,
         "type": "box",
         "x": [
          "CSENT",
          "IPM",
          "HOUSE",
          "UNEMP",
          "LRIR",
          "CSENT",
          "IPM",
          "HOUSE",
          "UNEMP",
          "LRIR",
          "CSENT",
          "IPM",
          "HOUSE",
          "UNEMP",
          "LRIR",
          "CSENT",
          "IPM",
          "HOUSE",
          "UNEMP",
          "LRIR",
          "CSENT",
          "IPM",
          "HOUSE",
          "UNEMP",
          "LRIR",
          "CSENT",
          "IPM",
          "HOUSE",
          "UNEMP",
          "LRIR",
          "CSENT",
          "IPM",
          "HOUSE",
          "UNEMP",
          "LRIR",
          "CSENT",
          "IPM",
          "HOUSE",
          "UNEMP",
          "LRIR",
          "CSENT",
          "IPM",
          "HOUSE",
          "UNEMP",
          "LRIR",
          "CSENT",
          "IPM",
          "HOUSE",
          "UNEMP",
          "LRIR",
          "CSENT",
          "IPM",
          "HOUSE",
          "UNEMP",
          "LRIR",
          "CSENT",
          "IPM",
          "HOUSE",
          "UNEMP",
          "LRIR",
          "CSENT",
          "IPM",
          "HOUSE",
          "UNEMP",
          "LRIR",
          "CSENT",
          "IPM",
          "HOUSE",
          "UNEMP",
          "LRIR",
          "CSENT",
          "IPM",
          "HOUSE",
          "UNEMP",
          "LRIR",
          "CSENT",
          "IPM",
          "HOUSE",
          "UNEMP",
          "LRIR",
          "CSENT",
          "IPM",
          "HOUSE",
          "UNEMP",
          "LRIR",
          "CSENT",
          "IPM",
          "HOUSE",
          "UNEMP",
          "LRIR"
         ],
         "x0": " ",
         "xaxis": "x2",
         "y": [
          0.13371920599461684,
          0.10689051565414132,
          0.11203558062759167,
          0.005279823197064548,
          0.030904864954899858,
          0.1465611075309684,
          0.11025528342379387,
          0.12579757658956414,
          0.005052609734660374,
          0.05123355076752445,
          0.15202958184618653,
          0.1135834423153742,
          0.12745309957579887,
          0.012686835825627796,
          0.039839921544580825,
          0.14145146005392306,
          0.09919252029027614,
          0.11429990154053371,
          0.016178240370333552,
          0.038710082377830024,
          0.15064856314498543,
          0.10143522815484163,
          0.09849923195179744,
          0.014551713814543787,
          0.04922184173552546,
          0.15695280325948557,
          0.10254580456254114,
          0.08830350960085087,
          0.023745203448370722,
          0.053496888532183595,
          0.05813370100383375,
          0.025444992771968433,
          0.033231317915638936,
          -0.08377082163408411,
          -0.05710824614959931,
          0.07555579635408805,
          0.04508832474150426,
          0.04017498928754881,
          -0.06254889228211957,
          -0.04541714245773443,
          0.08723058268437389,
          0.05297066449678256,
          0.0639781015080807,
          -0.04957763477141042,
          -0.015363988162679032,
          0.09883763466633877,
          0.05856831653189254,
          0.07381939867579845,
          -0.04360113756281114,
          -0.009579865844017377,
          0.09665897296836867,
          0.05451813016961693,
          0.07039825216296303,
          -0.035440000666872584,
          -0.014367098413393786,
          0.097447584893263,
          0.04975436256287136,
          0.05730018674266402,
          -0.03220621829031989,
          -0.007944077758940349,
          0.04081153470318666,
          -0.0003370192105260905,
          0.02398107603311439,
          -0.10690683819601543,
          -0.07518675306836853,
          0.04888788627907714,
          0.011142672847544555,
          0.018314688897061115,
          -0.0945478839033741,
          -0.07224058502861552,
          0.058057820967440166,
          0.02165861459538765,
          0.025331044253360524,
          -0.08226483169768861,
          -0.05904351757495063,
          0.06971858661485442,
          0.03085444849587493,
          0.043211545993334544,
          -0.06955915805262958,
          -0.041829064503382196,
          0.07471155194480661,
          0.03118959261043308,
          0.04701541196764858,
          -0.0619735249455895,
          -0.03701151421446025,
          0.07456560221724995,
          0.02789280638481495,
          0.03803885120131034,
          -0.056637471761018965,
          -0.037349664342035016
         ],
         "y0": " ",
         "yaxis": "y2"
        },
        {
         "alignmentgroup": "True",
         "boxpoints": "all",
         "fillcolor": "rgba(255,255,255,0)",
         "hoveron": "points",
         "hovertemplate": "sc=3<br>theta=%{x}<br>diff=%{y}<extra></extra>",
         "legendgroup": "3",
         "line": {
          "color": "rgba(255,255,255,0)"
         },
         "marker": {
          "color": "#EF553B",
          "opacity": 0.5,
          "size": 5
         },
         "name": "3",
         "offsetgroup": "3",
         "orientation": "v",
         "pointpos": 0,
         "showlegend": true,
         "type": "box",
         "x": [
          "CSENT",
          "IPM",
          "HOUSE",
          "UNEMP",
          "LRIR",
          "CSENT",
          "IPM",
          "HOUSE",
          "UNEMP",
          "LRIR",
          "CSENT",
          "IPM",
          "HOUSE",
          "UNEMP",
          "LRIR",
          "CSENT",
          "IPM",
          "HOUSE",
          "UNEMP",
          "LRIR",
          "CSENT",
          "IPM",
          "HOUSE",
          "UNEMP",
          "LRIR",
          "CSENT",
          "IPM",
          "HOUSE",
          "UNEMP",
          "LRIR",
          "CSENT",
          "IPM",
          "HOUSE",
          "UNEMP",
          "LRIR",
          "CSENT",
          "IPM",
          "HOUSE",
          "UNEMP",
          "LRIR",
          "CSENT",
          "IPM",
          "HOUSE",
          "UNEMP",
          "LRIR",
          "CSENT",
          "IPM",
          "HOUSE",
          "UNEMP",
          "LRIR",
          "CSENT",
          "IPM",
          "HOUSE",
          "UNEMP",
          "LRIR",
          "CSENT",
          "IPM",
          "HOUSE",
          "UNEMP",
          "LRIR",
          "CSENT",
          "IPM",
          "HOUSE",
          "UNEMP",
          "LRIR",
          "CSENT",
          "IPM",
          "HOUSE",
          "UNEMP",
          "LRIR",
          "CSENT",
          "IPM",
          "HOUSE",
          "UNEMP",
          "LRIR",
          "CSENT",
          "IPM",
          "HOUSE",
          "UNEMP",
          "LRIR",
          "CSENT",
          "IPM",
          "HOUSE",
          "UNEMP",
          "LRIR",
          "CSENT",
          "IPM",
          "HOUSE",
          "UNEMP",
          "LRIR"
         ],
         "x0": " ",
         "xaxis": "x",
         "y": [
          -2.0407319535521102,
          -1.5316503122188072,
          -1.7817095391396967,
          -0.26467619690146904,
          -0.7073377625856221,
          -2.263075620792203,
          -1.5287205690298107,
          -2.093228785378666,
          -0.24825869994646688,
          -1.031959604243811,
          -2.311962938807505,
          -1.6840189456362218,
          -2.1393035542021366,
          -0.39983770542351316,
          -0.7400490445917978,
          -2.2012108796745045,
          -1.6462936459971749,
          -2.149681688406641,
          -0.6102688966131513,
          -0.7236259479801532,
          -2.089545119438526,
          -1.5163596099963463,
          -1.7149138365133956,
          -0.4250801374727242,
          -0.6146912267211064,
          -2.266200063686581,
          -1.4778288289903463,
          -1.2357524582548827,
          -0.39038955883422943,
          -0.5951460728798068,
          -1.1209225105288292,
          -0.741297653948001,
          -1.0733283155127458,
          0.7853084314199981,
          0.44966889016150446,
          -1.6516255341395363,
          -1.1149994964002348,
          -1.2598459915808746,
          0.3642370837236122,
          0.048123079241996436,
          -2.015514337486719,
          -1.3131638097572065,
          -1.7467095077439687,
          0.03450916544252003,
          -0.6168546432685886,
          -2.1619548465293716,
          -1.4006254059995653,
          -1.9590827433711198,
          -0.04512567105357412,
          -0.6375580827052421,
          -2.1257767804989323,
          -1.47530959415176,
          -2.0154605090236366,
          -0.2728846206667743,
          -0.5046289860565807,
          -2.022952999486545,
          -1.3913616444237986,
          -1.785394788830164,
          -0.3046304220902023,
          -0.4348975397127113,
          -0.9891430347791541,
          -0.35456295581504715,
          -0.9909635494969047,
          1.129939321467055,
          0.659481209500461,
          -1.279938792386817,
          -0.6966684468617315,
          -1.0242280231730536,
          0.825398889932325,
          0.4176315339274108,
          -1.7031439023005008,
          -0.9665945743557618,
          -1.2880247982625974,
          0.5104663516405665,
          -0.007347167716291736,
          -1.9375825044062225,
          -1.1658622070192033,
          -1.649207698982834,
          0.2278598755921344,
          -0.34678501686250485,
          -1.9761398805779082,
          -1.2172197677132157,
          -1.798111347052724,
          0.07374537425202732,
          -0.3587066755710673,
          -1.9192157339396774,
          -1.217577620376102,
          -1.6659290195339693,
          -0.033633361648426785,
          -0.22518249097929477
         ],
         "y0": " ",
         "yaxis": "y"
        },
        {
         "alignmentgroup": "True",
         "boxpoints": "all",
         "fillcolor": "rgba(255,255,255,0)",
         "hoveron": "points",
         "hovertemplate": "sc=3<br>theta=%{x}<br>diff=%{y}<extra></extra>",
         "legendgroup": "3",
         "line": {
          "color": "rgba(255,255,255,0)"
         },
         "marker": {
          "color": "#EF553B",
          "opacity": 0.5,
          "size": 5
         },
         "name": "3",
         "offsetgroup": "3",
         "orientation": "v",
         "pointpos": 0,
         "showlegend": false,
         "type": "box",
         "x": [
          "CSENT",
          "IPM",
          "HOUSE",
          "UNEMP",
          "LRIR",
          "CSENT",
          "IPM",
          "HOUSE",
          "UNEMP",
          "LRIR",
          "CSENT",
          "IPM",
          "HOUSE",
          "UNEMP",
          "LRIR",
          "CSENT",
          "IPM",
          "HOUSE",
          "UNEMP",
          "LRIR",
          "CSENT",
          "IPM",
          "HOUSE",
          "UNEMP",
          "LRIR",
          "CSENT",
          "IPM",
          "HOUSE",
          "UNEMP",
          "LRIR",
          "CSENT",
          "IPM",
          "HOUSE",
          "UNEMP",
          "LRIR",
          "CSENT",
          "IPM",
          "HOUSE",
          "UNEMP",
          "LRIR",
          "CSENT",
          "IPM",
          "HOUSE",
          "UNEMP",
          "LRIR",
          "CSENT",
          "IPM",
          "HOUSE",
          "UNEMP",
          "LRIR",
          "CSENT",
          "IPM",
          "HOUSE",
          "UNEMP",
          "LRIR",
          "CSENT",
          "IPM",
          "HOUSE",
          "UNEMP",
          "LRIR",
          "CSENT",
          "IPM",
          "HOUSE",
          "UNEMP",
          "LRIR",
          "CSENT",
          "IPM",
          "HOUSE",
          "UNEMP",
          "LRIR",
          "CSENT",
          "IPM",
          "HOUSE",
          "UNEMP",
          "LRIR",
          "CSENT",
          "IPM",
          "HOUSE",
          "UNEMP",
          "LRIR",
          "CSENT",
          "IPM",
          "HOUSE",
          "UNEMP",
          "LRIR",
          "CSENT",
          "IPM",
          "HOUSE",
          "UNEMP",
          "LRIR"
         ],
         "x0": " ",
         "xaxis": "x2",
         "y": [
          0.1338655435794316,
          0.1036352206488339,
          0.1187470674782426,
          0.01926929334669658,
          0.050226037866207274,
          0.15017210286143445,
          0.10598654727940549,
          0.14034068093426189,
          0.018498648237729953,
          0.07362117391121048,
          0.15521887935731105,
          0.11733176236472587,
          0.14511896135140845,
          0.029932138790404128,
          0.05438364371009152,
          0.14692268207907466,
          0.11356816032197525,
          0.14393001297179386,
          0.044648602565049544,
          0.052611252254401664,
          0.13604893271454754,
          0.10223148370403867,
          0.11424574644947127,
          0.030527711826654924,
          0.043675240601833476,
          0.1433910797937733,
          0.09819346204122736,
          0.08331192577672308,
          0.027646525923060827,
          0.0416568422104967,
          0.06414438750518303,
          0.04360716449307711,
          0.06163623902445459,
          -0.05125146535328984,
          -0.028710244121585626,
          0.09914148864465944,
          0.06944676571202502,
          0.07770071743965856,
          -0.024952811434536315,
          -0.003232774337004196,
          0.12608231995558405,
          0.08601865244509332,
          0.11123840044630362,
          -0.002455790262299473,
          0.04221044594338963,
          0.13769696292183342,
          0.09367912188644067,
          0.12644262444613819,
          0.0032746982894442667,
          0.04468255469223581,
          0.13634027959860662,
          0.09864025228606765,
          0.13019606700693664,
          0.01961937532791047,
          0.03579117940532961,
          0.12758933917546134,
          0.09143129183413701,
          0.11438100579782418,
          0.02140352345851293,
          0.030319126159918164,
          0.053865297068458995,
          0.02028837903059988,
          0.053956577344074,
          -0.07196291216117312,
          -0.040649143530535836,
          0.07176834383402109,
          0.04082952543738583,
          0.05856855445450826,
          -0.053834442050045506,
          -0.026498727097956642,
          0.09951359486137346,
          0.059566972142172325,
          0.07757870982298531,
          -0.03472972865887314,
          0.0004833572874224368,
          0.11800275270141647,
          0.0749021093505533,
          0.10250098383883788,
          -0.01601523401649385,
          0.02351041925907371,
          0.12197495920012069,
          0.07913136008585553,
          0.11237242922782664,
          -0.00520640202892142,
          0.024652913502635876,
          0.11775617520585602,
          0.07840699504281301,
          0.10404332832201746,
          0.002338350083419094,
          0.01546889606715851
         ],
         "y0": " ",
         "yaxis": "y2"
        },
        {
         "alignmentgroup": "True",
         "boxpoints": "all",
         "fillcolor": "rgba(255,255,255,0)",
         "hoveron": "points",
         "hovertemplate": "sc=6<br>theta=%{x}<br>diff=%{y}<extra></extra>",
         "legendgroup": "6",
         "line": {
          "color": "rgba(255,255,255,0)"
         },
         "marker": {
          "color": "#00cc96",
          "opacity": 0.5,
          "size": 5
         },
         "name": "6",
         "offsetgroup": "6",
         "orientation": "v",
         "pointpos": 0,
         "showlegend": true,
         "type": "box",
         "x": [
          "CSENT",
          "IPM",
          "HOUSE",
          "UNEMP",
          "LRIR",
          "CSENT",
          "IPM",
          "HOUSE",
          "UNEMP",
          "LRIR",
          "CSENT",
          "IPM",
          "HOUSE",
          "UNEMP",
          "LRIR",
          "CSENT",
          "IPM",
          "HOUSE",
          "UNEMP",
          "LRIR",
          "CSENT",
          "IPM",
          "HOUSE",
          "UNEMP",
          "LRIR",
          "CSENT",
          "IPM",
          "HOUSE",
          "UNEMP",
          "LRIR",
          "CSENT",
          "IPM",
          "HOUSE",
          "UNEMP",
          "LRIR",
          "CSENT",
          "IPM",
          "HOUSE",
          "UNEMP",
          "LRIR",
          "CSENT",
          "IPM",
          "HOUSE",
          "UNEMP",
          "LRIR",
          "CSENT",
          "IPM",
          "HOUSE",
          "UNEMP",
          "LRIR",
          "CSENT",
          "IPM",
          "HOUSE",
          "UNEMP",
          "LRIR",
          "CSENT",
          "IPM",
          "HOUSE",
          "UNEMP",
          "LRIR",
          "CSENT",
          "IPM",
          "HOUSE",
          "UNEMP",
          "LRIR",
          "CSENT",
          "IPM",
          "HOUSE",
          "UNEMP",
          "LRIR",
          "CSENT",
          "IPM",
          "HOUSE",
          "UNEMP",
          "LRIR",
          "CSENT",
          "IPM",
          "HOUSE",
          "UNEMP",
          "LRIR",
          "CSENT",
          "IPM",
          "HOUSE",
          "UNEMP",
          "LRIR",
          "CSENT",
          "IPM",
          "HOUSE",
          "UNEMP",
          "LRIR"
         ],
         "x0": " ",
         "xaxis": "x",
         "y": [
          -1.309857133434022,
          -0.9283277960906062,
          -1.231285835869322,
          -0.10937163374657999,
          -0.7769954349678301,
          -1.6105682864670747,
          -1.154187718830416,
          -1.7134292980303396,
          -0.2837512501993835,
          -1.0201869586864998,
          -1.5804623186648854,
          -1.33864117642527,
          -1.7954471183020289,
          -0.45897632328096094,
          -0.79092107461382,
          -1.5009495528295584,
          -1.335416164860126,
          -1.7654333135365725,
          -0.6274629140780306,
          -0.6277155783436825,
          -1.3903850881350532,
          -1.326509049296135,
          -1.4509454390576675,
          -0.5740120208105122,
          -0.38077711049946217,
          -1.5139292327771177,
          -1.2856850420587396,
          -0.9242261132478777,
          -0.4891303019042592,
          -0.163963454574084,
          -0.4171431393564262,
          -0.26050667137151073,
          -0.7677821651168228,
          0.5278856235097837,
          0.3215151639420082,
          -0.9516921755858618,
          -0.6206194789165682,
          -0.9125986795830077,
          0.2642148170116059,
          -0.22701935596393952,
          -1.4110807734014923,
          -0.9407007109403889,
          -1.3891330299878,
          -0.05457590694073211,
          -0.8020130571507593,
          -1.5578668117968615,
          -1.1648451317131023,
          -1.7052218026994304,
          -0.2555389922335518,
          -0.8125930065690046,
          -1.4749884132557423,
          -1.2534662640282743,
          -1.7297716167659694,
          -0.44288776460825474,
          -0.61082564059015,
          -1.3638729373393232,
          -1.2462880994905117,
          -1.5411820755635564,
          -0.5035134772900278,
          -0.3913032230790421,
          -0.3817004396465711,
          -0.004411023607088005,
          -0.7820231986570638,
          0.7128812369091602,
          0.4578048833220656,
          -0.6501680547928865,
          -0.31564010780013874,
          -0.797308590441574,
          0.5259769001872847,
          0.08120804042919971,
          -1.1537941146179067,
          -0.6775675667475234,
          -1.07205211254211,
          0.2549726261276568,
          -0.396835403369483,
          -1.4359907750538845,
          -0.9783767640274554,
          -1.4574978978566335,
          -0.054528223317827695,
          -0.696366596566893,
          -1.4674059432054563,
          -1.1146781492652824,
          -1.6414708652480652,
          -0.24515680141381502,
          -0.6345642814820689,
          -1.3333941625216799,
          -1.1525553137377855,
          -1.5182100915050363,
          -0.3533206239020661,
          -0.3872035958476374
         ],
         "y0": " ",
         "yaxis": "y"
        },
        {
         "alignmentgroup": "True",
         "boxpoints": "all",
         "fillcolor": "rgba(255,255,255,0)",
         "hoveron": "points",
         "hovertemplate": "sc=6<br>theta=%{x}<br>diff=%{y}<extra></extra>",
         "legendgroup": "6",
         "line": {
          "color": "rgba(255,255,255,0)"
         },
         "marker": {
          "color": "#00cc96",
          "opacity": 0.5,
          "size": 5
         },
         "name": "6",
         "offsetgroup": "6",
         "orientation": "v",
         "pointpos": 0,
         "showlegend": false,
         "type": "box",
         "x": [
          "CSENT",
          "IPM",
          "HOUSE",
          "UNEMP",
          "LRIR",
          "CSENT",
          "IPM",
          "HOUSE",
          "UNEMP",
          "LRIR",
          "CSENT",
          "IPM",
          "HOUSE",
          "UNEMP",
          "LRIR",
          "CSENT",
          "IPM",
          "HOUSE",
          "UNEMP",
          "LRIR",
          "CSENT",
          "IPM",
          "HOUSE",
          "UNEMP",
          "LRIR",
          "CSENT",
          "IPM",
          "HOUSE",
          "UNEMP",
          "LRIR",
          "CSENT",
          "IPM",
          "HOUSE",
          "UNEMP",
          "LRIR",
          "CSENT",
          "IPM",
          "HOUSE",
          "UNEMP",
          "LRIR",
          "CSENT",
          "IPM",
          "HOUSE",
          "UNEMP",
          "LRIR",
          "CSENT",
          "IPM",
          "HOUSE",
          "UNEMP",
          "LRIR",
          "CSENT",
          "IPM",
          "HOUSE",
          "UNEMP",
          "LRIR",
          "CSENT",
          "IPM",
          "HOUSE",
          "UNEMP",
          "LRIR",
          "CSENT",
          "IPM",
          "HOUSE",
          "UNEMP",
          "LRIR",
          "CSENT",
          "IPM",
          "HOUSE",
          "UNEMP",
          "LRIR",
          "CSENT",
          "IPM",
          "HOUSE",
          "UNEMP",
          "LRIR",
          "CSENT",
          "IPM",
          "HOUSE",
          "UNEMP",
          "LRIR",
          "CSENT",
          "IPM",
          "HOUSE",
          "UNEMP",
          "LRIR",
          "CSENT",
          "IPM",
          "HOUSE",
          "UNEMP",
          "LRIR"
         ],
         "x0": " ",
         "xaxis": "x2",
         "y": [
          0.10226333992464265,
          0.07391365320712728,
          0.09652165417126857,
          0.009071629898255384,
          0.06234164480316118,
          0.13104746919329546,
          0.09604535219242927,
          0.1387035362786062,
          0.02461208315595742,
          0.08544791412287744,
          0.13272707328657873,
          0.11372649262001688,
          0.1492223707961683,
          0.040623905715053366,
          0.06894381220704637,
          0.1256573031118492,
          0.11269055433081177,
          0.1459164890033614,
          0.054740552512162255,
          0.05476195561951369,
          0.11337764192524469,
          0.1085103613961379,
          0.1179619046620336,
          0.048695540050893604,
          0.032599206217171384,
          0.11882852608872208,
          0.10209378217294995,
          0.07473455912054272,
          0.04040783956452243,
          0.013759704449809118,
          0.029225451449980566,
          0.01842341530132674,
          0.05265633525252911,
          -0.039087803280778544,
          -0.023527111975187642,
          0.07019371683381925,
          0.04663925598760954,
          0.0674603944766704,
          -0.02083912227044704,
          0.017436298674653128,
          0.10989584754659576,
          0.07512024363958647,
          0.10831455627066178,
          0.0045612487646536914,
          0.06451227735323961,
          0.12679579219431447,
          0.09672744197884775,
          0.13773533387890435,
          0.022194147093289485,
          0.06867722794414544,
          0.12204783168900313,
          0.10488082298520507,
          0.1412842194075692,
          0.0385609861936842,
          0.05275327475002467,
          0.11104096665400609,
          0.10208085943647172,
          0.12433335762195896,
          0.04280661328806601,
          0.03345068639208981,
          0.02597949675265998,
          0.0003074749394054166,
          0.051862755227564006,
          -0.05191957419459503,
          -0.03283352656092586,
          0.0456370987603123,
          0.022614592468986894,
          0.055455397251515604,
          -0.03960856760632292,
          -0.005958365826601586,
          0.08549316508854465,
          0.05160625563215071,
          0.07981657071388937,
          -0.020451545396607873,
          0.030708010051042733,
          0.11278065352236588,
          0.07878038297436318,
          0.11433395955431491,
          0.0046089862423375205,
          0.056923469749514455,
          0.11875025253009897,
          0.09190808660747174,
          0.13159934832986797,
          0.021136817505522876,
          0.0536406308251931,
          0.10794303433925401,
          0.09420638365046563,
          0.12168903637064388,
          0.030102651393453472,
          0.03293262114998585
         ],
         "y0": " ",
         "yaxis": "y2"
        }
       ],
       "layout": {
        "annotations": [
         {
          "font": {
           "color": "grey",
           "size": 11
          },
          "showarrow": false,
          "text": "RMSE",
          "x": 0.225,
          "xanchor": "center",
          "xref": "paper",
          "y": 0.95,
          "yanchor": "bottom",
          "yref": "paper"
         },
         {
          "font": {
           "color": "grey",
           "size": 11
          },
          "showarrow": false,
          "text": "Adj-R2",
          "x": 0.775,
          "xanchor": "center",
          "xref": "paper",
          "y": 0.95,
          "yanchor": "bottom",
          "yref": "paper"
         }
        ],
        "height": 400,
        "legend": {
         "orientation": "h",
         "title": {
          "text": "Scopes:"
         },
         "x": 0.5,
         "xanchor": "center",
         "y": -0.25,
         "yanchor": "top"
        },
        "margin": {
         "b": 60,
         "l": 80,
         "r": 40,
         "t": 80
        },
        "template": {
         "data": {
          "bar": [
           {
            "error_x": {
             "color": "#f2f5fa"
            },
            "error_y": {
             "color": "#f2f5fa"
            },
            "marker": {
             "line": {
              "color": "rgb(17,17,17)",
              "width": 0.5
             },
             "pattern": {
              "fillmode": "overlay",
              "size": 10,
              "solidity": 0.2
             }
            },
            "type": "bar"
           }
          ],
          "barpolar": [
           {
            "marker": {
             "line": {
              "color": "rgb(17,17,17)",
              "width": 0.5
             },
             "pattern": {
              "fillmode": "overlay",
              "size": 10,
              "solidity": 0.2
             }
            },
            "type": "barpolar"
           }
          ],
          "carpet": [
           {
            "aaxis": {
             "endlinecolor": "#A2B1C6",
             "gridcolor": "#506784",
             "linecolor": "#506784",
             "minorgridcolor": "#506784",
             "startlinecolor": "#A2B1C6"
            },
            "baxis": {
             "endlinecolor": "#A2B1C6",
             "gridcolor": "#506784",
             "linecolor": "#506784",
             "minorgridcolor": "#506784",
             "startlinecolor": "#A2B1C6"
            },
            "type": "carpet"
           }
          ],
          "choropleth": [
           {
            "colorbar": {
             "outlinewidth": 0,
             "ticks": ""
            },
            "type": "choropleth"
           }
          ],
          "contour": [
           {
            "colorbar": {
             "outlinewidth": 0,
             "ticks": ""
            },
            "colorscale": [
             [
              0,
              "#0d0887"
             ],
             [
              0.1111111111111111,
              "#46039f"
             ],
             [
              0.2222222222222222,
              "#7201a8"
             ],
             [
              0.3333333333333333,
              "#9c179e"
             ],
             [
              0.4444444444444444,
              "#bd3786"
             ],
             [
              0.5555555555555556,
              "#d8576b"
             ],
             [
              0.6666666666666666,
              "#ed7953"
             ],
             [
              0.7777777777777778,
              "#fb9f3a"
             ],
             [
              0.8888888888888888,
              "#fdca26"
             ],
             [
              1,
              "#f0f921"
             ]
            ],
            "type": "contour"
           }
          ],
          "contourcarpet": [
           {
            "colorbar": {
             "outlinewidth": 0,
             "ticks": ""
            },
            "type": "contourcarpet"
           }
          ],
          "heatmap": [
           {
            "colorbar": {
             "outlinewidth": 0,
             "ticks": ""
            },
            "colorscale": [
             [
              0,
              "#0d0887"
             ],
             [
              0.1111111111111111,
              "#46039f"
             ],
             [
              0.2222222222222222,
              "#7201a8"
             ],
             [
              0.3333333333333333,
              "#9c179e"
             ],
             [
              0.4444444444444444,
              "#bd3786"
             ],
             [
              0.5555555555555556,
              "#d8576b"
             ],
             [
              0.6666666666666666,
              "#ed7953"
             ],
             [
              0.7777777777777778,
              "#fb9f3a"
             ],
             [
              0.8888888888888888,
              "#fdca26"
             ],
             [
              1,
              "#f0f921"
             ]
            ],
            "type": "heatmap"
           }
          ],
          "heatmapgl": [
           {
            "colorbar": {
             "outlinewidth": 0,
             "ticks": ""
            },
            "colorscale": [
             [
              0,
              "#0d0887"
             ],
             [
              0.1111111111111111,
              "#46039f"
             ],
             [
              0.2222222222222222,
              "#7201a8"
             ],
             [
              0.3333333333333333,
              "#9c179e"
             ],
             [
              0.4444444444444444,
              "#bd3786"
             ],
             [
              0.5555555555555556,
              "#d8576b"
             ],
             [
              0.6666666666666666,
              "#ed7953"
             ],
             [
              0.7777777777777778,
              "#fb9f3a"
             ],
             [
              0.8888888888888888,
              "#fdca26"
             ],
             [
              1,
              "#f0f921"
             ]
            ],
            "type": "heatmapgl"
           }
          ],
          "histogram": [
           {
            "marker": {
             "pattern": {
              "fillmode": "overlay",
              "size": 10,
              "solidity": 0.2
             }
            },
            "type": "histogram"
           }
          ],
          "histogram2d": [
           {
            "colorbar": {
             "outlinewidth": 0,
             "ticks": ""
            },
            "colorscale": [
             [
              0,
              "#0d0887"
             ],
             [
              0.1111111111111111,
              "#46039f"
             ],
             [
              0.2222222222222222,
              "#7201a8"
             ],
             [
              0.3333333333333333,
              "#9c179e"
             ],
             [
              0.4444444444444444,
              "#bd3786"
             ],
             [
              0.5555555555555556,
              "#d8576b"
             ],
             [
              0.6666666666666666,
              "#ed7953"
             ],
             [
              0.7777777777777778,
              "#fb9f3a"
             ],
             [
              0.8888888888888888,
              "#fdca26"
             ],
             [
              1,
              "#f0f921"
             ]
            ],
            "type": "histogram2d"
           }
          ],
          "histogram2dcontour": [
           {
            "colorbar": {
             "outlinewidth": 0,
             "ticks": ""
            },
            "colorscale": [
             [
              0,
              "#0d0887"
             ],
             [
              0.1111111111111111,
              "#46039f"
             ],
             [
              0.2222222222222222,
              "#7201a8"
             ],
             [
              0.3333333333333333,
              "#9c179e"
             ],
             [
              0.4444444444444444,
              "#bd3786"
             ],
             [
              0.5555555555555556,
              "#d8576b"
             ],
             [
              0.6666666666666666,
              "#ed7953"
             ],
             [
              0.7777777777777778,
              "#fb9f3a"
             ],
             [
              0.8888888888888888,
              "#fdca26"
             ],
             [
              1,
              "#f0f921"
             ]
            ],
            "type": "histogram2dcontour"
           }
          ],
          "mesh3d": [
           {
            "colorbar": {
             "outlinewidth": 0,
             "ticks": ""
            },
            "type": "mesh3d"
           }
          ],
          "parcoords": [
           {
            "line": {
             "colorbar": {
              "outlinewidth": 0,
              "ticks": ""
             }
            },
            "type": "parcoords"
           }
          ],
          "pie": [
           {
            "automargin": true,
            "type": "pie"
           }
          ],
          "scatter": [
           {
            "marker": {
             "line": {
              "color": "#283442"
             }
            },
            "type": "scatter"
           }
          ],
          "scatter3d": [
           {
            "line": {
             "colorbar": {
              "outlinewidth": 0,
              "ticks": ""
             }
            },
            "marker": {
             "colorbar": {
              "outlinewidth": 0,
              "ticks": ""
             }
            },
            "type": "scatter3d"
           }
          ],
          "scattercarpet": [
           {
            "marker": {
             "colorbar": {
              "outlinewidth": 0,
              "ticks": ""
             }
            },
            "type": "scattercarpet"
           }
          ],
          "scattergeo": [
           {
            "marker": {
             "colorbar": {
              "outlinewidth": 0,
              "ticks": ""
             }
            },
            "type": "scattergeo"
           }
          ],
          "scattergl": [
           {
            "marker": {
             "line": {
              "color": "#283442"
             }
            },
            "type": "scattergl"
           }
          ],
          "scattermapbox": [
           {
            "marker": {
             "colorbar": {
              "outlinewidth": 0,
              "ticks": ""
             }
            },
            "type": "scattermapbox"
           }
          ],
          "scatterpolar": [
           {
            "marker": {
             "colorbar": {
              "outlinewidth": 0,
              "ticks": ""
             }
            },
            "type": "scatterpolar"
           }
          ],
          "scatterpolargl": [
           {
            "marker": {
             "colorbar": {
              "outlinewidth": 0,
              "ticks": ""
             }
            },
            "type": "scatterpolargl"
           }
          ],
          "scatterternary": [
           {
            "marker": {
             "colorbar": {
              "outlinewidth": 0,
              "ticks": ""
             }
            },
            "type": "scatterternary"
           }
          ],
          "surface": [
           {
            "colorbar": {
             "outlinewidth": 0,
             "ticks": ""
            },
            "colorscale": [
             [
              0,
              "#0d0887"
             ],
             [
              0.1111111111111111,
              "#46039f"
             ],
             [
              0.2222222222222222,
              "#7201a8"
             ],
             [
              0.3333333333333333,
              "#9c179e"
             ],
             [
              0.4444444444444444,
              "#bd3786"
             ],
             [
              0.5555555555555556,
              "#d8576b"
             ],
             [
              0.6666666666666666,
              "#ed7953"
             ],
             [
              0.7777777777777778,
              "#fb9f3a"
             ],
             [
              0.8888888888888888,
              "#fdca26"
             ],
             [
              1,
              "#f0f921"
             ]
            ],
            "type": "surface"
           }
          ],
          "table": [
           {
            "cells": {
             "fill": {
              "color": "#506784"
             },
             "line": {
              "color": "rgb(17,17,17)"
             }
            },
            "header": {
             "fill": {
              "color": "#2a3f5f"
             },
             "line": {
              "color": "rgb(17,17,17)"
             }
            },
            "type": "table"
           }
          ]
         },
         "layout": {
          "annotationdefaults": {
           "arrowcolor": "#f2f5fa",
           "arrowhead": 0,
           "arrowwidth": 1
          },
          "autotypenumbers": "strict",
          "coloraxis": {
           "colorbar": {
            "outlinewidth": 0,
            "ticks": ""
           }
          },
          "colorscale": {
           "diverging": [
            [
             0,
             "#8e0152"
            ],
            [
             0.1,
             "#c51b7d"
            ],
            [
             0.2,
             "#de77ae"
            ],
            [
             0.3,
             "#f1b6da"
            ],
            [
             0.4,
             "#fde0ef"
            ],
            [
             0.5,
             "#f7f7f7"
            ],
            [
             0.6,
             "#e6f5d0"
            ],
            [
             0.7,
             "#b8e186"
            ],
            [
             0.8,
             "#7fbc41"
            ],
            [
             0.9,
             "#4d9221"
            ],
            [
             1,
             "#276419"
            ]
           ],
           "sequential": [
            [
             0,
             "#0d0887"
            ],
            [
             0.1111111111111111,
             "#46039f"
            ],
            [
             0.2222222222222222,
             "#7201a8"
            ],
            [
             0.3333333333333333,
             "#9c179e"
            ],
            [
             0.4444444444444444,
             "#bd3786"
            ],
            [
             0.5555555555555556,
             "#d8576b"
            ],
            [
             0.6666666666666666,
             "#ed7953"
            ],
            [
             0.7777777777777778,
             "#fb9f3a"
            ],
            [
             0.8888888888888888,
             "#fdca26"
            ],
            [
             1,
             "#f0f921"
            ]
           ],
           "sequentialminus": [
            [
             0,
             "#0d0887"
            ],
            [
             0.1111111111111111,
             "#46039f"
            ],
            [
             0.2222222222222222,
             "#7201a8"
            ],
            [
             0.3333333333333333,
             "#9c179e"
            ],
            [
             0.4444444444444444,
             "#bd3786"
            ],
            [
             0.5555555555555556,
             "#d8576b"
            ],
            [
             0.6666666666666666,
             "#ed7953"
            ],
            [
             0.7777777777777778,
             "#fb9f3a"
            ],
            [
             0.8888888888888888,
             "#fdca26"
            ],
            [
             1,
             "#f0f921"
            ]
           ]
          },
          "colorway": [
           "#636efa",
           "#EF553B",
           "#00cc96",
           "#ab63fa",
           "#FFA15A",
           "#19d3f3",
           "#FF6692",
           "#B6E880",
           "#FF97FF",
           "#FECB52"
          ],
          "font": {
           "color": "#f2f5fa"
          },
          "geo": {
           "bgcolor": "rgb(17,17,17)",
           "lakecolor": "rgb(17,17,17)",
           "landcolor": "rgb(17,17,17)",
           "showlakes": true,
           "showland": true,
           "subunitcolor": "#506784"
          },
          "hoverlabel": {
           "align": "left"
          },
          "hovermode": "closest",
          "mapbox": {
           "style": "dark"
          },
          "paper_bgcolor": "rgb(17,17,17)",
          "plot_bgcolor": "rgb(17,17,17)",
          "polar": {
           "angularaxis": {
            "gridcolor": "#506784",
            "linecolor": "#506784",
            "ticks": ""
           },
           "bgcolor": "rgb(17,17,17)",
           "radialaxis": {
            "gridcolor": "#506784",
            "linecolor": "#506784",
            "ticks": ""
           }
          },
          "scene": {
           "xaxis": {
            "backgroundcolor": "rgb(17,17,17)",
            "gridcolor": "#506784",
            "gridwidth": 2,
            "linecolor": "#506784",
            "showbackground": true,
            "ticks": "",
            "zerolinecolor": "#C8D4E3"
           },
           "yaxis": {
            "backgroundcolor": "rgb(17,17,17)",
            "gridcolor": "#506784",
            "gridwidth": 2,
            "linecolor": "#506784",
            "showbackground": true,
            "ticks": "",
            "zerolinecolor": "#C8D4E3"
           },
           "zaxis": {
            "backgroundcolor": "rgb(17,17,17)",
            "gridcolor": "#506784",
            "gridwidth": 2,
            "linecolor": "#506784",
            "showbackground": true,
            "ticks": "",
            "zerolinecolor": "#C8D4E3"
           }
          },
          "shapedefaults": {
           "line": {
            "color": "#f2f5fa"
           }
          },
          "sliderdefaults": {
           "bgcolor": "#C8D4E3",
           "bordercolor": "rgb(17,17,17)",
           "borderwidth": 1,
           "tickwidth": 0
          },
          "ternary": {
           "aaxis": {
            "gridcolor": "#506784",
            "linecolor": "#506784",
            "ticks": ""
           },
           "baxis": {
            "gridcolor": "#506784",
            "linecolor": "#506784",
            "ticks": ""
           },
           "bgcolor": "rgb(17,17,17)",
           "caxis": {
            "gridcolor": "#506784",
            "linecolor": "#506784",
            "ticks": ""
           }
          },
          "title": {
           "x": 0.05
          },
          "updatemenudefaults": {
           "bgcolor": "#506784",
           "borderwidth": 0
          },
          "xaxis": {
           "automargin": true,
           "gridcolor": "#283442",
           "linecolor": "#506784",
           "ticks": "",
           "title": {
            "standoff": 15
           },
           "zerolinecolor": "#283442",
           "zerolinewidth": 2
          },
          "yaxis": {
           "automargin": true,
           "gridcolor": "#283442",
           "linecolor": "#506784",
           "ticks": "",
           "title": {
            "standoff": 15
           },
           "zerolinecolor": "#283442",
           "zerolinewidth": 2
          }
         }
        },
        "title": {
         "text": "Observe Backward Elimination in All Models With Repect to Scopes<br><span style=\"font-size: 12.5px; color: lightgrey;\"> -- How meansures are changed by removing the impact of each coefficient</span>"
        },
        "width": 800,
        "xaxis": {
         "anchor": "y",
         "domain": [
          0,
          0.45
         ]
        },
        "xaxis2": {
         "anchor": "y2",
         "domain": [
          0.55,
          1
         ]
        },
        "yaxis": {
         "anchor": "x",
         "domain": [
          0,
          1
         ],
         "title": {
          "text": "Difference"
         }
        },
        "yaxis2": {
         "anchor": "x2",
         "domain": [
          0,
          1
         ]
        }
       }
      }
     },
     "metadata": {},
     "output_type": "display_data"
    },
    {
     "data": {
      "application/vnd.plotly.v1+json": {
       "config": {
        "plotlyServerURL": "https://plot.ly"
       },
       "data": [
        {
         "alignmentgroup": "True",
         "boxpoints": "all",
         "fillcolor": "rgba(255,255,255,0)",
         "hoveron": "points",
         "hovertemplate": "ma=1<br>theta=%{x}<br>diff=%{y}<extra></extra>",
         "legendgroup": "1",
         "line": {
          "color": "rgba(255,255,255,0)"
         },
         "marker": {
          "color": "#636efa",
          "opacity": 0.5,
          "size": 5
         },
         "name": "1",
         "offsetgroup": "1",
         "orientation": "v",
         "pointpos": 0,
         "showlegend": true,
         "type": "box",
         "x": [
          "CSENT",
          "IPM",
          "HOUSE",
          "UNEMP",
          "LRIR",
          "CSENT",
          "IPM",
          "HOUSE",
          "UNEMP",
          "LRIR",
          "CSENT",
          "IPM",
          "HOUSE",
          "UNEMP",
          "LRIR",
          "CSENT",
          "IPM",
          "HOUSE",
          "UNEMP",
          "LRIR",
          "CSENT",
          "IPM",
          "HOUSE",
          "UNEMP",
          "LRIR",
          "CSENT",
          "IPM",
          "HOUSE",
          "UNEMP",
          "LRIR",
          "CSENT",
          "IPM",
          "HOUSE",
          "UNEMP",
          "LRIR",
          "CSENT",
          "IPM",
          "HOUSE",
          "UNEMP",
          "LRIR",
          "CSENT",
          "IPM",
          "HOUSE",
          "UNEMP",
          "LRIR",
          "CSENT",
          "IPM",
          "HOUSE",
          "UNEMP",
          "LRIR",
          "CSENT",
          "IPM",
          "HOUSE",
          "UNEMP",
          "LRIR",
          "CSENT",
          "IPM",
          "HOUSE",
          "UNEMP",
          "LRIR",
          "CSENT",
          "IPM",
          "HOUSE",
          "UNEMP",
          "LRIR",
          "CSENT",
          "IPM",
          "HOUSE",
          "UNEMP",
          "LRIR",
          "CSENT",
          "IPM",
          "HOUSE",
          "UNEMP",
          "LRIR",
          "CSENT",
          "IPM",
          "HOUSE",
          "UNEMP",
          "LRIR",
          "CSENT",
          "IPM",
          "HOUSE",
          "UNEMP",
          "LRIR",
          "CSENT",
          "IPM",
          "HOUSE",
          "UNEMP",
          "LRIR"
         ],
         "x0": " ",
         "xaxis": "x",
         "y": [
          -2.6384483971335486,
          -2.007699340825803,
          -2.122991961493258,
          -0.08650391373962485,
          -0.5214165107356017,
          -2.929256066354447,
          -2.0586167352170293,
          -2.413562991121224,
          -0.08207742977222487,
          -0.8782472881171666,
          -3.0521151102387982,
          -2.1200413101743365,
          -2.437194399957794,
          -0.2069515915691431,
          -0.6703486118187172,
          -2.9027655594726554,
          -1.876161040257089,
          -2.2201629198566994,
          -0.2726524357903761,
          -0.6705131953174366,
          -3.1951049172968,
          -1.9434498658036814,
          -1.8776606132921838,
          -0.2465085907567346,
          -0.8709509817509575,
          -3.406538631557865,
          -1.9790825431742824,
          -1.6634626264307792,
          -0.4084748485925669,
          -0.9565453797775385,
          -2.0407319535521102,
          -1.5316503122188072,
          -1.7817095391396967,
          -0.26467619690146904,
          -0.7073377625856221,
          -2.263075620792203,
          -1.5287205690298107,
          -2.093228785378666,
          -0.24825869994646688,
          -1.031959604243811,
          -2.311962938807505,
          -1.6840189456362218,
          -2.1393035542021366,
          -0.39983770542351316,
          -0.7400490445917978,
          -2.2012108796745045,
          -1.6462936459971749,
          -2.149681688406641,
          -0.6102688966131513,
          -0.7236259479801532,
          -2.089545119438526,
          -1.5163596099963463,
          -1.7149138365133956,
          -0.4250801374727242,
          -0.6146912267211064,
          -2.266200063686581,
          -1.4778288289903463,
          -1.2357524582548827,
          -0.39038955883422943,
          -0.5951460728798068,
          -1.309857133434022,
          -0.9283277960906062,
          -1.231285835869322,
          -0.10937163374657999,
          -0.7769954349678301,
          -1.6105682864670747,
          -1.154187718830416,
          -1.7134292980303396,
          -0.2837512501993835,
          -1.0201869586864998,
          -1.5804623186648854,
          -1.33864117642527,
          -1.7954471183020289,
          -0.45897632328096094,
          -0.79092107461382,
          -1.5009495528295584,
          -1.335416164860126,
          -1.7654333135365725,
          -0.6274629140780306,
          -0.6277155783436825,
          -1.3903850881350532,
          -1.326509049296135,
          -1.4509454390576675,
          -0.5740120208105122,
          -0.38077711049946217,
          -1.5139292327771177,
          -1.2856850420587396,
          -0.9242261132478777,
          -0.4891303019042592,
          -0.163963454574084
         ],
         "y0": " ",
         "yaxis": "y"
        },
        {
         "alignmentgroup": "True",
         "boxpoints": "all",
         "fillcolor": "rgba(255,255,255,0)",
         "hoveron": "points",
         "hovertemplate": "ma=1<br>theta=%{x}<br>diff=%{y}<extra></extra>",
         "legendgroup": "1",
         "line": {
          "color": "rgba(255,255,255,0)"
         },
         "marker": {
          "color": "#636efa",
          "opacity": 0.5,
          "size": 5
         },
         "name": "1",
         "offsetgroup": "1",
         "orientation": "v",
         "pointpos": 0,
         "showlegend": false,
         "type": "box",
         "x": [
          "CSENT",
          "IPM",
          "HOUSE",
          "UNEMP",
          "LRIR",
          "CSENT",
          "IPM",
          "HOUSE",
          "UNEMP",
          "LRIR",
          "CSENT",
          "IPM",
          "HOUSE",
          "UNEMP",
          "LRIR",
          "CSENT",
          "IPM",
          "HOUSE",
          "UNEMP",
          "LRIR",
          "CSENT",
          "IPM",
          "HOUSE",
          "UNEMP",
          "LRIR",
          "CSENT",
          "IPM",
          "HOUSE",
          "UNEMP",
          "LRIR",
          "CSENT",
          "IPM",
          "HOUSE",
          "UNEMP",
          "LRIR",
          "CSENT",
          "IPM",
          "HOUSE",
          "UNEMP",
          "LRIR",
          "CSENT",
          "IPM",
          "HOUSE",
          "UNEMP",
          "LRIR",
          "CSENT",
          "IPM",
          "HOUSE",
          "UNEMP",
          "LRIR",
          "CSENT",
          "IPM",
          "HOUSE",
          "UNEMP",
          "LRIR",
          "CSENT",
          "IPM",
          "HOUSE",
          "UNEMP",
          "LRIR",
          "CSENT",
          "IPM",
          "HOUSE",
          "UNEMP",
          "LRIR",
          "CSENT",
          "IPM",
          "HOUSE",
          "UNEMP",
          "LRIR",
          "CSENT",
          "IPM",
          "HOUSE",
          "UNEMP",
          "LRIR",
          "CSENT",
          "IPM",
          "HOUSE",
          "UNEMP",
          "LRIR",
          "CSENT",
          "IPM",
          "HOUSE",
          "UNEMP",
          "LRIR",
          "CSENT",
          "IPM",
          "HOUSE",
          "UNEMP",
          "LRIR"
         ],
         "x0": " ",
         "xaxis": "x2",
         "y": [
          0.13371920599461684,
          0.10689051565414132,
          0.11203558062759167,
          0.005279823197064548,
          0.030904864954899858,
          0.1465611075309684,
          0.11025528342379387,
          0.12579757658956414,
          0.005052609734660374,
          0.05123355076752445,
          0.15202958184618653,
          0.1135834423153742,
          0.12745309957579887,
          0.012686835825627796,
          0.039839921544580825,
          0.14145146005392306,
          0.09919252029027614,
          0.11429990154053371,
          0.016178240370333552,
          0.038710082377830024,
          0.15064856314498543,
          0.10143522815484163,
          0.09849923195179744,
          0.014551713814543787,
          0.04922184173552546,
          0.15695280325948557,
          0.10254580456254114,
          0.08830350960085087,
          0.023745203448370722,
          0.053496888532183595,
          0.1338655435794316,
          0.1036352206488339,
          0.1187470674782426,
          0.01926929334669658,
          0.050226037866207274,
          0.15017210286143445,
          0.10598654727940549,
          0.14034068093426189,
          0.018498648237729953,
          0.07362117391121048,
          0.15521887935731105,
          0.11733176236472587,
          0.14511896135140845,
          0.029932138790404128,
          0.05438364371009152,
          0.14692268207907466,
          0.11356816032197525,
          0.14393001297179386,
          0.044648602565049544,
          0.052611252254401664,
          0.13604893271454754,
          0.10223148370403867,
          0.11424574644947127,
          0.030527711826654924,
          0.043675240601833476,
          0.1433910797937733,
          0.09819346204122736,
          0.08331192577672308,
          0.027646525923060827,
          0.0416568422104967,
          0.10226333992464265,
          0.07391365320712728,
          0.09652165417126857,
          0.009071629898255384,
          0.06234164480316118,
          0.13104746919329546,
          0.09604535219242927,
          0.1387035362786062,
          0.02461208315595742,
          0.08544791412287744,
          0.13272707328657873,
          0.11372649262001688,
          0.1492223707961683,
          0.040623905715053366,
          0.06894381220704637,
          0.1256573031118492,
          0.11269055433081177,
          0.1459164890033614,
          0.054740552512162255,
          0.05476195561951369,
          0.11337764192524469,
          0.1085103613961379,
          0.1179619046620336,
          0.048695540050893604,
          0.032599206217171384,
          0.11882852608872208,
          0.10209378217294995,
          0.07473455912054272,
          0.04040783956452243,
          0.013759704449809118
         ],
         "y0": " ",
         "yaxis": "y2"
        },
        {
         "alignmentgroup": "True",
         "boxpoints": "all",
         "fillcolor": "rgba(255,255,255,0)",
         "hoveron": "points",
         "hovertemplate": "ma=2<br>theta=%{x}<br>diff=%{y}<extra></extra>",
         "legendgroup": "2",
         "line": {
          "color": "rgba(255,255,255,0)"
         },
         "marker": {
          "color": "#EF553B",
          "opacity": 0.5,
          "size": 5
         },
         "name": "2",
         "offsetgroup": "2",
         "orientation": "v",
         "pointpos": 0,
         "showlegend": true,
         "type": "box",
         "x": [
          "CSENT",
          "IPM",
          "HOUSE",
          "UNEMP",
          "LRIR",
          "CSENT",
          "IPM",
          "HOUSE",
          "UNEMP",
          "LRIR",
          "CSENT",
          "IPM",
          "HOUSE",
          "UNEMP",
          "LRIR",
          "CSENT",
          "IPM",
          "HOUSE",
          "UNEMP",
          "LRIR",
          "CSENT",
          "IPM",
          "HOUSE",
          "UNEMP",
          "LRIR",
          "CSENT",
          "IPM",
          "HOUSE",
          "UNEMP",
          "LRIR",
          "CSENT",
          "IPM",
          "HOUSE",
          "UNEMP",
          "LRIR",
          "CSENT",
          "IPM",
          "HOUSE",
          "UNEMP",
          "LRIR",
          "CSENT",
          "IPM",
          "HOUSE",
          "UNEMP",
          "LRIR",
          "CSENT",
          "IPM",
          "HOUSE",
          "UNEMP",
          "LRIR",
          "CSENT",
          "IPM",
          "HOUSE",
          "UNEMP",
          "LRIR",
          "CSENT",
          "IPM",
          "HOUSE",
          "UNEMP",
          "LRIR",
          "CSENT",
          "IPM",
          "HOUSE",
          "UNEMP",
          "LRIR",
          "CSENT",
          "IPM",
          "HOUSE",
          "UNEMP",
          "LRIR",
          "CSENT",
          "IPM",
          "HOUSE",
          "UNEMP",
          "LRIR",
          "CSENT",
          "IPM",
          "HOUSE",
          "UNEMP",
          "LRIR",
          "CSENT",
          "IPM",
          "HOUSE",
          "UNEMP",
          "LRIR",
          "CSENT",
          "IPM",
          "HOUSE",
          "UNEMP",
          "LRIR"
         ],
         "x0": " ",
         "xaxis": "x",
         "y": [
          -1.363740396791874,
          -0.5525671384050321,
          -0.7338373763824864,
          1.5280447882842951,
          1.0789684302219582,
          -1.6868381039124092,
          -0.9407072716046763,
          -0.8301410796303719,
          1.1062477656521148,
          0.8206901000830253,
          -1.8871486723136188,
          -1.066466616100394,
          -1.3158165208494728,
          0.8584634580690249,
          0.277762581311789,
          -2.148066653403336,
          -1.1685573739405415,
          -1.5170907251592105,
          0.7496171616172251,
          0.17186212130908185,
          -2.1199678123536767,
          -1.0926157298108325,
          -1.4551506594678045,
          0.6209591060670565,
          0.25860780830703334,
          -2.204156019242612,
          -1.0112201046414606,
          -1.1817172312271031,
          0.5766924757282004,
          0.1469807074366125,
          -1.1209225105288292,
          -0.741297653948001,
          -1.0733283155127458,
          0.7853084314199981,
          0.44966889016150446,
          -1.6516255341395363,
          -1.1149994964002348,
          -1.2598459915808746,
          0.3642370837236122,
          0.048123079241996436,
          -2.015514337486719,
          -1.3131638097572065,
          -1.7467095077439687,
          0.03450916544252003,
          -0.6168546432685886,
          -2.1619548465293716,
          -1.4006254059995653,
          -1.9590827433711198,
          -0.04512567105357412,
          -0.6375580827052421,
          -2.1257767804989323,
          -1.47530959415176,
          -2.0154605090236366,
          -0.2728846206667743,
          -0.5046289860565807,
          -2.022952999486545,
          -1.3913616444237986,
          -1.785394788830164,
          -0.3046304220902023,
          -0.4348975397127113,
          -0.4171431393564262,
          -0.26050667137151073,
          -0.7677821651168228,
          0.5278856235097837,
          0.3215151639420082,
          -0.9516921755858618,
          -0.6206194789165682,
          -0.9125986795830077,
          0.2642148170116059,
          -0.22701935596393952,
          -1.4110807734014923,
          -0.9407007109403889,
          -1.3891330299878,
          -0.05457590694073211,
          -0.8020130571507593,
          -1.5578668117968615,
          -1.1648451317131023,
          -1.7052218026994304,
          -0.2555389922335518,
          -0.8125930065690046,
          -1.4749884132557423,
          -1.2534662640282743,
          -1.7297716167659694,
          -0.44288776460825474,
          -0.61082564059015,
          -1.3638729373393232,
          -1.2462880994905117,
          -1.5411820755635564,
          -0.5035134772900278,
          -0.3913032230790421
         ],
         "y0": " ",
         "yaxis": "y"
        },
        {
         "alignmentgroup": "True",
         "boxpoints": "all",
         "fillcolor": "rgba(255,255,255,0)",
         "hoveron": "points",
         "hovertemplate": "ma=2<br>theta=%{x}<br>diff=%{y}<extra></extra>",
         "legendgroup": "2",
         "line": {
          "color": "rgba(255,255,255,0)"
         },
         "marker": {
          "color": "#EF553B",
          "opacity": 0.5,
          "size": 5
         },
         "name": "2",
         "offsetgroup": "2",
         "orientation": "v",
         "pointpos": 0,
         "showlegend": false,
         "type": "box",
         "x": [
          "CSENT",
          "IPM",
          "HOUSE",
          "UNEMP",
          "LRIR",
          "CSENT",
          "IPM",
          "HOUSE",
          "UNEMP",
          "LRIR",
          "CSENT",
          "IPM",
          "HOUSE",
          "UNEMP",
          "LRIR",
          "CSENT",
          "IPM",
          "HOUSE",
          "UNEMP",
          "LRIR",
          "CSENT",
          "IPM",
          "HOUSE",
          "UNEMP",
          "LRIR",
          "CSENT",
          "IPM",
          "HOUSE",
          "UNEMP",
          "LRIR",
          "CSENT",
          "IPM",
          "HOUSE",
          "UNEMP",
          "LRIR",
          "CSENT",
          "IPM",
          "HOUSE",
          "UNEMP",
          "LRIR",
          "CSENT",
          "IPM",
          "HOUSE",
          "UNEMP",
          "LRIR",
          "CSENT",
          "IPM",
          "HOUSE",
          "UNEMP",
          "LRIR",
          "CSENT",
          "IPM",
          "HOUSE",
          "UNEMP",
          "LRIR",
          "CSENT",
          "IPM",
          "HOUSE",
          "UNEMP",
          "LRIR",
          "CSENT",
          "IPM",
          "HOUSE",
          "UNEMP",
          "LRIR",
          "CSENT",
          "IPM",
          "HOUSE",
          "UNEMP",
          "LRIR",
          "CSENT",
          "IPM",
          "HOUSE",
          "UNEMP",
          "LRIR",
          "CSENT",
          "IPM",
          "HOUSE",
          "UNEMP",
          "LRIR",
          "CSENT",
          "IPM",
          "HOUSE",
          "UNEMP",
          "LRIR",
          "CSENT",
          "IPM",
          "HOUSE",
          "UNEMP",
          "LRIR"
         ],
         "x0": " ",
         "xaxis": "x2",
         "y": [
          0.05813370100383375,
          0.025444992771968433,
          0.033231317915638936,
          -0.08377082163408411,
          -0.05710824614959931,
          0.07555579635408805,
          0.04508832474150426,
          0.04017498928754881,
          -0.06254889228211957,
          -0.04541714245773443,
          0.08723058268437389,
          0.05297066449678256,
          0.0639781015080807,
          -0.04957763477141042,
          -0.015363988162679032,
          0.09883763466633877,
          0.05856831653189254,
          0.07381939867579845,
          -0.04360113756281114,
          -0.009579865844017377,
          0.09665897296836867,
          0.05451813016961693,
          0.07039825216296303,
          -0.035440000666872584,
          -0.014367098413393786,
          0.097447584893263,
          0.04975436256287136,
          0.05730018674266402,
          -0.03220621829031989,
          -0.007944077758940349,
          0.06414438750518303,
          0.04360716449307711,
          0.06163623902445459,
          -0.05125146535328984,
          -0.028710244121585626,
          0.09914148864465944,
          0.06944676571202502,
          0.07770071743965856,
          -0.024952811434536315,
          -0.003232774337004196,
          0.12608231995558405,
          0.08601865244509332,
          0.11123840044630362,
          -0.002455790262299473,
          0.04221044594338963,
          0.13769696292183342,
          0.09367912188644067,
          0.12644262444613819,
          0.0032746982894442667,
          0.04468255469223581,
          0.13634027959860662,
          0.09864025228606765,
          0.13019606700693664,
          0.01961937532791047,
          0.03579117940532961,
          0.12758933917546134,
          0.09143129183413701,
          0.11438100579782418,
          0.02140352345851293,
          0.030319126159918164,
          0.029225451449980566,
          0.01842341530132674,
          0.05265633525252911,
          -0.039087803280778544,
          -0.023527111975187642,
          0.07019371683381925,
          0.04663925598760954,
          0.0674603944766704,
          -0.02083912227044704,
          0.017436298674653128,
          0.10989584754659576,
          0.07512024363958647,
          0.10831455627066178,
          0.0045612487646536914,
          0.06451227735323961,
          0.12679579219431447,
          0.09672744197884775,
          0.13773533387890435,
          0.022194147093289485,
          0.06867722794414544,
          0.12204783168900313,
          0.10488082298520507,
          0.1412842194075692,
          0.0385609861936842,
          0.05275327475002467,
          0.11104096665400609,
          0.10208085943647172,
          0.12433335762195896,
          0.04280661328806601,
          0.03345068639208981
         ],
         "y0": " ",
         "yaxis": "y2"
        },
        {
         "alignmentgroup": "True",
         "boxpoints": "all",
         "fillcolor": "rgba(255,255,255,0)",
         "hoveron": "points",
         "hovertemplate": "ma=3<br>theta=%{x}<br>diff=%{y}<extra></extra>",
         "legendgroup": "3",
         "line": {
          "color": "rgba(255,255,255,0)"
         },
         "marker": {
          "color": "#00cc96",
          "opacity": 0.5,
          "size": 5
         },
         "name": "3",
         "offsetgroup": "3",
         "orientation": "v",
         "pointpos": 0,
         "showlegend": true,
         "type": "box",
         "x": [
          "CSENT",
          "IPM",
          "HOUSE",
          "UNEMP",
          "LRIR",
          "CSENT",
          "IPM",
          "HOUSE",
          "UNEMP",
          "LRIR",
          "CSENT",
          "IPM",
          "HOUSE",
          "UNEMP",
          "LRIR",
          "CSENT",
          "IPM",
          "HOUSE",
          "UNEMP",
          "LRIR",
          "CSENT",
          "IPM",
          "HOUSE",
          "UNEMP",
          "LRIR",
          "CSENT",
          "IPM",
          "HOUSE",
          "UNEMP",
          "LRIR",
          "CSENT",
          "IPM",
          "HOUSE",
          "UNEMP",
          "LRIR",
          "CSENT",
          "IPM",
          "HOUSE",
          "UNEMP",
          "LRIR",
          "CSENT",
          "IPM",
          "HOUSE",
          "UNEMP",
          "LRIR",
          "CSENT",
          "IPM",
          "HOUSE",
          "UNEMP",
          "LRIR",
          "CSENT",
          "IPM",
          "HOUSE",
          "UNEMP",
          "LRIR",
          "CSENT",
          "IPM",
          "HOUSE",
          "UNEMP",
          "LRIR",
          "CSENT",
          "IPM",
          "HOUSE",
          "UNEMP",
          "LRIR",
          "CSENT",
          "IPM",
          "HOUSE",
          "UNEMP",
          "LRIR",
          "CSENT",
          "IPM",
          "HOUSE",
          "UNEMP",
          "LRIR",
          "CSENT",
          "IPM",
          "HOUSE",
          "UNEMP",
          "LRIR",
          "CSENT",
          "IPM",
          "HOUSE",
          "UNEMP",
          "LRIR",
          "CSENT",
          "IPM",
          "HOUSE",
          "UNEMP",
          "LRIR"
         ],
         "x0": " ",
         "xaxis": "x",
         "y": [
          -1.004326319960728,
          0.007482125344300705,
          -0.5635191409456324,
          1.9913654851480853,
          1.4632174303380312,
          -1.172794063812348,
          -0.24369850472043897,
          -0.40686654100197917,
          1.7397957541922606,
          1.3698457034726177,
          -1.3439418401066483,
          -0.4604946936743399,
          -0.5426917534381284,
          1.4831140394260354,
          1.0975735659459076,
          -1.5683401222730593,
          -0.6362709080820768,
          -0.9137520049053602,
          1.229454005905393,
          0.7665043876015352,
          -1.692795764834159,
          -0.6405602699310755,
          -0.9972125003366754,
          1.102018786745532,
          0.6802329692182383,
          -1.7252543964404108,
          -0.5788540219678229,
          -0.8058588429262077,
          1.0270977552030613,
          0.6954405573437166,
          -0.9891430347791541,
          -0.35456295581504715,
          -0.9909635494969047,
          1.129939321467055,
          0.659481209500461,
          -1.279938792386817,
          -0.6966684468617315,
          -1.0242280231730536,
          0.825398889932325,
          0.4176315339274108,
          -1.7031439023005008,
          -0.9665945743557618,
          -1.2880247982625974,
          0.5104663516405665,
          -0.007347167716291736,
          -1.9375825044062225,
          -1.1658622070192033,
          -1.649207698982834,
          0.2278598755921344,
          -0.34678501686250485,
          -1.9761398805779082,
          -1.2172197677132157,
          -1.798111347052724,
          0.07374537425202732,
          -0.3587066755710673,
          -1.9192157339396774,
          -1.217577620376102,
          -1.6659290195339693,
          -0.033633361648426785,
          -0.22518249097929477,
          -0.3817004396465711,
          -0.004411023607088005,
          -0.7820231986570638,
          0.7128812369091602,
          0.4578048833220656,
          -0.6501680547928865,
          -0.31564010780013874,
          -0.797308590441574,
          0.5259769001872847,
          0.08120804042919971,
          -1.1537941146179067,
          -0.6775675667475234,
          -1.07205211254211,
          0.2549726261276568,
          -0.396835403369483,
          -1.4359907750538845,
          -0.9783767640274554,
          -1.4574978978566335,
          -0.054528223317827695,
          -0.696366596566893,
          -1.4674059432054563,
          -1.1146781492652824,
          -1.6414708652480652,
          -0.24515680141381502,
          -0.6345642814820689,
          -1.3333941625216799,
          -1.1525553137377855,
          -1.5182100915050363,
          -0.3533206239020661,
          -0.3872035958476374
         ],
         "y0": " ",
         "yaxis": "y"
        },
        {
         "alignmentgroup": "True",
         "boxpoints": "all",
         "fillcolor": "rgba(255,255,255,0)",
         "hoveron": "points",
         "hovertemplate": "ma=3<br>theta=%{x}<br>diff=%{y}<extra></extra>",
         "legendgroup": "3",
         "line": {
          "color": "rgba(255,255,255,0)"
         },
         "marker": {
          "color": "#00cc96",
          "opacity": 0.5,
          "size": 5
         },
         "name": "3",
         "offsetgroup": "3",
         "orientation": "v",
         "pointpos": 0,
         "showlegend": false,
         "type": "box",
         "x": [
          "CSENT",
          "IPM",
          "HOUSE",
          "UNEMP",
          "LRIR",
          "CSENT",
          "IPM",
          "HOUSE",
          "UNEMP",
          "LRIR",
          "CSENT",
          "IPM",
          "HOUSE",
          "UNEMP",
          "LRIR",
          "CSENT",
          "IPM",
          "HOUSE",
          "UNEMP",
          "LRIR",
          "CSENT",
          "IPM",
          "HOUSE",
          "UNEMP",
          "LRIR",
          "CSENT",
          "IPM",
          "HOUSE",
          "UNEMP",
          "LRIR",
          "CSENT",
          "IPM",
          "HOUSE",
          "UNEMP",
          "LRIR",
          "CSENT",
          "IPM",
          "HOUSE",
          "UNEMP",
          "LRIR",
          "CSENT",
          "IPM",
          "HOUSE",
          "UNEMP",
          "LRIR",
          "CSENT",
          "IPM",
          "HOUSE",
          "UNEMP",
          "LRIR",
          "CSENT",
          "IPM",
          "HOUSE",
          "UNEMP",
          "LRIR",
          "CSENT",
          "IPM",
          "HOUSE",
          "UNEMP",
          "LRIR",
          "CSENT",
          "IPM",
          "HOUSE",
          "UNEMP",
          "LRIR",
          "CSENT",
          "IPM",
          "HOUSE",
          "UNEMP",
          "LRIR",
          "CSENT",
          "IPM",
          "HOUSE",
          "UNEMP",
          "LRIR",
          "CSENT",
          "IPM",
          "HOUSE",
          "UNEMP",
          "LRIR",
          "CSENT",
          "IPM",
          "HOUSE",
          "UNEMP",
          "LRIR",
          "CSENT",
          "IPM",
          "HOUSE",
          "UNEMP",
          "LRIR"
         ],
         "x0": " ",
         "xaxis": "x2",
         "y": [
          0.04081153470318666,
          -0.0003370192105260905,
          0.02398107603311439,
          -0.10690683819601543,
          -0.07518675306836853,
          0.04888788627907714,
          0.011142672847544555,
          0.018314688897061115,
          -0.0945478839033741,
          -0.07224058502861552,
          0.058057820967440166,
          0.02165861459538765,
          0.025331044253360524,
          -0.08226483169768861,
          -0.05904351757495063,
          0.06971858661485442,
          0.03085444849587493,
          0.043211545993334544,
          -0.06955915805262958,
          -0.041829064503382196,
          0.07471155194480661,
          0.03118959261043308,
          0.04701541196764858,
          -0.0619735249455895,
          -0.03701151421446025,
          0.07456560221724995,
          0.02789280638481495,
          0.03803885120131034,
          -0.056637471761018965,
          -0.037349664342035016,
          0.053865297068458995,
          0.02028837903059988,
          0.053956577344074,
          -0.07196291216117312,
          -0.040649143530535836,
          0.07176834383402109,
          0.04082952543738583,
          0.05856855445450826,
          -0.053834442050045506,
          -0.026498727097956642,
          0.09951359486137346,
          0.059566972142172325,
          0.07757870982298531,
          -0.03472972865887314,
          0.0004833572874224368,
          0.11800275270141647,
          0.0749021093505533,
          0.10250098383883788,
          -0.01601523401649385,
          0.02351041925907371,
          0.12197495920012069,
          0.07913136008585553,
          0.11237242922782664,
          -0.00520640202892142,
          0.024652913502635876,
          0.11775617520585602,
          0.07840699504281301,
          0.10404332832201746,
          0.002338350083419094,
          0.01546889606715851,
          0.02597949675265998,
          0.0003074749394054166,
          0.051862755227564006,
          -0.05191957419459503,
          -0.03283352656092586,
          0.0456370987603123,
          0.022614592468986894,
          0.055455397251515604,
          -0.03960856760632292,
          -0.005958365826601586,
          0.08549316508854465,
          0.05160625563215071,
          0.07981657071388937,
          -0.020451545396607873,
          0.030708010051042733,
          0.11278065352236588,
          0.07878038297436318,
          0.11433395955431491,
          0.0046089862423375205,
          0.056923469749514455,
          0.11875025253009897,
          0.09190808660747174,
          0.13159934832986797,
          0.021136817505522876,
          0.0536406308251931,
          0.10794303433925401,
          0.09420638365046563,
          0.12168903637064388,
          0.030102651393453472,
          0.03293262114998585
         ],
         "y0": " ",
         "yaxis": "y2"
        }
       ],
       "layout": {
        "annotations": [
         {
          "font": {
           "color": "grey",
           "size": 11
          },
          "showarrow": false,
          "text": "RMSE",
          "x": 0.225,
          "xanchor": "center",
          "xref": "paper",
          "y": 0.95,
          "yanchor": "bottom",
          "yref": "paper"
         },
         {
          "font": {
           "color": "grey",
           "size": 11
          },
          "showarrow": false,
          "text": "Adj-R2",
          "x": 0.775,
          "xanchor": "center",
          "xref": "paper",
          "y": 0.95,
          "yanchor": "bottom",
          "yref": "paper"
         }
        ],
        "height": 400,
        "legend": {
         "orientation": "h",
         "title": {
          "text": "Moving Averages:"
         },
         "x": 0.5,
         "xanchor": "center",
         "y": -0.25,
         "yanchor": "top"
        },
        "margin": {
         "b": 60,
         "l": 80,
         "r": 40,
         "t": 80
        },
        "template": {
         "data": {
          "bar": [
           {
            "error_x": {
             "color": "#f2f5fa"
            },
            "error_y": {
             "color": "#f2f5fa"
            },
            "marker": {
             "line": {
              "color": "rgb(17,17,17)",
              "width": 0.5
             },
             "pattern": {
              "fillmode": "overlay",
              "size": 10,
              "solidity": 0.2
             }
            },
            "type": "bar"
           }
          ],
          "barpolar": [
           {
            "marker": {
             "line": {
              "color": "rgb(17,17,17)",
              "width": 0.5
             },
             "pattern": {
              "fillmode": "overlay",
              "size": 10,
              "solidity": 0.2
             }
            },
            "type": "barpolar"
           }
          ],
          "carpet": [
           {
            "aaxis": {
             "endlinecolor": "#A2B1C6",
             "gridcolor": "#506784",
             "linecolor": "#506784",
             "minorgridcolor": "#506784",
             "startlinecolor": "#A2B1C6"
            },
            "baxis": {
             "endlinecolor": "#A2B1C6",
             "gridcolor": "#506784",
             "linecolor": "#506784",
             "minorgridcolor": "#506784",
             "startlinecolor": "#A2B1C6"
            },
            "type": "carpet"
           }
          ],
          "choropleth": [
           {
            "colorbar": {
             "outlinewidth": 0,
             "ticks": ""
            },
            "type": "choropleth"
           }
          ],
          "contour": [
           {
            "colorbar": {
             "outlinewidth": 0,
             "ticks": ""
            },
            "colorscale": [
             [
              0,
              "#0d0887"
             ],
             [
              0.1111111111111111,
              "#46039f"
             ],
             [
              0.2222222222222222,
              "#7201a8"
             ],
             [
              0.3333333333333333,
              "#9c179e"
             ],
             [
              0.4444444444444444,
              "#bd3786"
             ],
             [
              0.5555555555555556,
              "#d8576b"
             ],
             [
              0.6666666666666666,
              "#ed7953"
             ],
             [
              0.7777777777777778,
              "#fb9f3a"
             ],
             [
              0.8888888888888888,
              "#fdca26"
             ],
             [
              1,
              "#f0f921"
             ]
            ],
            "type": "contour"
           }
          ],
          "contourcarpet": [
           {
            "colorbar": {
             "outlinewidth": 0,
             "ticks": ""
            },
            "type": "contourcarpet"
           }
          ],
          "heatmap": [
           {
            "colorbar": {
             "outlinewidth": 0,
             "ticks": ""
            },
            "colorscale": [
             [
              0,
              "#0d0887"
             ],
             [
              0.1111111111111111,
              "#46039f"
             ],
             [
              0.2222222222222222,
              "#7201a8"
             ],
             [
              0.3333333333333333,
              "#9c179e"
             ],
             [
              0.4444444444444444,
              "#bd3786"
             ],
             [
              0.5555555555555556,
              "#d8576b"
             ],
             [
              0.6666666666666666,
              "#ed7953"
             ],
             [
              0.7777777777777778,
              "#fb9f3a"
             ],
             [
              0.8888888888888888,
              "#fdca26"
             ],
             [
              1,
              "#f0f921"
             ]
            ],
            "type": "heatmap"
           }
          ],
          "heatmapgl": [
           {
            "colorbar": {
             "outlinewidth": 0,
             "ticks": ""
            },
            "colorscale": [
             [
              0,
              "#0d0887"
             ],
             [
              0.1111111111111111,
              "#46039f"
             ],
             [
              0.2222222222222222,
              "#7201a8"
             ],
             [
              0.3333333333333333,
              "#9c179e"
             ],
             [
              0.4444444444444444,
              "#bd3786"
             ],
             [
              0.5555555555555556,
              "#d8576b"
             ],
             [
              0.6666666666666666,
              "#ed7953"
             ],
             [
              0.7777777777777778,
              "#fb9f3a"
             ],
             [
              0.8888888888888888,
              "#fdca26"
             ],
             [
              1,
              "#f0f921"
             ]
            ],
            "type": "heatmapgl"
           }
          ],
          "histogram": [
           {
            "marker": {
             "pattern": {
              "fillmode": "overlay",
              "size": 10,
              "solidity": 0.2
             }
            },
            "type": "histogram"
           }
          ],
          "histogram2d": [
           {
            "colorbar": {
             "outlinewidth": 0,
             "ticks": ""
            },
            "colorscale": [
             [
              0,
              "#0d0887"
             ],
             [
              0.1111111111111111,
              "#46039f"
             ],
             [
              0.2222222222222222,
              "#7201a8"
             ],
             [
              0.3333333333333333,
              "#9c179e"
             ],
             [
              0.4444444444444444,
              "#bd3786"
             ],
             [
              0.5555555555555556,
              "#d8576b"
             ],
             [
              0.6666666666666666,
              "#ed7953"
             ],
             [
              0.7777777777777778,
              "#fb9f3a"
             ],
             [
              0.8888888888888888,
              "#fdca26"
             ],
             [
              1,
              "#f0f921"
             ]
            ],
            "type": "histogram2d"
           }
          ],
          "histogram2dcontour": [
           {
            "colorbar": {
             "outlinewidth": 0,
             "ticks": ""
            },
            "colorscale": [
             [
              0,
              "#0d0887"
             ],
             [
              0.1111111111111111,
              "#46039f"
             ],
             [
              0.2222222222222222,
              "#7201a8"
             ],
             [
              0.3333333333333333,
              "#9c179e"
             ],
             [
              0.4444444444444444,
              "#bd3786"
             ],
             [
              0.5555555555555556,
              "#d8576b"
             ],
             [
              0.6666666666666666,
              "#ed7953"
             ],
             [
              0.7777777777777778,
              "#fb9f3a"
             ],
             [
              0.8888888888888888,
              "#fdca26"
             ],
             [
              1,
              "#f0f921"
             ]
            ],
            "type": "histogram2dcontour"
           }
          ],
          "mesh3d": [
           {
            "colorbar": {
             "outlinewidth": 0,
             "ticks": ""
            },
            "type": "mesh3d"
           }
          ],
          "parcoords": [
           {
            "line": {
             "colorbar": {
              "outlinewidth": 0,
              "ticks": ""
             }
            },
            "type": "parcoords"
           }
          ],
          "pie": [
           {
            "automargin": true,
            "type": "pie"
           }
          ],
          "scatter": [
           {
            "marker": {
             "line": {
              "color": "#283442"
             }
            },
            "type": "scatter"
           }
          ],
          "scatter3d": [
           {
            "line": {
             "colorbar": {
              "outlinewidth": 0,
              "ticks": ""
             }
            },
            "marker": {
             "colorbar": {
              "outlinewidth": 0,
              "ticks": ""
             }
            },
            "type": "scatter3d"
           }
          ],
          "scattercarpet": [
           {
            "marker": {
             "colorbar": {
              "outlinewidth": 0,
              "ticks": ""
             }
            },
            "type": "scattercarpet"
           }
          ],
          "scattergeo": [
           {
            "marker": {
             "colorbar": {
              "outlinewidth": 0,
              "ticks": ""
             }
            },
            "type": "scattergeo"
           }
          ],
          "scattergl": [
           {
            "marker": {
             "line": {
              "color": "#283442"
             }
            },
            "type": "scattergl"
           }
          ],
          "scattermapbox": [
           {
            "marker": {
             "colorbar": {
              "outlinewidth": 0,
              "ticks": ""
             }
            },
            "type": "scattermapbox"
           }
          ],
          "scatterpolar": [
           {
            "marker": {
             "colorbar": {
              "outlinewidth": 0,
              "ticks": ""
             }
            },
            "type": "scatterpolar"
           }
          ],
          "scatterpolargl": [
           {
            "marker": {
             "colorbar": {
              "outlinewidth": 0,
              "ticks": ""
             }
            },
            "type": "scatterpolargl"
           }
          ],
          "scatterternary": [
           {
            "marker": {
             "colorbar": {
              "outlinewidth": 0,
              "ticks": ""
             }
            },
            "type": "scatterternary"
           }
          ],
          "surface": [
           {
            "colorbar": {
             "outlinewidth": 0,
             "ticks": ""
            },
            "colorscale": [
             [
              0,
              "#0d0887"
             ],
             [
              0.1111111111111111,
              "#46039f"
             ],
             [
              0.2222222222222222,
              "#7201a8"
             ],
             [
              0.3333333333333333,
              "#9c179e"
             ],
             [
              0.4444444444444444,
              "#bd3786"
             ],
             [
              0.5555555555555556,
              "#d8576b"
             ],
             [
              0.6666666666666666,
              "#ed7953"
             ],
             [
              0.7777777777777778,
              "#fb9f3a"
             ],
             [
              0.8888888888888888,
              "#fdca26"
             ],
             [
              1,
              "#f0f921"
             ]
            ],
            "type": "surface"
           }
          ],
          "table": [
           {
            "cells": {
             "fill": {
              "color": "#506784"
             },
             "line": {
              "color": "rgb(17,17,17)"
             }
            },
            "header": {
             "fill": {
              "color": "#2a3f5f"
             },
             "line": {
              "color": "rgb(17,17,17)"
             }
            },
            "type": "table"
           }
          ]
         },
         "layout": {
          "annotationdefaults": {
           "arrowcolor": "#f2f5fa",
           "arrowhead": 0,
           "arrowwidth": 1
          },
          "autotypenumbers": "strict",
          "coloraxis": {
           "colorbar": {
            "outlinewidth": 0,
            "ticks": ""
           }
          },
          "colorscale": {
           "diverging": [
            [
             0,
             "#8e0152"
            ],
            [
             0.1,
             "#c51b7d"
            ],
            [
             0.2,
             "#de77ae"
            ],
            [
             0.3,
             "#f1b6da"
            ],
            [
             0.4,
             "#fde0ef"
            ],
            [
             0.5,
             "#f7f7f7"
            ],
            [
             0.6,
             "#e6f5d0"
            ],
            [
             0.7,
             "#b8e186"
            ],
            [
             0.8,
             "#7fbc41"
            ],
            [
             0.9,
             "#4d9221"
            ],
            [
             1,
             "#276419"
            ]
           ],
           "sequential": [
            [
             0,
             "#0d0887"
            ],
            [
             0.1111111111111111,
             "#46039f"
            ],
            [
             0.2222222222222222,
             "#7201a8"
            ],
            [
             0.3333333333333333,
             "#9c179e"
            ],
            [
             0.4444444444444444,
             "#bd3786"
            ],
            [
             0.5555555555555556,
             "#d8576b"
            ],
            [
             0.6666666666666666,
             "#ed7953"
            ],
            [
             0.7777777777777778,
             "#fb9f3a"
            ],
            [
             0.8888888888888888,
             "#fdca26"
            ],
            [
             1,
             "#f0f921"
            ]
           ],
           "sequentialminus": [
            [
             0,
             "#0d0887"
            ],
            [
             0.1111111111111111,
             "#46039f"
            ],
            [
             0.2222222222222222,
             "#7201a8"
            ],
            [
             0.3333333333333333,
             "#9c179e"
            ],
            [
             0.4444444444444444,
             "#bd3786"
            ],
            [
             0.5555555555555556,
             "#d8576b"
            ],
            [
             0.6666666666666666,
             "#ed7953"
            ],
            [
             0.7777777777777778,
             "#fb9f3a"
            ],
            [
             0.8888888888888888,
             "#fdca26"
            ],
            [
             1,
             "#f0f921"
            ]
           ]
          },
          "colorway": [
           "#636efa",
           "#EF553B",
           "#00cc96",
           "#ab63fa",
           "#FFA15A",
           "#19d3f3",
           "#FF6692",
           "#B6E880",
           "#FF97FF",
           "#FECB52"
          ],
          "font": {
           "color": "#f2f5fa"
          },
          "geo": {
           "bgcolor": "rgb(17,17,17)",
           "lakecolor": "rgb(17,17,17)",
           "landcolor": "rgb(17,17,17)",
           "showlakes": true,
           "showland": true,
           "subunitcolor": "#506784"
          },
          "hoverlabel": {
           "align": "left"
          },
          "hovermode": "closest",
          "mapbox": {
           "style": "dark"
          },
          "paper_bgcolor": "rgb(17,17,17)",
          "plot_bgcolor": "rgb(17,17,17)",
          "polar": {
           "angularaxis": {
            "gridcolor": "#506784",
            "linecolor": "#506784",
            "ticks": ""
           },
           "bgcolor": "rgb(17,17,17)",
           "radialaxis": {
            "gridcolor": "#506784",
            "linecolor": "#506784",
            "ticks": ""
           }
          },
          "scene": {
           "xaxis": {
            "backgroundcolor": "rgb(17,17,17)",
            "gridcolor": "#506784",
            "gridwidth": 2,
            "linecolor": "#506784",
            "showbackground": true,
            "ticks": "",
            "zerolinecolor": "#C8D4E3"
           },
           "yaxis": {
            "backgroundcolor": "rgb(17,17,17)",
            "gridcolor": "#506784",
            "gridwidth": 2,
            "linecolor": "#506784",
            "showbackground": true,
            "ticks": "",
            "zerolinecolor": "#C8D4E3"
           },
           "zaxis": {
            "backgroundcolor": "rgb(17,17,17)",
            "gridcolor": "#506784",
            "gridwidth": 2,
            "linecolor": "#506784",
            "showbackground": true,
            "ticks": "",
            "zerolinecolor": "#C8D4E3"
           }
          },
          "shapedefaults": {
           "line": {
            "color": "#f2f5fa"
           }
          },
          "sliderdefaults": {
           "bgcolor": "#C8D4E3",
           "bordercolor": "rgb(17,17,17)",
           "borderwidth": 1,
           "tickwidth": 0
          },
          "ternary": {
           "aaxis": {
            "gridcolor": "#506784",
            "linecolor": "#506784",
            "ticks": ""
           },
           "baxis": {
            "gridcolor": "#506784",
            "linecolor": "#506784",
            "ticks": ""
           },
           "bgcolor": "rgb(17,17,17)",
           "caxis": {
            "gridcolor": "#506784",
            "linecolor": "#506784",
            "ticks": ""
           }
          },
          "title": {
           "x": 0.05
          },
          "updatemenudefaults": {
           "bgcolor": "#506784",
           "borderwidth": 0
          },
          "xaxis": {
           "automargin": true,
           "gridcolor": "#283442",
           "linecolor": "#506784",
           "ticks": "",
           "title": {
            "standoff": 15
           },
           "zerolinecolor": "#283442",
           "zerolinewidth": 2
          },
          "yaxis": {
           "automargin": true,
           "gridcolor": "#283442",
           "linecolor": "#506784",
           "ticks": "",
           "title": {
            "standoff": 15
           },
           "zerolinecolor": "#283442",
           "zerolinewidth": 2
          }
         }
        },
        "title": {
         "text": "Observe Backward Elimination in All Models With Repect to Moving Averages<br><span style=\"font-size: 12.5px; color: lightgrey;\"> -- How meansures are changed by removing the impact of each coefficient</span>"
        },
        "width": 800,
        "xaxis": {
         "anchor": "y",
         "domain": [
          0,
          0.45
         ]
        },
        "xaxis2": {
         "anchor": "y2",
         "domain": [
          0.55,
          1
         ]
        },
        "yaxis": {
         "anchor": "x",
         "domain": [
          0,
          1
         ],
         "title": {
          "text": "Difference"
         }
        },
        "yaxis2": {
         "anchor": "x2",
         "domain": [
          0,
          1
         ]
        }
       }
      }
     },
     "metadata": {},
     "output_type": "display_data"
    }
   ],
   "source": [
    "# comparing model performance & backward elimination test\n",
    "fig1_1, fig1_2, fig1_3 = PA.model_learning([1, 3, 6], model='LinR')\n",
    "\n",
    "horizon_plots(fig1_1, 'Linear Model').show()\n",
    "fig1_2.show()\n",
    "fig1_3.show()"
   ]
  },
  {
   "cell_type": "code",
   "execution_count": 8,
   "metadata": {},
   "outputs": [
    {
     "data": {
      "application/vnd.plotly.v1+json": {
       "config": {
        "plotlyServerURL": "https://plot.ly"
       },
       "data": [
        {
         "mode": "lines",
         "name": "Actual",
         "type": "scatter",
         "x": [
          "1989-09-30T00:00:00",
          "1989-10-31T00:00:00",
          "1989-11-30T00:00:00",
          "1989-12-31T00:00:00",
          "1990-01-31T00:00:00",
          "1990-02-28T00:00:00",
          "1990-03-31T00:00:00",
          "1990-04-30T00:00:00",
          "1990-05-31T00:00:00",
          "1990-06-30T00:00:00",
          "1990-07-31T00:00:00",
          "1990-08-31T00:00:00",
          "1990-09-30T00:00:00",
          "1990-10-31T00:00:00",
          "1990-11-30T00:00:00",
          "1990-12-31T00:00:00",
          "1991-01-31T00:00:00",
          "1991-02-28T00:00:00",
          "1991-03-31T00:00:00",
          "1991-04-30T00:00:00",
          "1991-05-31T00:00:00",
          "1991-06-30T00:00:00",
          "1991-07-31T00:00:00",
          "1991-08-31T00:00:00",
          "1991-09-30T00:00:00",
          "1991-10-31T00:00:00",
          "1991-11-30T00:00:00",
          "1991-12-31T00:00:00",
          "1992-01-31T00:00:00",
          "1992-02-29T00:00:00",
          "1992-03-31T00:00:00",
          "1992-04-30T00:00:00",
          "1992-05-31T00:00:00",
          "1992-06-30T00:00:00",
          "1992-07-31T00:00:00",
          "1992-08-31T00:00:00",
          "1992-09-30T00:00:00",
          "1992-10-31T00:00:00",
          "1992-11-30T00:00:00",
          "1992-12-31T00:00:00",
          "1993-01-31T00:00:00",
          "1993-02-28T00:00:00",
          "1993-03-31T00:00:00",
          "1993-04-30T00:00:00",
          "1993-05-31T00:00:00",
          "1993-06-30T00:00:00",
          "1993-07-31T00:00:00",
          "1993-08-31T00:00:00",
          "1993-09-30T00:00:00",
          "1993-10-31T00:00:00",
          "1993-11-30T00:00:00",
          "1993-12-31T00:00:00",
          "1994-01-31T00:00:00",
          "1994-02-28T00:00:00",
          "1994-03-31T00:00:00",
          "1994-04-30T00:00:00",
          "1994-05-31T00:00:00",
          "1994-06-30T00:00:00",
          "1994-07-31T00:00:00",
          "1994-08-31T00:00:00",
          "1994-09-30T00:00:00",
          "1994-10-31T00:00:00",
          "1994-11-30T00:00:00",
          "1994-12-31T00:00:00",
          "1995-01-31T00:00:00",
          "1995-02-28T00:00:00",
          "1995-03-31T00:00:00",
          "1995-04-30T00:00:00",
          "1995-05-31T00:00:00",
          "1995-06-30T00:00:00",
          "1995-07-31T00:00:00",
          "1995-08-31T00:00:00",
          "1995-09-30T00:00:00",
          "1995-10-31T00:00:00",
          "1995-11-30T00:00:00",
          "1995-12-31T00:00:00",
          "1996-01-31T00:00:00",
          "1996-02-29T00:00:00",
          "1996-03-31T00:00:00",
          "1996-04-30T00:00:00",
          "1996-05-31T00:00:00",
          "1996-06-30T00:00:00",
          "1996-07-31T00:00:00",
          "1996-08-31T00:00:00",
          "1996-09-30T00:00:00",
          "1996-10-31T00:00:00",
          "1996-11-30T00:00:00",
          "1996-12-31T00:00:00",
          "1997-01-31T00:00:00",
          "1997-02-28T00:00:00",
          "1997-03-31T00:00:00",
          "1997-04-30T00:00:00",
          "1997-05-31T00:00:00",
          "1997-06-30T00:00:00",
          "1997-07-31T00:00:00",
          "1997-08-31T00:00:00",
          "1997-09-30T00:00:00",
          "1997-10-31T00:00:00",
          "1997-11-30T00:00:00",
          "1997-12-31T00:00:00",
          "1998-01-31T00:00:00",
          "1998-02-28T00:00:00",
          "1998-03-31T00:00:00",
          "1998-04-30T00:00:00",
          "1998-05-31T00:00:00",
          "1998-06-30T00:00:00",
          "1998-07-31T00:00:00",
          "1998-08-31T00:00:00",
          "1998-09-30T00:00:00",
          "1998-10-31T00:00:00",
          "1998-11-30T00:00:00",
          "1998-12-31T00:00:00",
          "1999-01-31T00:00:00",
          "1999-02-28T00:00:00",
          "1999-03-31T00:00:00",
          "1999-04-30T00:00:00",
          "1999-05-31T00:00:00",
          "1999-06-30T00:00:00",
          "1999-07-31T00:00:00",
          "1999-08-31T00:00:00",
          "1999-09-30T00:00:00",
          "1999-10-31T00:00:00",
          "1999-11-30T00:00:00",
          "1999-12-31T00:00:00",
          "2000-01-31T00:00:00",
          "2000-02-29T00:00:00",
          "2000-03-31T00:00:00",
          "2000-04-30T00:00:00",
          "2000-05-31T00:00:00",
          "2000-06-30T00:00:00",
          "2000-07-31T00:00:00",
          "2000-08-31T00:00:00",
          "2000-09-30T00:00:00",
          "2000-10-31T00:00:00",
          "2000-11-30T00:00:00",
          "2000-12-31T00:00:00",
          "2001-01-31T00:00:00",
          "2001-02-28T00:00:00",
          "2001-03-31T00:00:00",
          "2001-04-30T00:00:00",
          "2001-05-31T00:00:00",
          "2001-06-30T00:00:00",
          "2001-07-31T00:00:00",
          "2001-08-31T00:00:00",
          "2001-09-30T00:00:00",
          "2001-10-31T00:00:00",
          "2001-11-30T00:00:00",
          "2001-12-31T00:00:00",
          "2002-01-31T00:00:00",
          "2002-02-28T00:00:00",
          "2002-03-31T00:00:00",
          "2002-04-30T00:00:00",
          "2002-05-31T00:00:00",
          "2002-06-30T00:00:00",
          "2002-07-31T00:00:00",
          "2002-08-31T00:00:00",
          "2002-09-30T00:00:00",
          "2002-10-31T00:00:00",
          "2002-11-30T00:00:00",
          "2002-12-31T00:00:00",
          "2003-01-31T00:00:00",
          "2003-02-28T00:00:00",
          "2003-03-31T00:00:00",
          "2003-04-30T00:00:00",
          "2003-05-31T00:00:00",
          "2003-06-30T00:00:00",
          "2003-07-31T00:00:00",
          "2003-08-31T00:00:00",
          "2003-09-30T00:00:00",
          "2003-10-31T00:00:00",
          "2003-11-30T00:00:00",
          "2003-12-31T00:00:00",
          "2004-01-31T00:00:00",
          "2004-02-29T00:00:00",
          "2004-03-31T00:00:00",
          "2004-04-30T00:00:00",
          "2004-05-31T00:00:00",
          "2004-06-30T00:00:00",
          "2004-07-31T00:00:00",
          "2004-08-31T00:00:00",
          "2004-09-30T00:00:00",
          "2004-10-31T00:00:00",
          "2004-11-30T00:00:00",
          "2004-12-31T00:00:00",
          "2005-01-31T00:00:00",
          "2005-02-28T00:00:00",
          "2005-03-31T00:00:00",
          "2005-04-30T00:00:00",
          "2005-05-31T00:00:00",
          "2005-06-30T00:00:00",
          "2005-07-31T00:00:00",
          "2005-08-31T00:00:00",
          "2005-09-30T00:00:00",
          "2005-10-31T00:00:00",
          "2005-11-30T00:00:00",
          "2005-12-31T00:00:00",
          "2006-01-31T00:00:00",
          "2006-02-28T00:00:00",
          "2006-03-31T00:00:00",
          "2006-04-30T00:00:00",
          "2006-05-31T00:00:00",
          "2006-06-30T00:00:00",
          "2006-07-31T00:00:00",
          "2006-08-31T00:00:00",
          "2006-09-30T00:00:00",
          "2006-10-31T00:00:00",
          "2006-11-30T00:00:00",
          "2006-12-31T00:00:00",
          "2007-01-31T00:00:00",
          "2007-02-28T00:00:00",
          "2007-03-31T00:00:00",
          "2007-04-30T00:00:00",
          "2007-05-31T00:00:00",
          "2007-06-30T00:00:00",
          "2007-07-31T00:00:00",
          "2007-08-31T00:00:00",
          "2007-09-30T00:00:00",
          "2007-10-31T00:00:00",
          "2007-11-30T00:00:00",
          "2007-12-31T00:00:00",
          "2008-01-31T00:00:00",
          "2008-02-29T00:00:00",
          "2008-03-31T00:00:00",
          "2008-04-30T00:00:00",
          "2008-05-31T00:00:00",
          "2008-06-30T00:00:00",
          "2008-07-31T00:00:00",
          "2008-08-31T00:00:00",
          "2008-09-30T00:00:00",
          "2008-10-31T00:00:00",
          "2008-11-30T00:00:00",
          "2008-12-31T00:00:00",
          "2009-01-31T00:00:00",
          "2009-02-28T00:00:00",
          "2009-03-31T00:00:00",
          "2009-04-30T00:00:00",
          "2009-05-31T00:00:00",
          "2009-06-30T00:00:00",
          "2009-07-31T00:00:00",
          "2009-08-31T00:00:00",
          "2009-09-30T00:00:00",
          "2009-10-31T00:00:00",
          "2009-11-30T00:00:00",
          "2009-12-31T00:00:00",
          "2010-01-31T00:00:00",
          "2010-02-28T00:00:00",
          "2010-03-31T00:00:00",
          "2010-04-30T00:00:00",
          "2010-05-31T00:00:00",
          "2010-06-30T00:00:00",
          "2010-07-31T00:00:00",
          "2010-08-31T00:00:00",
          "2010-09-30T00:00:00",
          "2010-10-31T00:00:00",
          "2010-11-30T00:00:00",
          "2010-12-31T00:00:00",
          "2011-01-31T00:00:00",
          "2011-02-28T00:00:00",
          "2011-03-31T00:00:00",
          "2011-04-30T00:00:00",
          "2011-05-31T00:00:00",
          "2011-06-30T00:00:00",
          "2011-07-31T00:00:00",
          "2011-08-31T00:00:00",
          "2011-09-30T00:00:00",
          "2011-10-31T00:00:00",
          "2011-11-30T00:00:00",
          "2011-12-31T00:00:00",
          "2012-01-31T00:00:00",
          "2012-02-29T00:00:00",
          "2012-03-31T00:00:00",
          "2012-04-30T00:00:00",
          "2012-05-31T00:00:00",
          "2012-06-30T00:00:00",
          "2012-07-31T00:00:00",
          "2012-08-31T00:00:00",
          "2012-09-30T00:00:00",
          "2012-10-31T00:00:00",
          "2012-11-30T00:00:00",
          "2012-12-31T00:00:00",
          "2013-01-31T00:00:00",
          "2013-02-28T00:00:00",
          "2013-03-31T00:00:00",
          "2013-04-30T00:00:00",
          "2013-05-31T00:00:00",
          "2013-06-30T00:00:00",
          "2013-07-31T00:00:00",
          "2013-08-31T00:00:00",
          "2013-09-30T00:00:00",
          "2013-10-31T00:00:00",
          "2013-11-30T00:00:00",
          "2013-12-31T00:00:00",
          "2014-01-31T00:00:00",
          "2014-02-28T00:00:00",
          "2014-03-31T00:00:00",
          "2014-04-30T00:00:00",
          "2014-05-31T00:00:00",
          "2014-06-30T00:00:00",
          "2014-07-31T00:00:00",
          "2014-08-31T00:00:00",
          "2014-09-30T00:00:00",
          "2014-10-31T00:00:00",
          "2014-11-30T00:00:00",
          "2014-12-31T00:00:00",
          "2015-01-31T00:00:00",
          "2015-02-28T00:00:00",
          "2015-03-31T00:00:00",
          "2015-04-30T00:00:00",
          "2015-05-31T00:00:00",
          "2015-06-30T00:00:00",
          "2015-07-31T00:00:00",
          "2015-08-31T00:00:00",
          "2015-09-30T00:00:00",
          "2015-10-31T00:00:00",
          "2015-11-30T00:00:00",
          "2015-12-31T00:00:00",
          "2016-01-31T00:00:00",
          "2016-02-29T00:00:00",
          "2016-03-31T00:00:00",
          "2016-04-30T00:00:00",
          "2016-05-31T00:00:00",
          "2016-06-30T00:00:00",
          "2016-07-31T00:00:00",
          "2016-08-31T00:00:00",
          "2016-09-30T00:00:00",
          "2016-10-31T00:00:00",
          "2016-11-30T00:00:00",
          "2016-12-31T00:00:00",
          "2017-01-31T00:00:00",
          "2017-02-28T00:00:00",
          "2017-03-31T00:00:00",
          "2017-04-30T00:00:00",
          "2017-05-31T00:00:00",
          "2017-06-30T00:00:00",
          "2017-07-31T00:00:00",
          "2017-08-31T00:00:00",
          "2017-09-30T00:00:00",
          "2017-10-31T00:00:00",
          "2017-11-30T00:00:00",
          "2017-12-31T00:00:00",
          "2018-01-31T00:00:00",
          "2018-02-28T00:00:00",
          "2018-03-31T00:00:00",
          "2018-04-30T00:00:00",
          "2018-05-31T00:00:00",
          "2018-06-30T00:00:00",
          "2018-07-31T00:00:00",
          "2018-08-31T00:00:00",
          "2018-09-30T00:00:00",
          "2018-10-31T00:00:00",
          "2018-11-30T00:00:00",
          "2018-12-31T00:00:00",
          "2019-01-31T00:00:00",
          "2019-02-28T00:00:00",
          "2019-03-31T00:00:00",
          "2019-04-30T00:00:00",
          "2019-05-31T00:00:00",
          "2019-06-30T00:00:00",
          "2019-07-31T00:00:00",
          "2019-08-31T00:00:00",
          "2019-09-30T00:00:00",
          "2019-10-31T00:00:00",
          "2019-11-30T00:00:00",
          "2019-12-31T00:00:00",
          "2020-01-31T00:00:00",
          "2020-02-29T00:00:00",
          "2020-03-31T00:00:00",
          "2020-04-30T00:00:00",
          "2020-05-31T00:00:00",
          "2020-06-30T00:00:00",
          "2020-07-31T00:00:00",
          "2020-08-31T00:00:00",
          "2020-09-30T00:00:00",
          "2020-10-31T00:00:00",
          "2020-11-30T00:00:00",
          "2020-12-31T00:00:00",
          "2021-01-31T00:00:00",
          "2021-02-28T00:00:00",
          "2021-03-31T00:00:00",
          "2021-04-30T00:00:00",
          "2021-05-31T00:00:00",
          "2021-06-30T00:00:00",
          "2021-07-31T00:00:00",
          "2021-08-31T00:00:00",
          "2021-09-30T00:00:00",
          "2021-10-31T00:00:00",
          "2021-11-30T00:00:00",
          "2021-12-31T00:00:00",
          "2022-01-31T00:00:00",
          "2022-02-28T00:00:00",
          "2022-03-31T00:00:00",
          "2022-04-30T00:00:00",
          "2022-05-31T00:00:00",
          "2022-06-30T00:00:00",
          "2022-07-31T00:00:00",
          "2022-08-31T00:00:00",
          "2022-09-30T00:00:00",
          "2022-10-31T00:00:00",
          "2022-11-30T00:00:00",
          "2022-12-31T00:00:00",
          "2023-01-31T00:00:00",
          "2023-02-28T00:00:00",
          "2023-03-31T00:00:00",
          "2023-04-30T00:00:00",
          "2023-05-31T00:00:00",
          "2023-06-30T00:00:00",
          "2023-07-31T00:00:00",
          "2023-08-31T00:00:00",
          "2023-09-30T00:00:00",
          "2023-10-31T00:00:00"
         ],
         "y": [
          30.806688566174387,
          31.39694585310631,
          25.206199360489933,
          24.20903276964239,
          26.8312931018745,
          18.938371007108977,
          12.761388610261736,
          15.090602508287375,
          11.059218942037518,
          9.76748809856004,
          12.646611177639466,
          7.750856827711717,
          -2.655250136548054,
          -10.282250481418792,
          -11.513534601400835,
          -8.77647018514639,
          -6.714637799909918,
          -1.0232776296720036,
          7.556238724069853,
          10.489098250715434,
          11.921316799637127,
          10.69085916535405,
          5.7937882891868515,
          6.279852126784924,
          15.740329258428808,
          24.661035539125173,
          27.91316267000491,
          22.771893994618075,
          21.377546141092097,
          22.581143149493478,
          15.643227915901626,
          10.00921075842749,
          9.070325896842213,
          8.549775706022189,
          8.254904769658788,
          9.674699511439577,
          7.0448899517442936,
          6.211511468206976,
          7.201464928820823,
          10.821436979317934,
          9.711744175296866,
          5.901587051756019,
          7.386440170373154,
          9.659664819582137,
          8.984009127541116,
          7.2353817202240105,
          9.38712158024423,
          8.012428850722797,
          8.800810465877484,
          10.90366280239099,
          10.79184959605446,
          9.39809468582299,
          7.0560355340694825,
          8.408154581283823,
          7.559994725602171,
          2.026283881534985,
          0.5645217496477173,
          1.9184710804812766,
          0.006076541335242602,
          0.43551451953819376,
          2.4170326991646673,
          1.6986071699589322,
          0.8949109479093331,
          -0.3939391051127783,
          -1.6466681821967977,
          -1.9313710045113064,
          1.0057188912978077,
          8.329815536252937,
          13.236955638882208,
          15.497369195153052,
          19.731224789516975,
          22.63388694037758,
          20.409761613533586,
          22.235098604867552,
          24.70471552344081,
          28.270190774143323,
          33.771586842728965,
          34.65662034691543,
          33.301242692262505,
          30.15842015797061,
          28.00590017880299,
          26.26958650621668,
          24.276080667928966,
          18.482901153846463,
          14.947591588814912,
          16.824080784702353,
          19.447772147894494,
          23.167705872750066,
          22.65723289330583,
          21.934917029265158,
          23.544415265909734,
          20.387341787883564,
          19.894619221460697,
          24.63634454918341,
          29.38090700623657,
          40.55446345050397,
          43.54010971806566,
          37.888948402806044,
          33.75196240496986,
          27.94452360155265,
          28.60678299268605,
          27.850182176807934,
          28.69114808646922,
          39.104329230207235,
          42.12745341549497,
          33.66416275583026,
          28.344603873145438,
          22.764869783484077,
          11.929810155642716,
          6.894099274287591,
          13.742095158333235,
          20.95908687156818,
          24.231823107796956,
          28.603400160307157,
          24.274289621351997,
          17.383672585303323,
          18.42706303293816,
          19.721115782278275,
          20.206214579233574,
          19.816063219970992,
          28.24914959755366,
          32.029558877557434,
          25.089158323076276,
          21.706413262746302,
          19.44307748546634,
          14.249439234486049,
          9.658304353046576,
          13.420291385840633,
          12.639196511865647,
          8.952030472708838,
          7.544023393236454,
          6.825205800462564,
          11.312448100935423,
          13.465150588408525,
          8.433617097017665,
          -0.22402714878260177,
          -7.732114785346178,
          -6.089698752935285,
          -5.648262421504407,
          -15.913840113092592,
          -18.272942887149462,
          -12.786922020970593,
          -13.713178114353436,
          -15.587381866783613,
          -20.328052467209545,
          -26.422626540788006,
          -26.697641743177947,
          -19.602458457861886,
          -13.194604372479263,
          -15.152691046072935,
          -14.002974023728054,
          -5.929227053375397,
          -7.462177163223704,
          -14.416800362762999,
          -17.0909461100472,
          -21.946731092369788,
          -21.961945100392832,
          -20.433177272458572,
          -19.0494331064722,
          -17.12414332227273,
          -20.59693003762891,
          -23.826848144897916,
          -24.142274122286857,
          -25.03713141320973,
          -20.46731864103927,
          -12.28034782970036,
          -5.62563108902367,
          3.5420647603730595,
          9.334118763539657,
          16.099640511574595,
          20.392675062213236,
          15.820269820161869,
          19.699259675860127,
          29.28404060837678,
          34.1518509953402,
          34.44780795898582,
          26.77129596241201,
          18.53278793417863,
          16.685920968877955,
          14.159636360609007,
          10.398270092297013,
          10.727761184339546,
          9.737176019923133,
          9.245730443187272,
          9.959776689890209,
          6.713094546512665,
          4.778076255064867,
          4.976000398064018,
          4.651713443707505,
          5.397107172275173,
          5.372529019093452,
          8.224356009941204,
          11.26806824796336,
          10.380911620210288,
          8.522430452544771,
          6.6208864733959825,
          4.723323925615741,
          5.682871623056784,
          7.383592437431541,
          8.041186429237868,
          11.485587384756146,
          9.943575433002627,
          6.60810820020018,
          5.031145732139897,
          5.141775603242438,
          7.776225457399466,
          11.43614695768298,
          13.129234491788745,
          12.858233123378703,
          12.987456307592868,
          11.10332212065288,
          9.79054846300501,
          11.417641172332871,
          16.809035606395096,
          19.434051081695102,
          16.172895347121663,
          13.521031551213426,
          13.671090430791754,
          13.366147372446168,
          9.094947165301193,
          4.638850685910767,
          -0.31031712864684735,
          -4.782981866392255,
          -6.162125462980911,
          -6.718615453113264,
          -7.518852999875936,
          -11.682893998410272,
          -13.883912712404884,
          -12.9399449145012,
          -18.286963571474516,
          -30.540017272661885,
          -38.48242193089992,
          -38.98782336483148,
          -39.288234906638,
          -42.42345911004681,
          -42.2174635715822,
          -38.343372922772545,
          -35.6865087178664,
          -31.271540846711602,
          -25.131528693394642,
          -21.262447689786114,
          -14.904642492797766,
          -1.2038901131537552,
          14.604466653880976,
          22.850790728696502,
          26.740776939343704,
          40.139853312485776,
          48.4106703995468,
          41.26549949978086,
          27.243464369309944,
          15.320743289204064,
          11.836624382364725,
          7.184840849000718,
          5.38538126954442,
          11.075560325225752,
          10.97207303891675,
          10.266754806038914,
          16.273838091503645,
          19.965414574526452,
          16.769947389381535,
          14.14136400690278,
          19.19418668060836,
          25.80441663683096,
          22.719266709175912,
          16.734131023072564,
          7.650952024277886,
          2.531129385729508,
          5.772289879850911,
          2.8110763876590505,
          1.020476059469133,
          2.470964226987915,
          4.5654353094387705,
          4.374231761052316,
          -0.038396880392949084,
          0.2758761635234974,
          4.939653754254259,
          11.066903569399845,
          21.36566965802841,
          20.00412173673766,
          13.122973510358204,
          13.488151249961966,
          13.777614260241645,
          12.529926452456841,
          11.160638569076609,
          12.846852934195196,
          19.36768313789984,
          21.187078904874557,
          20.068054208150265,
          19.154820926974736,
          16.407533587952692,
          20.55337648022803,
          25.94974982685154,
          28.55699721479488,
          24.295254127978232,
          20.875577305087603,
          21.040391234940834,
          18.622431262650792,
          17.941425934019517,
          19.996129276433606,
          18.28279506683307,
          18.606403054399443,
          19.98629892872885,
          16.08889510495215,
          14.691335469412813,
          12.9427568651016,
          11.652941150400554,
          12.546939787506028,
          11.811388720380645,
          10.571473753020467,
          10.12749419687795,
          7.402278754336212,
          7.108898717506918,
          3.7062767260000795,
          -2.103292970452647,
          0.1941859735250795,
          1.8297912931791394,
          -0.05255064016054245,
          -1.735487196267932,
          -5.4650839748755455,
          -4.289955059973355,
          -0.6815912414126268,
          -0.732231204083228,
          0.6187119903641071,
          2.524331291367976,
          6.6972655016166005,
          11.503826557207088,
          7.589582785230553,
          3.970697389171518,
          7.6131079104319825,
          13.494012402002431,
          19.890024988135337,
          18.51833525288562,
          15.075236811353076,
          15.227760059124694,
          15.238907627124242,
          14.556654428318428,
          13.750619923616025,
          15.021626314927584,
          18.65766922460204,
          20.766419694910496,
          19.914821005340677,
          21.666345199683988,
          19.3642206876507,
          13.294085774102292,
          11.419532261088127,
          11.617349117591523,
          12.169688489411378,
          13.088639359914412,
          15.699010750697063,
          16.527763566582276,
          10.481577209901005,
          4.776107487793246,
          -0.9923515795348394,
          -5.238283131887506,
          -0.8178047111279563,
          4.965977676265676,
          9.286757601343766,
          6.487422669377551,
          4.973688235333352,
          7.022120989068138,
          3.343000728241841,
          1.5066515734014738,
          7.0844609771304805,
          12.905891374891667,
          21.337343357585084,
          24.080318775246432,
          12.689058678271834,
          -1.3589746150060478,
          -4.973655147877204,
          4.742753316075472,
          8.00413473842281,
          7.572045976796571,
          14.682079706496753,
          16.29247988130582,
          10.313407404322794,
          11.47671009383271,
          15.780734463887836,
          15.7052937617846,
          22.079321143673557,
          41.36074204229856,
          48.638721185243206,
          40.830115896777244,
          38.35667944521658,
          36.490825386822166,
          31.7867874330223,
          28.647110493334193,
          34.4626317304064,
          33.47123673032787,
          26.498091176615123,
          24.233365008939586,
          18.17046331247638,
          14.400025841805707,
          6.427730833740647,
          -1.444656113785897,
          -6.814177980053781,
          -8.972616208297579,
          -9.290193561683003,
          -14.655650465222514,
          -16.342149567387782,
          -13.292947839060881,
          -15.051935745114296,
          -14.581837315517825,
          -9.476285436548737,
          -9.263344876950852,
          -4.1930973939183485,
          1.031327266622506,
          9.360736271815096,
          14.33630945012757,
          12.53936874596282,
          16.78194758130227
         ]
        },
        {
         "line": {
          "color": "lightgreen"
         },
         "mode": "lines",
         "name": "Predict",
         "type": "scatter",
         "x": [
          "1989-09-30T00:00:00",
          "1989-10-31T00:00:00",
          "1989-11-30T00:00:00",
          "1989-12-31T00:00:00",
          "1990-01-31T00:00:00",
          "1990-02-28T00:00:00",
          "1990-03-31T00:00:00",
          "1990-04-30T00:00:00",
          "1990-05-31T00:00:00",
          "1990-06-30T00:00:00",
          "1990-07-31T00:00:00",
          "1990-08-31T00:00:00",
          "1990-09-30T00:00:00",
          "1990-10-31T00:00:00",
          "1990-11-30T00:00:00",
          "1990-12-31T00:00:00",
          "1991-01-31T00:00:00",
          "1991-02-28T00:00:00",
          "1991-03-31T00:00:00",
          "1991-04-30T00:00:00",
          "1991-05-31T00:00:00",
          "1991-06-30T00:00:00",
          "1991-07-31T00:00:00",
          "1991-08-31T00:00:00",
          "1991-09-30T00:00:00",
          "1991-10-31T00:00:00",
          "1991-11-30T00:00:00",
          "1991-12-31T00:00:00",
          "1992-01-31T00:00:00",
          "1992-02-29T00:00:00",
          "1992-03-31T00:00:00",
          "1992-04-30T00:00:00",
          "1992-05-31T00:00:00",
          "1992-06-30T00:00:00",
          "1992-07-31T00:00:00",
          "1992-08-31T00:00:00",
          "1992-09-30T00:00:00",
          "1992-10-31T00:00:00",
          "1992-11-30T00:00:00",
          "1992-12-31T00:00:00",
          "1993-01-31T00:00:00",
          "1993-02-28T00:00:00",
          "1993-03-31T00:00:00",
          "1993-04-30T00:00:00",
          "1993-05-31T00:00:00",
          "1993-06-30T00:00:00",
          "1993-07-31T00:00:00",
          "1993-08-31T00:00:00",
          "1993-09-30T00:00:00",
          "1993-10-31T00:00:00",
          "1993-11-30T00:00:00",
          "1993-12-31T00:00:00",
          "1994-01-31T00:00:00",
          "1994-02-28T00:00:00",
          "1994-03-31T00:00:00",
          "1994-04-30T00:00:00",
          "1994-05-31T00:00:00",
          "1994-06-30T00:00:00",
          "1994-07-31T00:00:00",
          "1994-08-31T00:00:00",
          "1994-09-30T00:00:00",
          "1994-10-31T00:00:00",
          "1994-11-30T00:00:00",
          "1994-12-31T00:00:00",
          "1995-01-31T00:00:00",
          "1995-02-28T00:00:00",
          "1995-03-31T00:00:00",
          "1995-04-30T00:00:00",
          "1995-05-31T00:00:00",
          "1995-06-30T00:00:00",
          "1995-07-31T00:00:00",
          "1995-08-31T00:00:00",
          "1995-09-30T00:00:00",
          "1995-10-31T00:00:00",
          "1995-11-30T00:00:00",
          "1995-12-31T00:00:00",
          "1996-01-31T00:00:00",
          "1996-02-29T00:00:00",
          "1996-03-31T00:00:00",
          "1996-04-30T00:00:00",
          "1996-05-31T00:00:00",
          "1996-06-30T00:00:00",
          "1996-07-31T00:00:00",
          "1996-08-31T00:00:00",
          "1996-09-30T00:00:00",
          "1996-10-31T00:00:00",
          "1996-11-30T00:00:00",
          "1996-12-31T00:00:00",
          "1997-01-31T00:00:00",
          "1997-02-28T00:00:00",
          "1997-03-31T00:00:00",
          "1997-04-30T00:00:00",
          "1997-05-31T00:00:00",
          "1997-06-30T00:00:00",
          "1997-07-31T00:00:00",
          "1997-08-31T00:00:00",
          "1997-09-30T00:00:00",
          "1997-10-31T00:00:00",
          "1997-11-30T00:00:00",
          "1997-12-31T00:00:00",
          "1998-01-31T00:00:00",
          "1998-02-28T00:00:00",
          "1998-03-31T00:00:00",
          "1998-04-30T00:00:00",
          "1998-05-31T00:00:00",
          "1998-06-30T00:00:00",
          "1998-07-31T00:00:00",
          "1998-08-31T00:00:00",
          "1998-09-30T00:00:00",
          "1998-10-31T00:00:00",
          "1998-11-30T00:00:00",
          "1998-12-31T00:00:00",
          "1999-01-31T00:00:00",
          "1999-02-28T00:00:00",
          "1999-03-31T00:00:00",
          "1999-04-30T00:00:00",
          "1999-05-31T00:00:00",
          "1999-06-30T00:00:00",
          "1999-07-31T00:00:00",
          "1999-08-31T00:00:00",
          "1999-09-30T00:00:00",
          "1999-10-31T00:00:00",
          "1999-11-30T00:00:00",
          "1999-12-31T00:00:00",
          "2000-01-31T00:00:00",
          "2000-02-29T00:00:00",
          "2000-03-31T00:00:00",
          "2000-04-30T00:00:00",
          "2000-05-31T00:00:00",
          "2000-06-30T00:00:00",
          "2000-07-31T00:00:00",
          "2000-08-31T00:00:00",
          "2000-09-30T00:00:00",
          "2000-10-31T00:00:00",
          "2000-11-30T00:00:00",
          "2000-12-31T00:00:00",
          "2001-01-31T00:00:00",
          "2001-02-28T00:00:00",
          "2001-03-31T00:00:00",
          "2001-04-30T00:00:00",
          "2001-05-31T00:00:00",
          "2001-06-30T00:00:00",
          "2001-07-31T00:00:00",
          "2001-08-31T00:00:00",
          "2001-09-30T00:00:00",
          "2001-10-31T00:00:00",
          "2001-11-30T00:00:00",
          "2001-12-31T00:00:00",
          "2002-01-31T00:00:00",
          "2002-02-28T00:00:00",
          "2002-03-31T00:00:00",
          "2002-04-30T00:00:00",
          "2002-05-31T00:00:00",
          "2002-06-30T00:00:00",
          "2002-07-31T00:00:00",
          "2002-08-31T00:00:00",
          "2002-09-30T00:00:00",
          "2002-10-31T00:00:00",
          "2002-11-30T00:00:00",
          "2002-12-31T00:00:00",
          "2003-01-31T00:00:00",
          "2003-02-28T00:00:00",
          "2003-03-31T00:00:00",
          "2003-04-30T00:00:00",
          "2003-05-31T00:00:00",
          "2003-06-30T00:00:00",
          "2003-07-31T00:00:00",
          "2003-08-31T00:00:00",
          "2003-09-30T00:00:00",
          "2003-10-31T00:00:00",
          "2003-11-30T00:00:00",
          "2003-12-31T00:00:00",
          "2004-01-31T00:00:00",
          "2004-02-29T00:00:00",
          "2004-03-31T00:00:00",
          "2004-04-30T00:00:00",
          "2004-05-31T00:00:00",
          "2004-06-30T00:00:00",
          "2004-07-31T00:00:00",
          "2004-08-31T00:00:00",
          "2004-09-30T00:00:00",
          "2004-10-31T00:00:00",
          "2004-11-30T00:00:00",
          "2004-12-31T00:00:00",
          "2005-01-31T00:00:00",
          "2005-02-28T00:00:00",
          "2005-03-31T00:00:00",
          "2005-04-30T00:00:00",
          "2005-05-31T00:00:00",
          "2005-06-30T00:00:00",
          "2005-07-31T00:00:00",
          "2005-08-31T00:00:00",
          "2005-09-30T00:00:00",
          "2005-10-31T00:00:00",
          "2005-11-30T00:00:00",
          "2005-12-31T00:00:00",
          "2006-01-31T00:00:00",
          "2006-02-28T00:00:00",
          "2006-03-31T00:00:00",
          "2006-04-30T00:00:00",
          "2006-05-31T00:00:00",
          "2006-06-30T00:00:00",
          "2006-07-31T00:00:00",
          "2006-08-31T00:00:00",
          "2006-09-30T00:00:00",
          "2006-10-31T00:00:00",
          "2006-11-30T00:00:00",
          "2006-12-31T00:00:00",
          "2007-01-31T00:00:00",
          "2007-02-28T00:00:00",
          "2007-03-31T00:00:00",
          "2007-04-30T00:00:00",
          "2007-05-31T00:00:00",
          "2007-06-30T00:00:00",
          "2007-07-31T00:00:00",
          "2007-08-31T00:00:00",
          "2007-09-30T00:00:00",
          "2007-10-31T00:00:00",
          "2007-11-30T00:00:00",
          "2007-12-31T00:00:00",
          "2008-01-31T00:00:00",
          "2008-02-29T00:00:00",
          "2008-03-31T00:00:00",
          "2008-04-30T00:00:00",
          "2008-05-31T00:00:00",
          "2008-06-30T00:00:00",
          "2008-07-31T00:00:00",
          "2008-08-31T00:00:00",
          "2008-09-30T00:00:00",
          "2008-10-31T00:00:00",
          "2008-11-30T00:00:00",
          "2008-12-31T00:00:00",
          "2009-01-31T00:00:00",
          "2009-02-28T00:00:00",
          "2009-03-31T00:00:00",
          "2009-04-30T00:00:00",
          "2009-05-31T00:00:00",
          "2009-06-30T00:00:00",
          "2009-07-31T00:00:00",
          "2009-08-31T00:00:00",
          "2009-09-30T00:00:00",
          "2009-10-31T00:00:00",
          "2009-11-30T00:00:00",
          "2009-12-31T00:00:00",
          "2010-01-31T00:00:00",
          "2010-02-28T00:00:00",
          "2010-03-31T00:00:00",
          "2010-04-30T00:00:00",
          "2010-05-31T00:00:00",
          "2010-06-30T00:00:00",
          "2010-07-31T00:00:00",
          "2010-08-31T00:00:00",
          "2010-09-30T00:00:00",
          "2010-10-31T00:00:00",
          "2010-11-30T00:00:00",
          "2010-12-31T00:00:00",
          "2011-01-31T00:00:00",
          "2011-02-28T00:00:00",
          "2011-03-31T00:00:00",
          "2011-04-30T00:00:00",
          "2011-05-31T00:00:00",
          "2011-06-30T00:00:00",
          "2011-07-31T00:00:00",
          "2011-08-31T00:00:00",
          "2011-09-30T00:00:00",
          "2011-10-31T00:00:00",
          "2011-11-30T00:00:00",
          "2011-12-31T00:00:00",
          "2012-01-31T00:00:00",
          "2012-02-29T00:00:00",
          "2012-03-31T00:00:00",
          "2012-04-30T00:00:00",
          "2012-05-31T00:00:00",
          "2012-06-30T00:00:00",
          "2012-07-31T00:00:00",
          "2012-08-31T00:00:00",
          "2012-09-30T00:00:00",
          "2012-10-31T00:00:00",
          "2012-11-30T00:00:00",
          "2012-12-31T00:00:00",
          "2013-01-31T00:00:00",
          "2013-02-28T00:00:00",
          "2013-03-31T00:00:00",
          "2013-04-30T00:00:00",
          "2013-05-31T00:00:00",
          "2013-06-30T00:00:00",
          "2013-07-31T00:00:00",
          "2013-08-31T00:00:00",
          "2013-09-30T00:00:00",
          "2013-10-31T00:00:00",
          "2013-11-30T00:00:00",
          "2013-12-31T00:00:00",
          "2014-01-31T00:00:00",
          "2014-02-28T00:00:00",
          "2014-03-31T00:00:00",
          "2014-04-30T00:00:00",
          "2014-05-31T00:00:00",
          "2014-06-30T00:00:00",
          "2014-07-31T00:00:00",
          "2014-08-31T00:00:00",
          "2014-09-30T00:00:00",
          "2014-10-31T00:00:00",
          "2014-11-30T00:00:00",
          "2014-12-31T00:00:00",
          "2015-01-31T00:00:00",
          "2015-02-28T00:00:00",
          "2015-03-31T00:00:00",
          "2015-04-30T00:00:00",
          "2015-05-31T00:00:00",
          "2015-06-30T00:00:00",
          "2015-07-31T00:00:00",
          "2015-08-31T00:00:00",
          "2015-09-30T00:00:00",
          "2015-10-31T00:00:00",
          "2015-11-30T00:00:00",
          "2015-12-31T00:00:00",
          "2016-01-31T00:00:00",
          "2016-02-29T00:00:00",
          "2016-03-31T00:00:00",
          "2016-04-30T00:00:00",
          "2016-05-31T00:00:00",
          "2016-06-30T00:00:00",
          "2016-07-31T00:00:00",
          "2016-08-31T00:00:00",
          "2016-09-30T00:00:00",
          "2016-10-31T00:00:00",
          "2016-11-30T00:00:00",
          "2016-12-31T00:00:00",
          "2017-01-31T00:00:00",
          "2017-02-28T00:00:00",
          "2017-03-31T00:00:00",
          "2017-04-30T00:00:00",
          "2017-05-31T00:00:00",
          "2017-06-30T00:00:00",
          "2017-07-31T00:00:00",
          "2017-08-31T00:00:00",
          "2017-09-30T00:00:00",
          "2017-10-31T00:00:00",
          "2017-11-30T00:00:00",
          "2017-12-31T00:00:00",
          "2018-01-31T00:00:00",
          "2018-02-28T00:00:00",
          "2018-03-31T00:00:00",
          "2018-04-30T00:00:00",
          "2018-05-31T00:00:00",
          "2018-06-30T00:00:00",
          "2018-07-31T00:00:00",
          "2018-08-31T00:00:00",
          "2018-09-30T00:00:00",
          "2018-10-31T00:00:00",
          "2018-11-30T00:00:00",
          "2018-12-31T00:00:00",
          "2019-01-31T00:00:00",
          "2019-02-28T00:00:00",
          "2019-03-31T00:00:00",
          "2019-04-30T00:00:00",
          "2019-05-31T00:00:00",
          "2019-06-30T00:00:00",
          "2019-07-31T00:00:00",
          "2019-08-31T00:00:00",
          "2019-09-30T00:00:00",
          "2019-10-31T00:00:00",
          "2019-11-30T00:00:00",
          "2019-12-31T00:00:00",
          "2020-01-31T00:00:00",
          "2020-02-29T00:00:00",
          "2020-03-31T00:00:00",
          "2020-04-30T00:00:00",
          "2020-05-31T00:00:00",
          "2020-06-30T00:00:00",
          "2020-07-31T00:00:00",
          "2020-08-31T00:00:00",
          "2020-09-30T00:00:00",
          "2020-10-31T00:00:00",
          "2020-11-30T00:00:00",
          "2020-12-31T00:00:00",
          "2021-01-31T00:00:00",
          "2021-02-28T00:00:00",
          "2021-03-31T00:00:00",
          "2021-04-30T00:00:00",
          "2021-05-31T00:00:00",
          "2021-06-30T00:00:00",
          "2021-07-31T00:00:00",
          "2021-08-31T00:00:00",
          "2021-09-30T00:00:00",
          "2021-10-31T00:00:00",
          "2021-11-30T00:00:00",
          "2021-12-31T00:00:00",
          "2022-01-31T00:00:00",
          "2022-02-28T00:00:00",
          "2022-03-31T00:00:00",
          "2022-04-30T00:00:00",
          "2022-05-31T00:00:00",
          "2022-06-30T00:00:00",
          "2022-07-31T00:00:00",
          "2022-08-31T00:00:00",
          "2022-09-30T00:00:00",
          "2022-10-31T00:00:00",
          "2022-11-30T00:00:00",
          "2022-12-31T00:00:00",
          "2023-01-31T00:00:00",
          "2023-02-28T00:00:00",
          "2023-03-31T00:00:00",
          "2023-04-30T00:00:00",
          "2023-05-31T00:00:00",
          "2023-06-30T00:00:00",
          "2023-07-31T00:00:00",
          "2023-08-31T00:00:00",
          "2023-09-30T00:00:00",
          "2023-10-31T00:00:00"
         ],
         "y": [
          8.979405794834275,
          22.638708040802328,
          31.418421261749145,
          24.27913748243768,
          29.519048411104936,
          25.421935211043213,
          17.24726875667354,
          14.194784267179562,
          18.289310465397197,
          11.17249732474376,
          8.73154730187787,
          11.094210200560985,
          9.322634011251562,
          1.3060731909634715,
          -6.238662627475789,
          -9.30513981552625,
          -10.116465087127631,
          -7.06506780640489,
          -1.6090255640691553,
          6.887675087006291,
          9.540105031208208,
          11.765248146555779,
          9.925971951901209,
          6.05651201165781,
          3.951838964159155,
          12.411413041129991,
          20.095178051194644,
          19.984537019807625,
          18.402449503719016,
          13.878409082848938,
          13.221897553872969,
          8.815004456826683,
          12.377357320560417,
          11.843318154041672,
          6.482748824560469,
          7.4579972224123185,
          8.203717485940833,
          5.872105707944156,
          5.120150675424853,
          6.870889729591839,
          9.629182831413893,
          9.543407047224536,
          8.480751485288605,
          6.650863602600735,
          3.770428369663896,
          6.6230794404838855,
          6.999956152175342,
          9.102038517908763,
          7.705116478427793,
          7.95067665515829,
          8.595636542153256,
          9.327854391501885,
          8.502837988380094,
          7.986973290335421,
          7.77480962110186,
          7.433253608332384,
          4.135417243751814,
          1.8518492006884102,
          2.502688775482486,
          0.9223706516242794,
          -0.026354664255855666,
          1.1330383877659873,
          1.1740785431690095,
          0.9494056962810472,
          0.2561867555417621,
          -1.2048933714972379,
          -1.612534233408917,
          0.3545750549311889,
          6.262284285449363,
          11.587341093026268,
          11.123725348523946,
          17.156873201343235,
          17.42132504991274,
          12.805268010457862,
          14.227241822481908,
          15.597371192528483,
          16.52997215204627,
          24.03661440954201,
          26.800007465057305,
          26.818471192801013,
          24.083829484379113,
          23.711809199558868,
          22.46815621645636,
          28.12057762822202,
          19.44756850695096,
          17.260520273838495,
          16.592981337034466,
          21.524070956694807,
          21.61272820346442,
          22.230044743419647,
          21.72513234232015,
          22.7550640635534,
          21.929584458150945,
          19.467904921409744,
          22.753473530038505,
          26.137998985642557,
          34.76574288959984,
          34.568296524162456,
          39.51468814558728,
          31.95631485510488,
          30.561306006417077,
          29.294639035154617,
          27.930598931400162,
          31.703009714084153,
          37.09241332174401,
          35.234767749739554,
          37.621880890260954,
          26.05220159853001,
          18.14756372266535,
          17.760404779425766,
          8.876972301936362,
          10.16709288981068,
          14.091832309437704,
          20.98319318840519,
          22.946981651793525,
          24.523201403485857,
          18.48782745870571,
          18.395052964587904,
          17.008582207925635,
          16.548857058727467,
          20.179087094127258,
          24.051807597011976,
          27.314155714302796,
          22.96649722925345,
          22.568091008540126,
          19.232648171270323,
          15.87237167195866,
          12.156102084310211,
          12.086580258965704,
          12.330898391181066,
          9.404134041522626,
          8.375831225644598,
          9.084414935223117,
          8.944062361330515,
          10.35612242996134,
          10.448686769540462,
          2.235756618003149,
          -5.853369378238823,
          -4.191358966371864,
          -5.80627319247914,
          -15.623962475484552,
          -19.41405344551656,
          -13.127239135648665,
          -13.194791123684043,
          -12.95760405917986,
          -19.200066159164543,
          -27.875975209915293,
          -22.861134812291983,
          -19.434098106698222,
          -13.058619982031024,
          -16.401686482806983,
          -12.304276229467556,
          -3.334460126013255,
          -3.817083999429112,
          -9.20857822019454,
          -13.531151038370426,
          -15.577369567674666,
          -16.7731735085814,
          -13.27272070699055,
          -12.062549091312693,
          -12.125795378041518,
          -12.910815198998124,
          -16.341768227700655,
          -22.145596408693873,
          -19.371596233726862,
          -24.258600815564446,
          -16.378916782235663,
          -4.659197473753786,
          -0.11579598531193304,
          0.2734366455954052,
          11.346040760394592,
          15.739580962071617,
          6.228759892614445,
          16.726078297517674,
          26.875520115827133,
          22.16058862958696,
          22.761976904353194,
          25.31443426161995,
          25.958993460555465,
          18.738795489664938,
          16.90356037812331,
          11.344895317182791,
          16.8726965146483,
          10.594711894198195,
          7.99615990784539,
          8.1138575776365,
          6.996403982536275,
          9.569090820153914,
          6.791596386562773,
          3.4224774500391892,
          5.7717783516310535,
          4.170781285127603,
          5.822978705013825,
          10.599823084416547,
          8.070946175155676,
          6.125881213198859,
          6.552147561677782,
          8.55956229063278,
          8.738202641645579,
          6.037059266826907,
          4.887536134537091,
          7.510238663761953,
          9.685206605797719,
          7.611060316908602,
          3.280769886480841,
          3.7595880564982007,
          8.658056707179192,
          11.335953319502133,
          15.585630195845837,
          9.902083299180378,
          4.4387938109387175,
          10.684889824530297,
          7.977219050028478,
          11.443181141670811,
          15.084522320268148,
          17.629841581742717,
          17.514163302283233,
          11.649396446547993,
          12.772749515987964,
          13.20713561269992,
          7.590735121046074,
          7.925495126752775,
          2.1979182167869817,
          -1.4396638448144006,
          -6.993417129763984,
          -6.543126953890111,
          -6.061128004640191,
          -11.022203704779981,
          -14.253521352821084,
          -13.393979768742899,
          -18.087530862082335,
          -31.755129542413496,
          -38.55100252585847,
          -35.070855332800754,
          -35.5653827140161,
          -44.602166652070686,
          -35.552076275527604,
          -35.78784977326616,
          -36.44245838814744,
          -26.744508222481812,
          -23.143755813039505,
          -13.049746520105158,
          -7.758275031307518,
          3.4754803218703394,
          12.038698873542574,
          20.13982420993975,
          23.375730815663196,
          40.31472263637176,
          31.04896099609728,
          34.54317132534872,
          24.79390991441902,
          18.847931131269362,
          11.53116885328261,
          4.366734912679229,
          -0.8616088080340434,
          10.727954048877567,
          9.103663067359072,
          9.334450682615477,
          11.977241058716736,
          17.834040639313486,
          18.75723006946823,
          12.737489530551207,
          14.845645256750874,
          20.216887309410634,
          18.054252505071364,
          15.940518736765856,
          8.111571255863325,
          3.820447024679734,
          3.643346593629502,
          0.30555491709432614,
          0.8452718240061379,
          2.859657660020995,
          3.6162365683480506,
          4.184001890399851,
          1.117599649715068,
          0.5481881054821575,
          4.069612377646412,
          8.262052627426145,
          16.44884416494355,
          16.672957112141823,
          16.026186601657443,
          16.000609628828315,
          12.906390923774092,
          11.078691911039407,
          10.454184844147631,
          8.664360822717507,
          14.96202639222344,
          16.42798829674567,
          17.09689558949266,
          16.358783900618057,
          13.566735134616124,
          21.01656830861016,
          13.844599233547214,
          15.342620001317686,
          13.122445508923862,
          17.76517837264499,
          14.87356327756602,
          18.898552079294017,
          13.713920846158713,
          11.31612001919214,
          10.64806934048135,
          13.248600663530295,
          14.790794575178866,
          9.406675537172411,
          14.674121011209051,
          17.631025251692126,
          15.543918123172661,
          13.90228097876549,
          11.113189322037952,
          11.090036983925613,
          11.426707138099509,
          8.743798400483525,
          6.439145868959412,
          4.588726012427597,
          0.8868480171613835,
          -0.10383968246924592,
          0.9522241942087981,
          0.24917724655053358,
          -0.5677608517838236,
          -2.5368220443855902,
          -2.882659779236561,
          -1.730660353239064,
          -0.8900465020886061,
          -0.2517452256770886,
          0.8727562868027094,
          3.7129789009381904,
          6.448766274248328,
          7.419443404297321,
          5.620373816650573,
          5.565072275201851,
          9.736098496190294,
          14.763493019671916,
          14.402411568964938,
          12.51710125341515,
          15.735409247139977,
          15.708084639063767,
          15.12899381355838,
          11.335743265976143,
          13.512195090185646,
          15.606842410034433,
          14.728097947522137,
          17.62123253063724,
          21.75015597531647,
          19.250775032521325,
          16.51789417431753,
          12.330235095405323,
          10.943366001587163,
          10.72017975786082,
          12.070827520322284,
          13.551021687811936,
          15.64216562343874,
          10.899407574442725,
          7.494848228339773,
          1.8046074131997907,
          -2.2062250450569416,
          -1.1803613690350843,
          2.7903737744685344,
          6.3067570350010005,
          5.416122407747738,
          5.030343246032679,
          5.614520508414522,
          3.8986206660357765,
          3.1160074663652004,
          3.0099370659916365,
          9.533461676392509,
          17.9939097394147,
          23.7787770106947,
          13.597420172039861,
          2.9379249541867667,
          -5.199877254791656,
          4.138862450321028,
          7.279295808749767,
          6.030228347236809,
          10.38162498535641,
          9.919554092685297,
          6.490596142516276,
          7.665763973400273,
          13.46996879237865,
          13.809536564403546,
          18.138751637539393,
          31.95500706475768,
          43.25489442013792,
          40.06660933775154,
          37.04358985741219,
          24.347117166986383,
          -5.345313256755152,
          14.332368531472609,
          21.615663517659833,
          28.931988887267895,
          26.790746760308416,
          26.792264203284834,
          19.028861495960157,
          25.074864223304264,
          8.20139903726179,
          -3.1873585852098256,
          -2.1190324183336298,
          -15.638740269366776,
          -11.841934283421324,
          -9.201348359301257,
          -19.838652348020823,
          -15.039940931459869,
          -7.749804725159058,
          -18.079185263519445,
          -7.191372716131314,
          -10.523011560485052,
          -4.630488212271457,
          -0.651670816621717,
          4.763028330995592,
          9.24172212599648,
          8.070121728006969
         ]
        },
        {
         "line": {
          "color": "lightgreen",
          "dash": "dot"
         },
         "mode": "lines",
         "name": "Future",
         "type": "scatter",
         "x": [
          "2023-10-31T00:00:00",
          "2023-11-30T00:00:00",
          "2023-12-31T00:00:00",
          "2024-01-31T00:00:00",
          "2024-02-29T00:00:00",
          "2024-03-31T00:00:00",
          "2024-04-30T00:00:00"
         ],
         "y": [
          8.070121728006969,
          8.688359204506162,
          6.537457389456815,
          5.810862929122073,
          7.663593654011029,
          4.8003993507072416,
          4.2379967419114655
         ]
        }
       ],
       "layout": {
        "height": 400,
        "hovermode": "x unified",
        "legend": {
         "orientation": "h",
         "x": 0,
         "xanchor": "left",
         "y": 0.05,
         "yanchor": "bottom"
        },
        "margin": {
         "b": 40,
         "l": 80,
         "r": 40,
         "t": 80
        },
        "template": {
         "data": {
          "bar": [
           {
            "error_x": {
             "color": "#f2f5fa"
            },
            "error_y": {
             "color": "#f2f5fa"
            },
            "marker": {
             "line": {
              "color": "rgb(17,17,17)",
              "width": 0.5
             },
             "pattern": {
              "fillmode": "overlay",
              "size": 10,
              "solidity": 0.2
             }
            },
            "type": "bar"
           }
          ],
          "barpolar": [
           {
            "marker": {
             "line": {
              "color": "rgb(17,17,17)",
              "width": 0.5
             },
             "pattern": {
              "fillmode": "overlay",
              "size": 10,
              "solidity": 0.2
             }
            },
            "type": "barpolar"
           }
          ],
          "carpet": [
           {
            "aaxis": {
             "endlinecolor": "#A2B1C6",
             "gridcolor": "#506784",
             "linecolor": "#506784",
             "minorgridcolor": "#506784",
             "startlinecolor": "#A2B1C6"
            },
            "baxis": {
             "endlinecolor": "#A2B1C6",
             "gridcolor": "#506784",
             "linecolor": "#506784",
             "minorgridcolor": "#506784",
             "startlinecolor": "#A2B1C6"
            },
            "type": "carpet"
           }
          ],
          "choropleth": [
           {
            "colorbar": {
             "outlinewidth": 0,
             "ticks": ""
            },
            "type": "choropleth"
           }
          ],
          "contour": [
           {
            "colorbar": {
             "outlinewidth": 0,
             "ticks": ""
            },
            "colorscale": [
             [
              0,
              "#0d0887"
             ],
             [
              0.1111111111111111,
              "#46039f"
             ],
             [
              0.2222222222222222,
              "#7201a8"
             ],
             [
              0.3333333333333333,
              "#9c179e"
             ],
             [
              0.4444444444444444,
              "#bd3786"
             ],
             [
              0.5555555555555556,
              "#d8576b"
             ],
             [
              0.6666666666666666,
              "#ed7953"
             ],
             [
              0.7777777777777778,
              "#fb9f3a"
             ],
             [
              0.8888888888888888,
              "#fdca26"
             ],
             [
              1,
              "#f0f921"
             ]
            ],
            "type": "contour"
           }
          ],
          "contourcarpet": [
           {
            "colorbar": {
             "outlinewidth": 0,
             "ticks": ""
            },
            "type": "contourcarpet"
           }
          ],
          "heatmap": [
           {
            "colorbar": {
             "outlinewidth": 0,
             "ticks": ""
            },
            "colorscale": [
             [
              0,
              "#0d0887"
             ],
             [
              0.1111111111111111,
              "#46039f"
             ],
             [
              0.2222222222222222,
              "#7201a8"
             ],
             [
              0.3333333333333333,
              "#9c179e"
             ],
             [
              0.4444444444444444,
              "#bd3786"
             ],
             [
              0.5555555555555556,
              "#d8576b"
             ],
             [
              0.6666666666666666,
              "#ed7953"
             ],
             [
              0.7777777777777778,
              "#fb9f3a"
             ],
             [
              0.8888888888888888,
              "#fdca26"
             ],
             [
              1,
              "#f0f921"
             ]
            ],
            "type": "heatmap"
           }
          ],
          "heatmapgl": [
           {
            "colorbar": {
             "outlinewidth": 0,
             "ticks": ""
            },
            "colorscale": [
             [
              0,
              "#0d0887"
             ],
             [
              0.1111111111111111,
              "#46039f"
             ],
             [
              0.2222222222222222,
              "#7201a8"
             ],
             [
              0.3333333333333333,
              "#9c179e"
             ],
             [
              0.4444444444444444,
              "#bd3786"
             ],
             [
              0.5555555555555556,
              "#d8576b"
             ],
             [
              0.6666666666666666,
              "#ed7953"
             ],
             [
              0.7777777777777778,
              "#fb9f3a"
             ],
             [
              0.8888888888888888,
              "#fdca26"
             ],
             [
              1,
              "#f0f921"
             ]
            ],
            "type": "heatmapgl"
           }
          ],
          "histogram": [
           {
            "marker": {
             "pattern": {
              "fillmode": "overlay",
              "size": 10,
              "solidity": 0.2
             }
            },
            "type": "histogram"
           }
          ],
          "histogram2d": [
           {
            "colorbar": {
             "outlinewidth": 0,
             "ticks": ""
            },
            "colorscale": [
             [
              0,
              "#0d0887"
             ],
             [
              0.1111111111111111,
              "#46039f"
             ],
             [
              0.2222222222222222,
              "#7201a8"
             ],
             [
              0.3333333333333333,
              "#9c179e"
             ],
             [
              0.4444444444444444,
              "#bd3786"
             ],
             [
              0.5555555555555556,
              "#d8576b"
             ],
             [
              0.6666666666666666,
              "#ed7953"
             ],
             [
              0.7777777777777778,
              "#fb9f3a"
             ],
             [
              0.8888888888888888,
              "#fdca26"
             ],
             [
              1,
              "#f0f921"
             ]
            ],
            "type": "histogram2d"
           }
          ],
          "histogram2dcontour": [
           {
            "colorbar": {
             "outlinewidth": 0,
             "ticks": ""
            },
            "colorscale": [
             [
              0,
              "#0d0887"
             ],
             [
              0.1111111111111111,
              "#46039f"
             ],
             [
              0.2222222222222222,
              "#7201a8"
             ],
             [
              0.3333333333333333,
              "#9c179e"
             ],
             [
              0.4444444444444444,
              "#bd3786"
             ],
             [
              0.5555555555555556,
              "#d8576b"
             ],
             [
              0.6666666666666666,
              "#ed7953"
             ],
             [
              0.7777777777777778,
              "#fb9f3a"
             ],
             [
              0.8888888888888888,
              "#fdca26"
             ],
             [
              1,
              "#f0f921"
             ]
            ],
            "type": "histogram2dcontour"
           }
          ],
          "mesh3d": [
           {
            "colorbar": {
             "outlinewidth": 0,
             "ticks": ""
            },
            "type": "mesh3d"
           }
          ],
          "parcoords": [
           {
            "line": {
             "colorbar": {
              "outlinewidth": 0,
              "ticks": ""
             }
            },
            "type": "parcoords"
           }
          ],
          "pie": [
           {
            "automargin": true,
            "type": "pie"
           }
          ],
          "scatter": [
           {
            "marker": {
             "line": {
              "color": "#283442"
             }
            },
            "type": "scatter"
           }
          ],
          "scatter3d": [
           {
            "line": {
             "colorbar": {
              "outlinewidth": 0,
              "ticks": ""
             }
            },
            "marker": {
             "colorbar": {
              "outlinewidth": 0,
              "ticks": ""
             }
            },
            "type": "scatter3d"
           }
          ],
          "scattercarpet": [
           {
            "marker": {
             "colorbar": {
              "outlinewidth": 0,
              "ticks": ""
             }
            },
            "type": "scattercarpet"
           }
          ],
          "scattergeo": [
           {
            "marker": {
             "colorbar": {
              "outlinewidth": 0,
              "ticks": ""
             }
            },
            "type": "scattergeo"
           }
          ],
          "scattergl": [
           {
            "marker": {
             "line": {
              "color": "#283442"
             }
            },
            "type": "scattergl"
           }
          ],
          "scattermapbox": [
           {
            "marker": {
             "colorbar": {
              "outlinewidth": 0,
              "ticks": ""
             }
            },
            "type": "scattermapbox"
           }
          ],
          "scatterpolar": [
           {
            "marker": {
             "colorbar": {
              "outlinewidth": 0,
              "ticks": ""
             }
            },
            "type": "scatterpolar"
           }
          ],
          "scatterpolargl": [
           {
            "marker": {
             "colorbar": {
              "outlinewidth": 0,
              "ticks": ""
             }
            },
            "type": "scatterpolargl"
           }
          ],
          "scatterternary": [
           {
            "marker": {
             "colorbar": {
              "outlinewidth": 0,
              "ticks": ""
             }
            },
            "type": "scatterternary"
           }
          ],
          "surface": [
           {
            "colorbar": {
             "outlinewidth": 0,
             "ticks": ""
            },
            "colorscale": [
             [
              0,
              "#0d0887"
             ],
             [
              0.1111111111111111,
              "#46039f"
             ],
             [
              0.2222222222222222,
              "#7201a8"
             ],
             [
              0.3333333333333333,
              "#9c179e"
             ],
             [
              0.4444444444444444,
              "#bd3786"
             ],
             [
              0.5555555555555556,
              "#d8576b"
             ],
             [
              0.6666666666666666,
              "#ed7953"
             ],
             [
              0.7777777777777778,
              "#fb9f3a"
             ],
             [
              0.8888888888888888,
              "#fdca26"
             ],
             [
              1,
              "#f0f921"
             ]
            ],
            "type": "surface"
           }
          ],
          "table": [
           {
            "cells": {
             "fill": {
              "color": "#506784"
             },
             "line": {
              "color": "rgb(17,17,17)"
             }
            },
            "header": {
             "fill": {
              "color": "#2a3f5f"
             },
             "line": {
              "color": "rgb(17,17,17)"
             }
            },
            "type": "table"
           }
          ]
         },
         "layout": {
          "annotationdefaults": {
           "arrowcolor": "#f2f5fa",
           "arrowhead": 0,
           "arrowwidth": 1
          },
          "autotypenumbers": "strict",
          "coloraxis": {
           "colorbar": {
            "outlinewidth": 0,
            "ticks": ""
           }
          },
          "colorscale": {
           "diverging": [
            [
             0,
             "#8e0152"
            ],
            [
             0.1,
             "#c51b7d"
            ],
            [
             0.2,
             "#de77ae"
            ],
            [
             0.3,
             "#f1b6da"
            ],
            [
             0.4,
             "#fde0ef"
            ],
            [
             0.5,
             "#f7f7f7"
            ],
            [
             0.6,
             "#e6f5d0"
            ],
            [
             0.7,
             "#b8e186"
            ],
            [
             0.8,
             "#7fbc41"
            ],
            [
             0.9,
             "#4d9221"
            ],
            [
             1,
             "#276419"
            ]
           ],
           "sequential": [
            [
             0,
             "#0d0887"
            ],
            [
             0.1111111111111111,
             "#46039f"
            ],
            [
             0.2222222222222222,
             "#7201a8"
            ],
            [
             0.3333333333333333,
             "#9c179e"
            ],
            [
             0.4444444444444444,
             "#bd3786"
            ],
            [
             0.5555555555555556,
             "#d8576b"
            ],
            [
             0.6666666666666666,
             "#ed7953"
            ],
            [
             0.7777777777777778,
             "#fb9f3a"
            ],
            [
             0.8888888888888888,
             "#fdca26"
            ],
            [
             1,
             "#f0f921"
            ]
           ],
           "sequentialminus": [
            [
             0,
             "#0d0887"
            ],
            [
             0.1111111111111111,
             "#46039f"
            ],
            [
             0.2222222222222222,
             "#7201a8"
            ],
            [
             0.3333333333333333,
             "#9c179e"
            ],
            [
             0.4444444444444444,
             "#bd3786"
            ],
            [
             0.5555555555555556,
             "#d8576b"
            ],
            [
             0.6666666666666666,
             "#ed7953"
            ],
            [
             0.7777777777777778,
             "#fb9f3a"
            ],
            [
             0.8888888888888888,
             "#fdca26"
            ],
            [
             1,
             "#f0f921"
            ]
           ]
          },
          "colorway": [
           "#636efa",
           "#EF553B",
           "#00cc96",
           "#ab63fa",
           "#FFA15A",
           "#19d3f3",
           "#FF6692",
           "#B6E880",
           "#FF97FF",
           "#FECB52"
          ],
          "font": {
           "color": "#f2f5fa"
          },
          "geo": {
           "bgcolor": "rgb(17,17,17)",
           "lakecolor": "rgb(17,17,17)",
           "landcolor": "rgb(17,17,17)",
           "showlakes": true,
           "showland": true,
           "subunitcolor": "#506784"
          },
          "hoverlabel": {
           "align": "left"
          },
          "hovermode": "closest",
          "mapbox": {
           "style": "dark"
          },
          "paper_bgcolor": "rgb(17,17,17)",
          "plot_bgcolor": "rgb(17,17,17)",
          "polar": {
           "angularaxis": {
            "gridcolor": "#506784",
            "linecolor": "#506784",
            "ticks": ""
           },
           "bgcolor": "rgb(17,17,17)",
           "radialaxis": {
            "gridcolor": "#506784",
            "linecolor": "#506784",
            "ticks": ""
           }
          },
          "scene": {
           "xaxis": {
            "backgroundcolor": "rgb(17,17,17)",
            "gridcolor": "#506784",
            "gridwidth": 2,
            "linecolor": "#506784",
            "showbackground": true,
            "ticks": "",
            "zerolinecolor": "#C8D4E3"
           },
           "yaxis": {
            "backgroundcolor": "rgb(17,17,17)",
            "gridcolor": "#506784",
            "gridwidth": 2,
            "linecolor": "#506784",
            "showbackground": true,
            "ticks": "",
            "zerolinecolor": "#C8D4E3"
           },
           "zaxis": {
            "backgroundcolor": "rgb(17,17,17)",
            "gridcolor": "#506784",
            "gridwidth": 2,
            "linecolor": "#506784",
            "showbackground": true,
            "ticks": "",
            "zerolinecolor": "#C8D4E3"
           }
          },
          "shapedefaults": {
           "line": {
            "color": "#f2f5fa"
           }
          },
          "sliderdefaults": {
           "bgcolor": "#C8D4E3",
           "bordercolor": "rgb(17,17,17)",
           "borderwidth": 1,
           "tickwidth": 0
          },
          "ternary": {
           "aaxis": {
            "gridcolor": "#506784",
            "linecolor": "#506784",
            "ticks": ""
           },
           "baxis": {
            "gridcolor": "#506784",
            "linecolor": "#506784",
            "ticks": ""
           },
           "bgcolor": "rgb(17,17,17)",
           "caxis": {
            "gridcolor": "#506784",
            "linecolor": "#506784",
            "ticks": ""
           }
          },
          "title": {
           "x": 0.05
          },
          "updatemenudefaults": {
           "bgcolor": "#506784",
           "borderwidth": 0
          },
          "xaxis": {
           "automargin": true,
           "gridcolor": "#283442",
           "linecolor": "#506784",
           "ticks": "",
           "title": {
            "standoff": 15
           },
           "zerolinecolor": "#283442",
           "zerolinewidth": 2
          },
          "yaxis": {
           "automargin": true,
           "gridcolor": "#283442",
           "linecolor": "#506784",
           "ticks": "",
           "title": {
            "standoff": 15
           },
           "zerolinecolor": "#283442",
           "zerolinewidth": 2
          }
         }
        },
        "title": {
         "text": "Prediction of %YoY S&P500 in 6-Month Based on Current Data<br><span style=\"font-size: 12.5px; color: lightgrey;\"> --Model predicts 2-month moving averaged target prices</span>"
        },
        "width": 700
       }
      }
     },
     "metadata": {},
     "output_type": "display_data"
    },
    {
     "data": {
      "application/vnd.plotly.v1+json": {
       "config": {
        "plotlyServerURL": "https://plot.ly"
       },
       "data": [
        {
         "hoverinfo": "name+y+text",
         "marker": {
          "color": "red",
          "opacity": 0.5
         },
         "mode": "markers",
         "name": "Error",
         "text": [
          "Date: Sep 1989",
          "Date: Oct 1989",
          "Date: Nov 1989",
          "Date: Dec 1989",
          "Date: Jan 1990",
          "Date: Feb 1990",
          "Date: Mar 1990",
          "Date: Apr 1990",
          "Date: May 1990",
          "Date: Jun 1990",
          "Date: Jul 1990",
          "Date: Aug 1990",
          "Date: Sep 1990",
          "Date: Oct 1990",
          "Date: Nov 1990",
          "Date: Dec 1990",
          "Date: Jan 1991",
          "Date: Feb 1991",
          "Date: Mar 1991",
          "Date: Apr 1991",
          "Date: May 1991",
          "Date: Jun 1991",
          "Date: Jul 1991",
          "Date: Aug 1991",
          "Date: Sep 1991",
          "Date: Oct 1991",
          "Date: Nov 1991",
          "Date: Dec 1991",
          "Date: Jan 1992",
          "Date: Feb 1992",
          "Date: Mar 1992",
          "Date: Apr 1992",
          "Date: May 1992",
          "Date: Jun 1992",
          "Date: Jul 1992",
          "Date: Aug 1992",
          "Date: Sep 1992",
          "Date: Oct 1992",
          "Date: Nov 1992",
          "Date: Dec 1992",
          "Date: Jan 1993",
          "Date: Feb 1993",
          "Date: Mar 1993",
          "Date: Apr 1993",
          "Date: May 1993",
          "Date: Jun 1993",
          "Date: Jul 1993",
          "Date: Aug 1993",
          "Date: Sep 1993",
          "Date: Oct 1993",
          "Date: Nov 1993",
          "Date: Dec 1993",
          "Date: Jan 1994",
          "Date: Feb 1994",
          "Date: Mar 1994",
          "Date: Apr 1994",
          "Date: May 1994",
          "Date: Jun 1994",
          "Date: Jul 1994",
          "Date: Aug 1994",
          "Date: Sep 1994",
          "Date: Oct 1994",
          "Date: Nov 1994",
          "Date: Dec 1994",
          "Date: Jan 1995",
          "Date: Feb 1995",
          "Date: Mar 1995",
          "Date: Apr 1995",
          "Date: May 1995",
          "Date: Jun 1995",
          "Date: Jul 1995",
          "Date: Aug 1995",
          "Date: Sep 1995",
          "Date: Oct 1995",
          "Date: Nov 1995",
          "Date: Dec 1995",
          "Date: Jan 1996",
          "Date: Feb 1996",
          "Date: Mar 1996",
          "Date: Apr 1996",
          "Date: May 1996",
          "Date: Jun 1996",
          "Date: Jul 1996",
          "Date: Aug 1996",
          "Date: Sep 1996",
          "Date: Oct 1996",
          "Date: Nov 1996",
          "Date: Dec 1996",
          "Date: Jan 1997",
          "Date: Feb 1997",
          "Date: Mar 1997",
          "Date: Apr 1997",
          "Date: May 1997",
          "Date: Jun 1997",
          "Date: Jul 1997",
          "Date: Aug 1997",
          "Date: Sep 1997",
          "Date: Oct 1997",
          "Date: Nov 1997",
          "Date: Dec 1997",
          "Date: Jan 1998",
          "Date: Feb 1998",
          "Date: Mar 1998",
          "Date: Apr 1998",
          "Date: May 1998",
          "Date: Jun 1998",
          "Date: Jul 1998",
          "Date: Aug 1998",
          "Date: Sep 1998",
          "Date: Oct 1998",
          "Date: Nov 1998",
          "Date: Dec 1998",
          "Date: Jan 1999",
          "Date: Feb 1999",
          "Date: Mar 1999",
          "Date: Apr 1999",
          "Date: May 1999",
          "Date: Jun 1999",
          "Date: Jul 1999",
          "Date: Aug 1999",
          "Date: Sep 1999",
          "Date: Oct 1999",
          "Date: Nov 1999",
          "Date: Dec 1999",
          "Date: Jan 2000",
          "Date: Feb 2000",
          "Date: Mar 2000",
          "Date: Apr 2000",
          "Date: May 2000",
          "Date: Jun 2000",
          "Date: Jul 2000",
          "Date: Aug 2000",
          "Date: Sep 2000",
          "Date: Oct 2000",
          "Date: Nov 2000",
          "Date: Dec 2000",
          "Date: Jan 2001",
          "Date: Feb 2001",
          "Date: Mar 2001",
          "Date: Apr 2001",
          "Date: May 2001",
          "Date: Jun 2001",
          "Date: Jul 2001",
          "Date: Aug 2001",
          "Date: Sep 2001",
          "Date: Oct 2001",
          "Date: Nov 2001",
          "Date: Dec 2001",
          "Date: Jan 2002",
          "Date: Feb 2002",
          "Date: Mar 2002",
          "Date: Apr 2002",
          "Date: May 2002",
          "Date: Jun 2002",
          "Date: Jul 2002",
          "Date: Aug 2002",
          "Date: Sep 2002",
          "Date: Oct 2002",
          "Date: Nov 2002",
          "Date: Dec 2002",
          "Date: Jan 2003",
          "Date: Feb 2003",
          "Date: Mar 2003",
          "Date: Apr 2003",
          "Date: May 2003",
          "Date: Jun 2003",
          "Date: Jul 2003",
          "Date: Aug 2003",
          "Date: Sep 2003",
          "Date: Oct 2003",
          "Date: Nov 2003",
          "Date: Dec 2003",
          "Date: Jan 2004",
          "Date: Feb 2004",
          "Date: Mar 2004",
          "Date: Apr 2004",
          "Date: May 2004",
          "Date: Jun 2004",
          "Date: Jul 2004",
          "Date: Aug 2004",
          "Date: Sep 2004",
          "Date: Oct 2004",
          "Date: Nov 2004",
          "Date: Dec 2004",
          "Date: Jan 2005",
          "Date: Feb 2005",
          "Date: Mar 2005",
          "Date: Apr 2005",
          "Date: May 2005",
          "Date: Jun 2005",
          "Date: Jul 2005",
          "Date: Aug 2005",
          "Date: Sep 2005",
          "Date: Oct 2005",
          "Date: Nov 2005",
          "Date: Dec 2005",
          "Date: Jan 2006",
          "Date: Feb 2006",
          "Date: Mar 2006",
          "Date: Apr 2006",
          "Date: May 2006",
          "Date: Jun 2006",
          "Date: Jul 2006",
          "Date: Aug 2006",
          "Date: Sep 2006",
          "Date: Oct 2006",
          "Date: Nov 2006",
          "Date: Dec 2006",
          "Date: Jan 2007",
          "Date: Feb 2007",
          "Date: Mar 2007",
          "Date: Apr 2007",
          "Date: May 2007",
          "Date: Jun 2007",
          "Date: Jul 2007",
          "Date: Aug 2007",
          "Date: Sep 2007",
          "Date: Oct 2007",
          "Date: Nov 2007",
          "Date: Dec 2007",
          "Date: Jan 2008",
          "Date: Feb 2008",
          "Date: Mar 2008",
          "Date: Apr 2008",
          "Date: May 2008",
          "Date: Jun 2008",
          "Date: Jul 2008",
          "Date: Aug 2008",
          "Date: Sep 2008",
          "Date: Oct 2008",
          "Date: Nov 2008",
          "Date: Dec 2008",
          "Date: Jan 2009",
          "Date: Feb 2009",
          "Date: Mar 2009",
          "Date: Apr 2009",
          "Date: May 2009",
          "Date: Jun 2009",
          "Date: Jul 2009",
          "Date: Aug 2009",
          "Date: Sep 2009",
          "Date: Oct 2009",
          "Date: Nov 2009",
          "Date: Dec 2009",
          "Date: Jan 2010",
          "Date: Feb 2010",
          "Date: Mar 2010",
          "Date: Apr 2010",
          "Date: May 2010",
          "Date: Jun 2010",
          "Date: Jul 2010",
          "Date: Aug 2010",
          "Date: Sep 2010",
          "Date: Oct 2010",
          "Date: Nov 2010",
          "Date: Dec 2010",
          "Date: Jan 2011",
          "Date: Feb 2011",
          "Date: Mar 2011",
          "Date: Apr 2011",
          "Date: May 2011",
          "Date: Jun 2011",
          "Date: Jul 2011",
          "Date: Aug 2011",
          "Date: Sep 2011",
          "Date: Oct 2011",
          "Date: Nov 2011",
          "Date: Dec 2011",
          "Date: Jan 2012",
          "Date: Feb 2012",
          "Date: Mar 2012",
          "Date: Apr 2012",
          "Date: May 2012",
          "Date: Jun 2012",
          "Date: Jul 2012",
          "Date: Aug 2012",
          "Date: Sep 2012",
          "Date: Oct 2012",
          "Date: Nov 2012",
          "Date: Dec 2012",
          "Date: Jan 2013",
          "Date: Feb 2013",
          "Date: Mar 2013",
          "Date: Apr 2013",
          "Date: May 2013",
          "Date: Jun 2013",
          "Date: Jul 2013",
          "Date: Aug 2013",
          "Date: Sep 2013",
          "Date: Oct 2013",
          "Date: Nov 2013",
          "Date: Dec 2013",
          "Date: Jan 2014",
          "Date: Feb 2014",
          "Date: Mar 2014",
          "Date: Apr 2014",
          "Date: May 2014",
          "Date: Jun 2014",
          "Date: Jul 2014",
          "Date: Aug 2014",
          "Date: Sep 2014",
          "Date: Oct 2014",
          "Date: Nov 2014",
          "Date: Dec 2014",
          "Date: Jan 2015",
          "Date: Feb 2015",
          "Date: Mar 2015",
          "Date: Apr 2015",
          "Date: May 2015",
          "Date: Jun 2015",
          "Date: Jul 2015",
          "Date: Aug 2015",
          "Date: Sep 2015",
          "Date: Oct 2015",
          "Date: Nov 2015",
          "Date: Dec 2015",
          "Date: Jan 2016",
          "Date: Feb 2016",
          "Date: Mar 2016",
          "Date: Apr 2016",
          "Date: May 2016",
          "Date: Jun 2016",
          "Date: Jul 2016",
          "Date: Aug 2016",
          "Date: Sep 2016",
          "Date: Oct 2016",
          "Date: Nov 2016",
          "Date: Dec 2016",
          "Date: Jan 2017",
          "Date: Feb 2017",
          "Date: Mar 2017",
          "Date: Apr 2017",
          "Date: May 2017",
          "Date: Jun 2017",
          "Date: Jul 2017",
          "Date: Aug 2017",
          "Date: Sep 2017",
          "Date: Oct 2017",
          "Date: Nov 2017",
          "Date: Dec 2017",
          "Date: Jan 2018",
          "Date: Feb 2018",
          "Date: Mar 2018",
          "Date: Apr 2018",
          "Date: May 2018",
          "Date: Jun 2018",
          "Date: Jul 2018",
          "Date: Aug 2018",
          "Date: Sep 2018",
          "Date: Oct 2018",
          "Date: Nov 2018",
          "Date: Dec 2018",
          "Date: Jan 2019",
          "Date: Feb 2019",
          "Date: Mar 2019",
          "Date: Apr 2019",
          "Date: May 2019",
          "Date: Jun 2019",
          "Date: Jul 2019",
          "Date: Aug 2019",
          "Date: Sep 2019",
          "Date: Oct 2019",
          "Date: Nov 2019",
          "Date: Dec 2019",
          "Date: Jan 2020",
          "Date: Feb 2020",
          "Date: Mar 2020",
          "Date: Apr 2020",
          "Date: May 2020",
          "Date: Jun 2020",
          "Date: Jul 2020",
          "Date: Aug 2020",
          "Date: Sep 2020",
          "Date: Oct 2020",
          "Date: Nov 2020",
          "Date: Dec 2020",
          "Date: Jan 2021",
          "Date: Feb 2021",
          "Date: Mar 2021",
          "Date: Apr 2021",
          "Date: May 2021",
          "Date: Jun 2021",
          "Date: Jul 2021",
          "Date: Aug 2021",
          "Date: Sep 2021",
          "Date: Oct 2021",
          "Date: Nov 2021",
          "Date: Dec 2021",
          "Date: Jan 2022",
          "Date: Feb 2022",
          "Date: Mar 2022",
          "Date: Apr 2022",
          "Date: May 2022",
          "Date: Jun 2022",
          "Date: Jul 2022",
          "Date: Aug 2022",
          "Date: Sep 2022",
          "Date: Oct 2022",
          "Date: Nov 2022",
          "Date: Dec 2022",
          "Date: Jan 2023",
          "Date: Feb 2023",
          "Date: Mar 2023",
          "Date: Apr 2023",
          "Date: May 2023",
          "Date: Jun 2023",
          "Date: Jul 2023",
          "Date: Aug 2023",
          "Date: Sep 2023",
          "Date: Oct 2023"
         ],
         "type": "scatter",
         "x": [
          0,
          0.3333333333333333,
          0.6666666666666666,
          1,
          1.3333333333333333,
          1.6666666666666667,
          2,
          2.3333333333333335,
          2.6666666666666665,
          3,
          3.3333333333333335,
          3.6666666666666665,
          4,
          4.333333333333333,
          4.666666666666667,
          5,
          5.333333333333333,
          5.666666666666667,
          6,
          6.333333333333333,
          6.666666666666667,
          7,
          7.333333333333333,
          7.666666666666667,
          8,
          8.333333333333334,
          8.666666666666666,
          9,
          9.333333333333334,
          9.666666666666666,
          10,
          10.333333333333334,
          10.666666666666666,
          11,
          11.333333333333334,
          11.666666666666666,
          12,
          12.333333333333334,
          12.666666666666666,
          13,
          13.333333333333334,
          13.666666666666666,
          14,
          14.333333333333334,
          14.666666666666666,
          15,
          15.333333333333334,
          15.666666666666666,
          16,
          16.333333333333332,
          16.666666666666668,
          17,
          17.333333333333332,
          17.666666666666668,
          18,
          18.333333333333332,
          18.666666666666668,
          19,
          19.333333333333332,
          19.666666666666668,
          20,
          20.333333333333332,
          20.666666666666668,
          21,
          21.333333333333332,
          21.666666666666668,
          22,
          22.333333333333332,
          22.666666666666668,
          23,
          23.333333333333332,
          23.666666666666668,
          24,
          24.333333333333332,
          24.666666666666668,
          25,
          25.333333333333332,
          25.666666666666668,
          26,
          26.333333333333332,
          26.666666666666668,
          27,
          27.333333333333332,
          27.666666666666668,
          28,
          28.333333333333332,
          28.666666666666668,
          29,
          29.333333333333332,
          29.666666666666668,
          30,
          30.333333333333332,
          30.666666666666668,
          31,
          31.333333333333332,
          31.666666666666668,
          32,
          32.333333333333336,
          32.666666666666664,
          33,
          33.333333333333336,
          33.666666666666664,
          34,
          34.333333333333336,
          34.666666666666664,
          35,
          35.333333333333336,
          35.666666666666664,
          36,
          36.333333333333336,
          36.666666666666664,
          37,
          37.333333333333336,
          37.666666666666664,
          38,
          38.333333333333336,
          38.666666666666664,
          39,
          39.333333333333336,
          39.666666666666664,
          40,
          40.333333333333336,
          40.666666666666664,
          41,
          41.333333333333336,
          41.666666666666664,
          42,
          42.333333333333336,
          42.666666666666664,
          43,
          43.333333333333336,
          43.666666666666664,
          44,
          44.333333333333336,
          44.666666666666664,
          45,
          45.333333333333336,
          45.666666666666664,
          46,
          46.333333333333336,
          46.666666666666664,
          47,
          47.333333333333336,
          47.666666666666664,
          48,
          48.333333333333336,
          48.666666666666664,
          49,
          49.333333333333336,
          49.666666666666664,
          50,
          50.333333333333336,
          50.666666666666664,
          51,
          51.333333333333336,
          51.666666666666664,
          52,
          52.333333333333336,
          52.666666666666664,
          53,
          53.333333333333336,
          53.666666666666664,
          54,
          54.333333333333336,
          54.666666666666664,
          55,
          55.333333333333336,
          55.666666666666664,
          56,
          56.333333333333336,
          56.666666666666664,
          57,
          57.333333333333336,
          57.666666666666664,
          58,
          58.333333333333336,
          58.666666666666664,
          59,
          59.333333333333336,
          59.666666666666664,
          60,
          60.333333333333336,
          60.666666666666664,
          61,
          61.333333333333336,
          61.666666666666664,
          62,
          62.333333333333336,
          62.666666666666664,
          63,
          63.333333333333336,
          63.666666666666664,
          64,
          64.33333333333333,
          64.66666666666667,
          65,
          65.33333333333333,
          65.66666666666667,
          66,
          66.33333333333333,
          66.66666666666667,
          67,
          67.33333333333333,
          67.66666666666667,
          68,
          68.33333333333333,
          68.66666666666667,
          69,
          69.33333333333333,
          69.66666666666667,
          70,
          70.33333333333333,
          70.66666666666667,
          71,
          71.33333333333333,
          71.66666666666667,
          72,
          72.33333333333333,
          72.66666666666667,
          73,
          73.33333333333333,
          73.66666666666667,
          74,
          74.33333333333333,
          74.66666666666667,
          75,
          75.33333333333333,
          75.66666666666667,
          76,
          76.33333333333333,
          76.66666666666667,
          77,
          77.33333333333333,
          77.66666666666667,
          78,
          78.33333333333333,
          78.66666666666667,
          79,
          79.33333333333333,
          79.66666666666667,
          80,
          80.33333333333333,
          80.66666666666667,
          81,
          81.33333333333333,
          81.66666666666667,
          82,
          82.33333333333333,
          82.66666666666667,
          83,
          83.33333333333333,
          83.66666666666667,
          84,
          84.33333333333333,
          84.66666666666667,
          85,
          85.33333333333333,
          85.66666666666667,
          86,
          86.33333333333333,
          86.66666666666667,
          87,
          87.33333333333333,
          87.66666666666667,
          88,
          88.33333333333333,
          88.66666666666667,
          89,
          89.33333333333333,
          89.66666666666667,
          90,
          90.33333333333333,
          90.66666666666667,
          91,
          91.33333333333333,
          91.66666666666667,
          92,
          92.33333333333333,
          92.66666666666667,
          93,
          93.33333333333333,
          93.66666666666667,
          94,
          94.33333333333333,
          94.66666666666667,
          95,
          95.33333333333333,
          95.66666666666667,
          96,
          96.33333333333333,
          96.66666666666667,
          97,
          97.33333333333333,
          97.66666666666667,
          98,
          98.33333333333333,
          98.66666666666667,
          99,
          99.33333333333333,
          99.66666666666667,
          100,
          100.33333333333333,
          100.66666666666667,
          101,
          101.33333333333333,
          101.66666666666667,
          102,
          102.33333333333333,
          102.66666666666667,
          103,
          103.33333333333333,
          103.66666666666667,
          104,
          104.33333333333333,
          104.66666666666667,
          105,
          105.33333333333333,
          105.66666666666667,
          106,
          106.33333333333333,
          106.66666666666667,
          107,
          107.33333333333333,
          107.66666666666667,
          108,
          108.33333333333333,
          108.66666666666667,
          109,
          109.33333333333333,
          109.66666666666667,
          110,
          110.33333333333333,
          110.66666666666667,
          111,
          111.33333333333333,
          111.66666666666667,
          112,
          112.33333333333333,
          112.66666666666667,
          113,
          113.33333333333333,
          113.66666666666667,
          114,
          114.33333333333333,
          114.66666666666667,
          115,
          115.33333333333333,
          115.66666666666667,
          116,
          116.33333333333333,
          116.66666666666667,
          117,
          117.33333333333333,
          117.66666666666667,
          118,
          118.33333333333333,
          118.66666666666667,
          119,
          119.33333333333333,
          119.66666666666667,
          120,
          120.33333333333333,
          120.66666666666667,
          121,
          121.33333333333333,
          121.66666666666667,
          122,
          122.33333333333333,
          122.66666666666667,
          123,
          123.33333333333333,
          123.66666666666667,
          124,
          124.33333333333333,
          124.66666666666667,
          125,
          125.33333333333333,
          125.66666666666667,
          126,
          126.33333333333333,
          126.66666666666667,
          127,
          127.33333333333333,
          127.66666666666667,
          128,
          128.33333333333334,
          128.66666666666666,
          129,
          129.33333333333334,
          129.66666666666666,
          130,
          130.33333333333334,
          130.66666666666666,
          131,
          131.33333333333334,
          131.66666666666666,
          132,
          132.33333333333334,
          132.66666666666666,
          133,
          133.33333333333334,
          133.66666666666666,
          134,
          134.33333333333334,
          134.66666666666666,
          135,
          135.33333333333334,
          135.66666666666666,
          136,
          136.33333333333334
         ],
         "y": [
          -21.827282771340112,
          -8.758237812303982,
          6.212221901259213,
          0.0701047127952883,
          2.687755309230436,
          6.483564203934236,
          4.485880146411805,
          -0.895818241107813,
          7.230091523359679,
          1.4050092261837204,
          -3.9150638757615965,
          3.3433533728492684,
          11.977884147799616,
          11.588323672382264,
          5.274871973925046,
          -0.5286696303798593,
          -3.4018272872177135,
          -6.041790176732887,
          -9.165264288139008,
          -3.6014231637091436,
          -2.381211768428919,
          1.0743889812017287,
          4.1321836627143576,
          -0.2233401151271135,
          -11.788490294269653,
          -12.249622497995182,
          -7.817984618810264,
          -2.78735697481045,
          -2.975096637373081,
          -8.70273406664454,
          -2.421330362028657,
          -1.194206301600806,
          3.307031423718204,
          3.2935424480194833,
          -1.7721559450983193,
          -2.2167022890272587,
          1.15882753419654,
          -0.33940576026282,
          -2.08131425339597,
          -3.9505472497260943,
          -0.08256134388297376,
          3.6418199954685164,
          1.0943113149154513,
          -3.008801216981402,
          -5.21358075787722,
          -0.612302279740125,
          -2.3871654280688883,
          1.0896096671859663,
          -1.0956939874496916,
          -2.9529861472327,
          -2.1962130539012037,
          -0.07024029432110446,
          1.4468024543106113,
          -0.4211812909484012,
          0.21481489549968913,
          5.406969726797399,
          3.5708954941040965,
          -0.06662187979286638,
          2.496612234147243,
          0.4868561320860857,
          -2.443387363420523,
          -0.5655687821929449,
          0.2791675952596764,
          1.3433448013938256,
          1.9028549377385597,
          0.7264776330140685,
          -2.6182531247067247,
          -7.975240481321748,
          -6.974671353432845,
          -3.910028102126784,
          -8.60749944099303,
          -5.477013739034344,
          -2.988436563620848,
          -9.42983059440969,
          -10.477473700958903,
          -12.67281958161484,
          -17.241614690682695,
          -10.62000593737342,
          -6.5012352272052,
          -3.3399489651695973,
          -3.9220706944238763,
          -2.5577773066578118,
          -1.807924451472605,
          9.637676474375557,
          4.499976918136049,
          0.4364394891361414,
          -2.8547908108600275,
          -1.6436349160552588,
          -1.0445046898414105,
          0.29512771415448924,
          -1.8192829235895829,
          2.3677222756698377,
          2.0349652366902475,
          -5.168439627773665,
          -6.627433476198064,
          -14.41646446486141,
          -8.774366828465816,
          -3.320651878643588,
          5.7627257406174195,
          4.011791253552229,
          1.954523013731027,
          1.4444568583466832,
          -0.7605491550690573,
          -7.401319516123081,
          -5.035040093750958,
          1.570604993909292,
          9.277277017115516,
          3.2873318150459347,
          6.217753567022633,
          10.866305505138175,
          -4.865122856396873,
          -10.791993981757498,
          -10.139990798359252,
          -7.620206971901968,
          -1.327307969558472,
          7.139528818182534,
          0.06076442576754815,
          -1.3260628176903708,
          -3.1976323713079395,
          -3.267206161243525,
          -8.070062503426403,
          -7.9777512805454585,
          2.2249973912265197,
          1.2600839665071462,
          3.125013523073786,
          4.9832089367842745,
          6.214067318912084,
          -1.264189301530422,
          -0.5526162528999432,
          3.3788679184722277,
          1.860110648286172,
          1.5506254251820337,
          -2.228033165712306,
          -4.52108822707801,
          1.9225053329436754,
          10.672713918323064,
          9.967871403349326,
          0.23632937469646187,
          1.4569034551325437,
          10.10756692061345,
          2.64898041166491,
          -6.6271314245459685,
          0.5859389787047711,
          2.3925907430995697,
          7.370448408029686,
          7.222560381623463,
          -1.178333466737346,
          -3.258676354430097,
          -6.239493734218959,
          2.094071064041911,
          -2.3987124590789293,
          -6.375049176092159,
          4.1277170372104495,
          10.599716363333886,
          7.8823678898526595,
          8.415580053999362,
          6.384575532718166,
          3.660003763877171,
          5.776712399481651,
          5.061594230960036,
          8.47113465958739,
          10.916032945899792,
          7.800505894586202,
          2.8915350045158554,
          1.095722407312408,
          -11.978252985864085,
          -10.753285693211993,
          -8.201262234126846,
          -9.44991474885159,
          -15.82620386597919,
          -9.046634301818644,
          -0.08068885809025161,
          -13.470499783245682,
          -12.557962310859107,
          -7.276330879513065,
          -12.287219329398859,
          -4.009319058058818,
          6.781646327441322,
          9.27307249167751,
          4.579159129055931,
          6.505290285826296,
          0.6171341328432458,
          7.135520494725167,
          1.348981451010923,
          -1.9636167820448183,
          1.4007630311238346,
          2.218327727471408,
          4.593090422089896,
          2.1398829428552677,
          -1.9746297222359837,
          0.3992493325376012,
          -4.0535747248136005,
          -5.4450895429495345,
          0.2189114642062595,
          -0.45148427738909547,
          -0.4950052601971233,
          1.8288236360620411,
          2.8766906675759953,
          1.3546102042140378,
          -2.0041271624109607,
          -6.598051250219055,
          -2.4333367692406735,
          3.077098405597539,
          2.579914584768705,
          -1.8610057167615972,
          -4.016637400901265,
          -2.778090250503789,
          -1.793281172286612,
          2.7273970724671344,
          -3.085373008412491,
          -6.6645283097141625,
          0.8943413615252869,
          -3.440422122304393,
          -5.3658544647242845,
          -4.349528761426955,
          1.4569462346210535,
          3.9931317510698072,
          -2.021693984243761,
          -0.5933978564582034,
          4.112188447398728,
          2.951884435135307,
          8.235812255399622,
          6.980900083179237,
          4.722461618166511,
          -0.2748016766507204,
          0.9757260459858248,
          5.62176599377008,
          2.8617090076249028,
          -1.313576438319883,
          4.892983802731617,
          12.45248641057955,
          6.727292388486422,
          0.4368208389730057,
          4.217379573837249,
          6.858076396030704,
          -2.3847030804884852,
          2.791296647244941,
          -0.10134105539975735,
          -5.170917541435841,
          -1.6129795290871698,
          -1.8813081232533904,
          1.8548959726926082,
          -6.554384918153763,
          -11.128986332010637,
          -10.812091855153929,
          -6.600952729403954,
          -16.76412249682258,
          -8.09594776317504,
          -10.21653850368358,
          7.299706956038779,
          9.473166625214958,
          7.011306748904637,
          4.346328004281892,
          -1.0186463568651911,
          -11.937169133259795,
          -0.24411899003918336,
          -1.1630917386798423,
          -6.939387408888168,
          -7.9881735158097165,
          1.0640932499319504,
          4.615866062565448,
          -6.456697150057154,
          -10.958771380080087,
          -2.502379399765278,
          1.3201214819988003,
          8.289566712487972,
          5.580441870133817,
          -1.951842855171177,
          0.8322702059704516,
          -0.7149211423748068,
          -1.6256924029817772,
          -1.7057776494177754,
          -0.7579951927042656,
          4.2223987707928,
          0.8417234861915706,
          -4.391465648772101,
          -6.997291191753432,
          -13.103617030602264,
          -3.5552775717941074,
          3.5499836017836195,
          2.538035351695477,
          2.2229953685866697,
          0.37646447131725047,
          -0.08194665803720191,
          -2.3926680900475645,
          -10.703322315182332,
          -6.225052512651118,
          -3.6400659114045943,
          -2.057925337482075,
          -0.04874968733463447,
          -6.986641345611908,
          -4.93318151824138,
          -14.712397981247666,
          -8.952634126660547,
          -7.753131796163741,
          -3.275212862295845,
          -3.7488679850847717,
          0.9571261452745006,
          -6.282208430274894,
          -6.966675047640932,
          -7.958333713918094,
          -6.737698265198555,
          -1.2981005297732846,
          -5.284659932240402,
          1.7313641461074507,
          5.9780841012915715,
          2.9969783356666326,
          2.0908922583848444,
          0.5417155690174855,
          0.9625427870476617,
          4.024428383763297,
          1.6348996829766076,
          2.7328691429593324,
          6.692018982880244,
          0.692662043636304,
          -1.9336309756483854,
          1.0047748343693406,
          1.9846644428184654,
          4.897323123091722,
          1.753133015587765,
          -2.201068537823934,
          -0.9984291491558361,
          -1.508758492452713,
          -2.7760765170450648,
          -5.824509214813891,
          -7.790847656268897,
          -1.1408165109822246,
          3.448746015125803,
          -1.9927340937814098,
          -7.92894012680058,
          -10.153926491945043,
          -3.7548422332137044,
          -0.6728252423881376,
          -2.710658805709544,
          0.49650162001573506,
          1.151430210745339,
          1.3783738899423543,
          -3.6858830489514407,
          -5.145474134416393,
          -5.159577284876063,
          -5.18672305781854,
          -4.045112669046748,
          2.3859352876657702,
          5.956689258419033,
          5.098361913229402,
          0.7128859778137997,
          -1.2263224878242145,
          -2.3684596020535924,
          -3.6281832303747787,
          -2.9767418787703406,
          5.1605884135377345,
          6.123300086649478,
          8.487199807874612,
          7.042890545087297,
          -1.3884203339289853,
          -6.14633904530076,
          -6.496383826875231,
          -0.1806656343765507,
          0.4424341724143863,
          -1.9917777430354588,
          2.2715197801726807,
          2.3919690926343025,
          -3.96845351076528,
          -9.89595430890003,
          -11.803881681192575,
          -6.086409035831732,
          11.089718332422866,
          14.956394787045909,
          7.91158010206397,
          -9.942630570867127,
          -3.8652722881017816,
          -0.29275016804680387,
          -8.651851359259943,
          -5.910854895949409,
          -0.39385331163749626,
          -4.986113951316433,
          -8.114970490487561,
          -2.2353249694059496,
          -8.269784579270011,
          -23.22199040475917,
          -16.683714120485526,
          2.424778523360679,
          1.7099298925349586,
          0.5527644705900201,
          -7.439670266035918,
          -33.992423750089344,
          -20.13026319893379,
          -11.855573212668034,
          2.433897710652772,
          2.5573817513688297,
          8.621800890808455,
          4.62883565415445,
          18.647133389563617,
          9.646055151047687,
          3.6268193948439555,
          6.853583789963949,
          -6.348546707683774,
          2.8137161818011904,
          7.1408012080865255,
          -6.5457045089599415,
          0.011994813654427006,
          6.832032590358767,
          -8.602899826970708,
          2.071972160819538,
          -6.329914166566704,
          -5.661815478893963,
          -10.012407088436813,
          -9.573281119131979,
          -3.29764661996634,
          -8.7118258532953
         ]
        },
        {
         "histnorm": "",
         "marker": {
          "color": "grey",
          "opacity": 0.5
         },
         "name": "Distribution",
         "nbinsy": 20,
         "type": "histogram",
         "y": [
          -21.827282771340112,
          -8.758237812303982,
          6.212221901259213,
          0.0701047127952883,
          2.687755309230436,
          6.483564203934236,
          4.485880146411805,
          -0.895818241107813,
          7.230091523359679,
          1.4050092261837204,
          -3.9150638757615965,
          3.3433533728492684,
          11.977884147799616,
          11.588323672382264,
          5.274871973925046,
          -0.5286696303798593,
          -3.4018272872177135,
          -6.041790176732887,
          -9.165264288139008,
          -3.6014231637091436,
          -2.381211768428919,
          1.0743889812017287,
          4.1321836627143576,
          -0.2233401151271135,
          -11.788490294269653,
          -12.249622497995182,
          -7.817984618810264,
          -2.78735697481045,
          -2.975096637373081,
          -8.70273406664454,
          -2.421330362028657,
          -1.194206301600806,
          3.307031423718204,
          3.2935424480194833,
          -1.7721559450983193,
          -2.2167022890272587,
          1.15882753419654,
          -0.33940576026282,
          -2.08131425339597,
          -3.9505472497260943,
          -0.08256134388297376,
          3.6418199954685164,
          1.0943113149154513,
          -3.008801216981402,
          -5.21358075787722,
          -0.612302279740125,
          -2.3871654280688883,
          1.0896096671859663,
          -1.0956939874496916,
          -2.9529861472327,
          -2.1962130539012037,
          -0.07024029432110446,
          1.4468024543106113,
          -0.4211812909484012,
          0.21481489549968913,
          5.406969726797399,
          3.5708954941040965,
          -0.06662187979286638,
          2.496612234147243,
          0.4868561320860857,
          -2.443387363420523,
          -0.5655687821929449,
          0.2791675952596764,
          1.3433448013938256,
          1.9028549377385597,
          0.7264776330140685,
          -2.6182531247067247,
          -7.975240481321748,
          -6.974671353432845,
          -3.910028102126784,
          -8.60749944099303,
          -5.477013739034344,
          -2.988436563620848,
          -9.42983059440969,
          -10.477473700958903,
          -12.67281958161484,
          -17.241614690682695,
          -10.62000593737342,
          -6.5012352272052,
          -3.3399489651695973,
          -3.9220706944238763,
          -2.5577773066578118,
          -1.807924451472605,
          9.637676474375557,
          4.499976918136049,
          0.4364394891361414,
          -2.8547908108600275,
          -1.6436349160552588,
          -1.0445046898414105,
          0.29512771415448924,
          -1.8192829235895829,
          2.3677222756698377,
          2.0349652366902475,
          -5.168439627773665,
          -6.627433476198064,
          -14.41646446486141,
          -8.774366828465816,
          -3.320651878643588,
          5.7627257406174195,
          4.011791253552229,
          1.954523013731027,
          1.4444568583466832,
          -0.7605491550690573,
          -7.401319516123081,
          -5.035040093750958,
          1.570604993909292,
          9.277277017115516,
          3.2873318150459347,
          6.217753567022633,
          10.866305505138175,
          -4.865122856396873,
          -10.791993981757498,
          -10.139990798359252,
          -7.620206971901968,
          -1.327307969558472,
          7.139528818182534,
          0.06076442576754815,
          -1.3260628176903708,
          -3.1976323713079395,
          -3.267206161243525,
          -8.070062503426403,
          -7.9777512805454585,
          2.2249973912265197,
          1.2600839665071462,
          3.125013523073786,
          4.9832089367842745,
          6.214067318912084,
          -1.264189301530422,
          -0.5526162528999432,
          3.3788679184722277,
          1.860110648286172,
          1.5506254251820337,
          -2.228033165712306,
          -4.52108822707801,
          1.9225053329436754,
          10.672713918323064,
          9.967871403349326,
          0.23632937469646187,
          1.4569034551325437,
          10.10756692061345,
          2.64898041166491,
          -6.6271314245459685,
          0.5859389787047711,
          2.3925907430995697,
          7.370448408029686,
          7.222560381623463,
          -1.178333466737346,
          -3.258676354430097,
          -6.239493734218959,
          2.094071064041911,
          -2.3987124590789293,
          -6.375049176092159,
          4.1277170372104495,
          10.599716363333886,
          7.8823678898526595,
          8.415580053999362,
          6.384575532718166,
          3.660003763877171,
          5.776712399481651,
          5.061594230960036,
          8.47113465958739,
          10.916032945899792,
          7.800505894586202,
          2.8915350045158554,
          1.095722407312408,
          -11.978252985864085,
          -10.753285693211993,
          -8.201262234126846,
          -9.44991474885159,
          -15.82620386597919,
          -9.046634301818644,
          -0.08068885809025161,
          -13.470499783245682,
          -12.557962310859107,
          -7.276330879513065,
          -12.287219329398859,
          -4.009319058058818,
          6.781646327441322,
          9.27307249167751,
          4.579159129055931,
          6.505290285826296,
          0.6171341328432458,
          7.135520494725167,
          1.348981451010923,
          -1.9636167820448183,
          1.4007630311238346,
          2.218327727471408,
          4.593090422089896,
          2.1398829428552677,
          -1.9746297222359837,
          0.3992493325376012,
          -4.0535747248136005,
          -5.4450895429495345,
          0.2189114642062595,
          -0.45148427738909547,
          -0.4950052601971233,
          1.8288236360620411,
          2.8766906675759953,
          1.3546102042140378,
          -2.0041271624109607,
          -6.598051250219055,
          -2.4333367692406735,
          3.077098405597539,
          2.579914584768705,
          -1.8610057167615972,
          -4.016637400901265,
          -2.778090250503789,
          -1.793281172286612,
          2.7273970724671344,
          -3.085373008412491,
          -6.6645283097141625,
          0.8943413615252869,
          -3.440422122304393,
          -5.3658544647242845,
          -4.349528761426955,
          1.4569462346210535,
          3.9931317510698072,
          -2.021693984243761,
          -0.5933978564582034,
          4.112188447398728,
          2.951884435135307,
          8.235812255399622,
          6.980900083179237,
          4.722461618166511,
          -0.2748016766507204,
          0.9757260459858248,
          5.62176599377008,
          2.8617090076249028,
          -1.313576438319883,
          4.892983802731617,
          12.45248641057955,
          6.727292388486422,
          0.4368208389730057,
          4.217379573837249,
          6.858076396030704,
          -2.3847030804884852,
          2.791296647244941,
          -0.10134105539975735,
          -5.170917541435841,
          -1.6129795290871698,
          -1.8813081232533904,
          1.8548959726926082,
          -6.554384918153763,
          -11.128986332010637,
          -10.812091855153929,
          -6.600952729403954,
          -16.76412249682258,
          -8.09594776317504,
          -10.21653850368358,
          7.299706956038779,
          9.473166625214958,
          7.011306748904637,
          4.346328004281892,
          -1.0186463568651911,
          -11.937169133259795,
          -0.24411899003918336,
          -1.1630917386798423,
          -6.939387408888168,
          -7.9881735158097165,
          1.0640932499319504,
          4.615866062565448,
          -6.456697150057154,
          -10.958771380080087,
          -2.502379399765278,
          1.3201214819988003,
          8.289566712487972,
          5.580441870133817,
          -1.951842855171177,
          0.8322702059704516,
          -0.7149211423748068,
          -1.6256924029817772,
          -1.7057776494177754,
          -0.7579951927042656,
          4.2223987707928,
          0.8417234861915706,
          -4.391465648772101,
          -6.997291191753432,
          -13.103617030602264,
          -3.5552775717941074,
          3.5499836017836195,
          2.538035351695477,
          2.2229953685866697,
          0.37646447131725047,
          -0.08194665803720191,
          -2.3926680900475645,
          -10.703322315182332,
          -6.225052512651118,
          -3.6400659114045943,
          -2.057925337482075,
          -0.04874968733463447,
          -6.986641345611908,
          -4.93318151824138,
          -14.712397981247666,
          -8.952634126660547,
          -7.753131796163741,
          -3.275212862295845,
          -3.7488679850847717,
          0.9571261452745006,
          -6.282208430274894,
          -6.966675047640932,
          -7.958333713918094,
          -6.737698265198555,
          -1.2981005297732846,
          -5.284659932240402,
          1.7313641461074507,
          5.9780841012915715,
          2.9969783356666326,
          2.0908922583848444,
          0.5417155690174855,
          0.9625427870476617,
          4.024428383763297,
          1.6348996829766076,
          2.7328691429593324,
          6.692018982880244,
          0.692662043636304,
          -1.9336309756483854,
          1.0047748343693406,
          1.9846644428184654,
          4.897323123091722,
          1.753133015587765,
          -2.201068537823934,
          -0.9984291491558361,
          -1.508758492452713,
          -2.7760765170450648,
          -5.824509214813891,
          -7.790847656268897,
          -1.1408165109822246,
          3.448746015125803,
          -1.9927340937814098,
          -7.92894012680058,
          -10.153926491945043,
          -3.7548422332137044,
          -0.6728252423881376,
          -2.710658805709544,
          0.49650162001573506,
          1.151430210745339,
          1.3783738899423543,
          -3.6858830489514407,
          -5.145474134416393,
          -5.159577284876063,
          -5.18672305781854,
          -4.045112669046748,
          2.3859352876657702,
          5.956689258419033,
          5.098361913229402,
          0.7128859778137997,
          -1.2263224878242145,
          -2.3684596020535924,
          -3.6281832303747787,
          -2.9767418787703406,
          5.1605884135377345,
          6.123300086649478,
          8.487199807874612,
          7.042890545087297,
          -1.3884203339289853,
          -6.14633904530076,
          -6.496383826875231,
          -0.1806656343765507,
          0.4424341724143863,
          -1.9917777430354588,
          2.2715197801726807,
          2.3919690926343025,
          -3.96845351076528,
          -9.89595430890003,
          -11.803881681192575,
          -6.086409035831732,
          11.089718332422866,
          14.956394787045909,
          7.91158010206397,
          -9.942630570867127,
          -3.8652722881017816,
          -0.29275016804680387,
          -8.651851359259943,
          -5.910854895949409,
          -0.39385331163749626,
          -4.986113951316433,
          -8.114970490487561,
          -2.2353249694059496,
          -8.269784579270011,
          -23.22199040475917,
          -16.683714120485526,
          2.424778523360679,
          1.7099298925349586,
          0.5527644705900201,
          -7.439670266035918,
          -33.992423750089344,
          -20.13026319893379,
          -11.855573212668034,
          2.433897710652772,
          2.5573817513688297,
          8.621800890808455,
          4.62883565415445,
          18.647133389563617,
          9.646055151047687,
          3.6268193948439555,
          6.853583789963949,
          -6.348546707683774,
          2.8137161818011904,
          7.1408012080865255,
          -6.5457045089599415,
          0.011994813654427006,
          6.832032590358767,
          -8.602899826970708,
          2.071972160819538,
          -6.329914166566704,
          -5.661815478893963,
          -10.012407088436813,
          -9.573281119131979,
          -3.29764661996634,
          -8.7118258532953
         ]
        }
       ],
       "layout": {
        "height": 400,
        "hovermode": "x unified",
        "legend": {
         "orientation": "h",
         "x": 0.95,
         "xanchor": "right",
         "y": 1.05,
         "yanchor": "bottom"
        },
        "margin": {
         "b": 40,
         "l": 80,
         "r": 40,
         "t": 80
        },
        "template": {
         "data": {
          "bar": [
           {
            "error_x": {
             "color": "#f2f5fa"
            },
            "error_y": {
             "color": "#f2f5fa"
            },
            "marker": {
             "line": {
              "color": "rgb(17,17,17)",
              "width": 0.5
             },
             "pattern": {
              "fillmode": "overlay",
              "size": 10,
              "solidity": 0.2
             }
            },
            "type": "bar"
           }
          ],
          "barpolar": [
           {
            "marker": {
             "line": {
              "color": "rgb(17,17,17)",
              "width": 0.5
             },
             "pattern": {
              "fillmode": "overlay",
              "size": 10,
              "solidity": 0.2
             }
            },
            "type": "barpolar"
           }
          ],
          "carpet": [
           {
            "aaxis": {
             "endlinecolor": "#A2B1C6",
             "gridcolor": "#506784",
             "linecolor": "#506784",
             "minorgridcolor": "#506784",
             "startlinecolor": "#A2B1C6"
            },
            "baxis": {
             "endlinecolor": "#A2B1C6",
             "gridcolor": "#506784",
             "linecolor": "#506784",
             "minorgridcolor": "#506784",
             "startlinecolor": "#A2B1C6"
            },
            "type": "carpet"
           }
          ],
          "choropleth": [
           {
            "colorbar": {
             "outlinewidth": 0,
             "ticks": ""
            },
            "type": "choropleth"
           }
          ],
          "contour": [
           {
            "colorbar": {
             "outlinewidth": 0,
             "ticks": ""
            },
            "colorscale": [
             [
              0,
              "#0d0887"
             ],
             [
              0.1111111111111111,
              "#46039f"
             ],
             [
              0.2222222222222222,
              "#7201a8"
             ],
             [
              0.3333333333333333,
              "#9c179e"
             ],
             [
              0.4444444444444444,
              "#bd3786"
             ],
             [
              0.5555555555555556,
              "#d8576b"
             ],
             [
              0.6666666666666666,
              "#ed7953"
             ],
             [
              0.7777777777777778,
              "#fb9f3a"
             ],
             [
              0.8888888888888888,
              "#fdca26"
             ],
             [
              1,
              "#f0f921"
             ]
            ],
            "type": "contour"
           }
          ],
          "contourcarpet": [
           {
            "colorbar": {
             "outlinewidth": 0,
             "ticks": ""
            },
            "type": "contourcarpet"
           }
          ],
          "heatmap": [
           {
            "colorbar": {
             "outlinewidth": 0,
             "ticks": ""
            },
            "colorscale": [
             [
              0,
              "#0d0887"
             ],
             [
              0.1111111111111111,
              "#46039f"
             ],
             [
              0.2222222222222222,
              "#7201a8"
             ],
             [
              0.3333333333333333,
              "#9c179e"
             ],
             [
              0.4444444444444444,
              "#bd3786"
             ],
             [
              0.5555555555555556,
              "#d8576b"
             ],
             [
              0.6666666666666666,
              "#ed7953"
             ],
             [
              0.7777777777777778,
              "#fb9f3a"
             ],
             [
              0.8888888888888888,
              "#fdca26"
             ],
             [
              1,
              "#f0f921"
             ]
            ],
            "type": "heatmap"
           }
          ],
          "heatmapgl": [
           {
            "colorbar": {
             "outlinewidth": 0,
             "ticks": ""
            },
            "colorscale": [
             [
              0,
              "#0d0887"
             ],
             [
              0.1111111111111111,
              "#46039f"
             ],
             [
              0.2222222222222222,
              "#7201a8"
             ],
             [
              0.3333333333333333,
              "#9c179e"
             ],
             [
              0.4444444444444444,
              "#bd3786"
             ],
             [
              0.5555555555555556,
              "#d8576b"
             ],
             [
              0.6666666666666666,
              "#ed7953"
             ],
             [
              0.7777777777777778,
              "#fb9f3a"
             ],
             [
              0.8888888888888888,
              "#fdca26"
             ],
             [
              1,
              "#f0f921"
             ]
            ],
            "type": "heatmapgl"
           }
          ],
          "histogram": [
           {
            "marker": {
             "pattern": {
              "fillmode": "overlay",
              "size": 10,
              "solidity": 0.2
             }
            },
            "type": "histogram"
           }
          ],
          "histogram2d": [
           {
            "colorbar": {
             "outlinewidth": 0,
             "ticks": ""
            },
            "colorscale": [
             [
              0,
              "#0d0887"
             ],
             [
              0.1111111111111111,
              "#46039f"
             ],
             [
              0.2222222222222222,
              "#7201a8"
             ],
             [
              0.3333333333333333,
              "#9c179e"
             ],
             [
              0.4444444444444444,
              "#bd3786"
             ],
             [
              0.5555555555555556,
              "#d8576b"
             ],
             [
              0.6666666666666666,
              "#ed7953"
             ],
             [
              0.7777777777777778,
              "#fb9f3a"
             ],
             [
              0.8888888888888888,
              "#fdca26"
             ],
             [
              1,
              "#f0f921"
             ]
            ],
            "type": "histogram2d"
           }
          ],
          "histogram2dcontour": [
           {
            "colorbar": {
             "outlinewidth": 0,
             "ticks": ""
            },
            "colorscale": [
             [
              0,
              "#0d0887"
             ],
             [
              0.1111111111111111,
              "#46039f"
             ],
             [
              0.2222222222222222,
              "#7201a8"
             ],
             [
              0.3333333333333333,
              "#9c179e"
             ],
             [
              0.4444444444444444,
              "#bd3786"
             ],
             [
              0.5555555555555556,
              "#d8576b"
             ],
             [
              0.6666666666666666,
              "#ed7953"
             ],
             [
              0.7777777777777778,
              "#fb9f3a"
             ],
             [
              0.8888888888888888,
              "#fdca26"
             ],
             [
              1,
              "#f0f921"
             ]
            ],
            "type": "histogram2dcontour"
           }
          ],
          "mesh3d": [
           {
            "colorbar": {
             "outlinewidth": 0,
             "ticks": ""
            },
            "type": "mesh3d"
           }
          ],
          "parcoords": [
           {
            "line": {
             "colorbar": {
              "outlinewidth": 0,
              "ticks": ""
             }
            },
            "type": "parcoords"
           }
          ],
          "pie": [
           {
            "automargin": true,
            "type": "pie"
           }
          ],
          "scatter": [
           {
            "marker": {
             "line": {
              "color": "#283442"
             }
            },
            "type": "scatter"
           }
          ],
          "scatter3d": [
           {
            "line": {
             "colorbar": {
              "outlinewidth": 0,
              "ticks": ""
             }
            },
            "marker": {
             "colorbar": {
              "outlinewidth": 0,
              "ticks": ""
             }
            },
            "type": "scatter3d"
           }
          ],
          "scattercarpet": [
           {
            "marker": {
             "colorbar": {
              "outlinewidth": 0,
              "ticks": ""
             }
            },
            "type": "scattercarpet"
           }
          ],
          "scattergeo": [
           {
            "marker": {
             "colorbar": {
              "outlinewidth": 0,
              "ticks": ""
             }
            },
            "type": "scattergeo"
           }
          ],
          "scattergl": [
           {
            "marker": {
             "line": {
              "color": "#283442"
             }
            },
            "type": "scattergl"
           }
          ],
          "scattermapbox": [
           {
            "marker": {
             "colorbar": {
              "outlinewidth": 0,
              "ticks": ""
             }
            },
            "type": "scattermapbox"
           }
          ],
          "scatterpolar": [
           {
            "marker": {
             "colorbar": {
              "outlinewidth": 0,
              "ticks": ""
             }
            },
            "type": "scatterpolar"
           }
          ],
          "scatterpolargl": [
           {
            "marker": {
             "colorbar": {
              "outlinewidth": 0,
              "ticks": ""
             }
            },
            "type": "scatterpolargl"
           }
          ],
          "scatterternary": [
           {
            "marker": {
             "colorbar": {
              "outlinewidth": 0,
              "ticks": ""
             }
            },
            "type": "scatterternary"
           }
          ],
          "surface": [
           {
            "colorbar": {
             "outlinewidth": 0,
             "ticks": ""
            },
            "colorscale": [
             [
              0,
              "#0d0887"
             ],
             [
              0.1111111111111111,
              "#46039f"
             ],
             [
              0.2222222222222222,
              "#7201a8"
             ],
             [
              0.3333333333333333,
              "#9c179e"
             ],
             [
              0.4444444444444444,
              "#bd3786"
             ],
             [
              0.5555555555555556,
              "#d8576b"
             ],
             [
              0.6666666666666666,
              "#ed7953"
             ],
             [
              0.7777777777777778,
              "#fb9f3a"
             ],
             [
              0.8888888888888888,
              "#fdca26"
             ],
             [
              1,
              "#f0f921"
             ]
            ],
            "type": "surface"
           }
          ],
          "table": [
           {
            "cells": {
             "fill": {
              "color": "#506784"
             },
             "line": {
              "color": "rgb(17,17,17)"
             }
            },
            "header": {
             "fill": {
              "color": "#2a3f5f"
             },
             "line": {
              "color": "rgb(17,17,17)"
             }
            },
            "type": "table"
           }
          ]
         },
         "layout": {
          "annotationdefaults": {
           "arrowcolor": "#f2f5fa",
           "arrowhead": 0,
           "arrowwidth": 1
          },
          "autotypenumbers": "strict",
          "coloraxis": {
           "colorbar": {
            "outlinewidth": 0,
            "ticks": ""
           }
          },
          "colorscale": {
           "diverging": [
            [
             0,
             "#8e0152"
            ],
            [
             0.1,
             "#c51b7d"
            ],
            [
             0.2,
             "#de77ae"
            ],
            [
             0.3,
             "#f1b6da"
            ],
            [
             0.4,
             "#fde0ef"
            ],
            [
             0.5,
             "#f7f7f7"
            ],
            [
             0.6,
             "#e6f5d0"
            ],
            [
             0.7,
             "#b8e186"
            ],
            [
             0.8,
             "#7fbc41"
            ],
            [
             0.9,
             "#4d9221"
            ],
            [
             1,
             "#276419"
            ]
           ],
           "sequential": [
            [
             0,
             "#0d0887"
            ],
            [
             0.1111111111111111,
             "#46039f"
            ],
            [
             0.2222222222222222,
             "#7201a8"
            ],
            [
             0.3333333333333333,
             "#9c179e"
            ],
            [
             0.4444444444444444,
             "#bd3786"
            ],
            [
             0.5555555555555556,
             "#d8576b"
            ],
            [
             0.6666666666666666,
             "#ed7953"
            ],
            [
             0.7777777777777778,
             "#fb9f3a"
            ],
            [
             0.8888888888888888,
             "#fdca26"
            ],
            [
             1,
             "#f0f921"
            ]
           ],
           "sequentialminus": [
            [
             0,
             "#0d0887"
            ],
            [
             0.1111111111111111,
             "#46039f"
            ],
            [
             0.2222222222222222,
             "#7201a8"
            ],
            [
             0.3333333333333333,
             "#9c179e"
            ],
            [
             0.4444444444444444,
             "#bd3786"
            ],
            [
             0.5555555555555556,
             "#d8576b"
            ],
            [
             0.6666666666666666,
             "#ed7953"
            ],
            [
             0.7777777777777778,
             "#fb9f3a"
            ],
            [
             0.8888888888888888,
             "#fdca26"
            ],
            [
             1,
             "#f0f921"
            ]
           ]
          },
          "colorway": [
           "#636efa",
           "#EF553B",
           "#00cc96",
           "#ab63fa",
           "#FFA15A",
           "#19d3f3",
           "#FF6692",
           "#B6E880",
           "#FF97FF",
           "#FECB52"
          ],
          "font": {
           "color": "#f2f5fa"
          },
          "geo": {
           "bgcolor": "rgb(17,17,17)",
           "lakecolor": "rgb(17,17,17)",
           "landcolor": "rgb(17,17,17)",
           "showlakes": true,
           "showland": true,
           "subunitcolor": "#506784"
          },
          "hoverlabel": {
           "align": "left"
          },
          "hovermode": "closest",
          "mapbox": {
           "style": "dark"
          },
          "paper_bgcolor": "rgb(17,17,17)",
          "plot_bgcolor": "rgb(17,17,17)",
          "polar": {
           "angularaxis": {
            "gridcolor": "#506784",
            "linecolor": "#506784",
            "ticks": ""
           },
           "bgcolor": "rgb(17,17,17)",
           "radialaxis": {
            "gridcolor": "#506784",
            "linecolor": "#506784",
            "ticks": ""
           }
          },
          "scene": {
           "xaxis": {
            "backgroundcolor": "rgb(17,17,17)",
            "gridcolor": "#506784",
            "gridwidth": 2,
            "linecolor": "#506784",
            "showbackground": true,
            "ticks": "",
            "zerolinecolor": "#C8D4E3"
           },
           "yaxis": {
            "backgroundcolor": "rgb(17,17,17)",
            "gridcolor": "#506784",
            "gridwidth": 2,
            "linecolor": "#506784",
            "showbackground": true,
            "ticks": "",
            "zerolinecolor": "#C8D4E3"
           },
           "zaxis": {
            "backgroundcolor": "rgb(17,17,17)",
            "gridcolor": "#506784",
            "gridwidth": 2,
            "linecolor": "#506784",
            "showbackground": true,
            "ticks": "",
            "zerolinecolor": "#C8D4E3"
           }
          },
          "shapedefaults": {
           "line": {
            "color": "#f2f5fa"
           }
          },
          "sliderdefaults": {
           "bgcolor": "#C8D4E3",
           "bordercolor": "rgb(17,17,17)",
           "borderwidth": 1,
           "tickwidth": 0
          },
          "ternary": {
           "aaxis": {
            "gridcolor": "#506784",
            "linecolor": "#506784",
            "ticks": ""
           },
           "baxis": {
            "gridcolor": "#506784",
            "linecolor": "#506784",
            "ticks": ""
           },
           "bgcolor": "rgb(17,17,17)",
           "caxis": {
            "gridcolor": "#506784",
            "linecolor": "#506784",
            "ticks": ""
           }
          },
          "title": {
           "x": 0.05
          },
          "updatemenudefaults": {
           "bgcolor": "#506784",
           "borderwidth": 0
          },
          "xaxis": {
           "automargin": true,
           "gridcolor": "#283442",
           "linecolor": "#506784",
           "ticks": "",
           "title": {
            "standoff": 15
           },
           "zerolinecolor": "#283442",
           "zerolinewidth": 2
          },
          "yaxis": {
           "automargin": true,
           "gridcolor": "#283442",
           "linecolor": "#506784",
           "ticks": "",
           "title": {
            "standoff": 15
           },
           "zerolinecolor": "#283442",
           "zerolinewidth": 2
          }
         }
        },
        "title": {
         "text": "Distribution of the Predicted Errors<br><span style=\"font-size: 12.5px; color: lightgrey;\"> -- Histogram shows the frequency of each predicted error.</span>"
        },
        "width": 700,
        "xaxis": {
         "tickmode": "array",
         "ticktext": [
          "1990",
          "1995",
          "2000",
          "2005",
          "2010",
          "2015",
          "2020"
         ],
         "tickvals": [
          1.3333333333333333,
          21.333333333333332,
          41.333333333333336,
          61.333333333333336,
          81.33333333333333,
          101.33333333333333,
          121.33333333333333
         ],
         "title": {
          "text": "Time Ranges"
         }
        },
        "yaxis": {
         "title": {
          "text": "YoY Growth (%)"
         }
        }
       }
      }
     },
     "metadata": {},
     "output_type": "display_data"
    }
   ],
   "source": [
    "# detailed performance\n",
    "fig2_1, fig2_2 = PA.detail_perf(model='LinR', ma=2, fp=6, sc=1)\n",
    "fig2_1.show()\n",
    "fig2_2.show()"
   ]
  },
  {
   "cell_type": "code",
   "execution_count": null,
   "metadata": {},
   "outputs": [],
   "source": []
  },
  {
   "cell_type": "code",
   "execution_count": 68,
   "metadata": {},
   "outputs": [
    {
     "data": {
      "text/html": [
       "<div>\n",
       "<style scoped>\n",
       "    .dataframe tbody tr th:only-of-type {\n",
       "        vertical-align: middle;\n",
       "    }\n",
       "\n",
       "    .dataframe tbody tr th {\n",
       "        vertical-align: top;\n",
       "    }\n",
       "\n",
       "    .dataframe thead th {\n",
       "        text-align: right;\n",
       "    }\n",
       "</style>\n",
       "<table border=\"1\" class=\"dataframe\">\n",
       "  <thead>\n",
       "    <tr style=\"text-align: right;\">\n",
       "      <th></th>\n",
       "      <th>Date</th>\n",
       "      <th>CSENT</th>\n",
       "      <th>IPM</th>\n",
       "      <th>HOUSE</th>\n",
       "      <th>UNEMP</th>\n",
       "      <th>LRIR</th>\n",
       "    </tr>\n",
       "  </thead>\n",
       "  <tbody>\n",
       "    <tr>\n",
       "      <th>0</th>\n",
       "      <td>1989-10-31</td>\n",
       "      <td>-0.937411</td>\n",
       "      <td>-3.726197</td>\n",
       "      <td>6.004287</td>\n",
       "      <td>-6.268524</td>\n",
       "      <td>-2.707249</td>\n",
       "    </tr>\n",
       "    <tr>\n",
       "      <th>1</th>\n",
       "      <td>1989-11-30</td>\n",
       "      <td>-1.073226</td>\n",
       "      <td>-3.617515</td>\n",
       "      <td>5.444714</td>\n",
       "      <td>-6.619536</td>\n",
       "      <td>-2.682599</td>\n",
       "    </tr>\n",
       "    <tr>\n",
       "      <th>2</th>\n",
       "      <td>1989-12-31</td>\n",
       "      <td>-1.133740</td>\n",
       "      <td>-3.476383</td>\n",
       "      <td>4.959589</td>\n",
       "      <td>-6.736938</td>\n",
       "      <td>-2.608133</td>\n",
       "    </tr>\n",
       "    <tr>\n",
       "      <th>3</th>\n",
       "      <td>1990-01-31</td>\n",
       "      <td>-1.018245</td>\n",
       "      <td>-3.178922</td>\n",
       "      <td>4.549936</td>\n",
       "      <td>-6.283997</td>\n",
       "      <td>-2.363414</td>\n",
       "    </tr>\n",
       "    <tr>\n",
       "      <th>4</th>\n",
       "      <td>1990-02-28</td>\n",
       "      <td>-0.869600</td>\n",
       "      <td>-2.870671</td>\n",
       "      <td>4.225035</td>\n",
       "      <td>-5.778048</td>\n",
       "      <td>-2.121971</td>\n",
       "    </tr>\n",
       "    <tr>\n",
       "      <th>...</th>\n",
       "      <td>...</td>\n",
       "      <td>...</td>\n",
       "      <td>...</td>\n",
       "      <td>...</td>\n",
       "      <td>...</td>\n",
       "      <td>...</td>\n",
       "    </tr>\n",
       "    <tr>\n",
       "      <th>405</th>\n",
       "      <td>2023-07-31</td>\n",
       "      <td>1.319506</td>\n",
       "      <td>-0.627708</td>\n",
       "      <td>1.218037</td>\n",
       "      <td>0.584993</td>\n",
       "      <td>0.239515</td>\n",
       "    </tr>\n",
       "    <tr>\n",
       "      <th>406</th>\n",
       "      <td>2023-08-31</td>\n",
       "      <td>1.626756</td>\n",
       "      <td>-0.738896</td>\n",
       "      <td>1.005136</td>\n",
       "      <td>-0.276461</td>\n",
       "      <td>-0.017713</td>\n",
       "    </tr>\n",
       "    <tr>\n",
       "      <th>407</th>\n",
       "      <td>2023-09-30</td>\n",
       "      <td>2.081807</td>\n",
       "      <td>-0.875997</td>\n",
       "      <td>0.960050</td>\n",
       "      <td>-1.142917</td>\n",
       "      <td>-0.129422</td>\n",
       "    </tr>\n",
       "    <tr>\n",
       "      <th>408</th>\n",
       "      <td>2023-10-31</td>\n",
       "      <td>2.263923</td>\n",
       "      <td>-0.935946</td>\n",
       "      <td>0.949644</td>\n",
       "      <td>-1.694547</td>\n",
       "      <td>-0.182797</td>\n",
       "    </tr>\n",
       "    <tr>\n",
       "      <th>409</th>\n",
       "      <td>2023-11-30</td>\n",
       "      <td>2.263923</td>\n",
       "      <td>-0.935946</td>\n",
       "      <td>0.949644</td>\n",
       "      <td>-1.694547</td>\n",
       "      <td>-0.182797</td>\n",
       "    </tr>\n",
       "  </tbody>\n",
       "</table>\n",
       "<p>410 rows × 6 columns</p>\n",
       "</div>"
      ],
      "text/plain": [
       "          Date     CSENT       IPM     HOUSE     UNEMP      LRIR\n",
       "0   1989-10-31 -0.937411 -3.726197  6.004287 -6.268524 -2.707249\n",
       "1   1989-11-30 -1.073226 -3.617515  5.444714 -6.619536 -2.682599\n",
       "2   1989-12-31 -1.133740 -3.476383  4.959589 -6.736938 -2.608133\n",
       "3   1990-01-31 -1.018245 -3.178922  4.549936 -6.283997 -2.363414\n",
       "4   1990-02-28 -0.869600 -2.870671  4.225035 -5.778048 -2.121971\n",
       "..         ...       ...       ...       ...       ...       ...\n",
       "405 2023-07-31  1.319506 -0.627708  1.218037  0.584993  0.239515\n",
       "406 2023-08-31  1.626756 -0.738896  1.005136 -0.276461 -0.017713\n",
       "407 2023-09-30  2.081807 -0.875997  0.960050 -1.142917 -0.129422\n",
       "408 2023-10-31  2.263923 -0.935946  0.949644 -1.694547 -0.182797\n",
       "409 2023-11-30  2.263923 -0.935946  0.949644 -1.694547 -0.182797\n",
       "\n",
       "[410 rows x 6 columns]"
      ]
     },
     "execution_count": 68,
     "metadata": {},
     "output_type": "execute_result"
    }
   ],
   "source": [
    "# get the date information\n",
    "from dateutil.relativedelta import relativedelta\n",
    "latest_date =pd.to_datetime( df['Date'].iloc[-1])\n",
    "next_month_last = latest_date + relativedelta(months=1)\n",
    "start_date = next_month_last - relativedelta(months=410-1)\n",
    "dates = np.array(pd.date_range(start_date, next_month_last, freq='M'))\n",
    "\n",
    "thetas_df = pd.DataFrame({'Date': dates})\n",
    "\n",
    "# get the minimum theta dimensions (excluding bias term)\n",
    "thetas_dim = PA.results['LinR']['6FP']['3MA_1SC']['theta'][:, 1:].shape\n",
    "\n",
    "# initialize data\n",
    "thetas_data = np.zeros(thetas_dim)\n",
    "count = 0\n",
    "\n",
    "for k1 in PA.results['LinR'].keys():\n",
    "    for k2 in PA.results['LinR'][k1].keys():\n",
    "        thetas_data += PA.results['LinR'][k1][k2]['theta'][-thetas_dim[0]:, 1:]\n",
    "        count += 1\n",
    "\n",
    "# calculate mean\n",
    "thetas_mean = thetas_data / count\n",
    "# define column names\n",
    "cols = PA.X_name[1:]\n",
    "\n",
    "# adding thetas_data\n",
    "thetas_df = pd.concat([thetas_df, pd.DataFrame(thetas_mean, columns=cols)], axis=1)\n",
    "thetas_df"
   ]
  },
  {
   "cell_type": "code",
   "execution_count": 84,
   "metadata": {},
   "outputs": [
    {
     "data": {
      "application/vnd.plotly.v1+json": {
       "config": {
        "plotlyServerURL": "https://plot.ly"
       },
       "data": [
        {
         "hovertemplate": "%{y}",
         "legendgroup": "CSENT",
         "line": {
          "color": "#636efa",
          "dash": "solid"
         },
         "marker": {
          "symbol": "circle"
         },
         "mode": "lines",
         "name": "CSENT",
         "showlegend": true,
         "type": "scattergl",
         "x": [
          "1989-10-31T00:00:00",
          "1989-11-30T00:00:00",
          "1989-12-31T00:00:00",
          "1990-01-31T00:00:00",
          "1990-02-28T00:00:00",
          "1990-03-31T00:00:00",
          "1990-04-30T00:00:00",
          "1990-05-31T00:00:00",
          "1990-06-30T00:00:00",
          "1990-07-31T00:00:00",
          "1990-08-31T00:00:00",
          "1990-09-30T00:00:00",
          "1990-10-31T00:00:00",
          "1990-11-30T00:00:00",
          "1990-12-31T00:00:00",
          "1991-01-31T00:00:00",
          "1991-02-28T00:00:00",
          "1991-03-31T00:00:00",
          "1991-04-30T00:00:00",
          "1991-05-31T00:00:00",
          "1991-06-30T00:00:00",
          "1991-07-31T00:00:00",
          "1991-08-31T00:00:00",
          "1991-09-30T00:00:00",
          "1991-10-31T00:00:00",
          "1991-11-30T00:00:00",
          "1991-12-31T00:00:00",
          "1992-01-31T00:00:00",
          "1992-02-29T00:00:00",
          "1992-03-31T00:00:00",
          "1992-04-30T00:00:00",
          "1992-05-31T00:00:00",
          "1992-06-30T00:00:00",
          "1992-07-31T00:00:00",
          "1992-08-31T00:00:00",
          "1992-09-30T00:00:00",
          "1992-10-31T00:00:00",
          "1992-11-30T00:00:00",
          "1992-12-31T00:00:00",
          "1993-01-31T00:00:00",
          "1993-02-28T00:00:00",
          "1993-03-31T00:00:00",
          "1993-04-30T00:00:00",
          "1993-05-31T00:00:00",
          "1993-06-30T00:00:00",
          "1993-07-31T00:00:00",
          "1993-08-31T00:00:00",
          "1993-09-30T00:00:00",
          "1993-10-31T00:00:00",
          "1993-11-30T00:00:00",
          "1993-12-31T00:00:00",
          "1994-01-31T00:00:00",
          "1994-02-28T00:00:00",
          "1994-03-31T00:00:00",
          "1994-04-30T00:00:00",
          "1994-05-31T00:00:00",
          "1994-06-30T00:00:00",
          "1994-07-31T00:00:00",
          "1994-08-31T00:00:00",
          "1994-09-30T00:00:00",
          "1994-10-31T00:00:00",
          "1994-11-30T00:00:00",
          "1994-12-31T00:00:00",
          "1995-01-31T00:00:00",
          "1995-02-28T00:00:00",
          "1995-03-31T00:00:00",
          "1995-04-30T00:00:00",
          "1995-05-31T00:00:00",
          "1995-06-30T00:00:00",
          "1995-07-31T00:00:00",
          "1995-08-31T00:00:00",
          "1995-09-30T00:00:00",
          "1995-10-31T00:00:00",
          "1995-11-30T00:00:00",
          "1995-12-31T00:00:00",
          "1996-01-31T00:00:00",
          "1996-02-29T00:00:00",
          "1996-03-31T00:00:00",
          "1996-04-30T00:00:00",
          "1996-05-31T00:00:00",
          "1996-06-30T00:00:00",
          "1996-07-31T00:00:00",
          "1996-08-31T00:00:00",
          "1996-09-30T00:00:00",
          "1996-10-31T00:00:00",
          "1996-11-30T00:00:00",
          "1996-12-31T00:00:00",
          "1997-01-31T00:00:00",
          "1997-02-28T00:00:00",
          "1997-03-31T00:00:00",
          "1997-04-30T00:00:00",
          "1997-05-31T00:00:00",
          "1997-06-30T00:00:00",
          "1997-07-31T00:00:00",
          "1997-08-31T00:00:00",
          "1997-09-30T00:00:00",
          "1997-10-31T00:00:00",
          "1997-11-30T00:00:00",
          "1997-12-31T00:00:00",
          "1998-01-31T00:00:00",
          "1998-02-28T00:00:00",
          "1998-03-31T00:00:00",
          "1998-04-30T00:00:00",
          "1998-05-31T00:00:00",
          "1998-06-30T00:00:00",
          "1998-07-31T00:00:00",
          "1998-08-31T00:00:00",
          "1998-09-30T00:00:00",
          "1998-10-31T00:00:00",
          "1998-11-30T00:00:00",
          "1998-12-31T00:00:00",
          "1999-01-31T00:00:00",
          "1999-02-28T00:00:00",
          "1999-03-31T00:00:00",
          "1999-04-30T00:00:00",
          "1999-05-31T00:00:00",
          "1999-06-30T00:00:00",
          "1999-07-31T00:00:00",
          "1999-08-31T00:00:00",
          "1999-09-30T00:00:00",
          "1999-10-31T00:00:00",
          "1999-11-30T00:00:00",
          "1999-12-31T00:00:00",
          "2000-01-31T00:00:00",
          "2000-02-29T00:00:00",
          "2000-03-31T00:00:00",
          "2000-04-30T00:00:00",
          "2000-05-31T00:00:00",
          "2000-06-30T00:00:00",
          "2000-07-31T00:00:00",
          "2000-08-31T00:00:00",
          "2000-09-30T00:00:00",
          "2000-10-31T00:00:00",
          "2000-11-30T00:00:00",
          "2000-12-31T00:00:00",
          "2001-01-31T00:00:00",
          "2001-02-28T00:00:00",
          "2001-03-31T00:00:00",
          "2001-04-30T00:00:00",
          "2001-05-31T00:00:00",
          "2001-06-30T00:00:00",
          "2001-07-31T00:00:00",
          "2001-08-31T00:00:00",
          "2001-09-30T00:00:00",
          "2001-10-31T00:00:00",
          "2001-11-30T00:00:00",
          "2001-12-31T00:00:00",
          "2002-01-31T00:00:00",
          "2002-02-28T00:00:00",
          "2002-03-31T00:00:00",
          "2002-04-30T00:00:00",
          "2002-05-31T00:00:00",
          "2002-06-30T00:00:00",
          "2002-07-31T00:00:00",
          "2002-08-31T00:00:00",
          "2002-09-30T00:00:00",
          "2002-10-31T00:00:00",
          "2002-11-30T00:00:00",
          "2002-12-31T00:00:00",
          "2003-01-31T00:00:00",
          "2003-02-28T00:00:00",
          "2003-03-31T00:00:00",
          "2003-04-30T00:00:00",
          "2003-05-31T00:00:00",
          "2003-06-30T00:00:00",
          "2003-07-31T00:00:00",
          "2003-08-31T00:00:00",
          "2003-09-30T00:00:00",
          "2003-10-31T00:00:00",
          "2003-11-30T00:00:00",
          "2003-12-31T00:00:00",
          "2004-01-31T00:00:00",
          "2004-02-29T00:00:00",
          "2004-03-31T00:00:00",
          "2004-04-30T00:00:00",
          "2004-05-31T00:00:00",
          "2004-06-30T00:00:00",
          "2004-07-31T00:00:00",
          "2004-08-31T00:00:00",
          "2004-09-30T00:00:00",
          "2004-10-31T00:00:00",
          "2004-11-30T00:00:00",
          "2004-12-31T00:00:00",
          "2005-01-31T00:00:00",
          "2005-02-28T00:00:00",
          "2005-03-31T00:00:00",
          "2005-04-30T00:00:00",
          "2005-05-31T00:00:00",
          "2005-06-30T00:00:00",
          "2005-07-31T00:00:00",
          "2005-08-31T00:00:00",
          "2005-09-30T00:00:00",
          "2005-10-31T00:00:00",
          "2005-11-30T00:00:00",
          "2005-12-31T00:00:00",
          "2006-01-31T00:00:00",
          "2006-02-28T00:00:00",
          "2006-03-31T00:00:00",
          "2006-04-30T00:00:00",
          "2006-05-31T00:00:00",
          "2006-06-30T00:00:00",
          "2006-07-31T00:00:00",
          "2006-08-31T00:00:00",
          "2006-09-30T00:00:00",
          "2006-10-31T00:00:00",
          "2006-11-30T00:00:00",
          "2006-12-31T00:00:00",
          "2007-01-31T00:00:00",
          "2007-02-28T00:00:00",
          "2007-03-31T00:00:00",
          "2007-04-30T00:00:00",
          "2007-05-31T00:00:00",
          "2007-06-30T00:00:00",
          "2007-07-31T00:00:00",
          "2007-08-31T00:00:00",
          "2007-09-30T00:00:00",
          "2007-10-31T00:00:00",
          "2007-11-30T00:00:00",
          "2007-12-31T00:00:00",
          "2008-01-31T00:00:00",
          "2008-02-29T00:00:00",
          "2008-03-31T00:00:00",
          "2008-04-30T00:00:00",
          "2008-05-31T00:00:00",
          "2008-06-30T00:00:00",
          "2008-07-31T00:00:00",
          "2008-08-31T00:00:00",
          "2008-09-30T00:00:00",
          "2008-10-31T00:00:00",
          "2008-11-30T00:00:00",
          "2008-12-31T00:00:00",
          "2009-01-31T00:00:00",
          "2009-02-28T00:00:00",
          "2009-03-31T00:00:00",
          "2009-04-30T00:00:00",
          "2009-05-31T00:00:00",
          "2009-06-30T00:00:00",
          "2009-07-31T00:00:00",
          "2009-08-31T00:00:00",
          "2009-09-30T00:00:00",
          "2009-10-31T00:00:00",
          "2009-11-30T00:00:00",
          "2009-12-31T00:00:00",
          "2010-01-31T00:00:00",
          "2010-02-28T00:00:00",
          "2010-03-31T00:00:00",
          "2010-04-30T00:00:00",
          "2010-05-31T00:00:00",
          "2010-06-30T00:00:00",
          "2010-07-31T00:00:00",
          "2010-08-31T00:00:00",
          "2010-09-30T00:00:00",
          "2010-10-31T00:00:00",
          "2010-11-30T00:00:00",
          "2010-12-31T00:00:00",
          "2011-01-31T00:00:00",
          "2011-02-28T00:00:00",
          "2011-03-31T00:00:00",
          "2011-04-30T00:00:00",
          "2011-05-31T00:00:00",
          "2011-06-30T00:00:00",
          "2011-07-31T00:00:00",
          "2011-08-31T00:00:00",
          "2011-09-30T00:00:00",
          "2011-10-31T00:00:00",
          "2011-11-30T00:00:00",
          "2011-12-31T00:00:00",
          "2012-01-31T00:00:00",
          "2012-02-29T00:00:00",
          "2012-03-31T00:00:00",
          "2012-04-30T00:00:00",
          "2012-05-31T00:00:00",
          "2012-06-30T00:00:00",
          "2012-07-31T00:00:00",
          "2012-08-31T00:00:00",
          "2012-09-30T00:00:00",
          "2012-10-31T00:00:00",
          "2012-11-30T00:00:00",
          "2012-12-31T00:00:00",
          "2013-01-31T00:00:00",
          "2013-02-28T00:00:00",
          "2013-03-31T00:00:00",
          "2013-04-30T00:00:00",
          "2013-05-31T00:00:00",
          "2013-06-30T00:00:00",
          "2013-07-31T00:00:00",
          "2013-08-31T00:00:00",
          "2013-09-30T00:00:00",
          "2013-10-31T00:00:00",
          "2013-11-30T00:00:00",
          "2013-12-31T00:00:00",
          "2014-01-31T00:00:00",
          "2014-02-28T00:00:00",
          "2014-03-31T00:00:00",
          "2014-04-30T00:00:00",
          "2014-05-31T00:00:00",
          "2014-06-30T00:00:00",
          "2014-07-31T00:00:00",
          "2014-08-31T00:00:00",
          "2014-09-30T00:00:00",
          "2014-10-31T00:00:00",
          "2014-11-30T00:00:00",
          "2014-12-31T00:00:00",
          "2015-01-31T00:00:00",
          "2015-02-28T00:00:00",
          "2015-03-31T00:00:00",
          "2015-04-30T00:00:00",
          "2015-05-31T00:00:00",
          "2015-06-30T00:00:00",
          "2015-07-31T00:00:00",
          "2015-08-31T00:00:00",
          "2015-09-30T00:00:00",
          "2015-10-31T00:00:00",
          "2015-11-30T00:00:00",
          "2015-12-31T00:00:00",
          "2016-01-31T00:00:00",
          "2016-02-29T00:00:00",
          "2016-03-31T00:00:00",
          "2016-04-30T00:00:00",
          "2016-05-31T00:00:00",
          "2016-06-30T00:00:00",
          "2016-07-31T00:00:00",
          "2016-08-31T00:00:00",
          "2016-09-30T00:00:00",
          "2016-10-31T00:00:00",
          "2016-11-30T00:00:00",
          "2016-12-31T00:00:00",
          "2017-01-31T00:00:00",
          "2017-02-28T00:00:00",
          "2017-03-31T00:00:00",
          "2017-04-30T00:00:00",
          "2017-05-31T00:00:00",
          "2017-06-30T00:00:00",
          "2017-07-31T00:00:00",
          "2017-08-31T00:00:00",
          "2017-09-30T00:00:00",
          "2017-10-31T00:00:00",
          "2017-11-30T00:00:00",
          "2017-12-31T00:00:00",
          "2018-01-31T00:00:00",
          "2018-02-28T00:00:00",
          "2018-03-31T00:00:00",
          "2018-04-30T00:00:00",
          "2018-05-31T00:00:00",
          "2018-06-30T00:00:00",
          "2018-07-31T00:00:00",
          "2018-08-31T00:00:00",
          "2018-09-30T00:00:00",
          "2018-10-31T00:00:00",
          "2018-11-30T00:00:00",
          "2018-12-31T00:00:00",
          "2019-01-31T00:00:00",
          "2019-02-28T00:00:00",
          "2019-03-31T00:00:00",
          "2019-04-30T00:00:00",
          "2019-05-31T00:00:00",
          "2019-06-30T00:00:00",
          "2019-07-31T00:00:00",
          "2019-08-31T00:00:00",
          "2019-09-30T00:00:00",
          "2019-10-31T00:00:00",
          "2019-11-30T00:00:00",
          "2019-12-31T00:00:00",
          "2020-01-31T00:00:00",
          "2020-02-29T00:00:00",
          "2020-03-31T00:00:00",
          "2020-04-30T00:00:00",
          "2020-05-31T00:00:00",
          "2020-06-30T00:00:00",
          "2020-07-31T00:00:00",
          "2020-08-31T00:00:00",
          "2020-09-30T00:00:00",
          "2020-10-31T00:00:00",
          "2020-11-30T00:00:00",
          "2020-12-31T00:00:00",
          "2021-01-31T00:00:00",
          "2021-02-28T00:00:00",
          "2021-03-31T00:00:00",
          "2021-04-30T00:00:00",
          "2021-05-31T00:00:00",
          "2021-06-30T00:00:00",
          "2021-07-31T00:00:00",
          "2021-08-31T00:00:00",
          "2021-09-30T00:00:00",
          "2021-10-31T00:00:00",
          "2021-11-30T00:00:00",
          "2021-12-31T00:00:00",
          "2022-01-31T00:00:00",
          "2022-02-28T00:00:00",
          "2022-03-31T00:00:00",
          "2022-04-30T00:00:00",
          "2022-05-31T00:00:00",
          "2022-06-30T00:00:00",
          "2022-07-31T00:00:00",
          "2022-08-31T00:00:00",
          "2022-09-30T00:00:00",
          "2022-10-31T00:00:00",
          "2022-11-30T00:00:00",
          "2022-12-31T00:00:00",
          "2023-01-31T00:00:00",
          "2023-02-28T00:00:00",
          "2023-03-31T00:00:00",
          "2023-04-30T00:00:00",
          "2023-05-31T00:00:00",
          "2023-06-30T00:00:00",
          "2023-07-31T00:00:00",
          "2023-08-31T00:00:00",
          "2023-09-30T00:00:00",
          "2023-10-31T00:00:00",
          "2023-11-30T00:00:00"
         ],
         "xaxis": "x",
         "y": [
          -0.937411111250164,
          -1.073226180461597,
          -1.1337399854934767,
          -1.0182445084229224,
          -0.8695996972045419,
          -0.662830982823394,
          -0.41071821008150833,
          -0.2563038947558234,
          -0.1675752348119378,
          -0.0680288051903148,
          0.15764646138118493,
          0.5724238288025151,
          1.0889055777126817,
          1.4533619281591457,
          1.5599891209671375,
          1.1577869333035002,
          0.38462469073674094,
          -0.44978480427105655,
          -1.129139858084528,
          -1.4294889149256478,
          -1.4838069950622614,
          -1.4842241599135055,
          -1.6783780827838635,
          -1.916359298456317,
          -2.0061056690118995,
          -1.696393214136718,
          -1.1835693116063153,
          -0.6510196027415625,
          -0.17420947821598246,
          0.14421580536081163,
          0.2967451406073113,
          0.33315558408624535,
          0.3046509923034769,
          0.25130145692652206,
          0.2266297434863315,
          0.19425174568069772,
          0.21391685001147856,
          0.13161968513743985,
          0.08669697167989304,
          0.014392457893759104,
          -0.013720866631356412,
          0.08469896211460133,
          0.20054150684498886,
          0.4287591719023405,
          0.5920650752494679,
          0.6243719592435101,
          0.666724204604595,
          0.6515506040835622,
          0.6333973191547267,
          0.5899131964294373,
          0.5238378079509358,
          0.4590074210924368,
          0.38697779292679074,
          0.27439176962139344,
          0.14373445796954507,
          0.03543863903568132,
          -0.08571592576214863,
          -0.1188188396300589,
          -0.08598364057508616,
          -0.01699805378891918,
          0.04442309961610423,
          -0.013229746349984176,
          -0.09411264886422945,
          -0.19216882153694068,
          -0.12700338345184606,
          0.07396504068870284,
          0.2544633079780429,
          0.35561566564611846,
          0.31287465332709996,
          0.22868758376637058,
          0.2121246391808572,
          0.27344972169880843,
          0.33551422591526925,
          0.4005919894983088,
          0.4677148907810787,
          0.45782626477094684,
          0.25130579567291017,
          -0.02656801841401506,
          -0.21861161874726898,
          -0.34276278755393397,
          -0.40144690026084173,
          -0.38546781141601133,
          -0.34557580658238074,
          -0.32213899535500023,
          -0.3121056652613363,
          -0.27500233297909343,
          -0.2307960751215082,
          -0.14383102388789412,
          -0.044803830599495435,
          0.010586196028577717,
          0.12062190665101262,
          0.3208002152490185,
          0.7141732671719306,
          1.5352984872096302,
          2.3033484851276955,
          2.9670642144850685,
          3.1966115619908515,
          3.070942015642879,
          2.916555258412785,
          2.6821241346091678,
          2.5860948050109607,
          2.653092572399972,
          2.737432240303539,
          2.754526919110396,
          2.6664899901816566,
          2.4511184053961546,
          2.2515398547669165,
          2.1281059432710543,
          2.0197434644114027,
          1.8163242871504266,
          1.3897400011993457,
          0.8439216302882174,
          0.4401710881234257,
          0.17673802381275225,
          0.0648118173876619,
          -0.005864714226841191,
          -0.08080148280917088,
          -0.12754737940433117,
          -0.23413821835670673,
          -0.2957114148559593,
          -0.3171564573429567,
          -0.29828014915500534,
          -0.2912442349455842,
          -0.33617936966015316,
          -0.4186754838459584,
          -0.47149692093314727,
          -0.48903311784363734,
          -0.46462267354947506,
          -0.4430551170316185,
          -0.40106261436110163,
          -0.3479766133222799,
          -0.29735080505758,
          -0.24595831797680515,
          -0.18181711549545862,
          -0.08830125395063261,
          0.0032598874490558072,
          0.12203209064499104,
          0.3584632873891477,
          0.5502434423093323,
          0.7045138101953946,
          0.7551638525052591,
          0.7650930009137883,
          1.037878687477018,
          1.3759142705222152,
          1.6851038014828603,
          1.6700550671368357,
          1.5399730530206843,
          1.4219215739637865,
          1.288730681960565,
          1.0982345189983864,
          1.0262857526791451,
          0.9545170136811223,
          0.8294276948476794,
          0.6076130800583558,
          0.47854688454962474,
          0.49898931169551564,
          0.5687486433153973,
          0.6956592034632455,
          0.907562757211258,
          1.1441999197004538,
          1.3078392013657092,
          1.3884080523894795,
          1.2520756765464496,
          0.9361117245417941,
          0.3391469778387796,
          -0.41871679406865253,
          -0.9549382221719247,
          -1.3530717062480344,
          -1.4159388491275733,
          -1.193100294092065,
          -0.7005905051510689,
          0.03739643216141425,
          0.9588798463791328,
          1.9500828196140139,
          2.4149000840578054,
          2.351797924271547,
          1.8789756355828804,
          1.3060002759443907,
          0.9609090747974048,
          0.758695493174895,
          0.610594289555219,
          0.5629483864579529,
          0.521087205147203,
          0.4742322852659767,
          0.3909982536824715,
          0.3204801177793247,
          0.2748669432638368,
          0.23311220239491565,
          0.18928696678957968,
          0.06861118488667034,
          -0.04142923781364924,
          -0.1794674565667835,
          -0.24324757320186893,
          -0.24771752049329024,
          -0.14914374303251024,
          -0.10608902888690913,
          -0.051572900747709746,
          -0.1385000351056121,
          -0.34053235088901157,
          -0.45014570687799527,
          -0.4957016762802188,
          -0.42550965632293863,
          -0.3697286714179478,
          -0.3582309333543662,
          -0.3261353430136711,
          -0.21297192492541056,
          0.004162549268473543,
          0.23147631693689943,
          0.4246458793585098,
          0.5896631234001563,
          0.675363326545682,
          0.7428590962965232,
          0.7664637448478143,
          0.774479805612335,
          0.7532584134519772,
          0.7244037008337187,
          0.7142352517571404,
          0.6361535144072428,
          0.6596046628907096,
          0.8156233106424513,
          1.0830793865041806,
          1.4336096992363738,
          1.7154001120584468,
          1.8630641886777815,
          2.0560847980377273,
          2.1843028965419804,
          2.2893880893466454,
          2.4806172451470054,
          2.811067015077116,
          3.141527881301077,
          3.346729190902823,
          3.3835383757989947,
          3.372060350292991,
          3.3208958561289337,
          3.26885124842832,
          3.1528035325415953,
          2.9775844697535168,
          2.8111034333276335,
          2.6369606895076743,
          2.491798331366414,
          2.46686985562439,
          2.6777683415521873,
          3.0732266957008143,
          3.62747076940793,
          4.521094915931499,
          5.568719696044888,
          6.423798030885179,
          6.493121346630126,
          5.9440228449053905,
          5.2023853310649635,
          4.5043186225552185,
          4.129723440866678,
          3.8701031593704927,
          3.6131327866741447,
          3.355125819978915,
          3.1169944676451617,
          2.9370701683165836,
          2.7832337973255,
          2.605878204128543,
          2.451437025910889,
          2.333454575040651,
          2.183940662022103,
          2.0237647647655237,
          1.9832952850769248,
          1.9976359474200516,
          2.0336789667756356,
          2.0514829662241105,
          1.9872018871496382,
          1.8525900147025292,
          1.676348823661585,
          1.49658048331692,
          1.2900189139281535,
          1.0917641432825478,
          0.9547978056930069,
          1.0330376787568443,
          1.5869466556122618,
          2.065084868492757,
          2.4435411180063635,
          2.4755816446399366,
          2.4083379112792436,
          2.239651774513454,
          2.115242625382918,
          2.046147982220263,
          2.0341354845965127,
          1.9854361209636129,
          1.975464766473664,
          2.0484117346254824,
          2.1922186472484646,
          2.427102920995589,
          2.6802361143544005,
          2.8423299181789936,
          3.011357638069061,
          3.0963517590300893,
          3.1058307512212484,
          3.0891435361556927,
          3.1088683075286934,
          3.2130235898376216,
          3.27286675347735,
          3.30338786209428,
          3.2533142415236296,
          3.1370235510009987,
          2.9174541769080724,
          2.6359695317681022,
          2.322589290852673,
          1.9962949284319809,
          1.6503361520420203,
          1.399600227563791,
          1.1914734016158988,
          0.9523403694421978,
          0.7878874890114196,
          0.478723318103443,
          0.18378916573959675,
          -0.037858752705916036,
          -0.17847659602618368,
          -0.22420973401655223,
          -0.2613423254636163,
          -0.2451425892224157,
          -0.17705465120328973,
          -0.10166317214044156,
          -0.0509924519558936,
          -0.045272723639920805,
          -0.07260744200486426,
          -0.1546141999655747,
          -0.2708778462068186,
          -0.32190326165678823,
          -0.3326401832942,
          -0.3181069805158802,
          -0.3014695391406437,
          -0.23677899666768384,
          -0.12118610786733461,
          -0.012508800127119527,
          0.07938414699875318,
          0.13854331186277166,
          0.16109021401219537,
          0.17447146099353222,
          0.19536450182063916,
          0.2394963158154756,
          0.3030768117707238,
          0.3758413540998642,
          0.44291240988704245,
          0.4371395804610087,
          0.4001936907425969,
          0.3429293164543404,
          0.324318739620976,
          0.31063039235150647,
          0.2769525954694217,
          0.2401290426658781,
          0.19413790278349155,
          0.1724042423175831,
          0.1671053618753259,
          0.2366768437129296,
          0.33663406307205546,
          0.45254286664533694,
          0.4526299408665878,
          0.22567854108664576,
          0.04506471527179432,
          -0.1609796171848352,
          -0.24818152763556492,
          -0.2504863723738825,
          -0.19908329760130614,
          -0.22287412910417712,
          -0.350292733476696,
          -0.7573238689879643,
          -1.0615169109267828,
          -1.1287488175138636,
          -1.0238636333306201,
          -0.911213762693424,
          -0.9106616474932734,
          -0.8876209898165862,
          -0.9150999064055905,
          -1.0520495067824225,
          -1.2377552886602463,
          -1.4132233597189128,
          -1.5868411866325058,
          -1.8213596314693754,
          -2.1459391607677096,
          -2.7923557032881736,
          -4.31281111491234,
          -5.967326139061244,
          -7.228356590587014,
          -7.735565786172573,
          -7.794310890731055,
          -7.608445514708134,
          -7.2504116153381855,
          -6.714927448180935,
          -6.202273626769726,
          -5.623782673094206,
          -4.93179159548602,
          -4.126968074203997,
          -3.3143250514134075,
          -2.420995769973854,
          -1.6229841255567719,
          -0.7592692135009289,
          -0.13912550064944262,
          0.43100014295430467,
          0.8586358803982678,
          1.1848276366875372,
          1.3655232460820852,
          1.4876517455866543,
          1.4480373437150742,
          1.4506382051780178,
          1.3372253686455746,
          1.2188026035209618,
          1.1388362875278888,
          1.135709616534248,
          1.3195064865893869,
          1.6267564125924519,
          2.0818070279470064,
          2.263923074905012,
          2.263923074905012
         ],
         "yaxis": "y"
        },
        {
         "hovertemplate": "%{y}",
         "legendgroup": "IPM",
         "line": {
          "color": "#EF553B",
          "dash": "solid"
         },
         "marker": {
          "symbol": "circle"
         },
         "mode": "lines",
         "name": "IPM",
         "showlegend": true,
         "type": "scattergl",
         "x": [
          "1989-10-31T00:00:00",
          "1989-11-30T00:00:00",
          "1989-12-31T00:00:00",
          "1990-01-31T00:00:00",
          "1990-02-28T00:00:00",
          "1990-03-31T00:00:00",
          "1990-04-30T00:00:00",
          "1990-05-31T00:00:00",
          "1990-06-30T00:00:00",
          "1990-07-31T00:00:00",
          "1990-08-31T00:00:00",
          "1990-09-30T00:00:00",
          "1990-10-31T00:00:00",
          "1990-11-30T00:00:00",
          "1990-12-31T00:00:00",
          "1991-01-31T00:00:00",
          "1991-02-28T00:00:00",
          "1991-03-31T00:00:00",
          "1991-04-30T00:00:00",
          "1991-05-31T00:00:00",
          "1991-06-30T00:00:00",
          "1991-07-31T00:00:00",
          "1991-08-31T00:00:00",
          "1991-09-30T00:00:00",
          "1991-10-31T00:00:00",
          "1991-11-30T00:00:00",
          "1991-12-31T00:00:00",
          "1992-01-31T00:00:00",
          "1992-02-29T00:00:00",
          "1992-03-31T00:00:00",
          "1992-04-30T00:00:00",
          "1992-05-31T00:00:00",
          "1992-06-30T00:00:00",
          "1992-07-31T00:00:00",
          "1992-08-31T00:00:00",
          "1992-09-30T00:00:00",
          "1992-10-31T00:00:00",
          "1992-11-30T00:00:00",
          "1992-12-31T00:00:00",
          "1993-01-31T00:00:00",
          "1993-02-28T00:00:00",
          "1993-03-31T00:00:00",
          "1993-04-30T00:00:00",
          "1993-05-31T00:00:00",
          "1993-06-30T00:00:00",
          "1993-07-31T00:00:00",
          "1993-08-31T00:00:00",
          "1993-09-30T00:00:00",
          "1993-10-31T00:00:00",
          "1993-11-30T00:00:00",
          "1993-12-31T00:00:00",
          "1994-01-31T00:00:00",
          "1994-02-28T00:00:00",
          "1994-03-31T00:00:00",
          "1994-04-30T00:00:00",
          "1994-05-31T00:00:00",
          "1994-06-30T00:00:00",
          "1994-07-31T00:00:00",
          "1994-08-31T00:00:00",
          "1994-09-30T00:00:00",
          "1994-10-31T00:00:00",
          "1994-11-30T00:00:00",
          "1994-12-31T00:00:00",
          "1995-01-31T00:00:00",
          "1995-02-28T00:00:00",
          "1995-03-31T00:00:00",
          "1995-04-30T00:00:00",
          "1995-05-31T00:00:00",
          "1995-06-30T00:00:00",
          "1995-07-31T00:00:00",
          "1995-08-31T00:00:00",
          "1995-09-30T00:00:00",
          "1995-10-31T00:00:00",
          "1995-11-30T00:00:00",
          "1995-12-31T00:00:00",
          "1996-01-31T00:00:00",
          "1996-02-29T00:00:00",
          "1996-03-31T00:00:00",
          "1996-04-30T00:00:00",
          "1996-05-31T00:00:00",
          "1996-06-30T00:00:00",
          "1996-07-31T00:00:00",
          "1996-08-31T00:00:00",
          "1996-09-30T00:00:00",
          "1996-10-31T00:00:00",
          "1996-11-30T00:00:00",
          "1996-12-31T00:00:00",
          "1997-01-31T00:00:00",
          "1997-02-28T00:00:00",
          "1997-03-31T00:00:00",
          "1997-04-30T00:00:00",
          "1997-05-31T00:00:00",
          "1997-06-30T00:00:00",
          "1997-07-31T00:00:00",
          "1997-08-31T00:00:00",
          "1997-09-30T00:00:00",
          "1997-10-31T00:00:00",
          "1997-11-30T00:00:00",
          "1997-12-31T00:00:00",
          "1998-01-31T00:00:00",
          "1998-02-28T00:00:00",
          "1998-03-31T00:00:00",
          "1998-04-30T00:00:00",
          "1998-05-31T00:00:00",
          "1998-06-30T00:00:00",
          "1998-07-31T00:00:00",
          "1998-08-31T00:00:00",
          "1998-09-30T00:00:00",
          "1998-10-31T00:00:00",
          "1998-11-30T00:00:00",
          "1998-12-31T00:00:00",
          "1999-01-31T00:00:00",
          "1999-02-28T00:00:00",
          "1999-03-31T00:00:00",
          "1999-04-30T00:00:00",
          "1999-05-31T00:00:00",
          "1999-06-30T00:00:00",
          "1999-07-31T00:00:00",
          "1999-08-31T00:00:00",
          "1999-09-30T00:00:00",
          "1999-10-31T00:00:00",
          "1999-11-30T00:00:00",
          "1999-12-31T00:00:00",
          "2000-01-31T00:00:00",
          "2000-02-29T00:00:00",
          "2000-03-31T00:00:00",
          "2000-04-30T00:00:00",
          "2000-05-31T00:00:00",
          "2000-06-30T00:00:00",
          "2000-07-31T00:00:00",
          "2000-08-31T00:00:00",
          "2000-09-30T00:00:00",
          "2000-10-31T00:00:00",
          "2000-11-30T00:00:00",
          "2000-12-31T00:00:00",
          "2001-01-31T00:00:00",
          "2001-02-28T00:00:00",
          "2001-03-31T00:00:00",
          "2001-04-30T00:00:00",
          "2001-05-31T00:00:00",
          "2001-06-30T00:00:00",
          "2001-07-31T00:00:00",
          "2001-08-31T00:00:00",
          "2001-09-30T00:00:00",
          "2001-10-31T00:00:00",
          "2001-11-30T00:00:00",
          "2001-12-31T00:00:00",
          "2002-01-31T00:00:00",
          "2002-02-28T00:00:00",
          "2002-03-31T00:00:00",
          "2002-04-30T00:00:00",
          "2002-05-31T00:00:00",
          "2002-06-30T00:00:00",
          "2002-07-31T00:00:00",
          "2002-08-31T00:00:00",
          "2002-09-30T00:00:00",
          "2002-10-31T00:00:00",
          "2002-11-30T00:00:00",
          "2002-12-31T00:00:00",
          "2003-01-31T00:00:00",
          "2003-02-28T00:00:00",
          "2003-03-31T00:00:00",
          "2003-04-30T00:00:00",
          "2003-05-31T00:00:00",
          "2003-06-30T00:00:00",
          "2003-07-31T00:00:00",
          "2003-08-31T00:00:00",
          "2003-09-30T00:00:00",
          "2003-10-31T00:00:00",
          "2003-11-30T00:00:00",
          "2003-12-31T00:00:00",
          "2004-01-31T00:00:00",
          "2004-02-29T00:00:00",
          "2004-03-31T00:00:00",
          "2004-04-30T00:00:00",
          "2004-05-31T00:00:00",
          "2004-06-30T00:00:00",
          "2004-07-31T00:00:00",
          "2004-08-31T00:00:00",
          "2004-09-30T00:00:00",
          "2004-10-31T00:00:00",
          "2004-11-30T00:00:00",
          "2004-12-31T00:00:00",
          "2005-01-31T00:00:00",
          "2005-02-28T00:00:00",
          "2005-03-31T00:00:00",
          "2005-04-30T00:00:00",
          "2005-05-31T00:00:00",
          "2005-06-30T00:00:00",
          "2005-07-31T00:00:00",
          "2005-08-31T00:00:00",
          "2005-09-30T00:00:00",
          "2005-10-31T00:00:00",
          "2005-11-30T00:00:00",
          "2005-12-31T00:00:00",
          "2006-01-31T00:00:00",
          "2006-02-28T00:00:00",
          "2006-03-31T00:00:00",
          "2006-04-30T00:00:00",
          "2006-05-31T00:00:00",
          "2006-06-30T00:00:00",
          "2006-07-31T00:00:00",
          "2006-08-31T00:00:00",
          "2006-09-30T00:00:00",
          "2006-10-31T00:00:00",
          "2006-11-30T00:00:00",
          "2006-12-31T00:00:00",
          "2007-01-31T00:00:00",
          "2007-02-28T00:00:00",
          "2007-03-31T00:00:00",
          "2007-04-30T00:00:00",
          "2007-05-31T00:00:00",
          "2007-06-30T00:00:00",
          "2007-07-31T00:00:00",
          "2007-08-31T00:00:00",
          "2007-09-30T00:00:00",
          "2007-10-31T00:00:00",
          "2007-11-30T00:00:00",
          "2007-12-31T00:00:00",
          "2008-01-31T00:00:00",
          "2008-02-29T00:00:00",
          "2008-03-31T00:00:00",
          "2008-04-30T00:00:00",
          "2008-05-31T00:00:00",
          "2008-06-30T00:00:00",
          "2008-07-31T00:00:00",
          "2008-08-31T00:00:00",
          "2008-09-30T00:00:00",
          "2008-10-31T00:00:00",
          "2008-11-30T00:00:00",
          "2008-12-31T00:00:00",
          "2009-01-31T00:00:00",
          "2009-02-28T00:00:00",
          "2009-03-31T00:00:00",
          "2009-04-30T00:00:00",
          "2009-05-31T00:00:00",
          "2009-06-30T00:00:00",
          "2009-07-31T00:00:00",
          "2009-08-31T00:00:00",
          "2009-09-30T00:00:00",
          "2009-10-31T00:00:00",
          "2009-11-30T00:00:00",
          "2009-12-31T00:00:00",
          "2010-01-31T00:00:00",
          "2010-02-28T00:00:00",
          "2010-03-31T00:00:00",
          "2010-04-30T00:00:00",
          "2010-05-31T00:00:00",
          "2010-06-30T00:00:00",
          "2010-07-31T00:00:00",
          "2010-08-31T00:00:00",
          "2010-09-30T00:00:00",
          "2010-10-31T00:00:00",
          "2010-11-30T00:00:00",
          "2010-12-31T00:00:00",
          "2011-01-31T00:00:00",
          "2011-02-28T00:00:00",
          "2011-03-31T00:00:00",
          "2011-04-30T00:00:00",
          "2011-05-31T00:00:00",
          "2011-06-30T00:00:00",
          "2011-07-31T00:00:00",
          "2011-08-31T00:00:00",
          "2011-09-30T00:00:00",
          "2011-10-31T00:00:00",
          "2011-11-30T00:00:00",
          "2011-12-31T00:00:00",
          "2012-01-31T00:00:00",
          "2012-02-29T00:00:00",
          "2012-03-31T00:00:00",
          "2012-04-30T00:00:00",
          "2012-05-31T00:00:00",
          "2012-06-30T00:00:00",
          "2012-07-31T00:00:00",
          "2012-08-31T00:00:00",
          "2012-09-30T00:00:00",
          "2012-10-31T00:00:00",
          "2012-11-30T00:00:00",
          "2012-12-31T00:00:00",
          "2013-01-31T00:00:00",
          "2013-02-28T00:00:00",
          "2013-03-31T00:00:00",
          "2013-04-30T00:00:00",
          "2013-05-31T00:00:00",
          "2013-06-30T00:00:00",
          "2013-07-31T00:00:00",
          "2013-08-31T00:00:00",
          "2013-09-30T00:00:00",
          "2013-10-31T00:00:00",
          "2013-11-30T00:00:00",
          "2013-12-31T00:00:00",
          "2014-01-31T00:00:00",
          "2014-02-28T00:00:00",
          "2014-03-31T00:00:00",
          "2014-04-30T00:00:00",
          "2014-05-31T00:00:00",
          "2014-06-30T00:00:00",
          "2014-07-31T00:00:00",
          "2014-08-31T00:00:00",
          "2014-09-30T00:00:00",
          "2014-10-31T00:00:00",
          "2014-11-30T00:00:00",
          "2014-12-31T00:00:00",
          "2015-01-31T00:00:00",
          "2015-02-28T00:00:00",
          "2015-03-31T00:00:00",
          "2015-04-30T00:00:00",
          "2015-05-31T00:00:00",
          "2015-06-30T00:00:00",
          "2015-07-31T00:00:00",
          "2015-08-31T00:00:00",
          "2015-09-30T00:00:00",
          "2015-10-31T00:00:00",
          "2015-11-30T00:00:00",
          "2015-12-31T00:00:00",
          "2016-01-31T00:00:00",
          "2016-02-29T00:00:00",
          "2016-03-31T00:00:00",
          "2016-04-30T00:00:00",
          "2016-05-31T00:00:00",
          "2016-06-30T00:00:00",
          "2016-07-31T00:00:00",
          "2016-08-31T00:00:00",
          "2016-09-30T00:00:00",
          "2016-10-31T00:00:00",
          "2016-11-30T00:00:00",
          "2016-12-31T00:00:00",
          "2017-01-31T00:00:00",
          "2017-02-28T00:00:00",
          "2017-03-31T00:00:00",
          "2017-04-30T00:00:00",
          "2017-05-31T00:00:00",
          "2017-06-30T00:00:00",
          "2017-07-31T00:00:00",
          "2017-08-31T00:00:00",
          "2017-09-30T00:00:00",
          "2017-10-31T00:00:00",
          "2017-11-30T00:00:00",
          "2017-12-31T00:00:00",
          "2018-01-31T00:00:00",
          "2018-02-28T00:00:00",
          "2018-03-31T00:00:00",
          "2018-04-30T00:00:00",
          "2018-05-31T00:00:00",
          "2018-06-30T00:00:00",
          "2018-07-31T00:00:00",
          "2018-08-31T00:00:00",
          "2018-09-30T00:00:00",
          "2018-10-31T00:00:00",
          "2018-11-30T00:00:00",
          "2018-12-31T00:00:00",
          "2019-01-31T00:00:00",
          "2019-02-28T00:00:00",
          "2019-03-31T00:00:00",
          "2019-04-30T00:00:00",
          "2019-05-31T00:00:00",
          "2019-06-30T00:00:00",
          "2019-07-31T00:00:00",
          "2019-08-31T00:00:00",
          "2019-09-30T00:00:00",
          "2019-10-31T00:00:00",
          "2019-11-30T00:00:00",
          "2019-12-31T00:00:00",
          "2020-01-31T00:00:00",
          "2020-02-29T00:00:00",
          "2020-03-31T00:00:00",
          "2020-04-30T00:00:00",
          "2020-05-31T00:00:00",
          "2020-06-30T00:00:00",
          "2020-07-31T00:00:00",
          "2020-08-31T00:00:00",
          "2020-09-30T00:00:00",
          "2020-10-31T00:00:00",
          "2020-11-30T00:00:00",
          "2020-12-31T00:00:00",
          "2021-01-31T00:00:00",
          "2021-02-28T00:00:00",
          "2021-03-31T00:00:00",
          "2021-04-30T00:00:00",
          "2021-05-31T00:00:00",
          "2021-06-30T00:00:00",
          "2021-07-31T00:00:00",
          "2021-08-31T00:00:00",
          "2021-09-30T00:00:00",
          "2021-10-31T00:00:00",
          "2021-11-30T00:00:00",
          "2021-12-31T00:00:00",
          "2022-01-31T00:00:00",
          "2022-02-28T00:00:00",
          "2022-03-31T00:00:00",
          "2022-04-30T00:00:00",
          "2022-05-31T00:00:00",
          "2022-06-30T00:00:00",
          "2022-07-31T00:00:00",
          "2022-08-31T00:00:00",
          "2022-09-30T00:00:00",
          "2022-10-31T00:00:00",
          "2022-11-30T00:00:00",
          "2022-12-31T00:00:00",
          "2023-01-31T00:00:00",
          "2023-02-28T00:00:00",
          "2023-03-31T00:00:00",
          "2023-04-30T00:00:00",
          "2023-05-31T00:00:00",
          "2023-06-30T00:00:00",
          "2023-07-31T00:00:00",
          "2023-08-31T00:00:00",
          "2023-09-30T00:00:00",
          "2023-10-31T00:00:00",
          "2023-11-30T00:00:00"
         ],
         "xaxis": "x",
         "y": [
          -3.7261974436460426,
          -3.6175147735474336,
          -3.4763831678966817,
          -3.1789218847983953,
          -2.8706713404251727,
          -2.507982783745155,
          -2.1231986478662193,
          -1.851275304541319,
          -1.6571661838597191,
          -1.482772200645635,
          -1.2826221863793226,
          -1.0687651502197453,
          -0.882721801050691,
          -0.7601898834878026,
          -0.6642906671406311,
          -0.6315243242431067,
          -0.6994738222197112,
          -0.8702688526781608,
          -1.1594216994284134,
          -1.3736364777607548,
          -1.4188929802665953,
          -1.4127122647251573,
          -1.732621506226128,
          -2.482838527263359,
          -3.5056549565163047,
          -4.299131629465503,
          -5.060588704762609,
          -5.535292278758859,
          -5.827938930500853,
          -5.8499196171060515,
          -5.67387308330555,
          -5.403644970979797,
          -5.100354229473887,
          -4.787377914692233,
          -4.497110654243983,
          -4.203826751129798,
          -3.9318343921185903,
          -3.616835196436467,
          -3.363794322851131,
          -3.127060182091236,
          -2.919115278398664,
          -2.6852298218308315,
          -2.459327297260043,
          -2.2284450928401087,
          -2.0217602471798375,
          -1.851360939388826,
          -1.7012847827830295,
          -1.5816829188664614,
          -1.4929990550216667,
          -1.4055051155841747,
          -1.3126520499707055,
          -1.2161524345087693,
          -1.11456631041711,
          -1.0223431391166533,
          -0.9497842093269262,
          -0.8988018143776695,
          -0.8648923787348219,
          -0.7821951153218314,
          -0.6714799126814038,
          -0.5360621190412416,
          -0.39664051649692306,
          -0.37305410416273077,
          -0.4057931295560912,
          -0.5034600093978756,
          -0.39987710287157224,
          0.05784117188272752,
          0.7736687087351456,
          1.6131404768175759,
          2.5164770962436482,
          3.4049890010680537,
          4.083701351375253,
          4.748038303268893,
          5.271596819609245,
          5.834981094386797,
          6.271025358062936,
          6.517132255079339,
          6.552862875272846,
          6.41975187528917,
          6.161633554836438,
          5.872992638127017,
          5.602221560532858,
          5.277638693052766,
          4.876046397772829,
          4.367291723942892,
          3.9576710900125556,
          3.770820326265078,
          3.626305511783193,
          3.6129983454881573,
          3.6134261119174513,
          3.5612292377243735,
          3.6235776934627415,
          3.8372186590512842,
          4.348739068326366,
          5.408487028059949,
          6.317199698699102,
          7.1143749941128585,
          7.287368445503696,
          6.935451848466253,
          6.482823474178371,
          5.895119392464737,
          5.625496916895877,
          5.8438683634242645,
          6.228877135409975,
          6.449680930673795,
          6.402137190798803,
          5.938413895765797,
          5.384396322531499,
          4.769087678708958,
          4.363035130535335,
          4.197568009005856,
          4.19999667606463,
          4.2246880969753,
          4.139881284736441,
          4.000274560312617,
          3.8133879762799925,
          3.6306398414633465,
          3.46294507868317,
          3.3004150301950794,
          3.3387909647217175,
          3.370668906662077,
          3.4119085824398194,
          3.331003266546201,
          3.172291478496697,
          2.9039373785599545,
          2.6381985132476014,
          2.404104849483417,
          2.167509827146552,
          1.9684662078173698,
          1.7575064861570917,
          1.5778629734891434,
          1.4574582942900958,
          1.3521639877270397,
          1.2454517866491088,
          1.153085339143897,
          1.1711141366251294,
          1.2515672130485902,
          1.370862661079776,
          1.5757000973159878,
          1.764297735261036,
          1.9062325684935513,
          1.9303785055879346,
          1.9181984603254916,
          2.2677905217642698,
          2.8131306733041543,
          3.35017601151657,
          3.410166572489729,
          3.267572966044804,
          3.144612842101024,
          3.063969614402464,
          2.864816109932392,
          2.995412185534443,
          3.2822197693095116,
          4.123514441138575,
          5.21748659998093,
          6.145289643253727,
          7.002494299642388,
          7.495579360292551,
          7.8308135360337685,
          8.008008119657127,
          8.033378837579328,
          7.928915247782271,
          7.698664328939109,
          7.332853600474029,
          6.899452439104657,
          6.288822090256162,
          5.468937103605278,
          4.534371199985703,
          3.3300353316295843,
          2.1314226882976217,
          1.1691925845240168,
          0.28021976732190107,
          -0.5202287488642756,
          -1.27237101432745,
          -1.8346112924262226,
          -2.0807329181460408,
          -2.106770351533206,
          -1.9943846034658532,
          -1.8393667718907807,
          -1.703171194850388,
          -1.569695191646647,
          -1.4257659883274059,
          -1.30503281867818,
          -1.192768089479625,
          -1.0954000765638132,
          -0.9890804408006074,
          -0.9020950682580965,
          -0.8160592193806946,
          -0.7132996254990402,
          -0.6085941670160798,
          -0.4487170435777345,
          -0.29032049291765394,
          -0.1460574673227781,
          -0.05774993467435651,
          -0.009829246638966161,
          0.014914305077636025,
          0.032161192509122714,
          0.04150931732132984,
          0.040941075142727885,
          0.03219873622215072,
          0.024010783457093128,
          0.011942080422880419,
          0.018167920003714345,
          0.013168023189134206,
          0.0026172275272321505,
          -0.009069886742881767,
          -0.007966530564030674,
          -0.031496306322496365,
          -0.042475658265160504,
          -0.05256728144186843,
          -0.051556949271460706,
          -0.06172982340598712,
          -0.10224084125436936,
          -0.1172698414558731,
          -0.11485103060820465,
          -0.09184311151980448,
          -0.07195909776361106,
          -0.05530947503989604,
          -0.051274717901609076,
          -0.06315029961801095,
          -0.07501189312846324,
          -0.06398740519322271,
          -0.045605422865378546,
          -0.0026135276379279974,
          0.05881234610951731,
          0.16155407103932562,
          0.2533930544688201,
          0.3523646578840121,
          0.5881537054898851,
          1.188882582648758,
          2.0175793165040554,
          2.9177260487510117,
          3.683899270034582,
          4.31520690346987,
          4.702849371270161,
          4.884202146797917,
          4.971748367042598,
          4.902619802170187,
          4.784567911132059,
          4.6957439434630155,
          4.483517727613877,
          4.1238003043388325,
          3.5536773062112466,
          2.9951084188626407,
          2.493225085016343,
          2.1042884428431727,
          1.9352557376083128,
          1.8590980842210838,
          1.7153521267029472,
          1.3295887008135703,
          0.6514462404871608,
          -0.09559118728478146,
          -0.5659656839621525,
          -0.6045045314622755,
          -0.41236090123824876,
          -0.1088036383924783,
          0.25207278559315144,
          0.6761086015218767,
          1.0039675053604213,
          1.2481884001205594,
          1.5106829188190432,
          1.8626105484200652,
          2.106769523161543,
          2.22065190304936,
          2.0903484589620778,
          1.941283594132307,
          1.7726962315678834,
          1.6089748725428985,
          1.4609452768127735,
          1.2984767700266588,
          1.1864607206808462,
          1.0774671002896061,
          0.9436710907599504,
          0.8258200545589544,
          0.7437837423112773,
          0.7844638109446057,
          0.949104231102392,
          1.0563379805504935,
          1.1060669543136257,
          1.0709102849235648,
          1.0327132190588573,
          0.9872440762765359,
          0.9309953050787128,
          0.869711590378359,
          0.8162971775694112,
          0.7626771879292492,
          0.6958352529081935,
          0.6171561266835366,
          0.5439136314329592,
          0.4839232078220316,
          0.45539769273585373,
          0.45173180220033204,
          0.43658340933984535,
          0.40203500654155777,
          0.3400577923586738,
          0.27003922260966706,
          0.20260534921176582,
          0.134179438867426,
          0.08349038885926241,
          0.06334937784003952,
          0.05477889786334521,
          0.04911519191850256,
          0.0367274985614234,
          0.018485350204260738,
          0.005154058936377866,
          -0.004500165403321687,
          -0.003021121931041552,
          0.000044202370217978013,
          -0.00034388093400003337,
          -0.003972887529384018,
          -0.004418590303786763,
          0.015981474168466833,
          0.037596449968638854,
          0.05511122998252021,
          0.06528190127370379,
          0.0616930152929805,
          0.06779864112185464,
          0.1174061812811934,
          0.14563435223343568,
          0.16568033135258423,
          0.14413254099266523,
          0.10183226574092542,
          0.06105233894774247,
          0.002001901449695599,
          -0.0762258815308688,
          -0.11514476145322093,
          -0.1263454556628702,
          -0.10952492224382814,
          -0.10840255954317497,
          -0.12089772350095156,
          -0.11399524779179619,
          -0.10284207389053696,
          -0.08394241749176432,
          -0.06510006664024433,
          -0.04894205759930922,
          -0.03147116991048322,
          -0.014165064347286628,
          0.019037491994185977,
          0.04901716450762286,
          0.07671569749378004,
          0.11627748226307644,
          0.11458499293047131,
          0.08775052188841996,
          0.02319265916935133,
          -0.022756377814643836,
          -0.0285172189171171,
          -0.0033409204594235906,
          0.04383182034225224,
          0.08971863443174238,
          0.0780423474742985,
          0.027873406931148415,
          -0.09661128314575873,
          -0.20841461201089737,
          -0.26262849979639014,
          -0.250655565974092,
          -0.24740316822766062,
          -0.25984503153004246,
          -0.3109242413125783,
          -0.3094142856859327,
          -0.24265866026573504,
          -0.13183587680070655,
          -0.17259829168834243,
          -0.40718538467340765,
          -1.1990372623009724,
          -1.9102109309206199,
          -2.187489752932177,
          -1.7297404444056381,
          -1.0590949396956615,
          -0.8025515393763983,
          -0.6902300094336685,
          -0.8134042896600197,
          -1.052764302022627,
          -1.315533663966248,
          -1.5909655727021557,
          -1.7397360173499037,
          -1.8524073755969839,
          -1.9819525289912336,
          -2.237670800969896,
          -2.9635861741676446,
          -3.464662274649982,
          -3.2239724035516493,
          -2.4370774243546176,
          -1.5047747833244811,
          -0.60201595251155,
          0.20287607481994407,
          1.0543776267028104,
          1.2408096942193607,
          1.2495667947586568,
          1.131272403535311,
          1.0310786957509745,
          0.8732131282121505,
          0.6021061183962034,
          0.3339097686284244,
          0.02555249288022994,
          -0.15674631164486405,
          -0.31646058833657875,
          -0.39319962705675365,
          -0.4552982119505107,
          -0.5005489603147238,
          -0.5375499640485397,
          -0.5313421641598042,
          -0.5336678627991267,
          -0.49372617534364427,
          -0.47176614029925185,
          -0.4665373275761877,
          -0.5508441292393587,
          -0.6277076594653487,
          -0.7388963745069658,
          -0.8759965434793573,
          -0.9359457008631279,
          -0.9359457008631279
         ],
         "yaxis": "y"
        },
        {
         "hovertemplate": "%{y}",
         "legendgroup": "HOUSE",
         "line": {
          "color": "#00cc96",
          "dash": "solid"
         },
         "marker": {
          "symbol": "circle"
         },
         "mode": "lines",
         "name": "HOUSE",
         "showlegend": true,
         "type": "scattergl",
         "x": [
          "1989-10-31T00:00:00",
          "1989-11-30T00:00:00",
          "1989-12-31T00:00:00",
          "1990-01-31T00:00:00",
          "1990-02-28T00:00:00",
          "1990-03-31T00:00:00",
          "1990-04-30T00:00:00",
          "1990-05-31T00:00:00",
          "1990-06-30T00:00:00",
          "1990-07-31T00:00:00",
          "1990-08-31T00:00:00",
          "1990-09-30T00:00:00",
          "1990-10-31T00:00:00",
          "1990-11-30T00:00:00",
          "1990-12-31T00:00:00",
          "1991-01-31T00:00:00",
          "1991-02-28T00:00:00",
          "1991-03-31T00:00:00",
          "1991-04-30T00:00:00",
          "1991-05-31T00:00:00",
          "1991-06-30T00:00:00",
          "1991-07-31T00:00:00",
          "1991-08-31T00:00:00",
          "1991-09-30T00:00:00",
          "1991-10-31T00:00:00",
          "1991-11-30T00:00:00",
          "1991-12-31T00:00:00",
          "1992-01-31T00:00:00",
          "1992-02-29T00:00:00",
          "1992-03-31T00:00:00",
          "1992-04-30T00:00:00",
          "1992-05-31T00:00:00",
          "1992-06-30T00:00:00",
          "1992-07-31T00:00:00",
          "1992-08-31T00:00:00",
          "1992-09-30T00:00:00",
          "1992-10-31T00:00:00",
          "1992-11-30T00:00:00",
          "1992-12-31T00:00:00",
          "1993-01-31T00:00:00",
          "1993-02-28T00:00:00",
          "1993-03-31T00:00:00",
          "1993-04-30T00:00:00",
          "1993-05-31T00:00:00",
          "1993-06-30T00:00:00",
          "1993-07-31T00:00:00",
          "1993-08-31T00:00:00",
          "1993-09-30T00:00:00",
          "1993-10-31T00:00:00",
          "1993-11-30T00:00:00",
          "1993-12-31T00:00:00",
          "1994-01-31T00:00:00",
          "1994-02-28T00:00:00",
          "1994-03-31T00:00:00",
          "1994-04-30T00:00:00",
          "1994-05-31T00:00:00",
          "1994-06-30T00:00:00",
          "1994-07-31T00:00:00",
          "1994-08-31T00:00:00",
          "1994-09-30T00:00:00",
          "1994-10-31T00:00:00",
          "1994-11-30T00:00:00",
          "1994-12-31T00:00:00",
          "1995-01-31T00:00:00",
          "1995-02-28T00:00:00",
          "1995-03-31T00:00:00",
          "1995-04-30T00:00:00",
          "1995-05-31T00:00:00",
          "1995-06-30T00:00:00",
          "1995-07-31T00:00:00",
          "1995-08-31T00:00:00",
          "1995-09-30T00:00:00",
          "1995-10-31T00:00:00",
          "1995-11-30T00:00:00",
          "1995-12-31T00:00:00",
          "1996-01-31T00:00:00",
          "1996-02-29T00:00:00",
          "1996-03-31T00:00:00",
          "1996-04-30T00:00:00",
          "1996-05-31T00:00:00",
          "1996-06-30T00:00:00",
          "1996-07-31T00:00:00",
          "1996-08-31T00:00:00",
          "1996-09-30T00:00:00",
          "1996-10-31T00:00:00",
          "1996-11-30T00:00:00",
          "1996-12-31T00:00:00",
          "1997-01-31T00:00:00",
          "1997-02-28T00:00:00",
          "1997-03-31T00:00:00",
          "1997-04-30T00:00:00",
          "1997-05-31T00:00:00",
          "1997-06-30T00:00:00",
          "1997-07-31T00:00:00",
          "1997-08-31T00:00:00",
          "1997-09-30T00:00:00",
          "1997-10-31T00:00:00",
          "1997-11-30T00:00:00",
          "1997-12-31T00:00:00",
          "1998-01-31T00:00:00",
          "1998-02-28T00:00:00",
          "1998-03-31T00:00:00",
          "1998-04-30T00:00:00",
          "1998-05-31T00:00:00",
          "1998-06-30T00:00:00",
          "1998-07-31T00:00:00",
          "1998-08-31T00:00:00",
          "1998-09-30T00:00:00",
          "1998-10-31T00:00:00",
          "1998-11-30T00:00:00",
          "1998-12-31T00:00:00",
          "1999-01-31T00:00:00",
          "1999-02-28T00:00:00",
          "1999-03-31T00:00:00",
          "1999-04-30T00:00:00",
          "1999-05-31T00:00:00",
          "1999-06-30T00:00:00",
          "1999-07-31T00:00:00",
          "1999-08-31T00:00:00",
          "1999-09-30T00:00:00",
          "1999-10-31T00:00:00",
          "1999-11-30T00:00:00",
          "1999-12-31T00:00:00",
          "2000-01-31T00:00:00",
          "2000-02-29T00:00:00",
          "2000-03-31T00:00:00",
          "2000-04-30T00:00:00",
          "2000-05-31T00:00:00",
          "2000-06-30T00:00:00",
          "2000-07-31T00:00:00",
          "2000-08-31T00:00:00",
          "2000-09-30T00:00:00",
          "2000-10-31T00:00:00",
          "2000-11-30T00:00:00",
          "2000-12-31T00:00:00",
          "2001-01-31T00:00:00",
          "2001-02-28T00:00:00",
          "2001-03-31T00:00:00",
          "2001-04-30T00:00:00",
          "2001-05-31T00:00:00",
          "2001-06-30T00:00:00",
          "2001-07-31T00:00:00",
          "2001-08-31T00:00:00",
          "2001-09-30T00:00:00",
          "2001-10-31T00:00:00",
          "2001-11-30T00:00:00",
          "2001-12-31T00:00:00",
          "2002-01-31T00:00:00",
          "2002-02-28T00:00:00",
          "2002-03-31T00:00:00",
          "2002-04-30T00:00:00",
          "2002-05-31T00:00:00",
          "2002-06-30T00:00:00",
          "2002-07-31T00:00:00",
          "2002-08-31T00:00:00",
          "2002-09-30T00:00:00",
          "2002-10-31T00:00:00",
          "2002-11-30T00:00:00",
          "2002-12-31T00:00:00",
          "2003-01-31T00:00:00",
          "2003-02-28T00:00:00",
          "2003-03-31T00:00:00",
          "2003-04-30T00:00:00",
          "2003-05-31T00:00:00",
          "2003-06-30T00:00:00",
          "2003-07-31T00:00:00",
          "2003-08-31T00:00:00",
          "2003-09-30T00:00:00",
          "2003-10-31T00:00:00",
          "2003-11-30T00:00:00",
          "2003-12-31T00:00:00",
          "2004-01-31T00:00:00",
          "2004-02-29T00:00:00",
          "2004-03-31T00:00:00",
          "2004-04-30T00:00:00",
          "2004-05-31T00:00:00",
          "2004-06-30T00:00:00",
          "2004-07-31T00:00:00",
          "2004-08-31T00:00:00",
          "2004-09-30T00:00:00",
          "2004-10-31T00:00:00",
          "2004-11-30T00:00:00",
          "2004-12-31T00:00:00",
          "2005-01-31T00:00:00",
          "2005-02-28T00:00:00",
          "2005-03-31T00:00:00",
          "2005-04-30T00:00:00",
          "2005-05-31T00:00:00",
          "2005-06-30T00:00:00",
          "2005-07-31T00:00:00",
          "2005-08-31T00:00:00",
          "2005-09-30T00:00:00",
          "2005-10-31T00:00:00",
          "2005-11-30T00:00:00",
          "2005-12-31T00:00:00",
          "2006-01-31T00:00:00",
          "2006-02-28T00:00:00",
          "2006-03-31T00:00:00",
          "2006-04-30T00:00:00",
          "2006-05-31T00:00:00",
          "2006-06-30T00:00:00",
          "2006-07-31T00:00:00",
          "2006-08-31T00:00:00",
          "2006-09-30T00:00:00",
          "2006-10-31T00:00:00",
          "2006-11-30T00:00:00",
          "2006-12-31T00:00:00",
          "2007-01-31T00:00:00",
          "2007-02-28T00:00:00",
          "2007-03-31T00:00:00",
          "2007-04-30T00:00:00",
          "2007-05-31T00:00:00",
          "2007-06-30T00:00:00",
          "2007-07-31T00:00:00",
          "2007-08-31T00:00:00",
          "2007-09-30T00:00:00",
          "2007-10-31T00:00:00",
          "2007-11-30T00:00:00",
          "2007-12-31T00:00:00",
          "2008-01-31T00:00:00",
          "2008-02-29T00:00:00",
          "2008-03-31T00:00:00",
          "2008-04-30T00:00:00",
          "2008-05-31T00:00:00",
          "2008-06-30T00:00:00",
          "2008-07-31T00:00:00",
          "2008-08-31T00:00:00",
          "2008-09-30T00:00:00",
          "2008-10-31T00:00:00",
          "2008-11-30T00:00:00",
          "2008-12-31T00:00:00",
          "2009-01-31T00:00:00",
          "2009-02-28T00:00:00",
          "2009-03-31T00:00:00",
          "2009-04-30T00:00:00",
          "2009-05-31T00:00:00",
          "2009-06-30T00:00:00",
          "2009-07-31T00:00:00",
          "2009-08-31T00:00:00",
          "2009-09-30T00:00:00",
          "2009-10-31T00:00:00",
          "2009-11-30T00:00:00",
          "2009-12-31T00:00:00",
          "2010-01-31T00:00:00",
          "2010-02-28T00:00:00",
          "2010-03-31T00:00:00",
          "2010-04-30T00:00:00",
          "2010-05-31T00:00:00",
          "2010-06-30T00:00:00",
          "2010-07-31T00:00:00",
          "2010-08-31T00:00:00",
          "2010-09-30T00:00:00",
          "2010-10-31T00:00:00",
          "2010-11-30T00:00:00",
          "2010-12-31T00:00:00",
          "2011-01-31T00:00:00",
          "2011-02-28T00:00:00",
          "2011-03-31T00:00:00",
          "2011-04-30T00:00:00",
          "2011-05-31T00:00:00",
          "2011-06-30T00:00:00",
          "2011-07-31T00:00:00",
          "2011-08-31T00:00:00",
          "2011-09-30T00:00:00",
          "2011-10-31T00:00:00",
          "2011-11-30T00:00:00",
          "2011-12-31T00:00:00",
          "2012-01-31T00:00:00",
          "2012-02-29T00:00:00",
          "2012-03-31T00:00:00",
          "2012-04-30T00:00:00",
          "2012-05-31T00:00:00",
          "2012-06-30T00:00:00",
          "2012-07-31T00:00:00",
          "2012-08-31T00:00:00",
          "2012-09-30T00:00:00",
          "2012-10-31T00:00:00",
          "2012-11-30T00:00:00",
          "2012-12-31T00:00:00",
          "2013-01-31T00:00:00",
          "2013-02-28T00:00:00",
          "2013-03-31T00:00:00",
          "2013-04-30T00:00:00",
          "2013-05-31T00:00:00",
          "2013-06-30T00:00:00",
          "2013-07-31T00:00:00",
          "2013-08-31T00:00:00",
          "2013-09-30T00:00:00",
          "2013-10-31T00:00:00",
          "2013-11-30T00:00:00",
          "2013-12-31T00:00:00",
          "2014-01-31T00:00:00",
          "2014-02-28T00:00:00",
          "2014-03-31T00:00:00",
          "2014-04-30T00:00:00",
          "2014-05-31T00:00:00",
          "2014-06-30T00:00:00",
          "2014-07-31T00:00:00",
          "2014-08-31T00:00:00",
          "2014-09-30T00:00:00",
          "2014-10-31T00:00:00",
          "2014-11-30T00:00:00",
          "2014-12-31T00:00:00",
          "2015-01-31T00:00:00",
          "2015-02-28T00:00:00",
          "2015-03-31T00:00:00",
          "2015-04-30T00:00:00",
          "2015-05-31T00:00:00",
          "2015-06-30T00:00:00",
          "2015-07-31T00:00:00",
          "2015-08-31T00:00:00",
          "2015-09-30T00:00:00",
          "2015-10-31T00:00:00",
          "2015-11-30T00:00:00",
          "2015-12-31T00:00:00",
          "2016-01-31T00:00:00",
          "2016-02-29T00:00:00",
          "2016-03-31T00:00:00",
          "2016-04-30T00:00:00",
          "2016-05-31T00:00:00",
          "2016-06-30T00:00:00",
          "2016-07-31T00:00:00",
          "2016-08-31T00:00:00",
          "2016-09-30T00:00:00",
          "2016-10-31T00:00:00",
          "2016-11-30T00:00:00",
          "2016-12-31T00:00:00",
          "2017-01-31T00:00:00",
          "2017-02-28T00:00:00",
          "2017-03-31T00:00:00",
          "2017-04-30T00:00:00",
          "2017-05-31T00:00:00",
          "2017-06-30T00:00:00",
          "2017-07-31T00:00:00",
          "2017-08-31T00:00:00",
          "2017-09-30T00:00:00",
          "2017-10-31T00:00:00",
          "2017-11-30T00:00:00",
          "2017-12-31T00:00:00",
          "2018-01-31T00:00:00",
          "2018-02-28T00:00:00",
          "2018-03-31T00:00:00",
          "2018-04-30T00:00:00",
          "2018-05-31T00:00:00",
          "2018-06-30T00:00:00",
          "2018-07-31T00:00:00",
          "2018-08-31T00:00:00",
          "2018-09-30T00:00:00",
          "2018-10-31T00:00:00",
          "2018-11-30T00:00:00",
          "2018-12-31T00:00:00",
          "2019-01-31T00:00:00",
          "2019-02-28T00:00:00",
          "2019-03-31T00:00:00",
          "2019-04-30T00:00:00",
          "2019-05-31T00:00:00",
          "2019-06-30T00:00:00",
          "2019-07-31T00:00:00",
          "2019-08-31T00:00:00",
          "2019-09-30T00:00:00",
          "2019-10-31T00:00:00",
          "2019-11-30T00:00:00",
          "2019-12-31T00:00:00",
          "2020-01-31T00:00:00",
          "2020-02-29T00:00:00",
          "2020-03-31T00:00:00",
          "2020-04-30T00:00:00",
          "2020-05-31T00:00:00",
          "2020-06-30T00:00:00",
          "2020-07-31T00:00:00",
          "2020-08-31T00:00:00",
          "2020-09-30T00:00:00",
          "2020-10-31T00:00:00",
          "2020-11-30T00:00:00",
          "2020-12-31T00:00:00",
          "2021-01-31T00:00:00",
          "2021-02-28T00:00:00",
          "2021-03-31T00:00:00",
          "2021-04-30T00:00:00",
          "2021-05-31T00:00:00",
          "2021-06-30T00:00:00",
          "2021-07-31T00:00:00",
          "2021-08-31T00:00:00",
          "2021-09-30T00:00:00",
          "2021-10-31T00:00:00",
          "2021-11-30T00:00:00",
          "2021-12-31T00:00:00",
          "2022-01-31T00:00:00",
          "2022-02-28T00:00:00",
          "2022-03-31T00:00:00",
          "2022-04-30T00:00:00",
          "2022-05-31T00:00:00",
          "2022-06-30T00:00:00",
          "2022-07-31T00:00:00",
          "2022-08-31T00:00:00",
          "2022-09-30T00:00:00",
          "2022-10-31T00:00:00",
          "2022-11-30T00:00:00",
          "2022-12-31T00:00:00",
          "2023-01-31T00:00:00",
          "2023-02-28T00:00:00",
          "2023-03-31T00:00:00",
          "2023-04-30T00:00:00",
          "2023-05-31T00:00:00",
          "2023-06-30T00:00:00",
          "2023-07-31T00:00:00",
          "2023-08-31T00:00:00",
          "2023-09-30T00:00:00",
          "2023-10-31T00:00:00",
          "2023-11-30T00:00:00"
         ],
         "xaxis": "x",
         "y": [
          6.004287007007169,
          5.444713827601311,
          4.9595890052390255,
          4.5499355088287405,
          4.225034538012393,
          3.983639746507657,
          3.77801196916595,
          3.5473096252826113,
          3.3237866563755776,
          3.1588682453015475,
          3.1975706768766545,
          3.527027518189575,
          3.997231744116004,
          4.256603274695938,
          4.255933814800377,
          3.8652719024368527,
          3.2642643242501967,
          2.639495028726991,
          2.0634338475328944,
          1.6933639953750113,
          1.4620749460920381,
          1.266745413276774,
          0.9982696386181628,
          0.6889669804794457,
          0.37397836821231206,
          0.20824302499202715,
          0.16846654676052109,
          0.22116347470819694,
          0.3345266958870457,
          0.36451775371645795,
          0.33797692535571544,
          0.21668245845902073,
          0.20184840815658822,
          0.24543414739020164,
          0.23916355667843642,
          0.22537182247075976,
          0.14811090358016146,
          0.20261709274241765,
          0.19453637495876278,
          0.18691126067267588,
          0.1406313838548353,
          0.13704680396830204,
          0.13868862264515566,
          0.14233353346480218,
          0.15661530368686225,
          0.15560197801540132,
          0.19204130367628983,
          0.21349655666884745,
          0.27949257505670727,
          0.3000789788879241,
          0.31589884282288977,
          0.34425609767049403,
          0.3313128017106352,
          0.1979808190152435,
          0.01739688010292324,
          -0.16393127467529697,
          -0.2819366557354246,
          -0.3086519119872493,
          -0.29375172096133306,
          -0.25140152196831284,
          -0.2197828384823939,
          -0.17695507138365374,
          -0.11985858952217045,
          -0.04736689259483415,
          -0.0549908401132342,
          -0.20511915417071458,
          -0.5127994311455071,
          -0.9782905417327262,
          -1.471438331697676,
          -1.7238763080543664,
          -1.702483456111998,
          -1.4862593056187816,
          -1.1342046959497643,
          -0.5917192936113531,
          0.06819556033795535,
          0.7097037823255335,
          1.09137541559198,
          1.3493705572840224,
          1.5491462668709925,
          1.71744193802399,
          1.8289626726534338,
          1.654954985670233,
          1.3832126810692262,
          1.1304761181290695,
          1.001160394064682,
          0.9991294986413509,
          0.9777480446946064,
          1.0125423988785782,
          1.0553572856089177,
          1.0385529182085644,
          1.0761237852090364,
          1.1240377821920167,
          1.2331752241460112,
          1.461199430120809,
          1.5646457239285911,
          1.5994147689661469,
          1.5291090857013376,
          1.4010603376241348,
          1.2586969560319543,
          1.0936129041678857,
          0.9614904230900914,
          0.9107265100276257,
          0.831892071340903,
          0.7294551424134036,
          0.6057183244393808,
          0.4028933492060539,
          0.10802900797216718,
          -0.17790012469846428,
          -0.3355152451034211,
          -0.3080009762044888,
          -0.09683445755035784,
          0.20131894558554475,
          0.3708790722530757,
          0.45134838200326705,
          0.47342932252378084,
          0.48131640158665623,
          0.4742955577581906,
          0.4181670594961535,
          0.276328102376222,
          0.18065193248230868,
          0.045906375201016626,
          -0.019624092435004844,
          -0.010574398756419379,
          0.1419899904140179,
          0.33718046681472874,
          0.46653813914311104,
          0.551187120060518,
          0.5610753782355777,
          0.5851574357116908,
          0.5712927397753687,
          0.4588765054715729,
          0.2979774655284562,
          0.18074915604289288,
          0.19205721075633286,
          0.26866370089309927,
          0.23058683884945558,
          0.16221190116325324,
          0.038443917572468324,
          -0.01681253438962747,
          -0.03288107416900518,
          -0.028068130895704816,
          -0.021211424762867262,
          -0.005811590218244582,
          0.049738490600345034,
          0.1146773647346089,
          0.11827411078655263,
          0.07476099841838063,
          0.02555904518453259,
          0.000100993733067018,
          -0.049224238451021,
          0.02984447498215313,
          0.15349458843799138,
          0.3667248695707008,
          0.5398250342411267,
          0.5122783979056511,
          0.2721598856935385,
          -0.12569829064536084,
          -0.5551521321403604,
          -1.0497996977308168,
          -1.5757344548001617,
          -2.1082954190765504,
          -2.461560768584217,
          -2.4927363818242023,
          -2.408466416229728,
          -2.201402990163404,
          -1.7148752786101467,
          -1.0533757198033538,
          0.03571254008450001,
          1.1072802347450388,
          2.0025870241474015,
          2.8348057934183077,
          3.485636739037264,
          3.9013195244206025,
          4.170251817718734,
          4.051143469197734,
          3.6800528133053008,
          3.1694909954524895,
          2.5643240864475922,
          2.032312537347425,
          1.6576942779748114,
          1.4331966463072614,
          1.218801892722377,
          1.0681799059922537,
          0.9052225492447403,
          0.727653994992875,
          0.5327131241968679,
          0.36033508697376254,
          0.2746033207791576,
          0.22132033317450203,
          0.1803568997741633,
          0.19487818555051323,
          0.2225187774645498,
          0.264362464981874,
          0.3015191157918417,
          0.30862744403497655,
          0.30894048600664975,
          0.29396137427200225,
          0.13423305425761664,
          -0.2424909311106966,
          -0.5537367663583205,
          -0.7811682913567575,
          -0.6853329193070595,
          -0.5975393494947313,
          -0.6365129745507927,
          -1.0191908379744,
          -1.4257876873161195,
          -1.9257241819513797,
          -2.3438563099433942,
          -2.7143581220247346,
          -2.9634838255343374,
          -3.1043065622488477,
          -3.5754686097752315,
          -4.114265791046862,
          -4.563233198885296,
          -4.744153433578331,
          -4.696493432621676,
          -4.581421571394206,
          -4.213821121134321,
          -3.5870663289094247,
          -2.6027675988615235,
          -1.6349415390992246,
          -0.8543863274665938,
          -0.3657675128286165,
          -0.056122560871950986,
          0.2867445467855089,
          0.5143125975762401,
          0.7003843338611802,
          0.97051057606725,
          1.412687719896777,
          1.896223220283069,
          2.287919960302209,
          2.5351539829671905,
          2.7260424985697966,
          2.819143216996469,
          2.8434656159271077,
          2.84015735677248,
          2.7682172013315127,
          2.678335462267839,
          2.60555052627653,
          2.5196765438033517,
          2.442129190085905,
          2.435950621725093,
          2.5151476036644085,
          2.601586020557981,
          2.7394122909757637,
          2.7796413058117926,
          2.7710379435000143,
          2.6490836178114896,
          2.3422353267545835,
          2.0576404460085658,
          1.864543262329576,
          1.710997899056021,
          1.4766728390793777,
          1.1654612282650056,
          0.8297806243132015,
          0.47924949913706766,
          0.1671806029841791,
          -0.033004885617467866,
          -0.1832495592448465,
          -0.36430737301489863,
          -0.5464107069177524,
          -0.6603035781479757,
          -0.7023213900252365,
          -0.751394469149174,
          -0.8328145448763271,
          -0.9735778807303856,
          -1.0802442213067298,
          -1.0944440421626416,
          -1.081393246240754,
          -0.9738466568354104,
          -0.8815144382118959,
          -0.8820924665265745,
          -0.8466529862209603,
          -0.7266493137431516,
          -0.2105196164712906,
          0.7135043932335046,
          1.4035185058424602,
          1.9092569652969842,
          2.023617298692907,
          2.1224680993022216,
          2.2469390310062245,
          2.381099185795888,
          2.562563736727925,
          3.1341508104505045,
          3.825442129906072,
          4.664200029434491,
          5.140757357623653,
          5.431181327967272,
          5.758945087941772,
          6.238258831585394,
          6.9163189536680365,
          7.465092877404661,
          7.936514638332921,
          8.182594981038605,
          8.228700379799958,
          8.11760109330511,
          7.902963024001415,
          7.589268022005088,
          7.252835900763894,
          6.837781984625074,
          6.384489880408954,
          5.894707291622313,
          5.329079154261406,
          4.742822003129685,
          4.168356277920938,
          3.6532525715658943,
          3.2729589881069576,
          2.9277971885237264,
          2.5413993182702375,
          2.254301221195815,
          1.7429379788795676,
          1.2340717409995023,
          0.819681433415577,
          0.5213639358973394,
          0.3421893145881644,
          0.15016011369110624,
          -0.08165604607549717,
          -0.20941199542112943,
          -0.3059895044404766,
          -0.29440021944511113,
          -0.21526172551402015,
          -0.08428775386522239,
          0.24319474780094852,
          0.7534684716514394,
          1.1201169560879103,
          1.3729178076081725,
          1.4862477498464575,
          1.7594714068525807,
          2.2182230559719667,
          2.623291897738377,
          2.904809551634131,
          2.9752369754097314,
          2.9622742710885923,
          2.8902161719591613,
          2.7637898758973343,
          2.628823220084005,
          2.5151850175467985,
          2.4270836317693334,
          2.3506679265440362,
          2.292690369037809,
          2.1776122727513734,
          1.9961879719283624,
          1.7546581775416248,
          1.519304979730474,
          1.3584255586832228,
          1.2476870831330076,
          1.179187325198265,
          1.120946984219026,
          1.0242898207631115,
          0.9463512021918036,
          0.9979622234941153,
          1.172263529496951,
          1.3280834606293581,
          1.305020369932599,
          1.0843641657597973,
          0.9216192292982684,
          0.7211481843167591,
          0.5781987689620534,
          0.4383070339908698,
          0.30556506238476555,
          0.24973429941012718,
          0.31557909587155514,
          0.7784673794525242,
          1.1780937055987148,
          1.3185066987593919,
          1.0183022605634098,
          0.7993686924568488,
          0.7351159198809678,
          0.7369818944509496,
          0.7143820493447847,
          0.6848718209168845,
          0.6897527074810909,
          0.7827029944291188,
          1.0586550207802203,
          1.3863250109694467,
          1.7526964075783869,
          2.337871109597271,
          3.202838488956119,
          4.326633996451205,
          5.40724608418161,
          6.053475869225097,
          6.239745248187538,
          6.191260903748235,
          6.00744943014325,
          5.445635815333871,
          4.832712557440482,
          4.301680069292395,
          4.123941482410025,
          4.008950814713699,
          3.7926843801088124,
          3.5969105309366194,
          3.3075549527081427,
          3.1851953369775163,
          3.065487538945863,
          3.063629055198186,
          3.112108584170772,
          3.1809068919801997,
          3.200727262082929,
          3.2534105086285385,
          3.1443206852351415,
          3.09480754796708,
          2.944723204047401,
          2.5969790776004404,
          2.2108982950553013,
          1.597157658538533,
          1.2180365624593303,
          1.0051362829013537,
          0.9600495784874232,
          0.9496440497070909,
          0.9496440497070909
         ],
         "yaxis": "y"
        },
        {
         "hovertemplate": "%{y}",
         "legendgroup": "UNEMP",
         "line": {
          "color": "#ab63fa",
          "dash": "solid"
         },
         "marker": {
          "symbol": "circle"
         },
         "mode": "lines",
         "name": "UNEMP",
         "showlegend": true,
         "type": "scattergl",
         "x": [
          "1989-10-31T00:00:00",
          "1989-11-30T00:00:00",
          "1989-12-31T00:00:00",
          "1990-01-31T00:00:00",
          "1990-02-28T00:00:00",
          "1990-03-31T00:00:00",
          "1990-04-30T00:00:00",
          "1990-05-31T00:00:00",
          "1990-06-30T00:00:00",
          "1990-07-31T00:00:00",
          "1990-08-31T00:00:00",
          "1990-09-30T00:00:00",
          "1990-10-31T00:00:00",
          "1990-11-30T00:00:00",
          "1990-12-31T00:00:00",
          "1991-01-31T00:00:00",
          "1991-02-28T00:00:00",
          "1991-03-31T00:00:00",
          "1991-04-30T00:00:00",
          "1991-05-31T00:00:00",
          "1991-06-30T00:00:00",
          "1991-07-31T00:00:00",
          "1991-08-31T00:00:00",
          "1991-09-30T00:00:00",
          "1991-10-31T00:00:00",
          "1991-11-30T00:00:00",
          "1991-12-31T00:00:00",
          "1992-01-31T00:00:00",
          "1992-02-29T00:00:00",
          "1992-03-31T00:00:00",
          "1992-04-30T00:00:00",
          "1992-05-31T00:00:00",
          "1992-06-30T00:00:00",
          "1992-07-31T00:00:00",
          "1992-08-31T00:00:00",
          "1992-09-30T00:00:00",
          "1992-10-31T00:00:00",
          "1992-11-30T00:00:00",
          "1992-12-31T00:00:00",
          "1993-01-31T00:00:00",
          "1993-02-28T00:00:00",
          "1993-03-31T00:00:00",
          "1993-04-30T00:00:00",
          "1993-05-31T00:00:00",
          "1993-06-30T00:00:00",
          "1993-07-31T00:00:00",
          "1993-08-31T00:00:00",
          "1993-09-30T00:00:00",
          "1993-10-31T00:00:00",
          "1993-11-30T00:00:00",
          "1993-12-31T00:00:00",
          "1994-01-31T00:00:00",
          "1994-02-28T00:00:00",
          "1994-03-31T00:00:00",
          "1994-04-30T00:00:00",
          "1994-05-31T00:00:00",
          "1994-06-30T00:00:00",
          "1994-07-31T00:00:00",
          "1994-08-31T00:00:00",
          "1994-09-30T00:00:00",
          "1994-10-31T00:00:00",
          "1994-11-30T00:00:00",
          "1994-12-31T00:00:00",
          "1995-01-31T00:00:00",
          "1995-02-28T00:00:00",
          "1995-03-31T00:00:00",
          "1995-04-30T00:00:00",
          "1995-05-31T00:00:00",
          "1995-06-30T00:00:00",
          "1995-07-31T00:00:00",
          "1995-08-31T00:00:00",
          "1995-09-30T00:00:00",
          "1995-10-31T00:00:00",
          "1995-11-30T00:00:00",
          "1995-12-31T00:00:00",
          "1996-01-31T00:00:00",
          "1996-02-29T00:00:00",
          "1996-03-31T00:00:00",
          "1996-04-30T00:00:00",
          "1996-05-31T00:00:00",
          "1996-06-30T00:00:00",
          "1996-07-31T00:00:00",
          "1996-08-31T00:00:00",
          "1996-09-30T00:00:00",
          "1996-10-31T00:00:00",
          "1996-11-30T00:00:00",
          "1996-12-31T00:00:00",
          "1997-01-31T00:00:00",
          "1997-02-28T00:00:00",
          "1997-03-31T00:00:00",
          "1997-04-30T00:00:00",
          "1997-05-31T00:00:00",
          "1997-06-30T00:00:00",
          "1997-07-31T00:00:00",
          "1997-08-31T00:00:00",
          "1997-09-30T00:00:00",
          "1997-10-31T00:00:00",
          "1997-11-30T00:00:00",
          "1997-12-31T00:00:00",
          "1998-01-31T00:00:00",
          "1998-02-28T00:00:00",
          "1998-03-31T00:00:00",
          "1998-04-30T00:00:00",
          "1998-05-31T00:00:00",
          "1998-06-30T00:00:00",
          "1998-07-31T00:00:00",
          "1998-08-31T00:00:00",
          "1998-09-30T00:00:00",
          "1998-10-31T00:00:00",
          "1998-11-30T00:00:00",
          "1998-12-31T00:00:00",
          "1999-01-31T00:00:00",
          "1999-02-28T00:00:00",
          "1999-03-31T00:00:00",
          "1999-04-30T00:00:00",
          "1999-05-31T00:00:00",
          "1999-06-30T00:00:00",
          "1999-07-31T00:00:00",
          "1999-08-31T00:00:00",
          "1999-09-30T00:00:00",
          "1999-10-31T00:00:00",
          "1999-11-30T00:00:00",
          "1999-12-31T00:00:00",
          "2000-01-31T00:00:00",
          "2000-02-29T00:00:00",
          "2000-03-31T00:00:00",
          "2000-04-30T00:00:00",
          "2000-05-31T00:00:00",
          "2000-06-30T00:00:00",
          "2000-07-31T00:00:00",
          "2000-08-31T00:00:00",
          "2000-09-30T00:00:00",
          "2000-10-31T00:00:00",
          "2000-11-30T00:00:00",
          "2000-12-31T00:00:00",
          "2001-01-31T00:00:00",
          "2001-02-28T00:00:00",
          "2001-03-31T00:00:00",
          "2001-04-30T00:00:00",
          "2001-05-31T00:00:00",
          "2001-06-30T00:00:00",
          "2001-07-31T00:00:00",
          "2001-08-31T00:00:00",
          "2001-09-30T00:00:00",
          "2001-10-31T00:00:00",
          "2001-11-30T00:00:00",
          "2001-12-31T00:00:00",
          "2002-01-31T00:00:00",
          "2002-02-28T00:00:00",
          "2002-03-31T00:00:00",
          "2002-04-30T00:00:00",
          "2002-05-31T00:00:00",
          "2002-06-30T00:00:00",
          "2002-07-31T00:00:00",
          "2002-08-31T00:00:00",
          "2002-09-30T00:00:00",
          "2002-10-31T00:00:00",
          "2002-11-30T00:00:00",
          "2002-12-31T00:00:00",
          "2003-01-31T00:00:00",
          "2003-02-28T00:00:00",
          "2003-03-31T00:00:00",
          "2003-04-30T00:00:00",
          "2003-05-31T00:00:00",
          "2003-06-30T00:00:00",
          "2003-07-31T00:00:00",
          "2003-08-31T00:00:00",
          "2003-09-30T00:00:00",
          "2003-10-31T00:00:00",
          "2003-11-30T00:00:00",
          "2003-12-31T00:00:00",
          "2004-01-31T00:00:00",
          "2004-02-29T00:00:00",
          "2004-03-31T00:00:00",
          "2004-04-30T00:00:00",
          "2004-05-31T00:00:00",
          "2004-06-30T00:00:00",
          "2004-07-31T00:00:00",
          "2004-08-31T00:00:00",
          "2004-09-30T00:00:00",
          "2004-10-31T00:00:00",
          "2004-11-30T00:00:00",
          "2004-12-31T00:00:00",
          "2005-01-31T00:00:00",
          "2005-02-28T00:00:00",
          "2005-03-31T00:00:00",
          "2005-04-30T00:00:00",
          "2005-05-31T00:00:00",
          "2005-06-30T00:00:00",
          "2005-07-31T00:00:00",
          "2005-08-31T00:00:00",
          "2005-09-30T00:00:00",
          "2005-10-31T00:00:00",
          "2005-11-30T00:00:00",
          "2005-12-31T00:00:00",
          "2006-01-31T00:00:00",
          "2006-02-28T00:00:00",
          "2006-03-31T00:00:00",
          "2006-04-30T00:00:00",
          "2006-05-31T00:00:00",
          "2006-06-30T00:00:00",
          "2006-07-31T00:00:00",
          "2006-08-31T00:00:00",
          "2006-09-30T00:00:00",
          "2006-10-31T00:00:00",
          "2006-11-30T00:00:00",
          "2006-12-31T00:00:00",
          "2007-01-31T00:00:00",
          "2007-02-28T00:00:00",
          "2007-03-31T00:00:00",
          "2007-04-30T00:00:00",
          "2007-05-31T00:00:00",
          "2007-06-30T00:00:00",
          "2007-07-31T00:00:00",
          "2007-08-31T00:00:00",
          "2007-09-30T00:00:00",
          "2007-10-31T00:00:00",
          "2007-11-30T00:00:00",
          "2007-12-31T00:00:00",
          "2008-01-31T00:00:00",
          "2008-02-29T00:00:00",
          "2008-03-31T00:00:00",
          "2008-04-30T00:00:00",
          "2008-05-31T00:00:00",
          "2008-06-30T00:00:00",
          "2008-07-31T00:00:00",
          "2008-08-31T00:00:00",
          "2008-09-30T00:00:00",
          "2008-10-31T00:00:00",
          "2008-11-30T00:00:00",
          "2008-12-31T00:00:00",
          "2009-01-31T00:00:00",
          "2009-02-28T00:00:00",
          "2009-03-31T00:00:00",
          "2009-04-30T00:00:00",
          "2009-05-31T00:00:00",
          "2009-06-30T00:00:00",
          "2009-07-31T00:00:00",
          "2009-08-31T00:00:00",
          "2009-09-30T00:00:00",
          "2009-10-31T00:00:00",
          "2009-11-30T00:00:00",
          "2009-12-31T00:00:00",
          "2010-01-31T00:00:00",
          "2010-02-28T00:00:00",
          "2010-03-31T00:00:00",
          "2010-04-30T00:00:00",
          "2010-05-31T00:00:00",
          "2010-06-30T00:00:00",
          "2010-07-31T00:00:00",
          "2010-08-31T00:00:00",
          "2010-09-30T00:00:00",
          "2010-10-31T00:00:00",
          "2010-11-30T00:00:00",
          "2010-12-31T00:00:00",
          "2011-01-31T00:00:00",
          "2011-02-28T00:00:00",
          "2011-03-31T00:00:00",
          "2011-04-30T00:00:00",
          "2011-05-31T00:00:00",
          "2011-06-30T00:00:00",
          "2011-07-31T00:00:00",
          "2011-08-31T00:00:00",
          "2011-09-30T00:00:00",
          "2011-10-31T00:00:00",
          "2011-11-30T00:00:00",
          "2011-12-31T00:00:00",
          "2012-01-31T00:00:00",
          "2012-02-29T00:00:00",
          "2012-03-31T00:00:00",
          "2012-04-30T00:00:00",
          "2012-05-31T00:00:00",
          "2012-06-30T00:00:00",
          "2012-07-31T00:00:00",
          "2012-08-31T00:00:00",
          "2012-09-30T00:00:00",
          "2012-10-31T00:00:00",
          "2012-11-30T00:00:00",
          "2012-12-31T00:00:00",
          "2013-01-31T00:00:00",
          "2013-02-28T00:00:00",
          "2013-03-31T00:00:00",
          "2013-04-30T00:00:00",
          "2013-05-31T00:00:00",
          "2013-06-30T00:00:00",
          "2013-07-31T00:00:00",
          "2013-08-31T00:00:00",
          "2013-09-30T00:00:00",
          "2013-10-31T00:00:00",
          "2013-11-30T00:00:00",
          "2013-12-31T00:00:00",
          "2014-01-31T00:00:00",
          "2014-02-28T00:00:00",
          "2014-03-31T00:00:00",
          "2014-04-30T00:00:00",
          "2014-05-31T00:00:00",
          "2014-06-30T00:00:00",
          "2014-07-31T00:00:00",
          "2014-08-31T00:00:00",
          "2014-09-30T00:00:00",
          "2014-10-31T00:00:00",
          "2014-11-30T00:00:00",
          "2014-12-31T00:00:00",
          "2015-01-31T00:00:00",
          "2015-02-28T00:00:00",
          "2015-03-31T00:00:00",
          "2015-04-30T00:00:00",
          "2015-05-31T00:00:00",
          "2015-06-30T00:00:00",
          "2015-07-31T00:00:00",
          "2015-08-31T00:00:00",
          "2015-09-30T00:00:00",
          "2015-10-31T00:00:00",
          "2015-11-30T00:00:00",
          "2015-12-31T00:00:00",
          "2016-01-31T00:00:00",
          "2016-02-29T00:00:00",
          "2016-03-31T00:00:00",
          "2016-04-30T00:00:00",
          "2016-05-31T00:00:00",
          "2016-06-30T00:00:00",
          "2016-07-31T00:00:00",
          "2016-08-31T00:00:00",
          "2016-09-30T00:00:00",
          "2016-10-31T00:00:00",
          "2016-11-30T00:00:00",
          "2016-12-31T00:00:00",
          "2017-01-31T00:00:00",
          "2017-02-28T00:00:00",
          "2017-03-31T00:00:00",
          "2017-04-30T00:00:00",
          "2017-05-31T00:00:00",
          "2017-06-30T00:00:00",
          "2017-07-31T00:00:00",
          "2017-08-31T00:00:00",
          "2017-09-30T00:00:00",
          "2017-10-31T00:00:00",
          "2017-11-30T00:00:00",
          "2017-12-31T00:00:00",
          "2018-01-31T00:00:00",
          "2018-02-28T00:00:00",
          "2018-03-31T00:00:00",
          "2018-04-30T00:00:00",
          "2018-05-31T00:00:00",
          "2018-06-30T00:00:00",
          "2018-07-31T00:00:00",
          "2018-08-31T00:00:00",
          "2018-09-30T00:00:00",
          "2018-10-31T00:00:00",
          "2018-11-30T00:00:00",
          "2018-12-31T00:00:00",
          "2019-01-31T00:00:00",
          "2019-02-28T00:00:00",
          "2019-03-31T00:00:00",
          "2019-04-30T00:00:00",
          "2019-05-31T00:00:00",
          "2019-06-30T00:00:00",
          "2019-07-31T00:00:00",
          "2019-08-31T00:00:00",
          "2019-09-30T00:00:00",
          "2019-10-31T00:00:00",
          "2019-11-30T00:00:00",
          "2019-12-31T00:00:00",
          "2020-01-31T00:00:00",
          "2020-02-29T00:00:00",
          "2020-03-31T00:00:00",
          "2020-04-30T00:00:00",
          "2020-05-31T00:00:00",
          "2020-06-30T00:00:00",
          "2020-07-31T00:00:00",
          "2020-08-31T00:00:00",
          "2020-09-30T00:00:00",
          "2020-10-31T00:00:00",
          "2020-11-30T00:00:00",
          "2020-12-31T00:00:00",
          "2021-01-31T00:00:00",
          "2021-02-28T00:00:00",
          "2021-03-31T00:00:00",
          "2021-04-30T00:00:00",
          "2021-05-31T00:00:00",
          "2021-06-30T00:00:00",
          "2021-07-31T00:00:00",
          "2021-08-31T00:00:00",
          "2021-09-30T00:00:00",
          "2021-10-31T00:00:00",
          "2021-11-30T00:00:00",
          "2021-12-31T00:00:00",
          "2022-01-31T00:00:00",
          "2022-02-28T00:00:00",
          "2022-03-31T00:00:00",
          "2022-04-30T00:00:00",
          "2022-05-31T00:00:00",
          "2022-06-30T00:00:00",
          "2022-07-31T00:00:00",
          "2022-08-31T00:00:00",
          "2022-09-30T00:00:00",
          "2022-10-31T00:00:00",
          "2022-11-30T00:00:00",
          "2022-12-31T00:00:00",
          "2023-01-31T00:00:00",
          "2023-02-28T00:00:00",
          "2023-03-31T00:00:00",
          "2023-04-30T00:00:00",
          "2023-05-31T00:00:00",
          "2023-06-30T00:00:00",
          "2023-07-31T00:00:00",
          "2023-08-31T00:00:00",
          "2023-09-30T00:00:00",
          "2023-10-31T00:00:00",
          "2023-11-30T00:00:00"
         ],
         "xaxis": "x",
         "y": [
          -6.268524301657133,
          -6.619536256899935,
          -6.73693823394313,
          -6.283997302839391,
          -5.778047930025362,
          -5.084290874658943,
          -4.251149203994954,
          -3.671649837254265,
          -3.2625439879894156,
          -2.8251837480664483,
          -2.043459446936999,
          -0.9448521104491685,
          0.04902205740080839,
          0.6426079100122427,
          0.8916392005974072,
          0.8215651463100231,
          0.6753735073683848,
          0.5383368000276657,
          0.4347081702826788,
          0.38891234073510517,
          0.3496880158806753,
          0.302075737176134,
          0.2363045545048796,
          0.17373532295064986,
          0.12270869549069337,
          0.1104563857752514,
          0.11163271941498071,
          0.12650991377109266,
          0.1310102584089577,
          0.12119976467507343,
          0.12162082651203567,
          0.09991563770170216,
          0.0917652434024806,
          0.08417333310881932,
          0.042363325481126056,
          0.018203324981633042,
          -0.02646643638746979,
          0.07028238515431974,
          0.08079934452406719,
          0.08926113021714265,
          0.060303472378369714,
          0.10245168071850771,
          0.14032073888157687,
          0.18240270205983508,
          0.20984587562526255,
          0.19359341489237297,
          0.22247539510761546,
          0.23971611622250097,
          0.29109728187653644,
          0.30564317301912464,
          0.2920509826742701,
          0.27128092798129616,
          0.23130454018674615,
          0.17184682825335362,
          0.11658720224192459,
          0.07347433246502162,
          0.048839318106936654,
          0.02713736343106668,
          0.008450500264525124,
          -0.0016764666906888717,
          -0.0061646857695231766,
          0.012567814489878005,
          0.025639708063004293,
          0.054522866304909455,
          0.005337638422925293,
          -0.2316663305810272,
          -0.645464697882729,
          -1.2032658403731362,
          -1.8925704870599191,
          -2.6515118377605518,
          -3.3526854825238805,
          -4.1377013980698445,
          -4.831729393580821,
          -5.74225503908995,
          -6.685421088482848,
          -7.657032300501821,
          -8.446883498475318,
          -8.944723228586769,
          -9.210613261539455,
          -9.278384373636262,
          -9.209510537462863,
          -8.825461678028926,
          -8.26202106244719,
          -7.533563417871857,
          -6.935642722736992,
          -6.626444330968037,
          -6.366218168014272,
          -6.252830510144743,
          -6.138773107427311,
          -5.965908982366763,
          -5.887559825575339,
          -5.940553787213184,
          -6.27937019996695,
          -7.189337715280402,
          -8.040764079827207,
          -8.843278769373576,
          -9.002609268467511,
          -8.57899034154991,
          -8.052376065048243,
          -7.387549357263988,
          -7.067531759312328,
          -7.238113463948677,
          -7.639894308441167,
          -7.878785194675941,
          -7.820583618481762,
          -7.218126145140122,
          -6.296553752662818,
          -5.154118955339994,
          -4.4572368006815015,
          -4.406882289583419,
          -5.104513473259815,
          -6.155668643450583,
          -6.811740523740341,
          -7.142919142445339,
          -7.057083388617797,
          -6.869423364948738,
          -6.822713221169549,
          -6.783790529154407,
          -7.479867253789154,
          -8.087693152861132,
          -8.804533624623119,
          -8.944575117107645,
          -8.712480461810602,
          -7.917566003339766,
          -6.950110855996104,
          -6.162381042857034,
          -5.387594559577825,
          -4.849168110045328,
          -4.215661263869878,
          -3.721525211820461,
          -3.589851544342661,
          -3.6125183921891413,
          -3.5692757879531776,
          -3.0520466306123346,
          -2.186157845244042,
          -1.498842259058508,
          -0.9252189806555354,
          -0.34271163917122577,
          0.026083455054488367,
          0.2539423443519101,
          0.33124970782729224,
          0.3798530712449249,
          0.5242548442476875,
          0.6454409378279299,
          0.7077602232520185,
          0.6656074190178627,
          0.6306089450723646,
          0.6077353756870123,
          0.5905221083170982,
          0.5942436578371997,
          0.5288089982993028,
          0.3977538737308413,
          0.10141470998080118,
          -0.36105487998247976,
          -0.8663266024802325,
          -1.4140240254659122,
          -1.846221282688793,
          -2.207155346302043,
          -2.571667534768277,
          -2.903210216803996,
          -3.1774445988367654,
          -3.3687662192775085,
          -3.3016188239582043,
          -3.0714066864264162,
          -2.546588908463193,
          -1.7839058418697198,
          -0.918265235736059,
          0.22889687481722706,
          1.3656018054322172,
          2.270131860131825,
          3.1756565903957057,
          4.081001950923456,
          4.998552672295013,
          5.748329061711136,
          6.04371016934507,
          6.023672010984312,
          5.796336010664807,
          5.458644689414535,
          5.09945619505011,
          4.714390415621601,
          4.279105001540608,
          3.886763277879704,
          3.572262098607996,
          3.2779976376633893,
          3.023107443676667,
          2.7489942297759637,
          2.5112632844596297,
          2.3417511698028397,
          2.1967974119520184,
          2.1029719227147843,
          2.0117378041056546,
          1.9044278366745229,
          1.7795142697854576,
          1.655315931006088,
          1.5389766533906697,
          1.4253430690242443,
          1.3142545297217791,
          1.1867184270388842,
          1.0327116244589423,
          0.8826143095148743,
          0.7436103388469305,
          0.666735834956242,
          0.5838520627967191,
          0.48319937677908514,
          0.3135320425915489,
          0.153850360285195,
          -0.022510086857320446,
          -0.18463953159990784,
          -0.3103165629107536,
          -0.3933105314870196,
          -0.43412961709953646,
          -0.569137144711232,
          -0.7262006431510961,
          -0.8355815175551874,
          -0.8619221935665367,
          -0.8325572788307322,
          -0.7950965722531598,
          -0.7090520161776268,
          -0.600399050835435,
          -0.48731906953903803,
          -0.40370947156505216,
          -0.36016876048584706,
          -0.34519367187533406,
          -0.33761191968786863,
          -0.34323109591985707,
          -0.344830887948163,
          -0.3456688229497986,
          -0.42984637691674055,
          -0.6917284733428551,
          -1.1150485848535334,
          -1.6043682654856317,
          -2.0234894857697907,
          -2.365052127163835,
          -2.5716280608267086,
          -2.6760533913497144,
          -2.7445200564119965,
          -2.709816970797313,
          -2.620812444826394,
          -2.5434508765687673,
          -2.332955676421419,
          -1.8627385633844649,
          -0.9469903369679552,
          0.24995921053856224,
          1.710846415103204,
          3.5815606236813102,
          5.324784258984754,
          6.6076486809492145,
          6.918943586656318,
          6.400890964776652,
          5.553306236831539,
          4.61749085374855,
          4.064498964028701,
          3.9066441451754566,
          3.9020612196683278,
          4.039342346409226,
          4.355266018481146,
          4.900277592614553,
          5.341806653418133,
          5.668018704238,
          6.073930283525987,
          6.737068914063178,
          7.275941434948135,
          7.559111518220318,
          7.056623786146366,
          6.448059226136805,
          5.801927461487741,
          5.264071230068056,
          4.860565470502541,
          4.45920866972664,
          4.211317099748361,
          3.946419017676538,
          3.619097926952428,
          3.3345504652301123,
          3.129575333391256,
          3.1997680587889876,
          3.5805988048304833,
          3.8210835460163985,
          3.955593924899299,
          3.8729404479816743,
          3.79557912104656,
          3.725642826553998,
          3.655876090754121,
          3.6001969565029746,
          3.7004126223336766,
          3.854959261882013,
          4.044403436071654,
          4.1213157733519905,
          4.153375098159727,
          4.245985720229619,
          4.401698077337187,
          4.605866723561643,
          4.742646825381627,
          4.794635774034012,
          4.746475983906343,
          4.617934615910833,
          4.424461287819646,
          4.174986822401034,
          3.8746771131792235,
          3.5278558455256848,
          3.1963920191101227,
          2.8919697944235248,
          2.648866955894579,
          2.4736450929038343,
          2.3705665305743677,
          2.2930627092984874,
          2.233790552405534,
          2.1343099758866066,
          2.0349910129325406,
          1.9775956439507547,
          1.8802287206819874,
          1.941957201364336,
          2.0647376830645623,
          2.176157599939443,
          2.2645460979077736,
          2.2678622044280847,
          2.324293411033896,
          2.575572956957121,
          2.7551763962758145,
          2.8835164033475085,
          2.8121069301669683,
          2.5807798207979897,
          2.2371521807062464,
          1.6290671738062916,
          0.8248555351802778,
          0.22935554757724452,
          -0.20048329896683587,
          -0.4480357192516205,
          -0.9629732734808166,
          -1.8340234337242916,
          -2.6613403165124487,
          -3.3523441200331936,
          -3.733441837127265,
          -3.9572332190119806,
          -4.03398014471486,
          -4.0862856789087125,
          -4.2042317375492,
          -4.558909818811484,
          -5.044562838155453,
          -5.545504648172196,
          -6.1048136587349395,
          -6.260119832514968,
          -6.10528462439482,
          -5.602358312278521,
          -5.036352033414642,
          -4.596872169832004,
          -4.396199458423018,
          -4.471508961166354,
          -4.649075487304123,
          -4.521250593629019,
          -4.106019444908226,
          -3.0827956019104787,
          -1.9936474228980556,
          -1.1764624672868058,
          -0.8865012013229469,
          -1.1656488085453638,
          -1.3550700432518978,
          -1.6931938564143534,
          -1.7984173999399824,
          -1.7466066055298863,
          -1.5882286921501656,
          -1.6232960468718636,
          -1.898684817995175,
          -2.769629641351685,
          -3.4346752686161017,
          -3.6358674010437566,
          -3.0657699188731247,
          -2.403930358472734,
          -2.0115675278969056,
          -1.8215529580819436,
          -1.6890188771657395,
          -1.4580094426441368,
          -1.1891170293054922,
          -0.9057671166753093,
          -0.6684431352403605,
          -0.46767985707962073,
          -0.2838264787215633,
          -0.05966512466478933,
          0.25872260807948194,
          0.5275795005734621,
          0.7583394492668385,
          0.8823771763782183,
          0.9694796868822524,
          1.026519386079757,
          1.0485511253229303,
          1.026504119813621,
          0.9824581572713845,
          0.9827184267482446,
          1.0741863906457991,
          1.2495333674168578,
          1.4723983220887182,
          1.7940016255330395,
          2.082022911066556,
          2.4137875814434855,
          2.558824903471777,
          2.6647202711868623,
          2.7426904977813025,
          2.818988733315981,
          2.868414287173262,
          2.9352212439507297,
          2.8841241554225356,
          2.869808587200523,
          2.756653868240616,
          2.477048708661494,
          2.1590212545606455,
          1.3637931466503408,
          0.5849925280218947,
          -0.2764609207467093,
          -1.1429170213305133,
          -1.6945467621127628,
          -1.6945467621127628
         ],
         "yaxis": "y"
        },
        {
         "hovertemplate": "%{y}",
         "legendgroup": "LRIR",
         "line": {
          "color": "#FFA15A",
          "dash": "solid"
         },
         "marker": {
          "symbol": "circle"
         },
         "mode": "lines",
         "name": "LRIR",
         "showlegend": true,
         "type": "scattergl",
         "x": [
          "1989-10-31T00:00:00",
          "1989-11-30T00:00:00",
          "1989-12-31T00:00:00",
          "1990-01-31T00:00:00",
          "1990-02-28T00:00:00",
          "1990-03-31T00:00:00",
          "1990-04-30T00:00:00",
          "1990-05-31T00:00:00",
          "1990-06-30T00:00:00",
          "1990-07-31T00:00:00",
          "1990-08-31T00:00:00",
          "1990-09-30T00:00:00",
          "1990-10-31T00:00:00",
          "1990-11-30T00:00:00",
          "1990-12-31T00:00:00",
          "1991-01-31T00:00:00",
          "1991-02-28T00:00:00",
          "1991-03-31T00:00:00",
          "1991-04-30T00:00:00",
          "1991-05-31T00:00:00",
          "1991-06-30T00:00:00",
          "1991-07-31T00:00:00",
          "1991-08-31T00:00:00",
          "1991-09-30T00:00:00",
          "1991-10-31T00:00:00",
          "1991-11-30T00:00:00",
          "1991-12-31T00:00:00",
          "1992-01-31T00:00:00",
          "1992-02-29T00:00:00",
          "1992-03-31T00:00:00",
          "1992-04-30T00:00:00",
          "1992-05-31T00:00:00",
          "1992-06-30T00:00:00",
          "1992-07-31T00:00:00",
          "1992-08-31T00:00:00",
          "1992-09-30T00:00:00",
          "1992-10-31T00:00:00",
          "1992-11-30T00:00:00",
          "1992-12-31T00:00:00",
          "1993-01-31T00:00:00",
          "1993-02-28T00:00:00",
          "1993-03-31T00:00:00",
          "1993-04-30T00:00:00",
          "1993-05-31T00:00:00",
          "1993-06-30T00:00:00",
          "1993-07-31T00:00:00",
          "1993-08-31T00:00:00",
          "1993-09-30T00:00:00",
          "1993-10-31T00:00:00",
          "1993-11-30T00:00:00",
          "1993-12-31T00:00:00",
          "1994-01-31T00:00:00",
          "1994-02-28T00:00:00",
          "1994-03-31T00:00:00",
          "1994-04-30T00:00:00",
          "1994-05-31T00:00:00",
          "1994-06-30T00:00:00",
          "1994-07-31T00:00:00",
          "1994-08-31T00:00:00",
          "1994-09-30T00:00:00",
          "1994-10-31T00:00:00",
          "1994-11-30T00:00:00",
          "1994-12-31T00:00:00",
          "1995-01-31T00:00:00",
          "1995-02-28T00:00:00",
          "1995-03-31T00:00:00",
          "1995-04-30T00:00:00",
          "1995-05-31T00:00:00",
          "1995-06-30T00:00:00",
          "1995-07-31T00:00:00",
          "1995-08-31T00:00:00",
          "1995-09-30T00:00:00",
          "1995-10-31T00:00:00",
          "1995-11-30T00:00:00",
          "1995-12-31T00:00:00",
          "1996-01-31T00:00:00",
          "1996-02-29T00:00:00",
          "1996-03-31T00:00:00",
          "1996-04-30T00:00:00",
          "1996-05-31T00:00:00",
          "1996-06-30T00:00:00",
          "1996-07-31T00:00:00",
          "1996-08-31T00:00:00",
          "1996-09-30T00:00:00",
          "1996-10-31T00:00:00",
          "1996-11-30T00:00:00",
          "1996-12-31T00:00:00",
          "1997-01-31T00:00:00",
          "1997-02-28T00:00:00",
          "1997-03-31T00:00:00",
          "1997-04-30T00:00:00",
          "1997-05-31T00:00:00",
          "1997-06-30T00:00:00",
          "1997-07-31T00:00:00",
          "1997-08-31T00:00:00",
          "1997-09-30T00:00:00",
          "1997-10-31T00:00:00",
          "1997-11-30T00:00:00",
          "1997-12-31T00:00:00",
          "1998-01-31T00:00:00",
          "1998-02-28T00:00:00",
          "1998-03-31T00:00:00",
          "1998-04-30T00:00:00",
          "1998-05-31T00:00:00",
          "1998-06-30T00:00:00",
          "1998-07-31T00:00:00",
          "1998-08-31T00:00:00",
          "1998-09-30T00:00:00",
          "1998-10-31T00:00:00",
          "1998-11-30T00:00:00",
          "1998-12-31T00:00:00",
          "1999-01-31T00:00:00",
          "1999-02-28T00:00:00",
          "1999-03-31T00:00:00",
          "1999-04-30T00:00:00",
          "1999-05-31T00:00:00",
          "1999-06-30T00:00:00",
          "1999-07-31T00:00:00",
          "1999-08-31T00:00:00",
          "1999-09-30T00:00:00",
          "1999-10-31T00:00:00",
          "1999-11-30T00:00:00",
          "1999-12-31T00:00:00",
          "2000-01-31T00:00:00",
          "2000-02-29T00:00:00",
          "2000-03-31T00:00:00",
          "2000-04-30T00:00:00",
          "2000-05-31T00:00:00",
          "2000-06-30T00:00:00",
          "2000-07-31T00:00:00",
          "2000-08-31T00:00:00",
          "2000-09-30T00:00:00",
          "2000-10-31T00:00:00",
          "2000-11-30T00:00:00",
          "2000-12-31T00:00:00",
          "2001-01-31T00:00:00",
          "2001-02-28T00:00:00",
          "2001-03-31T00:00:00",
          "2001-04-30T00:00:00",
          "2001-05-31T00:00:00",
          "2001-06-30T00:00:00",
          "2001-07-31T00:00:00",
          "2001-08-31T00:00:00",
          "2001-09-30T00:00:00",
          "2001-10-31T00:00:00",
          "2001-11-30T00:00:00",
          "2001-12-31T00:00:00",
          "2002-01-31T00:00:00",
          "2002-02-28T00:00:00",
          "2002-03-31T00:00:00",
          "2002-04-30T00:00:00",
          "2002-05-31T00:00:00",
          "2002-06-30T00:00:00",
          "2002-07-31T00:00:00",
          "2002-08-31T00:00:00",
          "2002-09-30T00:00:00",
          "2002-10-31T00:00:00",
          "2002-11-30T00:00:00",
          "2002-12-31T00:00:00",
          "2003-01-31T00:00:00",
          "2003-02-28T00:00:00",
          "2003-03-31T00:00:00",
          "2003-04-30T00:00:00",
          "2003-05-31T00:00:00",
          "2003-06-30T00:00:00",
          "2003-07-31T00:00:00",
          "2003-08-31T00:00:00",
          "2003-09-30T00:00:00",
          "2003-10-31T00:00:00",
          "2003-11-30T00:00:00",
          "2003-12-31T00:00:00",
          "2004-01-31T00:00:00",
          "2004-02-29T00:00:00",
          "2004-03-31T00:00:00",
          "2004-04-30T00:00:00",
          "2004-05-31T00:00:00",
          "2004-06-30T00:00:00",
          "2004-07-31T00:00:00",
          "2004-08-31T00:00:00",
          "2004-09-30T00:00:00",
          "2004-10-31T00:00:00",
          "2004-11-30T00:00:00",
          "2004-12-31T00:00:00",
          "2005-01-31T00:00:00",
          "2005-02-28T00:00:00",
          "2005-03-31T00:00:00",
          "2005-04-30T00:00:00",
          "2005-05-31T00:00:00",
          "2005-06-30T00:00:00",
          "2005-07-31T00:00:00",
          "2005-08-31T00:00:00",
          "2005-09-30T00:00:00",
          "2005-10-31T00:00:00",
          "2005-11-30T00:00:00",
          "2005-12-31T00:00:00",
          "2006-01-31T00:00:00",
          "2006-02-28T00:00:00",
          "2006-03-31T00:00:00",
          "2006-04-30T00:00:00",
          "2006-05-31T00:00:00",
          "2006-06-30T00:00:00",
          "2006-07-31T00:00:00",
          "2006-08-31T00:00:00",
          "2006-09-30T00:00:00",
          "2006-10-31T00:00:00",
          "2006-11-30T00:00:00",
          "2006-12-31T00:00:00",
          "2007-01-31T00:00:00",
          "2007-02-28T00:00:00",
          "2007-03-31T00:00:00",
          "2007-04-30T00:00:00",
          "2007-05-31T00:00:00",
          "2007-06-30T00:00:00",
          "2007-07-31T00:00:00",
          "2007-08-31T00:00:00",
          "2007-09-30T00:00:00",
          "2007-10-31T00:00:00",
          "2007-11-30T00:00:00",
          "2007-12-31T00:00:00",
          "2008-01-31T00:00:00",
          "2008-02-29T00:00:00",
          "2008-03-31T00:00:00",
          "2008-04-30T00:00:00",
          "2008-05-31T00:00:00",
          "2008-06-30T00:00:00",
          "2008-07-31T00:00:00",
          "2008-08-31T00:00:00",
          "2008-09-30T00:00:00",
          "2008-10-31T00:00:00",
          "2008-11-30T00:00:00",
          "2008-12-31T00:00:00",
          "2009-01-31T00:00:00",
          "2009-02-28T00:00:00",
          "2009-03-31T00:00:00",
          "2009-04-30T00:00:00",
          "2009-05-31T00:00:00",
          "2009-06-30T00:00:00",
          "2009-07-31T00:00:00",
          "2009-08-31T00:00:00",
          "2009-09-30T00:00:00",
          "2009-10-31T00:00:00",
          "2009-11-30T00:00:00",
          "2009-12-31T00:00:00",
          "2010-01-31T00:00:00",
          "2010-02-28T00:00:00",
          "2010-03-31T00:00:00",
          "2010-04-30T00:00:00",
          "2010-05-31T00:00:00",
          "2010-06-30T00:00:00",
          "2010-07-31T00:00:00",
          "2010-08-31T00:00:00",
          "2010-09-30T00:00:00",
          "2010-10-31T00:00:00",
          "2010-11-30T00:00:00",
          "2010-12-31T00:00:00",
          "2011-01-31T00:00:00",
          "2011-02-28T00:00:00",
          "2011-03-31T00:00:00",
          "2011-04-30T00:00:00",
          "2011-05-31T00:00:00",
          "2011-06-30T00:00:00",
          "2011-07-31T00:00:00",
          "2011-08-31T00:00:00",
          "2011-09-30T00:00:00",
          "2011-10-31T00:00:00",
          "2011-11-30T00:00:00",
          "2011-12-31T00:00:00",
          "2012-01-31T00:00:00",
          "2012-02-29T00:00:00",
          "2012-03-31T00:00:00",
          "2012-04-30T00:00:00",
          "2012-05-31T00:00:00",
          "2012-06-30T00:00:00",
          "2012-07-31T00:00:00",
          "2012-08-31T00:00:00",
          "2012-09-30T00:00:00",
          "2012-10-31T00:00:00",
          "2012-11-30T00:00:00",
          "2012-12-31T00:00:00",
          "2013-01-31T00:00:00",
          "2013-02-28T00:00:00",
          "2013-03-31T00:00:00",
          "2013-04-30T00:00:00",
          "2013-05-31T00:00:00",
          "2013-06-30T00:00:00",
          "2013-07-31T00:00:00",
          "2013-08-31T00:00:00",
          "2013-09-30T00:00:00",
          "2013-10-31T00:00:00",
          "2013-11-30T00:00:00",
          "2013-12-31T00:00:00",
          "2014-01-31T00:00:00",
          "2014-02-28T00:00:00",
          "2014-03-31T00:00:00",
          "2014-04-30T00:00:00",
          "2014-05-31T00:00:00",
          "2014-06-30T00:00:00",
          "2014-07-31T00:00:00",
          "2014-08-31T00:00:00",
          "2014-09-30T00:00:00",
          "2014-10-31T00:00:00",
          "2014-11-30T00:00:00",
          "2014-12-31T00:00:00",
          "2015-01-31T00:00:00",
          "2015-02-28T00:00:00",
          "2015-03-31T00:00:00",
          "2015-04-30T00:00:00",
          "2015-05-31T00:00:00",
          "2015-06-30T00:00:00",
          "2015-07-31T00:00:00",
          "2015-08-31T00:00:00",
          "2015-09-30T00:00:00",
          "2015-10-31T00:00:00",
          "2015-11-30T00:00:00",
          "2015-12-31T00:00:00",
          "2016-01-31T00:00:00",
          "2016-02-29T00:00:00",
          "2016-03-31T00:00:00",
          "2016-04-30T00:00:00",
          "2016-05-31T00:00:00",
          "2016-06-30T00:00:00",
          "2016-07-31T00:00:00",
          "2016-08-31T00:00:00",
          "2016-09-30T00:00:00",
          "2016-10-31T00:00:00",
          "2016-11-30T00:00:00",
          "2016-12-31T00:00:00",
          "2017-01-31T00:00:00",
          "2017-02-28T00:00:00",
          "2017-03-31T00:00:00",
          "2017-04-30T00:00:00",
          "2017-05-31T00:00:00",
          "2017-06-30T00:00:00",
          "2017-07-31T00:00:00",
          "2017-08-31T00:00:00",
          "2017-09-30T00:00:00",
          "2017-10-31T00:00:00",
          "2017-11-30T00:00:00",
          "2017-12-31T00:00:00",
          "2018-01-31T00:00:00",
          "2018-02-28T00:00:00",
          "2018-03-31T00:00:00",
          "2018-04-30T00:00:00",
          "2018-05-31T00:00:00",
          "2018-06-30T00:00:00",
          "2018-07-31T00:00:00",
          "2018-08-31T00:00:00",
          "2018-09-30T00:00:00",
          "2018-10-31T00:00:00",
          "2018-11-30T00:00:00",
          "2018-12-31T00:00:00",
          "2019-01-31T00:00:00",
          "2019-02-28T00:00:00",
          "2019-03-31T00:00:00",
          "2019-04-30T00:00:00",
          "2019-05-31T00:00:00",
          "2019-06-30T00:00:00",
          "2019-07-31T00:00:00",
          "2019-08-31T00:00:00",
          "2019-09-30T00:00:00",
          "2019-10-31T00:00:00",
          "2019-11-30T00:00:00",
          "2019-12-31T00:00:00",
          "2020-01-31T00:00:00",
          "2020-02-29T00:00:00",
          "2020-03-31T00:00:00",
          "2020-04-30T00:00:00",
          "2020-05-31T00:00:00",
          "2020-06-30T00:00:00",
          "2020-07-31T00:00:00",
          "2020-08-31T00:00:00",
          "2020-09-30T00:00:00",
          "2020-10-31T00:00:00",
          "2020-11-30T00:00:00",
          "2020-12-31T00:00:00",
          "2021-01-31T00:00:00",
          "2021-02-28T00:00:00",
          "2021-03-31T00:00:00",
          "2021-04-30T00:00:00",
          "2021-05-31T00:00:00",
          "2021-06-30T00:00:00",
          "2021-07-31T00:00:00",
          "2021-08-31T00:00:00",
          "2021-09-30T00:00:00",
          "2021-10-31T00:00:00",
          "2021-11-30T00:00:00",
          "2021-12-31T00:00:00",
          "2022-01-31T00:00:00",
          "2022-02-28T00:00:00",
          "2022-03-31T00:00:00",
          "2022-04-30T00:00:00",
          "2022-05-31T00:00:00",
          "2022-06-30T00:00:00",
          "2022-07-31T00:00:00",
          "2022-08-31T00:00:00",
          "2022-09-30T00:00:00",
          "2022-10-31T00:00:00",
          "2022-11-30T00:00:00",
          "2022-12-31T00:00:00",
          "2023-01-31T00:00:00",
          "2023-02-28T00:00:00",
          "2023-03-31T00:00:00",
          "2023-04-30T00:00:00",
          "2023-05-31T00:00:00",
          "2023-06-30T00:00:00",
          "2023-07-31T00:00:00",
          "2023-08-31T00:00:00",
          "2023-09-30T00:00:00",
          "2023-10-31T00:00:00",
          "2023-11-30T00:00:00"
         ],
         "xaxis": "x",
         "y": [
          -2.7072485279914154,
          -2.6825994107375046,
          -2.608132781052864,
          -2.363414356589359,
          -2.121971127800095,
          -1.8105723324495624,
          -1.4396135571915945,
          -1.183540106899598,
          -1.0103447760384539,
          -0.8289909400288155,
          -0.49720743740029333,
          0.03398289073684481,
          0.602004808202317,
          0.9723423594959784,
          1.0949092178703876,
          0.7816707909175311,
          0.19606856775647039,
          -0.44817516378176897,
          -1.0487785629885065,
          -1.3555962055769681,
          -1.419930205532688,
          -1.4340081462513294,
          -1.763164337618614,
          -2.4677747139099786,
          -3.4654458601601266,
          -4.229540443623075,
          -5.022150928274976,
          -5.583148087922471,
          -5.942915856693093,
          -5.984111524956116,
          -5.834668865258368,
          -5.536286679237047,
          -5.25960190484833,
          -5.0005339988838005,
          -4.695772178270937,
          -4.409363759487364,
          -4.0760215038902,
          -3.963643428076065,
          -3.7479602380056343,
          -3.558760891707803,
          -3.313889299781216,
          -3.204967301585797,
          -3.1243011162863694,
          -3.0959993795008556,
          -3.071031957524328,
          -2.9584553808941765,
          -3.0008536279820834,
          -3.0334525459428514,
          -3.1995590416194544,
          -3.2553758187312956,
          -3.2286938210843736,
          -3.1915402955442,
          -3.064551242559659,
          -2.786099482856628,
          -2.4656530171588793,
          -2.1428925319852508,
          -1.8736140035342121,
          -1.6647807476060406,
          -1.4913448093769472,
          -1.3446255982489845,
          -1.209038398337047,
          -1.0951317002960426,
          -1.0017062300464272,
          -0.9285254975985976,
          -0.8236074140964011,
          -0.6478101258488709,
          -0.4289426518180762,
          -0.2785562495487702,
          -0.33652388762893176,
          -0.6458951935551014,
          -1.0804263923257993,
          -1.6510400047333025,
          -2.2437001221659187,
          -3.049321810372112,
          -3.8941360138647476,
          -4.78457161778522,
          -5.58781093436793,
          -6.161104015554243,
          -6.529756100394162,
          -6.692797230409767,
          -6.674816889652704,
          -6.445762520956758,
          -6.138540787050651,
          -5.854584263666821,
          -5.569790654614339,
          -5.291403416351796,
          -4.9947695807468735,
          -4.76179102833241,
          -4.552577065301449,
          -4.304267719001596,
          -4.071739588989704,
          -3.813192752518736,
          -3.5196760101196207,
          -2.984092536687016,
          -2.393152457870554,
          -1.769595054315165,
          -1.3763476289547236,
          -1.166908159960666,
          -1.0036168432849062,
          -0.8775783289917667,
          -0.7302109066029183,
          -0.5431083290184063,
          -0.28071463086563564,
          -0.06120502494380305,
          0.06566641078288918,
          0.04893981516699393,
          -0.06010230631534242,
          -0.11332225982602327,
          -0.09970329596374418,
          -0.15645525620361467,
          -0.4286089476836923,
          -0.9030710046604674,
          -1.3013855137696202,
          -1.508992762681542,
          -1.5272766065565944,
          -1.4818142162199948,
          -1.4650817042336697,
          -1.4195040206304297,
          -1.3594050287931363,
          -1.2574503676420632,
          -1.1929141435851665,
          -1.0960818600366091,
          -1.001639158858316,
          -0.8975597036572687,
          -0.8017903078282833,
          -0.7040209533254002,
          -0.5365937862846193,
          -0.404798975721938,
          -0.2544719664178523,
          -0.11267170201505182,
          -0.17866230839251945,
          -0.3658795634005397,
          -0.46968551048252977,
          -0.12169234895407667,
          0.7098102210244903,
          1.3474314151732953,
          1.9002387833573346,
          2.5507575908559366,
          2.9348906614339048,
          3.1251619168485973,
          3.090779251457159,
          3.006091897837064,
          3.150163004607509,
          3.295636416903711,
          3.383574746282085,
          3.2247199630866445,
          3.0203207317811027,
          2.8411292026629895,
          2.6473153575637616,
          2.458034800330233,
          2.2530394743762967,
          1.9863178314927683,
          1.5573054722973192,
          0.9559316268880332,
          0.49888496546241706,
          0.28951970243679326,
          0.336093077902083,
          0.4786480106280868,
          0.8917731994778839,
          1.5709922021951328,
          2.3810905797443893,
          3.1545815356975018,
          3.236940371356741,
          2.889152414099009,
          1.8949913914526777,
          0.5904641354410541,
          -0.5628768463093416,
          -1.8497005532675883,
          -2.9782982205199913,
          -3.7818627091987063,
          -4.540035503921639,
          -5.28801975175139,
          -6.186024134249908,
          -6.981502617307949,
          -7.245239863119789,
          -7.180216727900752,
          -6.905441602111115,
          -6.477350962811721,
          -6.020673170574549,
          -5.5047646266422205,
          -4.8335447691484665,
          -4.203223221668956,
          -3.7241395769626062,
          -3.2355698093030303,
          -2.848589561887784,
          -2.374728418582672,
          -2.005237651718863,
          -1.869408757804052,
          -1.8249072775090083,
          -2.0891938058815347,
          -2.4180184945143206,
          -2.8728780490449823,
          -3.0910794411495055,
          -3.1213639562977784,
          -2.8869182680589485,
          -2.7051893358860273,
          -2.492408209442046,
          -2.5232480147093357,
          -2.7455042613855785,
          -2.8672188064507926,
          -2.9169702128777657,
          -2.732658847875634,
          -2.590721286567563,
          -2.511196949439012,
          -2.5210694306244696,
          -2.4638353324376463,
          -2.376911112948508,
          -2.2505478297155106,
          -2.1238873302623493,
          -1.9740258256431193,
          -1.8349079332739882,
          -1.7586391121662188,
          -1.7125690325373055,
          -1.6556804752421,
          -1.5737568709512326,
          -1.4781963207274555,
          -1.377134517343444,
          -1.2849015181687606,
          -1.075506002724238,
          -0.6909874225629475,
          -0.2321154479091364,
          0.29619079827691036,
          0.7112555134979859,
          0.9581114258246437,
          1.2011322827399435,
          1.355790571299299,
          1.4752192845137397,
          1.6913782821366983,
          2.122985417330531,
          2.570987634067367,
          2.825367293355068,
          2.868818697888036,
          2.8256488215005082,
          2.7012703306642303,
          2.5647176841977486,
          2.420032156747386,
          2.29664189768335,
          2.2079243114219613,
          2.094233020867458,
          2.060714643796147,
          2.251503303445426,
          2.7372731477485477,
          3.1202489135206513,
          3.307684205757037,
          3.218687335519675,
          2.8296774771739197,
          2.3035050926544467,
          1.9158590499323993,
          1.767495849625046,
          1.724493873849188,
          1.6527106452876983,
          1.5344646487012457,
          1.391485745986265,
          1.2598934283240664,
          1.1446259992733647,
          1.0247243266559347,
          0.8999218724767688,
          0.7915183081396471,
          0.6570464701109048,
          0.4612143507968542,
          0.11708339253772458,
          -0.3036660470731019,
          -0.6734561882629578,
          -0.37110405455920986,
          0.12149908204817035,
          0.6794526117090757,
          1.0756223479705813,
          1.2337408843652002,
          1.3404440582021093,
          1.1995381050329381,
          1.0996136012665532,
          1.1119128176309283,
          1.079835935181849,
          0.968210987850327,
          0.5663026629116175,
          -0.10884875912742167,
          -0.5756301783534185,
          -0.9029656578945938,
          -0.9740919727786568,
          -1.0547418754578868,
          -1.1193100957961528,
          -1.185446338864516,
          -1.2724594321631613,
          -1.5196319130593896,
          -1.78112689503384,
          -2.0424477604995896,
          -2.185347804634214,
          -2.229719224320129,
          -2.193879285178075,
          -2.048102804343203,
          -1.7708374966318021,
          -1.441386813639586,
          -1.07137082992372,
          -0.7385992377331356,
          -0.48503202543951085,
          -0.30522539437186075,
          -0.21217192815403066,
          -0.19675713606715217,
          -0.24686304770314033,
          -0.333957685829835,
          -0.42348619184286646,
          -0.47563482186082884,
          -0.47472173722122807,
          -0.44203792040956,
          -0.41334032784466435,
          -0.410553632078816,
          -0.39483094788899364,
          -0.39079725615261673,
          -0.42749736605801986,
          -0.4272306851872272,
          -0.5590182620703896,
          -0.7168213824138513,
          -0.846626774837828,
          -0.9367632443860673,
          -0.9480216758936156,
          -0.9805545552507948,
          -1.0512663826965232,
          -1.0524777203447915,
          -1.0100188610864935,
          -0.9287725279831854,
          -0.8667913860274186,
          -0.8444726903990072,
          -0.883498462834627,
          -0.9949667008080127,
          -1.0765708073904003,
          -1.1232814714047725,
          -1.118196050726927,
          -1.2176471105507733,
          -1.49487034279127,
          -1.8012135307281634,
          -2.038406726849549,
          -2.1304304234094182,
          -2.1533669378625055,
          -2.1092586651000014,
          -2.0408026560947516,
          -1.9876204719370263,
          -1.9872963169993136,
          -2.0035853741340883,
          -2.021605096367,
          -2.0688767226689397,
          -2.02892193540786,
          -1.9213582052262683,
          -1.7512748637243514,
          -1.5731444581116878,
          -1.4200955169354075,
          -1.318202473856009,
          -1.2871582844854972,
          -1.298322426319609,
          -1.2204845870920493,
          -1.0671160884004611,
          -0.8037393734849627,
          -0.5798987667720518,
          -0.45308370400279674,
          -0.39238382701641883,
          -0.36293528085931187,
          -0.3196050129579792,
          -0.30657683709637307,
          -0.2876904096544722,
          -0.2537792010909485,
          -0.191222395666707,
          -0.19946296248808476,
          -0.3007778044303418,
          -0.720901610496305,
          -1.1357268137724152,
          -1.322012780398371,
          -0.8968049906364685,
          -0.28359570135223355,
          0.04623445274717985,
          0.1495385858113693,
          0.026156609404914016,
          -0.15261379262995453,
          -0.29756936955365526,
          -0.4183871308038175,
          -0.5598658760301011,
          -0.7532443187801147,
          -0.9890069230136048,
          -1.3733794985128205,
          -2.1129990441228212,
          -3.098520959450627,
          -4.348237361206746,
          -5.5348836699641994,
          -6.684663729397292,
          -7.702203410919868,
          -8.464440800325272,
          -9.238699635534083,
          -9.269945595150515,
          -8.987279647696209,
          -8.079158026049495,
          -6.938376107932141,
          -5.77562131337558,
          -4.368839330265446,
          -3.190748260554789,
          -1.989463717664953,
          -1.319566659949527,
          -0.7604278783305519,
          -0.305403105062789,
          0.1434226205826283,
          0.5239374076267892,
          0.8790175685817074,
          1.028863739797094,
          1.2200471048905628,
          1.2282990450214137,
          1.0907224598565126,
          0.9235185133176342,
          0.5321397439399692,
          0.23951547832111483,
          -0.017713301354689792,
          -0.12942247540072624,
          -0.18279668653609804,
          -0.18279668653609804
         ],
         "yaxis": "y"
        }
       ],
       "layout": {
        "hovermode": "x unified",
        "legend": {
         "font": {
          "color": "lightgray"
         },
         "orientation": "h",
         "title": {
          "text": "Indicators"
         },
         "tracegroupgap": 0,
         "x": -0.05,
         "xanchor": "left",
         "y": 1.05,
         "yanchor": "top"
        },
        "margin": {
         "t": 60
        },
        "template": {
         "data": {
          "bar": [
           {
            "error_x": {
             "color": "#f2f5fa"
            },
            "error_y": {
             "color": "#f2f5fa"
            },
            "marker": {
             "line": {
              "color": "rgb(17,17,17)",
              "width": 0.5
             },
             "pattern": {
              "fillmode": "overlay",
              "size": 10,
              "solidity": 0.2
             }
            },
            "type": "bar"
           }
          ],
          "barpolar": [
           {
            "marker": {
             "line": {
              "color": "rgb(17,17,17)",
              "width": 0.5
             },
             "pattern": {
              "fillmode": "overlay",
              "size": 10,
              "solidity": 0.2
             }
            },
            "type": "barpolar"
           }
          ],
          "carpet": [
           {
            "aaxis": {
             "endlinecolor": "#A2B1C6",
             "gridcolor": "#506784",
             "linecolor": "#506784",
             "minorgridcolor": "#506784",
             "startlinecolor": "#A2B1C6"
            },
            "baxis": {
             "endlinecolor": "#A2B1C6",
             "gridcolor": "#506784",
             "linecolor": "#506784",
             "minorgridcolor": "#506784",
             "startlinecolor": "#A2B1C6"
            },
            "type": "carpet"
           }
          ],
          "choropleth": [
           {
            "colorbar": {
             "outlinewidth": 0,
             "ticks": ""
            },
            "type": "choropleth"
           }
          ],
          "contour": [
           {
            "colorbar": {
             "outlinewidth": 0,
             "ticks": ""
            },
            "colorscale": [
             [
              0,
              "#0d0887"
             ],
             [
              0.1111111111111111,
              "#46039f"
             ],
             [
              0.2222222222222222,
              "#7201a8"
             ],
             [
              0.3333333333333333,
              "#9c179e"
             ],
             [
              0.4444444444444444,
              "#bd3786"
             ],
             [
              0.5555555555555556,
              "#d8576b"
             ],
             [
              0.6666666666666666,
              "#ed7953"
             ],
             [
              0.7777777777777778,
              "#fb9f3a"
             ],
             [
              0.8888888888888888,
              "#fdca26"
             ],
             [
              1,
              "#f0f921"
             ]
            ],
            "type": "contour"
           }
          ],
          "contourcarpet": [
           {
            "colorbar": {
             "outlinewidth": 0,
             "ticks": ""
            },
            "type": "contourcarpet"
           }
          ],
          "heatmap": [
           {
            "colorbar": {
             "outlinewidth": 0,
             "ticks": ""
            },
            "colorscale": [
             [
              0,
              "#0d0887"
             ],
             [
              0.1111111111111111,
              "#46039f"
             ],
             [
              0.2222222222222222,
              "#7201a8"
             ],
             [
              0.3333333333333333,
              "#9c179e"
             ],
             [
              0.4444444444444444,
              "#bd3786"
             ],
             [
              0.5555555555555556,
              "#d8576b"
             ],
             [
              0.6666666666666666,
              "#ed7953"
             ],
             [
              0.7777777777777778,
              "#fb9f3a"
             ],
             [
              0.8888888888888888,
              "#fdca26"
             ],
             [
              1,
              "#f0f921"
             ]
            ],
            "type": "heatmap"
           }
          ],
          "heatmapgl": [
           {
            "colorbar": {
             "outlinewidth": 0,
             "ticks": ""
            },
            "colorscale": [
             [
              0,
              "#0d0887"
             ],
             [
              0.1111111111111111,
              "#46039f"
             ],
             [
              0.2222222222222222,
              "#7201a8"
             ],
             [
              0.3333333333333333,
              "#9c179e"
             ],
             [
              0.4444444444444444,
              "#bd3786"
             ],
             [
              0.5555555555555556,
              "#d8576b"
             ],
             [
              0.6666666666666666,
              "#ed7953"
             ],
             [
              0.7777777777777778,
              "#fb9f3a"
             ],
             [
              0.8888888888888888,
              "#fdca26"
             ],
             [
              1,
              "#f0f921"
             ]
            ],
            "type": "heatmapgl"
           }
          ],
          "histogram": [
           {
            "marker": {
             "pattern": {
              "fillmode": "overlay",
              "size": 10,
              "solidity": 0.2
             }
            },
            "type": "histogram"
           }
          ],
          "histogram2d": [
           {
            "colorbar": {
             "outlinewidth": 0,
             "ticks": ""
            },
            "colorscale": [
             [
              0,
              "#0d0887"
             ],
             [
              0.1111111111111111,
              "#46039f"
             ],
             [
              0.2222222222222222,
              "#7201a8"
             ],
             [
              0.3333333333333333,
              "#9c179e"
             ],
             [
              0.4444444444444444,
              "#bd3786"
             ],
             [
              0.5555555555555556,
              "#d8576b"
             ],
             [
              0.6666666666666666,
              "#ed7953"
             ],
             [
              0.7777777777777778,
              "#fb9f3a"
             ],
             [
              0.8888888888888888,
              "#fdca26"
             ],
             [
              1,
              "#f0f921"
             ]
            ],
            "type": "histogram2d"
           }
          ],
          "histogram2dcontour": [
           {
            "colorbar": {
             "outlinewidth": 0,
             "ticks": ""
            },
            "colorscale": [
             [
              0,
              "#0d0887"
             ],
             [
              0.1111111111111111,
              "#46039f"
             ],
             [
              0.2222222222222222,
              "#7201a8"
             ],
             [
              0.3333333333333333,
              "#9c179e"
             ],
             [
              0.4444444444444444,
              "#bd3786"
             ],
             [
              0.5555555555555556,
              "#d8576b"
             ],
             [
              0.6666666666666666,
              "#ed7953"
             ],
             [
              0.7777777777777778,
              "#fb9f3a"
             ],
             [
              0.8888888888888888,
              "#fdca26"
             ],
             [
              1,
              "#f0f921"
             ]
            ],
            "type": "histogram2dcontour"
           }
          ],
          "mesh3d": [
           {
            "colorbar": {
             "outlinewidth": 0,
             "ticks": ""
            },
            "type": "mesh3d"
           }
          ],
          "parcoords": [
           {
            "line": {
             "colorbar": {
              "outlinewidth": 0,
              "ticks": ""
             }
            },
            "type": "parcoords"
           }
          ],
          "pie": [
           {
            "automargin": true,
            "type": "pie"
           }
          ],
          "scatter": [
           {
            "marker": {
             "line": {
              "color": "#283442"
             }
            },
            "type": "scatter"
           }
          ],
          "scatter3d": [
           {
            "line": {
             "colorbar": {
              "outlinewidth": 0,
              "ticks": ""
             }
            },
            "marker": {
             "colorbar": {
              "outlinewidth": 0,
              "ticks": ""
             }
            },
            "type": "scatter3d"
           }
          ],
          "scattercarpet": [
           {
            "marker": {
             "colorbar": {
              "outlinewidth": 0,
              "ticks": ""
             }
            },
            "type": "scattercarpet"
           }
          ],
          "scattergeo": [
           {
            "marker": {
             "colorbar": {
              "outlinewidth": 0,
              "ticks": ""
             }
            },
            "type": "scattergeo"
           }
          ],
          "scattergl": [
           {
            "marker": {
             "line": {
              "color": "#283442"
             }
            },
            "type": "scattergl"
           }
          ],
          "scattermapbox": [
           {
            "marker": {
             "colorbar": {
              "outlinewidth": 0,
              "ticks": ""
             }
            },
            "type": "scattermapbox"
           }
          ],
          "scatterpolar": [
           {
            "marker": {
             "colorbar": {
              "outlinewidth": 0,
              "ticks": ""
             }
            },
            "type": "scatterpolar"
           }
          ],
          "scatterpolargl": [
           {
            "marker": {
             "colorbar": {
              "outlinewidth": 0,
              "ticks": ""
             }
            },
            "type": "scatterpolargl"
           }
          ],
          "scatterternary": [
           {
            "marker": {
             "colorbar": {
              "outlinewidth": 0,
              "ticks": ""
             }
            },
            "type": "scatterternary"
           }
          ],
          "surface": [
           {
            "colorbar": {
             "outlinewidth": 0,
             "ticks": ""
            },
            "colorscale": [
             [
              0,
              "#0d0887"
             ],
             [
              0.1111111111111111,
              "#46039f"
             ],
             [
              0.2222222222222222,
              "#7201a8"
             ],
             [
              0.3333333333333333,
              "#9c179e"
             ],
             [
              0.4444444444444444,
              "#bd3786"
             ],
             [
              0.5555555555555556,
              "#d8576b"
             ],
             [
              0.6666666666666666,
              "#ed7953"
             ],
             [
              0.7777777777777778,
              "#fb9f3a"
             ],
             [
              0.8888888888888888,
              "#fdca26"
             ],
             [
              1,
              "#f0f921"
             ]
            ],
            "type": "surface"
           }
          ],
          "table": [
           {
            "cells": {
             "fill": {
              "color": "#506784"
             },
             "line": {
              "color": "rgb(17,17,17)"
             }
            },
            "header": {
             "fill": {
              "color": "#2a3f5f"
             },
             "line": {
              "color": "rgb(17,17,17)"
             }
            },
            "type": "table"
           }
          ]
         },
         "layout": {
          "annotationdefaults": {
           "arrowcolor": "#f2f5fa",
           "arrowhead": 0,
           "arrowwidth": 1
          },
          "autotypenumbers": "strict",
          "coloraxis": {
           "colorbar": {
            "outlinewidth": 0,
            "ticks": ""
           }
          },
          "colorscale": {
           "diverging": [
            [
             0,
             "#8e0152"
            ],
            [
             0.1,
             "#c51b7d"
            ],
            [
             0.2,
             "#de77ae"
            ],
            [
             0.3,
             "#f1b6da"
            ],
            [
             0.4,
             "#fde0ef"
            ],
            [
             0.5,
             "#f7f7f7"
            ],
            [
             0.6,
             "#e6f5d0"
            ],
            [
             0.7,
             "#b8e186"
            ],
            [
             0.8,
             "#7fbc41"
            ],
            [
             0.9,
             "#4d9221"
            ],
            [
             1,
             "#276419"
            ]
           ],
           "sequential": [
            [
             0,
             "#0d0887"
            ],
            [
             0.1111111111111111,
             "#46039f"
            ],
            [
             0.2222222222222222,
             "#7201a8"
            ],
            [
             0.3333333333333333,
             "#9c179e"
            ],
            [
             0.4444444444444444,
             "#bd3786"
            ],
            [
             0.5555555555555556,
             "#d8576b"
            ],
            [
             0.6666666666666666,
             "#ed7953"
            ],
            [
             0.7777777777777778,
             "#fb9f3a"
            ],
            [
             0.8888888888888888,
             "#fdca26"
            ],
            [
             1,
             "#f0f921"
            ]
           ],
           "sequentialminus": [
            [
             0,
             "#0d0887"
            ],
            [
             0.1111111111111111,
             "#46039f"
            ],
            [
             0.2222222222222222,
             "#7201a8"
            ],
            [
             0.3333333333333333,
             "#9c179e"
            ],
            [
             0.4444444444444444,
             "#bd3786"
            ],
            [
             0.5555555555555556,
             "#d8576b"
            ],
            [
             0.6666666666666666,
             "#ed7953"
            ],
            [
             0.7777777777777778,
             "#fb9f3a"
            ],
            [
             0.8888888888888888,
             "#fdca26"
            ],
            [
             1,
             "#f0f921"
            ]
           ]
          },
          "colorway": [
           "#636efa",
           "#EF553B",
           "#00cc96",
           "#ab63fa",
           "#FFA15A",
           "#19d3f3",
           "#FF6692",
           "#B6E880",
           "#FF97FF",
           "#FECB52"
          ],
          "font": {
           "color": "#f2f5fa"
          },
          "geo": {
           "bgcolor": "rgb(17,17,17)",
           "lakecolor": "rgb(17,17,17)",
           "landcolor": "rgb(17,17,17)",
           "showlakes": true,
           "showland": true,
           "subunitcolor": "#506784"
          },
          "hoverlabel": {
           "align": "left"
          },
          "hovermode": "closest",
          "mapbox": {
           "style": "dark"
          },
          "paper_bgcolor": "rgb(17,17,17)",
          "plot_bgcolor": "rgb(17,17,17)",
          "polar": {
           "angularaxis": {
            "gridcolor": "#506784",
            "linecolor": "#506784",
            "ticks": ""
           },
           "bgcolor": "rgb(17,17,17)",
           "radialaxis": {
            "gridcolor": "#506784",
            "linecolor": "#506784",
            "ticks": ""
           }
          },
          "scene": {
           "xaxis": {
            "backgroundcolor": "rgb(17,17,17)",
            "gridcolor": "#506784",
            "gridwidth": 2,
            "linecolor": "#506784",
            "showbackground": true,
            "ticks": "",
            "zerolinecolor": "#C8D4E3"
           },
           "yaxis": {
            "backgroundcolor": "rgb(17,17,17)",
            "gridcolor": "#506784",
            "gridwidth": 2,
            "linecolor": "#506784",
            "showbackground": true,
            "ticks": "",
            "zerolinecolor": "#C8D4E3"
           },
           "zaxis": {
            "backgroundcolor": "rgb(17,17,17)",
            "gridcolor": "#506784",
            "gridwidth": 2,
            "linecolor": "#506784",
            "showbackground": true,
            "ticks": "",
            "zerolinecolor": "#C8D4E3"
           }
          },
          "shapedefaults": {
           "line": {
            "color": "#f2f5fa"
           }
          },
          "sliderdefaults": {
           "bgcolor": "#C8D4E3",
           "bordercolor": "rgb(17,17,17)",
           "borderwidth": 1,
           "tickwidth": 0
          },
          "ternary": {
           "aaxis": {
            "gridcolor": "#506784",
            "linecolor": "#506784",
            "ticks": ""
           },
           "baxis": {
            "gridcolor": "#506784",
            "linecolor": "#506784",
            "ticks": ""
           },
           "bgcolor": "rgb(17,17,17)",
           "caxis": {
            "gridcolor": "#506784",
            "linecolor": "#506784",
            "ticks": ""
           }
          },
          "title": {
           "x": 0.05
          },
          "updatemenudefaults": {
           "bgcolor": "#506784",
           "borderwidth": 0
          },
          "xaxis": {
           "automargin": true,
           "gridcolor": "#283442",
           "linecolor": "#506784",
           "ticks": "",
           "title": {
            "standoff": 15
           },
           "zerolinecolor": "#283442",
           "zerolinewidth": 2
          },
          "yaxis": {
           "automargin": true,
           "gridcolor": "#283442",
           "linecolor": "#506784",
           "ticks": "",
           "title": {
            "standoff": 15
           },
           "zerolinecolor": "#283442",
           "zerolinewidth": 2
          }
         }
        },
        "title": {
         "text": "Impact of Economic Indicators on S&P500 Over Time"
        },
        "xaxis": {
         "anchor": "y",
         "domain": [
          0,
          1
         ],
         "title": {
          "text": "Date"
         }
        },
        "yaxis": {
         "anchor": "x",
         "domain": [
          0,
          1
         ],
         "title": {
          "text": "Coefficients"
         }
        }
       }
      }
     },
     "metadata": {},
     "output_type": "display_data"
    }
   ],
   "source": [
    "import plotly.express as px\n",
    "fig = px.line(thetas_df, 'Date', cols)\n",
    "for trace in fig.data:\n",
    "    trace.hovertemplate = f'%{{y}}'\n",
    "\n",
    "fig.update_layout(\n",
    "    title='Impact of Economic Indicators on S&P500 Over Time',\n",
    "    legend=dict(title_text='Indicators', orientation='h', font_color='lightgray',\n",
    "                x=-0.05, y=1.05, xanchor='left', yanchor='top'),\n",
    "    template='plotly_dark', hovermode=\"x unified\",\n",
    "    yaxis=dict(title_text='Strengths'), margin=go.layout.Margin(t=60)\n",
    "    )\n",
    "\n",
    "fig.show()"
   ]
  },
  {
   "cell_type": "code",
   "execution_count": 83,
   "metadata": {},
   "outputs": [
    {
     "name": "stdout",
     "output_type": "stream",
     "text": [
      "[4423.04139174]\n",
      "[4551.71361443 4173.09687471]\n",
      "[4406.50288457 4103.67628794 4321.86593679]\n",
      "[4408.42584242 4192.24447089 4358.1813675  4227.80696593]\n",
      "[4284.26030663 3994.01508279 4350.0074046  4127.64139095 4249.11289239]\n",
      "[4329.52880314 3858.29876489 3977.20610971 4165.10314474 4095.74724162\n",
      " 4205.63599475]\n"
     ]
    },
    {
     "data": {
      "text/plain": [
       "array([4400.57880715, 4064.26629624, 4251.81520465, 4173.51716721,\n",
       "       4172.43006701, 4205.63599475])"
      ]
     },
     "execution_count": 83,
     "metadata": {},
     "output_type": "execute_result"
    }
   ],
   "source": [
    "act_prices_mat = np.zeros((6,6))\n",
    "future = PA.futures['LinR']\n",
    "for idx, i in enumerate(future.keys()):\n",
    "    for j in future[i].keys():\n",
    "        if j == '1MA':\n",
    "            yoy_mean = future[i][j][0]\n",
    "            #yoy_mean = np.mean(future[i][j], axis=0)\n",
    "            #print(\"YoY: \", yoy_mean)\n",
    "            r = 12 - int(i[0])\n",
    "            act_prices = df['SP500_Price'][-12:-r].values * (yoy_mean/100+1)\n",
    "            act_prices_mat[idx] = np.pad(act_prices, (0, 6-1-idx), 'constant', constant_values=(0))\n",
    "            print(act_prices)\n",
    "\n",
    "np.sum(act_prices_mat, axis=0) / np.count_nonzero(act_prices_mat, axis=0)"
   ]
  },
  {
   "cell_type": "code",
   "execution_count": 20,
   "metadata": {},
   "outputs": [
    {
     "data": {
      "application/vnd.plotly.v1+json": {
       "config": {
        "plotlyServerURL": "https://plot.ly"
       },
       "data": [
        {
         "error_y": {
          "array": [
           0.20046366843926666,
           0.2567364103251508,
           0.3438556809937463
          ],
          "arrayminus": [
           0.17794657572106054,
           0.5521788378069079,
           0.6071461851575322
          ]
         },
         "hovertemplate": "SC=1<br>MA=%{x}<br>RMSE_mean=%{y}<extra></extra>",
         "legendgroup": "1",
         "marker": {
          "color": "#636efa",
          "symbol": "circle"
         },
         "mode": "markers",
         "name": "1",
         "orientation": "v",
         "showlegend": true,
         "type": "scatter",
         "x": [
          1,
          2,
          3
         ],
         "xaxis": "x",
         "y": [
          7.895704476130237,
          6.877043113355346,
          6.246305219731268
         ],
         "yaxis": "y"
        },
        {
         "error_y": {
          "array": [
           0.312140545249429,
           0.342952724922883,
           0.44947903358606567
          ],
          "arrayminus": [
           0.3593410514996034,
           0.6830768885471858,
           0.7619491956681301
          ]
         },
         "hovertemplate": "SC=3<br>MA=%{x}<br>RMSE_mean=%{y}<extra></extra>",
         "legendgroup": "3",
         "marker": {
          "color": "#EF553B",
          "symbol": "circle"
         },
         "mode": "markers",
         "name": "3",
         "orientation": "v",
         "showlegend": true,
         "type": "scatter",
         "x": [
          1,
          2,
          3
         ],
         "xaxis": "x",
         "y": [
          9.678223985338692,
          8.976148586489211,
          8.349285976479294
         ],
         "yaxis": "y"
        },
        {
         "error_y": {
          "array": [
           0.3602379815065273,
           0.4340201236772554,
           0.5286136628838651
          ],
          "arrayminus": [
           0.4158102051432522,
           0.7949689452753503,
           0.8678285020194121
          ]
         },
         "hovertemplate": "SC=6<br>MA=%{x}<br>RMSE_mean=%{y}<extra></extra>",
         "legendgroup": "6",
         "marker": {
          "color": "#00cc96",
          "symbol": "circle"
         },
         "mode": "markers",
         "name": "6",
         "orientation": "v",
         "showlegend": true,
         "type": "scatter",
         "x": [
          1,
          2,
          3
         ],
         "xaxis": "x",
         "y": [
          11.468282766821472,
          10.877610221146734,
          10.344347852377314
         ],
         "yaxis": "y"
        },
        {
         "error_y": {
          "array": [
           0.20115759657783983,
           0.25776678705625233,
           0.34519952667576703
          ],
          "arrayminus": [
           0.1784225024879298,
           0.5543419049179743,
           0.6095023565899877
          ]
         },
         "hovertemplate": "SC=1<br>MA=%{x}<br>SE_mean=%{y}<extra></extra>",
         "legendgroup": "1",
         "marker": {
          "color": "#636efa",
          "symbol": "circle"
         },
         "mode": "markers",
         "name": "1",
         "orientation": "v",
         "showlegend": false,
         "type": "scatter",
         "x": [
          1,
          2,
          3
         ],
         "xaxis": "x2",
         "y": [
          7.92443342441095,
          6.902191832027149,
          6.269204843660997
         ],
         "yaxis": "y2"
        },
        {
         "error_y": {
          "array": [
           0.31323352265803805,
           0.3443267818038489,
           0.4512385065399762
          ],
          "arrayminus": [
           0.360440398426352,
           0.685763025500961,
           0.7649174035816912
          ]
         },
         "hovertemplate": "SC=3<br>MA=%{x}<br>SE_mean=%{y}<extra></extra>",
         "legendgroup": "3",
         "marker": {
          "color": "#EF553B",
          "symbol": "circle"
         },
         "mode": "markers",
         "name": "3",
         "orientation": "v",
         "showlegend": false,
         "type": "scatter",
         "x": [
          1,
          2,
          3
         ],
         "xaxis": "x2",
         "y": [
          9.713437721886395,
          9.008973181457653,
          8.379894847084183
         ],
         "yaxis": "y2"
        },
        {
         "error_y": {
          "array": [
           0.36149750073012754,
           0.43575268423906444,
           0.5306898790045196
          ],
          "arrayminus": [
           0.41707689614240806,
           0.7981050306646935,
           0.8712280996632717
          ]
         },
         "hovertemplate": "SC=6<br>MA=%{x}<br>SE_mean=%{y}<extra></extra>",
         "legendgroup": "6",
         "marker": {
          "color": "#00cc96",
          "symbol": "circle"
         },
         "mode": "markers",
         "name": "6",
         "orientation": "v",
         "showlegend": false,
         "type": "scatter",
         "x": [
          1,
          2,
          3
         ],
         "xaxis": "x2",
         "y": [
          11.510010139419586,
          10.917388370157118,
          10.382270403518314
         ],
         "yaxis": "y2"
        },
        {
         "error_y": {
          "array": [
           0.01213797827933416,
           0.029775794352538743,
           0.03088116200901625
          ],
          "arrayminus": [
           0.01279051031374634,
           0.014094271719008011,
           0.018023121127574204
          ]
         },
         "hovertemplate": "SC=1<br>MA=%{x}<br>R2_mean=%{y}<extra></extra>",
         "legendgroup": "1",
         "marker": {
          "color": "#636efa",
          "symbol": "circle"
         },
         "mode": "markers",
         "name": "1",
         "orientation": "v",
         "showlegend": false,
         "type": "scatter",
         "x": [
          1,
          2,
          3
         ],
         "xaxis": "x3",
         "y": [
          0.7512270536364841,
          0.8035727414562325,
          0.8322721729823422
         ],
         "yaxis": "y3"
        },
        {
         "error_y": {
          "array": [
           0.028911484918939356,
           0.04809822867762481,
           0.051834746641269414
          ],
          "arrayminus": [
           0.024357203351524026,
           0.024810797830730702,
           0.03154976245568486
          ]
         },
         "hovertemplate": "SC=3<br>MA=%{x}<br>R2_mean=%{y}<extra></extra>",
         "legendgroup": "3",
         "marker": {
          "color": "#EF553B",
          "symbol": "circle"
         },
         "mode": "markers",
         "name": "3",
         "orientation": "v",
         "showlegend": false,
         "type": "scatter",
         "x": [
          1,
          2,
          3
         ],
         "xaxis": "x3",
         "y": [
          0.6260843550252683,
          0.6653932436085918,
          0.7004320286050443
         ],
         "yaxis": "y3"
        },
        {
         "error_y": {
          "array": [
           0.03968455177373087,
           0.06785701214920781,
           0.07324456865155793
          ],
          "arrayminus": [
           0.03332410911904371,
           0.037948012478999704,
           0.045928774931635385
          ]
         },
         "hovertemplate": "SC=6<br>MA=%{x}<br>R2_mean=%{y}<extra></extra>",
         "legendgroup": "6",
         "marker": {
          "color": "#00cc96",
          "symbol": "circle"
         },
         "mode": "markers",
         "name": "6",
         "orientation": "v",
         "showlegend": false,
         "type": "scatter",
         "x": [
          1,
          2,
          3
         ],
         "xaxis": "x3",
         "y": [
          0.4750096159712889,
          0.5086411058058947,
          0.5402965965044235
         ],
         "yaxis": "y3"
        },
        {
         "error_y": {
          "array": [
           0.012189889373309781,
           0.029926435714810906,
           0.03103678615611072
          ],
          "arrayminus": [
           0.0128511855293858,
           0.014166610952088932,
           0.018114357541455517
          ]
         },
         "hovertemplate": "SC=1<br>MA=%{x}<br>Adj-R2_mean=%{y}<extra></extra>",
         "legendgroup": "1",
         "marker": {
          "color": "#636efa",
          "symbol": "circle"
         },
         "mode": "markers",
         "name": "1",
         "orientation": "v",
         "showlegend": false,
         "type": "scatter",
         "x": [
          1,
          2,
          3
         ],
         "xaxis": "x4",
         "y": [
          0.7500180033342728,
          0.8026131124037116,
          0.8314506283242569
         ],
         "yaxis": "y4"
        },
        {
         "error_y": {
          "array": [
           0.029041571621415407,
           0.048342069013259326,
           0.05209649334408184
          ],
          "arrayminus": [
           0.02447341808307435,
           0.024933682451829253,
           0.03170961544844153
          ]
         },
         "hovertemplate": "SC=3<br>MA=%{x}<br>Adj-R2_mean=%{y}<extra></extra>",
         "legendgroup": "3",
         "marker": {
          "color": "#EF553B",
          "symbol": "circle"
         },
         "mode": "markers",
         "name": "3",
         "orientation": "v",
         "showlegend": false,
         "type": "scatter",
         "x": [
          1,
          2,
          3
         ],
         "xaxis": "x4",
         "y": [
          0.624267206415429,
          0.6637585851772593,
          0.6989647674265447
         ],
         "yaxis": "y4"
        },
        {
         "error_y": {
          "array": [
           0.039862829634289054,
           0.06820163972793314,
           0.07361554896906075
          ],
          "arrayminus": [
           0.03348296213427043,
           0.038142192220793736,
           0.046161895351855886
          ]
         },
         "hovertemplate": "SC=6<br>MA=%{x}<br>Adj-R2_mean=%{y}<extra></extra>",
         "legendgroup": "6",
         "marker": {
          "color": "#00cc96",
          "symbol": "circle"
         },
         "mode": "markers",
         "name": "6",
         "orientation": "v",
         "showlegend": false,
         "type": "scatter",
         "x": [
          1,
          2,
          3
         ],
         "xaxis": "x4",
         "y": [
          0.47245820445667214,
          0.5062406438483106,
          0.5380450379151736
         ],
         "yaxis": "y4"
        }
       ],
       "layout": {
        "annotations": [
         {
          "font": {
           "size": 15
          },
          "showarrow": false,
          "text": "RMSE",
          "x": 0.5,
          "xanchor": "center",
          "xref": "x",
          "y": 1.05,
          "yanchor": "bottom",
          "yref": "paper"
         },
         {
          "font": {
           "size": 15
          },
          "showarrow": false,
          "text": "SE",
          "x": 0.5,
          "xanchor": "center",
          "xref": "x2",
          "y": 1.05,
          "yanchor": "bottom",
          "yref": "paper"
         },
         {
          "font": {
           "size": 15
          },
          "showarrow": false,
          "text": "R2",
          "x": 0.5,
          "xanchor": "center",
          "xref": "x3",
          "y": 1.05,
          "yanchor": "bottom",
          "yref": "paper"
         },
         {
          "font": {
           "size": 15
          },
          "showarrow": false,
          "text": "Adj-R2",
          "x": 0.5,
          "xanchor": "center",
          "xref": "x4",
          "y": 1.05,
          "yanchor": "bottom",
          "yref": "paper"
         }
        ],
        "height": 400,
        "legend": {
         "orientation": "h",
         "title": {
          "text": "Scopes"
         },
         "x": 0.5,
         "xanchor": "center",
         "y": -0.25,
         "yanchor": "bottom"
        },
        "template": {
         "data": {
          "bar": [
           {
            "error_x": {
             "color": "#f2f5fa"
            },
            "error_y": {
             "color": "#f2f5fa"
            },
            "marker": {
             "line": {
              "color": "rgb(17,17,17)",
              "width": 0.5
             },
             "pattern": {
              "fillmode": "overlay",
              "size": 10,
              "solidity": 0.2
             }
            },
            "type": "bar"
           }
          ],
          "barpolar": [
           {
            "marker": {
             "line": {
              "color": "rgb(17,17,17)",
              "width": 0.5
             },
             "pattern": {
              "fillmode": "overlay",
              "size": 10,
              "solidity": 0.2
             }
            },
            "type": "barpolar"
           }
          ],
          "carpet": [
           {
            "aaxis": {
             "endlinecolor": "#A2B1C6",
             "gridcolor": "#506784",
             "linecolor": "#506784",
             "minorgridcolor": "#506784",
             "startlinecolor": "#A2B1C6"
            },
            "baxis": {
             "endlinecolor": "#A2B1C6",
             "gridcolor": "#506784",
             "linecolor": "#506784",
             "minorgridcolor": "#506784",
             "startlinecolor": "#A2B1C6"
            },
            "type": "carpet"
           }
          ],
          "choropleth": [
           {
            "colorbar": {
             "outlinewidth": 0,
             "ticks": ""
            },
            "type": "choropleth"
           }
          ],
          "contour": [
           {
            "colorbar": {
             "outlinewidth": 0,
             "ticks": ""
            },
            "colorscale": [
             [
              0,
              "#0d0887"
             ],
             [
              0.1111111111111111,
              "#46039f"
             ],
             [
              0.2222222222222222,
              "#7201a8"
             ],
             [
              0.3333333333333333,
              "#9c179e"
             ],
             [
              0.4444444444444444,
              "#bd3786"
             ],
             [
              0.5555555555555556,
              "#d8576b"
             ],
             [
              0.6666666666666666,
              "#ed7953"
             ],
             [
              0.7777777777777778,
              "#fb9f3a"
             ],
             [
              0.8888888888888888,
              "#fdca26"
             ],
             [
              1,
              "#f0f921"
             ]
            ],
            "type": "contour"
           }
          ],
          "contourcarpet": [
           {
            "colorbar": {
             "outlinewidth": 0,
             "ticks": ""
            },
            "type": "contourcarpet"
           }
          ],
          "heatmap": [
           {
            "colorbar": {
             "outlinewidth": 0,
             "ticks": ""
            },
            "colorscale": [
             [
              0,
              "#0d0887"
             ],
             [
              0.1111111111111111,
              "#46039f"
             ],
             [
              0.2222222222222222,
              "#7201a8"
             ],
             [
              0.3333333333333333,
              "#9c179e"
             ],
             [
              0.4444444444444444,
              "#bd3786"
             ],
             [
              0.5555555555555556,
              "#d8576b"
             ],
             [
              0.6666666666666666,
              "#ed7953"
             ],
             [
              0.7777777777777778,
              "#fb9f3a"
             ],
             [
              0.8888888888888888,
              "#fdca26"
             ],
             [
              1,
              "#f0f921"
             ]
            ],
            "type": "heatmap"
           }
          ],
          "heatmapgl": [
           {
            "colorbar": {
             "outlinewidth": 0,
             "ticks": ""
            },
            "colorscale": [
             [
              0,
              "#0d0887"
             ],
             [
              0.1111111111111111,
              "#46039f"
             ],
             [
              0.2222222222222222,
              "#7201a8"
             ],
             [
              0.3333333333333333,
              "#9c179e"
             ],
             [
              0.4444444444444444,
              "#bd3786"
             ],
             [
              0.5555555555555556,
              "#d8576b"
             ],
             [
              0.6666666666666666,
              "#ed7953"
             ],
             [
              0.7777777777777778,
              "#fb9f3a"
             ],
             [
              0.8888888888888888,
              "#fdca26"
             ],
             [
              1,
              "#f0f921"
             ]
            ],
            "type": "heatmapgl"
           }
          ],
          "histogram": [
           {
            "marker": {
             "pattern": {
              "fillmode": "overlay",
              "size": 10,
              "solidity": 0.2
             }
            },
            "type": "histogram"
           }
          ],
          "histogram2d": [
           {
            "colorbar": {
             "outlinewidth": 0,
             "ticks": ""
            },
            "colorscale": [
             [
              0,
              "#0d0887"
             ],
             [
              0.1111111111111111,
              "#46039f"
             ],
             [
              0.2222222222222222,
              "#7201a8"
             ],
             [
              0.3333333333333333,
              "#9c179e"
             ],
             [
              0.4444444444444444,
              "#bd3786"
             ],
             [
              0.5555555555555556,
              "#d8576b"
             ],
             [
              0.6666666666666666,
              "#ed7953"
             ],
             [
              0.7777777777777778,
              "#fb9f3a"
             ],
             [
              0.8888888888888888,
              "#fdca26"
             ],
             [
              1,
              "#f0f921"
             ]
            ],
            "type": "histogram2d"
           }
          ],
          "histogram2dcontour": [
           {
            "colorbar": {
             "outlinewidth": 0,
             "ticks": ""
            },
            "colorscale": [
             [
              0,
              "#0d0887"
             ],
             [
              0.1111111111111111,
              "#46039f"
             ],
             [
              0.2222222222222222,
              "#7201a8"
             ],
             [
              0.3333333333333333,
              "#9c179e"
             ],
             [
              0.4444444444444444,
              "#bd3786"
             ],
             [
              0.5555555555555556,
              "#d8576b"
             ],
             [
              0.6666666666666666,
              "#ed7953"
             ],
             [
              0.7777777777777778,
              "#fb9f3a"
             ],
             [
              0.8888888888888888,
              "#fdca26"
             ],
             [
              1,
              "#f0f921"
             ]
            ],
            "type": "histogram2dcontour"
           }
          ],
          "mesh3d": [
           {
            "colorbar": {
             "outlinewidth": 0,
             "ticks": ""
            },
            "type": "mesh3d"
           }
          ],
          "parcoords": [
           {
            "line": {
             "colorbar": {
              "outlinewidth": 0,
              "ticks": ""
             }
            },
            "type": "parcoords"
           }
          ],
          "pie": [
           {
            "automargin": true,
            "type": "pie"
           }
          ],
          "scatter": [
           {
            "marker": {
             "line": {
              "color": "#283442"
             }
            },
            "type": "scatter"
           }
          ],
          "scatter3d": [
           {
            "line": {
             "colorbar": {
              "outlinewidth": 0,
              "ticks": ""
             }
            },
            "marker": {
             "colorbar": {
              "outlinewidth": 0,
              "ticks": ""
             }
            },
            "type": "scatter3d"
           }
          ],
          "scattercarpet": [
           {
            "marker": {
             "colorbar": {
              "outlinewidth": 0,
              "ticks": ""
             }
            },
            "type": "scattercarpet"
           }
          ],
          "scattergeo": [
           {
            "marker": {
             "colorbar": {
              "outlinewidth": 0,
              "ticks": ""
             }
            },
            "type": "scattergeo"
           }
          ],
          "scattergl": [
           {
            "marker": {
             "line": {
              "color": "#283442"
             }
            },
            "type": "scattergl"
           }
          ],
          "scattermapbox": [
           {
            "marker": {
             "colorbar": {
              "outlinewidth": 0,
              "ticks": ""
             }
            },
            "type": "scattermapbox"
           }
          ],
          "scatterpolar": [
           {
            "marker": {
             "colorbar": {
              "outlinewidth": 0,
              "ticks": ""
             }
            },
            "type": "scatterpolar"
           }
          ],
          "scatterpolargl": [
           {
            "marker": {
             "colorbar": {
              "outlinewidth": 0,
              "ticks": ""
             }
            },
            "type": "scatterpolargl"
           }
          ],
          "scatterternary": [
           {
            "marker": {
             "colorbar": {
              "outlinewidth": 0,
              "ticks": ""
             }
            },
            "type": "scatterternary"
           }
          ],
          "surface": [
           {
            "colorbar": {
             "outlinewidth": 0,
             "ticks": ""
            },
            "colorscale": [
             [
              0,
              "#0d0887"
             ],
             [
              0.1111111111111111,
              "#46039f"
             ],
             [
              0.2222222222222222,
              "#7201a8"
             ],
             [
              0.3333333333333333,
              "#9c179e"
             ],
             [
              0.4444444444444444,
              "#bd3786"
             ],
             [
              0.5555555555555556,
              "#d8576b"
             ],
             [
              0.6666666666666666,
              "#ed7953"
             ],
             [
              0.7777777777777778,
              "#fb9f3a"
             ],
             [
              0.8888888888888888,
              "#fdca26"
             ],
             [
              1,
              "#f0f921"
             ]
            ],
            "type": "surface"
           }
          ],
          "table": [
           {
            "cells": {
             "fill": {
              "color": "#506784"
             },
             "line": {
              "color": "rgb(17,17,17)"
             }
            },
            "header": {
             "fill": {
              "color": "#2a3f5f"
             },
             "line": {
              "color": "rgb(17,17,17)"
             }
            },
            "type": "table"
           }
          ]
         },
         "layout": {
          "annotationdefaults": {
           "arrowcolor": "#f2f5fa",
           "arrowhead": 0,
           "arrowwidth": 1
          },
          "autotypenumbers": "strict",
          "coloraxis": {
           "colorbar": {
            "outlinewidth": 0,
            "ticks": ""
           }
          },
          "colorscale": {
           "diverging": [
            [
             0,
             "#8e0152"
            ],
            [
             0.1,
             "#c51b7d"
            ],
            [
             0.2,
             "#de77ae"
            ],
            [
             0.3,
             "#f1b6da"
            ],
            [
             0.4,
             "#fde0ef"
            ],
            [
             0.5,
             "#f7f7f7"
            ],
            [
             0.6,
             "#e6f5d0"
            ],
            [
             0.7,
             "#b8e186"
            ],
            [
             0.8,
             "#7fbc41"
            ],
            [
             0.9,
             "#4d9221"
            ],
            [
             1,
             "#276419"
            ]
           ],
           "sequential": [
            [
             0,
             "#0d0887"
            ],
            [
             0.1111111111111111,
             "#46039f"
            ],
            [
             0.2222222222222222,
             "#7201a8"
            ],
            [
             0.3333333333333333,
             "#9c179e"
            ],
            [
             0.4444444444444444,
             "#bd3786"
            ],
            [
             0.5555555555555556,
             "#d8576b"
            ],
            [
             0.6666666666666666,
             "#ed7953"
            ],
            [
             0.7777777777777778,
             "#fb9f3a"
            ],
            [
             0.8888888888888888,
             "#fdca26"
            ],
            [
             1,
             "#f0f921"
            ]
           ],
           "sequentialminus": [
            [
             0,
             "#0d0887"
            ],
            [
             0.1111111111111111,
             "#46039f"
            ],
            [
             0.2222222222222222,
             "#7201a8"
            ],
            [
             0.3333333333333333,
             "#9c179e"
            ],
            [
             0.4444444444444444,
             "#bd3786"
            ],
            [
             0.5555555555555556,
             "#d8576b"
            ],
            [
             0.6666666666666666,
             "#ed7953"
            ],
            [
             0.7777777777777778,
             "#fb9f3a"
            ],
            [
             0.8888888888888888,
             "#fdca26"
            ],
            [
             1,
             "#f0f921"
            ]
           ]
          },
          "colorway": [
           "#636efa",
           "#EF553B",
           "#00cc96",
           "#ab63fa",
           "#FFA15A",
           "#19d3f3",
           "#FF6692",
           "#B6E880",
           "#FF97FF",
           "#FECB52"
          ],
          "font": {
           "color": "#f2f5fa"
          },
          "geo": {
           "bgcolor": "rgb(17,17,17)",
           "lakecolor": "rgb(17,17,17)",
           "landcolor": "rgb(17,17,17)",
           "showlakes": true,
           "showland": true,
           "subunitcolor": "#506784"
          },
          "hoverlabel": {
           "align": "left"
          },
          "hovermode": "closest",
          "mapbox": {
           "style": "dark"
          },
          "paper_bgcolor": "rgb(17,17,17)",
          "plot_bgcolor": "rgb(17,17,17)",
          "polar": {
           "angularaxis": {
            "gridcolor": "#506784",
            "linecolor": "#506784",
            "ticks": ""
           },
           "bgcolor": "rgb(17,17,17)",
           "radialaxis": {
            "gridcolor": "#506784",
            "linecolor": "#506784",
            "ticks": ""
           }
          },
          "scene": {
           "xaxis": {
            "backgroundcolor": "rgb(17,17,17)",
            "gridcolor": "#506784",
            "gridwidth": 2,
            "linecolor": "#506784",
            "showbackground": true,
            "ticks": "",
            "zerolinecolor": "#C8D4E3"
           },
           "yaxis": {
            "backgroundcolor": "rgb(17,17,17)",
            "gridcolor": "#506784",
            "gridwidth": 2,
            "linecolor": "#506784",
            "showbackground": true,
            "ticks": "",
            "zerolinecolor": "#C8D4E3"
           },
           "zaxis": {
            "backgroundcolor": "rgb(17,17,17)",
            "gridcolor": "#506784",
            "gridwidth": 2,
            "linecolor": "#506784",
            "showbackground": true,
            "ticks": "",
            "zerolinecolor": "#C8D4E3"
           }
          },
          "shapedefaults": {
           "line": {
            "color": "#f2f5fa"
           }
          },
          "sliderdefaults": {
           "bgcolor": "#C8D4E3",
           "bordercolor": "rgb(17,17,17)",
           "borderwidth": 1,
           "tickwidth": 0
          },
          "ternary": {
           "aaxis": {
            "gridcolor": "#506784",
            "linecolor": "#506784",
            "ticks": ""
           },
           "baxis": {
            "gridcolor": "#506784",
            "linecolor": "#506784",
            "ticks": ""
           },
           "bgcolor": "rgb(17,17,17)",
           "caxis": {
            "gridcolor": "#506784",
            "linecolor": "#506784",
            "ticks": ""
           }
          },
          "title": {
           "x": 0.05
          },
          "updatemenudefaults": {
           "bgcolor": "#506784",
           "borderwidth": 0
          },
          "xaxis": {
           "automargin": true,
           "gridcolor": "#283442",
           "linecolor": "#506784",
           "ticks": "",
           "title": {
            "standoff": 15
           },
           "zerolinecolor": "#283442",
           "zerolinewidth": 2
          },
          "yaxis": {
           "automargin": true,
           "gridcolor": "#283442",
           "linecolor": "#506784",
           "ticks": "",
           "title": {
            "standoff": 15
           },
           "zerolinecolor": "#283442",
           "zerolinewidth": 2
          }
         }
        },
        "title": {
         "text": "Comparing the Linear Model Results on Different Conditions"
        },
        "width": 1200,
        "xaxis": {
         "anchor": "y",
         "domain": [
          0,
          0.2125
         ]
        },
        "xaxis2": {
         "anchor": "y2",
         "domain": [
          0.2625,
          0.475
         ]
        },
        "xaxis3": {
         "anchor": "y3",
         "domain": [
          0.525,
          0.7375
         ]
        },
        "xaxis4": {
         "anchor": "y4",
         "domain": [
          0.7875,
          1
         ]
        },
        "yaxis": {
         "anchor": "x",
         "domain": [
          0,
          1
         ]
        },
        "yaxis2": {
         "anchor": "x2",
         "domain": [
          0,
          1
         ]
        },
        "yaxis3": {
         "anchor": "x3",
         "domain": [
          0,
          1
         ]
        },
        "yaxis4": {
         "anchor": "x4",
         "domain": [
          0,
          1
         ]
        }
       }
      }
     },
     "metadata": {},
     "output_type": "display_data"
    },
    {
     "data": {
      "application/vnd.plotly.v1+json": {
       "config": {
        "plotlyServerURL": "https://plot.ly"
       },
       "data": [
        {
         "alignmentgroup": "True",
         "boxpoints": "all",
         "fillcolor": "rgba(255,255,255,0)",
         "hoveron": "points",
         "hovertemplate": "sc=1<br>theta=%{x}<br>diff=%{y}<extra></extra>",
         "legendgroup": "1",
         "line": {
          "color": "rgba(255,255,255,0)"
         },
         "marker": {
          "color": "#636efa",
          "opacity": 0.5,
          "size": 5
         },
         "name": "1",
         "offsetgroup": "1",
         "orientation": "v",
         "pointpos": 0,
         "showlegend": true,
         "type": "box",
         "x": [
          "UNEMP",
          "LRIR",
          "UNEMP",
          "LRIR",
          "UNEMP",
          "LRIR",
          "UNEMP",
          "LRIR",
          "UNEMP",
          "LRIR",
          "UNEMP",
          "LRIR",
          "UNEMP",
          "LRIR",
          "UNEMP",
          "LRIR",
          "UNEMP",
          "LRIR",
          "UNEMP",
          "LRIR",
          "UNEMP",
          "LRIR",
          "UNEMP",
          "LRIR",
          "UNEMP",
          "LRIR",
          "UNEMP",
          "LRIR",
          "UNEMP",
          "LRIR",
          "UNEMP",
          "LRIR",
          "UNEMP",
          "LRIR",
          "UNEMP",
          "LRIR"
         ],
         "x0": " ",
         "xaxis": "x",
         "y": [
          3.794947291115812,
          0.37676026766727677,
          3.511127135140386,
          0.4470696214527443,
          3.0988666615626226,
          0.7002065440435885,
          2.822919479196276,
          1.2261983636591083,
          2.398727912768254,
          1.5062304067530539,
          2.0095354137807453,
          1.7659528621689278,
          4.855729979879366,
          1.5339572650416926,
          4.6452605708470855,
          1.1291517121704207,
          4.350243694925908,
          1.0315225379687512,
          3.98578198147907,
          1.2092293291739082,
          3.631190393368948,
          1.613910791249328,
          3.250265808584711,
          2.0229589986576553,
          5.255047066245584,
          2.075241769664986,
          5.130086267493122,
          1.692056418413741,
          4.887588115846162,
          1.444835262314725,
          4.528406664698603,
          1.4830164903881204,
          4.170686594203916,
          1.7865672315046606,
          3.779102251488654,
          2.179388260856509
         ],
         "y0": " ",
         "yaxis": "y"
        },
        {
         "alignmentgroup": "True",
         "boxpoints": "all",
         "fillcolor": "rgba(255,255,255,0)",
         "hoveron": "points",
         "hovertemplate": "sc=1<br>theta=%{x}<br>diff=%{y}<extra></extra>",
         "legendgroup": "1",
         "line": {
          "color": "rgba(255,255,255,0)"
         },
         "marker": {
          "color": "#636efa",
          "opacity": 0.5,
          "size": 5
         },
         "name": "1",
         "offsetgroup": "1",
         "orientation": "v",
         "pointpos": 0,
         "showlegend": false,
         "type": "box",
         "x": [
          "UNEMP",
          "LRIR",
          "UNEMP",
          "LRIR",
          "UNEMP",
          "LRIR",
          "UNEMP",
          "LRIR",
          "UNEMP",
          "LRIR",
          "UNEMP",
          "LRIR",
          "UNEMP",
          "LRIR",
          "UNEMP",
          "LRIR",
          "UNEMP",
          "LRIR",
          "UNEMP",
          "LRIR",
          "UNEMP",
          "LRIR",
          "UNEMP",
          "LRIR",
          "UNEMP",
          "LRIR",
          "UNEMP",
          "LRIR",
          "UNEMP",
          "LRIR",
          "UNEMP",
          "LRIR",
          "UNEMP",
          "LRIR",
          "UNEMP",
          "LRIR"
         ],
         "x0": " ",
         "xaxis": "x2",
         "y": [
          -0.29637508072795926,
          -0.024236349725988426,
          -0.2743654935018708,
          -0.029429865513418196,
          -0.23970845600989032,
          -0.047428823181163926,
          -0.21214993644383962,
          -0.08431399579191257,
          -0.17312349497959767,
          -0.10333194194898221,
          -0.13995326880349512,
          -0.12127178476014744,
          -0.35582614626199927,
          -0.0910777306849897,
          -0.35005623448058976,
          -0.06851006168586382,
          -0.3315853924855895,
          -0.06435644979293476,
          -0.3026136322000824,
          -0.07783145314906159,
          -0.2701796005688315,
          -0.10654941401841589,
          -0.23312149625614664,
          -0.13478246231331237,
          -0.3757090269117923,
          -0.11983385193377216,
          -0.3768256814059926,
          -0.09918895450582654,
          -0.366744498683925,
          -0.086987277116096,
          -0.34168500111945355,
          -0.09247244868234228,
          -0.3110284941431898,
          -0.11492613580427946,
          -0.2735981996546403,
          -0.14279120345469332
         ],
         "y0": " ",
         "yaxis": "y2"
        },
        {
         "alignmentgroup": "True",
         "boxpoints": "all",
         "fillcolor": "rgba(255,255,255,0)",
         "hoveron": "points",
         "hovertemplate": "sc=3<br>theta=%{x}<br>diff=%{y}<extra></extra>",
         "legendgroup": "3",
         "line": {
          "color": "rgba(255,255,255,0)"
         },
         "marker": {
          "color": "#EF553B",
          "opacity": 0.5,
          "size": 5
         },
         "name": "3",
         "offsetgroup": "3",
         "orientation": "v",
         "pointpos": 0,
         "showlegend": true,
         "type": "box",
         "x": [
          "UNEMP",
          "LRIR",
          "UNEMP",
          "LRIR",
          "UNEMP",
          "LRIR",
          "UNEMP",
          "LRIR",
          "UNEMP",
          "LRIR",
          "UNEMP",
          "LRIR",
          "UNEMP",
          "LRIR",
          "UNEMP",
          "LRIR",
          "UNEMP",
          "LRIR",
          "UNEMP",
          "LRIR",
          "UNEMP",
          "LRIR",
          "UNEMP",
          "LRIR",
          "UNEMP",
          "LRIR",
          "UNEMP",
          "LRIR",
          "UNEMP",
          "LRIR",
          "UNEMP",
          "LRIR",
          "UNEMP",
          "LRIR",
          "UNEMP",
          "LRIR"
         ],
         "x0": " ",
         "xaxis": "x",
         "y": [
          2.6920661840001348,
          0.01401252699915112,
          2.337853625498786,
          0.022673013734998193,
          1.9329386837754132,
          0.34222301547102596,
          1.7631750821843184,
          0.922035250521624,
          1.6700615668728531,
          1.3691845711166728,
          1.4419240618463842,
          1.5977431097636945,
          3.309724621765538,
          0.6912522673809498,
          3.0896882408542066,
          0.28931087583979576,
          2.7819659921694306,
          0.16982364763228297,
          2.3973757035223358,
          0.3570276907618659,
          2.080323556895877,
          0.8120241071132792,
          1.9166253508157922,
          1.3420426893947184,
          3.623642581138391,
          1.072546415223366,
          3.4557434739528494,
          0.6749354925771085,
          3.1993279280929148,
          0.41910885775305395,
          2.837962713790665,
          0.46379300650894173,
          2.490274347165327,
          0.788257216644892,
          2.239644398690798,
          1.2732751678687624
         ],
         "y0": " ",
         "yaxis": "y"
        },
        {
         "alignmentgroup": "True",
         "boxpoints": "all",
         "fillcolor": "rgba(255,255,255,0)",
         "hoveron": "points",
         "hovertemplate": "sc=3<br>theta=%{x}<br>diff=%{y}<extra></extra>",
         "legendgroup": "3",
         "line": {
          "color": "rgba(255,255,255,0)"
         },
         "marker": {
          "color": "#EF553B",
          "opacity": 0.5,
          "size": 5
         },
         "name": "3",
         "offsetgroup": "3",
         "orientation": "v",
         "pointpos": 0,
         "showlegend": false,
         "type": "box",
         "x": [
          "UNEMP",
          "LRIR",
          "UNEMP",
          "LRIR",
          "UNEMP",
          "LRIR",
          "UNEMP",
          "LRIR",
          "UNEMP",
          "LRIR",
          "UNEMP",
          "LRIR",
          "UNEMP",
          "LRIR",
          "UNEMP",
          "LRIR",
          "UNEMP",
          "LRIR",
          "UNEMP",
          "LRIR",
          "UNEMP",
          "LRIR",
          "UNEMP",
          "LRIR",
          "UNEMP",
          "LRIR",
          "UNEMP",
          "LRIR",
          "UNEMP",
          "LRIR",
          "UNEMP",
          "LRIR",
          "UNEMP",
          "LRIR",
          "UNEMP",
          "LRIR"
         ],
         "x0": " ",
         "xaxis": "x2",
         "y": [
          -0.23664101090862089,
          -0.0010805831479170358,
          -0.2074170008757017,
          -0.0018006283542059132,
          -0.16984560175850583,
          -0.027887986632613937,
          -0.15129788348736117,
          -0.07601493946726134,
          -0.13794246523863696,
          -0.11144301364163778,
          -0.11558847257087479,
          -0.12907324225936379,
          -0.27565418472698855,
          -0.049994782767055934,
          -0.26551682055181036,
          -0.02147891652742362,
          -0.24336173648913895,
          -0.013006941204098732,
          -0.20984715180674496,
          -0.02821878044994164,
          -0.17917218559312964,
          -0.06565600248524461,
          -0.15986862907626376,
          -0.10873911109642964,
          -0.2945629129606038,
          -0.07535445249342754,
          -0.2895038719887124,
          -0.0484446026562686,
          -0.275073480623787,
          -0.031015010184922698,
          -0.24653448124563282,
          -0.035553450890428606,
          -0.21500450844086338,
          -0.06228996506438189,
          -0.18856362440311758,
          -0.10191063986280291
         ],
         "y0": " ",
         "yaxis": "y2"
        },
        {
         "alignmentgroup": "True",
         "boxpoints": "all",
         "fillcolor": "rgba(255,255,255,0)",
         "hoveron": "points",
         "hovertemplate": "sc=6<br>theta=%{x}<br>diff=%{y}<extra></extra>",
         "legendgroup": "6",
         "line": {
          "color": "rgba(255,255,255,0)"
         },
         "marker": {
          "color": "#00cc96",
          "opacity": 0.5,
          "size": 5
         },
         "name": "6",
         "offsetgroup": "6",
         "orientation": "v",
         "pointpos": 0,
         "showlegend": true,
         "type": "box",
         "x": [
          "UNEMP",
          "LRIR",
          "UNEMP",
          "LRIR",
          "UNEMP",
          "LRIR",
          "UNEMP",
          "LRIR",
          "UNEMP",
          "LRIR",
          "UNEMP",
          "LRIR",
          "UNEMP",
          "LRIR",
          "UNEMP",
          "LRIR",
          "UNEMP",
          "LRIR",
          "UNEMP",
          "LRIR",
          "UNEMP",
          "LRIR",
          "UNEMP",
          "LRIR",
          "UNEMP",
          "LRIR",
          "UNEMP",
          "LRIR",
          "UNEMP",
          "LRIR",
          "UNEMP",
          "LRIR",
          "UNEMP",
          "LRIR",
          "UNEMP",
          "LRIR"
         ],
         "x0": " ",
         "xaxis": "x",
         "y": [
          1.7475290788040496,
          -0.14170601828910456,
          1.4471497350182272,
          -0.10878572158782696,
          1.1056182394419771,
          0.1928275218142499,
          0.9538207196228026,
          0.7631873837661853,
          0.9079378628289891,
          1.239853222002047,
          0.8159535340683188,
          1.5410377650566982,
          2.152037996236098,
          0.3715356643321073,
          1.9899040458316595,
          0.0033179888135048685,
          1.7195626240858495,
          -0.07975787621879782,
          1.3944395798827358,
          0.10143619849158547,
          1.1248747822059215,
          0.5513922488717853,
          1.0220928880153828,
          1.098429629981796,
          2.337415305200924,
          0.6033873050342233,
          2.2030418764264237,
          0.2492060391409865,
          1.9846575887391236,
          0.021273617688098767,
          1.6760780989368378,
          0.08074134881098338,
          1.3911080460490446,
          0.4157793533702332,
          1.1895728639384853,
          0.9082087903950047
         ],
         "y0": " ",
         "yaxis": "y"
        },
        {
         "alignmentgroup": "True",
         "boxpoints": "all",
         "fillcolor": "rgba(255,255,255,0)",
         "hoveron": "points",
         "hovertemplate": "sc=6<br>theta=%{x}<br>diff=%{y}<extra></extra>",
         "legendgroup": "6",
         "line": {
          "color": "rgba(255,255,255,0)"
         },
         "marker": {
          "color": "#00cc96",
          "opacity": 0.5,
          "size": 5
         },
         "name": "6",
         "offsetgroup": "6",
         "orientation": "v",
         "pointpos": 0,
         "showlegend": false,
         "type": "box",
         "x": [
          "UNEMP",
          "LRIR",
          "UNEMP",
          "LRIR",
          "UNEMP",
          "LRIR",
          "UNEMP",
          "LRIR",
          "UNEMP",
          "LRIR",
          "UNEMP",
          "LRIR",
          "UNEMP",
          "LRIR",
          "UNEMP",
          "LRIR",
          "UNEMP",
          "LRIR",
          "UNEMP",
          "LRIR",
          "UNEMP",
          "LRIR",
          "UNEMP",
          "LRIR",
          "UNEMP",
          "LRIR",
          "UNEMP",
          "LRIR",
          "UNEMP",
          "LRIR",
          "UNEMP",
          "LRIR",
          "UNEMP",
          "LRIR",
          "UNEMP",
          "LRIR"
         ],
         "x0": " ",
         "xaxis": "x2",
         "y": [
          -0.17105541330082008,
          0.012792373489331488,
          -0.14373606826356267,
          0.010124776300586391,
          -0.10978010442048347,
          -0.018440647783871666,
          -0.09294074629948834,
          -0.07378290434838075,
          -0.08555850021309597,
          -0.11848229447880465,
          -0.07466416324223057,
          -0.14547413594136926,
          -0.20104895685278767,
          -0.031940632026477234,
          -0.19216574237655937,
          -0.0002928923950157314,
          -0.16982189954616866,
          0.0072786379645520816,
          -0.13891395169010312,
          -0.009559058368293627,
          -0.11104897247921397,
          -0.05311959334845873,
          -0.09814781054121668,
          -0.10582640675995092,
          -0.21519618530482598,
          -0.051026927659617805,
          -0.209020641582504,
          -0.021543410520320827,
          -0.19396401495899118,
          -0.0018991838060044008,
          -0.16657577533869983,
          -0.007470359019559392,
          -0.13833637596915316,
          -0.0396035338021089,
          -0.11613117976711451,
          -0.08756441356964151
         ],
         "y0": " ",
         "yaxis": "y2"
        }
       ],
       "layout": {
        "annotations": [
         {
          "font": {
           "color": "grey",
           "size": 11
          },
          "showarrow": false,
          "text": "RMSE",
          "x": 0.225,
          "xanchor": "center",
          "xref": "paper",
          "y": 0.95,
          "yanchor": "bottom",
          "yref": "paper"
         },
         {
          "font": {
           "color": "grey",
           "size": 11
          },
          "showarrow": false,
          "text": "Adj-R2",
          "x": 0.775,
          "xanchor": "center",
          "xref": "paper",
          "y": 0.95,
          "yanchor": "bottom",
          "yref": "paper"
         }
        ],
        "height": 400,
        "legend": {
         "orientation": "h",
         "title": {
          "text": "Scopes:"
         },
         "x": 0.5,
         "xanchor": "center",
         "y": -0.25,
         "yanchor": "top"
        },
        "margin": {
         "b": 60,
         "l": 80,
         "r": 40,
         "t": 80
        },
        "template": {
         "data": {
          "bar": [
           {
            "error_x": {
             "color": "#f2f5fa"
            },
            "error_y": {
             "color": "#f2f5fa"
            },
            "marker": {
             "line": {
              "color": "rgb(17,17,17)",
              "width": 0.5
             },
             "pattern": {
              "fillmode": "overlay",
              "size": 10,
              "solidity": 0.2
             }
            },
            "type": "bar"
           }
          ],
          "barpolar": [
           {
            "marker": {
             "line": {
              "color": "rgb(17,17,17)",
              "width": 0.5
             },
             "pattern": {
              "fillmode": "overlay",
              "size": 10,
              "solidity": 0.2
             }
            },
            "type": "barpolar"
           }
          ],
          "carpet": [
           {
            "aaxis": {
             "endlinecolor": "#A2B1C6",
             "gridcolor": "#506784",
             "linecolor": "#506784",
             "minorgridcolor": "#506784",
             "startlinecolor": "#A2B1C6"
            },
            "baxis": {
             "endlinecolor": "#A2B1C6",
             "gridcolor": "#506784",
             "linecolor": "#506784",
             "minorgridcolor": "#506784",
             "startlinecolor": "#A2B1C6"
            },
            "type": "carpet"
           }
          ],
          "choropleth": [
           {
            "colorbar": {
             "outlinewidth": 0,
             "ticks": ""
            },
            "type": "choropleth"
           }
          ],
          "contour": [
           {
            "colorbar": {
             "outlinewidth": 0,
             "ticks": ""
            },
            "colorscale": [
             [
              0,
              "#0d0887"
             ],
             [
              0.1111111111111111,
              "#46039f"
             ],
             [
              0.2222222222222222,
              "#7201a8"
             ],
             [
              0.3333333333333333,
              "#9c179e"
             ],
             [
              0.4444444444444444,
              "#bd3786"
             ],
             [
              0.5555555555555556,
              "#d8576b"
             ],
             [
              0.6666666666666666,
              "#ed7953"
             ],
             [
              0.7777777777777778,
              "#fb9f3a"
             ],
             [
              0.8888888888888888,
              "#fdca26"
             ],
             [
              1,
              "#f0f921"
             ]
            ],
            "type": "contour"
           }
          ],
          "contourcarpet": [
           {
            "colorbar": {
             "outlinewidth": 0,
             "ticks": ""
            },
            "type": "contourcarpet"
           }
          ],
          "heatmap": [
           {
            "colorbar": {
             "outlinewidth": 0,
             "ticks": ""
            },
            "colorscale": [
             [
              0,
              "#0d0887"
             ],
             [
              0.1111111111111111,
              "#46039f"
             ],
             [
              0.2222222222222222,
              "#7201a8"
             ],
             [
              0.3333333333333333,
              "#9c179e"
             ],
             [
              0.4444444444444444,
              "#bd3786"
             ],
             [
              0.5555555555555556,
              "#d8576b"
             ],
             [
              0.6666666666666666,
              "#ed7953"
             ],
             [
              0.7777777777777778,
              "#fb9f3a"
             ],
             [
              0.8888888888888888,
              "#fdca26"
             ],
             [
              1,
              "#f0f921"
             ]
            ],
            "type": "heatmap"
           }
          ],
          "heatmapgl": [
           {
            "colorbar": {
             "outlinewidth": 0,
             "ticks": ""
            },
            "colorscale": [
             [
              0,
              "#0d0887"
             ],
             [
              0.1111111111111111,
              "#46039f"
             ],
             [
              0.2222222222222222,
              "#7201a8"
             ],
             [
              0.3333333333333333,
              "#9c179e"
             ],
             [
              0.4444444444444444,
              "#bd3786"
             ],
             [
              0.5555555555555556,
              "#d8576b"
             ],
             [
              0.6666666666666666,
              "#ed7953"
             ],
             [
              0.7777777777777778,
              "#fb9f3a"
             ],
             [
              0.8888888888888888,
              "#fdca26"
             ],
             [
              1,
              "#f0f921"
             ]
            ],
            "type": "heatmapgl"
           }
          ],
          "histogram": [
           {
            "marker": {
             "pattern": {
              "fillmode": "overlay",
              "size": 10,
              "solidity": 0.2
             }
            },
            "type": "histogram"
           }
          ],
          "histogram2d": [
           {
            "colorbar": {
             "outlinewidth": 0,
             "ticks": ""
            },
            "colorscale": [
             [
              0,
              "#0d0887"
             ],
             [
              0.1111111111111111,
              "#46039f"
             ],
             [
              0.2222222222222222,
              "#7201a8"
             ],
             [
              0.3333333333333333,
              "#9c179e"
             ],
             [
              0.4444444444444444,
              "#bd3786"
             ],
             [
              0.5555555555555556,
              "#d8576b"
             ],
             [
              0.6666666666666666,
              "#ed7953"
             ],
             [
              0.7777777777777778,
              "#fb9f3a"
             ],
             [
              0.8888888888888888,
              "#fdca26"
             ],
             [
              1,
              "#f0f921"
             ]
            ],
            "type": "histogram2d"
           }
          ],
          "histogram2dcontour": [
           {
            "colorbar": {
             "outlinewidth": 0,
             "ticks": ""
            },
            "colorscale": [
             [
              0,
              "#0d0887"
             ],
             [
              0.1111111111111111,
              "#46039f"
             ],
             [
              0.2222222222222222,
              "#7201a8"
             ],
             [
              0.3333333333333333,
              "#9c179e"
             ],
             [
              0.4444444444444444,
              "#bd3786"
             ],
             [
              0.5555555555555556,
              "#d8576b"
             ],
             [
              0.6666666666666666,
              "#ed7953"
             ],
             [
              0.7777777777777778,
              "#fb9f3a"
             ],
             [
              0.8888888888888888,
              "#fdca26"
             ],
             [
              1,
              "#f0f921"
             ]
            ],
            "type": "histogram2dcontour"
           }
          ],
          "mesh3d": [
           {
            "colorbar": {
             "outlinewidth": 0,
             "ticks": ""
            },
            "type": "mesh3d"
           }
          ],
          "parcoords": [
           {
            "line": {
             "colorbar": {
              "outlinewidth": 0,
              "ticks": ""
             }
            },
            "type": "parcoords"
           }
          ],
          "pie": [
           {
            "automargin": true,
            "type": "pie"
           }
          ],
          "scatter": [
           {
            "marker": {
             "line": {
              "color": "#283442"
             }
            },
            "type": "scatter"
           }
          ],
          "scatter3d": [
           {
            "line": {
             "colorbar": {
              "outlinewidth": 0,
              "ticks": ""
             }
            },
            "marker": {
             "colorbar": {
              "outlinewidth": 0,
              "ticks": ""
             }
            },
            "type": "scatter3d"
           }
          ],
          "scattercarpet": [
           {
            "marker": {
             "colorbar": {
              "outlinewidth": 0,
              "ticks": ""
             }
            },
            "type": "scattercarpet"
           }
          ],
          "scattergeo": [
           {
            "marker": {
             "colorbar": {
              "outlinewidth": 0,
              "ticks": ""
             }
            },
            "type": "scattergeo"
           }
          ],
          "scattergl": [
           {
            "marker": {
             "line": {
              "color": "#283442"
             }
            },
            "type": "scattergl"
           }
          ],
          "scattermapbox": [
           {
            "marker": {
             "colorbar": {
              "outlinewidth": 0,
              "ticks": ""
             }
            },
            "type": "scattermapbox"
           }
          ],
          "scatterpolar": [
           {
            "marker": {
             "colorbar": {
              "outlinewidth": 0,
              "ticks": ""
             }
            },
            "type": "scatterpolar"
           }
          ],
          "scatterpolargl": [
           {
            "marker": {
             "colorbar": {
              "outlinewidth": 0,
              "ticks": ""
             }
            },
            "type": "scatterpolargl"
           }
          ],
          "scatterternary": [
           {
            "marker": {
             "colorbar": {
              "outlinewidth": 0,
              "ticks": ""
             }
            },
            "type": "scatterternary"
           }
          ],
          "surface": [
           {
            "colorbar": {
             "outlinewidth": 0,
             "ticks": ""
            },
            "colorscale": [
             [
              0,
              "#0d0887"
             ],
             [
              0.1111111111111111,
              "#46039f"
             ],
             [
              0.2222222222222222,
              "#7201a8"
             ],
             [
              0.3333333333333333,
              "#9c179e"
             ],
             [
              0.4444444444444444,
              "#bd3786"
             ],
             [
              0.5555555555555556,
              "#d8576b"
             ],
             [
              0.6666666666666666,
              "#ed7953"
             ],
             [
              0.7777777777777778,
              "#fb9f3a"
             ],
             [
              0.8888888888888888,
              "#fdca26"
             ],
             [
              1,
              "#f0f921"
             ]
            ],
            "type": "surface"
           }
          ],
          "table": [
           {
            "cells": {
             "fill": {
              "color": "#506784"
             },
             "line": {
              "color": "rgb(17,17,17)"
             }
            },
            "header": {
             "fill": {
              "color": "#2a3f5f"
             },
             "line": {
              "color": "rgb(17,17,17)"
             }
            },
            "type": "table"
           }
          ]
         },
         "layout": {
          "annotationdefaults": {
           "arrowcolor": "#f2f5fa",
           "arrowhead": 0,
           "arrowwidth": 1
          },
          "autotypenumbers": "strict",
          "coloraxis": {
           "colorbar": {
            "outlinewidth": 0,
            "ticks": ""
           }
          },
          "colorscale": {
           "diverging": [
            [
             0,
             "#8e0152"
            ],
            [
             0.1,
             "#c51b7d"
            ],
            [
             0.2,
             "#de77ae"
            ],
            [
             0.3,
             "#f1b6da"
            ],
            [
             0.4,
             "#fde0ef"
            ],
            [
             0.5,
             "#f7f7f7"
            ],
            [
             0.6,
             "#e6f5d0"
            ],
            [
             0.7,
             "#b8e186"
            ],
            [
             0.8,
             "#7fbc41"
            ],
            [
             0.9,
             "#4d9221"
            ],
            [
             1,
             "#276419"
            ]
           ],
           "sequential": [
            [
             0,
             "#0d0887"
            ],
            [
             0.1111111111111111,
             "#46039f"
            ],
            [
             0.2222222222222222,
             "#7201a8"
            ],
            [
             0.3333333333333333,
             "#9c179e"
            ],
            [
             0.4444444444444444,
             "#bd3786"
            ],
            [
             0.5555555555555556,
             "#d8576b"
            ],
            [
             0.6666666666666666,
             "#ed7953"
            ],
            [
             0.7777777777777778,
             "#fb9f3a"
            ],
            [
             0.8888888888888888,
             "#fdca26"
            ],
            [
             1,
             "#f0f921"
            ]
           ],
           "sequentialminus": [
            [
             0,
             "#0d0887"
            ],
            [
             0.1111111111111111,
             "#46039f"
            ],
            [
             0.2222222222222222,
             "#7201a8"
            ],
            [
             0.3333333333333333,
             "#9c179e"
            ],
            [
             0.4444444444444444,
             "#bd3786"
            ],
            [
             0.5555555555555556,
             "#d8576b"
            ],
            [
             0.6666666666666666,
             "#ed7953"
            ],
            [
             0.7777777777777778,
             "#fb9f3a"
            ],
            [
             0.8888888888888888,
             "#fdca26"
            ],
            [
             1,
             "#f0f921"
            ]
           ]
          },
          "colorway": [
           "#636efa",
           "#EF553B",
           "#00cc96",
           "#ab63fa",
           "#FFA15A",
           "#19d3f3",
           "#FF6692",
           "#B6E880",
           "#FF97FF",
           "#FECB52"
          ],
          "font": {
           "color": "#f2f5fa"
          },
          "geo": {
           "bgcolor": "rgb(17,17,17)",
           "lakecolor": "rgb(17,17,17)",
           "landcolor": "rgb(17,17,17)",
           "showlakes": true,
           "showland": true,
           "subunitcolor": "#506784"
          },
          "hoverlabel": {
           "align": "left"
          },
          "hovermode": "closest",
          "mapbox": {
           "style": "dark"
          },
          "paper_bgcolor": "rgb(17,17,17)",
          "plot_bgcolor": "rgb(17,17,17)",
          "polar": {
           "angularaxis": {
            "gridcolor": "#506784",
            "linecolor": "#506784",
            "ticks": ""
           },
           "bgcolor": "rgb(17,17,17)",
           "radialaxis": {
            "gridcolor": "#506784",
            "linecolor": "#506784",
            "ticks": ""
           }
          },
          "scene": {
           "xaxis": {
            "backgroundcolor": "rgb(17,17,17)",
            "gridcolor": "#506784",
            "gridwidth": 2,
            "linecolor": "#506784",
            "showbackground": true,
            "ticks": "",
            "zerolinecolor": "#C8D4E3"
           },
           "yaxis": {
            "backgroundcolor": "rgb(17,17,17)",
            "gridcolor": "#506784",
            "gridwidth": 2,
            "linecolor": "#506784",
            "showbackground": true,
            "ticks": "",
            "zerolinecolor": "#C8D4E3"
           },
           "zaxis": {
            "backgroundcolor": "rgb(17,17,17)",
            "gridcolor": "#506784",
            "gridwidth": 2,
            "linecolor": "#506784",
            "showbackground": true,
            "ticks": "",
            "zerolinecolor": "#C8D4E3"
           }
          },
          "shapedefaults": {
           "line": {
            "color": "#f2f5fa"
           }
          },
          "sliderdefaults": {
           "bgcolor": "#C8D4E3",
           "bordercolor": "rgb(17,17,17)",
           "borderwidth": 1,
           "tickwidth": 0
          },
          "ternary": {
           "aaxis": {
            "gridcolor": "#506784",
            "linecolor": "#506784",
            "ticks": ""
           },
           "baxis": {
            "gridcolor": "#506784",
            "linecolor": "#506784",
            "ticks": ""
           },
           "bgcolor": "rgb(17,17,17)",
           "caxis": {
            "gridcolor": "#506784",
            "linecolor": "#506784",
            "ticks": ""
           }
          },
          "title": {
           "x": 0.05
          },
          "updatemenudefaults": {
           "bgcolor": "#506784",
           "borderwidth": 0
          },
          "xaxis": {
           "automargin": true,
           "gridcolor": "#283442",
           "linecolor": "#506784",
           "ticks": "",
           "title": {
            "standoff": 15
           },
           "zerolinecolor": "#283442",
           "zerolinewidth": 2
          },
          "yaxis": {
           "automargin": true,
           "gridcolor": "#283442",
           "linecolor": "#506784",
           "ticks": "",
           "title": {
            "standoff": 15
           },
           "zerolinecolor": "#283442",
           "zerolinewidth": 2
          }
         }
        },
        "title": {
         "text": "Observe Backward Elimination in All Models With Repect to Scopes<br><span style=\"font-size: 12.5px; color: lightgrey;\"> -- How meansures are changed by removing the impact of each coefficient</span>"
        },
        "width": 800,
        "xaxis": {
         "anchor": "y",
         "domain": [
          0,
          0.45
         ]
        },
        "xaxis2": {
         "anchor": "y2",
         "domain": [
          0.55,
          1
         ]
        },
        "yaxis": {
         "anchor": "x",
         "domain": [
          0,
          1
         ],
         "title": {
          "text": "Difference"
         }
        },
        "yaxis2": {
         "anchor": "x2",
         "domain": [
          0,
          1
         ]
        }
       }
      }
     },
     "metadata": {},
     "output_type": "display_data"
    },
    {
     "data": {
      "application/vnd.plotly.v1+json": {
       "config": {
        "plotlyServerURL": "https://plot.ly"
       },
       "data": [
        {
         "alignmentgroup": "True",
         "boxpoints": "all",
         "fillcolor": "rgba(255,255,255,0)",
         "hoveron": "points",
         "hovertemplate": "ma=1<br>theta=%{x}<br>diff=%{y}<extra></extra>",
         "legendgroup": "1",
         "line": {
          "color": "rgba(255,255,255,0)"
         },
         "marker": {
          "color": "#636efa",
          "opacity": 0.5,
          "size": 5
         },
         "name": "1",
         "offsetgroup": "1",
         "orientation": "v",
         "pointpos": 0,
         "showlegend": true,
         "type": "box",
         "x": [
          "UNEMP",
          "LRIR",
          "UNEMP",
          "LRIR",
          "UNEMP",
          "LRIR",
          "UNEMP",
          "LRIR",
          "UNEMP",
          "LRIR",
          "UNEMP",
          "LRIR",
          "UNEMP",
          "LRIR",
          "UNEMP",
          "LRIR",
          "UNEMP",
          "LRIR",
          "UNEMP",
          "LRIR",
          "UNEMP",
          "LRIR",
          "UNEMP",
          "LRIR",
          "UNEMP",
          "LRIR",
          "UNEMP",
          "LRIR",
          "UNEMP",
          "LRIR",
          "UNEMP",
          "LRIR",
          "UNEMP",
          "LRIR",
          "UNEMP",
          "LRIR"
         ],
         "x0": " ",
         "xaxis": "x",
         "y": [
          3.794947291115812,
          0.37676026766727677,
          3.511127135140386,
          0.4470696214527443,
          3.0988666615626226,
          0.7002065440435885,
          2.822919479196276,
          1.2261983636591083,
          2.398727912768254,
          1.5062304067530539,
          2.0095354137807453,
          1.7659528621689278,
          2.6920661840001348,
          0.01401252699915112,
          2.337853625498786,
          0.022673013734998193,
          1.9329386837754132,
          0.34222301547102596,
          1.7631750821843184,
          0.922035250521624,
          1.6700615668728531,
          1.3691845711166728,
          1.4419240618463842,
          1.5977431097636945,
          1.7475290788040496,
          -0.14170601828910456,
          1.4471497350182272,
          -0.10878572158782696,
          1.1056182394419771,
          0.1928275218142499,
          0.9538207196228026,
          0.7631873837661853,
          0.9079378628289891,
          1.239853222002047,
          0.8159535340683188,
          1.5410377650566982
         ],
         "y0": " ",
         "yaxis": "y"
        },
        {
         "alignmentgroup": "True",
         "boxpoints": "all",
         "fillcolor": "rgba(255,255,255,0)",
         "hoveron": "points",
         "hovertemplate": "ma=1<br>theta=%{x}<br>diff=%{y}<extra></extra>",
         "legendgroup": "1",
         "line": {
          "color": "rgba(255,255,255,0)"
         },
         "marker": {
          "color": "#636efa",
          "opacity": 0.5,
          "size": 5
         },
         "name": "1",
         "offsetgroup": "1",
         "orientation": "v",
         "pointpos": 0,
         "showlegend": false,
         "type": "box",
         "x": [
          "UNEMP",
          "LRIR",
          "UNEMP",
          "LRIR",
          "UNEMP",
          "LRIR",
          "UNEMP",
          "LRIR",
          "UNEMP",
          "LRIR",
          "UNEMP",
          "LRIR",
          "UNEMP",
          "LRIR",
          "UNEMP",
          "LRIR",
          "UNEMP",
          "LRIR",
          "UNEMP",
          "LRIR",
          "UNEMP",
          "LRIR",
          "UNEMP",
          "LRIR",
          "UNEMP",
          "LRIR",
          "UNEMP",
          "LRIR",
          "UNEMP",
          "LRIR",
          "UNEMP",
          "LRIR",
          "UNEMP",
          "LRIR",
          "UNEMP",
          "LRIR"
         ],
         "x0": " ",
         "xaxis": "x2",
         "y": [
          -0.29637508072795926,
          -0.024236349725988426,
          -0.2743654935018708,
          -0.029429865513418196,
          -0.23970845600989032,
          -0.047428823181163926,
          -0.21214993644383962,
          -0.08431399579191257,
          -0.17312349497959767,
          -0.10333194194898221,
          -0.13995326880349512,
          -0.12127178476014744,
          -0.23664101090862089,
          -0.0010805831479170358,
          -0.2074170008757017,
          -0.0018006283542059132,
          -0.16984560175850583,
          -0.027887986632613937,
          -0.15129788348736117,
          -0.07601493946726134,
          -0.13794246523863696,
          -0.11144301364163778,
          -0.11558847257087479,
          -0.12907324225936379,
          -0.17105541330082008,
          0.012792373489331488,
          -0.14373606826356267,
          0.010124776300586391,
          -0.10978010442048347,
          -0.018440647783871666,
          -0.09294074629948834,
          -0.07378290434838075,
          -0.08555850021309597,
          -0.11848229447880465,
          -0.07466416324223057,
          -0.14547413594136926
         ],
         "y0": " ",
         "yaxis": "y2"
        },
        {
         "alignmentgroup": "True",
         "boxpoints": "all",
         "fillcolor": "rgba(255,255,255,0)",
         "hoveron": "points",
         "hovertemplate": "ma=2<br>theta=%{x}<br>diff=%{y}<extra></extra>",
         "legendgroup": "2",
         "line": {
          "color": "rgba(255,255,255,0)"
         },
         "marker": {
          "color": "#EF553B",
          "opacity": 0.5,
          "size": 5
         },
         "name": "2",
         "offsetgroup": "2",
         "orientation": "v",
         "pointpos": 0,
         "showlegend": true,
         "type": "box",
         "x": [
          "UNEMP",
          "LRIR",
          "UNEMP",
          "LRIR",
          "UNEMP",
          "LRIR",
          "UNEMP",
          "LRIR",
          "UNEMP",
          "LRIR",
          "UNEMP",
          "LRIR",
          "UNEMP",
          "LRIR",
          "UNEMP",
          "LRIR",
          "UNEMP",
          "LRIR",
          "UNEMP",
          "LRIR",
          "UNEMP",
          "LRIR",
          "UNEMP",
          "LRIR",
          "UNEMP",
          "LRIR",
          "UNEMP",
          "LRIR",
          "UNEMP",
          "LRIR",
          "UNEMP",
          "LRIR",
          "UNEMP",
          "LRIR",
          "UNEMP",
          "LRIR"
         ],
         "x0": " ",
         "xaxis": "x",
         "y": [
          4.855729979879366,
          1.5339572650416926,
          4.6452605708470855,
          1.1291517121704207,
          4.350243694925908,
          1.0315225379687512,
          3.98578198147907,
          1.2092293291739082,
          3.631190393368948,
          1.613910791249328,
          3.250265808584711,
          2.0229589986576553,
          3.309724621765538,
          0.6912522673809498,
          3.0896882408542066,
          0.28931087583979576,
          2.7819659921694306,
          0.16982364763228297,
          2.3973757035223358,
          0.3570276907618659,
          2.080323556895877,
          0.8120241071132792,
          1.9166253508157922,
          1.3420426893947184,
          2.152037996236098,
          0.3715356643321073,
          1.9899040458316595,
          0.0033179888135048685,
          1.7195626240858495,
          -0.07975787621879782,
          1.3944395798827358,
          0.10143619849158547,
          1.1248747822059215,
          0.5513922488717853,
          1.0220928880153828,
          1.098429629981796
         ],
         "y0": " ",
         "yaxis": "y"
        },
        {
         "alignmentgroup": "True",
         "boxpoints": "all",
         "fillcolor": "rgba(255,255,255,0)",
         "hoveron": "points",
         "hovertemplate": "ma=2<br>theta=%{x}<br>diff=%{y}<extra></extra>",
         "legendgroup": "2",
         "line": {
          "color": "rgba(255,255,255,0)"
         },
         "marker": {
          "color": "#EF553B",
          "opacity": 0.5,
          "size": 5
         },
         "name": "2",
         "offsetgroup": "2",
         "orientation": "v",
         "pointpos": 0,
         "showlegend": false,
         "type": "box",
         "x": [
          "UNEMP",
          "LRIR",
          "UNEMP",
          "LRIR",
          "UNEMP",
          "LRIR",
          "UNEMP",
          "LRIR",
          "UNEMP",
          "LRIR",
          "UNEMP",
          "LRIR",
          "UNEMP",
          "LRIR",
          "UNEMP",
          "LRIR",
          "UNEMP",
          "LRIR",
          "UNEMP",
          "LRIR",
          "UNEMP",
          "LRIR",
          "UNEMP",
          "LRIR",
          "UNEMP",
          "LRIR",
          "UNEMP",
          "LRIR",
          "UNEMP",
          "LRIR",
          "UNEMP",
          "LRIR",
          "UNEMP",
          "LRIR",
          "UNEMP",
          "LRIR"
         ],
         "x0": " ",
         "xaxis": "x2",
         "y": [
          -0.35582614626199927,
          -0.0910777306849897,
          -0.35005623448058976,
          -0.06851006168586382,
          -0.3315853924855895,
          -0.06435644979293476,
          -0.3026136322000824,
          -0.07783145314906159,
          -0.2701796005688315,
          -0.10654941401841589,
          -0.23312149625614664,
          -0.13478246231331237,
          -0.27565418472698855,
          -0.049994782767055934,
          -0.26551682055181036,
          -0.02147891652742362,
          -0.24336173648913895,
          -0.013006941204098732,
          -0.20984715180674496,
          -0.02821878044994164,
          -0.17917218559312964,
          -0.06565600248524461,
          -0.15986862907626376,
          -0.10873911109642964,
          -0.20104895685278767,
          -0.031940632026477234,
          -0.19216574237655937,
          -0.0002928923950157314,
          -0.16982189954616866,
          0.0072786379645520816,
          -0.13891395169010312,
          -0.009559058368293627,
          -0.11104897247921397,
          -0.05311959334845873,
          -0.09814781054121668,
          -0.10582640675995092
         ],
         "y0": " ",
         "yaxis": "y2"
        },
        {
         "alignmentgroup": "True",
         "boxpoints": "all",
         "fillcolor": "rgba(255,255,255,0)",
         "hoveron": "points",
         "hovertemplate": "ma=3<br>theta=%{x}<br>diff=%{y}<extra></extra>",
         "legendgroup": "3",
         "line": {
          "color": "rgba(255,255,255,0)"
         },
         "marker": {
          "color": "#00cc96",
          "opacity": 0.5,
          "size": 5
         },
         "name": "3",
         "offsetgroup": "3",
         "orientation": "v",
         "pointpos": 0,
         "showlegend": true,
         "type": "box",
         "x": [
          "UNEMP",
          "LRIR",
          "UNEMP",
          "LRIR",
          "UNEMP",
          "LRIR",
          "UNEMP",
          "LRIR",
          "UNEMP",
          "LRIR",
          "UNEMP",
          "LRIR",
          "UNEMP",
          "LRIR",
          "UNEMP",
          "LRIR",
          "UNEMP",
          "LRIR",
          "UNEMP",
          "LRIR",
          "UNEMP",
          "LRIR",
          "UNEMP",
          "LRIR",
          "UNEMP",
          "LRIR",
          "UNEMP",
          "LRIR",
          "UNEMP",
          "LRIR",
          "UNEMP",
          "LRIR",
          "UNEMP",
          "LRIR",
          "UNEMP",
          "LRIR"
         ],
         "x0": " ",
         "xaxis": "x",
         "y": [
          5.255047066245584,
          2.075241769664986,
          5.130086267493122,
          1.692056418413741,
          4.887588115846162,
          1.444835262314725,
          4.528406664698603,
          1.4830164903881204,
          4.170686594203916,
          1.7865672315046606,
          3.779102251488654,
          2.179388260856509,
          3.623642581138391,
          1.072546415223366,
          3.4557434739528494,
          0.6749354925771085,
          3.1993279280929148,
          0.41910885775305395,
          2.837962713790665,
          0.46379300650894173,
          2.490274347165327,
          0.788257216644892,
          2.239644398690798,
          1.2732751678687624,
          2.337415305200924,
          0.6033873050342233,
          2.2030418764264237,
          0.2492060391409865,
          1.9846575887391236,
          0.021273617688098767,
          1.6760780989368378,
          0.08074134881098338,
          1.3911080460490446,
          0.4157793533702332,
          1.1895728639384853,
          0.9082087903950047
         ],
         "y0": " ",
         "yaxis": "y"
        },
        {
         "alignmentgroup": "True",
         "boxpoints": "all",
         "fillcolor": "rgba(255,255,255,0)",
         "hoveron": "points",
         "hovertemplate": "ma=3<br>theta=%{x}<br>diff=%{y}<extra></extra>",
         "legendgroup": "3",
         "line": {
          "color": "rgba(255,255,255,0)"
         },
         "marker": {
          "color": "#00cc96",
          "opacity": 0.5,
          "size": 5
         },
         "name": "3",
         "offsetgroup": "3",
         "orientation": "v",
         "pointpos": 0,
         "showlegend": false,
         "type": "box",
         "x": [
          "UNEMP",
          "LRIR",
          "UNEMP",
          "LRIR",
          "UNEMP",
          "LRIR",
          "UNEMP",
          "LRIR",
          "UNEMP",
          "LRIR",
          "UNEMP",
          "LRIR",
          "UNEMP",
          "LRIR",
          "UNEMP",
          "LRIR",
          "UNEMP",
          "LRIR",
          "UNEMP",
          "LRIR",
          "UNEMP",
          "LRIR",
          "UNEMP",
          "LRIR",
          "UNEMP",
          "LRIR",
          "UNEMP",
          "LRIR",
          "UNEMP",
          "LRIR",
          "UNEMP",
          "LRIR",
          "UNEMP",
          "LRIR",
          "UNEMP",
          "LRIR"
         ],
         "x0": " ",
         "xaxis": "x2",
         "y": [
          -0.3757090269117923,
          -0.11983385193377216,
          -0.3768256814059926,
          -0.09918895450582654,
          -0.366744498683925,
          -0.086987277116096,
          -0.34168500111945355,
          -0.09247244868234228,
          -0.3110284941431898,
          -0.11492613580427946,
          -0.2735981996546403,
          -0.14279120345469332,
          -0.2945629129606038,
          -0.07535445249342754,
          -0.2895038719887124,
          -0.0484446026562686,
          -0.275073480623787,
          -0.031015010184922698,
          -0.24653448124563282,
          -0.035553450890428606,
          -0.21500450844086338,
          -0.06228996506438189,
          -0.18856362440311758,
          -0.10191063986280291,
          -0.21519618530482598,
          -0.051026927659617805,
          -0.209020641582504,
          -0.021543410520320827,
          -0.19396401495899118,
          -0.0018991838060044008,
          -0.16657577533869983,
          -0.007470359019559392,
          -0.13833637596915316,
          -0.0396035338021089,
          -0.11613117976711451,
          -0.08756441356964151
         ],
         "y0": " ",
         "yaxis": "y2"
        }
       ],
       "layout": {
        "annotations": [
         {
          "font": {
           "color": "grey",
           "size": 11
          },
          "showarrow": false,
          "text": "RMSE",
          "x": 0.225,
          "xanchor": "center",
          "xref": "paper",
          "y": 0.95,
          "yanchor": "bottom",
          "yref": "paper"
         },
         {
          "font": {
           "color": "grey",
           "size": 11
          },
          "showarrow": false,
          "text": "Adj-R2",
          "x": 0.775,
          "xanchor": "center",
          "xref": "paper",
          "y": 0.95,
          "yanchor": "bottom",
          "yref": "paper"
         }
        ],
        "height": 400,
        "legend": {
         "orientation": "h",
         "title": {
          "text": "Moving Averages:"
         },
         "x": 0.5,
         "xanchor": "center",
         "y": -0.25,
         "yanchor": "top"
        },
        "margin": {
         "b": 60,
         "l": 80,
         "r": 40,
         "t": 80
        },
        "template": {
         "data": {
          "bar": [
           {
            "error_x": {
             "color": "#f2f5fa"
            },
            "error_y": {
             "color": "#f2f5fa"
            },
            "marker": {
             "line": {
              "color": "rgb(17,17,17)",
              "width": 0.5
             },
             "pattern": {
              "fillmode": "overlay",
              "size": 10,
              "solidity": 0.2
             }
            },
            "type": "bar"
           }
          ],
          "barpolar": [
           {
            "marker": {
             "line": {
              "color": "rgb(17,17,17)",
              "width": 0.5
             },
             "pattern": {
              "fillmode": "overlay",
              "size": 10,
              "solidity": 0.2
             }
            },
            "type": "barpolar"
           }
          ],
          "carpet": [
           {
            "aaxis": {
             "endlinecolor": "#A2B1C6",
             "gridcolor": "#506784",
             "linecolor": "#506784",
             "minorgridcolor": "#506784",
             "startlinecolor": "#A2B1C6"
            },
            "baxis": {
             "endlinecolor": "#A2B1C6",
             "gridcolor": "#506784",
             "linecolor": "#506784",
             "minorgridcolor": "#506784",
             "startlinecolor": "#A2B1C6"
            },
            "type": "carpet"
           }
          ],
          "choropleth": [
           {
            "colorbar": {
             "outlinewidth": 0,
             "ticks": ""
            },
            "type": "choropleth"
           }
          ],
          "contour": [
           {
            "colorbar": {
             "outlinewidth": 0,
             "ticks": ""
            },
            "colorscale": [
             [
              0,
              "#0d0887"
             ],
             [
              0.1111111111111111,
              "#46039f"
             ],
             [
              0.2222222222222222,
              "#7201a8"
             ],
             [
              0.3333333333333333,
              "#9c179e"
             ],
             [
              0.4444444444444444,
              "#bd3786"
             ],
             [
              0.5555555555555556,
              "#d8576b"
             ],
             [
              0.6666666666666666,
              "#ed7953"
             ],
             [
              0.7777777777777778,
              "#fb9f3a"
             ],
             [
              0.8888888888888888,
              "#fdca26"
             ],
             [
              1,
              "#f0f921"
             ]
            ],
            "type": "contour"
           }
          ],
          "contourcarpet": [
           {
            "colorbar": {
             "outlinewidth": 0,
             "ticks": ""
            },
            "type": "contourcarpet"
           }
          ],
          "heatmap": [
           {
            "colorbar": {
             "outlinewidth": 0,
             "ticks": ""
            },
            "colorscale": [
             [
              0,
              "#0d0887"
             ],
             [
              0.1111111111111111,
              "#46039f"
             ],
             [
              0.2222222222222222,
              "#7201a8"
             ],
             [
              0.3333333333333333,
              "#9c179e"
             ],
             [
              0.4444444444444444,
              "#bd3786"
             ],
             [
              0.5555555555555556,
              "#d8576b"
             ],
             [
              0.6666666666666666,
              "#ed7953"
             ],
             [
              0.7777777777777778,
              "#fb9f3a"
             ],
             [
              0.8888888888888888,
              "#fdca26"
             ],
             [
              1,
              "#f0f921"
             ]
            ],
            "type": "heatmap"
           }
          ],
          "heatmapgl": [
           {
            "colorbar": {
             "outlinewidth": 0,
             "ticks": ""
            },
            "colorscale": [
             [
              0,
              "#0d0887"
             ],
             [
              0.1111111111111111,
              "#46039f"
             ],
             [
              0.2222222222222222,
              "#7201a8"
             ],
             [
              0.3333333333333333,
              "#9c179e"
             ],
             [
              0.4444444444444444,
              "#bd3786"
             ],
             [
              0.5555555555555556,
              "#d8576b"
             ],
             [
              0.6666666666666666,
              "#ed7953"
             ],
             [
              0.7777777777777778,
              "#fb9f3a"
             ],
             [
              0.8888888888888888,
              "#fdca26"
             ],
             [
              1,
              "#f0f921"
             ]
            ],
            "type": "heatmapgl"
           }
          ],
          "histogram": [
           {
            "marker": {
             "pattern": {
              "fillmode": "overlay",
              "size": 10,
              "solidity": 0.2
             }
            },
            "type": "histogram"
           }
          ],
          "histogram2d": [
           {
            "colorbar": {
             "outlinewidth": 0,
             "ticks": ""
            },
            "colorscale": [
             [
              0,
              "#0d0887"
             ],
             [
              0.1111111111111111,
              "#46039f"
             ],
             [
              0.2222222222222222,
              "#7201a8"
             ],
             [
              0.3333333333333333,
              "#9c179e"
             ],
             [
              0.4444444444444444,
              "#bd3786"
             ],
             [
              0.5555555555555556,
              "#d8576b"
             ],
             [
              0.6666666666666666,
              "#ed7953"
             ],
             [
              0.7777777777777778,
              "#fb9f3a"
             ],
             [
              0.8888888888888888,
              "#fdca26"
             ],
             [
              1,
              "#f0f921"
             ]
            ],
            "type": "histogram2d"
           }
          ],
          "histogram2dcontour": [
           {
            "colorbar": {
             "outlinewidth": 0,
             "ticks": ""
            },
            "colorscale": [
             [
              0,
              "#0d0887"
             ],
             [
              0.1111111111111111,
              "#46039f"
             ],
             [
              0.2222222222222222,
              "#7201a8"
             ],
             [
              0.3333333333333333,
              "#9c179e"
             ],
             [
              0.4444444444444444,
              "#bd3786"
             ],
             [
              0.5555555555555556,
              "#d8576b"
             ],
             [
              0.6666666666666666,
              "#ed7953"
             ],
             [
              0.7777777777777778,
              "#fb9f3a"
             ],
             [
              0.8888888888888888,
              "#fdca26"
             ],
             [
              1,
              "#f0f921"
             ]
            ],
            "type": "histogram2dcontour"
           }
          ],
          "mesh3d": [
           {
            "colorbar": {
             "outlinewidth": 0,
             "ticks": ""
            },
            "type": "mesh3d"
           }
          ],
          "parcoords": [
           {
            "line": {
             "colorbar": {
              "outlinewidth": 0,
              "ticks": ""
             }
            },
            "type": "parcoords"
           }
          ],
          "pie": [
           {
            "automargin": true,
            "type": "pie"
           }
          ],
          "scatter": [
           {
            "marker": {
             "line": {
              "color": "#283442"
             }
            },
            "type": "scatter"
           }
          ],
          "scatter3d": [
           {
            "line": {
             "colorbar": {
              "outlinewidth": 0,
              "ticks": ""
             }
            },
            "marker": {
             "colorbar": {
              "outlinewidth": 0,
              "ticks": ""
             }
            },
            "type": "scatter3d"
           }
          ],
          "scattercarpet": [
           {
            "marker": {
             "colorbar": {
              "outlinewidth": 0,
              "ticks": ""
             }
            },
            "type": "scattercarpet"
           }
          ],
          "scattergeo": [
           {
            "marker": {
             "colorbar": {
              "outlinewidth": 0,
              "ticks": ""
             }
            },
            "type": "scattergeo"
           }
          ],
          "scattergl": [
           {
            "marker": {
             "line": {
              "color": "#283442"
             }
            },
            "type": "scattergl"
           }
          ],
          "scattermapbox": [
           {
            "marker": {
             "colorbar": {
              "outlinewidth": 0,
              "ticks": ""
             }
            },
            "type": "scattermapbox"
           }
          ],
          "scatterpolar": [
           {
            "marker": {
             "colorbar": {
              "outlinewidth": 0,
              "ticks": ""
             }
            },
            "type": "scatterpolar"
           }
          ],
          "scatterpolargl": [
           {
            "marker": {
             "colorbar": {
              "outlinewidth": 0,
              "ticks": ""
             }
            },
            "type": "scatterpolargl"
           }
          ],
          "scatterternary": [
           {
            "marker": {
             "colorbar": {
              "outlinewidth": 0,
              "ticks": ""
             }
            },
            "type": "scatterternary"
           }
          ],
          "surface": [
           {
            "colorbar": {
             "outlinewidth": 0,
             "ticks": ""
            },
            "colorscale": [
             [
              0,
              "#0d0887"
             ],
             [
              0.1111111111111111,
              "#46039f"
             ],
             [
              0.2222222222222222,
              "#7201a8"
             ],
             [
              0.3333333333333333,
              "#9c179e"
             ],
             [
              0.4444444444444444,
              "#bd3786"
             ],
             [
              0.5555555555555556,
              "#d8576b"
             ],
             [
              0.6666666666666666,
              "#ed7953"
             ],
             [
              0.7777777777777778,
              "#fb9f3a"
             ],
             [
              0.8888888888888888,
              "#fdca26"
             ],
             [
              1,
              "#f0f921"
             ]
            ],
            "type": "surface"
           }
          ],
          "table": [
           {
            "cells": {
             "fill": {
              "color": "#506784"
             },
             "line": {
              "color": "rgb(17,17,17)"
             }
            },
            "header": {
             "fill": {
              "color": "#2a3f5f"
             },
             "line": {
              "color": "rgb(17,17,17)"
             }
            },
            "type": "table"
           }
          ]
         },
         "layout": {
          "annotationdefaults": {
           "arrowcolor": "#f2f5fa",
           "arrowhead": 0,
           "arrowwidth": 1
          },
          "autotypenumbers": "strict",
          "coloraxis": {
           "colorbar": {
            "outlinewidth": 0,
            "ticks": ""
           }
          },
          "colorscale": {
           "diverging": [
            [
             0,
             "#8e0152"
            ],
            [
             0.1,
             "#c51b7d"
            ],
            [
             0.2,
             "#de77ae"
            ],
            [
             0.3,
             "#f1b6da"
            ],
            [
             0.4,
             "#fde0ef"
            ],
            [
             0.5,
             "#f7f7f7"
            ],
            [
             0.6,
             "#e6f5d0"
            ],
            [
             0.7,
             "#b8e186"
            ],
            [
             0.8,
             "#7fbc41"
            ],
            [
             0.9,
             "#4d9221"
            ],
            [
             1,
             "#276419"
            ]
           ],
           "sequential": [
            [
             0,
             "#0d0887"
            ],
            [
             0.1111111111111111,
             "#46039f"
            ],
            [
             0.2222222222222222,
             "#7201a8"
            ],
            [
             0.3333333333333333,
             "#9c179e"
            ],
            [
             0.4444444444444444,
             "#bd3786"
            ],
            [
             0.5555555555555556,
             "#d8576b"
            ],
            [
             0.6666666666666666,
             "#ed7953"
            ],
            [
             0.7777777777777778,
             "#fb9f3a"
            ],
            [
             0.8888888888888888,
             "#fdca26"
            ],
            [
             1,
             "#f0f921"
            ]
           ],
           "sequentialminus": [
            [
             0,
             "#0d0887"
            ],
            [
             0.1111111111111111,
             "#46039f"
            ],
            [
             0.2222222222222222,
             "#7201a8"
            ],
            [
             0.3333333333333333,
             "#9c179e"
            ],
            [
             0.4444444444444444,
             "#bd3786"
            ],
            [
             0.5555555555555556,
             "#d8576b"
            ],
            [
             0.6666666666666666,
             "#ed7953"
            ],
            [
             0.7777777777777778,
             "#fb9f3a"
            ],
            [
             0.8888888888888888,
             "#fdca26"
            ],
            [
             1,
             "#f0f921"
            ]
           ]
          },
          "colorway": [
           "#636efa",
           "#EF553B",
           "#00cc96",
           "#ab63fa",
           "#FFA15A",
           "#19d3f3",
           "#FF6692",
           "#B6E880",
           "#FF97FF",
           "#FECB52"
          ],
          "font": {
           "color": "#f2f5fa"
          },
          "geo": {
           "bgcolor": "rgb(17,17,17)",
           "lakecolor": "rgb(17,17,17)",
           "landcolor": "rgb(17,17,17)",
           "showlakes": true,
           "showland": true,
           "subunitcolor": "#506784"
          },
          "hoverlabel": {
           "align": "left"
          },
          "hovermode": "closest",
          "mapbox": {
           "style": "dark"
          },
          "paper_bgcolor": "rgb(17,17,17)",
          "plot_bgcolor": "rgb(17,17,17)",
          "polar": {
           "angularaxis": {
            "gridcolor": "#506784",
            "linecolor": "#506784",
            "ticks": ""
           },
           "bgcolor": "rgb(17,17,17)",
           "radialaxis": {
            "gridcolor": "#506784",
            "linecolor": "#506784",
            "ticks": ""
           }
          },
          "scene": {
           "xaxis": {
            "backgroundcolor": "rgb(17,17,17)",
            "gridcolor": "#506784",
            "gridwidth": 2,
            "linecolor": "#506784",
            "showbackground": true,
            "ticks": "",
            "zerolinecolor": "#C8D4E3"
           },
           "yaxis": {
            "backgroundcolor": "rgb(17,17,17)",
            "gridcolor": "#506784",
            "gridwidth": 2,
            "linecolor": "#506784",
            "showbackground": true,
            "ticks": "",
            "zerolinecolor": "#C8D4E3"
           },
           "zaxis": {
            "backgroundcolor": "rgb(17,17,17)",
            "gridcolor": "#506784",
            "gridwidth": 2,
            "linecolor": "#506784",
            "showbackground": true,
            "ticks": "",
            "zerolinecolor": "#C8D4E3"
           }
          },
          "shapedefaults": {
           "line": {
            "color": "#f2f5fa"
           }
          },
          "sliderdefaults": {
           "bgcolor": "#C8D4E3",
           "bordercolor": "rgb(17,17,17)",
           "borderwidth": 1,
           "tickwidth": 0
          },
          "ternary": {
           "aaxis": {
            "gridcolor": "#506784",
            "linecolor": "#506784",
            "ticks": ""
           },
           "baxis": {
            "gridcolor": "#506784",
            "linecolor": "#506784",
            "ticks": ""
           },
           "bgcolor": "rgb(17,17,17)",
           "caxis": {
            "gridcolor": "#506784",
            "linecolor": "#506784",
            "ticks": ""
           }
          },
          "title": {
           "x": 0.05
          },
          "updatemenudefaults": {
           "bgcolor": "#506784",
           "borderwidth": 0
          },
          "xaxis": {
           "automargin": true,
           "gridcolor": "#283442",
           "linecolor": "#506784",
           "ticks": "",
           "title": {
            "standoff": 15
           },
           "zerolinecolor": "#283442",
           "zerolinewidth": 2
          },
          "yaxis": {
           "automargin": true,
           "gridcolor": "#283442",
           "linecolor": "#506784",
           "ticks": "",
           "title": {
            "standoff": 15
           },
           "zerolinecolor": "#283442",
           "zerolinewidth": 2
          }
         }
        },
        "title": {
         "text": "Observe Backward Elimination in All Models With Repect to Moving Averages<br><span style=\"font-size: 12.5px; color: lightgrey;\"> -- How meansures are changed by removing the impact of each coefficient</span>"
        },
        "width": 800,
        "xaxis": {
         "anchor": "y",
         "domain": [
          0,
          0.45
         ]
        },
        "xaxis2": {
         "anchor": "y2",
         "domain": [
          0.55,
          1
         ]
        },
        "yaxis": {
         "anchor": "x",
         "domain": [
          0,
          1
         ],
         "title": {
          "text": "Difference"
         }
        },
        "yaxis2": {
         "anchor": "x2",
         "domain": [
          0,
          1
         ]
        }
       }
      }
     },
     "metadata": {},
     "output_type": "display_data"
    }
   ],
   "source": [
    "# removing the \"HOUSE\", \"CSENT\", \"IMP\"\n",
    "PA1 = PredictiveAnalysis(df)\n",
    "PA1.create_data(['UNEMP', 'LRIR'], 'SP500', ma=[1,2,3], fp=[1,2,3,4,5,6], poly_d=1)\n",
    "\n",
    "# comparing model performance & backward elimination test\n",
    "fig1_1, fig1_2, fig1_3 = PA1.model_learning([1, 3, 6], model='LinR')\n",
    "\n",
    "horizon_plots(fig1_1, 'Linear Model').show()\n",
    "fig1_2.show()\n",
    "fig1_3.show()"
   ]
  },
  {
   "cell_type": "code",
   "execution_count": 57,
   "metadata": {},
   "outputs": [
    {
     "data": {
      "application/vnd.plotly.v1+json": {
       "config": {
        "plotlyServerURL": "https://plot.ly"
       },
       "data": [
        {
         "mode": "lines",
         "name": "Actual",
         "type": "scatter",
         "x": [
          "1989-07-31T00:00:00",
          "1989-08-31T00:00:00",
          "1989-09-30T00:00:00",
          "1989-10-31T00:00:00",
          "1989-11-30T00:00:00",
          "1989-12-31T00:00:00",
          "1990-01-31T00:00:00",
          "1990-02-28T00:00:00",
          "1990-03-31T00:00:00",
          "1990-04-30T00:00:00",
          "1990-05-31T00:00:00",
          "1990-06-30T00:00:00",
          "1990-07-31T00:00:00",
          "1990-08-31T00:00:00",
          "1990-09-30T00:00:00",
          "1990-10-31T00:00:00",
          "1990-11-30T00:00:00",
          "1990-12-31T00:00:00",
          "1991-01-31T00:00:00",
          "1991-02-28T00:00:00",
          "1991-03-31T00:00:00",
          "1991-04-30T00:00:00",
          "1991-05-31T00:00:00",
          "1991-06-30T00:00:00",
          "1991-07-31T00:00:00",
          "1991-08-31T00:00:00",
          "1991-09-30T00:00:00",
          "1991-10-31T00:00:00",
          "1991-11-30T00:00:00",
          "1991-12-31T00:00:00",
          "1992-01-31T00:00:00",
          "1992-02-29T00:00:00",
          "1992-03-31T00:00:00",
          "1992-04-30T00:00:00",
          "1992-05-31T00:00:00",
          "1992-06-30T00:00:00",
          "1992-07-31T00:00:00",
          "1992-08-31T00:00:00",
          "1992-09-30T00:00:00",
          "1992-10-31T00:00:00",
          "1992-11-30T00:00:00",
          "1992-12-31T00:00:00",
          "1993-01-31T00:00:00",
          "1993-02-28T00:00:00",
          "1993-03-31T00:00:00",
          "1993-04-30T00:00:00",
          "1993-05-31T00:00:00",
          "1993-06-30T00:00:00",
          "1993-07-31T00:00:00",
          "1993-08-31T00:00:00",
          "1993-09-30T00:00:00",
          "1993-10-31T00:00:00",
          "1993-11-30T00:00:00",
          "1993-12-31T00:00:00",
          "1994-01-31T00:00:00",
          "1994-02-28T00:00:00",
          "1994-03-31T00:00:00",
          "1994-04-30T00:00:00",
          "1994-05-31T00:00:00",
          "1994-06-30T00:00:00",
          "1994-07-31T00:00:00",
          "1994-08-31T00:00:00",
          "1994-09-30T00:00:00",
          "1994-10-31T00:00:00",
          "1994-11-30T00:00:00",
          "1994-12-31T00:00:00",
          "1995-01-31T00:00:00",
          "1995-02-28T00:00:00",
          "1995-03-31T00:00:00",
          "1995-04-30T00:00:00",
          "1995-05-31T00:00:00",
          "1995-06-30T00:00:00",
          "1995-07-31T00:00:00",
          "1995-08-31T00:00:00",
          "1995-09-30T00:00:00",
          "1995-10-31T00:00:00",
          "1995-11-30T00:00:00",
          "1995-12-31T00:00:00",
          "1996-01-31T00:00:00",
          "1996-02-29T00:00:00",
          "1996-03-31T00:00:00",
          "1996-04-30T00:00:00",
          "1996-05-31T00:00:00",
          "1996-06-30T00:00:00",
          "1996-07-31T00:00:00",
          "1996-08-31T00:00:00",
          "1996-09-30T00:00:00",
          "1996-10-31T00:00:00",
          "1996-11-30T00:00:00",
          "1996-12-31T00:00:00",
          "1997-01-31T00:00:00",
          "1997-02-28T00:00:00",
          "1997-03-31T00:00:00",
          "1997-04-30T00:00:00",
          "1997-05-31T00:00:00",
          "1997-06-30T00:00:00",
          "1997-07-31T00:00:00",
          "1997-08-31T00:00:00",
          "1997-09-30T00:00:00",
          "1997-10-31T00:00:00",
          "1997-11-30T00:00:00",
          "1997-12-31T00:00:00",
          "1998-01-31T00:00:00",
          "1998-02-28T00:00:00",
          "1998-03-31T00:00:00",
          "1998-04-30T00:00:00",
          "1998-05-31T00:00:00",
          "1998-06-30T00:00:00",
          "1998-07-31T00:00:00",
          "1998-08-31T00:00:00",
          "1998-09-30T00:00:00",
          "1998-10-31T00:00:00",
          "1998-11-30T00:00:00",
          "1998-12-31T00:00:00",
          "1999-01-31T00:00:00",
          "1999-02-28T00:00:00",
          "1999-03-31T00:00:00",
          "1999-04-30T00:00:00",
          "1999-05-31T00:00:00",
          "1999-06-30T00:00:00",
          "1999-07-31T00:00:00",
          "1999-08-31T00:00:00",
          "1999-09-30T00:00:00",
          "1999-10-31T00:00:00",
          "1999-11-30T00:00:00",
          "1999-12-31T00:00:00",
          "2000-01-31T00:00:00",
          "2000-02-29T00:00:00",
          "2000-03-31T00:00:00",
          "2000-04-30T00:00:00",
          "2000-05-31T00:00:00",
          "2000-06-30T00:00:00",
          "2000-07-31T00:00:00",
          "2000-08-31T00:00:00",
          "2000-09-30T00:00:00",
          "2000-10-31T00:00:00",
          "2000-11-30T00:00:00",
          "2000-12-31T00:00:00",
          "2001-01-31T00:00:00",
          "2001-02-28T00:00:00",
          "2001-03-31T00:00:00",
          "2001-04-30T00:00:00",
          "2001-05-31T00:00:00",
          "2001-06-30T00:00:00",
          "2001-07-31T00:00:00",
          "2001-08-31T00:00:00",
          "2001-09-30T00:00:00",
          "2001-10-31T00:00:00",
          "2001-11-30T00:00:00",
          "2001-12-31T00:00:00",
          "2002-01-31T00:00:00",
          "2002-02-28T00:00:00",
          "2002-03-31T00:00:00",
          "2002-04-30T00:00:00",
          "2002-05-31T00:00:00",
          "2002-06-30T00:00:00",
          "2002-07-31T00:00:00",
          "2002-08-31T00:00:00",
          "2002-09-30T00:00:00",
          "2002-10-31T00:00:00",
          "2002-11-30T00:00:00",
          "2002-12-31T00:00:00",
          "2003-01-31T00:00:00",
          "2003-02-28T00:00:00",
          "2003-03-31T00:00:00",
          "2003-04-30T00:00:00",
          "2003-05-31T00:00:00",
          "2003-06-30T00:00:00",
          "2003-07-31T00:00:00",
          "2003-08-31T00:00:00",
          "2003-09-30T00:00:00",
          "2003-10-31T00:00:00",
          "2003-11-30T00:00:00",
          "2003-12-31T00:00:00",
          "2004-01-31T00:00:00",
          "2004-02-29T00:00:00",
          "2004-03-31T00:00:00",
          "2004-04-30T00:00:00",
          "2004-05-31T00:00:00",
          "2004-06-30T00:00:00",
          "2004-07-31T00:00:00",
          "2004-08-31T00:00:00",
          "2004-09-30T00:00:00",
          "2004-10-31T00:00:00",
          "2004-11-30T00:00:00",
          "2004-12-31T00:00:00",
          "2005-01-31T00:00:00",
          "2005-02-28T00:00:00",
          "2005-03-31T00:00:00",
          "2005-04-30T00:00:00",
          "2005-05-31T00:00:00",
          "2005-06-30T00:00:00",
          "2005-07-31T00:00:00",
          "2005-08-31T00:00:00",
          "2005-09-30T00:00:00",
          "2005-10-31T00:00:00",
          "2005-11-30T00:00:00",
          "2005-12-31T00:00:00",
          "2006-01-31T00:00:00",
          "2006-02-28T00:00:00",
          "2006-03-31T00:00:00",
          "2006-04-30T00:00:00",
          "2006-05-31T00:00:00",
          "2006-06-30T00:00:00",
          "2006-07-31T00:00:00",
          "2006-08-31T00:00:00",
          "2006-09-30T00:00:00",
          "2006-10-31T00:00:00",
          "2006-11-30T00:00:00",
          "2006-12-31T00:00:00",
          "2007-01-31T00:00:00",
          "2007-02-28T00:00:00",
          "2007-03-31T00:00:00",
          "2007-04-30T00:00:00",
          "2007-05-31T00:00:00",
          "2007-06-30T00:00:00",
          "2007-07-31T00:00:00",
          "2007-08-31T00:00:00",
          "2007-09-30T00:00:00",
          "2007-10-31T00:00:00",
          "2007-11-30T00:00:00",
          "2007-12-31T00:00:00",
          "2008-01-31T00:00:00",
          "2008-02-29T00:00:00",
          "2008-03-31T00:00:00",
          "2008-04-30T00:00:00",
          "2008-05-31T00:00:00",
          "2008-06-30T00:00:00",
          "2008-07-31T00:00:00",
          "2008-08-31T00:00:00",
          "2008-09-30T00:00:00",
          "2008-10-31T00:00:00",
          "2008-11-30T00:00:00",
          "2008-12-31T00:00:00",
          "2009-01-31T00:00:00",
          "2009-02-28T00:00:00",
          "2009-03-31T00:00:00",
          "2009-04-30T00:00:00",
          "2009-05-31T00:00:00",
          "2009-06-30T00:00:00",
          "2009-07-31T00:00:00",
          "2009-08-31T00:00:00",
          "2009-09-30T00:00:00",
          "2009-10-31T00:00:00",
          "2009-11-30T00:00:00",
          "2009-12-31T00:00:00",
          "2010-01-31T00:00:00",
          "2010-02-28T00:00:00",
          "2010-03-31T00:00:00",
          "2010-04-30T00:00:00",
          "2010-05-31T00:00:00",
          "2010-06-30T00:00:00",
          "2010-07-31T00:00:00",
          "2010-08-31T00:00:00",
          "2010-09-30T00:00:00",
          "2010-10-31T00:00:00",
          "2010-11-30T00:00:00",
          "2010-12-31T00:00:00",
          "2011-01-31T00:00:00",
          "2011-02-28T00:00:00",
          "2011-03-31T00:00:00",
          "2011-04-30T00:00:00",
          "2011-05-31T00:00:00",
          "2011-06-30T00:00:00",
          "2011-07-31T00:00:00",
          "2011-08-31T00:00:00",
          "2011-09-30T00:00:00",
          "2011-10-31T00:00:00",
          "2011-11-30T00:00:00",
          "2011-12-31T00:00:00",
          "2012-01-31T00:00:00",
          "2012-02-29T00:00:00",
          "2012-03-31T00:00:00",
          "2012-04-30T00:00:00",
          "2012-05-31T00:00:00",
          "2012-06-30T00:00:00",
          "2012-07-31T00:00:00",
          "2012-08-31T00:00:00",
          "2012-09-30T00:00:00",
          "2012-10-31T00:00:00",
          "2012-11-30T00:00:00",
          "2012-12-31T00:00:00",
          "2013-01-31T00:00:00",
          "2013-02-28T00:00:00",
          "2013-03-31T00:00:00",
          "2013-04-30T00:00:00",
          "2013-05-31T00:00:00",
          "2013-06-30T00:00:00",
          "2013-07-31T00:00:00",
          "2013-08-31T00:00:00",
          "2013-09-30T00:00:00",
          "2013-10-31T00:00:00",
          "2013-11-30T00:00:00",
          "2013-12-31T00:00:00",
          "2014-01-31T00:00:00",
          "2014-02-28T00:00:00",
          "2014-03-31T00:00:00",
          "2014-04-30T00:00:00",
          "2014-05-31T00:00:00",
          "2014-06-30T00:00:00",
          "2014-07-31T00:00:00",
          "2014-08-31T00:00:00",
          "2014-09-30T00:00:00",
          "2014-10-31T00:00:00",
          "2014-11-30T00:00:00",
          "2014-12-31T00:00:00",
          "2015-01-31T00:00:00",
          "2015-02-28T00:00:00",
          "2015-03-31T00:00:00",
          "2015-04-30T00:00:00",
          "2015-05-31T00:00:00",
          "2015-06-30T00:00:00",
          "2015-07-31T00:00:00",
          "2015-08-31T00:00:00",
          "2015-09-30T00:00:00",
          "2015-10-31T00:00:00",
          "2015-11-30T00:00:00",
          "2015-12-31T00:00:00",
          "2016-01-31T00:00:00",
          "2016-02-29T00:00:00",
          "2016-03-31T00:00:00",
          "2016-04-30T00:00:00",
          "2016-05-31T00:00:00",
          "2016-06-30T00:00:00",
          "2016-07-31T00:00:00",
          "2016-08-31T00:00:00",
          "2016-09-30T00:00:00",
          "2016-10-31T00:00:00",
          "2016-11-30T00:00:00",
          "2016-12-31T00:00:00",
          "2017-01-31T00:00:00",
          "2017-02-28T00:00:00",
          "2017-03-31T00:00:00",
          "2017-04-30T00:00:00",
          "2017-05-31T00:00:00",
          "2017-06-30T00:00:00",
          "2017-07-31T00:00:00",
          "2017-08-31T00:00:00",
          "2017-09-30T00:00:00",
          "2017-10-31T00:00:00",
          "2017-11-30T00:00:00",
          "2017-12-31T00:00:00",
          "2018-01-31T00:00:00",
          "2018-02-28T00:00:00",
          "2018-03-31T00:00:00",
          "2018-04-30T00:00:00",
          "2018-05-31T00:00:00",
          "2018-06-30T00:00:00",
          "2018-07-31T00:00:00",
          "2018-08-31T00:00:00",
          "2018-09-30T00:00:00",
          "2018-10-31T00:00:00",
          "2018-11-30T00:00:00",
          "2018-12-31T00:00:00",
          "2019-01-31T00:00:00",
          "2019-02-28T00:00:00",
          "2019-03-31T00:00:00",
          "2019-04-30T00:00:00",
          "2019-05-31T00:00:00",
          "2019-06-30T00:00:00",
          "2019-07-31T00:00:00",
          "2019-08-31T00:00:00",
          "2019-09-30T00:00:00",
          "2019-10-31T00:00:00",
          "2019-11-30T00:00:00",
          "2019-12-31T00:00:00",
          "2020-01-31T00:00:00",
          "2020-02-29T00:00:00",
          "2020-03-31T00:00:00",
          "2020-04-30T00:00:00",
          "2020-05-31T00:00:00",
          "2020-06-30T00:00:00",
          "2020-07-31T00:00:00",
          "2020-08-31T00:00:00",
          "2020-09-30T00:00:00",
          "2020-10-31T00:00:00",
          "2020-11-30T00:00:00",
          "2020-12-31T00:00:00",
          "2021-01-31T00:00:00",
          "2021-02-28T00:00:00",
          "2021-03-31T00:00:00",
          "2021-04-30T00:00:00",
          "2021-05-31T00:00:00",
          "2021-06-30T00:00:00",
          "2021-07-31T00:00:00",
          "2021-08-31T00:00:00",
          "2021-09-30T00:00:00",
          "2021-10-31T00:00:00",
          "2021-11-30T00:00:00",
          "2021-12-31T00:00:00",
          "2022-01-31T00:00:00",
          "2022-02-28T00:00:00",
          "2022-03-31T00:00:00",
          "2022-04-30T00:00:00",
          "2022-05-31T00:00:00",
          "2022-06-30T00:00:00",
          "2022-07-31T00:00:00",
          "2022-08-31T00:00:00",
          "2022-09-30T00:00:00",
          "2022-10-31T00:00:00",
          "2022-11-30T00:00:00",
          "2022-12-31T00:00:00",
          "2023-01-31T00:00:00",
          "2023-02-28T00:00:00",
          "2023-03-31T00:00:00",
          "2023-04-30T00:00:00",
          "2023-05-31T00:00:00",
          "2023-06-30T00:00:00",
          "2023-07-31T00:00:00",
          "2023-08-31T00:00:00",
          "2023-09-30T00:00:00",
          "2023-10-31T00:00:00"
         ],
         "y": [
          27.22593947126124,
          34.38743766108754,
          28.406454045125077,
          22.005944675854792,
          26.41212086342999,
          27.250465340319007,
          10.62627667389895,
          14.896500546624525,
          15.284704469950228,
          6.83373341412481,
          12.70124278299527,
          12.591979572283662,
          2.90973408313977,
          -8.220234356235878,
          -12.344266606601709,
          -10.68280259619996,
          -6.870137774092822,
          -6.559137825727013,
          4.5125825663830055,
          10.5998948817567,
          10.378301619674168,
          13.464331979600086,
          7.917386351108013,
          3.6701902272656906,
          8.889514026304157,
          22.59114449055346,
          26.73092658769689,
          29.095398752312928,
          16.448389236923223,
          26.30670304526097,
          18.85558325372598,
          12.430872578077269,
          7.587548938777711,
          10.553102854906715,
          6.546448557137663,
          9.963360982179914,
          9.38603804069924,
          4.703741862789346,
          7.7192810736246065,
          6.683648784017038,
          14.95922517461883,
          4.464263175974903,
          7.3389109275371345,
          7.433969413209174,
          11.8853602259551,
          6.08265802912713,
          8.38810541132089,
          10.386137749167569,
          5.638719952278026,
          11.962900979476942,
          9.844424625305038,
          11.739274566803882,
          7.056914804842096,
          7.055156263296869,
          9.761152899270776,
          5.358836551933566,
          -1.306268788863596,
          2.4353122881590306,
          1.4016298728035226,
          -1.3894767901330374,
          2.260505829209425,
          2.57355956911991,
          0.8236547707979547,
          0.9661671250207116,
          -1.7540453352462682,
          -1.5392910291473272,
          -2.3234509798752856,
          4.334888762470901,
          12.324742310034974,
          14.14916896772944,
          16.845569422576666,
          22.616880156457285,
          22.650893724297877,
          18.168629502769296,
          26.30156770696581,
          23.107863339915813,
          33.43251820837083,
          34.11065547708709,
          35.20258521674376,
          31.399900167781247,
          28.916940148159973,
          27.094860209446004,
          25.444312802987355,
          23.107848532870577,
          13.857953774822352,
          16.037229402807473,
          17.610932166597237,
          21.28461212919175,
          25.05079961630838,
          20.263666170303285,
          23.606167888227027,
          23.482662643592445,
          17.29202093217468,
          22.497217510746715,
          26.775471587620103,
          31.98634242485303,
          49.1225844761549,
          37.95763495997642,
          37.82026184563567,
          29.683662964304048,
          26.20538423880125,
          31.00818174657085,
          24.69218260704502,
          32.69011356589342,
          45.51854489452105,
          38.73636193646888,
          28.59196357519165,
          28.097244171099224,
          17.43249539586893,
          6.427124915416504,
          7.361073633158677,
          20.123116683507792,
          21.795057059628565,
          26.66858915596535,
          30.538211164648963,
          18.010368078055027,
          16.756977092551615,
          20.097148973324707,
          19.345082591231844,
          21.0673465672353,
          18.564779872706684,
          37.93351932240064,
          26.125598432714227,
          24.05271821343833,
          19.36010831205428,
          19.526046658878403,
          8.972831810093695,
          10.343776895999458,
          16.496805875681808,
          8.781587148049486,
          9.12247379736819,
          5.965572989104717,
          7.68483861182041,
          14.940057590050436,
          11.990243586766614,
          4.876990607268716,
          -5.32504490483392,
          -10.139184665858435,
          -2.0402128400121344,
          -9.25631200299668,
          -22.571368223188504,
          -13.974517551110422,
          -11.599326490830764,
          -15.827029737876108,
          -15.347733995691115,
          -25.308370938727972,
          -27.53688214284804,
          -25.85840134350785,
          -13.346515572215925,
          -13.042693172742602,
          -17.262688919403267,
          -10.74325912805284,
          -1.1151949786979531,
          -13.809159347749455,
          -15.024441377776544,
          -19.157450842317857,
          -24.736011342421715,
          -19.18787885836395,
          -21.6784756865532,
          -16.420390526391206,
          -17.82789611815425,
          -23.365963957103563,
          -24.28773233269227,
          -23.99681591188145,
          -26.07744691453801,
          -14.857190367540529,
          -9.703505291860193,
          -1.547756886187146,
          8.631886406933265,
          10.036351120146048,
          22.162929903003143,
          18.62242022142333,
          13.018119418900408,
          26.38039993281984,
          32.18768128393372,
          36.11602070674667,
          32.77959521122498,
          20.762996713599048,
          16.302579154758213,
          17.069262782997697,
          11.250009938220318,
          9.546530246373708,
          11.908992122305383,
          7.565359917540881,
          10.926100968833662,
          8.993452410946755,
          4.432736682078575,
          5.123415828051159,
          4.828584968076877,
          4.474841919338135,
          6.319372425212211,
          4.425685612974695,
          12.02302640690771,
          10.513110089019008,
          10.248713151401567,
          6.796147753687976,
          6.445625193103988,
          3.0010226581274946,
          8.364720587986074,
          6.402464286877008,
          9.679908571598729,
          13.291266197913563,
          6.595884668091689,
          6.620331732308671,
          3.4419597319711226,
          6.841591474513753,
          8.71085944028518,
          14.161434475080782,
          12.097034508496709,
          13.6194317382607,
          12.35548087692504,
          9.85116336438072,
          9.7299335616293,
          13.10534878303644,
          20.51272242975375,
          18.355379733636457,
          13.99041096060687,
          13.05165214181998,
          14.290528719763527,
          12.441766025128809,
          5.748128305473577,
          3.5295730663479574,
          -4.150207323641652,
          -5.415756409142858,
          -6.908494516818964,
          -6.528736389407563,
          -8.508969610344309,
          -14.856818386476236,
          -12.911007038333532,
          -12.968882790668868,
          -23.605044352280167,
          -37.4749901930436,
          -39.48985366875623,
          -38.48579306090672,
          -40.09067675236928,
          -44.75624146772434,
          -39.67868567544007,
          -37.00806017010502,
          -34.364957265627794,
          -28.178124427795414,
          -22.084932958993875,
          -20.43996242057835,
          -9.36932256501718,
          6.96154233870967,
          22.247390969052283,
          23.45419048834072,
          30.02736339034669,
          50.25234323462486,
          46.56899756446875,
          35.96200143509296,
          18.52492730352693,
          12.1165592748812,
          11.55668948984825,
          2.812992208153186,
          7.957770330935654,
          14.19335031951585,
          7.750795758317652,
          12.782713853760177,
          19.764962329247115,
          20.16586681980579,
          13.37402795895728,
          14.908700054848278,
          23.479673306368444,
          28.12915996729348,
          17.30937345105834,
          16.158888595086786,
          -0.8569845465310144,
          5.919243317990031,
          5.625336441711792,
          -0.0031836663936912,
          2.044135785331957,
          2.8977926686438726,
          6.233077950233668,
          2.515385571870965,
          -2.592179332656863,
          3.143931659703858,
          6.735375848804659,
          15.39843128999503,
          27.332908026061787,
          12.675335447413527,
          13.570611573302882,
          13.40569092662105,
          14.149537593862238,
          10.910315311051445,
          11.410961827101772,
          14.28274404128862,
          24.452622234511058,
          17.921535575238057,
          22.214572841062477,
          16.095069012887,
          16.71999816301839,
          24.38675479743768,
          27.512744856265403,
          29.601249573324356,
          18.989258682632105,
          22.761895927543097,
          19.31888654233857,
          17.925975982963017,
          17.956875885076016,
          22.035382667791197,
          14.530207465874945,
          22.682598642923946,
          17.289999214533758,
          14.887790995370542,
          14.494879943455086,
          11.390633786748117,
          11.91524851405299,
          13.178631060959066,
          10.444146379802222,
          10.69880112623871,
          9.556187267517192,
          5.248370241155231,
          8.969427193858603,
          -1.5568737418584444,
          -2.6497121990468497,
          3.0380841460970087,
          0.62149844026127,
          -0.7265997205823549,
          -2.744374671953509,
          -8.185793277797583,
          -0.3941168421491281,
          -0.9690656406761256,
          -0.4953967674903303,
          1.7328207482185445,
          3.315841834517408,
          10.078689168715794,
          12.92896394569838,
          2.2502016247627266,
          5.6911931535803095,
          9.535022667283656,
          17.453002136721206,
          22.327047839549465,
          14.709622666221778,
          15.440850956484375,
          15.014669161765015,
          15.46314609248347,
          13.650162764153384,
          13.851077083078668,
          16.1921755467765,
          21.123162902427573,
          20.409676487393423,
          19.419965523287928,
          23.91272487608005,
          14.815716499221354,
          11.772455048983232,
          11.066609473193022,
          12.168088761990026,
          12.171288216832732,
          14.005990502996092,
          17.392030998398035,
          15.663496134766518,
          5.299658285035491,
          4.2525566905510015,
          -6.23725984962068,
          -4.239306414154331,
          2.6036969918984187,
          7.328258360632933,
          11.245256842054596,
          1.729588496700507,
          8.217787973966196,
          5.826454004170079,
          0.8595474523136026,
          2.153755694489345,
          12.015166259771616,
          13.796616490011717,
          28.87807022515845,
          19.28256732533442,
          6.095550031209251,
          -8.813499261221347,
          -1.133811034533061,
          10.619317666684005,
          5.388951810161613,
          9.755140143431529,
          19.609019269561976,
          12.975940493049665,
          7.650874315595924,
          15.302545872069494,
          16.258923055706177,
          15.151664467863023,
          29.00697781948409,
          53.71450626511303,
          43.56293610537338,
          38.0972956881811,
          38.61606320225206,
          34.365587571392275,
          29.207987294652327,
          28.08623369201606,
          40.83902976879674,
          26.103443691858995,
          26.89273866137125,
          21.573991356507925,
          14.766935268444836,
          14.03311641516658,
          -1.177654747685286,
          -1.711657479886508,
          -11.916698480221054,
          -6.028533936374103,
          -12.551853186991902,
          -16.759447743453126,
          -15.924851391322436,
          -10.661044286799326,
          -19.442827203429268,
          -9.720847427606383,
          -9.231723445491092,
          -9.294966308410611,
          0.9087715205739144,
          1.1538830126710975,
          17.567589530959093,
          11.105029369296048,
          13.973708122629592,
          19.59018703997495,
          8.311505375598305
         ]
        },
        {
         "line": {
          "color": "lightgreen"
         },
         "mode": "lines",
         "name": "Predict",
         "type": "scatter",
         "x": [
          "1989-07-31T00:00:00",
          "1989-08-31T00:00:00",
          "1989-09-30T00:00:00",
          "1989-10-31T00:00:00",
          "1989-11-30T00:00:00",
          "1989-12-31T00:00:00",
          "1990-01-31T00:00:00",
          "1990-02-28T00:00:00",
          "1990-03-31T00:00:00",
          "1990-04-30T00:00:00",
          "1990-05-31T00:00:00",
          "1990-06-30T00:00:00",
          "1990-07-31T00:00:00",
          "1990-08-31T00:00:00",
          "1990-09-30T00:00:00",
          "1990-10-31T00:00:00",
          "1990-11-30T00:00:00",
          "1990-12-31T00:00:00",
          "1991-01-31T00:00:00",
          "1991-02-28T00:00:00",
          "1991-03-31T00:00:00",
          "1991-04-30T00:00:00",
          "1991-05-31T00:00:00",
          "1991-06-30T00:00:00",
          "1991-07-31T00:00:00",
          "1991-08-31T00:00:00",
          "1991-09-30T00:00:00",
          "1991-10-31T00:00:00",
          "1991-11-30T00:00:00",
          "1991-12-31T00:00:00",
          "1992-01-31T00:00:00",
          "1992-02-29T00:00:00",
          "1992-03-31T00:00:00",
          "1992-04-30T00:00:00",
          "1992-05-31T00:00:00",
          "1992-06-30T00:00:00",
          "1992-07-31T00:00:00",
          "1992-08-31T00:00:00",
          "1992-09-30T00:00:00",
          "1992-10-31T00:00:00",
          "1992-11-30T00:00:00",
          "1992-12-31T00:00:00",
          "1993-01-31T00:00:00",
          "1993-02-28T00:00:00",
          "1993-03-31T00:00:00",
          "1993-04-30T00:00:00",
          "1993-05-31T00:00:00",
          "1993-06-30T00:00:00",
          "1993-07-31T00:00:00",
          "1993-08-31T00:00:00",
          "1993-09-30T00:00:00",
          "1993-10-31T00:00:00",
          "1993-11-30T00:00:00",
          "1993-12-31T00:00:00",
          "1994-01-31T00:00:00",
          "1994-02-28T00:00:00",
          "1994-03-31T00:00:00",
          "1994-04-30T00:00:00",
          "1994-05-31T00:00:00",
          "1994-06-30T00:00:00",
          "1994-07-31T00:00:00",
          "1994-08-31T00:00:00",
          "1994-09-30T00:00:00",
          "1994-10-31T00:00:00",
          "1994-11-30T00:00:00",
          "1994-12-31T00:00:00",
          "1995-01-31T00:00:00",
          "1995-02-28T00:00:00",
          "1995-03-31T00:00:00",
          "1995-04-30T00:00:00",
          "1995-05-31T00:00:00",
          "1995-06-30T00:00:00",
          "1995-07-31T00:00:00",
          "1995-08-31T00:00:00",
          "1995-09-30T00:00:00",
          "1995-10-31T00:00:00",
          "1995-11-30T00:00:00",
          "1995-12-31T00:00:00",
          "1996-01-31T00:00:00",
          "1996-02-29T00:00:00",
          "1996-03-31T00:00:00",
          "1996-04-30T00:00:00",
          "1996-05-31T00:00:00",
          "1996-06-30T00:00:00",
          "1996-07-31T00:00:00",
          "1996-08-31T00:00:00",
          "1996-09-30T00:00:00",
          "1996-10-31T00:00:00",
          "1996-11-30T00:00:00",
          "1996-12-31T00:00:00",
          "1997-01-31T00:00:00",
          "1997-02-28T00:00:00",
          "1997-03-31T00:00:00",
          "1997-04-30T00:00:00",
          "1997-05-31T00:00:00",
          "1997-06-30T00:00:00",
          "1997-07-31T00:00:00",
          "1997-08-31T00:00:00",
          "1997-09-30T00:00:00",
          "1997-10-31T00:00:00",
          "1997-11-30T00:00:00",
          "1997-12-31T00:00:00",
          "1998-01-31T00:00:00",
          "1998-02-28T00:00:00",
          "1998-03-31T00:00:00",
          "1998-04-30T00:00:00",
          "1998-05-31T00:00:00",
          "1998-06-30T00:00:00",
          "1998-07-31T00:00:00",
          "1998-08-31T00:00:00",
          "1998-09-30T00:00:00",
          "1998-10-31T00:00:00",
          "1998-11-30T00:00:00",
          "1998-12-31T00:00:00",
          "1999-01-31T00:00:00",
          "1999-02-28T00:00:00",
          "1999-03-31T00:00:00",
          "1999-04-30T00:00:00",
          "1999-05-31T00:00:00",
          "1999-06-30T00:00:00",
          "1999-07-31T00:00:00",
          "1999-08-31T00:00:00",
          "1999-09-30T00:00:00",
          "1999-10-31T00:00:00",
          "1999-11-30T00:00:00",
          "1999-12-31T00:00:00",
          "2000-01-31T00:00:00",
          "2000-02-29T00:00:00",
          "2000-03-31T00:00:00",
          "2000-04-30T00:00:00",
          "2000-05-31T00:00:00",
          "2000-06-30T00:00:00",
          "2000-07-31T00:00:00",
          "2000-08-31T00:00:00",
          "2000-09-30T00:00:00",
          "2000-10-31T00:00:00",
          "2000-11-30T00:00:00",
          "2000-12-31T00:00:00",
          "2001-01-31T00:00:00",
          "2001-02-28T00:00:00",
          "2001-03-31T00:00:00",
          "2001-04-30T00:00:00",
          "2001-05-31T00:00:00",
          "2001-06-30T00:00:00",
          "2001-07-31T00:00:00",
          "2001-08-31T00:00:00",
          "2001-09-30T00:00:00",
          "2001-10-31T00:00:00",
          "2001-11-30T00:00:00",
          "2001-12-31T00:00:00",
          "2002-01-31T00:00:00",
          "2002-02-28T00:00:00",
          "2002-03-31T00:00:00",
          "2002-04-30T00:00:00",
          "2002-05-31T00:00:00",
          "2002-06-30T00:00:00",
          "2002-07-31T00:00:00",
          "2002-08-31T00:00:00",
          "2002-09-30T00:00:00",
          "2002-10-31T00:00:00",
          "2002-11-30T00:00:00",
          "2002-12-31T00:00:00",
          "2003-01-31T00:00:00",
          "2003-02-28T00:00:00",
          "2003-03-31T00:00:00",
          "2003-04-30T00:00:00",
          "2003-05-31T00:00:00",
          "2003-06-30T00:00:00",
          "2003-07-31T00:00:00",
          "2003-08-31T00:00:00",
          "2003-09-30T00:00:00",
          "2003-10-31T00:00:00",
          "2003-11-30T00:00:00",
          "2003-12-31T00:00:00",
          "2004-01-31T00:00:00",
          "2004-02-29T00:00:00",
          "2004-03-31T00:00:00",
          "2004-04-30T00:00:00",
          "2004-05-31T00:00:00",
          "2004-06-30T00:00:00",
          "2004-07-31T00:00:00",
          "2004-08-31T00:00:00",
          "2004-09-30T00:00:00",
          "2004-10-31T00:00:00",
          "2004-11-30T00:00:00",
          "2004-12-31T00:00:00",
          "2005-01-31T00:00:00",
          "2005-02-28T00:00:00",
          "2005-03-31T00:00:00",
          "2005-04-30T00:00:00",
          "2005-05-31T00:00:00",
          "2005-06-30T00:00:00",
          "2005-07-31T00:00:00",
          "2005-08-31T00:00:00",
          "2005-09-30T00:00:00",
          "2005-10-31T00:00:00",
          "2005-11-30T00:00:00",
          "2005-12-31T00:00:00",
          "2006-01-31T00:00:00",
          "2006-02-28T00:00:00",
          "2006-03-31T00:00:00",
          "2006-04-30T00:00:00",
          "2006-05-31T00:00:00",
          "2006-06-30T00:00:00",
          "2006-07-31T00:00:00",
          "2006-08-31T00:00:00",
          "2006-09-30T00:00:00",
          "2006-10-31T00:00:00",
          "2006-11-30T00:00:00",
          "2006-12-31T00:00:00",
          "2007-01-31T00:00:00",
          "2007-02-28T00:00:00",
          "2007-03-31T00:00:00",
          "2007-04-30T00:00:00",
          "2007-05-31T00:00:00",
          "2007-06-30T00:00:00",
          "2007-07-31T00:00:00",
          "2007-08-31T00:00:00",
          "2007-09-30T00:00:00",
          "2007-10-31T00:00:00",
          "2007-11-30T00:00:00",
          "2007-12-31T00:00:00",
          "2008-01-31T00:00:00",
          "2008-02-29T00:00:00",
          "2008-03-31T00:00:00",
          "2008-04-30T00:00:00",
          "2008-05-31T00:00:00",
          "2008-06-30T00:00:00",
          "2008-07-31T00:00:00",
          "2008-08-31T00:00:00",
          "2008-09-30T00:00:00",
          "2008-10-31T00:00:00",
          "2008-11-30T00:00:00",
          "2008-12-31T00:00:00",
          "2009-01-31T00:00:00",
          "2009-02-28T00:00:00",
          "2009-03-31T00:00:00",
          "2009-04-30T00:00:00",
          "2009-05-31T00:00:00",
          "2009-06-30T00:00:00",
          "2009-07-31T00:00:00",
          "2009-08-31T00:00:00",
          "2009-09-30T00:00:00",
          "2009-10-31T00:00:00",
          "2009-11-30T00:00:00",
          "2009-12-31T00:00:00",
          "2010-01-31T00:00:00",
          "2010-02-28T00:00:00",
          "2010-03-31T00:00:00",
          "2010-04-30T00:00:00",
          "2010-05-31T00:00:00",
          "2010-06-30T00:00:00",
          "2010-07-31T00:00:00",
          "2010-08-31T00:00:00",
          "2010-09-30T00:00:00",
          "2010-10-31T00:00:00",
          "2010-11-30T00:00:00",
          "2010-12-31T00:00:00",
          "2011-01-31T00:00:00",
          "2011-02-28T00:00:00",
          "2011-03-31T00:00:00",
          "2011-04-30T00:00:00",
          "2011-05-31T00:00:00",
          "2011-06-30T00:00:00",
          "2011-07-31T00:00:00",
          "2011-08-31T00:00:00",
          "2011-09-30T00:00:00",
          "2011-10-31T00:00:00",
          "2011-11-30T00:00:00",
          "2011-12-31T00:00:00",
          "2012-01-31T00:00:00",
          "2012-02-29T00:00:00",
          "2012-03-31T00:00:00",
          "2012-04-30T00:00:00",
          "2012-05-31T00:00:00",
          "2012-06-30T00:00:00",
          "2012-07-31T00:00:00",
          "2012-08-31T00:00:00",
          "2012-09-30T00:00:00",
          "2012-10-31T00:00:00",
          "2012-11-30T00:00:00",
          "2012-12-31T00:00:00",
          "2013-01-31T00:00:00",
          "2013-02-28T00:00:00",
          "2013-03-31T00:00:00",
          "2013-04-30T00:00:00",
          "2013-05-31T00:00:00",
          "2013-06-30T00:00:00",
          "2013-07-31T00:00:00",
          "2013-08-31T00:00:00",
          "2013-09-30T00:00:00",
          "2013-10-31T00:00:00",
          "2013-11-30T00:00:00",
          "2013-12-31T00:00:00",
          "2014-01-31T00:00:00",
          "2014-02-28T00:00:00",
          "2014-03-31T00:00:00",
          "2014-04-30T00:00:00",
          "2014-05-31T00:00:00",
          "2014-06-30T00:00:00",
          "2014-07-31T00:00:00",
          "2014-08-31T00:00:00",
          "2014-09-30T00:00:00",
          "2014-10-31T00:00:00",
          "2014-11-30T00:00:00",
          "2014-12-31T00:00:00",
          "2015-01-31T00:00:00",
          "2015-02-28T00:00:00",
          "2015-03-31T00:00:00",
          "2015-04-30T00:00:00",
          "2015-05-31T00:00:00",
          "2015-06-30T00:00:00",
          "2015-07-31T00:00:00",
          "2015-08-31T00:00:00",
          "2015-09-30T00:00:00",
          "2015-10-31T00:00:00",
          "2015-11-30T00:00:00",
          "2015-12-31T00:00:00",
          "2016-01-31T00:00:00",
          "2016-02-29T00:00:00",
          "2016-03-31T00:00:00",
          "2016-04-30T00:00:00",
          "2016-05-31T00:00:00",
          "2016-06-30T00:00:00",
          "2016-07-31T00:00:00",
          "2016-08-31T00:00:00",
          "2016-09-30T00:00:00",
          "2016-10-31T00:00:00",
          "2016-11-30T00:00:00",
          "2016-12-31T00:00:00",
          "2017-01-31T00:00:00",
          "2017-02-28T00:00:00",
          "2017-03-31T00:00:00",
          "2017-04-30T00:00:00",
          "2017-05-31T00:00:00",
          "2017-06-30T00:00:00",
          "2017-07-31T00:00:00",
          "2017-08-31T00:00:00",
          "2017-09-30T00:00:00",
          "2017-10-31T00:00:00",
          "2017-11-30T00:00:00",
          "2017-12-31T00:00:00",
          "2018-01-31T00:00:00",
          "2018-02-28T00:00:00",
          "2018-03-31T00:00:00",
          "2018-04-30T00:00:00",
          "2018-05-31T00:00:00",
          "2018-06-30T00:00:00",
          "2018-07-31T00:00:00",
          "2018-08-31T00:00:00",
          "2018-09-30T00:00:00",
          "2018-10-31T00:00:00",
          "2018-11-30T00:00:00",
          "2018-12-31T00:00:00",
          "2019-01-31T00:00:00",
          "2019-02-28T00:00:00",
          "2019-03-31T00:00:00",
          "2019-04-30T00:00:00",
          "2019-05-31T00:00:00",
          "2019-06-30T00:00:00",
          "2019-07-31T00:00:00",
          "2019-08-31T00:00:00",
          "2019-09-30T00:00:00",
          "2019-10-31T00:00:00",
          "2019-11-30T00:00:00",
          "2019-12-31T00:00:00",
          "2020-01-31T00:00:00",
          "2020-02-29T00:00:00",
          "2020-03-31T00:00:00",
          "2020-04-30T00:00:00",
          "2020-05-31T00:00:00",
          "2020-06-30T00:00:00",
          "2020-07-31T00:00:00",
          "2020-08-31T00:00:00",
          "2020-09-30T00:00:00",
          "2020-10-31T00:00:00",
          "2020-11-30T00:00:00",
          "2020-12-31T00:00:00",
          "2021-01-31T00:00:00",
          "2021-02-28T00:00:00",
          "2021-03-31T00:00:00",
          "2021-04-30T00:00:00",
          "2021-05-31T00:00:00",
          "2021-06-30T00:00:00",
          "2021-07-31T00:00:00",
          "2021-08-31T00:00:00",
          "2021-09-30T00:00:00",
          "2021-10-31T00:00:00",
          "2021-11-30T00:00:00",
          "2021-12-31T00:00:00",
          "2022-01-31T00:00:00",
          "2022-02-28T00:00:00",
          "2022-03-31T00:00:00",
          "2022-04-30T00:00:00",
          "2022-05-31T00:00:00",
          "2022-06-30T00:00:00",
          "2022-07-31T00:00:00",
          "2022-08-31T00:00:00",
          "2022-09-30T00:00:00",
          "2022-10-31T00:00:00",
          "2022-11-30T00:00:00",
          "2022-12-31T00:00:00",
          "2023-01-31T00:00:00",
          "2023-02-28T00:00:00",
          "2023-03-31T00:00:00",
          "2023-04-30T00:00:00",
          "2023-05-31T00:00:00",
          "2023-06-30T00:00:00",
          "2023-07-31T00:00:00",
          "2023-08-31T00:00:00",
          "2023-09-30T00:00:00",
          "2023-10-31T00:00:00"
         ],
         "y": [
          4.80791652799657,
          14.102320728348834,
          23.661130188323625,
          24.664402001243296,
          22.74022421354172,
          23.440170744259618,
          24.750286113701456,
          16.612954825307824,
          14.936003610888303,
          14.498605891232623,
          10.362194381022327,
          10.919992181557479,
          11.14403367576111,
          7.0181780246709184,
          -0.3552819506321308,
          -4.3061163923316865,
          -6.816633195551236,
          -7.993121377872057,
          -6.26431899871366,
          -1.0410303480000846,
          4.78623267983219,
          7.875564849321602,
          11.219236430283887,
          9.21944921658791,
          5.187313114068387,
          6.746822072834279,
          12.786407226917039,
          17.88960390215461,
          22.36247807155799,
          16.7022015923956,
          17.938592183072004,
          16.41373067913393,
          14.273214251373624,
          9.827771992280866,
          10.554496206698945,
          10.622660015800136,
          7.387629230721667,
          7.87813871141512,
          6.918345148117687,
          6.535500052705765,
          6.430066718816937,
          8.768199130517772,
          8.172344785862453,
          7.474134900188031,
          7.332400267833684,
          8.194735793613935,
          6.489707200099404,
          6.834945090944274,
          8.673140539914764,
          7.578871880448855,
          8.446674292682893,
          8.747050585572925,
          9.31425125308473,
          8.184040382421117,
          6.975451828051209,
          8.27769029790013,
          6.58931493748175,
          3.076543126586639,
          2.394930429483766,
          1.9200963981661003,
          0.6686393903913519,
          0.9470055546268824,
          1.0946210502782507,
          0.8103156971907991,
          0.7192419684864662,
          0.12681756852862638,
          -0.15577844814820901,
          -0.5778321155697341,
          0.5279566329256261,
          3.654400477342258,
          7.551217845283474,
          11.223929621586997,
          13.527863671260238,
          16.83444394818538,
          16.68880570963293,
          14.054524647210771,
          16.587245456389063,
          22.86957572869342,
          23.9793449683297,
          26.06925849286107,
          28.12773867764884,
          29.678498451356305,
          25.996477690906445,
          24.764163870761006,
          23.406461982359698,
          18.58801533648576,
          16.6820502969755,
          14.982076066823392,
          15.7952424187267,
          21.04747147275034,
          17.421410027369898,
          22.987416024429404,
          20.967951359235357,
          18.47014182448689,
          17.379986016656265,
          20.52081199290679,
          23.53651578687347,
          32.79638541709735,
          28.753536432131092,
          31.918983014665844,
          32.17357926269522,
          26.920680283058438,
          31.101761117349557,
          27.14963132936222,
          27.624590024782815,
          37.93177928357337,
          37.52922287263102,
          29.38954960534752,
          29.155517947873957,
          20.941476836601574,
          11.315756699892447,
          10.67303639725079,
          16.45988235842987,
          17.915166566452978,
          21.517293565526916,
          25.582663939822094,
          20.4138354481326,
          18.131474727372343,
          18.94114613951926,
          18.492077521152197,
          19.88528931701736,
          16.603978469873336,
          28.35238254653844,
          25.31618189804062,
          23.945235150366162,
          19.37331066023055,
          18.572460556799307,
          13.706590026083997,
          11.72057165791634,
          13.844575993270384,
          10.4188847333971,
          9.374611683389405,
          6.996179081566119,
          7.1456219950621565,
          12.688223885439536,
          10.933375539835565,
          6.468244991737673,
          -0.9279254655725833,
          -7.013553559561013,
          -3.293897316756488,
          -7.513478815802839,
          -18.108131382071385,
          -16.207792425536635,
          -13.592268859647582,
          -15.24253303740525,
          -14.87755208057103,
          -18.415036127671957,
          -21.743819503377527,
          -26.481791880803797,
          -12.966560121772227,
          -11.260025295013778,
          -14.42679514977667,
          -12.058109460553874,
          -4.120094582203167,
          -4.478256789508153,
          -2.7387412615038054,
          -3.1341430471261007,
          -8.442364990141728,
          -9.622219352362315,
          -12.975184325052439,
          -12.97647292203248,
          -13.593266141095341,
          -14.379164247301318,
          -15.85069307111152,
          -19.178960057591844,
          -22.74808645466189,
          -17.933401214006473,
          -12.454220209755198,
          -3.486347349089778,
          9.504222294523919,
          7.595743425295605,
          10.220772508763488,
          17.464895068417164,
          12.854645415469285,
          11.335909117858845,
          22.987971944160368,
          38.2849889426983,
          23.131376036143347,
          17.717151242625505,
          17.539529829844785,
          17.648843111948814,
          11.908347447394132,
          13.355982777807759,
          10.004581657346364,
          11.966679137019902,
          12.899372130987912,
          9.054753423914356,
          5.769672235749423,
          5.074340457556204,
          7.5890627848609284,
          5.144937837793306,
          5.252472173610113,
          3.237856516217945,
          7.771356854174041,
          8.225630165762515,
          10.847186173520935,
          6.481463367809837,
          4.904932690636088,
          4.346061604605015,
          8.64859192696873,
          8.755238671284541,
          7.220728175783696,
          7.132902803780991,
          6.704079000876389,
          7.890754863549583,
          3.9663709118473482,
          3.461569235398042,
          4.998292351741226,
          9.211059517811991,
          10.680739455977971,
          11.678159854583575,
          11.67043050087037,
          2.5256664572455034,
          2.073162105243763,
          7.151169167703213,
          11.396703895970557,
          9.781296113051601,
          12.357524229074096,
          13.196739618443674,
          11.717879189388366,
          11.606026280695657,
          8.078907478750239,
          6.018715627788803,
          3.7285631713167864,
          3.0492870157720398,
          1.3878026163991828,
          -2.6994994612477536,
          -6.236097618952786,
          -13.382439022525032,
          -12.262310770245989,
          -11.87192474157695,
          -17.207299992052604,
          -27.810537243033334,
          -44.4691046305354,
          -43.20587655475662,
          -38.356799013196074,
          -38.44226921657392,
          -25.946928735983363,
          -18.82941107232854,
          -30.15209232655208,
          -24.569805832658716,
          -23.89036520486162,
          -19.837103705066408,
          -4.56382119492163,
          12.943288616641329,
          23.830882324610187,
          28.26629347542575,
          24.199260704531774,
          46.18862584080379,
          35.40919418231021,
          12.422545734744906,
          14.383546299705333,
          10.77327739780079,
          14.089117665715964,
          5.28733020447562,
          6.4769155563670795,
          9.71042751903714,
          10.619619576186034,
          9.935894215255331,
          14.432432920470083,
          17.748449247326853,
          13.86002814700103,
          16.454785740663212,
          18.24142964084355,
          20.896332430184984,
          15.736746913597589,
          13.441874124978531,
          2.935291548118967,
          1.733251235438404,
          4.823964052019121,
          -0.2659524177635984,
          -0.6886999327981227,
          1.5393484027514208,
          5.309983875786273,
          2.5787063501680114,
          -0.8813617117186713,
          1.2879167902568134,
          4.708788395350437,
          9.499481008874367,
          16.90039025789097,
          13.692215964944012,
          12.475474560825914,
          11.921641017123575,
          12.249168875440285,
          10.58547508817548,
          10.59049478182448,
          10.474459348385986,
          14.48960048737045,
          13.849559473238667,
          16.46270460845674,
          12.832591228378922,
          12.518856974970001,
          13.226228407997048,
          15.295021765113933,
          16.988630526587617,
          13.624971600686903,
          13.296572994698248,
          13.229846565431387,
          13.043898302094345,
          12.608930535968447,
          14.518191606506068,
          13.105157020348303,
          15.09817143209922,
          14.239332686414727,
          14.456767058925639,
          13.096491375623051,
          12.111202121273644,
          11.245407478873648,
          10.530964286026673,
          9.800908475595163,
          9.51342583260996,
          8.276029064978127,
          6.858683978740794,
          6.850477594784304,
          3.720192406698088,
          1.1262716499665908,
          2.2517071564659825,
          0.9945712406095195,
          0.462526386709538,
          -0.8555774698164281,
          -3.8915205635333687,
          -2.289377695218022,
          -1.1123543687225066,
          -0.8048693939201801,
          0.9075103007655112,
          1.6615266895832022,
          4.593802971069329,
          7.386303930853218,
          5.219260822899633,
          5.385941896474949,
          6.543120320676063,
          10.343289547387863,
          14.932611112015456,
          14.24387024387104,
          13.67646587731106,
          14.060918641955194,
          14.7337771557592,
          14.379639623285234,
          13.373002281644212,
          13.926663579814342,
          16.29883917960521,
          17.190728611012,
          17.611265879722634,
          20.039263808566176,
          17.139846682315422,
          13.826055872875981,
          11.991895979474215,
          11.701625393789815,
          11.323186959535311,
          11.847683787442747,
          14.373438075864767,
          14.273024191011826,
          9.81424844514743,
          6.1119562659337845,
          -0.4361929912993601,
          -2.287078108217873,
          0.5533063544107212,
          3.699366207918637,
          6.992418312878237,
          4.104255734842593,
          5.484619956247294,
          5.498793449541131,
          3.1851380008390193,
          2.5836766284259753,
          6.562808882169902,
          9.541767645774325,
          17.466980640526977,
          18.251395938646557,
          11.693128616432123,
          0.9004503038319223,
          -0.6560996191916163,
          5.09768034460185,
          4.972256213713931,
          8.10138804467585,
          12.559914253956352,
          -13.469491881766485,
          6.079044267100388,
          12.936361576823838,
          14.965078227490025,
          12.181751502206632,
          19.24035435096966,
          25.337984145165567,
          29.1884683757171,
          31.590242145035013,
          28.643280984763486,
          27.841409085432208,
          37.19307402084351,
          52.30476784053544,
          46.33983234096938,
          27.77753166493602,
          24.261612737407102,
          19.71688802111701,
          13.119386262424955,
          13.943500718636,
          -1.6778592412875681,
          -2.353218682311729,
          -10.562242870016178,
          -6.425107646313206,
          -11.987775952383943,
          -13.587619050535334,
          -15.339936660697717,
          -10.857235320015612,
          -17.116254744666012,
          -8.589348630076902,
          -7.909889169411062,
          -6.767527835744311,
          -2.0530842725582596,
          0.10362513113492842,
          7.959878620701648,
          8.178456192739919,
          9.212131178729557,
          12.319986259622882
         ]
        },
        {
         "line": {
          "color": "lightgreen",
          "dash": "dot"
         },
         "mode": "lines",
         "name": "Future",
         "type": "scatter",
         "x": [
          "2023-10-31T00:00:00",
          "2023-11-30T00:00:00",
          "2023-12-31T00:00:00",
          "2024-01-31T00:00:00",
          "2024-02-29T00:00:00",
          "2024-03-31T00:00:00",
          "2024-04-30T00:00:00"
         ],
         "y": [
          12.319986259622882,
          8.566341524788399,
          7.003329145029513,
          7.152068600194847,
          7.159002658168768,
          6.41329800566862,
          5.244795382618056
         ]
        }
       ],
       "layout": {
        "height": 400,
        "hovermode": "x unified",
        "legend": {
         "orientation": "h",
         "x": 0,
         "xanchor": "left",
         "y": 0.05,
         "yanchor": "bottom"
        },
        "margin": {
         "b": 40,
         "l": 80,
         "r": 40,
         "t": 80
        },
        "template": {
         "data": {
          "bar": [
           {
            "error_x": {
             "color": "#f2f5fa"
            },
            "error_y": {
             "color": "#f2f5fa"
            },
            "marker": {
             "line": {
              "color": "rgb(17,17,17)",
              "width": 0.5
             },
             "pattern": {
              "fillmode": "overlay",
              "size": 10,
              "solidity": 0.2
             }
            },
            "type": "bar"
           }
          ],
          "barpolar": [
           {
            "marker": {
             "line": {
              "color": "rgb(17,17,17)",
              "width": 0.5
             },
             "pattern": {
              "fillmode": "overlay",
              "size": 10,
              "solidity": 0.2
             }
            },
            "type": "barpolar"
           }
          ],
          "carpet": [
           {
            "aaxis": {
             "endlinecolor": "#A2B1C6",
             "gridcolor": "#506784",
             "linecolor": "#506784",
             "minorgridcolor": "#506784",
             "startlinecolor": "#A2B1C6"
            },
            "baxis": {
             "endlinecolor": "#A2B1C6",
             "gridcolor": "#506784",
             "linecolor": "#506784",
             "minorgridcolor": "#506784",
             "startlinecolor": "#A2B1C6"
            },
            "type": "carpet"
           }
          ],
          "choropleth": [
           {
            "colorbar": {
             "outlinewidth": 0,
             "ticks": ""
            },
            "type": "choropleth"
           }
          ],
          "contour": [
           {
            "colorbar": {
             "outlinewidth": 0,
             "ticks": ""
            },
            "colorscale": [
             [
              0,
              "#0d0887"
             ],
             [
              0.1111111111111111,
              "#46039f"
             ],
             [
              0.2222222222222222,
              "#7201a8"
             ],
             [
              0.3333333333333333,
              "#9c179e"
             ],
             [
              0.4444444444444444,
              "#bd3786"
             ],
             [
              0.5555555555555556,
              "#d8576b"
             ],
             [
              0.6666666666666666,
              "#ed7953"
             ],
             [
              0.7777777777777778,
              "#fb9f3a"
             ],
             [
              0.8888888888888888,
              "#fdca26"
             ],
             [
              1,
              "#f0f921"
             ]
            ],
            "type": "contour"
           }
          ],
          "contourcarpet": [
           {
            "colorbar": {
             "outlinewidth": 0,
             "ticks": ""
            },
            "type": "contourcarpet"
           }
          ],
          "heatmap": [
           {
            "colorbar": {
             "outlinewidth": 0,
             "ticks": ""
            },
            "colorscale": [
             [
              0,
              "#0d0887"
             ],
             [
              0.1111111111111111,
              "#46039f"
             ],
             [
              0.2222222222222222,
              "#7201a8"
             ],
             [
              0.3333333333333333,
              "#9c179e"
             ],
             [
              0.4444444444444444,
              "#bd3786"
             ],
             [
              0.5555555555555556,
              "#d8576b"
             ],
             [
              0.6666666666666666,
              "#ed7953"
             ],
             [
              0.7777777777777778,
              "#fb9f3a"
             ],
             [
              0.8888888888888888,
              "#fdca26"
             ],
             [
              1,
              "#f0f921"
             ]
            ],
            "type": "heatmap"
           }
          ],
          "heatmapgl": [
           {
            "colorbar": {
             "outlinewidth": 0,
             "ticks": ""
            },
            "colorscale": [
             [
              0,
              "#0d0887"
             ],
             [
              0.1111111111111111,
              "#46039f"
             ],
             [
              0.2222222222222222,
              "#7201a8"
             ],
             [
              0.3333333333333333,
              "#9c179e"
             ],
             [
              0.4444444444444444,
              "#bd3786"
             ],
             [
              0.5555555555555556,
              "#d8576b"
             ],
             [
              0.6666666666666666,
              "#ed7953"
             ],
             [
              0.7777777777777778,
              "#fb9f3a"
             ],
             [
              0.8888888888888888,
              "#fdca26"
             ],
             [
              1,
              "#f0f921"
             ]
            ],
            "type": "heatmapgl"
           }
          ],
          "histogram": [
           {
            "marker": {
             "pattern": {
              "fillmode": "overlay",
              "size": 10,
              "solidity": 0.2
             }
            },
            "type": "histogram"
           }
          ],
          "histogram2d": [
           {
            "colorbar": {
             "outlinewidth": 0,
             "ticks": ""
            },
            "colorscale": [
             [
              0,
              "#0d0887"
             ],
             [
              0.1111111111111111,
              "#46039f"
             ],
             [
              0.2222222222222222,
              "#7201a8"
             ],
             [
              0.3333333333333333,
              "#9c179e"
             ],
             [
              0.4444444444444444,
              "#bd3786"
             ],
             [
              0.5555555555555556,
              "#d8576b"
             ],
             [
              0.6666666666666666,
              "#ed7953"
             ],
             [
              0.7777777777777778,
              "#fb9f3a"
             ],
             [
              0.8888888888888888,
              "#fdca26"
             ],
             [
              1,
              "#f0f921"
             ]
            ],
            "type": "histogram2d"
           }
          ],
          "histogram2dcontour": [
           {
            "colorbar": {
             "outlinewidth": 0,
             "ticks": ""
            },
            "colorscale": [
             [
              0,
              "#0d0887"
             ],
             [
              0.1111111111111111,
              "#46039f"
             ],
             [
              0.2222222222222222,
              "#7201a8"
             ],
             [
              0.3333333333333333,
              "#9c179e"
             ],
             [
              0.4444444444444444,
              "#bd3786"
             ],
             [
              0.5555555555555556,
              "#d8576b"
             ],
             [
              0.6666666666666666,
              "#ed7953"
             ],
             [
              0.7777777777777778,
              "#fb9f3a"
             ],
             [
              0.8888888888888888,
              "#fdca26"
             ],
             [
              1,
              "#f0f921"
             ]
            ],
            "type": "histogram2dcontour"
           }
          ],
          "mesh3d": [
           {
            "colorbar": {
             "outlinewidth": 0,
             "ticks": ""
            },
            "type": "mesh3d"
           }
          ],
          "parcoords": [
           {
            "line": {
             "colorbar": {
              "outlinewidth": 0,
              "ticks": ""
             }
            },
            "type": "parcoords"
           }
          ],
          "pie": [
           {
            "automargin": true,
            "type": "pie"
           }
          ],
          "scatter": [
           {
            "marker": {
             "line": {
              "color": "#283442"
             }
            },
            "type": "scatter"
           }
          ],
          "scatter3d": [
           {
            "line": {
             "colorbar": {
              "outlinewidth": 0,
              "ticks": ""
             }
            },
            "marker": {
             "colorbar": {
              "outlinewidth": 0,
              "ticks": ""
             }
            },
            "type": "scatter3d"
           }
          ],
          "scattercarpet": [
           {
            "marker": {
             "colorbar": {
              "outlinewidth": 0,
              "ticks": ""
             }
            },
            "type": "scattercarpet"
           }
          ],
          "scattergeo": [
           {
            "marker": {
             "colorbar": {
              "outlinewidth": 0,
              "ticks": ""
             }
            },
            "type": "scattergeo"
           }
          ],
          "scattergl": [
           {
            "marker": {
             "line": {
              "color": "#283442"
             }
            },
            "type": "scattergl"
           }
          ],
          "scattermapbox": [
           {
            "marker": {
             "colorbar": {
              "outlinewidth": 0,
              "ticks": ""
             }
            },
            "type": "scattermapbox"
           }
          ],
          "scatterpolar": [
           {
            "marker": {
             "colorbar": {
              "outlinewidth": 0,
              "ticks": ""
             }
            },
            "type": "scatterpolar"
           }
          ],
          "scatterpolargl": [
           {
            "marker": {
             "colorbar": {
              "outlinewidth": 0,
              "ticks": ""
             }
            },
            "type": "scatterpolargl"
           }
          ],
          "scatterternary": [
           {
            "marker": {
             "colorbar": {
              "outlinewidth": 0,
              "ticks": ""
             }
            },
            "type": "scatterternary"
           }
          ],
          "surface": [
           {
            "colorbar": {
             "outlinewidth": 0,
             "ticks": ""
            },
            "colorscale": [
             [
              0,
              "#0d0887"
             ],
             [
              0.1111111111111111,
              "#46039f"
             ],
             [
              0.2222222222222222,
              "#7201a8"
             ],
             [
              0.3333333333333333,
              "#9c179e"
             ],
             [
              0.4444444444444444,
              "#bd3786"
             ],
             [
              0.5555555555555556,
              "#d8576b"
             ],
             [
              0.6666666666666666,
              "#ed7953"
             ],
             [
              0.7777777777777778,
              "#fb9f3a"
             ],
             [
              0.8888888888888888,
              "#fdca26"
             ],
             [
              1,
              "#f0f921"
             ]
            ],
            "type": "surface"
           }
          ],
          "table": [
           {
            "cells": {
             "fill": {
              "color": "#506784"
             },
             "line": {
              "color": "rgb(17,17,17)"
             }
            },
            "header": {
             "fill": {
              "color": "#2a3f5f"
             },
             "line": {
              "color": "rgb(17,17,17)"
             }
            },
            "type": "table"
           }
          ]
         },
         "layout": {
          "annotationdefaults": {
           "arrowcolor": "#f2f5fa",
           "arrowhead": 0,
           "arrowwidth": 1
          },
          "autotypenumbers": "strict",
          "coloraxis": {
           "colorbar": {
            "outlinewidth": 0,
            "ticks": ""
           }
          },
          "colorscale": {
           "diverging": [
            [
             0,
             "#8e0152"
            ],
            [
             0.1,
             "#c51b7d"
            ],
            [
             0.2,
             "#de77ae"
            ],
            [
             0.3,
             "#f1b6da"
            ],
            [
             0.4,
             "#fde0ef"
            ],
            [
             0.5,
             "#f7f7f7"
            ],
            [
             0.6,
             "#e6f5d0"
            ],
            [
             0.7,
             "#b8e186"
            ],
            [
             0.8,
             "#7fbc41"
            ],
            [
             0.9,
             "#4d9221"
            ],
            [
             1,
             "#276419"
            ]
           ],
           "sequential": [
            [
             0,
             "#0d0887"
            ],
            [
             0.1111111111111111,
             "#46039f"
            ],
            [
             0.2222222222222222,
             "#7201a8"
            ],
            [
             0.3333333333333333,
             "#9c179e"
            ],
            [
             0.4444444444444444,
             "#bd3786"
            ],
            [
             0.5555555555555556,
             "#d8576b"
            ],
            [
             0.6666666666666666,
             "#ed7953"
            ],
            [
             0.7777777777777778,
             "#fb9f3a"
            ],
            [
             0.8888888888888888,
             "#fdca26"
            ],
            [
             1,
             "#f0f921"
            ]
           ],
           "sequentialminus": [
            [
             0,
             "#0d0887"
            ],
            [
             0.1111111111111111,
             "#46039f"
            ],
            [
             0.2222222222222222,
             "#7201a8"
            ],
            [
             0.3333333333333333,
             "#9c179e"
            ],
            [
             0.4444444444444444,
             "#bd3786"
            ],
            [
             0.5555555555555556,
             "#d8576b"
            ],
            [
             0.6666666666666666,
             "#ed7953"
            ],
            [
             0.7777777777777778,
             "#fb9f3a"
            ],
            [
             0.8888888888888888,
             "#fdca26"
            ],
            [
             1,
             "#f0f921"
            ]
           ]
          },
          "colorway": [
           "#636efa",
           "#EF553B",
           "#00cc96",
           "#ab63fa",
           "#FFA15A",
           "#19d3f3",
           "#FF6692",
           "#B6E880",
           "#FF97FF",
           "#FECB52"
          ],
          "font": {
           "color": "#f2f5fa"
          },
          "geo": {
           "bgcolor": "rgb(17,17,17)",
           "lakecolor": "rgb(17,17,17)",
           "landcolor": "rgb(17,17,17)",
           "showlakes": true,
           "showland": true,
           "subunitcolor": "#506784"
          },
          "hoverlabel": {
           "align": "left"
          },
          "hovermode": "closest",
          "mapbox": {
           "style": "dark"
          },
          "paper_bgcolor": "rgb(17,17,17)",
          "plot_bgcolor": "rgb(17,17,17)",
          "polar": {
           "angularaxis": {
            "gridcolor": "#506784",
            "linecolor": "#506784",
            "ticks": ""
           },
           "bgcolor": "rgb(17,17,17)",
           "radialaxis": {
            "gridcolor": "#506784",
            "linecolor": "#506784",
            "ticks": ""
           }
          },
          "scene": {
           "xaxis": {
            "backgroundcolor": "rgb(17,17,17)",
            "gridcolor": "#506784",
            "gridwidth": 2,
            "linecolor": "#506784",
            "showbackground": true,
            "ticks": "",
            "zerolinecolor": "#C8D4E3"
           },
           "yaxis": {
            "backgroundcolor": "rgb(17,17,17)",
            "gridcolor": "#506784",
            "gridwidth": 2,
            "linecolor": "#506784",
            "showbackground": true,
            "ticks": "",
            "zerolinecolor": "#C8D4E3"
           },
           "zaxis": {
            "backgroundcolor": "rgb(17,17,17)",
            "gridcolor": "#506784",
            "gridwidth": 2,
            "linecolor": "#506784",
            "showbackground": true,
            "ticks": "",
            "zerolinecolor": "#C8D4E3"
           }
          },
          "shapedefaults": {
           "line": {
            "color": "#f2f5fa"
           }
          },
          "sliderdefaults": {
           "bgcolor": "#C8D4E3",
           "bordercolor": "rgb(17,17,17)",
           "borderwidth": 1,
           "tickwidth": 0
          },
          "ternary": {
           "aaxis": {
            "gridcolor": "#506784",
            "linecolor": "#506784",
            "ticks": ""
           },
           "baxis": {
            "gridcolor": "#506784",
            "linecolor": "#506784",
            "ticks": ""
           },
           "bgcolor": "rgb(17,17,17)",
           "caxis": {
            "gridcolor": "#506784",
            "linecolor": "#506784",
            "ticks": ""
           }
          },
          "title": {
           "x": 0.05
          },
          "updatemenudefaults": {
           "bgcolor": "#506784",
           "borderwidth": 0
          },
          "xaxis": {
           "automargin": true,
           "gridcolor": "#283442",
           "linecolor": "#506784",
           "ticks": "",
           "title": {
            "standoff": 15
           },
           "zerolinecolor": "#283442",
           "zerolinewidth": 2
          },
          "yaxis": {
           "automargin": true,
           "gridcolor": "#283442",
           "linecolor": "#506784",
           "ticks": "",
           "title": {
            "standoff": 15
           },
           "zerolinecolor": "#283442",
           "zerolinewidth": 2
          }
         }
        },
        "title": {
         "text": "Prediction of %YoY S&P500 in 6-Month Based on Current Data<br><span style=\"font-size: 12.5px; color: lightgrey;\"> --Model predicts 1-month moving averaged target prices</span>"
        },
        "width": 700
       }
      }
     },
     "metadata": {},
     "output_type": "display_data"
    },
    {
     "data": {
      "application/vnd.plotly.v1+json": {
       "config": {
        "plotlyServerURL": "https://plot.ly"
       },
       "data": [
        {
         "hoverinfo": "name+y+text",
         "marker": {
          "color": "red",
          "opacity": 0.5
         },
         "mode": "markers",
         "name": "Error",
         "text": [
          "Date: Jul 1989",
          "Date: Aug 1989",
          "Date: Sep 1989",
          "Date: Oct 1989",
          "Date: Nov 1989",
          "Date: Dec 1989",
          "Date: Jan 1990",
          "Date: Feb 1990",
          "Date: Mar 1990",
          "Date: Apr 1990",
          "Date: May 1990",
          "Date: Jun 1990",
          "Date: Jul 1990",
          "Date: Aug 1990",
          "Date: Sep 1990",
          "Date: Oct 1990",
          "Date: Nov 1990",
          "Date: Dec 1990",
          "Date: Jan 1991",
          "Date: Feb 1991",
          "Date: Mar 1991",
          "Date: Apr 1991",
          "Date: May 1991",
          "Date: Jun 1991",
          "Date: Jul 1991",
          "Date: Aug 1991",
          "Date: Sep 1991",
          "Date: Oct 1991",
          "Date: Nov 1991",
          "Date: Dec 1991",
          "Date: Jan 1992",
          "Date: Feb 1992",
          "Date: Mar 1992",
          "Date: Apr 1992",
          "Date: May 1992",
          "Date: Jun 1992",
          "Date: Jul 1992",
          "Date: Aug 1992",
          "Date: Sep 1992",
          "Date: Oct 1992",
          "Date: Nov 1992",
          "Date: Dec 1992",
          "Date: Jan 1993",
          "Date: Feb 1993",
          "Date: Mar 1993",
          "Date: Apr 1993",
          "Date: May 1993",
          "Date: Jun 1993",
          "Date: Jul 1993",
          "Date: Aug 1993",
          "Date: Sep 1993",
          "Date: Oct 1993",
          "Date: Nov 1993",
          "Date: Dec 1993",
          "Date: Jan 1994",
          "Date: Feb 1994",
          "Date: Mar 1994",
          "Date: Apr 1994",
          "Date: May 1994",
          "Date: Jun 1994",
          "Date: Jul 1994",
          "Date: Aug 1994",
          "Date: Sep 1994",
          "Date: Oct 1994",
          "Date: Nov 1994",
          "Date: Dec 1994",
          "Date: Jan 1995",
          "Date: Feb 1995",
          "Date: Mar 1995",
          "Date: Apr 1995",
          "Date: May 1995",
          "Date: Jun 1995",
          "Date: Jul 1995",
          "Date: Aug 1995",
          "Date: Sep 1995",
          "Date: Oct 1995",
          "Date: Nov 1995",
          "Date: Dec 1995",
          "Date: Jan 1996",
          "Date: Feb 1996",
          "Date: Mar 1996",
          "Date: Apr 1996",
          "Date: May 1996",
          "Date: Jun 1996",
          "Date: Jul 1996",
          "Date: Aug 1996",
          "Date: Sep 1996",
          "Date: Oct 1996",
          "Date: Nov 1996",
          "Date: Dec 1996",
          "Date: Jan 1997",
          "Date: Feb 1997",
          "Date: Mar 1997",
          "Date: Apr 1997",
          "Date: May 1997",
          "Date: Jun 1997",
          "Date: Jul 1997",
          "Date: Aug 1997",
          "Date: Sep 1997",
          "Date: Oct 1997",
          "Date: Nov 1997",
          "Date: Dec 1997",
          "Date: Jan 1998",
          "Date: Feb 1998",
          "Date: Mar 1998",
          "Date: Apr 1998",
          "Date: May 1998",
          "Date: Jun 1998",
          "Date: Jul 1998",
          "Date: Aug 1998",
          "Date: Sep 1998",
          "Date: Oct 1998",
          "Date: Nov 1998",
          "Date: Dec 1998",
          "Date: Jan 1999",
          "Date: Feb 1999",
          "Date: Mar 1999",
          "Date: Apr 1999",
          "Date: May 1999",
          "Date: Jun 1999",
          "Date: Jul 1999",
          "Date: Aug 1999",
          "Date: Sep 1999",
          "Date: Oct 1999",
          "Date: Nov 1999",
          "Date: Dec 1999",
          "Date: Jan 2000",
          "Date: Feb 2000",
          "Date: Mar 2000",
          "Date: Apr 2000",
          "Date: May 2000",
          "Date: Jun 2000",
          "Date: Jul 2000",
          "Date: Aug 2000",
          "Date: Sep 2000",
          "Date: Oct 2000",
          "Date: Nov 2000",
          "Date: Dec 2000",
          "Date: Jan 2001",
          "Date: Feb 2001",
          "Date: Mar 2001",
          "Date: Apr 2001",
          "Date: May 2001",
          "Date: Jun 2001",
          "Date: Jul 2001",
          "Date: Aug 2001",
          "Date: Sep 2001",
          "Date: Oct 2001",
          "Date: Nov 2001",
          "Date: Dec 2001",
          "Date: Jan 2002",
          "Date: Feb 2002",
          "Date: Mar 2002",
          "Date: Apr 2002",
          "Date: May 2002",
          "Date: Jun 2002",
          "Date: Jul 2002",
          "Date: Aug 2002",
          "Date: Sep 2002",
          "Date: Oct 2002",
          "Date: Nov 2002",
          "Date: Dec 2002",
          "Date: Jan 2003",
          "Date: Feb 2003",
          "Date: Mar 2003",
          "Date: Apr 2003",
          "Date: May 2003",
          "Date: Jun 2003",
          "Date: Jul 2003",
          "Date: Aug 2003",
          "Date: Sep 2003",
          "Date: Oct 2003",
          "Date: Nov 2003",
          "Date: Dec 2003",
          "Date: Jan 2004",
          "Date: Feb 2004",
          "Date: Mar 2004",
          "Date: Apr 2004",
          "Date: May 2004",
          "Date: Jun 2004",
          "Date: Jul 2004",
          "Date: Aug 2004",
          "Date: Sep 2004",
          "Date: Oct 2004",
          "Date: Nov 2004",
          "Date: Dec 2004",
          "Date: Jan 2005",
          "Date: Feb 2005",
          "Date: Mar 2005",
          "Date: Apr 2005",
          "Date: May 2005",
          "Date: Jun 2005",
          "Date: Jul 2005",
          "Date: Aug 2005",
          "Date: Sep 2005",
          "Date: Oct 2005",
          "Date: Nov 2005",
          "Date: Dec 2005",
          "Date: Jan 2006",
          "Date: Feb 2006",
          "Date: Mar 2006",
          "Date: Apr 2006",
          "Date: May 2006",
          "Date: Jun 2006",
          "Date: Jul 2006",
          "Date: Aug 2006",
          "Date: Sep 2006",
          "Date: Oct 2006",
          "Date: Nov 2006",
          "Date: Dec 2006",
          "Date: Jan 2007",
          "Date: Feb 2007",
          "Date: Mar 2007",
          "Date: Apr 2007",
          "Date: May 2007",
          "Date: Jun 2007",
          "Date: Jul 2007",
          "Date: Aug 2007",
          "Date: Sep 2007",
          "Date: Oct 2007",
          "Date: Nov 2007",
          "Date: Dec 2007",
          "Date: Jan 2008",
          "Date: Feb 2008",
          "Date: Mar 2008",
          "Date: Apr 2008",
          "Date: May 2008",
          "Date: Jun 2008",
          "Date: Jul 2008",
          "Date: Aug 2008",
          "Date: Sep 2008",
          "Date: Oct 2008",
          "Date: Nov 2008",
          "Date: Dec 2008",
          "Date: Jan 2009",
          "Date: Feb 2009",
          "Date: Mar 2009",
          "Date: Apr 2009",
          "Date: May 2009",
          "Date: Jun 2009",
          "Date: Jul 2009",
          "Date: Aug 2009",
          "Date: Sep 2009",
          "Date: Oct 2009",
          "Date: Nov 2009",
          "Date: Dec 2009",
          "Date: Jan 2010",
          "Date: Feb 2010",
          "Date: Mar 2010",
          "Date: Apr 2010",
          "Date: May 2010",
          "Date: Jun 2010",
          "Date: Jul 2010",
          "Date: Aug 2010",
          "Date: Sep 2010",
          "Date: Oct 2010",
          "Date: Nov 2010",
          "Date: Dec 2010",
          "Date: Jan 2011",
          "Date: Feb 2011",
          "Date: Mar 2011",
          "Date: Apr 2011",
          "Date: May 2011",
          "Date: Jun 2011",
          "Date: Jul 2011",
          "Date: Aug 2011",
          "Date: Sep 2011",
          "Date: Oct 2011",
          "Date: Nov 2011",
          "Date: Dec 2011",
          "Date: Jan 2012",
          "Date: Feb 2012",
          "Date: Mar 2012",
          "Date: Apr 2012",
          "Date: May 2012",
          "Date: Jun 2012",
          "Date: Jul 2012",
          "Date: Aug 2012",
          "Date: Sep 2012",
          "Date: Oct 2012",
          "Date: Nov 2012",
          "Date: Dec 2012",
          "Date: Jan 2013",
          "Date: Feb 2013",
          "Date: Mar 2013",
          "Date: Apr 2013",
          "Date: May 2013",
          "Date: Jun 2013",
          "Date: Jul 2013",
          "Date: Aug 2013",
          "Date: Sep 2013",
          "Date: Oct 2013",
          "Date: Nov 2013",
          "Date: Dec 2013",
          "Date: Jan 2014",
          "Date: Feb 2014",
          "Date: Mar 2014",
          "Date: Apr 2014",
          "Date: May 2014",
          "Date: Jun 2014",
          "Date: Jul 2014",
          "Date: Aug 2014",
          "Date: Sep 2014",
          "Date: Oct 2014",
          "Date: Nov 2014",
          "Date: Dec 2014",
          "Date: Jan 2015",
          "Date: Feb 2015",
          "Date: Mar 2015",
          "Date: Apr 2015",
          "Date: May 2015",
          "Date: Jun 2015",
          "Date: Jul 2015",
          "Date: Aug 2015",
          "Date: Sep 2015",
          "Date: Oct 2015",
          "Date: Nov 2015",
          "Date: Dec 2015",
          "Date: Jan 2016",
          "Date: Feb 2016",
          "Date: Mar 2016",
          "Date: Apr 2016",
          "Date: May 2016",
          "Date: Jun 2016",
          "Date: Jul 2016",
          "Date: Aug 2016",
          "Date: Sep 2016",
          "Date: Oct 2016",
          "Date: Nov 2016",
          "Date: Dec 2016",
          "Date: Jan 2017",
          "Date: Feb 2017",
          "Date: Mar 2017",
          "Date: Apr 2017",
          "Date: May 2017",
          "Date: Jun 2017",
          "Date: Jul 2017",
          "Date: Aug 2017",
          "Date: Sep 2017",
          "Date: Oct 2017",
          "Date: Nov 2017",
          "Date: Dec 2017",
          "Date: Jan 2018",
          "Date: Feb 2018",
          "Date: Mar 2018",
          "Date: Apr 2018",
          "Date: May 2018",
          "Date: Jun 2018",
          "Date: Jul 2018",
          "Date: Aug 2018",
          "Date: Sep 2018",
          "Date: Oct 2018",
          "Date: Nov 2018",
          "Date: Dec 2018",
          "Date: Jan 2019",
          "Date: Feb 2019",
          "Date: Mar 2019",
          "Date: Apr 2019",
          "Date: May 2019",
          "Date: Jun 2019",
          "Date: Jul 2019",
          "Date: Aug 2019",
          "Date: Sep 2019",
          "Date: Oct 2019",
          "Date: Nov 2019",
          "Date: Dec 2019",
          "Date: Jan 2020",
          "Date: Feb 2020",
          "Date: Mar 2020",
          "Date: Apr 2020",
          "Date: May 2020",
          "Date: Jun 2020",
          "Date: Jul 2020",
          "Date: Aug 2020",
          "Date: Sep 2020",
          "Date: Oct 2020",
          "Date: Nov 2020",
          "Date: Dec 2020",
          "Date: Jan 2021",
          "Date: Feb 2021",
          "Date: Mar 2021",
          "Date: Apr 2021",
          "Date: May 2021",
          "Date: Jun 2021",
          "Date: Jul 2021",
          "Date: Aug 2021",
          "Date: Sep 2021",
          "Date: Oct 2021",
          "Date: Nov 2021",
          "Date: Dec 2021",
          "Date: Jan 2022",
          "Date: Feb 2022",
          "Date: Mar 2022",
          "Date: Apr 2022",
          "Date: May 2022",
          "Date: Jun 2022",
          "Date: Jul 2022",
          "Date: Aug 2022",
          "Date: Sep 2022",
          "Date: Oct 2022",
          "Date: Nov 2022",
          "Date: Dec 2022",
          "Date: Jan 2023",
          "Date: Feb 2023",
          "Date: Mar 2023",
          "Date: Apr 2023",
          "Date: May 2023",
          "Date: Jun 2023",
          "Date: Jul 2023",
          "Date: Aug 2023",
          "Date: Sep 2023",
          "Date: Oct 2023"
         ],
         "type": "scatter",
         "x": [
          0,
          0.3333333333333333,
          0.6666666666666666,
          1,
          1.3333333333333333,
          1.6666666666666667,
          2,
          2.3333333333333335,
          2.6666666666666665,
          3,
          3.3333333333333335,
          3.6666666666666665,
          4,
          4.333333333333333,
          4.666666666666667,
          5,
          5.333333333333333,
          5.666666666666667,
          6,
          6.333333333333333,
          6.666666666666667,
          7,
          7.333333333333333,
          7.666666666666667,
          8,
          8.333333333333334,
          8.666666666666666,
          9,
          9.333333333333334,
          9.666666666666666,
          10,
          10.333333333333334,
          10.666666666666666,
          11,
          11.333333333333334,
          11.666666666666666,
          12,
          12.333333333333334,
          12.666666666666666,
          13,
          13.333333333333334,
          13.666666666666666,
          14,
          14.333333333333334,
          14.666666666666666,
          15,
          15.333333333333334,
          15.666666666666666,
          16,
          16.333333333333332,
          16.666666666666668,
          17,
          17.333333333333332,
          17.666666666666668,
          18,
          18.333333333333332,
          18.666666666666668,
          19,
          19.333333333333332,
          19.666666666666668,
          20,
          20.333333333333332,
          20.666666666666668,
          21,
          21.333333333333332,
          21.666666666666668,
          22,
          22.333333333333332,
          22.666666666666668,
          23,
          23.333333333333332,
          23.666666666666668,
          24,
          24.333333333333332,
          24.666666666666668,
          25,
          25.333333333333332,
          25.666666666666668,
          26,
          26.333333333333332,
          26.666666666666668,
          27,
          27.333333333333332,
          27.666666666666668,
          28,
          28.333333333333332,
          28.666666666666668,
          29,
          29.333333333333332,
          29.666666666666668,
          30,
          30.333333333333332,
          30.666666666666668,
          31,
          31.333333333333332,
          31.666666666666668,
          32,
          32.333333333333336,
          32.666666666666664,
          33,
          33.333333333333336,
          33.666666666666664,
          34,
          34.333333333333336,
          34.666666666666664,
          35,
          35.333333333333336,
          35.666666666666664,
          36,
          36.333333333333336,
          36.666666666666664,
          37,
          37.333333333333336,
          37.666666666666664,
          38,
          38.333333333333336,
          38.666666666666664,
          39,
          39.333333333333336,
          39.666666666666664,
          40,
          40.333333333333336,
          40.666666666666664,
          41,
          41.333333333333336,
          41.666666666666664,
          42,
          42.333333333333336,
          42.666666666666664,
          43,
          43.333333333333336,
          43.666666666666664,
          44,
          44.333333333333336,
          44.666666666666664,
          45,
          45.333333333333336,
          45.666666666666664,
          46,
          46.333333333333336,
          46.666666666666664,
          47,
          47.333333333333336,
          47.666666666666664,
          48,
          48.333333333333336,
          48.666666666666664,
          49,
          49.333333333333336,
          49.666666666666664,
          50,
          50.333333333333336,
          50.666666666666664,
          51,
          51.333333333333336,
          51.666666666666664,
          52,
          52.333333333333336,
          52.666666666666664,
          53,
          53.333333333333336,
          53.666666666666664,
          54,
          54.333333333333336,
          54.666666666666664,
          55,
          55.333333333333336,
          55.666666666666664,
          56,
          56.333333333333336,
          56.666666666666664,
          57,
          57.333333333333336,
          57.666666666666664,
          58,
          58.333333333333336,
          58.666666666666664,
          59,
          59.333333333333336,
          59.666666666666664,
          60,
          60.333333333333336,
          60.666666666666664,
          61,
          61.333333333333336,
          61.666666666666664,
          62,
          62.333333333333336,
          62.666666666666664,
          63,
          63.333333333333336,
          63.666666666666664,
          64,
          64.33333333333333,
          64.66666666666667,
          65,
          65.33333333333333,
          65.66666666666667,
          66,
          66.33333333333333,
          66.66666666666667,
          67,
          67.33333333333333,
          67.66666666666667,
          68,
          68.33333333333333,
          68.66666666666667,
          69,
          69.33333333333333,
          69.66666666666667,
          70,
          70.33333333333333,
          70.66666666666667,
          71,
          71.33333333333333,
          71.66666666666667,
          72,
          72.33333333333333,
          72.66666666666667,
          73,
          73.33333333333333,
          73.66666666666667,
          74,
          74.33333333333333,
          74.66666666666667,
          75,
          75.33333333333333,
          75.66666666666667,
          76,
          76.33333333333333,
          76.66666666666667,
          77,
          77.33333333333333,
          77.66666666666667,
          78,
          78.33333333333333,
          78.66666666666667,
          79,
          79.33333333333333,
          79.66666666666667,
          80,
          80.33333333333333,
          80.66666666666667,
          81,
          81.33333333333333,
          81.66666666666667,
          82,
          82.33333333333333,
          82.66666666666667,
          83,
          83.33333333333333,
          83.66666666666667,
          84,
          84.33333333333333,
          84.66666666666667,
          85,
          85.33333333333333,
          85.66666666666667,
          86,
          86.33333333333333,
          86.66666666666667,
          87,
          87.33333333333333,
          87.66666666666667,
          88,
          88.33333333333333,
          88.66666666666667,
          89,
          89.33333333333333,
          89.66666666666667,
          90,
          90.33333333333333,
          90.66666666666667,
          91,
          91.33333333333333,
          91.66666666666667,
          92,
          92.33333333333333,
          92.66666666666667,
          93,
          93.33333333333333,
          93.66666666666667,
          94,
          94.33333333333333,
          94.66666666666667,
          95,
          95.33333333333333,
          95.66666666666667,
          96,
          96.33333333333333,
          96.66666666666667,
          97,
          97.33333333333333,
          97.66666666666667,
          98,
          98.33333333333333,
          98.66666666666667,
          99,
          99.33333333333333,
          99.66666666666667,
          100,
          100.33333333333333,
          100.66666666666667,
          101,
          101.33333333333333,
          101.66666666666667,
          102,
          102.33333333333333,
          102.66666666666667,
          103,
          103.33333333333333,
          103.66666666666667,
          104,
          104.33333333333333,
          104.66666666666667,
          105,
          105.33333333333333,
          105.66666666666667,
          106,
          106.33333333333333,
          106.66666666666667,
          107,
          107.33333333333333,
          107.66666666666667,
          108,
          108.33333333333333,
          108.66666666666667,
          109,
          109.33333333333333,
          109.66666666666667,
          110,
          110.33333333333333,
          110.66666666666667,
          111,
          111.33333333333333,
          111.66666666666667,
          112,
          112.33333333333333,
          112.66666666666667,
          113,
          113.33333333333333,
          113.66666666666667,
          114,
          114.33333333333333,
          114.66666666666667,
          115,
          115.33333333333333,
          115.66666666666667,
          116,
          116.33333333333333,
          116.66666666666667,
          117,
          117.33333333333333,
          117.66666666666667,
          118,
          118.33333333333333,
          118.66666666666667,
          119,
          119.33333333333333,
          119.66666666666667,
          120,
          120.33333333333333,
          120.66666666666667,
          121,
          121.33333333333333,
          121.66666666666667,
          122,
          122.33333333333333,
          122.66666666666667,
          123,
          123.33333333333333,
          123.66666666666667,
          124,
          124.33333333333333,
          124.66666666666667,
          125,
          125.33333333333333,
          125.66666666666667,
          126,
          126.33333333333333,
          126.66666666666667,
          127,
          127.33333333333333,
          127.66666666666667,
          128,
          128.33333333333334,
          128.66666666666666,
          129,
          129.33333333333334,
          129.66666666666666,
          130,
          130.33333333333334,
          130.66666666666666,
          131,
          131.33333333333334,
          131.66666666666666,
          132,
          132.33333333333334,
          132.66666666666666,
          133,
          133.33333333333334,
          133.66666666666666,
          134,
          134.33333333333334,
          134.66666666666666,
          135,
          135.33333333333334,
          135.66666666666666,
          136,
          136.33333333333334,
          136.66666666666666,
          137
         ],
         "y": [
          -22.418022943264667,
          -20.285116932738703,
          -4.745323856801452,
          2.658457325388504,
          -3.6718966498882715,
          -3.8102945960593892,
          14.124009439802506,
          1.7164542786832993,
          -0.3487008590619247,
          7.664872477107814,
          -2.339048401972942,
          -1.6719873907261835,
          8.23429959262134,
          15.238412380906796,
          11.988984655969578,
          6.376686203868273,
          0.053504578541585524,
          -1.433983552145044,
          -10.776901565096665,
          -11.640925229756785,
          -5.592068939841979,
          -5.588767130278484,
          3.301850079175874,
          5.549258989322219,
          -3.70220091223577,
          -15.844322417719182,
          -13.94451936077985,
          -11.205794850158316,
          5.914088834634768,
          -9.604501452865371,
          -0.9169910706539781,
          3.982858101056662,
          6.685665312595913,
          -0.7253308626258494,
          4.008047649561282,
          0.659299033620222,
          -1.9984088099775734,
          3.174396848625774,
          -0.800935925506919,
          -0.14814873131127282,
          -8.529158455801893,
          4.303935954542869,
          0.8334338583253187,
          0.040165486978857246,
          -4.552959958121416,
          2.1120777644868047,
          -1.8983982112214859,
          -3.551192658223295,
          3.0344205876367374,
          -4.384029099028087,
          -1.3977503326221452,
          -2.992223981230957,
          2.2573364482426346,
          1.1288841191242476,
          -2.7857010712195676,
          2.9188537459665636,
          7.895583726345346,
          0.6412308384276084,
          0.9933005566802433,
          3.3095731882991375,
          -1.591866438818073,
          -1.6265540144930273,
          0.27096627948029606,
          -0.15585142782991246,
          2.473287303732734,
          1.6661085976759535,
          2.1676725317270766,
          -4.912720878040635,
          -11.796785677109348,
          -10.49476849038718,
          -9.294351577293192,
          -11.392950534870288,
          -9.123030053037638,
          -1.3341855545839145,
          -9.612761997332878,
          -9.053338692705042,
          -16.845272751981767,
          -11.241079748393673,
          -11.223240248414065,
          -5.330641674920177,
          -0.7892014705111343,
          2.5836382419103003,
          0.5521648879190906,
          1.6563153378904296,
          9.548508207537346,
          2.550785933678288,
          -0.9288818696217369,
          -6.3025360623683575,
          -9.255557197581682,
          0.7838053024470533,
          -6.184757860857129,
          -0.4952466191630407,
          3.6759304270606776,
          -4.027075686259824,
          -9.395485570963839,
          -11.465530431946242,
          -25.58606868928143,
          -5.1612495428790695,
          -9.066725413504578,
          2.2353200503617963,
          5.968195023893969,
          -4.08750146351241,
          6.409578510304538,
          -5.540482236531201,
          -17.893954869738234,
          -0.8045826528955118,
          8.937259297439368,
          1.292305434248295,
          11.723022552005027,
          14.51435192118507,
          3.95468306673377,
          -9.450080286257002,
          -5.335174701198696,
          -8.753422589512372,
          -9.020917599122047,
          7.572295861767067,
          3.656858355580983,
          -1.9656742459523642,
          -0.40393645171258186,
          -2.575269046083104,
          1.3205094443106766,
          -21.329540852527305,
          2.2267841138242126,
          1.2634636846022929,
          4.585126838311883,
          -0.15273599864785226,
          9.599628746705612,
          3.3628131300845396,
          -4.776234217765468,
          5.062988845220898,
          1.2964109360289093,
          3.409038694284688,
          -0.6886595302542915,
          -7.79443559498828,
          0.6979802986729222,
          6.056384932566848,
          11.793289896571594,
          9.211259200285852,
          -4.973340719548878,
          5.962414686240192,
          15.057889407385666,
          -4.133613830960963,
          -4.608465934705871,
          2.234760878228526,
          0.10520095828586484,
          10.430818858156941,
          9.121846015176082,
          4.114581840130324,
          -13.135276308587873,
          0.07613305097037504,
          6.0026636243894895,
          -3.68353602172383,
          -10.94291448185592,
          9.689064765546288,
          10.54618458826839,
          16.418709580814053,
          21.601868295295613,
          10.74551386822222,
          12.056256334190884,
          3.4452062013387668,
          4.85142319612177,
          9.772697816008222,
          9.90856808539095,
          8.146122840769928,
          6.8984868569461675,
          -7.890896087121362,
          -8.22989592214628,
          -10.906463323568051,
          -12.118233756023043,
          -0.532128825622129,
          -14.567186477707537,
          -8.401647712659841,
          4.446775649516756,
          -13.525754517350556,
          -20.851772166074873,
          -13.1280487625863,
          5.505393731473319,
          2.3683793225442997,
          1.4145720878672918,
          0.47026704684708776,
          6.398833173728496,
          2.3618172010204237,
          1.4469906555023755,
          2.4392217398054825,
          1.04057816818624,
          3.9059197200411564,
          4.622016741835781,
          0.6462564076982638,
          0.24575548947932724,
          3.1142208655227934,
          -1.1744345874189044,
          0.8267865606354183,
          -8.785169890689765,
          -2.7417532348449676,
          -2.0230829856390518,
          4.051038419832959,
          0.035838174705848935,
          1.9039100325085938,
          -4.0186589833810595,
          2.246127640091723,
          -0.9246699003141874,
          -6.070538022129867,
          0.5370181356893013,
          0.08374726856771808,
          4.448795131578461,
          -2.8752205626664047,
          -5.249290204887139,
          -9.163142123339556,
          -2.8859749906847174,
          -2.9386922822827284,
          -0.6773210223414647,
          1.8192671364896498,
          -7.204267104383797,
          -11.032186677792676,
          -13.361553262050538,
          -6.958675837665901,
          -4.209114847555268,
          -0.6941279127458841,
          -1.093789101319853,
          -0.7238868357404424,
          5.85789797522208,
          4.549334412402281,
          10.168922951430456,
          9.144319580459644,
          9.957781532591003,
          7.916539005806746,
          5.809470149096555,
          8.620720767523451,
          -0.4714319841915007,
          0.7065720204228789,
          11.733119610703216,
          20.267690200990998,
          11.679316425722899,
          -5.983311569628675,
          -3.1151998023873375,
          6.399442454528263,
          1.2364164588661524,
          11.061131434121656,
          15.535546193299254,
          -1.9739678987566656,
          -2.484872873664841,
          -3.45040278428327,
          -10.467781140049228,
          -11.5253635336313,
          -9.304102352410954,
          0.37669183626946534,
          -1.7610699149209381,
          -26.053082530093086,
          -0.38037172366496463,
          -0.552807252782749,
          -6.1023815687820235,
          2.266987024824134,
          -0.7834120920474597,
          11.276125457562777,
          -2.6704401264600337,
          -7.716434763148771,
          1.9596317607194873,
          -2.1630942775741424,
          -9.829068113991784,
          -5.733433899335706,
          4.3744212883695734,
          -1.0486719078472486,
          -7.024887565705232,
          -9.88773032644993,
          3.586958979126642,
          -0.4221416814891974,
          14.298858671509546,
          -2.9839517698710636,
          -3.8920852062733884,
          4.827147718412812,
          -2.3100882030955554,
          -3.5864926014419956,
          -4.693729547482247,
          2.7945983039153077,
          5.170885682824874,
          -4.02529337142253,
          -5.447459058547846,
          -10.689642894644592,
          -17.833427017187418,
          4.225054810477442,
          0.1216043916411298,
          -0.9302163657951361,
          -2.2278965767386634,
          1.33885356438884,
          -0.8254867389262923,
          -3.6922492594641394,
          -13.978162886125071,
          -3.4319350878676076,
          -8.36501336782381,
          0.367635595569741,
          -3.8874069346394666,
          -11.867897822467677,
          -14.286516448268355,
          -14.306227808210423,
          -2.0006281560444883,
          -9.136924326856194,
          -6.022313547640323,
          -4.69612941753163,
          -4.9129775829816715,
          -9.42645213182275,
          -0.012015859368876391,
          -9.577441622575643,
          -2.1918277824345385,
          -0.6484583089558154,
          -0.038112884529446944,
          1.7058575888749345,
          0.19595360722065358,
          -1.933223582085418,
          0.08681790622445185,
          -0.8978926506435467,
          -0.0427614349072325,
          3.027658823822896,
          -2.110743215117809,
          8.407351336642748,
          6.369904605744938,
          -1.911812496130418,
          1.6302087162047125,
          1.7211709611918744,
          3.206901058663047,
          7.330215807981155,
          -3.4974037213842406,
          -1.3203120545418963,
          -0.6169576012321762,
          -2.5376901421387243,
          -2.4083315337518965,
          -8.417162479132593,
          -8.335160974629051,
          5.136102306090492,
          -0.4719323306806764,
          -4.149080770808706,
          -10.909881816045143,
          -11.983758292161601,
          0.22298844579367838,
          -1.1969807126133354,
          -1.3382032844539555,
          -1.402227450528276,
          1.0836143916058152,
          0.5285625402065666,
          -2.8191732651322887,
          -7.196499322613231,
          -4.110837307788213,
          -2.2292369122759297,
          -6.301458996357415,
          5.223547309344822,
          5.36739163333219,
          2.7594463996829592,
          -0.17619278251581072,
          -0.46966282304291695,
          -2.68280354346078,
          -5.544347210955287,
          -1.2900580589017512,
          8.973365905976335,
          5.561691754596428,
          12.349216115554466,
          3.8031134228549712,
          -4.890775100116292,
          -6.774952006222212,
          -7.54589063413596,
          5.26282981617773,
          -4.113532239123603,
          -0.34183404792278527,
          4.639245997227528,
          1.0313823063496743,
          -9.431489631345642,
          -7.233807607841815,
          -19.336302579384125,
          -1.8155866848074425,
          12.155845907437305,
          20.50662787765347,
          2.034261338364983,
          -11.275417285875621,
          -0.29127146555976324,
          -4.782883929717598,
          -11.507631224886126,
          -0.4160262390933127,
          -21.120366197362408,
          -9.223501604969107,
          -3.3225614788823385,
          -0.1865862403729981,
          -16.825226317277455,
          -34.47415191414337,
          -18.224951960207814,
          -8.908827312463998,
          -7.025821057217044,
          -5.72230658662879,
          -1.366578209220119,
          9.106840328827452,
          11.465738071738699,
          20.236388649110385,
          0.88479300356477,
          2.687621380899177,
          4.949952752672175,
          -0.9137301527416248,
          15.121155466321287,
          0.033798238598939934,
          9.563479797909325,
          -4.533708933642075,
          6.126745540678696,
          4.771671791069183,
          2.337232340787102,
          -4.678892373898391,
          8.585591883413656,
          -7.395407317059629,
          0.6423748154141897,
          1.3850771389995495,
          -7.676299356318226,
          -3.206967285229357,
          -17.463964399824164,
          -3.1451507485944,
          -5.795251929889673,
          -10.378055861245393,
          4.008480884024577
         ]
        },
        {
         "histnorm": "",
         "marker": {
          "color": "grey",
          "opacity": 0.5
         },
         "name": "Distribution",
         "nbinsy": 20,
         "type": "histogram",
         "y": [
          -22.418022943264667,
          -20.285116932738703,
          -4.745323856801452,
          2.658457325388504,
          -3.6718966498882715,
          -3.8102945960593892,
          14.124009439802506,
          1.7164542786832993,
          -0.3487008590619247,
          7.664872477107814,
          -2.339048401972942,
          -1.6719873907261835,
          8.23429959262134,
          15.238412380906796,
          11.988984655969578,
          6.376686203868273,
          0.053504578541585524,
          -1.433983552145044,
          -10.776901565096665,
          -11.640925229756785,
          -5.592068939841979,
          -5.588767130278484,
          3.301850079175874,
          5.549258989322219,
          -3.70220091223577,
          -15.844322417719182,
          -13.94451936077985,
          -11.205794850158316,
          5.914088834634768,
          -9.604501452865371,
          -0.9169910706539781,
          3.982858101056662,
          6.685665312595913,
          -0.7253308626258494,
          4.008047649561282,
          0.659299033620222,
          -1.9984088099775734,
          3.174396848625774,
          -0.800935925506919,
          -0.14814873131127282,
          -8.529158455801893,
          4.303935954542869,
          0.8334338583253187,
          0.040165486978857246,
          -4.552959958121416,
          2.1120777644868047,
          -1.8983982112214859,
          -3.551192658223295,
          3.0344205876367374,
          -4.384029099028087,
          -1.3977503326221452,
          -2.992223981230957,
          2.2573364482426346,
          1.1288841191242476,
          -2.7857010712195676,
          2.9188537459665636,
          7.895583726345346,
          0.6412308384276084,
          0.9933005566802433,
          3.3095731882991375,
          -1.591866438818073,
          -1.6265540144930273,
          0.27096627948029606,
          -0.15585142782991246,
          2.473287303732734,
          1.6661085976759535,
          2.1676725317270766,
          -4.912720878040635,
          -11.796785677109348,
          -10.49476849038718,
          -9.294351577293192,
          -11.392950534870288,
          -9.123030053037638,
          -1.3341855545839145,
          -9.612761997332878,
          -9.053338692705042,
          -16.845272751981767,
          -11.241079748393673,
          -11.223240248414065,
          -5.330641674920177,
          -0.7892014705111343,
          2.5836382419103003,
          0.5521648879190906,
          1.6563153378904296,
          9.548508207537346,
          2.550785933678288,
          -0.9288818696217369,
          -6.3025360623683575,
          -9.255557197581682,
          0.7838053024470533,
          -6.184757860857129,
          -0.4952466191630407,
          3.6759304270606776,
          -4.027075686259824,
          -9.395485570963839,
          -11.465530431946242,
          -25.58606868928143,
          -5.1612495428790695,
          -9.066725413504578,
          2.2353200503617963,
          5.968195023893969,
          -4.08750146351241,
          6.409578510304538,
          -5.540482236531201,
          -17.893954869738234,
          -0.8045826528955118,
          8.937259297439368,
          1.292305434248295,
          11.723022552005027,
          14.51435192118507,
          3.95468306673377,
          -9.450080286257002,
          -5.335174701198696,
          -8.753422589512372,
          -9.020917599122047,
          7.572295861767067,
          3.656858355580983,
          -1.9656742459523642,
          -0.40393645171258186,
          -2.575269046083104,
          1.3205094443106766,
          -21.329540852527305,
          2.2267841138242126,
          1.2634636846022929,
          4.585126838311883,
          -0.15273599864785226,
          9.599628746705612,
          3.3628131300845396,
          -4.776234217765468,
          5.062988845220898,
          1.2964109360289093,
          3.409038694284688,
          -0.6886595302542915,
          -7.79443559498828,
          0.6979802986729222,
          6.056384932566848,
          11.793289896571594,
          9.211259200285852,
          -4.973340719548878,
          5.962414686240192,
          15.057889407385666,
          -4.133613830960963,
          -4.608465934705871,
          2.234760878228526,
          0.10520095828586484,
          10.430818858156941,
          9.121846015176082,
          4.114581840130324,
          -13.135276308587873,
          0.07613305097037504,
          6.0026636243894895,
          -3.68353602172383,
          -10.94291448185592,
          9.689064765546288,
          10.54618458826839,
          16.418709580814053,
          21.601868295295613,
          10.74551386822222,
          12.056256334190884,
          3.4452062013387668,
          4.85142319612177,
          9.772697816008222,
          9.90856808539095,
          8.146122840769928,
          6.8984868569461675,
          -7.890896087121362,
          -8.22989592214628,
          -10.906463323568051,
          -12.118233756023043,
          -0.532128825622129,
          -14.567186477707537,
          -8.401647712659841,
          4.446775649516756,
          -13.525754517350556,
          -20.851772166074873,
          -13.1280487625863,
          5.505393731473319,
          2.3683793225442997,
          1.4145720878672918,
          0.47026704684708776,
          6.398833173728496,
          2.3618172010204237,
          1.4469906555023755,
          2.4392217398054825,
          1.04057816818624,
          3.9059197200411564,
          4.622016741835781,
          0.6462564076982638,
          0.24575548947932724,
          3.1142208655227934,
          -1.1744345874189044,
          0.8267865606354183,
          -8.785169890689765,
          -2.7417532348449676,
          -2.0230829856390518,
          4.051038419832959,
          0.035838174705848935,
          1.9039100325085938,
          -4.0186589833810595,
          2.246127640091723,
          -0.9246699003141874,
          -6.070538022129867,
          0.5370181356893013,
          0.08374726856771808,
          4.448795131578461,
          -2.8752205626664047,
          -5.249290204887139,
          -9.163142123339556,
          -2.8859749906847174,
          -2.9386922822827284,
          -0.6773210223414647,
          1.8192671364896498,
          -7.204267104383797,
          -11.032186677792676,
          -13.361553262050538,
          -6.958675837665901,
          -4.209114847555268,
          -0.6941279127458841,
          -1.093789101319853,
          -0.7238868357404424,
          5.85789797522208,
          4.549334412402281,
          10.168922951430456,
          9.144319580459644,
          9.957781532591003,
          7.916539005806746,
          5.809470149096555,
          8.620720767523451,
          -0.4714319841915007,
          0.7065720204228789,
          11.733119610703216,
          20.267690200990998,
          11.679316425722899,
          -5.983311569628675,
          -3.1151998023873375,
          6.399442454528263,
          1.2364164588661524,
          11.061131434121656,
          15.535546193299254,
          -1.9739678987566656,
          -2.484872873664841,
          -3.45040278428327,
          -10.467781140049228,
          -11.5253635336313,
          -9.304102352410954,
          0.37669183626946534,
          -1.7610699149209381,
          -26.053082530093086,
          -0.38037172366496463,
          -0.552807252782749,
          -6.1023815687820235,
          2.266987024824134,
          -0.7834120920474597,
          11.276125457562777,
          -2.6704401264600337,
          -7.716434763148771,
          1.9596317607194873,
          -2.1630942775741424,
          -9.829068113991784,
          -5.733433899335706,
          4.3744212883695734,
          -1.0486719078472486,
          -7.024887565705232,
          -9.88773032644993,
          3.586958979126642,
          -0.4221416814891974,
          14.298858671509546,
          -2.9839517698710636,
          -3.8920852062733884,
          4.827147718412812,
          -2.3100882030955554,
          -3.5864926014419956,
          -4.693729547482247,
          2.7945983039153077,
          5.170885682824874,
          -4.02529337142253,
          -5.447459058547846,
          -10.689642894644592,
          -17.833427017187418,
          4.225054810477442,
          0.1216043916411298,
          -0.9302163657951361,
          -2.2278965767386634,
          1.33885356438884,
          -0.8254867389262923,
          -3.6922492594641394,
          -13.978162886125071,
          -3.4319350878676076,
          -8.36501336782381,
          0.367635595569741,
          -3.8874069346394666,
          -11.867897822467677,
          -14.286516448268355,
          -14.306227808210423,
          -2.0006281560444883,
          -9.136924326856194,
          -6.022313547640323,
          -4.69612941753163,
          -4.9129775829816715,
          -9.42645213182275,
          -0.012015859368876391,
          -9.577441622575643,
          -2.1918277824345385,
          -0.6484583089558154,
          -0.038112884529446944,
          1.7058575888749345,
          0.19595360722065358,
          -1.933223582085418,
          0.08681790622445185,
          -0.8978926506435467,
          -0.0427614349072325,
          3.027658823822896,
          -2.110743215117809,
          8.407351336642748,
          6.369904605744938,
          -1.911812496130418,
          1.6302087162047125,
          1.7211709611918744,
          3.206901058663047,
          7.330215807981155,
          -3.4974037213842406,
          -1.3203120545418963,
          -0.6169576012321762,
          -2.5376901421387243,
          -2.4083315337518965,
          -8.417162479132593,
          -8.335160974629051,
          5.136102306090492,
          -0.4719323306806764,
          -4.149080770808706,
          -10.909881816045143,
          -11.983758292161601,
          0.22298844579367838,
          -1.1969807126133354,
          -1.3382032844539555,
          -1.402227450528276,
          1.0836143916058152,
          0.5285625402065666,
          -2.8191732651322887,
          -7.196499322613231,
          -4.110837307788213,
          -2.2292369122759297,
          -6.301458996357415,
          5.223547309344822,
          5.36739163333219,
          2.7594463996829592,
          -0.17619278251581072,
          -0.46966282304291695,
          -2.68280354346078,
          -5.544347210955287,
          -1.2900580589017512,
          8.973365905976335,
          5.561691754596428,
          12.349216115554466,
          3.8031134228549712,
          -4.890775100116292,
          -6.774952006222212,
          -7.54589063413596,
          5.26282981617773,
          -4.113532239123603,
          -0.34183404792278527,
          4.639245997227528,
          1.0313823063496743,
          -9.431489631345642,
          -7.233807607841815,
          -19.336302579384125,
          -1.8155866848074425,
          12.155845907437305,
          20.50662787765347,
          2.034261338364983,
          -11.275417285875621,
          -0.29127146555976324,
          -4.782883929717598,
          -11.507631224886126,
          -0.4160262390933127,
          -21.120366197362408,
          -9.223501604969107,
          -3.3225614788823385,
          -0.1865862403729981,
          -16.825226317277455,
          -34.47415191414337,
          -18.224951960207814,
          -8.908827312463998,
          -7.025821057217044,
          -5.72230658662879,
          -1.366578209220119,
          9.106840328827452,
          11.465738071738699,
          20.236388649110385,
          0.88479300356477,
          2.687621380899177,
          4.949952752672175,
          -0.9137301527416248,
          15.121155466321287,
          0.033798238598939934,
          9.563479797909325,
          -4.533708933642075,
          6.126745540678696,
          4.771671791069183,
          2.337232340787102,
          -4.678892373898391,
          8.585591883413656,
          -7.395407317059629,
          0.6423748154141897,
          1.3850771389995495,
          -7.676299356318226,
          -3.206967285229357,
          -17.463964399824164,
          -3.1451507485944,
          -5.795251929889673,
          -10.378055861245393,
          4.008480884024577
         ]
        }
       ],
       "layout": {
        "height": 400,
        "hovermode": "x unified",
        "legend": {
         "orientation": "h",
         "x": 0.95,
         "xanchor": "right",
         "y": 1.05,
         "yanchor": "bottom"
        },
        "margin": {
         "b": 40,
         "l": 80,
         "r": 40,
         "t": 80
        },
        "template": {
         "data": {
          "bar": [
           {
            "error_x": {
             "color": "#f2f5fa"
            },
            "error_y": {
             "color": "#f2f5fa"
            },
            "marker": {
             "line": {
              "color": "rgb(17,17,17)",
              "width": 0.5
             },
             "pattern": {
              "fillmode": "overlay",
              "size": 10,
              "solidity": 0.2
             }
            },
            "type": "bar"
           }
          ],
          "barpolar": [
           {
            "marker": {
             "line": {
              "color": "rgb(17,17,17)",
              "width": 0.5
             },
             "pattern": {
              "fillmode": "overlay",
              "size": 10,
              "solidity": 0.2
             }
            },
            "type": "barpolar"
           }
          ],
          "carpet": [
           {
            "aaxis": {
             "endlinecolor": "#A2B1C6",
             "gridcolor": "#506784",
             "linecolor": "#506784",
             "minorgridcolor": "#506784",
             "startlinecolor": "#A2B1C6"
            },
            "baxis": {
             "endlinecolor": "#A2B1C6",
             "gridcolor": "#506784",
             "linecolor": "#506784",
             "minorgridcolor": "#506784",
             "startlinecolor": "#A2B1C6"
            },
            "type": "carpet"
           }
          ],
          "choropleth": [
           {
            "colorbar": {
             "outlinewidth": 0,
             "ticks": ""
            },
            "type": "choropleth"
           }
          ],
          "contour": [
           {
            "colorbar": {
             "outlinewidth": 0,
             "ticks": ""
            },
            "colorscale": [
             [
              0,
              "#0d0887"
             ],
             [
              0.1111111111111111,
              "#46039f"
             ],
             [
              0.2222222222222222,
              "#7201a8"
             ],
             [
              0.3333333333333333,
              "#9c179e"
             ],
             [
              0.4444444444444444,
              "#bd3786"
             ],
             [
              0.5555555555555556,
              "#d8576b"
             ],
             [
              0.6666666666666666,
              "#ed7953"
             ],
             [
              0.7777777777777778,
              "#fb9f3a"
             ],
             [
              0.8888888888888888,
              "#fdca26"
             ],
             [
              1,
              "#f0f921"
             ]
            ],
            "type": "contour"
           }
          ],
          "contourcarpet": [
           {
            "colorbar": {
             "outlinewidth": 0,
             "ticks": ""
            },
            "type": "contourcarpet"
           }
          ],
          "heatmap": [
           {
            "colorbar": {
             "outlinewidth": 0,
             "ticks": ""
            },
            "colorscale": [
             [
              0,
              "#0d0887"
             ],
             [
              0.1111111111111111,
              "#46039f"
             ],
             [
              0.2222222222222222,
              "#7201a8"
             ],
             [
              0.3333333333333333,
              "#9c179e"
             ],
             [
              0.4444444444444444,
              "#bd3786"
             ],
             [
              0.5555555555555556,
              "#d8576b"
             ],
             [
              0.6666666666666666,
              "#ed7953"
             ],
             [
              0.7777777777777778,
              "#fb9f3a"
             ],
             [
              0.8888888888888888,
              "#fdca26"
             ],
             [
              1,
              "#f0f921"
             ]
            ],
            "type": "heatmap"
           }
          ],
          "heatmapgl": [
           {
            "colorbar": {
             "outlinewidth": 0,
             "ticks": ""
            },
            "colorscale": [
             [
              0,
              "#0d0887"
             ],
             [
              0.1111111111111111,
              "#46039f"
             ],
             [
              0.2222222222222222,
              "#7201a8"
             ],
             [
              0.3333333333333333,
              "#9c179e"
             ],
             [
              0.4444444444444444,
              "#bd3786"
             ],
             [
              0.5555555555555556,
              "#d8576b"
             ],
             [
              0.6666666666666666,
              "#ed7953"
             ],
             [
              0.7777777777777778,
              "#fb9f3a"
             ],
             [
              0.8888888888888888,
              "#fdca26"
             ],
             [
              1,
              "#f0f921"
             ]
            ],
            "type": "heatmapgl"
           }
          ],
          "histogram": [
           {
            "marker": {
             "pattern": {
              "fillmode": "overlay",
              "size": 10,
              "solidity": 0.2
             }
            },
            "type": "histogram"
           }
          ],
          "histogram2d": [
           {
            "colorbar": {
             "outlinewidth": 0,
             "ticks": ""
            },
            "colorscale": [
             [
              0,
              "#0d0887"
             ],
             [
              0.1111111111111111,
              "#46039f"
             ],
             [
              0.2222222222222222,
              "#7201a8"
             ],
             [
              0.3333333333333333,
              "#9c179e"
             ],
             [
              0.4444444444444444,
              "#bd3786"
             ],
             [
              0.5555555555555556,
              "#d8576b"
             ],
             [
              0.6666666666666666,
              "#ed7953"
             ],
             [
              0.7777777777777778,
              "#fb9f3a"
             ],
             [
              0.8888888888888888,
              "#fdca26"
             ],
             [
              1,
              "#f0f921"
             ]
            ],
            "type": "histogram2d"
           }
          ],
          "histogram2dcontour": [
           {
            "colorbar": {
             "outlinewidth": 0,
             "ticks": ""
            },
            "colorscale": [
             [
              0,
              "#0d0887"
             ],
             [
              0.1111111111111111,
              "#46039f"
             ],
             [
              0.2222222222222222,
              "#7201a8"
             ],
             [
              0.3333333333333333,
              "#9c179e"
             ],
             [
              0.4444444444444444,
              "#bd3786"
             ],
             [
              0.5555555555555556,
              "#d8576b"
             ],
             [
              0.6666666666666666,
              "#ed7953"
             ],
             [
              0.7777777777777778,
              "#fb9f3a"
             ],
             [
              0.8888888888888888,
              "#fdca26"
             ],
             [
              1,
              "#f0f921"
             ]
            ],
            "type": "histogram2dcontour"
           }
          ],
          "mesh3d": [
           {
            "colorbar": {
             "outlinewidth": 0,
             "ticks": ""
            },
            "type": "mesh3d"
           }
          ],
          "parcoords": [
           {
            "line": {
             "colorbar": {
              "outlinewidth": 0,
              "ticks": ""
             }
            },
            "type": "parcoords"
           }
          ],
          "pie": [
           {
            "automargin": true,
            "type": "pie"
           }
          ],
          "scatter": [
           {
            "marker": {
             "line": {
              "color": "#283442"
             }
            },
            "type": "scatter"
           }
          ],
          "scatter3d": [
           {
            "line": {
             "colorbar": {
              "outlinewidth": 0,
              "ticks": ""
             }
            },
            "marker": {
             "colorbar": {
              "outlinewidth": 0,
              "ticks": ""
             }
            },
            "type": "scatter3d"
           }
          ],
          "scattercarpet": [
           {
            "marker": {
             "colorbar": {
              "outlinewidth": 0,
              "ticks": ""
             }
            },
            "type": "scattercarpet"
           }
          ],
          "scattergeo": [
           {
            "marker": {
             "colorbar": {
              "outlinewidth": 0,
              "ticks": ""
             }
            },
            "type": "scattergeo"
           }
          ],
          "scattergl": [
           {
            "marker": {
             "line": {
              "color": "#283442"
             }
            },
            "type": "scattergl"
           }
          ],
          "scattermapbox": [
           {
            "marker": {
             "colorbar": {
              "outlinewidth": 0,
              "ticks": ""
             }
            },
            "type": "scattermapbox"
           }
          ],
          "scatterpolar": [
           {
            "marker": {
             "colorbar": {
              "outlinewidth": 0,
              "ticks": ""
             }
            },
            "type": "scatterpolar"
           }
          ],
          "scatterpolargl": [
           {
            "marker": {
             "colorbar": {
              "outlinewidth": 0,
              "ticks": ""
             }
            },
            "type": "scatterpolargl"
           }
          ],
          "scatterternary": [
           {
            "marker": {
             "colorbar": {
              "outlinewidth": 0,
              "ticks": ""
             }
            },
            "type": "scatterternary"
           }
          ],
          "surface": [
           {
            "colorbar": {
             "outlinewidth": 0,
             "ticks": ""
            },
            "colorscale": [
             [
              0,
              "#0d0887"
             ],
             [
              0.1111111111111111,
              "#46039f"
             ],
             [
              0.2222222222222222,
              "#7201a8"
             ],
             [
              0.3333333333333333,
              "#9c179e"
             ],
             [
              0.4444444444444444,
              "#bd3786"
             ],
             [
              0.5555555555555556,
              "#d8576b"
             ],
             [
              0.6666666666666666,
              "#ed7953"
             ],
             [
              0.7777777777777778,
              "#fb9f3a"
             ],
             [
              0.8888888888888888,
              "#fdca26"
             ],
             [
              1,
              "#f0f921"
             ]
            ],
            "type": "surface"
           }
          ],
          "table": [
           {
            "cells": {
             "fill": {
              "color": "#506784"
             },
             "line": {
              "color": "rgb(17,17,17)"
             }
            },
            "header": {
             "fill": {
              "color": "#2a3f5f"
             },
             "line": {
              "color": "rgb(17,17,17)"
             }
            },
            "type": "table"
           }
          ]
         },
         "layout": {
          "annotationdefaults": {
           "arrowcolor": "#f2f5fa",
           "arrowhead": 0,
           "arrowwidth": 1
          },
          "autotypenumbers": "strict",
          "coloraxis": {
           "colorbar": {
            "outlinewidth": 0,
            "ticks": ""
           }
          },
          "colorscale": {
           "diverging": [
            [
             0,
             "#8e0152"
            ],
            [
             0.1,
             "#c51b7d"
            ],
            [
             0.2,
             "#de77ae"
            ],
            [
             0.3,
             "#f1b6da"
            ],
            [
             0.4,
             "#fde0ef"
            ],
            [
             0.5,
             "#f7f7f7"
            ],
            [
             0.6,
             "#e6f5d0"
            ],
            [
             0.7,
             "#b8e186"
            ],
            [
             0.8,
             "#7fbc41"
            ],
            [
             0.9,
             "#4d9221"
            ],
            [
             1,
             "#276419"
            ]
           ],
           "sequential": [
            [
             0,
             "#0d0887"
            ],
            [
             0.1111111111111111,
             "#46039f"
            ],
            [
             0.2222222222222222,
             "#7201a8"
            ],
            [
             0.3333333333333333,
             "#9c179e"
            ],
            [
             0.4444444444444444,
             "#bd3786"
            ],
            [
             0.5555555555555556,
             "#d8576b"
            ],
            [
             0.6666666666666666,
             "#ed7953"
            ],
            [
             0.7777777777777778,
             "#fb9f3a"
            ],
            [
             0.8888888888888888,
             "#fdca26"
            ],
            [
             1,
             "#f0f921"
            ]
           ],
           "sequentialminus": [
            [
             0,
             "#0d0887"
            ],
            [
             0.1111111111111111,
             "#46039f"
            ],
            [
             0.2222222222222222,
             "#7201a8"
            ],
            [
             0.3333333333333333,
             "#9c179e"
            ],
            [
             0.4444444444444444,
             "#bd3786"
            ],
            [
             0.5555555555555556,
             "#d8576b"
            ],
            [
             0.6666666666666666,
             "#ed7953"
            ],
            [
             0.7777777777777778,
             "#fb9f3a"
            ],
            [
             0.8888888888888888,
             "#fdca26"
            ],
            [
             1,
             "#f0f921"
            ]
           ]
          },
          "colorway": [
           "#636efa",
           "#EF553B",
           "#00cc96",
           "#ab63fa",
           "#FFA15A",
           "#19d3f3",
           "#FF6692",
           "#B6E880",
           "#FF97FF",
           "#FECB52"
          ],
          "font": {
           "color": "#f2f5fa"
          },
          "geo": {
           "bgcolor": "rgb(17,17,17)",
           "lakecolor": "rgb(17,17,17)",
           "landcolor": "rgb(17,17,17)",
           "showlakes": true,
           "showland": true,
           "subunitcolor": "#506784"
          },
          "hoverlabel": {
           "align": "left"
          },
          "hovermode": "closest",
          "mapbox": {
           "style": "dark"
          },
          "paper_bgcolor": "rgb(17,17,17)",
          "plot_bgcolor": "rgb(17,17,17)",
          "polar": {
           "angularaxis": {
            "gridcolor": "#506784",
            "linecolor": "#506784",
            "ticks": ""
           },
           "bgcolor": "rgb(17,17,17)",
           "radialaxis": {
            "gridcolor": "#506784",
            "linecolor": "#506784",
            "ticks": ""
           }
          },
          "scene": {
           "xaxis": {
            "backgroundcolor": "rgb(17,17,17)",
            "gridcolor": "#506784",
            "gridwidth": 2,
            "linecolor": "#506784",
            "showbackground": true,
            "ticks": "",
            "zerolinecolor": "#C8D4E3"
           },
           "yaxis": {
            "backgroundcolor": "rgb(17,17,17)",
            "gridcolor": "#506784",
            "gridwidth": 2,
            "linecolor": "#506784",
            "showbackground": true,
            "ticks": "",
            "zerolinecolor": "#C8D4E3"
           },
           "zaxis": {
            "backgroundcolor": "rgb(17,17,17)",
            "gridcolor": "#506784",
            "gridwidth": 2,
            "linecolor": "#506784",
            "showbackground": true,
            "ticks": "",
            "zerolinecolor": "#C8D4E3"
           }
          },
          "shapedefaults": {
           "line": {
            "color": "#f2f5fa"
           }
          },
          "sliderdefaults": {
           "bgcolor": "#C8D4E3",
           "bordercolor": "rgb(17,17,17)",
           "borderwidth": 1,
           "tickwidth": 0
          },
          "ternary": {
           "aaxis": {
            "gridcolor": "#506784",
            "linecolor": "#506784",
            "ticks": ""
           },
           "baxis": {
            "gridcolor": "#506784",
            "linecolor": "#506784",
            "ticks": ""
           },
           "bgcolor": "rgb(17,17,17)",
           "caxis": {
            "gridcolor": "#506784",
            "linecolor": "#506784",
            "ticks": ""
           }
          },
          "title": {
           "x": 0.05
          },
          "updatemenudefaults": {
           "bgcolor": "#506784",
           "borderwidth": 0
          },
          "xaxis": {
           "automargin": true,
           "gridcolor": "#283442",
           "linecolor": "#506784",
           "ticks": "",
           "title": {
            "standoff": 15
           },
           "zerolinecolor": "#283442",
           "zerolinewidth": 2
          },
          "yaxis": {
           "automargin": true,
           "gridcolor": "#283442",
           "linecolor": "#506784",
           "ticks": "",
           "title": {
            "standoff": 15
           },
           "zerolinecolor": "#283442",
           "zerolinewidth": 2
          }
         }
        },
        "title": {
         "text": "Distribution of the Predicted Errors<br><span style=\"font-size: 12.5px; color: lightgrey;\"> -- Histogram shows the frequency of each predicted error.</span>"
        },
        "width": 700,
        "xaxis": {
         "tickmode": "array",
         "ticktext": [
          "1990",
          "1995",
          "2000",
          "2005",
          "2010",
          "2015",
          "2020"
         ],
         "tickvals": [
          2,
          22,
          42,
          62,
          82,
          102,
          122
         ],
         "title": {
          "text": "Time Ranges"
         }
        },
        "yaxis": {
         "title": {
          "text": "YoY Growth (%)"
         }
        }
       }
      }
     },
     "metadata": {},
     "output_type": "display_data"
    }
   ],
   "source": [
    "# detailed performance\n",
    "fig2_1, fig2_2 = PA1.detail_perf(model='LinR', ma=1, fp=6, sc=1)\n",
    "fig2_1.show()\n",
    "fig2_2.show()"
   ]
  },
  {
   "cell_type": "code",
   "execution_count": 58,
   "metadata": {},
   "outputs": [
    {
     "data": {
      "application/vnd.plotly.v1+json": {
       "config": {
        "plotlyServerURL": "https://plot.ly"
       },
       "data": [
        {
         "alignmentgroup": "True",
         "boxpoints": "all",
         "fillcolor": "rgba(255,255,255,0)",
         "hoveron": "points",
         "hovertemplate": "sc=1<br>theta=%{x}<br>diff=%{y}<extra></extra>",
         "legendgroup": "1",
         "line": {
          "color": "rgba(255,255,255,0)"
         },
         "marker": {
          "color": "#636efa",
          "opacity": 0.5,
          "size": 5
         },
         "name": "1",
         "offsetgroup": "1",
         "orientation": "v",
         "pointpos": 0,
         "showlegend": true,
         "type": "box",
         "x": [
          "UNEMP",
          "LRIR",
          "UNEMP^2",
          "UNEMP LRIR",
          "LRIR^2",
          "UNEMP",
          "LRIR",
          "UNEMP^2",
          "UNEMP LRIR",
          "LRIR^2",
          "UNEMP",
          "LRIR",
          "UNEMP^2",
          "UNEMP LRIR",
          "LRIR^2",
          "UNEMP",
          "LRIR",
          "UNEMP^2",
          "UNEMP LRIR",
          "LRIR^2",
          "UNEMP",
          "LRIR",
          "UNEMP^2",
          "UNEMP LRIR",
          "LRIR^2",
          "UNEMP",
          "LRIR",
          "UNEMP^2",
          "UNEMP LRIR",
          "LRIR^2",
          "UNEMP",
          "LRIR",
          "UNEMP^2",
          "UNEMP LRIR",
          "LRIR^2",
          "UNEMP",
          "LRIR",
          "UNEMP^2",
          "UNEMP LRIR",
          "LRIR^2",
          "UNEMP",
          "LRIR",
          "UNEMP^2",
          "UNEMP LRIR",
          "LRIR^2",
          "UNEMP",
          "LRIR",
          "UNEMP^2",
          "UNEMP LRIR",
          "LRIR^2",
          "UNEMP",
          "LRIR",
          "UNEMP^2",
          "UNEMP LRIR",
          "LRIR^2",
          "UNEMP",
          "LRIR",
          "UNEMP^2",
          "UNEMP LRIR",
          "LRIR^2",
          "UNEMP",
          "LRIR",
          "UNEMP^2",
          "UNEMP LRIR",
          "LRIR^2",
          "UNEMP",
          "LRIR",
          "UNEMP^2",
          "UNEMP LRIR",
          "LRIR^2",
          "UNEMP",
          "LRIR",
          "UNEMP^2",
          "UNEMP LRIR",
          "LRIR^2",
          "UNEMP",
          "LRIR",
          "UNEMP^2",
          "UNEMP LRIR",
          "LRIR^2",
          "UNEMP",
          "LRIR",
          "UNEMP^2",
          "UNEMP LRIR",
          "LRIR^2",
          "UNEMP",
          "LRIR",
          "UNEMP^2",
          "UNEMP LRIR",
          "LRIR^2"
         ],
         "x0": " ",
         "xaxis": "x",
         "y": [
          -0.5511897840797308,
          -0.6785478901326734,
          0.2238871290185882,
          -1.4991461626438136,
          -0.16577797173476494,
          -0.8477104812211085,
          -0.9947541485874298,
          -0.59982436471289,
          -1.7208732092867685,
          -0.44591502039624054,
          -0.01832925875892144,
          -1.1147899902022589,
          0.013895878002638362,
          -1.3435783860229602,
          -0.5789774737767823,
          1.523092713939187,
          -1.0463837798062174,
          1.7363497740108524,
          -0.46194597053782793,
          -0.5325865530950855,
          3.1241487607907583,
          -1.120161849129408,
          3.4788522356565412,
          0.1952335258645448,
          -0.8608859882215523,
          4.3122983026944395,
          -0.9363991480862301,
          4.640999981186751,
          0.69107177407344,
          -0.9274127676822843,
          2.253033119490386,
          0.29007324065795714,
          3.998392139348491,
          -0.11674615421041601,
          -0.917593670278638,
          0.703836615797945,
          0.30830646200040945,
          1.772222666460559,
          -0.4697609414288815,
          0.38524813161321614,
          0.06417514827136639,
          0.03474584488801025,
          0.463169170846192,
          -0.7793720135892688,
          0.6181796577999412,
          0.5441485070982557,
          -0.1879639836715361,
          0.6315552791412173,
          -0.6626283669970912,
          0.36945213886276296,
          1.910260732826048,
          -0.1888585827847935,
          2.1305490441514117,
          0.0746971188990333,
          0.32977001844935483,
          3.51095462675928,
          -0.15311503796269843,
          3.9693161153063032,
          0.9953108432387996,
          0.17428608064070517,
          3.185637933743026,
          0.7322948936997671,
          5.0675610651244565,
          0.48411858309829725,
          -0.9293728227390581,
          1.5843517959433822,
          0.7133661940185281,
          2.8735436911026797,
          0.03906959246139152,
          0.04509879528028726,
          0.6567143028425431,
          0.62920809110358,
          1.2355891662113558,
          -0.23258058946746818,
          0.9122693716812744,
          0.7164706679815129,
          0.3703449543125066,
          0.8707869626594809,
          -0.31152908382922284,
          0.9595045458438278,
          1.7209564451920576,
          0.24640046301578256,
          1.916432879524761,
          0.1675243930184056,
          0.808322039059254,
          3.2695400008962494,
          0.25580125249965135,
          3.782835271492294,
          1.042291282949681,
          0.6422467236056342
         ],
         "y0": " ",
         "yaxis": "y"
        },
        {
         "alignmentgroup": "True",
         "boxpoints": "all",
         "fillcolor": "rgba(255,255,255,0)",
         "hoveron": "points",
         "hovertemplate": "sc=1<br>theta=%{x}<br>diff=%{y}<extra></extra>",
         "legendgroup": "1",
         "line": {
          "color": "rgba(255,255,255,0)"
         },
         "marker": {
          "color": "#636efa",
          "opacity": 0.5,
          "size": 5
         },
         "name": "1",
         "offsetgroup": "1",
         "orientation": "v",
         "pointpos": 0,
         "showlegend": false,
         "type": "box",
         "x": [
          "UNEMP",
          "LRIR",
          "UNEMP^2",
          "UNEMP LRIR",
          "LRIR^2",
          "UNEMP",
          "LRIR",
          "UNEMP^2",
          "UNEMP LRIR",
          "LRIR^2",
          "UNEMP",
          "LRIR",
          "UNEMP^2",
          "UNEMP LRIR",
          "LRIR^2",
          "UNEMP",
          "LRIR",
          "UNEMP^2",
          "UNEMP LRIR",
          "LRIR^2",
          "UNEMP",
          "LRIR",
          "UNEMP^2",
          "UNEMP LRIR",
          "LRIR^2",
          "UNEMP",
          "LRIR",
          "UNEMP^2",
          "UNEMP LRIR",
          "LRIR^2",
          "UNEMP",
          "LRIR",
          "UNEMP^2",
          "UNEMP LRIR",
          "LRIR^2",
          "UNEMP",
          "LRIR",
          "UNEMP^2",
          "UNEMP LRIR",
          "LRIR^2",
          "UNEMP",
          "LRIR",
          "UNEMP^2",
          "UNEMP LRIR",
          "LRIR^2",
          "UNEMP",
          "LRIR",
          "UNEMP^2",
          "UNEMP LRIR",
          "LRIR^2",
          "UNEMP",
          "LRIR",
          "UNEMP^2",
          "UNEMP LRIR",
          "LRIR^2",
          "UNEMP",
          "LRIR",
          "UNEMP^2",
          "UNEMP LRIR",
          "LRIR^2",
          "UNEMP",
          "LRIR",
          "UNEMP^2",
          "UNEMP LRIR",
          "LRIR^2",
          "UNEMP",
          "LRIR",
          "UNEMP^2",
          "UNEMP LRIR",
          "LRIR^2",
          "UNEMP",
          "LRIR",
          "UNEMP^2",
          "UNEMP LRIR",
          "LRIR^2",
          "UNEMP",
          "LRIR",
          "UNEMP^2",
          "UNEMP LRIR",
          "LRIR^2",
          "UNEMP",
          "LRIR",
          "UNEMP^2",
          "UNEMP LRIR",
          "LRIR^2",
          "UNEMP",
          "LRIR",
          "UNEMP^2",
          "UNEMP LRIR",
          "LRIR^2"
         ],
         "x0": " ",
         "xaxis": "x2",
         "y": [
          0.032185682951951566,
          0.039271870072800974,
          -0.013777571171910474,
          0.08177350539811645,
          0.009939539036383338,
          0.04991447393352977,
          0.05798051053937392,
          0.03592046096329948,
          0.09524501423635101,
          0.026981424532873333,
          0.001162157116142204,
          0.06574547385979979,
          -0.000882869654350249,
          0.07799679055961051,
          0.03539863123815756,
          -0.10515030864562736,
          0.06139687832354357,
          -0.12136629851568004,
          0.028193574632479512,
          0.03235320293198285,
          -0.23608642701993354,
          0.06549099778313239,
          -0.26786302980787635,
          -0.012449277401229253,
          0.0512316839233945,
          -0.33953740710206537,
          0.05396297377756765,
          -0.3715535493501272,
          -0.044348436335256314,
          0.05347862247346635,
          -0.13349378637734,
          -0.014785983142567072,
          -0.26633506407311314,
          0.0057506582835458175,
          0.04209991031029381,
          -0.039016774890624495,
          -0.016577787006349598,
          -0.10620747437067557,
          0.023721642183579306,
          -0.020839675758664522,
          -0.0035255184824571906,
          -0.0019045002883868456,
          -0.026220542292479276,
          0.040055082471617376,
          -0.03539820671988447,
          -0.03190866656112812,
          0.010445032571661628,
          -0.03726567169730011,
          0.03550276929448759,
          -0.021393863329924656,
          -0.12382849283609376,
          0.010582148619301623,
          -0.14007368455715474,
          -0.004267883266991235,
          -0.019193948299511154,
          -0.25073605445233793,
          0.008587332876603848,
          -0.2910827375201932,
          -0.06060390096863133,
          -0.010013449584792666,
          -0.1892762191003018,
          -0.0356836579035793,
          -0.34263444292106937,
          -0.023067021279412958,
          0.03855985066110912,
          -0.0864411187598314,
          -0.03622020303525286,
          -0.17287996400444927,
          -0.0018692020448116686,
          -0.002158838333838675,
          -0.03474856044368302,
          -0.03321802696360032,
          -0.06848224972947148,
          0.011408929998423911,
          -0.04928236977243383,
          -0.03972847211671693,
          -0.01998025618192989,
          -0.04886763515914938,
          0.015886632829406278,
          -0.05421523860986022,
          -0.10513517897355573,
          -0.013479684191639474,
          -0.11869912347704803,
          -0.009107443490146694,
          -0.04618710842299889,
          -0.22359797462425124,
          -0.014154181728474935,
          -0.2671127850128421,
          -0.06122397579887506,
          -0.03661243495942079
         ],
         "y0": " ",
         "yaxis": "y2"
        },
        {
         "alignmentgroup": "True",
         "boxpoints": "all",
         "fillcolor": "rgba(255,255,255,0)",
         "hoveron": "points",
         "hovertemplate": "sc=3<br>theta=%{x}<br>diff=%{y}<extra></extra>",
         "legendgroup": "3",
         "line": {
          "color": "rgba(255,255,255,0)"
         },
         "marker": {
          "color": "#EF553B",
          "opacity": 0.5,
          "size": 5
         },
         "name": "3",
         "offsetgroup": "3",
         "orientation": "v",
         "pointpos": 0,
         "showlegend": true,
         "type": "box",
         "x": [
          "UNEMP",
          "LRIR",
          "UNEMP^2",
          "UNEMP LRIR",
          "LRIR^2",
          "UNEMP",
          "LRIR",
          "UNEMP^2",
          "UNEMP LRIR",
          "LRIR^2",
          "UNEMP",
          "LRIR",
          "UNEMP^2",
          "UNEMP LRIR",
          "LRIR^2",
          "UNEMP",
          "LRIR",
          "UNEMP^2",
          "UNEMP LRIR",
          "LRIR^2",
          "UNEMP",
          "LRIR",
          "UNEMP^2",
          "UNEMP LRIR",
          "LRIR^2",
          "UNEMP",
          "LRIR",
          "UNEMP^2",
          "UNEMP LRIR",
          "LRIR^2",
          "UNEMP",
          "LRIR",
          "UNEMP^2",
          "UNEMP LRIR",
          "LRIR^2",
          "UNEMP",
          "LRIR",
          "UNEMP^2",
          "UNEMP LRIR",
          "LRIR^2",
          "UNEMP",
          "LRIR",
          "UNEMP^2",
          "UNEMP LRIR",
          "LRIR^2",
          "UNEMP",
          "LRIR",
          "UNEMP^2",
          "UNEMP LRIR",
          "LRIR^2",
          "UNEMP",
          "LRIR",
          "UNEMP^2",
          "UNEMP LRIR",
          "LRIR^2",
          "UNEMP",
          "LRIR",
          "UNEMP^2",
          "UNEMP LRIR",
          "LRIR^2",
          "UNEMP",
          "LRIR",
          "UNEMP^2",
          "UNEMP LRIR",
          "LRIR^2",
          "UNEMP",
          "LRIR",
          "UNEMP^2",
          "UNEMP LRIR",
          "LRIR^2",
          "UNEMP",
          "LRIR",
          "UNEMP^2",
          "UNEMP LRIR",
          "LRIR^2",
          "UNEMP",
          "LRIR",
          "UNEMP^2",
          "UNEMP LRIR",
          "LRIR^2",
          "UNEMP",
          "LRIR",
          "UNEMP^2",
          "UNEMP LRIR",
          "LRIR^2",
          "UNEMP",
          "LRIR",
          "UNEMP^2",
          "UNEMP LRIR",
          "LRIR^2"
         ],
         "x0": " ",
         "xaxis": "x",
         "y": [
          -0.686380185177585,
          -0.6415429717092138,
          -0.11548404577479765,
          -1.2589394262188547,
          0.38186440631763396,
          -0.9050249271090269,
          -0.7216551923081678,
          -0.8018502981748163,
          -1.2659160881791411,
          0.4236034420342101,
          -0.34686431640002624,
          -0.7754336003842379,
          -0.4131235097750494,
          -1.0732951583256316,
          0.20662451766329148,
          0.9175984220915385,
          -0.7956151538918181,
          1.1025100558137808,
          -0.43080893215262606,
          0.06601619295006778,
          2.6873613079478496,
          -0.6686376939858452,
          3.111296969178433,
          0.32999615798104287,
          0.04618886900609098,
          3.890370226893957,
          -0.3630351855870497,
          4.271728860714376,
          0.817147341869207,
          0.5011162326670355,
          1.1458517672218163,
          -0.5089137653130225,
          2.6731766882092467,
          -0.8765308062007424,
          -0.9928043860154228,
          -0.19831077296492872,
          -0.42332072374717455,
          0.676776498230419,
          -1.0855890327421962,
          0.214933991315716,
          -0.6861302647385417,
          -0.48763865174751153,
          -0.4508081968121509,
          -1.1304448146122983,
          0.6827041598276349,
          -0.3289139211572518,
          -0.5367055412209591,
          -0.32013285969109795,
          -0.9808427360850756,
          0.5884441795690947,
          0.7436046242275101,
          -0.5788147474284884,
          0.9377510603560779,
          -0.48850686180777103,
          0.36764458828684354,
          2.3362362690113034,
          -0.4908744223790027,
          2.8372481100506697,
          0.37394486781064096,
          0.2793842809497775,
          1.8940780878230319,
          -0.2567599389791093,
          3.5817295813207535,
          -0.4274671862694035,
          -1.2873608835944612,
          0.40436514609395413,
          -0.28670551674758826,
          1.4865215064820365,
          -0.851303260368848,
          -0.27875967386160916,
          -0.37407482085952637,
          -0.24195438566795247,
          0.020242175623638836,
          -0.9717606886933572,
          0.6436911169356963,
          -0.3180189172870147,
          -0.2904995547784912,
          -0.2746931950392639,
          -0.9111204009633109,
          0.8880907404418092,
          0.5051900857505824,
          -0.3529696479660016,
          0.6512455558882202,
          -0.5127958205814087,
          0.72316140194064,
          1.9400298809437082,
          -0.3071239825827359,
          2.4886191024196886,
          0.22753133976008044,
          0.5665600845061309
         ],
         "y0": " ",
         "yaxis": "y"
        },
        {
         "alignmentgroup": "True",
         "boxpoints": "all",
         "fillcolor": "rgba(255,255,255,0)",
         "hoveron": "points",
         "hovertemplate": "sc=3<br>theta=%{x}<br>diff=%{y}<extra></extra>",
         "legendgroup": "3",
         "line": {
          "color": "rgba(255,255,255,0)"
         },
         "marker": {
          "color": "#EF553B",
          "opacity": 0.5,
          "size": 5
         },
         "name": "3",
         "offsetgroup": "3",
         "orientation": "v",
         "pointpos": 0,
         "showlegend": false,
         "type": "box",
         "x": [
          "UNEMP",
          "LRIR",
          "UNEMP^2",
          "UNEMP LRIR",
          "LRIR^2",
          "UNEMP",
          "LRIR",
          "UNEMP^2",
          "UNEMP LRIR",
          "LRIR^2",
          "UNEMP",
          "LRIR",
          "UNEMP^2",
          "UNEMP LRIR",
          "LRIR^2",
          "UNEMP",
          "LRIR",
          "UNEMP^2",
          "UNEMP LRIR",
          "LRIR^2",
          "UNEMP",
          "LRIR",
          "UNEMP^2",
          "UNEMP LRIR",
          "LRIR^2",
          "UNEMP",
          "LRIR",
          "UNEMP^2",
          "UNEMP LRIR",
          "LRIR^2",
          "UNEMP",
          "LRIR",
          "UNEMP^2",
          "UNEMP LRIR",
          "LRIR^2",
          "UNEMP",
          "LRIR",
          "UNEMP^2",
          "UNEMP LRIR",
          "LRIR^2",
          "UNEMP",
          "LRIR",
          "UNEMP^2",
          "UNEMP LRIR",
          "LRIR^2",
          "UNEMP",
          "LRIR",
          "UNEMP^2",
          "UNEMP LRIR",
          "LRIR^2",
          "UNEMP",
          "LRIR",
          "UNEMP^2",
          "UNEMP LRIR",
          "LRIR^2",
          "UNEMP",
          "LRIR",
          "UNEMP^2",
          "UNEMP LRIR",
          "LRIR^2",
          "UNEMP",
          "LRIR",
          "UNEMP^2",
          "UNEMP LRIR",
          "LRIR^2",
          "UNEMP",
          "LRIR",
          "UNEMP^2",
          "UNEMP LRIR",
          "LRIR^2",
          "UNEMP",
          "LRIR",
          "UNEMP^2",
          "UNEMP LRIR",
          "LRIR^2",
          "UNEMP",
          "LRIR",
          "UNEMP^2",
          "UNEMP LRIR",
          "LRIR^2",
          "UNEMP",
          "LRIR",
          "UNEMP^2",
          "UNEMP LRIR",
          "LRIR^2",
          "UNEMP",
          "LRIR",
          "UNEMP^2",
          "UNEMP LRIR",
          "LRIR^2"
         ],
         "x0": " ",
         "xaxis": "x2",
         "y": [
          0.04869361109197612,
          0.04562945711000732,
          0.008460253354453995,
          0.08638770933303497,
          -0.02874563938765262,
          0.06490533018270994,
          0.052290348841241396,
          0.05784089150227534,
          0.08893784401832616,
          -0.03265769364382587,
          0.026193125099408965,
          0.05721378780969821,
          0.031086058454734777,
          0.07789959122181522,
          -0.016064991859731315,
          -0.07416582245818626,
          0.0588095193526621,
          -0.08993363808249533,
          0.03247791722169269,
          -0.00510911140410919,
          -0.23043621017654303,
          0.048292375100350005,
          -0.2721028120573511,
          -0.025161894642353966,
          -0.003469035459204184,
          -0.34389571618971126,
          0.025881006009889074,
          -0.3841581785480802,
          -0.06213342998162941,
          -0.03746645959788508,
          -0.08179920555144848,
          0.03277884141141474,
          -0.20804715016922404,
          0.055098070563459056,
          0.06192016554552626,
          0.013610443899751745,
          0.028652594056486125,
          -0.04893991516872909,
          0.07045390462275425,
          -0.015124981318216935,
          0.04704301058496663,
          0.033840275560366395,
          0.03135409515134979,
          0.0753975446931946,
          -0.05073186822326148,
          0.023601615139862808,
          0.03804425386028931,
          0.022983308569823224,
          0.06769990135836035,
          -0.04448836886642704,
          -0.057694976274410004,
          0.04170372668916622,
          -0.07352089239645232,
          0.03538177326086245,
          -0.027946061234563224,
          -0.19474521597964545,
          0.035111934305584236,
          -0.242456628900936,
          -0.028101182577311645,
          -0.020884609248718267,
          -0.1340246231826452,
          0.015762648236716914,
          -0.2797737579428963,
          0.02592459913271583,
          0.07325241796871773,
          -0.027070551691828815,
          0.018332564565534448,
          -0.10650821074113359,
          0.0523450837103252,
          0.017834117545322048,
          0.02469815546973475,
          0.016113672302677906,
          -0.0013711194622161305,
          0.06163974019018115,
          -0.04534239189652445,
          0.021736368866751787,
          0.019890081384147384,
          0.018826657479957154,
          0.05993280736067674,
          -0.06534186828643218,
          -0.037213718527796646,
          0.024689179378759918,
          -0.048384428316341266,
          0.035513672544652874,
          -0.053952617214631404,
          -0.15585450879507068,
          0.021683413285202846,
          -0.20584020458660213,
          -0.016591043262424776,
          -0.042144300314107874
         ],
         "y0": " ",
         "yaxis": "y2"
        },
        {
         "alignmentgroup": "True",
         "boxpoints": "all",
         "fillcolor": "rgba(255,255,255,0)",
         "hoveron": "points",
         "hovertemplate": "sc=6<br>theta=%{x}<br>diff=%{y}<extra></extra>",
         "legendgroup": "6",
         "line": {
          "color": "rgba(255,255,255,0)"
         },
         "marker": {
          "color": "#00cc96",
          "opacity": 0.5,
          "size": 5
         },
         "name": "6",
         "offsetgroup": "6",
         "orientation": "v",
         "pointpos": 0,
         "showlegend": true,
         "type": "box",
         "x": [
          "UNEMP",
          "LRIR",
          "UNEMP^2",
          "UNEMP LRIR",
          "LRIR^2",
          "UNEMP",
          "LRIR",
          "UNEMP^2",
          "UNEMP LRIR",
          "LRIR^2",
          "UNEMP",
          "LRIR",
          "UNEMP^2",
          "UNEMP LRIR",
          "LRIR^2",
          "UNEMP",
          "LRIR",
          "UNEMP^2",
          "UNEMP LRIR",
          "LRIR^2",
          "UNEMP",
          "LRIR",
          "UNEMP^2",
          "UNEMP LRIR",
          "LRIR^2",
          "UNEMP",
          "LRIR",
          "UNEMP^2",
          "UNEMP LRIR",
          "LRIR^2",
          "UNEMP",
          "LRIR",
          "UNEMP^2",
          "UNEMP LRIR",
          "LRIR^2",
          "UNEMP",
          "LRIR",
          "UNEMP^2",
          "UNEMP LRIR",
          "LRIR^2",
          "UNEMP",
          "LRIR",
          "UNEMP^2",
          "UNEMP LRIR",
          "LRIR^2",
          "UNEMP",
          "LRIR",
          "UNEMP^2",
          "UNEMP LRIR",
          "LRIR^2",
          "UNEMP",
          "LRIR",
          "UNEMP^2",
          "UNEMP LRIR",
          "LRIR^2",
          "UNEMP",
          "LRIR",
          "UNEMP^2",
          "UNEMP LRIR",
          "LRIR^2",
          "UNEMP",
          "LRIR",
          "UNEMP^2",
          "UNEMP LRIR",
          "LRIR^2",
          "UNEMP",
          "LRIR",
          "UNEMP^2",
          "UNEMP LRIR",
          "LRIR^2",
          "UNEMP",
          "LRIR",
          "UNEMP^2",
          "UNEMP LRIR",
          "LRIR^2",
          "UNEMP",
          "LRIR",
          "UNEMP^2",
          "UNEMP LRIR",
          "LRIR^2",
          "UNEMP",
          "LRIR",
          "UNEMP^2",
          "UNEMP LRIR",
          "LRIR^2",
          "UNEMP",
          "LRIR",
          "UNEMP^2",
          "UNEMP LRIR",
          "LRIR^2"
         ],
         "x0": " ",
         "xaxis": "x",
         "y": [
          -0.7273169313764338,
          -0.8294352903463924,
          -0.26469245593601265,
          -1.2480286779854843,
          0.5154046990955301,
          -1.0331720282235963,
          -0.8298004878312533,
          -0.9655972346845854,
          -1.1487062669690644,
          0.7939910231309444,
          -0.6323233804095665,
          -0.7808657184360079,
          -0.7044690996414822,
          -0.9181026307026379,
          0.7860346239088472,
          0.48485171678257544,
          -0.6632322735639224,
          0.6183829616863825,
          -0.30132554147517077,
          0.8131466974186434,
          2.1307796454388246,
          -0.4550642409995884,
          2.5445417897637324,
          0.45853148302146884,
          1.0354302886026119,
          3.3481398638533513,
          -0.19066008079370356,
          3.7813054050249857,
          0.920444019414072,
          1.6087056313628114,
          0.8349265978676979,
          -0.6572127441048163,
          2.1520873268431675,
          -0.9293135721913846,
          -0.7511946219551291,
          -0.35860665031500183,
          -0.7318088434808043,
          0.3435711923928242,
          -1.2005834649438594,
          0.22187445705714026,
          -0.8903345378054883,
          -0.7693271319136343,
          -0.7199123412254522,
          -1.182227468379061,
          0.7903753490431882,
          -0.6987530533608659,
          -0.7263648700366687,
          -0.7056814961835585,
          -0.9640683981838176,
          0.9435135741393328,
          0.18351040532128238,
          -0.6362590223760751,
          0.36709078678364016,
          -0.4770946070397244,
          0.9264537801783828,
          1.6334565268777652,
          -0.42368973358133566,
          2.169628698430042,
          0.3417696368147176,
          1.0886749936364613,
          1.3927313682179374,
          -0.4936742001937695,
          2.843900468655521,
          -0.5817332657540906,
          -1.0562382192379918,
          0.07204833720338932,
          -0.6339161360143333,
          0.9533762468266005,
          -1.0529071472652891,
          -0.2580421843372278,
          -0.6845898502477521,
          -0.6863120430210081,
          -0.38759803340083465,
          -1.1927393403180702,
          0.5616149186325821,
          -0.7469898446261176,
          -0.6764056337974154,
          -0.7265093846123332,
          -1.0641315444000572,
          0.9655546102404067,
          -0.12289599170065024,
          -0.6013735391505683,
          0.029323118674465576,
          -0.6356643534083979,
          1.065235511015647,
          1.1171617831672567,
          -0.43837260477067375,
          1.7093630698604478,
          0.05908723977393038,
          1.1357839490611337
         ],
         "y0": " ",
         "yaxis": "y"
        },
        {
         "alignmentgroup": "True",
         "boxpoints": "all",
         "fillcolor": "rgba(255,255,255,0)",
         "hoveron": "points",
         "hovertemplate": "sc=6<br>theta=%{x}<br>diff=%{y}<extra></extra>",
         "legendgroup": "6",
         "line": {
          "color": "rgba(255,255,255,0)"
         },
         "marker": {
          "color": "#00cc96",
          "opacity": 0.5,
          "size": 5
         },
         "name": "6",
         "offsetgroup": "6",
         "orientation": "v",
         "pointpos": 0,
         "showlegend": false,
         "type": "box",
         "x": [
          "UNEMP",
          "LRIR",
          "UNEMP^2",
          "UNEMP LRIR",
          "LRIR^2",
          "UNEMP",
          "LRIR",
          "UNEMP^2",
          "UNEMP LRIR",
          "LRIR^2",
          "UNEMP",
          "LRIR",
          "UNEMP^2",
          "UNEMP LRIR",
          "LRIR^2",
          "UNEMP",
          "LRIR",
          "UNEMP^2",
          "UNEMP LRIR",
          "LRIR^2",
          "UNEMP",
          "LRIR",
          "UNEMP^2",
          "UNEMP LRIR",
          "LRIR^2",
          "UNEMP",
          "LRIR",
          "UNEMP^2",
          "UNEMP LRIR",
          "LRIR^2",
          "UNEMP",
          "LRIR",
          "UNEMP^2",
          "UNEMP LRIR",
          "LRIR^2",
          "UNEMP",
          "LRIR",
          "UNEMP^2",
          "UNEMP LRIR",
          "LRIR^2",
          "UNEMP",
          "LRIR",
          "UNEMP^2",
          "UNEMP LRIR",
          "LRIR^2",
          "UNEMP",
          "LRIR",
          "UNEMP^2",
          "UNEMP LRIR",
          "LRIR^2",
          "UNEMP",
          "LRIR",
          "UNEMP^2",
          "UNEMP LRIR",
          "LRIR^2",
          "UNEMP",
          "LRIR",
          "UNEMP^2",
          "UNEMP LRIR",
          "LRIR^2",
          "UNEMP",
          "LRIR",
          "UNEMP^2",
          "UNEMP LRIR",
          "LRIR^2",
          "UNEMP",
          "LRIR",
          "UNEMP^2",
          "UNEMP LRIR",
          "LRIR^2",
          "UNEMP",
          "LRIR",
          "UNEMP^2",
          "UNEMP LRIR",
          "LRIR^2",
          "UNEMP",
          "LRIR",
          "UNEMP^2",
          "UNEMP LRIR",
          "LRIR^2",
          "UNEMP",
          "LRIR",
          "UNEMP^2",
          "UNEMP LRIR",
          "LRIR^2",
          "UNEMP",
          "LRIR",
          "UNEMP^2",
          "UNEMP LRIR",
          "LRIR^2"
         ],
         "x0": " ",
         "xaxis": "x2",
         "y": [
          0.06134044518308179,
          0.069609224665101,
          0.02282048930890168,
          0.10261936935341054,
          -0.046067076994816714,
          0.08876339789145404,
          0.07197418141141576,
          0.08322194764922297,
          0.09815210990676448,
          -0.07408723099333958,
          0.057139826699756924,
          0.07009432429134133,
          0.06345397609802761,
          0.08190445140411418,
          -0.07553313902999181,
          -0.046044871002207,
          0.05991439523742559,
          -0.059058919660244236,
          0.027660615928822074,
          -0.07829858394923828,
          -0.20857091174023057,
          0.03980221509383719,
          -0.2533143635406465,
          -0.041793498445411026,
          -0.0967827478732255,
          -0.33081057724202423,
          0.016124543844676653,
          -0.38019649979352266,
          -0.08195703746719762,
          -0.1476932721491122,
          -0.07025380529789849,
          0.05116508117126928,
          -0.1930377212110821,
          0.07128228188794239,
          0.058184022207795616,
          0.029690637372093875,
          0.05944075874080612,
          -0.02946068110544986,
          0.09514908003278932,
          -0.01891178937959692,
          0.07463442526045827,
          0.06488156837449277,
          0.06086351591902317,
          0.09765413170508941,
          -0.07183267924108205,
          0.06127120451714885,
          0.06360827689494186,
          0.06185823095869314,
          0.08346308932440927,
          -0.08923162076505087,
          -0.017100529118533325,
          0.05710588847675524,
          -0.03448979767499549,
          0.04313847848614216,
          -0.08921463532498863,
          -0.1589068854353728,
          0.037570730945975184,
          -0.2159345485112959,
          -0.03140108682516096,
          -0.10342752477461303,
          -0.11696804988084664,
          0.03740437096977378,
          -0.2568214114962032,
          0.043853222142851145,
          0.07743995162562567,
          -0.005865889540336733,
          0.04966582516668394,
          -0.08127211280975033,
          0.08057532606733664,
          0.020638555768917266,
          0.05602981379356031,
          0.05616563643561323,
          0.032222244304280334,
          0.09498885854009487,
          -0.04900216439805849,
          0.06353813572515576,
          0.05774120492226742,
          0.061860565745646245,
          0.08905147396190594,
          -0.08929427822618519,
          0.011086669078959943,
          0.0530050812274514,
          -0.0026646182404901353,
          0.055933093152727986,
          -0.1015769497400908,
          -0.10695766823118058,
          0.03901603083169114,
          -0.16804055063882994,
          -0.00538621384194915,
          -0.10883218917433524
         ],
         "y0": " ",
         "yaxis": "y2"
        }
       ],
       "layout": {
        "annotations": [
         {
          "font": {
           "color": "grey",
           "size": 11
          },
          "showarrow": false,
          "text": "RMSE",
          "x": 0.225,
          "xanchor": "center",
          "xref": "paper",
          "y": 0.95,
          "yanchor": "bottom",
          "yref": "paper"
         },
         {
          "font": {
           "color": "grey",
           "size": 11
          },
          "showarrow": false,
          "text": "Adj-R2",
          "x": 0.775,
          "xanchor": "center",
          "xref": "paper",
          "y": 0.95,
          "yanchor": "bottom",
          "yref": "paper"
         }
        ],
        "height": 400,
        "legend": {
         "orientation": "h",
         "title": {
          "text": "Scopes:"
         },
         "x": 0.5,
         "xanchor": "center",
         "y": -0.1,
         "yanchor": "top"
        },
        "margin": {
         "b": 60,
         "l": 80,
         "r": 40,
         "t": 80
        },
        "template": {
         "data": {
          "bar": [
           {
            "error_x": {
             "color": "#f2f5fa"
            },
            "error_y": {
             "color": "#f2f5fa"
            },
            "marker": {
             "line": {
              "color": "rgb(17,17,17)",
              "width": 0.5
             },
             "pattern": {
              "fillmode": "overlay",
              "size": 10,
              "solidity": 0.2
             }
            },
            "type": "bar"
           }
          ],
          "barpolar": [
           {
            "marker": {
             "line": {
              "color": "rgb(17,17,17)",
              "width": 0.5
             },
             "pattern": {
              "fillmode": "overlay",
              "size": 10,
              "solidity": 0.2
             }
            },
            "type": "barpolar"
           }
          ],
          "carpet": [
           {
            "aaxis": {
             "endlinecolor": "#A2B1C6",
             "gridcolor": "#506784",
             "linecolor": "#506784",
             "minorgridcolor": "#506784",
             "startlinecolor": "#A2B1C6"
            },
            "baxis": {
             "endlinecolor": "#A2B1C6",
             "gridcolor": "#506784",
             "linecolor": "#506784",
             "minorgridcolor": "#506784",
             "startlinecolor": "#A2B1C6"
            },
            "type": "carpet"
           }
          ],
          "choropleth": [
           {
            "colorbar": {
             "outlinewidth": 0,
             "ticks": ""
            },
            "type": "choropleth"
           }
          ],
          "contour": [
           {
            "colorbar": {
             "outlinewidth": 0,
             "ticks": ""
            },
            "colorscale": [
             [
              0,
              "#0d0887"
             ],
             [
              0.1111111111111111,
              "#46039f"
             ],
             [
              0.2222222222222222,
              "#7201a8"
             ],
             [
              0.3333333333333333,
              "#9c179e"
             ],
             [
              0.4444444444444444,
              "#bd3786"
             ],
             [
              0.5555555555555556,
              "#d8576b"
             ],
             [
              0.6666666666666666,
              "#ed7953"
             ],
             [
              0.7777777777777778,
              "#fb9f3a"
             ],
             [
              0.8888888888888888,
              "#fdca26"
             ],
             [
              1,
              "#f0f921"
             ]
            ],
            "type": "contour"
           }
          ],
          "contourcarpet": [
           {
            "colorbar": {
             "outlinewidth": 0,
             "ticks": ""
            },
            "type": "contourcarpet"
           }
          ],
          "heatmap": [
           {
            "colorbar": {
             "outlinewidth": 0,
             "ticks": ""
            },
            "colorscale": [
             [
              0,
              "#0d0887"
             ],
             [
              0.1111111111111111,
              "#46039f"
             ],
             [
              0.2222222222222222,
              "#7201a8"
             ],
             [
              0.3333333333333333,
              "#9c179e"
             ],
             [
              0.4444444444444444,
              "#bd3786"
             ],
             [
              0.5555555555555556,
              "#d8576b"
             ],
             [
              0.6666666666666666,
              "#ed7953"
             ],
             [
              0.7777777777777778,
              "#fb9f3a"
             ],
             [
              0.8888888888888888,
              "#fdca26"
             ],
             [
              1,
              "#f0f921"
             ]
            ],
            "type": "heatmap"
           }
          ],
          "heatmapgl": [
           {
            "colorbar": {
             "outlinewidth": 0,
             "ticks": ""
            },
            "colorscale": [
             [
              0,
              "#0d0887"
             ],
             [
              0.1111111111111111,
              "#46039f"
             ],
             [
              0.2222222222222222,
              "#7201a8"
             ],
             [
              0.3333333333333333,
              "#9c179e"
             ],
             [
              0.4444444444444444,
              "#bd3786"
             ],
             [
              0.5555555555555556,
              "#d8576b"
             ],
             [
              0.6666666666666666,
              "#ed7953"
             ],
             [
              0.7777777777777778,
              "#fb9f3a"
             ],
             [
              0.8888888888888888,
              "#fdca26"
             ],
             [
              1,
              "#f0f921"
             ]
            ],
            "type": "heatmapgl"
           }
          ],
          "histogram": [
           {
            "marker": {
             "pattern": {
              "fillmode": "overlay",
              "size": 10,
              "solidity": 0.2
             }
            },
            "type": "histogram"
           }
          ],
          "histogram2d": [
           {
            "colorbar": {
             "outlinewidth": 0,
             "ticks": ""
            },
            "colorscale": [
             [
              0,
              "#0d0887"
             ],
             [
              0.1111111111111111,
              "#46039f"
             ],
             [
              0.2222222222222222,
              "#7201a8"
             ],
             [
              0.3333333333333333,
              "#9c179e"
             ],
             [
              0.4444444444444444,
              "#bd3786"
             ],
             [
              0.5555555555555556,
              "#d8576b"
             ],
             [
              0.6666666666666666,
              "#ed7953"
             ],
             [
              0.7777777777777778,
              "#fb9f3a"
             ],
             [
              0.8888888888888888,
              "#fdca26"
             ],
             [
              1,
              "#f0f921"
             ]
            ],
            "type": "histogram2d"
           }
          ],
          "histogram2dcontour": [
           {
            "colorbar": {
             "outlinewidth": 0,
             "ticks": ""
            },
            "colorscale": [
             [
              0,
              "#0d0887"
             ],
             [
              0.1111111111111111,
              "#46039f"
             ],
             [
              0.2222222222222222,
              "#7201a8"
             ],
             [
              0.3333333333333333,
              "#9c179e"
             ],
             [
              0.4444444444444444,
              "#bd3786"
             ],
             [
              0.5555555555555556,
              "#d8576b"
             ],
             [
              0.6666666666666666,
              "#ed7953"
             ],
             [
              0.7777777777777778,
              "#fb9f3a"
             ],
             [
              0.8888888888888888,
              "#fdca26"
             ],
             [
              1,
              "#f0f921"
             ]
            ],
            "type": "histogram2dcontour"
           }
          ],
          "mesh3d": [
           {
            "colorbar": {
             "outlinewidth": 0,
             "ticks": ""
            },
            "type": "mesh3d"
           }
          ],
          "parcoords": [
           {
            "line": {
             "colorbar": {
              "outlinewidth": 0,
              "ticks": ""
             }
            },
            "type": "parcoords"
           }
          ],
          "pie": [
           {
            "automargin": true,
            "type": "pie"
           }
          ],
          "scatter": [
           {
            "marker": {
             "line": {
              "color": "#283442"
             }
            },
            "type": "scatter"
           }
          ],
          "scatter3d": [
           {
            "line": {
             "colorbar": {
              "outlinewidth": 0,
              "ticks": ""
             }
            },
            "marker": {
             "colorbar": {
              "outlinewidth": 0,
              "ticks": ""
             }
            },
            "type": "scatter3d"
           }
          ],
          "scattercarpet": [
           {
            "marker": {
             "colorbar": {
              "outlinewidth": 0,
              "ticks": ""
             }
            },
            "type": "scattercarpet"
           }
          ],
          "scattergeo": [
           {
            "marker": {
             "colorbar": {
              "outlinewidth": 0,
              "ticks": ""
             }
            },
            "type": "scattergeo"
           }
          ],
          "scattergl": [
           {
            "marker": {
             "line": {
              "color": "#283442"
             }
            },
            "type": "scattergl"
           }
          ],
          "scattermapbox": [
           {
            "marker": {
             "colorbar": {
              "outlinewidth": 0,
              "ticks": ""
             }
            },
            "type": "scattermapbox"
           }
          ],
          "scatterpolar": [
           {
            "marker": {
             "colorbar": {
              "outlinewidth": 0,
              "ticks": ""
             }
            },
            "type": "scatterpolar"
           }
          ],
          "scatterpolargl": [
           {
            "marker": {
             "colorbar": {
              "outlinewidth": 0,
              "ticks": ""
             }
            },
            "type": "scatterpolargl"
           }
          ],
          "scatterternary": [
           {
            "marker": {
             "colorbar": {
              "outlinewidth": 0,
              "ticks": ""
             }
            },
            "type": "scatterternary"
           }
          ],
          "surface": [
           {
            "colorbar": {
             "outlinewidth": 0,
             "ticks": ""
            },
            "colorscale": [
             [
              0,
              "#0d0887"
             ],
             [
              0.1111111111111111,
              "#46039f"
             ],
             [
              0.2222222222222222,
              "#7201a8"
             ],
             [
              0.3333333333333333,
              "#9c179e"
             ],
             [
              0.4444444444444444,
              "#bd3786"
             ],
             [
              0.5555555555555556,
              "#d8576b"
             ],
             [
              0.6666666666666666,
              "#ed7953"
             ],
             [
              0.7777777777777778,
              "#fb9f3a"
             ],
             [
              0.8888888888888888,
              "#fdca26"
             ],
             [
              1,
              "#f0f921"
             ]
            ],
            "type": "surface"
           }
          ],
          "table": [
           {
            "cells": {
             "fill": {
              "color": "#506784"
             },
             "line": {
              "color": "rgb(17,17,17)"
             }
            },
            "header": {
             "fill": {
              "color": "#2a3f5f"
             },
             "line": {
              "color": "rgb(17,17,17)"
             }
            },
            "type": "table"
           }
          ]
         },
         "layout": {
          "annotationdefaults": {
           "arrowcolor": "#f2f5fa",
           "arrowhead": 0,
           "arrowwidth": 1
          },
          "autotypenumbers": "strict",
          "coloraxis": {
           "colorbar": {
            "outlinewidth": 0,
            "ticks": ""
           }
          },
          "colorscale": {
           "diverging": [
            [
             0,
             "#8e0152"
            ],
            [
             0.1,
             "#c51b7d"
            ],
            [
             0.2,
             "#de77ae"
            ],
            [
             0.3,
             "#f1b6da"
            ],
            [
             0.4,
             "#fde0ef"
            ],
            [
             0.5,
             "#f7f7f7"
            ],
            [
             0.6,
             "#e6f5d0"
            ],
            [
             0.7,
             "#b8e186"
            ],
            [
             0.8,
             "#7fbc41"
            ],
            [
             0.9,
             "#4d9221"
            ],
            [
             1,
             "#276419"
            ]
           ],
           "sequential": [
            [
             0,
             "#0d0887"
            ],
            [
             0.1111111111111111,
             "#46039f"
            ],
            [
             0.2222222222222222,
             "#7201a8"
            ],
            [
             0.3333333333333333,
             "#9c179e"
            ],
            [
             0.4444444444444444,
             "#bd3786"
            ],
            [
             0.5555555555555556,
             "#d8576b"
            ],
            [
             0.6666666666666666,
             "#ed7953"
            ],
            [
             0.7777777777777778,
             "#fb9f3a"
            ],
            [
             0.8888888888888888,
             "#fdca26"
            ],
            [
             1,
             "#f0f921"
            ]
           ],
           "sequentialminus": [
            [
             0,
             "#0d0887"
            ],
            [
             0.1111111111111111,
             "#46039f"
            ],
            [
             0.2222222222222222,
             "#7201a8"
            ],
            [
             0.3333333333333333,
             "#9c179e"
            ],
            [
             0.4444444444444444,
             "#bd3786"
            ],
            [
             0.5555555555555556,
             "#d8576b"
            ],
            [
             0.6666666666666666,
             "#ed7953"
            ],
            [
             0.7777777777777778,
             "#fb9f3a"
            ],
            [
             0.8888888888888888,
             "#fdca26"
            ],
            [
             1,
             "#f0f921"
            ]
           ]
          },
          "colorway": [
           "#636efa",
           "#EF553B",
           "#00cc96",
           "#ab63fa",
           "#FFA15A",
           "#19d3f3",
           "#FF6692",
           "#B6E880",
           "#FF97FF",
           "#FECB52"
          ],
          "font": {
           "color": "#f2f5fa"
          },
          "geo": {
           "bgcolor": "rgb(17,17,17)",
           "lakecolor": "rgb(17,17,17)",
           "landcolor": "rgb(17,17,17)",
           "showlakes": true,
           "showland": true,
           "subunitcolor": "#506784"
          },
          "hoverlabel": {
           "align": "left"
          },
          "hovermode": "closest",
          "mapbox": {
           "style": "dark"
          },
          "paper_bgcolor": "rgb(17,17,17)",
          "plot_bgcolor": "rgb(17,17,17)",
          "polar": {
           "angularaxis": {
            "gridcolor": "#506784",
            "linecolor": "#506784",
            "ticks": ""
           },
           "bgcolor": "rgb(17,17,17)",
           "radialaxis": {
            "gridcolor": "#506784",
            "linecolor": "#506784",
            "ticks": ""
           }
          },
          "scene": {
           "xaxis": {
            "backgroundcolor": "rgb(17,17,17)",
            "gridcolor": "#506784",
            "gridwidth": 2,
            "linecolor": "#506784",
            "showbackground": true,
            "ticks": "",
            "zerolinecolor": "#C8D4E3"
           },
           "yaxis": {
            "backgroundcolor": "rgb(17,17,17)",
            "gridcolor": "#506784",
            "gridwidth": 2,
            "linecolor": "#506784",
            "showbackground": true,
            "ticks": "",
            "zerolinecolor": "#C8D4E3"
           },
           "zaxis": {
            "backgroundcolor": "rgb(17,17,17)",
            "gridcolor": "#506784",
            "gridwidth": 2,
            "linecolor": "#506784",
            "showbackground": true,
            "ticks": "",
            "zerolinecolor": "#C8D4E3"
           }
          },
          "shapedefaults": {
           "line": {
            "color": "#f2f5fa"
           }
          },
          "sliderdefaults": {
           "bgcolor": "#C8D4E3",
           "bordercolor": "rgb(17,17,17)",
           "borderwidth": 1,
           "tickwidth": 0
          },
          "ternary": {
           "aaxis": {
            "gridcolor": "#506784",
            "linecolor": "#506784",
            "ticks": ""
           },
           "baxis": {
            "gridcolor": "#506784",
            "linecolor": "#506784",
            "ticks": ""
           },
           "bgcolor": "rgb(17,17,17)",
           "caxis": {
            "gridcolor": "#506784",
            "linecolor": "#506784",
            "ticks": ""
           }
          },
          "title": {
           "x": 0.05
          },
          "updatemenudefaults": {
           "bgcolor": "#506784",
           "borderwidth": 0
          },
          "xaxis": {
           "automargin": true,
           "gridcolor": "#283442",
           "linecolor": "#506784",
           "ticks": "",
           "title": {
            "standoff": 15
           },
           "zerolinecolor": "#283442",
           "zerolinewidth": 2
          },
          "yaxis": {
           "automargin": true,
           "gridcolor": "#283442",
           "linecolor": "#506784",
           "ticks": "",
           "title": {
            "standoff": 15
           },
           "zerolinecolor": "#283442",
           "zerolinewidth": 2
          }
         }
        },
        "title": {
         "text": "Observe Backward Elimination in All Models With Repect to Scopes<br><span style=\"font-size: 12.5px; color: lightgrey;\"> -- How meansures are changed by removing the impact of each coefficient</span>"
        },
        "width": 800,
        "xaxis": {
         "anchor": "y",
         "domain": [
          0,
          0.45
         ]
        },
        "xaxis2": {
         "anchor": "y2",
         "domain": [
          0.55,
          1
         ]
        },
        "yaxis": {
         "anchor": "x",
         "domain": [
          0,
          1
         ],
         "title": {
          "text": "Difference"
         }
        },
        "yaxis2": {
         "anchor": "x2",
         "domain": [
          0,
          1
         ]
        }
       }
      }
     },
     "metadata": {},
     "output_type": "display_data"
    },
    {
     "data": {
      "application/vnd.plotly.v1+json": {
       "config": {
        "plotlyServerURL": "https://plot.ly"
       },
       "data": [
        {
         "alignmentgroup": "True",
         "boxpoints": "all",
         "fillcolor": "rgba(255,255,255,0)",
         "hoveron": "points",
         "hovertemplate": "ma=1<br>theta=%{x}<br>diff=%{y}<extra></extra>",
         "legendgroup": "1",
         "line": {
          "color": "rgba(255,255,255,0)"
         },
         "marker": {
          "color": "#636efa",
          "opacity": 0.5,
          "size": 5
         },
         "name": "1",
         "offsetgroup": "1",
         "orientation": "v",
         "pointpos": 0,
         "showlegend": true,
         "type": "box",
         "x": [
          "UNEMP",
          "LRIR",
          "UNEMP^2",
          "UNEMP LRIR",
          "LRIR^2",
          "UNEMP",
          "LRIR",
          "UNEMP^2",
          "UNEMP LRIR",
          "LRIR^2",
          "UNEMP",
          "LRIR",
          "UNEMP^2",
          "UNEMP LRIR",
          "LRIR^2",
          "UNEMP",
          "LRIR",
          "UNEMP^2",
          "UNEMP LRIR",
          "LRIR^2",
          "UNEMP",
          "LRIR",
          "UNEMP^2",
          "UNEMP LRIR",
          "LRIR^2",
          "UNEMP",
          "LRIR",
          "UNEMP^2",
          "UNEMP LRIR",
          "LRIR^2",
          "UNEMP",
          "LRIR",
          "UNEMP^2",
          "UNEMP LRIR",
          "LRIR^2",
          "UNEMP",
          "LRIR",
          "UNEMP^2",
          "UNEMP LRIR",
          "LRIR^2",
          "UNEMP",
          "LRIR",
          "UNEMP^2",
          "UNEMP LRIR",
          "LRIR^2",
          "UNEMP",
          "LRIR",
          "UNEMP^2",
          "UNEMP LRIR",
          "LRIR^2",
          "UNEMP",
          "LRIR",
          "UNEMP^2",
          "UNEMP LRIR",
          "LRIR^2",
          "UNEMP",
          "LRIR",
          "UNEMP^2",
          "UNEMP LRIR",
          "LRIR^2",
          "UNEMP",
          "LRIR",
          "UNEMP^2",
          "UNEMP LRIR",
          "LRIR^2",
          "UNEMP",
          "LRIR",
          "UNEMP^2",
          "UNEMP LRIR",
          "LRIR^2",
          "UNEMP",
          "LRIR",
          "UNEMP^2",
          "UNEMP LRIR",
          "LRIR^2",
          "UNEMP",
          "LRIR",
          "UNEMP^2",
          "UNEMP LRIR",
          "LRIR^2",
          "UNEMP",
          "LRIR",
          "UNEMP^2",
          "UNEMP LRIR",
          "LRIR^2",
          "UNEMP",
          "LRIR",
          "UNEMP^2",
          "UNEMP LRIR",
          "LRIR^2"
         ],
         "x0": " ",
         "xaxis": "x",
         "y": [
          -0.5511897840797308,
          -0.6785478901326734,
          0.2238871290185882,
          -1.4991461626438136,
          -0.16577797173476494,
          -0.8477104812211085,
          -0.9947541485874298,
          -0.59982436471289,
          -1.7208732092867685,
          -0.44591502039624054,
          -0.01832925875892144,
          -1.1147899902022589,
          0.013895878002638362,
          -1.3435783860229602,
          -0.5789774737767823,
          1.523092713939187,
          -1.0463837798062174,
          1.7363497740108524,
          -0.46194597053782793,
          -0.5325865530950855,
          3.1241487607907583,
          -1.120161849129408,
          3.4788522356565412,
          0.1952335258645448,
          -0.8608859882215523,
          4.3122983026944395,
          -0.9363991480862301,
          4.640999981186751,
          0.69107177407344,
          -0.9274127676822843,
          -0.686380185177585,
          -0.6415429717092138,
          -0.11548404577479765,
          -1.2589394262188547,
          0.38186440631763396,
          -0.9050249271090269,
          -0.7216551923081678,
          -0.8018502981748163,
          -1.2659160881791411,
          0.4236034420342101,
          -0.34686431640002624,
          -0.7754336003842379,
          -0.4131235097750494,
          -1.0732951583256316,
          0.20662451766329148,
          0.9175984220915385,
          -0.7956151538918181,
          1.1025100558137808,
          -0.43080893215262606,
          0.06601619295006778,
          2.6873613079478496,
          -0.6686376939858452,
          3.111296969178433,
          0.32999615798104287,
          0.04618886900609098,
          3.890370226893957,
          -0.3630351855870497,
          4.271728860714376,
          0.817147341869207,
          0.5011162326670355,
          -0.7273169313764338,
          -0.8294352903463924,
          -0.26469245593601265,
          -1.2480286779854843,
          0.5154046990955301,
          -1.0331720282235963,
          -0.8298004878312533,
          -0.9655972346845854,
          -1.1487062669690644,
          0.7939910231309444,
          -0.6323233804095665,
          -0.7808657184360079,
          -0.7044690996414822,
          -0.9181026307026379,
          0.7860346239088472,
          0.48485171678257544,
          -0.6632322735639224,
          0.6183829616863825,
          -0.30132554147517077,
          0.8131466974186434,
          2.1307796454388246,
          -0.4550642409995884,
          2.5445417897637324,
          0.45853148302146884,
          1.0354302886026119,
          3.3481398638533513,
          -0.19066008079370356,
          3.7813054050249857,
          0.920444019414072,
          1.6087056313628114
         ],
         "y0": " ",
         "yaxis": "y"
        },
        {
         "alignmentgroup": "True",
         "boxpoints": "all",
         "fillcolor": "rgba(255,255,255,0)",
         "hoveron": "points",
         "hovertemplate": "ma=1<br>theta=%{x}<br>diff=%{y}<extra></extra>",
         "legendgroup": "1",
         "line": {
          "color": "rgba(255,255,255,0)"
         },
         "marker": {
          "color": "#636efa",
          "opacity": 0.5,
          "size": 5
         },
         "name": "1",
         "offsetgroup": "1",
         "orientation": "v",
         "pointpos": 0,
         "showlegend": false,
         "type": "box",
         "x": [
          "UNEMP",
          "LRIR",
          "UNEMP^2",
          "UNEMP LRIR",
          "LRIR^2",
          "UNEMP",
          "LRIR",
          "UNEMP^2",
          "UNEMP LRIR",
          "LRIR^2",
          "UNEMP",
          "LRIR",
          "UNEMP^2",
          "UNEMP LRIR",
          "LRIR^2",
          "UNEMP",
          "LRIR",
          "UNEMP^2",
          "UNEMP LRIR",
          "LRIR^2",
          "UNEMP",
          "LRIR",
          "UNEMP^2",
          "UNEMP LRIR",
          "LRIR^2",
          "UNEMP",
          "LRIR",
          "UNEMP^2",
          "UNEMP LRIR",
          "LRIR^2",
          "UNEMP",
          "LRIR",
          "UNEMP^2",
          "UNEMP LRIR",
          "LRIR^2",
          "UNEMP",
          "LRIR",
          "UNEMP^2",
          "UNEMP LRIR",
          "LRIR^2",
          "UNEMP",
          "LRIR",
          "UNEMP^2",
          "UNEMP LRIR",
          "LRIR^2",
          "UNEMP",
          "LRIR",
          "UNEMP^2",
          "UNEMP LRIR",
          "LRIR^2",
          "UNEMP",
          "LRIR",
          "UNEMP^2",
          "UNEMP LRIR",
          "LRIR^2",
          "UNEMP",
          "LRIR",
          "UNEMP^2",
          "UNEMP LRIR",
          "LRIR^2",
          "UNEMP",
          "LRIR",
          "UNEMP^2",
          "UNEMP LRIR",
          "LRIR^2",
          "UNEMP",
          "LRIR",
          "UNEMP^2",
          "UNEMP LRIR",
          "LRIR^2",
          "UNEMP",
          "LRIR",
          "UNEMP^2",
          "UNEMP LRIR",
          "LRIR^2",
          "UNEMP",
          "LRIR",
          "UNEMP^2",
          "UNEMP LRIR",
          "LRIR^2",
          "UNEMP",
          "LRIR",
          "UNEMP^2",
          "UNEMP LRIR",
          "LRIR^2",
          "UNEMP",
          "LRIR",
          "UNEMP^2",
          "UNEMP LRIR",
          "LRIR^2"
         ],
         "x0": " ",
         "xaxis": "x2",
         "y": [
          0.032185682951951566,
          0.039271870072800974,
          -0.013777571171910474,
          0.08177350539811645,
          0.009939539036383338,
          0.04991447393352977,
          0.05798051053937392,
          0.03592046096329948,
          0.09524501423635101,
          0.026981424532873333,
          0.001162157116142204,
          0.06574547385979979,
          -0.000882869654350249,
          0.07799679055961051,
          0.03539863123815756,
          -0.10515030864562736,
          0.06139687832354357,
          -0.12136629851568004,
          0.028193574632479512,
          0.03235320293198285,
          -0.23608642701993354,
          0.06549099778313239,
          -0.26786302980787635,
          -0.012449277401229253,
          0.0512316839233945,
          -0.33953740710206537,
          0.05396297377756765,
          -0.3715535493501272,
          -0.044348436335256314,
          0.05347862247346635,
          0.04869361109197612,
          0.04562945711000732,
          0.008460253354453995,
          0.08638770933303497,
          -0.02874563938765262,
          0.06490533018270994,
          0.052290348841241396,
          0.05784089150227534,
          0.08893784401832616,
          -0.03265769364382587,
          0.026193125099408965,
          0.05721378780969821,
          0.031086058454734777,
          0.07789959122181522,
          -0.016064991859731315,
          -0.07416582245818626,
          0.0588095193526621,
          -0.08993363808249533,
          0.03247791722169269,
          -0.00510911140410919,
          -0.23043621017654303,
          0.048292375100350005,
          -0.2721028120573511,
          -0.025161894642353966,
          -0.003469035459204184,
          -0.34389571618971126,
          0.025881006009889074,
          -0.3841581785480802,
          -0.06213342998162941,
          -0.03746645959788508,
          0.06134044518308179,
          0.069609224665101,
          0.02282048930890168,
          0.10261936935341054,
          -0.046067076994816714,
          0.08876339789145404,
          0.07197418141141576,
          0.08322194764922297,
          0.09815210990676448,
          -0.07408723099333958,
          0.057139826699756924,
          0.07009432429134133,
          0.06345397609802761,
          0.08190445140411418,
          -0.07553313902999181,
          -0.046044871002207,
          0.05991439523742559,
          -0.059058919660244236,
          0.027660615928822074,
          -0.07829858394923828,
          -0.20857091174023057,
          0.03980221509383719,
          -0.2533143635406465,
          -0.041793498445411026,
          -0.0967827478732255,
          -0.33081057724202423,
          0.016124543844676653,
          -0.38019649979352266,
          -0.08195703746719762,
          -0.1476932721491122
         ],
         "y0": " ",
         "yaxis": "y2"
        },
        {
         "alignmentgroup": "True",
         "boxpoints": "all",
         "fillcolor": "rgba(255,255,255,0)",
         "hoveron": "points",
         "hovertemplate": "ma=2<br>theta=%{x}<br>diff=%{y}<extra></extra>",
         "legendgroup": "2",
         "line": {
          "color": "rgba(255,255,255,0)"
         },
         "marker": {
          "color": "#EF553B",
          "opacity": 0.5,
          "size": 5
         },
         "name": "2",
         "offsetgroup": "2",
         "orientation": "v",
         "pointpos": 0,
         "showlegend": true,
         "type": "box",
         "x": [
          "UNEMP",
          "LRIR",
          "UNEMP^2",
          "UNEMP LRIR",
          "LRIR^2",
          "UNEMP",
          "LRIR",
          "UNEMP^2",
          "UNEMP LRIR",
          "LRIR^2",
          "UNEMP",
          "LRIR",
          "UNEMP^2",
          "UNEMP LRIR",
          "LRIR^2",
          "UNEMP",
          "LRIR",
          "UNEMP^2",
          "UNEMP LRIR",
          "LRIR^2",
          "UNEMP",
          "LRIR",
          "UNEMP^2",
          "UNEMP LRIR",
          "LRIR^2",
          "UNEMP",
          "LRIR",
          "UNEMP^2",
          "UNEMP LRIR",
          "LRIR^2",
          "UNEMP",
          "LRIR",
          "UNEMP^2",
          "UNEMP LRIR",
          "LRIR^2",
          "UNEMP",
          "LRIR",
          "UNEMP^2",
          "UNEMP LRIR",
          "LRIR^2",
          "UNEMP",
          "LRIR",
          "UNEMP^2",
          "UNEMP LRIR",
          "LRIR^2",
          "UNEMP",
          "LRIR",
          "UNEMP^2",
          "UNEMP LRIR",
          "LRIR^2",
          "UNEMP",
          "LRIR",
          "UNEMP^2",
          "UNEMP LRIR",
          "LRIR^2",
          "UNEMP",
          "LRIR",
          "UNEMP^2",
          "UNEMP LRIR",
          "LRIR^2",
          "UNEMP",
          "LRIR",
          "UNEMP^2",
          "UNEMP LRIR",
          "LRIR^2",
          "UNEMP",
          "LRIR",
          "UNEMP^2",
          "UNEMP LRIR",
          "LRIR^2",
          "UNEMP",
          "LRIR",
          "UNEMP^2",
          "UNEMP LRIR",
          "LRIR^2",
          "UNEMP",
          "LRIR",
          "UNEMP^2",
          "UNEMP LRIR",
          "LRIR^2",
          "UNEMP",
          "LRIR",
          "UNEMP^2",
          "UNEMP LRIR",
          "LRIR^2",
          "UNEMP",
          "LRIR",
          "UNEMP^2",
          "UNEMP LRIR",
          "LRIR^2"
         ],
         "x0": " ",
         "xaxis": "x",
         "y": [
          2.253033119490386,
          0.29007324065795714,
          3.998392139348491,
          -0.11674615421041601,
          -0.917593670278638,
          0.703836615797945,
          0.30830646200040945,
          1.772222666460559,
          -0.4697609414288815,
          0.38524813161321614,
          0.06417514827136639,
          0.03474584488801025,
          0.463169170846192,
          -0.7793720135892688,
          0.6181796577999412,
          0.5441485070982557,
          -0.1879639836715361,
          0.6315552791412173,
          -0.6626283669970912,
          0.36945213886276296,
          1.910260732826048,
          -0.1888585827847935,
          2.1305490441514117,
          0.0746971188990333,
          0.32977001844935483,
          3.51095462675928,
          -0.15311503796269843,
          3.9693161153063032,
          0.9953108432387996,
          0.17428608064070517,
          1.1458517672218163,
          -0.5089137653130225,
          2.6731766882092467,
          -0.8765308062007424,
          -0.9928043860154228,
          -0.19831077296492872,
          -0.42332072374717455,
          0.676776498230419,
          -1.0855890327421962,
          0.214933991315716,
          -0.6861302647385417,
          -0.48763865174751153,
          -0.4508081968121509,
          -1.1304448146122983,
          0.6827041598276349,
          -0.3289139211572518,
          -0.5367055412209591,
          -0.32013285969109795,
          -0.9808427360850756,
          0.5884441795690947,
          0.7436046242275101,
          -0.5788147474284884,
          0.9377510603560779,
          -0.48850686180777103,
          0.36764458828684354,
          2.3362362690113034,
          -0.4908744223790027,
          2.8372481100506697,
          0.37394486781064096,
          0.2793842809497775,
          0.8349265978676979,
          -0.6572127441048163,
          2.1520873268431675,
          -0.9293135721913846,
          -0.7511946219551291,
          -0.35860665031500183,
          -0.7318088434808043,
          0.3435711923928242,
          -1.2005834649438594,
          0.22187445705714026,
          -0.8903345378054883,
          -0.7693271319136343,
          -0.7199123412254522,
          -1.182227468379061,
          0.7903753490431882,
          -0.6987530533608659,
          -0.7263648700366687,
          -0.7056814961835585,
          -0.9640683981838176,
          0.9435135741393328,
          0.18351040532128238,
          -0.6362590223760751,
          0.36709078678364016,
          -0.4770946070397244,
          0.9264537801783828,
          1.6334565268777652,
          -0.42368973358133566,
          2.169628698430042,
          0.3417696368147176,
          1.0886749936364613
         ],
         "y0": " ",
         "yaxis": "y"
        },
        {
         "alignmentgroup": "True",
         "boxpoints": "all",
         "fillcolor": "rgba(255,255,255,0)",
         "hoveron": "points",
         "hovertemplate": "ma=2<br>theta=%{x}<br>diff=%{y}<extra></extra>",
         "legendgroup": "2",
         "line": {
          "color": "rgba(255,255,255,0)"
         },
         "marker": {
          "color": "#EF553B",
          "opacity": 0.5,
          "size": 5
         },
         "name": "2",
         "offsetgroup": "2",
         "orientation": "v",
         "pointpos": 0,
         "showlegend": false,
         "type": "box",
         "x": [
          "UNEMP",
          "LRIR",
          "UNEMP^2",
          "UNEMP LRIR",
          "LRIR^2",
          "UNEMP",
          "LRIR",
          "UNEMP^2",
          "UNEMP LRIR",
          "LRIR^2",
          "UNEMP",
          "LRIR",
          "UNEMP^2",
          "UNEMP LRIR",
          "LRIR^2",
          "UNEMP",
          "LRIR",
          "UNEMP^2",
          "UNEMP LRIR",
          "LRIR^2",
          "UNEMP",
          "LRIR",
          "UNEMP^2",
          "UNEMP LRIR",
          "LRIR^2",
          "UNEMP",
          "LRIR",
          "UNEMP^2",
          "UNEMP LRIR",
          "LRIR^2",
          "UNEMP",
          "LRIR",
          "UNEMP^2",
          "UNEMP LRIR",
          "LRIR^2",
          "UNEMP",
          "LRIR",
          "UNEMP^2",
          "UNEMP LRIR",
          "LRIR^2",
          "UNEMP",
          "LRIR",
          "UNEMP^2",
          "UNEMP LRIR",
          "LRIR^2",
          "UNEMP",
          "LRIR",
          "UNEMP^2",
          "UNEMP LRIR",
          "LRIR^2",
          "UNEMP",
          "LRIR",
          "UNEMP^2",
          "UNEMP LRIR",
          "LRIR^2",
          "UNEMP",
          "LRIR",
          "UNEMP^2",
          "UNEMP LRIR",
          "LRIR^2",
          "UNEMP",
          "LRIR",
          "UNEMP^2",
          "UNEMP LRIR",
          "LRIR^2",
          "UNEMP",
          "LRIR",
          "UNEMP^2",
          "UNEMP LRIR",
          "LRIR^2",
          "UNEMP",
          "LRIR",
          "UNEMP^2",
          "UNEMP LRIR",
          "LRIR^2",
          "UNEMP",
          "LRIR",
          "UNEMP^2",
          "UNEMP LRIR",
          "LRIR^2",
          "UNEMP",
          "LRIR",
          "UNEMP^2",
          "UNEMP LRIR",
          "LRIR^2",
          "UNEMP",
          "LRIR",
          "UNEMP^2",
          "UNEMP LRIR",
          "LRIR^2"
         ],
         "x0": " ",
         "xaxis": "x2",
         "y": [
          -0.13349378637734,
          -0.014785983142567072,
          -0.26633506407311314,
          0.0057506582835458175,
          0.04209991031029381,
          -0.039016774890624495,
          -0.016577787006349598,
          -0.10620747437067557,
          0.023721642183579306,
          -0.020839675758664522,
          -0.0035255184824571906,
          -0.0019045002883868456,
          -0.026220542292479276,
          0.040055082471617376,
          -0.03539820671988447,
          -0.03190866656112812,
          0.010445032571661628,
          -0.03726567169730011,
          0.03550276929448759,
          -0.021393863329924656,
          -0.12382849283609376,
          0.010582148619301623,
          -0.14007368455715474,
          -0.004267883266991235,
          -0.019193948299511154,
          -0.25073605445233793,
          0.008587332876603848,
          -0.2910827375201932,
          -0.06060390096863133,
          -0.010013449584792666,
          -0.08179920555144848,
          0.03277884141141474,
          -0.20804715016922404,
          0.055098070563459056,
          0.06192016554552626,
          0.013610443899751745,
          0.028652594056486125,
          -0.04893991516872909,
          0.07045390462275425,
          -0.015124981318216935,
          0.04704301058496663,
          0.033840275560366395,
          0.03135409515134979,
          0.0753975446931946,
          -0.05073186822326148,
          0.023601615139862808,
          0.03804425386028931,
          0.022983308569823224,
          0.06769990135836035,
          -0.04448836886642704,
          -0.057694976274410004,
          0.04170372668916622,
          -0.07352089239645232,
          0.03538177326086245,
          -0.027946061234563224,
          -0.19474521597964545,
          0.035111934305584236,
          -0.242456628900936,
          -0.028101182577311645,
          -0.020884609248718267,
          -0.07025380529789849,
          0.05116508117126928,
          -0.1930377212110821,
          0.07128228188794239,
          0.058184022207795616,
          0.029690637372093875,
          0.05944075874080612,
          -0.02946068110544986,
          0.09514908003278932,
          -0.01891178937959692,
          0.07463442526045827,
          0.06488156837449277,
          0.06086351591902317,
          0.09765413170508941,
          -0.07183267924108205,
          0.06127120451714885,
          0.06360827689494186,
          0.06185823095869314,
          0.08346308932440927,
          -0.08923162076505087,
          -0.017100529118533325,
          0.05710588847675524,
          -0.03448979767499549,
          0.04313847848614216,
          -0.08921463532498863,
          -0.1589068854353728,
          0.037570730945975184,
          -0.2159345485112959,
          -0.03140108682516096,
          -0.10342752477461303
         ],
         "y0": " ",
         "yaxis": "y2"
        },
        {
         "alignmentgroup": "True",
         "boxpoints": "all",
         "fillcolor": "rgba(255,255,255,0)",
         "hoveron": "points",
         "hovertemplate": "ma=3<br>theta=%{x}<br>diff=%{y}<extra></extra>",
         "legendgroup": "3",
         "line": {
          "color": "rgba(255,255,255,0)"
         },
         "marker": {
          "color": "#00cc96",
          "opacity": 0.5,
          "size": 5
         },
         "name": "3",
         "offsetgroup": "3",
         "orientation": "v",
         "pointpos": 0,
         "showlegend": true,
         "type": "box",
         "x": [
          "UNEMP",
          "LRIR",
          "UNEMP^2",
          "UNEMP LRIR",
          "LRIR^2",
          "UNEMP",
          "LRIR",
          "UNEMP^2",
          "UNEMP LRIR",
          "LRIR^2",
          "UNEMP",
          "LRIR",
          "UNEMP^2",
          "UNEMP LRIR",
          "LRIR^2",
          "UNEMP",
          "LRIR",
          "UNEMP^2",
          "UNEMP LRIR",
          "LRIR^2",
          "UNEMP",
          "LRIR",
          "UNEMP^2",
          "UNEMP LRIR",
          "LRIR^2",
          "UNEMP",
          "LRIR",
          "UNEMP^2",
          "UNEMP LRIR",
          "LRIR^2",
          "UNEMP",
          "LRIR",
          "UNEMP^2",
          "UNEMP LRIR",
          "LRIR^2",
          "UNEMP",
          "LRIR",
          "UNEMP^2",
          "UNEMP LRIR",
          "LRIR^2",
          "UNEMP",
          "LRIR",
          "UNEMP^2",
          "UNEMP LRIR",
          "LRIR^2",
          "UNEMP",
          "LRIR",
          "UNEMP^2",
          "UNEMP LRIR",
          "LRIR^2",
          "UNEMP",
          "LRIR",
          "UNEMP^2",
          "UNEMP LRIR",
          "LRIR^2",
          "UNEMP",
          "LRIR",
          "UNEMP^2",
          "UNEMP LRIR",
          "LRIR^2",
          "UNEMP",
          "LRIR",
          "UNEMP^2",
          "UNEMP LRIR",
          "LRIR^2",
          "UNEMP",
          "LRIR",
          "UNEMP^2",
          "UNEMP LRIR",
          "LRIR^2",
          "UNEMP",
          "LRIR",
          "UNEMP^2",
          "UNEMP LRIR",
          "LRIR^2",
          "UNEMP",
          "LRIR",
          "UNEMP^2",
          "UNEMP LRIR",
          "LRIR^2",
          "UNEMP",
          "LRIR",
          "UNEMP^2",
          "UNEMP LRIR",
          "LRIR^2",
          "UNEMP",
          "LRIR",
          "UNEMP^2",
          "UNEMP LRIR",
          "LRIR^2"
         ],
         "x0": " ",
         "xaxis": "x",
         "y": [
          3.185637933743026,
          0.7322948936997671,
          5.0675610651244565,
          0.48411858309829725,
          -0.9293728227390581,
          1.5843517959433822,
          0.7133661940185281,
          2.8735436911026797,
          0.03906959246139152,
          0.04509879528028726,
          0.6567143028425431,
          0.62920809110358,
          1.2355891662113558,
          -0.23258058946746818,
          0.9122693716812744,
          0.7164706679815129,
          0.3703449543125066,
          0.8707869626594809,
          -0.31152908382922284,
          0.9595045458438278,
          1.7209564451920576,
          0.24640046301578256,
          1.916432879524761,
          0.1675243930184056,
          0.808322039059254,
          3.2695400008962494,
          0.25580125249965135,
          3.782835271492294,
          1.042291282949681,
          0.6422467236056342,
          1.8940780878230319,
          -0.2567599389791093,
          3.5817295813207535,
          -0.4274671862694035,
          -1.2873608835944612,
          0.40436514609395413,
          -0.28670551674758826,
          1.4865215064820365,
          -0.851303260368848,
          -0.27875967386160916,
          -0.37407482085952637,
          -0.24195438566795247,
          0.020242175623638836,
          -0.9717606886933572,
          0.6436911169356963,
          -0.3180189172870147,
          -0.2904995547784912,
          -0.2746931950392639,
          -0.9111204009633109,
          0.8880907404418092,
          0.5051900857505824,
          -0.3529696479660016,
          0.6512455558882202,
          -0.5127958205814087,
          0.72316140194064,
          1.9400298809437082,
          -0.3071239825827359,
          2.4886191024196886,
          0.22753133976008044,
          0.5665600845061309,
          1.3927313682179374,
          -0.4936742001937695,
          2.843900468655521,
          -0.5817332657540906,
          -1.0562382192379918,
          0.07204833720338932,
          -0.6339161360143333,
          0.9533762468266005,
          -1.0529071472652891,
          -0.2580421843372278,
          -0.6845898502477521,
          -0.6863120430210081,
          -0.38759803340083465,
          -1.1927393403180702,
          0.5616149186325821,
          -0.7469898446261176,
          -0.6764056337974154,
          -0.7265093846123332,
          -1.0641315444000572,
          0.9655546102404067,
          -0.12289599170065024,
          -0.6013735391505683,
          0.029323118674465576,
          -0.6356643534083979,
          1.065235511015647,
          1.1171617831672567,
          -0.43837260477067375,
          1.7093630698604478,
          0.05908723977393038,
          1.1357839490611337
         ],
         "y0": " ",
         "yaxis": "y"
        },
        {
         "alignmentgroup": "True",
         "boxpoints": "all",
         "fillcolor": "rgba(255,255,255,0)",
         "hoveron": "points",
         "hovertemplate": "ma=3<br>theta=%{x}<br>diff=%{y}<extra></extra>",
         "legendgroup": "3",
         "line": {
          "color": "rgba(255,255,255,0)"
         },
         "marker": {
          "color": "#00cc96",
          "opacity": 0.5,
          "size": 5
         },
         "name": "3",
         "offsetgroup": "3",
         "orientation": "v",
         "pointpos": 0,
         "showlegend": false,
         "type": "box",
         "x": [
          "UNEMP",
          "LRIR",
          "UNEMP^2",
          "UNEMP LRIR",
          "LRIR^2",
          "UNEMP",
          "LRIR",
          "UNEMP^2",
          "UNEMP LRIR",
          "LRIR^2",
          "UNEMP",
          "LRIR",
          "UNEMP^2",
          "UNEMP LRIR",
          "LRIR^2",
          "UNEMP",
          "LRIR",
          "UNEMP^2",
          "UNEMP LRIR",
          "LRIR^2",
          "UNEMP",
          "LRIR",
          "UNEMP^2",
          "UNEMP LRIR",
          "LRIR^2",
          "UNEMP",
          "LRIR",
          "UNEMP^2",
          "UNEMP LRIR",
          "LRIR^2",
          "UNEMP",
          "LRIR",
          "UNEMP^2",
          "UNEMP LRIR",
          "LRIR^2",
          "UNEMP",
          "LRIR",
          "UNEMP^2",
          "UNEMP LRIR",
          "LRIR^2",
          "UNEMP",
          "LRIR",
          "UNEMP^2",
          "UNEMP LRIR",
          "LRIR^2",
          "UNEMP",
          "LRIR",
          "UNEMP^2",
          "UNEMP LRIR",
          "LRIR^2",
          "UNEMP",
          "LRIR",
          "UNEMP^2",
          "UNEMP LRIR",
          "LRIR^2",
          "UNEMP",
          "LRIR",
          "UNEMP^2",
          "UNEMP LRIR",
          "LRIR^2",
          "UNEMP",
          "LRIR",
          "UNEMP^2",
          "UNEMP LRIR",
          "LRIR^2",
          "UNEMP",
          "LRIR",
          "UNEMP^2",
          "UNEMP LRIR",
          "LRIR^2",
          "UNEMP",
          "LRIR",
          "UNEMP^2",
          "UNEMP LRIR",
          "LRIR^2",
          "UNEMP",
          "LRIR",
          "UNEMP^2",
          "UNEMP LRIR",
          "LRIR^2",
          "UNEMP",
          "LRIR",
          "UNEMP^2",
          "UNEMP LRIR",
          "LRIR^2",
          "UNEMP",
          "LRIR",
          "UNEMP^2",
          "UNEMP LRIR",
          "LRIR^2"
         ],
         "x0": " ",
         "xaxis": "x2",
         "y": [
          -0.1892762191003018,
          -0.0356836579035793,
          -0.34263444292106937,
          -0.023067021279412958,
          0.03855985066110912,
          -0.0864411187598314,
          -0.03622020303525286,
          -0.17287996400444927,
          -0.0018692020448116686,
          -0.002158838333838675,
          -0.03474856044368302,
          -0.03321802696360032,
          -0.06848224972947148,
          0.011408929998423911,
          -0.04928236977243383,
          -0.03972847211671693,
          -0.01998025618192989,
          -0.04886763515914938,
          0.015886632829406278,
          -0.05421523860986022,
          -0.10513517897355573,
          -0.013479684191639474,
          -0.11869912347704803,
          -0.009107443490146694,
          -0.04618710842299889,
          -0.22359797462425124,
          -0.014154181728474935,
          -0.2671127850128421,
          -0.06122397579887506,
          -0.03661243495942079,
          -0.1340246231826452,
          0.015762648236716914,
          -0.2797737579428963,
          0.02592459913271583,
          0.07325241796871773,
          -0.027070551691828815,
          0.018332564565534448,
          -0.10650821074113359,
          0.0523450837103252,
          0.017834117545322048,
          0.02469815546973475,
          0.016113672302677906,
          -0.0013711194622161305,
          0.06163974019018115,
          -0.04534239189652445,
          0.021736368866751787,
          0.019890081384147384,
          0.018826657479957154,
          0.05993280736067674,
          -0.06534186828643218,
          -0.037213718527796646,
          0.024689179378759918,
          -0.048384428316341266,
          0.035513672544652874,
          -0.053952617214631404,
          -0.15585450879507068,
          0.021683413285202846,
          -0.20584020458660213,
          -0.016591043262424776,
          -0.042144300314107874,
          -0.11696804988084664,
          0.03740437096977378,
          -0.2568214114962032,
          0.043853222142851145,
          0.07743995162562567,
          -0.005865889540336733,
          0.04966582516668394,
          -0.08127211280975033,
          0.08057532606733664,
          0.020638555768917266,
          0.05602981379356031,
          0.05616563643561323,
          0.032222244304280334,
          0.09498885854009487,
          -0.04900216439805849,
          0.06353813572515576,
          0.05774120492226742,
          0.061860565745646245,
          0.08905147396190594,
          -0.08929427822618519,
          0.011086669078959943,
          0.0530050812274514,
          -0.0026646182404901353,
          0.055933093152727986,
          -0.1015769497400908,
          -0.10695766823118058,
          0.03901603083169114,
          -0.16804055063882994,
          -0.00538621384194915,
          -0.10883218917433524
         ],
         "y0": " ",
         "yaxis": "y2"
        }
       ],
       "layout": {
        "annotations": [
         {
          "font": {
           "color": "grey",
           "size": 11
          },
          "showarrow": false,
          "text": "RMSE",
          "x": 0.225,
          "xanchor": "center",
          "xref": "paper",
          "y": 0.95,
          "yanchor": "bottom",
          "yref": "paper"
         },
         {
          "font": {
           "color": "grey",
           "size": 11
          },
          "showarrow": false,
          "text": "Adj-R2",
          "x": 0.775,
          "xanchor": "center",
          "xref": "paper",
          "y": 0.95,
          "yanchor": "bottom",
          "yref": "paper"
         }
        ],
        "height": 400,
        "legend": {
         "orientation": "h",
         "title": {
          "text": "Moving Averages:"
         },
         "x": 0.5,
         "xanchor": "center",
         "y": -0.1,
         "yanchor": "top"
        },
        "margin": {
         "b": 60,
         "l": 80,
         "r": 40,
         "t": 80
        },
        "template": {
         "data": {
          "bar": [
           {
            "error_x": {
             "color": "#f2f5fa"
            },
            "error_y": {
             "color": "#f2f5fa"
            },
            "marker": {
             "line": {
              "color": "rgb(17,17,17)",
              "width": 0.5
             },
             "pattern": {
              "fillmode": "overlay",
              "size": 10,
              "solidity": 0.2
             }
            },
            "type": "bar"
           }
          ],
          "barpolar": [
           {
            "marker": {
             "line": {
              "color": "rgb(17,17,17)",
              "width": 0.5
             },
             "pattern": {
              "fillmode": "overlay",
              "size": 10,
              "solidity": 0.2
             }
            },
            "type": "barpolar"
           }
          ],
          "carpet": [
           {
            "aaxis": {
             "endlinecolor": "#A2B1C6",
             "gridcolor": "#506784",
             "linecolor": "#506784",
             "minorgridcolor": "#506784",
             "startlinecolor": "#A2B1C6"
            },
            "baxis": {
             "endlinecolor": "#A2B1C6",
             "gridcolor": "#506784",
             "linecolor": "#506784",
             "minorgridcolor": "#506784",
             "startlinecolor": "#A2B1C6"
            },
            "type": "carpet"
           }
          ],
          "choropleth": [
           {
            "colorbar": {
             "outlinewidth": 0,
             "ticks": ""
            },
            "type": "choropleth"
           }
          ],
          "contour": [
           {
            "colorbar": {
             "outlinewidth": 0,
             "ticks": ""
            },
            "colorscale": [
             [
              0,
              "#0d0887"
             ],
             [
              0.1111111111111111,
              "#46039f"
             ],
             [
              0.2222222222222222,
              "#7201a8"
             ],
             [
              0.3333333333333333,
              "#9c179e"
             ],
             [
              0.4444444444444444,
              "#bd3786"
             ],
             [
              0.5555555555555556,
              "#d8576b"
             ],
             [
              0.6666666666666666,
              "#ed7953"
             ],
             [
              0.7777777777777778,
              "#fb9f3a"
             ],
             [
              0.8888888888888888,
              "#fdca26"
             ],
             [
              1,
              "#f0f921"
             ]
            ],
            "type": "contour"
           }
          ],
          "contourcarpet": [
           {
            "colorbar": {
             "outlinewidth": 0,
             "ticks": ""
            },
            "type": "contourcarpet"
           }
          ],
          "heatmap": [
           {
            "colorbar": {
             "outlinewidth": 0,
             "ticks": ""
            },
            "colorscale": [
             [
              0,
              "#0d0887"
             ],
             [
              0.1111111111111111,
              "#46039f"
             ],
             [
              0.2222222222222222,
              "#7201a8"
             ],
             [
              0.3333333333333333,
              "#9c179e"
             ],
             [
              0.4444444444444444,
              "#bd3786"
             ],
             [
              0.5555555555555556,
              "#d8576b"
             ],
             [
              0.6666666666666666,
              "#ed7953"
             ],
             [
              0.7777777777777778,
              "#fb9f3a"
             ],
             [
              0.8888888888888888,
              "#fdca26"
             ],
             [
              1,
              "#f0f921"
             ]
            ],
            "type": "heatmap"
           }
          ],
          "heatmapgl": [
           {
            "colorbar": {
             "outlinewidth": 0,
             "ticks": ""
            },
            "colorscale": [
             [
              0,
              "#0d0887"
             ],
             [
              0.1111111111111111,
              "#46039f"
             ],
             [
              0.2222222222222222,
              "#7201a8"
             ],
             [
              0.3333333333333333,
              "#9c179e"
             ],
             [
              0.4444444444444444,
              "#bd3786"
             ],
             [
              0.5555555555555556,
              "#d8576b"
             ],
             [
              0.6666666666666666,
              "#ed7953"
             ],
             [
              0.7777777777777778,
              "#fb9f3a"
             ],
             [
              0.8888888888888888,
              "#fdca26"
             ],
             [
              1,
              "#f0f921"
             ]
            ],
            "type": "heatmapgl"
           }
          ],
          "histogram": [
           {
            "marker": {
             "pattern": {
              "fillmode": "overlay",
              "size": 10,
              "solidity": 0.2
             }
            },
            "type": "histogram"
           }
          ],
          "histogram2d": [
           {
            "colorbar": {
             "outlinewidth": 0,
             "ticks": ""
            },
            "colorscale": [
             [
              0,
              "#0d0887"
             ],
             [
              0.1111111111111111,
              "#46039f"
             ],
             [
              0.2222222222222222,
              "#7201a8"
             ],
             [
              0.3333333333333333,
              "#9c179e"
             ],
             [
              0.4444444444444444,
              "#bd3786"
             ],
             [
              0.5555555555555556,
              "#d8576b"
             ],
             [
              0.6666666666666666,
              "#ed7953"
             ],
             [
              0.7777777777777778,
              "#fb9f3a"
             ],
             [
              0.8888888888888888,
              "#fdca26"
             ],
             [
              1,
              "#f0f921"
             ]
            ],
            "type": "histogram2d"
           }
          ],
          "histogram2dcontour": [
           {
            "colorbar": {
             "outlinewidth": 0,
             "ticks": ""
            },
            "colorscale": [
             [
              0,
              "#0d0887"
             ],
             [
              0.1111111111111111,
              "#46039f"
             ],
             [
              0.2222222222222222,
              "#7201a8"
             ],
             [
              0.3333333333333333,
              "#9c179e"
             ],
             [
              0.4444444444444444,
              "#bd3786"
             ],
             [
              0.5555555555555556,
              "#d8576b"
             ],
             [
              0.6666666666666666,
              "#ed7953"
             ],
             [
              0.7777777777777778,
              "#fb9f3a"
             ],
             [
              0.8888888888888888,
              "#fdca26"
             ],
             [
              1,
              "#f0f921"
             ]
            ],
            "type": "histogram2dcontour"
           }
          ],
          "mesh3d": [
           {
            "colorbar": {
             "outlinewidth": 0,
             "ticks": ""
            },
            "type": "mesh3d"
           }
          ],
          "parcoords": [
           {
            "line": {
             "colorbar": {
              "outlinewidth": 0,
              "ticks": ""
             }
            },
            "type": "parcoords"
           }
          ],
          "pie": [
           {
            "automargin": true,
            "type": "pie"
           }
          ],
          "scatter": [
           {
            "marker": {
             "line": {
              "color": "#283442"
             }
            },
            "type": "scatter"
           }
          ],
          "scatter3d": [
           {
            "line": {
             "colorbar": {
              "outlinewidth": 0,
              "ticks": ""
             }
            },
            "marker": {
             "colorbar": {
              "outlinewidth": 0,
              "ticks": ""
             }
            },
            "type": "scatter3d"
           }
          ],
          "scattercarpet": [
           {
            "marker": {
             "colorbar": {
              "outlinewidth": 0,
              "ticks": ""
             }
            },
            "type": "scattercarpet"
           }
          ],
          "scattergeo": [
           {
            "marker": {
             "colorbar": {
              "outlinewidth": 0,
              "ticks": ""
             }
            },
            "type": "scattergeo"
           }
          ],
          "scattergl": [
           {
            "marker": {
             "line": {
              "color": "#283442"
             }
            },
            "type": "scattergl"
           }
          ],
          "scattermapbox": [
           {
            "marker": {
             "colorbar": {
              "outlinewidth": 0,
              "ticks": ""
             }
            },
            "type": "scattermapbox"
           }
          ],
          "scatterpolar": [
           {
            "marker": {
             "colorbar": {
              "outlinewidth": 0,
              "ticks": ""
             }
            },
            "type": "scatterpolar"
           }
          ],
          "scatterpolargl": [
           {
            "marker": {
             "colorbar": {
              "outlinewidth": 0,
              "ticks": ""
             }
            },
            "type": "scatterpolargl"
           }
          ],
          "scatterternary": [
           {
            "marker": {
             "colorbar": {
              "outlinewidth": 0,
              "ticks": ""
             }
            },
            "type": "scatterternary"
           }
          ],
          "surface": [
           {
            "colorbar": {
             "outlinewidth": 0,
             "ticks": ""
            },
            "colorscale": [
             [
              0,
              "#0d0887"
             ],
             [
              0.1111111111111111,
              "#46039f"
             ],
             [
              0.2222222222222222,
              "#7201a8"
             ],
             [
              0.3333333333333333,
              "#9c179e"
             ],
             [
              0.4444444444444444,
              "#bd3786"
             ],
             [
              0.5555555555555556,
              "#d8576b"
             ],
             [
              0.6666666666666666,
              "#ed7953"
             ],
             [
              0.7777777777777778,
              "#fb9f3a"
             ],
             [
              0.8888888888888888,
              "#fdca26"
             ],
             [
              1,
              "#f0f921"
             ]
            ],
            "type": "surface"
           }
          ],
          "table": [
           {
            "cells": {
             "fill": {
              "color": "#506784"
             },
             "line": {
              "color": "rgb(17,17,17)"
             }
            },
            "header": {
             "fill": {
              "color": "#2a3f5f"
             },
             "line": {
              "color": "rgb(17,17,17)"
             }
            },
            "type": "table"
           }
          ]
         },
         "layout": {
          "annotationdefaults": {
           "arrowcolor": "#f2f5fa",
           "arrowhead": 0,
           "arrowwidth": 1
          },
          "autotypenumbers": "strict",
          "coloraxis": {
           "colorbar": {
            "outlinewidth": 0,
            "ticks": ""
           }
          },
          "colorscale": {
           "diverging": [
            [
             0,
             "#8e0152"
            ],
            [
             0.1,
             "#c51b7d"
            ],
            [
             0.2,
             "#de77ae"
            ],
            [
             0.3,
             "#f1b6da"
            ],
            [
             0.4,
             "#fde0ef"
            ],
            [
             0.5,
             "#f7f7f7"
            ],
            [
             0.6,
             "#e6f5d0"
            ],
            [
             0.7,
             "#b8e186"
            ],
            [
             0.8,
             "#7fbc41"
            ],
            [
             0.9,
             "#4d9221"
            ],
            [
             1,
             "#276419"
            ]
           ],
           "sequential": [
            [
             0,
             "#0d0887"
            ],
            [
             0.1111111111111111,
             "#46039f"
            ],
            [
             0.2222222222222222,
             "#7201a8"
            ],
            [
             0.3333333333333333,
             "#9c179e"
            ],
            [
             0.4444444444444444,
             "#bd3786"
            ],
            [
             0.5555555555555556,
             "#d8576b"
            ],
            [
             0.6666666666666666,
             "#ed7953"
            ],
            [
             0.7777777777777778,
             "#fb9f3a"
            ],
            [
             0.8888888888888888,
             "#fdca26"
            ],
            [
             1,
             "#f0f921"
            ]
           ],
           "sequentialminus": [
            [
             0,
             "#0d0887"
            ],
            [
             0.1111111111111111,
             "#46039f"
            ],
            [
             0.2222222222222222,
             "#7201a8"
            ],
            [
             0.3333333333333333,
             "#9c179e"
            ],
            [
             0.4444444444444444,
             "#bd3786"
            ],
            [
             0.5555555555555556,
             "#d8576b"
            ],
            [
             0.6666666666666666,
             "#ed7953"
            ],
            [
             0.7777777777777778,
             "#fb9f3a"
            ],
            [
             0.8888888888888888,
             "#fdca26"
            ],
            [
             1,
             "#f0f921"
            ]
           ]
          },
          "colorway": [
           "#636efa",
           "#EF553B",
           "#00cc96",
           "#ab63fa",
           "#FFA15A",
           "#19d3f3",
           "#FF6692",
           "#B6E880",
           "#FF97FF",
           "#FECB52"
          ],
          "font": {
           "color": "#f2f5fa"
          },
          "geo": {
           "bgcolor": "rgb(17,17,17)",
           "lakecolor": "rgb(17,17,17)",
           "landcolor": "rgb(17,17,17)",
           "showlakes": true,
           "showland": true,
           "subunitcolor": "#506784"
          },
          "hoverlabel": {
           "align": "left"
          },
          "hovermode": "closest",
          "mapbox": {
           "style": "dark"
          },
          "paper_bgcolor": "rgb(17,17,17)",
          "plot_bgcolor": "rgb(17,17,17)",
          "polar": {
           "angularaxis": {
            "gridcolor": "#506784",
            "linecolor": "#506784",
            "ticks": ""
           },
           "bgcolor": "rgb(17,17,17)",
           "radialaxis": {
            "gridcolor": "#506784",
            "linecolor": "#506784",
            "ticks": ""
           }
          },
          "scene": {
           "xaxis": {
            "backgroundcolor": "rgb(17,17,17)",
            "gridcolor": "#506784",
            "gridwidth": 2,
            "linecolor": "#506784",
            "showbackground": true,
            "ticks": "",
            "zerolinecolor": "#C8D4E3"
           },
           "yaxis": {
            "backgroundcolor": "rgb(17,17,17)",
            "gridcolor": "#506784",
            "gridwidth": 2,
            "linecolor": "#506784",
            "showbackground": true,
            "ticks": "",
            "zerolinecolor": "#C8D4E3"
           },
           "zaxis": {
            "backgroundcolor": "rgb(17,17,17)",
            "gridcolor": "#506784",
            "gridwidth": 2,
            "linecolor": "#506784",
            "showbackground": true,
            "ticks": "",
            "zerolinecolor": "#C8D4E3"
           }
          },
          "shapedefaults": {
           "line": {
            "color": "#f2f5fa"
           }
          },
          "sliderdefaults": {
           "bgcolor": "#C8D4E3",
           "bordercolor": "rgb(17,17,17)",
           "borderwidth": 1,
           "tickwidth": 0
          },
          "ternary": {
           "aaxis": {
            "gridcolor": "#506784",
            "linecolor": "#506784",
            "ticks": ""
           },
           "baxis": {
            "gridcolor": "#506784",
            "linecolor": "#506784",
            "ticks": ""
           },
           "bgcolor": "rgb(17,17,17)",
           "caxis": {
            "gridcolor": "#506784",
            "linecolor": "#506784",
            "ticks": ""
           }
          },
          "title": {
           "x": 0.05
          },
          "updatemenudefaults": {
           "bgcolor": "#506784",
           "borderwidth": 0
          },
          "xaxis": {
           "automargin": true,
           "gridcolor": "#283442",
           "linecolor": "#506784",
           "ticks": "",
           "title": {
            "standoff": 15
           },
           "zerolinecolor": "#283442",
           "zerolinewidth": 2
          },
          "yaxis": {
           "automargin": true,
           "gridcolor": "#283442",
           "linecolor": "#506784",
           "ticks": "",
           "title": {
            "standoff": 15
           },
           "zerolinecolor": "#283442",
           "zerolinewidth": 2
          }
         }
        },
        "title": {
         "text": "Observe Backward Elimination in All Models With Repect to Moving Averages<br><span style=\"font-size: 12.5px; color: lightgrey;\"> -- How meansures are changed by removing the impact of each coefficient</span>"
        },
        "width": 800,
        "xaxis": {
         "anchor": "y",
         "domain": [
          0,
          0.45
         ]
        },
        "xaxis2": {
         "anchor": "y2",
         "domain": [
          0.55,
          1
         ]
        },
        "yaxis": {
         "anchor": "x",
         "domain": [
          0,
          1
         ],
         "title": {
          "text": "Difference"
         }
        },
        "yaxis2": {
         "anchor": "x2",
         "domain": [
          0,
          1
         ]
        }
       }
      }
     },
     "metadata": {},
     "output_type": "display_data"
    }
   ],
   "source": [
    "# removing the \"HOUSE\" , \"CSENT\", \"IMP\" + add polynomial\n",
    "PA2 = PredictiveAnalysis(df)\n",
    "PA2.create_data(['UNEMP', 'LRIR'], 'SP500', ma=[1,2,3], fp=[1,2,3,4,5,6], poly_d=2)\n",
    "\n",
    "# comparing model performance & backward elimination test\n",
    "fig1_1, fig1_2, fig1_3 = PA2.model_learning([1, 3, 6], model='LinR', alpha_=1, eta_=0.001, iter_=100)\n",
    "\n",
    "horizon_plots(fig1_1, 'Polynomial Model')\n",
    "fig1_2.show()\n",
    "fig1_3.show()"
   ]
  },
  {
   "cell_type": "code",
   "execution_count": 66,
   "metadata": {},
   "outputs": [
    {
     "data": {
      "text/plain": [
       "layout.Margin({\n",
       "    'b': 60, 'l': 80, 'r': 40, 't': 80\n",
       "})"
      ]
     },
     "execution_count": 66,
     "metadata": {},
     "output_type": "execute_result"
    }
   ],
   "source": [
    "fig1_2.layout.margin"
   ]
  },
  {
   "cell_type": "code",
   "execution_count": null,
   "metadata": {},
   "outputs": [],
   "source": [
    "# detailed performance\n",
    "fig2_1, fig2_2 = PA2.detail_perf(model='LinR', ma=1, fp=6, sc=1)\n",
    "fig2_1.show()\n",
    "fig2_2.show()"
   ]
  },
  {
   "cell_type": "code",
   "execution_count": 55,
   "metadata": {},
   "outputs": [
    {
     "name": "stdout",
     "output_type": "stream",
     "text": [
      "[4502.37155718]\n",
      "[4488.82136238 4191.40557896]\n",
      "[4483.00642366 4198.45861972 4400.68304662]\n",
      "[4449.63984791 4186.51680878 4402.31919562 4203.31238846]\n",
      "[4359.1378686  4110.79171691 4370.69543142 4201.36673123 4247.15991651]\n",
      "[4434.29438331 4064.30955006 4324.05523932 4224.85257042 4309.92294183\n",
      " 4261.73484086]\n"
     ]
    },
    {
     "data": {
      "text/plain": [
       "array([4452.87857384, 4150.29645489, 4374.43822824, 4209.8438967 ,\n",
       "       4278.54142917, 4261.73484086])"
      ]
     },
     "execution_count": 55,
     "metadata": {},
     "output_type": "execute_result"
    }
   ],
   "source": [
    "act_prices_mat = np.zeros((6,6))\n",
    "future = PA2.futures['LinR']\n",
    "for idx, i in enumerate(future.keys()):\n",
    "    for j in future[i].keys():\n",
    "        if j == '1MA':\n",
    "            yoy_mean = np.mean(future[i][j], axis=0)\n",
    "            #print(\"YoY: \", yoy_mean)\n",
    "            r = 12 - int(i[0])\n",
    "            act_prices = df['SP500_Price'][-12:-r].values * (yoy_mean/100+1)\n",
    "            act_prices_mat[idx] = np.pad(act_prices, (0, 6-1-idx), 'constant', constant_values=(0))\n",
    "            print(act_prices)\n",
    "\n",
    "np.sum(act_prices_mat, axis=0) / np.count_nonzero(act_prices_mat, axis=0)"
   ]
  },
  {
   "cell_type": "code",
   "execution_count": null,
   "metadata": {},
   "outputs": [],
   "source": []
  },
  {
   "cell_type": "markdown",
   "metadata": {},
   "source": [
    "### Logistic Regression"
   ]
  },
  {
   "cell_type": "code",
   "execution_count": 68,
   "metadata": {},
   "outputs": [
    {
     "data": {
      "application/vnd.plotly.v1+json": {
       "config": {
        "plotlyServerURL": "https://plot.ly"
       },
       "data": [
        {
         "error_y": {
          "array": [
           0.020727602480037133,
           0.012231516402121723,
           0.009616704218658123
          ],
          "arrayminus": [
           0.011071536522014203,
           0.009302914122728878,
           0.007022300177560781
          ]
         },
         "hovertemplate": "SC=1<br>MA=%{x}<br>ACC_mean=%{y}<extra></extra>",
         "legendgroup": "1",
         "marker": {
          "color": "#636efa",
          "symbol": "circle"
         },
         "mode": "markers",
         "name": "1",
         "orientation": "v",
         "showlegend": true,
         "type": "scatter",
         "x": [
          1,
          2,
          3
         ],
         "xaxis": "x",
         "y": [
          0.8809510545943033,
          0.9030227208860139,
          0.9096986992043247
         ],
         "yaxis": "y"
        },
        {
         "error_y": {
          "array": [
           0.012195739237049641,
           0.015919098486913086,
           0.0070512827427218205
          ],
          "arrayminus": [
           0.017884544362158028,
           0.009392423393438931,
           0.01336317829176914
          ]
         },
         "hovertemplate": "SC=3<br>MA=%{x}<br>ACC_mean=%{y}<extra></extra>",
         "legendgroup": "3",
         "marker": {
          "color": "#EF553B",
          "symbol": "circle"
         },
         "mode": "markers",
         "name": "3",
         "orientation": "v",
         "showlegend": true,
         "type": "scatter",
         "x": [
          1,
          2,
          3
         ],
         "xaxis": "x",
         "y": [
          0.8367251240723029,
          0.858172911198317,
          0.8764438628883463
         ],
         "yaxis": "y"
        },
        {
         "error_y": {
          "array": [
           0.03448381935033995,
           0.022406072293676305,
           0.012703737816578076
          ],
          "arrayminus": [
           0.0204572157150702,
           0.018179458234232393,
           0.011088240286380113
          ]
         },
         "hovertemplate": "SC=6<br>MA=%{x}<br>ACC_mean=%{y}<extra></extra>",
         "legendgroup": "6",
         "marker": {
          "color": "#00cc96",
          "symbol": "circle"
         },
         "mode": "markers",
         "name": "6",
         "orientation": "v",
         "showlegend": true,
         "type": "scatter",
         "x": [
          1,
          2,
          3
         ],
         "xaxis": "x",
         "y": [
          0.7928543101460629,
          0.8205890967884493,
          0.837175196808119
         ],
         "yaxis": "y"
        },
        {
         "error_y": {
          "array": [
           0.0036130319980348657,
           0.0011342424737879053,
           0.0025696290977779146
          ],
          "arrayminus": [
           0.0016348677840080095,
           0.0020708857313402884,
           0.0008422815721972343
          ]
         },
         "hovertemplate": "SC=1<br>MA=%{x}<br>PRE_mean=%{y}<extra></extra>",
         "legendgroup": "1",
         "marker": {
          "color": "#636efa",
          "symbol": "circle"
         },
         "mode": "markers",
         "name": "1",
         "orientation": "v",
         "showlegend": false,
         "type": "scatter",
         "x": [
          1,
          2,
          3
         ],
         "xaxis": "x2",
         "y": [
          0.9518009807408186,
          0.9636093472698019,
          0.9685842170560682
         ],
         "yaxis": "y2"
        },
        {
         "error_y": {
          "array": [
           0.004445051659607624,
           0.0071381668088883465,
           0.007890530948198138
          ],
          "arrayminus": [
           0.006535179358974297,
           0.0071152719578070345,
           0.005653100116434162
          ]
         },
         "hovertemplate": "SC=3<br>MA=%{x}<br>PRE_mean=%{y}<extra></extra>",
         "legendgroup": "3",
         "marker": {
          "color": "#EF553B",
          "symbol": "circle"
         },
         "mode": "markers",
         "name": "3",
         "orientation": "v",
         "showlegend": false,
         "type": "scatter",
         "x": [
          1,
          2,
          3
         ],
         "xaxis": "x2",
         "y": [
          0.9385079684746205,
          0.9433568826960621,
          0.9530215211690655
         ],
         "yaxis": "y2"
        },
        {
         "error_y": {
          "array": [
           0.010281552551982931,
           0.013606185919050051,
           0.006814065603394814
          ],
          "arrayminus": [
           0.014351783482374092,
           0.008759316500239978,
           0.0055588157525373605
          ]
         },
         "hovertemplate": "SC=6<br>MA=%{x}<br>PRE_mean=%{y}<extra></extra>",
         "legendgroup": "6",
         "marker": {
          "color": "#00cc96",
          "symbol": "circle"
         },
         "mode": "markers",
         "name": "6",
         "orientation": "v",
         "showlegend": false,
         "type": "scatter",
         "x": [
          1,
          2,
          3
         ],
         "xaxis": "x2",
         "y": [
          0.9133064873151268,
          0.9228486635792778,
          0.9355588157525375
         ],
         "yaxis": "y2"
        },
        {
         "error_y": {
          "array": [
           0.02430453729953752,
           0.015024481571775383,
           0.01254806593634128
          ],
          "arrayminus": [
           0.013126655361012984,
           0.012356358447101368,
           0.008239073753237514
          ]
         },
         "hovertemplate": "SC=1<br>MA=%{x}<br>REC_mean=%{y}<extra></extra>",
         "legendgroup": "1",
         "marker": {
          "color": "#636efa",
          "symbol": "circle"
         },
         "mode": "markers",
         "name": "1",
         "orientation": "v",
         "showlegend": false,
         "type": "scatter",
         "x": [
          1,
          2,
          3
         ],
         "xaxis": "x3",
         "y": [
          0.893126655361013,
          0.9111293645820707,
          0.9173299828441466
         ],
         "yaxis": "y3"
        },
        {
         "error_y": {
          "array": [
           0.012407838188561504,
           0.014061621834774551,
           0.013279111839607727
          ],
          "arrayminus": [
           0.022845304862746718,
           0.01450708500018616,
           0.011995370512466574
          ]
         },
         "hovertemplate": "SC=3<br>MA=%{x}<br>REC_mean=%{y}<extra></extra>",
         "legendgroup": "3",
         "marker": {
          "color": "#EF553B",
          "symbol": "circle"
         },
         "mode": "markers",
         "name": "3",
         "orientation": "v",
         "showlegend": false,
         "type": "scatter",
         "x": [
          1,
          2,
          3
         ],
         "xaxis": "x3",
         "y": [
          0.8469193789368208,
          0.8720922243190715,
          0.8900441510002715
         ],
         "yaxis": "y3"
        },
        {
         "error_y": {
          "array": [
           0.03771843178916212,
           0.01657966254130594,
           0.011181067084035767
          ],
          "arrayminus": [
           0.020509007571105298,
           0.022744177536741406,
           0.021453977599201757
          ]
         },
         "hovertemplate": "SC=6<br>MA=%{x}<br>REC_mean=%{y}<extra></extra>",
         "legendgroup": "6",
         "marker": {
          "color": "#00cc96",
          "symbol": "circle"
         },
         "mode": "markers",
         "name": "6",
         "orientation": "v",
         "showlegend": false,
         "type": "scatter",
         "x": [
          1,
          2,
          3
         ],
         "xaxis": "x3",
         "y": [
          0.8124344734096146,
          0.8423160429801664,
          0.8562888124340367
         ],
         "yaxis": "y3"
        },
        {
         "error_y": {
          "array": [
           0.014537904081259767,
           0.008445964218187108,
           0.006437870437571491
          ],
          "arrayminus": [
           0.007761518247071164,
           0.006450250678027958,
           0.004740201102086505
          ]
         },
         "hovertemplate": "SC=1<br>MA=%{x}<br>F1_mean=%{y}<extra></extra>",
         "legendgroup": "1",
         "marker": {
          "color": "#636efa",
          "symbol": "circle"
         },
         "mode": "markers",
         "name": "1",
         "orientation": "v",
         "showlegend": false,
         "type": "scatter",
         "x": [
          1,
          2,
          3
         ],
         "xaxis": "x4",
         "y": [
          0.9214995374164001,
          0.936608980836758,
          0.9422402011020864
         ],
         "yaxis": "y4"
        },
        {
         "error_y": {
          "array": [
           0.008870213958885098,
           0.010902684884736669,
           0.0052657260606765455
          ],
          "arrayminus": [
           0.013482495400720884,
           0.00629476734456258,
           0.009038463303276734
          ]
         },
         "hovertemplate": "SC=3<br>MA=%{x}<br>F1_mean=%{y}<extra></extra>",
         "legendgroup": "3",
         "marker": {
          "color": "#EF553B",
          "symbol": "circle"
         },
         "mode": "markers",
         "name": "3",
         "orientation": "v",
         "showlegend": false,
         "type": "scatter",
         "x": [
          1,
          2,
          3
         ],
         "xaxis": "x4",
         "y": [
          0.8903297860411149,
          0.9062947673445625,
          0.9204308683665677
         ],
         "yaxis": "y4"
        },
        {
         "error_y": {
          "array": [
           0.02551094875616311,
           0.015295149486588722,
           0.00870404741427011
          ],
          "arrayminus": [
           0.01393773037091195,
           0.013390934655806208,
           0.008766950728812506
          ]
         },
         "hovertemplate": "SC=6<br>MA=%{x}<br>F1_mean=%{y}<extra></extra>",
         "legendgroup": "6",
         "marker": {
          "color": "#00cc96",
          "symbol": "circle"
         },
         "mode": "markers",
         "name": "6",
         "orientation": "v",
         "showlegend": false,
         "type": "scatter",
         "x": [
          1,
          2,
          3
         ],
         "xaxis": "x4",
         "y": [
          0.8598393697151744,
          0.8807048505134114,
          0.8941172692001501
         ],
         "yaxis": "y4"
        },
        {
         "error_y": {
          "array": [
           0.01585597235347247,
           0.00845921048285736,
           0.005245226383808532
          ],
          "arrayminus": [
           0.008415179532358374,
           0.005231209526581071,
           0.00514834346098092
          ]
         },
         "hovertemplate": "SC=1<br>MA=%{x}<br>AUC_mean=%{y}<extra></extra>",
         "legendgroup": "1",
         "marker": {
          "color": "#636efa",
          "symbol": "circle"
         },
         "mode": "markers",
         "name": "1",
         "orientation": "v",
         "showlegend": false,
         "type": "scatter",
         "x": [
          1,
          2,
          3
         ],
         "xaxis": "x5",
         "y": [
          0.8650818461990251,
          0.8921177125940657,
          0.8979654029447071
         ],
         "yaxis": "y5"
        },
        {
         "error_y": {
          "array": [
           0.011759474649836288,
           0.018394447281023685,
           0.013352966208239447
          ],
          "arrayminus": [
           0.011422652431373415,
           0.014179934858576049,
           0.015256944515492532
          ]
         },
         "hovertemplate": "SC=3<br>MA=%{x}<br>AUC_mean=%{y}<extra></extra>",
         "legendgroup": "3",
         "marker": {
          "color": "#EF553B",
          "symbol": "circle"
         },
         "mode": "markers",
         "name": "3",
         "orientation": "v",
         "showlegend": false,
         "type": "scatter",
         "x": [
          1,
          2,
          3
         ],
         "xaxis": "x5",
         "y": [
          0.8234596894684104,
          0.8394552030686268,
          0.8555159026606295
         ],
         "yaxis": "y5"
        },
        {
         "error_y": {
          "array": [
           0.029970327005692243,
           0.030070134300956064,
           0.014849792801277073
          ],
          "arrayminus": [
           0.029058653973469073,
           0.020425149289819644,
           0.012098787427497149
          ]
         },
         "hovertemplate": "SC=6<br>MA=%{x}<br>AUC_mean=%{y}<extra></extra>",
         "legendgroup": "6",
         "marker": {
          "color": "#00cc96",
          "symbol": "circle"
         },
         "mode": "markers",
         "name": "6",
         "orientation": "v",
         "showlegend": false,
         "type": "scatter",
         "x": [
          1,
          2,
          3
         ],
         "xaxis": "x5",
         "y": [
          0.7673283478159184,
          0.7914231730052347,
          0.807774035846648
         ],
         "yaxis": "y5"
        }
       ],
       "layout": {
        "annotations": [
         {
          "font": {
           "size": 12
          },
          "showarrow": false,
          "text": "Accuracy",
          "x": 0.5,
          "xanchor": "center",
          "xref": "x",
          "y": 1.05,
          "yanchor": "bottom",
          "yref": "paper"
         },
         {
          "font": {
           "size": 12
          },
          "showarrow": false,
          "text": "Precision",
          "x": 0.5,
          "xanchor": "center",
          "xref": "x2",
          "y": 1.05,
          "yanchor": "bottom",
          "yref": "paper"
         },
         {
          "font": {
           "size": 12
          },
          "showarrow": false,
          "text": "Recall",
          "x": 0.5,
          "xanchor": "center",
          "xref": "x3",
          "y": 1.05,
          "yanchor": "bottom",
          "yref": "paper"
         },
         {
          "font": {
           "size": 12
          },
          "showarrow": false,
          "text": "F1 score",
          "x": 0.5,
          "xanchor": "center",
          "xref": "x4",
          "y": 1.05,
          "yanchor": "bottom",
          "yref": "paper"
         },
         {
          "font": {
           "size": 12
          },
          "showarrow": false,
          "text": "Area Under ROC Curve",
          "x": 0.5,
          "xanchor": "center",
          "xref": "x5",
          "y": 1.05,
          "yanchor": "bottom",
          "yref": "paper"
         }
        ],
        "height": 400,
        "legend": {
         "orientation": "h",
         "title": {
          "text": "Scopes"
         },
         "x": 0.5,
         "xanchor": "center",
         "y": -0.25,
         "yanchor": "bottom"
        },
        "template": {
         "data": {
          "bar": [
           {
            "error_x": {
             "color": "#f2f5fa"
            },
            "error_y": {
             "color": "#f2f5fa"
            },
            "marker": {
             "line": {
              "color": "rgb(17,17,17)",
              "width": 0.5
             },
             "pattern": {
              "fillmode": "overlay",
              "size": 10,
              "solidity": 0.2
             }
            },
            "type": "bar"
           }
          ],
          "barpolar": [
           {
            "marker": {
             "line": {
              "color": "rgb(17,17,17)",
              "width": 0.5
             },
             "pattern": {
              "fillmode": "overlay",
              "size": 10,
              "solidity": 0.2
             }
            },
            "type": "barpolar"
           }
          ],
          "carpet": [
           {
            "aaxis": {
             "endlinecolor": "#A2B1C6",
             "gridcolor": "#506784",
             "linecolor": "#506784",
             "minorgridcolor": "#506784",
             "startlinecolor": "#A2B1C6"
            },
            "baxis": {
             "endlinecolor": "#A2B1C6",
             "gridcolor": "#506784",
             "linecolor": "#506784",
             "minorgridcolor": "#506784",
             "startlinecolor": "#A2B1C6"
            },
            "type": "carpet"
           }
          ],
          "choropleth": [
           {
            "colorbar": {
             "outlinewidth": 0,
             "ticks": ""
            },
            "type": "choropleth"
           }
          ],
          "contour": [
           {
            "colorbar": {
             "outlinewidth": 0,
             "ticks": ""
            },
            "colorscale": [
             [
              0,
              "#0d0887"
             ],
             [
              0.1111111111111111,
              "#46039f"
             ],
             [
              0.2222222222222222,
              "#7201a8"
             ],
             [
              0.3333333333333333,
              "#9c179e"
             ],
             [
              0.4444444444444444,
              "#bd3786"
             ],
             [
              0.5555555555555556,
              "#d8576b"
             ],
             [
              0.6666666666666666,
              "#ed7953"
             ],
             [
              0.7777777777777778,
              "#fb9f3a"
             ],
             [
              0.8888888888888888,
              "#fdca26"
             ],
             [
              1,
              "#f0f921"
             ]
            ],
            "type": "contour"
           }
          ],
          "contourcarpet": [
           {
            "colorbar": {
             "outlinewidth": 0,
             "ticks": ""
            },
            "type": "contourcarpet"
           }
          ],
          "heatmap": [
           {
            "colorbar": {
             "outlinewidth": 0,
             "ticks": ""
            },
            "colorscale": [
             [
              0,
              "#0d0887"
             ],
             [
              0.1111111111111111,
              "#46039f"
             ],
             [
              0.2222222222222222,
              "#7201a8"
             ],
             [
              0.3333333333333333,
              "#9c179e"
             ],
             [
              0.4444444444444444,
              "#bd3786"
             ],
             [
              0.5555555555555556,
              "#d8576b"
             ],
             [
              0.6666666666666666,
              "#ed7953"
             ],
             [
              0.7777777777777778,
              "#fb9f3a"
             ],
             [
              0.8888888888888888,
              "#fdca26"
             ],
             [
              1,
              "#f0f921"
             ]
            ],
            "type": "heatmap"
           }
          ],
          "heatmapgl": [
           {
            "colorbar": {
             "outlinewidth": 0,
             "ticks": ""
            },
            "colorscale": [
             [
              0,
              "#0d0887"
             ],
             [
              0.1111111111111111,
              "#46039f"
             ],
             [
              0.2222222222222222,
              "#7201a8"
             ],
             [
              0.3333333333333333,
              "#9c179e"
             ],
             [
              0.4444444444444444,
              "#bd3786"
             ],
             [
              0.5555555555555556,
              "#d8576b"
             ],
             [
              0.6666666666666666,
              "#ed7953"
             ],
             [
              0.7777777777777778,
              "#fb9f3a"
             ],
             [
              0.8888888888888888,
              "#fdca26"
             ],
             [
              1,
              "#f0f921"
             ]
            ],
            "type": "heatmapgl"
           }
          ],
          "histogram": [
           {
            "marker": {
             "pattern": {
              "fillmode": "overlay",
              "size": 10,
              "solidity": 0.2
             }
            },
            "type": "histogram"
           }
          ],
          "histogram2d": [
           {
            "colorbar": {
             "outlinewidth": 0,
             "ticks": ""
            },
            "colorscale": [
             [
              0,
              "#0d0887"
             ],
             [
              0.1111111111111111,
              "#46039f"
             ],
             [
              0.2222222222222222,
              "#7201a8"
             ],
             [
              0.3333333333333333,
              "#9c179e"
             ],
             [
              0.4444444444444444,
              "#bd3786"
             ],
             [
              0.5555555555555556,
              "#d8576b"
             ],
             [
              0.6666666666666666,
              "#ed7953"
             ],
             [
              0.7777777777777778,
              "#fb9f3a"
             ],
             [
              0.8888888888888888,
              "#fdca26"
             ],
             [
              1,
              "#f0f921"
             ]
            ],
            "type": "histogram2d"
           }
          ],
          "histogram2dcontour": [
           {
            "colorbar": {
             "outlinewidth": 0,
             "ticks": ""
            },
            "colorscale": [
             [
              0,
              "#0d0887"
             ],
             [
              0.1111111111111111,
              "#46039f"
             ],
             [
              0.2222222222222222,
              "#7201a8"
             ],
             [
              0.3333333333333333,
              "#9c179e"
             ],
             [
              0.4444444444444444,
              "#bd3786"
             ],
             [
              0.5555555555555556,
              "#d8576b"
             ],
             [
              0.6666666666666666,
              "#ed7953"
             ],
             [
              0.7777777777777778,
              "#fb9f3a"
             ],
             [
              0.8888888888888888,
              "#fdca26"
             ],
             [
              1,
              "#f0f921"
             ]
            ],
            "type": "histogram2dcontour"
           }
          ],
          "mesh3d": [
           {
            "colorbar": {
             "outlinewidth": 0,
             "ticks": ""
            },
            "type": "mesh3d"
           }
          ],
          "parcoords": [
           {
            "line": {
             "colorbar": {
              "outlinewidth": 0,
              "ticks": ""
             }
            },
            "type": "parcoords"
           }
          ],
          "pie": [
           {
            "automargin": true,
            "type": "pie"
           }
          ],
          "scatter": [
           {
            "marker": {
             "line": {
              "color": "#283442"
             }
            },
            "type": "scatter"
           }
          ],
          "scatter3d": [
           {
            "line": {
             "colorbar": {
              "outlinewidth": 0,
              "ticks": ""
             }
            },
            "marker": {
             "colorbar": {
              "outlinewidth": 0,
              "ticks": ""
             }
            },
            "type": "scatter3d"
           }
          ],
          "scattercarpet": [
           {
            "marker": {
             "colorbar": {
              "outlinewidth": 0,
              "ticks": ""
             }
            },
            "type": "scattercarpet"
           }
          ],
          "scattergeo": [
           {
            "marker": {
             "colorbar": {
              "outlinewidth": 0,
              "ticks": ""
             }
            },
            "type": "scattergeo"
           }
          ],
          "scattergl": [
           {
            "marker": {
             "line": {
              "color": "#283442"
             }
            },
            "type": "scattergl"
           }
          ],
          "scattermapbox": [
           {
            "marker": {
             "colorbar": {
              "outlinewidth": 0,
              "ticks": ""
             }
            },
            "type": "scattermapbox"
           }
          ],
          "scatterpolar": [
           {
            "marker": {
             "colorbar": {
              "outlinewidth": 0,
              "ticks": ""
             }
            },
            "type": "scatterpolar"
           }
          ],
          "scatterpolargl": [
           {
            "marker": {
             "colorbar": {
              "outlinewidth": 0,
              "ticks": ""
             }
            },
            "type": "scatterpolargl"
           }
          ],
          "scatterternary": [
           {
            "marker": {
             "colorbar": {
              "outlinewidth": 0,
              "ticks": ""
             }
            },
            "type": "scatterternary"
           }
          ],
          "surface": [
           {
            "colorbar": {
             "outlinewidth": 0,
             "ticks": ""
            },
            "colorscale": [
             [
              0,
              "#0d0887"
             ],
             [
              0.1111111111111111,
              "#46039f"
             ],
             [
              0.2222222222222222,
              "#7201a8"
             ],
             [
              0.3333333333333333,
              "#9c179e"
             ],
             [
              0.4444444444444444,
              "#bd3786"
             ],
             [
              0.5555555555555556,
              "#d8576b"
             ],
             [
              0.6666666666666666,
              "#ed7953"
             ],
             [
              0.7777777777777778,
              "#fb9f3a"
             ],
             [
              0.8888888888888888,
              "#fdca26"
             ],
             [
              1,
              "#f0f921"
             ]
            ],
            "type": "surface"
           }
          ],
          "table": [
           {
            "cells": {
             "fill": {
              "color": "#506784"
             },
             "line": {
              "color": "rgb(17,17,17)"
             }
            },
            "header": {
             "fill": {
              "color": "#2a3f5f"
             },
             "line": {
              "color": "rgb(17,17,17)"
             }
            },
            "type": "table"
           }
          ]
         },
         "layout": {
          "annotationdefaults": {
           "arrowcolor": "#f2f5fa",
           "arrowhead": 0,
           "arrowwidth": 1
          },
          "autotypenumbers": "strict",
          "coloraxis": {
           "colorbar": {
            "outlinewidth": 0,
            "ticks": ""
           }
          },
          "colorscale": {
           "diverging": [
            [
             0,
             "#8e0152"
            ],
            [
             0.1,
             "#c51b7d"
            ],
            [
             0.2,
             "#de77ae"
            ],
            [
             0.3,
             "#f1b6da"
            ],
            [
             0.4,
             "#fde0ef"
            ],
            [
             0.5,
             "#f7f7f7"
            ],
            [
             0.6,
             "#e6f5d0"
            ],
            [
             0.7,
             "#b8e186"
            ],
            [
             0.8,
             "#7fbc41"
            ],
            [
             0.9,
             "#4d9221"
            ],
            [
             1,
             "#276419"
            ]
           ],
           "sequential": [
            [
             0,
             "#0d0887"
            ],
            [
             0.1111111111111111,
             "#46039f"
            ],
            [
             0.2222222222222222,
             "#7201a8"
            ],
            [
             0.3333333333333333,
             "#9c179e"
            ],
            [
             0.4444444444444444,
             "#bd3786"
            ],
            [
             0.5555555555555556,
             "#d8576b"
            ],
            [
             0.6666666666666666,
             "#ed7953"
            ],
            [
             0.7777777777777778,
             "#fb9f3a"
            ],
            [
             0.8888888888888888,
             "#fdca26"
            ],
            [
             1,
             "#f0f921"
            ]
           ],
           "sequentialminus": [
            [
             0,
             "#0d0887"
            ],
            [
             0.1111111111111111,
             "#46039f"
            ],
            [
             0.2222222222222222,
             "#7201a8"
            ],
            [
             0.3333333333333333,
             "#9c179e"
            ],
            [
             0.4444444444444444,
             "#bd3786"
            ],
            [
             0.5555555555555556,
             "#d8576b"
            ],
            [
             0.6666666666666666,
             "#ed7953"
            ],
            [
             0.7777777777777778,
             "#fb9f3a"
            ],
            [
             0.8888888888888888,
             "#fdca26"
            ],
            [
             1,
             "#f0f921"
            ]
           ]
          },
          "colorway": [
           "#636efa",
           "#EF553B",
           "#00cc96",
           "#ab63fa",
           "#FFA15A",
           "#19d3f3",
           "#FF6692",
           "#B6E880",
           "#FF97FF",
           "#FECB52"
          ],
          "font": {
           "color": "#f2f5fa"
          },
          "geo": {
           "bgcolor": "rgb(17,17,17)",
           "lakecolor": "rgb(17,17,17)",
           "landcolor": "rgb(17,17,17)",
           "showlakes": true,
           "showland": true,
           "subunitcolor": "#506784"
          },
          "hoverlabel": {
           "align": "left"
          },
          "hovermode": "closest",
          "mapbox": {
           "style": "dark"
          },
          "paper_bgcolor": "rgb(17,17,17)",
          "plot_bgcolor": "rgb(17,17,17)",
          "polar": {
           "angularaxis": {
            "gridcolor": "#506784",
            "linecolor": "#506784",
            "ticks": ""
           },
           "bgcolor": "rgb(17,17,17)",
           "radialaxis": {
            "gridcolor": "#506784",
            "linecolor": "#506784",
            "ticks": ""
           }
          },
          "scene": {
           "xaxis": {
            "backgroundcolor": "rgb(17,17,17)",
            "gridcolor": "#506784",
            "gridwidth": 2,
            "linecolor": "#506784",
            "showbackground": true,
            "ticks": "",
            "zerolinecolor": "#C8D4E3"
           },
           "yaxis": {
            "backgroundcolor": "rgb(17,17,17)",
            "gridcolor": "#506784",
            "gridwidth": 2,
            "linecolor": "#506784",
            "showbackground": true,
            "ticks": "",
            "zerolinecolor": "#C8D4E3"
           },
           "zaxis": {
            "backgroundcolor": "rgb(17,17,17)",
            "gridcolor": "#506784",
            "gridwidth": 2,
            "linecolor": "#506784",
            "showbackground": true,
            "ticks": "",
            "zerolinecolor": "#C8D4E3"
           }
          },
          "shapedefaults": {
           "line": {
            "color": "#f2f5fa"
           }
          },
          "sliderdefaults": {
           "bgcolor": "#C8D4E3",
           "bordercolor": "rgb(17,17,17)",
           "borderwidth": 1,
           "tickwidth": 0
          },
          "ternary": {
           "aaxis": {
            "gridcolor": "#506784",
            "linecolor": "#506784",
            "ticks": ""
           },
           "baxis": {
            "gridcolor": "#506784",
            "linecolor": "#506784",
            "ticks": ""
           },
           "bgcolor": "rgb(17,17,17)",
           "caxis": {
            "gridcolor": "#506784",
            "linecolor": "#506784",
            "ticks": ""
           }
          },
          "title": {
           "x": 0.05
          },
          "updatemenudefaults": {
           "bgcolor": "#506784",
           "borderwidth": 0
          },
          "xaxis": {
           "automargin": true,
           "gridcolor": "#283442",
           "linecolor": "#506784",
           "ticks": "",
           "title": {
            "standoff": 15
           },
           "zerolinecolor": "#283442",
           "zerolinewidth": 2
          },
          "yaxis": {
           "automargin": true,
           "gridcolor": "#283442",
           "linecolor": "#506784",
           "ticks": "",
           "title": {
            "standoff": 15
           },
           "zerolinecolor": "#283442",
           "zerolinewidth": 2
          }
         }
        },
        "title": {
         "text": "Comparing the Logistic Model Results on Different Conditions"
        },
        "width": 1500,
        "xaxis": {
         "anchor": "y",
         "domain": [
          0,
          0.16799999999999998
         ]
        },
        "xaxis2": {
         "anchor": "y2",
         "domain": [
          0.208,
          0.376
         ]
        },
        "xaxis3": {
         "anchor": "y3",
         "domain": [
          0.416,
          0.584
         ]
        },
        "xaxis4": {
         "anchor": "y4",
         "domain": [
          0.624,
          0.792
         ]
        },
        "xaxis5": {
         "anchor": "y5",
         "domain": [
          0.832,
          1
         ]
        },
        "yaxis": {
         "anchor": "x",
         "domain": [
          0,
          1
         ]
        },
        "yaxis2": {
         "anchor": "x2",
         "domain": [
          0,
          1
         ]
        },
        "yaxis3": {
         "anchor": "x3",
         "domain": [
          0,
          1
         ]
        },
        "yaxis4": {
         "anchor": "x4",
         "domain": [
          0,
          1
         ]
        },
        "yaxis5": {
         "anchor": "x5",
         "domain": [
          0,
          1
         ]
        }
       }
      }
     },
     "metadata": {},
     "output_type": "display_data"
    },
    {
     "data": {
      "application/vnd.plotly.v1+json": {
       "config": {
        "plotlyServerURL": "https://plot.ly"
       },
       "data": [
        {
         "alignmentgroup": "True",
         "boxpoints": "all",
         "fillcolor": "rgba(255,255,255,0)",
         "hoveron": "points",
         "hovertemplate": "sc=1<br>theta=%{x}<br>diff=%{y}<extra></extra>",
         "legendgroup": "1",
         "line": {
          "color": "rgba(255,255,255,0)"
         },
         "marker": {
          "color": "#636efa",
          "opacity": 0.5,
          "size": 5
         },
         "name": "1",
         "offsetgroup": "1",
         "orientation": "v",
         "pointpos": 0,
         "showlegend": true,
         "type": "box",
         "x": [
          "UNEMP",
          "LRIR",
          "UNEMP^2",
          "UNEMP LRIR",
          "LRIR^2",
          "UNEMP",
          "LRIR",
          "UNEMP^2",
          "UNEMP LRIR",
          "LRIR^2",
          "UNEMP",
          "LRIR",
          "UNEMP^2",
          "UNEMP LRIR",
          "LRIR^2",
          "UNEMP",
          "LRIR",
          "UNEMP^2",
          "UNEMP LRIR",
          "LRIR^2",
          "UNEMP",
          "LRIR",
          "UNEMP^2",
          "UNEMP LRIR",
          "LRIR^2",
          "UNEMP",
          "LRIR",
          "UNEMP^2",
          "UNEMP LRIR",
          "LRIR^2",
          "UNEMP",
          "LRIR",
          "UNEMP^2",
          "UNEMP LRIR",
          "LRIR^2",
          "UNEMP",
          "LRIR",
          "UNEMP^2",
          "UNEMP LRIR",
          "LRIR^2",
          "UNEMP",
          "LRIR",
          "UNEMP^2",
          "UNEMP LRIR",
          "LRIR^2",
          "UNEMP",
          "LRIR",
          "UNEMP^2",
          "UNEMP LRIR",
          "LRIR^2",
          "UNEMP",
          "LRIR",
          "UNEMP^2",
          "UNEMP LRIR",
          "LRIR^2",
          "UNEMP",
          "LRIR",
          "UNEMP^2",
          "UNEMP LRIR",
          "LRIR^2",
          "UNEMP",
          "LRIR",
          "UNEMP^2",
          "UNEMP LRIR",
          "LRIR^2",
          "UNEMP",
          "LRIR",
          "UNEMP^2",
          "UNEMP LRIR",
          "LRIR^2",
          "UNEMP",
          "LRIR",
          "UNEMP^2",
          "UNEMP LRIR",
          "LRIR^2",
          "UNEMP",
          "LRIR",
          "UNEMP^2",
          "UNEMP LRIR",
          "LRIR^2",
          "UNEMP",
          "LRIR",
          "UNEMP^2",
          "UNEMP LRIR",
          "LRIR^2",
          "UNEMP",
          "LRIR",
          "UNEMP^2",
          "UNEMP LRIR",
          "LRIR^2"
         ],
         "x0": " ",
         "xaxis": "x",
         "y": [
          0.05995203836930463,
          0.05755395683453246,
          0.05755395683453246,
          0.05515587529976029,
          0.06474820143884896,
          0.0625,
          0.050480769230769273,
          0.05288461538461542,
          0.05288461538461542,
          0.0625,
          0.06506024096385543,
          0.05783132530120483,
          0.07951807228915664,
          0.06024096385542166,
          0.08192771084337347,
          0.06521739130434778,
          0.05797101449275366,
          0.07004830917874394,
          0.06280193236714982,
          0.0748792270531401,
          0.06779661016949146,
          0.05811138014527839,
          0.07263922518159804,
          0.07263922518159804,
          0.07990314769975781,
          0.050970873786407744,
          0.04854368932038833,
          0.06796116504854366,
          0.06067961165048541,
          0.08009708737864074,
          0.048192771084337394,
          0.04578313253012045,
          0.04337349397590362,
          0.04578313253012045,
          0.04337349397590362,
          0.0531400966183575,
          0.050724637681159424,
          0.05555555555555558,
          0.05555555555555558,
          0.0531400966183575,
          0.04358353510895885,
          0.021791767554479424,
          0.029055690072639195,
          0.03631961259079908,
          0.03147699757869249,
          0.050970873786407744,
          0.03155339805825241,
          0.04854368932038833,
          0.04854368932038833,
          0.043689320388349495,
          0.041362530413625254,
          0.038929440389294356,
          0.05109489051094884,
          0.048661800486617945,
          0.05596107055961064,
          0.046341463414634076,
          0.04390243902439017,
          0.05365853658536579,
          0.046341463414634076,
          0.0585365853658536,
          0.04106280193236711,
          0.04347826086956519,
          0.04106280193236711,
          0.04347826086956519,
          0.04106280193236711,
          0.03389830508474567,
          0.041162227602905554,
          0.041162227602905554,
          0.03389830508474567,
          0.03874092009685226,
          0.036407766990291246,
          0.036407766990291246,
          0.04126213592233008,
          0.03883495145631066,
          0.03883495145631066,
          0.03649635036496346,
          0.05109489051094884,
          0.03406326034063256,
          0.041362530413625254,
          0.04379562043795615,
          0.03414634146341455,
          0.03170731707317065,
          0.03658536585365846,
          0.03658536585365846,
          0.03414634146341455,
          0.02933985330073352,
          0.02933985330073352,
          0.0317848410757946,
          0.02933985330073352,
          0.03911980440097795
         ],
         "y0": " ",
         "yaxis": "y"
        },
        {
         "alignmentgroup": "True",
         "boxpoints": "all",
         "fillcolor": "rgba(255,255,255,0)",
         "hoveron": "points",
         "hovertemplate": "sc=1<br>theta=%{x}<br>diff=%{y}<extra></extra>",
         "legendgroup": "1",
         "line": {
          "color": "rgba(255,255,255,0)"
         },
         "marker": {
          "color": "#636efa",
          "opacity": 0.5,
          "size": 5
         },
         "name": "1",
         "offsetgroup": "1",
         "orientation": "v",
         "pointpos": 0,
         "showlegend": false,
         "type": "box",
         "x": [
          "UNEMP",
          "LRIR",
          "UNEMP^2",
          "UNEMP LRIR",
          "LRIR^2",
          "UNEMP",
          "LRIR",
          "UNEMP^2",
          "UNEMP LRIR",
          "LRIR^2",
          "UNEMP",
          "LRIR",
          "UNEMP^2",
          "UNEMP LRIR",
          "LRIR^2",
          "UNEMP",
          "LRIR",
          "UNEMP^2",
          "UNEMP LRIR",
          "LRIR^2",
          "UNEMP",
          "LRIR",
          "UNEMP^2",
          "UNEMP LRIR",
          "LRIR^2",
          "UNEMP",
          "LRIR",
          "UNEMP^2",
          "UNEMP LRIR",
          "LRIR^2",
          "UNEMP",
          "LRIR",
          "UNEMP^2",
          "UNEMP LRIR",
          "LRIR^2",
          "UNEMP",
          "LRIR",
          "UNEMP^2",
          "UNEMP LRIR",
          "LRIR^2",
          "UNEMP",
          "LRIR",
          "UNEMP^2",
          "UNEMP LRIR",
          "LRIR^2",
          "UNEMP",
          "LRIR",
          "UNEMP^2",
          "UNEMP LRIR",
          "LRIR^2",
          "UNEMP",
          "LRIR",
          "UNEMP^2",
          "UNEMP LRIR",
          "LRIR^2",
          "UNEMP",
          "LRIR",
          "UNEMP^2",
          "UNEMP LRIR",
          "LRIR^2",
          "UNEMP",
          "LRIR",
          "UNEMP^2",
          "UNEMP LRIR",
          "LRIR^2",
          "UNEMP",
          "LRIR",
          "UNEMP^2",
          "UNEMP LRIR",
          "LRIR^2",
          "UNEMP",
          "LRIR",
          "UNEMP^2",
          "UNEMP LRIR",
          "LRIR^2",
          "UNEMP",
          "LRIR",
          "UNEMP^2",
          "UNEMP LRIR",
          "LRIR^2",
          "UNEMP",
          "LRIR",
          "UNEMP^2",
          "UNEMP LRIR",
          "LRIR^2",
          "UNEMP",
          "LRIR",
          "UNEMP^2",
          "UNEMP LRIR",
          "LRIR^2"
         ],
         "x0": " ",
         "xaxis": "x2",
         "y": [
          0.038962558502340094,
          0.03727496038617062,
          0.03735848964475019,
          0.03566067170988729,
          0.04208755850234014,
          0.041074249605055346,
          0.03271605872941363,
          0.03450397707437003,
          0.034377196761831263,
          0.040969097923754916,
          0.04306198083067103,
          0.03787488405647754,
          0.05298147369913386,
          0.039563108044841755,
          0.054515949084639304,
          0.04306709265175712,
          0.0379058023291764,
          0.04638447702177306,
          0.04126644956494041,
          0.04957426968525003,
          0.04487179487179482,
          0.03802588996763767,
          0.04818956336528224,
          0.04807692307692302,
          0.053030303030303094,
          0.03312658438266225,
          0.03126827027478496,
          0.044871794871794934,
          0.03974048299573352,
          0.053014967488651754,
          0.03120554830816391,
          0.02948712252484398,
          0.02796199770803276,
          0.02948712252484398,
          0.027857508399528164,
          0.03503114325899137,
          0.03327529209882163,
          0.03666591439103306,
          0.03656076270973263,
          0.03492063492063502,
          0.028173401401747844,
          0.013278388278388231,
          0.018379077202606564,
          0.023199023199023117,
          0.019913207811296907,
          0.033270342152098786,
          0.019998171363553308,
          0.03164556962025311,
          0.03155515370705242,
          0.028279448520519224,
          0.02696424084226079,
          0.025157167886220688,
          0.03359982879068124,
          0.03183624150077813,
          0.036789621454158206,
          0.030389554265958574,
          0.028598014888337464,
          0.03535881051855505,
          0.03027065527065531,
          0.03855369869746861,
          0.026409388724890293,
          0.027906976744186074,
          0.026409388724890293,
          0.027906976744186074,
          0.026303625595840097,
          0.021440351841671257,
          0.02616412039154692,
          0.026265389876880985,
          0.02132352941176474,
          0.024555616639178934,
          0.02315318818040446,
          0.023035633321470184,
          0.026385275407818654,
          0.02465944796131203,
          0.02465944796131203,
          0.023253532182103687,
          0.032858814352574206,
          0.021619496855346032,
          0.02639324960753553,
          0.028017241379310498,
          0.021545031055900554,
          0.019827998088867593,
          0.02315384540847465,
          0.02306107174447647,
          0.02144706867345536,
          0.018354895493309042,
          0.018251062318609845,
          0.01997396607789692,
          0.018251062318609845,
          0.02471785960275208
         ],
         "y0": " ",
         "yaxis": "y2"
        },
        {
         "alignmentgroup": "True",
         "boxpoints": "all",
         "fillcolor": "rgba(255,255,255,0)",
         "hoveron": "points",
         "hovertemplate": "sc=3<br>theta=%{x}<br>diff=%{y}<extra></extra>",
         "legendgroup": "3",
         "line": {
          "color": "rgba(255,255,255,0)"
         },
         "marker": {
          "color": "#EF553B",
          "opacity": 0.5,
          "size": 5
         },
         "name": "3",
         "offsetgroup": "3",
         "orientation": "v",
         "pointpos": 0,
         "showlegend": true,
         "type": "box",
         "x": [
          "UNEMP",
          "LRIR",
          "UNEMP^2",
          "UNEMP LRIR",
          "LRIR^2",
          "UNEMP",
          "LRIR",
          "UNEMP^2",
          "UNEMP LRIR",
          "LRIR^2",
          "UNEMP",
          "LRIR",
          "UNEMP^2",
          "UNEMP LRIR",
          "LRIR^2",
          "UNEMP",
          "LRIR",
          "UNEMP^2",
          "UNEMP LRIR",
          "LRIR^2",
          "UNEMP",
          "LRIR",
          "UNEMP^2",
          "UNEMP LRIR",
          "LRIR^2",
          "UNEMP",
          "LRIR",
          "UNEMP^2",
          "UNEMP LRIR",
          "LRIR^2",
          "UNEMP",
          "LRIR",
          "UNEMP^2",
          "UNEMP LRIR",
          "LRIR^2",
          "UNEMP",
          "LRIR",
          "UNEMP^2",
          "UNEMP LRIR",
          "LRIR^2",
          "UNEMP",
          "LRIR",
          "UNEMP^2",
          "UNEMP LRIR",
          "LRIR^2",
          "UNEMP",
          "LRIR",
          "UNEMP^2",
          "UNEMP LRIR",
          "LRIR^2",
          "UNEMP",
          "LRIR",
          "UNEMP^2",
          "UNEMP LRIR",
          "LRIR^2",
          "UNEMP",
          "LRIR",
          "UNEMP^2",
          "UNEMP LRIR",
          "LRIR^2",
          "UNEMP",
          "LRIR",
          "UNEMP^2",
          "UNEMP LRIR",
          "LRIR^2",
          "UNEMP",
          "LRIR",
          "UNEMP^2",
          "UNEMP LRIR",
          "LRIR^2",
          "UNEMP",
          "LRIR",
          "UNEMP^2",
          "UNEMP LRIR",
          "LRIR^2",
          "UNEMP",
          "LRIR",
          "UNEMP^2",
          "UNEMP LRIR",
          "LRIR^2",
          "UNEMP",
          "LRIR",
          "UNEMP^2",
          "UNEMP LRIR",
          "LRIR^2",
          "UNEMP",
          "LRIR",
          "UNEMP^2",
          "UNEMP LRIR",
          "LRIR^2"
         ],
         "x0": " ",
         "xaxis": "x",
         "y": [
          0.04796163069544357,
          0.05755395683453235,
          0.052757793764987904,
          0.0455635491606714,
          0.043165467625899234,
          0.05288461538461542,
          0.055288461538461564,
          0.055288461538461564,
          0.04567307692307698,
          0.04567307692307698,
          0.050602409638554224,
          0.04819277108433728,
          0.06506024096385543,
          0.04819277108433728,
          0.06506024096385543,
          0.06280193236714982,
          0.0531400966183575,
          0.06763285024154597,
          0.05797101449275366,
          0.06038647342995174,
          0.05811138014527839,
          0.048426150121065326,
          0.07990314769975781,
          0.06295399515738498,
          0.06295399515738498,
          0.05582524271844669,
          0.050970873786407855,
          0.0728155339805826,
          0.05339805825242727,
          0.06796116504854377,
          0.06265060240963849,
          0.04578313253012045,
          0.04819277108433728,
          0.05783132530120472,
          0.06024096385542166,
          0.05797101449275355,
          0.05555555555555547,
          0.048309178743961345,
          0.04589371980676327,
          0.050724637681159424,
          0.03874092009685226,
          0.03874092009685226,
          0.05569007263922521,
          0.04358353510895885,
          0.053268765133171914,
          0.043689320388349606,
          0.043689320388349606,
          0.050970873786407855,
          0.04611650485436902,
          0.05339805825242727,
          0.06082725060827254,
          0.04622871046228716,
          0.06326034063260344,
          0.05596107055961075,
          0.06326034063260344,
          0.0536585365853659,
          0.06341463414634152,
          0.07073170731707323,
          0.06341463414634152,
          0.07317073170731714,
          0.050724637681159424,
          0.03623188405797095,
          0.04347826086956519,
          0.04106280193236711,
          0.050724637681159424,
          0.03874092009685237,
          0.04600484261501214,
          0.041162227602905554,
          0.03874092009685237,
          0.05084745762711862,
          0.03155339805825241,
          0.04126213592233008,
          0.03155339805825241,
          0.04126213592233008,
          0.036407766990291246,
          0.03649635036496346,
          0.02676399026763987,
          0.048661800486617945,
          0.029197080291970767,
          0.03406326034063256,
          0.056097560975609806,
          0.051219512195122,
          0.056097560975609806,
          0.04634146341463419,
          0.0536585365853659,
          0.03911980440097795,
          0.05134474327628358,
          0.046454767726161306,
          0.0488997555012225,
          0.05378973105134466
         ],
         "y0": " ",
         "yaxis": "y"
        },
        {
         "alignmentgroup": "True",
         "boxpoints": "all",
         "fillcolor": "rgba(255,255,255,0)",
         "hoveron": "points",
         "hovertemplate": "sc=3<br>theta=%{x}<br>diff=%{y}<extra></extra>",
         "legendgroup": "3",
         "line": {
          "color": "rgba(255,255,255,0)"
         },
         "marker": {
          "color": "#EF553B",
          "opacity": 0.5,
          "size": 5
         },
         "name": "3",
         "offsetgroup": "3",
         "orientation": "v",
         "pointpos": 0,
         "showlegend": false,
         "type": "box",
         "x": [
          "UNEMP",
          "LRIR",
          "UNEMP^2",
          "UNEMP LRIR",
          "LRIR^2",
          "UNEMP",
          "LRIR",
          "UNEMP^2",
          "UNEMP LRIR",
          "LRIR^2",
          "UNEMP",
          "LRIR",
          "UNEMP^2",
          "UNEMP LRIR",
          "LRIR^2",
          "UNEMP",
          "LRIR",
          "UNEMP^2",
          "UNEMP LRIR",
          "LRIR^2",
          "UNEMP",
          "LRIR",
          "UNEMP^2",
          "UNEMP LRIR",
          "LRIR^2",
          "UNEMP",
          "LRIR",
          "UNEMP^2",
          "UNEMP LRIR",
          "LRIR^2",
          "UNEMP",
          "LRIR",
          "UNEMP^2",
          "UNEMP LRIR",
          "LRIR^2",
          "UNEMP",
          "LRIR",
          "UNEMP^2",
          "UNEMP LRIR",
          "LRIR^2",
          "UNEMP",
          "LRIR",
          "UNEMP^2",
          "UNEMP LRIR",
          "LRIR^2",
          "UNEMP",
          "LRIR",
          "UNEMP^2",
          "UNEMP LRIR",
          "LRIR^2",
          "UNEMP",
          "LRIR",
          "UNEMP^2",
          "UNEMP LRIR",
          "LRIR^2",
          "UNEMP",
          "LRIR",
          "UNEMP^2",
          "UNEMP LRIR",
          "LRIR^2",
          "UNEMP",
          "LRIR",
          "UNEMP^2",
          "UNEMP LRIR",
          "LRIR^2",
          "UNEMP",
          "LRIR",
          "UNEMP^2",
          "UNEMP LRIR",
          "LRIR^2",
          "UNEMP",
          "LRIR",
          "UNEMP^2",
          "UNEMP LRIR",
          "LRIR^2",
          "UNEMP",
          "LRIR",
          "UNEMP^2",
          "UNEMP LRIR",
          "LRIR^2",
          "UNEMP",
          "LRIR",
          "UNEMP^2",
          "UNEMP LRIR",
          "LRIR^2",
          "UNEMP",
          "LRIR",
          "UNEMP^2",
          "UNEMP LRIR",
          "LRIR^2"
         ],
         "x0": " ",
         "xaxis": "x2",
         "y": [
          0.03065318107667203,
          0.037795153473344056,
          0.03434943273905999,
          0.029138762214983682,
          0.027150245499181547,
          0.03471207249342301,
          0.03644332341430112,
          0.03644332341430112,
          0.029484429011293223,
          0.029484429011293223,
          0.03318011531205989,
          0.030904000964410594,
          0.04344337157307343,
          0.03115996785209818,
          0.04365488644256876,
          0.04269293924466344,
          0.03525884534633905,
          0.04622963243652911,
          0.03885518869844906,
          0.041185496244851794,
          0.039024390243902474,
          0.03173535183627707,
          0.053753563509661095,
          0.04181868987265991,
          0.04204830302789142,
          0.03673985588879192,
          0.033213912524257205,
          0.04890093725045175,
          0.035226211696799736,
          0.0454545454545453,
          0.04121812742923425,
          0.029259232581830164,
          0.031201998894054617,
          0.03782867875224549,
          0.039336066495588407,
          0.0376320245101992,
          0.035772151898734283,
          0.03087471600129832,
          0.029372151898734322,
          0.03238210374464112,
          0.0249247342658776,
          0.024738031641668434,
          0.036550554150286074,
          0.028140168349478856,
          0.0347256246937776,
          0.028254916604431135,
          0.027854338929257483,
          0.03338288120896826,
          0.02977600465444874,
          0.03472740851381628,
          0.040934564685452535,
          0.030334532853525165,
          0.04246089786667717,
          0.03749868018160696,
          0.042644180884458205,
          0.03485342019543969,
          0.04136807817589572,
          0.046859903381642476,
          0.04155844155844146,
          0.048387096774193505,
          0.03288319032761322,
          0.023006889763779736,
          0.027968260188087846,
          0.02631966248037687,
          0.03274158841940533,
          0.024399950194218256,
          0.02918334414017376,
          0.02604854790192923,
          0.024562095225578395,
          0.03259158054873246,
          0.019358350627700527,
          0.0256377854785641,
          0.019185295336535013,
          0.02579010353832678,
          0.022334901635747695,
          0.022702060221870046,
          0.01617647058823546,
          0.030974842767295674,
          0.01803797468354429,
          0.021031746031746068,
          0.0362003578174136,
          0.03270927264247003,
          0.03635460393949186,
          0.02952962240399626,
          0.0345405901848822,
          0.024709831358434076,
          0.032963715763417833,
          0.029596430662386597,
          0.03128275417237758,
          0.03446746754817376
         ],
         "y0": " ",
         "yaxis": "y2"
        },
        {
         "alignmentgroup": "True",
         "boxpoints": "all",
         "fillcolor": "rgba(255,255,255,0)",
         "hoveron": "points",
         "hovertemplate": "sc=6<br>theta=%{x}<br>diff=%{y}<extra></extra>",
         "legendgroup": "6",
         "line": {
          "color": "rgba(255,255,255,0)"
         },
         "marker": {
          "color": "#00cc96",
          "opacity": 0.5,
          "size": 5
         },
         "name": "6",
         "offsetgroup": "6",
         "orientation": "v",
         "pointpos": 0,
         "showlegend": true,
         "type": "box",
         "x": [
          "UNEMP",
          "LRIR",
          "UNEMP^2",
          "UNEMP LRIR",
          "LRIR^2",
          "UNEMP",
          "LRIR",
          "UNEMP^2",
          "UNEMP LRIR",
          "LRIR^2",
          "UNEMP",
          "LRIR",
          "UNEMP^2",
          "UNEMP LRIR",
          "LRIR^2",
          "UNEMP",
          "LRIR",
          "UNEMP^2",
          "UNEMP LRIR",
          "LRIR^2",
          "UNEMP",
          "LRIR",
          "UNEMP^2",
          "UNEMP LRIR",
          "LRIR^2",
          "UNEMP",
          "LRIR",
          "UNEMP^2",
          "UNEMP LRIR",
          "LRIR^2",
          "UNEMP",
          "LRIR",
          "UNEMP^2",
          "UNEMP LRIR",
          "LRIR^2",
          "UNEMP",
          "LRIR",
          "UNEMP^2",
          "UNEMP LRIR",
          "LRIR^2",
          "UNEMP",
          "LRIR",
          "UNEMP^2",
          "UNEMP LRIR",
          "LRIR^2",
          "UNEMP",
          "LRIR",
          "UNEMP^2",
          "UNEMP LRIR",
          "LRIR^2",
          "UNEMP",
          "LRIR",
          "UNEMP^2",
          "UNEMP LRIR",
          "LRIR^2",
          "UNEMP",
          "LRIR",
          "UNEMP^2",
          "UNEMP LRIR",
          "LRIR^2",
          "UNEMP",
          "LRIR",
          "UNEMP^2",
          "UNEMP LRIR",
          "LRIR^2",
          "UNEMP",
          "LRIR",
          "UNEMP^2",
          "UNEMP LRIR",
          "LRIR^2",
          "UNEMP",
          "LRIR",
          "UNEMP^2",
          "UNEMP LRIR",
          "LRIR^2",
          "UNEMP",
          "LRIR",
          "UNEMP^2",
          "UNEMP LRIR",
          "LRIR^2",
          "UNEMP",
          "LRIR",
          "UNEMP^2",
          "UNEMP LRIR",
          "LRIR^2",
          "UNEMP",
          "LRIR",
          "UNEMP^2",
          "UNEMP LRIR",
          "LRIR^2"
         ],
         "x0": " ",
         "xaxis": "x",
         "y": [
          0.05995203836930463,
          0.0383693045563549,
          0.04796163069544368,
          0.04796163069544368,
          0.052757793764988015,
          0.05048076923076916,
          0.04567307692307687,
          0.028846153846153855,
          0.04086538461538458,
          0.04807692307692302,
          0.05783132530120483,
          0.03373493975903619,
          0.053012048192771055,
          0.03614457831325302,
          0.06024096385542166,
          0.050724637681159424,
          0.04589371980676327,
          0.05555555555555547,
          0.04589371980676327,
          0.05314009661835739,
          0.07263922518159815,
          0.06295399515738498,
          0.06537530266343827,
          0.06295399515738498,
          0.07021791767554486,
          0.04126213592233008,
          0.050970873786407744,
          0.050970873786407744,
          0.04611650485436891,
          0.06067961165048541,
          0.048192771084337394,
          0.03855421686746985,
          0.03614457831325302,
          0.04337349397590362,
          0.04578313253012045,
          0.036231884057971064,
          0.03140096618357491,
          0.02657004830917875,
          0.03864734299516914,
          0.0434782608695653,
          0.03147699757869249,
          0.03389830508474578,
          0.03147699757869249,
          0.0266343825665859,
          0.03389830508474578,
          0.04611650485436891,
          0.03155339805825241,
          0.036407766990291246,
          0.03398058252427183,
          0.03883495145631066,
          0.038929440389294356,
          0.04379562043795615,
          0.048661800486618056,
          0.038929440389294356,
          0.04379562043795615,
          0.03414634146341455,
          0.046341463414634076,
          0.04146341463414627,
          0.03170731707317065,
          0.03902439024390236,
          0.050724637681159424,
          0.04589371980676327,
          0.04106280193236711,
          0.048309178743961345,
          0.04347826086956519,
          0.04600484261501214,
          0.021791767554479424,
          0.03631961259079908,
          0.029055690072639195,
          0.029055690072639195,
          0.04854368932038844,
          0.043689320388349606,
          0.03398058252427194,
          0.05339805825242727,
          0.050970873786407855,
          0.04379562043795626,
          0.04379562043795626,
          0.04622871046228716,
          0.048661800486618056,
          0.04622871046228716,
          0.03658536585365857,
          0.039024390243902474,
          0.04146341463414638,
          0.039024390243902474,
          0.04634146341463419,
          0.02689486552567233,
          0.0488997555012225,
          0.0488997555012225,
          0.0488997555012225,
          0.041564792176039145
         ],
         "y0": " ",
         "yaxis": "y"
        },
        {
         "alignmentgroup": "True",
         "boxpoints": "all",
         "fillcolor": "rgba(255,255,255,0)",
         "hoveron": "points",
         "hovertemplate": "sc=6<br>theta=%{x}<br>diff=%{y}<extra></extra>",
         "legendgroup": "6",
         "line": {
          "color": "rgba(255,255,255,0)"
         },
         "marker": {
          "color": "#00cc96",
          "opacity": 0.5,
          "size": 5
         },
         "name": "6",
         "offsetgroup": "6",
         "orientation": "v",
         "pointpos": 0,
         "showlegend": false,
         "type": "box",
         "x": [
          "UNEMP",
          "LRIR",
          "UNEMP^2",
          "UNEMP LRIR",
          "LRIR^2",
          "UNEMP",
          "LRIR",
          "UNEMP^2",
          "UNEMP LRIR",
          "LRIR^2",
          "UNEMP",
          "LRIR",
          "UNEMP^2",
          "UNEMP LRIR",
          "LRIR^2",
          "UNEMP",
          "LRIR",
          "UNEMP^2",
          "UNEMP LRIR",
          "LRIR^2",
          "UNEMP",
          "LRIR",
          "UNEMP^2",
          "UNEMP LRIR",
          "LRIR^2",
          "UNEMP",
          "LRIR",
          "UNEMP^2",
          "UNEMP LRIR",
          "LRIR^2",
          "UNEMP",
          "LRIR",
          "UNEMP^2",
          "UNEMP LRIR",
          "LRIR^2",
          "UNEMP",
          "LRIR",
          "UNEMP^2",
          "UNEMP LRIR",
          "LRIR^2",
          "UNEMP",
          "LRIR",
          "UNEMP^2",
          "UNEMP LRIR",
          "LRIR^2",
          "UNEMP",
          "LRIR",
          "UNEMP^2",
          "UNEMP LRIR",
          "LRIR^2",
          "UNEMP",
          "LRIR",
          "UNEMP^2",
          "UNEMP LRIR",
          "LRIR^2",
          "UNEMP",
          "LRIR",
          "UNEMP^2",
          "UNEMP LRIR",
          "LRIR^2",
          "UNEMP",
          "LRIR",
          "UNEMP^2",
          "UNEMP LRIR",
          "LRIR^2",
          "UNEMP",
          "LRIR",
          "UNEMP^2",
          "UNEMP LRIR",
          "LRIR^2",
          "UNEMP",
          "LRIR",
          "UNEMP^2",
          "UNEMP LRIR",
          "LRIR^2",
          "UNEMP",
          "LRIR",
          "UNEMP^2",
          "UNEMP LRIR",
          "LRIR^2",
          "UNEMP",
          "LRIR",
          "UNEMP^2",
          "UNEMP LRIR",
          "LRIR^2",
          "UNEMP",
          "LRIR",
          "UNEMP^2",
          "UNEMP LRIR",
          "LRIR^2"
         ],
         "x0": " ",
         "xaxis": "x2",
         "y": [
          0.03944968152866246,
          0.024327100883501318,
          0.03158258887690524,
          0.03077871378672692,
          0.03477747705581913,
          0.0337688410684317,
          0.029216875446913315,
          0.018661097757988965,
          0.026281056310515583,
          0.031990741589273064,
          0.038747312171339865,
          0.01998914223669923,
          0.03583061889250805,
          0.02266131854523934,
          0.040549229240505635,
          0.033665924129891,
          0.029173070331590112,
          0.03913087808359583,
          0.030343664993678576,
          0.036243822075782584,
          0.04918032786885229,
          0.04076502732240417,
          0.04479982884497091,
          0.0415155791987839,
          0.047014340886380124,
          0.027668490086199538,
          0.034357453296901985,
          0.03590275832907752,
          0.03141430948419299,
          0.04250341839508398,
          0.03268608414239493,
          0.02484294688749289,
          0.023742994711500653,
          0.029126213592233108,
          0.03024705975215114,
          0.024127795527156493,
          0.020129032258064394,
          0.017461538461538417,
          0.025095008051529755,
          0.02831561996779386,
          0.019785113268608545,
          0.020677324632952798,
          0.020077419354838755,
          0.01624415584415595,
          0.021258995137763415,
          0.030312384244968515,
          0.01913665453632829,
          0.02418461538461547,
          0.021228771228771315,
          0.02506203473945423,
          0.025848142164781818,
          0.02787347736304524,
          0.03259633870015266,
          0.02491520554912796,
          0.028480239568146715,
          0.021393229342213438,
          0.02948802437258935,
          0.027902503307809523,
          0.019554249538152324,
          0.02540468288344755,
          0.033568600447581365,
          0.029849681528662297,
          0.02693038328304831,
          0.03158258887690535,
          0.02838770069799157,
          0.0296747587387981,
          0.012649177803442546,
          0.023162935354083758,
          0.01806475933494689,
          0.018314330073276985,
          0.03129890453834128,
          0.027236495217120682,
          0.022158257222307687,
          0.034217515102827,
          0.03232080883478228,
          0.02815157928363221,
          0.027910470181763514,
          0.030085198340743746,
          0.031316136245657544,
          0.02961600183975166,
          0.023378117839442103,
          0.024580665610142716,
          0.027316312297839818,
          0.024840952691482454,
          0.02999018941966658,
          0.016456916623075468,
          0.03133676302466104,
          0.03209988878778691,
          0.03133676302466104,
          0.026392737013219425
         ],
         "y0": " ",
         "yaxis": "y2"
        }
       ],
       "layout": {
        "annotations": [
         {
          "font": {
           "color": "grey",
           "size": 11
          },
          "showarrow": false,
          "text": "Acc",
          "x": 0.225,
          "xanchor": "center",
          "xref": "paper",
          "y": 0.95,
          "yanchor": "bottom",
          "yref": "paper"
         },
         {
          "font": {
           "color": "grey",
           "size": 11
          },
          "showarrow": false,
          "text": "F1",
          "x": 0.775,
          "xanchor": "center",
          "xref": "paper",
          "y": 0.95,
          "yanchor": "bottom",
          "yref": "paper"
         }
        ],
        "height": 400,
        "legend": {
         "orientation": "h",
         "title": {
          "text": "Scopes:"
         },
         "x": 0.5,
         "xanchor": "center",
         "y": -0.1,
         "yanchor": "top"
        },
        "margin": {
         "b": 60,
         "l": 80,
         "r": 40,
         "t": 80
        },
        "template": {
         "data": {
          "bar": [
           {
            "error_x": {
             "color": "#f2f5fa"
            },
            "error_y": {
             "color": "#f2f5fa"
            },
            "marker": {
             "line": {
              "color": "rgb(17,17,17)",
              "width": 0.5
             },
             "pattern": {
              "fillmode": "overlay",
              "size": 10,
              "solidity": 0.2
             }
            },
            "type": "bar"
           }
          ],
          "barpolar": [
           {
            "marker": {
             "line": {
              "color": "rgb(17,17,17)",
              "width": 0.5
             },
             "pattern": {
              "fillmode": "overlay",
              "size": 10,
              "solidity": 0.2
             }
            },
            "type": "barpolar"
           }
          ],
          "carpet": [
           {
            "aaxis": {
             "endlinecolor": "#A2B1C6",
             "gridcolor": "#506784",
             "linecolor": "#506784",
             "minorgridcolor": "#506784",
             "startlinecolor": "#A2B1C6"
            },
            "baxis": {
             "endlinecolor": "#A2B1C6",
             "gridcolor": "#506784",
             "linecolor": "#506784",
             "minorgridcolor": "#506784",
             "startlinecolor": "#A2B1C6"
            },
            "type": "carpet"
           }
          ],
          "choropleth": [
           {
            "colorbar": {
             "outlinewidth": 0,
             "ticks": ""
            },
            "type": "choropleth"
           }
          ],
          "contour": [
           {
            "colorbar": {
             "outlinewidth": 0,
             "ticks": ""
            },
            "colorscale": [
             [
              0,
              "#0d0887"
             ],
             [
              0.1111111111111111,
              "#46039f"
             ],
             [
              0.2222222222222222,
              "#7201a8"
             ],
             [
              0.3333333333333333,
              "#9c179e"
             ],
             [
              0.4444444444444444,
              "#bd3786"
             ],
             [
              0.5555555555555556,
              "#d8576b"
             ],
             [
              0.6666666666666666,
              "#ed7953"
             ],
             [
              0.7777777777777778,
              "#fb9f3a"
             ],
             [
              0.8888888888888888,
              "#fdca26"
             ],
             [
              1,
              "#f0f921"
             ]
            ],
            "type": "contour"
           }
          ],
          "contourcarpet": [
           {
            "colorbar": {
             "outlinewidth": 0,
             "ticks": ""
            },
            "type": "contourcarpet"
           }
          ],
          "heatmap": [
           {
            "colorbar": {
             "outlinewidth": 0,
             "ticks": ""
            },
            "colorscale": [
             [
              0,
              "#0d0887"
             ],
             [
              0.1111111111111111,
              "#46039f"
             ],
             [
              0.2222222222222222,
              "#7201a8"
             ],
             [
              0.3333333333333333,
              "#9c179e"
             ],
             [
              0.4444444444444444,
              "#bd3786"
             ],
             [
              0.5555555555555556,
              "#d8576b"
             ],
             [
              0.6666666666666666,
              "#ed7953"
             ],
             [
              0.7777777777777778,
              "#fb9f3a"
             ],
             [
              0.8888888888888888,
              "#fdca26"
             ],
             [
              1,
              "#f0f921"
             ]
            ],
            "type": "heatmap"
           }
          ],
          "heatmapgl": [
           {
            "colorbar": {
             "outlinewidth": 0,
             "ticks": ""
            },
            "colorscale": [
             [
              0,
              "#0d0887"
             ],
             [
              0.1111111111111111,
              "#46039f"
             ],
             [
              0.2222222222222222,
              "#7201a8"
             ],
             [
              0.3333333333333333,
              "#9c179e"
             ],
             [
              0.4444444444444444,
              "#bd3786"
             ],
             [
              0.5555555555555556,
              "#d8576b"
             ],
             [
              0.6666666666666666,
              "#ed7953"
             ],
             [
              0.7777777777777778,
              "#fb9f3a"
             ],
             [
              0.8888888888888888,
              "#fdca26"
             ],
             [
              1,
              "#f0f921"
             ]
            ],
            "type": "heatmapgl"
           }
          ],
          "histogram": [
           {
            "marker": {
             "pattern": {
              "fillmode": "overlay",
              "size": 10,
              "solidity": 0.2
             }
            },
            "type": "histogram"
           }
          ],
          "histogram2d": [
           {
            "colorbar": {
             "outlinewidth": 0,
             "ticks": ""
            },
            "colorscale": [
             [
              0,
              "#0d0887"
             ],
             [
              0.1111111111111111,
              "#46039f"
             ],
             [
              0.2222222222222222,
              "#7201a8"
             ],
             [
              0.3333333333333333,
              "#9c179e"
             ],
             [
              0.4444444444444444,
              "#bd3786"
             ],
             [
              0.5555555555555556,
              "#d8576b"
             ],
             [
              0.6666666666666666,
              "#ed7953"
             ],
             [
              0.7777777777777778,
              "#fb9f3a"
             ],
             [
              0.8888888888888888,
              "#fdca26"
             ],
             [
              1,
              "#f0f921"
             ]
            ],
            "type": "histogram2d"
           }
          ],
          "histogram2dcontour": [
           {
            "colorbar": {
             "outlinewidth": 0,
             "ticks": ""
            },
            "colorscale": [
             [
              0,
              "#0d0887"
             ],
             [
              0.1111111111111111,
              "#46039f"
             ],
             [
              0.2222222222222222,
              "#7201a8"
             ],
             [
              0.3333333333333333,
              "#9c179e"
             ],
             [
              0.4444444444444444,
              "#bd3786"
             ],
             [
              0.5555555555555556,
              "#d8576b"
             ],
             [
              0.6666666666666666,
              "#ed7953"
             ],
             [
              0.7777777777777778,
              "#fb9f3a"
             ],
             [
              0.8888888888888888,
              "#fdca26"
             ],
             [
              1,
              "#f0f921"
             ]
            ],
            "type": "histogram2dcontour"
           }
          ],
          "mesh3d": [
           {
            "colorbar": {
             "outlinewidth": 0,
             "ticks": ""
            },
            "type": "mesh3d"
           }
          ],
          "parcoords": [
           {
            "line": {
             "colorbar": {
              "outlinewidth": 0,
              "ticks": ""
             }
            },
            "type": "parcoords"
           }
          ],
          "pie": [
           {
            "automargin": true,
            "type": "pie"
           }
          ],
          "scatter": [
           {
            "marker": {
             "line": {
              "color": "#283442"
             }
            },
            "type": "scatter"
           }
          ],
          "scatter3d": [
           {
            "line": {
             "colorbar": {
              "outlinewidth": 0,
              "ticks": ""
             }
            },
            "marker": {
             "colorbar": {
              "outlinewidth": 0,
              "ticks": ""
             }
            },
            "type": "scatter3d"
           }
          ],
          "scattercarpet": [
           {
            "marker": {
             "colorbar": {
              "outlinewidth": 0,
              "ticks": ""
             }
            },
            "type": "scattercarpet"
           }
          ],
          "scattergeo": [
           {
            "marker": {
             "colorbar": {
              "outlinewidth": 0,
              "ticks": ""
             }
            },
            "type": "scattergeo"
           }
          ],
          "scattergl": [
           {
            "marker": {
             "line": {
              "color": "#283442"
             }
            },
            "type": "scattergl"
           }
          ],
          "scattermapbox": [
           {
            "marker": {
             "colorbar": {
              "outlinewidth": 0,
              "ticks": ""
             }
            },
            "type": "scattermapbox"
           }
          ],
          "scatterpolar": [
           {
            "marker": {
             "colorbar": {
              "outlinewidth": 0,
              "ticks": ""
             }
            },
            "type": "scatterpolar"
           }
          ],
          "scatterpolargl": [
           {
            "marker": {
             "colorbar": {
              "outlinewidth": 0,
              "ticks": ""
             }
            },
            "type": "scatterpolargl"
           }
          ],
          "scatterternary": [
           {
            "marker": {
             "colorbar": {
              "outlinewidth": 0,
              "ticks": ""
             }
            },
            "type": "scatterternary"
           }
          ],
          "surface": [
           {
            "colorbar": {
             "outlinewidth": 0,
             "ticks": ""
            },
            "colorscale": [
             [
              0,
              "#0d0887"
             ],
             [
              0.1111111111111111,
              "#46039f"
             ],
             [
              0.2222222222222222,
              "#7201a8"
             ],
             [
              0.3333333333333333,
              "#9c179e"
             ],
             [
              0.4444444444444444,
              "#bd3786"
             ],
             [
              0.5555555555555556,
              "#d8576b"
             ],
             [
              0.6666666666666666,
              "#ed7953"
             ],
             [
              0.7777777777777778,
              "#fb9f3a"
             ],
             [
              0.8888888888888888,
              "#fdca26"
             ],
             [
              1,
              "#f0f921"
             ]
            ],
            "type": "surface"
           }
          ],
          "table": [
           {
            "cells": {
             "fill": {
              "color": "#506784"
             },
             "line": {
              "color": "rgb(17,17,17)"
             }
            },
            "header": {
             "fill": {
              "color": "#2a3f5f"
             },
             "line": {
              "color": "rgb(17,17,17)"
             }
            },
            "type": "table"
           }
          ]
         },
         "layout": {
          "annotationdefaults": {
           "arrowcolor": "#f2f5fa",
           "arrowhead": 0,
           "arrowwidth": 1
          },
          "autotypenumbers": "strict",
          "coloraxis": {
           "colorbar": {
            "outlinewidth": 0,
            "ticks": ""
           }
          },
          "colorscale": {
           "diverging": [
            [
             0,
             "#8e0152"
            ],
            [
             0.1,
             "#c51b7d"
            ],
            [
             0.2,
             "#de77ae"
            ],
            [
             0.3,
             "#f1b6da"
            ],
            [
             0.4,
             "#fde0ef"
            ],
            [
             0.5,
             "#f7f7f7"
            ],
            [
             0.6,
             "#e6f5d0"
            ],
            [
             0.7,
             "#b8e186"
            ],
            [
             0.8,
             "#7fbc41"
            ],
            [
             0.9,
             "#4d9221"
            ],
            [
             1,
             "#276419"
            ]
           ],
           "sequential": [
            [
             0,
             "#0d0887"
            ],
            [
             0.1111111111111111,
             "#46039f"
            ],
            [
             0.2222222222222222,
             "#7201a8"
            ],
            [
             0.3333333333333333,
             "#9c179e"
            ],
            [
             0.4444444444444444,
             "#bd3786"
            ],
            [
             0.5555555555555556,
             "#d8576b"
            ],
            [
             0.6666666666666666,
             "#ed7953"
            ],
            [
             0.7777777777777778,
             "#fb9f3a"
            ],
            [
             0.8888888888888888,
             "#fdca26"
            ],
            [
             1,
             "#f0f921"
            ]
           ],
           "sequentialminus": [
            [
             0,
             "#0d0887"
            ],
            [
             0.1111111111111111,
             "#46039f"
            ],
            [
             0.2222222222222222,
             "#7201a8"
            ],
            [
             0.3333333333333333,
             "#9c179e"
            ],
            [
             0.4444444444444444,
             "#bd3786"
            ],
            [
             0.5555555555555556,
             "#d8576b"
            ],
            [
             0.6666666666666666,
             "#ed7953"
            ],
            [
             0.7777777777777778,
             "#fb9f3a"
            ],
            [
             0.8888888888888888,
             "#fdca26"
            ],
            [
             1,
             "#f0f921"
            ]
           ]
          },
          "colorway": [
           "#636efa",
           "#EF553B",
           "#00cc96",
           "#ab63fa",
           "#FFA15A",
           "#19d3f3",
           "#FF6692",
           "#B6E880",
           "#FF97FF",
           "#FECB52"
          ],
          "font": {
           "color": "#f2f5fa"
          },
          "geo": {
           "bgcolor": "rgb(17,17,17)",
           "lakecolor": "rgb(17,17,17)",
           "landcolor": "rgb(17,17,17)",
           "showlakes": true,
           "showland": true,
           "subunitcolor": "#506784"
          },
          "hoverlabel": {
           "align": "left"
          },
          "hovermode": "closest",
          "mapbox": {
           "style": "dark"
          },
          "paper_bgcolor": "rgb(17,17,17)",
          "plot_bgcolor": "rgb(17,17,17)",
          "polar": {
           "angularaxis": {
            "gridcolor": "#506784",
            "linecolor": "#506784",
            "ticks": ""
           },
           "bgcolor": "rgb(17,17,17)",
           "radialaxis": {
            "gridcolor": "#506784",
            "linecolor": "#506784",
            "ticks": ""
           }
          },
          "scene": {
           "xaxis": {
            "backgroundcolor": "rgb(17,17,17)",
            "gridcolor": "#506784",
            "gridwidth": 2,
            "linecolor": "#506784",
            "showbackground": true,
            "ticks": "",
            "zerolinecolor": "#C8D4E3"
           },
           "yaxis": {
            "backgroundcolor": "rgb(17,17,17)",
            "gridcolor": "#506784",
            "gridwidth": 2,
            "linecolor": "#506784",
            "showbackground": true,
            "ticks": "",
            "zerolinecolor": "#C8D4E3"
           },
           "zaxis": {
            "backgroundcolor": "rgb(17,17,17)",
            "gridcolor": "#506784",
            "gridwidth": 2,
            "linecolor": "#506784",
            "showbackground": true,
            "ticks": "",
            "zerolinecolor": "#C8D4E3"
           }
          },
          "shapedefaults": {
           "line": {
            "color": "#f2f5fa"
           }
          },
          "sliderdefaults": {
           "bgcolor": "#C8D4E3",
           "bordercolor": "rgb(17,17,17)",
           "borderwidth": 1,
           "tickwidth": 0
          },
          "ternary": {
           "aaxis": {
            "gridcolor": "#506784",
            "linecolor": "#506784",
            "ticks": ""
           },
           "baxis": {
            "gridcolor": "#506784",
            "linecolor": "#506784",
            "ticks": ""
           },
           "bgcolor": "rgb(17,17,17)",
           "caxis": {
            "gridcolor": "#506784",
            "linecolor": "#506784",
            "ticks": ""
           }
          },
          "title": {
           "x": 0.05
          },
          "updatemenudefaults": {
           "bgcolor": "#506784",
           "borderwidth": 0
          },
          "xaxis": {
           "automargin": true,
           "gridcolor": "#283442",
           "linecolor": "#506784",
           "ticks": "",
           "title": {
            "standoff": 15
           },
           "zerolinecolor": "#283442",
           "zerolinewidth": 2
          },
          "yaxis": {
           "automargin": true,
           "gridcolor": "#283442",
           "linecolor": "#506784",
           "ticks": "",
           "title": {
            "standoff": 15
           },
           "zerolinecolor": "#283442",
           "zerolinewidth": 2
          }
         }
        },
        "title": {
         "text": "Observe Backward Elimination in All Models With Repect to Scopes<br><span style=\"font-size: 12.5px; color: lightgrey;\"> -- How meansures are changed by removing the impact of each coefficient</span>"
        },
        "width": 800,
        "xaxis": {
         "anchor": "y",
         "domain": [
          0,
          0.45
         ]
        },
        "xaxis2": {
         "anchor": "y2",
         "domain": [
          0.55,
          1
         ]
        },
        "yaxis": {
         "anchor": "x",
         "domain": [
          0,
          1
         ],
         "title": {
          "text": "Difference"
         }
        },
        "yaxis2": {
         "anchor": "x2",
         "domain": [
          0,
          1
         ]
        }
       }
      }
     },
     "metadata": {},
     "output_type": "display_data"
    },
    {
     "data": {
      "application/vnd.plotly.v1+json": {
       "config": {
        "plotlyServerURL": "https://plot.ly"
       },
       "data": [
        {
         "alignmentgroup": "True",
         "boxpoints": "all",
         "fillcolor": "rgba(255,255,255,0)",
         "hoveron": "points",
         "hovertemplate": "ma=1<br>theta=%{x}<br>diff=%{y}<extra></extra>",
         "legendgroup": "1",
         "line": {
          "color": "rgba(255,255,255,0)"
         },
         "marker": {
          "color": "#636efa",
          "opacity": 0.5,
          "size": 5
         },
         "name": "1",
         "offsetgroup": "1",
         "orientation": "v",
         "pointpos": 0,
         "showlegend": true,
         "type": "box",
         "x": [
          "UNEMP",
          "LRIR",
          "UNEMP^2",
          "UNEMP LRIR",
          "LRIR^2",
          "UNEMP",
          "LRIR",
          "UNEMP^2",
          "UNEMP LRIR",
          "LRIR^2",
          "UNEMP",
          "LRIR",
          "UNEMP^2",
          "UNEMP LRIR",
          "LRIR^2",
          "UNEMP",
          "LRIR",
          "UNEMP^2",
          "UNEMP LRIR",
          "LRIR^2",
          "UNEMP",
          "LRIR",
          "UNEMP^2",
          "UNEMP LRIR",
          "LRIR^2",
          "UNEMP",
          "LRIR",
          "UNEMP^2",
          "UNEMP LRIR",
          "LRIR^2",
          "UNEMP",
          "LRIR",
          "UNEMP^2",
          "UNEMP LRIR",
          "LRIR^2",
          "UNEMP",
          "LRIR",
          "UNEMP^2",
          "UNEMP LRIR",
          "LRIR^2",
          "UNEMP",
          "LRIR",
          "UNEMP^2",
          "UNEMP LRIR",
          "LRIR^2",
          "UNEMP",
          "LRIR",
          "UNEMP^2",
          "UNEMP LRIR",
          "LRIR^2",
          "UNEMP",
          "LRIR",
          "UNEMP^2",
          "UNEMP LRIR",
          "LRIR^2",
          "UNEMP",
          "LRIR",
          "UNEMP^2",
          "UNEMP LRIR",
          "LRIR^2",
          "UNEMP",
          "LRIR",
          "UNEMP^2",
          "UNEMP LRIR",
          "LRIR^2",
          "UNEMP",
          "LRIR",
          "UNEMP^2",
          "UNEMP LRIR",
          "LRIR^2",
          "UNEMP",
          "LRIR",
          "UNEMP^2",
          "UNEMP LRIR",
          "LRIR^2",
          "UNEMP",
          "LRIR",
          "UNEMP^2",
          "UNEMP LRIR",
          "LRIR^2",
          "UNEMP",
          "LRIR",
          "UNEMP^2",
          "UNEMP LRIR",
          "LRIR^2",
          "UNEMP",
          "LRIR",
          "UNEMP^2",
          "UNEMP LRIR",
          "LRIR^2"
         ],
         "x0": " ",
         "xaxis": "x",
         "y": [
          0.05995203836930463,
          0.05755395683453246,
          0.05755395683453246,
          0.05515587529976029,
          0.06474820143884896,
          0.0625,
          0.050480769230769273,
          0.05288461538461542,
          0.05288461538461542,
          0.0625,
          0.06506024096385543,
          0.05783132530120483,
          0.07951807228915664,
          0.06024096385542166,
          0.08192771084337347,
          0.06521739130434778,
          0.05797101449275366,
          0.07004830917874394,
          0.06280193236714982,
          0.0748792270531401,
          0.06779661016949146,
          0.05811138014527839,
          0.07263922518159804,
          0.07263922518159804,
          0.07990314769975781,
          0.050970873786407744,
          0.04854368932038833,
          0.06796116504854366,
          0.06067961165048541,
          0.08009708737864074,
          0.04796163069544357,
          0.05755395683453235,
          0.052757793764987904,
          0.0455635491606714,
          0.043165467625899234,
          0.05288461538461542,
          0.055288461538461564,
          0.055288461538461564,
          0.04567307692307698,
          0.04567307692307698,
          0.050602409638554224,
          0.04819277108433728,
          0.06506024096385543,
          0.04819277108433728,
          0.06506024096385543,
          0.06280193236714982,
          0.0531400966183575,
          0.06763285024154597,
          0.05797101449275366,
          0.06038647342995174,
          0.05811138014527839,
          0.048426150121065326,
          0.07990314769975781,
          0.06295399515738498,
          0.06295399515738498,
          0.05582524271844669,
          0.050970873786407855,
          0.0728155339805826,
          0.05339805825242727,
          0.06796116504854377,
          0.05995203836930463,
          0.0383693045563549,
          0.04796163069544368,
          0.04796163069544368,
          0.052757793764988015,
          0.05048076923076916,
          0.04567307692307687,
          0.028846153846153855,
          0.04086538461538458,
          0.04807692307692302,
          0.05783132530120483,
          0.03373493975903619,
          0.053012048192771055,
          0.03614457831325302,
          0.06024096385542166,
          0.050724637681159424,
          0.04589371980676327,
          0.05555555555555547,
          0.04589371980676327,
          0.05314009661835739,
          0.07263922518159815,
          0.06295399515738498,
          0.06537530266343827,
          0.06295399515738498,
          0.07021791767554486,
          0.04126213592233008,
          0.050970873786407744,
          0.050970873786407744,
          0.04611650485436891,
          0.06067961165048541
         ],
         "y0": " ",
         "yaxis": "y"
        },
        {
         "alignmentgroup": "True",
         "boxpoints": "all",
         "fillcolor": "rgba(255,255,255,0)",
         "hoveron": "points",
         "hovertemplate": "ma=1<br>theta=%{x}<br>diff=%{y}<extra></extra>",
         "legendgroup": "1",
         "line": {
          "color": "rgba(255,255,255,0)"
         },
         "marker": {
          "color": "#636efa",
          "opacity": 0.5,
          "size": 5
         },
         "name": "1",
         "offsetgroup": "1",
         "orientation": "v",
         "pointpos": 0,
         "showlegend": false,
         "type": "box",
         "x": [
          "UNEMP",
          "LRIR",
          "UNEMP^2",
          "UNEMP LRIR",
          "LRIR^2",
          "UNEMP",
          "LRIR",
          "UNEMP^2",
          "UNEMP LRIR",
          "LRIR^2",
          "UNEMP",
          "LRIR",
          "UNEMP^2",
          "UNEMP LRIR",
          "LRIR^2",
          "UNEMP",
          "LRIR",
          "UNEMP^2",
          "UNEMP LRIR",
          "LRIR^2",
          "UNEMP",
          "LRIR",
          "UNEMP^2",
          "UNEMP LRIR",
          "LRIR^2",
          "UNEMP",
          "LRIR",
          "UNEMP^2",
          "UNEMP LRIR",
          "LRIR^2",
          "UNEMP",
          "LRIR",
          "UNEMP^2",
          "UNEMP LRIR",
          "LRIR^2",
          "UNEMP",
          "LRIR",
          "UNEMP^2",
          "UNEMP LRIR",
          "LRIR^2",
          "UNEMP",
          "LRIR",
          "UNEMP^2",
          "UNEMP LRIR",
          "LRIR^2",
          "UNEMP",
          "LRIR",
          "UNEMP^2",
          "UNEMP LRIR",
          "LRIR^2",
          "UNEMP",
          "LRIR",
          "UNEMP^2",
          "UNEMP LRIR",
          "LRIR^2",
          "UNEMP",
          "LRIR",
          "UNEMP^2",
          "UNEMP LRIR",
          "LRIR^2",
          "UNEMP",
          "LRIR",
          "UNEMP^2",
          "UNEMP LRIR",
          "LRIR^2",
          "UNEMP",
          "LRIR",
          "UNEMP^2",
          "UNEMP LRIR",
          "LRIR^2",
          "UNEMP",
          "LRIR",
          "UNEMP^2",
          "UNEMP LRIR",
          "LRIR^2",
          "UNEMP",
          "LRIR",
          "UNEMP^2",
          "UNEMP LRIR",
          "LRIR^2",
          "UNEMP",
          "LRIR",
          "UNEMP^2",
          "UNEMP LRIR",
          "LRIR^2",
          "UNEMP",
          "LRIR",
          "UNEMP^2",
          "UNEMP LRIR",
          "LRIR^2"
         ],
         "x0": " ",
         "xaxis": "x2",
         "y": [
          0.038962558502340094,
          0.03727496038617062,
          0.03735848964475019,
          0.03566067170988729,
          0.04208755850234014,
          0.041074249605055346,
          0.03271605872941363,
          0.03450397707437003,
          0.034377196761831263,
          0.040969097923754916,
          0.04306198083067103,
          0.03787488405647754,
          0.05298147369913386,
          0.039563108044841755,
          0.054515949084639304,
          0.04306709265175712,
          0.0379058023291764,
          0.04638447702177306,
          0.04126644956494041,
          0.04957426968525003,
          0.04487179487179482,
          0.03802588996763767,
          0.04818956336528224,
          0.04807692307692302,
          0.053030303030303094,
          0.03312658438266225,
          0.03126827027478496,
          0.044871794871794934,
          0.03974048299573352,
          0.053014967488651754,
          0.03065318107667203,
          0.037795153473344056,
          0.03434943273905999,
          0.029138762214983682,
          0.027150245499181547,
          0.03471207249342301,
          0.03644332341430112,
          0.03644332341430112,
          0.029484429011293223,
          0.029484429011293223,
          0.03318011531205989,
          0.030904000964410594,
          0.04344337157307343,
          0.03115996785209818,
          0.04365488644256876,
          0.04269293924466344,
          0.03525884534633905,
          0.04622963243652911,
          0.03885518869844906,
          0.041185496244851794,
          0.039024390243902474,
          0.03173535183627707,
          0.053753563509661095,
          0.04181868987265991,
          0.04204830302789142,
          0.03673985588879192,
          0.033213912524257205,
          0.04890093725045175,
          0.035226211696799736,
          0.0454545454545453,
          0.03944968152866246,
          0.024327100883501318,
          0.03158258887690524,
          0.03077871378672692,
          0.03477747705581913,
          0.0337688410684317,
          0.029216875446913315,
          0.018661097757988965,
          0.026281056310515583,
          0.031990741589273064,
          0.038747312171339865,
          0.01998914223669923,
          0.03583061889250805,
          0.02266131854523934,
          0.040549229240505635,
          0.033665924129891,
          0.029173070331590112,
          0.03913087808359583,
          0.030343664993678576,
          0.036243822075782584,
          0.04918032786885229,
          0.04076502732240417,
          0.04479982884497091,
          0.0415155791987839,
          0.047014340886380124,
          0.027668490086199538,
          0.034357453296901985,
          0.03590275832907752,
          0.03141430948419299,
          0.04250341839508398
         ],
         "y0": " ",
         "yaxis": "y2"
        },
        {
         "alignmentgroup": "True",
         "boxpoints": "all",
         "fillcolor": "rgba(255,255,255,0)",
         "hoveron": "points",
         "hovertemplate": "ma=2<br>theta=%{x}<br>diff=%{y}<extra></extra>",
         "legendgroup": "2",
         "line": {
          "color": "rgba(255,255,255,0)"
         },
         "marker": {
          "color": "#EF553B",
          "opacity": 0.5,
          "size": 5
         },
         "name": "2",
         "offsetgroup": "2",
         "orientation": "v",
         "pointpos": 0,
         "showlegend": true,
         "type": "box",
         "x": [
          "UNEMP",
          "LRIR",
          "UNEMP^2",
          "UNEMP LRIR",
          "LRIR^2",
          "UNEMP",
          "LRIR",
          "UNEMP^2",
          "UNEMP LRIR",
          "LRIR^2",
          "UNEMP",
          "LRIR",
          "UNEMP^2",
          "UNEMP LRIR",
          "LRIR^2",
          "UNEMP",
          "LRIR",
          "UNEMP^2",
          "UNEMP LRIR",
          "LRIR^2",
          "UNEMP",
          "LRIR",
          "UNEMP^2",
          "UNEMP LRIR",
          "LRIR^2",
          "UNEMP",
          "LRIR",
          "UNEMP^2",
          "UNEMP LRIR",
          "LRIR^2",
          "UNEMP",
          "LRIR",
          "UNEMP^2",
          "UNEMP LRIR",
          "LRIR^2",
          "UNEMP",
          "LRIR",
          "UNEMP^2",
          "UNEMP LRIR",
          "LRIR^2",
          "UNEMP",
          "LRIR",
          "UNEMP^2",
          "UNEMP LRIR",
          "LRIR^2",
          "UNEMP",
          "LRIR",
          "UNEMP^2",
          "UNEMP LRIR",
          "LRIR^2",
          "UNEMP",
          "LRIR",
          "UNEMP^2",
          "UNEMP LRIR",
          "LRIR^2",
          "UNEMP",
          "LRIR",
          "UNEMP^2",
          "UNEMP LRIR",
          "LRIR^2",
          "UNEMP",
          "LRIR",
          "UNEMP^2",
          "UNEMP LRIR",
          "LRIR^2",
          "UNEMP",
          "LRIR",
          "UNEMP^2",
          "UNEMP LRIR",
          "LRIR^2",
          "UNEMP",
          "LRIR",
          "UNEMP^2",
          "UNEMP LRIR",
          "LRIR^2",
          "UNEMP",
          "LRIR",
          "UNEMP^2",
          "UNEMP LRIR",
          "LRIR^2",
          "UNEMP",
          "LRIR",
          "UNEMP^2",
          "UNEMP LRIR",
          "LRIR^2",
          "UNEMP",
          "LRIR",
          "UNEMP^2",
          "UNEMP LRIR",
          "LRIR^2"
         ],
         "x0": " ",
         "xaxis": "x",
         "y": [
          0.048192771084337394,
          0.04578313253012045,
          0.04337349397590362,
          0.04578313253012045,
          0.04337349397590362,
          0.0531400966183575,
          0.050724637681159424,
          0.05555555555555558,
          0.05555555555555558,
          0.0531400966183575,
          0.04358353510895885,
          0.021791767554479424,
          0.029055690072639195,
          0.03631961259079908,
          0.03147699757869249,
          0.050970873786407744,
          0.03155339805825241,
          0.04854368932038833,
          0.04854368932038833,
          0.043689320388349495,
          0.041362530413625254,
          0.038929440389294356,
          0.05109489051094884,
          0.048661800486617945,
          0.05596107055961064,
          0.046341463414634076,
          0.04390243902439017,
          0.05365853658536579,
          0.046341463414634076,
          0.0585365853658536,
          0.06265060240963849,
          0.04578313253012045,
          0.04819277108433728,
          0.05783132530120472,
          0.06024096385542166,
          0.05797101449275355,
          0.05555555555555547,
          0.048309178743961345,
          0.04589371980676327,
          0.050724637681159424,
          0.03874092009685226,
          0.03874092009685226,
          0.05569007263922521,
          0.04358353510895885,
          0.053268765133171914,
          0.043689320388349606,
          0.043689320388349606,
          0.050970873786407855,
          0.04611650485436902,
          0.05339805825242727,
          0.06082725060827254,
          0.04622871046228716,
          0.06326034063260344,
          0.05596107055961075,
          0.06326034063260344,
          0.0536585365853659,
          0.06341463414634152,
          0.07073170731707323,
          0.06341463414634152,
          0.07317073170731714,
          0.048192771084337394,
          0.03855421686746985,
          0.03614457831325302,
          0.04337349397590362,
          0.04578313253012045,
          0.036231884057971064,
          0.03140096618357491,
          0.02657004830917875,
          0.03864734299516914,
          0.0434782608695653,
          0.03147699757869249,
          0.03389830508474578,
          0.03147699757869249,
          0.0266343825665859,
          0.03389830508474578,
          0.04611650485436891,
          0.03155339805825241,
          0.036407766990291246,
          0.03398058252427183,
          0.03883495145631066,
          0.038929440389294356,
          0.04379562043795615,
          0.048661800486618056,
          0.038929440389294356,
          0.04379562043795615,
          0.03414634146341455,
          0.046341463414634076,
          0.04146341463414627,
          0.03170731707317065,
          0.03902439024390236
         ],
         "y0": " ",
         "yaxis": "y"
        },
        {
         "alignmentgroup": "True",
         "boxpoints": "all",
         "fillcolor": "rgba(255,255,255,0)",
         "hoveron": "points",
         "hovertemplate": "ma=2<br>theta=%{x}<br>diff=%{y}<extra></extra>",
         "legendgroup": "2",
         "line": {
          "color": "rgba(255,255,255,0)"
         },
         "marker": {
          "color": "#EF553B",
          "opacity": 0.5,
          "size": 5
         },
         "name": "2",
         "offsetgroup": "2",
         "orientation": "v",
         "pointpos": 0,
         "showlegend": false,
         "type": "box",
         "x": [
          "UNEMP",
          "LRIR",
          "UNEMP^2",
          "UNEMP LRIR",
          "LRIR^2",
          "UNEMP",
          "LRIR",
          "UNEMP^2",
          "UNEMP LRIR",
          "LRIR^2",
          "UNEMP",
          "LRIR",
          "UNEMP^2",
          "UNEMP LRIR",
          "LRIR^2",
          "UNEMP",
          "LRIR",
          "UNEMP^2",
          "UNEMP LRIR",
          "LRIR^2",
          "UNEMP",
          "LRIR",
          "UNEMP^2",
          "UNEMP LRIR",
          "LRIR^2",
          "UNEMP",
          "LRIR",
          "UNEMP^2",
          "UNEMP LRIR",
          "LRIR^2",
          "UNEMP",
          "LRIR",
          "UNEMP^2",
          "UNEMP LRIR",
          "LRIR^2",
          "UNEMP",
          "LRIR",
          "UNEMP^2",
          "UNEMP LRIR",
          "LRIR^2",
          "UNEMP",
          "LRIR",
          "UNEMP^2",
          "UNEMP LRIR",
          "LRIR^2",
          "UNEMP",
          "LRIR",
          "UNEMP^2",
          "UNEMP LRIR",
          "LRIR^2",
          "UNEMP",
          "LRIR",
          "UNEMP^2",
          "UNEMP LRIR",
          "LRIR^2",
          "UNEMP",
          "LRIR",
          "UNEMP^2",
          "UNEMP LRIR",
          "LRIR^2",
          "UNEMP",
          "LRIR",
          "UNEMP^2",
          "UNEMP LRIR",
          "LRIR^2",
          "UNEMP",
          "LRIR",
          "UNEMP^2",
          "UNEMP LRIR",
          "LRIR^2",
          "UNEMP",
          "LRIR",
          "UNEMP^2",
          "UNEMP LRIR",
          "LRIR^2",
          "UNEMP",
          "LRIR",
          "UNEMP^2",
          "UNEMP LRIR",
          "LRIR^2",
          "UNEMP",
          "LRIR",
          "UNEMP^2",
          "UNEMP LRIR",
          "LRIR^2",
          "UNEMP",
          "LRIR",
          "UNEMP^2",
          "UNEMP LRIR",
          "LRIR^2"
         ],
         "x0": " ",
         "xaxis": "x2",
         "y": [
          0.03120554830816391,
          0.02948712252484398,
          0.02796199770803276,
          0.02948712252484398,
          0.027857508399528164,
          0.03503114325899137,
          0.03327529209882163,
          0.03666591439103306,
          0.03656076270973263,
          0.03492063492063502,
          0.028173401401747844,
          0.013278388278388231,
          0.018379077202606564,
          0.023199023199023117,
          0.019913207811296907,
          0.033270342152098786,
          0.019998171363553308,
          0.03164556962025311,
          0.03155515370705242,
          0.028279448520519224,
          0.02696424084226079,
          0.025157167886220688,
          0.03359982879068124,
          0.03183624150077813,
          0.036789621454158206,
          0.030389554265958574,
          0.028598014888337464,
          0.03535881051855505,
          0.03027065527065531,
          0.03855369869746861,
          0.04121812742923425,
          0.029259232581830164,
          0.031201998894054617,
          0.03782867875224549,
          0.039336066495588407,
          0.0376320245101992,
          0.035772151898734283,
          0.03087471600129832,
          0.029372151898734322,
          0.03238210374464112,
          0.0249247342658776,
          0.024738031641668434,
          0.036550554150286074,
          0.028140168349478856,
          0.0347256246937776,
          0.028254916604431135,
          0.027854338929257483,
          0.03338288120896826,
          0.02977600465444874,
          0.03472740851381628,
          0.040934564685452535,
          0.030334532853525165,
          0.04246089786667717,
          0.03749868018160696,
          0.042644180884458205,
          0.03485342019543969,
          0.04136807817589572,
          0.046859903381642476,
          0.04155844155844146,
          0.048387096774193505,
          0.03268608414239493,
          0.02484294688749289,
          0.023742994711500653,
          0.029126213592233108,
          0.03024705975215114,
          0.024127795527156493,
          0.020129032258064394,
          0.017461538461538417,
          0.025095008051529755,
          0.02831561996779386,
          0.019785113268608545,
          0.020677324632952798,
          0.020077419354838755,
          0.01624415584415595,
          0.021258995137763415,
          0.030312384244968515,
          0.01913665453632829,
          0.02418461538461547,
          0.021228771228771315,
          0.02506203473945423,
          0.025848142164781818,
          0.02787347736304524,
          0.03259633870015266,
          0.02491520554912796,
          0.028480239568146715,
          0.021393229342213438,
          0.02948802437258935,
          0.027902503307809523,
          0.019554249538152324,
          0.02540468288344755
         ],
         "y0": " ",
         "yaxis": "y2"
        },
        {
         "alignmentgroup": "True",
         "boxpoints": "all",
         "fillcolor": "rgba(255,255,255,0)",
         "hoveron": "points",
         "hovertemplate": "ma=3<br>theta=%{x}<br>diff=%{y}<extra></extra>",
         "legendgroup": "3",
         "line": {
          "color": "rgba(255,255,255,0)"
         },
         "marker": {
          "color": "#00cc96",
          "opacity": 0.5,
          "size": 5
         },
         "name": "3",
         "offsetgroup": "3",
         "orientation": "v",
         "pointpos": 0,
         "showlegend": true,
         "type": "box",
         "x": [
          "UNEMP",
          "LRIR",
          "UNEMP^2",
          "UNEMP LRIR",
          "LRIR^2",
          "UNEMP",
          "LRIR",
          "UNEMP^2",
          "UNEMP LRIR",
          "LRIR^2",
          "UNEMP",
          "LRIR",
          "UNEMP^2",
          "UNEMP LRIR",
          "LRIR^2",
          "UNEMP",
          "LRIR",
          "UNEMP^2",
          "UNEMP LRIR",
          "LRIR^2",
          "UNEMP",
          "LRIR",
          "UNEMP^2",
          "UNEMP LRIR",
          "LRIR^2",
          "UNEMP",
          "LRIR",
          "UNEMP^2",
          "UNEMP LRIR",
          "LRIR^2",
          "UNEMP",
          "LRIR",
          "UNEMP^2",
          "UNEMP LRIR",
          "LRIR^2",
          "UNEMP",
          "LRIR",
          "UNEMP^2",
          "UNEMP LRIR",
          "LRIR^2",
          "UNEMP",
          "LRIR",
          "UNEMP^2",
          "UNEMP LRIR",
          "LRIR^2",
          "UNEMP",
          "LRIR",
          "UNEMP^2",
          "UNEMP LRIR",
          "LRIR^2",
          "UNEMP",
          "LRIR",
          "UNEMP^2",
          "UNEMP LRIR",
          "LRIR^2",
          "UNEMP",
          "LRIR",
          "UNEMP^2",
          "UNEMP LRIR",
          "LRIR^2",
          "UNEMP",
          "LRIR",
          "UNEMP^2",
          "UNEMP LRIR",
          "LRIR^2",
          "UNEMP",
          "LRIR",
          "UNEMP^2",
          "UNEMP LRIR",
          "LRIR^2",
          "UNEMP",
          "LRIR",
          "UNEMP^2",
          "UNEMP LRIR",
          "LRIR^2",
          "UNEMP",
          "LRIR",
          "UNEMP^2",
          "UNEMP LRIR",
          "LRIR^2",
          "UNEMP",
          "LRIR",
          "UNEMP^2",
          "UNEMP LRIR",
          "LRIR^2",
          "UNEMP",
          "LRIR",
          "UNEMP^2",
          "UNEMP LRIR",
          "LRIR^2"
         ],
         "x0": " ",
         "xaxis": "x",
         "y": [
          0.04106280193236711,
          0.04347826086956519,
          0.04106280193236711,
          0.04347826086956519,
          0.04106280193236711,
          0.03389830508474567,
          0.041162227602905554,
          0.041162227602905554,
          0.03389830508474567,
          0.03874092009685226,
          0.036407766990291246,
          0.036407766990291246,
          0.04126213592233008,
          0.03883495145631066,
          0.03883495145631066,
          0.03649635036496346,
          0.05109489051094884,
          0.03406326034063256,
          0.041362530413625254,
          0.04379562043795615,
          0.03414634146341455,
          0.03170731707317065,
          0.03658536585365846,
          0.03658536585365846,
          0.03414634146341455,
          0.02933985330073352,
          0.02933985330073352,
          0.0317848410757946,
          0.02933985330073352,
          0.03911980440097795,
          0.050724637681159424,
          0.03623188405797095,
          0.04347826086956519,
          0.04106280193236711,
          0.050724637681159424,
          0.03874092009685237,
          0.04600484261501214,
          0.041162227602905554,
          0.03874092009685237,
          0.05084745762711862,
          0.03155339805825241,
          0.04126213592233008,
          0.03155339805825241,
          0.04126213592233008,
          0.036407766990291246,
          0.03649635036496346,
          0.02676399026763987,
          0.048661800486617945,
          0.029197080291970767,
          0.03406326034063256,
          0.056097560975609806,
          0.051219512195122,
          0.056097560975609806,
          0.04634146341463419,
          0.0536585365853659,
          0.03911980440097795,
          0.05134474327628358,
          0.046454767726161306,
          0.0488997555012225,
          0.05378973105134466,
          0.050724637681159424,
          0.04589371980676327,
          0.04106280193236711,
          0.048309178743961345,
          0.04347826086956519,
          0.04600484261501214,
          0.021791767554479424,
          0.03631961259079908,
          0.029055690072639195,
          0.029055690072639195,
          0.04854368932038844,
          0.043689320388349606,
          0.03398058252427194,
          0.05339805825242727,
          0.050970873786407855,
          0.04379562043795626,
          0.04379562043795626,
          0.04622871046228716,
          0.048661800486618056,
          0.04622871046228716,
          0.03658536585365857,
          0.039024390243902474,
          0.04146341463414638,
          0.039024390243902474,
          0.04634146341463419,
          0.02689486552567233,
          0.0488997555012225,
          0.0488997555012225,
          0.0488997555012225,
          0.041564792176039145
         ],
         "y0": " ",
         "yaxis": "y"
        },
        {
         "alignmentgroup": "True",
         "boxpoints": "all",
         "fillcolor": "rgba(255,255,255,0)",
         "hoveron": "points",
         "hovertemplate": "ma=3<br>theta=%{x}<br>diff=%{y}<extra></extra>",
         "legendgroup": "3",
         "line": {
          "color": "rgba(255,255,255,0)"
         },
         "marker": {
          "color": "#00cc96",
          "opacity": 0.5,
          "size": 5
         },
         "name": "3",
         "offsetgroup": "3",
         "orientation": "v",
         "pointpos": 0,
         "showlegend": false,
         "type": "box",
         "x": [
          "UNEMP",
          "LRIR",
          "UNEMP^2",
          "UNEMP LRIR",
          "LRIR^2",
          "UNEMP",
          "LRIR",
          "UNEMP^2",
          "UNEMP LRIR",
          "LRIR^2",
          "UNEMP",
          "LRIR",
          "UNEMP^2",
          "UNEMP LRIR",
          "LRIR^2",
          "UNEMP",
          "LRIR",
          "UNEMP^2",
          "UNEMP LRIR",
          "LRIR^2",
          "UNEMP",
          "LRIR",
          "UNEMP^2",
          "UNEMP LRIR",
          "LRIR^2",
          "UNEMP",
          "LRIR",
          "UNEMP^2",
          "UNEMP LRIR",
          "LRIR^2",
          "UNEMP",
          "LRIR",
          "UNEMP^2",
          "UNEMP LRIR",
          "LRIR^2",
          "UNEMP",
          "LRIR",
          "UNEMP^2",
          "UNEMP LRIR",
          "LRIR^2",
          "UNEMP",
          "LRIR",
          "UNEMP^2",
          "UNEMP LRIR",
          "LRIR^2",
          "UNEMP",
          "LRIR",
          "UNEMP^2",
          "UNEMP LRIR",
          "LRIR^2",
          "UNEMP",
          "LRIR",
          "UNEMP^2",
          "UNEMP LRIR",
          "LRIR^2",
          "UNEMP",
          "LRIR",
          "UNEMP^2",
          "UNEMP LRIR",
          "LRIR^2",
          "UNEMP",
          "LRIR",
          "UNEMP^2",
          "UNEMP LRIR",
          "LRIR^2",
          "UNEMP",
          "LRIR",
          "UNEMP^2",
          "UNEMP LRIR",
          "LRIR^2",
          "UNEMP",
          "LRIR",
          "UNEMP^2",
          "UNEMP LRIR",
          "LRIR^2",
          "UNEMP",
          "LRIR",
          "UNEMP^2",
          "UNEMP LRIR",
          "LRIR^2",
          "UNEMP",
          "LRIR",
          "UNEMP^2",
          "UNEMP LRIR",
          "LRIR^2",
          "UNEMP",
          "LRIR",
          "UNEMP^2",
          "UNEMP LRIR",
          "LRIR^2"
         ],
         "x0": " ",
         "xaxis": "x2",
         "y": [
          0.026409388724890293,
          0.027906976744186074,
          0.026409388724890293,
          0.027906976744186074,
          0.026303625595840097,
          0.021440351841671257,
          0.02616412039154692,
          0.026265389876880985,
          0.02132352941176474,
          0.024555616639178934,
          0.02315318818040446,
          0.023035633321470184,
          0.026385275407818654,
          0.02465944796131203,
          0.02465944796131203,
          0.023253532182103687,
          0.032858814352574206,
          0.021619496855346032,
          0.02639324960753553,
          0.028017241379310498,
          0.021545031055900554,
          0.019827998088867593,
          0.02315384540847465,
          0.02306107174447647,
          0.02144706867345536,
          0.018354895493309042,
          0.018251062318609845,
          0.01997396607789692,
          0.018251062318609845,
          0.02471785960275208,
          0.03288319032761322,
          0.023006889763779736,
          0.027968260188087846,
          0.02631966248037687,
          0.03274158841940533,
          0.024399950194218256,
          0.02918334414017376,
          0.02604854790192923,
          0.024562095225578395,
          0.03259158054873246,
          0.019358350627700527,
          0.0256377854785641,
          0.019185295336535013,
          0.02579010353832678,
          0.022334901635747695,
          0.022702060221870046,
          0.01617647058823546,
          0.030974842767295674,
          0.01803797468354429,
          0.021031746031746068,
          0.0362003578174136,
          0.03270927264247003,
          0.03635460393949186,
          0.02952962240399626,
          0.0345405901848822,
          0.024709831358434076,
          0.032963715763417833,
          0.029596430662386597,
          0.03128275417237758,
          0.03446746754817376,
          0.033568600447581365,
          0.029849681528662297,
          0.02693038328304831,
          0.03158258887690535,
          0.02838770069799157,
          0.0296747587387981,
          0.012649177803442546,
          0.023162935354083758,
          0.01806475933494689,
          0.018314330073276985,
          0.03129890453834128,
          0.027236495217120682,
          0.022158257222307687,
          0.034217515102827,
          0.03232080883478228,
          0.02815157928363221,
          0.027910470181763514,
          0.030085198340743746,
          0.031316136245657544,
          0.02961600183975166,
          0.023378117839442103,
          0.024580665610142716,
          0.027316312297839818,
          0.024840952691482454,
          0.02999018941966658,
          0.016456916623075468,
          0.03133676302466104,
          0.03209988878778691,
          0.03133676302466104,
          0.026392737013219425
         ],
         "y0": " ",
         "yaxis": "y2"
        }
       ],
       "layout": {
        "annotations": [
         {
          "font": {
           "color": "grey",
           "size": 11
          },
          "showarrow": false,
          "text": "Acc",
          "x": 0.225,
          "xanchor": "center",
          "xref": "paper",
          "y": 0.95,
          "yanchor": "bottom",
          "yref": "paper"
         },
         {
          "font": {
           "color": "grey",
           "size": 11
          },
          "showarrow": false,
          "text": "F1",
          "x": 0.775,
          "xanchor": "center",
          "xref": "paper",
          "y": 0.95,
          "yanchor": "bottom",
          "yref": "paper"
         }
        ],
        "height": 400,
        "legend": {
         "orientation": "h",
         "title": {
          "text": "Moving Averages:"
         },
         "x": 0.5,
         "xanchor": "center",
         "y": -0.1,
         "yanchor": "top"
        },
        "margin": {
         "b": 60,
         "l": 80,
         "r": 40,
         "t": 80
        },
        "template": {
         "data": {
          "bar": [
           {
            "error_x": {
             "color": "#f2f5fa"
            },
            "error_y": {
             "color": "#f2f5fa"
            },
            "marker": {
             "line": {
              "color": "rgb(17,17,17)",
              "width": 0.5
             },
             "pattern": {
              "fillmode": "overlay",
              "size": 10,
              "solidity": 0.2
             }
            },
            "type": "bar"
           }
          ],
          "barpolar": [
           {
            "marker": {
             "line": {
              "color": "rgb(17,17,17)",
              "width": 0.5
             },
             "pattern": {
              "fillmode": "overlay",
              "size": 10,
              "solidity": 0.2
             }
            },
            "type": "barpolar"
           }
          ],
          "carpet": [
           {
            "aaxis": {
             "endlinecolor": "#A2B1C6",
             "gridcolor": "#506784",
             "linecolor": "#506784",
             "minorgridcolor": "#506784",
             "startlinecolor": "#A2B1C6"
            },
            "baxis": {
             "endlinecolor": "#A2B1C6",
             "gridcolor": "#506784",
             "linecolor": "#506784",
             "minorgridcolor": "#506784",
             "startlinecolor": "#A2B1C6"
            },
            "type": "carpet"
           }
          ],
          "choropleth": [
           {
            "colorbar": {
             "outlinewidth": 0,
             "ticks": ""
            },
            "type": "choropleth"
           }
          ],
          "contour": [
           {
            "colorbar": {
             "outlinewidth": 0,
             "ticks": ""
            },
            "colorscale": [
             [
              0,
              "#0d0887"
             ],
             [
              0.1111111111111111,
              "#46039f"
             ],
             [
              0.2222222222222222,
              "#7201a8"
             ],
             [
              0.3333333333333333,
              "#9c179e"
             ],
             [
              0.4444444444444444,
              "#bd3786"
             ],
             [
              0.5555555555555556,
              "#d8576b"
             ],
             [
              0.6666666666666666,
              "#ed7953"
             ],
             [
              0.7777777777777778,
              "#fb9f3a"
             ],
             [
              0.8888888888888888,
              "#fdca26"
             ],
             [
              1,
              "#f0f921"
             ]
            ],
            "type": "contour"
           }
          ],
          "contourcarpet": [
           {
            "colorbar": {
             "outlinewidth": 0,
             "ticks": ""
            },
            "type": "contourcarpet"
           }
          ],
          "heatmap": [
           {
            "colorbar": {
             "outlinewidth": 0,
             "ticks": ""
            },
            "colorscale": [
             [
              0,
              "#0d0887"
             ],
             [
              0.1111111111111111,
              "#46039f"
             ],
             [
              0.2222222222222222,
              "#7201a8"
             ],
             [
              0.3333333333333333,
              "#9c179e"
             ],
             [
              0.4444444444444444,
              "#bd3786"
             ],
             [
              0.5555555555555556,
              "#d8576b"
             ],
             [
              0.6666666666666666,
              "#ed7953"
             ],
             [
              0.7777777777777778,
              "#fb9f3a"
             ],
             [
              0.8888888888888888,
              "#fdca26"
             ],
             [
              1,
              "#f0f921"
             ]
            ],
            "type": "heatmap"
           }
          ],
          "heatmapgl": [
           {
            "colorbar": {
             "outlinewidth": 0,
             "ticks": ""
            },
            "colorscale": [
             [
              0,
              "#0d0887"
             ],
             [
              0.1111111111111111,
              "#46039f"
             ],
             [
              0.2222222222222222,
              "#7201a8"
             ],
             [
              0.3333333333333333,
              "#9c179e"
             ],
             [
              0.4444444444444444,
              "#bd3786"
             ],
             [
              0.5555555555555556,
              "#d8576b"
             ],
             [
              0.6666666666666666,
              "#ed7953"
             ],
             [
              0.7777777777777778,
              "#fb9f3a"
             ],
             [
              0.8888888888888888,
              "#fdca26"
             ],
             [
              1,
              "#f0f921"
             ]
            ],
            "type": "heatmapgl"
           }
          ],
          "histogram": [
           {
            "marker": {
             "pattern": {
              "fillmode": "overlay",
              "size": 10,
              "solidity": 0.2
             }
            },
            "type": "histogram"
           }
          ],
          "histogram2d": [
           {
            "colorbar": {
             "outlinewidth": 0,
             "ticks": ""
            },
            "colorscale": [
             [
              0,
              "#0d0887"
             ],
             [
              0.1111111111111111,
              "#46039f"
             ],
             [
              0.2222222222222222,
              "#7201a8"
             ],
             [
              0.3333333333333333,
              "#9c179e"
             ],
             [
              0.4444444444444444,
              "#bd3786"
             ],
             [
              0.5555555555555556,
              "#d8576b"
             ],
             [
              0.6666666666666666,
              "#ed7953"
             ],
             [
              0.7777777777777778,
              "#fb9f3a"
             ],
             [
              0.8888888888888888,
              "#fdca26"
             ],
             [
              1,
              "#f0f921"
             ]
            ],
            "type": "histogram2d"
           }
          ],
          "histogram2dcontour": [
           {
            "colorbar": {
             "outlinewidth": 0,
             "ticks": ""
            },
            "colorscale": [
             [
              0,
              "#0d0887"
             ],
             [
              0.1111111111111111,
              "#46039f"
             ],
             [
              0.2222222222222222,
              "#7201a8"
             ],
             [
              0.3333333333333333,
              "#9c179e"
             ],
             [
              0.4444444444444444,
              "#bd3786"
             ],
             [
              0.5555555555555556,
              "#d8576b"
             ],
             [
              0.6666666666666666,
              "#ed7953"
             ],
             [
              0.7777777777777778,
              "#fb9f3a"
             ],
             [
              0.8888888888888888,
              "#fdca26"
             ],
             [
              1,
              "#f0f921"
             ]
            ],
            "type": "histogram2dcontour"
           }
          ],
          "mesh3d": [
           {
            "colorbar": {
             "outlinewidth": 0,
             "ticks": ""
            },
            "type": "mesh3d"
           }
          ],
          "parcoords": [
           {
            "line": {
             "colorbar": {
              "outlinewidth": 0,
              "ticks": ""
             }
            },
            "type": "parcoords"
           }
          ],
          "pie": [
           {
            "automargin": true,
            "type": "pie"
           }
          ],
          "scatter": [
           {
            "marker": {
             "line": {
              "color": "#283442"
             }
            },
            "type": "scatter"
           }
          ],
          "scatter3d": [
           {
            "line": {
             "colorbar": {
              "outlinewidth": 0,
              "ticks": ""
             }
            },
            "marker": {
             "colorbar": {
              "outlinewidth": 0,
              "ticks": ""
             }
            },
            "type": "scatter3d"
           }
          ],
          "scattercarpet": [
           {
            "marker": {
             "colorbar": {
              "outlinewidth": 0,
              "ticks": ""
             }
            },
            "type": "scattercarpet"
           }
          ],
          "scattergeo": [
           {
            "marker": {
             "colorbar": {
              "outlinewidth": 0,
              "ticks": ""
             }
            },
            "type": "scattergeo"
           }
          ],
          "scattergl": [
           {
            "marker": {
             "line": {
              "color": "#283442"
             }
            },
            "type": "scattergl"
           }
          ],
          "scattermapbox": [
           {
            "marker": {
             "colorbar": {
              "outlinewidth": 0,
              "ticks": ""
             }
            },
            "type": "scattermapbox"
           }
          ],
          "scatterpolar": [
           {
            "marker": {
             "colorbar": {
              "outlinewidth": 0,
              "ticks": ""
             }
            },
            "type": "scatterpolar"
           }
          ],
          "scatterpolargl": [
           {
            "marker": {
             "colorbar": {
              "outlinewidth": 0,
              "ticks": ""
             }
            },
            "type": "scatterpolargl"
           }
          ],
          "scatterternary": [
           {
            "marker": {
             "colorbar": {
              "outlinewidth": 0,
              "ticks": ""
             }
            },
            "type": "scatterternary"
           }
          ],
          "surface": [
           {
            "colorbar": {
             "outlinewidth": 0,
             "ticks": ""
            },
            "colorscale": [
             [
              0,
              "#0d0887"
             ],
             [
              0.1111111111111111,
              "#46039f"
             ],
             [
              0.2222222222222222,
              "#7201a8"
             ],
             [
              0.3333333333333333,
              "#9c179e"
             ],
             [
              0.4444444444444444,
              "#bd3786"
             ],
             [
              0.5555555555555556,
              "#d8576b"
             ],
             [
              0.6666666666666666,
              "#ed7953"
             ],
             [
              0.7777777777777778,
              "#fb9f3a"
             ],
             [
              0.8888888888888888,
              "#fdca26"
             ],
             [
              1,
              "#f0f921"
             ]
            ],
            "type": "surface"
           }
          ],
          "table": [
           {
            "cells": {
             "fill": {
              "color": "#506784"
             },
             "line": {
              "color": "rgb(17,17,17)"
             }
            },
            "header": {
             "fill": {
              "color": "#2a3f5f"
             },
             "line": {
              "color": "rgb(17,17,17)"
             }
            },
            "type": "table"
           }
          ]
         },
         "layout": {
          "annotationdefaults": {
           "arrowcolor": "#f2f5fa",
           "arrowhead": 0,
           "arrowwidth": 1
          },
          "autotypenumbers": "strict",
          "coloraxis": {
           "colorbar": {
            "outlinewidth": 0,
            "ticks": ""
           }
          },
          "colorscale": {
           "diverging": [
            [
             0,
             "#8e0152"
            ],
            [
             0.1,
             "#c51b7d"
            ],
            [
             0.2,
             "#de77ae"
            ],
            [
             0.3,
             "#f1b6da"
            ],
            [
             0.4,
             "#fde0ef"
            ],
            [
             0.5,
             "#f7f7f7"
            ],
            [
             0.6,
             "#e6f5d0"
            ],
            [
             0.7,
             "#b8e186"
            ],
            [
             0.8,
             "#7fbc41"
            ],
            [
             0.9,
             "#4d9221"
            ],
            [
             1,
             "#276419"
            ]
           ],
           "sequential": [
            [
             0,
             "#0d0887"
            ],
            [
             0.1111111111111111,
             "#46039f"
            ],
            [
             0.2222222222222222,
             "#7201a8"
            ],
            [
             0.3333333333333333,
             "#9c179e"
            ],
            [
             0.4444444444444444,
             "#bd3786"
            ],
            [
             0.5555555555555556,
             "#d8576b"
            ],
            [
             0.6666666666666666,
             "#ed7953"
            ],
            [
             0.7777777777777778,
             "#fb9f3a"
            ],
            [
             0.8888888888888888,
             "#fdca26"
            ],
            [
             1,
             "#f0f921"
            ]
           ],
           "sequentialminus": [
            [
             0,
             "#0d0887"
            ],
            [
             0.1111111111111111,
             "#46039f"
            ],
            [
             0.2222222222222222,
             "#7201a8"
            ],
            [
             0.3333333333333333,
             "#9c179e"
            ],
            [
             0.4444444444444444,
             "#bd3786"
            ],
            [
             0.5555555555555556,
             "#d8576b"
            ],
            [
             0.6666666666666666,
             "#ed7953"
            ],
            [
             0.7777777777777778,
             "#fb9f3a"
            ],
            [
             0.8888888888888888,
             "#fdca26"
            ],
            [
             1,
             "#f0f921"
            ]
           ]
          },
          "colorway": [
           "#636efa",
           "#EF553B",
           "#00cc96",
           "#ab63fa",
           "#FFA15A",
           "#19d3f3",
           "#FF6692",
           "#B6E880",
           "#FF97FF",
           "#FECB52"
          ],
          "font": {
           "color": "#f2f5fa"
          },
          "geo": {
           "bgcolor": "rgb(17,17,17)",
           "lakecolor": "rgb(17,17,17)",
           "landcolor": "rgb(17,17,17)",
           "showlakes": true,
           "showland": true,
           "subunitcolor": "#506784"
          },
          "hoverlabel": {
           "align": "left"
          },
          "hovermode": "closest",
          "mapbox": {
           "style": "dark"
          },
          "paper_bgcolor": "rgb(17,17,17)",
          "plot_bgcolor": "rgb(17,17,17)",
          "polar": {
           "angularaxis": {
            "gridcolor": "#506784",
            "linecolor": "#506784",
            "ticks": ""
           },
           "bgcolor": "rgb(17,17,17)",
           "radialaxis": {
            "gridcolor": "#506784",
            "linecolor": "#506784",
            "ticks": ""
           }
          },
          "scene": {
           "xaxis": {
            "backgroundcolor": "rgb(17,17,17)",
            "gridcolor": "#506784",
            "gridwidth": 2,
            "linecolor": "#506784",
            "showbackground": true,
            "ticks": "",
            "zerolinecolor": "#C8D4E3"
           },
           "yaxis": {
            "backgroundcolor": "rgb(17,17,17)",
            "gridcolor": "#506784",
            "gridwidth": 2,
            "linecolor": "#506784",
            "showbackground": true,
            "ticks": "",
            "zerolinecolor": "#C8D4E3"
           },
           "zaxis": {
            "backgroundcolor": "rgb(17,17,17)",
            "gridcolor": "#506784",
            "gridwidth": 2,
            "linecolor": "#506784",
            "showbackground": true,
            "ticks": "",
            "zerolinecolor": "#C8D4E3"
           }
          },
          "shapedefaults": {
           "line": {
            "color": "#f2f5fa"
           }
          },
          "sliderdefaults": {
           "bgcolor": "#C8D4E3",
           "bordercolor": "rgb(17,17,17)",
           "borderwidth": 1,
           "tickwidth": 0
          },
          "ternary": {
           "aaxis": {
            "gridcolor": "#506784",
            "linecolor": "#506784",
            "ticks": ""
           },
           "baxis": {
            "gridcolor": "#506784",
            "linecolor": "#506784",
            "ticks": ""
           },
           "bgcolor": "rgb(17,17,17)",
           "caxis": {
            "gridcolor": "#506784",
            "linecolor": "#506784",
            "ticks": ""
           }
          },
          "title": {
           "x": 0.05
          },
          "updatemenudefaults": {
           "bgcolor": "#506784",
           "borderwidth": 0
          },
          "xaxis": {
           "automargin": true,
           "gridcolor": "#283442",
           "linecolor": "#506784",
           "ticks": "",
           "title": {
            "standoff": 15
           },
           "zerolinecolor": "#283442",
           "zerolinewidth": 2
          },
          "yaxis": {
           "automargin": true,
           "gridcolor": "#283442",
           "linecolor": "#506784",
           "ticks": "",
           "title": {
            "standoff": 15
           },
           "zerolinecolor": "#283442",
           "zerolinewidth": 2
          }
         }
        },
        "title": {
         "text": "Observe Backward Elimination in All Models With Repect to Moving Averages<br><span style=\"font-size: 12.5px; color: lightgrey;\"> -- How meansures are changed by removing the impact of each coefficient</span>"
        },
        "width": 800,
        "xaxis": {
         "anchor": "y",
         "domain": [
          0,
          0.45
         ]
        },
        "xaxis2": {
         "anchor": "y2",
         "domain": [
          0.55,
          1
         ]
        },
        "yaxis": {
         "anchor": "x",
         "domain": [
          0,
          1
         ],
         "title": {
          "text": "Difference"
         }
        },
        "yaxis2": {
         "anchor": "x2",
         "domain": [
          0,
          1
         ]
        }
       }
      }
     },
     "metadata": {},
     "output_type": "display_data"
    }
   ],
   "source": [
    "# comparing model performance & backward elimination test\n",
    "fig2_1, fig2_2, fig2_3 = PA2.model_learning([1,3,6], model='LogR', alpha_=1, eta_=0.001, iter_=100)\n",
    "\n",
    "horizon_plots(fig2_1, 'Logistic Model').show()\n",
    "fig2_2.show()\n",
    "fig2_3.show()"
   ]
  },
  {
   "cell_type": "code",
   "execution_count": null,
   "metadata": {},
   "outputs": [],
   "source": []
  },
  {
   "cell_type": "code",
   "execution_count": null,
   "metadata": {},
   "outputs": [],
   "source": []
  },
  {
   "cell_type": "code",
   "execution_count": 30,
   "metadata": {},
   "outputs": [],
   "source": [
    "sc_opts = PA.sc_opts\n",
    "colors = ['#636EFA', '#EF553B', '#00CC96', '#AB63FA', '#FFA15A', '#19D3F3', '#FF6692', '#B6E880', '#FF97FF', '#FECB52']\n",
    "figs = fig1_1"
   ]
  },
  {
   "cell_type": "code",
   "execution_count": 32,
   "metadata": {},
   "outputs": [
    {
     "data": {
      "text/html": [
       "\n",
       "        <iframe\n",
       "            width=\"100%\"\n",
       "            height=\"650\"\n",
       "            src=\"http://127.0.0.1:8050/\"\n",
       "            frameborder=\"0\"\n",
       "            allowfullscreen\n",
       "            \n",
       "        ></iframe>\n",
       "        "
      ],
      "text/plain": [
       "<IPython.lib.display.IFrame at 0x1d377b80b90>"
      ]
     },
     "metadata": {},
     "output_type": "display_data"
    }
   ],
   "source": [
    "app = dash.Dash(__name__)\n",
    "\n",
    "# Sep up each component\n",
    "legends = dmc.ChipGroup(\n",
    "    id={'func': 'compare_perf', 'obj': 'legend'},\n",
    "    children=[\n",
    "        dmc.Chip(\n",
    "            children=str(sc),\n",
    "            value=str(sc),\n",
    "            variant=\"outline\", \n",
    "            color=colors[i]\n",
    "            ) for i, sc in enumerate(sc_opts)\n",
    "    ],\n",
    "    value=[str(sc) for sc in sc_opts],\n",
    "    multiple=True,\n",
    "    style={'display': 'flex', 'justifyContent': 'center'}\n",
    ")\n",
    "\n",
    "graphs = html.Div(\n",
    "    dbc.Row(\n",
    "        [\n",
    "            dbc.Col(\n",
    "                dbc.Card(\n",
    "                    dbc.CardBody([\n",
    "                        dcc.Graph(\n",
    "                            id={'func': 'compare_perf', 'obj': 'fig', 'id': str(i)},\n",
    "                            figure=fig,\n",
    "                        )\n",
    "                    ]),\n",
    "                    style={'margin': '5px'}\n",
    "                ),\n",
    "                width='auto'\n",
    "            ) for i, fig in enumerate(figs)\n",
    "        ],\n",
    "        style={'display': 'flex', 'overflowX': 'auto', 'width': '100%'},\n",
    "    ),\n",
    "    style={'maxWidth': '100vw'}\n",
    ")\n",
    "\n",
    "@app.callback(\n",
    "    output=Output({'func': 'compare_perf', 'obj': 'fig', 'id': ALL}, 'figure'),\n",
    "    inputs=Input({'func': 'compare_perf', 'obj': 'legend'}, 'value'),\n",
    "    state=State({'func': 'compare_perf', 'obj': 'fig', 'id': ALL}, 'figure')\n",
    ")\n",
    "def update_visibility(value, fig):\n",
    "    # Determine which input was triggered\n",
    "    triggered_id = ctx.triggered_id\n",
    "    if triggered_id:\n",
    "        # define output\n",
    "        outputs = []\n",
    "        # get the checked value as set \n",
    "        checked = set(value)\n",
    "        # traversing all figure data\n",
    "        for f in fig:\n",
    "            # define patch\n",
    "            p = Patch()\n",
    "            for i in range(len(f['data'])):\n",
    "                p['data'][i].update({'visible': f['data'][i]['name'] in checked})\n",
    "            \n",
    "            outputs.append(p)\n",
    "        \n",
    "        return outputs\n",
    "    \n",
    "    else:\n",
    "        return no_update\n",
    "\n",
    "\n",
    "# Set up the Dash app layout \n",
    "app.layout = html.Div([\n",
    "    legends, graphs\n",
    "])\n",
    "\n",
    "if __name__ == '__main__':\n",
    "    app.run_server(debug=False)"
   ]
  },
  {
   "cell_type": "markdown",
   "metadata": {},
   "source": [
    "html.H3('Comparing the Logistic Regression Model Results on Different Conditions', \n",
    "            style={ 'color': 'white'}),\n",
    "    html.Div(id='fixed-legend', style={'color': 'white'}, children=[\n",
    "        dcc.Markdown(\"\"\"\n",
    "            - Scopes: how many months of the latest data is used for parameter adjustments.\n",
    "            - Error Bars: Showing mean, min, and max of each measure among various future predictions.\n",
    "        \"\"\")\n",
    "    ]),"
   ]
  },
  {
   "cell_type": "code",
   "execution_count": null,
   "metadata": {},
   "outputs": [],
   "source": []
  },
  {
   "cell_type": "code",
   "execution_count": null,
   "metadata": {},
   "outputs": [],
   "source": []
  },
  {
   "cell_type": "code",
   "execution_count": null,
   "metadata": {},
   "outputs": [],
   "source": []
  },
  {
   "cell_type": "markdown",
   "metadata": {},
   "source": [
    "### Memo"
   ]
  },
  {
   "cell_type": "code",
   "execution_count": 24,
   "metadata": {},
   "outputs": [
    {
     "data": {
      "text/plain": [
       "[<matplotlib.lines.Line2D at 0x2375f9a4650>]"
      ]
     },
     "execution_count": 24,
     "metadata": {},
     "output_type": "execute_result"
    },
    {
     "data": {
      "image/png": "[encoded data removed]",
      "text/plain": [
       "<Figure size 640x480 with 1 Axes>"
      ]
     },
     "metadata": {},
     "output_type": "display_data"
    }
   ],
   "source": [
    "# how the coefficient of the first parameter (CSENT) changed over time\n",
    "plt.plot(PA.results['LinR']['1FP']['1MA_1SC']['theta'][:, 0])\n"
   ]
  },
  {
   "cell_type": "code",
   "execution_count": 4,
   "metadata": {},
   "outputs": [],
   "source": [
    "import dash\n",
    "from dash import Dash, html, dcc, Input, Output, State, ctx\n",
    "import pandas as pd\n",
    "import numpy as np\n",
    "from plotly.subplots import make_subplots\n",
    "import plotly.graph_objects as go"
   ]
  },
  {
   "cell_type": "code",
   "execution_count": 20,
   "metadata": {},
   "outputs": [
    {
     "data": {
      "text/html": [
       "\n",
       "        <iframe\n",
       "            width=\"100%\"\n",
       "            height=\"650\"\n",
       "            src=\"http://127.0.0.1:8050/\"\n",
       "            frameborder=\"0\"\n",
       "            allowfullscreen\n",
       "            \n",
       "        ></iframe>\n",
       "        "
      ],
      "text/plain": [
       "<IPython.lib.display.IFrame at 0x22a9e8a2b10>"
      ]
     },
     "metadata": {},
     "output_type": "display_data"
    }
   ],
   "source": [
    "# Assuming 'sample' is your DataFrame with the data you want to plot\n",
    "# And it has columns 'X', 'Y1', 'Y2', ... for your data\n",
    "\n",
    "# Sample data for three dataframes with similar structure\n",
    "s1 = pd.DataFrame({\n",
    "    'X': pd.date_range(start='1/1/2020', periods=100),\n",
    "    'Y1': np.random.randn(100).cumsum(),\n",
    "    'Y2': np.random.randn(100).cumsum(),\n",
    "    'Y3': np.random.randn(100).cumsum()\n",
    "})\n",
    "s2 = pd.DataFrame({\n",
    "    'X': pd.date_range(start='1/1/2020', periods=100),\n",
    "    'Y1': np.random.randn(100).cumsum()*0.5,\n",
    "    'Y2': np.random.randn(100).cumsum()*0.5,\n",
    "    'Y3': np.random.randn(100).cumsum()*0.5\n",
    "})  # Just for example, modify as needed\n",
    "\n",
    "s3 = pd.DataFrame({\n",
    "    'X': pd.date_range(start='1/1/2020', periods=100),\n",
    "    'Y1': np.random.randn(100).cumsum()*2,\n",
    "    'Y2': np.random.randn(100).cumsum()*2,\n",
    "    'Y3': np.random.randn(100).cumsum()*2\n",
    "})   # Just for example, modify as needed\n",
    "\n",
    "\n",
    "# Define the number of graphs you want to create\n",
    "fig = make_subplots(rows=1, cols=3, shared_yaxes=True)\n",
    "\n",
    "# Define colors for traces to ensure consistency across subplots\n",
    "colors = {'Y1': 'blue', 'Y2': 'red', 'Y3': 'green'}\n",
    "\n",
    "for i, s in enumerate([s1, s2, s3], start=1):\n",
    "    for col in ['Y1', 'Y2', 'Y3']:\n",
    "        fig.add_trace(\n",
    "            go.Scatter(\n",
    "                x=s['X'],\n",
    "                y=s[col],\n",
    "                name=col,\n",
    "                mode='lines+markers',\n",
    "                marker=dict(color=colors[col]),\n",
    "                showlegend=False, # Only the first subplot shows the legend,\n",
    "                visible=True\n",
    "            ),\n",
    "            row=1, col=i\n",
    "        )\n",
    "\n",
    "# Update layout to Plotly's dark theme\n",
    "fig.update_layout(\n",
    "    plot_bgcolor='black',\n",
    "    paper_bgcolor='black',\n",
    "    font={'color': 'white'},\n",
    "    legend=dict(orientation=\"h\", yanchor=\"bottom\", y=1.02, xanchor=\"right\", x=1),\n",
    "    uirevision='constant' # keeps the user-selected legend state consistent across updates\n",
    ")\n",
    "\n",
    "\n",
    "app = dash.Dash(__name__)\n",
    "# Set up the Dash app layout\n",
    "app.layout = html.Div([\n",
    "    html.Div(id='custom-legend', children=[\n",
    "        html.Button('Y1', id='legend-y1', n_clicks=0),\n",
    "        html.Button('Y2', id='legend-y2', n_clicks=0),\n",
    "        html.Button('Y3', id='legend-y3', n_clicks=0)\n",
    "    ], style={'display': 'flex', 'justifyContent': 'center'}),\n",
    "    html.Div(style={'width': '600px', 'overflowX': 'scroll'}, children=[\n",
    "        dcc.Graph(id='subplots-graph', figure=fig, style={'width': '1500px'})\n",
    "    ])\n",
    "])\n",
    "\n",
    "\n",
    "@app.callback(\n",
    "    output=Output('subplots-graph', 'figure'),\n",
    "    inputs=dict(\n",
    "        data=dict(\n",
    "            y1=Input('legend-y1', 'n_clicks'),\n",
    "            y2=Input('legend-y2', 'n_clicks'),\n",
    "            y3=Input('legend-y3', 'n_clicks'),\n",
    "        ),\n",
    "    ),\n",
    "    state=dict(fig=State('subplots-graph', 'figure'))\n",
    ")\n",
    "def update_graph_visibility(data, fig):\n",
    "    # Determine which input was triggered\n",
    "    triggered_id = ctx.triggered_id\n",
    "\n",
    "    if triggered_id in {'legend-y1', 'legend-y2', 'legend-y3'}:\n",
    "        # Get series name (e.g., 'Y1', 'Y2', 'Y3')\n",
    "        series_name = triggered_id.split('-')[-1]\n",
    "        # Toggle visibility\n",
    "        visibility = False if data[series_name] % 2 == 1 else True\n",
    "    \n",
    "        # Update traces\n",
    "        for trace in fig['data']:\n",
    "            if trace['name'].lower() == series_name:\n",
    "                trace['visible'] = visibility\n",
    "\n",
    "    return fig\n",
    "\n",
    "\n",
    "if __name__ == '__main__':\n",
    "    app.run_server(debug=True)\n"
   ]
  },
  {
   "cell_type": "code",
   "execution_count": null,
   "metadata": {},
   "outputs": [],
   "source": []
  }
 ],
 "metadata": {
  "kernelspec": {
   "display_name": "Python 3",
   "language": "python",
   "name": "python3"
  },
  "language_info": {
   "codemirror_mode": {
    "name": "ipython",
    "version": 3
   },
   "file_extension": ".py",
   "mimetype": "text/x-python",
   "name": "python",
   "nbconvert_exporter": "python",
   "pygments_lexer": "ipython3",
   "version": "3.11.6"
  }
 },
 "nbformat": 4,
 "nbformat_minor": 2
}
